{
 "cells": [
  {
   "cell_type": "code",
   "execution_count": 1,
   "id": "d0dbd024-57c7-4517-a652-5f4bf509c843",
   "metadata": {},
   "outputs": [],
   "source": [
    "%reload_ext autoreload\n",
    "%autoreload 2"
   ]
  },
  {
   "cell_type": "code",
   "execution_count": 3,
   "id": "0b805dad-77e8-43df-b6e6-0dc35ca30190",
   "metadata": {},
   "outputs": [],
   "source": [
    "import os\n",
    "import logging\n",
    "import sys\n",
    "from rec_to_nwb.processing.builder.nwb_file_builder import NWBFileBuilder\n",
    "from rec_to_binaries import extract_trodes_rec_file\n",
    "from rec_to_nwb.processing.builder.raw_to_nwb_builder import RawToNWBBuilder\n",
    "from rec_to_nwb.processing.metadata.metadata_manager import MetadataManager\n",
    "\n",
    "import numpy as np\n",
    "#import matplotlib.pyplot as plt\n",
    "\n",
    "from rec_to_nwb.processing.tools.file_sorter import FileSorter"
   ]
  },
  {
   "cell_type": "code",
   "execution_count": 11,
   "id": "ecfd17c3-09cf-4f9f-acd7-74d5f0f7e7fe",
   "metadata": {},
   "outputs": [],
   "source": [
    "date_path='/opt/stelmo/shijie/recording_pilot/molly/preprocessing/20220420'\n",
    "#date_path='/opt/stelmo/alison/beans/preprocessing/20190718'\n",
    "directories = FileSorter.sort_filenames(os.listdir(date_path))"
   ]
  },
  {
   "cell_type": "code",
   "execution_count": 12,
   "id": "74ed9017-d644-4327-bd80-d1c598255625",
   "metadata": {},
   "outputs": [
    {
     "data": {
      "text/plain": [
       "['20220420_molly_01_Seq2Sleep1.DIO',\n",
       " '20220420_molly_01_Seq2Sleep1.mda',\n",
       " '20220420_molly_03_Seq2Sleep2.DIO',\n",
       " '20220420_molly_03_Seq2Sleep2.mda',\n",
       " '20220420_molly_05_Seq2Sleep3.DIO',\n",
       " '20220420_molly_05_Seq2Sleep3.mda',\n",
       " '20220420_molly_07_Seq2Sleep4.DIO',\n",
       " '20220420_molly_07_Seq2Sleep4.mda',\n",
       " '20220420_molly_09_Seq2Sleep5.DIO',\n",
       " '20220420_molly_09_Seq2Sleep5.mda',\n",
       " '20220420_molly_11_Seq2Sleep6.DIO',\n",
       " '20220420_molly_11_Seq2Sleep6.mda',\n",
       " '20220420_molly_13_Seq2Sleep7.DIO',\n",
       " '20220420_molly_13_Seq2Sleep7.mda',\n",
       " '20220420_molly_01_Seq2Sleep1.time',\n",
       " '20220420_molly_03_Seq2Sleep2.time',\n",
       " '20220420_molly_05_Seq2Sleep3.time',\n",
       " '20220420_molly_07_Seq2Sleep4.time',\n",
       " '20220420_molly_09_Seq2Sleep5.time',\n",
       " '20220420_molly_11_Seq2Sleep6.time',\n",
       " '20220420_molly_13_Seq2Sleep7.time',\n",
       " '20220420_molly_01_Seq2Sleep1.1.pos',\n",
       " '20220420_molly_02_Seq2Session1.DIO',\n",
       " '20220420_molly_02_Seq2Session1.mda',\n",
       " '20220420_molly_03_Seq2Sleep2.1.pos',\n",
       " '20220420_molly_04_Seq2Session2.DIO',\n",
       " '20220420_molly_04_Seq2Session2.mda',\n",
       " '20220420_molly_05_Seq2Sleep3.1.pos',\n",
       " '20220420_molly_06_Seq2Session3.DIO',\n",
       " '20220420_molly_06_Seq2Session3.mda',\n",
       " '20220420_molly_07_Seq2Sleep4.2.pos',\n",
       " '20220420_molly_08_Seq2Session4.DIO',\n",
       " '20220420_molly_08_Seq2Session4.mda',\n",
       " '20220420_molly_09_Seq2Sleep5.2.pos',\n",
       " '20220420_molly_10_Seq2Session5.DIO',\n",
       " '20220420_molly_10_Seq2Session5.mda',\n",
       " '20220420_molly_11_Seq2Sleep6.2.pos',\n",
       " '20220420_molly_12_Seq2Session6.DIO',\n",
       " '20220420_molly_12_Seq2Session6.mda',\n",
       " '20220420_molly_13_Seq2Sleep7.1.pos',\n",
       " '20220420_molly_01_Seq2Sleep1.analog',\n",
       " '20220420_molly_02_Seq2Session1.time',\n",
       " '20220420_molly_03_Seq2Sleep2.analog',\n",
       " '20220420_molly_04_Seq2Session2.time',\n",
       " '20220420_molly_05_Seq2Sleep3.analog',\n",
       " '20220420_molly_06_Seq2Session3.time',\n",
       " '20220420_molly_07_Seq2Sleep4.analog',\n",
       " '20220420_molly_08_Seq2Session4.time',\n",
       " '20220420_molly_09_Seq2Sleep5.analog',\n",
       " '20220420_molly_10_Seq2Session5.time',\n",
       " '20220420_molly_11_Seq2Sleep6.analog',\n",
       " '20220420_molly_12_Seq2Session6.time',\n",
       " '20220420_molly_13_Seq2Sleep7.analog',\n",
       " '20220420_molly_02_Seq2Session1.2.pos',\n",
       " '20220420_molly_04_Seq2Session2.2.pos',\n",
       " '20220420_molly_06_Seq2Session3.1.pos',\n",
       " '20220420_molly_08_Seq2Session4.1.pos',\n",
       " '20220420_molly_10_Seq2Session5.1.pos',\n",
       " '20220420_molly_12_Seq2Session6.2.pos',\n",
       " '20220420_molly_02_Seq2Session1.analog',\n",
       " '20220420_molly_04_Seq2Session2.analog',\n",
       " '20220420_molly_06_Seq2Session3.analog',\n",
       " '20220420_molly_08_Seq2Session4.analog',\n",
       " '20220420_molly_10_Seq2Session5.analog',\n",
       " '20220420_molly_12_Seq2Session6.analog',\n",
       " '20220420_molly_01_Seq2Sleep1.mountainsort',\n",
       " '20220420_molly_03_Seq2Sleep2.mountainsort',\n",
       " '20220420_molly_05_Seq2Sleep3.mountainsort',\n",
       " '20220420_molly_07_Seq2Sleep4.mountainsort',\n",
       " '20220420_molly_09_Seq2Sleep5.mountainsort',\n",
       " '20220420_molly_11_Seq2Sleep6.mountainsort',\n",
       " '20220420_molly_13_Seq2Sleep7.mountainsort',\n",
       " '20220420_molly_02_Seq2Session1.mountainsort',\n",
       " '20220420_molly_04_Seq2Session2.mountainsort',\n",
       " '20220420_molly_06_Seq2Session3.mountainsort',\n",
       " '20220420_molly_08_Seq2Session4.mountainsort',\n",
       " '20220420_molly_10_Seq2Session5.mountainsort',\n",
       " '20220420_molly_12_Seq2Session6.mountainsort',\n",
       " '20220420_molly_01_Seq2Sleep1.timestampoffset',\n",
       " '20220420_molly_03_Seq2Sleep2.timestampoffset',\n",
       " '20220420_molly_05_Seq2Sleep3.timestampoffset',\n",
       " '20220420_molly_07_Seq2Sleep4.timestampoffset',\n",
       " '20220420_molly_09_Seq2Sleep5.timestampoffset',\n",
       " '20220420_molly_11_Seq2Sleep6.timestampoffset',\n",
       " '20220420_molly_13_Seq2Sleep7.timestampoffset',\n",
       " '20220420_molly_02_Seq2Session1.timestampoffset',\n",
       " '20220420_molly_04_Seq2Session2.timestampoffset',\n",
       " '20220420_molly_06_Seq2Session3.timestampoffset',\n",
       " '20220420_molly_08_Seq2Session4.timestampoffset',\n",
       " '20220420_molly_10_Seq2Session5.timestampoffset',\n",
       " '20220420_molly_12_Seq2Session6.timestampoffset']"
      ]
     },
     "execution_count": 12,
     "metadata": {},
     "output_type": "execute_result"
    }
   ],
   "source": [
    "directories"
   ]
  },
  {
   "cell_type": "code",
   "execution_count": 30,
   "id": "bcbbc59b-def7-41c1-94cc-b91e78153714",
   "metadata": {},
   "outputs": [],
   "source": [
    "all_datasets = {}\n",
    "for directory in directories:\n",
    "        epoch_num=directory.split('_')[2]\n",
    "        epoch_tag=directory.split('_')[3]\n",
    "        dataset_name = (epoch_num + '_' + epoch_tag).split('.')[0]\n",
    "        if epoch_num in all_datasets:\n",
    "                    # check if the current epoch_tag is consistent\n",
    "            assert all_datasets[epoch_num]==dataset_name,\"epoch names for epoch \"+epoch_num+\" are not consistent across files\"\n",
    "        else:\n",
    "            all_datasets[epoch_num]=dataset_name\n",
    "        all_datasets_names=[all_datasets[e] for e in sorted(all_datasets.keys())]"
   ]
  },
  {
   "cell_type": "code",
   "execution_count": 31,
   "id": "de77a08e-34dc-4c90-8539-3f4703838d05",
   "metadata": {},
   "outputs": [
    {
     "data": {
      "text/plain": [
       "['01_Seq2Sleep1',\n",
       " '02_Seq2Session1',\n",
       " '03_Seq2Sleep2',\n",
       " '04_Seq2Session2',\n",
       " '05_Seq2Sleep3',\n",
       " '06_Seq2Session3',\n",
       " '07_Seq2Sleep4',\n",
       " '08_Seq2Session4',\n",
       " '09_Seq2Sleep5',\n",
       " '10_Seq2Session5',\n",
       " '11_Seq2Sleep6',\n",
       " '12_Seq2Session6',\n",
       " '13_Seq2Sleep7']"
      ]
     },
     "execution_count": 31,
     "metadata": {},
     "output_type": "execute_result"
    }
   ],
   "source": [
    "all_datasets_names"
   ]
  },
  {
   "cell_type": "code",
   "execution_count": 22,
   "id": "5f343aba-4811-4ab2-805a-6cc49428deff",
   "metadata": {},
   "outputs": [
    {
     "data": {
      "text/plain": [
       "['Seq2Sleep1', 'DIO']"
      ]
     },
     "execution_count": 22,
     "metadata": {},
     "output_type": "execute_result"
    }
   ],
   "source": [
    "dir_last_part = dir_split.pop().split('.')\n",
    "dir_last_part"
   ]
  },
  {
   "cell_type": "code",
   "execution_count": 24,
   "id": "2e437964-f0fd-48f1-a3e4-41f4755a73ca",
   "metadata": {},
   "outputs": [
    {
     "data": {
      "text/plain": [
       "['02', '10', '11']"
      ]
     },
     "execution_count": 24,
     "metadata": {},
     "output_type": "execute_result"
    }
   ],
   "source": [
    "sorted([11,02,10])"
   ]
  },
  {
   "cell_type": "code",
   "execution_count": 16,
   "id": "9d4a93b9-6c35-4f66-a630-c80f3de3a060",
   "metadata": {},
   "outputs": [],
   "source": [
    "directory='20220420_molly_01_Seq2Sleep1.DIO'\n",
    "dir_split = directory.split('_')\n",
    "dir_last_part = dir_split.pop().split('.')\n",
    "dataset_name = dir_split.pop() + '_' + dir_last_part[0]"
   ]
  },
  {
   "cell_type": "code",
   "execution_count": 18,
   "id": "3ac90730-da43-4241-9371-5eb5c524fa99",
   "metadata": {},
   "outputs": [
    {
     "data": {
      "text/plain": [
       "'01_Seq2Sleep1'"
      ]
     },
     "execution_count": 18,
     "metadata": {},
     "output_type": "execute_result"
    }
   ],
   "source": [
    "dataset_name"
   ]
  },
  {
   "cell_type": "code",
   "execution_count": 32,
   "id": "a3017e00-4bea-4d76-96db-16e499cc23f0",
   "metadata": {},
   "outputs": [],
   "source": [
    "# set the animal name and the date or list of dates to process\n",
    "animal_name = 'molly'\n",
    "dates = ['20220420']\n",
    "# note that code currently only takes one date at a time;\n",
    "# build a loop through date strings to create multiiple nwb files at once\n",
    "\n",
    "# path to dir containing device and animal/date .yml files\n",
    "# for example, '/home/<yourusername>/Src/franklabnwb/yaml'\n",
    "animal_yaml_path = '/opt/stelmo/shijie/recording_pilot/molly/raw/'+dates[0]\n",
    "# metadata filename for an animal and date. This is a file that you generate as the user.\n",
    "# for example,  '<ratname><date>_metadata.yml'\n",
    "animal_metadata_file = dates[0]+'_'+animal_name+'.yaml' #'20220415_molly.yaml' #bad_channels in yaml will be left out of the .nwb filie\n",
    "# metadata filename for a recording device type;\n",
    "# typically these are common lab files that you shouldn't need to personalize\n",
    "probe_yaml_path = '/home/shijiegu/Documents/franklabnwb/yaml'\n",
    "probe_metadata_file = 'tetrode_12.5.yml'\n",
    "\n",
    "animal_metadata = os.path.join(animal_yaml_path, animal_metadata_file )\n",
    "probe_metadata = [os.path.join(probe_yaml_path, probe_metadata_file)]\n",
    "metadata = MetadataManager(animal_metadata, probe_metadata)"
   ]
  },
  {
   "cell_type": "code",
   "execution_count": 34,
   "id": "aa87fe98-288f-4bfe-879d-d91e67ef6cc3",
   "metadata": {},
   "outputs": [],
   "source": [
    "from rec_to_nwb.processing.tools.data_scanner import DataScanner"
   ]
  },
  {
   "cell_type": "code",
   "execution_count": 36,
   "id": "a542484c-8ee5-4f43-8f72-0d84ca017fca",
   "metadata": {},
   "outputs": [],
   "source": [
    "ds=DataScanner('/opt/stelmo/shijie/recording_pilot/',animal_name,metadata)"
   ]
  },
  {
   "cell_type": "code",
   "execution_count": 37,
   "id": "f011003a-3a9a-4f8c-b002-7d9a0600adaa",
   "metadata": {},
   "outputs": [
    {
     "data": {
      "text/plain": [
       "['01_Seq2Sleep1',\n",
       " '02_Seq2Session1',\n",
       " '03_Seq2Sleep2',\n",
       " '04_Seq2Session2',\n",
       " '05_Seq2Sleep3',\n",
       " '06_Seq2Session3',\n",
       " '07_Seq2Sleep4',\n",
       " '08_Seq2Session4',\n",
       " '09_Seq2Sleep5',\n",
       " '10_Seq2Session5',\n",
       " '11_Seq2Sleep6',\n",
       " '12_Seq2Session6',\n",
       " '13_Seq2Sleep7']"
      ]
     },
     "execution_count": 37,
     "metadata": {},
     "output_type": "execute_result"
    }
   ],
   "source": [
    "ds.get_all_epochs('20220420')"
   ]
  },
  {
   "cell_type": "code",
   "execution_count": null,
   "id": "ec853b33-a449-4912-85f5-bdd1162148ef",
   "metadata": {},
   "outputs": [],
   "source": []
  }
 ],
 "metadata": {
  "kernelspec": {
   "display_name": "Python [conda env:rec_to_nwb]",
   "language": "python",
   "name": "conda-env-rec_to_nwb-py"
  },
  "language_info": {
   "codemirror_mode": {
    "name": "ipython",
    "version": 3
   },
   "file_extension": ".py",
   "mimetype": "text/x-python",
   "name": "python",
   "nbconvert_exporter": "python",
   "pygments_lexer": "ipython3",
   "version": "3.7.12"
  }
 },
 "nbformat": 4,
 "nbformat_minor": 5
}
