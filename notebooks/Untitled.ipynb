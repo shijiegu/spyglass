{
 "cells": [
  {
   "cell_type": "code",
   "execution_count": 43,
   "id": "d8ec68d7-a503-4385-b7d7-2ffaff983803",
   "metadata": {},
   "outputs": [],
   "source": [
    "%reload_ext autoreload\n",
    "%autoreload 2"
   ]
  },
  {
   "cell_type": "code",
   "execution_count": 29,
   "id": "c0531231-cb45-4615-a1a1-f887d6edb939",
   "metadata": {},
   "outputs": [],
   "source": [
    "import numpy as np\n",
    "import matplotlib.pyplot as plt"
   ]
  },
  {
   "cell_type": "code",
   "execution_count": 7,
   "id": "5f238e54-8cb1-4bec-b3ec-65e4fa8442ef",
   "metadata": {},
   "outputs": [],
   "source": [
    "from spyglass.common.nwb_helper_fn import (estimate_sampling_rate, get_data_interface,\n",
    "                            get_electrode_indices, get_nwb_file,\n",
    "           \n",
    "                                           get_valid_intervals, invalid_electrode_index)"
   ]
  },
  {
   "cell_type": "code",
   "execution_count": 8,
   "id": "38f62644-e084-410c-9383-647c7fb5f535",
   "metadata": {},
   "outputs": [],
   "source": [
    "from spyglass.common.common_nwbfile import AnalysisNwbfile, Nwbfile"
   ]
  },
  {
   "cell_type": "code",
   "execution_count": 27,
   "id": "5797227a-474e-44b1-b8bb-0972881750a2",
   "metadata": {},
   "outputs": [
    {
     "ename": "ModuleNotFoundError",
     "evalue": "No module named 'rec_to_nwb'",
     "output_type": "error",
     "traceback": [
      "\u001b[0;31m---------------------------------------------------------------------------\u001b[0m",
      "\u001b[0;31mModuleNotFoundError\u001b[0m                       Traceback (most recent call last)",
      "Input \u001b[0;32mIn [27]\u001b[0m, in \u001b[0;36m<cell line: 4>\u001b[0;34m()\u001b[0m\n\u001b[1;32m      2\u001b[0m \u001b[38;5;28;01mimport\u001b[39;00m \u001b[38;5;21;01mlogging\u001b[39;00m\n\u001b[1;32m      3\u001b[0m \u001b[38;5;28;01mimport\u001b[39;00m \u001b[38;5;21;01msys\u001b[39;00m\n\u001b[0;32m----> 4\u001b[0m \u001b[38;5;28;01mfrom\u001b[39;00m \u001b[38;5;21;01mrec_to_nwb\u001b[39;00m\u001b[38;5;21;01m.\u001b[39;00m\u001b[38;5;21;01mprocessing\u001b[39;00m\u001b[38;5;21;01m.\u001b[39;00m\u001b[38;5;21;01mbuilder\u001b[39;00m\u001b[38;5;21;01m.\u001b[39;00m\u001b[38;5;21;01mnwb_file_builder\u001b[39;00m \u001b[38;5;28;01mimport\u001b[39;00m NWBFileBuilder\n\u001b[1;32m      5\u001b[0m \u001b[38;5;28;01mfrom\u001b[39;00m \u001b[38;5;21;01mrec_to_binaries\u001b[39;00m \u001b[38;5;28;01mimport\u001b[39;00m extract_trodes_rec_file\n\u001b[1;32m      6\u001b[0m \u001b[38;5;28;01mfrom\u001b[39;00m \u001b[38;5;21;01mrec_to_nwb\u001b[39;00m\u001b[38;5;21;01m.\u001b[39;00m\u001b[38;5;21;01mprocessing\u001b[39;00m\u001b[38;5;21;01m.\u001b[39;00m\u001b[38;5;21;01mbuilder\u001b[39;00m\u001b[38;5;21;01m.\u001b[39;00m\u001b[38;5;21;01mraw_to_nwb_builder\u001b[39;00m \u001b[38;5;28;01mimport\u001b[39;00m RawToNWBBuilder\n",
      "\u001b[0;31mModuleNotFoundError\u001b[0m: No module named 'rec_to_nwb'"
     ]
    }
   ],
   "source": [
    "import os\n",
    "import logging\n",
    "import sys\n",
    "from rec_to_nwb.processing.builder.nwb_file_builder import NWBFileBuilder\n",
    "from rec_to_binaries import extract_trodes_rec_file\n",
    "from rec_to_nwb.processing.builder.raw_to_nwb_builder import RawToNWBBuilder\n",
    "from rec_to_nwb.processing.metadata.metadata_manager import MetadataManager\n",
    "import matplotlib.pyplot as plt"
   ]
  },
  {
   "cell_type": "code",
   "execution_count": 59,
   "id": "1b1cd8c7-f7e3-4f62-bc01-0d5fa6bc43dd",
   "metadata": {},
   "outputs": [],
   "source": [
    "nwb_file_name='/opt/stelmo/nwb/raw/molly20220415.nwb'"
   ]
  },
  {
   "cell_type": "code",
   "execution_count": 62,
   "id": "6f22e0de-7f1a-4cd7-ae4a-dbf23849db44",
   "metadata": {},
   "outputs": [],
   "source": [
    "\n",
    "io = pynwb.NWBHDF5IO(nwb_file_name,'r')\n",
    "nwbf = io.read()"
   ]
  },
  {
   "cell_type": "code",
   "execution_count": 61,
   "id": "b3bdf917-d3dd-4d73-8b02-c15fede16b6c",
   "metadata": {},
   "outputs": [
    {
     "data": {
      "text/html": [
       "<div>\n",
       "<style scoped>\n",
       "    .dataframe tbody tr th:only-of-type {\n",
       "        vertical-align: middle;\n",
       "    }\n",
       "\n",
       "    .dataframe tbody tr th {\n",
       "        vertical-align: top;\n",
       "    }\n",
       "\n",
       "    .dataframe thead th {\n",
       "        text-align: right;\n",
       "    }\n",
       "</style>\n",
       "<table border=\"1\" class=\"dataframe\">\n",
       "  <thead>\n",
       "    <tr style=\"text-align: right;\">\n",
       "      <th></th>\n",
       "      <th>start_time</th>\n",
       "      <th>stop_time</th>\n",
       "      <th>tags</th>\n",
       "    </tr>\n",
       "    <tr>\n",
       "      <th>id</th>\n",
       "      <th></th>\n",
       "      <th></th>\n",
       "      <th></th>\n",
       "    </tr>\n",
       "  </thead>\n",
       "  <tbody>\n",
       "    <tr>\n",
       "      <th>0</th>\n",
       "      <td>1.650046e+09</td>\n",
       "      <td>1.650048e+09</td>\n",
       "      <td>[01_SeqSleep1]</td>\n",
       "    </tr>\n",
       "    <tr>\n",
       "      <th>1</th>\n",
       "      <td>1.650049e+09</td>\n",
       "      <td>1.650050e+09</td>\n",
       "      <td>[02_SeqSession1]</td>\n",
       "    </tr>\n",
       "    <tr>\n",
       "      <th>2</th>\n",
       "      <td>1.650050e+09</td>\n",
       "      <td>1.650052e+09</td>\n",
       "      <td>[03_SeqSleep2]</td>\n",
       "    </tr>\n",
       "    <tr>\n",
       "      <th>3</th>\n",
       "      <td>1.650052e+09</td>\n",
       "      <td>1.650054e+09</td>\n",
       "      <td>[04_Seq2Session1]</td>\n",
       "    </tr>\n",
       "    <tr>\n",
       "      <th>4</th>\n",
       "      <td>1.650054e+09</td>\n",
       "      <td>1.650057e+09</td>\n",
       "      <td>[05_Seq2Sleep2]</td>\n",
       "    </tr>\n",
       "    <tr>\n",
       "      <th>5</th>\n",
       "      <td>1.650057e+09</td>\n",
       "      <td>1.650059e+09</td>\n",
       "      <td>[06_Seq2Session2]</td>\n",
       "    </tr>\n",
       "    <tr>\n",
       "      <th>6</th>\n",
       "      <td>1.650059e+09</td>\n",
       "      <td>1.650061e+09</td>\n",
       "      <td>[07_Seq2Sleep3]</td>\n",
       "    </tr>\n",
       "    <tr>\n",
       "      <th>7</th>\n",
       "      <td>1.650061e+09</td>\n",
       "      <td>1.650063e+09</td>\n",
       "      <td>[08_Seq2Session3]</td>\n",
       "    </tr>\n",
       "    <tr>\n",
       "      <th>8</th>\n",
       "      <td>1.650063e+09</td>\n",
       "      <td>1.650065e+09</td>\n",
       "      <td>[09_Seq2Sleep4]</td>\n",
       "    </tr>\n",
       "  </tbody>\n",
       "</table>\n",
       "</div>"
      ],
      "text/plain": [
       "      start_time     stop_time               tags\n",
       "id                                               \n",
       "0   1.650046e+09  1.650048e+09     [01_SeqSleep1]\n",
       "1   1.650049e+09  1.650050e+09   [02_SeqSession1]\n",
       "2   1.650050e+09  1.650052e+09     [03_SeqSleep2]\n",
       "3   1.650052e+09  1.650054e+09  [04_Seq2Session1]\n",
       "4   1.650054e+09  1.650057e+09    [05_Seq2Sleep2]\n",
       "5   1.650057e+09  1.650059e+09  [06_Seq2Session2]\n",
       "6   1.650059e+09  1.650061e+09    [07_Seq2Sleep3]\n",
       "7   1.650061e+09  1.650063e+09  [08_Seq2Session3]\n",
       "8   1.650063e+09  1.650065e+09    [09_Seq2Sleep4]"
      ]
     },
     "execution_count": 61,
     "metadata": {},
     "output_type": "execute_result"
    }
   ],
   "source": [
    "epochs = nwbf.epochs.to_dataframe()\n",
    "epochs"
   ]
  },
  {
   "cell_type": "code",
   "execution_count": 11,
   "id": "e0c37e5c-a813-4d29-be3f-a480522e17b3",
   "metadata": {},
   "outputs": [],
   "source": [
    "nwb_file_abspath = Nwbfile.get_abs_path(nwb_file_name)\n",
    "nwbf = get_nwb_file(nwb_file_abspath)"
   ]
  },
  {
   "cell_type": "code",
   "execution_count": 12,
   "id": "ccd355be-b0f0-4093-af33-1300b3f1d495",
   "metadata": {},
   "outputs": [
    {
     "data": {
      "text/html": [
       "<div>\n",
       "<style scoped>\n",
       "    .dataframe tbody tr th:only-of-type {\n",
       "        vertical-align: middle;\n",
       "    }\n",
       "\n",
       "    .dataframe tbody tr th {\n",
       "        vertical-align: top;\n",
       "    }\n",
       "\n",
       "    .dataframe thead th {\n",
       "        text-align: right;\n",
       "    }\n",
       "</style>\n",
       "<table border=\"1\" class=\"dataframe\">\n",
       "  <thead>\n",
       "    <tr style=\"text-align: right;\">\n",
       "      <th></th>\n",
       "      <th>start_time</th>\n",
       "      <th>stop_time</th>\n",
       "      <th>tags</th>\n",
       "    </tr>\n",
       "    <tr>\n",
       "      <th>id</th>\n",
       "      <th></th>\n",
       "      <th></th>\n",
       "      <th></th>\n",
       "    </tr>\n",
       "  </thead>\n",
       "  <tbody>\n",
       "    <tr>\n",
       "      <th>0</th>\n",
       "      <td>1.650224e+09</td>\n",
       "      <td>1.650226e+09</td>\n",
       "      <td>[01_Seq2Sleep1]</td>\n",
       "    </tr>\n",
       "    <tr>\n",
       "      <th>1</th>\n",
       "      <td>1.650228e+09</td>\n",
       "      <td>1.650230e+09</td>\n",
       "      <td>[03_Seq2Sleep2]</td>\n",
       "    </tr>\n",
       "    <tr>\n",
       "      <th>2</th>\n",
       "      <td>1.650232e+09</td>\n",
       "      <td>1.650235e+09</td>\n",
       "      <td>[05_Seq2Sleep3]</td>\n",
       "    </tr>\n",
       "    <tr>\n",
       "      <th>3</th>\n",
       "      <td>1.650237e+09</td>\n",
       "      <td>1.650238e+09</td>\n",
       "      <td>[07_Seq2Sleep4]</td>\n",
       "    </tr>\n",
       "    <tr>\n",
       "      <th>4</th>\n",
       "      <td>1.650240e+09</td>\n",
       "      <td>1.650242e+09</td>\n",
       "      <td>[09_Seq2Sleep5]</td>\n",
       "    </tr>\n",
       "    <tr>\n",
       "      <th>5</th>\n",
       "      <td>1.650244e+09</td>\n",
       "      <td>1.650246e+09</td>\n",
       "      <td>[11_Seq2Sleep6]</td>\n",
       "    </tr>\n",
       "    <tr>\n",
       "      <th>6</th>\n",
       "      <td>1.650226e+09</td>\n",
       "      <td>1.650228e+09</td>\n",
       "      <td>[02_Seq2Session1]</td>\n",
       "    </tr>\n",
       "    <tr>\n",
       "      <th>7</th>\n",
       "      <td>1.650230e+09</td>\n",
       "      <td>1.650232e+09</td>\n",
       "      <td>[04_Seq2Session2]</td>\n",
       "    </tr>\n",
       "    <tr>\n",
       "      <th>8</th>\n",
       "      <td>1.650235e+09</td>\n",
       "      <td>1.650236e+09</td>\n",
       "      <td>[06_Seq2Session3]</td>\n",
       "    </tr>\n",
       "    <tr>\n",
       "      <th>9</th>\n",
       "      <td>1.650239e+09</td>\n",
       "      <td>1.650240e+09</td>\n",
       "      <td>[08_Seq2Session4]</td>\n",
       "    </tr>\n",
       "    <tr>\n",
       "      <th>10</th>\n",
       "      <td>1.650242e+09</td>\n",
       "      <td>1.650244e+09</td>\n",
       "      <td>[10_Seq2Session5]</td>\n",
       "    </tr>\n",
       "  </tbody>\n",
       "</table>\n",
       "</div>"
      ],
      "text/plain": [
       "      start_time     stop_time               tags\n",
       "id                                               \n",
       "0   1.650224e+09  1.650226e+09    [01_Seq2Sleep1]\n",
       "1   1.650228e+09  1.650230e+09    [03_Seq2Sleep2]\n",
       "2   1.650232e+09  1.650235e+09    [05_Seq2Sleep3]\n",
       "3   1.650237e+09  1.650238e+09    [07_Seq2Sleep4]\n",
       "4   1.650240e+09  1.650242e+09    [09_Seq2Sleep5]\n",
       "5   1.650244e+09  1.650246e+09    [11_Seq2Sleep6]\n",
       "6   1.650226e+09  1.650228e+09  [02_Seq2Session1]\n",
       "7   1.650230e+09  1.650232e+09  [04_Seq2Session2]\n",
       "8   1.650235e+09  1.650236e+09  [06_Seq2Session3]\n",
       "9   1.650239e+09  1.650240e+09  [08_Seq2Session4]\n",
       "10  1.650242e+09  1.650244e+09  [10_Seq2Session5]"
      ]
     },
     "execution_count": 12,
     "metadata": {},
     "output_type": "execute_result"
    }
   ],
   "source": [
    "epochs = nwbf.epochs.to_dataframe()\n",
    "epochs"
   ]
  },
  {
   "cell_type": "code",
   "execution_count": 55,
   "id": "ba88a142-f390-4072-ace3-3523946a0bcb",
   "metadata": {},
   "outputs": [],
   "source": [
    "start_time=epochs['start_time']\n",
    "stop_time=epochs['stop_time']"
   ]
  },
  {
   "cell_type": "code",
   "execution_count": 56,
   "id": "c13292fd-23e2-465f-9593-cf2a335d17d8",
   "metadata": {},
   "outputs": [
    {
     "data": {
      "text/plain": [
       "id\n",
       "0     1812.943919\n",
       "1     2190.048255\n",
       "2     2307.871309\n",
       "3     2239.901949\n",
       "4     1817.085907\n",
       "5     2303.919315\n",
       "6     1865.817050\n",
       "7     2374.415503\n",
       "8     2411.627955\n",
       "9     2574.181352\n",
       "10    2767.757461\n",
       "11    2347.607811\n",
       "12    1840.523959\n",
       "dtype: float64"
      ]
     },
     "execution_count": 56,
     "metadata": {},
     "output_type": "execute_result"
    }
   ],
   "source": [
    "stop_time-start_time"
   ]
  },
  {
   "cell_type": "code",
   "execution_count": 21,
   "id": "6669fad5-9ee8-4a45-8912-7b12bfa0b783",
   "metadata": {},
   "outputs": [
    {
     "data": {
      "text/plain": [
       "1650224170.8737817"
      ]
     },
     "execution_count": 21,
     "metadata": {},
     "output_type": "execute_result"
    }
   ],
   "source": [
    "epochs['start_time'][0]"
   ]
  },
  {
   "cell_type": "code",
   "execution_count": 47,
   "id": "77d0c94a-4785-4a74-bf8e-3d14cd4fdbce",
   "metadata": {},
   "outputs": [],
   "source": [
    "rawdata = nwbf.get_acquisition()"
   ]
  },
  {
   "cell_type": "code",
   "execution_count": null,
   "id": "f20967a3-c235-471b-b9c3-924600d6a057",
   "metadata": {},
   "outputs": [],
   "source": []
  },
  {
   "cell_type": "code",
   "execution_count": 48,
   "id": "848da288-04da-417e-b9d5-92b3e9261021",
   "metadata": {},
   "outputs": [],
   "source": [
    "timestamps=np.asarray(rawdata.timestamps)"
   ]
  },
  {
   "cell_type": "code",
   "execution_count": null,
   "id": "b62c4e55-654a-4277-920e-b5eea66d39b1",
   "metadata": {},
   "outputs": [],
   "source": []
  },
  {
   "cell_type": "code",
   "execution_count": 25,
   "id": "65592f77-b846-47df-9000-08d123964979",
   "metadata": {},
   "outputs": [],
   "source": [
    "valid_times=get_valid_intervals(np.asarray(rawdata.timestamps), 30000,\n",
    "                                                               1.75, 0)"
   ]
  },
  {
   "cell_type": "code",
   "execution_count": 58,
   "id": "3203caba-4728-4078-9775-b3ff23dd2e73",
   "metadata": {},
   "outputs": [
    {
     "ename": "KeyboardInterrupt",
     "evalue": "",
     "output_type": "error",
     "traceback": [
      "\u001b[0;31m---------------------------------------------------------------------------\u001b[0m",
      "\u001b[0;31mKeyboardInterrupt\u001b[0m                         Traceback (most recent call last)",
      "Input \u001b[0;32mIn [58]\u001b[0m, in \u001b[0;36m<cell line: 1>\u001b[0;34m()\u001b[0m\n\u001b[0;32m----> 1\u001b[0m \u001b[43mplt\u001b[49m\u001b[38;5;241;43m.\u001b[39;49m\u001b[43mplot\u001b[49m\u001b[43m(\u001b[49m\u001b[43mtimestamps\u001b[49m\u001b[43m)\u001b[49m\n",
      "File \u001b[0;32m~/anaconda3/envs/spyglass/lib/python3.8/site-packages/matplotlib/pyplot.py:2769\u001b[0m, in \u001b[0;36mplot\u001b[0;34m(scalex, scaley, data, *args, **kwargs)\u001b[0m\n\u001b[1;32m   2767\u001b[0m \u001b[38;5;129m@_copy_docstring_and_deprecators\u001b[39m(Axes\u001b[38;5;241m.\u001b[39mplot)\n\u001b[1;32m   2768\u001b[0m \u001b[38;5;28;01mdef\u001b[39;00m \u001b[38;5;21mplot\u001b[39m(\u001b[38;5;241m*\u001b[39margs, scalex\u001b[38;5;241m=\u001b[39m\u001b[38;5;28;01mTrue\u001b[39;00m, scaley\u001b[38;5;241m=\u001b[39m\u001b[38;5;28;01mTrue\u001b[39;00m, data\u001b[38;5;241m=\u001b[39m\u001b[38;5;28;01mNone\u001b[39;00m, \u001b[38;5;241m*\u001b[39m\u001b[38;5;241m*\u001b[39mkwargs):\n\u001b[0;32m-> 2769\u001b[0m     \u001b[38;5;28;01mreturn\u001b[39;00m \u001b[43mgca\u001b[49m\u001b[43m(\u001b[49m\u001b[43m)\u001b[49m\u001b[38;5;241;43m.\u001b[39;49m\u001b[43mplot\u001b[49m\u001b[43m(\u001b[49m\n\u001b[1;32m   2770\u001b[0m \u001b[43m        \u001b[49m\u001b[38;5;241;43m*\u001b[39;49m\u001b[43margs\u001b[49m\u001b[43m,\u001b[49m\u001b[43m \u001b[49m\u001b[43mscalex\u001b[49m\u001b[38;5;241;43m=\u001b[39;49m\u001b[43mscalex\u001b[49m\u001b[43m,\u001b[49m\u001b[43m \u001b[49m\u001b[43mscaley\u001b[49m\u001b[38;5;241;43m=\u001b[39;49m\u001b[43mscaley\u001b[49m\u001b[43m,\u001b[49m\n\u001b[1;32m   2771\u001b[0m \u001b[43m        \u001b[49m\u001b[38;5;241;43m*\u001b[39;49m\u001b[38;5;241;43m*\u001b[39;49m\u001b[43m(\u001b[49m\u001b[43m{\u001b[49m\u001b[38;5;124;43m\"\u001b[39;49m\u001b[38;5;124;43mdata\u001b[39;49m\u001b[38;5;124;43m\"\u001b[39;49m\u001b[43m:\u001b[49m\u001b[43m \u001b[49m\u001b[43mdata\u001b[49m\u001b[43m}\u001b[49m\u001b[43m \u001b[49m\u001b[38;5;28;43;01mif\u001b[39;49;00m\u001b[43m \u001b[49m\u001b[43mdata\u001b[49m\u001b[43m \u001b[49m\u001b[38;5;129;43;01mis\u001b[39;49;00m\u001b[43m \u001b[49m\u001b[38;5;129;43;01mnot\u001b[39;49;00m\u001b[43m \u001b[49m\u001b[38;5;28;43;01mNone\u001b[39;49;00m\u001b[43m \u001b[49m\u001b[38;5;28;43;01melse\u001b[39;49;00m\u001b[43m \u001b[49m\u001b[43m{\u001b[49m\u001b[43m}\u001b[49m\u001b[43m)\u001b[49m\u001b[43m,\u001b[49m\u001b[43m \u001b[49m\u001b[38;5;241;43m*\u001b[39;49m\u001b[38;5;241;43m*\u001b[39;49m\u001b[43mkwargs\u001b[49m\u001b[43m)\u001b[49m\n",
      "File \u001b[0;32m~/anaconda3/envs/spyglass/lib/python3.8/site-packages/matplotlib/axes/_axes.py:1632\u001b[0m, in \u001b[0;36mAxes.plot\u001b[0;34m(self, scalex, scaley, data, *args, **kwargs)\u001b[0m\n\u001b[1;32m   1390\u001b[0m \u001b[38;5;124;03m\"\"\"\u001b[39;00m\n\u001b[1;32m   1391\u001b[0m \u001b[38;5;124;03mPlot y versus x as lines and/or markers.\u001b[39;00m\n\u001b[1;32m   1392\u001b[0m \n\u001b[0;32m   (...)\u001b[0m\n\u001b[1;32m   1629\u001b[0m \u001b[38;5;124;03m(``'green'``) or hex strings (``'#008000'``).\u001b[39;00m\n\u001b[1;32m   1630\u001b[0m \u001b[38;5;124;03m\"\"\"\u001b[39;00m\n\u001b[1;32m   1631\u001b[0m kwargs \u001b[38;5;241m=\u001b[39m cbook\u001b[38;5;241m.\u001b[39mnormalize_kwargs(kwargs, mlines\u001b[38;5;241m.\u001b[39mLine2D)\n\u001b[0;32m-> 1632\u001b[0m lines \u001b[38;5;241m=\u001b[39m [\u001b[38;5;241m*\u001b[39m\u001b[38;5;28mself\u001b[39m\u001b[38;5;241m.\u001b[39m_get_lines(\u001b[38;5;241m*\u001b[39margs, data\u001b[38;5;241m=\u001b[39mdata, \u001b[38;5;241m*\u001b[39m\u001b[38;5;241m*\u001b[39mkwargs)]\n\u001b[1;32m   1633\u001b[0m \u001b[38;5;28;01mfor\u001b[39;00m line \u001b[38;5;129;01min\u001b[39;00m lines:\n\u001b[1;32m   1634\u001b[0m     \u001b[38;5;28mself\u001b[39m\u001b[38;5;241m.\u001b[39madd_line(line)\n",
      "File \u001b[0;32m~/anaconda3/envs/spyglass/lib/python3.8/site-packages/matplotlib/axes/_base.py:312\u001b[0m, in \u001b[0;36m_process_plot_var_args.__call__\u001b[0;34m(self, data, *args, **kwargs)\u001b[0m\n\u001b[1;32m    310\u001b[0m     this \u001b[38;5;241m+\u001b[39m\u001b[38;5;241m=\u001b[39m args[\u001b[38;5;241m0\u001b[39m],\n\u001b[1;32m    311\u001b[0m     args \u001b[38;5;241m=\u001b[39m args[\u001b[38;5;241m1\u001b[39m:]\n\u001b[0;32m--> 312\u001b[0m \u001b[38;5;28;01myield from\u001b[39;00m \u001b[38;5;28;43mself\u001b[39;49m\u001b[38;5;241;43m.\u001b[39;49m\u001b[43m_plot_args\u001b[49m\u001b[43m(\u001b[49m\u001b[43mthis\u001b[49m\u001b[43m,\u001b[49m\u001b[43m \u001b[49m\u001b[43mkwargs\u001b[49m\u001b[43m)\u001b[49m\n",
      "File \u001b[0;32m~/anaconda3/envs/spyglass/lib/python3.8/site-packages/matplotlib/axes/_base.py:490\u001b[0m, in \u001b[0;36m_process_plot_var_args._plot_args\u001b[0;34m(self, tup, kwargs, return_kwargs)\u001b[0m\n\u001b[1;32m    488\u001b[0m     y \u001b[38;5;241m=\u001b[39m _check_1d(xy[\u001b[38;5;241m1\u001b[39m])\n\u001b[1;32m    489\u001b[0m \u001b[38;5;28;01melse\u001b[39;00m:\n\u001b[0;32m--> 490\u001b[0m     x, y \u001b[38;5;241m=\u001b[39m \u001b[43mindex_of\u001b[49m\u001b[43m(\u001b[49m\u001b[43mxy\u001b[49m\u001b[43m[\u001b[49m\u001b[38;5;241;43m-\u001b[39;49m\u001b[38;5;241;43m1\u001b[39;49m\u001b[43m]\u001b[49m\u001b[43m)\u001b[49m\n\u001b[1;32m    492\u001b[0m \u001b[38;5;28;01mif\u001b[39;00m \u001b[38;5;28mself\u001b[39m\u001b[38;5;241m.\u001b[39maxes\u001b[38;5;241m.\u001b[39mxaxis \u001b[38;5;129;01mis\u001b[39;00m \u001b[38;5;129;01mnot\u001b[39;00m \u001b[38;5;28;01mNone\u001b[39;00m:\n\u001b[1;32m    493\u001b[0m     \u001b[38;5;28mself\u001b[39m\u001b[38;5;241m.\u001b[39maxes\u001b[38;5;241m.\u001b[39mxaxis\u001b[38;5;241m.\u001b[39mupdate_units(x)\n",
      "File \u001b[0;32m~/anaconda3/envs/spyglass/lib/python3.8/site-packages/matplotlib/cbook/__init__.py:1619\u001b[0m, in \u001b[0;36mindex_of\u001b[0;34m(y)\u001b[0m\n\u001b[1;32m   1617\u001b[0m     \u001b[38;5;28;01mpass\u001b[39;00m\n\u001b[1;32m   1618\u001b[0m \u001b[38;5;28;01melse\u001b[39;00m:\n\u001b[0;32m-> 1619\u001b[0m     \u001b[38;5;28;01mreturn\u001b[39;00m \u001b[43mnp\u001b[49m\u001b[38;5;241;43m.\u001b[39;49m\u001b[43marange\u001b[49m\u001b[43m(\u001b[49m\u001b[43my\u001b[49m\u001b[38;5;241;43m.\u001b[39;49m\u001b[43mshape\u001b[49m\u001b[43m[\u001b[49m\u001b[38;5;241;43m0\u001b[39;49m\u001b[43m]\u001b[49m\u001b[43m,\u001b[49m\u001b[43m \u001b[49m\u001b[43mdtype\u001b[49m\u001b[38;5;241;43m=\u001b[39;49m\u001b[38;5;28;43mfloat\u001b[39;49m\u001b[43m)\u001b[49m, y\n\u001b[1;32m   1620\u001b[0m \u001b[38;5;28;01mraise\u001b[39;00m \u001b[38;5;167;01mValueError\u001b[39;00m(\u001b[38;5;124m'\u001b[39m\u001b[38;5;124mInput could not be cast to an at-least-1D NumPy array\u001b[39m\u001b[38;5;124m'\u001b[39m)\n",
      "\u001b[0;31mKeyboardInterrupt\u001b[0m: "
     ]
    },
    {
     "data": {
      "image/png": "[encoded data removed]",
      "text/plain": [
       "<Figure size 432x288 with 1 Axes>"
      ]
     },
     "metadata": {
      "needs_background": "light"
     },
     "output_type": "display_data"
    }
   ],
   "source": [
    "plt.plot(timestamps)"
   ]
  },
  {
   "cell_type": "code",
   "execution_count": 51,
   "id": "e0e4e20e-06fb-4b62-b6cd-59629a68f592",
   "metadata": {},
   "outputs": [
    {
     "data": {
      "text/plain": [
       "False"
      ]
     },
     "execution_count": 51,
     "metadata": {},
     "output_type": "execute_result"
    }
   ],
   "source": [
    "np.all(np.diff(timestamps) > 0)"
   ]
  },
  {
   "cell_type": "code",
   "execution_count": 35,
   "id": "c3c2c3c8-046d-4474-bc10-290a13994d64",
   "metadata": {},
   "outputs": [],
   "source": [
    "sampling_rate=30000\n",
    "gap_proportion=1.75\n",
    "timestamps = timestamps[~np.isnan(timestamps)]\n",
    "    # find gaps\n",
    "gap = np.abs(np.diff(timestamps)) > 1.0 / sampling_rate * gap_proportion\n",
    "\n",
    "    # all true entries of gap represent gaps. Get the times bounding these intervals.\n",
    "gapind = np.asarray(np.where(gap))"
   ]
  },
  {
   "cell_type": "code",
   "execution_count": null,
   "id": "a8441db9-1679-4a07-b6ff-d67337ffccca",
   "metadata": {},
   "outputs": [],
   "source": []
  },
  {
   "cell_type": "code",
   "execution_count": 36,
   "id": "fe135a80-d9ed-4e3c-8af6-eb971d7b2bbf",
   "metadata": {},
   "outputs": [
    {
     "data": {
      "text/plain": [
       "array([[ 57957039, 108054304, 173074440, 224448432, 277837265, 389406689,\n",
       "        452212473, 508272345, 560500481]])"
      ]
     },
     "execution_count": 36,
     "metadata": {},
     "output_type": "execute_result"
    }
   ],
   "source": [
    "gapind"
   ]
  },
  {
   "cell_type": "code",
   "execution_count": 16,
   "id": "d0f568b1-ef9a-4e91-a0e6-98b89ea31e0b",
   "metadata": {},
   "outputs": [
    {
     "data": {
      "text/plain": [
       "30000.0"
      ]
     },
     "execution_count": 16,
     "metadata": {},
     "output_type": "execute_result"
    }
   ],
   "source": [
    "estimate_sampling_rate(np.asarray(rawdata.timestamps[:int(1e6)]), 1.5)"
   ]
  },
  {
   "cell_type": "code",
   "execution_count": null,
   "id": "4e4cad69-644a-4d46-88bb-c839e1a3d016",
   "metadata": {},
   "outputs": [],
   "source": []
  }
 ],
 "metadata": {
  "kernelspec": {
   "display_name": "Python [conda env:spyglass] *",
   "language": "python",
   "name": "conda-env-spyglass-py"
  },
  "language_info": {
   "codemirror_mode": {
    "name": "ipython",
    "version": 3
   },
   "file_extension": ".py",
   "mimetype": "text/x-python",
   "name": "python",
   "nbconvert_exporter": "python",
   "pygments_lexer": "ipython3",
   "version": "3.8.13"
  }
 },
 "nbformat": 4,
 "nbformat_minor": 5
}
