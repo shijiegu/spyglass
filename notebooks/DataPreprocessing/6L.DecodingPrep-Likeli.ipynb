{
 "cells": [
  {
   "cell_type": "markdown",
   "id": "2787310a-7117-4eec-95b0-2f973bf49f54",
   "metadata": {},
   "source": [
    "## This notebook prepares for decoding (both 1D and 2D)\n",
    "#### 20 ms window 10 ms window overlap\n",
    "### Use this notebook to run session/day of each dataset from new animal"
   ]
  },
  {
   "cell_type": "code",
   "execution_count": 1,
   "id": "05e6ef1a-25d8-4c66-9abe-5fbe109aa05e",
   "metadata": {},
   "outputs": [],
   "source": [
    "%reload_ext autoreload\n",
    "%autoreload 2"
   ]
  },
  {
   "cell_type": "code",
   "execution_count": 2,
   "id": "8a882cf8-b4c6-40c6-b800-79ac9af9fddb",
   "metadata": {},
   "outputs": [],
   "source": [
    "import spyglass as nd\n",
    "import pandas as pd\n",
    "# ignore datajoint+jupyter async warnings\n",
    "import warnings\n",
    "warnings.simplefilter('ignore', category=DeprecationWarning)\n",
    "warnings.simplefilter('ignore', category=ResourceWarning)"
   ]
  },
  {
   "cell_type": "code",
   "execution_count": 3,
   "id": "d46d7e2c-e475-459a-ae47-5aac32e806e6",
   "metadata": {},
   "outputs": [],
   "source": [
    "import matplotlib.pyplot as plt\n",
    "import numpy as np\n",
    "import xarray as xr\n",
    "import logging\n",
    "import os\n",
    "import cupy as cp\n",
    "\n",
    "FORMAT = '%(asctime)s %(message)s'\n",
    "\n",
    "logging.basicConfig(level='INFO', format=FORMAT, datefmt='%d-%b-%y %H:%M:%S')"
   ]
  },
  {
   "cell_type": "code",
   "execution_count": 4,
   "id": "dd2cda59-5fa8-4777-9754-6bd93cdbef5f",
   "metadata": {},
   "outputs": [
    {
     "name": "stderr",
     "output_type": "stream",
     "text": [
      "[2025-05-05 08:26:33,035][INFO]: DataJoint 0.14.4 connected to shijiegu-alt@lmf-db.cin.ucsf.edu:3306\n",
      "05-May-25 08:26:33 DataJoint 0.14.4 connected to shijiegu-alt@lmf-db.cin.ucsf.edu:3306\n"
     ]
    }
   ],
   "source": [
    "from spyglass.common import (Session, IntervalList,IntervalPositionInfo,\n",
    "                             LabMember, LabTeam, Raw, Session, Nwbfile,\n",
    "                            Electrode,LFPBand,interval_list_intersect)\n",
    "from spyglass.common.common_interval import _intersection\n",
    "from spyglass.common.common_position import IntervalLinearizedPosition\n",
    "\n",
    "import spyglass.spikesorting.v0 as ss\n",
    "from spyglass.spikesorting.v0 import (SortGroup, \n",
    "                                    SortInterval,\n",
    "                                    SpikeSortingPreprocessingParameters,\n",
    "                                    SpikeSortingRecording, \n",
    "                                    SpikeSorterParameters,\n",
    "                                    SpikeSortingRecordingSelection,\n",
    "                                    ArtifactDetectionParameters, ArtifactDetectionSelection,\n",
    "                                    ArtifactRemovedIntervalList, ArtifactDetection,\n",
    "                                      SpikeSortingSelection, SpikeSorting,\n",
    "                                   CuratedSpikeSortingSelection,CuratedSpikeSorting,Curation)\n",
    "from spyglass.decoding.v0.clusterless import (UnitMarks,\n",
    "                                           UnitMarkParameters,UnitMarksIndicatorSelection,\n",
    "                                          UnitMarksIndicator)\n",
    "from spyglass.utils.nwb_helper_fn import get_nwb_copy_filename\n",
    "from spyglass.common.common_position import IntervalPositionInfo, IntervalPositionInfoSelection\n",
    "\n",
    "from replay_trajectory_classification.environments import Environment\n",
    "from spyglass.common.common_position import TrackGraph\n",
    "from spyglass.decoding.v0.clusterless import ClusterlessClassifierParameters\n",
    "from replay_trajectory_classification import ClusterlessClassifier\n",
    "\n",
    "\n",
    "\n",
    "import pprint\n",
    "# Here are the analysis tables specific to Shijie Gu\n",
    "from spyglass.shijiegu.Analysis_SGU import EpochPos,TrialChoice,Decode,DecodeResultsLinear,DecodeIngredients,DecodeIngredientsLikelihood\n",
    "from spyglass.shijiegu.decodeHelpers import (thresholder_sort, runSessionNames,\n",
    "    sleepSessionNames, populateUnitMarks, intersectValidIntervals)\n",
    "from spyglass.shijiegu.decodeHelpers import decodePrepMasterSession"
   ]
  },
  {
   "cell_type": "code",
   "execution_count": 5,
   "id": "db9407d1-0e6b-4273-86c8-ac5da9b31103",
   "metadata": {},
   "outputs": [],
   "source": [
    "from spyglass.shijiegu.likelihoodDecode_helper import decodePrepLikelihoodMasterSession"
   ]
  },
  {
   "cell_type": "code",
   "execution_count": 25,
   "id": "90352bb7-f85b-476d-8d07-5978f28a47af",
   "metadata": {
    "scrolled": true
   },
   "outputs": [],
   "source": [
    "nwb_copy_file_name = 'eliot20221021_.nwb'"
   ]
  },
  {
   "cell_type": "code",
   "execution_count": 26,
   "id": "75854fc6-29fb-4ec4-850d-7d4ff0cc608e",
   "metadata": {},
   "outputs": [
    {
     "name": "stdout",
     "output_type": "stream",
     "text": [
      "['02_Seq2Session1', '04_Seq2Session2', '06_Seq2Session3', '08_Seq2Session4']\n"
     ]
    }
   ],
   "source": [
    "session_interval, position_interval = runSessionNames(nwb_copy_file_name)\n",
    "print(session_interval)"
   ]
  },
  {
   "cell_type": "code",
   "execution_count": 27,
   "id": "67856207-7cb9-4aed-98e6-0ac785af87d8",
   "metadata": {},
   "outputs": [
    {
     "name": "stdout",
     "output_type": "stream",
     "text": [
      "['02_Seq2Session1', '04_Seq2Session2', '06_Seq2Session3', '08_Seq2Session4']\n"
     ]
    }
   ],
   "source": [
    "sleep_interval, sleep_position_interval = sleepSessionNames(nwb_copy_file_name)\n",
    "print(session_interval)"
   ]
  },
  {
   "cell_type": "code",
   "execution_count": null,
   "id": "b45d8dca-0e90-48e8-a04c-6c3d9eb0fb42",
   "metadata": {},
   "outputs": [
    {
     "name": "stdout",
     "output_type": "stream",
     "text": [
      "working on 02_Rev2Session1\n"
     ]
    }
   ],
   "source": [
    "for session_name in session_interval:\n",
    "    print(\"working on\",session_name)\n",
    "    decodePrepLikelihoodMasterSession(nwb_copy_file_name,\n",
    "                                      session_name,window_size = 0.02,overlap_size = 0.01)"
   ]
  },
  {
   "cell_type": "code",
   "execution_count": 28,
   "id": "cec9ca7c-d04d-4497-8423-490574bb6a84",
   "metadata": {},
   "outputs": [
    {
     "data": {
      "text/html": [
       "\n",
       "    \n",
       "    <style type=\"text/css\">\n",
       "        .Table{\n",
       "            border-collapse:collapse;\n",
       "        }\n",
       "        .Table th{\n",
       "            background: #A0A0A0; color: #ffffff; padding:4px; border:#f0e0e0 1px solid;\n",
       "            font-weight: normal; font-family: monospace; font-size: 100%;\n",
       "        }\n",
       "        .Table td{\n",
       "            padding:4px; border:#f0e0e0 1px solid; font-size:100%;\n",
       "        }\n",
       "        .Table tr:nth-child(odd){\n",
       "            background: #ffffff;\n",
       "            color: #000000;\n",
       "        }\n",
       "        .Table tr:nth-child(even){\n",
       "            background: #f3f1ff;\n",
       "            color: #000000;\n",
       "        }\n",
       "        /* Tooltip container */\n",
       "        .djtooltip {\n",
       "        }\n",
       "        /* Tooltip text */\n",
       "        .djtooltip .djtooltiptext {\n",
       "            visibility: hidden;\n",
       "            width: 120px;\n",
       "            background-color: black;\n",
       "            color: #fff;\n",
       "            text-align: center;\n",
       "            padding: 5px 0;\n",
       "            border-radius: 6px;\n",
       "            /* Position the tooltip text - see examples below! */\n",
       "            position: absolute;\n",
       "            z-index: 1;\n",
       "        }\n",
       "        #primary {\n",
       "            font-weight: bold;\n",
       "            color: black;\n",
       "        }\n",
       "        #nonprimary {\n",
       "            font-weight: normal;\n",
       "            color: white;\n",
       "        }\n",
       "\n",
       "        /* Show the tooltip text when you mouse over the tooltip container */\n",
       "        .djtooltip:hover .djtooltiptext {\n",
       "            visibility: visible;\n",
       "        }\n",
       "    </style>\n",
       "    \n",
       "    <b>ingredients to do likelihood decoded replay content. Larger window size</b>\n",
       "        <div style=\"max-height:1000px;max-width:1500px;overflow:auto;\">\n",
       "        <table border=\"1\" class=\"Table\">\n",
       "            <thead> <tr style=\"text-align: right;\"> <th> <div class=\"djtooltip\">\n",
       "                            <p id=\"primary\">nwb_file_name</p>\n",
       "                            <span class=\"djtooltiptext\">name of the NWB file</span>\n",
       "                        </div></th><th><div class=\"djtooltip\">\n",
       "                            <p id=\"primary\">interval_list_name</p>\n",
       "                            <span class=\"djtooltiptext\">descriptive name of this interval list</span>\n",
       "                        </div></th><th><div class=\"djtooltip\">\n",
       "                            <p id=\"primary\">window_size</p>\n",
       "                            <span class=\"djtooltiptext\">in seconds, time window in which you lump neural data for decoding</span>\n",
       "                        </div></th><th><div class=\"djtooltip\">\n",
       "                            <p id=\"primary\">overlap_size</p>\n",
       "                            <span class=\"djtooltiptext\">in seconds, time window in which you overlap for decoding</span>\n",
       "                        </div></th><th><div class=\"djtooltip\">\n",
       "                            <p id=\"nonprimary\">marks</p>\n",
       "                            <span class=\"djtooltiptext\">valid marks within that interval</span>\n",
       "                        </div></th><th><div class=\"djtooltip\">\n",
       "                            <p id=\"nonprimary\">position_1d</p>\n",
       "                            <span class=\"djtooltiptext\">valid position within that interval (1D), inluding all rat-on-track time</span>\n",
       "                        </div></th><th><div class=\"djtooltip\">\n",
       "                            <p id=\"nonprimary\">position_2d</p>\n",
       "                            <span class=\"djtooltiptext\">valid position within that interval (2D), inluding all rat-on-track time</span>\n",
       "                        </div> </th> </tr> </thead>\n",
       "            <tbody> <tr> <td>eliot20221021_.nwb</td>\n",
       "<td>02_Seq2Session1</td>\n",
       "<td>0.02</td>\n",
       "<td>0.01</td>\n",
       "<td>=BLOB=</td>\n",
       "<td>=BLOB=</td>\n",
       "<td>=BLOB=</td></tr><tr><td>eliot20221021_.nwb</td>\n",
       "<td>02_Seq2Session1</td>\n",
       "<td>0.04</td>\n",
       "<td>0.02</td>\n",
       "<td>=BLOB=</td>\n",
       "<td>=BLOB=</td>\n",
       "<td>=BLOB=</td></tr><tr><td>eliot20221021_.nwb</td>\n",
       "<td>04_Seq2Session2</td>\n",
       "<td>0.02</td>\n",
       "<td>0.01</td>\n",
       "<td>=BLOB=</td>\n",
       "<td>=BLOB=</td>\n",
       "<td>=BLOB=</td></tr><tr><td>eliot20221021_.nwb</td>\n",
       "<td>04_Seq2Session2</td>\n",
       "<td>0.04</td>\n",
       "<td>0.02</td>\n",
       "<td>=BLOB=</td>\n",
       "<td>=BLOB=</td>\n",
       "<td>=BLOB=</td></tr><tr><td>eliot20221021_.nwb</td>\n",
       "<td>06_Seq2Session3</td>\n",
       "<td>0.02</td>\n",
       "<td>0.01</td>\n",
       "<td>=BLOB=</td>\n",
       "<td>=BLOB=</td>\n",
       "<td>=BLOB=</td></tr><tr><td>eliot20221021_.nwb</td>\n",
       "<td>06_Seq2Session3</td>\n",
       "<td>0.04</td>\n",
       "<td>0.02</td>\n",
       "<td>=BLOB=</td>\n",
       "<td>=BLOB=</td>\n",
       "<td>=BLOB=</td></tr><tr><td>eliot20221021_.nwb</td>\n",
       "<td>08_Seq2Session4</td>\n",
       "<td>0.02</td>\n",
       "<td>0.01</td>\n",
       "<td>=BLOB=</td>\n",
       "<td>=BLOB=</td>\n",
       "<td>=BLOB=</td></tr><tr><td>eliot20221021_.nwb</td>\n",
       "<td>08_Seq2Session4</td>\n",
       "<td>0.04</td>\n",
       "<td>0.02</td>\n",
       "<td>=BLOB=</td>\n",
       "<td>=BLOB=</td>\n",
       "<td>=BLOB=</td> </tr> </tbody>\n",
       "        </table>\n",
       "        \n",
       "        <p>Total: 8</p></div>\n",
       "        "
      ],
      "text/plain": [
       "*nwb_file_name *interval_list *window_size   *overlap_size  marks      position_1 position_2\n",
       "+------------+ +------------+ +------------+ +------------+ +--------+ +--------+ +--------+\n",
       "eliot20221021_ 02_Seq2Session 0.02           0.01           =BLOB=     =BLOB=     =BLOB=    \n",
       "eliot20221021_ 02_Seq2Session 0.04           0.02           =BLOB=     =BLOB=     =BLOB=    \n",
       "eliot20221021_ 04_Seq2Session 0.02           0.01           =BLOB=     =BLOB=     =BLOB=    \n",
       "eliot20221021_ 04_Seq2Session 0.04           0.02           =BLOB=     =BLOB=     =BLOB=    \n",
       "eliot20221021_ 06_Seq2Session 0.02           0.01           =BLOB=     =BLOB=     =BLOB=    \n",
       "eliot20221021_ 06_Seq2Session 0.04           0.02           =BLOB=     =BLOB=     =BLOB=    \n",
       "eliot20221021_ 08_Seq2Session 0.02           0.01           =BLOB=     =BLOB=     =BLOB=    \n",
       "eliot20221021_ 08_Seq2Session 0.04           0.02           =BLOB=     =BLOB=     =BLOB=    \n",
       " (Total: 8)"
      ]
     },
     "execution_count": 28,
     "metadata": {},
     "output_type": "execute_result"
    }
   ],
   "source": [
    "DecodeIngredientsLikelihood & {'nwb_file_name':nwb_copy_file_name}"
   ]
  },
  {
   "cell_type": "code",
   "execution_count": 19,
   "id": "8f181b56-7f17-4d03-8a75-600cde6752d1",
   "metadata": {},
   "outputs": [
    {
     "data": {
      "text/html": [
       "\n",
       "    \n",
       "    <style type=\"text/css\">\n",
       "        .Table{\n",
       "            border-collapse:collapse;\n",
       "        }\n",
       "        .Table th{\n",
       "            background: #A0A0A0; color: #ffffff; padding:4px; border:#f0e0e0 1px solid;\n",
       "            font-weight: normal; font-family: monospace; font-size: 100%;\n",
       "        }\n",
       "        .Table td{\n",
       "            padding:4px; border:#f0e0e0 1px solid; font-size:100%;\n",
       "        }\n",
       "        .Table tr:nth-child(odd){\n",
       "            background: #ffffff;\n",
       "            color: #000000;\n",
       "        }\n",
       "        .Table tr:nth-child(even){\n",
       "            background: #f3f1ff;\n",
       "            color: #000000;\n",
       "        }\n",
       "        /* Tooltip container */\n",
       "        .djtooltip {\n",
       "        }\n",
       "        /* Tooltip text */\n",
       "        .djtooltip .djtooltiptext {\n",
       "            visibility: hidden;\n",
       "            width: 120px;\n",
       "            background-color: black;\n",
       "            color: #fff;\n",
       "            text-align: center;\n",
       "            padding: 5px 0;\n",
       "            border-radius: 6px;\n",
       "            /* Position the tooltip text - see examples below! */\n",
       "            position: absolute;\n",
       "            z-index: 1;\n",
       "        }\n",
       "        #primary {\n",
       "            font-weight: bold;\n",
       "            color: black;\n",
       "        }\n",
       "        #nonprimary {\n",
       "            font-weight: normal;\n",
       "            color: white;\n",
       "        }\n",
       "\n",
       "        /* Show the tooltip text when you mouse over the tooltip container */\n",
       "        .djtooltip:hover .djtooltiptext {\n",
       "            visibility: visible;\n",
       "        }\n",
       "    </style>\n",
       "    \n",
       "    <b>ingredients to do likelihood decoded replay content. Larger window size</b>\n",
       "        <div style=\"max-height:1000px;max-width:1500px;overflow:auto;\">\n",
       "        <table border=\"1\" class=\"Table\">\n",
       "            <thead> <tr style=\"text-align: right;\"> <th> <div class=\"djtooltip\">\n",
       "                            <p id=\"primary\">nwb_file_name</p>\n",
       "                            <span class=\"djtooltiptext\">name of the NWB file</span>\n",
       "                        </div></th><th><div class=\"djtooltip\">\n",
       "                            <p id=\"primary\">interval_list_name</p>\n",
       "                            <span class=\"djtooltiptext\">descriptive name of this interval list</span>\n",
       "                        </div></th><th><div class=\"djtooltip\">\n",
       "                            <p id=\"primary\">window_size</p>\n",
       "                            <span class=\"djtooltiptext\">in seconds, time window in which you lump neural data for decoding</span>\n",
       "                        </div></th><th><div class=\"djtooltip\">\n",
       "                            <p id=\"primary\">overlap_size</p>\n",
       "                            <span class=\"djtooltiptext\">in seconds, time window in which you overlap for decoding</span>\n",
       "                        </div></th><th><div class=\"djtooltip\">\n",
       "                            <p id=\"nonprimary\">marks</p>\n",
       "                            <span class=\"djtooltiptext\">valid marks within that interval</span>\n",
       "                        </div></th><th><div class=\"djtooltip\">\n",
       "                            <p id=\"nonprimary\">position_1d</p>\n",
       "                            <span class=\"djtooltiptext\">valid position within that interval (1D), inluding all rat-on-track time</span>\n",
       "                        </div></th><th><div class=\"djtooltip\">\n",
       "                            <p id=\"nonprimary\">position_2d</p>\n",
       "                            <span class=\"djtooltiptext\">valid position within that interval (2D), inluding all rat-on-track time</span>\n",
       "                        </div> </th> </tr> </thead>\n",
       "            <tbody> <tr> <td>eliot20221021_.nwb</td>\n",
       "<td>02_Seq2Session1</td>\n",
       "<td>0.02</td>\n",
       "<td>0.01</td>\n",
       "<td>=BLOB=</td>\n",
       "<td>=BLOB=</td>\n",
       "<td>=BLOB=</td></tr><tr><td>eliot20221021_.nwb</td>\n",
       "<td>02_Seq2Session1</td>\n",
       "<td>0.04</td>\n",
       "<td>0.02</td>\n",
       "<td>=BLOB=</td>\n",
       "<td>=BLOB=</td>\n",
       "<td>=BLOB=</td></tr><tr><td>eliot20221021_.nwb</td>\n",
       "<td>04_Seq2Session2</td>\n",
       "<td>0.02</td>\n",
       "<td>0.01</td>\n",
       "<td>=BLOB=</td>\n",
       "<td>=BLOB=</td>\n",
       "<td>=BLOB=</td></tr><tr><td>eliot20221021_.nwb</td>\n",
       "<td>04_Seq2Session2</td>\n",
       "<td>0.04</td>\n",
       "<td>0.02</td>\n",
       "<td>=BLOB=</td>\n",
       "<td>=BLOB=</td>\n",
       "<td>=BLOB=</td></tr><tr><td>eliot20221021_.nwb</td>\n",
       "<td>06_Seq2Session3</td>\n",
       "<td>0.02</td>\n",
       "<td>0.01</td>\n",
       "<td>=BLOB=</td>\n",
       "<td>=BLOB=</td>\n",
       "<td>=BLOB=</td></tr><tr><td>eliot20221021_.nwb</td>\n",
       "<td>06_Seq2Session3</td>\n",
       "<td>0.04</td>\n",
       "<td>0.02</td>\n",
       "<td>=BLOB=</td>\n",
       "<td>=BLOB=</td>\n",
       "<td>=BLOB=</td></tr><tr><td>eliot20221021_.nwb</td>\n",
       "<td>08_Seq2Session4</td>\n",
       "<td>0.02</td>\n",
       "<td>0.01</td>\n",
       "<td>=BLOB=</td>\n",
       "<td>=BLOB=</td>\n",
       "<td>=BLOB=</td></tr><tr><td>eliot20221021_.nwb</td>\n",
       "<td>08_Seq2Session4</td>\n",
       "<td>0.04</td>\n",
       "<td>0.02</td>\n",
       "<td>=BLOB=</td>\n",
       "<td>=BLOB=</td>\n",
       "<td>=BLOB=</td></tr><tr><td>lewis20240109_.nwb</td>\n",
       "<td>02_Rev2Session1</td>\n",
       "<td>0.04</td>\n",
       "<td>0.02</td>\n",
       "<td>=BLOB=</td>\n",
       "<td>=BLOB=</td>\n",
       "<td>=BLOB=</td></tr><tr><td>lewis20240109_.nwb</td>\n",
       "<td>04_Rev2Session2</td>\n",
       "<td>0.04</td>\n",
       "<td>0.02</td>\n",
       "<td>=BLOB=</td>\n",
       "<td>=BLOB=</td>\n",
       "<td>=BLOB=</td></tr><tr><td>lewis20240109_.nwb</td>\n",
       "<td>06_Rev2Session3</td>\n",
       "<td>0.04</td>\n",
       "<td>0.02</td>\n",
       "<td>=BLOB=</td>\n",
       "<td>=BLOB=</td>\n",
       "<td>=BLOB=</td></tr><tr><td>lewis20240109_.nwb</td>\n",
       "<td>08_Rev2Session4</td>\n",
       "<td>0.04</td>\n",
       "<td>0.02</td>\n",
       "<td>=BLOB=</td>\n",
       "<td>=BLOB=</td>\n",
       "<td>=BLOB=</td> </tr> </tbody>\n",
       "        </table>\n",
       "        <p>...</p>\n",
       "        <p>Total: 17</p></div>\n",
       "        "
      ],
      "text/plain": [
       "*nwb_file_name *interval_list *window_size   *overlap_size  marks      position_1 position_2\n",
       "+------------+ +------------+ +------------+ +------------+ +--------+ +--------+ +--------+\n",
       "eliot20221021_ 02_Seq2Session 0.02           0.01           =BLOB=     =BLOB=     =BLOB=    \n",
       "eliot20221021_ 02_Seq2Session 0.04           0.02           =BLOB=     =BLOB=     =BLOB=    \n",
       "eliot20221021_ 04_Seq2Session 0.02           0.01           =BLOB=     =BLOB=     =BLOB=    \n",
       "eliot20221021_ 04_Seq2Session 0.04           0.02           =BLOB=     =BLOB=     =BLOB=    \n",
       "eliot20221021_ 06_Seq2Session 0.02           0.01           =BLOB=     =BLOB=     =BLOB=    \n",
       "eliot20221021_ 06_Seq2Session 0.04           0.02           =BLOB=     =BLOB=     =BLOB=    \n",
       "eliot20221021_ 08_Seq2Session 0.02           0.01           =BLOB=     =BLOB=     =BLOB=    \n",
       "eliot20221021_ 08_Seq2Session 0.04           0.02           =BLOB=     =BLOB=     =BLOB=    \n",
       "lewis20240109_ 02_Rev2Session 0.04           0.02           =BLOB=     =BLOB=     =BLOB=    \n",
       "lewis20240109_ 04_Rev2Session 0.04           0.02           =BLOB=     =BLOB=     =BLOB=    \n",
       "lewis20240109_ 06_Rev2Session 0.04           0.02           =BLOB=     =BLOB=     =BLOB=    \n",
       "lewis20240109_ 08_Rev2Session 0.04           0.02           =BLOB=     =BLOB=     =BLOB=    \n",
       "   ...\n",
       " (Total: 17)"
      ]
     },
     "execution_count": 19,
     "metadata": {},
     "output_type": "execute_result"
    }
   ],
   "source": [
    "DecodeIngredientsLikelihood()"
   ]
  },
  {
   "cell_type": "code",
   "execution_count": 8,
   "id": "dbb28499-0be3-41b6-bc1d-cae170f8d026",
   "metadata": {},
   "outputs": [
    {
     "data": {
      "text/html": [
       "\n",
       "    \n",
       "    <style type=\"text/css\">\n",
       "        .Table{\n",
       "            border-collapse:collapse;\n",
       "        }\n",
       "        .Table th{\n",
       "            background: #A0A0A0; color: #ffffff; padding:4px; border:#f0e0e0 1px solid;\n",
       "            font-weight: normal; font-family: monospace; font-size: 100%;\n",
       "        }\n",
       "        .Table td{\n",
       "            padding:4px; border:#f0e0e0 1px solid; font-size:100%;\n",
       "        }\n",
       "        .Table tr:nth-child(odd){\n",
       "            background: #ffffff;\n",
       "            color: #000000;\n",
       "        }\n",
       "        .Table tr:nth-child(even){\n",
       "            background: #f3f1ff;\n",
       "            color: #000000;\n",
       "        }\n",
       "        /* Tooltip container */\n",
       "        .djtooltip {\n",
       "        }\n",
       "        /* Tooltip text */\n",
       "        .djtooltip .djtooltiptext {\n",
       "            visibility: hidden;\n",
       "            width: 120px;\n",
       "            background-color: black;\n",
       "            color: #fff;\n",
       "            text-align: center;\n",
       "            padding: 5px 0;\n",
       "            border-radius: 6px;\n",
       "            /* Position the tooltip text - see examples below! */\n",
       "            position: absolute;\n",
       "            z-index: 1;\n",
       "        }\n",
       "        #primary {\n",
       "            font-weight: bold;\n",
       "            color: black;\n",
       "        }\n",
       "        #nonprimary {\n",
       "            font-weight: normal;\n",
       "            color: white;\n",
       "        }\n",
       "\n",
       "        /* Show the tooltip text when you mouse over the tooltip container */\n",
       "        .djtooltip:hover .djtooltiptext {\n",
       "            visibility: visible;\n",
       "        }\n",
       "    </style>\n",
       "    \n",
       "    <b>decoded 1D replay content results</b>\n",
       "        <div style=\"max-height:1000px;max-width:1500px;overflow:auto;\">\n",
       "        <table border=\"1\" class=\"Table\">\n",
       "            <thead> <tr style=\"text-align: right;\"> <th> <div class=\"djtooltip\">\n",
       "                            <p id=\"primary\">nwb_file_name</p>\n",
       "                            <span class=\"djtooltiptext\">name of the NWB file</span>\n",
       "                        </div></th><th><div class=\"djtooltip\">\n",
       "                            <p id=\"primary\">interval_list_name</p>\n",
       "                            <span class=\"djtooltiptext\">descriptive name of this interval list</span>\n",
       "                        </div></th><th><div class=\"djtooltip\">\n",
       "                            <p id=\"primary\">classifier_param_name</p>\n",
       "                            <span class=\"djtooltiptext\">a name for this set of parameters</span>\n",
       "                        </div></th><th><div class=\"djtooltip\">\n",
       "                            <p id=\"primary\">encoding_set</p>\n",
       "                            <span class=\"djtooltiptext\">a name for this set of encoding</span>\n",
       "                        </div></th><th><div class=\"djtooltip\">\n",
       "                            <p id=\"nonprimary\">posterior</p>\n",
       "                            <span class=\"djtooltiptext\">posterior within that interval (1D)</span>\n",
       "                        </div> </th> </tr> </thead>\n",
       "            <tbody> <tr> <td>eliot20221021_.nwb</td>\n",
       "<td>02_Seq2Session1</td>\n",
       "<td>causal_decoding_gpu_4armMaze</td>\n",
       "<td>2Dheadspeed_above_4_andlowmua</td>\n",
       "<td>=BLOB=</td></tr><tr><td>eliot20221021_.nwb</td>\n",
       "<td>02_Seq2Session1</td>\n",
       "<td>default_decoding_gpu_4armMaze</td>\n",
       "<td>2Dheadspeed_above_4</td>\n",
       "<td>=BLOB=</td></tr><tr><td>eliot20221021_.nwb</td>\n",
       "<td>02_Seq2Session1</td>\n",
       "<td>default_decoding_gpu_4armMaze</td>\n",
       "<td>2Dheadspeed_above_4_andlowmua</td>\n",
       "<td>=BLOB=</td></tr><tr><td>eliot20221021_.nwb</td>\n",
       "<td>02_Seq2Session1</td>\n",
       "<td>default_decoding_gpu_4armMaze</td>\n",
       "<td>all_maze</td>\n",
       "<td>=BLOB=</td></tr><tr><td>eliot20221021_.nwb</td>\n",
       "<td>02_Seq2Session1</td>\n",
       "<td>default_decoding_gpu_4armMaze</td>\n",
       "<td>mobility_2Dheadspeed_above_6</td>\n",
       "<td>=BLOB=</td></tr><tr><td>eliot20221021_.nwb</td>\n",
       "<td>02_Seq2Session1</td>\n",
       "<td>default_decoding_gpu_4armMaze_W20msO10ms</td>\n",
       "<td>2Dheadspeed_above_4</td>\n",
       "<td>=BLOB=</td></tr><tr><td>eliot20221021_.nwb</td>\n",
       "<td>02_Seq2Session1</td>\n",
       "<td>default_decoding_gpu_4armMaze_W40msO20ms</td>\n",
       "<td>2Dheadspeed_above_4</td>\n",
       "<td>=BLOB=</td></tr><tr><td>eliot20221021_.nwb</td>\n",
       "<td>04_Seq2Session2</td>\n",
       "<td>causal_decoding_gpu_4armMaze</td>\n",
       "<td>2Dheadspeed_above_4_andlowmua</td>\n",
       "<td>=BLOB=</td></tr><tr><td>eliot20221021_.nwb</td>\n",
       "<td>04_Seq2Session2</td>\n",
       "<td>default_decoding_gpu_4armMaze</td>\n",
       "<td>2Dheadspeed_above_4</td>\n",
       "<td>=BLOB=</td></tr><tr><td>eliot20221021_.nwb</td>\n",
       "<td>04_Seq2Session2</td>\n",
       "<td>default_decoding_gpu_4armMaze</td>\n",
       "<td>2Dheadspeed_above_4_andlowmua</td>\n",
       "<td>=BLOB=</td></tr><tr><td>eliot20221021_.nwb</td>\n",
       "<td>04_Seq2Session2</td>\n",
       "<td>default_decoding_gpu_4armMaze</td>\n",
       "<td>all_maze</td>\n",
       "<td>=BLOB=</td></tr><tr><td>eliot20221021_.nwb</td>\n",
       "<td>04_Seq2Session2</td>\n",
       "<td>default_decoding_gpu_4armMaze</td>\n",
       "<td>mobility_2Dheadspeed_above_6</td>\n",
       "<td>=BLOB=</td> </tr> </tbody>\n",
       "        </table>\n",
       "        <p>...</p>\n",
       "        <p>Total: 25</p></div>\n",
       "        "
      ],
      "text/plain": [
       "*nwb_file_name *interval_list *classifier_pa *encoding_set  posterior \n",
       "+------------+ +------------+ +------------+ +------------+ +--------+\n",
       "eliot20221021_ 02_Seq2Session causal_decodin 2Dheadspeed_ab =BLOB=    \n",
       "eliot20221021_ 02_Seq2Session default_decodi 2Dheadspeed_ab =BLOB=    \n",
       "eliot20221021_ 02_Seq2Session default_decodi 2Dheadspeed_ab =BLOB=    \n",
       "eliot20221021_ 02_Seq2Session default_decodi all_maze       =BLOB=    \n",
       "eliot20221021_ 02_Seq2Session default_decodi mobility_2Dhea =BLOB=    \n",
       "eliot20221021_ 02_Seq2Session default_decodi 2Dheadspeed_ab =BLOB=    \n",
       "eliot20221021_ 02_Seq2Session default_decodi 2Dheadspeed_ab =BLOB=    \n",
       "eliot20221021_ 04_Seq2Session causal_decodin 2Dheadspeed_ab =BLOB=    \n",
       "eliot20221021_ 04_Seq2Session default_decodi 2Dheadspeed_ab =BLOB=    \n",
       "eliot20221021_ 04_Seq2Session default_decodi 2Dheadspeed_ab =BLOB=    \n",
       "eliot20221021_ 04_Seq2Session default_decodi all_maze       =BLOB=    \n",
       "eliot20221021_ 04_Seq2Session default_decodi mobility_2Dhea =BLOB=    \n",
       "   ...\n",
       " (Total: 25)"
      ]
     },
     "execution_count": 8,
     "metadata": {},
     "output_type": "execute_result"
    }
   ],
   "source": [
    "DecodeResultsLinear & {'nwb_file_name':\"eliot20221021_.nwb\"}"
   ]
  },
  {
   "cell_type": "markdown",
   "id": "196139ec-6af9-4e7d-9ada-35cff94f2bd2",
   "metadata": {},
   "source": [
    "# End here"
   ]
  },
  {
   "cell_type": "code",
   "execution_count": null,
   "id": "91e97c8d-5826-4be2-8eda-b7301cb4368d",
   "metadata": {},
   "outputs": [],
   "source": []
  },
  {
   "cell_type": "code",
   "execution_count": 318,
   "id": "4eb848c0-6288-4107-88e0-25b3a5e98c57",
   "metadata": {},
   "outputs": [],
   "source": [
    "from spyglass.shijiegu.likelihoodDecode_helper import decimate_sum_marks"
   ]
  },
  {
   "cell_type": "code",
   "execution_count": 391,
   "id": "46bfaf82-5bf3-4f10-be11-311e3cb0889a",
   "metadata": {},
   "outputs": [],
   "source": [
    "entry = DecodeIngredientsLikelihood & {'nwb_file_name':nwb_copy_file_name,\n",
    "             'interval_list_name':session_interval[0],\"window_size\":0.04,\"overlap_size\":0.02}\n",
    "marks_ll = xr.open_dataset(entry.fetch1('marks'))"
   ]
  },
  {
   "cell_type": "code",
   "execution_count": 392,
   "id": "c13b1bf9-942d-4c59-9d47-88a20ec8778c",
   "metadata": {},
   "outputs": [],
   "source": [
    "marks_time_ll = marks_ll.time"
   ]
  },
  {
   "cell_type": "code",
   "execution_count": 393,
   "id": "cd69fadb-d8bb-4228-a3b7-28b5ba4b084d",
   "metadata": {},
   "outputs": [
    {
     "data": {
      "text/html": [
       "<div><svg style=\"position: absolute; width: 0; height: 0; overflow: hidden\">\n",
       "<defs>\n",
       "<symbol id=\"icon-database\" viewBox=\"0 0 32 32\">\n",
       "<path d=\"M16 0c-8.837 0-16 2.239-16 5v4c0 2.761 7.163 5 16 5s16-2.239 16-5v-4c0-2.761-7.163-5-16-5z\"></path>\n",
       "<path d=\"M16 17c-8.837 0-16-2.239-16-5v6c0 2.761 7.163 5 16 5s16-2.239 16-5v-6c0 2.761-7.163 5-16 5z\"></path>\n",
       "<path d=\"M16 26c-8.837 0-16-2.239-16-5v6c0 2.761 7.163 5 16 5s16-2.239 16-5v-6c0 2.761-7.163 5-16 5z\"></path>\n",
       "</symbol>\n",
       "<symbol id=\"icon-file-text2\" viewBox=\"0 0 32 32\">\n",
       "<path d=\"M28.681 7.159c-0.694-0.947-1.662-2.053-2.724-3.116s-2.169-2.030-3.116-2.724c-1.612-1.182-2.393-1.319-2.841-1.319h-15.5c-1.378 0-2.5 1.121-2.5 2.5v27c0 1.378 1.122 2.5 2.5 2.5h23c1.378 0 2.5-1.122 2.5-2.5v-19.5c0-0.448-0.137-1.23-1.319-2.841zM24.543 5.457c0.959 0.959 1.712 1.825 2.268 2.543h-4.811v-4.811c0.718 0.556 1.584 1.309 2.543 2.268zM28 29.5c0 0.271-0.229 0.5-0.5 0.5h-23c-0.271 0-0.5-0.229-0.5-0.5v-27c0-0.271 0.229-0.5 0.5-0.5 0 0 15.499-0 15.5 0v7c0 0.552 0.448 1 1 1h7v19.5z\"></path>\n",
       "<path d=\"M23 26h-14c-0.552 0-1-0.448-1-1s0.448-1 1-1h14c0.552 0 1 0.448 1 1s-0.448 1-1 1z\"></path>\n",
       "<path d=\"M23 22h-14c-0.552 0-1-0.448-1-1s0.448-1 1-1h14c0.552 0 1 0.448 1 1s-0.448 1-1 1z\"></path>\n",
       "<path d=\"M23 18h-14c-0.552 0-1-0.448-1-1s0.448-1 1-1h14c0.552 0 1 0.448 1 1s-0.448 1-1 1z\"></path>\n",
       "</symbol>\n",
       "</defs>\n",
       "</svg>\n",
       "<style>/* CSS stylesheet for displaying xarray objects in jupyterlab.\n",
       " *\n",
       " */\n",
       "\n",
       ":root {\n",
       "  --xr-font-color0: var(--jp-content-font-color0, rgba(0, 0, 0, 1));\n",
       "  --xr-font-color2: var(--jp-content-font-color2, rgba(0, 0, 0, 0.54));\n",
       "  --xr-font-color3: var(--jp-content-font-color3, rgba(0, 0, 0, 0.38));\n",
       "  --xr-border-color: var(--jp-border-color2, #e0e0e0);\n",
       "  --xr-disabled-color: var(--jp-layout-color3, #bdbdbd);\n",
       "  --xr-background-color: var(--jp-layout-color0, white);\n",
       "  --xr-background-color-row-even: var(--jp-layout-color1, white);\n",
       "  --xr-background-color-row-odd: var(--jp-layout-color2, #eeeeee);\n",
       "}\n",
       "\n",
       "html[theme=dark],\n",
       "body[data-theme=dark],\n",
       "body.vscode-dark {\n",
       "  --xr-font-color0: rgba(255, 255, 255, 1);\n",
       "  --xr-font-color2: rgba(255, 255, 255, 0.54);\n",
       "  --xr-font-color3: rgba(255, 255, 255, 0.38);\n",
       "  --xr-border-color: #1F1F1F;\n",
       "  --xr-disabled-color: #515151;\n",
       "  --xr-background-color: #111111;\n",
       "  --xr-background-color-row-even: #111111;\n",
       "  --xr-background-color-row-odd: #313131;\n",
       "}\n",
       "\n",
       ".xr-wrap {\n",
       "  display: block !important;\n",
       "  min-width: 300px;\n",
       "  max-width: 700px;\n",
       "}\n",
       "\n",
       ".xr-text-repr-fallback {\n",
       "  /* fallback to plain text repr when CSS is not injected (untrusted notebook) */\n",
       "  display: none;\n",
       "}\n",
       "\n",
       ".xr-header {\n",
       "  padding-top: 6px;\n",
       "  padding-bottom: 6px;\n",
       "  margin-bottom: 4px;\n",
       "  border-bottom: solid 1px var(--xr-border-color);\n",
       "}\n",
       "\n",
       ".xr-header > div,\n",
       ".xr-header > ul {\n",
       "  display: inline;\n",
       "  margin-top: 0;\n",
       "  margin-bottom: 0;\n",
       "}\n",
       "\n",
       ".xr-obj-type,\n",
       ".xr-array-name {\n",
       "  margin-left: 2px;\n",
       "  margin-right: 10px;\n",
       "}\n",
       "\n",
       ".xr-obj-type {\n",
       "  color: var(--xr-font-color2);\n",
       "}\n",
       "\n",
       ".xr-sections {\n",
       "  padding-left: 0 !important;\n",
       "  display: grid;\n",
       "  grid-template-columns: 150px auto auto 1fr 20px 20px;\n",
       "}\n",
       "\n",
       ".xr-section-item {\n",
       "  display: contents;\n",
       "}\n",
       "\n",
       ".xr-section-item input {\n",
       "  display: none;\n",
       "}\n",
       "\n",
       ".xr-section-item input + label {\n",
       "  color: var(--xr-disabled-color);\n",
       "}\n",
       "\n",
       ".xr-section-item input:enabled + label {\n",
       "  cursor: pointer;\n",
       "  color: var(--xr-font-color2);\n",
       "}\n",
       "\n",
       ".xr-section-item input:enabled + label:hover {\n",
       "  color: var(--xr-font-color0);\n",
       "}\n",
       "\n",
       ".xr-section-summary {\n",
       "  grid-column: 1;\n",
       "  color: var(--xr-font-color2);\n",
       "  font-weight: 500;\n",
       "}\n",
       "\n",
       ".xr-section-summary > span {\n",
       "  display: inline-block;\n",
       "  padding-left: 0.5em;\n",
       "}\n",
       "\n",
       ".xr-section-summary-in:disabled + label {\n",
       "  color: var(--xr-font-color2);\n",
       "}\n",
       "\n",
       ".xr-section-summary-in + label:before {\n",
       "  display: inline-block;\n",
       "  content: '►';\n",
       "  font-size: 11px;\n",
       "  width: 15px;\n",
       "  text-align: center;\n",
       "}\n",
       "\n",
       ".xr-section-summary-in:disabled + label:before {\n",
       "  color: var(--xr-disabled-color);\n",
       "}\n",
       "\n",
       ".xr-section-summary-in:checked + label:before {\n",
       "  content: '▼';\n",
       "}\n",
       "\n",
       ".xr-section-summary-in:checked + label > span {\n",
       "  display: none;\n",
       "}\n",
       "\n",
       ".xr-section-summary,\n",
       ".xr-section-inline-details {\n",
       "  padding-top: 4px;\n",
       "  padding-bottom: 4px;\n",
       "}\n",
       "\n",
       ".xr-section-inline-details {\n",
       "  grid-column: 2 / -1;\n",
       "}\n",
       "\n",
       ".xr-section-details {\n",
       "  display: none;\n",
       "  grid-column: 1 / -1;\n",
       "  margin-bottom: 5px;\n",
       "}\n",
       "\n",
       ".xr-section-summary-in:checked ~ .xr-section-details {\n",
       "  display: contents;\n",
       "}\n",
       "\n",
       ".xr-array-wrap {\n",
       "  grid-column: 1 / -1;\n",
       "  display: grid;\n",
       "  grid-template-columns: 20px auto;\n",
       "}\n",
       "\n",
       ".xr-array-wrap > label {\n",
       "  grid-column: 1;\n",
       "  vertical-align: top;\n",
       "}\n",
       "\n",
       ".xr-preview {\n",
       "  color: var(--xr-font-color3);\n",
       "}\n",
       "\n",
       ".xr-array-preview,\n",
       ".xr-array-data {\n",
       "  padding: 0 5px !important;\n",
       "  grid-column: 2;\n",
       "}\n",
       "\n",
       ".xr-array-data,\n",
       ".xr-array-in:checked ~ .xr-array-preview {\n",
       "  display: none;\n",
       "}\n",
       "\n",
       ".xr-array-in:checked ~ .xr-array-data,\n",
       ".xr-array-preview {\n",
       "  display: inline-block;\n",
       "}\n",
       "\n",
       ".xr-dim-list {\n",
       "  display: inline-block !important;\n",
       "  list-style: none;\n",
       "  padding: 0 !important;\n",
       "  margin: 0;\n",
       "}\n",
       "\n",
       ".xr-dim-list li {\n",
       "  display: inline-block;\n",
       "  padding: 0;\n",
       "  margin: 0;\n",
       "}\n",
       "\n",
       ".xr-dim-list:before {\n",
       "  content: '(';\n",
       "}\n",
       "\n",
       ".xr-dim-list:after {\n",
       "  content: ')';\n",
       "}\n",
       "\n",
       ".xr-dim-list li:not(:last-child):after {\n",
       "  content: ',';\n",
       "  padding-right: 5px;\n",
       "}\n",
       "\n",
       ".xr-has-index {\n",
       "  font-weight: bold;\n",
       "}\n",
       "\n",
       ".xr-var-list,\n",
       ".xr-var-item {\n",
       "  display: contents;\n",
       "}\n",
       "\n",
       ".xr-var-item > div,\n",
       ".xr-var-item label,\n",
       ".xr-var-item > .xr-var-name span {\n",
       "  background-color: var(--xr-background-color-row-even);\n",
       "  margin-bottom: 0;\n",
       "}\n",
       "\n",
       ".xr-var-item > .xr-var-name:hover span {\n",
       "  padding-right: 5px;\n",
       "}\n",
       "\n",
       ".xr-var-list > li:nth-child(odd) > div,\n",
       ".xr-var-list > li:nth-child(odd) > label,\n",
       ".xr-var-list > li:nth-child(odd) > .xr-var-name span {\n",
       "  background-color: var(--xr-background-color-row-odd);\n",
       "}\n",
       "\n",
       ".xr-var-name {\n",
       "  grid-column: 1;\n",
       "}\n",
       "\n",
       ".xr-var-dims {\n",
       "  grid-column: 2;\n",
       "}\n",
       "\n",
       ".xr-var-dtype {\n",
       "  grid-column: 3;\n",
       "  text-align: right;\n",
       "  color: var(--xr-font-color2);\n",
       "}\n",
       "\n",
       ".xr-var-preview {\n",
       "  grid-column: 4;\n",
       "}\n",
       "\n",
       ".xr-index-preview {\n",
       "  grid-column: 2 / 5;\n",
       "  color: var(--xr-font-color2);\n",
       "}\n",
       "\n",
       ".xr-var-name,\n",
       ".xr-var-dims,\n",
       ".xr-var-dtype,\n",
       ".xr-preview,\n",
       ".xr-attrs dt {\n",
       "  white-space: nowrap;\n",
       "  overflow: hidden;\n",
       "  text-overflow: ellipsis;\n",
       "  padding-right: 10px;\n",
       "}\n",
       "\n",
       ".xr-var-name:hover,\n",
       ".xr-var-dims:hover,\n",
       ".xr-var-dtype:hover,\n",
       ".xr-attrs dt:hover {\n",
       "  overflow: visible;\n",
       "  width: auto;\n",
       "  z-index: 1;\n",
       "}\n",
       "\n",
       ".xr-var-attrs,\n",
       ".xr-var-data,\n",
       ".xr-index-data {\n",
       "  display: none;\n",
       "  background-color: var(--xr-background-color) !important;\n",
       "  padding-bottom: 5px !important;\n",
       "}\n",
       "\n",
       ".xr-var-attrs-in:checked ~ .xr-var-attrs,\n",
       ".xr-var-data-in:checked ~ .xr-var-data,\n",
       ".xr-index-data-in:checked ~ .xr-index-data {\n",
       "  display: block;\n",
       "}\n",
       "\n",
       ".xr-var-data > table {\n",
       "  float: right;\n",
       "}\n",
       "\n",
       ".xr-var-name span,\n",
       ".xr-var-data,\n",
       ".xr-index-name div,\n",
       ".xr-index-data,\n",
       ".xr-attrs {\n",
       "  padding-left: 25px !important;\n",
       "}\n",
       "\n",
       ".xr-attrs,\n",
       ".xr-var-attrs,\n",
       ".xr-var-data,\n",
       ".xr-index-data {\n",
       "  grid-column: 1 / -1;\n",
       "}\n",
       "\n",
       "dl.xr-attrs {\n",
       "  padding: 0;\n",
       "  margin: 0;\n",
       "  display: grid;\n",
       "  grid-template-columns: 125px auto;\n",
       "}\n",
       "\n",
       ".xr-attrs dt,\n",
       ".xr-attrs dd {\n",
       "  padding: 0;\n",
       "  margin: 0;\n",
       "  float: left;\n",
       "  padding-right: 10px;\n",
       "  width: auto;\n",
       "}\n",
       "\n",
       ".xr-attrs dt {\n",
       "  font-weight: normal;\n",
       "  grid-column: 1;\n",
       "}\n",
       "\n",
       ".xr-attrs dt:hover span {\n",
       "  display: inline-block;\n",
       "  background: var(--xr-background-color);\n",
       "  padding-right: 10px;\n",
       "}\n",
       "\n",
       ".xr-attrs dd {\n",
       "  grid-column: 2;\n",
       "  white-space: pre-wrap;\n",
       "  word-break: break-all;\n",
       "}\n",
       "\n",
       ".xr-icon-database,\n",
       ".xr-icon-file-text2,\n",
       ".xr-no-icon {\n",
       "  display: inline-block;\n",
       "  vertical-align: middle;\n",
       "  width: 1em;\n",
       "  height: 1.5em !important;\n",
       "  stroke-width: 0;\n",
       "  stroke: currentColor;\n",
       "  fill: currentColor;\n",
       "}\n",
       "</style><pre class='xr-text-repr-fallback'>&lt;xarray.DataArray &#x27;time&#x27; ()&gt;\n",
       "array(0.01999998)</pre><div class='xr-wrap' style='display:none'><div class='xr-header'><div class='xr-obj-type'>xarray.DataArray</div><div class='xr-array-name'>'time'</div></div><ul class='xr-sections'><li class='xr-section-item'><div class='xr-array-wrap'><input id='section-0c04dbe7-0496-4020-b53e-4e2ca581c8be' class='xr-array-in' type='checkbox' checked><label for='section-0c04dbe7-0496-4020-b53e-4e2ca581c8be' title='Show/hide data repr'><svg class='icon xr-icon-database'><use xlink:href='#icon-database'></use></svg></label><div class='xr-array-preview xr-preview'><span>0.02</span></div><div class='xr-array-data'><pre>array(0.01999998)</pre></div></div></li><li class='xr-section-item'><input id='section-90bdb1e1-b8b9-4ddf-9b38-3c470e5f8db6' class='xr-section-summary-in' type='checkbox' disabled ><label for='section-90bdb1e1-b8b9-4ddf-9b38-3c470e5f8db6' class='xr-section-summary'  title='Expand/collapse section'>Coordinates: <span>(0)</span></label><div class='xr-section-inline-details'></div><div class='xr-section-details'><ul class='xr-var-list'></ul></div></li><li class='xr-section-item'><input id='section-d3ead0fb-b730-4398-9fd0-6c5fac0dafd8' class='xr-section-summary-in' type='checkbox' disabled ><label for='section-d3ead0fb-b730-4398-9fd0-6c5fac0dafd8' class='xr-section-summary'  title='Expand/collapse section'>Indexes: <span>(0)</span></label><div class='xr-section-inline-details'></div><div class='xr-section-details'><ul class='xr-var-list'></ul></div></li><li class='xr-section-item'><input id='section-b6c1105c-640f-4a57-8a1f-acfe9d19b8d7' class='xr-section-summary-in' type='checkbox' disabled ><label for='section-b6c1105c-640f-4a57-8a1f-acfe9d19b8d7' class='xr-section-summary'  title='Expand/collapse section'>Attributes: <span>(0)</span></label><div class='xr-section-inline-details'></div><div class='xr-section-details'><dl class='xr-attrs'></dl></div></li></ul></div></div>"
      ],
      "text/plain": [
       "<xarray.DataArray 'time' ()>\n",
       "array(0.01999998)"
      ]
     },
     "execution_count": 393,
     "metadata": {},
     "output_type": "execute_result"
    }
   ],
   "source": [
    "marks_time_ll[10] - marks_time_ll[9]"
   ]
  },
  {
   "cell_type": "code",
   "execution_count": 329,
   "id": "d80a8d17-c4f2-4aa8-a49d-285c9b245991",
   "metadata": {},
   "outputs": [
    {
     "name": "stdout",
     "output_type": "stream",
     "text": [
      "(1111304, 4)\n"
     ]
    },
    {
     "data": {
      "text/plain": [
       "11706"
      ]
     },
     "execution_count": 329,
     "metadata": {},
     "output_type": "execute_result"
    }
   ],
   "source": [
    "entry = DecodeIngredients & {'nwb_file_name':nwb_copy_file_name,\n",
    "             'interval_list_name':session_interval[0]}\n",
    "marks = xr.open_dataset(entry.fetch1('marks'))\n",
    "\n",
    "mark_subset = np.array(marks.sel({\"electrodes\":31}).to_dataarray()).squeeze()\n",
    "print(mark_subset.shape)\n",
    "np.sum(~np.isnan(mark_subset[:,2]))"
   ]
  },
  {
   "cell_type": "code",
   "execution_count": 357,
   "id": "116774f7-35d3-474b-8d77-b92d43439d7f",
   "metadata": {},
   "outputs": [
    {
     "data": {
      "text/html": [
       "<div><svg style=\"position: absolute; width: 0; height: 0; overflow: hidden\">\n",
       "<defs>\n",
       "<symbol id=\"icon-database\" viewBox=\"0 0 32 32\">\n",
       "<path d=\"M16 0c-8.837 0-16 2.239-16 5v4c0 2.761 7.163 5 16 5s16-2.239 16-5v-4c0-2.761-7.163-5-16-5z\"></path>\n",
       "<path d=\"M16 17c-8.837 0-16-2.239-16-5v6c0 2.761 7.163 5 16 5s16-2.239 16-5v-6c0 2.761-7.163 5-16 5z\"></path>\n",
       "<path d=\"M16 26c-8.837 0-16-2.239-16-5v6c0 2.761 7.163 5 16 5s16-2.239 16-5v-6c0 2.761-7.163 5-16 5z\"></path>\n",
       "</symbol>\n",
       "<symbol id=\"icon-file-text2\" viewBox=\"0 0 32 32\">\n",
       "<path d=\"M28.681 7.159c-0.694-0.947-1.662-2.053-2.724-3.116s-2.169-2.030-3.116-2.724c-1.612-1.182-2.393-1.319-2.841-1.319h-15.5c-1.378 0-2.5 1.121-2.5 2.5v27c0 1.378 1.122 2.5 2.5 2.5h23c1.378 0 2.5-1.122 2.5-2.5v-19.5c0-0.448-0.137-1.23-1.319-2.841zM24.543 5.457c0.959 0.959 1.712 1.825 2.268 2.543h-4.811v-4.811c0.718 0.556 1.584 1.309 2.543 2.268zM28 29.5c0 0.271-0.229 0.5-0.5 0.5h-23c-0.271 0-0.5-0.229-0.5-0.5v-27c0-0.271 0.229-0.5 0.5-0.5 0 0 15.499-0 15.5 0v7c0 0.552 0.448 1 1 1h7v19.5z\"></path>\n",
       "<path d=\"M23 26h-14c-0.552 0-1-0.448-1-1s0.448-1 1-1h14c0.552 0 1 0.448 1 1s-0.448 1-1 1z\"></path>\n",
       "<path d=\"M23 22h-14c-0.552 0-1-0.448-1-1s0.448-1 1-1h14c0.552 0 1 0.448 1 1s-0.448 1-1 1z\"></path>\n",
       "<path d=\"M23 18h-14c-0.552 0-1-0.448-1-1s0.448-1 1-1h14c0.552 0 1 0.448 1 1s-0.448 1-1 1z\"></path>\n",
       "</symbol>\n",
       "</defs>\n",
       "</svg>\n",
       "<style>/* CSS stylesheet for displaying xarray objects in jupyterlab.\n",
       " *\n",
       " */\n",
       "\n",
       ":root {\n",
       "  --xr-font-color0: var(--jp-content-font-color0, rgba(0, 0, 0, 1));\n",
       "  --xr-font-color2: var(--jp-content-font-color2, rgba(0, 0, 0, 0.54));\n",
       "  --xr-font-color3: var(--jp-content-font-color3, rgba(0, 0, 0, 0.38));\n",
       "  --xr-border-color: var(--jp-border-color2, #e0e0e0);\n",
       "  --xr-disabled-color: var(--jp-layout-color3, #bdbdbd);\n",
       "  --xr-background-color: var(--jp-layout-color0, white);\n",
       "  --xr-background-color-row-even: var(--jp-layout-color1, white);\n",
       "  --xr-background-color-row-odd: var(--jp-layout-color2, #eeeeee);\n",
       "}\n",
       "\n",
       "html[theme=dark],\n",
       "body[data-theme=dark],\n",
       "body.vscode-dark {\n",
       "  --xr-font-color0: rgba(255, 255, 255, 1);\n",
       "  --xr-font-color2: rgba(255, 255, 255, 0.54);\n",
       "  --xr-font-color3: rgba(255, 255, 255, 0.38);\n",
       "  --xr-border-color: #1F1F1F;\n",
       "  --xr-disabled-color: #515151;\n",
       "  --xr-background-color: #111111;\n",
       "  --xr-background-color-row-even: #111111;\n",
       "  --xr-background-color-row-odd: #313131;\n",
       "}\n",
       "\n",
       ".xr-wrap {\n",
       "  display: block !important;\n",
       "  min-width: 300px;\n",
       "  max-width: 700px;\n",
       "}\n",
       "\n",
       ".xr-text-repr-fallback {\n",
       "  /* fallback to plain text repr when CSS is not injected (untrusted notebook) */\n",
       "  display: none;\n",
       "}\n",
       "\n",
       ".xr-header {\n",
       "  padding-top: 6px;\n",
       "  padding-bottom: 6px;\n",
       "  margin-bottom: 4px;\n",
       "  border-bottom: solid 1px var(--xr-border-color);\n",
       "}\n",
       "\n",
       ".xr-header > div,\n",
       ".xr-header > ul {\n",
       "  display: inline;\n",
       "  margin-top: 0;\n",
       "  margin-bottom: 0;\n",
       "}\n",
       "\n",
       ".xr-obj-type,\n",
       ".xr-array-name {\n",
       "  margin-left: 2px;\n",
       "  margin-right: 10px;\n",
       "}\n",
       "\n",
       ".xr-obj-type {\n",
       "  color: var(--xr-font-color2);\n",
       "}\n",
       "\n",
       ".xr-sections {\n",
       "  padding-left: 0 !important;\n",
       "  display: grid;\n",
       "  grid-template-columns: 150px auto auto 1fr 20px 20px;\n",
       "}\n",
       "\n",
       ".xr-section-item {\n",
       "  display: contents;\n",
       "}\n",
       "\n",
       ".xr-section-item input {\n",
       "  display: none;\n",
       "}\n",
       "\n",
       ".xr-section-item input + label {\n",
       "  color: var(--xr-disabled-color);\n",
       "}\n",
       "\n",
       ".xr-section-item input:enabled + label {\n",
       "  cursor: pointer;\n",
       "  color: var(--xr-font-color2);\n",
       "}\n",
       "\n",
       ".xr-section-item input:enabled + label:hover {\n",
       "  color: var(--xr-font-color0);\n",
       "}\n",
       "\n",
       ".xr-section-summary {\n",
       "  grid-column: 1;\n",
       "  color: var(--xr-font-color2);\n",
       "  font-weight: 500;\n",
       "}\n",
       "\n",
       ".xr-section-summary > span {\n",
       "  display: inline-block;\n",
       "  padding-left: 0.5em;\n",
       "}\n",
       "\n",
       ".xr-section-summary-in:disabled + label {\n",
       "  color: var(--xr-font-color2);\n",
       "}\n",
       "\n",
       ".xr-section-summary-in + label:before {\n",
       "  display: inline-block;\n",
       "  content: '►';\n",
       "  font-size: 11px;\n",
       "  width: 15px;\n",
       "  text-align: center;\n",
       "}\n",
       "\n",
       ".xr-section-summary-in:disabled + label:before {\n",
       "  color: var(--xr-disabled-color);\n",
       "}\n",
       "\n",
       ".xr-section-summary-in:checked + label:before {\n",
       "  content: '▼';\n",
       "}\n",
       "\n",
       ".xr-section-summary-in:checked + label > span {\n",
       "  display: none;\n",
       "}\n",
       "\n",
       ".xr-section-summary,\n",
       ".xr-section-inline-details {\n",
       "  padding-top: 4px;\n",
       "  padding-bottom: 4px;\n",
       "}\n",
       "\n",
       ".xr-section-inline-details {\n",
       "  grid-column: 2 / -1;\n",
       "}\n",
       "\n",
       ".xr-section-details {\n",
       "  display: none;\n",
       "  grid-column: 1 / -1;\n",
       "  margin-bottom: 5px;\n",
       "}\n",
       "\n",
       ".xr-section-summary-in:checked ~ .xr-section-details {\n",
       "  display: contents;\n",
       "}\n",
       "\n",
       ".xr-array-wrap {\n",
       "  grid-column: 1 / -1;\n",
       "  display: grid;\n",
       "  grid-template-columns: 20px auto;\n",
       "}\n",
       "\n",
       ".xr-array-wrap > label {\n",
       "  grid-column: 1;\n",
       "  vertical-align: top;\n",
       "}\n",
       "\n",
       ".xr-preview {\n",
       "  color: var(--xr-font-color3);\n",
       "}\n",
       "\n",
       ".xr-array-preview,\n",
       ".xr-array-data {\n",
       "  padding: 0 5px !important;\n",
       "  grid-column: 2;\n",
       "}\n",
       "\n",
       ".xr-array-data,\n",
       ".xr-array-in:checked ~ .xr-array-preview {\n",
       "  display: none;\n",
       "}\n",
       "\n",
       ".xr-array-in:checked ~ .xr-array-data,\n",
       ".xr-array-preview {\n",
       "  display: inline-block;\n",
       "}\n",
       "\n",
       ".xr-dim-list {\n",
       "  display: inline-block !important;\n",
       "  list-style: none;\n",
       "  padding: 0 !important;\n",
       "  margin: 0;\n",
       "}\n",
       "\n",
       ".xr-dim-list li {\n",
       "  display: inline-block;\n",
       "  padding: 0;\n",
       "  margin: 0;\n",
       "}\n",
       "\n",
       ".xr-dim-list:before {\n",
       "  content: '(';\n",
       "}\n",
       "\n",
       ".xr-dim-list:after {\n",
       "  content: ')';\n",
       "}\n",
       "\n",
       ".xr-dim-list li:not(:last-child):after {\n",
       "  content: ',';\n",
       "  padding-right: 5px;\n",
       "}\n",
       "\n",
       ".xr-has-index {\n",
       "  font-weight: bold;\n",
       "}\n",
       "\n",
       ".xr-var-list,\n",
       ".xr-var-item {\n",
       "  display: contents;\n",
       "}\n",
       "\n",
       ".xr-var-item > div,\n",
       ".xr-var-item label,\n",
       ".xr-var-item > .xr-var-name span {\n",
       "  background-color: var(--xr-background-color-row-even);\n",
       "  margin-bottom: 0;\n",
       "}\n",
       "\n",
       ".xr-var-item > .xr-var-name:hover span {\n",
       "  padding-right: 5px;\n",
       "}\n",
       "\n",
       ".xr-var-list > li:nth-child(odd) > div,\n",
       ".xr-var-list > li:nth-child(odd) > label,\n",
       ".xr-var-list > li:nth-child(odd) > .xr-var-name span {\n",
       "  background-color: var(--xr-background-color-row-odd);\n",
       "}\n",
       "\n",
       ".xr-var-name {\n",
       "  grid-column: 1;\n",
       "}\n",
       "\n",
       ".xr-var-dims {\n",
       "  grid-column: 2;\n",
       "}\n",
       "\n",
       ".xr-var-dtype {\n",
       "  grid-column: 3;\n",
       "  text-align: right;\n",
       "  color: var(--xr-font-color2);\n",
       "}\n",
       "\n",
       ".xr-var-preview {\n",
       "  grid-column: 4;\n",
       "}\n",
       "\n",
       ".xr-index-preview {\n",
       "  grid-column: 2 / 5;\n",
       "  color: var(--xr-font-color2);\n",
       "}\n",
       "\n",
       ".xr-var-name,\n",
       ".xr-var-dims,\n",
       ".xr-var-dtype,\n",
       ".xr-preview,\n",
       ".xr-attrs dt {\n",
       "  white-space: nowrap;\n",
       "  overflow: hidden;\n",
       "  text-overflow: ellipsis;\n",
       "  padding-right: 10px;\n",
       "}\n",
       "\n",
       ".xr-var-name:hover,\n",
       ".xr-var-dims:hover,\n",
       ".xr-var-dtype:hover,\n",
       ".xr-attrs dt:hover {\n",
       "  overflow: visible;\n",
       "  width: auto;\n",
       "  z-index: 1;\n",
       "}\n",
       "\n",
       ".xr-var-attrs,\n",
       ".xr-var-data,\n",
       ".xr-index-data {\n",
       "  display: none;\n",
       "  background-color: var(--xr-background-color) !important;\n",
       "  padding-bottom: 5px !important;\n",
       "}\n",
       "\n",
       ".xr-var-attrs-in:checked ~ .xr-var-attrs,\n",
       ".xr-var-data-in:checked ~ .xr-var-data,\n",
       ".xr-index-data-in:checked ~ .xr-index-data {\n",
       "  display: block;\n",
       "}\n",
       "\n",
       ".xr-var-data > table {\n",
       "  float: right;\n",
       "}\n",
       "\n",
       ".xr-var-name span,\n",
       ".xr-var-data,\n",
       ".xr-index-name div,\n",
       ".xr-index-data,\n",
       ".xr-attrs {\n",
       "  padding-left: 25px !important;\n",
       "}\n",
       "\n",
       ".xr-attrs,\n",
       ".xr-var-attrs,\n",
       ".xr-var-data,\n",
       ".xr-index-data {\n",
       "  grid-column: 1 / -1;\n",
       "}\n",
       "\n",
       "dl.xr-attrs {\n",
       "  padding: 0;\n",
       "  margin: 0;\n",
       "  display: grid;\n",
       "  grid-template-columns: 125px auto;\n",
       "}\n",
       "\n",
       ".xr-attrs dt,\n",
       ".xr-attrs dd {\n",
       "  padding: 0;\n",
       "  margin: 0;\n",
       "  float: left;\n",
       "  padding-right: 10px;\n",
       "  width: auto;\n",
       "}\n",
       "\n",
       ".xr-attrs dt {\n",
       "  font-weight: normal;\n",
       "  grid-column: 1;\n",
       "}\n",
       "\n",
       ".xr-attrs dt:hover span {\n",
       "  display: inline-block;\n",
       "  background: var(--xr-background-color);\n",
       "  padding-right: 10px;\n",
       "}\n",
       "\n",
       ".xr-attrs dd {\n",
       "  grid-column: 2;\n",
       "  white-space: pre-wrap;\n",
       "  word-break: break-all;\n",
       "}\n",
       "\n",
       ".xr-icon-database,\n",
       ".xr-icon-file-text2,\n",
       ".xr-no-icon {\n",
       "  display: inline-block;\n",
       "  vertical-align: middle;\n",
       "  width: 1em;\n",
       "  height: 1.5em !important;\n",
       "  stroke-width: 0;\n",
       "  stroke: currentColor;\n",
       "  fill: currentColor;\n",
       "}\n",
       "</style><pre class='xr-text-repr-fallback'>&lt;xarray.Dataset&gt;\n",
       "Dimensions:                        (time: 1111304, marks: 4, electrodes: 16)\n",
       "Coordinates:\n",
       "  * time                           (time) float64 1.666e+09 ... 1.666e+09\n",
       "  * electrodes                     (electrodes) int32 0 2 4 5 13 ... 28 29 30 31\n",
       "  * marks                          (marks) object &#x27;amplitude_0000&#x27; ... &#x27;ampli...\n",
       "Data variables:\n",
       "    __xarray_dataarray_variable__  (time, marks, electrodes) float32 ...</pre><div class='xr-wrap' style='display:none'><div class='xr-header'><div class='xr-obj-type'>xarray.Dataset</div></div><ul class='xr-sections'><li class='xr-section-item'><input id='section-5f3c45ad-e8ba-4715-8860-deed8e4d2d61' class='xr-section-summary-in' type='checkbox' disabled ><label for='section-5f3c45ad-e8ba-4715-8860-deed8e4d2d61' class='xr-section-summary'  title='Expand/collapse section'>Dimensions:</label><div class='xr-section-inline-details'><ul class='xr-dim-list'><li><span class='xr-has-index'>time</span>: 1111304</li><li><span class='xr-has-index'>marks</span>: 4</li><li><span class='xr-has-index'>electrodes</span>: 16</li></ul></div><div class='xr-section-details'></div></li><li class='xr-section-item'><input id='section-2e428573-b508-4bd8-8eaf-6d002ee70ee2' class='xr-section-summary-in' type='checkbox'  checked><label for='section-2e428573-b508-4bd8-8eaf-6d002ee70ee2' class='xr-section-summary' >Coordinates: <span>(3)</span></label><div class='xr-section-inline-details'></div><div class='xr-section-details'><ul class='xr-var-list'><li class='xr-var-item'><div class='xr-var-name'><span class='xr-has-index'>time</span></div><div class='xr-var-dims'>(time)</div><div class='xr-var-dtype'>float64</div><div class='xr-var-preview xr-preview'>1.666e+09 1.666e+09 ... 1.666e+09</div><input id='attrs-e7695a7a-7e44-4947-87c7-2ce939d218e4' class='xr-var-attrs-in' type='checkbox' disabled><label for='attrs-e7695a7a-7e44-4947-87c7-2ce939d218e4' title='Show/Hide attributes'><svg class='icon xr-icon-file-text2'><use xlink:href='#icon-file-text2'></use></svg></label><input id='data-913ff029-b423-4236-921c-1fd65ae24a04' class='xr-var-data-in' type='checkbox'><label for='data-913ff029-b423-4236-921c-1fd65ae24a04' title='Show/Hide data repr'><svg class='icon xr-icon-database'><use xlink:href='#icon-database'></use></svg></label><div class='xr-var-attrs'><dl class='xr-attrs'></dl></div><div class='xr-var-data'><pre>array([1.666383e+09, 1.666383e+09, 1.666383e+09, ..., 1.666385e+09,\n",
       "       1.666385e+09, 1.666385e+09])</pre></div></li><li class='xr-var-item'><div class='xr-var-name'><span class='xr-has-index'>electrodes</span></div><div class='xr-var-dims'>(electrodes)</div><div class='xr-var-dtype'>int32</div><div class='xr-var-preview xr-preview'>0 2 4 5 13 14 ... 26 27 28 29 30 31</div><input id='attrs-41115a5d-d81f-44c9-bb64-edabb4de0627' class='xr-var-attrs-in' type='checkbox' disabled><label for='attrs-41115a5d-d81f-44c9-bb64-edabb4de0627' title='Show/Hide attributes'><svg class='icon xr-icon-file-text2'><use xlink:href='#icon-file-text2'></use></svg></label><input id='data-6ce657f5-2ec2-47b9-8992-650928dec17a' class='xr-var-data-in' type='checkbox'><label for='data-6ce657f5-2ec2-47b9-8992-650928dec17a' title='Show/Hide data repr'><svg class='icon xr-icon-database'><use xlink:href='#icon-database'></use></svg></label><div class='xr-var-attrs'><dl class='xr-attrs'></dl></div><div class='xr-var-data'><pre>array([ 0,  2,  4,  5, 13, 14, 16, 17, 20, 23, 26, 27, 28, 29, 30, 31],\n",
       "      dtype=int32)</pre></div></li><li class='xr-var-item'><div class='xr-var-name'><span class='xr-has-index'>marks</span></div><div class='xr-var-dims'>(marks)</div><div class='xr-var-dtype'>object</div><div class='xr-var-preview xr-preview'>&#x27;amplitude_0000&#x27; ... &#x27;amplitude_...</div><input id='attrs-cd8f15ea-6224-4c95-bcde-80e19bc99c0c' class='xr-var-attrs-in' type='checkbox' disabled><label for='attrs-cd8f15ea-6224-4c95-bcde-80e19bc99c0c' title='Show/Hide attributes'><svg class='icon xr-icon-file-text2'><use xlink:href='#icon-file-text2'></use></svg></label><input id='data-47163704-4c9c-4e16-ab1c-c83858fa5415' class='xr-var-data-in' type='checkbox'><label for='data-47163704-4c9c-4e16-ab1c-c83858fa5415' title='Show/Hide data repr'><svg class='icon xr-icon-database'><use xlink:href='#icon-database'></use></svg></label><div class='xr-var-attrs'><dl class='xr-attrs'></dl></div><div class='xr-var-data'><pre>array([&#x27;amplitude_0000&#x27;, &#x27;amplitude_0001&#x27;, &#x27;amplitude_0002&#x27;, &#x27;amplitude_0003&#x27;],\n",
       "      dtype=object)</pre></div></li></ul></div></li><li class='xr-section-item'><input id='section-e6882989-b408-497f-8c75-3abf77029a3c' class='xr-section-summary-in' type='checkbox'  checked><label for='section-e6882989-b408-497f-8c75-3abf77029a3c' class='xr-section-summary' >Data variables: <span>(1)</span></label><div class='xr-section-inline-details'></div><div class='xr-section-details'><ul class='xr-var-list'><li class='xr-var-item'><div class='xr-var-name'><span>__xarray_dataarray_variable__</span></div><div class='xr-var-dims'>(time, marks, electrodes)</div><div class='xr-var-dtype'>float32</div><div class='xr-var-preview xr-preview'>...</div><input id='attrs-cd0d9a84-3a57-4e3b-bafb-30103899f5a1' class='xr-var-attrs-in' type='checkbox' disabled><label for='attrs-cd0d9a84-3a57-4e3b-bafb-30103899f5a1' title='Show/Hide attributes'><svg class='icon xr-icon-file-text2'><use xlink:href='#icon-file-text2'></use></svg></label><input id='data-5fac5861-80de-4c65-99ad-3c0df5391dac' class='xr-var-data-in' type='checkbox'><label for='data-5fac5861-80de-4c65-99ad-3c0df5391dac' title='Show/Hide data repr'><svg class='icon xr-icon-database'><use xlink:href='#icon-database'></use></svg></label><div class='xr-var-attrs'><dl class='xr-attrs'></dl></div><div class='xr-var-data'><pre>[71123456 values with dtype=float32]</pre></div></li></ul></div></li><li class='xr-section-item'><input id='section-2aef63f5-433c-41ac-814e-1da27ac31345' class='xr-section-summary-in' type='checkbox'  ><label for='section-2aef63f5-433c-41ac-814e-1da27ac31345' class='xr-section-summary' >Indexes: <span>(3)</span></label><div class='xr-section-inline-details'></div><div class='xr-section-details'><ul class='xr-var-list'><li class='xr-var-item'><div class='xr-index-name'><div>time</div></div><div class='xr-index-preview'>PandasIndex</div><div></div><input id='index-db6fc91e-a68d-481a-a9b0-ee645298030d' class='xr-index-data-in' type='checkbox'/><label for='index-db6fc91e-a68d-481a-a9b0-ee645298030d' title='Show/Hide index repr'><svg class='icon xr-icon-database'><use xlink:href='#icon-database'></use></svg></label><div class='xr-index-data'><pre>PandasIndex(Index([ 1666382967.675974,  1666382967.677974,  1666382967.679974,\n",
       "        1666382967.681974,  1666382967.683974,  1666382967.685974,\n",
       "        1666382967.687974,  1666382967.689974,  1666382967.691974,\n",
       "        1666382967.693974,\n",
       "       ...\n",
       "       1666385190.2630155, 1666385190.2650156, 1666385190.2670155,\n",
       "       1666385190.2690156, 1666385190.2710156, 1666385190.2730155,\n",
       "       1666385190.2750156, 1666385190.2770154, 1666385190.2790155,\n",
       "       1666385190.2810156],\n",
       "      dtype=&#x27;float64&#x27;, name=&#x27;time&#x27;, length=1111304))</pre></div></li><li class='xr-var-item'><div class='xr-index-name'><div>electrodes</div></div><div class='xr-index-preview'>PandasIndex</div><div></div><input id='index-021d5723-f371-4153-af13-14037c157656' class='xr-index-data-in' type='checkbox'/><label for='index-021d5723-f371-4153-af13-14037c157656' title='Show/Hide index repr'><svg class='icon xr-icon-database'><use xlink:href='#icon-database'></use></svg></label><div class='xr-index-data'><pre>PandasIndex(Index([0, 2, 4, 5, 13, 14, 16, 17, 20, 23, 26, 27, 28, 29, 30, 31], dtype=&#x27;int32&#x27;, name=&#x27;electrodes&#x27;))</pre></div></li><li class='xr-var-item'><div class='xr-index-name'><div>marks</div></div><div class='xr-index-preview'>PandasIndex</div><div></div><input id='index-35c65633-c5b8-446f-9df2-589240028c62' class='xr-index-data-in' type='checkbox'/><label for='index-35c65633-c5b8-446f-9df2-589240028c62' title='Show/Hide index repr'><svg class='icon xr-icon-database'><use xlink:href='#icon-database'></use></svg></label><div class='xr-index-data'><pre>PandasIndex(Index([&#x27;amplitude_0000&#x27;, &#x27;amplitude_0001&#x27;, &#x27;amplitude_0002&#x27;, &#x27;amplitude_0003&#x27;], dtype=&#x27;object&#x27;, name=&#x27;marks&#x27;))</pre></div></li></ul></div></li><li class='xr-section-item'><input id='section-44fc908d-bcd2-4e12-957e-ba8163f7b776' class='xr-section-summary-in' type='checkbox' disabled ><label for='section-44fc908d-bcd2-4e12-957e-ba8163f7b776' class='xr-section-summary'  title='Expand/collapse section'>Attributes: <span>(0)</span></label><div class='xr-section-inline-details'></div><div class='xr-section-details'><dl class='xr-attrs'></dl></div></li></ul></div></div>"
      ],
      "text/plain": [
       "<xarray.Dataset>\n",
       "Dimensions:                        (time: 1111304, marks: 4, electrodes: 16)\n",
       "Coordinates:\n",
       "  * time                           (time) float64 1.666e+09 ... 1.666e+09\n",
       "  * electrodes                     (electrodes) int32 0 2 4 5 13 ... 28 29 30 31\n",
       "  * marks                          (marks) object 'amplitude_0000' ... 'ampli...\n",
       "Data variables:\n",
       "    __xarray_dataarray_variable__  (time, marks, electrodes) float32 ..."
      ]
     },
     "execution_count": 357,
     "metadata": {},
     "output_type": "execute_result"
    }
   ],
   "source": [
    "marks"
   ]
  },
  {
   "cell_type": "code",
   "execution_count": 354,
   "id": "bcb3e26b-2cce-470e-a7dd-746bfff4000b",
   "metadata": {},
   "outputs": [],
   "source": [
    "entry = DecodeIngredients & {'nwb_file_name':nwb_copy_file_name,\n",
    "             'interval_list_name':session_interval[0]}\n",
    "marks = xr.open_dataset(entry.fetch1('marks'))"
   ]
  },
  {
   "cell_type": "code",
   "execution_count": 355,
   "id": "d5b4b915-bb27-4374-bdf1-ec74dbcd2541",
   "metadata": {},
   "outputs": [],
   "source": [
    "marks_time = marks.time"
   ]
  },
  {
   "cell_type": "code",
   "execution_count": 356,
   "id": "4db0bd4d-43d6-417f-82c4-da0706ec3051",
   "metadata": {},
   "outputs": [
    {
     "data": {
      "text/html": [
       "<div><svg style=\"position: absolute; width: 0; height: 0; overflow: hidden\">\n",
       "<defs>\n",
       "<symbol id=\"icon-database\" viewBox=\"0 0 32 32\">\n",
       "<path d=\"M16 0c-8.837 0-16 2.239-16 5v4c0 2.761 7.163 5 16 5s16-2.239 16-5v-4c0-2.761-7.163-5-16-5z\"></path>\n",
       "<path d=\"M16 17c-8.837 0-16-2.239-16-5v6c0 2.761 7.163 5 16 5s16-2.239 16-5v-6c0 2.761-7.163 5-16 5z\"></path>\n",
       "<path d=\"M16 26c-8.837 0-16-2.239-16-5v6c0 2.761 7.163 5 16 5s16-2.239 16-5v-6c0 2.761-7.163 5-16 5z\"></path>\n",
       "</symbol>\n",
       "<symbol id=\"icon-file-text2\" viewBox=\"0 0 32 32\">\n",
       "<path d=\"M28.681 7.159c-0.694-0.947-1.662-2.053-2.724-3.116s-2.169-2.030-3.116-2.724c-1.612-1.182-2.393-1.319-2.841-1.319h-15.5c-1.378 0-2.5 1.121-2.5 2.5v27c0 1.378 1.122 2.5 2.5 2.5h23c1.378 0 2.5-1.122 2.5-2.5v-19.5c0-0.448-0.137-1.23-1.319-2.841zM24.543 5.457c0.959 0.959 1.712 1.825 2.268 2.543h-4.811v-4.811c0.718 0.556 1.584 1.309 2.543 2.268zM28 29.5c0 0.271-0.229 0.5-0.5 0.5h-23c-0.271 0-0.5-0.229-0.5-0.5v-27c0-0.271 0.229-0.5 0.5-0.5 0 0 15.499-0 15.5 0v7c0 0.552 0.448 1 1 1h7v19.5z\"></path>\n",
       "<path d=\"M23 26h-14c-0.552 0-1-0.448-1-1s0.448-1 1-1h14c0.552 0 1 0.448 1 1s-0.448 1-1 1z\"></path>\n",
       "<path d=\"M23 22h-14c-0.552 0-1-0.448-1-1s0.448-1 1-1h14c0.552 0 1 0.448 1 1s-0.448 1-1 1z\"></path>\n",
       "<path d=\"M23 18h-14c-0.552 0-1-0.448-1-1s0.448-1 1-1h14c0.552 0 1 0.448 1 1s-0.448 1-1 1z\"></path>\n",
       "</symbol>\n",
       "</defs>\n",
       "</svg>\n",
       "<style>/* CSS stylesheet for displaying xarray objects in jupyterlab.\n",
       " *\n",
       " */\n",
       "\n",
       ":root {\n",
       "  --xr-font-color0: var(--jp-content-font-color0, rgba(0, 0, 0, 1));\n",
       "  --xr-font-color2: var(--jp-content-font-color2, rgba(0, 0, 0, 0.54));\n",
       "  --xr-font-color3: var(--jp-content-font-color3, rgba(0, 0, 0, 0.38));\n",
       "  --xr-border-color: var(--jp-border-color2, #e0e0e0);\n",
       "  --xr-disabled-color: var(--jp-layout-color3, #bdbdbd);\n",
       "  --xr-background-color: var(--jp-layout-color0, white);\n",
       "  --xr-background-color-row-even: var(--jp-layout-color1, white);\n",
       "  --xr-background-color-row-odd: var(--jp-layout-color2, #eeeeee);\n",
       "}\n",
       "\n",
       "html[theme=dark],\n",
       "body[data-theme=dark],\n",
       "body.vscode-dark {\n",
       "  --xr-font-color0: rgba(255, 255, 255, 1);\n",
       "  --xr-font-color2: rgba(255, 255, 255, 0.54);\n",
       "  --xr-font-color3: rgba(255, 255, 255, 0.38);\n",
       "  --xr-border-color: #1F1F1F;\n",
       "  --xr-disabled-color: #515151;\n",
       "  --xr-background-color: #111111;\n",
       "  --xr-background-color-row-even: #111111;\n",
       "  --xr-background-color-row-odd: #313131;\n",
       "}\n",
       "\n",
       ".xr-wrap {\n",
       "  display: block !important;\n",
       "  min-width: 300px;\n",
       "  max-width: 700px;\n",
       "}\n",
       "\n",
       ".xr-text-repr-fallback {\n",
       "  /* fallback to plain text repr when CSS is not injected (untrusted notebook) */\n",
       "  display: none;\n",
       "}\n",
       "\n",
       ".xr-header {\n",
       "  padding-top: 6px;\n",
       "  padding-bottom: 6px;\n",
       "  margin-bottom: 4px;\n",
       "  border-bottom: solid 1px var(--xr-border-color);\n",
       "}\n",
       "\n",
       ".xr-header > div,\n",
       ".xr-header > ul {\n",
       "  display: inline;\n",
       "  margin-top: 0;\n",
       "  margin-bottom: 0;\n",
       "}\n",
       "\n",
       ".xr-obj-type,\n",
       ".xr-array-name {\n",
       "  margin-left: 2px;\n",
       "  margin-right: 10px;\n",
       "}\n",
       "\n",
       ".xr-obj-type {\n",
       "  color: var(--xr-font-color2);\n",
       "}\n",
       "\n",
       ".xr-sections {\n",
       "  padding-left: 0 !important;\n",
       "  display: grid;\n",
       "  grid-template-columns: 150px auto auto 1fr 20px 20px;\n",
       "}\n",
       "\n",
       ".xr-section-item {\n",
       "  display: contents;\n",
       "}\n",
       "\n",
       ".xr-section-item input {\n",
       "  display: none;\n",
       "}\n",
       "\n",
       ".xr-section-item input + label {\n",
       "  color: var(--xr-disabled-color);\n",
       "}\n",
       "\n",
       ".xr-section-item input:enabled + label {\n",
       "  cursor: pointer;\n",
       "  color: var(--xr-font-color2);\n",
       "}\n",
       "\n",
       ".xr-section-item input:enabled + label:hover {\n",
       "  color: var(--xr-font-color0);\n",
       "}\n",
       "\n",
       ".xr-section-summary {\n",
       "  grid-column: 1;\n",
       "  color: var(--xr-font-color2);\n",
       "  font-weight: 500;\n",
       "}\n",
       "\n",
       ".xr-section-summary > span {\n",
       "  display: inline-block;\n",
       "  padding-left: 0.5em;\n",
       "}\n",
       "\n",
       ".xr-section-summary-in:disabled + label {\n",
       "  color: var(--xr-font-color2);\n",
       "}\n",
       "\n",
       ".xr-section-summary-in + label:before {\n",
       "  display: inline-block;\n",
       "  content: '►';\n",
       "  font-size: 11px;\n",
       "  width: 15px;\n",
       "  text-align: center;\n",
       "}\n",
       "\n",
       ".xr-section-summary-in:disabled + label:before {\n",
       "  color: var(--xr-disabled-color);\n",
       "}\n",
       "\n",
       ".xr-section-summary-in:checked + label:before {\n",
       "  content: '▼';\n",
       "}\n",
       "\n",
       ".xr-section-summary-in:checked + label > span {\n",
       "  display: none;\n",
       "}\n",
       "\n",
       ".xr-section-summary,\n",
       ".xr-section-inline-details {\n",
       "  padding-top: 4px;\n",
       "  padding-bottom: 4px;\n",
       "}\n",
       "\n",
       ".xr-section-inline-details {\n",
       "  grid-column: 2 / -1;\n",
       "}\n",
       "\n",
       ".xr-section-details {\n",
       "  display: none;\n",
       "  grid-column: 1 / -1;\n",
       "  margin-bottom: 5px;\n",
       "}\n",
       "\n",
       ".xr-section-summary-in:checked ~ .xr-section-details {\n",
       "  display: contents;\n",
       "}\n",
       "\n",
       ".xr-array-wrap {\n",
       "  grid-column: 1 / -1;\n",
       "  display: grid;\n",
       "  grid-template-columns: 20px auto;\n",
       "}\n",
       "\n",
       ".xr-array-wrap > label {\n",
       "  grid-column: 1;\n",
       "  vertical-align: top;\n",
       "}\n",
       "\n",
       ".xr-preview {\n",
       "  color: var(--xr-font-color3);\n",
       "}\n",
       "\n",
       ".xr-array-preview,\n",
       ".xr-array-data {\n",
       "  padding: 0 5px !important;\n",
       "  grid-column: 2;\n",
       "}\n",
       "\n",
       ".xr-array-data,\n",
       ".xr-array-in:checked ~ .xr-array-preview {\n",
       "  display: none;\n",
       "}\n",
       "\n",
       ".xr-array-in:checked ~ .xr-array-data,\n",
       ".xr-array-preview {\n",
       "  display: inline-block;\n",
       "}\n",
       "\n",
       ".xr-dim-list {\n",
       "  display: inline-block !important;\n",
       "  list-style: none;\n",
       "  padding: 0 !important;\n",
       "  margin: 0;\n",
       "}\n",
       "\n",
       ".xr-dim-list li {\n",
       "  display: inline-block;\n",
       "  padding: 0;\n",
       "  margin: 0;\n",
       "}\n",
       "\n",
       ".xr-dim-list:before {\n",
       "  content: '(';\n",
       "}\n",
       "\n",
       ".xr-dim-list:after {\n",
       "  content: ')';\n",
       "}\n",
       "\n",
       ".xr-dim-list li:not(:last-child):after {\n",
       "  content: ',';\n",
       "  padding-right: 5px;\n",
       "}\n",
       "\n",
       ".xr-has-index {\n",
       "  font-weight: bold;\n",
       "}\n",
       "\n",
       ".xr-var-list,\n",
       ".xr-var-item {\n",
       "  display: contents;\n",
       "}\n",
       "\n",
       ".xr-var-item > div,\n",
       ".xr-var-item label,\n",
       ".xr-var-item > .xr-var-name span {\n",
       "  background-color: var(--xr-background-color-row-even);\n",
       "  margin-bottom: 0;\n",
       "}\n",
       "\n",
       ".xr-var-item > .xr-var-name:hover span {\n",
       "  padding-right: 5px;\n",
       "}\n",
       "\n",
       ".xr-var-list > li:nth-child(odd) > div,\n",
       ".xr-var-list > li:nth-child(odd) > label,\n",
       ".xr-var-list > li:nth-child(odd) > .xr-var-name span {\n",
       "  background-color: var(--xr-background-color-row-odd);\n",
       "}\n",
       "\n",
       ".xr-var-name {\n",
       "  grid-column: 1;\n",
       "}\n",
       "\n",
       ".xr-var-dims {\n",
       "  grid-column: 2;\n",
       "}\n",
       "\n",
       ".xr-var-dtype {\n",
       "  grid-column: 3;\n",
       "  text-align: right;\n",
       "  color: var(--xr-font-color2);\n",
       "}\n",
       "\n",
       ".xr-var-preview {\n",
       "  grid-column: 4;\n",
       "}\n",
       "\n",
       ".xr-index-preview {\n",
       "  grid-column: 2 / 5;\n",
       "  color: var(--xr-font-color2);\n",
       "}\n",
       "\n",
       ".xr-var-name,\n",
       ".xr-var-dims,\n",
       ".xr-var-dtype,\n",
       ".xr-preview,\n",
       ".xr-attrs dt {\n",
       "  white-space: nowrap;\n",
       "  overflow: hidden;\n",
       "  text-overflow: ellipsis;\n",
       "  padding-right: 10px;\n",
       "}\n",
       "\n",
       ".xr-var-name:hover,\n",
       ".xr-var-dims:hover,\n",
       ".xr-var-dtype:hover,\n",
       ".xr-attrs dt:hover {\n",
       "  overflow: visible;\n",
       "  width: auto;\n",
       "  z-index: 1;\n",
       "}\n",
       "\n",
       ".xr-var-attrs,\n",
       ".xr-var-data,\n",
       ".xr-index-data {\n",
       "  display: none;\n",
       "  background-color: var(--xr-background-color) !important;\n",
       "  padding-bottom: 5px !important;\n",
       "}\n",
       "\n",
       ".xr-var-attrs-in:checked ~ .xr-var-attrs,\n",
       ".xr-var-data-in:checked ~ .xr-var-data,\n",
       ".xr-index-data-in:checked ~ .xr-index-data {\n",
       "  display: block;\n",
       "}\n",
       "\n",
       ".xr-var-data > table {\n",
       "  float: right;\n",
       "}\n",
       "\n",
       ".xr-var-name span,\n",
       ".xr-var-data,\n",
       ".xr-index-name div,\n",
       ".xr-index-data,\n",
       ".xr-attrs {\n",
       "  padding-left: 25px !important;\n",
       "}\n",
       "\n",
       ".xr-attrs,\n",
       ".xr-var-attrs,\n",
       ".xr-var-data,\n",
       ".xr-index-data {\n",
       "  grid-column: 1 / -1;\n",
       "}\n",
       "\n",
       "dl.xr-attrs {\n",
       "  padding: 0;\n",
       "  margin: 0;\n",
       "  display: grid;\n",
       "  grid-template-columns: 125px auto;\n",
       "}\n",
       "\n",
       ".xr-attrs dt,\n",
       ".xr-attrs dd {\n",
       "  padding: 0;\n",
       "  margin: 0;\n",
       "  float: left;\n",
       "  padding-right: 10px;\n",
       "  width: auto;\n",
       "}\n",
       "\n",
       ".xr-attrs dt {\n",
       "  font-weight: normal;\n",
       "  grid-column: 1;\n",
       "}\n",
       "\n",
       ".xr-attrs dt:hover span {\n",
       "  display: inline-block;\n",
       "  background: var(--xr-background-color);\n",
       "  padding-right: 10px;\n",
       "}\n",
       "\n",
       ".xr-attrs dd {\n",
       "  grid-column: 2;\n",
       "  white-space: pre-wrap;\n",
       "  word-break: break-all;\n",
       "}\n",
       "\n",
       ".xr-icon-database,\n",
       ".xr-icon-file-text2,\n",
       ".xr-no-icon {\n",
       "  display: inline-block;\n",
       "  vertical-align: middle;\n",
       "  width: 1em;\n",
       "  height: 1.5em !important;\n",
       "  stroke-width: 0;\n",
       "  stroke: currentColor;\n",
       "  fill: currentColor;\n",
       "}\n",
       "</style><pre class='xr-text-repr-fallback'>&lt;xarray.DataArray &#x27;time&#x27; ()&gt;\n",
       "array(0.00200009)</pre><div class='xr-wrap' style='display:none'><div class='xr-header'><div class='xr-obj-type'>xarray.DataArray</div><div class='xr-array-name'>'time'</div></div><ul class='xr-sections'><li class='xr-section-item'><div class='xr-array-wrap'><input id='section-cbb55137-8bbc-4a58-a376-4e49193c7179' class='xr-array-in' type='checkbox' checked><label for='section-cbb55137-8bbc-4a58-a376-4e49193c7179' title='Show/hide data repr'><svg class='icon xr-icon-database'><use xlink:href='#icon-database'></use></svg></label><div class='xr-array-preview xr-preview'><span>0.002</span></div><div class='xr-array-data'><pre>array(0.00200009)</pre></div></div></li><li class='xr-section-item'><input id='section-28c447fb-f548-4488-9bd0-9710d1766634' class='xr-section-summary-in' type='checkbox' disabled ><label for='section-28c447fb-f548-4488-9bd0-9710d1766634' class='xr-section-summary'  title='Expand/collapse section'>Coordinates: <span>(0)</span></label><div class='xr-section-inline-details'></div><div class='xr-section-details'><ul class='xr-var-list'></ul></div></li><li class='xr-section-item'><input id='section-fb4a357c-b623-453f-895e-999b667657ca' class='xr-section-summary-in' type='checkbox' disabled ><label for='section-fb4a357c-b623-453f-895e-999b667657ca' class='xr-section-summary'  title='Expand/collapse section'>Indexes: <span>(0)</span></label><div class='xr-section-inline-details'></div><div class='xr-section-details'><ul class='xr-var-list'></ul></div></li><li class='xr-section-item'><input id='section-7d7903ed-c243-473c-abc7-340191bda07c' class='xr-section-summary-in' type='checkbox' disabled ><label for='section-7d7903ed-c243-473c-abc7-340191bda07c' class='xr-section-summary'  title='Expand/collapse section'>Attributes: <span>(0)</span></label><div class='xr-section-inline-details'></div><div class='xr-section-details'><dl class='xr-attrs'></dl></div></li></ul></div></div>"
      ],
      "text/plain": [
       "<xarray.DataArray 'time' ()>\n",
       "array(0.00200009)"
      ]
     },
     "execution_count": 356,
     "metadata": {},
     "output_type": "execute_result"
    }
   ],
   "source": [
    "marks_time[10] - marks_time[9]"
   ]
  },
  {
   "cell_type": "code",
   "execution_count": 372,
   "id": "54add1cf-7bf4-4389-9f3f-d0b3b74a8d30",
   "metadata": {},
   "outputs": [],
   "source": [
    "from spyglass.shijiegu.likelihoodDecode_helper import decimate_ave_pos, decimate_sum_marks"
   ]
  },
  {
   "cell_type": "code",
   "execution_count": 380,
   "id": "5b04d3d7-2d3f-4133-a4a5-8ad3c52caf3a",
   "metadata": {
    "scrolled": true
   },
   "outputs": [],
   "source": [
    "marks_path = ( DecodeIngredients & {'nwb_file_name':nwb_copy_file_name,\n",
    "                                    'interval_list_name':session_name} ).fetch1(\"marks\")\n",
    "marks = xr.open_dataset(marks_path)\n",
    "\n",
    "pos1d_path = ( DecodeIngredients & {'nwb_file_name':nwb_copy_file_name,\n",
    "                        'interval_list_name':session_name} ).fetch1(\"position_1d\")\n",
    "pos1d = pd.read_csv(pos1d_path)\n",
    "\n",
    "pos2d_path = ( DecodeIngredients & {'nwb_file_name':nwb_copy_file_name,\n",
    "                        'interval_list_name':session_name} ).fetch1(\"position_2d\")\n",
    "pos2d = pd.read_csv(pos2d_path)\n",
    "    \n",
    "# low pass (convolution + decimating)\n",
    "N = int(overlap_size * 1000 / 2) # 5x2 = 10ms\n",
    "pos1d_decimate = decimate_ave_pos(pos1d, N)\n",
    "pos2d_decimate = decimate_ave_pos(pos2d, N)\n",
    "marks_decimate = decimate_sum_marks(marks, N)\n",
    "\n",
    "# overlap (convolution)\n",
    "#M = int( window_size / overlap_size ) # 2 bins x 10ms/bin = 20 ms\n",
    "#pos1d_overlap = decimate_ave_pos(pos1d_decimate, M, decimate_flag = False)\n",
    "#pos2d_overlap = decimate_ave_pos(pos2d_decimate, M, decimate_flag = False)\n",
    "#marks_overlap = decimate_sum_marks(marks_decimate, M, decimate_flag = False)"
   ]
  },
  {
   "cell_type": "code",
   "execution_count": 378,
   "id": "478e44e0-67f1-4955-9db9-326c62c1e79a",
   "metadata": {},
   "outputs": [
    {
     "data": {
      "text/plain": [
       "5"
      ]
     },
     "execution_count": 378,
     "metadata": {},
     "output_type": "execute_result"
    }
   ],
   "source": [
    "N"
   ]
  },
  {
   "cell_type": "code",
   "execution_count": 381,
   "id": "9c63a43a-8746-443d-8631-21afdaebf5bc",
   "metadata": {},
   "outputs": [
    {
     "data": {
      "text/plain": [
       "0.010000228881835938"
      ]
     },
     "execution_count": 381,
     "metadata": {},
     "output_type": "execute_result"
    }
   ],
   "source": [
    "pos1d_decimate.time[10] - pos1d_decimate.time[9]"
   ]
  },
  {
   "cell_type": "code",
   "execution_count": 382,
   "id": "59c3810d-5812-4c6e-90af-f388d15f05e1",
   "metadata": {},
   "outputs": [
    {
     "data": {
      "text/html": [
       "<div><svg style=\"position: absolute; width: 0; height: 0; overflow: hidden\">\n",
       "<defs>\n",
       "<symbol id=\"icon-database\" viewBox=\"0 0 32 32\">\n",
       "<path d=\"M16 0c-8.837 0-16 2.239-16 5v4c0 2.761 7.163 5 16 5s16-2.239 16-5v-4c0-2.761-7.163-5-16-5z\"></path>\n",
       "<path d=\"M16 17c-8.837 0-16-2.239-16-5v6c0 2.761 7.163 5 16 5s16-2.239 16-5v-6c0 2.761-7.163 5-16 5z\"></path>\n",
       "<path d=\"M16 26c-8.837 0-16-2.239-16-5v6c0 2.761 7.163 5 16 5s16-2.239 16-5v-6c0 2.761-7.163 5-16 5z\"></path>\n",
       "</symbol>\n",
       "<symbol id=\"icon-file-text2\" viewBox=\"0 0 32 32\">\n",
       "<path d=\"M28.681 7.159c-0.694-0.947-1.662-2.053-2.724-3.116s-2.169-2.030-3.116-2.724c-1.612-1.182-2.393-1.319-2.841-1.319h-15.5c-1.378 0-2.5 1.121-2.5 2.5v27c0 1.378 1.122 2.5 2.5 2.5h23c1.378 0 2.5-1.122 2.5-2.5v-19.5c0-0.448-0.137-1.23-1.319-2.841zM24.543 5.457c0.959 0.959 1.712 1.825 2.268 2.543h-4.811v-4.811c0.718 0.556 1.584 1.309 2.543 2.268zM28 29.5c0 0.271-0.229 0.5-0.5 0.5h-23c-0.271 0-0.5-0.229-0.5-0.5v-27c0-0.271 0.229-0.5 0.5-0.5 0 0 15.499-0 15.5 0v7c0 0.552 0.448 1 1 1h7v19.5z\"></path>\n",
       "<path d=\"M23 26h-14c-0.552 0-1-0.448-1-1s0.448-1 1-1h14c0.552 0 1 0.448 1 1s-0.448 1-1 1z\"></path>\n",
       "<path d=\"M23 22h-14c-0.552 0-1-0.448-1-1s0.448-1 1-1h14c0.552 0 1 0.448 1 1s-0.448 1-1 1z\"></path>\n",
       "<path d=\"M23 18h-14c-0.552 0-1-0.448-1-1s0.448-1 1-1h14c0.552 0 1 0.448 1 1s-0.448 1-1 1z\"></path>\n",
       "</symbol>\n",
       "</defs>\n",
       "</svg>\n",
       "<style>/* CSS stylesheet for displaying xarray objects in jupyterlab.\n",
       " *\n",
       " */\n",
       "\n",
       ":root {\n",
       "  --xr-font-color0: var(--jp-content-font-color0, rgba(0, 0, 0, 1));\n",
       "  --xr-font-color2: var(--jp-content-font-color2, rgba(0, 0, 0, 0.54));\n",
       "  --xr-font-color3: var(--jp-content-font-color3, rgba(0, 0, 0, 0.38));\n",
       "  --xr-border-color: var(--jp-border-color2, #e0e0e0);\n",
       "  --xr-disabled-color: var(--jp-layout-color3, #bdbdbd);\n",
       "  --xr-background-color: var(--jp-layout-color0, white);\n",
       "  --xr-background-color-row-even: var(--jp-layout-color1, white);\n",
       "  --xr-background-color-row-odd: var(--jp-layout-color2, #eeeeee);\n",
       "}\n",
       "\n",
       "html[theme=dark],\n",
       "body[data-theme=dark],\n",
       "body.vscode-dark {\n",
       "  --xr-font-color0: rgba(255, 255, 255, 1);\n",
       "  --xr-font-color2: rgba(255, 255, 255, 0.54);\n",
       "  --xr-font-color3: rgba(255, 255, 255, 0.38);\n",
       "  --xr-border-color: #1F1F1F;\n",
       "  --xr-disabled-color: #515151;\n",
       "  --xr-background-color: #111111;\n",
       "  --xr-background-color-row-even: #111111;\n",
       "  --xr-background-color-row-odd: #313131;\n",
       "}\n",
       "\n",
       ".xr-wrap {\n",
       "  display: block !important;\n",
       "  min-width: 300px;\n",
       "  max-width: 700px;\n",
       "}\n",
       "\n",
       ".xr-text-repr-fallback {\n",
       "  /* fallback to plain text repr when CSS is not injected (untrusted notebook) */\n",
       "  display: none;\n",
       "}\n",
       "\n",
       ".xr-header {\n",
       "  padding-top: 6px;\n",
       "  padding-bottom: 6px;\n",
       "  margin-bottom: 4px;\n",
       "  border-bottom: solid 1px var(--xr-border-color);\n",
       "}\n",
       "\n",
       ".xr-header > div,\n",
       ".xr-header > ul {\n",
       "  display: inline;\n",
       "  margin-top: 0;\n",
       "  margin-bottom: 0;\n",
       "}\n",
       "\n",
       ".xr-obj-type,\n",
       ".xr-array-name {\n",
       "  margin-left: 2px;\n",
       "  margin-right: 10px;\n",
       "}\n",
       "\n",
       ".xr-obj-type {\n",
       "  color: var(--xr-font-color2);\n",
       "}\n",
       "\n",
       ".xr-sections {\n",
       "  padding-left: 0 !important;\n",
       "  display: grid;\n",
       "  grid-template-columns: 150px auto auto 1fr 20px 20px;\n",
       "}\n",
       "\n",
       ".xr-section-item {\n",
       "  display: contents;\n",
       "}\n",
       "\n",
       ".xr-section-item input {\n",
       "  display: none;\n",
       "}\n",
       "\n",
       ".xr-section-item input + label {\n",
       "  color: var(--xr-disabled-color);\n",
       "}\n",
       "\n",
       ".xr-section-item input:enabled + label {\n",
       "  cursor: pointer;\n",
       "  color: var(--xr-font-color2);\n",
       "}\n",
       "\n",
       ".xr-section-item input:enabled + label:hover {\n",
       "  color: var(--xr-font-color0);\n",
       "}\n",
       "\n",
       ".xr-section-summary {\n",
       "  grid-column: 1;\n",
       "  color: var(--xr-font-color2);\n",
       "  font-weight: 500;\n",
       "}\n",
       "\n",
       ".xr-section-summary > span {\n",
       "  display: inline-block;\n",
       "  padding-left: 0.5em;\n",
       "}\n",
       "\n",
       ".xr-section-summary-in:disabled + label {\n",
       "  color: var(--xr-font-color2);\n",
       "}\n",
       "\n",
       ".xr-section-summary-in + label:before {\n",
       "  display: inline-block;\n",
       "  content: '►';\n",
       "  font-size: 11px;\n",
       "  width: 15px;\n",
       "  text-align: center;\n",
       "}\n",
       "\n",
       ".xr-section-summary-in:disabled + label:before {\n",
       "  color: var(--xr-disabled-color);\n",
       "}\n",
       "\n",
       ".xr-section-summary-in:checked + label:before {\n",
       "  content: '▼';\n",
       "}\n",
       "\n",
       ".xr-section-summary-in:checked + label > span {\n",
       "  display: none;\n",
       "}\n",
       "\n",
       ".xr-section-summary,\n",
       ".xr-section-inline-details {\n",
       "  padding-top: 4px;\n",
       "  padding-bottom: 4px;\n",
       "}\n",
       "\n",
       ".xr-section-inline-details {\n",
       "  grid-column: 2 / -1;\n",
       "}\n",
       "\n",
       ".xr-section-details {\n",
       "  display: none;\n",
       "  grid-column: 1 / -1;\n",
       "  margin-bottom: 5px;\n",
       "}\n",
       "\n",
       ".xr-section-summary-in:checked ~ .xr-section-details {\n",
       "  display: contents;\n",
       "}\n",
       "\n",
       ".xr-array-wrap {\n",
       "  grid-column: 1 / -1;\n",
       "  display: grid;\n",
       "  grid-template-columns: 20px auto;\n",
       "}\n",
       "\n",
       ".xr-array-wrap > label {\n",
       "  grid-column: 1;\n",
       "  vertical-align: top;\n",
       "}\n",
       "\n",
       ".xr-preview {\n",
       "  color: var(--xr-font-color3);\n",
       "}\n",
       "\n",
       ".xr-array-preview,\n",
       ".xr-array-data {\n",
       "  padding: 0 5px !important;\n",
       "  grid-column: 2;\n",
       "}\n",
       "\n",
       ".xr-array-data,\n",
       ".xr-array-in:checked ~ .xr-array-preview {\n",
       "  display: none;\n",
       "}\n",
       "\n",
       ".xr-array-in:checked ~ .xr-array-data,\n",
       ".xr-array-preview {\n",
       "  display: inline-block;\n",
       "}\n",
       "\n",
       ".xr-dim-list {\n",
       "  display: inline-block !important;\n",
       "  list-style: none;\n",
       "  padding: 0 !important;\n",
       "  margin: 0;\n",
       "}\n",
       "\n",
       ".xr-dim-list li {\n",
       "  display: inline-block;\n",
       "  padding: 0;\n",
       "  margin: 0;\n",
       "}\n",
       "\n",
       ".xr-dim-list:before {\n",
       "  content: '(';\n",
       "}\n",
       "\n",
       ".xr-dim-list:after {\n",
       "  content: ')';\n",
       "}\n",
       "\n",
       ".xr-dim-list li:not(:last-child):after {\n",
       "  content: ',';\n",
       "  padding-right: 5px;\n",
       "}\n",
       "\n",
       ".xr-has-index {\n",
       "  font-weight: bold;\n",
       "}\n",
       "\n",
       ".xr-var-list,\n",
       ".xr-var-item {\n",
       "  display: contents;\n",
       "}\n",
       "\n",
       ".xr-var-item > div,\n",
       ".xr-var-item label,\n",
       ".xr-var-item > .xr-var-name span {\n",
       "  background-color: var(--xr-background-color-row-even);\n",
       "  margin-bottom: 0;\n",
       "}\n",
       "\n",
       ".xr-var-item > .xr-var-name:hover span {\n",
       "  padding-right: 5px;\n",
       "}\n",
       "\n",
       ".xr-var-list > li:nth-child(odd) > div,\n",
       ".xr-var-list > li:nth-child(odd) > label,\n",
       ".xr-var-list > li:nth-child(odd) > .xr-var-name span {\n",
       "  background-color: var(--xr-background-color-row-odd);\n",
       "}\n",
       "\n",
       ".xr-var-name {\n",
       "  grid-column: 1;\n",
       "}\n",
       "\n",
       ".xr-var-dims {\n",
       "  grid-column: 2;\n",
       "}\n",
       "\n",
       ".xr-var-dtype {\n",
       "  grid-column: 3;\n",
       "  text-align: right;\n",
       "  color: var(--xr-font-color2);\n",
       "}\n",
       "\n",
       ".xr-var-preview {\n",
       "  grid-column: 4;\n",
       "}\n",
       "\n",
       ".xr-index-preview {\n",
       "  grid-column: 2 / 5;\n",
       "  color: var(--xr-font-color2);\n",
       "}\n",
       "\n",
       ".xr-var-name,\n",
       ".xr-var-dims,\n",
       ".xr-var-dtype,\n",
       ".xr-preview,\n",
       ".xr-attrs dt {\n",
       "  white-space: nowrap;\n",
       "  overflow: hidden;\n",
       "  text-overflow: ellipsis;\n",
       "  padding-right: 10px;\n",
       "}\n",
       "\n",
       ".xr-var-name:hover,\n",
       ".xr-var-dims:hover,\n",
       ".xr-var-dtype:hover,\n",
       ".xr-attrs dt:hover {\n",
       "  overflow: visible;\n",
       "  width: auto;\n",
       "  z-index: 1;\n",
       "}\n",
       "\n",
       ".xr-var-attrs,\n",
       ".xr-var-data,\n",
       ".xr-index-data {\n",
       "  display: none;\n",
       "  background-color: var(--xr-background-color) !important;\n",
       "  padding-bottom: 5px !important;\n",
       "}\n",
       "\n",
       ".xr-var-attrs-in:checked ~ .xr-var-attrs,\n",
       ".xr-var-data-in:checked ~ .xr-var-data,\n",
       ".xr-index-data-in:checked ~ .xr-index-data {\n",
       "  display: block;\n",
       "}\n",
       "\n",
       ".xr-var-data > table {\n",
       "  float: right;\n",
       "}\n",
       "\n",
       ".xr-var-name span,\n",
       ".xr-var-data,\n",
       ".xr-index-name div,\n",
       ".xr-index-data,\n",
       ".xr-attrs {\n",
       "  padding-left: 25px !important;\n",
       "}\n",
       "\n",
       ".xr-attrs,\n",
       ".xr-var-attrs,\n",
       ".xr-var-data,\n",
       ".xr-index-data {\n",
       "  grid-column: 1 / -1;\n",
       "}\n",
       "\n",
       "dl.xr-attrs {\n",
       "  padding: 0;\n",
       "  margin: 0;\n",
       "  display: grid;\n",
       "  grid-template-columns: 125px auto;\n",
       "}\n",
       "\n",
       ".xr-attrs dt,\n",
       ".xr-attrs dd {\n",
       "  padding: 0;\n",
       "  margin: 0;\n",
       "  float: left;\n",
       "  padding-right: 10px;\n",
       "  width: auto;\n",
       "}\n",
       "\n",
       ".xr-attrs dt {\n",
       "  font-weight: normal;\n",
       "  grid-column: 1;\n",
       "}\n",
       "\n",
       ".xr-attrs dt:hover span {\n",
       "  display: inline-block;\n",
       "  background: var(--xr-background-color);\n",
       "  padding-right: 10px;\n",
       "}\n",
       "\n",
       ".xr-attrs dd {\n",
       "  grid-column: 2;\n",
       "  white-space: pre-wrap;\n",
       "  word-break: break-all;\n",
       "}\n",
       "\n",
       ".xr-icon-database,\n",
       ".xr-icon-file-text2,\n",
       ".xr-no-icon {\n",
       "  display: inline-block;\n",
       "  vertical-align: middle;\n",
       "  width: 1em;\n",
       "  height: 1.5em !important;\n",
       "  stroke-width: 0;\n",
       "  stroke: currentColor;\n",
       "  fill: currentColor;\n",
       "}\n",
       "</style><pre class='xr-text-repr-fallback'>&lt;xarray.DataArray &#x27;time&#x27; ()&gt;\n",
       "array(0.01000023)</pre><div class='xr-wrap' style='display:none'><div class='xr-header'><div class='xr-obj-type'>xarray.DataArray</div><div class='xr-array-name'>'time'</div></div><ul class='xr-sections'><li class='xr-section-item'><div class='xr-array-wrap'><input id='section-65cac851-9751-4f1e-8dd2-d27b1655b94e' class='xr-array-in' type='checkbox' checked><label for='section-65cac851-9751-4f1e-8dd2-d27b1655b94e' title='Show/hide data repr'><svg class='icon xr-icon-database'><use xlink:href='#icon-database'></use></svg></label><div class='xr-array-preview xr-preview'><span>0.01</span></div><div class='xr-array-data'><pre>array(0.01000023)</pre></div></div></li><li class='xr-section-item'><input id='section-6bd24b40-3885-4ace-8347-8b27f594d884' class='xr-section-summary-in' type='checkbox' disabled ><label for='section-6bd24b40-3885-4ace-8347-8b27f594d884' class='xr-section-summary'  title='Expand/collapse section'>Coordinates: <span>(0)</span></label><div class='xr-section-inline-details'></div><div class='xr-section-details'><ul class='xr-var-list'></ul></div></li><li class='xr-section-item'><input id='section-600f7d06-f80d-4616-bcd9-986c5e2d39f2' class='xr-section-summary-in' type='checkbox' disabled ><label for='section-600f7d06-f80d-4616-bcd9-986c5e2d39f2' class='xr-section-summary'  title='Expand/collapse section'>Indexes: <span>(0)</span></label><div class='xr-section-inline-details'></div><div class='xr-section-details'><ul class='xr-var-list'></ul></div></li><li class='xr-section-item'><input id='section-84f667f6-6601-467e-81a9-39d8f97317e1' class='xr-section-summary-in' type='checkbox' disabled ><label for='section-84f667f6-6601-467e-81a9-39d8f97317e1' class='xr-section-summary'  title='Expand/collapse section'>Attributes: <span>(0)</span></label><div class='xr-section-inline-details'></div><div class='xr-section-details'><dl class='xr-attrs'></dl></div></li></ul></div></div>"
      ],
      "text/plain": [
       "<xarray.DataArray 'time' ()>\n",
       "array(0.01000023)"
      ]
     },
     "execution_count": 382,
     "metadata": {},
     "output_type": "execute_result"
    }
   ],
   "source": [
    "marks_decimate.time[10] - marks_decimate.time[9]"
   ]
  },
  {
   "cell_type": "code",
   "execution_count": 338,
   "id": "1ca37787-a8d4-4311-8720-46e2588ac590",
   "metadata": {},
   "outputs": [
    {
     "data": {
      "text/plain": [
       "5.0"
      ]
     },
     "execution_count": 338,
     "metadata": {},
     "output_type": "execute_result"
    }
   ],
   "source": [
    "N"
   ]
  },
  {
   "cell_type": "code",
   "execution_count": 340,
   "id": "85e8cdb5-a19b-4126-9405-0d296c2bd801",
   "metadata": {},
   "outputs": [
    {
     "name": "stdout",
     "output_type": "stream",
     "text": [
      "(222260, 4)\n"
     ]
    },
    {
     "data": {
      "text/plain": [
       "10725"
      ]
     },
     "execution_count": 340,
     "metadata": {},
     "output_type": "execute_result"
    }
   ],
   "source": [
    "mark_subset = np.array(marks_out.sel({\"electrodes\":31}).to_dataarray()).squeeze()\n",
    "print(mark_subset.shape)\n",
    "np.sum(~np.isnan(mark_subset[:,2]))"
   ]
  },
  {
   "cell_type": "code",
   "execution_count": 278,
   "id": "3db56e73-470e-496a-9052-ed0d5bbfb93d",
   "metadata": {
    "scrolled": true
   },
   "outputs": [
    {
     "data": {
      "text/plain": [
       "array([[   567],\n",
       "       [   727],\n",
       "       [  1015],\n",
       "       [  1029],\n",
       "       [  1513],\n",
       "       [  1554],\n",
       "       [  1562],\n",
       "       [  1730],\n",
       "       [  1747],\n",
       "       [  1799],\n",
       "       [  1997],\n",
       "       [  2063],\n",
       "       [  3174],\n",
       "       [  3200],\n",
       "       [  3345],\n",
       "       [  3608],\n",
       "       [  3649],\n",
       "       [  3655],\n",
       "       [  3711],\n",
       "       [  3720],\n",
       "       [  3802],\n",
       "       [  3805],\n",
       "       [  3870],\n",
       "       [  3989],\n",
       "       [  4011],\n",
       "       [  4029],\n",
       "       [  4055],\n",
       "       [  4062],\n",
       "       [  4123],\n",
       "       [  4132],\n",
       "       [  4294],\n",
       "       [  4327],\n",
       "       [  4384],\n",
       "       [  4393],\n",
       "       [  4401],\n",
       "       [  4488],\n",
       "       [  4496],\n",
       "       [  4551],\n",
       "       [  4560],\n",
       "       [  4639],\n",
       "       [  4654],\n",
       "       [  4658],\n",
       "       [  4826],\n",
       "       [  4842],\n",
       "       [  4910],\n",
       "       [  5023],\n",
       "       [  5042],\n",
       "       [  5047],\n",
       "       [  5055],\n",
       "       [  5060],\n",
       "       [  5224],\n",
       "       [  5379],\n",
       "       [  5542],\n",
       "       [  5631],\n",
       "       [  5705],\n",
       "       [  5771],\n",
       "       [  5776],\n",
       "       [  5874],\n",
       "       [  5883],\n",
       "       [  5971],\n",
       "       [  5983],\n",
       "       [  6051],\n",
       "       [  6061],\n",
       "       [  6206],\n",
       "       [  6360],\n",
       "       [  6363],\n",
       "       [  6375],\n",
       "       [  6527],\n",
       "       [  6531],\n",
       "       [  7590],\n",
       "       [  7640],\n",
       "       [  7657],\n",
       "       [  7665],\n",
       "       [  7668],\n",
       "       [  8135],\n",
       "       [  8148],\n",
       "       [  8170],\n",
       "       [  8279],\n",
       "       [  8281],\n",
       "       [  8285],\n",
       "       [  8294],\n",
       "       [  8316],\n",
       "       [  8469],\n",
       "       [  8507],\n",
       "       [  8927],\n",
       "       [  8942],\n",
       "       [  8977],\n",
       "       [  8981],\n",
       "       [  9178],\n",
       "       [  9487],\n",
       "       [  9504],\n",
       "       [  9512],\n",
       "       [  9519],\n",
       "       [  9962],\n",
       "       [ 10101],\n",
       "       [ 10109],\n",
       "       [ 10114],\n",
       "       [ 10231],\n",
       "       [ 10245],\n",
       "       [ 10256],\n",
       "       [ 10342],\n",
       "       [ 10635],\n",
       "       [ 10866],\n",
       "       [ 11450],\n",
       "       [ 11554],\n",
       "       [ 11565],\n",
       "       [ 11602],\n",
       "       [ 11604],\n",
       "       [ 11669],\n",
       "       [ 11673],\n",
       "       [ 11688],\n",
       "       [ 11706],\n",
       "       [ 11714],\n",
       "       [ 11721],\n",
       "       [ 11723],\n",
       "       [ 11725],\n",
       "       [ 11736],\n",
       "       [ 11786],\n",
       "       [ 11796],\n",
       "       [ 11805],\n",
       "       [ 11816],\n",
       "       [ 11837],\n",
       "       [ 11847],\n",
       "       [ 11852],\n",
       "       [ 11855],\n",
       "       [ 11865],\n",
       "       [ 11926],\n",
       "       [ 12137],\n",
       "       [ 12201],\n",
       "       [ 12217],\n",
       "       [ 12262],\n",
       "       [ 12267],\n",
       "       [ 12270],\n",
       "       [ 12281],\n",
       "       [ 12294],\n",
       "       [ 12315],\n",
       "       [ 12378],\n",
       "       [ 12379],\n",
       "       [ 12386],\n",
       "       [ 12399],\n",
       "       [ 12449],\n",
       "       [ 12454],\n",
       "       [ 12461],\n",
       "       [ 12503],\n",
       "       [ 12508],\n",
       "       [ 12522],\n",
       "       [ 12575],\n",
       "       [ 12737],\n",
       "       [ 12803],\n",
       "       [ 12858],\n",
       "       [ 12862],\n",
       "       [ 12865],\n",
       "       [ 12963],\n",
       "       [ 12973],\n",
       "       [ 12976],\n",
       "       [ 12979],\n",
       "       [ 12991],\n",
       "       [ 12994],\n",
       "       [ 13004],\n",
       "       [ 13006],\n",
       "       [ 13009],\n",
       "       [ 13069],\n",
       "       [ 13073],\n",
       "       [ 13094],\n",
       "       [ 13130],\n",
       "       [ 13141],\n",
       "       [ 13145],\n",
       "       [ 13196],\n",
       "       [ 13209],\n",
       "       [ 13245],\n",
       "       [ 13246],\n",
       "       [ 13262],\n",
       "       [ 13357],\n",
       "       [ 13366],\n",
       "       [ 13370],\n",
       "       [ 13561],\n",
       "       [ 13569],\n",
       "       [ 13578],\n",
       "       [ 13638],\n",
       "       [ 13686],\n",
       "       [ 13745],\n",
       "       [ 13752],\n",
       "       [ 13756],\n",
       "       [ 13798],\n",
       "       [ 13802],\n",
       "       [ 13809],\n",
       "       [ 13820],\n",
       "       [ 13830],\n",
       "       [ 13872],\n",
       "       [ 13880],\n",
       "       [ 13883],\n",
       "       [ 13887],\n",
       "       [ 13913],\n",
       "       [ 13921],\n",
       "       [ 13924],\n",
       "       [ 13964],\n",
       "       [ 14008],\n",
       "       [ 14010],\n",
       "       [ 14015],\n",
       "       [ 14065],\n",
       "       [ 14073],\n",
       "       [ 14119],\n",
       "       [ 14124],\n",
       "       [ 14131],\n",
       "       [ 14164],\n",
       "       [ 14172],\n",
       "       [ 14174],\n",
       "       [ 14181],\n",
       "       [ 14182],\n",
       "       [ 14199],\n",
       "       [ 14232],\n",
       "       [ 14247],\n",
       "       [ 14248],\n",
       "       [ 14262],\n",
       "       [ 14306],\n",
       "       [ 14396],\n",
       "       [ 14434],\n",
       "       [ 14448],\n",
       "       [ 14459],\n",
       "       [ 14480],\n",
       "       [ 14485],\n",
       "       [ 14488],\n",
       "       [ 14492],\n",
       "       [ 14495],\n",
       "       [ 14504],\n",
       "       [ 14519],\n",
       "       [ 14523],\n",
       "       [ 14551],\n",
       "       [ 14571],\n",
       "       [ 14575],\n",
       "       [ 14584],\n",
       "       [ 16131],\n",
       "       [ 16821],\n",
       "       [ 17335],\n",
       "       [ 17684],\n",
       "       [ 18477],\n",
       "       [ 18586],\n",
       "       [ 19366],\n",
       "       [ 19370],\n",
       "       [ 20106],\n",
       "       [ 20113],\n",
       "       [ 20375],\n",
       "       [ 20403],\n",
       "       [ 20413],\n",
       "       [ 20425],\n",
       "       [ 20458],\n",
       "       [ 20528],\n",
       "       [ 21865],\n",
       "       [ 27020],\n",
       "       [ 27044],\n",
       "       [ 27166],\n",
       "       [ 27386],\n",
       "       [ 28476],\n",
       "       [ 28535],\n",
       "       [ 28741],\n",
       "       [ 28788],\n",
       "       [ 28792],\n",
       "       [ 28799],\n",
       "       [ 28808],\n",
       "       [ 28833],\n",
       "       [ 28840],\n",
       "       [ 28843],\n",
       "       [ 28847],\n",
       "       [ 28864],\n",
       "       [ 28869],\n",
       "       [ 28886],\n",
       "       [ 28891],\n",
       "       [ 28918],\n",
       "       [ 28925],\n",
       "       [ 28965],\n",
       "       [ 28969],\n",
       "       [ 28995],\n",
       "       [ 29025],\n",
       "       [ 29039],\n",
       "       [ 29051],\n",
       "       [ 29072],\n",
       "       [ 29074],\n",
       "       [ 29123],\n",
       "       [ 30154],\n",
       "       [ 30221],\n",
       "       [ 30269],\n",
       "       [ 30710],\n",
       "       [ 31200],\n",
       "       [ 31551],\n",
       "       [ 31665],\n",
       "       [ 32260],\n",
       "       [ 32316],\n",
       "       [ 32431],\n",
       "       [ 32860],\n",
       "       [ 32861],\n",
       "       [ 32978],\n",
       "       [ 32982],\n",
       "       [ 33718],\n",
       "       [ 33985],\n",
       "       [ 34350],\n",
       "       [ 34694],\n",
       "       [ 34751],\n",
       "       [ 34755],\n",
       "       [ 34770],\n",
       "       [ 34808],\n",
       "       [ 34811],\n",
       "       [ 34828],\n",
       "       [ 34860],\n",
       "       [ 34864],\n",
       "       [ 34872],\n",
       "       [ 34879],\n",
       "       [ 34895],\n",
       "       [ 34911],\n",
       "       [ 34920],\n",
       "       [ 34951],\n",
       "       [ 34955],\n",
       "       [ 34959],\n",
       "       [ 35013],\n",
       "       [ 35047],\n",
       "       [ 35179],\n",
       "       [ 35231],\n",
       "       [ 35248],\n",
       "       [ 35298],\n",
       "       [ 35302],\n",
       "       [ 35309],\n",
       "       [ 35352],\n",
       "       [ 35365],\n",
       "       [ 35386],\n",
       "       [ 35391],\n",
       "       [ 35419],\n",
       "       [ 35424],\n",
       "       [ 35457],\n",
       "       [ 35459],\n",
       "       [ 35478],\n",
       "       [ 35623],\n",
       "       [ 35631],\n",
       "       [ 35681],\n",
       "       [ 35688],\n",
       "       [ 35713],\n",
       "       [ 35717],\n",
       "       [ 35723],\n",
       "       [ 35729],\n",
       "       [ 35732],\n",
       "       [ 35735],\n",
       "       [ 35738],\n",
       "       [ 37448],\n",
       "       [ 37453],\n",
       "       [ 37807],\n",
       "       [ 38551],\n",
       "       [ 38555],\n",
       "       [ 38559],\n",
       "       [ 38583],\n",
       "       [ 39048],\n",
       "       [ 39473],\n",
       "       [ 41310],\n",
       "       [ 41325],\n",
       "       [ 41436],\n",
       "       [ 41445],\n",
       "       [ 41447],\n",
       "       [ 41616],\n",
       "       [ 41626],\n",
       "       [ 41627],\n",
       "       [ 41644],\n",
       "       [ 41648],\n",
       "       [ 41657],\n",
       "       [ 41661],\n",
       "       [ 41666],\n",
       "       [ 41677],\n",
       "       [ 41717],\n",
       "       [ 41719],\n",
       "       [ 41723],\n",
       "       [ 41780],\n",
       "       [ 41793],\n",
       "       [ 41834],\n",
       "       [ 41838],\n",
       "       [ 41842],\n",
       "       [ 41894],\n",
       "       [ 41946],\n",
       "       [ 41985],\n",
       "       [ 42049],\n",
       "       [ 42092],\n",
       "       [ 42108],\n",
       "       [ 42117],\n",
       "       [ 42202],\n",
       "       [ 42205],\n",
       "       [ 42210],\n",
       "       [ 42238],\n",
       "       [ 42241],\n",
       "       [ 42245],\n",
       "       [ 42247],\n",
       "       [ 42260],\n",
       "       [ 42278],\n",
       "       [ 42297],\n",
       "       [ 42299],\n",
       "       [ 42332],\n",
       "       [ 42465],\n",
       "       [ 42503],\n",
       "       [ 42525],\n",
       "       [ 42569],\n",
       "       [ 42578],\n",
       "       [ 42667],\n",
       "       [ 42676],\n",
       "       [ 42714],\n",
       "       [ 42723],\n",
       "       [ 42735],\n",
       "       [ 42739],\n",
       "       [ 42743],\n",
       "       [ 42775],\n",
       "       [ 42787],\n",
       "       [ 42788],\n",
       "       [ 42794],\n",
       "       [ 42797],\n",
       "       [ 42813],\n",
       "       [ 42837],\n",
       "       [ 42841],\n",
       "       [ 42844],\n",
       "       [ 42857],\n",
       "       [ 42860],\n",
       "       [ 42874],\n",
       "       [ 42888],\n",
       "       [ 42901],\n",
       "       [ 42929],\n",
       "       [ 42957],\n",
       "       [ 42980],\n",
       "       [ 43040],\n",
       "       [ 43051],\n",
       "       [ 43067],\n",
       "       [ 43168],\n",
       "       [ 43234],\n",
       "       [ 43247],\n",
       "       [ 43304],\n",
       "       [ 43309],\n",
       "       [ 43387],\n",
       "       [ 43672],\n",
       "       [ 43690],\n",
       "       [ 43704],\n",
       "       [ 43833],\n",
       "       [ 43850],\n",
       "       [ 43868],\n",
       "       [ 43916],\n",
       "       [ 44223],\n",
       "       [ 44241],\n",
       "       [ 44288],\n",
       "       [ 44392],\n",
       "       [ 44470],\n",
       "       [ 44566],\n",
       "       [ 44634],\n",
       "       [ 44786],\n",
       "       [ 44940],\n",
       "       [ 44960],\n",
       "       [ 45190],\n",
       "       [ 45327],\n",
       "       [ 45413],\n",
       "       [ 45428],\n",
       "       [ 45553],\n",
       "       [ 45908],\n",
       "       [ 45923],\n",
       "       [ 46407],\n",
       "       [ 46450],\n",
       "       [ 46707],\n",
       "       [ 46819],\n",
       "       [ 46986],\n",
       "       [ 47175],\n",
       "       [ 47207],\n",
       "       [ 47292],\n",
       "       [ 47511],\n",
       "       [ 47574],\n",
       "       [ 47588],\n",
       "       [ 47979],\n",
       "       [ 48160],\n",
       "       [ 48228],\n",
       "       [ 48348],\n",
       "       [ 48389],\n",
       "       [ 48399],\n",
       "       [ 48402],\n",
       "       [ 48733],\n",
       "       [ 48773],\n",
       "       [ 48835],\n",
       "       [ 48846],\n",
       "       [ 48856],\n",
       "       [ 48890],\n",
       "       [ 48894],\n",
       "       [ 48940],\n",
       "       [ 48945],\n",
       "       [ 48953],\n",
       "       [ 48986],\n",
       "       [ 48997],\n",
       "       [ 49006],\n",
       "       [ 49019],\n",
       "       [ 49062],\n",
       "       [ 49106],\n",
       "       [ 49113],\n",
       "       [ 49139],\n",
       "       [ 49143],\n",
       "       [ 49157],\n",
       "       [ 49162],\n",
       "       [ 49186],\n",
       "       [ 49206],\n",
       "       [ 49217],\n",
       "       [ 49221],\n",
       "       [ 49232],\n",
       "       [ 49241],\n",
       "       [ 49264],\n",
       "       [ 49308],\n",
       "       [ 49318],\n",
       "       [ 49359],\n",
       "       [ 49371],\n",
       "       [ 49375],\n",
       "       [ 49394],\n",
       "       [ 49422],\n",
       "       [ 49471],\n",
       "       [ 49492],\n",
       "       [ 49504],\n",
       "       [ 49512],\n",
       "       [ 49526],\n",
       "       [ 49630],\n",
       "       [ 49640],\n",
       "       [ 49834],\n",
       "       [ 49848],\n",
       "       [ 49895],\n",
       "       [ 49924],\n",
       "       [ 49962],\n",
       "       [ 49971],\n",
       "       [ 50031],\n",
       "       [ 50036],\n",
       "       [ 50048],\n",
       "       [ 50071],\n",
       "       [ 50074],\n",
       "       [ 50075],\n",
       "       [ 50080],\n",
       "       [ 50081],\n",
       "       [ 50087],\n",
       "       [ 50125],\n",
       "       [ 50128],\n",
       "       [ 50137],\n",
       "       [ 50143],\n",
       "       [ 50483],\n",
       "       [ 50587],\n",
       "       [ 50613],\n",
       "       [ 50615],\n",
       "       [ 50750],\n",
       "       [ 50810],\n",
       "       [ 50848],\n",
       "       [ 50860],\n",
       "       [ 50905],\n",
       "       [ 50913],\n",
       "       [ 50917],\n",
       "       [ 50949],\n",
       "       [ 51055],\n",
       "       [ 51061],\n",
       "       [ 51073],\n",
       "       [ 51082],\n",
       "       [ 51130],\n",
       "       [ 51169],\n",
       "       [ 51172],\n",
       "       [ 51234],\n",
       "       [ 51296],\n",
       "       [ 51386],\n",
       "       [ 51492],\n",
       "       [ 51497],\n",
       "       [ 51941],\n",
       "       [ 51996],\n",
       "       [ 52055],\n",
       "       [ 52057],\n",
       "       [ 52102],\n",
       "       [ 52105],\n",
       "       [ 52149],\n",
       "       [ 52157],\n",
       "       [ 52175],\n",
       "       [ 52250],\n",
       "       [ 52366],\n",
       "       [ 52374],\n",
       "       [ 52375],\n",
       "       [ 52420],\n",
       "       [ 52432],\n",
       "       [ 52439],\n",
       "       [ 52448],\n",
       "       [ 52461],\n",
       "       [ 52465],\n",
       "       [ 52467],\n",
       "       [ 52484],\n",
       "       [ 52487],\n",
       "       [ 52531],\n",
       "       [ 52533],\n",
       "       [ 52538],\n",
       "       [ 52539],\n",
       "       [ 52543],\n",
       "       [ 52581],\n",
       "       [ 52584],\n",
       "       [ 52592],\n",
       "       [ 52600],\n",
       "       [ 52602],\n",
       "       [ 52611],\n",
       "       [ 52751],\n",
       "       [ 52754],\n",
       "       [ 52797],\n",
       "       [ 52803],\n",
       "       [ 52810],\n",
       "       [ 52815],\n",
       "       [ 52818],\n",
       "       [ 52846],\n",
       "       [ 52860],\n",
       "       [ 52865],\n",
       "       [ 52870],\n",
       "       [ 52874],\n",
       "       [ 55052],\n",
       "       [ 55138],\n",
       "       [ 55211],\n",
       "       [ 55223],\n",
       "       [ 56506],\n",
       "       [ 56711],\n",
       "       [ 56719],\n",
       "       [ 58459],\n",
       "       [ 58513],\n",
       "       [ 58587],\n",
       "       [ 58590],\n",
       "       [ 58656],\n",
       "       [ 58660],\n",
       "       [ 58664],\n",
       "       [ 58716],\n",
       "       [ 58756],\n",
       "       [ 58759],\n",
       "       [ 58775],\n",
       "       [ 58776],\n",
       "       [ 58807],\n",
       "       [ 58814],\n",
       "       [ 58853],\n",
       "       [ 58865],\n",
       "       [ 58876],\n",
       "       [ 58885],\n",
       "       [ 58933],\n",
       "       [ 58948],\n",
       "       [ 58976],\n",
       "       [ 58985],\n",
       "       [ 58991],\n",
       "       [ 59041],\n",
       "       [ 59046],\n",
       "       [ 59184],\n",
       "       [ 59232],\n",
       "       [ 59236],\n",
       "       [ 59285],\n",
       "       [ 60232],\n",
       "       [ 60378],\n",
       "       [ 60446],\n",
       "       [ 60451],\n",
       "       [ 60825],\n",
       "       [ 60870],\n",
       "       [ 60955],\n",
       "       [ 61021],\n",
       "       [ 61026],\n",
       "       [ 61080],\n",
       "       [ 61809],\n",
       "       [ 61817],\n",
       "       [ 62018],\n",
       "       [ 62030],\n",
       "       [ 62040],\n",
       "       [ 62269],\n",
       "       [ 63245],\n",
       "       [ 63962],\n",
       "       [ 63971],\n",
       "       [ 63988],\n",
       "       [ 64094],\n",
       "       [ 64188],\n",
       "       [ 64477],\n",
       "       [ 64481],\n",
       "       [ 64631],\n",
       "       [ 64672],\n",
       "       [ 64710],\n",
       "       [ 64713],\n",
       "       [ 64715],\n",
       "       [ 64890],\n",
       "       [ 64935],\n",
       "       [ 65001],\n",
       "       [ 65040],\n",
       "       [ 65046],\n",
       "       [ 65053],\n",
       "       [ 65187],\n",
       "       [ 65240],\n",
       "       [ 65248],\n",
       "       [ 65260],\n",
       "       [ 65301],\n",
       "       [ 65305],\n",
       "       [ 65319],\n",
       "       [ 67391],\n",
       "       [ 67439],\n",
       "       [ 67981],\n",
       "       [ 67990],\n",
       "       [ 68047],\n",
       "       [ 68577],\n",
       "       [ 68581],\n",
       "       [ 68587],\n",
       "       [ 68603],\n",
       "       [ 68606],\n",
       "       [ 70387],\n",
       "       [ 70389],\n",
       "       [ 70795],\n",
       "       [ 70802],\n",
       "       [ 70918],\n",
       "       [ 70924],\n",
       "       [ 70927],\n",
       "       [ 70988],\n",
       "       [ 71042],\n",
       "       [ 71047],\n",
       "       [ 71076],\n",
       "       [ 71080],\n",
       "       [ 71091],\n",
       "       [ 71097],\n",
       "       [ 71105],\n",
       "       [ 71121],\n",
       "       [ 71171],\n",
       "       [ 71273],\n",
       "       [ 71289],\n",
       "       [ 71411],\n",
       "       [ 71437],\n",
       "       [ 71476],\n",
       "       [ 71541],\n",
       "       [ 71563],\n",
       "       [ 71597],\n",
       "       [ 71613],\n",
       "       [ 71627],\n",
       "       [ 71706],\n",
       "       [ 71715],\n",
       "       [ 71717],\n",
       "       [ 71740],\n",
       "       [ 71743],\n",
       "       [ 71750],\n",
       "       [ 71757],\n",
       "       [ 72054],\n",
       "       [ 72188],\n",
       "       [ 72237],\n",
       "       [ 72240],\n",
       "       [ 72358],\n",
       "       [ 72374],\n",
       "       [ 72438],\n",
       "       [ 72471],\n",
       "       [ 72474],\n",
       "       [ 72480],\n",
       "       [ 72486],\n",
       "       [ 72493],\n",
       "       [ 72529],\n",
       "       [ 72533],\n",
       "       [ 72543],\n",
       "       [ 72547],\n",
       "       [ 72558],\n",
       "       [ 72592],\n",
       "       [ 72597],\n",
       "       [ 75383],\n",
       "       [ 76099],\n",
       "       [ 76220],\n",
       "       [ 76347],\n",
       "       [ 76356],\n",
       "       [ 76388],\n",
       "       [ 76620],\n",
       "       [ 76817],\n",
       "       [ 76845],\n",
       "       [ 76848],\n",
       "       [ 76850],\n",
       "       [ 76852],\n",
       "       [ 76853],\n",
       "       [ 76859],\n",
       "       [ 76874],\n",
       "       [ 76881],\n",
       "       [ 76882],\n",
       "       [ 77580],\n",
       "       [ 77582],\n",
       "       [ 77583],\n",
       "       [ 77585],\n",
       "       [ 77592],\n",
       "       [ 77596],\n",
       "       [ 77598],\n",
       "       [ 77601],\n",
       "       [ 77809],\n",
       "       [ 77815],\n",
       "       [ 77816],\n",
       "       [ 77818],\n",
       "       [ 77819],\n",
       "       [ 77821],\n",
       "       [ 77823],\n",
       "       [ 77824],\n",
       "       [ 77843],\n",
       "       [ 77887],\n",
       "       [ 79389],\n",
       "       [ 79979],\n",
       "       [ 81379],\n",
       "       [ 81670],\n",
       "       [ 81788],\n",
       "       [ 83936],\n",
       "       [ 83944],\n",
       "       [ 83961],\n",
       "       [ 84029],\n",
       "       [ 84122],\n",
       "       [ 84490],\n",
       "       [ 84499],\n",
       "       [ 84537],\n",
       "       [ 84540],\n",
       "       [ 84886],\n",
       "       [ 84945],\n",
       "       [ 85007],\n",
       "       [ 85074],\n",
       "       [ 85188],\n",
       "       [ 85243],\n",
       "       [ 85249],\n",
       "       [ 85339],\n",
       "       [ 85346],\n",
       "       [ 85448],\n",
       "       [ 85495],\n",
       "       [ 85597],\n",
       "       [ 85681],\n",
       "       [ 85697],\n",
       "       [ 85739],\n",
       "       [ 85747],\n",
       "       [ 85754],\n",
       "       [ 85803],\n",
       "       [ 85813],\n",
       "       [ 85869],\n",
       "       [ 85871],\n",
       "       [ 85887],\n",
       "       [ 85907],\n",
       "       [ 85914],\n",
       "       [ 85925],\n",
       "       [ 85979],\n",
       "       [ 85982],\n",
       "       [ 86002],\n",
       "       [ 86054],\n",
       "       [ 86088],\n",
       "       [ 86093],\n",
       "       [ 86100],\n",
       "       [ 86104],\n",
       "       [ 86123],\n",
       "       [ 86131],\n",
       "       [ 86161],\n",
       "       [ 86168],\n",
       "       [ 86175],\n",
       "       [ 86185],\n",
       "       [ 86206],\n",
       "       [ 88146],\n",
       "       [ 89227],\n",
       "       [ 89417],\n",
       "       [ 89422],\n",
       "       [ 89426],\n",
       "       [ 89428],\n",
       "       [ 89433],\n",
       "       [ 89447],\n",
       "       [ 89455],\n",
       "       [ 89464],\n",
       "       [ 89468],\n",
       "       [ 89570],\n",
       "       [ 89612],\n",
       "       [ 89613],\n",
       "       [ 89618],\n",
       "       [ 89619],\n",
       "       [ 89622],\n",
       "       [ 89757],\n",
       "       [ 89767],\n",
       "       [ 89768],\n",
       "       [ 89772],\n",
       "       [ 89773],\n",
       "       [ 89784],\n",
       "       [ 89851],\n",
       "       [ 90486],\n",
       "       [ 91058],\n",
       "       [ 91066],\n",
       "       [ 91071],\n",
       "       [ 91073],\n",
       "       [ 91125],\n",
       "       [ 91130],\n",
       "       [ 91132],\n",
       "       [ 91135],\n",
       "       [ 91137],\n",
       "       [ 91251],\n",
       "       [ 91294],\n",
       "       [ 91338],\n",
       "       [ 91352],\n",
       "       [ 91361],\n",
       "       [ 91372],\n",
       "       [ 91422],\n",
       "       [ 91424],\n",
       "       [ 91447],\n",
       "       [ 91473],\n",
       "       [ 91518],\n",
       "       [ 91521],\n",
       "       [ 91522],\n",
       "       [ 91523],\n",
       "       [ 91525],\n",
       "       [ 91563],\n",
       "       [ 91674],\n",
       "       [ 91679],\n",
       "       [ 91856],\n",
       "       [ 92292],\n",
       "       [ 93676],\n",
       "       [ 94037],\n",
       "       [ 94371],\n",
       "       [ 94425],\n",
       "       [ 94478],\n",
       "       [ 95139],\n",
       "       [ 96795],\n",
       "       [ 96799],\n",
       "       [ 97059],\n",
       "       [ 97761],\n",
       "       [ 97889],\n",
       "       [ 97900],\n",
       "       [ 98040],\n",
       "       [ 98114],\n",
       "       [ 98121],\n",
       "       [ 98125],\n",
       "       [ 98139],\n",
       "       [ 98170],\n",
       "       [ 98175],\n",
       "       [ 98182],\n",
       "       [ 98202],\n",
       "       [ 98206],\n",
       "       [ 98209],\n",
       "       [ 98212],\n",
       "       [ 98362],\n",
       "       [ 98479],\n",
       "       [ 98566],\n",
       "       [ 98567],\n",
       "       [ 98569],\n",
       "       [ 98572],\n",
       "       [ 98585],\n",
       "       [ 98625],\n",
       "       [ 98627],\n",
       "       [ 98729],\n",
       "       [ 98750],\n",
       "       [ 98763],\n",
       "       [ 98766],\n",
       "       [ 98776],\n",
       "       [ 98781],\n",
       "       [ 98789],\n",
       "       [ 98793],\n",
       "       [ 98807],\n",
       "       [ 98826],\n",
       "       [ 98852],\n",
       "       [ 99757],\n",
       "       [102371],\n",
       "       [102401],\n",
       "       [102407],\n",
       "       [102410],\n",
       "       [102424],\n",
       "       [103001],\n",
       "       [103006],\n",
       "       [103010],\n",
       "       [103164],\n",
       "       [103168],\n",
       "       [103174],\n",
       "       [103183],\n",
       "       [103235],\n",
       "       [103279],\n",
       "       [103298],\n",
       "       [103299],\n",
       "       [103339],\n",
       "       [103342],\n",
       "       [103356],\n",
       "       [103373],\n",
       "       [103401],\n",
       "       [103411],\n",
       "       [103456],\n",
       "       [103469],\n",
       "       [103511],\n",
       "       [103524],\n",
       "       [103528],\n",
       "       [103531],\n",
       "       [103590],\n",
       "       [103616],\n",
       "       [103649],\n",
       "       [103653],\n",
       "       [103743],\n",
       "       [103746],\n",
       "       [103756],\n",
       "       [103772],\n",
       "       [103813],\n",
       "       [103975],\n",
       "       [103987],\n",
       "       [104177],\n",
       "       [104182],\n",
       "       [104188],\n",
       "       [104214],\n",
       "       [104219],\n",
       "       [104255],\n",
       "       [104271],\n",
       "       [104326],\n",
       "       [104393],\n",
       "       [104397],\n",
       "       [104459],\n",
       "       [104501],\n",
       "       [104505],\n",
       "       [104567],\n",
       "       [104573],\n",
       "       [104579],\n",
       "       [104641],\n",
       "       [104699],\n",
       "       [104944],\n",
       "       [105267],\n",
       "       [105334],\n",
       "       [105732],\n",
       "       [105739],\n",
       "       [105772],\n",
       "       [105798],\n",
       "       [105803],\n",
       "       [105866],\n",
       "       [106074],\n",
       "       [106077],\n",
       "       [106150],\n",
       "       [106199],\n",
       "       [106287]])"
      ]
     },
     "execution_count": 278,
     "metadata": {},
     "output_type": "execute_result"
    }
   ],
   "source": [
    "np.argwhere(~np.isnan(mark_subset[:,2]))[:1000]"
   ]
  },
  {
   "cell_type": "code",
   "execution_count": 308,
   "id": "2d26637d-066f-4eb9-a666-70df806079a9",
   "metadata": {},
   "outputs": [],
   "source": [
    "entry = DecodeIngredientsLikelihood & {'nwb_file_name':nwb_copy_file_name,\n",
    "             'interval_list_name':session_interval[0]}\n",
    "    \n",
    "# Get data\n",
    "marks = xr.open_dataset(entry.fetch1('marks'))\n",
    "position_1d = pd.read_csv(entry.fetch1('position_1d'))\n",
    "position_2d = pd.read_csv(entry.fetch1('position_2d')) #still need 2D position"
   ]
  },
  {
   "cell_type": "code",
   "execution_count": 309,
   "id": "bcf9e965-a22a-4213-abd1-e23edc4be0ab",
   "metadata": {},
   "outputs": [
    {
     "name": "stdout",
     "output_type": "stream",
     "text": [
      "(222259, 4)\n"
     ]
    },
    {
     "data": {
      "text/plain": [
       "0"
      ]
     },
     "execution_count": 309,
     "metadata": {},
     "output_type": "execute_result"
    }
   ],
   "source": [
    "mark_subset = np.array(marks.sel({\"electrodes\":31}).to_dataarray()).squeeze()\n",
    "print(mark_subset.shape)\n",
    "np.sum(~np.isnan(mark_subset[:,2]))"
   ]
  },
  {
   "cell_type": "code",
   "execution_count": 286,
   "id": "8739e0bc-deee-4461-a57c-51c776978076",
   "metadata": {},
   "outputs": [
    {
     "data": {
      "text/plain": [
       "94"
      ]
     },
     "execution_count": 286,
     "metadata": {},
     "output_type": "execute_result"
    }
   ],
   "source": [
    "np.sum(~np.isnan(mark_subset[:10000,2]))"
   ]
  },
  {
   "cell_type": "code",
   "execution_count": 289,
   "id": "0cfde02a-1314-4ca6-a9ac-c284786a4224",
   "metadata": {},
   "outputs": [
    {
     "data": {
      "text/plain": [
       "[<matplotlib.lines.Line2D at 0x7f6bbffa5e80>]"
      ]
     },
     "execution_count": 289,
     "metadata": {},
     "output_type": "execute_result"
    },
    {
     "data": {
      "image/png": "[encoded data removed]",
      "text/plain": [
       "<Figure size 640x480 with 1 Axes>"
      ]
     },
     "metadata": {},
     "output_type": "display_data"
    }
   ],
   "source": [
    "plt.plot(mark_subset[10000:20000,2])"
   ]
  },
  {
   "cell_type": "code",
   "execution_count": 266,
   "id": "57ad6fa5-ae5f-4e51-93d8-778548a9e325",
   "metadata": {},
   "outputs": [],
   "source": [
    "mark_test = decimate(mark_subset[:,2], 5, decimate_flag = True)"
   ]
  },
  {
   "cell_type": "code",
   "execution_count": 284,
   "id": "2f9e463a-9b53-4125-b560-3fbad50f8d39",
   "metadata": {},
   "outputs": [
    {
     "data": {
      "text/plain": [
       "array([], shape=(0, 1), dtype=int64)"
      ]
     },
     "execution_count": 284,
     "metadata": {},
     "output_type": "execute_result"
    }
   ],
   "source": [
    "np.argwhere(~np.isnan(mark_test))"
   ]
  },
  {
   "cell_type": "code",
   "execution_count": 268,
   "id": "61b5a267-9236-4acf-bb25-43eaba80027a",
   "metadata": {},
   "outputs": [
    {
     "data": {
      "text/plain": [
       "[<matplotlib.lines.Line2D at 0x7f6baed435e0>]"
      ]
     },
     "execution_count": 268,
     "metadata": {},
     "output_type": "execute_result"
    },
    {
     "data": {
      "image/png": "[encoded data removed]",
      "text/plain": [
       "<Figure size 640x480 with 1 Axes>"
      ]
     },
     "metadata": {},
     "output_type": "display_data"
    }
   ],
   "source": [
    "plt.plot(mark_test)"
   ]
  },
  {
   "cell_type": "code",
   "execution_count": 259,
   "id": "57b550fb-1c13-44e0-a5ba-097fe25887da",
   "metadata": {},
   "outputs": [
    {
     "name": "stdout",
     "output_type": "stream",
     "text": [
      "0\n"
     ]
    },
    {
     "data": {
      "text/plain": [
       "[<matplotlib.lines.Line2D at 0x7f6bb702bb80>]"
      ]
     },
     "execution_count": 259,
     "metadata": {},
     "output_type": "execute_result"
    },
    {
     "data": {
      "image/png": "[encoded data removed]",
      "text/plain": [
       "<Figure size 640x480 with 1 Axes>"
      ]
     },
     "metadata": {},
     "output_type": "display_data"
    }
   ],
   "source": [
    "mark_subset = np.array(marks_decimate.sel({\"electrodes\":31}).to_dataarray()).squeeze()\n",
    "print(np.sum(~np.isnan(mark_subset[:,2])))\n",
    "plt.plot(mark_subset[:,2],mark_subset[:,3])"
   ]
  },
  {
   "cell_type": "code",
   "execution_count": null,
   "id": "68463c3b-5030-41fa-8de0-0af86b29b149",
   "metadata": {},
   "outputs": [],
   "source": []
  },
  {
   "cell_type": "code",
   "execution_count": null,
   "id": "c6b161e1-f96a-4152-bbfa-54d4c662c025",
   "metadata": {},
   "outputs": [],
   "source": []
  },
  {
   "cell_type": "code",
   "execution_count": null,
   "id": "fd90fc15-f53a-4e03-8754-83a32fd655bb",
   "metadata": {
    "scrolled": true
   },
   "outputs": [
    {
     "name": "stderr",
     "output_type": "stream",
     "text": [
      "[15:36:46][INFO] Spyglass: Found 1 accepted units\n",
      "19-Sep-24 15:36:46 Found 1 accepted units\n",
      "[15:36:50][INFO] Spyglass: Writing new NWB file lewis20240106_F81ZWHGISE.nwb\n",
      "19-Sep-24 15:36:50 Writing new NWB file lewis20240106_F81ZWHGISE.nwb\n",
      "[15:36:52][INFO] Spyglass: Found 1 accepted units\n",
      "19-Sep-24 15:36:52 Found 1 accepted units\n",
      "[15:36:53][INFO] Spyglass: Writing new NWB file lewis20240106_K7SD8JFPNM.nwb\n",
      "19-Sep-24 15:36:53 Writing new NWB file lewis20240106_K7SD8JFPNM.nwb\n",
      "[15:36:54][INFO] Spyglass: Found 1 accepted units\n",
      "19-Sep-24 15:36:54 Found 1 accepted units\n",
      "[15:36:55][INFO] Spyglass: Writing new NWB file lewis20240106_0DBKZZIR2A.nwb\n",
      "19-Sep-24 15:36:55 Writing new NWB file lewis20240106_0DBKZZIR2A.nwb\n",
      "[15:36:57][INFO] Spyglass: Found 1 accepted units\n",
      "19-Sep-24 15:36:57 Found 1 accepted units\n",
      "[15:36:58][INFO] Spyglass: Writing new NWB file lewis20240106_UT75NCSCER.nwb\n",
      "19-Sep-24 15:36:58 Writing new NWB file lewis20240106_UT75NCSCER.nwb\n",
      "[15:37:00][INFO] Spyglass: Found 1 accepted units\n",
      "19-Sep-24 15:37:00 Found 1 accepted units\n",
      "[15:37:01][INFO] Spyglass: Writing new NWB file lewis20240106_5OYDQJV7WU.nwb\n",
      "19-Sep-24 15:37:01 Writing new NWB file lewis20240106_5OYDQJV7WU.nwb\n",
      "[15:37:03][INFO] Spyglass: Found 1 accepted units\n",
      "19-Sep-24 15:37:03 Found 1 accepted units\n",
      "[15:37:04][INFO] Spyglass: Writing new NWB file lewis20240106_NENGTSKNHQ.nwb\n",
      "19-Sep-24 15:37:04 Writing new NWB file lewis20240106_NENGTSKNHQ.nwb\n",
      "[15:37:06][INFO] Spyglass: Found 1 accepted units\n",
      "19-Sep-24 15:37:06 Found 1 accepted units\n",
      "[15:37:07][INFO] Spyglass: Writing new NWB file lewis20240106_B26K85A6BH.nwb\n",
      "19-Sep-24 15:37:07 Writing new NWB file lewis20240106_B26K85A6BH.nwb\n",
      "[15:37:08][INFO] Spyglass: Found 1 accepted units\n",
      "19-Sep-24 15:37:08 Found 1 accepted units\n",
      "[15:37:09][INFO] Spyglass: Writing new NWB file lewis20240106_BIGPJWNPHX.nwb\n",
      "19-Sep-24 15:37:09 Writing new NWB file lewis20240106_BIGPJWNPHX.nwb\n",
      "[15:37:11][INFO] Spyglass: Found 1 accepted units\n",
      "19-Sep-24 15:37:11 Found 1 accepted units\n",
      "[15:37:12][INFO] Spyglass: Writing new NWB file lewis20240106_C0J304FDCE.nwb\n",
      "19-Sep-24 15:37:12 Writing new NWB file lewis20240106_C0J304FDCE.nwb\n",
      "[15:37:14][INFO] Spyglass: Found 1 accepted units\n",
      "19-Sep-24 15:37:14 Found 1 accepted units\n",
      "[15:37:15][INFO] Spyglass: Writing new NWB file lewis20240106_QL507SXNAO.nwb\n",
      "19-Sep-24 15:37:15 Writing new NWB file lewis20240106_QL507SXNAO.nwb\n",
      "[15:37:17][INFO] Spyglass: Found 1 accepted units\n",
      "19-Sep-24 15:37:17 Found 1 accepted units\n",
      "[15:37:18][INFO] Spyglass: Writing new NWB file lewis20240106_2BOQP6JTGR.nwb\n",
      "19-Sep-24 15:37:18 Writing new NWB file lewis20240106_2BOQP6JTGR.nwb\n",
      "[15:37:19][INFO] Spyglass: Found 1 accepted units\n",
      "19-Sep-24 15:37:19 Found 1 accepted units\n",
      "[15:37:20][INFO] Spyglass: Writing new NWB file lewis20240106_7TCQCTR5OH.nwb\n",
      "19-Sep-24 15:37:20 Writing new NWB file lewis20240106_7TCQCTR5OH.nwb\n",
      "[15:37:22][INFO] Spyglass: Found 1 accepted units\n",
      "19-Sep-24 15:37:22 Found 1 accepted units\n",
      "[15:37:23][INFO] Spyglass: Writing new NWB file lewis20240106_IA71VWFKZ7.nwb\n",
      "19-Sep-24 15:37:23 Writing new NWB file lewis20240106_IA71VWFKZ7.nwb\n",
      "[15:37:24][INFO] Spyglass: Found 1 accepted units\n",
      "19-Sep-24 15:37:24 Found 1 accepted units\n",
      "[15:37:25][INFO] Spyglass: Writing new NWB file lewis20240106_XE2500U8OW.nwb\n",
      "19-Sep-24 15:37:25 Writing new NWB file lewis20240106_XE2500U8OW.nwb\n",
      "[15:37:27][INFO] Spyglass: Found 1 accepted units\n",
      "19-Sep-24 15:37:27 Found 1 accepted units\n",
      "[15:37:28][INFO] Spyglass: Writing new NWB file lewis20240106_W9A0IDMTL1.nwb\n",
      "19-Sep-24 15:37:28 Writing new NWB file lewis20240106_W9A0IDMTL1.nwb\n",
      "[15:37:30][INFO] Spyglass: Found 1 accepted units\n",
      "19-Sep-24 15:37:30 Found 1 accepted units\n",
      "[15:37:31][INFO] Spyglass: Writing new NWB file lewis20240106_DX0M2YG3KH.nwb\n",
      "19-Sep-24 15:37:31 Writing new NWB file lewis20240106_DX0M2YG3KH.nwb\n",
      "[15:37:32][INFO] Spyglass: Found 1 accepted units\n",
      "19-Sep-24 15:37:32 Found 1 accepted units\n",
      "[15:37:33][INFO] Spyglass: Writing new NWB file lewis20240106_GOSEGA7OXD.nwb\n",
      "19-Sep-24 15:37:33 Writing new NWB file lewis20240106_GOSEGA7OXD.nwb\n",
      "[15:37:35][INFO] Spyglass: Found 1 accepted units\n",
      "19-Sep-24 15:37:35 Found 1 accepted units\n",
      "[15:37:36][INFO] Spyglass: Writing new NWB file lewis20240106_SY0WW78Z5X.nwb\n",
      "19-Sep-24 15:37:36 Writing new NWB file lewis20240106_SY0WW78Z5X.nwb\n",
      "[15:37:38][INFO] Spyglass: Found 1 accepted units\n",
      "19-Sep-24 15:37:38 Found 1 accepted units\n",
      "[15:37:39][INFO] Spyglass: Writing new NWB file lewis20240106_USN8BZRAX9.nwb\n",
      "19-Sep-24 15:37:39 Writing new NWB file lewis20240106_USN8BZRAX9.nwb\n",
      "[15:37:40][INFO] Spyglass: Found 1 accepted units\n",
      "19-Sep-24 15:37:40 Found 1 accepted units\n",
      "[15:37:41][INFO] Spyglass: Writing new NWB file lewis20240106_4457PI7A6A.nwb\n",
      "19-Sep-24 15:37:41 Writing new NWB file lewis20240106_4457PI7A6A.nwb\n",
      "[15:37:43][INFO] Spyglass: Found 1 accepted units\n",
      "19-Sep-24 15:37:43 Found 1 accepted units\n",
      "[15:37:44][INFO] Spyglass: Writing new NWB file lewis20240106_6E9NJLVGLO.nwb\n",
      "19-Sep-24 15:37:44 Writing new NWB file lewis20240106_6E9NJLVGLO.nwb\n",
      "[15:37:45][INFO] Spyglass: Found 1 accepted units\n",
      "19-Sep-24 15:37:45 Found 1 accepted units\n",
      "[15:37:46][INFO] Spyglass: Writing new NWB file lewis20240106_FXTX7TZHSS.nwb\n",
      "19-Sep-24 15:37:46 Writing new NWB file lewis20240106_FXTX7TZHSS.nwb\n",
      "[15:37:48][INFO] Spyglass: Found 1 accepted units\n",
      "19-Sep-24 15:37:48 Found 1 accepted units\n",
      "[15:37:49][INFO] Spyglass: Writing new NWB file lewis20240106_B3UH212OZR.nwb\n",
      "19-Sep-24 15:37:49 Writing new NWB file lewis20240106_B3UH212OZR.nwb\n",
      "[15:37:51][INFO] Spyglass: Found 1 accepted units\n",
      "19-Sep-24 15:37:51 Found 1 accepted units\n",
      "[15:37:52][INFO] Spyglass: Writing new NWB file lewis20240106_5RGIQOASCV.nwb\n",
      "19-Sep-24 15:37:52 Writing new NWB file lewis20240106_5RGIQOASCV.nwb\n",
      "[15:37:53][INFO] Spyglass: Found 1 accepted units\n",
      "19-Sep-24 15:37:53 Found 1 accepted units\n",
      "[15:37:54][INFO] Spyglass: Writing new NWB file lewis20240106_2UGNEP4KLL.nwb\n",
      "19-Sep-24 15:37:54 Writing new NWB file lewis20240106_2UGNEP4KLL.nwb\n",
      "[15:37:56][INFO] Spyglass: Found 1 accepted units\n",
      "19-Sep-24 15:37:56 Found 1 accepted units\n",
      "[15:37:57][INFO] Spyglass: Writing new NWB file lewis20240106_OJ15R0I0ZP.nwb\n",
      "19-Sep-24 15:37:57 Writing new NWB file lewis20240106_OJ15R0I0ZP.nwb\n",
      "[15:37:58][INFO] Spyglass: Found 1 accepted units\n",
      "19-Sep-24 15:37:58 Found 1 accepted units\n",
      "[15:37:59][INFO] Spyglass: Writing new NWB file lewis20240106_WQ0HSR335S.nwb\n",
      "19-Sep-24 15:37:59 Writing new NWB file lewis20240106_WQ0HSR335S.nwb\n",
      "[15:38:01][INFO] Spyglass: Found 1 accepted units\n",
      "19-Sep-24 15:38:01 Found 1 accepted units\n",
      "[15:38:02][INFO] Spyglass: Writing new NWB file lewis20240106_VUEUTXZETP.nwb\n",
      "19-Sep-24 15:38:02 Writing new NWB file lewis20240106_VUEUTXZETP.nwb\n",
      "[15:38:04][INFO] Spyglass: Found 1 accepted units\n",
      "19-Sep-24 15:38:04 Found 1 accepted units\n",
      "[15:38:05][INFO] Spyglass: Writing new NWB file lewis20240106_HMDEBQEZGH.nwb\n",
      "19-Sep-24 15:38:05 Writing new NWB file lewis20240106_HMDEBQEZGH.nwb\n",
      "[15:38:06][INFO] Spyglass: Found 1 accepted units\n",
      "19-Sep-24 15:38:06 Found 1 accepted units\n",
      "[15:38:07][INFO] Spyglass: Writing new NWB file lewis20240106_TNR3URI5KG.nwb\n",
      "19-Sep-24 15:38:07 Writing new NWB file lewis20240106_TNR3URI5KG.nwb\n",
      "[15:38:09][INFO] Spyglass: Found 1 accepted units\n",
      "19-Sep-24 15:38:09 Found 1 accepted units\n",
      "[15:38:10][INFO] Spyglass: Writing new NWB file lewis20240106_0BJZBDROH7.nwb\n",
      "19-Sep-24 15:38:10 Writing new NWB file lewis20240106_0BJZBDROH7.nwb\n",
      "[15:38:11][INFO] Spyglass: Found 1 accepted units\n",
      "19-Sep-24 15:38:11 Found 1 accepted units\n",
      "[15:38:13][INFO] Spyglass: Writing new NWB file lewis20240106_D319GTGCI7.nwb\n",
      "19-Sep-24 15:38:13 Writing new NWB file lewis20240106_D319GTGCI7.nwb\n",
      "[15:38:14][INFO] Spyglass: Found 1 accepted units\n",
      "19-Sep-24 15:38:14 Found 1 accepted units\n",
      "[15:38:15][INFO] Spyglass: Writing new NWB file lewis20240106_VNRKIY8YRU.nwb\n",
      "19-Sep-24 15:38:15 Writing new NWB file lewis20240106_VNRKIY8YRU.nwb\n",
      "[15:38:17][INFO] Spyglass: Found 1 accepted units\n",
      "19-Sep-24 15:38:17 Found 1 accepted units\n",
      "[15:38:18][INFO] Spyglass: Writing new NWB file lewis20240106_XZRGEX6AKU.nwb\n",
      "19-Sep-24 15:38:18 Writing new NWB file lewis20240106_XZRGEX6AKU.nwb\n",
      "[15:38:19][INFO] Spyglass: Found 1 accepted units\n",
      "19-Sep-24 15:38:19 Found 1 accepted units\n",
      "[15:38:20][INFO] Spyglass: Writing new NWB file lewis20240106_XPB7FMOBHG.nwb\n",
      "19-Sep-24 15:38:20 Writing new NWB file lewis20240106_XPB7FMOBHG.nwb\n",
      "[15:38:22][INFO] Spyglass: Found 1 accepted units\n",
      "19-Sep-24 15:38:22 Found 1 accepted units\n",
      "[15:38:23][INFO] Spyglass: Writing new NWB file lewis20240106_UBKE2O5CEY.nwb\n",
      "19-Sep-24 15:38:23 Writing new NWB file lewis20240106_UBKE2O5CEY.nwb\n",
      "[15:38:24][INFO] Spyglass: Found 1 accepted units\n",
      "19-Sep-24 15:38:24 Found 1 accepted units\n",
      "[15:38:25][INFO] Spyglass: Writing new NWB file lewis20240106_Q2SYYF9Y7I.nwb\n",
      "19-Sep-24 15:38:25 Writing new NWB file lewis20240106_Q2SYYF9Y7I.nwb\n",
      "[15:38:27][INFO] Spyglass: Found 1 accepted units\n",
      "19-Sep-24 15:38:27 Found 1 accepted units\n",
      "[15:38:28][INFO] Spyglass: Writing new NWB file lewis20240106_ANABTY7FAN.nwb\n",
      "19-Sep-24 15:38:28 Writing new NWB file lewis20240106_ANABTY7FAN.nwb\n",
      "[15:38:30][INFO] Spyglass: Found 1 accepted units\n",
      "19-Sep-24 15:38:30 Found 1 accepted units\n",
      "[15:38:31][INFO] Spyglass: Writing new NWB file lewis20240106_BFXOMEGPVU.nwb\n",
      "19-Sep-24 15:38:31 Writing new NWB file lewis20240106_BFXOMEGPVU.nwb\n",
      "[15:38:33][INFO] Spyglass: Found 1 accepted units\n",
      "19-Sep-24 15:38:33 Found 1 accepted units\n",
      "[15:38:33][INFO] Spyglass: Writing new NWB file lewis20240106_4LR5BODISE.nwb\n",
      "19-Sep-24 15:38:33 Writing new NWB file lewis20240106_4LR5BODISE.nwb\n",
      "[15:38:35][INFO] Spyglass: Found 1 accepted units\n",
      "19-Sep-24 15:38:35 Found 1 accepted units\n",
      "[15:38:36][INFO] Spyglass: Writing new NWB file lewis20240106_C5AOGIIZTD.nwb\n",
      "19-Sep-24 15:38:36 Writing new NWB file lewis20240106_C5AOGIIZTD.nwb\n",
      "[15:38:38][INFO] Spyglass: Found 1 accepted units\n",
      "19-Sep-24 15:38:38 Found 1 accepted units\n",
      "[15:38:39][INFO] Spyglass: Writing new NWB file lewis20240106_2FKICI5CH9.nwb\n",
      "19-Sep-24 15:38:39 Writing new NWB file lewis20240106_2FKICI5CH9.nwb\n",
      "[15:38:41][INFO] Spyglass: Found 1 accepted units\n",
      "19-Sep-24 15:38:41 Found 1 accepted units\n",
      "[15:38:42][INFO] Spyglass: Writing new NWB file lewis20240106_J1RWE0GQKA.nwb\n",
      "19-Sep-24 15:38:42 Writing new NWB file lewis20240106_J1RWE0GQKA.nwb\n"
     ]
    },
    {
     "data": {
      "application/vnd.jupyter.widget-view+json": {
       "model_id": "7f090c9d37134b29a37a0452fad0087c",
       "version_major": 2,
       "version_minor": 0
      },
      "text/plain": [
       "extract waveforms memmap:   0%|          | 0/1 [00:00<?, ?it/s]"
      ]
     },
     "metadata": {},
     "output_type": "display_data"
    },
    {
     "name": "stderr",
     "output_type": "stream",
     "text": [
      "[15:38:50][INFO] Spyglass: Writing new NWB file lewis20240106_VMTGJO4LU9.nwb\n",
      "19-Sep-24 15:38:50 Writing new NWB file lewis20240106_VMTGJO4LU9.nwb\n"
     ]
    },
    {
     "data": {
      "application/vnd.jupyter.widget-view+json": {
       "model_id": "70802c8b35ae4443909f168820f9e8ab",
       "version_major": 2,
       "version_minor": 0
      },
      "text/plain": [
       "extract waveforms memmap:   0%|          | 0/1 [00:00<?, ?it/s]"
      ]
     },
     "metadata": {},
     "output_type": "display_data"
    },
    {
     "name": "stderr",
     "output_type": "stream",
     "text": [
      "[15:38:55][INFO] Spyglass: Writing new NWB file lewis20240106_RAAQA9SBL1.nwb\n",
      "19-Sep-24 15:38:55 Writing new NWB file lewis20240106_RAAQA9SBL1.nwb\n"
     ]
    },
    {
     "data": {
      "application/vnd.jupyter.widget-view+json": {
       "model_id": "ca58f61ca3384457ba9699dad41011e2",
       "version_major": 2,
       "version_minor": 0
      },
      "text/plain": [
       "extract waveforms memmap:   0%|          | 0/1 [00:00<?, ?it/s]"
      ]
     },
     "metadata": {},
     "output_type": "display_data"
    },
    {
     "name": "stderr",
     "output_type": "stream",
     "text": [
      "[15:39:00][INFO] Spyglass: Writing new NWB file lewis20240106_A16IPR23VE.nwb\n",
      "19-Sep-24 15:39:00 Writing new NWB file lewis20240106_A16IPR23VE.nwb\n"
     ]
    },
    {
     "data": {
      "application/vnd.jupyter.widget-view+json": {
       "model_id": "821bc1794998481ebc24ea665321b0ee",
       "version_major": 2,
       "version_minor": 0
      },
      "text/plain": [
       "extract waveforms memmap:   0%|          | 0/1 [00:00<?, ?it/s]"
      ]
     },
     "metadata": {},
     "output_type": "display_data"
    },
    {
     "name": "stderr",
     "output_type": "stream",
     "text": [
      "[15:39:04][INFO] Spyglass: Writing new NWB file lewis20240106_HSFQP3QG98.nwb\n",
      "19-Sep-24 15:39:04 Writing new NWB file lewis20240106_HSFQP3QG98.nwb\n"
     ]
    },
    {
     "data": {
      "application/vnd.jupyter.widget-view+json": {
       "model_id": "c2ea4df1d1524aacbff70ba420964087",
       "version_major": 2,
       "version_minor": 0
      },
      "text/plain": [
       "extract waveforms memmap:   0%|          | 0/1 [00:00<?, ?it/s]"
      ]
     },
     "metadata": {},
     "output_type": "display_data"
    },
    {
     "name": "stderr",
     "output_type": "stream",
     "text": [
      "[15:39:10][INFO] Spyglass: Writing new NWB file lewis20240106_QP8IZ2T8II.nwb\n",
      "19-Sep-24 15:39:10 Writing new NWB file lewis20240106_QP8IZ2T8II.nwb\n"
     ]
    },
    {
     "data": {
      "application/vnd.jupyter.widget-view+json": {
       "model_id": "1c203976c476474baeb3c2da2a2f100b",
       "version_major": 2,
       "version_minor": 0
      },
      "text/plain": [
       "extract waveforms memmap:   0%|          | 0/1 [00:00<?, ?it/s]"
      ]
     },
     "metadata": {},
     "output_type": "display_data"
    },
    {
     "name": "stderr",
     "output_type": "stream",
     "text": [
      "[15:39:15][INFO] Spyglass: Writing new NWB file lewis20240106_EKJMEMGF7K.nwb\n",
      "19-Sep-24 15:39:15 Writing new NWB file lewis20240106_EKJMEMGF7K.nwb\n"
     ]
    },
    {
     "data": {
      "application/vnd.jupyter.widget-view+json": {
       "model_id": "fb14bb9c7f7740649e0ed6df269d9702",
       "version_major": 2,
       "version_minor": 0
      },
      "text/plain": [
       "extract waveforms memmap:   0%|          | 0/1 [00:00<?, ?it/s]"
      ]
     },
     "metadata": {},
     "output_type": "display_data"
    },
    {
     "name": "stderr",
     "output_type": "stream",
     "text": [
      "[15:39:20][INFO] Spyglass: Writing new NWB file lewis20240106_9NW57A4AP7.nwb\n",
      "19-Sep-24 15:39:20 Writing new NWB file lewis20240106_9NW57A4AP7.nwb\n"
     ]
    },
    {
     "data": {
      "application/vnd.jupyter.widget-view+json": {
       "model_id": "7c915db083d94722beb59bd4220229aa",
       "version_major": 2,
       "version_minor": 0
      },
      "text/plain": [
       "extract waveforms memmap:   0%|          | 0/1 [00:00<?, ?it/s]"
      ]
     },
     "metadata": {},
     "output_type": "display_data"
    },
    {
     "name": "stderr",
     "output_type": "stream",
     "text": [
      "[15:39:24][INFO] Spyglass: Writing new NWB file lewis20240106_VHRWOKFZGP.nwb\n",
      "19-Sep-24 15:39:24 Writing new NWB file lewis20240106_VHRWOKFZGP.nwb\n"
     ]
    },
    {
     "data": {
      "application/vnd.jupyter.widget-view+json": {
       "model_id": "ca479905b1ac43e6b5c19b5d12227eeb",
       "version_major": 2,
       "version_minor": 0
      },
      "text/plain": [
       "extract waveforms memmap:   0%|          | 0/1 [00:00<?, ?it/s]"
      ]
     },
     "metadata": {},
     "output_type": "display_data"
    },
    {
     "name": "stderr",
     "output_type": "stream",
     "text": [
      "[15:39:30][INFO] Spyglass: Writing new NWB file lewis20240106_4DM10Y7VRZ.nwb\n",
      "19-Sep-24 15:39:30 Writing new NWB file lewis20240106_4DM10Y7VRZ.nwb\n"
     ]
    },
    {
     "data": {
      "application/vnd.jupyter.widget-view+json": {
       "model_id": "157d2e06d01e43768a17b198a9ff6a2a",
       "version_major": 2,
       "version_minor": 0
      },
      "text/plain": [
       "extract waveforms memmap:   0%|          | 0/1 [00:00<?, ?it/s]"
      ]
     },
     "metadata": {},
     "output_type": "display_data"
    },
    {
     "name": "stderr",
     "output_type": "stream",
     "text": [
      "[15:39:34][INFO] Spyglass: Writing new NWB file lewis20240106_KVR2CUMA9B.nwb\n",
      "19-Sep-24 15:39:34 Writing new NWB file lewis20240106_KVR2CUMA9B.nwb\n"
     ]
    },
    {
     "data": {
      "application/vnd.jupyter.widget-view+json": {
       "model_id": "9d321ac398664cca81749fbee4c0fe02",
       "version_major": 2,
       "version_minor": 0
      },
      "text/plain": [
       "extract waveforms memmap:   0%|          | 0/1 [00:00<?, ?it/s]"
      ]
     },
     "metadata": {},
     "output_type": "display_data"
    },
    {
     "name": "stderr",
     "output_type": "stream",
     "text": [
      "[15:39:39][INFO] Spyglass: Writing new NWB file lewis20240106_1DQQPOGHTY.nwb\n",
      "19-Sep-24 15:39:39 Writing new NWB file lewis20240106_1DQQPOGHTY.nwb\n"
     ]
    },
    {
     "data": {
      "application/vnd.jupyter.widget-view+json": {
       "model_id": "fe4d6aee08e64772a0703ccd0279fba1",
       "version_major": 2,
       "version_minor": 0
      },
      "text/plain": [
       "extract waveforms memmap:   0%|          | 0/1 [00:00<?, ?it/s]"
      ]
     },
     "metadata": {},
     "output_type": "display_data"
    },
    {
     "name": "stderr",
     "output_type": "stream",
     "text": [
      "[15:39:43][INFO] Spyglass: Writing new NWB file lewis20240106_D9JPJ3PAIM.nwb\n",
      "19-Sep-24 15:39:43 Writing new NWB file lewis20240106_D9JPJ3PAIM.nwb\n"
     ]
    },
    {
     "data": {
      "application/vnd.jupyter.widget-view+json": {
       "model_id": "75392a211afe4c9e8ab76dd57baf527b",
       "version_major": 2,
       "version_minor": 0
      },
      "text/plain": [
       "extract waveforms memmap:   0%|          | 0/1 [00:00<?, ?it/s]"
      ]
     },
     "metadata": {},
     "output_type": "display_data"
    },
    {
     "name": "stderr",
     "output_type": "stream",
     "text": [
      "[15:39:48][INFO] Spyglass: Writing new NWB file lewis20240106_PBD754ENC6.nwb\n",
      "19-Sep-24 15:39:48 Writing new NWB file lewis20240106_PBD754ENC6.nwb\n"
     ]
    },
    {
     "data": {
      "application/vnd.jupyter.widget-view+json": {
       "model_id": "ceaacc6825fc40dc8ee8d0f5d8705fa9",
       "version_major": 2,
       "version_minor": 0
      },
      "text/plain": [
       "extract waveforms memmap:   0%|          | 0/1 [00:00<?, ?it/s]"
      ]
     },
     "metadata": {},
     "output_type": "display_data"
    },
    {
     "name": "stderr",
     "output_type": "stream",
     "text": [
      "[15:39:53][INFO] Spyglass: Writing new NWB file lewis20240106_4QR543WOUD.nwb\n",
      "19-Sep-24 15:39:53 Writing new NWB file lewis20240106_4QR543WOUD.nwb\n"
     ]
    },
    {
     "data": {
      "application/vnd.jupyter.widget-view+json": {
       "model_id": "ad2b91d9f37244c0a5ce7cea26342431",
       "version_major": 2,
       "version_minor": 0
      },
      "text/plain": [
       "extract waveforms memmap:   0%|          | 0/1 [00:00<?, ?it/s]"
      ]
     },
     "metadata": {},
     "output_type": "display_data"
    },
    {
     "name": "stderr",
     "output_type": "stream",
     "text": [
      "[15:39:57][INFO] Spyglass: Writing new NWB file lewis20240106_TUW9K9RFVS.nwb\n",
      "19-Sep-24 15:39:57 Writing new NWB file lewis20240106_TUW9K9RFVS.nwb\n"
     ]
    },
    {
     "data": {
      "application/vnd.jupyter.widget-view+json": {
       "model_id": "b1e07a351d914d1e822407d6694212fe",
       "version_major": 2,
       "version_minor": 0
      },
      "text/plain": [
       "extract waveforms memmap:   0%|          | 0/1 [00:00<?, ?it/s]"
      ]
     },
     "metadata": {},
     "output_type": "display_data"
    },
    {
     "name": "stderr",
     "output_type": "stream",
     "text": [
      "[15:40:02][INFO] Spyglass: Writing new NWB file lewis20240106_IZ3EW0D0RP.nwb\n",
      "19-Sep-24 15:40:02 Writing new NWB file lewis20240106_IZ3EW0D0RP.nwb\n"
     ]
    },
    {
     "data": {
      "application/vnd.jupyter.widget-view+json": {
       "model_id": "242ecbba38f24afe85928510f6006ba3",
       "version_major": 2,
       "version_minor": 0
      },
      "text/plain": [
       "extract waveforms memmap:   0%|          | 0/1 [00:00<?, ?it/s]"
      ]
     },
     "metadata": {},
     "output_type": "display_data"
    },
    {
     "name": "stderr",
     "output_type": "stream",
     "text": [
      "[15:40:06][INFO] Spyglass: Writing new NWB file lewis20240106_G6U8R65N30.nwb\n",
      "19-Sep-24 15:40:06 Writing new NWB file lewis20240106_G6U8R65N30.nwb\n"
     ]
    },
    {
     "data": {
      "application/vnd.jupyter.widget-view+json": {
       "model_id": "0d50d6b9c5ae4548b9e966b3b2fda695",
       "version_major": 2,
       "version_minor": 0
      },
      "text/plain": [
       "extract waveforms memmap:   0%|          | 0/1 [00:00<?, ?it/s]"
      ]
     },
     "metadata": {},
     "output_type": "display_data"
    },
    {
     "name": "stderr",
     "output_type": "stream",
     "text": [
      "[15:40:11][INFO] Spyglass: Writing new NWB file lewis20240106_ZB7M20ABXG.nwb\n",
      "19-Sep-24 15:40:11 Writing new NWB file lewis20240106_ZB7M20ABXG.nwb\n"
     ]
    },
    {
     "data": {
      "application/vnd.jupyter.widget-view+json": {
       "model_id": "f900628dbf28437d8c340e0b88341e2c",
       "version_major": 2,
       "version_minor": 0
      },
      "text/plain": [
       "extract waveforms memmap:   0%|          | 0/1 [00:00<?, ?it/s]"
      ]
     },
     "metadata": {},
     "output_type": "display_data"
    },
    {
     "name": "stderr",
     "output_type": "stream",
     "text": [
      "[15:40:15][INFO] Spyglass: Writing new NWB file lewis20240106_AG7EAEAZCB.nwb\n",
      "19-Sep-24 15:40:15 Writing new NWB file lewis20240106_AG7EAEAZCB.nwb\n"
     ]
    },
    {
     "data": {
      "application/vnd.jupyter.widget-view+json": {
       "model_id": "70b3a6f5b41341c5843c8ba371bb76d7",
       "version_major": 2,
       "version_minor": 0
      },
      "text/plain": [
       "extract waveforms memmap:   0%|          | 0/1 [00:00<?, ?it/s]"
      ]
     },
     "metadata": {},
     "output_type": "display_data"
    },
    {
     "name": "stderr",
     "output_type": "stream",
     "text": [
      "[15:40:20][INFO] Spyglass: Writing new NWB file lewis20240106_BC653V6EXG.nwb\n",
      "19-Sep-24 15:40:20 Writing new NWB file lewis20240106_BC653V6EXG.nwb\n"
     ]
    },
    {
     "data": {
      "application/vnd.jupyter.widget-view+json": {
       "model_id": "970bc55a0c334282ae5ae760b3407a29",
       "version_major": 2,
       "version_minor": 0
      },
      "text/plain": [
       "extract waveforms memmap:   0%|          | 0/1 [00:00<?, ?it/s]"
      ]
     },
     "metadata": {},
     "output_type": "display_data"
    },
    {
     "name": "stderr",
     "output_type": "stream",
     "text": [
      "[15:40:24][INFO] Spyglass: Writing new NWB file lewis20240106_9KS1FPCX68.nwb\n",
      "19-Sep-24 15:40:24 Writing new NWB file lewis20240106_9KS1FPCX68.nwb\n"
     ]
    },
    {
     "data": {
      "application/vnd.jupyter.widget-view+json": {
       "model_id": "6b36dee924c840a0b76e4fbdfdc5fc7e",
       "version_major": 2,
       "version_minor": 0
      },
      "text/plain": [
       "extract waveforms memmap:   0%|          | 0/1 [00:00<?, ?it/s]"
      ]
     },
     "metadata": {},
     "output_type": "display_data"
    },
    {
     "name": "stderr",
     "output_type": "stream",
     "text": [
      "[15:40:29][INFO] Spyglass: Writing new NWB file lewis20240106_T5CJ6U1R12.nwb\n",
      "19-Sep-24 15:40:29 Writing new NWB file lewis20240106_T5CJ6U1R12.nwb\n"
     ]
    },
    {
     "data": {
      "application/vnd.jupyter.widget-view+json": {
       "model_id": "54d78067c17e401786553cbad8bad63d",
       "version_major": 2,
       "version_minor": 0
      },
      "text/plain": [
       "extract waveforms memmap:   0%|          | 0/1 [00:00<?, ?it/s]"
      ]
     },
     "metadata": {},
     "output_type": "display_data"
    },
    {
     "name": "stderr",
     "output_type": "stream",
     "text": [
      "[15:40:33][INFO] Spyglass: Writing new NWB file lewis20240106_SO7I4QHULD.nwb\n",
      "19-Sep-24 15:40:33 Writing new NWB file lewis20240106_SO7I4QHULD.nwb\n"
     ]
    },
    {
     "data": {
      "application/vnd.jupyter.widget-view+json": {
       "model_id": "7270197f41b8436c9f37769c54bab337",
       "version_major": 2,
       "version_minor": 0
      },
      "text/plain": [
       "extract waveforms memmap:   0%|          | 0/1 [00:00<?, ?it/s]"
      ]
     },
     "metadata": {},
     "output_type": "display_data"
    },
    {
     "name": "stderr",
     "output_type": "stream",
     "text": [
      "[15:40:38][INFO] Spyglass: Writing new NWB file lewis20240106_SVV9ULV7WF.nwb\n",
      "19-Sep-24 15:40:38 Writing new NWB file lewis20240106_SVV9ULV7WF.nwb\n"
     ]
    },
    {
     "data": {
      "application/vnd.jupyter.widget-view+json": {
       "model_id": "522bde94c0c14cdfa3ad6c974a7d8583",
       "version_major": 2,
       "version_minor": 0
      },
      "text/plain": [
       "extract waveforms memmap:   0%|          | 0/1 [00:00<?, ?it/s]"
      ]
     },
     "metadata": {},
     "output_type": "display_data"
    },
    {
     "name": "stderr",
     "output_type": "stream",
     "text": [
      "[15:40:42][INFO] Spyglass: Writing new NWB file lewis20240106_QG2PLO0FN6.nwb\n",
      "19-Sep-24 15:40:42 Writing new NWB file lewis20240106_QG2PLO0FN6.nwb\n"
     ]
    },
    {
     "data": {
      "application/vnd.jupyter.widget-view+json": {
       "model_id": "ffec3aa48fc84adead6559d67f21504b",
       "version_major": 2,
       "version_minor": 0
      },
      "text/plain": [
       "extract waveforms memmap:   0%|          | 0/1 [00:00<?, ?it/s]"
      ]
     },
     "metadata": {},
     "output_type": "display_data"
    },
    {
     "name": "stderr",
     "output_type": "stream",
     "text": [
      "[15:40:47][INFO] Spyglass: Writing new NWB file lewis20240106_EIEOOA6YK0.nwb\n",
      "19-Sep-24 15:40:47 Writing new NWB file lewis20240106_EIEOOA6YK0.nwb\n"
     ]
    },
    {
     "data": {
      "application/vnd.jupyter.widget-view+json": {
       "model_id": "069cf11a1cb74f268e79c0b4fc7c1aec",
       "version_major": 2,
       "version_minor": 0
      },
      "text/plain": [
       "extract waveforms memmap:   0%|          | 0/1 [00:00<?, ?it/s]"
      ]
     },
     "metadata": {},
     "output_type": "display_data"
    },
    {
     "name": "stderr",
     "output_type": "stream",
     "text": [
      "[15:40:51][INFO] Spyglass: Writing new NWB file lewis20240106_1C0X01X2CM.nwb\n",
      "19-Sep-24 15:40:51 Writing new NWB file lewis20240106_1C0X01X2CM.nwb\n"
     ]
    },
    {
     "data": {
      "application/vnd.jupyter.widget-view+json": {
       "model_id": "652a87cf376647c4befbecf8429b88a2",
       "version_major": 2,
       "version_minor": 0
      },
      "text/plain": [
       "extract waveforms memmap:   0%|          | 0/1 [00:00<?, ?it/s]"
      ]
     },
     "metadata": {},
     "output_type": "display_data"
    },
    {
     "name": "stderr",
     "output_type": "stream",
     "text": [
      "[15:40:56][INFO] Spyglass: Writing new NWB file lewis20240106_UJ3KSRRXPV.nwb\n",
      "19-Sep-24 15:40:56 Writing new NWB file lewis20240106_UJ3KSRRXPV.nwb\n"
     ]
    },
    {
     "data": {
      "application/vnd.jupyter.widget-view+json": {
       "model_id": "324c85373e754d689b09960db51edec8",
       "version_major": 2,
       "version_minor": 0
      },
      "text/plain": [
       "extract waveforms memmap:   0%|          | 0/1 [00:00<?, ?it/s]"
      ]
     },
     "metadata": {},
     "output_type": "display_data"
    },
    {
     "name": "stderr",
     "output_type": "stream",
     "text": [
      "[15:41:01][INFO] Spyglass: Writing new NWB file lewis20240106_0535WOG0RA.nwb\n",
      "19-Sep-24 15:41:01 Writing new NWB file lewis20240106_0535WOG0RA.nwb\n"
     ]
    },
    {
     "data": {
      "application/vnd.jupyter.widget-view+json": {
       "model_id": "effaef91269e49bd86d1ffd2aed40a29",
       "version_major": 2,
       "version_minor": 0
      },
      "text/plain": [
       "extract waveforms memmap:   0%|          | 0/1 [00:00<?, ?it/s]"
      ]
     },
     "metadata": {},
     "output_type": "display_data"
    },
    {
     "name": "stderr",
     "output_type": "stream",
     "text": [
      "[15:41:05][INFO] Spyglass: Writing new NWB file lewis20240106_UGATWBXRZC.nwb\n",
      "19-Sep-24 15:41:05 Writing new NWB file lewis20240106_UGATWBXRZC.nwb\n"
     ]
    },
    {
     "data": {
      "application/vnd.jupyter.widget-view+json": {
       "model_id": "6251c3b39c6f4c7b8bc159472bbda391",
       "version_major": 2,
       "version_minor": 0
      },
      "text/plain": [
       "extract waveforms memmap:   0%|          | 0/1 [00:00<?, ?it/s]"
      ]
     },
     "metadata": {},
     "output_type": "display_data"
    },
    {
     "name": "stderr",
     "output_type": "stream",
     "text": [
      "[15:41:10][INFO] Spyglass: Writing new NWB file lewis20240106_JG9ZVFUNYO.nwb\n",
      "19-Sep-24 15:41:10 Writing new NWB file lewis20240106_JG9ZVFUNYO.nwb\n"
     ]
    },
    {
     "data": {
      "application/vnd.jupyter.widget-view+json": {
       "model_id": "664e1a29787d4096afcea99c6de7d2e7",
       "version_major": 2,
       "version_minor": 0
      },
      "text/plain": [
       "extract waveforms memmap:   0%|          | 0/1 [00:00<?, ?it/s]"
      ]
     },
     "metadata": {},
     "output_type": "display_data"
    },
    {
     "name": "stderr",
     "output_type": "stream",
     "text": [
      "[15:41:14][INFO] Spyglass: Writing new NWB file lewis20240106_Z7U2S1YUZH.nwb\n",
      "19-Sep-24 15:41:14 Writing new NWB file lewis20240106_Z7U2S1YUZH.nwb\n"
     ]
    },
    {
     "data": {
      "application/vnd.jupyter.widget-view+json": {
       "model_id": "52f955a186024038939a4f4ab5ac5cc8",
       "version_major": 2,
       "version_minor": 0
      },
      "text/plain": [
       "extract waveforms memmap:   0%|          | 0/1 [00:00<?, ?it/s]"
      ]
     },
     "metadata": {},
     "output_type": "display_data"
    },
    {
     "name": "stderr",
     "output_type": "stream",
     "text": [
      "[15:41:19][INFO] Spyglass: Writing new NWB file lewis20240106_RA9E9HHYOR.nwb\n",
      "19-Sep-24 15:41:19 Writing new NWB file lewis20240106_RA9E9HHYOR.nwb\n"
     ]
    },
    {
     "data": {
      "application/vnd.jupyter.widget-view+json": {
       "model_id": "2a3f953c6cc54e649b434d2305898170",
       "version_major": 2,
       "version_minor": 0
      },
      "text/plain": [
       "extract waveforms memmap:   0%|          | 0/1 [00:00<?, ?it/s]"
      ]
     },
     "metadata": {},
     "output_type": "display_data"
    },
    {
     "name": "stderr",
     "output_type": "stream",
     "text": [
      "[15:41:23][INFO] Spyglass: Writing new NWB file lewis20240106_STZGCYYANF.nwb\n",
      "19-Sep-24 15:41:23 Writing new NWB file lewis20240106_STZGCYYANF.nwb\n"
     ]
    },
    {
     "data": {
      "application/vnd.jupyter.widget-view+json": {
       "model_id": "a0c260d13643407ebb98039d1a0c59da",
       "version_major": 2,
       "version_minor": 0
      },
      "text/plain": [
       "extract waveforms memmap:   0%|          | 0/1 [00:00<?, ?it/s]"
      ]
     },
     "metadata": {},
     "output_type": "display_data"
    },
    {
     "name": "stderr",
     "output_type": "stream",
     "text": [
      "[15:41:27][INFO] Spyglass: Writing new NWB file lewis20240106_KAV9ZUKDHS.nwb\n",
      "19-Sep-24 15:41:27 Writing new NWB file lewis20240106_KAV9ZUKDHS.nwb\n"
     ]
    },
    {
     "data": {
      "application/vnd.jupyter.widget-view+json": {
       "model_id": "c1bf2b2c8d4540e594f16c4d2746a8d8",
       "version_major": 2,
       "version_minor": 0
      },
      "text/plain": [
       "extract waveforms memmap:   0%|          | 0/1 [00:00<?, ?it/s]"
      ]
     },
     "metadata": {},
     "output_type": "display_data"
    },
    {
     "name": "stderr",
     "output_type": "stream",
     "text": [
      "[15:41:32][INFO] Spyglass: Writing new NWB file lewis20240106_8L5EHS5I3R.nwb\n",
      "19-Sep-24 15:41:32 Writing new NWB file lewis20240106_8L5EHS5I3R.nwb\n"
     ]
    },
    {
     "data": {
      "application/vnd.jupyter.widget-view+json": {
       "model_id": "9e7f1ab09dee4af3becefdd80c5fd67e",
       "version_major": 2,
       "version_minor": 0
      },
      "text/plain": [
       "extract waveforms memmap:   0%|          | 0/1 [00:00<?, ?it/s]"
      ]
     },
     "metadata": {},
     "output_type": "display_data"
    },
    {
     "name": "stderr",
     "output_type": "stream",
     "text": [
      "[15:41:36][INFO] Spyglass: Writing new NWB file lewis20240106_00AE7TWEA3.nwb\n",
      "19-Sep-24 15:41:36 Writing new NWB file lewis20240106_00AE7TWEA3.nwb\n"
     ]
    },
    {
     "data": {
      "application/vnd.jupyter.widget-view+json": {
       "model_id": "8070df0d00d740c5938644f6ac16425a",
       "version_major": 2,
       "version_minor": 0
      },
      "text/plain": [
       "extract waveforms memmap:   0%|          | 0/1 [00:00<?, ?it/s]"
      ]
     },
     "metadata": {},
     "output_type": "display_data"
    },
    {
     "name": "stderr",
     "output_type": "stream",
     "text": [
      "[15:41:41][INFO] Spyglass: Writing new NWB file lewis20240106_Z13KLH5Q9J.nwb\n",
      "19-Sep-24 15:41:41 Writing new NWB file lewis20240106_Z13KLH5Q9J.nwb\n"
     ]
    },
    {
     "data": {
      "application/vnd.jupyter.widget-view+json": {
       "model_id": "9e4550cd493f4f258656686cdba09d75",
       "version_major": 2,
       "version_minor": 0
      },
      "text/plain": [
       "extract waveforms memmap:   0%|          | 0/1 [00:00<?, ?it/s]"
      ]
     },
     "metadata": {},
     "output_type": "display_data"
    },
    {
     "name": "stderr",
     "output_type": "stream",
     "text": [
      "[15:41:46][INFO] Spyglass: Writing new NWB file lewis20240106_3NTHN8NSY5.nwb\n",
      "19-Sep-24 15:41:46 Writing new NWB file lewis20240106_3NTHN8NSY5.nwb\n"
     ]
    }
   ],
   "source": [
    "mark_parameters_keys = populateUnitMarks(sorting_keys)"
   ]
  },
  {
   "cell_type": "code",
   "execution_count": 20,
   "id": "0ef0c68c-b472-47fa-8ff2-ac82bec78489",
   "metadata": {},
   "outputs": [
    {
     "data": {
      "text/html": [
       "\n",
       "    \n",
       "    <style type=\"text/css\">\n",
       "        .Table{\n",
       "            border-collapse:collapse;\n",
       "        }\n",
       "        .Table th{\n",
       "            background: #A0A0A0; color: #ffffff; padding:4px; border:#f0e0e0 1px solid;\n",
       "            font-weight: normal; font-family: monospace; font-size: 100%;\n",
       "        }\n",
       "        .Table td{\n",
       "            padding:4px; border:#f0e0e0 1px solid; font-size:100%;\n",
       "        }\n",
       "        .Table tr:nth-child(odd){\n",
       "            background: #ffffff;\n",
       "            color: #000000;\n",
       "        }\n",
       "        .Table tr:nth-child(even){\n",
       "            background: #f3f1ff;\n",
       "            color: #000000;\n",
       "        }\n",
       "        /* Tooltip container */\n",
       "        .djtooltip {\n",
       "        }\n",
       "        /* Tooltip text */\n",
       "        .djtooltip .djtooltiptext {\n",
       "            visibility: hidden;\n",
       "            width: 120px;\n",
       "            background-color: black;\n",
       "            color: #fff;\n",
       "            text-align: center;\n",
       "            padding: 5px 0;\n",
       "            border-radius: 6px;\n",
       "            /* Position the tooltip text - see examples below! */\n",
       "            position: absolute;\n",
       "            z-index: 1;\n",
       "        }\n",
       "        #primary {\n",
       "            font-weight: bold;\n",
       "            color: black;\n",
       "        }\n",
       "        #nonprimary {\n",
       "            font-weight: normal;\n",
       "            color: white;\n",
       "        }\n",
       "\n",
       "        /* Show the tooltip text when you mouse over the tooltip container */\n",
       "        .djtooltip:hover .djtooltiptext {\n",
       "            visibility: visible;\n",
       "        }\n",
       "    </style>\n",
       "    \n",
       "    <b></b>\n",
       "        <div style=\"max-height:1000px;max-width:1500px;overflow:auto;\">\n",
       "        <table border=\"1\" class=\"Table\">\n",
       "            <thead> <tr style=\"text-align: right;\"> <th> <div class=\"djtooltip\">\n",
       "                            <p id=\"primary\">nwb_file_name</p>\n",
       "                            <span class=\"djtooltiptext\">name of the NWB file</span>\n",
       "                        </div></th><th><div class=\"djtooltip\">\n",
       "                            <p id=\"primary\">sort_group_id</p>\n",
       "                            <span class=\"djtooltiptext\">identifier for a group of electrodes</span>\n",
       "                        </div></th><th><div class=\"djtooltip\">\n",
       "                            <p id=\"primary\">sort_interval_name</p>\n",
       "                            <span class=\"djtooltiptext\">name for this interval</span>\n",
       "                        </div></th><th><div class=\"djtooltip\">\n",
       "                            <p id=\"primary\">preproc_params_name</p>\n",
       "                            <span class=\"djtooltiptext\"></span>\n",
       "                        </div></th><th><div class=\"djtooltip\">\n",
       "                            <p id=\"primary\">team_name</p>\n",
       "                            <span class=\"djtooltiptext\"></span>\n",
       "                        </div></th><th><div class=\"djtooltip\">\n",
       "                            <p id=\"primary\">sorter</p>\n",
       "                            <span class=\"djtooltiptext\"></span>\n",
       "                        </div></th><th><div class=\"djtooltip\">\n",
       "                            <p id=\"primary\">sorter_params_name</p>\n",
       "                            <span class=\"djtooltiptext\"></span>\n",
       "                        </div></th><th><div class=\"djtooltip\">\n",
       "                            <p id=\"primary\">artifact_removed_interval_list_name</p>\n",
       "                            <span class=\"djtooltiptext\"></span>\n",
       "                        </div></th><th><div class=\"djtooltip\">\n",
       "                            <p id=\"nonprimary\">sorting_path</p>\n",
       "                            <span class=\"djtooltiptext\"></span>\n",
       "                        </div></th><th><div class=\"djtooltip\">\n",
       "                            <p id=\"nonprimary\">time_of_sort</p>\n",
       "                            <span class=\"djtooltiptext\">in Unix time, to the nearest second</span>\n",
       "                        </div> </th> </tr> </thead>\n",
       "            <tbody> <tr> <td>lewis20240106_.nwb</td>\n",
       "<td>0</td>\n",
       "<td>02_Rev2Session1</td>\n",
       "<td>franklab_tetrode_hippocampus</td>\n",
       "<td>SequenceTask</td>\n",
       "<td>clusterless_thresholder</td>\n",
       "<td>default</td>\n",
       "<td>lewis20240106_.nwb_02_Rev2Session1_0_franklab_tetrode_hippocampus_ampl_1500_prop_075_1ms_artifact_removed_valid_times_track_time_only</td>\n",
       "<td>/stelmo/nwb/sorting/lewis20240106_.nwb_02_Rev2Session1_0_franklab_tetrode_hippocampus_1d852f1d_spikesorting</td>\n",
       "<td>1726783462</td></tr><tr><td>lewis20240106_.nwb</td>\n",
       "<td>1</td>\n",
       "<td>02_Rev2Session1</td>\n",
       "<td>franklab_tetrode_hippocampus</td>\n",
       "<td>SequenceTask</td>\n",
       "<td>clusterless_thresholder</td>\n",
       "<td>default</td>\n",
       "<td>lewis20240106_.nwb_02_Rev2Session1_1_franklab_tetrode_hippocampus_ampl_1500_prop_075_1ms_artifact_removed_valid_times_track_time_only</td>\n",
       "<td>/stelmo/nwb/sorting/lewis20240106_.nwb_02_Rev2Session1_1_franklab_tetrode_hippocampus_9ffcc9e8_spikesorting</td>\n",
       "<td>1726783520</td></tr><tr><td>lewis20240106_.nwb</td>\n",
       "<td>7</td>\n",
       "<td>02_Rev2Session1</td>\n",
       "<td>franklab_tetrode_hippocampus</td>\n",
       "<td>SequenceTask</td>\n",
       "<td>clusterless_thresholder</td>\n",
       "<td>default</td>\n",
       "<td>lewis20240106_.nwb_02_Rev2Session1_7_franklab_tetrode_hippocampus_ampl_1500_prop_075_1ms_artifact_removed_valid_times_track_time_only</td>\n",
       "<td>/stelmo/nwb/sorting/lewis20240106_.nwb_02_Rev2Session1_7_franklab_tetrode_hippocampus_1da227df_spikesorting</td>\n",
       "<td>1726783749</td></tr><tr><td>lewis20240106_.nwb</td>\n",
       "<td>8</td>\n",
       "<td>02_Rev2Session1</td>\n",
       "<td>franklab_tetrode_hippocampus</td>\n",
       "<td>SequenceTask</td>\n",
       "<td>clusterless_thresholder</td>\n",
       "<td>default</td>\n",
       "<td>lewis20240106_.nwb_02_Rev2Session1_8_franklab_tetrode_hippocampus_ampl_1500_prop_075_1ms_artifact_removed_valid_times_track_time_only</td>\n",
       "<td>/stelmo/nwb/sorting/lewis20240106_.nwb_02_Rev2Session1_8_franklab_tetrode_hippocampus_77a0534b_spikesorting</td>\n",
       "<td>1726783756</td></tr><tr><td>lewis20240106_.nwb</td>\n",
       "<td>9</td>\n",
       "<td>02_Rev2Session1</td>\n",
       "<td>franklab_tetrode_hippocampus</td>\n",
       "<td>SequenceTask</td>\n",
       "<td>clusterless_thresholder</td>\n",
       "<td>default</td>\n",
       "<td>lewis20240106_.nwb_02_Rev2Session1_9_franklab_tetrode_hippocampus_ampl_1500_prop_075_1ms_artifact_removed_valid_times_track_time_only</td>\n",
       "<td>/stelmo/nwb/sorting/lewis20240106_.nwb_02_Rev2Session1_9_franklab_tetrode_hippocampus_5e3fcb8f_spikesorting</td>\n",
       "<td>1726783763</td></tr><tr><td>lewis20240106_.nwb</td>\n",
       "<td>10</td>\n",
       "<td>02_Rev2Session1</td>\n",
       "<td>franklab_tetrode_hippocampus</td>\n",
       "<td>SequenceTask</td>\n",
       "<td>clusterless_thresholder</td>\n",
       "<td>default</td>\n",
       "<td>lewis20240106_.nwb_02_Rev2Session1_10_franklab_tetrode_hippocampus_ampl_1500_prop_075_1ms_artifact_removed_valid_times_track_time_only</td>\n",
       "<td>/stelmo/nwb/sorting/lewis20240106_.nwb_02_Rev2Session1_10_franklab_tetrode_hippocampus_ac64901e_spikesorting</td>\n",
       "<td>1726783471</td></tr><tr><td>lewis20240106_.nwb</td>\n",
       "<td>12</td>\n",
       "<td>02_Rev2Session1</td>\n",
       "<td>franklab_tetrode_hippocampus</td>\n",
       "<td>SequenceTask</td>\n",
       "<td>clusterless_thresholder</td>\n",
       "<td>default</td>\n",
       "<td>lewis20240106_.nwb_02_Rev2Session1_12_franklab_tetrode_hippocampus_ampl_1500_prop_075_1ms_artifact_removed_valid_times_track_time_only</td>\n",
       "<td>/stelmo/nwb/sorting/lewis20240106_.nwb_02_Rev2Session1_12_franklab_tetrode_hippocampus_8bd01fcc_spikesorting</td>\n",
       "<td>1726783479</td></tr><tr><td>lewis20240106_.nwb</td>\n",
       "<td>13</td>\n",
       "<td>02_Rev2Session1</td>\n",
       "<td>franklab_tetrode_hippocampus</td>\n",
       "<td>SequenceTask</td>\n",
       "<td>clusterless_thresholder</td>\n",
       "<td>default</td>\n",
       "<td>lewis20240106_.nwb_02_Rev2Session1_13_franklab_tetrode_hippocampus_ampl_1500_prop_075_1ms_artifact_removed_valid_times_track_time_only</td>\n",
       "<td>/stelmo/nwb/sorting/lewis20240106_.nwb_02_Rev2Session1_13_franklab_tetrode_hippocampus_046e2656_spikesorting</td>\n",
       "<td>1726783485</td></tr><tr><td>lewis20240106_.nwb</td>\n",
       "<td>15</td>\n",
       "<td>02_Rev2Session1</td>\n",
       "<td>franklab_tetrode_hippocampus</td>\n",
       "<td>SequenceTask</td>\n",
       "<td>clusterless_thresholder</td>\n",
       "<td>default</td>\n",
       "<td>lewis20240106_.nwb_02_Rev2Session1_15_franklab_tetrode_hippocampus_ampl_1500_prop_075_1ms_artifact_removed_valid_times_track_time_only</td>\n",
       "<td>/stelmo/nwb/sorting/lewis20240106_.nwb_02_Rev2Session1_15_franklab_tetrode_hippocampus_7a460a1f_spikesorting</td>\n",
       "<td>1726783494</td></tr><tr><td>lewis20240106_.nwb</td>\n",
       "<td>17</td>\n",
       "<td>02_Rev2Session1</td>\n",
       "<td>franklab_tetrode_hippocampus</td>\n",
       "<td>SequenceTask</td>\n",
       "<td>clusterless_thresholder</td>\n",
       "<td>default</td>\n",
       "<td>lewis20240106_.nwb_02_Rev2Session1_17_franklab_tetrode_hippocampus_ampl_1500_prop_075_1ms_artifact_removed_valid_times_track_time_only</td>\n",
       "<td>/stelmo/nwb/sorting/lewis20240106_.nwb_02_Rev2Session1_17_franklab_tetrode_hippocampus_1ddbdee8_spikesorting</td>\n",
       "<td>1726783500</td></tr><tr><td>lewis20240106_.nwb</td>\n",
       "<td>18</td>\n",
       "<td>02_Rev2Session1</td>\n",
       "<td>franklab_tetrode_hippocampus</td>\n",
       "<td>SequenceTask</td>\n",
       "<td>clusterless_thresholder</td>\n",
       "<td>default</td>\n",
       "<td>lewis20240106_.nwb_02_Rev2Session1_18_franklab_tetrode_hippocampus_ampl_1500_prop_075_1ms_artifact_removed_valid_times_track_time_only</td>\n",
       "<td>/stelmo/nwb/sorting/lewis20240106_.nwb_02_Rev2Session1_18_franklab_tetrode_hippocampus_243ebf74_spikesorting</td>\n",
       "<td>1726783507</td></tr><tr><td>lewis20240106_.nwb</td>\n",
       "<td>19</td>\n",
       "<td>02_Rev2Session1</td>\n",
       "<td>franklab_tetrode_hippocampus</td>\n",
       "<td>SequenceTask</td>\n",
       "<td>clusterless_thresholder</td>\n",
       "<td>default</td>\n",
       "<td>lewis20240106_.nwb_02_Rev2Session1_19_franklab_tetrode_hippocampus_ampl_1500_prop_075_1ms_artifact_removed_valid_times_track_time_only</td>\n",
       "<td>/stelmo/nwb/sorting/lewis20240106_.nwb_02_Rev2Session1_19_franklab_tetrode_hippocampus_b8099034_spikesorting</td>\n",
       "<td>1726783514</td> </tr> </tbody>\n",
       "        </table>\n",
       "        <p>...</p>\n",
       "        <p>Total: 43</p></div>\n",
       "        "
      ],
      "text/plain": [
       "*nwb_file_name *sort_group_id *sort_interval *preproc_param *team_name     *sorter        *sorter_params *artifact_remo sorting_path   time_of_sort  \n",
       "+------------+ +------------+ +------------+ +------------+ +------------+ +------------+ +------------+ +------------+ +------------+ +------------+\n",
       "lewis20240106_ 0              02_Rev2Session franklab_tetro SequenceTask   clusterless_th default        lewis20240106_ /stelmo/nwb/so 1726783462    \n",
       "lewis20240106_ 1              02_Rev2Session franklab_tetro SequenceTask   clusterless_th default        lewis20240106_ /stelmo/nwb/so 1726783520    \n",
       "lewis20240106_ 7              02_Rev2Session franklab_tetro SequenceTask   clusterless_th default        lewis20240106_ /stelmo/nwb/so 1726783749    \n",
       "lewis20240106_ 8              02_Rev2Session franklab_tetro SequenceTask   clusterless_th default        lewis20240106_ /stelmo/nwb/so 1726783756    \n",
       "lewis20240106_ 9              02_Rev2Session franklab_tetro SequenceTask   clusterless_th default        lewis20240106_ /stelmo/nwb/so 1726783763    \n",
       "lewis20240106_ 10             02_Rev2Session franklab_tetro SequenceTask   clusterless_th default        lewis20240106_ /stelmo/nwb/so 1726783471    \n",
       "lewis20240106_ 12             02_Rev2Session franklab_tetro SequenceTask   clusterless_th default        lewis20240106_ /stelmo/nwb/so 1726783479    \n",
       "lewis20240106_ 13             02_Rev2Session franklab_tetro SequenceTask   clusterless_th default        lewis20240106_ /stelmo/nwb/so 1726783485    \n",
       "lewis20240106_ 15             02_Rev2Session franklab_tetro SequenceTask   clusterless_th default        lewis20240106_ /stelmo/nwb/so 1726783494    \n",
       "lewis20240106_ 17             02_Rev2Session franklab_tetro SequenceTask   clusterless_th default        lewis20240106_ /stelmo/nwb/so 1726783500    \n",
       "lewis20240106_ 18             02_Rev2Session franklab_tetro SequenceTask   clusterless_th default        lewis20240106_ /stelmo/nwb/so 1726783507    \n",
       "lewis20240106_ 19             02_Rev2Session franklab_tetro SequenceTask   clusterless_th default        lewis20240106_ /stelmo/nwb/so 1726783514    \n",
       "   ...\n",
       " (Total: 43)"
      ]
     },
     "execution_count": 20,
     "metadata": {},
     "output_type": "execute_result"
    }
   ],
   "source": [
    "(SpikeSorting & {'nwb_file_name': nwb_copy_file_name})"
   ]
  },
  {
   "cell_type": "code",
   "execution_count": 21,
   "id": "e6bad0a8-770a-46c0-a206-ec399e20ff73",
   "metadata": {},
   "outputs": [
    {
     "data": {
      "text/plain": [
       "43"
      ]
     },
     "execution_count": 21,
     "metadata": {},
     "output_type": "execute_result"
    }
   ],
   "source": [
    "len(sorting_keys)"
   ]
  },
  {
   "cell_type": "code",
   "execution_count": 60,
   "id": "bad6aeb1-2726-425d-b9b9-e6c83c9b3312",
   "metadata": {},
   "outputs": [
    {
     "data": {
      "text/plain": [
       "{'nwb_file_name': 'eliot20221018_.nwb',\n",
       " 'sort_interval_name': '05_Seq2Session3',\n",
       " 'sort_group_id': 0,\n",
       " 'preproc_params_name': 'franklab_tetrode_hippocampus',\n",
       " 'team_name': 'Shijie Gu',\n",
       " 'artifact_removed_interval_list_name': 'eliot20221018_.nwb_05_Seq2Session3_0_franklab_tetrode_hippocampus_ampl_1500_prop_075_1ms_artifact_removed_valid_times_track_time_only',\n",
       " 'sorter': 'clusterless_thresholder',\n",
       " 'sorter_params_name': 'default',\n",
       " 'curation_id': 0,\n",
       " 'parent_curation_id': -1,\n",
       " 'description': '',\n",
       " 'curation_labels': {},\n",
       " 'merge_groups': [],\n",
       " 'quality_metrics': {},\n",
       " 'time_of_creation': 1719979418}"
      ]
     },
     "execution_count": 60,
     "metadata": {},
     "output_type": "execute_result"
    }
   ],
   "source": [
    "sorting_keys[0]"
   ]
  },
  {
   "cell_type": "code",
   "execution_count": 75,
   "id": "49299d45-1662-4044-bd15-92d423a8c55e",
   "metadata": {},
   "outputs": [
    {
     "ename": "NameError",
     "evalue": "name 'mark_parameters_keys' is not defined",
     "output_type": "error",
     "traceback": [
      "\u001b[0;31m---------------------------------------------------------------------------\u001b[0m",
      "\u001b[0;31mNameError\u001b[0m                                 Traceback (most recent call last)",
      "Cell \u001b[0;32mIn[75], line 6\u001b[0m\n\u001b[1;32m      1\u001b[0m positionIntervalList \u001b[38;5;241m=\u001b[39m (\n\u001b[1;32m      2\u001b[0m         IntervalList \u001b[38;5;241m&\u001b[39m\n\u001b[1;32m      3\u001b[0m         {\u001b[38;5;124m'\u001b[39m\u001b[38;5;124mnwb_file_name\u001b[39m\u001b[38;5;124m'\u001b[39m: nwb_copy_file_name,\n\u001b[1;32m      4\u001b[0m          \u001b[38;5;124m'\u001b[39m\u001b[38;5;124minterval_list_name\u001b[39m\u001b[38;5;124m'\u001b[39m: position_interval[e]})\n\u001b[0;32m----> 6\u001b[0m marks_selection \u001b[38;5;241m=\u001b[39m ((UnitMarks \u001b[38;5;241m&\u001b[39m \u001b[43mmark_parameters_keys\u001b[49m) \u001b[38;5;241m*\u001b[39m positionIntervalList)\n\u001b[1;32m      7\u001b[0m marks_selection \u001b[38;5;241m=\u001b[39m (pd\u001b[38;5;241m.\u001b[39mDataFrame(marks_selection)\n\u001b[1;32m      8\u001b[0m                    \u001b[38;5;241m.\u001b[39mloc[:, marks_selection\u001b[38;5;241m.\u001b[39mprimary_key]\n\u001b[1;32m      9\u001b[0m                    \u001b[38;5;241m.\u001b[39mto_dict(\u001b[38;5;124m'\u001b[39m\u001b[38;5;124mrecords\u001b[39m\u001b[38;5;124m'\u001b[39m))\n\u001b[1;32m     10\u001b[0m UnitMarksIndicatorSelection\u001b[38;5;241m.\u001b[39minsert(marks_selection, skip_duplicates\u001b[38;5;241m=\u001b[39m\u001b[38;5;28;01mTrue\u001b[39;00m)\n",
      "\u001b[0;31mNameError\u001b[0m: name 'mark_parameters_keys' is not defined"
     ]
    }
   ],
   "source": [
    "positionIntervalList = (\n",
    "        IntervalList &\n",
    "        {'nwb_file_name': nwb_copy_file_name,\n",
    "         'interval_list_name': position_interval[e]})\n",
    "\n",
    "marks_selection = ((UnitMarks & mark_parameters_keys) * positionIntervalList)\n",
    "marks_selection = (pd.DataFrame(marks_selection)\n",
    "                   .loc[:, marks_selection.primary_key]\n",
    "                   .to_dict('records'))\n",
    "UnitMarksIndicatorSelection.insert(marks_selection, skip_duplicates=True)"
   ]
  },
  {
   "cell_type": "code",
   "execution_count": null,
   "id": "1b78dab5-fcdc-486a-90b8-497a446c6ba9",
   "metadata": {
    "scrolled": true
   },
   "outputs": [],
   "source": [
    "UnitMarksIndicatorSelection() & {'nwb_file_name': nwb_copy_file_name,\n",
    "         'interval_list_name': position_interval[e]}"
   ]
  },
  {
   "cell_type": "code",
   "execution_count": 23,
   "id": "d179e13f-84b7-4682-928b-de9ebda1658e",
   "metadata": {
    "scrolled": true
   },
   "outputs": [
    {
     "name": "stderr",
     "output_type": "stream",
     "text": [
      "[12:25:38][INFO] Spyglass: Writing new NWB file lewis20240106_7AH4IIOEM0.nwb\n",
      "30-Sep-24 12:25:38 Writing new NWB file lewis20240106_7AH4IIOEM0.nwb\n",
      "[12:25:50][INFO] Spyglass: Writing new NWB file lewis20240106_ORD29QT3IC.nwb\n",
      "30-Sep-24 12:25:50 Writing new NWB file lewis20240106_ORD29QT3IC.nwb\n",
      "[12:26:01][INFO] Spyglass: Writing new NWB file lewis20240106_S13BYYF5I0.nwb\n",
      "30-Sep-24 12:26:01 Writing new NWB file lewis20240106_S13BYYF5I0.nwb\n",
      "[12:26:14][INFO] Spyglass: Writing new NWB file lewis20240106_WSKT39KR0T.nwb\n",
      "30-Sep-24 12:26:14 Writing new NWB file lewis20240106_WSKT39KR0T.nwb\n",
      "[12:26:25][INFO] Spyglass: Writing new NWB file lewis20240106_KKD9H46CCX.nwb\n",
      "30-Sep-24 12:26:25 Writing new NWB file lewis20240106_KKD9H46CCX.nwb\n",
      "[12:26:36][INFO] Spyglass: Writing new NWB file lewis20240106_EO70Q856L8.nwb\n",
      "30-Sep-24 12:26:36 Writing new NWB file lewis20240106_EO70Q856L8.nwb\n",
      "[12:26:49][INFO] Spyglass: Writing new NWB file lewis20240106_GFDSXA7RCA.nwb\n",
      "30-Sep-24 12:26:49 Writing new NWB file lewis20240106_GFDSXA7RCA.nwb\n",
      "[12:27:01][INFO] Spyglass: Writing new NWB file lewis20240106_BQATNCIQA3.nwb\n",
      "30-Sep-24 12:27:01 Writing new NWB file lewis20240106_BQATNCIQA3.nwb\n",
      "[12:27:13][INFO] Spyglass: Writing new NWB file lewis20240106_GI93UR5LRF.nwb\n",
      "30-Sep-24 12:27:13 Writing new NWB file lewis20240106_GI93UR5LRF.nwb\n",
      "[12:27:25][INFO] Spyglass: Writing new NWB file lewis20240106_PA9V3BZLUM.nwb\n",
      "30-Sep-24 12:27:25 Writing new NWB file lewis20240106_PA9V3BZLUM.nwb\n",
      "[12:27:36][INFO] Spyglass: Writing new NWB file lewis20240106_QFXINH0TCK.nwb\n",
      "30-Sep-24 12:27:36 Writing new NWB file lewis20240106_QFXINH0TCK.nwb\n",
      "[12:27:49][INFO] Spyglass: Writing new NWB file lewis20240106_BC1K1S5QX1.nwb\n",
      "30-Sep-24 12:27:49 Writing new NWB file lewis20240106_BC1K1S5QX1.nwb\n",
      "[12:28:00][INFO] Spyglass: Writing new NWB file lewis20240106_FCDFXZTHX6.nwb\n",
      "30-Sep-24 12:28:00 Writing new NWB file lewis20240106_FCDFXZTHX6.nwb\n",
      "[12:28:12][INFO] Spyglass: Writing new NWB file lewis20240106_NB3DY7OFSO.nwb\n",
      "30-Sep-24 12:28:12 Writing new NWB file lewis20240106_NB3DY7OFSO.nwb\n",
      "[12:28:24][INFO] Spyglass: Writing new NWB file lewis20240106_QFGAM3CWD7.nwb\n",
      "30-Sep-24 12:28:24 Writing new NWB file lewis20240106_QFGAM3CWD7.nwb\n",
      "[12:28:36][INFO] Spyglass: Writing new NWB file lewis20240106_L2IVNMSNCQ.nwb\n",
      "30-Sep-24 12:28:36 Writing new NWB file lewis20240106_L2IVNMSNCQ.nwb\n",
      "[12:28:48][INFO] Spyglass: Writing new NWB file lewis20240106_UK4034DUQS.nwb\n",
      "30-Sep-24 12:28:48 Writing new NWB file lewis20240106_UK4034DUQS.nwb\n",
      "[12:28:59][INFO] Spyglass: Writing new NWB file lewis20240106_R0IN200L0U.nwb\n",
      "30-Sep-24 12:28:59 Writing new NWB file lewis20240106_R0IN200L0U.nwb\n",
      "[12:29:11][INFO] Spyglass: Writing new NWB file lewis20240106_I5BX110U4R.nwb\n",
      "30-Sep-24 12:29:11 Writing new NWB file lewis20240106_I5BX110U4R.nwb\n",
      "[12:29:22][INFO] Spyglass: Writing new NWB file lewis20240106_GT3HUTUHIW.nwb\n",
      "30-Sep-24 12:29:22 Writing new NWB file lewis20240106_GT3HUTUHIW.nwb\n",
      "[12:29:34][INFO] Spyglass: Writing new NWB file lewis20240106_R67EDUYGJ8.nwb\n",
      "30-Sep-24 12:29:34 Writing new NWB file lewis20240106_R67EDUYGJ8.nwb\n",
      "[12:29:46][INFO] Spyglass: Writing new NWB file lewis20240106_DG2UBD9ESU.nwb\n",
      "30-Sep-24 12:29:46 Writing new NWB file lewis20240106_DG2UBD9ESU.nwb\n",
      "[12:29:58][INFO] Spyglass: Writing new NWB file lewis20240106_ZNRVTMQCOC.nwb\n",
      "30-Sep-24 12:29:58 Writing new NWB file lewis20240106_ZNRVTMQCOC.nwb\n",
      "[12:30:10][INFO] Spyglass: Writing new NWB file lewis20240106_157MN1UQQE.nwb\n",
      "30-Sep-24 12:30:10 Writing new NWB file lewis20240106_157MN1UQQE.nwb\n",
      "[12:30:22][INFO] Spyglass: Writing new NWB file lewis20240106_UX64BJY13F.nwb\n",
      "30-Sep-24 12:30:22 Writing new NWB file lewis20240106_UX64BJY13F.nwb\n",
      "[12:30:33][INFO] Spyglass: Writing new NWB file lewis20240106_FMSYHTZHVT.nwb\n",
      "30-Sep-24 12:30:33 Writing new NWB file lewis20240106_FMSYHTZHVT.nwb\n",
      "[12:30:46][INFO] Spyglass: Writing new NWB file lewis20240106_AY3XHMHNGL.nwb\n",
      "30-Sep-24 12:30:46 Writing new NWB file lewis20240106_AY3XHMHNGL.nwb\n",
      "[12:30:57][INFO] Spyglass: Writing new NWB file lewis20240106_C10YM6RKJI.nwb\n",
      "30-Sep-24 12:30:57 Writing new NWB file lewis20240106_C10YM6RKJI.nwb\n",
      "[12:31:09][INFO] Spyglass: Writing new NWB file lewis20240106_0PNX5PBF5F.nwb\n",
      "30-Sep-24 12:31:09 Writing new NWB file lewis20240106_0PNX5PBF5F.nwb\n",
      "[12:31:20][INFO] Spyglass: Writing new NWB file lewis20240106_4WIITZ71BB.nwb\n",
      "30-Sep-24 12:31:20 Writing new NWB file lewis20240106_4WIITZ71BB.nwb\n",
      "[12:31:32][INFO] Spyglass: Writing new NWB file lewis20240106_IPC4OZ8ZJ8.nwb\n",
      "30-Sep-24 12:31:32 Writing new NWB file lewis20240106_IPC4OZ8ZJ8.nwb\n",
      "[12:31:44][INFO] Spyglass: Writing new NWB file lewis20240106_UANONO1KWB.nwb\n",
      "30-Sep-24 12:31:44 Writing new NWB file lewis20240106_UANONO1KWB.nwb\n",
      "[12:31:56][INFO] Spyglass: Writing new NWB file lewis20240106_O8NBLSY96C.nwb\n",
      "30-Sep-24 12:31:56 Writing new NWB file lewis20240106_O8NBLSY96C.nwb\n",
      "[12:32:07][INFO] Spyglass: Writing new NWB file lewis20240106_0JHENHSAP9.nwb\n",
      "30-Sep-24 12:32:07 Writing new NWB file lewis20240106_0JHENHSAP9.nwb\n",
      "[12:32:19][INFO] Spyglass: Writing new NWB file lewis20240106_UV09SZGXI6.nwb\n",
      "30-Sep-24 12:32:19 Writing new NWB file lewis20240106_UV09SZGXI6.nwb\n",
      "[12:32:30][INFO] Spyglass: Writing new NWB file lewis20240106_36P579JC41.nwb\n",
      "30-Sep-24 12:32:30 Writing new NWB file lewis20240106_36P579JC41.nwb\n",
      "[12:32:42][INFO] Spyglass: Writing new NWB file lewis20240106_NAJS8XEIUM.nwb\n",
      "30-Sep-24 12:32:42 Writing new NWB file lewis20240106_NAJS8XEIUM.nwb\n",
      "[12:32:53][INFO] Spyglass: Writing new NWB file lewis20240106_TY2KHNJOVP.nwb\n",
      "30-Sep-24 12:32:53 Writing new NWB file lewis20240106_TY2KHNJOVP.nwb\n",
      "[12:33:04][INFO] Spyglass: Writing new NWB file lewis20240106_CDW7UDVO7B.nwb\n",
      "30-Sep-24 12:33:04 Writing new NWB file lewis20240106_CDW7UDVO7B.nwb\n",
      "[12:33:16][INFO] Spyglass: Writing new NWB file lewis20240106_VY66BL622Y.nwb\n",
      "30-Sep-24 12:33:16 Writing new NWB file lewis20240106_VY66BL622Y.nwb\n",
      "[12:33:27][INFO] Spyglass: Writing new NWB file lewis20240106_BIWIECOY5R.nwb\n",
      "30-Sep-24 12:33:27 Writing new NWB file lewis20240106_BIWIECOY5R.nwb\n",
      "[12:33:39][INFO] Spyglass: Writing new NWB file lewis20240106_YX0NARL7FU.nwb\n",
      "30-Sep-24 12:33:39 Writing new NWB file lewis20240106_YX0NARL7FU.nwb\n",
      "[12:33:50][INFO] Spyglass: Writing new NWB file lewis20240106_P2DK6K64ZA.nwb\n",
      "30-Sep-24 12:33:50 Writing new NWB file lewis20240106_P2DK6K64ZA.nwb\n"
     ]
    }
   ],
   "source": [
    "UnitMarksIndicator.populate(marks_selection)"
   ]
  },
  {
   "cell_type": "code",
   "execution_count": 24,
   "id": "ed3e32a4-6640-434c-a4d7-0620216dbe9d",
   "metadata": {
    "scrolled": true,
    "tags": []
   },
   "outputs": [
    {
     "data": {
      "text/plain": [
       "(999018, 4, 43)"
      ]
     },
     "execution_count": 24,
     "metadata": {},
     "output_type": "execute_result"
    }
   ],
   "source": [
    "marks = (UnitMarksIndicator & {\n",
    "    'nwb_file_name': nwb_copy_file_name,\n",
    "    'interval_list_name': position_interval[e],   \n",
    "}).fetch_xarray()\n",
    "marks.shape"
   ]
  },
  {
   "cell_type": "markdown",
   "id": "331eb32c-a745-4998-97e3-e853efc5b75b",
   "metadata": {},
   "source": [
    "After you get the marks, it is important to visualize them to make sure they look right. We can use the `plot_all_marks` method of UnitMarksIndicator to quickly plot each mark feature against the other for each electrode.\n",
    "\n",
    "Here it is important to look for things that look overly correlated (strong diagonal on the off-diagonal plots) and for extreme amplitudes."
   ]
  },
  {
   "cell_type": "code",
   "execution_count": 25,
   "id": "be6ff0f7-299c-4a9a-b886-90b36b59c739",
   "metadata": {
    "scrolled": true
   },
   "outputs": [
    {
     "data": {
      "text/html": [
       "\n",
       "    \n",
       "    <style type=\"text/css\">\n",
       "        .Table{\n",
       "            border-collapse:collapse;\n",
       "        }\n",
       "        .Table th{\n",
       "            background: #A0A0A0; color: #ffffff; padding:4px; border:#f0e0e0 1px solid;\n",
       "            font-weight: normal; font-family: monospace; font-size: 100%;\n",
       "        }\n",
       "        .Table td{\n",
       "            padding:4px; border:#f0e0e0 1px solid; font-size:100%;\n",
       "        }\n",
       "        .Table tr:nth-child(odd){\n",
       "            background: #ffffff;\n",
       "            color: #000000;\n",
       "        }\n",
       "        .Table tr:nth-child(even){\n",
       "            background: #f3f1ff;\n",
       "            color: #000000;\n",
       "        }\n",
       "        /* Tooltip container */\n",
       "        .djtooltip {\n",
       "        }\n",
       "        /* Tooltip text */\n",
       "        .djtooltip .djtooltiptext {\n",
       "            visibility: hidden;\n",
       "            width: 120px;\n",
       "            background-color: black;\n",
       "            color: #fff;\n",
       "            text-align: center;\n",
       "            padding: 5px 0;\n",
       "            border-radius: 6px;\n",
       "            /* Position the tooltip text - see examples below! */\n",
       "            position: absolute;\n",
       "            z-index: 1;\n",
       "        }\n",
       "        #primary {\n",
       "            font-weight: bold;\n",
       "            color: black;\n",
       "        }\n",
       "        #nonprimary {\n",
       "            font-weight: normal;\n",
       "            color: white;\n",
       "        }\n",
       "\n",
       "        /* Show the tooltip text when you mouse over the tooltip container */\n",
       "        .djtooltip:hover .djtooltiptext {\n",
       "            visibility: visible;\n",
       "        }\n",
       "    </style>\n",
       "    \n",
       "    <b></b>\n",
       "        <div style=\"max-height:1000px;max-width:1500px;overflow:auto;\">\n",
       "        <table border=\"1\" class=\"Table\">\n",
       "            <thead> <tr style=\"text-align: right;\"> <th> <div class=\"djtooltip\">\n",
       "                            <p id=\"primary\">curation_id</p>\n",
       "                            <span class=\"djtooltiptext\">a number correponding to the index of this curation</span>\n",
       "                        </div></th><th><div class=\"djtooltip\">\n",
       "                            <p id=\"primary\">nwb_file_name</p>\n",
       "                            <span class=\"djtooltiptext\">name of the NWB file</span>\n",
       "                        </div></th><th><div class=\"djtooltip\">\n",
       "                            <p id=\"primary\">sort_group_id</p>\n",
       "                            <span class=\"djtooltiptext\">identifier for a group of electrodes</span>\n",
       "                        </div></th><th><div class=\"djtooltip\">\n",
       "                            <p id=\"primary\">sort_interval_name</p>\n",
       "                            <span class=\"djtooltiptext\">name for this interval</span>\n",
       "                        </div></th><th><div class=\"djtooltip\">\n",
       "                            <p id=\"primary\">preproc_params_name</p>\n",
       "                            <span class=\"djtooltiptext\"></span>\n",
       "                        </div></th><th><div class=\"djtooltip\">\n",
       "                            <p id=\"primary\">team_name</p>\n",
       "                            <span class=\"djtooltiptext\"></span>\n",
       "                        </div></th><th><div class=\"djtooltip\">\n",
       "                            <p id=\"primary\">sorter</p>\n",
       "                            <span class=\"djtooltiptext\"></span>\n",
       "                        </div></th><th><div class=\"djtooltip\">\n",
       "                            <p id=\"primary\">sorter_params_name</p>\n",
       "                            <span class=\"djtooltiptext\"></span>\n",
       "                        </div></th><th><div class=\"djtooltip\">\n",
       "                            <p id=\"primary\">artifact_removed_interval_list_name</p>\n",
       "                            <span class=\"djtooltiptext\"></span>\n",
       "                        </div></th><th><div class=\"djtooltip\">\n",
       "                            <p id=\"primary\">mark_param_name</p>\n",
       "                            <span class=\"djtooltiptext\">a name for this set of parameters</span>\n",
       "                        </div></th><th><div class=\"djtooltip\">\n",
       "                            <p id=\"primary\">interval_list_name</p>\n",
       "                            <span class=\"djtooltiptext\">descriptive name of this interval list</span>\n",
       "                        </div></th><th><div class=\"djtooltip\">\n",
       "                            <p id=\"primary\">sampling_rate</p>\n",
       "                            <span class=\"djtooltiptext\"></span>\n",
       "                        </div></th><th><div class=\"djtooltip\">\n",
       "                            <p id=\"nonprimary\">analysis_file_name</p>\n",
       "                            <span class=\"djtooltiptext\">name of the file</span>\n",
       "                        </div></th><th><div class=\"djtooltip\">\n",
       "                            <p id=\"nonprimary\">marks_indicator_object_id</p>\n",
       "                            <span class=\"djtooltiptext\"></span>\n",
       "                        </div> </th> </tr> </thead>\n",
       "            <tbody> <tr> <td>0</td>\n",
       "<td>lewis20240106_.nwb</td>\n",
       "<td>0</td>\n",
       "<td>02_Rev2Session1</td>\n",
       "<td>franklab_tetrode_hippocampus</td>\n",
       "<td>SequenceTask</td>\n",
       "<td>clusterless_thresholder</td>\n",
       "<td>default</td>\n",
       "<td>lewis20240106_.nwb_02_Rev2Session1_0_franklab_tetrode_hippocampus_ampl_1500_prop_075_1ms_artifact_removed_valid_times_track_time_only</td>\n",
       "<td>default</td>\n",
       "<td>pos 1 valid times</td>\n",
       "<td>500.0</td>\n",
       "<td>lewis20240106_7AH4IIOEM0.nwb</td>\n",
       "<td>3308c989-63f2-466f-9f90-f824c876fa4c</td></tr><tr><td>0</td>\n",
       "<td>lewis20240106_.nwb</td>\n",
       "<td>1</td>\n",
       "<td>02_Rev2Session1</td>\n",
       "<td>franklab_tetrode_hippocampus</td>\n",
       "<td>SequenceTask</td>\n",
       "<td>clusterless_thresholder</td>\n",
       "<td>default</td>\n",
       "<td>lewis20240106_.nwb_02_Rev2Session1_1_franklab_tetrode_hippocampus_ampl_1500_prop_075_1ms_artifact_removed_valid_times_track_time_only</td>\n",
       "<td>default</td>\n",
       "<td>pos 1 valid times</td>\n",
       "<td>500.0</td>\n",
       "<td>lewis20240106_ORD29QT3IC.nwb</td>\n",
       "<td>a225704f-83fe-495b-9334-e0ea49f391dd</td></tr><tr><td>0</td>\n",
       "<td>lewis20240106_.nwb</td>\n",
       "<td>7</td>\n",
       "<td>02_Rev2Session1</td>\n",
       "<td>franklab_tetrode_hippocampus</td>\n",
       "<td>SequenceTask</td>\n",
       "<td>clusterless_thresholder</td>\n",
       "<td>default</td>\n",
       "<td>lewis20240106_.nwb_02_Rev2Session1_7_franklab_tetrode_hippocampus_ampl_1500_prop_075_1ms_artifact_removed_valid_times_track_time_only</td>\n",
       "<td>default</td>\n",
       "<td>pos 1 valid times</td>\n",
       "<td>500.0</td>\n",
       "<td>lewis20240106_S13BYYF5I0.nwb</td>\n",
       "<td>ac385b97-7990-4729-9658-fe80cbb468fe</td></tr><tr><td>0</td>\n",
       "<td>lewis20240106_.nwb</td>\n",
       "<td>8</td>\n",
       "<td>02_Rev2Session1</td>\n",
       "<td>franklab_tetrode_hippocampus</td>\n",
       "<td>SequenceTask</td>\n",
       "<td>clusterless_thresholder</td>\n",
       "<td>default</td>\n",
       "<td>lewis20240106_.nwb_02_Rev2Session1_8_franklab_tetrode_hippocampus_ampl_1500_prop_075_1ms_artifact_removed_valid_times_track_time_only</td>\n",
       "<td>default</td>\n",
       "<td>pos 1 valid times</td>\n",
       "<td>500.0</td>\n",
       "<td>lewis20240106_WSKT39KR0T.nwb</td>\n",
       "<td>13a19e57-a1c1-479c-9a29-b1c7235e7612</td></tr><tr><td>0</td>\n",
       "<td>lewis20240106_.nwb</td>\n",
       "<td>9</td>\n",
       "<td>02_Rev2Session1</td>\n",
       "<td>franklab_tetrode_hippocampus</td>\n",
       "<td>SequenceTask</td>\n",
       "<td>clusterless_thresholder</td>\n",
       "<td>default</td>\n",
       "<td>lewis20240106_.nwb_02_Rev2Session1_9_franklab_tetrode_hippocampus_ampl_1500_prop_075_1ms_artifact_removed_valid_times_track_time_only</td>\n",
       "<td>default</td>\n",
       "<td>pos 1 valid times</td>\n",
       "<td>500.0</td>\n",
       "<td>lewis20240106_KKD9H46CCX.nwb</td>\n",
       "<td>5c99da3b-31ab-45a4-8171-b8da1ebc1339</td></tr><tr><td>0</td>\n",
       "<td>lewis20240106_.nwb</td>\n",
       "<td>10</td>\n",
       "<td>02_Rev2Session1</td>\n",
       "<td>franklab_tetrode_hippocampus</td>\n",
       "<td>SequenceTask</td>\n",
       "<td>clusterless_thresholder</td>\n",
       "<td>default</td>\n",
       "<td>lewis20240106_.nwb_02_Rev2Session1_10_franklab_tetrode_hippocampus_ampl_1500_prop_075_1ms_artifact_removed_valid_times_track_time_only</td>\n",
       "<td>default</td>\n",
       "<td>pos 1 valid times</td>\n",
       "<td>500.0</td>\n",
       "<td>lewis20240106_EO70Q856L8.nwb</td>\n",
       "<td>764753b3-d52a-4623-905d-a2b728fb6271</td></tr><tr><td>0</td>\n",
       "<td>lewis20240106_.nwb</td>\n",
       "<td>12</td>\n",
       "<td>02_Rev2Session1</td>\n",
       "<td>franklab_tetrode_hippocampus</td>\n",
       "<td>SequenceTask</td>\n",
       "<td>clusterless_thresholder</td>\n",
       "<td>default</td>\n",
       "<td>lewis20240106_.nwb_02_Rev2Session1_12_franklab_tetrode_hippocampus_ampl_1500_prop_075_1ms_artifact_removed_valid_times_track_time_only</td>\n",
       "<td>default</td>\n",
       "<td>pos 1 valid times</td>\n",
       "<td>500.0</td>\n",
       "<td>lewis20240106_GFDSXA7RCA.nwb</td>\n",
       "<td>4ac1455c-961a-448d-9edd-b501b1d73cdc</td></tr><tr><td>0</td>\n",
       "<td>lewis20240106_.nwb</td>\n",
       "<td>13</td>\n",
       "<td>02_Rev2Session1</td>\n",
       "<td>franklab_tetrode_hippocampus</td>\n",
       "<td>SequenceTask</td>\n",
       "<td>clusterless_thresholder</td>\n",
       "<td>default</td>\n",
       "<td>lewis20240106_.nwb_02_Rev2Session1_13_franklab_tetrode_hippocampus_ampl_1500_prop_075_1ms_artifact_removed_valid_times_track_time_only</td>\n",
       "<td>default</td>\n",
       "<td>pos 1 valid times</td>\n",
       "<td>500.0</td>\n",
       "<td>lewis20240106_BQATNCIQA3.nwb</td>\n",
       "<td>6c7a8c99-1c51-4613-bd3e-25c9690be2cf</td></tr><tr><td>0</td>\n",
       "<td>lewis20240106_.nwb</td>\n",
       "<td>15</td>\n",
       "<td>02_Rev2Session1</td>\n",
       "<td>franklab_tetrode_hippocampus</td>\n",
       "<td>SequenceTask</td>\n",
       "<td>clusterless_thresholder</td>\n",
       "<td>default</td>\n",
       "<td>lewis20240106_.nwb_02_Rev2Session1_15_franklab_tetrode_hippocampus_ampl_1500_prop_075_1ms_artifact_removed_valid_times_track_time_only</td>\n",
       "<td>default</td>\n",
       "<td>pos 1 valid times</td>\n",
       "<td>500.0</td>\n",
       "<td>lewis20240106_GI93UR5LRF.nwb</td>\n",
       "<td>07c2c1e0-8c40-4b64-8704-f11eb8be82b4</td></tr><tr><td>0</td>\n",
       "<td>lewis20240106_.nwb</td>\n",
       "<td>17</td>\n",
       "<td>02_Rev2Session1</td>\n",
       "<td>franklab_tetrode_hippocampus</td>\n",
       "<td>SequenceTask</td>\n",
       "<td>clusterless_thresholder</td>\n",
       "<td>default</td>\n",
       "<td>lewis20240106_.nwb_02_Rev2Session1_17_franklab_tetrode_hippocampus_ampl_1500_prop_075_1ms_artifact_removed_valid_times_track_time_only</td>\n",
       "<td>default</td>\n",
       "<td>pos 1 valid times</td>\n",
       "<td>500.0</td>\n",
       "<td>lewis20240106_PA9V3BZLUM.nwb</td>\n",
       "<td>0fb602da-9e76-4f79-aa90-7d4e21a7847a</td></tr><tr><td>0</td>\n",
       "<td>lewis20240106_.nwb</td>\n",
       "<td>18</td>\n",
       "<td>02_Rev2Session1</td>\n",
       "<td>franklab_tetrode_hippocampus</td>\n",
       "<td>SequenceTask</td>\n",
       "<td>clusterless_thresholder</td>\n",
       "<td>default</td>\n",
       "<td>lewis20240106_.nwb_02_Rev2Session1_18_franklab_tetrode_hippocampus_ampl_1500_prop_075_1ms_artifact_removed_valid_times_track_time_only</td>\n",
       "<td>default</td>\n",
       "<td>pos 1 valid times</td>\n",
       "<td>500.0</td>\n",
       "<td>lewis20240106_QFXINH0TCK.nwb</td>\n",
       "<td>9fbe1b61-b8ff-44b7-bed9-717931489232</td></tr><tr><td>0</td>\n",
       "<td>lewis20240106_.nwb</td>\n",
       "<td>19</td>\n",
       "<td>02_Rev2Session1</td>\n",
       "<td>franklab_tetrode_hippocampus</td>\n",
       "<td>SequenceTask</td>\n",
       "<td>clusterless_thresholder</td>\n",
       "<td>default</td>\n",
       "<td>lewis20240106_.nwb_02_Rev2Session1_19_franklab_tetrode_hippocampus_ampl_1500_prop_075_1ms_artifact_removed_valid_times_track_time_only</td>\n",
       "<td>default</td>\n",
       "<td>pos 1 valid times</td>\n",
       "<td>500.0</td>\n",
       "<td>lewis20240106_BC1K1S5QX1.nwb</td>\n",
       "<td>46728f06-2cad-4908-9dfa-865ff1c3ebea</td> </tr> </tbody>\n",
       "        </table>\n",
       "        <p>...</p>\n",
       "        <p>Total: 43</p></div>\n",
       "        "
      ],
      "text/plain": [
       "*curation_id   *nwb_file_name *sort_group_id *sort_interval *preproc_param *team_name     *sorter        *sorter_params *artifact_remo *mark_param_na *interval_list *sampling_rate analysis_file_ marks_indicato\n",
       "+------------+ +------------+ +------------+ +------------+ +------------+ +------------+ +------------+ +------------+ +------------+ +------------+ +------------+ +------------+ +------------+ +------------+\n",
       "0              lewis20240106_ 0              02_Rev2Session franklab_tetro SequenceTask   clusterless_th default        lewis20240106_ default        pos 1 valid ti 500.0          lewis20240106_ 3308c989-63f2-\n",
       "0              lewis20240106_ 1              02_Rev2Session franklab_tetro SequenceTask   clusterless_th default        lewis20240106_ default        pos 1 valid ti 500.0          lewis20240106_ a225704f-83fe-\n",
       "0              lewis20240106_ 7              02_Rev2Session franklab_tetro SequenceTask   clusterless_th default        lewis20240106_ default        pos 1 valid ti 500.0          lewis20240106_ ac385b97-7990-\n",
       "0              lewis20240106_ 8              02_Rev2Session franklab_tetro SequenceTask   clusterless_th default        lewis20240106_ default        pos 1 valid ti 500.0          lewis20240106_ 13a19e57-a1c1-\n",
       "0              lewis20240106_ 9              02_Rev2Session franklab_tetro SequenceTask   clusterless_th default        lewis20240106_ default        pos 1 valid ti 500.0          lewis20240106_ 5c99da3b-31ab-\n",
       "0              lewis20240106_ 10             02_Rev2Session franklab_tetro SequenceTask   clusterless_th default        lewis20240106_ default        pos 1 valid ti 500.0          lewis20240106_ 764753b3-d52a-\n",
       "0              lewis20240106_ 12             02_Rev2Session franklab_tetro SequenceTask   clusterless_th default        lewis20240106_ default        pos 1 valid ti 500.0          lewis20240106_ 4ac1455c-961a-\n",
       "0              lewis20240106_ 13             02_Rev2Session franklab_tetro SequenceTask   clusterless_th default        lewis20240106_ default        pos 1 valid ti 500.0          lewis20240106_ 6c7a8c99-1c51-\n",
       "0              lewis20240106_ 15             02_Rev2Session franklab_tetro SequenceTask   clusterless_th default        lewis20240106_ default        pos 1 valid ti 500.0          lewis20240106_ 07c2c1e0-8c40-\n",
       "0              lewis20240106_ 17             02_Rev2Session franklab_tetro SequenceTask   clusterless_th default        lewis20240106_ default        pos 1 valid ti 500.0          lewis20240106_ 0fb602da-9e76-\n",
       "0              lewis20240106_ 18             02_Rev2Session franklab_tetro SequenceTask   clusterless_th default        lewis20240106_ default        pos 1 valid ti 500.0          lewis20240106_ 9fbe1b61-b8ff-\n",
       "0              lewis20240106_ 19             02_Rev2Session franklab_tetro SequenceTask   clusterless_th default        lewis20240106_ default        pos 1 valid ti 500.0          lewis20240106_ 46728f06-2cad-\n",
       "   ...\n",
       " (Total: 43)"
      ]
     },
     "execution_count": 25,
     "metadata": {},
     "output_type": "execute_result"
    }
   ],
   "source": [
    "UnitMarksIndicator & {\n",
    "    'nwb_file_name': nwb_copy_file_name  \n",
    "}"
   ]
  },
  {
   "cell_type": "markdown",
   "id": "57eb5a4e-4213-4da6-adc4-1b235c5f4695",
   "metadata": {},
   "source": [
    "## 2. Position\n",
    "\n",
    "After the marks look good, you'll need to load/populate the 2D position data. This comes from the `IntervalPositionInfo` table. See the position tutorial for more information. Note that we will need to upsample the position data (which is done here via the `default_decoding` parameters) to match the sampling frequency that we intend to decode in (2 ms time bins or 500 Hz sampling rate)"
   ]
  },
  {
   "cell_type": "markdown",
   "id": "4f3d6f91-2ca5-404e-afc9-f45d802d33ef",
   "metadata": {},
   "source": [
    "Next we populate/load the linearized position tables. Again refer to the linear position tutorials for more information."
   ]
  },
  {
   "cell_type": "code",
   "execution_count": 26,
   "id": "94b0297d-f5e9-474f-8e21-5f6e09bd599d",
   "metadata": {},
   "outputs": [],
   "source": [
    "position_df = (IntervalPositionInfo &\n",
    " {'nwb_file_name': nwb_copy_file_name,\n",
    "  'interval_list_name': position_interval[e],\n",
    "  'position_info_param_name': 'default_decoding'}\n",
    "              ).fetch1_dataframe()"
   ]
  },
  {
   "cell_type": "code",
   "execution_count": 27,
   "id": "d44671a7-2f0f-4d27-a052-73798189061f",
   "metadata": {},
   "outputs": [
    {
     "data": {
      "text/html": [
       "<div>\n",
       "<style scoped>\n",
       "    .dataframe tbody tr th:only-of-type {\n",
       "        vertical-align: middle;\n",
       "    }\n",
       "\n",
       "    .dataframe tbody tr th {\n",
       "        vertical-align: top;\n",
       "    }\n",
       "\n",
       "    .dataframe thead th {\n",
       "        text-align: right;\n",
       "    }\n",
       "</style>\n",
       "<table border=\"1\" class=\"dataframe\">\n",
       "  <thead>\n",
       "    <tr style=\"text-align: right;\">\n",
       "      <th></th>\n",
       "      <th>head_position_x</th>\n",
       "      <th>head_position_y</th>\n",
       "      <th>head_orientation</th>\n",
       "      <th>head_velocity_x</th>\n",
       "      <th>head_velocity_y</th>\n",
       "      <th>head_speed</th>\n",
       "    </tr>\n",
       "    <tr>\n",
       "      <th>time</th>\n",
       "      <th></th>\n",
       "      <th></th>\n",
       "      <th></th>\n",
       "      <th></th>\n",
       "      <th></th>\n",
       "      <th></th>\n",
       "    </tr>\n",
       "  </thead>\n",
       "  <tbody>\n",
       "    <tr>\n",
       "      <th>1.704565e+09</th>\n",
       "      <td>NaN</td>\n",
       "      <td>NaN</td>\n",
       "      <td>NaN</td>\n",
       "      <td>NaN</td>\n",
       "      <td>NaN</td>\n",
       "      <td>NaN</td>\n",
       "    </tr>\n",
       "    <tr>\n",
       "      <th>1.704565e+09</th>\n",
       "      <td>NaN</td>\n",
       "      <td>NaN</td>\n",
       "      <td>NaN</td>\n",
       "      <td>NaN</td>\n",
       "      <td>NaN</td>\n",
       "      <td>NaN</td>\n",
       "    </tr>\n",
       "    <tr>\n",
       "      <th>1.704565e+09</th>\n",
       "      <td>NaN</td>\n",
       "      <td>NaN</td>\n",
       "      <td>NaN</td>\n",
       "      <td>NaN</td>\n",
       "      <td>NaN</td>\n",
       "      <td>NaN</td>\n",
       "    </tr>\n",
       "    <tr>\n",
       "      <th>1.704565e+09</th>\n",
       "      <td>NaN</td>\n",
       "      <td>NaN</td>\n",
       "      <td>NaN</td>\n",
       "      <td>NaN</td>\n",
       "      <td>NaN</td>\n",
       "      <td>NaN</td>\n",
       "    </tr>\n",
       "    <tr>\n",
       "      <th>1.704565e+09</th>\n",
       "      <td>NaN</td>\n",
       "      <td>NaN</td>\n",
       "      <td>NaN</td>\n",
       "      <td>NaN</td>\n",
       "      <td>NaN</td>\n",
       "      <td>NaN</td>\n",
       "    </tr>\n",
       "    <tr>\n",
       "      <th>...</th>\n",
       "      <td>...</td>\n",
       "      <td>...</td>\n",
       "      <td>...</td>\n",
       "      <td>...</td>\n",
       "      <td>...</td>\n",
       "      <td>...</td>\n",
       "    </tr>\n",
       "    <tr>\n",
       "      <th>1.704567e+09</th>\n",
       "      <td>305.375</td>\n",
       "      <td>107.25</td>\n",
       "      <td>-0.758378</td>\n",
       "      <td>-0.319917</td>\n",
       "      <td>-0.393999</td>\n",
       "      <td>0.507525</td>\n",
       "    </tr>\n",
       "    <tr>\n",
       "      <th>1.704567e+09</th>\n",
       "      <td>305.375</td>\n",
       "      <td>107.25</td>\n",
       "      <td>-0.758378</td>\n",
       "      <td>-0.310834</td>\n",
       "      <td>-0.386628</td>\n",
       "      <td>0.496084</td>\n",
       "    </tr>\n",
       "    <tr>\n",
       "      <th>1.704567e+09</th>\n",
       "      <td>305.375</td>\n",
       "      <td>107.25</td>\n",
       "      <td>-0.758372</td>\n",
       "      <td>-0.301913</td>\n",
       "      <td>-0.379264</td>\n",
       "      <td>0.484760</td>\n",
       "    </tr>\n",
       "    <tr>\n",
       "      <th>1.704567e+09</th>\n",
       "      <td>305.375</td>\n",
       "      <td>107.25</td>\n",
       "      <td>-0.627197</td>\n",
       "      <td>-0.293153</td>\n",
       "      <td>-0.371913</td>\n",
       "      <td>0.473559</td>\n",
       "    </tr>\n",
       "    <tr>\n",
       "      <th>1.704567e+09</th>\n",
       "      <td>305.375</td>\n",
       "      <td>107.25</td>\n",
       "      <td>2.027194</td>\n",
       "      <td>-0.284557</td>\n",
       "      <td>-0.364578</td>\n",
       "      <td>0.462482</td>\n",
       "    </tr>\n",
       "  </tbody>\n",
       "</table>\n",
       "<p>999018 rows × 6 columns</p>\n",
       "</div>"
      ],
      "text/plain": [
       "              head_position_x  head_position_y  head_orientation  \\\n",
       "time                                                               \n",
       "1.704565e+09              NaN              NaN               NaN   \n",
       "1.704565e+09              NaN              NaN               NaN   \n",
       "1.704565e+09              NaN              NaN               NaN   \n",
       "1.704565e+09              NaN              NaN               NaN   \n",
       "1.704565e+09              NaN              NaN               NaN   \n",
       "...                       ...              ...               ...   \n",
       "1.704567e+09          305.375           107.25         -0.758378   \n",
       "1.704567e+09          305.375           107.25         -0.758378   \n",
       "1.704567e+09          305.375           107.25         -0.758372   \n",
       "1.704567e+09          305.375           107.25         -0.627197   \n",
       "1.704567e+09          305.375           107.25          2.027194   \n",
       "\n",
       "              head_velocity_x  head_velocity_y  head_speed  \n",
       "time                                                        \n",
       "1.704565e+09              NaN              NaN         NaN  \n",
       "1.704565e+09              NaN              NaN         NaN  \n",
       "1.704565e+09              NaN              NaN         NaN  \n",
       "1.704565e+09              NaN              NaN         NaN  \n",
       "1.704565e+09              NaN              NaN         NaN  \n",
       "...                       ...              ...         ...  \n",
       "1.704567e+09        -0.319917        -0.393999    0.507525  \n",
       "1.704567e+09        -0.310834        -0.386628    0.496084  \n",
       "1.704567e+09        -0.301913        -0.379264    0.484760  \n",
       "1.704567e+09        -0.293153        -0.371913    0.473559  \n",
       "1.704567e+09        -0.284557        -0.364578    0.462482  \n",
       "\n",
       "[999018 rows x 6 columns]"
      ]
     },
     "execution_count": 27,
     "metadata": {},
     "output_type": "execute_result"
    }
   ],
   "source": [
    "position_df"
   ]
  },
  {
   "cell_type": "code",
   "execution_count": 28,
   "id": "308bac74-947d-4929-b97e-fd1d251bcda1",
   "metadata": {
    "scrolled": true
   },
   "outputs": [
    {
     "name": "stderr",
     "output_type": "stream",
     "text": [
      "[12:38:47][WARNING] Spyglass: Deprecation: this class has been moved out of spyglass.common.common_position\n",
      "\tIntervalLinearizedPosition -> spyglass.linearization.v0.main.IntervalLinearizedPosition\n",
      "Please use the new location.\n",
      "30-Sep-24 12:38:47 Deprecation: this class has been moved out of spyglass.common.common_position\n",
      "\tIntervalLinearizedPosition -> spyglass.linearization.v0.main.IntervalLinearizedPosition\n",
      "Please use the new location.\n"
     ]
    },
    {
     "data": {
      "text/html": [
       "<div>\n",
       "<style scoped>\n",
       "    .dataframe tbody tr th:only-of-type {\n",
       "        vertical-align: middle;\n",
       "    }\n",
       "\n",
       "    .dataframe tbody tr th {\n",
       "        vertical-align: top;\n",
       "    }\n",
       "\n",
       "    .dataframe thead th {\n",
       "        text-align: right;\n",
       "    }\n",
       "</style>\n",
       "<table border=\"1\" class=\"dataframe\">\n",
       "  <thead>\n",
       "    <tr style=\"text-align: right;\">\n",
       "      <th></th>\n",
       "      <th>linear_position</th>\n",
       "      <th>track_segment_id</th>\n",
       "      <th>projected_x_position</th>\n",
       "      <th>projected_y_position</th>\n",
       "    </tr>\n",
       "    <tr>\n",
       "      <th>time</th>\n",
       "      <th></th>\n",
       "      <th></th>\n",
       "      <th></th>\n",
       "      <th></th>\n",
       "    </tr>\n",
       "  </thead>\n",
       "  <tbody>\n",
       "    <tr>\n",
       "      <th>1.704565e+09</th>\n",
       "      <td>NaN</td>\n",
       "      <td>0</td>\n",
       "      <td>NaN</td>\n",
       "      <td>NaN</td>\n",
       "    </tr>\n",
       "    <tr>\n",
       "      <th>1.704565e+09</th>\n",
       "      <td>NaN</td>\n",
       "      <td>0</td>\n",
       "      <td>NaN</td>\n",
       "      <td>NaN</td>\n",
       "    </tr>\n",
       "    <tr>\n",
       "      <th>1.704565e+09</th>\n",
       "      <td>NaN</td>\n",
       "      <td>0</td>\n",
       "      <td>NaN</td>\n",
       "      <td>NaN</td>\n",
       "    </tr>\n",
       "    <tr>\n",
       "      <th>1.704565e+09</th>\n",
       "      <td>NaN</td>\n",
       "      <td>0</td>\n",
       "      <td>NaN</td>\n",
       "      <td>NaN</td>\n",
       "    </tr>\n",
       "    <tr>\n",
       "      <th>1.704565e+09</th>\n",
       "      <td>NaN</td>\n",
       "      <td>0</td>\n",
       "      <td>NaN</td>\n",
       "      <td>NaN</td>\n",
       "    </tr>\n",
       "    <tr>\n",
       "      <th>...</th>\n",
       "      <td>...</td>\n",
       "      <td>...</td>\n",
       "      <td>...</td>\n",
       "      <td>...</td>\n",
       "    </tr>\n",
       "    <tr>\n",
       "      <th>1.704567e+09</th>\n",
       "      <td>739.949721</td>\n",
       "      <td>9</td>\n",
       "      <td>307.726916</td>\n",
       "      <td>112.095894</td>\n",
       "    </tr>\n",
       "    <tr>\n",
       "      <th>1.704567e+09</th>\n",
       "      <td>739.949721</td>\n",
       "      <td>9</td>\n",
       "      <td>307.726916</td>\n",
       "      <td>112.095894</td>\n",
       "    </tr>\n",
       "    <tr>\n",
       "      <th>1.704567e+09</th>\n",
       "      <td>739.949721</td>\n",
       "      <td>9</td>\n",
       "      <td>307.726916</td>\n",
       "      <td>112.095894</td>\n",
       "    </tr>\n",
       "    <tr>\n",
       "      <th>1.704567e+09</th>\n",
       "      <td>739.949721</td>\n",
       "      <td>9</td>\n",
       "      <td>307.726916</td>\n",
       "      <td>112.095894</td>\n",
       "    </tr>\n",
       "    <tr>\n",
       "      <th>1.704567e+09</th>\n",
       "      <td>739.949721</td>\n",
       "      <td>9</td>\n",
       "      <td>307.726916</td>\n",
       "      <td>112.095894</td>\n",
       "    </tr>\n",
       "  </tbody>\n",
       "</table>\n",
       "<p>999018 rows × 4 columns</p>\n",
       "</div>"
      ],
      "text/plain": [
       "              linear_position  track_segment_id  projected_x_position  \\\n",
       "time                                                                    \n",
       "1.704565e+09              NaN                 0                   NaN   \n",
       "1.704565e+09              NaN                 0                   NaN   \n",
       "1.704565e+09              NaN                 0                   NaN   \n",
       "1.704565e+09              NaN                 0                   NaN   \n",
       "1.704565e+09              NaN                 0                   NaN   \n",
       "...                       ...               ...                   ...   \n",
       "1.704567e+09       739.949721                 9            307.726916   \n",
       "1.704567e+09       739.949721                 9            307.726916   \n",
       "1.704567e+09       739.949721                 9            307.726916   \n",
       "1.704567e+09       739.949721                 9            307.726916   \n",
       "1.704567e+09       739.949721                 9            307.726916   \n",
       "\n",
       "              projected_y_position  \n",
       "time                                \n",
       "1.704565e+09                   NaN  \n",
       "1.704565e+09                   NaN  \n",
       "1.704565e+09                   NaN  \n",
       "1.704565e+09                   NaN  \n",
       "1.704565e+09                   NaN  \n",
       "...                            ...  \n",
       "1.704567e+09            112.095894  \n",
       "1.704567e+09            112.095894  \n",
       "1.704567e+09            112.095894  \n",
       "1.704567e+09            112.095894  \n",
       "1.704567e+09            112.095894  \n",
       "\n",
       "[999018 rows x 4 columns]"
      ]
     },
     "execution_count": 28,
     "metadata": {},
     "output_type": "execute_result"
    }
   ],
   "source": [
    "from spyglass.common.common_position import IntervalLinearizedPosition\n",
    "\n",
    "linear_position_df = (IntervalLinearizedPosition() &\n",
    " {'nwb_file_name': nwb_copy_file_name,\n",
    "  'interval_list_name': position_interval[e],\n",
    "  'position_info_param_name': 'default_decoding'}\n",
    ").fetch1_dataframe()\n",
    "\n",
    "linear_position_df"
   ]
  },
  {
   "cell_type": "markdown",
   "id": "b3e25786-4d35-49f8-9768-81dba7c7098b",
   "metadata": {},
   "source": [
    "We should also quickly visualize the linear position in order to sanity check the values. Here we plot the 2D position projected to its corresponding 1D segment."
   ]
  },
  {
   "cell_type": "code",
   "execution_count": 29,
   "id": "b4e47250-ff99-4e1e-bf3b-f8a6f3ea9862",
   "metadata": {},
   "outputs": [
    {
     "data": {
      "text/plain": [
       "<matplotlib.collections.PathCollection at 0x7f2486a73400>"
      ]
     },
     "execution_count": 29,
     "metadata": {},
     "output_type": "execute_result"
    },
    {
     "data": {
      "image/png": "[encoded data removed]",
      "text/plain": [
       "<Figure size 700x600 with 1 Axes>"
      ]
     },
     "metadata": {},
     "output_type": "display_data"
    }
   ],
   "source": [
    "plt.figure(figsize=(7, 6))\n",
    "plt.scatter(linear_position_df.projected_x_position, linear_position_df.projected_y_position,\n",
    "            c=linear_position_df.track_segment_id, cmap='tab20', s=1)"
   ]
  },
  {
   "cell_type": "markdown",
   "id": "b091236d-f46d-4e71-9ee8-1aa7ada1cd56",
   "metadata": {},
   "source": [
    "We should also plot the linearized position itself to make sure it is okay."
   ]
  },
  {
   "cell_type": "code",
   "execution_count": 30,
   "id": "4e25f9a7-b2c4-4a93-a548-67cf2d6b90a2",
   "metadata": {},
   "outputs": [
    {
     "data": {
      "text/plain": [
       "<matplotlib.collections.PathCollection at 0x7f2363f31f70>"
      ]
     },
     "execution_count": 30,
     "metadata": {},
     "output_type": "execute_result"
    },
    {
     "data": {
      "image/png": "[encoded data removed]",
      "text/plain": [
       "<Figure size 2000x1000 with 1 Axes>"
      ]
     },
     "metadata": {},
     "output_type": "display_data"
    }
   ],
   "source": [
    "plt.figure(figsize=(20, 10))\n",
    "plt.scatter(linear_position_df.index, linear_position_df.linear_position, s=1,\n",
    "            c=linear_position_df.track_segment_id, cmap='tab20')"
   ]
  },
  {
   "cell_type": "markdown",
   "id": "a7542fc3-7b32-4bdc-bc5e-255fb89a0f50",
   "metadata": {},
   "source": [
    "Okay now that we've looked at the data, we should quickly verify that all our data is the same size."
   ]
  },
  {
   "cell_type": "markdown",
   "id": "36c55e7e-15fb-4c15-aa67-3ce61f7950f7",
   "metadata": {},
   "source": [
    "We also want to make sure we have valid ephys data and valid position data for decoding. Here we only have one valid time interval, but if we had more than one, we should decode on each interval separately."
   ]
  },
  {
   "cell_type": "code",
   "execution_count": 31,
   "id": "3a02f91d-fd36-407c-a87c-2cd209dd7183",
   "metadata": {},
   "outputs": [
    {
     "data": {
      "text/plain": [
       "((972285, 4, 43), (972285, 6), (972285, 4))"
      ]
     },
     "execution_count": 31,
     "metadata": {},
     "output_type": "execute_result"
    }
   ],
   "source": [
    "intersect_interval = intersectValidIntervals(nwb_copy_file_name,\n",
    "                                                session_interval[e],position_interval[e])\n",
    "marks_=[]\n",
    "linear_position_df_=[]\n",
    "position_df_ =[]\n",
    "for i in range(len(intersect_interval)):\n",
    "    valid_time_slice = slice(intersect_interval[i][0], intersect_interval[i][1])\n",
    "    \n",
    "    linear_position_df_.append(linear_position_df.loc[valid_time_slice])\n",
    "    position_df_.append(position_df.loc[valid_time_slice])\n",
    "    marks_.append(marks.sel(time=valid_time_slice))\n",
    "\n",
    "marks=xr.concat(marks_,dim='time')\n",
    "position_df = pd.concat(position_df_)\n",
    "linear_position_df=pd.concat(linear_position_df_)\n",
    "marks.shape, position_df.shape, linear_position_df.shape"
   ]
  },
  {
   "cell_type": "code",
   "execution_count": 33,
   "id": "58692822-2343-48f1-81ba-673230b9a8b1",
   "metadata": {},
   "outputs": [],
   "source": [
    "animal = nwb_copy_file_name[:5]\n",
    "marks_path=os.path.join(f'/cumulus/shijie/recording_pilot/{animal}/decoding',\n",
    "                             nwb_copy_file_name+'_'+session_interval[e]+'_marks.nc')\n",
    "marks.to_netcdf(marks_path)\n",
    "\n",
    "position1d_path=os.path.join(f'/cumulus/shijie/recording_pilot/{animal}/decoding',\n",
    "                             nwb_copy_file_name+'_'+session_interval[e]+'_1dposition.csv')\n",
    "linear_position_df.to_csv(position1d_path)\n",
    "\n",
    "position2d_path=os.path.join(f'/cumulus/shijie/recording_pilot/{animal}/decoding',\n",
    "                             nwb_copy_file_name+'_'+session_interval[e]+'_2dposition.csv')\n",
    "position_df.to_csv(position2d_path)"
   ]
  },
  {
   "cell_type": "code",
   "execution_count": 34,
   "id": "fc7939a0-1270-45c0-8aff-89603276b840",
   "metadata": {},
   "outputs": [],
   "source": [
    "from spyglass.shijiegu.Analysis_SGU import DecodeIngredients\n",
    "key={'nwb_file_name':nwb_copy_file_name,\n",
    "     'interval_list_name':session_interval[e],\n",
    "     'marks':marks_path,\n",
    "     'position_1d':position1d_path,\n",
    "     'position_2d':position2d_path}\n",
    "DecodeIngredients().insert1(key,replace=True)"
   ]
  },
  {
   "cell_type": "code",
   "execution_count": 19,
   "id": "1caf244a-7be5-47ce-aa63-960358291f71",
   "metadata": {},
   "outputs": [
    {
     "data": {
      "text/html": [
       "\n",
       "    \n",
       "    <style type=\"text/css\">\n",
       "        .Table{\n",
       "            border-collapse:collapse;\n",
       "        }\n",
       "        .Table th{\n",
       "            background: #A0A0A0; color: #ffffff; padding:4px; border:#f0e0e0 1px solid;\n",
       "            font-weight: normal; font-family: monospace; font-size: 100%;\n",
       "        }\n",
       "        .Table td{\n",
       "            padding:4px; border:#f0e0e0 1px solid; font-size:100%;\n",
       "        }\n",
       "        .Table tr:nth-child(odd){\n",
       "            background: #ffffff;\n",
       "            color: #000000;\n",
       "        }\n",
       "        .Table tr:nth-child(even){\n",
       "            background: #f3f1ff;\n",
       "            color: #000000;\n",
       "        }\n",
       "        /* Tooltip container */\n",
       "        .djtooltip {\n",
       "        }\n",
       "        /* Tooltip text */\n",
       "        .djtooltip .djtooltiptext {\n",
       "            visibility: hidden;\n",
       "            width: 120px;\n",
       "            background-color: black;\n",
       "            color: #fff;\n",
       "            text-align: center;\n",
       "            padding: 5px 0;\n",
       "            border-radius: 6px;\n",
       "            /* Position the tooltip text - see examples below! */\n",
       "            position: absolute;\n",
       "            z-index: 1;\n",
       "        }\n",
       "        #primary {\n",
       "            font-weight: bold;\n",
       "            color: black;\n",
       "        }\n",
       "        #nonprimary {\n",
       "            font-weight: normal;\n",
       "            color: white;\n",
       "        }\n",
       "\n",
       "        /* Show the tooltip text when you mouse over the tooltip container */\n",
       "        .djtooltip:hover .djtooltiptext {\n",
       "            visibility: visible;\n",
       "        }\n",
       "    </style>\n",
       "    \n",
       "    <b>decoded replay content</b>\n",
       "        <div style=\"max-height:1000px;max-width:1500px;overflow:auto;\">\n",
       "        <table border=\"1\" class=\"Table\">\n",
       "            <thead> <tr style=\"text-align: right;\"> <th> <div class=\"djtooltip\">\n",
       "                            <p id=\"primary\">nwb_file_name</p>\n",
       "                            <span class=\"djtooltiptext\">name of the NWB file</span>\n",
       "                        </div></th><th><div class=\"djtooltip\">\n",
       "                            <p id=\"primary\">interval_list_name</p>\n",
       "                            <span class=\"djtooltiptext\">descriptive name of this interval list</span>\n",
       "                        </div></th><th><div class=\"djtooltip\">\n",
       "                            <p id=\"nonprimary\">marks</p>\n",
       "                            <span class=\"djtooltiptext\">valid marks within that interval</span>\n",
       "                        </div></th><th><div class=\"djtooltip\">\n",
       "                            <p id=\"nonprimary\">position_1d</p>\n",
       "                            <span class=\"djtooltiptext\">valid position within that interval (1D), inluding all rat-on-track time</span>\n",
       "                        </div></th><th><div class=\"djtooltip\">\n",
       "                            <p id=\"nonprimary\">position_2d</p>\n",
       "                            <span class=\"djtooltiptext\">valid position within that interval (2D), inluding all rat-on-track time</span>\n",
       "                        </div> </th> </tr> </thead>\n",
       "            <tbody> <tr> <td>eliot20221021_.nwb</td>\n",
       "<td>02_Seq2Session1</td>\n",
       "<td>=BLOB=</td>\n",
       "<td>=BLOB=</td>\n",
       "<td>=BLOB=</td></tr><tr><td>eliot20221021_.nwb</td>\n",
       "<td>04_Seq2Session2</td>\n",
       "<td>=BLOB=</td>\n",
       "<td>=BLOB=</td>\n",
       "<td>=BLOB=</td></tr><tr><td>eliot20221021_.nwb</td>\n",
       "<td>06_Seq2Session3</td>\n",
       "<td>=BLOB=</td>\n",
       "<td>=BLOB=</td>\n",
       "<td>=BLOB=</td></tr><tr><td>eliot20221021_.nwb</td>\n",
       "<td>08_Seq2Session4</td>\n",
       "<td>=BLOB=</td>\n",
       "<td>=BLOB=</td>\n",
       "<td>=BLOB=</td> </tr> </tbody>\n",
       "        </table>\n",
       "        \n",
       "        <p>Total: 4</p></div>\n",
       "        "
      ],
      "text/plain": [
       "*nwb_file_name *interval_list marks      position_1 position_2\n",
       "+------------+ +------------+ +--------+ +--------+ +--------+\n",
       "eliot20221021_ 02_Seq2Session =BLOB=     =BLOB=     =BLOB=    \n",
       "eliot20221021_ 04_Seq2Session =BLOB=     =BLOB=     =BLOB=    \n",
       "eliot20221021_ 06_Seq2Session =BLOB=     =BLOB=     =BLOB=    \n",
       "eliot20221021_ 08_Seq2Session =BLOB=     =BLOB=     =BLOB=    \n",
       " (Total: 4)"
      ]
     },
     "execution_count": 19,
     "metadata": {},
     "output_type": "execute_result"
    }
   ],
   "source": [
    "from spyglass.shijiegu.Analysis_SGU import DecodeIngredients\n",
    "DecodeIngredients() & {'nwb_file_name':nwb_copy_file_name}"
   ]
  },
  {
   "cell_type": "markdown",
   "id": "b7971f39-91ca-4e42-a2b4-f4ec3012d4d7",
   "metadata": {},
   "source": [
    "# Run All sessions"
   ]
  },
  {
   "cell_type": "code",
   "execution_count": 105,
   "id": "538dc3a5-ba08-4182-89aa-72c3a0da7f7e",
   "metadata": {},
   "outputs": [
    {
     "name": "stdout",
     "output_type": "stream",
     "text": [
      "lewis20240110_.nwb\n",
      "['02_Rev2Session1', '04_Rev2Session2', '06_Rev2Session3', '08_Rev2Session4', '10_Rev2Session5']\n"
     ]
    }
   ],
   "source": [
    "session_interval, position_interval = runSessionNames(nwb_copy_file_name)\n",
    "print(nwb_copy_file_name)\n",
    "print(session_interval)"
   ]
  },
  {
   "cell_type": "code",
   "execution_count": 20,
   "id": "19a52c25-7517-4232-82c8-a6eef23e0dc5",
   "metadata": {},
   "outputs": [
    {
     "name": "stdout",
     "output_type": "stream",
     "text": [
      "eliot20221021_.nwb\n",
      "['01_Seq2Sleep1', '03_Seq2Sleep2', '05_Seq2Sleep3', '07_Seq2Sleep4', '09_Seq2Sleep5']\n"
     ]
    }
   ],
   "source": [
    "sleep_interval, sleep_position_interval = sleepSessionNames(nwb_copy_file_name)\n",
    "print(nwb_copy_file_name)\n",
    "print(sleep_interval)"
   ]
  },
  {
   "cell_type": "code",
   "execution_count": 93,
   "id": "c670534d-c7ca-497d-880b-ca50f552a3a0",
   "metadata": {
    "scrolled": true
   },
   "outputs": [
    {
     "name": "stdout",
     "output_type": "stream",
     "text": [
      "0\n",
      "inserting into IntervalList\n",
      "done inserting into IntervalList\n",
      "2\n",
      "inserting into IntervalList\n",
      "done inserting into IntervalList\n",
      "3\n",
      "inserting into IntervalList\n",
      "done inserting into IntervalList\n",
      "6\n",
      "inserting into IntervalList\n",
      "done inserting into IntervalList\n",
      "7\n",
      "inserting into IntervalList\n",
      "done inserting into IntervalList\n",
      "9\n",
      "inserting into IntervalList\n",
      "done inserting into IntervalList\n",
      "12\n",
      "inserting into IntervalList\n",
      "done inserting into IntervalList\n",
      "15\n",
      "inserting into IntervalList\n",
      "done inserting into IntervalList\n",
      "17\n",
      "inserting into IntervalList\n",
      "done inserting into IntervalList\n",
      "18\n",
      "inserting into IntervalList\n",
      "done inserting into IntervalList\n",
      "24\n",
      "inserting into IntervalList\n",
      "done inserting into IntervalList\n",
      "25\n",
      "inserting into IntervalList\n",
      "done inserting into IntervalList\n",
      "27\n",
      "inserting into IntervalList\n",
      "done inserting into IntervalList\n",
      "28\n",
      "inserting into IntervalList\n",
      "done inserting into IntervalList\n",
      "34\n",
      "inserting into IntervalList\n",
      "done inserting into IntervalList\n",
      "37\n",
      "inserting into IntervalList\n",
      "done inserting into IntervalList\n",
      "39\n",
      "inserting into IntervalList\n",
      "done inserting into IntervalList\n",
      "40\n",
      "inserting into IntervalList\n",
      "done inserting into IntervalList\n",
      "41\n",
      "inserting into IntervalList\n",
      "done inserting into IntervalList\n",
      "43\n",
      "inserting into IntervalList\n",
      "done inserting into IntervalList\n",
      "46\n",
      "inserting into IntervalList\n",
      "done inserting into IntervalList\n",
      "50\n",
      "inserting into IntervalList\n",
      "done inserting into IntervalList\n",
      "53\n",
      "inserting into IntervalList\n",
      "done inserting into IntervalList\n",
      "55\n",
      "inserting into IntervalList\n",
      "done inserting into IntervalList\n",
      "61\n",
      "inserting into IntervalList\n",
      "done inserting into IntervalList\n"
     ]
    },
    {
     "name": "stderr",
     "output_type": "stream",
     "text": [
      "[15:03:05][INFO] Spyglass: Running spike sorting on {'nwb_file_name': 'molly20220415_.nwb', 'sort_group_id': 34, 'sort_interval_name': '02_SeqSession1', 'preproc_params_name': 'franklab_tetrode_hippocampus', 'team_name': 'SequenceTask', 'sorter': 'clusterless_thresholder', 'sorter_params_name': 'default', 'artifact_removed_interval_list_name': 'molly20220415_.nwb_02_SeqSession1_34_franklab_tetrode_hippocampus_ampl_1500_prop_075_1ms_artifact_removed_valid_times_track_time_only'}...\n",
      "05-Dec-24 15:03:05 Running spike sorting on {'nwb_file_name': 'molly20220415_.nwb', 'sort_group_id': 34, 'sort_interval_name': '02_SeqSession1', 'preproc_params_name': 'franklab_tetrode_hippocampus', 'team_name': 'SequenceTask', 'sorter': 'clusterless_thresholder', 'sorter_params_name': 'default', 'artifact_removed_interval_list_name': 'molly20220415_.nwb_02_SeqSession1_34_franklab_tetrode_hippocampus_ampl_1500_prop_075_1ms_artifact_removed_valid_times_track_time_only'}...\n"
     ]
    },
    {
     "data": {
      "application/vnd.jupyter.widget-view+json": {
       "model_id": "2399226f1c05466cbca3cea013e6ed50",
       "version_major": 2,
       "version_minor": 0
      },
      "text/plain": [
       "detect peaks using locally_exclusive:   0%|          | 0/1261 [00:00<?, ?it/s]"
      ]
     },
     "metadata": {},
     "output_type": "display_data"
    },
    {
     "name": "stderr",
     "output_type": "stream",
     "text": [
      "[15:03:08][INFO] Spyglass: Saving sorting results...\n",
      "05-Dec-24 15:03:08 Saving sorting results...\n",
      "[15:03:10][INFO] Spyglass: Running spike sorting on {'nwb_file_name': 'molly20220415_.nwb', 'sort_group_id': 37, 'sort_interval_name': '02_SeqSession1', 'preproc_params_name': 'franklab_tetrode_hippocampus', 'team_name': 'SequenceTask', 'sorter': 'clusterless_thresholder', 'sorter_params_name': 'default', 'artifact_removed_interval_list_name': 'molly20220415_.nwb_02_SeqSession1_37_franklab_tetrode_hippocampus_ampl_1500_prop_075_1ms_artifact_removed_valid_times_track_time_only'}...\n",
      "05-Dec-24 15:03:10 Running spike sorting on {'nwb_file_name': 'molly20220415_.nwb', 'sort_group_id': 37, 'sort_interval_name': '02_SeqSession1', 'preproc_params_name': 'franklab_tetrode_hippocampus', 'team_name': 'SequenceTask', 'sorter': 'clusterless_thresholder', 'sorter_params_name': 'default', 'artifact_removed_interval_list_name': 'molly20220415_.nwb_02_SeqSession1_37_franklab_tetrode_hippocampus_ampl_1500_prop_075_1ms_artifact_removed_valid_times_track_time_only'}...\n"
     ]
    },
    {
     "data": {
      "application/vnd.jupyter.widget-view+json": {
       "model_id": "0923484cbf7c434fa9e4adf2ac01c4d0",
       "version_major": 2,
       "version_minor": 0
      },
      "text/plain": [
       "detect peaks using locally_exclusive:   0%|          | 0/1261 [00:00<?, ?it/s]"
      ]
     },
     "metadata": {},
     "output_type": "display_data"
    },
    {
     "name": "stderr",
     "output_type": "stream",
     "text": [
      "[15:03:13][INFO] Spyglass: Saving sorting results...\n",
      "05-Dec-24 15:03:13 Saving sorting results...\n",
      "[15:03:13][INFO] Spyglass: Running spike sorting on {'nwb_file_name': 'molly20220415_.nwb', 'sort_group_id': 39, 'sort_interval_name': '02_SeqSession1', 'preproc_params_name': 'franklab_tetrode_hippocampus', 'team_name': 'SequenceTask', 'sorter': 'clusterless_thresholder', 'sorter_params_name': 'default', 'artifact_removed_interval_list_name': 'molly20220415_.nwb_02_SeqSession1_39_franklab_tetrode_hippocampus_ampl_1500_prop_075_1ms_artifact_removed_valid_times_track_time_only'}...\n",
      "05-Dec-24 15:03:13 Running spike sorting on {'nwb_file_name': 'molly20220415_.nwb', 'sort_group_id': 39, 'sort_interval_name': '02_SeqSession1', 'preproc_params_name': 'franklab_tetrode_hippocampus', 'team_name': 'SequenceTask', 'sorter': 'clusterless_thresholder', 'sorter_params_name': 'default', 'artifact_removed_interval_list_name': 'molly20220415_.nwb_02_SeqSession1_39_franklab_tetrode_hippocampus_ampl_1500_prop_075_1ms_artifact_removed_valid_times_track_time_only'}...\n"
     ]
    },
    {
     "data": {
      "application/vnd.jupyter.widget-view+json": {
       "model_id": "af64d86553b641f489139cd05d844a6a",
       "version_major": 2,
       "version_minor": 0
      },
      "text/plain": [
       "detect peaks using locally_exclusive:   0%|          | 0/1261 [00:00<?, ?it/s]"
      ]
     },
     "metadata": {},
     "output_type": "display_data"
    },
    {
     "name": "stderr",
     "output_type": "stream",
     "text": [
      "[15:03:18][INFO] Spyglass: Saving sorting results...\n",
      "05-Dec-24 15:03:18 Saving sorting results...\n",
      "[15:03:20][INFO] Spyglass: Running spike sorting on {'nwb_file_name': 'molly20220415_.nwb', 'sort_group_id': 43, 'sort_interval_name': '02_SeqSession1', 'preproc_params_name': 'franklab_tetrode_hippocampus', 'team_name': 'SequenceTask', 'sorter': 'clusterless_thresholder', 'sorter_params_name': 'default', 'artifact_removed_interval_list_name': 'molly20220415_.nwb_02_SeqSession1_43_franklab_tetrode_hippocampus_ampl_1500_prop_075_1ms_artifact_removed_valid_times_track_time_only'}...\n",
      "05-Dec-24 15:03:20 Running spike sorting on {'nwb_file_name': 'molly20220415_.nwb', 'sort_group_id': 43, 'sort_interval_name': '02_SeqSession1', 'preproc_params_name': 'franklab_tetrode_hippocampus', 'team_name': 'SequenceTask', 'sorter': 'clusterless_thresholder', 'sorter_params_name': 'default', 'artifact_removed_interval_list_name': 'molly20220415_.nwb_02_SeqSession1_43_franklab_tetrode_hippocampus_ampl_1500_prop_075_1ms_artifact_removed_valid_times_track_time_only'}...\n"
     ]
    },
    {
     "data": {
      "application/vnd.jupyter.widget-view+json": {
       "model_id": "a683f1bf23ed4e2bb1ec025ec19b23ee",
       "version_major": 2,
       "version_minor": 0
      },
      "text/plain": [
       "detect peaks using locally_exclusive:   0%|          | 0/1261 [00:00<?, ?it/s]"
      ]
     },
     "metadata": {},
     "output_type": "display_data"
    },
    {
     "name": "stderr",
     "output_type": "stream",
     "text": [
      "[15:03:23][INFO] Spyglass: Saving sorting results...\n",
      "05-Dec-24 15:03:23 Saving sorting results...\n",
      "[15:03:25][INFO] Spyglass: Running spike sorting on {'nwb_file_name': 'molly20220415_.nwb', 'sort_group_id': 46, 'sort_interval_name': '02_SeqSession1', 'preproc_params_name': 'franklab_tetrode_hippocampus', 'team_name': 'SequenceTask', 'sorter': 'clusterless_thresholder', 'sorter_params_name': 'default', 'artifact_removed_interval_list_name': 'molly20220415_.nwb_02_SeqSession1_46_franklab_tetrode_hippocampus_ampl_1500_prop_075_1ms_artifact_removed_valid_times_track_time_only'}...\n",
      "05-Dec-24 15:03:25 Running spike sorting on {'nwb_file_name': 'molly20220415_.nwb', 'sort_group_id': 46, 'sort_interval_name': '02_SeqSession1', 'preproc_params_name': 'franklab_tetrode_hippocampus', 'team_name': 'SequenceTask', 'sorter': 'clusterless_thresholder', 'sorter_params_name': 'default', 'artifact_removed_interval_list_name': 'molly20220415_.nwb_02_SeqSession1_46_franklab_tetrode_hippocampus_ampl_1500_prop_075_1ms_artifact_removed_valid_times_track_time_only'}...\n"
     ]
    },
    {
     "data": {
      "application/vnd.jupyter.widget-view+json": {
       "model_id": "546a45bef14947c5bc9930e1f51461e9",
       "version_major": 2,
       "version_minor": 0
      },
      "text/plain": [
       "detect peaks using locally_exclusive:   0%|          | 0/1261 [00:00<?, ?it/s]"
      ]
     },
     "metadata": {},
     "output_type": "display_data"
    },
    {
     "name": "stderr",
     "output_type": "stream",
     "text": [
      "[15:03:28][INFO] Spyglass: Saving sorting results...\n",
      "05-Dec-24 15:03:28 Saving sorting results...\n",
      "[15:03:30][INFO] Spyglass: Running spike sorting on {'nwb_file_name': 'molly20220415_.nwb', 'sort_group_id': 50, 'sort_interval_name': '02_SeqSession1', 'preproc_params_name': 'franklab_tetrode_hippocampus', 'team_name': 'SequenceTask', 'sorter': 'clusterless_thresholder', 'sorter_params_name': 'default', 'artifact_removed_interval_list_name': 'molly20220415_.nwb_02_SeqSession1_50_franklab_tetrode_hippocampus_ampl_1500_prop_075_1ms_artifact_removed_valid_times_track_time_only'}...\n",
      "05-Dec-24 15:03:30 Running spike sorting on {'nwb_file_name': 'molly20220415_.nwb', 'sort_group_id': 50, 'sort_interval_name': '02_SeqSession1', 'preproc_params_name': 'franklab_tetrode_hippocampus', 'team_name': 'SequenceTask', 'sorter': 'clusterless_thresholder', 'sorter_params_name': 'default', 'artifact_removed_interval_list_name': 'molly20220415_.nwb_02_SeqSession1_50_franklab_tetrode_hippocampus_ampl_1500_prop_075_1ms_artifact_removed_valid_times_track_time_only'}...\n"
     ]
    },
    {
     "data": {
      "application/vnd.jupyter.widget-view+json": {
       "model_id": "7bf0364f86464665879a7dece7b84478",
       "version_major": 2,
       "version_minor": 0
      },
      "text/plain": [
       "detect peaks using locally_exclusive:   0%|          | 0/1261 [00:00<?, ?it/s]"
      ]
     },
     "metadata": {},
     "output_type": "display_data"
    },
    {
     "name": "stderr",
     "output_type": "stream",
     "text": [
      "[15:03:33][INFO] Spyglass: Saving sorting results...\n",
      "05-Dec-24 15:03:33 Saving sorting results...\n",
      "[15:03:35][INFO] Spyglass: Running spike sorting on {'nwb_file_name': 'molly20220415_.nwb', 'sort_group_id': 53, 'sort_interval_name': '02_SeqSession1', 'preproc_params_name': 'franklab_tetrode_hippocampus', 'team_name': 'SequenceTask', 'sorter': 'clusterless_thresholder', 'sorter_params_name': 'default', 'artifact_removed_interval_list_name': 'molly20220415_.nwb_02_SeqSession1_53_franklab_tetrode_hippocampus_ampl_1500_prop_075_1ms_artifact_removed_valid_times_track_time_only'}...\n",
      "05-Dec-24 15:03:35 Running spike sorting on {'nwb_file_name': 'molly20220415_.nwb', 'sort_group_id': 53, 'sort_interval_name': '02_SeqSession1', 'preproc_params_name': 'franklab_tetrode_hippocampus', 'team_name': 'SequenceTask', 'sorter': 'clusterless_thresholder', 'sorter_params_name': 'default', 'artifact_removed_interval_list_name': 'molly20220415_.nwb_02_SeqSession1_53_franklab_tetrode_hippocampus_ampl_1500_prop_075_1ms_artifact_removed_valid_times_track_time_only'}...\n"
     ]
    },
    {
     "data": {
      "application/vnd.jupyter.widget-view+json": {
       "model_id": "0cf885b29ac84c85a1d47182fa1fa389",
       "version_major": 2,
       "version_minor": 0
      },
      "text/plain": [
       "detect peaks using locally_exclusive:   0%|          | 0/1261 [00:00<?, ?it/s]"
      ]
     },
     "metadata": {},
     "output_type": "display_data"
    },
    {
     "name": "stderr",
     "output_type": "stream",
     "text": [
      "[15:03:39][INFO] Spyglass: Saving sorting results...\n",
      "05-Dec-24 15:03:39 Saving sorting results...\n",
      "[15:03:39][INFO] Spyglass: Running spike sorting on {'nwb_file_name': 'molly20220415_.nwb', 'sort_group_id': 55, 'sort_interval_name': '02_SeqSession1', 'preproc_params_name': 'franklab_tetrode_hippocampus', 'team_name': 'SequenceTask', 'sorter': 'clusterless_thresholder', 'sorter_params_name': 'default', 'artifact_removed_interval_list_name': 'molly20220415_.nwb_02_SeqSession1_55_franklab_tetrode_hippocampus_ampl_1500_prop_075_1ms_artifact_removed_valid_times_track_time_only'}...\n",
      "05-Dec-24 15:03:39 Running spike sorting on {'nwb_file_name': 'molly20220415_.nwb', 'sort_group_id': 55, 'sort_interval_name': '02_SeqSession1', 'preproc_params_name': 'franklab_tetrode_hippocampus', 'team_name': 'SequenceTask', 'sorter': 'clusterless_thresholder', 'sorter_params_name': 'default', 'artifact_removed_interval_list_name': 'molly20220415_.nwb_02_SeqSession1_55_franklab_tetrode_hippocampus_ampl_1500_prop_075_1ms_artifact_removed_valid_times_track_time_only'}...\n"
     ]
    },
    {
     "data": {
      "application/vnd.jupyter.widget-view+json": {
       "model_id": "ebf8af4644eb480c8ce82466f50249f6",
       "version_major": 2,
       "version_minor": 0
      },
      "text/plain": [
       "detect peaks using locally_exclusive:   0%|          | 0/1261 [00:00<?, ?it/s]"
      ]
     },
     "metadata": {},
     "output_type": "display_data"
    },
    {
     "name": "stderr",
     "output_type": "stream",
     "text": [
      "[15:03:43][INFO] Spyglass: Saving sorting results...\n",
      "05-Dec-24 15:03:43 Saving sorting results...\n",
      "[15:03:43][INFO] Spyglass: Running spike sorting on {'nwb_file_name': 'molly20220415_.nwb', 'sort_group_id': 61, 'sort_interval_name': '02_SeqSession1', 'preproc_params_name': 'franklab_tetrode_hippocampus', 'team_name': 'SequenceTask', 'sorter': 'clusterless_thresholder', 'sorter_params_name': 'default', 'artifact_removed_interval_list_name': 'molly20220415_.nwb_02_SeqSession1_61_franklab_tetrode_hippocampus_ampl_1500_prop_075_1ms_artifact_removed_valid_times_track_time_only'}...\n",
      "05-Dec-24 15:03:43 Running spike sorting on {'nwb_file_name': 'molly20220415_.nwb', 'sort_group_id': 61, 'sort_interval_name': '02_SeqSession1', 'preproc_params_name': 'franklab_tetrode_hippocampus', 'team_name': 'SequenceTask', 'sorter': 'clusterless_thresholder', 'sorter_params_name': 'default', 'artifact_removed_interval_list_name': 'molly20220415_.nwb_02_SeqSession1_61_franklab_tetrode_hippocampus_ampl_1500_prop_075_1ms_artifact_removed_valid_times_track_time_only'}...\n"
     ]
    },
    {
     "data": {
      "application/vnd.jupyter.widget-view+json": {
       "model_id": "31886f8d098547bb8edef676f7a27424",
       "version_major": 2,
       "version_minor": 0
      },
      "text/plain": [
       "detect peaks using locally_exclusive:   0%|          | 0/1261 [00:00<?, ?it/s]"
      ]
     },
     "metadata": {},
     "output_type": "display_data"
    },
    {
     "name": "stderr",
     "output_type": "stream",
     "text": [
      "[15:03:46][INFO] Spyglass: Saving sorting results...\n",
      "05-Dec-24 15:03:46 Saving sorting results...\n",
      "[15:04:32][INFO] Spyglass: Found 1 accepted units\n",
      "05-Dec-24 15:04:32 Found 1 accepted units\n",
      "[15:04:35][INFO] Spyglass: Writing new NWB file molly20220415_00ZA26H7Y0.nwb\n",
      "05-Dec-24 15:04:35 Writing new NWB file molly20220415_00ZA26H7Y0.nwb\n",
      "[15:04:39][INFO] Spyglass: Found 1 accepted units\n",
      "05-Dec-24 15:04:39 Found 1 accepted units\n",
      "[15:04:40][INFO] Spyglass: Writing new NWB file molly20220415_0FOX8Y4OON.nwb\n",
      "05-Dec-24 15:04:40 Writing new NWB file molly20220415_0FOX8Y4OON.nwb\n",
      "[15:04:44][INFO] Spyglass: Found 1 accepted units\n",
      "05-Dec-24 15:04:44 Found 1 accepted units\n",
      "[15:04:45][INFO] Spyglass: Writing new NWB file molly20220415_KE6WY1Z0YO.nwb\n",
      "05-Dec-24 15:04:45 Writing new NWB file molly20220415_KE6WY1Z0YO.nwb\n",
      "[15:04:51][INFO] Spyglass: Found 1 accepted units\n",
      "05-Dec-24 15:04:51 Found 1 accepted units\n",
      "[15:04:52][INFO] Spyglass: Writing new NWB file molly20220415_JFMZU2Q2BA.nwb\n",
      "05-Dec-24 15:04:52 Writing new NWB file molly20220415_JFMZU2Q2BA.nwb\n",
      "[15:04:55][INFO] Spyglass: Found 1 accepted units\n",
      "05-Dec-24 15:04:55 Found 1 accepted units\n",
      "[15:04:56][INFO] Spyglass: Writing new NWB file molly20220415_NEVG5D4K5I.nwb\n",
      "05-Dec-24 15:04:56 Writing new NWB file molly20220415_NEVG5D4K5I.nwb\n",
      "[15:05:00][INFO] Spyglass: Found 1 accepted units\n",
      "05-Dec-24 15:05:00 Found 1 accepted units\n",
      "[15:05:01][INFO] Spyglass: Writing new NWB file molly20220415_7U0V0SFMHH.nwb\n",
      "05-Dec-24 15:05:01 Writing new NWB file molly20220415_7U0V0SFMHH.nwb\n",
      "[15:05:05][INFO] Spyglass: Found 1 accepted units\n",
      "05-Dec-24 15:05:05 Found 1 accepted units\n",
      "[15:05:06][INFO] Spyglass: Writing new NWB file molly20220415_1Q2MRGVEWD.nwb\n",
      "05-Dec-24 15:05:06 Writing new NWB file molly20220415_1Q2MRGVEWD.nwb\n",
      "[15:05:09][INFO] Spyglass: Found 1 accepted units\n",
      "05-Dec-24 15:05:09 Found 1 accepted units\n",
      "[15:05:11][INFO] Spyglass: Writing new NWB file molly20220415_M1KWZ3PC4K.nwb\n",
      "05-Dec-24 15:05:11 Writing new NWB file molly20220415_M1KWZ3PC4K.nwb\n",
      "[15:05:14][INFO] Spyglass: Found 1 accepted units\n",
      "05-Dec-24 15:05:14 Found 1 accepted units\n",
      "[15:05:15][INFO] Spyglass: Writing new NWB file molly20220415_LGOFKZ9KKI.nwb\n",
      "05-Dec-24 15:05:15 Writing new NWB file molly20220415_LGOFKZ9KKI.nwb\n"
     ]
    },
    {
     "data": {
      "application/vnd.jupyter.widget-view+json": {
       "model_id": "3e0cafb24c6c48be828d8155711b9652",
       "version_major": 2,
       "version_minor": 0
      },
      "text/plain": [
       "extract waveforms memmap:   0%|          | 0/1 [00:00<?, ?it/s]"
      ]
     },
     "metadata": {},
     "output_type": "display_data"
    },
    {
     "name": "stderr",
     "output_type": "stream",
     "text": [
      "[15:05:24][INFO] Spyglass: Writing new NWB file molly20220415_LLUZFJ9UGM.nwb\n",
      "05-Dec-24 15:05:24 Writing new NWB file molly20220415_LLUZFJ9UGM.nwb\n"
     ]
    },
    {
     "data": {
      "application/vnd.jupyter.widget-view+json": {
       "model_id": "ed0c2793abfd46d1aea1111e10700507",
       "version_major": 2,
       "version_minor": 0
      },
      "text/plain": [
       "extract waveforms memmap:   0%|          | 0/1 [00:00<?, ?it/s]"
      ]
     },
     "metadata": {},
     "output_type": "display_data"
    },
    {
     "name": "stderr",
     "output_type": "stream",
     "text": [
      "[15:05:33][INFO] Spyglass: Writing new NWB file molly20220415_H6TMP5ONGN.nwb\n",
      "05-Dec-24 15:05:33 Writing new NWB file molly20220415_H6TMP5ONGN.nwb\n"
     ]
    },
    {
     "data": {
      "application/vnd.jupyter.widget-view+json": {
       "model_id": "9ac9389c82e24959999e64545e6a5e76",
       "version_major": 2,
       "version_minor": 0
      },
      "text/plain": [
       "extract waveforms memmap:   0%|          | 0/1 [00:00<?, ?it/s]"
      ]
     },
     "metadata": {},
     "output_type": "display_data"
    },
    {
     "name": "stderr",
     "output_type": "stream",
     "text": [
      "[15:05:41][INFO] Spyglass: Writing new NWB file molly20220415_BP9PE4AM0T.nwb\n",
      "05-Dec-24 15:05:41 Writing new NWB file molly20220415_BP9PE4AM0T.nwb\n"
     ]
    },
    {
     "data": {
      "application/vnd.jupyter.widget-view+json": {
       "model_id": "50da1c83cf65410a8b4acf7226d89ca6",
       "version_major": 2,
       "version_minor": 0
      },
      "text/plain": [
       "extract waveforms memmap:   0%|          | 0/1 [00:00<?, ?it/s]"
      ]
     },
     "metadata": {},
     "output_type": "display_data"
    },
    {
     "name": "stderr",
     "output_type": "stream",
     "text": [
      "[15:05:48][INFO] Spyglass: Writing new NWB file molly20220415_XSGMP933SZ.nwb\n",
      "05-Dec-24 15:05:48 Writing new NWB file molly20220415_XSGMP933SZ.nwb\n"
     ]
    },
    {
     "data": {
      "application/vnd.jupyter.widget-view+json": {
       "model_id": "c28b43fdfe5f44119515f86d40bd828f",
       "version_major": 2,
       "version_minor": 0
      },
      "text/plain": [
       "extract waveforms memmap:   0%|          | 0/1 [00:00<?, ?it/s]"
      ]
     },
     "metadata": {},
     "output_type": "display_data"
    },
    {
     "name": "stderr",
     "output_type": "stream",
     "text": [
      "[15:05:55][INFO] Spyglass: Writing new NWB file molly20220415_I6EE0YYPQ8.nwb\n",
      "05-Dec-24 15:05:55 Writing new NWB file molly20220415_I6EE0YYPQ8.nwb\n"
     ]
    },
    {
     "data": {
      "application/vnd.jupyter.widget-view+json": {
       "model_id": "d1d4ea37c09f4ef5831897dedb062d76",
       "version_major": 2,
       "version_minor": 0
      },
      "text/plain": [
       "extract waveforms memmap:   0%|          | 0/1 [00:00<?, ?it/s]"
      ]
     },
     "metadata": {},
     "output_type": "display_data"
    },
    {
     "name": "stderr",
     "output_type": "stream",
     "text": [
      "[15:06:02][INFO] Spyglass: Writing new NWB file molly20220415_QOKK3LV9WQ.nwb\n",
      "05-Dec-24 15:06:02 Writing new NWB file molly20220415_QOKK3LV9WQ.nwb\n"
     ]
    },
    {
     "data": {
      "application/vnd.jupyter.widget-view+json": {
       "model_id": "5ade1525875f45d2a5379024952cef18",
       "version_major": 2,
       "version_minor": 0
      },
      "text/plain": [
       "extract waveforms memmap:   0%|          | 0/1 [00:00<?, ?it/s]"
      ]
     },
     "metadata": {},
     "output_type": "display_data"
    },
    {
     "name": "stderr",
     "output_type": "stream",
     "text": [
      "[15:06:09][INFO] Spyglass: Writing new NWB file molly20220415_JTLZEN5I2L.nwb\n",
      "05-Dec-24 15:06:09 Writing new NWB file molly20220415_JTLZEN5I2L.nwb\n"
     ]
    },
    {
     "data": {
      "application/vnd.jupyter.widget-view+json": {
       "model_id": "5a0fd97b8e2943899a7e8aa51a09ae8a",
       "version_major": 2,
       "version_minor": 0
      },
      "text/plain": [
       "extract waveforms memmap:   0%|          | 0/1 [00:00<?, ?it/s]"
      ]
     },
     "metadata": {},
     "output_type": "display_data"
    },
    {
     "name": "stderr",
     "output_type": "stream",
     "text": [
      "[15:06:14][INFO] Spyglass: Writing new NWB file molly20220415_50U2O70DF4.nwb\n",
      "05-Dec-24 15:06:14 Writing new NWB file molly20220415_50U2O70DF4.nwb\n"
     ]
    },
    {
     "data": {
      "application/vnd.jupyter.widget-view+json": {
       "model_id": "21f374f9cdd04b19bc88dac24b282607",
       "version_major": 2,
       "version_minor": 0
      },
      "text/plain": [
       "extract waveforms memmap:   0%|          | 0/1 [00:00<?, ?it/s]"
      ]
     },
     "metadata": {},
     "output_type": "display_data"
    },
    {
     "name": "stderr",
     "output_type": "stream",
     "text": [
      "[15:06:23][INFO] Spyglass: Writing new NWB file molly20220415_ZMZGSI266A.nwb\n",
      "05-Dec-24 15:06:23 Writing new NWB file molly20220415_ZMZGSI266A.nwb\n",
      "[15:06:28][INFO] Spyglass: Writing new NWB file molly20220415_HNU8TEMOJM.nwb\n",
      "05-Dec-24 15:06:28 Writing new NWB file molly20220415_HNU8TEMOJM.nwb\n",
      "[15:06:37][INFO] Spyglass: Writing new NWB file molly20220415_W8SIHQ2K9Y.nwb\n",
      "05-Dec-24 15:06:37 Writing new NWB file molly20220415_W8SIHQ2K9Y.nwb\n",
      "[15:06:47][INFO] Spyglass: Writing new NWB file molly20220415_C23S3IRCG5.nwb\n",
      "05-Dec-24 15:06:47 Writing new NWB file molly20220415_C23S3IRCG5.nwb\n",
      "[15:06:57][INFO] Spyglass: Writing new NWB file molly20220415_6B5G8O1F6O.nwb\n",
      "05-Dec-24 15:06:57 Writing new NWB file molly20220415_6B5G8O1F6O.nwb\n",
      "[15:07:06][INFO] Spyglass: Writing new NWB file molly20220415_UW7X4EH0AH.nwb\n",
      "05-Dec-24 15:07:06 Writing new NWB file molly20220415_UW7X4EH0AH.nwb\n",
      "[15:07:16][INFO] Spyglass: Writing new NWB file molly20220415_XBWIBTRXN0.nwb\n",
      "05-Dec-24 15:07:16 Writing new NWB file molly20220415_XBWIBTRXN0.nwb\n",
      "[15:07:28][INFO] Spyglass: Writing new NWB file molly20220415_L7RRIGAYLS.nwb\n",
      "05-Dec-24 15:07:28 Writing new NWB file molly20220415_L7RRIGAYLS.nwb\n",
      "[15:07:38][INFO] Spyglass: Writing new NWB file molly20220415_26M43UPHOG.nwb\n",
      "05-Dec-24 15:07:38 Writing new NWB file molly20220415_26M43UPHOG.nwb\n",
      "[15:07:47][INFO] Spyglass: Writing new NWB file molly20220415_851GA7BKXF.nwb\n",
      "05-Dec-24 15:07:47 Writing new NWB file molly20220415_851GA7BKXF.nwb\n",
      "[15:08:10][WARNING] Spyglass: Deprecation: this class has been moved out of spyglass.common.common_position\n",
      "\tIntervalLinearizedPosition -> spyglass.linearization.v0.main.IntervalLinearizedPosition\n",
      "Please use the new location.\n",
      "05-Dec-24 15:08:10 Deprecation: this class has been moved out of spyglass.common.common_position\n",
      "\tIntervalLinearizedPosition -> spyglass.linearization.v0.main.IntervalLinearizedPosition\n",
      "Please use the new location.\n"
     ]
    },
    {
     "name": "stdout",
     "output_type": "stream",
     "text": [
      "final shape of marks and linear position df is:\n",
      "(594331, 4, 25)\n",
      "(594331, 4)\n",
      "0\n",
      "inserting into IntervalList\n",
      "done inserting into IntervalList\n",
      "2\n",
      "inserting into IntervalList\n",
      "done inserting into IntervalList\n",
      "3\n",
      "inserting into IntervalList\n",
      "done inserting into IntervalList\n",
      "6\n",
      "inserting into IntervalList\n",
      "done inserting into IntervalList\n",
      "7\n",
      "inserting into IntervalList\n",
      "done inserting into IntervalList\n",
      "9\n",
      "inserting into IntervalList\n",
      "done inserting into IntervalList\n",
      "12\n",
      "inserting into IntervalList\n",
      "done inserting into IntervalList\n",
      "15\n",
      "inserting into IntervalList\n",
      "done inserting into IntervalList\n",
      "17\n",
      "inserting into IntervalList\n",
      "done inserting into IntervalList\n",
      "18\n",
      "inserting into IntervalList\n",
      "done inserting into IntervalList\n",
      "24\n",
      "inserting into IntervalList\n",
      "done inserting into IntervalList\n",
      "25\n",
      "inserting into IntervalList\n",
      "done inserting into IntervalList\n",
      "27\n",
      "inserting into IntervalList\n",
      "done inserting into IntervalList\n",
      "28\n",
      "inserting into IntervalList\n",
      "done inserting into IntervalList\n",
      "34\n",
      "inserting into IntervalList\n",
      "done inserting into IntervalList\n",
      "37\n",
      "inserting into IntervalList\n",
      "done inserting into IntervalList\n",
      "39\n",
      "inserting into IntervalList\n",
      "done inserting into IntervalList\n",
      "40\n",
      "inserting into IntervalList\n",
      "done inserting into IntervalList\n",
      "41\n",
      "inserting into IntervalList\n",
      "done inserting into IntervalList\n",
      "43\n",
      "inserting into IntervalList\n",
      "done inserting into IntervalList\n",
      "46\n",
      "inserting into IntervalList\n",
      "done inserting into IntervalList\n",
      "50\n",
      "inserting into IntervalList\n",
      "done inserting into IntervalList\n",
      "53\n",
      "inserting into IntervalList\n",
      "done inserting into IntervalList\n",
      "55\n",
      "inserting into IntervalList\n",
      "done inserting into IntervalList\n",
      "61\n",
      "inserting into IntervalList\n",
      "done inserting into IntervalList\n"
     ]
    },
    {
     "name": "stderr",
     "output_type": "stream",
     "text": [
      "[15:08:26][INFO] Spyglass: Running spike sorting on {'nwb_file_name': 'molly20220415_.nwb', 'sort_group_id': 34, 'sort_interval_name': '04_Seq2Session1', 'preproc_params_name': 'franklab_tetrode_hippocampus', 'team_name': 'SequenceTask', 'sorter': 'clusterless_thresholder', 'sorter_params_name': 'default', 'artifact_removed_interval_list_name': 'molly20220415_.nwb_04_Seq2Session1_34_franklab_tetrode_hippocampus_ampl_1500_prop_075_1ms_artifact_removed_valid_times_track_time_only'}...\n",
      "05-Dec-24 15:08:26 Running spike sorting on {'nwb_file_name': 'molly20220415_.nwb', 'sort_group_id': 34, 'sort_interval_name': '04_Seq2Session1', 'preproc_params_name': 'franklab_tetrode_hippocampus', 'team_name': 'SequenceTask', 'sorter': 'clusterless_thresholder', 'sorter_params_name': 'default', 'artifact_removed_interval_list_name': 'molly20220415_.nwb_04_Seq2Session1_34_franklab_tetrode_hippocampus_ampl_1500_prop_075_1ms_artifact_removed_valid_times_track_time_only'}...\n"
     ]
    },
    {
     "data": {
      "application/vnd.jupyter.widget-view+json": {
       "model_id": "c8b336e0e4be444d91316b475e6ca036",
       "version_major": 2,
       "version_minor": 0
      },
      "text/plain": [
       "detect peaks using locally_exclusive:   0%|          | 0/2119 [00:00<?, ?it/s]"
      ]
     },
     "metadata": {},
     "output_type": "display_data"
    },
    {
     "name": "stderr",
     "output_type": "stream",
     "text": [
      "[15:08:30][INFO] Spyglass: Saving sorting results...\n",
      "05-Dec-24 15:08:30 Saving sorting results...\n",
      "[15:08:34][INFO] Spyglass: Running spike sorting on {'nwb_file_name': 'molly20220415_.nwb', 'sort_group_id': 37, 'sort_interval_name': '04_Seq2Session1', 'preproc_params_name': 'franklab_tetrode_hippocampus', 'team_name': 'SequenceTask', 'sorter': 'clusterless_thresholder', 'sorter_params_name': 'default', 'artifact_removed_interval_list_name': 'molly20220415_.nwb_04_Seq2Session1_37_franklab_tetrode_hippocampus_ampl_1500_prop_075_1ms_artifact_removed_valid_times_track_time_only'}...\n",
      "05-Dec-24 15:08:34 Running spike sorting on {'nwb_file_name': 'molly20220415_.nwb', 'sort_group_id': 37, 'sort_interval_name': '04_Seq2Session1', 'preproc_params_name': 'franklab_tetrode_hippocampus', 'team_name': 'SequenceTask', 'sorter': 'clusterless_thresholder', 'sorter_params_name': 'default', 'artifact_removed_interval_list_name': 'molly20220415_.nwb_04_Seq2Session1_37_franklab_tetrode_hippocampus_ampl_1500_prop_075_1ms_artifact_removed_valid_times_track_time_only'}...\n"
     ]
    },
    {
     "data": {
      "application/vnd.jupyter.widget-view+json": {
       "model_id": "61ef53ea6260455e975dcd2da5596fba",
       "version_major": 2,
       "version_minor": 0
      },
      "text/plain": [
       "detect peaks using locally_exclusive:   0%|          | 0/2119 [00:00<?, ?it/s]"
      ]
     },
     "metadata": {},
     "output_type": "display_data"
    },
    {
     "name": "stderr",
     "output_type": "stream",
     "text": [
      "[15:08:38][INFO] Spyglass: Saving sorting results...\n",
      "05-Dec-24 15:08:38 Saving sorting results...\n",
      "[15:08:42][INFO] Spyglass: Running spike sorting on {'nwb_file_name': 'molly20220415_.nwb', 'sort_group_id': 39, 'sort_interval_name': '04_Seq2Session1', 'preproc_params_name': 'franklab_tetrode_hippocampus', 'team_name': 'SequenceTask', 'sorter': 'clusterless_thresholder', 'sorter_params_name': 'default', 'artifact_removed_interval_list_name': 'molly20220415_.nwb_04_Seq2Session1_39_franklab_tetrode_hippocampus_ampl_1500_prop_075_1ms_artifact_removed_valid_times_track_time_only'}...\n",
      "05-Dec-24 15:08:42 Running spike sorting on {'nwb_file_name': 'molly20220415_.nwb', 'sort_group_id': 39, 'sort_interval_name': '04_Seq2Session1', 'preproc_params_name': 'franklab_tetrode_hippocampus', 'team_name': 'SequenceTask', 'sorter': 'clusterless_thresholder', 'sorter_params_name': 'default', 'artifact_removed_interval_list_name': 'molly20220415_.nwb_04_Seq2Session1_39_franklab_tetrode_hippocampus_ampl_1500_prop_075_1ms_artifact_removed_valid_times_track_time_only'}...\n"
     ]
    },
    {
     "data": {
      "application/vnd.jupyter.widget-view+json": {
       "model_id": "e3adc9825c8d4aa38d2d817ae98a2009",
       "version_major": 2,
       "version_minor": 0
      },
      "text/plain": [
       "detect peaks using locally_exclusive:   0%|          | 0/2119 [00:00<?, ?it/s]"
      ]
     },
     "metadata": {},
     "output_type": "display_data"
    },
    {
     "name": "stderr",
     "output_type": "stream",
     "text": [
      "[15:08:47][INFO] Spyglass: Saving sorting results...\n",
      "05-Dec-24 15:08:47 Saving sorting results...\n",
      "[15:08:50][INFO] Spyglass: Running spike sorting on {'nwb_file_name': 'molly20220415_.nwb', 'sort_group_id': 43, 'sort_interval_name': '04_Seq2Session1', 'preproc_params_name': 'franklab_tetrode_hippocampus', 'team_name': 'SequenceTask', 'sorter': 'clusterless_thresholder', 'sorter_params_name': 'default', 'artifact_removed_interval_list_name': 'molly20220415_.nwb_04_Seq2Session1_43_franklab_tetrode_hippocampus_ampl_1500_prop_075_1ms_artifact_removed_valid_times_track_time_only'}...\n",
      "05-Dec-24 15:08:50 Running spike sorting on {'nwb_file_name': 'molly20220415_.nwb', 'sort_group_id': 43, 'sort_interval_name': '04_Seq2Session1', 'preproc_params_name': 'franklab_tetrode_hippocampus', 'team_name': 'SequenceTask', 'sorter': 'clusterless_thresholder', 'sorter_params_name': 'default', 'artifact_removed_interval_list_name': 'molly20220415_.nwb_04_Seq2Session1_43_franklab_tetrode_hippocampus_ampl_1500_prop_075_1ms_artifact_removed_valid_times_track_time_only'}...\n"
     ]
    },
    {
     "data": {
      "application/vnd.jupyter.widget-view+json": {
       "model_id": "484a742b09ab417286f42fa26a4fce44",
       "version_major": 2,
       "version_minor": 0
      },
      "text/plain": [
       "detect peaks using locally_exclusive:   0%|          | 0/2119 [00:00<?, ?it/s]"
      ]
     },
     "metadata": {},
     "output_type": "display_data"
    },
    {
     "name": "stderr",
     "output_type": "stream",
     "text": [
      "[15:08:55][INFO] Spyglass: Saving sorting results...\n",
      "05-Dec-24 15:08:55 Saving sorting results...\n",
      "[15:08:59][INFO] Spyglass: Running spike sorting on {'nwb_file_name': 'molly20220415_.nwb', 'sort_group_id': 46, 'sort_interval_name': '04_Seq2Session1', 'preproc_params_name': 'franklab_tetrode_hippocampus', 'team_name': 'SequenceTask', 'sorter': 'clusterless_thresholder', 'sorter_params_name': 'default', 'artifact_removed_interval_list_name': 'molly20220415_.nwb_04_Seq2Session1_46_franklab_tetrode_hippocampus_ampl_1500_prop_075_1ms_artifact_removed_valid_times_track_time_only'}...\n",
      "05-Dec-24 15:08:59 Running spike sorting on {'nwb_file_name': 'molly20220415_.nwb', 'sort_group_id': 46, 'sort_interval_name': '04_Seq2Session1', 'preproc_params_name': 'franklab_tetrode_hippocampus', 'team_name': 'SequenceTask', 'sorter': 'clusterless_thresholder', 'sorter_params_name': 'default', 'artifact_removed_interval_list_name': 'molly20220415_.nwb_04_Seq2Session1_46_franklab_tetrode_hippocampus_ampl_1500_prop_075_1ms_artifact_removed_valid_times_track_time_only'}...\n"
     ]
    },
    {
     "data": {
      "application/vnd.jupyter.widget-view+json": {
       "model_id": "84867bc48b8942e6888b7a791af1f455",
       "version_major": 2,
       "version_minor": 0
      },
      "text/plain": [
       "detect peaks using locally_exclusive:   0%|          | 0/2119 [00:00<?, ?it/s]"
      ]
     },
     "metadata": {},
     "output_type": "display_data"
    },
    {
     "name": "stderr",
     "output_type": "stream",
     "text": [
      "[15:09:04][INFO] Spyglass: Saving sorting results...\n",
      "05-Dec-24 15:09:04 Saving sorting results...\n",
      "[15:09:07][INFO] Spyglass: Running spike sorting on {'nwb_file_name': 'molly20220415_.nwb', 'sort_group_id': 50, 'sort_interval_name': '04_Seq2Session1', 'preproc_params_name': 'franklab_tetrode_hippocampus', 'team_name': 'SequenceTask', 'sorter': 'clusterless_thresholder', 'sorter_params_name': 'default', 'artifact_removed_interval_list_name': 'molly20220415_.nwb_04_Seq2Session1_50_franklab_tetrode_hippocampus_ampl_1500_prop_075_1ms_artifact_removed_valid_times_track_time_only'}...\n",
      "05-Dec-24 15:09:07 Running spike sorting on {'nwb_file_name': 'molly20220415_.nwb', 'sort_group_id': 50, 'sort_interval_name': '04_Seq2Session1', 'preproc_params_name': 'franklab_tetrode_hippocampus', 'team_name': 'SequenceTask', 'sorter': 'clusterless_thresholder', 'sorter_params_name': 'default', 'artifact_removed_interval_list_name': 'molly20220415_.nwb_04_Seq2Session1_50_franklab_tetrode_hippocampus_ampl_1500_prop_075_1ms_artifact_removed_valid_times_track_time_only'}...\n"
     ]
    },
    {
     "data": {
      "application/vnd.jupyter.widget-view+json": {
       "model_id": "69f0c8a2466d4a4dac030eb6be18b9b3",
       "version_major": 2,
       "version_minor": 0
      },
      "text/plain": [
       "detect peaks using locally_exclusive:   0%|          | 0/2119 [00:00<?, ?it/s]"
      ]
     },
     "metadata": {},
     "output_type": "display_data"
    },
    {
     "name": "stderr",
     "output_type": "stream",
     "text": [
      "[15:09:12][INFO] Spyglass: Saving sorting results...\n",
      "05-Dec-24 15:09:12 Saving sorting results...\n",
      "[15:09:15][INFO] Spyglass: Running spike sorting on {'nwb_file_name': 'molly20220415_.nwb', 'sort_group_id': 53, 'sort_interval_name': '04_Seq2Session1', 'preproc_params_name': 'franklab_tetrode_hippocampus', 'team_name': 'SequenceTask', 'sorter': 'clusterless_thresholder', 'sorter_params_name': 'default', 'artifact_removed_interval_list_name': 'molly20220415_.nwb_04_Seq2Session1_53_franklab_tetrode_hippocampus_ampl_1500_prop_075_1ms_artifact_removed_valid_times_track_time_only'}...\n",
      "05-Dec-24 15:09:15 Running spike sorting on {'nwb_file_name': 'molly20220415_.nwb', 'sort_group_id': 53, 'sort_interval_name': '04_Seq2Session1', 'preproc_params_name': 'franklab_tetrode_hippocampus', 'team_name': 'SequenceTask', 'sorter': 'clusterless_thresholder', 'sorter_params_name': 'default', 'artifact_removed_interval_list_name': 'molly20220415_.nwb_04_Seq2Session1_53_franklab_tetrode_hippocampus_ampl_1500_prop_075_1ms_artifact_removed_valid_times_track_time_only'}...\n"
     ]
    },
    {
     "data": {
      "application/vnd.jupyter.widget-view+json": {
       "model_id": "514819d53dc3485e9566990f7a2ae775",
       "version_major": 2,
       "version_minor": 0
      },
      "text/plain": [
       "detect peaks using locally_exclusive:   0%|          | 0/2119 [00:00<?, ?it/s]"
      ]
     },
     "metadata": {},
     "output_type": "display_data"
    },
    {
     "name": "stderr",
     "output_type": "stream",
     "text": [
      "[15:09:22][INFO] Spyglass: Saving sorting results...\n",
      "05-Dec-24 15:09:22 Saving sorting results...\n",
      "[15:09:25][INFO] Spyglass: Running spike sorting on {'nwb_file_name': 'molly20220415_.nwb', 'sort_group_id': 55, 'sort_interval_name': '04_Seq2Session1', 'preproc_params_name': 'franklab_tetrode_hippocampus', 'team_name': 'SequenceTask', 'sorter': 'clusterless_thresholder', 'sorter_params_name': 'default', 'artifact_removed_interval_list_name': 'molly20220415_.nwb_04_Seq2Session1_55_franklab_tetrode_hippocampus_ampl_1500_prop_075_1ms_artifact_removed_valid_times_track_time_only'}...\n",
      "05-Dec-24 15:09:25 Running spike sorting on {'nwb_file_name': 'molly20220415_.nwb', 'sort_group_id': 55, 'sort_interval_name': '04_Seq2Session1', 'preproc_params_name': 'franklab_tetrode_hippocampus', 'team_name': 'SequenceTask', 'sorter': 'clusterless_thresholder', 'sorter_params_name': 'default', 'artifact_removed_interval_list_name': 'molly20220415_.nwb_04_Seq2Session1_55_franklab_tetrode_hippocampus_ampl_1500_prop_075_1ms_artifact_removed_valid_times_track_time_only'}...\n"
     ]
    },
    {
     "data": {
      "application/vnd.jupyter.widget-view+json": {
       "model_id": "b8cde6ff5da243ff8141dc01c27b1d3f",
       "version_major": 2,
       "version_minor": 0
      },
      "text/plain": [
       "detect peaks using locally_exclusive:   0%|          | 0/2119 [00:00<?, ?it/s]"
      ]
     },
     "metadata": {},
     "output_type": "display_data"
    },
    {
     "name": "stderr",
     "output_type": "stream",
     "text": [
      "[15:09:32][INFO] Spyglass: Saving sorting results...\n",
      "05-Dec-24 15:09:32 Saving sorting results...\n",
      "[15:09:32][INFO] Spyglass: Running spike sorting on {'nwb_file_name': 'molly20220415_.nwb', 'sort_group_id': 61, 'sort_interval_name': '04_Seq2Session1', 'preproc_params_name': 'franklab_tetrode_hippocampus', 'team_name': 'SequenceTask', 'sorter': 'clusterless_thresholder', 'sorter_params_name': 'default', 'artifact_removed_interval_list_name': 'molly20220415_.nwb_04_Seq2Session1_61_franklab_tetrode_hippocampus_ampl_1500_prop_075_1ms_artifact_removed_valid_times_track_time_only'}...\n",
      "05-Dec-24 15:09:32 Running spike sorting on {'nwb_file_name': 'molly20220415_.nwb', 'sort_group_id': 61, 'sort_interval_name': '04_Seq2Session1', 'preproc_params_name': 'franklab_tetrode_hippocampus', 'team_name': 'SequenceTask', 'sorter': 'clusterless_thresholder', 'sorter_params_name': 'default', 'artifact_removed_interval_list_name': 'molly20220415_.nwb_04_Seq2Session1_61_franklab_tetrode_hippocampus_ampl_1500_prop_075_1ms_artifact_removed_valid_times_track_time_only'}...\n"
     ]
    },
    {
     "data": {
      "application/vnd.jupyter.widget-view+json": {
       "model_id": "9e1b292cf35243938e0f4bd03fb25ffc",
       "version_major": 2,
       "version_minor": 0
      },
      "text/plain": [
       "detect peaks using locally_exclusive:   0%|          | 0/2119 [00:00<?, ?it/s]"
      ]
     },
     "metadata": {},
     "output_type": "display_data"
    },
    {
     "name": "stderr",
     "output_type": "stream",
     "text": [
      "[15:09:37][INFO] Spyglass: Saving sorting results...\n",
      "05-Dec-24 15:09:37 Saving sorting results...\n",
      "[15:10:22][INFO] Spyglass: Found 1 accepted units\n",
      "05-Dec-24 15:10:22 Found 1 accepted units\n",
      "[15:10:24][INFO] Spyglass: Writing new NWB file molly20220415_FHM9PCETE4.nwb\n",
      "05-Dec-24 15:10:24 Writing new NWB file molly20220415_FHM9PCETE4.nwb\n",
      "[15:10:27][INFO] Spyglass: Found 1 accepted units\n",
      "05-Dec-24 15:10:27 Found 1 accepted units\n",
      "[15:10:28][INFO] Spyglass: Writing new NWB file molly20220415_YOL4KLG46I.nwb\n",
      "05-Dec-24 15:10:28 Writing new NWB file molly20220415_YOL4KLG46I.nwb\n",
      "[15:10:32][INFO] Spyglass: Found 1 accepted units\n",
      "05-Dec-24 15:10:32 Found 1 accepted units\n",
      "[15:10:34][INFO] Spyglass: Writing new NWB file molly20220415_PXOKU3WVCK.nwb\n",
      "05-Dec-24 15:10:34 Writing new NWB file molly20220415_PXOKU3WVCK.nwb\n",
      "[15:10:40][INFO] Spyglass: Found 1 accepted units\n",
      "05-Dec-24 15:10:40 Found 1 accepted units\n",
      "[15:10:41][INFO] Spyglass: Writing new NWB file molly20220415_FWH3NSQTUL.nwb\n",
      "05-Dec-24 15:10:41 Writing new NWB file molly20220415_FWH3NSQTUL.nwb\n",
      "[15:10:44][INFO] Spyglass: Found 1 accepted units\n",
      "05-Dec-24 15:10:44 Found 1 accepted units\n",
      "[15:10:46][INFO] Spyglass: Writing new NWB file molly20220415_LA9QT90RGO.nwb\n",
      "05-Dec-24 15:10:46 Writing new NWB file molly20220415_LA9QT90RGO.nwb\n",
      "[15:10:49][INFO] Spyglass: Found 1 accepted units\n",
      "05-Dec-24 15:10:49 Found 1 accepted units\n",
      "[15:10:50][INFO] Spyglass: Writing new NWB file molly20220415_QRV0TABQ02.nwb\n",
      "05-Dec-24 15:10:50 Writing new NWB file molly20220415_QRV0TABQ02.nwb\n",
      "[15:10:54][INFO] Spyglass: Found 1 accepted units\n",
      "05-Dec-24 15:10:54 Found 1 accepted units\n",
      "[15:10:55][INFO] Spyglass: Writing new NWB file molly20220415_KXVP3I7DRM.nwb\n",
      "05-Dec-24 15:10:55 Writing new NWB file molly20220415_KXVP3I7DRM.nwb\n",
      "[15:10:59][INFO] Spyglass: Found 1 accepted units\n",
      "05-Dec-24 15:10:59 Found 1 accepted units\n",
      "[15:11:00][INFO] Spyglass: Writing new NWB file molly20220415_XTW6E2WHHU.nwb\n",
      "05-Dec-24 15:11:00 Writing new NWB file molly20220415_XTW6E2WHHU.nwb\n",
      "[15:11:04][INFO] Spyglass: Found 1 accepted units\n",
      "05-Dec-24 15:11:04 Found 1 accepted units\n",
      "[15:11:06][INFO] Spyglass: Writing new NWB file molly20220415_KHOXUB9XI9.nwb\n",
      "05-Dec-24 15:11:06 Writing new NWB file molly20220415_KHOXUB9XI9.nwb\n"
     ]
    },
    {
     "data": {
      "application/vnd.jupyter.widget-view+json": {
       "model_id": "fcf5a236266b42ae868a16499a8496dc",
       "version_major": 2,
       "version_minor": 0
      },
      "text/plain": [
       "extract waveforms memmap:   0%|          | 0/1 [00:00<?, ?it/s]"
      ]
     },
     "metadata": {},
     "output_type": "display_data"
    },
    {
     "name": "stderr",
     "output_type": "stream",
     "text": [
      "[15:11:16][INFO] Spyglass: Writing new NWB file molly20220415_WKY440ACE4.nwb\n",
      "05-Dec-24 15:11:16 Writing new NWB file molly20220415_WKY440ACE4.nwb\n"
     ]
    },
    {
     "data": {
      "application/vnd.jupyter.widget-view+json": {
       "model_id": "635925c2e2854b5fa3f541fccedc8252",
       "version_major": 2,
       "version_minor": 0
      },
      "text/plain": [
       "extract waveforms memmap:   0%|          | 0/1 [00:00<?, ?it/s]"
      ]
     },
     "metadata": {},
     "output_type": "display_data"
    },
    {
     "name": "stderr",
     "output_type": "stream",
     "text": [
      "[15:11:27][INFO] Spyglass: Writing new NWB file molly20220415_FW2Z3Z8TLO.nwb\n",
      "05-Dec-24 15:11:27 Writing new NWB file molly20220415_FW2Z3Z8TLO.nwb\n"
     ]
    },
    {
     "data": {
      "application/vnd.jupyter.widget-view+json": {
       "model_id": "012070d5cefb4f13b60fefe248d7dae1",
       "version_major": 2,
       "version_minor": 0
      },
      "text/plain": [
       "extract waveforms memmap:   0%|          | 0/1 [00:00<?, ?it/s]"
      ]
     },
     "metadata": {},
     "output_type": "display_data"
    },
    {
     "name": "stderr",
     "output_type": "stream",
     "text": [
      "[15:11:37][INFO] Spyglass: Writing new NWB file molly20220415_2ONV4D7V20.nwb\n",
      "05-Dec-24 15:11:37 Writing new NWB file molly20220415_2ONV4D7V20.nwb\n"
     ]
    },
    {
     "data": {
      "application/vnd.jupyter.widget-view+json": {
       "model_id": "87adf7941c894d37a09fa38ac00b4115",
       "version_major": 2,
       "version_minor": 0
      },
      "text/plain": [
       "extract waveforms memmap:   0%|          | 0/1 [00:00<?, ?it/s]"
      ]
     },
     "metadata": {},
     "output_type": "display_data"
    },
    {
     "name": "stderr",
     "output_type": "stream",
     "text": [
      "[15:11:45][INFO] Spyglass: Writing new NWB file molly20220415_TDC1VCCOPQ.nwb\n",
      "05-Dec-24 15:11:45 Writing new NWB file molly20220415_TDC1VCCOPQ.nwb\n"
     ]
    },
    {
     "data": {
      "application/vnd.jupyter.widget-view+json": {
       "model_id": "1abae41e270f40f58444d47cded34da0",
       "version_major": 2,
       "version_minor": 0
      },
      "text/plain": [
       "extract waveforms memmap:   0%|          | 0/1 [00:00<?, ?it/s]"
      ]
     },
     "metadata": {},
     "output_type": "display_data"
    },
    {
     "name": "stderr",
     "output_type": "stream",
     "text": [
      "[15:11:52][INFO] Spyglass: Writing new NWB file molly20220415_70NZC0CN00.nwb\n",
      "05-Dec-24 15:11:52 Writing new NWB file molly20220415_70NZC0CN00.nwb\n"
     ]
    },
    {
     "data": {
      "application/vnd.jupyter.widget-view+json": {
       "model_id": "3bf013e2c2124e0db6e4cc645e1793e4",
       "version_major": 2,
       "version_minor": 0
      },
      "text/plain": [
       "extract waveforms memmap:   0%|          | 0/1 [00:00<?, ?it/s]"
      ]
     },
     "metadata": {},
     "output_type": "display_data"
    },
    {
     "name": "stderr",
     "output_type": "stream",
     "text": [
      "[15:12:01][INFO] Spyglass: Writing new NWB file molly20220415_K7HVN15D5F.nwb\n",
      "05-Dec-24 15:12:01 Writing new NWB file molly20220415_K7HVN15D5F.nwb\n"
     ]
    },
    {
     "data": {
      "application/vnd.jupyter.widget-view+json": {
       "model_id": "6c1b43905287477c8f88e6649c4364ec",
       "version_major": 2,
       "version_minor": 0
      },
      "text/plain": [
       "extract waveforms memmap:   0%|          | 0/1 [00:00<?, ?it/s]"
      ]
     },
     "metadata": {},
     "output_type": "display_data"
    },
    {
     "name": "stderr",
     "output_type": "stream",
     "text": [
      "[15:12:09][INFO] Spyglass: Writing new NWB file molly20220415_601MGCC23P.nwb\n",
      "05-Dec-24 15:12:09 Writing new NWB file molly20220415_601MGCC23P.nwb\n"
     ]
    },
    {
     "data": {
      "application/vnd.jupyter.widget-view+json": {
       "model_id": "345999470d914692bec9be0253ce7041",
       "version_major": 2,
       "version_minor": 0
      },
      "text/plain": [
       "extract waveforms memmap:   0%|          | 0/1 [00:00<?, ?it/s]"
      ]
     },
     "metadata": {},
     "output_type": "display_data"
    },
    {
     "name": "stderr",
     "output_type": "stream",
     "text": [
      "[15:12:16][INFO] Spyglass: Writing new NWB file molly20220415_BV760IVDQA.nwb\n",
      "05-Dec-24 15:12:16 Writing new NWB file molly20220415_BV760IVDQA.nwb\n"
     ]
    },
    {
     "data": {
      "application/vnd.jupyter.widget-view+json": {
       "model_id": "7428fb8165c94e31a938ad1a617ba6d3",
       "version_major": 2,
       "version_minor": 0
      },
      "text/plain": [
       "extract waveforms memmap:   0%|          | 0/1 [00:00<?, ?it/s]"
      ]
     },
     "metadata": {},
     "output_type": "display_data"
    },
    {
     "name": "stderr",
     "output_type": "stream",
     "text": [
      "[15:12:26][INFO] Spyglass: Writing new NWB file molly20220415_K04WPK0JGT.nwb\n",
      "05-Dec-24 15:12:26 Writing new NWB file molly20220415_K04WPK0JGT.nwb\n",
      "[15:12:30][INFO] Spyglass: Writing new NWB file molly20220415_CZER5HQ93T.nwb\n",
      "05-Dec-24 15:12:30 Writing new NWB file molly20220415_CZER5HQ93T.nwb\n",
      "[15:12:44][INFO] Spyglass: Writing new NWB file molly20220415_HZW9PU5GVT.nwb\n",
      "05-Dec-24 15:12:44 Writing new NWB file molly20220415_HZW9PU5GVT.nwb\n",
      "[15:12:57][INFO] Spyglass: Writing new NWB file molly20220415_KKBAET5HCW.nwb\n",
      "05-Dec-24 15:12:57 Writing new NWB file molly20220415_KKBAET5HCW.nwb\n",
      "[15:13:10][INFO] Spyglass: Writing new NWB file molly20220415_UZR2X3QQHI.nwb\n",
      "05-Dec-24 15:13:10 Writing new NWB file molly20220415_UZR2X3QQHI.nwb\n",
      "[15:13:23][INFO] Spyglass: Writing new NWB file molly20220415_2T7CE8NAN6.nwb\n",
      "05-Dec-24 15:13:23 Writing new NWB file molly20220415_2T7CE8NAN6.nwb\n",
      "[15:13:37][INFO] Spyglass: Writing new NWB file molly20220415_JLTD46EU84.nwb\n",
      "05-Dec-24 15:13:37 Writing new NWB file molly20220415_JLTD46EU84.nwb\n",
      "[15:13:50][INFO] Spyglass: Writing new NWB file molly20220415_FIJ53UTH9J.nwb\n",
      "05-Dec-24 15:13:50 Writing new NWB file molly20220415_FIJ53UTH9J.nwb\n",
      "[15:14:06][INFO] Spyglass: Writing new NWB file molly20220415_B1ITW4LGGB.nwb\n",
      "05-Dec-24 15:14:06 Writing new NWB file molly20220415_B1ITW4LGGB.nwb\n",
      "[15:14:19][INFO] Spyglass: Writing new NWB file molly20220415_SBZD7M3MZZ.nwb\n",
      "05-Dec-24 15:14:19 Writing new NWB file molly20220415_SBZD7M3MZZ.nwb\n",
      "[15:14:50][WARNING] Spyglass: Deprecation: this class has been moved out of spyglass.common.common_position\n",
      "\tIntervalLinearizedPosition -> spyglass.linearization.v0.main.IntervalLinearizedPosition\n",
      "Please use the new location.\n",
      "05-Dec-24 15:14:50 Deprecation: this class has been moved out of spyglass.common.common_position\n",
      "\tIntervalLinearizedPosition -> spyglass.linearization.v0.main.IntervalLinearizedPosition\n",
      "Please use the new location.\n"
     ]
    },
    {
     "name": "stdout",
     "output_type": "stream",
     "text": [
      "final shape of marks and linear position df is:\n",
      "(987648, 4, 25)\n",
      "(987648, 4)\n",
      "0\n",
      "inserting into IntervalList\n",
      "done inserting into IntervalList\n",
      "2\n",
      "inserting into IntervalList\n",
      "done inserting into IntervalList\n",
      "3\n",
      "inserting into IntervalList\n",
      "done inserting into IntervalList\n",
      "6\n",
      "inserting into IntervalList\n",
      "done inserting into IntervalList\n",
      "7\n",
      "inserting into IntervalList\n",
      "done inserting into IntervalList\n",
      "9\n",
      "inserting into IntervalList\n",
      "done inserting into IntervalList\n",
      "12\n",
      "inserting into IntervalList\n",
      "done inserting into IntervalList\n",
      "15\n",
      "inserting into IntervalList\n",
      "done inserting into IntervalList\n",
      "17\n",
      "inserting into IntervalList\n",
      "done inserting into IntervalList\n",
      "18\n",
      "inserting into IntervalList\n",
      "done inserting into IntervalList\n",
      "24\n",
      "inserting into IntervalList\n",
      "done inserting into IntervalList\n",
      "25\n",
      "inserting into IntervalList\n",
      "done inserting into IntervalList\n",
      "27\n",
      "inserting into IntervalList\n",
      "done inserting into IntervalList\n",
      "28\n",
      "inserting into IntervalList\n",
      "done inserting into IntervalList\n",
      "34\n",
      "inserting into IntervalList\n",
      "done inserting into IntervalList\n",
      "37\n",
      "inserting into IntervalList\n",
      "done inserting into IntervalList\n",
      "39\n",
      "inserting into IntervalList\n",
      "done inserting into IntervalList\n",
      "40\n",
      "inserting into IntervalList\n",
      "done inserting into IntervalList\n",
      "41\n",
      "inserting into IntervalList\n",
      "done inserting into IntervalList\n",
      "43\n",
      "inserting into IntervalList\n",
      "done inserting into IntervalList\n",
      "46\n",
      "inserting into IntervalList\n",
      "done inserting into IntervalList\n",
      "50\n",
      "inserting into IntervalList\n",
      "done inserting into IntervalList\n",
      "53\n",
      "inserting into IntervalList\n",
      "done inserting into IntervalList\n",
      "55\n",
      "inserting into IntervalList\n",
      "done inserting into IntervalList\n",
      "61\n",
      "inserting into IntervalList\n",
      "done inserting into IntervalList\n"
     ]
    },
    {
     "name": "stderr",
     "output_type": "stream",
     "text": [
      "[15:15:15][INFO] Spyglass: Running spike sorting on {'nwb_file_name': 'molly20220415_.nwb', 'sort_group_id': 34, 'sort_interval_name': '06_Seq2Session2', 'preproc_params_name': 'franklab_tetrode_hippocampus', 'team_name': 'SequenceTask', 'sorter': 'clusterless_thresholder', 'sorter_params_name': 'default', 'artifact_removed_interval_list_name': 'molly20220415_.nwb_06_Seq2Session2_34_franklab_tetrode_hippocampus_ampl_1500_prop_075_1ms_artifact_removed_valid_times_track_time_only'}...\n",
      "05-Dec-24 15:15:15 Running spike sorting on {'nwb_file_name': 'molly20220415_.nwb', 'sort_group_id': 34, 'sort_interval_name': '06_Seq2Session2', 'preproc_params_name': 'franklab_tetrode_hippocampus', 'team_name': 'SequenceTask', 'sorter': 'clusterless_thresholder', 'sorter_params_name': 'default', 'artifact_removed_interval_list_name': 'molly20220415_.nwb_06_Seq2Session2_34_franklab_tetrode_hippocampus_ampl_1500_prop_075_1ms_artifact_removed_valid_times_track_time_only'}...\n"
     ]
    },
    {
     "data": {
      "application/vnd.jupyter.widget-view+json": {
       "model_id": "d545fc3af3b147cdb8d0b3991a19274c",
       "version_major": 2,
       "version_minor": 0
      },
      "text/plain": [
       "detect peaks using locally_exclusive:   0%|          | 0/1994 [00:00<?, ?it/s]"
      ]
     },
     "metadata": {},
     "output_type": "display_data"
    },
    {
     "name": "stderr",
     "output_type": "stream",
     "text": [
      "[15:15:23][INFO] Spyglass: Saving sorting results...\n",
      "05-Dec-24 15:15:23 Saving sorting results...\n",
      "[15:15:26][INFO] Spyglass: Running spike sorting on {'nwb_file_name': 'molly20220415_.nwb', 'sort_group_id': 37, 'sort_interval_name': '06_Seq2Session2', 'preproc_params_name': 'franklab_tetrode_hippocampus', 'team_name': 'SequenceTask', 'sorter': 'clusterless_thresholder', 'sorter_params_name': 'default', 'artifact_removed_interval_list_name': 'molly20220415_.nwb_06_Seq2Session2_37_franklab_tetrode_hippocampus_ampl_1500_prop_075_1ms_artifact_removed_valid_times_track_time_only'}...\n",
      "05-Dec-24 15:15:26 Running spike sorting on {'nwb_file_name': 'molly20220415_.nwb', 'sort_group_id': 37, 'sort_interval_name': '06_Seq2Session2', 'preproc_params_name': 'franklab_tetrode_hippocampus', 'team_name': 'SequenceTask', 'sorter': 'clusterless_thresholder', 'sorter_params_name': 'default', 'artifact_removed_interval_list_name': 'molly20220415_.nwb_06_Seq2Session2_37_franklab_tetrode_hippocampus_ampl_1500_prop_075_1ms_artifact_removed_valid_times_track_time_only'}...\n"
     ]
    },
    {
     "data": {
      "application/vnd.jupyter.widget-view+json": {
       "model_id": "ccaf698a11164edeb9689b6e5678c3b8",
       "version_major": 2,
       "version_minor": 0
      },
      "text/plain": [
       "detect peaks using locally_exclusive:   0%|          | 0/1994 [00:00<?, ?it/s]"
      ]
     },
     "metadata": {},
     "output_type": "display_data"
    },
    {
     "name": "stderr",
     "output_type": "stream",
     "text": [
      "[15:15:29][INFO] Spyglass: Saving sorting results...\n",
      "05-Dec-24 15:15:29 Saving sorting results...\n",
      "[15:15:33][INFO] Spyglass: Running spike sorting on {'nwb_file_name': 'molly20220415_.nwb', 'sort_group_id': 39, 'sort_interval_name': '06_Seq2Session2', 'preproc_params_name': 'franklab_tetrode_hippocampus', 'team_name': 'SequenceTask', 'sorter': 'clusterless_thresholder', 'sorter_params_name': 'default', 'artifact_removed_interval_list_name': 'molly20220415_.nwb_06_Seq2Session2_39_franklab_tetrode_hippocampus_ampl_1500_prop_075_1ms_artifact_removed_valid_times_track_time_only'}...\n",
      "05-Dec-24 15:15:33 Running spike sorting on {'nwb_file_name': 'molly20220415_.nwb', 'sort_group_id': 39, 'sort_interval_name': '06_Seq2Session2', 'preproc_params_name': 'franklab_tetrode_hippocampus', 'team_name': 'SequenceTask', 'sorter': 'clusterless_thresholder', 'sorter_params_name': 'default', 'artifact_removed_interval_list_name': 'molly20220415_.nwb_06_Seq2Session2_39_franklab_tetrode_hippocampus_ampl_1500_prop_075_1ms_artifact_removed_valid_times_track_time_only'}...\n"
     ]
    },
    {
     "data": {
      "application/vnd.jupyter.widget-view+json": {
       "model_id": "cf06d3b799c2413ea10cd496c424f851",
       "version_major": 2,
       "version_minor": 0
      },
      "text/plain": [
       "detect peaks using locally_exclusive:   0%|          | 0/1994 [00:00<?, ?it/s]"
      ]
     },
     "metadata": {},
     "output_type": "display_data"
    },
    {
     "name": "stderr",
     "output_type": "stream",
     "text": [
      "[15:15:36][INFO] Spyglass: Saving sorting results...\n",
      "05-Dec-24 15:15:36 Saving sorting results...\n",
      "[15:15:37][INFO] Spyglass: Running spike sorting on {'nwb_file_name': 'molly20220415_.nwb', 'sort_group_id': 43, 'sort_interval_name': '06_Seq2Session2', 'preproc_params_name': 'franklab_tetrode_hippocampus', 'team_name': 'SequenceTask', 'sorter': 'clusterless_thresholder', 'sorter_params_name': 'default', 'artifact_removed_interval_list_name': 'molly20220415_.nwb_06_Seq2Session2_43_franklab_tetrode_hippocampus_ampl_1500_prop_075_1ms_artifact_removed_valid_times_track_time_only'}...\n",
      "05-Dec-24 15:15:37 Running spike sorting on {'nwb_file_name': 'molly20220415_.nwb', 'sort_group_id': 43, 'sort_interval_name': '06_Seq2Session2', 'preproc_params_name': 'franklab_tetrode_hippocampus', 'team_name': 'SequenceTask', 'sorter': 'clusterless_thresholder', 'sorter_params_name': 'default', 'artifact_removed_interval_list_name': 'molly20220415_.nwb_06_Seq2Session2_43_franklab_tetrode_hippocampus_ampl_1500_prop_075_1ms_artifact_removed_valid_times_track_time_only'}...\n"
     ]
    },
    {
     "data": {
      "application/vnd.jupyter.widget-view+json": {
       "model_id": "8d954e687d874f5eba849a882c1eb63d",
       "version_major": 2,
       "version_minor": 0
      },
      "text/plain": [
       "detect peaks using locally_exclusive:   0%|          | 0/1994 [00:00<?, ?it/s]"
      ]
     },
     "metadata": {},
     "output_type": "display_data"
    },
    {
     "name": "stderr",
     "output_type": "stream",
     "text": [
      "[15:15:42][INFO] Spyglass: Saving sorting results...\n",
      "05-Dec-24 15:15:42 Saving sorting results...\n",
      "[15:15:46][INFO] Spyglass: Running spike sorting on {'nwb_file_name': 'molly20220415_.nwb', 'sort_group_id': 46, 'sort_interval_name': '06_Seq2Session2', 'preproc_params_name': 'franklab_tetrode_hippocampus', 'team_name': 'SequenceTask', 'sorter': 'clusterless_thresholder', 'sorter_params_name': 'default', 'artifact_removed_interval_list_name': 'molly20220415_.nwb_06_Seq2Session2_46_franklab_tetrode_hippocampus_ampl_1500_prop_075_1ms_artifact_removed_valid_times_track_time_only'}...\n",
      "05-Dec-24 15:15:46 Running spike sorting on {'nwb_file_name': 'molly20220415_.nwb', 'sort_group_id': 46, 'sort_interval_name': '06_Seq2Session2', 'preproc_params_name': 'franklab_tetrode_hippocampus', 'team_name': 'SequenceTask', 'sorter': 'clusterless_thresholder', 'sorter_params_name': 'default', 'artifact_removed_interval_list_name': 'molly20220415_.nwb_06_Seq2Session2_46_franklab_tetrode_hippocampus_ampl_1500_prop_075_1ms_artifact_removed_valid_times_track_time_only'}...\n"
     ]
    },
    {
     "data": {
      "application/vnd.jupyter.widget-view+json": {
       "model_id": "efed48c67728405b9539f883dc56f0f6",
       "version_major": 2,
       "version_minor": 0
      },
      "text/plain": [
       "detect peaks using locally_exclusive:   0%|          | 0/1994 [00:00<?, ?it/s]"
      ]
     },
     "metadata": {},
     "output_type": "display_data"
    },
    {
     "name": "stderr",
     "output_type": "stream",
     "text": [
      "[15:15:49][INFO] Spyglass: Saving sorting results...\n",
      "05-Dec-24 15:15:49 Saving sorting results...\n",
      "[15:15:53][INFO] Spyglass: Running spike sorting on {'nwb_file_name': 'molly20220415_.nwb', 'sort_group_id': 50, 'sort_interval_name': '06_Seq2Session2', 'preproc_params_name': 'franklab_tetrode_hippocampus', 'team_name': 'SequenceTask', 'sorter': 'clusterless_thresholder', 'sorter_params_name': 'default', 'artifact_removed_interval_list_name': 'molly20220415_.nwb_06_Seq2Session2_50_franklab_tetrode_hippocampus_ampl_1500_prop_075_1ms_artifact_removed_valid_times_track_time_only'}...\n",
      "05-Dec-24 15:15:53 Running spike sorting on {'nwb_file_name': 'molly20220415_.nwb', 'sort_group_id': 50, 'sort_interval_name': '06_Seq2Session2', 'preproc_params_name': 'franklab_tetrode_hippocampus', 'team_name': 'SequenceTask', 'sorter': 'clusterless_thresholder', 'sorter_params_name': 'default', 'artifact_removed_interval_list_name': 'molly20220415_.nwb_06_Seq2Session2_50_franklab_tetrode_hippocampus_ampl_1500_prop_075_1ms_artifact_removed_valid_times_track_time_only'}...\n"
     ]
    },
    {
     "data": {
      "application/vnd.jupyter.widget-view+json": {
       "model_id": "5a8f15006c2f4f5d96061b87a8420f0b",
       "version_major": 2,
       "version_minor": 0
      },
      "text/plain": [
       "detect peaks using locally_exclusive:   0%|          | 0/1994 [00:00<?, ?it/s]"
      ]
     },
     "metadata": {},
     "output_type": "display_data"
    },
    {
     "name": "stderr",
     "output_type": "stream",
     "text": [
      "[15:15:56][INFO] Spyglass: Saving sorting results...\n",
      "05-Dec-24 15:15:56 Saving sorting results...\n",
      "[15:16:00][INFO] Spyglass: Running spike sorting on {'nwb_file_name': 'molly20220415_.nwb', 'sort_group_id': 53, 'sort_interval_name': '06_Seq2Session2', 'preproc_params_name': 'franklab_tetrode_hippocampus', 'team_name': 'SequenceTask', 'sorter': 'clusterless_thresholder', 'sorter_params_name': 'default', 'artifact_removed_interval_list_name': 'molly20220415_.nwb_06_Seq2Session2_53_franklab_tetrode_hippocampus_ampl_1500_prop_075_1ms_artifact_removed_valid_times_track_time_only'}...\n",
      "05-Dec-24 15:16:00 Running spike sorting on {'nwb_file_name': 'molly20220415_.nwb', 'sort_group_id': 53, 'sort_interval_name': '06_Seq2Session2', 'preproc_params_name': 'franklab_tetrode_hippocampus', 'team_name': 'SequenceTask', 'sorter': 'clusterless_thresholder', 'sorter_params_name': 'default', 'artifact_removed_interval_list_name': 'molly20220415_.nwb_06_Seq2Session2_53_franklab_tetrode_hippocampus_ampl_1500_prop_075_1ms_artifact_removed_valid_times_track_time_only'}...\n"
     ]
    },
    {
     "data": {
      "application/vnd.jupyter.widget-view+json": {
       "model_id": "9c8a5055ab89466cb4beee43fae8297e",
       "version_major": 2,
       "version_minor": 0
      },
      "text/plain": [
       "detect peaks using locally_exclusive:   0%|          | 0/1994 [00:00<?, ?it/s]"
      ]
     },
     "metadata": {},
     "output_type": "display_data"
    },
    {
     "name": "stderr",
     "output_type": "stream",
     "text": [
      "[15:16:03][INFO] Spyglass: Saving sorting results...\n",
      "05-Dec-24 15:16:03 Saving sorting results...\n",
      "[15:16:04][INFO] Spyglass: Running spike sorting on {'nwb_file_name': 'molly20220415_.nwb', 'sort_group_id': 55, 'sort_interval_name': '06_Seq2Session2', 'preproc_params_name': 'franklab_tetrode_hippocampus', 'team_name': 'SequenceTask', 'sorter': 'clusterless_thresholder', 'sorter_params_name': 'default', 'artifact_removed_interval_list_name': 'molly20220415_.nwb_06_Seq2Session2_55_franklab_tetrode_hippocampus_ampl_1500_prop_075_1ms_artifact_removed_valid_times_track_time_only'}...\n",
      "05-Dec-24 15:16:04 Running spike sorting on {'nwb_file_name': 'molly20220415_.nwb', 'sort_group_id': 55, 'sort_interval_name': '06_Seq2Session2', 'preproc_params_name': 'franklab_tetrode_hippocampus', 'team_name': 'SequenceTask', 'sorter': 'clusterless_thresholder', 'sorter_params_name': 'default', 'artifact_removed_interval_list_name': 'molly20220415_.nwb_06_Seq2Session2_55_franklab_tetrode_hippocampus_ampl_1500_prop_075_1ms_artifact_removed_valid_times_track_time_only'}...\n"
     ]
    },
    {
     "data": {
      "application/vnd.jupyter.widget-view+json": {
       "model_id": "c8063af249ed4333ae1cd40102e89f89",
       "version_major": 2,
       "version_minor": 0
      },
      "text/plain": [
       "detect peaks using locally_exclusive:   0%|          | 0/1994 [00:00<?, ?it/s]"
      ]
     },
     "metadata": {},
     "output_type": "display_data"
    },
    {
     "name": "stderr",
     "output_type": "stream",
     "text": [
      "[15:16:09][INFO] Spyglass: Saving sorting results...\n",
      "05-Dec-24 15:16:09 Saving sorting results...\n",
      "[15:16:12][INFO] Spyglass: Running spike sorting on {'nwb_file_name': 'molly20220415_.nwb', 'sort_group_id': 61, 'sort_interval_name': '06_Seq2Session2', 'preproc_params_name': 'franklab_tetrode_hippocampus', 'team_name': 'SequenceTask', 'sorter': 'clusterless_thresholder', 'sorter_params_name': 'default', 'artifact_removed_interval_list_name': 'molly20220415_.nwb_06_Seq2Session2_61_franklab_tetrode_hippocampus_ampl_1500_prop_075_1ms_artifact_removed_valid_times_track_time_only'}...\n",
      "05-Dec-24 15:16:12 Running spike sorting on {'nwb_file_name': 'molly20220415_.nwb', 'sort_group_id': 61, 'sort_interval_name': '06_Seq2Session2', 'preproc_params_name': 'franklab_tetrode_hippocampus', 'team_name': 'SequenceTask', 'sorter': 'clusterless_thresholder', 'sorter_params_name': 'default', 'artifact_removed_interval_list_name': 'molly20220415_.nwb_06_Seq2Session2_61_franklab_tetrode_hippocampus_ampl_1500_prop_075_1ms_artifact_removed_valid_times_track_time_only'}...\n"
     ]
    },
    {
     "data": {
      "application/vnd.jupyter.widget-view+json": {
       "model_id": "753a0baba3c84ebb839389efa445abd9",
       "version_major": 2,
       "version_minor": 0
      },
      "text/plain": [
       "detect peaks using locally_exclusive:   0%|          | 0/1994 [00:00<?, ?it/s]"
      ]
     },
     "metadata": {},
     "output_type": "display_data"
    },
    {
     "name": "stderr",
     "output_type": "stream",
     "text": [
      "[15:16:15][INFO] Spyglass: Saving sorting results...\n",
      "05-Dec-24 15:16:15 Saving sorting results...\n",
      "[15:17:08][INFO] Spyglass: Found 1 accepted units\n",
      "05-Dec-24 15:17:08 Found 1 accepted units\n",
      "[15:17:14][INFO] Spyglass: Writing new NWB file molly20220415_IMPG6D29XC.nwb\n",
      "05-Dec-24 15:17:14 Writing new NWB file molly20220415_IMPG6D29XC.nwb\n",
      "[15:17:18][INFO] Spyglass: Found 1 accepted units\n",
      "05-Dec-24 15:17:18 Found 1 accepted units\n",
      "[15:17:20][INFO] Spyglass: Writing new NWB file molly20220415_95108M0TLM.nwb\n",
      "05-Dec-24 15:17:20 Writing new NWB file molly20220415_95108M0TLM.nwb\n",
      "[15:17:23][INFO] Spyglass: Found 1 accepted units\n",
      "05-Dec-24 15:17:23 Found 1 accepted units\n",
      "[15:17:25][INFO] Spyglass: Writing new NWB file molly20220415_SNWS09978U.nwb\n",
      "05-Dec-24 15:17:25 Writing new NWB file molly20220415_SNWS09978U.nwb\n",
      "[15:17:29][INFO] Spyglass: Found 1 accepted units\n",
      "05-Dec-24 15:17:29 Found 1 accepted units\n",
      "[15:17:31][INFO] Spyglass: Writing new NWB file molly20220415_FBNJBOW0P1.nwb\n",
      "05-Dec-24 15:17:31 Writing new NWB file molly20220415_FBNJBOW0P1.nwb\n",
      "[15:17:36][INFO] Spyglass: Found 1 accepted units\n",
      "05-Dec-24 15:17:36 Found 1 accepted units\n",
      "[15:17:38][INFO] Spyglass: Writing new NWB file molly20220415_7UIBZMITXG.nwb\n",
      "05-Dec-24 15:17:38 Writing new NWB file molly20220415_7UIBZMITXG.nwb\n",
      "[15:17:41][INFO] Spyglass: Found 1 accepted units\n",
      "05-Dec-24 15:17:41 Found 1 accepted units\n",
      "[15:17:42][INFO] Spyglass: Writing new NWB file molly20220415_JO424B46HO.nwb\n",
      "05-Dec-24 15:17:42 Writing new NWB file molly20220415_JO424B46HO.nwb\n",
      "[15:17:45][INFO] Spyglass: Found 1 accepted units\n",
      "05-Dec-24 15:17:45 Found 1 accepted units\n",
      "[15:17:46][INFO] Spyglass: Writing new NWB file molly20220415_ZDCEYT49GL.nwb\n",
      "05-Dec-24 15:17:46 Writing new NWB file molly20220415_ZDCEYT49GL.nwb\n",
      "[15:17:50][INFO] Spyglass: Found 1 accepted units\n",
      "05-Dec-24 15:17:50 Found 1 accepted units\n",
      "[15:17:51][INFO] Spyglass: Writing new NWB file molly20220415_3NLT9XR167.nwb\n",
      "05-Dec-24 15:17:51 Writing new NWB file molly20220415_3NLT9XR167.nwb\n",
      "[15:17:54][INFO] Spyglass: Found 1 accepted units\n",
      "05-Dec-24 15:17:54 Found 1 accepted units\n",
      "[15:17:55][INFO] Spyglass: Writing new NWB file molly20220415_9223JJ7D9U.nwb\n",
      "05-Dec-24 15:17:55 Writing new NWB file molly20220415_9223JJ7D9U.nwb\n"
     ]
    },
    {
     "data": {
      "application/vnd.jupyter.widget-view+json": {
       "model_id": "d997312752fd47f8b4647325aee0df7e",
       "version_major": 2,
       "version_minor": 0
      },
      "text/plain": [
       "extract waveforms memmap:   0%|          | 0/1 [00:00<?, ?it/s]"
      ]
     },
     "metadata": {},
     "output_type": "display_data"
    },
    {
     "name": "stderr",
     "output_type": "stream",
     "text": [
      "[15:18:05][INFO] Spyglass: Writing new NWB file molly20220415_FHEA2M26GU.nwb\n",
      "05-Dec-24 15:18:05 Writing new NWB file molly20220415_FHEA2M26GU.nwb\n"
     ]
    },
    {
     "data": {
      "application/vnd.jupyter.widget-view+json": {
       "model_id": "98e028900d794577810d75836f2822a5",
       "version_major": 2,
       "version_minor": 0
      },
      "text/plain": [
       "extract waveforms memmap:   0%|          | 0/1 [00:00<?, ?it/s]"
      ]
     },
     "metadata": {},
     "output_type": "display_data"
    },
    {
     "name": "stderr",
     "output_type": "stream",
     "text": [
      "[15:18:13][INFO] Spyglass: Writing new NWB file molly20220415_5N7W7R6ASB.nwb\n",
      "05-Dec-24 15:18:13 Writing new NWB file molly20220415_5N7W7R6ASB.nwb\n"
     ]
    },
    {
     "data": {
      "application/vnd.jupyter.widget-view+json": {
       "model_id": "ecc85d17fee949889543a9016c2aadb2",
       "version_major": 2,
       "version_minor": 0
      },
      "text/plain": [
       "extract waveforms memmap:   0%|          | 0/1 [00:00<?, ?it/s]"
      ]
     },
     "metadata": {},
     "output_type": "display_data"
    },
    {
     "name": "stderr",
     "output_type": "stream",
     "text": [
      "[15:18:21][INFO] Spyglass: Writing new NWB file molly20220415_HXQZ5QIGJR.nwb\n",
      "05-Dec-24 15:18:21 Writing new NWB file molly20220415_HXQZ5QIGJR.nwb\n"
     ]
    },
    {
     "data": {
      "application/vnd.jupyter.widget-view+json": {
       "model_id": "f53d347f627541e9b5ef73286f7d634d",
       "version_major": 2,
       "version_minor": 0
      },
      "text/plain": [
       "extract waveforms memmap:   0%|          | 0/1 [00:00<?, ?it/s]"
      ]
     },
     "metadata": {},
     "output_type": "display_data"
    },
    {
     "name": "stderr",
     "output_type": "stream",
     "text": [
      "[15:18:30][INFO] Spyglass: Writing new NWB file molly20220415_AD9BHGZ0GO.nwb\n",
      "05-Dec-24 15:18:30 Writing new NWB file molly20220415_AD9BHGZ0GO.nwb\n"
     ]
    },
    {
     "data": {
      "application/vnd.jupyter.widget-view+json": {
       "model_id": "9fa99c8751174382a8ab603a83c400b0",
       "version_major": 2,
       "version_minor": 0
      },
      "text/plain": [
       "extract waveforms memmap:   0%|          | 0/1 [00:00<?, ?it/s]"
      ]
     },
     "metadata": {},
     "output_type": "display_data"
    },
    {
     "name": "stderr",
     "output_type": "stream",
     "text": [
      "[15:18:36][INFO] Spyglass: Writing new NWB file molly20220415_K3295N0TWS.nwb\n",
      "05-Dec-24 15:18:36 Writing new NWB file molly20220415_K3295N0TWS.nwb\n"
     ]
    },
    {
     "data": {
      "application/vnd.jupyter.widget-view+json": {
       "model_id": "18221c2582cc4862b282f59f2b4e1730",
       "version_major": 2,
       "version_minor": 0
      },
      "text/plain": [
       "extract waveforms memmap:   0%|          | 0/1 [00:00<?, ?it/s]"
      ]
     },
     "metadata": {},
     "output_type": "display_data"
    },
    {
     "name": "stderr",
     "output_type": "stream",
     "text": [
      "[15:18:44][INFO] Spyglass: Writing new NWB file molly20220415_TDJ43AGELO.nwb\n",
      "05-Dec-24 15:18:44 Writing new NWB file molly20220415_TDJ43AGELO.nwb\n"
     ]
    },
    {
     "data": {
      "application/vnd.jupyter.widget-view+json": {
       "model_id": "cc59b0df5b13453ebfe6f2403f00b313",
       "version_major": 2,
       "version_minor": 0
      },
      "text/plain": [
       "extract waveforms memmap:   0%|          | 0/1 [00:00<?, ?it/s]"
      ]
     },
     "metadata": {},
     "output_type": "display_data"
    },
    {
     "name": "stderr",
     "output_type": "stream",
     "text": [
      "[15:18:51][INFO] Spyglass: Writing new NWB file molly20220415_R31Q6FO5RQ.nwb\n",
      "05-Dec-24 15:18:51 Writing new NWB file molly20220415_R31Q6FO5RQ.nwb\n"
     ]
    },
    {
     "data": {
      "application/vnd.jupyter.widget-view+json": {
       "model_id": "746d644d517445a1a45659ae20546d9a",
       "version_major": 2,
       "version_minor": 0
      },
      "text/plain": [
       "extract waveforms memmap:   0%|          | 0/1 [00:00<?, ?it/s]"
      ]
     },
     "metadata": {},
     "output_type": "display_data"
    },
    {
     "name": "stderr",
     "output_type": "stream",
     "text": [
      "[15:18:58][INFO] Spyglass: Writing new NWB file molly20220415_HABMDZJPCJ.nwb\n",
      "05-Dec-24 15:18:58 Writing new NWB file molly20220415_HABMDZJPCJ.nwb\n"
     ]
    },
    {
     "data": {
      "application/vnd.jupyter.widget-view+json": {
       "model_id": "1cb3ab95f75c4b1989c173350408dfaf",
       "version_major": 2,
       "version_minor": 0
      },
      "text/plain": [
       "extract waveforms memmap:   0%|          | 0/1 [00:00<?, ?it/s]"
      ]
     },
     "metadata": {},
     "output_type": "display_data"
    },
    {
     "name": "stderr",
     "output_type": "stream",
     "text": [
      "[15:19:04][INFO] Spyglass: Writing new NWB file molly20220415_QQXSKFVW3J.nwb\n",
      "05-Dec-24 15:19:04 Writing new NWB file molly20220415_QQXSKFVW3J.nwb\n",
      "[15:19:09][INFO] Spyglass: Writing new NWB file molly20220415_1T1XL3ICXG.nwb\n",
      "05-Dec-24 15:19:09 Writing new NWB file molly20220415_1T1XL3ICXG.nwb\n",
      "[15:19:22][INFO] Spyglass: Writing new NWB file molly20220415_R0T57JNDB9.nwb\n",
      "05-Dec-24 15:19:22 Writing new NWB file molly20220415_R0T57JNDB9.nwb\n",
      "[15:19:35][INFO] Spyglass: Writing new NWB file molly20220415_Q13GTDERM1.nwb\n",
      "05-Dec-24 15:19:35 Writing new NWB file molly20220415_Q13GTDERM1.nwb\n",
      "[15:19:47][INFO] Spyglass: Writing new NWB file molly20220415_2TI8FLXF0V.nwb\n",
      "05-Dec-24 15:19:47 Writing new NWB file molly20220415_2TI8FLXF0V.nwb\n",
      "[15:19:59][INFO] Spyglass: Writing new NWB file molly20220415_MD0RWOFBC5.nwb\n",
      "05-Dec-24 15:19:59 Writing new NWB file molly20220415_MD0RWOFBC5.nwb\n",
      "[15:20:11][INFO] Spyglass: Writing new NWB file molly20220415_EPH6HIREX2.nwb\n",
      "05-Dec-24 15:20:11 Writing new NWB file molly20220415_EPH6HIREX2.nwb\n",
      "[15:20:24][INFO] Spyglass: Writing new NWB file molly20220415_WG3SX9YBT1.nwb\n",
      "05-Dec-24 15:20:24 Writing new NWB file molly20220415_WG3SX9YBT1.nwb\n",
      "[15:20:36][INFO] Spyglass: Writing new NWB file molly20220415_IB6HDGB9ZE.nwb\n",
      "05-Dec-24 15:20:36 Writing new NWB file molly20220415_IB6HDGB9ZE.nwb\n",
      "[15:20:51][INFO] Spyglass: Writing new NWB file molly20220415_R1QCPE3CRM.nwb\n",
      "05-Dec-24 15:20:51 Writing new NWB file molly20220415_R1QCPE3CRM.nwb\n",
      "[15:21:23][WARNING] Spyglass: Deprecation: this class has been moved out of spyglass.common.common_position\n",
      "\tIntervalLinearizedPosition -> spyglass.linearization.v0.main.IntervalLinearizedPosition\n",
      "Please use the new location.\n",
      "05-Dec-24 15:21:23 Deprecation: this class has been moved out of spyglass.common.common_position\n",
      "\tIntervalLinearizedPosition -> spyglass.linearization.v0.main.IntervalLinearizedPosition\n",
      "Please use the new location.\n"
     ]
    },
    {
     "name": "stdout",
     "output_type": "stream",
     "text": [
      "final shape of marks and linear position df is:\n",
      "(879983, 4, 25)\n",
      "(879983, 4)\n",
      "0\n",
      "inserting into IntervalList\n",
      "done inserting into IntervalList\n",
      "2\n",
      "inserting into IntervalList\n",
      "done inserting into IntervalList\n",
      "3\n",
      "inserting into IntervalList\n",
      "done inserting into IntervalList\n",
      "6\n",
      "inserting into IntervalList\n",
      "done inserting into IntervalList\n",
      "7\n",
      "inserting into IntervalList\n",
      "done inserting into IntervalList\n",
      "9\n",
      "inserting into IntervalList\n",
      "done inserting into IntervalList\n",
      "12\n",
      "inserting into IntervalList\n",
      "done inserting into IntervalList\n",
      "15\n",
      "inserting into IntervalList\n",
      "done inserting into IntervalList\n",
      "17\n",
      "inserting into IntervalList\n",
      "done inserting into IntervalList\n",
      "18\n",
      "inserting into IntervalList\n",
      "done inserting into IntervalList\n",
      "24\n",
      "inserting into IntervalList\n",
      "done inserting into IntervalList\n",
      "25\n",
      "inserting into IntervalList\n",
      "done inserting into IntervalList\n",
      "27\n",
      "inserting into IntervalList\n",
      "done inserting into IntervalList\n",
      "28\n",
      "inserting into IntervalList\n",
      "done inserting into IntervalList\n",
      "34\n",
      "inserting into IntervalList\n",
      "done inserting into IntervalList\n",
      "37\n",
      "inserting into IntervalList\n",
      "done inserting into IntervalList\n",
      "39\n",
      "inserting into IntervalList\n",
      "done inserting into IntervalList\n",
      "40\n",
      "inserting into IntervalList\n",
      "done inserting into IntervalList\n",
      "41\n",
      "inserting into IntervalList\n",
      "done inserting into IntervalList\n",
      "43\n",
      "inserting into IntervalList\n",
      "done inserting into IntervalList\n",
      "46\n",
      "inserting into IntervalList\n",
      "done inserting into IntervalList\n",
      "50\n",
      "inserting into IntervalList\n",
      "done inserting into IntervalList\n",
      "53\n",
      "inserting into IntervalList\n",
      "done inserting into IntervalList\n",
      "55\n",
      "inserting into IntervalList\n",
      "done inserting into IntervalList\n",
      "61\n",
      "inserting into IntervalList\n",
      "done inserting into IntervalList\n"
     ]
    },
    {
     "name": "stderr",
     "output_type": "stream",
     "text": [
      "[15:21:46][INFO] Spyglass: Running spike sorting on {'nwb_file_name': 'molly20220415_.nwb', 'sort_group_id': 34, 'sort_interval_name': '08_Seq2Session3', 'preproc_params_name': 'franklab_tetrode_hippocampus', 'team_name': 'SequenceTask', 'sorter': 'clusterless_thresholder', 'sorter_params_name': 'default', 'artifact_removed_interval_list_name': 'molly20220415_.nwb_08_Seq2Session3_34_franklab_tetrode_hippocampus_ampl_1500_prop_075_1ms_artifact_removed_valid_times_track_time_only'}...\n",
      "05-Dec-24 15:21:46 Running spike sorting on {'nwb_file_name': 'molly20220415_.nwb', 'sort_group_id': 34, 'sort_interval_name': '08_Seq2Session3', 'preproc_params_name': 'franklab_tetrode_hippocampus', 'team_name': 'SequenceTask', 'sorter': 'clusterless_thresholder', 'sorter_params_name': 'default', 'artifact_removed_interval_list_name': 'molly20220415_.nwb_08_Seq2Session3_34_franklab_tetrode_hippocampus_ampl_1500_prop_075_1ms_artifact_removed_valid_times_track_time_only'}...\n"
     ]
    },
    {
     "data": {
      "application/vnd.jupyter.widget-view+json": {
       "model_id": "a34c1cd3605c4bafb260c744f87c7590",
       "version_major": 2,
       "version_minor": 0
      },
      "text/plain": [
       "detect peaks using locally_exclusive:   0%|          | 0/2093 [00:00<?, ?it/s]"
      ]
     },
     "metadata": {},
     "output_type": "display_data"
    },
    {
     "name": "stderr",
     "output_type": "stream",
     "text": [
      "[15:21:50][INFO] Spyglass: Saving sorting results...\n",
      "05-Dec-24 15:21:50 Saving sorting results...\n",
      "[15:21:54][INFO] Spyglass: Running spike sorting on {'nwb_file_name': 'molly20220415_.nwb', 'sort_group_id': 37, 'sort_interval_name': '08_Seq2Session3', 'preproc_params_name': 'franklab_tetrode_hippocampus', 'team_name': 'SequenceTask', 'sorter': 'clusterless_thresholder', 'sorter_params_name': 'default', 'artifact_removed_interval_list_name': 'molly20220415_.nwb_08_Seq2Session3_37_franklab_tetrode_hippocampus_ampl_1500_prop_075_1ms_artifact_removed_valid_times_track_time_only'}...\n",
      "05-Dec-24 15:21:54 Running spike sorting on {'nwb_file_name': 'molly20220415_.nwb', 'sort_group_id': 37, 'sort_interval_name': '08_Seq2Session3', 'preproc_params_name': 'franklab_tetrode_hippocampus', 'team_name': 'SequenceTask', 'sorter': 'clusterless_thresholder', 'sorter_params_name': 'default', 'artifact_removed_interval_list_name': 'molly20220415_.nwb_08_Seq2Session3_37_franklab_tetrode_hippocampus_ampl_1500_prop_075_1ms_artifact_removed_valid_times_track_time_only'}...\n"
     ]
    },
    {
     "data": {
      "application/vnd.jupyter.widget-view+json": {
       "model_id": "4e0ce47a92454d67bce4eb8e544ac745",
       "version_major": 2,
       "version_minor": 0
      },
      "text/plain": [
       "detect peaks using locally_exclusive:   0%|          | 0/2093 [00:00<?, ?it/s]"
      ]
     },
     "metadata": {},
     "output_type": "display_data"
    },
    {
     "name": "stderr",
     "output_type": "stream",
     "text": [
      "[15:21:58][INFO] Spyglass: Saving sorting results...\n",
      "05-Dec-24 15:21:58 Saving sorting results...\n",
      "[15:22:01][INFO] Spyglass: Running spike sorting on {'nwb_file_name': 'molly20220415_.nwb', 'sort_group_id': 39, 'sort_interval_name': '08_Seq2Session3', 'preproc_params_name': 'franklab_tetrode_hippocampus', 'team_name': 'SequenceTask', 'sorter': 'clusterless_thresholder', 'sorter_params_name': 'default', 'artifact_removed_interval_list_name': 'molly20220415_.nwb_08_Seq2Session3_39_franklab_tetrode_hippocampus_ampl_1500_prop_075_1ms_artifact_removed_valid_times_track_time_only'}...\n",
      "05-Dec-24 15:22:01 Running spike sorting on {'nwb_file_name': 'molly20220415_.nwb', 'sort_group_id': 39, 'sort_interval_name': '08_Seq2Session3', 'preproc_params_name': 'franklab_tetrode_hippocampus', 'team_name': 'SequenceTask', 'sorter': 'clusterless_thresholder', 'sorter_params_name': 'default', 'artifact_removed_interval_list_name': 'molly20220415_.nwb_08_Seq2Session3_39_franklab_tetrode_hippocampus_ampl_1500_prop_075_1ms_artifact_removed_valid_times_track_time_only'}...\n"
     ]
    },
    {
     "data": {
      "application/vnd.jupyter.widget-view+json": {
       "model_id": "c1113da9b865437a8c8ba02d1bc705e1",
       "version_major": 2,
       "version_minor": 0
      },
      "text/plain": [
       "detect peaks using locally_exclusive:   0%|          | 0/2093 [00:00<?, ?it/s]"
      ]
     },
     "metadata": {},
     "output_type": "display_data"
    },
    {
     "name": "stderr",
     "output_type": "stream",
     "text": [
      "[15:22:06][INFO] Spyglass: Saving sorting results...\n",
      "05-Dec-24 15:22:06 Saving sorting results...\n",
      "[15:22:07][INFO] Spyglass: Running spike sorting on {'nwb_file_name': 'molly20220415_.nwb', 'sort_group_id': 43, 'sort_interval_name': '08_Seq2Session3', 'preproc_params_name': 'franklab_tetrode_hippocampus', 'team_name': 'SequenceTask', 'sorter': 'clusterless_thresholder', 'sorter_params_name': 'default', 'artifact_removed_interval_list_name': 'molly20220415_.nwb_08_Seq2Session3_43_franklab_tetrode_hippocampus_ampl_1500_prop_075_1ms_artifact_removed_valid_times_track_time_only'}...\n",
      "05-Dec-24 15:22:07 Running spike sorting on {'nwb_file_name': 'molly20220415_.nwb', 'sort_group_id': 43, 'sort_interval_name': '08_Seq2Session3', 'preproc_params_name': 'franklab_tetrode_hippocampus', 'team_name': 'SequenceTask', 'sorter': 'clusterless_thresholder', 'sorter_params_name': 'default', 'artifact_removed_interval_list_name': 'molly20220415_.nwb_08_Seq2Session3_43_franklab_tetrode_hippocampus_ampl_1500_prop_075_1ms_artifact_removed_valid_times_track_time_only'}...\n"
     ]
    },
    {
     "data": {
      "application/vnd.jupyter.widget-view+json": {
       "model_id": "8d7b4784fbf84e5abf9bc21212ac3425",
       "version_major": 2,
       "version_minor": 0
      },
      "text/plain": [
       "detect peaks using locally_exclusive:   0%|          | 0/2093 [00:00<?, ?it/s]"
      ]
     },
     "metadata": {},
     "output_type": "display_data"
    },
    {
     "name": "stderr",
     "output_type": "stream",
     "text": [
      "[15:22:13][INFO] Spyglass: Saving sorting results...\n",
      "05-Dec-24 15:22:13 Saving sorting results...\n",
      "[15:22:16][INFO] Spyglass: Running spike sorting on {'nwb_file_name': 'molly20220415_.nwb', 'sort_group_id': 46, 'sort_interval_name': '08_Seq2Session3', 'preproc_params_name': 'franklab_tetrode_hippocampus', 'team_name': 'SequenceTask', 'sorter': 'clusterless_thresholder', 'sorter_params_name': 'default', 'artifact_removed_interval_list_name': 'molly20220415_.nwb_08_Seq2Session3_46_franklab_tetrode_hippocampus_ampl_1500_prop_075_1ms_artifact_removed_valid_times_track_time_only'}...\n",
      "05-Dec-24 15:22:16 Running spike sorting on {'nwb_file_name': 'molly20220415_.nwb', 'sort_group_id': 46, 'sort_interval_name': '08_Seq2Session3', 'preproc_params_name': 'franklab_tetrode_hippocampus', 'team_name': 'SequenceTask', 'sorter': 'clusterless_thresholder', 'sorter_params_name': 'default', 'artifact_removed_interval_list_name': 'molly20220415_.nwb_08_Seq2Session3_46_franklab_tetrode_hippocampus_ampl_1500_prop_075_1ms_artifact_removed_valid_times_track_time_only'}...\n"
     ]
    },
    {
     "data": {
      "application/vnd.jupyter.widget-view+json": {
       "model_id": "e7996440b4df4ae0926c0835c91f962f",
       "version_major": 2,
       "version_minor": 0
      },
      "text/plain": [
       "detect peaks using locally_exclusive:   0%|          | 0/2093 [00:00<?, ?it/s]"
      ]
     },
     "metadata": {},
     "output_type": "display_data"
    },
    {
     "name": "stderr",
     "output_type": "stream",
     "text": [
      "[15:22:20][INFO] Spyglass: Saving sorting results...\n",
      "05-Dec-24 15:22:20 Saving sorting results...\n",
      "[15:22:24][INFO] Spyglass: Running spike sorting on {'nwb_file_name': 'molly20220415_.nwb', 'sort_group_id': 50, 'sort_interval_name': '08_Seq2Session3', 'preproc_params_name': 'franklab_tetrode_hippocampus', 'team_name': 'SequenceTask', 'sorter': 'clusterless_thresholder', 'sorter_params_name': 'default', 'artifact_removed_interval_list_name': 'molly20220415_.nwb_08_Seq2Session3_50_franklab_tetrode_hippocampus_ampl_1500_prop_075_1ms_artifact_removed_valid_times_track_time_only'}...\n",
      "05-Dec-24 15:22:24 Running spike sorting on {'nwb_file_name': 'molly20220415_.nwb', 'sort_group_id': 50, 'sort_interval_name': '08_Seq2Session3', 'preproc_params_name': 'franklab_tetrode_hippocampus', 'team_name': 'SequenceTask', 'sorter': 'clusterless_thresholder', 'sorter_params_name': 'default', 'artifact_removed_interval_list_name': 'molly20220415_.nwb_08_Seq2Session3_50_franklab_tetrode_hippocampus_ampl_1500_prop_075_1ms_artifact_removed_valid_times_track_time_only'}...\n"
     ]
    },
    {
     "data": {
      "application/vnd.jupyter.widget-view+json": {
       "model_id": "0b63f45ccb0f4c7e9efe4f8e84c32890",
       "version_major": 2,
       "version_minor": 0
      },
      "text/plain": [
       "detect peaks using locally_exclusive:   0%|          | 0/2093 [00:00<?, ?it/s]"
      ]
     },
     "metadata": {},
     "output_type": "display_data"
    },
    {
     "name": "stderr",
     "output_type": "stream",
     "text": [
      "[15:22:28][INFO] Spyglass: Saving sorting results...\n",
      "05-Dec-24 15:22:28 Saving sorting results...\n",
      "[15:22:31][INFO] Spyglass: Running spike sorting on {'nwb_file_name': 'molly20220415_.nwb', 'sort_group_id': 53, 'sort_interval_name': '08_Seq2Session3', 'preproc_params_name': 'franklab_tetrode_hippocampus', 'team_name': 'SequenceTask', 'sorter': 'clusterless_thresholder', 'sorter_params_name': 'default', 'artifact_removed_interval_list_name': 'molly20220415_.nwb_08_Seq2Session3_53_franklab_tetrode_hippocampus_ampl_1500_prop_075_1ms_artifact_removed_valid_times_track_time_only'}...\n",
      "05-Dec-24 15:22:31 Running spike sorting on {'nwb_file_name': 'molly20220415_.nwb', 'sort_group_id': 53, 'sort_interval_name': '08_Seq2Session3', 'preproc_params_name': 'franklab_tetrode_hippocampus', 'team_name': 'SequenceTask', 'sorter': 'clusterless_thresholder', 'sorter_params_name': 'default', 'artifact_removed_interval_list_name': 'molly20220415_.nwb_08_Seq2Session3_53_franklab_tetrode_hippocampus_ampl_1500_prop_075_1ms_artifact_removed_valid_times_track_time_only'}...\n"
     ]
    },
    {
     "data": {
      "application/vnd.jupyter.widget-view+json": {
       "model_id": "0d1c75a849fb44adbaf61f2c0925ef49",
       "version_major": 2,
       "version_minor": 0
      },
      "text/plain": [
       "detect peaks using locally_exclusive:   0%|          | 0/2093 [00:00<?, ?it/s]"
      ]
     },
     "metadata": {},
     "output_type": "display_data"
    },
    {
     "name": "stderr",
     "output_type": "stream",
     "text": [
      "[15:22:35][INFO] Spyglass: Saving sorting results...\n",
      "05-Dec-24 15:22:35 Saving sorting results...\n",
      "[15:22:35][INFO] Spyglass: Running spike sorting on {'nwb_file_name': 'molly20220415_.nwb', 'sort_group_id': 55, 'sort_interval_name': '08_Seq2Session3', 'preproc_params_name': 'franklab_tetrode_hippocampus', 'team_name': 'SequenceTask', 'sorter': 'clusterless_thresholder', 'sorter_params_name': 'default', 'artifact_removed_interval_list_name': 'molly20220415_.nwb_08_Seq2Session3_55_franklab_tetrode_hippocampus_ampl_1500_prop_075_1ms_artifact_removed_valid_times_track_time_only'}...\n",
      "05-Dec-24 15:22:35 Running spike sorting on {'nwb_file_name': 'molly20220415_.nwb', 'sort_group_id': 55, 'sort_interval_name': '08_Seq2Session3', 'preproc_params_name': 'franklab_tetrode_hippocampus', 'team_name': 'SequenceTask', 'sorter': 'clusterless_thresholder', 'sorter_params_name': 'default', 'artifact_removed_interval_list_name': 'molly20220415_.nwb_08_Seq2Session3_55_franklab_tetrode_hippocampus_ampl_1500_prop_075_1ms_artifact_removed_valid_times_track_time_only'}...\n"
     ]
    },
    {
     "data": {
      "application/vnd.jupyter.widget-view+json": {
       "model_id": "39a2ebc20a1948d7837e6b8ad40a8b8a",
       "version_major": 2,
       "version_minor": 0
      },
      "text/plain": [
       "detect peaks using locally_exclusive:   0%|          | 0/2093 [00:00<?, ?it/s]"
      ]
     },
     "metadata": {},
     "output_type": "display_data"
    },
    {
     "name": "stderr",
     "output_type": "stream",
     "text": [
      "[15:22:39][INFO] Spyglass: Saving sorting results...\n",
      "05-Dec-24 15:22:39 Saving sorting results...\n",
      "[15:22:42][INFO] Spyglass: Running spike sorting on {'nwb_file_name': 'molly20220415_.nwb', 'sort_group_id': 61, 'sort_interval_name': '08_Seq2Session3', 'preproc_params_name': 'franklab_tetrode_hippocampus', 'team_name': 'SequenceTask', 'sorter': 'clusterless_thresholder', 'sorter_params_name': 'default', 'artifact_removed_interval_list_name': 'molly20220415_.nwb_08_Seq2Session3_61_franklab_tetrode_hippocampus_ampl_1500_prop_075_1ms_artifact_removed_valid_times_track_time_only'}...\n",
      "05-Dec-24 15:22:42 Running spike sorting on {'nwb_file_name': 'molly20220415_.nwb', 'sort_group_id': 61, 'sort_interval_name': '08_Seq2Session3', 'preproc_params_name': 'franklab_tetrode_hippocampus', 'team_name': 'SequenceTask', 'sorter': 'clusterless_thresholder', 'sorter_params_name': 'default', 'artifact_removed_interval_list_name': 'molly20220415_.nwb_08_Seq2Session3_61_franklab_tetrode_hippocampus_ampl_1500_prop_075_1ms_artifact_removed_valid_times_track_time_only'}...\n"
     ]
    },
    {
     "data": {
      "application/vnd.jupyter.widget-view+json": {
       "model_id": "e68cabe372a843f5976e3cecd5d2e575",
       "version_major": 2,
       "version_minor": 0
      },
      "text/plain": [
       "detect peaks using locally_exclusive:   0%|          | 0/2093 [00:00<?, ?it/s]"
      ]
     },
     "metadata": {},
     "output_type": "display_data"
    },
    {
     "name": "stderr",
     "output_type": "stream",
     "text": [
      "[15:22:45][INFO] Spyglass: Saving sorting results...\n",
      "05-Dec-24 15:22:45 Saving sorting results...\n",
      "[15:23:29][INFO] Spyglass: Found 1 accepted units\n",
      "05-Dec-24 15:23:29 Found 1 accepted units\n",
      "[15:23:30][INFO] Spyglass: Writing new NWB file molly20220415_3JGN2DFFYQ.nwb\n",
      "05-Dec-24 15:23:30 Writing new NWB file molly20220415_3JGN2DFFYQ.nwb\n",
      "[15:23:34][INFO] Spyglass: Found 1 accepted units\n",
      "05-Dec-24 15:23:34 Found 1 accepted units\n",
      "[15:23:35][INFO] Spyglass: Writing new NWB file molly20220415_3CY3TL0VI4.nwb\n",
      "05-Dec-24 15:23:35 Writing new NWB file molly20220415_3CY3TL0VI4.nwb\n",
      "[15:23:38][INFO] Spyglass: Found 1 accepted units\n",
      "05-Dec-24 15:23:38 Found 1 accepted units\n",
      "[15:23:40][INFO] Spyglass: Writing new NWB file molly20220415_2OTF468OWZ.nwb\n",
      "05-Dec-24 15:23:40 Writing new NWB file molly20220415_2OTF468OWZ.nwb\n",
      "[15:23:43][INFO] Spyglass: Found 1 accepted units\n",
      "05-Dec-24 15:23:43 Found 1 accepted units\n",
      "[15:23:44][INFO] Spyglass: Writing new NWB file molly20220415_9IJ99F0SL2.nwb\n",
      "05-Dec-24 15:23:44 Writing new NWB file molly20220415_9IJ99F0SL2.nwb\n",
      "[15:23:47][INFO] Spyglass: Found 1 accepted units\n",
      "05-Dec-24 15:23:47 Found 1 accepted units\n",
      "[15:23:49][INFO] Spyglass: Writing new NWB file molly20220415_YC9S4V5XPW.nwb\n",
      "05-Dec-24 15:23:49 Writing new NWB file molly20220415_YC9S4V5XPW.nwb\n",
      "[15:23:52][INFO] Spyglass: Found 1 accepted units\n",
      "05-Dec-24 15:23:52 Found 1 accepted units\n",
      "[15:23:53][INFO] Spyglass: Writing new NWB file molly20220415_R12DCO8CGA.nwb\n",
      "05-Dec-24 15:23:53 Writing new NWB file molly20220415_R12DCO8CGA.nwb\n",
      "[15:23:58][INFO] Spyglass: Found 1 accepted units\n",
      "05-Dec-24 15:23:58 Found 1 accepted units\n",
      "[15:23:59][INFO] Spyglass: Writing new NWB file molly20220415_M10ADXM35R.nwb\n",
      "05-Dec-24 15:23:59 Writing new NWB file molly20220415_M10ADXM35R.nwb\n",
      "[15:24:03][INFO] Spyglass: Found 1 accepted units\n",
      "05-Dec-24 15:24:03 Found 1 accepted units\n",
      "[15:24:04][INFO] Spyglass: Writing new NWB file molly20220415_50XH5828D8.nwb\n",
      "05-Dec-24 15:24:04 Writing new NWB file molly20220415_50XH5828D8.nwb\n",
      "[15:24:07][INFO] Spyglass: Found 1 accepted units\n",
      "05-Dec-24 15:24:07 Found 1 accepted units\n",
      "[15:24:08][INFO] Spyglass: Writing new NWB file molly20220415_EL4BBOQ710.nwb\n",
      "05-Dec-24 15:24:08 Writing new NWB file molly20220415_EL4BBOQ710.nwb\n"
     ]
    },
    {
     "data": {
      "application/vnd.jupyter.widget-view+json": {
       "model_id": "7c371bb74fc3449d9864a63c40c1d4a5",
       "version_major": 2,
       "version_minor": 0
      },
      "text/plain": [
       "extract waveforms memmap:   0%|          | 0/1 [00:00<?, ?it/s]"
      ]
     },
     "metadata": {},
     "output_type": "display_data"
    },
    {
     "name": "stderr",
     "output_type": "stream",
     "text": [
      "[15:24:17][INFO] Spyglass: Writing new NWB file molly20220415_I67VHPP1MG.nwb\n",
      "05-Dec-24 15:24:17 Writing new NWB file molly20220415_I67VHPP1MG.nwb\n"
     ]
    },
    {
     "data": {
      "application/vnd.jupyter.widget-view+json": {
       "model_id": "422017ea6dd14d02ab35e3e8c2495b71",
       "version_major": 2,
       "version_minor": 0
      },
      "text/plain": [
       "extract waveforms memmap:   0%|          | 0/1 [00:00<?, ?it/s]"
      ]
     },
     "metadata": {},
     "output_type": "display_data"
    },
    {
     "name": "stderr",
     "output_type": "stream",
     "text": [
      "[15:24:25][INFO] Spyglass: Writing new NWB file molly20220415_XKA87HBZDR.nwb\n",
      "05-Dec-24 15:24:25 Writing new NWB file molly20220415_XKA87HBZDR.nwb\n"
     ]
    },
    {
     "data": {
      "application/vnd.jupyter.widget-view+json": {
       "model_id": "aebae1634a724f6a8bd9186bf52454ba",
       "version_major": 2,
       "version_minor": 0
      },
      "text/plain": [
       "extract waveforms memmap:   0%|          | 0/1 [00:00<?, ?it/s]"
      ]
     },
     "metadata": {},
     "output_type": "display_data"
    },
    {
     "name": "stderr",
     "output_type": "stream",
     "text": [
      "[15:24:33][INFO] Spyglass: Writing new NWB file molly20220415_WLC2745R3L.nwb\n",
      "05-Dec-24 15:24:33 Writing new NWB file molly20220415_WLC2745R3L.nwb\n"
     ]
    },
    {
     "data": {
      "application/vnd.jupyter.widget-view+json": {
       "model_id": "95ab91187e814d7d9601bf8af884540e",
       "version_major": 2,
       "version_minor": 0
      },
      "text/plain": [
       "extract waveforms memmap:   0%|          | 0/1 [00:00<?, ?it/s]"
      ]
     },
     "metadata": {},
     "output_type": "display_data"
    },
    {
     "name": "stderr",
     "output_type": "stream",
     "text": [
      "[15:24:40][INFO] Spyglass: Writing new NWB file molly20220415_8L35YVS8JY.nwb\n",
      "05-Dec-24 15:24:40 Writing new NWB file molly20220415_8L35YVS8JY.nwb\n"
     ]
    },
    {
     "data": {
      "application/vnd.jupyter.widget-view+json": {
       "model_id": "4ac205f8f11a4c7588bcbdac85571b8b",
       "version_major": 2,
       "version_minor": 0
      },
      "text/plain": [
       "extract waveforms memmap:   0%|          | 0/1 [00:00<?, ?it/s]"
      ]
     },
     "metadata": {},
     "output_type": "display_data"
    },
    {
     "name": "stderr",
     "output_type": "stream",
     "text": [
      "[15:24:48][INFO] Spyglass: Writing new NWB file molly20220415_ER21POMX1Y.nwb\n",
      "05-Dec-24 15:24:48 Writing new NWB file molly20220415_ER21POMX1Y.nwb\n"
     ]
    },
    {
     "data": {
      "application/vnd.jupyter.widget-view+json": {
       "model_id": "8691978c7b624a06a6a1881413d5e193",
       "version_major": 2,
       "version_minor": 0
      },
      "text/plain": [
       "extract waveforms memmap:   0%|          | 0/1 [00:00<?, ?it/s]"
      ]
     },
     "metadata": {},
     "output_type": "display_data"
    },
    {
     "name": "stderr",
     "output_type": "stream",
     "text": [
      "[15:24:55][INFO] Spyglass: Writing new NWB file molly20220415_XJT0GI203Y.nwb\n",
      "05-Dec-24 15:24:55 Writing new NWB file molly20220415_XJT0GI203Y.nwb\n"
     ]
    },
    {
     "data": {
      "application/vnd.jupyter.widget-view+json": {
       "model_id": "344b44d53bda43dda01930ce3a1a18d0",
       "version_major": 2,
       "version_minor": 0
      },
      "text/plain": [
       "extract waveforms memmap:   0%|          | 0/1 [00:00<?, ?it/s]"
      ]
     },
     "metadata": {},
     "output_type": "display_data"
    },
    {
     "name": "stderr",
     "output_type": "stream",
     "text": [
      "[15:25:03][INFO] Spyglass: Writing new NWB file molly20220415_1QVLIE8ZKN.nwb\n",
      "05-Dec-24 15:25:03 Writing new NWB file molly20220415_1QVLIE8ZKN.nwb\n"
     ]
    },
    {
     "data": {
      "application/vnd.jupyter.widget-view+json": {
       "model_id": "f6d41384615741b6ac94dceec0ae15d2",
       "version_major": 2,
       "version_minor": 0
      },
      "text/plain": [
       "extract waveforms memmap:   0%|          | 0/1 [00:00<?, ?it/s]"
      ]
     },
     "metadata": {},
     "output_type": "display_data"
    },
    {
     "name": "stderr",
     "output_type": "stream",
     "text": [
      "[15:25:09][INFO] Spyglass: Writing new NWB file molly20220415_UNX9H6N7W9.nwb\n",
      "05-Dec-24 15:25:09 Writing new NWB file molly20220415_UNX9H6N7W9.nwb\n"
     ]
    },
    {
     "data": {
      "application/vnd.jupyter.widget-view+json": {
       "model_id": "81ffb8ad95c649f78318ac985708b4b1",
       "version_major": 2,
       "version_minor": 0
      },
      "text/plain": [
       "extract waveforms memmap:   0%|          | 0/1 [00:00<?, ?it/s]"
      ]
     },
     "metadata": {},
     "output_type": "display_data"
    },
    {
     "name": "stderr",
     "output_type": "stream",
     "text": [
      "[15:25:16][INFO] Spyglass: Writing new NWB file molly20220415_N3GEOK1F9U.nwb\n",
      "05-Dec-24 15:25:16 Writing new NWB file molly20220415_N3GEOK1F9U.nwb\n",
      "[15:25:20][INFO] Spyglass: Writing new NWB file molly20220415_XZ6EFZMR7N.nwb\n",
      "05-Dec-24 15:25:20 Writing new NWB file molly20220415_XZ6EFZMR7N.nwb\n",
      "[15:25:33][INFO] Spyglass: Writing new NWB file molly20220415_YOFTNM3VVF.nwb\n",
      "05-Dec-24 15:25:33 Writing new NWB file molly20220415_YOFTNM3VVF.nwb\n",
      "[15:25:46][INFO] Spyglass: Writing new NWB file molly20220415_XK6KVTA5HM.nwb\n",
      "05-Dec-24 15:25:46 Writing new NWB file molly20220415_XK6KVTA5HM.nwb\n",
      "[15:26:00][INFO] Spyglass: Writing new NWB file molly20220415_9XADBU1MAC.nwb\n",
      "05-Dec-24 15:26:00 Writing new NWB file molly20220415_9XADBU1MAC.nwb\n",
      "[15:26:13][INFO] Spyglass: Writing new NWB file molly20220415_5VNLOMRO95.nwb\n",
      "05-Dec-24 15:26:13 Writing new NWB file molly20220415_5VNLOMRO95.nwb\n",
      "[15:26:26][INFO] Spyglass: Writing new NWB file molly20220415_EYHPHVCN3G.nwb\n",
      "05-Dec-24 15:26:26 Writing new NWB file molly20220415_EYHPHVCN3G.nwb\n",
      "[15:26:38][INFO] Spyglass: Writing new NWB file molly20220415_SXG8PLZDW6.nwb\n",
      "05-Dec-24 15:26:38 Writing new NWB file molly20220415_SXG8PLZDW6.nwb\n",
      "[15:26:51][INFO] Spyglass: Writing new NWB file molly20220415_3XKNUA798G.nwb\n",
      "05-Dec-24 15:26:51 Writing new NWB file molly20220415_3XKNUA798G.nwb\n",
      "[15:27:04][INFO] Spyglass: Writing new NWB file molly20220415_CEZGJI3WFA.nwb\n",
      "05-Dec-24 15:27:04 Writing new NWB file molly20220415_CEZGJI3WFA.nwb\n",
      "[15:27:35][WARNING] Spyglass: Deprecation: this class has been moved out of spyglass.common.common_position\n",
      "\tIntervalLinearizedPosition -> spyglass.linearization.v0.main.IntervalLinearizedPosition\n",
      "Please use the new location.\n",
      "05-Dec-24 15:27:35 Deprecation: this class has been moved out of spyglass.common.common_position\n",
      "\tIntervalLinearizedPosition -> spyglass.linearization.v0.main.IntervalLinearizedPosition\n",
      "Please use the new location.\n"
     ]
    },
    {
     "name": "stdout",
     "output_type": "stream",
     "text": [
      "final shape of marks and linear position df is:\n",
      "(804104, 4, 25)\n",
      "(804104, 4)\n"
     ]
    }
   ],
   "source": [
    "for e in session_interval:\n",
    "    decodePrepMasterSession(nwb_copy_file_name,e,populate = True)"
   ]
  },
  {
   "cell_type": "code",
   "execution_count": null,
   "id": "db991a06-cc3a-4865-85ac-b090675b9eba",
   "metadata": {},
   "outputs": [],
   "source": [
    "ArtifactDetectionSelection"
   ]
  },
  {
   "cell_type": "code",
   "execution_count": 22,
   "id": "ff880b71-2fa3-44de-a3f4-98e4defd2709",
   "metadata": {
    "scrolled": true
   },
   "outputs": [
    {
     "name": "stdout",
     "output_type": "stream",
     "text": [
      "0\n"
     ]
    },
    {
     "ename": "IntegrityError",
     "evalue": "Cannot add or update a child row: a foreign key constraint fails (`spikesorting_artifact`.`artifact_detection_selection`, CONSTRAINT `artifact_detection_selection_ibfk_1` FOREIGN KEY (`nwb_file_name`, `sort_group_id`, `sort_interval_name`, `preproc_params_na)",
     "output_type": "error",
     "traceback": [
      "\u001b[0;31m---------------------------------------------------------------------------\u001b[0m",
      "\u001b[0;31mIntegrityError\u001b[0m                            Traceback (most recent call last)",
      "Cell \u001b[0;32mIn[22], line 2\u001b[0m\n\u001b[1;32m      1\u001b[0m \u001b[38;5;28;01mfor\u001b[39;00m e \u001b[38;5;129;01min\u001b[39;00m sleep_interval:\n\u001b[0;32m----> 2\u001b[0m     \u001b[43mthresholder_sort\u001b[49m\u001b[43m(\u001b[49m\u001b[43mnwb_copy_file_name\u001b[49m\u001b[43m,\u001b[49m\u001b[43me\u001b[49m\u001b[43m,\u001b[49m\u001b[38;5;28;43;01mTrue\u001b[39;49;00m\u001b[43m)\u001b[49m\n",
      "File \u001b[0;32m~/Documents/spyglass/src/spyglass/shijiegu/decodeHelpers.py:249\u001b[0m, in \u001b[0;36mthresholder_sort\u001b[0;34m(nwb_copy_file_name, sort_interval_name, populate)\u001b[0m\n\u001b[1;32m    246\u001b[0m artifact_key[\u001b[38;5;124m'\u001b[39m\u001b[38;5;124martifact_params_name\u001b[39m\u001b[38;5;124m'\u001b[39m] \u001b[38;5;241m=\u001b[39m artifact_params_name\n\u001b[1;32m    248\u001b[0m \u001b[38;5;28;01mif\u001b[39;00m populate:\n\u001b[0;32m--> 249\u001b[0m     \u001b[43mArtifactDetectionSelection\u001b[49m\u001b[38;5;241;43m.\u001b[39;49m\u001b[43minsert1\u001b[49m\u001b[43m(\u001b[49m\u001b[43martifact_key\u001b[49m\u001b[43m,\u001b[49m\u001b[43m \u001b[49m\u001b[43mskip_duplicates\u001b[49m\u001b[38;5;241;43m=\u001b[39;49m\u001b[38;5;28;43;01mTrue\u001b[39;49;00m\u001b[43m)\u001b[49m\n\u001b[1;32m    251\u001b[0m artifact_key[\u001b[38;5;124m'\u001b[39m\u001b[38;5;124martifact_times\u001b[39m\u001b[38;5;124m'\u001b[39m]\u001b[38;5;241m=\u001b[39martifact_time_list\n\u001b[1;32m    252\u001b[0m artifact_key[\u001b[38;5;124m'\u001b[39m\u001b[38;5;124martifact_removed_valid_times\u001b[39m\u001b[38;5;124m'\u001b[39m]\u001b[38;5;241m=\u001b[39martifact_removed_time_list\n",
      "File \u001b[0;32m~/anaconda3/envs/spyglass/lib/python3.9/site-packages/datajoint/table.py:337\u001b[0m, in \u001b[0;36mTable.insert1\u001b[0;34m(self, row, **kwargs)\u001b[0m\n\u001b[1;32m    330\u001b[0m \u001b[38;5;28;01mdef\u001b[39;00m \u001b[38;5;21minsert1\u001b[39m(\u001b[38;5;28mself\u001b[39m, row, \u001b[38;5;241m*\u001b[39m\u001b[38;5;241m*\u001b[39mkwargs):\n\u001b[1;32m    331\u001b[0m \u001b[38;5;250m    \u001b[39m\u001b[38;5;124;03m\"\"\"\u001b[39;00m\n\u001b[1;32m    332\u001b[0m \u001b[38;5;124;03m    Insert one data record into the table. For ``kwargs``, see ``insert()``.\u001b[39;00m\n\u001b[1;32m    333\u001b[0m \n\u001b[1;32m    334\u001b[0m \u001b[38;5;124;03m    :param row: a numpy record, a dict-like object, or an ordered sequence to be inserted\u001b[39;00m\n\u001b[1;32m    335\u001b[0m \u001b[38;5;124;03m        as one row.\u001b[39;00m\n\u001b[1;32m    336\u001b[0m \u001b[38;5;124;03m    \"\"\"\u001b[39;00m\n\u001b[0;32m--> 337\u001b[0m     \u001b[38;5;28;43mself\u001b[39;49m\u001b[38;5;241;43m.\u001b[39;49m\u001b[43minsert\u001b[49m\u001b[43m(\u001b[49m\u001b[43m(\u001b[49m\u001b[43mrow\u001b[49m\u001b[43m,\u001b[49m\u001b[43m)\u001b[49m\u001b[43m,\u001b[49m\u001b[43m \u001b[49m\u001b[38;5;241;43m*\u001b[39;49m\u001b[38;5;241;43m*\u001b[39;49m\u001b[43mkwargs\u001b[49m\u001b[43m)\u001b[49m\n",
      "File \u001b[0;32m~/anaconda3/envs/spyglass/lib/python3.9/site-packages/datajoint/table.py:440\u001b[0m, in \u001b[0;36mTable.insert\u001b[0;34m(self, rows, replace, skip_duplicates, ignore_extra_fields, allow_direct_insert)\u001b[0m\n\u001b[1;32m    424\u001b[0m \u001b[38;5;28;01mtry\u001b[39;00m:\n\u001b[1;32m    425\u001b[0m     query \u001b[38;5;241m=\u001b[39m \u001b[38;5;124m\"\u001b[39m\u001b[38;5;132;01m{command}\u001b[39;00m\u001b[38;5;124m INTO \u001b[39m\u001b[38;5;132;01m{destination}\u001b[39;00m\u001b[38;5;124m(`\u001b[39m\u001b[38;5;132;01m{fields}\u001b[39;00m\u001b[38;5;124m`) VALUES \u001b[39m\u001b[38;5;132;01m{placeholders}\u001b[39;00m\u001b[38;5;132;01m{duplicate}\u001b[39;00m\u001b[38;5;124m\"\u001b[39m\u001b[38;5;241m.\u001b[39mformat(\n\u001b[1;32m    426\u001b[0m         command\u001b[38;5;241m=\u001b[39m\u001b[38;5;124m\"\u001b[39m\u001b[38;5;124mREPLACE\u001b[39m\u001b[38;5;124m\"\u001b[39m \u001b[38;5;28;01mif\u001b[39;00m replace \u001b[38;5;28;01melse\u001b[39;00m \u001b[38;5;124m\"\u001b[39m\u001b[38;5;124mINSERT\u001b[39m\u001b[38;5;124m\"\u001b[39m,\n\u001b[1;32m    427\u001b[0m         destination\u001b[38;5;241m=\u001b[39m\u001b[38;5;28mself\u001b[39m\u001b[38;5;241m.\u001b[39mfrom_clause(),\n\u001b[0;32m   (...)\u001b[0m\n\u001b[1;32m    438\u001b[0m         ),\n\u001b[1;32m    439\u001b[0m     )\n\u001b[0;32m--> 440\u001b[0m     \u001b[38;5;28;43mself\u001b[39;49m\u001b[38;5;241;43m.\u001b[39;49m\u001b[43mconnection\u001b[49m\u001b[38;5;241;43m.\u001b[39;49m\u001b[43mquery\u001b[49m\u001b[43m(\u001b[49m\n\u001b[1;32m    441\u001b[0m \u001b[43m        \u001b[49m\u001b[43mquery\u001b[49m\u001b[43m,\u001b[49m\n\u001b[1;32m    442\u001b[0m \u001b[43m        \u001b[49m\u001b[43margs\u001b[49m\u001b[38;5;241;43m=\u001b[39;49m\u001b[38;5;28;43mlist\u001b[39;49m\u001b[43m(\u001b[49m\n\u001b[1;32m    443\u001b[0m \u001b[43m            \u001b[49m\u001b[43mitertools\u001b[49m\u001b[38;5;241;43m.\u001b[39;49m\u001b[43mchain\u001b[49m\u001b[38;5;241;43m.\u001b[39;49m\u001b[43mfrom_iterable\u001b[49m\u001b[43m(\u001b[49m\n\u001b[1;32m    444\u001b[0m \u001b[43m                \u001b[49m\u001b[43m(\u001b[49m\u001b[43mv\u001b[49m\u001b[43m \u001b[49m\u001b[38;5;28;43;01mfor\u001b[39;49;00m\u001b[43m \u001b[49m\u001b[43mv\u001b[49m\u001b[43m \u001b[49m\u001b[38;5;129;43;01min\u001b[39;49;00m\u001b[43m \u001b[49m\u001b[43mr\u001b[49m\u001b[43m[\u001b[49m\u001b[38;5;124;43m\"\u001b[39;49m\u001b[38;5;124;43mvalues\u001b[39;49m\u001b[38;5;124;43m\"\u001b[39;49m\u001b[43m]\u001b[49m\u001b[43m \u001b[49m\u001b[38;5;28;43;01mif\u001b[39;49;00m\u001b[43m \u001b[49m\u001b[43mv\u001b[49m\u001b[43m \u001b[49m\u001b[38;5;129;43;01mis\u001b[39;49;00m\u001b[43m \u001b[49m\u001b[38;5;129;43;01mnot\u001b[39;49;00m\u001b[43m \u001b[49m\u001b[38;5;28;43;01mNone\u001b[39;49;00m\u001b[43m)\u001b[49m\u001b[43m \u001b[49m\u001b[38;5;28;43;01mfor\u001b[39;49;00m\u001b[43m \u001b[49m\u001b[43mr\u001b[49m\u001b[43m \u001b[49m\u001b[38;5;129;43;01min\u001b[39;49;00m\u001b[43m \u001b[49m\u001b[43mrows\u001b[49m\n\u001b[1;32m    445\u001b[0m \u001b[43m            \u001b[49m\u001b[43m)\u001b[49m\n\u001b[1;32m    446\u001b[0m \u001b[43m        \u001b[49m\u001b[43m)\u001b[49m\u001b[43m,\u001b[49m\n\u001b[1;32m    447\u001b[0m \u001b[43m    \u001b[49m\u001b[43m)\u001b[49m\n\u001b[1;32m    448\u001b[0m \u001b[38;5;28;01mexcept\u001b[39;00m UnknownAttributeError \u001b[38;5;28;01mas\u001b[39;00m err:\n\u001b[1;32m    449\u001b[0m     \u001b[38;5;28;01mraise\u001b[39;00m err\u001b[38;5;241m.\u001b[39msuggest(\n\u001b[1;32m    450\u001b[0m         \u001b[38;5;124m\"\u001b[39m\u001b[38;5;124mTo ignore extra fields in insert, set ignore_extra_fields=True\u001b[39m\u001b[38;5;124m\"\u001b[39m\n\u001b[1;32m    451\u001b[0m     )\n",
      "File \u001b[0;32m~/anaconda3/envs/spyglass/lib/python3.9/site-packages/datajoint/connection.py:340\u001b[0m, in \u001b[0;36mConnection.query\u001b[0;34m(self, query, args, as_dict, suppress_warnings, reconnect)\u001b[0m\n\u001b[1;32m    338\u001b[0m cursor \u001b[38;5;241m=\u001b[39m \u001b[38;5;28mself\u001b[39m\u001b[38;5;241m.\u001b[39m_conn\u001b[38;5;241m.\u001b[39mcursor(cursor\u001b[38;5;241m=\u001b[39mcursor_class)\n\u001b[1;32m    339\u001b[0m \u001b[38;5;28;01mtry\u001b[39;00m:\n\u001b[0;32m--> 340\u001b[0m     \u001b[38;5;28;43mself\u001b[39;49m\u001b[38;5;241;43m.\u001b[39;49m\u001b[43m_execute_query\u001b[49m\u001b[43m(\u001b[49m\u001b[43mcursor\u001b[49m\u001b[43m,\u001b[49m\u001b[43m \u001b[49m\u001b[43mquery\u001b[49m\u001b[43m,\u001b[49m\u001b[43m \u001b[49m\u001b[43margs\u001b[49m\u001b[43m,\u001b[49m\u001b[43m \u001b[49m\u001b[43msuppress_warnings\u001b[49m\u001b[43m)\u001b[49m\n\u001b[1;32m    341\u001b[0m \u001b[38;5;28;01mexcept\u001b[39;00m errors\u001b[38;5;241m.\u001b[39mLostConnectionError:\n\u001b[1;32m    342\u001b[0m     \u001b[38;5;28;01mif\u001b[39;00m \u001b[38;5;129;01mnot\u001b[39;00m reconnect:\n",
      "File \u001b[0;32m~/anaconda3/envs/spyglass/lib/python3.9/site-packages/datajoint/connection.py:296\u001b[0m, in \u001b[0;36mConnection._execute_query\u001b[0;34m(cursor, query, args, suppress_warnings)\u001b[0m\n\u001b[1;32m    294\u001b[0m         cursor\u001b[38;5;241m.\u001b[39mexecute(query, args)\n\u001b[1;32m    295\u001b[0m \u001b[38;5;28;01mexcept\u001b[39;00m client\u001b[38;5;241m.\u001b[39merr\u001b[38;5;241m.\u001b[39mError \u001b[38;5;28;01mas\u001b[39;00m err:\n\u001b[0;32m--> 296\u001b[0m     \u001b[38;5;28;01mraise\u001b[39;00m translate_query_error(err, query)\n",
      "\u001b[0;31mIntegrityError\u001b[0m: Cannot add or update a child row: a foreign key constraint fails (`spikesorting_artifact`.`artifact_detection_selection`, CONSTRAINT `artifact_detection_selection_ibfk_1` FOREIGN KEY (`nwb_file_name`, `sort_group_id`, `sort_interval_name`, `preproc_params_na)"
     ]
    }
   ],
   "source": [
    "for e in sleep_interval:\n",
    "    thresholder_sort(nwb_copy_file_name,e,True)"
   ]
  },
  {
   "cell_type": "code",
   "execution_count": 23,
   "id": "54099a95-1554-4aea-822c-668b3688f0a5",
   "metadata": {},
   "outputs": [
    {
     "name": "stdout",
     "output_type": "stream",
     "text": [
      "> \u001b[0;32m/home/shijiegu/anaconda3/envs/spyglass/lib/python3.9/site-packages/datajoint/connection.py\u001b[0m(296)\u001b[0;36m_execute_query\u001b[0;34m()\u001b[0m\n",
      "\u001b[0;32m    294 \u001b[0;31m                \u001b[0mcursor\u001b[0m\u001b[0;34m.\u001b[0m\u001b[0mexecute\u001b[0m\u001b[0;34m(\u001b[0m\u001b[0mquery\u001b[0m\u001b[0;34m,\u001b[0m \u001b[0margs\u001b[0m\u001b[0;34m)\u001b[0m\u001b[0;34m\u001b[0m\u001b[0;34m\u001b[0m\u001b[0m\n",
      "\u001b[0m\u001b[0;32m    295 \u001b[0;31m        \u001b[0;32mexcept\u001b[0m \u001b[0mclient\u001b[0m\u001b[0;34m.\u001b[0m\u001b[0merr\u001b[0m\u001b[0;34m.\u001b[0m\u001b[0mError\u001b[0m \u001b[0;32mas\u001b[0m \u001b[0merr\u001b[0m\u001b[0;34m:\u001b[0m\u001b[0;34m\u001b[0m\u001b[0;34m\u001b[0m\u001b[0m\n",
      "\u001b[0m\u001b[0;32m--> 296 \u001b[0;31m            \u001b[0;32mraise\u001b[0m \u001b[0mtranslate_query_error\u001b[0m\u001b[0;34m(\u001b[0m\u001b[0merr\u001b[0m\u001b[0;34m,\u001b[0m \u001b[0mquery\u001b[0m\u001b[0;34m)\u001b[0m\u001b[0;34m\u001b[0m\u001b[0;34m\u001b[0m\u001b[0m\n",
      "\u001b[0m\u001b[0;32m    297 \u001b[0;31m\u001b[0;34m\u001b[0m\u001b[0m\n",
      "\u001b[0m\u001b[0;32m    298 \u001b[0;31m    def query(\n",
      "\u001b[0m\n"
     ]
    },
    {
     "name": "stdin",
     "output_type": "stream",
     "text": [
      "ipdb>  u\n"
     ]
    },
    {
     "name": "stdout",
     "output_type": "stream",
     "text": [
      "> \u001b[0;32m/home/shijiegu/anaconda3/envs/spyglass/lib/python3.9/site-packages/datajoint/connection.py\u001b[0m(340)\u001b[0;36mquery\u001b[0;34m()\u001b[0m\n",
      "\u001b[0;32m    338 \u001b[0;31m        \u001b[0mcursor\u001b[0m \u001b[0;34m=\u001b[0m \u001b[0mself\u001b[0m\u001b[0;34m.\u001b[0m\u001b[0m_conn\u001b[0m\u001b[0;34m.\u001b[0m\u001b[0mcursor\u001b[0m\u001b[0;34m(\u001b[0m\u001b[0mcursor\u001b[0m\u001b[0;34m=\u001b[0m\u001b[0mcursor_class\u001b[0m\u001b[0;34m)\u001b[0m\u001b[0;34m\u001b[0m\u001b[0;34m\u001b[0m\u001b[0m\n",
      "\u001b[0m\u001b[0;32m    339 \u001b[0;31m        \u001b[0;32mtry\u001b[0m\u001b[0;34m:\u001b[0m\u001b[0;34m\u001b[0m\u001b[0;34m\u001b[0m\u001b[0m\n",
      "\u001b[0m\u001b[0;32m--> 340 \u001b[0;31m            \u001b[0mself\u001b[0m\u001b[0;34m.\u001b[0m\u001b[0m_execute_query\u001b[0m\u001b[0;34m(\u001b[0m\u001b[0mcursor\u001b[0m\u001b[0;34m,\u001b[0m \u001b[0mquery\u001b[0m\u001b[0;34m,\u001b[0m \u001b[0margs\u001b[0m\u001b[0;34m,\u001b[0m \u001b[0msuppress_warnings\u001b[0m\u001b[0;34m)\u001b[0m\u001b[0;34m\u001b[0m\u001b[0;34m\u001b[0m\u001b[0m\n",
      "\u001b[0m\u001b[0;32m    341 \u001b[0;31m        \u001b[0;32mexcept\u001b[0m \u001b[0merrors\u001b[0m\u001b[0;34m.\u001b[0m\u001b[0mLostConnectionError\u001b[0m\u001b[0;34m:\u001b[0m\u001b[0;34m\u001b[0m\u001b[0;34m\u001b[0m\u001b[0m\n",
      "\u001b[0m\u001b[0;32m    342 \u001b[0;31m            \u001b[0;32mif\u001b[0m \u001b[0;32mnot\u001b[0m \u001b[0mreconnect\u001b[0m\u001b[0;34m:\u001b[0m\u001b[0;34m\u001b[0m\u001b[0;34m\u001b[0m\u001b[0m\n",
      "\u001b[0m\n"
     ]
    },
    {
     "name": "stdin",
     "output_type": "stream",
     "text": [
      "ipdb>  u\n"
     ]
    },
    {
     "name": "stdout",
     "output_type": "stream",
     "text": [
      "> \u001b[0;32m/home/shijiegu/anaconda3/envs/spyglass/lib/python3.9/site-packages/datajoint/table.py\u001b[0m(440)\u001b[0;36minsert\u001b[0;34m()\u001b[0m\n",
      "\u001b[0;32m    438 \u001b[0;31m                    ),\n",
      "\u001b[0m\u001b[0;32m    439 \u001b[0;31m                )\n",
      "\u001b[0m\u001b[0;32m--> 440 \u001b[0;31m                self.connection.query(\n",
      "\u001b[0m\u001b[0;32m    441 \u001b[0;31m                    \u001b[0mquery\u001b[0m\u001b[0;34m,\u001b[0m\u001b[0;34m\u001b[0m\u001b[0;34m\u001b[0m\u001b[0m\n",
      "\u001b[0m\u001b[0;32m    442 \u001b[0;31m                    args=list(\n",
      "\u001b[0m\n"
     ]
    },
    {
     "name": "stdin",
     "output_type": "stream",
     "text": [
      "ipdb>  u\n"
     ]
    },
    {
     "name": "stdout",
     "output_type": "stream",
     "text": [
      "> \u001b[0;32m/home/shijiegu/anaconda3/envs/spyglass/lib/python3.9/site-packages/datajoint/table.py\u001b[0m(337)\u001b[0;36minsert1\u001b[0;34m()\u001b[0m\n",
      "\u001b[0;32m    335 \u001b[0;31m            \u001b[0;32mas\u001b[0m \u001b[0mone\u001b[0m \u001b[0mrow\u001b[0m\u001b[0;34m.\u001b[0m\u001b[0;34m\u001b[0m\u001b[0;34m\u001b[0m\u001b[0m\n",
      "\u001b[0m\u001b[0;32m    336 \u001b[0;31m        \"\"\"\n",
      "\u001b[0m\u001b[0;32m--> 337 \u001b[0;31m        \u001b[0mself\u001b[0m\u001b[0;34m.\u001b[0m\u001b[0minsert\u001b[0m\u001b[0;34m(\u001b[0m\u001b[0;34m(\u001b[0m\u001b[0mrow\u001b[0m\u001b[0;34m,\u001b[0m\u001b[0;34m)\u001b[0m\u001b[0;34m,\u001b[0m \u001b[0;34m**\u001b[0m\u001b[0mkwargs\u001b[0m\u001b[0;34m)\u001b[0m\u001b[0;34m\u001b[0m\u001b[0;34m\u001b[0m\u001b[0m\n",
      "\u001b[0m\u001b[0;32m    338 \u001b[0;31m\u001b[0;34m\u001b[0m\u001b[0m\n",
      "\u001b[0m\u001b[0;32m    339 \u001b[0;31m    def insert(\n",
      "\u001b[0m\n"
     ]
    },
    {
     "name": "stdin",
     "output_type": "stream",
     "text": [
      "ipdb>  u\n"
     ]
    },
    {
     "name": "stdout",
     "output_type": "stream",
     "text": [
      "> \u001b[0;32m/home/shijiegu/Documents/spyglass/src/spyglass/shijiegu/decodeHelpers.py\u001b[0m(249)\u001b[0;36mthresholder_sort\u001b[0;34m()\u001b[0m\n",
      "\u001b[0;32m    247 \u001b[0;31m\u001b[0;34m\u001b[0m\u001b[0m\n",
      "\u001b[0m\u001b[0;32m    248 \u001b[0;31m        \u001b[0;32mif\u001b[0m \u001b[0mpopulate\u001b[0m\u001b[0;34m:\u001b[0m\u001b[0;34m\u001b[0m\u001b[0;34m\u001b[0m\u001b[0m\n",
      "\u001b[0m\u001b[0;32m--> 249 \u001b[0;31m            \u001b[0mArtifactDetectionSelection\u001b[0m\u001b[0;34m.\u001b[0m\u001b[0minsert1\u001b[0m\u001b[0;34m(\u001b[0m\u001b[0martifact_key\u001b[0m\u001b[0;34m,\u001b[0m \u001b[0mskip_duplicates\u001b[0m\u001b[0;34m=\u001b[0m\u001b[0;32mTrue\u001b[0m\u001b[0;34m)\u001b[0m\u001b[0;34m\u001b[0m\u001b[0;34m\u001b[0m\u001b[0m\n",
      "\u001b[0m\u001b[0;32m    250 \u001b[0;31m\u001b[0;34m\u001b[0m\u001b[0m\n",
      "\u001b[0m\u001b[0;32m    251 \u001b[0;31m        \u001b[0martifact_key\u001b[0m\u001b[0;34m[\u001b[0m\u001b[0;34m'artifact_times'\u001b[0m\u001b[0;34m]\u001b[0m\u001b[0;34m=\u001b[0m\u001b[0martifact_time_list\u001b[0m\u001b[0;34m\u001b[0m\u001b[0;34m\u001b[0m\u001b[0m\n",
      "\u001b[0m\n"
     ]
    },
    {
     "name": "stdin",
     "output_type": "stream",
     "text": [
      "ipdb>  artifact_key\n"
     ]
    },
    {
     "name": "stdout",
     "output_type": "stream",
     "text": [
      "{'nwb_file_name': 'eliot20221021_.nwb', 'sort_interval_name': '01_Seq2Sleep1', 'sort_group_id': 0, 'preproc_params_name': 'franklab_tetrode_hippocampus', 'team_name': 'Shijie Gu', 'artifact_params_name': 'ampl_1500_prop_075_1ms'}\n"
     ]
    },
    {
     "name": "stdin",
     "output_type": "stream",
     "text": [
      "ipdb>  exit\n"
     ]
    }
   ],
   "source": [
    "%debug"
   ]
  },
  {
   "cell_type": "code",
   "execution_count": 24,
   "id": "8efb0958-4071-4b4c-86db-d86a5480c6d0",
   "metadata": {},
   "outputs": [
    {
     "data": {
      "text/html": [
       "\n",
       "    \n",
       "    <style type=\"text/css\">\n",
       "        .Table{\n",
       "            border-collapse:collapse;\n",
       "        }\n",
       "        .Table th{\n",
       "            background: #A0A0A0; color: #ffffff; padding:4px; border:#f0e0e0 1px solid;\n",
       "            font-weight: normal; font-family: monospace; font-size: 100%;\n",
       "        }\n",
       "        .Table td{\n",
       "            padding:4px; border:#f0e0e0 1px solid; font-size:100%;\n",
       "        }\n",
       "        .Table tr:nth-child(odd){\n",
       "            background: #ffffff;\n",
       "            color: #000000;\n",
       "        }\n",
       "        .Table tr:nth-child(even){\n",
       "            background: #f3f1ff;\n",
       "            color: #000000;\n",
       "        }\n",
       "        /* Tooltip container */\n",
       "        .djtooltip {\n",
       "        }\n",
       "        /* Tooltip text */\n",
       "        .djtooltip .djtooltiptext {\n",
       "            visibility: hidden;\n",
       "            width: 120px;\n",
       "            background-color: black;\n",
       "            color: #fff;\n",
       "            text-align: center;\n",
       "            padding: 5px 0;\n",
       "            border-radius: 6px;\n",
       "            /* Position the tooltip text - see examples below! */\n",
       "            position: absolute;\n",
       "            z-index: 1;\n",
       "        }\n",
       "        #primary {\n",
       "            font-weight: bold;\n",
       "            color: black;\n",
       "        }\n",
       "        #nonprimary {\n",
       "            font-weight: normal;\n",
       "            color: white;\n",
       "        }\n",
       "\n",
       "        /* Show the tooltip text when you mouse over the tooltip container */\n",
       "        .djtooltip:hover .djtooltiptext {\n",
       "            visibility: visible;\n",
       "        }\n",
       "    </style>\n",
       "    \n",
       "    <b></b>\n",
       "        <div style=\"max-height:1000px;max-width:1500px;overflow:auto;\">\n",
       "        <table border=\"1\" class=\"Table\">\n",
       "            <thead> <tr style=\"text-align: right;\"> <th> <div class=\"djtooltip\">\n",
       "                            <p id=\"primary\">nwb_file_name</p>\n",
       "                            <span class=\"djtooltiptext\">name of the NWB file</span>\n",
       "                        </div></th><th><div class=\"djtooltip\">\n",
       "                            <p id=\"primary\">sort_group_id</p>\n",
       "                            <span class=\"djtooltiptext\">identifier for a group of electrodes</span>\n",
       "                        </div></th><th><div class=\"djtooltip\">\n",
       "                            <p id=\"primary\">sort_interval_name</p>\n",
       "                            <span class=\"djtooltiptext\">name for this interval</span>\n",
       "                        </div></th><th><div class=\"djtooltip\">\n",
       "                            <p id=\"primary\">preproc_params_name</p>\n",
       "                            <span class=\"djtooltiptext\"></span>\n",
       "                        </div></th><th><div class=\"djtooltip\">\n",
       "                            <p id=\"primary\">team_name</p>\n",
       "                            <span class=\"djtooltiptext\"></span>\n",
       "                        </div></th><th><div class=\"djtooltip\">\n",
       "                            <p id=\"nonprimary\">recording_path</p>\n",
       "                            <span class=\"djtooltiptext\"></span>\n",
       "                        </div></th><th><div class=\"djtooltip\">\n",
       "                            <p id=\"nonprimary\">sort_interval_list_name</p>\n",
       "                            <span class=\"djtooltiptext\">descriptive name of this interval list</span>\n",
       "                        </div> </th> </tr> </thead>\n",
       "            <tbody> <tr>  </tr> </tbody>\n",
       "        </table>\n",
       "        \n",
       "        <p>Total: 0</p></div>\n",
       "        "
      ],
      "text/plain": [
       "*nwb_file_name *sort_group_id *sort_interval *preproc_param *team_name    recording_path sort_interval_\n",
       "+------------+ +------------+ +------------+ +------------+ +-----------+ +------------+ +------------+\n",
       "\n",
       " (Total: 0)"
      ]
     },
     "execution_count": 24,
     "metadata": {},
     "output_type": "execute_result"
    }
   ],
   "source": [
    "SpikeSortingRecording & {'nwb_file_name': 'eliot20221021_.nwb', 'sort_interval_name': '01_Seq2Sleep1'}"
   ]
  },
  {
   "cell_type": "code",
   "execution_count": null,
   "id": "1d53ad03-555f-4311-9fe6-b9831a55be31",
   "metadata": {},
   "outputs": [],
   "source": []
  },
  {
   "cell_type": "code",
   "execution_count": 10,
   "id": "33403979-b322-4f66-8c4a-770c5830449f",
   "metadata": {},
   "outputs": [
    {
     "data": {
      "text/html": [
       "\n",
       "    \n",
       "    <style type=\"text/css\">\n",
       "        .Table{\n",
       "            border-collapse:collapse;\n",
       "        }\n",
       "        .Table th{\n",
       "            background: #A0A0A0; color: #ffffff; padding:4px; border:#f0e0e0 1px solid;\n",
       "            font-weight: normal; font-family: monospace; font-size: 100%;\n",
       "        }\n",
       "        .Table td{\n",
       "            padding:4px; border:#f0e0e0 1px solid; font-size:100%;\n",
       "        }\n",
       "        .Table tr:nth-child(odd){\n",
       "            background: #ffffff;\n",
       "            color: #000000;\n",
       "        }\n",
       "        .Table tr:nth-child(even){\n",
       "            background: #f3f1ff;\n",
       "            color: #000000;\n",
       "        }\n",
       "        /* Tooltip container */\n",
       "        .djtooltip {\n",
       "        }\n",
       "        /* Tooltip text */\n",
       "        .djtooltip .djtooltiptext {\n",
       "            visibility: hidden;\n",
       "            width: 120px;\n",
       "            background-color: black;\n",
       "            color: #fff;\n",
       "            text-align: center;\n",
       "            padding: 5px 0;\n",
       "            border-radius: 6px;\n",
       "            /* Position the tooltip text - see examples below! */\n",
       "            position: absolute;\n",
       "            z-index: 1;\n",
       "        }\n",
       "        #primary {\n",
       "            font-weight: bold;\n",
       "            color: black;\n",
       "        }\n",
       "        #nonprimary {\n",
       "            font-weight: normal;\n",
       "            color: white;\n",
       "        }\n",
       "\n",
       "        /* Show the tooltip text when you mouse over the tooltip container */\n",
       "        .djtooltip:hover .djtooltiptext {\n",
       "            visibility: visible;\n",
       "        }\n",
       "    </style>\n",
       "    \n",
       "    <b>decoded replay content</b>\n",
       "        <div style=\"max-height:1000px;max-width:1500px;overflow:auto;\">\n",
       "        <table border=\"1\" class=\"Table\">\n",
       "            <thead> <tr style=\"text-align: right;\"> <th> <div class=\"djtooltip\">\n",
       "                            <p id=\"primary\">nwb_file_name</p>\n",
       "                            <span class=\"djtooltiptext\">name of the NWB file</span>\n",
       "                        </div></th><th><div class=\"djtooltip\">\n",
       "                            <p id=\"primary\">interval_list_name</p>\n",
       "                            <span class=\"djtooltiptext\">descriptive name of this interval list</span>\n",
       "                        </div></th><th><div class=\"djtooltip\">\n",
       "                            <p id=\"nonprimary\">marks</p>\n",
       "                            <span class=\"djtooltiptext\">valid marks within that interval</span>\n",
       "                        </div></th><th><div class=\"djtooltip\">\n",
       "                            <p id=\"nonprimary\">position_1d</p>\n",
       "                            <span class=\"djtooltiptext\">valid position within that interval (1D), inluding all rat-on-track time</span>\n",
       "                        </div></th><th><div class=\"djtooltip\">\n",
       "                            <p id=\"nonprimary\">position_2d</p>\n",
       "                            <span class=\"djtooltiptext\">valid position within that interval (2D), inluding all rat-on-track time</span>\n",
       "                        </div> </th> </tr> </thead>\n",
       "            <tbody> <tr>  </tr> </tbody>\n",
       "        </table>\n",
       "        \n",
       "        <p>Total: 0</p></div>\n",
       "        "
      ],
      "text/plain": [
       "*nwb_file_name *interval_list marks      position_1 position_2\n",
       "+------------+ +------------+ +--------+ +--------+ +--------+\n",
       "\n",
       " (Total: 0)"
      ]
     },
     "execution_count": 10,
     "metadata": {},
     "output_type": "execute_result"
    }
   ],
   "source": [
    "from spyglass.shijiegu.Analysis_SGU import DecodeIngredients\n",
    "key={'nwb_file_name':nwb_copy_file_name}\n",
    "DecodeIngredients() & key"
   ]
  },
  {
   "cell_type": "code",
   "execution_count": 98,
   "id": "99c13155-292b-41e3-96e0-32f30c348592",
   "metadata": {},
   "outputs": [
    {
     "data": {
      "text/html": [
       "\n",
       "    \n",
       "    <style type=\"text/css\">\n",
       "        .Table{\n",
       "            border-collapse:collapse;\n",
       "        }\n",
       "        .Table th{\n",
       "            background: #A0A0A0; color: #ffffff; padding:4px; border:#f0e0e0 1px solid;\n",
       "            font-weight: normal; font-family: monospace; font-size: 100%;\n",
       "        }\n",
       "        .Table td{\n",
       "            padding:4px; border:#f0e0e0 1px solid; font-size:100%;\n",
       "        }\n",
       "        .Table tr:nth-child(odd){\n",
       "            background: #ffffff;\n",
       "            color: #000000;\n",
       "        }\n",
       "        .Table tr:nth-child(even){\n",
       "            background: #f3f1ff;\n",
       "            color: #000000;\n",
       "        }\n",
       "        /* Tooltip container */\n",
       "        .djtooltip {\n",
       "        }\n",
       "        /* Tooltip text */\n",
       "        .djtooltip .djtooltiptext {\n",
       "            visibility: hidden;\n",
       "            width: 120px;\n",
       "            background-color: black;\n",
       "            color: #fff;\n",
       "            text-align: center;\n",
       "            padding: 5px 0;\n",
       "            border-radius: 6px;\n",
       "            /* Position the tooltip text - see examples below! */\n",
       "            position: absolute;\n",
       "            z-index: 1;\n",
       "        }\n",
       "        #primary {\n",
       "            font-weight: bold;\n",
       "            color: black;\n",
       "        }\n",
       "        #nonprimary {\n",
       "            font-weight: normal;\n",
       "            color: white;\n",
       "        }\n",
       "\n",
       "        /* Show the tooltip text when you mouse over the tooltip container */\n",
       "        .djtooltip:hover .djtooltiptext {\n",
       "            visibility: visible;\n",
       "        }\n",
       "    </style>\n",
       "    \n",
       "    <b>Table for holding selection of recording and parameters for each spike sorting run</b>\n",
       "        <div style=\"max-height:1000px;max-width:1500px;overflow:auto;\">\n",
       "        <table border=\"1\" class=\"Table\">\n",
       "            <thead> <tr style=\"text-align: right;\"> <th> <div class=\"djtooltip\">\n",
       "                            <p id=\"primary\">nwb_file_name</p>\n",
       "                            <span class=\"djtooltiptext\">name of the NWB file</span>\n",
       "                        </div></th><th><div class=\"djtooltip\">\n",
       "                            <p id=\"primary\">sort_group_id</p>\n",
       "                            <span class=\"djtooltiptext\">identifier for a group of electrodes</span>\n",
       "                        </div></th><th><div class=\"djtooltip\">\n",
       "                            <p id=\"primary\">sort_interval_name</p>\n",
       "                            <span class=\"djtooltiptext\">name for this interval</span>\n",
       "                        </div></th><th><div class=\"djtooltip\">\n",
       "                            <p id=\"primary\">preproc_params_name</p>\n",
       "                            <span class=\"djtooltiptext\"></span>\n",
       "                        </div></th><th><div class=\"djtooltip\">\n",
       "                            <p id=\"primary\">team_name</p>\n",
       "                            <span class=\"djtooltiptext\"></span>\n",
       "                        </div></th><th><div class=\"djtooltip\">\n",
       "                            <p id=\"primary\">sorter</p>\n",
       "                            <span class=\"djtooltiptext\"></span>\n",
       "                        </div></th><th><div class=\"djtooltip\">\n",
       "                            <p id=\"primary\">sorter_params_name</p>\n",
       "                            <span class=\"djtooltiptext\"></span>\n",
       "                        </div></th><th><div class=\"djtooltip\">\n",
       "                            <p id=\"primary\">artifact_removed_interval_list_name</p>\n",
       "                            <span class=\"djtooltiptext\"></span>\n",
       "                        </div></th><th><div class=\"djtooltip\">\n",
       "                            <p id=\"nonprimary\">import_path</p>\n",
       "                            <span class=\"djtooltiptext\">optional path to previous curated sorting output</span>\n",
       "                        </div> </th> </tr> </thead>\n",
       "            <tbody> <tr> <td>molly20220415_.nwb</td>\n",
       "<td>0</td>\n",
       "<td>01_SeqSleep1</td>\n",
       "<td>franklab_tetrode_hippocampus</td>\n",
       "<td>SequenceTask</td>\n",
       "<td>clusterless_thresholder</td>\n",
       "<td>default</td>\n",
       "<td>molly20220415_.nwb_01_SeqSleep1_0_franklab_tetrode_hippocampus_ampl_1500_prop_075_1ms_artifact_removed_valid_times_track_time_only</td>\n",
       "<td></td></tr><tr><td>molly20220415_.nwb</td>\n",
       "<td>0</td>\n",
       "<td>02_SeqSession1</td>\n",
       "<td>franklab_tetrode_hippocampus</td>\n",
       "<td>SequenceTask</td>\n",
       "<td>clusterless_thresholder</td>\n",
       "<td>default</td>\n",
       "<td>molly20220415_.nwb_02_SeqSession1_0_franklab_tetrode_hippocampus_ampl_1500_prop_075_1ms_artifact_removed_valid_times_track_time_only</td>\n",
       "<td></td></tr><tr><td>molly20220415_.nwb</td>\n",
       "<td>0</td>\n",
       "<td>02_SeqSession1</td>\n",
       "<td>franklab_tetrode_hippocampus</td>\n",
       "<td>SequenceTask</td>\n",
       "<td>mountainsort4</td>\n",
       "<td>CA1_tet_Shijie</td>\n",
       "<td>molly20220415_.nwb_02_SeqSession1_0_franklab_tetrode_hippocampus_ampl_1500_prop_075_1ms_artifact_removed_valid_times_track_time_only</td>\n",
       "<td></td></tr><tr><td>molly20220415_.nwb</td>\n",
       "<td>0</td>\n",
       "<td>03_SeqSleep2</td>\n",
       "<td>franklab_tetrode_hippocampus</td>\n",
       "<td>SequenceTask</td>\n",
       "<td>clusterless_thresholder</td>\n",
       "<td>default</td>\n",
       "<td>molly20220415_.nwb_03_SeqSleep2_0_franklab_tetrode_hippocampus_ampl_1500_prop_075_1ms_artifact_removed_valid_times_track_time_only</td>\n",
       "<td></td></tr><tr><td>molly20220415_.nwb</td>\n",
       "<td>0</td>\n",
       "<td>04_Seq2Session1</td>\n",
       "<td>franklab_tetrode_hippocampus</td>\n",
       "<td>SequenceTask</td>\n",
       "<td>clusterless_thresholder</td>\n",
       "<td>default</td>\n",
       "<td>molly20220415_.nwb_04_Seq2Session1_0_franklab_tetrode_hippocampus_ampl_1500_prop_075_1ms_artifact_removed_valid_times_track_time_only</td>\n",
       "<td></td></tr><tr><td>molly20220415_.nwb</td>\n",
       "<td>0</td>\n",
       "<td>04_Seq2Session1</td>\n",
       "<td>franklab_tetrode_hippocampus</td>\n",
       "<td>SequenceTask</td>\n",
       "<td>mountainsort4</td>\n",
       "<td>CA1_tet_Shijie</td>\n",
       "<td>molly20220415_.nwb_04_Seq2Session1_0_franklab_tetrode_hippocampus_ampl_1500_prop_075_1ms_artifact_removed_valid_times_track_time_only</td>\n",
       "<td></td></tr><tr><td>molly20220415_.nwb</td>\n",
       "<td>0</td>\n",
       "<td>05_Seq2Sleep2</td>\n",
       "<td>franklab_tetrode_hippocampus</td>\n",
       "<td>SequenceTask</td>\n",
       "<td>clusterless_thresholder</td>\n",
       "<td>default</td>\n",
       "<td>molly20220415_.nwb_05_Seq2Sleep2_0_franklab_tetrode_hippocampus_ampl_1500_prop_075_1ms_artifact_removed_valid_times_track_time_only</td>\n",
       "<td></td></tr><tr><td>molly20220415_.nwb</td>\n",
       "<td>0</td>\n",
       "<td>06_Seq2Session2</td>\n",
       "<td>franklab_tetrode_hippocampus</td>\n",
       "<td>SequenceTask</td>\n",
       "<td>clusterless_thresholder</td>\n",
       "<td>default</td>\n",
       "<td>molly20220415_.nwb_06_Seq2Session2_0_franklab_tetrode_hippocampus_ampl_1500_prop_075_1ms_artifact_removed_valid_times_track_time_only</td>\n",
       "<td></td></tr><tr><td>molly20220415_.nwb</td>\n",
       "<td>0</td>\n",
       "<td>06_Seq2Session2</td>\n",
       "<td>franklab_tetrode_hippocampus</td>\n",
       "<td>SequenceTask</td>\n",
       "<td>mountainsort4</td>\n",
       "<td>CA1_tet_Shijie</td>\n",
       "<td>molly20220415_.nwb_06_Seq2Session2_0_franklab_tetrode_hippocampus_ampl_1500_prop_075_1ms_artifact_removed_valid_times_track_time_only</td>\n",
       "<td></td></tr><tr><td>molly20220415_.nwb</td>\n",
       "<td>0</td>\n",
       "<td>07_Seq2Sleep3</td>\n",
       "<td>franklab_tetrode_hippocampus</td>\n",
       "<td>SequenceTask</td>\n",
       "<td>clusterless_thresholder</td>\n",
       "<td>default</td>\n",
       "<td>molly20220415_.nwb_07_Seq2Sleep3_0_franklab_tetrode_hippocampus_ampl_1500_prop_075_1ms_artifact_removed_valid_times_track_time_only</td>\n",
       "<td></td></tr><tr><td>molly20220415_.nwb</td>\n",
       "<td>0</td>\n",
       "<td>08_Seq2Session3</td>\n",
       "<td>franklab_tetrode_hippocampus</td>\n",
       "<td>SequenceTask</td>\n",
       "<td>clusterless_thresholder</td>\n",
       "<td>default</td>\n",
       "<td>molly20220415_.nwb_08_Seq2Session3_0_franklab_tetrode_hippocampus_ampl_1500_prop_075_1ms_artifact_removed_valid_times_track_time_only</td>\n",
       "<td></td></tr><tr><td>molly20220415_.nwb</td>\n",
       "<td>0</td>\n",
       "<td>08_Seq2Session3</td>\n",
       "<td>franklab_tetrode_hippocampus</td>\n",
       "<td>SequenceTask</td>\n",
       "<td>mountainsort4</td>\n",
       "<td>CA1_tet_Shijie</td>\n",
       "<td>molly20220415_.nwb_08_Seq2Session3_0_franklab_tetrode_hippocampus_ampl_1500_prop_075_1ms_artifact_removed_valid_times_track_time_only</td>\n",
       "<td></td> </tr> </tbody>\n",
       "        </table>\n",
       "        <p>...</p>\n",
       "        <p>Total: 289</p></div>\n",
       "        "
      ],
      "text/plain": [
       "*nwb_file_name *sort_group_id *sort_interval *preproc_param *team_name     *sorter        *sorter_params *artifact_remo import_path   \n",
       "+------------+ +------------+ +------------+ +------------+ +------------+ +------------+ +------------+ +------------+ +------------+\n",
       "molly20220415_ 0              01_SeqSleep1   franklab_tetro SequenceTask   clusterless_th default        molly20220415_               \n",
       "molly20220415_ 0              02_SeqSession1 franklab_tetro SequenceTask   clusterless_th default        molly20220415_               \n",
       "molly20220415_ 0              02_SeqSession1 franklab_tetro SequenceTask   mountainsort4  CA1_tet_Shijie molly20220415_               \n",
       "molly20220415_ 0              03_SeqSleep2   franklab_tetro SequenceTask   clusterless_th default        molly20220415_               \n",
       "molly20220415_ 0              04_Seq2Session franklab_tetro SequenceTask   clusterless_th default        molly20220415_               \n",
       "molly20220415_ 0              04_Seq2Session franklab_tetro SequenceTask   mountainsort4  CA1_tet_Shijie molly20220415_               \n",
       "molly20220415_ 0              05_Seq2Sleep2  franklab_tetro SequenceTask   clusterless_th default        molly20220415_               \n",
       "molly20220415_ 0              06_Seq2Session franklab_tetro SequenceTask   clusterless_th default        molly20220415_               \n",
       "molly20220415_ 0              06_Seq2Session franklab_tetro SequenceTask   mountainsort4  CA1_tet_Shijie molly20220415_               \n",
       "molly20220415_ 0              07_Seq2Sleep3  franklab_tetro SequenceTask   clusterless_th default        molly20220415_               \n",
       "molly20220415_ 0              08_Seq2Session franklab_tetro SequenceTask   clusterless_th default        molly20220415_               \n",
       "molly20220415_ 0              08_Seq2Session franklab_tetro SequenceTask   mountainsort4  CA1_tet_Shijie molly20220415_               \n",
       "   ...\n",
       " (Total: 289)"
      ]
     },
     "execution_count": 98,
     "metadata": {},
     "output_type": "execute_result"
    }
   ],
   "source": [
    "(SpikeSortingSelection & {'nwb_file_name': nwb_copy_file_name})"
   ]
  },
  {
   "cell_type": "code",
   "execution_count": 97,
   "id": "5997a5fb-df13-47f0-8a7a-0a03cebd4d6e",
   "metadata": {},
   "outputs": [
    {
     "data": {
      "text/html": [
       "\n",
       "    \n",
       "    <style type=\"text/css\">\n",
       "        .Table{\n",
       "            border-collapse:collapse;\n",
       "        }\n",
       "        .Table th{\n",
       "            background: #A0A0A0; color: #ffffff; padding:4px; border:#f0e0e0 1px solid;\n",
       "            font-weight: normal; font-family: monospace; font-size: 100%;\n",
       "        }\n",
       "        .Table td{\n",
       "            padding:4px; border:#f0e0e0 1px solid; font-size:100%;\n",
       "        }\n",
       "        .Table tr:nth-child(odd){\n",
       "            background: #ffffff;\n",
       "            color: #000000;\n",
       "        }\n",
       "        .Table tr:nth-child(even){\n",
       "            background: #f3f1ff;\n",
       "            color: #000000;\n",
       "        }\n",
       "        /* Tooltip container */\n",
       "        .djtooltip {\n",
       "        }\n",
       "        /* Tooltip text */\n",
       "        .djtooltip .djtooltiptext {\n",
       "            visibility: hidden;\n",
       "            width: 120px;\n",
       "            background-color: black;\n",
       "            color: #fff;\n",
       "            text-align: center;\n",
       "            padding: 5px 0;\n",
       "            border-radius: 6px;\n",
       "            /* Position the tooltip text - see examples below! */\n",
       "            position: absolute;\n",
       "            z-index: 1;\n",
       "        }\n",
       "        #primary {\n",
       "            font-weight: bold;\n",
       "            color: black;\n",
       "        }\n",
       "        #nonprimary {\n",
       "            font-weight: normal;\n",
       "            color: white;\n",
       "        }\n",
       "\n",
       "        /* Show the tooltip text when you mouse over the tooltip container */\n",
       "        .djtooltip:hover .djtooltiptext {\n",
       "            visibility: visible;\n",
       "        }\n",
       "    </style>\n",
       "    \n",
       "    <b></b>\n",
       "        <div style=\"max-height:1000px;max-width:1500px;overflow:auto;\">\n",
       "        <table border=\"1\" class=\"Table\">\n",
       "            <thead> <tr style=\"text-align: right;\"> <th> <div class=\"djtooltip\">\n",
       "                            <p id=\"primary\">nwb_file_name</p>\n",
       "                            <span class=\"djtooltiptext\">name of the NWB file</span>\n",
       "                        </div></th><th><div class=\"djtooltip\">\n",
       "                            <p id=\"primary\">sort_group_id</p>\n",
       "                            <span class=\"djtooltiptext\">identifier for a group of electrodes</span>\n",
       "                        </div></th><th><div class=\"djtooltip\">\n",
       "                            <p id=\"primary\">sort_interval_name</p>\n",
       "                            <span class=\"djtooltiptext\">name for this interval</span>\n",
       "                        </div></th><th><div class=\"djtooltip\">\n",
       "                            <p id=\"primary\">preproc_params_name</p>\n",
       "                            <span class=\"djtooltiptext\"></span>\n",
       "                        </div></th><th><div class=\"djtooltip\">\n",
       "                            <p id=\"primary\">team_name</p>\n",
       "                            <span class=\"djtooltiptext\"></span>\n",
       "                        </div></th><th><div class=\"djtooltip\">\n",
       "                            <p id=\"primary\">sorter</p>\n",
       "                            <span class=\"djtooltiptext\"></span>\n",
       "                        </div></th><th><div class=\"djtooltip\">\n",
       "                            <p id=\"primary\">sorter_params_name</p>\n",
       "                            <span class=\"djtooltiptext\"></span>\n",
       "                        </div></th><th><div class=\"djtooltip\">\n",
       "                            <p id=\"primary\">artifact_removed_interval_list_name</p>\n",
       "                            <span class=\"djtooltiptext\"></span>\n",
       "                        </div></th><th><div class=\"djtooltip\">\n",
       "                            <p id=\"nonprimary\">sorting_path</p>\n",
       "                            <span class=\"djtooltiptext\"></span>\n",
       "                        </div></th><th><div class=\"djtooltip\">\n",
       "                            <p id=\"nonprimary\">time_of_sort</p>\n",
       "                            <span class=\"djtooltiptext\">in Unix time, to the nearest second</span>\n",
       "                        </div> </th> </tr> </thead>\n",
       "            <tbody> <tr> <td>molly20220415_.nwb</td>\n",
       "<td>0</td>\n",
       "<td>01_SeqSleep1</td>\n",
       "<td>franklab_tetrode_hippocampus</td>\n",
       "<td>SequenceTask</td>\n",
       "<td>clusterless_thresholder</td>\n",
       "<td>default</td>\n",
       "<td>molly20220415_.nwb_01_SeqSleep1_0_franklab_tetrode_hippocampus_ampl_1500_prop_075_1ms_artifact_removed_valid_times_track_time_only</td>\n",
       "<td>/stelmo/nwb/sorting/molly20220415_.nwb_01_SeqSleep1_0_franklab_tetrode_hippocampus_a1942e35_spikesorting</td>\n",
       "<td>1732918641</td></tr><tr><td>molly20220415_.nwb</td>\n",
       "<td>0</td>\n",
       "<td>02_SeqSession1</td>\n",
       "<td>franklab_tetrode_hippocampus</td>\n",
       "<td>SequenceTask</td>\n",
       "<td>clusterless_thresholder</td>\n",
       "<td>default</td>\n",
       "<td>molly20220415_.nwb_02_SeqSession1_0_franklab_tetrode_hippocampus_ampl_1500_prop_075_1ms_artifact_removed_valid_times_track_time_only</td>\n",
       "<td>/stelmo/nwb/sorting/molly20220415_.nwb_02_SeqSession1_0_franklab_tetrode_hippocampus_0b168993_spikesorting</td>\n",
       "<td>1732908828</td></tr><tr><td>molly20220415_.nwb</td>\n",
       "<td>0</td>\n",
       "<td>02_SeqSession1</td>\n",
       "<td>franklab_tetrode_hippocampus</td>\n",
       "<td>SequenceTask</td>\n",
       "<td>mountainsort4</td>\n",
       "<td>CA1_tet_Shijie</td>\n",
       "<td>molly20220415_.nwb_02_SeqSession1_0_franklab_tetrode_hippocampus_ampl_1500_prop_075_1ms_artifact_removed_valid_times_track_time_only</td>\n",
       "<td>/stelmo/nwb/sorting/molly20220415_.nwb_02_SeqSession1_0_franklab_tetrode_hippocampus_8fe7bc6d_spikesorting</td>\n",
       "<td>1733377879</td></tr><tr><td>molly20220415_.nwb</td>\n",
       "<td>0</td>\n",
       "<td>03_SeqSleep2</td>\n",
       "<td>franklab_tetrode_hippocampus</td>\n",
       "<td>SequenceTask</td>\n",
       "<td>clusterless_thresholder</td>\n",
       "<td>default</td>\n",
       "<td>molly20220415_.nwb_03_SeqSleep2_0_franklab_tetrode_hippocampus_ampl_1500_prop_075_1ms_artifact_removed_valid_times_track_time_only</td>\n",
       "<td>/stelmo/nwb/sorting/molly20220415_.nwb_03_SeqSleep2_0_franklab_tetrode_hippocampus_7f5b1cb9_spikesorting</td>\n",
       "<td>1732918792</td></tr><tr><td>molly20220415_.nwb</td>\n",
       "<td>0</td>\n",
       "<td>04_Seq2Session1</td>\n",
       "<td>franklab_tetrode_hippocampus</td>\n",
       "<td>SequenceTask</td>\n",
       "<td>clusterless_thresholder</td>\n",
       "<td>default</td>\n",
       "<td>molly20220415_.nwb_04_Seq2Session1_0_franklab_tetrode_hippocampus_ampl_1500_prop_075_1ms_artifact_removed_valid_times_track_time_only</td>\n",
       "<td>/stelmo/nwb/sorting/molly20220415_.nwb_04_Seq2Session1_0_franklab_tetrode_hippocampus_dfacc142_spikesorting</td>\n",
       "<td>1732915509</td></tr><tr><td>molly20220415_.nwb</td>\n",
       "<td>0</td>\n",
       "<td>04_Seq2Session1</td>\n",
       "<td>franklab_tetrode_hippocampus</td>\n",
       "<td>SequenceTask</td>\n",
       "<td>mountainsort4</td>\n",
       "<td>CA1_tet_Shijie</td>\n",
       "<td>molly20220415_.nwb_04_Seq2Session1_0_franklab_tetrode_hippocampus_ampl_1500_prop_075_1ms_artifact_removed_valid_times_track_time_only</td>\n",
       "<td>/stelmo/nwb/sorting/molly20220415_.nwb_04_Seq2Session1_0_franklab_tetrode_hippocampus_d637aa72_spikesorting</td>\n",
       "<td>1733379381</td></tr><tr><td>molly20220415_.nwb</td>\n",
       "<td>0</td>\n",
       "<td>05_Seq2Sleep2</td>\n",
       "<td>franklab_tetrode_hippocampus</td>\n",
       "<td>SequenceTask</td>\n",
       "<td>clusterless_thresholder</td>\n",
       "<td>default</td>\n",
       "<td>molly20220415_.nwb_05_Seq2Sleep2_0_franklab_tetrode_hippocampus_ampl_1500_prop_075_1ms_artifact_removed_valid_times_track_time_only</td>\n",
       "<td>/stelmo/nwb/sorting/molly20220415_.nwb_05_Seq2Sleep2_0_franklab_tetrode_hippocampus_7e845968_spikesorting</td>\n",
       "<td>1732918966</td></tr><tr><td>molly20220415_.nwb</td>\n",
       "<td>0</td>\n",
       "<td>06_Seq2Session2</td>\n",
       "<td>franklab_tetrode_hippocampus</td>\n",
       "<td>SequenceTask</td>\n",
       "<td>clusterless_thresholder</td>\n",
       "<td>default</td>\n",
       "<td>molly20220415_.nwb_06_Seq2Session2_0_franklab_tetrode_hippocampus_ampl_1500_prop_075_1ms_artifact_removed_valid_times_track_time_only</td>\n",
       "<td>/stelmo/nwb/sorting/molly20220415_.nwb_06_Seq2Session2_0_franklab_tetrode_hippocampus_2b632e33_spikesorting</td>\n",
       "<td>1732916609</td></tr><tr><td>molly20220415_.nwb</td>\n",
       "<td>0</td>\n",
       "<td>06_Seq2Session2</td>\n",
       "<td>franklab_tetrode_hippocampus</td>\n",
       "<td>SequenceTask</td>\n",
       "<td>mountainsort4</td>\n",
       "<td>CA1_tet_Shijie</td>\n",
       "<td>molly20220415_.nwb_06_Seq2Session2_0_franklab_tetrode_hippocampus_ampl_1500_prop_075_1ms_artifact_removed_valid_times_track_time_only</td>\n",
       "<td>/stelmo/nwb/sorting/molly20220415_.nwb_06_Seq2Session2_0_franklab_tetrode_hippocampus_b02814cf_spikesorting</td>\n",
       "<td>1733381719</td></tr><tr><td>molly20220415_.nwb</td>\n",
       "<td>0</td>\n",
       "<td>07_Seq2Sleep3</td>\n",
       "<td>franklab_tetrode_hippocampus</td>\n",
       "<td>SequenceTask</td>\n",
       "<td>clusterless_thresholder</td>\n",
       "<td>default</td>\n",
       "<td>molly20220415_.nwb_07_Seq2Sleep3_0_franklab_tetrode_hippocampus_ampl_1500_prop_075_1ms_artifact_removed_valid_times_track_time_only</td>\n",
       "<td>/stelmo/nwb/sorting/molly20220415_.nwb_07_Seq2Sleep3_0_franklab_tetrode_hippocampus_aadce58c_spikesorting</td>\n",
       "<td>1733442805</td></tr><tr><td>molly20220415_.nwb</td>\n",
       "<td>0</td>\n",
       "<td>08_Seq2Session3</td>\n",
       "<td>franklab_tetrode_hippocampus</td>\n",
       "<td>SequenceTask</td>\n",
       "<td>clusterless_thresholder</td>\n",
       "<td>default</td>\n",
       "<td>molly20220415_.nwb_08_Seq2Session3_0_franklab_tetrode_hippocampus_ampl_1500_prop_075_1ms_artifact_removed_valid_times_track_time_only</td>\n",
       "<td>/stelmo/nwb/sorting/molly20220415_.nwb_08_Seq2Session3_0_franklab_tetrode_hippocampus_c10a00f1_spikesorting</td>\n",
       "<td>1732917681</td></tr><tr><td>molly20220415_.nwb</td>\n",
       "<td>0</td>\n",
       "<td>08_Seq2Session3</td>\n",
       "<td>franklab_tetrode_hippocampus</td>\n",
       "<td>SequenceTask</td>\n",
       "<td>mountainsort4</td>\n",
       "<td>CA1_tet_Shijie</td>\n",
       "<td>molly20220415_.nwb_08_Seq2Session3_0_franklab_tetrode_hippocampus_ampl_1500_prop_075_1ms_artifact_removed_valid_times_track_time_only</td>\n",
       "<td>/stelmo/nwb/sorting/molly20220415_.nwb_08_Seq2Session3_0_franklab_tetrode_hippocampus_fe5b3649_spikesorting</td>\n",
       "<td>1733383971</td> </tr> </tbody>\n",
       "        </table>\n",
       "        <p>...</p>\n",
       "        <p>Total: 289</p></div>\n",
       "        "
      ],
      "text/plain": [
       "*nwb_file_name *sort_group_id *sort_interval *preproc_param *team_name     *sorter        *sorter_params *artifact_remo sorting_path   time_of_sort  \n",
       "+------------+ +------------+ +------------+ +------------+ +------------+ +------------+ +------------+ +------------+ +------------+ +------------+\n",
       "molly20220415_ 0              01_SeqSleep1   franklab_tetro SequenceTask   clusterless_th default        molly20220415_ /stelmo/nwb/so 1732918641    \n",
       "molly20220415_ 0              02_SeqSession1 franklab_tetro SequenceTask   clusterless_th default        molly20220415_ /stelmo/nwb/so 1732908828    \n",
       "molly20220415_ 0              02_SeqSession1 franklab_tetro SequenceTask   mountainsort4  CA1_tet_Shijie molly20220415_ /stelmo/nwb/so 1733377879    \n",
       "molly20220415_ 0              03_SeqSleep2   franklab_tetro SequenceTask   clusterless_th default        molly20220415_ /stelmo/nwb/so 1732918792    \n",
       "molly20220415_ 0              04_Seq2Session franklab_tetro SequenceTask   clusterless_th default        molly20220415_ /stelmo/nwb/so 1732915509    \n",
       "molly20220415_ 0              04_Seq2Session franklab_tetro SequenceTask   mountainsort4  CA1_tet_Shijie molly20220415_ /stelmo/nwb/so 1733379381    \n",
       "molly20220415_ 0              05_Seq2Sleep2  franklab_tetro SequenceTask   clusterless_th default        molly20220415_ /stelmo/nwb/so 1732918966    \n",
       "molly20220415_ 0              06_Seq2Session franklab_tetro SequenceTask   clusterless_th default        molly20220415_ /stelmo/nwb/so 1732916609    \n",
       "molly20220415_ 0              06_Seq2Session franklab_tetro SequenceTask   mountainsort4  CA1_tet_Shijie molly20220415_ /stelmo/nwb/so 1733381719    \n",
       "molly20220415_ 0              07_Seq2Sleep3  franklab_tetro SequenceTask   clusterless_th default        molly20220415_ /stelmo/nwb/so 1733442805    \n",
       "molly20220415_ 0              08_Seq2Session franklab_tetro SequenceTask   clusterless_th default        molly20220415_ /stelmo/nwb/so 1732917681    \n",
       "molly20220415_ 0              08_Seq2Session franklab_tetro SequenceTask   mountainsort4  CA1_tet_Shijie molly20220415_ /stelmo/nwb/so 1733383971    \n",
       "   ...\n",
       " (Total: 289)"
      ]
     },
     "execution_count": 97,
     "metadata": {},
     "output_type": "execute_result"
    }
   ],
   "source": [
    "(SpikeSorting & {'nwb_file_name': nwb_copy_file_name})"
   ]
  },
  {
   "cell_type": "markdown",
   "id": "b54870f8-6e48-4c41-92ee-df82f560d649",
   "metadata": {},
   "source": [
    "# END HERE"
   ]
  },
  {
   "cell_type": "code",
   "execution_count": 2,
   "id": "c0a7782c-cbc8-4a79-8858-341eedce9ec3",
   "metadata": {},
   "outputs": [],
   "source": [
    "## try loading\n",
    "nwb_copy_file_name = 'lewis20240121_.nwb'"
   ]
  },
  {
   "cell_type": "code",
   "execution_count": 44,
   "id": "49a4e8aa-3015-40e6-adef-0afcc909a4c4",
   "metadata": {},
   "outputs": [],
   "source": [
    "e=0"
   ]
  },
  {
   "cell_type": "code",
   "execution_count": 45,
   "id": "49851181-b4fe-4e07-bb97-7d8a2727b62d",
   "metadata": {},
   "outputs": [],
   "source": [
    "entry = DecodeIngredients & {'nwb_file_name':nwb_copy_file_name,\n",
    "     'interval_list_name':session_interval[e]}\n",
    "marks = xr.open_dataset(entry.fetch1('marks'))\n",
    "position_1d = pd.read_csv(entry.fetch1('position_1d'))\n",
    "position_2d = pd.read_csv(entry.fetch1('position_2d'))"
   ]
  },
  {
   "cell_type": "code",
   "execution_count": 46,
   "id": "4e8657a6-dc9f-4e5f-bbcb-e50b5bdb474e",
   "metadata": {},
   "outputs": [
    {
     "data": {
      "text/html": [
       "<div><svg style=\"position: absolute; width: 0; height: 0; overflow: hidden\">\n",
       "<defs>\n",
       "<symbol id=\"icon-database\" viewBox=\"0 0 32 32\">\n",
       "<path d=\"M16 0c-8.837 0-16 2.239-16 5v4c0 2.761 7.163 5 16 5s16-2.239 16-5v-4c0-2.761-7.163-5-16-5z\"></path>\n",
       "<path d=\"M16 17c-8.837 0-16-2.239-16-5v6c0 2.761 7.163 5 16 5s16-2.239 16-5v-6c0 2.761-7.163 5-16 5z\"></path>\n",
       "<path d=\"M16 26c-8.837 0-16-2.239-16-5v6c0 2.761 7.163 5 16 5s16-2.239 16-5v-6c0 2.761-7.163 5-16 5z\"></path>\n",
       "</symbol>\n",
       "<symbol id=\"icon-file-text2\" viewBox=\"0 0 32 32\">\n",
       "<path d=\"M28.681 7.159c-0.694-0.947-1.662-2.053-2.724-3.116s-2.169-2.030-3.116-2.724c-1.612-1.182-2.393-1.319-2.841-1.319h-15.5c-1.378 0-2.5 1.121-2.5 2.5v27c0 1.378 1.122 2.5 2.5 2.5h23c1.378 0 2.5-1.122 2.5-2.5v-19.5c0-0.448-0.137-1.23-1.319-2.841zM24.543 5.457c0.959 0.959 1.712 1.825 2.268 2.543h-4.811v-4.811c0.718 0.556 1.584 1.309 2.543 2.268zM28 29.5c0 0.271-0.229 0.5-0.5 0.5h-23c-0.271 0-0.5-0.229-0.5-0.5v-27c0-0.271 0.229-0.5 0.5-0.5 0 0 15.499-0 15.5 0v7c0 0.552 0.448 1 1 1h7v19.5z\"></path>\n",
       "<path d=\"M23 26h-14c-0.552 0-1-0.448-1-1s0.448-1 1-1h14c0.552 0 1 0.448 1 1s-0.448 1-1 1z\"></path>\n",
       "<path d=\"M23 22h-14c-0.552 0-1-0.448-1-1s0.448-1 1-1h14c0.552 0 1 0.448 1 1s-0.448 1-1 1z\"></path>\n",
       "<path d=\"M23 18h-14c-0.552 0-1-0.448-1-1s0.448-1 1-1h14c0.552 0 1 0.448 1 1s-0.448 1-1 1z\"></path>\n",
       "</symbol>\n",
       "</defs>\n",
       "</svg>\n",
       "<style>/* CSS stylesheet for displaying xarray objects in jupyterlab.\n",
       " *\n",
       " */\n",
       "\n",
       ":root {\n",
       "  --xr-font-color0: var(--jp-content-font-color0, rgba(0, 0, 0, 1));\n",
       "  --xr-font-color2: var(--jp-content-font-color2, rgba(0, 0, 0, 0.54));\n",
       "  --xr-font-color3: var(--jp-content-font-color3, rgba(0, 0, 0, 0.38));\n",
       "  --xr-border-color: var(--jp-border-color2, #e0e0e0);\n",
       "  --xr-disabled-color: var(--jp-layout-color3, #bdbdbd);\n",
       "  --xr-background-color: var(--jp-layout-color0, white);\n",
       "  --xr-background-color-row-even: var(--jp-layout-color1, white);\n",
       "  --xr-background-color-row-odd: var(--jp-layout-color2, #eeeeee);\n",
       "}\n",
       "\n",
       "html[theme=dark],\n",
       "body[data-theme=dark],\n",
       "body.vscode-dark {\n",
       "  --xr-font-color0: rgba(255, 255, 255, 1);\n",
       "  --xr-font-color2: rgba(255, 255, 255, 0.54);\n",
       "  --xr-font-color3: rgba(255, 255, 255, 0.38);\n",
       "  --xr-border-color: #1F1F1F;\n",
       "  --xr-disabled-color: #515151;\n",
       "  --xr-background-color: #111111;\n",
       "  --xr-background-color-row-even: #111111;\n",
       "  --xr-background-color-row-odd: #313131;\n",
       "}\n",
       "\n",
       ".xr-wrap {\n",
       "  display: block !important;\n",
       "  min-width: 300px;\n",
       "  max-width: 700px;\n",
       "}\n",
       "\n",
       ".xr-text-repr-fallback {\n",
       "  /* fallback to plain text repr when CSS is not injected (untrusted notebook) */\n",
       "  display: none;\n",
       "}\n",
       "\n",
       ".xr-header {\n",
       "  padding-top: 6px;\n",
       "  padding-bottom: 6px;\n",
       "  margin-bottom: 4px;\n",
       "  border-bottom: solid 1px var(--xr-border-color);\n",
       "}\n",
       "\n",
       ".xr-header > div,\n",
       ".xr-header > ul {\n",
       "  display: inline;\n",
       "  margin-top: 0;\n",
       "  margin-bottom: 0;\n",
       "}\n",
       "\n",
       ".xr-obj-type,\n",
       ".xr-array-name {\n",
       "  margin-left: 2px;\n",
       "  margin-right: 10px;\n",
       "}\n",
       "\n",
       ".xr-obj-type {\n",
       "  color: var(--xr-font-color2);\n",
       "}\n",
       "\n",
       ".xr-sections {\n",
       "  padding-left: 0 !important;\n",
       "  display: grid;\n",
       "  grid-template-columns: 150px auto auto 1fr 20px 20px;\n",
       "}\n",
       "\n",
       ".xr-section-item {\n",
       "  display: contents;\n",
       "}\n",
       "\n",
       ".xr-section-item input {\n",
       "  display: none;\n",
       "}\n",
       "\n",
       ".xr-section-item input + label {\n",
       "  color: var(--xr-disabled-color);\n",
       "}\n",
       "\n",
       ".xr-section-item input:enabled + label {\n",
       "  cursor: pointer;\n",
       "  color: var(--xr-font-color2);\n",
       "}\n",
       "\n",
       ".xr-section-item input:enabled + label:hover {\n",
       "  color: var(--xr-font-color0);\n",
       "}\n",
       "\n",
       ".xr-section-summary {\n",
       "  grid-column: 1;\n",
       "  color: var(--xr-font-color2);\n",
       "  font-weight: 500;\n",
       "}\n",
       "\n",
       ".xr-section-summary > span {\n",
       "  display: inline-block;\n",
       "  padding-left: 0.5em;\n",
       "}\n",
       "\n",
       ".xr-section-summary-in:disabled + label {\n",
       "  color: var(--xr-font-color2);\n",
       "}\n",
       "\n",
       ".xr-section-summary-in + label:before {\n",
       "  display: inline-block;\n",
       "  content: '►';\n",
       "  font-size: 11px;\n",
       "  width: 15px;\n",
       "  text-align: center;\n",
       "}\n",
       "\n",
       ".xr-section-summary-in:disabled + label:before {\n",
       "  color: var(--xr-disabled-color);\n",
       "}\n",
       "\n",
       ".xr-section-summary-in:checked + label:before {\n",
       "  content: '▼';\n",
       "}\n",
       "\n",
       ".xr-section-summary-in:checked + label > span {\n",
       "  display: none;\n",
       "}\n",
       "\n",
       ".xr-section-summary,\n",
       ".xr-section-inline-details {\n",
       "  padding-top: 4px;\n",
       "  padding-bottom: 4px;\n",
       "}\n",
       "\n",
       ".xr-section-inline-details {\n",
       "  grid-column: 2 / -1;\n",
       "}\n",
       "\n",
       ".xr-section-details {\n",
       "  display: none;\n",
       "  grid-column: 1 / -1;\n",
       "  margin-bottom: 5px;\n",
       "}\n",
       "\n",
       ".xr-section-summary-in:checked ~ .xr-section-details {\n",
       "  display: contents;\n",
       "}\n",
       "\n",
       ".xr-array-wrap {\n",
       "  grid-column: 1 / -1;\n",
       "  display: grid;\n",
       "  grid-template-columns: 20px auto;\n",
       "}\n",
       "\n",
       ".xr-array-wrap > label {\n",
       "  grid-column: 1;\n",
       "  vertical-align: top;\n",
       "}\n",
       "\n",
       ".xr-preview {\n",
       "  color: var(--xr-font-color3);\n",
       "}\n",
       "\n",
       ".xr-array-preview,\n",
       ".xr-array-data {\n",
       "  padding: 0 5px !important;\n",
       "  grid-column: 2;\n",
       "}\n",
       "\n",
       ".xr-array-data,\n",
       ".xr-array-in:checked ~ .xr-array-preview {\n",
       "  display: none;\n",
       "}\n",
       "\n",
       ".xr-array-in:checked ~ .xr-array-data,\n",
       ".xr-array-preview {\n",
       "  display: inline-block;\n",
       "}\n",
       "\n",
       ".xr-dim-list {\n",
       "  display: inline-block !important;\n",
       "  list-style: none;\n",
       "  padding: 0 !important;\n",
       "  margin: 0;\n",
       "}\n",
       "\n",
       ".xr-dim-list li {\n",
       "  display: inline-block;\n",
       "  padding: 0;\n",
       "  margin: 0;\n",
       "}\n",
       "\n",
       ".xr-dim-list:before {\n",
       "  content: '(';\n",
       "}\n",
       "\n",
       ".xr-dim-list:after {\n",
       "  content: ')';\n",
       "}\n",
       "\n",
       ".xr-dim-list li:not(:last-child):after {\n",
       "  content: ',';\n",
       "  padding-right: 5px;\n",
       "}\n",
       "\n",
       ".xr-has-index {\n",
       "  font-weight: bold;\n",
       "}\n",
       "\n",
       ".xr-var-list,\n",
       ".xr-var-item {\n",
       "  display: contents;\n",
       "}\n",
       "\n",
       ".xr-var-item > div,\n",
       ".xr-var-item label,\n",
       ".xr-var-item > .xr-var-name span {\n",
       "  background-color: var(--xr-background-color-row-even);\n",
       "  margin-bottom: 0;\n",
       "}\n",
       "\n",
       ".xr-var-item > .xr-var-name:hover span {\n",
       "  padding-right: 5px;\n",
       "}\n",
       "\n",
       ".xr-var-list > li:nth-child(odd) > div,\n",
       ".xr-var-list > li:nth-child(odd) > label,\n",
       ".xr-var-list > li:nth-child(odd) > .xr-var-name span {\n",
       "  background-color: var(--xr-background-color-row-odd);\n",
       "}\n",
       "\n",
       ".xr-var-name {\n",
       "  grid-column: 1;\n",
       "}\n",
       "\n",
       ".xr-var-dims {\n",
       "  grid-column: 2;\n",
       "}\n",
       "\n",
       ".xr-var-dtype {\n",
       "  grid-column: 3;\n",
       "  text-align: right;\n",
       "  color: var(--xr-font-color2);\n",
       "}\n",
       "\n",
       ".xr-var-preview {\n",
       "  grid-column: 4;\n",
       "}\n",
       "\n",
       ".xr-index-preview {\n",
       "  grid-column: 2 / 5;\n",
       "  color: var(--xr-font-color2);\n",
       "}\n",
       "\n",
       ".xr-var-name,\n",
       ".xr-var-dims,\n",
       ".xr-var-dtype,\n",
       ".xr-preview,\n",
       ".xr-attrs dt {\n",
       "  white-space: nowrap;\n",
       "  overflow: hidden;\n",
       "  text-overflow: ellipsis;\n",
       "  padding-right: 10px;\n",
       "}\n",
       "\n",
       ".xr-var-name:hover,\n",
       ".xr-var-dims:hover,\n",
       ".xr-var-dtype:hover,\n",
       ".xr-attrs dt:hover {\n",
       "  overflow: visible;\n",
       "  width: auto;\n",
       "  z-index: 1;\n",
       "}\n",
       "\n",
       ".xr-var-attrs,\n",
       ".xr-var-data,\n",
       ".xr-index-data {\n",
       "  display: none;\n",
       "  background-color: var(--xr-background-color) !important;\n",
       "  padding-bottom: 5px !important;\n",
       "}\n",
       "\n",
       ".xr-var-attrs-in:checked ~ .xr-var-attrs,\n",
       ".xr-var-data-in:checked ~ .xr-var-data,\n",
       ".xr-index-data-in:checked ~ .xr-index-data {\n",
       "  display: block;\n",
       "}\n",
       "\n",
       ".xr-var-data > table {\n",
       "  float: right;\n",
       "}\n",
       "\n",
       ".xr-var-name span,\n",
       ".xr-var-data,\n",
       ".xr-index-name div,\n",
       ".xr-index-data,\n",
       ".xr-attrs {\n",
       "  padding-left: 25px !important;\n",
       "}\n",
       "\n",
       ".xr-attrs,\n",
       ".xr-var-attrs,\n",
       ".xr-var-data,\n",
       ".xr-index-data {\n",
       "  grid-column: 1 / -1;\n",
       "}\n",
       "\n",
       "dl.xr-attrs {\n",
       "  padding: 0;\n",
       "  margin: 0;\n",
       "  display: grid;\n",
       "  grid-template-columns: 125px auto;\n",
       "}\n",
       "\n",
       ".xr-attrs dt,\n",
       ".xr-attrs dd {\n",
       "  padding: 0;\n",
       "  margin: 0;\n",
       "  float: left;\n",
       "  padding-right: 10px;\n",
       "  width: auto;\n",
       "}\n",
       "\n",
       ".xr-attrs dt {\n",
       "  font-weight: normal;\n",
       "  grid-column: 1;\n",
       "}\n",
       "\n",
       ".xr-attrs dt:hover span {\n",
       "  display: inline-block;\n",
       "  background: var(--xr-background-color);\n",
       "  padding-right: 10px;\n",
       "}\n",
       "\n",
       ".xr-attrs dd {\n",
       "  grid-column: 2;\n",
       "  white-space: pre-wrap;\n",
       "  word-break: break-all;\n",
       "}\n",
       "\n",
       ".xr-icon-database,\n",
       ".xr-icon-file-text2,\n",
       ".xr-no-icon {\n",
       "  display: inline-block;\n",
       "  vertical-align: middle;\n",
       "  width: 1em;\n",
       "  height: 1.5em !important;\n",
       "  stroke-width: 0;\n",
       "  stroke: currentColor;\n",
       "  fill: currentColor;\n",
       "}\n",
       "</style><pre class='xr-text-repr-fallback'>&lt;xarray.Dataset&gt;\n",
       "Dimensions:                        (time: 958279, marks: 4, electrodes: 15)\n",
       "Coordinates:\n",
       "  * time                           (time) float64 1.667e+09 ... 1.667e+09\n",
       "  * electrodes                     (electrodes) int32 0 2 4 5 13 ... 28 29 30 31\n",
       "  * marks                          (marks) object &#x27;amplitude_0000&#x27; ... &#x27;ampli...\n",
       "Data variables:\n",
       "    __xarray_dataarray_variable__  (time, marks, electrodes) float32 ...</pre><div class='xr-wrap' style='display:none'><div class='xr-header'><div class='xr-obj-type'>xarray.Dataset</div></div><ul class='xr-sections'><li class='xr-section-item'><input id='section-e0ab6730-3715-49cc-a449-3e8b6bbbebe8' class='xr-section-summary-in' type='checkbox' disabled ><label for='section-e0ab6730-3715-49cc-a449-3e8b6bbbebe8' class='xr-section-summary'  title='Expand/collapse section'>Dimensions:</label><div class='xr-section-inline-details'><ul class='xr-dim-list'><li><span class='xr-has-index'>time</span>: 958279</li><li><span class='xr-has-index'>marks</span>: 4</li><li><span class='xr-has-index'>electrodes</span>: 15</li></ul></div><div class='xr-section-details'></div></li><li class='xr-section-item'><input id='section-7df2f842-fe32-4a68-b106-d711c3fe7f92' class='xr-section-summary-in' type='checkbox'  checked><label for='section-7df2f842-fe32-4a68-b106-d711c3fe7f92' class='xr-section-summary' >Coordinates: <span>(3)</span></label><div class='xr-section-inline-details'></div><div class='xr-section-details'><ul class='xr-var-list'><li class='xr-var-item'><div class='xr-var-name'><span class='xr-has-index'>time</span></div><div class='xr-var-dims'>(time)</div><div class='xr-var-dtype'>float64</div><div class='xr-var-preview xr-preview'>1.667e+09 1.667e+09 ... 1.667e+09</div><input id='attrs-db3bd08f-e0cc-46b4-b44e-1754517c50b5' class='xr-var-attrs-in' type='checkbox' disabled><label for='attrs-db3bd08f-e0cc-46b4-b44e-1754517c50b5' title='Show/Hide attributes'><svg class='icon xr-icon-file-text2'><use xlink:href='#icon-file-text2'></use></svg></label><input id='data-4c20c46a-b155-4992-adb3-c715ca2e8264' class='xr-var-data-in' type='checkbox'><label for='data-4c20c46a-b155-4992-adb3-c715ca2e8264' title='Show/Hide data repr'><svg class='icon xr-icon-database'><use xlink:href='#icon-database'></use></svg></label><div class='xr-var-attrs'><dl class='xr-attrs'></dl></div><div class='xr-var-data'><pre>array([1.666725e+09, 1.666725e+09, 1.666725e+09, ..., 1.666727e+09,\n",
       "       1.666727e+09, 1.666727e+09])</pre></div></li><li class='xr-var-item'><div class='xr-var-name'><span class='xr-has-index'>electrodes</span></div><div class='xr-var-dims'>(electrodes)</div><div class='xr-var-dtype'>int32</div><div class='xr-var-preview xr-preview'>0 2 4 5 13 14 ... 26 27 28 29 30 31</div><input id='attrs-d651f316-d2de-4307-aa24-b730c01c530d' class='xr-var-attrs-in' type='checkbox' disabled><label for='attrs-d651f316-d2de-4307-aa24-b730c01c530d' title='Show/Hide attributes'><svg class='icon xr-icon-file-text2'><use xlink:href='#icon-file-text2'></use></svg></label><input id='data-4e78d928-f85e-4b91-b04b-17f48dc4afb3' class='xr-var-data-in' type='checkbox'><label for='data-4e78d928-f85e-4b91-b04b-17f48dc4afb3' title='Show/Hide data repr'><svg class='icon xr-icon-database'><use xlink:href='#icon-database'></use></svg></label><div class='xr-var-attrs'><dl class='xr-attrs'></dl></div><div class='xr-var-data'><pre>array([ 0,  2,  4,  5, 13, 14, 16, 17, 20, 26, 27, 28, 29, 30, 31], dtype=int32)</pre></div></li><li class='xr-var-item'><div class='xr-var-name'><span class='xr-has-index'>marks</span></div><div class='xr-var-dims'>(marks)</div><div class='xr-var-dtype'>object</div><div class='xr-var-preview xr-preview'>&#x27;amplitude_0000&#x27; ... &#x27;amplitude_...</div><input id='attrs-947e9689-2930-4680-bea3-23e1d3575b54' class='xr-var-attrs-in' type='checkbox' disabled><label for='attrs-947e9689-2930-4680-bea3-23e1d3575b54' title='Show/Hide attributes'><svg class='icon xr-icon-file-text2'><use xlink:href='#icon-file-text2'></use></svg></label><input id='data-a9a9e6a3-0e91-4da9-9373-42d473e69fcc' class='xr-var-data-in' type='checkbox'><label for='data-a9a9e6a3-0e91-4da9-9373-42d473e69fcc' title='Show/Hide data repr'><svg class='icon xr-icon-database'><use xlink:href='#icon-database'></use></svg></label><div class='xr-var-attrs'><dl class='xr-attrs'></dl></div><div class='xr-var-data'><pre>array([&#x27;amplitude_0000&#x27;, &#x27;amplitude_0001&#x27;, &#x27;amplitude_0002&#x27;, &#x27;amplitude_0003&#x27;],\n",
       "      dtype=object)</pre></div></li></ul></div></li><li class='xr-section-item'><input id='section-b6e2a8a4-8969-494e-858d-0821eeb2e804' class='xr-section-summary-in' type='checkbox'  checked><label for='section-b6e2a8a4-8969-494e-858d-0821eeb2e804' class='xr-section-summary' >Data variables: <span>(1)</span></label><div class='xr-section-inline-details'></div><div class='xr-section-details'><ul class='xr-var-list'><li class='xr-var-item'><div class='xr-var-name'><span>__xarray_dataarray_variable__</span></div><div class='xr-var-dims'>(time, marks, electrodes)</div><div class='xr-var-dtype'>float32</div><div class='xr-var-preview xr-preview'>...</div><input id='attrs-b233e487-73ed-43d1-8cff-8f3d9314418e' class='xr-var-attrs-in' type='checkbox' disabled><label for='attrs-b233e487-73ed-43d1-8cff-8f3d9314418e' title='Show/Hide attributes'><svg class='icon xr-icon-file-text2'><use xlink:href='#icon-file-text2'></use></svg></label><input id='data-d3419790-3c7a-4af0-a58c-f769e6a287ef' class='xr-var-data-in' type='checkbox'><label for='data-d3419790-3c7a-4af0-a58c-f769e6a287ef' title='Show/Hide data repr'><svg class='icon xr-icon-database'><use xlink:href='#icon-database'></use></svg></label><div class='xr-var-attrs'><dl class='xr-attrs'></dl></div><div class='xr-var-data'><pre>[57496740 values with dtype=float32]</pre></div></li></ul></div></li><li class='xr-section-item'><input id='section-4498e944-a195-4782-ad2f-e5eae742e0b3' class='xr-section-summary-in' type='checkbox'  ><label for='section-4498e944-a195-4782-ad2f-e5eae742e0b3' class='xr-section-summary' >Indexes: <span>(3)</span></label><div class='xr-section-inline-details'></div><div class='xr-section-details'><ul class='xr-var-list'><li class='xr-var-item'><div class='xr-index-name'><div>time</div></div><div class='xr-index-preview'>PandasIndex</div><div></div><input id='index-8d52ab3e-c604-46a8-8d15-b2df744f7d3f' class='xr-index-data-in' type='checkbox'/><label for='index-8d52ab3e-c604-46a8-8d15-b2df744f7d3f' title='Show/Hide index repr'><svg class='icon xr-icon-database'><use xlink:href='#icon-database'></use></svg></label><div class='xr-index-data'><pre>PandasIndex(Index([1666724781.1396961, 1666724781.1416962, 1666724781.1436963,\n",
       "       1666724781.1456962, 1666724781.1476963,  1666724781.149696,\n",
       "       1666724781.1516962, 1666724781.1536963, 1666724781.1556962,\n",
       "       1666724781.1576962,\n",
       "       ...\n",
       "        1666726697.805287, 1666726697.8072867, 1666726697.8092868,\n",
       "       1666726697.8112867, 1666726697.8132868, 1666726697.8152869,\n",
       "       1666726697.8172867, 1666726697.8192868, 1666726697.8212867,\n",
       "       1666726697.8232868],\n",
       "      dtype=&#x27;float64&#x27;, name=&#x27;time&#x27;, length=958279))</pre></div></li><li class='xr-var-item'><div class='xr-index-name'><div>electrodes</div></div><div class='xr-index-preview'>PandasIndex</div><div></div><input id='index-e94c274a-9991-4707-b181-04260abbf4f2' class='xr-index-data-in' type='checkbox'/><label for='index-e94c274a-9991-4707-b181-04260abbf4f2' title='Show/Hide index repr'><svg class='icon xr-icon-database'><use xlink:href='#icon-database'></use></svg></label><div class='xr-index-data'><pre>PandasIndex(Index([0, 2, 4, 5, 13, 14, 16, 17, 20, 26, 27, 28, 29, 30, 31], dtype=&#x27;int32&#x27;, name=&#x27;electrodes&#x27;))</pre></div></li><li class='xr-var-item'><div class='xr-index-name'><div>marks</div></div><div class='xr-index-preview'>PandasIndex</div><div></div><input id='index-9f32ecd1-01e9-4f33-baef-31ed93bd0d77' class='xr-index-data-in' type='checkbox'/><label for='index-9f32ecd1-01e9-4f33-baef-31ed93bd0d77' title='Show/Hide index repr'><svg class='icon xr-icon-database'><use xlink:href='#icon-database'></use></svg></label><div class='xr-index-data'><pre>PandasIndex(Index([&#x27;amplitude_0000&#x27;, &#x27;amplitude_0001&#x27;, &#x27;amplitude_0002&#x27;, &#x27;amplitude_0003&#x27;], dtype=&#x27;object&#x27;, name=&#x27;marks&#x27;))</pre></div></li></ul></div></li><li class='xr-section-item'><input id='section-7c9471d3-14ff-47a7-8c8d-51472e60ecf9' class='xr-section-summary-in' type='checkbox' disabled ><label for='section-7c9471d3-14ff-47a7-8c8d-51472e60ecf9' class='xr-section-summary'  title='Expand/collapse section'>Attributes: <span>(0)</span></label><div class='xr-section-inline-details'></div><div class='xr-section-details'><dl class='xr-attrs'></dl></div></li></ul></div></div>"
      ],
      "text/plain": [
       "<xarray.Dataset>\n",
       "Dimensions:                        (time: 958279, marks: 4, electrodes: 15)\n",
       "Coordinates:\n",
       "  * time                           (time) float64 1.667e+09 ... 1.667e+09\n",
       "  * electrodes                     (electrodes) int32 0 2 4 5 13 ... 28 29 30 31\n",
       "  * marks                          (marks) object 'amplitude_0000' ... 'ampli...\n",
       "Data variables:\n",
       "    __xarray_dataarray_variable__  (time, marks, electrodes) float32 ..."
      ]
     },
     "execution_count": 46,
     "metadata": {},
     "output_type": "execute_result"
    }
   ],
   "source": [
    "marks"
   ]
  },
  {
   "cell_type": "code",
   "execution_count": 47,
   "id": "4e5ef817-c0a7-4f37-8cae-e0ee91d8648c",
   "metadata": {},
   "outputs": [
    {
     "name": "stderr",
     "output_type": "stream",
     "text": [
      "[09:47:09][WARNING] Spyglass: Deprecation: this class has been moved out of spyglass.common.common_position\n",
      "\tIntervalLinearizedPosition -> spyglass.linearization.v0.main.IntervalLinearizedPosition\n",
      "Please use the new location.\n",
      "16-Jun-24 09:47:09 Deprecation: this class has been moved out of spyglass.common.common_position\n",
      "\tIntervalLinearizedPosition -> spyglass.linearization.v0.main.IntervalLinearizedPosition\n",
      "Please use the new location.\n"
     ]
    },
    {
     "name": "stdout",
     "output_type": "stream",
     "text": [
      "final shape of marks and linear position df is:\n",
      "(958279, 4)\n"
     ]
    },
    {
     "name": "stderr",
     "output_type": "stream",
     "text": [
      "[09:47:22][WARNING] Spyglass: Deprecation: this class has been moved out of spyglass.common.common_position\n",
      "\tIntervalLinearizedPosition -> spyglass.linearization.v0.main.IntervalLinearizedPosition\n",
      "Please use the new location.\n",
      "16-Jun-24 09:47:22 Deprecation: this class has been moved out of spyglass.common.common_position\n",
      "\tIntervalLinearizedPosition -> spyglass.linearization.v0.main.IntervalLinearizedPosition\n",
      "Please use the new location.\n"
     ]
    },
    {
     "name": "stdout",
     "output_type": "stream",
     "text": [
      "final shape of marks and linear position df is:\n",
      "(885994, 4)\n"
     ]
    },
    {
     "name": "stderr",
     "output_type": "stream",
     "text": [
      "[09:47:34][WARNING] Spyglass: Deprecation: this class has been moved out of spyglass.common.common_position\n",
      "\tIntervalLinearizedPosition -> spyglass.linearization.v0.main.IntervalLinearizedPosition\n",
      "Please use the new location.\n",
      "16-Jun-24 09:47:34 Deprecation: this class has been moved out of spyglass.common.common_position\n",
      "\tIntervalLinearizedPosition -> spyglass.linearization.v0.main.IntervalLinearizedPosition\n",
      "Please use the new location.\n"
     ]
    },
    {
     "name": "stdout",
     "output_type": "stream",
     "text": [
      "final shape of marks and linear position df is:\n",
      "(843218, 4)\n"
     ]
    },
    {
     "name": "stderr",
     "output_type": "stream",
     "text": [
      "[09:47:46][WARNING] Spyglass: Deprecation: this class has been moved out of spyglass.common.common_position\n",
      "\tIntervalLinearizedPosition -> spyglass.linearization.v0.main.IntervalLinearizedPosition\n",
      "Please use the new location.\n",
      "16-Jun-24 09:47:46 Deprecation: this class has been moved out of spyglass.common.common_position\n",
      "\tIntervalLinearizedPosition -> spyglass.linearization.v0.main.IntervalLinearizedPosition\n",
      "Please use the new location.\n"
     ]
    },
    {
     "name": "stdout",
     "output_type": "stream",
     "text": [
      "final shape of marks and linear position df is:\n",
      "(783223, 4)\n"
     ]
    }
   ],
   "source": [
    "for e in range(len(session_interval)):\n",
    "    \"\"\"\n",
    "    Position: UnitMarksIndicator\n",
    "    \"\"\"\n",
    "    linear_position_df = (IntervalLinearizedPosition() &\n",
    "        {'nwb_file_name': nwb_copy_file_name,\n",
    "        'interval_list_name': position_interval[e],\n",
    "        'position_info_param_name': 'default_decoding'}\n",
    "        ).fetch1_dataframe()\n",
    "    position_df = (IntervalPositionInfo &\n",
    "        {'nwb_file_name': nwb_copy_file_name,\n",
    "        'interval_list_name': position_interval[e],\n",
    "        'position_info_param_name': 'default_decoding'}\n",
    "                    ).fetch1_dataframe()\n",
    "\n",
    "    # Remove Data before 1st trial and after last trial\n",
    "    StateScript = pd.DataFrame(\n",
    "        (TrialChoice & {'nwb_file_name':nwb_copy_file_name,\n",
    "                        'epoch_name':session_interval[e]}).fetch1('choice_reward'))\n",
    "\n",
    "    trial_1_t = StateScript.loc[1].timestamp_O\n",
    "    trial_last_t = StateScript.loc[len(StateScript)-1].timestamp_O\n",
    "    linear_position_df = removeDataBeforeTrial1(linear_position_df,trial_1_t,trial_last_t)\n",
    "    position_df = removeDataBeforeTrial1(position_df,trial_1_t,trial_last_t)\n",
    "\n",
    "    \"\"\"\n",
    "    Intervals\n",
    "    \"\"\"\n",
    "    intersect_interval = intersectValidIntervals(nwb_copy_file_name,\n",
    "                                                session_interval[e],position_interval[e])\n",
    "\n",
    "    linear_position_df_=[]\n",
    "    position_df_ =[]\n",
    "    for i in range(len(intersect_interval)):\n",
    "        valid_time_slice = slice(intersect_interval[i][0], intersect_interval[i][1])\n",
    "\n",
    "        linear_position_df_.append(linear_position_df.loc[valid_time_slice])\n",
    "        position_df_.append(position_df.loc[valid_time_slice])\n",
    "\n",
    "\n",
    "    linear_position_df=pd.concat(linear_position_df_)\n",
    "    position_df=pd.concat(position_df_)\n",
    "    print('final shape of marks and linear position df is:')\n",
    "\n",
    "    print(linear_position_df.shape)\n",
    "\n",
    "    \"\"\"save result\"\"\"\n",
    "    animal = nwb_copy_file_name[:5]\n",
    "\n",
    "\n",
    "    position1d_path=os.path.join(f'/cumulus/shijie/recording_pilot/{animal}/decoding',\n",
    "                             nwb_copy_file_name+'_'+session_interval[e]+'_1dposition.csv')\n",
    "    linear_position_df.to_csv(position1d_path)\n",
    "\n",
    "    position2d_path=os.path.join(f'/cumulus/shijie/recording_pilot/{animal}/decoding',\n",
    "                             nwb_copy_file_name+'_'+session_interval[e]+'_2dposition.csv')\n",
    "    position_df.to_csv(position2d_path)"
   ]
  },
  {
   "cell_type": "code",
   "execution_count": null,
   "id": "af22639d-5972-4f52-a8f8-b823b7b63409",
   "metadata": {},
   "outputs": [],
   "source": []
  }
 ],
 "metadata": {
  "kernelspec": {
   "display_name": "Python 3 (ipykernel)",
   "language": "python",
   "name": "python3"
  },
  "language_info": {
   "codemirror_mode": {
    "name": "ipython",
    "version": 3
   },
   "file_extension": ".py",
   "mimetype": "text/x-python",
   "name": "python",
   "nbconvert_exporter": "python",
   "pygments_lexer": "ipython3",
   "version": "3.10.17"
  }
 },
 "nbformat": 4,
 "nbformat_minor": 5
}
