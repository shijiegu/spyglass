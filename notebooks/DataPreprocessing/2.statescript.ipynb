{
 "cells": [
  {
   "cell_type": "code",
   "execution_count": 1,
   "id": "a94265c0-c18f-41ce-9f38-f0a6cc5ddb90",
   "metadata": {},
   "outputs": [],
   "source": [
    "%reload_ext autoreload\n",
    "%autoreload 2"
   ]
  },
  {
   "cell_type": "code",
   "execution_count": 2,
   "id": "e3a766b3-b7cc-4f12-962e-865ab282ff73",
   "metadata": {},
   "outputs": [
    {
     "name": "stderr",
     "output_type": "stream",
     "text": [
      "[2025-04-19 16:12:00,936][INFO]: Connecting shijiegu-alt@lmf-db.cin.ucsf.edu:3306\n",
      "[2025-04-19 16:12:01,000][INFO]: Connected shijiegu-alt@lmf-db.cin.ucsf.edu:3306\n"
     ]
    }
   ],
   "source": [
    "import os\n",
    "import cupy as cp\n",
    "import numpy as np\n",
    "import datajoint as dj\n",
    "import spyglass as nd\n",
    "import pandas as pd\n",
    "import matplotlib.pyplot as plt\n",
    "import multiprocessing\n",
    "import pandas as pd\n",
    "\n",
    "import pynwb\n",
    "\n",
    "# ignore datajoint+jupyter async warnings\n",
    "import warnings\n",
    "warnings.simplefilter('ignore', category=DeprecationWarning)\n",
    "warnings.simplefilter('ignore', category=ResourceWarning)\n",
    "\n",
    "from spyglass.common import (Session, IntervalList,LabMember, LabTeam, Raw, Nwbfile,\n",
    "                            Electrode,StateScriptFile)\n",
    "\n",
    "from spyglass.utils.nwb_helper_fn import get_nwb_copy_filename\n",
    "from spyglass.common.common_task import TaskEpoch\n",
    "\n",
    "# Here are the analysis tables specific to Shijie Gu\n",
    "from spyglass.shijiegu.Analysis_SGU import TrialChoice,RippleTimes"
   ]
  },
  {
   "cell_type": "code",
   "execution_count": 3,
   "id": "caf9f0fa-b8a6-448e-af35-281276fdfaf0",
   "metadata": {},
   "outputs": [],
   "source": [
    "import matlab.engine\n",
    "eng=matlab.engine.start_matlab()"
   ]
  },
  {
   "cell_type": "code",
   "execution_count": 4,
   "id": "2acd33c2-02d4-43c1-97ad-c9894c6316ee",
   "metadata": {},
   "outputs": [],
   "source": [
    "# MATLAB path\n",
    "eng.addpath('/home/shijiegu/Documents/MATLAB/radial_sequence', nargout=0)"
   ]
  },
  {
   "cell_type": "code",
   "execution_count": 5,
   "id": "dd59bdec-99ad-4d20-89a5-c68e12b4c9b2",
   "metadata": {},
   "outputs": [],
   "source": [
    "def translate_time(trodes_sample_time,sample_count,time_seconds):\n",
    "    '''\n",
    "    INPUT:\n",
    "    trodes_sample_time, (n,), trodes time in sample count to be translated to system time in seconds\n",
    "    sample_count: numpy array, (N,), trodes time in sample count for the whole recording\n",
    "    time_seconds: numpy array, (N,), system time in seconds for the whole recording\n",
    "    see also MATLAB counterpart translate_time\n",
    "    \n",
    "    RETURN: translated_sys_time, (n,), system time in seconds for inquired trodes sample time\n",
    "    \n",
    "    '''\n",
    "    notnan_ind=np.argwhere(~np.isnan(trodes_sample_time)).ravel()\n",
    "    xy,ind1,ind2=np.intersect1d(trodes_sample_time[notnan_ind],sample_count,return_indices=True)\n",
    "    #assert np.sum(~nan_ind)==len(ind2)\n",
    "    translated_sys_time=np.zeros_like(trodes_sample_time)+np.nan\n",
    "    translated_sys_time[notnan_ind[ind1]]=time_seconds[ind2]\n",
    "    \n",
    "    return translated_sys_time*10**-9\n",
    "\n",
    "    '''\n",
    "    translated_sys_time=np.zeros(len(trodes_sample_time))+np.nan;\n",
    "    for i in range(len(trodes_sample_time)):\n",
    "        if not np.isnan(trodes_sample_time[i]):\n",
    "            ind=np.argwhere(trodes_sample_time[i]<=sample_count).ravel()[0];\n",
    "            translated_sys_time[i]=time_seconds[ind];\n",
    "    '''"
   ]
  },
  {
   "cell_type": "markdown",
   "id": "65e53fb6-95c3-45ff-9ef4-a95d706c7acc",
   "metadata": {},
   "source": [
    "### Input nwb file, look at the epoch names"
   ]
  },
  {
   "cell_type": "code",
   "execution_count": 6,
   "id": "7280596e-3dce-4b5f-8529-09bfd7af2225",
   "metadata": {},
   "outputs": [],
   "source": [
    "# the only cell to be edited\n",
    "nwb_file_name = 'julio20230811.nwb'#'eliot20221022.nwb'\n",
    "nwb_copy_file_name = get_nwb_copy_filename(nwb_file_name)"
   ]
  },
  {
   "cell_type": "code",
   "execution_count": 7,
   "id": "ed97bdd9-2158-48b5-a99e-42bdd3aa33b0",
   "metadata": {
    "scrolled": true,
    "tags": []
   },
   "outputs": [
    {
     "name": "stderr",
     "output_type": "stream",
     "text": [
      "[2025-04-19 16:12:35,669][WARNING]: Skipped checksum for file with hash: e0ca95fd-17e3-46d1-5c25-c55bd2a535fa, and path: /stelmo/nwb/raw/julio20230811_.nwb\n"
     ]
    }
   ],
   "source": [
    "nwb_file_abs_path = (Nwbfile & {'nwb_file_name':nwb_copy_file_name}).fetch1('nwb_file_abs_path')\n",
    "io = pynwb.NWBHDF5IO(nwb_file_abs_path,'r')\n",
    "nwbf = io.read()\n",
    "\n",
    "sample_count=np.array(nwbf.processing['sample_count'].data_interfaces['sample_count'].data)\n",
    "time_seconds=np.array(nwbf.processing['sample_count'].data_interfaces['sample_count'].timestamps)"
   ]
  },
  {
   "cell_type": "code",
   "execution_count": 8,
   "id": "125b5338-7046-4966-925b-c1c335140490",
   "metadata": {},
   "outputs": [],
   "source": [
    "def parse_behavior(nwb_name,epoch,time_seconds,sample_count):\n",
    "    # get epoch name\n",
    "    epoch_name=(TaskEpoch() &\n",
    "                {'nwb_file_name':nwb_name,\n",
    "                 'epoch':epoch}).fetch1('interval_list_name')\n",
    "    \n",
    "    # get the statescript file content\n",
    "    ssfile=(StateScriptFile & {'nwb_file_name':nwb_name,\n",
    "                   'epoch':epoch}).fetch_nwb()\n",
    "    sscontent=ssfile[0]['file'].content\n",
    "\n",
    "    # parse statescript: result is in LOG or SSLOG_dict\n",
    "    [log,variablename]=eng.parse_behavior4python(sscontent,nargout=2)\n",
    "    log_np=np.array(log)\n",
    "    LOG=log_np.copy()\n",
    "    LOG[:,0]=log_np[:,0]*30 # from ms to Trodes sample time: sample = ms * 30 sample /ms \n",
    "    LOG[:,2]=log_np[:,2]*30\n",
    "    \n",
    "    # get the session start time in seconds\n",
    "    # Trodes re-start counts of sample at some point.\n",
    "    # restrict to start time and end time allows us to go around the problem\n",
    "    start_time=(IntervalList & {'nwb_file_name':nwb_copy_file_name,\n",
    "                'interval_list_name':epoch_name}).fetch1('valid_times')[0][0]\n",
    "    end_time=(IntervalList & {'nwb_file_name':nwb_copy_file_name,\n",
    "                'interval_list_name':epoch_name}).fetch1('valid_times')[-1][-1]\n",
    "    \n",
    "    session_ind=np.logical_and(time_seconds>=start_time*10**9,\n",
    "                               time_seconds<=end_time*10**9)\n",
    "    sample_count_session=sample_count[session_ind]\n",
    "    time_seconds_session=time_seconds[session_ind]\n",
    "    \n",
    "    # from Trodes sample time to seconds\n",
    "    LOG[:,0]=translate_time(LOG[:,0],sample_count_session,time_seconds_session)\n",
    "    LOG[:,2]=translate_time(LOG[:,2],sample_count_session,time_seconds_session)\n",
    "    \n",
    "    # Dataframe\n",
    "    SSLOG=pd.DataFrame(LOG,columns=variablename,index=np.arange(log_np.shape[0])+1)\n",
    "    \n",
    "    # Dataframe to dictionary because Datajoint does not allow pd dataframe\n",
    "    SSLOG_dict=SSLOG.to_dict()\n",
    "    return SSLOG_dict"
   ]
  },
  {
   "cell_type": "code",
   "execution_count": null,
   "id": "7d46cf9a-88a6-4eb8-aad3-46a9df096128",
   "metadata": {},
   "outputs": [],
   "source": []
  },
  {
   "cell_type": "code",
   "execution_count": 9,
   "id": "ee1723fd-7605-4c54-822b-27725a63efa8",
   "metadata": {},
   "outputs": [
    {
     "data": {
      "text/plain": [
       "array(['01_Seq2Sleep1', '02_Seq2Session1', '03_Seq2Sleep2',\n",
       "       '04_Seq2Session2', '05_Seq2Sleep3', '06_Seq2Session3',\n",
       "       '07_Seq2Session4', '08_Seq2Sleep4', '09_Seq2Session5',\n",
       "       '10_Seq2Sleep5'], dtype=object)"
      ]
     },
     "execution_count": 9,
     "metadata": {},
     "output_type": "execute_result"
    }
   ],
   "source": [
    "epoch_num_name=(TaskEpoch() & {'nwb_file_name':nwb_copy_file_name}).fetch('epoch','interval_list_name')\n",
    "epoch_name=epoch_num_name[1]\n",
    "epoch_num=epoch_num_name[0]\n",
    "epoch_name"
   ]
  },
  {
   "cell_type": "code",
   "execution_count": 10,
   "id": "a98fceb0-fff5-4f0d-b885-44eaa63b0a29",
   "metadata": {},
   "outputs": [
    {
     "data": {
      "text/plain": [
       "[2, 4, 6, 7, 9]"
      ]
     },
     "execution_count": 10,
     "metadata": {},
     "output_type": "execute_result"
    }
   ],
   "source": [
    "# find run epochs\n",
    "epoch_num2insert=[]\n",
    "for i in range(len(epoch_name)):\n",
    "    n=epoch_name[i] #name of epoch\n",
    "    if n[-8:-1].lower()=='session': #all lower case in case typo in data input\n",
    "        epoch_num2insert.append(epoch_num[i])  \n",
    "epoch_num2insert"
   ]
  },
  {
   "cell_type": "code",
   "execution_count": null,
   "id": "e8cae3ef-244f-43a2-baf7-b1bf8f772695",
   "metadata": {},
   "outputs": [],
   "source": []
  },
  {
   "cell_type": "code",
   "execution_count": 12,
   "id": "270e9668-a59a-49be-8a65-7672b548ef4c",
   "metadata": {
    "scrolled": true,
    "tags": []
   },
   "outputs": [
    {
     "name": "stderr",
     "output_type": "stream",
     "text": [
      "[2025-04-19 16:20:41,914][WARNING]: Skipped checksum for file with hash: e0ca95fd-17e3-46d1-5c25-c55bd2a535fa, and path: /stelmo/nwb/raw/julio20230811_.nwb\n"
     ]
    },
    {
     "name": "stdout",
     "output_type": "stream",
     "text": [
      "Great. Ends meet.\n"
     ]
    },
    {
     "name": "stderr",
     "output_type": "stream",
     "text": [
      "[2025-04-19 16:20:48,885][WARNING]: Skipped checksum for file with hash: e0ca95fd-17e3-46d1-5c25-c55bd2a535fa, and path: /stelmo/nwb/raw/julio20230811_.nwb\n"
     ]
    },
    {
     "name": "stdout",
     "output_type": "stream",
     "text": [
      "Great. Ends meet.\n"
     ]
    },
    {
     "name": "stderr",
     "output_type": "stream",
     "text": [
      "[2025-04-19 16:20:55,704][WARNING]: Skipped checksum for file with hash: e0ca95fd-17e3-46d1-5c25-c55bd2a535fa, and path: /stelmo/nwb/raw/julio20230811_.nwb\n"
     ]
    },
    {
     "name": "stdout",
     "output_type": "stream",
     "text": [
      "Great. Ends meet.\n"
     ]
    },
    {
     "name": "stderr",
     "output_type": "stream",
     "text": [
      "[2025-04-19 16:20:59,628][WARNING]: Skipped checksum for file with hash: e0ca95fd-17e3-46d1-5c25-c55bd2a535fa, and path: /stelmo/nwb/raw/julio20230811_.nwb\n"
     ]
    },
    {
     "name": "stdout",
     "output_type": "stream",
     "text": [
      "Great. Ends meet.\n"
     ]
    },
    {
     "name": "stderr",
     "output_type": "stream",
     "text": [
      "[2025-04-19 16:21:07,012][WARNING]: Skipped checksum for file with hash: e0ca95fd-17e3-46d1-5c25-c55bd2a535fa, and path: /stelmo/nwb/raw/julio20230811_.nwb\n"
     ]
    },
    {
     "name": "stdout",
     "output_type": "stream",
     "text": [
      "Great. Ends meet.\n"
     ]
    }
   ],
   "source": [
    "# for all run epochs, insert parsed result into TrialChoice table\n",
    "for e in epoch_num2insert:\n",
    "    parsedlog=parse_behavior(nwb_copy_file_name,e,time_seconds,sample_count)\n",
    "    #parsedlog_old = (TrialChoice() & {'nwb_file_name':nwb_copy_file_name,\"epoch\":e}).fetch1(\"choice_reward\")\n",
    "    #assert pd.DataFrame(parsedlog).equals(pd.DataFrame(parsedlog_old).iloc[:,:5])\n",
    "    key={'nwb_file_name':nwb_copy_file_name,'epoch':e,'choice_reward':parsedlog}\n",
    "\n",
    "    \n",
    "    TrialChoice().make(key,replace=True)"
   ]
  },
  {
   "cell_type": "code",
   "execution_count": null,
   "id": "00793fb3-6312-4e7e-be6d-07f4b463ca1d",
   "metadata": {
    "scrolled": true
   },
   "outputs": [],
   "source": []
  },
  {
   "cell_type": "code",
   "execution_count": 13,
   "id": "619539d7-89ef-46ca-a15c-f32112db7067",
   "metadata": {},
   "outputs": [
    {
     "data": {
      "text/html": [
       "\n",
       "    \n",
       "    <style type=\"text/css\">\n",
       "        .Table{\n",
       "            border-collapse:collapse;\n",
       "        }\n",
       "        .Table th{\n",
       "            background: #A0A0A0; color: #ffffff; padding:4px; border:#f0e0e0 1px solid;\n",
       "            font-weight: normal; font-family: monospace; font-size: 100%;\n",
       "        }\n",
       "        .Table td{\n",
       "            padding:4px; border:#f0e0e0 1px solid; font-size:100%;\n",
       "        }\n",
       "        .Table tr:nth-child(odd){\n",
       "            background: #ffffff;\n",
       "            color: #000000;\n",
       "        }\n",
       "        .Table tr:nth-child(even){\n",
       "            background: #f3f1ff;\n",
       "            color: #000000;\n",
       "        }\n",
       "        /* Tooltip container */\n",
       "        .djtooltip {\n",
       "        }\n",
       "        /* Tooltip text */\n",
       "        .djtooltip .djtooltiptext {\n",
       "            visibility: hidden;\n",
       "            width: 120px;\n",
       "            background-color: black;\n",
       "            color: #fff;\n",
       "            text-align: center;\n",
       "            padding: 5px 0;\n",
       "            border-radius: 6px;\n",
       "            /* Position the tooltip text - see examples below! */\n",
       "            position: absolute;\n",
       "            z-index: 1;\n",
       "        }\n",
       "        #primary {\n",
       "            font-weight: bold;\n",
       "            color: black;\n",
       "        }\n",
       "        #nonprimary {\n",
       "            font-weight: normal;\n",
       "            color: white;\n",
       "        }\n",
       "\n",
       "        /* Show the tooltip text when you mouse over the tooltip container */\n",
       "        .djtooltip:hover .djtooltiptext {\n",
       "            visibility: visible;\n",
       "        }\n",
       "    </style>\n",
       "    \n",
       "    <b>trial by trial information of choice</b>\n",
       "        <div style=\"max-height:1000px;max-width:1500px;overflow:auto;\">\n",
       "        <table border=\"1\" class=\"Table\">\n",
       "            <thead> <tr style=\"text-align: right;\"> <th> <div class=\"djtooltip\">\n",
       "                            <p id=\"primary\">nwb_file_name</p>\n",
       "                            <span class=\"djtooltiptext\">name of the NWB file</span>\n",
       "                        </div></th><th><div class=\"djtooltip\">\n",
       "                            <p id=\"primary\">epoch</p>\n",
       "                            <span class=\"djtooltiptext\">the session epoch for this task and apparatus(1 based)</span>\n",
       "                        </div></th><th><div class=\"djtooltip\">\n",
       "                            <p id=\"nonprimary\">epoch_name</p>\n",
       "                            <span class=\"djtooltiptext\">session name, get from IntervalList</span>\n",
       "                        </div></th><th><div class=\"djtooltip\">\n",
       "                            <p id=\"nonprimary\">choice_reward</p>\n",
       "                            <span class=\"djtooltiptext\">pandas dataframe, choice</span>\n",
       "                        </div> </th> </tr> </thead>\n",
       "            <tbody> <tr> <td>julio20230811_.nwb</td>\n",
       "<td>2</td>\n",
       "<td>02_Seq2Session1</td>\n",
       "<td>=BLOB=</td></tr><tr><td>julio20230811_.nwb</td>\n",
       "<td>4</td>\n",
       "<td>04_Seq2Session2</td>\n",
       "<td>=BLOB=</td></tr><tr><td>julio20230811_.nwb</td>\n",
       "<td>6</td>\n",
       "<td>06_Seq2Session3</td>\n",
       "<td>=BLOB=</td></tr><tr><td>julio20230811_.nwb</td>\n",
       "<td>7</td>\n",
       "<td>07_Seq2Session4</td>\n",
       "<td>=BLOB=</td></tr><tr><td>julio20230811_.nwb</td>\n",
       "<td>9</td>\n",
       "<td>09_Seq2Session5</td>\n",
       "<td>=BLOB=</td> </tr> </tbody>\n",
       "        </table>\n",
       "        \n",
       "        <p>Total: 5</p></div>\n",
       "        "
      ],
      "text/plain": [
       "*nwb_file_name *epoch    epoch_name     choice_rew\n",
       "+------------+ +-------+ +------------+ +--------+\n",
       "julio20230811_ 2         02_Seq2Session =BLOB=    \n",
       "julio20230811_ 4         04_Seq2Session =BLOB=    \n",
       "julio20230811_ 6         06_Seq2Session =BLOB=    \n",
       "julio20230811_ 7         07_Seq2Session =BLOB=    \n",
       "julio20230811_ 9         09_Seq2Session =BLOB=    \n",
       " (Total: 5)"
      ]
     },
     "execution_count": 13,
     "metadata": {},
     "output_type": "execute_result"
    }
   ],
   "source": [
    "TrialChoice() & {'nwb_file_name':nwb_copy_file_name}"
   ]
  },
  {
   "cell_type": "markdown",
   "id": "bf5663d9-3aca-4df5-a2a6-d34352b936a0",
   "metadata": {},
   "source": [
    "### Some basic tests"
   ]
  },
  {
   "cell_type": "code",
   "execution_count": 14,
   "id": "f059c276-d6dc-4e70-a2c9-3b6e0e3795d4",
   "metadata": {},
   "outputs": [
    {
     "name": "stdout",
     "output_type": "stream",
     "text": [
      "2\n",
      "4\n",
      "6\n",
      "7\n",
      "9\n"
     ]
    }
   ],
   "source": [
    "# ensure timestamps are increasing\n",
    "epochs = (TrialChoice() & {'nwb_file_name':nwb_copy_file_name}).fetch(\"epoch\")\n",
    "for e in epochs:\n",
    "    query_pd = pd.DataFrame((TrialChoice() & {'nwb_file_name':nwb_copy_file_name,'epoch':e}).fetch1(\"choice_reward\"))\n",
    "    num_trials = len(query_pd) - 1\n",
    "    timestamp_O = np.array(query_pd.timestamp_O)[:num_trials]\n",
    "    timestamp_H = np.array(query_pd.timestamp_H)[:num_trials]\n",
    "    print(e)\n",
    "    arr = timestamp_O[1:] - timestamp_H[:-1]\n",
    "    arr = arr[~np.isnan(arr)]\n",
    "    assert np.all(arr>0)\n"
   ]
  },
  {
   "cell_type": "markdown",
   "id": "4c2e2fea-29f6-453b-b9d9-f10666bda7f5",
   "metadata": {},
   "source": [
    "### Confrim that the choice reward information is in ```TrialChoice```"
   ]
  },
  {
   "cell_type": "code",
   "execution_count": 15,
   "id": "f5118ae2-37e3-43b2-acea-f4f0c68d361c",
   "metadata": {},
   "outputs": [],
   "source": [
    "logtest=(TrialChoice & {'nwb_file_name':nwb_copy_file_name,'epoch':2}).fetch1('choice_reward')"
   ]
  },
  {
   "cell_type": "code",
   "execution_count": 16,
   "id": "024ca8a2-69af-4d83-883f-48f0cf9363c6",
   "metadata": {},
   "outputs": [
    {
     "data": {
      "text/html": [
       "<div>\n",
       "<style scoped>\n",
       "    .dataframe tbody tr th:only-of-type {\n",
       "        vertical-align: middle;\n",
       "    }\n",
       "\n",
       "    .dataframe tbody tr th {\n",
       "        vertical-align: top;\n",
       "    }\n",
       "\n",
       "    .dataframe thead th {\n",
       "        text-align: right;\n",
       "    }\n",
       "</style>\n",
       "<table border=\"1\" class=\"dataframe\">\n",
       "  <thead>\n",
       "    <tr style=\"text-align: right;\">\n",
       "      <th></th>\n",
       "      <th>timestamp_H</th>\n",
       "      <th>Home</th>\n",
       "      <th>timestamp_O</th>\n",
       "      <th>OuterWellIndex</th>\n",
       "      <th>rewardNum</th>\n",
       "      <th>current</th>\n",
       "      <th>future_H</th>\n",
       "      <th>future_O</th>\n",
       "      <th>past</th>\n",
       "      <th>past_reward</th>\n",
       "    </tr>\n",
       "  </thead>\n",
       "  <tbody>\n",
       "    <tr>\n",
       "      <th>1</th>\n",
       "      <td>1.691778e+09</td>\n",
       "      <td>1.0</td>\n",
       "      <td>1.691778e+09</td>\n",
       "      <td>3.0</td>\n",
       "      <td>2.0</td>\n",
       "      <td>3.0</td>\n",
       "      <td>3.0</td>\n",
       "      <td>2.0</td>\n",
       "      <td>NaN</td>\n",
       "      <td>NaN</td>\n",
       "    </tr>\n",
       "    <tr>\n",
       "      <th>2</th>\n",
       "      <td>1.691778e+09</td>\n",
       "      <td>1.0</td>\n",
       "      <td>1.691778e+09</td>\n",
       "      <td>2.0</td>\n",
       "      <td>1.0</td>\n",
       "      <td>2.0</td>\n",
       "      <td>2.0</td>\n",
       "      <td>4.0</td>\n",
       "      <td>3.0</td>\n",
       "      <td>3.0</td>\n",
       "    </tr>\n",
       "    <tr>\n",
       "      <th>3</th>\n",
       "      <td>1.691778e+09</td>\n",
       "      <td>1.0</td>\n",
       "      <td>1.691778e+09</td>\n",
       "      <td>4.0</td>\n",
       "      <td>2.0</td>\n",
       "      <td>4.0</td>\n",
       "      <td>4.0</td>\n",
       "      <td>1.0</td>\n",
       "      <td>2.0</td>\n",
       "      <td>3.0</td>\n",
       "    </tr>\n",
       "    <tr>\n",
       "      <th>4</th>\n",
       "      <td>1.691778e+09</td>\n",
       "      <td>1.0</td>\n",
       "      <td>1.691778e+09</td>\n",
       "      <td>1.0</td>\n",
       "      <td>1.0</td>\n",
       "      <td>1.0</td>\n",
       "      <td>1.0</td>\n",
       "      <td>2.0</td>\n",
       "      <td>4.0</td>\n",
       "      <td>4.0</td>\n",
       "    </tr>\n",
       "    <tr>\n",
       "      <th>5</th>\n",
       "      <td>1.691778e+09</td>\n",
       "      <td>1.0</td>\n",
       "      <td>1.691778e+09</td>\n",
       "      <td>2.0</td>\n",
       "      <td>2.0</td>\n",
       "      <td>2.0</td>\n",
       "      <td>2.0</td>\n",
       "      <td>3.0</td>\n",
       "      <td>1.0</td>\n",
       "      <td>4.0</td>\n",
       "    </tr>\n",
       "    <tr>\n",
       "      <th>...</th>\n",
       "      <td>...</td>\n",
       "      <td>...</td>\n",
       "      <td>...</td>\n",
       "      <td>...</td>\n",
       "      <td>...</td>\n",
       "      <td>...</td>\n",
       "      <td>...</td>\n",
       "      <td>...</td>\n",
       "      <td>...</td>\n",
       "      <td>...</td>\n",
       "    </tr>\n",
       "    <tr>\n",
       "      <th>78</th>\n",
       "      <td>1.691780e+09</td>\n",
       "      <td>1.0</td>\n",
       "      <td>1.691780e+09</td>\n",
       "      <td>1.0</td>\n",
       "      <td>2.0</td>\n",
       "      <td>1.0</td>\n",
       "      <td>1.0</td>\n",
       "      <td>3.0</td>\n",
       "      <td>2.0</td>\n",
       "      <td>2.0</td>\n",
       "    </tr>\n",
       "    <tr>\n",
       "      <th>79</th>\n",
       "      <td>1.691780e+09</td>\n",
       "      <td>1.0</td>\n",
       "      <td>1.691780e+09</td>\n",
       "      <td>3.0</td>\n",
       "      <td>2.0</td>\n",
       "      <td>3.0</td>\n",
       "      <td>3.0</td>\n",
       "      <td>4.0</td>\n",
       "      <td>1.0</td>\n",
       "      <td>1.0</td>\n",
       "    </tr>\n",
       "    <tr>\n",
       "      <th>80</th>\n",
       "      <td>1.691780e+09</td>\n",
       "      <td>1.0</td>\n",
       "      <td>1.691780e+09</td>\n",
       "      <td>4.0</td>\n",
       "      <td>2.0</td>\n",
       "      <td>4.0</td>\n",
       "      <td>4.0</td>\n",
       "      <td>2.0</td>\n",
       "      <td>3.0</td>\n",
       "      <td>3.0</td>\n",
       "    </tr>\n",
       "    <tr>\n",
       "      <th>81</th>\n",
       "      <td>1.691780e+09</td>\n",
       "      <td>1.0</td>\n",
       "      <td>1.691780e+09</td>\n",
       "      <td>2.0</td>\n",
       "      <td>2.0</td>\n",
       "      <td>2.0</td>\n",
       "      <td>2.0</td>\n",
       "      <td>NaN</td>\n",
       "      <td>4.0</td>\n",
       "      <td>4.0</td>\n",
       "    </tr>\n",
       "    <tr>\n",
       "      <th>82</th>\n",
       "      <td>1.691780e+09</td>\n",
       "      <td>1.0</td>\n",
       "      <td>NaN</td>\n",
       "      <td>NaN</td>\n",
       "      <td>0.0</td>\n",
       "      <td>NaN</td>\n",
       "      <td>NaN</td>\n",
       "      <td>NaN</td>\n",
       "      <td>2.0</td>\n",
       "      <td>NaN</td>\n",
       "    </tr>\n",
       "  </tbody>\n",
       "</table>\n",
       "<p>82 rows × 10 columns</p>\n",
       "</div>"
      ],
      "text/plain": [
       "     timestamp_H  Home   timestamp_O  OuterWellIndex  rewardNum  current  \\\n",
       "1   1.691778e+09   1.0  1.691778e+09             3.0        2.0      3.0   \n",
       "2   1.691778e+09   1.0  1.691778e+09             2.0        1.0      2.0   \n",
       "3   1.691778e+09   1.0  1.691778e+09             4.0        2.0      4.0   \n",
       "4   1.691778e+09   1.0  1.691778e+09             1.0        1.0      1.0   \n",
       "5   1.691778e+09   1.0  1.691778e+09             2.0        2.0      2.0   \n",
       "..           ...   ...           ...             ...        ...      ...   \n",
       "78  1.691780e+09   1.0  1.691780e+09             1.0        2.0      1.0   \n",
       "79  1.691780e+09   1.0  1.691780e+09             3.0        2.0      3.0   \n",
       "80  1.691780e+09   1.0  1.691780e+09             4.0        2.0      4.0   \n",
       "81  1.691780e+09   1.0  1.691780e+09             2.0        2.0      2.0   \n",
       "82  1.691780e+09   1.0           NaN             NaN        0.0      NaN   \n",
       "\n",
       "    future_H  future_O  past  past_reward  \n",
       "1        3.0       2.0   NaN          NaN  \n",
       "2        2.0       4.0   3.0          3.0  \n",
       "3        4.0       1.0   2.0          3.0  \n",
       "4        1.0       2.0   4.0          4.0  \n",
       "5        2.0       3.0   1.0          4.0  \n",
       "..       ...       ...   ...          ...  \n",
       "78       1.0       3.0   2.0          2.0  \n",
       "79       3.0       4.0   1.0          1.0  \n",
       "80       4.0       2.0   3.0          3.0  \n",
       "81       2.0       NaN   4.0          4.0  \n",
       "82       NaN       NaN   2.0          NaN  \n",
       "\n",
       "[82 rows x 10 columns]"
      ]
     },
     "execution_count": 16,
     "metadata": {},
     "output_type": "execute_result"
    }
   ],
   "source": [
    "pd.DataFrame(logtest)"
   ]
  },
  {
   "cell_type": "code",
   "execution_count": null,
   "id": "0935f72f-c8cd-47a8-b94f-690022619f2d",
   "metadata": {},
   "outputs": [],
   "source": []
  },
  {
   "cell_type": "code",
   "execution_count": null,
   "id": "11563a0b-51e5-4975-9fdc-39bbf9134a71",
   "metadata": {},
   "outputs": [],
   "source": []
  },
  {
   "cell_type": "code",
   "execution_count": null,
   "id": "fcc26a72-9693-472e-a8b2-64c64300f52a",
   "metadata": {},
   "outputs": [],
   "source": []
  }
 ],
 "metadata": {
  "kernelspec": {
   "display_name": "Python 3 (ipykernel)",
   "language": "python",
   "name": "python3"
  },
  "language_info": {
   "codemirror_mode": {
    "name": "ipython",
    "version": 3
   },
   "file_extension": ".py",
   "mimetype": "text/x-python",
   "name": "python",
   "nbconvert_exporter": "python",
   "pygments_lexer": "ipython3",
   "version": "3.9.18"
  }
 },
 "nbformat": 4,
 "nbformat_minor": 5
}
