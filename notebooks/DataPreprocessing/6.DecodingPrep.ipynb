{
 "cells": [
  {
   "cell_type": "markdown",
   "id": "2787310a-7117-4eec-95b0-2f973bf49f54",
   "metadata": {},
   "source": [
    "## This notebook prepares for decoding (both 1D and 2D)\n",
    "### Use this notebook to run session/day of each dataset from new animal"
   ]
  },
  {
   "cell_type": "code",
   "execution_count": 1,
   "id": "05e6ef1a-25d8-4c66-9abe-5fbe109aa05e",
   "metadata": {},
   "outputs": [],
   "source": [
    "%reload_ext autoreload\n",
    "%autoreload 2"
   ]
  },
  {
   "cell_type": "code",
   "execution_count": 2,
   "id": "8a882cf8-b4c6-40c6-b800-79ac9af9fddb",
   "metadata": {},
   "outputs": [],
   "source": [
    "import spyglass as nd\n",
    "import pandas as pd\n",
    "# ignore datajoint+jupyter async warnings\n",
    "import warnings\n",
    "warnings.simplefilter('ignore', category=DeprecationWarning)\n",
    "warnings.simplefilter('ignore', category=ResourceWarning)"
   ]
  },
  {
   "cell_type": "code",
   "execution_count": 3,
   "id": "d46d7e2c-e475-459a-ae47-5aac32e806e6",
   "metadata": {},
   "outputs": [],
   "source": [
    "import matplotlib.pyplot as plt\n",
    "import numpy as np\n",
    "import xarray as xr\n",
    "import logging\n",
    "import os\n",
    "#import cupy as cp\n",
    "\n",
    "FORMAT = '%(asctime)s %(message)s'\n",
    "\n",
    "logging.basicConfig(level='INFO', format=FORMAT, datefmt='%d-%b-%y %H:%M:%S')"
   ]
  },
  {
   "cell_type": "code",
   "execution_count": 4,
   "id": "dd2cda59-5fa8-4777-9754-6bd93cdbef5f",
   "metadata": {},
   "outputs": [
    {
     "name": "stderr",
     "output_type": "stream",
     "text": [
      "[2025-06-13 18:06:19,087][INFO]: DataJoint 0.14.4 connected to shijiegu-alt@lmf-db.cin.ucsf.edu:3306\n",
      "13-Jun-25 18:06:19 DataJoint 0.14.4 connected to shijiegu-alt@lmf-db.cin.ucsf.edu:3306\n"
     ]
    }
   ],
   "source": [
    "from spyglass.common import (Session, IntervalList,IntervalPositionInfo,\n",
    "                             LabMember, LabTeam, Raw, Session, Nwbfile,\n",
    "                            Electrode,LFPBand,interval_list_intersect)\n",
    "from spyglass.common.common_interval import _intersection\n",
    "from spyglass.common.common_position import IntervalLinearizedPosition\n",
    "\n",
    "import spyglass.spikesorting.v0 as ss\n",
    "from spyglass.spikesorting.v0 import (SortGroup, \n",
    "                                    SortInterval,\n",
    "                                    SpikeSortingPreprocessingParameters,\n",
    "                                    SpikeSortingRecording, \n",
    "                                    SpikeSorterParameters,\n",
    "                                    SpikeSortingRecordingSelection,\n",
    "                                    ArtifactDetectionParameters, ArtifactDetectionSelection,\n",
    "                                    ArtifactRemovedIntervalList, ArtifactDetection,\n",
    "                                      SpikeSortingSelection, SpikeSorting,\n",
    "                                   CuratedSpikeSortingSelection,CuratedSpikeSorting,Curation)\n",
    "from spyglass.decoding.v0.clusterless import (UnitMarks,\n",
    "                                           UnitMarkParameters,UnitMarksIndicatorSelection,\n",
    "                                          UnitMarksIndicator)\n",
    "from spyglass.utils.nwb_helper_fn import get_nwb_copy_filename\n",
    "from spyglass.common.common_position import IntervalPositionInfo, IntervalPositionInfoSelection\n",
    "\n",
    "from replay_trajectory_classification.environments import Environment\n",
    "from spyglass.common.common_position import TrackGraph\n",
    "from spyglass.decoding.v0.clusterless import ClusterlessClassifierParameters\n",
    "from replay_trajectory_classification import ClusterlessClassifier\n",
    "\n",
    "\n",
    "\n",
    "import pprint\n",
    "# Here are the analysis tables specific to Shijie Gu\n",
    "from spyglass.shijiegu.Analysis_SGU import EpochPos,TrialChoice,Decode,DecodeResultsLinear\n",
    "from spyglass.shijiegu.decodeHelpers import (thresholder_sort,\n",
    "            runSessionNames,sleepSessionNames,populateUnitMarks,\n",
    "            intersectValidIntervals)"
   ]
  },
  {
   "cell_type": "code",
   "execution_count": 5,
   "id": "9cfd91a4-ed92-40b2-aa1e-0bbc7561d885",
   "metadata": {},
   "outputs": [],
   "source": [
    "from spyglass.shijiegu.decodeHelpers import decodePrepMasterSession"
   ]
  },
  {
   "cell_type": "markdown",
   "id": "210af784-53b5-4631-b767-33ec7a3cf1a4",
   "metadata": {},
   "source": [
    "## Table stream:\n",
    "#### The thresholder sorter will fill `SpikeSorting`, then we fill `Curation`, `UnitMarks`\n",
    "### 1. The final product is `UnitMarksIndicator`, which include spike and location"
   ]
  },
  {
   "cell_type": "code",
   "execution_count": 22,
   "id": "90352bb7-f85b-476d-8d07-5978f28a47af",
   "metadata": {},
   "outputs": [],
   "source": [
    "nwb_copy_file_name = 'klein20231111_.nwb'"
   ]
  },
  {
   "cell_type": "code",
   "execution_count": 23,
   "id": "75854fc6-29fb-4ec4-850d-7d4ff0cc608e",
   "metadata": {},
   "outputs": [
    {
     "name": "stdout",
     "output_type": "stream",
     "text": [
      "['02_Rev2Session1', '04_Rev2Session2', '06_Rev2Session3', '08_Rev2Session4', '10_Rev2Session5']\n"
     ]
    }
   ],
   "source": [
    "session_interval, position_interval = runSessionNames(nwb_copy_file_name)\n",
    "print(session_interval)"
   ]
  },
  {
   "cell_type": "code",
   "execution_count": 24,
   "id": "67856207-7cb9-4aed-98e6-0ac785af87d8",
   "metadata": {},
   "outputs": [
    {
     "name": "stdout",
     "output_type": "stream",
     "text": [
      "['02_Rev2Session1', '04_Rev2Session2', '06_Rev2Session3', '08_Rev2Session4', '10_Rev2Session5']\n"
     ]
    }
   ],
   "source": [
    "sleep_interval, sleep_position_interval = sleepSessionNames(nwb_copy_file_name)\n",
    "print(session_interval)"
   ]
  },
  {
   "cell_type": "code",
   "execution_count": null,
   "id": "b0291d7e-04f2-4617-8dc5-6f9a3f3181fc",
   "metadata": {
    "scrolled": true
   },
   "outputs": [
    {
     "name": "stdout",
     "output_type": "stream",
     "text": [
      "0\n",
      "inserting into IntervalList\n",
      "done inserting into IntervalList\n",
      "10\n",
      "inserting into IntervalList\n",
      "done inserting into IntervalList\n",
      "11\n",
      "inserting into IntervalList\n",
      "done inserting into IntervalList\n",
      "12\n",
      "inserting into IntervalList\n",
      "done inserting into IntervalList\n",
      "15\n",
      "inserting into IntervalList\n",
      "done inserting into IntervalList\n",
      "16\n",
      "inserting into IntervalList\n",
      "done inserting into IntervalList\n",
      "28\n",
      "inserting into IntervalList\n",
      "done inserting into IntervalList\n",
      "30\n",
      "inserting into IntervalList\n",
      "done inserting into IntervalList\n",
      "36\n",
      "inserting into IntervalList\n",
      "done inserting into IntervalList\n",
      "45\n",
      "inserting into IntervalList\n",
      "done inserting into IntervalList\n",
      "52\n",
      "inserting into IntervalList\n",
      "done inserting into IntervalList\n",
      "53\n",
      "inserting into IntervalList\n",
      "done inserting into IntervalList\n",
      "54\n",
      "inserting into IntervalList\n",
      "done inserting into IntervalList\n"
     ]
    },
    {
     "name": "stderr",
     "output_type": "stream",
     "text": [
      "[15:55:56][INFO] Spyglass: Running spike sorting on {'nwb_file_name': 'klein20231105_.nwb', 'sort_group_id': 0, 'sort_interval_name': '02_Rev2Session1', 'preproc_params_name': 'franklab_tetrode_hippocampus', 'team_name': 'SequenceTask', 'sorter': 'clusterless_thresholder', 'sorter_params_name': 'default', 'artifact_removed_interval_list_name': 'klein20231105_.nwb_02_Rev2Session1_0_franklab_tetrode_hippocampus_ampl_1500_prop_075_1ms_artifact_removed_valid_times_track_time_only'}...\n",
      "30-May-25 15:55:56 Running spike sorting on {'nwb_file_name': 'klein20231105_.nwb', 'sort_group_id': 0, 'sort_interval_name': '02_Rev2Session1', 'preproc_params_name': 'franklab_tetrode_hippocampus', 'team_name': 'SequenceTask', 'sorter': 'clusterless_thresholder', 'sorter_params_name': 'default', 'artifact_removed_interval_list_name': 'klein20231105_.nwb_02_Rev2Session1_0_franklab_tetrode_hippocampus_ampl_1500_prop_075_1ms_artifact_removed_valid_times_track_time_only'}...\n"
     ]
    },
    {
     "data": {
      "application/vnd.jupyter.widget-view+json": {
       "model_id": "1e8ad0b18a20424d859b04ea18a6bfd4",
       "version_major": 2,
       "version_minor": 0
      },
      "text/plain": [
       "detect peaks using locally_exclusive:   0%|          | 0/2769 [00:00<?, ?it/s]"
      ]
     },
     "metadata": {},
     "output_type": "display_data"
    }
   ],
   "source": [
    "e = 0\n",
    "sorting_keys = thresholder_sort(nwb_copy_file_name,session_interval[e],True)"
   ]
  },
  {
   "cell_type": "code",
   "execution_count": 50,
   "id": "909640d0-0cec-4e25-a03f-0c5207ba5a92",
   "metadata": {},
   "outputs": [
    {
     "name": "stderr",
     "output_type": "stream",
     "text": [
      "[23:06:56][WARNING] Spyglass: Turning off transaction protection this table by default. Use use_transation=True to re-enable.\n",
      "Read more about transactions:\n",
      "https://docs.datajoint.io/python/definition/05-Transactions.html\n",
      "https://github.com/LorenFrankLab/spyglass/issues/1030\n",
      "24-Apr-25 23:06:56 Turning off transaction protection this table by default. Use use_transation=True to re-enable.\n",
      "Read more about transactions:\n",
      "https://docs.datajoint.io/python/definition/05-Transactions.html\n",
      "https://github.com/LorenFrankLab/spyglass/issues/1030\n"
     ]
    }
   ],
   "source": [
    "mark_parameters_keys = populateUnitMarks(sorting_keys)"
   ]
  },
  {
   "cell_type": "code",
   "execution_count": 42,
   "id": "9328c235-0230-42d9-a226-c6fdcec60f2f",
   "metadata": {},
   "outputs": [],
   "source": [
    "#%debug"
   ]
  },
  {
   "cell_type": "code",
   "execution_count": 139,
   "id": "6d3a4a75-b130-4f2c-a5fe-90afd095c174",
   "metadata": {},
   "outputs": [
    {
     "data": {
      "text/plain": [
       "array([('julio20230811_.nwb', 100, '04_Seq2Session2', 'franklab_tetrode_hippocampus', 'SequenceTask', 'ampl_100_prop_05_2ms', 0),\n",
       "       ('julio20230811_.nwb', 101, '04_Seq2Session2', 'franklab_tetrode_hippocampus', 'SequenceTask', 'ampl_100_prop_05_2ms', 0)],\n",
       "      dtype=[('nwb_file_name', 'O'), ('sort_group_id', '<i8'), ('sort_interval_name', 'O'), ('preproc_params_name', 'O'), ('team_name', 'O'), ('artifact_params_name', 'O'), ('custom_artifact_detection', '<i8')])"
      ]
     },
     "execution_count": 139,
     "metadata": {},
     "output_type": "execute_result"
    }
   ],
   "source": [
    "(ArtifactDetectionSelection & {\"nwb_file_name\":nwb_copy_file_name,\n",
    "                              \"sort_interval_name\":\"04_Seq2Session2\"}).fetch()"
   ]
  },
  {
   "cell_type": "code",
   "execution_count": 17,
   "id": "fd90fc15-f53a-4e03-8754-83a32fd655bb",
   "metadata": {
    "scrolled": true
   },
   "outputs": [
    {
     "name": "stderr",
     "output_type": "stream",
     "text": [
      "[19:43:37][INFO] Spyglass: Found 1 accepted units\n",
      "20-Apr-25 19:43:37 Found 1 accepted units\n",
      "[19:43:40][INFO] Spyglass: Writing new NWB file Julio20230811_JGOX33B0QD.nwb\n",
      "20-Apr-25 19:43:40 Writing new NWB file Julio20230811_JGOX33B0QD.nwb\n",
      "[19:43:42][INFO] Spyglass: Found 1 accepted units\n",
      "20-Apr-25 19:43:42 Found 1 accepted units\n",
      "[19:43:43][INFO] Spyglass: Writing new NWB file Julio20230811_KNJ3K0S4OZ.nwb\n",
      "20-Apr-25 19:43:43 Writing new NWB file Julio20230811_KNJ3K0S4OZ.nwb\n",
      "[19:43:44][INFO] Spyglass: Found 1 accepted units\n",
      "20-Apr-25 19:43:44 Found 1 accepted units\n",
      "[19:43:45][INFO] Spyglass: Writing new NWB file Julio20230811_K0EQEE75MM.nwb\n",
      "20-Apr-25 19:43:45 Writing new NWB file Julio20230811_K0EQEE75MM.nwb\n",
      "[19:43:47][INFO] Spyglass: Found 1 accepted units\n",
      "20-Apr-25 19:43:47 Found 1 accepted units\n",
      "[19:43:48][INFO] Spyglass: Writing new NWB file Julio20230811_2RWH63BQCZ.nwb\n",
      "20-Apr-25 19:43:48 Writing new NWB file Julio20230811_2RWH63BQCZ.nwb\n",
      "[19:43:49][INFO] Spyglass: Found 1 accepted units\n",
      "20-Apr-25 19:43:49 Found 1 accepted units\n",
      "[19:43:50][INFO] Spyglass: Writing new NWB file Julio20230811_L9JSCOACTD.nwb\n",
      "20-Apr-25 19:43:50 Writing new NWB file Julio20230811_L9JSCOACTD.nwb\n",
      "[19:43:52][INFO] Spyglass: Found 1 accepted units\n",
      "20-Apr-25 19:43:52 Found 1 accepted units\n",
      "[19:43:53][INFO] Spyglass: Writing new NWB file Julio20230811_W4UEJPVV1G.nwb\n",
      "20-Apr-25 19:43:53 Writing new NWB file Julio20230811_W4UEJPVV1G.nwb\n",
      "[19:43:54][INFO] Spyglass: Found 1 accepted units\n",
      "20-Apr-25 19:43:54 Found 1 accepted units\n",
      "[19:43:55][INFO] Spyglass: Writing new NWB file Julio20230811_6C3588M0ZT.nwb\n",
      "20-Apr-25 19:43:55 Writing new NWB file Julio20230811_6C3588M0ZT.nwb\n",
      "[19:43:57][INFO] Spyglass: Found 1 accepted units\n",
      "20-Apr-25 19:43:57 Found 1 accepted units\n",
      "[19:43:58][INFO] Spyglass: Writing new NWB file Julio20230811_14K2G8R08E.nwb\n",
      "20-Apr-25 19:43:58 Writing new NWB file Julio20230811_14K2G8R08E.nwb\n",
      "[19:43:59][INFO] Spyglass: Found 1 accepted units\n",
      "20-Apr-25 19:43:59 Found 1 accepted units\n",
      "[19:44:00][INFO] Spyglass: Writing new NWB file Julio20230811_LKJVK8U8F8.nwb\n",
      "20-Apr-25 19:44:00 Writing new NWB file Julio20230811_LKJVK8U8F8.nwb\n",
      "[19:44:02][INFO] Spyglass: Found 1 accepted units\n",
      "20-Apr-25 19:44:02 Found 1 accepted units\n",
      "[19:44:02][INFO] Spyglass: Writing new NWB file Julio20230811_A06P3WW5VQ.nwb\n",
      "20-Apr-25 19:44:02 Writing new NWB file Julio20230811_A06P3WW5VQ.nwb\n",
      "[19:44:04][INFO] Spyglass: Found 1 accepted units\n",
      "20-Apr-25 19:44:04 Found 1 accepted units\n",
      "[19:44:05][INFO] Spyglass: Writing new NWB file Julio20230811_RG13Z5R641.nwb\n",
      "20-Apr-25 19:44:05 Writing new NWB file Julio20230811_RG13Z5R641.nwb\n",
      "[19:44:07][INFO] Spyglass: Found 1 accepted units\n",
      "20-Apr-25 19:44:07 Found 1 accepted units\n",
      "[19:44:08][INFO] Spyglass: Writing new NWB file Julio20230811_33Y9PV72YI.nwb\n",
      "20-Apr-25 19:44:08 Writing new NWB file Julio20230811_33Y9PV72YI.nwb\n",
      "[19:44:09][INFO] Spyglass: Found 1 accepted units\n",
      "20-Apr-25 19:44:09 Found 1 accepted units\n",
      "[19:44:10][INFO] Spyglass: Writing new NWB file Julio20230811_ER3ZT7T7NL.nwb\n",
      "20-Apr-25 19:44:10 Writing new NWB file Julio20230811_ER3ZT7T7NL.nwb\n",
      "[19:44:12][INFO] Spyglass: Found 1 accepted units\n",
      "20-Apr-25 19:44:12 Found 1 accepted units\n",
      "[19:44:13][INFO] Spyglass: Writing new NWB file Julio20230811_564BJK8FLB.nwb\n",
      "20-Apr-25 19:44:13 Writing new NWB file Julio20230811_564BJK8FLB.nwb\n",
      "[19:44:14][INFO] Spyglass: Found 1 accepted units\n",
      "20-Apr-25 19:44:14 Found 1 accepted units\n",
      "[19:44:15][INFO] Spyglass: Writing new NWB file Julio20230811_931S1ZL301.nwb\n",
      "20-Apr-25 19:44:15 Writing new NWB file Julio20230811_931S1ZL301.nwb\n",
      "[19:44:17][INFO] Spyglass: Found 1 accepted units\n",
      "20-Apr-25 19:44:17 Found 1 accepted units\n",
      "[19:44:18][INFO] Spyglass: Writing new NWB file Julio20230811_5QINUFMKKD.nwb\n",
      "20-Apr-25 19:44:18 Writing new NWB file Julio20230811_5QINUFMKKD.nwb\n",
      "[19:44:19][INFO] Spyglass: Found 1 accepted units\n",
      "20-Apr-25 19:44:19 Found 1 accepted units\n",
      "[19:44:20][INFO] Spyglass: Writing new NWB file Julio20230811_DXTJVWGD1T.nwb\n",
      "20-Apr-25 19:44:20 Writing new NWB file Julio20230811_DXTJVWGD1T.nwb\n",
      "[19:44:22][INFO] Spyglass: Found 1 accepted units\n",
      "20-Apr-25 19:44:22 Found 1 accepted units\n",
      "[19:44:23][INFO] Spyglass: Writing new NWB file Julio20230811_PR72HBB9AB.nwb\n",
      "20-Apr-25 19:44:23 Writing new NWB file Julio20230811_PR72HBB9AB.nwb\n",
      "[19:44:25][INFO] Spyglass: Found 1 accepted units\n",
      "20-Apr-25 19:44:25 Found 1 accepted units\n",
      "[19:44:25][INFO] Spyglass: Writing new NWB file Julio20230811_SFRCKRT8WC.nwb\n",
      "20-Apr-25 19:44:25 Writing new NWB file Julio20230811_SFRCKRT8WC.nwb\n",
      "[19:44:27][INFO] Spyglass: Found 1 accepted units\n",
      "20-Apr-25 19:44:27 Found 1 accepted units\n",
      "[19:44:28][INFO] Spyglass: Writing new NWB file Julio20230811_AA7ONJJ781.nwb\n",
      "20-Apr-25 19:44:28 Writing new NWB file Julio20230811_AA7ONJJ781.nwb\n",
      "[19:44:30][INFO] Spyglass: Found 1 accepted units\n",
      "20-Apr-25 19:44:30 Found 1 accepted units\n",
      "[19:44:31][INFO] Spyglass: Writing new NWB file Julio20230811_ITLGCOBA2D.nwb\n",
      "20-Apr-25 19:44:31 Writing new NWB file Julio20230811_ITLGCOBA2D.nwb\n",
      "[19:44:32][INFO] Spyglass: Found 1 accepted units\n",
      "20-Apr-25 19:44:32 Found 1 accepted units\n",
      "[19:44:33][INFO] Spyglass: Writing new NWB file Julio20230811_IR3VERTPD6.nwb\n",
      "20-Apr-25 19:44:33 Writing new NWB file Julio20230811_IR3VERTPD6.nwb\n",
      "[19:44:35][INFO] Spyglass: Found 1 accepted units\n",
      "20-Apr-25 19:44:35 Found 1 accepted units\n",
      "[19:44:36][INFO] Spyglass: Writing new NWB file Julio20230811_7EO3QVWC5V.nwb\n",
      "20-Apr-25 19:44:36 Writing new NWB file Julio20230811_7EO3QVWC5V.nwb\n",
      "[19:44:37][INFO] Spyglass: Found 1 accepted units\n",
      "20-Apr-25 19:44:37 Found 1 accepted units\n",
      "[19:44:38][INFO] Spyglass: Writing new NWB file Julio20230811_O6LOH27GX4.nwb\n",
      "20-Apr-25 19:44:38 Writing new NWB file Julio20230811_O6LOH27GX4.nwb\n",
      "[19:44:40][INFO] Spyglass: Found 1 accepted units\n",
      "20-Apr-25 19:44:40 Found 1 accepted units\n",
      "[19:44:41][INFO] Spyglass: Writing new NWB file Julio20230811_K6H1SQFMGM.nwb\n",
      "20-Apr-25 19:44:41 Writing new NWB file Julio20230811_K6H1SQFMGM.nwb\n"
     ]
    },
    {
     "data": {
      "application/vnd.jupyter.widget-view+json": {
       "model_id": "6d3c0a41463149a8a4a8639cd2377a0c",
       "version_major": 2,
       "version_minor": 0
      },
      "text/plain": [
       "extract waveforms memmap:   0%|          | 0/1 [00:00<?, ?it/s]"
      ]
     },
     "metadata": {},
     "output_type": "display_data"
    },
    {
     "name": "stderr",
     "output_type": "stream",
     "text": [
      "[19:44:44][INFO] Spyglass: Writing new NWB file Julio20230811_NAXP791IN4.nwb\n",
      "20-Apr-25 19:44:44 Writing new NWB file Julio20230811_NAXP791IN4.nwb\n"
     ]
    },
    {
     "data": {
      "application/vnd.jupyter.widget-view+json": {
       "model_id": "f5ac73dc4ce9452ca05a7a6a857461f8",
       "version_major": 2,
       "version_minor": 0
      },
      "text/plain": [
       "extract waveforms memmap:   0%|          | 0/1 [00:00<?, ?it/s]"
      ]
     },
     "metadata": {},
     "output_type": "display_data"
    },
    {
     "name": "stderr",
     "output_type": "stream",
     "text": [
      "[19:44:47][INFO] Spyglass: Writing new NWB file Julio20230811_2RPYIZQFIH.nwb\n",
      "20-Apr-25 19:44:47 Writing new NWB file Julio20230811_2RPYIZQFIH.nwb\n"
     ]
    },
    {
     "data": {
      "application/vnd.jupyter.widget-view+json": {
       "model_id": "e613c61b467c496187e10be0ca20a413",
       "version_major": 2,
       "version_minor": 0
      },
      "text/plain": [
       "extract waveforms memmap:   0%|          | 0/1 [00:00<?, ?it/s]"
      ]
     },
     "metadata": {},
     "output_type": "display_data"
    },
    {
     "name": "stderr",
     "output_type": "stream",
     "text": [
      "[19:44:49][INFO] Spyglass: Writing new NWB file Julio20230811_HLL1PQII0A.nwb\n",
      "20-Apr-25 19:44:49 Writing new NWB file Julio20230811_HLL1PQII0A.nwb\n"
     ]
    },
    {
     "data": {
      "application/vnd.jupyter.widget-view+json": {
       "model_id": "1b986c1671624b9baa8ec09d1c542923",
       "version_major": 2,
       "version_minor": 0
      },
      "text/plain": [
       "extract waveforms memmap:   0%|          | 0/1 [00:00<?, ?it/s]"
      ]
     },
     "metadata": {},
     "output_type": "display_data"
    },
    {
     "name": "stderr",
     "output_type": "stream",
     "text": [
      "[19:44:52][INFO] Spyglass: Writing new NWB file Julio20230811_ROD0TU372R.nwb\n",
      "20-Apr-25 19:44:52 Writing new NWB file Julio20230811_ROD0TU372R.nwb\n"
     ]
    },
    {
     "data": {
      "application/vnd.jupyter.widget-view+json": {
       "model_id": "c26c3de8650a460d9f4023d95b3b9a26",
       "version_major": 2,
       "version_minor": 0
      },
      "text/plain": [
       "extract waveforms memmap:   0%|          | 0/1 [00:00<?, ?it/s]"
      ]
     },
     "metadata": {},
     "output_type": "display_data"
    },
    {
     "name": "stderr",
     "output_type": "stream",
     "text": [
      "[19:44:54][INFO] Spyglass: Writing new NWB file Julio20230811_YWOBB3H9H8.nwb\n",
      "20-Apr-25 19:44:54 Writing new NWB file Julio20230811_YWOBB3H9H8.nwb\n"
     ]
    },
    {
     "data": {
      "application/vnd.jupyter.widget-view+json": {
       "model_id": "cbe277bc26864f1e9c2a6aa24545d78d",
       "version_major": 2,
       "version_minor": 0
      },
      "text/plain": [
       "extract waveforms memmap:   0%|          | 0/1 [00:00<?, ?it/s]"
      ]
     },
     "metadata": {},
     "output_type": "display_data"
    },
    {
     "name": "stderr",
     "output_type": "stream",
     "text": [
      "[19:44:57][INFO] Spyglass: Writing new NWB file Julio20230811_W83ZMOSG4T.nwb\n",
      "20-Apr-25 19:44:57 Writing new NWB file Julio20230811_W83ZMOSG4T.nwb\n"
     ]
    },
    {
     "data": {
      "application/vnd.jupyter.widget-view+json": {
       "model_id": "401586acb4a74d7d9c063e6adb9028fd",
       "version_major": 2,
       "version_minor": 0
      },
      "text/plain": [
       "extract waveforms memmap:   0%|          | 0/1 [00:00<?, ?it/s]"
      ]
     },
     "metadata": {},
     "output_type": "display_data"
    },
    {
     "name": "stderr",
     "output_type": "stream",
     "text": [
      "[19:45:00][INFO] Spyglass: Writing new NWB file Julio20230811_UMUM237U7U.nwb\n",
      "20-Apr-25 19:45:00 Writing new NWB file Julio20230811_UMUM237U7U.nwb\n"
     ]
    },
    {
     "data": {
      "application/vnd.jupyter.widget-view+json": {
       "model_id": "77c95a046e0b4fb4b6d35107a9d43fc7",
       "version_major": 2,
       "version_minor": 0
      },
      "text/plain": [
       "extract waveforms memmap:   0%|          | 0/1 [00:00<?, ?it/s]"
      ]
     },
     "metadata": {},
     "output_type": "display_data"
    },
    {
     "name": "stderr",
     "output_type": "stream",
     "text": [
      "[19:45:03][INFO] Spyglass: Writing new NWB file Julio20230811_5APZP0XA8X.nwb\n",
      "20-Apr-25 19:45:03 Writing new NWB file Julio20230811_5APZP0XA8X.nwb\n"
     ]
    },
    {
     "data": {
      "application/vnd.jupyter.widget-view+json": {
       "model_id": "bedf34db17bd466685232f7a72ae439e",
       "version_major": 2,
       "version_minor": 0
      },
      "text/plain": [
       "extract waveforms memmap:   0%|          | 0/1 [00:00<?, ?it/s]"
      ]
     },
     "metadata": {},
     "output_type": "display_data"
    },
    {
     "name": "stderr",
     "output_type": "stream",
     "text": [
      "[19:45:06][INFO] Spyglass: Writing new NWB file Julio20230811_6RNA99MWGE.nwb\n",
      "20-Apr-25 19:45:06 Writing new NWB file Julio20230811_6RNA99MWGE.nwb\n"
     ]
    },
    {
     "data": {
      "application/vnd.jupyter.widget-view+json": {
       "model_id": "e0b7d7bf18be4f51a89e1395c7823333",
       "version_major": 2,
       "version_minor": 0
      },
      "text/plain": [
       "extract waveforms memmap:   0%|          | 0/1 [00:00<?, ?it/s]"
      ]
     },
     "metadata": {},
     "output_type": "display_data"
    },
    {
     "name": "stderr",
     "output_type": "stream",
     "text": [
      "[19:45:09][INFO] Spyglass: Writing new NWB file Julio20230811_B6MWR2ZFH0.nwb\n",
      "20-Apr-25 19:45:09 Writing new NWB file Julio20230811_B6MWR2ZFH0.nwb\n"
     ]
    },
    {
     "data": {
      "application/vnd.jupyter.widget-view+json": {
       "model_id": "059859b4354c4571869096bfb718e42b",
       "version_major": 2,
       "version_minor": 0
      },
      "text/plain": [
       "extract waveforms memmap:   0%|          | 0/1 [00:00<?, ?it/s]"
      ]
     },
     "metadata": {},
     "output_type": "display_data"
    },
    {
     "name": "stderr",
     "output_type": "stream",
     "text": [
      "[19:45:11][INFO] Spyglass: Writing new NWB file Julio20230811_HX754JEFN8.nwb\n",
      "20-Apr-25 19:45:11 Writing new NWB file Julio20230811_HX754JEFN8.nwb\n"
     ]
    },
    {
     "data": {
      "application/vnd.jupyter.widget-view+json": {
       "model_id": "5b643438f8ca4291ae47ecfae33c2139",
       "version_major": 2,
       "version_minor": 0
      },
      "text/plain": [
       "extract waveforms memmap:   0%|          | 0/1 [00:00<?, ?it/s]"
      ]
     },
     "metadata": {},
     "output_type": "display_data"
    },
    {
     "name": "stderr",
     "output_type": "stream",
     "text": [
      "[19:45:14][INFO] Spyglass: Writing new NWB file Julio20230811_5BMC8QXW42.nwb\n",
      "20-Apr-25 19:45:14 Writing new NWB file Julio20230811_5BMC8QXW42.nwb\n"
     ]
    },
    {
     "data": {
      "application/vnd.jupyter.widget-view+json": {
       "model_id": "2053dece91e4490d8434b5e8156cfa05",
       "version_major": 2,
       "version_minor": 0
      },
      "text/plain": [
       "extract waveforms memmap:   0%|          | 0/1 [00:00<?, ?it/s]"
      ]
     },
     "metadata": {},
     "output_type": "display_data"
    },
    {
     "name": "stderr",
     "output_type": "stream",
     "text": [
      "[19:45:17][INFO] Spyglass: Writing new NWB file Julio20230811_ED2QB08M2S.nwb\n",
      "20-Apr-25 19:45:17 Writing new NWB file Julio20230811_ED2QB08M2S.nwb\n"
     ]
    },
    {
     "data": {
      "application/vnd.jupyter.widget-view+json": {
       "model_id": "772af7ed51bf469e989337f0632d05b6",
       "version_major": 2,
       "version_minor": 0
      },
      "text/plain": [
       "extract waveforms memmap:   0%|          | 0/1 [00:00<?, ?it/s]"
      ]
     },
     "metadata": {},
     "output_type": "display_data"
    },
    {
     "name": "stderr",
     "output_type": "stream",
     "text": [
      "[19:45:20][INFO] Spyglass: Writing new NWB file Julio20230811_M5XRJ4VTG3.nwb\n",
      "20-Apr-25 19:45:20 Writing new NWB file Julio20230811_M5XRJ4VTG3.nwb\n"
     ]
    },
    {
     "data": {
      "application/vnd.jupyter.widget-view+json": {
       "model_id": "cf50b3d095454af2befbe67f2971e15f",
       "version_major": 2,
       "version_minor": 0
      },
      "text/plain": [
       "extract waveforms memmap:   0%|          | 0/1 [00:00<?, ?it/s]"
      ]
     },
     "metadata": {},
     "output_type": "display_data"
    },
    {
     "name": "stderr",
     "output_type": "stream",
     "text": [
      "[19:45:22][INFO] Spyglass: Writing new NWB file Julio20230811_RM30MLTS30.nwb\n",
      "20-Apr-25 19:45:22 Writing new NWB file Julio20230811_RM30MLTS30.nwb\n"
     ]
    },
    {
     "data": {
      "application/vnd.jupyter.widget-view+json": {
       "model_id": "2bdcd5d793474e71aa9cc7024d37407c",
       "version_major": 2,
       "version_minor": 0
      },
      "text/plain": [
       "extract waveforms memmap:   0%|          | 0/1 [00:00<?, ?it/s]"
      ]
     },
     "metadata": {},
     "output_type": "display_data"
    },
    {
     "name": "stderr",
     "output_type": "stream",
     "text": [
      "[19:45:26][INFO] Spyglass: Writing new NWB file Julio20230811_XN20B0G86F.nwb\n",
      "20-Apr-25 19:45:26 Writing new NWB file Julio20230811_XN20B0G86F.nwb\n"
     ]
    },
    {
     "data": {
      "application/vnd.jupyter.widget-view+json": {
       "model_id": "6d7ae89ff25b40719a5284e5905367b2",
       "version_major": 2,
       "version_minor": 0
      },
      "text/plain": [
       "extract waveforms memmap:   0%|          | 0/1 [00:00<?, ?it/s]"
      ]
     },
     "metadata": {},
     "output_type": "display_data"
    },
    {
     "name": "stderr",
     "output_type": "stream",
     "text": [
      "[19:45:28][INFO] Spyglass: Writing new NWB file Julio20230811_2BVU7NBJC4.nwb\n",
      "20-Apr-25 19:45:28 Writing new NWB file Julio20230811_2BVU7NBJC4.nwb\n"
     ]
    },
    {
     "data": {
      "application/vnd.jupyter.widget-view+json": {
       "model_id": "83a8ba6a91614cf2b4e511c303c54d6d",
       "version_major": 2,
       "version_minor": 0
      },
      "text/plain": [
       "extract waveforms memmap:   0%|          | 0/1 [00:00<?, ?it/s]"
      ]
     },
     "metadata": {},
     "output_type": "display_data"
    },
    {
     "name": "stderr",
     "output_type": "stream",
     "text": [
      "[19:45:31][INFO] Spyglass: Writing new NWB file Julio20230811_M4JE3LQF6P.nwb\n",
      "20-Apr-25 19:45:31 Writing new NWB file Julio20230811_M4JE3LQF6P.nwb\n"
     ]
    },
    {
     "data": {
      "application/vnd.jupyter.widget-view+json": {
       "model_id": "da4cdf32fc904f649a8bcd7484824ef2",
       "version_major": 2,
       "version_minor": 0
      },
      "text/plain": [
       "extract waveforms memmap:   0%|          | 0/1 [00:00<?, ?it/s]"
      ]
     },
     "metadata": {},
     "output_type": "display_data"
    },
    {
     "name": "stderr",
     "output_type": "stream",
     "text": [
      "[19:45:34][INFO] Spyglass: Writing new NWB file Julio20230811_FTIGK58148.nwb\n",
      "20-Apr-25 19:45:34 Writing new NWB file Julio20230811_FTIGK58148.nwb\n"
     ]
    },
    {
     "data": {
      "application/vnd.jupyter.widget-view+json": {
       "model_id": "b557efeeed374ae78185244ba35b2e8d",
       "version_major": 2,
       "version_minor": 0
      },
      "text/plain": [
       "extract waveforms memmap:   0%|          | 0/1 [00:00<?, ?it/s]"
      ]
     },
     "metadata": {},
     "output_type": "display_data"
    },
    {
     "name": "stderr",
     "output_type": "stream",
     "text": [
      "[19:45:37][INFO] Spyglass: Writing new NWB file Julio20230811_U4HCQJS8BQ.nwb\n",
      "20-Apr-25 19:45:37 Writing new NWB file Julio20230811_U4HCQJS8BQ.nwb\n"
     ]
    },
    {
     "data": {
      "application/vnd.jupyter.widget-view+json": {
       "model_id": "0b62ffe290bb4c4d856ad2932324eadf",
       "version_major": 2,
       "version_minor": 0
      },
      "text/plain": [
       "extract waveforms memmap:   0%|          | 0/1 [00:00<?, ?it/s]"
      ]
     },
     "metadata": {},
     "output_type": "display_data"
    },
    {
     "name": "stderr",
     "output_type": "stream",
     "text": [
      "[19:45:40][INFO] Spyglass: Writing new NWB file Julio20230811_8KH9A3Z6N7.nwb\n",
      "20-Apr-25 19:45:40 Writing new NWB file Julio20230811_8KH9A3Z6N7.nwb\n"
     ]
    },
    {
     "data": {
      "application/vnd.jupyter.widget-view+json": {
       "model_id": "ab1879cb2fd5433da7415fb7d4ce3f98",
       "version_major": 2,
       "version_minor": 0
      },
      "text/plain": [
       "extract waveforms memmap:   0%|          | 0/1 [00:00<?, ?it/s]"
      ]
     },
     "metadata": {},
     "output_type": "display_data"
    },
    {
     "name": "stderr",
     "output_type": "stream",
     "text": [
      "[19:45:42][INFO] Spyglass: Writing new NWB file Julio20230811_XNNX1Z266N.nwb\n",
      "20-Apr-25 19:45:42 Writing new NWB file Julio20230811_XNNX1Z266N.nwb\n"
     ]
    },
    {
     "data": {
      "application/vnd.jupyter.widget-view+json": {
       "model_id": "1a8bd0fef43a4a97b5af8f9e65bf0f3f",
       "version_major": 2,
       "version_minor": 0
      },
      "text/plain": [
       "extract waveforms memmap:   0%|          | 0/1 [00:00<?, ?it/s]"
      ]
     },
     "metadata": {},
     "output_type": "display_data"
    },
    {
     "name": "stderr",
     "output_type": "stream",
     "text": [
      "[19:45:45][INFO] Spyglass: Writing new NWB file Julio20230811_30EKCH88IC.nwb\n",
      "20-Apr-25 19:45:45 Writing new NWB file Julio20230811_30EKCH88IC.nwb\n"
     ]
    },
    {
     "data": {
      "application/vnd.jupyter.widget-view+json": {
       "model_id": "7192e6bb328c4893afc1c7f019a612e6",
       "version_major": 2,
       "version_minor": 0
      },
      "text/plain": [
       "extract waveforms memmap:   0%|          | 0/1 [00:00<?, ?it/s]"
      ]
     },
     "metadata": {},
     "output_type": "display_data"
    },
    {
     "name": "stderr",
     "output_type": "stream",
     "text": [
      "[19:45:48][INFO] Spyglass: Writing new NWB file Julio20230811_7UZRASL88A.nwb\n",
      "20-Apr-25 19:45:48 Writing new NWB file Julio20230811_7UZRASL88A.nwb\n"
     ]
    },
    {
     "data": {
      "application/vnd.jupyter.widget-view+json": {
       "model_id": "5502f333374145c08b73265a1d25bf7c",
       "version_major": 2,
       "version_minor": 0
      },
      "text/plain": [
       "extract waveforms memmap:   0%|          | 0/1 [00:00<?, ?it/s]"
      ]
     },
     "metadata": {},
     "output_type": "display_data"
    },
    {
     "name": "stderr",
     "output_type": "stream",
     "text": [
      "[19:45:51][INFO] Spyglass: Writing new NWB file Julio20230811_PCUCZEL3YT.nwb\n",
      "20-Apr-25 19:45:51 Writing new NWB file Julio20230811_PCUCZEL3YT.nwb\n"
     ]
    }
   ],
   "source": [
    "mark_parameters_keys = populateUnitMarks(sorting_keys)"
   ]
  },
  {
   "cell_type": "code",
   "execution_count": 65,
   "id": "0ef0c68c-b472-47fa-8ff2-ac82bec78489",
   "metadata": {},
   "outputs": [
    {
     "data": {
      "text/html": [
       "\n",
       "    \n",
       "    <style type=\"text/css\">\n",
       "        .Table{\n",
       "            border-collapse:collapse;\n",
       "        }\n",
       "        .Table th{\n",
       "            background: #A0A0A0; color: #ffffff; padding:4px; border:#f0e0e0 1px solid;\n",
       "            font-weight: normal; font-family: monospace; font-size: 100%;\n",
       "        }\n",
       "        .Table td{\n",
       "            padding:4px; border:#f0e0e0 1px solid; font-size:100%;\n",
       "        }\n",
       "        .Table tr:nth-child(odd){\n",
       "            background: #ffffff;\n",
       "            color: #000000;\n",
       "        }\n",
       "        .Table tr:nth-child(even){\n",
       "            background: #f3f1ff;\n",
       "            color: #000000;\n",
       "        }\n",
       "        /* Tooltip container */\n",
       "        .djtooltip {\n",
       "        }\n",
       "        /* Tooltip text */\n",
       "        .djtooltip .djtooltiptext {\n",
       "            visibility: hidden;\n",
       "            width: 120px;\n",
       "            background-color: black;\n",
       "            color: #fff;\n",
       "            text-align: center;\n",
       "            padding: 5px 0;\n",
       "            border-radius: 6px;\n",
       "            /* Position the tooltip text - see examples below! */\n",
       "            position: absolute;\n",
       "            z-index: 1;\n",
       "        }\n",
       "        #primary {\n",
       "            font-weight: bold;\n",
       "            color: black;\n",
       "        }\n",
       "        #nonprimary {\n",
       "            font-weight: normal;\n",
       "            color: white;\n",
       "        }\n",
       "\n",
       "        /* Show the tooltip text when you mouse over the tooltip container */\n",
       "        .djtooltip:hover .djtooltiptext {\n",
       "            visibility: visible;\n",
       "        }\n",
       "    </style>\n",
       "    \n",
       "    <b></b>\n",
       "        <div style=\"max-height:1000px;max-width:1500px;overflow:auto;\">\n",
       "        <table border=\"1\" class=\"Table\">\n",
       "            <thead> <tr style=\"text-align: right;\"> <th> <div class=\"djtooltip\">\n",
       "                            <p id=\"primary\">nwb_file_name</p>\n",
       "                            <span class=\"djtooltiptext\">name of the NWB file</span>\n",
       "                        </div></th><th><div class=\"djtooltip\">\n",
       "                            <p id=\"primary\">sort_group_id</p>\n",
       "                            <span class=\"djtooltiptext\">identifier for a group of electrodes</span>\n",
       "                        </div></th><th><div class=\"djtooltip\">\n",
       "                            <p id=\"primary\">sort_interval_name</p>\n",
       "                            <span class=\"djtooltiptext\">name for this interval</span>\n",
       "                        </div></th><th><div class=\"djtooltip\">\n",
       "                            <p id=\"primary\">preproc_params_name</p>\n",
       "                            <span class=\"djtooltiptext\"></span>\n",
       "                        </div></th><th><div class=\"djtooltip\">\n",
       "                            <p id=\"primary\">team_name</p>\n",
       "                            <span class=\"djtooltiptext\"></span>\n",
       "                        </div></th><th><div class=\"djtooltip\">\n",
       "                            <p id=\"primary\">sorter</p>\n",
       "                            <span class=\"djtooltiptext\"></span>\n",
       "                        </div></th><th><div class=\"djtooltip\">\n",
       "                            <p id=\"primary\">sorter_params_name</p>\n",
       "                            <span class=\"djtooltiptext\"></span>\n",
       "                        </div></th><th><div class=\"djtooltip\">\n",
       "                            <p id=\"primary\">artifact_removed_interval_list_name</p>\n",
       "                            <span class=\"djtooltiptext\"></span>\n",
       "                        </div></th><th><div class=\"djtooltip\">\n",
       "                            <p id=\"nonprimary\">sorting_path</p>\n",
       "                            <span class=\"djtooltiptext\"></span>\n",
       "                        </div></th><th><div class=\"djtooltip\">\n",
       "                            <p id=\"nonprimary\">time_of_sort</p>\n",
       "                            <span class=\"djtooltiptext\">in Unix time, to the nearest second</span>\n",
       "                        </div> </th> </tr> </thead>\n",
       "            <tbody> <tr> <td>klein20231105_.nwb</td>\n",
       "<td>0</td>\n",
       "<td>02_Rev2Session1</td>\n",
       "<td>franklab_tetrode_hippocampus</td>\n",
       "<td>SequenceTask</td>\n",
       "<td>clusterless_thresholder</td>\n",
       "<td>default</td>\n",
       "<td>klein20231105_.nwb_02_Rev2Session1_0_franklab_tetrode_hippocampus_ampl_1500_prop_075_1ms_artifact_removed_valid_times_track_time_only</td>\n",
       "<td>/stelmo/nwb/sorting/klein20231105_.nwb_02_Rev2Session1_0_franklab_tetrode_hippocampus_1bec9c47_spikesorting</td>\n",
       "<td>1748645792</td></tr><tr><td>klein20231105_.nwb</td>\n",
       "<td>10</td>\n",
       "<td>02_Rev2Session1</td>\n",
       "<td>franklab_tetrode_hippocampus</td>\n",
       "<td>SequenceTask</td>\n",
       "<td>clusterless_thresholder</td>\n",
       "<td>default</td>\n",
       "<td>klein20231105_.nwb_02_Rev2Session1_10_franklab_tetrode_hippocampus_ampl_1500_prop_075_1ms_artifact_removed_valid_times_track_time_only</td>\n",
       "<td>/stelmo/nwb/sorting/klein20231105_.nwb_02_Rev2Session1_10_franklab_tetrode_hippocampus_e469aa10_spikesorting</td>\n",
       "<td>1748645837</td></tr><tr><td>klein20231105_.nwb</td>\n",
       "<td>11</td>\n",
       "<td>02_Rev2Session1</td>\n",
       "<td>franklab_tetrode_hippocampus</td>\n",
       "<td>SequenceTask</td>\n",
       "<td>clusterless_thresholder</td>\n",
       "<td>default</td>\n",
       "<td>klein20231105_.nwb_02_Rev2Session1_11_franklab_tetrode_hippocampus_ampl_1500_prop_075_1ms_artifact_removed_valid_times_track_time_only</td>\n",
       "<td>/stelmo/nwb/sorting/klein20231105_.nwb_02_Rev2Session1_11_franklab_tetrode_hippocampus_cc42212d_spikesorting</td>\n",
       "<td>1748645898</td></tr><tr><td>klein20231105_.nwb</td>\n",
       "<td>12</td>\n",
       "<td>02_Rev2Session1</td>\n",
       "<td>franklab_tetrode_hippocampus</td>\n",
       "<td>SequenceTask</td>\n",
       "<td>clusterless_thresholder</td>\n",
       "<td>default</td>\n",
       "<td>klein20231105_.nwb_02_Rev2Session1_12_franklab_tetrode_hippocampus_ampl_1500_prop_075_1ms_artifact_removed_valid_times_track_time_only</td>\n",
       "<td>/stelmo/nwb/sorting/klein20231105_.nwb_02_Rev2Session1_12_franklab_tetrode_hippocampus_8efe4a1b_spikesorting</td>\n",
       "<td>1748645949</td></tr><tr><td>klein20231105_.nwb</td>\n",
       "<td>15</td>\n",
       "<td>02_Rev2Session1</td>\n",
       "<td>franklab_tetrode_hippocampus</td>\n",
       "<td>SequenceTask</td>\n",
       "<td>clusterless_thresholder</td>\n",
       "<td>default</td>\n",
       "<td>klein20231105_.nwb_02_Rev2Session1_15_franklab_tetrode_hippocampus_ampl_1500_prop_075_1ms_artifact_removed_valid_times_track_time_only</td>\n",
       "<td>/stelmo/nwb/sorting/klein20231105_.nwb_02_Rev2Session1_15_franklab_tetrode_hippocampus_3b78586e_spikesorting</td>\n",
       "<td>1748646008</td></tr><tr><td>klein20231105_.nwb</td>\n",
       "<td>16</td>\n",
       "<td>02_Rev2Session1</td>\n",
       "<td>franklab_tetrode_hippocampus</td>\n",
       "<td>SequenceTask</td>\n",
       "<td>clusterless_thresholder</td>\n",
       "<td>default</td>\n",
       "<td>klein20231105_.nwb_02_Rev2Session1_16_franklab_tetrode_hippocampus_ampl_1500_prop_075_1ms_artifact_removed_valid_times_track_time_only</td>\n",
       "<td>/stelmo/nwb/sorting/klein20231105_.nwb_02_Rev2Session1_16_franklab_tetrode_hippocampus_3040bbfb_spikesorting</td>\n",
       "<td>1748646094</td></tr><tr><td>klein20231105_.nwb</td>\n",
       "<td>28</td>\n",
       "<td>02_Rev2Session1</td>\n",
       "<td>franklab_tetrode_hippocampus</td>\n",
       "<td>SequenceTask</td>\n",
       "<td>clusterless_thresholder</td>\n",
       "<td>default</td>\n",
       "<td>klein20231105_.nwb_02_Rev2Session1_28_franklab_tetrode_hippocampus_ampl_1500_prop_075_1ms_artifact_removed_valid_times_track_time_only</td>\n",
       "<td>/stelmo/nwb/sorting/klein20231105_.nwb_02_Rev2Session1_28_franklab_tetrode_hippocampus_75ad47c2_spikesorting</td>\n",
       "<td>1748646149</td></tr><tr><td>klein20231105_.nwb</td>\n",
       "<td>30</td>\n",
       "<td>02_Rev2Session1</td>\n",
       "<td>franklab_tetrode_hippocampus</td>\n",
       "<td>SequenceTask</td>\n",
       "<td>clusterless_thresholder</td>\n",
       "<td>default</td>\n",
       "<td>klein20231105_.nwb_02_Rev2Session1_30_franklab_tetrode_hippocampus_ampl_1500_prop_075_1ms_artifact_removed_valid_times_track_time_only</td>\n",
       "<td>/stelmo/nwb/sorting/klein20231105_.nwb_02_Rev2Session1_30_franklab_tetrode_hippocampus_c4696e07_spikesorting</td>\n",
       "<td>1748646195</td></tr><tr><td>klein20231105_.nwb</td>\n",
       "<td>36</td>\n",
       "<td>02_Rev2Session1</td>\n",
       "<td>franklab_tetrode_hippocampus</td>\n",
       "<td>SequenceTask</td>\n",
       "<td>clusterless_thresholder</td>\n",
       "<td>default</td>\n",
       "<td>klein20231105_.nwb_02_Rev2Session1_36_franklab_tetrode_hippocampus_ampl_1500_prop_075_1ms_artifact_removed_valid_times_track_time_only</td>\n",
       "<td>/stelmo/nwb/sorting/klein20231105_.nwb_02_Rev2Session1_36_franklab_tetrode_hippocampus_6cd196e3_spikesorting</td>\n",
       "<td>1748646245</td></tr><tr><td>klein20231105_.nwb</td>\n",
       "<td>45</td>\n",
       "<td>02_Rev2Session1</td>\n",
       "<td>franklab_tetrode_hippocampus</td>\n",
       "<td>SequenceTask</td>\n",
       "<td>clusterless_thresholder</td>\n",
       "<td>default</td>\n",
       "<td>klein20231105_.nwb_02_Rev2Session1_45_franklab_tetrode_hippocampus_ampl_1500_prop_075_1ms_artifact_removed_valid_times_track_time_only</td>\n",
       "<td>/stelmo/nwb/sorting/klein20231105_.nwb_02_Rev2Session1_45_franklab_tetrode_hippocampus_7c84368c_spikesorting</td>\n",
       "<td>1748646294</td></tr><tr><td>klein20231105_.nwb</td>\n",
       "<td>52</td>\n",
       "<td>02_Rev2Session1</td>\n",
       "<td>franklab_tetrode_hippocampus</td>\n",
       "<td>SequenceTask</td>\n",
       "<td>clusterless_thresholder</td>\n",
       "<td>default</td>\n",
       "<td>klein20231105_.nwb_02_Rev2Session1_52_franklab_tetrode_hippocampus_ampl_1500_prop_075_1ms_artifact_removed_valid_times_track_time_only</td>\n",
       "<td>/stelmo/nwb/sorting/klein20231105_.nwb_02_Rev2Session1_52_franklab_tetrode_hippocampus_953c6e67_spikesorting</td>\n",
       "<td>1748646342</td></tr><tr><td>klein20231105_.nwb</td>\n",
       "<td>53</td>\n",
       "<td>02_Rev2Session1</td>\n",
       "<td>franklab_tetrode_hippocampus</td>\n",
       "<td>SequenceTask</td>\n",
       "<td>clusterless_thresholder</td>\n",
       "<td>default</td>\n",
       "<td>klein20231105_.nwb_02_Rev2Session1_53_franklab_tetrode_hippocampus_ampl_1500_prop_075_1ms_artifact_removed_valid_times_track_time_only</td>\n",
       "<td>/stelmo/nwb/sorting/klein20231105_.nwb_02_Rev2Session1_53_franklab_tetrode_hippocampus_f4a9154d_spikesorting</td>\n",
       "<td>1748646383</td> </tr> </tbody>\n",
       "        </table>\n",
       "        <p>...</p>\n",
       "        <p>Total: 13</p></div>\n",
       "        "
      ],
      "text/plain": [
       "*nwb_file_name *sort_group_id *sort_interval *preproc_param *team_name     *sorter        *sorter_params *artifact_remo sorting_path   time_of_sort  \n",
       "+------------+ +------------+ +------------+ +------------+ +------------+ +------------+ +------------+ +------------+ +------------+ +------------+\n",
       "klein20231105_ 0              02_Rev2Session franklab_tetro SequenceTask   clusterless_th default        klein20231105_ /stelmo/nwb/so 1748645792    \n",
       "klein20231105_ 10             02_Rev2Session franklab_tetro SequenceTask   clusterless_th default        klein20231105_ /stelmo/nwb/so 1748645837    \n",
       "klein20231105_ 11             02_Rev2Session franklab_tetro SequenceTask   clusterless_th default        klein20231105_ /stelmo/nwb/so 1748645898    \n",
       "klein20231105_ 12             02_Rev2Session franklab_tetro SequenceTask   clusterless_th default        klein20231105_ /stelmo/nwb/so 1748645949    \n",
       "klein20231105_ 15             02_Rev2Session franklab_tetro SequenceTask   clusterless_th default        klein20231105_ /stelmo/nwb/so 1748646008    \n",
       "klein20231105_ 16             02_Rev2Session franklab_tetro SequenceTask   clusterless_th default        klein20231105_ /stelmo/nwb/so 1748646094    \n",
       "klein20231105_ 28             02_Rev2Session franklab_tetro SequenceTask   clusterless_th default        klein20231105_ /stelmo/nwb/so 1748646149    \n",
       "klein20231105_ 30             02_Rev2Session franklab_tetro SequenceTask   clusterless_th default        klein20231105_ /stelmo/nwb/so 1748646195    \n",
       "klein20231105_ 36             02_Rev2Session franklab_tetro SequenceTask   clusterless_th default        klein20231105_ /stelmo/nwb/so 1748646245    \n",
       "klein20231105_ 45             02_Rev2Session franklab_tetro SequenceTask   clusterless_th default        klein20231105_ /stelmo/nwb/so 1748646294    \n",
       "klein20231105_ 52             02_Rev2Session franklab_tetro SequenceTask   clusterless_th default        klein20231105_ /stelmo/nwb/so 1748646342    \n",
       "klein20231105_ 53             02_Rev2Session franklab_tetro SequenceTask   clusterless_th default        klein20231105_ /stelmo/nwb/so 1748646383    \n",
       "   ...\n",
       " (Total: 13)"
      ]
     },
     "execution_count": 65,
     "metadata": {},
     "output_type": "execute_result"
    }
   ],
   "source": [
    "(SpikeSorting & {'nwb_file_name': nwb_copy_file_name})"
   ]
  },
  {
   "cell_type": "code",
   "execution_count": 60,
   "id": "71b88ac8-6060-42cf-b694-cbec365b5886",
   "metadata": {},
   "outputs": [],
   "source": [
    "import spikeinterface as si"
   ]
  },
  {
   "cell_type": "code",
   "execution_count": 56,
   "id": "ea6720b7-93f2-4505-aea8-a97d919d4673",
   "metadata": {},
   "outputs": [
    {
     "name": "stdout",
     "output_type": "stream",
     "text": [
      "['02_Seq2Session1', '04_Seq2Session2', '06_Seq2Session3', '08_Seq2Session4', '10_Seq2Session5', '12_Seq2Session6']\n"
     ]
    }
   ],
   "source": [
    "nwb_copy_file_name = 'julio20230731_.nwb'\n",
    "session_interval, position_interval = runSessionNames(nwb_copy_file_name)\n",
    "print(session_interval)"
   ]
  },
  {
   "cell_type": "code",
   "execution_count": 57,
   "id": "aa7c3285-050d-4304-8b5b-769124c5d0c3",
   "metadata": {},
   "outputs": [],
   "source": [
    "sort_interval_name = '06_Seq2Session3'\n",
    "#array([('julio20230811_.nwb', 100, '04_Seq2Session2', 'franklab_tetrode_hippocampus', 'SequenceTask', 'ampl_100_prop_05_2ms', 0),\n",
    "#       ('julio20230811_.nwb', 101, '04_Seq2Session2', 'franklab_tetrode_hippocampus', 'SequenceTask', 'ampl_100_prop_05_2ms', 0)],\n",
    "      \n",
    "from spyglass.shijiegu.helpers import interval_union"
   ]
  },
  {
   "cell_type": "code",
   "execution_count": 70,
   "id": "aa0d10ff-76f4-4550-b6be-90a96d0aaea6",
   "metadata": {},
   "outputs": [],
   "source": [
    "statescript_key = {'nwb_file_name':nwb_copy_file_name,\n",
    "                   'epoch_name':sort_interval_name}\n",
    "\n",
    "StateScript = pd.DataFrame(\n",
    "    (TrialChoice & statescript_key).fetch1('choice_reward'))\n",
    "trial_1_t = StateScript.loc[1].timestamp_O\n",
    "trial_last_t = np.nanmax(StateScript.timestamp_O)"
   ]
  },
  {
   "cell_type": "code",
   "execution_count": 74,
   "id": "cd77629b-f5cf-4482-a7c7-4a9567e68478",
   "metadata": {
    "scrolled": true
   },
   "outputs": [
    {
     "data": {
      "text/plain": [
       "1690835382.869646"
      ]
     },
     "execution_count": 74,
     "metadata": {},
     "output_type": "execute_result"
    }
   ],
   "source": []
  },
  {
   "cell_type": "code",
   "execution_count": 61,
   "id": "1193da58-83b0-4fca-8985-571822d76275",
   "metadata": {},
   "outputs": [],
   "source": [
    "key = {'nwb_file_name' : nwb_copy_file_name,\n",
    "       'sort_interval_name':sort_interval_name,\n",
    "       \"preproc_params_name\":\"franklab_tetrode_hippocampus\",\n",
    "       \"sort_group_id\":100}\n",
    "recording_path = (SpikeSortingRecording & key).fetch1(\n",
    "                \"recording_path\"\n",
    "            )\n",
    "recording_name = SpikeSortingRecording._get_recording_name(key)\n",
    "recording = si.load_extractor(recording_path)"
   ]
  },
  {
   "cell_type": "code",
   "execution_count": 62,
   "id": "3c96c964-68ea-4e0a-917b-e5c0d76e1ff0",
   "metadata": {},
   "outputs": [],
   "source": [
    "if recording.get_num_segments() > 1:\n",
    "    valid_timestamps = np.array([])\n",
    "    for segment in range(recording.get_num_segments()):\n",
    "        valid_timestamps = np.concatenate(\n",
    "                (valid_timestamps, recording.get_times(segment_index=segment))\n",
    "        )\n",
    "    recording = si.concatenate_recordings([recording])\n",
    "elif recording.get_num_segments() == 1:\n",
    "    valid_timestamps = recording.get_times(0)"
   ]
  },
  {
   "cell_type": "code",
   "execution_count": 63,
   "id": "a0412ec7-efdc-47dc-bd19-586525f16607",
   "metadata": {},
   "outputs": [
    {
     "data": {
      "text/plain": [
       "(53007427,)"
      ]
     },
     "execution_count": 63,
     "metadata": {},
     "output_type": "execute_result"
    }
   ],
   "source": [
    "valid_timestamps.shape"
   ]
  },
  {
   "cell_type": "code",
   "execution_count": 65,
   "id": "57aa3c78-7bce-475b-a9c1-0fcc4806631e",
   "metadata": {},
   "outputs": [],
   "source": [
    "from spyglass.spikesorting.v0.spikesorting_artifact import _get_artifact_times"
   ]
  },
  {
   "cell_type": "code",
   "execution_count": 66,
   "id": "351fcbee-fcfe-4471-9caf-b744a1b11e5d",
   "metadata": {
    "scrolled": true
   },
   "outputs": [
    {
     "name": "stderr",
     "output_type": "stream",
     "text": [
      "[21:19:27][INFO] Spyglass: Using 1 jobs...\n",
      "26-May-25 21:19:27 Using 1 jobs...\n"
     ]
    }
   ],
   "source": [
    "artifact_removed_test, artifact_intervals = _get_artifact_times(recording,\n",
    "                                                                amplitude_thresh = 100, proportion_above_thresh = 0.5)"
   ]
  },
  {
   "cell_type": "code",
   "execution_count": 42,
   "id": "968c889b-c2c9-4492-8a92-70760005ebeb",
   "metadata": {
    "scrolled": true
   },
   "outputs": [],
   "source": [
    "#%debug"
   ]
  },
  {
   "cell_type": "code",
   "execution_count": 67,
   "id": "55fa7641-8cb1-497e-b68a-f259205c1bea",
   "metadata": {
    "scrolled": true
   },
   "outputs": [
    {
     "ename": "ValueError",
     "evalue": "Axis limits cannot be NaN or Inf",
     "output_type": "error",
     "traceback": [
      "\u001b[0;31m---------------------------------------------------------------------------\u001b[0m",
      "\u001b[0;31mValueError\u001b[0m                                Traceback (most recent call last)",
      "Cell \u001b[0;32mIn[67], line 7\u001b[0m\n\u001b[1;32m      4\u001b[0m     ax\u001b[38;5;241m.\u001b[39maxvspan(artifact_removed_test[a_ind][\u001b[38;5;241m0\u001b[39m],artifact_removed_test[a_ind][\u001b[38;5;241m1\u001b[39m],color \u001b[38;5;241m=\u001b[39m \u001b[38;5;124m'\u001b[39m\u001b[38;5;124mg\u001b[39m\u001b[38;5;124m'\u001b[39m,linewidth \u001b[38;5;241m=\u001b[39m \u001b[38;5;241m1\u001b[39m)\n\u001b[1;32m      5\u001b[0m     ax\u001b[38;5;241m.\u001b[39maxvspan(artifact_intervals[a_ind][\u001b[38;5;241m0\u001b[39m],artifact_intervals[a_ind][\u001b[38;5;241m1\u001b[39m],color \u001b[38;5;241m=\u001b[39m \u001b[38;5;124m'\u001b[39m\u001b[38;5;124mk\u001b[39m\u001b[38;5;124m'\u001b[39m,linewidth \u001b[38;5;241m=\u001b[39m \u001b[38;5;241m1\u001b[39m,alpha \u001b[38;5;241m=\u001b[39m \u001b[38;5;241m0.5\u001b[39m)\n\u001b[0;32m----> 7\u001b[0m \u001b[43max\u001b[49m\u001b[38;5;241;43m.\u001b[39;49m\u001b[43mset_xlim\u001b[49m\u001b[43m(\u001b[49m\u001b[43mtrial_1_t\u001b[49m\u001b[38;5;241;43m-\u001b[39;49m\u001b[38;5;241;43m100\u001b[39;49m\u001b[43m,\u001b[49m\u001b[43mtrial_last_t\u001b[49m\u001b[38;5;241;43m+\u001b[39;49m\u001b[38;5;241;43m100\u001b[39;49m\u001b[43m)\u001b[49m\n",
      "File \u001b[0;32m~/anaconda3/envs/spyglass/lib/python3.10/site-packages/matplotlib/axes/_base.py:3812\u001b[0m, in \u001b[0;36m_AxesBase.set_xlim\u001b[0;34m(self, left, right, emit, auto, xmin, xmax)\u001b[0m\n\u001b[1;32m   3810\u001b[0m         \u001b[38;5;28;01mraise\u001b[39;00m \u001b[38;5;167;01mTypeError\u001b[39;00m(\u001b[38;5;124m\"\u001b[39m\u001b[38;5;124mCannot pass both \u001b[39m\u001b[38;5;124m'\u001b[39m\u001b[38;5;124mright\u001b[39m\u001b[38;5;124m'\u001b[39m\u001b[38;5;124m and \u001b[39m\u001b[38;5;124m'\u001b[39m\u001b[38;5;124mxmax\u001b[39m\u001b[38;5;124m'\u001b[39m\u001b[38;5;124m\"\u001b[39m)\n\u001b[1;32m   3811\u001b[0m     right \u001b[38;5;241m=\u001b[39m xmax\n\u001b[0;32m-> 3812\u001b[0m \u001b[38;5;28;01mreturn\u001b[39;00m \u001b[38;5;28;43mself\u001b[39;49m\u001b[38;5;241;43m.\u001b[39;49m\u001b[43mxaxis\u001b[49m\u001b[38;5;241;43m.\u001b[39;49m\u001b[43m_set_lim\u001b[49m\u001b[43m(\u001b[49m\u001b[43mleft\u001b[49m\u001b[43m,\u001b[49m\u001b[43m \u001b[49m\u001b[43mright\u001b[49m\u001b[43m,\u001b[49m\u001b[43m \u001b[49m\u001b[43memit\u001b[49m\u001b[38;5;241;43m=\u001b[39;49m\u001b[43memit\u001b[49m\u001b[43m,\u001b[49m\u001b[43m \u001b[49m\u001b[43mauto\u001b[49m\u001b[38;5;241;43m=\u001b[39;49m\u001b[43mauto\u001b[49m\u001b[43m)\u001b[49m\n",
      "File \u001b[0;32m~/anaconda3/envs/spyglass/lib/python3.10/site-packages/matplotlib/axis.py:1217\u001b[0m, in \u001b[0;36mAxis._set_lim\u001b[0;34m(self, v0, v1, emit, auto)\u001b[0m\n\u001b[1;32m   1215\u001b[0m \u001b[38;5;28mself\u001b[39m\u001b[38;5;241m.\u001b[39maxes\u001b[38;5;241m.\u001b[39m_process_unit_info([(name, (v0, v1))], convert\u001b[38;5;241m=\u001b[39m\u001b[38;5;28;01mFalse\u001b[39;00m)\n\u001b[1;32m   1216\u001b[0m v0 \u001b[38;5;241m=\u001b[39m \u001b[38;5;28mself\u001b[39m\u001b[38;5;241m.\u001b[39maxes\u001b[38;5;241m.\u001b[39m_validate_converted_limits(v0, \u001b[38;5;28mself\u001b[39m\u001b[38;5;241m.\u001b[39mconvert_units)\n\u001b[0;32m-> 1217\u001b[0m v1 \u001b[38;5;241m=\u001b[39m \u001b[38;5;28;43mself\u001b[39;49m\u001b[38;5;241;43m.\u001b[39;49m\u001b[43maxes\u001b[49m\u001b[38;5;241;43m.\u001b[39;49m\u001b[43m_validate_converted_limits\u001b[49m\u001b[43m(\u001b[49m\u001b[43mv1\u001b[49m\u001b[43m,\u001b[49m\u001b[43m \u001b[49m\u001b[38;5;28;43mself\u001b[39;49m\u001b[38;5;241;43m.\u001b[39;49m\u001b[43mconvert_units\u001b[49m\u001b[43m)\u001b[49m\n\u001b[1;32m   1219\u001b[0m \u001b[38;5;28;01mif\u001b[39;00m v0 \u001b[38;5;129;01mis\u001b[39;00m \u001b[38;5;28;01mNone\u001b[39;00m \u001b[38;5;129;01mor\u001b[39;00m v1 \u001b[38;5;129;01mis\u001b[39;00m \u001b[38;5;28;01mNone\u001b[39;00m:\n\u001b[1;32m   1220\u001b[0m     \u001b[38;5;66;03m# Axes init calls set_xlim(0, 1) before get_xlim() can be called,\u001b[39;00m\n\u001b[1;32m   1221\u001b[0m     \u001b[38;5;66;03m# so only grab the limits if we really need them.\u001b[39;00m\n\u001b[1;32m   1222\u001b[0m     old0, old1 \u001b[38;5;241m=\u001b[39m \u001b[38;5;28mself\u001b[39m\u001b[38;5;241m.\u001b[39mget_view_interval()\n",
      "File \u001b[0;32m~/anaconda3/envs/spyglass/lib/python3.10/site-packages/matplotlib/axes/_base.py:3733\u001b[0m, in \u001b[0;36m_AxesBase._validate_converted_limits\u001b[0;34m(self, limit, convert)\u001b[0m\n\u001b[1;32m   3730\u001b[0m     converted_limit \u001b[38;5;241m=\u001b[39m converted_limit\u001b[38;5;241m.\u001b[39msqueeze()\n\u001b[1;32m   3731\u001b[0m \u001b[38;5;28;01mif\u001b[39;00m (\u001b[38;5;28misinstance\u001b[39m(converted_limit, Real)\n\u001b[1;32m   3732\u001b[0m         \u001b[38;5;129;01mand\u001b[39;00m \u001b[38;5;129;01mnot\u001b[39;00m np\u001b[38;5;241m.\u001b[39misfinite(converted_limit)):\n\u001b[0;32m-> 3733\u001b[0m     \u001b[38;5;28;01mraise\u001b[39;00m \u001b[38;5;167;01mValueError\u001b[39;00m(\u001b[38;5;124m\"\u001b[39m\u001b[38;5;124mAxis limits cannot be NaN or Inf\u001b[39m\u001b[38;5;124m\"\u001b[39m)\n\u001b[1;32m   3734\u001b[0m \u001b[38;5;28;01mreturn\u001b[39;00m converted_limit\n",
      "\u001b[0;31mValueError\u001b[0m: Axis limits cannot be NaN or Inf"
     ]
    },
    {
     "data": {
      "image/png": "[encoded data removed]",
      "text/plain": [
       "<Figure size 1500x300 with 1 Axes>"
      ]
     },
     "metadata": {},
     "output_type": "display_data"
    }
   ],
   "source": [
    "fig, ax = plt.subplots(1,1,figsize = (15,3))\n",
    "\n",
    "for a_ind in range(artifact_removed_test.shape[0]):\n",
    "    ax.axvspan(artifact_removed_test[a_ind][0],artifact_removed_test[a_ind][1],color = 'g',linewidth = 1)\n",
    "    ax.axvspan(artifact_intervals[a_ind][0],artifact_intervals[a_ind][1],color = 'k',linewidth = 1,alpha = 0.5)\n",
    "\n",
    "ax.set_xlim(trial_1_t-100,trial_last_t+100)"
   ]
  },
  {
   "cell_type": "code",
   "execution_count": null,
   "id": "a103c3da-39f1-4b19-8b58-1ca923ff151a",
   "metadata": {},
   "outputs": [],
   "source": []
  },
  {
   "cell_type": "code",
   "execution_count": null,
   "id": "0f46fbfc-932f-4565-9e7e-cd90311bf3e3",
   "metadata": {},
   "outputs": [],
   "source": []
  },
  {
   "cell_type": "code",
   "execution_count": 15,
   "id": "ae022cc2-cd7d-459d-b15c-edd415bad568",
   "metadata": {},
   "outputs": [
    {
     "data": {
      "text/plain": [
       "1691786105.633824"
      ]
     },
     "execution_count": 15,
     "metadata": {},
     "output_type": "execute_result"
    }
   ],
   "source": [
    "valid_timestamps[0]"
   ]
  },
  {
   "cell_type": "code",
   "execution_count": 16,
   "id": "d0ef813a-8802-470d-9e38-15ce7b94d5ca",
   "metadata": {},
   "outputs": [
    {
     "data": {
      "text/plain": [
       "BinaryFolderRecording: 60 channels - 30.0kHz - 1 segments - 29,895,878 samples \n",
       "                       997.88s (16.63 minutes) - int16 dtype - 3.34 GiB"
      ]
     },
     "execution_count": 16,
     "metadata": {},
     "output_type": "execute_result"
    }
   ],
   "source": [
    "recording"
   ]
  },
  {
   "cell_type": "code",
   "execution_count": 174,
   "id": "869c6546-3c41-4b51-859d-14239b1044b3",
   "metadata": {},
   "outputs": [
    {
     "data": {
      "text/html": [
       "\n",
       "    \n",
       "    <style type=\"text/css\">\n",
       "        .Table{\n",
       "            border-collapse:collapse;\n",
       "        }\n",
       "        .Table th{\n",
       "            background: #A0A0A0; color: #ffffff; padding:4px; border:#f0e0e0 1px solid;\n",
       "            font-weight: normal; font-family: monospace; font-size: 100%;\n",
       "        }\n",
       "        .Table td{\n",
       "            padding:4px; border:#f0e0e0 1px solid; font-size:100%;\n",
       "        }\n",
       "        .Table tr:nth-child(odd){\n",
       "            background: #ffffff;\n",
       "            color: #000000;\n",
       "        }\n",
       "        .Table tr:nth-child(even){\n",
       "            background: #f3f1ff;\n",
       "            color: #000000;\n",
       "        }\n",
       "        /* Tooltip container */\n",
       "        .djtooltip {\n",
       "        }\n",
       "        /* Tooltip text */\n",
       "        .djtooltip .djtooltiptext {\n",
       "            visibility: hidden;\n",
       "            width: 120px;\n",
       "            background-color: black;\n",
       "            color: #fff;\n",
       "            text-align: center;\n",
       "            padding: 5px 0;\n",
       "            border-radius: 6px;\n",
       "            /* Position the tooltip text - see examples below! */\n",
       "            position: absolute;\n",
       "            z-index: 1;\n",
       "        }\n",
       "        #primary {\n",
       "            font-weight: bold;\n",
       "            color: black;\n",
       "        }\n",
       "        #nonprimary {\n",
       "            font-weight: normal;\n",
       "            color: white;\n",
       "        }\n",
       "\n",
       "        /* Show the tooltip text when you mouse over the tooltip container */\n",
       "        .djtooltip:hover .djtooltiptext {\n",
       "            visibility: visible;\n",
       "        }\n",
       "    </style>\n",
       "    \n",
       "    <b></b>\n",
       "        <div style=\"max-height:1000px;max-width:1500px;overflow:auto;\">\n",
       "        <table border=\"1\" class=\"Table\">\n",
       "            <thead> <tr style=\"text-align: right;\"> <th> <div class=\"djtooltip\">\n",
       "                            <p id=\"primary\">nwb_file_name</p>\n",
       "                            <span class=\"djtooltiptext\">name of the NWB file</span>\n",
       "                        </div></th><th><div class=\"djtooltip\">\n",
       "                            <p id=\"primary\">sort_group_id</p>\n",
       "                            <span class=\"djtooltiptext\">identifier for a group of electrodes</span>\n",
       "                        </div></th><th><div class=\"djtooltip\">\n",
       "                            <p id=\"primary\">sort_interval_name</p>\n",
       "                            <span class=\"djtooltiptext\">name for this interval</span>\n",
       "                        </div></th><th><div class=\"djtooltip\">\n",
       "                            <p id=\"primary\">preproc_params_name</p>\n",
       "                            <span class=\"djtooltiptext\"></span>\n",
       "                        </div></th><th><div class=\"djtooltip\">\n",
       "                            <p id=\"primary\">team_name</p>\n",
       "                            <span class=\"djtooltiptext\"></span>\n",
       "                        </div></th><th><div class=\"djtooltip\">\n",
       "                            <p id=\"nonprimary\">recording_path</p>\n",
       "                            <span class=\"djtooltiptext\"></span>\n",
       "                        </div></th><th><div class=\"djtooltip\">\n",
       "                            <p id=\"nonprimary\">sort_interval_list_name</p>\n",
       "                            <span class=\"djtooltiptext\">descriptive name of this interval list</span>\n",
       "                        </div> </th> </tr> </thead>\n",
       "            <tbody> <tr> <td>julio20230811_.nwb</td>\n",
       "<td>100</td>\n",
       "<td>06_Seq2Session3</td>\n",
       "<td>franklab_tetrode_hippocampus</td>\n",
       "<td>SequenceTask</td>\n",
       "<td>/stelmo/nwb/recording/julio20230811_.nwb_06_Seq2Session3_100_franklab_tetrode_hippocampus</td>\n",
       "<td>julio20230811_.nwb_06_Seq2Session3_100_franklab_tetrode_hippocampus</td> </tr> </tbody>\n",
       "        </table>\n",
       "        \n",
       "        <p>Total: 1</p></div>\n",
       "        "
      ],
      "text/plain": [
       "*nwb_file_name *sort_group_id *sort_interval *preproc_param *team_name     recording_path sort_interval_\n",
       "+------------+ +------------+ +------------+ +------------+ +------------+ +------------+ +------------+\n",
       "julio20230811_ 100            06_Seq2Session franklab_tetro SequenceTask   /stelmo/nwb/re julio20230811_\n",
       " (Total: 1)"
      ]
     },
     "execution_count": 174,
     "metadata": {},
     "output_type": "execute_result"
    }
   ],
   "source": [
    "(SpikeSortingRecording & )"
   ]
  },
  {
   "cell_type": "code",
   "execution_count": 11,
   "id": "62029db3-0a10-4823-b29b-a3e768b51937",
   "metadata": {
    "scrolled": true
   },
   "outputs": [
    {
     "name": "stderr",
     "output_type": "stream",
     "text": [
      "[17:10:10][INFO] Spyglass: Path Found : ['`common_session`.`_session`', '`common_interval`.`interval_list`'...\n",
      "24-Apr-25 17:10:10 Path Found : ['`common_session`.`_session`', '`common_interval`.`interval_list`'...\n",
      "[17:10:10][INFO] Spyglass: Checking  0: IntervalList -> ['Session']\n",
      "24-Apr-25 17:10:10 Checking  0: IntervalList -> ['Session']\n",
      "[17:10:10][INFO] Spyglass: Bridge Link: IntervalList -> Session: result partial\n",
      "24-Apr-25 17:10:10 Bridge Link: IntervalList -> Session: result partial\n",
      "[17:10:10][INFO] Spyglass: Checking  1: Session -> ['Nwbfile', 'Subject', 'Institution', 'Lab', 'SessionDat...\n",
      "24-Apr-25 17:10:10 Checking  1: Session -> ['Nwbfile', 'Subject', 'Institution', 'Lab', 'SessionDat...\n",
      "[17:10:10][INFO] Spyglass: Banned Tbl : Nwbfile\n",
      "24-Apr-25 17:10:10 Banned Tbl : Nwbfile\n",
      "[17:10:10][INFO] Spyglass: Banned Tbl : Subject\n",
      "24-Apr-25 17:10:10 Banned Tbl : Subject\n",
      "[17:10:10][INFO] Spyglass: Banned Tbl : Institution\n",
      "24-Apr-25 17:10:10 Banned Tbl : Institution\n",
      "[17:10:10][INFO] Spyglass: Banned Tbl : Lab\n",
      "24-Apr-25 17:10:10 Banned Tbl : Lab\n",
      "[17:10:10][INFO] Spyglass: Banned Tbl : SessionDataAcquisitionDevice\n",
      "24-Apr-25 17:10:10 Banned Tbl : SessionDataAcquisitionDevice\n",
      "[17:10:10][INFO] Spyglass: Banned Tbl : SessionExperimenter\n",
      "24-Apr-25 17:10:10 Banned Tbl : SessionExperimenter\n",
      "[17:10:10][INFO] Spyglass: Queueing delete for session(s):\n",
      "*nwb_file_name *lab_member_na\n",
      "+------------+ +------------+\n",
      "julio20230811_ Shijie Gu     \n",
      " (Total: 1)\n",
      "\n",
      "24-Apr-25 17:10:10 Queueing delete for session(s):\n",
      "*nwb_file_name *lab_member_na\n",
      "+------------+ +------------+\n",
      "julio20230811_ Shijie Gu     \n",
      " (Total: 1)\n",
      "\n",
      "[2025-04-24 17:10:10,554][INFO]: Deleting 1 rows from `common_interval`.`interval_list`\n",
      "24-Apr-25 17:10:10 Deleting 1 rows from `common_interval`.`interval_list`\n"
     ]
    },
    {
     "name": "stdin",
     "output_type": "stream",
     "text": [
      "Commit deletes? [yes, No]:  No\n"
     ]
    },
    {
     "name": "stderr",
     "output_type": "stream",
     "text": [
      "[2025-04-24 17:10:18,417][WARNING]: Deletes cancelled\n",
      "24-Apr-25 17:10:18 Deletes cancelled\n",
      "[17:10:22][INFO] Spyglass: Path Found : ['`common_session`.`_session`', '`common_interval`.`interval_list`'...\n",
      "24-Apr-25 17:10:22 Path Found : ['`common_session`.`_session`', '`common_interval`.`interval_list`'...\n",
      "[17:10:22][INFO] Spyglass: Checking  0: IntervalList -> ['Session']\n",
      "24-Apr-25 17:10:22 Checking  0: IntervalList -> ['Session']\n",
      "[17:10:22][INFO] Spyglass: Bridge Link: IntervalList -> Session: result partial\n",
      "24-Apr-25 17:10:22 Bridge Link: IntervalList -> Session: result partial\n",
      "[17:10:22][INFO] Spyglass: Checking  1: Session -> ['Nwbfile', 'Subject', 'Institution', 'Lab', 'SessionDat...\n",
      "24-Apr-25 17:10:22 Checking  1: Session -> ['Nwbfile', 'Subject', 'Institution', 'Lab', 'SessionDat...\n",
      "[17:10:22][INFO] Spyglass: Banned Tbl : Nwbfile\n",
      "24-Apr-25 17:10:22 Banned Tbl : Nwbfile\n",
      "[17:10:22][INFO] Spyglass: Banned Tbl : Subject\n",
      "24-Apr-25 17:10:22 Banned Tbl : Subject\n",
      "[17:10:22][INFO] Spyglass: Banned Tbl : Institution\n",
      "24-Apr-25 17:10:22 Banned Tbl : Institution\n",
      "[17:10:22][INFO] Spyglass: Banned Tbl : Lab\n",
      "24-Apr-25 17:10:22 Banned Tbl : Lab\n",
      "[17:10:22][INFO] Spyglass: Banned Tbl : SessionDataAcquisitionDevice\n",
      "24-Apr-25 17:10:22 Banned Tbl : SessionDataAcquisitionDevice\n",
      "[17:10:22][INFO] Spyglass: Banned Tbl : SessionExperimenter\n",
      "24-Apr-25 17:10:22 Banned Tbl : SessionExperimenter\n",
      "[17:10:22][INFO] Spyglass: Queueing delete for session(s):\n",
      "*nwb_file_name *lab_member_na\n",
      "+------------+ +------------+\n",
      "julio20230811_ Shijie Gu     \n",
      " (Total: 1)\n",
      "\n",
      "24-Apr-25 17:10:22 Queueing delete for session(s):\n",
      "*nwb_file_name *lab_member_na\n",
      "+------------+ +------------+\n",
      "julio20230811_ Shijie Gu     \n",
      " (Total: 1)\n",
      "\n",
      "[2025-04-24 17:10:22,329][INFO]: Deleting 1 rows from `common_interval`.`interval_list`\n",
      "24-Apr-25 17:10:22 Deleting 1 rows from `common_interval`.`interval_list`\n"
     ]
    },
    {
     "name": "stdin",
     "output_type": "stream",
     "text": [
      "Commit deletes? [yes, No]:  No\n"
     ]
    },
    {
     "name": "stderr",
     "output_type": "stream",
     "text": [
      "[2025-04-24 17:10:33,469][WARNING]: Deletes cancelled\n",
      "24-Apr-25 17:10:33 Deletes cancelled\n"
     ]
    },
    {
     "ename": "KeyboardInterrupt",
     "evalue": "",
     "output_type": "error",
     "traceback": [
      "\u001b[0;31m---------------------------------------------------------------------------\u001b[0m",
      "\u001b[0;31mKeyboardInterrupt\u001b[0m                         Traceback (most recent call last)",
      "Cell \u001b[0;32mIn[11], line 15\u001b[0m\n\u001b[1;32m     13\u001b[0m \u001b[38;5;28;01mfor\u001b[39;00m artifact_removed_name \u001b[38;5;129;01min\u001b[39;00m artifact_removed_name_list:\n\u001b[1;32m     14\u001b[0m     artifact_time_list\u001b[38;5;241m.\u001b[39mappend((ArtifactDetection() \u001b[38;5;241m&\u001b[39m {\u001b[38;5;124m'\u001b[39m\u001b[38;5;124mnwb_file_name\u001b[39m\u001b[38;5;124m'\u001b[39m : nwb_copy_file_name,\u001b[38;5;124m'\u001b[39m\u001b[38;5;124martifact_removed_interval_list_name\u001b[39m\u001b[38;5;124m'\u001b[39m:artifact_removed_name})\u001b[38;5;241m.\u001b[39mfetch1(\u001b[38;5;124m'\u001b[39m\u001b[38;5;124martifact_times\u001b[39m\u001b[38;5;124m'\u001b[39m))\n\u001b[0;32m---> 15\u001b[0m     \u001b[43m(\u001b[49m\u001b[43mIntervalList\u001b[49m\u001b[43m(\u001b[49m\u001b[43m)\u001b[49m\u001b[43m \u001b[49m\u001b[38;5;241;43m&\u001b[39;49m\u001b[43m \u001b[49m\u001b[43m{\u001b[49m\u001b[38;5;124;43m'\u001b[39;49m\u001b[38;5;124;43mnwb_file_name\u001b[39;49m\u001b[38;5;124;43m'\u001b[39;49m\u001b[43m \u001b[49m\u001b[43m:\u001b[49m\u001b[43m \u001b[49m\u001b[43mnwb_copy_file_name\u001b[49m\u001b[43m,\u001b[49m\u001b[38;5;124;43m'\u001b[39;49m\u001b[38;5;124;43minterval_list_name\u001b[39;49m\u001b[38;5;124;43m'\u001b[39;49m\u001b[43m:\u001b[49m\u001b[43martifact_removed_name\u001b[49m\u001b[43m}\u001b[49m\u001b[43m)\u001b[49m\u001b[38;5;241;43m.\u001b[39;49m\u001b[43mdelete\u001b[49m\u001b[43m(\u001b[49m\u001b[43m)\u001b[49m\n",
      "File \u001b[0;32m~/Documents/spyglass/src/spyglass/utils/dj_mixin.py:526\u001b[0m, in \u001b[0;36mSpyglassMixin.delete\u001b[0;34m(self, *args, **kwargs)\u001b[0m\n\u001b[1;32m    524\u001b[0m \u001b[38;5;28;01mdef\u001b[39;00m\u001b[38;5;250m \u001b[39m\u001b[38;5;21mdelete\u001b[39m(\u001b[38;5;28mself\u001b[39m, \u001b[38;5;241m*\u001b[39margs, \u001b[38;5;241m*\u001b[39m\u001b[38;5;241m*\u001b[39mkwargs):\n\u001b[1;32m    525\u001b[0m \u001b[38;5;250m    \u001b[39m\u001b[38;5;124;03m\"\"\"Alias for cautious_delete, overwrites datajoint.table.Table.delete\"\"\"\u001b[39;00m\n\u001b[0;32m--> 526\u001b[0m     \u001b[38;5;28;43mself\u001b[39;49m\u001b[38;5;241;43m.\u001b[39;49m\u001b[43mcautious_delete\u001b[49m\u001b[43m(\u001b[49m\u001b[38;5;241;43m*\u001b[39;49m\u001b[43margs\u001b[49m\u001b[43m,\u001b[49m\u001b[43m \u001b[49m\u001b[38;5;241;43m*\u001b[39;49m\u001b[38;5;241;43m*\u001b[39;49m\u001b[43mkwargs\u001b[49m\u001b[43m)\u001b[49m\n",
      "File \u001b[0;32m~/Documents/spyglass/src/spyglass/utils/dj_mixin.py:520\u001b[0m, in \u001b[0;36mSpyglassMixin.cautious_delete\u001b[0;34m(self, force_permission, dry_run, *args, **kwargs)\u001b[0m\n\u001b[1;32m    517\u001b[0m \u001b[38;5;28msuper\u001b[39m()\u001b[38;5;241m.\u001b[39mdelete(\u001b[38;5;241m*\u001b[39margs, \u001b[38;5;241m*\u001b[39m\u001b[38;5;241m*\u001b[39mkwargs)  \u001b[38;5;66;03m# Confirmation here\u001b[39;00m\n\u001b[1;32m    519\u001b[0m \u001b[38;5;28;01mfor\u001b[39;00m ext_type \u001b[38;5;129;01min\u001b[39;00m [\u001b[38;5;124m\"\u001b[39m\u001b[38;5;124mraw\u001b[39m\u001b[38;5;124m\"\u001b[39m, \u001b[38;5;124m\"\u001b[39m\u001b[38;5;124manalysis\u001b[39m\u001b[38;5;124m\"\u001b[39m]:\n\u001b[0;32m--> 520\u001b[0m     \u001b[43mexternal\u001b[49m\u001b[43m[\u001b[49m\u001b[43mext_type\u001b[49m\u001b[43m]\u001b[49m\u001b[38;5;241;43m.\u001b[39;49m\u001b[43mdelete\u001b[49m\u001b[43m(\u001b[49m\n\u001b[1;32m    521\u001b[0m \u001b[43m        \u001b[49m\u001b[43mdelete_external_files\u001b[49m\u001b[38;5;241;43m=\u001b[39;49m\u001b[38;5;28;43;01mTrue\u001b[39;49;00m\u001b[43m,\u001b[49m\u001b[43m \u001b[49m\u001b[43mdisplay_progress\u001b[49m\u001b[38;5;241;43m=\u001b[39;49m\u001b[38;5;28;43;01mFalse\u001b[39;49;00m\n\u001b[1;32m    522\u001b[0m \u001b[43m    \u001b[49m\u001b[43m)\u001b[49m\n",
      "File \u001b[0;32m~/anaconda3/envs/spyglass/lib/python3.10/site-packages/datajoint/external.py:447\u001b[0m, in \u001b[0;36mExternalTable.delete\u001b[0;34m(self, delete_external_files, limit, display_progress, errors_as_string)\u001b[0m\n\u001b[1;32m    445\u001b[0m     \u001b[38;5;28mself\u001b[39m\u001b[38;5;241m.\u001b[39munused()\u001b[38;5;241m.\u001b[39mdelete_quick()\n\u001b[1;32m    446\u001b[0m \u001b[38;5;28;01melse\u001b[39;00m:\n\u001b[0;32m--> 447\u001b[0m     items \u001b[38;5;241m=\u001b[39m \u001b[38;5;28;43mself\u001b[39;49m\u001b[38;5;241;43m.\u001b[39;49m\u001b[43munused\u001b[49m\u001b[43m(\u001b[49m\u001b[43m)\u001b[49m\u001b[38;5;241;43m.\u001b[39;49m\u001b[43mfetch_external_paths\u001b[49m\u001b[43m(\u001b[49m\u001b[43mlimit\u001b[49m\u001b[38;5;241;43m=\u001b[39;49m\u001b[43mlimit\u001b[49m\u001b[43m)\u001b[49m\n\u001b[1;32m    448\u001b[0m     \u001b[38;5;28;01mif\u001b[39;00m display_progress:\n\u001b[1;32m    449\u001b[0m         items \u001b[38;5;241m=\u001b[39m tqdm(items)\n",
      "File \u001b[0;32m~/anaconda3/envs/spyglass/lib/python3.10/site-packages/datajoint/external.py:382\u001b[0m, in \u001b[0;36mExternalTable.fetch_external_paths\u001b[0;34m(self, **fetch_kwargs)\u001b[0m\n\u001b[1;32m    380\u001b[0m fetch_kwargs\u001b[38;5;241m.\u001b[39mupdate(as_dict\u001b[38;5;241m=\u001b[39m\u001b[38;5;28;01mTrue\u001b[39;00m)\n\u001b[1;32m    381\u001b[0m paths \u001b[38;5;241m=\u001b[39m []\n\u001b[0;32m--> 382\u001b[0m \u001b[38;5;28;01mfor\u001b[39;00m item \u001b[38;5;129;01min\u001b[39;00m \u001b[38;5;28;43mself\u001b[39;49m\u001b[38;5;241;43m.\u001b[39;49m\u001b[43mfetch\u001b[49m\u001b[43m(\u001b[49m\u001b[38;5;124;43m\"\u001b[39;49m\u001b[38;5;124;43mhash\u001b[39;49m\u001b[38;5;124;43m\"\u001b[39;49m\u001b[43m,\u001b[49m\u001b[43m \u001b[49m\u001b[38;5;124;43m\"\u001b[39;49m\u001b[38;5;124;43mattachment_name\u001b[39;49m\u001b[38;5;124;43m\"\u001b[39;49m\u001b[43m,\u001b[49m\u001b[43m \u001b[49m\u001b[38;5;124;43m\"\u001b[39;49m\u001b[38;5;124;43mfilepath\u001b[39;49m\u001b[38;5;124;43m\"\u001b[39;49m\u001b[43m,\u001b[49m\u001b[43m \u001b[49m\u001b[38;5;241;43m*\u001b[39;49m\u001b[38;5;241;43m*\u001b[39;49m\u001b[43mfetch_kwargs\u001b[49m\u001b[43m)\u001b[49m:\n\u001b[1;32m    383\u001b[0m     \u001b[38;5;28;01mif\u001b[39;00m item[\u001b[38;5;124m\"\u001b[39m\u001b[38;5;124mattachment_name\u001b[39m\u001b[38;5;124m\"\u001b[39m]:\n\u001b[1;32m    384\u001b[0m         \u001b[38;5;66;03m# attachments\u001b[39;00m\n\u001b[1;32m    385\u001b[0m         path \u001b[38;5;241m=\u001b[39m \u001b[38;5;28mself\u001b[39m\u001b[38;5;241m.\u001b[39m_make_uuid_path(item[\u001b[38;5;124m\"\u001b[39m\u001b[38;5;124mhash\u001b[39m\u001b[38;5;124m\"\u001b[39m], \u001b[38;5;124m\"\u001b[39m\u001b[38;5;124m.\u001b[39m\u001b[38;5;124m\"\u001b[39m \u001b[38;5;241m+\u001b[39m item[\u001b[38;5;124m\"\u001b[39m\u001b[38;5;124mattachment_name\u001b[39m\u001b[38;5;124m\"\u001b[39m])\n",
      "File \u001b[0;32m~/anaconda3/envs/spyglass/lib/python3.10/site-packages/datajoint/fetch.py:209\u001b[0m, in \u001b[0;36mFetch.__call__\u001b[0;34m(self, offset, limit, order_by, format, as_dict, squeeze, download_path, *attrs)\u001b[0m\n\u001b[1;32m    207\u001b[0m attributes \u001b[38;5;241m=\u001b[39m [a \u001b[38;5;28;01mfor\u001b[39;00m a \u001b[38;5;129;01min\u001b[39;00m attrs \u001b[38;5;28;01mif\u001b[39;00m \u001b[38;5;129;01mnot\u001b[39;00m is_key(a)]\n\u001b[1;32m    208\u001b[0m ret \u001b[38;5;241m=\u001b[39m \u001b[38;5;28mself\u001b[39m\u001b[38;5;241m.\u001b[39m_expression\u001b[38;5;241m.\u001b[39mproj(\u001b[38;5;241m*\u001b[39mattributes)\n\u001b[0;32m--> 209\u001b[0m ret \u001b[38;5;241m=\u001b[39m \u001b[43mret\u001b[49m\u001b[38;5;241;43m.\u001b[39;49m\u001b[43mfetch\u001b[49m\u001b[43m(\u001b[49m\n\u001b[1;32m    210\u001b[0m \u001b[43m    \u001b[49m\u001b[43moffset\u001b[49m\u001b[38;5;241;43m=\u001b[39;49m\u001b[43moffset\u001b[49m\u001b[43m,\u001b[49m\n\u001b[1;32m    211\u001b[0m \u001b[43m    \u001b[49m\u001b[43mlimit\u001b[49m\u001b[38;5;241;43m=\u001b[39;49m\u001b[43mlimit\u001b[49m\u001b[43m,\u001b[49m\n\u001b[1;32m    212\u001b[0m \u001b[43m    \u001b[49m\u001b[43morder_by\u001b[49m\u001b[38;5;241;43m=\u001b[39;49m\u001b[43morder_by\u001b[49m\u001b[43m,\u001b[49m\n\u001b[1;32m    213\u001b[0m \u001b[43m    \u001b[49m\u001b[43mas_dict\u001b[49m\u001b[38;5;241;43m=\u001b[39;49m\u001b[38;5;28;43;01mFalse\u001b[39;49;00m\u001b[43m,\u001b[49m\n\u001b[1;32m    214\u001b[0m \u001b[43m    \u001b[49m\u001b[43msqueeze\u001b[49m\u001b[38;5;241;43m=\u001b[39;49m\u001b[43msqueeze\u001b[49m\u001b[43m,\u001b[49m\n\u001b[1;32m    215\u001b[0m \u001b[43m    \u001b[49m\u001b[43mdownload_path\u001b[49m\u001b[38;5;241;43m=\u001b[39;49m\u001b[43mdownload_path\u001b[49m\u001b[43m,\u001b[49m\n\u001b[1;32m    216\u001b[0m \u001b[43m    \u001b[49m\u001b[38;5;28;43mformat\u001b[39;49m\u001b[38;5;241;43m=\u001b[39;49m\u001b[38;5;124;43m\"\u001b[39;49m\u001b[38;5;124;43marray\u001b[39;49m\u001b[38;5;124;43m\"\u001b[39;49m\u001b[43m,\u001b[49m\n\u001b[1;32m    217\u001b[0m \u001b[43m\u001b[49m\u001b[43m)\u001b[49m\n\u001b[1;32m    218\u001b[0m \u001b[38;5;28;01mif\u001b[39;00m attrs_as_dict:\n\u001b[1;32m    219\u001b[0m     ret \u001b[38;5;241m=\u001b[39m [\n\u001b[1;32m    220\u001b[0m         {k: v \u001b[38;5;28;01mfor\u001b[39;00m k, v \u001b[38;5;129;01min\u001b[39;00m \u001b[38;5;28mzip\u001b[39m(ret\u001b[38;5;241m.\u001b[39mdtype\u001b[38;5;241m.\u001b[39mnames, x) \u001b[38;5;28;01mif\u001b[39;00m k \u001b[38;5;129;01min\u001b[39;00m attrs}\n\u001b[1;32m    221\u001b[0m         \u001b[38;5;28;01mfor\u001b[39;00m x \u001b[38;5;129;01min\u001b[39;00m ret\n\u001b[1;32m    222\u001b[0m     ]\n",
      "File \u001b[0;32m~/anaconda3/envs/spyglass/lib/python3.10/site-packages/datajoint/fetch.py:238\u001b[0m, in \u001b[0;36mFetch.__call__\u001b[0;34m(self, offset, limit, order_by, format, as_dict, squeeze, download_path, *attrs)\u001b[0m\n\u001b[1;32m    236\u001b[0m         ret \u001b[38;5;241m=\u001b[39m return_values[\u001b[38;5;241m0\u001b[39m] \u001b[38;5;28;01mif\u001b[39;00m \u001b[38;5;28mlen\u001b[39m(attrs) \u001b[38;5;241m==\u001b[39m \u001b[38;5;241m1\u001b[39m \u001b[38;5;28;01melse\u001b[39;00m return_values\n\u001b[1;32m    237\u001b[0m \u001b[38;5;28;01melse\u001b[39;00m:  \u001b[38;5;66;03m# fetch all attributes as a numpy.record_array or pandas.DataFrame\u001b[39;00m\n\u001b[0;32m--> 238\u001b[0m     cur \u001b[38;5;241m=\u001b[39m \u001b[38;5;28;43mself\u001b[39;49m\u001b[38;5;241;43m.\u001b[39;49m\u001b[43m_expression\u001b[49m\u001b[38;5;241;43m.\u001b[39;49m\u001b[43mcursor\u001b[49m\u001b[43m(\u001b[49m\u001b[43mas_dict\u001b[49m\u001b[38;5;241;43m=\u001b[39;49m\u001b[43mas_dict\u001b[49m\u001b[43m)\u001b[49m\n\u001b[1;32m    239\u001b[0m     heading \u001b[38;5;241m=\u001b[39m \u001b[38;5;28mself\u001b[39m\u001b[38;5;241m.\u001b[39m_expression\u001b[38;5;241m.\u001b[39mheading\n\u001b[1;32m    240\u001b[0m     \u001b[38;5;28;01mif\u001b[39;00m as_dict:\n",
      "File \u001b[0;32m~/anaconda3/envs/spyglass/lib/python3.10/site-packages/datajoint/expression.py:659\u001b[0m, in \u001b[0;36mQueryExpression.cursor\u001b[0;34m(self, as_dict)\u001b[0m\n\u001b[1;32m    657\u001b[0m sql \u001b[38;5;241m=\u001b[39m \u001b[38;5;28mself\u001b[39m\u001b[38;5;241m.\u001b[39mmake_sql()\n\u001b[1;32m    658\u001b[0m logger\u001b[38;5;241m.\u001b[39mdebug(sql)\n\u001b[0;32m--> 659\u001b[0m \u001b[38;5;28;01mreturn\u001b[39;00m \u001b[38;5;28;43mself\u001b[39;49m\u001b[38;5;241;43m.\u001b[39;49m\u001b[43mconnection\u001b[49m\u001b[38;5;241;43m.\u001b[39;49m\u001b[43mquery\u001b[49m\u001b[43m(\u001b[49m\u001b[43msql\u001b[49m\u001b[43m,\u001b[49m\u001b[43m \u001b[49m\u001b[43mas_dict\u001b[49m\u001b[38;5;241;43m=\u001b[39;49m\u001b[43mas_dict\u001b[49m\u001b[43m)\u001b[49m\n",
      "File \u001b[0;32m~/anaconda3/envs/spyglass/lib/python3.10/site-packages/datajoint/connection.py:350\u001b[0m, in \u001b[0;36mConnection.query\u001b[0;34m(self, query, args, as_dict, suppress_warnings, reconnect)\u001b[0m\n\u001b[1;32m    348\u001b[0m cursor \u001b[38;5;241m=\u001b[39m \u001b[38;5;28mself\u001b[39m\u001b[38;5;241m.\u001b[39m_conn\u001b[38;5;241m.\u001b[39mcursor(cursor\u001b[38;5;241m=\u001b[39mcursor_class)\n\u001b[1;32m    349\u001b[0m \u001b[38;5;28;01mtry\u001b[39;00m:\n\u001b[0;32m--> 350\u001b[0m     \u001b[38;5;28;43mself\u001b[39;49m\u001b[38;5;241;43m.\u001b[39;49m\u001b[43m_execute_query\u001b[49m\u001b[43m(\u001b[49m\u001b[43mcursor\u001b[49m\u001b[43m,\u001b[49m\u001b[43m \u001b[49m\u001b[43mquery\u001b[49m\u001b[43m,\u001b[49m\u001b[43m \u001b[49m\u001b[43margs\u001b[49m\u001b[43m,\u001b[49m\u001b[43m \u001b[49m\u001b[43msuppress_warnings\u001b[49m\u001b[43m)\u001b[49m\n\u001b[1;32m    351\u001b[0m \u001b[38;5;28;01mexcept\u001b[39;00m errors\u001b[38;5;241m.\u001b[39mLostConnectionError:\n\u001b[1;32m    352\u001b[0m     \u001b[38;5;28;01mif\u001b[39;00m \u001b[38;5;129;01mnot\u001b[39;00m reconnect:\n",
      "File \u001b[0;32m~/anaconda3/envs/spyglass/lib/python3.10/site-packages/datajoint/connection.py:304\u001b[0m, in \u001b[0;36mConnection._execute_query\u001b[0;34m(cursor, query, args, suppress_warnings)\u001b[0m\n\u001b[1;32m    301\u001b[0m         \u001b[38;5;28;01mif\u001b[39;00m suppress_warnings:\n\u001b[1;32m    302\u001b[0m             \u001b[38;5;66;03m# suppress all warnings arising from underlying SQL library\u001b[39;00m\n\u001b[1;32m    303\u001b[0m             warnings\u001b[38;5;241m.\u001b[39msimplefilter(\u001b[38;5;124m\"\u001b[39m\u001b[38;5;124mignore\u001b[39m\u001b[38;5;124m\"\u001b[39m)\n\u001b[0;32m--> 304\u001b[0m         \u001b[43mcursor\u001b[49m\u001b[38;5;241;43m.\u001b[39;49m\u001b[43mexecute\u001b[49m\u001b[43m(\u001b[49m\u001b[43mquery\u001b[49m\u001b[43m,\u001b[49m\u001b[43m \u001b[49m\u001b[43margs\u001b[49m\u001b[43m)\u001b[49m\n\u001b[1;32m    305\u001b[0m \u001b[38;5;28;01mexcept\u001b[39;00m client\u001b[38;5;241m.\u001b[39merr\u001b[38;5;241m.\u001b[39mError \u001b[38;5;28;01mas\u001b[39;00m err:\n\u001b[1;32m    306\u001b[0m     \u001b[38;5;28;01mraise\u001b[39;00m translate_query_error(err, query)\n",
      "File \u001b[0;32m~/anaconda3/envs/spyglass/lib/python3.10/site-packages/pymysql/cursors.py:153\u001b[0m, in \u001b[0;36mCursor.execute\u001b[0;34m(self, query, args)\u001b[0m\n\u001b[1;32m    149\u001b[0m     \u001b[38;5;28;01mpass\u001b[39;00m\n\u001b[1;32m    151\u001b[0m query \u001b[38;5;241m=\u001b[39m \u001b[38;5;28mself\u001b[39m\u001b[38;5;241m.\u001b[39mmogrify(query, args)\n\u001b[0;32m--> 153\u001b[0m result \u001b[38;5;241m=\u001b[39m \u001b[38;5;28;43mself\u001b[39;49m\u001b[38;5;241;43m.\u001b[39;49m\u001b[43m_query\u001b[49m\u001b[43m(\u001b[49m\u001b[43mquery\u001b[49m\u001b[43m)\u001b[49m\n\u001b[1;32m    154\u001b[0m \u001b[38;5;28mself\u001b[39m\u001b[38;5;241m.\u001b[39m_executed \u001b[38;5;241m=\u001b[39m query\n\u001b[1;32m    155\u001b[0m \u001b[38;5;28;01mreturn\u001b[39;00m result\n",
      "File \u001b[0;32m~/anaconda3/envs/spyglass/lib/python3.10/site-packages/pymysql/cursors.py:322\u001b[0m, in \u001b[0;36mCursor._query\u001b[0;34m(self, q)\u001b[0m\n\u001b[1;32m    320\u001b[0m conn \u001b[38;5;241m=\u001b[39m \u001b[38;5;28mself\u001b[39m\u001b[38;5;241m.\u001b[39m_get_db()\n\u001b[1;32m    321\u001b[0m \u001b[38;5;28mself\u001b[39m\u001b[38;5;241m.\u001b[39m_clear_result()\n\u001b[0;32m--> 322\u001b[0m \u001b[43mconn\u001b[49m\u001b[38;5;241;43m.\u001b[39;49m\u001b[43mquery\u001b[49m\u001b[43m(\u001b[49m\u001b[43mq\u001b[49m\u001b[43m)\u001b[49m\n\u001b[1;32m    323\u001b[0m \u001b[38;5;28mself\u001b[39m\u001b[38;5;241m.\u001b[39m_do_get_result()\n\u001b[1;32m    324\u001b[0m \u001b[38;5;28;01mreturn\u001b[39;00m \u001b[38;5;28mself\u001b[39m\u001b[38;5;241m.\u001b[39mrowcount\n",
      "File \u001b[0;32m~/anaconda3/envs/spyglass/lib/python3.10/site-packages/pymysql/connections.py:563\u001b[0m, in \u001b[0;36mConnection.query\u001b[0;34m(self, sql, unbuffered)\u001b[0m\n\u001b[1;32m    561\u001b[0m     sql \u001b[38;5;241m=\u001b[39m sql\u001b[38;5;241m.\u001b[39mencode(\u001b[38;5;28mself\u001b[39m\u001b[38;5;241m.\u001b[39mencoding, \u001b[38;5;124m\"\u001b[39m\u001b[38;5;124msurrogateescape\u001b[39m\u001b[38;5;124m\"\u001b[39m)\n\u001b[1;32m    562\u001b[0m \u001b[38;5;28mself\u001b[39m\u001b[38;5;241m.\u001b[39m_execute_command(COMMAND\u001b[38;5;241m.\u001b[39mCOM_QUERY, sql)\n\u001b[0;32m--> 563\u001b[0m \u001b[38;5;28mself\u001b[39m\u001b[38;5;241m.\u001b[39m_affected_rows \u001b[38;5;241m=\u001b[39m \u001b[38;5;28;43mself\u001b[39;49m\u001b[38;5;241;43m.\u001b[39;49m\u001b[43m_read_query_result\u001b[49m\u001b[43m(\u001b[49m\u001b[43munbuffered\u001b[49m\u001b[38;5;241;43m=\u001b[39;49m\u001b[43munbuffered\u001b[49m\u001b[43m)\u001b[49m\n\u001b[1;32m    564\u001b[0m \u001b[38;5;28;01mreturn\u001b[39;00m \u001b[38;5;28mself\u001b[39m\u001b[38;5;241m.\u001b[39m_affected_rows\n",
      "File \u001b[0;32m~/anaconda3/envs/spyglass/lib/python3.10/site-packages/pymysql/connections.py:825\u001b[0m, in \u001b[0;36mConnection._read_query_result\u001b[0;34m(self, unbuffered)\u001b[0m\n\u001b[1;32m    823\u001b[0m \u001b[38;5;28;01melse\u001b[39;00m:\n\u001b[1;32m    824\u001b[0m     result \u001b[38;5;241m=\u001b[39m MySQLResult(\u001b[38;5;28mself\u001b[39m)\n\u001b[0;32m--> 825\u001b[0m     \u001b[43mresult\u001b[49m\u001b[38;5;241;43m.\u001b[39;49m\u001b[43mread\u001b[49m\u001b[43m(\u001b[49m\u001b[43m)\u001b[49m\n\u001b[1;32m    826\u001b[0m \u001b[38;5;28mself\u001b[39m\u001b[38;5;241m.\u001b[39m_result \u001b[38;5;241m=\u001b[39m result\n\u001b[1;32m    827\u001b[0m \u001b[38;5;28;01mif\u001b[39;00m result\u001b[38;5;241m.\u001b[39mserver_status \u001b[38;5;129;01mis\u001b[39;00m \u001b[38;5;129;01mnot\u001b[39;00m \u001b[38;5;28;01mNone\u001b[39;00m:\n",
      "File \u001b[0;32m~/anaconda3/envs/spyglass/lib/python3.10/site-packages/pymysql/connections.py:1199\u001b[0m, in \u001b[0;36mMySQLResult.read\u001b[0;34m(self)\u001b[0m\n\u001b[1;32m   1197\u001b[0m \u001b[38;5;28;01mdef\u001b[39;00m\u001b[38;5;250m \u001b[39m\u001b[38;5;21mread\u001b[39m(\u001b[38;5;28mself\u001b[39m):\n\u001b[1;32m   1198\u001b[0m     \u001b[38;5;28;01mtry\u001b[39;00m:\n\u001b[0;32m-> 1199\u001b[0m         first_packet \u001b[38;5;241m=\u001b[39m \u001b[38;5;28;43mself\u001b[39;49m\u001b[38;5;241;43m.\u001b[39;49m\u001b[43mconnection\u001b[49m\u001b[38;5;241;43m.\u001b[39;49m\u001b[43m_read_packet\u001b[49m\u001b[43m(\u001b[49m\u001b[43m)\u001b[49m\n\u001b[1;32m   1201\u001b[0m         \u001b[38;5;28;01mif\u001b[39;00m first_packet\u001b[38;5;241m.\u001b[39mis_ok_packet():\n\u001b[1;32m   1202\u001b[0m             \u001b[38;5;28mself\u001b[39m\u001b[38;5;241m.\u001b[39m_read_ok_packet(first_packet)\n",
      "File \u001b[0;32m~/anaconda3/envs/spyglass/lib/python3.10/site-packages/pymysql/connections.py:744\u001b[0m, in \u001b[0;36mConnection._read_packet\u001b[0;34m(self, packet_type)\u001b[0m\n\u001b[1;32m    742\u001b[0m buff \u001b[38;5;241m=\u001b[39m \u001b[38;5;28mbytearray\u001b[39m()\n\u001b[1;32m    743\u001b[0m \u001b[38;5;28;01mwhile\u001b[39;00m \u001b[38;5;28;01mTrue\u001b[39;00m:\n\u001b[0;32m--> 744\u001b[0m     packet_header \u001b[38;5;241m=\u001b[39m \u001b[38;5;28;43mself\u001b[39;49m\u001b[38;5;241;43m.\u001b[39;49m\u001b[43m_read_bytes\u001b[49m\u001b[43m(\u001b[49m\u001b[38;5;241;43m4\u001b[39;49m\u001b[43m)\u001b[49m\n\u001b[1;32m    745\u001b[0m     \u001b[38;5;66;03m# if DEBUG: dump_packet(packet_header)\u001b[39;00m\n\u001b[1;32m    747\u001b[0m     btrl, btrh, packet_number \u001b[38;5;241m=\u001b[39m struct\u001b[38;5;241m.\u001b[39munpack(\u001b[38;5;124m\"\u001b[39m\u001b[38;5;124m<HBB\u001b[39m\u001b[38;5;124m\"\u001b[39m, packet_header)\n",
      "File \u001b[0;32m~/anaconda3/envs/spyglass/lib/python3.10/site-packages/pymysql/connections.py:782\u001b[0m, in \u001b[0;36mConnection._read_bytes\u001b[0;34m(self, num_bytes)\u001b[0m\n\u001b[1;32m    780\u001b[0m \u001b[38;5;28;01mwhile\u001b[39;00m \u001b[38;5;28;01mTrue\u001b[39;00m:\n\u001b[1;32m    781\u001b[0m     \u001b[38;5;28;01mtry\u001b[39;00m:\n\u001b[0;32m--> 782\u001b[0m         data \u001b[38;5;241m=\u001b[39m \u001b[38;5;28;43mself\u001b[39;49m\u001b[38;5;241;43m.\u001b[39;49m\u001b[43m_rfile\u001b[49m\u001b[38;5;241;43m.\u001b[39;49m\u001b[43mread\u001b[49m\u001b[43m(\u001b[49m\u001b[43mnum_bytes\u001b[49m\u001b[43m)\u001b[49m\n\u001b[1;32m    783\u001b[0m         \u001b[38;5;28;01mbreak\u001b[39;00m\n\u001b[1;32m    784\u001b[0m     \u001b[38;5;28;01mexcept\u001b[39;00m \u001b[38;5;167;01mOSError\u001b[39;00m \u001b[38;5;28;01mas\u001b[39;00m e:\n",
      "File \u001b[0;32m~/anaconda3/envs/spyglass/lib/python3.10/socket.py:717\u001b[0m, in \u001b[0;36mSocketIO.readinto\u001b[0;34m(self, b)\u001b[0m\n\u001b[1;32m    715\u001b[0m \u001b[38;5;28;01mwhile\u001b[39;00m \u001b[38;5;28;01mTrue\u001b[39;00m:\n\u001b[1;32m    716\u001b[0m     \u001b[38;5;28;01mtry\u001b[39;00m:\n\u001b[0;32m--> 717\u001b[0m         \u001b[38;5;28;01mreturn\u001b[39;00m \u001b[38;5;28;43mself\u001b[39;49m\u001b[38;5;241;43m.\u001b[39;49m\u001b[43m_sock\u001b[49m\u001b[38;5;241;43m.\u001b[39;49m\u001b[43mrecv_into\u001b[49m\u001b[43m(\u001b[49m\u001b[43mb\u001b[49m\u001b[43m)\u001b[49m\n\u001b[1;32m    718\u001b[0m     \u001b[38;5;28;01mexcept\u001b[39;00m timeout:\n\u001b[1;32m    719\u001b[0m         \u001b[38;5;28mself\u001b[39m\u001b[38;5;241m.\u001b[39m_timeout_occurred \u001b[38;5;241m=\u001b[39m \u001b[38;5;28;01mTrue\u001b[39;00m\n",
      "File \u001b[0;32m~/anaconda3/envs/spyglass/lib/python3.10/ssl.py:1307\u001b[0m, in \u001b[0;36mSSLSocket.recv_into\u001b[0;34m(self, buffer, nbytes, flags)\u001b[0m\n\u001b[1;32m   1303\u001b[0m     \u001b[38;5;28;01mif\u001b[39;00m flags \u001b[38;5;241m!=\u001b[39m \u001b[38;5;241m0\u001b[39m:\n\u001b[1;32m   1304\u001b[0m         \u001b[38;5;28;01mraise\u001b[39;00m \u001b[38;5;167;01mValueError\u001b[39;00m(\n\u001b[1;32m   1305\u001b[0m           \u001b[38;5;124m\"\u001b[39m\u001b[38;5;124mnon-zero flags not allowed in calls to recv_into() on \u001b[39m\u001b[38;5;132;01m%s\u001b[39;00m\u001b[38;5;124m\"\u001b[39m \u001b[38;5;241m%\u001b[39m\n\u001b[1;32m   1306\u001b[0m           \u001b[38;5;28mself\u001b[39m\u001b[38;5;241m.\u001b[39m\u001b[38;5;18m__class__\u001b[39m)\n\u001b[0;32m-> 1307\u001b[0m     \u001b[38;5;28;01mreturn\u001b[39;00m \u001b[38;5;28;43mself\u001b[39;49m\u001b[38;5;241;43m.\u001b[39;49m\u001b[43mread\u001b[49m\u001b[43m(\u001b[49m\u001b[43mnbytes\u001b[49m\u001b[43m,\u001b[49m\u001b[43m \u001b[49m\u001b[43mbuffer\u001b[49m\u001b[43m)\u001b[49m\n\u001b[1;32m   1308\u001b[0m \u001b[38;5;28;01melse\u001b[39;00m:\n\u001b[1;32m   1309\u001b[0m     \u001b[38;5;28;01mreturn\u001b[39;00m \u001b[38;5;28msuper\u001b[39m()\u001b[38;5;241m.\u001b[39mrecv_into(buffer, nbytes, flags)\n",
      "File \u001b[0;32m~/anaconda3/envs/spyglass/lib/python3.10/ssl.py:1163\u001b[0m, in \u001b[0;36mSSLSocket.read\u001b[0;34m(self, len, buffer)\u001b[0m\n\u001b[1;32m   1161\u001b[0m \u001b[38;5;28;01mtry\u001b[39;00m:\n\u001b[1;32m   1162\u001b[0m     \u001b[38;5;28;01mif\u001b[39;00m buffer \u001b[38;5;129;01mis\u001b[39;00m \u001b[38;5;129;01mnot\u001b[39;00m \u001b[38;5;28;01mNone\u001b[39;00m:\n\u001b[0;32m-> 1163\u001b[0m         \u001b[38;5;28;01mreturn\u001b[39;00m \u001b[38;5;28;43mself\u001b[39;49m\u001b[38;5;241;43m.\u001b[39;49m\u001b[43m_sslobj\u001b[49m\u001b[38;5;241;43m.\u001b[39;49m\u001b[43mread\u001b[49m\u001b[43m(\u001b[49m\u001b[38;5;28;43mlen\u001b[39;49m\u001b[43m,\u001b[49m\u001b[43m \u001b[49m\u001b[43mbuffer\u001b[49m\u001b[43m)\u001b[49m\n\u001b[1;32m   1164\u001b[0m     \u001b[38;5;28;01melse\u001b[39;00m:\n\u001b[1;32m   1165\u001b[0m         \u001b[38;5;28;01mreturn\u001b[39;00m \u001b[38;5;28mself\u001b[39m\u001b[38;5;241m.\u001b[39m_sslobj\u001b[38;5;241m.\u001b[39mread(\u001b[38;5;28mlen\u001b[39m)\n",
      "\u001b[0;31mKeyboardInterrupt\u001b[0m: "
     ]
    }
   ],
   "source": [
    "\"\"\"fetch artifact\"\"\"\n",
    "artifact_params_name='ampl_100_prop_05_2ms'\n",
    "sort_interval_name = '02_Seq2Session1'\n",
    "artifact_key=(ArtifactDetection() & {'nwb_file_name' : nwb_copy_file_name}\n",
    "                            & {'artifact_params_name': artifact_params_name}\n",
    "                            & {'sort_interval_name':sort_interval_name})\n",
    "\n",
    "#, and there should be 2 entries, one from left cannula (group 100), and one from right cannula (group 101)\n",
    "artifact_removed_name_list=artifact_key.fetch('artifact_removed_interval_list_name')\n",
    "\n",
    "artifact_time_list=[]\n",
    "artifact_removed_time_list=[]\n",
    "for artifact_removed_name in artifact_removed_name_list:\n",
    "    artifact_time_list.append((ArtifactDetection() & {'nwb_file_name' : nwb_copy_file_name,'artifact_removed_interval_list_name':artifact_removed_name}).fetch1('artifact_times'))\n",
    "    (IntervalList() & {'nwb_file_name' : nwb_copy_file_name,'interval_list_name':artifact_removed_name}).delete()\n"
   ]
  },
  {
   "cell_type": "code",
   "execution_count": 52,
   "id": "4fe6953f-1210-4bc7-91f0-6bdc9552e1e1",
   "metadata": {
    "scrolled": true
   },
   "outputs": [],
   "source": [
    "intvls = (IntervalList() & {'nwb_file_name' : nwb_copy_file_name}).fetch(\"interval_list_name\")"
   ]
  },
  {
   "cell_type": "code",
   "execution_count": 53,
   "id": "641d93eb-f6f9-4ddc-90e6-799be58370c2",
   "metadata": {
    "scrolled": true
   },
   "outputs": [
    {
     "data": {
      "text/plain": [
       "array(['01_Rev2Sleep1', '02_Rev2Session1',\n",
       "       '02_Rev2Session1 lfp band 1000Hz', '03_Rev2Sleep2',\n",
       "       '04_Rev2Session2', '04_Rev2Session2 lfp band 1000Hz',\n",
       "       '05_Rev2Sleep3', '06_Rev2Session3',\n",
       "       '06_Rev2Session3 lfp band 1000Hz', '07_Rev2Sleep4',\n",
       "       '08_Rev2Session4', '08_Rev2Session4 lfp band 1000Hz',\n",
       "       '09_Rev2Sleep5', '10_Rev2Session5',\n",
       "       '10_Rev2Session5 lfp band 1000Hz', '11_Rev2Sleep6',\n",
       "       'klein20231102_.nwb_01_Rev2Sleep1_0_franklab_tetrode_hippocampus',\n",
       "       'klein20231102_.nwb_01_Rev2Sleep1_100_franklab_tetrode_hippocampus',\n",
       "       'klein20231102_.nwb_01_Rev2Sleep1_100_franklab_tetrode_hippocampus_ampl_100_prop_05_2ms_artifact_removed_valid_times',\n",
       "       'klein20231102_.nwb_01_Rev2Sleep1_101_franklab_tetrode_hippocampus',\n",
       "       'klein20231102_.nwb_01_Rev2Sleep1_101_franklab_tetrode_hippocampus_ampl_100_prop_05_2ms_artifact_removed_valid_times',\n",
       "       'klein20231102_.nwb_01_Rev2Sleep1_10_franklab_tetrode_hippocampus',\n",
       "       'klein20231102_.nwb_01_Rev2Sleep1_11_franklab_tetrode_hippocampus',\n",
       "       'klein20231102_.nwb_01_Rev2Sleep1_12_franklab_tetrode_hippocampus',\n",
       "       'klein20231102_.nwb_01_Rev2Sleep1_15_franklab_tetrode_hippocampus',\n",
       "       'klein20231102_.nwb_01_Rev2Sleep1_16_franklab_tetrode_hippocampus',\n",
       "       'klein20231102_.nwb_01_Rev2Sleep1_28_franklab_tetrode_hippocampus',\n",
       "       'klein20231102_.nwb_01_Rev2Sleep1_30_franklab_tetrode_hippocampus',\n",
       "       'klein20231102_.nwb_01_Rev2Sleep1_36_franklab_tetrode_hippocampus',\n",
       "       'klein20231102_.nwb_01_Rev2Sleep1_45_franklab_tetrode_hippocampus',\n",
       "       'klein20231102_.nwb_01_Rev2Sleep1_52_franklab_tetrode_hippocampus',\n",
       "       'klein20231102_.nwb_01_Rev2Sleep1_54_franklab_tetrode_hippocampus',\n",
       "       'klein20231102_.nwb_02_Rev2Session1_0_franklab_tetrode_hippocampus',\n",
       "       'klein20231102_.nwb_02_Rev2Session1_100_franklab_tetrode_hippocampus',\n",
       "       'klein20231102_.nwb_02_Rev2Session1_100_franklab_tetrode_hippocampus_ampl_100_prop_05_2ms_artifact_removed_valid_times',\n",
       "       'klein20231102_.nwb_02_Rev2Session1_101_franklab_tetrode_hippocampus',\n",
       "       'klein20231102_.nwb_02_Rev2Session1_101_franklab_tetrode_hippocampus_ampl_100_prop_05_2ms_artifact_removed_valid_times',\n",
       "       'klein20231102_.nwb_02_Rev2Session1_10_franklab_tetrode_hippocampus',\n",
       "       'klein20231102_.nwb_02_Rev2Session1_11_franklab_tetrode_hippocampus',\n",
       "       'klein20231102_.nwb_02_Rev2Session1_12_franklab_tetrode_hippocampus',\n",
       "       'klein20231102_.nwb_02_Rev2Session1_15_franklab_tetrode_hippocampus',\n",
       "       'klein20231102_.nwb_02_Rev2Session1_16_franklab_tetrode_hippocampus',\n",
       "       'klein20231102_.nwb_02_Rev2Session1_28_franklab_tetrode_hippocampus',\n",
       "       'klein20231102_.nwb_02_Rev2Session1_30_franklab_tetrode_hippocampus',\n",
       "       'klein20231102_.nwb_02_Rev2Session1_36_franklab_tetrode_hippocampus',\n",
       "       'klein20231102_.nwb_02_Rev2Session1_45_franklab_tetrode_hippocampus',\n",
       "       'klein20231102_.nwb_02_Rev2Session1_52_franklab_tetrode_hippocampus',\n",
       "       'klein20231102_.nwb_02_Rev2Session1_54_franklab_tetrode_hippocampus',\n",
       "       'klein20231102_.nwb_03_Rev2Sleep2_0_franklab_tetrode_hippocampus',\n",
       "       'klein20231102_.nwb_03_Rev2Sleep2_100_franklab_tetrode_hippocampus',\n",
       "       'klein20231102_.nwb_03_Rev2Sleep2_100_franklab_tetrode_hippocampus_ampl_100_prop_05_2ms_artifact_removed_valid_times',\n",
       "       'klein20231102_.nwb_03_Rev2Sleep2_101_franklab_tetrode_hippocampus',\n",
       "       'klein20231102_.nwb_03_Rev2Sleep2_101_franklab_tetrode_hippocampus_ampl_100_prop_05_2ms_artifact_removed_valid_times',\n",
       "       'klein20231102_.nwb_03_Rev2Sleep2_10_franklab_tetrode_hippocampus',\n",
       "       'klein20231102_.nwb_03_Rev2Sleep2_11_franklab_tetrode_hippocampus',\n",
       "       'klein20231102_.nwb_03_Rev2Sleep2_12_franklab_tetrode_hippocampus',\n",
       "       'klein20231102_.nwb_03_Rev2Sleep2_15_franklab_tetrode_hippocampus',\n",
       "       'klein20231102_.nwb_03_Rev2Sleep2_16_franklab_tetrode_hippocampus',\n",
       "       'klein20231102_.nwb_03_Rev2Sleep2_28_franklab_tetrode_hippocampus',\n",
       "       'klein20231102_.nwb_03_Rev2Sleep2_30_franklab_tetrode_hippocampus',\n",
       "       'klein20231102_.nwb_03_Rev2Sleep2_36_franklab_tetrode_hippocampus',\n",
       "       'klein20231102_.nwb_03_Rev2Sleep2_45_franklab_tetrode_hippocampus',\n",
       "       'klein20231102_.nwb_03_Rev2Sleep2_52_franklab_tetrode_hippocampus',\n",
       "       'klein20231102_.nwb_03_Rev2Sleep2_54_franklab_tetrode_hippocampus',\n",
       "       'klein20231102_.nwb_04_Rev2Session2_0_franklab_tetrode_hippocampus',\n",
       "       'klein20231102_.nwb_04_Rev2Session2_100_franklab_tetrode_hippocampus',\n",
       "       'klein20231102_.nwb_04_Rev2Session2_100_franklab_tetrode_hippocampus_ampl_100_prop_05_2ms_artifact_removed_valid_times',\n",
       "       'klein20231102_.nwb_04_Rev2Session2_101_franklab_tetrode_hippocampus',\n",
       "       'klein20231102_.nwb_04_Rev2Session2_101_franklab_tetrode_hippocampus_ampl_100_prop_05_2ms_artifact_removed_valid_times',\n",
       "       'klein20231102_.nwb_04_Rev2Session2_10_franklab_tetrode_hippocampus',\n",
       "       'klein20231102_.nwb_04_Rev2Session2_11_franklab_tetrode_hippocampus',\n",
       "       'klein20231102_.nwb_04_Rev2Session2_12_franklab_tetrode_hippocampus',\n",
       "       'klein20231102_.nwb_04_Rev2Session2_15_franklab_tetrode_hippocampus',\n",
       "       'klein20231102_.nwb_04_Rev2Session2_16_franklab_tetrode_hippocampus',\n",
       "       'klein20231102_.nwb_04_Rev2Session2_28_franklab_tetrode_hippocampus',\n",
       "       'klein20231102_.nwb_04_Rev2Session2_30_franklab_tetrode_hippocampus',\n",
       "       'klein20231102_.nwb_04_Rev2Session2_36_franklab_tetrode_hippocampus',\n",
       "       'klein20231102_.nwb_04_Rev2Session2_45_franklab_tetrode_hippocampus',\n",
       "       'klein20231102_.nwb_04_Rev2Session2_52_franklab_tetrode_hippocampus',\n",
       "       'klein20231102_.nwb_04_Rev2Session2_54_franklab_tetrode_hippocampus',\n",
       "       'klein20231102_.nwb_05_Rev2Sleep3_0_franklab_tetrode_hippocampus',\n",
       "       'klein20231102_.nwb_05_Rev2Sleep3_100_franklab_tetrode_hippocampus',\n",
       "       'klein20231102_.nwb_05_Rev2Sleep3_100_franklab_tetrode_hippocampus_ampl_100_prop_05_2ms_artifact_removed_valid_times',\n",
       "       'klein20231102_.nwb_05_Rev2Sleep3_101_franklab_tetrode_hippocampus',\n",
       "       'klein20231102_.nwb_05_Rev2Sleep3_101_franklab_tetrode_hippocampus_ampl_100_prop_05_2ms_artifact_removed_valid_times',\n",
       "       'klein20231102_.nwb_05_Rev2Sleep3_10_franklab_tetrode_hippocampus',\n",
       "       'klein20231102_.nwb_05_Rev2Sleep3_11_franklab_tetrode_hippocampus',\n",
       "       'klein20231102_.nwb_05_Rev2Sleep3_12_franklab_tetrode_hippocampus',\n",
       "       'klein20231102_.nwb_05_Rev2Sleep3_15_franklab_tetrode_hippocampus',\n",
       "       'klein20231102_.nwb_05_Rev2Sleep3_16_franklab_tetrode_hippocampus',\n",
       "       'klein20231102_.nwb_05_Rev2Sleep3_28_franklab_tetrode_hippocampus',\n",
       "       'klein20231102_.nwb_05_Rev2Sleep3_30_franklab_tetrode_hippocampus',\n",
       "       'klein20231102_.nwb_05_Rev2Sleep3_36_franklab_tetrode_hippocampus',\n",
       "       'klein20231102_.nwb_05_Rev2Sleep3_45_franklab_tetrode_hippocampus',\n",
       "       'klein20231102_.nwb_05_Rev2Sleep3_52_franklab_tetrode_hippocampus',\n",
       "       'klein20231102_.nwb_05_Rev2Sleep3_54_franklab_tetrode_hippocampus',\n",
       "       'klein20231102_.nwb_06_Rev2Session3_0_franklab_tetrode_hippocampus',\n",
       "       'klein20231102_.nwb_06_Rev2Session3_100_franklab_tetrode_hippocampus',\n",
       "       'klein20231102_.nwb_06_Rev2Session3_100_franklab_tetrode_hippocampus_ampl_100_prop_05_2ms_artifact_removed_valid_times',\n",
       "       'klein20231102_.nwb_06_Rev2Session3_101_franklab_tetrode_hippocampus',\n",
       "       'klein20231102_.nwb_06_Rev2Session3_101_franklab_tetrode_hippocampus_ampl_100_prop_05_2ms_artifact_removed_valid_times',\n",
       "       'klein20231102_.nwb_06_Rev2Session3_10_franklab_tetrode_hippocampus',\n",
       "       'klein20231102_.nwb_06_Rev2Session3_11_franklab_tetrode_hippocampus',\n",
       "       'klein20231102_.nwb_06_Rev2Session3_12_franklab_tetrode_hippocampus',\n",
       "       'klein20231102_.nwb_06_Rev2Session3_15_franklab_tetrode_hippocampus',\n",
       "       'klein20231102_.nwb_06_Rev2Session3_16_franklab_tetrode_hippocampus',\n",
       "       'klein20231102_.nwb_06_Rev2Session3_28_franklab_tetrode_hippocampus',\n",
       "       'klein20231102_.nwb_06_Rev2Session3_30_franklab_tetrode_hippocampus',\n",
       "       'klein20231102_.nwb_06_Rev2Session3_36_franklab_tetrode_hippocampus',\n",
       "       'klein20231102_.nwb_06_Rev2Session3_45_franklab_tetrode_hippocampus',\n",
       "       'klein20231102_.nwb_06_Rev2Session3_52_franklab_tetrode_hippocampus',\n",
       "       'klein20231102_.nwb_06_Rev2Session3_54_franklab_tetrode_hippocampus',\n",
       "       'klein20231102_.nwb_07_Rev2Sleep4_0_franklab_tetrode_hippocampus',\n",
       "       'klein20231102_.nwb_07_Rev2Sleep4_100_franklab_tetrode_hippocampus',\n",
       "       'klein20231102_.nwb_07_Rev2Sleep4_100_franklab_tetrode_hippocampus_ampl_100_prop_05_2ms_artifact_removed_valid_times',\n",
       "       'klein20231102_.nwb_07_Rev2Sleep4_101_franklab_tetrode_hippocampus',\n",
       "       'klein20231102_.nwb_07_Rev2Sleep4_101_franklab_tetrode_hippocampus_ampl_100_prop_05_2ms_artifact_removed_valid_times',\n",
       "       'klein20231102_.nwb_07_Rev2Sleep4_10_franklab_tetrode_hippocampus',\n",
       "       'klein20231102_.nwb_07_Rev2Sleep4_11_franklab_tetrode_hippocampus',\n",
       "       'klein20231102_.nwb_07_Rev2Sleep4_12_franklab_tetrode_hippocampus',\n",
       "       'klein20231102_.nwb_07_Rev2Sleep4_15_franklab_tetrode_hippocampus',\n",
       "       'klein20231102_.nwb_07_Rev2Sleep4_16_franklab_tetrode_hippocampus',\n",
       "       'klein20231102_.nwb_07_Rev2Sleep4_28_franklab_tetrode_hippocampus',\n",
       "       'klein20231102_.nwb_07_Rev2Sleep4_30_franklab_tetrode_hippocampus',\n",
       "       'klein20231102_.nwb_07_Rev2Sleep4_36_franklab_tetrode_hippocampus',\n",
       "       'klein20231102_.nwb_07_Rev2Sleep4_45_franklab_tetrode_hippocampus',\n",
       "       'klein20231102_.nwb_07_Rev2Sleep4_52_franklab_tetrode_hippocampus',\n",
       "       'klein20231102_.nwb_07_Rev2Sleep4_54_franklab_tetrode_hippocampus',\n",
       "       'klein20231102_.nwb_08_Rev2Session4_0_franklab_tetrode_hippocampus',\n",
       "       'klein20231102_.nwb_08_Rev2Session4_100_franklab_tetrode_hippocampus',\n",
       "       'klein20231102_.nwb_08_Rev2Session4_100_franklab_tetrode_hippocampus_ampl_100_prop_05_2ms_artifact_removed_valid_times',\n",
       "       'klein20231102_.nwb_08_Rev2Session4_101_franklab_tetrode_hippocampus',\n",
       "       'klein20231102_.nwb_08_Rev2Session4_101_franklab_tetrode_hippocampus_ampl_100_prop_05_2ms_artifact_removed_valid_times',\n",
       "       'klein20231102_.nwb_08_Rev2Session4_10_franklab_tetrode_hippocampus',\n",
       "       'klein20231102_.nwb_08_Rev2Session4_11_franklab_tetrode_hippocampus',\n",
       "       'klein20231102_.nwb_08_Rev2Session4_12_franklab_tetrode_hippocampus',\n",
       "       'klein20231102_.nwb_08_Rev2Session4_15_franklab_tetrode_hippocampus',\n",
       "       'klein20231102_.nwb_08_Rev2Session4_16_franklab_tetrode_hippocampus',\n",
       "       'klein20231102_.nwb_08_Rev2Session4_28_franklab_tetrode_hippocampus',\n",
       "       'klein20231102_.nwb_08_Rev2Session4_30_franklab_tetrode_hippocampus',\n",
       "       'klein20231102_.nwb_08_Rev2Session4_36_franklab_tetrode_hippocampus',\n",
       "       'klein20231102_.nwb_08_Rev2Session4_45_franklab_tetrode_hippocampus',\n",
       "       'klein20231102_.nwb_08_Rev2Session4_52_franklab_tetrode_hippocampus',\n",
       "       'klein20231102_.nwb_08_Rev2Session4_54_franklab_tetrode_hippocampus',\n",
       "       'klein20231102_.nwb_09_Rev2Sleep5_0_franklab_tetrode_hippocampus',\n",
       "       'klein20231102_.nwb_09_Rev2Sleep5_100_franklab_tetrode_hippocampus',\n",
       "       'klein20231102_.nwb_09_Rev2Sleep5_100_franklab_tetrode_hippocampus_ampl_100_prop_05_2ms_artifact_removed_valid_times',\n",
       "       'klein20231102_.nwb_09_Rev2Sleep5_101_franklab_tetrode_hippocampus',\n",
       "       'klein20231102_.nwb_09_Rev2Sleep5_101_franklab_tetrode_hippocampus_ampl_100_prop_05_2ms_artifact_removed_valid_times',\n",
       "       'klein20231102_.nwb_09_Rev2Sleep5_10_franklab_tetrode_hippocampus',\n",
       "       'klein20231102_.nwb_09_Rev2Sleep5_11_franklab_tetrode_hippocampus',\n",
       "       'klein20231102_.nwb_09_Rev2Sleep5_12_franklab_tetrode_hippocampus',\n",
       "       'klein20231102_.nwb_09_Rev2Sleep5_15_franklab_tetrode_hippocampus',\n",
       "       'klein20231102_.nwb_09_Rev2Sleep5_16_franklab_tetrode_hippocampus',\n",
       "       'klein20231102_.nwb_09_Rev2Sleep5_28_franklab_tetrode_hippocampus',\n",
       "       'klein20231102_.nwb_09_Rev2Sleep5_30_franklab_tetrode_hippocampus',\n",
       "       'klein20231102_.nwb_09_Rev2Sleep5_36_franklab_tetrode_hippocampus',\n",
       "       'klein20231102_.nwb_09_Rev2Sleep5_45_franklab_tetrode_hippocampus',\n",
       "       'klein20231102_.nwb_09_Rev2Sleep5_52_franklab_tetrode_hippocampus',\n",
       "       'klein20231102_.nwb_09_Rev2Sleep5_54_franklab_tetrode_hippocampus',\n",
       "       'klein20231102_.nwb_10_Rev2Session5_0_franklab_tetrode_hippocampus',\n",
       "       'klein20231102_.nwb_10_Rev2Session5_100_franklab_tetrode_hippocampus',\n",
       "       'klein20231102_.nwb_10_Rev2Session5_100_franklab_tetrode_hippocampus_ampl_100_prop_05_2ms_artifact_removed_valid_times',\n",
       "       'klein20231102_.nwb_10_Rev2Session5_101_franklab_tetrode_hippocampus',\n",
       "       'klein20231102_.nwb_10_Rev2Session5_101_franklab_tetrode_hippocampus_ampl_100_prop_05_2ms_artifact_removed_valid_times',\n",
       "       'klein20231102_.nwb_10_Rev2Session5_10_franklab_tetrode_hippocampus',\n",
       "       'klein20231102_.nwb_10_Rev2Session5_11_franklab_tetrode_hippocampus',\n",
       "       'klein20231102_.nwb_10_Rev2Session5_12_franklab_tetrode_hippocampus',\n",
       "       'klein20231102_.nwb_10_Rev2Session5_15_franklab_tetrode_hippocampus',\n",
       "       'klein20231102_.nwb_10_Rev2Session5_16_franklab_tetrode_hippocampus',\n",
       "       'klein20231102_.nwb_10_Rev2Session5_28_franklab_tetrode_hippocampus',\n",
       "       'klein20231102_.nwb_10_Rev2Session5_30_franklab_tetrode_hippocampus',\n",
       "       'klein20231102_.nwb_10_Rev2Session5_36_franklab_tetrode_hippocampus',\n",
       "       'klein20231102_.nwb_10_Rev2Session5_45_franklab_tetrode_hippocampus',\n",
       "       'klein20231102_.nwb_10_Rev2Session5_52_franklab_tetrode_hippocampus',\n",
       "       'klein20231102_.nwb_10_Rev2Session5_54_franklab_tetrode_hippocampus',\n",
       "       'klein20231102_.nwb_11_Rev2Sleep6_0_franklab_tetrode_hippocampus',\n",
       "       'klein20231102_.nwb_11_Rev2Sleep6_100_franklab_tetrode_hippocampus',\n",
       "       'klein20231102_.nwb_11_Rev2Sleep6_100_franklab_tetrode_hippocampus_ampl_100_prop_05_2ms_artifact_removed_valid_times',\n",
       "       'klein20231102_.nwb_11_Rev2Sleep6_101_franklab_tetrode_hippocampus',\n",
       "       'klein20231102_.nwb_11_Rev2Sleep6_101_franklab_tetrode_hippocampus_ampl_100_prop_05_2ms_artifact_removed_valid_times',\n",
       "       'klein20231102_.nwb_11_Rev2Sleep6_10_franklab_tetrode_hippocampus',\n",
       "       'klein20231102_.nwb_11_Rev2Sleep6_11_franklab_tetrode_hippocampus',\n",
       "       'klein20231102_.nwb_11_Rev2Sleep6_12_franklab_tetrode_hippocampus',\n",
       "       'klein20231102_.nwb_11_Rev2Sleep6_15_franklab_tetrode_hippocampus',\n",
       "       'klein20231102_.nwb_11_Rev2Sleep6_16_franklab_tetrode_hippocampus',\n",
       "       'klein20231102_.nwb_11_Rev2Sleep6_28_franklab_tetrode_hippocampus',\n",
       "       'klein20231102_.nwb_11_Rev2Sleep6_30_franklab_tetrode_hippocampus',\n",
       "       'klein20231102_.nwb_11_Rev2Sleep6_36_franklab_tetrode_hippocampus',\n",
       "       'klein20231102_.nwb_11_Rev2Sleep6_45_franklab_tetrode_hippocampus',\n",
       "       'klein20231102_.nwb_11_Rev2Sleep6_52_franklab_tetrode_hippocampus',\n",
       "       'klein20231102_.nwb_11_Rev2Sleep6_54_franklab_tetrode_hippocampus',\n",
       "       'lfp valid times', 'pos 0 valid times', 'pos 1 valid times',\n",
       "       'pos 10 valid times', 'pos 2 valid times', 'pos 3 valid times',\n",
       "       'pos 4 valid times', 'pos 5 valid times', 'pos 6 valid times',\n",
       "       'pos 7 valid times', 'pos 8 valid times', 'pos 9 valid times',\n",
       "       'raw data valid times'], dtype=object)"
      ]
     },
     "execution_count": 53,
     "metadata": {},
     "output_type": "execute_result"
    }
   ],
   "source": [
    "intvls"
   ]
  },
  {
   "cell_type": "code",
   "execution_count": 54,
   "id": "1812b28c-874a-449b-84e7-d5502f21ef22",
   "metadata": {
    "scrolled": true
   },
   "outputs": [
    {
     "name": "stderr",
     "output_type": "stream",
     "text": [
      "[21:35:13][INFO] Spyglass: Path Found : ['`common_session`.`_session`', '`common_interval`.`interval_list`'...\n",
      "30-May-25 21:35:13 Path Found : ['`common_session`.`_session`', '`common_interval`.`interval_list`'...\n",
      "[21:35:13][INFO] Spyglass: Checking  0: IntervalList -> ['Session']\n",
      "30-May-25 21:35:13 Checking  0: IntervalList -> ['Session']\n",
      "[21:35:13][INFO] Spyglass: Bridge Link: IntervalList -> Session: result partial\n",
      "30-May-25 21:35:13 Bridge Link: IntervalList -> Session: result partial\n",
      "[21:35:13][INFO] Spyglass: Checking  1: Session -> ['Nwbfile', 'Subject', 'Institution', 'Lab', 'SessionDat...\n",
      "30-May-25 21:35:13 Checking  1: Session -> ['Nwbfile', 'Subject', 'Institution', 'Lab', 'SessionDat...\n",
      "[21:35:13][INFO] Spyglass: Banned Tbl : Nwbfile\n",
      "30-May-25 21:35:13 Banned Tbl : Nwbfile\n",
      "[21:35:13][INFO] Spyglass: Banned Tbl : Subject\n",
      "30-May-25 21:35:13 Banned Tbl : Subject\n",
      "[21:35:13][INFO] Spyglass: Banned Tbl : Institution\n",
      "30-May-25 21:35:13 Banned Tbl : Institution\n",
      "[21:35:13][INFO] Spyglass: Banned Tbl : Lab\n",
      "30-May-25 21:35:13 Banned Tbl : Lab\n",
      "[21:35:13][INFO] Spyglass: Banned Tbl : SessionDataAcquisitionDevice\n",
      "30-May-25 21:35:13 Banned Tbl : SessionDataAcquisitionDevice\n",
      "[21:35:13][INFO] Spyglass: Banned Tbl : SessionExperimenter\n",
      "30-May-25 21:35:13 Banned Tbl : SessionExperimenter\n",
      "[21:35:13][INFO] Spyglass: Queueing delete for session(s):\n",
      "*nwb_file_name *lab_member_na\n",
      "+------------+ +------------+\n",
      "klein20231102_ Shijie Gu     \n",
      " (Total: 1)\n",
      "\n",
      "30-May-25 21:35:13 Queueing delete for session(s):\n",
      "*nwb_file_name *lab_member_na\n",
      "+------------+ +------------+\n",
      "klein20231102_ Shijie Gu     \n",
      " (Total: 1)\n",
      "\n",
      "[2025-05-30 21:35:13,454][INFO]: Deleting 1 rows from `common_interval`.`interval_list`\n",
      "30-May-25 21:35:13 Deleting 1 rows from `common_interval`.`interval_list`\n"
     ]
    },
    {
     "name": "stdin",
     "output_type": "stream",
     "text": [
      "Commit deletes? [yes, No]:  yes\n"
     ]
    },
    {
     "name": "stderr",
     "output_type": "stream",
     "text": [
      "[2025-05-30 21:35:15,403][INFO]: Deletes committed.\n",
      "30-May-25 21:35:15 Deletes committed.\n",
      "[21:35:19][INFO] Spyglass: Path Found : ['`common_session`.`_session`', '`common_interval`.`interval_list`'...\n",
      "30-May-25 21:35:19 Path Found : ['`common_session`.`_session`', '`common_interval`.`interval_list`'...\n",
      "[21:35:19][INFO] Spyglass: Checking  0: IntervalList -> ['Session']\n",
      "30-May-25 21:35:19 Checking  0: IntervalList -> ['Session']\n",
      "[21:35:19][INFO] Spyglass: Bridge Link: IntervalList -> Session: result partial\n",
      "30-May-25 21:35:19 Bridge Link: IntervalList -> Session: result partial\n",
      "[21:35:19][INFO] Spyglass: Checking  1: Session -> ['Nwbfile', 'Subject', 'Institution', 'Lab', 'SessionDat...\n",
      "30-May-25 21:35:19 Checking  1: Session -> ['Nwbfile', 'Subject', 'Institution', 'Lab', 'SessionDat...\n",
      "[21:35:19][INFO] Spyglass: Banned Tbl : Nwbfile\n",
      "30-May-25 21:35:19 Banned Tbl : Nwbfile\n",
      "[21:35:19][INFO] Spyglass: Banned Tbl : Subject\n",
      "30-May-25 21:35:19 Banned Tbl : Subject\n",
      "[21:35:19][INFO] Spyglass: Banned Tbl : Institution\n",
      "30-May-25 21:35:19 Banned Tbl : Institution\n",
      "[21:35:19][INFO] Spyglass: Banned Tbl : Lab\n",
      "30-May-25 21:35:19 Banned Tbl : Lab\n",
      "[21:35:19][INFO] Spyglass: Banned Tbl : SessionDataAcquisitionDevice\n",
      "30-May-25 21:35:19 Banned Tbl : SessionDataAcquisitionDevice\n",
      "[21:35:19][INFO] Spyglass: Banned Tbl : SessionExperimenter\n",
      "30-May-25 21:35:19 Banned Tbl : SessionExperimenter\n",
      "[21:35:19][INFO] Spyglass: Queueing delete for session(s):\n",
      "*nwb_file_name *lab_member_na\n",
      "+------------+ +------------+\n",
      "klein20231102_ Shijie Gu     \n",
      " (Total: 1)\n",
      "\n",
      "30-May-25 21:35:19 Queueing delete for session(s):\n",
      "*nwb_file_name *lab_member_na\n",
      "+------------+ +------------+\n",
      "klein20231102_ Shijie Gu     \n",
      " (Total: 1)\n",
      "\n",
      "[2025-05-30 21:35:19,839][INFO]: Deleting 1 rows from `common_interval`.`interval_list`\n",
      "30-May-25 21:35:19 Deleting 1 rows from `common_interval`.`interval_list`\n"
     ]
    },
    {
     "name": "stdin",
     "output_type": "stream",
     "text": [
      "Commit deletes? [yes, No]:  yes\n"
     ]
    },
    {
     "name": "stderr",
     "output_type": "stream",
     "text": [
      "[2025-05-30 21:35:22,474][INFO]: Deletes committed.\n",
      "30-May-25 21:35:22 Deletes committed.\n",
      "[21:35:26][INFO] Spyglass: Path Found : ['`common_session`.`_session`', '`common_interval`.`interval_list`'...\n",
      "30-May-25 21:35:26 Path Found : ['`common_session`.`_session`', '`common_interval`.`interval_list`'...\n",
      "[21:35:26][INFO] Spyglass: Checking  0: IntervalList -> ['Session']\n",
      "30-May-25 21:35:26 Checking  0: IntervalList -> ['Session']\n",
      "[21:35:26][INFO] Spyglass: Bridge Link: IntervalList -> Session: result partial\n",
      "30-May-25 21:35:26 Bridge Link: IntervalList -> Session: result partial\n",
      "[21:35:26][INFO] Spyglass: Checking  1: Session -> ['Nwbfile', 'Subject', 'Institution', 'Lab', 'SessionDat...\n",
      "30-May-25 21:35:26 Checking  1: Session -> ['Nwbfile', 'Subject', 'Institution', 'Lab', 'SessionDat...\n",
      "[21:35:26][INFO] Spyglass: Banned Tbl : Nwbfile\n",
      "30-May-25 21:35:26 Banned Tbl : Nwbfile\n",
      "[21:35:26][INFO] Spyglass: Banned Tbl : Subject\n",
      "30-May-25 21:35:26 Banned Tbl : Subject\n",
      "[21:35:26][INFO] Spyglass: Banned Tbl : Institution\n",
      "30-May-25 21:35:26 Banned Tbl : Institution\n",
      "[21:35:26][INFO] Spyglass: Banned Tbl : Lab\n",
      "30-May-25 21:35:26 Banned Tbl : Lab\n",
      "[21:35:26][INFO] Spyglass: Banned Tbl : SessionDataAcquisitionDevice\n",
      "30-May-25 21:35:26 Banned Tbl : SessionDataAcquisitionDevice\n",
      "[21:35:26][INFO] Spyglass: Banned Tbl : SessionExperimenter\n",
      "30-May-25 21:35:26 Banned Tbl : SessionExperimenter\n",
      "[21:35:26][INFO] Spyglass: Queueing delete for session(s):\n",
      "*nwb_file_name *lab_member_na\n",
      "+------------+ +------------+\n",
      "klein20231102_ Shijie Gu     \n",
      " (Total: 1)\n",
      "\n",
      "30-May-25 21:35:26 Queueing delete for session(s):\n",
      "*nwb_file_name *lab_member_na\n",
      "+------------+ +------------+\n",
      "klein20231102_ Shijie Gu     \n",
      " (Total: 1)\n",
      "\n",
      "[2025-05-30 21:35:26,949][INFO]: Deleting 1 rows from `common_interval`.`interval_list`\n",
      "30-May-25 21:35:26 Deleting 1 rows from `common_interval`.`interval_list`\n"
     ]
    },
    {
     "name": "stdin",
     "output_type": "stream",
     "text": [
      "Commit deletes? [yes, No]:  yes\n"
     ]
    },
    {
     "name": "stderr",
     "output_type": "stream",
     "text": [
      "[2025-05-30 21:35:29,152][INFO]: Deletes committed.\n",
      "30-May-25 21:35:29 Deletes committed.\n",
      "[21:35:33][INFO] Spyglass: Path Found : ['`common_session`.`_session`', '`common_interval`.`interval_list`'...\n",
      "30-May-25 21:35:33 Path Found : ['`common_session`.`_session`', '`common_interval`.`interval_list`'...\n",
      "[21:35:33][INFO] Spyglass: Checking  0: IntervalList -> ['Session']\n",
      "30-May-25 21:35:33 Checking  0: IntervalList -> ['Session']\n",
      "[21:35:33][INFO] Spyglass: Bridge Link: IntervalList -> Session: result partial\n",
      "30-May-25 21:35:33 Bridge Link: IntervalList -> Session: result partial\n",
      "[21:35:33][INFO] Spyglass: Checking  1: Session -> ['Nwbfile', 'Subject', 'Institution', 'Lab', 'SessionDat...\n",
      "30-May-25 21:35:33 Checking  1: Session -> ['Nwbfile', 'Subject', 'Institution', 'Lab', 'SessionDat...\n",
      "[21:35:33][INFO] Spyglass: Banned Tbl : Nwbfile\n",
      "30-May-25 21:35:33 Banned Tbl : Nwbfile\n",
      "[21:35:33][INFO] Spyglass: Banned Tbl : Subject\n",
      "30-May-25 21:35:33 Banned Tbl : Subject\n",
      "[21:35:33][INFO] Spyglass: Banned Tbl : Institution\n",
      "30-May-25 21:35:33 Banned Tbl : Institution\n",
      "[21:35:33][INFO] Spyglass: Banned Tbl : Lab\n",
      "30-May-25 21:35:33 Banned Tbl : Lab\n",
      "[21:35:33][INFO] Spyglass: Banned Tbl : SessionDataAcquisitionDevice\n",
      "30-May-25 21:35:33 Banned Tbl : SessionDataAcquisitionDevice\n",
      "[21:35:33][INFO] Spyglass: Banned Tbl : SessionExperimenter\n",
      "30-May-25 21:35:33 Banned Tbl : SessionExperimenter\n",
      "[21:35:33][INFO] Spyglass: Queueing delete for session(s):\n",
      "*nwb_file_name *lab_member_na\n",
      "+------------+ +------------+\n",
      "klein20231102_ Shijie Gu     \n",
      " (Total: 1)\n",
      "\n",
      "30-May-25 21:35:33 Queueing delete for session(s):\n",
      "*nwb_file_name *lab_member_na\n",
      "+------------+ +------------+\n",
      "klein20231102_ Shijie Gu     \n",
      " (Total: 1)\n",
      "\n",
      "[2025-05-30 21:35:33,570][INFO]: Deleting 1 rows from `common_interval`.`interval_list`\n",
      "30-May-25 21:35:33 Deleting 1 rows from `common_interval`.`interval_list`\n"
     ]
    },
    {
     "name": "stdin",
     "output_type": "stream",
     "text": [
      "Commit deletes? [yes, No]:  yes\n"
     ]
    },
    {
     "name": "stderr",
     "output_type": "stream",
     "text": [
      "[2025-05-30 21:35:35,070][INFO]: Deletes committed.\n",
      "30-May-25 21:35:35 Deletes committed.\n",
      "[21:35:39][INFO] Spyglass: Path Found : ['`common_session`.`_session`', '`common_interval`.`interval_list`'...\n",
      "30-May-25 21:35:39 Path Found : ['`common_session`.`_session`', '`common_interval`.`interval_list`'...\n",
      "[21:35:39][INFO] Spyglass: Checking  0: IntervalList -> ['Session']\n",
      "30-May-25 21:35:39 Checking  0: IntervalList -> ['Session']\n",
      "[21:35:39][INFO] Spyglass: Bridge Link: IntervalList -> Session: result partial\n",
      "30-May-25 21:35:39 Bridge Link: IntervalList -> Session: result partial\n",
      "[21:35:39][INFO] Spyglass: Checking  1: Session -> ['Nwbfile', 'Subject', 'Institution', 'Lab', 'SessionDat...\n",
      "30-May-25 21:35:39 Checking  1: Session -> ['Nwbfile', 'Subject', 'Institution', 'Lab', 'SessionDat...\n",
      "[21:35:39][INFO] Spyglass: Banned Tbl : Nwbfile\n",
      "30-May-25 21:35:39 Banned Tbl : Nwbfile\n",
      "[21:35:39][INFO] Spyglass: Banned Tbl : Subject\n",
      "30-May-25 21:35:39 Banned Tbl : Subject\n",
      "[21:35:39][INFO] Spyglass: Banned Tbl : Institution\n",
      "30-May-25 21:35:39 Banned Tbl : Institution\n",
      "[21:35:39][INFO] Spyglass: Banned Tbl : Lab\n",
      "30-May-25 21:35:39 Banned Tbl : Lab\n",
      "[21:35:39][INFO] Spyglass: Banned Tbl : SessionDataAcquisitionDevice\n",
      "30-May-25 21:35:39 Banned Tbl : SessionDataAcquisitionDevice\n",
      "[21:35:39][INFO] Spyglass: Banned Tbl : SessionExperimenter\n",
      "30-May-25 21:35:39 Banned Tbl : SessionExperimenter\n",
      "[21:35:39][INFO] Spyglass: Queueing delete for session(s):\n",
      "*nwb_file_name *lab_member_na\n",
      "+------------+ +------------+\n",
      "klein20231102_ Shijie Gu     \n",
      " (Total: 1)\n",
      "\n",
      "30-May-25 21:35:39 Queueing delete for session(s):\n",
      "*nwb_file_name *lab_member_na\n",
      "+------------+ +------------+\n",
      "klein20231102_ Shijie Gu     \n",
      " (Total: 1)\n",
      "\n",
      "[2025-05-30 21:35:39,442][INFO]: Deleting 1 rows from `common_interval`.`interval_list`\n",
      "30-May-25 21:35:39 Deleting 1 rows from `common_interval`.`interval_list`\n"
     ]
    },
    {
     "name": "stdin",
     "output_type": "stream",
     "text": [
      "Commit deletes? [yes, No]:  yes\n"
     ]
    },
    {
     "name": "stderr",
     "output_type": "stream",
     "text": [
      "[2025-05-30 21:35:41,026][INFO]: Deletes committed.\n",
      "30-May-25 21:35:41 Deletes committed.\n",
      "[21:35:45][INFO] Spyglass: Path Found : ['`common_session`.`_session`', '`common_interval`.`interval_list`'...\n",
      "30-May-25 21:35:45 Path Found : ['`common_session`.`_session`', '`common_interval`.`interval_list`'...\n",
      "[21:35:45][INFO] Spyglass: Checking  0: IntervalList -> ['Session']\n",
      "30-May-25 21:35:45 Checking  0: IntervalList -> ['Session']\n",
      "[21:35:45][INFO] Spyglass: Bridge Link: IntervalList -> Session: result partial\n",
      "30-May-25 21:35:45 Bridge Link: IntervalList -> Session: result partial\n",
      "[21:35:45][INFO] Spyglass: Checking  1: Session -> ['Nwbfile', 'Subject', 'Institution', 'Lab', 'SessionDat...\n",
      "30-May-25 21:35:45 Checking  1: Session -> ['Nwbfile', 'Subject', 'Institution', 'Lab', 'SessionDat...\n",
      "[21:35:45][INFO] Spyglass: Banned Tbl : Nwbfile\n",
      "30-May-25 21:35:45 Banned Tbl : Nwbfile\n",
      "[21:35:45][INFO] Spyglass: Banned Tbl : Subject\n",
      "30-May-25 21:35:45 Banned Tbl : Subject\n",
      "[21:35:45][INFO] Spyglass: Banned Tbl : Institution\n",
      "30-May-25 21:35:45 Banned Tbl : Institution\n",
      "[21:35:45][INFO] Spyglass: Banned Tbl : Lab\n",
      "30-May-25 21:35:45 Banned Tbl : Lab\n",
      "[21:35:45][INFO] Spyglass: Banned Tbl : SessionDataAcquisitionDevice\n",
      "30-May-25 21:35:45 Banned Tbl : SessionDataAcquisitionDevice\n",
      "[21:35:45][INFO] Spyglass: Banned Tbl : SessionExperimenter\n",
      "30-May-25 21:35:45 Banned Tbl : SessionExperimenter\n",
      "[21:35:45][INFO] Spyglass: Queueing delete for session(s):\n",
      "*nwb_file_name *lab_member_na\n",
      "+------------+ +------------+\n",
      "klein20231102_ Shijie Gu     \n",
      " (Total: 1)\n",
      "\n",
      "30-May-25 21:35:45 Queueing delete for session(s):\n",
      "*nwb_file_name *lab_member_na\n",
      "+------------+ +------------+\n",
      "klein20231102_ Shijie Gu     \n",
      " (Total: 1)\n",
      "\n",
      "[2025-05-30 21:35:45,940][INFO]: Deleting 1 rows from `common_interval`.`interval_list`\n",
      "30-May-25 21:35:45 Deleting 1 rows from `common_interval`.`interval_list`\n"
     ]
    },
    {
     "name": "stdin",
     "output_type": "stream",
     "text": [
      "Commit deletes? [yes, No]:  yes\n"
     ]
    },
    {
     "name": "stderr",
     "output_type": "stream",
     "text": [
      "[2025-05-30 21:35:47,518][INFO]: Deletes committed.\n",
      "30-May-25 21:35:47 Deletes committed.\n",
      "[21:35:52][INFO] Spyglass: Path Found : ['`common_session`.`_session`', '`common_interval`.`interval_list`'...\n",
      "30-May-25 21:35:52 Path Found : ['`common_session`.`_session`', '`common_interval`.`interval_list`'...\n",
      "[21:35:52][INFO] Spyglass: Checking  0: IntervalList -> ['Session']\n",
      "30-May-25 21:35:52 Checking  0: IntervalList -> ['Session']\n",
      "[21:35:52][INFO] Spyglass: Bridge Link: IntervalList -> Session: result partial\n",
      "30-May-25 21:35:52 Bridge Link: IntervalList -> Session: result partial\n",
      "[21:35:52][INFO] Spyglass: Checking  1: Session -> ['Nwbfile', 'Subject', 'Institution', 'Lab', 'SessionDat...\n",
      "30-May-25 21:35:52 Checking  1: Session -> ['Nwbfile', 'Subject', 'Institution', 'Lab', 'SessionDat...\n",
      "[21:35:52][INFO] Spyglass: Banned Tbl : Nwbfile\n",
      "30-May-25 21:35:52 Banned Tbl : Nwbfile\n",
      "[21:35:52][INFO] Spyglass: Banned Tbl : Subject\n",
      "30-May-25 21:35:52 Banned Tbl : Subject\n",
      "[21:35:52][INFO] Spyglass: Banned Tbl : Institution\n",
      "30-May-25 21:35:52 Banned Tbl : Institution\n",
      "[21:35:52][INFO] Spyglass: Banned Tbl : Lab\n",
      "30-May-25 21:35:52 Banned Tbl : Lab\n",
      "[21:35:52][INFO] Spyglass: Banned Tbl : SessionDataAcquisitionDevice\n",
      "30-May-25 21:35:52 Banned Tbl : SessionDataAcquisitionDevice\n",
      "[21:35:52][INFO] Spyglass: Banned Tbl : SessionExperimenter\n",
      "30-May-25 21:35:52 Banned Tbl : SessionExperimenter\n",
      "[21:35:52][INFO] Spyglass: Queueing delete for session(s):\n",
      "*nwb_file_name *lab_member_na\n",
      "+------------+ +------------+\n",
      "klein20231102_ Shijie Gu     \n",
      " (Total: 1)\n",
      "\n",
      "30-May-25 21:35:52 Queueing delete for session(s):\n",
      "*nwb_file_name *lab_member_na\n",
      "+------------+ +------------+\n",
      "klein20231102_ Shijie Gu     \n",
      " (Total: 1)\n",
      "\n",
      "[2025-05-30 21:35:52,176][INFO]: Deleting 1 rows from `common_interval`.`interval_list`\n",
      "30-May-25 21:35:52 Deleting 1 rows from `common_interval`.`interval_list`\n"
     ]
    },
    {
     "name": "stdin",
     "output_type": "stream",
     "text": [
      "Commit deletes? [yes, No]:  yes\n"
     ]
    },
    {
     "name": "stderr",
     "output_type": "stream",
     "text": [
      "[2025-05-30 21:35:53,886][INFO]: Deletes committed.\n",
      "30-May-25 21:35:53 Deletes committed.\n",
      "[21:35:59][INFO] Spyglass: Path Found : ['`common_session`.`_session`', '`common_interval`.`interval_list`'...\n",
      "30-May-25 21:35:59 Path Found : ['`common_session`.`_session`', '`common_interval`.`interval_list`'...\n",
      "[21:35:59][INFO] Spyglass: Checking  0: IntervalList -> ['Session']\n",
      "30-May-25 21:35:59 Checking  0: IntervalList -> ['Session']\n",
      "[21:35:59][INFO] Spyglass: Bridge Link: IntervalList -> Session: result partial\n",
      "30-May-25 21:35:59 Bridge Link: IntervalList -> Session: result partial\n",
      "[21:35:59][INFO] Spyglass: Checking  1: Session -> ['Nwbfile', 'Subject', 'Institution', 'Lab', 'SessionDat...\n",
      "30-May-25 21:35:59 Checking  1: Session -> ['Nwbfile', 'Subject', 'Institution', 'Lab', 'SessionDat...\n",
      "[21:35:59][INFO] Spyglass: Banned Tbl : Nwbfile\n",
      "30-May-25 21:35:59 Banned Tbl : Nwbfile\n",
      "[21:35:59][INFO] Spyglass: Banned Tbl : Subject\n",
      "30-May-25 21:35:59 Banned Tbl : Subject\n",
      "[21:35:59][INFO] Spyglass: Banned Tbl : Institution\n",
      "30-May-25 21:35:59 Banned Tbl : Institution\n",
      "[21:35:59][INFO] Spyglass: Banned Tbl : Lab\n",
      "30-May-25 21:35:59 Banned Tbl : Lab\n",
      "[21:35:59][INFO] Spyglass: Banned Tbl : SessionDataAcquisitionDevice\n",
      "30-May-25 21:35:59 Banned Tbl : SessionDataAcquisitionDevice\n",
      "[21:35:59][INFO] Spyglass: Banned Tbl : SessionExperimenter\n",
      "30-May-25 21:35:59 Banned Tbl : SessionExperimenter\n",
      "[21:35:59][INFO] Spyglass: Queueing delete for session(s):\n",
      "*nwb_file_name *lab_member_na\n",
      "+------------+ +------------+\n",
      "klein20231102_ Shijie Gu     \n",
      " (Total: 1)\n",
      "\n",
      "30-May-25 21:35:59 Queueing delete for session(s):\n",
      "*nwb_file_name *lab_member_na\n",
      "+------------+ +------------+\n",
      "klein20231102_ Shijie Gu     \n",
      " (Total: 1)\n",
      "\n",
      "[2025-05-30 21:35:59,526][INFO]: Deleting 1 rows from `common_interval`.`interval_list`\n",
      "30-May-25 21:35:59 Deleting 1 rows from `common_interval`.`interval_list`\n"
     ]
    },
    {
     "name": "stdin",
     "output_type": "stream",
     "text": [
      "Commit deletes? [yes, No]:  yes\n"
     ]
    },
    {
     "name": "stderr",
     "output_type": "stream",
     "text": [
      "[2025-05-30 21:36:01,411][INFO]: Deletes committed.\n",
      "30-May-25 21:36:01 Deletes committed.\n",
      "[21:36:05][INFO] Spyglass: Path Found : ['`common_session`.`_session`', '`common_interval`.`interval_list`'...\n",
      "30-May-25 21:36:05 Path Found : ['`common_session`.`_session`', '`common_interval`.`interval_list`'...\n",
      "[21:36:05][INFO] Spyglass: Checking  0: IntervalList -> ['Session']\n",
      "30-May-25 21:36:05 Checking  0: IntervalList -> ['Session']\n",
      "[21:36:05][INFO] Spyglass: Bridge Link: IntervalList -> Session: result partial\n",
      "30-May-25 21:36:05 Bridge Link: IntervalList -> Session: result partial\n",
      "[21:36:05][INFO] Spyglass: Checking  1: Session -> ['Nwbfile', 'Subject', 'Institution', 'Lab', 'SessionDat...\n",
      "30-May-25 21:36:05 Checking  1: Session -> ['Nwbfile', 'Subject', 'Institution', 'Lab', 'SessionDat...\n",
      "[21:36:05][INFO] Spyglass: Banned Tbl : Nwbfile\n",
      "30-May-25 21:36:05 Banned Tbl : Nwbfile\n",
      "[21:36:05][INFO] Spyglass: Banned Tbl : Subject\n",
      "30-May-25 21:36:05 Banned Tbl : Subject\n",
      "[21:36:05][INFO] Spyglass: Banned Tbl : Institution\n",
      "30-May-25 21:36:05 Banned Tbl : Institution\n",
      "[21:36:05][INFO] Spyglass: Banned Tbl : Lab\n",
      "30-May-25 21:36:05 Banned Tbl : Lab\n",
      "[21:36:05][INFO] Spyglass: Banned Tbl : SessionDataAcquisitionDevice\n",
      "30-May-25 21:36:05 Banned Tbl : SessionDataAcquisitionDevice\n",
      "[21:36:05][INFO] Spyglass: Banned Tbl : SessionExperimenter\n",
      "30-May-25 21:36:05 Banned Tbl : SessionExperimenter\n",
      "[21:36:06][INFO] Spyglass: Queueing delete for session(s):\n",
      "*nwb_file_name *lab_member_na\n",
      "+------------+ +------------+\n",
      "klein20231102_ Shijie Gu     \n",
      " (Total: 1)\n",
      "\n",
      "30-May-25 21:36:06 Queueing delete for session(s):\n",
      "*nwb_file_name *lab_member_na\n",
      "+------------+ +------------+\n",
      "klein20231102_ Shijie Gu     \n",
      " (Total: 1)\n",
      "\n",
      "[2025-05-30 21:36:06,053][INFO]: Deleting 1 rows from `common_interval`.`interval_list`\n",
      "30-May-25 21:36:06 Deleting 1 rows from `common_interval`.`interval_list`\n"
     ]
    },
    {
     "name": "stdin",
     "output_type": "stream",
     "text": [
      "Commit deletes? [yes, No]:  yes\n"
     ]
    },
    {
     "name": "stderr",
     "output_type": "stream",
     "text": [
      "[2025-05-30 21:36:07,536][INFO]: Deletes committed.\n",
      "30-May-25 21:36:07 Deletes committed.\n",
      "[21:36:11][INFO] Spyglass: Path Found : ['`common_session`.`_session`', '`common_interval`.`interval_list`'...\n",
      "30-May-25 21:36:11 Path Found : ['`common_session`.`_session`', '`common_interval`.`interval_list`'...\n",
      "[21:36:11][INFO] Spyglass: Checking  0: IntervalList -> ['Session']\n",
      "30-May-25 21:36:11 Checking  0: IntervalList -> ['Session']\n",
      "[21:36:11][INFO] Spyglass: Bridge Link: IntervalList -> Session: result partial\n",
      "30-May-25 21:36:11 Bridge Link: IntervalList -> Session: result partial\n",
      "[21:36:11][INFO] Spyglass: Checking  1: Session -> ['Nwbfile', 'Subject', 'Institution', 'Lab', 'SessionDat...\n",
      "30-May-25 21:36:11 Checking  1: Session -> ['Nwbfile', 'Subject', 'Institution', 'Lab', 'SessionDat...\n",
      "[21:36:11][INFO] Spyglass: Banned Tbl : Nwbfile\n",
      "30-May-25 21:36:11 Banned Tbl : Nwbfile\n",
      "[21:36:11][INFO] Spyglass: Banned Tbl : Subject\n",
      "30-May-25 21:36:11 Banned Tbl : Subject\n",
      "[21:36:11][INFO] Spyglass: Banned Tbl : Institution\n",
      "30-May-25 21:36:11 Banned Tbl : Institution\n",
      "[21:36:11][INFO] Spyglass: Banned Tbl : Lab\n",
      "30-May-25 21:36:11 Banned Tbl : Lab\n",
      "[21:36:11][INFO] Spyglass: Banned Tbl : SessionDataAcquisitionDevice\n",
      "30-May-25 21:36:11 Banned Tbl : SessionDataAcquisitionDevice\n",
      "[21:36:11][INFO] Spyglass: Banned Tbl : SessionExperimenter\n",
      "30-May-25 21:36:11 Banned Tbl : SessionExperimenter\n",
      "[21:36:11][INFO] Spyglass: Queueing delete for session(s):\n",
      "*nwb_file_name *lab_member_na\n",
      "+------------+ +------------+\n",
      "klein20231102_ Shijie Gu     \n",
      " (Total: 1)\n",
      "\n",
      "30-May-25 21:36:11 Queueing delete for session(s):\n",
      "*nwb_file_name *lab_member_na\n",
      "+------------+ +------------+\n",
      "klein20231102_ Shijie Gu     \n",
      " (Total: 1)\n",
      "\n",
      "[2025-05-30 21:36:11,795][INFO]: Deleting 1 rows from `common_interval`.`interval_list`\n",
      "30-May-25 21:36:11 Deleting 1 rows from `common_interval`.`interval_list`\n"
     ]
    },
    {
     "name": "stdin",
     "output_type": "stream",
     "text": [
      "Commit deletes? [yes, No]:  yes\n"
     ]
    },
    {
     "name": "stderr",
     "output_type": "stream",
     "text": [
      "[2025-05-30 21:36:13,413][INFO]: Deletes committed.\n",
      "30-May-25 21:36:13 Deletes committed.\n",
      "[21:36:17][INFO] Spyglass: Path Found : ['`common_session`.`_session`', '`common_interval`.`interval_list`'...\n",
      "30-May-25 21:36:17 Path Found : ['`common_session`.`_session`', '`common_interval`.`interval_list`'...\n",
      "[21:36:17][INFO] Spyglass: Checking  0: IntervalList -> ['Session']\n",
      "30-May-25 21:36:17 Checking  0: IntervalList -> ['Session']\n",
      "[21:36:17][INFO] Spyglass: Bridge Link: IntervalList -> Session: result partial\n",
      "30-May-25 21:36:17 Bridge Link: IntervalList -> Session: result partial\n",
      "[21:36:17][INFO] Spyglass: Checking  1: Session -> ['Nwbfile', 'Subject', 'Institution', 'Lab', 'SessionDat...\n",
      "30-May-25 21:36:17 Checking  1: Session -> ['Nwbfile', 'Subject', 'Institution', 'Lab', 'SessionDat...\n",
      "[21:36:17][INFO] Spyglass: Banned Tbl : Nwbfile\n",
      "30-May-25 21:36:17 Banned Tbl : Nwbfile\n",
      "[21:36:17][INFO] Spyglass: Banned Tbl : Subject\n",
      "30-May-25 21:36:17 Banned Tbl : Subject\n",
      "[21:36:17][INFO] Spyglass: Banned Tbl : Institution\n",
      "30-May-25 21:36:17 Banned Tbl : Institution\n",
      "[21:36:17][INFO] Spyglass: Banned Tbl : Lab\n",
      "30-May-25 21:36:17 Banned Tbl : Lab\n",
      "[21:36:17][INFO] Spyglass: Banned Tbl : SessionDataAcquisitionDevice\n",
      "30-May-25 21:36:17 Banned Tbl : SessionDataAcquisitionDevice\n",
      "[21:36:17][INFO] Spyglass: Banned Tbl : SessionExperimenter\n",
      "30-May-25 21:36:17 Banned Tbl : SessionExperimenter\n",
      "[21:36:17][INFO] Spyglass: Queueing delete for session(s):\n",
      "*nwb_file_name *lab_member_na\n",
      "+------------+ +------------+\n",
      "klein20231102_ Shijie Gu     \n",
      " (Total: 1)\n",
      "\n",
      "30-May-25 21:36:17 Queueing delete for session(s):\n",
      "*nwb_file_name *lab_member_na\n",
      "+------------+ +------------+\n",
      "klein20231102_ Shijie Gu     \n",
      " (Total: 1)\n",
      "\n",
      "[2025-05-30 21:36:17,833][INFO]: Deleting 1 rows from `common_interval`.`interval_list`\n",
      "30-May-25 21:36:17 Deleting 1 rows from `common_interval`.`interval_list`\n"
     ]
    },
    {
     "name": "stdin",
     "output_type": "stream",
     "text": [
      "Commit deletes? [yes, No]:  yes\n"
     ]
    },
    {
     "name": "stderr",
     "output_type": "stream",
     "text": [
      "[2025-05-30 21:36:19,779][INFO]: Deletes committed.\n",
      "30-May-25 21:36:19 Deletes committed.\n",
      "[21:36:24][INFO] Spyglass: Path Found : ['`common_session`.`_session`', '`common_interval`.`interval_list`'...\n",
      "30-May-25 21:36:24 Path Found : ['`common_session`.`_session`', '`common_interval`.`interval_list`'...\n",
      "[21:36:24][INFO] Spyglass: Checking  0: IntervalList -> ['Session']\n",
      "30-May-25 21:36:24 Checking  0: IntervalList -> ['Session']\n",
      "[21:36:24][INFO] Spyglass: Bridge Link: IntervalList -> Session: result partial\n",
      "30-May-25 21:36:24 Bridge Link: IntervalList -> Session: result partial\n",
      "[21:36:24][INFO] Spyglass: Checking  1: Session -> ['Nwbfile', 'Subject', 'Institution', 'Lab', 'SessionDat...\n",
      "30-May-25 21:36:24 Checking  1: Session -> ['Nwbfile', 'Subject', 'Institution', 'Lab', 'SessionDat...\n",
      "[21:36:24][INFO] Spyglass: Banned Tbl : Nwbfile\n",
      "30-May-25 21:36:24 Banned Tbl : Nwbfile\n",
      "[21:36:24][INFO] Spyglass: Banned Tbl : Subject\n",
      "30-May-25 21:36:24 Banned Tbl : Subject\n",
      "[21:36:24][INFO] Spyglass: Banned Tbl : Institution\n",
      "30-May-25 21:36:24 Banned Tbl : Institution\n",
      "[21:36:24][INFO] Spyglass: Banned Tbl : Lab\n",
      "30-May-25 21:36:24 Banned Tbl : Lab\n",
      "[21:36:24][INFO] Spyglass: Banned Tbl : SessionDataAcquisitionDevice\n",
      "30-May-25 21:36:24 Banned Tbl : SessionDataAcquisitionDevice\n",
      "[21:36:24][INFO] Spyglass: Banned Tbl : SessionExperimenter\n",
      "30-May-25 21:36:24 Banned Tbl : SessionExperimenter\n",
      "[21:36:24][INFO] Spyglass: Queueing delete for session(s):\n",
      "*nwb_file_name *lab_member_na\n",
      "+------------+ +------------+\n",
      "klein20231102_ Shijie Gu     \n",
      " (Total: 1)\n",
      "\n",
      "30-May-25 21:36:24 Queueing delete for session(s):\n",
      "*nwb_file_name *lab_member_na\n",
      "+------------+ +------------+\n",
      "klein20231102_ Shijie Gu     \n",
      " (Total: 1)\n",
      "\n",
      "[2025-05-30 21:36:24,568][INFO]: Deleting 1 rows from `common_interval`.`interval_list`\n",
      "30-May-25 21:36:24 Deleting 1 rows from `common_interval`.`interval_list`\n"
     ]
    },
    {
     "name": "stdin",
     "output_type": "stream",
     "text": [
      "Commit deletes? [yes, No]:  yes\n"
     ]
    },
    {
     "name": "stderr",
     "output_type": "stream",
     "text": [
      "[2025-05-30 21:36:25,971][INFO]: Deletes committed.\n",
      "30-May-25 21:36:25 Deletes committed.\n",
      "[21:36:30][INFO] Spyglass: Path Found : ['`common_session`.`_session`', '`common_interval`.`interval_list`'...\n",
      "30-May-25 21:36:30 Path Found : ['`common_session`.`_session`', '`common_interval`.`interval_list`'...\n",
      "[21:36:30][INFO] Spyglass: Checking  0: IntervalList -> ['Session']\n",
      "30-May-25 21:36:30 Checking  0: IntervalList -> ['Session']\n",
      "[21:36:30][INFO] Spyglass: Bridge Link: IntervalList -> Session: result partial\n",
      "30-May-25 21:36:30 Bridge Link: IntervalList -> Session: result partial\n",
      "[21:36:30][INFO] Spyglass: Checking  1: Session -> ['Nwbfile', 'Subject', 'Institution', 'Lab', 'SessionDat...\n",
      "30-May-25 21:36:30 Checking  1: Session -> ['Nwbfile', 'Subject', 'Institution', 'Lab', 'SessionDat...\n",
      "[21:36:30][INFO] Spyglass: Banned Tbl : Nwbfile\n",
      "30-May-25 21:36:30 Banned Tbl : Nwbfile\n",
      "[21:36:30][INFO] Spyglass: Banned Tbl : Subject\n",
      "30-May-25 21:36:30 Banned Tbl : Subject\n",
      "[21:36:30][INFO] Spyglass: Banned Tbl : Institution\n",
      "30-May-25 21:36:30 Banned Tbl : Institution\n",
      "[21:36:30][INFO] Spyglass: Banned Tbl : Lab\n",
      "30-May-25 21:36:30 Banned Tbl : Lab\n",
      "[21:36:30][INFO] Spyglass: Banned Tbl : SessionDataAcquisitionDevice\n",
      "30-May-25 21:36:30 Banned Tbl : SessionDataAcquisitionDevice\n",
      "[21:36:30][INFO] Spyglass: Banned Tbl : SessionExperimenter\n",
      "30-May-25 21:36:30 Banned Tbl : SessionExperimenter\n",
      "[21:36:30][INFO] Spyglass: Queueing delete for session(s):\n",
      "*nwb_file_name *lab_member_na\n",
      "+------------+ +------------+\n",
      "klein20231102_ Shijie Gu     \n",
      " (Total: 1)\n",
      "\n",
      "30-May-25 21:36:30 Queueing delete for session(s):\n",
      "*nwb_file_name *lab_member_na\n",
      "+------------+ +------------+\n",
      "klein20231102_ Shijie Gu     \n",
      " (Total: 1)\n",
      "\n",
      "[2025-05-30 21:36:30,607][INFO]: Deleting 1 rows from `common_interval`.`interval_list`\n",
      "30-May-25 21:36:30 Deleting 1 rows from `common_interval`.`interval_list`\n"
     ]
    },
    {
     "name": "stdin",
     "output_type": "stream",
     "text": [
      "Commit deletes? [yes, No]:  yes\n"
     ]
    },
    {
     "name": "stderr",
     "output_type": "stream",
     "text": [
      "[2025-05-30 21:37:27,015][INFO]: Deletes committed.\n",
      "30-May-25 21:37:27 Deletes committed.\n",
      "[21:37:31][INFO] Spyglass: Path Found : ['`common_session`.`_session`', '`common_interval`.`interval_list`'...\n",
      "30-May-25 21:37:31 Path Found : ['`common_session`.`_session`', '`common_interval`.`interval_list`'...\n",
      "[21:37:31][INFO] Spyglass: Checking  0: IntervalList -> ['Session']\n",
      "30-May-25 21:37:31 Checking  0: IntervalList -> ['Session']\n",
      "[21:37:31][INFO] Spyglass: Bridge Link: IntervalList -> Session: result partial\n",
      "30-May-25 21:37:31 Bridge Link: IntervalList -> Session: result partial\n",
      "[21:37:31][INFO] Spyglass: Checking  1: Session -> ['Nwbfile', 'Subject', 'Institution', 'Lab', 'SessionDat...\n",
      "30-May-25 21:37:31 Checking  1: Session -> ['Nwbfile', 'Subject', 'Institution', 'Lab', 'SessionDat...\n",
      "[21:37:31][INFO] Spyglass: Banned Tbl : Nwbfile\n",
      "30-May-25 21:37:31 Banned Tbl : Nwbfile\n",
      "[21:37:31][INFO] Spyglass: Banned Tbl : Subject\n",
      "30-May-25 21:37:31 Banned Tbl : Subject\n",
      "[21:37:31][INFO] Spyglass: Banned Tbl : Institution\n",
      "30-May-25 21:37:31 Banned Tbl : Institution\n",
      "[21:37:31][INFO] Spyglass: Banned Tbl : Lab\n",
      "30-May-25 21:37:31 Banned Tbl : Lab\n",
      "[21:37:31][INFO] Spyglass: Banned Tbl : SessionDataAcquisitionDevice\n",
      "30-May-25 21:37:31 Banned Tbl : SessionDataAcquisitionDevice\n",
      "[21:37:31][INFO] Spyglass: Banned Tbl : SessionExperimenter\n",
      "30-May-25 21:37:31 Banned Tbl : SessionExperimenter\n",
      "[21:37:31][INFO] Spyglass: Queueing delete for session(s):\n",
      "*nwb_file_name *lab_member_na\n",
      "+------------+ +------------+\n",
      "klein20231102_ Shijie Gu     \n",
      " (Total: 1)\n",
      "\n",
      "30-May-25 21:37:31 Queueing delete for session(s):\n",
      "*nwb_file_name *lab_member_na\n",
      "+------------+ +------------+\n",
      "klein20231102_ Shijie Gu     \n",
      " (Total: 1)\n",
      "\n",
      "[2025-05-30 21:37:31,980][INFO]: Deleting 1 rows from `common_interval`.`interval_list`\n",
      "30-May-25 21:37:31 Deleting 1 rows from `common_interval`.`interval_list`\n"
     ]
    },
    {
     "name": "stdin",
     "output_type": "stream",
     "text": [
      "Commit deletes? [yes, No]:  yes\n"
     ]
    },
    {
     "name": "stderr",
     "output_type": "stream",
     "text": [
      "[2025-05-30 21:37:33,350][INFO]: Deletes committed.\n",
      "30-May-25 21:37:33 Deletes committed.\n",
      "[21:37:37][INFO] Spyglass: Path Found : ['`common_session`.`_session`', '`common_interval`.`interval_list`'...\n",
      "30-May-25 21:37:37 Path Found : ['`common_session`.`_session`', '`common_interval`.`interval_list`'...\n",
      "[21:37:37][INFO] Spyglass: Checking  0: IntervalList -> ['Session']\n",
      "30-May-25 21:37:37 Checking  0: IntervalList -> ['Session']\n",
      "[21:37:37][INFO] Spyglass: Bridge Link: IntervalList -> Session: result partial\n",
      "30-May-25 21:37:37 Bridge Link: IntervalList -> Session: result partial\n",
      "[21:37:37][INFO] Spyglass: Checking  1: Session -> ['Nwbfile', 'Subject', 'Institution', 'Lab', 'SessionDat...\n",
      "30-May-25 21:37:37 Checking  1: Session -> ['Nwbfile', 'Subject', 'Institution', 'Lab', 'SessionDat...\n",
      "[21:37:37][INFO] Spyglass: Banned Tbl : Nwbfile\n",
      "30-May-25 21:37:37 Banned Tbl : Nwbfile\n",
      "[21:37:37][INFO] Spyglass: Banned Tbl : Subject\n",
      "30-May-25 21:37:37 Banned Tbl : Subject\n",
      "[21:37:37][INFO] Spyglass: Banned Tbl : Institution\n",
      "30-May-25 21:37:37 Banned Tbl : Institution\n",
      "[21:37:37][INFO] Spyglass: Banned Tbl : Lab\n",
      "30-May-25 21:37:37 Banned Tbl : Lab\n",
      "[21:37:37][INFO] Spyglass: Banned Tbl : SessionDataAcquisitionDevice\n",
      "30-May-25 21:37:37 Banned Tbl : SessionDataAcquisitionDevice\n",
      "[21:37:37][INFO] Spyglass: Banned Tbl : SessionExperimenter\n",
      "30-May-25 21:37:37 Banned Tbl : SessionExperimenter\n",
      "[21:37:37][INFO] Spyglass: Queueing delete for session(s):\n",
      "*nwb_file_name *lab_member_na\n",
      "+------------+ +------------+\n",
      "klein20231102_ Shijie Gu     \n",
      " (Total: 1)\n",
      "\n",
      "30-May-25 21:37:37 Queueing delete for session(s):\n",
      "*nwb_file_name *lab_member_na\n",
      "+------------+ +------------+\n",
      "klein20231102_ Shijie Gu     \n",
      " (Total: 1)\n",
      "\n",
      "[2025-05-30 21:37:37,930][INFO]: Deleting 1 rows from `common_interval`.`interval_list`\n",
      "30-May-25 21:37:37 Deleting 1 rows from `common_interval`.`interval_list`\n"
     ]
    },
    {
     "name": "stdin",
     "output_type": "stream",
     "text": [
      "Commit deletes? [yes, No]:  yes\n"
     ]
    },
    {
     "name": "stderr",
     "output_type": "stream",
     "text": [
      "[2025-05-30 21:37:39,457][INFO]: Deletes committed.\n",
      "30-May-25 21:37:39 Deletes committed.\n",
      "[21:37:43][INFO] Spyglass: Path Found : ['`common_session`.`_session`', '`common_interval`.`interval_list`'...\n",
      "30-May-25 21:37:43 Path Found : ['`common_session`.`_session`', '`common_interval`.`interval_list`'...\n",
      "[21:37:43][INFO] Spyglass: Checking  0: IntervalList -> ['Session']\n",
      "30-May-25 21:37:43 Checking  0: IntervalList -> ['Session']\n",
      "[21:37:43][INFO] Spyglass: Bridge Link: IntervalList -> Session: result partial\n",
      "30-May-25 21:37:43 Bridge Link: IntervalList -> Session: result partial\n",
      "[21:37:43][INFO] Spyglass: Checking  1: Session -> ['Nwbfile', 'Subject', 'Institution', 'Lab', 'SessionDat...\n",
      "30-May-25 21:37:43 Checking  1: Session -> ['Nwbfile', 'Subject', 'Institution', 'Lab', 'SessionDat...\n",
      "[21:37:43][INFO] Spyglass: Banned Tbl : Nwbfile\n",
      "30-May-25 21:37:43 Banned Tbl : Nwbfile\n",
      "[21:37:43][INFO] Spyglass: Banned Tbl : Subject\n",
      "30-May-25 21:37:43 Banned Tbl : Subject\n",
      "[21:37:43][INFO] Spyglass: Banned Tbl : Institution\n",
      "30-May-25 21:37:43 Banned Tbl : Institution\n",
      "[21:37:43][INFO] Spyglass: Banned Tbl : Lab\n",
      "30-May-25 21:37:43 Banned Tbl : Lab\n",
      "[21:37:43][INFO] Spyglass: Banned Tbl : SessionDataAcquisitionDevice\n",
      "30-May-25 21:37:43 Banned Tbl : SessionDataAcquisitionDevice\n",
      "[21:37:43][INFO] Spyglass: Banned Tbl : SessionExperimenter\n",
      "30-May-25 21:37:43 Banned Tbl : SessionExperimenter\n",
      "[21:37:43][INFO] Spyglass: Queueing delete for session(s):\n",
      "*nwb_file_name *lab_member_na\n",
      "+------------+ +------------+\n",
      "klein20231102_ Shijie Gu     \n",
      " (Total: 1)\n",
      "\n",
      "30-May-25 21:37:43 Queueing delete for session(s):\n",
      "*nwb_file_name *lab_member_na\n",
      "+------------+ +------------+\n",
      "klein20231102_ Shijie Gu     \n",
      " (Total: 1)\n",
      "\n",
      "[2025-05-30 21:37:43,792][INFO]: Deleting 1 rows from `common_interval`.`interval_list`\n",
      "30-May-25 21:37:43 Deleting 1 rows from `common_interval`.`interval_list`\n"
     ]
    },
    {
     "name": "stdin",
     "output_type": "stream",
     "text": [
      "Commit deletes? [yes, No]:  yes\n"
     ]
    },
    {
     "name": "stderr",
     "output_type": "stream",
     "text": [
      "[2025-05-30 21:37:45,668][INFO]: Deletes committed.\n",
      "30-May-25 21:37:45 Deletes committed.\n",
      "[21:37:49][INFO] Spyglass: Path Found : ['`common_session`.`_session`', '`common_interval`.`interval_list`'...\n",
      "30-May-25 21:37:49 Path Found : ['`common_session`.`_session`', '`common_interval`.`interval_list`'...\n",
      "[21:37:49][INFO] Spyglass: Checking  0: IntervalList -> ['Session']\n",
      "30-May-25 21:37:49 Checking  0: IntervalList -> ['Session']\n",
      "[21:37:49][INFO] Spyglass: Bridge Link: IntervalList -> Session: result partial\n",
      "30-May-25 21:37:49 Bridge Link: IntervalList -> Session: result partial\n",
      "[21:37:49][INFO] Spyglass: Checking  1: Session -> ['Nwbfile', 'Subject', 'Institution', 'Lab', 'SessionDat...\n",
      "30-May-25 21:37:49 Checking  1: Session -> ['Nwbfile', 'Subject', 'Institution', 'Lab', 'SessionDat...\n",
      "[21:37:49][INFO] Spyglass: Banned Tbl : Nwbfile\n",
      "30-May-25 21:37:49 Banned Tbl : Nwbfile\n",
      "[21:37:49][INFO] Spyglass: Banned Tbl : Subject\n",
      "30-May-25 21:37:49 Banned Tbl : Subject\n",
      "[21:37:49][INFO] Spyglass: Banned Tbl : Institution\n",
      "30-May-25 21:37:49 Banned Tbl : Institution\n",
      "[21:37:49][INFO] Spyglass: Banned Tbl : Lab\n",
      "30-May-25 21:37:49 Banned Tbl : Lab\n",
      "[21:37:49][INFO] Spyglass: Banned Tbl : SessionDataAcquisitionDevice\n",
      "30-May-25 21:37:49 Banned Tbl : SessionDataAcquisitionDevice\n",
      "[21:37:49][INFO] Spyglass: Banned Tbl : SessionExperimenter\n",
      "30-May-25 21:37:49 Banned Tbl : SessionExperimenter\n",
      "[21:37:49][INFO] Spyglass: Queueing delete for session(s):\n",
      "*nwb_file_name *lab_member_na\n",
      "+------------+ +------------+\n",
      "klein20231102_ Shijie Gu     \n",
      " (Total: 1)\n",
      "\n",
      "30-May-25 21:37:49 Queueing delete for session(s):\n",
      "*nwb_file_name *lab_member_na\n",
      "+------------+ +------------+\n",
      "klein20231102_ Shijie Gu     \n",
      " (Total: 1)\n",
      "\n",
      "[2025-05-30 21:37:49,926][INFO]: Deleting 1 rows from `common_interval`.`interval_list`\n",
      "30-May-25 21:37:49 Deleting 1 rows from `common_interval`.`interval_list`\n"
     ]
    },
    {
     "name": "stdin",
     "output_type": "stream",
     "text": [
      "Commit deletes? [yes, No]:  yes\n"
     ]
    },
    {
     "name": "stderr",
     "output_type": "stream",
     "text": [
      "[2025-05-30 21:37:51,615][INFO]: Deletes committed.\n",
      "30-May-25 21:37:51 Deletes committed.\n",
      "[21:37:55][INFO] Spyglass: Path Found : ['`common_session`.`_session`', '`common_interval`.`interval_list`'...\n",
      "30-May-25 21:37:55 Path Found : ['`common_session`.`_session`', '`common_interval`.`interval_list`'...\n",
      "[21:37:55][INFO] Spyglass: Checking  0: IntervalList -> ['Session']\n",
      "30-May-25 21:37:55 Checking  0: IntervalList -> ['Session']\n",
      "[21:37:55][INFO] Spyglass: Bridge Link: IntervalList -> Session: result partial\n",
      "30-May-25 21:37:55 Bridge Link: IntervalList -> Session: result partial\n",
      "[21:37:55][INFO] Spyglass: Checking  1: Session -> ['Nwbfile', 'Subject', 'Institution', 'Lab', 'SessionDat...\n",
      "30-May-25 21:37:55 Checking  1: Session -> ['Nwbfile', 'Subject', 'Institution', 'Lab', 'SessionDat...\n",
      "[21:37:55][INFO] Spyglass: Banned Tbl : Nwbfile\n",
      "30-May-25 21:37:55 Banned Tbl : Nwbfile\n",
      "[21:37:55][INFO] Spyglass: Banned Tbl : Subject\n",
      "30-May-25 21:37:55 Banned Tbl : Subject\n",
      "[21:37:55][INFO] Spyglass: Banned Tbl : Institution\n",
      "30-May-25 21:37:55 Banned Tbl : Institution\n",
      "[21:37:55][INFO] Spyglass: Banned Tbl : Lab\n",
      "30-May-25 21:37:55 Banned Tbl : Lab\n",
      "[21:37:55][INFO] Spyglass: Banned Tbl : SessionDataAcquisitionDevice\n",
      "30-May-25 21:37:55 Banned Tbl : SessionDataAcquisitionDevice\n",
      "[21:37:55][INFO] Spyglass: Banned Tbl : SessionExperimenter\n",
      "30-May-25 21:37:55 Banned Tbl : SessionExperimenter\n",
      "[21:37:55][INFO] Spyglass: Queueing delete for session(s):\n",
      "*nwb_file_name *lab_member_na\n",
      "+------------+ +------------+\n",
      "klein20231102_ Shijie Gu     \n",
      " (Total: 1)\n",
      "\n",
      "30-May-25 21:37:55 Queueing delete for session(s):\n",
      "*nwb_file_name *lab_member_na\n",
      "+------------+ +------------+\n",
      "klein20231102_ Shijie Gu     \n",
      " (Total: 1)\n",
      "\n",
      "[2025-05-30 21:37:55,553][INFO]: Deleting 1 rows from `common_interval`.`interval_list`\n",
      "30-May-25 21:37:55 Deleting 1 rows from `common_interval`.`interval_list`\n"
     ]
    },
    {
     "name": "stdin",
     "output_type": "stream",
     "text": [
      "Commit deletes? [yes, No]:  yes\n"
     ]
    },
    {
     "name": "stderr",
     "output_type": "stream",
     "text": [
      "[2025-05-30 21:37:57,708][INFO]: Deletes committed.\n",
      "30-May-25 21:37:57 Deletes committed.\n",
      "[21:38:02][INFO] Spyglass: Path Found : ['`common_session`.`_session`', '`common_interval`.`interval_list`'...\n",
      "30-May-25 21:38:02 Path Found : ['`common_session`.`_session`', '`common_interval`.`interval_list`'...\n",
      "[21:38:02][INFO] Spyglass: Checking  0: IntervalList -> ['Session']\n",
      "30-May-25 21:38:02 Checking  0: IntervalList -> ['Session']\n",
      "[21:38:02][INFO] Spyglass: Bridge Link: IntervalList -> Session: result partial\n",
      "30-May-25 21:38:02 Bridge Link: IntervalList -> Session: result partial\n",
      "[21:38:02][INFO] Spyglass: Checking  1: Session -> ['Nwbfile', 'Subject', 'Institution', 'Lab', 'SessionDat...\n",
      "30-May-25 21:38:02 Checking  1: Session -> ['Nwbfile', 'Subject', 'Institution', 'Lab', 'SessionDat...\n",
      "[21:38:02][INFO] Spyglass: Banned Tbl : Nwbfile\n",
      "30-May-25 21:38:02 Banned Tbl : Nwbfile\n",
      "[21:38:02][INFO] Spyglass: Banned Tbl : Subject\n",
      "30-May-25 21:38:02 Banned Tbl : Subject\n",
      "[21:38:02][INFO] Spyglass: Banned Tbl : Institution\n",
      "30-May-25 21:38:02 Banned Tbl : Institution\n",
      "[21:38:02][INFO] Spyglass: Banned Tbl : Lab\n",
      "30-May-25 21:38:02 Banned Tbl : Lab\n",
      "[21:38:02][INFO] Spyglass: Banned Tbl : SessionDataAcquisitionDevice\n",
      "30-May-25 21:38:02 Banned Tbl : SessionDataAcquisitionDevice\n",
      "[21:38:02][INFO] Spyglass: Banned Tbl : SessionExperimenter\n",
      "30-May-25 21:38:02 Banned Tbl : SessionExperimenter\n",
      "[21:38:02][INFO] Spyglass: Queueing delete for session(s):\n",
      "*nwb_file_name *lab_member_na\n",
      "+------------+ +------------+\n",
      "klein20231102_ Shijie Gu     \n",
      " (Total: 1)\n",
      "\n",
      "30-May-25 21:38:02 Queueing delete for session(s):\n",
      "*nwb_file_name *lab_member_na\n",
      "+------------+ +------------+\n",
      "klein20231102_ Shijie Gu     \n",
      " (Total: 1)\n",
      "\n",
      "[2025-05-30 21:38:02,697][INFO]: Deleting 1 rows from `common_interval`.`interval_list`\n",
      "30-May-25 21:38:02 Deleting 1 rows from `common_interval`.`interval_list`\n"
     ]
    },
    {
     "name": "stdin",
     "output_type": "stream",
     "text": [
      "Commit deletes? [yes, No]:  yes\n"
     ]
    },
    {
     "name": "stderr",
     "output_type": "stream",
     "text": [
      "[2025-05-30 21:38:06,669][INFO]: Deletes committed.\n",
      "30-May-25 21:38:06 Deletes committed.\n",
      "[21:38:11][INFO] Spyglass: Path Found : ['`common_session`.`_session`', '`common_interval`.`interval_list`'...\n",
      "30-May-25 21:38:11 Path Found : ['`common_session`.`_session`', '`common_interval`.`interval_list`'...\n",
      "[21:38:11][INFO] Spyglass: Checking  0: IntervalList -> ['Session']\n",
      "30-May-25 21:38:11 Checking  0: IntervalList -> ['Session']\n",
      "[21:38:11][INFO] Spyglass: Bridge Link: IntervalList -> Session: result partial\n",
      "30-May-25 21:38:11 Bridge Link: IntervalList -> Session: result partial\n",
      "[21:38:11][INFO] Spyglass: Checking  1: Session -> ['Nwbfile', 'Subject', 'Institution', 'Lab', 'SessionDat...\n",
      "30-May-25 21:38:11 Checking  1: Session -> ['Nwbfile', 'Subject', 'Institution', 'Lab', 'SessionDat...\n",
      "[21:38:11][INFO] Spyglass: Banned Tbl : Nwbfile\n",
      "30-May-25 21:38:11 Banned Tbl : Nwbfile\n",
      "[21:38:11][INFO] Spyglass: Banned Tbl : Subject\n",
      "30-May-25 21:38:11 Banned Tbl : Subject\n",
      "[21:38:11][INFO] Spyglass: Banned Tbl : Institution\n",
      "30-May-25 21:38:11 Banned Tbl : Institution\n",
      "[21:38:11][INFO] Spyglass: Banned Tbl : Lab\n",
      "30-May-25 21:38:11 Banned Tbl : Lab\n",
      "[21:38:11][INFO] Spyglass: Banned Tbl : SessionDataAcquisitionDevice\n",
      "30-May-25 21:38:11 Banned Tbl : SessionDataAcquisitionDevice\n",
      "[21:38:11][INFO] Spyglass: Banned Tbl : SessionExperimenter\n",
      "30-May-25 21:38:11 Banned Tbl : SessionExperimenter\n",
      "[21:38:11][INFO] Spyglass: Queueing delete for session(s):\n",
      "*nwb_file_name *lab_member_na\n",
      "+------------+ +------------+\n",
      "klein20231102_ Shijie Gu     \n",
      " (Total: 1)\n",
      "\n",
      "30-May-25 21:38:11 Queueing delete for session(s):\n",
      "*nwb_file_name *lab_member_na\n",
      "+------------+ +------------+\n",
      "klein20231102_ Shijie Gu     \n",
      " (Total: 1)\n",
      "\n",
      "[2025-05-30 21:38:11,809][INFO]: Deleting 1 rows from `common_interval`.`interval_list`\n",
      "30-May-25 21:38:11 Deleting 1 rows from `common_interval`.`interval_list`\n"
     ]
    },
    {
     "name": "stdin",
     "output_type": "stream",
     "text": [
      "Commit deletes? [yes, No]:  yes\n"
     ]
    },
    {
     "name": "stderr",
     "output_type": "stream",
     "text": [
      "[2025-05-30 21:38:14,488][INFO]: Deletes committed.\n",
      "30-May-25 21:38:14 Deletes committed.\n",
      "[21:38:19][INFO] Spyglass: Path Found : ['`common_session`.`_session`', '`common_interval`.`interval_list`'...\n",
      "30-May-25 21:38:19 Path Found : ['`common_session`.`_session`', '`common_interval`.`interval_list`'...\n",
      "[21:38:19][INFO] Spyglass: Checking  0: IntervalList -> ['Session']\n",
      "30-May-25 21:38:19 Checking  0: IntervalList -> ['Session']\n",
      "[21:38:19][INFO] Spyglass: Bridge Link: IntervalList -> Session: result partial\n",
      "30-May-25 21:38:19 Bridge Link: IntervalList -> Session: result partial\n",
      "[21:38:19][INFO] Spyglass: Checking  1: Session -> ['Nwbfile', 'Subject', 'Institution', 'Lab', 'SessionDat...\n",
      "30-May-25 21:38:19 Checking  1: Session -> ['Nwbfile', 'Subject', 'Institution', 'Lab', 'SessionDat...\n",
      "[21:38:19][INFO] Spyglass: Banned Tbl : Nwbfile\n",
      "30-May-25 21:38:19 Banned Tbl : Nwbfile\n",
      "[21:38:19][INFO] Spyglass: Banned Tbl : Subject\n",
      "30-May-25 21:38:19 Banned Tbl : Subject\n",
      "[21:38:19][INFO] Spyglass: Banned Tbl : Institution\n",
      "30-May-25 21:38:19 Banned Tbl : Institution\n",
      "[21:38:19][INFO] Spyglass: Banned Tbl : Lab\n",
      "30-May-25 21:38:19 Banned Tbl : Lab\n",
      "[21:38:19][INFO] Spyglass: Banned Tbl : SessionDataAcquisitionDevice\n",
      "30-May-25 21:38:19 Banned Tbl : SessionDataAcquisitionDevice\n",
      "[21:38:19][INFO] Spyglass: Banned Tbl : SessionExperimenter\n",
      "30-May-25 21:38:19 Banned Tbl : SessionExperimenter\n",
      "[21:38:19][INFO] Spyglass: Queueing delete for session(s):\n",
      "*nwb_file_name *lab_member_na\n",
      "+------------+ +------------+\n",
      "klein20231102_ Shijie Gu     \n",
      " (Total: 1)\n",
      "\n",
      "30-May-25 21:38:19 Queueing delete for session(s):\n",
      "*nwb_file_name *lab_member_na\n",
      "+------------+ +------------+\n",
      "klein20231102_ Shijie Gu     \n",
      " (Total: 1)\n",
      "\n",
      "[2025-05-30 21:38:19,480][INFO]: Deleting 1 rows from `common_interval`.`interval_list`\n",
      "30-May-25 21:38:19 Deleting 1 rows from `common_interval`.`interval_list`\n"
     ]
    },
    {
     "name": "stdin",
     "output_type": "stream",
     "text": [
      "Commit deletes? [yes, No]:  yes\n"
     ]
    },
    {
     "name": "stderr",
     "output_type": "stream",
     "text": [
      "[2025-05-30 21:38:21,002][INFO]: Deletes committed.\n",
      "30-May-25 21:38:21 Deletes committed.\n",
      "[21:38:25][INFO] Spyglass: Path Found : ['`common_session`.`_session`', '`common_interval`.`interval_list`'...\n",
      "30-May-25 21:38:25 Path Found : ['`common_session`.`_session`', '`common_interval`.`interval_list`'...\n",
      "[21:38:25][INFO] Spyglass: Checking  0: IntervalList -> ['Session']\n",
      "30-May-25 21:38:25 Checking  0: IntervalList -> ['Session']\n",
      "[21:38:25][INFO] Spyglass: Bridge Link: IntervalList -> Session: result partial\n",
      "30-May-25 21:38:25 Bridge Link: IntervalList -> Session: result partial\n",
      "[21:38:25][INFO] Spyglass: Checking  1: Session -> ['Nwbfile', 'Subject', 'Institution', 'Lab', 'SessionDat...\n",
      "30-May-25 21:38:25 Checking  1: Session -> ['Nwbfile', 'Subject', 'Institution', 'Lab', 'SessionDat...\n",
      "[21:38:25][INFO] Spyglass: Banned Tbl : Nwbfile\n",
      "30-May-25 21:38:25 Banned Tbl : Nwbfile\n",
      "[21:38:25][INFO] Spyglass: Banned Tbl : Subject\n",
      "30-May-25 21:38:25 Banned Tbl : Subject\n",
      "[21:38:25][INFO] Spyglass: Banned Tbl : Institution\n",
      "30-May-25 21:38:25 Banned Tbl : Institution\n",
      "[21:38:25][INFO] Spyglass: Banned Tbl : Lab\n",
      "30-May-25 21:38:25 Banned Tbl : Lab\n",
      "[21:38:25][INFO] Spyglass: Banned Tbl : SessionDataAcquisitionDevice\n",
      "30-May-25 21:38:25 Banned Tbl : SessionDataAcquisitionDevice\n",
      "[21:38:25][INFO] Spyglass: Banned Tbl : SessionExperimenter\n",
      "30-May-25 21:38:25 Banned Tbl : SessionExperimenter\n",
      "[21:38:25][INFO] Spyglass: Queueing delete for session(s):\n",
      "*nwb_file_name *lab_member_na\n",
      "+------------+ +------------+\n",
      "klein20231102_ Shijie Gu     \n",
      " (Total: 1)\n",
      "\n",
      "30-May-25 21:38:25 Queueing delete for session(s):\n",
      "*nwb_file_name *lab_member_na\n",
      "+------------+ +------------+\n",
      "klein20231102_ Shijie Gu     \n",
      " (Total: 1)\n",
      "\n",
      "[2025-05-30 21:38:25,586][INFO]: Deleting 1 rows from `common_interval`.`interval_list`\n",
      "30-May-25 21:38:25 Deleting 1 rows from `common_interval`.`interval_list`\n"
     ]
    },
    {
     "name": "stdin",
     "output_type": "stream",
     "text": [
      "Commit deletes? [yes, No]:  yes\n"
     ]
    },
    {
     "name": "stderr",
     "output_type": "stream",
     "text": [
      "[2025-05-30 21:38:27,189][INFO]: Deletes committed.\n",
      "30-May-25 21:38:27 Deletes committed.\n"
     ]
    }
   ],
   "source": [
    "for intvl in intvls:\n",
    "    if \"artifact\" in intvl:\n",
    "    #if \"06_Seq2Session3\" in intvl and \"track_time_only\" in intvl:\n",
    "        (IntervalList() & {'nwb_file_name' : nwb_copy_file_name,\n",
    "                   \"interval_list_name\":intvl}).delete()"
   ]
  },
  {
   "cell_type": "code",
   "execution_count": 14,
   "id": "e8ce9396-3bfb-444c-86f7-72e100b4fa0d",
   "metadata": {},
   "outputs": [
    {
     "data": {
      "text/plain": [
       "array(['julio20230811_.nwb_06_Seq2Session3_100_franklab_tetrode_hippocampus_ampl_100_prop_05_2ms_artifact_removed_valid_times',\n",
       "       'julio20230811_.nwb_06_Seq2Session3_101_franklab_tetrode_hippocampus_ampl_100_prop_05_2ms_artifact_removed_valid_times'],\n",
       "      dtype=object)"
      ]
     },
     "execution_count": 14,
     "metadata": {},
     "output_type": "execute_result"
    }
   ],
   "source": [
    "artifact_removed_name_list"
   ]
  },
  {
   "cell_type": "code",
   "execution_count": 16,
   "id": "7be12d51-e56a-4357-9b70-6e35b9606f57",
   "metadata": {},
   "outputs": [
    {
     "ename": "IndexError",
     "evalue": "list index out of range",
     "output_type": "error",
     "traceback": [
      "\u001b[0;31m---------------------------------------------------------------------------\u001b[0m",
      "\u001b[0;31mIndexError\u001b[0m                                Traceback (most recent call last)",
      "Cell \u001b[0;32mIn[16], line 5\u001b[0m\n\u001b[1;32m      1\u001b[0m fig, ax \u001b[38;5;241m=\u001b[39m plt\u001b[38;5;241m.\u001b[39msubplots(\u001b[38;5;241m1\u001b[39m,\u001b[38;5;241m1\u001b[39m,figsize \u001b[38;5;241m=\u001b[39m (\u001b[38;5;241m15\u001b[39m,\u001b[38;5;241m3\u001b[39m))\n\u001b[1;32m      3\u001b[0m \u001b[38;5;66;03m#ax.scatter(valid_timestamps[0],1)\u001b[39;00m\n\u001b[0;32m----> 5\u001b[0m \u001b[38;5;28;01mfor\u001b[39;00m a_ind \u001b[38;5;129;01min\u001b[39;00m \u001b[38;5;28mrange\u001b[39m(\u001b[43martifact_removed_time_list\u001b[49m\u001b[43m[\u001b[49m\u001b[38;5;241;43m0\u001b[39;49m\u001b[43m]\u001b[49m\u001b[38;5;241m.\u001b[39mshape[\u001b[38;5;241m0\u001b[39m]):\n\u001b[1;32m      6\u001b[0m     \u001b[38;5;66;03m#ax.axvline(artifact_removed_time_list[0][a_ind][0],color = 'g',linewidth = 1)\u001b[39;00m\n\u001b[1;32m      7\u001b[0m     ax\u001b[38;5;241m.\u001b[39maxvspan(artifact_removed_time_list[\u001b[38;5;241m0\u001b[39m][a_ind][\u001b[38;5;241m0\u001b[39m],artifact_removed_time_list[\u001b[38;5;241m0\u001b[39m][a_ind][\u001b[38;5;241m1\u001b[39m],color \u001b[38;5;241m=\u001b[39m \u001b[38;5;124m'\u001b[39m\u001b[38;5;124mk\u001b[39m\u001b[38;5;124m'\u001b[39m,linewidth \u001b[38;5;241m=\u001b[39m \u001b[38;5;241m1\u001b[39m,alpha \u001b[38;5;241m=\u001b[39m \u001b[38;5;241m0.5\u001b[39m)\n\u001b[1;32m      9\u001b[0m ax\u001b[38;5;241m.\u001b[39mset_xlim(trial_1_t\u001b[38;5;241m-\u001b[39m\u001b[38;5;241m100\u001b[39m,trial_last_t\u001b[38;5;241m+\u001b[39m\u001b[38;5;241m100\u001b[39m)\n",
      "\u001b[0;31mIndexError\u001b[0m: list index out of range"
     ]
    },
    {
     "data": {
      "image/png": "[encoded data removed]",
      "text/plain": [
       "<Figure size 1500x300 with 1 Axes>"
      ]
     },
     "metadata": {},
     "output_type": "display_data"
    }
   ],
   "source": [
    "fig, ax = plt.subplots(1,1,figsize = (15,3))\n",
    "\n",
    "#ax.scatter(valid_timestamps[0],1)\n",
    "\n",
    "for a_ind in range(artifact_removed_time_list[0].shape[0]):\n",
    "    #ax.axvline(artifact_removed_time_list[0][a_ind][0],color = 'g',linewidth = 1)\n",
    "    ax.axvspan(artifact_removed_time_list[0][a_ind][0],artifact_removed_time_list[0][a_ind][1],color = 'k',linewidth = 1,alpha = 0.5)\n",
    "\n",
    "ax.set_xlim(trial_1_t-100,trial_last_t+100)"
   ]
  },
  {
   "cell_type": "code",
   "execution_count": 169,
   "id": "32657178-94f2-4a8f-b556-c5f3e39e69c5",
   "metadata": {},
   "outputs": [],
   "source": [
    "artifact_time_list=interval_union(artifact_time_list[0],artifact_time_list[1])\n",
    "artifact_removed_time_list=interval_list_intersect(\n",
    "            np.array(artifact_removed_time_list[0]),np.array(artifact_removed_time_list[1]))"
   ]
  },
  {
   "cell_type": "code",
   "execution_count": 170,
   "id": "4ad92f8d-ca91-4ee4-ac2f-a034468e9bfb",
   "metadata": {},
   "outputs": [],
   "source": [
    "#artifact_removed_time_list"
   ]
  },
  {
   "cell_type": "code",
   "execution_count": 171,
   "id": "310285fe-27e2-4d12-9660-a768cdb468ce",
   "metadata": {
    "scrolled": true
   },
   "outputs": [],
   "source": [
    "#artifact_removed_time_list"
   ]
  },
  {
   "cell_type": "code",
   "execution_count": 172,
   "id": "d466dcf6-1fc3-46da-a103-e97b34f7ade3",
   "metadata": {
    "scrolled": true
   },
   "outputs": [
    {
     "data": {
      "text/plain": [
       "(1691786157.8352175, 1691787077.2597272)"
      ]
     },
     "execution_count": 172,
     "metadata": {},
     "output_type": "execute_result"
    },
    {
     "data": {
      "image/png": "[encoded data removed]",
      "text/plain": [
       "<Figure size 1500x300 with 1 Axes>"
      ]
     },
     "metadata": {},
     "output_type": "display_data"
    }
   ],
   "source": [
    "fig, ax = plt.subplots(1,1,figsize = (15,3))\n",
    "for a_ind in range(artifact_time_list.shape[0]):\n",
    "    ax.axvline(artifact_time_list[a_ind][0],color = 'b',linewidth = 1)\n",
    "    ax.axvline(artifact_time_list[a_ind][1],color = 'r',linewidth = 1)\n",
    "    #print(np.diff(artifact_time_list[a_ind]))\n",
    "\n",
    "for a_ind in range(artifact_removed_time_list.shape[0]):\n",
    "    ax.axvspan(artifact_removed_time_list[a_ind][0],artifact_removed_time_list[a_ind][1],color = 'g',linewidth = 1)\n",
    "\n",
    "ax.set_xlim(trial_1_t,trial_last_t)"
   ]
  },
  {
   "cell_type": "code",
   "execution_count": 83,
   "id": "f15581d2-86fd-4217-b334-07bff472ea8f",
   "metadata": {
    "scrolled": true
   },
   "outputs": [
    {
     "data": {
      "text/plain": [
       "1691786212.2954159"
      ]
     },
     "execution_count": 83,
     "metadata": {},
     "output_type": "execute_result"
    }
   ],
   "source": [
    "artifact_removed_time_list[-1][-1]"
   ]
  },
  {
   "cell_type": "code",
   "execution_count": 75,
   "id": "c9e265de-9ef0-44cd-ac36-7656c325b3e6",
   "metadata": {},
   "outputs": [],
   "source": [
    "test = interval_list_intersect(artifact_removed_time_list,np.array([trial_1_t,trial_last_t]))"
   ]
  },
  {
   "cell_type": "code",
   "execution_count": 82,
   "id": "9226f03f-58b6-470d-aa69-9ed97550ecdb",
   "metadata": {},
   "outputs": [
    {
     "data": {
      "text/plain": [
       "1691786212.2954159"
      ]
     },
     "execution_count": 82,
     "metadata": {},
     "output_type": "execute_result"
    }
   ],
   "source": [
    "test[-1][-1]"
   ]
  },
  {
   "cell_type": "code",
   "execution_count": 48,
   "id": "79425cc0-77ea-4312-ac2c-eec4927dfe30",
   "metadata": {},
   "outputs": [],
   "source": [
    "artifact_removed_valid_times = (ArtifactRemovedIntervalList & {\n",
    "    'artifact_removed_interval_list_name':\n",
    "    'Julio20230811_.nwb_06_Seq2Session3_2_franklab_tetrode_hippocampus_ampl_1500_prop_075_1ms_artifact_removed_valid_times_track_time_only'}\n",
    ").fetch1(\"artifact_removed_valid_times\")"
   ]
  },
  {
   "cell_type": "code",
   "execution_count": 50,
   "id": "64ab930c-7275-463a-9491-2fb9c33763ff",
   "metadata": {},
   "outputs": [
    {
     "data": {
      "text/plain": [
       "1691786212.2954159"
      ]
     },
     "execution_count": 50,
     "metadata": {},
     "output_type": "execute_result"
    }
   ],
   "source": [
    "artifact_removed_valid_times[-1][-1]"
   ]
  },
  {
   "cell_type": "code",
   "execution_count": 69,
   "id": "cb8c6043-063d-4191-9801-29e0ef46e5bd",
   "metadata": {
    "scrolled": true
   },
   "outputs": [
    {
     "data": {
      "text/plain": [
       "1691787094.6425176"
      ]
     },
     "execution_count": 69,
     "metadata": {},
     "output_type": "execute_result"
    }
   ],
   "source": [
    "artifact_time_list[-1][0]"
   ]
  },
  {
   "cell_type": "code",
   "execution_count": 51,
   "id": "a816f126-1a68-4da3-b3ba-a7765a0e7e69",
   "metadata": {},
   "outputs": [
    {
     "data": {
      "text/plain": [
       "1691786212"
      ]
     },
     "execution_count": 51,
     "metadata": {},
     "output_type": "execute_result"
    }
   ],
   "source": [
    "int(marks.time[-1])"
   ]
  },
  {
   "cell_type": "code",
   "execution_count": 54,
   "id": "47e36f8f-6a99-47ee-ace9-bab78ce73c98",
   "metadata": {},
   "outputs": [
    {
     "data": {
      "text/plain": [
       "1691787077.2412632"
      ]
     },
     "execution_count": 54,
     "metadata": {},
     "output_type": "execute_result"
    }
   ],
   "source": [
    "position_df.index[-10]"
   ]
  },
  {
   "cell_type": "code",
   "execution_count": 56,
   "id": "0e589916-a61b-4c4e-856a-cbf0b75c10e0",
   "metadata": {},
   "outputs": [],
   "source": []
  },
  {
   "cell_type": "code",
   "execution_count": 57,
   "id": "6630a5a4-8458-4445-b6c3-a1d0808899b2",
   "metadata": {},
   "outputs": [
    {
     "data": {
      "text/plain": [
       "1691787077.2597272"
      ]
     },
     "execution_count": 57,
     "metadata": {},
     "output_type": "execute_result"
    }
   ],
   "source": [
    "trial_last_t"
   ]
  },
  {
   "cell_type": "code",
   "execution_count": 47,
   "id": "0ea10fa0-ff0e-411c-8117-722509444b63",
   "metadata": {},
   "outputs": [],
   "source": [
    "e = 0"
   ]
  },
  {
   "cell_type": "code",
   "execution_count": 51,
   "id": "49299d45-1662-4044-bd15-92d423a8c55e",
   "metadata": {},
   "outputs": [],
   "source": [
    "positionIntervalList = (\n",
    "        IntervalList &\n",
    "        {'nwb_file_name': nwb_copy_file_name,\n",
    "         'interval_list_name': position_interval[e]})\n",
    "\n",
    "marks_selection = ((UnitMarks & mark_parameters_keys) * positionIntervalList)\n",
    "marks_selection = (pd.DataFrame(marks_selection)\n",
    "                   .loc[:, marks_selection.primary_key]\n",
    "                   .to_dict('records'))\n",
    "#UnitMarksIndicatorSelection.insert(marks_selection, skip_duplicates=True)"
   ]
  },
  {
   "cell_type": "code",
   "execution_count": 21,
   "id": "1b78dab5-fcdc-486a-90b8-497a446c6ba9",
   "metadata": {
    "scrolled": true
   },
   "outputs": [
    {
     "data": {
      "text/html": [
       "\n",
       "    \n",
       "    <style type=\"text/css\">\n",
       "        .Table{\n",
       "            border-collapse:collapse;\n",
       "        }\n",
       "        .Table th{\n",
       "            background: #A0A0A0; color: #ffffff; padding:4px; border:#f0e0e0 1px solid;\n",
       "            font-weight: normal; font-family: monospace; font-size: 100%;\n",
       "        }\n",
       "        .Table td{\n",
       "            padding:4px; border:#f0e0e0 1px solid; font-size:100%;\n",
       "        }\n",
       "        .Table tr:nth-child(odd){\n",
       "            background: #ffffff;\n",
       "            color: #000000;\n",
       "        }\n",
       "        .Table tr:nth-child(even){\n",
       "            background: #f3f1ff;\n",
       "            color: #000000;\n",
       "        }\n",
       "        /* Tooltip container */\n",
       "        .djtooltip {\n",
       "        }\n",
       "        /* Tooltip text */\n",
       "        .djtooltip .djtooltiptext {\n",
       "            visibility: hidden;\n",
       "            width: 120px;\n",
       "            background-color: black;\n",
       "            color: #fff;\n",
       "            text-align: center;\n",
       "            padding: 5px 0;\n",
       "            border-radius: 6px;\n",
       "            /* Position the tooltip text - see examples below! */\n",
       "            position: absolute;\n",
       "            z-index: 1;\n",
       "        }\n",
       "        #primary {\n",
       "            font-weight: bold;\n",
       "            color: black;\n",
       "        }\n",
       "        #nonprimary {\n",
       "            font-weight: normal;\n",
       "            color: white;\n",
       "        }\n",
       "\n",
       "        /* Show the tooltip text when you mouse over the tooltip container */\n",
       "        .djtooltip:hover .djtooltiptext {\n",
       "            visibility: visible;\n",
       "        }\n",
       "    </style>\n",
       "    \n",
       "    <b></b>\n",
       "        <div style=\"max-height:1000px;max-width:1500px;overflow:auto;\">\n",
       "        <table border=\"1\" class=\"Table\">\n",
       "            <thead> <tr style=\"text-align: right;\"> <th> <div class=\"djtooltip\">\n",
       "                            <p id=\"primary\">curation_id</p>\n",
       "                            <span class=\"djtooltiptext\">a number correponding to the index of this curation</span>\n",
       "                        </div></th><th><div class=\"djtooltip\">\n",
       "                            <p id=\"primary\">nwb_file_name</p>\n",
       "                            <span class=\"djtooltiptext\">name of the NWB file</span>\n",
       "                        </div></th><th><div class=\"djtooltip\">\n",
       "                            <p id=\"primary\">sort_group_id</p>\n",
       "                            <span class=\"djtooltiptext\">identifier for a group of electrodes</span>\n",
       "                        </div></th><th><div class=\"djtooltip\">\n",
       "                            <p id=\"primary\">sort_interval_name</p>\n",
       "                            <span class=\"djtooltiptext\">name for this interval</span>\n",
       "                        </div></th><th><div class=\"djtooltip\">\n",
       "                            <p id=\"primary\">preproc_params_name</p>\n",
       "                            <span class=\"djtooltiptext\"></span>\n",
       "                        </div></th><th><div class=\"djtooltip\">\n",
       "                            <p id=\"primary\">team_name</p>\n",
       "                            <span class=\"djtooltiptext\"></span>\n",
       "                        </div></th><th><div class=\"djtooltip\">\n",
       "                            <p id=\"primary\">sorter</p>\n",
       "                            <span class=\"djtooltiptext\"></span>\n",
       "                        </div></th><th><div class=\"djtooltip\">\n",
       "                            <p id=\"primary\">sorter_params_name</p>\n",
       "                            <span class=\"djtooltiptext\"></span>\n",
       "                        </div></th><th><div class=\"djtooltip\">\n",
       "                            <p id=\"primary\">artifact_removed_interval_list_name</p>\n",
       "                            <span class=\"djtooltiptext\"></span>\n",
       "                        </div></th><th><div class=\"djtooltip\">\n",
       "                            <p id=\"primary\">mark_param_name</p>\n",
       "                            <span class=\"djtooltiptext\">a name for this set of parameters</span>\n",
       "                        </div></th><th><div class=\"djtooltip\">\n",
       "                            <p id=\"primary\">interval_list_name</p>\n",
       "                            <span class=\"djtooltiptext\">descriptive name of this interval list</span>\n",
       "                        </div></th><th><div class=\"djtooltip\">\n",
       "                            <p id=\"primary\">sampling_rate</p>\n",
       "                            <span class=\"djtooltiptext\"></span>\n",
       "                        </div> </th> </tr> </thead>\n",
       "            <tbody> <tr> <td>0</td>\n",
       "<td>Julio20230811_.nwb</td>\n",
       "<td>2</td>\n",
       "<td>06_Seq2Session3</td>\n",
       "<td>franklab_tetrode_hippocampus</td>\n",
       "<td>SequenceTask</td>\n",
       "<td>clusterless_thresholder</td>\n",
       "<td>default</td>\n",
       "<td>Julio20230811_.nwb_06_Seq2Session3_2_franklab_tetrode_hippocampus_ampl_1500_prop_075_1ms_artifact_removed_valid_times_track_time_only</td>\n",
       "<td>default</td>\n",
       "<td>pos 5 valid times</td>\n",
       "<td>500.0</td></tr><tr><td>0</td>\n",
       "<td>Julio20230811_.nwb</td>\n",
       "<td>3</td>\n",
       "<td>06_Seq2Session3</td>\n",
       "<td>franklab_tetrode_hippocampus</td>\n",
       "<td>SequenceTask</td>\n",
       "<td>clusterless_thresholder</td>\n",
       "<td>default</td>\n",
       "<td>Julio20230811_.nwb_06_Seq2Session3_3_franklab_tetrode_hippocampus_ampl_1500_prop_075_1ms_artifact_removed_valid_times_track_time_only</td>\n",
       "<td>default</td>\n",
       "<td>pos 5 valid times</td>\n",
       "<td>500.0</td></tr><tr><td>0</td>\n",
       "<td>Julio20230811_.nwb</td>\n",
       "<td>6</td>\n",
       "<td>06_Seq2Session3</td>\n",
       "<td>franklab_tetrode_hippocampus</td>\n",
       "<td>SequenceTask</td>\n",
       "<td>clusterless_thresholder</td>\n",
       "<td>default</td>\n",
       "<td>Julio20230811_.nwb_06_Seq2Session3_6_franklab_tetrode_hippocampus_ampl_1500_prop_075_1ms_artifact_removed_valid_times_track_time_only</td>\n",
       "<td>default</td>\n",
       "<td>pos 5 valid times</td>\n",
       "<td>500.0</td></tr><tr><td>0</td>\n",
       "<td>Julio20230811_.nwb</td>\n",
       "<td>7</td>\n",
       "<td>06_Seq2Session3</td>\n",
       "<td>franklab_tetrode_hippocampus</td>\n",
       "<td>SequenceTask</td>\n",
       "<td>clusterless_thresholder</td>\n",
       "<td>default</td>\n",
       "<td>Julio20230811_.nwb_06_Seq2Session3_7_franklab_tetrode_hippocampus_ampl_1500_prop_075_1ms_artifact_removed_valid_times_track_time_only</td>\n",
       "<td>default</td>\n",
       "<td>pos 5 valid times</td>\n",
       "<td>500.0</td></tr><tr><td>0</td>\n",
       "<td>Julio20230811_.nwb</td>\n",
       "<td>8</td>\n",
       "<td>06_Seq2Session3</td>\n",
       "<td>franklab_tetrode_hippocampus</td>\n",
       "<td>SequenceTask</td>\n",
       "<td>clusterless_thresholder</td>\n",
       "<td>default</td>\n",
       "<td>Julio20230811_.nwb_06_Seq2Session3_8_franklab_tetrode_hippocampus_ampl_1500_prop_075_1ms_artifact_removed_valid_times_track_time_only</td>\n",
       "<td>default</td>\n",
       "<td>pos 5 valid times</td>\n",
       "<td>500.0</td></tr><tr><td>0</td>\n",
       "<td>Julio20230811_.nwb</td>\n",
       "<td>11</td>\n",
       "<td>06_Seq2Session3</td>\n",
       "<td>franklab_tetrode_hippocampus</td>\n",
       "<td>SequenceTask</td>\n",
       "<td>clusterless_thresholder</td>\n",
       "<td>default</td>\n",
       "<td>Julio20230811_.nwb_06_Seq2Session3_11_franklab_tetrode_hippocampus_ampl_1500_prop_075_1ms_artifact_removed_valid_times_track_time_only</td>\n",
       "<td>default</td>\n",
       "<td>pos 5 valid times</td>\n",
       "<td>500.0</td></tr><tr><td>0</td>\n",
       "<td>Julio20230811_.nwb</td>\n",
       "<td>12</td>\n",
       "<td>06_Seq2Session3</td>\n",
       "<td>franklab_tetrode_hippocampus</td>\n",
       "<td>SequenceTask</td>\n",
       "<td>clusterless_thresholder</td>\n",
       "<td>default</td>\n",
       "<td>Julio20230811_.nwb_06_Seq2Session3_12_franklab_tetrode_hippocampus_ampl_1500_prop_075_1ms_artifact_removed_valid_times_track_time_only</td>\n",
       "<td>default</td>\n",
       "<td>pos 5 valid times</td>\n",
       "<td>500.0</td></tr><tr><td>0</td>\n",
       "<td>Julio20230811_.nwb</td>\n",
       "<td>15</td>\n",
       "<td>06_Seq2Session3</td>\n",
       "<td>franklab_tetrode_hippocampus</td>\n",
       "<td>SequenceTask</td>\n",
       "<td>clusterless_thresholder</td>\n",
       "<td>default</td>\n",
       "<td>Julio20230811_.nwb_06_Seq2Session3_15_franklab_tetrode_hippocampus_ampl_1500_prop_075_1ms_artifact_removed_valid_times_track_time_only</td>\n",
       "<td>default</td>\n",
       "<td>pos 5 valid times</td>\n",
       "<td>500.0</td></tr><tr><td>0</td>\n",
       "<td>Julio20230811_.nwb</td>\n",
       "<td>20</td>\n",
       "<td>06_Seq2Session3</td>\n",
       "<td>franklab_tetrode_hippocampus</td>\n",
       "<td>SequenceTask</td>\n",
       "<td>clusterless_thresholder</td>\n",
       "<td>default</td>\n",
       "<td>Julio20230811_.nwb_06_Seq2Session3_20_franklab_tetrode_hippocampus_ampl_1500_prop_075_1ms_artifact_removed_valid_times_track_time_only</td>\n",
       "<td>default</td>\n",
       "<td>pos 5 valid times</td>\n",
       "<td>500.0</td></tr><tr><td>0</td>\n",
       "<td>Julio20230811_.nwb</td>\n",
       "<td>22</td>\n",
       "<td>06_Seq2Session3</td>\n",
       "<td>franklab_tetrode_hippocampus</td>\n",
       "<td>SequenceTask</td>\n",
       "<td>clusterless_thresholder</td>\n",
       "<td>default</td>\n",
       "<td>Julio20230811_.nwb_06_Seq2Session3_22_franklab_tetrode_hippocampus_ampl_1500_prop_075_1ms_artifact_removed_valid_times_track_time_only</td>\n",
       "<td>default</td>\n",
       "<td>pos 5 valid times</td>\n",
       "<td>500.0</td></tr><tr><td>0</td>\n",
       "<td>Julio20230811_.nwb</td>\n",
       "<td>26</td>\n",
       "<td>06_Seq2Session3</td>\n",
       "<td>franklab_tetrode_hippocampus</td>\n",
       "<td>SequenceTask</td>\n",
       "<td>clusterless_thresholder</td>\n",
       "<td>default</td>\n",
       "<td>Julio20230811_.nwb_06_Seq2Session3_26_franklab_tetrode_hippocampus_ampl_1500_prop_075_1ms_artifact_removed_valid_times_track_time_only</td>\n",
       "<td>default</td>\n",
       "<td>pos 5 valid times</td>\n",
       "<td>500.0</td></tr><tr><td>0</td>\n",
       "<td>Julio20230811_.nwb</td>\n",
       "<td>28</td>\n",
       "<td>06_Seq2Session3</td>\n",
       "<td>franklab_tetrode_hippocampus</td>\n",
       "<td>SequenceTask</td>\n",
       "<td>clusterless_thresholder</td>\n",
       "<td>default</td>\n",
       "<td>Julio20230811_.nwb_06_Seq2Session3_28_franklab_tetrode_hippocampus_ampl_1500_prop_075_1ms_artifact_removed_valid_times_track_time_only</td>\n",
       "<td>default</td>\n",
       "<td>pos 5 valid times</td>\n",
       "<td>500.0</td> </tr> </tbody>\n",
       "        </table>\n",
       "        <p>...</p>\n",
       "        <p>Total: 25</p></div>\n",
       "        "
      ],
      "text/plain": [
       "*curation_id   *nwb_file_name *sort_group_id *sort_interval *preproc_param *team_name     *sorter        *sorter_params *artifact_remo *mark_param_na *interval_list *sampling_rate\n",
       "+------------+ +------------+ +------------+ +------------+ +------------+ +------------+ +------------+ +------------+ +------------+ +------------+ +------------+ +------------+\n",
       "0              Julio20230811_ 2              06_Seq2Session franklab_tetro SequenceTask   clusterless_th default        Julio20230811_ default        pos 5 valid ti 500.0         \n",
       "0              Julio20230811_ 3              06_Seq2Session franklab_tetro SequenceTask   clusterless_th default        Julio20230811_ default        pos 5 valid ti 500.0         \n",
       "0              Julio20230811_ 6              06_Seq2Session franklab_tetro SequenceTask   clusterless_th default        Julio20230811_ default        pos 5 valid ti 500.0         \n",
       "0              Julio20230811_ 7              06_Seq2Session franklab_tetro SequenceTask   clusterless_th default        Julio20230811_ default        pos 5 valid ti 500.0         \n",
       "0              Julio20230811_ 8              06_Seq2Session franklab_tetro SequenceTask   clusterless_th default        Julio20230811_ default        pos 5 valid ti 500.0         \n",
       "0              Julio20230811_ 11             06_Seq2Session franklab_tetro SequenceTask   clusterless_th default        Julio20230811_ default        pos 5 valid ti 500.0         \n",
       "0              Julio20230811_ 12             06_Seq2Session franklab_tetro SequenceTask   clusterless_th default        Julio20230811_ default        pos 5 valid ti 500.0         \n",
       "0              Julio20230811_ 15             06_Seq2Session franklab_tetro SequenceTask   clusterless_th default        Julio20230811_ default        pos 5 valid ti 500.0         \n",
       "0              Julio20230811_ 20             06_Seq2Session franklab_tetro SequenceTask   clusterless_th default        Julio20230811_ default        pos 5 valid ti 500.0         \n",
       "0              Julio20230811_ 22             06_Seq2Session franklab_tetro SequenceTask   clusterless_th default        Julio20230811_ default        pos 5 valid ti 500.0         \n",
       "0              Julio20230811_ 26             06_Seq2Session franklab_tetro SequenceTask   clusterless_th default        Julio20230811_ default        pos 5 valid ti 500.0         \n",
       "0              Julio20230811_ 28             06_Seq2Session franklab_tetro SequenceTask   clusterless_th default        Julio20230811_ default        pos 5 valid ti 500.0         \n",
       "   ...\n",
       " (Total: 25)"
      ]
     },
     "execution_count": 21,
     "metadata": {},
     "output_type": "execute_result"
    }
   ],
   "source": [
    "UnitMarksIndicatorSelection() & {'nwb_file_name': nwb_copy_file_name,\n",
    "         'interval_list_name': position_interval[e]}"
   ]
  },
  {
   "cell_type": "code",
   "execution_count": 22,
   "id": "d179e13f-84b7-4682-928b-de9ebda1658e",
   "metadata": {
    "scrolled": true
   },
   "outputs": [
    {
     "name": "stderr",
     "output_type": "stream",
     "text": [
      "[20:07:06][INFO] Spyglass: Writing new NWB file Julio20230811_GQ1JYSFHFJ.nwb\n",
      "20-Apr-25 20:07:06 Writing new NWB file Julio20230811_GQ1JYSFHFJ.nwb\n",
      "[20:07:09][INFO] Spyglass: Writing new NWB file Julio20230811_ET4QYAPL8C.nwb\n",
      "20-Apr-25 20:07:09 Writing new NWB file Julio20230811_ET4QYAPL8C.nwb\n",
      "[20:07:12][INFO] Spyglass: Writing new NWB file Julio20230811_K2LVYK4E0Z.nwb\n",
      "20-Apr-25 20:07:12 Writing new NWB file Julio20230811_K2LVYK4E0Z.nwb\n",
      "[20:07:14][INFO] Spyglass: Writing new NWB file Julio20230811_B40H72ADKA.nwb\n",
      "20-Apr-25 20:07:14 Writing new NWB file Julio20230811_B40H72ADKA.nwb\n",
      "[20:07:17][INFO] Spyglass: Writing new NWB file Julio20230811_0DBT4AZOLS.nwb\n",
      "20-Apr-25 20:07:17 Writing new NWB file Julio20230811_0DBT4AZOLS.nwb\n",
      "[20:07:19][INFO] Spyglass: Writing new NWB file Julio20230811_JQ38MZTRT2.nwb\n",
      "20-Apr-25 20:07:19 Writing new NWB file Julio20230811_JQ38MZTRT2.nwb\n",
      "[20:07:22][INFO] Spyglass: Writing new NWB file Julio20230811_W3AHIS37PH.nwb\n",
      "20-Apr-25 20:07:22 Writing new NWB file Julio20230811_W3AHIS37PH.nwb\n",
      "[20:07:24][INFO] Spyglass: Writing new NWB file Julio20230811_GJ6NIQ3OKE.nwb\n",
      "20-Apr-25 20:07:24 Writing new NWB file Julio20230811_GJ6NIQ3OKE.nwb\n",
      "[20:07:27][INFO] Spyglass: Writing new NWB file Julio20230811_JKNKADR8XS.nwb\n",
      "20-Apr-25 20:07:27 Writing new NWB file Julio20230811_JKNKADR8XS.nwb\n",
      "[20:07:29][INFO] Spyglass: Writing new NWB file Julio20230811_TTPWP55LL2.nwb\n",
      "20-Apr-25 20:07:29 Writing new NWB file Julio20230811_TTPWP55LL2.nwb\n",
      "[20:07:32][INFO] Spyglass: Writing new NWB file Julio20230811_I84AJBTR48.nwb\n",
      "20-Apr-25 20:07:32 Writing new NWB file Julio20230811_I84AJBTR48.nwb\n",
      "[20:07:34][INFO] Spyglass: Writing new NWB file Julio20230811_3V76K96EAJ.nwb\n",
      "20-Apr-25 20:07:34 Writing new NWB file Julio20230811_3V76K96EAJ.nwb\n",
      "[20:07:37][INFO] Spyglass: Writing new NWB file Julio20230811_UTF074HGBL.nwb\n",
      "20-Apr-25 20:07:37 Writing new NWB file Julio20230811_UTF074HGBL.nwb\n",
      "[20:07:40][INFO] Spyglass: Writing new NWB file Julio20230811_M29XBA16K8.nwb\n",
      "20-Apr-25 20:07:40 Writing new NWB file Julio20230811_M29XBA16K8.nwb\n",
      "[20:07:42][INFO] Spyglass: Writing new NWB file Julio20230811_MHS3F1PXJQ.nwb\n",
      "20-Apr-25 20:07:42 Writing new NWB file Julio20230811_MHS3F1PXJQ.nwb\n",
      "[20:07:44][INFO] Spyglass: Writing new NWB file Julio20230811_YAGZAAAOS2.nwb\n",
      "20-Apr-25 20:07:44 Writing new NWB file Julio20230811_YAGZAAAOS2.nwb\n",
      "[20:07:47][INFO] Spyglass: Writing new NWB file Julio20230811_3YR19LBTRX.nwb\n",
      "20-Apr-25 20:07:47 Writing new NWB file Julio20230811_3YR19LBTRX.nwb\n",
      "[20:07:50][INFO] Spyglass: Writing new NWB file Julio20230811_RNW3O26TF4.nwb\n",
      "20-Apr-25 20:07:50 Writing new NWB file Julio20230811_RNW3O26TF4.nwb\n",
      "[20:07:52][INFO] Spyglass: Writing new NWB file Julio20230811_VH7ZRPROQJ.nwb\n",
      "20-Apr-25 20:07:52 Writing new NWB file Julio20230811_VH7ZRPROQJ.nwb\n",
      "[20:07:54][INFO] Spyglass: Writing new NWB file Julio20230811_Y1DJ06MRF8.nwb\n",
      "20-Apr-25 20:07:54 Writing new NWB file Julio20230811_Y1DJ06MRF8.nwb\n",
      "[20:07:57][INFO] Spyglass: Writing new NWB file Julio20230811_B81LH7QOPM.nwb\n",
      "20-Apr-25 20:07:57 Writing new NWB file Julio20230811_B81LH7QOPM.nwb\n",
      "[20:07:59][INFO] Spyglass: Writing new NWB file Julio20230811_65GZ2Q846G.nwb\n",
      "20-Apr-25 20:07:59 Writing new NWB file Julio20230811_65GZ2Q846G.nwb\n",
      "[20:08:02][INFO] Spyglass: Writing new NWB file Julio20230811_VKAV4Y31D5.nwb\n",
      "20-Apr-25 20:08:02 Writing new NWB file Julio20230811_VKAV4Y31D5.nwb\n",
      "[20:08:05][INFO] Spyglass: Writing new NWB file Julio20230811_GSUW74JWYC.nwb\n",
      "20-Apr-25 20:08:05 Writing new NWB file Julio20230811_GSUW74JWYC.nwb\n",
      "[20:08:07][INFO] Spyglass: Writing new NWB file Julio20230811_H6AY3I3TYD.nwb\n",
      "20-Apr-25 20:08:07 Writing new NWB file Julio20230811_H6AY3I3TYD.nwb\n"
     ]
    }
   ],
   "source": [
    "UnitMarksIndicator.populate(marks_selection)"
   ]
  },
  {
   "cell_type": "code",
   "execution_count": 52,
   "id": "ed3e32a4-6640-434c-a4d7-0620216dbe9d",
   "metadata": {
    "scrolled": true,
    "tags": []
   },
   "outputs": [],
   "source": [
    "marks = (UnitMarksIndicator & mark_parameters_keys).fetch_xarray()"
   ]
  },
  {
   "cell_type": "code",
   "execution_count": null,
   "id": "028e963e-f30f-451b-b184-5c74334d6e73",
   "metadata": {},
   "outputs": [],
   "source": []
  },
  {
   "cell_type": "markdown",
   "id": "331eb32c-a745-4998-97e3-e853efc5b75b",
   "metadata": {},
   "source": [
    "After you get the marks, it is important to visualize them to make sure they look right. We can use the `plot_all_marks` method of UnitMarksIndicator to quickly plot each mark feature against the other for each electrode.\n",
    "\n",
    "Here it is important to look for things that look overly correlated (strong diagonal on the off-diagonal plots) and for extreme amplitudes."
   ]
  },
  {
   "cell_type": "code",
   "execution_count": 24,
   "id": "be6ff0f7-299c-4a9a-b886-90b36b59c739",
   "metadata": {
    "scrolled": true
   },
   "outputs": [
    {
     "data": {
      "text/html": [
       "\n",
       "    \n",
       "    <style type=\"text/css\">\n",
       "        .Table{\n",
       "            border-collapse:collapse;\n",
       "        }\n",
       "        .Table th{\n",
       "            background: #A0A0A0; color: #ffffff; padding:4px; border:#f0e0e0 1px solid;\n",
       "            font-weight: normal; font-family: monospace; font-size: 100%;\n",
       "        }\n",
       "        .Table td{\n",
       "            padding:4px; border:#f0e0e0 1px solid; font-size:100%;\n",
       "        }\n",
       "        .Table tr:nth-child(odd){\n",
       "            background: #ffffff;\n",
       "            color: #000000;\n",
       "        }\n",
       "        .Table tr:nth-child(even){\n",
       "            background: #f3f1ff;\n",
       "            color: #000000;\n",
       "        }\n",
       "        /* Tooltip container */\n",
       "        .djtooltip {\n",
       "        }\n",
       "        /* Tooltip text */\n",
       "        .djtooltip .djtooltiptext {\n",
       "            visibility: hidden;\n",
       "            width: 120px;\n",
       "            background-color: black;\n",
       "            color: #fff;\n",
       "            text-align: center;\n",
       "            padding: 5px 0;\n",
       "            border-radius: 6px;\n",
       "            /* Position the tooltip text - see examples below! */\n",
       "            position: absolute;\n",
       "            z-index: 1;\n",
       "        }\n",
       "        #primary {\n",
       "            font-weight: bold;\n",
       "            color: black;\n",
       "        }\n",
       "        #nonprimary {\n",
       "            font-weight: normal;\n",
       "            color: white;\n",
       "        }\n",
       "\n",
       "        /* Show the tooltip text when you mouse over the tooltip container */\n",
       "        .djtooltip:hover .djtooltiptext {\n",
       "            visibility: visible;\n",
       "        }\n",
       "    </style>\n",
       "    \n",
       "    <b></b>\n",
       "        <div style=\"max-height:1000px;max-width:1500px;overflow:auto;\">\n",
       "        <table border=\"1\" class=\"Table\">\n",
       "            <thead> <tr style=\"text-align: right;\"> <th> <div class=\"djtooltip\">\n",
       "                            <p id=\"primary\">curation_id</p>\n",
       "                            <span class=\"djtooltiptext\">a number correponding to the index of this curation</span>\n",
       "                        </div></th><th><div class=\"djtooltip\">\n",
       "                            <p id=\"primary\">nwb_file_name</p>\n",
       "                            <span class=\"djtooltiptext\">name of the NWB file</span>\n",
       "                        </div></th><th><div class=\"djtooltip\">\n",
       "                            <p id=\"primary\">sort_group_id</p>\n",
       "                            <span class=\"djtooltiptext\">identifier for a group of electrodes</span>\n",
       "                        </div></th><th><div class=\"djtooltip\">\n",
       "                            <p id=\"primary\">sort_interval_name</p>\n",
       "                            <span class=\"djtooltiptext\">name for this interval</span>\n",
       "                        </div></th><th><div class=\"djtooltip\">\n",
       "                            <p id=\"primary\">preproc_params_name</p>\n",
       "                            <span class=\"djtooltiptext\"></span>\n",
       "                        </div></th><th><div class=\"djtooltip\">\n",
       "                            <p id=\"primary\">team_name</p>\n",
       "                            <span class=\"djtooltiptext\"></span>\n",
       "                        </div></th><th><div class=\"djtooltip\">\n",
       "                            <p id=\"primary\">sorter</p>\n",
       "                            <span class=\"djtooltiptext\"></span>\n",
       "                        </div></th><th><div class=\"djtooltip\">\n",
       "                            <p id=\"primary\">sorter_params_name</p>\n",
       "                            <span class=\"djtooltiptext\"></span>\n",
       "                        </div></th><th><div class=\"djtooltip\">\n",
       "                            <p id=\"primary\">artifact_removed_interval_list_name</p>\n",
       "                            <span class=\"djtooltiptext\"></span>\n",
       "                        </div></th><th><div class=\"djtooltip\">\n",
       "                            <p id=\"primary\">mark_param_name</p>\n",
       "                            <span class=\"djtooltiptext\">a name for this set of parameters</span>\n",
       "                        </div></th><th><div class=\"djtooltip\">\n",
       "                            <p id=\"primary\">interval_list_name</p>\n",
       "                            <span class=\"djtooltiptext\">descriptive name of this interval list</span>\n",
       "                        </div></th><th><div class=\"djtooltip\">\n",
       "                            <p id=\"primary\">sampling_rate</p>\n",
       "                            <span class=\"djtooltiptext\"></span>\n",
       "                        </div></th><th><div class=\"djtooltip\">\n",
       "                            <p id=\"nonprimary\">analysis_file_name</p>\n",
       "                            <span class=\"djtooltiptext\">name of the file</span>\n",
       "                        </div></th><th><div class=\"djtooltip\">\n",
       "                            <p id=\"nonprimary\">marks_indicator_object_id</p>\n",
       "                            <span class=\"djtooltiptext\"></span>\n",
       "                        </div> </th> </tr> </thead>\n",
       "            <tbody> <tr> <td>0</td>\n",
       "<td>Julio20230811_.nwb</td>\n",
       "<td>2</td>\n",
       "<td>06_Seq2Session3</td>\n",
       "<td>franklab_tetrode_hippocampus</td>\n",
       "<td>SequenceTask</td>\n",
       "<td>clusterless_thresholder</td>\n",
       "<td>default</td>\n",
       "<td>Julio20230811_.nwb_06_Seq2Session3_2_franklab_tetrode_hippocampus_ampl_1500_prop_075_1ms_artifact_removed_valid_times_track_time_only</td>\n",
       "<td>default</td>\n",
       "<td>pos 5 valid times</td>\n",
       "<td>500.0</td>\n",
       "<td>Julio20230811_GQ1JYSFHFJ.nwb</td>\n",
       "<td>ecfd4344-69c5-4419-8913-63a51b5b881a</td></tr><tr><td>0</td>\n",
       "<td>Julio20230811_.nwb</td>\n",
       "<td>3</td>\n",
       "<td>06_Seq2Session3</td>\n",
       "<td>franklab_tetrode_hippocampus</td>\n",
       "<td>SequenceTask</td>\n",
       "<td>clusterless_thresholder</td>\n",
       "<td>default</td>\n",
       "<td>Julio20230811_.nwb_06_Seq2Session3_3_franklab_tetrode_hippocampus_ampl_1500_prop_075_1ms_artifact_removed_valid_times_track_time_only</td>\n",
       "<td>default</td>\n",
       "<td>pos 5 valid times</td>\n",
       "<td>500.0</td>\n",
       "<td>Julio20230811_ET4QYAPL8C.nwb</td>\n",
       "<td>d815f0ce-5e5a-4c54-bd2f-7cdffa2a92c6</td></tr><tr><td>0</td>\n",
       "<td>Julio20230811_.nwb</td>\n",
       "<td>6</td>\n",
       "<td>06_Seq2Session3</td>\n",
       "<td>franklab_tetrode_hippocampus</td>\n",
       "<td>SequenceTask</td>\n",
       "<td>clusterless_thresholder</td>\n",
       "<td>default</td>\n",
       "<td>Julio20230811_.nwb_06_Seq2Session3_6_franklab_tetrode_hippocampus_ampl_1500_prop_075_1ms_artifact_removed_valid_times_track_time_only</td>\n",
       "<td>default</td>\n",
       "<td>pos 5 valid times</td>\n",
       "<td>500.0</td>\n",
       "<td>Julio20230811_K2LVYK4E0Z.nwb</td>\n",
       "<td>414532b9-35ee-426a-9034-a8cad32bf0bc</td></tr><tr><td>0</td>\n",
       "<td>Julio20230811_.nwb</td>\n",
       "<td>7</td>\n",
       "<td>06_Seq2Session3</td>\n",
       "<td>franklab_tetrode_hippocampus</td>\n",
       "<td>SequenceTask</td>\n",
       "<td>clusterless_thresholder</td>\n",
       "<td>default</td>\n",
       "<td>Julio20230811_.nwb_06_Seq2Session3_7_franklab_tetrode_hippocampus_ampl_1500_prop_075_1ms_artifact_removed_valid_times_track_time_only</td>\n",
       "<td>default</td>\n",
       "<td>pos 5 valid times</td>\n",
       "<td>500.0</td>\n",
       "<td>Julio20230811_B40H72ADKA.nwb</td>\n",
       "<td>c38787d0-6d15-45a0-a8a9-bac19c4b75bb</td></tr><tr><td>0</td>\n",
       "<td>Julio20230811_.nwb</td>\n",
       "<td>8</td>\n",
       "<td>06_Seq2Session3</td>\n",
       "<td>franklab_tetrode_hippocampus</td>\n",
       "<td>SequenceTask</td>\n",
       "<td>clusterless_thresholder</td>\n",
       "<td>default</td>\n",
       "<td>Julio20230811_.nwb_06_Seq2Session3_8_franklab_tetrode_hippocampus_ampl_1500_prop_075_1ms_artifact_removed_valid_times_track_time_only</td>\n",
       "<td>default</td>\n",
       "<td>pos 5 valid times</td>\n",
       "<td>500.0</td>\n",
       "<td>Julio20230811_0DBT4AZOLS.nwb</td>\n",
       "<td>8dffc59b-5784-4e78-acfe-670c167b8db8</td></tr><tr><td>0</td>\n",
       "<td>Julio20230811_.nwb</td>\n",
       "<td>11</td>\n",
       "<td>06_Seq2Session3</td>\n",
       "<td>franklab_tetrode_hippocampus</td>\n",
       "<td>SequenceTask</td>\n",
       "<td>clusterless_thresholder</td>\n",
       "<td>default</td>\n",
       "<td>Julio20230811_.nwb_06_Seq2Session3_11_franklab_tetrode_hippocampus_ampl_1500_prop_075_1ms_artifact_removed_valid_times_track_time_only</td>\n",
       "<td>default</td>\n",
       "<td>pos 5 valid times</td>\n",
       "<td>500.0</td>\n",
       "<td>Julio20230811_JQ38MZTRT2.nwb</td>\n",
       "<td>0f3028bc-03e3-4cb8-9b26-2686815861ab</td></tr><tr><td>0</td>\n",
       "<td>Julio20230811_.nwb</td>\n",
       "<td>12</td>\n",
       "<td>06_Seq2Session3</td>\n",
       "<td>franklab_tetrode_hippocampus</td>\n",
       "<td>SequenceTask</td>\n",
       "<td>clusterless_thresholder</td>\n",
       "<td>default</td>\n",
       "<td>Julio20230811_.nwb_06_Seq2Session3_12_franklab_tetrode_hippocampus_ampl_1500_prop_075_1ms_artifact_removed_valid_times_track_time_only</td>\n",
       "<td>default</td>\n",
       "<td>pos 5 valid times</td>\n",
       "<td>500.0</td>\n",
       "<td>Julio20230811_W3AHIS37PH.nwb</td>\n",
       "<td>5001d036-12c2-4968-8188-20e8a91c6ac8</td></tr><tr><td>0</td>\n",
       "<td>Julio20230811_.nwb</td>\n",
       "<td>15</td>\n",
       "<td>06_Seq2Session3</td>\n",
       "<td>franklab_tetrode_hippocampus</td>\n",
       "<td>SequenceTask</td>\n",
       "<td>clusterless_thresholder</td>\n",
       "<td>default</td>\n",
       "<td>Julio20230811_.nwb_06_Seq2Session3_15_franklab_tetrode_hippocampus_ampl_1500_prop_075_1ms_artifact_removed_valid_times_track_time_only</td>\n",
       "<td>default</td>\n",
       "<td>pos 5 valid times</td>\n",
       "<td>500.0</td>\n",
       "<td>Julio20230811_GJ6NIQ3OKE.nwb</td>\n",
       "<td>3a2cc2b3-466f-4ab9-91c6-d96c7f8a834e</td></tr><tr><td>0</td>\n",
       "<td>Julio20230811_.nwb</td>\n",
       "<td>20</td>\n",
       "<td>06_Seq2Session3</td>\n",
       "<td>franklab_tetrode_hippocampus</td>\n",
       "<td>SequenceTask</td>\n",
       "<td>clusterless_thresholder</td>\n",
       "<td>default</td>\n",
       "<td>Julio20230811_.nwb_06_Seq2Session3_20_franklab_tetrode_hippocampus_ampl_1500_prop_075_1ms_artifact_removed_valid_times_track_time_only</td>\n",
       "<td>default</td>\n",
       "<td>pos 5 valid times</td>\n",
       "<td>500.0</td>\n",
       "<td>Julio20230811_JKNKADR8XS.nwb</td>\n",
       "<td>38f67bd2-944c-4902-b5d2-202da30995f8</td></tr><tr><td>0</td>\n",
       "<td>Julio20230811_.nwb</td>\n",
       "<td>22</td>\n",
       "<td>06_Seq2Session3</td>\n",
       "<td>franklab_tetrode_hippocampus</td>\n",
       "<td>SequenceTask</td>\n",
       "<td>clusterless_thresholder</td>\n",
       "<td>default</td>\n",
       "<td>Julio20230811_.nwb_06_Seq2Session3_22_franklab_tetrode_hippocampus_ampl_1500_prop_075_1ms_artifact_removed_valid_times_track_time_only</td>\n",
       "<td>default</td>\n",
       "<td>pos 5 valid times</td>\n",
       "<td>500.0</td>\n",
       "<td>Julio20230811_TTPWP55LL2.nwb</td>\n",
       "<td>5a5c382e-d611-4617-b1bf-9116eea2cd6e</td></tr><tr><td>0</td>\n",
       "<td>Julio20230811_.nwb</td>\n",
       "<td>26</td>\n",
       "<td>06_Seq2Session3</td>\n",
       "<td>franklab_tetrode_hippocampus</td>\n",
       "<td>SequenceTask</td>\n",
       "<td>clusterless_thresholder</td>\n",
       "<td>default</td>\n",
       "<td>Julio20230811_.nwb_06_Seq2Session3_26_franklab_tetrode_hippocampus_ampl_1500_prop_075_1ms_artifact_removed_valid_times_track_time_only</td>\n",
       "<td>default</td>\n",
       "<td>pos 5 valid times</td>\n",
       "<td>500.0</td>\n",
       "<td>Julio20230811_I84AJBTR48.nwb</td>\n",
       "<td>b86e772a-3926-4bcd-9603-021f0a3ecc38</td></tr><tr><td>0</td>\n",
       "<td>Julio20230811_.nwb</td>\n",
       "<td>28</td>\n",
       "<td>06_Seq2Session3</td>\n",
       "<td>franklab_tetrode_hippocampus</td>\n",
       "<td>SequenceTask</td>\n",
       "<td>clusterless_thresholder</td>\n",
       "<td>default</td>\n",
       "<td>Julio20230811_.nwb_06_Seq2Session3_28_franklab_tetrode_hippocampus_ampl_1500_prop_075_1ms_artifact_removed_valid_times_track_time_only</td>\n",
       "<td>default</td>\n",
       "<td>pos 5 valid times</td>\n",
       "<td>500.0</td>\n",
       "<td>Julio20230811_3V76K96EAJ.nwb</td>\n",
       "<td>dad3561d-7f47-4d4e-ae97-8ab2d63a36a7</td> </tr> </tbody>\n",
       "        </table>\n",
       "        <p>...</p>\n",
       "        <p>Total: 25</p></div>\n",
       "        "
      ],
      "text/plain": [
       "*curation_id   *nwb_file_name *sort_group_id *sort_interval *preproc_param *team_name     *sorter        *sorter_params *artifact_remo *mark_param_na *interval_list *sampling_rate analysis_file_ marks_indicato\n",
       "+------------+ +------------+ +------------+ +------------+ +------------+ +------------+ +------------+ +------------+ +------------+ +------------+ +------------+ +------------+ +------------+ +------------+\n",
       "0              Julio20230811_ 2              06_Seq2Session franklab_tetro SequenceTask   clusterless_th default        Julio20230811_ default        pos 5 valid ti 500.0          Julio20230811_ ecfd4344-69c5-\n",
       "0              Julio20230811_ 3              06_Seq2Session franklab_tetro SequenceTask   clusterless_th default        Julio20230811_ default        pos 5 valid ti 500.0          Julio20230811_ d815f0ce-5e5a-\n",
       "0              Julio20230811_ 6              06_Seq2Session franklab_tetro SequenceTask   clusterless_th default        Julio20230811_ default        pos 5 valid ti 500.0          Julio20230811_ 414532b9-35ee-\n",
       "0              Julio20230811_ 7              06_Seq2Session franklab_tetro SequenceTask   clusterless_th default        Julio20230811_ default        pos 5 valid ti 500.0          Julio20230811_ c38787d0-6d15-\n",
       "0              Julio20230811_ 8              06_Seq2Session franklab_tetro SequenceTask   clusterless_th default        Julio20230811_ default        pos 5 valid ti 500.0          Julio20230811_ 8dffc59b-5784-\n",
       "0              Julio20230811_ 11             06_Seq2Session franklab_tetro SequenceTask   clusterless_th default        Julio20230811_ default        pos 5 valid ti 500.0          Julio20230811_ 0f3028bc-03e3-\n",
       "0              Julio20230811_ 12             06_Seq2Session franklab_tetro SequenceTask   clusterless_th default        Julio20230811_ default        pos 5 valid ti 500.0          Julio20230811_ 5001d036-12c2-\n",
       "0              Julio20230811_ 15             06_Seq2Session franklab_tetro SequenceTask   clusterless_th default        Julio20230811_ default        pos 5 valid ti 500.0          Julio20230811_ 3a2cc2b3-466f-\n",
       "0              Julio20230811_ 20             06_Seq2Session franklab_tetro SequenceTask   clusterless_th default        Julio20230811_ default        pos 5 valid ti 500.0          Julio20230811_ 38f67bd2-944c-\n",
       "0              Julio20230811_ 22             06_Seq2Session franklab_tetro SequenceTask   clusterless_th default        Julio20230811_ default        pos 5 valid ti 500.0          Julio20230811_ 5a5c382e-d611-\n",
       "0              Julio20230811_ 26             06_Seq2Session franklab_tetro SequenceTask   clusterless_th default        Julio20230811_ default        pos 5 valid ti 500.0          Julio20230811_ b86e772a-3926-\n",
       "0              Julio20230811_ 28             06_Seq2Session franklab_tetro SequenceTask   clusterless_th default        Julio20230811_ default        pos 5 valid ti 500.0          Julio20230811_ dad3561d-7f47-\n",
       "   ...\n",
       " (Total: 25)"
      ]
     },
     "execution_count": 24,
     "metadata": {},
     "output_type": "execute_result"
    }
   ],
   "source": [
    "UnitMarksIndicator & {\n",
    "    'nwb_file_name': nwb_copy_file_name  \n",
    "}"
   ]
  },
  {
   "cell_type": "markdown",
   "id": "57eb5a4e-4213-4da6-adc4-1b235c5f4695",
   "metadata": {},
   "source": [
    "## 2. Position\n",
    "\n",
    "After the marks look good, you'll need to load/populate the 2D position data. This comes from the `IntervalPositionInfo` table. See the position tutorial for more information. Note that we will need to upsample the position data (which is done here via the `default_decoding` parameters) to match the sampling frequency that we intend to decode in (2 ms time bins or 500 Hz sampling rate)"
   ]
  },
  {
   "cell_type": "markdown",
   "id": "4f3d6f91-2ca5-404e-afc9-f45d802d33ef",
   "metadata": {},
   "source": [
    "Next we populate/load the linearized position tables. Again refer to the linear position tutorials for more information."
   ]
  },
  {
   "cell_type": "code",
   "execution_count": 53,
   "id": "94b0297d-f5e9-474f-8e21-5f6e09bd599d",
   "metadata": {},
   "outputs": [],
   "source": [
    "position_df = (IntervalPositionInfo &\n",
    " {'nwb_file_name': nwb_copy_file_name,\n",
    "  'interval_list_name': position_interval[e],\n",
    "  'position_info_param_name': 'default_decoding'}\n",
    "              ).fetch1_dataframe()"
   ]
  },
  {
   "cell_type": "code",
   "execution_count": 54,
   "id": "d44671a7-2f0f-4d27-a052-73798189061f",
   "metadata": {},
   "outputs": [
    {
     "data": {
      "text/html": [
       "<div>\n",
       "<style scoped>\n",
       "    .dataframe tbody tr th:only-of-type {\n",
       "        vertical-align: middle;\n",
       "    }\n",
       "\n",
       "    .dataframe tbody tr th {\n",
       "        vertical-align: top;\n",
       "    }\n",
       "\n",
       "    .dataframe thead th {\n",
       "        text-align: right;\n",
       "    }\n",
       "</style>\n",
       "<table border=\"1\" class=\"dataframe\">\n",
       "  <thead>\n",
       "    <tr style=\"text-align: right;\">\n",
       "      <th></th>\n",
       "      <th>head_position_x</th>\n",
       "      <th>head_position_y</th>\n",
       "      <th>head_orientation</th>\n",
       "      <th>head_velocity_x</th>\n",
       "      <th>head_velocity_y</th>\n",
       "      <th>head_speed</th>\n",
       "    </tr>\n",
       "    <tr>\n",
       "      <th>time</th>\n",
       "      <th></th>\n",
       "      <th></th>\n",
       "      <th></th>\n",
       "      <th></th>\n",
       "      <th></th>\n",
       "      <th></th>\n",
       "    </tr>\n",
       "  </thead>\n",
       "  <tbody>\n",
       "    <tr>\n",
       "      <th>1.691778e+09</th>\n",
       "      <td>NaN</td>\n",
       "      <td>NaN</td>\n",
       "      <td>NaN</td>\n",
       "      <td>NaN</td>\n",
       "      <td>NaN</td>\n",
       "      <td>NaN</td>\n",
       "    </tr>\n",
       "    <tr>\n",
       "      <th>1.691778e+09</th>\n",
       "      <td>NaN</td>\n",
       "      <td>NaN</td>\n",
       "      <td>NaN</td>\n",
       "      <td>NaN</td>\n",
       "      <td>NaN</td>\n",
       "      <td>NaN</td>\n",
       "    </tr>\n",
       "    <tr>\n",
       "      <th>1.691778e+09</th>\n",
       "      <td>NaN</td>\n",
       "      <td>NaN</td>\n",
       "      <td>NaN</td>\n",
       "      <td>NaN</td>\n",
       "      <td>NaN</td>\n",
       "      <td>NaN</td>\n",
       "    </tr>\n",
       "    <tr>\n",
       "      <th>1.691778e+09</th>\n",
       "      <td>NaN</td>\n",
       "      <td>NaN</td>\n",
       "      <td>NaN</td>\n",
       "      <td>NaN</td>\n",
       "      <td>NaN</td>\n",
       "      <td>NaN</td>\n",
       "    </tr>\n",
       "    <tr>\n",
       "      <th>1.691778e+09</th>\n",
       "      <td>NaN</td>\n",
       "      <td>NaN</td>\n",
       "      <td>NaN</td>\n",
       "      <td>NaN</td>\n",
       "      <td>NaN</td>\n",
       "      <td>NaN</td>\n",
       "    </tr>\n",
       "    <tr>\n",
       "      <th>...</th>\n",
       "      <td>...</td>\n",
       "      <td>...</td>\n",
       "      <td>...</td>\n",
       "      <td>...</td>\n",
       "      <td>...</td>\n",
       "      <td>...</td>\n",
       "    </tr>\n",
       "    <tr>\n",
       "      <th>1.691780e+09</th>\n",
       "      <td>215.625</td>\n",
       "      <td>238.25</td>\n",
       "      <td>-1.325818</td>\n",
       "      <td>0.0</td>\n",
       "      <td>0.0</td>\n",
       "      <td>0.0</td>\n",
       "    </tr>\n",
       "    <tr>\n",
       "      <th>1.691780e+09</th>\n",
       "      <td>215.625</td>\n",
       "      <td>238.25</td>\n",
       "      <td>-1.325818</td>\n",
       "      <td>0.0</td>\n",
       "      <td>0.0</td>\n",
       "      <td>0.0</td>\n",
       "    </tr>\n",
       "    <tr>\n",
       "      <th>1.691780e+09</th>\n",
       "      <td>215.625</td>\n",
       "      <td>238.25</td>\n",
       "      <td>-1.325814</td>\n",
       "      <td>0.0</td>\n",
       "      <td>0.0</td>\n",
       "      <td>0.0</td>\n",
       "    </tr>\n",
       "    <tr>\n",
       "      <th>1.691780e+09</th>\n",
       "      <td>215.625</td>\n",
       "      <td>238.25</td>\n",
       "      <td>-1.239252</td>\n",
       "      <td>0.0</td>\n",
       "      <td>0.0</td>\n",
       "      <td>0.0</td>\n",
       "    </tr>\n",
       "    <tr>\n",
       "      <th>1.691780e+09</th>\n",
       "      <td>215.625</td>\n",
       "      <td>238.25</td>\n",
       "      <td>2.266151</td>\n",
       "      <td>0.0</td>\n",
       "      <td>0.0</td>\n",
       "      <td>0.0</td>\n",
       "    </tr>\n",
       "  </tbody>\n",
       "</table>\n",
       "<p>1075484 rows × 6 columns</p>\n",
       "</div>"
      ],
      "text/plain": [
       "              head_position_x  head_position_y  head_orientation  \\\n",
       "time                                                               \n",
       "1.691778e+09              NaN              NaN               NaN   \n",
       "1.691778e+09              NaN              NaN               NaN   \n",
       "1.691778e+09              NaN              NaN               NaN   \n",
       "1.691778e+09              NaN              NaN               NaN   \n",
       "1.691778e+09              NaN              NaN               NaN   \n",
       "...                       ...              ...               ...   \n",
       "1.691780e+09          215.625           238.25         -1.325818   \n",
       "1.691780e+09          215.625           238.25         -1.325818   \n",
       "1.691780e+09          215.625           238.25         -1.325814   \n",
       "1.691780e+09          215.625           238.25         -1.239252   \n",
       "1.691780e+09          215.625           238.25          2.266151   \n",
       "\n",
       "              head_velocity_x  head_velocity_y  head_speed  \n",
       "time                                                        \n",
       "1.691778e+09              NaN              NaN         NaN  \n",
       "1.691778e+09              NaN              NaN         NaN  \n",
       "1.691778e+09              NaN              NaN         NaN  \n",
       "1.691778e+09              NaN              NaN         NaN  \n",
       "1.691778e+09              NaN              NaN         NaN  \n",
       "...                       ...              ...         ...  \n",
       "1.691780e+09              0.0              0.0         0.0  \n",
       "1.691780e+09              0.0              0.0         0.0  \n",
       "1.691780e+09              0.0              0.0         0.0  \n",
       "1.691780e+09              0.0              0.0         0.0  \n",
       "1.691780e+09              0.0              0.0         0.0  \n",
       "\n",
       "[1075484 rows x 6 columns]"
      ]
     },
     "execution_count": 54,
     "metadata": {},
     "output_type": "execute_result"
    }
   ],
   "source": [
    "position_df"
   ]
  },
  {
   "cell_type": "code",
   "execution_count": 55,
   "id": "308bac74-947d-4929-b97e-fd1d251bcda1",
   "metadata": {
    "scrolled": true
   },
   "outputs": [
    {
     "name": "stderr",
     "output_type": "stream",
     "text": [
      "[23:08:27][WARNING] Spyglass: Deprecation: this class has been moved out of spyglass.common.common_position\n",
      "\tIntervalLinearizedPosition -> spyglass.linearization.v0.main.IntervalLinearizedPosition\n",
      "Please use the new location.\n",
      "24-Apr-25 23:08:27 Deprecation: this class has been moved out of spyglass.common.common_position\n",
      "\tIntervalLinearizedPosition -> spyglass.linearization.v0.main.IntervalLinearizedPosition\n",
      "Please use the new location.\n"
     ]
    },
    {
     "data": {
      "text/html": [
       "<div>\n",
       "<style scoped>\n",
       "    .dataframe tbody tr th:only-of-type {\n",
       "        vertical-align: middle;\n",
       "    }\n",
       "\n",
       "    .dataframe tbody tr th {\n",
       "        vertical-align: top;\n",
       "    }\n",
       "\n",
       "    .dataframe thead th {\n",
       "        text-align: right;\n",
       "    }\n",
       "</style>\n",
       "<table border=\"1\" class=\"dataframe\">\n",
       "  <thead>\n",
       "    <tr style=\"text-align: right;\">\n",
       "      <th></th>\n",
       "      <th>linear_position</th>\n",
       "      <th>track_segment_id</th>\n",
       "      <th>projected_x_position</th>\n",
       "      <th>projected_y_position</th>\n",
       "    </tr>\n",
       "    <tr>\n",
       "      <th>time</th>\n",
       "      <th></th>\n",
       "      <th></th>\n",
       "      <th></th>\n",
       "      <th></th>\n",
       "    </tr>\n",
       "  </thead>\n",
       "  <tbody>\n",
       "    <tr>\n",
       "      <th>1.691778e+09</th>\n",
       "      <td>NaN</td>\n",
       "      <td>0</td>\n",
       "      <td>NaN</td>\n",
       "      <td>NaN</td>\n",
       "    </tr>\n",
       "    <tr>\n",
       "      <th>1.691778e+09</th>\n",
       "      <td>NaN</td>\n",
       "      <td>0</td>\n",
       "      <td>NaN</td>\n",
       "      <td>NaN</td>\n",
       "    </tr>\n",
       "    <tr>\n",
       "      <th>1.691778e+09</th>\n",
       "      <td>NaN</td>\n",
       "      <td>0</td>\n",
       "      <td>NaN</td>\n",
       "      <td>NaN</td>\n",
       "    </tr>\n",
       "    <tr>\n",
       "      <th>1.691778e+09</th>\n",
       "      <td>NaN</td>\n",
       "      <td>0</td>\n",
       "      <td>NaN</td>\n",
       "      <td>NaN</td>\n",
       "    </tr>\n",
       "    <tr>\n",
       "      <th>1.691778e+09</th>\n",
       "      <td>NaN</td>\n",
       "      <td>0</td>\n",
       "      <td>NaN</td>\n",
       "      <td>NaN</td>\n",
       "    </tr>\n",
       "    <tr>\n",
       "      <th>...</th>\n",
       "      <td>...</td>\n",
       "      <td>...</td>\n",
       "      <td>...</td>\n",
       "      <td>...</td>\n",
       "    </tr>\n",
       "    <tr>\n",
       "      <th>1.691780e+09</th>\n",
       "      <td>0.0</td>\n",
       "      <td>0</td>\n",
       "      <td>210.25</td>\n",
       "      <td>234.0</td>\n",
       "    </tr>\n",
       "    <tr>\n",
       "      <th>1.691780e+09</th>\n",
       "      <td>0.0</td>\n",
       "      <td>0</td>\n",
       "      <td>210.25</td>\n",
       "      <td>234.0</td>\n",
       "    </tr>\n",
       "    <tr>\n",
       "      <th>1.691780e+09</th>\n",
       "      <td>0.0</td>\n",
       "      <td>0</td>\n",
       "      <td>210.25</td>\n",
       "      <td>234.0</td>\n",
       "    </tr>\n",
       "    <tr>\n",
       "      <th>1.691780e+09</th>\n",
       "      <td>0.0</td>\n",
       "      <td>0</td>\n",
       "      <td>210.25</td>\n",
       "      <td>234.0</td>\n",
       "    </tr>\n",
       "    <tr>\n",
       "      <th>1.691780e+09</th>\n",
       "      <td>0.0</td>\n",
       "      <td>0</td>\n",
       "      <td>210.25</td>\n",
       "      <td>234.0</td>\n",
       "    </tr>\n",
       "  </tbody>\n",
       "</table>\n",
       "<p>1075484 rows × 4 columns</p>\n",
       "</div>"
      ],
      "text/plain": [
       "              linear_position  track_segment_id  projected_x_position  \\\n",
       "time                                                                    \n",
       "1.691778e+09              NaN                 0                   NaN   \n",
       "1.691778e+09              NaN                 0                   NaN   \n",
       "1.691778e+09              NaN                 0                   NaN   \n",
       "1.691778e+09              NaN                 0                   NaN   \n",
       "1.691778e+09              NaN                 0                   NaN   \n",
       "...                       ...               ...                   ...   \n",
       "1.691780e+09              0.0                 0                210.25   \n",
       "1.691780e+09              0.0                 0                210.25   \n",
       "1.691780e+09              0.0                 0                210.25   \n",
       "1.691780e+09              0.0                 0                210.25   \n",
       "1.691780e+09              0.0                 0                210.25   \n",
       "\n",
       "              projected_y_position  \n",
       "time                                \n",
       "1.691778e+09                   NaN  \n",
       "1.691778e+09                   NaN  \n",
       "1.691778e+09                   NaN  \n",
       "1.691778e+09                   NaN  \n",
       "1.691778e+09                   NaN  \n",
       "...                            ...  \n",
       "1.691780e+09                 234.0  \n",
       "1.691780e+09                 234.0  \n",
       "1.691780e+09                 234.0  \n",
       "1.691780e+09                 234.0  \n",
       "1.691780e+09                 234.0  \n",
       "\n",
       "[1075484 rows x 4 columns]"
      ]
     },
     "execution_count": 55,
     "metadata": {},
     "output_type": "execute_result"
    }
   ],
   "source": [
    "from spyglass.common.common_position import IntervalLinearizedPosition\n",
    "\n",
    "linear_position_df = (IntervalLinearizedPosition() &\n",
    " {'nwb_file_name': nwb_copy_file_name,\n",
    "  'interval_list_name': position_interval[e],\n",
    "  'position_info_param_name': 'default_decoding'}\n",
    ").fetch1_dataframe()\n",
    "\n",
    "linear_position_df"
   ]
  },
  {
   "cell_type": "markdown",
   "id": "b3e25786-4d35-49f8-9768-81dba7c7098b",
   "metadata": {},
   "source": [
    "We should also quickly visualize the linear position in order to sanity check the values. Here we plot the 2D position projected to its corresponding 1D segment."
   ]
  },
  {
   "cell_type": "code",
   "execution_count": 56,
   "id": "b4e47250-ff99-4e1e-bf3b-f8a6f3ea9862",
   "metadata": {},
   "outputs": [
    {
     "data": {
      "text/plain": [
       "<matplotlib.collections.PathCollection at 0x7f83c3a2edd0>"
      ]
     },
     "execution_count": 56,
     "metadata": {},
     "output_type": "execute_result"
    },
    {
     "data": {
      "image/png": "[encoded data removed]",
      "text/plain": [
       "<Figure size 700x600 with 1 Axes>"
      ]
     },
     "metadata": {},
     "output_type": "display_data"
    }
   ],
   "source": [
    "plt.figure(figsize=(7, 6))\n",
    "plt.scatter(linear_position_df.projected_x_position, linear_position_df.projected_y_position,\n",
    "            c=linear_position_df.track_segment_id, cmap='tab20', s=1)"
   ]
  },
  {
   "cell_type": "markdown",
   "id": "b091236d-f46d-4e71-9ee8-1aa7ada1cd56",
   "metadata": {},
   "source": [
    "We should also plot the linearized position itself to make sure it is okay."
   ]
  },
  {
   "cell_type": "code",
   "execution_count": 57,
   "id": "4e25f9a7-b2c4-4a93-a548-67cf2d6b90a2",
   "metadata": {},
   "outputs": [
    {
     "data": {
      "text/plain": [
       "<matplotlib.collections.PathCollection at 0x7f82cb422560>"
      ]
     },
     "execution_count": 57,
     "metadata": {},
     "output_type": "execute_result"
    },
    {
     "data": {
      "image/png": "[encoded data removed]",
      "text/plain": [
       "<Figure size 2000x1000 with 1 Axes>"
      ]
     },
     "metadata": {},
     "output_type": "display_data"
    }
   ],
   "source": [
    "plt.figure(figsize=(20, 10))\n",
    "plt.scatter(linear_position_df.index, linear_position_df.linear_position, s=1,\n",
    "            c=linear_position_df.track_segment_id, cmap='tab20')"
   ]
  },
  {
   "cell_type": "markdown",
   "id": "a7542fc3-7b32-4bdc-bc5e-255fb89a0f50",
   "metadata": {},
   "source": [
    "Okay now that we've looked at the data, we should quickly verify that all our data is the same size."
   ]
  },
  {
   "cell_type": "markdown",
   "id": "36c55e7e-15fb-4c15-aa67-3ce61f7950f7",
   "metadata": {},
   "source": [
    "We also want to make sure we have valid ephys data and valid position data for decoding. Here we only have one valid time interval, but if we had more than one, we should decode on each interval separately."
   ]
  },
  {
   "cell_type": "code",
   "execution_count": 58,
   "id": "3a02f91d-fd36-407c-a87c-2cd209dd7183",
   "metadata": {},
   "outputs": [
    {
     "data": {
      "text/plain": [
       "((952590, 4, 25), (952588, 6), (952588, 4))"
      ]
     },
     "execution_count": 58,
     "metadata": {},
     "output_type": "execute_result"
    }
   ],
   "source": [
    "intersect_interval = intersectValidIntervals(nwb_copy_file_name,\n",
    "                                                session_interval[e],position_interval[e])\n",
    "marks_=[]\n",
    "linear_position_df_=[]\n",
    "position_df_ =[]\n",
    "for i in range(len(intersect_interval)):\n",
    "    valid_time_slice = slice(intersect_interval[i][0], intersect_interval[i][1])\n",
    "    \n",
    "    linear_position_df_.append(linear_position_df.loc[valid_time_slice])\n",
    "    position_df_.append(position_df.loc[valid_time_slice])\n",
    "    marks_.append(marks.sel(time=valid_time_slice))\n",
    "\n",
    "marks=xr.concat(marks_,dim='time')\n",
    "position_df = pd.concat(position_df_)\n",
    "linear_position_df=pd.concat(linear_position_df_)\n",
    "marks.shape, position_df.shape, linear_position_df.shape"
   ]
  },
  {
   "cell_type": "code",
   "execution_count": 64,
   "id": "4b6e6c8b-c206-485d-a908-d23f5aa15a2d",
   "metadata": {},
   "outputs": [],
   "source": [
    "animal = nwb_copy_file_name[:5]\n",
    "marks_path=os.path.join(f'/cumulus/shijie/recording_pilot/{animal}/decoding',\n",
    "                             nwb_copy_file_name+'_'+session_interval[e]+'_marks.nc')\n",
    "marks.to_netcdf(marks_path, engine = \"netcdf4\")"
   ]
  },
  {
   "cell_type": "code",
   "execution_count": null,
   "id": "ebf1230e-97d8-4ff4-9b66-67ec81308c5d",
   "metadata": {
    "scrolled": true
   },
   "outputs": [],
   "source": []
  },
  {
   "cell_type": "code",
   "execution_count": 44,
   "id": "b249f9eb-e19b-45aa-8792-168ce200afff",
   "metadata": {},
   "outputs": [
    {
     "data": {
      "text/plain": [
       "16.666666666666668"
      ]
     },
     "execution_count": 44,
     "metadata": {},
     "output_type": "execute_result"
    }
   ],
   "source": [
    "1000/60"
   ]
  },
  {
   "cell_type": "code",
   "execution_count": 33,
   "id": "58692822-2343-48f1-81ba-673230b9a8b1",
   "metadata": {},
   "outputs": [],
   "source": [
    "animal = nwb_copy_file_name[:5]\n",
    "marks_path=os.path.join(f'/cumulus/shijie/recording_pilot/{animal}/decoding',\n",
    "                             nwb_copy_file_name+'_'+session_interval[e]+'_marks.nc')\n",
    "marks.to_netcdf(marks_path)\n",
    "\n",
    "position1d_path=os.path.join(f'/cumulus/shijie/recording_pilot/{animal}/decoding',\n",
    "                             nwb_copy_file_name+'_'+session_interval[e]+'_1dposition.csv')\n",
    "linear_position_df.to_csv(position1d_path)\n",
    "\n",
    "position2d_path=os.path.join(f'/cumulus/shijie/recording_pilot/{animal}/decoding',\n",
    "                             nwb_copy_file_name+'_'+session_interval[e]+'_2dposition.csv')\n",
    "position_df.to_csv(position2d_path)"
   ]
  },
  {
   "cell_type": "code",
   "execution_count": 34,
   "id": "fc7939a0-1270-45c0-8aff-89603276b840",
   "metadata": {},
   "outputs": [],
   "source": [
    "from spyglass.shijiegu.Analysis_SGU import DecodeIngredients\n",
    "key={'nwb_file_name':nwb_copy_file_name,\n",
    "     'interval_list_name':session_interval[e],\n",
    "     'marks':marks_path,\n",
    "     'position_1d':position1d_path,\n",
    "     'position_2d':position2d_path}\n",
    "DecodeIngredients().insert1(key,replace=True)"
   ]
  },
  {
   "cell_type": "code",
   "execution_count": 29,
   "id": "1caf244a-7be5-47ce-aa63-960358291f71",
   "metadata": {},
   "outputs": [
    {
     "data": {
      "text/html": [
       "\n",
       "    \n",
       "    <style type=\"text/css\">\n",
       "        .Table{\n",
       "            border-collapse:collapse;\n",
       "        }\n",
       "        .Table th{\n",
       "            background: #A0A0A0; color: #ffffff; padding:4px; border:#f0e0e0 1px solid;\n",
       "            font-weight: normal; font-family: monospace; font-size: 100%;\n",
       "        }\n",
       "        .Table td{\n",
       "            padding:4px; border:#f0e0e0 1px solid; font-size:100%;\n",
       "        }\n",
       "        .Table tr:nth-child(odd){\n",
       "            background: #ffffff;\n",
       "            color: #000000;\n",
       "        }\n",
       "        .Table tr:nth-child(even){\n",
       "            background: #f3f1ff;\n",
       "            color: #000000;\n",
       "        }\n",
       "        /* Tooltip container */\n",
       "        .djtooltip {\n",
       "        }\n",
       "        /* Tooltip text */\n",
       "        .djtooltip .djtooltiptext {\n",
       "            visibility: hidden;\n",
       "            width: 120px;\n",
       "            background-color: black;\n",
       "            color: #fff;\n",
       "            text-align: center;\n",
       "            padding: 5px 0;\n",
       "            border-radius: 6px;\n",
       "            /* Position the tooltip text - see examples below! */\n",
       "            position: absolute;\n",
       "            z-index: 1;\n",
       "        }\n",
       "        #primary {\n",
       "            font-weight: bold;\n",
       "            color: black;\n",
       "        }\n",
       "        #nonprimary {\n",
       "            font-weight: normal;\n",
       "            color: white;\n",
       "        }\n",
       "\n",
       "        /* Show the tooltip text when you mouse over the tooltip container */\n",
       "        .djtooltip:hover .djtooltiptext {\n",
       "            visibility: visible;\n",
       "        }\n",
       "    </style>\n",
       "    \n",
       "    <b>decoded replay content</b>\n",
       "        <div style=\"max-height:1000px;max-width:1500px;overflow:auto;\">\n",
       "        <table border=\"1\" class=\"Table\">\n",
       "            <thead> <tr style=\"text-align: right;\"> <th> <div class=\"djtooltip\">\n",
       "                            <p id=\"primary\">nwb_file_name</p>\n",
       "                            <span class=\"djtooltiptext\">name of the NWB file</span>\n",
       "                        </div></th><th><div class=\"djtooltip\">\n",
       "                            <p id=\"primary\">interval_list_name</p>\n",
       "                            <span class=\"djtooltiptext\">descriptive name of this interval list</span>\n",
       "                        </div></th><th><div class=\"djtooltip\">\n",
       "                            <p id=\"nonprimary\">marks</p>\n",
       "                            <span class=\"djtooltiptext\">valid marks within that interval</span>\n",
       "                        </div></th><th><div class=\"djtooltip\">\n",
       "                            <p id=\"nonprimary\">position_1d</p>\n",
       "                            <span class=\"djtooltiptext\">valid position within that interval (1D), inluding all rat-on-track time</span>\n",
       "                        </div></th><th><div class=\"djtooltip\">\n",
       "                            <p id=\"nonprimary\">position_2d</p>\n",
       "                            <span class=\"djtooltiptext\">valid position within that interval (2D), inluding all rat-on-track time</span>\n",
       "                        </div> </th> </tr> </thead>\n",
       "            <tbody> <tr> <td>klein20231111_.nwb</td>\n",
       "<td>02_Rev2Session1</td>\n",
       "<td>=BLOB=</td>\n",
       "<td>=BLOB=</td>\n",
       "<td>=BLOB=</td></tr><tr><td>klein20231111_.nwb</td>\n",
       "<td>04_Rev2Session2</td>\n",
       "<td>=BLOB=</td>\n",
       "<td>=BLOB=</td>\n",
       "<td>=BLOB=</td></tr><tr><td>klein20231111_.nwb</td>\n",
       "<td>06_Rev2Session3</td>\n",
       "<td>=BLOB=</td>\n",
       "<td>=BLOB=</td>\n",
       "<td>=BLOB=</td></tr><tr><td>klein20231111_.nwb</td>\n",
       "<td>08_Rev2Session4</td>\n",
       "<td>=BLOB=</td>\n",
       "<td>=BLOB=</td>\n",
       "<td>=BLOB=</td></tr><tr><td>klein20231111_.nwb</td>\n",
       "<td>10_Rev2Session5</td>\n",
       "<td>=BLOB=</td>\n",
       "<td>=BLOB=</td>\n",
       "<td>=BLOB=</td> </tr> </tbody>\n",
       "        </table>\n",
       "        \n",
       "        <p>Total: 5</p></div>\n",
       "        "
      ],
      "text/plain": [
       "*nwb_file_name *interval_list marks      position_1 position_2\n",
       "+------------+ +------------+ +--------+ +--------+ +--------+\n",
       "klein20231111_ 02_Rev2Session =BLOB=     =BLOB=     =BLOB=    \n",
       "klein20231111_ 04_Rev2Session =BLOB=     =BLOB=     =BLOB=    \n",
       "klein20231111_ 06_Rev2Session =BLOB=     =BLOB=     =BLOB=    \n",
       "klein20231111_ 08_Rev2Session =BLOB=     =BLOB=     =BLOB=    \n",
       "klein20231111_ 10_Rev2Session =BLOB=     =BLOB=     =BLOB=    \n",
       " (Total: 5)"
      ]
     },
     "execution_count": 29,
     "metadata": {},
     "output_type": "execute_result"
    }
   ],
   "source": [
    "from spyglass.shijiegu.Analysis_SGU import DecodeIngredients\n",
    "DecodeIngredients() & {'nwb_file_name':nwb_copy_file_name}"
   ]
  },
  {
   "cell_type": "code",
   "execution_count": 87,
   "id": "5ab3fa58-321c-4950-8590-050c1032f46c",
   "metadata": {},
   "outputs": [
    {
     "name": "stdout",
     "output_type": "stream",
     "text": [
      "> \u001b[0;32m/home/shijiegu/Documents/spyglass/src/spyglass/shijiegu/decodeHelpers.py\u001b[0m(153)\u001b[0;36mdecodePrepMasterSession\u001b[0;34m()\u001b[0m\n",
      "\u001b[0;32m    151 \u001b[0;31m            \u001b[0;32massert\u001b[0m \u001b[0mlen\u001b[0m\u001b[0;34m(\u001b[0m\u001b[0mlinear_position_df_tmp\u001b[0m\u001b[0;34m)\u001b[0m \u001b[0;34m==\u001b[0m \u001b[0mmarks_tmp\u001b[0m\u001b[0;34m.\u001b[0m\u001b[0mshape\u001b[0m\u001b[0;34m[\u001b[0m\u001b[0;36m0\u001b[0m\u001b[0;34m]\u001b[0m\u001b[0;34m\u001b[0m\u001b[0;34m\u001b[0m\u001b[0m\n",
      "\u001b[0m\u001b[0;32m    152 \u001b[0;31m            \u001b[0;32massert\u001b[0m \u001b[0mlinear_position_df_tmp\u001b[0m\u001b[0;34m.\u001b[0m\u001b[0mindex\u001b[0m\u001b[0;34m[\u001b[0m\u001b[0;36m0\u001b[0m\u001b[0;34m]\u001b[0m \u001b[0;34m-\u001b[0m \u001b[0mfloat\u001b[0m\u001b[0;34m(\u001b[0m\u001b[0mmarks_tmp\u001b[0m\u001b[0;34m.\u001b[0m\u001b[0mtime\u001b[0m\u001b[0;34m[\u001b[0m\u001b[0;36m0\u001b[0m\u001b[0;34m]\u001b[0m\u001b[0;34m)\u001b[0m \u001b[0;34m<=\u001b[0m \u001b[0;36m0.003\u001b[0m\u001b[0;34m\u001b[0m\u001b[0;34m\u001b[0m\u001b[0m\n",
      "\u001b[0m\u001b[0;32m--> 153 \u001b[0;31m            \u001b[0;32massert\u001b[0m \u001b[0mlinear_position_df_tmp\u001b[0m\u001b[0;34m.\u001b[0m\u001b[0mindex\u001b[0m\u001b[0;34m[\u001b[0m\u001b[0;34m-\u001b[0m\u001b[0;36m1\u001b[0m\u001b[0;34m]\u001b[0m \u001b[0;34m-\u001b[0m \u001b[0mfloat\u001b[0m\u001b[0;34m(\u001b[0m\u001b[0mmarks_tmp\u001b[0m\u001b[0;34m.\u001b[0m\u001b[0mtime\u001b[0m\u001b[0;34m[\u001b[0m\u001b[0;34m-\u001b[0m\u001b[0;36m1\u001b[0m\u001b[0;34m]\u001b[0m\u001b[0;34m)\u001b[0m \u001b[0;34m<=\u001b[0m \u001b[0;36m0.003\u001b[0m\u001b[0;34m\u001b[0m\u001b[0;34m\u001b[0m\u001b[0m\n",
      "\u001b[0m\u001b[0;32m    154 \u001b[0;31m\u001b[0;34m\u001b[0m\u001b[0m\n",
      "\u001b[0m\u001b[0;32m    155 \u001b[0;31m            \u001b[0mlinear_position_df_\u001b[0m\u001b[0;34m.\u001b[0m\u001b[0mappend\u001b[0m\u001b[0;34m(\u001b[0m\u001b[0mlinear_position_df_tmp\u001b[0m\u001b[0;34m)\u001b[0m\u001b[0;34m\u001b[0m\u001b[0;34m\u001b[0m\u001b[0m\n",
      "\u001b[0m\n"
     ]
    },
    {
     "name": "stdin",
     "output_type": "stream",
     "text": [
      "ipdb>  linear_position_df_tmp.index[-1] - float(marks_tmp.time[-1])\n"
     ]
    },
    {
     "name": "stdout",
     "output_type": "stream",
     "text": [
      "0.0031299591064453125\n"
     ]
    },
    {
     "name": "stdin",
     "output_type": "stream",
     "text": [
      "ipdb>  exit\n"
     ]
    }
   ],
   "source": [
    "%debug"
   ]
  },
  {
   "cell_type": "markdown",
   "id": "b7971f39-91ca-4e42-a2b4-f4ec3012d4d7",
   "metadata": {},
   "source": [
    "# Run All sessions"
   ]
  },
  {
   "cell_type": "code",
   "execution_count": 25,
   "id": "538dc3a5-ba08-4182-89aa-72c3a0da7f7e",
   "metadata": {},
   "outputs": [
    {
     "name": "stdout",
     "output_type": "stream",
     "text": [
      "klein20231111_.nwb\n",
      "['02_Rev2Session1', '04_Rev2Session2', '06_Rev2Session3', '08_Rev2Session4', '10_Rev2Session5']\n"
     ]
    }
   ],
   "source": [
    "session_interval, position_interval = runSessionNames(nwb_copy_file_name)\n",
    "print(nwb_copy_file_name)\n",
    "print(session_interval)"
   ]
  },
  {
   "cell_type": "code",
   "execution_count": 26,
   "id": "19a52c25-7517-4232-82c8-a6eef23e0dc5",
   "metadata": {},
   "outputs": [
    {
     "name": "stdout",
     "output_type": "stream",
     "text": [
      "klein20231111_.nwb\n",
      "['01_Rev2Sleep1', '03_Rev2Sleep2', '05_Rev2Sleep3', '07_Rev2Sleep4', '09_Rev2Sleep5', '11_Rev2Sleep6']\n"
     ]
    }
   ],
   "source": [
    "sleep_interval, sleep_position_interval = sleepSessionNames(nwb_copy_file_name)\n",
    "print(nwb_copy_file_name)\n",
    "print(sleep_interval)"
   ]
  },
  {
   "cell_type": "code",
   "execution_count": 27,
   "id": "11c3d8b3-153e-4841-806a-5b6d1b5c34f0",
   "metadata": {},
   "outputs": [],
   "source": [
    "#%debug"
   ]
  },
  {
   "cell_type": "code",
   "execution_count": null,
   "id": "c670534d-c7ca-497d-880b-ca50f552a3a0",
   "metadata": {
    "scrolled": true
   },
   "outputs": [
    {
     "name": "stdout",
     "output_type": "stream",
     "text": [
      "0\n",
      "inserting into IntervalList\n",
      "done inserting into IntervalList\n",
      "8\n",
      "inserting into IntervalList\n",
      "done inserting into IntervalList\n",
      "10\n",
      "inserting into IntervalList\n",
      "done inserting into IntervalList\n",
      "11\n",
      "inserting into IntervalList\n",
      "done inserting into IntervalList\n",
      "12\n",
      "inserting into IntervalList\n",
      "done inserting into IntervalList\n",
      "15\n",
      "inserting into IntervalList\n",
      "done inserting into IntervalList\n",
      "16\n",
      "inserting into IntervalList\n",
      "done inserting into IntervalList\n",
      "28\n",
      "inserting into IntervalList\n",
      "done inserting into IntervalList\n",
      "30\n",
      "inserting into IntervalList\n",
      "done inserting into IntervalList\n",
      "36\n",
      "inserting into IntervalList\n",
      "done inserting into IntervalList\n",
      "45\n",
      "inserting into IntervalList\n",
      "done inserting into IntervalList\n",
      "52\n",
      "inserting into IntervalList\n",
      "done inserting into IntervalList\n",
      "53\n",
      "inserting into IntervalList\n",
      "done inserting into IntervalList\n",
      "54\n",
      "inserting into IntervalList\n",
      "done inserting into IntervalList\n",
      "63\n",
      "inserting into IntervalList\n",
      "done inserting into IntervalList\n"
     ]
    },
    {
     "name": "stderr",
     "output_type": "stream",
     "text": [
      "[12:50:49][INFO] Spyglass: Running spike sorting on {'nwb_file_name': 'klein20231111_.nwb', 'sort_group_id': 0, 'sort_interval_name': '02_Rev2Session1', 'preproc_params_name': 'franklab_tetrode_hippocampus', 'team_name': 'SequenceTask', 'sorter': 'clusterless_thresholder', 'sorter_params_name': 'default', 'artifact_removed_interval_list_name': 'klein20231111_.nwb_02_Rev2Session1_0_franklab_tetrode_hippocampus_ampl_1500_prop_075_1ms_artifact_removed_valid_times_track_time_only'}...\n",
      "14-Jun-25 12:50:49 Running spike sorting on {'nwb_file_name': 'klein20231111_.nwb', 'sort_group_id': 0, 'sort_interval_name': '02_Rev2Session1', 'preproc_params_name': 'franklab_tetrode_hippocampus', 'team_name': 'SequenceTask', 'sorter': 'clusterless_thresholder', 'sorter_params_name': 'default', 'artifact_removed_interval_list_name': 'klein20231111_.nwb_02_Rev2Session1_0_franklab_tetrode_hippocampus_ampl_1500_prop_075_1ms_artifact_removed_valid_times_track_time_only'}...\n"
     ]
    },
    {
     "data": {
      "application/vnd.jupyter.widget-view+json": {
       "model_id": "c991d02c751d4b1ba6b62c707c566954",
       "version_major": 2,
       "version_minor": 0
      },
      "text/plain": [
       "detect peaks using locally_exclusive:   0%|          | 0/3068 [00:00<?, ?it/s]"
      ]
     },
     "metadata": {},
     "output_type": "display_data"
    },
    {
     "name": "stderr",
     "output_type": "stream",
     "text": [
      "[12:51:00][INFO] Spyglass: Saving sorting results...\n",
      "14-Jun-25 12:51:00 Saving sorting results...\n",
      "[12:51:07][INFO] Spyglass: Running spike sorting on {'nwb_file_name': 'klein20231111_.nwb', 'sort_group_id': 10, 'sort_interval_name': '02_Rev2Session1', 'preproc_params_name': 'franklab_tetrode_hippocampus', 'team_name': 'SequenceTask', 'sorter': 'clusterless_thresholder', 'sorter_params_name': 'default', 'artifact_removed_interval_list_name': 'klein20231111_.nwb_02_Rev2Session1_10_franklab_tetrode_hippocampus_ampl_1500_prop_075_1ms_artifact_removed_valid_times_track_time_only'}...\n",
      "14-Jun-25 12:51:07 Running spike sorting on {'nwb_file_name': 'klein20231111_.nwb', 'sort_group_id': 10, 'sort_interval_name': '02_Rev2Session1', 'preproc_params_name': 'franklab_tetrode_hippocampus', 'team_name': 'SequenceTask', 'sorter': 'clusterless_thresholder', 'sorter_params_name': 'default', 'artifact_removed_interval_list_name': 'klein20231111_.nwb_02_Rev2Session1_10_franklab_tetrode_hippocampus_ampl_1500_prop_075_1ms_artifact_removed_valid_times_track_time_only'}...\n"
     ]
    },
    {
     "data": {
      "application/vnd.jupyter.widget-view+json": {
       "model_id": "2d223d124f29457ba9e2e011625a8e69",
       "version_major": 2,
       "version_minor": 0
      },
      "text/plain": [
       "detect peaks using locally_exclusive:   0%|          | 0/3068 [00:00<?, ?it/s]"
      ]
     },
     "metadata": {},
     "output_type": "display_data"
    },
    {
     "name": "stderr",
     "output_type": "stream",
     "text": [
      "[12:51:16][INFO] Spyglass: Saving sorting results...\n",
      "14-Jun-25 12:51:16 Saving sorting results...\n",
      "[12:51:24][INFO] Spyglass: Running spike sorting on {'nwb_file_name': 'klein20231111_.nwb', 'sort_group_id': 11, 'sort_interval_name': '02_Rev2Session1', 'preproc_params_name': 'franklab_tetrode_hippocampus', 'team_name': 'SequenceTask', 'sorter': 'clusterless_thresholder', 'sorter_params_name': 'default', 'artifact_removed_interval_list_name': 'klein20231111_.nwb_02_Rev2Session1_11_franklab_tetrode_hippocampus_ampl_1500_prop_075_1ms_artifact_removed_valid_times_track_time_only'}...\n",
      "14-Jun-25 12:51:24 Running spike sorting on {'nwb_file_name': 'klein20231111_.nwb', 'sort_group_id': 11, 'sort_interval_name': '02_Rev2Session1', 'preproc_params_name': 'franklab_tetrode_hippocampus', 'team_name': 'SequenceTask', 'sorter': 'clusterless_thresholder', 'sorter_params_name': 'default', 'artifact_removed_interval_list_name': 'klein20231111_.nwb_02_Rev2Session1_11_franklab_tetrode_hippocampus_ampl_1500_prop_075_1ms_artifact_removed_valid_times_track_time_only'}...\n"
     ]
    },
    {
     "data": {
      "application/vnd.jupyter.widget-view+json": {
       "model_id": "af7f1ebf02884cb08c79fb72c4b3fedc",
       "version_major": 2,
       "version_minor": 0
      },
      "text/plain": [
       "detect peaks using locally_exclusive:   0%|          | 0/3068 [00:00<?, ?it/s]"
      ]
     },
     "metadata": {},
     "output_type": "display_data"
    },
    {
     "name": "stderr",
     "output_type": "stream",
     "text": [
      "[12:51:35][INFO] Spyglass: Saving sorting results...\n",
      "14-Jun-25 12:51:35 Saving sorting results...\n",
      "[12:51:44][INFO] Spyglass: Running spike sorting on {'nwb_file_name': 'klein20231111_.nwb', 'sort_group_id': 12, 'sort_interval_name': '02_Rev2Session1', 'preproc_params_name': 'franklab_tetrode_hippocampus', 'team_name': 'SequenceTask', 'sorter': 'clusterless_thresholder', 'sorter_params_name': 'default', 'artifact_removed_interval_list_name': 'klein20231111_.nwb_02_Rev2Session1_12_franklab_tetrode_hippocampus_ampl_1500_prop_075_1ms_artifact_removed_valid_times_track_time_only'}...\n",
      "14-Jun-25 12:51:44 Running spike sorting on {'nwb_file_name': 'klein20231111_.nwb', 'sort_group_id': 12, 'sort_interval_name': '02_Rev2Session1', 'preproc_params_name': 'franklab_tetrode_hippocampus', 'team_name': 'SequenceTask', 'sorter': 'clusterless_thresholder', 'sorter_params_name': 'default', 'artifact_removed_interval_list_name': 'klein20231111_.nwb_02_Rev2Session1_12_franklab_tetrode_hippocampus_ampl_1500_prop_075_1ms_artifact_removed_valid_times_track_time_only'}...\n"
     ]
    },
    {
     "data": {
      "application/vnd.jupyter.widget-view+json": {
       "model_id": "62e8dc8c761747c0a4c5c8f5f791566e",
       "version_major": 2,
       "version_minor": 0
      },
      "text/plain": [
       "detect peaks using locally_exclusive:   0%|          | 0/3068 [00:00<?, ?it/s]"
      ]
     },
     "metadata": {},
     "output_type": "display_data"
    },
    {
     "name": "stderr",
     "output_type": "stream",
     "text": [
      "[12:51:53][INFO] Spyglass: Saving sorting results...\n",
      "14-Jun-25 12:51:53 Saving sorting results...\n",
      "[12:52:02][INFO] Spyglass: Running spike sorting on {'nwb_file_name': 'klein20231111_.nwb', 'sort_group_id': 15, 'sort_interval_name': '02_Rev2Session1', 'preproc_params_name': 'franklab_tetrode_hippocampus', 'team_name': 'SequenceTask', 'sorter': 'clusterless_thresholder', 'sorter_params_name': 'default', 'artifact_removed_interval_list_name': 'klein20231111_.nwb_02_Rev2Session1_15_franklab_tetrode_hippocampus_ampl_1500_prop_075_1ms_artifact_removed_valid_times_track_time_only'}...\n",
      "14-Jun-25 12:52:02 Running spike sorting on {'nwb_file_name': 'klein20231111_.nwb', 'sort_group_id': 15, 'sort_interval_name': '02_Rev2Session1', 'preproc_params_name': 'franklab_tetrode_hippocampus', 'team_name': 'SequenceTask', 'sorter': 'clusterless_thresholder', 'sorter_params_name': 'default', 'artifact_removed_interval_list_name': 'klein20231111_.nwb_02_Rev2Session1_15_franklab_tetrode_hippocampus_ampl_1500_prop_075_1ms_artifact_removed_valid_times_track_time_only'}...\n"
     ]
    },
    {
     "data": {
      "application/vnd.jupyter.widget-view+json": {
       "model_id": "6e4487d0993547219dc801aa72e995e1",
       "version_major": 2,
       "version_minor": 0
      },
      "text/plain": [
       "detect peaks using locally_exclusive:   0%|          | 0/3068 [00:00<?, ?it/s]"
      ]
     },
     "metadata": {},
     "output_type": "display_data"
    },
    {
     "name": "stderr",
     "output_type": "stream",
     "text": [
      "[12:52:13][INFO] Spyglass: Saving sorting results...\n",
      "14-Jun-25 12:52:13 Saving sorting results...\n",
      "[12:52:17][INFO] Spyglass: Running spike sorting on {'nwb_file_name': 'klein20231111_.nwb', 'sort_group_id': 16, 'sort_interval_name': '02_Rev2Session1', 'preproc_params_name': 'franklab_tetrode_hippocampus', 'team_name': 'SequenceTask', 'sorter': 'clusterless_thresholder', 'sorter_params_name': 'default', 'artifact_removed_interval_list_name': 'klein20231111_.nwb_02_Rev2Session1_16_franklab_tetrode_hippocampus_ampl_1500_prop_075_1ms_artifact_removed_valid_times_track_time_only'}...\n",
      "14-Jun-25 12:52:17 Running spike sorting on {'nwb_file_name': 'klein20231111_.nwb', 'sort_group_id': 16, 'sort_interval_name': '02_Rev2Session1', 'preproc_params_name': 'franklab_tetrode_hippocampus', 'team_name': 'SequenceTask', 'sorter': 'clusterless_thresholder', 'sorter_params_name': 'default', 'artifact_removed_interval_list_name': 'klein20231111_.nwb_02_Rev2Session1_16_franklab_tetrode_hippocampus_ampl_1500_prop_075_1ms_artifact_removed_valid_times_track_time_only'}...\n"
     ]
    },
    {
     "data": {
      "application/vnd.jupyter.widget-view+json": {
       "model_id": "4b4adcf1766149e6ae5807edebe5028f",
       "version_major": 2,
       "version_minor": 0
      },
      "text/plain": [
       "detect peaks using locally_exclusive:   0%|          | 0/3068 [00:00<?, ?it/s]"
      ]
     },
     "metadata": {},
     "output_type": "display_data"
    },
    {
     "name": "stderr",
     "output_type": "stream",
     "text": [
      "[12:52:29][INFO] Spyglass: Saving sorting results...\n",
      "14-Jun-25 12:52:29 Saving sorting results...\n",
      "[12:52:32][INFO] Spyglass: Running spike sorting on {'nwb_file_name': 'klein20231111_.nwb', 'sort_group_id': 28, 'sort_interval_name': '02_Rev2Session1', 'preproc_params_name': 'franklab_tetrode_hippocampus', 'team_name': 'SequenceTask', 'sorter': 'clusterless_thresholder', 'sorter_params_name': 'default', 'artifact_removed_interval_list_name': 'klein20231111_.nwb_02_Rev2Session1_28_franklab_tetrode_hippocampus_ampl_1500_prop_075_1ms_artifact_removed_valid_times_track_time_only'}...\n",
      "14-Jun-25 12:52:32 Running spike sorting on {'nwb_file_name': 'klein20231111_.nwb', 'sort_group_id': 28, 'sort_interval_name': '02_Rev2Session1', 'preproc_params_name': 'franklab_tetrode_hippocampus', 'team_name': 'SequenceTask', 'sorter': 'clusterless_thresholder', 'sorter_params_name': 'default', 'artifact_removed_interval_list_name': 'klein20231111_.nwb_02_Rev2Session1_28_franklab_tetrode_hippocampus_ampl_1500_prop_075_1ms_artifact_removed_valid_times_track_time_only'}...\n"
     ]
    },
    {
     "data": {
      "application/vnd.jupyter.widget-view+json": {
       "model_id": "04744dfabc44489f9054d871b0abc882",
       "version_major": 2,
       "version_minor": 0
      },
      "text/plain": [
       "detect peaks using locally_exclusive:   0%|          | 0/3068 [00:00<?, ?it/s]"
      ]
     },
     "metadata": {},
     "output_type": "display_data"
    },
    {
     "name": "stderr",
     "output_type": "stream",
     "text": [
      "[12:52:43][INFO] Spyglass: Saving sorting results...\n",
      "14-Jun-25 12:52:43 Saving sorting results...\n",
      "[12:52:46][INFO] Spyglass: Running spike sorting on {'nwb_file_name': 'klein20231111_.nwb', 'sort_group_id': 30, 'sort_interval_name': '02_Rev2Session1', 'preproc_params_name': 'franklab_tetrode_hippocampus', 'team_name': 'SequenceTask', 'sorter': 'clusterless_thresholder', 'sorter_params_name': 'default', 'artifact_removed_interval_list_name': 'klein20231111_.nwb_02_Rev2Session1_30_franklab_tetrode_hippocampus_ampl_1500_prop_075_1ms_artifact_removed_valid_times_track_time_only'}...\n",
      "14-Jun-25 12:52:46 Running spike sorting on {'nwb_file_name': 'klein20231111_.nwb', 'sort_group_id': 30, 'sort_interval_name': '02_Rev2Session1', 'preproc_params_name': 'franklab_tetrode_hippocampus', 'team_name': 'SequenceTask', 'sorter': 'clusterless_thresholder', 'sorter_params_name': 'default', 'artifact_removed_interval_list_name': 'klein20231111_.nwb_02_Rev2Session1_30_franklab_tetrode_hippocampus_ampl_1500_prop_075_1ms_artifact_removed_valid_times_track_time_only'}...\n"
     ]
    },
    {
     "data": {
      "application/vnd.jupyter.widget-view+json": {
       "model_id": "b5ea30a63d4e4de184eaf69a52c9b0da",
       "version_major": 2,
       "version_minor": 0
      },
      "text/plain": [
       "detect peaks using locally_exclusive:   0%|          | 0/3068 [00:00<?, ?it/s]"
      ]
     },
     "metadata": {},
     "output_type": "display_data"
    },
    {
     "name": "stderr",
     "output_type": "stream",
     "text": [
      "[12:52:57][INFO] Spyglass: Saving sorting results...\n",
      "14-Jun-25 12:52:57 Saving sorting results...\n",
      "[12:53:00][INFO] Spyglass: Running spike sorting on {'nwb_file_name': 'klein20231111_.nwb', 'sort_group_id': 36, 'sort_interval_name': '02_Rev2Session1', 'preproc_params_name': 'franklab_tetrode_hippocampus', 'team_name': 'SequenceTask', 'sorter': 'clusterless_thresholder', 'sorter_params_name': 'default', 'artifact_removed_interval_list_name': 'klein20231111_.nwb_02_Rev2Session1_36_franklab_tetrode_hippocampus_ampl_1500_prop_075_1ms_artifact_removed_valid_times_track_time_only'}...\n",
      "14-Jun-25 12:53:00 Running spike sorting on {'nwb_file_name': 'klein20231111_.nwb', 'sort_group_id': 36, 'sort_interval_name': '02_Rev2Session1', 'preproc_params_name': 'franklab_tetrode_hippocampus', 'team_name': 'SequenceTask', 'sorter': 'clusterless_thresholder', 'sorter_params_name': 'default', 'artifact_removed_interval_list_name': 'klein20231111_.nwb_02_Rev2Session1_36_franklab_tetrode_hippocampus_ampl_1500_prop_075_1ms_artifact_removed_valid_times_track_time_only'}...\n"
     ]
    },
    {
     "data": {
      "application/vnd.jupyter.widget-view+json": {
       "model_id": "b27bf6a0c427479ab3cb5b491eff531a",
       "version_major": 2,
       "version_minor": 0
      },
      "text/plain": [
       "detect peaks using locally_exclusive:   0%|          | 0/3068 [00:00<?, ?it/s]"
      ]
     },
     "metadata": {},
     "output_type": "display_data"
    },
    {
     "name": "stderr",
     "output_type": "stream",
     "text": [
      "[12:53:13][INFO] Spyglass: Saving sorting results...\n",
      "14-Jun-25 12:53:13 Saving sorting results...\n",
      "[12:53:16][INFO] Spyglass: Running spike sorting on {'nwb_file_name': 'klein20231111_.nwb', 'sort_group_id': 45, 'sort_interval_name': '02_Rev2Session1', 'preproc_params_name': 'franklab_tetrode_hippocampus', 'team_name': 'SequenceTask', 'sorter': 'clusterless_thresholder', 'sorter_params_name': 'default', 'artifact_removed_interval_list_name': 'klein20231111_.nwb_02_Rev2Session1_45_franklab_tetrode_hippocampus_ampl_1500_prop_075_1ms_artifact_removed_valid_times_track_time_only'}...\n",
      "14-Jun-25 12:53:16 Running spike sorting on {'nwb_file_name': 'klein20231111_.nwb', 'sort_group_id': 45, 'sort_interval_name': '02_Rev2Session1', 'preproc_params_name': 'franklab_tetrode_hippocampus', 'team_name': 'SequenceTask', 'sorter': 'clusterless_thresholder', 'sorter_params_name': 'default', 'artifact_removed_interval_list_name': 'klein20231111_.nwb_02_Rev2Session1_45_franklab_tetrode_hippocampus_ampl_1500_prop_075_1ms_artifact_removed_valid_times_track_time_only'}...\n"
     ]
    },
    {
     "data": {
      "application/vnd.jupyter.widget-view+json": {
       "model_id": "c67aa636b5784fb0ac54937c37ee0807",
       "version_major": 2,
       "version_minor": 0
      },
      "text/plain": [
       "detect peaks using locally_exclusive:   0%|          | 0/3068 [00:00<?, ?it/s]"
      ]
     },
     "metadata": {},
     "output_type": "display_data"
    },
    {
     "name": "stderr",
     "output_type": "stream",
     "text": [
      "[12:53:27][INFO] Spyglass: Saving sorting results...\n",
      "14-Jun-25 12:53:27 Saving sorting results...\n",
      "[12:53:31][INFO] Spyglass: Running spike sorting on {'nwb_file_name': 'klein20231111_.nwb', 'sort_group_id': 52, 'sort_interval_name': '02_Rev2Session1', 'preproc_params_name': 'franklab_tetrode_hippocampus', 'team_name': 'SequenceTask', 'sorter': 'clusterless_thresholder', 'sorter_params_name': 'default', 'artifact_removed_interval_list_name': 'klein20231111_.nwb_02_Rev2Session1_52_franklab_tetrode_hippocampus_ampl_1500_prop_075_1ms_artifact_removed_valid_times_track_time_only'}...\n",
      "14-Jun-25 12:53:31 Running spike sorting on {'nwb_file_name': 'klein20231111_.nwb', 'sort_group_id': 52, 'sort_interval_name': '02_Rev2Session1', 'preproc_params_name': 'franklab_tetrode_hippocampus', 'team_name': 'SequenceTask', 'sorter': 'clusterless_thresholder', 'sorter_params_name': 'default', 'artifact_removed_interval_list_name': 'klein20231111_.nwb_02_Rev2Session1_52_franklab_tetrode_hippocampus_ampl_1500_prop_075_1ms_artifact_removed_valid_times_track_time_only'}...\n"
     ]
    },
    {
     "data": {
      "application/vnd.jupyter.widget-view+json": {
       "model_id": "77bf2dbef15e4c5d8072a7d4a56d7608",
       "version_major": 2,
       "version_minor": 0
      },
      "text/plain": [
       "detect peaks using locally_exclusive:   0%|          | 0/3068 [00:00<?, ?it/s]"
      ]
     },
     "metadata": {},
     "output_type": "display_data"
    },
    {
     "name": "stderr",
     "output_type": "stream",
     "text": [
      "[12:53:41][INFO] Spyglass: Saving sorting results...\n",
      "14-Jun-25 12:53:41 Saving sorting results...\n",
      "[12:53:45][INFO] Spyglass: Running spike sorting on {'nwb_file_name': 'klein20231111_.nwb', 'sort_group_id': 53, 'sort_interval_name': '02_Rev2Session1', 'preproc_params_name': 'franklab_tetrode_hippocampus', 'team_name': 'SequenceTask', 'sorter': 'clusterless_thresholder', 'sorter_params_name': 'default', 'artifact_removed_interval_list_name': 'klein20231111_.nwb_02_Rev2Session1_53_franklab_tetrode_hippocampus_ampl_1500_prop_075_1ms_artifact_removed_valid_times_track_time_only'}...\n",
      "14-Jun-25 12:53:45 Running spike sorting on {'nwb_file_name': 'klein20231111_.nwb', 'sort_group_id': 53, 'sort_interval_name': '02_Rev2Session1', 'preproc_params_name': 'franklab_tetrode_hippocampus', 'team_name': 'SequenceTask', 'sorter': 'clusterless_thresholder', 'sorter_params_name': 'default', 'artifact_removed_interval_list_name': 'klein20231111_.nwb_02_Rev2Session1_53_franklab_tetrode_hippocampus_ampl_1500_prop_075_1ms_artifact_removed_valid_times_track_time_only'}...\n"
     ]
    },
    {
     "data": {
      "application/vnd.jupyter.widget-view+json": {
       "model_id": "591c5c506ed044989fd4f301b496dc2c",
       "version_major": 2,
       "version_minor": 0
      },
      "text/plain": [
       "detect peaks using locally_exclusive:   0%|          | 0/3068 [00:00<?, ?it/s]"
      ]
     },
     "metadata": {},
     "output_type": "display_data"
    },
    {
     "name": "stderr",
     "output_type": "stream",
     "text": [
      "[12:53:55][INFO] Spyglass: Saving sorting results...\n",
      "14-Jun-25 12:53:55 Saving sorting results...\n",
      "[12:53:58][INFO] Spyglass: Running spike sorting on {'nwb_file_name': 'klein20231111_.nwb', 'sort_group_id': 54, 'sort_interval_name': '02_Rev2Session1', 'preproc_params_name': 'franklab_tetrode_hippocampus', 'team_name': 'SequenceTask', 'sorter': 'clusterless_thresholder', 'sorter_params_name': 'default', 'artifact_removed_interval_list_name': 'klein20231111_.nwb_02_Rev2Session1_54_franklab_tetrode_hippocampus_ampl_1500_prop_075_1ms_artifact_removed_valid_times_track_time_only'}...\n",
      "14-Jun-25 12:53:58 Running spike sorting on {'nwb_file_name': 'klein20231111_.nwb', 'sort_group_id': 54, 'sort_interval_name': '02_Rev2Session1', 'preproc_params_name': 'franklab_tetrode_hippocampus', 'team_name': 'SequenceTask', 'sorter': 'clusterless_thresholder', 'sorter_params_name': 'default', 'artifact_removed_interval_list_name': 'klein20231111_.nwb_02_Rev2Session1_54_franklab_tetrode_hippocampus_ampl_1500_prop_075_1ms_artifact_removed_valid_times_track_time_only'}...\n"
     ]
    },
    {
     "data": {
      "application/vnd.jupyter.widget-view+json": {
       "model_id": "7d805812f75543bcb797f52931939a13",
       "version_major": 2,
       "version_minor": 0
      },
      "text/plain": [
       "detect peaks using locally_exclusive:   0%|          | 0/3068 [00:00<?, ?it/s]"
      ]
     },
     "metadata": {},
     "output_type": "display_data"
    },
    {
     "name": "stderr",
     "output_type": "stream",
     "text": [
      "[12:54:07][INFO] Spyglass: Saving sorting results...\n",
      "14-Jun-25 12:54:07 Saving sorting results...\n",
      "[12:54:11][INFO] Spyglass: Running spike sorting on {'nwb_file_name': 'klein20231111_.nwb', 'sort_group_id': 63, 'sort_interval_name': '02_Rev2Session1', 'preproc_params_name': 'franklab_tetrode_hippocampus', 'team_name': 'SequenceTask', 'sorter': 'clusterless_thresholder', 'sorter_params_name': 'default', 'artifact_removed_interval_list_name': 'klein20231111_.nwb_02_Rev2Session1_63_franklab_tetrode_hippocampus_ampl_1500_prop_075_1ms_artifact_removed_valid_times_track_time_only'}...\n",
      "14-Jun-25 12:54:11 Running spike sorting on {'nwb_file_name': 'klein20231111_.nwb', 'sort_group_id': 63, 'sort_interval_name': '02_Rev2Session1', 'preproc_params_name': 'franklab_tetrode_hippocampus', 'team_name': 'SequenceTask', 'sorter': 'clusterless_thresholder', 'sorter_params_name': 'default', 'artifact_removed_interval_list_name': 'klein20231111_.nwb_02_Rev2Session1_63_franklab_tetrode_hippocampus_ampl_1500_prop_075_1ms_artifact_removed_valid_times_track_time_only'}...\n"
     ]
    },
    {
     "data": {
      "application/vnd.jupyter.widget-view+json": {
       "model_id": "e910a6715ac74998a830498bd8890f36",
       "version_major": 2,
       "version_minor": 0
      },
      "text/plain": [
       "detect peaks using locally_exclusive:   0%|          | 0/3068 [00:00<?, ?it/s]"
      ]
     },
     "metadata": {},
     "output_type": "display_data"
    },
    {
     "name": "stderr",
     "output_type": "stream",
     "text": [
      "[12:54:22][INFO] Spyglass: Saving sorting results...\n",
      "14-Jun-25 12:54:22 Saving sorting results...\n",
      "[12:54:33][INFO] Spyglass: Running spike sorting on {'nwb_file_name': 'klein20231111_.nwb', 'sort_group_id': 8, 'sort_interval_name': '02_Rev2Session1', 'preproc_params_name': 'franklab_tetrode_hippocampus', 'team_name': 'SequenceTask', 'sorter': 'clusterless_thresholder', 'sorter_params_name': 'default', 'artifact_removed_interval_list_name': 'klein20231111_.nwb_02_Rev2Session1_8_franklab_tetrode_hippocampus_ampl_1500_prop_075_1ms_artifact_removed_valid_times_track_time_only'}...\n",
      "14-Jun-25 12:54:33 Running spike sorting on {'nwb_file_name': 'klein20231111_.nwb', 'sort_group_id': 8, 'sort_interval_name': '02_Rev2Session1', 'preproc_params_name': 'franklab_tetrode_hippocampus', 'team_name': 'SequenceTask', 'sorter': 'clusterless_thresholder', 'sorter_params_name': 'default', 'artifact_removed_interval_list_name': 'klein20231111_.nwb_02_Rev2Session1_8_franklab_tetrode_hippocampus_ampl_1500_prop_075_1ms_artifact_removed_valid_times_track_time_only'}...\n"
     ]
    },
    {
     "data": {
      "application/vnd.jupyter.widget-view+json": {
       "model_id": "8207ea0b6cbf4f8e8e7549bf49eaea66",
       "version_major": 2,
       "version_minor": 0
      },
      "text/plain": [
       "detect peaks using locally_exclusive:   0%|          | 0/3068 [00:00<?, ?it/s]"
      ]
     },
     "metadata": {},
     "output_type": "display_data"
    },
    {
     "name": "stderr",
     "output_type": "stream",
     "text": [
      "[12:54:45][INFO] Spyglass: Saving sorting results...\n",
      "14-Jun-25 12:54:45 Saving sorting results...\n",
      "[12:54:46][WARNING] Spyglass: Turning off transaction protection this table by default. Use use_transation=True to re-enable.\n",
      "Read more about transactions:\n",
      "https://docs.datajoint.io/python/definition/05-Transactions.html\n",
      "https://github.com/LorenFrankLab/spyglass/issues/1030\n",
      "14-Jun-25 12:54:46 Turning off transaction protection this table by default. Use use_transation=True to re-enable.\n",
      "Read more about transactions:\n",
      "https://docs.datajoint.io/python/definition/05-Transactions.html\n",
      "https://github.com/LorenFrankLab/spyglass/issues/1030\n",
      "[2025-06-14 12:54:50,344][WARNING]: Skipped checksum for file with hash: ecb885f0-f8b8-075c-38fe-d46f5518d325, and path: /stelmo/nwb/raw/klein20231111_.nwb\n",
      "14-Jun-25 12:54:50 Skipped checksum for file with hash: ecb885f0-f8b8-075c-38fe-d46f5518d325, and path: /stelmo/nwb/raw/klein20231111_.nwb\n",
      "[12:54:51][WARNING] Spyglass: Metrics for Curation {'curation_id': 0, 'nwb_file_name': 'klein20231111_.nwb', 'sort_group_id': 0, 'sort_interval_name': '02_Rev2Session1', 'preproc_params_name': 'franklab_tetrode_hippocampus', 'team_name': 'SequenceTask', 'sorter': 'clusterless_thresholder', 'sorter_params_name': 'default', 'artifact_removed_interval_list_name': 'klein20231111_.nwb_02_Rev2Session1_0_franklab_tetrode_hippocampus_ampl_1500_prop_075_1ms_artifact_removed_valid_times_track_time_only'} should normally be calculated before insertion here\n",
      "14-Jun-25 12:54:51 Metrics for Curation {'curation_id': 0, 'nwb_file_name': 'klein20231111_.nwb', 'sort_group_id': 0, 'sort_interval_name': '02_Rev2Session1', 'preproc_params_name': 'franklab_tetrode_hippocampus', 'team_name': 'SequenceTask', 'sorter': 'clusterless_thresholder', 'sorter_params_name': 'default', 'artifact_removed_interval_list_name': 'klein20231111_.nwb_02_Rev2Session1_0_franklab_tetrode_hippocampus_ampl_1500_prop_075_1ms_artifact_removed_valid_times_track_time_only'} should normally be calculated before insertion here\n",
      "[12:54:51][INFO] Spyglass: Found 1 accepted units\n",
      "14-Jun-25 12:54:51 Found 1 accepted units\n",
      "/home/shijiegu/anaconda3/envs/spyglass/lib/python3.10/site-packages/pynwb/behavior.py:48: UserWarning: SpatialSeries 'series_0' has data shape (44222, 6) which is not compliant with NWB 2.5 and greater. The second dimension should have length <= 3 to represent at most x, y, z.\n",
      "  warnings.warn(\"SpatialSeries '%s' has data shape %s which is not compliant with NWB 2.5 and greater. \"\n",
      "/home/shijiegu/anaconda3/envs/spyglass/lib/python3.10/site-packages/pynwb/behavior.py:48: UserWarning: SpatialSeries 'series_1' has data shape (75048, 6) which is not compliant with NWB 2.5 and greater. The second dimension should have length <= 3 to represent at most x, y, z.\n",
      "  warnings.warn(\"SpatialSeries '%s' has data shape %s which is not compliant with NWB 2.5 and greater. \"\n",
      "/home/shijiegu/anaconda3/envs/spyglass/lib/python3.10/site-packages/pynwb/behavior.py:48: UserWarning: SpatialSeries 'series_10' has data shape (14355, 6) which is not compliant with NWB 2.5 and greater. The second dimension should have length <= 3 to represent at most x, y, z.\n",
      "  warnings.warn(\"SpatialSeries '%s' has data shape %s which is not compliant with NWB 2.5 and greater. \"\n",
      "/home/shijiegu/anaconda3/envs/spyglass/lib/python3.10/site-packages/pynwb/behavior.py:48: UserWarning: SpatialSeries 'series_2' has data shape (116537, 6) which is not compliant with NWB 2.5 and greater. The second dimension should have length <= 3 to represent at most x, y, z.\n",
      "  warnings.warn(\"SpatialSeries '%s' has data shape %s which is not compliant with NWB 2.5 and greater. \"\n",
      "/home/shijiegu/anaconda3/envs/spyglass/lib/python3.10/site-packages/pynwb/behavior.py:48: UserWarning: SpatialSeries 'series_3' has data shape (78494, 6) which is not compliant with NWB 2.5 and greater. The second dimension should have length <= 3 to represent at most x, y, z.\n",
      "  warnings.warn(\"SpatialSeries '%s' has data shape %s which is not compliant with NWB 2.5 and greater. \"\n",
      "/home/shijiegu/anaconda3/envs/spyglass/lib/python3.10/site-packages/pynwb/behavior.py:48: UserWarning: SpatialSeries 'series_4' has data shape (174480, 6) which is not compliant with NWB 2.5 and greater. The second dimension should have length <= 3 to represent at most x, y, z.\n",
      "  warnings.warn(\"SpatialSeries '%s' has data shape %s which is not compliant with NWB 2.5 and greater. \"\n",
      "/home/shijiegu/anaconda3/envs/spyglass/lib/python3.10/site-packages/pynwb/behavior.py:48: UserWarning: SpatialSeries 'series_5' has data shape (69806, 6) which is not compliant with NWB 2.5 and greater. The second dimension should have length <= 3 to represent at most x, y, z.\n",
      "  warnings.warn(\"SpatialSeries '%s' has data shape %s which is not compliant with NWB 2.5 and greater. \"\n",
      "/home/shijiegu/anaconda3/envs/spyglass/lib/python3.10/site-packages/pynwb/behavior.py:48: UserWarning: SpatialSeries 'series_6' has data shape (128385, 6) which is not compliant with NWB 2.5 and greater. The second dimension should have length <= 3 to represent at most x, y, z.\n",
      "  warnings.warn(\"SpatialSeries '%s' has data shape %s which is not compliant with NWB 2.5 and greater. \"\n",
      "/home/shijiegu/anaconda3/envs/spyglass/lib/python3.10/site-packages/pynwb/behavior.py:48: UserWarning: SpatialSeries 'series_7' has data shape (66099, 6) which is not compliant with NWB 2.5 and greater. The second dimension should have length <= 3 to represent at most x, y, z.\n",
      "  warnings.warn(\"SpatialSeries '%s' has data shape %s which is not compliant with NWB 2.5 and greater. \"\n",
      "/home/shijiegu/anaconda3/envs/spyglass/lib/python3.10/site-packages/pynwb/behavior.py:48: UserWarning: SpatialSeries 'series_8' has data shape (112403, 6) which is not compliant with NWB 2.5 and greater. The second dimension should have length <= 3 to represent at most x, y, z.\n",
      "  warnings.warn(\"SpatialSeries '%s' has data shape %s which is not compliant with NWB 2.5 and greater. \"\n",
      "/home/shijiegu/anaconda3/envs/spyglass/lib/python3.10/site-packages/pynwb/behavior.py:48: UserWarning: SpatialSeries 'series_9' has data shape (50881, 6) which is not compliant with NWB 2.5 and greater. The second dimension should have length <= 3 to represent at most x, y, z.\n",
      "  warnings.warn(\"SpatialSeries '%s' has data shape %s which is not compliant with NWB 2.5 and greater. \"\n",
      "[12:55:13][INFO] Spyglass: Writing new NWB file klein20231111_H5Y071X4D7.nwb\n",
      "14-Jun-25 12:55:13 Writing new NWB file klein20231111_H5Y071X4D7.nwb\n",
      "/home/shijiegu/anaconda3/envs/spyglass/lib/python3.10/site-packages/hdmf/build/objectmapper.py:687: MissingRequiredBuildWarning: NWBFile 'root' is missing required value for attribute 'source_script_file_name'.\n",
      "  warnings.warn(msg, MissingRequiredBuildWarning)\n",
      "/home/shijiegu/anaconda3/envs/spyglass/lib/python3.10/site-packages/hdmf/build/objectmapper.py:687: MissingRequiredBuildWarning: NWBFile 'root' is missing required value for attribute 'source_script_file_name'.\n",
      "  warnings.warn(msg, MissingRequiredBuildWarning)\n",
      "[12:55:25][WARNING] Spyglass: Metrics for Curation {'curation_id': 0, 'nwb_file_name': 'klein20231111_.nwb', 'sort_group_id': 8, 'sort_interval_name': '02_Rev2Session1', 'preproc_params_name': 'franklab_tetrode_hippocampus', 'team_name': 'SequenceTask', 'sorter': 'clusterless_thresholder', 'sorter_params_name': 'default', 'artifact_removed_interval_list_name': 'klein20231111_.nwb_02_Rev2Session1_8_franklab_tetrode_hippocampus_ampl_1500_prop_075_1ms_artifact_removed_valid_times_track_time_only'} should normally be calculated before insertion here\n",
      "14-Jun-25 12:55:25 Metrics for Curation {'curation_id': 0, 'nwb_file_name': 'klein20231111_.nwb', 'sort_group_id': 8, 'sort_interval_name': '02_Rev2Session1', 'preproc_params_name': 'franklab_tetrode_hippocampus', 'team_name': 'SequenceTask', 'sorter': 'clusterless_thresholder', 'sorter_params_name': 'default', 'artifact_removed_interval_list_name': 'klein20231111_.nwb_02_Rev2Session1_8_franklab_tetrode_hippocampus_ampl_1500_prop_075_1ms_artifact_removed_valid_times_track_time_only'} should normally be calculated before insertion here\n",
      "[12:55:25][INFO] Spyglass: Found 1 accepted units\n",
      "14-Jun-25 12:55:25 Found 1 accepted units\n",
      "/home/shijiegu/anaconda3/envs/spyglass/lib/python3.10/site-packages/pynwb/behavior.py:48: UserWarning: SpatialSeries 'series_0' has data shape (44222, 6) which is not compliant with NWB 2.5 and greater. The second dimension should have length <= 3 to represent at most x, y, z.\n",
      "  warnings.warn(\"SpatialSeries '%s' has data shape %s which is not compliant with NWB 2.5 and greater. \"\n",
      "/home/shijiegu/anaconda3/envs/spyglass/lib/python3.10/site-packages/pynwb/behavior.py:48: UserWarning: SpatialSeries 'series_1' has data shape (75048, 6) which is not compliant with NWB 2.5 and greater. The second dimension should have length <= 3 to represent at most x, y, z.\n",
      "  warnings.warn(\"SpatialSeries '%s' has data shape %s which is not compliant with NWB 2.5 and greater. \"\n",
      "/home/shijiegu/anaconda3/envs/spyglass/lib/python3.10/site-packages/pynwb/behavior.py:48: UserWarning: SpatialSeries 'series_10' has data shape (14355, 6) which is not compliant with NWB 2.5 and greater. The second dimension should have length <= 3 to represent at most x, y, z.\n",
      "  warnings.warn(\"SpatialSeries '%s' has data shape %s which is not compliant with NWB 2.5 and greater. \"\n",
      "/home/shijiegu/anaconda3/envs/spyglass/lib/python3.10/site-packages/pynwb/behavior.py:48: UserWarning: SpatialSeries 'series_2' has data shape (116537, 6) which is not compliant with NWB 2.5 and greater. The second dimension should have length <= 3 to represent at most x, y, z.\n",
      "  warnings.warn(\"SpatialSeries '%s' has data shape %s which is not compliant with NWB 2.5 and greater. \"\n",
      "/home/shijiegu/anaconda3/envs/spyglass/lib/python3.10/site-packages/pynwb/behavior.py:48: UserWarning: SpatialSeries 'series_3' has data shape (78494, 6) which is not compliant with NWB 2.5 and greater. The second dimension should have length <= 3 to represent at most x, y, z.\n",
      "  warnings.warn(\"SpatialSeries '%s' has data shape %s which is not compliant with NWB 2.5 and greater. \"\n",
      "/home/shijiegu/anaconda3/envs/spyglass/lib/python3.10/site-packages/pynwb/behavior.py:48: UserWarning: SpatialSeries 'series_4' has data shape (174480, 6) which is not compliant with NWB 2.5 and greater. The second dimension should have length <= 3 to represent at most x, y, z.\n",
      "  warnings.warn(\"SpatialSeries '%s' has data shape %s which is not compliant with NWB 2.5 and greater. \"\n",
      "/home/shijiegu/anaconda3/envs/spyglass/lib/python3.10/site-packages/pynwb/behavior.py:48: UserWarning: SpatialSeries 'series_5' has data shape (69806, 6) which is not compliant with NWB 2.5 and greater. The second dimension should have length <= 3 to represent at most x, y, z.\n",
      "  warnings.warn(\"SpatialSeries '%s' has data shape %s which is not compliant with NWB 2.5 and greater. \"\n",
      "/home/shijiegu/anaconda3/envs/spyglass/lib/python3.10/site-packages/pynwb/behavior.py:48: UserWarning: SpatialSeries 'series_6' has data shape (128385, 6) which is not compliant with NWB 2.5 and greater. The second dimension should have length <= 3 to represent at most x, y, z.\n",
      "  warnings.warn(\"SpatialSeries '%s' has data shape %s which is not compliant with NWB 2.5 and greater. \"\n",
      "/home/shijiegu/anaconda3/envs/spyglass/lib/python3.10/site-packages/pynwb/behavior.py:48: UserWarning: SpatialSeries 'series_7' has data shape (66099, 6) which is not compliant with NWB 2.5 and greater. The second dimension should have length <= 3 to represent at most x, y, z.\n",
      "  warnings.warn(\"SpatialSeries '%s' has data shape %s which is not compliant with NWB 2.5 and greater. \"\n",
      "/home/shijiegu/anaconda3/envs/spyglass/lib/python3.10/site-packages/pynwb/behavior.py:48: UserWarning: SpatialSeries 'series_8' has data shape (112403, 6) which is not compliant with NWB 2.5 and greater. The second dimension should have length <= 3 to represent at most x, y, z.\n",
      "  warnings.warn(\"SpatialSeries '%s' has data shape %s which is not compliant with NWB 2.5 and greater. \"\n",
      "/home/shijiegu/anaconda3/envs/spyglass/lib/python3.10/site-packages/pynwb/behavior.py:48: UserWarning: SpatialSeries 'series_9' has data shape (50881, 6) which is not compliant with NWB 2.5 and greater. The second dimension should have length <= 3 to represent at most x, y, z.\n",
      "  warnings.warn(\"SpatialSeries '%s' has data shape %s which is not compliant with NWB 2.5 and greater. \"\n",
      "[12:55:54][INFO] Spyglass: Writing new NWB file klein20231111_FK2FXEZTY1.nwb\n",
      "14-Jun-25 12:55:54 Writing new NWB file klein20231111_FK2FXEZTY1.nwb\n",
      "/home/shijiegu/anaconda3/envs/spyglass/lib/python3.10/site-packages/hdmf/build/objectmapper.py:687: MissingRequiredBuildWarning: NWBFile 'root' is missing required value for attribute 'source_script_file_name'.\n",
      "  warnings.warn(msg, MissingRequiredBuildWarning)\n",
      "/home/shijiegu/anaconda3/envs/spyglass/lib/python3.10/site-packages/hdmf/build/objectmapper.py:687: MissingRequiredBuildWarning: NWBFile 'root' is missing required value for attribute 'source_script_file_name'.\n",
      "  warnings.warn(msg, MissingRequiredBuildWarning)\n",
      "[12:56:08][WARNING] Spyglass: Metrics for Curation {'curation_id': 0, 'nwb_file_name': 'klein20231111_.nwb', 'sort_group_id': 10, 'sort_interval_name': '02_Rev2Session1', 'preproc_params_name': 'franklab_tetrode_hippocampus', 'team_name': 'SequenceTask', 'sorter': 'clusterless_thresholder', 'sorter_params_name': 'default', 'artifact_removed_interval_list_name': 'klein20231111_.nwb_02_Rev2Session1_10_franklab_tetrode_hippocampus_ampl_1500_prop_075_1ms_artifact_removed_valid_times_track_time_only'} should normally be calculated before insertion here\n",
      "14-Jun-25 12:56:08 Metrics for Curation {'curation_id': 0, 'nwb_file_name': 'klein20231111_.nwb', 'sort_group_id': 10, 'sort_interval_name': '02_Rev2Session1', 'preproc_params_name': 'franklab_tetrode_hippocampus', 'team_name': 'SequenceTask', 'sorter': 'clusterless_thresholder', 'sorter_params_name': 'default', 'artifact_removed_interval_list_name': 'klein20231111_.nwb_02_Rev2Session1_10_franklab_tetrode_hippocampus_ampl_1500_prop_075_1ms_artifact_removed_valid_times_track_time_only'} should normally be calculated before insertion here\n",
      "[12:56:08][INFO] Spyglass: Found 1 accepted units\n",
      "14-Jun-25 12:56:08 Found 1 accepted units\n",
      "/home/shijiegu/anaconda3/envs/spyglass/lib/python3.10/site-packages/pynwb/behavior.py:48: UserWarning: SpatialSeries 'series_0' has data shape (44222, 6) which is not compliant with NWB 2.5 and greater. The second dimension should have length <= 3 to represent at most x, y, z.\n",
      "  warnings.warn(\"SpatialSeries '%s' has data shape %s which is not compliant with NWB 2.5 and greater. \"\n",
      "/home/shijiegu/anaconda3/envs/spyglass/lib/python3.10/site-packages/pynwb/behavior.py:48: UserWarning: SpatialSeries 'series_1' has data shape (75048, 6) which is not compliant with NWB 2.5 and greater. The second dimension should have length <= 3 to represent at most x, y, z.\n",
      "  warnings.warn(\"SpatialSeries '%s' has data shape %s which is not compliant with NWB 2.5 and greater. \"\n",
      "/home/shijiegu/anaconda3/envs/spyglass/lib/python3.10/site-packages/pynwb/behavior.py:48: UserWarning: SpatialSeries 'series_10' has data shape (14355, 6) which is not compliant with NWB 2.5 and greater. The second dimension should have length <= 3 to represent at most x, y, z.\n",
      "  warnings.warn(\"SpatialSeries '%s' has data shape %s which is not compliant with NWB 2.5 and greater. \"\n",
      "/home/shijiegu/anaconda3/envs/spyglass/lib/python3.10/site-packages/pynwb/behavior.py:48: UserWarning: SpatialSeries 'series_2' has data shape (116537, 6) which is not compliant with NWB 2.5 and greater. The second dimension should have length <= 3 to represent at most x, y, z.\n",
      "  warnings.warn(\"SpatialSeries '%s' has data shape %s which is not compliant with NWB 2.5 and greater. \"\n",
      "/home/shijiegu/anaconda3/envs/spyglass/lib/python3.10/site-packages/pynwb/behavior.py:48: UserWarning: SpatialSeries 'series_3' has data shape (78494, 6) which is not compliant with NWB 2.5 and greater. The second dimension should have length <= 3 to represent at most x, y, z.\n",
      "  warnings.warn(\"SpatialSeries '%s' has data shape %s which is not compliant with NWB 2.5 and greater. \"\n",
      "/home/shijiegu/anaconda3/envs/spyglass/lib/python3.10/site-packages/pynwb/behavior.py:48: UserWarning: SpatialSeries 'series_4' has data shape (174480, 6) which is not compliant with NWB 2.5 and greater. The second dimension should have length <= 3 to represent at most x, y, z.\n",
      "  warnings.warn(\"SpatialSeries '%s' has data shape %s which is not compliant with NWB 2.5 and greater. \"\n",
      "/home/shijiegu/anaconda3/envs/spyglass/lib/python3.10/site-packages/pynwb/behavior.py:48: UserWarning: SpatialSeries 'series_5' has data shape (69806, 6) which is not compliant with NWB 2.5 and greater. The second dimension should have length <= 3 to represent at most x, y, z.\n",
      "  warnings.warn(\"SpatialSeries '%s' has data shape %s which is not compliant with NWB 2.5 and greater. \"\n",
      "/home/shijiegu/anaconda3/envs/spyglass/lib/python3.10/site-packages/pynwb/behavior.py:48: UserWarning: SpatialSeries 'series_6' has data shape (128385, 6) which is not compliant with NWB 2.5 and greater. The second dimension should have length <= 3 to represent at most x, y, z.\n",
      "  warnings.warn(\"SpatialSeries '%s' has data shape %s which is not compliant with NWB 2.5 and greater. \"\n",
      "/home/shijiegu/anaconda3/envs/spyglass/lib/python3.10/site-packages/pynwb/behavior.py:48: UserWarning: SpatialSeries 'series_7' has data shape (66099, 6) which is not compliant with NWB 2.5 and greater. The second dimension should have length <= 3 to represent at most x, y, z.\n",
      "  warnings.warn(\"SpatialSeries '%s' has data shape %s which is not compliant with NWB 2.5 and greater. \"\n",
      "/home/shijiegu/anaconda3/envs/spyglass/lib/python3.10/site-packages/pynwb/behavior.py:48: UserWarning: SpatialSeries 'series_8' has data shape (112403, 6) which is not compliant with NWB 2.5 and greater. The second dimension should have length <= 3 to represent at most x, y, z.\n",
      "  warnings.warn(\"SpatialSeries '%s' has data shape %s which is not compliant with NWB 2.5 and greater. \"\n",
      "/home/shijiegu/anaconda3/envs/spyglass/lib/python3.10/site-packages/pynwb/behavior.py:48: UserWarning: SpatialSeries 'series_9' has data shape (50881, 6) which is not compliant with NWB 2.5 and greater. The second dimension should have length <= 3 to represent at most x, y, z.\n",
      "  warnings.warn(\"SpatialSeries '%s' has data shape %s which is not compliant with NWB 2.5 and greater. \"\n",
      "[12:56:27][INFO] Spyglass: Writing new NWB file klein20231111_PSOI26XT1R.nwb\n",
      "14-Jun-25 12:56:27 Writing new NWB file klein20231111_PSOI26XT1R.nwb\n",
      "/home/shijiegu/anaconda3/envs/spyglass/lib/python3.10/site-packages/hdmf/build/objectmapper.py:687: MissingRequiredBuildWarning: NWBFile 'root' is missing required value for attribute 'source_script_file_name'.\n",
      "  warnings.warn(msg, MissingRequiredBuildWarning)\n",
      "/home/shijiegu/anaconda3/envs/spyglass/lib/python3.10/site-packages/hdmf/build/objectmapper.py:687: MissingRequiredBuildWarning: NWBFile 'root' is missing required value for attribute 'source_script_file_name'.\n",
      "  warnings.warn(msg, MissingRequiredBuildWarning)\n",
      "[12:56:38][WARNING] Spyglass: Metrics for Curation {'curation_id': 0, 'nwb_file_name': 'klein20231111_.nwb', 'sort_group_id': 11, 'sort_interval_name': '02_Rev2Session1', 'preproc_params_name': 'franklab_tetrode_hippocampus', 'team_name': 'SequenceTask', 'sorter': 'clusterless_thresholder', 'sorter_params_name': 'default', 'artifact_removed_interval_list_name': 'klein20231111_.nwb_02_Rev2Session1_11_franklab_tetrode_hippocampus_ampl_1500_prop_075_1ms_artifact_removed_valid_times_track_time_only'} should normally be calculated before insertion here\n",
      "14-Jun-25 12:56:38 Metrics for Curation {'curation_id': 0, 'nwb_file_name': 'klein20231111_.nwb', 'sort_group_id': 11, 'sort_interval_name': '02_Rev2Session1', 'preproc_params_name': 'franklab_tetrode_hippocampus', 'team_name': 'SequenceTask', 'sorter': 'clusterless_thresholder', 'sorter_params_name': 'default', 'artifact_removed_interval_list_name': 'klein20231111_.nwb_02_Rev2Session1_11_franklab_tetrode_hippocampus_ampl_1500_prop_075_1ms_artifact_removed_valid_times_track_time_only'} should normally be calculated before insertion here\n",
      "[12:56:38][INFO] Spyglass: Found 1 accepted units\n",
      "14-Jun-25 12:56:38 Found 1 accepted units\n",
      "/home/shijiegu/anaconda3/envs/spyglass/lib/python3.10/site-packages/pynwb/behavior.py:48: UserWarning: SpatialSeries 'series_0' has data shape (44222, 6) which is not compliant with NWB 2.5 and greater. The second dimension should have length <= 3 to represent at most x, y, z.\n",
      "  warnings.warn(\"SpatialSeries '%s' has data shape %s which is not compliant with NWB 2.5 and greater. \"\n",
      "/home/shijiegu/anaconda3/envs/spyglass/lib/python3.10/site-packages/pynwb/behavior.py:48: UserWarning: SpatialSeries 'series_1' has data shape (75048, 6) which is not compliant with NWB 2.5 and greater. The second dimension should have length <= 3 to represent at most x, y, z.\n",
      "  warnings.warn(\"SpatialSeries '%s' has data shape %s which is not compliant with NWB 2.5 and greater. \"\n",
      "/home/shijiegu/anaconda3/envs/spyglass/lib/python3.10/site-packages/pynwb/behavior.py:48: UserWarning: SpatialSeries 'series_10' has data shape (14355, 6) which is not compliant with NWB 2.5 and greater. The second dimension should have length <= 3 to represent at most x, y, z.\n",
      "  warnings.warn(\"SpatialSeries '%s' has data shape %s which is not compliant with NWB 2.5 and greater. \"\n",
      "/home/shijiegu/anaconda3/envs/spyglass/lib/python3.10/site-packages/pynwb/behavior.py:48: UserWarning: SpatialSeries 'series_2' has data shape (116537, 6) which is not compliant with NWB 2.5 and greater. The second dimension should have length <= 3 to represent at most x, y, z.\n",
      "  warnings.warn(\"SpatialSeries '%s' has data shape %s which is not compliant with NWB 2.5 and greater. \"\n",
      "/home/shijiegu/anaconda3/envs/spyglass/lib/python3.10/site-packages/pynwb/behavior.py:48: UserWarning: SpatialSeries 'series_3' has data shape (78494, 6) which is not compliant with NWB 2.5 and greater. The second dimension should have length <= 3 to represent at most x, y, z.\n",
      "  warnings.warn(\"SpatialSeries '%s' has data shape %s which is not compliant with NWB 2.5 and greater. \"\n",
      "/home/shijiegu/anaconda3/envs/spyglass/lib/python3.10/site-packages/pynwb/behavior.py:48: UserWarning: SpatialSeries 'series_4' has data shape (174480, 6) which is not compliant with NWB 2.5 and greater. The second dimension should have length <= 3 to represent at most x, y, z.\n",
      "  warnings.warn(\"SpatialSeries '%s' has data shape %s which is not compliant with NWB 2.5 and greater. \"\n",
      "/home/shijiegu/anaconda3/envs/spyglass/lib/python3.10/site-packages/pynwb/behavior.py:48: UserWarning: SpatialSeries 'series_5' has data shape (69806, 6) which is not compliant with NWB 2.5 and greater. The second dimension should have length <= 3 to represent at most x, y, z.\n",
      "  warnings.warn(\"SpatialSeries '%s' has data shape %s which is not compliant with NWB 2.5 and greater. \"\n",
      "/home/shijiegu/anaconda3/envs/spyglass/lib/python3.10/site-packages/pynwb/behavior.py:48: UserWarning: SpatialSeries 'series_6' has data shape (128385, 6) which is not compliant with NWB 2.5 and greater. The second dimension should have length <= 3 to represent at most x, y, z.\n",
      "  warnings.warn(\"SpatialSeries '%s' has data shape %s which is not compliant with NWB 2.5 and greater. \"\n",
      "/home/shijiegu/anaconda3/envs/spyglass/lib/python3.10/site-packages/pynwb/behavior.py:48: UserWarning: SpatialSeries 'series_7' has data shape (66099, 6) which is not compliant with NWB 2.5 and greater. The second dimension should have length <= 3 to represent at most x, y, z.\n",
      "  warnings.warn(\"SpatialSeries '%s' has data shape %s which is not compliant with NWB 2.5 and greater. \"\n",
      "/home/shijiegu/anaconda3/envs/spyglass/lib/python3.10/site-packages/pynwb/behavior.py:48: UserWarning: SpatialSeries 'series_8' has data shape (112403, 6) which is not compliant with NWB 2.5 and greater. The second dimension should have length <= 3 to represent at most x, y, z.\n",
      "  warnings.warn(\"SpatialSeries '%s' has data shape %s which is not compliant with NWB 2.5 and greater. \"\n",
      "/home/shijiegu/anaconda3/envs/spyglass/lib/python3.10/site-packages/pynwb/behavior.py:48: UserWarning: SpatialSeries 'series_9' has data shape (50881, 6) which is not compliant with NWB 2.5 and greater. The second dimension should have length <= 3 to represent at most x, y, z.\n",
      "  warnings.warn(\"SpatialSeries '%s' has data shape %s which is not compliant with NWB 2.5 and greater. \"\n",
      "[12:56:57][INFO] Spyglass: Writing new NWB file klein20231111_BMV1GCI98W.nwb\n",
      "14-Jun-25 12:56:57 Writing new NWB file klein20231111_BMV1GCI98W.nwb\n",
      "/home/shijiegu/anaconda3/envs/spyglass/lib/python3.10/site-packages/hdmf/build/objectmapper.py:687: MissingRequiredBuildWarning: NWBFile 'root' is missing required value for attribute 'source_script_file_name'.\n",
      "  warnings.warn(msg, MissingRequiredBuildWarning)\n",
      "/home/shijiegu/anaconda3/envs/spyglass/lib/python3.10/site-packages/hdmf/build/objectmapper.py:687: MissingRequiredBuildWarning: NWBFile 'root' is missing required value for attribute 'source_script_file_name'.\n",
      "  warnings.warn(msg, MissingRequiredBuildWarning)\n",
      "[12:57:10][WARNING] Spyglass: Metrics for Curation {'curation_id': 0, 'nwb_file_name': 'klein20231111_.nwb', 'sort_group_id': 12, 'sort_interval_name': '02_Rev2Session1', 'preproc_params_name': 'franklab_tetrode_hippocampus', 'team_name': 'SequenceTask', 'sorter': 'clusterless_thresholder', 'sorter_params_name': 'default', 'artifact_removed_interval_list_name': 'klein20231111_.nwb_02_Rev2Session1_12_franklab_tetrode_hippocampus_ampl_1500_prop_075_1ms_artifact_removed_valid_times_track_time_only'} should normally be calculated before insertion here\n",
      "14-Jun-25 12:57:10 Metrics for Curation {'curation_id': 0, 'nwb_file_name': 'klein20231111_.nwb', 'sort_group_id': 12, 'sort_interval_name': '02_Rev2Session1', 'preproc_params_name': 'franklab_tetrode_hippocampus', 'team_name': 'SequenceTask', 'sorter': 'clusterless_thresholder', 'sorter_params_name': 'default', 'artifact_removed_interval_list_name': 'klein20231111_.nwb_02_Rev2Session1_12_franklab_tetrode_hippocampus_ampl_1500_prop_075_1ms_artifact_removed_valid_times_track_time_only'} should normally be calculated before insertion here\n",
      "[12:57:10][INFO] Spyglass: Found 1 accepted units\n",
      "14-Jun-25 12:57:10 Found 1 accepted units\n",
      "/home/shijiegu/anaconda3/envs/spyglass/lib/python3.10/site-packages/pynwb/behavior.py:48: UserWarning: SpatialSeries 'series_0' has data shape (44222, 6) which is not compliant with NWB 2.5 and greater. The second dimension should have length <= 3 to represent at most x, y, z.\n",
      "  warnings.warn(\"SpatialSeries '%s' has data shape %s which is not compliant with NWB 2.5 and greater. \"\n",
      "/home/shijiegu/anaconda3/envs/spyglass/lib/python3.10/site-packages/pynwb/behavior.py:48: UserWarning: SpatialSeries 'series_1' has data shape (75048, 6) which is not compliant with NWB 2.5 and greater. The second dimension should have length <= 3 to represent at most x, y, z.\n",
      "  warnings.warn(\"SpatialSeries '%s' has data shape %s which is not compliant with NWB 2.5 and greater. \"\n",
      "/home/shijiegu/anaconda3/envs/spyglass/lib/python3.10/site-packages/pynwb/behavior.py:48: UserWarning: SpatialSeries 'series_10' has data shape (14355, 6) which is not compliant with NWB 2.5 and greater. The second dimension should have length <= 3 to represent at most x, y, z.\n",
      "  warnings.warn(\"SpatialSeries '%s' has data shape %s which is not compliant with NWB 2.5 and greater. \"\n",
      "/home/shijiegu/anaconda3/envs/spyglass/lib/python3.10/site-packages/pynwb/behavior.py:48: UserWarning: SpatialSeries 'series_2' has data shape (116537, 6) which is not compliant with NWB 2.5 and greater. The second dimension should have length <= 3 to represent at most x, y, z.\n",
      "  warnings.warn(\"SpatialSeries '%s' has data shape %s which is not compliant with NWB 2.5 and greater. \"\n",
      "/home/shijiegu/anaconda3/envs/spyglass/lib/python3.10/site-packages/pynwb/behavior.py:48: UserWarning: SpatialSeries 'series_3' has data shape (78494, 6) which is not compliant with NWB 2.5 and greater. The second dimension should have length <= 3 to represent at most x, y, z.\n",
      "  warnings.warn(\"SpatialSeries '%s' has data shape %s which is not compliant with NWB 2.5 and greater. \"\n",
      "/home/shijiegu/anaconda3/envs/spyglass/lib/python3.10/site-packages/pynwb/behavior.py:48: UserWarning: SpatialSeries 'series_4' has data shape (174480, 6) which is not compliant with NWB 2.5 and greater. The second dimension should have length <= 3 to represent at most x, y, z.\n",
      "  warnings.warn(\"SpatialSeries '%s' has data shape %s which is not compliant with NWB 2.5 and greater. \"\n",
      "/home/shijiegu/anaconda3/envs/spyglass/lib/python3.10/site-packages/pynwb/behavior.py:48: UserWarning: SpatialSeries 'series_5' has data shape (69806, 6) which is not compliant with NWB 2.5 and greater. The second dimension should have length <= 3 to represent at most x, y, z.\n",
      "  warnings.warn(\"SpatialSeries '%s' has data shape %s which is not compliant with NWB 2.5 and greater. \"\n",
      "/home/shijiegu/anaconda3/envs/spyglass/lib/python3.10/site-packages/pynwb/behavior.py:48: UserWarning: SpatialSeries 'series_6' has data shape (128385, 6) which is not compliant with NWB 2.5 and greater. The second dimension should have length <= 3 to represent at most x, y, z.\n",
      "  warnings.warn(\"SpatialSeries '%s' has data shape %s which is not compliant with NWB 2.5 and greater. \"\n",
      "/home/shijiegu/anaconda3/envs/spyglass/lib/python3.10/site-packages/pynwb/behavior.py:48: UserWarning: SpatialSeries 'series_7' has data shape (66099, 6) which is not compliant with NWB 2.5 and greater. The second dimension should have length <= 3 to represent at most x, y, z.\n",
      "  warnings.warn(\"SpatialSeries '%s' has data shape %s which is not compliant with NWB 2.5 and greater. \"\n",
      "/home/shijiegu/anaconda3/envs/spyglass/lib/python3.10/site-packages/pynwb/behavior.py:48: UserWarning: SpatialSeries 'series_8' has data shape (112403, 6) which is not compliant with NWB 2.5 and greater. The second dimension should have length <= 3 to represent at most x, y, z.\n",
      "  warnings.warn(\"SpatialSeries '%s' has data shape %s which is not compliant with NWB 2.5 and greater. \"\n",
      "/home/shijiegu/anaconda3/envs/spyglass/lib/python3.10/site-packages/pynwb/behavior.py:48: UserWarning: SpatialSeries 'series_9' has data shape (50881, 6) which is not compliant with NWB 2.5 and greater. The second dimension should have length <= 3 to represent at most x, y, z.\n",
      "  warnings.warn(\"SpatialSeries '%s' has data shape %s which is not compliant with NWB 2.5 and greater. \"\n",
      "[12:57:30][INFO] Spyglass: Writing new NWB file klein20231111_U9ZAMN5CDC.nwb\n",
      "14-Jun-25 12:57:30 Writing new NWB file klein20231111_U9ZAMN5CDC.nwb\n",
      "/home/shijiegu/anaconda3/envs/spyglass/lib/python3.10/site-packages/hdmf/build/objectmapper.py:687: MissingRequiredBuildWarning: NWBFile 'root' is missing required value for attribute 'source_script_file_name'.\n",
      "  warnings.warn(msg, MissingRequiredBuildWarning)\n",
      "/home/shijiegu/anaconda3/envs/spyglass/lib/python3.10/site-packages/hdmf/build/objectmapper.py:687: MissingRequiredBuildWarning: NWBFile 'root' is missing required value for attribute 'source_script_file_name'.\n",
      "  warnings.warn(msg, MissingRequiredBuildWarning)\n",
      "[12:57:42][WARNING] Spyglass: Metrics for Curation {'curation_id': 0, 'nwb_file_name': 'klein20231111_.nwb', 'sort_group_id': 15, 'sort_interval_name': '02_Rev2Session1', 'preproc_params_name': 'franklab_tetrode_hippocampus', 'team_name': 'SequenceTask', 'sorter': 'clusterless_thresholder', 'sorter_params_name': 'default', 'artifact_removed_interval_list_name': 'klein20231111_.nwb_02_Rev2Session1_15_franklab_tetrode_hippocampus_ampl_1500_prop_075_1ms_artifact_removed_valid_times_track_time_only'} should normally be calculated before insertion here\n",
      "14-Jun-25 12:57:42 Metrics for Curation {'curation_id': 0, 'nwb_file_name': 'klein20231111_.nwb', 'sort_group_id': 15, 'sort_interval_name': '02_Rev2Session1', 'preproc_params_name': 'franklab_tetrode_hippocampus', 'team_name': 'SequenceTask', 'sorter': 'clusterless_thresholder', 'sorter_params_name': 'default', 'artifact_removed_interval_list_name': 'klein20231111_.nwb_02_Rev2Session1_15_franklab_tetrode_hippocampus_ampl_1500_prop_075_1ms_artifact_removed_valid_times_track_time_only'} should normally be calculated before insertion here\n",
      "[12:57:42][INFO] Spyglass: Found 1 accepted units\n",
      "14-Jun-25 12:57:42 Found 1 accepted units\n",
      "/home/shijiegu/anaconda3/envs/spyglass/lib/python3.10/site-packages/pynwb/behavior.py:48: UserWarning: SpatialSeries 'series_0' has data shape (44222, 6) which is not compliant with NWB 2.5 and greater. The second dimension should have length <= 3 to represent at most x, y, z.\n",
      "  warnings.warn(\"SpatialSeries '%s' has data shape %s which is not compliant with NWB 2.5 and greater. \"\n",
      "/home/shijiegu/anaconda3/envs/spyglass/lib/python3.10/site-packages/pynwb/behavior.py:48: UserWarning: SpatialSeries 'series_1' has data shape (75048, 6) which is not compliant with NWB 2.5 and greater. The second dimension should have length <= 3 to represent at most x, y, z.\n",
      "  warnings.warn(\"SpatialSeries '%s' has data shape %s which is not compliant with NWB 2.5 and greater. \"\n",
      "/home/shijiegu/anaconda3/envs/spyglass/lib/python3.10/site-packages/pynwb/behavior.py:48: UserWarning: SpatialSeries 'series_10' has data shape (14355, 6) which is not compliant with NWB 2.5 and greater. The second dimension should have length <= 3 to represent at most x, y, z.\n",
      "  warnings.warn(\"SpatialSeries '%s' has data shape %s which is not compliant with NWB 2.5 and greater. \"\n",
      "/home/shijiegu/anaconda3/envs/spyglass/lib/python3.10/site-packages/pynwb/behavior.py:48: UserWarning: SpatialSeries 'series_2' has data shape (116537, 6) which is not compliant with NWB 2.5 and greater. The second dimension should have length <= 3 to represent at most x, y, z.\n",
      "  warnings.warn(\"SpatialSeries '%s' has data shape %s which is not compliant with NWB 2.5 and greater. \"\n",
      "/home/shijiegu/anaconda3/envs/spyglass/lib/python3.10/site-packages/pynwb/behavior.py:48: UserWarning: SpatialSeries 'series_3' has data shape (78494, 6) which is not compliant with NWB 2.5 and greater. The second dimension should have length <= 3 to represent at most x, y, z.\n",
      "  warnings.warn(\"SpatialSeries '%s' has data shape %s which is not compliant with NWB 2.5 and greater. \"\n",
      "/home/shijiegu/anaconda3/envs/spyglass/lib/python3.10/site-packages/pynwb/behavior.py:48: UserWarning: SpatialSeries 'series_4' has data shape (174480, 6) which is not compliant with NWB 2.5 and greater. The second dimension should have length <= 3 to represent at most x, y, z.\n",
      "  warnings.warn(\"SpatialSeries '%s' has data shape %s which is not compliant with NWB 2.5 and greater. \"\n",
      "/home/shijiegu/anaconda3/envs/spyglass/lib/python3.10/site-packages/pynwb/behavior.py:48: UserWarning: SpatialSeries 'series_5' has data shape (69806, 6) which is not compliant with NWB 2.5 and greater. The second dimension should have length <= 3 to represent at most x, y, z.\n",
      "  warnings.warn(\"SpatialSeries '%s' has data shape %s which is not compliant with NWB 2.5 and greater. \"\n",
      "/home/shijiegu/anaconda3/envs/spyglass/lib/python3.10/site-packages/pynwb/behavior.py:48: UserWarning: SpatialSeries 'series_6' has data shape (128385, 6) which is not compliant with NWB 2.5 and greater. The second dimension should have length <= 3 to represent at most x, y, z.\n",
      "  warnings.warn(\"SpatialSeries '%s' has data shape %s which is not compliant with NWB 2.5 and greater. \"\n",
      "/home/shijiegu/anaconda3/envs/spyglass/lib/python3.10/site-packages/pynwb/behavior.py:48: UserWarning: SpatialSeries 'series_7' has data shape (66099, 6) which is not compliant with NWB 2.5 and greater. The second dimension should have length <= 3 to represent at most x, y, z.\n",
      "  warnings.warn(\"SpatialSeries '%s' has data shape %s which is not compliant with NWB 2.5 and greater. \"\n",
      "/home/shijiegu/anaconda3/envs/spyglass/lib/python3.10/site-packages/pynwb/behavior.py:48: UserWarning: SpatialSeries 'series_8' has data shape (112403, 6) which is not compliant with NWB 2.5 and greater. The second dimension should have length <= 3 to represent at most x, y, z.\n",
      "  warnings.warn(\"SpatialSeries '%s' has data shape %s which is not compliant with NWB 2.5 and greater. \"\n",
      "/home/shijiegu/anaconda3/envs/spyglass/lib/python3.10/site-packages/pynwb/behavior.py:48: UserWarning: SpatialSeries 'series_9' has data shape (50881, 6) which is not compliant with NWB 2.5 and greater. The second dimension should have length <= 3 to represent at most x, y, z.\n",
      "  warnings.warn(\"SpatialSeries '%s' has data shape %s which is not compliant with NWB 2.5 and greater. \"\n",
      "[12:58:03][INFO] Spyglass: Writing new NWB file klein20231111_C5S55ZA2UQ.nwb\n",
      "14-Jun-25 12:58:03 Writing new NWB file klein20231111_C5S55ZA2UQ.nwb\n",
      "/home/shijiegu/anaconda3/envs/spyglass/lib/python3.10/site-packages/hdmf/build/objectmapper.py:687: MissingRequiredBuildWarning: NWBFile 'root' is missing required value for attribute 'source_script_file_name'.\n",
      "  warnings.warn(msg, MissingRequiredBuildWarning)\n",
      "/home/shijiegu/anaconda3/envs/spyglass/lib/python3.10/site-packages/hdmf/build/objectmapper.py:687: MissingRequiredBuildWarning: NWBFile 'root' is missing required value for attribute 'source_script_file_name'.\n",
      "  warnings.warn(msg, MissingRequiredBuildWarning)\n",
      "[12:58:15][WARNING] Spyglass: Metrics for Curation {'curation_id': 0, 'nwb_file_name': 'klein20231111_.nwb', 'sort_group_id': 16, 'sort_interval_name': '02_Rev2Session1', 'preproc_params_name': 'franklab_tetrode_hippocampus', 'team_name': 'SequenceTask', 'sorter': 'clusterless_thresholder', 'sorter_params_name': 'default', 'artifact_removed_interval_list_name': 'klein20231111_.nwb_02_Rev2Session1_16_franklab_tetrode_hippocampus_ampl_1500_prop_075_1ms_artifact_removed_valid_times_track_time_only'} should normally be calculated before insertion here\n",
      "14-Jun-25 12:58:15 Metrics for Curation {'curation_id': 0, 'nwb_file_name': 'klein20231111_.nwb', 'sort_group_id': 16, 'sort_interval_name': '02_Rev2Session1', 'preproc_params_name': 'franklab_tetrode_hippocampus', 'team_name': 'SequenceTask', 'sorter': 'clusterless_thresholder', 'sorter_params_name': 'default', 'artifact_removed_interval_list_name': 'klein20231111_.nwb_02_Rev2Session1_16_franklab_tetrode_hippocampus_ampl_1500_prop_075_1ms_artifact_removed_valid_times_track_time_only'} should normally be calculated before insertion here\n",
      "[12:58:15][INFO] Spyglass: Found 1 accepted units\n",
      "14-Jun-25 12:58:15 Found 1 accepted units\n",
      "/home/shijiegu/anaconda3/envs/spyglass/lib/python3.10/site-packages/pynwb/behavior.py:48: UserWarning: SpatialSeries 'series_0' has data shape (44222, 6) which is not compliant with NWB 2.5 and greater. The second dimension should have length <= 3 to represent at most x, y, z.\n",
      "  warnings.warn(\"SpatialSeries '%s' has data shape %s which is not compliant with NWB 2.5 and greater. \"\n",
      "/home/shijiegu/anaconda3/envs/spyglass/lib/python3.10/site-packages/pynwb/behavior.py:48: UserWarning: SpatialSeries 'series_1' has data shape (75048, 6) which is not compliant with NWB 2.5 and greater. The second dimension should have length <= 3 to represent at most x, y, z.\n",
      "  warnings.warn(\"SpatialSeries '%s' has data shape %s which is not compliant with NWB 2.5 and greater. \"\n",
      "/home/shijiegu/anaconda3/envs/spyglass/lib/python3.10/site-packages/pynwb/behavior.py:48: UserWarning: SpatialSeries 'series_10' has data shape (14355, 6) which is not compliant with NWB 2.5 and greater. The second dimension should have length <= 3 to represent at most x, y, z.\n",
      "  warnings.warn(\"SpatialSeries '%s' has data shape %s which is not compliant with NWB 2.5 and greater. \"\n",
      "/home/shijiegu/anaconda3/envs/spyglass/lib/python3.10/site-packages/pynwb/behavior.py:48: UserWarning: SpatialSeries 'series_2' has data shape (116537, 6) which is not compliant with NWB 2.5 and greater. The second dimension should have length <= 3 to represent at most x, y, z.\n",
      "  warnings.warn(\"SpatialSeries '%s' has data shape %s which is not compliant with NWB 2.5 and greater. \"\n",
      "/home/shijiegu/anaconda3/envs/spyglass/lib/python3.10/site-packages/pynwb/behavior.py:48: UserWarning: SpatialSeries 'series_3' has data shape (78494, 6) which is not compliant with NWB 2.5 and greater. The second dimension should have length <= 3 to represent at most x, y, z.\n",
      "  warnings.warn(\"SpatialSeries '%s' has data shape %s which is not compliant with NWB 2.5 and greater. \"\n",
      "/home/shijiegu/anaconda3/envs/spyglass/lib/python3.10/site-packages/pynwb/behavior.py:48: UserWarning: SpatialSeries 'series_4' has data shape (174480, 6) which is not compliant with NWB 2.5 and greater. The second dimension should have length <= 3 to represent at most x, y, z.\n",
      "  warnings.warn(\"SpatialSeries '%s' has data shape %s which is not compliant with NWB 2.5 and greater. \"\n",
      "/home/shijiegu/anaconda3/envs/spyglass/lib/python3.10/site-packages/pynwb/behavior.py:48: UserWarning: SpatialSeries 'series_5' has data shape (69806, 6) which is not compliant with NWB 2.5 and greater. The second dimension should have length <= 3 to represent at most x, y, z.\n",
      "  warnings.warn(\"SpatialSeries '%s' has data shape %s which is not compliant with NWB 2.5 and greater. \"\n",
      "/home/shijiegu/anaconda3/envs/spyglass/lib/python3.10/site-packages/pynwb/behavior.py:48: UserWarning: SpatialSeries 'series_6' has data shape (128385, 6) which is not compliant with NWB 2.5 and greater. The second dimension should have length <= 3 to represent at most x, y, z.\n",
      "  warnings.warn(\"SpatialSeries '%s' has data shape %s which is not compliant with NWB 2.5 and greater. \"\n",
      "/home/shijiegu/anaconda3/envs/spyglass/lib/python3.10/site-packages/pynwb/behavior.py:48: UserWarning: SpatialSeries 'series_7' has data shape (66099, 6) which is not compliant with NWB 2.5 and greater. The second dimension should have length <= 3 to represent at most x, y, z.\n",
      "  warnings.warn(\"SpatialSeries '%s' has data shape %s which is not compliant with NWB 2.5 and greater. \"\n",
      "/home/shijiegu/anaconda3/envs/spyglass/lib/python3.10/site-packages/pynwb/behavior.py:48: UserWarning: SpatialSeries 'series_8' has data shape (112403, 6) which is not compliant with NWB 2.5 and greater. The second dimension should have length <= 3 to represent at most x, y, z.\n",
      "  warnings.warn(\"SpatialSeries '%s' has data shape %s which is not compliant with NWB 2.5 and greater. \"\n",
      "/home/shijiegu/anaconda3/envs/spyglass/lib/python3.10/site-packages/pynwb/behavior.py:48: UserWarning: SpatialSeries 'series_9' has data shape (50881, 6) which is not compliant with NWB 2.5 and greater. The second dimension should have length <= 3 to represent at most x, y, z.\n",
      "  warnings.warn(\"SpatialSeries '%s' has data shape %s which is not compliant with NWB 2.5 and greater. \"\n",
      "[12:58:35][INFO] Spyglass: Writing new NWB file klein20231111_B3JGAED7S0.nwb\n",
      "14-Jun-25 12:58:35 Writing new NWB file klein20231111_B3JGAED7S0.nwb\n",
      "/home/shijiegu/anaconda3/envs/spyglass/lib/python3.10/site-packages/hdmf/build/objectmapper.py:687: MissingRequiredBuildWarning: NWBFile 'root' is missing required value for attribute 'source_script_file_name'.\n",
      "  warnings.warn(msg, MissingRequiredBuildWarning)\n",
      "/home/shijiegu/anaconda3/envs/spyglass/lib/python3.10/site-packages/hdmf/build/objectmapper.py:687: MissingRequiredBuildWarning: NWBFile 'root' is missing required value for attribute 'source_script_file_name'.\n",
      "  warnings.warn(msg, MissingRequiredBuildWarning)\n",
      "[12:58:47][WARNING] Spyglass: Metrics for Curation {'curation_id': 0, 'nwb_file_name': 'klein20231111_.nwb', 'sort_group_id': 28, 'sort_interval_name': '02_Rev2Session1', 'preproc_params_name': 'franklab_tetrode_hippocampus', 'team_name': 'SequenceTask', 'sorter': 'clusterless_thresholder', 'sorter_params_name': 'default', 'artifact_removed_interval_list_name': 'klein20231111_.nwb_02_Rev2Session1_28_franklab_tetrode_hippocampus_ampl_1500_prop_075_1ms_artifact_removed_valid_times_track_time_only'} should normally be calculated before insertion here\n",
      "14-Jun-25 12:58:47 Metrics for Curation {'curation_id': 0, 'nwb_file_name': 'klein20231111_.nwb', 'sort_group_id': 28, 'sort_interval_name': '02_Rev2Session1', 'preproc_params_name': 'franklab_tetrode_hippocampus', 'team_name': 'SequenceTask', 'sorter': 'clusterless_thresholder', 'sorter_params_name': 'default', 'artifact_removed_interval_list_name': 'klein20231111_.nwb_02_Rev2Session1_28_franklab_tetrode_hippocampus_ampl_1500_prop_075_1ms_artifact_removed_valid_times_track_time_only'} should normally be calculated before insertion here\n",
      "[12:58:47][INFO] Spyglass: Found 1 accepted units\n",
      "14-Jun-25 12:58:47 Found 1 accepted units\n",
      "/home/shijiegu/anaconda3/envs/spyglass/lib/python3.10/site-packages/pynwb/behavior.py:48: UserWarning: SpatialSeries 'series_0' has data shape (44222, 6) which is not compliant with NWB 2.5 and greater. The second dimension should have length <= 3 to represent at most x, y, z.\n",
      "  warnings.warn(\"SpatialSeries '%s' has data shape %s which is not compliant with NWB 2.5 and greater. \"\n",
      "/home/shijiegu/anaconda3/envs/spyglass/lib/python3.10/site-packages/pynwb/behavior.py:48: UserWarning: SpatialSeries 'series_1' has data shape (75048, 6) which is not compliant with NWB 2.5 and greater. The second dimension should have length <= 3 to represent at most x, y, z.\n",
      "  warnings.warn(\"SpatialSeries '%s' has data shape %s which is not compliant with NWB 2.5 and greater. \"\n",
      "/home/shijiegu/anaconda3/envs/spyglass/lib/python3.10/site-packages/pynwb/behavior.py:48: UserWarning: SpatialSeries 'series_10' has data shape (14355, 6) which is not compliant with NWB 2.5 and greater. The second dimension should have length <= 3 to represent at most x, y, z.\n",
      "  warnings.warn(\"SpatialSeries '%s' has data shape %s which is not compliant with NWB 2.5 and greater. \"\n",
      "/home/shijiegu/anaconda3/envs/spyglass/lib/python3.10/site-packages/pynwb/behavior.py:48: UserWarning: SpatialSeries 'series_2' has data shape (116537, 6) which is not compliant with NWB 2.5 and greater. The second dimension should have length <= 3 to represent at most x, y, z.\n",
      "  warnings.warn(\"SpatialSeries '%s' has data shape %s which is not compliant with NWB 2.5 and greater. \"\n",
      "/home/shijiegu/anaconda3/envs/spyglass/lib/python3.10/site-packages/pynwb/behavior.py:48: UserWarning: SpatialSeries 'series_3' has data shape (78494, 6) which is not compliant with NWB 2.5 and greater. The second dimension should have length <= 3 to represent at most x, y, z.\n",
      "  warnings.warn(\"SpatialSeries '%s' has data shape %s which is not compliant with NWB 2.5 and greater. \"\n",
      "/home/shijiegu/anaconda3/envs/spyglass/lib/python3.10/site-packages/pynwb/behavior.py:48: UserWarning: SpatialSeries 'series_4' has data shape (174480, 6) which is not compliant with NWB 2.5 and greater. The second dimension should have length <= 3 to represent at most x, y, z.\n",
      "  warnings.warn(\"SpatialSeries '%s' has data shape %s which is not compliant with NWB 2.5 and greater. \"\n",
      "/home/shijiegu/anaconda3/envs/spyglass/lib/python3.10/site-packages/pynwb/behavior.py:48: UserWarning: SpatialSeries 'series_5' has data shape (69806, 6) which is not compliant with NWB 2.5 and greater. The second dimension should have length <= 3 to represent at most x, y, z.\n",
      "  warnings.warn(\"SpatialSeries '%s' has data shape %s which is not compliant with NWB 2.5 and greater. \"\n",
      "/home/shijiegu/anaconda3/envs/spyglass/lib/python3.10/site-packages/pynwb/behavior.py:48: UserWarning: SpatialSeries 'series_6' has data shape (128385, 6) which is not compliant with NWB 2.5 and greater. The second dimension should have length <= 3 to represent at most x, y, z.\n",
      "  warnings.warn(\"SpatialSeries '%s' has data shape %s which is not compliant with NWB 2.5 and greater. \"\n",
      "/home/shijiegu/anaconda3/envs/spyglass/lib/python3.10/site-packages/pynwb/behavior.py:48: UserWarning: SpatialSeries 'series_7' has data shape (66099, 6) which is not compliant with NWB 2.5 and greater. The second dimension should have length <= 3 to represent at most x, y, z.\n",
      "  warnings.warn(\"SpatialSeries '%s' has data shape %s which is not compliant with NWB 2.5 and greater. \"\n",
      "/home/shijiegu/anaconda3/envs/spyglass/lib/python3.10/site-packages/pynwb/behavior.py:48: UserWarning: SpatialSeries 'series_8' has data shape (112403, 6) which is not compliant with NWB 2.5 and greater. The second dimension should have length <= 3 to represent at most x, y, z.\n",
      "  warnings.warn(\"SpatialSeries '%s' has data shape %s which is not compliant with NWB 2.5 and greater. \"\n",
      "/home/shijiegu/anaconda3/envs/spyglass/lib/python3.10/site-packages/pynwb/behavior.py:48: UserWarning: SpatialSeries 'series_9' has data shape (50881, 6) which is not compliant with NWB 2.5 and greater. The second dimension should have length <= 3 to represent at most x, y, z.\n",
      "  warnings.warn(\"SpatialSeries '%s' has data shape %s which is not compliant with NWB 2.5 and greater. \"\n",
      "[12:59:07][INFO] Spyglass: Writing new NWB file klein20231111_0O5EG8US3F.nwb\n",
      "14-Jun-25 12:59:07 Writing new NWB file klein20231111_0O5EG8US3F.nwb\n",
      "/home/shijiegu/anaconda3/envs/spyglass/lib/python3.10/site-packages/hdmf/build/objectmapper.py:687: MissingRequiredBuildWarning: NWBFile 'root' is missing required value for attribute 'source_script_file_name'.\n",
      "  warnings.warn(msg, MissingRequiredBuildWarning)\n",
      "/home/shijiegu/anaconda3/envs/spyglass/lib/python3.10/site-packages/hdmf/build/objectmapper.py:687: MissingRequiredBuildWarning: NWBFile 'root' is missing required value for attribute 'source_script_file_name'.\n",
      "  warnings.warn(msg, MissingRequiredBuildWarning)\n",
      "[12:59:20][WARNING] Spyglass: Metrics for Curation {'curation_id': 0, 'nwb_file_name': 'klein20231111_.nwb', 'sort_group_id': 30, 'sort_interval_name': '02_Rev2Session1', 'preproc_params_name': 'franklab_tetrode_hippocampus', 'team_name': 'SequenceTask', 'sorter': 'clusterless_thresholder', 'sorter_params_name': 'default', 'artifact_removed_interval_list_name': 'klein20231111_.nwb_02_Rev2Session1_30_franklab_tetrode_hippocampus_ampl_1500_prop_075_1ms_artifact_removed_valid_times_track_time_only'} should normally be calculated before insertion here\n",
      "14-Jun-25 12:59:20 Metrics for Curation {'curation_id': 0, 'nwb_file_name': 'klein20231111_.nwb', 'sort_group_id': 30, 'sort_interval_name': '02_Rev2Session1', 'preproc_params_name': 'franklab_tetrode_hippocampus', 'team_name': 'SequenceTask', 'sorter': 'clusterless_thresholder', 'sorter_params_name': 'default', 'artifact_removed_interval_list_name': 'klein20231111_.nwb_02_Rev2Session1_30_franklab_tetrode_hippocampus_ampl_1500_prop_075_1ms_artifact_removed_valid_times_track_time_only'} should normally be calculated before insertion here\n",
      "[12:59:20][INFO] Spyglass: Found 1 accepted units\n",
      "14-Jun-25 12:59:20 Found 1 accepted units\n",
      "/home/shijiegu/anaconda3/envs/spyglass/lib/python3.10/site-packages/pynwb/behavior.py:48: UserWarning: SpatialSeries 'series_0' has data shape (44222, 6) which is not compliant with NWB 2.5 and greater. The second dimension should have length <= 3 to represent at most x, y, z.\n",
      "  warnings.warn(\"SpatialSeries '%s' has data shape %s which is not compliant with NWB 2.5 and greater. \"\n",
      "/home/shijiegu/anaconda3/envs/spyglass/lib/python3.10/site-packages/pynwb/behavior.py:48: UserWarning: SpatialSeries 'series_1' has data shape (75048, 6) which is not compliant with NWB 2.5 and greater. The second dimension should have length <= 3 to represent at most x, y, z.\n",
      "  warnings.warn(\"SpatialSeries '%s' has data shape %s which is not compliant with NWB 2.5 and greater. \"\n",
      "/home/shijiegu/anaconda3/envs/spyglass/lib/python3.10/site-packages/pynwb/behavior.py:48: UserWarning: SpatialSeries 'series_10' has data shape (14355, 6) which is not compliant with NWB 2.5 and greater. The second dimension should have length <= 3 to represent at most x, y, z.\n",
      "  warnings.warn(\"SpatialSeries '%s' has data shape %s which is not compliant with NWB 2.5 and greater. \"\n",
      "/home/shijiegu/anaconda3/envs/spyglass/lib/python3.10/site-packages/pynwb/behavior.py:48: UserWarning: SpatialSeries 'series_2' has data shape (116537, 6) which is not compliant with NWB 2.5 and greater. The second dimension should have length <= 3 to represent at most x, y, z.\n",
      "  warnings.warn(\"SpatialSeries '%s' has data shape %s which is not compliant with NWB 2.5 and greater. \"\n",
      "/home/shijiegu/anaconda3/envs/spyglass/lib/python3.10/site-packages/pynwb/behavior.py:48: UserWarning: SpatialSeries 'series_3' has data shape (78494, 6) which is not compliant with NWB 2.5 and greater. The second dimension should have length <= 3 to represent at most x, y, z.\n",
      "  warnings.warn(\"SpatialSeries '%s' has data shape %s which is not compliant with NWB 2.5 and greater. \"\n",
      "/home/shijiegu/anaconda3/envs/spyglass/lib/python3.10/site-packages/pynwb/behavior.py:48: UserWarning: SpatialSeries 'series_4' has data shape (174480, 6) which is not compliant with NWB 2.5 and greater. The second dimension should have length <= 3 to represent at most x, y, z.\n",
      "  warnings.warn(\"SpatialSeries '%s' has data shape %s which is not compliant with NWB 2.5 and greater. \"\n",
      "/home/shijiegu/anaconda3/envs/spyglass/lib/python3.10/site-packages/pynwb/behavior.py:48: UserWarning: SpatialSeries 'series_5' has data shape (69806, 6) which is not compliant with NWB 2.5 and greater. The second dimension should have length <= 3 to represent at most x, y, z.\n",
      "  warnings.warn(\"SpatialSeries '%s' has data shape %s which is not compliant with NWB 2.5 and greater. \"\n",
      "/home/shijiegu/anaconda3/envs/spyglass/lib/python3.10/site-packages/pynwb/behavior.py:48: UserWarning: SpatialSeries 'series_6' has data shape (128385, 6) which is not compliant with NWB 2.5 and greater. The second dimension should have length <= 3 to represent at most x, y, z.\n",
      "  warnings.warn(\"SpatialSeries '%s' has data shape %s which is not compliant with NWB 2.5 and greater. \"\n",
      "/home/shijiegu/anaconda3/envs/spyglass/lib/python3.10/site-packages/pynwb/behavior.py:48: UserWarning: SpatialSeries 'series_7' has data shape (66099, 6) which is not compliant with NWB 2.5 and greater. The second dimension should have length <= 3 to represent at most x, y, z.\n",
      "  warnings.warn(\"SpatialSeries '%s' has data shape %s which is not compliant with NWB 2.5 and greater. \"\n",
      "/home/shijiegu/anaconda3/envs/spyglass/lib/python3.10/site-packages/pynwb/behavior.py:48: UserWarning: SpatialSeries 'series_8' has data shape (112403, 6) which is not compliant with NWB 2.5 and greater. The second dimension should have length <= 3 to represent at most x, y, z.\n",
      "  warnings.warn(\"SpatialSeries '%s' has data shape %s which is not compliant with NWB 2.5 and greater. \"\n",
      "/home/shijiegu/anaconda3/envs/spyglass/lib/python3.10/site-packages/pynwb/behavior.py:48: UserWarning: SpatialSeries 'series_9' has data shape (50881, 6) which is not compliant with NWB 2.5 and greater. The second dimension should have length <= 3 to represent at most x, y, z.\n",
      "  warnings.warn(\"SpatialSeries '%s' has data shape %s which is not compliant with NWB 2.5 and greater. \"\n",
      "[12:59:39][INFO] Spyglass: Writing new NWB file klein20231111_2ILA3WMKA6.nwb\n",
      "14-Jun-25 12:59:39 Writing new NWB file klein20231111_2ILA3WMKA6.nwb\n",
      "/home/shijiegu/anaconda3/envs/spyglass/lib/python3.10/site-packages/hdmf/build/objectmapper.py:687: MissingRequiredBuildWarning: NWBFile 'root' is missing required value for attribute 'source_script_file_name'.\n",
      "  warnings.warn(msg, MissingRequiredBuildWarning)\n",
      "/home/shijiegu/anaconda3/envs/spyglass/lib/python3.10/site-packages/hdmf/build/objectmapper.py:687: MissingRequiredBuildWarning: NWBFile 'root' is missing required value for attribute 'source_script_file_name'.\n",
      "  warnings.warn(msg, MissingRequiredBuildWarning)\n",
      "[12:59:53][WARNING] Spyglass: Metrics for Curation {'curation_id': 0, 'nwb_file_name': 'klein20231111_.nwb', 'sort_group_id': 36, 'sort_interval_name': '02_Rev2Session1', 'preproc_params_name': 'franklab_tetrode_hippocampus', 'team_name': 'SequenceTask', 'sorter': 'clusterless_thresholder', 'sorter_params_name': 'default', 'artifact_removed_interval_list_name': 'klein20231111_.nwb_02_Rev2Session1_36_franklab_tetrode_hippocampus_ampl_1500_prop_075_1ms_artifact_removed_valid_times_track_time_only'} should normally be calculated before insertion here\n",
      "14-Jun-25 12:59:53 Metrics for Curation {'curation_id': 0, 'nwb_file_name': 'klein20231111_.nwb', 'sort_group_id': 36, 'sort_interval_name': '02_Rev2Session1', 'preproc_params_name': 'franklab_tetrode_hippocampus', 'team_name': 'SequenceTask', 'sorter': 'clusterless_thresholder', 'sorter_params_name': 'default', 'artifact_removed_interval_list_name': 'klein20231111_.nwb_02_Rev2Session1_36_franklab_tetrode_hippocampus_ampl_1500_prop_075_1ms_artifact_removed_valid_times_track_time_only'} should normally be calculated before insertion here\n",
      "[12:59:53][INFO] Spyglass: Found 1 accepted units\n",
      "14-Jun-25 12:59:53 Found 1 accepted units\n",
      "/home/shijiegu/anaconda3/envs/spyglass/lib/python3.10/site-packages/pynwb/behavior.py:48: UserWarning: SpatialSeries 'series_0' has data shape (44222, 6) which is not compliant with NWB 2.5 and greater. The second dimension should have length <= 3 to represent at most x, y, z.\n",
      "  warnings.warn(\"SpatialSeries '%s' has data shape %s which is not compliant with NWB 2.5 and greater. \"\n",
      "/home/shijiegu/anaconda3/envs/spyglass/lib/python3.10/site-packages/pynwb/behavior.py:48: UserWarning: SpatialSeries 'series_1' has data shape (75048, 6) which is not compliant with NWB 2.5 and greater. The second dimension should have length <= 3 to represent at most x, y, z.\n",
      "  warnings.warn(\"SpatialSeries '%s' has data shape %s which is not compliant with NWB 2.5 and greater. \"\n",
      "/home/shijiegu/anaconda3/envs/spyglass/lib/python3.10/site-packages/pynwb/behavior.py:48: UserWarning: SpatialSeries 'series_10' has data shape (14355, 6) which is not compliant with NWB 2.5 and greater. The second dimension should have length <= 3 to represent at most x, y, z.\n",
      "  warnings.warn(\"SpatialSeries '%s' has data shape %s which is not compliant with NWB 2.5 and greater. \"\n",
      "/home/shijiegu/anaconda3/envs/spyglass/lib/python3.10/site-packages/pynwb/behavior.py:48: UserWarning: SpatialSeries 'series_2' has data shape (116537, 6) which is not compliant with NWB 2.5 and greater. The second dimension should have length <= 3 to represent at most x, y, z.\n",
      "  warnings.warn(\"SpatialSeries '%s' has data shape %s which is not compliant with NWB 2.5 and greater. \"\n",
      "/home/shijiegu/anaconda3/envs/spyglass/lib/python3.10/site-packages/pynwb/behavior.py:48: UserWarning: SpatialSeries 'series_3' has data shape (78494, 6) which is not compliant with NWB 2.5 and greater. The second dimension should have length <= 3 to represent at most x, y, z.\n",
      "  warnings.warn(\"SpatialSeries '%s' has data shape %s which is not compliant with NWB 2.5 and greater. \"\n",
      "/home/shijiegu/anaconda3/envs/spyglass/lib/python3.10/site-packages/pynwb/behavior.py:48: UserWarning: SpatialSeries 'series_4' has data shape (174480, 6) which is not compliant with NWB 2.5 and greater. The second dimension should have length <= 3 to represent at most x, y, z.\n",
      "  warnings.warn(\"SpatialSeries '%s' has data shape %s which is not compliant with NWB 2.5 and greater. \"\n",
      "/home/shijiegu/anaconda3/envs/spyglass/lib/python3.10/site-packages/pynwb/behavior.py:48: UserWarning: SpatialSeries 'series_5' has data shape (69806, 6) which is not compliant with NWB 2.5 and greater. The second dimension should have length <= 3 to represent at most x, y, z.\n",
      "  warnings.warn(\"SpatialSeries '%s' has data shape %s which is not compliant with NWB 2.5 and greater. \"\n",
      "/home/shijiegu/anaconda3/envs/spyglass/lib/python3.10/site-packages/pynwb/behavior.py:48: UserWarning: SpatialSeries 'series_6' has data shape (128385, 6) which is not compliant with NWB 2.5 and greater. The second dimension should have length <= 3 to represent at most x, y, z.\n",
      "  warnings.warn(\"SpatialSeries '%s' has data shape %s which is not compliant with NWB 2.5 and greater. \"\n",
      "/home/shijiegu/anaconda3/envs/spyglass/lib/python3.10/site-packages/pynwb/behavior.py:48: UserWarning: SpatialSeries 'series_7' has data shape (66099, 6) which is not compliant with NWB 2.5 and greater. The second dimension should have length <= 3 to represent at most x, y, z.\n",
      "  warnings.warn(\"SpatialSeries '%s' has data shape %s which is not compliant with NWB 2.5 and greater. \"\n",
      "/home/shijiegu/anaconda3/envs/spyglass/lib/python3.10/site-packages/pynwb/behavior.py:48: UserWarning: SpatialSeries 'series_8' has data shape (112403, 6) which is not compliant with NWB 2.5 and greater. The second dimension should have length <= 3 to represent at most x, y, z.\n",
      "  warnings.warn(\"SpatialSeries '%s' has data shape %s which is not compliant with NWB 2.5 and greater. \"\n",
      "/home/shijiegu/anaconda3/envs/spyglass/lib/python3.10/site-packages/pynwb/behavior.py:48: UserWarning: SpatialSeries 'series_9' has data shape (50881, 6) which is not compliant with NWB 2.5 and greater. The second dimension should have length <= 3 to represent at most x, y, z.\n",
      "  warnings.warn(\"SpatialSeries '%s' has data shape %s which is not compliant with NWB 2.5 and greater. \"\n",
      "[13:00:11][INFO] Spyglass: Writing new NWB file klein20231111_J8KZQDRMBD.nwb\n",
      "14-Jun-25 13:00:11 Writing new NWB file klein20231111_J8KZQDRMBD.nwb\n",
      "/home/shijiegu/anaconda3/envs/spyglass/lib/python3.10/site-packages/hdmf/build/objectmapper.py:687: MissingRequiredBuildWarning: NWBFile 'root' is missing required value for attribute 'source_script_file_name'.\n",
      "  warnings.warn(msg, MissingRequiredBuildWarning)\n",
      "/home/shijiegu/anaconda3/envs/spyglass/lib/python3.10/site-packages/hdmf/build/objectmapper.py:687: MissingRequiredBuildWarning: NWBFile 'root' is missing required value for attribute 'source_script_file_name'.\n",
      "  warnings.warn(msg, MissingRequiredBuildWarning)\n",
      "[13:00:22][WARNING] Spyglass: Metrics for Curation {'curation_id': 0, 'nwb_file_name': 'klein20231111_.nwb', 'sort_group_id': 45, 'sort_interval_name': '02_Rev2Session1', 'preproc_params_name': 'franklab_tetrode_hippocampus', 'team_name': 'SequenceTask', 'sorter': 'clusterless_thresholder', 'sorter_params_name': 'default', 'artifact_removed_interval_list_name': 'klein20231111_.nwb_02_Rev2Session1_45_franklab_tetrode_hippocampus_ampl_1500_prop_075_1ms_artifact_removed_valid_times_track_time_only'} should normally be calculated before insertion here\n",
      "14-Jun-25 13:00:22 Metrics for Curation {'curation_id': 0, 'nwb_file_name': 'klein20231111_.nwb', 'sort_group_id': 45, 'sort_interval_name': '02_Rev2Session1', 'preproc_params_name': 'franklab_tetrode_hippocampus', 'team_name': 'SequenceTask', 'sorter': 'clusterless_thresholder', 'sorter_params_name': 'default', 'artifact_removed_interval_list_name': 'klein20231111_.nwb_02_Rev2Session1_45_franklab_tetrode_hippocampus_ampl_1500_prop_075_1ms_artifact_removed_valid_times_track_time_only'} should normally be calculated before insertion here\n",
      "[13:00:22][INFO] Spyglass: Found 1 accepted units\n",
      "14-Jun-25 13:00:22 Found 1 accepted units\n",
      "/home/shijiegu/anaconda3/envs/spyglass/lib/python3.10/site-packages/pynwb/behavior.py:48: UserWarning: SpatialSeries 'series_0' has data shape (44222, 6) which is not compliant with NWB 2.5 and greater. The second dimension should have length <= 3 to represent at most x, y, z.\n",
      "  warnings.warn(\"SpatialSeries '%s' has data shape %s which is not compliant with NWB 2.5 and greater. \"\n",
      "/home/shijiegu/anaconda3/envs/spyglass/lib/python3.10/site-packages/pynwb/behavior.py:48: UserWarning: SpatialSeries 'series_1' has data shape (75048, 6) which is not compliant with NWB 2.5 and greater. The second dimension should have length <= 3 to represent at most x, y, z.\n",
      "  warnings.warn(\"SpatialSeries '%s' has data shape %s which is not compliant with NWB 2.5 and greater. \"\n",
      "/home/shijiegu/anaconda3/envs/spyglass/lib/python3.10/site-packages/pynwb/behavior.py:48: UserWarning: SpatialSeries 'series_10' has data shape (14355, 6) which is not compliant with NWB 2.5 and greater. The second dimension should have length <= 3 to represent at most x, y, z.\n",
      "  warnings.warn(\"SpatialSeries '%s' has data shape %s which is not compliant with NWB 2.5 and greater. \"\n",
      "/home/shijiegu/anaconda3/envs/spyglass/lib/python3.10/site-packages/pynwb/behavior.py:48: UserWarning: SpatialSeries 'series_2' has data shape (116537, 6) which is not compliant with NWB 2.5 and greater. The second dimension should have length <= 3 to represent at most x, y, z.\n",
      "  warnings.warn(\"SpatialSeries '%s' has data shape %s which is not compliant with NWB 2.5 and greater. \"\n",
      "/home/shijiegu/anaconda3/envs/spyglass/lib/python3.10/site-packages/pynwb/behavior.py:48: UserWarning: SpatialSeries 'series_3' has data shape (78494, 6) which is not compliant with NWB 2.5 and greater. The second dimension should have length <= 3 to represent at most x, y, z.\n",
      "  warnings.warn(\"SpatialSeries '%s' has data shape %s which is not compliant with NWB 2.5 and greater. \"\n",
      "/home/shijiegu/anaconda3/envs/spyglass/lib/python3.10/site-packages/pynwb/behavior.py:48: UserWarning: SpatialSeries 'series_4' has data shape (174480, 6) which is not compliant with NWB 2.5 and greater. The second dimension should have length <= 3 to represent at most x, y, z.\n",
      "  warnings.warn(\"SpatialSeries '%s' has data shape %s which is not compliant with NWB 2.5 and greater. \"\n",
      "/home/shijiegu/anaconda3/envs/spyglass/lib/python3.10/site-packages/pynwb/behavior.py:48: UserWarning: SpatialSeries 'series_5' has data shape (69806, 6) which is not compliant with NWB 2.5 and greater. The second dimension should have length <= 3 to represent at most x, y, z.\n",
      "  warnings.warn(\"SpatialSeries '%s' has data shape %s which is not compliant with NWB 2.5 and greater. \"\n",
      "/home/shijiegu/anaconda3/envs/spyglass/lib/python3.10/site-packages/pynwb/behavior.py:48: UserWarning: SpatialSeries 'series_6' has data shape (128385, 6) which is not compliant with NWB 2.5 and greater. The second dimension should have length <= 3 to represent at most x, y, z.\n",
      "  warnings.warn(\"SpatialSeries '%s' has data shape %s which is not compliant with NWB 2.5 and greater. \"\n",
      "/home/shijiegu/anaconda3/envs/spyglass/lib/python3.10/site-packages/pynwb/behavior.py:48: UserWarning: SpatialSeries 'series_7' has data shape (66099, 6) which is not compliant with NWB 2.5 and greater. The second dimension should have length <= 3 to represent at most x, y, z.\n",
      "  warnings.warn(\"SpatialSeries '%s' has data shape %s which is not compliant with NWB 2.5 and greater. \"\n",
      "/home/shijiegu/anaconda3/envs/spyglass/lib/python3.10/site-packages/pynwb/behavior.py:48: UserWarning: SpatialSeries 'series_8' has data shape (112403, 6) which is not compliant with NWB 2.5 and greater. The second dimension should have length <= 3 to represent at most x, y, z.\n",
      "  warnings.warn(\"SpatialSeries '%s' has data shape %s which is not compliant with NWB 2.5 and greater. \"\n",
      "/home/shijiegu/anaconda3/envs/spyglass/lib/python3.10/site-packages/pynwb/behavior.py:48: UserWarning: SpatialSeries 'series_9' has data shape (50881, 6) which is not compliant with NWB 2.5 and greater. The second dimension should have length <= 3 to represent at most x, y, z.\n",
      "  warnings.warn(\"SpatialSeries '%s' has data shape %s which is not compliant with NWB 2.5 and greater. \"\n",
      "[13:00:40][INFO] Spyglass: Writing new NWB file klein20231111_8A1HF8XRJX.nwb\n",
      "14-Jun-25 13:00:40 Writing new NWB file klein20231111_8A1HF8XRJX.nwb\n",
      "/home/shijiegu/anaconda3/envs/spyglass/lib/python3.10/site-packages/hdmf/build/objectmapper.py:687: MissingRequiredBuildWarning: NWBFile 'root' is missing required value for attribute 'source_script_file_name'.\n",
      "  warnings.warn(msg, MissingRequiredBuildWarning)\n",
      "/home/shijiegu/anaconda3/envs/spyglass/lib/python3.10/site-packages/hdmf/build/objectmapper.py:687: MissingRequiredBuildWarning: NWBFile 'root' is missing required value for attribute 'source_script_file_name'.\n",
      "  warnings.warn(msg, MissingRequiredBuildWarning)\n",
      "[13:01:01][WARNING] Spyglass: Metrics for Curation {'curation_id': 0, 'nwb_file_name': 'klein20231111_.nwb', 'sort_group_id': 52, 'sort_interval_name': '02_Rev2Session1', 'preproc_params_name': 'franklab_tetrode_hippocampus', 'team_name': 'SequenceTask', 'sorter': 'clusterless_thresholder', 'sorter_params_name': 'default', 'artifact_removed_interval_list_name': 'klein20231111_.nwb_02_Rev2Session1_52_franklab_tetrode_hippocampus_ampl_1500_prop_075_1ms_artifact_removed_valid_times_track_time_only'} should normally be calculated before insertion here\n",
      "14-Jun-25 13:01:01 Metrics for Curation {'curation_id': 0, 'nwb_file_name': 'klein20231111_.nwb', 'sort_group_id': 52, 'sort_interval_name': '02_Rev2Session1', 'preproc_params_name': 'franklab_tetrode_hippocampus', 'team_name': 'SequenceTask', 'sorter': 'clusterless_thresholder', 'sorter_params_name': 'default', 'artifact_removed_interval_list_name': 'klein20231111_.nwb_02_Rev2Session1_52_franklab_tetrode_hippocampus_ampl_1500_prop_075_1ms_artifact_removed_valid_times_track_time_only'} should normally be calculated before insertion here\n",
      "[13:01:01][INFO] Spyglass: Found 1 accepted units\n",
      "14-Jun-25 13:01:01 Found 1 accepted units\n",
      "/home/shijiegu/anaconda3/envs/spyglass/lib/python3.10/site-packages/pynwb/behavior.py:48: UserWarning: SpatialSeries 'series_0' has data shape (44222, 6) which is not compliant with NWB 2.5 and greater. The second dimension should have length <= 3 to represent at most x, y, z.\n",
      "  warnings.warn(\"SpatialSeries '%s' has data shape %s which is not compliant with NWB 2.5 and greater. \"\n",
      "/home/shijiegu/anaconda3/envs/spyglass/lib/python3.10/site-packages/pynwb/behavior.py:48: UserWarning: SpatialSeries 'series_1' has data shape (75048, 6) which is not compliant with NWB 2.5 and greater. The second dimension should have length <= 3 to represent at most x, y, z.\n",
      "  warnings.warn(\"SpatialSeries '%s' has data shape %s which is not compliant with NWB 2.5 and greater. \"\n",
      "/home/shijiegu/anaconda3/envs/spyglass/lib/python3.10/site-packages/pynwb/behavior.py:48: UserWarning: SpatialSeries 'series_10' has data shape (14355, 6) which is not compliant with NWB 2.5 and greater. The second dimension should have length <= 3 to represent at most x, y, z.\n",
      "  warnings.warn(\"SpatialSeries '%s' has data shape %s which is not compliant with NWB 2.5 and greater. \"\n",
      "/home/shijiegu/anaconda3/envs/spyglass/lib/python3.10/site-packages/pynwb/behavior.py:48: UserWarning: SpatialSeries 'series_2' has data shape (116537, 6) which is not compliant with NWB 2.5 and greater. The second dimension should have length <= 3 to represent at most x, y, z.\n",
      "  warnings.warn(\"SpatialSeries '%s' has data shape %s which is not compliant with NWB 2.5 and greater. \"\n",
      "/home/shijiegu/anaconda3/envs/spyglass/lib/python3.10/site-packages/pynwb/behavior.py:48: UserWarning: SpatialSeries 'series_3' has data shape (78494, 6) which is not compliant with NWB 2.5 and greater. The second dimension should have length <= 3 to represent at most x, y, z.\n",
      "  warnings.warn(\"SpatialSeries '%s' has data shape %s which is not compliant with NWB 2.5 and greater. \"\n",
      "/home/shijiegu/anaconda3/envs/spyglass/lib/python3.10/site-packages/pynwb/behavior.py:48: UserWarning: SpatialSeries 'series_4' has data shape (174480, 6) which is not compliant with NWB 2.5 and greater. The second dimension should have length <= 3 to represent at most x, y, z.\n",
      "  warnings.warn(\"SpatialSeries '%s' has data shape %s which is not compliant with NWB 2.5 and greater. \"\n",
      "/home/shijiegu/anaconda3/envs/spyglass/lib/python3.10/site-packages/pynwb/behavior.py:48: UserWarning: SpatialSeries 'series_5' has data shape (69806, 6) which is not compliant with NWB 2.5 and greater. The second dimension should have length <= 3 to represent at most x, y, z.\n",
      "  warnings.warn(\"SpatialSeries '%s' has data shape %s which is not compliant with NWB 2.5 and greater. \"\n",
      "/home/shijiegu/anaconda3/envs/spyglass/lib/python3.10/site-packages/pynwb/behavior.py:48: UserWarning: SpatialSeries 'series_6' has data shape (128385, 6) which is not compliant with NWB 2.5 and greater. The second dimension should have length <= 3 to represent at most x, y, z.\n",
      "  warnings.warn(\"SpatialSeries '%s' has data shape %s which is not compliant with NWB 2.5 and greater. \"\n",
      "/home/shijiegu/anaconda3/envs/spyglass/lib/python3.10/site-packages/pynwb/behavior.py:48: UserWarning: SpatialSeries 'series_7' has data shape (66099, 6) which is not compliant with NWB 2.5 and greater. The second dimension should have length <= 3 to represent at most x, y, z.\n",
      "  warnings.warn(\"SpatialSeries '%s' has data shape %s which is not compliant with NWB 2.5 and greater. \"\n",
      "/home/shijiegu/anaconda3/envs/spyglass/lib/python3.10/site-packages/pynwb/behavior.py:48: UserWarning: SpatialSeries 'series_8' has data shape (112403, 6) which is not compliant with NWB 2.5 and greater. The second dimension should have length <= 3 to represent at most x, y, z.\n",
      "  warnings.warn(\"SpatialSeries '%s' has data shape %s which is not compliant with NWB 2.5 and greater. \"\n",
      "/home/shijiegu/anaconda3/envs/spyglass/lib/python3.10/site-packages/pynwb/behavior.py:48: UserWarning: SpatialSeries 'series_9' has data shape (50881, 6) which is not compliant with NWB 2.5 and greater. The second dimension should have length <= 3 to represent at most x, y, z.\n",
      "  warnings.warn(\"SpatialSeries '%s' has data shape %s which is not compliant with NWB 2.5 and greater. \"\n",
      "[13:01:19][INFO] Spyglass: Writing new NWB file klein20231111_Z6KYTC3RYV.nwb\n",
      "14-Jun-25 13:01:19 Writing new NWB file klein20231111_Z6KYTC3RYV.nwb\n",
      "/home/shijiegu/anaconda3/envs/spyglass/lib/python3.10/site-packages/hdmf/build/objectmapper.py:687: MissingRequiredBuildWarning: NWBFile 'root' is missing required value for attribute 'source_script_file_name'.\n",
      "  warnings.warn(msg, MissingRequiredBuildWarning)\n",
      "/home/shijiegu/anaconda3/envs/spyglass/lib/python3.10/site-packages/hdmf/build/objectmapper.py:687: MissingRequiredBuildWarning: NWBFile 'root' is missing required value for attribute 'source_script_file_name'.\n",
      "  warnings.warn(msg, MissingRequiredBuildWarning)\n",
      "[13:01:31][WARNING] Spyglass: Metrics for Curation {'curation_id': 0, 'nwb_file_name': 'klein20231111_.nwb', 'sort_group_id': 53, 'sort_interval_name': '02_Rev2Session1', 'preproc_params_name': 'franklab_tetrode_hippocampus', 'team_name': 'SequenceTask', 'sorter': 'clusterless_thresholder', 'sorter_params_name': 'default', 'artifact_removed_interval_list_name': 'klein20231111_.nwb_02_Rev2Session1_53_franklab_tetrode_hippocampus_ampl_1500_prop_075_1ms_artifact_removed_valid_times_track_time_only'} should normally be calculated before insertion here\n",
      "14-Jun-25 13:01:31 Metrics for Curation {'curation_id': 0, 'nwb_file_name': 'klein20231111_.nwb', 'sort_group_id': 53, 'sort_interval_name': '02_Rev2Session1', 'preproc_params_name': 'franklab_tetrode_hippocampus', 'team_name': 'SequenceTask', 'sorter': 'clusterless_thresholder', 'sorter_params_name': 'default', 'artifact_removed_interval_list_name': 'klein20231111_.nwb_02_Rev2Session1_53_franklab_tetrode_hippocampus_ampl_1500_prop_075_1ms_artifact_removed_valid_times_track_time_only'} should normally be calculated before insertion here\n",
      "[13:01:31][INFO] Spyglass: Found 1 accepted units\n",
      "14-Jun-25 13:01:31 Found 1 accepted units\n",
      "/home/shijiegu/anaconda3/envs/spyglass/lib/python3.10/site-packages/pynwb/behavior.py:48: UserWarning: SpatialSeries 'series_0' has data shape (44222, 6) which is not compliant with NWB 2.5 and greater. The second dimension should have length <= 3 to represent at most x, y, z.\n",
      "  warnings.warn(\"SpatialSeries '%s' has data shape %s which is not compliant with NWB 2.5 and greater. \"\n",
      "/home/shijiegu/anaconda3/envs/spyglass/lib/python3.10/site-packages/pynwb/behavior.py:48: UserWarning: SpatialSeries 'series_1' has data shape (75048, 6) which is not compliant with NWB 2.5 and greater. The second dimension should have length <= 3 to represent at most x, y, z.\n",
      "  warnings.warn(\"SpatialSeries '%s' has data shape %s which is not compliant with NWB 2.5 and greater. \"\n",
      "/home/shijiegu/anaconda3/envs/spyglass/lib/python3.10/site-packages/pynwb/behavior.py:48: UserWarning: SpatialSeries 'series_10' has data shape (14355, 6) which is not compliant with NWB 2.5 and greater. The second dimension should have length <= 3 to represent at most x, y, z.\n",
      "  warnings.warn(\"SpatialSeries '%s' has data shape %s which is not compliant with NWB 2.5 and greater. \"\n",
      "/home/shijiegu/anaconda3/envs/spyglass/lib/python3.10/site-packages/pynwb/behavior.py:48: UserWarning: SpatialSeries 'series_2' has data shape (116537, 6) which is not compliant with NWB 2.5 and greater. The second dimension should have length <= 3 to represent at most x, y, z.\n",
      "  warnings.warn(\"SpatialSeries '%s' has data shape %s which is not compliant with NWB 2.5 and greater. \"\n",
      "/home/shijiegu/anaconda3/envs/spyglass/lib/python3.10/site-packages/pynwb/behavior.py:48: UserWarning: SpatialSeries 'series_3' has data shape (78494, 6) which is not compliant with NWB 2.5 and greater. The second dimension should have length <= 3 to represent at most x, y, z.\n",
      "  warnings.warn(\"SpatialSeries '%s' has data shape %s which is not compliant with NWB 2.5 and greater. \"\n",
      "/home/shijiegu/anaconda3/envs/spyglass/lib/python3.10/site-packages/pynwb/behavior.py:48: UserWarning: SpatialSeries 'series_4' has data shape (174480, 6) which is not compliant with NWB 2.5 and greater. The second dimension should have length <= 3 to represent at most x, y, z.\n",
      "  warnings.warn(\"SpatialSeries '%s' has data shape %s which is not compliant with NWB 2.5 and greater. \"\n",
      "/home/shijiegu/anaconda3/envs/spyglass/lib/python3.10/site-packages/pynwb/behavior.py:48: UserWarning: SpatialSeries 'series_5' has data shape (69806, 6) which is not compliant with NWB 2.5 and greater. The second dimension should have length <= 3 to represent at most x, y, z.\n",
      "  warnings.warn(\"SpatialSeries '%s' has data shape %s which is not compliant with NWB 2.5 and greater. \"\n",
      "/home/shijiegu/anaconda3/envs/spyglass/lib/python3.10/site-packages/pynwb/behavior.py:48: UserWarning: SpatialSeries 'series_6' has data shape (128385, 6) which is not compliant with NWB 2.5 and greater. The second dimension should have length <= 3 to represent at most x, y, z.\n",
      "  warnings.warn(\"SpatialSeries '%s' has data shape %s which is not compliant with NWB 2.5 and greater. \"\n",
      "/home/shijiegu/anaconda3/envs/spyglass/lib/python3.10/site-packages/pynwb/behavior.py:48: UserWarning: SpatialSeries 'series_7' has data shape (66099, 6) which is not compliant with NWB 2.5 and greater. The second dimension should have length <= 3 to represent at most x, y, z.\n",
      "  warnings.warn(\"SpatialSeries '%s' has data shape %s which is not compliant with NWB 2.5 and greater. \"\n",
      "/home/shijiegu/anaconda3/envs/spyglass/lib/python3.10/site-packages/pynwb/behavior.py:48: UserWarning: SpatialSeries 'series_8' has data shape (112403, 6) which is not compliant with NWB 2.5 and greater. The second dimension should have length <= 3 to represent at most x, y, z.\n",
      "  warnings.warn(\"SpatialSeries '%s' has data shape %s which is not compliant with NWB 2.5 and greater. \"\n",
      "/home/shijiegu/anaconda3/envs/spyglass/lib/python3.10/site-packages/pynwb/behavior.py:48: UserWarning: SpatialSeries 'series_9' has data shape (50881, 6) which is not compliant with NWB 2.5 and greater. The second dimension should have length <= 3 to represent at most x, y, z.\n",
      "  warnings.warn(\"SpatialSeries '%s' has data shape %s which is not compliant with NWB 2.5 and greater. \"\n",
      "[13:01:49][INFO] Spyglass: Writing new NWB file klein20231111_022DXX5V6O.nwb\n",
      "14-Jun-25 13:01:49 Writing new NWB file klein20231111_022DXX5V6O.nwb\n",
      "/home/shijiegu/anaconda3/envs/spyglass/lib/python3.10/site-packages/hdmf/build/objectmapper.py:687: MissingRequiredBuildWarning: NWBFile 'root' is missing required value for attribute 'source_script_file_name'.\n",
      "  warnings.warn(msg, MissingRequiredBuildWarning)\n",
      "/home/shijiegu/anaconda3/envs/spyglass/lib/python3.10/site-packages/hdmf/build/objectmapper.py:687: MissingRequiredBuildWarning: NWBFile 'root' is missing required value for attribute 'source_script_file_name'.\n",
      "  warnings.warn(msg, MissingRequiredBuildWarning)\n",
      "[13:02:03][WARNING] Spyglass: Metrics for Curation {'curation_id': 0, 'nwb_file_name': 'klein20231111_.nwb', 'sort_group_id': 54, 'sort_interval_name': '02_Rev2Session1', 'preproc_params_name': 'franklab_tetrode_hippocampus', 'team_name': 'SequenceTask', 'sorter': 'clusterless_thresholder', 'sorter_params_name': 'default', 'artifact_removed_interval_list_name': 'klein20231111_.nwb_02_Rev2Session1_54_franklab_tetrode_hippocampus_ampl_1500_prop_075_1ms_artifact_removed_valid_times_track_time_only'} should normally be calculated before insertion here\n",
      "14-Jun-25 13:02:03 Metrics for Curation {'curation_id': 0, 'nwb_file_name': 'klein20231111_.nwb', 'sort_group_id': 54, 'sort_interval_name': '02_Rev2Session1', 'preproc_params_name': 'franklab_tetrode_hippocampus', 'team_name': 'SequenceTask', 'sorter': 'clusterless_thresholder', 'sorter_params_name': 'default', 'artifact_removed_interval_list_name': 'klein20231111_.nwb_02_Rev2Session1_54_franklab_tetrode_hippocampus_ampl_1500_prop_075_1ms_artifact_removed_valid_times_track_time_only'} should normally be calculated before insertion here\n",
      "[13:02:03][INFO] Spyglass: Found 1 accepted units\n",
      "14-Jun-25 13:02:03 Found 1 accepted units\n",
      "/home/shijiegu/anaconda3/envs/spyglass/lib/python3.10/site-packages/pynwb/behavior.py:48: UserWarning: SpatialSeries 'series_0' has data shape (44222, 6) which is not compliant with NWB 2.5 and greater. The second dimension should have length <= 3 to represent at most x, y, z.\n",
      "  warnings.warn(\"SpatialSeries '%s' has data shape %s which is not compliant with NWB 2.5 and greater. \"\n",
      "/home/shijiegu/anaconda3/envs/spyglass/lib/python3.10/site-packages/pynwb/behavior.py:48: UserWarning: SpatialSeries 'series_1' has data shape (75048, 6) which is not compliant with NWB 2.5 and greater. The second dimension should have length <= 3 to represent at most x, y, z.\n",
      "  warnings.warn(\"SpatialSeries '%s' has data shape %s which is not compliant with NWB 2.5 and greater. \"\n",
      "/home/shijiegu/anaconda3/envs/spyglass/lib/python3.10/site-packages/pynwb/behavior.py:48: UserWarning: SpatialSeries 'series_10' has data shape (14355, 6) which is not compliant with NWB 2.5 and greater. The second dimension should have length <= 3 to represent at most x, y, z.\n",
      "  warnings.warn(\"SpatialSeries '%s' has data shape %s which is not compliant with NWB 2.5 and greater. \"\n",
      "/home/shijiegu/anaconda3/envs/spyglass/lib/python3.10/site-packages/pynwb/behavior.py:48: UserWarning: SpatialSeries 'series_2' has data shape (116537, 6) which is not compliant with NWB 2.5 and greater. The second dimension should have length <= 3 to represent at most x, y, z.\n",
      "  warnings.warn(\"SpatialSeries '%s' has data shape %s which is not compliant with NWB 2.5 and greater. \"\n",
      "/home/shijiegu/anaconda3/envs/spyglass/lib/python3.10/site-packages/pynwb/behavior.py:48: UserWarning: SpatialSeries 'series_3' has data shape (78494, 6) which is not compliant with NWB 2.5 and greater. The second dimension should have length <= 3 to represent at most x, y, z.\n",
      "  warnings.warn(\"SpatialSeries '%s' has data shape %s which is not compliant with NWB 2.5 and greater. \"\n",
      "/home/shijiegu/anaconda3/envs/spyglass/lib/python3.10/site-packages/pynwb/behavior.py:48: UserWarning: SpatialSeries 'series_4' has data shape (174480, 6) which is not compliant with NWB 2.5 and greater. The second dimension should have length <= 3 to represent at most x, y, z.\n",
      "  warnings.warn(\"SpatialSeries '%s' has data shape %s which is not compliant with NWB 2.5 and greater. \"\n",
      "/home/shijiegu/anaconda3/envs/spyglass/lib/python3.10/site-packages/pynwb/behavior.py:48: UserWarning: SpatialSeries 'series_5' has data shape (69806, 6) which is not compliant with NWB 2.5 and greater. The second dimension should have length <= 3 to represent at most x, y, z.\n",
      "  warnings.warn(\"SpatialSeries '%s' has data shape %s which is not compliant with NWB 2.5 and greater. \"\n",
      "/home/shijiegu/anaconda3/envs/spyglass/lib/python3.10/site-packages/pynwb/behavior.py:48: UserWarning: SpatialSeries 'series_6' has data shape (128385, 6) which is not compliant with NWB 2.5 and greater. The second dimension should have length <= 3 to represent at most x, y, z.\n",
      "  warnings.warn(\"SpatialSeries '%s' has data shape %s which is not compliant with NWB 2.5 and greater. \"\n",
      "/home/shijiegu/anaconda3/envs/spyglass/lib/python3.10/site-packages/pynwb/behavior.py:48: UserWarning: SpatialSeries 'series_7' has data shape (66099, 6) which is not compliant with NWB 2.5 and greater. The second dimension should have length <= 3 to represent at most x, y, z.\n",
      "  warnings.warn(\"SpatialSeries '%s' has data shape %s which is not compliant with NWB 2.5 and greater. \"\n",
      "/home/shijiegu/anaconda3/envs/spyglass/lib/python3.10/site-packages/pynwb/behavior.py:48: UserWarning: SpatialSeries 'series_8' has data shape (112403, 6) which is not compliant with NWB 2.5 and greater. The second dimension should have length <= 3 to represent at most x, y, z.\n",
      "  warnings.warn(\"SpatialSeries '%s' has data shape %s which is not compliant with NWB 2.5 and greater. \"\n",
      "/home/shijiegu/anaconda3/envs/spyglass/lib/python3.10/site-packages/pynwb/behavior.py:48: UserWarning: SpatialSeries 'series_9' has data shape (50881, 6) which is not compliant with NWB 2.5 and greater. The second dimension should have length <= 3 to represent at most x, y, z.\n",
      "  warnings.warn(\"SpatialSeries '%s' has data shape %s which is not compliant with NWB 2.5 and greater. \"\n",
      "[13:02:21][INFO] Spyglass: Writing new NWB file klein20231111_JDR2LX6RAZ.nwb\n",
      "14-Jun-25 13:02:21 Writing new NWB file klein20231111_JDR2LX6RAZ.nwb\n",
      "/home/shijiegu/anaconda3/envs/spyglass/lib/python3.10/site-packages/hdmf/build/objectmapper.py:687: MissingRequiredBuildWarning: NWBFile 'root' is missing required value for attribute 'source_script_file_name'.\n",
      "  warnings.warn(msg, MissingRequiredBuildWarning)\n",
      "/home/shijiegu/anaconda3/envs/spyglass/lib/python3.10/site-packages/hdmf/build/objectmapper.py:687: MissingRequiredBuildWarning: NWBFile 'root' is missing required value for attribute 'source_script_file_name'.\n",
      "  warnings.warn(msg, MissingRequiredBuildWarning)\n",
      "[13:02:35][WARNING] Spyglass: Metrics for Curation {'curation_id': 0, 'nwb_file_name': 'klein20231111_.nwb', 'sort_group_id': 63, 'sort_interval_name': '02_Rev2Session1', 'preproc_params_name': 'franklab_tetrode_hippocampus', 'team_name': 'SequenceTask', 'sorter': 'clusterless_thresholder', 'sorter_params_name': 'default', 'artifact_removed_interval_list_name': 'klein20231111_.nwb_02_Rev2Session1_63_franklab_tetrode_hippocampus_ampl_1500_prop_075_1ms_artifact_removed_valid_times_track_time_only'} should normally be calculated before insertion here\n",
      "14-Jun-25 13:02:35 Metrics for Curation {'curation_id': 0, 'nwb_file_name': 'klein20231111_.nwb', 'sort_group_id': 63, 'sort_interval_name': '02_Rev2Session1', 'preproc_params_name': 'franklab_tetrode_hippocampus', 'team_name': 'SequenceTask', 'sorter': 'clusterless_thresholder', 'sorter_params_name': 'default', 'artifact_removed_interval_list_name': 'klein20231111_.nwb_02_Rev2Session1_63_franklab_tetrode_hippocampus_ampl_1500_prop_075_1ms_artifact_removed_valid_times_track_time_only'} should normally be calculated before insertion here\n",
      "[13:02:35][INFO] Spyglass: Found 1 accepted units\n",
      "14-Jun-25 13:02:35 Found 1 accepted units\n",
      "/home/shijiegu/anaconda3/envs/spyglass/lib/python3.10/site-packages/pynwb/behavior.py:48: UserWarning: SpatialSeries 'series_0' has data shape (44222, 6) which is not compliant with NWB 2.5 and greater. The second dimension should have length <= 3 to represent at most x, y, z.\n",
      "  warnings.warn(\"SpatialSeries '%s' has data shape %s which is not compliant with NWB 2.5 and greater. \"\n",
      "/home/shijiegu/anaconda3/envs/spyglass/lib/python3.10/site-packages/pynwb/behavior.py:48: UserWarning: SpatialSeries 'series_1' has data shape (75048, 6) which is not compliant with NWB 2.5 and greater. The second dimension should have length <= 3 to represent at most x, y, z.\n",
      "  warnings.warn(\"SpatialSeries '%s' has data shape %s which is not compliant with NWB 2.5 and greater. \"\n",
      "/home/shijiegu/anaconda3/envs/spyglass/lib/python3.10/site-packages/pynwb/behavior.py:48: UserWarning: SpatialSeries 'series_10' has data shape (14355, 6) which is not compliant with NWB 2.5 and greater. The second dimension should have length <= 3 to represent at most x, y, z.\n",
      "  warnings.warn(\"SpatialSeries '%s' has data shape %s which is not compliant with NWB 2.5 and greater. \"\n",
      "/home/shijiegu/anaconda3/envs/spyglass/lib/python3.10/site-packages/pynwb/behavior.py:48: UserWarning: SpatialSeries 'series_2' has data shape (116537, 6) which is not compliant with NWB 2.5 and greater. The second dimension should have length <= 3 to represent at most x, y, z.\n",
      "  warnings.warn(\"SpatialSeries '%s' has data shape %s which is not compliant with NWB 2.5 and greater. \"\n",
      "/home/shijiegu/anaconda3/envs/spyglass/lib/python3.10/site-packages/pynwb/behavior.py:48: UserWarning: SpatialSeries 'series_3' has data shape (78494, 6) which is not compliant with NWB 2.5 and greater. The second dimension should have length <= 3 to represent at most x, y, z.\n",
      "  warnings.warn(\"SpatialSeries '%s' has data shape %s which is not compliant with NWB 2.5 and greater. \"\n",
      "/home/shijiegu/anaconda3/envs/spyglass/lib/python3.10/site-packages/pynwb/behavior.py:48: UserWarning: SpatialSeries 'series_4' has data shape (174480, 6) which is not compliant with NWB 2.5 and greater. The second dimension should have length <= 3 to represent at most x, y, z.\n",
      "  warnings.warn(\"SpatialSeries '%s' has data shape %s which is not compliant with NWB 2.5 and greater. \"\n",
      "/home/shijiegu/anaconda3/envs/spyglass/lib/python3.10/site-packages/pynwb/behavior.py:48: UserWarning: SpatialSeries 'series_5' has data shape (69806, 6) which is not compliant with NWB 2.5 and greater. The second dimension should have length <= 3 to represent at most x, y, z.\n",
      "  warnings.warn(\"SpatialSeries '%s' has data shape %s which is not compliant with NWB 2.5 and greater. \"\n",
      "/home/shijiegu/anaconda3/envs/spyglass/lib/python3.10/site-packages/pynwb/behavior.py:48: UserWarning: SpatialSeries 'series_6' has data shape (128385, 6) which is not compliant with NWB 2.5 and greater. The second dimension should have length <= 3 to represent at most x, y, z.\n",
      "  warnings.warn(\"SpatialSeries '%s' has data shape %s which is not compliant with NWB 2.5 and greater. \"\n",
      "/home/shijiegu/anaconda3/envs/spyglass/lib/python3.10/site-packages/pynwb/behavior.py:48: UserWarning: SpatialSeries 'series_7' has data shape (66099, 6) which is not compliant with NWB 2.5 and greater. The second dimension should have length <= 3 to represent at most x, y, z.\n",
      "  warnings.warn(\"SpatialSeries '%s' has data shape %s which is not compliant with NWB 2.5 and greater. \"\n",
      "/home/shijiegu/anaconda3/envs/spyglass/lib/python3.10/site-packages/pynwb/behavior.py:48: UserWarning: SpatialSeries 'series_8' has data shape (112403, 6) which is not compliant with NWB 2.5 and greater. The second dimension should have length <= 3 to represent at most x, y, z.\n",
      "  warnings.warn(\"SpatialSeries '%s' has data shape %s which is not compliant with NWB 2.5 and greater. \"\n",
      "/home/shijiegu/anaconda3/envs/spyglass/lib/python3.10/site-packages/pynwb/behavior.py:48: UserWarning: SpatialSeries 'series_9' has data shape (50881, 6) which is not compliant with NWB 2.5 and greater. The second dimension should have length <= 3 to represent at most x, y, z.\n",
      "  warnings.warn(\"SpatialSeries '%s' has data shape %s which is not compliant with NWB 2.5 and greater. \"\n",
      "[13:02:53][INFO] Spyglass: Writing new NWB file klein20231111_T7Q2VXPN7M.nwb\n",
      "14-Jun-25 13:02:53 Writing new NWB file klein20231111_T7Q2VXPN7M.nwb\n",
      "/home/shijiegu/anaconda3/envs/spyglass/lib/python3.10/site-packages/hdmf/build/objectmapper.py:687: MissingRequiredBuildWarning: NWBFile 'root' is missing required value for attribute 'source_script_file_name'.\n",
      "  warnings.warn(msg, MissingRequiredBuildWarning)\n",
      "/home/shijiegu/anaconda3/envs/spyglass/lib/python3.10/site-packages/hdmf/build/objectmapper.py:687: MissingRequiredBuildWarning: NWBFile 'root' is missing required value for attribute 'source_script_file_name'.\n",
      "  warnings.warn(msg, MissingRequiredBuildWarning)\n",
      "[2025-06-14 13:03:12,784][WARNING]: Skipped checksum for file with hash: ecb885f0-f8b8-075c-38fe-d46f5518d325, and path: /stelmo/nwb/raw/klein20231111_.nwb\n",
      "14-Jun-25 13:03:12 Skipped checksum for file with hash: ecb885f0-f8b8-075c-38fe-d46f5518d325, and path: /stelmo/nwb/raw/klein20231111_.nwb\n",
      "[2025-06-14 13:03:13,717][WARNING]: Skipped checksum for file with hash: 294873d1-64da-5dcf-4761-c7ecb927f34b, and path: /stelmo/nwb/analysis/klein20231111/klein20231111_H5Y071X4D7.nwb\n",
      "14-Jun-25 13:03:13 Skipped checksum for file with hash: 294873d1-64da-5dcf-4761-c7ecb927f34b, and path: /stelmo/nwb/analysis/klein20231111/klein20231111_H5Y071X4D7.nwb\n",
      "[2025-06-14 13:03:13,731][WARNING]: Skipped checksum for file with hash: 294873d1-64da-5dcf-4761-c7ecb927f34b, and path: /stelmo/nwb/analysis/klein20231111/klein20231111_H5Y071X4D7.nwb\n",
      "14-Jun-25 13:03:13 Skipped checksum for file with hash: 294873d1-64da-5dcf-4761-c7ecb927f34b, and path: /stelmo/nwb/analysis/klein20231111/klein20231111_H5Y071X4D7.nwb\n",
      "[2025-06-14 13:03:13,739][WARNING]: Skipped checksum for file with hash: 294873d1-64da-5dcf-4761-c7ecb927f34b, and path: /stelmo/nwb/analysis/klein20231111/klein20231111_H5Y071X4D7.nwb\n",
      "14-Jun-25 13:03:13 Skipped checksum for file with hash: 294873d1-64da-5dcf-4761-c7ecb927f34b, and path: /stelmo/nwb/analysis/klein20231111/klein20231111_H5Y071X4D7.nwb\n"
     ]
    },
    {
     "data": {
      "application/vnd.jupyter.widget-view+json": {
       "model_id": "fd61bbf70be14f98af7b00323c30e706",
       "version_major": 2,
       "version_minor": 0
      },
      "text/plain": [
       "extract waveforms shared_memory multi buffer:   0%|          | 0/1 [00:00<?, ?it/s]"
      ]
     },
     "metadata": {},
     "output_type": "display_data"
    },
    {
     "data": {
      "application/vnd.jupyter.widget-view+json": {
       "model_id": "3695656c48fd45789796c10db28e789c",
       "version_major": 2,
       "version_minor": 0
      },
      "text/plain": [
       "extract waveforms memmap multi buffer:   0%|          | 0/1 [00:00<?, ?it/s]"
      ]
     },
     "metadata": {},
     "output_type": "display_data"
    },
    {
     "name": "stderr",
     "output_type": "stream",
     "text": [
      "/home/shijiegu/anaconda3/envs/spyglass/lib/python3.10/site-packages/pynwb/behavior.py:48: UserWarning: SpatialSeries 'series_0' has data shape (44222, 6) which is not compliant with NWB 2.5 and greater. The second dimension should have length <= 3 to represent at most x, y, z.\n",
      "  warnings.warn(\"SpatialSeries '%s' has data shape %s which is not compliant with NWB 2.5 and greater. \"\n",
      "/home/shijiegu/anaconda3/envs/spyglass/lib/python3.10/site-packages/pynwb/behavior.py:48: UserWarning: SpatialSeries 'series_1' has data shape (75048, 6) which is not compliant with NWB 2.5 and greater. The second dimension should have length <= 3 to represent at most x, y, z.\n",
      "  warnings.warn(\"SpatialSeries '%s' has data shape %s which is not compliant with NWB 2.5 and greater. \"\n",
      "/home/shijiegu/anaconda3/envs/spyglass/lib/python3.10/site-packages/pynwb/behavior.py:48: UserWarning: SpatialSeries 'series_10' has data shape (14355, 6) which is not compliant with NWB 2.5 and greater. The second dimension should have length <= 3 to represent at most x, y, z.\n",
      "  warnings.warn(\"SpatialSeries '%s' has data shape %s which is not compliant with NWB 2.5 and greater. \"\n",
      "/home/shijiegu/anaconda3/envs/spyglass/lib/python3.10/site-packages/pynwb/behavior.py:48: UserWarning: SpatialSeries 'series_2' has data shape (116537, 6) which is not compliant with NWB 2.5 and greater. The second dimension should have length <= 3 to represent at most x, y, z.\n",
      "  warnings.warn(\"SpatialSeries '%s' has data shape %s which is not compliant with NWB 2.5 and greater. \"\n",
      "/home/shijiegu/anaconda3/envs/spyglass/lib/python3.10/site-packages/pynwb/behavior.py:48: UserWarning: SpatialSeries 'series_3' has data shape (78494, 6) which is not compliant with NWB 2.5 and greater. The second dimension should have length <= 3 to represent at most x, y, z.\n",
      "  warnings.warn(\"SpatialSeries '%s' has data shape %s which is not compliant with NWB 2.5 and greater. \"\n",
      "/home/shijiegu/anaconda3/envs/spyglass/lib/python3.10/site-packages/pynwb/behavior.py:48: UserWarning: SpatialSeries 'series_4' has data shape (174480, 6) which is not compliant with NWB 2.5 and greater. The second dimension should have length <= 3 to represent at most x, y, z.\n",
      "  warnings.warn(\"SpatialSeries '%s' has data shape %s which is not compliant with NWB 2.5 and greater. \"\n",
      "/home/shijiegu/anaconda3/envs/spyglass/lib/python3.10/site-packages/pynwb/behavior.py:48: UserWarning: SpatialSeries 'series_5' has data shape (69806, 6) which is not compliant with NWB 2.5 and greater. The second dimension should have length <= 3 to represent at most x, y, z.\n",
      "  warnings.warn(\"SpatialSeries '%s' has data shape %s which is not compliant with NWB 2.5 and greater. \"\n",
      "/home/shijiegu/anaconda3/envs/spyglass/lib/python3.10/site-packages/pynwb/behavior.py:48: UserWarning: SpatialSeries 'series_6' has data shape (128385, 6) which is not compliant with NWB 2.5 and greater. The second dimension should have length <= 3 to represent at most x, y, z.\n",
      "  warnings.warn(\"SpatialSeries '%s' has data shape %s which is not compliant with NWB 2.5 and greater. \"\n",
      "/home/shijiegu/anaconda3/envs/spyglass/lib/python3.10/site-packages/pynwb/behavior.py:48: UserWarning: SpatialSeries 'series_7' has data shape (66099, 6) which is not compliant with NWB 2.5 and greater. The second dimension should have length <= 3 to represent at most x, y, z.\n",
      "  warnings.warn(\"SpatialSeries '%s' has data shape %s which is not compliant with NWB 2.5 and greater. \"\n",
      "/home/shijiegu/anaconda3/envs/spyglass/lib/python3.10/site-packages/pynwb/behavior.py:48: UserWarning: SpatialSeries 'series_8' has data shape (112403, 6) which is not compliant with NWB 2.5 and greater. The second dimension should have length <= 3 to represent at most x, y, z.\n",
      "  warnings.warn(\"SpatialSeries '%s' has data shape %s which is not compliant with NWB 2.5 and greater. \"\n",
      "/home/shijiegu/anaconda3/envs/spyglass/lib/python3.10/site-packages/pynwb/behavior.py:48: UserWarning: SpatialSeries 'series_9' has data shape (50881, 6) which is not compliant with NWB 2.5 and greater. The second dimension should have length <= 3 to represent at most x, y, z.\n",
      "  warnings.warn(\"SpatialSeries '%s' has data shape %s which is not compliant with NWB 2.5 and greater. \"\n",
      "[13:04:01][INFO] Spyglass: Writing new NWB file klein20231111_51EFBBYTOM.nwb\n",
      "14-Jun-25 13:04:01 Writing new NWB file klein20231111_51EFBBYTOM.nwb\n",
      "/home/shijiegu/anaconda3/envs/spyglass/lib/python3.10/site-packages/hdmf/build/objectmapper.py:687: MissingRequiredBuildWarning: NWBFile 'root' is missing required value for attribute 'source_script_file_name'.\n",
      "  warnings.warn(msg, MissingRequiredBuildWarning)\n",
      "/home/shijiegu/anaconda3/envs/spyglass/lib/python3.10/site-packages/hdmf/build/objectmapper.py:687: MissingRequiredBuildWarning: NWBFile 'root' is missing required value for attribute 'source_script_file_name'.\n",
      "  warnings.warn(msg, MissingRequiredBuildWarning)\n",
      "[2025-06-14 13:04:17,220][WARNING]: Skipped checksum for file with hash: 1f0ead6e-c5e2-f4a7-ef81-4876aab22693, and path: /stelmo/nwb/analysis/klein20231111/klein20231111_FK2FXEZTY1.nwb\n",
      "14-Jun-25 13:04:17 Skipped checksum for file with hash: 1f0ead6e-c5e2-f4a7-ef81-4876aab22693, and path: /stelmo/nwb/analysis/klein20231111/klein20231111_FK2FXEZTY1.nwb\n",
      "[2025-06-14 13:04:17,230][WARNING]: Skipped checksum for file with hash: 1f0ead6e-c5e2-f4a7-ef81-4876aab22693, and path: /stelmo/nwb/analysis/klein20231111/klein20231111_FK2FXEZTY1.nwb\n",
      "14-Jun-25 13:04:17 Skipped checksum for file with hash: 1f0ead6e-c5e2-f4a7-ef81-4876aab22693, and path: /stelmo/nwb/analysis/klein20231111/klein20231111_FK2FXEZTY1.nwb\n",
      "[2025-06-14 13:04:17,235][WARNING]: Skipped checksum for file with hash: 1f0ead6e-c5e2-f4a7-ef81-4876aab22693, and path: /stelmo/nwb/analysis/klein20231111/klein20231111_FK2FXEZTY1.nwb\n",
      "14-Jun-25 13:04:17 Skipped checksum for file with hash: 1f0ead6e-c5e2-f4a7-ef81-4876aab22693, and path: /stelmo/nwb/analysis/klein20231111/klein20231111_FK2FXEZTY1.nwb\n"
     ]
    },
    {
     "data": {
      "application/vnd.jupyter.widget-view+json": {
       "model_id": "4f3362dd96de48538ebaf970ba63b1a9",
       "version_major": 2,
       "version_minor": 0
      },
      "text/plain": [
       "extract waveforms shared_memory multi buffer:   0%|          | 0/1 [00:00<?, ?it/s]"
      ]
     },
     "metadata": {},
     "output_type": "display_data"
    },
    {
     "data": {
      "application/vnd.jupyter.widget-view+json": {
       "model_id": "dd8ae275e9d9494db11ce2c0854d6388",
       "version_major": 2,
       "version_minor": 0
      },
      "text/plain": [
       "extract waveforms memmap multi buffer:   0%|          | 0/1 [00:00<?, ?it/s]"
      ]
     },
     "metadata": {},
     "output_type": "display_data"
    },
    {
     "name": "stderr",
     "output_type": "stream",
     "text": [
      "/home/shijiegu/anaconda3/envs/spyglass/lib/python3.10/site-packages/pynwb/behavior.py:48: UserWarning: SpatialSeries 'series_0' has data shape (44222, 6) which is not compliant with NWB 2.5 and greater. The second dimension should have length <= 3 to represent at most x, y, z.\n",
      "  warnings.warn(\"SpatialSeries '%s' has data shape %s which is not compliant with NWB 2.5 and greater. \"\n",
      "/home/shijiegu/anaconda3/envs/spyglass/lib/python3.10/site-packages/pynwb/behavior.py:48: UserWarning: SpatialSeries 'series_1' has data shape (75048, 6) which is not compliant with NWB 2.5 and greater. The second dimension should have length <= 3 to represent at most x, y, z.\n",
      "  warnings.warn(\"SpatialSeries '%s' has data shape %s which is not compliant with NWB 2.5 and greater. \"\n",
      "/home/shijiegu/anaconda3/envs/spyglass/lib/python3.10/site-packages/pynwb/behavior.py:48: UserWarning: SpatialSeries 'series_10' has data shape (14355, 6) which is not compliant with NWB 2.5 and greater. The second dimension should have length <= 3 to represent at most x, y, z.\n",
      "  warnings.warn(\"SpatialSeries '%s' has data shape %s which is not compliant with NWB 2.5 and greater. \"\n",
      "/home/shijiegu/anaconda3/envs/spyglass/lib/python3.10/site-packages/pynwb/behavior.py:48: UserWarning: SpatialSeries 'series_2' has data shape (116537, 6) which is not compliant with NWB 2.5 and greater. The second dimension should have length <= 3 to represent at most x, y, z.\n",
      "  warnings.warn(\"SpatialSeries '%s' has data shape %s which is not compliant with NWB 2.5 and greater. \"\n",
      "/home/shijiegu/anaconda3/envs/spyglass/lib/python3.10/site-packages/pynwb/behavior.py:48: UserWarning: SpatialSeries 'series_3' has data shape (78494, 6) which is not compliant with NWB 2.5 and greater. The second dimension should have length <= 3 to represent at most x, y, z.\n",
      "  warnings.warn(\"SpatialSeries '%s' has data shape %s which is not compliant with NWB 2.5 and greater. \"\n",
      "/home/shijiegu/anaconda3/envs/spyglass/lib/python3.10/site-packages/pynwb/behavior.py:48: UserWarning: SpatialSeries 'series_4' has data shape (174480, 6) which is not compliant with NWB 2.5 and greater. The second dimension should have length <= 3 to represent at most x, y, z.\n",
      "  warnings.warn(\"SpatialSeries '%s' has data shape %s which is not compliant with NWB 2.5 and greater. \"\n",
      "/home/shijiegu/anaconda3/envs/spyglass/lib/python3.10/site-packages/pynwb/behavior.py:48: UserWarning: SpatialSeries 'series_5' has data shape (69806, 6) which is not compliant with NWB 2.5 and greater. The second dimension should have length <= 3 to represent at most x, y, z.\n",
      "  warnings.warn(\"SpatialSeries '%s' has data shape %s which is not compliant with NWB 2.5 and greater. \"\n",
      "/home/shijiegu/anaconda3/envs/spyglass/lib/python3.10/site-packages/pynwb/behavior.py:48: UserWarning: SpatialSeries 'series_6' has data shape (128385, 6) which is not compliant with NWB 2.5 and greater. The second dimension should have length <= 3 to represent at most x, y, z.\n",
      "  warnings.warn(\"SpatialSeries '%s' has data shape %s which is not compliant with NWB 2.5 and greater. \"\n",
      "/home/shijiegu/anaconda3/envs/spyglass/lib/python3.10/site-packages/pynwb/behavior.py:48: UserWarning: SpatialSeries 'series_7' has data shape (66099, 6) which is not compliant with NWB 2.5 and greater. The second dimension should have length <= 3 to represent at most x, y, z.\n",
      "  warnings.warn(\"SpatialSeries '%s' has data shape %s which is not compliant with NWB 2.5 and greater. \"\n",
      "/home/shijiegu/anaconda3/envs/spyglass/lib/python3.10/site-packages/pynwb/behavior.py:48: UserWarning: SpatialSeries 'series_8' has data shape (112403, 6) which is not compliant with NWB 2.5 and greater. The second dimension should have length <= 3 to represent at most x, y, z.\n",
      "  warnings.warn(\"SpatialSeries '%s' has data shape %s which is not compliant with NWB 2.5 and greater. \"\n",
      "/home/shijiegu/anaconda3/envs/spyglass/lib/python3.10/site-packages/pynwb/behavior.py:48: UserWarning: SpatialSeries 'series_9' has data shape (50881, 6) which is not compliant with NWB 2.5 and greater. The second dimension should have length <= 3 to represent at most x, y, z.\n",
      "  warnings.warn(\"SpatialSeries '%s' has data shape %s which is not compliant with NWB 2.5 and greater. \"\n",
      "[13:04:54][INFO] Spyglass: Writing new NWB file klein20231111_SODOVXS7UF.nwb\n",
      "14-Jun-25 13:04:54 Writing new NWB file klein20231111_SODOVXS7UF.nwb\n",
      "/home/shijiegu/anaconda3/envs/spyglass/lib/python3.10/site-packages/hdmf/build/objectmapper.py:687: MissingRequiredBuildWarning: NWBFile 'root' is missing required value for attribute 'source_script_file_name'.\n",
      "  warnings.warn(msg, MissingRequiredBuildWarning)\n",
      "/home/shijiegu/anaconda3/envs/spyglass/lib/python3.10/site-packages/hdmf/build/objectmapper.py:687: MissingRequiredBuildWarning: NWBFile 'root' is missing required value for attribute 'source_script_file_name'.\n",
      "  warnings.warn(msg, MissingRequiredBuildWarning)\n",
      "[2025-06-14 13:05:11,836][WARNING]: Skipped checksum for file with hash: 3581a8cb-f41a-03b4-c703-13f161336899, and path: /stelmo/nwb/analysis/klein20231111/klein20231111_PSOI26XT1R.nwb\n",
      "14-Jun-25 13:05:11 Skipped checksum for file with hash: 3581a8cb-f41a-03b4-c703-13f161336899, and path: /stelmo/nwb/analysis/klein20231111/klein20231111_PSOI26XT1R.nwb\n",
      "[2025-06-14 13:05:11,849][WARNING]: Skipped checksum for file with hash: 3581a8cb-f41a-03b4-c703-13f161336899, and path: /stelmo/nwb/analysis/klein20231111/klein20231111_PSOI26XT1R.nwb\n",
      "14-Jun-25 13:05:11 Skipped checksum for file with hash: 3581a8cb-f41a-03b4-c703-13f161336899, and path: /stelmo/nwb/analysis/klein20231111/klein20231111_PSOI26XT1R.nwb\n",
      "[2025-06-14 13:05:11,854][WARNING]: Skipped checksum for file with hash: 3581a8cb-f41a-03b4-c703-13f161336899, and path: /stelmo/nwb/analysis/klein20231111/klein20231111_PSOI26XT1R.nwb\n",
      "14-Jun-25 13:05:11 Skipped checksum for file with hash: 3581a8cb-f41a-03b4-c703-13f161336899, and path: /stelmo/nwb/analysis/klein20231111/klein20231111_PSOI26XT1R.nwb\n"
     ]
    },
    {
     "data": {
      "application/vnd.jupyter.widget-view+json": {
       "model_id": "369effd4a72c4a05935aeceb7ada5288",
       "version_major": 2,
       "version_minor": 0
      },
      "text/plain": [
       "extract waveforms shared_memory multi buffer:   0%|          | 0/1 [00:00<?, ?it/s]"
      ]
     },
     "metadata": {},
     "output_type": "display_data"
    },
    {
     "data": {
      "application/vnd.jupyter.widget-view+json": {
       "model_id": "3d46bf75818641c6a061b531f0b9827c",
       "version_major": 2,
       "version_minor": 0
      },
      "text/plain": [
       "extract waveforms memmap multi buffer:   0%|          | 0/1 [00:00<?, ?it/s]"
      ]
     },
     "metadata": {},
     "output_type": "display_data"
    },
    {
     "name": "stderr",
     "output_type": "stream",
     "text": [
      "/home/shijiegu/anaconda3/envs/spyglass/lib/python3.10/site-packages/pynwb/behavior.py:48: UserWarning: SpatialSeries 'series_0' has data shape (44222, 6) which is not compliant with NWB 2.5 and greater. The second dimension should have length <= 3 to represent at most x, y, z.\n",
      "  warnings.warn(\"SpatialSeries '%s' has data shape %s which is not compliant with NWB 2.5 and greater. \"\n",
      "/home/shijiegu/anaconda3/envs/spyglass/lib/python3.10/site-packages/pynwb/behavior.py:48: UserWarning: SpatialSeries 'series_1' has data shape (75048, 6) which is not compliant with NWB 2.5 and greater. The second dimension should have length <= 3 to represent at most x, y, z.\n",
      "  warnings.warn(\"SpatialSeries '%s' has data shape %s which is not compliant with NWB 2.5 and greater. \"\n",
      "/home/shijiegu/anaconda3/envs/spyglass/lib/python3.10/site-packages/pynwb/behavior.py:48: UserWarning: SpatialSeries 'series_10' has data shape (14355, 6) which is not compliant with NWB 2.5 and greater. The second dimension should have length <= 3 to represent at most x, y, z.\n",
      "  warnings.warn(\"SpatialSeries '%s' has data shape %s which is not compliant with NWB 2.5 and greater. \"\n",
      "/home/shijiegu/anaconda3/envs/spyglass/lib/python3.10/site-packages/pynwb/behavior.py:48: UserWarning: SpatialSeries 'series_2' has data shape (116537, 6) which is not compliant with NWB 2.5 and greater. The second dimension should have length <= 3 to represent at most x, y, z.\n",
      "  warnings.warn(\"SpatialSeries '%s' has data shape %s which is not compliant with NWB 2.5 and greater. \"\n",
      "/home/shijiegu/anaconda3/envs/spyglass/lib/python3.10/site-packages/pynwb/behavior.py:48: UserWarning: SpatialSeries 'series_3' has data shape (78494, 6) which is not compliant with NWB 2.5 and greater. The second dimension should have length <= 3 to represent at most x, y, z.\n",
      "  warnings.warn(\"SpatialSeries '%s' has data shape %s which is not compliant with NWB 2.5 and greater. \"\n",
      "/home/shijiegu/anaconda3/envs/spyglass/lib/python3.10/site-packages/pynwb/behavior.py:48: UserWarning: SpatialSeries 'series_4' has data shape (174480, 6) which is not compliant with NWB 2.5 and greater. The second dimension should have length <= 3 to represent at most x, y, z.\n",
      "  warnings.warn(\"SpatialSeries '%s' has data shape %s which is not compliant with NWB 2.5 and greater. \"\n",
      "/home/shijiegu/anaconda3/envs/spyglass/lib/python3.10/site-packages/pynwb/behavior.py:48: UserWarning: SpatialSeries 'series_5' has data shape (69806, 6) which is not compliant with NWB 2.5 and greater. The second dimension should have length <= 3 to represent at most x, y, z.\n",
      "  warnings.warn(\"SpatialSeries '%s' has data shape %s which is not compliant with NWB 2.5 and greater. \"\n",
      "/home/shijiegu/anaconda3/envs/spyglass/lib/python3.10/site-packages/pynwb/behavior.py:48: UserWarning: SpatialSeries 'series_6' has data shape (128385, 6) which is not compliant with NWB 2.5 and greater. The second dimension should have length <= 3 to represent at most x, y, z.\n",
      "  warnings.warn(\"SpatialSeries '%s' has data shape %s which is not compliant with NWB 2.5 and greater. \"\n",
      "/home/shijiegu/anaconda3/envs/spyglass/lib/python3.10/site-packages/pynwb/behavior.py:48: UserWarning: SpatialSeries 'series_7' has data shape (66099, 6) which is not compliant with NWB 2.5 and greater. The second dimension should have length <= 3 to represent at most x, y, z.\n",
      "  warnings.warn(\"SpatialSeries '%s' has data shape %s which is not compliant with NWB 2.5 and greater. \"\n",
      "/home/shijiegu/anaconda3/envs/spyglass/lib/python3.10/site-packages/pynwb/behavior.py:48: UserWarning: SpatialSeries 'series_8' has data shape (112403, 6) which is not compliant with NWB 2.5 and greater. The second dimension should have length <= 3 to represent at most x, y, z.\n",
      "  warnings.warn(\"SpatialSeries '%s' has data shape %s which is not compliant with NWB 2.5 and greater. \"\n",
      "/home/shijiegu/anaconda3/envs/spyglass/lib/python3.10/site-packages/pynwb/behavior.py:48: UserWarning: SpatialSeries 'series_9' has data shape (50881, 6) which is not compliant with NWB 2.5 and greater. The second dimension should have length <= 3 to represent at most x, y, z.\n",
      "  warnings.warn(\"SpatialSeries '%s' has data shape %s which is not compliant with NWB 2.5 and greater. \"\n",
      "[13:05:57][INFO] Spyglass: Writing new NWB file klein20231111_BEO4UTXOUJ.nwb\n",
      "14-Jun-25 13:05:57 Writing new NWB file klein20231111_BEO4UTXOUJ.nwb\n",
      "/home/shijiegu/anaconda3/envs/spyglass/lib/python3.10/site-packages/hdmf/build/objectmapper.py:687: MissingRequiredBuildWarning: NWBFile 'root' is missing required value for attribute 'source_script_file_name'.\n",
      "  warnings.warn(msg, MissingRequiredBuildWarning)\n",
      "/home/shijiegu/anaconda3/envs/spyglass/lib/python3.10/site-packages/hdmf/build/objectmapper.py:687: MissingRequiredBuildWarning: NWBFile 'root' is missing required value for attribute 'source_script_file_name'.\n",
      "  warnings.warn(msg, MissingRequiredBuildWarning)\n",
      "[2025-06-14 13:06:10,258][WARNING]: Skipped checksum for file with hash: bd705a83-163a-90fd-a560-9506ec1cd169, and path: /stelmo/nwb/analysis/klein20231111/klein20231111_BMV1GCI98W.nwb\n",
      "14-Jun-25 13:06:10 Skipped checksum for file with hash: bd705a83-163a-90fd-a560-9506ec1cd169, and path: /stelmo/nwb/analysis/klein20231111/klein20231111_BMV1GCI98W.nwb\n",
      "[2025-06-14 13:06:10,271][WARNING]: Skipped checksum for file with hash: bd705a83-163a-90fd-a560-9506ec1cd169, and path: /stelmo/nwb/analysis/klein20231111/klein20231111_BMV1GCI98W.nwb\n",
      "14-Jun-25 13:06:10 Skipped checksum for file with hash: bd705a83-163a-90fd-a560-9506ec1cd169, and path: /stelmo/nwb/analysis/klein20231111/klein20231111_BMV1GCI98W.nwb\n",
      "[2025-06-14 13:06:10,276][WARNING]: Skipped checksum for file with hash: bd705a83-163a-90fd-a560-9506ec1cd169, and path: /stelmo/nwb/analysis/klein20231111/klein20231111_BMV1GCI98W.nwb\n",
      "14-Jun-25 13:06:10 Skipped checksum for file with hash: bd705a83-163a-90fd-a560-9506ec1cd169, and path: /stelmo/nwb/analysis/klein20231111/klein20231111_BMV1GCI98W.nwb\n"
     ]
    },
    {
     "data": {
      "application/vnd.jupyter.widget-view+json": {
       "model_id": "89d6a88f3eb040b2b5a3afa08c7ad700",
       "version_major": 2,
       "version_minor": 0
      },
      "text/plain": [
       "extract waveforms shared_memory multi buffer:   0%|          | 0/1 [00:00<?, ?it/s]"
      ]
     },
     "metadata": {},
     "output_type": "display_data"
    },
    {
     "data": {
      "application/vnd.jupyter.widget-view+json": {
       "model_id": "0359121042124808aa6ea4a76dc0208b",
       "version_major": 2,
       "version_minor": 0
      },
      "text/plain": [
       "extract waveforms memmap multi buffer:   0%|          | 0/1 [00:00<?, ?it/s]"
      ]
     },
     "metadata": {},
     "output_type": "display_data"
    },
    {
     "name": "stderr",
     "output_type": "stream",
     "text": [
      "/home/shijiegu/anaconda3/envs/spyglass/lib/python3.10/site-packages/pynwb/behavior.py:48: UserWarning: SpatialSeries 'series_0' has data shape (44222, 6) which is not compliant with NWB 2.5 and greater. The second dimension should have length <= 3 to represent at most x, y, z.\n",
      "  warnings.warn(\"SpatialSeries '%s' has data shape %s which is not compliant with NWB 2.5 and greater. \"\n",
      "/home/shijiegu/anaconda3/envs/spyglass/lib/python3.10/site-packages/pynwb/behavior.py:48: UserWarning: SpatialSeries 'series_1' has data shape (75048, 6) which is not compliant with NWB 2.5 and greater. The second dimension should have length <= 3 to represent at most x, y, z.\n",
      "  warnings.warn(\"SpatialSeries '%s' has data shape %s which is not compliant with NWB 2.5 and greater. \"\n",
      "/home/shijiegu/anaconda3/envs/spyglass/lib/python3.10/site-packages/pynwb/behavior.py:48: UserWarning: SpatialSeries 'series_10' has data shape (14355, 6) which is not compliant with NWB 2.5 and greater. The second dimension should have length <= 3 to represent at most x, y, z.\n",
      "  warnings.warn(\"SpatialSeries '%s' has data shape %s which is not compliant with NWB 2.5 and greater. \"\n",
      "/home/shijiegu/anaconda3/envs/spyglass/lib/python3.10/site-packages/pynwb/behavior.py:48: UserWarning: SpatialSeries 'series_2' has data shape (116537, 6) which is not compliant with NWB 2.5 and greater. The second dimension should have length <= 3 to represent at most x, y, z.\n",
      "  warnings.warn(\"SpatialSeries '%s' has data shape %s which is not compliant with NWB 2.5 and greater. \"\n",
      "/home/shijiegu/anaconda3/envs/spyglass/lib/python3.10/site-packages/pynwb/behavior.py:48: UserWarning: SpatialSeries 'series_3' has data shape (78494, 6) which is not compliant with NWB 2.5 and greater. The second dimension should have length <= 3 to represent at most x, y, z.\n",
      "  warnings.warn(\"SpatialSeries '%s' has data shape %s which is not compliant with NWB 2.5 and greater. \"\n",
      "/home/shijiegu/anaconda3/envs/spyglass/lib/python3.10/site-packages/pynwb/behavior.py:48: UserWarning: SpatialSeries 'series_4' has data shape (174480, 6) which is not compliant with NWB 2.5 and greater. The second dimension should have length <= 3 to represent at most x, y, z.\n",
      "  warnings.warn(\"SpatialSeries '%s' has data shape %s which is not compliant with NWB 2.5 and greater. \"\n",
      "/home/shijiegu/anaconda3/envs/spyglass/lib/python3.10/site-packages/pynwb/behavior.py:48: UserWarning: SpatialSeries 'series_5' has data shape (69806, 6) which is not compliant with NWB 2.5 and greater. The second dimension should have length <= 3 to represent at most x, y, z.\n",
      "  warnings.warn(\"SpatialSeries '%s' has data shape %s which is not compliant with NWB 2.5 and greater. \"\n",
      "/home/shijiegu/anaconda3/envs/spyglass/lib/python3.10/site-packages/pynwb/behavior.py:48: UserWarning: SpatialSeries 'series_6' has data shape (128385, 6) which is not compliant with NWB 2.5 and greater. The second dimension should have length <= 3 to represent at most x, y, z.\n",
      "  warnings.warn(\"SpatialSeries '%s' has data shape %s which is not compliant with NWB 2.5 and greater. \"\n",
      "/home/shijiegu/anaconda3/envs/spyglass/lib/python3.10/site-packages/pynwb/behavior.py:48: UserWarning: SpatialSeries 'series_7' has data shape (66099, 6) which is not compliant with NWB 2.5 and greater. The second dimension should have length <= 3 to represent at most x, y, z.\n",
      "  warnings.warn(\"SpatialSeries '%s' has data shape %s which is not compliant with NWB 2.5 and greater. \"\n",
      "/home/shijiegu/anaconda3/envs/spyglass/lib/python3.10/site-packages/pynwb/behavior.py:48: UserWarning: SpatialSeries 'series_8' has data shape (112403, 6) which is not compliant with NWB 2.5 and greater. The second dimension should have length <= 3 to represent at most x, y, z.\n",
      "  warnings.warn(\"SpatialSeries '%s' has data shape %s which is not compliant with NWB 2.5 and greater. \"\n",
      "/home/shijiegu/anaconda3/envs/spyglass/lib/python3.10/site-packages/pynwb/behavior.py:48: UserWarning: SpatialSeries 'series_9' has data shape (50881, 6) which is not compliant with NWB 2.5 and greater. The second dimension should have length <= 3 to represent at most x, y, z.\n",
      "  warnings.warn(\"SpatialSeries '%s' has data shape %s which is not compliant with NWB 2.5 and greater. \"\n",
      "[13:06:59][INFO] Spyglass: Writing new NWB file klein20231111_HT0M0RGKAJ.nwb\n",
      "14-Jun-25 13:06:59 Writing new NWB file klein20231111_HT0M0RGKAJ.nwb\n",
      "/home/shijiegu/anaconda3/envs/spyglass/lib/python3.10/site-packages/hdmf/build/objectmapper.py:687: MissingRequiredBuildWarning: NWBFile 'root' is missing required value for attribute 'source_script_file_name'.\n",
      "  warnings.warn(msg, MissingRequiredBuildWarning)\n",
      "/home/shijiegu/anaconda3/envs/spyglass/lib/python3.10/site-packages/hdmf/build/objectmapper.py:687: MissingRequiredBuildWarning: NWBFile 'root' is missing required value for attribute 'source_script_file_name'.\n",
      "  warnings.warn(msg, MissingRequiredBuildWarning)\n",
      "[2025-06-14 13:07:14,283][WARNING]: Skipped checksum for file with hash: 02ad5bd6-952d-9c49-36c2-872b2354012f, and path: /stelmo/nwb/analysis/klein20231111/klein20231111_U9ZAMN5CDC.nwb\n",
      "14-Jun-25 13:07:14 Skipped checksum for file with hash: 02ad5bd6-952d-9c49-36c2-872b2354012f, and path: /stelmo/nwb/analysis/klein20231111/klein20231111_U9ZAMN5CDC.nwb\n",
      "[2025-06-14 13:07:14,297][WARNING]: Skipped checksum for file with hash: 02ad5bd6-952d-9c49-36c2-872b2354012f, and path: /stelmo/nwb/analysis/klein20231111/klein20231111_U9ZAMN5CDC.nwb\n",
      "14-Jun-25 13:07:14 Skipped checksum for file with hash: 02ad5bd6-952d-9c49-36c2-872b2354012f, and path: /stelmo/nwb/analysis/klein20231111/klein20231111_U9ZAMN5CDC.nwb\n",
      "[2025-06-14 13:07:14,303][WARNING]: Skipped checksum for file with hash: 02ad5bd6-952d-9c49-36c2-872b2354012f, and path: /stelmo/nwb/analysis/klein20231111/klein20231111_U9ZAMN5CDC.nwb\n",
      "14-Jun-25 13:07:14 Skipped checksum for file with hash: 02ad5bd6-952d-9c49-36c2-872b2354012f, and path: /stelmo/nwb/analysis/klein20231111/klein20231111_U9ZAMN5CDC.nwb\n"
     ]
    },
    {
     "data": {
      "application/vnd.jupyter.widget-view+json": {
       "model_id": "510d93254ab847999762efc7717849ac",
       "version_major": 2,
       "version_minor": 0
      },
      "text/plain": [
       "extract waveforms shared_memory multi buffer:   0%|          | 0/1 [00:00<?, ?it/s]"
      ]
     },
     "metadata": {},
     "output_type": "display_data"
    },
    {
     "data": {
      "application/vnd.jupyter.widget-view+json": {
       "model_id": "c23c2bf2213b4c848419e80eb2531477",
       "version_major": 2,
       "version_minor": 0
      },
      "text/plain": [
       "extract waveforms memmap multi buffer:   0%|          | 0/1 [00:00<?, ?it/s]"
      ]
     },
     "metadata": {},
     "output_type": "display_data"
    },
    {
     "name": "stderr",
     "output_type": "stream",
     "text": [
      "/home/shijiegu/anaconda3/envs/spyglass/lib/python3.10/site-packages/pynwb/behavior.py:48: UserWarning: SpatialSeries 'series_0' has data shape (44222, 6) which is not compliant with NWB 2.5 and greater. The second dimension should have length <= 3 to represent at most x, y, z.\n",
      "  warnings.warn(\"SpatialSeries '%s' has data shape %s which is not compliant with NWB 2.5 and greater. \"\n",
      "/home/shijiegu/anaconda3/envs/spyglass/lib/python3.10/site-packages/pynwb/behavior.py:48: UserWarning: SpatialSeries 'series_1' has data shape (75048, 6) which is not compliant with NWB 2.5 and greater. The second dimension should have length <= 3 to represent at most x, y, z.\n",
      "  warnings.warn(\"SpatialSeries '%s' has data shape %s which is not compliant with NWB 2.5 and greater. \"\n",
      "/home/shijiegu/anaconda3/envs/spyglass/lib/python3.10/site-packages/pynwb/behavior.py:48: UserWarning: SpatialSeries 'series_10' has data shape (14355, 6) which is not compliant with NWB 2.5 and greater. The second dimension should have length <= 3 to represent at most x, y, z.\n",
      "  warnings.warn(\"SpatialSeries '%s' has data shape %s which is not compliant with NWB 2.5 and greater. \"\n",
      "/home/shijiegu/anaconda3/envs/spyglass/lib/python3.10/site-packages/pynwb/behavior.py:48: UserWarning: SpatialSeries 'series_2' has data shape (116537, 6) which is not compliant with NWB 2.5 and greater. The second dimension should have length <= 3 to represent at most x, y, z.\n",
      "  warnings.warn(\"SpatialSeries '%s' has data shape %s which is not compliant with NWB 2.5 and greater. \"\n",
      "/home/shijiegu/anaconda3/envs/spyglass/lib/python3.10/site-packages/pynwb/behavior.py:48: UserWarning: SpatialSeries 'series_3' has data shape (78494, 6) which is not compliant with NWB 2.5 and greater. The second dimension should have length <= 3 to represent at most x, y, z.\n",
      "  warnings.warn(\"SpatialSeries '%s' has data shape %s which is not compliant with NWB 2.5 and greater. \"\n",
      "/home/shijiegu/anaconda3/envs/spyglass/lib/python3.10/site-packages/pynwb/behavior.py:48: UserWarning: SpatialSeries 'series_4' has data shape (174480, 6) which is not compliant with NWB 2.5 and greater. The second dimension should have length <= 3 to represent at most x, y, z.\n",
      "  warnings.warn(\"SpatialSeries '%s' has data shape %s which is not compliant with NWB 2.5 and greater. \"\n",
      "/home/shijiegu/anaconda3/envs/spyglass/lib/python3.10/site-packages/pynwb/behavior.py:48: UserWarning: SpatialSeries 'series_5' has data shape (69806, 6) which is not compliant with NWB 2.5 and greater. The second dimension should have length <= 3 to represent at most x, y, z.\n",
      "  warnings.warn(\"SpatialSeries '%s' has data shape %s which is not compliant with NWB 2.5 and greater. \"\n",
      "/home/shijiegu/anaconda3/envs/spyglass/lib/python3.10/site-packages/pynwb/behavior.py:48: UserWarning: SpatialSeries 'series_6' has data shape (128385, 6) which is not compliant with NWB 2.5 and greater. The second dimension should have length <= 3 to represent at most x, y, z.\n",
      "  warnings.warn(\"SpatialSeries '%s' has data shape %s which is not compliant with NWB 2.5 and greater. \"\n",
      "/home/shijiegu/anaconda3/envs/spyglass/lib/python3.10/site-packages/pynwb/behavior.py:48: UserWarning: SpatialSeries 'series_7' has data shape (66099, 6) which is not compliant with NWB 2.5 and greater. The second dimension should have length <= 3 to represent at most x, y, z.\n",
      "  warnings.warn(\"SpatialSeries '%s' has data shape %s which is not compliant with NWB 2.5 and greater. \"\n",
      "/home/shijiegu/anaconda3/envs/spyglass/lib/python3.10/site-packages/pynwb/behavior.py:48: UserWarning: SpatialSeries 'series_8' has data shape (112403, 6) which is not compliant with NWB 2.5 and greater. The second dimension should have length <= 3 to represent at most x, y, z.\n",
      "  warnings.warn(\"SpatialSeries '%s' has data shape %s which is not compliant with NWB 2.5 and greater. \"\n",
      "/home/shijiegu/anaconda3/envs/spyglass/lib/python3.10/site-packages/pynwb/behavior.py:48: UserWarning: SpatialSeries 'series_9' has data shape (50881, 6) which is not compliant with NWB 2.5 and greater. The second dimension should have length <= 3 to represent at most x, y, z.\n",
      "  warnings.warn(\"SpatialSeries '%s' has data shape %s which is not compliant with NWB 2.5 and greater. \"\n",
      "[13:08:03][INFO] Spyglass: Writing new NWB file klein20231111_KULTQ691TO.nwb\n",
      "14-Jun-25 13:08:03 Writing new NWB file klein20231111_KULTQ691TO.nwb\n",
      "/home/shijiegu/anaconda3/envs/spyglass/lib/python3.10/site-packages/hdmf/build/objectmapper.py:687: MissingRequiredBuildWarning: NWBFile 'root' is missing required value for attribute 'source_script_file_name'.\n",
      "  warnings.warn(msg, MissingRequiredBuildWarning)\n",
      "/home/shijiegu/anaconda3/envs/spyglass/lib/python3.10/site-packages/hdmf/build/objectmapper.py:687: MissingRequiredBuildWarning: NWBFile 'root' is missing required value for attribute 'source_script_file_name'.\n",
      "  warnings.warn(msg, MissingRequiredBuildWarning)\n",
      "[2025-06-14 13:08:19,146][WARNING]: Skipped checksum for file with hash: 81e46577-5ddd-b6fb-4b32-c9fbaa26b619, and path: /stelmo/nwb/analysis/klein20231111/klein20231111_C5S55ZA2UQ.nwb\n",
      "14-Jun-25 13:08:19 Skipped checksum for file with hash: 81e46577-5ddd-b6fb-4b32-c9fbaa26b619, and path: /stelmo/nwb/analysis/klein20231111/klein20231111_C5S55ZA2UQ.nwb\n",
      "[2025-06-14 13:08:19,158][WARNING]: Skipped checksum for file with hash: 81e46577-5ddd-b6fb-4b32-c9fbaa26b619, and path: /stelmo/nwb/analysis/klein20231111/klein20231111_C5S55ZA2UQ.nwb\n",
      "14-Jun-25 13:08:19 Skipped checksum for file with hash: 81e46577-5ddd-b6fb-4b32-c9fbaa26b619, and path: /stelmo/nwb/analysis/klein20231111/klein20231111_C5S55ZA2UQ.nwb\n",
      "[2025-06-14 13:08:19,163][WARNING]: Skipped checksum for file with hash: 81e46577-5ddd-b6fb-4b32-c9fbaa26b619, and path: /stelmo/nwb/analysis/klein20231111/klein20231111_C5S55ZA2UQ.nwb\n",
      "14-Jun-25 13:08:19 Skipped checksum for file with hash: 81e46577-5ddd-b6fb-4b32-c9fbaa26b619, and path: /stelmo/nwb/analysis/klein20231111/klein20231111_C5S55ZA2UQ.nwb\n"
     ]
    },
    {
     "data": {
      "application/vnd.jupyter.widget-view+json": {
       "model_id": "59deb68d79d04384bea3a2c37e155a03",
       "version_major": 2,
       "version_minor": 0
      },
      "text/plain": [
       "extract waveforms shared_memory multi buffer:   0%|          | 0/1 [00:00<?, ?it/s]"
      ]
     },
     "metadata": {},
     "output_type": "display_data"
    },
    {
     "data": {
      "application/vnd.jupyter.widget-view+json": {
       "model_id": "f6f772196f41495fb0416225258971f3",
       "version_major": 2,
       "version_minor": 0
      },
      "text/plain": [
       "extract waveforms memmap multi buffer:   0%|          | 0/1 [00:00<?, ?it/s]"
      ]
     },
     "metadata": {},
     "output_type": "display_data"
    },
    {
     "name": "stderr",
     "output_type": "stream",
     "text": [
      "/home/shijiegu/anaconda3/envs/spyglass/lib/python3.10/site-packages/pynwb/behavior.py:48: UserWarning: SpatialSeries 'series_0' has data shape (44222, 6) which is not compliant with NWB 2.5 and greater. The second dimension should have length <= 3 to represent at most x, y, z.\n",
      "  warnings.warn(\"SpatialSeries '%s' has data shape %s which is not compliant with NWB 2.5 and greater. \"\n",
      "/home/shijiegu/anaconda3/envs/spyglass/lib/python3.10/site-packages/pynwb/behavior.py:48: UserWarning: SpatialSeries 'series_1' has data shape (75048, 6) which is not compliant with NWB 2.5 and greater. The second dimension should have length <= 3 to represent at most x, y, z.\n",
      "  warnings.warn(\"SpatialSeries '%s' has data shape %s which is not compliant with NWB 2.5 and greater. \"\n",
      "/home/shijiegu/anaconda3/envs/spyglass/lib/python3.10/site-packages/pynwb/behavior.py:48: UserWarning: SpatialSeries 'series_10' has data shape (14355, 6) which is not compliant with NWB 2.5 and greater. The second dimension should have length <= 3 to represent at most x, y, z.\n",
      "  warnings.warn(\"SpatialSeries '%s' has data shape %s which is not compliant with NWB 2.5 and greater. \"\n",
      "/home/shijiegu/anaconda3/envs/spyglass/lib/python3.10/site-packages/pynwb/behavior.py:48: UserWarning: SpatialSeries 'series_2' has data shape (116537, 6) which is not compliant with NWB 2.5 and greater. The second dimension should have length <= 3 to represent at most x, y, z.\n",
      "  warnings.warn(\"SpatialSeries '%s' has data shape %s which is not compliant with NWB 2.5 and greater. \"\n",
      "/home/shijiegu/anaconda3/envs/spyglass/lib/python3.10/site-packages/pynwb/behavior.py:48: UserWarning: SpatialSeries 'series_3' has data shape (78494, 6) which is not compliant with NWB 2.5 and greater. The second dimension should have length <= 3 to represent at most x, y, z.\n",
      "  warnings.warn(\"SpatialSeries '%s' has data shape %s which is not compliant with NWB 2.5 and greater. \"\n",
      "/home/shijiegu/anaconda3/envs/spyglass/lib/python3.10/site-packages/pynwb/behavior.py:48: UserWarning: SpatialSeries 'series_4' has data shape (174480, 6) which is not compliant with NWB 2.5 and greater. The second dimension should have length <= 3 to represent at most x, y, z.\n",
      "  warnings.warn(\"SpatialSeries '%s' has data shape %s which is not compliant with NWB 2.5 and greater. \"\n",
      "/home/shijiegu/anaconda3/envs/spyglass/lib/python3.10/site-packages/pynwb/behavior.py:48: UserWarning: SpatialSeries 'series_5' has data shape (69806, 6) which is not compliant with NWB 2.5 and greater. The second dimension should have length <= 3 to represent at most x, y, z.\n",
      "  warnings.warn(\"SpatialSeries '%s' has data shape %s which is not compliant with NWB 2.5 and greater. \"\n",
      "/home/shijiegu/anaconda3/envs/spyglass/lib/python3.10/site-packages/pynwb/behavior.py:48: UserWarning: SpatialSeries 'series_6' has data shape (128385, 6) which is not compliant with NWB 2.5 and greater. The second dimension should have length <= 3 to represent at most x, y, z.\n",
      "  warnings.warn(\"SpatialSeries '%s' has data shape %s which is not compliant with NWB 2.5 and greater. \"\n",
      "/home/shijiegu/anaconda3/envs/spyglass/lib/python3.10/site-packages/pynwb/behavior.py:48: UserWarning: SpatialSeries 'series_7' has data shape (66099, 6) which is not compliant with NWB 2.5 and greater. The second dimension should have length <= 3 to represent at most x, y, z.\n",
      "  warnings.warn(\"SpatialSeries '%s' has data shape %s which is not compliant with NWB 2.5 and greater. \"\n",
      "/home/shijiegu/anaconda3/envs/spyglass/lib/python3.10/site-packages/pynwb/behavior.py:48: UserWarning: SpatialSeries 'series_8' has data shape (112403, 6) which is not compliant with NWB 2.5 and greater. The second dimension should have length <= 3 to represent at most x, y, z.\n",
      "  warnings.warn(\"SpatialSeries '%s' has data shape %s which is not compliant with NWB 2.5 and greater. \"\n",
      "/home/shijiegu/anaconda3/envs/spyglass/lib/python3.10/site-packages/pynwb/behavior.py:48: UserWarning: SpatialSeries 'series_9' has data shape (50881, 6) which is not compliant with NWB 2.5 and greater. The second dimension should have length <= 3 to represent at most x, y, z.\n",
      "  warnings.warn(\"SpatialSeries '%s' has data shape %s which is not compliant with NWB 2.5 and greater. \"\n",
      "[13:09:11][INFO] Spyglass: Writing new NWB file klein20231111_U7056ZUBM1.nwb\n",
      "14-Jun-25 13:09:11 Writing new NWB file klein20231111_U7056ZUBM1.nwb\n",
      "/home/shijiegu/anaconda3/envs/spyglass/lib/python3.10/site-packages/hdmf/build/objectmapper.py:687: MissingRequiredBuildWarning: NWBFile 'root' is missing required value for attribute 'source_script_file_name'.\n",
      "  warnings.warn(msg, MissingRequiredBuildWarning)\n",
      "/home/shijiegu/anaconda3/envs/spyglass/lib/python3.10/site-packages/hdmf/build/objectmapper.py:687: MissingRequiredBuildWarning: NWBFile 'root' is missing required value for attribute 'source_script_file_name'.\n",
      "  warnings.warn(msg, MissingRequiredBuildWarning)\n",
      "[2025-06-14 13:09:23,060][WARNING]: Skipped checksum for file with hash: b6004358-922a-de04-8034-7a642e2b6332, and path: /stelmo/nwb/analysis/klein20231111/klein20231111_B3JGAED7S0.nwb\n",
      "14-Jun-25 13:09:23 Skipped checksum for file with hash: b6004358-922a-de04-8034-7a642e2b6332, and path: /stelmo/nwb/analysis/klein20231111/klein20231111_B3JGAED7S0.nwb\n",
      "[2025-06-14 13:09:23,070][WARNING]: Skipped checksum for file with hash: b6004358-922a-de04-8034-7a642e2b6332, and path: /stelmo/nwb/analysis/klein20231111/klein20231111_B3JGAED7S0.nwb\n",
      "14-Jun-25 13:09:23 Skipped checksum for file with hash: b6004358-922a-de04-8034-7a642e2b6332, and path: /stelmo/nwb/analysis/klein20231111/klein20231111_B3JGAED7S0.nwb\n",
      "[2025-06-14 13:09:23,074][WARNING]: Skipped checksum for file with hash: b6004358-922a-de04-8034-7a642e2b6332, and path: /stelmo/nwb/analysis/klein20231111/klein20231111_B3JGAED7S0.nwb\n",
      "14-Jun-25 13:09:23 Skipped checksum for file with hash: b6004358-922a-de04-8034-7a642e2b6332, and path: /stelmo/nwb/analysis/klein20231111/klein20231111_B3JGAED7S0.nwb\n"
     ]
    },
    {
     "data": {
      "application/vnd.jupyter.widget-view+json": {
       "model_id": "c6af86fc2fea43988382b48e63a2721a",
       "version_major": 2,
       "version_minor": 0
      },
      "text/plain": [
       "extract waveforms shared_memory multi buffer:   0%|          | 0/1 [00:00<?, ?it/s]"
      ]
     },
     "metadata": {},
     "output_type": "display_data"
    },
    {
     "data": {
      "application/vnd.jupyter.widget-view+json": {
       "model_id": "204ecf0c8c144b4a852d99375e7139e0",
       "version_major": 2,
       "version_minor": 0
      },
      "text/plain": [
       "extract waveforms memmap multi buffer:   0%|          | 0/1 [00:00<?, ?it/s]"
      ]
     },
     "metadata": {},
     "output_type": "display_data"
    },
    {
     "name": "stderr",
     "output_type": "stream",
     "text": [
      "/home/shijiegu/anaconda3/envs/spyglass/lib/python3.10/site-packages/pynwb/behavior.py:48: UserWarning: SpatialSeries 'series_0' has data shape (44222, 6) which is not compliant with NWB 2.5 and greater. The second dimension should have length <= 3 to represent at most x, y, z.\n",
      "  warnings.warn(\"SpatialSeries '%s' has data shape %s which is not compliant with NWB 2.5 and greater. \"\n",
      "/home/shijiegu/anaconda3/envs/spyglass/lib/python3.10/site-packages/pynwb/behavior.py:48: UserWarning: SpatialSeries 'series_1' has data shape (75048, 6) which is not compliant with NWB 2.5 and greater. The second dimension should have length <= 3 to represent at most x, y, z.\n",
      "  warnings.warn(\"SpatialSeries '%s' has data shape %s which is not compliant with NWB 2.5 and greater. \"\n",
      "/home/shijiegu/anaconda3/envs/spyglass/lib/python3.10/site-packages/pynwb/behavior.py:48: UserWarning: SpatialSeries 'series_10' has data shape (14355, 6) which is not compliant with NWB 2.5 and greater. The second dimension should have length <= 3 to represent at most x, y, z.\n",
      "  warnings.warn(\"SpatialSeries '%s' has data shape %s which is not compliant with NWB 2.5 and greater. \"\n",
      "/home/shijiegu/anaconda3/envs/spyglass/lib/python3.10/site-packages/pynwb/behavior.py:48: UserWarning: SpatialSeries 'series_2' has data shape (116537, 6) which is not compliant with NWB 2.5 and greater. The second dimension should have length <= 3 to represent at most x, y, z.\n",
      "  warnings.warn(\"SpatialSeries '%s' has data shape %s which is not compliant with NWB 2.5 and greater. \"\n",
      "/home/shijiegu/anaconda3/envs/spyglass/lib/python3.10/site-packages/pynwb/behavior.py:48: UserWarning: SpatialSeries 'series_3' has data shape (78494, 6) which is not compliant with NWB 2.5 and greater. The second dimension should have length <= 3 to represent at most x, y, z.\n",
      "  warnings.warn(\"SpatialSeries '%s' has data shape %s which is not compliant with NWB 2.5 and greater. \"\n",
      "/home/shijiegu/anaconda3/envs/spyglass/lib/python3.10/site-packages/pynwb/behavior.py:48: UserWarning: SpatialSeries 'series_4' has data shape (174480, 6) which is not compliant with NWB 2.5 and greater. The second dimension should have length <= 3 to represent at most x, y, z.\n",
      "  warnings.warn(\"SpatialSeries '%s' has data shape %s which is not compliant with NWB 2.5 and greater. \"\n",
      "/home/shijiegu/anaconda3/envs/spyglass/lib/python3.10/site-packages/pynwb/behavior.py:48: UserWarning: SpatialSeries 'series_5' has data shape (69806, 6) which is not compliant with NWB 2.5 and greater. The second dimension should have length <= 3 to represent at most x, y, z.\n",
      "  warnings.warn(\"SpatialSeries '%s' has data shape %s which is not compliant with NWB 2.5 and greater. \"\n",
      "/home/shijiegu/anaconda3/envs/spyglass/lib/python3.10/site-packages/pynwb/behavior.py:48: UserWarning: SpatialSeries 'series_6' has data shape (128385, 6) which is not compliant with NWB 2.5 and greater. The second dimension should have length <= 3 to represent at most x, y, z.\n",
      "  warnings.warn(\"SpatialSeries '%s' has data shape %s which is not compliant with NWB 2.5 and greater. \"\n",
      "/home/shijiegu/anaconda3/envs/spyglass/lib/python3.10/site-packages/pynwb/behavior.py:48: UserWarning: SpatialSeries 'series_7' has data shape (66099, 6) which is not compliant with NWB 2.5 and greater. The second dimension should have length <= 3 to represent at most x, y, z.\n",
      "  warnings.warn(\"SpatialSeries '%s' has data shape %s which is not compliant with NWB 2.5 and greater. \"\n",
      "/home/shijiegu/anaconda3/envs/spyglass/lib/python3.10/site-packages/pynwb/behavior.py:48: UserWarning: SpatialSeries 'series_8' has data shape (112403, 6) which is not compliant with NWB 2.5 and greater. The second dimension should have length <= 3 to represent at most x, y, z.\n",
      "  warnings.warn(\"SpatialSeries '%s' has data shape %s which is not compliant with NWB 2.5 and greater. \"\n",
      "/home/shijiegu/anaconda3/envs/spyglass/lib/python3.10/site-packages/pynwb/behavior.py:48: UserWarning: SpatialSeries 'series_9' has data shape (50881, 6) which is not compliant with NWB 2.5 and greater. The second dimension should have length <= 3 to represent at most x, y, z.\n",
      "  warnings.warn(\"SpatialSeries '%s' has data shape %s which is not compliant with NWB 2.5 and greater. \"\n",
      "[13:10:09][INFO] Spyglass: Writing new NWB file klein20231111_8HGA5Y0RGF.nwb\n",
      "14-Jun-25 13:10:09 Writing new NWB file klein20231111_8HGA5Y0RGF.nwb\n",
      "/home/shijiegu/anaconda3/envs/spyglass/lib/python3.10/site-packages/hdmf/build/objectmapper.py:687: MissingRequiredBuildWarning: NWBFile 'root' is missing required value for attribute 'source_script_file_name'.\n",
      "  warnings.warn(msg, MissingRequiredBuildWarning)\n",
      "/home/shijiegu/anaconda3/envs/spyglass/lib/python3.10/site-packages/hdmf/build/objectmapper.py:687: MissingRequiredBuildWarning: NWBFile 'root' is missing required value for attribute 'source_script_file_name'.\n",
      "  warnings.warn(msg, MissingRequiredBuildWarning)\n",
      "[2025-06-14 13:10:23,033][WARNING]: Skipped checksum for file with hash: 4462abe0-6a60-e360-7d5f-763329ef7f6c, and path: /stelmo/nwb/analysis/klein20231111/klein20231111_0O5EG8US3F.nwb\n",
      "14-Jun-25 13:10:23 Skipped checksum for file with hash: 4462abe0-6a60-e360-7d5f-763329ef7f6c, and path: /stelmo/nwb/analysis/klein20231111/klein20231111_0O5EG8US3F.nwb\n",
      "[2025-06-14 13:10:23,047][WARNING]: Skipped checksum for file with hash: 4462abe0-6a60-e360-7d5f-763329ef7f6c, and path: /stelmo/nwb/analysis/klein20231111/klein20231111_0O5EG8US3F.nwb\n",
      "14-Jun-25 13:10:23 Skipped checksum for file with hash: 4462abe0-6a60-e360-7d5f-763329ef7f6c, and path: /stelmo/nwb/analysis/klein20231111/klein20231111_0O5EG8US3F.nwb\n",
      "[2025-06-14 13:10:23,054][WARNING]: Skipped checksum for file with hash: 4462abe0-6a60-e360-7d5f-763329ef7f6c, and path: /stelmo/nwb/analysis/klein20231111/klein20231111_0O5EG8US3F.nwb\n",
      "14-Jun-25 13:10:23 Skipped checksum for file with hash: 4462abe0-6a60-e360-7d5f-763329ef7f6c, and path: /stelmo/nwb/analysis/klein20231111/klein20231111_0O5EG8US3F.nwb\n"
     ]
    },
    {
     "data": {
      "application/vnd.jupyter.widget-view+json": {
       "model_id": "1fbc81d3d4ed43f2a049b17eaa36b8a2",
       "version_major": 2,
       "version_minor": 0
      },
      "text/plain": [
       "extract waveforms shared_memory multi buffer:   0%|          | 0/1 [00:00<?, ?it/s]"
      ]
     },
     "metadata": {},
     "output_type": "display_data"
    },
    {
     "data": {
      "application/vnd.jupyter.widget-view+json": {
       "model_id": "337c78c3c67e4eab8555e7a83299b9b4",
       "version_major": 2,
       "version_minor": 0
      },
      "text/plain": [
       "extract waveforms memmap multi buffer:   0%|          | 0/1 [00:00<?, ?it/s]"
      ]
     },
     "metadata": {},
     "output_type": "display_data"
    },
    {
     "name": "stderr",
     "output_type": "stream",
     "text": [
      "/home/shijiegu/anaconda3/envs/spyglass/lib/python3.10/site-packages/pynwb/behavior.py:48: UserWarning: SpatialSeries 'series_0' has data shape (44222, 6) which is not compliant with NWB 2.5 and greater. The second dimension should have length <= 3 to represent at most x, y, z.\n",
      "  warnings.warn(\"SpatialSeries '%s' has data shape %s which is not compliant with NWB 2.5 and greater. \"\n",
      "/home/shijiegu/anaconda3/envs/spyglass/lib/python3.10/site-packages/pynwb/behavior.py:48: UserWarning: SpatialSeries 'series_1' has data shape (75048, 6) which is not compliant with NWB 2.5 and greater. The second dimension should have length <= 3 to represent at most x, y, z.\n",
      "  warnings.warn(\"SpatialSeries '%s' has data shape %s which is not compliant with NWB 2.5 and greater. \"\n",
      "/home/shijiegu/anaconda3/envs/spyglass/lib/python3.10/site-packages/pynwb/behavior.py:48: UserWarning: SpatialSeries 'series_10' has data shape (14355, 6) which is not compliant with NWB 2.5 and greater. The second dimension should have length <= 3 to represent at most x, y, z.\n",
      "  warnings.warn(\"SpatialSeries '%s' has data shape %s which is not compliant with NWB 2.5 and greater. \"\n",
      "/home/shijiegu/anaconda3/envs/spyglass/lib/python3.10/site-packages/pynwb/behavior.py:48: UserWarning: SpatialSeries 'series_2' has data shape (116537, 6) which is not compliant with NWB 2.5 and greater. The second dimension should have length <= 3 to represent at most x, y, z.\n",
      "  warnings.warn(\"SpatialSeries '%s' has data shape %s which is not compliant with NWB 2.5 and greater. \"\n",
      "/home/shijiegu/anaconda3/envs/spyglass/lib/python3.10/site-packages/pynwb/behavior.py:48: UserWarning: SpatialSeries 'series_3' has data shape (78494, 6) which is not compliant with NWB 2.5 and greater. The second dimension should have length <= 3 to represent at most x, y, z.\n",
      "  warnings.warn(\"SpatialSeries '%s' has data shape %s which is not compliant with NWB 2.5 and greater. \"\n",
      "/home/shijiegu/anaconda3/envs/spyglass/lib/python3.10/site-packages/pynwb/behavior.py:48: UserWarning: SpatialSeries 'series_4' has data shape (174480, 6) which is not compliant with NWB 2.5 and greater. The second dimension should have length <= 3 to represent at most x, y, z.\n",
      "  warnings.warn(\"SpatialSeries '%s' has data shape %s which is not compliant with NWB 2.5 and greater. \"\n",
      "/home/shijiegu/anaconda3/envs/spyglass/lib/python3.10/site-packages/pynwb/behavior.py:48: UserWarning: SpatialSeries 'series_5' has data shape (69806, 6) which is not compliant with NWB 2.5 and greater. The second dimension should have length <= 3 to represent at most x, y, z.\n",
      "  warnings.warn(\"SpatialSeries '%s' has data shape %s which is not compliant with NWB 2.5 and greater. \"\n",
      "/home/shijiegu/anaconda3/envs/spyglass/lib/python3.10/site-packages/pynwb/behavior.py:48: UserWarning: SpatialSeries 'series_6' has data shape (128385, 6) which is not compliant with NWB 2.5 and greater. The second dimension should have length <= 3 to represent at most x, y, z.\n",
      "  warnings.warn(\"SpatialSeries '%s' has data shape %s which is not compliant with NWB 2.5 and greater. \"\n",
      "/home/shijiegu/anaconda3/envs/spyglass/lib/python3.10/site-packages/pynwb/behavior.py:48: UserWarning: SpatialSeries 'series_7' has data shape (66099, 6) which is not compliant with NWB 2.5 and greater. The second dimension should have length <= 3 to represent at most x, y, z.\n",
      "  warnings.warn(\"SpatialSeries '%s' has data shape %s which is not compliant with NWB 2.5 and greater. \"\n",
      "/home/shijiegu/anaconda3/envs/spyglass/lib/python3.10/site-packages/pynwb/behavior.py:48: UserWarning: SpatialSeries 'series_8' has data shape (112403, 6) which is not compliant with NWB 2.5 and greater. The second dimension should have length <= 3 to represent at most x, y, z.\n",
      "  warnings.warn(\"SpatialSeries '%s' has data shape %s which is not compliant with NWB 2.5 and greater. \"\n",
      "/home/shijiegu/anaconda3/envs/spyglass/lib/python3.10/site-packages/pynwb/behavior.py:48: UserWarning: SpatialSeries 'series_9' has data shape (50881, 6) which is not compliant with NWB 2.5 and greater. The second dimension should have length <= 3 to represent at most x, y, z.\n",
      "  warnings.warn(\"SpatialSeries '%s' has data shape %s which is not compliant with NWB 2.5 and greater. \"\n",
      "[13:11:03][INFO] Spyglass: Writing new NWB file klein20231111_J1JS5ZTNMQ.nwb\n",
      "14-Jun-25 13:11:03 Writing new NWB file klein20231111_J1JS5ZTNMQ.nwb\n",
      "/home/shijiegu/anaconda3/envs/spyglass/lib/python3.10/site-packages/hdmf/build/objectmapper.py:687: MissingRequiredBuildWarning: NWBFile 'root' is missing required value for attribute 'source_script_file_name'.\n",
      "  warnings.warn(msg, MissingRequiredBuildWarning)\n",
      "/home/shijiegu/anaconda3/envs/spyglass/lib/python3.10/site-packages/hdmf/build/objectmapper.py:687: MissingRequiredBuildWarning: NWBFile 'root' is missing required value for attribute 'source_script_file_name'.\n",
      "  warnings.warn(msg, MissingRequiredBuildWarning)\n",
      "[2025-06-14 13:11:17,712][WARNING]: Skipped checksum for file with hash: e32a16eb-7f92-1971-4b6e-066cdb3bbfd3, and path: /stelmo/nwb/analysis/klein20231111/klein20231111_2ILA3WMKA6.nwb\n",
      "14-Jun-25 13:11:17 Skipped checksum for file with hash: e32a16eb-7f92-1971-4b6e-066cdb3bbfd3, and path: /stelmo/nwb/analysis/klein20231111/klein20231111_2ILA3WMKA6.nwb\n",
      "[2025-06-14 13:11:17,723][WARNING]: Skipped checksum for file with hash: e32a16eb-7f92-1971-4b6e-066cdb3bbfd3, and path: /stelmo/nwb/analysis/klein20231111/klein20231111_2ILA3WMKA6.nwb\n",
      "14-Jun-25 13:11:17 Skipped checksum for file with hash: e32a16eb-7f92-1971-4b6e-066cdb3bbfd3, and path: /stelmo/nwb/analysis/klein20231111/klein20231111_2ILA3WMKA6.nwb\n",
      "[2025-06-14 13:11:17,728][WARNING]: Skipped checksum for file with hash: e32a16eb-7f92-1971-4b6e-066cdb3bbfd3, and path: /stelmo/nwb/analysis/klein20231111/klein20231111_2ILA3WMKA6.nwb\n",
      "14-Jun-25 13:11:17 Skipped checksum for file with hash: e32a16eb-7f92-1971-4b6e-066cdb3bbfd3, and path: /stelmo/nwb/analysis/klein20231111/klein20231111_2ILA3WMKA6.nwb\n"
     ]
    },
    {
     "data": {
      "application/vnd.jupyter.widget-view+json": {
       "model_id": "c055d23556254f1084256b1185d00293",
       "version_major": 2,
       "version_minor": 0
      },
      "text/plain": [
       "extract waveforms shared_memory multi buffer:   0%|          | 0/1 [00:00<?, ?it/s]"
      ]
     },
     "metadata": {},
     "output_type": "display_data"
    },
    {
     "data": {
      "application/vnd.jupyter.widget-view+json": {
       "model_id": "68724c6f69e74b89b2ec78457cbad0a5",
       "version_major": 2,
       "version_minor": 0
      },
      "text/plain": [
       "extract waveforms memmap multi buffer:   0%|          | 0/1 [00:00<?, ?it/s]"
      ]
     },
     "metadata": {},
     "output_type": "display_data"
    },
    {
     "name": "stderr",
     "output_type": "stream",
     "text": [
      "/home/shijiegu/anaconda3/envs/spyglass/lib/python3.10/site-packages/pynwb/behavior.py:48: UserWarning: SpatialSeries 'series_0' has data shape (44222, 6) which is not compliant with NWB 2.5 and greater. The second dimension should have length <= 3 to represent at most x, y, z.\n",
      "  warnings.warn(\"SpatialSeries '%s' has data shape %s which is not compliant with NWB 2.5 and greater. \"\n",
      "/home/shijiegu/anaconda3/envs/spyglass/lib/python3.10/site-packages/pynwb/behavior.py:48: UserWarning: SpatialSeries 'series_1' has data shape (75048, 6) which is not compliant with NWB 2.5 and greater. The second dimension should have length <= 3 to represent at most x, y, z.\n",
      "  warnings.warn(\"SpatialSeries '%s' has data shape %s which is not compliant with NWB 2.5 and greater. \"\n",
      "/home/shijiegu/anaconda3/envs/spyglass/lib/python3.10/site-packages/pynwb/behavior.py:48: UserWarning: SpatialSeries 'series_10' has data shape (14355, 6) which is not compliant with NWB 2.5 and greater. The second dimension should have length <= 3 to represent at most x, y, z.\n",
      "  warnings.warn(\"SpatialSeries '%s' has data shape %s which is not compliant with NWB 2.5 and greater. \"\n",
      "/home/shijiegu/anaconda3/envs/spyglass/lib/python3.10/site-packages/pynwb/behavior.py:48: UserWarning: SpatialSeries 'series_2' has data shape (116537, 6) which is not compliant with NWB 2.5 and greater. The second dimension should have length <= 3 to represent at most x, y, z.\n",
      "  warnings.warn(\"SpatialSeries '%s' has data shape %s which is not compliant with NWB 2.5 and greater. \"\n",
      "/home/shijiegu/anaconda3/envs/spyglass/lib/python3.10/site-packages/pynwb/behavior.py:48: UserWarning: SpatialSeries 'series_3' has data shape (78494, 6) which is not compliant with NWB 2.5 and greater. The second dimension should have length <= 3 to represent at most x, y, z.\n",
      "  warnings.warn(\"SpatialSeries '%s' has data shape %s which is not compliant with NWB 2.5 and greater. \"\n",
      "/home/shijiegu/anaconda3/envs/spyglass/lib/python3.10/site-packages/pynwb/behavior.py:48: UserWarning: SpatialSeries 'series_4' has data shape (174480, 6) which is not compliant with NWB 2.5 and greater. The second dimension should have length <= 3 to represent at most x, y, z.\n",
      "  warnings.warn(\"SpatialSeries '%s' has data shape %s which is not compliant with NWB 2.5 and greater. \"\n",
      "/home/shijiegu/anaconda3/envs/spyglass/lib/python3.10/site-packages/pynwb/behavior.py:48: UserWarning: SpatialSeries 'series_5' has data shape (69806, 6) which is not compliant with NWB 2.5 and greater. The second dimension should have length <= 3 to represent at most x, y, z.\n",
      "  warnings.warn(\"SpatialSeries '%s' has data shape %s which is not compliant with NWB 2.5 and greater. \"\n",
      "/home/shijiegu/anaconda3/envs/spyglass/lib/python3.10/site-packages/pynwb/behavior.py:48: UserWarning: SpatialSeries 'series_6' has data shape (128385, 6) which is not compliant with NWB 2.5 and greater. The second dimension should have length <= 3 to represent at most x, y, z.\n",
      "  warnings.warn(\"SpatialSeries '%s' has data shape %s which is not compliant with NWB 2.5 and greater. \"\n",
      "/home/shijiegu/anaconda3/envs/spyglass/lib/python3.10/site-packages/pynwb/behavior.py:48: UserWarning: SpatialSeries 'series_7' has data shape (66099, 6) which is not compliant with NWB 2.5 and greater. The second dimension should have length <= 3 to represent at most x, y, z.\n",
      "  warnings.warn(\"SpatialSeries '%s' has data shape %s which is not compliant with NWB 2.5 and greater. \"\n",
      "/home/shijiegu/anaconda3/envs/spyglass/lib/python3.10/site-packages/pynwb/behavior.py:48: UserWarning: SpatialSeries 'series_8' has data shape (112403, 6) which is not compliant with NWB 2.5 and greater. The second dimension should have length <= 3 to represent at most x, y, z.\n",
      "  warnings.warn(\"SpatialSeries '%s' has data shape %s which is not compliant with NWB 2.5 and greater. \"\n",
      "/home/shijiegu/anaconda3/envs/spyglass/lib/python3.10/site-packages/pynwb/behavior.py:48: UserWarning: SpatialSeries 'series_9' has data shape (50881, 6) which is not compliant with NWB 2.5 and greater. The second dimension should have length <= 3 to represent at most x, y, z.\n",
      "  warnings.warn(\"SpatialSeries '%s' has data shape %s which is not compliant with NWB 2.5 and greater. \"\n",
      "[13:12:02][INFO] Spyglass: Writing new NWB file klein20231111_7MCUWTCUEI.nwb\n",
      "14-Jun-25 13:12:02 Writing new NWB file klein20231111_7MCUWTCUEI.nwb\n",
      "/home/shijiegu/anaconda3/envs/spyglass/lib/python3.10/site-packages/hdmf/build/objectmapper.py:687: MissingRequiredBuildWarning: NWBFile 'root' is missing required value for attribute 'source_script_file_name'.\n",
      "  warnings.warn(msg, MissingRequiredBuildWarning)\n",
      "/home/shijiegu/anaconda3/envs/spyglass/lib/python3.10/site-packages/hdmf/build/objectmapper.py:687: MissingRequiredBuildWarning: NWBFile 'root' is missing required value for attribute 'source_script_file_name'.\n",
      "  warnings.warn(msg, MissingRequiredBuildWarning)\n",
      "[2025-06-14 13:12:17,101][WARNING]: Skipped checksum for file with hash: 58f8226c-7268-3df1-0518-01d41f714a41, and path: /stelmo/nwb/analysis/klein20231111/klein20231111_J8KZQDRMBD.nwb\n",
      "14-Jun-25 13:12:17 Skipped checksum for file with hash: 58f8226c-7268-3df1-0518-01d41f714a41, and path: /stelmo/nwb/analysis/klein20231111/klein20231111_J8KZQDRMBD.nwb\n",
      "[2025-06-14 13:12:17,113][WARNING]: Skipped checksum for file with hash: 58f8226c-7268-3df1-0518-01d41f714a41, and path: /stelmo/nwb/analysis/klein20231111/klein20231111_J8KZQDRMBD.nwb\n",
      "14-Jun-25 13:12:17 Skipped checksum for file with hash: 58f8226c-7268-3df1-0518-01d41f714a41, and path: /stelmo/nwb/analysis/klein20231111/klein20231111_J8KZQDRMBD.nwb\n",
      "[2025-06-14 13:12:17,119][WARNING]: Skipped checksum for file with hash: 58f8226c-7268-3df1-0518-01d41f714a41, and path: /stelmo/nwb/analysis/klein20231111/klein20231111_J8KZQDRMBD.nwb\n",
      "14-Jun-25 13:12:17 Skipped checksum for file with hash: 58f8226c-7268-3df1-0518-01d41f714a41, and path: /stelmo/nwb/analysis/klein20231111/klein20231111_J8KZQDRMBD.nwb\n"
     ]
    },
    {
     "data": {
      "application/vnd.jupyter.widget-view+json": {
       "model_id": "e0a6edd6bee9434faf8e4520bc34fac3",
       "version_major": 2,
       "version_minor": 0
      },
      "text/plain": [
       "extract waveforms shared_memory multi buffer:   0%|          | 0/1 [00:00<?, ?it/s]"
      ]
     },
     "metadata": {},
     "output_type": "display_data"
    },
    {
     "data": {
      "application/vnd.jupyter.widget-view+json": {
       "model_id": "b358cd40575b416f9cbe2932a79573a7",
       "version_major": 2,
       "version_minor": 0
      },
      "text/plain": [
       "extract waveforms memmap multi buffer:   0%|          | 0/1 [00:00<?, ?it/s]"
      ]
     },
     "metadata": {},
     "output_type": "display_data"
    },
    {
     "name": "stderr",
     "output_type": "stream",
     "text": [
      "/home/shijiegu/anaconda3/envs/spyglass/lib/python3.10/site-packages/pynwb/behavior.py:48: UserWarning: SpatialSeries 'series_0' has data shape (44222, 6) which is not compliant with NWB 2.5 and greater. The second dimension should have length <= 3 to represent at most x, y, z.\n",
      "  warnings.warn(\"SpatialSeries '%s' has data shape %s which is not compliant with NWB 2.5 and greater. \"\n",
      "/home/shijiegu/anaconda3/envs/spyglass/lib/python3.10/site-packages/pynwb/behavior.py:48: UserWarning: SpatialSeries 'series_1' has data shape (75048, 6) which is not compliant with NWB 2.5 and greater. The second dimension should have length <= 3 to represent at most x, y, z.\n",
      "  warnings.warn(\"SpatialSeries '%s' has data shape %s which is not compliant with NWB 2.5 and greater. \"\n",
      "/home/shijiegu/anaconda3/envs/spyglass/lib/python3.10/site-packages/pynwb/behavior.py:48: UserWarning: SpatialSeries 'series_10' has data shape (14355, 6) which is not compliant with NWB 2.5 and greater. The second dimension should have length <= 3 to represent at most x, y, z.\n",
      "  warnings.warn(\"SpatialSeries '%s' has data shape %s which is not compliant with NWB 2.5 and greater. \"\n",
      "/home/shijiegu/anaconda3/envs/spyglass/lib/python3.10/site-packages/pynwb/behavior.py:48: UserWarning: SpatialSeries 'series_2' has data shape (116537, 6) which is not compliant with NWB 2.5 and greater. The second dimension should have length <= 3 to represent at most x, y, z.\n",
      "  warnings.warn(\"SpatialSeries '%s' has data shape %s which is not compliant with NWB 2.5 and greater. \"\n",
      "/home/shijiegu/anaconda3/envs/spyglass/lib/python3.10/site-packages/pynwb/behavior.py:48: UserWarning: SpatialSeries 'series_3' has data shape (78494, 6) which is not compliant with NWB 2.5 and greater. The second dimension should have length <= 3 to represent at most x, y, z.\n",
      "  warnings.warn(\"SpatialSeries '%s' has data shape %s which is not compliant with NWB 2.5 and greater. \"\n",
      "/home/shijiegu/anaconda3/envs/spyglass/lib/python3.10/site-packages/pynwb/behavior.py:48: UserWarning: SpatialSeries 'series_4' has data shape (174480, 6) which is not compliant with NWB 2.5 and greater. The second dimension should have length <= 3 to represent at most x, y, z.\n",
      "  warnings.warn(\"SpatialSeries '%s' has data shape %s which is not compliant with NWB 2.5 and greater. \"\n",
      "/home/shijiegu/anaconda3/envs/spyglass/lib/python3.10/site-packages/pynwb/behavior.py:48: UserWarning: SpatialSeries 'series_5' has data shape (69806, 6) which is not compliant with NWB 2.5 and greater. The second dimension should have length <= 3 to represent at most x, y, z.\n",
      "  warnings.warn(\"SpatialSeries '%s' has data shape %s which is not compliant with NWB 2.5 and greater. \"\n",
      "/home/shijiegu/anaconda3/envs/spyglass/lib/python3.10/site-packages/pynwb/behavior.py:48: UserWarning: SpatialSeries 'series_6' has data shape (128385, 6) which is not compliant with NWB 2.5 and greater. The second dimension should have length <= 3 to represent at most x, y, z.\n",
      "  warnings.warn(\"SpatialSeries '%s' has data shape %s which is not compliant with NWB 2.5 and greater. \"\n",
      "/home/shijiegu/anaconda3/envs/spyglass/lib/python3.10/site-packages/pynwb/behavior.py:48: UserWarning: SpatialSeries 'series_7' has data shape (66099, 6) which is not compliant with NWB 2.5 and greater. The second dimension should have length <= 3 to represent at most x, y, z.\n",
      "  warnings.warn(\"SpatialSeries '%s' has data shape %s which is not compliant with NWB 2.5 and greater. \"\n",
      "/home/shijiegu/anaconda3/envs/spyglass/lib/python3.10/site-packages/pynwb/behavior.py:48: UserWarning: SpatialSeries 'series_8' has data shape (112403, 6) which is not compliant with NWB 2.5 and greater. The second dimension should have length <= 3 to represent at most x, y, z.\n",
      "  warnings.warn(\"SpatialSeries '%s' has data shape %s which is not compliant with NWB 2.5 and greater. \"\n",
      "/home/shijiegu/anaconda3/envs/spyglass/lib/python3.10/site-packages/pynwb/behavior.py:48: UserWarning: SpatialSeries 'series_9' has data shape (50881, 6) which is not compliant with NWB 2.5 and greater. The second dimension should have length <= 3 to represent at most x, y, z.\n",
      "  warnings.warn(\"SpatialSeries '%s' has data shape %s which is not compliant with NWB 2.5 and greater. \"\n",
      "[13:12:59][INFO] Spyglass: Writing new NWB file klein20231111_TNW4N3DETV.nwb\n",
      "14-Jun-25 13:12:59 Writing new NWB file klein20231111_TNW4N3DETV.nwb\n",
      "/home/shijiegu/anaconda3/envs/spyglass/lib/python3.10/site-packages/hdmf/build/objectmapper.py:687: MissingRequiredBuildWarning: NWBFile 'root' is missing required value for attribute 'source_script_file_name'.\n",
      "  warnings.warn(msg, MissingRequiredBuildWarning)\n",
      "/home/shijiegu/anaconda3/envs/spyglass/lib/python3.10/site-packages/hdmf/build/objectmapper.py:687: MissingRequiredBuildWarning: NWBFile 'root' is missing required value for attribute 'source_script_file_name'.\n",
      "  warnings.warn(msg, MissingRequiredBuildWarning)\n",
      "[2025-06-14 13:13:13,122][WARNING]: Skipped checksum for file with hash: 067bd894-4c50-735c-1015-55264cc8ccb8, and path: /stelmo/nwb/analysis/klein20231111/klein20231111_8A1HF8XRJX.nwb\n",
      "14-Jun-25 13:13:13 Skipped checksum for file with hash: 067bd894-4c50-735c-1015-55264cc8ccb8, and path: /stelmo/nwb/analysis/klein20231111/klein20231111_8A1HF8XRJX.nwb\n",
      "[2025-06-14 13:13:13,140][WARNING]: Skipped checksum for file with hash: 067bd894-4c50-735c-1015-55264cc8ccb8, and path: /stelmo/nwb/analysis/klein20231111/klein20231111_8A1HF8XRJX.nwb\n",
      "14-Jun-25 13:13:13 Skipped checksum for file with hash: 067bd894-4c50-735c-1015-55264cc8ccb8, and path: /stelmo/nwb/analysis/klein20231111/klein20231111_8A1HF8XRJX.nwb\n",
      "[2025-06-14 13:13:13,147][WARNING]: Skipped checksum for file with hash: 067bd894-4c50-735c-1015-55264cc8ccb8, and path: /stelmo/nwb/analysis/klein20231111/klein20231111_8A1HF8XRJX.nwb\n",
      "14-Jun-25 13:13:13 Skipped checksum for file with hash: 067bd894-4c50-735c-1015-55264cc8ccb8, and path: /stelmo/nwb/analysis/klein20231111/klein20231111_8A1HF8XRJX.nwb\n"
     ]
    },
    {
     "data": {
      "application/vnd.jupyter.widget-view+json": {
       "model_id": "9d5f319bce1a43918ac502f1e816e74f",
       "version_major": 2,
       "version_minor": 0
      },
      "text/plain": [
       "extract waveforms shared_memory multi buffer:   0%|          | 0/1 [00:00<?, ?it/s]"
      ]
     },
     "metadata": {},
     "output_type": "display_data"
    },
    {
     "data": {
      "application/vnd.jupyter.widget-view+json": {
       "model_id": "2f94c7ec70754f6c8b7916f29b790c0c",
       "version_major": 2,
       "version_minor": 0
      },
      "text/plain": [
       "extract waveforms memmap multi buffer:   0%|          | 0/1 [00:00<?, ?it/s]"
      ]
     },
     "metadata": {},
     "output_type": "display_data"
    },
    {
     "name": "stderr",
     "output_type": "stream",
     "text": [
      "/home/shijiegu/anaconda3/envs/spyglass/lib/python3.10/site-packages/pynwb/behavior.py:48: UserWarning: SpatialSeries 'series_0' has data shape (44222, 6) which is not compliant with NWB 2.5 and greater. The second dimension should have length <= 3 to represent at most x, y, z.\n",
      "  warnings.warn(\"SpatialSeries '%s' has data shape %s which is not compliant with NWB 2.5 and greater. \"\n",
      "/home/shijiegu/anaconda3/envs/spyglass/lib/python3.10/site-packages/pynwb/behavior.py:48: UserWarning: SpatialSeries 'series_1' has data shape (75048, 6) which is not compliant with NWB 2.5 and greater. The second dimension should have length <= 3 to represent at most x, y, z.\n",
      "  warnings.warn(\"SpatialSeries '%s' has data shape %s which is not compliant with NWB 2.5 and greater. \"\n",
      "/home/shijiegu/anaconda3/envs/spyglass/lib/python3.10/site-packages/pynwb/behavior.py:48: UserWarning: SpatialSeries 'series_10' has data shape (14355, 6) which is not compliant with NWB 2.5 and greater. The second dimension should have length <= 3 to represent at most x, y, z.\n",
      "  warnings.warn(\"SpatialSeries '%s' has data shape %s which is not compliant with NWB 2.5 and greater. \"\n",
      "/home/shijiegu/anaconda3/envs/spyglass/lib/python3.10/site-packages/pynwb/behavior.py:48: UserWarning: SpatialSeries 'series_2' has data shape (116537, 6) which is not compliant with NWB 2.5 and greater. The second dimension should have length <= 3 to represent at most x, y, z.\n",
      "  warnings.warn(\"SpatialSeries '%s' has data shape %s which is not compliant with NWB 2.5 and greater. \"\n",
      "/home/shijiegu/anaconda3/envs/spyglass/lib/python3.10/site-packages/pynwb/behavior.py:48: UserWarning: SpatialSeries 'series_3' has data shape (78494, 6) which is not compliant with NWB 2.5 and greater. The second dimension should have length <= 3 to represent at most x, y, z.\n",
      "  warnings.warn(\"SpatialSeries '%s' has data shape %s which is not compliant with NWB 2.5 and greater. \"\n",
      "/home/shijiegu/anaconda3/envs/spyglass/lib/python3.10/site-packages/pynwb/behavior.py:48: UserWarning: SpatialSeries 'series_4' has data shape (174480, 6) which is not compliant with NWB 2.5 and greater. The second dimension should have length <= 3 to represent at most x, y, z.\n",
      "  warnings.warn(\"SpatialSeries '%s' has data shape %s which is not compliant with NWB 2.5 and greater. \"\n",
      "/home/shijiegu/anaconda3/envs/spyglass/lib/python3.10/site-packages/pynwb/behavior.py:48: UserWarning: SpatialSeries 'series_5' has data shape (69806, 6) which is not compliant with NWB 2.5 and greater. The second dimension should have length <= 3 to represent at most x, y, z.\n",
      "  warnings.warn(\"SpatialSeries '%s' has data shape %s which is not compliant with NWB 2.5 and greater. \"\n",
      "/home/shijiegu/anaconda3/envs/spyglass/lib/python3.10/site-packages/pynwb/behavior.py:48: UserWarning: SpatialSeries 'series_6' has data shape (128385, 6) which is not compliant with NWB 2.5 and greater. The second dimension should have length <= 3 to represent at most x, y, z.\n",
      "  warnings.warn(\"SpatialSeries '%s' has data shape %s which is not compliant with NWB 2.5 and greater. \"\n",
      "/home/shijiegu/anaconda3/envs/spyglass/lib/python3.10/site-packages/pynwb/behavior.py:48: UserWarning: SpatialSeries 'series_7' has data shape (66099, 6) which is not compliant with NWB 2.5 and greater. The second dimension should have length <= 3 to represent at most x, y, z.\n",
      "  warnings.warn(\"SpatialSeries '%s' has data shape %s which is not compliant with NWB 2.5 and greater. \"\n",
      "/home/shijiegu/anaconda3/envs/spyglass/lib/python3.10/site-packages/pynwb/behavior.py:48: UserWarning: SpatialSeries 'series_8' has data shape (112403, 6) which is not compliant with NWB 2.5 and greater. The second dimension should have length <= 3 to represent at most x, y, z.\n",
      "  warnings.warn(\"SpatialSeries '%s' has data shape %s which is not compliant with NWB 2.5 and greater. \"\n",
      "/home/shijiegu/anaconda3/envs/spyglass/lib/python3.10/site-packages/pynwb/behavior.py:48: UserWarning: SpatialSeries 'series_9' has data shape (50881, 6) which is not compliant with NWB 2.5 and greater. The second dimension should have length <= 3 to represent at most x, y, z.\n",
      "  warnings.warn(\"SpatialSeries '%s' has data shape %s which is not compliant with NWB 2.5 and greater. \"\n",
      "[13:14:06][INFO] Spyglass: Writing new NWB file klein20231111_8USILV5XZL.nwb\n",
      "14-Jun-25 13:14:06 Writing new NWB file klein20231111_8USILV5XZL.nwb\n",
      "/home/shijiegu/anaconda3/envs/spyglass/lib/python3.10/site-packages/hdmf/build/objectmapper.py:687: MissingRequiredBuildWarning: NWBFile 'root' is missing required value for attribute 'source_script_file_name'.\n",
      "  warnings.warn(msg, MissingRequiredBuildWarning)\n"
     ]
    }
   ],
   "source": [
    "for e in session_interval:\n",
    "    decodePrepMasterSession(nwb_copy_file_name,e,populate = True)"
   ]
  },
  {
   "cell_type": "code",
   "execution_count": 55,
   "id": "2af63cb7-30ed-4162-9841-1a2cfc3bb14b",
   "metadata": {},
   "outputs": [
    {
     "name": "stdout",
     "output_type": "stream",
     "text": [
      "> \u001b[0;32m/home/shijiegu/anaconda3/envs/spyglass/lib/python3.10/site-packages/hdmf/utils.py\u001b[0m(569)\u001b[0;36m_check_args\u001b[0;34m()\u001b[0m\n",
      "\u001b[0;32m    567 \u001b[0;31m                \u001b[0;32mif\u001b[0m \u001b[0mparse_err\u001b[0m\u001b[0;34m:\u001b[0m\u001b[0;34m\u001b[0m\u001b[0;34m\u001b[0m\u001b[0m\n",
      "\u001b[0m\u001b[0;32m    568 \u001b[0;31m                    \u001b[0mmsg\u001b[0m \u001b[0;34m=\u001b[0m \u001b[0;34m'%s: %s'\u001b[0m \u001b[0;34m%\u001b[0m \u001b[0;34m(\u001b[0m\u001b[0mfunc\u001b[0m\u001b[0;34m.\u001b[0m\u001b[0m__qualname__\u001b[0m\u001b[0;34m,\u001b[0m \u001b[0;34m', '\u001b[0m\u001b[0;34m.\u001b[0m\u001b[0mjoin\u001b[0m\u001b[0;34m(\u001b[0m\u001b[0mparse_err\u001b[0m\u001b[0;34m)\u001b[0m\u001b[0;34m)\u001b[0m\u001b[0;34m\u001b[0m\u001b[0;34m\u001b[0m\u001b[0m\n",
      "\u001b[0m\u001b[0;32m--> 569 \u001b[0;31m                    \u001b[0;32mraise\u001b[0m \u001b[0mExceptionType\u001b[0m\u001b[0;34m(\u001b[0m\u001b[0mmsg\u001b[0m\u001b[0;34m)\u001b[0m\u001b[0;34m\u001b[0m\u001b[0;34m\u001b[0m\u001b[0m\n",
      "\u001b[0m\u001b[0;32m    570 \u001b[0;31m\u001b[0;34m\u001b[0m\u001b[0m\n",
      "\u001b[0m\u001b[0;32m    571 \u001b[0;31m            \u001b[0;32mreturn\u001b[0m \u001b[0mparsed\u001b[0m\u001b[0;34m[\u001b[0m\u001b[0;34m'args'\u001b[0m\u001b[0;34m]\u001b[0m\u001b[0;34m\u001b[0m\u001b[0;34m\u001b[0m\u001b[0m\n",
      "\u001b[0m\n"
     ]
    },
    {
     "name": "stdin",
     "output_type": "stream",
     "text": [
      "ipdb>  u\n"
     ]
    },
    {
     "name": "stdout",
     "output_type": "stream",
     "text": [
      "> \u001b[0;32m/home/shijiegu/anaconda3/envs/spyglass/lib/python3.10/site-packages/hdmf/utils.py\u001b[0m(576)\u001b[0;36mfunc_call\u001b[0;34m()\u001b[0m\n",
      "\u001b[0;32m    574 \u001b[0;31m        \u001b[0;32mif\u001b[0m \u001b[0mis_method\u001b[0m\u001b[0;34m:\u001b[0m\u001b[0;34m\u001b[0m\u001b[0;34m\u001b[0m\u001b[0m\n",
      "\u001b[0m\u001b[0;32m    575 \u001b[0;31m            \u001b[0;32mdef\u001b[0m \u001b[0mfunc_call\u001b[0m\u001b[0;34m(\u001b[0m\u001b[0;34m*\u001b[0m\u001b[0margs\u001b[0m\u001b[0;34m,\u001b[0m \u001b[0;34m**\u001b[0m\u001b[0mkwargs\u001b[0m\u001b[0;34m)\u001b[0m\u001b[0;34m:\u001b[0m\u001b[0;34m\u001b[0m\u001b[0;34m\u001b[0m\u001b[0m\n",
      "\u001b[0m\u001b[0;32m--> 576 \u001b[0;31m                \u001b[0mpargs\u001b[0m \u001b[0;34m=\u001b[0m \u001b[0m_check_args\u001b[0m\u001b[0;34m(\u001b[0m\u001b[0margs\u001b[0m\u001b[0;34m,\u001b[0m \u001b[0mkwargs\u001b[0m\u001b[0;34m)\u001b[0m\u001b[0;34m\u001b[0m\u001b[0;34m\u001b[0m\u001b[0m\n",
      "\u001b[0m\u001b[0;32m    577 \u001b[0;31m                \u001b[0;32mreturn\u001b[0m \u001b[0mfunc\u001b[0m\u001b[0;34m(\u001b[0m\u001b[0margs\u001b[0m\u001b[0;34m[\u001b[0m\u001b[0;36m0\u001b[0m\u001b[0;34m]\u001b[0m\u001b[0;34m,\u001b[0m \u001b[0;34m**\u001b[0m\u001b[0mpargs\u001b[0m\u001b[0;34m)\u001b[0m\u001b[0;34m\u001b[0m\u001b[0;34m\u001b[0m\u001b[0m\n",
      "\u001b[0m\u001b[0;32m    578 \u001b[0;31m        \u001b[0;32melse\u001b[0m\u001b[0;34m:\u001b[0m\u001b[0;34m\u001b[0m\u001b[0;34m\u001b[0m\u001b[0m\n",
      "\u001b[0m\n"
     ]
    },
    {
     "name": "stdin",
     "output_type": "stream",
     "text": [
      "ipdb>  u\n"
     ]
    },
    {
     "name": "stdout",
     "output_type": "stream",
     "text": [
      "> \u001b[0;32m/home/shijiegu/Documents/spyglass/src/spyglass/common/common_nwbfile.py\u001b[0m(472)\u001b[0;36madd_units\u001b[0;34m()\u001b[0m\n",
      "\u001b[0;32m    470 \u001b[0;31m            \u001b[0;31m# Add spike times and valid time range for the sort\u001b[0m\u001b[0;34m\u001b[0m\u001b[0;34m\u001b[0m\u001b[0m\n",
      "\u001b[0m\u001b[0;32m    471 \u001b[0;31m            \u001b[0;32mfor\u001b[0m \u001b[0mid\u001b[0m \u001b[0;32min\u001b[0m \u001b[0munits\u001b[0m\u001b[0;34m.\u001b[0m\u001b[0mkeys\u001b[0m\u001b[0;34m(\u001b[0m\u001b[0;34m)\u001b[0m\u001b[0;34m:\u001b[0m\u001b[0;34m\u001b[0m\u001b[0;34m\u001b[0m\u001b[0m\n",
      "\u001b[0m\u001b[0;32m--> 472 \u001b[0;31m                nwbf.add_unit(\n",
      "\u001b[0m\u001b[0;32m    473 \u001b[0;31m                    \u001b[0mspike_times\u001b[0m\u001b[0;34m=\u001b[0m\u001b[0munits\u001b[0m\u001b[0;34m[\u001b[0m\u001b[0mid\u001b[0m\u001b[0;34m]\u001b[0m\u001b[0;34m,\u001b[0m\u001b[0;34m\u001b[0m\u001b[0;34m\u001b[0m\u001b[0m\n",
      "\u001b[0m\u001b[0;32m    474 \u001b[0;31m                    \u001b[0mid\u001b[0m\u001b[0;34m=\u001b[0m\u001b[0mid\u001b[0m\u001b[0;34m,\u001b[0m\u001b[0;34m\u001b[0m\u001b[0;34m\u001b[0m\u001b[0m\n",
      "\u001b[0m\n"
     ]
    },
    {
     "name": "stdin",
     "output_type": "stream",
     "text": [
      "ipdb>  len(units[id])\n"
     ]
    },
    {
     "name": "stdout",
     "output_type": "stream",
     "text": [
      "7365\n"
     ]
    },
    {
     "name": "stdin",
     "output_type": "stream",
     "text": [
      "ipdb>  len(units_valid_times[id])\n"
     ]
    },
    {
     "name": "stdout",
     "output_type": "stream",
     "text": [
      "0\n"
     ]
    },
    {
     "name": "stdin",
     "output_type": "stream",
     "text": [
      "ipdb>  id\n"
     ]
    },
    {
     "name": "stdout",
     "output_type": "stream",
     "text": [
      "0\n"
     ]
    },
    {
     "name": "stdin",
     "output_type": "stream",
     "text": [
      "ipdb>  units_valid_times\n"
     ]
    },
    {
     "name": "stdout",
     "output_type": "stream",
     "text": [
      "{0: []}\n"
     ]
    },
    {
     "name": "stdin",
     "output_type": "stream",
     "text": [
      "ipdb>  u\n"
     ]
    },
    {
     "name": "stdout",
     "output_type": "stream",
     "text": [
      "> \u001b[0;32m/home/shijiegu/Documents/spyglass/src/spyglass/spikesorting/v0/spikesorting_curation.py\u001b[0m(259)\u001b[0;36msave_sorting_nwb\u001b[0;34m()\u001b[0m\n",
      "\u001b[0;32m    257 \u001b[0;31m            \u001b[0munits_sort_interval\u001b[0m\u001b[0;34m[\u001b[0m\u001b[0munit_id\u001b[0m\u001b[0;34m]\u001b[0m \u001b[0;34m=\u001b[0m \u001b[0;34m[\u001b[0m\u001b[0msort_interval\u001b[0m\u001b[0;34m]\u001b[0m\u001b[0;34m\u001b[0m\u001b[0;34m\u001b[0m\u001b[0m\n",
      "\u001b[0m\u001b[0;32m    258 \u001b[0;31m\u001b[0;34m\u001b[0m\u001b[0m\n",
      "\u001b[0m\u001b[0;32m--> 259 \u001b[0;31m        object_ids = AnalysisNwbfile().add_units(\n",
      "\u001b[0m\u001b[0;32m    260 \u001b[0;31m            \u001b[0manalysis_file_name\u001b[0m\u001b[0;34m,\u001b[0m\u001b[0;34m\u001b[0m\u001b[0;34m\u001b[0m\u001b[0m\n",
      "\u001b[0m\u001b[0;32m    261 \u001b[0;31m            \u001b[0munits\u001b[0m\u001b[0;34m,\u001b[0m\u001b[0;34m\u001b[0m\u001b[0;34m\u001b[0m\u001b[0m\n",
      "\u001b[0m\n"
     ]
    },
    {
     "name": "stdin",
     "output_type": "stream",
     "text": [
      "ipdb>  sort_interval\n"
     ]
    },
    {
     "name": "stdout",
     "output_type": "stream",
     "text": [
      "array([[1.69083364e+09, 1.69083540e+09]])\n"
     ]
    },
    {
     "name": "stdin",
     "output_type": "stream",
     "text": [
      "ipdb>  sort_interval[0][0]\n"
     ]
    },
    {
     "name": "stdout",
     "output_type": "stream",
     "text": [
      "1690833636.0719533\n"
     ]
    },
    {
     "name": "stdin",
     "output_type": "stream",
     "text": [
      "ipdb>  sort_interval[0][1]\n"
     ]
    },
    {
     "name": "stdout",
     "output_type": "stream",
     "text": [
      "1690835403.741607\n"
     ]
    },
    {
     "name": "stdin",
     "output_type": "stream",
     "text": [
      "ipdb>  sort_interval_valid_times\n"
     ]
    },
    {
     "name": "stdout",
     "output_type": "stream",
     "text": [
      "[]\n"
     ]
    },
    {
     "name": "stdin",
     "output_type": "stream",
     "text": [
      "ipdb>  sort_interval_list_name\n"
     ]
    },
    {
     "name": "stdout",
     "output_type": "stream",
     "text": [
      "'julio20230731_.nwb_06_Seq2Session3_2_franklab_tetrode_hippocampus_ampl_1500_prop_075_1ms_artifact_removed_valid_times_track_time_only'\n"
     ]
    },
    {
     "name": "stdin",
     "output_type": "stream",
     "text": [
      "ipdb>  exit\n"
     ]
    }
   ],
   "source": [
    "%debug"
   ]
  },
  {
   "cell_type": "code",
   "execution_count": null,
   "id": "56b56bc1-5472-4fc0-8cc3-5aabf91f25b5",
   "metadata": {},
   "outputs": [],
   "source": [
    "{'curation_id': 0, 'nwb_file_name': 'Julio20230811_.nwb', 'sort_group_id': 2, 'sort_interval_name': '02_Seq2Session1', 'preproc_params_name': 'franklab_tetrode_hippocampus', 'team_name': 'SequenceTask', 'sorter': 'clusterless_thresholder', 'sorter_params_name': 'default', 'artifact_removed_interval_list_name': 'Julio20230811_.nwb_02_Seq2Session1_2_franklab_tetrode_hippocampus_ampl_1500_prop_075_1ms_artifact_removed_valid_times_track_time_only', 'mark_param_name': 'default', 'analysis_file_name': 'Julio20230811_KD6PZ2J00L.nwb'}"
   ]
  },
  {
   "cell_type": "code",
   "execution_count": null,
   "id": "3df2885e-eaf2-4ae7-a089-d5a81537b9cc",
   "metadata": {},
   "outputs": [],
   "source": []
  },
  {
   "cell_type": "code",
   "execution_count": 75,
   "id": "7812a63e-9ce9-4691-9cb1-3d087a26b5fc",
   "metadata": {},
   "outputs": [
    {
     "name": "stderr",
     "output_type": "stream",
     "text": [
      "[21:24:41][INFO] Spyglass: Path Found : ['`common_session`.`_session`', '`common_interval`.`interval_list`'...\n",
      "26-May-25 21:24:41 Path Found : ['`common_session`.`_session`', '`common_interval`.`interval_list`'...\n",
      "[21:24:41][INFO] Spyglass: Checking  0: IntervalList -> ['Session']\n",
      "26-May-25 21:24:41 Checking  0: IntervalList -> ['Session']\n",
      "[21:24:41][INFO] Spyglass: Bridge Link: IntervalList -> Session: result partial\n",
      "26-May-25 21:24:41 Bridge Link: IntervalList -> Session: result partial\n",
      "[21:24:41][INFO] Spyglass: Checking  1: Session -> ['Nwbfile', 'Subject', 'Institution', 'Lab', 'SessionDat...\n",
      "26-May-25 21:24:41 Checking  1: Session -> ['Nwbfile', 'Subject', 'Institution', 'Lab', 'SessionDat...\n",
      "[21:24:41][INFO] Spyglass: Banned Tbl : Nwbfile\n",
      "26-May-25 21:24:41 Banned Tbl : Nwbfile\n",
      "[21:24:41][INFO] Spyglass: Banned Tbl : Subject\n",
      "26-May-25 21:24:41 Banned Tbl : Subject\n",
      "[21:24:41][INFO] Spyglass: Banned Tbl : Institution\n",
      "26-May-25 21:24:41 Banned Tbl : Institution\n",
      "[21:24:41][INFO] Spyglass: Banned Tbl : Lab\n",
      "26-May-25 21:24:41 Banned Tbl : Lab\n",
      "[21:24:41][INFO] Spyglass: Banned Tbl : SessionDataAcquisitionDevice\n",
      "26-May-25 21:24:41 Banned Tbl : SessionDataAcquisitionDevice\n",
      "[21:24:41][INFO] Spyglass: Banned Tbl : SessionExperimenter\n",
      "26-May-25 21:24:41 Banned Tbl : SessionExperimenter\n",
      "[21:24:41][INFO] Spyglass: Queueing delete for session(s):\n",
      "*nwb_file_name *lab_member_na\n",
      "+------------+ +------------+\n",
      "julio20230731_ Shijie Gu     \n",
      " (Total: 1)\n",
      "\n",
      "26-May-25 21:24:41 Queueing delete for session(s):\n",
      "*nwb_file_name *lab_member_na\n",
      "+------------+ +------------+\n",
      "julio20230731_ Shijie Gu     \n",
      " (Total: 1)\n",
      "\n",
      "[2025-05-26 21:24:42,416][INFO]: Deleting 1 rows from `common_interval`.`interval_list`\n",
      "26-May-25 21:24:42 Deleting 1 rows from `common_interval`.`interval_list`\n"
     ]
    },
    {
     "name": "stdin",
     "output_type": "stream",
     "text": [
      "Commit deletes? [yes, No]:  yes\n"
     ]
    },
    {
     "name": "stderr",
     "output_type": "stream",
     "text": [
      "[2025-05-26 21:24:44,578][INFO]: Deletes committed.\n",
      "26-May-25 21:24:44 Deletes committed.\n"
     ]
    }
   ],
   "source": [
    "(IntervalList() & {'interval_list_name':\n",
    "                'julio20230731_.nwb_06_Seq2Session3_2_franklab_tetrode_hippocampus_ampl_1500_prop_075_1ms_artifact_removed_valid_times_track_time_only'\n",
    "               }).delete()"
   ]
  },
  {
   "cell_type": "code",
   "execution_count": 68,
   "id": "a2f6a347-42e9-4657-8d5b-9f7961aaec1c",
   "metadata": {
    "scrolled": true
   },
   "outputs": [
    {
     "name": "stdout",
     "output_type": "stream",
     "text": [
      "> \u001b[0;32m/home/shijiegu/Documents/spyglass/notebooks/DataPreprocessing/src/netCDF4/_netCDF4.pyx\u001b[0m(2158)\u001b[0;36mnetCDF4._netCDF4._ensure_nc_success\u001b[0;34m()\u001b[0m\n",
      "\n"
     ]
    },
    {
     "name": "stdin",
     "output_type": "stream",
     "text": [
      "ipdb>  u\n"
     ]
    },
    {
     "name": "stdout",
     "output_type": "stream",
     "text": [
      "> \u001b[0;32m/home/shijiegu/Documents/spyglass/notebooks/DataPreprocessing/src/netCDF4/_netCDF4.pyx\u001b[0m(2521)\u001b[0;36mnetCDF4._netCDF4.Dataset.__init__\u001b[0;34m()\u001b[0m\n",
      "\n"
     ]
    },
    {
     "name": "stdin",
     "output_type": "stream",
     "text": [
      "ipdb>  u\n"
     ]
    },
    {
     "name": "stdout",
     "output_type": "stream",
     "text": [
      "> \u001b[0;32m/home/shijiegu/anaconda3/envs/spyglass/lib/python3.10/site-packages/xarray/backends/file_manager.py\u001b[0m(217)\u001b[0;36m_acquire_with_cache_info\u001b[0;34m()\u001b[0m\n",
      "\u001b[0;32m    215 \u001b[0;31m                    \u001b[0mkwargs\u001b[0m \u001b[0;34m=\u001b[0m \u001b[0mkwargs\u001b[0m\u001b[0;34m.\u001b[0m\u001b[0mcopy\u001b[0m\u001b[0;34m(\u001b[0m\u001b[0;34m)\u001b[0m\u001b[0;34m\u001b[0m\u001b[0;34m\u001b[0m\u001b[0m\n",
      "\u001b[0m\u001b[0;32m    216 \u001b[0;31m                    \u001b[0mkwargs\u001b[0m\u001b[0;34m[\u001b[0m\u001b[0;34m\"mode\"\u001b[0m\u001b[0;34m]\u001b[0m \u001b[0;34m=\u001b[0m \u001b[0mself\u001b[0m\u001b[0;34m.\u001b[0m\u001b[0m_mode\u001b[0m\u001b[0;34m\u001b[0m\u001b[0;34m\u001b[0m\u001b[0m\n",
      "\u001b[0m\u001b[0;32m--> 217 \u001b[0;31m                \u001b[0mfile\u001b[0m \u001b[0;34m=\u001b[0m \u001b[0mself\u001b[0m\u001b[0;34m.\u001b[0m\u001b[0m_opener\u001b[0m\u001b[0;34m(\u001b[0m\u001b[0;34m*\u001b[0m\u001b[0mself\u001b[0m\u001b[0;34m.\u001b[0m\u001b[0m_args\u001b[0m\u001b[0;34m,\u001b[0m \u001b[0;34m**\u001b[0m\u001b[0mkwargs\u001b[0m\u001b[0;34m)\u001b[0m\u001b[0;34m\u001b[0m\u001b[0;34m\u001b[0m\u001b[0m\n",
      "\u001b[0m\u001b[0;32m    218 \u001b[0;31m                \u001b[0;32mif\u001b[0m \u001b[0mself\u001b[0m\u001b[0;34m.\u001b[0m\u001b[0m_mode\u001b[0m \u001b[0;34m==\u001b[0m \u001b[0;34m\"w\"\u001b[0m\u001b[0;34m:\u001b[0m\u001b[0;34m\u001b[0m\u001b[0;34m\u001b[0m\u001b[0m\n",
      "\u001b[0m\u001b[0;32m    219 \u001b[0;31m                    \u001b[0;31m# ensure file doesn't get overridden when opened again\u001b[0m\u001b[0;34m\u001b[0m\u001b[0;34m\u001b[0m\u001b[0m\n",
      "\u001b[0m\n"
     ]
    },
    {
     "name": "stdin",
     "output_type": "stream",
     "text": [
      "ipdb>  u\n"
     ]
    },
    {
     "name": "stdout",
     "output_type": "stream",
     "text": [
      "> \u001b[0;32m/home/shijiegu/anaconda3/envs/spyglass/lib/python3.10/site-packages/xarray/backends/file_manager.py\u001b[0m(199)\u001b[0;36macquire_context\u001b[0;34m()\u001b[0m\n",
      "\u001b[0;32m    197 \u001b[0;31m    \u001b[0;32mdef\u001b[0m \u001b[0macquire_context\u001b[0m\u001b[0;34m(\u001b[0m\u001b[0mself\u001b[0m\u001b[0;34m,\u001b[0m \u001b[0mneeds_lock\u001b[0m\u001b[0;34m=\u001b[0m\u001b[0;32mTrue\u001b[0m\u001b[0;34m)\u001b[0m\u001b[0;34m:\u001b[0m\u001b[0;34m\u001b[0m\u001b[0;34m\u001b[0m\u001b[0m\n",
      "\u001b[0m\u001b[0;32m    198 \u001b[0;31m        \u001b[0;34m\"\"\"Context manager for acquiring a file.\"\"\"\u001b[0m\u001b[0;34m\u001b[0m\u001b[0;34m\u001b[0m\u001b[0m\n",
      "\u001b[0m\u001b[0;32m--> 199 \u001b[0;31m        \u001b[0mfile\u001b[0m\u001b[0;34m,\u001b[0m \u001b[0mcached\u001b[0m \u001b[0;34m=\u001b[0m \u001b[0mself\u001b[0m\u001b[0;34m.\u001b[0m\u001b[0m_acquire_with_cache_info\u001b[0m\u001b[0;34m(\u001b[0m\u001b[0mneeds_lock\u001b[0m\u001b[0;34m)\u001b[0m\u001b[0;34m\u001b[0m\u001b[0;34m\u001b[0m\u001b[0m\n",
      "\u001b[0m\u001b[0;32m    200 \u001b[0;31m        \u001b[0;32mtry\u001b[0m\u001b[0;34m:\u001b[0m\u001b[0;34m\u001b[0m\u001b[0;34m\u001b[0m\u001b[0m\n",
      "\u001b[0m\u001b[0;32m    201 \u001b[0;31m            \u001b[0;32myield\u001b[0m \u001b[0mfile\u001b[0m\u001b[0;34m\u001b[0m\u001b[0;34m\u001b[0m\u001b[0m\n",
      "\u001b[0m\n"
     ]
    },
    {
     "name": "stdin",
     "output_type": "stream",
     "text": [
      "ipdb>  u\n"
     ]
    },
    {
     "name": "stdout",
     "output_type": "stream",
     "text": [
      "> \u001b[0;32m/home/shijiegu/anaconda3/envs/spyglass/lib/python3.10/contextlib.py\u001b[0m(135)\u001b[0;36m__enter__\u001b[0;34m()\u001b[0m\n",
      "\u001b[0;32m    133 \u001b[0;31m        \u001b[0;32mdel\u001b[0m \u001b[0mself\u001b[0m\u001b[0;34m.\u001b[0m\u001b[0margs\u001b[0m\u001b[0;34m,\u001b[0m \u001b[0mself\u001b[0m\u001b[0;34m.\u001b[0m\u001b[0mkwds\u001b[0m\u001b[0;34m,\u001b[0m \u001b[0mself\u001b[0m\u001b[0;34m.\u001b[0m\u001b[0mfunc\u001b[0m\u001b[0;34m\u001b[0m\u001b[0;34m\u001b[0m\u001b[0m\n",
      "\u001b[0m\u001b[0;32m    134 \u001b[0;31m        \u001b[0;32mtry\u001b[0m\u001b[0;34m:\u001b[0m\u001b[0;34m\u001b[0m\u001b[0;34m\u001b[0m\u001b[0m\n",
      "\u001b[0m\u001b[0;32m--> 135 \u001b[0;31m            \u001b[0;32mreturn\u001b[0m \u001b[0mnext\u001b[0m\u001b[0;34m(\u001b[0m\u001b[0mself\u001b[0m\u001b[0;34m.\u001b[0m\u001b[0mgen\u001b[0m\u001b[0;34m)\u001b[0m\u001b[0;34m\u001b[0m\u001b[0;34m\u001b[0m\u001b[0m\n",
      "\u001b[0m\u001b[0;32m    136 \u001b[0;31m        \u001b[0;32mexcept\u001b[0m \u001b[0mStopIteration\u001b[0m\u001b[0;34m:\u001b[0m\u001b[0;34m\u001b[0m\u001b[0;34m\u001b[0m\u001b[0m\n",
      "\u001b[0m\u001b[0;32m    137 \u001b[0;31m            \u001b[0;32mraise\u001b[0m \u001b[0mRuntimeError\u001b[0m\u001b[0;34m(\u001b[0m\u001b[0;34m\"generator didn't yield\"\u001b[0m\u001b[0;34m)\u001b[0m \u001b[0;32mfrom\u001b[0m \u001b[0;32mNone\u001b[0m\u001b[0;34m\u001b[0m\u001b[0;34m\u001b[0m\u001b[0m\n",
      "\u001b[0m\n"
     ]
    },
    {
     "name": "stdin",
     "output_type": "stream",
     "text": [
      "ipdb>  u\n"
     ]
    },
    {
     "name": "stdout",
     "output_type": "stream",
     "text": [
      "> \u001b[0;32m/home/shijiegu/anaconda3/envs/spyglass/lib/python3.10/site-packages/xarray/backends/netCDF4_.py\u001b[0m(412)\u001b[0;36m_acquire\u001b[0;34m()\u001b[0m\n",
      "\u001b[0;32m    410 \u001b[0;31m\u001b[0;34m\u001b[0m\u001b[0m\n",
      "\u001b[0m\u001b[0;32m    411 \u001b[0;31m    \u001b[0;32mdef\u001b[0m \u001b[0m_acquire\u001b[0m\u001b[0;34m(\u001b[0m\u001b[0mself\u001b[0m\u001b[0;34m,\u001b[0m \u001b[0mneeds_lock\u001b[0m\u001b[0;34m=\u001b[0m\u001b[0;32mTrue\u001b[0m\u001b[0;34m)\u001b[0m\u001b[0;34m:\u001b[0m\u001b[0;34m\u001b[0m\u001b[0;34m\u001b[0m\u001b[0m\n",
      "\u001b[0m\u001b[0;32m--> 412 \u001b[0;31m        \u001b[0;32mwith\u001b[0m \u001b[0mself\u001b[0m\u001b[0;34m.\u001b[0m\u001b[0m_manager\u001b[0m\u001b[0;34m.\u001b[0m\u001b[0macquire_context\u001b[0m\u001b[0;34m(\u001b[0m\u001b[0mneeds_lock\u001b[0m\u001b[0;34m)\u001b[0m \u001b[0;32mas\u001b[0m \u001b[0mroot\u001b[0m\u001b[0;34m:\u001b[0m\u001b[0;34m\u001b[0m\u001b[0;34m\u001b[0m\u001b[0m\n",
      "\u001b[0m\u001b[0;32m    413 \u001b[0;31m            \u001b[0mds\u001b[0m \u001b[0;34m=\u001b[0m \u001b[0m_nc4_require_group\u001b[0m\u001b[0;34m(\u001b[0m\u001b[0mroot\u001b[0m\u001b[0;34m,\u001b[0m \u001b[0mself\u001b[0m\u001b[0;34m.\u001b[0m\u001b[0m_group\u001b[0m\u001b[0;34m,\u001b[0m \u001b[0mself\u001b[0m\u001b[0;34m.\u001b[0m\u001b[0m_mode\u001b[0m\u001b[0;34m)\u001b[0m\u001b[0;34m\u001b[0m\u001b[0;34m\u001b[0m\u001b[0m\n",
      "\u001b[0m\u001b[0;32m    414 \u001b[0;31m        \u001b[0;32mreturn\u001b[0m \u001b[0mds\u001b[0m\u001b[0;34m\u001b[0m\u001b[0;34m\u001b[0m\u001b[0m\n",
      "\u001b[0m\n"
     ]
    },
    {
     "name": "stdin",
     "output_type": "stream",
     "text": [
      "ipdb>  u\n"
     ]
    },
    {
     "name": "stdout",
     "output_type": "stream",
     "text": [
      "> \u001b[0;32m/home/shijiegu/anaconda3/envs/spyglass/lib/python3.10/site-packages/xarray/backends/netCDF4_.py\u001b[0m(418)\u001b[0;36mds\u001b[0;34m()\u001b[0m\n",
      "\u001b[0;32m    416 \u001b[0;31m    \u001b[0;34m@\u001b[0m\u001b[0mproperty\u001b[0m\u001b[0;34m\u001b[0m\u001b[0;34m\u001b[0m\u001b[0m\n",
      "\u001b[0m\u001b[0;32m    417 \u001b[0;31m    \u001b[0;32mdef\u001b[0m \u001b[0mds\u001b[0m\u001b[0;34m(\u001b[0m\u001b[0mself\u001b[0m\u001b[0;34m)\u001b[0m\u001b[0;34m:\u001b[0m\u001b[0;34m\u001b[0m\u001b[0;34m\u001b[0m\u001b[0m\n",
      "\u001b[0m\u001b[0;32m--> 418 \u001b[0;31m        \u001b[0;32mreturn\u001b[0m \u001b[0mself\u001b[0m\u001b[0;34m.\u001b[0m\u001b[0m_acquire\u001b[0m\u001b[0;34m(\u001b[0m\u001b[0;34m)\u001b[0m\u001b[0;34m\u001b[0m\u001b[0;34m\u001b[0m\u001b[0m\n",
      "\u001b[0m\u001b[0;32m    419 \u001b[0;31m\u001b[0;34m\u001b[0m\u001b[0m\n",
      "\u001b[0m\u001b[0;32m    420 \u001b[0;31m    \u001b[0;32mdef\u001b[0m \u001b[0mopen_store_variable\u001b[0m\u001b[0;34m(\u001b[0m\u001b[0mself\u001b[0m\u001b[0;34m,\u001b[0m \u001b[0mname\u001b[0m\u001b[0;34m:\u001b[0m \u001b[0mstr\u001b[0m\u001b[0;34m,\u001b[0m \u001b[0mvar\u001b[0m\u001b[0;34m)\u001b[0m\u001b[0;34m:\u001b[0m\u001b[0;34m\u001b[0m\u001b[0;34m\u001b[0m\u001b[0m\n",
      "\u001b[0m\n"
     ]
    },
    {
     "name": "stdin",
     "output_type": "stream",
     "text": [
      "ipdb>  u\n"
     ]
    },
    {
     "name": "stdout",
     "output_type": "stream",
     "text": [
      "> \u001b[0;32m/home/shijiegu/anaconda3/envs/spyglass/lib/python3.10/site-packages/xarray/backends/netCDF4_.py\u001b[0m(356)\u001b[0;36m__init__\u001b[0;34m()\u001b[0m\n",
      "\u001b[0;32m    354 \u001b[0;31m        \u001b[0mself\u001b[0m\u001b[0;34m.\u001b[0m\u001b[0m_group\u001b[0m \u001b[0;34m=\u001b[0m \u001b[0mgroup\u001b[0m\u001b[0;34m\u001b[0m\u001b[0;34m\u001b[0m\u001b[0m\n",
      "\u001b[0m\u001b[0;32m    355 \u001b[0;31m        \u001b[0mself\u001b[0m\u001b[0;34m.\u001b[0m\u001b[0m_mode\u001b[0m \u001b[0;34m=\u001b[0m \u001b[0mmode\u001b[0m\u001b[0;34m\u001b[0m\u001b[0;34m\u001b[0m\u001b[0m\n",
      "\u001b[0m\u001b[0;32m--> 356 \u001b[0;31m        \u001b[0mself\u001b[0m\u001b[0;34m.\u001b[0m\u001b[0mformat\u001b[0m \u001b[0;34m=\u001b[0m \u001b[0mself\u001b[0m\u001b[0;34m.\u001b[0m\u001b[0mds\u001b[0m\u001b[0;34m.\u001b[0m\u001b[0mdata_model\u001b[0m\u001b[0;34m\u001b[0m\u001b[0;34m\u001b[0m\u001b[0m\n",
      "\u001b[0m\u001b[0;32m    357 \u001b[0;31m        \u001b[0mself\u001b[0m\u001b[0;34m.\u001b[0m\u001b[0m_filename\u001b[0m \u001b[0;34m=\u001b[0m \u001b[0mself\u001b[0m\u001b[0;34m.\u001b[0m\u001b[0mds\u001b[0m\u001b[0;34m.\u001b[0m\u001b[0mfilepath\u001b[0m\u001b[0;34m(\u001b[0m\u001b[0;34m)\u001b[0m\u001b[0;34m\u001b[0m\u001b[0;34m\u001b[0m\u001b[0m\n",
      "\u001b[0m\u001b[0;32m    358 \u001b[0;31m        \u001b[0mself\u001b[0m\u001b[0;34m.\u001b[0m\u001b[0mis_remote\u001b[0m \u001b[0;34m=\u001b[0m \u001b[0mis_remote_uri\u001b[0m\u001b[0;34m(\u001b[0m\u001b[0mself\u001b[0m\u001b[0;34m.\u001b[0m\u001b[0m_filename\u001b[0m\u001b[0;34m)\u001b[0m\u001b[0;34m\u001b[0m\u001b[0;34m\u001b[0m\u001b[0m\n",
      "\u001b[0m\n"
     ]
    },
    {
     "name": "stdin",
     "output_type": "stream",
     "text": [
      "ipdb>  u\n"
     ]
    },
    {
     "name": "stdout",
     "output_type": "stream",
     "text": [
      "> \u001b[0;32m/home/shijiegu/anaconda3/envs/spyglass/lib/python3.10/site-packages/xarray/backends/netCDF4_.py\u001b[0m(409)\u001b[0;36mopen\u001b[0;34m()\u001b[0m\n",
      "\u001b[0;32m    407 \u001b[0;31m            \u001b[0mnetCDF4\u001b[0m\u001b[0;34m.\u001b[0m\u001b[0mDataset\u001b[0m\u001b[0;34m,\u001b[0m \u001b[0mfilename\u001b[0m\u001b[0;34m,\u001b[0m \u001b[0mmode\u001b[0m\u001b[0;34m=\u001b[0m\u001b[0mmode\u001b[0m\u001b[0;34m,\u001b[0m \u001b[0mkwargs\u001b[0m\u001b[0;34m=\u001b[0m\u001b[0mkwargs\u001b[0m\u001b[0;34m\u001b[0m\u001b[0;34m\u001b[0m\u001b[0m\n",
      "\u001b[0m\u001b[0;32m    408 \u001b[0;31m        )\n",
      "\u001b[0m\u001b[0;32m--> 409 \u001b[0;31m        \u001b[0;32mreturn\u001b[0m \u001b[0mcls\u001b[0m\u001b[0;34m(\u001b[0m\u001b[0mmanager\u001b[0m\u001b[0;34m,\u001b[0m \u001b[0mgroup\u001b[0m\u001b[0;34m=\u001b[0m\u001b[0mgroup\u001b[0m\u001b[0;34m,\u001b[0m \u001b[0mmode\u001b[0m\u001b[0;34m=\u001b[0m\u001b[0mmode\u001b[0m\u001b[0;34m,\u001b[0m \u001b[0mlock\u001b[0m\u001b[0;34m=\u001b[0m\u001b[0mlock\u001b[0m\u001b[0;34m,\u001b[0m \u001b[0mautoclose\u001b[0m\u001b[0;34m=\u001b[0m\u001b[0mautoclose\u001b[0m\u001b[0;34m)\u001b[0m\u001b[0;34m\u001b[0m\u001b[0;34m\u001b[0m\u001b[0m\n",
      "\u001b[0m\u001b[0;32m    410 \u001b[0;31m\u001b[0;34m\u001b[0m\u001b[0m\n",
      "\u001b[0m\u001b[0;32m    411 \u001b[0;31m    \u001b[0;32mdef\u001b[0m \u001b[0m_acquire\u001b[0m\u001b[0;34m(\u001b[0m\u001b[0mself\u001b[0m\u001b[0;34m,\u001b[0m \u001b[0mneeds_lock\u001b[0m\u001b[0;34m=\u001b[0m\u001b[0;32mTrue\u001b[0m\u001b[0;34m)\u001b[0m\u001b[0;34m:\u001b[0m\u001b[0;34m\u001b[0m\u001b[0;34m\u001b[0m\u001b[0m\n",
      "\u001b[0m\n"
     ]
    },
    {
     "name": "stdin",
     "output_type": "stream",
     "text": [
      "ipdb>  u\n"
     ]
    },
    {
     "name": "stdout",
     "output_type": "stream",
     "text": [
      "> \u001b[0;32m/home/shijiegu/anaconda3/envs/spyglass/lib/python3.10/site-packages/xarray/backends/api.py\u001b[0m(1322)\u001b[0;36mto_netcdf\u001b[0;34m()\u001b[0m\n",
      "\u001b[0;32m   1320 \u001b[0;31m                \u001b[0;34mf\"unrecognized option 'invalid_netcdf' for engine {engine}\"\u001b[0m\u001b[0;34m\u001b[0m\u001b[0;34m\u001b[0m\u001b[0m\n",
      "\u001b[0m\u001b[0;32m   1321 \u001b[0;31m            )\n",
      "\u001b[0m\u001b[0;32m-> 1322 \u001b[0;31m    \u001b[0mstore\u001b[0m \u001b[0;34m=\u001b[0m \u001b[0mstore_open\u001b[0m\u001b[0;34m(\u001b[0m\u001b[0mtarget\u001b[0m\u001b[0;34m,\u001b[0m \u001b[0mmode\u001b[0m\u001b[0;34m,\u001b[0m \u001b[0mformat\u001b[0m\u001b[0;34m,\u001b[0m \u001b[0mgroup\u001b[0m\u001b[0;34m,\u001b[0m \u001b[0;34m**\u001b[0m\u001b[0mkwargs\u001b[0m\u001b[0;34m)\u001b[0m\u001b[0;34m\u001b[0m\u001b[0;34m\u001b[0m\u001b[0m\n",
      "\u001b[0m\u001b[0;32m   1323 \u001b[0;31m\u001b[0;34m\u001b[0m\u001b[0m\n",
      "\u001b[0m\u001b[0;32m   1324 \u001b[0;31m    \u001b[0;32mif\u001b[0m \u001b[0munlimited_dims\u001b[0m \u001b[0;32mis\u001b[0m \u001b[0;32mNone\u001b[0m\u001b[0;34m:\u001b[0m\u001b[0;34m\u001b[0m\u001b[0;34m\u001b[0m\u001b[0m\n",
      "\u001b[0m\n"
     ]
    },
    {
     "name": "stdin",
     "output_type": "stream",
     "text": [
      "ipdb>  u\n"
     ]
    },
    {
     "name": "stdout",
     "output_type": "stream",
     "text": [
      "> \u001b[0;32m/home/shijiegu/anaconda3/envs/spyglass/lib/python3.10/site-packages/xarray/core/dataarray.py\u001b[0m(4095)\u001b[0;36mto_netcdf\u001b[0;34m()\u001b[0m\n",
      "\u001b[0;32m   4093 \u001b[0;31m            \u001b[0mdataset\u001b[0m \u001b[0;34m=\u001b[0m \u001b[0mself\u001b[0m\u001b[0;34m.\u001b[0m\u001b[0mto_dataset\u001b[0m\u001b[0;34m(\u001b[0m\u001b[0;34m)\u001b[0m\u001b[0;34m\u001b[0m\u001b[0;34m\u001b[0m\u001b[0m\n",
      "\u001b[0m\u001b[0;32m   4094 \u001b[0;31m\u001b[0;34m\u001b[0m\u001b[0m\n",
      "\u001b[0m\u001b[0;32m-> 4095 \u001b[0;31m        return to_netcdf(  # type: ignore  # mypy cannot resolve the overloads:(\n",
      "\u001b[0m\u001b[0;32m   4096 \u001b[0;31m            \u001b[0mdataset\u001b[0m\u001b[0;34m,\u001b[0m\u001b[0;34m\u001b[0m\u001b[0;34m\u001b[0m\u001b[0m\n",
      "\u001b[0m\u001b[0;32m   4097 \u001b[0;31m            \u001b[0mpath\u001b[0m\u001b[0;34m,\u001b[0m\u001b[0;34m\u001b[0m\u001b[0;34m\u001b[0m\u001b[0m\n",
      "\u001b[0m\n"
     ]
    },
    {
     "name": "stdin",
     "output_type": "stream",
     "text": [
      "ipdb>  u\n"
     ]
    },
    {
     "name": "stdout",
     "output_type": "stream",
     "text": [
      "> \u001b[0;32m/home/shijiegu/Documents/spyglass/src/spyglass/shijiegu/decodeHelpers.py\u001b[0m(170)\u001b[0;36mdecodePrepMasterSession\u001b[0;34m()\u001b[0m\n",
      "\u001b[0;32m    168 \u001b[0;31m    marks_path=os.path.join(f'/cumulus/shijie/recording_pilot/{animal}/decoding',\n",
      "\u001b[0m\u001b[0;32m    169 \u001b[0;31m                             nwb_copy_file_name+'_'+session_name+'_marks.nc')\n",
      "\u001b[0m\u001b[0;32m--> 170 \u001b[0;31m    \u001b[0mmarks\u001b[0m\u001b[0;34m.\u001b[0m\u001b[0mto_netcdf\u001b[0m\u001b[0;34m(\u001b[0m\u001b[0mmarks_path\u001b[0m\u001b[0;34m,\u001b[0m \u001b[0mengine\u001b[0m \u001b[0;34m=\u001b[0m \u001b[0;34m\"netcdf4\"\u001b[0m\u001b[0;34m)\u001b[0m\u001b[0;34m\u001b[0m\u001b[0;34m\u001b[0m\u001b[0m\n",
      "\u001b[0m\u001b[0;32m    171 \u001b[0;31m\u001b[0;34m\u001b[0m\u001b[0m\n",
      "\u001b[0m\u001b[0;32m    172 \u001b[0;31m    position1d_path=os.path.join(f'/cumulus/shijie/recording_pilot/{animal}/decoding',\n",
      "\u001b[0m\n"
     ]
    },
    {
     "name": "stdin",
     "output_type": "stream",
     "text": [
      "ipdb>  marks_path\n"
     ]
    },
    {
     "name": "stdout",
     "output_type": "stream",
     "text": [
      "'/cumulus/shijie/recording_pilot/klein/decoding/klein20231105_.nwb_02_Rev2Session1_marks.nc'\n"
     ]
    },
    {
     "name": "stdin",
     "output_type": "stream",
     "text": [
      "ipdb>  exity\n"
     ]
    },
    {
     "name": "stdout",
     "output_type": "stream",
     "text": [
      "*** NameError: name 'exity' is not defined\n"
     ]
    },
    {
     "name": "stdin",
     "output_type": "stream",
     "text": [
      "ipdb>  exit\n"
     ]
    }
   ],
   "source": [
    "%debug"
   ]
  },
  {
   "cell_type": "code",
   "execution_count": 21,
   "id": "160d2c0b-37b2-4de0-beeb-40b5427bcd86",
   "metadata": {
    "scrolled": true
   },
   "outputs": [
    {
     "name": "stdout",
     "output_type": "stream",
     "text": [
      "> \u001b[0;32m/home/shijiegu/Documents/spyglass/src/spyglass/decoding/v0/clusterless.py\u001b[0m(187)\u001b[0;36mmake\u001b[0;34m()\u001b[0m\n",
      "\u001b[0;32m    185 \u001b[0;31m\u001b[0;34m\u001b[0m\u001b[0m\n",
      "\u001b[0m\u001b[0;32m    186 \u001b[0;31m        \u001b[0;31m# retrieve the units from the NWB file\u001b[0m\u001b[0;34m\u001b[0m\u001b[0;34m\u001b[0m\u001b[0m\n",
      "\u001b[0m\u001b[0;32m--> 187 \u001b[0;31m        \u001b[0mnwb_units\u001b[0m \u001b[0;34m=\u001b[0m \u001b[0;34m(\u001b[0m\u001b[0mCuratedSpikeSorting\u001b[0m\u001b[0;34m(\u001b[0m\u001b[0;34m)\u001b[0m \u001b[0;34m&\u001b[0m \u001b[0mkey\u001b[0m\u001b[0;34m)\u001b[0m\u001b[0;34m.\u001b[0m\u001b[0mfetch_nwb\u001b[0m\u001b[0;34m(\u001b[0m\u001b[0;34m)\u001b[0m\u001b[0;34m[\u001b[0m\u001b[0;36m0\u001b[0m\u001b[0;34m]\u001b[0m\u001b[0;34m[\u001b[0m\u001b[0;34m\"units\"\u001b[0m\u001b[0;34m]\u001b[0m\u001b[0;34m\u001b[0m\u001b[0;34m\u001b[0m\u001b[0m\n",
      "\u001b[0m\u001b[0;32m    188 \u001b[0;31m\u001b[0;34m\u001b[0m\u001b[0m\n",
      "\u001b[0m\u001b[0;32m    189 \u001b[0;31m        \u001b[0mrecording\u001b[0m \u001b[0;34m=\u001b[0m \u001b[0mCuration\u001b[0m\u001b[0;34m.\u001b[0m\u001b[0mget_recording\u001b[0m\u001b[0;34m(\u001b[0m\u001b[0mkey\u001b[0m\u001b[0;34m)\u001b[0m\u001b[0;34m\u001b[0m\u001b[0;34m\u001b[0m\u001b[0m\n",
      "\u001b[0m\n"
     ]
    },
    {
     "name": "stdin",
     "output_type": "stream",
     "text": [
      "ipdb>  key\n"
     ]
    },
    {
     "name": "stdout",
     "output_type": "stream",
     "text": [
      "{'curation_id': 0, 'nwb_file_name': 'Julio20230811_.nwb', 'sort_group_id': 2, 'sort_interval_name': '02_Seq2Session1', 'preproc_params_name': 'franklab_tetrode_hippocampus', 'team_name': 'SequenceTask', 'sorter': 'clusterless_thresholder', 'sorter_params_name': 'default', 'artifact_removed_interval_list_name': 'Julio20230811_.nwb_02_Seq2Session1_2_franklab_tetrode_hippocampus_ampl_1500_prop_075_1ms_artifact_removed_valid_times_track_time_only', 'mark_param_name': 'default', 'analysis_file_name': 'Julio20230811_KD6PZ2J00L.nwb'}\n"
     ]
    },
    {
     "name": "stdin",
     "output_type": "stream",
     "text": [
      "ipdb>  (CuratedSpikeSorting() & key)\n"
     ]
    },
    {
     "name": "stdout",
     "output_type": "stream",
     "text": [
      "*curation_id   *nwb_file_name *sort_group_id *sort_interval *preproc_param *team_name    *sorter    *sorter_params *artifact_remo analysis_file_ units_object_i\n",
      "+------------+ +------------+ +------------+ +------------+ +------------+ +-----------+ +--------+ +------------+ +------------+ +------------+ +------------+\n",
      "\n",
      " (Total: 0)\n",
      "\n"
     ]
    },
    {
     "name": "stdin",
     "output_type": "stream",
     "text": [
      "ipdb>  CuratedSpikeSorting() & {'curation_id': 0, 'nwb_file_name': 'Julio20230811_.nwb'}\n"
     ]
    },
    {
     "name": "stdout",
     "output_type": "stream",
     "text": [
      "*curation_id   *nwb_file_name *sort_group_id *sort_interval *preproc_param *team_name     *sorter        *sorter_params *artifact_remo analysis_file_ units_object_i\n",
      "+------------+ +------------+ +------------+ +------------+ +------------+ +------------+ +------------+ +------------+ +------------+ +------------+ +------------+\n",
      "0              Julio20230811_ 2              02_Seq2Session franklab_tetro SequenceTask   clusterless_th default        Julio20230811_ Julio20230811_ 953b70d8-0bf2-\n",
      "0              Julio20230811_ 3              02_Seq2Session franklab_tetro SequenceTask   clusterless_th default        Julio20230811_ Julio20230811_ e1db7537-84b3-\n",
      "0              Julio20230811_ 6              02_Seq2Session franklab_tetro SequenceTask   clusterless_th default        Julio20230811_ Julio20230811_ d4433c65-dabc-\n",
      "0              Julio20230811_ 7              02_Seq2Session franklab_tetro SequenceTask   clusterless_th default        Julio20230811_ Julio20230811_ 015f70e8-ec5b-\n",
      "0              Julio20230811_ 8              02_Seq2Session franklab_tetro SequenceTask   clusterless_th default        Julio20230811_ Julio20230811_ 683e631d-89ec-\n",
      "0              Julio20230811_ 11             02_Seq2Session franklab_tetro SequenceTask   clusterless_th default        Julio20230811_ Julio20230811_ c2862d7d-57ae-\n",
      "0              Julio20230811_ 12             02_Seq2Session franklab_tetro SequenceTask   clusterless_th default        Julio20230811_ Julio20230811_ f2e48df8-064d-\n",
      "0              Julio20230811_ 15             02_Seq2Session franklab_tetro SequenceTask   clusterless_th default        Julio20230811_ Julio20230811_ 93b662c0-8851-\n",
      "0              Julio20230811_ 20             02_Seq2Session franklab_tetro SequenceTask   clusterless_th default        Julio20230811_ Julio20230811_ 8109ade8-384b-\n",
      "0              Julio20230811_ 22             02_Seq2Session franklab_tetro SequenceTask   clusterless_th default        Julio20230811_ Julio20230811_ 0ca330dc-0a03-\n",
      "0              Julio20230811_ 26             02_Seq2Session franklab_tetro SequenceTask   clusterless_th default        Julio20230811_ Julio20230811_ b255658a-8d5c-\n",
      "0              Julio20230811_ 28             02_Seq2Session franklab_tetro SequenceTask   clusterless_th default        Julio20230811_ Julio20230811_ 2ecf9d90-ece4-\n",
      "   ...\n",
      " (Total: 25)\n",
      "\n"
     ]
    },
    {
     "name": "stdin",
     "output_type": "stream",
     "text": [
      "ipdb>  exit\n"
     ]
    }
   ],
   "source": [
    "%debug"
   ]
  },
  {
   "cell_type": "code",
   "execution_count": null,
   "id": "e73e3016-2d8d-4ad2-ba41-a44b03d3440d",
   "metadata": {},
   "outputs": [],
   "source": [
    "ArtifactDetectionSelection & {}"
   ]
  },
  {
   "cell_type": "code",
   "execution_count": 14,
   "id": "a4028fbc-f8a2-4655-b5ae-e8c7299a1989",
   "metadata": {},
   "outputs": [
    {
     "name": "stdout",
     "output_type": "stream",
     "text": [
      "> \u001b[0;32m/home/shijiegu/Documents/spyglass/src/spyglass/common/common_interval.py\u001b[0m(299)\u001b[0;36m_intersection\u001b[0;34m()\u001b[0m\n",
      "\u001b[0;32m    297 \u001b[0;31m\u001b[0;32mdef\u001b[0m \u001b[0m_intersection\u001b[0m\u001b[0;34m(\u001b[0m\u001b[0minterval1\u001b[0m\u001b[0;34m,\u001b[0m \u001b[0minterval2\u001b[0m\u001b[0;34m)\u001b[0m\u001b[0;34m:\u001b[0m\u001b[0;34m\u001b[0m\u001b[0;34m\u001b[0m\u001b[0m\n",
      "\u001b[0m\u001b[0;32m    298 \u001b[0;31m    \u001b[0;34m\"\"\"Takes the (set-theoretic) intersection of two intervals\"\"\"\u001b[0m\u001b[0;34m\u001b[0m\u001b[0;34m\u001b[0m\u001b[0m\n",
      "\u001b[0m\u001b[0;32m--> 299 \u001b[0;31m    \u001b[0mstart\u001b[0m \u001b[0;34m=\u001b[0m \u001b[0mmax\u001b[0m\u001b[0;34m(\u001b[0m\u001b[0minterval1\u001b[0m\u001b[0;34m[\u001b[0m\u001b[0;36m0\u001b[0m\u001b[0;34m]\u001b[0m\u001b[0;34m,\u001b[0m \u001b[0minterval2\u001b[0m\u001b[0;34m[\u001b[0m\u001b[0;36m0\u001b[0m\u001b[0;34m]\u001b[0m\u001b[0;34m)\u001b[0m\u001b[0;34m\u001b[0m\u001b[0;34m\u001b[0m\u001b[0m\n",
      "\u001b[0m\u001b[0;32m    300 \u001b[0;31m    \u001b[0mend\u001b[0m \u001b[0;34m=\u001b[0m \u001b[0mmin\u001b[0m\u001b[0;34m(\u001b[0m\u001b[0minterval1\u001b[0m\u001b[0;34m[\u001b[0m\u001b[0;36m1\u001b[0m\u001b[0;34m]\u001b[0m\u001b[0;34m,\u001b[0m \u001b[0minterval2\u001b[0m\u001b[0;34m[\u001b[0m\u001b[0;36m1\u001b[0m\u001b[0;34m]\u001b[0m\u001b[0;34m)\u001b[0m\u001b[0;34m\u001b[0m\u001b[0;34m\u001b[0m\u001b[0m\n",
      "\u001b[0m\u001b[0;32m    301 \u001b[0;31m    \u001b[0mintersection\u001b[0m \u001b[0;34m=\u001b[0m \u001b[0mnp\u001b[0m\u001b[0;34m.\u001b[0m\u001b[0marray\u001b[0m\u001b[0;34m(\u001b[0m\u001b[0;34m[\u001b[0m\u001b[0mstart\u001b[0m\u001b[0;34m,\u001b[0m \u001b[0mend\u001b[0m\u001b[0;34m]\u001b[0m\u001b[0;34m)\u001b[0m \u001b[0;32mif\u001b[0m \u001b[0mend\u001b[0m \u001b[0;34m>\u001b[0m \u001b[0mstart\u001b[0m \u001b[0;32melse\u001b[0m \u001b[0;32mNone\u001b[0m\u001b[0;34m\u001b[0m\u001b[0;34m\u001b[0m\u001b[0m\n",
      "\u001b[0m\n"
     ]
    },
    {
     "name": "stdin",
     "output_type": "stream",
     "text": [
      "ipdb>  interval2\n"
     ]
    },
    {
     "name": "stdout",
     "output_type": "stream",
     "text": [
      "array([], dtype=float64)\n"
     ]
    },
    {
     "name": "stdin",
     "output_type": "stream",
     "text": [
      "ipdb>  interval1\n"
     ]
    },
    {
     "name": "stdout",
     "output_type": "stream",
     "text": [
      "array([1.65022621e+09, 1.65022823e+09])\n"
     ]
    },
    {
     "name": "stdin",
     "output_type": "stream",
     "text": [
      "ipdb>  up\n"
     ]
    },
    {
     "name": "stdout",
     "output_type": "stream",
     "text": [
      "> \u001b[0;32m/home/shijiegu/Documents/spyglass/src/spyglass/common/common_interval.py\u001b[0m(282)\u001b[0;36m<listcomp>\u001b[0;34m()\u001b[0m\n",
      "\u001b[0;32m    280 \u001b[0;31m        \u001b[0;32mfor\u001b[0m \u001b[0minterval2\u001b[0m \u001b[0;32min\u001b[0m \u001b[0minterval_list2\u001b[0m\u001b[0;34m\u001b[0m\u001b[0;34m\u001b[0m\u001b[0m\n",
      "\u001b[0m\u001b[0;32m    281 \u001b[0;31m        \u001b[0;32mfor\u001b[0m \u001b[0minterval1\u001b[0m \u001b[0;32min\u001b[0m \u001b[0minterval_list1\u001b[0m\u001b[0;34m\u001b[0m\u001b[0;34m\u001b[0m\u001b[0m\n",
      "\u001b[0m\u001b[0;32m--> 282 \u001b[0;31m        \u001b[0;32mif\u001b[0m \u001b[0m_intersection\u001b[0m\u001b[0;34m(\u001b[0m\u001b[0minterval2\u001b[0m\u001b[0;34m,\u001b[0m \u001b[0minterval1\u001b[0m\u001b[0;34m)\u001b[0m \u001b[0;32mis\u001b[0m \u001b[0;32mnot\u001b[0m \u001b[0;32mNone\u001b[0m\u001b[0;34m\u001b[0m\u001b[0;34m\u001b[0m\u001b[0m\n",
      "\u001b[0m\u001b[0;32m    283 \u001b[0;31m    ]\n",
      "\u001b[0m\u001b[0;32m    284 \u001b[0;31m\u001b[0;34m\u001b[0m\u001b[0m\n",
      "\u001b[0m\n"
     ]
    },
    {
     "name": "stdin",
     "output_type": "stream",
     "text": [
      "ipdb>  u\n"
     ]
    },
    {
     "name": "stdout",
     "output_type": "stream",
     "text": [
      "> \u001b[0;32m/home/shijiegu/Documents/spyglass/src/spyglass/common/common_interval.py\u001b[0m(278)\u001b[0;36minterval_list_intersect\u001b[0;34m()\u001b[0m\n",
      "\u001b[0;32m    276 \u001b[0;31m\u001b[0;34m\u001b[0m\u001b[0m\n",
      "\u001b[0m\u001b[0;32m    277 \u001b[0;31m    \u001b[0;31m# then do pairwise comparison and collect intersections\u001b[0m\u001b[0;34m\u001b[0m\u001b[0;34m\u001b[0m\u001b[0m\n",
      "\u001b[0m\u001b[0;32m--> 278 \u001b[0;31m    intersecting_intervals = [\n",
      "\u001b[0m\u001b[0;32m    279 \u001b[0;31m        \u001b[0m_intersection\u001b[0m\u001b[0;34m(\u001b[0m\u001b[0minterval2\u001b[0m\u001b[0;34m,\u001b[0m \u001b[0minterval1\u001b[0m\u001b[0;34m)\u001b[0m\u001b[0;34m\u001b[0m\u001b[0;34m\u001b[0m\u001b[0m\n",
      "\u001b[0m\u001b[0;32m    280 \u001b[0;31m        \u001b[0;32mfor\u001b[0m \u001b[0minterval2\u001b[0m \u001b[0;32min\u001b[0m \u001b[0minterval_list2\u001b[0m\u001b[0;34m\u001b[0m\u001b[0;34m\u001b[0m\u001b[0m\n",
      "\u001b[0m\n"
     ]
    },
    {
     "name": "stdin",
     "output_type": "stream",
     "text": [
      "ipdb>  u\n"
     ]
    },
    {
     "name": "stdout",
     "output_type": "stream",
     "text": [
      "> \u001b[0;32m/home/shijiegu/Documents/spyglass/src/spyglass/shijiegu/decodeHelpers.py\u001b[0m(228)\u001b[0;36mthresholder_sort\u001b[0;34m()\u001b[0m\n",
      "\u001b[0;32m    226 \u001b[0;31m        \u001b[0mtrial_last_t\u001b[0m \u001b[0;34m=\u001b[0m \u001b[0mStateScript\u001b[0m\u001b[0;34m.\u001b[0m\u001b[0mloc\u001b[0m\u001b[0;34m[\u001b[0m\u001b[0mlen\u001b[0m\u001b[0;34m(\u001b[0m\u001b[0mStateScript\u001b[0m\u001b[0;34m)\u001b[0m\u001b[0;34m-\u001b[0m\u001b[0;36m1\u001b[0m\u001b[0;34m]\u001b[0m\u001b[0;34m.\u001b[0m\u001b[0mtimestamp_O\u001b[0m\u001b[0;34m\u001b[0m\u001b[0;34m\u001b[0m\u001b[0m\n",
      "\u001b[0m\u001b[0;32m    227 \u001b[0;31m\u001b[0;34m\u001b[0m\u001b[0m\n",
      "\u001b[0m\u001b[0;32m--> 228 \u001b[0;31m        \u001b[0martifact_removed_time_list\u001b[0m\u001b[0;34m=\u001b[0m\u001b[0minterval_list_intersect\u001b[0m\u001b[0;34m(\u001b[0m\u001b[0martifact_removed_time_list\u001b[0m\u001b[0;34m,\u001b[0m\u001b[0mnp\u001b[0m\u001b[0;34m.\u001b[0m\u001b[0marray\u001b[0m\u001b[0;34m(\u001b[0m\u001b[0;34m[\u001b[0m\u001b[0mtrial_1_t\u001b[0m\u001b[0;34m,\u001b[0m\u001b[0mtrial_last_t\u001b[0m\u001b[0;34m]\u001b[0m\u001b[0;34m)\u001b[0m\u001b[0;34m)\u001b[0m\u001b[0;34m\u001b[0m\u001b[0;34m\u001b[0m\u001b[0m\n",
      "\u001b[0m\u001b[0;32m    229 \u001b[0;31m    \u001b[0;32melse\u001b[0m\u001b[0;34m:\u001b[0m\u001b[0;34m\u001b[0m\u001b[0;34m\u001b[0m\u001b[0m\n",
      "\u001b[0m\u001b[0;32m    230 \u001b[0;31m        \u001b[0martifact_removed_time_list\u001b[0m \u001b[0;34m=\u001b[0m \u001b[0martifact_removed_time_list\u001b[0m\u001b[0;34m.\u001b[0m\u001b[0mreshape\u001b[0m\u001b[0;34m(\u001b[0m\u001b[0;34m(\u001b[0m\u001b[0;34m-\u001b[0m\u001b[0;36m1\u001b[0m\u001b[0;34m,\u001b[0m\u001b[0;36m2\u001b[0m\u001b[0;34m)\u001b[0m\u001b[0;34m)\u001b[0m\u001b[0;34m\u001b[0m\u001b[0;34m\u001b[0m\u001b[0m\n",
      "\u001b[0m\n"
     ]
    },
    {
     "name": "stdin",
     "output_type": "stream",
     "text": [
      "ipdb>  np.array([trial_1_t,trial_last_t]\n"
     ]
    },
    {
     "name": "stdout",
     "output_type": "stream",
     "text": [
      "*** SyntaxError: unexpected EOF while parsing\n"
     ]
    },
    {
     "name": "stdin",
     "output_type": "stream",
     "text": [
      "ipdb>  np.array([trial_1_t,trial_last_t])\n"
     ]
    },
    {
     "name": "stdout",
     "output_type": "stream",
     "text": [
      "array([1.65022621e+09, 1.65022823e+09])\n"
     ]
    },
    {
     "name": "stdin",
     "output_type": "stream",
     "text": [
      "ipdb>  artifact_removed_time_list\n"
     ]
    },
    {
     "name": "stdout",
     "output_type": "stream",
     "text": [
      "array([], dtype=float64)\n"
     ]
    },
    {
     "name": "stdin",
     "output_type": "stream",
     "text": [
      "ipdb>  exit\n"
     ]
    }
   ],
   "source": [
    "%debug"
   ]
  },
  {
   "cell_type": "code",
   "execution_count": 32,
   "id": "db991a06-cc3a-4865-85ac-b090675b9eba",
   "metadata": {},
   "outputs": [
    {
     "data": {
      "text/plain": [
       "spyglass.spikesorting.v0.spikesorting_artifact.ArtifactDetectionSelection"
      ]
     },
     "execution_count": 32,
     "metadata": {},
     "output_type": "execute_result"
    }
   ],
   "source": [
    "ArtifactDetectionSelection"
   ]
  },
  {
   "cell_type": "code",
   "execution_count": 80,
   "id": "ff880b71-2fa3-44de-a3f4-98e4defd2709",
   "metadata": {
    "scrolled": true
   },
   "outputs": [
    {
     "name": "stdout",
     "output_type": "stream",
     "text": [
      "2\n",
      "inserting into IntervalList\n",
      "done inserting into IntervalList\n",
      "3\n",
      "inserting into IntervalList\n",
      "done inserting into IntervalList\n",
      "6\n",
      "inserting into IntervalList\n",
      "done inserting into IntervalList\n",
      "7\n",
      "inserting into IntervalList\n",
      "done inserting into IntervalList\n",
      "8\n",
      "inserting into IntervalList\n",
      "done inserting into IntervalList\n",
      "11\n",
      "inserting into IntervalList\n",
      "done inserting into IntervalList\n",
      "12\n",
      "inserting into IntervalList\n",
      "done inserting into IntervalList\n",
      "15\n",
      "inserting into IntervalList\n",
      "done inserting into IntervalList\n",
      "20\n",
      "inserting into IntervalList\n",
      "done inserting into IntervalList\n",
      "22\n",
      "inserting into IntervalList\n",
      "done inserting into IntervalList\n",
      "26\n",
      "inserting into IntervalList\n",
      "done inserting into IntervalList\n",
      "28\n",
      "inserting into IntervalList\n",
      "done inserting into IntervalList\n",
      "29\n",
      "inserting into IntervalList\n",
      "done inserting into IntervalList\n",
      "30\n",
      "inserting into IntervalList\n",
      "done inserting into IntervalList\n",
      "31\n",
      "inserting into IntervalList\n",
      "done inserting into IntervalList\n",
      "36\n",
      "inserting into IntervalList\n",
      "done inserting into IntervalList\n",
      "42\n",
      "inserting into IntervalList\n",
      "done inserting into IntervalList\n",
      "43\n",
      "inserting into IntervalList\n",
      "done inserting into IntervalList\n",
      "45\n",
      "inserting into IntervalList\n",
      "done inserting into IntervalList\n",
      "47\n",
      "inserting into IntervalList\n",
      "done inserting into IntervalList\n",
      "49\n",
      "inserting into IntervalList\n",
      "done inserting into IntervalList\n",
      "50\n",
      "inserting into IntervalList\n",
      "done inserting into IntervalList\n",
      "51\n",
      "inserting into IntervalList\n",
      "done inserting into IntervalList\n",
      "55\n",
      "inserting into IntervalList\n",
      "done inserting into IntervalList\n",
      "56\n",
      "inserting into IntervalList\n",
      "done inserting into IntervalList\n",
      "61\n",
      "inserting into IntervalList\n",
      "done inserting into IntervalList\n"
     ]
    },
    {
     "name": "stderr",
     "output_type": "stream",
     "text": [
      "[09:43:53][INFO] Spyglass: Running spike sorting on {'nwb_file_name': 'Julio20230804_.nwb', 'sort_group_id': 11, 'sort_interval_name': '01_Seq2Sleep1', 'preproc_params_name': 'franklab_tetrode_hippocampus', 'team_name': 'SequenceTask', 'sorter': 'clusterless_thresholder', 'sorter_params_name': 'default', 'artifact_removed_interval_list_name': 'Julio20230804_.nwb_01_Seq2Sleep1_11_franklab_tetrode_hippocampus_ampl_1500_prop_075_1ms_artifact_removed_valid_times_track_time_only'}...\n",
      "03-May-25 09:43:53 Running spike sorting on {'nwb_file_name': 'Julio20230804_.nwb', 'sort_group_id': 11, 'sort_interval_name': '01_Seq2Sleep1', 'preproc_params_name': 'franklab_tetrode_hippocampus', 'team_name': 'SequenceTask', 'sorter': 'clusterless_thresholder', 'sorter_params_name': 'default', 'artifact_removed_interval_list_name': 'Julio20230804_.nwb_01_Seq2Sleep1_11_franklab_tetrode_hippocampus_ampl_1500_prop_075_1ms_artifact_removed_valid_times_track_time_only'}...\n"
     ]
    },
    {
     "data": {
      "application/vnd.jupyter.widget-view+json": {
       "model_id": "fa429475121342eca6aac683283919d9",
       "version_major": 2,
       "version_minor": 0
      },
      "text/plain": [
       "detect peaks using locally_exclusive:   0%|          | 0/717 [00:00<?, ?it/s]"
      ]
     },
     "metadata": {},
     "output_type": "display_data"
    },
    {
     "name": "stderr",
     "output_type": "stream",
     "text": [
      "[09:43:58][INFO] Spyglass: Saving sorting results...\n",
      "03-May-25 09:43:58 Saving sorting results...\n",
      "[09:44:00][INFO] Spyglass: Running spike sorting on {'nwb_file_name': 'Julio20230804_.nwb', 'sort_group_id': 12, 'sort_interval_name': '01_Seq2Sleep1', 'preproc_params_name': 'franklab_tetrode_hippocampus', 'team_name': 'SequenceTask', 'sorter': 'clusterless_thresholder', 'sorter_params_name': 'default', 'artifact_removed_interval_list_name': 'Julio20230804_.nwb_01_Seq2Sleep1_12_franklab_tetrode_hippocampus_ampl_1500_prop_075_1ms_artifact_removed_valid_times_track_time_only'}...\n",
      "03-May-25 09:44:00 Running spike sorting on {'nwb_file_name': 'Julio20230804_.nwb', 'sort_group_id': 12, 'sort_interval_name': '01_Seq2Sleep1', 'preproc_params_name': 'franklab_tetrode_hippocampus', 'team_name': 'SequenceTask', 'sorter': 'clusterless_thresholder', 'sorter_params_name': 'default', 'artifact_removed_interval_list_name': 'Julio20230804_.nwb_01_Seq2Sleep1_12_franklab_tetrode_hippocampus_ampl_1500_prop_075_1ms_artifact_removed_valid_times_track_time_only'}...\n"
     ]
    },
    {
     "data": {
      "application/vnd.jupyter.widget-view+json": {
       "model_id": "46f56c2a343c47659619f2f58f1b6676",
       "version_major": 2,
       "version_minor": 0
      },
      "text/plain": [
       "detect peaks using locally_exclusive:   0%|          | 0/717 [00:00<?, ?it/s]"
      ]
     },
     "metadata": {},
     "output_type": "display_data"
    },
    {
     "name": "stderr",
     "output_type": "stream",
     "text": [
      "[09:44:02][INFO] Spyglass: Saving sorting results...\n",
      "03-May-25 09:44:02 Saving sorting results...\n",
      "[09:44:03][INFO] Spyglass: Running spike sorting on {'nwb_file_name': 'Julio20230804_.nwb', 'sort_group_id': 15, 'sort_interval_name': '01_Seq2Sleep1', 'preproc_params_name': 'franklab_tetrode_hippocampus', 'team_name': 'SequenceTask', 'sorter': 'clusterless_thresholder', 'sorter_params_name': 'default', 'artifact_removed_interval_list_name': 'Julio20230804_.nwb_01_Seq2Sleep1_15_franklab_tetrode_hippocampus_ampl_1500_prop_075_1ms_artifact_removed_valid_times_track_time_only'}...\n",
      "03-May-25 09:44:03 Running spike sorting on {'nwb_file_name': 'Julio20230804_.nwb', 'sort_group_id': 15, 'sort_interval_name': '01_Seq2Sleep1', 'preproc_params_name': 'franklab_tetrode_hippocampus', 'team_name': 'SequenceTask', 'sorter': 'clusterless_thresholder', 'sorter_params_name': 'default', 'artifact_removed_interval_list_name': 'Julio20230804_.nwb_01_Seq2Sleep1_15_franklab_tetrode_hippocampus_ampl_1500_prop_075_1ms_artifact_removed_valid_times_track_time_only'}...\n"
     ]
    },
    {
     "data": {
      "application/vnd.jupyter.widget-view+json": {
       "model_id": "769bb0f840d04450a5ede61e5515f6f5",
       "version_major": 2,
       "version_minor": 0
      },
      "text/plain": [
       "detect peaks using locally_exclusive:   0%|          | 0/717 [00:00<?, ?it/s]"
      ]
     },
     "metadata": {},
     "output_type": "display_data"
    },
    {
     "name": "stderr",
     "output_type": "stream",
     "text": [
      "[09:44:06][INFO] Spyglass: Saving sorting results...\n",
      "03-May-25 09:44:06 Saving sorting results...\n",
      "[09:44:08][INFO] Spyglass: Running spike sorting on {'nwb_file_name': 'Julio20230804_.nwb', 'sort_group_id': 20, 'sort_interval_name': '01_Seq2Sleep1', 'preproc_params_name': 'franklab_tetrode_hippocampus', 'team_name': 'SequenceTask', 'sorter': 'clusterless_thresholder', 'sorter_params_name': 'default', 'artifact_removed_interval_list_name': 'Julio20230804_.nwb_01_Seq2Sleep1_20_franklab_tetrode_hippocampus_ampl_1500_prop_075_1ms_artifact_removed_valid_times_track_time_only'}...\n",
      "03-May-25 09:44:08 Running spike sorting on {'nwb_file_name': 'Julio20230804_.nwb', 'sort_group_id': 20, 'sort_interval_name': '01_Seq2Sleep1', 'preproc_params_name': 'franklab_tetrode_hippocampus', 'team_name': 'SequenceTask', 'sorter': 'clusterless_thresholder', 'sorter_params_name': 'default', 'artifact_removed_interval_list_name': 'Julio20230804_.nwb_01_Seq2Sleep1_20_franklab_tetrode_hippocampus_ampl_1500_prop_075_1ms_artifact_removed_valid_times_track_time_only'}...\n"
     ]
    },
    {
     "data": {
      "application/vnd.jupyter.widget-view+json": {
       "model_id": "a254762688da413bb4b937c855a8559e",
       "version_major": 2,
       "version_minor": 0
      },
      "text/plain": [
       "detect peaks using locally_exclusive:   0%|          | 0/717 [00:00<?, ?it/s]"
      ]
     },
     "metadata": {},
     "output_type": "display_data"
    },
    {
     "name": "stderr",
     "output_type": "stream",
     "text": [
      "[09:44:10][INFO] Spyglass: Saving sorting results...\n",
      "03-May-25 09:44:10 Saving sorting results...\n",
      "[09:44:12][INFO] Spyglass: Running spike sorting on {'nwb_file_name': 'Julio20230804_.nwb', 'sort_group_id': 22, 'sort_interval_name': '01_Seq2Sleep1', 'preproc_params_name': 'franklab_tetrode_hippocampus', 'team_name': 'SequenceTask', 'sorter': 'clusterless_thresholder', 'sorter_params_name': 'default', 'artifact_removed_interval_list_name': 'Julio20230804_.nwb_01_Seq2Sleep1_22_franklab_tetrode_hippocampus_ampl_1500_prop_075_1ms_artifact_removed_valid_times_track_time_only'}...\n",
      "03-May-25 09:44:12 Running spike sorting on {'nwb_file_name': 'Julio20230804_.nwb', 'sort_group_id': 22, 'sort_interval_name': '01_Seq2Sleep1', 'preproc_params_name': 'franklab_tetrode_hippocampus', 'team_name': 'SequenceTask', 'sorter': 'clusterless_thresholder', 'sorter_params_name': 'default', 'artifact_removed_interval_list_name': 'Julio20230804_.nwb_01_Seq2Sleep1_22_franklab_tetrode_hippocampus_ampl_1500_prop_075_1ms_artifact_removed_valid_times_track_time_only'}...\n"
     ]
    },
    {
     "data": {
      "application/vnd.jupyter.widget-view+json": {
       "model_id": "943a25fa6b0442e08f82d73b6c1d5c65",
       "version_major": 2,
       "version_minor": 0
      },
      "text/plain": [
       "detect peaks using locally_exclusive:   0%|          | 0/717 [00:00<?, ?it/s]"
      ]
     },
     "metadata": {},
     "output_type": "display_data"
    },
    {
     "name": "stderr",
     "output_type": "stream",
     "text": [
      "[09:44:14][INFO] Spyglass: Saving sorting results...\n",
      "03-May-25 09:44:14 Saving sorting results...\n",
      "[09:44:16][INFO] Spyglass: Running spike sorting on {'nwb_file_name': 'Julio20230804_.nwb', 'sort_group_id': 26, 'sort_interval_name': '01_Seq2Sleep1', 'preproc_params_name': 'franklab_tetrode_hippocampus', 'team_name': 'SequenceTask', 'sorter': 'clusterless_thresholder', 'sorter_params_name': 'default', 'artifact_removed_interval_list_name': 'Julio20230804_.nwb_01_Seq2Sleep1_26_franklab_tetrode_hippocampus_ampl_1500_prop_075_1ms_artifact_removed_valid_times_track_time_only'}...\n",
      "03-May-25 09:44:16 Running spike sorting on {'nwb_file_name': 'Julio20230804_.nwb', 'sort_group_id': 26, 'sort_interval_name': '01_Seq2Sleep1', 'preproc_params_name': 'franklab_tetrode_hippocampus', 'team_name': 'SequenceTask', 'sorter': 'clusterless_thresholder', 'sorter_params_name': 'default', 'artifact_removed_interval_list_name': 'Julio20230804_.nwb_01_Seq2Sleep1_26_franklab_tetrode_hippocampus_ampl_1500_prop_075_1ms_artifact_removed_valid_times_track_time_only'}...\n"
     ]
    },
    {
     "data": {
      "application/vnd.jupyter.widget-view+json": {
       "model_id": "2174d784d1914189a69f38e7045ab10e",
       "version_major": 2,
       "version_minor": 0
      },
      "text/plain": [
       "detect peaks using locally_exclusive:   0%|          | 0/717 [00:00<?, ?it/s]"
      ]
     },
     "metadata": {},
     "output_type": "display_data"
    },
    {
     "name": "stderr",
     "output_type": "stream",
     "text": [
      "[09:44:18][INFO] Spyglass: Saving sorting results...\n",
      "03-May-25 09:44:18 Saving sorting results...\n",
      "[09:44:19][INFO] Spyglass: Running spike sorting on {'nwb_file_name': 'Julio20230804_.nwb', 'sort_group_id': 28, 'sort_interval_name': '01_Seq2Sleep1', 'preproc_params_name': 'franklab_tetrode_hippocampus', 'team_name': 'SequenceTask', 'sorter': 'clusterless_thresholder', 'sorter_params_name': 'default', 'artifact_removed_interval_list_name': 'Julio20230804_.nwb_01_Seq2Sleep1_28_franklab_tetrode_hippocampus_ampl_1500_prop_075_1ms_artifact_removed_valid_times_track_time_only'}...\n",
      "03-May-25 09:44:19 Running spike sorting on {'nwb_file_name': 'Julio20230804_.nwb', 'sort_group_id': 28, 'sort_interval_name': '01_Seq2Sleep1', 'preproc_params_name': 'franklab_tetrode_hippocampus', 'team_name': 'SequenceTask', 'sorter': 'clusterless_thresholder', 'sorter_params_name': 'default', 'artifact_removed_interval_list_name': 'Julio20230804_.nwb_01_Seq2Sleep1_28_franklab_tetrode_hippocampus_ampl_1500_prop_075_1ms_artifact_removed_valid_times_track_time_only'}...\n"
     ]
    },
    {
     "data": {
      "application/vnd.jupyter.widget-view+json": {
       "model_id": "a0694c87847f43bd83f1c8b285049b7d",
       "version_major": 2,
       "version_minor": 0
      },
      "text/plain": [
       "detect peaks using locally_exclusive:   0%|          | 0/717 [00:00<?, ?it/s]"
      ]
     },
     "metadata": {},
     "output_type": "display_data"
    },
    {
     "name": "stderr",
     "output_type": "stream",
     "text": [
      "[09:44:21][INFO] Spyglass: Saving sorting results...\n",
      "03-May-25 09:44:21 Saving sorting results...\n",
      "[09:44:23][INFO] Spyglass: Running spike sorting on {'nwb_file_name': 'Julio20230804_.nwb', 'sort_group_id': 29, 'sort_interval_name': '01_Seq2Sleep1', 'preproc_params_name': 'franklab_tetrode_hippocampus', 'team_name': 'SequenceTask', 'sorter': 'clusterless_thresholder', 'sorter_params_name': 'default', 'artifact_removed_interval_list_name': 'Julio20230804_.nwb_01_Seq2Sleep1_29_franklab_tetrode_hippocampus_ampl_1500_prop_075_1ms_artifact_removed_valid_times_track_time_only'}...\n",
      "03-May-25 09:44:23 Running spike sorting on {'nwb_file_name': 'Julio20230804_.nwb', 'sort_group_id': 29, 'sort_interval_name': '01_Seq2Sleep1', 'preproc_params_name': 'franklab_tetrode_hippocampus', 'team_name': 'SequenceTask', 'sorter': 'clusterless_thresholder', 'sorter_params_name': 'default', 'artifact_removed_interval_list_name': 'Julio20230804_.nwb_01_Seq2Sleep1_29_franklab_tetrode_hippocampus_ampl_1500_prop_075_1ms_artifact_removed_valid_times_track_time_only'}...\n"
     ]
    },
    {
     "data": {
      "application/vnd.jupyter.widget-view+json": {
       "model_id": "1924e74217de4f819ade1de46170d117",
       "version_major": 2,
       "version_minor": 0
      },
      "text/plain": [
       "detect peaks using locally_exclusive:   0%|          | 0/717 [00:00<?, ?it/s]"
      ]
     },
     "metadata": {},
     "output_type": "display_data"
    },
    {
     "name": "stderr",
     "output_type": "stream",
     "text": [
      "[09:44:24][INFO] Spyglass: Saving sorting results...\n",
      "03-May-25 09:44:24 Saving sorting results...\n",
      "[09:44:26][INFO] Spyglass: Running spike sorting on {'nwb_file_name': 'Julio20230804_.nwb', 'sort_group_id': 2, 'sort_interval_name': '01_Seq2Sleep1', 'preproc_params_name': 'franklab_tetrode_hippocampus', 'team_name': 'SequenceTask', 'sorter': 'clusterless_thresholder', 'sorter_params_name': 'default', 'artifact_removed_interval_list_name': 'Julio20230804_.nwb_01_Seq2Sleep1_2_franklab_tetrode_hippocampus_ampl_1500_prop_075_1ms_artifact_removed_valid_times_track_time_only'}...\n",
      "03-May-25 09:44:26 Running spike sorting on {'nwb_file_name': 'Julio20230804_.nwb', 'sort_group_id': 2, 'sort_interval_name': '01_Seq2Sleep1', 'preproc_params_name': 'franklab_tetrode_hippocampus', 'team_name': 'SequenceTask', 'sorter': 'clusterless_thresholder', 'sorter_params_name': 'default', 'artifact_removed_interval_list_name': 'Julio20230804_.nwb_01_Seq2Sleep1_2_franklab_tetrode_hippocampus_ampl_1500_prop_075_1ms_artifact_removed_valid_times_track_time_only'}...\n"
     ]
    },
    {
     "data": {
      "application/vnd.jupyter.widget-view+json": {
       "model_id": "d6f63b4b399f4e4db62e0259eab66638",
       "version_major": 2,
       "version_minor": 0
      },
      "text/plain": [
       "detect peaks using locally_exclusive:   0%|          | 0/717 [00:00<?, ?it/s]"
      ]
     },
     "metadata": {},
     "output_type": "display_data"
    },
    {
     "name": "stderr",
     "output_type": "stream",
     "text": [
      "[09:44:28][INFO] Spyglass: Saving sorting results...\n",
      "03-May-25 09:44:28 Saving sorting results...\n",
      "[09:44:30][INFO] Spyglass: Running spike sorting on {'nwb_file_name': 'Julio20230804_.nwb', 'sort_group_id': 30, 'sort_interval_name': '01_Seq2Sleep1', 'preproc_params_name': 'franklab_tetrode_hippocampus', 'team_name': 'SequenceTask', 'sorter': 'clusterless_thresholder', 'sorter_params_name': 'default', 'artifact_removed_interval_list_name': 'Julio20230804_.nwb_01_Seq2Sleep1_30_franklab_tetrode_hippocampus_ampl_1500_prop_075_1ms_artifact_removed_valid_times_track_time_only'}...\n",
      "03-May-25 09:44:30 Running spike sorting on {'nwb_file_name': 'Julio20230804_.nwb', 'sort_group_id': 30, 'sort_interval_name': '01_Seq2Sleep1', 'preproc_params_name': 'franklab_tetrode_hippocampus', 'team_name': 'SequenceTask', 'sorter': 'clusterless_thresholder', 'sorter_params_name': 'default', 'artifact_removed_interval_list_name': 'Julio20230804_.nwb_01_Seq2Sleep1_30_franklab_tetrode_hippocampus_ampl_1500_prop_075_1ms_artifact_removed_valid_times_track_time_only'}...\n"
     ]
    },
    {
     "data": {
      "application/vnd.jupyter.widget-view+json": {
       "model_id": "6567357d22f147408d0747e36d881dfa",
       "version_major": 2,
       "version_minor": 0
      },
      "text/plain": [
       "detect peaks using locally_exclusive:   0%|          | 0/717 [00:00<?, ?it/s]"
      ]
     },
     "metadata": {},
     "output_type": "display_data"
    },
    {
     "name": "stderr",
     "output_type": "stream",
     "text": [
      "[09:44:32][INFO] Spyglass: Saving sorting results...\n",
      "03-May-25 09:44:32 Saving sorting results...\n",
      "[09:44:34][INFO] Spyglass: Running spike sorting on {'nwb_file_name': 'Julio20230804_.nwb', 'sort_group_id': 31, 'sort_interval_name': '01_Seq2Sleep1', 'preproc_params_name': 'franklab_tetrode_hippocampus', 'team_name': 'SequenceTask', 'sorter': 'clusterless_thresholder', 'sorter_params_name': 'default', 'artifact_removed_interval_list_name': 'Julio20230804_.nwb_01_Seq2Sleep1_31_franklab_tetrode_hippocampus_ampl_1500_prop_075_1ms_artifact_removed_valid_times_track_time_only'}...\n",
      "03-May-25 09:44:34 Running spike sorting on {'nwb_file_name': 'Julio20230804_.nwb', 'sort_group_id': 31, 'sort_interval_name': '01_Seq2Sleep1', 'preproc_params_name': 'franklab_tetrode_hippocampus', 'team_name': 'SequenceTask', 'sorter': 'clusterless_thresholder', 'sorter_params_name': 'default', 'artifact_removed_interval_list_name': 'Julio20230804_.nwb_01_Seq2Sleep1_31_franklab_tetrode_hippocampus_ampl_1500_prop_075_1ms_artifact_removed_valid_times_track_time_only'}...\n"
     ]
    },
    {
     "data": {
      "application/vnd.jupyter.widget-view+json": {
       "model_id": "f041359d43ff4a29958bc2eb6c3f1923",
       "version_major": 2,
       "version_minor": 0
      },
      "text/plain": [
       "detect peaks using locally_exclusive:   0%|          | 0/717 [00:00<?, ?it/s]"
      ]
     },
     "metadata": {},
     "output_type": "display_data"
    },
    {
     "name": "stderr",
     "output_type": "stream",
     "text": [
      "[09:44:36][INFO] Spyglass: Saving sorting results...\n",
      "03-May-25 09:44:36 Saving sorting results...\n",
      "[09:44:39][INFO] Spyglass: Running spike sorting on {'nwb_file_name': 'Julio20230804_.nwb', 'sort_group_id': 36, 'sort_interval_name': '01_Seq2Sleep1', 'preproc_params_name': 'franklab_tetrode_hippocampus', 'team_name': 'SequenceTask', 'sorter': 'clusterless_thresholder', 'sorter_params_name': 'default', 'artifact_removed_interval_list_name': 'Julio20230804_.nwb_01_Seq2Sleep1_36_franklab_tetrode_hippocampus_ampl_1500_prop_075_1ms_artifact_removed_valid_times_track_time_only'}...\n",
      "03-May-25 09:44:39 Running spike sorting on {'nwb_file_name': 'Julio20230804_.nwb', 'sort_group_id': 36, 'sort_interval_name': '01_Seq2Sleep1', 'preproc_params_name': 'franklab_tetrode_hippocampus', 'team_name': 'SequenceTask', 'sorter': 'clusterless_thresholder', 'sorter_params_name': 'default', 'artifact_removed_interval_list_name': 'Julio20230804_.nwb_01_Seq2Sleep1_36_franklab_tetrode_hippocampus_ampl_1500_prop_075_1ms_artifact_removed_valid_times_track_time_only'}...\n"
     ]
    },
    {
     "data": {
      "application/vnd.jupyter.widget-view+json": {
       "model_id": "e3fd7890112d423e8fb4b094f56ec632",
       "version_major": 2,
       "version_minor": 0
      },
      "text/plain": [
       "detect peaks using locally_exclusive:   0%|          | 0/717 [00:00<?, ?it/s]"
      ]
     },
     "metadata": {},
     "output_type": "display_data"
    },
    {
     "name": "stderr",
     "output_type": "stream",
     "text": [
      "[09:44:41][INFO] Spyglass: Saving sorting results...\n",
      "03-May-25 09:44:41 Saving sorting results...\n",
      "[09:44:43][INFO] Spyglass: Running spike sorting on {'nwb_file_name': 'Julio20230804_.nwb', 'sort_group_id': 3, 'sort_interval_name': '01_Seq2Sleep1', 'preproc_params_name': 'franklab_tetrode_hippocampus', 'team_name': 'SequenceTask', 'sorter': 'clusterless_thresholder', 'sorter_params_name': 'default', 'artifact_removed_interval_list_name': 'Julio20230804_.nwb_01_Seq2Sleep1_3_franklab_tetrode_hippocampus_ampl_1500_prop_075_1ms_artifact_removed_valid_times_track_time_only'}...\n",
      "03-May-25 09:44:43 Running spike sorting on {'nwb_file_name': 'Julio20230804_.nwb', 'sort_group_id': 3, 'sort_interval_name': '01_Seq2Sleep1', 'preproc_params_name': 'franklab_tetrode_hippocampus', 'team_name': 'SequenceTask', 'sorter': 'clusterless_thresholder', 'sorter_params_name': 'default', 'artifact_removed_interval_list_name': 'Julio20230804_.nwb_01_Seq2Sleep1_3_franklab_tetrode_hippocampus_ampl_1500_prop_075_1ms_artifact_removed_valid_times_track_time_only'}...\n"
     ]
    },
    {
     "data": {
      "application/vnd.jupyter.widget-view+json": {
       "model_id": "2969abcff9b1408d8a57ffa843ed45eb",
       "version_major": 2,
       "version_minor": 0
      },
      "text/plain": [
       "detect peaks using locally_exclusive:   0%|          | 0/717 [00:00<?, ?it/s]"
      ]
     },
     "metadata": {},
     "output_type": "display_data"
    },
    {
     "name": "stderr",
     "output_type": "stream",
     "text": [
      "[09:44:45][INFO] Spyglass: Saving sorting results...\n",
      "03-May-25 09:44:45 Saving sorting results...\n",
      "[09:44:48][INFO] Spyglass: Running spike sorting on {'nwb_file_name': 'Julio20230804_.nwb', 'sort_group_id': 42, 'sort_interval_name': '01_Seq2Sleep1', 'preproc_params_name': 'franklab_tetrode_hippocampus', 'team_name': 'SequenceTask', 'sorter': 'clusterless_thresholder', 'sorter_params_name': 'default', 'artifact_removed_interval_list_name': 'Julio20230804_.nwb_01_Seq2Sleep1_42_franklab_tetrode_hippocampus_ampl_1500_prop_075_1ms_artifact_removed_valid_times_track_time_only'}...\n",
      "03-May-25 09:44:48 Running spike sorting on {'nwb_file_name': 'Julio20230804_.nwb', 'sort_group_id': 42, 'sort_interval_name': '01_Seq2Sleep1', 'preproc_params_name': 'franklab_tetrode_hippocampus', 'team_name': 'SequenceTask', 'sorter': 'clusterless_thresholder', 'sorter_params_name': 'default', 'artifact_removed_interval_list_name': 'Julio20230804_.nwb_01_Seq2Sleep1_42_franklab_tetrode_hippocampus_ampl_1500_prop_075_1ms_artifact_removed_valid_times_track_time_only'}...\n"
     ]
    },
    {
     "data": {
      "application/vnd.jupyter.widget-view+json": {
       "model_id": "0d328da4ff6c4d20a74c6129277a828e",
       "version_major": 2,
       "version_minor": 0
      },
      "text/plain": [
       "detect peaks using locally_exclusive:   0%|          | 0/717 [00:00<?, ?it/s]"
      ]
     },
     "metadata": {},
     "output_type": "display_data"
    },
    {
     "name": "stderr",
     "output_type": "stream",
     "text": [
      "[09:44:50][INFO] Spyglass: Saving sorting results...\n",
      "03-May-25 09:44:50 Saving sorting results...\n",
      "[09:44:52][INFO] Spyglass: Running spike sorting on {'nwb_file_name': 'Julio20230804_.nwb', 'sort_group_id': 43, 'sort_interval_name': '01_Seq2Sleep1', 'preproc_params_name': 'franklab_tetrode_hippocampus', 'team_name': 'SequenceTask', 'sorter': 'clusterless_thresholder', 'sorter_params_name': 'default', 'artifact_removed_interval_list_name': 'Julio20230804_.nwb_01_Seq2Sleep1_43_franklab_tetrode_hippocampus_ampl_1500_prop_075_1ms_artifact_removed_valid_times_track_time_only'}...\n",
      "03-May-25 09:44:52 Running spike sorting on {'nwb_file_name': 'Julio20230804_.nwb', 'sort_group_id': 43, 'sort_interval_name': '01_Seq2Sleep1', 'preproc_params_name': 'franklab_tetrode_hippocampus', 'team_name': 'SequenceTask', 'sorter': 'clusterless_thresholder', 'sorter_params_name': 'default', 'artifact_removed_interval_list_name': 'Julio20230804_.nwb_01_Seq2Sleep1_43_franklab_tetrode_hippocampus_ampl_1500_prop_075_1ms_artifact_removed_valid_times_track_time_only'}...\n"
     ]
    },
    {
     "data": {
      "application/vnd.jupyter.widget-view+json": {
       "model_id": "202580a4712d4ea283038dba313a66ee",
       "version_major": 2,
       "version_minor": 0
      },
      "text/plain": [
       "detect peaks using locally_exclusive:   0%|          | 0/717 [00:00<?, ?it/s]"
      ]
     },
     "metadata": {},
     "output_type": "display_data"
    },
    {
     "name": "stderr",
     "output_type": "stream",
     "text": [
      "[09:44:54][INFO] Spyglass: Saving sorting results...\n",
      "03-May-25 09:44:54 Saving sorting results...\n",
      "[09:44:56][INFO] Spyglass: Running spike sorting on {'nwb_file_name': 'Julio20230804_.nwb', 'sort_group_id': 45, 'sort_interval_name': '01_Seq2Sleep1', 'preproc_params_name': 'franklab_tetrode_hippocampus', 'team_name': 'SequenceTask', 'sorter': 'clusterless_thresholder', 'sorter_params_name': 'default', 'artifact_removed_interval_list_name': 'Julio20230804_.nwb_01_Seq2Sleep1_45_franklab_tetrode_hippocampus_ampl_1500_prop_075_1ms_artifact_removed_valid_times_track_time_only'}...\n",
      "03-May-25 09:44:56 Running spike sorting on {'nwb_file_name': 'Julio20230804_.nwb', 'sort_group_id': 45, 'sort_interval_name': '01_Seq2Sleep1', 'preproc_params_name': 'franklab_tetrode_hippocampus', 'team_name': 'SequenceTask', 'sorter': 'clusterless_thresholder', 'sorter_params_name': 'default', 'artifact_removed_interval_list_name': 'Julio20230804_.nwb_01_Seq2Sleep1_45_franklab_tetrode_hippocampus_ampl_1500_prop_075_1ms_artifact_removed_valid_times_track_time_only'}...\n"
     ]
    },
    {
     "data": {
      "application/vnd.jupyter.widget-view+json": {
       "model_id": "826abe5bc15f4578bfcb07b6d60a2663",
       "version_major": 2,
       "version_minor": 0
      },
      "text/plain": [
       "detect peaks using locally_exclusive:   0%|          | 0/717 [00:00<?, ?it/s]"
      ]
     },
     "metadata": {},
     "output_type": "display_data"
    },
    {
     "name": "stderr",
     "output_type": "stream",
     "text": [
      "[09:44:57][INFO] Spyglass: Saving sorting results...\n",
      "03-May-25 09:44:57 Saving sorting results...\n",
      "[09:44:59][INFO] Spyglass: Running spike sorting on {'nwb_file_name': 'Julio20230804_.nwb', 'sort_group_id': 47, 'sort_interval_name': '01_Seq2Sleep1', 'preproc_params_name': 'franklab_tetrode_hippocampus', 'team_name': 'SequenceTask', 'sorter': 'clusterless_thresholder', 'sorter_params_name': 'default', 'artifact_removed_interval_list_name': 'Julio20230804_.nwb_01_Seq2Sleep1_47_franklab_tetrode_hippocampus_ampl_1500_prop_075_1ms_artifact_removed_valid_times_track_time_only'}...\n",
      "03-May-25 09:44:59 Running spike sorting on {'nwb_file_name': 'Julio20230804_.nwb', 'sort_group_id': 47, 'sort_interval_name': '01_Seq2Sleep1', 'preproc_params_name': 'franklab_tetrode_hippocampus', 'team_name': 'SequenceTask', 'sorter': 'clusterless_thresholder', 'sorter_params_name': 'default', 'artifact_removed_interval_list_name': 'Julio20230804_.nwb_01_Seq2Sleep1_47_franklab_tetrode_hippocampus_ampl_1500_prop_075_1ms_artifact_removed_valid_times_track_time_only'}...\n"
     ]
    },
    {
     "data": {
      "application/vnd.jupyter.widget-view+json": {
       "model_id": "476677c7c1c34642b6b777481f2b4be3",
       "version_major": 2,
       "version_minor": 0
      },
      "text/plain": [
       "detect peaks using locally_exclusive:   0%|          | 0/717 [00:00<?, ?it/s]"
      ]
     },
     "metadata": {},
     "output_type": "display_data"
    },
    {
     "name": "stderr",
     "output_type": "stream",
     "text": [
      "[09:45:01][INFO] Spyglass: Saving sorting results...\n",
      "03-May-25 09:45:01 Saving sorting results...\n",
      "[09:45:03][INFO] Spyglass: Running spike sorting on {'nwb_file_name': 'Julio20230804_.nwb', 'sort_group_id': 49, 'sort_interval_name': '01_Seq2Sleep1', 'preproc_params_name': 'franklab_tetrode_hippocampus', 'team_name': 'SequenceTask', 'sorter': 'clusterless_thresholder', 'sorter_params_name': 'default', 'artifact_removed_interval_list_name': 'Julio20230804_.nwb_01_Seq2Sleep1_49_franklab_tetrode_hippocampus_ampl_1500_prop_075_1ms_artifact_removed_valid_times_track_time_only'}...\n",
      "03-May-25 09:45:03 Running spike sorting on {'nwb_file_name': 'Julio20230804_.nwb', 'sort_group_id': 49, 'sort_interval_name': '01_Seq2Sleep1', 'preproc_params_name': 'franklab_tetrode_hippocampus', 'team_name': 'SequenceTask', 'sorter': 'clusterless_thresholder', 'sorter_params_name': 'default', 'artifact_removed_interval_list_name': 'Julio20230804_.nwb_01_Seq2Sleep1_49_franklab_tetrode_hippocampus_ampl_1500_prop_075_1ms_artifact_removed_valid_times_track_time_only'}...\n"
     ]
    },
    {
     "data": {
      "application/vnd.jupyter.widget-view+json": {
       "model_id": "88cb10620a4d42feb4cc8b6295679af9",
       "version_major": 2,
       "version_minor": 0
      },
      "text/plain": [
       "detect peaks using locally_exclusive:   0%|          | 0/717 [00:00<?, ?it/s]"
      ]
     },
     "metadata": {},
     "output_type": "display_data"
    },
    {
     "name": "stderr",
     "output_type": "stream",
     "text": [
      "[09:45:05][INFO] Spyglass: Saving sorting results...\n",
      "03-May-25 09:45:05 Saving sorting results...\n",
      "[09:45:06][INFO] Spyglass: Running spike sorting on {'nwb_file_name': 'Julio20230804_.nwb', 'sort_group_id': 50, 'sort_interval_name': '01_Seq2Sleep1', 'preproc_params_name': 'franklab_tetrode_hippocampus', 'team_name': 'SequenceTask', 'sorter': 'clusterless_thresholder', 'sorter_params_name': 'default', 'artifact_removed_interval_list_name': 'Julio20230804_.nwb_01_Seq2Sleep1_50_franklab_tetrode_hippocampus_ampl_1500_prop_075_1ms_artifact_removed_valid_times_track_time_only'}...\n",
      "03-May-25 09:45:06 Running spike sorting on {'nwb_file_name': 'Julio20230804_.nwb', 'sort_group_id': 50, 'sort_interval_name': '01_Seq2Sleep1', 'preproc_params_name': 'franklab_tetrode_hippocampus', 'team_name': 'SequenceTask', 'sorter': 'clusterless_thresholder', 'sorter_params_name': 'default', 'artifact_removed_interval_list_name': 'Julio20230804_.nwb_01_Seq2Sleep1_50_franklab_tetrode_hippocampus_ampl_1500_prop_075_1ms_artifact_removed_valid_times_track_time_only'}...\n"
     ]
    },
    {
     "data": {
      "application/vnd.jupyter.widget-view+json": {
       "model_id": "6eddc57a7816482dab2d659a4b343555",
       "version_major": 2,
       "version_minor": 0
      },
      "text/plain": [
       "detect peaks using locally_exclusive:   0%|          | 0/717 [00:00<?, ?it/s]"
      ]
     },
     "metadata": {},
     "output_type": "display_data"
    },
    {
     "name": "stderr",
     "output_type": "stream",
     "text": [
      "[09:45:08][INFO] Spyglass: Saving sorting results...\n",
      "03-May-25 09:45:08 Saving sorting results...\n",
      "[09:45:10][INFO] Spyglass: Running spike sorting on {'nwb_file_name': 'Julio20230804_.nwb', 'sort_group_id': 51, 'sort_interval_name': '01_Seq2Sleep1', 'preproc_params_name': 'franklab_tetrode_hippocampus', 'team_name': 'SequenceTask', 'sorter': 'clusterless_thresholder', 'sorter_params_name': 'default', 'artifact_removed_interval_list_name': 'Julio20230804_.nwb_01_Seq2Sleep1_51_franklab_tetrode_hippocampus_ampl_1500_prop_075_1ms_artifact_removed_valid_times_track_time_only'}...\n",
      "03-May-25 09:45:10 Running spike sorting on {'nwb_file_name': 'Julio20230804_.nwb', 'sort_group_id': 51, 'sort_interval_name': '01_Seq2Sleep1', 'preproc_params_name': 'franklab_tetrode_hippocampus', 'team_name': 'SequenceTask', 'sorter': 'clusterless_thresholder', 'sorter_params_name': 'default', 'artifact_removed_interval_list_name': 'Julio20230804_.nwb_01_Seq2Sleep1_51_franklab_tetrode_hippocampus_ampl_1500_prop_075_1ms_artifact_removed_valid_times_track_time_only'}...\n"
     ]
    },
    {
     "data": {
      "application/vnd.jupyter.widget-view+json": {
       "model_id": "1b87688bf36544b79d6ec7a1c00f8ac0",
       "version_major": 2,
       "version_minor": 0
      },
      "text/plain": [
       "detect peaks using locally_exclusive:   0%|          | 0/717 [00:00<?, ?it/s]"
      ]
     },
     "metadata": {},
     "output_type": "display_data"
    },
    {
     "name": "stderr",
     "output_type": "stream",
     "text": [
      "[09:45:12][INFO] Spyglass: Saving sorting results...\n",
      "03-May-25 09:45:12 Saving sorting results...\n",
      "[09:45:14][INFO] Spyglass: Running spike sorting on {'nwb_file_name': 'Julio20230804_.nwb', 'sort_group_id': 55, 'sort_interval_name': '01_Seq2Sleep1', 'preproc_params_name': 'franklab_tetrode_hippocampus', 'team_name': 'SequenceTask', 'sorter': 'clusterless_thresholder', 'sorter_params_name': 'default', 'artifact_removed_interval_list_name': 'Julio20230804_.nwb_01_Seq2Sleep1_55_franklab_tetrode_hippocampus_ampl_1500_prop_075_1ms_artifact_removed_valid_times_track_time_only'}...\n",
      "03-May-25 09:45:14 Running spike sorting on {'nwb_file_name': 'Julio20230804_.nwb', 'sort_group_id': 55, 'sort_interval_name': '01_Seq2Sleep1', 'preproc_params_name': 'franklab_tetrode_hippocampus', 'team_name': 'SequenceTask', 'sorter': 'clusterless_thresholder', 'sorter_params_name': 'default', 'artifact_removed_interval_list_name': 'Julio20230804_.nwb_01_Seq2Sleep1_55_franklab_tetrode_hippocampus_ampl_1500_prop_075_1ms_artifact_removed_valid_times_track_time_only'}...\n"
     ]
    },
    {
     "data": {
      "application/vnd.jupyter.widget-view+json": {
       "model_id": "f7a14740c8fb492abc3b3fcf2fb8589c",
       "version_major": 2,
       "version_minor": 0
      },
      "text/plain": [
       "detect peaks using locally_exclusive:   0%|          | 0/717 [00:00<?, ?it/s]"
      ]
     },
     "metadata": {},
     "output_type": "display_data"
    },
    {
     "name": "stderr",
     "output_type": "stream",
     "text": [
      "[09:45:16][INFO] Spyglass: Saving sorting results...\n",
      "03-May-25 09:45:16 Saving sorting results...\n",
      "[09:45:18][INFO] Spyglass: Running spike sorting on {'nwb_file_name': 'Julio20230804_.nwb', 'sort_group_id': 56, 'sort_interval_name': '01_Seq2Sleep1', 'preproc_params_name': 'franklab_tetrode_hippocampus', 'team_name': 'SequenceTask', 'sorter': 'clusterless_thresholder', 'sorter_params_name': 'default', 'artifact_removed_interval_list_name': 'Julio20230804_.nwb_01_Seq2Sleep1_56_franklab_tetrode_hippocampus_ampl_1500_prop_075_1ms_artifact_removed_valid_times_track_time_only'}...\n",
      "03-May-25 09:45:18 Running spike sorting on {'nwb_file_name': 'Julio20230804_.nwb', 'sort_group_id': 56, 'sort_interval_name': '01_Seq2Sleep1', 'preproc_params_name': 'franklab_tetrode_hippocampus', 'team_name': 'SequenceTask', 'sorter': 'clusterless_thresholder', 'sorter_params_name': 'default', 'artifact_removed_interval_list_name': 'Julio20230804_.nwb_01_Seq2Sleep1_56_franklab_tetrode_hippocampus_ampl_1500_prop_075_1ms_artifact_removed_valid_times_track_time_only'}...\n"
     ]
    },
    {
     "data": {
      "application/vnd.jupyter.widget-view+json": {
       "model_id": "3afa1d2012474e27942450c8f759a868",
       "version_major": 2,
       "version_minor": 0
      },
      "text/plain": [
       "detect peaks using locally_exclusive:   0%|          | 0/717 [00:00<?, ?it/s]"
      ]
     },
     "metadata": {},
     "output_type": "display_data"
    },
    {
     "name": "stderr",
     "output_type": "stream",
     "text": [
      "[09:45:19][INFO] Spyglass: Saving sorting results...\n",
      "03-May-25 09:45:19 Saving sorting results...\n",
      "[09:45:21][INFO] Spyglass: Running spike sorting on {'nwb_file_name': 'Julio20230804_.nwb', 'sort_group_id': 61, 'sort_interval_name': '01_Seq2Sleep1', 'preproc_params_name': 'franklab_tetrode_hippocampus', 'team_name': 'SequenceTask', 'sorter': 'clusterless_thresholder', 'sorter_params_name': 'default', 'artifact_removed_interval_list_name': 'Julio20230804_.nwb_01_Seq2Sleep1_61_franklab_tetrode_hippocampus_ampl_1500_prop_075_1ms_artifact_removed_valid_times_track_time_only'}...\n",
      "03-May-25 09:45:21 Running spike sorting on {'nwb_file_name': 'Julio20230804_.nwb', 'sort_group_id': 61, 'sort_interval_name': '01_Seq2Sleep1', 'preproc_params_name': 'franklab_tetrode_hippocampus', 'team_name': 'SequenceTask', 'sorter': 'clusterless_thresholder', 'sorter_params_name': 'default', 'artifact_removed_interval_list_name': 'Julio20230804_.nwb_01_Seq2Sleep1_61_franklab_tetrode_hippocampus_ampl_1500_prop_075_1ms_artifact_removed_valid_times_track_time_only'}...\n"
     ]
    },
    {
     "data": {
      "application/vnd.jupyter.widget-view+json": {
       "model_id": "36ca4bd27baa4d519be63aff9062379a",
       "version_major": 2,
       "version_minor": 0
      },
      "text/plain": [
       "detect peaks using locally_exclusive:   0%|          | 0/717 [00:00<?, ?it/s]"
      ]
     },
     "metadata": {},
     "output_type": "display_data"
    },
    {
     "name": "stderr",
     "output_type": "stream",
     "text": [
      "[09:45:23][INFO] Spyglass: Saving sorting results...\n",
      "03-May-25 09:45:23 Saving sorting results...\n",
      "[09:45:25][INFO] Spyglass: Running spike sorting on {'nwb_file_name': 'Julio20230804_.nwb', 'sort_group_id': 6, 'sort_interval_name': '01_Seq2Sleep1', 'preproc_params_name': 'franklab_tetrode_hippocampus', 'team_name': 'SequenceTask', 'sorter': 'clusterless_thresholder', 'sorter_params_name': 'default', 'artifact_removed_interval_list_name': 'Julio20230804_.nwb_01_Seq2Sleep1_6_franklab_tetrode_hippocampus_ampl_1500_prop_075_1ms_artifact_removed_valid_times_track_time_only'}...\n",
      "03-May-25 09:45:25 Running spike sorting on {'nwb_file_name': 'Julio20230804_.nwb', 'sort_group_id': 6, 'sort_interval_name': '01_Seq2Sleep1', 'preproc_params_name': 'franklab_tetrode_hippocampus', 'team_name': 'SequenceTask', 'sorter': 'clusterless_thresholder', 'sorter_params_name': 'default', 'artifact_removed_interval_list_name': 'Julio20230804_.nwb_01_Seq2Sleep1_6_franklab_tetrode_hippocampus_ampl_1500_prop_075_1ms_artifact_removed_valid_times_track_time_only'}...\n"
     ]
    },
    {
     "data": {
      "application/vnd.jupyter.widget-view+json": {
       "model_id": "27444f2faa5840de86d1531a3e9dc321",
       "version_major": 2,
       "version_minor": 0
      },
      "text/plain": [
       "detect peaks using locally_exclusive:   0%|          | 0/717 [00:00<?, ?it/s]"
      ]
     },
     "metadata": {},
     "output_type": "display_data"
    },
    {
     "name": "stderr",
     "output_type": "stream",
     "text": [
      "[09:45:27][INFO] Spyglass: Saving sorting results...\n",
      "03-May-25 09:45:27 Saving sorting results...\n",
      "[09:45:29][INFO] Spyglass: Running spike sorting on {'nwb_file_name': 'Julio20230804_.nwb', 'sort_group_id': 7, 'sort_interval_name': '01_Seq2Sleep1', 'preproc_params_name': 'franklab_tetrode_hippocampus', 'team_name': 'SequenceTask', 'sorter': 'clusterless_thresholder', 'sorter_params_name': 'default', 'artifact_removed_interval_list_name': 'Julio20230804_.nwb_01_Seq2Sleep1_7_franklab_tetrode_hippocampus_ampl_1500_prop_075_1ms_artifact_removed_valid_times_track_time_only'}...\n",
      "03-May-25 09:45:29 Running spike sorting on {'nwb_file_name': 'Julio20230804_.nwb', 'sort_group_id': 7, 'sort_interval_name': '01_Seq2Sleep1', 'preproc_params_name': 'franklab_tetrode_hippocampus', 'team_name': 'SequenceTask', 'sorter': 'clusterless_thresholder', 'sorter_params_name': 'default', 'artifact_removed_interval_list_name': 'Julio20230804_.nwb_01_Seq2Sleep1_7_franklab_tetrode_hippocampus_ampl_1500_prop_075_1ms_artifact_removed_valid_times_track_time_only'}...\n"
     ]
    },
    {
     "data": {
      "application/vnd.jupyter.widget-view+json": {
       "model_id": "60b3670db03642b2a1758cef8b03d5e9",
       "version_major": 2,
       "version_minor": 0
      },
      "text/plain": [
       "detect peaks using locally_exclusive:   0%|          | 0/717 [00:00<?, ?it/s]"
      ]
     },
     "metadata": {},
     "output_type": "display_data"
    },
    {
     "name": "stderr",
     "output_type": "stream",
     "text": [
      "[09:45:31][INFO] Spyglass: Saving sorting results...\n",
      "03-May-25 09:45:31 Saving sorting results...\n",
      "[09:45:33][INFO] Spyglass: Running spike sorting on {'nwb_file_name': 'Julio20230804_.nwb', 'sort_group_id': 8, 'sort_interval_name': '01_Seq2Sleep1', 'preproc_params_name': 'franklab_tetrode_hippocampus', 'team_name': 'SequenceTask', 'sorter': 'clusterless_thresholder', 'sorter_params_name': 'default', 'artifact_removed_interval_list_name': 'Julio20230804_.nwb_01_Seq2Sleep1_8_franklab_tetrode_hippocampus_ampl_1500_prop_075_1ms_artifact_removed_valid_times_track_time_only'}...\n",
      "03-May-25 09:45:33 Running spike sorting on {'nwb_file_name': 'Julio20230804_.nwb', 'sort_group_id': 8, 'sort_interval_name': '01_Seq2Sleep1', 'preproc_params_name': 'franklab_tetrode_hippocampus', 'team_name': 'SequenceTask', 'sorter': 'clusterless_thresholder', 'sorter_params_name': 'default', 'artifact_removed_interval_list_name': 'Julio20230804_.nwb_01_Seq2Sleep1_8_franklab_tetrode_hippocampus_ampl_1500_prop_075_1ms_artifact_removed_valid_times_track_time_only'}...\n"
     ]
    },
    {
     "data": {
      "application/vnd.jupyter.widget-view+json": {
       "model_id": "f06e1cc99d834dfc99523b3b4b72c76d",
       "version_major": 2,
       "version_minor": 0
      },
      "text/plain": [
       "detect peaks using locally_exclusive:   0%|          | 0/717 [00:00<?, ?it/s]"
      ]
     },
     "metadata": {},
     "output_type": "display_data"
    },
    {
     "name": "stderr",
     "output_type": "stream",
     "text": [
      "[09:45:35][INFO] Spyglass: Saving sorting results...\n",
      "03-May-25 09:45:35 Saving sorting results...\n"
     ]
    },
    {
     "name": "stdout",
     "output_type": "stream",
     "text": [
      "2\n",
      "inserting into IntervalList\n",
      "done inserting into IntervalList\n",
      "3\n",
      "inserting into IntervalList\n",
      "done inserting into IntervalList\n",
      "6\n",
      "inserting into IntervalList\n",
      "done inserting into IntervalList\n",
      "7\n",
      "inserting into IntervalList\n",
      "done inserting into IntervalList\n",
      "8\n",
      "inserting into IntervalList\n",
      "done inserting into IntervalList\n",
      "11\n",
      "inserting into IntervalList\n",
      "done inserting into IntervalList\n",
      "12\n",
      "inserting into IntervalList\n",
      "done inserting into IntervalList\n",
      "15\n",
      "inserting into IntervalList\n",
      "done inserting into IntervalList\n",
      "20\n",
      "inserting into IntervalList\n",
      "done inserting into IntervalList\n",
      "22\n",
      "inserting into IntervalList\n",
      "done inserting into IntervalList\n",
      "26\n",
      "inserting into IntervalList\n",
      "done inserting into IntervalList\n",
      "28\n",
      "inserting into IntervalList\n",
      "done inserting into IntervalList\n",
      "29\n",
      "inserting into IntervalList\n",
      "done inserting into IntervalList\n",
      "30\n",
      "inserting into IntervalList\n",
      "done inserting into IntervalList\n",
      "31\n",
      "inserting into IntervalList\n",
      "done inserting into IntervalList\n",
      "36\n",
      "inserting into IntervalList\n",
      "done inserting into IntervalList\n",
      "42\n",
      "inserting into IntervalList\n",
      "done inserting into IntervalList\n",
      "43\n",
      "inserting into IntervalList\n",
      "done inserting into IntervalList\n",
      "45\n",
      "inserting into IntervalList\n",
      "done inserting into IntervalList\n",
      "47\n",
      "inserting into IntervalList\n",
      "done inserting into IntervalList\n",
      "49\n",
      "inserting into IntervalList\n",
      "done inserting into IntervalList\n",
      "50\n",
      "inserting into IntervalList\n",
      "done inserting into IntervalList\n",
      "51\n",
      "inserting into IntervalList\n",
      "done inserting into IntervalList\n",
      "55\n",
      "inserting into IntervalList\n",
      "done inserting into IntervalList\n",
      "56\n",
      "inserting into IntervalList\n",
      "done inserting into IntervalList\n",
      "61\n",
      "inserting into IntervalList\n",
      "done inserting into IntervalList\n"
     ]
    },
    {
     "name": "stderr",
     "output_type": "stream",
     "text": [
      "[09:45:41][INFO] Spyglass: Running spike sorting on {'nwb_file_name': 'Julio20230804_.nwb', 'sort_group_id': 11, 'sort_interval_name': '03_Seq2Sleep2', 'preproc_params_name': 'franklab_tetrode_hippocampus', 'team_name': 'SequenceTask', 'sorter': 'clusterless_thresholder', 'sorter_params_name': 'default', 'artifact_removed_interval_list_name': 'Julio20230804_.nwb_03_Seq2Sleep2_11_franklab_tetrode_hippocampus_ampl_1500_prop_075_1ms_artifact_removed_valid_times_track_time_only'}...\n",
      "03-May-25 09:45:41 Running spike sorting on {'nwb_file_name': 'Julio20230804_.nwb', 'sort_group_id': 11, 'sort_interval_name': '03_Seq2Sleep2', 'preproc_params_name': 'franklab_tetrode_hippocampus', 'team_name': 'SequenceTask', 'sorter': 'clusterless_thresholder', 'sorter_params_name': 'default', 'artifact_removed_interval_list_name': 'Julio20230804_.nwb_03_Seq2Sleep2_11_franklab_tetrode_hippocampus_ampl_1500_prop_075_1ms_artifact_removed_valid_times_track_time_only'}...\n"
     ]
    },
    {
     "data": {
      "application/vnd.jupyter.widget-view+json": {
       "model_id": "8fdd1aa6e2404722b36806fb76e087ca",
       "version_major": 2,
       "version_minor": 0
      },
      "text/plain": [
       "detect peaks using locally_exclusive:   0%|          | 0/1205 [00:00<?, ?it/s]"
      ]
     },
     "metadata": {},
     "output_type": "display_data"
    },
    {
     "name": "stderr",
     "output_type": "stream",
     "text": [
      "[09:45:44][INFO] Spyglass: Saving sorting results...\n",
      "03-May-25 09:45:44 Saving sorting results...\n",
      "[09:45:47][INFO] Spyglass: Running spike sorting on {'nwb_file_name': 'Julio20230804_.nwb', 'sort_group_id': 12, 'sort_interval_name': '03_Seq2Sleep2', 'preproc_params_name': 'franklab_tetrode_hippocampus', 'team_name': 'SequenceTask', 'sorter': 'clusterless_thresholder', 'sorter_params_name': 'default', 'artifact_removed_interval_list_name': 'Julio20230804_.nwb_03_Seq2Sleep2_12_franklab_tetrode_hippocampus_ampl_1500_prop_075_1ms_artifact_removed_valid_times_track_time_only'}...\n",
      "03-May-25 09:45:47 Running spike sorting on {'nwb_file_name': 'Julio20230804_.nwb', 'sort_group_id': 12, 'sort_interval_name': '03_Seq2Sleep2', 'preproc_params_name': 'franklab_tetrode_hippocampus', 'team_name': 'SequenceTask', 'sorter': 'clusterless_thresholder', 'sorter_params_name': 'default', 'artifact_removed_interval_list_name': 'Julio20230804_.nwb_03_Seq2Sleep2_12_franklab_tetrode_hippocampus_ampl_1500_prop_075_1ms_artifact_removed_valid_times_track_time_only'}...\n"
     ]
    },
    {
     "data": {
      "application/vnd.jupyter.widget-view+json": {
       "model_id": "f99e72ef68a14f40a066950560f3b05d",
       "version_major": 2,
       "version_minor": 0
      },
      "text/plain": [
       "detect peaks using locally_exclusive:   0%|          | 0/1205 [00:00<?, ?it/s]"
      ]
     },
     "metadata": {},
     "output_type": "display_data"
    },
    {
     "name": "stderr",
     "output_type": "stream",
     "text": [
      "[09:45:50][INFO] Spyglass: Saving sorting results...\n",
      "03-May-25 09:45:50 Saving sorting results...\n",
      "[09:45:53][INFO] Spyglass: Running spike sorting on {'nwb_file_name': 'Julio20230804_.nwb', 'sort_group_id': 15, 'sort_interval_name': '03_Seq2Sleep2', 'preproc_params_name': 'franklab_tetrode_hippocampus', 'team_name': 'SequenceTask', 'sorter': 'clusterless_thresholder', 'sorter_params_name': 'default', 'artifact_removed_interval_list_name': 'Julio20230804_.nwb_03_Seq2Sleep2_15_franklab_tetrode_hippocampus_ampl_1500_prop_075_1ms_artifact_removed_valid_times_track_time_only'}...\n",
      "03-May-25 09:45:53 Running spike sorting on {'nwb_file_name': 'Julio20230804_.nwb', 'sort_group_id': 15, 'sort_interval_name': '03_Seq2Sleep2', 'preproc_params_name': 'franklab_tetrode_hippocampus', 'team_name': 'SequenceTask', 'sorter': 'clusterless_thresholder', 'sorter_params_name': 'default', 'artifact_removed_interval_list_name': 'Julio20230804_.nwb_03_Seq2Sleep2_15_franklab_tetrode_hippocampus_ampl_1500_prop_075_1ms_artifact_removed_valid_times_track_time_only'}...\n"
     ]
    },
    {
     "data": {
      "application/vnd.jupyter.widget-view+json": {
       "model_id": "3d23f862c2f04211be2b5d07ff62d750",
       "version_major": 2,
       "version_minor": 0
      },
      "text/plain": [
       "detect peaks using locally_exclusive:   0%|          | 0/1205 [00:00<?, ?it/s]"
      ]
     },
     "metadata": {},
     "output_type": "display_data"
    },
    {
     "name": "stderr",
     "output_type": "stream",
     "text": [
      "[09:45:56][INFO] Spyglass: Saving sorting results...\n",
      "03-May-25 09:45:56 Saving sorting results...\n",
      "[09:46:01][INFO] Spyglass: Running spike sorting on {'nwb_file_name': 'Julio20230804_.nwb', 'sort_group_id': 20, 'sort_interval_name': '03_Seq2Sleep2', 'preproc_params_name': 'franklab_tetrode_hippocampus', 'team_name': 'SequenceTask', 'sorter': 'clusterless_thresholder', 'sorter_params_name': 'default', 'artifact_removed_interval_list_name': 'Julio20230804_.nwb_03_Seq2Sleep2_20_franklab_tetrode_hippocampus_ampl_1500_prop_075_1ms_artifact_removed_valid_times_track_time_only'}...\n",
      "03-May-25 09:46:01 Running spike sorting on {'nwb_file_name': 'Julio20230804_.nwb', 'sort_group_id': 20, 'sort_interval_name': '03_Seq2Sleep2', 'preproc_params_name': 'franklab_tetrode_hippocampus', 'team_name': 'SequenceTask', 'sorter': 'clusterless_thresholder', 'sorter_params_name': 'default', 'artifact_removed_interval_list_name': 'Julio20230804_.nwb_03_Seq2Sleep2_20_franklab_tetrode_hippocampus_ampl_1500_prop_075_1ms_artifact_removed_valid_times_track_time_only'}...\n"
     ]
    },
    {
     "data": {
      "application/vnd.jupyter.widget-view+json": {
       "model_id": "999e7d0916c14fd6a96cb643f6a5363c",
       "version_major": 2,
       "version_minor": 0
      },
      "text/plain": [
       "detect peaks using locally_exclusive:   0%|          | 0/1205 [00:00<?, ?it/s]"
      ]
     },
     "metadata": {},
     "output_type": "display_data"
    },
    {
     "name": "stderr",
     "output_type": "stream",
     "text": [
      "[09:46:03][INFO] Spyglass: Saving sorting results...\n",
      "03-May-25 09:46:03 Saving sorting results...\n",
      "[09:46:06][INFO] Spyglass: Running spike sorting on {'nwb_file_name': 'Julio20230804_.nwb', 'sort_group_id': 22, 'sort_interval_name': '03_Seq2Sleep2', 'preproc_params_name': 'franklab_tetrode_hippocampus', 'team_name': 'SequenceTask', 'sorter': 'clusterless_thresholder', 'sorter_params_name': 'default', 'artifact_removed_interval_list_name': 'Julio20230804_.nwb_03_Seq2Sleep2_22_franklab_tetrode_hippocampus_ampl_1500_prop_075_1ms_artifact_removed_valid_times_track_time_only'}...\n",
      "03-May-25 09:46:06 Running spike sorting on {'nwb_file_name': 'Julio20230804_.nwb', 'sort_group_id': 22, 'sort_interval_name': '03_Seq2Sleep2', 'preproc_params_name': 'franklab_tetrode_hippocampus', 'team_name': 'SequenceTask', 'sorter': 'clusterless_thresholder', 'sorter_params_name': 'default', 'artifact_removed_interval_list_name': 'Julio20230804_.nwb_03_Seq2Sleep2_22_franklab_tetrode_hippocampus_ampl_1500_prop_075_1ms_artifact_removed_valid_times_track_time_only'}...\n"
     ]
    },
    {
     "data": {
      "application/vnd.jupyter.widget-view+json": {
       "model_id": "ed0bcbb2869c4524ad3693b2e46a471c",
       "version_major": 2,
       "version_minor": 0
      },
      "text/plain": [
       "detect peaks using locally_exclusive:   0%|          | 0/1205 [00:00<?, ?it/s]"
      ]
     },
     "metadata": {},
     "output_type": "display_data"
    },
    {
     "name": "stderr",
     "output_type": "stream",
     "text": [
      "[09:46:09][INFO] Spyglass: Saving sorting results...\n",
      "03-May-25 09:46:09 Saving sorting results...\n",
      "[09:46:12][INFO] Spyglass: Running spike sorting on {'nwb_file_name': 'Julio20230804_.nwb', 'sort_group_id': 26, 'sort_interval_name': '03_Seq2Sleep2', 'preproc_params_name': 'franklab_tetrode_hippocampus', 'team_name': 'SequenceTask', 'sorter': 'clusterless_thresholder', 'sorter_params_name': 'default', 'artifact_removed_interval_list_name': 'Julio20230804_.nwb_03_Seq2Sleep2_26_franklab_tetrode_hippocampus_ampl_1500_prop_075_1ms_artifact_removed_valid_times_track_time_only'}...\n",
      "03-May-25 09:46:12 Running spike sorting on {'nwb_file_name': 'Julio20230804_.nwb', 'sort_group_id': 26, 'sort_interval_name': '03_Seq2Sleep2', 'preproc_params_name': 'franklab_tetrode_hippocampus', 'team_name': 'SequenceTask', 'sorter': 'clusterless_thresholder', 'sorter_params_name': 'default', 'artifact_removed_interval_list_name': 'Julio20230804_.nwb_03_Seq2Sleep2_26_franklab_tetrode_hippocampus_ampl_1500_prop_075_1ms_artifact_removed_valid_times_track_time_only'}...\n"
     ]
    },
    {
     "data": {
      "application/vnd.jupyter.widget-view+json": {
       "model_id": "31af6144ed6f4c69acd295b9ed7b34aa",
       "version_major": 2,
       "version_minor": 0
      },
      "text/plain": [
       "detect peaks using locally_exclusive:   0%|          | 0/1205 [00:00<?, ?it/s]"
      ]
     },
     "metadata": {},
     "output_type": "display_data"
    },
    {
     "name": "stderr",
     "output_type": "stream",
     "text": [
      "[09:46:15][INFO] Spyglass: Saving sorting results...\n",
      "03-May-25 09:46:15 Saving sorting results...\n",
      "[09:46:18][INFO] Spyglass: Running spike sorting on {'nwb_file_name': 'Julio20230804_.nwb', 'sort_group_id': 28, 'sort_interval_name': '03_Seq2Sleep2', 'preproc_params_name': 'franklab_tetrode_hippocampus', 'team_name': 'SequenceTask', 'sorter': 'clusterless_thresholder', 'sorter_params_name': 'default', 'artifact_removed_interval_list_name': 'Julio20230804_.nwb_03_Seq2Sleep2_28_franklab_tetrode_hippocampus_ampl_1500_prop_075_1ms_artifact_removed_valid_times_track_time_only'}...\n",
      "03-May-25 09:46:18 Running spike sorting on {'nwb_file_name': 'Julio20230804_.nwb', 'sort_group_id': 28, 'sort_interval_name': '03_Seq2Sleep2', 'preproc_params_name': 'franklab_tetrode_hippocampus', 'team_name': 'SequenceTask', 'sorter': 'clusterless_thresholder', 'sorter_params_name': 'default', 'artifact_removed_interval_list_name': 'Julio20230804_.nwb_03_Seq2Sleep2_28_franklab_tetrode_hippocampus_ampl_1500_prop_075_1ms_artifact_removed_valid_times_track_time_only'}...\n"
     ]
    },
    {
     "data": {
      "application/vnd.jupyter.widget-view+json": {
       "model_id": "7911da5abc87484e931adade62b9d1b6",
       "version_major": 2,
       "version_minor": 0
      },
      "text/plain": [
       "detect peaks using locally_exclusive:   0%|          | 0/1205 [00:00<?, ?it/s]"
      ]
     },
     "metadata": {},
     "output_type": "display_data"
    },
    {
     "name": "stderr",
     "output_type": "stream",
     "text": [
      "[09:46:22][INFO] Spyglass: Saving sorting results...\n",
      "03-May-25 09:46:22 Saving sorting results...\n",
      "[09:46:27][INFO] Spyglass: Running spike sorting on {'nwb_file_name': 'Julio20230804_.nwb', 'sort_group_id': 29, 'sort_interval_name': '03_Seq2Sleep2', 'preproc_params_name': 'franklab_tetrode_hippocampus', 'team_name': 'SequenceTask', 'sorter': 'clusterless_thresholder', 'sorter_params_name': 'default', 'artifact_removed_interval_list_name': 'Julio20230804_.nwb_03_Seq2Sleep2_29_franklab_tetrode_hippocampus_ampl_1500_prop_075_1ms_artifact_removed_valid_times_track_time_only'}...\n",
      "03-May-25 09:46:27 Running spike sorting on {'nwb_file_name': 'Julio20230804_.nwb', 'sort_group_id': 29, 'sort_interval_name': '03_Seq2Sleep2', 'preproc_params_name': 'franklab_tetrode_hippocampus', 'team_name': 'SequenceTask', 'sorter': 'clusterless_thresholder', 'sorter_params_name': 'default', 'artifact_removed_interval_list_name': 'Julio20230804_.nwb_03_Seq2Sleep2_29_franklab_tetrode_hippocampus_ampl_1500_prop_075_1ms_artifact_removed_valid_times_track_time_only'}...\n"
     ]
    },
    {
     "data": {
      "application/vnd.jupyter.widget-view+json": {
       "model_id": "6a3d9cc376ca46808a1b99ab7b8c7f1c",
       "version_major": 2,
       "version_minor": 0
      },
      "text/plain": [
       "detect peaks using locally_exclusive:   0%|          | 0/1205 [00:00<?, ?it/s]"
      ]
     },
     "metadata": {},
     "output_type": "display_data"
    },
    {
     "name": "stderr",
     "output_type": "stream",
     "text": [
      "[09:46:30][INFO] Spyglass: Saving sorting results...\n",
      "03-May-25 09:46:30 Saving sorting results...\n",
      "[09:46:34][INFO] Spyglass: Running spike sorting on {'nwb_file_name': 'Julio20230804_.nwb', 'sort_group_id': 2, 'sort_interval_name': '03_Seq2Sleep2', 'preproc_params_name': 'franklab_tetrode_hippocampus', 'team_name': 'SequenceTask', 'sorter': 'clusterless_thresholder', 'sorter_params_name': 'default', 'artifact_removed_interval_list_name': 'Julio20230804_.nwb_03_Seq2Sleep2_2_franklab_tetrode_hippocampus_ampl_1500_prop_075_1ms_artifact_removed_valid_times_track_time_only'}...\n",
      "03-May-25 09:46:34 Running spike sorting on {'nwb_file_name': 'Julio20230804_.nwb', 'sort_group_id': 2, 'sort_interval_name': '03_Seq2Sleep2', 'preproc_params_name': 'franklab_tetrode_hippocampus', 'team_name': 'SequenceTask', 'sorter': 'clusterless_thresholder', 'sorter_params_name': 'default', 'artifact_removed_interval_list_name': 'Julio20230804_.nwb_03_Seq2Sleep2_2_franklab_tetrode_hippocampus_ampl_1500_prop_075_1ms_artifact_removed_valid_times_track_time_only'}...\n"
     ]
    },
    {
     "data": {
      "application/vnd.jupyter.widget-view+json": {
       "model_id": "ae7275e048284219ab15338920302461",
       "version_major": 2,
       "version_minor": 0
      },
      "text/plain": [
       "detect peaks using locally_exclusive:   0%|          | 0/1205 [00:00<?, ?it/s]"
      ]
     },
     "metadata": {},
     "output_type": "display_data"
    },
    {
     "name": "stderr",
     "output_type": "stream",
     "text": [
      "[09:46:36][INFO] Spyglass: Saving sorting results...\n",
      "03-May-25 09:46:36 Saving sorting results...\n",
      "[09:46:40][INFO] Spyglass: Running spike sorting on {'nwb_file_name': 'Julio20230804_.nwb', 'sort_group_id': 30, 'sort_interval_name': '03_Seq2Sleep2', 'preproc_params_name': 'franklab_tetrode_hippocampus', 'team_name': 'SequenceTask', 'sorter': 'clusterless_thresholder', 'sorter_params_name': 'default', 'artifact_removed_interval_list_name': 'Julio20230804_.nwb_03_Seq2Sleep2_30_franklab_tetrode_hippocampus_ampl_1500_prop_075_1ms_artifact_removed_valid_times_track_time_only'}...\n",
      "03-May-25 09:46:40 Running spike sorting on {'nwb_file_name': 'Julio20230804_.nwb', 'sort_group_id': 30, 'sort_interval_name': '03_Seq2Sleep2', 'preproc_params_name': 'franklab_tetrode_hippocampus', 'team_name': 'SequenceTask', 'sorter': 'clusterless_thresholder', 'sorter_params_name': 'default', 'artifact_removed_interval_list_name': 'Julio20230804_.nwb_03_Seq2Sleep2_30_franklab_tetrode_hippocampus_ampl_1500_prop_075_1ms_artifact_removed_valid_times_track_time_only'}...\n"
     ]
    },
    {
     "data": {
      "application/vnd.jupyter.widget-view+json": {
       "model_id": "6d7bf2886b2344a09f695ccb4295f19c",
       "version_major": 2,
       "version_minor": 0
      },
      "text/plain": [
       "detect peaks using locally_exclusive:   0%|          | 0/1205 [00:00<?, ?it/s]"
      ]
     },
     "metadata": {},
     "output_type": "display_data"
    },
    {
     "name": "stderr",
     "output_type": "stream",
     "text": [
      "[09:46:43][INFO] Spyglass: Saving sorting results...\n",
      "03-May-25 09:46:43 Saving sorting results...\n",
      "[09:46:48][INFO] Spyglass: Running spike sorting on {'nwb_file_name': 'Julio20230804_.nwb', 'sort_group_id': 31, 'sort_interval_name': '03_Seq2Sleep2', 'preproc_params_name': 'franklab_tetrode_hippocampus', 'team_name': 'SequenceTask', 'sorter': 'clusterless_thresholder', 'sorter_params_name': 'default', 'artifact_removed_interval_list_name': 'Julio20230804_.nwb_03_Seq2Sleep2_31_franklab_tetrode_hippocampus_ampl_1500_prop_075_1ms_artifact_removed_valid_times_track_time_only'}...\n",
      "03-May-25 09:46:48 Running spike sorting on {'nwb_file_name': 'Julio20230804_.nwb', 'sort_group_id': 31, 'sort_interval_name': '03_Seq2Sleep2', 'preproc_params_name': 'franklab_tetrode_hippocampus', 'team_name': 'SequenceTask', 'sorter': 'clusterless_thresholder', 'sorter_params_name': 'default', 'artifact_removed_interval_list_name': 'Julio20230804_.nwb_03_Seq2Sleep2_31_franklab_tetrode_hippocampus_ampl_1500_prop_075_1ms_artifact_removed_valid_times_track_time_only'}...\n"
     ]
    },
    {
     "data": {
      "application/vnd.jupyter.widget-view+json": {
       "model_id": "d0b897150fe54467bb7f893ff1cb364e",
       "version_major": 2,
       "version_minor": 0
      },
      "text/plain": [
       "detect peaks using locally_exclusive:   0%|          | 0/1205 [00:00<?, ?it/s]"
      ]
     },
     "metadata": {},
     "output_type": "display_data"
    },
    {
     "name": "stderr",
     "output_type": "stream",
     "text": [
      "[09:46:51][INFO] Spyglass: Saving sorting results...\n",
      "03-May-25 09:46:51 Saving sorting results...\n",
      "[09:46:54][INFO] Spyglass: Running spike sorting on {'nwb_file_name': 'Julio20230804_.nwb', 'sort_group_id': 36, 'sort_interval_name': '03_Seq2Sleep2', 'preproc_params_name': 'franklab_tetrode_hippocampus', 'team_name': 'SequenceTask', 'sorter': 'clusterless_thresholder', 'sorter_params_name': 'default', 'artifact_removed_interval_list_name': 'Julio20230804_.nwb_03_Seq2Sleep2_36_franklab_tetrode_hippocampus_ampl_1500_prop_075_1ms_artifact_removed_valid_times_track_time_only'}...\n",
      "03-May-25 09:46:54 Running spike sorting on {'nwb_file_name': 'Julio20230804_.nwb', 'sort_group_id': 36, 'sort_interval_name': '03_Seq2Sleep2', 'preproc_params_name': 'franklab_tetrode_hippocampus', 'team_name': 'SequenceTask', 'sorter': 'clusterless_thresholder', 'sorter_params_name': 'default', 'artifact_removed_interval_list_name': 'Julio20230804_.nwb_03_Seq2Sleep2_36_franklab_tetrode_hippocampus_ampl_1500_prop_075_1ms_artifact_removed_valid_times_track_time_only'}...\n"
     ]
    },
    {
     "data": {
      "application/vnd.jupyter.widget-view+json": {
       "model_id": "21e1a4fa381a4b4796f50536e1669eed",
       "version_major": 2,
       "version_minor": 0
      },
      "text/plain": [
       "detect peaks using locally_exclusive:   0%|          | 0/1205 [00:00<?, ?it/s]"
      ]
     },
     "metadata": {},
     "output_type": "display_data"
    },
    {
     "name": "stderr",
     "output_type": "stream",
     "text": [
      "[09:46:58][INFO] Spyglass: Saving sorting results...\n",
      "03-May-25 09:46:58 Saving sorting results...\n",
      "[09:47:03][INFO] Spyglass: Running spike sorting on {'nwb_file_name': 'Julio20230804_.nwb', 'sort_group_id': 3, 'sort_interval_name': '03_Seq2Sleep2', 'preproc_params_name': 'franklab_tetrode_hippocampus', 'team_name': 'SequenceTask', 'sorter': 'clusterless_thresholder', 'sorter_params_name': 'default', 'artifact_removed_interval_list_name': 'Julio20230804_.nwb_03_Seq2Sleep2_3_franklab_tetrode_hippocampus_ampl_1500_prop_075_1ms_artifact_removed_valid_times_track_time_only'}...\n",
      "03-May-25 09:47:03 Running spike sorting on {'nwb_file_name': 'Julio20230804_.nwb', 'sort_group_id': 3, 'sort_interval_name': '03_Seq2Sleep2', 'preproc_params_name': 'franklab_tetrode_hippocampus', 'team_name': 'SequenceTask', 'sorter': 'clusterless_thresholder', 'sorter_params_name': 'default', 'artifact_removed_interval_list_name': 'Julio20230804_.nwb_03_Seq2Sleep2_3_franklab_tetrode_hippocampus_ampl_1500_prop_075_1ms_artifact_removed_valid_times_track_time_only'}...\n"
     ]
    },
    {
     "data": {
      "application/vnd.jupyter.widget-view+json": {
       "model_id": "6b677d8c7715461db0f466eb5f450784",
       "version_major": 2,
       "version_minor": 0
      },
      "text/plain": [
       "detect peaks using locally_exclusive:   0%|          | 0/1205 [00:00<?, ?it/s]"
      ]
     },
     "metadata": {},
     "output_type": "display_data"
    },
    {
     "name": "stderr",
     "output_type": "stream",
     "text": [
      "[09:47:06][INFO] Spyglass: Saving sorting results...\n",
      "03-May-25 09:47:06 Saving sorting results...\n",
      "[09:47:10][INFO] Spyglass: Running spike sorting on {'nwb_file_name': 'Julio20230804_.nwb', 'sort_group_id': 42, 'sort_interval_name': '03_Seq2Sleep2', 'preproc_params_name': 'franklab_tetrode_hippocampus', 'team_name': 'SequenceTask', 'sorter': 'clusterless_thresholder', 'sorter_params_name': 'default', 'artifact_removed_interval_list_name': 'Julio20230804_.nwb_03_Seq2Sleep2_42_franklab_tetrode_hippocampus_ampl_1500_prop_075_1ms_artifact_removed_valid_times_track_time_only'}...\n",
      "03-May-25 09:47:10 Running spike sorting on {'nwb_file_name': 'Julio20230804_.nwb', 'sort_group_id': 42, 'sort_interval_name': '03_Seq2Sleep2', 'preproc_params_name': 'franklab_tetrode_hippocampus', 'team_name': 'SequenceTask', 'sorter': 'clusterless_thresholder', 'sorter_params_name': 'default', 'artifact_removed_interval_list_name': 'Julio20230804_.nwb_03_Seq2Sleep2_42_franklab_tetrode_hippocampus_ampl_1500_prop_075_1ms_artifact_removed_valid_times_track_time_only'}...\n"
     ]
    },
    {
     "data": {
      "application/vnd.jupyter.widget-view+json": {
       "model_id": "6133d5cb41164bdcabb299222039e9c8",
       "version_major": 2,
       "version_minor": 0
      },
      "text/plain": [
       "detect peaks using locally_exclusive:   0%|          | 0/1205 [00:00<?, ?it/s]"
      ]
     },
     "metadata": {},
     "output_type": "display_data"
    },
    {
     "name": "stderr",
     "output_type": "stream",
     "text": [
      "[09:47:12][INFO] Spyglass: Saving sorting results...\n",
      "03-May-25 09:47:12 Saving sorting results...\n",
      "[09:47:17][INFO] Spyglass: Running spike sorting on {'nwb_file_name': 'Julio20230804_.nwb', 'sort_group_id': 43, 'sort_interval_name': '03_Seq2Sleep2', 'preproc_params_name': 'franklab_tetrode_hippocampus', 'team_name': 'SequenceTask', 'sorter': 'clusterless_thresholder', 'sorter_params_name': 'default', 'artifact_removed_interval_list_name': 'Julio20230804_.nwb_03_Seq2Sleep2_43_franklab_tetrode_hippocampus_ampl_1500_prop_075_1ms_artifact_removed_valid_times_track_time_only'}...\n",
      "03-May-25 09:47:17 Running spike sorting on {'nwb_file_name': 'Julio20230804_.nwb', 'sort_group_id': 43, 'sort_interval_name': '03_Seq2Sleep2', 'preproc_params_name': 'franklab_tetrode_hippocampus', 'team_name': 'SequenceTask', 'sorter': 'clusterless_thresholder', 'sorter_params_name': 'default', 'artifact_removed_interval_list_name': 'Julio20230804_.nwb_03_Seq2Sleep2_43_franklab_tetrode_hippocampus_ampl_1500_prop_075_1ms_artifact_removed_valid_times_track_time_only'}...\n"
     ]
    },
    {
     "data": {
      "application/vnd.jupyter.widget-view+json": {
       "model_id": "7332890c17af41baa27dd01fadd7db76",
       "version_major": 2,
       "version_minor": 0
      },
      "text/plain": [
       "detect peaks using locally_exclusive:   0%|          | 0/1205 [00:00<?, ?it/s]"
      ]
     },
     "metadata": {},
     "output_type": "display_data"
    },
    {
     "name": "stderr",
     "output_type": "stream",
     "text": [
      "[09:47:21][INFO] Spyglass: Saving sorting results...\n",
      "03-May-25 09:47:21 Saving sorting results...\n",
      "[09:47:25][INFO] Spyglass: Running spike sorting on {'nwb_file_name': 'Julio20230804_.nwb', 'sort_group_id': 45, 'sort_interval_name': '03_Seq2Sleep2', 'preproc_params_name': 'franklab_tetrode_hippocampus', 'team_name': 'SequenceTask', 'sorter': 'clusterless_thresholder', 'sorter_params_name': 'default', 'artifact_removed_interval_list_name': 'Julio20230804_.nwb_03_Seq2Sleep2_45_franklab_tetrode_hippocampus_ampl_1500_prop_075_1ms_artifact_removed_valid_times_track_time_only'}...\n",
      "03-May-25 09:47:25 Running spike sorting on {'nwb_file_name': 'Julio20230804_.nwb', 'sort_group_id': 45, 'sort_interval_name': '03_Seq2Sleep2', 'preproc_params_name': 'franklab_tetrode_hippocampus', 'team_name': 'SequenceTask', 'sorter': 'clusterless_thresholder', 'sorter_params_name': 'default', 'artifact_removed_interval_list_name': 'Julio20230804_.nwb_03_Seq2Sleep2_45_franklab_tetrode_hippocampus_ampl_1500_prop_075_1ms_artifact_removed_valid_times_track_time_only'}...\n"
     ]
    },
    {
     "data": {
      "application/vnd.jupyter.widget-view+json": {
       "model_id": "1bd1ff81c6ff40aebbfb71b157d425cc",
       "version_major": 2,
       "version_minor": 0
      },
      "text/plain": [
       "detect peaks using locally_exclusive:   0%|          | 0/1205 [00:00<?, ?it/s]"
      ]
     },
     "metadata": {},
     "output_type": "display_data"
    },
    {
     "name": "stderr",
     "output_type": "stream",
     "text": [
      "[09:47:28][INFO] Spyglass: Saving sorting results...\n",
      "03-May-25 09:47:28 Saving sorting results...\n",
      "[09:47:31][INFO] Spyglass: Running spike sorting on {'nwb_file_name': 'Julio20230804_.nwb', 'sort_group_id': 47, 'sort_interval_name': '03_Seq2Sleep2', 'preproc_params_name': 'franklab_tetrode_hippocampus', 'team_name': 'SequenceTask', 'sorter': 'clusterless_thresholder', 'sorter_params_name': 'default', 'artifact_removed_interval_list_name': 'Julio20230804_.nwb_03_Seq2Sleep2_47_franklab_tetrode_hippocampus_ampl_1500_prop_075_1ms_artifact_removed_valid_times_track_time_only'}...\n",
      "03-May-25 09:47:31 Running spike sorting on {'nwb_file_name': 'Julio20230804_.nwb', 'sort_group_id': 47, 'sort_interval_name': '03_Seq2Sleep2', 'preproc_params_name': 'franklab_tetrode_hippocampus', 'team_name': 'SequenceTask', 'sorter': 'clusterless_thresholder', 'sorter_params_name': 'default', 'artifact_removed_interval_list_name': 'Julio20230804_.nwb_03_Seq2Sleep2_47_franklab_tetrode_hippocampus_ampl_1500_prop_075_1ms_artifact_removed_valid_times_track_time_only'}...\n"
     ]
    },
    {
     "data": {
      "application/vnd.jupyter.widget-view+json": {
       "model_id": "eb87bcefa58a4ac99e7212d75114c40a",
       "version_major": 2,
       "version_minor": 0
      },
      "text/plain": [
       "detect peaks using locally_exclusive:   0%|          | 0/1205 [00:00<?, ?it/s]"
      ]
     },
     "metadata": {},
     "output_type": "display_data"
    },
    {
     "name": "stderr",
     "output_type": "stream",
     "text": [
      "[09:47:34][INFO] Spyglass: Saving sorting results...\n",
      "03-May-25 09:47:34 Saving sorting results...\n",
      "[09:47:38][INFO] Spyglass: Running spike sorting on {'nwb_file_name': 'Julio20230804_.nwb', 'sort_group_id': 49, 'sort_interval_name': '03_Seq2Sleep2', 'preproc_params_name': 'franklab_tetrode_hippocampus', 'team_name': 'SequenceTask', 'sorter': 'clusterless_thresholder', 'sorter_params_name': 'default', 'artifact_removed_interval_list_name': 'Julio20230804_.nwb_03_Seq2Sleep2_49_franklab_tetrode_hippocampus_ampl_1500_prop_075_1ms_artifact_removed_valid_times_track_time_only'}...\n",
      "03-May-25 09:47:38 Running spike sorting on {'nwb_file_name': 'Julio20230804_.nwb', 'sort_group_id': 49, 'sort_interval_name': '03_Seq2Sleep2', 'preproc_params_name': 'franklab_tetrode_hippocampus', 'team_name': 'SequenceTask', 'sorter': 'clusterless_thresholder', 'sorter_params_name': 'default', 'artifact_removed_interval_list_name': 'Julio20230804_.nwb_03_Seq2Sleep2_49_franklab_tetrode_hippocampus_ampl_1500_prop_075_1ms_artifact_removed_valid_times_track_time_only'}...\n"
     ]
    },
    {
     "data": {
      "application/vnd.jupyter.widget-view+json": {
       "model_id": "43617312072a4206be5da0456d8079c8",
       "version_major": 2,
       "version_minor": 0
      },
      "text/plain": [
       "detect peaks using locally_exclusive:   0%|          | 0/1205 [00:00<?, ?it/s]"
      ]
     },
     "metadata": {},
     "output_type": "display_data"
    },
    {
     "name": "stderr",
     "output_type": "stream",
     "text": [
      "[09:47:42][INFO] Spyglass: Saving sorting results...\n",
      "03-May-25 09:47:42 Saving sorting results...\n",
      "[09:47:46][INFO] Spyglass: Running spike sorting on {'nwb_file_name': 'Julio20230804_.nwb', 'sort_group_id': 50, 'sort_interval_name': '03_Seq2Sleep2', 'preproc_params_name': 'franklab_tetrode_hippocampus', 'team_name': 'SequenceTask', 'sorter': 'clusterless_thresholder', 'sorter_params_name': 'default', 'artifact_removed_interval_list_name': 'Julio20230804_.nwb_03_Seq2Sleep2_50_franklab_tetrode_hippocampus_ampl_1500_prop_075_1ms_artifact_removed_valid_times_track_time_only'}...\n",
      "03-May-25 09:47:46 Running spike sorting on {'nwb_file_name': 'Julio20230804_.nwb', 'sort_group_id': 50, 'sort_interval_name': '03_Seq2Sleep2', 'preproc_params_name': 'franklab_tetrode_hippocampus', 'team_name': 'SequenceTask', 'sorter': 'clusterless_thresholder', 'sorter_params_name': 'default', 'artifact_removed_interval_list_name': 'Julio20230804_.nwb_03_Seq2Sleep2_50_franklab_tetrode_hippocampus_ampl_1500_prop_075_1ms_artifact_removed_valid_times_track_time_only'}...\n"
     ]
    },
    {
     "data": {
      "application/vnd.jupyter.widget-view+json": {
       "model_id": "fd2e8e5b43ff44d7b3925075abdfd94f",
       "version_major": 2,
       "version_minor": 0
      },
      "text/plain": [
       "detect peaks using locally_exclusive:   0%|          | 0/1205 [00:00<?, ?it/s]"
      ]
     },
     "metadata": {},
     "output_type": "display_data"
    },
    {
     "name": "stderr",
     "output_type": "stream",
     "text": [
      "[09:47:49][INFO] Spyglass: Saving sorting results...\n",
      "03-May-25 09:47:49 Saving sorting results...\n",
      "[09:47:52][INFO] Spyglass: Running spike sorting on {'nwb_file_name': 'Julio20230804_.nwb', 'sort_group_id': 51, 'sort_interval_name': '03_Seq2Sleep2', 'preproc_params_name': 'franklab_tetrode_hippocampus', 'team_name': 'SequenceTask', 'sorter': 'clusterless_thresholder', 'sorter_params_name': 'default', 'artifact_removed_interval_list_name': 'Julio20230804_.nwb_03_Seq2Sleep2_51_franklab_tetrode_hippocampus_ampl_1500_prop_075_1ms_artifact_removed_valid_times_track_time_only'}...\n",
      "03-May-25 09:47:52 Running spike sorting on {'nwb_file_name': 'Julio20230804_.nwb', 'sort_group_id': 51, 'sort_interval_name': '03_Seq2Sleep2', 'preproc_params_name': 'franklab_tetrode_hippocampus', 'team_name': 'SequenceTask', 'sorter': 'clusterless_thresholder', 'sorter_params_name': 'default', 'artifact_removed_interval_list_name': 'Julio20230804_.nwb_03_Seq2Sleep2_51_franklab_tetrode_hippocampus_ampl_1500_prop_075_1ms_artifact_removed_valid_times_track_time_only'}...\n"
     ]
    },
    {
     "data": {
      "application/vnd.jupyter.widget-view+json": {
       "model_id": "18c3bfe8fc2a45caa0ae7ad5f7294243",
       "version_major": 2,
       "version_minor": 0
      },
      "text/plain": [
       "detect peaks using locally_exclusive:   0%|          | 0/1205 [00:00<?, ?it/s]"
      ]
     },
     "metadata": {},
     "output_type": "display_data"
    },
    {
     "name": "stderr",
     "output_type": "stream",
     "text": [
      "[09:47:55][INFO] Spyglass: Saving sorting results...\n",
      "03-May-25 09:47:55 Saving sorting results...\n",
      "[09:47:58][INFO] Spyglass: Running spike sorting on {'nwb_file_name': 'Julio20230804_.nwb', 'sort_group_id': 55, 'sort_interval_name': '03_Seq2Sleep2', 'preproc_params_name': 'franklab_tetrode_hippocampus', 'team_name': 'SequenceTask', 'sorter': 'clusterless_thresholder', 'sorter_params_name': 'default', 'artifact_removed_interval_list_name': 'Julio20230804_.nwb_03_Seq2Sleep2_55_franklab_tetrode_hippocampus_ampl_1500_prop_075_1ms_artifact_removed_valid_times_track_time_only'}...\n",
      "03-May-25 09:47:58 Running spike sorting on {'nwb_file_name': 'Julio20230804_.nwb', 'sort_group_id': 55, 'sort_interval_name': '03_Seq2Sleep2', 'preproc_params_name': 'franklab_tetrode_hippocampus', 'team_name': 'SequenceTask', 'sorter': 'clusterless_thresholder', 'sorter_params_name': 'default', 'artifact_removed_interval_list_name': 'Julio20230804_.nwb_03_Seq2Sleep2_55_franklab_tetrode_hippocampus_ampl_1500_prop_075_1ms_artifact_removed_valid_times_track_time_only'}...\n"
     ]
    },
    {
     "data": {
      "application/vnd.jupyter.widget-view+json": {
       "model_id": "3ed6e12b88314ec6be279d97e8803857",
       "version_major": 2,
       "version_minor": 0
      },
      "text/plain": [
       "detect peaks using locally_exclusive:   0%|          | 0/1205 [00:00<?, ?it/s]"
      ]
     },
     "metadata": {},
     "output_type": "display_data"
    },
    {
     "name": "stderr",
     "output_type": "stream",
     "text": [
      "[09:48:01][INFO] Spyglass: Saving sorting results...\n",
      "03-May-25 09:48:01 Saving sorting results...\n",
      "[09:48:05][INFO] Spyglass: Running spike sorting on {'nwb_file_name': 'Julio20230804_.nwb', 'sort_group_id': 56, 'sort_interval_name': '03_Seq2Sleep2', 'preproc_params_name': 'franklab_tetrode_hippocampus', 'team_name': 'SequenceTask', 'sorter': 'clusterless_thresholder', 'sorter_params_name': 'default', 'artifact_removed_interval_list_name': 'Julio20230804_.nwb_03_Seq2Sleep2_56_franklab_tetrode_hippocampus_ampl_1500_prop_075_1ms_artifact_removed_valid_times_track_time_only'}...\n",
      "03-May-25 09:48:05 Running spike sorting on {'nwb_file_name': 'Julio20230804_.nwb', 'sort_group_id': 56, 'sort_interval_name': '03_Seq2Sleep2', 'preproc_params_name': 'franklab_tetrode_hippocampus', 'team_name': 'SequenceTask', 'sorter': 'clusterless_thresholder', 'sorter_params_name': 'default', 'artifact_removed_interval_list_name': 'Julio20230804_.nwb_03_Seq2Sleep2_56_franklab_tetrode_hippocampus_ampl_1500_prop_075_1ms_artifact_removed_valid_times_track_time_only'}...\n"
     ]
    },
    {
     "data": {
      "application/vnd.jupyter.widget-view+json": {
       "model_id": "ae5ee94b4c5743258ffbfbd02af7f2ba",
       "version_major": 2,
       "version_minor": 0
      },
      "text/plain": [
       "detect peaks using locally_exclusive:   0%|          | 0/1205 [00:00<?, ?it/s]"
      ]
     },
     "metadata": {},
     "output_type": "display_data"
    },
    {
     "name": "stderr",
     "output_type": "stream",
     "text": [
      "[09:48:08][INFO] Spyglass: Saving sorting results...\n",
      "03-May-25 09:48:08 Saving sorting results...\n",
      "[09:48:11][INFO] Spyglass: Running spike sorting on {'nwb_file_name': 'Julio20230804_.nwb', 'sort_group_id': 61, 'sort_interval_name': '03_Seq2Sleep2', 'preproc_params_name': 'franklab_tetrode_hippocampus', 'team_name': 'SequenceTask', 'sorter': 'clusterless_thresholder', 'sorter_params_name': 'default', 'artifact_removed_interval_list_name': 'Julio20230804_.nwb_03_Seq2Sleep2_61_franklab_tetrode_hippocampus_ampl_1500_prop_075_1ms_artifact_removed_valid_times_track_time_only'}...\n",
      "03-May-25 09:48:11 Running spike sorting on {'nwb_file_name': 'Julio20230804_.nwb', 'sort_group_id': 61, 'sort_interval_name': '03_Seq2Sleep2', 'preproc_params_name': 'franklab_tetrode_hippocampus', 'team_name': 'SequenceTask', 'sorter': 'clusterless_thresholder', 'sorter_params_name': 'default', 'artifact_removed_interval_list_name': 'Julio20230804_.nwb_03_Seq2Sleep2_61_franklab_tetrode_hippocampus_ampl_1500_prop_075_1ms_artifact_removed_valid_times_track_time_only'}...\n"
     ]
    },
    {
     "data": {
      "application/vnd.jupyter.widget-view+json": {
       "model_id": "6a107d783103458391cfc09a9683bd58",
       "version_major": 2,
       "version_minor": 0
      },
      "text/plain": [
       "detect peaks using locally_exclusive:   0%|          | 0/1205 [00:00<?, ?it/s]"
      ]
     },
     "metadata": {},
     "output_type": "display_data"
    },
    {
     "name": "stderr",
     "output_type": "stream",
     "text": [
      "[09:48:14][INFO] Spyglass: Saving sorting results...\n",
      "03-May-25 09:48:14 Saving sorting results...\n",
      "[09:48:17][INFO] Spyglass: Running spike sorting on {'nwb_file_name': 'Julio20230804_.nwb', 'sort_group_id': 6, 'sort_interval_name': '03_Seq2Sleep2', 'preproc_params_name': 'franklab_tetrode_hippocampus', 'team_name': 'SequenceTask', 'sorter': 'clusterless_thresholder', 'sorter_params_name': 'default', 'artifact_removed_interval_list_name': 'Julio20230804_.nwb_03_Seq2Sleep2_6_franklab_tetrode_hippocampus_ampl_1500_prop_075_1ms_artifact_removed_valid_times_track_time_only'}...\n",
      "03-May-25 09:48:17 Running spike sorting on {'nwb_file_name': 'Julio20230804_.nwb', 'sort_group_id': 6, 'sort_interval_name': '03_Seq2Sleep2', 'preproc_params_name': 'franklab_tetrode_hippocampus', 'team_name': 'SequenceTask', 'sorter': 'clusterless_thresholder', 'sorter_params_name': 'default', 'artifact_removed_interval_list_name': 'Julio20230804_.nwb_03_Seq2Sleep2_6_franklab_tetrode_hippocampus_ampl_1500_prop_075_1ms_artifact_removed_valid_times_track_time_only'}...\n"
     ]
    },
    {
     "data": {
      "application/vnd.jupyter.widget-view+json": {
       "model_id": "53ee12f88f9143edba890ae4f38ba1c2",
       "version_major": 2,
       "version_minor": 0
      },
      "text/plain": [
       "detect peaks using locally_exclusive:   0%|          | 0/1205 [00:00<?, ?it/s]"
      ]
     },
     "metadata": {},
     "output_type": "display_data"
    },
    {
     "name": "stderr",
     "output_type": "stream",
     "text": [
      "[09:48:20][INFO] Spyglass: Saving sorting results...\n",
      "03-May-25 09:48:20 Saving sorting results...\n",
      "[09:48:25][INFO] Spyglass: Running spike sorting on {'nwb_file_name': 'Julio20230804_.nwb', 'sort_group_id': 7, 'sort_interval_name': '03_Seq2Sleep2', 'preproc_params_name': 'franklab_tetrode_hippocampus', 'team_name': 'SequenceTask', 'sorter': 'clusterless_thresholder', 'sorter_params_name': 'default', 'artifact_removed_interval_list_name': 'Julio20230804_.nwb_03_Seq2Sleep2_7_franklab_tetrode_hippocampus_ampl_1500_prop_075_1ms_artifact_removed_valid_times_track_time_only'}...\n",
      "03-May-25 09:48:25 Running spike sorting on {'nwb_file_name': 'Julio20230804_.nwb', 'sort_group_id': 7, 'sort_interval_name': '03_Seq2Sleep2', 'preproc_params_name': 'franklab_tetrode_hippocampus', 'team_name': 'SequenceTask', 'sorter': 'clusterless_thresholder', 'sorter_params_name': 'default', 'artifact_removed_interval_list_name': 'Julio20230804_.nwb_03_Seq2Sleep2_7_franklab_tetrode_hippocampus_ampl_1500_prop_075_1ms_artifact_removed_valid_times_track_time_only'}...\n"
     ]
    },
    {
     "data": {
      "application/vnd.jupyter.widget-view+json": {
       "model_id": "8a2fb24b10c94375a8a3e8fd01b2f5f5",
       "version_major": 2,
       "version_minor": 0
      },
      "text/plain": [
       "detect peaks using locally_exclusive:   0%|          | 0/1205 [00:00<?, ?it/s]"
      ]
     },
     "metadata": {},
     "output_type": "display_data"
    },
    {
     "name": "stderr",
     "output_type": "stream",
     "text": [
      "[09:48:28][INFO] Spyglass: Saving sorting results...\n",
      "03-May-25 09:48:28 Saving sorting results...\n",
      "[09:48:31][INFO] Spyglass: Running spike sorting on {'nwb_file_name': 'Julio20230804_.nwb', 'sort_group_id': 8, 'sort_interval_name': '03_Seq2Sleep2', 'preproc_params_name': 'franklab_tetrode_hippocampus', 'team_name': 'SequenceTask', 'sorter': 'clusterless_thresholder', 'sorter_params_name': 'default', 'artifact_removed_interval_list_name': 'Julio20230804_.nwb_03_Seq2Sleep2_8_franklab_tetrode_hippocampus_ampl_1500_prop_075_1ms_artifact_removed_valid_times_track_time_only'}...\n",
      "03-May-25 09:48:31 Running spike sorting on {'nwb_file_name': 'Julio20230804_.nwb', 'sort_group_id': 8, 'sort_interval_name': '03_Seq2Sleep2', 'preproc_params_name': 'franklab_tetrode_hippocampus', 'team_name': 'SequenceTask', 'sorter': 'clusterless_thresholder', 'sorter_params_name': 'default', 'artifact_removed_interval_list_name': 'Julio20230804_.nwb_03_Seq2Sleep2_8_franklab_tetrode_hippocampus_ampl_1500_prop_075_1ms_artifact_removed_valid_times_track_time_only'}...\n"
     ]
    },
    {
     "data": {
      "application/vnd.jupyter.widget-view+json": {
       "model_id": "04d8f86181ec4c898ed755aeb841eddf",
       "version_major": 2,
       "version_minor": 0
      },
      "text/plain": [
       "detect peaks using locally_exclusive:   0%|          | 0/1205 [00:00<?, ?it/s]"
      ]
     },
     "metadata": {},
     "output_type": "display_data"
    },
    {
     "name": "stderr",
     "output_type": "stream",
     "text": [
      "[09:48:35][INFO] Spyglass: Saving sorting results...\n",
      "03-May-25 09:48:35 Saving sorting results...\n"
     ]
    },
    {
     "name": "stdout",
     "output_type": "stream",
     "text": [
      "2\n",
      "inserting into IntervalList\n",
      "done inserting into IntervalList\n",
      "3\n",
      "inserting into IntervalList\n",
      "done inserting into IntervalList\n",
      "6\n",
      "inserting into IntervalList\n",
      "done inserting into IntervalList\n",
      "7\n",
      "inserting into IntervalList\n",
      "done inserting into IntervalList\n",
      "8\n",
      "inserting into IntervalList\n",
      "done inserting into IntervalList\n",
      "11\n",
      "inserting into IntervalList\n",
      "done inserting into IntervalList\n",
      "12\n",
      "inserting into IntervalList\n",
      "done inserting into IntervalList\n",
      "15\n",
      "inserting into IntervalList\n",
      "done inserting into IntervalList\n",
      "20\n",
      "inserting into IntervalList\n",
      "done inserting into IntervalList\n",
      "22\n",
      "inserting into IntervalList\n",
      "done inserting into IntervalList\n",
      "26\n",
      "inserting into IntervalList\n",
      "done inserting into IntervalList\n",
      "28\n",
      "inserting into IntervalList\n",
      "done inserting into IntervalList\n",
      "29\n",
      "inserting into IntervalList\n",
      "done inserting into IntervalList\n",
      "30\n",
      "inserting into IntervalList\n",
      "done inserting into IntervalList\n",
      "31\n",
      "inserting into IntervalList\n",
      "done inserting into IntervalList\n",
      "36\n",
      "inserting into IntervalList\n",
      "done inserting into IntervalList\n",
      "42\n",
      "inserting into IntervalList\n",
      "done inserting into IntervalList\n",
      "43\n",
      "inserting into IntervalList\n",
      "done inserting into IntervalList\n",
      "45\n",
      "inserting into IntervalList\n",
      "done inserting into IntervalList\n",
      "47\n",
      "inserting into IntervalList\n",
      "done inserting into IntervalList\n",
      "49\n",
      "inserting into IntervalList\n",
      "done inserting into IntervalList\n",
      "50\n",
      "inserting into IntervalList\n",
      "done inserting into IntervalList\n",
      "51\n",
      "inserting into IntervalList\n",
      "done inserting into IntervalList\n",
      "55\n",
      "inserting into IntervalList\n",
      "done inserting into IntervalList\n",
      "56\n",
      "inserting into IntervalList\n",
      "done inserting into IntervalList\n",
      "61\n",
      "inserting into IntervalList\n",
      "done inserting into IntervalList\n"
     ]
    },
    {
     "name": "stderr",
     "output_type": "stream",
     "text": [
      "[09:48:43][INFO] Spyglass: Running spike sorting on {'nwb_file_name': 'Julio20230804_.nwb', 'sort_group_id': 11, 'sort_interval_name': '05_Seq2Sleep3', 'preproc_params_name': 'franklab_tetrode_hippocampus', 'team_name': 'SequenceTask', 'sorter': 'clusterless_thresholder', 'sorter_params_name': 'default', 'artifact_removed_interval_list_name': 'Julio20230804_.nwb_05_Seq2Sleep3_11_franklab_tetrode_hippocampus_ampl_1500_prop_075_1ms_artifact_removed_valid_times_track_time_only'}...\n",
      "03-May-25 09:48:43 Running spike sorting on {'nwb_file_name': 'Julio20230804_.nwb', 'sort_group_id': 11, 'sort_interval_name': '05_Seq2Sleep3', 'preproc_params_name': 'franklab_tetrode_hippocampus', 'team_name': 'SequenceTask', 'sorter': 'clusterless_thresholder', 'sorter_params_name': 'default', 'artifact_removed_interval_list_name': 'Julio20230804_.nwb_05_Seq2Sleep3_11_franklab_tetrode_hippocampus_ampl_1500_prop_075_1ms_artifact_removed_valid_times_track_time_only'}...\n"
     ]
    },
    {
     "data": {
      "application/vnd.jupyter.widget-view+json": {
       "model_id": "e65434fe350946c79f9f6eea6a0714fb",
       "version_major": 2,
       "version_minor": 0
      },
      "text/plain": [
       "detect peaks using locally_exclusive:   0%|          | 0/2513 [00:00<?, ?it/s]"
      ]
     },
     "metadata": {},
     "output_type": "display_data"
    },
    {
     "name": "stderr",
     "output_type": "stream",
     "text": [
      "[09:48:49][INFO] Spyglass: Saving sorting results...\n",
      "03-May-25 09:48:49 Saving sorting results...\n",
      "[09:48:53][INFO] Spyglass: Running spike sorting on {'nwb_file_name': 'Julio20230804_.nwb', 'sort_group_id': 12, 'sort_interval_name': '05_Seq2Sleep3', 'preproc_params_name': 'franklab_tetrode_hippocampus', 'team_name': 'SequenceTask', 'sorter': 'clusterless_thresholder', 'sorter_params_name': 'default', 'artifact_removed_interval_list_name': 'Julio20230804_.nwb_05_Seq2Sleep3_12_franklab_tetrode_hippocampus_ampl_1500_prop_075_1ms_artifact_removed_valid_times_track_time_only'}...\n",
      "03-May-25 09:48:53 Running spike sorting on {'nwb_file_name': 'Julio20230804_.nwb', 'sort_group_id': 12, 'sort_interval_name': '05_Seq2Sleep3', 'preproc_params_name': 'franklab_tetrode_hippocampus', 'team_name': 'SequenceTask', 'sorter': 'clusterless_thresholder', 'sorter_params_name': 'default', 'artifact_removed_interval_list_name': 'Julio20230804_.nwb_05_Seq2Sleep3_12_franklab_tetrode_hippocampus_ampl_1500_prop_075_1ms_artifact_removed_valid_times_track_time_only'}...\n"
     ]
    },
    {
     "data": {
      "application/vnd.jupyter.widget-view+json": {
       "model_id": "bb041c5c88f7464e804358a9b0f8c478",
       "version_major": 2,
       "version_minor": 0
      },
      "text/plain": [
       "detect peaks using locally_exclusive:   0%|          | 0/2513 [00:00<?, ?it/s]"
      ]
     },
     "metadata": {},
     "output_type": "display_data"
    },
    {
     "name": "stderr",
     "output_type": "stream",
     "text": [
      "[09:49:01][INFO] Spyglass: Saving sorting results...\n",
      "03-May-25 09:49:01 Saving sorting results...\n",
      "[09:49:06][INFO] Spyglass: Running spike sorting on {'nwb_file_name': 'Julio20230804_.nwb', 'sort_group_id': 15, 'sort_interval_name': '05_Seq2Sleep3', 'preproc_params_name': 'franklab_tetrode_hippocampus', 'team_name': 'SequenceTask', 'sorter': 'clusterless_thresholder', 'sorter_params_name': 'default', 'artifact_removed_interval_list_name': 'Julio20230804_.nwb_05_Seq2Sleep3_15_franklab_tetrode_hippocampus_ampl_1500_prop_075_1ms_artifact_removed_valid_times_track_time_only'}...\n",
      "03-May-25 09:49:06 Running spike sorting on {'nwb_file_name': 'Julio20230804_.nwb', 'sort_group_id': 15, 'sort_interval_name': '05_Seq2Sleep3', 'preproc_params_name': 'franklab_tetrode_hippocampus', 'team_name': 'SequenceTask', 'sorter': 'clusterless_thresholder', 'sorter_params_name': 'default', 'artifact_removed_interval_list_name': 'Julio20230804_.nwb_05_Seq2Sleep3_15_franklab_tetrode_hippocampus_ampl_1500_prop_075_1ms_artifact_removed_valid_times_track_time_only'}...\n"
     ]
    },
    {
     "data": {
      "application/vnd.jupyter.widget-view+json": {
       "model_id": "bff25d6215b448868a3d88f21487ce75",
       "version_major": 2,
       "version_minor": 0
      },
      "text/plain": [
       "detect peaks using locally_exclusive:   0%|          | 0/2513 [00:00<?, ?it/s]"
      ]
     },
     "metadata": {},
     "output_type": "display_data"
    },
    {
     "name": "stderr",
     "output_type": "stream",
     "text": [
      "[09:49:12][INFO] Spyglass: Saving sorting results...\n",
      "03-May-25 09:49:12 Saving sorting results...\n",
      "[09:49:17][INFO] Spyglass: Running spike sorting on {'nwb_file_name': 'Julio20230804_.nwb', 'sort_group_id': 20, 'sort_interval_name': '05_Seq2Sleep3', 'preproc_params_name': 'franklab_tetrode_hippocampus', 'team_name': 'SequenceTask', 'sorter': 'clusterless_thresholder', 'sorter_params_name': 'default', 'artifact_removed_interval_list_name': 'Julio20230804_.nwb_05_Seq2Sleep3_20_franklab_tetrode_hippocampus_ampl_1500_prop_075_1ms_artifact_removed_valid_times_track_time_only'}...\n",
      "03-May-25 09:49:17 Running spike sorting on {'nwb_file_name': 'Julio20230804_.nwb', 'sort_group_id': 20, 'sort_interval_name': '05_Seq2Sleep3', 'preproc_params_name': 'franklab_tetrode_hippocampus', 'team_name': 'SequenceTask', 'sorter': 'clusterless_thresholder', 'sorter_params_name': 'default', 'artifact_removed_interval_list_name': 'Julio20230804_.nwb_05_Seq2Sleep3_20_franklab_tetrode_hippocampus_ampl_1500_prop_075_1ms_artifact_removed_valid_times_track_time_only'}...\n"
     ]
    },
    {
     "data": {
      "application/vnd.jupyter.widget-view+json": {
       "model_id": "48c8432db6cb4749aa79f626af754cce",
       "version_major": 2,
       "version_minor": 0
      },
      "text/plain": [
       "detect peaks using locally_exclusive:   0%|          | 0/2513 [00:00<?, ?it/s]"
      ]
     },
     "metadata": {},
     "output_type": "display_data"
    },
    {
     "name": "stderr",
     "output_type": "stream",
     "text": [
      "[09:49:23][INFO] Spyglass: Saving sorting results...\n",
      "03-May-25 09:49:23 Saving sorting results...\n",
      "[09:49:28][INFO] Spyglass: Running spike sorting on {'nwb_file_name': 'Julio20230804_.nwb', 'sort_group_id': 22, 'sort_interval_name': '05_Seq2Sleep3', 'preproc_params_name': 'franklab_tetrode_hippocampus', 'team_name': 'SequenceTask', 'sorter': 'clusterless_thresholder', 'sorter_params_name': 'default', 'artifact_removed_interval_list_name': 'Julio20230804_.nwb_05_Seq2Sleep3_22_franklab_tetrode_hippocampus_ampl_1500_prop_075_1ms_artifact_removed_valid_times_track_time_only'}...\n",
      "03-May-25 09:49:28 Running spike sorting on {'nwb_file_name': 'Julio20230804_.nwb', 'sort_group_id': 22, 'sort_interval_name': '05_Seq2Sleep3', 'preproc_params_name': 'franklab_tetrode_hippocampus', 'team_name': 'SequenceTask', 'sorter': 'clusterless_thresholder', 'sorter_params_name': 'default', 'artifact_removed_interval_list_name': 'Julio20230804_.nwb_05_Seq2Sleep3_22_franklab_tetrode_hippocampus_ampl_1500_prop_075_1ms_artifact_removed_valid_times_track_time_only'}...\n"
     ]
    },
    {
     "data": {
      "application/vnd.jupyter.widget-view+json": {
       "model_id": "a732c0d552164fb0ad89d1eac511effd",
       "version_major": 2,
       "version_minor": 0
      },
      "text/plain": [
       "detect peaks using locally_exclusive:   0%|          | 0/2513 [00:00<?, ?it/s]"
      ]
     },
     "metadata": {},
     "output_type": "display_data"
    },
    {
     "name": "stderr",
     "output_type": "stream",
     "text": [
      "[09:49:35][INFO] Spyglass: Saving sorting results...\n",
      "03-May-25 09:49:35 Saving sorting results...\n",
      "[09:49:39][INFO] Spyglass: Running spike sorting on {'nwb_file_name': 'Julio20230804_.nwb', 'sort_group_id': 26, 'sort_interval_name': '05_Seq2Sleep3', 'preproc_params_name': 'franklab_tetrode_hippocampus', 'team_name': 'SequenceTask', 'sorter': 'clusterless_thresholder', 'sorter_params_name': 'default', 'artifact_removed_interval_list_name': 'Julio20230804_.nwb_05_Seq2Sleep3_26_franklab_tetrode_hippocampus_ampl_1500_prop_075_1ms_artifact_removed_valid_times_track_time_only'}...\n",
      "03-May-25 09:49:39 Running spike sorting on {'nwb_file_name': 'Julio20230804_.nwb', 'sort_group_id': 26, 'sort_interval_name': '05_Seq2Sleep3', 'preproc_params_name': 'franklab_tetrode_hippocampus', 'team_name': 'SequenceTask', 'sorter': 'clusterless_thresholder', 'sorter_params_name': 'default', 'artifact_removed_interval_list_name': 'Julio20230804_.nwb_05_Seq2Sleep3_26_franklab_tetrode_hippocampus_ampl_1500_prop_075_1ms_artifact_removed_valid_times_track_time_only'}...\n"
     ]
    },
    {
     "data": {
      "application/vnd.jupyter.widget-view+json": {
       "model_id": "e32072426d4e4c46bb2c6eab50c2baee",
       "version_major": 2,
       "version_minor": 0
      },
      "text/plain": [
       "detect peaks using locally_exclusive:   0%|          | 0/2513 [00:00<?, ?it/s]"
      ]
     },
     "metadata": {},
     "output_type": "display_data"
    },
    {
     "name": "stderr",
     "output_type": "stream",
     "text": [
      "[09:49:47][INFO] Spyglass: Saving sorting results...\n",
      "03-May-25 09:49:47 Saving sorting results...\n",
      "[09:49:51][INFO] Spyglass: Running spike sorting on {'nwb_file_name': 'Julio20230804_.nwb', 'sort_group_id': 28, 'sort_interval_name': '05_Seq2Sleep3', 'preproc_params_name': 'franklab_tetrode_hippocampus', 'team_name': 'SequenceTask', 'sorter': 'clusterless_thresholder', 'sorter_params_name': 'default', 'artifact_removed_interval_list_name': 'Julio20230804_.nwb_05_Seq2Sleep3_28_franklab_tetrode_hippocampus_ampl_1500_prop_075_1ms_artifact_removed_valid_times_track_time_only'}...\n",
      "03-May-25 09:49:51 Running spike sorting on {'nwb_file_name': 'Julio20230804_.nwb', 'sort_group_id': 28, 'sort_interval_name': '05_Seq2Sleep3', 'preproc_params_name': 'franklab_tetrode_hippocampus', 'team_name': 'SequenceTask', 'sorter': 'clusterless_thresholder', 'sorter_params_name': 'default', 'artifact_removed_interval_list_name': 'Julio20230804_.nwb_05_Seq2Sleep3_28_franklab_tetrode_hippocampus_ampl_1500_prop_075_1ms_artifact_removed_valid_times_track_time_only'}...\n"
     ]
    },
    {
     "data": {
      "application/vnd.jupyter.widget-view+json": {
       "model_id": "32bc0cc08fd844dbbbf5602e437b7b64",
       "version_major": 2,
       "version_minor": 0
      },
      "text/plain": [
       "detect peaks using locally_exclusive:   0%|          | 0/2513 [00:00<?, ?it/s]"
      ]
     },
     "metadata": {},
     "output_type": "display_data"
    },
    {
     "name": "stderr",
     "output_type": "stream",
     "text": [
      "[09:49:57][INFO] Spyglass: Saving sorting results...\n",
      "03-May-25 09:49:57 Saving sorting results...\n",
      "[09:50:02][INFO] Spyglass: Running spike sorting on {'nwb_file_name': 'Julio20230804_.nwb', 'sort_group_id': 29, 'sort_interval_name': '05_Seq2Sleep3', 'preproc_params_name': 'franklab_tetrode_hippocampus', 'team_name': 'SequenceTask', 'sorter': 'clusterless_thresholder', 'sorter_params_name': 'default', 'artifact_removed_interval_list_name': 'Julio20230804_.nwb_05_Seq2Sleep3_29_franklab_tetrode_hippocampus_ampl_1500_prop_075_1ms_artifact_removed_valid_times_track_time_only'}...\n",
      "03-May-25 09:50:02 Running spike sorting on {'nwb_file_name': 'Julio20230804_.nwb', 'sort_group_id': 29, 'sort_interval_name': '05_Seq2Sleep3', 'preproc_params_name': 'franklab_tetrode_hippocampus', 'team_name': 'SequenceTask', 'sorter': 'clusterless_thresholder', 'sorter_params_name': 'default', 'artifact_removed_interval_list_name': 'Julio20230804_.nwb_05_Seq2Sleep3_29_franklab_tetrode_hippocampus_ampl_1500_prop_075_1ms_artifact_removed_valid_times_track_time_only'}...\n"
     ]
    },
    {
     "data": {
      "application/vnd.jupyter.widget-view+json": {
       "model_id": "924ac33a63d84d5a8ea50ca3248e4010",
       "version_major": 2,
       "version_minor": 0
      },
      "text/plain": [
       "detect peaks using locally_exclusive:   0%|          | 0/2513 [00:00<?, ?it/s]"
      ]
     },
     "metadata": {},
     "output_type": "display_data"
    },
    {
     "name": "stderr",
     "output_type": "stream",
     "text": [
      "[09:50:08][INFO] Spyglass: Saving sorting results...\n",
      "03-May-25 09:50:08 Saving sorting results...\n",
      "[09:50:12][INFO] Spyglass: Running spike sorting on {'nwb_file_name': 'Julio20230804_.nwb', 'sort_group_id': 2, 'sort_interval_name': '05_Seq2Sleep3', 'preproc_params_name': 'franklab_tetrode_hippocampus', 'team_name': 'SequenceTask', 'sorter': 'clusterless_thresholder', 'sorter_params_name': 'default', 'artifact_removed_interval_list_name': 'Julio20230804_.nwb_05_Seq2Sleep3_2_franklab_tetrode_hippocampus_ampl_1500_prop_075_1ms_artifact_removed_valid_times_track_time_only'}...\n",
      "03-May-25 09:50:12 Running spike sorting on {'nwb_file_name': 'Julio20230804_.nwb', 'sort_group_id': 2, 'sort_interval_name': '05_Seq2Sleep3', 'preproc_params_name': 'franklab_tetrode_hippocampus', 'team_name': 'SequenceTask', 'sorter': 'clusterless_thresholder', 'sorter_params_name': 'default', 'artifact_removed_interval_list_name': 'Julio20230804_.nwb_05_Seq2Sleep3_2_franklab_tetrode_hippocampus_ampl_1500_prop_075_1ms_artifact_removed_valid_times_track_time_only'}...\n"
     ]
    },
    {
     "data": {
      "application/vnd.jupyter.widget-view+json": {
       "model_id": "f178cc9e98504e578bd32f3f95e2970c",
       "version_major": 2,
       "version_minor": 0
      },
      "text/plain": [
       "detect peaks using locally_exclusive:   0%|          | 0/2513 [00:00<?, ?it/s]"
      ]
     },
     "metadata": {},
     "output_type": "display_data"
    },
    {
     "name": "stderr",
     "output_type": "stream",
     "text": [
      "[09:50:18][INFO] Spyglass: Saving sorting results...\n",
      "03-May-25 09:50:18 Saving sorting results...\n",
      "[09:50:24][INFO] Spyglass: Running spike sorting on {'nwb_file_name': 'Julio20230804_.nwb', 'sort_group_id': 30, 'sort_interval_name': '05_Seq2Sleep3', 'preproc_params_name': 'franklab_tetrode_hippocampus', 'team_name': 'SequenceTask', 'sorter': 'clusterless_thresholder', 'sorter_params_name': 'default', 'artifact_removed_interval_list_name': 'Julio20230804_.nwb_05_Seq2Sleep3_30_franklab_tetrode_hippocampus_ampl_1500_prop_075_1ms_artifact_removed_valid_times_track_time_only'}...\n",
      "03-May-25 09:50:24 Running spike sorting on {'nwb_file_name': 'Julio20230804_.nwb', 'sort_group_id': 30, 'sort_interval_name': '05_Seq2Sleep3', 'preproc_params_name': 'franklab_tetrode_hippocampus', 'team_name': 'SequenceTask', 'sorter': 'clusterless_thresholder', 'sorter_params_name': 'default', 'artifact_removed_interval_list_name': 'Julio20230804_.nwb_05_Seq2Sleep3_30_franklab_tetrode_hippocampus_ampl_1500_prop_075_1ms_artifact_removed_valid_times_track_time_only'}...\n"
     ]
    },
    {
     "data": {
      "application/vnd.jupyter.widget-view+json": {
       "model_id": "68b64c8aae594d258834a850a2c6b159",
       "version_major": 2,
       "version_minor": 0
      },
      "text/plain": [
       "detect peaks using locally_exclusive:   0%|          | 0/2513 [00:00<?, ?it/s]"
      ]
     },
     "metadata": {},
     "output_type": "display_data"
    },
    {
     "name": "stderr",
     "output_type": "stream",
     "text": [
      "[09:50:30][INFO] Spyglass: Saving sorting results...\n",
      "03-May-25 09:50:30 Saving sorting results...\n",
      "[09:50:35][INFO] Spyglass: Running spike sorting on {'nwb_file_name': 'Julio20230804_.nwb', 'sort_group_id': 31, 'sort_interval_name': '05_Seq2Sleep3', 'preproc_params_name': 'franklab_tetrode_hippocampus', 'team_name': 'SequenceTask', 'sorter': 'clusterless_thresholder', 'sorter_params_name': 'default', 'artifact_removed_interval_list_name': 'Julio20230804_.nwb_05_Seq2Sleep3_31_franklab_tetrode_hippocampus_ampl_1500_prop_075_1ms_artifact_removed_valid_times_track_time_only'}...\n",
      "03-May-25 09:50:35 Running spike sorting on {'nwb_file_name': 'Julio20230804_.nwb', 'sort_group_id': 31, 'sort_interval_name': '05_Seq2Sleep3', 'preproc_params_name': 'franklab_tetrode_hippocampus', 'team_name': 'SequenceTask', 'sorter': 'clusterless_thresholder', 'sorter_params_name': 'default', 'artifact_removed_interval_list_name': 'Julio20230804_.nwb_05_Seq2Sleep3_31_franklab_tetrode_hippocampus_ampl_1500_prop_075_1ms_artifact_removed_valid_times_track_time_only'}...\n"
     ]
    },
    {
     "data": {
      "application/vnd.jupyter.widget-view+json": {
       "model_id": "1fa12915abf44394bfcc09509c273390",
       "version_major": 2,
       "version_minor": 0
      },
      "text/plain": [
       "detect peaks using locally_exclusive:   0%|          | 0/2513 [00:00<?, ?it/s]"
      ]
     },
     "metadata": {},
     "output_type": "display_data"
    },
    {
     "name": "stderr",
     "output_type": "stream",
     "text": [
      "[09:50:41][INFO] Spyglass: Saving sorting results...\n",
      "03-May-25 09:50:41 Saving sorting results...\n",
      "[09:50:47][INFO] Spyglass: Running spike sorting on {'nwb_file_name': 'Julio20230804_.nwb', 'sort_group_id': 36, 'sort_interval_name': '05_Seq2Sleep3', 'preproc_params_name': 'franklab_tetrode_hippocampus', 'team_name': 'SequenceTask', 'sorter': 'clusterless_thresholder', 'sorter_params_name': 'default', 'artifact_removed_interval_list_name': 'Julio20230804_.nwb_05_Seq2Sleep3_36_franklab_tetrode_hippocampus_ampl_1500_prop_075_1ms_artifact_removed_valid_times_track_time_only'}...\n",
      "03-May-25 09:50:47 Running spike sorting on {'nwb_file_name': 'Julio20230804_.nwb', 'sort_group_id': 36, 'sort_interval_name': '05_Seq2Sleep3', 'preproc_params_name': 'franklab_tetrode_hippocampus', 'team_name': 'SequenceTask', 'sorter': 'clusterless_thresholder', 'sorter_params_name': 'default', 'artifact_removed_interval_list_name': 'Julio20230804_.nwb_05_Seq2Sleep3_36_franklab_tetrode_hippocampus_ampl_1500_prop_075_1ms_artifact_removed_valid_times_track_time_only'}...\n"
     ]
    },
    {
     "data": {
      "application/vnd.jupyter.widget-view+json": {
       "model_id": "c7ef665b1fd940038a8cd4412dc74700",
       "version_major": 2,
       "version_minor": 0
      },
      "text/plain": [
       "detect peaks using locally_exclusive:   0%|          | 0/2513 [00:00<?, ?it/s]"
      ]
     },
     "metadata": {},
     "output_type": "display_data"
    },
    {
     "name": "stderr",
     "output_type": "stream",
     "text": [
      "[09:50:52][INFO] Spyglass: Saving sorting results...\n",
      "03-May-25 09:50:52 Saving sorting results...\n",
      "[09:50:58][INFO] Spyglass: Running spike sorting on {'nwb_file_name': 'Julio20230804_.nwb', 'sort_group_id': 3, 'sort_interval_name': '05_Seq2Sleep3', 'preproc_params_name': 'franklab_tetrode_hippocampus', 'team_name': 'SequenceTask', 'sorter': 'clusterless_thresholder', 'sorter_params_name': 'default', 'artifact_removed_interval_list_name': 'Julio20230804_.nwb_05_Seq2Sleep3_3_franklab_tetrode_hippocampus_ampl_1500_prop_075_1ms_artifact_removed_valid_times_track_time_only'}...\n",
      "03-May-25 09:50:58 Running spike sorting on {'nwb_file_name': 'Julio20230804_.nwb', 'sort_group_id': 3, 'sort_interval_name': '05_Seq2Sleep3', 'preproc_params_name': 'franklab_tetrode_hippocampus', 'team_name': 'SequenceTask', 'sorter': 'clusterless_thresholder', 'sorter_params_name': 'default', 'artifact_removed_interval_list_name': 'Julio20230804_.nwb_05_Seq2Sleep3_3_franklab_tetrode_hippocampus_ampl_1500_prop_075_1ms_artifact_removed_valid_times_track_time_only'}...\n"
     ]
    },
    {
     "data": {
      "application/vnd.jupyter.widget-view+json": {
       "model_id": "e60d9c19597f4fa093c981a7fb6bec4d",
       "version_major": 2,
       "version_minor": 0
      },
      "text/plain": [
       "detect peaks using locally_exclusive:   0%|          | 0/2513 [00:00<?, ?it/s]"
      ]
     },
     "metadata": {},
     "output_type": "display_data"
    },
    {
     "name": "stderr",
     "output_type": "stream",
     "text": [
      "[09:51:03][INFO] Spyglass: Saving sorting results...\n",
      "03-May-25 09:51:03 Saving sorting results...\n",
      "[09:51:08][INFO] Spyglass: Running spike sorting on {'nwb_file_name': 'Julio20230804_.nwb', 'sort_group_id': 42, 'sort_interval_name': '05_Seq2Sleep3', 'preproc_params_name': 'franklab_tetrode_hippocampus', 'team_name': 'SequenceTask', 'sorter': 'clusterless_thresholder', 'sorter_params_name': 'default', 'artifact_removed_interval_list_name': 'Julio20230804_.nwb_05_Seq2Sleep3_42_franklab_tetrode_hippocampus_ampl_1500_prop_075_1ms_artifact_removed_valid_times_track_time_only'}...\n",
      "03-May-25 09:51:08 Running spike sorting on {'nwb_file_name': 'Julio20230804_.nwb', 'sort_group_id': 42, 'sort_interval_name': '05_Seq2Sleep3', 'preproc_params_name': 'franklab_tetrode_hippocampus', 'team_name': 'SequenceTask', 'sorter': 'clusterless_thresholder', 'sorter_params_name': 'default', 'artifact_removed_interval_list_name': 'Julio20230804_.nwb_05_Seq2Sleep3_42_franklab_tetrode_hippocampus_ampl_1500_prop_075_1ms_artifact_removed_valid_times_track_time_only'}...\n"
     ]
    },
    {
     "data": {
      "application/vnd.jupyter.widget-view+json": {
       "model_id": "66de2414afea4e0c9c6eaa248a27b1aa",
       "version_major": 2,
       "version_minor": 0
      },
      "text/plain": [
       "detect peaks using locally_exclusive:   0%|          | 0/2513 [00:00<?, ?it/s]"
      ]
     },
     "metadata": {},
     "output_type": "display_data"
    },
    {
     "name": "stderr",
     "output_type": "stream",
     "text": [
      "[09:51:14][INFO] Spyglass: Saving sorting results...\n",
      "03-May-25 09:51:14 Saving sorting results...\n",
      "[09:51:22][INFO] Spyglass: Running spike sorting on {'nwb_file_name': 'Julio20230804_.nwb', 'sort_group_id': 43, 'sort_interval_name': '05_Seq2Sleep3', 'preproc_params_name': 'franklab_tetrode_hippocampus', 'team_name': 'SequenceTask', 'sorter': 'clusterless_thresholder', 'sorter_params_name': 'default', 'artifact_removed_interval_list_name': 'Julio20230804_.nwb_05_Seq2Sleep3_43_franklab_tetrode_hippocampus_ampl_1500_prop_075_1ms_artifact_removed_valid_times_track_time_only'}...\n",
      "03-May-25 09:51:22 Running spike sorting on {'nwb_file_name': 'Julio20230804_.nwb', 'sort_group_id': 43, 'sort_interval_name': '05_Seq2Sleep3', 'preproc_params_name': 'franklab_tetrode_hippocampus', 'team_name': 'SequenceTask', 'sorter': 'clusterless_thresholder', 'sorter_params_name': 'default', 'artifact_removed_interval_list_name': 'Julio20230804_.nwb_05_Seq2Sleep3_43_franklab_tetrode_hippocampus_ampl_1500_prop_075_1ms_artifact_removed_valid_times_track_time_only'}...\n"
     ]
    },
    {
     "data": {
      "application/vnd.jupyter.widget-view+json": {
       "model_id": "025b0895a9ac43a5b971ef98fcb88b89",
       "version_major": 2,
       "version_minor": 0
      },
      "text/plain": [
       "detect peaks using locally_exclusive:   0%|          | 0/2513 [00:00<?, ?it/s]"
      ]
     },
     "metadata": {},
     "output_type": "display_data"
    },
    {
     "name": "stderr",
     "output_type": "stream",
     "text": [
      "[09:53:18][INFO] Spyglass: Running spike sorting on {'nwb_file_name': 'Julio20230804_.nwb', 'sort_group_id': 61, 'sort_interval_name': '05_Seq2Sleep3', 'preproc_params_name': 'franklab_tetrode_hippocampus', 'team_name': 'SequenceTask', 'sorter': 'clusterless_thresholder', 'sorter_params_name': 'default', 'artifact_removed_interval_list_name': 'Julio20230804_.nwb_05_Seq2Sleep3_61_franklab_tetrode_hippocampus_ampl_1500_prop_075_1ms_artifact_removed_valid_times_track_time_only'}...\n",
      "03-May-25 09:53:18 Running spike sorting on {'nwb_file_name': 'Julio20230804_.nwb', 'sort_group_id': 61, 'sort_interval_name': '05_Seq2Sleep3', 'preproc_params_name': 'franklab_tetrode_hippocampus', 'team_name': 'SequenceTask', 'sorter': 'clusterless_thresholder', 'sorter_params_name': 'default', 'artifact_removed_interval_list_name': 'Julio20230804_.nwb_05_Seq2Sleep3_61_franklab_tetrode_hippocampus_ampl_1500_prop_075_1ms_artifact_removed_valid_times_track_time_only'}...\n"
     ]
    },
    {
     "data": {
      "application/vnd.jupyter.widget-view+json": {
       "model_id": "b5d3c302ac994b44bde961f4efc204cb",
       "version_major": 2,
       "version_minor": 0
      },
      "text/plain": [
       "detect peaks using locally_exclusive:   0%|          | 0/2513 [00:00<?, ?it/s]"
      ]
     },
     "metadata": {},
     "output_type": "display_data"
    },
    {
     "name": "stderr",
     "output_type": "stream",
     "text": [
      "[09:53:24][INFO] Spyglass: Saving sorting results...\n",
      "03-May-25 09:53:24 Saving sorting results...\n",
      "[09:53:32][INFO] Spyglass: Running spike sorting on {'nwb_file_name': 'Julio20230804_.nwb', 'sort_group_id': 6, 'sort_interval_name': '05_Seq2Sleep3', 'preproc_params_name': 'franklab_tetrode_hippocampus', 'team_name': 'SequenceTask', 'sorter': 'clusterless_thresholder', 'sorter_params_name': 'default', 'artifact_removed_interval_list_name': 'Julio20230804_.nwb_05_Seq2Sleep3_6_franklab_tetrode_hippocampus_ampl_1500_prop_075_1ms_artifact_removed_valid_times_track_time_only'}...\n",
      "03-May-25 09:53:32 Running spike sorting on {'nwb_file_name': 'Julio20230804_.nwb', 'sort_group_id': 6, 'sort_interval_name': '05_Seq2Sleep3', 'preproc_params_name': 'franklab_tetrode_hippocampus', 'team_name': 'SequenceTask', 'sorter': 'clusterless_thresholder', 'sorter_params_name': 'default', 'artifact_removed_interval_list_name': 'Julio20230804_.nwb_05_Seq2Sleep3_6_franklab_tetrode_hippocampus_ampl_1500_prop_075_1ms_artifact_removed_valid_times_track_time_only'}...\n"
     ]
    },
    {
     "data": {
      "application/vnd.jupyter.widget-view+json": {
       "model_id": "4feaad5d26fe4c2c8c1ca11db815c9e1",
       "version_major": 2,
       "version_minor": 0
      },
      "text/plain": [
       "detect peaks using locally_exclusive:   0%|          | 0/2513 [00:00<?, ?it/s]"
      ]
     },
     "metadata": {},
     "output_type": "display_data"
    },
    {
     "name": "stderr",
     "output_type": "stream",
     "text": [
      "[09:53:38][INFO] Spyglass: Saving sorting results...\n",
      "03-May-25 09:53:38 Saving sorting results...\n",
      "[09:53:46][INFO] Spyglass: Running spike sorting on {'nwb_file_name': 'Julio20230804_.nwb', 'sort_group_id': 7, 'sort_interval_name': '05_Seq2Sleep3', 'preproc_params_name': 'franklab_tetrode_hippocampus', 'team_name': 'SequenceTask', 'sorter': 'clusterless_thresholder', 'sorter_params_name': 'default', 'artifact_removed_interval_list_name': 'Julio20230804_.nwb_05_Seq2Sleep3_7_franklab_tetrode_hippocampus_ampl_1500_prop_075_1ms_artifact_removed_valid_times_track_time_only'}...\n",
      "03-May-25 09:53:46 Running spike sorting on {'nwb_file_name': 'Julio20230804_.nwb', 'sort_group_id': 7, 'sort_interval_name': '05_Seq2Sleep3', 'preproc_params_name': 'franklab_tetrode_hippocampus', 'team_name': 'SequenceTask', 'sorter': 'clusterless_thresholder', 'sorter_params_name': 'default', 'artifact_removed_interval_list_name': 'Julio20230804_.nwb_05_Seq2Sleep3_7_franklab_tetrode_hippocampus_ampl_1500_prop_075_1ms_artifact_removed_valid_times_track_time_only'}...\n"
     ]
    },
    {
     "data": {
      "application/vnd.jupyter.widget-view+json": {
       "model_id": "eda7d878bf90487bb85ba949587d6b40",
       "version_major": 2,
       "version_minor": 0
      },
      "text/plain": [
       "detect peaks using locally_exclusive:   0%|          | 0/2513 [00:00<?, ?it/s]"
      ]
     },
     "metadata": {},
     "output_type": "display_data"
    },
    {
     "name": "stderr",
     "output_type": "stream",
     "text": [
      "[09:53:52][INFO] Spyglass: Saving sorting results...\n",
      "03-May-25 09:53:52 Saving sorting results...\n",
      "[09:53:59][INFO] Spyglass: Running spike sorting on {'nwb_file_name': 'Julio20230804_.nwb', 'sort_group_id': 8, 'sort_interval_name': '05_Seq2Sleep3', 'preproc_params_name': 'franklab_tetrode_hippocampus', 'team_name': 'SequenceTask', 'sorter': 'clusterless_thresholder', 'sorter_params_name': 'default', 'artifact_removed_interval_list_name': 'Julio20230804_.nwb_05_Seq2Sleep3_8_franklab_tetrode_hippocampus_ampl_1500_prop_075_1ms_artifact_removed_valid_times_track_time_only'}...\n",
      "03-May-25 09:53:59 Running spike sorting on {'nwb_file_name': 'Julio20230804_.nwb', 'sort_group_id': 8, 'sort_interval_name': '05_Seq2Sleep3', 'preproc_params_name': 'franklab_tetrode_hippocampus', 'team_name': 'SequenceTask', 'sorter': 'clusterless_thresholder', 'sorter_params_name': 'default', 'artifact_removed_interval_list_name': 'Julio20230804_.nwb_05_Seq2Sleep3_8_franklab_tetrode_hippocampus_ampl_1500_prop_075_1ms_artifact_removed_valid_times_track_time_only'}...\n"
     ]
    },
    {
     "data": {
      "application/vnd.jupyter.widget-view+json": {
       "model_id": "8e72d929f79b42e4b0cb68f8ddfdc616",
       "version_major": 2,
       "version_minor": 0
      },
      "text/plain": [
       "detect peaks using locally_exclusive:   0%|          | 0/2513 [00:00<?, ?it/s]"
      ]
     },
     "metadata": {},
     "output_type": "display_data"
    },
    {
     "name": "stderr",
     "output_type": "stream",
     "text": [
      "[09:54:05][INFO] Spyglass: Saving sorting results...\n",
      "03-May-25 09:54:05 Saving sorting results...\n"
     ]
    },
    {
     "name": "stdout",
     "output_type": "stream",
     "text": [
      "2\n",
      "inserting into IntervalList\n",
      "done inserting into IntervalList\n",
      "3\n",
      "inserting into IntervalList\n",
      "done inserting into IntervalList\n",
      "6\n",
      "inserting into IntervalList\n",
      "done inserting into IntervalList\n",
      "7\n",
      "inserting into IntervalList\n",
      "done inserting into IntervalList\n",
      "8\n",
      "inserting into IntervalList\n",
      "done inserting into IntervalList\n",
      "11\n",
      "inserting into IntervalList\n",
      "done inserting into IntervalList\n",
      "12\n",
      "inserting into IntervalList\n",
      "done inserting into IntervalList\n",
      "15\n",
      "inserting into IntervalList\n",
      "done inserting into IntervalList\n",
      "20\n",
      "inserting into IntervalList\n",
      "done inserting into IntervalList\n",
      "22\n",
      "inserting into IntervalList\n",
      "done inserting into IntervalList\n",
      "26\n",
      "inserting into IntervalList\n",
      "done inserting into IntervalList\n",
      "28\n",
      "inserting into IntervalList\n",
      "done inserting into IntervalList\n",
      "29\n",
      "inserting into IntervalList\n",
      "done inserting into IntervalList\n",
      "30\n",
      "inserting into IntervalList\n",
      "done inserting into IntervalList\n",
      "31\n",
      "inserting into IntervalList\n",
      "done inserting into IntervalList\n",
      "36\n",
      "inserting into IntervalList\n",
      "done inserting into IntervalList\n",
      "42\n",
      "inserting into IntervalList\n",
      "done inserting into IntervalList\n",
      "43\n",
      "inserting into IntervalList\n",
      "done inserting into IntervalList\n",
      "45\n",
      "inserting into IntervalList\n",
      "done inserting into IntervalList\n",
      "47\n",
      "inserting into IntervalList\n",
      "done inserting into IntervalList\n",
      "49\n",
      "inserting into IntervalList\n",
      "done inserting into IntervalList\n",
      "50\n",
      "inserting into IntervalList\n",
      "done inserting into IntervalList\n",
      "51\n",
      "inserting into IntervalList\n",
      "done inserting into IntervalList\n",
      "55\n",
      "inserting into IntervalList\n",
      "done inserting into IntervalList\n",
      "56\n",
      "inserting into IntervalList\n",
      "done inserting into IntervalList\n",
      "61\n",
      "inserting into IntervalList\n",
      "done inserting into IntervalList\n"
     ]
    },
    {
     "name": "stderr",
     "output_type": "stream",
     "text": [
      "[09:54:14][INFO] Spyglass: Running spike sorting on {'nwb_file_name': 'Julio20230804_.nwb', 'sort_group_id': 11, 'sort_interval_name': '07_Seq2Sleep4', 'preproc_params_name': 'franklab_tetrode_hippocampus', 'team_name': 'SequenceTask', 'sorter': 'clusterless_thresholder', 'sorter_params_name': 'default', 'artifact_removed_interval_list_name': 'Julio20230804_.nwb_07_Seq2Sleep4_11_franklab_tetrode_hippocampus_ampl_1500_prop_075_1ms_artifact_removed_valid_times_track_time_only'}...\n",
      "03-May-25 09:54:14 Running spike sorting on {'nwb_file_name': 'Julio20230804_.nwb', 'sort_group_id': 11, 'sort_interval_name': '07_Seq2Sleep4', 'preproc_params_name': 'franklab_tetrode_hippocampus', 'team_name': 'SequenceTask', 'sorter': 'clusterless_thresholder', 'sorter_params_name': 'default', 'artifact_removed_interval_list_name': 'Julio20230804_.nwb_07_Seq2Sleep4_11_franklab_tetrode_hippocampus_ampl_1500_prop_075_1ms_artifact_removed_valid_times_track_time_only'}...\n"
     ]
    },
    {
     "data": {
      "application/vnd.jupyter.widget-view+json": {
       "model_id": "19ecae2d68c64ab598535f119caaacd9",
       "version_major": 2,
       "version_minor": 0
      },
      "text/plain": [
       "detect peaks using locally_exclusive:   0%|          | 0/2156 [00:00<?, ?it/s]"
      ]
     },
     "metadata": {},
     "output_type": "display_data"
    },
    {
     "name": "stderr",
     "output_type": "stream",
     "text": [
      "[09:54:19][INFO] Spyglass: Saving sorting results...\n",
      "03-May-25 09:54:19 Saving sorting results...\n",
      "[09:54:23][INFO] Spyglass: Running spike sorting on {'nwb_file_name': 'Julio20230804_.nwb', 'sort_group_id': 12, 'sort_interval_name': '07_Seq2Sleep4', 'preproc_params_name': 'franklab_tetrode_hippocampus', 'team_name': 'SequenceTask', 'sorter': 'clusterless_thresholder', 'sorter_params_name': 'default', 'artifact_removed_interval_list_name': 'Julio20230804_.nwb_07_Seq2Sleep4_12_franklab_tetrode_hippocampus_ampl_1500_prop_075_1ms_artifact_removed_valid_times_track_time_only'}...\n",
      "03-May-25 09:54:23 Running spike sorting on {'nwb_file_name': 'Julio20230804_.nwb', 'sort_group_id': 12, 'sort_interval_name': '07_Seq2Sleep4', 'preproc_params_name': 'franklab_tetrode_hippocampus', 'team_name': 'SequenceTask', 'sorter': 'clusterless_thresholder', 'sorter_params_name': 'default', 'artifact_removed_interval_list_name': 'Julio20230804_.nwb_07_Seq2Sleep4_12_franklab_tetrode_hippocampus_ampl_1500_prop_075_1ms_artifact_removed_valid_times_track_time_only'}...\n"
     ]
    },
    {
     "data": {
      "application/vnd.jupyter.widget-view+json": {
       "model_id": "44d80bbeff2a4bee9243fbb6191bc79f",
       "version_major": 2,
       "version_minor": 0
      },
      "text/plain": [
       "detect peaks using locally_exclusive:   0%|          | 0/2156 [00:00<?, ?it/s]"
      ]
     },
     "metadata": {},
     "output_type": "display_data"
    },
    {
     "name": "stderr",
     "output_type": "stream",
     "text": [
      "[09:54:29][INFO] Spyglass: Saving sorting results...\n",
      "03-May-25 09:54:29 Saving sorting results...\n",
      "[09:54:34][INFO] Spyglass: Running spike sorting on {'nwb_file_name': 'Julio20230804_.nwb', 'sort_group_id': 15, 'sort_interval_name': '07_Seq2Sleep4', 'preproc_params_name': 'franklab_tetrode_hippocampus', 'team_name': 'SequenceTask', 'sorter': 'clusterless_thresholder', 'sorter_params_name': 'default', 'artifact_removed_interval_list_name': 'Julio20230804_.nwb_07_Seq2Sleep4_15_franklab_tetrode_hippocampus_ampl_1500_prop_075_1ms_artifact_removed_valid_times_track_time_only'}...\n",
      "03-May-25 09:54:34 Running spike sorting on {'nwb_file_name': 'Julio20230804_.nwb', 'sort_group_id': 15, 'sort_interval_name': '07_Seq2Sleep4', 'preproc_params_name': 'franklab_tetrode_hippocampus', 'team_name': 'SequenceTask', 'sorter': 'clusterless_thresholder', 'sorter_params_name': 'default', 'artifact_removed_interval_list_name': 'Julio20230804_.nwb_07_Seq2Sleep4_15_franklab_tetrode_hippocampus_ampl_1500_prop_075_1ms_artifact_removed_valid_times_track_time_only'}...\n"
     ]
    },
    {
     "data": {
      "application/vnd.jupyter.widget-view+json": {
       "model_id": "3d033eecd12a40269aede5dd6a933e08",
       "version_major": 2,
       "version_minor": 0
      },
      "text/plain": [
       "detect peaks using locally_exclusive:   0%|          | 0/2156 [00:00<?, ?it/s]"
      ]
     },
     "metadata": {},
     "output_type": "display_data"
    },
    {
     "name": "stderr",
     "output_type": "stream",
     "text": [
      "[09:54:38][INFO] Spyglass: Saving sorting results...\n",
      "03-May-25 09:54:38 Saving sorting results...\n",
      "[09:54:42][INFO] Spyglass: Running spike sorting on {'nwb_file_name': 'Julio20230804_.nwb', 'sort_group_id': 20, 'sort_interval_name': '07_Seq2Sleep4', 'preproc_params_name': 'franklab_tetrode_hippocampus', 'team_name': 'SequenceTask', 'sorter': 'clusterless_thresholder', 'sorter_params_name': 'default', 'artifact_removed_interval_list_name': 'Julio20230804_.nwb_07_Seq2Sleep4_20_franklab_tetrode_hippocampus_ampl_1500_prop_075_1ms_artifact_removed_valid_times_track_time_only'}...\n",
      "03-May-25 09:54:42 Running spike sorting on {'nwb_file_name': 'Julio20230804_.nwb', 'sort_group_id': 20, 'sort_interval_name': '07_Seq2Sleep4', 'preproc_params_name': 'franklab_tetrode_hippocampus', 'team_name': 'SequenceTask', 'sorter': 'clusterless_thresholder', 'sorter_params_name': 'default', 'artifact_removed_interval_list_name': 'Julio20230804_.nwb_07_Seq2Sleep4_20_franklab_tetrode_hippocampus_ampl_1500_prop_075_1ms_artifact_removed_valid_times_track_time_only'}...\n"
     ]
    },
    {
     "data": {
      "application/vnd.jupyter.widget-view+json": {
       "model_id": "de0cc3ad324c4e96b13c5e54f277bb6d",
       "version_major": 2,
       "version_minor": 0
      },
      "text/plain": [
       "detect peaks using locally_exclusive:   0%|          | 0/2156 [00:00<?, ?it/s]"
      ]
     },
     "metadata": {},
     "output_type": "display_data"
    },
    {
     "name": "stderr",
     "output_type": "stream",
     "text": [
      "[09:54:47][INFO] Spyglass: Saving sorting results...\n",
      "03-May-25 09:54:47 Saving sorting results...\n",
      "[09:54:51][INFO] Spyglass: Running spike sorting on {'nwb_file_name': 'Julio20230804_.nwb', 'sort_group_id': 22, 'sort_interval_name': '07_Seq2Sleep4', 'preproc_params_name': 'franklab_tetrode_hippocampus', 'team_name': 'SequenceTask', 'sorter': 'clusterless_thresholder', 'sorter_params_name': 'default', 'artifact_removed_interval_list_name': 'Julio20230804_.nwb_07_Seq2Sleep4_22_franklab_tetrode_hippocampus_ampl_1500_prop_075_1ms_artifact_removed_valid_times_track_time_only'}...\n",
      "03-May-25 09:54:51 Running spike sorting on {'nwb_file_name': 'Julio20230804_.nwb', 'sort_group_id': 22, 'sort_interval_name': '07_Seq2Sleep4', 'preproc_params_name': 'franklab_tetrode_hippocampus', 'team_name': 'SequenceTask', 'sorter': 'clusterless_thresholder', 'sorter_params_name': 'default', 'artifact_removed_interval_list_name': 'Julio20230804_.nwb_07_Seq2Sleep4_22_franklab_tetrode_hippocampus_ampl_1500_prop_075_1ms_artifact_removed_valid_times_track_time_only'}...\n"
     ]
    },
    {
     "data": {
      "application/vnd.jupyter.widget-view+json": {
       "model_id": "67f0ed1eb8054320a707aec28e268916",
       "version_major": 2,
       "version_minor": 0
      },
      "text/plain": [
       "detect peaks using locally_exclusive:   0%|          | 0/2156 [00:00<?, ?it/s]"
      ]
     },
     "metadata": {},
     "output_type": "display_data"
    },
    {
     "name": "stderr",
     "output_type": "stream",
     "text": [
      "[09:54:56][INFO] Spyglass: Saving sorting results...\n",
      "03-May-25 09:54:56 Saving sorting results...\n",
      "[09:55:00][INFO] Spyglass: Running spike sorting on {'nwb_file_name': 'Julio20230804_.nwb', 'sort_group_id': 26, 'sort_interval_name': '07_Seq2Sleep4', 'preproc_params_name': 'franklab_tetrode_hippocampus', 'team_name': 'SequenceTask', 'sorter': 'clusterless_thresholder', 'sorter_params_name': 'default', 'artifact_removed_interval_list_name': 'Julio20230804_.nwb_07_Seq2Sleep4_26_franklab_tetrode_hippocampus_ampl_1500_prop_075_1ms_artifact_removed_valid_times_track_time_only'}...\n",
      "03-May-25 09:55:00 Running spike sorting on {'nwb_file_name': 'Julio20230804_.nwb', 'sort_group_id': 26, 'sort_interval_name': '07_Seq2Sleep4', 'preproc_params_name': 'franklab_tetrode_hippocampus', 'team_name': 'SequenceTask', 'sorter': 'clusterless_thresholder', 'sorter_params_name': 'default', 'artifact_removed_interval_list_name': 'Julio20230804_.nwb_07_Seq2Sleep4_26_franklab_tetrode_hippocampus_ampl_1500_prop_075_1ms_artifact_removed_valid_times_track_time_only'}...\n"
     ]
    },
    {
     "data": {
      "application/vnd.jupyter.widget-view+json": {
       "model_id": "a77e47bc44b94c0e8f20ff288756136e",
       "version_major": 2,
       "version_minor": 0
      },
      "text/plain": [
       "detect peaks using locally_exclusive:   0%|          | 0/2156 [00:00<?, ?it/s]"
      ]
     },
     "metadata": {},
     "output_type": "display_data"
    },
    {
     "name": "stderr",
     "output_type": "stream",
     "text": [
      "[09:55:05][INFO] Spyglass: Saving sorting results...\n",
      "03-May-25 09:55:05 Saving sorting results...\n",
      "[09:55:09][INFO] Spyglass: Running spike sorting on {'nwb_file_name': 'Julio20230804_.nwb', 'sort_group_id': 28, 'sort_interval_name': '07_Seq2Sleep4', 'preproc_params_name': 'franklab_tetrode_hippocampus', 'team_name': 'SequenceTask', 'sorter': 'clusterless_thresholder', 'sorter_params_name': 'default', 'artifact_removed_interval_list_name': 'Julio20230804_.nwb_07_Seq2Sleep4_28_franklab_tetrode_hippocampus_ampl_1500_prop_075_1ms_artifact_removed_valid_times_track_time_only'}...\n",
      "03-May-25 09:55:09 Running spike sorting on {'nwb_file_name': 'Julio20230804_.nwb', 'sort_group_id': 28, 'sort_interval_name': '07_Seq2Sleep4', 'preproc_params_name': 'franklab_tetrode_hippocampus', 'team_name': 'SequenceTask', 'sorter': 'clusterless_thresholder', 'sorter_params_name': 'default', 'artifact_removed_interval_list_name': 'Julio20230804_.nwb_07_Seq2Sleep4_28_franklab_tetrode_hippocampus_ampl_1500_prop_075_1ms_artifact_removed_valid_times_track_time_only'}...\n"
     ]
    },
    {
     "data": {
      "application/vnd.jupyter.widget-view+json": {
       "model_id": "430df99aca314bfd80c3b46f03e27374",
       "version_major": 2,
       "version_minor": 0
      },
      "text/plain": [
       "detect peaks using locally_exclusive:   0%|          | 0/2156 [00:00<?, ?it/s]"
      ]
     },
     "metadata": {},
     "output_type": "display_data"
    },
    {
     "name": "stderr",
     "output_type": "stream",
     "text": [
      "[09:55:15][INFO] Spyglass: Saving sorting results...\n",
      "03-May-25 09:55:15 Saving sorting results...\n",
      "[09:55:19][INFO] Spyglass: Running spike sorting on {'nwb_file_name': 'Julio20230804_.nwb', 'sort_group_id': 29, 'sort_interval_name': '07_Seq2Sleep4', 'preproc_params_name': 'franklab_tetrode_hippocampus', 'team_name': 'SequenceTask', 'sorter': 'clusterless_thresholder', 'sorter_params_name': 'default', 'artifact_removed_interval_list_name': 'Julio20230804_.nwb_07_Seq2Sleep4_29_franklab_tetrode_hippocampus_ampl_1500_prop_075_1ms_artifact_removed_valid_times_track_time_only'}...\n",
      "03-May-25 09:55:19 Running spike sorting on {'nwb_file_name': 'Julio20230804_.nwb', 'sort_group_id': 29, 'sort_interval_name': '07_Seq2Sleep4', 'preproc_params_name': 'franklab_tetrode_hippocampus', 'team_name': 'SequenceTask', 'sorter': 'clusterless_thresholder', 'sorter_params_name': 'default', 'artifact_removed_interval_list_name': 'Julio20230804_.nwb_07_Seq2Sleep4_29_franklab_tetrode_hippocampus_ampl_1500_prop_075_1ms_artifact_removed_valid_times_track_time_only'}...\n"
     ]
    },
    {
     "data": {
      "application/vnd.jupyter.widget-view+json": {
       "model_id": "2b87deb28bcd4d68944cb04cc903f97f",
       "version_major": 2,
       "version_minor": 0
      },
      "text/plain": [
       "detect peaks using locally_exclusive:   0%|          | 0/2156 [00:00<?, ?it/s]"
      ]
     },
     "metadata": {},
     "output_type": "display_data"
    },
    {
     "name": "stderr",
     "output_type": "stream",
     "text": [
      "[09:55:24][INFO] Spyglass: Saving sorting results...\n",
      "03-May-25 09:55:24 Saving sorting results...\n",
      "[09:55:28][INFO] Spyglass: Running spike sorting on {'nwb_file_name': 'Julio20230804_.nwb', 'sort_group_id': 2, 'sort_interval_name': '07_Seq2Sleep4', 'preproc_params_name': 'franklab_tetrode_hippocampus', 'team_name': 'SequenceTask', 'sorter': 'clusterless_thresholder', 'sorter_params_name': 'default', 'artifact_removed_interval_list_name': 'Julio20230804_.nwb_07_Seq2Sleep4_2_franklab_tetrode_hippocampus_ampl_1500_prop_075_1ms_artifact_removed_valid_times_track_time_only'}...\n",
      "03-May-25 09:55:28 Running spike sorting on {'nwb_file_name': 'Julio20230804_.nwb', 'sort_group_id': 2, 'sort_interval_name': '07_Seq2Sleep4', 'preproc_params_name': 'franklab_tetrode_hippocampus', 'team_name': 'SequenceTask', 'sorter': 'clusterless_thresholder', 'sorter_params_name': 'default', 'artifact_removed_interval_list_name': 'Julio20230804_.nwb_07_Seq2Sleep4_2_franklab_tetrode_hippocampus_ampl_1500_prop_075_1ms_artifact_removed_valid_times_track_time_only'}...\n"
     ]
    },
    {
     "data": {
      "application/vnd.jupyter.widget-view+json": {
       "model_id": "d6413b5031e0403084b0d6e7d19a31b5",
       "version_major": 2,
       "version_minor": 0
      },
      "text/plain": [
       "detect peaks using locally_exclusive:   0%|          | 0/2156 [00:00<?, ?it/s]"
      ]
     },
     "metadata": {},
     "output_type": "display_data"
    },
    {
     "name": "stderr",
     "output_type": "stream",
     "text": [
      "[09:55:33][INFO] Spyglass: Saving sorting results...\n",
      "03-May-25 09:55:33 Saving sorting results...\n",
      "[09:55:36][INFO] Spyglass: Running spike sorting on {'nwb_file_name': 'Julio20230804_.nwb', 'sort_group_id': 30, 'sort_interval_name': '07_Seq2Sleep4', 'preproc_params_name': 'franklab_tetrode_hippocampus', 'team_name': 'SequenceTask', 'sorter': 'clusterless_thresholder', 'sorter_params_name': 'default', 'artifact_removed_interval_list_name': 'Julio20230804_.nwb_07_Seq2Sleep4_30_franklab_tetrode_hippocampus_ampl_1500_prop_075_1ms_artifact_removed_valid_times_track_time_only'}...\n",
      "03-May-25 09:55:36 Running spike sorting on {'nwb_file_name': 'Julio20230804_.nwb', 'sort_group_id': 30, 'sort_interval_name': '07_Seq2Sleep4', 'preproc_params_name': 'franklab_tetrode_hippocampus', 'team_name': 'SequenceTask', 'sorter': 'clusterless_thresholder', 'sorter_params_name': 'default', 'artifact_removed_interval_list_name': 'Julio20230804_.nwb_07_Seq2Sleep4_30_franklab_tetrode_hippocampus_ampl_1500_prop_075_1ms_artifact_removed_valid_times_track_time_only'}...\n"
     ]
    },
    {
     "data": {
      "application/vnd.jupyter.widget-view+json": {
       "model_id": "604f04b8cf2b4301a743d4fcf20341a5",
       "version_major": 2,
       "version_minor": 0
      },
      "text/plain": [
       "detect peaks using locally_exclusive:   0%|          | 0/2156 [00:00<?, ?it/s]"
      ]
     },
     "metadata": {},
     "output_type": "display_data"
    },
    {
     "name": "stderr",
     "output_type": "stream",
     "text": [
      "[09:55:40][INFO] Spyglass: Saving sorting results...\n",
      "03-May-25 09:55:40 Saving sorting results...\n",
      "[09:55:43][INFO] Spyglass: Running spike sorting on {'nwb_file_name': 'Julio20230804_.nwb', 'sort_group_id': 31, 'sort_interval_name': '07_Seq2Sleep4', 'preproc_params_name': 'franklab_tetrode_hippocampus', 'team_name': 'SequenceTask', 'sorter': 'clusterless_thresholder', 'sorter_params_name': 'default', 'artifact_removed_interval_list_name': 'Julio20230804_.nwb_07_Seq2Sleep4_31_franklab_tetrode_hippocampus_ampl_1500_prop_075_1ms_artifact_removed_valid_times_track_time_only'}...\n",
      "03-May-25 09:55:43 Running spike sorting on {'nwb_file_name': 'Julio20230804_.nwb', 'sort_group_id': 31, 'sort_interval_name': '07_Seq2Sleep4', 'preproc_params_name': 'franklab_tetrode_hippocampus', 'team_name': 'SequenceTask', 'sorter': 'clusterless_thresholder', 'sorter_params_name': 'default', 'artifact_removed_interval_list_name': 'Julio20230804_.nwb_07_Seq2Sleep4_31_franklab_tetrode_hippocampus_ampl_1500_prop_075_1ms_artifact_removed_valid_times_track_time_only'}...\n"
     ]
    },
    {
     "data": {
      "application/vnd.jupyter.widget-view+json": {
       "model_id": "fe186f463dc34104b52557ea2baab27c",
       "version_major": 2,
       "version_minor": 0
      },
      "text/plain": [
       "detect peaks using locally_exclusive:   0%|          | 0/2156 [00:00<?, ?it/s]"
      ]
     },
     "metadata": {},
     "output_type": "display_data"
    },
    {
     "name": "stderr",
     "output_type": "stream",
     "text": [
      "[09:55:47][INFO] Spyglass: Saving sorting results...\n",
      "03-May-25 09:55:47 Saving sorting results...\n",
      "[09:55:52][INFO] Spyglass: Running spike sorting on {'nwb_file_name': 'Julio20230804_.nwb', 'sort_group_id': 36, 'sort_interval_name': '07_Seq2Sleep4', 'preproc_params_name': 'franklab_tetrode_hippocampus', 'team_name': 'SequenceTask', 'sorter': 'clusterless_thresholder', 'sorter_params_name': 'default', 'artifact_removed_interval_list_name': 'Julio20230804_.nwb_07_Seq2Sleep4_36_franklab_tetrode_hippocampus_ampl_1500_prop_075_1ms_artifact_removed_valid_times_track_time_only'}...\n",
      "03-May-25 09:55:52 Running spike sorting on {'nwb_file_name': 'Julio20230804_.nwb', 'sort_group_id': 36, 'sort_interval_name': '07_Seq2Sleep4', 'preproc_params_name': 'franklab_tetrode_hippocampus', 'team_name': 'SequenceTask', 'sorter': 'clusterless_thresholder', 'sorter_params_name': 'default', 'artifact_removed_interval_list_name': 'Julio20230804_.nwb_07_Seq2Sleep4_36_franklab_tetrode_hippocampus_ampl_1500_prop_075_1ms_artifact_removed_valid_times_track_time_only'}...\n"
     ]
    },
    {
     "data": {
      "application/vnd.jupyter.widget-view+json": {
       "model_id": "2958f5c858604ab283ed14811a98fd15",
       "version_major": 2,
       "version_minor": 0
      },
      "text/plain": [
       "detect peaks using locally_exclusive:   0%|          | 0/2156 [00:00<?, ?it/s]"
      ]
     },
     "metadata": {},
     "output_type": "display_data"
    },
    {
     "name": "stderr",
     "output_type": "stream",
     "text": [
      "[09:55:55][INFO] Spyglass: Saving sorting results...\n",
      "03-May-25 09:55:55 Saving sorting results...\n",
      "[09:55:59][INFO] Spyglass: Running spike sorting on {'nwb_file_name': 'Julio20230804_.nwb', 'sort_group_id': 3, 'sort_interval_name': '07_Seq2Sleep4', 'preproc_params_name': 'franklab_tetrode_hippocampus', 'team_name': 'SequenceTask', 'sorter': 'clusterless_thresholder', 'sorter_params_name': 'default', 'artifact_removed_interval_list_name': 'Julio20230804_.nwb_07_Seq2Sleep4_3_franklab_tetrode_hippocampus_ampl_1500_prop_075_1ms_artifact_removed_valid_times_track_time_only'}...\n",
      "03-May-25 09:55:59 Running spike sorting on {'nwb_file_name': 'Julio20230804_.nwb', 'sort_group_id': 3, 'sort_interval_name': '07_Seq2Sleep4', 'preproc_params_name': 'franklab_tetrode_hippocampus', 'team_name': 'SequenceTask', 'sorter': 'clusterless_thresholder', 'sorter_params_name': 'default', 'artifact_removed_interval_list_name': 'Julio20230804_.nwb_07_Seq2Sleep4_3_franklab_tetrode_hippocampus_ampl_1500_prop_075_1ms_artifact_removed_valid_times_track_time_only'}...\n"
     ]
    },
    {
     "data": {
      "application/vnd.jupyter.widget-view+json": {
       "model_id": "4b5d75f6f32a41ceb73c108afcc9a739",
       "version_major": 2,
       "version_minor": 0
      },
      "text/plain": [
       "detect peaks using locally_exclusive:   0%|          | 0/2156 [00:00<?, ?it/s]"
      ]
     },
     "metadata": {},
     "output_type": "display_data"
    },
    {
     "name": "stderr",
     "output_type": "stream",
     "text": [
      "[09:56:04][INFO] Spyglass: Saving sorting results...\n",
      "03-May-25 09:56:04 Saving sorting results...\n",
      "[09:56:08][INFO] Spyglass: Running spike sorting on {'nwb_file_name': 'Julio20230804_.nwb', 'sort_group_id': 42, 'sort_interval_name': '07_Seq2Sleep4', 'preproc_params_name': 'franklab_tetrode_hippocampus', 'team_name': 'SequenceTask', 'sorter': 'clusterless_thresholder', 'sorter_params_name': 'default', 'artifact_removed_interval_list_name': 'Julio20230804_.nwb_07_Seq2Sleep4_42_franklab_tetrode_hippocampus_ampl_1500_prop_075_1ms_artifact_removed_valid_times_track_time_only'}...\n",
      "03-May-25 09:56:08 Running spike sorting on {'nwb_file_name': 'Julio20230804_.nwb', 'sort_group_id': 42, 'sort_interval_name': '07_Seq2Sleep4', 'preproc_params_name': 'franklab_tetrode_hippocampus', 'team_name': 'SequenceTask', 'sorter': 'clusterless_thresholder', 'sorter_params_name': 'default', 'artifact_removed_interval_list_name': 'Julio20230804_.nwb_07_Seq2Sleep4_42_franklab_tetrode_hippocampus_ampl_1500_prop_075_1ms_artifact_removed_valid_times_track_time_only'}...\n"
     ]
    },
    {
     "data": {
      "application/vnd.jupyter.widget-view+json": {
       "model_id": "513ea2d0471a49b3b705c1e3845a97b0",
       "version_major": 2,
       "version_minor": 0
      },
      "text/plain": [
       "detect peaks using locally_exclusive:   0%|          | 0/2156 [00:00<?, ?it/s]"
      ]
     },
     "metadata": {},
     "output_type": "display_data"
    },
    {
     "name": "stderr",
     "output_type": "stream",
     "text": [
      "[09:56:14][INFO] Spyglass: Saving sorting results...\n",
      "03-May-25 09:56:14 Saving sorting results...\n",
      "[09:56:18][INFO] Spyglass: Running spike sorting on {'nwb_file_name': 'Julio20230804_.nwb', 'sort_group_id': 43, 'sort_interval_name': '07_Seq2Sleep4', 'preproc_params_name': 'franklab_tetrode_hippocampus', 'team_name': 'SequenceTask', 'sorter': 'clusterless_thresholder', 'sorter_params_name': 'default', 'artifact_removed_interval_list_name': 'Julio20230804_.nwb_07_Seq2Sleep4_43_franklab_tetrode_hippocampus_ampl_1500_prop_075_1ms_artifact_removed_valid_times_track_time_only'}...\n",
      "03-May-25 09:56:18 Running spike sorting on {'nwb_file_name': 'Julio20230804_.nwb', 'sort_group_id': 43, 'sort_interval_name': '07_Seq2Sleep4', 'preproc_params_name': 'franklab_tetrode_hippocampus', 'team_name': 'SequenceTask', 'sorter': 'clusterless_thresholder', 'sorter_params_name': 'default', 'artifact_removed_interval_list_name': 'Julio20230804_.nwb_07_Seq2Sleep4_43_franklab_tetrode_hippocampus_ampl_1500_prop_075_1ms_artifact_removed_valid_times_track_time_only'}...\n"
     ]
    },
    {
     "data": {
      "application/vnd.jupyter.widget-view+json": {
       "model_id": "cffccfd3bfd14d8c9a7e8dd3d50ce2cf",
       "version_major": 2,
       "version_minor": 0
      },
      "text/plain": [
       "detect peaks using locally_exclusive:   0%|          | 0/2156 [00:00<?, ?it/s]"
      ]
     },
     "metadata": {},
     "output_type": "display_data"
    },
    {
     "name": "stderr",
     "output_type": "stream",
     "text": [
      "[09:56:23][INFO] Spyglass: Saving sorting results...\n",
      "03-May-25 09:56:23 Saving sorting results...\n",
      "[09:56:28][INFO] Spyglass: Running spike sorting on {'nwb_file_name': 'Julio20230804_.nwb', 'sort_group_id': 45, 'sort_interval_name': '07_Seq2Sleep4', 'preproc_params_name': 'franklab_tetrode_hippocampus', 'team_name': 'SequenceTask', 'sorter': 'clusterless_thresholder', 'sorter_params_name': 'default', 'artifact_removed_interval_list_name': 'Julio20230804_.nwb_07_Seq2Sleep4_45_franklab_tetrode_hippocampus_ampl_1500_prop_075_1ms_artifact_removed_valid_times_track_time_only'}...\n",
      "03-May-25 09:56:28 Running spike sorting on {'nwb_file_name': 'Julio20230804_.nwb', 'sort_group_id': 45, 'sort_interval_name': '07_Seq2Sleep4', 'preproc_params_name': 'franklab_tetrode_hippocampus', 'team_name': 'SequenceTask', 'sorter': 'clusterless_thresholder', 'sorter_params_name': 'default', 'artifact_removed_interval_list_name': 'Julio20230804_.nwb_07_Seq2Sleep4_45_franklab_tetrode_hippocampus_ampl_1500_prop_075_1ms_artifact_removed_valid_times_track_time_only'}...\n"
     ]
    },
    {
     "data": {
      "application/vnd.jupyter.widget-view+json": {
       "model_id": "61d0e52ee9fd45518e2f064662d218b0",
       "version_major": 2,
       "version_minor": 0
      },
      "text/plain": [
       "detect peaks using locally_exclusive:   0%|          | 0/2156 [00:00<?, ?it/s]"
      ]
     },
     "metadata": {},
     "output_type": "display_data"
    },
    {
     "name": "stderr",
     "output_type": "stream",
     "text": [
      "[09:56:32][INFO] Spyglass: Saving sorting results...\n",
      "03-May-25 09:56:32 Saving sorting results...\n",
      "[09:56:36][INFO] Spyglass: Running spike sorting on {'nwb_file_name': 'Julio20230804_.nwb', 'sort_group_id': 47, 'sort_interval_name': '07_Seq2Sleep4', 'preproc_params_name': 'franklab_tetrode_hippocampus', 'team_name': 'SequenceTask', 'sorter': 'clusterless_thresholder', 'sorter_params_name': 'default', 'artifact_removed_interval_list_name': 'Julio20230804_.nwb_07_Seq2Sleep4_47_franklab_tetrode_hippocampus_ampl_1500_prop_075_1ms_artifact_removed_valid_times_track_time_only'}...\n",
      "03-May-25 09:56:36 Running spike sorting on {'nwb_file_name': 'Julio20230804_.nwb', 'sort_group_id': 47, 'sort_interval_name': '07_Seq2Sleep4', 'preproc_params_name': 'franklab_tetrode_hippocampus', 'team_name': 'SequenceTask', 'sorter': 'clusterless_thresholder', 'sorter_params_name': 'default', 'artifact_removed_interval_list_name': 'Julio20230804_.nwb_07_Seq2Sleep4_47_franklab_tetrode_hippocampus_ampl_1500_prop_075_1ms_artifact_removed_valid_times_track_time_only'}...\n"
     ]
    },
    {
     "data": {
      "application/vnd.jupyter.widget-view+json": {
       "model_id": "7c9bd539056a495286c6d970d4e76c71",
       "version_major": 2,
       "version_minor": 0
      },
      "text/plain": [
       "detect peaks using locally_exclusive:   0%|          | 0/2156 [00:00<?, ?it/s]"
      ]
     },
     "metadata": {},
     "output_type": "display_data"
    },
    {
     "name": "stderr",
     "output_type": "stream",
     "text": [
      "IOPub message rate exceeded.\n",
      "The Jupyter server will temporarily stop sending output\n",
      "to the client in order to avoid crashing it.\n",
      "To change this limit, set the config variable\n",
      "`--ServerApp.iopub_msg_rate_limit`.\n",
      "\n",
      "Current values:\n",
      "ServerApp.iopub_msg_rate_limit=1000.0 (msgs/sec)\n",
      "ServerApp.rate_limit_window=3.0 (secs)\n",
      "\n"
     ]
    }
   ],
   "source": [
    "for e in sleep_interval:\n",
    "    thresholder_sort(nwb_copy_file_name,e,True)"
   ]
  },
  {
   "cell_type": "code",
   "execution_count": 35,
   "id": "54099a95-1554-4aea-822c-668b3688f0a5",
   "metadata": {},
   "outputs": [
    {
     "name": "stdout",
     "output_type": "stream",
     "text": [
      "> \u001b[0;32m/home/shijiegu/Documents/spyglass/src/spyglass/linearization/v0/main.py\u001b[0m(197)\u001b[0;36mfetch1_dataframe\u001b[0;34m()\u001b[0m\n",
      "\u001b[0;32m    193 \u001b[0;31m        \u001b[0mAnalysisNwbfile\u001b[0m\u001b[0;34m(\u001b[0m\u001b[0;34m)\u001b[0m\u001b[0;34m.\u001b[0m\u001b[0mlog\u001b[0m\u001b[0;34m(\u001b[0m\u001b[0mkey\u001b[0m\u001b[0;34m,\u001b[0m \u001b[0mtable\u001b[0m\u001b[0;34m=\u001b[0m\u001b[0mself\u001b[0m\u001b[0;34m.\u001b[0m\u001b[0mfull_table_name\u001b[0m\u001b[0;34m)\u001b[0m\u001b[0;34m\u001b[0m\u001b[0;34m\u001b[0m\u001b[0m\n",
      "\u001b[0m\u001b[0;32m    194 \u001b[0;31m\u001b[0;34m\u001b[0m\u001b[0m\n",
      "\u001b[0m\u001b[0;32m    195 \u001b[0;31m    \u001b[0;32mdef\u001b[0m \u001b[0mfetch1_dataframe\u001b[0m\u001b[0;34m(\u001b[0m\u001b[0mself\u001b[0m\u001b[0;34m)\u001b[0m \u001b[0;34m->\u001b[0m \u001b[0mDataFrame\u001b[0m\u001b[0;34m:\u001b[0m\u001b[0;34m\u001b[0m\u001b[0;34m\u001b[0m\u001b[0m\n",
      "\u001b[0m\u001b[0;32m    196 \u001b[0;31m        \u001b[0;34m\"\"\"Fetch a single dataframe\"\"\"\u001b[0m\u001b[0;34m\u001b[0m\u001b[0;34m\u001b[0m\u001b[0m\n",
      "\u001b[0m\u001b[0;32m--> 197 \u001b[0;31m        \u001b[0;32mreturn\u001b[0m \u001b[0mself\u001b[0m\u001b[0;34m.\u001b[0m\u001b[0mfetch_nwb\u001b[0m\u001b[0;34m(\u001b[0m\u001b[0;34m)\u001b[0m\u001b[0;34m[\u001b[0m\u001b[0;36m0\u001b[0m\u001b[0;34m]\u001b[0m\u001b[0;34m[\u001b[0m\u001b[0;34m\"linearized_position\"\u001b[0m\u001b[0;34m]\u001b[0m\u001b[0;34m.\u001b[0m\u001b[0mset_index\u001b[0m\u001b[0;34m(\u001b[0m\u001b[0;34m\"time\"\u001b[0m\u001b[0;34m)\u001b[0m\u001b[0;34m\u001b[0m\u001b[0;34m\u001b[0m\u001b[0m\n",
      "\u001b[0m\n"
     ]
    },
    {
     "name": "stdin",
     "output_type": "stream",
     "text": [
      "ipdb>  self.fetch_nwb()\n"
     ]
    },
    {
     "name": "stdout",
     "output_type": "stream",
     "text": [
      "[]\n"
     ]
    },
    {
     "name": "stdin",
     "output_type": "stream",
     "text": [
      "ipdb>  u\n"
     ]
    },
    {
     "name": "stdout",
     "output_type": "stream",
     "text": [
      "> \u001b[0;32m/home/shijiegu/Documents/spyglass/src/spyglass/shijiegu/decodeHelpers.py\u001b[0m(108)\u001b[0;36mdecodePrepMasterSession\u001b[0;34m()\u001b[0m\n",
      "\u001b[0;32m    106 \u001b[0;31m        \u001b[0;34m'interval_list_name'\u001b[0m\u001b[0;34m:\u001b[0m \u001b[0mposition_interval\u001b[0m\u001b[0;34m,\u001b[0m\u001b[0;34m\u001b[0m\u001b[0;34m\u001b[0m\u001b[0m\n",
      "\u001b[0m\u001b[0;32m    107 \u001b[0;31m        'position_info_param_name': 'default_decoding'}\n",
      "\u001b[0m\u001b[0;32m--> 108 \u001b[0;31m        ).fetch1_dataframe()\n",
      "\u001b[0m\u001b[0;32m    109 \u001b[0;31m    position_df = (IntervalPositionInfo &\n",
      "\u001b[0m\u001b[0;32m    110 \u001b[0;31m        {'nwb_file_name': nwb_copy_file_name,\n",
      "\u001b[0m\n"
     ]
    },
    {
     "name": "stdin",
     "output_type": "stream",
     "text": [
      "ipdb>  position_interval\n"
     ]
    },
    {
     "name": "stdout",
     "output_type": "stream",
     "text": [
      "'pos 1 valid times'\n"
     ]
    },
    {
     "name": "stdin",
     "output_type": "stream",
     "text": [
      "ipdb>  exit\n"
     ]
    }
   ],
   "source": [
    "%debug"
   ]
  },
  {
   "cell_type": "code",
   "execution_count": 15,
   "id": "8efb0958-4071-4b4c-86db-d86a5480c6d0",
   "metadata": {},
   "outputs": [
    {
     "data": {
      "text/html": [
       "\n",
       "    \n",
       "    <style type=\"text/css\">\n",
       "        .Table{\n",
       "            border-collapse:collapse;\n",
       "        }\n",
       "        .Table th{\n",
       "            background: #A0A0A0; color: #ffffff; padding:4px; border:#f0e0e0 1px solid;\n",
       "            font-weight: normal; font-family: monospace; font-size: 100%;\n",
       "        }\n",
       "        .Table td{\n",
       "            padding:4px; border:#f0e0e0 1px solid; font-size:100%;\n",
       "        }\n",
       "        .Table tr:nth-child(odd){\n",
       "            background: #ffffff;\n",
       "            color: #000000;\n",
       "        }\n",
       "        .Table tr:nth-child(even){\n",
       "            background: #f3f1ff;\n",
       "            color: #000000;\n",
       "        }\n",
       "        /* Tooltip container */\n",
       "        .djtooltip {\n",
       "        }\n",
       "        /* Tooltip text */\n",
       "        .djtooltip .djtooltiptext {\n",
       "            visibility: hidden;\n",
       "            width: 120px;\n",
       "            background-color: black;\n",
       "            color: #fff;\n",
       "            text-align: center;\n",
       "            padding: 5px 0;\n",
       "            border-radius: 6px;\n",
       "            /* Position the tooltip text - see examples below! */\n",
       "            position: absolute;\n",
       "            z-index: 1;\n",
       "        }\n",
       "        #primary {\n",
       "            font-weight: bold;\n",
       "            color: black;\n",
       "        }\n",
       "        #nonprimary {\n",
       "            font-weight: normal;\n",
       "            color: white;\n",
       "        }\n",
       "\n",
       "        /* Show the tooltip text when you mouse over the tooltip container */\n",
       "        .djtooltip:hover .djtooltiptext {\n",
       "            visibility: visible;\n",
       "        }\n",
       "    </style>\n",
       "    \n",
       "    <b></b>\n",
       "        <div style=\"max-height:1000px;max-width:1500px;overflow:auto;\">\n",
       "        <table border=\"1\" class=\"Table\">\n",
       "            <thead> <tr style=\"text-align: right;\"> <th> <div class=\"djtooltip\">\n",
       "                            <p id=\"primary\">nwb_file_name</p>\n",
       "                            <span class=\"djtooltiptext\">name of the NWB file</span>\n",
       "                        </div></th><th><div class=\"djtooltip\">\n",
       "                            <p id=\"primary\">sort_group_id</p>\n",
       "                            <span class=\"djtooltiptext\">identifier for a group of electrodes</span>\n",
       "                        </div></th><th><div class=\"djtooltip\">\n",
       "                            <p id=\"primary\">sort_interval_name</p>\n",
       "                            <span class=\"djtooltiptext\">name for this interval</span>\n",
       "                        </div></th><th><div class=\"djtooltip\">\n",
       "                            <p id=\"primary\">preproc_params_name</p>\n",
       "                            <span class=\"djtooltiptext\"></span>\n",
       "                        </div></th><th><div class=\"djtooltip\">\n",
       "                            <p id=\"primary\">team_name</p>\n",
       "                            <span class=\"djtooltiptext\"></span>\n",
       "                        </div></th><th><div class=\"djtooltip\">\n",
       "                            <p id=\"nonprimary\">recording_path</p>\n",
       "                            <span class=\"djtooltiptext\"></span>\n",
       "                        </div></th><th><div class=\"djtooltip\">\n",
       "                            <p id=\"nonprimary\">sort_interval_list_name</p>\n",
       "                            <span class=\"djtooltiptext\">descriptive name of this interval list</span>\n",
       "                        </div> </th> </tr> </thead>\n",
       "            <tbody> <tr>  </tr> </tbody>\n",
       "        </table>\n",
       "        \n",
       "        <p>Total: 0</p></div>\n",
       "        "
      ],
      "text/plain": [
       "*nwb_file_name *sort_group_id *sort_interval *preproc_param *team_name    recording_path sort_interval_\n",
       "+------------+ +------------+ +------------+ +------------+ +-----------+ +------------+ +------------+\n",
       "\n",
       " (Total: 0)"
      ]
     },
     "execution_count": 15,
     "metadata": {},
     "output_type": "execute_result"
    }
   ],
   "source": [
    "SpikeSortingRecording & {'nwb_file_name': 'molly20220418_.nwb', 'sort_interval_name': '01_Seq2Sleep1'}"
   ]
  },
  {
   "cell_type": "code",
   "execution_count": 21,
   "id": "33403979-b322-4f66-8c4a-770c5830449f",
   "metadata": {},
   "outputs": [
    {
     "data": {
      "text/html": [
       "\n",
       "    \n",
       "    <style type=\"text/css\">\n",
       "        .Table{\n",
       "            border-collapse:collapse;\n",
       "        }\n",
       "        .Table th{\n",
       "            background: #A0A0A0; color: #ffffff; padding:4px; border:#f0e0e0 1px solid;\n",
       "            font-weight: normal; font-family: monospace; font-size: 100%;\n",
       "        }\n",
       "        .Table td{\n",
       "            padding:4px; border:#f0e0e0 1px solid; font-size:100%;\n",
       "        }\n",
       "        .Table tr:nth-child(odd){\n",
       "            background: #ffffff;\n",
       "            color: #000000;\n",
       "        }\n",
       "        .Table tr:nth-child(even){\n",
       "            background: #f3f1ff;\n",
       "            color: #000000;\n",
       "        }\n",
       "        /* Tooltip container */\n",
       "        .djtooltip {\n",
       "        }\n",
       "        /* Tooltip text */\n",
       "        .djtooltip .djtooltiptext {\n",
       "            visibility: hidden;\n",
       "            width: 120px;\n",
       "            background-color: black;\n",
       "            color: #fff;\n",
       "            text-align: center;\n",
       "            padding: 5px 0;\n",
       "            border-radius: 6px;\n",
       "            /* Position the tooltip text - see examples below! */\n",
       "            position: absolute;\n",
       "            z-index: 1;\n",
       "        }\n",
       "        #primary {\n",
       "            font-weight: bold;\n",
       "            color: black;\n",
       "        }\n",
       "        #nonprimary {\n",
       "            font-weight: normal;\n",
       "            color: white;\n",
       "        }\n",
       "\n",
       "        /* Show the tooltip text when you mouse over the tooltip container */\n",
       "        .djtooltip:hover .djtooltiptext {\n",
       "            visibility: visible;\n",
       "        }\n",
       "    </style>\n",
       "    \n",
       "    <b>decoded replay content</b>\n",
       "        <div style=\"max-height:1000px;max-width:1500px;overflow:auto;\">\n",
       "        <table border=\"1\" class=\"Table\">\n",
       "            <thead> <tr style=\"text-align: right;\"> <th> <div class=\"djtooltip\">\n",
       "                            <p id=\"primary\">nwb_file_name</p>\n",
       "                            <span class=\"djtooltiptext\">name of the NWB file</span>\n",
       "                        </div></th><th><div class=\"djtooltip\">\n",
       "                            <p id=\"primary\">interval_list_name</p>\n",
       "                            <span class=\"djtooltiptext\">descriptive name of this interval list</span>\n",
       "                        </div></th><th><div class=\"djtooltip\">\n",
       "                            <p id=\"nonprimary\">marks</p>\n",
       "                            <span class=\"djtooltiptext\">valid marks within that interval</span>\n",
       "                        </div></th><th><div class=\"djtooltip\">\n",
       "                            <p id=\"nonprimary\">position_1d</p>\n",
       "                            <span class=\"djtooltiptext\">valid position within that interval (1D), inluding all rat-on-track time</span>\n",
       "                        </div></th><th><div class=\"djtooltip\">\n",
       "                            <p id=\"nonprimary\">position_2d</p>\n",
       "                            <span class=\"djtooltiptext\">valid position within that interval (2D), inluding all rat-on-track time</span>\n",
       "                        </div> </th> </tr> </thead>\n",
       "            <tbody> <tr> <td>klein20231113_.nwb</td>\n",
       "<td>02_Rev2Session1</td>\n",
       "<td>=BLOB=</td>\n",
       "<td>=BLOB=</td>\n",
       "<td>=BLOB=</td></tr><tr><td>klein20231113_.nwb</td>\n",
       "<td>04_Rev2Session2</td>\n",
       "<td>=BLOB=</td>\n",
       "<td>=BLOB=</td>\n",
       "<td>=BLOB=</td></tr><tr><td>klein20231113_.nwb</td>\n",
       "<td>06_Rev2Session3</td>\n",
       "<td>=BLOB=</td>\n",
       "<td>=BLOB=</td>\n",
       "<td>=BLOB=</td></tr><tr><td>klein20231113_.nwb</td>\n",
       "<td>08_Rev2Session4</td>\n",
       "<td>=BLOB=</td>\n",
       "<td>=BLOB=</td>\n",
       "<td>=BLOB=</td> </tr> </tbody>\n",
       "        </table>\n",
       "        \n",
       "        <p>Total: 4</p></div>\n",
       "        "
      ],
      "text/plain": [
       "*nwb_file_name *interval_list marks      position_1 position_2\n",
       "+------------+ +------------+ +--------+ +--------+ +--------+\n",
       "klein20231113_ 02_Rev2Session =BLOB=     =BLOB=     =BLOB=    \n",
       "klein20231113_ 04_Rev2Session =BLOB=     =BLOB=     =BLOB=    \n",
       "klein20231113_ 06_Rev2Session =BLOB=     =BLOB=     =BLOB=    \n",
       "klein20231113_ 08_Rev2Session =BLOB=     =BLOB=     =BLOB=    \n",
       " (Total: 4)"
      ]
     },
     "execution_count": 21,
     "metadata": {},
     "output_type": "execute_result"
    }
   ],
   "source": [
    "from spyglass.shijiegu.Analysis_SGU import DecodeIngredients\n",
    "key={'nwb_file_name':nwb_copy_file_name}\n",
    "DecodeIngredients() & key"
   ]
  },
  {
   "cell_type": "code",
   "execution_count": null,
   "id": "99c13155-292b-41e3-96e0-32f30c348592",
   "metadata": {},
   "outputs": [],
   "source": [
    "(SpikeSortingSelection & {'nwb_file_name': nwb_copy_file_name})"
   ]
  },
  {
   "cell_type": "code",
   "execution_count": 13,
   "id": "5997a5fb-df13-47f0-8a7a-0a03cebd4d6e",
   "metadata": {},
   "outputs": [
    {
     "data": {
      "text/html": [
       "\n",
       "    \n",
       "    <style type=\"text/css\">\n",
       "        .Table{\n",
       "            border-collapse:collapse;\n",
       "        }\n",
       "        .Table th{\n",
       "            background: #A0A0A0; color: #ffffff; padding:4px; border:#f0e0e0 1px solid;\n",
       "            font-weight: normal; font-family: monospace; font-size: 100%;\n",
       "        }\n",
       "        .Table td{\n",
       "            padding:4px; border:#f0e0e0 1px solid; font-size:100%;\n",
       "        }\n",
       "        .Table tr:nth-child(odd){\n",
       "            background: #ffffff;\n",
       "            color: #000000;\n",
       "        }\n",
       "        .Table tr:nth-child(even){\n",
       "            background: #f3f1ff;\n",
       "            color: #000000;\n",
       "        }\n",
       "        /* Tooltip container */\n",
       "        .djtooltip {\n",
       "        }\n",
       "        /* Tooltip text */\n",
       "        .djtooltip .djtooltiptext {\n",
       "            visibility: hidden;\n",
       "            width: 120px;\n",
       "            background-color: black;\n",
       "            color: #fff;\n",
       "            text-align: center;\n",
       "            padding: 5px 0;\n",
       "            border-radius: 6px;\n",
       "            /* Position the tooltip text - see examples below! */\n",
       "            position: absolute;\n",
       "            z-index: 1;\n",
       "        }\n",
       "        #primary {\n",
       "            font-weight: bold;\n",
       "            color: black;\n",
       "        }\n",
       "        #nonprimary {\n",
       "            font-weight: normal;\n",
       "            color: white;\n",
       "        }\n",
       "\n",
       "        /* Show the tooltip text when you mouse over the tooltip container */\n",
       "        .djtooltip:hover .djtooltiptext {\n",
       "            visibility: visible;\n",
       "        }\n",
       "    </style>\n",
       "    \n",
       "    <b></b>\n",
       "        <div style=\"max-height:1000px;max-width:1500px;overflow:auto;\">\n",
       "        <table border=\"1\" class=\"Table\">\n",
       "            <thead> <tr style=\"text-align: right;\"> <th> <div class=\"djtooltip\">\n",
       "                            <p id=\"primary\">nwb_file_name</p>\n",
       "                            <span class=\"djtooltiptext\">name of the NWB file</span>\n",
       "                        </div></th><th><div class=\"djtooltip\">\n",
       "                            <p id=\"primary\">sort_group_id</p>\n",
       "                            <span class=\"djtooltiptext\">identifier for a group of electrodes</span>\n",
       "                        </div></th><th><div class=\"djtooltip\">\n",
       "                            <p id=\"primary\">sort_interval_name</p>\n",
       "                            <span class=\"djtooltiptext\">name for this interval</span>\n",
       "                        </div></th><th><div class=\"djtooltip\">\n",
       "                            <p id=\"primary\">preproc_params_name</p>\n",
       "                            <span class=\"djtooltiptext\"></span>\n",
       "                        </div></th><th><div class=\"djtooltip\">\n",
       "                            <p id=\"primary\">team_name</p>\n",
       "                            <span class=\"djtooltiptext\"></span>\n",
       "                        </div></th><th><div class=\"djtooltip\">\n",
       "                            <p id=\"primary\">sorter</p>\n",
       "                            <span class=\"djtooltiptext\"></span>\n",
       "                        </div></th><th><div class=\"djtooltip\">\n",
       "                            <p id=\"primary\">sorter_params_name</p>\n",
       "                            <span class=\"djtooltiptext\"></span>\n",
       "                        </div></th><th><div class=\"djtooltip\">\n",
       "                            <p id=\"primary\">artifact_removed_interval_list_name</p>\n",
       "                            <span class=\"djtooltiptext\"></span>\n",
       "                        </div></th><th><div class=\"djtooltip\">\n",
       "                            <p id=\"nonprimary\">sorting_path</p>\n",
       "                            <span class=\"djtooltiptext\"></span>\n",
       "                        </div></th><th><div class=\"djtooltip\">\n",
       "                            <p id=\"nonprimary\">time_of_sort</p>\n",
       "                            <span class=\"djtooltiptext\">in Unix time, to the nearest second</span>\n",
       "                        </div> </th> </tr> </thead>\n",
       "            <tbody> <tr> <td>molly20220419_.nwb</td>\n",
       "<td>0</td>\n",
       "<td>01_Seq2Sleep1</td>\n",
       "<td>franklab_tetrode_hippocampus</td>\n",
       "<td>SequenceTask</td>\n",
       "<td>clusterless_thresholder</td>\n",
       "<td>default</td>\n",
       "<td>molly20220419_.nwb_01_Seq2Sleep1_0_franklab_tetrode_hippocampus_ampl_1500_prop_075_1ms_artifact_removed_valid_times_track_time_only</td>\n",
       "<td>/stelmo/nwb/sorting/molly20220419_.nwb_01_Seq2Sleep1_0_franklab_tetrode_hippocampus_42bc8de3_spikesorting</td>\n",
       "<td>1743198236</td></tr><tr><td>molly20220419_.nwb</td>\n",
       "<td>0</td>\n",
       "<td>02_Seq2Session1</td>\n",
       "<td>franklab_tetrode_hippocampus</td>\n",
       "<td>SequenceTask</td>\n",
       "<td>clusterless_thresholder</td>\n",
       "<td>default</td>\n",
       "<td>molly20220419_.nwb_02_Seq2Session1_0_franklab_tetrode_hippocampus_ampl_1500_prop_075_1ms_artifact_removed_valid_times_track_time_only</td>\n",
       "<td>/stelmo/nwb/sorting/molly20220419_.nwb_02_Seq2Session1_0_franklab_tetrode_hippocampus_7493c9f0_spikesorting</td>\n",
       "<td>1743178710</td></tr><tr><td>molly20220419_.nwb</td>\n",
       "<td>0</td>\n",
       "<td>03_Seq2Sleep2</td>\n",
       "<td>franklab_tetrode_hippocampus</td>\n",
       "<td>SequenceTask</td>\n",
       "<td>clusterless_thresholder</td>\n",
       "<td>default</td>\n",
       "<td>molly20220419_.nwb_03_Seq2Sleep2_0_franklab_tetrode_hippocampus_ampl_1500_prop_075_1ms_artifact_removed_valid_times_track_time_only</td>\n",
       "<td>/stelmo/nwb/sorting/molly20220419_.nwb_03_Seq2Sleep2_0_franklab_tetrode_hippocampus_0dd35597_spikesorting</td>\n",
       "<td>1743198408</td></tr><tr><td>molly20220419_.nwb</td>\n",
       "<td>0</td>\n",
       "<td>04_Seq2Session2</td>\n",
       "<td>franklab_tetrode_hippocampus</td>\n",
       "<td>SequenceTask</td>\n",
       "<td>clusterless_thresholder</td>\n",
       "<td>default</td>\n",
       "<td>molly20220419_.nwb_04_Seq2Session2_0_franklab_tetrode_hippocampus_ampl_1500_prop_075_1ms_artifact_removed_valid_times_track_time_only</td>\n",
       "<td>/stelmo/nwb/sorting/molly20220419_.nwb_04_Seq2Session2_0_franklab_tetrode_hippocampus_c677155e_spikesorting</td>\n",
       "<td>1743179953</td></tr><tr><td>molly20220419_.nwb</td>\n",
       "<td>0</td>\n",
       "<td>05_Seq2Sleep3</td>\n",
       "<td>franklab_tetrode_hippocampus</td>\n",
       "<td>SequenceTask</td>\n",
       "<td>clusterless_thresholder</td>\n",
       "<td>default</td>\n",
       "<td>molly20220419_.nwb_05_Seq2Sleep3_0_franklab_tetrode_hippocampus_ampl_1500_prop_075_1ms_artifact_removed_valid_times_track_time_only</td>\n",
       "<td>/stelmo/nwb/sorting/molly20220419_.nwb_05_Seq2Sleep3_0_franklab_tetrode_hippocampus_66f52952_spikesorting</td>\n",
       "<td>1743198558</td></tr><tr><td>molly20220419_.nwb</td>\n",
       "<td>0</td>\n",
       "<td>06_Seq2Session3</td>\n",
       "<td>franklab_tetrode_hippocampus</td>\n",
       "<td>SequenceTask</td>\n",
       "<td>clusterless_thresholder</td>\n",
       "<td>default</td>\n",
       "<td>molly20220419_.nwb_06_Seq2Session3_0_franklab_tetrode_hippocampus_ampl_1500_prop_075_1ms_artifact_removed_valid_times_track_time_only</td>\n",
       "<td>/stelmo/nwb/sorting/molly20220419_.nwb_06_Seq2Session3_0_franklab_tetrode_hippocampus_c6421bd9_spikesorting</td>\n",
       "<td>1743181192</td></tr><tr><td>molly20220419_.nwb</td>\n",
       "<td>0</td>\n",
       "<td>07_Seq2Sleep4</td>\n",
       "<td>franklab_tetrode_hippocampus</td>\n",
       "<td>SequenceTask</td>\n",
       "<td>clusterless_thresholder</td>\n",
       "<td>default</td>\n",
       "<td>molly20220419_.nwb_07_Seq2Sleep4_0_franklab_tetrode_hippocampus_ampl_1500_prop_075_1ms_artifact_removed_valid_times_track_time_only</td>\n",
       "<td>/stelmo/nwb/sorting/molly20220419_.nwb_07_Seq2Sleep4_0_franklab_tetrode_hippocampus_444edfda_spikesorting</td>\n",
       "<td>1743198748</td></tr><tr><td>molly20220419_.nwb</td>\n",
       "<td>0</td>\n",
       "<td>08_Seq2Session4</td>\n",
       "<td>franklab_tetrode_hippocampus</td>\n",
       "<td>SequenceTask</td>\n",
       "<td>clusterless_thresholder</td>\n",
       "<td>default</td>\n",
       "<td>molly20220419_.nwb_08_Seq2Session4_0_franklab_tetrode_hippocampus_ampl_1500_prop_075_1ms_artifact_removed_valid_times_track_time_only</td>\n",
       "<td>/stelmo/nwb/sorting/molly20220419_.nwb_08_Seq2Session4_0_franklab_tetrode_hippocampus_e7377b69_spikesorting</td>\n",
       "<td>1743182505</td></tr><tr><td>molly20220419_.nwb</td>\n",
       "<td>0</td>\n",
       "<td>09_Seq2Sleep5</td>\n",
       "<td>franklab_tetrode_hippocampus</td>\n",
       "<td>SequenceTask</td>\n",
       "<td>clusterless_thresholder</td>\n",
       "<td>default</td>\n",
       "<td>molly20220419_.nwb_09_Seq2Sleep5_0_franklab_tetrode_hippocampus_ampl_1500_prop_075_1ms_artifact_removed_valid_times_track_time_only</td>\n",
       "<td>/stelmo/nwb/sorting/molly20220419_.nwb_09_Seq2Sleep5_0_franklab_tetrode_hippocampus_5414b4e0_spikesorting</td>\n",
       "<td>1743199074</td></tr><tr><td>molly20220419_.nwb</td>\n",
       "<td>0</td>\n",
       "<td>10_Seq2Session5</td>\n",
       "<td>franklab_tetrode_hippocampus</td>\n",
       "<td>SequenceTask</td>\n",
       "<td>clusterless_thresholder</td>\n",
       "<td>default</td>\n",
       "<td>molly20220419_.nwb_10_Seq2Session5_0_franklab_tetrode_hippocampus_ampl_1500_prop_075_1ms_artifact_removed_valid_times_track_time_only</td>\n",
       "<td>/stelmo/nwb/sorting/molly20220419_.nwb_10_Seq2Session5_0_franklab_tetrode_hippocampus_b26a62f3_spikesorting</td>\n",
       "<td>1743183851</td></tr><tr><td>molly20220419_.nwb</td>\n",
       "<td>0</td>\n",
       "<td>11_Seq2Sleep6</td>\n",
       "<td>franklab_tetrode_hippocampus</td>\n",
       "<td>SequenceTask</td>\n",
       "<td>clusterless_thresholder</td>\n",
       "<td>default</td>\n",
       "<td>molly20220419_.nwb_11_Seq2Sleep6_0_franklab_tetrode_hippocampus_ampl_1500_prop_075_1ms_artifact_removed_valid_times_track_time_only</td>\n",
       "<td>/stelmo/nwb/sorting/molly20220419_.nwb_11_Seq2Sleep6_0_franklab_tetrode_hippocampus_c3d389ac_spikesorting</td>\n",
       "<td>1743199276</td></tr><tr><td>molly20220419_.nwb</td>\n",
       "<td>2</td>\n",
       "<td>01_Seq2Sleep1</td>\n",
       "<td>franklab_tetrode_hippocampus</td>\n",
       "<td>SequenceTask</td>\n",
       "<td>clusterless_thresholder</td>\n",
       "<td>default</td>\n",
       "<td>molly20220419_.nwb_01_Seq2Sleep1_2_franklab_tetrode_hippocampus_ampl_1500_prop_075_1ms_artifact_removed_valid_times_track_time_only</td>\n",
       "<td>/stelmo/nwb/sorting/molly20220419_.nwb_01_Seq2Sleep1_2_franklab_tetrode_hippocampus_3918bc07_spikesorting</td>\n",
       "<td>1743198299</td> </tr> </tbody>\n",
       "        </table>\n",
       "        <p>...</p>\n",
       "        <p>Total: 275</p></div>\n",
       "        "
      ],
      "text/plain": [
       "*nwb_file_name *sort_group_id *sort_interval *preproc_param *team_name     *sorter        *sorter_params *artifact_remo sorting_path   time_of_sort  \n",
       "+------------+ +------------+ +------------+ +------------+ +------------+ +------------+ +------------+ +------------+ +------------+ +------------+\n",
       "molly20220419_ 0              01_Seq2Sleep1  franklab_tetro SequenceTask   clusterless_th default        molly20220419_ /stelmo/nwb/so 1743198236    \n",
       "molly20220419_ 0              02_Seq2Session franklab_tetro SequenceTask   clusterless_th default        molly20220419_ /stelmo/nwb/so 1743178710    \n",
       "molly20220419_ 0              03_Seq2Sleep2  franklab_tetro SequenceTask   clusterless_th default        molly20220419_ /stelmo/nwb/so 1743198408    \n",
       "molly20220419_ 0              04_Seq2Session franklab_tetro SequenceTask   clusterless_th default        molly20220419_ /stelmo/nwb/so 1743179953    \n",
       "molly20220419_ 0              05_Seq2Sleep3  franklab_tetro SequenceTask   clusterless_th default        molly20220419_ /stelmo/nwb/so 1743198558    \n",
       "molly20220419_ 0              06_Seq2Session franklab_tetro SequenceTask   clusterless_th default        molly20220419_ /stelmo/nwb/so 1743181192    \n",
       "molly20220419_ 0              07_Seq2Sleep4  franklab_tetro SequenceTask   clusterless_th default        molly20220419_ /stelmo/nwb/so 1743198748    \n",
       "molly20220419_ 0              08_Seq2Session franklab_tetro SequenceTask   clusterless_th default        molly20220419_ /stelmo/nwb/so 1743182505    \n",
       "molly20220419_ 0              09_Seq2Sleep5  franklab_tetro SequenceTask   clusterless_th default        molly20220419_ /stelmo/nwb/so 1743199074    \n",
       "molly20220419_ 0              10_Seq2Session franklab_tetro SequenceTask   clusterless_th default        molly20220419_ /stelmo/nwb/so 1743183851    \n",
       "molly20220419_ 0              11_Seq2Sleep6  franklab_tetro SequenceTask   clusterless_th default        molly20220419_ /stelmo/nwb/so 1743199276    \n",
       "molly20220419_ 2              01_Seq2Sleep1  franklab_tetro SequenceTask   clusterless_th default        molly20220419_ /stelmo/nwb/so 1743198299    \n",
       "   ...\n",
       " (Total: 275)"
      ]
     },
     "execution_count": 13,
     "metadata": {},
     "output_type": "execute_result"
    }
   ],
   "source": [
    "(SpikeSorting & {'nwb_file_name': nwb_copy_file_name})"
   ]
  },
  {
   "cell_type": "markdown",
   "id": "b54870f8-6e48-4c41-92ee-df82f560d649",
   "metadata": {},
   "source": [
    "# END HERE"
   ]
  },
  {
   "cell_type": "code",
   "execution_count": 2,
   "id": "c0a7782c-cbc8-4a79-8858-341eedce9ec3",
   "metadata": {},
   "outputs": [],
   "source": [
    "## try loading\n",
    "nwb_copy_file_name = 'lewis20240121_.nwb'"
   ]
  },
  {
   "cell_type": "code",
   "execution_count": 44,
   "id": "49a4e8aa-3015-40e6-adef-0afcc909a4c4",
   "metadata": {},
   "outputs": [],
   "source": [
    "e=0"
   ]
  },
  {
   "cell_type": "code",
   "execution_count": 45,
   "id": "49851181-b4fe-4e07-bb97-7d8a2727b62d",
   "metadata": {},
   "outputs": [],
   "source": [
    "entry = DecodeIngredients & {'nwb_file_name':nwb_copy_file_name,\n",
    "     'interval_list_name':session_interval[e]}\n",
    "marks = xr.open_dataset(entry.fetch1('marks'))\n",
    "position_1d = pd.read_csv(entry.fetch1('position_1d'))\n",
    "position_2d = pd.read_csv(entry.fetch1('position_2d'))"
   ]
  },
  {
   "cell_type": "code",
   "execution_count": 46,
   "id": "4e8657a6-dc9f-4e5f-bbcb-e50b5bdb474e",
   "metadata": {},
   "outputs": [
    {
     "data": {
      "text/html": [
       "<div><svg style=\"position: absolute; width: 0; height: 0; overflow: hidden\">\n",
       "<defs>\n",
       "<symbol id=\"icon-database\" viewBox=\"0 0 32 32\">\n",
       "<path d=\"M16 0c-8.837 0-16 2.239-16 5v4c0 2.761 7.163 5 16 5s16-2.239 16-5v-4c0-2.761-7.163-5-16-5z\"></path>\n",
       "<path d=\"M16 17c-8.837 0-16-2.239-16-5v6c0 2.761 7.163 5 16 5s16-2.239 16-5v-6c0 2.761-7.163 5-16 5z\"></path>\n",
       "<path d=\"M16 26c-8.837 0-16-2.239-16-5v6c0 2.761 7.163 5 16 5s16-2.239 16-5v-6c0 2.761-7.163 5-16 5z\"></path>\n",
       "</symbol>\n",
       "<symbol id=\"icon-file-text2\" viewBox=\"0 0 32 32\">\n",
       "<path d=\"M28.681 7.159c-0.694-0.947-1.662-2.053-2.724-3.116s-2.169-2.030-3.116-2.724c-1.612-1.182-2.393-1.319-2.841-1.319h-15.5c-1.378 0-2.5 1.121-2.5 2.5v27c0 1.378 1.122 2.5 2.5 2.5h23c1.378 0 2.5-1.122 2.5-2.5v-19.5c0-0.448-0.137-1.23-1.319-2.841zM24.543 5.457c0.959 0.959 1.712 1.825 2.268 2.543h-4.811v-4.811c0.718 0.556 1.584 1.309 2.543 2.268zM28 29.5c0 0.271-0.229 0.5-0.5 0.5h-23c-0.271 0-0.5-0.229-0.5-0.5v-27c0-0.271 0.229-0.5 0.5-0.5 0 0 15.499-0 15.5 0v7c0 0.552 0.448 1 1 1h7v19.5z\"></path>\n",
       "<path d=\"M23 26h-14c-0.552 0-1-0.448-1-1s0.448-1 1-1h14c0.552 0 1 0.448 1 1s-0.448 1-1 1z\"></path>\n",
       "<path d=\"M23 22h-14c-0.552 0-1-0.448-1-1s0.448-1 1-1h14c0.552 0 1 0.448 1 1s-0.448 1-1 1z\"></path>\n",
       "<path d=\"M23 18h-14c-0.552 0-1-0.448-1-1s0.448-1 1-1h14c0.552 0 1 0.448 1 1s-0.448 1-1 1z\"></path>\n",
       "</symbol>\n",
       "</defs>\n",
       "</svg>\n",
       "<style>/* CSS stylesheet for displaying xarray objects in jupyterlab.\n",
       " *\n",
       " */\n",
       "\n",
       ":root {\n",
       "  --xr-font-color0: var(--jp-content-font-color0, rgba(0, 0, 0, 1));\n",
       "  --xr-font-color2: var(--jp-content-font-color2, rgba(0, 0, 0, 0.54));\n",
       "  --xr-font-color3: var(--jp-content-font-color3, rgba(0, 0, 0, 0.38));\n",
       "  --xr-border-color: var(--jp-border-color2, #e0e0e0);\n",
       "  --xr-disabled-color: var(--jp-layout-color3, #bdbdbd);\n",
       "  --xr-background-color: var(--jp-layout-color0, white);\n",
       "  --xr-background-color-row-even: var(--jp-layout-color1, white);\n",
       "  --xr-background-color-row-odd: var(--jp-layout-color2, #eeeeee);\n",
       "}\n",
       "\n",
       "html[theme=dark],\n",
       "body[data-theme=dark],\n",
       "body.vscode-dark {\n",
       "  --xr-font-color0: rgba(255, 255, 255, 1);\n",
       "  --xr-font-color2: rgba(255, 255, 255, 0.54);\n",
       "  --xr-font-color3: rgba(255, 255, 255, 0.38);\n",
       "  --xr-border-color: #1F1F1F;\n",
       "  --xr-disabled-color: #515151;\n",
       "  --xr-background-color: #111111;\n",
       "  --xr-background-color-row-even: #111111;\n",
       "  --xr-background-color-row-odd: #313131;\n",
       "}\n",
       "\n",
       ".xr-wrap {\n",
       "  display: block !important;\n",
       "  min-width: 300px;\n",
       "  max-width: 700px;\n",
       "}\n",
       "\n",
       ".xr-text-repr-fallback {\n",
       "  /* fallback to plain text repr when CSS is not injected (untrusted notebook) */\n",
       "  display: none;\n",
       "}\n",
       "\n",
       ".xr-header {\n",
       "  padding-top: 6px;\n",
       "  padding-bottom: 6px;\n",
       "  margin-bottom: 4px;\n",
       "  border-bottom: solid 1px var(--xr-border-color);\n",
       "}\n",
       "\n",
       ".xr-header > div,\n",
       ".xr-header > ul {\n",
       "  display: inline;\n",
       "  margin-top: 0;\n",
       "  margin-bottom: 0;\n",
       "}\n",
       "\n",
       ".xr-obj-type,\n",
       ".xr-array-name {\n",
       "  margin-left: 2px;\n",
       "  margin-right: 10px;\n",
       "}\n",
       "\n",
       ".xr-obj-type {\n",
       "  color: var(--xr-font-color2);\n",
       "}\n",
       "\n",
       ".xr-sections {\n",
       "  padding-left: 0 !important;\n",
       "  display: grid;\n",
       "  grid-template-columns: 150px auto auto 1fr 20px 20px;\n",
       "}\n",
       "\n",
       ".xr-section-item {\n",
       "  display: contents;\n",
       "}\n",
       "\n",
       ".xr-section-item input {\n",
       "  display: none;\n",
       "}\n",
       "\n",
       ".xr-section-item input + label {\n",
       "  color: var(--xr-disabled-color);\n",
       "}\n",
       "\n",
       ".xr-section-item input:enabled + label {\n",
       "  cursor: pointer;\n",
       "  color: var(--xr-font-color2);\n",
       "}\n",
       "\n",
       ".xr-section-item input:enabled + label:hover {\n",
       "  color: var(--xr-font-color0);\n",
       "}\n",
       "\n",
       ".xr-section-summary {\n",
       "  grid-column: 1;\n",
       "  color: var(--xr-font-color2);\n",
       "  font-weight: 500;\n",
       "}\n",
       "\n",
       ".xr-section-summary > span {\n",
       "  display: inline-block;\n",
       "  padding-left: 0.5em;\n",
       "}\n",
       "\n",
       ".xr-section-summary-in:disabled + label {\n",
       "  color: var(--xr-font-color2);\n",
       "}\n",
       "\n",
       ".xr-section-summary-in + label:before {\n",
       "  display: inline-block;\n",
       "  content: '►';\n",
       "  font-size: 11px;\n",
       "  width: 15px;\n",
       "  text-align: center;\n",
       "}\n",
       "\n",
       ".xr-section-summary-in:disabled + label:before {\n",
       "  color: var(--xr-disabled-color);\n",
       "}\n",
       "\n",
       ".xr-section-summary-in:checked + label:before {\n",
       "  content: '▼';\n",
       "}\n",
       "\n",
       ".xr-section-summary-in:checked + label > span {\n",
       "  display: none;\n",
       "}\n",
       "\n",
       ".xr-section-summary,\n",
       ".xr-section-inline-details {\n",
       "  padding-top: 4px;\n",
       "  padding-bottom: 4px;\n",
       "}\n",
       "\n",
       ".xr-section-inline-details {\n",
       "  grid-column: 2 / -1;\n",
       "}\n",
       "\n",
       ".xr-section-details {\n",
       "  display: none;\n",
       "  grid-column: 1 / -1;\n",
       "  margin-bottom: 5px;\n",
       "}\n",
       "\n",
       ".xr-section-summary-in:checked ~ .xr-section-details {\n",
       "  display: contents;\n",
       "}\n",
       "\n",
       ".xr-array-wrap {\n",
       "  grid-column: 1 / -1;\n",
       "  display: grid;\n",
       "  grid-template-columns: 20px auto;\n",
       "}\n",
       "\n",
       ".xr-array-wrap > label {\n",
       "  grid-column: 1;\n",
       "  vertical-align: top;\n",
       "}\n",
       "\n",
       ".xr-preview {\n",
       "  color: var(--xr-font-color3);\n",
       "}\n",
       "\n",
       ".xr-array-preview,\n",
       ".xr-array-data {\n",
       "  padding: 0 5px !important;\n",
       "  grid-column: 2;\n",
       "}\n",
       "\n",
       ".xr-array-data,\n",
       ".xr-array-in:checked ~ .xr-array-preview {\n",
       "  display: none;\n",
       "}\n",
       "\n",
       ".xr-array-in:checked ~ .xr-array-data,\n",
       ".xr-array-preview {\n",
       "  display: inline-block;\n",
       "}\n",
       "\n",
       ".xr-dim-list {\n",
       "  display: inline-block !important;\n",
       "  list-style: none;\n",
       "  padding: 0 !important;\n",
       "  margin: 0;\n",
       "}\n",
       "\n",
       ".xr-dim-list li {\n",
       "  display: inline-block;\n",
       "  padding: 0;\n",
       "  margin: 0;\n",
       "}\n",
       "\n",
       ".xr-dim-list:before {\n",
       "  content: '(';\n",
       "}\n",
       "\n",
       ".xr-dim-list:after {\n",
       "  content: ')';\n",
       "}\n",
       "\n",
       ".xr-dim-list li:not(:last-child):after {\n",
       "  content: ',';\n",
       "  padding-right: 5px;\n",
       "}\n",
       "\n",
       ".xr-has-index {\n",
       "  font-weight: bold;\n",
       "}\n",
       "\n",
       ".xr-var-list,\n",
       ".xr-var-item {\n",
       "  display: contents;\n",
       "}\n",
       "\n",
       ".xr-var-item > div,\n",
       ".xr-var-item label,\n",
       ".xr-var-item > .xr-var-name span {\n",
       "  background-color: var(--xr-background-color-row-even);\n",
       "  margin-bottom: 0;\n",
       "}\n",
       "\n",
       ".xr-var-item > .xr-var-name:hover span {\n",
       "  padding-right: 5px;\n",
       "}\n",
       "\n",
       ".xr-var-list > li:nth-child(odd) > div,\n",
       ".xr-var-list > li:nth-child(odd) > label,\n",
       ".xr-var-list > li:nth-child(odd) > .xr-var-name span {\n",
       "  background-color: var(--xr-background-color-row-odd);\n",
       "}\n",
       "\n",
       ".xr-var-name {\n",
       "  grid-column: 1;\n",
       "}\n",
       "\n",
       ".xr-var-dims {\n",
       "  grid-column: 2;\n",
       "}\n",
       "\n",
       ".xr-var-dtype {\n",
       "  grid-column: 3;\n",
       "  text-align: right;\n",
       "  color: var(--xr-font-color2);\n",
       "}\n",
       "\n",
       ".xr-var-preview {\n",
       "  grid-column: 4;\n",
       "}\n",
       "\n",
       ".xr-index-preview {\n",
       "  grid-column: 2 / 5;\n",
       "  color: var(--xr-font-color2);\n",
       "}\n",
       "\n",
       ".xr-var-name,\n",
       ".xr-var-dims,\n",
       ".xr-var-dtype,\n",
       ".xr-preview,\n",
       ".xr-attrs dt {\n",
       "  white-space: nowrap;\n",
       "  overflow: hidden;\n",
       "  text-overflow: ellipsis;\n",
       "  padding-right: 10px;\n",
       "}\n",
       "\n",
       ".xr-var-name:hover,\n",
       ".xr-var-dims:hover,\n",
       ".xr-var-dtype:hover,\n",
       ".xr-attrs dt:hover {\n",
       "  overflow: visible;\n",
       "  width: auto;\n",
       "  z-index: 1;\n",
       "}\n",
       "\n",
       ".xr-var-attrs,\n",
       ".xr-var-data,\n",
       ".xr-index-data {\n",
       "  display: none;\n",
       "  background-color: var(--xr-background-color) !important;\n",
       "  padding-bottom: 5px !important;\n",
       "}\n",
       "\n",
       ".xr-var-attrs-in:checked ~ .xr-var-attrs,\n",
       ".xr-var-data-in:checked ~ .xr-var-data,\n",
       ".xr-index-data-in:checked ~ .xr-index-data {\n",
       "  display: block;\n",
       "}\n",
       "\n",
       ".xr-var-data > table {\n",
       "  float: right;\n",
       "}\n",
       "\n",
       ".xr-var-name span,\n",
       ".xr-var-data,\n",
       ".xr-index-name div,\n",
       ".xr-index-data,\n",
       ".xr-attrs {\n",
       "  padding-left: 25px !important;\n",
       "}\n",
       "\n",
       ".xr-attrs,\n",
       ".xr-var-attrs,\n",
       ".xr-var-data,\n",
       ".xr-index-data {\n",
       "  grid-column: 1 / -1;\n",
       "}\n",
       "\n",
       "dl.xr-attrs {\n",
       "  padding: 0;\n",
       "  margin: 0;\n",
       "  display: grid;\n",
       "  grid-template-columns: 125px auto;\n",
       "}\n",
       "\n",
       ".xr-attrs dt,\n",
       ".xr-attrs dd {\n",
       "  padding: 0;\n",
       "  margin: 0;\n",
       "  float: left;\n",
       "  padding-right: 10px;\n",
       "  width: auto;\n",
       "}\n",
       "\n",
       ".xr-attrs dt {\n",
       "  font-weight: normal;\n",
       "  grid-column: 1;\n",
       "}\n",
       "\n",
       ".xr-attrs dt:hover span {\n",
       "  display: inline-block;\n",
       "  background: var(--xr-background-color);\n",
       "  padding-right: 10px;\n",
       "}\n",
       "\n",
       ".xr-attrs dd {\n",
       "  grid-column: 2;\n",
       "  white-space: pre-wrap;\n",
       "  word-break: break-all;\n",
       "}\n",
       "\n",
       ".xr-icon-database,\n",
       ".xr-icon-file-text2,\n",
       ".xr-no-icon {\n",
       "  display: inline-block;\n",
       "  vertical-align: middle;\n",
       "  width: 1em;\n",
       "  height: 1.5em !important;\n",
       "  stroke-width: 0;\n",
       "  stroke: currentColor;\n",
       "  fill: currentColor;\n",
       "}\n",
       "</style><pre class='xr-text-repr-fallback'>&lt;xarray.Dataset&gt;\n",
       "Dimensions:                        (time: 958279, marks: 4, electrodes: 15)\n",
       "Coordinates:\n",
       "  * time                           (time) float64 1.667e+09 ... 1.667e+09\n",
       "  * electrodes                     (electrodes) int32 0 2 4 5 13 ... 28 29 30 31\n",
       "  * marks                          (marks) object &#x27;amplitude_0000&#x27; ... &#x27;ampli...\n",
       "Data variables:\n",
       "    __xarray_dataarray_variable__  (time, marks, electrodes) float32 ...</pre><div class='xr-wrap' style='display:none'><div class='xr-header'><div class='xr-obj-type'>xarray.Dataset</div></div><ul class='xr-sections'><li class='xr-section-item'><input id='section-e0ab6730-3715-49cc-a449-3e8b6bbbebe8' class='xr-section-summary-in' type='checkbox' disabled ><label for='section-e0ab6730-3715-49cc-a449-3e8b6bbbebe8' class='xr-section-summary'  title='Expand/collapse section'>Dimensions:</label><div class='xr-section-inline-details'><ul class='xr-dim-list'><li><span class='xr-has-index'>time</span>: 958279</li><li><span class='xr-has-index'>marks</span>: 4</li><li><span class='xr-has-index'>electrodes</span>: 15</li></ul></div><div class='xr-section-details'></div></li><li class='xr-section-item'><input id='section-7df2f842-fe32-4a68-b106-d711c3fe7f92' class='xr-section-summary-in' type='checkbox'  checked><label for='section-7df2f842-fe32-4a68-b106-d711c3fe7f92' class='xr-section-summary' >Coordinates: <span>(3)</span></label><div class='xr-section-inline-details'></div><div class='xr-section-details'><ul class='xr-var-list'><li class='xr-var-item'><div class='xr-var-name'><span class='xr-has-index'>time</span></div><div class='xr-var-dims'>(time)</div><div class='xr-var-dtype'>float64</div><div class='xr-var-preview xr-preview'>1.667e+09 1.667e+09 ... 1.667e+09</div><input id='attrs-db3bd08f-e0cc-46b4-b44e-1754517c50b5' class='xr-var-attrs-in' type='checkbox' disabled><label for='attrs-db3bd08f-e0cc-46b4-b44e-1754517c50b5' title='Show/Hide attributes'><svg class='icon xr-icon-file-text2'><use xlink:href='#icon-file-text2'></use></svg></label><input id='data-4c20c46a-b155-4992-adb3-c715ca2e8264' class='xr-var-data-in' type='checkbox'><label for='data-4c20c46a-b155-4992-adb3-c715ca2e8264' title='Show/Hide data repr'><svg class='icon xr-icon-database'><use xlink:href='#icon-database'></use></svg></label><div class='xr-var-attrs'><dl class='xr-attrs'></dl></div><div class='xr-var-data'><pre>array([1.666725e+09, 1.666725e+09, 1.666725e+09, ..., 1.666727e+09,\n",
       "       1.666727e+09, 1.666727e+09])</pre></div></li><li class='xr-var-item'><div class='xr-var-name'><span class='xr-has-index'>electrodes</span></div><div class='xr-var-dims'>(electrodes)</div><div class='xr-var-dtype'>int32</div><div class='xr-var-preview xr-preview'>0 2 4 5 13 14 ... 26 27 28 29 30 31</div><input id='attrs-d651f316-d2de-4307-aa24-b730c01c530d' class='xr-var-attrs-in' type='checkbox' disabled><label for='attrs-d651f316-d2de-4307-aa24-b730c01c530d' title='Show/Hide attributes'><svg class='icon xr-icon-file-text2'><use xlink:href='#icon-file-text2'></use></svg></label><input id='data-4e78d928-f85e-4b91-b04b-17f48dc4afb3' class='xr-var-data-in' type='checkbox'><label for='data-4e78d928-f85e-4b91-b04b-17f48dc4afb3' title='Show/Hide data repr'><svg class='icon xr-icon-database'><use xlink:href='#icon-database'></use></svg></label><div class='xr-var-attrs'><dl class='xr-attrs'></dl></div><div class='xr-var-data'><pre>array([ 0,  2,  4,  5, 13, 14, 16, 17, 20, 26, 27, 28, 29, 30, 31], dtype=int32)</pre></div></li><li class='xr-var-item'><div class='xr-var-name'><span class='xr-has-index'>marks</span></div><div class='xr-var-dims'>(marks)</div><div class='xr-var-dtype'>object</div><div class='xr-var-preview xr-preview'>&#x27;amplitude_0000&#x27; ... &#x27;amplitude_...</div><input id='attrs-947e9689-2930-4680-bea3-23e1d3575b54' class='xr-var-attrs-in' type='checkbox' disabled><label for='attrs-947e9689-2930-4680-bea3-23e1d3575b54' title='Show/Hide attributes'><svg class='icon xr-icon-file-text2'><use xlink:href='#icon-file-text2'></use></svg></label><input id='data-a9a9e6a3-0e91-4da9-9373-42d473e69fcc' class='xr-var-data-in' type='checkbox'><label for='data-a9a9e6a3-0e91-4da9-9373-42d473e69fcc' title='Show/Hide data repr'><svg class='icon xr-icon-database'><use xlink:href='#icon-database'></use></svg></label><div class='xr-var-attrs'><dl class='xr-attrs'></dl></div><div class='xr-var-data'><pre>array([&#x27;amplitude_0000&#x27;, &#x27;amplitude_0001&#x27;, &#x27;amplitude_0002&#x27;, &#x27;amplitude_0003&#x27;],\n",
       "      dtype=object)</pre></div></li></ul></div></li><li class='xr-section-item'><input id='section-b6e2a8a4-8969-494e-858d-0821eeb2e804' class='xr-section-summary-in' type='checkbox'  checked><label for='section-b6e2a8a4-8969-494e-858d-0821eeb2e804' class='xr-section-summary' >Data variables: <span>(1)</span></label><div class='xr-section-inline-details'></div><div class='xr-section-details'><ul class='xr-var-list'><li class='xr-var-item'><div class='xr-var-name'><span>__xarray_dataarray_variable__</span></div><div class='xr-var-dims'>(time, marks, electrodes)</div><div class='xr-var-dtype'>float32</div><div class='xr-var-preview xr-preview'>...</div><input id='attrs-b233e487-73ed-43d1-8cff-8f3d9314418e' class='xr-var-attrs-in' type='checkbox' disabled><label for='attrs-b233e487-73ed-43d1-8cff-8f3d9314418e' title='Show/Hide attributes'><svg class='icon xr-icon-file-text2'><use xlink:href='#icon-file-text2'></use></svg></label><input id='data-d3419790-3c7a-4af0-a58c-f769e6a287ef' class='xr-var-data-in' type='checkbox'><label for='data-d3419790-3c7a-4af0-a58c-f769e6a287ef' title='Show/Hide data repr'><svg class='icon xr-icon-database'><use xlink:href='#icon-database'></use></svg></label><div class='xr-var-attrs'><dl class='xr-attrs'></dl></div><div class='xr-var-data'><pre>[57496740 values with dtype=float32]</pre></div></li></ul></div></li><li class='xr-section-item'><input id='section-4498e944-a195-4782-ad2f-e5eae742e0b3' class='xr-section-summary-in' type='checkbox'  ><label for='section-4498e944-a195-4782-ad2f-e5eae742e0b3' class='xr-section-summary' >Indexes: <span>(3)</span></label><div class='xr-section-inline-details'></div><div class='xr-section-details'><ul class='xr-var-list'><li class='xr-var-item'><div class='xr-index-name'><div>time</div></div><div class='xr-index-preview'>PandasIndex</div><div></div><input id='index-8d52ab3e-c604-46a8-8d15-b2df744f7d3f' class='xr-index-data-in' type='checkbox'/><label for='index-8d52ab3e-c604-46a8-8d15-b2df744f7d3f' title='Show/Hide index repr'><svg class='icon xr-icon-database'><use xlink:href='#icon-database'></use></svg></label><div class='xr-index-data'><pre>PandasIndex(Index([1666724781.1396961, 1666724781.1416962, 1666724781.1436963,\n",
       "       1666724781.1456962, 1666724781.1476963,  1666724781.149696,\n",
       "       1666724781.1516962, 1666724781.1536963, 1666724781.1556962,\n",
       "       1666724781.1576962,\n",
       "       ...\n",
       "        1666726697.805287, 1666726697.8072867, 1666726697.8092868,\n",
       "       1666726697.8112867, 1666726697.8132868, 1666726697.8152869,\n",
       "       1666726697.8172867, 1666726697.8192868, 1666726697.8212867,\n",
       "       1666726697.8232868],\n",
       "      dtype=&#x27;float64&#x27;, name=&#x27;time&#x27;, length=958279))</pre></div></li><li class='xr-var-item'><div class='xr-index-name'><div>electrodes</div></div><div class='xr-index-preview'>PandasIndex</div><div></div><input id='index-e94c274a-9991-4707-b181-04260abbf4f2' class='xr-index-data-in' type='checkbox'/><label for='index-e94c274a-9991-4707-b181-04260abbf4f2' title='Show/Hide index repr'><svg class='icon xr-icon-database'><use xlink:href='#icon-database'></use></svg></label><div class='xr-index-data'><pre>PandasIndex(Index([0, 2, 4, 5, 13, 14, 16, 17, 20, 26, 27, 28, 29, 30, 31], dtype=&#x27;int32&#x27;, name=&#x27;electrodes&#x27;))</pre></div></li><li class='xr-var-item'><div class='xr-index-name'><div>marks</div></div><div class='xr-index-preview'>PandasIndex</div><div></div><input id='index-9f32ecd1-01e9-4f33-baef-31ed93bd0d77' class='xr-index-data-in' type='checkbox'/><label for='index-9f32ecd1-01e9-4f33-baef-31ed93bd0d77' title='Show/Hide index repr'><svg class='icon xr-icon-database'><use xlink:href='#icon-database'></use></svg></label><div class='xr-index-data'><pre>PandasIndex(Index([&#x27;amplitude_0000&#x27;, &#x27;amplitude_0001&#x27;, &#x27;amplitude_0002&#x27;, &#x27;amplitude_0003&#x27;], dtype=&#x27;object&#x27;, name=&#x27;marks&#x27;))</pre></div></li></ul></div></li><li class='xr-section-item'><input id='section-7c9471d3-14ff-47a7-8c8d-51472e60ecf9' class='xr-section-summary-in' type='checkbox' disabled ><label for='section-7c9471d3-14ff-47a7-8c8d-51472e60ecf9' class='xr-section-summary'  title='Expand/collapse section'>Attributes: <span>(0)</span></label><div class='xr-section-inline-details'></div><div class='xr-section-details'><dl class='xr-attrs'></dl></div></li></ul></div></div>"
      ],
      "text/plain": [
       "<xarray.Dataset>\n",
       "Dimensions:                        (time: 958279, marks: 4, electrodes: 15)\n",
       "Coordinates:\n",
       "  * time                           (time) float64 1.667e+09 ... 1.667e+09\n",
       "  * electrodes                     (electrodes) int32 0 2 4 5 13 ... 28 29 30 31\n",
       "  * marks                          (marks) object 'amplitude_0000' ... 'ampli...\n",
       "Data variables:\n",
       "    __xarray_dataarray_variable__  (time, marks, electrodes) float32 ..."
      ]
     },
     "execution_count": 46,
     "metadata": {},
     "output_type": "execute_result"
    }
   ],
   "source": [
    "marks"
   ]
  },
  {
   "cell_type": "code",
   "execution_count": 47,
   "id": "4e5ef817-c0a7-4f37-8cae-e0ee91d8648c",
   "metadata": {},
   "outputs": [
    {
     "name": "stderr",
     "output_type": "stream",
     "text": [
      "[09:47:09][WARNING] Spyglass: Deprecation: this class has been moved out of spyglass.common.common_position\n",
      "\tIntervalLinearizedPosition -> spyglass.linearization.v0.main.IntervalLinearizedPosition\n",
      "Please use the new location.\n",
      "16-Jun-24 09:47:09 Deprecation: this class has been moved out of spyglass.common.common_position\n",
      "\tIntervalLinearizedPosition -> spyglass.linearization.v0.main.IntervalLinearizedPosition\n",
      "Please use the new location.\n"
     ]
    },
    {
     "name": "stdout",
     "output_type": "stream",
     "text": [
      "final shape of marks and linear position df is:\n",
      "(958279, 4)\n"
     ]
    },
    {
     "name": "stderr",
     "output_type": "stream",
     "text": [
      "[09:47:22][WARNING] Spyglass: Deprecation: this class has been moved out of spyglass.common.common_position\n",
      "\tIntervalLinearizedPosition -> spyglass.linearization.v0.main.IntervalLinearizedPosition\n",
      "Please use the new location.\n",
      "16-Jun-24 09:47:22 Deprecation: this class has been moved out of spyglass.common.common_position\n",
      "\tIntervalLinearizedPosition -> spyglass.linearization.v0.main.IntervalLinearizedPosition\n",
      "Please use the new location.\n"
     ]
    },
    {
     "name": "stdout",
     "output_type": "stream",
     "text": [
      "final shape of marks and linear position df is:\n",
      "(885994, 4)\n"
     ]
    },
    {
     "name": "stderr",
     "output_type": "stream",
     "text": [
      "[09:47:34][WARNING] Spyglass: Deprecation: this class has been moved out of spyglass.common.common_position\n",
      "\tIntervalLinearizedPosition -> spyglass.linearization.v0.main.IntervalLinearizedPosition\n",
      "Please use the new location.\n",
      "16-Jun-24 09:47:34 Deprecation: this class has been moved out of spyglass.common.common_position\n",
      "\tIntervalLinearizedPosition -> spyglass.linearization.v0.main.IntervalLinearizedPosition\n",
      "Please use the new location.\n"
     ]
    },
    {
     "name": "stdout",
     "output_type": "stream",
     "text": [
      "final shape of marks and linear position df is:\n",
      "(843218, 4)\n"
     ]
    },
    {
     "name": "stderr",
     "output_type": "stream",
     "text": [
      "[09:47:46][WARNING] Spyglass: Deprecation: this class has been moved out of spyglass.common.common_position\n",
      "\tIntervalLinearizedPosition -> spyglass.linearization.v0.main.IntervalLinearizedPosition\n",
      "Please use the new location.\n",
      "16-Jun-24 09:47:46 Deprecation: this class has been moved out of spyglass.common.common_position\n",
      "\tIntervalLinearizedPosition -> spyglass.linearization.v0.main.IntervalLinearizedPosition\n",
      "Please use the new location.\n"
     ]
    },
    {
     "name": "stdout",
     "output_type": "stream",
     "text": [
      "final shape of marks and linear position df is:\n",
      "(783223, 4)\n"
     ]
    }
   ],
   "source": [
    "for e in range(len(session_interval)):\n",
    "    \"\"\"\n",
    "    Position: UnitMarksIndicator\n",
    "    \"\"\"\n",
    "    linear_position_df = (IntervalLinearizedPosition() &\n",
    "        {'nwb_file_name': nwb_copy_file_name,\n",
    "        'interval_list_name': position_interval[e],\n",
    "        'position_info_param_name': 'default_decoding'}\n",
    "        ).fetch1_dataframe()\n",
    "    position_df = (IntervalPositionInfo &\n",
    "        {'nwb_file_name': nwb_copy_file_name,\n",
    "        'interval_list_name': position_interval[e],\n",
    "        'position_info_param_name': 'default_decoding'}\n",
    "                    ).fetch1_dataframe()\n",
    "\n",
    "    # Remove Data before 1st trial and after last trial\n",
    "    StateScript = pd.DataFrame(\n",
    "        (TrialChoice & {'nwb_file_name':nwb_copy_file_name,\n",
    "                        'epoch_name':session_interval[e]}).fetch1('choice_reward'))\n",
    "\n",
    "    trial_1_t = StateScript.loc[1].timestamp_O\n",
    "    trial_last_t = StateScript.loc[len(StateScript)-1].timestamp_O\n",
    "    linear_position_df = removeDataBeforeTrial1(linear_position_df,trial_1_t,trial_last_t)\n",
    "    position_df = removeDataBeforeTrial1(position_df,trial_1_t,trial_last_t)\n",
    "\n",
    "    \"\"\"\n",
    "    Intervals\n",
    "    \"\"\"\n",
    "    intersect_interval = intersectValidIntervals(nwb_copy_file_name,\n",
    "                                                session_interval[e],position_interval[e])\n",
    "\n",
    "    linear_position_df_=[]\n",
    "    position_df_ =[]\n",
    "    for i in range(len(intersect_interval)):\n",
    "        valid_time_slice = slice(intersect_interval[i][0], intersect_interval[i][1])\n",
    "\n",
    "        linear_position_df_.append(linear_position_df.loc[valid_time_slice])\n",
    "        position_df_.append(position_df.loc[valid_time_slice])\n",
    "\n",
    "\n",
    "    linear_position_df=pd.concat(linear_position_df_)\n",
    "    position_df=pd.concat(position_df_)\n",
    "    print('final shape of marks and linear position df is:')\n",
    "\n",
    "    print(linear_position_df.shape)\n",
    "\n",
    "    \"\"\"save result\"\"\"\n",
    "    animal = nwb_copy_file_name[:5]\n",
    "\n",
    "\n",
    "    position1d_path=os.path.join(f'/cumulus/shijie/recording_pilot/{animal}/decoding',\n",
    "                             nwb_copy_file_name+'_'+session_interval[e]+'_1dposition.csv')\n",
    "    linear_position_df.to_csv(position1d_path)\n",
    "\n",
    "    position2d_path=os.path.join(f'/cumulus/shijie/recording_pilot/{animal}/decoding',\n",
    "                             nwb_copy_file_name+'_'+session_interval[e]+'_2dposition.csv')\n",
    "    position_df.to_csv(position2d_path)"
   ]
  },
  {
   "cell_type": "code",
   "execution_count": null,
   "id": "af22639d-5972-4f52-a8f8-b823b7b63409",
   "metadata": {},
   "outputs": [],
   "source": []
  }
 ],
 "metadata": {
  "kernelspec": {
   "display_name": "Python 3 (ipykernel)",
   "language": "python",
   "name": "python3"
  },
  "language_info": {
   "codemirror_mode": {
    "name": "ipython",
    "version": 3
   },
   "file_extension": ".py",
   "mimetype": "text/x-python",
   "name": "python",
   "nbconvert_exporter": "python",
   "pygments_lexer": "ipython3",
   "version": "3.7.12"
  }
 },
 "nbformat": 4,
 "nbformat_minor": 5
}
