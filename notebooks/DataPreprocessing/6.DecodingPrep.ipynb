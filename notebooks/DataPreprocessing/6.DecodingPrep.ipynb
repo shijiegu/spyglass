{
 "cells": [
  {
   "cell_type": "markdown",
   "id": "2787310a-7117-4eec-95b0-2f973bf49f54",
   "metadata": {},
   "source": [
    "## This notebook prepares for decoding (both 1D and 2D)\n",
    "### Use this notebook to run session/day of each dataset from new animal"
   ]
  },
  {
   "cell_type": "code",
   "execution_count": 1,
   "id": "05e6ef1a-25d8-4c66-9abe-5fbe109aa05e",
   "metadata": {},
   "outputs": [],
   "source": [
    "%reload_ext autoreload\n",
    "%autoreload 2"
   ]
  },
  {
   "cell_type": "code",
   "execution_count": 2,
   "id": "8a882cf8-b4c6-40c6-b800-79ac9af9fddb",
   "metadata": {},
   "outputs": [],
   "source": [
    "import spyglass as nd\n",
    "import pandas as pd\n",
    "# ignore datajoint+jupyter async warnings\n",
    "import warnings\n",
    "warnings.simplefilter('ignore', category=DeprecationWarning)\n",
    "warnings.simplefilter('ignore', category=ResourceWarning)"
   ]
  },
  {
   "cell_type": "code",
   "execution_count": 3,
   "id": "d46d7e2c-e475-459a-ae47-5aac32e806e6",
   "metadata": {},
   "outputs": [],
   "source": [
    "import matplotlib.pyplot as plt\n",
    "import numpy as np\n",
    "import xarray as xr\n",
    "import logging\n",
    "import os\n",
    "import cupy as cp\n",
    "\n",
    "FORMAT = '%(asctime)s %(message)s'\n",
    "\n",
    "logging.basicConfig(level='INFO', format=FORMAT, datefmt='%d-%b-%y %H:%M:%S')"
   ]
  },
  {
   "cell_type": "code",
   "execution_count": 4,
   "id": "dd2cda59-5fa8-4777-9754-6bd93cdbef5f",
   "metadata": {},
   "outputs": [
    {
     "name": "stderr",
     "output_type": "stream",
     "text": [
      "[2025-04-21 14:37:00,415][INFO]: Connecting shijiegu-alt@lmf-db.cin.ucsf.edu:3306\n",
      "21-Apr-25 14:37:00 Connecting shijiegu-alt@lmf-db.cin.ucsf.edu:3306\n",
      "[2025-04-21 14:37:00,493][INFO]: Connected shijiegu-alt@lmf-db.cin.ucsf.edu:3306\n",
      "21-Apr-25 14:37:00 Connected shijiegu-alt@lmf-db.cin.ucsf.edu:3306\n"
     ]
    }
   ],
   "source": [
    "from spyglass.common import (Session, IntervalList,IntervalPositionInfo,\n",
    "                             LabMember, LabTeam, Raw, Session, Nwbfile,\n",
    "                            Electrode,LFPBand,interval_list_intersect)\n",
    "from spyglass.common.common_interval import _intersection\n",
    "from spyglass.common.common_position import IntervalLinearizedPosition\n",
    "\n",
    "import spyglass.spikesorting.v0 as ss\n",
    "from spyglass.spikesorting.v0 import (SortGroup, \n",
    "                                    SortInterval,\n",
    "                                    SpikeSortingPreprocessingParameters,\n",
    "                                    SpikeSortingRecording, \n",
    "                                    SpikeSorterParameters,\n",
    "                                    SpikeSortingRecordingSelection,\n",
    "                                    ArtifactDetectionParameters, ArtifactDetectionSelection,\n",
    "                                    ArtifactRemovedIntervalList, ArtifactDetection,\n",
    "                                      SpikeSortingSelection, SpikeSorting,\n",
    "                                   CuratedSpikeSortingSelection,CuratedSpikeSorting,Curation)\n",
    "from spyglass.decoding.v0.clusterless import (UnitMarks,\n",
    "                                           UnitMarkParameters,UnitMarksIndicatorSelection,\n",
    "                                          UnitMarksIndicator)\n",
    "from spyglass.utils.nwb_helper_fn import get_nwb_copy_filename\n",
    "from spyglass.common.common_position import IntervalPositionInfo, IntervalPositionInfoSelection\n",
    "\n",
    "from replay_trajectory_classification.environments import Environment\n",
    "from spyglass.common.common_position import TrackGraph\n",
    "from spyglass.decoding.v0.clusterless import ClusterlessClassifierParameters\n",
    "from replay_trajectory_classification import ClusterlessClassifier\n",
    "\n",
    "\n",
    "\n",
    "import pprint\n",
    "# Here are the analysis tables specific to Shijie Gu\n",
    "from spyglass.shijiegu.Analysis_SGU import EpochPos,TrialChoice,Decode,DecodeResultsLinear\n",
    "from spyglass.shijiegu.decodeHelpers import (thresholder_sort,\n",
    "            runSessionNames,sleepSessionNames,populateUnitMarks,\n",
    "            intersectValidIntervals)"
   ]
  },
  {
   "cell_type": "code",
   "execution_count": 5,
   "id": "9cfd91a4-ed92-40b2-aa1e-0bbc7561d885",
   "metadata": {},
   "outputs": [],
   "source": [
    "from spyglass.shijiegu.decodeHelpers import decodePrepMasterSession"
   ]
  },
  {
   "cell_type": "markdown",
   "id": "210af784-53b5-4631-b767-33ec7a3cf1a4",
   "metadata": {},
   "source": [
    "## Table stream:\n",
    "#### The thresholder sorter will fill `SpikeSorting`, then we fill `Curation`, `UnitMarks`\n",
    "### 1. The final product is `UnitMarksIndicator`, which include spike and location"
   ]
  },
  {
   "cell_type": "code",
   "execution_count": 6,
   "id": "90352bb7-f85b-476d-8d07-5978f28a47af",
   "metadata": {},
   "outputs": [],
   "source": [
    "nwb_copy_file_name = 'Julio20230811_.nwb'"
   ]
  },
  {
   "cell_type": "code",
   "execution_count": 7,
   "id": "75854fc6-29fb-4ec4-850d-7d4ff0cc608e",
   "metadata": {},
   "outputs": [
    {
     "name": "stdout",
     "output_type": "stream",
     "text": [
      "['02_Seq2Session1', '04_Seq2Session2', '06_Seq2Session3', '07_Seq2Session4', '09_Seq2Session5']\n"
     ]
    }
   ],
   "source": [
    "session_interval, position_interval = runSessionNames(nwb_copy_file_name)\n",
    "print(session_interval)"
   ]
  },
  {
   "cell_type": "code",
   "execution_count": 8,
   "id": "67856207-7cb9-4aed-98e6-0ac785af87d8",
   "metadata": {},
   "outputs": [
    {
     "name": "stdout",
     "output_type": "stream",
     "text": [
      "['02_Seq2Session1', '04_Seq2Session2', '06_Seq2Session3', '07_Seq2Session4', '09_Seq2Session5']\n"
     ]
    }
   ],
   "source": [
    "sleep_interval, sleep_position_interval = sleepSessionNames(nwb_copy_file_name)\n",
    "print(session_interval)"
   ]
  },
  {
   "cell_type": "code",
   "execution_count": 14,
   "id": "b0291d7e-04f2-4617-8dc5-6f9a3f3181fc",
   "metadata": {
    "scrolled": true
   },
   "outputs": [
    {
     "name": "stdout",
     "output_type": "stream",
     "text": [
      "2\n",
      "inserting into IntervalList\n",
      "done inserting into IntervalList\n",
      "3\n",
      "inserting into IntervalList\n",
      "done inserting into IntervalList\n",
      "6\n",
      "inserting into IntervalList\n",
      "done inserting into IntervalList\n",
      "7\n",
      "inserting into IntervalList\n",
      "done inserting into IntervalList\n",
      "8\n",
      "inserting into IntervalList\n",
      "done inserting into IntervalList\n",
      "11\n",
      "inserting into IntervalList\n",
      "done inserting into IntervalList\n",
      "12\n",
      "inserting into IntervalList\n",
      "done inserting into IntervalList\n",
      "15\n",
      "inserting into IntervalList\n",
      "done inserting into IntervalList\n",
      "20\n",
      "inserting into IntervalList\n",
      "done inserting into IntervalList\n",
      "22\n",
      "inserting into IntervalList\n",
      "done inserting into IntervalList\n",
      "26\n",
      "inserting into IntervalList\n",
      "done inserting into IntervalList\n",
      "28\n",
      "inserting into IntervalList\n",
      "done inserting into IntervalList\n",
      "29\n",
      "inserting into IntervalList\n",
      "done inserting into IntervalList\n",
      "30\n",
      "inserting into IntervalList\n",
      "done inserting into IntervalList\n",
      "31\n",
      "inserting into IntervalList\n",
      "done inserting into IntervalList\n",
      "36\n",
      "inserting into IntervalList\n",
      "done inserting into IntervalList\n",
      "42\n",
      "inserting into IntervalList\n",
      "done inserting into IntervalList\n",
      "43\n",
      "inserting into IntervalList\n",
      "done inserting into IntervalList\n",
      "49\n",
      "inserting into IntervalList\n",
      "done inserting into IntervalList\n",
      "50\n",
      "inserting into IntervalList\n",
      "done inserting into IntervalList\n",
      "51\n",
      "inserting into IntervalList\n",
      "done inserting into IntervalList\n",
      "52\n",
      "inserting into IntervalList\n",
      "done inserting into IntervalList\n",
      "55\n",
      "inserting into IntervalList\n",
      "done inserting into IntervalList\n",
      "56\n",
      "inserting into IntervalList\n",
      "done inserting into IntervalList\n",
      "61\n",
      "inserting into IntervalList\n",
      "done inserting into IntervalList\n"
     ]
    },
    {
     "name": "stderr",
     "output_type": "stream",
     "text": [
      "[19:01:57][INFO] Spyglass: Running spike sorting on {'nwb_file_name': 'Julio20230811_.nwb', 'sort_group_id': 11, 'sort_interval_name': '06_Seq2Session3', 'preproc_params_name': 'franklab_tetrode_hippocampus', 'team_name': 'SequenceTask', 'sorter': 'clusterless_thresholder', 'sorter_params_name': 'default', 'artifact_removed_interval_list_name': 'Julio20230811_.nwb_06_Seq2Session3_11_franklab_tetrode_hippocampus_ampl_1500_prop_075_1ms_artifact_removed_valid_times_track_time_only'}...\n",
      "20-Apr-25 19:01:57 Running spike sorting on {'nwb_file_name': 'Julio20230811_.nwb', 'sort_group_id': 11, 'sort_interval_name': '06_Seq2Session3', 'preproc_params_name': 'franklab_tetrode_hippocampus', 'team_name': 'SequenceTask', 'sorter': 'clusterless_thresholder', 'sorter_params_name': 'default', 'artifact_removed_interval_list_name': 'Julio20230811_.nwb_06_Seq2Session3_11_franklab_tetrode_hippocampus_ampl_1500_prop_075_1ms_artifact_removed_valid_times_track_time_only'}...\n"
     ]
    },
    {
     "data": {
      "application/vnd.jupyter.widget-view+json": {
       "model_id": "90572478c3f44f74ac4d17b6711f6b2e",
       "version_major": 2,
       "version_minor": 0
      },
      "text/plain": [
       "detect peaks using locally_exclusive:   0%|          | 0/998 [00:00<?, ?it/s]"
      ]
     },
     "metadata": {},
     "output_type": "display_data"
    },
    {
     "name": "stderr",
     "output_type": "stream",
     "text": [
      "[19:03:20][INFO] Spyglass: Saving sorting results...\n",
      "20-Apr-25 19:03:20 Saving sorting results...\n",
      "[19:03:30][INFO] Spyglass: Running spike sorting on {'nwb_file_name': 'Julio20230811_.nwb', 'sort_group_id': 12, 'sort_interval_name': '06_Seq2Session3', 'preproc_params_name': 'franklab_tetrode_hippocampus', 'team_name': 'SequenceTask', 'sorter': 'clusterless_thresholder', 'sorter_params_name': 'default', 'artifact_removed_interval_list_name': 'Julio20230811_.nwb_06_Seq2Session3_12_franklab_tetrode_hippocampus_ampl_1500_prop_075_1ms_artifact_removed_valid_times_track_time_only'}...\n",
      "20-Apr-25 19:03:30 Running spike sorting on {'nwb_file_name': 'Julio20230811_.nwb', 'sort_group_id': 12, 'sort_interval_name': '06_Seq2Session3', 'preproc_params_name': 'franklab_tetrode_hippocampus', 'team_name': 'SequenceTask', 'sorter': 'clusterless_thresholder', 'sorter_params_name': 'default', 'artifact_removed_interval_list_name': 'Julio20230811_.nwb_06_Seq2Session3_12_franklab_tetrode_hippocampus_ampl_1500_prop_075_1ms_artifact_removed_valid_times_track_time_only'}...\n"
     ]
    },
    {
     "data": {
      "application/vnd.jupyter.widget-view+json": {
       "model_id": "6b3e61e942c147fe932edf21e22898a9",
       "version_major": 2,
       "version_minor": 0
      },
      "text/plain": [
       "detect peaks using locally_exclusive:   0%|          | 0/998 [00:00<?, ?it/s]"
      ]
     },
     "metadata": {},
     "output_type": "display_data"
    },
    {
     "name": "stderr",
     "output_type": "stream",
     "text": [
      "[19:04:52][INFO] Spyglass: Saving sorting results...\n",
      "20-Apr-25 19:04:52 Saving sorting results...\n",
      "[19:05:02][INFO] Spyglass: Running spike sorting on {'nwb_file_name': 'Julio20230811_.nwb', 'sort_group_id': 15, 'sort_interval_name': '06_Seq2Session3', 'preproc_params_name': 'franklab_tetrode_hippocampus', 'team_name': 'SequenceTask', 'sorter': 'clusterless_thresholder', 'sorter_params_name': 'default', 'artifact_removed_interval_list_name': 'Julio20230811_.nwb_06_Seq2Session3_15_franklab_tetrode_hippocampus_ampl_1500_prop_075_1ms_artifact_removed_valid_times_track_time_only'}...\n",
      "20-Apr-25 19:05:02 Running spike sorting on {'nwb_file_name': 'Julio20230811_.nwb', 'sort_group_id': 15, 'sort_interval_name': '06_Seq2Session3', 'preproc_params_name': 'franklab_tetrode_hippocampus', 'team_name': 'SequenceTask', 'sorter': 'clusterless_thresholder', 'sorter_params_name': 'default', 'artifact_removed_interval_list_name': 'Julio20230811_.nwb_06_Seq2Session3_15_franklab_tetrode_hippocampus_ampl_1500_prop_075_1ms_artifact_removed_valid_times_track_time_only'}...\n"
     ]
    },
    {
     "data": {
      "application/vnd.jupyter.widget-view+json": {
       "model_id": "eab74696099941cfa140fd09976b7eab",
       "version_major": 2,
       "version_minor": 0
      },
      "text/plain": [
       "detect peaks using locally_exclusive:   0%|          | 0/998 [00:00<?, ?it/s]"
      ]
     },
     "metadata": {},
     "output_type": "display_data"
    },
    {
     "name": "stderr",
     "output_type": "stream",
     "text": [
      "[19:06:25][INFO] Spyglass: Saving sorting results...\n",
      "20-Apr-25 19:06:25 Saving sorting results...\n",
      "[19:06:35][INFO] Spyglass: Running spike sorting on {'nwb_file_name': 'Julio20230811_.nwb', 'sort_group_id': 20, 'sort_interval_name': '06_Seq2Session3', 'preproc_params_name': 'franklab_tetrode_hippocampus', 'team_name': 'SequenceTask', 'sorter': 'clusterless_thresholder', 'sorter_params_name': 'default', 'artifact_removed_interval_list_name': 'Julio20230811_.nwb_06_Seq2Session3_20_franklab_tetrode_hippocampus_ampl_1500_prop_075_1ms_artifact_removed_valid_times_track_time_only'}...\n",
      "20-Apr-25 19:06:35 Running spike sorting on {'nwb_file_name': 'Julio20230811_.nwb', 'sort_group_id': 20, 'sort_interval_name': '06_Seq2Session3', 'preproc_params_name': 'franklab_tetrode_hippocampus', 'team_name': 'SequenceTask', 'sorter': 'clusterless_thresholder', 'sorter_params_name': 'default', 'artifact_removed_interval_list_name': 'Julio20230811_.nwb_06_Seq2Session3_20_franklab_tetrode_hippocampus_ampl_1500_prop_075_1ms_artifact_removed_valid_times_track_time_only'}...\n"
     ]
    },
    {
     "data": {
      "application/vnd.jupyter.widget-view+json": {
       "model_id": "f3fcbf0f4f4143b4965d5f6a92cfb10d",
       "version_major": 2,
       "version_minor": 0
      },
      "text/plain": [
       "detect peaks using locally_exclusive:   0%|          | 0/998 [00:00<?, ?it/s]"
      ]
     },
     "metadata": {},
     "output_type": "display_data"
    },
    {
     "name": "stderr",
     "output_type": "stream",
     "text": [
      "[19:07:56][INFO] Spyglass: Saving sorting results...\n",
      "20-Apr-25 19:07:56 Saving sorting results...\n",
      "[19:08:06][INFO] Spyglass: Running spike sorting on {'nwb_file_name': 'Julio20230811_.nwb', 'sort_group_id': 22, 'sort_interval_name': '06_Seq2Session3', 'preproc_params_name': 'franklab_tetrode_hippocampus', 'team_name': 'SequenceTask', 'sorter': 'clusterless_thresholder', 'sorter_params_name': 'default', 'artifact_removed_interval_list_name': 'Julio20230811_.nwb_06_Seq2Session3_22_franklab_tetrode_hippocampus_ampl_1500_prop_075_1ms_artifact_removed_valid_times_track_time_only'}...\n",
      "20-Apr-25 19:08:06 Running spike sorting on {'nwb_file_name': 'Julio20230811_.nwb', 'sort_group_id': 22, 'sort_interval_name': '06_Seq2Session3', 'preproc_params_name': 'franklab_tetrode_hippocampus', 'team_name': 'SequenceTask', 'sorter': 'clusterless_thresholder', 'sorter_params_name': 'default', 'artifact_removed_interval_list_name': 'Julio20230811_.nwb_06_Seq2Session3_22_franklab_tetrode_hippocampus_ampl_1500_prop_075_1ms_artifact_removed_valid_times_track_time_only'}...\n"
     ]
    },
    {
     "data": {
      "application/vnd.jupyter.widget-view+json": {
       "model_id": "d0d0be3c735d4690919fa18e8d74c1e9",
       "version_major": 2,
       "version_minor": 0
      },
      "text/plain": [
       "detect peaks using locally_exclusive:   0%|          | 0/998 [00:00<?, ?it/s]"
      ]
     },
     "metadata": {},
     "output_type": "display_data"
    },
    {
     "name": "stderr",
     "output_type": "stream",
     "text": [
      "[19:09:30][INFO] Spyglass: Saving sorting results...\n",
      "20-Apr-25 19:09:30 Saving sorting results...\n",
      "[19:09:41][INFO] Spyglass: Running spike sorting on {'nwb_file_name': 'Julio20230811_.nwb', 'sort_group_id': 26, 'sort_interval_name': '06_Seq2Session3', 'preproc_params_name': 'franklab_tetrode_hippocampus', 'team_name': 'SequenceTask', 'sorter': 'clusterless_thresholder', 'sorter_params_name': 'default', 'artifact_removed_interval_list_name': 'Julio20230811_.nwb_06_Seq2Session3_26_franklab_tetrode_hippocampus_ampl_1500_prop_075_1ms_artifact_removed_valid_times_track_time_only'}...\n",
      "20-Apr-25 19:09:41 Running spike sorting on {'nwb_file_name': 'Julio20230811_.nwb', 'sort_group_id': 26, 'sort_interval_name': '06_Seq2Session3', 'preproc_params_name': 'franklab_tetrode_hippocampus', 'team_name': 'SequenceTask', 'sorter': 'clusterless_thresholder', 'sorter_params_name': 'default', 'artifact_removed_interval_list_name': 'Julio20230811_.nwb_06_Seq2Session3_26_franklab_tetrode_hippocampus_ampl_1500_prop_075_1ms_artifact_removed_valid_times_track_time_only'}...\n"
     ]
    },
    {
     "data": {
      "application/vnd.jupyter.widget-view+json": {
       "model_id": "0651fdb0d4de4ca0ba445ea9a6eaf491",
       "version_major": 2,
       "version_minor": 0
      },
      "text/plain": [
       "detect peaks using locally_exclusive:   0%|          | 0/998 [00:00<?, ?it/s]"
      ]
     },
     "metadata": {},
     "output_type": "display_data"
    },
    {
     "name": "stderr",
     "output_type": "stream",
     "text": [
      "[19:11:03][INFO] Spyglass: Saving sorting results...\n",
      "20-Apr-25 19:11:03 Saving sorting results...\n",
      "[19:11:13][INFO] Spyglass: Running spike sorting on {'nwb_file_name': 'Julio20230811_.nwb', 'sort_group_id': 28, 'sort_interval_name': '06_Seq2Session3', 'preproc_params_name': 'franklab_tetrode_hippocampus', 'team_name': 'SequenceTask', 'sorter': 'clusterless_thresholder', 'sorter_params_name': 'default', 'artifact_removed_interval_list_name': 'Julio20230811_.nwb_06_Seq2Session3_28_franklab_tetrode_hippocampus_ampl_1500_prop_075_1ms_artifact_removed_valid_times_track_time_only'}...\n",
      "20-Apr-25 19:11:13 Running spike sorting on {'nwb_file_name': 'Julio20230811_.nwb', 'sort_group_id': 28, 'sort_interval_name': '06_Seq2Session3', 'preproc_params_name': 'franklab_tetrode_hippocampus', 'team_name': 'SequenceTask', 'sorter': 'clusterless_thresholder', 'sorter_params_name': 'default', 'artifact_removed_interval_list_name': 'Julio20230811_.nwb_06_Seq2Session3_28_franklab_tetrode_hippocampus_ampl_1500_prop_075_1ms_artifact_removed_valid_times_track_time_only'}...\n"
     ]
    },
    {
     "data": {
      "application/vnd.jupyter.widget-view+json": {
       "model_id": "e51e45ed711d4879af755907dc6c3ef3",
       "version_major": 2,
       "version_minor": 0
      },
      "text/plain": [
       "detect peaks using locally_exclusive:   0%|          | 0/998 [00:00<?, ?it/s]"
      ]
     },
     "metadata": {},
     "output_type": "display_data"
    },
    {
     "name": "stderr",
     "output_type": "stream",
     "text": [
      "[19:12:35][INFO] Spyglass: Saving sorting results...\n",
      "20-Apr-25 19:12:35 Saving sorting results...\n",
      "[19:12:45][INFO] Spyglass: Running spike sorting on {'nwb_file_name': 'Julio20230811_.nwb', 'sort_group_id': 29, 'sort_interval_name': '06_Seq2Session3', 'preproc_params_name': 'franklab_tetrode_hippocampus', 'team_name': 'SequenceTask', 'sorter': 'clusterless_thresholder', 'sorter_params_name': 'default', 'artifact_removed_interval_list_name': 'Julio20230811_.nwb_06_Seq2Session3_29_franklab_tetrode_hippocampus_ampl_1500_prop_075_1ms_artifact_removed_valid_times_track_time_only'}...\n",
      "20-Apr-25 19:12:45 Running spike sorting on {'nwb_file_name': 'Julio20230811_.nwb', 'sort_group_id': 29, 'sort_interval_name': '06_Seq2Session3', 'preproc_params_name': 'franklab_tetrode_hippocampus', 'team_name': 'SequenceTask', 'sorter': 'clusterless_thresholder', 'sorter_params_name': 'default', 'artifact_removed_interval_list_name': 'Julio20230811_.nwb_06_Seq2Session3_29_franklab_tetrode_hippocampus_ampl_1500_prop_075_1ms_artifact_removed_valid_times_track_time_only'}...\n"
     ]
    },
    {
     "data": {
      "application/vnd.jupyter.widget-view+json": {
       "model_id": "3c57c5f2051645b591932160dee89b12",
       "version_major": 2,
       "version_minor": 0
      },
      "text/plain": [
       "detect peaks using locally_exclusive:   0%|          | 0/998 [00:00<?, ?it/s]"
      ]
     },
     "metadata": {},
     "output_type": "display_data"
    },
    {
     "name": "stderr",
     "output_type": "stream",
     "text": [
      "[19:14:08][INFO] Spyglass: Saving sorting results...\n",
      "20-Apr-25 19:14:08 Saving sorting results...\n",
      "[19:14:18][INFO] Spyglass: Running spike sorting on {'nwb_file_name': 'Julio20230811_.nwb', 'sort_group_id': 2, 'sort_interval_name': '06_Seq2Session3', 'preproc_params_name': 'franklab_tetrode_hippocampus', 'team_name': 'SequenceTask', 'sorter': 'clusterless_thresholder', 'sorter_params_name': 'default', 'artifact_removed_interval_list_name': 'Julio20230811_.nwb_06_Seq2Session3_2_franklab_tetrode_hippocampus_ampl_1500_prop_075_1ms_artifact_removed_valid_times_track_time_only'}...\n",
      "20-Apr-25 19:14:18 Running spike sorting on {'nwb_file_name': 'Julio20230811_.nwb', 'sort_group_id': 2, 'sort_interval_name': '06_Seq2Session3', 'preproc_params_name': 'franklab_tetrode_hippocampus', 'team_name': 'SequenceTask', 'sorter': 'clusterless_thresholder', 'sorter_params_name': 'default', 'artifact_removed_interval_list_name': 'Julio20230811_.nwb_06_Seq2Session3_2_franklab_tetrode_hippocampus_ampl_1500_prop_075_1ms_artifact_removed_valid_times_track_time_only'}...\n"
     ]
    },
    {
     "data": {
      "application/vnd.jupyter.widget-view+json": {
       "model_id": "9e7cd16fbd814490af7c9cf3095cd824",
       "version_major": 2,
       "version_minor": 0
      },
      "text/plain": [
       "detect peaks using locally_exclusive:   0%|          | 0/998 [00:00<?, ?it/s]"
      ]
     },
     "metadata": {},
     "output_type": "display_data"
    },
    {
     "name": "stderr",
     "output_type": "stream",
     "text": [
      "[19:15:40][INFO] Spyglass: Saving sorting results...\n",
      "20-Apr-25 19:15:40 Saving sorting results...\n",
      "[19:15:50][INFO] Spyglass: Running spike sorting on {'nwb_file_name': 'Julio20230811_.nwb', 'sort_group_id': 30, 'sort_interval_name': '06_Seq2Session3', 'preproc_params_name': 'franklab_tetrode_hippocampus', 'team_name': 'SequenceTask', 'sorter': 'clusterless_thresholder', 'sorter_params_name': 'default', 'artifact_removed_interval_list_name': 'Julio20230811_.nwb_06_Seq2Session3_30_franklab_tetrode_hippocampus_ampl_1500_prop_075_1ms_artifact_removed_valid_times_track_time_only'}...\n",
      "20-Apr-25 19:15:50 Running spike sorting on {'nwb_file_name': 'Julio20230811_.nwb', 'sort_group_id': 30, 'sort_interval_name': '06_Seq2Session3', 'preproc_params_name': 'franklab_tetrode_hippocampus', 'team_name': 'SequenceTask', 'sorter': 'clusterless_thresholder', 'sorter_params_name': 'default', 'artifact_removed_interval_list_name': 'Julio20230811_.nwb_06_Seq2Session3_30_franklab_tetrode_hippocampus_ampl_1500_prop_075_1ms_artifact_removed_valid_times_track_time_only'}...\n"
     ]
    },
    {
     "data": {
      "application/vnd.jupyter.widget-view+json": {
       "model_id": "066a6bc26c2949328065aebf6e75592d",
       "version_major": 2,
       "version_minor": 0
      },
      "text/plain": [
       "detect peaks using locally_exclusive:   0%|          | 0/998 [00:00<?, ?it/s]"
      ]
     },
     "metadata": {},
     "output_type": "display_data"
    },
    {
     "name": "stderr",
     "output_type": "stream",
     "text": [
      "[19:17:12][INFO] Spyglass: Saving sorting results...\n",
      "20-Apr-25 19:17:12 Saving sorting results...\n",
      "[19:17:22][INFO] Spyglass: Running spike sorting on {'nwb_file_name': 'Julio20230811_.nwb', 'sort_group_id': 31, 'sort_interval_name': '06_Seq2Session3', 'preproc_params_name': 'franklab_tetrode_hippocampus', 'team_name': 'SequenceTask', 'sorter': 'clusterless_thresholder', 'sorter_params_name': 'default', 'artifact_removed_interval_list_name': 'Julio20230811_.nwb_06_Seq2Session3_31_franklab_tetrode_hippocampus_ampl_1500_prop_075_1ms_artifact_removed_valid_times_track_time_only'}...\n",
      "20-Apr-25 19:17:22 Running spike sorting on {'nwb_file_name': 'Julio20230811_.nwb', 'sort_group_id': 31, 'sort_interval_name': '06_Seq2Session3', 'preproc_params_name': 'franklab_tetrode_hippocampus', 'team_name': 'SequenceTask', 'sorter': 'clusterless_thresholder', 'sorter_params_name': 'default', 'artifact_removed_interval_list_name': 'Julio20230811_.nwb_06_Seq2Session3_31_franklab_tetrode_hippocampus_ampl_1500_prop_075_1ms_artifact_removed_valid_times_track_time_only'}...\n"
     ]
    },
    {
     "data": {
      "application/vnd.jupyter.widget-view+json": {
       "model_id": "9138657eed1c461ebad27c5bd8afc109",
       "version_major": 2,
       "version_minor": 0
      },
      "text/plain": [
       "detect peaks using locally_exclusive:   0%|          | 0/998 [00:00<?, ?it/s]"
      ]
     },
     "metadata": {},
     "output_type": "display_data"
    },
    {
     "name": "stderr",
     "output_type": "stream",
     "text": [
      "[19:18:44][INFO] Spyglass: Saving sorting results...\n",
      "20-Apr-25 19:18:44 Saving sorting results...\n",
      "[19:18:55][INFO] Spyglass: Running spike sorting on {'nwb_file_name': 'Julio20230811_.nwb', 'sort_group_id': 36, 'sort_interval_name': '06_Seq2Session3', 'preproc_params_name': 'franklab_tetrode_hippocampus', 'team_name': 'SequenceTask', 'sorter': 'clusterless_thresholder', 'sorter_params_name': 'default', 'artifact_removed_interval_list_name': 'Julio20230811_.nwb_06_Seq2Session3_36_franklab_tetrode_hippocampus_ampl_1500_prop_075_1ms_artifact_removed_valid_times_track_time_only'}...\n",
      "20-Apr-25 19:18:55 Running spike sorting on {'nwb_file_name': 'Julio20230811_.nwb', 'sort_group_id': 36, 'sort_interval_name': '06_Seq2Session3', 'preproc_params_name': 'franklab_tetrode_hippocampus', 'team_name': 'SequenceTask', 'sorter': 'clusterless_thresholder', 'sorter_params_name': 'default', 'artifact_removed_interval_list_name': 'Julio20230811_.nwb_06_Seq2Session3_36_franklab_tetrode_hippocampus_ampl_1500_prop_075_1ms_artifact_removed_valid_times_track_time_only'}...\n"
     ]
    },
    {
     "data": {
      "application/vnd.jupyter.widget-view+json": {
       "model_id": "122b22a1471e40e9b8a9b9193e5f68fb",
       "version_major": 2,
       "version_minor": 0
      },
      "text/plain": [
       "detect peaks using locally_exclusive:   0%|          | 0/998 [00:00<?, ?it/s]"
      ]
     },
     "metadata": {},
     "output_type": "display_data"
    },
    {
     "name": "stderr",
     "output_type": "stream",
     "text": [
      "[19:20:17][INFO] Spyglass: Saving sorting results...\n",
      "20-Apr-25 19:20:17 Saving sorting results...\n",
      "[19:20:27][INFO] Spyglass: Running spike sorting on {'nwb_file_name': 'Julio20230811_.nwb', 'sort_group_id': 3, 'sort_interval_name': '06_Seq2Session3', 'preproc_params_name': 'franklab_tetrode_hippocampus', 'team_name': 'SequenceTask', 'sorter': 'clusterless_thresholder', 'sorter_params_name': 'default', 'artifact_removed_interval_list_name': 'Julio20230811_.nwb_06_Seq2Session3_3_franklab_tetrode_hippocampus_ampl_1500_prop_075_1ms_artifact_removed_valid_times_track_time_only'}...\n",
      "20-Apr-25 19:20:27 Running spike sorting on {'nwb_file_name': 'Julio20230811_.nwb', 'sort_group_id': 3, 'sort_interval_name': '06_Seq2Session3', 'preproc_params_name': 'franklab_tetrode_hippocampus', 'team_name': 'SequenceTask', 'sorter': 'clusterless_thresholder', 'sorter_params_name': 'default', 'artifact_removed_interval_list_name': 'Julio20230811_.nwb_06_Seq2Session3_3_franklab_tetrode_hippocampus_ampl_1500_prop_075_1ms_artifact_removed_valid_times_track_time_only'}...\n"
     ]
    },
    {
     "data": {
      "application/vnd.jupyter.widget-view+json": {
       "model_id": "2f2387d280aa4a608b2ade5e38354462",
       "version_major": 2,
       "version_minor": 0
      },
      "text/plain": [
       "detect peaks using locally_exclusive:   0%|          | 0/998 [00:00<?, ?it/s]"
      ]
     },
     "metadata": {},
     "output_type": "display_data"
    },
    {
     "name": "stderr",
     "output_type": "stream",
     "text": [
      "[19:21:50][INFO] Spyglass: Saving sorting results...\n",
      "20-Apr-25 19:21:50 Saving sorting results...\n",
      "[19:22:01][INFO] Spyglass: Running spike sorting on {'nwb_file_name': 'Julio20230811_.nwb', 'sort_group_id': 42, 'sort_interval_name': '06_Seq2Session3', 'preproc_params_name': 'franklab_tetrode_hippocampus', 'team_name': 'SequenceTask', 'sorter': 'clusterless_thresholder', 'sorter_params_name': 'default', 'artifact_removed_interval_list_name': 'Julio20230811_.nwb_06_Seq2Session3_42_franklab_tetrode_hippocampus_ampl_1500_prop_075_1ms_artifact_removed_valid_times_track_time_only'}...\n",
      "20-Apr-25 19:22:01 Running spike sorting on {'nwb_file_name': 'Julio20230811_.nwb', 'sort_group_id': 42, 'sort_interval_name': '06_Seq2Session3', 'preproc_params_name': 'franklab_tetrode_hippocampus', 'team_name': 'SequenceTask', 'sorter': 'clusterless_thresholder', 'sorter_params_name': 'default', 'artifact_removed_interval_list_name': 'Julio20230811_.nwb_06_Seq2Session3_42_franklab_tetrode_hippocampus_ampl_1500_prop_075_1ms_artifact_removed_valid_times_track_time_only'}...\n"
     ]
    },
    {
     "data": {
      "application/vnd.jupyter.widget-view+json": {
       "model_id": "cb0f39e4c143428a86195f3467b1fdde",
       "version_major": 2,
       "version_minor": 0
      },
      "text/plain": [
       "detect peaks using locally_exclusive:   0%|          | 0/998 [00:00<?, ?it/s]"
      ]
     },
     "metadata": {},
     "output_type": "display_data"
    },
    {
     "name": "stderr",
     "output_type": "stream",
     "text": [
      "[19:23:22][INFO] Spyglass: Saving sorting results...\n",
      "20-Apr-25 19:23:22 Saving sorting results...\n",
      "[19:23:33][INFO] Spyglass: Running spike sorting on {'nwb_file_name': 'Julio20230811_.nwb', 'sort_group_id': 43, 'sort_interval_name': '06_Seq2Session3', 'preproc_params_name': 'franklab_tetrode_hippocampus', 'team_name': 'SequenceTask', 'sorter': 'clusterless_thresholder', 'sorter_params_name': 'default', 'artifact_removed_interval_list_name': 'Julio20230811_.nwb_06_Seq2Session3_43_franklab_tetrode_hippocampus_ampl_1500_prop_075_1ms_artifact_removed_valid_times_track_time_only'}...\n",
      "20-Apr-25 19:23:33 Running spike sorting on {'nwb_file_name': 'Julio20230811_.nwb', 'sort_group_id': 43, 'sort_interval_name': '06_Seq2Session3', 'preproc_params_name': 'franklab_tetrode_hippocampus', 'team_name': 'SequenceTask', 'sorter': 'clusterless_thresholder', 'sorter_params_name': 'default', 'artifact_removed_interval_list_name': 'Julio20230811_.nwb_06_Seq2Session3_43_franklab_tetrode_hippocampus_ampl_1500_prop_075_1ms_artifact_removed_valid_times_track_time_only'}...\n"
     ]
    },
    {
     "data": {
      "application/vnd.jupyter.widget-view+json": {
       "model_id": "ca38bca5af4f49109013b0165a4859f9",
       "version_major": 2,
       "version_minor": 0
      },
      "text/plain": [
       "detect peaks using locally_exclusive:   0%|          | 0/998 [00:00<?, ?it/s]"
      ]
     },
     "metadata": {},
     "output_type": "display_data"
    },
    {
     "name": "stderr",
     "output_type": "stream",
     "text": [
      "[19:24:56][INFO] Spyglass: Saving sorting results...\n",
      "20-Apr-25 19:24:56 Saving sorting results...\n",
      "[19:25:05][INFO] Spyglass: Running spike sorting on {'nwb_file_name': 'Julio20230811_.nwb', 'sort_group_id': 49, 'sort_interval_name': '06_Seq2Session3', 'preproc_params_name': 'franklab_tetrode_hippocampus', 'team_name': 'SequenceTask', 'sorter': 'clusterless_thresholder', 'sorter_params_name': 'default', 'artifact_removed_interval_list_name': 'Julio20230811_.nwb_06_Seq2Session3_49_franklab_tetrode_hippocampus_ampl_1500_prop_075_1ms_artifact_removed_valid_times_track_time_only'}...\n",
      "20-Apr-25 19:25:05 Running spike sorting on {'nwb_file_name': 'Julio20230811_.nwb', 'sort_group_id': 49, 'sort_interval_name': '06_Seq2Session3', 'preproc_params_name': 'franklab_tetrode_hippocampus', 'team_name': 'SequenceTask', 'sorter': 'clusterless_thresholder', 'sorter_params_name': 'default', 'artifact_removed_interval_list_name': 'Julio20230811_.nwb_06_Seq2Session3_49_franklab_tetrode_hippocampus_ampl_1500_prop_075_1ms_artifact_removed_valid_times_track_time_only'}...\n"
     ]
    },
    {
     "data": {
      "application/vnd.jupyter.widget-view+json": {
       "model_id": "838a14d3add54718a8355ec67b3e9e17",
       "version_major": 2,
       "version_minor": 0
      },
      "text/plain": [
       "detect peaks using locally_exclusive:   0%|          | 0/998 [00:00<?, ?it/s]"
      ]
     },
     "metadata": {},
     "output_type": "display_data"
    },
    {
     "name": "stderr",
     "output_type": "stream",
     "text": [
      "[19:26:26][INFO] Spyglass: Saving sorting results...\n",
      "20-Apr-25 19:26:26 Saving sorting results...\n",
      "[19:26:37][INFO] Spyglass: Running spike sorting on {'nwb_file_name': 'Julio20230811_.nwb', 'sort_group_id': 50, 'sort_interval_name': '06_Seq2Session3', 'preproc_params_name': 'franklab_tetrode_hippocampus', 'team_name': 'SequenceTask', 'sorter': 'clusterless_thresholder', 'sorter_params_name': 'default', 'artifact_removed_interval_list_name': 'Julio20230811_.nwb_06_Seq2Session3_50_franklab_tetrode_hippocampus_ampl_1500_prop_075_1ms_artifact_removed_valid_times_track_time_only'}...\n",
      "20-Apr-25 19:26:37 Running spike sorting on {'nwb_file_name': 'Julio20230811_.nwb', 'sort_group_id': 50, 'sort_interval_name': '06_Seq2Session3', 'preproc_params_name': 'franklab_tetrode_hippocampus', 'team_name': 'SequenceTask', 'sorter': 'clusterless_thresholder', 'sorter_params_name': 'default', 'artifact_removed_interval_list_name': 'Julio20230811_.nwb_06_Seq2Session3_50_franklab_tetrode_hippocampus_ampl_1500_prop_075_1ms_artifact_removed_valid_times_track_time_only'}...\n"
     ]
    },
    {
     "data": {
      "application/vnd.jupyter.widget-view+json": {
       "model_id": "2312947251864822a18cf326821b5d21",
       "version_major": 2,
       "version_minor": 0
      },
      "text/plain": [
       "detect peaks using locally_exclusive:   0%|          | 0/998 [00:00<?, ?it/s]"
      ]
     },
     "metadata": {},
     "output_type": "display_data"
    },
    {
     "name": "stderr",
     "output_type": "stream",
     "text": [
      "[19:27:59][INFO] Spyglass: Saving sorting results...\n",
      "20-Apr-25 19:27:59 Saving sorting results...\n",
      "[19:28:09][INFO] Spyglass: Running spike sorting on {'nwb_file_name': 'Julio20230811_.nwb', 'sort_group_id': 51, 'sort_interval_name': '06_Seq2Session3', 'preproc_params_name': 'franklab_tetrode_hippocampus', 'team_name': 'SequenceTask', 'sorter': 'clusterless_thresholder', 'sorter_params_name': 'default', 'artifact_removed_interval_list_name': 'Julio20230811_.nwb_06_Seq2Session3_51_franklab_tetrode_hippocampus_ampl_1500_prop_075_1ms_artifact_removed_valid_times_track_time_only'}...\n",
      "20-Apr-25 19:28:09 Running spike sorting on {'nwb_file_name': 'Julio20230811_.nwb', 'sort_group_id': 51, 'sort_interval_name': '06_Seq2Session3', 'preproc_params_name': 'franklab_tetrode_hippocampus', 'team_name': 'SequenceTask', 'sorter': 'clusterless_thresholder', 'sorter_params_name': 'default', 'artifact_removed_interval_list_name': 'Julio20230811_.nwb_06_Seq2Session3_51_franklab_tetrode_hippocampus_ampl_1500_prop_075_1ms_artifact_removed_valid_times_track_time_only'}...\n"
     ]
    },
    {
     "data": {
      "application/vnd.jupyter.widget-view+json": {
       "model_id": "7100994a100e42918dfacb8544e1070f",
       "version_major": 2,
       "version_minor": 0
      },
      "text/plain": [
       "detect peaks using locally_exclusive:   0%|          | 0/998 [00:00<?, ?it/s]"
      ]
     },
     "metadata": {},
     "output_type": "display_data"
    },
    {
     "name": "stderr",
     "output_type": "stream",
     "text": [
      "[19:29:31][INFO] Spyglass: Saving sorting results...\n",
      "20-Apr-25 19:29:31 Saving sorting results...\n",
      "[19:29:41][INFO] Spyglass: Running spike sorting on {'nwb_file_name': 'Julio20230811_.nwb', 'sort_group_id': 52, 'sort_interval_name': '06_Seq2Session3', 'preproc_params_name': 'franklab_tetrode_hippocampus', 'team_name': 'SequenceTask', 'sorter': 'clusterless_thresholder', 'sorter_params_name': 'default', 'artifact_removed_interval_list_name': 'Julio20230811_.nwb_06_Seq2Session3_52_franklab_tetrode_hippocampus_ampl_1500_prop_075_1ms_artifact_removed_valid_times_track_time_only'}...\n",
      "20-Apr-25 19:29:41 Running spike sorting on {'nwb_file_name': 'Julio20230811_.nwb', 'sort_group_id': 52, 'sort_interval_name': '06_Seq2Session3', 'preproc_params_name': 'franklab_tetrode_hippocampus', 'team_name': 'SequenceTask', 'sorter': 'clusterless_thresholder', 'sorter_params_name': 'default', 'artifact_removed_interval_list_name': 'Julio20230811_.nwb_06_Seq2Session3_52_franklab_tetrode_hippocampus_ampl_1500_prop_075_1ms_artifact_removed_valid_times_track_time_only'}...\n"
     ]
    },
    {
     "data": {
      "application/vnd.jupyter.widget-view+json": {
       "model_id": "d74506e5f0b645e09015b50986cd0fc4",
       "version_major": 2,
       "version_minor": 0
      },
      "text/plain": [
       "detect peaks using locally_exclusive:   0%|          | 0/998 [00:00<?, ?it/s]"
      ]
     },
     "metadata": {},
     "output_type": "display_data"
    },
    {
     "name": "stderr",
     "output_type": "stream",
     "text": [
      "[19:31:03][INFO] Spyglass: Saving sorting results...\n",
      "20-Apr-25 19:31:03 Saving sorting results...\n",
      "[19:31:13][INFO] Spyglass: Running spike sorting on {'nwb_file_name': 'Julio20230811_.nwb', 'sort_group_id': 55, 'sort_interval_name': '06_Seq2Session3', 'preproc_params_name': 'franklab_tetrode_hippocampus', 'team_name': 'SequenceTask', 'sorter': 'clusterless_thresholder', 'sorter_params_name': 'default', 'artifact_removed_interval_list_name': 'Julio20230811_.nwb_06_Seq2Session3_55_franklab_tetrode_hippocampus_ampl_1500_prop_075_1ms_artifact_removed_valid_times_track_time_only'}...\n",
      "20-Apr-25 19:31:13 Running spike sorting on {'nwb_file_name': 'Julio20230811_.nwb', 'sort_group_id': 55, 'sort_interval_name': '06_Seq2Session3', 'preproc_params_name': 'franklab_tetrode_hippocampus', 'team_name': 'SequenceTask', 'sorter': 'clusterless_thresholder', 'sorter_params_name': 'default', 'artifact_removed_interval_list_name': 'Julio20230811_.nwb_06_Seq2Session3_55_franklab_tetrode_hippocampus_ampl_1500_prop_075_1ms_artifact_removed_valid_times_track_time_only'}...\n"
     ]
    },
    {
     "data": {
      "application/vnd.jupyter.widget-view+json": {
       "model_id": "dc124bd9a18d4b818f0d8303f82247e8",
       "version_major": 2,
       "version_minor": 0
      },
      "text/plain": [
       "detect peaks using locally_exclusive:   0%|          | 0/998 [00:00<?, ?it/s]"
      ]
     },
     "metadata": {},
     "output_type": "display_data"
    },
    {
     "name": "stderr",
     "output_type": "stream",
     "text": [
      "[19:32:35][INFO] Spyglass: Saving sorting results...\n",
      "20-Apr-25 19:32:35 Saving sorting results...\n",
      "[19:32:45][INFO] Spyglass: Running spike sorting on {'nwb_file_name': 'Julio20230811_.nwb', 'sort_group_id': 56, 'sort_interval_name': '06_Seq2Session3', 'preproc_params_name': 'franklab_tetrode_hippocampus', 'team_name': 'SequenceTask', 'sorter': 'clusterless_thresholder', 'sorter_params_name': 'default', 'artifact_removed_interval_list_name': 'Julio20230811_.nwb_06_Seq2Session3_56_franklab_tetrode_hippocampus_ampl_1500_prop_075_1ms_artifact_removed_valid_times_track_time_only'}...\n",
      "20-Apr-25 19:32:45 Running spike sorting on {'nwb_file_name': 'Julio20230811_.nwb', 'sort_group_id': 56, 'sort_interval_name': '06_Seq2Session3', 'preproc_params_name': 'franklab_tetrode_hippocampus', 'team_name': 'SequenceTask', 'sorter': 'clusterless_thresholder', 'sorter_params_name': 'default', 'artifact_removed_interval_list_name': 'Julio20230811_.nwb_06_Seq2Session3_56_franklab_tetrode_hippocampus_ampl_1500_prop_075_1ms_artifact_removed_valid_times_track_time_only'}...\n"
     ]
    },
    {
     "data": {
      "application/vnd.jupyter.widget-view+json": {
       "model_id": "363b91e6541041559321d15eb0af8fc6",
       "version_major": 2,
       "version_minor": 0
      },
      "text/plain": [
       "detect peaks using locally_exclusive:   0%|          | 0/998 [00:00<?, ?it/s]"
      ]
     },
     "metadata": {},
     "output_type": "display_data"
    },
    {
     "name": "stderr",
     "output_type": "stream",
     "text": [
      "[19:34:06][INFO] Spyglass: Saving sorting results...\n",
      "20-Apr-25 19:34:06 Saving sorting results...\n",
      "[19:34:16][INFO] Spyglass: Running spike sorting on {'nwb_file_name': 'Julio20230811_.nwb', 'sort_group_id': 61, 'sort_interval_name': '06_Seq2Session3', 'preproc_params_name': 'franklab_tetrode_hippocampus', 'team_name': 'SequenceTask', 'sorter': 'clusterless_thresholder', 'sorter_params_name': 'default', 'artifact_removed_interval_list_name': 'Julio20230811_.nwb_06_Seq2Session3_61_franklab_tetrode_hippocampus_ampl_1500_prop_075_1ms_artifact_removed_valid_times_track_time_only'}...\n",
      "20-Apr-25 19:34:16 Running spike sorting on {'nwb_file_name': 'Julio20230811_.nwb', 'sort_group_id': 61, 'sort_interval_name': '06_Seq2Session3', 'preproc_params_name': 'franklab_tetrode_hippocampus', 'team_name': 'SequenceTask', 'sorter': 'clusterless_thresholder', 'sorter_params_name': 'default', 'artifact_removed_interval_list_name': 'Julio20230811_.nwb_06_Seq2Session3_61_franklab_tetrode_hippocampus_ampl_1500_prop_075_1ms_artifact_removed_valid_times_track_time_only'}...\n"
     ]
    },
    {
     "data": {
      "application/vnd.jupyter.widget-view+json": {
       "model_id": "c1c0684c2566491c8c5959a5b7ad61cc",
       "version_major": 2,
       "version_minor": 0
      },
      "text/plain": [
       "detect peaks using locally_exclusive:   0%|          | 0/998 [00:00<?, ?it/s]"
      ]
     },
     "metadata": {},
     "output_type": "display_data"
    },
    {
     "name": "stderr",
     "output_type": "stream",
     "text": [
      "[19:35:39][INFO] Spyglass: Saving sorting results...\n",
      "20-Apr-25 19:35:39 Saving sorting results...\n",
      "[19:35:49][INFO] Spyglass: Running spike sorting on {'nwb_file_name': 'Julio20230811_.nwb', 'sort_group_id': 6, 'sort_interval_name': '06_Seq2Session3', 'preproc_params_name': 'franklab_tetrode_hippocampus', 'team_name': 'SequenceTask', 'sorter': 'clusterless_thresholder', 'sorter_params_name': 'default', 'artifact_removed_interval_list_name': 'Julio20230811_.nwb_06_Seq2Session3_6_franklab_tetrode_hippocampus_ampl_1500_prop_075_1ms_artifact_removed_valid_times_track_time_only'}...\n",
      "20-Apr-25 19:35:49 Running spike sorting on {'nwb_file_name': 'Julio20230811_.nwb', 'sort_group_id': 6, 'sort_interval_name': '06_Seq2Session3', 'preproc_params_name': 'franklab_tetrode_hippocampus', 'team_name': 'SequenceTask', 'sorter': 'clusterless_thresholder', 'sorter_params_name': 'default', 'artifact_removed_interval_list_name': 'Julio20230811_.nwb_06_Seq2Session3_6_franklab_tetrode_hippocampus_ampl_1500_prop_075_1ms_artifact_removed_valid_times_track_time_only'}...\n"
     ]
    },
    {
     "data": {
      "application/vnd.jupyter.widget-view+json": {
       "model_id": "3de4f0a96a80495db564b38eb2928848",
       "version_major": 2,
       "version_minor": 0
      },
      "text/plain": [
       "detect peaks using locally_exclusive:   0%|          | 0/998 [00:00<?, ?it/s]"
      ]
     },
     "metadata": {},
     "output_type": "display_data"
    },
    {
     "name": "stderr",
     "output_type": "stream",
     "text": [
      "[19:37:10][INFO] Spyglass: Saving sorting results...\n",
      "20-Apr-25 19:37:10 Saving sorting results...\n",
      "[19:37:21][INFO] Spyglass: Running spike sorting on {'nwb_file_name': 'Julio20230811_.nwb', 'sort_group_id': 7, 'sort_interval_name': '06_Seq2Session3', 'preproc_params_name': 'franklab_tetrode_hippocampus', 'team_name': 'SequenceTask', 'sorter': 'clusterless_thresholder', 'sorter_params_name': 'default', 'artifact_removed_interval_list_name': 'Julio20230811_.nwb_06_Seq2Session3_7_franklab_tetrode_hippocampus_ampl_1500_prop_075_1ms_artifact_removed_valid_times_track_time_only'}...\n",
      "20-Apr-25 19:37:21 Running spike sorting on {'nwb_file_name': 'Julio20230811_.nwb', 'sort_group_id': 7, 'sort_interval_name': '06_Seq2Session3', 'preproc_params_name': 'franklab_tetrode_hippocampus', 'team_name': 'SequenceTask', 'sorter': 'clusterless_thresholder', 'sorter_params_name': 'default', 'artifact_removed_interval_list_name': 'Julio20230811_.nwb_06_Seq2Session3_7_franklab_tetrode_hippocampus_ampl_1500_prop_075_1ms_artifact_removed_valid_times_track_time_only'}...\n"
     ]
    },
    {
     "data": {
      "application/vnd.jupyter.widget-view+json": {
       "model_id": "c5fdfa17cb2c4dfab72e26f5a1de51a0",
       "version_major": 2,
       "version_minor": 0
      },
      "text/plain": [
       "detect peaks using locally_exclusive:   0%|          | 0/998 [00:00<?, ?it/s]"
      ]
     },
     "metadata": {},
     "output_type": "display_data"
    },
    {
     "name": "stderr",
     "output_type": "stream",
     "text": [
      "[19:38:43][INFO] Spyglass: Saving sorting results...\n",
      "20-Apr-25 19:38:43 Saving sorting results...\n",
      "[19:38:53][INFO] Spyglass: Running spike sorting on {'nwb_file_name': 'Julio20230811_.nwb', 'sort_group_id': 8, 'sort_interval_name': '06_Seq2Session3', 'preproc_params_name': 'franklab_tetrode_hippocampus', 'team_name': 'SequenceTask', 'sorter': 'clusterless_thresholder', 'sorter_params_name': 'default', 'artifact_removed_interval_list_name': 'Julio20230811_.nwb_06_Seq2Session3_8_franklab_tetrode_hippocampus_ampl_1500_prop_075_1ms_artifact_removed_valid_times_track_time_only'}...\n",
      "20-Apr-25 19:38:53 Running spike sorting on {'nwb_file_name': 'Julio20230811_.nwb', 'sort_group_id': 8, 'sort_interval_name': '06_Seq2Session3', 'preproc_params_name': 'franklab_tetrode_hippocampus', 'team_name': 'SequenceTask', 'sorter': 'clusterless_thresholder', 'sorter_params_name': 'default', 'artifact_removed_interval_list_name': 'Julio20230811_.nwb_06_Seq2Session3_8_franklab_tetrode_hippocampus_ampl_1500_prop_075_1ms_artifact_removed_valid_times_track_time_only'}...\n"
     ]
    },
    {
     "data": {
      "application/vnd.jupyter.widget-view+json": {
       "model_id": "e977135d14d74bf0a0ac017c155fe1f8",
       "version_major": 2,
       "version_minor": 0
      },
      "text/plain": [
       "detect peaks using locally_exclusive:   0%|          | 0/998 [00:00<?, ?it/s]"
      ]
     },
     "metadata": {},
     "output_type": "display_data"
    },
    {
     "name": "stderr",
     "output_type": "stream",
     "text": [
      "[19:40:15][INFO] Spyglass: Saving sorting results...\n",
      "20-Apr-25 19:40:15 Saving sorting results...\n"
     ]
    }
   ],
   "source": [
    "e = 2\n",
    "sorting_keys = thresholder_sort(nwb_copy_file_name,session_interval[e],True)"
   ]
  },
  {
   "cell_type": "code",
   "execution_count": null,
   "id": "909640d0-0cec-4e25-a03f-0c5207ba5a92",
   "metadata": {},
   "outputs": [],
   "source": []
  },
  {
   "cell_type": "code",
   "execution_count": 42,
   "id": "9328c235-0230-42d9-a226-c6fdcec60f2f",
   "metadata": {},
   "outputs": [],
   "source": [
    "#%debug"
   ]
  },
  {
   "cell_type": "code",
   "execution_count": 139,
   "id": "6d3a4a75-b130-4f2c-a5fe-90afd095c174",
   "metadata": {},
   "outputs": [
    {
     "data": {
      "text/plain": [
       "array([('julio20230811_.nwb', 100, '04_Seq2Session2', 'franklab_tetrode_hippocampus', 'SequenceTask', 'ampl_100_prop_05_2ms', 0),\n",
       "       ('julio20230811_.nwb', 101, '04_Seq2Session2', 'franklab_tetrode_hippocampus', 'SequenceTask', 'ampl_100_prop_05_2ms', 0)],\n",
       "      dtype=[('nwb_file_name', 'O'), ('sort_group_id', '<i8'), ('sort_interval_name', 'O'), ('preproc_params_name', 'O'), ('team_name', 'O'), ('artifact_params_name', 'O'), ('custom_artifact_detection', '<i8')])"
      ]
     },
     "execution_count": 139,
     "metadata": {},
     "output_type": "execute_result"
    }
   ],
   "source": [
    "(ArtifactDetectionSelection & {\"nwb_file_name\":nwb_copy_file_name,\n",
    "                              \"sort_interval_name\":\"04_Seq2Session2\"}).fetch()"
   ]
  },
  {
   "cell_type": "code",
   "execution_count": 17,
   "id": "fd90fc15-f53a-4e03-8754-83a32fd655bb",
   "metadata": {
    "scrolled": true
   },
   "outputs": [
    {
     "name": "stderr",
     "output_type": "stream",
     "text": [
      "[19:43:37][INFO] Spyglass: Found 1 accepted units\n",
      "20-Apr-25 19:43:37 Found 1 accepted units\n",
      "[19:43:40][INFO] Spyglass: Writing new NWB file Julio20230811_JGOX33B0QD.nwb\n",
      "20-Apr-25 19:43:40 Writing new NWB file Julio20230811_JGOX33B0QD.nwb\n",
      "[19:43:42][INFO] Spyglass: Found 1 accepted units\n",
      "20-Apr-25 19:43:42 Found 1 accepted units\n",
      "[19:43:43][INFO] Spyglass: Writing new NWB file Julio20230811_KNJ3K0S4OZ.nwb\n",
      "20-Apr-25 19:43:43 Writing new NWB file Julio20230811_KNJ3K0S4OZ.nwb\n",
      "[19:43:44][INFO] Spyglass: Found 1 accepted units\n",
      "20-Apr-25 19:43:44 Found 1 accepted units\n",
      "[19:43:45][INFO] Spyglass: Writing new NWB file Julio20230811_K0EQEE75MM.nwb\n",
      "20-Apr-25 19:43:45 Writing new NWB file Julio20230811_K0EQEE75MM.nwb\n",
      "[19:43:47][INFO] Spyglass: Found 1 accepted units\n",
      "20-Apr-25 19:43:47 Found 1 accepted units\n",
      "[19:43:48][INFO] Spyglass: Writing new NWB file Julio20230811_2RWH63BQCZ.nwb\n",
      "20-Apr-25 19:43:48 Writing new NWB file Julio20230811_2RWH63BQCZ.nwb\n",
      "[19:43:49][INFO] Spyglass: Found 1 accepted units\n",
      "20-Apr-25 19:43:49 Found 1 accepted units\n",
      "[19:43:50][INFO] Spyglass: Writing new NWB file Julio20230811_L9JSCOACTD.nwb\n",
      "20-Apr-25 19:43:50 Writing new NWB file Julio20230811_L9JSCOACTD.nwb\n",
      "[19:43:52][INFO] Spyglass: Found 1 accepted units\n",
      "20-Apr-25 19:43:52 Found 1 accepted units\n",
      "[19:43:53][INFO] Spyglass: Writing new NWB file Julio20230811_W4UEJPVV1G.nwb\n",
      "20-Apr-25 19:43:53 Writing new NWB file Julio20230811_W4UEJPVV1G.nwb\n",
      "[19:43:54][INFO] Spyglass: Found 1 accepted units\n",
      "20-Apr-25 19:43:54 Found 1 accepted units\n",
      "[19:43:55][INFO] Spyglass: Writing new NWB file Julio20230811_6C3588M0ZT.nwb\n",
      "20-Apr-25 19:43:55 Writing new NWB file Julio20230811_6C3588M0ZT.nwb\n",
      "[19:43:57][INFO] Spyglass: Found 1 accepted units\n",
      "20-Apr-25 19:43:57 Found 1 accepted units\n",
      "[19:43:58][INFO] Spyglass: Writing new NWB file Julio20230811_14K2G8R08E.nwb\n",
      "20-Apr-25 19:43:58 Writing new NWB file Julio20230811_14K2G8R08E.nwb\n",
      "[19:43:59][INFO] Spyglass: Found 1 accepted units\n",
      "20-Apr-25 19:43:59 Found 1 accepted units\n",
      "[19:44:00][INFO] Spyglass: Writing new NWB file Julio20230811_LKJVK8U8F8.nwb\n",
      "20-Apr-25 19:44:00 Writing new NWB file Julio20230811_LKJVK8U8F8.nwb\n",
      "[19:44:02][INFO] Spyglass: Found 1 accepted units\n",
      "20-Apr-25 19:44:02 Found 1 accepted units\n",
      "[19:44:02][INFO] Spyglass: Writing new NWB file Julio20230811_A06P3WW5VQ.nwb\n",
      "20-Apr-25 19:44:02 Writing new NWB file Julio20230811_A06P3WW5VQ.nwb\n",
      "[19:44:04][INFO] Spyglass: Found 1 accepted units\n",
      "20-Apr-25 19:44:04 Found 1 accepted units\n",
      "[19:44:05][INFO] Spyglass: Writing new NWB file Julio20230811_RG13Z5R641.nwb\n",
      "20-Apr-25 19:44:05 Writing new NWB file Julio20230811_RG13Z5R641.nwb\n",
      "[19:44:07][INFO] Spyglass: Found 1 accepted units\n",
      "20-Apr-25 19:44:07 Found 1 accepted units\n",
      "[19:44:08][INFO] Spyglass: Writing new NWB file Julio20230811_33Y9PV72YI.nwb\n",
      "20-Apr-25 19:44:08 Writing new NWB file Julio20230811_33Y9PV72YI.nwb\n",
      "[19:44:09][INFO] Spyglass: Found 1 accepted units\n",
      "20-Apr-25 19:44:09 Found 1 accepted units\n",
      "[19:44:10][INFO] Spyglass: Writing new NWB file Julio20230811_ER3ZT7T7NL.nwb\n",
      "20-Apr-25 19:44:10 Writing new NWB file Julio20230811_ER3ZT7T7NL.nwb\n",
      "[19:44:12][INFO] Spyglass: Found 1 accepted units\n",
      "20-Apr-25 19:44:12 Found 1 accepted units\n",
      "[19:44:13][INFO] Spyglass: Writing new NWB file Julio20230811_564BJK8FLB.nwb\n",
      "20-Apr-25 19:44:13 Writing new NWB file Julio20230811_564BJK8FLB.nwb\n",
      "[19:44:14][INFO] Spyglass: Found 1 accepted units\n",
      "20-Apr-25 19:44:14 Found 1 accepted units\n",
      "[19:44:15][INFO] Spyglass: Writing new NWB file Julio20230811_931S1ZL301.nwb\n",
      "20-Apr-25 19:44:15 Writing new NWB file Julio20230811_931S1ZL301.nwb\n",
      "[19:44:17][INFO] Spyglass: Found 1 accepted units\n",
      "20-Apr-25 19:44:17 Found 1 accepted units\n",
      "[19:44:18][INFO] Spyglass: Writing new NWB file Julio20230811_5QINUFMKKD.nwb\n",
      "20-Apr-25 19:44:18 Writing new NWB file Julio20230811_5QINUFMKKD.nwb\n",
      "[19:44:19][INFO] Spyglass: Found 1 accepted units\n",
      "20-Apr-25 19:44:19 Found 1 accepted units\n",
      "[19:44:20][INFO] Spyglass: Writing new NWB file Julio20230811_DXTJVWGD1T.nwb\n",
      "20-Apr-25 19:44:20 Writing new NWB file Julio20230811_DXTJVWGD1T.nwb\n",
      "[19:44:22][INFO] Spyglass: Found 1 accepted units\n",
      "20-Apr-25 19:44:22 Found 1 accepted units\n",
      "[19:44:23][INFO] Spyglass: Writing new NWB file Julio20230811_PR72HBB9AB.nwb\n",
      "20-Apr-25 19:44:23 Writing new NWB file Julio20230811_PR72HBB9AB.nwb\n",
      "[19:44:25][INFO] Spyglass: Found 1 accepted units\n",
      "20-Apr-25 19:44:25 Found 1 accepted units\n",
      "[19:44:25][INFO] Spyglass: Writing new NWB file Julio20230811_SFRCKRT8WC.nwb\n",
      "20-Apr-25 19:44:25 Writing new NWB file Julio20230811_SFRCKRT8WC.nwb\n",
      "[19:44:27][INFO] Spyglass: Found 1 accepted units\n",
      "20-Apr-25 19:44:27 Found 1 accepted units\n",
      "[19:44:28][INFO] Spyglass: Writing new NWB file Julio20230811_AA7ONJJ781.nwb\n",
      "20-Apr-25 19:44:28 Writing new NWB file Julio20230811_AA7ONJJ781.nwb\n",
      "[19:44:30][INFO] Spyglass: Found 1 accepted units\n",
      "20-Apr-25 19:44:30 Found 1 accepted units\n",
      "[19:44:31][INFO] Spyglass: Writing new NWB file Julio20230811_ITLGCOBA2D.nwb\n",
      "20-Apr-25 19:44:31 Writing new NWB file Julio20230811_ITLGCOBA2D.nwb\n",
      "[19:44:32][INFO] Spyglass: Found 1 accepted units\n",
      "20-Apr-25 19:44:32 Found 1 accepted units\n",
      "[19:44:33][INFO] Spyglass: Writing new NWB file Julio20230811_IR3VERTPD6.nwb\n",
      "20-Apr-25 19:44:33 Writing new NWB file Julio20230811_IR3VERTPD6.nwb\n",
      "[19:44:35][INFO] Spyglass: Found 1 accepted units\n",
      "20-Apr-25 19:44:35 Found 1 accepted units\n",
      "[19:44:36][INFO] Spyglass: Writing new NWB file Julio20230811_7EO3QVWC5V.nwb\n",
      "20-Apr-25 19:44:36 Writing new NWB file Julio20230811_7EO3QVWC5V.nwb\n",
      "[19:44:37][INFO] Spyglass: Found 1 accepted units\n",
      "20-Apr-25 19:44:37 Found 1 accepted units\n",
      "[19:44:38][INFO] Spyglass: Writing new NWB file Julio20230811_O6LOH27GX4.nwb\n",
      "20-Apr-25 19:44:38 Writing new NWB file Julio20230811_O6LOH27GX4.nwb\n",
      "[19:44:40][INFO] Spyglass: Found 1 accepted units\n",
      "20-Apr-25 19:44:40 Found 1 accepted units\n",
      "[19:44:41][INFO] Spyglass: Writing new NWB file Julio20230811_K6H1SQFMGM.nwb\n",
      "20-Apr-25 19:44:41 Writing new NWB file Julio20230811_K6H1SQFMGM.nwb\n"
     ]
    },
    {
     "data": {
      "application/vnd.jupyter.widget-view+json": {
       "model_id": "6d3c0a41463149a8a4a8639cd2377a0c",
       "version_major": 2,
       "version_minor": 0
      },
      "text/plain": [
       "extract waveforms memmap:   0%|          | 0/1 [00:00<?, ?it/s]"
      ]
     },
     "metadata": {},
     "output_type": "display_data"
    },
    {
     "name": "stderr",
     "output_type": "stream",
     "text": [
      "[19:44:44][INFO] Spyglass: Writing new NWB file Julio20230811_NAXP791IN4.nwb\n",
      "20-Apr-25 19:44:44 Writing new NWB file Julio20230811_NAXP791IN4.nwb\n"
     ]
    },
    {
     "data": {
      "application/vnd.jupyter.widget-view+json": {
       "model_id": "f5ac73dc4ce9452ca05a7a6a857461f8",
       "version_major": 2,
       "version_minor": 0
      },
      "text/plain": [
       "extract waveforms memmap:   0%|          | 0/1 [00:00<?, ?it/s]"
      ]
     },
     "metadata": {},
     "output_type": "display_data"
    },
    {
     "name": "stderr",
     "output_type": "stream",
     "text": [
      "[19:44:47][INFO] Spyglass: Writing new NWB file Julio20230811_2RPYIZQFIH.nwb\n",
      "20-Apr-25 19:44:47 Writing new NWB file Julio20230811_2RPYIZQFIH.nwb\n"
     ]
    },
    {
     "data": {
      "application/vnd.jupyter.widget-view+json": {
       "model_id": "e613c61b467c496187e10be0ca20a413",
       "version_major": 2,
       "version_minor": 0
      },
      "text/plain": [
       "extract waveforms memmap:   0%|          | 0/1 [00:00<?, ?it/s]"
      ]
     },
     "metadata": {},
     "output_type": "display_data"
    },
    {
     "name": "stderr",
     "output_type": "stream",
     "text": [
      "[19:44:49][INFO] Spyglass: Writing new NWB file Julio20230811_HLL1PQII0A.nwb\n",
      "20-Apr-25 19:44:49 Writing new NWB file Julio20230811_HLL1PQII0A.nwb\n"
     ]
    },
    {
     "data": {
      "application/vnd.jupyter.widget-view+json": {
       "model_id": "1b986c1671624b9baa8ec09d1c542923",
       "version_major": 2,
       "version_minor": 0
      },
      "text/plain": [
       "extract waveforms memmap:   0%|          | 0/1 [00:00<?, ?it/s]"
      ]
     },
     "metadata": {},
     "output_type": "display_data"
    },
    {
     "name": "stderr",
     "output_type": "stream",
     "text": [
      "[19:44:52][INFO] Spyglass: Writing new NWB file Julio20230811_ROD0TU372R.nwb\n",
      "20-Apr-25 19:44:52 Writing new NWB file Julio20230811_ROD0TU372R.nwb\n"
     ]
    },
    {
     "data": {
      "application/vnd.jupyter.widget-view+json": {
       "model_id": "c26c3de8650a460d9f4023d95b3b9a26",
       "version_major": 2,
       "version_minor": 0
      },
      "text/plain": [
       "extract waveforms memmap:   0%|          | 0/1 [00:00<?, ?it/s]"
      ]
     },
     "metadata": {},
     "output_type": "display_data"
    },
    {
     "name": "stderr",
     "output_type": "stream",
     "text": [
      "[19:44:54][INFO] Spyglass: Writing new NWB file Julio20230811_YWOBB3H9H8.nwb\n",
      "20-Apr-25 19:44:54 Writing new NWB file Julio20230811_YWOBB3H9H8.nwb\n"
     ]
    },
    {
     "data": {
      "application/vnd.jupyter.widget-view+json": {
       "model_id": "cbe277bc26864f1e9c2a6aa24545d78d",
       "version_major": 2,
       "version_minor": 0
      },
      "text/plain": [
       "extract waveforms memmap:   0%|          | 0/1 [00:00<?, ?it/s]"
      ]
     },
     "metadata": {},
     "output_type": "display_data"
    },
    {
     "name": "stderr",
     "output_type": "stream",
     "text": [
      "[19:44:57][INFO] Spyglass: Writing new NWB file Julio20230811_W83ZMOSG4T.nwb\n",
      "20-Apr-25 19:44:57 Writing new NWB file Julio20230811_W83ZMOSG4T.nwb\n"
     ]
    },
    {
     "data": {
      "application/vnd.jupyter.widget-view+json": {
       "model_id": "401586acb4a74d7d9c063e6adb9028fd",
       "version_major": 2,
       "version_minor": 0
      },
      "text/plain": [
       "extract waveforms memmap:   0%|          | 0/1 [00:00<?, ?it/s]"
      ]
     },
     "metadata": {},
     "output_type": "display_data"
    },
    {
     "name": "stderr",
     "output_type": "stream",
     "text": [
      "[19:45:00][INFO] Spyglass: Writing new NWB file Julio20230811_UMUM237U7U.nwb\n",
      "20-Apr-25 19:45:00 Writing new NWB file Julio20230811_UMUM237U7U.nwb\n"
     ]
    },
    {
     "data": {
      "application/vnd.jupyter.widget-view+json": {
       "model_id": "77c95a046e0b4fb4b6d35107a9d43fc7",
       "version_major": 2,
       "version_minor": 0
      },
      "text/plain": [
       "extract waveforms memmap:   0%|          | 0/1 [00:00<?, ?it/s]"
      ]
     },
     "metadata": {},
     "output_type": "display_data"
    },
    {
     "name": "stderr",
     "output_type": "stream",
     "text": [
      "[19:45:03][INFO] Spyglass: Writing new NWB file Julio20230811_5APZP0XA8X.nwb\n",
      "20-Apr-25 19:45:03 Writing new NWB file Julio20230811_5APZP0XA8X.nwb\n"
     ]
    },
    {
     "data": {
      "application/vnd.jupyter.widget-view+json": {
       "model_id": "bedf34db17bd466685232f7a72ae439e",
       "version_major": 2,
       "version_minor": 0
      },
      "text/plain": [
       "extract waveforms memmap:   0%|          | 0/1 [00:00<?, ?it/s]"
      ]
     },
     "metadata": {},
     "output_type": "display_data"
    },
    {
     "name": "stderr",
     "output_type": "stream",
     "text": [
      "[19:45:06][INFO] Spyglass: Writing new NWB file Julio20230811_6RNA99MWGE.nwb\n",
      "20-Apr-25 19:45:06 Writing new NWB file Julio20230811_6RNA99MWGE.nwb\n"
     ]
    },
    {
     "data": {
      "application/vnd.jupyter.widget-view+json": {
       "model_id": "e0b7d7bf18be4f51a89e1395c7823333",
       "version_major": 2,
       "version_minor": 0
      },
      "text/plain": [
       "extract waveforms memmap:   0%|          | 0/1 [00:00<?, ?it/s]"
      ]
     },
     "metadata": {},
     "output_type": "display_data"
    },
    {
     "name": "stderr",
     "output_type": "stream",
     "text": [
      "[19:45:09][INFO] Spyglass: Writing new NWB file Julio20230811_B6MWR2ZFH0.nwb\n",
      "20-Apr-25 19:45:09 Writing new NWB file Julio20230811_B6MWR2ZFH0.nwb\n"
     ]
    },
    {
     "data": {
      "application/vnd.jupyter.widget-view+json": {
       "model_id": "059859b4354c4571869096bfb718e42b",
       "version_major": 2,
       "version_minor": 0
      },
      "text/plain": [
       "extract waveforms memmap:   0%|          | 0/1 [00:00<?, ?it/s]"
      ]
     },
     "metadata": {},
     "output_type": "display_data"
    },
    {
     "name": "stderr",
     "output_type": "stream",
     "text": [
      "[19:45:11][INFO] Spyglass: Writing new NWB file Julio20230811_HX754JEFN8.nwb\n",
      "20-Apr-25 19:45:11 Writing new NWB file Julio20230811_HX754JEFN8.nwb\n"
     ]
    },
    {
     "data": {
      "application/vnd.jupyter.widget-view+json": {
       "model_id": "5b643438f8ca4291ae47ecfae33c2139",
       "version_major": 2,
       "version_minor": 0
      },
      "text/plain": [
       "extract waveforms memmap:   0%|          | 0/1 [00:00<?, ?it/s]"
      ]
     },
     "metadata": {},
     "output_type": "display_data"
    },
    {
     "name": "stderr",
     "output_type": "stream",
     "text": [
      "[19:45:14][INFO] Spyglass: Writing new NWB file Julio20230811_5BMC8QXW42.nwb\n",
      "20-Apr-25 19:45:14 Writing new NWB file Julio20230811_5BMC8QXW42.nwb\n"
     ]
    },
    {
     "data": {
      "application/vnd.jupyter.widget-view+json": {
       "model_id": "2053dece91e4490d8434b5e8156cfa05",
       "version_major": 2,
       "version_minor": 0
      },
      "text/plain": [
       "extract waveforms memmap:   0%|          | 0/1 [00:00<?, ?it/s]"
      ]
     },
     "metadata": {},
     "output_type": "display_data"
    },
    {
     "name": "stderr",
     "output_type": "stream",
     "text": [
      "[19:45:17][INFO] Spyglass: Writing new NWB file Julio20230811_ED2QB08M2S.nwb\n",
      "20-Apr-25 19:45:17 Writing new NWB file Julio20230811_ED2QB08M2S.nwb\n"
     ]
    },
    {
     "data": {
      "application/vnd.jupyter.widget-view+json": {
       "model_id": "772af7ed51bf469e989337f0632d05b6",
       "version_major": 2,
       "version_minor": 0
      },
      "text/plain": [
       "extract waveforms memmap:   0%|          | 0/1 [00:00<?, ?it/s]"
      ]
     },
     "metadata": {},
     "output_type": "display_data"
    },
    {
     "name": "stderr",
     "output_type": "stream",
     "text": [
      "[19:45:20][INFO] Spyglass: Writing new NWB file Julio20230811_M5XRJ4VTG3.nwb\n",
      "20-Apr-25 19:45:20 Writing new NWB file Julio20230811_M5XRJ4VTG3.nwb\n"
     ]
    },
    {
     "data": {
      "application/vnd.jupyter.widget-view+json": {
       "model_id": "cf50b3d095454af2befbe67f2971e15f",
       "version_major": 2,
       "version_minor": 0
      },
      "text/plain": [
       "extract waveforms memmap:   0%|          | 0/1 [00:00<?, ?it/s]"
      ]
     },
     "metadata": {},
     "output_type": "display_data"
    },
    {
     "name": "stderr",
     "output_type": "stream",
     "text": [
      "[19:45:22][INFO] Spyglass: Writing new NWB file Julio20230811_RM30MLTS30.nwb\n",
      "20-Apr-25 19:45:22 Writing new NWB file Julio20230811_RM30MLTS30.nwb\n"
     ]
    },
    {
     "data": {
      "application/vnd.jupyter.widget-view+json": {
       "model_id": "2bdcd5d793474e71aa9cc7024d37407c",
       "version_major": 2,
       "version_minor": 0
      },
      "text/plain": [
       "extract waveforms memmap:   0%|          | 0/1 [00:00<?, ?it/s]"
      ]
     },
     "metadata": {},
     "output_type": "display_data"
    },
    {
     "name": "stderr",
     "output_type": "stream",
     "text": [
      "[19:45:26][INFO] Spyglass: Writing new NWB file Julio20230811_XN20B0G86F.nwb\n",
      "20-Apr-25 19:45:26 Writing new NWB file Julio20230811_XN20B0G86F.nwb\n"
     ]
    },
    {
     "data": {
      "application/vnd.jupyter.widget-view+json": {
       "model_id": "6d7ae89ff25b40719a5284e5905367b2",
       "version_major": 2,
       "version_minor": 0
      },
      "text/plain": [
       "extract waveforms memmap:   0%|          | 0/1 [00:00<?, ?it/s]"
      ]
     },
     "metadata": {},
     "output_type": "display_data"
    },
    {
     "name": "stderr",
     "output_type": "stream",
     "text": [
      "[19:45:28][INFO] Spyglass: Writing new NWB file Julio20230811_2BVU7NBJC4.nwb\n",
      "20-Apr-25 19:45:28 Writing new NWB file Julio20230811_2BVU7NBJC4.nwb\n"
     ]
    },
    {
     "data": {
      "application/vnd.jupyter.widget-view+json": {
       "model_id": "83a8ba6a91614cf2b4e511c303c54d6d",
       "version_major": 2,
       "version_minor": 0
      },
      "text/plain": [
       "extract waveforms memmap:   0%|          | 0/1 [00:00<?, ?it/s]"
      ]
     },
     "metadata": {},
     "output_type": "display_data"
    },
    {
     "name": "stderr",
     "output_type": "stream",
     "text": [
      "[19:45:31][INFO] Spyglass: Writing new NWB file Julio20230811_M4JE3LQF6P.nwb\n",
      "20-Apr-25 19:45:31 Writing new NWB file Julio20230811_M4JE3LQF6P.nwb\n"
     ]
    },
    {
     "data": {
      "application/vnd.jupyter.widget-view+json": {
       "model_id": "da4cdf32fc904f649a8bcd7484824ef2",
       "version_major": 2,
       "version_minor": 0
      },
      "text/plain": [
       "extract waveforms memmap:   0%|          | 0/1 [00:00<?, ?it/s]"
      ]
     },
     "metadata": {},
     "output_type": "display_data"
    },
    {
     "name": "stderr",
     "output_type": "stream",
     "text": [
      "[19:45:34][INFO] Spyglass: Writing new NWB file Julio20230811_FTIGK58148.nwb\n",
      "20-Apr-25 19:45:34 Writing new NWB file Julio20230811_FTIGK58148.nwb\n"
     ]
    },
    {
     "data": {
      "application/vnd.jupyter.widget-view+json": {
       "model_id": "b557efeeed374ae78185244ba35b2e8d",
       "version_major": 2,
       "version_minor": 0
      },
      "text/plain": [
       "extract waveforms memmap:   0%|          | 0/1 [00:00<?, ?it/s]"
      ]
     },
     "metadata": {},
     "output_type": "display_data"
    },
    {
     "name": "stderr",
     "output_type": "stream",
     "text": [
      "[19:45:37][INFO] Spyglass: Writing new NWB file Julio20230811_U4HCQJS8BQ.nwb\n",
      "20-Apr-25 19:45:37 Writing new NWB file Julio20230811_U4HCQJS8BQ.nwb\n"
     ]
    },
    {
     "data": {
      "application/vnd.jupyter.widget-view+json": {
       "model_id": "0b62ffe290bb4c4d856ad2932324eadf",
       "version_major": 2,
       "version_minor": 0
      },
      "text/plain": [
       "extract waveforms memmap:   0%|          | 0/1 [00:00<?, ?it/s]"
      ]
     },
     "metadata": {},
     "output_type": "display_data"
    },
    {
     "name": "stderr",
     "output_type": "stream",
     "text": [
      "[19:45:40][INFO] Spyglass: Writing new NWB file Julio20230811_8KH9A3Z6N7.nwb\n",
      "20-Apr-25 19:45:40 Writing new NWB file Julio20230811_8KH9A3Z6N7.nwb\n"
     ]
    },
    {
     "data": {
      "application/vnd.jupyter.widget-view+json": {
       "model_id": "ab1879cb2fd5433da7415fb7d4ce3f98",
       "version_major": 2,
       "version_minor": 0
      },
      "text/plain": [
       "extract waveforms memmap:   0%|          | 0/1 [00:00<?, ?it/s]"
      ]
     },
     "metadata": {},
     "output_type": "display_data"
    },
    {
     "name": "stderr",
     "output_type": "stream",
     "text": [
      "[19:45:42][INFO] Spyglass: Writing new NWB file Julio20230811_XNNX1Z266N.nwb\n",
      "20-Apr-25 19:45:42 Writing new NWB file Julio20230811_XNNX1Z266N.nwb\n"
     ]
    },
    {
     "data": {
      "application/vnd.jupyter.widget-view+json": {
       "model_id": "1a8bd0fef43a4a97b5af8f9e65bf0f3f",
       "version_major": 2,
       "version_minor": 0
      },
      "text/plain": [
       "extract waveforms memmap:   0%|          | 0/1 [00:00<?, ?it/s]"
      ]
     },
     "metadata": {},
     "output_type": "display_data"
    },
    {
     "name": "stderr",
     "output_type": "stream",
     "text": [
      "[19:45:45][INFO] Spyglass: Writing new NWB file Julio20230811_30EKCH88IC.nwb\n",
      "20-Apr-25 19:45:45 Writing new NWB file Julio20230811_30EKCH88IC.nwb\n"
     ]
    },
    {
     "data": {
      "application/vnd.jupyter.widget-view+json": {
       "model_id": "7192e6bb328c4893afc1c7f019a612e6",
       "version_major": 2,
       "version_minor": 0
      },
      "text/plain": [
       "extract waveforms memmap:   0%|          | 0/1 [00:00<?, ?it/s]"
      ]
     },
     "metadata": {},
     "output_type": "display_data"
    },
    {
     "name": "stderr",
     "output_type": "stream",
     "text": [
      "[19:45:48][INFO] Spyglass: Writing new NWB file Julio20230811_7UZRASL88A.nwb\n",
      "20-Apr-25 19:45:48 Writing new NWB file Julio20230811_7UZRASL88A.nwb\n"
     ]
    },
    {
     "data": {
      "application/vnd.jupyter.widget-view+json": {
       "model_id": "5502f333374145c08b73265a1d25bf7c",
       "version_major": 2,
       "version_minor": 0
      },
      "text/plain": [
       "extract waveforms memmap:   0%|          | 0/1 [00:00<?, ?it/s]"
      ]
     },
     "metadata": {},
     "output_type": "display_data"
    },
    {
     "name": "stderr",
     "output_type": "stream",
     "text": [
      "[19:45:51][INFO] Spyglass: Writing new NWB file Julio20230811_PCUCZEL3YT.nwb\n",
      "20-Apr-25 19:45:51 Writing new NWB file Julio20230811_PCUCZEL3YT.nwb\n"
     ]
    }
   ],
   "source": [
    "mark_parameters_keys = populateUnitMarks(sorting_keys)"
   ]
  },
  {
   "cell_type": "code",
   "execution_count": 18,
   "id": "0ef0c68c-b472-47fa-8ff2-ac82bec78489",
   "metadata": {},
   "outputs": [
    {
     "data": {
      "text/html": [
       "\n",
       "    \n",
       "    <style type=\"text/css\">\n",
       "        .Table{\n",
       "            border-collapse:collapse;\n",
       "        }\n",
       "        .Table th{\n",
       "            background: #A0A0A0; color: #ffffff; padding:4px; border:#f0e0e0 1px solid;\n",
       "            font-weight: normal; font-family: monospace; font-size: 100%;\n",
       "        }\n",
       "        .Table td{\n",
       "            padding:4px; border:#f0e0e0 1px solid; font-size:100%;\n",
       "        }\n",
       "        .Table tr:nth-child(odd){\n",
       "            background: #ffffff;\n",
       "            color: #000000;\n",
       "        }\n",
       "        .Table tr:nth-child(even){\n",
       "            background: #f3f1ff;\n",
       "            color: #000000;\n",
       "        }\n",
       "        /* Tooltip container */\n",
       "        .djtooltip {\n",
       "        }\n",
       "        /* Tooltip text */\n",
       "        .djtooltip .djtooltiptext {\n",
       "            visibility: hidden;\n",
       "            width: 120px;\n",
       "            background-color: black;\n",
       "            color: #fff;\n",
       "            text-align: center;\n",
       "            padding: 5px 0;\n",
       "            border-radius: 6px;\n",
       "            /* Position the tooltip text - see examples below! */\n",
       "            position: absolute;\n",
       "            z-index: 1;\n",
       "        }\n",
       "        #primary {\n",
       "            font-weight: bold;\n",
       "            color: black;\n",
       "        }\n",
       "        #nonprimary {\n",
       "            font-weight: normal;\n",
       "            color: white;\n",
       "        }\n",
       "\n",
       "        /* Show the tooltip text when you mouse over the tooltip container */\n",
       "        .djtooltip:hover .djtooltiptext {\n",
       "            visibility: visible;\n",
       "        }\n",
       "    </style>\n",
       "    \n",
       "    <b></b>\n",
       "        <div style=\"max-height:1000px;max-width:1500px;overflow:auto;\">\n",
       "        <table border=\"1\" class=\"Table\">\n",
       "            <thead> <tr style=\"text-align: right;\"> <th> <div class=\"djtooltip\">\n",
       "                            <p id=\"primary\">nwb_file_name</p>\n",
       "                            <span class=\"djtooltiptext\">name of the NWB file</span>\n",
       "                        </div></th><th><div class=\"djtooltip\">\n",
       "                            <p id=\"primary\">sort_group_id</p>\n",
       "                            <span class=\"djtooltiptext\">identifier for a group of electrodes</span>\n",
       "                        </div></th><th><div class=\"djtooltip\">\n",
       "                            <p id=\"primary\">sort_interval_name</p>\n",
       "                            <span class=\"djtooltiptext\">name for this interval</span>\n",
       "                        </div></th><th><div class=\"djtooltip\">\n",
       "                            <p id=\"primary\">preproc_params_name</p>\n",
       "                            <span class=\"djtooltiptext\"></span>\n",
       "                        </div></th><th><div class=\"djtooltip\">\n",
       "                            <p id=\"primary\">team_name</p>\n",
       "                            <span class=\"djtooltiptext\"></span>\n",
       "                        </div></th><th><div class=\"djtooltip\">\n",
       "                            <p id=\"primary\">sorter</p>\n",
       "                            <span class=\"djtooltiptext\"></span>\n",
       "                        </div></th><th><div class=\"djtooltip\">\n",
       "                            <p id=\"primary\">sorter_params_name</p>\n",
       "                            <span class=\"djtooltiptext\"></span>\n",
       "                        </div></th><th><div class=\"djtooltip\">\n",
       "                            <p id=\"primary\">artifact_removed_interval_list_name</p>\n",
       "                            <span class=\"djtooltiptext\"></span>\n",
       "                        </div></th><th><div class=\"djtooltip\">\n",
       "                            <p id=\"nonprimary\">sorting_path</p>\n",
       "                            <span class=\"djtooltiptext\"></span>\n",
       "                        </div></th><th><div class=\"djtooltip\">\n",
       "                            <p id=\"nonprimary\">time_of_sort</p>\n",
       "                            <span class=\"djtooltiptext\">in Unix time, to the nearest second</span>\n",
       "                        </div> </th> </tr> </thead>\n",
       "            <tbody> <tr> <td>Julio20230811_.nwb</td>\n",
       "<td>2</td>\n",
       "<td>06_Seq2Session3</td>\n",
       "<td>franklab_tetrode_hippocampus</td>\n",
       "<td>SequenceTask</td>\n",
       "<td>clusterless_thresholder</td>\n",
       "<td>default</td>\n",
       "<td>Julio20230811_.nwb_06_Seq2Session3_2_franklab_tetrode_hippocampus_ampl_1500_prop_075_1ms_artifact_removed_valid_times_track_time_only</td>\n",
       "<td>/stelmo/nwb/sorting/Julio20230811_.nwb_06_Seq2Session3_2_franklab_tetrode_hippocampus_ae361963_spikesorting</td>\n",
       "<td>1745201740</td></tr><tr><td>Julio20230811_.nwb</td>\n",
       "<td>3</td>\n",
       "<td>06_Seq2Session3</td>\n",
       "<td>franklab_tetrode_hippocampus</td>\n",
       "<td>SequenceTask</td>\n",
       "<td>clusterless_thresholder</td>\n",
       "<td>default</td>\n",
       "<td>Julio20230811_.nwb_06_Seq2Session3_3_franklab_tetrode_hippocampus_ampl_1500_prop_075_1ms_artifact_removed_valid_times_track_time_only</td>\n",
       "<td>/stelmo/nwb/sorting/Julio20230811_.nwb_06_Seq2Session3_3_franklab_tetrode_hippocampus_926fd943_spikesorting</td>\n",
       "<td>1745202110</td></tr><tr><td>Julio20230811_.nwb</td>\n",
       "<td>6</td>\n",
       "<td>06_Seq2Session3</td>\n",
       "<td>franklab_tetrode_hippocampus</td>\n",
       "<td>SequenceTask</td>\n",
       "<td>clusterless_thresholder</td>\n",
       "<td>default</td>\n",
       "<td>Julio20230811_.nwb_06_Seq2Session3_6_franklab_tetrode_hippocampus_ampl_1500_prop_075_1ms_artifact_removed_valid_times_track_time_only</td>\n",
       "<td>/stelmo/nwb/sorting/Julio20230811_.nwb_06_Seq2Session3_6_franklab_tetrode_hippocampus_0af1a93e_spikesorting</td>\n",
       "<td>1745203030</td></tr><tr><td>Julio20230811_.nwb</td>\n",
       "<td>7</td>\n",
       "<td>06_Seq2Session3</td>\n",
       "<td>franklab_tetrode_hippocampus</td>\n",
       "<td>SequenceTask</td>\n",
       "<td>clusterless_thresholder</td>\n",
       "<td>default</td>\n",
       "<td>Julio20230811_.nwb_06_Seq2Session3_7_franklab_tetrode_hippocampus_ampl_1500_prop_075_1ms_artifact_removed_valid_times_track_time_only</td>\n",
       "<td>/stelmo/nwb/sorting/Julio20230811_.nwb_06_Seq2Session3_7_franklab_tetrode_hippocampus_5d2faf7a_spikesorting</td>\n",
       "<td>1745203123</td></tr><tr><td>Julio20230811_.nwb</td>\n",
       "<td>8</td>\n",
       "<td>06_Seq2Session3</td>\n",
       "<td>franklab_tetrode_hippocampus</td>\n",
       "<td>SequenceTask</td>\n",
       "<td>clusterless_thresholder</td>\n",
       "<td>default</td>\n",
       "<td>Julio20230811_.nwb_06_Seq2Session3_8_franklab_tetrode_hippocampus_ampl_1500_prop_075_1ms_artifact_removed_valid_times_track_time_only</td>\n",
       "<td>/stelmo/nwb/sorting/Julio20230811_.nwb_06_Seq2Session3_8_franklab_tetrode_hippocampus_38599db0_spikesorting</td>\n",
       "<td>1745203215</td></tr><tr><td>Julio20230811_.nwb</td>\n",
       "<td>11</td>\n",
       "<td>06_Seq2Session3</td>\n",
       "<td>franklab_tetrode_hippocampus</td>\n",
       "<td>SequenceTask</td>\n",
       "<td>clusterless_thresholder</td>\n",
       "<td>default</td>\n",
       "<td>Julio20230811_.nwb_06_Seq2Session3_11_franklab_tetrode_hippocampus_ampl_1500_prop_075_1ms_artifact_removed_valid_times_track_time_only</td>\n",
       "<td>/stelmo/nwb/sorting/Julio20230811_.nwb_06_Seq2Session3_11_franklab_tetrode_hippocampus_35403219_spikesorting</td>\n",
       "<td>1745201000</td></tr><tr><td>Julio20230811_.nwb</td>\n",
       "<td>12</td>\n",
       "<td>06_Seq2Session3</td>\n",
       "<td>franklab_tetrode_hippocampus</td>\n",
       "<td>SequenceTask</td>\n",
       "<td>clusterless_thresholder</td>\n",
       "<td>default</td>\n",
       "<td>Julio20230811_.nwb_06_Seq2Session3_12_franklab_tetrode_hippocampus_ampl_1500_prop_075_1ms_artifact_removed_valid_times_track_time_only</td>\n",
       "<td>/stelmo/nwb/sorting/Julio20230811_.nwb_06_Seq2Session3_12_franklab_tetrode_hippocampus_86077ec4_spikesorting</td>\n",
       "<td>1745201092</td></tr><tr><td>Julio20230811_.nwb</td>\n",
       "<td>15</td>\n",
       "<td>06_Seq2Session3</td>\n",
       "<td>franklab_tetrode_hippocampus</td>\n",
       "<td>SequenceTask</td>\n",
       "<td>clusterless_thresholder</td>\n",
       "<td>default</td>\n",
       "<td>Julio20230811_.nwb_06_Seq2Session3_15_franklab_tetrode_hippocampus_ampl_1500_prop_075_1ms_artifact_removed_valid_times_track_time_only</td>\n",
       "<td>/stelmo/nwb/sorting/Julio20230811_.nwb_06_Seq2Session3_15_franklab_tetrode_hippocampus_2f6204fc_spikesorting</td>\n",
       "<td>1745201185</td></tr><tr><td>Julio20230811_.nwb</td>\n",
       "<td>20</td>\n",
       "<td>06_Seq2Session3</td>\n",
       "<td>franklab_tetrode_hippocampus</td>\n",
       "<td>SequenceTask</td>\n",
       "<td>clusterless_thresholder</td>\n",
       "<td>default</td>\n",
       "<td>Julio20230811_.nwb_06_Seq2Session3_20_franklab_tetrode_hippocampus_ampl_1500_prop_075_1ms_artifact_removed_valid_times_track_time_only</td>\n",
       "<td>/stelmo/nwb/sorting/Julio20230811_.nwb_06_Seq2Session3_20_franklab_tetrode_hippocampus_24215809_spikesorting</td>\n",
       "<td>1745201276</td></tr><tr><td>Julio20230811_.nwb</td>\n",
       "<td>22</td>\n",
       "<td>06_Seq2Session3</td>\n",
       "<td>franklab_tetrode_hippocampus</td>\n",
       "<td>SequenceTask</td>\n",
       "<td>clusterless_thresholder</td>\n",
       "<td>default</td>\n",
       "<td>Julio20230811_.nwb_06_Seq2Session3_22_franklab_tetrode_hippocampus_ampl_1500_prop_075_1ms_artifact_removed_valid_times_track_time_only</td>\n",
       "<td>/stelmo/nwb/sorting/Julio20230811_.nwb_06_Seq2Session3_22_franklab_tetrode_hippocampus_2e605eca_spikesorting</td>\n",
       "<td>1745201370</td></tr><tr><td>Julio20230811_.nwb</td>\n",
       "<td>26</td>\n",
       "<td>06_Seq2Session3</td>\n",
       "<td>franklab_tetrode_hippocampus</td>\n",
       "<td>SequenceTask</td>\n",
       "<td>clusterless_thresholder</td>\n",
       "<td>default</td>\n",
       "<td>Julio20230811_.nwb_06_Seq2Session3_26_franklab_tetrode_hippocampus_ampl_1500_prop_075_1ms_artifact_removed_valid_times_track_time_only</td>\n",
       "<td>/stelmo/nwb/sorting/Julio20230811_.nwb_06_Seq2Session3_26_franklab_tetrode_hippocampus_29398f45_spikesorting</td>\n",
       "<td>1745201463</td></tr><tr><td>Julio20230811_.nwb</td>\n",
       "<td>28</td>\n",
       "<td>06_Seq2Session3</td>\n",
       "<td>franklab_tetrode_hippocampus</td>\n",
       "<td>SequenceTask</td>\n",
       "<td>clusterless_thresholder</td>\n",
       "<td>default</td>\n",
       "<td>Julio20230811_.nwb_06_Seq2Session3_28_franklab_tetrode_hippocampus_ampl_1500_prop_075_1ms_artifact_removed_valid_times_track_time_only</td>\n",
       "<td>/stelmo/nwb/sorting/Julio20230811_.nwb_06_Seq2Session3_28_franklab_tetrode_hippocampus_7d423331_spikesorting</td>\n",
       "<td>1745201555</td> </tr> </tbody>\n",
       "        </table>\n",
       "        <p>...</p>\n",
       "        <p>Total: 25</p></div>\n",
       "        "
      ],
      "text/plain": [
       "*nwb_file_name *sort_group_id *sort_interval *preproc_param *team_name     *sorter        *sorter_params *artifact_remo sorting_path   time_of_sort  \n",
       "+------------+ +------------+ +------------+ +------------+ +------------+ +------------+ +------------+ +------------+ +------------+ +------------+\n",
       "Julio20230811_ 2              06_Seq2Session franklab_tetro SequenceTask   clusterless_th default        Julio20230811_ /stelmo/nwb/so 1745201740    \n",
       "Julio20230811_ 3              06_Seq2Session franklab_tetro SequenceTask   clusterless_th default        Julio20230811_ /stelmo/nwb/so 1745202110    \n",
       "Julio20230811_ 6              06_Seq2Session franklab_tetro SequenceTask   clusterless_th default        Julio20230811_ /stelmo/nwb/so 1745203030    \n",
       "Julio20230811_ 7              06_Seq2Session franklab_tetro SequenceTask   clusterless_th default        Julio20230811_ /stelmo/nwb/so 1745203123    \n",
       "Julio20230811_ 8              06_Seq2Session franklab_tetro SequenceTask   clusterless_th default        Julio20230811_ /stelmo/nwb/so 1745203215    \n",
       "Julio20230811_ 11             06_Seq2Session franklab_tetro SequenceTask   clusterless_th default        Julio20230811_ /stelmo/nwb/so 1745201000    \n",
       "Julio20230811_ 12             06_Seq2Session franklab_tetro SequenceTask   clusterless_th default        Julio20230811_ /stelmo/nwb/so 1745201092    \n",
       "Julio20230811_ 15             06_Seq2Session franklab_tetro SequenceTask   clusterless_th default        Julio20230811_ /stelmo/nwb/so 1745201185    \n",
       "Julio20230811_ 20             06_Seq2Session franklab_tetro SequenceTask   clusterless_th default        Julio20230811_ /stelmo/nwb/so 1745201276    \n",
       "Julio20230811_ 22             06_Seq2Session franklab_tetro SequenceTask   clusterless_th default        Julio20230811_ /stelmo/nwb/so 1745201370    \n",
       "Julio20230811_ 26             06_Seq2Session franklab_tetro SequenceTask   clusterless_th default        Julio20230811_ /stelmo/nwb/so 1745201463    \n",
       "Julio20230811_ 28             06_Seq2Session franklab_tetro SequenceTask   clusterless_th default        Julio20230811_ /stelmo/nwb/so 1745201555    \n",
       "   ...\n",
       " (Total: 25)"
      ]
     },
     "execution_count": 18,
     "metadata": {},
     "output_type": "execute_result"
    }
   ],
   "source": [
    "(SpikeSorting & {'nwb_file_name': nwb_copy_file_name})"
   ]
  },
  {
   "cell_type": "code",
   "execution_count": 9,
   "id": "71b88ac8-6060-42cf-b694-cbec365b5886",
   "metadata": {},
   "outputs": [],
   "source": [
    "import spikeinterface as si"
   ]
  },
  {
   "cell_type": "code",
   "execution_count": 10,
   "id": "ea6720b7-93f2-4505-aea8-a97d919d4673",
   "metadata": {},
   "outputs": [
    {
     "name": "stdout",
     "output_type": "stream",
     "text": [
      "['02_Seq2Session1', '04_Seq2Session2', '06_Seq2Session3', '07_Seq2Session4', '09_Seq2Session5']\n"
     ]
    }
   ],
   "source": [
    "nwb_copy_file_name = 'julio20230811_.nwb'\n",
    "session_interval, position_interval = runSessionNames(nwb_copy_file_name)\n",
    "print(session_interval)"
   ]
  },
  {
   "cell_type": "code",
   "execution_count": 11,
   "id": "aa7c3285-050d-4304-8b5b-769124c5d0c3",
   "metadata": {},
   "outputs": [],
   "source": [
    "sort_interval_name = '06_Seq2Session3'\n",
    "#array([('julio20230811_.nwb', 100, '04_Seq2Session2', 'franklab_tetrode_hippocampus', 'SequenceTask', 'ampl_100_prop_05_2ms', 0),\n",
    "#       ('julio20230811_.nwb', 101, '04_Seq2Session2', 'franklab_tetrode_hippocampus', 'SequenceTask', 'ampl_100_prop_05_2ms', 0)],\n",
    "      \n",
    "from spyglass.shijiegu.helpers import interval_union"
   ]
  },
  {
   "cell_type": "code",
   "execution_count": 12,
   "id": "aa0d10ff-76f4-4550-b6be-90a96d0aaea6",
   "metadata": {},
   "outputs": [],
   "source": [
    "statescript_key = {'nwb_file_name':nwb_copy_file_name,\n",
    "                   'epoch_name':sort_interval_name}\n",
    "\n",
    "StateScript = pd.DataFrame(\n",
    "    (TrialChoice & statescript_key).fetch1('choice_reward'))\n",
    "trial_1_t = StateScript.loc[1].timestamp_O\n",
    "trial_last_t = StateScript.loc[len(StateScript)-1].timestamp_O"
   ]
  },
  {
   "cell_type": "code",
   "execution_count": 13,
   "id": "1193da58-83b0-4fca-8985-571822d76275",
   "metadata": {},
   "outputs": [],
   "source": [
    "key = {'nwb_file_name' : nwb_copy_file_name,\n",
    "       'sort_interval_name':sort_interval_name,\n",
    "       \"preproc_params_name\":\"franklab_tetrode_hippocampus\",\n",
    "       \"sort_group_id\":100}\n",
    "recording_path = (SpikeSortingRecording & key).fetch1(\n",
    "                \"recording_path\"\n",
    "            )\n",
    "recording_name = SpikeSortingRecording._get_recording_name(key)\n",
    "recording = si.load_extractor(recording_path)"
   ]
  },
  {
   "cell_type": "code",
   "execution_count": 14,
   "id": "3c96c964-68ea-4e0a-917b-e5c0d76e1ff0",
   "metadata": {},
   "outputs": [],
   "source": [
    "if recording.get_num_segments() > 1:\n",
    "    valid_timestamps = np.array([])\n",
    "    for segment in range(recording.get_num_segments()):\n",
    "        valid_timestamps = np.concatenate(\n",
    "                (valid_timestamps, recording.get_times(segment_index=segment))\n",
    "        )\n",
    "    recording = si.concatenate_recordings([recording])\n",
    "elif recording.get_num_segments() == 1:\n",
    "    valid_timestamps = recording.get_times(0)"
   ]
  },
  {
   "cell_type": "code",
   "execution_count": 31,
   "id": "a0412ec7-efdc-47dc-bd19-586525f16607",
   "metadata": {},
   "outputs": [
    {
     "data": {
      "text/plain": [
       "(29895878,)"
      ]
     },
     "execution_count": 31,
     "metadata": {},
     "output_type": "execute_result"
    }
   ],
   "source": [
    "valid_timestamps.shape"
   ]
  },
  {
   "cell_type": "code",
   "execution_count": 33,
   "id": "57aa3c78-7bce-475b-a9c1-0fcc4806631e",
   "metadata": {},
   "outputs": [],
   "source": [
    "from spyglass.spikesorting.v0.spikesorting_artifact import _get_artifact_times"
   ]
  },
  {
   "cell_type": "code",
   "execution_count": 40,
   "id": "351fcbee-fcfe-4471-9caf-b744a1b11e5d",
   "metadata": {
    "scrolled": true
   },
   "outputs": [
    {
     "name": "stderr",
     "output_type": "stream",
     "text": [
      "[15:22:28][INFO] Spyglass: using 1 jobs...\n",
      "21-Apr-25 15:22:28 using 1 jobs...\n"
     ]
    },
    {
     "ename": "AssertionError",
     "evalue": "",
     "output_type": "error",
     "traceback": [
      "\u001b[0;31m---------------------------------------------------------------------------\u001b[0m",
      "\u001b[0;31mAssertionError\u001b[0m                            Traceback (most recent call last)",
      "Cell \u001b[0;32mIn[40], line 1\u001b[0m\n\u001b[0;32m----> 1\u001b[0m artifact_removed_test, artifact_intervals \u001b[38;5;241m=\u001b[39m \u001b[43m_get_artifact_times\u001b[49m\u001b[43m(\u001b[49m\u001b[43mrecording\u001b[49m\u001b[43m,\u001b[49m\u001b[43mamplitude_thresh\u001b[49m\u001b[43m \u001b[49m\u001b[38;5;241;43m=\u001b[39;49m\u001b[43m \u001b[49m\u001b[38;5;241;43m100\u001b[39;49m\u001b[43m,\u001b[49m\u001b[43m \u001b[49m\u001b[43mproportion_above_thresh\u001b[49m\u001b[43m \u001b[49m\u001b[38;5;241;43m=\u001b[39;49m\u001b[43m \u001b[49m\u001b[38;5;241;43m0.5\u001b[39;49m\u001b[43m)\u001b[49m\n",
      "File \u001b[0;32m~/Documents/spyglass/src/spyglass/spikesorting/v0/spikesorting_artifact.py:308\u001b[0m, in \u001b[0;36m_get_artifact_times\u001b[0;34m(recording, zscore_thresh, amplitude_thresh, proportion_above_thresh, removal_window_ms, verbose, **job_kwargs)\u001b[0m\n\u001b[1;32m    302\u001b[0m     artifact_intervals_new \u001b[38;5;241m=\u001b[39m [artifact_intervals_new]\n\u001b[1;32m    304\u001b[0m artifact_removed_valid_times_ind \u001b[38;5;241m=\u001b[39m interval_set_difference_inds(\n\u001b[1;32m    305\u001b[0m     [(\u001b[38;5;241m0\u001b[39m, \u001b[38;5;28mlen\u001b[39m(valid_timestamps) \u001b[38;5;241m-\u001b[39m \u001b[38;5;241m1\u001b[39m)], artifact_intervals_new\n\u001b[1;32m    306\u001b[0m )\n\u001b[0;32m--> 308\u001b[0m \u001b[38;5;28;01massert\u001b[39;00m \u001b[38;5;241m1\u001b[39m \u001b[38;5;241m==\u001b[39m \u001b[38;5;241m0\u001b[39m\n\u001b[1;32m    310\u001b[0m \u001b[38;5;66;03m# convert back to seconds\u001b[39;00m\n\u001b[1;32m    311\u001b[0m artifact_removed_valid_times \u001b[38;5;241m=\u001b[39m []\n",
      "\u001b[0;31mAssertionError\u001b[0m: "
     ]
    }
   ],
   "source": [
    "artifact_removed_test, artifact_intervals = _get_artifact_times(recording,amplitude_thresh = 100, proportion_above_thresh = 0.5)"
   ]
  },
  {
   "cell_type": "code",
   "execution_count": 42,
   "id": "968c889b-c2c9-4492-8a92-70760005ebeb",
   "metadata": {
    "scrolled": true
   },
   "outputs": [],
   "source": [
    "#%debug"
   ]
  },
  {
   "cell_type": "code",
   "execution_count": 30,
   "id": "55fa7641-8cb1-497e-b68a-f259205c1bea",
   "metadata": {
    "scrolled": true
   },
   "outputs": [
    {
     "data": {
      "text/plain": [
       "(1691786057.8352175, 1691787177.2597272)"
      ]
     },
     "execution_count": 30,
     "metadata": {},
     "output_type": "execute_result"
    },
    {
     "data": {
      "image/png": "[encoded data removed]",
      "text/plain": [
       "<Figure size 1500x300 with 1 Axes>"
      ]
     },
     "metadata": {},
     "output_type": "display_data"
    }
   ],
   "source": [
    "fig, ax = plt.subplots(1,1,figsize = (15,3))\n",
    "\n",
    "for a_ind in range(artifact_removed_test.shape[0]):\n",
    "    ax.axvspan(artifact_removed_test[a_ind][0],artifact_removed_test[a_ind][1],color = 'g',linewidth = 1)\n",
    "    ax.axvspan(artifact_intervals[a_ind][0],artifact_intervals[a_ind][1],color = 'k',linewidth = 1,alpha = 0.5)\n",
    "\n",
    "ax.set_xlim(trial_1_t-100,trial_last_t+100)"
   ]
  },
  {
   "cell_type": "code",
   "execution_count": null,
   "id": "a103c3da-39f1-4b19-8b58-1ca923ff151a",
   "metadata": {},
   "outputs": [],
   "source": []
  },
  {
   "cell_type": "code",
   "execution_count": null,
   "id": "0f46fbfc-932f-4565-9e7e-cd90311bf3e3",
   "metadata": {},
   "outputs": [],
   "source": []
  },
  {
   "cell_type": "code",
   "execution_count": 15,
   "id": "ae022cc2-cd7d-459d-b15c-edd415bad568",
   "metadata": {},
   "outputs": [
    {
     "data": {
      "text/plain": [
       "1691786105.633824"
      ]
     },
     "execution_count": 15,
     "metadata": {},
     "output_type": "execute_result"
    }
   ],
   "source": [
    "valid_timestamps[0]"
   ]
  },
  {
   "cell_type": "code",
   "execution_count": 16,
   "id": "d0ef813a-8802-470d-9e38-15ce7b94d5ca",
   "metadata": {},
   "outputs": [
    {
     "data": {
      "text/plain": [
       "BinaryFolderRecording: 60 channels - 30.0kHz - 1 segments - 29,895,878 samples \n",
       "                       997.88s (16.63 minutes) - int16 dtype - 3.34 GiB"
      ]
     },
     "execution_count": 16,
     "metadata": {},
     "output_type": "execute_result"
    }
   ],
   "source": [
    "recording"
   ]
  },
  {
   "cell_type": "code",
   "execution_count": 174,
   "id": "869c6546-3c41-4b51-859d-14239b1044b3",
   "metadata": {},
   "outputs": [
    {
     "data": {
      "text/html": [
       "\n",
       "    \n",
       "    <style type=\"text/css\">\n",
       "        .Table{\n",
       "            border-collapse:collapse;\n",
       "        }\n",
       "        .Table th{\n",
       "            background: #A0A0A0; color: #ffffff; padding:4px; border:#f0e0e0 1px solid;\n",
       "            font-weight: normal; font-family: monospace; font-size: 100%;\n",
       "        }\n",
       "        .Table td{\n",
       "            padding:4px; border:#f0e0e0 1px solid; font-size:100%;\n",
       "        }\n",
       "        .Table tr:nth-child(odd){\n",
       "            background: #ffffff;\n",
       "            color: #000000;\n",
       "        }\n",
       "        .Table tr:nth-child(even){\n",
       "            background: #f3f1ff;\n",
       "            color: #000000;\n",
       "        }\n",
       "        /* Tooltip container */\n",
       "        .djtooltip {\n",
       "        }\n",
       "        /* Tooltip text */\n",
       "        .djtooltip .djtooltiptext {\n",
       "            visibility: hidden;\n",
       "            width: 120px;\n",
       "            background-color: black;\n",
       "            color: #fff;\n",
       "            text-align: center;\n",
       "            padding: 5px 0;\n",
       "            border-radius: 6px;\n",
       "            /* Position the tooltip text - see examples below! */\n",
       "            position: absolute;\n",
       "            z-index: 1;\n",
       "        }\n",
       "        #primary {\n",
       "            font-weight: bold;\n",
       "            color: black;\n",
       "        }\n",
       "        #nonprimary {\n",
       "            font-weight: normal;\n",
       "            color: white;\n",
       "        }\n",
       "\n",
       "        /* Show the tooltip text when you mouse over the tooltip container */\n",
       "        .djtooltip:hover .djtooltiptext {\n",
       "            visibility: visible;\n",
       "        }\n",
       "    </style>\n",
       "    \n",
       "    <b></b>\n",
       "        <div style=\"max-height:1000px;max-width:1500px;overflow:auto;\">\n",
       "        <table border=\"1\" class=\"Table\">\n",
       "            <thead> <tr style=\"text-align: right;\"> <th> <div class=\"djtooltip\">\n",
       "                            <p id=\"primary\">nwb_file_name</p>\n",
       "                            <span class=\"djtooltiptext\">name of the NWB file</span>\n",
       "                        </div></th><th><div class=\"djtooltip\">\n",
       "                            <p id=\"primary\">sort_group_id</p>\n",
       "                            <span class=\"djtooltiptext\">identifier for a group of electrodes</span>\n",
       "                        </div></th><th><div class=\"djtooltip\">\n",
       "                            <p id=\"primary\">sort_interval_name</p>\n",
       "                            <span class=\"djtooltiptext\">name for this interval</span>\n",
       "                        </div></th><th><div class=\"djtooltip\">\n",
       "                            <p id=\"primary\">preproc_params_name</p>\n",
       "                            <span class=\"djtooltiptext\"></span>\n",
       "                        </div></th><th><div class=\"djtooltip\">\n",
       "                            <p id=\"primary\">team_name</p>\n",
       "                            <span class=\"djtooltiptext\"></span>\n",
       "                        </div></th><th><div class=\"djtooltip\">\n",
       "                            <p id=\"nonprimary\">recording_path</p>\n",
       "                            <span class=\"djtooltiptext\"></span>\n",
       "                        </div></th><th><div class=\"djtooltip\">\n",
       "                            <p id=\"nonprimary\">sort_interval_list_name</p>\n",
       "                            <span class=\"djtooltiptext\">descriptive name of this interval list</span>\n",
       "                        </div> </th> </tr> </thead>\n",
       "            <tbody> <tr> <td>julio20230811_.nwb</td>\n",
       "<td>100</td>\n",
       "<td>06_Seq2Session3</td>\n",
       "<td>franklab_tetrode_hippocampus</td>\n",
       "<td>SequenceTask</td>\n",
       "<td>/stelmo/nwb/recording/julio20230811_.nwb_06_Seq2Session3_100_franklab_tetrode_hippocampus</td>\n",
       "<td>julio20230811_.nwb_06_Seq2Session3_100_franklab_tetrode_hippocampus</td> </tr> </tbody>\n",
       "        </table>\n",
       "        \n",
       "        <p>Total: 1</p></div>\n",
       "        "
      ],
      "text/plain": [
       "*nwb_file_name *sort_group_id *sort_interval *preproc_param *team_name     recording_path sort_interval_\n",
       "+------------+ +------------+ +------------+ +------------+ +------------+ +------------+ +------------+\n",
       "julio20230811_ 100            06_Seq2Session franklab_tetro SequenceTask   /stelmo/nwb/re julio20230811_\n",
       " (Total: 1)"
      ]
     },
     "execution_count": 174,
     "metadata": {},
     "output_type": "execute_result"
    }
   ],
   "source": [
    "(SpikeSortingRecording & )"
   ]
  },
  {
   "cell_type": "code",
   "execution_count": 44,
   "id": "62029db3-0a10-4823-b29b-a3e768b51937",
   "metadata": {},
   "outputs": [],
   "source": [
    "\"\"\"fetch artifact\"\"\"\n",
    "artifact_params_name='ampl_100_prop_05_2ms'\n",
    "artifact_key=(ArtifactDetection() & {'nwb_file_name' : nwb_copy_file_name}\n",
    "                            & {'artifact_params_name': artifact_params_name}\n",
    "                            & {'sort_interval_name':sort_interval_name})\n",
    "\n",
    "#, and there should be 2 entries, one from left cannula (group 100), and one from right cannula (group 101)\n",
    "artifact_removed_name_list=artifact_key.fetch('artifact_removed_interval_list_name')\n",
    "\n",
    "artifact_time_list=[]\n",
    "artifact_removed_time_list=[]\n",
    "for artifact_removed_name in artifact_removed_name_list:\n",
    "    artifact_time_list.append((ArtifactDetection() & {'nwb_file_name' : nwb_copy_file_name,'artifact_removed_interval_list_name':artifact_removed_name}).fetch1('artifact_times'))\n",
    "    (IntervalList() & {'nwb_file_name' : nwb_copy_file_name,'interval_list_name':artifact_removed_name}).delete()\n"
   ]
  },
  {
   "cell_type": "code",
   "execution_count": 79,
   "id": "4fe6953f-1210-4bc7-91f0-6bdc9552e1e1",
   "metadata": {
    "scrolled": true
   },
   "outputs": [],
   "source": [
    "intvls = (IntervalList() & {'nwb_file_name' : nwb_copy_file_name}).fetch(\"interval_list_name\")"
   ]
  },
  {
   "cell_type": "code",
   "execution_count": 80,
   "id": "641d93eb-f6f9-4ddc-90e6-799be58370c2",
   "metadata": {
    "scrolled": true
   },
   "outputs": [
    {
     "data": {
      "text/plain": [
       "array(['01_Seq2Sleep1', '02_Seq2Session1', '03_Seq2Sleep2',\n",
       "       '04_Seq2Session2', '05_Seq2Sleep3', '06_Seq2Session3',\n",
       "       '07_Seq2Session4', '08_Seq2Sleep4', '09_Seq2Session5',\n",
       "       '10_Seq2Sleep5',\n",
       "       'julio20230811_.nwb_01_Seq2Sleep1_11_franklab_tetrode_hippocampus',\n",
       "       'julio20230811_.nwb_01_Seq2Sleep1_12_franklab_tetrode_hippocampus',\n",
       "       'julio20230811_.nwb_01_Seq2Sleep1_15_franklab_tetrode_hippocampus',\n",
       "       'julio20230811_.nwb_01_Seq2Sleep1_20_franklab_tetrode_hippocampus',\n",
       "       'julio20230811_.nwb_01_Seq2Sleep1_22_franklab_tetrode_hippocampus',\n",
       "       'julio20230811_.nwb_01_Seq2Sleep1_26_franklab_tetrode_hippocampus',\n",
       "       'julio20230811_.nwb_01_Seq2Sleep1_28_franklab_tetrode_hippocampus',\n",
       "       'julio20230811_.nwb_01_Seq2Sleep1_29_franklab_tetrode_hippocampus',\n",
       "       'julio20230811_.nwb_01_Seq2Sleep1_2_franklab_tetrode_hippocampus',\n",
       "       'julio20230811_.nwb_01_Seq2Sleep1_30_franklab_tetrode_hippocampus',\n",
       "       'julio20230811_.nwb_01_Seq2Sleep1_31_franklab_tetrode_hippocampus',\n",
       "       'julio20230811_.nwb_01_Seq2Sleep1_36_franklab_tetrode_hippocampus',\n",
       "       'julio20230811_.nwb_01_Seq2Sleep1_3_franklab_tetrode_hippocampus',\n",
       "       'julio20230811_.nwb_01_Seq2Sleep1_42_franklab_tetrode_hippocampus',\n",
       "       'julio20230811_.nwb_01_Seq2Sleep1_43_franklab_tetrode_hippocampus',\n",
       "       'julio20230811_.nwb_01_Seq2Sleep1_49_franklab_tetrode_hippocampus',\n",
       "       'julio20230811_.nwb_01_Seq2Sleep1_50_franklab_tetrode_hippocampus',\n",
       "       'julio20230811_.nwb_01_Seq2Sleep1_51_franklab_tetrode_hippocampus',\n",
       "       'julio20230811_.nwb_01_Seq2Sleep1_52_franklab_tetrode_hippocampus',\n",
       "       'julio20230811_.nwb_01_Seq2Sleep1_55_franklab_tetrode_hippocampus',\n",
       "       'julio20230811_.nwb_01_Seq2Sleep1_56_franklab_tetrode_hippocampus',\n",
       "       'julio20230811_.nwb_01_Seq2Sleep1_61_franklab_tetrode_hippocampus',\n",
       "       'julio20230811_.nwb_01_Seq2Sleep1_6_franklab_tetrode_hippocampus',\n",
       "       'julio20230811_.nwb_01_Seq2Sleep1_7_franklab_tetrode_hippocampus',\n",
       "       'julio20230811_.nwb_01_Seq2Sleep1_8_franklab_tetrode_hippocampus',\n",
       "       'julio20230811_.nwb_02_Seq2Session1_11_franklab_tetrode_hippocampus',\n",
       "       'Julio20230811_.nwb_02_Seq2Session1_11_franklab_tetrode_hippocampus_ampl_1500_prop_075_1ms_artifact_removed_valid_times_track_time_only',\n",
       "       'julio20230811_.nwb_02_Seq2Session1_12_franklab_tetrode_hippocampus',\n",
       "       'Julio20230811_.nwb_02_Seq2Session1_12_franklab_tetrode_hippocampus_ampl_1500_prop_075_1ms_artifact_removed_valid_times_track_time_only',\n",
       "       'julio20230811_.nwb_02_Seq2Session1_15_franklab_tetrode_hippocampus',\n",
       "       'Julio20230811_.nwb_02_Seq2Session1_15_franklab_tetrode_hippocampus_ampl_1500_prop_075_1ms_artifact_removed_valid_times_track_time_only',\n",
       "       'julio20230811_.nwb_02_Seq2Session1_20_franklab_tetrode_hippocampus',\n",
       "       'Julio20230811_.nwb_02_Seq2Session1_20_franklab_tetrode_hippocampus_ampl_1500_prop_075_1ms_artifact_removed_valid_times_track_time_only',\n",
       "       'julio20230811_.nwb_02_Seq2Session1_22_franklab_tetrode_hippocampus',\n",
       "       'Julio20230811_.nwb_02_Seq2Session1_22_franklab_tetrode_hippocampus_ampl_1500_prop_075_1ms_artifact_removed_valid_times_track_time_only',\n",
       "       'julio20230811_.nwb_02_Seq2Session1_26_franklab_tetrode_hippocampus',\n",
       "       'Julio20230811_.nwb_02_Seq2Session1_26_franklab_tetrode_hippocampus_ampl_1500_prop_075_1ms_artifact_removed_valid_times_track_time_only',\n",
       "       'julio20230811_.nwb_02_Seq2Session1_28_franklab_tetrode_hippocampus',\n",
       "       'Julio20230811_.nwb_02_Seq2Session1_28_franklab_tetrode_hippocampus_ampl_1500_prop_075_1ms_artifact_removed_valid_times_track_time_only',\n",
       "       'julio20230811_.nwb_02_Seq2Session1_29_franklab_tetrode_hippocampus',\n",
       "       'Julio20230811_.nwb_02_Seq2Session1_29_franklab_tetrode_hippocampus_ampl_1500_prop_075_1ms_artifact_removed_valid_times_track_time_only',\n",
       "       'julio20230811_.nwb_02_Seq2Session1_2_franklab_tetrode_hippocampus',\n",
       "       'Julio20230811_.nwb_02_Seq2Session1_2_franklab_tetrode_hippocampus_ampl_1500_prop_075_1ms_artifact_removed_valid_times_track_time_only',\n",
       "       'julio20230811_.nwb_02_Seq2Session1_30_franklab_tetrode_hippocampus',\n",
       "       'Julio20230811_.nwb_02_Seq2Session1_30_franklab_tetrode_hippocampus_ampl_1500_prop_075_1ms_artifact_removed_valid_times_track_time_only',\n",
       "       'julio20230811_.nwb_02_Seq2Session1_31_franklab_tetrode_hippocampus',\n",
       "       'Julio20230811_.nwb_02_Seq2Session1_31_franklab_tetrode_hippocampus_ampl_1500_prop_075_1ms_artifact_removed_valid_times_track_time_only',\n",
       "       'julio20230811_.nwb_02_Seq2Session1_36_franklab_tetrode_hippocampus',\n",
       "       'Julio20230811_.nwb_02_Seq2Session1_36_franklab_tetrode_hippocampus_ampl_1500_prop_075_1ms_artifact_removed_valid_times_track_time_only',\n",
       "       'julio20230811_.nwb_02_Seq2Session1_3_franklab_tetrode_hippocampus',\n",
       "       'Julio20230811_.nwb_02_Seq2Session1_3_franklab_tetrode_hippocampus_ampl_1500_prop_075_1ms_artifact_removed_valid_times_track_time_only',\n",
       "       'julio20230811_.nwb_02_Seq2Session1_42_franklab_tetrode_hippocampus',\n",
       "       'Julio20230811_.nwb_02_Seq2Session1_42_franklab_tetrode_hippocampus_ampl_1500_prop_075_1ms_artifact_removed_valid_times_track_time_only',\n",
       "       'julio20230811_.nwb_02_Seq2Session1_43_franklab_tetrode_hippocampus',\n",
       "       'Julio20230811_.nwb_02_Seq2Session1_43_franklab_tetrode_hippocampus_ampl_1500_prop_075_1ms_artifact_removed_valid_times_track_time_only',\n",
       "       'julio20230811_.nwb_02_Seq2Session1_49_franklab_tetrode_hippocampus',\n",
       "       'Julio20230811_.nwb_02_Seq2Session1_49_franklab_tetrode_hippocampus_ampl_1500_prop_075_1ms_artifact_removed_valid_times_track_time_only',\n",
       "       'julio20230811_.nwb_02_Seq2Session1_50_franklab_tetrode_hippocampus',\n",
       "       'Julio20230811_.nwb_02_Seq2Session1_50_franklab_tetrode_hippocampus_ampl_1500_prop_075_1ms_artifact_removed_valid_times_track_time_only',\n",
       "       'julio20230811_.nwb_02_Seq2Session1_51_franklab_tetrode_hippocampus',\n",
       "       'Julio20230811_.nwb_02_Seq2Session1_51_franklab_tetrode_hippocampus_ampl_1500_prop_075_1ms_artifact_removed_valid_times_track_time_only',\n",
       "       'julio20230811_.nwb_02_Seq2Session1_52_franklab_tetrode_hippocampus',\n",
       "       'Julio20230811_.nwb_02_Seq2Session1_52_franklab_tetrode_hippocampus_ampl_1500_prop_075_1ms_artifact_removed_valid_times_track_time_only',\n",
       "       'julio20230811_.nwb_02_Seq2Session1_55_franklab_tetrode_hippocampus',\n",
       "       'Julio20230811_.nwb_02_Seq2Session1_55_franklab_tetrode_hippocampus_ampl_1500_prop_075_1ms_artifact_removed_valid_times_track_time_only',\n",
       "       'julio20230811_.nwb_02_Seq2Session1_56_franklab_tetrode_hippocampus',\n",
       "       'Julio20230811_.nwb_02_Seq2Session1_56_franklab_tetrode_hippocampus_ampl_1500_prop_075_1ms_artifact_removed_valid_times_track_time_only',\n",
       "       'julio20230811_.nwb_02_Seq2Session1_61_franklab_tetrode_hippocampus',\n",
       "       'Julio20230811_.nwb_02_Seq2Session1_61_franklab_tetrode_hippocampus_ampl_1500_prop_075_1ms_artifact_removed_valid_times_track_time_only',\n",
       "       'julio20230811_.nwb_02_Seq2Session1_6_franklab_tetrode_hippocampus',\n",
       "       'Julio20230811_.nwb_02_Seq2Session1_6_franklab_tetrode_hippocampus_ampl_1500_prop_075_1ms_artifact_removed_valid_times_track_time_only',\n",
       "       'julio20230811_.nwb_02_Seq2Session1_7_franklab_tetrode_hippocampus',\n",
       "       'Julio20230811_.nwb_02_Seq2Session1_7_franklab_tetrode_hippocampus_ampl_1500_prop_075_1ms_artifact_removed_valid_times_track_time_only',\n",
       "       'julio20230811_.nwb_02_Seq2Session1_8_franklab_tetrode_hippocampus',\n",
       "       'Julio20230811_.nwb_02_Seq2Session1_8_franklab_tetrode_hippocampus_ampl_1500_prop_075_1ms_artifact_removed_valid_times_track_time_only',\n",
       "       'julio20230811_.nwb_03_Seq2Sleep2_11_franklab_tetrode_hippocampus',\n",
       "       'julio20230811_.nwb_03_Seq2Sleep2_12_franklab_tetrode_hippocampus',\n",
       "       'julio20230811_.nwb_03_Seq2Sleep2_15_franklab_tetrode_hippocampus',\n",
       "       'julio20230811_.nwb_03_Seq2Sleep2_20_franklab_tetrode_hippocampus',\n",
       "       'julio20230811_.nwb_03_Seq2Sleep2_22_franklab_tetrode_hippocampus',\n",
       "       'julio20230811_.nwb_03_Seq2Sleep2_26_franklab_tetrode_hippocampus',\n",
       "       'julio20230811_.nwb_03_Seq2Sleep2_28_franklab_tetrode_hippocampus',\n",
       "       'julio20230811_.nwb_03_Seq2Sleep2_29_franklab_tetrode_hippocampus',\n",
       "       'julio20230811_.nwb_03_Seq2Sleep2_2_franklab_tetrode_hippocampus',\n",
       "       'julio20230811_.nwb_03_Seq2Sleep2_30_franklab_tetrode_hippocampus',\n",
       "       'julio20230811_.nwb_03_Seq2Sleep2_31_franklab_tetrode_hippocampus',\n",
       "       'julio20230811_.nwb_03_Seq2Sleep2_36_franklab_tetrode_hippocampus',\n",
       "       'julio20230811_.nwb_03_Seq2Sleep2_3_franklab_tetrode_hippocampus',\n",
       "       'julio20230811_.nwb_03_Seq2Sleep2_42_franklab_tetrode_hippocampus',\n",
       "       'julio20230811_.nwb_03_Seq2Sleep2_43_franklab_tetrode_hippocampus',\n",
       "       'julio20230811_.nwb_03_Seq2Sleep2_49_franklab_tetrode_hippocampus',\n",
       "       'julio20230811_.nwb_03_Seq2Sleep2_50_franklab_tetrode_hippocampus',\n",
       "       'julio20230811_.nwb_03_Seq2Sleep2_51_franklab_tetrode_hippocampus',\n",
       "       'julio20230811_.nwb_03_Seq2Sleep2_52_franklab_tetrode_hippocampus',\n",
       "       'julio20230811_.nwb_03_Seq2Sleep2_55_franklab_tetrode_hippocampus',\n",
       "       'julio20230811_.nwb_03_Seq2Sleep2_56_franklab_tetrode_hippocampus',\n",
       "       'julio20230811_.nwb_03_Seq2Sleep2_61_franklab_tetrode_hippocampus',\n",
       "       'julio20230811_.nwb_03_Seq2Sleep2_6_franklab_tetrode_hippocampus',\n",
       "       'julio20230811_.nwb_03_Seq2Sleep2_7_franklab_tetrode_hippocampus',\n",
       "       'julio20230811_.nwb_03_Seq2Sleep2_8_franklab_tetrode_hippocampus',\n",
       "       'julio20230811_.nwb_04_Seq2Session2_100_franklab_tetrode_hippocampus_ampl_100_prop_05_2ms_artifact_removed_valid_times',\n",
       "       'julio20230811_.nwb_04_Seq2Session2_101_franklab_tetrode_hippocampus_ampl_100_prop_05_2ms_artifact_removed_valid_times',\n",
       "       'julio20230811_.nwb_04_Seq2Session2_11_franklab_tetrode_hippocampus',\n",
       "       'julio20230811_.nwb_04_Seq2Session2_12_franklab_tetrode_hippocampus',\n",
       "       'julio20230811_.nwb_04_Seq2Session2_15_franklab_tetrode_hippocampus',\n",
       "       'julio20230811_.nwb_04_Seq2Session2_20_franklab_tetrode_hippocampus',\n",
       "       'julio20230811_.nwb_04_Seq2Session2_22_franklab_tetrode_hippocampus',\n",
       "       'julio20230811_.nwb_04_Seq2Session2_26_franklab_tetrode_hippocampus',\n",
       "       'julio20230811_.nwb_04_Seq2Session2_28_franklab_tetrode_hippocampus',\n",
       "       'julio20230811_.nwb_04_Seq2Session2_29_franklab_tetrode_hippocampus',\n",
       "       'julio20230811_.nwb_04_Seq2Session2_2_franklab_tetrode_hippocampus',\n",
       "       'julio20230811_.nwb_04_Seq2Session2_30_franklab_tetrode_hippocampus',\n",
       "       'julio20230811_.nwb_04_Seq2Session2_31_franklab_tetrode_hippocampus',\n",
       "       'julio20230811_.nwb_04_Seq2Session2_36_franklab_tetrode_hippocampus',\n",
       "       'julio20230811_.nwb_04_Seq2Session2_3_franklab_tetrode_hippocampus',\n",
       "       'julio20230811_.nwb_04_Seq2Session2_42_franklab_tetrode_hippocampus',\n",
       "       'julio20230811_.nwb_04_Seq2Session2_43_franklab_tetrode_hippocampus',\n",
       "       'julio20230811_.nwb_04_Seq2Session2_49_franklab_tetrode_hippocampus',\n",
       "       'julio20230811_.nwb_04_Seq2Session2_50_franklab_tetrode_hippocampus',\n",
       "       'julio20230811_.nwb_04_Seq2Session2_51_franklab_tetrode_hippocampus',\n",
       "       'julio20230811_.nwb_04_Seq2Session2_52_franklab_tetrode_hippocampus',\n",
       "       'julio20230811_.nwb_04_Seq2Session2_55_franklab_tetrode_hippocampus',\n",
       "       'julio20230811_.nwb_04_Seq2Session2_56_franklab_tetrode_hippocampus',\n",
       "       'julio20230811_.nwb_04_Seq2Session2_61_franklab_tetrode_hippocampus',\n",
       "       'julio20230811_.nwb_04_Seq2Session2_6_franklab_tetrode_hippocampus',\n",
       "       'julio20230811_.nwb_04_Seq2Session2_7_franklab_tetrode_hippocampus',\n",
       "       'julio20230811_.nwb_04_Seq2Session2_8_franklab_tetrode_hippocampus',\n",
       "       'julio20230811_.nwb_05_Seq2Sleep3_11_franklab_tetrode_hippocampus',\n",
       "       'julio20230811_.nwb_05_Seq2Sleep3_12_franklab_tetrode_hippocampus',\n",
       "       'julio20230811_.nwb_05_Seq2Sleep3_15_franklab_tetrode_hippocampus',\n",
       "       'julio20230811_.nwb_05_Seq2Sleep3_20_franklab_tetrode_hippocampus',\n",
       "       'julio20230811_.nwb_05_Seq2Sleep3_22_franklab_tetrode_hippocampus',\n",
       "       'julio20230811_.nwb_05_Seq2Sleep3_26_franklab_tetrode_hippocampus',\n",
       "       'julio20230811_.nwb_05_Seq2Sleep3_28_franklab_tetrode_hippocampus',\n",
       "       'julio20230811_.nwb_05_Seq2Sleep3_29_franklab_tetrode_hippocampus',\n",
       "       'julio20230811_.nwb_05_Seq2Sleep3_2_franklab_tetrode_hippocampus',\n",
       "       'julio20230811_.nwb_05_Seq2Sleep3_30_franklab_tetrode_hippocampus',\n",
       "       'julio20230811_.nwb_05_Seq2Sleep3_31_franklab_tetrode_hippocampus',\n",
       "       'julio20230811_.nwb_05_Seq2Sleep3_36_franklab_tetrode_hippocampus',\n",
       "       'julio20230811_.nwb_05_Seq2Sleep3_3_franklab_tetrode_hippocampus',\n",
       "       'julio20230811_.nwb_05_Seq2Sleep3_42_franklab_tetrode_hippocampus',\n",
       "       'julio20230811_.nwb_05_Seq2Sleep3_43_franklab_tetrode_hippocampus',\n",
       "       'julio20230811_.nwb_05_Seq2Sleep3_49_franklab_tetrode_hippocampus',\n",
       "       'julio20230811_.nwb_05_Seq2Sleep3_50_franklab_tetrode_hippocampus',\n",
       "       'julio20230811_.nwb_05_Seq2Sleep3_51_franklab_tetrode_hippocampus',\n",
       "       'julio20230811_.nwb_05_Seq2Sleep3_52_franklab_tetrode_hippocampus',\n",
       "       'julio20230811_.nwb_05_Seq2Sleep3_55_franklab_tetrode_hippocampus',\n",
       "       'julio20230811_.nwb_05_Seq2Sleep3_56_franklab_tetrode_hippocampus',\n",
       "       'julio20230811_.nwb_05_Seq2Sleep3_61_franklab_tetrode_hippocampus',\n",
       "       'julio20230811_.nwb_05_Seq2Sleep3_6_franklab_tetrode_hippocampus',\n",
       "       'julio20230811_.nwb_05_Seq2Sleep3_7_franklab_tetrode_hippocampus',\n",
       "       'julio20230811_.nwb_05_Seq2Sleep3_8_franklab_tetrode_hippocampus',\n",
       "       'julio20230811_.nwb_06_Seq2Session3_101_franklab_tetrode_hippocampus_ampl_100_prop_05_2ms_artifact_removed_valid_times',\n",
       "       'julio20230811_.nwb_06_Seq2Session3_11_franklab_tetrode_hippocampus',\n",
       "       'Julio20230811_.nwb_06_Seq2Session3_11_franklab_tetrode_hippocampus_ampl_1500_prop_075_1ms_artifact_removed_valid_times_track_time_only',\n",
       "       'julio20230811_.nwb_06_Seq2Session3_12_franklab_tetrode_hippocampus',\n",
       "       'Julio20230811_.nwb_06_Seq2Session3_12_franklab_tetrode_hippocampus_ampl_1500_prop_075_1ms_artifact_removed_valid_times_track_time_only',\n",
       "       'julio20230811_.nwb_06_Seq2Session3_15_franklab_tetrode_hippocampus',\n",
       "       'Julio20230811_.nwb_06_Seq2Session3_15_franklab_tetrode_hippocampus_ampl_1500_prop_075_1ms_artifact_removed_valid_times_track_time_only',\n",
       "       'julio20230811_.nwb_06_Seq2Session3_20_franklab_tetrode_hippocampus',\n",
       "       'Julio20230811_.nwb_06_Seq2Session3_20_franklab_tetrode_hippocampus_ampl_1500_prop_075_1ms_artifact_removed_valid_times_track_time_only',\n",
       "       'julio20230811_.nwb_06_Seq2Session3_22_franklab_tetrode_hippocampus',\n",
       "       'Julio20230811_.nwb_06_Seq2Session3_22_franklab_tetrode_hippocampus_ampl_1500_prop_075_1ms_artifact_removed_valid_times_track_time_only',\n",
       "       'julio20230811_.nwb_06_Seq2Session3_26_franklab_tetrode_hippocampus',\n",
       "       'Julio20230811_.nwb_06_Seq2Session3_26_franklab_tetrode_hippocampus_ampl_1500_prop_075_1ms_artifact_removed_valid_times_track_time_only',\n",
       "       'julio20230811_.nwb_06_Seq2Session3_28_franklab_tetrode_hippocampus',\n",
       "       'Julio20230811_.nwb_06_Seq2Session3_28_franklab_tetrode_hippocampus_ampl_1500_prop_075_1ms_artifact_removed_valid_times_track_time_only',\n",
       "       'julio20230811_.nwb_06_Seq2Session3_29_franklab_tetrode_hippocampus',\n",
       "       'Julio20230811_.nwb_06_Seq2Session3_29_franklab_tetrode_hippocampus_ampl_1500_prop_075_1ms_artifact_removed_valid_times_track_time_only',\n",
       "       'julio20230811_.nwb_06_Seq2Session3_2_franklab_tetrode_hippocampus',\n",
       "       'Julio20230811_.nwb_06_Seq2Session3_2_franklab_tetrode_hippocampus_ampl_1500_prop_075_1ms_artifact_removed_valid_times_track_time_only',\n",
       "       'julio20230811_.nwb_06_Seq2Session3_30_franklab_tetrode_hippocampus',\n",
       "       'Julio20230811_.nwb_06_Seq2Session3_30_franklab_tetrode_hippocampus_ampl_1500_prop_075_1ms_artifact_removed_valid_times_track_time_only',\n",
       "       'julio20230811_.nwb_06_Seq2Session3_31_franklab_tetrode_hippocampus',\n",
       "       'Julio20230811_.nwb_06_Seq2Session3_31_franklab_tetrode_hippocampus_ampl_1500_prop_075_1ms_artifact_removed_valid_times_track_time_only',\n",
       "       'julio20230811_.nwb_06_Seq2Session3_36_franklab_tetrode_hippocampus',\n",
       "       'Julio20230811_.nwb_06_Seq2Session3_36_franklab_tetrode_hippocampus_ampl_1500_prop_075_1ms_artifact_removed_valid_times_track_time_only',\n",
       "       'julio20230811_.nwb_06_Seq2Session3_3_franklab_tetrode_hippocampus',\n",
       "       'Julio20230811_.nwb_06_Seq2Session3_3_franklab_tetrode_hippocampus_ampl_1500_prop_075_1ms_artifact_removed_valid_times_track_time_only',\n",
       "       'julio20230811_.nwb_06_Seq2Session3_42_franklab_tetrode_hippocampus',\n",
       "       'Julio20230811_.nwb_06_Seq2Session3_42_franklab_tetrode_hippocampus_ampl_1500_prop_075_1ms_artifact_removed_valid_times_track_time_only',\n",
       "       'julio20230811_.nwb_06_Seq2Session3_43_franklab_tetrode_hippocampus',\n",
       "       'Julio20230811_.nwb_06_Seq2Session3_43_franklab_tetrode_hippocampus_ampl_1500_prop_075_1ms_artifact_removed_valid_times_track_time_only',\n",
       "       'julio20230811_.nwb_06_Seq2Session3_49_franklab_tetrode_hippocampus',\n",
       "       'Julio20230811_.nwb_06_Seq2Session3_49_franklab_tetrode_hippocampus_ampl_1500_prop_075_1ms_artifact_removed_valid_times_track_time_only',\n",
       "       'julio20230811_.nwb_06_Seq2Session3_50_franklab_tetrode_hippocampus',\n",
       "       'Julio20230811_.nwb_06_Seq2Session3_50_franklab_tetrode_hippocampus_ampl_1500_prop_075_1ms_artifact_removed_valid_times_track_time_only',\n",
       "       'julio20230811_.nwb_06_Seq2Session3_51_franklab_tetrode_hippocampus',\n",
       "       'Julio20230811_.nwb_06_Seq2Session3_51_franklab_tetrode_hippocampus_ampl_1500_prop_075_1ms_artifact_removed_valid_times_track_time_only',\n",
       "       'julio20230811_.nwb_06_Seq2Session3_52_franklab_tetrode_hippocampus',\n",
       "       'Julio20230811_.nwb_06_Seq2Session3_52_franklab_tetrode_hippocampus_ampl_1500_prop_075_1ms_artifact_removed_valid_times_track_time_only',\n",
       "       'julio20230811_.nwb_06_Seq2Session3_55_franklab_tetrode_hippocampus',\n",
       "       'Julio20230811_.nwb_06_Seq2Session3_55_franklab_tetrode_hippocampus_ampl_1500_prop_075_1ms_artifact_removed_valid_times_track_time_only',\n",
       "       'julio20230811_.nwb_06_Seq2Session3_56_franklab_tetrode_hippocampus',\n",
       "       'Julio20230811_.nwb_06_Seq2Session3_56_franklab_tetrode_hippocampus_ampl_1500_prop_075_1ms_artifact_removed_valid_times_track_time_only',\n",
       "       'julio20230811_.nwb_06_Seq2Session3_61_franklab_tetrode_hippocampus',\n",
       "       'Julio20230811_.nwb_06_Seq2Session3_61_franklab_tetrode_hippocampus_ampl_1500_prop_075_1ms_artifact_removed_valid_times_track_time_only',\n",
       "       'julio20230811_.nwb_06_Seq2Session3_6_franklab_tetrode_hippocampus',\n",
       "       'Julio20230811_.nwb_06_Seq2Session3_6_franklab_tetrode_hippocampus_ampl_1500_prop_075_1ms_artifact_removed_valid_times_track_time_only',\n",
       "       'julio20230811_.nwb_06_Seq2Session3_7_franklab_tetrode_hippocampus',\n",
       "       'Julio20230811_.nwb_06_Seq2Session3_7_franklab_tetrode_hippocampus_ampl_1500_prop_075_1ms_artifact_removed_valid_times_track_time_only',\n",
       "       'julio20230811_.nwb_06_Seq2Session3_8_franklab_tetrode_hippocampus',\n",
       "       'Julio20230811_.nwb_06_Seq2Session3_8_franklab_tetrode_hippocampus_ampl_1500_prop_075_1ms_artifact_removed_valid_times_track_time_only',\n",
       "       'julio20230811_.nwb_07_Seq2Session4_100_franklab_tetrode_hippocampus_ampl_100_prop_05_2ms_artifact_removed_valid_times',\n",
       "       'julio20230811_.nwb_07_Seq2Session4_101_franklab_tetrode_hippocampus_ampl_100_prop_05_2ms_artifact_removed_valid_times',\n",
       "       'julio20230811_.nwb_07_Seq2Session4_11_franklab_tetrode_hippocampus',\n",
       "       'julio20230811_.nwb_07_Seq2Session4_12_franklab_tetrode_hippocampus',\n",
       "       'julio20230811_.nwb_07_Seq2Session4_15_franklab_tetrode_hippocampus',\n",
       "       'julio20230811_.nwb_07_Seq2Session4_20_franklab_tetrode_hippocampus',\n",
       "       'julio20230811_.nwb_07_Seq2Session4_22_franklab_tetrode_hippocampus',\n",
       "       'julio20230811_.nwb_07_Seq2Session4_26_franklab_tetrode_hippocampus',\n",
       "       'julio20230811_.nwb_07_Seq2Session4_28_franklab_tetrode_hippocampus',\n",
       "       'julio20230811_.nwb_07_Seq2Session4_29_franklab_tetrode_hippocampus',\n",
       "       'julio20230811_.nwb_07_Seq2Session4_2_franklab_tetrode_hippocampus',\n",
       "       'julio20230811_.nwb_07_Seq2Session4_30_franklab_tetrode_hippocampus',\n",
       "       'julio20230811_.nwb_07_Seq2Session4_31_franklab_tetrode_hippocampus',\n",
       "       'julio20230811_.nwb_07_Seq2Session4_36_franklab_tetrode_hippocampus',\n",
       "       'julio20230811_.nwb_07_Seq2Session4_3_franklab_tetrode_hippocampus',\n",
       "       'julio20230811_.nwb_07_Seq2Session4_42_franklab_tetrode_hippocampus',\n",
       "       'julio20230811_.nwb_07_Seq2Session4_43_franklab_tetrode_hippocampus',\n",
       "       'julio20230811_.nwb_07_Seq2Session4_49_franklab_tetrode_hippocampus',\n",
       "       'julio20230811_.nwb_07_Seq2Session4_50_franklab_tetrode_hippocampus',\n",
       "       'julio20230811_.nwb_07_Seq2Session4_51_franklab_tetrode_hippocampus',\n",
       "       'julio20230811_.nwb_07_Seq2Session4_52_franklab_tetrode_hippocampus',\n",
       "       'julio20230811_.nwb_07_Seq2Session4_55_franklab_tetrode_hippocampus',\n",
       "       'julio20230811_.nwb_07_Seq2Session4_56_franklab_tetrode_hippocampus',\n",
       "       'julio20230811_.nwb_07_Seq2Session4_61_franklab_tetrode_hippocampus',\n",
       "       'julio20230811_.nwb_07_Seq2Session4_6_franklab_tetrode_hippocampus',\n",
       "       'julio20230811_.nwb_07_Seq2Session4_7_franklab_tetrode_hippocampus',\n",
       "       'julio20230811_.nwb_07_Seq2Session4_8_franklab_tetrode_hippocampus',\n",
       "       'julio20230811_.nwb_08_Seq2Sleep4_11_franklab_tetrode_hippocampus',\n",
       "       'julio20230811_.nwb_08_Seq2Sleep4_12_franklab_tetrode_hippocampus',\n",
       "       'julio20230811_.nwb_08_Seq2Sleep4_15_franklab_tetrode_hippocampus',\n",
       "       'julio20230811_.nwb_08_Seq2Sleep4_20_franklab_tetrode_hippocampus',\n",
       "       'julio20230811_.nwb_08_Seq2Sleep4_22_franklab_tetrode_hippocampus',\n",
       "       'julio20230811_.nwb_08_Seq2Sleep4_26_franklab_tetrode_hippocampus',\n",
       "       'julio20230811_.nwb_08_Seq2Sleep4_28_franklab_tetrode_hippocampus',\n",
       "       'julio20230811_.nwb_08_Seq2Sleep4_29_franklab_tetrode_hippocampus',\n",
       "       'julio20230811_.nwb_08_Seq2Sleep4_2_franklab_tetrode_hippocampus',\n",
       "       'julio20230811_.nwb_08_Seq2Sleep4_30_franklab_tetrode_hippocampus',\n",
       "       'julio20230811_.nwb_08_Seq2Sleep4_31_franklab_tetrode_hippocampus',\n",
       "       'julio20230811_.nwb_08_Seq2Sleep4_36_franklab_tetrode_hippocampus',\n",
       "       'julio20230811_.nwb_08_Seq2Sleep4_3_franklab_tetrode_hippocampus',\n",
       "       'julio20230811_.nwb_08_Seq2Sleep4_42_franklab_tetrode_hippocampus',\n",
       "       'julio20230811_.nwb_08_Seq2Sleep4_43_franklab_tetrode_hippocampus',\n",
       "       'julio20230811_.nwb_08_Seq2Sleep4_49_franklab_tetrode_hippocampus',\n",
       "       'julio20230811_.nwb_08_Seq2Sleep4_50_franklab_tetrode_hippocampus',\n",
       "       'julio20230811_.nwb_08_Seq2Sleep4_51_franklab_tetrode_hippocampus',\n",
       "       'julio20230811_.nwb_08_Seq2Sleep4_52_franklab_tetrode_hippocampus',\n",
       "       'julio20230811_.nwb_08_Seq2Sleep4_55_franklab_tetrode_hippocampus',\n",
       "       'julio20230811_.nwb_08_Seq2Sleep4_56_franklab_tetrode_hippocampus',\n",
       "       'julio20230811_.nwb_08_Seq2Sleep4_61_franklab_tetrode_hippocampus',\n",
       "       'julio20230811_.nwb_08_Seq2Sleep4_6_franklab_tetrode_hippocampus',\n",
       "       'julio20230811_.nwb_08_Seq2Sleep4_7_franklab_tetrode_hippocampus',\n",
       "       'julio20230811_.nwb_08_Seq2Sleep4_8_franklab_tetrode_hippocampus',\n",
       "       'julio20230811_.nwb_09_Seq2Session5_100_franklab_tetrode_hippocampus_ampl_100_prop_05_2ms_artifact_removed_valid_times',\n",
       "       'julio20230811_.nwb_09_Seq2Session5_101_franklab_tetrode_hippocampus_ampl_100_prop_05_2ms_artifact_removed_valid_times',\n",
       "       'julio20230811_.nwb_09_Seq2Session5_11_franklab_tetrode_hippocampus',\n",
       "       'julio20230811_.nwb_09_Seq2Session5_12_franklab_tetrode_hippocampus',\n",
       "       'julio20230811_.nwb_09_Seq2Session5_15_franklab_tetrode_hippocampus',\n",
       "       'julio20230811_.nwb_09_Seq2Session5_20_franklab_tetrode_hippocampus',\n",
       "       'julio20230811_.nwb_09_Seq2Session5_22_franklab_tetrode_hippocampus',\n",
       "       'julio20230811_.nwb_09_Seq2Session5_26_franklab_tetrode_hippocampus',\n",
       "       'julio20230811_.nwb_09_Seq2Session5_28_franklab_tetrode_hippocampus',\n",
       "       'julio20230811_.nwb_09_Seq2Session5_29_franklab_tetrode_hippocampus',\n",
       "       'julio20230811_.nwb_09_Seq2Session5_2_franklab_tetrode_hippocampus',\n",
       "       'julio20230811_.nwb_09_Seq2Session5_30_franklab_tetrode_hippocampus',\n",
       "       'julio20230811_.nwb_09_Seq2Session5_31_franklab_tetrode_hippocampus',\n",
       "       'julio20230811_.nwb_09_Seq2Session5_36_franklab_tetrode_hippocampus',\n",
       "       'julio20230811_.nwb_09_Seq2Session5_3_franklab_tetrode_hippocampus',\n",
       "       'julio20230811_.nwb_09_Seq2Session5_42_franklab_tetrode_hippocampus',\n",
       "       'julio20230811_.nwb_09_Seq2Session5_43_franklab_tetrode_hippocampus',\n",
       "       'julio20230811_.nwb_09_Seq2Session5_49_franklab_tetrode_hippocampus',\n",
       "       'julio20230811_.nwb_09_Seq2Session5_50_franklab_tetrode_hippocampus',\n",
       "       'julio20230811_.nwb_09_Seq2Session5_51_franklab_tetrode_hippocampus',\n",
       "       'julio20230811_.nwb_09_Seq2Session5_52_franklab_tetrode_hippocampus',\n",
       "       'julio20230811_.nwb_09_Seq2Session5_55_franklab_tetrode_hippocampus',\n",
       "       'julio20230811_.nwb_09_Seq2Session5_56_franklab_tetrode_hippocampus',\n",
       "       'julio20230811_.nwb_09_Seq2Session5_61_franklab_tetrode_hippocampus',\n",
       "       'julio20230811_.nwb_09_Seq2Session5_6_franklab_tetrode_hippocampus',\n",
       "       'julio20230811_.nwb_09_Seq2Session5_7_franklab_tetrode_hippocampus',\n",
       "       'julio20230811_.nwb_09_Seq2Session5_8_franklab_tetrode_hippocampus',\n",
       "       'julio20230811_.nwb_10_Seq2Sleep5_11_franklab_tetrode_hippocampus',\n",
       "       'julio20230811_.nwb_10_Seq2Sleep5_12_franklab_tetrode_hippocampus',\n",
       "       'julio20230811_.nwb_10_Seq2Sleep5_15_franklab_tetrode_hippocampus',\n",
       "       'julio20230811_.nwb_10_Seq2Sleep5_20_franklab_tetrode_hippocampus',\n",
       "       'julio20230811_.nwb_10_Seq2Sleep5_22_franklab_tetrode_hippocampus',\n",
       "       'julio20230811_.nwb_10_Seq2Sleep5_26_franklab_tetrode_hippocampus',\n",
       "       'julio20230811_.nwb_10_Seq2Sleep5_28_franklab_tetrode_hippocampus',\n",
       "       'julio20230811_.nwb_10_Seq2Sleep5_29_franklab_tetrode_hippocampus',\n",
       "       'julio20230811_.nwb_10_Seq2Sleep5_2_franklab_tetrode_hippocampus',\n",
       "       'julio20230811_.nwb_10_Seq2Sleep5_30_franklab_tetrode_hippocampus',\n",
       "       'julio20230811_.nwb_10_Seq2Sleep5_31_franklab_tetrode_hippocampus',\n",
       "       'julio20230811_.nwb_10_Seq2Sleep5_36_franklab_tetrode_hippocampus',\n",
       "       'julio20230811_.nwb_10_Seq2Sleep5_3_franklab_tetrode_hippocampus',\n",
       "       'julio20230811_.nwb_10_Seq2Sleep5_42_franklab_tetrode_hippocampus',\n",
       "       'julio20230811_.nwb_10_Seq2Sleep5_43_franklab_tetrode_hippocampus',\n",
       "       'julio20230811_.nwb_10_Seq2Sleep5_49_franklab_tetrode_hippocampus',\n",
       "       'julio20230811_.nwb_10_Seq2Sleep5_50_franklab_tetrode_hippocampus',\n",
       "       'julio20230811_.nwb_10_Seq2Sleep5_51_franklab_tetrode_hippocampus',\n",
       "       'julio20230811_.nwb_10_Seq2Sleep5_52_franklab_tetrode_hippocampus',\n",
       "       'julio20230811_.nwb_10_Seq2Sleep5_55_franklab_tetrode_hippocampus',\n",
       "       'julio20230811_.nwb_10_Seq2Sleep5_56_franklab_tetrode_hippocampus',\n",
       "       'julio20230811_.nwb_10_Seq2Sleep5_61_franklab_tetrode_hippocampus',\n",
       "       'julio20230811_.nwb_10_Seq2Sleep5_6_franklab_tetrode_hippocampus',\n",
       "       'julio20230811_.nwb_10_Seq2Sleep5_7_franklab_tetrode_hippocampus',\n",
       "       'julio20230811_.nwb_10_Seq2Sleep5_8_franklab_tetrode_hippocampus',\n",
       "       'pos 0 valid times', 'pos 1 valid times', 'pos 2 valid times',\n",
       "       'pos 3 valid times', 'pos 4 valid times', 'pos 5 valid times',\n",
       "       'pos 6 valid times', 'pos 7 valid times', 'pos 8 valid times',\n",
       "       'pos 9 valid times', 'raw data valid times'], dtype=object)"
      ]
     },
     "execution_count": 80,
     "metadata": {},
     "output_type": "execute_result"
    }
   ],
   "source": [
    "intvls"
   ]
  },
  {
   "cell_type": "code",
   "execution_count": 83,
   "id": "1812b28c-874a-449b-84e7-d5502f21ef22",
   "metadata": {
    "scrolled": true
   },
   "outputs": [
    {
     "name": "stderr",
     "output_type": "stream",
     "text": [
      "[15:47:06][INFO] Spyglass: Queueing delete for session(s):\n",
      "*nwb_file_name *lab_member_na\n",
      "+------------+ +------------+\n",
      "Julio20230811_ Shijie Gu     \n",
      " (Total: 1)\n",
      "\n",
      "21-Apr-25 15:47:06 Queueing delete for session(s):\n",
      "*nwb_file_name *lab_member_na\n",
      "+------------+ +------------+\n",
      "Julio20230811_ Shijie Gu     \n",
      " (Total: 1)\n",
      "\n",
      "[15:47:09][INFO] Spyglass: Building merge cache for interval_list.\n",
      "\tFound 5 downstream merge tables\n",
      "21-Apr-25 15:47:09 Building merge cache for interval_list.\n",
      "\tFound 5 downstream merge tables\n",
      "[2025-04-21 15:47:10,859][INFO]: Deleting 1 rows from `common_interval`.`interval_list`\n",
      "21-Apr-25 15:47:10 Deleting 1 rows from `common_interval`.`interval_list`\n"
     ]
    },
    {
     "name": "stdin",
     "output_type": "stream",
     "text": [
      "Commit deletes? [yes, No]:  yes\n"
     ]
    },
    {
     "name": "stderr",
     "output_type": "stream",
     "text": [
      "[2025-04-21 15:47:12,531][INFO]: Deletes committed.\n",
      "21-Apr-25 15:47:12 Deletes committed.\n",
      "[15:47:12][INFO] Spyglass: Queueing delete for session(s):\n",
      "*nwb_file_name *lab_member_na\n",
      "+------------+ +------------+\n",
      "Julio20230811_ Shijie Gu     \n",
      " (Total: 1)\n",
      "\n",
      "21-Apr-25 15:47:12 Queueing delete for session(s):\n",
      "*nwb_file_name *lab_member_na\n",
      "+------------+ +------------+\n",
      "Julio20230811_ Shijie Gu     \n",
      " (Total: 1)\n",
      "\n",
      "[15:47:15][INFO] Spyglass: Building merge cache for interval_list.\n",
      "\tFound 5 downstream merge tables\n",
      "21-Apr-25 15:47:15 Building merge cache for interval_list.\n",
      "\tFound 5 downstream merge tables\n",
      "[2025-04-21 15:47:16,574][INFO]: Deleting 1 rows from `common_interval`.`interval_list`\n",
      "21-Apr-25 15:47:16 Deleting 1 rows from `common_interval`.`interval_list`\n"
     ]
    },
    {
     "name": "stdin",
     "output_type": "stream",
     "text": [
      "Commit deletes? [yes, No]:  yes\n"
     ]
    },
    {
     "name": "stderr",
     "output_type": "stream",
     "text": [
      "[2025-04-21 15:47:20,555][INFO]: Deletes committed.\n",
      "21-Apr-25 15:47:20 Deletes committed.\n",
      "[15:47:20][INFO] Spyglass: Queueing delete for session(s):\n",
      "*nwb_file_name *lab_member_na\n",
      "+------------+ +------------+\n",
      "Julio20230811_ Shijie Gu     \n",
      " (Total: 1)\n",
      "\n",
      "21-Apr-25 15:47:20 Queueing delete for session(s):\n",
      "*nwb_file_name *lab_member_na\n",
      "+------------+ +------------+\n",
      "Julio20230811_ Shijie Gu     \n",
      " (Total: 1)\n",
      "\n",
      "[15:47:23][INFO] Spyglass: Building merge cache for interval_list.\n",
      "\tFound 5 downstream merge tables\n",
      "21-Apr-25 15:47:23 Building merge cache for interval_list.\n",
      "\tFound 5 downstream merge tables\n",
      "[2025-04-21 15:47:24,407][INFO]: Deleting 1 rows from `common_interval`.`interval_list`\n",
      "21-Apr-25 15:47:24 Deleting 1 rows from `common_interval`.`interval_list`\n"
     ]
    },
    {
     "name": "stdin",
     "output_type": "stream",
     "text": [
      "Commit deletes? [yes, No]:  yes\n"
     ]
    },
    {
     "name": "stderr",
     "output_type": "stream",
     "text": [
      "[2025-04-21 15:47:25,798][INFO]: Deletes committed.\n",
      "21-Apr-25 15:47:25 Deletes committed.\n",
      "[15:47:25][INFO] Spyglass: Queueing delete for session(s):\n",
      "*nwb_file_name *lab_member_na\n",
      "+------------+ +------------+\n",
      "Julio20230811_ Shijie Gu     \n",
      " (Total: 1)\n",
      "\n",
      "21-Apr-25 15:47:25 Queueing delete for session(s):\n",
      "*nwb_file_name *lab_member_na\n",
      "+------------+ +------------+\n",
      "Julio20230811_ Shijie Gu     \n",
      " (Total: 1)\n",
      "\n",
      "[15:47:28][INFO] Spyglass: Building merge cache for interval_list.\n",
      "\tFound 5 downstream merge tables\n",
      "21-Apr-25 15:47:28 Building merge cache for interval_list.\n",
      "\tFound 5 downstream merge tables\n",
      "[2025-04-21 15:47:29,521][INFO]: Deleting 1 rows from `common_interval`.`interval_list`\n",
      "21-Apr-25 15:47:29 Deleting 1 rows from `common_interval`.`interval_list`\n"
     ]
    },
    {
     "name": "stdin",
     "output_type": "stream",
     "text": [
      "Commit deletes? [yes, No]:  yes\n"
     ]
    },
    {
     "name": "stderr",
     "output_type": "stream",
     "text": [
      "[2025-04-21 15:47:30,805][INFO]: Deletes committed.\n",
      "21-Apr-25 15:47:30 Deletes committed.\n",
      "[15:47:30][INFO] Spyglass: Queueing delete for session(s):\n",
      "*nwb_file_name *lab_member_na\n",
      "+------------+ +------------+\n",
      "Julio20230811_ Shijie Gu     \n",
      " (Total: 1)\n",
      "\n",
      "21-Apr-25 15:47:30 Queueing delete for session(s):\n",
      "*nwb_file_name *lab_member_na\n",
      "+------------+ +------------+\n",
      "Julio20230811_ Shijie Gu     \n",
      " (Total: 1)\n",
      "\n",
      "[15:47:33][INFO] Spyglass: Building merge cache for interval_list.\n",
      "\tFound 5 downstream merge tables\n",
      "21-Apr-25 15:47:33 Building merge cache for interval_list.\n",
      "\tFound 5 downstream merge tables\n",
      "[2025-04-21 15:47:34,646][INFO]: Deleting 1 rows from `common_interval`.`interval_list`\n",
      "21-Apr-25 15:47:34 Deleting 1 rows from `common_interval`.`interval_list`\n"
     ]
    },
    {
     "name": "stdin",
     "output_type": "stream",
     "text": [
      "Commit deletes? [yes, No]:  yes\n"
     ]
    },
    {
     "name": "stderr",
     "output_type": "stream",
     "text": [
      "[2025-04-21 15:47:35,959][INFO]: Deletes committed.\n",
      "21-Apr-25 15:47:35 Deletes committed.\n",
      "[15:47:36][INFO] Spyglass: Queueing delete for session(s):\n",
      "*nwb_file_name *lab_member_na\n",
      "+------------+ +------------+\n",
      "Julio20230811_ Shijie Gu     \n",
      " (Total: 1)\n",
      "\n",
      "21-Apr-25 15:47:36 Queueing delete for session(s):\n",
      "*nwb_file_name *lab_member_na\n",
      "+------------+ +------------+\n",
      "Julio20230811_ Shijie Gu     \n",
      " (Total: 1)\n",
      "\n",
      "[15:47:39][INFO] Spyglass: Building merge cache for interval_list.\n",
      "\tFound 5 downstream merge tables\n",
      "21-Apr-25 15:47:39 Building merge cache for interval_list.\n",
      "\tFound 5 downstream merge tables\n",
      "[2025-04-21 15:47:40,094][INFO]: Deleting 1 rows from `common_interval`.`interval_list`\n",
      "21-Apr-25 15:47:40 Deleting 1 rows from `common_interval`.`interval_list`\n"
     ]
    },
    {
     "name": "stdin",
     "output_type": "stream",
     "text": [
      "Commit deletes? [yes, No]:  yes\n"
     ]
    },
    {
     "name": "stderr",
     "output_type": "stream",
     "text": [
      "[2025-04-21 15:47:41,269][INFO]: Deletes committed.\n",
      "21-Apr-25 15:47:41 Deletes committed.\n",
      "[15:47:41][INFO] Spyglass: Queueing delete for session(s):\n",
      "*nwb_file_name *lab_member_na\n",
      "+------------+ +------------+\n",
      "Julio20230811_ Shijie Gu     \n",
      " (Total: 1)\n",
      "\n",
      "21-Apr-25 15:47:41 Queueing delete for session(s):\n",
      "*nwb_file_name *lab_member_na\n",
      "+------------+ +------------+\n",
      "Julio20230811_ Shijie Gu     \n",
      " (Total: 1)\n",
      "\n",
      "[15:47:43][INFO] Spyglass: Building merge cache for interval_list.\n",
      "\tFound 5 downstream merge tables\n",
      "21-Apr-25 15:47:43 Building merge cache for interval_list.\n",
      "\tFound 5 downstream merge tables\n",
      "[2025-04-21 15:47:44,888][INFO]: Deleting 1 rows from `common_interval`.`interval_list`\n",
      "21-Apr-25 15:47:44 Deleting 1 rows from `common_interval`.`interval_list`\n"
     ]
    },
    {
     "name": "stdin",
     "output_type": "stream",
     "text": [
      "Commit deletes? [yes, No]:  yes\n"
     ]
    },
    {
     "name": "stderr",
     "output_type": "stream",
     "text": [
      "[2025-04-21 15:47:46,182][INFO]: Deletes committed.\n",
      "21-Apr-25 15:47:46 Deletes committed.\n",
      "[15:47:46][INFO] Spyglass: Queueing delete for session(s):\n",
      "*nwb_file_name *lab_member_na\n",
      "+------------+ +------------+\n",
      "Julio20230811_ Shijie Gu     \n",
      " (Total: 1)\n",
      "\n",
      "21-Apr-25 15:47:46 Queueing delete for session(s):\n",
      "*nwb_file_name *lab_member_na\n",
      "+------------+ +------------+\n",
      "Julio20230811_ Shijie Gu     \n",
      " (Total: 1)\n",
      "\n",
      "[15:47:49][INFO] Spyglass: Building merge cache for interval_list.\n",
      "\tFound 5 downstream merge tables\n",
      "21-Apr-25 15:47:49 Building merge cache for interval_list.\n",
      "\tFound 5 downstream merge tables\n",
      "[2025-04-21 15:47:50,154][INFO]: Deleting 1 rows from `common_interval`.`interval_list`\n",
      "21-Apr-25 15:47:50 Deleting 1 rows from `common_interval`.`interval_list`\n"
     ]
    },
    {
     "name": "stdin",
     "output_type": "stream",
     "text": [
      "Commit deletes? [yes, No]:  yes\n"
     ]
    },
    {
     "name": "stderr",
     "output_type": "stream",
     "text": [
      "[2025-04-21 15:47:51,578][INFO]: Deletes committed.\n",
      "21-Apr-25 15:47:51 Deletes committed.\n",
      "[15:47:51][INFO] Spyglass: Queueing delete for session(s):\n",
      "*nwb_file_name *lab_member_na\n",
      "+------------+ +------------+\n",
      "Julio20230811_ Shijie Gu     \n",
      " (Total: 1)\n",
      "\n",
      "21-Apr-25 15:47:51 Queueing delete for session(s):\n",
      "*nwb_file_name *lab_member_na\n",
      "+------------+ +------------+\n",
      "Julio20230811_ Shijie Gu     \n",
      " (Total: 1)\n",
      "\n",
      "[15:47:54][INFO] Spyglass: Building merge cache for interval_list.\n",
      "\tFound 5 downstream merge tables\n",
      "21-Apr-25 15:47:54 Building merge cache for interval_list.\n",
      "\tFound 5 downstream merge tables\n",
      "[2025-04-21 15:47:54,955][INFO]: Deleting 1 rows from `common_interval`.`interval_list`\n",
      "21-Apr-25 15:47:54 Deleting 1 rows from `common_interval`.`interval_list`\n"
     ]
    },
    {
     "name": "stdin",
     "output_type": "stream",
     "text": [
      "Commit deletes? [yes, No]:  yes\n"
     ]
    },
    {
     "name": "stderr",
     "output_type": "stream",
     "text": [
      "[2025-04-21 15:47:56,365][INFO]: Deletes committed.\n",
      "21-Apr-25 15:47:56 Deletes committed.\n",
      "[15:47:56][INFO] Spyglass: Queueing delete for session(s):\n",
      "*nwb_file_name *lab_member_na\n",
      "+------------+ +------------+\n",
      "Julio20230811_ Shijie Gu     \n",
      " (Total: 1)\n",
      "\n",
      "21-Apr-25 15:47:56 Queueing delete for session(s):\n",
      "*nwb_file_name *lab_member_na\n",
      "+------------+ +------------+\n",
      "Julio20230811_ Shijie Gu     \n",
      " (Total: 1)\n",
      "\n",
      "[15:47:59][INFO] Spyglass: Building merge cache for interval_list.\n",
      "\tFound 5 downstream merge tables\n",
      "21-Apr-25 15:47:59 Building merge cache for interval_list.\n",
      "\tFound 5 downstream merge tables\n",
      "[2025-04-21 15:48:00,177][INFO]: Deleting 1 rows from `common_interval`.`interval_list`\n",
      "21-Apr-25 15:48:00 Deleting 1 rows from `common_interval`.`interval_list`\n"
     ]
    },
    {
     "name": "stdin",
     "output_type": "stream",
     "text": [
      "Commit deletes? [yes, No]:  yes\n"
     ]
    },
    {
     "name": "stderr",
     "output_type": "stream",
     "text": [
      "[2025-04-21 15:48:01,545][INFO]: Deletes committed.\n",
      "21-Apr-25 15:48:01 Deletes committed.\n",
      "[15:48:01][INFO] Spyglass: Queueing delete for session(s):\n",
      "*nwb_file_name *lab_member_na\n",
      "+------------+ +------------+\n",
      "Julio20230811_ Shijie Gu     \n",
      " (Total: 1)\n",
      "\n",
      "21-Apr-25 15:48:01 Queueing delete for session(s):\n",
      "*nwb_file_name *lab_member_na\n",
      "+------------+ +------------+\n",
      "Julio20230811_ Shijie Gu     \n",
      " (Total: 1)\n",
      "\n",
      "[15:48:04][INFO] Spyglass: Building merge cache for interval_list.\n",
      "\tFound 5 downstream merge tables\n",
      "21-Apr-25 15:48:04 Building merge cache for interval_list.\n",
      "\tFound 5 downstream merge tables\n",
      "[2025-04-21 15:48:05,561][INFO]: Deleting 1 rows from `common_interval`.`interval_list`\n",
      "21-Apr-25 15:48:05 Deleting 1 rows from `common_interval`.`interval_list`\n"
     ]
    },
    {
     "name": "stdin",
     "output_type": "stream",
     "text": [
      "Commit deletes? [yes, No]:  yes\n"
     ]
    },
    {
     "name": "stderr",
     "output_type": "stream",
     "text": [
      "[2025-04-21 15:48:06,754][INFO]: Deletes committed.\n",
      "21-Apr-25 15:48:06 Deletes committed.\n",
      "[15:48:06][INFO] Spyglass: Queueing delete for session(s):\n",
      "*nwb_file_name *lab_member_na\n",
      "+------------+ +------------+\n",
      "Julio20230811_ Shijie Gu     \n",
      " (Total: 1)\n",
      "\n",
      "21-Apr-25 15:48:06 Queueing delete for session(s):\n",
      "*nwb_file_name *lab_member_na\n",
      "+------------+ +------------+\n",
      "Julio20230811_ Shijie Gu     \n",
      " (Total: 1)\n",
      "\n",
      "[15:48:09][INFO] Spyglass: Building merge cache for interval_list.\n",
      "\tFound 5 downstream merge tables\n",
      "21-Apr-25 15:48:09 Building merge cache for interval_list.\n",
      "\tFound 5 downstream merge tables\n",
      "[2025-04-21 15:48:10,842][INFO]: Deleting 1 rows from `common_interval`.`interval_list`\n",
      "21-Apr-25 15:48:10 Deleting 1 rows from `common_interval`.`interval_list`\n"
     ]
    },
    {
     "name": "stdin",
     "output_type": "stream",
     "text": [
      "Commit deletes? [yes, No]:  yes\n"
     ]
    },
    {
     "name": "stderr",
     "output_type": "stream",
     "text": [
      "[2025-04-21 15:48:12,400][INFO]: Deletes committed.\n",
      "21-Apr-25 15:48:12 Deletes committed.\n",
      "[15:48:12][INFO] Spyglass: Queueing delete for session(s):\n",
      "*nwb_file_name *lab_member_na\n",
      "+------------+ +------------+\n",
      "Julio20230811_ Shijie Gu     \n",
      " (Total: 1)\n",
      "\n",
      "21-Apr-25 15:48:12 Queueing delete for session(s):\n",
      "*nwb_file_name *lab_member_na\n",
      "+------------+ +------------+\n",
      "Julio20230811_ Shijie Gu     \n",
      " (Total: 1)\n",
      "\n",
      "[15:48:15][INFO] Spyglass: Building merge cache for interval_list.\n",
      "\tFound 5 downstream merge tables\n",
      "21-Apr-25 15:48:15 Building merge cache for interval_list.\n",
      "\tFound 5 downstream merge tables\n",
      "[2025-04-21 15:48:16,030][INFO]: Deleting 1 rows from `common_interval`.`interval_list`\n",
      "21-Apr-25 15:48:16 Deleting 1 rows from `common_interval`.`interval_list`\n"
     ]
    },
    {
     "name": "stdin",
     "output_type": "stream",
     "text": [
      "Commit deletes? [yes, No]:  yes\n"
     ]
    },
    {
     "name": "stderr",
     "output_type": "stream",
     "text": [
      "[2025-04-21 15:48:17,328][INFO]: Deletes committed.\n",
      "21-Apr-25 15:48:17 Deletes committed.\n",
      "[15:48:17][INFO] Spyglass: Queueing delete for session(s):\n",
      "*nwb_file_name *lab_member_na\n",
      "+------------+ +------------+\n",
      "Julio20230811_ Shijie Gu     \n",
      " (Total: 1)\n",
      "\n",
      "21-Apr-25 15:48:17 Queueing delete for session(s):\n",
      "*nwb_file_name *lab_member_na\n",
      "+------------+ +------------+\n",
      "Julio20230811_ Shijie Gu     \n",
      " (Total: 1)\n",
      "\n",
      "[15:48:20][INFO] Spyglass: Building merge cache for interval_list.\n",
      "\tFound 5 downstream merge tables\n",
      "21-Apr-25 15:48:20 Building merge cache for interval_list.\n",
      "\tFound 5 downstream merge tables\n",
      "[2025-04-21 15:48:21,379][INFO]: Deleting 1 rows from `common_interval`.`interval_list`\n",
      "21-Apr-25 15:48:21 Deleting 1 rows from `common_interval`.`interval_list`\n"
     ]
    },
    {
     "name": "stdin",
     "output_type": "stream",
     "text": [
      "Commit deletes? [yes, No]:  yes\n"
     ]
    },
    {
     "name": "stderr",
     "output_type": "stream",
     "text": [
      "[2025-04-21 15:48:22,637][INFO]: Deletes committed.\n",
      "21-Apr-25 15:48:22 Deletes committed.\n",
      "[15:48:22][INFO] Spyglass: Queueing delete for session(s):\n",
      "*nwb_file_name *lab_member_na\n",
      "+------------+ +------------+\n",
      "Julio20230811_ Shijie Gu     \n",
      " (Total: 1)\n",
      "\n",
      "21-Apr-25 15:48:22 Queueing delete for session(s):\n",
      "*nwb_file_name *lab_member_na\n",
      "+------------+ +------------+\n",
      "Julio20230811_ Shijie Gu     \n",
      " (Total: 1)\n",
      "\n",
      "[15:48:25][INFO] Spyglass: Building merge cache for interval_list.\n",
      "\tFound 5 downstream merge tables\n",
      "21-Apr-25 15:48:25 Building merge cache for interval_list.\n",
      "\tFound 5 downstream merge tables\n",
      "[2025-04-21 15:48:26,507][INFO]: Deleting 1 rows from `common_interval`.`interval_list`\n",
      "21-Apr-25 15:48:26 Deleting 1 rows from `common_interval`.`interval_list`\n"
     ]
    },
    {
     "name": "stdin",
     "output_type": "stream",
     "text": [
      "Commit deletes? [yes, No]:  yes\n"
     ]
    },
    {
     "name": "stderr",
     "output_type": "stream",
     "text": [
      "[2025-04-21 15:48:29,326][INFO]: Deletes committed.\n",
      "21-Apr-25 15:48:29 Deletes committed.\n",
      "[15:48:29][INFO] Spyglass: Queueing delete for session(s):\n",
      "*nwb_file_name *lab_member_na\n",
      "+------------+ +------------+\n",
      "Julio20230811_ Shijie Gu     \n",
      " (Total: 1)\n",
      "\n",
      "21-Apr-25 15:48:29 Queueing delete for session(s):\n",
      "*nwb_file_name *lab_member_na\n",
      "+------------+ +------------+\n",
      "Julio20230811_ Shijie Gu     \n",
      " (Total: 1)\n",
      "\n",
      "[15:48:32][INFO] Spyglass: Building merge cache for interval_list.\n",
      "\tFound 5 downstream merge tables\n",
      "21-Apr-25 15:48:32 Building merge cache for interval_list.\n",
      "\tFound 5 downstream merge tables\n",
      "[2025-04-21 15:48:33,274][INFO]: Deleting 1 rows from `common_interval`.`interval_list`\n",
      "21-Apr-25 15:48:33 Deleting 1 rows from `common_interval`.`interval_list`\n"
     ]
    },
    {
     "name": "stdin",
     "output_type": "stream",
     "text": [
      "Commit deletes? [yes, No]:  yes\n"
     ]
    },
    {
     "name": "stderr",
     "output_type": "stream",
     "text": [
      "[2025-04-21 15:48:35,228][INFO]: Deletes committed.\n",
      "21-Apr-25 15:48:35 Deletes committed.\n",
      "[15:48:35][INFO] Spyglass: Queueing delete for session(s):\n",
      "*nwb_file_name *lab_member_na\n",
      "+------------+ +------------+\n",
      "Julio20230811_ Shijie Gu     \n",
      " (Total: 1)\n",
      "\n",
      "21-Apr-25 15:48:35 Queueing delete for session(s):\n",
      "*nwb_file_name *lab_member_na\n",
      "+------------+ +------------+\n",
      "Julio20230811_ Shijie Gu     \n",
      " (Total: 1)\n",
      "\n",
      "[15:48:38][INFO] Spyglass: Building merge cache for interval_list.\n",
      "\tFound 5 downstream merge tables\n",
      "21-Apr-25 15:48:38 Building merge cache for interval_list.\n",
      "\tFound 5 downstream merge tables\n",
      "[2025-04-21 15:48:39,305][INFO]: Deleting 1 rows from `common_interval`.`interval_list`\n",
      "21-Apr-25 15:48:39 Deleting 1 rows from `common_interval`.`interval_list`\n"
     ]
    },
    {
     "name": "stdin",
     "output_type": "stream",
     "text": [
      "Commit deletes? [yes, No]:  yes\n"
     ]
    },
    {
     "name": "stderr",
     "output_type": "stream",
     "text": [
      "[2025-04-21 15:48:40,744][INFO]: Deletes committed.\n",
      "21-Apr-25 15:48:40 Deletes committed.\n",
      "[15:48:40][INFO] Spyglass: Queueing delete for session(s):\n",
      "*nwb_file_name *lab_member_na\n",
      "+------------+ +------------+\n",
      "Julio20230811_ Shijie Gu     \n",
      " (Total: 1)\n",
      "\n",
      "21-Apr-25 15:48:40 Queueing delete for session(s):\n",
      "*nwb_file_name *lab_member_na\n",
      "+------------+ +------------+\n",
      "Julio20230811_ Shijie Gu     \n",
      " (Total: 1)\n",
      "\n",
      "[15:48:43][INFO] Spyglass: Building merge cache for interval_list.\n",
      "\tFound 5 downstream merge tables\n",
      "21-Apr-25 15:48:43 Building merge cache for interval_list.\n",
      "\tFound 5 downstream merge tables\n",
      "[2025-04-21 15:48:44,486][INFO]: Deleting 1 rows from `common_interval`.`interval_list`\n",
      "21-Apr-25 15:48:44 Deleting 1 rows from `common_interval`.`interval_list`\n"
     ]
    },
    {
     "name": "stdin",
     "output_type": "stream",
     "text": [
      "Commit deletes? [yes, No]:  yes\n"
     ]
    },
    {
     "name": "stderr",
     "output_type": "stream",
     "text": [
      "[2025-04-21 15:48:45,990][INFO]: Deletes committed.\n",
      "21-Apr-25 15:48:45 Deletes committed.\n",
      "[15:48:46][INFO] Spyglass: Queueing delete for session(s):\n",
      "*nwb_file_name *lab_member_na\n",
      "+------------+ +------------+\n",
      "Julio20230811_ Shijie Gu     \n",
      " (Total: 1)\n",
      "\n",
      "21-Apr-25 15:48:46 Queueing delete for session(s):\n",
      "*nwb_file_name *lab_member_na\n",
      "+------------+ +------------+\n",
      "Julio20230811_ Shijie Gu     \n",
      " (Total: 1)\n",
      "\n",
      "[15:48:48][INFO] Spyglass: Building merge cache for interval_list.\n",
      "\tFound 5 downstream merge tables\n",
      "21-Apr-25 15:48:48 Building merge cache for interval_list.\n",
      "\tFound 5 downstream merge tables\n",
      "[2025-04-21 15:48:49,795][INFO]: Deleting 1 rows from `common_interval`.`interval_list`\n",
      "21-Apr-25 15:48:49 Deleting 1 rows from `common_interval`.`interval_list`\n"
     ]
    },
    {
     "name": "stdin",
     "output_type": "stream",
     "text": [
      "Commit deletes? [yes, No]:  yes\n"
     ]
    },
    {
     "name": "stderr",
     "output_type": "stream",
     "text": [
      "[2025-04-21 15:48:51,062][INFO]: Deletes committed.\n",
      "21-Apr-25 15:48:51 Deletes committed.\n",
      "[15:48:51][INFO] Spyglass: Queueing delete for session(s):\n",
      "*nwb_file_name *lab_member_na\n",
      "+------------+ +------------+\n",
      "Julio20230811_ Shijie Gu     \n",
      " (Total: 1)\n",
      "\n",
      "21-Apr-25 15:48:51 Queueing delete for session(s):\n",
      "*nwb_file_name *lab_member_na\n",
      "+------------+ +------------+\n",
      "Julio20230811_ Shijie Gu     \n",
      " (Total: 1)\n",
      "\n",
      "[15:48:54][INFO] Spyglass: Building merge cache for interval_list.\n",
      "\tFound 5 downstream merge tables\n",
      "21-Apr-25 15:48:54 Building merge cache for interval_list.\n",
      "\tFound 5 downstream merge tables\n",
      "[2025-04-21 15:48:55,117][INFO]: Deleting 1 rows from `common_interval`.`interval_list`\n",
      "21-Apr-25 15:48:55 Deleting 1 rows from `common_interval`.`interval_list`\n"
     ]
    },
    {
     "name": "stdin",
     "output_type": "stream",
     "text": [
      "Commit deletes? [yes, No]:  yes\n"
     ]
    },
    {
     "name": "stderr",
     "output_type": "stream",
     "text": [
      "[2025-04-21 15:49:00,193][INFO]: Deletes committed.\n",
      "21-Apr-25 15:49:00 Deletes committed.\n",
      "[15:49:00][INFO] Spyglass: Queueing delete for session(s):\n",
      "*nwb_file_name *lab_member_na\n",
      "+------------+ +------------+\n",
      "Julio20230811_ Shijie Gu     \n",
      " (Total: 1)\n",
      "\n",
      "21-Apr-25 15:49:00 Queueing delete for session(s):\n",
      "*nwb_file_name *lab_member_na\n",
      "+------------+ +------------+\n",
      "Julio20230811_ Shijie Gu     \n",
      " (Total: 1)\n",
      "\n",
      "[15:49:03][INFO] Spyglass: Building merge cache for interval_list.\n",
      "\tFound 5 downstream merge tables\n",
      "21-Apr-25 15:49:03 Building merge cache for interval_list.\n",
      "\tFound 5 downstream merge tables\n",
      "[2025-04-21 15:49:04,372][INFO]: Deleting 1 rows from `common_interval`.`interval_list`\n",
      "21-Apr-25 15:49:04 Deleting 1 rows from `common_interval`.`interval_list`\n"
     ]
    },
    {
     "name": "stdin",
     "output_type": "stream",
     "text": [
      "Commit deletes? [yes, No]:  yes\n"
     ]
    },
    {
     "name": "stderr",
     "output_type": "stream",
     "text": [
      "[2025-04-21 15:49:05,859][INFO]: Deletes committed.\n",
      "21-Apr-25 15:49:05 Deletes committed.\n",
      "[15:49:05][INFO] Spyglass: Queueing delete for session(s):\n",
      "*nwb_file_name *lab_member_na\n",
      "+------------+ +------------+\n",
      "Julio20230811_ Shijie Gu     \n",
      " (Total: 1)\n",
      "\n",
      "21-Apr-25 15:49:05 Queueing delete for session(s):\n",
      "*nwb_file_name *lab_member_na\n",
      "+------------+ +------------+\n",
      "Julio20230811_ Shijie Gu     \n",
      " (Total: 1)\n",
      "\n",
      "[15:49:09][INFO] Spyglass: Building merge cache for interval_list.\n",
      "\tFound 5 downstream merge tables\n",
      "21-Apr-25 15:49:09 Building merge cache for interval_list.\n",
      "\tFound 5 downstream merge tables\n",
      "[2025-04-21 15:49:10,077][INFO]: Deleting 1 rows from `common_interval`.`interval_list`\n",
      "21-Apr-25 15:49:10 Deleting 1 rows from `common_interval`.`interval_list`\n"
     ]
    },
    {
     "name": "stdin",
     "output_type": "stream",
     "text": [
      "Commit deletes? [yes, No]:  yes\n"
     ]
    },
    {
     "name": "stderr",
     "output_type": "stream",
     "text": [
      "[2025-04-21 15:49:11,877][INFO]: Deletes committed.\n",
      "21-Apr-25 15:49:11 Deletes committed.\n",
      "[15:49:11][INFO] Spyglass: Queueing delete for session(s):\n",
      "*nwb_file_name *lab_member_na\n",
      "+------------+ +------------+\n",
      "Julio20230811_ Shijie Gu     \n",
      " (Total: 1)\n",
      "\n",
      "21-Apr-25 15:49:11 Queueing delete for session(s):\n",
      "*nwb_file_name *lab_member_na\n",
      "+------------+ +------------+\n",
      "Julio20230811_ Shijie Gu     \n",
      " (Total: 1)\n",
      "\n",
      "[15:49:14][INFO] Spyglass: Building merge cache for interval_list.\n",
      "\tFound 5 downstream merge tables\n",
      "21-Apr-25 15:49:14 Building merge cache for interval_list.\n",
      "\tFound 5 downstream merge tables\n",
      "[2025-04-21 15:49:15,910][INFO]: Deleting 1 rows from `common_interval`.`interval_list`\n",
      "21-Apr-25 15:49:15 Deleting 1 rows from `common_interval`.`interval_list`\n"
     ]
    },
    {
     "name": "stdin",
     "output_type": "stream",
     "text": [
      "Commit deletes? [yes, No]:  yes\n"
     ]
    },
    {
     "name": "stderr",
     "output_type": "stream",
     "text": [
      "[2025-04-21 15:49:18,424][INFO]: Deletes committed.\n",
      "21-Apr-25 15:49:18 Deletes committed.\n",
      "[15:49:18][INFO] Spyglass: Queueing delete for session(s):\n",
      "*nwb_file_name *lab_member_na\n",
      "+------------+ +------------+\n",
      "Julio20230811_ Shijie Gu     \n",
      " (Total: 1)\n",
      "\n",
      "21-Apr-25 15:49:18 Queueing delete for session(s):\n",
      "*nwb_file_name *lab_member_na\n",
      "+------------+ +------------+\n",
      "Julio20230811_ Shijie Gu     \n",
      " (Total: 1)\n",
      "\n",
      "[15:49:21][INFO] Spyglass: Building merge cache for interval_list.\n",
      "\tFound 5 downstream merge tables\n",
      "21-Apr-25 15:49:21 Building merge cache for interval_list.\n",
      "\tFound 5 downstream merge tables\n",
      "[2025-04-21 15:49:22,460][INFO]: Deleting 1 rows from `common_interval`.`interval_list`\n",
      "21-Apr-25 15:49:22 Deleting 1 rows from `common_interval`.`interval_list`\n"
     ]
    },
    {
     "name": "stdin",
     "output_type": "stream",
     "text": [
      "Commit deletes? [yes, No]:  yes\n"
     ]
    },
    {
     "name": "stderr",
     "output_type": "stream",
     "text": [
      "[2025-04-21 15:49:24,040][INFO]: Deletes committed.\n",
      "21-Apr-25 15:49:24 Deletes committed.\n",
      "[15:49:24][INFO] Spyglass: Queueing delete for session(s):\n",
      "*nwb_file_name *lab_member_na\n",
      "+------------+ +------------+\n",
      "Julio20230811_ Shijie Gu     \n",
      " (Total: 1)\n",
      "\n",
      "21-Apr-25 15:49:24 Queueing delete for session(s):\n",
      "*nwb_file_name *lab_member_na\n",
      "+------------+ +------------+\n",
      "Julio20230811_ Shijie Gu     \n",
      " (Total: 1)\n",
      "\n",
      "[15:49:26][INFO] Spyglass: Building merge cache for interval_list.\n",
      "\tFound 5 downstream merge tables\n",
      "21-Apr-25 15:49:26 Building merge cache for interval_list.\n",
      "\tFound 5 downstream merge tables\n",
      "[2025-04-21 15:49:27,971][INFO]: Deleting 1 rows from `common_interval`.`interval_list`\n",
      "21-Apr-25 15:49:27 Deleting 1 rows from `common_interval`.`interval_list`\n"
     ]
    },
    {
     "name": "stdin",
     "output_type": "stream",
     "text": [
      "Commit deletes? [yes, No]:  yes\n"
     ]
    },
    {
     "name": "stderr",
     "output_type": "stream",
     "text": [
      "[2025-04-21 15:49:29,540][INFO]: Deletes committed.\n",
      "21-Apr-25 15:49:29 Deletes committed.\n",
      "[15:49:29][INFO] Spyglass: Queueing delete for session(s):\n",
      "*nwb_file_name *lab_member_na\n",
      "+------------+ +------------+\n",
      "julio20230811_ Shijie Gu     \n",
      " (Total: 1)\n",
      "\n",
      "21-Apr-25 15:49:29 Queueing delete for session(s):\n",
      "*nwb_file_name *lab_member_na\n",
      "+------------+ +------------+\n",
      "julio20230811_ Shijie Gu     \n",
      " (Total: 1)\n",
      "\n",
      "[15:49:31][INFO] Spyglass: Building merge cache for interval_list.\n",
      "\tFound 5 downstream merge tables\n",
      "21-Apr-25 15:49:31 Building merge cache for interval_list.\n",
      "\tFound 5 downstream merge tables\n",
      "[2025-04-21 15:49:32,408][INFO]: Deleting 1 rows from `common_interval`.`interval_list`\n",
      "21-Apr-25 15:49:32 Deleting 1 rows from `common_interval`.`interval_list`\n"
     ]
    },
    {
     "name": "stdin",
     "output_type": "stream",
     "text": [
      "Commit deletes? [yes, No]:  yes\n"
     ]
    },
    {
     "name": "stderr",
     "output_type": "stream",
     "text": [
      "[2025-04-21 15:49:33,915][INFO]: Deletes committed.\n",
      "21-Apr-25 15:49:33 Deletes committed.\n",
      "[15:49:33][INFO] Spyglass: Queueing delete for session(s):\n",
      "*nwb_file_name *lab_member_na\n",
      "+------------+ +------------+\n",
      "julio20230811_ Shijie Gu     \n",
      " (Total: 1)\n",
      "\n",
      "21-Apr-25 15:49:33 Queueing delete for session(s):\n",
      "*nwb_file_name *lab_member_na\n",
      "+------------+ +------------+\n",
      "julio20230811_ Shijie Gu     \n",
      " (Total: 1)\n",
      "\n",
      "[15:49:36][INFO] Spyglass: Building merge cache for interval_list.\n",
      "\tFound 5 downstream merge tables\n",
      "21-Apr-25 15:49:36 Building merge cache for interval_list.\n",
      "\tFound 5 downstream merge tables\n",
      "[2025-04-21 15:49:37,765][INFO]: Deleting 1 rows from `common_interval`.`interval_list`\n",
      "21-Apr-25 15:49:37 Deleting 1 rows from `common_interval`.`interval_list`\n"
     ]
    },
    {
     "name": "stdin",
     "output_type": "stream",
     "text": [
      "Commit deletes? [yes, No]:  yes\n"
     ]
    },
    {
     "name": "stderr",
     "output_type": "stream",
     "text": [
      "[2025-04-21 15:49:39,092][INFO]: Deletes committed.\n",
      "21-Apr-25 15:49:39 Deletes committed.\n",
      "[15:49:39][INFO] Spyglass: Queueing delete for session(s):\n",
      "*nwb_file_name *lab_member_na\n",
      "+------------+ +------------+\n",
      "julio20230811_ Shijie Gu     \n",
      " (Total: 1)\n",
      "\n",
      "21-Apr-25 15:49:39 Queueing delete for session(s):\n",
      "*nwb_file_name *lab_member_na\n",
      "+------------+ +------------+\n",
      "julio20230811_ Shijie Gu     \n",
      " (Total: 1)\n",
      "\n",
      "[15:49:42][INFO] Spyglass: Building merge cache for interval_list.\n",
      "\tFound 5 downstream merge tables\n",
      "21-Apr-25 15:49:42 Building merge cache for interval_list.\n",
      "\tFound 5 downstream merge tables\n",
      "[2025-04-21 15:49:43,106][INFO]: Deleting 1 rows from `common_interval`.`interval_list`\n",
      "21-Apr-25 15:49:43 Deleting 1 rows from `common_interval`.`interval_list`\n"
     ]
    },
    {
     "name": "stdin",
     "output_type": "stream",
     "text": [
      "Commit deletes? [yes, No]:  yes\n"
     ]
    },
    {
     "name": "stderr",
     "output_type": "stream",
     "text": [
      "[2025-04-21 15:49:44,497][INFO]: Deletes committed.\n",
      "21-Apr-25 15:49:44 Deletes committed.\n",
      "[15:49:44][INFO] Spyglass: Queueing delete for session(s):\n",
      "*nwb_file_name *lab_member_na\n",
      "+------------+ +------------+\n",
      "Julio20230811_ Shijie Gu     \n",
      " (Total: 1)\n",
      "\n",
      "21-Apr-25 15:49:44 Queueing delete for session(s):\n",
      "*nwb_file_name *lab_member_na\n",
      "+------------+ +------------+\n",
      "Julio20230811_ Shijie Gu     \n",
      " (Total: 1)\n",
      "\n",
      "[15:49:47][INFO] Spyglass: Building merge cache for interval_list.\n",
      "\tFound 5 downstream merge tables\n",
      "21-Apr-25 15:49:47 Building merge cache for interval_list.\n",
      "\tFound 5 downstream merge tables\n",
      "[2025-04-21 15:49:48,263][INFO]: Deleting 1 rows from `common_interval`.`interval_list`\n",
      "21-Apr-25 15:49:48 Deleting 1 rows from `common_interval`.`interval_list`\n"
     ]
    },
    {
     "name": "stdin",
     "output_type": "stream",
     "text": [
      "Commit deletes? [yes, No]:  yes\n"
     ]
    },
    {
     "name": "stderr",
     "output_type": "stream",
     "text": [
      "[2025-04-21 15:49:49,654][INFO]: Deletes committed.\n",
      "21-Apr-25 15:49:49 Deletes committed.\n",
      "[15:49:49][INFO] Spyglass: Queueing delete for session(s):\n",
      "*nwb_file_name *lab_member_na\n",
      "+------------+ +------------+\n",
      "Julio20230811_ Shijie Gu     \n",
      " (Total: 1)\n",
      "\n",
      "21-Apr-25 15:49:49 Queueing delete for session(s):\n",
      "*nwb_file_name *lab_member_na\n",
      "+------------+ +------------+\n",
      "Julio20230811_ Shijie Gu     \n",
      " (Total: 1)\n",
      "\n",
      "[15:49:52][INFO] Spyglass: Building merge cache for interval_list.\n",
      "\tFound 5 downstream merge tables\n",
      "21-Apr-25 15:49:52 Building merge cache for interval_list.\n",
      "\tFound 5 downstream merge tables\n",
      "[2025-04-21 15:49:53,581][INFO]: Deleting 1 rows from `common_interval`.`interval_list`\n",
      "21-Apr-25 15:49:53 Deleting 1 rows from `common_interval`.`interval_list`\n"
     ]
    },
    {
     "name": "stdin",
     "output_type": "stream",
     "text": [
      "Commit deletes? [yes, No]:  yes\n"
     ]
    },
    {
     "name": "stderr",
     "output_type": "stream",
     "text": [
      "[2025-04-21 15:49:55,005][INFO]: Deletes committed.\n",
      "21-Apr-25 15:49:55 Deletes committed.\n",
      "[15:49:55][INFO] Spyglass: Queueing delete for session(s):\n",
      "*nwb_file_name *lab_member_na\n",
      "+------------+ +------------+\n",
      "Julio20230811_ Shijie Gu     \n",
      " (Total: 1)\n",
      "\n",
      "21-Apr-25 15:49:55 Queueing delete for session(s):\n",
      "*nwb_file_name *lab_member_na\n",
      "+------------+ +------------+\n",
      "Julio20230811_ Shijie Gu     \n",
      " (Total: 1)\n",
      "\n",
      "[15:49:58][INFO] Spyglass: Building merge cache for interval_list.\n",
      "\tFound 5 downstream merge tables\n",
      "21-Apr-25 15:49:58 Building merge cache for interval_list.\n",
      "\tFound 5 downstream merge tables\n",
      "[2025-04-21 15:49:59,133][INFO]: Deleting 1 rows from `common_interval`.`interval_list`\n",
      "21-Apr-25 15:49:59 Deleting 1 rows from `common_interval`.`interval_list`\n"
     ]
    },
    {
     "name": "stdin",
     "output_type": "stream",
     "text": [
      "Commit deletes? [yes, No]:  yes\n"
     ]
    },
    {
     "name": "stderr",
     "output_type": "stream",
     "text": [
      "[2025-04-21 15:50:01,551][INFO]: Deletes committed.\n",
      "21-Apr-25 15:50:01 Deletes committed.\n",
      "[15:50:01][INFO] Spyglass: Queueing delete for session(s):\n",
      "*nwb_file_name *lab_member_na\n",
      "+------------+ +------------+\n",
      "Julio20230811_ Shijie Gu     \n",
      " (Total: 1)\n",
      "\n",
      "21-Apr-25 15:50:01 Queueing delete for session(s):\n",
      "*nwb_file_name *lab_member_na\n",
      "+------------+ +------------+\n",
      "Julio20230811_ Shijie Gu     \n",
      " (Total: 1)\n",
      "\n",
      "[15:50:04][INFO] Spyglass: Building merge cache for interval_list.\n",
      "\tFound 5 downstream merge tables\n",
      "21-Apr-25 15:50:04 Building merge cache for interval_list.\n",
      "\tFound 5 downstream merge tables\n",
      "[2025-04-21 15:50:04,928][INFO]: Deleting 1 rows from `common_interval`.`interval_list`\n",
      "21-Apr-25 15:50:04 Deleting 1 rows from `common_interval`.`interval_list`\n"
     ]
    },
    {
     "name": "stdin",
     "output_type": "stream",
     "text": [
      "Commit deletes? [yes, No]:  yes\n"
     ]
    },
    {
     "name": "stderr",
     "output_type": "stream",
     "text": [
      "[2025-04-21 15:50:06,594][INFO]: Deletes committed.\n",
      "21-Apr-25 15:50:06 Deletes committed.\n",
      "[15:50:06][INFO] Spyglass: Queueing delete for session(s):\n",
      "*nwb_file_name *lab_member_na\n",
      "+------------+ +------------+\n",
      "Julio20230811_ Shijie Gu     \n",
      " (Total: 1)\n",
      "\n",
      "21-Apr-25 15:50:06 Queueing delete for session(s):\n",
      "*nwb_file_name *lab_member_na\n",
      "+------------+ +------------+\n",
      "Julio20230811_ Shijie Gu     \n",
      " (Total: 1)\n",
      "\n",
      "[15:50:09][INFO] Spyglass: Building merge cache for interval_list.\n",
      "\tFound 5 downstream merge tables\n",
      "21-Apr-25 15:50:09 Building merge cache for interval_list.\n",
      "\tFound 5 downstream merge tables\n",
      "[2025-04-21 15:50:10,846][INFO]: Deleting 1 rows from `common_interval`.`interval_list`\n",
      "21-Apr-25 15:50:10 Deleting 1 rows from `common_interval`.`interval_list`\n"
     ]
    },
    {
     "name": "stdin",
     "output_type": "stream",
     "text": [
      "Commit deletes? [yes, No]:  yes\n"
     ]
    },
    {
     "name": "stderr",
     "output_type": "stream",
     "text": [
      "[2025-04-21 15:50:12,000][INFO]: Deletes committed.\n",
      "21-Apr-25 15:50:12 Deletes committed.\n",
      "[15:50:12][INFO] Spyglass: Queueing delete for session(s):\n",
      "*nwb_file_name *lab_member_na\n",
      "+------------+ +------------+\n",
      "Julio20230811_ Shijie Gu     \n",
      " (Total: 1)\n",
      "\n",
      "21-Apr-25 15:50:12 Queueing delete for session(s):\n",
      "*nwb_file_name *lab_member_na\n",
      "+------------+ +------------+\n",
      "Julio20230811_ Shijie Gu     \n",
      " (Total: 1)\n",
      "\n",
      "[15:50:15][INFO] Spyglass: Building merge cache for interval_list.\n",
      "\tFound 5 downstream merge tables\n",
      "21-Apr-25 15:50:15 Building merge cache for interval_list.\n",
      "\tFound 5 downstream merge tables\n",
      "[2025-04-21 15:50:16,043][INFO]: Deleting 1 rows from `common_interval`.`interval_list`\n",
      "21-Apr-25 15:50:16 Deleting 1 rows from `common_interval`.`interval_list`\n"
     ]
    },
    {
     "name": "stdin",
     "output_type": "stream",
     "text": [
      "Commit deletes? [yes, No]:  yes\n"
     ]
    },
    {
     "name": "stderr",
     "output_type": "stream",
     "text": [
      "[2025-04-21 15:50:17,305][INFO]: Deletes committed.\n",
      "21-Apr-25 15:50:17 Deletes committed.\n",
      "[15:50:17][INFO] Spyglass: Queueing delete for session(s):\n",
      "*nwb_file_name *lab_member_na\n",
      "+------------+ +------------+\n",
      "Julio20230811_ Shijie Gu     \n",
      " (Total: 1)\n",
      "\n",
      "21-Apr-25 15:50:17 Queueing delete for session(s):\n",
      "*nwb_file_name *lab_member_na\n",
      "+------------+ +------------+\n",
      "Julio20230811_ Shijie Gu     \n",
      " (Total: 1)\n",
      "\n",
      "[15:50:20][INFO] Spyglass: Building merge cache for interval_list.\n",
      "\tFound 5 downstream merge tables\n",
      "21-Apr-25 15:50:20 Building merge cache for interval_list.\n",
      "\tFound 5 downstream merge tables\n",
      "[2025-04-21 15:50:21,247][INFO]: Deleting 1 rows from `common_interval`.`interval_list`\n",
      "21-Apr-25 15:50:21 Deleting 1 rows from `common_interval`.`interval_list`\n"
     ]
    },
    {
     "name": "stdin",
     "output_type": "stream",
     "text": [
      "Commit deletes? [yes, No]:  yes\n"
     ]
    },
    {
     "name": "stderr",
     "output_type": "stream",
     "text": [
      "[2025-04-21 15:50:22,657][INFO]: Deletes committed.\n",
      "21-Apr-25 15:50:22 Deletes committed.\n",
      "[15:50:22][INFO] Spyglass: Queueing delete for session(s):\n",
      "*nwb_file_name *lab_member_na\n",
      "+------------+ +------------+\n",
      "Julio20230811_ Shijie Gu     \n",
      " (Total: 1)\n",
      "\n",
      "21-Apr-25 15:50:22 Queueing delete for session(s):\n",
      "*nwb_file_name *lab_member_na\n",
      "+------------+ +------------+\n",
      "Julio20230811_ Shijie Gu     \n",
      " (Total: 1)\n",
      "\n",
      "[15:50:25][INFO] Spyglass: Building merge cache for interval_list.\n",
      "\tFound 5 downstream merge tables\n",
      "21-Apr-25 15:50:25 Building merge cache for interval_list.\n",
      "\tFound 5 downstream merge tables\n",
      "[2025-04-21 15:50:26,368][INFO]: Deleting 1 rows from `common_interval`.`interval_list`\n",
      "21-Apr-25 15:50:26 Deleting 1 rows from `common_interval`.`interval_list`\n"
     ]
    },
    {
     "name": "stdin",
     "output_type": "stream",
     "text": [
      "Commit deletes? [yes, No]:  yes\n"
     ]
    },
    {
     "name": "stderr",
     "output_type": "stream",
     "text": [
      "[2025-04-21 15:50:28,462][INFO]: Deletes committed.\n",
      "21-Apr-25 15:50:28 Deletes committed.\n",
      "[15:50:28][INFO] Spyglass: Queueing delete for session(s):\n",
      "*nwb_file_name *lab_member_na\n",
      "+------------+ +------------+\n",
      "Julio20230811_ Shijie Gu     \n",
      " (Total: 1)\n",
      "\n",
      "21-Apr-25 15:50:28 Queueing delete for session(s):\n",
      "*nwb_file_name *lab_member_na\n",
      "+------------+ +------------+\n",
      "Julio20230811_ Shijie Gu     \n",
      " (Total: 1)\n",
      "\n",
      "[15:50:31][INFO] Spyglass: Building merge cache for interval_list.\n",
      "\tFound 5 downstream merge tables\n",
      "21-Apr-25 15:50:31 Building merge cache for interval_list.\n",
      "\tFound 5 downstream merge tables\n",
      "[2025-04-21 15:50:32,273][INFO]: Deleting 1 rows from `common_interval`.`interval_list`\n",
      "21-Apr-25 15:50:32 Deleting 1 rows from `common_interval`.`interval_list`\n"
     ]
    },
    {
     "name": "stdin",
     "output_type": "stream",
     "text": [
      "Commit deletes? [yes, No]:  yes\n"
     ]
    },
    {
     "name": "stderr",
     "output_type": "stream",
     "text": [
      "[2025-04-21 15:50:38,600][INFO]: Deletes committed.\n",
      "21-Apr-25 15:50:38 Deletes committed.\n",
      "[15:50:38][INFO] Spyglass: Queueing delete for session(s):\n",
      "*nwb_file_name *lab_member_na\n",
      "+------------+ +------------+\n",
      "Julio20230811_ Shijie Gu     \n",
      " (Total: 1)\n",
      "\n",
      "21-Apr-25 15:50:38 Queueing delete for session(s):\n",
      "*nwb_file_name *lab_member_na\n",
      "+------------+ +------------+\n",
      "Julio20230811_ Shijie Gu     \n",
      " (Total: 1)\n",
      "\n",
      "[15:50:41][INFO] Spyglass: Building merge cache for interval_list.\n",
      "\tFound 5 downstream merge tables\n",
      "21-Apr-25 15:50:41 Building merge cache for interval_list.\n",
      "\tFound 5 downstream merge tables\n",
      "[2025-04-21 15:50:42,564][INFO]: Deleting 1 rows from `common_interval`.`interval_list`\n",
      "21-Apr-25 15:50:42 Deleting 1 rows from `common_interval`.`interval_list`\n"
     ]
    },
    {
     "name": "stdin",
     "output_type": "stream",
     "text": [
      "Commit deletes? [yes, No]:  yes\n"
     ]
    },
    {
     "name": "stderr",
     "output_type": "stream",
     "text": [
      "[2025-04-21 15:50:43,850][INFO]: Deletes committed.\n",
      "21-Apr-25 15:50:43 Deletes committed.\n",
      "[15:50:43][INFO] Spyglass: Queueing delete for session(s):\n",
      "*nwb_file_name *lab_member_na\n",
      "+------------+ +------------+\n",
      "Julio20230811_ Shijie Gu     \n",
      " (Total: 1)\n",
      "\n",
      "21-Apr-25 15:50:43 Queueing delete for session(s):\n",
      "*nwb_file_name *lab_member_na\n",
      "+------------+ +------------+\n",
      "Julio20230811_ Shijie Gu     \n",
      " (Total: 1)\n",
      "\n",
      "[15:50:47][INFO] Spyglass: Building merge cache for interval_list.\n",
      "\tFound 5 downstream merge tables\n",
      "21-Apr-25 15:50:47 Building merge cache for interval_list.\n",
      "\tFound 5 downstream merge tables\n",
      "[2025-04-21 15:50:47,956][INFO]: Deleting 1 rows from `common_interval`.`interval_list`\n",
      "21-Apr-25 15:50:47 Deleting 1 rows from `common_interval`.`interval_list`\n"
     ]
    },
    {
     "name": "stdin",
     "output_type": "stream",
     "text": [
      "Commit deletes? [yes, No]:  yes\n"
     ]
    },
    {
     "name": "stderr",
     "output_type": "stream",
     "text": [
      "[2025-04-21 15:50:49,371][INFO]: Deletes committed.\n",
      "21-Apr-25 15:50:49 Deletes committed.\n",
      "[15:50:49][INFO] Spyglass: Queueing delete for session(s):\n",
      "*nwb_file_name *lab_member_na\n",
      "+------------+ +------------+\n",
      "Julio20230811_ Shijie Gu     \n",
      " (Total: 1)\n",
      "\n",
      "21-Apr-25 15:50:49 Queueing delete for session(s):\n",
      "*nwb_file_name *lab_member_na\n",
      "+------------+ +------------+\n",
      "Julio20230811_ Shijie Gu     \n",
      " (Total: 1)\n",
      "\n",
      "[15:50:52][INFO] Spyglass: Building merge cache for interval_list.\n",
      "\tFound 5 downstream merge tables\n",
      "21-Apr-25 15:50:52 Building merge cache for interval_list.\n",
      "\tFound 5 downstream merge tables\n",
      "[2025-04-21 15:50:53,432][INFO]: Deleting 1 rows from `common_interval`.`interval_list`\n",
      "21-Apr-25 15:50:53 Deleting 1 rows from `common_interval`.`interval_list`\n"
     ]
    },
    {
     "name": "stdin",
     "output_type": "stream",
     "text": [
      "Commit deletes? [yes, No]:  yes\n"
     ]
    },
    {
     "name": "stderr",
     "output_type": "stream",
     "text": [
      "[2025-04-21 15:50:54,752][INFO]: Deletes committed.\n",
      "21-Apr-25 15:50:54 Deletes committed.\n",
      "[15:50:54][INFO] Spyglass: Queueing delete for session(s):\n",
      "*nwb_file_name *lab_member_na\n",
      "+------------+ +------------+\n",
      "Julio20230811_ Shijie Gu     \n",
      " (Total: 1)\n",
      "\n",
      "21-Apr-25 15:50:54 Queueing delete for session(s):\n",
      "*nwb_file_name *lab_member_na\n",
      "+------------+ +------------+\n",
      "Julio20230811_ Shijie Gu     \n",
      " (Total: 1)\n",
      "\n",
      "[15:50:57][INFO] Spyglass: Building merge cache for interval_list.\n",
      "\tFound 5 downstream merge tables\n",
      "21-Apr-25 15:50:57 Building merge cache for interval_list.\n",
      "\tFound 5 downstream merge tables\n",
      "[2025-04-21 15:50:58,673][INFO]: Deleting 1 rows from `common_interval`.`interval_list`\n",
      "21-Apr-25 15:50:58 Deleting 1 rows from `common_interval`.`interval_list`\n"
     ]
    },
    {
     "name": "stdin",
     "output_type": "stream",
     "text": [
      "Commit deletes? [yes, No]:  yes\n"
     ]
    },
    {
     "name": "stderr",
     "output_type": "stream",
     "text": [
      "[2025-04-21 15:51:00,035][INFO]: Deletes committed.\n",
      "21-Apr-25 15:51:00 Deletes committed.\n",
      "[15:51:00][INFO] Spyglass: Queueing delete for session(s):\n",
      "*nwb_file_name *lab_member_na\n",
      "+------------+ +------------+\n",
      "Julio20230811_ Shijie Gu     \n",
      " (Total: 1)\n",
      "\n",
      "21-Apr-25 15:51:00 Queueing delete for session(s):\n",
      "*nwb_file_name *lab_member_na\n",
      "+------------+ +------------+\n",
      "Julio20230811_ Shijie Gu     \n",
      " (Total: 1)\n",
      "\n",
      "[15:51:03][INFO] Spyglass: Building merge cache for interval_list.\n",
      "\tFound 5 downstream merge tables\n",
      "21-Apr-25 15:51:03 Building merge cache for interval_list.\n",
      "\tFound 5 downstream merge tables\n",
      "[2025-04-21 15:51:04,098][INFO]: Deleting 1 rows from `common_interval`.`interval_list`\n",
      "21-Apr-25 15:51:04 Deleting 1 rows from `common_interval`.`interval_list`\n"
     ]
    },
    {
     "name": "stdin",
     "output_type": "stream",
     "text": [
      "Commit deletes? [yes, No]:  yes\n"
     ]
    },
    {
     "name": "stderr",
     "output_type": "stream",
     "text": [
      "[2025-04-21 15:51:05,425][INFO]: Deletes committed.\n",
      "21-Apr-25 15:51:05 Deletes committed.\n",
      "[15:51:05][INFO] Spyglass: Queueing delete for session(s):\n",
      "*nwb_file_name *lab_member_na\n",
      "+------------+ +------------+\n",
      "Julio20230811_ Shijie Gu     \n",
      " (Total: 1)\n",
      "\n",
      "21-Apr-25 15:51:05 Queueing delete for session(s):\n",
      "*nwb_file_name *lab_member_na\n",
      "+------------+ +------------+\n",
      "Julio20230811_ Shijie Gu     \n",
      " (Total: 1)\n",
      "\n",
      "[15:51:08][INFO] Spyglass: Building merge cache for interval_list.\n",
      "\tFound 5 downstream merge tables\n",
      "21-Apr-25 15:51:08 Building merge cache for interval_list.\n",
      "\tFound 5 downstream merge tables\n",
      "[2025-04-21 15:51:09,413][INFO]: Deleting 1 rows from `common_interval`.`interval_list`\n",
      "21-Apr-25 15:51:09 Deleting 1 rows from `common_interval`.`interval_list`\n"
     ]
    },
    {
     "name": "stdin",
     "output_type": "stream",
     "text": [
      "Commit deletes? [yes, No]:  yes\n"
     ]
    },
    {
     "name": "stderr",
     "output_type": "stream",
     "text": [
      "[2025-04-21 15:51:10,810][INFO]: Deletes committed.\n",
      "21-Apr-25 15:51:10 Deletes committed.\n",
      "[15:51:10][INFO] Spyglass: Queueing delete for session(s):\n",
      "*nwb_file_name *lab_member_na\n",
      "+------------+ +------------+\n",
      "Julio20230811_ Shijie Gu     \n",
      " (Total: 1)\n",
      "\n",
      "21-Apr-25 15:51:10 Queueing delete for session(s):\n",
      "*nwb_file_name *lab_member_na\n",
      "+------------+ +------------+\n",
      "Julio20230811_ Shijie Gu     \n",
      " (Total: 1)\n",
      "\n",
      "[15:51:13][INFO] Spyglass: Building merge cache for interval_list.\n",
      "\tFound 5 downstream merge tables\n",
      "21-Apr-25 15:51:13 Building merge cache for interval_list.\n",
      "\tFound 5 downstream merge tables\n",
      "[2025-04-21 15:51:14,534][INFO]: Deleting 1 rows from `common_interval`.`interval_list`\n",
      "21-Apr-25 15:51:14 Deleting 1 rows from `common_interval`.`interval_list`\n"
     ]
    },
    {
     "name": "stdin",
     "output_type": "stream",
     "text": [
      "Commit deletes? [yes, No]:  yes\n"
     ]
    },
    {
     "name": "stderr",
     "output_type": "stream",
     "text": [
      "[2025-04-21 15:51:15,842][INFO]: Deletes committed.\n",
      "21-Apr-25 15:51:15 Deletes committed.\n",
      "[15:51:15][INFO] Spyglass: Queueing delete for session(s):\n",
      "*nwb_file_name *lab_member_na\n",
      "+------------+ +------------+\n",
      "Julio20230811_ Shijie Gu     \n",
      " (Total: 1)\n",
      "\n",
      "21-Apr-25 15:51:15 Queueing delete for session(s):\n",
      "*nwb_file_name *lab_member_na\n",
      "+------------+ +------------+\n",
      "Julio20230811_ Shijie Gu     \n",
      " (Total: 1)\n",
      "\n",
      "[15:51:18][INFO] Spyglass: Building merge cache for interval_list.\n",
      "\tFound 5 downstream merge tables\n",
      "21-Apr-25 15:51:18 Building merge cache for interval_list.\n",
      "\tFound 5 downstream merge tables\n",
      "[2025-04-21 15:51:19,715][INFO]: Deleting 1 rows from `common_interval`.`interval_list`\n",
      "21-Apr-25 15:51:19 Deleting 1 rows from `common_interval`.`interval_list`\n"
     ]
    },
    {
     "name": "stdin",
     "output_type": "stream",
     "text": [
      "Commit deletes? [yes, No]:  yes\n"
     ]
    },
    {
     "name": "stderr",
     "output_type": "stream",
     "text": [
      "[2025-04-21 15:51:21,976][INFO]: Deletes committed.\n",
      "21-Apr-25 15:51:21 Deletes committed.\n",
      "[15:51:22][INFO] Spyglass: Queueing delete for session(s):\n",
      "*nwb_file_name *lab_member_na\n",
      "+------------+ +------------+\n",
      "Julio20230811_ Shijie Gu     \n",
      " (Total: 1)\n",
      "\n",
      "21-Apr-25 15:51:22 Queueing delete for session(s):\n",
      "*nwb_file_name *lab_member_na\n",
      "+------------+ +------------+\n",
      "Julio20230811_ Shijie Gu     \n",
      " (Total: 1)\n",
      "\n",
      "[15:51:25][INFO] Spyglass: Building merge cache for interval_list.\n",
      "\tFound 5 downstream merge tables\n",
      "21-Apr-25 15:51:25 Building merge cache for interval_list.\n",
      "\tFound 5 downstream merge tables\n",
      "[2025-04-21 15:51:26,121][INFO]: Deleting 1 rows from `common_interval`.`interval_list`\n",
      "21-Apr-25 15:51:26 Deleting 1 rows from `common_interval`.`interval_list`\n"
     ]
    },
    {
     "name": "stdin",
     "output_type": "stream",
     "text": [
      "Commit deletes? [yes, No]:  yes\n"
     ]
    },
    {
     "name": "stderr",
     "output_type": "stream",
     "text": [
      "[2025-04-21 15:51:27,335][INFO]: Deletes committed.\n",
      "21-Apr-25 15:51:27 Deletes committed.\n",
      "[15:51:27][INFO] Spyglass: Queueing delete for session(s):\n",
      "*nwb_file_name *lab_member_na\n",
      "+------------+ +------------+\n",
      "Julio20230811_ Shijie Gu     \n",
      " (Total: 1)\n",
      "\n",
      "21-Apr-25 15:51:27 Queueing delete for session(s):\n",
      "*nwb_file_name *lab_member_na\n",
      "+------------+ +------------+\n",
      "Julio20230811_ Shijie Gu     \n",
      " (Total: 1)\n",
      "\n",
      "[15:51:29][INFO] Spyglass: Building merge cache for interval_list.\n",
      "\tFound 5 downstream merge tables\n",
      "21-Apr-25 15:51:29 Building merge cache for interval_list.\n",
      "\tFound 5 downstream merge tables\n",
      "[2025-04-21 15:51:30,886][INFO]: Deleting 1 rows from `common_interval`.`interval_list`\n",
      "21-Apr-25 15:51:30 Deleting 1 rows from `common_interval`.`interval_list`\n"
     ]
    },
    {
     "name": "stdin",
     "output_type": "stream",
     "text": [
      "Commit deletes? [yes, No]:  yes\n"
     ]
    },
    {
     "name": "stderr",
     "output_type": "stream",
     "text": [
      "[2025-04-21 15:51:36,819][INFO]: Deletes committed.\n",
      "21-Apr-25 15:51:36 Deletes committed.\n",
      "[15:51:36][INFO] Spyglass: Queueing delete for session(s):\n",
      "*nwb_file_name *lab_member_na\n",
      "+------------+ +------------+\n",
      "Julio20230811_ Shijie Gu     \n",
      " (Total: 1)\n",
      "\n",
      "21-Apr-25 15:51:36 Queueing delete for session(s):\n",
      "*nwb_file_name *lab_member_na\n",
      "+------------+ +------------+\n",
      "Julio20230811_ Shijie Gu     \n",
      " (Total: 1)\n",
      "\n",
      "[15:51:39][INFO] Spyglass: Building merge cache for interval_list.\n",
      "\tFound 5 downstream merge tables\n",
      "21-Apr-25 15:51:39 Building merge cache for interval_list.\n",
      "\tFound 5 downstream merge tables\n",
      "[2025-04-21 15:51:40,812][INFO]: Deleting 1 rows from `common_interval`.`interval_list`\n",
      "21-Apr-25 15:51:40 Deleting 1 rows from `common_interval`.`interval_list`\n"
     ]
    },
    {
     "name": "stdin",
     "output_type": "stream",
     "text": [
      "Commit deletes? [yes, No]:  yes\n"
     ]
    },
    {
     "name": "stderr",
     "output_type": "stream",
     "text": [
      "[2025-04-21 15:51:42,324][INFO]: Deletes committed.\n",
      "21-Apr-25 15:51:42 Deletes committed.\n",
      "[15:51:42][INFO] Spyglass: Queueing delete for session(s):\n",
      "*nwb_file_name *lab_member_na\n",
      "+------------+ +------------+\n",
      "Julio20230811_ Shijie Gu     \n",
      " (Total: 1)\n",
      "\n",
      "21-Apr-25 15:51:42 Queueing delete for session(s):\n",
      "*nwb_file_name *lab_member_na\n",
      "+------------+ +------------+\n",
      "Julio20230811_ Shijie Gu     \n",
      " (Total: 1)\n",
      "\n",
      "[15:51:45][INFO] Spyglass: Building merge cache for interval_list.\n",
      "\tFound 5 downstream merge tables\n",
      "21-Apr-25 15:51:45 Building merge cache for interval_list.\n",
      "\tFound 5 downstream merge tables\n",
      "[2025-04-21 15:51:46,167][INFO]: Deleting 1 rows from `common_interval`.`interval_list`\n",
      "21-Apr-25 15:51:46 Deleting 1 rows from `common_interval`.`interval_list`\n"
     ]
    },
    {
     "name": "stdin",
     "output_type": "stream",
     "text": [
      "Commit deletes? [yes, No]:  yes\n"
     ]
    },
    {
     "name": "stderr",
     "output_type": "stream",
     "text": [
      "[2025-04-21 15:51:47,545][INFO]: Deletes committed.\n",
      "21-Apr-25 15:51:47 Deletes committed.\n",
      "[15:51:47][INFO] Spyglass: Queueing delete for session(s):\n",
      "*nwb_file_name *lab_member_na\n",
      "+------------+ +------------+\n",
      "Julio20230811_ Shijie Gu     \n",
      " (Total: 1)\n",
      "\n",
      "21-Apr-25 15:51:47 Queueing delete for session(s):\n",
      "*nwb_file_name *lab_member_na\n",
      "+------------+ +------------+\n",
      "Julio20230811_ Shijie Gu     \n",
      " (Total: 1)\n",
      "\n",
      "[15:51:50][INFO] Spyglass: Building merge cache for interval_list.\n",
      "\tFound 5 downstream merge tables\n",
      "21-Apr-25 15:51:50 Building merge cache for interval_list.\n",
      "\tFound 5 downstream merge tables\n",
      "[2025-04-21 15:51:51,586][INFO]: Deleting 1 rows from `common_interval`.`interval_list`\n",
      "21-Apr-25 15:51:51 Deleting 1 rows from `common_interval`.`interval_list`\n"
     ]
    },
    {
     "name": "stdin",
     "output_type": "stream",
     "text": [
      "Commit deletes? [yes, No]:  yes\n"
     ]
    },
    {
     "name": "stderr",
     "output_type": "stream",
     "text": [
      "[2025-04-21 15:51:53,512][INFO]: Deletes committed.\n",
      "21-Apr-25 15:51:53 Deletes committed.\n",
      "[15:51:53][INFO] Spyglass: Queueing delete for session(s):\n",
      "*nwb_file_name *lab_member_na\n",
      "+------------+ +------------+\n",
      "Julio20230811_ Shijie Gu     \n",
      " (Total: 1)\n",
      "\n",
      "21-Apr-25 15:51:53 Queueing delete for session(s):\n",
      "*nwb_file_name *lab_member_na\n",
      "+------------+ +------------+\n",
      "Julio20230811_ Shijie Gu     \n",
      " (Total: 1)\n",
      "\n",
      "[15:51:56][INFO] Spyglass: Building merge cache for interval_list.\n",
      "\tFound 5 downstream merge tables\n",
      "21-Apr-25 15:51:56 Building merge cache for interval_list.\n",
      "\tFound 5 downstream merge tables\n",
      "[2025-04-21 15:51:57,654][INFO]: Deleting 1 rows from `common_interval`.`interval_list`\n",
      "21-Apr-25 15:51:57 Deleting 1 rows from `common_interval`.`interval_list`\n"
     ]
    },
    {
     "name": "stdin",
     "output_type": "stream",
     "text": [
      "Commit deletes? [yes, No]:  yes\n"
     ]
    },
    {
     "name": "stderr",
     "output_type": "stream",
     "text": [
      "[2025-04-21 15:51:59,063][INFO]: Deletes committed.\n",
      "21-Apr-25 15:51:59 Deletes committed.\n",
      "[15:51:59][INFO] Spyglass: Queueing delete for session(s):\n",
      "*nwb_file_name *lab_member_na\n",
      "+------------+ +------------+\n",
      "Julio20230811_ Shijie Gu     \n",
      " (Total: 1)\n",
      "\n",
      "21-Apr-25 15:51:59 Queueing delete for session(s):\n",
      "*nwb_file_name *lab_member_na\n",
      "+------------+ +------------+\n",
      "Julio20230811_ Shijie Gu     \n",
      " (Total: 1)\n",
      "\n",
      "[15:52:02][INFO] Spyglass: Building merge cache for interval_list.\n",
      "\tFound 5 downstream merge tables\n",
      "21-Apr-25 15:52:02 Building merge cache for interval_list.\n",
      "\tFound 5 downstream merge tables\n",
      "[2025-04-21 15:52:03,092][INFO]: Deleting 1 rows from `common_interval`.`interval_list`\n",
      "21-Apr-25 15:52:03 Deleting 1 rows from `common_interval`.`interval_list`\n"
     ]
    },
    {
     "name": "stdin",
     "output_type": "stream",
     "text": [
      "Commit deletes? [yes, No]:  yes\n"
     ]
    },
    {
     "name": "stderr",
     "output_type": "stream",
     "text": [
      "[2025-04-21 15:52:04,462][INFO]: Deletes committed.\n",
      "21-Apr-25 15:52:04 Deletes committed.\n",
      "[15:52:04][INFO] Spyglass: Queueing delete for session(s):\n",
      "*nwb_file_name *lab_member_na\n",
      "+------------+ +------------+\n",
      "Julio20230811_ Shijie Gu     \n",
      " (Total: 1)\n",
      "\n",
      "21-Apr-25 15:52:04 Queueing delete for session(s):\n",
      "*nwb_file_name *lab_member_na\n",
      "+------------+ +------------+\n",
      "Julio20230811_ Shijie Gu     \n",
      " (Total: 1)\n",
      "\n",
      "[15:52:07][INFO] Spyglass: Building merge cache for interval_list.\n",
      "\tFound 5 downstream merge tables\n",
      "21-Apr-25 15:52:07 Building merge cache for interval_list.\n",
      "\tFound 5 downstream merge tables\n",
      "[2025-04-21 15:52:08,459][INFO]: Deleting 1 rows from `common_interval`.`interval_list`\n",
      "21-Apr-25 15:52:08 Deleting 1 rows from `common_interval`.`interval_list`\n"
     ]
    },
    {
     "name": "stdin",
     "output_type": "stream",
     "text": [
      "Commit deletes? [yes, No]:  yes\n"
     ]
    },
    {
     "name": "stderr",
     "output_type": "stream",
     "text": [
      "[2025-04-21 15:52:09,983][INFO]: Deletes committed.\n",
      "21-Apr-25 15:52:09 Deletes committed.\n",
      "[15:52:10][INFO] Spyglass: Queueing delete for session(s):\n",
      "*nwb_file_name *lab_member_na\n",
      "+------------+ +------------+\n",
      "julio20230811_ Shijie Gu     \n",
      " (Total: 1)\n",
      "\n",
      "21-Apr-25 15:52:10 Queueing delete for session(s):\n",
      "*nwb_file_name *lab_member_na\n",
      "+------------+ +------------+\n",
      "julio20230811_ Shijie Gu     \n",
      " (Total: 1)\n",
      "\n",
      "[15:52:13][INFO] Spyglass: Building merge cache for interval_list.\n",
      "\tFound 5 downstream merge tables\n",
      "21-Apr-25 15:52:13 Building merge cache for interval_list.\n",
      "\tFound 5 downstream merge tables\n",
      "[2025-04-21 15:52:14,114][INFO]: Deleting 1 rows from `common_interval`.`interval_list`\n",
      "21-Apr-25 15:52:14 Deleting 1 rows from `common_interval`.`interval_list`\n"
     ]
    },
    {
     "name": "stdin",
     "output_type": "stream",
     "text": [
      "Commit deletes? [yes, No]:  yes\n"
     ]
    },
    {
     "name": "stderr",
     "output_type": "stream",
     "text": [
      "[2025-04-21 15:52:15,548][INFO]: Deletes committed.\n",
      "21-Apr-25 15:52:15 Deletes committed.\n",
      "[15:52:15][INFO] Spyglass: Queueing delete for session(s):\n",
      "*nwb_file_name *lab_member_na\n",
      "+------------+ +------------+\n",
      "julio20230811_ Shijie Gu     \n",
      " (Total: 1)\n",
      "\n",
      "21-Apr-25 15:52:15 Queueing delete for session(s):\n",
      "*nwb_file_name *lab_member_na\n",
      "+------------+ +------------+\n",
      "julio20230811_ Shijie Gu     \n",
      " (Total: 1)\n",
      "\n",
      "[15:52:18][INFO] Spyglass: Building merge cache for interval_list.\n",
      "\tFound 5 downstream merge tables\n",
      "21-Apr-25 15:52:18 Building merge cache for interval_list.\n",
      "\tFound 5 downstream merge tables\n",
      "[2025-04-21 15:52:19,657][INFO]: Deleting 1 rows from `common_interval`.`interval_list`\n",
      "21-Apr-25 15:52:19 Deleting 1 rows from `common_interval`.`interval_list`\n"
     ]
    },
    {
     "name": "stdin",
     "output_type": "stream",
     "text": [
      "Commit deletes? [yes, No]:  yes\n"
     ]
    },
    {
     "name": "stderr",
     "output_type": "stream",
     "text": [
      "[2025-04-21 15:52:22,808][INFO]: Deletes committed.\n",
      "21-Apr-25 15:52:22 Deletes committed.\n",
      "[15:52:22][INFO] Spyglass: Queueing delete for session(s):\n",
      "*nwb_file_name *lab_member_na\n",
      "+------------+ +------------+\n",
      "julio20230811_ Shijie Gu     \n",
      " (Total: 1)\n",
      "\n",
      "21-Apr-25 15:52:22 Queueing delete for session(s):\n",
      "*nwb_file_name *lab_member_na\n",
      "+------------+ +------------+\n",
      "julio20230811_ Shijie Gu     \n",
      " (Total: 1)\n",
      "\n",
      "[15:52:26][INFO] Spyglass: Building merge cache for interval_list.\n",
      "\tFound 5 downstream merge tables\n",
      "21-Apr-25 15:52:26 Building merge cache for interval_list.\n",
      "\tFound 5 downstream merge tables\n",
      "[2025-04-21 15:52:26,920][INFO]: Deleting 1 rows from `common_interval`.`interval_list`\n",
      "21-Apr-25 15:52:26 Deleting 1 rows from `common_interval`.`interval_list`\n"
     ]
    },
    {
     "name": "stdin",
     "output_type": "stream",
     "text": [
      "Commit deletes? [yes, No]:  yes\n"
     ]
    },
    {
     "name": "stderr",
     "output_type": "stream",
     "text": [
      "[2025-04-21 15:52:36,620][INFO]: Deletes committed.\n",
      "21-Apr-25 15:52:36 Deletes committed.\n",
      "[15:52:36][INFO] Spyglass: Queueing delete for session(s):\n",
      "*nwb_file_name *lab_member_na\n",
      "+------------+ +------------+\n",
      "julio20230811_ Shijie Gu     \n",
      " (Total: 1)\n",
      "\n",
      "21-Apr-25 15:52:36 Queueing delete for session(s):\n",
      "*nwb_file_name *lab_member_na\n",
      "+------------+ +------------+\n",
      "julio20230811_ Shijie Gu     \n",
      " (Total: 1)\n",
      "\n",
      "[15:52:39][INFO] Spyglass: Building merge cache for interval_list.\n",
      "\tFound 5 downstream merge tables\n",
      "21-Apr-25 15:52:39 Building merge cache for interval_list.\n",
      "\tFound 5 downstream merge tables\n",
      "[2025-04-21 15:52:40,258][INFO]: Deleting 1 rows from `common_interval`.`interval_list`\n",
      "21-Apr-25 15:52:40 Deleting 1 rows from `common_interval`.`interval_list`\n"
     ]
    },
    {
     "name": "stdin",
     "output_type": "stream",
     "text": [
      "Commit deletes? [yes, No]:  yes\n"
     ]
    },
    {
     "name": "stderr",
     "output_type": "stream",
     "text": [
      "[2025-04-21 15:52:41,755][INFO]: Deletes committed.\n",
      "21-Apr-25 15:52:41 Deletes committed.\n"
     ]
    }
   ],
   "source": [
    "for intvl in intvls:\n",
    "    if \"valid_times\" in intvl:\n",
    "        (IntervalList() & {'nwb_file_name' : nwb_copy_file_name,\n",
    "                   \"interval_list_name\":intvl}).delete()"
   ]
  },
  {
   "cell_type": "code",
   "execution_count": 18,
   "id": "e8ce9396-3bfb-444c-86f7-72e100b4fa0d",
   "metadata": {},
   "outputs": [
    {
     "data": {
      "text/plain": [
       "array(['julio20230811_.nwb_06_Seq2Session3_100_franklab_tetrode_hippocampus_ampl_100_prop_05_2ms_artifact_removed_valid_times',\n",
       "       'julio20230811_.nwb_06_Seq2Session3_101_franklab_tetrode_hippocampus_ampl_100_prop_05_2ms_artifact_removed_valid_times'],\n",
       "      dtype=object)"
      ]
     },
     "execution_count": 18,
     "metadata": {},
     "output_type": "execute_result"
    }
   ],
   "source": [
    "artifact_removed_name_list"
   ]
  },
  {
   "cell_type": "code",
   "execution_count": 21,
   "id": "7be12d51-e56a-4357-9b70-6e35b9606f57",
   "metadata": {},
   "outputs": [
    {
     "data": {
      "text/plain": [
       "(1691786057.8352175, 1691787177.2597272)"
      ]
     },
     "execution_count": 21,
     "metadata": {},
     "output_type": "execute_result"
    },
    {
     "data": {
      "image/png": "[encoded data removed]",
      "text/plain": [
       "<Figure size 1500x300 with 1 Axes>"
      ]
     },
     "metadata": {},
     "output_type": "display_data"
    }
   ],
   "source": [
    "fig, ax = plt.subplots(1,1,figsize = (15,3))\n",
    "\n",
    "ax.scatter(valid_timestamps[0],1)\n",
    "\n",
    "for a_ind in range(artifact_removed_time_list[0].shape[0]):\n",
    "    #ax.axvline(artifact_removed_time_list[0][a_ind][0],color = 'g',linewidth = 1)\n",
    "    ax.axvspan(artifact_removed_time_list[0][a_ind][0],artifact_removed_time_list[0][a_ind][1],color = 'k',linewidth = 1,alpha = 0.5)\n",
    "\n",
    "ax.set_xlim(trial_1_t-100,trial_last_t+100)"
   ]
  },
  {
   "cell_type": "code",
   "execution_count": 169,
   "id": "32657178-94f2-4a8f-b556-c5f3e39e69c5",
   "metadata": {},
   "outputs": [],
   "source": [
    "artifact_time_list=interval_union(artifact_time_list[0],artifact_time_list[1])\n",
    "artifact_removed_time_list=interval_list_intersect(\n",
    "            np.array(artifact_removed_time_list[0]),np.array(artifact_removed_time_list[1]))"
   ]
  },
  {
   "cell_type": "code",
   "execution_count": 170,
   "id": "4ad92f8d-ca91-4ee4-ac2f-a034468e9bfb",
   "metadata": {},
   "outputs": [],
   "source": [
    "#artifact_removed_time_list"
   ]
  },
  {
   "cell_type": "code",
   "execution_count": 171,
   "id": "310285fe-27e2-4d12-9660-a768cdb468ce",
   "metadata": {
    "scrolled": true
   },
   "outputs": [],
   "source": [
    "#artifact_removed_time_list"
   ]
  },
  {
   "cell_type": "code",
   "execution_count": 172,
   "id": "d466dcf6-1fc3-46da-a103-e97b34f7ade3",
   "metadata": {
    "scrolled": true
   },
   "outputs": [
    {
     "data": {
      "text/plain": [
       "(1691786157.8352175, 1691787077.2597272)"
      ]
     },
     "execution_count": 172,
     "metadata": {},
     "output_type": "execute_result"
    },
    {
     "data": {
      "image/png": "[encoded data removed]",
      "text/plain": [
       "<Figure size 1500x300 with 1 Axes>"
      ]
     },
     "metadata": {},
     "output_type": "display_data"
    }
   ],
   "source": [
    "fig, ax = plt.subplots(1,1,figsize = (15,3))\n",
    "for a_ind in range(artifact_time_list.shape[0]):\n",
    "    ax.axvline(artifact_time_list[a_ind][0],color = 'b',linewidth = 1)\n",
    "    ax.axvline(artifact_time_list[a_ind][1],color = 'r',linewidth = 1)\n",
    "    #print(np.diff(artifact_time_list[a_ind]))\n",
    "\n",
    "for a_ind in range(artifact_removed_time_list.shape[0]):\n",
    "    ax.axvspan(artifact_removed_time_list[a_ind][0],artifact_removed_time_list[a_ind][1],color = 'g',linewidth = 1)\n",
    "\n",
    "ax.set_xlim(trial_1_t,trial_last_t)"
   ]
  },
  {
   "cell_type": "code",
   "execution_count": 83,
   "id": "f15581d2-86fd-4217-b334-07bff472ea8f",
   "metadata": {
    "scrolled": true
   },
   "outputs": [
    {
     "data": {
      "text/plain": [
       "1691786212.2954159"
      ]
     },
     "execution_count": 83,
     "metadata": {},
     "output_type": "execute_result"
    }
   ],
   "source": [
    "artifact_removed_time_list[-1][-1]"
   ]
  },
  {
   "cell_type": "code",
   "execution_count": 75,
   "id": "c9e265de-9ef0-44cd-ac36-7656c325b3e6",
   "metadata": {},
   "outputs": [],
   "source": [
    "test = interval_list_intersect(artifact_removed_time_list,np.array([trial_1_t,trial_last_t]))"
   ]
  },
  {
   "cell_type": "code",
   "execution_count": 82,
   "id": "9226f03f-58b6-470d-aa69-9ed97550ecdb",
   "metadata": {},
   "outputs": [
    {
     "data": {
      "text/plain": [
       "1691786212.2954159"
      ]
     },
     "execution_count": 82,
     "metadata": {},
     "output_type": "execute_result"
    }
   ],
   "source": [
    "test[-1][-1]"
   ]
  },
  {
   "cell_type": "code",
   "execution_count": 48,
   "id": "79425cc0-77ea-4312-ac2c-eec4927dfe30",
   "metadata": {},
   "outputs": [],
   "source": [
    "artifact_removed_valid_times = (ArtifactRemovedIntervalList & {\n",
    "    'artifact_removed_interval_list_name':\n",
    "    'Julio20230811_.nwb_06_Seq2Session3_2_franklab_tetrode_hippocampus_ampl_1500_prop_075_1ms_artifact_removed_valid_times_track_time_only'}\n",
    ").fetch1(\"artifact_removed_valid_times\")"
   ]
  },
  {
   "cell_type": "code",
   "execution_count": 50,
   "id": "64ab930c-7275-463a-9491-2fb9c33763ff",
   "metadata": {},
   "outputs": [
    {
     "data": {
      "text/plain": [
       "1691786212.2954159"
      ]
     },
     "execution_count": 50,
     "metadata": {},
     "output_type": "execute_result"
    }
   ],
   "source": [
    "artifact_removed_valid_times[-1][-1]"
   ]
  },
  {
   "cell_type": "code",
   "execution_count": 69,
   "id": "cb8c6043-063d-4191-9801-29e0ef46e5bd",
   "metadata": {
    "scrolled": true
   },
   "outputs": [
    {
     "data": {
      "text/plain": [
       "1691787094.6425176"
      ]
     },
     "execution_count": 69,
     "metadata": {},
     "output_type": "execute_result"
    }
   ],
   "source": [
    "artifact_time_list[-1][0]"
   ]
  },
  {
   "cell_type": "code",
   "execution_count": 51,
   "id": "a816f126-1a68-4da3-b3ba-a7765a0e7e69",
   "metadata": {},
   "outputs": [
    {
     "data": {
      "text/plain": [
       "1691786212"
      ]
     },
     "execution_count": 51,
     "metadata": {},
     "output_type": "execute_result"
    }
   ],
   "source": [
    "int(marks.time[-1])"
   ]
  },
  {
   "cell_type": "code",
   "execution_count": 54,
   "id": "47e36f8f-6a99-47ee-ace9-bab78ce73c98",
   "metadata": {},
   "outputs": [
    {
     "data": {
      "text/plain": [
       "1691787077.2412632"
      ]
     },
     "execution_count": 54,
     "metadata": {},
     "output_type": "execute_result"
    }
   ],
   "source": [
    "position_df.index[-10]"
   ]
  },
  {
   "cell_type": "code",
   "execution_count": 56,
   "id": "0e589916-a61b-4c4e-856a-cbf0b75c10e0",
   "metadata": {},
   "outputs": [],
   "source": []
  },
  {
   "cell_type": "code",
   "execution_count": 57,
   "id": "6630a5a4-8458-4445-b6c3-a1d0808899b2",
   "metadata": {},
   "outputs": [
    {
     "data": {
      "text/plain": [
       "1691787077.2597272"
      ]
     },
     "execution_count": 57,
     "metadata": {},
     "output_type": "execute_result"
    }
   ],
   "source": [
    "trial_last_t"
   ]
  },
  {
   "cell_type": "code",
   "execution_count": null,
   "id": "0ea10fa0-ff0e-411c-8117-722509444b63",
   "metadata": {},
   "outputs": [],
   "source": []
  },
  {
   "cell_type": "code",
   "execution_count": 20,
   "id": "49299d45-1662-4044-bd15-92d423a8c55e",
   "metadata": {},
   "outputs": [],
   "source": [
    "positionIntervalList = (\n",
    "        IntervalList &\n",
    "        {'nwb_file_name': nwb_copy_file_name,\n",
    "         'interval_list_name': position_interval[e]})\n",
    "\n",
    "marks_selection = ((UnitMarks & mark_parameters_keys) * positionIntervalList)\n",
    "marks_selection = (pd.DataFrame(marks_selection)\n",
    "                   .loc[:, marks_selection.primary_key]\n",
    "                   .to_dict('records'))\n",
    "UnitMarksIndicatorSelection.insert(marks_selection, skip_duplicates=True)"
   ]
  },
  {
   "cell_type": "code",
   "execution_count": 21,
   "id": "1b78dab5-fcdc-486a-90b8-497a446c6ba9",
   "metadata": {
    "scrolled": true
   },
   "outputs": [
    {
     "data": {
      "text/html": [
       "\n",
       "    \n",
       "    <style type=\"text/css\">\n",
       "        .Table{\n",
       "            border-collapse:collapse;\n",
       "        }\n",
       "        .Table th{\n",
       "            background: #A0A0A0; color: #ffffff; padding:4px; border:#f0e0e0 1px solid;\n",
       "            font-weight: normal; font-family: monospace; font-size: 100%;\n",
       "        }\n",
       "        .Table td{\n",
       "            padding:4px; border:#f0e0e0 1px solid; font-size:100%;\n",
       "        }\n",
       "        .Table tr:nth-child(odd){\n",
       "            background: #ffffff;\n",
       "            color: #000000;\n",
       "        }\n",
       "        .Table tr:nth-child(even){\n",
       "            background: #f3f1ff;\n",
       "            color: #000000;\n",
       "        }\n",
       "        /* Tooltip container */\n",
       "        .djtooltip {\n",
       "        }\n",
       "        /* Tooltip text */\n",
       "        .djtooltip .djtooltiptext {\n",
       "            visibility: hidden;\n",
       "            width: 120px;\n",
       "            background-color: black;\n",
       "            color: #fff;\n",
       "            text-align: center;\n",
       "            padding: 5px 0;\n",
       "            border-radius: 6px;\n",
       "            /* Position the tooltip text - see examples below! */\n",
       "            position: absolute;\n",
       "            z-index: 1;\n",
       "        }\n",
       "        #primary {\n",
       "            font-weight: bold;\n",
       "            color: black;\n",
       "        }\n",
       "        #nonprimary {\n",
       "            font-weight: normal;\n",
       "            color: white;\n",
       "        }\n",
       "\n",
       "        /* Show the tooltip text when you mouse over the tooltip container */\n",
       "        .djtooltip:hover .djtooltiptext {\n",
       "            visibility: visible;\n",
       "        }\n",
       "    </style>\n",
       "    \n",
       "    <b></b>\n",
       "        <div style=\"max-height:1000px;max-width:1500px;overflow:auto;\">\n",
       "        <table border=\"1\" class=\"Table\">\n",
       "            <thead> <tr style=\"text-align: right;\"> <th> <div class=\"djtooltip\">\n",
       "                            <p id=\"primary\">curation_id</p>\n",
       "                            <span class=\"djtooltiptext\">a number correponding to the index of this curation</span>\n",
       "                        </div></th><th><div class=\"djtooltip\">\n",
       "                            <p id=\"primary\">nwb_file_name</p>\n",
       "                            <span class=\"djtooltiptext\">name of the NWB file</span>\n",
       "                        </div></th><th><div class=\"djtooltip\">\n",
       "                            <p id=\"primary\">sort_group_id</p>\n",
       "                            <span class=\"djtooltiptext\">identifier for a group of electrodes</span>\n",
       "                        </div></th><th><div class=\"djtooltip\">\n",
       "                            <p id=\"primary\">sort_interval_name</p>\n",
       "                            <span class=\"djtooltiptext\">name for this interval</span>\n",
       "                        </div></th><th><div class=\"djtooltip\">\n",
       "                            <p id=\"primary\">preproc_params_name</p>\n",
       "                            <span class=\"djtooltiptext\"></span>\n",
       "                        </div></th><th><div class=\"djtooltip\">\n",
       "                            <p id=\"primary\">team_name</p>\n",
       "                            <span class=\"djtooltiptext\"></span>\n",
       "                        </div></th><th><div class=\"djtooltip\">\n",
       "                            <p id=\"primary\">sorter</p>\n",
       "                            <span class=\"djtooltiptext\"></span>\n",
       "                        </div></th><th><div class=\"djtooltip\">\n",
       "                            <p id=\"primary\">sorter_params_name</p>\n",
       "                            <span class=\"djtooltiptext\"></span>\n",
       "                        </div></th><th><div class=\"djtooltip\">\n",
       "                            <p id=\"primary\">artifact_removed_interval_list_name</p>\n",
       "                            <span class=\"djtooltiptext\"></span>\n",
       "                        </div></th><th><div class=\"djtooltip\">\n",
       "                            <p id=\"primary\">mark_param_name</p>\n",
       "                            <span class=\"djtooltiptext\">a name for this set of parameters</span>\n",
       "                        </div></th><th><div class=\"djtooltip\">\n",
       "                            <p id=\"primary\">interval_list_name</p>\n",
       "                            <span class=\"djtooltiptext\">descriptive name of this interval list</span>\n",
       "                        </div></th><th><div class=\"djtooltip\">\n",
       "                            <p id=\"primary\">sampling_rate</p>\n",
       "                            <span class=\"djtooltiptext\"></span>\n",
       "                        </div> </th> </tr> </thead>\n",
       "            <tbody> <tr> <td>0</td>\n",
       "<td>Julio20230811_.nwb</td>\n",
       "<td>2</td>\n",
       "<td>06_Seq2Session3</td>\n",
       "<td>franklab_tetrode_hippocampus</td>\n",
       "<td>SequenceTask</td>\n",
       "<td>clusterless_thresholder</td>\n",
       "<td>default</td>\n",
       "<td>Julio20230811_.nwb_06_Seq2Session3_2_franklab_tetrode_hippocampus_ampl_1500_prop_075_1ms_artifact_removed_valid_times_track_time_only</td>\n",
       "<td>default</td>\n",
       "<td>pos 5 valid times</td>\n",
       "<td>500.0</td></tr><tr><td>0</td>\n",
       "<td>Julio20230811_.nwb</td>\n",
       "<td>3</td>\n",
       "<td>06_Seq2Session3</td>\n",
       "<td>franklab_tetrode_hippocampus</td>\n",
       "<td>SequenceTask</td>\n",
       "<td>clusterless_thresholder</td>\n",
       "<td>default</td>\n",
       "<td>Julio20230811_.nwb_06_Seq2Session3_3_franklab_tetrode_hippocampus_ampl_1500_prop_075_1ms_artifact_removed_valid_times_track_time_only</td>\n",
       "<td>default</td>\n",
       "<td>pos 5 valid times</td>\n",
       "<td>500.0</td></tr><tr><td>0</td>\n",
       "<td>Julio20230811_.nwb</td>\n",
       "<td>6</td>\n",
       "<td>06_Seq2Session3</td>\n",
       "<td>franklab_tetrode_hippocampus</td>\n",
       "<td>SequenceTask</td>\n",
       "<td>clusterless_thresholder</td>\n",
       "<td>default</td>\n",
       "<td>Julio20230811_.nwb_06_Seq2Session3_6_franklab_tetrode_hippocampus_ampl_1500_prop_075_1ms_artifact_removed_valid_times_track_time_only</td>\n",
       "<td>default</td>\n",
       "<td>pos 5 valid times</td>\n",
       "<td>500.0</td></tr><tr><td>0</td>\n",
       "<td>Julio20230811_.nwb</td>\n",
       "<td>7</td>\n",
       "<td>06_Seq2Session3</td>\n",
       "<td>franklab_tetrode_hippocampus</td>\n",
       "<td>SequenceTask</td>\n",
       "<td>clusterless_thresholder</td>\n",
       "<td>default</td>\n",
       "<td>Julio20230811_.nwb_06_Seq2Session3_7_franklab_tetrode_hippocampus_ampl_1500_prop_075_1ms_artifact_removed_valid_times_track_time_only</td>\n",
       "<td>default</td>\n",
       "<td>pos 5 valid times</td>\n",
       "<td>500.0</td></tr><tr><td>0</td>\n",
       "<td>Julio20230811_.nwb</td>\n",
       "<td>8</td>\n",
       "<td>06_Seq2Session3</td>\n",
       "<td>franklab_tetrode_hippocampus</td>\n",
       "<td>SequenceTask</td>\n",
       "<td>clusterless_thresholder</td>\n",
       "<td>default</td>\n",
       "<td>Julio20230811_.nwb_06_Seq2Session3_8_franklab_tetrode_hippocampus_ampl_1500_prop_075_1ms_artifact_removed_valid_times_track_time_only</td>\n",
       "<td>default</td>\n",
       "<td>pos 5 valid times</td>\n",
       "<td>500.0</td></tr><tr><td>0</td>\n",
       "<td>Julio20230811_.nwb</td>\n",
       "<td>11</td>\n",
       "<td>06_Seq2Session3</td>\n",
       "<td>franklab_tetrode_hippocampus</td>\n",
       "<td>SequenceTask</td>\n",
       "<td>clusterless_thresholder</td>\n",
       "<td>default</td>\n",
       "<td>Julio20230811_.nwb_06_Seq2Session3_11_franklab_tetrode_hippocampus_ampl_1500_prop_075_1ms_artifact_removed_valid_times_track_time_only</td>\n",
       "<td>default</td>\n",
       "<td>pos 5 valid times</td>\n",
       "<td>500.0</td></tr><tr><td>0</td>\n",
       "<td>Julio20230811_.nwb</td>\n",
       "<td>12</td>\n",
       "<td>06_Seq2Session3</td>\n",
       "<td>franklab_tetrode_hippocampus</td>\n",
       "<td>SequenceTask</td>\n",
       "<td>clusterless_thresholder</td>\n",
       "<td>default</td>\n",
       "<td>Julio20230811_.nwb_06_Seq2Session3_12_franklab_tetrode_hippocampus_ampl_1500_prop_075_1ms_artifact_removed_valid_times_track_time_only</td>\n",
       "<td>default</td>\n",
       "<td>pos 5 valid times</td>\n",
       "<td>500.0</td></tr><tr><td>0</td>\n",
       "<td>Julio20230811_.nwb</td>\n",
       "<td>15</td>\n",
       "<td>06_Seq2Session3</td>\n",
       "<td>franklab_tetrode_hippocampus</td>\n",
       "<td>SequenceTask</td>\n",
       "<td>clusterless_thresholder</td>\n",
       "<td>default</td>\n",
       "<td>Julio20230811_.nwb_06_Seq2Session3_15_franklab_tetrode_hippocampus_ampl_1500_prop_075_1ms_artifact_removed_valid_times_track_time_only</td>\n",
       "<td>default</td>\n",
       "<td>pos 5 valid times</td>\n",
       "<td>500.0</td></tr><tr><td>0</td>\n",
       "<td>Julio20230811_.nwb</td>\n",
       "<td>20</td>\n",
       "<td>06_Seq2Session3</td>\n",
       "<td>franklab_tetrode_hippocampus</td>\n",
       "<td>SequenceTask</td>\n",
       "<td>clusterless_thresholder</td>\n",
       "<td>default</td>\n",
       "<td>Julio20230811_.nwb_06_Seq2Session3_20_franklab_tetrode_hippocampus_ampl_1500_prop_075_1ms_artifact_removed_valid_times_track_time_only</td>\n",
       "<td>default</td>\n",
       "<td>pos 5 valid times</td>\n",
       "<td>500.0</td></tr><tr><td>0</td>\n",
       "<td>Julio20230811_.nwb</td>\n",
       "<td>22</td>\n",
       "<td>06_Seq2Session3</td>\n",
       "<td>franklab_tetrode_hippocampus</td>\n",
       "<td>SequenceTask</td>\n",
       "<td>clusterless_thresholder</td>\n",
       "<td>default</td>\n",
       "<td>Julio20230811_.nwb_06_Seq2Session3_22_franklab_tetrode_hippocampus_ampl_1500_prop_075_1ms_artifact_removed_valid_times_track_time_only</td>\n",
       "<td>default</td>\n",
       "<td>pos 5 valid times</td>\n",
       "<td>500.0</td></tr><tr><td>0</td>\n",
       "<td>Julio20230811_.nwb</td>\n",
       "<td>26</td>\n",
       "<td>06_Seq2Session3</td>\n",
       "<td>franklab_tetrode_hippocampus</td>\n",
       "<td>SequenceTask</td>\n",
       "<td>clusterless_thresholder</td>\n",
       "<td>default</td>\n",
       "<td>Julio20230811_.nwb_06_Seq2Session3_26_franklab_tetrode_hippocampus_ampl_1500_prop_075_1ms_artifact_removed_valid_times_track_time_only</td>\n",
       "<td>default</td>\n",
       "<td>pos 5 valid times</td>\n",
       "<td>500.0</td></tr><tr><td>0</td>\n",
       "<td>Julio20230811_.nwb</td>\n",
       "<td>28</td>\n",
       "<td>06_Seq2Session3</td>\n",
       "<td>franklab_tetrode_hippocampus</td>\n",
       "<td>SequenceTask</td>\n",
       "<td>clusterless_thresholder</td>\n",
       "<td>default</td>\n",
       "<td>Julio20230811_.nwb_06_Seq2Session3_28_franklab_tetrode_hippocampus_ampl_1500_prop_075_1ms_artifact_removed_valid_times_track_time_only</td>\n",
       "<td>default</td>\n",
       "<td>pos 5 valid times</td>\n",
       "<td>500.0</td> </tr> </tbody>\n",
       "        </table>\n",
       "        <p>...</p>\n",
       "        <p>Total: 25</p></div>\n",
       "        "
      ],
      "text/plain": [
       "*curation_id   *nwb_file_name *sort_group_id *sort_interval *preproc_param *team_name     *sorter        *sorter_params *artifact_remo *mark_param_na *interval_list *sampling_rate\n",
       "+------------+ +------------+ +------------+ +------------+ +------------+ +------------+ +------------+ +------------+ +------------+ +------------+ +------------+ +------------+\n",
       "0              Julio20230811_ 2              06_Seq2Session franklab_tetro SequenceTask   clusterless_th default        Julio20230811_ default        pos 5 valid ti 500.0         \n",
       "0              Julio20230811_ 3              06_Seq2Session franklab_tetro SequenceTask   clusterless_th default        Julio20230811_ default        pos 5 valid ti 500.0         \n",
       "0              Julio20230811_ 6              06_Seq2Session franklab_tetro SequenceTask   clusterless_th default        Julio20230811_ default        pos 5 valid ti 500.0         \n",
       "0              Julio20230811_ 7              06_Seq2Session franklab_tetro SequenceTask   clusterless_th default        Julio20230811_ default        pos 5 valid ti 500.0         \n",
       "0              Julio20230811_ 8              06_Seq2Session franklab_tetro SequenceTask   clusterless_th default        Julio20230811_ default        pos 5 valid ti 500.0         \n",
       "0              Julio20230811_ 11             06_Seq2Session franklab_tetro SequenceTask   clusterless_th default        Julio20230811_ default        pos 5 valid ti 500.0         \n",
       "0              Julio20230811_ 12             06_Seq2Session franklab_tetro SequenceTask   clusterless_th default        Julio20230811_ default        pos 5 valid ti 500.0         \n",
       "0              Julio20230811_ 15             06_Seq2Session franklab_tetro SequenceTask   clusterless_th default        Julio20230811_ default        pos 5 valid ti 500.0         \n",
       "0              Julio20230811_ 20             06_Seq2Session franklab_tetro SequenceTask   clusterless_th default        Julio20230811_ default        pos 5 valid ti 500.0         \n",
       "0              Julio20230811_ 22             06_Seq2Session franklab_tetro SequenceTask   clusterless_th default        Julio20230811_ default        pos 5 valid ti 500.0         \n",
       "0              Julio20230811_ 26             06_Seq2Session franklab_tetro SequenceTask   clusterless_th default        Julio20230811_ default        pos 5 valid ti 500.0         \n",
       "0              Julio20230811_ 28             06_Seq2Session franklab_tetro SequenceTask   clusterless_th default        Julio20230811_ default        pos 5 valid ti 500.0         \n",
       "   ...\n",
       " (Total: 25)"
      ]
     },
     "execution_count": 21,
     "metadata": {},
     "output_type": "execute_result"
    }
   ],
   "source": [
    "UnitMarksIndicatorSelection() & {'nwb_file_name': nwb_copy_file_name,\n",
    "         'interval_list_name': position_interval[e]}"
   ]
  },
  {
   "cell_type": "code",
   "execution_count": 22,
   "id": "d179e13f-84b7-4682-928b-de9ebda1658e",
   "metadata": {
    "scrolled": true
   },
   "outputs": [
    {
     "name": "stderr",
     "output_type": "stream",
     "text": [
      "[20:07:06][INFO] Spyglass: Writing new NWB file Julio20230811_GQ1JYSFHFJ.nwb\n",
      "20-Apr-25 20:07:06 Writing new NWB file Julio20230811_GQ1JYSFHFJ.nwb\n",
      "[20:07:09][INFO] Spyglass: Writing new NWB file Julio20230811_ET4QYAPL8C.nwb\n",
      "20-Apr-25 20:07:09 Writing new NWB file Julio20230811_ET4QYAPL8C.nwb\n",
      "[20:07:12][INFO] Spyglass: Writing new NWB file Julio20230811_K2LVYK4E0Z.nwb\n",
      "20-Apr-25 20:07:12 Writing new NWB file Julio20230811_K2LVYK4E0Z.nwb\n",
      "[20:07:14][INFO] Spyglass: Writing new NWB file Julio20230811_B40H72ADKA.nwb\n",
      "20-Apr-25 20:07:14 Writing new NWB file Julio20230811_B40H72ADKA.nwb\n",
      "[20:07:17][INFO] Spyglass: Writing new NWB file Julio20230811_0DBT4AZOLS.nwb\n",
      "20-Apr-25 20:07:17 Writing new NWB file Julio20230811_0DBT4AZOLS.nwb\n",
      "[20:07:19][INFO] Spyglass: Writing new NWB file Julio20230811_JQ38MZTRT2.nwb\n",
      "20-Apr-25 20:07:19 Writing new NWB file Julio20230811_JQ38MZTRT2.nwb\n",
      "[20:07:22][INFO] Spyglass: Writing new NWB file Julio20230811_W3AHIS37PH.nwb\n",
      "20-Apr-25 20:07:22 Writing new NWB file Julio20230811_W3AHIS37PH.nwb\n",
      "[20:07:24][INFO] Spyglass: Writing new NWB file Julio20230811_GJ6NIQ3OKE.nwb\n",
      "20-Apr-25 20:07:24 Writing new NWB file Julio20230811_GJ6NIQ3OKE.nwb\n",
      "[20:07:27][INFO] Spyglass: Writing new NWB file Julio20230811_JKNKADR8XS.nwb\n",
      "20-Apr-25 20:07:27 Writing new NWB file Julio20230811_JKNKADR8XS.nwb\n",
      "[20:07:29][INFO] Spyglass: Writing new NWB file Julio20230811_TTPWP55LL2.nwb\n",
      "20-Apr-25 20:07:29 Writing new NWB file Julio20230811_TTPWP55LL2.nwb\n",
      "[20:07:32][INFO] Spyglass: Writing new NWB file Julio20230811_I84AJBTR48.nwb\n",
      "20-Apr-25 20:07:32 Writing new NWB file Julio20230811_I84AJBTR48.nwb\n",
      "[20:07:34][INFO] Spyglass: Writing new NWB file Julio20230811_3V76K96EAJ.nwb\n",
      "20-Apr-25 20:07:34 Writing new NWB file Julio20230811_3V76K96EAJ.nwb\n",
      "[20:07:37][INFO] Spyglass: Writing new NWB file Julio20230811_UTF074HGBL.nwb\n",
      "20-Apr-25 20:07:37 Writing new NWB file Julio20230811_UTF074HGBL.nwb\n",
      "[20:07:40][INFO] Spyglass: Writing new NWB file Julio20230811_M29XBA16K8.nwb\n",
      "20-Apr-25 20:07:40 Writing new NWB file Julio20230811_M29XBA16K8.nwb\n",
      "[20:07:42][INFO] Spyglass: Writing new NWB file Julio20230811_MHS3F1PXJQ.nwb\n",
      "20-Apr-25 20:07:42 Writing new NWB file Julio20230811_MHS3F1PXJQ.nwb\n",
      "[20:07:44][INFO] Spyglass: Writing new NWB file Julio20230811_YAGZAAAOS2.nwb\n",
      "20-Apr-25 20:07:44 Writing new NWB file Julio20230811_YAGZAAAOS2.nwb\n",
      "[20:07:47][INFO] Spyglass: Writing new NWB file Julio20230811_3YR19LBTRX.nwb\n",
      "20-Apr-25 20:07:47 Writing new NWB file Julio20230811_3YR19LBTRX.nwb\n",
      "[20:07:50][INFO] Spyglass: Writing new NWB file Julio20230811_RNW3O26TF4.nwb\n",
      "20-Apr-25 20:07:50 Writing new NWB file Julio20230811_RNW3O26TF4.nwb\n",
      "[20:07:52][INFO] Spyglass: Writing new NWB file Julio20230811_VH7ZRPROQJ.nwb\n",
      "20-Apr-25 20:07:52 Writing new NWB file Julio20230811_VH7ZRPROQJ.nwb\n",
      "[20:07:54][INFO] Spyglass: Writing new NWB file Julio20230811_Y1DJ06MRF8.nwb\n",
      "20-Apr-25 20:07:54 Writing new NWB file Julio20230811_Y1DJ06MRF8.nwb\n",
      "[20:07:57][INFO] Spyglass: Writing new NWB file Julio20230811_B81LH7QOPM.nwb\n",
      "20-Apr-25 20:07:57 Writing new NWB file Julio20230811_B81LH7QOPM.nwb\n",
      "[20:07:59][INFO] Spyglass: Writing new NWB file Julio20230811_65GZ2Q846G.nwb\n",
      "20-Apr-25 20:07:59 Writing new NWB file Julio20230811_65GZ2Q846G.nwb\n",
      "[20:08:02][INFO] Spyglass: Writing new NWB file Julio20230811_VKAV4Y31D5.nwb\n",
      "20-Apr-25 20:08:02 Writing new NWB file Julio20230811_VKAV4Y31D5.nwb\n",
      "[20:08:05][INFO] Spyglass: Writing new NWB file Julio20230811_GSUW74JWYC.nwb\n",
      "20-Apr-25 20:08:05 Writing new NWB file Julio20230811_GSUW74JWYC.nwb\n",
      "[20:08:07][INFO] Spyglass: Writing new NWB file Julio20230811_H6AY3I3TYD.nwb\n",
      "20-Apr-25 20:08:07 Writing new NWB file Julio20230811_H6AY3I3TYD.nwb\n"
     ]
    }
   ],
   "source": [
    "UnitMarksIndicator.populate(marks_selection)"
   ]
  },
  {
   "cell_type": "code",
   "execution_count": 23,
   "id": "ed3e32a4-6640-434c-a4d7-0620216dbe9d",
   "metadata": {
    "scrolled": true,
    "tags": []
   },
   "outputs": [
    {
     "data": {
      "text/plain": [
       "(27232, 4, 25)"
      ]
     },
     "execution_count": 23,
     "metadata": {},
     "output_type": "execute_result"
    }
   ],
   "source": [
    "marks = (UnitMarksIndicator & {\n",
    "    'nwb_file_name': nwb_copy_file_name,\n",
    "    'interval_list_name': position_interval[e],   \n",
    "}).fetch_xarray()\n",
    "marks.shape"
   ]
  },
  {
   "cell_type": "markdown",
   "id": "331eb32c-a745-4998-97e3-e853efc5b75b",
   "metadata": {},
   "source": [
    "After you get the marks, it is important to visualize them to make sure they look right. We can use the `plot_all_marks` method of UnitMarksIndicator to quickly plot each mark feature against the other for each electrode.\n",
    "\n",
    "Here it is important to look for things that look overly correlated (strong diagonal on the off-diagonal plots) and for extreme amplitudes."
   ]
  },
  {
   "cell_type": "code",
   "execution_count": 24,
   "id": "be6ff0f7-299c-4a9a-b886-90b36b59c739",
   "metadata": {
    "scrolled": true
   },
   "outputs": [
    {
     "data": {
      "text/html": [
       "\n",
       "    \n",
       "    <style type=\"text/css\">\n",
       "        .Table{\n",
       "            border-collapse:collapse;\n",
       "        }\n",
       "        .Table th{\n",
       "            background: #A0A0A0; color: #ffffff; padding:4px; border:#f0e0e0 1px solid;\n",
       "            font-weight: normal; font-family: monospace; font-size: 100%;\n",
       "        }\n",
       "        .Table td{\n",
       "            padding:4px; border:#f0e0e0 1px solid; font-size:100%;\n",
       "        }\n",
       "        .Table tr:nth-child(odd){\n",
       "            background: #ffffff;\n",
       "            color: #000000;\n",
       "        }\n",
       "        .Table tr:nth-child(even){\n",
       "            background: #f3f1ff;\n",
       "            color: #000000;\n",
       "        }\n",
       "        /* Tooltip container */\n",
       "        .djtooltip {\n",
       "        }\n",
       "        /* Tooltip text */\n",
       "        .djtooltip .djtooltiptext {\n",
       "            visibility: hidden;\n",
       "            width: 120px;\n",
       "            background-color: black;\n",
       "            color: #fff;\n",
       "            text-align: center;\n",
       "            padding: 5px 0;\n",
       "            border-radius: 6px;\n",
       "            /* Position the tooltip text - see examples below! */\n",
       "            position: absolute;\n",
       "            z-index: 1;\n",
       "        }\n",
       "        #primary {\n",
       "            font-weight: bold;\n",
       "            color: black;\n",
       "        }\n",
       "        #nonprimary {\n",
       "            font-weight: normal;\n",
       "            color: white;\n",
       "        }\n",
       "\n",
       "        /* Show the tooltip text when you mouse over the tooltip container */\n",
       "        .djtooltip:hover .djtooltiptext {\n",
       "            visibility: visible;\n",
       "        }\n",
       "    </style>\n",
       "    \n",
       "    <b></b>\n",
       "        <div style=\"max-height:1000px;max-width:1500px;overflow:auto;\">\n",
       "        <table border=\"1\" class=\"Table\">\n",
       "            <thead> <tr style=\"text-align: right;\"> <th> <div class=\"djtooltip\">\n",
       "                            <p id=\"primary\">curation_id</p>\n",
       "                            <span class=\"djtooltiptext\">a number correponding to the index of this curation</span>\n",
       "                        </div></th><th><div class=\"djtooltip\">\n",
       "                            <p id=\"primary\">nwb_file_name</p>\n",
       "                            <span class=\"djtooltiptext\">name of the NWB file</span>\n",
       "                        </div></th><th><div class=\"djtooltip\">\n",
       "                            <p id=\"primary\">sort_group_id</p>\n",
       "                            <span class=\"djtooltiptext\">identifier for a group of electrodes</span>\n",
       "                        </div></th><th><div class=\"djtooltip\">\n",
       "                            <p id=\"primary\">sort_interval_name</p>\n",
       "                            <span class=\"djtooltiptext\">name for this interval</span>\n",
       "                        </div></th><th><div class=\"djtooltip\">\n",
       "                            <p id=\"primary\">preproc_params_name</p>\n",
       "                            <span class=\"djtooltiptext\"></span>\n",
       "                        </div></th><th><div class=\"djtooltip\">\n",
       "                            <p id=\"primary\">team_name</p>\n",
       "                            <span class=\"djtooltiptext\"></span>\n",
       "                        </div></th><th><div class=\"djtooltip\">\n",
       "                            <p id=\"primary\">sorter</p>\n",
       "                            <span class=\"djtooltiptext\"></span>\n",
       "                        </div></th><th><div class=\"djtooltip\">\n",
       "                            <p id=\"primary\">sorter_params_name</p>\n",
       "                            <span class=\"djtooltiptext\"></span>\n",
       "                        </div></th><th><div class=\"djtooltip\">\n",
       "                            <p id=\"primary\">artifact_removed_interval_list_name</p>\n",
       "                            <span class=\"djtooltiptext\"></span>\n",
       "                        </div></th><th><div class=\"djtooltip\">\n",
       "                            <p id=\"primary\">mark_param_name</p>\n",
       "                            <span class=\"djtooltiptext\">a name for this set of parameters</span>\n",
       "                        </div></th><th><div class=\"djtooltip\">\n",
       "                            <p id=\"primary\">interval_list_name</p>\n",
       "                            <span class=\"djtooltiptext\">descriptive name of this interval list</span>\n",
       "                        </div></th><th><div class=\"djtooltip\">\n",
       "                            <p id=\"primary\">sampling_rate</p>\n",
       "                            <span class=\"djtooltiptext\"></span>\n",
       "                        </div></th><th><div class=\"djtooltip\">\n",
       "                            <p id=\"nonprimary\">analysis_file_name</p>\n",
       "                            <span class=\"djtooltiptext\">name of the file</span>\n",
       "                        </div></th><th><div class=\"djtooltip\">\n",
       "                            <p id=\"nonprimary\">marks_indicator_object_id</p>\n",
       "                            <span class=\"djtooltiptext\"></span>\n",
       "                        </div> </th> </tr> </thead>\n",
       "            <tbody> <tr> <td>0</td>\n",
       "<td>Julio20230811_.nwb</td>\n",
       "<td>2</td>\n",
       "<td>06_Seq2Session3</td>\n",
       "<td>franklab_tetrode_hippocampus</td>\n",
       "<td>SequenceTask</td>\n",
       "<td>clusterless_thresholder</td>\n",
       "<td>default</td>\n",
       "<td>Julio20230811_.nwb_06_Seq2Session3_2_franklab_tetrode_hippocampus_ampl_1500_prop_075_1ms_artifact_removed_valid_times_track_time_only</td>\n",
       "<td>default</td>\n",
       "<td>pos 5 valid times</td>\n",
       "<td>500.0</td>\n",
       "<td>Julio20230811_GQ1JYSFHFJ.nwb</td>\n",
       "<td>ecfd4344-69c5-4419-8913-63a51b5b881a</td></tr><tr><td>0</td>\n",
       "<td>Julio20230811_.nwb</td>\n",
       "<td>3</td>\n",
       "<td>06_Seq2Session3</td>\n",
       "<td>franklab_tetrode_hippocampus</td>\n",
       "<td>SequenceTask</td>\n",
       "<td>clusterless_thresholder</td>\n",
       "<td>default</td>\n",
       "<td>Julio20230811_.nwb_06_Seq2Session3_3_franklab_tetrode_hippocampus_ampl_1500_prop_075_1ms_artifact_removed_valid_times_track_time_only</td>\n",
       "<td>default</td>\n",
       "<td>pos 5 valid times</td>\n",
       "<td>500.0</td>\n",
       "<td>Julio20230811_ET4QYAPL8C.nwb</td>\n",
       "<td>d815f0ce-5e5a-4c54-bd2f-7cdffa2a92c6</td></tr><tr><td>0</td>\n",
       "<td>Julio20230811_.nwb</td>\n",
       "<td>6</td>\n",
       "<td>06_Seq2Session3</td>\n",
       "<td>franklab_tetrode_hippocampus</td>\n",
       "<td>SequenceTask</td>\n",
       "<td>clusterless_thresholder</td>\n",
       "<td>default</td>\n",
       "<td>Julio20230811_.nwb_06_Seq2Session3_6_franklab_tetrode_hippocampus_ampl_1500_prop_075_1ms_artifact_removed_valid_times_track_time_only</td>\n",
       "<td>default</td>\n",
       "<td>pos 5 valid times</td>\n",
       "<td>500.0</td>\n",
       "<td>Julio20230811_K2LVYK4E0Z.nwb</td>\n",
       "<td>414532b9-35ee-426a-9034-a8cad32bf0bc</td></tr><tr><td>0</td>\n",
       "<td>Julio20230811_.nwb</td>\n",
       "<td>7</td>\n",
       "<td>06_Seq2Session3</td>\n",
       "<td>franklab_tetrode_hippocampus</td>\n",
       "<td>SequenceTask</td>\n",
       "<td>clusterless_thresholder</td>\n",
       "<td>default</td>\n",
       "<td>Julio20230811_.nwb_06_Seq2Session3_7_franklab_tetrode_hippocampus_ampl_1500_prop_075_1ms_artifact_removed_valid_times_track_time_only</td>\n",
       "<td>default</td>\n",
       "<td>pos 5 valid times</td>\n",
       "<td>500.0</td>\n",
       "<td>Julio20230811_B40H72ADKA.nwb</td>\n",
       "<td>c38787d0-6d15-45a0-a8a9-bac19c4b75bb</td></tr><tr><td>0</td>\n",
       "<td>Julio20230811_.nwb</td>\n",
       "<td>8</td>\n",
       "<td>06_Seq2Session3</td>\n",
       "<td>franklab_tetrode_hippocampus</td>\n",
       "<td>SequenceTask</td>\n",
       "<td>clusterless_thresholder</td>\n",
       "<td>default</td>\n",
       "<td>Julio20230811_.nwb_06_Seq2Session3_8_franklab_tetrode_hippocampus_ampl_1500_prop_075_1ms_artifact_removed_valid_times_track_time_only</td>\n",
       "<td>default</td>\n",
       "<td>pos 5 valid times</td>\n",
       "<td>500.0</td>\n",
       "<td>Julio20230811_0DBT4AZOLS.nwb</td>\n",
       "<td>8dffc59b-5784-4e78-acfe-670c167b8db8</td></tr><tr><td>0</td>\n",
       "<td>Julio20230811_.nwb</td>\n",
       "<td>11</td>\n",
       "<td>06_Seq2Session3</td>\n",
       "<td>franklab_tetrode_hippocampus</td>\n",
       "<td>SequenceTask</td>\n",
       "<td>clusterless_thresholder</td>\n",
       "<td>default</td>\n",
       "<td>Julio20230811_.nwb_06_Seq2Session3_11_franklab_tetrode_hippocampus_ampl_1500_prop_075_1ms_artifact_removed_valid_times_track_time_only</td>\n",
       "<td>default</td>\n",
       "<td>pos 5 valid times</td>\n",
       "<td>500.0</td>\n",
       "<td>Julio20230811_JQ38MZTRT2.nwb</td>\n",
       "<td>0f3028bc-03e3-4cb8-9b26-2686815861ab</td></tr><tr><td>0</td>\n",
       "<td>Julio20230811_.nwb</td>\n",
       "<td>12</td>\n",
       "<td>06_Seq2Session3</td>\n",
       "<td>franklab_tetrode_hippocampus</td>\n",
       "<td>SequenceTask</td>\n",
       "<td>clusterless_thresholder</td>\n",
       "<td>default</td>\n",
       "<td>Julio20230811_.nwb_06_Seq2Session3_12_franklab_tetrode_hippocampus_ampl_1500_prop_075_1ms_artifact_removed_valid_times_track_time_only</td>\n",
       "<td>default</td>\n",
       "<td>pos 5 valid times</td>\n",
       "<td>500.0</td>\n",
       "<td>Julio20230811_W3AHIS37PH.nwb</td>\n",
       "<td>5001d036-12c2-4968-8188-20e8a91c6ac8</td></tr><tr><td>0</td>\n",
       "<td>Julio20230811_.nwb</td>\n",
       "<td>15</td>\n",
       "<td>06_Seq2Session3</td>\n",
       "<td>franklab_tetrode_hippocampus</td>\n",
       "<td>SequenceTask</td>\n",
       "<td>clusterless_thresholder</td>\n",
       "<td>default</td>\n",
       "<td>Julio20230811_.nwb_06_Seq2Session3_15_franklab_tetrode_hippocampus_ampl_1500_prop_075_1ms_artifact_removed_valid_times_track_time_only</td>\n",
       "<td>default</td>\n",
       "<td>pos 5 valid times</td>\n",
       "<td>500.0</td>\n",
       "<td>Julio20230811_GJ6NIQ3OKE.nwb</td>\n",
       "<td>3a2cc2b3-466f-4ab9-91c6-d96c7f8a834e</td></tr><tr><td>0</td>\n",
       "<td>Julio20230811_.nwb</td>\n",
       "<td>20</td>\n",
       "<td>06_Seq2Session3</td>\n",
       "<td>franklab_tetrode_hippocampus</td>\n",
       "<td>SequenceTask</td>\n",
       "<td>clusterless_thresholder</td>\n",
       "<td>default</td>\n",
       "<td>Julio20230811_.nwb_06_Seq2Session3_20_franklab_tetrode_hippocampus_ampl_1500_prop_075_1ms_artifact_removed_valid_times_track_time_only</td>\n",
       "<td>default</td>\n",
       "<td>pos 5 valid times</td>\n",
       "<td>500.0</td>\n",
       "<td>Julio20230811_JKNKADR8XS.nwb</td>\n",
       "<td>38f67bd2-944c-4902-b5d2-202da30995f8</td></tr><tr><td>0</td>\n",
       "<td>Julio20230811_.nwb</td>\n",
       "<td>22</td>\n",
       "<td>06_Seq2Session3</td>\n",
       "<td>franklab_tetrode_hippocampus</td>\n",
       "<td>SequenceTask</td>\n",
       "<td>clusterless_thresholder</td>\n",
       "<td>default</td>\n",
       "<td>Julio20230811_.nwb_06_Seq2Session3_22_franklab_tetrode_hippocampus_ampl_1500_prop_075_1ms_artifact_removed_valid_times_track_time_only</td>\n",
       "<td>default</td>\n",
       "<td>pos 5 valid times</td>\n",
       "<td>500.0</td>\n",
       "<td>Julio20230811_TTPWP55LL2.nwb</td>\n",
       "<td>5a5c382e-d611-4617-b1bf-9116eea2cd6e</td></tr><tr><td>0</td>\n",
       "<td>Julio20230811_.nwb</td>\n",
       "<td>26</td>\n",
       "<td>06_Seq2Session3</td>\n",
       "<td>franklab_tetrode_hippocampus</td>\n",
       "<td>SequenceTask</td>\n",
       "<td>clusterless_thresholder</td>\n",
       "<td>default</td>\n",
       "<td>Julio20230811_.nwb_06_Seq2Session3_26_franklab_tetrode_hippocampus_ampl_1500_prop_075_1ms_artifact_removed_valid_times_track_time_only</td>\n",
       "<td>default</td>\n",
       "<td>pos 5 valid times</td>\n",
       "<td>500.0</td>\n",
       "<td>Julio20230811_I84AJBTR48.nwb</td>\n",
       "<td>b86e772a-3926-4bcd-9603-021f0a3ecc38</td></tr><tr><td>0</td>\n",
       "<td>Julio20230811_.nwb</td>\n",
       "<td>28</td>\n",
       "<td>06_Seq2Session3</td>\n",
       "<td>franklab_tetrode_hippocampus</td>\n",
       "<td>SequenceTask</td>\n",
       "<td>clusterless_thresholder</td>\n",
       "<td>default</td>\n",
       "<td>Julio20230811_.nwb_06_Seq2Session3_28_franklab_tetrode_hippocampus_ampl_1500_prop_075_1ms_artifact_removed_valid_times_track_time_only</td>\n",
       "<td>default</td>\n",
       "<td>pos 5 valid times</td>\n",
       "<td>500.0</td>\n",
       "<td>Julio20230811_3V76K96EAJ.nwb</td>\n",
       "<td>dad3561d-7f47-4d4e-ae97-8ab2d63a36a7</td> </tr> </tbody>\n",
       "        </table>\n",
       "        <p>...</p>\n",
       "        <p>Total: 25</p></div>\n",
       "        "
      ],
      "text/plain": [
       "*curation_id   *nwb_file_name *sort_group_id *sort_interval *preproc_param *team_name     *sorter        *sorter_params *artifact_remo *mark_param_na *interval_list *sampling_rate analysis_file_ marks_indicato\n",
       "+------------+ +------------+ +------------+ +------------+ +------------+ +------------+ +------------+ +------------+ +------------+ +------------+ +------------+ +------------+ +------------+ +------------+\n",
       "0              Julio20230811_ 2              06_Seq2Session franklab_tetro SequenceTask   clusterless_th default        Julio20230811_ default        pos 5 valid ti 500.0          Julio20230811_ ecfd4344-69c5-\n",
       "0              Julio20230811_ 3              06_Seq2Session franklab_tetro SequenceTask   clusterless_th default        Julio20230811_ default        pos 5 valid ti 500.0          Julio20230811_ d815f0ce-5e5a-\n",
       "0              Julio20230811_ 6              06_Seq2Session franklab_tetro SequenceTask   clusterless_th default        Julio20230811_ default        pos 5 valid ti 500.0          Julio20230811_ 414532b9-35ee-\n",
       "0              Julio20230811_ 7              06_Seq2Session franklab_tetro SequenceTask   clusterless_th default        Julio20230811_ default        pos 5 valid ti 500.0          Julio20230811_ c38787d0-6d15-\n",
       "0              Julio20230811_ 8              06_Seq2Session franklab_tetro SequenceTask   clusterless_th default        Julio20230811_ default        pos 5 valid ti 500.0          Julio20230811_ 8dffc59b-5784-\n",
       "0              Julio20230811_ 11             06_Seq2Session franklab_tetro SequenceTask   clusterless_th default        Julio20230811_ default        pos 5 valid ti 500.0          Julio20230811_ 0f3028bc-03e3-\n",
       "0              Julio20230811_ 12             06_Seq2Session franklab_tetro SequenceTask   clusterless_th default        Julio20230811_ default        pos 5 valid ti 500.0          Julio20230811_ 5001d036-12c2-\n",
       "0              Julio20230811_ 15             06_Seq2Session franklab_tetro SequenceTask   clusterless_th default        Julio20230811_ default        pos 5 valid ti 500.0          Julio20230811_ 3a2cc2b3-466f-\n",
       "0              Julio20230811_ 20             06_Seq2Session franklab_tetro SequenceTask   clusterless_th default        Julio20230811_ default        pos 5 valid ti 500.0          Julio20230811_ 38f67bd2-944c-\n",
       "0              Julio20230811_ 22             06_Seq2Session franklab_tetro SequenceTask   clusterless_th default        Julio20230811_ default        pos 5 valid ti 500.0          Julio20230811_ 5a5c382e-d611-\n",
       "0              Julio20230811_ 26             06_Seq2Session franklab_tetro SequenceTask   clusterless_th default        Julio20230811_ default        pos 5 valid ti 500.0          Julio20230811_ b86e772a-3926-\n",
       "0              Julio20230811_ 28             06_Seq2Session franklab_tetro SequenceTask   clusterless_th default        Julio20230811_ default        pos 5 valid ti 500.0          Julio20230811_ dad3561d-7f47-\n",
       "   ...\n",
       " (Total: 25)"
      ]
     },
     "execution_count": 24,
     "metadata": {},
     "output_type": "execute_result"
    }
   ],
   "source": [
    "UnitMarksIndicator & {\n",
    "    'nwb_file_name': nwb_copy_file_name  \n",
    "}"
   ]
  },
  {
   "cell_type": "markdown",
   "id": "57eb5a4e-4213-4da6-adc4-1b235c5f4695",
   "metadata": {},
   "source": [
    "## 2. Position\n",
    "\n",
    "After the marks look good, you'll need to load/populate the 2D position data. This comes from the `IntervalPositionInfo` table. See the position tutorial for more information. Note that we will need to upsample the position data (which is done here via the `default_decoding` parameters) to match the sampling frequency that we intend to decode in (2 ms time bins or 500 Hz sampling rate)"
   ]
  },
  {
   "cell_type": "markdown",
   "id": "4f3d6f91-2ca5-404e-afc9-f45d802d33ef",
   "metadata": {},
   "source": [
    "Next we populate/load the linearized position tables. Again refer to the linear position tutorials for more information."
   ]
  },
  {
   "cell_type": "code",
   "execution_count": 25,
   "id": "94b0297d-f5e9-474f-8e21-5f6e09bd599d",
   "metadata": {},
   "outputs": [],
   "source": [
    "position_df = (IntervalPositionInfo &\n",
    " {'nwb_file_name': nwb_copy_file_name,\n",
    "  'interval_list_name': position_interval[e],\n",
    "  'position_info_param_name': 'default_decoding'}\n",
    "              ).fetch1_dataframe()"
   ]
  },
  {
   "cell_type": "code",
   "execution_count": 26,
   "id": "d44671a7-2f0f-4d27-a052-73798189061f",
   "metadata": {},
   "outputs": [
    {
     "data": {
      "text/html": [
       "<div>\n",
       "<style scoped>\n",
       "    .dataframe tbody tr th:only-of-type {\n",
       "        vertical-align: middle;\n",
       "    }\n",
       "\n",
       "    .dataframe tbody tr th {\n",
       "        vertical-align: top;\n",
       "    }\n",
       "\n",
       "    .dataframe thead th {\n",
       "        text-align: right;\n",
       "    }\n",
       "</style>\n",
       "<table border=\"1\" class=\"dataframe\">\n",
       "  <thead>\n",
       "    <tr style=\"text-align: right;\">\n",
       "      <th></th>\n",
       "      <th>head_position_x</th>\n",
       "      <th>head_position_y</th>\n",
       "      <th>head_orientation</th>\n",
       "      <th>head_velocity_x</th>\n",
       "      <th>head_velocity_y</th>\n",
       "      <th>head_speed</th>\n",
       "    </tr>\n",
       "    <tr>\n",
       "      <th>time</th>\n",
       "      <th></th>\n",
       "      <th></th>\n",
       "      <th></th>\n",
       "      <th></th>\n",
       "      <th></th>\n",
       "      <th></th>\n",
       "    </tr>\n",
       "  </thead>\n",
       "  <tbody>\n",
       "    <tr>\n",
       "      <th>1.691786e+09</th>\n",
       "      <td>NaN</td>\n",
       "      <td>NaN</td>\n",
       "      <td>NaN</td>\n",
       "      <td>NaN</td>\n",
       "      <td>NaN</td>\n",
       "      <td>NaN</td>\n",
       "    </tr>\n",
       "    <tr>\n",
       "      <th>1.691786e+09</th>\n",
       "      <td>NaN</td>\n",
       "      <td>NaN</td>\n",
       "      <td>NaN</td>\n",
       "      <td>NaN</td>\n",
       "      <td>NaN</td>\n",
       "      <td>NaN</td>\n",
       "    </tr>\n",
       "    <tr>\n",
       "      <th>1.691786e+09</th>\n",
       "      <td>NaN</td>\n",
       "      <td>NaN</td>\n",
       "      <td>NaN</td>\n",
       "      <td>NaN</td>\n",
       "      <td>NaN</td>\n",
       "      <td>NaN</td>\n",
       "    </tr>\n",
       "    <tr>\n",
       "      <th>1.691786e+09</th>\n",
       "      <td>NaN</td>\n",
       "      <td>NaN</td>\n",
       "      <td>NaN</td>\n",
       "      <td>NaN</td>\n",
       "      <td>NaN</td>\n",
       "      <td>NaN</td>\n",
       "    </tr>\n",
       "    <tr>\n",
       "      <th>1.691786e+09</th>\n",
       "      <td>NaN</td>\n",
       "      <td>NaN</td>\n",
       "      <td>NaN</td>\n",
       "      <td>NaN</td>\n",
       "      <td>NaN</td>\n",
       "      <td>NaN</td>\n",
       "    </tr>\n",
       "    <tr>\n",
       "      <th>...</th>\n",
       "      <td>...</td>\n",
       "      <td>...</td>\n",
       "      <td>...</td>\n",
       "      <td>...</td>\n",
       "      <td>...</td>\n",
       "      <td>...</td>\n",
       "    </tr>\n",
       "    <tr>\n",
       "      <th>1.691787e+09</th>\n",
       "      <td>213.875</td>\n",
       "      <td>232.710227</td>\n",
       "      <td>1.458069</td>\n",
       "      <td>1.325212</td>\n",
       "      <td>-0.721271</td>\n",
       "      <td>1.508781</td>\n",
       "    </tr>\n",
       "    <tr>\n",
       "      <th>1.691787e+09</th>\n",
       "      <td>213.875</td>\n",
       "      <td>232.704545</td>\n",
       "      <td>1.458069</td>\n",
       "      <td>1.297402</td>\n",
       "      <td>-0.717262</td>\n",
       "      <td>1.482470</td>\n",
       "    </tr>\n",
       "    <tr>\n",
       "      <th>1.691787e+09</th>\n",
       "      <td>213.875</td>\n",
       "      <td>232.698864</td>\n",
       "      <td>1.458070</td>\n",
       "      <td>1.269694</td>\n",
       "      <td>-0.713004</td>\n",
       "      <td>1.456193</td>\n",
       "    </tr>\n",
       "    <tr>\n",
       "      <th>1.691787e+09</th>\n",
       "      <td>213.875</td>\n",
       "      <td>232.693182</td>\n",
       "      <td>1.490844</td>\n",
       "      <td>1.242108</td>\n",
       "      <td>-0.708502</td>\n",
       "      <td>1.429968</td>\n",
       "    </tr>\n",
       "    <tr>\n",
       "      <th>1.691787e+09</th>\n",
       "      <td>213.875</td>\n",
       "      <td>232.687500</td>\n",
       "      <td>2.146259</td>\n",
       "      <td>1.214663</td>\n",
       "      <td>-0.703763</td>\n",
       "      <td>1.403812</td>\n",
       "    </tr>\n",
       "  </tbody>\n",
       "</table>\n",
       "<p>497856 rows × 6 columns</p>\n",
       "</div>"
      ],
      "text/plain": [
       "              head_position_x  head_position_y  head_orientation  \\\n",
       "time                                                               \n",
       "1.691786e+09              NaN              NaN               NaN   \n",
       "1.691786e+09              NaN              NaN               NaN   \n",
       "1.691786e+09              NaN              NaN               NaN   \n",
       "1.691786e+09              NaN              NaN               NaN   \n",
       "1.691786e+09              NaN              NaN               NaN   \n",
       "...                       ...              ...               ...   \n",
       "1.691787e+09          213.875       232.710227          1.458069   \n",
       "1.691787e+09          213.875       232.704545          1.458069   \n",
       "1.691787e+09          213.875       232.698864          1.458070   \n",
       "1.691787e+09          213.875       232.693182          1.490844   \n",
       "1.691787e+09          213.875       232.687500          2.146259   \n",
       "\n",
       "              head_velocity_x  head_velocity_y  head_speed  \n",
       "time                                                        \n",
       "1.691786e+09              NaN              NaN         NaN  \n",
       "1.691786e+09              NaN              NaN         NaN  \n",
       "1.691786e+09              NaN              NaN         NaN  \n",
       "1.691786e+09              NaN              NaN         NaN  \n",
       "1.691786e+09              NaN              NaN         NaN  \n",
       "...                       ...              ...         ...  \n",
       "1.691787e+09         1.325212        -0.721271    1.508781  \n",
       "1.691787e+09         1.297402        -0.717262    1.482470  \n",
       "1.691787e+09         1.269694        -0.713004    1.456193  \n",
       "1.691787e+09         1.242108        -0.708502    1.429968  \n",
       "1.691787e+09         1.214663        -0.703763    1.403812  \n",
       "\n",
       "[497856 rows x 6 columns]"
      ]
     },
     "execution_count": 26,
     "metadata": {},
     "output_type": "execute_result"
    }
   ],
   "source": [
    "position_df"
   ]
  },
  {
   "cell_type": "code",
   "execution_count": 27,
   "id": "308bac74-947d-4929-b97e-fd1d251bcda1",
   "metadata": {
    "scrolled": true
   },
   "outputs": [
    {
     "name": "stderr",
     "output_type": "stream",
     "text": [
      "[20:40:21][WARNING] Spyglass: Deprecation: this class has been moved out of spyglass.common.common_position\n",
      "\tIntervalLinearizedPosition -> spyglass.linearization.v0.main.IntervalLinearizedPosition\n",
      "Please use the new location.\n",
      "20-Apr-25 20:40:21 Deprecation: this class has been moved out of spyglass.common.common_position\n",
      "\tIntervalLinearizedPosition -> spyglass.linearization.v0.main.IntervalLinearizedPosition\n",
      "Please use the new location.\n"
     ]
    },
    {
     "data": {
      "text/html": [
       "<div>\n",
       "<style scoped>\n",
       "    .dataframe tbody tr th:only-of-type {\n",
       "        vertical-align: middle;\n",
       "    }\n",
       "\n",
       "    .dataframe tbody tr th {\n",
       "        vertical-align: top;\n",
       "    }\n",
       "\n",
       "    .dataframe thead th {\n",
       "        text-align: right;\n",
       "    }\n",
       "</style>\n",
       "<table border=\"1\" class=\"dataframe\">\n",
       "  <thead>\n",
       "    <tr style=\"text-align: right;\">\n",
       "      <th></th>\n",
       "      <th>linear_position</th>\n",
       "      <th>track_segment_id</th>\n",
       "      <th>projected_x_position</th>\n",
       "      <th>projected_y_position</th>\n",
       "    </tr>\n",
       "    <tr>\n",
       "      <th>time</th>\n",
       "      <th></th>\n",
       "      <th></th>\n",
       "      <th></th>\n",
       "      <th></th>\n",
       "    </tr>\n",
       "  </thead>\n",
       "  <tbody>\n",
       "    <tr>\n",
       "      <th>1.691786e+09</th>\n",
       "      <td>NaN</td>\n",
       "      <td>0</td>\n",
       "      <td>NaN</td>\n",
       "      <td>NaN</td>\n",
       "    </tr>\n",
       "    <tr>\n",
       "      <th>1.691786e+09</th>\n",
       "      <td>NaN</td>\n",
       "      <td>0</td>\n",
       "      <td>NaN</td>\n",
       "      <td>NaN</td>\n",
       "    </tr>\n",
       "    <tr>\n",
       "      <th>1.691786e+09</th>\n",
       "      <td>NaN</td>\n",
       "      <td>0</td>\n",
       "      <td>NaN</td>\n",
       "      <td>NaN</td>\n",
       "    </tr>\n",
       "    <tr>\n",
       "      <th>1.691786e+09</th>\n",
       "      <td>NaN</td>\n",
       "      <td>0</td>\n",
       "      <td>NaN</td>\n",
       "      <td>NaN</td>\n",
       "    </tr>\n",
       "    <tr>\n",
       "      <th>1.691786e+09</th>\n",
       "      <td>NaN</td>\n",
       "      <td>0</td>\n",
       "      <td>NaN</td>\n",
       "      <td>NaN</td>\n",
       "    </tr>\n",
       "    <tr>\n",
       "      <th>...</th>\n",
       "      <td>...</td>\n",
       "      <td>...</td>\n",
       "      <td>...</td>\n",
       "      <td>...</td>\n",
       "    </tr>\n",
       "    <tr>\n",
       "      <th>1.691787e+09</th>\n",
       "      <td>1.538229</td>\n",
       "      <td>0</td>\n",
       "      <td>210.356749</td>\n",
       "      <td>232.465479</td>\n",
       "    </tr>\n",
       "    <tr>\n",
       "      <th>1.691787e+09</th>\n",
       "      <td>1.543897</td>\n",
       "      <td>0</td>\n",
       "      <td>210.357143</td>\n",
       "      <td>232.459825</td>\n",
       "    </tr>\n",
       "    <tr>\n",
       "      <th>1.691787e+09</th>\n",
       "      <td>1.549565</td>\n",
       "      <td>0</td>\n",
       "      <td>210.357536</td>\n",
       "      <td>232.454170</td>\n",
       "    </tr>\n",
       "    <tr>\n",
       "      <th>1.691787e+09</th>\n",
       "      <td>1.555234</td>\n",
       "      <td>0</td>\n",
       "      <td>210.357929</td>\n",
       "      <td>232.448516</td>\n",
       "    </tr>\n",
       "    <tr>\n",
       "      <th>1.691787e+09</th>\n",
       "      <td>1.560902</td>\n",
       "      <td>0</td>\n",
       "      <td>210.358323</td>\n",
       "      <td>232.442862</td>\n",
       "    </tr>\n",
       "  </tbody>\n",
       "</table>\n",
       "<p>497856 rows × 4 columns</p>\n",
       "</div>"
      ],
      "text/plain": [
       "              linear_position  track_segment_id  projected_x_position  \\\n",
       "time                                                                    \n",
       "1.691786e+09              NaN                 0                   NaN   \n",
       "1.691786e+09              NaN                 0                   NaN   \n",
       "1.691786e+09              NaN                 0                   NaN   \n",
       "1.691786e+09              NaN                 0                   NaN   \n",
       "1.691786e+09              NaN                 0                   NaN   \n",
       "...                       ...               ...                   ...   \n",
       "1.691787e+09         1.538229                 0            210.356749   \n",
       "1.691787e+09         1.543897                 0            210.357143   \n",
       "1.691787e+09         1.549565                 0            210.357536   \n",
       "1.691787e+09         1.555234                 0            210.357929   \n",
       "1.691787e+09         1.560902                 0            210.358323   \n",
       "\n",
       "              projected_y_position  \n",
       "time                                \n",
       "1.691786e+09                   NaN  \n",
       "1.691786e+09                   NaN  \n",
       "1.691786e+09                   NaN  \n",
       "1.691786e+09                   NaN  \n",
       "1.691786e+09                   NaN  \n",
       "...                            ...  \n",
       "1.691787e+09            232.465479  \n",
       "1.691787e+09            232.459825  \n",
       "1.691787e+09            232.454170  \n",
       "1.691787e+09            232.448516  \n",
       "1.691787e+09            232.442862  \n",
       "\n",
       "[497856 rows x 4 columns]"
      ]
     },
     "execution_count": 27,
     "metadata": {},
     "output_type": "execute_result"
    }
   ],
   "source": [
    "from spyglass.common.common_position import IntervalLinearizedPosition\n",
    "\n",
    "linear_position_df = (IntervalLinearizedPosition() &\n",
    " {'nwb_file_name': nwb_copy_file_name,\n",
    "  'interval_list_name': position_interval[e],\n",
    "  'position_info_param_name': 'default_decoding'}\n",
    ").fetch1_dataframe()\n",
    "\n",
    "linear_position_df"
   ]
  },
  {
   "cell_type": "markdown",
   "id": "b3e25786-4d35-49f8-9768-81dba7c7098b",
   "metadata": {},
   "source": [
    "We should also quickly visualize the linear position in order to sanity check the values. Here we plot the 2D position projected to its corresponding 1D segment."
   ]
  },
  {
   "cell_type": "code",
   "execution_count": 28,
   "id": "b4e47250-ff99-4e1e-bf3b-f8a6f3ea9862",
   "metadata": {},
   "outputs": [
    {
     "data": {
      "text/plain": [
       "<matplotlib.collections.PathCollection at 0x7fd3b93d1430>"
      ]
     },
     "execution_count": 28,
     "metadata": {},
     "output_type": "execute_result"
    },
    {
     "data": {
      "image/png": "[encoded data removed]",
      "text/plain": [
       "<Figure size 700x600 with 1 Axes>"
      ]
     },
     "metadata": {},
     "output_type": "display_data"
    }
   ],
   "source": [
    "plt.figure(figsize=(7, 6))\n",
    "plt.scatter(linear_position_df.projected_x_position, linear_position_df.projected_y_position,\n",
    "            c=linear_position_df.track_segment_id, cmap='tab20', s=1)"
   ]
  },
  {
   "cell_type": "markdown",
   "id": "b091236d-f46d-4e71-9ee8-1aa7ada1cd56",
   "metadata": {},
   "source": [
    "We should also plot the linearized position itself to make sure it is okay."
   ]
  },
  {
   "cell_type": "code",
   "execution_count": 29,
   "id": "4e25f9a7-b2c4-4a93-a548-67cf2d6b90a2",
   "metadata": {},
   "outputs": [
    {
     "data": {
      "text/plain": [
       "<matplotlib.collections.PathCollection at 0x7fd3b8f56910>"
      ]
     },
     "execution_count": 29,
     "metadata": {},
     "output_type": "execute_result"
    },
    {
     "data": {
      "image/png": "[encoded data removed]",
      "text/plain": [
       "<Figure size 2000x1000 with 1 Axes>"
      ]
     },
     "metadata": {},
     "output_type": "display_data"
    }
   ],
   "source": [
    "plt.figure(figsize=(20, 10))\n",
    "plt.scatter(linear_position_df.index, linear_position_df.linear_position, s=1,\n",
    "            c=linear_position_df.track_segment_id, cmap='tab20')"
   ]
  },
  {
   "cell_type": "markdown",
   "id": "a7542fc3-7b32-4bdc-bc5e-255fb89a0f50",
   "metadata": {},
   "source": [
    "Okay now that we've looked at the data, we should quickly verify that all our data is the same size."
   ]
  },
  {
   "cell_type": "markdown",
   "id": "36c55e7e-15fb-4c15-aa67-3ce61f7950f7",
   "metadata": {},
   "source": [
    "We also want to make sure we have valid ephys data and valid position data for decoding. Here we only have one valid time interval, but if we had more than one, we should decode on each interval separately."
   ]
  },
  {
   "cell_type": "code",
   "execution_count": 30,
   "id": "3a02f91d-fd36-407c-a87c-2cd209dd7183",
   "metadata": {},
   "outputs": [
    {
     "data": {
      "text/plain": [
       "((27228, 4, 25), (459605, 6), (459605, 4))"
      ]
     },
     "execution_count": 30,
     "metadata": {},
     "output_type": "execute_result"
    }
   ],
   "source": [
    "intersect_interval = intersectValidIntervals(nwb_copy_file_name,\n",
    "                                                session_interval[e],position_interval[e])\n",
    "marks_=[]\n",
    "linear_position_df_=[]\n",
    "position_df_ =[]\n",
    "for i in range(len(intersect_interval)):\n",
    "    valid_time_slice = slice(intersect_interval[i][0], intersect_interval[i][1])\n",
    "    \n",
    "    linear_position_df_.append(linear_position_df.loc[valid_time_slice])\n",
    "    position_df_.append(position_df.loc[valid_time_slice])\n",
    "    marks_.append(marks.sel(time=valid_time_slice))\n",
    "\n",
    "marks=xr.concat(marks_,dim='time')\n",
    "position_df = pd.concat(position_df_)\n",
    "linear_position_df=pd.concat(linear_position_df_)\n",
    "marks.shape, position_df.shape, linear_position_df.shape"
   ]
  },
  {
   "cell_type": "code",
   "execution_count": 42,
   "id": "4b6e6c8b-c206-485d-a908-d23f5aa15a2d",
   "metadata": {},
   "outputs": [
    {
     "data": {
      "text/plain": [
       "1691786212"
      ]
     },
     "execution_count": 42,
     "metadata": {},
     "output_type": "execute_result"
    }
   ],
   "source": []
  },
  {
   "cell_type": "code",
   "execution_count": 43,
   "id": "ebf1230e-97d8-4ff4-9b66-67ec81308c5d",
   "metadata": {},
   "outputs": [
    {
     "data": {
      "text/plain": [
       "1691787077.2592633"
      ]
     },
     "execution_count": 43,
     "metadata": {},
     "output_type": "execute_result"
    }
   ],
   "source": []
  },
  {
   "cell_type": "code",
   "execution_count": 44,
   "id": "b249f9eb-e19b-45aa-8792-168ce200afff",
   "metadata": {},
   "outputs": [
    {
     "data": {
      "text/plain": [
       "16.666666666666668"
      ]
     },
     "execution_count": 44,
     "metadata": {},
     "output_type": "execute_result"
    }
   ],
   "source": [
    "1000/60"
   ]
  },
  {
   "cell_type": "code",
   "execution_count": 33,
   "id": "58692822-2343-48f1-81ba-673230b9a8b1",
   "metadata": {},
   "outputs": [],
   "source": [
    "animal = nwb_copy_file_name[:5]\n",
    "marks_path=os.path.join(f'/cumulus/shijie/recording_pilot/{animal}/decoding',\n",
    "                             nwb_copy_file_name+'_'+session_interval[e]+'_marks.nc')\n",
    "marks.to_netcdf(marks_path)\n",
    "\n",
    "position1d_path=os.path.join(f'/cumulus/shijie/recording_pilot/{animal}/decoding',\n",
    "                             nwb_copy_file_name+'_'+session_interval[e]+'_1dposition.csv')\n",
    "linear_position_df.to_csv(position1d_path)\n",
    "\n",
    "position2d_path=os.path.join(f'/cumulus/shijie/recording_pilot/{animal}/decoding',\n",
    "                             nwb_copy_file_name+'_'+session_interval[e]+'_2dposition.csv')\n",
    "position_df.to_csv(position2d_path)"
   ]
  },
  {
   "cell_type": "code",
   "execution_count": 34,
   "id": "fc7939a0-1270-45c0-8aff-89603276b840",
   "metadata": {},
   "outputs": [],
   "source": [
    "from spyglass.shijiegu.Analysis_SGU import DecodeIngredients\n",
    "key={'nwb_file_name':nwb_copy_file_name,\n",
    "     'interval_list_name':session_interval[e],\n",
    "     'marks':marks_path,\n",
    "     'position_1d':position1d_path,\n",
    "     'position_2d':position2d_path}\n",
    "DecodeIngredients().insert1(key,replace=True)"
   ]
  },
  {
   "cell_type": "code",
   "execution_count": 50,
   "id": "1caf244a-7be5-47ce-aa63-960358291f71",
   "metadata": {},
   "outputs": [
    {
     "data": {
      "text/html": [
       "\n",
       "    \n",
       "    <style type=\"text/css\">\n",
       "        .Table{\n",
       "            border-collapse:collapse;\n",
       "        }\n",
       "        .Table th{\n",
       "            background: #A0A0A0; color: #ffffff; padding:4px; border:#f0e0e0 1px solid;\n",
       "            font-weight: normal; font-family: monospace; font-size: 100%;\n",
       "        }\n",
       "        .Table td{\n",
       "            padding:4px; border:#f0e0e0 1px solid; font-size:100%;\n",
       "        }\n",
       "        .Table tr:nth-child(odd){\n",
       "            background: #ffffff;\n",
       "            color: #000000;\n",
       "        }\n",
       "        .Table tr:nth-child(even){\n",
       "            background: #f3f1ff;\n",
       "            color: #000000;\n",
       "        }\n",
       "        /* Tooltip container */\n",
       "        .djtooltip {\n",
       "        }\n",
       "        /* Tooltip text */\n",
       "        .djtooltip .djtooltiptext {\n",
       "            visibility: hidden;\n",
       "            width: 120px;\n",
       "            background-color: black;\n",
       "            color: #fff;\n",
       "            text-align: center;\n",
       "            padding: 5px 0;\n",
       "            border-radius: 6px;\n",
       "            /* Position the tooltip text - see examples below! */\n",
       "            position: absolute;\n",
       "            z-index: 1;\n",
       "        }\n",
       "        #primary {\n",
       "            font-weight: bold;\n",
       "            color: black;\n",
       "        }\n",
       "        #nonprimary {\n",
       "            font-weight: normal;\n",
       "            color: white;\n",
       "        }\n",
       "\n",
       "        /* Show the tooltip text when you mouse over the tooltip container */\n",
       "        .djtooltip:hover .djtooltiptext {\n",
       "            visibility: visible;\n",
       "        }\n",
       "    </style>\n",
       "    \n",
       "    <b>decoded replay content</b>\n",
       "        <div style=\"max-height:1000px;max-width:1500px;overflow:auto;\">\n",
       "        <table border=\"1\" class=\"Table\">\n",
       "            <thead> <tr style=\"text-align: right;\"> <th> <div class=\"djtooltip\">\n",
       "                            <p id=\"primary\">nwb_file_name</p>\n",
       "                            <span class=\"djtooltiptext\">name of the NWB file</span>\n",
       "                        </div></th><th><div class=\"djtooltip\">\n",
       "                            <p id=\"primary\">interval_list_name</p>\n",
       "                            <span class=\"djtooltiptext\">descriptive name of this interval list</span>\n",
       "                        </div></th><th><div class=\"djtooltip\">\n",
       "                            <p id=\"nonprimary\">marks</p>\n",
       "                            <span class=\"djtooltiptext\">valid marks within that interval</span>\n",
       "                        </div></th><th><div class=\"djtooltip\">\n",
       "                            <p id=\"nonprimary\">position_1d</p>\n",
       "                            <span class=\"djtooltiptext\">valid position within that interval (1D), inluding all rat-on-track time</span>\n",
       "                        </div></th><th><div class=\"djtooltip\">\n",
       "                            <p id=\"nonprimary\">position_2d</p>\n",
       "                            <span class=\"djtooltiptext\">valid position within that interval (2D), inluding all rat-on-track time</span>\n",
       "                        </div> </th> </tr> </thead>\n",
       "            <tbody> <tr> <td>molly20220419_.nwb</td>\n",
       "<td>02_Seq2Session1</td>\n",
       "<td>=BLOB=</td>\n",
       "<td>=BLOB=</td>\n",
       "<td>=BLOB=</td></tr><tr><td>molly20220419_.nwb</td>\n",
       "<td>04_Seq2Session2</td>\n",
       "<td>=BLOB=</td>\n",
       "<td>=BLOB=</td>\n",
       "<td>=BLOB=</td></tr><tr><td>molly20220419_.nwb</td>\n",
       "<td>06_Seq2Session3</td>\n",
       "<td>=BLOB=</td>\n",
       "<td>=BLOB=</td>\n",
       "<td>=BLOB=</td></tr><tr><td>molly20220419_.nwb</td>\n",
       "<td>08_Seq2Session4</td>\n",
       "<td>=BLOB=</td>\n",
       "<td>=BLOB=</td>\n",
       "<td>=BLOB=</td></tr><tr><td>molly20220419_.nwb</td>\n",
       "<td>10_Seq2Session5</td>\n",
       "<td>=BLOB=</td>\n",
       "<td>=BLOB=</td>\n",
       "<td>=BLOB=</td> </tr> </tbody>\n",
       "        </table>\n",
       "        \n",
       "        <p>Total: 5</p></div>\n",
       "        "
      ],
      "text/plain": [
       "*nwb_file_name *interval_list marks      position_1 position_2\n",
       "+------------+ +------------+ +--------+ +--------+ +--------+\n",
       "molly20220419_ 02_Seq2Session =BLOB=     =BLOB=     =BLOB=    \n",
       "molly20220419_ 04_Seq2Session =BLOB=     =BLOB=     =BLOB=    \n",
       "molly20220419_ 06_Seq2Session =BLOB=     =BLOB=     =BLOB=    \n",
       "molly20220419_ 08_Seq2Session =BLOB=     =BLOB=     =BLOB=    \n",
       "molly20220419_ 10_Seq2Session =BLOB=     =BLOB=     =BLOB=    \n",
       " (Total: 5)"
      ]
     },
     "execution_count": 50,
     "metadata": {},
     "output_type": "execute_result"
    }
   ],
   "source": [
    "from spyglass.shijiegu.Analysis_SGU import DecodeIngredients\n",
    "DecodeIngredients() & {'nwb_file_name':nwb_copy_file_name}"
   ]
  },
  {
   "cell_type": "markdown",
   "id": "b7971f39-91ca-4e42-a2b4-f4ec3012d4d7",
   "metadata": {},
   "source": [
    "# Run All sessions"
   ]
  },
  {
   "cell_type": "code",
   "execution_count": 10,
   "id": "538dc3a5-ba08-4182-89aa-72c3a0da7f7e",
   "metadata": {},
   "outputs": [
    {
     "name": "stdout",
     "output_type": "stream",
     "text": [
      "Julio20230811_.nwb\n",
      "['02_Seq2Session1', '04_Seq2Session2', '06_Seq2Session3', '07_Seq2Session4', '09_Seq2Session5']\n"
     ]
    }
   ],
   "source": [
    "session_interval, position_interval = runSessionNames(nwb_copy_file_name)\n",
    "print(nwb_copy_file_name)\n",
    "print(session_interval)"
   ]
  },
  {
   "cell_type": "code",
   "execution_count": 11,
   "id": "19a52c25-7517-4232-82c8-a6eef23e0dc5",
   "metadata": {},
   "outputs": [
    {
     "name": "stdout",
     "output_type": "stream",
     "text": [
      "Julio20230811_.nwb\n",
      "['01_Seq2Sleep1', '03_Seq2Sleep2', '05_Seq2Sleep3', '08_Seq2Sleep4', '10_Seq2Sleep5']\n"
     ]
    }
   ],
   "source": [
    "sleep_interval, sleep_position_interval = sleepSessionNames(nwb_copy_file_name)\n",
    "print(nwb_copy_file_name)\n",
    "print(sleep_interval)"
   ]
  },
  {
   "cell_type": "code",
   "execution_count": null,
   "id": "c670534d-c7ca-497d-880b-ca50f552a3a0",
   "metadata": {
    "scrolled": true
   },
   "outputs": [
    {
     "name": "stdout",
     "output_type": "stream",
     "text": [
      "2\n",
      "inserting into IntervalList\n",
      "done inserting into IntervalList\n",
      "3\n",
      "inserting into IntervalList\n",
      "done inserting into IntervalList\n",
      "6\n",
      "inserting into IntervalList\n",
      "done inserting into IntervalList\n",
      "7\n",
      "inserting into IntervalList\n",
      "done inserting into IntervalList\n",
      "8\n",
      "inserting into IntervalList\n",
      "done inserting into IntervalList\n",
      "11\n",
      "inserting into IntervalList\n",
      "done inserting into IntervalList\n",
      "12\n",
      "inserting into IntervalList\n",
      "done inserting into IntervalList\n",
      "15\n",
      "inserting into IntervalList\n",
      "done inserting into IntervalList\n",
      "20\n",
      "inserting into IntervalList\n",
      "done inserting into IntervalList\n",
      "22\n",
      "inserting into IntervalList\n",
      "done inserting into IntervalList\n",
      "26\n",
      "inserting into IntervalList\n",
      "done inserting into IntervalList\n",
      "28\n",
      "inserting into IntervalList\n",
      "done inserting into IntervalList\n",
      "29\n",
      "inserting into IntervalList\n",
      "done inserting into IntervalList\n",
      "30\n",
      "inserting into IntervalList\n",
      "done inserting into IntervalList\n",
      "31\n",
      "inserting into IntervalList\n",
      "done inserting into IntervalList\n",
      "36\n",
      "inserting into IntervalList\n",
      "done inserting into IntervalList\n",
      "42\n",
      "inserting into IntervalList\n",
      "done inserting into IntervalList\n",
      "43\n",
      "inserting into IntervalList\n",
      "done inserting into IntervalList\n",
      "49\n",
      "inserting into IntervalList\n",
      "done inserting into IntervalList\n",
      "50\n",
      "inserting into IntervalList\n",
      "done inserting into IntervalList\n",
      "51\n",
      "inserting into IntervalList\n",
      "done inserting into IntervalList\n",
      "52\n",
      "inserting into IntervalList\n",
      "done inserting into IntervalList\n",
      "55\n",
      "inserting into IntervalList\n",
      "done inserting into IntervalList\n",
      "56\n",
      "inserting into IntervalList\n",
      "done inserting into IntervalList\n",
      "61\n",
      "inserting into IntervalList\n",
      "done inserting into IntervalList\n"
     ]
    }
   ],
   "source": [
    "for e in session_interval:\n",
    "    decodePrepMasterSession(nwb_copy_file_name,e,populate = True)"
   ]
  },
  {
   "cell_type": "code",
   "execution_count": 12,
   "id": "160d2c0b-37b2-4de0-beeb-40b5427bcd86",
   "metadata": {},
   "outputs": [
    {
     "name": "stdout",
     "output_type": "stream",
     "text": [
      "> \u001b[0;32m/tmp/ipykernel_145225/3496828661.py\u001b[0m(1)\u001b[0;36m<module>\u001b[0;34m()\u001b[0m\n",
      "\u001b[0;32m----> 1 \u001b[0;31m\u001b[0msleep_interval\u001b[0m\u001b[0;34m,\u001b[0m \u001b[0msleep_position_interval\u001b[0m \u001b[0;34m=\u001b[0m \u001b[0msleepSessionNames\u001b[0m\u001b[0;34m(\u001b[0m\u001b[0mnwb_copy_file_name\u001b[0m\u001b[0;34m)\u001b[0m\u001b[0;34m\u001b[0m\u001b[0;34m\u001b[0m\u001b[0m\n",
      "\u001b[0m\u001b[0;32m      2 \u001b[0;31m\u001b[0mprint\u001b[0m\u001b[0;34m(\u001b[0m\u001b[0mnwb_copy_file_name\u001b[0m\u001b[0;34m)\u001b[0m\u001b[0;34m\u001b[0m\u001b[0;34m\u001b[0m\u001b[0m\n",
      "\u001b[0m\u001b[0;32m      3 \u001b[0;31m\u001b[0mprint\u001b[0m\u001b[0;34m(\u001b[0m\u001b[0msleep_interval\u001b[0m\u001b[0;34m)\u001b[0m\u001b[0;34m\u001b[0m\u001b[0;34m\u001b[0m\u001b[0m\n",
      "\u001b[0m\n"
     ]
    },
    {
     "name": "stdin",
     "output_type": "stream",
     "text": [
      "ipdb>  exit\n"
     ]
    }
   ],
   "source": [
    "%debug"
   ]
  },
  {
   "cell_type": "code",
   "execution_count": null,
   "id": "e73e3016-2d8d-4ad2-ba41-a44b03d3440d",
   "metadata": {},
   "outputs": [],
   "source": [
    "ArtifactDetectionSelection & {}"
   ]
  },
  {
   "cell_type": "code",
   "execution_count": 14,
   "id": "a4028fbc-f8a2-4655-b5ae-e8c7299a1989",
   "metadata": {},
   "outputs": [
    {
     "name": "stdout",
     "output_type": "stream",
     "text": [
      "> \u001b[0;32m/home/shijiegu/Documents/spyglass/src/spyglass/common/common_interval.py\u001b[0m(299)\u001b[0;36m_intersection\u001b[0;34m()\u001b[0m\n",
      "\u001b[0;32m    297 \u001b[0;31m\u001b[0;32mdef\u001b[0m \u001b[0m_intersection\u001b[0m\u001b[0;34m(\u001b[0m\u001b[0minterval1\u001b[0m\u001b[0;34m,\u001b[0m \u001b[0minterval2\u001b[0m\u001b[0;34m)\u001b[0m\u001b[0;34m:\u001b[0m\u001b[0;34m\u001b[0m\u001b[0;34m\u001b[0m\u001b[0m\n",
      "\u001b[0m\u001b[0;32m    298 \u001b[0;31m    \u001b[0;34m\"\"\"Takes the (set-theoretic) intersection of two intervals\"\"\"\u001b[0m\u001b[0;34m\u001b[0m\u001b[0;34m\u001b[0m\u001b[0m\n",
      "\u001b[0m\u001b[0;32m--> 299 \u001b[0;31m    \u001b[0mstart\u001b[0m \u001b[0;34m=\u001b[0m \u001b[0mmax\u001b[0m\u001b[0;34m(\u001b[0m\u001b[0minterval1\u001b[0m\u001b[0;34m[\u001b[0m\u001b[0;36m0\u001b[0m\u001b[0;34m]\u001b[0m\u001b[0;34m,\u001b[0m \u001b[0minterval2\u001b[0m\u001b[0;34m[\u001b[0m\u001b[0;36m0\u001b[0m\u001b[0;34m]\u001b[0m\u001b[0;34m)\u001b[0m\u001b[0;34m\u001b[0m\u001b[0;34m\u001b[0m\u001b[0m\n",
      "\u001b[0m\u001b[0;32m    300 \u001b[0;31m    \u001b[0mend\u001b[0m \u001b[0;34m=\u001b[0m \u001b[0mmin\u001b[0m\u001b[0;34m(\u001b[0m\u001b[0minterval1\u001b[0m\u001b[0;34m[\u001b[0m\u001b[0;36m1\u001b[0m\u001b[0;34m]\u001b[0m\u001b[0;34m,\u001b[0m \u001b[0minterval2\u001b[0m\u001b[0;34m[\u001b[0m\u001b[0;36m1\u001b[0m\u001b[0;34m]\u001b[0m\u001b[0;34m)\u001b[0m\u001b[0;34m\u001b[0m\u001b[0;34m\u001b[0m\u001b[0m\n",
      "\u001b[0m\u001b[0;32m    301 \u001b[0;31m    \u001b[0mintersection\u001b[0m \u001b[0;34m=\u001b[0m \u001b[0mnp\u001b[0m\u001b[0;34m.\u001b[0m\u001b[0marray\u001b[0m\u001b[0;34m(\u001b[0m\u001b[0;34m[\u001b[0m\u001b[0mstart\u001b[0m\u001b[0;34m,\u001b[0m \u001b[0mend\u001b[0m\u001b[0;34m]\u001b[0m\u001b[0;34m)\u001b[0m \u001b[0;32mif\u001b[0m \u001b[0mend\u001b[0m \u001b[0;34m>\u001b[0m \u001b[0mstart\u001b[0m \u001b[0;32melse\u001b[0m \u001b[0;32mNone\u001b[0m\u001b[0;34m\u001b[0m\u001b[0;34m\u001b[0m\u001b[0m\n",
      "\u001b[0m\n"
     ]
    },
    {
     "name": "stdin",
     "output_type": "stream",
     "text": [
      "ipdb>  interval2\n"
     ]
    },
    {
     "name": "stdout",
     "output_type": "stream",
     "text": [
      "array([], dtype=float64)\n"
     ]
    },
    {
     "name": "stdin",
     "output_type": "stream",
     "text": [
      "ipdb>  interval1\n"
     ]
    },
    {
     "name": "stdout",
     "output_type": "stream",
     "text": [
      "array([1.65022621e+09, 1.65022823e+09])\n"
     ]
    },
    {
     "name": "stdin",
     "output_type": "stream",
     "text": [
      "ipdb>  up\n"
     ]
    },
    {
     "name": "stdout",
     "output_type": "stream",
     "text": [
      "> \u001b[0;32m/home/shijiegu/Documents/spyglass/src/spyglass/common/common_interval.py\u001b[0m(282)\u001b[0;36m<listcomp>\u001b[0;34m()\u001b[0m\n",
      "\u001b[0;32m    280 \u001b[0;31m        \u001b[0;32mfor\u001b[0m \u001b[0minterval2\u001b[0m \u001b[0;32min\u001b[0m \u001b[0minterval_list2\u001b[0m\u001b[0;34m\u001b[0m\u001b[0;34m\u001b[0m\u001b[0m\n",
      "\u001b[0m\u001b[0;32m    281 \u001b[0;31m        \u001b[0;32mfor\u001b[0m \u001b[0minterval1\u001b[0m \u001b[0;32min\u001b[0m \u001b[0minterval_list1\u001b[0m\u001b[0;34m\u001b[0m\u001b[0;34m\u001b[0m\u001b[0m\n",
      "\u001b[0m\u001b[0;32m--> 282 \u001b[0;31m        \u001b[0;32mif\u001b[0m \u001b[0m_intersection\u001b[0m\u001b[0;34m(\u001b[0m\u001b[0minterval2\u001b[0m\u001b[0;34m,\u001b[0m \u001b[0minterval1\u001b[0m\u001b[0;34m)\u001b[0m \u001b[0;32mis\u001b[0m \u001b[0;32mnot\u001b[0m \u001b[0;32mNone\u001b[0m\u001b[0;34m\u001b[0m\u001b[0;34m\u001b[0m\u001b[0m\n",
      "\u001b[0m\u001b[0;32m    283 \u001b[0;31m    ]\n",
      "\u001b[0m\u001b[0;32m    284 \u001b[0;31m\u001b[0;34m\u001b[0m\u001b[0m\n",
      "\u001b[0m\n"
     ]
    },
    {
     "name": "stdin",
     "output_type": "stream",
     "text": [
      "ipdb>  u\n"
     ]
    },
    {
     "name": "stdout",
     "output_type": "stream",
     "text": [
      "> \u001b[0;32m/home/shijiegu/Documents/spyglass/src/spyglass/common/common_interval.py\u001b[0m(278)\u001b[0;36minterval_list_intersect\u001b[0;34m()\u001b[0m\n",
      "\u001b[0;32m    276 \u001b[0;31m\u001b[0;34m\u001b[0m\u001b[0m\n",
      "\u001b[0m\u001b[0;32m    277 \u001b[0;31m    \u001b[0;31m# then do pairwise comparison and collect intersections\u001b[0m\u001b[0;34m\u001b[0m\u001b[0;34m\u001b[0m\u001b[0m\n",
      "\u001b[0m\u001b[0;32m--> 278 \u001b[0;31m    intersecting_intervals = [\n",
      "\u001b[0m\u001b[0;32m    279 \u001b[0;31m        \u001b[0m_intersection\u001b[0m\u001b[0;34m(\u001b[0m\u001b[0minterval2\u001b[0m\u001b[0;34m,\u001b[0m \u001b[0minterval1\u001b[0m\u001b[0;34m)\u001b[0m\u001b[0;34m\u001b[0m\u001b[0;34m\u001b[0m\u001b[0m\n",
      "\u001b[0m\u001b[0;32m    280 \u001b[0;31m        \u001b[0;32mfor\u001b[0m \u001b[0minterval2\u001b[0m \u001b[0;32min\u001b[0m \u001b[0minterval_list2\u001b[0m\u001b[0;34m\u001b[0m\u001b[0;34m\u001b[0m\u001b[0m\n",
      "\u001b[0m\n"
     ]
    },
    {
     "name": "stdin",
     "output_type": "stream",
     "text": [
      "ipdb>  u\n"
     ]
    },
    {
     "name": "stdout",
     "output_type": "stream",
     "text": [
      "> \u001b[0;32m/home/shijiegu/Documents/spyglass/src/spyglass/shijiegu/decodeHelpers.py\u001b[0m(228)\u001b[0;36mthresholder_sort\u001b[0;34m()\u001b[0m\n",
      "\u001b[0;32m    226 \u001b[0;31m        \u001b[0mtrial_last_t\u001b[0m \u001b[0;34m=\u001b[0m \u001b[0mStateScript\u001b[0m\u001b[0;34m.\u001b[0m\u001b[0mloc\u001b[0m\u001b[0;34m[\u001b[0m\u001b[0mlen\u001b[0m\u001b[0;34m(\u001b[0m\u001b[0mStateScript\u001b[0m\u001b[0;34m)\u001b[0m\u001b[0;34m-\u001b[0m\u001b[0;36m1\u001b[0m\u001b[0;34m]\u001b[0m\u001b[0;34m.\u001b[0m\u001b[0mtimestamp_O\u001b[0m\u001b[0;34m\u001b[0m\u001b[0;34m\u001b[0m\u001b[0m\n",
      "\u001b[0m\u001b[0;32m    227 \u001b[0;31m\u001b[0;34m\u001b[0m\u001b[0m\n",
      "\u001b[0m\u001b[0;32m--> 228 \u001b[0;31m        \u001b[0martifact_removed_time_list\u001b[0m\u001b[0;34m=\u001b[0m\u001b[0minterval_list_intersect\u001b[0m\u001b[0;34m(\u001b[0m\u001b[0martifact_removed_time_list\u001b[0m\u001b[0;34m,\u001b[0m\u001b[0mnp\u001b[0m\u001b[0;34m.\u001b[0m\u001b[0marray\u001b[0m\u001b[0;34m(\u001b[0m\u001b[0;34m[\u001b[0m\u001b[0mtrial_1_t\u001b[0m\u001b[0;34m,\u001b[0m\u001b[0mtrial_last_t\u001b[0m\u001b[0;34m]\u001b[0m\u001b[0;34m)\u001b[0m\u001b[0;34m)\u001b[0m\u001b[0;34m\u001b[0m\u001b[0;34m\u001b[0m\u001b[0m\n",
      "\u001b[0m\u001b[0;32m    229 \u001b[0;31m    \u001b[0;32melse\u001b[0m\u001b[0;34m:\u001b[0m\u001b[0;34m\u001b[0m\u001b[0;34m\u001b[0m\u001b[0m\n",
      "\u001b[0m\u001b[0;32m    230 \u001b[0;31m        \u001b[0martifact_removed_time_list\u001b[0m \u001b[0;34m=\u001b[0m \u001b[0martifact_removed_time_list\u001b[0m\u001b[0;34m.\u001b[0m\u001b[0mreshape\u001b[0m\u001b[0;34m(\u001b[0m\u001b[0;34m(\u001b[0m\u001b[0;34m-\u001b[0m\u001b[0;36m1\u001b[0m\u001b[0;34m,\u001b[0m\u001b[0;36m2\u001b[0m\u001b[0;34m)\u001b[0m\u001b[0;34m)\u001b[0m\u001b[0;34m\u001b[0m\u001b[0;34m\u001b[0m\u001b[0m\n",
      "\u001b[0m\n"
     ]
    },
    {
     "name": "stdin",
     "output_type": "stream",
     "text": [
      "ipdb>  np.array([trial_1_t,trial_last_t]\n"
     ]
    },
    {
     "name": "stdout",
     "output_type": "stream",
     "text": [
      "*** SyntaxError: unexpected EOF while parsing\n"
     ]
    },
    {
     "name": "stdin",
     "output_type": "stream",
     "text": [
      "ipdb>  np.array([trial_1_t,trial_last_t])\n"
     ]
    },
    {
     "name": "stdout",
     "output_type": "stream",
     "text": [
      "array([1.65022621e+09, 1.65022823e+09])\n"
     ]
    },
    {
     "name": "stdin",
     "output_type": "stream",
     "text": [
      "ipdb>  artifact_removed_time_list\n"
     ]
    },
    {
     "name": "stdout",
     "output_type": "stream",
     "text": [
      "array([], dtype=float64)\n"
     ]
    },
    {
     "name": "stdin",
     "output_type": "stream",
     "text": [
      "ipdb>  exit\n"
     ]
    }
   ],
   "source": [
    "%debug"
   ]
  },
  {
   "cell_type": "code",
   "execution_count": 32,
   "id": "db991a06-cc3a-4865-85ac-b090675b9eba",
   "metadata": {},
   "outputs": [
    {
     "data": {
      "text/plain": [
       "spyglass.spikesorting.v0.spikesorting_artifact.ArtifactDetectionSelection"
      ]
     },
     "execution_count": 32,
     "metadata": {},
     "output_type": "execute_result"
    }
   ],
   "source": [
    "ArtifactDetectionSelection"
   ]
  },
  {
   "cell_type": "code",
   "execution_count": 51,
   "id": "ff880b71-2fa3-44de-a3f4-98e4defd2709",
   "metadata": {
    "scrolled": true
   },
   "outputs": [
    {
     "name": "stdout",
     "output_type": "stream",
     "text": [
      "0\n",
      "inserting into IntervalList\n",
      "done inserting into IntervalList\n",
      "2\n",
      "inserting into IntervalList\n",
      "done inserting into IntervalList\n",
      "3\n",
      "inserting into IntervalList\n",
      "done inserting into IntervalList\n",
      "6\n",
      "inserting into IntervalList\n",
      "done inserting into IntervalList\n",
      "7\n",
      "inserting into IntervalList\n",
      "done inserting into IntervalList\n",
      "9\n",
      "inserting into IntervalList\n",
      "done inserting into IntervalList\n",
      "10\n",
      "inserting into IntervalList\n",
      "done inserting into IntervalList\n",
      "12\n",
      "inserting into IntervalList\n",
      "done inserting into IntervalList\n",
      "15\n",
      "inserting into IntervalList\n",
      "done inserting into IntervalList\n",
      "17\n",
      "inserting into IntervalList\n",
      "done inserting into IntervalList\n",
      "18\n",
      "inserting into IntervalList\n",
      "done inserting into IntervalList\n",
      "24\n",
      "inserting into IntervalList\n",
      "done inserting into IntervalList\n",
      "25\n",
      "inserting into IntervalList\n",
      "done inserting into IntervalList\n",
      "27\n",
      "inserting into IntervalList\n",
      "done inserting into IntervalList\n",
      "34\n",
      "inserting into IntervalList\n",
      "done inserting into IntervalList\n",
      "37\n",
      "inserting into IntervalList\n",
      "done inserting into IntervalList\n",
      "39\n",
      "inserting into IntervalList\n",
      "done inserting into IntervalList\n",
      "40\n",
      "inserting into IntervalList\n",
      "done inserting into IntervalList\n",
      "41\n",
      "inserting into IntervalList\n",
      "done inserting into IntervalList\n",
      "46\n",
      "inserting into IntervalList\n",
      "done inserting into IntervalList\n",
      "50\n",
      "inserting into IntervalList\n",
      "done inserting into IntervalList\n",
      "52\n",
      "inserting into IntervalList\n",
      "done inserting into IntervalList\n",
      "53\n",
      "inserting into IntervalList\n",
      "done inserting into IntervalList\n",
      "60\n",
      "inserting into IntervalList\n",
      "done inserting into IntervalList\n",
      "61\n",
      "inserting into IntervalList\n",
      "done inserting into IntervalList\n"
     ]
    },
    {
     "name": "stderr",
     "output_type": "stream",
     "text": [
      "[14:43:52][INFO] Spyglass: Running spike sorting on {'nwb_file_name': 'molly20220419_.nwb', 'sort_group_id': 0, 'sort_interval_name': '01_Seq2Sleep1', 'preproc_params_name': 'franklab_tetrode_hippocampus', 'team_name': 'SequenceTask', 'sorter': 'clusterless_thresholder', 'sorter_params_name': 'default', 'artifact_removed_interval_list_name': 'molly20220419_.nwb_01_Seq2Sleep1_0_franklab_tetrode_hippocampus_ampl_1500_prop_075_1ms_artifact_removed_valid_times_track_time_only'}...\n",
      "28-Mar-25 14:43:52 Running spike sorting on {'nwb_file_name': 'molly20220419_.nwb', 'sort_group_id': 0, 'sort_interval_name': '01_Seq2Sleep1', 'preproc_params_name': 'franklab_tetrode_hippocampus', 'team_name': 'SequenceTask', 'sorter': 'clusterless_thresholder', 'sorter_params_name': 'default', 'artifact_removed_interval_list_name': 'molly20220419_.nwb_01_Seq2Sleep1_0_franklab_tetrode_hippocampus_ampl_1500_prop_075_1ms_artifact_removed_valid_times_track_time_only'}...\n"
     ]
    },
    {
     "data": {
      "application/vnd.jupyter.widget-view+json": {
       "model_id": "e0cdab04b0a94095aff702f261e4034e",
       "version_major": 2,
       "version_minor": 0
      },
      "text/plain": [
       "detect peaks using locally_exclusive:   0%|          | 0/2021 [00:00<?, ?it/s]"
      ]
     },
     "metadata": {},
     "output_type": "display_data"
    },
    {
     "name": "stderr",
     "output_type": "stream",
     "text": [
      "[14:43:56][INFO] Spyglass: Saving sorting results...\n",
      "28-Mar-25 14:43:56 Saving sorting results...\n",
      "[14:43:58][INFO] Spyglass: Running spike sorting on {'nwb_file_name': 'molly20220419_.nwb', 'sort_group_id': 10, 'sort_interval_name': '01_Seq2Sleep1', 'preproc_params_name': 'franklab_tetrode_hippocampus', 'team_name': 'SequenceTask', 'sorter': 'clusterless_thresholder', 'sorter_params_name': 'default', 'artifact_removed_interval_list_name': 'molly20220419_.nwb_01_Seq2Sleep1_10_franklab_tetrode_hippocampus_ampl_1500_prop_075_1ms_artifact_removed_valid_times_track_time_only'}...\n",
      "28-Mar-25 14:43:58 Running spike sorting on {'nwb_file_name': 'molly20220419_.nwb', 'sort_group_id': 10, 'sort_interval_name': '01_Seq2Sleep1', 'preproc_params_name': 'franklab_tetrode_hippocampus', 'team_name': 'SequenceTask', 'sorter': 'clusterless_thresholder', 'sorter_params_name': 'default', 'artifact_removed_interval_list_name': 'molly20220419_.nwb_01_Seq2Sleep1_10_franklab_tetrode_hippocampus_ampl_1500_prop_075_1ms_artifact_removed_valid_times_track_time_only'}...\n"
     ]
    },
    {
     "data": {
      "application/vnd.jupyter.widget-view+json": {
       "model_id": "a2834f4355e34365a275d12deb645b27",
       "version_major": 2,
       "version_minor": 0
      },
      "text/plain": [
       "detect peaks using locally_exclusive:   0%|          | 0/2021 [00:00<?, ?it/s]"
      ]
     },
     "metadata": {},
     "output_type": "display_data"
    },
    {
     "name": "stderr",
     "output_type": "stream",
     "text": [
      "[14:44:01][INFO] Spyglass: Saving sorting results...\n",
      "28-Mar-25 14:44:01 Saving sorting results...\n",
      "[14:44:04][INFO] Spyglass: Running spike sorting on {'nwb_file_name': 'molly20220419_.nwb', 'sort_group_id': 12, 'sort_interval_name': '01_Seq2Sleep1', 'preproc_params_name': 'franklab_tetrode_hippocampus', 'team_name': 'SequenceTask', 'sorter': 'clusterless_thresholder', 'sorter_params_name': 'default', 'artifact_removed_interval_list_name': 'molly20220419_.nwb_01_Seq2Sleep1_12_franklab_tetrode_hippocampus_ampl_1500_prop_075_1ms_artifact_removed_valid_times_track_time_only'}...\n",
      "28-Mar-25 14:44:04 Running spike sorting on {'nwb_file_name': 'molly20220419_.nwb', 'sort_group_id': 12, 'sort_interval_name': '01_Seq2Sleep1', 'preproc_params_name': 'franklab_tetrode_hippocampus', 'team_name': 'SequenceTask', 'sorter': 'clusterless_thresholder', 'sorter_params_name': 'default', 'artifact_removed_interval_list_name': 'molly20220419_.nwb_01_Seq2Sleep1_12_franklab_tetrode_hippocampus_ampl_1500_prop_075_1ms_artifact_removed_valid_times_track_time_only'}...\n"
     ]
    },
    {
     "data": {
      "application/vnd.jupyter.widget-view+json": {
       "model_id": "184c94812065422f8d1ffbab519bf099",
       "version_major": 2,
       "version_minor": 0
      },
      "text/plain": [
       "detect peaks using locally_exclusive:   0%|          | 0/2021 [00:00<?, ?it/s]"
      ]
     },
     "metadata": {},
     "output_type": "display_data"
    },
    {
     "name": "stderr",
     "output_type": "stream",
     "text": [
      "[14:44:08][INFO] Spyglass: Saving sorting results...\n",
      "28-Mar-25 14:44:08 Saving sorting results...\n",
      "[14:44:10][INFO] Spyglass: Running spike sorting on {'nwb_file_name': 'molly20220419_.nwb', 'sort_group_id': 15, 'sort_interval_name': '01_Seq2Sleep1', 'preproc_params_name': 'franklab_tetrode_hippocampus', 'team_name': 'SequenceTask', 'sorter': 'clusterless_thresholder', 'sorter_params_name': 'default', 'artifact_removed_interval_list_name': 'molly20220419_.nwb_01_Seq2Sleep1_15_franklab_tetrode_hippocampus_ampl_1500_prop_075_1ms_artifact_removed_valid_times_track_time_only'}...\n",
      "28-Mar-25 14:44:10 Running spike sorting on {'nwb_file_name': 'molly20220419_.nwb', 'sort_group_id': 15, 'sort_interval_name': '01_Seq2Sleep1', 'preproc_params_name': 'franklab_tetrode_hippocampus', 'team_name': 'SequenceTask', 'sorter': 'clusterless_thresholder', 'sorter_params_name': 'default', 'artifact_removed_interval_list_name': 'molly20220419_.nwb_01_Seq2Sleep1_15_franklab_tetrode_hippocampus_ampl_1500_prop_075_1ms_artifact_removed_valid_times_track_time_only'}...\n"
     ]
    },
    {
     "data": {
      "application/vnd.jupyter.widget-view+json": {
       "model_id": "fb16646adce5437b9709a1497e797fea",
       "version_major": 2,
       "version_minor": 0
      },
      "text/plain": [
       "detect peaks using locally_exclusive:   0%|          | 0/2021 [00:00<?, ?it/s]"
      ]
     },
     "metadata": {},
     "output_type": "display_data"
    },
    {
     "name": "stderr",
     "output_type": "stream",
     "text": [
      "[14:44:15][INFO] Spyglass: Saving sorting results...\n",
      "28-Mar-25 14:44:15 Saving sorting results...\n",
      "[14:44:20][INFO] Spyglass: Running spike sorting on {'nwb_file_name': 'molly20220419_.nwb', 'sort_group_id': 17, 'sort_interval_name': '01_Seq2Sleep1', 'preproc_params_name': 'franklab_tetrode_hippocampus', 'team_name': 'SequenceTask', 'sorter': 'clusterless_thresholder', 'sorter_params_name': 'default', 'artifact_removed_interval_list_name': 'molly20220419_.nwb_01_Seq2Sleep1_17_franklab_tetrode_hippocampus_ampl_1500_prop_075_1ms_artifact_removed_valid_times_track_time_only'}...\n",
      "28-Mar-25 14:44:20 Running spike sorting on {'nwb_file_name': 'molly20220419_.nwb', 'sort_group_id': 17, 'sort_interval_name': '01_Seq2Sleep1', 'preproc_params_name': 'franklab_tetrode_hippocampus', 'team_name': 'SequenceTask', 'sorter': 'clusterless_thresholder', 'sorter_params_name': 'default', 'artifact_removed_interval_list_name': 'molly20220419_.nwb_01_Seq2Sleep1_17_franklab_tetrode_hippocampus_ampl_1500_prop_075_1ms_artifact_removed_valid_times_track_time_only'}...\n"
     ]
    },
    {
     "data": {
      "application/vnd.jupyter.widget-view+json": {
       "model_id": "e89a68be504047cd826942d468cd28b2",
       "version_major": 2,
       "version_minor": 0
      },
      "text/plain": [
       "detect peaks using locally_exclusive:   0%|          | 0/2021 [00:00<?, ?it/s]"
      ]
     },
     "metadata": {},
     "output_type": "display_data"
    },
    {
     "name": "stderr",
     "output_type": "stream",
     "text": [
      "[14:44:24][INFO] Spyglass: Saving sorting results...\n",
      "28-Mar-25 14:44:24 Saving sorting results...\n",
      "[14:44:30][INFO] Spyglass: Running spike sorting on {'nwb_file_name': 'molly20220419_.nwb', 'sort_group_id': 18, 'sort_interval_name': '01_Seq2Sleep1', 'preproc_params_name': 'franklab_tetrode_hippocampus', 'team_name': 'SequenceTask', 'sorter': 'clusterless_thresholder', 'sorter_params_name': 'default', 'artifact_removed_interval_list_name': 'molly20220419_.nwb_01_Seq2Sleep1_18_franklab_tetrode_hippocampus_ampl_1500_prop_075_1ms_artifact_removed_valid_times_track_time_only'}...\n",
      "28-Mar-25 14:44:30 Running spike sorting on {'nwb_file_name': 'molly20220419_.nwb', 'sort_group_id': 18, 'sort_interval_name': '01_Seq2Sleep1', 'preproc_params_name': 'franklab_tetrode_hippocampus', 'team_name': 'SequenceTask', 'sorter': 'clusterless_thresholder', 'sorter_params_name': 'default', 'artifact_removed_interval_list_name': 'molly20220419_.nwb_01_Seq2Sleep1_18_franklab_tetrode_hippocampus_ampl_1500_prop_075_1ms_artifact_removed_valid_times_track_time_only'}...\n"
     ]
    },
    {
     "data": {
      "application/vnd.jupyter.widget-view+json": {
       "model_id": "ababd0eef540408d83aecdbb5e0e253b",
       "version_major": 2,
       "version_minor": 0
      },
      "text/plain": [
       "detect peaks using locally_exclusive:   0%|          | 0/2021 [00:00<?, ?it/s]"
      ]
     },
     "metadata": {},
     "output_type": "display_data"
    },
    {
     "name": "stderr",
     "output_type": "stream",
     "text": [
      "[14:44:35][INFO] Spyglass: Saving sorting results...\n",
      "28-Mar-25 14:44:35 Saving sorting results...\n",
      "[14:44:37][INFO] Spyglass: Running spike sorting on {'nwb_file_name': 'molly20220419_.nwb', 'sort_group_id': 24, 'sort_interval_name': '01_Seq2Sleep1', 'preproc_params_name': 'franklab_tetrode_hippocampus', 'team_name': 'SequenceTask', 'sorter': 'clusterless_thresholder', 'sorter_params_name': 'default', 'artifact_removed_interval_list_name': 'molly20220419_.nwb_01_Seq2Sleep1_24_franklab_tetrode_hippocampus_ampl_1500_prop_075_1ms_artifact_removed_valid_times_track_time_only'}...\n",
      "28-Mar-25 14:44:37 Running spike sorting on {'nwb_file_name': 'molly20220419_.nwb', 'sort_group_id': 24, 'sort_interval_name': '01_Seq2Sleep1', 'preproc_params_name': 'franklab_tetrode_hippocampus', 'team_name': 'SequenceTask', 'sorter': 'clusterless_thresholder', 'sorter_params_name': 'default', 'artifact_removed_interval_list_name': 'molly20220419_.nwb_01_Seq2Sleep1_24_franklab_tetrode_hippocampus_ampl_1500_prop_075_1ms_artifact_removed_valid_times_track_time_only'}...\n"
     ]
    },
    {
     "data": {
      "application/vnd.jupyter.widget-view+json": {
       "model_id": "ab24fde32bf9415782a8fde53263acaa",
       "version_major": 2,
       "version_minor": 0
      },
      "text/plain": [
       "detect peaks using locally_exclusive:   0%|          | 0/2021 [00:00<?, ?it/s]"
      ]
     },
     "metadata": {},
     "output_type": "display_data"
    },
    {
     "name": "stderr",
     "output_type": "stream",
     "text": [
      "[14:44:41][INFO] Spyglass: Saving sorting results...\n",
      "28-Mar-25 14:44:41 Saving sorting results...\n",
      "[14:44:44][INFO] Spyglass: Running spike sorting on {'nwb_file_name': 'molly20220419_.nwb', 'sort_group_id': 25, 'sort_interval_name': '01_Seq2Sleep1', 'preproc_params_name': 'franklab_tetrode_hippocampus', 'team_name': 'SequenceTask', 'sorter': 'clusterless_thresholder', 'sorter_params_name': 'default', 'artifact_removed_interval_list_name': 'molly20220419_.nwb_01_Seq2Sleep1_25_franklab_tetrode_hippocampus_ampl_1500_prop_075_1ms_artifact_removed_valid_times_track_time_only'}...\n",
      "28-Mar-25 14:44:44 Running spike sorting on {'nwb_file_name': 'molly20220419_.nwb', 'sort_group_id': 25, 'sort_interval_name': '01_Seq2Sleep1', 'preproc_params_name': 'franklab_tetrode_hippocampus', 'team_name': 'SequenceTask', 'sorter': 'clusterless_thresholder', 'sorter_params_name': 'default', 'artifact_removed_interval_list_name': 'molly20220419_.nwb_01_Seq2Sleep1_25_franklab_tetrode_hippocampus_ampl_1500_prop_075_1ms_artifact_removed_valid_times_track_time_only'}...\n"
     ]
    },
    {
     "data": {
      "application/vnd.jupyter.widget-view+json": {
       "model_id": "0afea4d4e76948729fa3317a3d91fb5e",
       "version_major": 2,
       "version_minor": 0
      },
      "text/plain": [
       "detect peaks using locally_exclusive:   0%|          | 0/2021 [00:00<?, ?it/s]"
      ]
     },
     "metadata": {},
     "output_type": "display_data"
    },
    {
     "name": "stderr",
     "output_type": "stream",
     "text": [
      "[14:44:47][INFO] Spyglass: Saving sorting results...\n",
      "28-Mar-25 14:44:47 Saving sorting results...\n",
      "[14:44:49][INFO] Spyglass: Running spike sorting on {'nwb_file_name': 'molly20220419_.nwb', 'sort_group_id': 27, 'sort_interval_name': '01_Seq2Sleep1', 'preproc_params_name': 'franklab_tetrode_hippocampus', 'team_name': 'SequenceTask', 'sorter': 'clusterless_thresholder', 'sorter_params_name': 'default', 'artifact_removed_interval_list_name': 'molly20220419_.nwb_01_Seq2Sleep1_27_franklab_tetrode_hippocampus_ampl_1500_prop_075_1ms_artifact_removed_valid_times_track_time_only'}...\n",
      "28-Mar-25 14:44:49 Running spike sorting on {'nwb_file_name': 'molly20220419_.nwb', 'sort_group_id': 27, 'sort_interval_name': '01_Seq2Sleep1', 'preproc_params_name': 'franklab_tetrode_hippocampus', 'team_name': 'SequenceTask', 'sorter': 'clusterless_thresholder', 'sorter_params_name': 'default', 'artifact_removed_interval_list_name': 'molly20220419_.nwb_01_Seq2Sleep1_27_franklab_tetrode_hippocampus_ampl_1500_prop_075_1ms_artifact_removed_valid_times_track_time_only'}...\n"
     ]
    },
    {
     "data": {
      "application/vnd.jupyter.widget-view+json": {
       "model_id": "fd619865efd64e06896337e7d4f0c7eb",
       "version_major": 2,
       "version_minor": 0
      },
      "text/plain": [
       "detect peaks using locally_exclusive:   0%|          | 0/2021 [00:00<?, ?it/s]"
      ]
     },
     "metadata": {},
     "output_type": "display_data"
    },
    {
     "name": "stderr",
     "output_type": "stream",
     "text": [
      "[14:44:53][INFO] Spyglass: Saving sorting results...\n",
      "28-Mar-25 14:44:53 Saving sorting results...\n",
      "[14:44:56][INFO] Spyglass: Running spike sorting on {'nwb_file_name': 'molly20220419_.nwb', 'sort_group_id': 2, 'sort_interval_name': '01_Seq2Sleep1', 'preproc_params_name': 'franklab_tetrode_hippocampus', 'team_name': 'SequenceTask', 'sorter': 'clusterless_thresholder', 'sorter_params_name': 'default', 'artifact_removed_interval_list_name': 'molly20220419_.nwb_01_Seq2Sleep1_2_franklab_tetrode_hippocampus_ampl_1500_prop_075_1ms_artifact_removed_valid_times_track_time_only'}...\n",
      "28-Mar-25 14:44:56 Running spike sorting on {'nwb_file_name': 'molly20220419_.nwb', 'sort_group_id': 2, 'sort_interval_name': '01_Seq2Sleep1', 'preproc_params_name': 'franklab_tetrode_hippocampus', 'team_name': 'SequenceTask', 'sorter': 'clusterless_thresholder', 'sorter_params_name': 'default', 'artifact_removed_interval_list_name': 'molly20220419_.nwb_01_Seq2Sleep1_2_franklab_tetrode_hippocampus_ampl_1500_prop_075_1ms_artifact_removed_valid_times_track_time_only'}...\n"
     ]
    },
    {
     "data": {
      "application/vnd.jupyter.widget-view+json": {
       "model_id": "5e40efa556154efda19f3cfdd79e2f1d",
       "version_major": 2,
       "version_minor": 0
      },
      "text/plain": [
       "detect peaks using locally_exclusive:   0%|          | 0/2021 [00:00<?, ?it/s]"
      ]
     },
     "metadata": {},
     "output_type": "display_data"
    },
    {
     "name": "stderr",
     "output_type": "stream",
     "text": [
      "[14:44:59][INFO] Spyglass: Saving sorting results...\n",
      "28-Mar-25 14:44:59 Saving sorting results...\n",
      "[14:45:01][INFO] Spyglass: Running spike sorting on {'nwb_file_name': 'molly20220419_.nwb', 'sort_group_id': 34, 'sort_interval_name': '01_Seq2Sleep1', 'preproc_params_name': 'franklab_tetrode_hippocampus', 'team_name': 'SequenceTask', 'sorter': 'clusterless_thresholder', 'sorter_params_name': 'default', 'artifact_removed_interval_list_name': 'molly20220419_.nwb_01_Seq2Sleep1_34_franklab_tetrode_hippocampus_ampl_1500_prop_075_1ms_artifact_removed_valid_times_track_time_only'}...\n",
      "28-Mar-25 14:45:01 Running spike sorting on {'nwb_file_name': 'molly20220419_.nwb', 'sort_group_id': 34, 'sort_interval_name': '01_Seq2Sleep1', 'preproc_params_name': 'franklab_tetrode_hippocampus', 'team_name': 'SequenceTask', 'sorter': 'clusterless_thresholder', 'sorter_params_name': 'default', 'artifact_removed_interval_list_name': 'molly20220419_.nwb_01_Seq2Sleep1_34_franklab_tetrode_hippocampus_ampl_1500_prop_075_1ms_artifact_removed_valid_times_track_time_only'}...\n"
     ]
    },
    {
     "data": {
      "application/vnd.jupyter.widget-view+json": {
       "model_id": "7547525a819744d79bd509fed9b2cb55",
       "version_major": 2,
       "version_minor": 0
      },
      "text/plain": [
       "detect peaks using locally_exclusive:   0%|          | 0/2021 [00:00<?, ?it/s]"
      ]
     },
     "metadata": {},
     "output_type": "display_data"
    },
    {
     "name": "stderr",
     "output_type": "stream",
     "text": [
      "[14:45:05][INFO] Spyglass: Saving sorting results...\n",
      "28-Mar-25 14:45:05 Saving sorting results...\n",
      "[14:45:08][INFO] Spyglass: Running spike sorting on {'nwb_file_name': 'molly20220419_.nwb', 'sort_group_id': 37, 'sort_interval_name': '01_Seq2Sleep1', 'preproc_params_name': 'franklab_tetrode_hippocampus', 'team_name': 'SequenceTask', 'sorter': 'clusterless_thresholder', 'sorter_params_name': 'default', 'artifact_removed_interval_list_name': 'molly20220419_.nwb_01_Seq2Sleep1_37_franklab_tetrode_hippocampus_ampl_1500_prop_075_1ms_artifact_removed_valid_times_track_time_only'}...\n",
      "28-Mar-25 14:45:08 Running spike sorting on {'nwb_file_name': 'molly20220419_.nwb', 'sort_group_id': 37, 'sort_interval_name': '01_Seq2Sleep1', 'preproc_params_name': 'franklab_tetrode_hippocampus', 'team_name': 'SequenceTask', 'sorter': 'clusterless_thresholder', 'sorter_params_name': 'default', 'artifact_removed_interval_list_name': 'molly20220419_.nwb_01_Seq2Sleep1_37_franklab_tetrode_hippocampus_ampl_1500_prop_075_1ms_artifact_removed_valid_times_track_time_only'}...\n"
     ]
    },
    {
     "data": {
      "application/vnd.jupyter.widget-view+json": {
       "model_id": "9b87afbd672f4cb6b2fca2f02bc9be27",
       "version_major": 2,
       "version_minor": 0
      },
      "text/plain": [
       "detect peaks using locally_exclusive:   0%|          | 0/2021 [00:00<?, ?it/s]"
      ]
     },
     "metadata": {},
     "output_type": "display_data"
    },
    {
     "name": "stderr",
     "output_type": "stream",
     "text": [
      "[14:45:11][INFO] Spyglass: Saving sorting results...\n",
      "28-Mar-25 14:45:11 Saving sorting results...\n",
      "[14:45:14][INFO] Spyglass: Running spike sorting on {'nwb_file_name': 'molly20220419_.nwb', 'sort_group_id': 39, 'sort_interval_name': '01_Seq2Sleep1', 'preproc_params_name': 'franklab_tetrode_hippocampus', 'team_name': 'SequenceTask', 'sorter': 'clusterless_thresholder', 'sorter_params_name': 'default', 'artifact_removed_interval_list_name': 'molly20220419_.nwb_01_Seq2Sleep1_39_franklab_tetrode_hippocampus_ampl_1500_prop_075_1ms_artifact_removed_valid_times_track_time_only'}...\n",
      "28-Mar-25 14:45:14 Running spike sorting on {'nwb_file_name': 'molly20220419_.nwb', 'sort_group_id': 39, 'sort_interval_name': '01_Seq2Sleep1', 'preproc_params_name': 'franklab_tetrode_hippocampus', 'team_name': 'SequenceTask', 'sorter': 'clusterless_thresholder', 'sorter_params_name': 'default', 'artifact_removed_interval_list_name': 'molly20220419_.nwb_01_Seq2Sleep1_39_franklab_tetrode_hippocampus_ampl_1500_prop_075_1ms_artifact_removed_valid_times_track_time_only'}...\n"
     ]
    },
    {
     "data": {
      "application/vnd.jupyter.widget-view+json": {
       "model_id": "b1d946423cc74991adb11fc060d9dfc5",
       "version_major": 2,
       "version_minor": 0
      },
      "text/plain": [
       "detect peaks using locally_exclusive:   0%|          | 0/2021 [00:00<?, ?it/s]"
      ]
     },
     "metadata": {},
     "output_type": "display_data"
    },
    {
     "name": "stderr",
     "output_type": "stream",
     "text": [
      "[14:45:18][INFO] Spyglass: Saving sorting results...\n",
      "28-Mar-25 14:45:18 Saving sorting results...\n",
      "[14:45:20][INFO] Spyglass: Running spike sorting on {'nwb_file_name': 'molly20220419_.nwb', 'sort_group_id': 3, 'sort_interval_name': '01_Seq2Sleep1', 'preproc_params_name': 'franklab_tetrode_hippocampus', 'team_name': 'SequenceTask', 'sorter': 'clusterless_thresholder', 'sorter_params_name': 'default', 'artifact_removed_interval_list_name': 'molly20220419_.nwb_01_Seq2Sleep1_3_franklab_tetrode_hippocampus_ampl_1500_prop_075_1ms_artifact_removed_valid_times_track_time_only'}...\n",
      "28-Mar-25 14:45:20 Running spike sorting on {'nwb_file_name': 'molly20220419_.nwb', 'sort_group_id': 3, 'sort_interval_name': '01_Seq2Sleep1', 'preproc_params_name': 'franklab_tetrode_hippocampus', 'team_name': 'SequenceTask', 'sorter': 'clusterless_thresholder', 'sorter_params_name': 'default', 'artifact_removed_interval_list_name': 'molly20220419_.nwb_01_Seq2Sleep1_3_franklab_tetrode_hippocampus_ampl_1500_prop_075_1ms_artifact_removed_valid_times_track_time_only'}...\n"
     ]
    },
    {
     "data": {
      "application/vnd.jupyter.widget-view+json": {
       "model_id": "58132bc689d5406594cb838e4f42fb5c",
       "version_major": 2,
       "version_minor": 0
      },
      "text/plain": [
       "detect peaks using locally_exclusive:   0%|          | 0/2021 [00:00<?, ?it/s]"
      ]
     },
     "metadata": {},
     "output_type": "display_data"
    },
    {
     "name": "stderr",
     "output_type": "stream",
     "text": [
      "[14:45:24][INFO] Spyglass: Saving sorting results...\n",
      "28-Mar-25 14:45:24 Saving sorting results...\n",
      "[14:45:29][INFO] Spyglass: Running spike sorting on {'nwb_file_name': 'molly20220419_.nwb', 'sort_group_id': 40, 'sort_interval_name': '01_Seq2Sleep1', 'preproc_params_name': 'franklab_tetrode_hippocampus', 'team_name': 'SequenceTask', 'sorter': 'clusterless_thresholder', 'sorter_params_name': 'default', 'artifact_removed_interval_list_name': 'molly20220419_.nwb_01_Seq2Sleep1_40_franklab_tetrode_hippocampus_ampl_1500_prop_075_1ms_artifact_removed_valid_times_track_time_only'}...\n",
      "28-Mar-25 14:45:29 Running spike sorting on {'nwb_file_name': 'molly20220419_.nwb', 'sort_group_id': 40, 'sort_interval_name': '01_Seq2Sleep1', 'preproc_params_name': 'franklab_tetrode_hippocampus', 'team_name': 'SequenceTask', 'sorter': 'clusterless_thresholder', 'sorter_params_name': 'default', 'artifact_removed_interval_list_name': 'molly20220419_.nwb_01_Seq2Sleep1_40_franklab_tetrode_hippocampus_ampl_1500_prop_075_1ms_artifact_removed_valid_times_track_time_only'}...\n"
     ]
    },
    {
     "data": {
      "application/vnd.jupyter.widget-view+json": {
       "model_id": "1b40f9d213af4309b54d9b4ce0be7911",
       "version_major": 2,
       "version_minor": 0
      },
      "text/plain": [
       "detect peaks using locally_exclusive:   0%|          | 0/2021 [00:00<?, ?it/s]"
      ]
     },
     "metadata": {},
     "output_type": "display_data"
    },
    {
     "name": "stderr",
     "output_type": "stream",
     "text": [
      "[14:45:32][INFO] Spyglass: Saving sorting results...\n",
      "28-Mar-25 14:45:32 Saving sorting results...\n",
      "[14:45:38][INFO] Spyglass: Running spike sorting on {'nwb_file_name': 'molly20220419_.nwb', 'sort_group_id': 41, 'sort_interval_name': '01_Seq2Sleep1', 'preproc_params_name': 'franklab_tetrode_hippocampus', 'team_name': 'SequenceTask', 'sorter': 'clusterless_thresholder', 'sorter_params_name': 'default', 'artifact_removed_interval_list_name': 'molly20220419_.nwb_01_Seq2Sleep1_41_franklab_tetrode_hippocampus_ampl_1500_prop_075_1ms_artifact_removed_valid_times_track_time_only'}...\n",
      "28-Mar-25 14:45:38 Running spike sorting on {'nwb_file_name': 'molly20220419_.nwb', 'sort_group_id': 41, 'sort_interval_name': '01_Seq2Sleep1', 'preproc_params_name': 'franklab_tetrode_hippocampus', 'team_name': 'SequenceTask', 'sorter': 'clusterless_thresholder', 'sorter_params_name': 'default', 'artifact_removed_interval_list_name': 'molly20220419_.nwb_01_Seq2Sleep1_41_franklab_tetrode_hippocampus_ampl_1500_prop_075_1ms_artifact_removed_valid_times_track_time_only'}...\n"
     ]
    },
    {
     "data": {
      "application/vnd.jupyter.widget-view+json": {
       "model_id": "b56a725ef59344069762d6a86238acd9",
       "version_major": 2,
       "version_minor": 0
      },
      "text/plain": [
       "detect peaks using locally_exclusive:   0%|          | 0/2021 [00:00<?, ?it/s]"
      ]
     },
     "metadata": {},
     "output_type": "display_data"
    },
    {
     "name": "stderr",
     "output_type": "stream",
     "text": [
      "[14:45:42][INFO] Spyglass: Saving sorting results...\n",
      "28-Mar-25 14:45:42 Saving sorting results...\n",
      "[14:45:48][INFO] Spyglass: Running spike sorting on {'nwb_file_name': 'molly20220419_.nwb', 'sort_group_id': 46, 'sort_interval_name': '01_Seq2Sleep1', 'preproc_params_name': 'franklab_tetrode_hippocampus', 'team_name': 'SequenceTask', 'sorter': 'clusterless_thresholder', 'sorter_params_name': 'default', 'artifact_removed_interval_list_name': 'molly20220419_.nwb_01_Seq2Sleep1_46_franklab_tetrode_hippocampus_ampl_1500_prop_075_1ms_artifact_removed_valid_times_track_time_only'}...\n",
      "28-Mar-25 14:45:48 Running spike sorting on {'nwb_file_name': 'molly20220419_.nwb', 'sort_group_id': 46, 'sort_interval_name': '01_Seq2Sleep1', 'preproc_params_name': 'franklab_tetrode_hippocampus', 'team_name': 'SequenceTask', 'sorter': 'clusterless_thresholder', 'sorter_params_name': 'default', 'artifact_removed_interval_list_name': 'molly20220419_.nwb_01_Seq2Sleep1_46_franklab_tetrode_hippocampus_ampl_1500_prop_075_1ms_artifact_removed_valid_times_track_time_only'}...\n"
     ]
    },
    {
     "data": {
      "application/vnd.jupyter.widget-view+json": {
       "model_id": "e4e4ef5b6ae64f79a761234f5fddc2ec",
       "version_major": 2,
       "version_minor": 0
      },
      "text/plain": [
       "detect peaks using locally_exclusive:   0%|          | 0/2021 [00:00<?, ?it/s]"
      ]
     },
     "metadata": {},
     "output_type": "display_data"
    },
    {
     "name": "stderr",
     "output_type": "stream",
     "text": [
      "[14:45:53][INFO] Spyglass: Saving sorting results...\n",
      "28-Mar-25 14:45:53 Saving sorting results...\n",
      "[14:45:56][INFO] Spyglass: Running spike sorting on {'nwb_file_name': 'molly20220419_.nwb', 'sort_group_id': 50, 'sort_interval_name': '01_Seq2Sleep1', 'preproc_params_name': 'franklab_tetrode_hippocampus', 'team_name': 'SequenceTask', 'sorter': 'clusterless_thresholder', 'sorter_params_name': 'default', 'artifact_removed_interval_list_name': 'molly20220419_.nwb_01_Seq2Sleep1_50_franklab_tetrode_hippocampus_ampl_1500_prop_075_1ms_artifact_removed_valid_times_track_time_only'}...\n",
      "28-Mar-25 14:45:56 Running spike sorting on {'nwb_file_name': 'molly20220419_.nwb', 'sort_group_id': 50, 'sort_interval_name': '01_Seq2Sleep1', 'preproc_params_name': 'franklab_tetrode_hippocampus', 'team_name': 'SequenceTask', 'sorter': 'clusterless_thresholder', 'sorter_params_name': 'default', 'artifact_removed_interval_list_name': 'molly20220419_.nwb_01_Seq2Sleep1_50_franklab_tetrode_hippocampus_ampl_1500_prop_075_1ms_artifact_removed_valid_times_track_time_only'}...\n"
     ]
    },
    {
     "data": {
      "application/vnd.jupyter.widget-view+json": {
       "model_id": "abe8bb131cf34917ade86a1b09edbf6c",
       "version_major": 2,
       "version_minor": 0
      },
      "text/plain": [
       "detect peaks using locally_exclusive:   0%|          | 0/2021 [00:00<?, ?it/s]"
      ]
     },
     "metadata": {},
     "output_type": "display_data"
    },
    {
     "name": "stderr",
     "output_type": "stream",
     "text": [
      "[14:46:00][INFO] Spyglass: Saving sorting results...\n",
      "28-Mar-25 14:46:00 Saving sorting results...\n",
      "[14:46:02][INFO] Spyglass: Running spike sorting on {'nwb_file_name': 'molly20220419_.nwb', 'sort_group_id': 52, 'sort_interval_name': '01_Seq2Sleep1', 'preproc_params_name': 'franklab_tetrode_hippocampus', 'team_name': 'SequenceTask', 'sorter': 'clusterless_thresholder', 'sorter_params_name': 'default', 'artifact_removed_interval_list_name': 'molly20220419_.nwb_01_Seq2Sleep1_52_franklab_tetrode_hippocampus_ampl_1500_prop_075_1ms_artifact_removed_valid_times_track_time_only'}...\n",
      "28-Mar-25 14:46:02 Running spike sorting on {'nwb_file_name': 'molly20220419_.nwb', 'sort_group_id': 52, 'sort_interval_name': '01_Seq2Sleep1', 'preproc_params_name': 'franklab_tetrode_hippocampus', 'team_name': 'SequenceTask', 'sorter': 'clusterless_thresholder', 'sorter_params_name': 'default', 'artifact_removed_interval_list_name': 'molly20220419_.nwb_01_Seq2Sleep1_52_franklab_tetrode_hippocampus_ampl_1500_prop_075_1ms_artifact_removed_valid_times_track_time_only'}...\n"
     ]
    },
    {
     "data": {
      "application/vnd.jupyter.widget-view+json": {
       "model_id": "8cb24ca3573747058f57e2f700d1c1d2",
       "version_major": 2,
       "version_minor": 0
      },
      "text/plain": [
       "detect peaks using locally_exclusive:   0%|          | 0/2021 [00:00<?, ?it/s]"
      ]
     },
     "metadata": {},
     "output_type": "display_data"
    },
    {
     "name": "stderr",
     "output_type": "stream",
     "text": [
      "[14:46:06][INFO] Spyglass: Saving sorting results...\n",
      "28-Mar-25 14:46:06 Saving sorting results...\n",
      "[14:46:08][INFO] Spyglass: Running spike sorting on {'nwb_file_name': 'molly20220419_.nwb', 'sort_group_id': 53, 'sort_interval_name': '01_Seq2Sleep1', 'preproc_params_name': 'franklab_tetrode_hippocampus', 'team_name': 'SequenceTask', 'sorter': 'clusterless_thresholder', 'sorter_params_name': 'default', 'artifact_removed_interval_list_name': 'molly20220419_.nwb_01_Seq2Sleep1_53_franklab_tetrode_hippocampus_ampl_1500_prop_075_1ms_artifact_removed_valid_times_track_time_only'}...\n",
      "28-Mar-25 14:46:08 Running spike sorting on {'nwb_file_name': 'molly20220419_.nwb', 'sort_group_id': 53, 'sort_interval_name': '01_Seq2Sleep1', 'preproc_params_name': 'franklab_tetrode_hippocampus', 'team_name': 'SequenceTask', 'sorter': 'clusterless_thresholder', 'sorter_params_name': 'default', 'artifact_removed_interval_list_name': 'molly20220419_.nwb_01_Seq2Sleep1_53_franklab_tetrode_hippocampus_ampl_1500_prop_075_1ms_artifact_removed_valid_times_track_time_only'}...\n"
     ]
    },
    {
     "data": {
      "application/vnd.jupyter.widget-view+json": {
       "model_id": "147896d26d184dac92bb92c031fb2d63",
       "version_major": 2,
       "version_minor": 0
      },
      "text/plain": [
       "detect peaks using locally_exclusive:   0%|          | 0/2021 [00:00<?, ?it/s]"
      ]
     },
     "metadata": {},
     "output_type": "display_data"
    },
    {
     "name": "stderr",
     "output_type": "stream",
     "text": [
      "[14:46:12][INFO] Spyglass: Saving sorting results...\n",
      "28-Mar-25 14:46:12 Saving sorting results...\n",
      "[14:46:14][INFO] Spyglass: Running spike sorting on {'nwb_file_name': 'molly20220419_.nwb', 'sort_group_id': 60, 'sort_interval_name': '01_Seq2Sleep1', 'preproc_params_name': 'franklab_tetrode_hippocampus', 'team_name': 'SequenceTask', 'sorter': 'clusterless_thresholder', 'sorter_params_name': 'default', 'artifact_removed_interval_list_name': 'molly20220419_.nwb_01_Seq2Sleep1_60_franklab_tetrode_hippocampus_ampl_1500_prop_075_1ms_artifact_removed_valid_times_track_time_only'}...\n",
      "28-Mar-25 14:46:14 Running spike sorting on {'nwb_file_name': 'molly20220419_.nwb', 'sort_group_id': 60, 'sort_interval_name': '01_Seq2Sleep1', 'preproc_params_name': 'franklab_tetrode_hippocampus', 'team_name': 'SequenceTask', 'sorter': 'clusterless_thresholder', 'sorter_params_name': 'default', 'artifact_removed_interval_list_name': 'molly20220419_.nwb_01_Seq2Sleep1_60_franklab_tetrode_hippocampus_ampl_1500_prop_075_1ms_artifact_removed_valid_times_track_time_only'}...\n"
     ]
    },
    {
     "data": {
      "application/vnd.jupyter.widget-view+json": {
       "model_id": "99b22d43cbcb430db15884a68a79568a",
       "version_major": 2,
       "version_minor": 0
      },
      "text/plain": [
       "detect peaks using locally_exclusive:   0%|          | 0/2021 [00:00<?, ?it/s]"
      ]
     },
     "metadata": {},
     "output_type": "display_data"
    },
    {
     "name": "stderr",
     "output_type": "stream",
     "text": [
      "[14:46:18][INFO] Spyglass: Saving sorting results...\n",
      "28-Mar-25 14:46:18 Saving sorting results...\n",
      "[14:46:21][INFO] Spyglass: Running spike sorting on {'nwb_file_name': 'molly20220419_.nwb', 'sort_group_id': 61, 'sort_interval_name': '01_Seq2Sleep1', 'preproc_params_name': 'franklab_tetrode_hippocampus', 'team_name': 'SequenceTask', 'sorter': 'clusterless_thresholder', 'sorter_params_name': 'default', 'artifact_removed_interval_list_name': 'molly20220419_.nwb_01_Seq2Sleep1_61_franklab_tetrode_hippocampus_ampl_1500_prop_075_1ms_artifact_removed_valid_times_track_time_only'}...\n",
      "28-Mar-25 14:46:21 Running spike sorting on {'nwb_file_name': 'molly20220419_.nwb', 'sort_group_id': 61, 'sort_interval_name': '01_Seq2Sleep1', 'preproc_params_name': 'franklab_tetrode_hippocampus', 'team_name': 'SequenceTask', 'sorter': 'clusterless_thresholder', 'sorter_params_name': 'default', 'artifact_removed_interval_list_name': 'molly20220419_.nwb_01_Seq2Sleep1_61_franklab_tetrode_hippocampus_ampl_1500_prop_075_1ms_artifact_removed_valid_times_track_time_only'}...\n"
     ]
    },
    {
     "data": {
      "application/vnd.jupyter.widget-view+json": {
       "model_id": "875db3f079ff4382ab81b4456c5386dd",
       "version_major": 2,
       "version_minor": 0
      },
      "text/plain": [
       "detect peaks using locally_exclusive:   0%|          | 0/2021 [00:00<?, ?it/s]"
      ]
     },
     "metadata": {},
     "output_type": "display_data"
    },
    {
     "name": "stderr",
     "output_type": "stream",
     "text": [
      "[14:46:24][INFO] Spyglass: Saving sorting results...\n",
      "28-Mar-25 14:46:24 Saving sorting results...\n",
      "[14:46:26][INFO] Spyglass: Running spike sorting on {'nwb_file_name': 'molly20220419_.nwb', 'sort_group_id': 6, 'sort_interval_name': '01_Seq2Sleep1', 'preproc_params_name': 'franklab_tetrode_hippocampus', 'team_name': 'SequenceTask', 'sorter': 'clusterless_thresholder', 'sorter_params_name': 'default', 'artifact_removed_interval_list_name': 'molly20220419_.nwb_01_Seq2Sleep1_6_franklab_tetrode_hippocampus_ampl_1500_prop_075_1ms_artifact_removed_valid_times_track_time_only'}...\n",
      "28-Mar-25 14:46:26 Running spike sorting on {'nwb_file_name': 'molly20220419_.nwb', 'sort_group_id': 6, 'sort_interval_name': '01_Seq2Sleep1', 'preproc_params_name': 'franklab_tetrode_hippocampus', 'team_name': 'SequenceTask', 'sorter': 'clusterless_thresholder', 'sorter_params_name': 'default', 'artifact_removed_interval_list_name': 'molly20220419_.nwb_01_Seq2Sleep1_6_franklab_tetrode_hippocampus_ampl_1500_prop_075_1ms_artifact_removed_valid_times_track_time_only'}...\n"
     ]
    },
    {
     "data": {
      "application/vnd.jupyter.widget-view+json": {
       "model_id": "ef763a1934e6495d8f32aa4bc58278d4",
       "version_major": 2,
       "version_minor": 0
      },
      "text/plain": [
       "detect peaks using locally_exclusive:   0%|          | 0/2021 [00:00<?, ?it/s]"
      ]
     },
     "metadata": {},
     "output_type": "display_data"
    },
    {
     "name": "stderr",
     "output_type": "stream",
     "text": [
      "[14:46:30][INFO] Spyglass: Saving sorting results...\n",
      "28-Mar-25 14:46:30 Saving sorting results...\n",
      "[14:46:32][INFO] Spyglass: Running spike sorting on {'nwb_file_name': 'molly20220419_.nwb', 'sort_group_id': 7, 'sort_interval_name': '01_Seq2Sleep1', 'preproc_params_name': 'franklab_tetrode_hippocampus', 'team_name': 'SequenceTask', 'sorter': 'clusterless_thresholder', 'sorter_params_name': 'default', 'artifact_removed_interval_list_name': 'molly20220419_.nwb_01_Seq2Sleep1_7_franklab_tetrode_hippocampus_ampl_1500_prop_075_1ms_artifact_removed_valid_times_track_time_only'}...\n",
      "28-Mar-25 14:46:32 Running spike sorting on {'nwb_file_name': 'molly20220419_.nwb', 'sort_group_id': 7, 'sort_interval_name': '01_Seq2Sleep1', 'preproc_params_name': 'franklab_tetrode_hippocampus', 'team_name': 'SequenceTask', 'sorter': 'clusterless_thresholder', 'sorter_params_name': 'default', 'artifact_removed_interval_list_name': 'molly20220419_.nwb_01_Seq2Sleep1_7_franklab_tetrode_hippocampus_ampl_1500_prop_075_1ms_artifact_removed_valid_times_track_time_only'}...\n"
     ]
    },
    {
     "data": {
      "application/vnd.jupyter.widget-view+json": {
       "model_id": "f4a524c03d1f4f19ac282d2761d8e615",
       "version_major": 2,
       "version_minor": 0
      },
      "text/plain": [
       "detect peaks using locally_exclusive:   0%|          | 0/2021 [00:00<?, ?it/s]"
      ]
     },
     "metadata": {},
     "output_type": "display_data"
    },
    {
     "name": "stderr",
     "output_type": "stream",
     "text": [
      "[14:46:36][INFO] Spyglass: Saving sorting results...\n",
      "28-Mar-25 14:46:36 Saving sorting results...\n",
      "[14:46:38][INFO] Spyglass: Running spike sorting on {'nwb_file_name': 'molly20220419_.nwb', 'sort_group_id': 9, 'sort_interval_name': '01_Seq2Sleep1', 'preproc_params_name': 'franklab_tetrode_hippocampus', 'team_name': 'SequenceTask', 'sorter': 'clusterless_thresholder', 'sorter_params_name': 'default', 'artifact_removed_interval_list_name': 'molly20220419_.nwb_01_Seq2Sleep1_9_franklab_tetrode_hippocampus_ampl_1500_prop_075_1ms_artifact_removed_valid_times_track_time_only'}...\n",
      "28-Mar-25 14:46:38 Running spike sorting on {'nwb_file_name': 'molly20220419_.nwb', 'sort_group_id': 9, 'sort_interval_name': '01_Seq2Sleep1', 'preproc_params_name': 'franklab_tetrode_hippocampus', 'team_name': 'SequenceTask', 'sorter': 'clusterless_thresholder', 'sorter_params_name': 'default', 'artifact_removed_interval_list_name': 'molly20220419_.nwb_01_Seq2Sleep1_9_franklab_tetrode_hippocampus_ampl_1500_prop_075_1ms_artifact_removed_valid_times_track_time_only'}...\n"
     ]
    },
    {
     "data": {
      "application/vnd.jupyter.widget-view+json": {
       "model_id": "28aa1a2a1aef4da284afadaa42447c40",
       "version_major": 2,
       "version_minor": 0
      },
      "text/plain": [
       "detect peaks using locally_exclusive:   0%|          | 0/2021 [00:00<?, ?it/s]"
      ]
     },
     "metadata": {},
     "output_type": "display_data"
    },
    {
     "name": "stderr",
     "output_type": "stream",
     "text": [
      "[14:46:42][INFO] Spyglass: Saving sorting results...\n",
      "28-Mar-25 14:46:42 Saving sorting results...\n"
     ]
    },
    {
     "name": "stdout",
     "output_type": "stream",
     "text": [
      "0\n",
      "inserting into IntervalList\n",
      "done inserting into IntervalList\n",
      "2\n",
      "inserting into IntervalList\n",
      "done inserting into IntervalList\n",
      "3\n",
      "inserting into IntervalList\n",
      "done inserting into IntervalList\n",
      "6\n",
      "inserting into IntervalList\n",
      "done inserting into IntervalList\n",
      "7\n",
      "inserting into IntervalList\n",
      "done inserting into IntervalList\n",
      "9\n",
      "inserting into IntervalList\n",
      "done inserting into IntervalList\n",
      "10\n",
      "inserting into IntervalList\n",
      "done inserting into IntervalList\n",
      "12\n",
      "inserting into IntervalList\n",
      "done inserting into IntervalList\n",
      "15\n",
      "inserting into IntervalList\n",
      "done inserting into IntervalList\n",
      "17\n",
      "inserting into IntervalList\n",
      "done inserting into IntervalList\n",
      "18\n",
      "inserting into IntervalList\n",
      "done inserting into IntervalList\n",
      "24\n",
      "inserting into IntervalList\n",
      "done inserting into IntervalList\n",
      "25\n",
      "inserting into IntervalList\n",
      "done inserting into IntervalList\n",
      "27\n",
      "inserting into IntervalList\n",
      "done inserting into IntervalList\n",
      "34\n",
      "inserting into IntervalList\n",
      "done inserting into IntervalList\n",
      "37\n",
      "inserting into IntervalList\n",
      "done inserting into IntervalList\n",
      "39\n",
      "inserting into IntervalList\n",
      "done inserting into IntervalList\n",
      "40\n",
      "inserting into IntervalList\n",
      "done inserting into IntervalList\n",
      "41\n",
      "inserting into IntervalList\n",
      "done inserting into IntervalList\n",
      "46\n",
      "inserting into IntervalList\n",
      "done inserting into IntervalList\n",
      "50\n",
      "inserting into IntervalList\n",
      "done inserting into IntervalList\n",
      "52\n",
      "inserting into IntervalList\n",
      "done inserting into IntervalList\n",
      "53\n",
      "inserting into IntervalList\n",
      "done inserting into IntervalList\n",
      "60\n",
      "inserting into IntervalList\n",
      "done inserting into IntervalList\n",
      "61\n",
      "inserting into IntervalList\n",
      "done inserting into IntervalList\n"
     ]
    },
    {
     "name": "stderr",
     "output_type": "stream",
     "text": [
      "[14:46:44][INFO] Spyglass: Running spike sorting on {'nwb_file_name': 'molly20220419_.nwb', 'sort_group_id': 0, 'sort_interval_name': '03_Seq2Sleep2', 'preproc_params_name': 'franklab_tetrode_hippocampus', 'team_name': 'SequenceTask', 'sorter': 'clusterless_thresholder', 'sorter_params_name': 'default', 'artifact_removed_interval_list_name': 'molly20220419_.nwb_03_Seq2Sleep2_0_franklab_tetrode_hippocampus_ampl_1500_prop_075_1ms_artifact_removed_valid_times_track_time_only'}...\n",
      "28-Mar-25 14:46:44 Running spike sorting on {'nwb_file_name': 'molly20220419_.nwb', 'sort_group_id': 0, 'sort_interval_name': '03_Seq2Sleep2', 'preproc_params_name': 'franklab_tetrode_hippocampus', 'team_name': 'SequenceTask', 'sorter': 'clusterless_thresholder', 'sorter_params_name': 'default', 'artifact_removed_interval_list_name': 'molly20220419_.nwb_03_Seq2Sleep2_0_franklab_tetrode_hippocampus_ampl_1500_prop_075_1ms_artifact_removed_valid_times_track_time_only'}...\n"
     ]
    },
    {
     "data": {
      "application/vnd.jupyter.widget-view+json": {
       "model_id": "894d0a011ff042ff8de94033ff535acc",
       "version_major": 2,
       "version_minor": 0
      },
      "text/plain": [
       "detect peaks using locally_exclusive:   0%|          | 0/1723 [00:00<?, ?it/s]"
      ]
     },
     "metadata": {},
     "output_type": "display_data"
    },
    {
     "name": "stderr",
     "output_type": "stream",
     "text": [
      "[14:46:48][INFO] Spyglass: Saving sorting results...\n",
      "28-Mar-25 14:46:48 Saving sorting results...\n",
      "[14:46:51][INFO] Spyglass: Running spike sorting on {'nwb_file_name': 'molly20220419_.nwb', 'sort_group_id': 10, 'sort_interval_name': '03_Seq2Sleep2', 'preproc_params_name': 'franklab_tetrode_hippocampus', 'team_name': 'SequenceTask', 'sorter': 'clusterless_thresholder', 'sorter_params_name': 'default', 'artifact_removed_interval_list_name': 'molly20220419_.nwb_03_Seq2Sleep2_10_franklab_tetrode_hippocampus_ampl_1500_prop_075_1ms_artifact_removed_valid_times_track_time_only'}...\n",
      "28-Mar-25 14:46:51 Running spike sorting on {'nwb_file_name': 'molly20220419_.nwb', 'sort_group_id': 10, 'sort_interval_name': '03_Seq2Sleep2', 'preproc_params_name': 'franklab_tetrode_hippocampus', 'team_name': 'SequenceTask', 'sorter': 'clusterless_thresholder', 'sorter_params_name': 'default', 'artifact_removed_interval_list_name': 'molly20220419_.nwb_03_Seq2Sleep2_10_franklab_tetrode_hippocampus_ampl_1500_prop_075_1ms_artifact_removed_valid_times_track_time_only'}...\n"
     ]
    },
    {
     "data": {
      "application/vnd.jupyter.widget-view+json": {
       "model_id": "05d8016a3d9b44b2bfdd0c7b4843580a",
       "version_major": 2,
       "version_minor": 0
      },
      "text/plain": [
       "detect peaks using locally_exclusive:   0%|          | 0/1723 [00:00<?, ?it/s]"
      ]
     },
     "metadata": {},
     "output_type": "display_data"
    },
    {
     "name": "stderr",
     "output_type": "stream",
     "text": [
      "[14:46:54][INFO] Spyglass: Saving sorting results...\n",
      "28-Mar-25 14:46:54 Saving sorting results...\n",
      "[14:46:59][INFO] Spyglass: Running spike sorting on {'nwb_file_name': 'molly20220419_.nwb', 'sort_group_id': 12, 'sort_interval_name': '03_Seq2Sleep2', 'preproc_params_name': 'franklab_tetrode_hippocampus', 'team_name': 'SequenceTask', 'sorter': 'clusterless_thresholder', 'sorter_params_name': 'default', 'artifact_removed_interval_list_name': 'molly20220419_.nwb_03_Seq2Sleep2_12_franklab_tetrode_hippocampus_ampl_1500_prop_075_1ms_artifact_removed_valid_times_track_time_only'}...\n",
      "28-Mar-25 14:46:59 Running spike sorting on {'nwb_file_name': 'molly20220419_.nwb', 'sort_group_id': 12, 'sort_interval_name': '03_Seq2Sleep2', 'preproc_params_name': 'franklab_tetrode_hippocampus', 'team_name': 'SequenceTask', 'sorter': 'clusterless_thresholder', 'sorter_params_name': 'default', 'artifact_removed_interval_list_name': 'molly20220419_.nwb_03_Seq2Sleep2_12_franklab_tetrode_hippocampus_ampl_1500_prop_075_1ms_artifact_removed_valid_times_track_time_only'}...\n"
     ]
    },
    {
     "data": {
      "application/vnd.jupyter.widget-view+json": {
       "model_id": "954c2c69036d4e92830714ff31e0835b",
       "version_major": 2,
       "version_minor": 0
      },
      "text/plain": [
       "detect peaks using locally_exclusive:   0%|          | 0/1723 [00:00<?, ?it/s]"
      ]
     },
     "metadata": {},
     "output_type": "display_data"
    },
    {
     "name": "stderr",
     "output_type": "stream",
     "text": [
      "[14:47:02][INFO] Spyglass: Saving sorting results...\n",
      "28-Mar-25 14:47:02 Saving sorting results...\n",
      "[14:47:07][INFO] Spyglass: Running spike sorting on {'nwb_file_name': 'molly20220419_.nwb', 'sort_group_id': 15, 'sort_interval_name': '03_Seq2Sleep2', 'preproc_params_name': 'franklab_tetrode_hippocampus', 'team_name': 'SequenceTask', 'sorter': 'clusterless_thresholder', 'sorter_params_name': 'default', 'artifact_removed_interval_list_name': 'molly20220419_.nwb_03_Seq2Sleep2_15_franklab_tetrode_hippocampus_ampl_1500_prop_075_1ms_artifact_removed_valid_times_track_time_only'}...\n",
      "28-Mar-25 14:47:07 Running spike sorting on {'nwb_file_name': 'molly20220419_.nwb', 'sort_group_id': 15, 'sort_interval_name': '03_Seq2Sleep2', 'preproc_params_name': 'franklab_tetrode_hippocampus', 'team_name': 'SequenceTask', 'sorter': 'clusterless_thresholder', 'sorter_params_name': 'default', 'artifact_removed_interval_list_name': 'molly20220419_.nwb_03_Seq2Sleep2_15_franklab_tetrode_hippocampus_ampl_1500_prop_075_1ms_artifact_removed_valid_times_track_time_only'}...\n"
     ]
    },
    {
     "data": {
      "application/vnd.jupyter.widget-view+json": {
       "model_id": "005927da51ef40229ad5561382826c71",
       "version_major": 2,
       "version_minor": 0
      },
      "text/plain": [
       "detect peaks using locally_exclusive:   0%|          | 0/1723 [00:00<?, ?it/s]"
      ]
     },
     "metadata": {},
     "output_type": "display_data"
    },
    {
     "name": "stderr",
     "output_type": "stream",
     "text": [
      "[14:47:10][INFO] Spyglass: Saving sorting results...\n",
      "28-Mar-25 14:47:10 Saving sorting results...\n",
      "[14:47:13][INFO] Spyglass: Running spike sorting on {'nwb_file_name': 'molly20220419_.nwb', 'sort_group_id': 17, 'sort_interval_name': '03_Seq2Sleep2', 'preproc_params_name': 'franklab_tetrode_hippocampus', 'team_name': 'SequenceTask', 'sorter': 'clusterless_thresholder', 'sorter_params_name': 'default', 'artifact_removed_interval_list_name': 'molly20220419_.nwb_03_Seq2Sleep2_17_franklab_tetrode_hippocampus_ampl_1500_prop_075_1ms_artifact_removed_valid_times_track_time_only'}...\n",
      "28-Mar-25 14:47:13 Running spike sorting on {'nwb_file_name': 'molly20220419_.nwb', 'sort_group_id': 17, 'sort_interval_name': '03_Seq2Sleep2', 'preproc_params_name': 'franklab_tetrode_hippocampus', 'team_name': 'SequenceTask', 'sorter': 'clusterless_thresholder', 'sorter_params_name': 'default', 'artifact_removed_interval_list_name': 'molly20220419_.nwb_03_Seq2Sleep2_17_franklab_tetrode_hippocampus_ampl_1500_prop_075_1ms_artifact_removed_valid_times_track_time_only'}...\n"
     ]
    },
    {
     "data": {
      "application/vnd.jupyter.widget-view+json": {
       "model_id": "463b8bdac98e4da083617e453a4157e5",
       "version_major": 2,
       "version_minor": 0
      },
      "text/plain": [
       "detect peaks using locally_exclusive:   0%|          | 0/1723 [00:00<?, ?it/s]"
      ]
     },
     "metadata": {},
     "output_type": "display_data"
    },
    {
     "name": "stderr",
     "output_type": "stream",
     "text": [
      "[14:47:17][INFO] Spyglass: Saving sorting results...\n",
      "28-Mar-25 14:47:17 Saving sorting results...\n",
      "[14:47:19][INFO] Spyglass: Running spike sorting on {'nwb_file_name': 'molly20220419_.nwb', 'sort_group_id': 18, 'sort_interval_name': '03_Seq2Sleep2', 'preproc_params_name': 'franklab_tetrode_hippocampus', 'team_name': 'SequenceTask', 'sorter': 'clusterless_thresholder', 'sorter_params_name': 'default', 'artifact_removed_interval_list_name': 'molly20220419_.nwb_03_Seq2Sleep2_18_franklab_tetrode_hippocampus_ampl_1500_prop_075_1ms_artifact_removed_valid_times_track_time_only'}...\n",
      "28-Mar-25 14:47:19 Running spike sorting on {'nwb_file_name': 'molly20220419_.nwb', 'sort_group_id': 18, 'sort_interval_name': '03_Seq2Sleep2', 'preproc_params_name': 'franklab_tetrode_hippocampus', 'team_name': 'SequenceTask', 'sorter': 'clusterless_thresholder', 'sorter_params_name': 'default', 'artifact_removed_interval_list_name': 'molly20220419_.nwb_03_Seq2Sleep2_18_franklab_tetrode_hippocampus_ampl_1500_prop_075_1ms_artifact_removed_valid_times_track_time_only'}...\n"
     ]
    },
    {
     "data": {
      "application/vnd.jupyter.widget-view+json": {
       "model_id": "f9db8aef6531497a96b7a4779156f24e",
       "version_major": 2,
       "version_minor": 0
      },
      "text/plain": [
       "detect peaks using locally_exclusive:   0%|          | 0/1723 [00:00<?, ?it/s]"
      ]
     },
     "metadata": {},
     "output_type": "display_data"
    },
    {
     "name": "stderr",
     "output_type": "stream",
     "text": [
      "[14:47:22][INFO] Spyglass: Saving sorting results...\n",
      "28-Mar-25 14:47:22 Saving sorting results...\n",
      "[14:47:24][INFO] Spyglass: Running spike sorting on {'nwb_file_name': 'molly20220419_.nwb', 'sort_group_id': 24, 'sort_interval_name': '03_Seq2Sleep2', 'preproc_params_name': 'franklab_tetrode_hippocampus', 'team_name': 'SequenceTask', 'sorter': 'clusterless_thresholder', 'sorter_params_name': 'default', 'artifact_removed_interval_list_name': 'molly20220419_.nwb_03_Seq2Sleep2_24_franklab_tetrode_hippocampus_ampl_1500_prop_075_1ms_artifact_removed_valid_times_track_time_only'}...\n",
      "28-Mar-25 14:47:24 Running spike sorting on {'nwb_file_name': 'molly20220419_.nwb', 'sort_group_id': 24, 'sort_interval_name': '03_Seq2Sleep2', 'preproc_params_name': 'franklab_tetrode_hippocampus', 'team_name': 'SequenceTask', 'sorter': 'clusterless_thresholder', 'sorter_params_name': 'default', 'artifact_removed_interval_list_name': 'molly20220419_.nwb_03_Seq2Sleep2_24_franklab_tetrode_hippocampus_ampl_1500_prop_075_1ms_artifact_removed_valid_times_track_time_only'}...\n"
     ]
    },
    {
     "data": {
      "application/vnd.jupyter.widget-view+json": {
       "model_id": "aec9fe8c541e448a9f76125964478c03",
       "version_major": 2,
       "version_minor": 0
      },
      "text/plain": [
       "detect peaks using locally_exclusive:   0%|          | 0/1723 [00:00<?, ?it/s]"
      ]
     },
     "metadata": {},
     "output_type": "display_data"
    },
    {
     "name": "stderr",
     "output_type": "stream",
     "text": [
      "[14:47:27][INFO] Spyglass: Saving sorting results...\n",
      "28-Mar-25 14:47:27 Saving sorting results...\n",
      "[14:47:29][INFO] Spyglass: Running spike sorting on {'nwb_file_name': 'molly20220419_.nwb', 'sort_group_id': 25, 'sort_interval_name': '03_Seq2Sleep2', 'preproc_params_name': 'franklab_tetrode_hippocampus', 'team_name': 'SequenceTask', 'sorter': 'clusterless_thresholder', 'sorter_params_name': 'default', 'artifact_removed_interval_list_name': 'molly20220419_.nwb_03_Seq2Sleep2_25_franklab_tetrode_hippocampus_ampl_1500_prop_075_1ms_artifact_removed_valid_times_track_time_only'}...\n",
      "28-Mar-25 14:47:29 Running spike sorting on {'nwb_file_name': 'molly20220419_.nwb', 'sort_group_id': 25, 'sort_interval_name': '03_Seq2Sleep2', 'preproc_params_name': 'franklab_tetrode_hippocampus', 'team_name': 'SequenceTask', 'sorter': 'clusterless_thresholder', 'sorter_params_name': 'default', 'artifact_removed_interval_list_name': 'molly20220419_.nwb_03_Seq2Sleep2_25_franklab_tetrode_hippocampus_ampl_1500_prop_075_1ms_artifact_removed_valid_times_track_time_only'}...\n"
     ]
    },
    {
     "data": {
      "application/vnd.jupyter.widget-view+json": {
       "model_id": "9a39655273a541cc8a3fd85f74a5c954",
       "version_major": 2,
       "version_minor": 0
      },
      "text/plain": [
       "detect peaks using locally_exclusive:   0%|          | 0/1723 [00:00<?, ?it/s]"
      ]
     },
     "metadata": {},
     "output_type": "display_data"
    },
    {
     "name": "stderr",
     "output_type": "stream",
     "text": [
      "[14:47:32][INFO] Spyglass: Saving sorting results...\n",
      "28-Mar-25 14:47:32 Saving sorting results...\n",
      "[14:47:34][INFO] Spyglass: Running spike sorting on {'nwb_file_name': 'molly20220419_.nwb', 'sort_group_id': 27, 'sort_interval_name': '03_Seq2Sleep2', 'preproc_params_name': 'franklab_tetrode_hippocampus', 'team_name': 'SequenceTask', 'sorter': 'clusterless_thresholder', 'sorter_params_name': 'default', 'artifact_removed_interval_list_name': 'molly20220419_.nwb_03_Seq2Sleep2_27_franklab_tetrode_hippocampus_ampl_1500_prop_075_1ms_artifact_removed_valid_times_track_time_only'}...\n",
      "28-Mar-25 14:47:34 Running spike sorting on {'nwb_file_name': 'molly20220419_.nwb', 'sort_group_id': 27, 'sort_interval_name': '03_Seq2Sleep2', 'preproc_params_name': 'franklab_tetrode_hippocampus', 'team_name': 'SequenceTask', 'sorter': 'clusterless_thresholder', 'sorter_params_name': 'default', 'artifact_removed_interval_list_name': 'molly20220419_.nwb_03_Seq2Sleep2_27_franklab_tetrode_hippocampus_ampl_1500_prop_075_1ms_artifact_removed_valid_times_track_time_only'}...\n"
     ]
    },
    {
     "data": {
      "application/vnd.jupyter.widget-view+json": {
       "model_id": "b17b1144f2c44eb58e5732d05ff9e3f2",
       "version_major": 2,
       "version_minor": 0
      },
      "text/plain": [
       "detect peaks using locally_exclusive:   0%|          | 0/1723 [00:00<?, ?it/s]"
      ]
     },
     "metadata": {},
     "output_type": "display_data"
    },
    {
     "name": "stderr",
     "output_type": "stream",
     "text": [
      "[14:47:38][INFO] Spyglass: Saving sorting results...\n",
      "28-Mar-25 14:47:38 Saving sorting results...\n",
      "[14:47:40][INFO] Spyglass: Running spike sorting on {'nwb_file_name': 'molly20220419_.nwb', 'sort_group_id': 2, 'sort_interval_name': '03_Seq2Sleep2', 'preproc_params_name': 'franklab_tetrode_hippocampus', 'team_name': 'SequenceTask', 'sorter': 'clusterless_thresholder', 'sorter_params_name': 'default', 'artifact_removed_interval_list_name': 'molly20220419_.nwb_03_Seq2Sleep2_2_franklab_tetrode_hippocampus_ampl_1500_prop_075_1ms_artifact_removed_valid_times_track_time_only'}...\n",
      "28-Mar-25 14:47:40 Running spike sorting on {'nwb_file_name': 'molly20220419_.nwb', 'sort_group_id': 2, 'sort_interval_name': '03_Seq2Sleep2', 'preproc_params_name': 'franklab_tetrode_hippocampus', 'team_name': 'SequenceTask', 'sorter': 'clusterless_thresholder', 'sorter_params_name': 'default', 'artifact_removed_interval_list_name': 'molly20220419_.nwb_03_Seq2Sleep2_2_franklab_tetrode_hippocampus_ampl_1500_prop_075_1ms_artifact_removed_valid_times_track_time_only'}...\n"
     ]
    },
    {
     "data": {
      "application/vnd.jupyter.widget-view+json": {
       "model_id": "88181e8d2d264f04bd18a914ef9c6c69",
       "version_major": 2,
       "version_minor": 0
      },
      "text/plain": [
       "detect peaks using locally_exclusive:   0%|          | 0/1723 [00:00<?, ?it/s]"
      ]
     },
     "metadata": {},
     "output_type": "display_data"
    },
    {
     "name": "stderr",
     "output_type": "stream",
     "text": [
      "[14:47:43][INFO] Spyglass: Saving sorting results...\n",
      "28-Mar-25 14:47:43 Saving sorting results...\n",
      "[14:47:45][INFO] Spyglass: Running spike sorting on {'nwb_file_name': 'molly20220419_.nwb', 'sort_group_id': 34, 'sort_interval_name': '03_Seq2Sleep2', 'preproc_params_name': 'franklab_tetrode_hippocampus', 'team_name': 'SequenceTask', 'sorter': 'clusterless_thresholder', 'sorter_params_name': 'default', 'artifact_removed_interval_list_name': 'molly20220419_.nwb_03_Seq2Sleep2_34_franklab_tetrode_hippocampus_ampl_1500_prop_075_1ms_artifact_removed_valid_times_track_time_only'}...\n",
      "28-Mar-25 14:47:45 Running spike sorting on {'nwb_file_name': 'molly20220419_.nwb', 'sort_group_id': 34, 'sort_interval_name': '03_Seq2Sleep2', 'preproc_params_name': 'franklab_tetrode_hippocampus', 'team_name': 'SequenceTask', 'sorter': 'clusterless_thresholder', 'sorter_params_name': 'default', 'artifact_removed_interval_list_name': 'molly20220419_.nwb_03_Seq2Sleep2_34_franklab_tetrode_hippocampus_ampl_1500_prop_075_1ms_artifact_removed_valid_times_track_time_only'}...\n"
     ]
    },
    {
     "data": {
      "application/vnd.jupyter.widget-view+json": {
       "model_id": "8364d5e1f0b4401d9882bfdb1b998e19",
       "version_major": 2,
       "version_minor": 0
      },
      "text/plain": [
       "detect peaks using locally_exclusive:   0%|          | 0/1723 [00:00<?, ?it/s]"
      ]
     },
     "metadata": {},
     "output_type": "display_data"
    },
    {
     "name": "stderr",
     "output_type": "stream",
     "text": [
      "[14:47:48][INFO] Spyglass: Saving sorting results...\n",
      "28-Mar-25 14:47:48 Saving sorting results...\n",
      "[14:47:50][INFO] Spyglass: Running spike sorting on {'nwb_file_name': 'molly20220419_.nwb', 'sort_group_id': 37, 'sort_interval_name': '03_Seq2Sleep2', 'preproc_params_name': 'franklab_tetrode_hippocampus', 'team_name': 'SequenceTask', 'sorter': 'clusterless_thresholder', 'sorter_params_name': 'default', 'artifact_removed_interval_list_name': 'molly20220419_.nwb_03_Seq2Sleep2_37_franklab_tetrode_hippocampus_ampl_1500_prop_075_1ms_artifact_removed_valid_times_track_time_only'}...\n",
      "28-Mar-25 14:47:50 Running spike sorting on {'nwb_file_name': 'molly20220419_.nwb', 'sort_group_id': 37, 'sort_interval_name': '03_Seq2Sleep2', 'preproc_params_name': 'franklab_tetrode_hippocampus', 'team_name': 'SequenceTask', 'sorter': 'clusterless_thresholder', 'sorter_params_name': 'default', 'artifact_removed_interval_list_name': 'molly20220419_.nwb_03_Seq2Sleep2_37_franklab_tetrode_hippocampus_ampl_1500_prop_075_1ms_artifact_removed_valid_times_track_time_only'}...\n"
     ]
    },
    {
     "data": {
      "application/vnd.jupyter.widget-view+json": {
       "model_id": "d31ea95f1cb4454b8c5b9470cd83219b",
       "version_major": 2,
       "version_minor": 0
      },
      "text/plain": [
       "detect peaks using locally_exclusive:   0%|          | 0/1723 [00:00<?, ?it/s]"
      ]
     },
     "metadata": {},
     "output_type": "display_data"
    },
    {
     "name": "stderr",
     "output_type": "stream",
     "text": [
      "[14:47:53][INFO] Spyglass: Saving sorting results...\n",
      "28-Mar-25 14:47:53 Saving sorting results...\n",
      "[14:47:55][INFO] Spyglass: Running spike sorting on {'nwb_file_name': 'molly20220419_.nwb', 'sort_group_id': 39, 'sort_interval_name': '03_Seq2Sleep2', 'preproc_params_name': 'franklab_tetrode_hippocampus', 'team_name': 'SequenceTask', 'sorter': 'clusterless_thresholder', 'sorter_params_name': 'default', 'artifact_removed_interval_list_name': 'molly20220419_.nwb_03_Seq2Sleep2_39_franklab_tetrode_hippocampus_ampl_1500_prop_075_1ms_artifact_removed_valid_times_track_time_only'}...\n",
      "28-Mar-25 14:47:55 Running spike sorting on {'nwb_file_name': 'molly20220419_.nwb', 'sort_group_id': 39, 'sort_interval_name': '03_Seq2Sleep2', 'preproc_params_name': 'franklab_tetrode_hippocampus', 'team_name': 'SequenceTask', 'sorter': 'clusterless_thresholder', 'sorter_params_name': 'default', 'artifact_removed_interval_list_name': 'molly20220419_.nwb_03_Seq2Sleep2_39_franklab_tetrode_hippocampus_ampl_1500_prop_075_1ms_artifact_removed_valid_times_track_time_only'}...\n"
     ]
    },
    {
     "data": {
      "application/vnd.jupyter.widget-view+json": {
       "model_id": "fd7b18438d8a41b4a66de28924a70319",
       "version_major": 2,
       "version_minor": 0
      },
      "text/plain": [
       "detect peaks using locally_exclusive:   0%|          | 0/1723 [00:00<?, ?it/s]"
      ]
     },
     "metadata": {},
     "output_type": "display_data"
    },
    {
     "name": "stderr",
     "output_type": "stream",
     "text": [
      "[14:47:58][INFO] Spyglass: Saving sorting results...\n",
      "28-Mar-25 14:47:58 Saving sorting results...\n",
      "[14:48:00][INFO] Spyglass: Running spike sorting on {'nwb_file_name': 'molly20220419_.nwb', 'sort_group_id': 3, 'sort_interval_name': '03_Seq2Sleep2', 'preproc_params_name': 'franklab_tetrode_hippocampus', 'team_name': 'SequenceTask', 'sorter': 'clusterless_thresholder', 'sorter_params_name': 'default', 'artifact_removed_interval_list_name': 'molly20220419_.nwb_03_Seq2Sleep2_3_franklab_tetrode_hippocampus_ampl_1500_prop_075_1ms_artifact_removed_valid_times_track_time_only'}...\n",
      "28-Mar-25 14:48:00 Running spike sorting on {'nwb_file_name': 'molly20220419_.nwb', 'sort_group_id': 3, 'sort_interval_name': '03_Seq2Sleep2', 'preproc_params_name': 'franklab_tetrode_hippocampus', 'team_name': 'SequenceTask', 'sorter': 'clusterless_thresholder', 'sorter_params_name': 'default', 'artifact_removed_interval_list_name': 'molly20220419_.nwb_03_Seq2Sleep2_3_franklab_tetrode_hippocampus_ampl_1500_prop_075_1ms_artifact_removed_valid_times_track_time_only'}...\n"
     ]
    },
    {
     "data": {
      "application/vnd.jupyter.widget-view+json": {
       "model_id": "1377b36af01548759de7a40f811256cf",
       "version_major": 2,
       "version_minor": 0
      },
      "text/plain": [
       "detect peaks using locally_exclusive:   0%|          | 0/1723 [00:00<?, ?it/s]"
      ]
     },
     "metadata": {},
     "output_type": "display_data"
    },
    {
     "name": "stderr",
     "output_type": "stream",
     "text": [
      "[14:48:04][INFO] Spyglass: Saving sorting results...\n",
      "28-Mar-25 14:48:04 Saving sorting results...\n",
      "[14:48:06][INFO] Spyglass: Running spike sorting on {'nwb_file_name': 'molly20220419_.nwb', 'sort_group_id': 40, 'sort_interval_name': '03_Seq2Sleep2', 'preproc_params_name': 'franklab_tetrode_hippocampus', 'team_name': 'SequenceTask', 'sorter': 'clusterless_thresholder', 'sorter_params_name': 'default', 'artifact_removed_interval_list_name': 'molly20220419_.nwb_03_Seq2Sleep2_40_franklab_tetrode_hippocampus_ampl_1500_prop_075_1ms_artifact_removed_valid_times_track_time_only'}...\n",
      "28-Mar-25 14:48:06 Running spike sorting on {'nwb_file_name': 'molly20220419_.nwb', 'sort_group_id': 40, 'sort_interval_name': '03_Seq2Sleep2', 'preproc_params_name': 'franklab_tetrode_hippocampus', 'team_name': 'SequenceTask', 'sorter': 'clusterless_thresholder', 'sorter_params_name': 'default', 'artifact_removed_interval_list_name': 'molly20220419_.nwb_03_Seq2Sleep2_40_franklab_tetrode_hippocampus_ampl_1500_prop_075_1ms_artifact_removed_valid_times_track_time_only'}...\n"
     ]
    },
    {
     "data": {
      "application/vnd.jupyter.widget-view+json": {
       "model_id": "f30530e65a0043e8842b3eb9d40bd956",
       "version_major": 2,
       "version_minor": 0
      },
      "text/plain": [
       "detect peaks using locally_exclusive:   0%|          | 0/1723 [00:00<?, ?it/s]"
      ]
     },
     "metadata": {},
     "output_type": "display_data"
    },
    {
     "name": "stderr",
     "output_type": "stream",
     "text": [
      "[14:48:09][INFO] Spyglass: Saving sorting results...\n",
      "28-Mar-25 14:48:09 Saving sorting results...\n",
      "[14:48:14][INFO] Spyglass: Running spike sorting on {'nwb_file_name': 'molly20220419_.nwb', 'sort_group_id': 41, 'sort_interval_name': '03_Seq2Sleep2', 'preproc_params_name': 'franklab_tetrode_hippocampus', 'team_name': 'SequenceTask', 'sorter': 'clusterless_thresholder', 'sorter_params_name': 'default', 'artifact_removed_interval_list_name': 'molly20220419_.nwb_03_Seq2Sleep2_41_franklab_tetrode_hippocampus_ampl_1500_prop_075_1ms_artifact_removed_valid_times_track_time_only'}...\n",
      "28-Mar-25 14:48:14 Running spike sorting on {'nwb_file_name': 'molly20220419_.nwb', 'sort_group_id': 41, 'sort_interval_name': '03_Seq2Sleep2', 'preproc_params_name': 'franklab_tetrode_hippocampus', 'team_name': 'SequenceTask', 'sorter': 'clusterless_thresholder', 'sorter_params_name': 'default', 'artifact_removed_interval_list_name': 'molly20220419_.nwb_03_Seq2Sleep2_41_franklab_tetrode_hippocampus_ampl_1500_prop_075_1ms_artifact_removed_valid_times_track_time_only'}...\n"
     ]
    },
    {
     "data": {
      "application/vnd.jupyter.widget-view+json": {
       "model_id": "ed9f54aa3adb402f8449aabb03506e94",
       "version_major": 2,
       "version_minor": 0
      },
      "text/plain": [
       "detect peaks using locally_exclusive:   0%|          | 0/1723 [00:00<?, ?it/s]"
      ]
     },
     "metadata": {},
     "output_type": "display_data"
    },
    {
     "name": "stderr",
     "output_type": "stream",
     "text": [
      "[14:48:17][INFO] Spyglass: Saving sorting results...\n",
      "28-Mar-25 14:48:17 Saving sorting results...\n",
      "[14:48:21][INFO] Spyglass: Running spike sorting on {'nwb_file_name': 'molly20220419_.nwb', 'sort_group_id': 46, 'sort_interval_name': '03_Seq2Sleep2', 'preproc_params_name': 'franklab_tetrode_hippocampus', 'team_name': 'SequenceTask', 'sorter': 'clusterless_thresholder', 'sorter_params_name': 'default', 'artifact_removed_interval_list_name': 'molly20220419_.nwb_03_Seq2Sleep2_46_franklab_tetrode_hippocampus_ampl_1500_prop_075_1ms_artifact_removed_valid_times_track_time_only'}...\n",
      "28-Mar-25 14:48:21 Running spike sorting on {'nwb_file_name': 'molly20220419_.nwb', 'sort_group_id': 46, 'sort_interval_name': '03_Seq2Sleep2', 'preproc_params_name': 'franklab_tetrode_hippocampus', 'team_name': 'SequenceTask', 'sorter': 'clusterless_thresholder', 'sorter_params_name': 'default', 'artifact_removed_interval_list_name': 'molly20220419_.nwb_03_Seq2Sleep2_46_franklab_tetrode_hippocampus_ampl_1500_prop_075_1ms_artifact_removed_valid_times_track_time_only'}...\n"
     ]
    },
    {
     "data": {
      "application/vnd.jupyter.widget-view+json": {
       "model_id": "31aeda21e848416e93352e59697a35ce",
       "version_major": 2,
       "version_minor": 0
      },
      "text/plain": [
       "detect peaks using locally_exclusive:   0%|          | 0/1723 [00:00<?, ?it/s]"
      ]
     },
     "metadata": {},
     "output_type": "display_data"
    },
    {
     "name": "stderr",
     "output_type": "stream",
     "text": [
      "[14:48:25][INFO] Spyglass: Saving sorting results...\n",
      "28-Mar-25 14:48:25 Saving sorting results...\n",
      "[14:48:31][INFO] Spyglass: Running spike sorting on {'nwb_file_name': 'molly20220419_.nwb', 'sort_group_id': 50, 'sort_interval_name': '03_Seq2Sleep2', 'preproc_params_name': 'franklab_tetrode_hippocampus', 'team_name': 'SequenceTask', 'sorter': 'clusterless_thresholder', 'sorter_params_name': 'default', 'artifact_removed_interval_list_name': 'molly20220419_.nwb_03_Seq2Sleep2_50_franklab_tetrode_hippocampus_ampl_1500_prop_075_1ms_artifact_removed_valid_times_track_time_only'}...\n",
      "28-Mar-25 14:48:31 Running spike sorting on {'nwb_file_name': 'molly20220419_.nwb', 'sort_group_id': 50, 'sort_interval_name': '03_Seq2Sleep2', 'preproc_params_name': 'franklab_tetrode_hippocampus', 'team_name': 'SequenceTask', 'sorter': 'clusterless_thresholder', 'sorter_params_name': 'default', 'artifact_removed_interval_list_name': 'molly20220419_.nwb_03_Seq2Sleep2_50_franklab_tetrode_hippocampus_ampl_1500_prop_075_1ms_artifact_removed_valid_times_track_time_only'}...\n"
     ]
    },
    {
     "data": {
      "application/vnd.jupyter.widget-view+json": {
       "model_id": "55b2f7e302ab4b22af5bdf1d1561e1a2",
       "version_major": 2,
       "version_minor": 0
      },
      "text/plain": [
       "detect peaks using locally_exclusive:   0%|          | 0/1723 [00:00<?, ?it/s]"
      ]
     },
     "metadata": {},
     "output_type": "display_data"
    },
    {
     "name": "stderr",
     "output_type": "stream",
     "text": [
      "[14:48:34][INFO] Spyglass: Saving sorting results...\n",
      "28-Mar-25 14:48:34 Saving sorting results...\n",
      "[14:48:37][INFO] Spyglass: Running spike sorting on {'nwb_file_name': 'molly20220419_.nwb', 'sort_group_id': 52, 'sort_interval_name': '03_Seq2Sleep2', 'preproc_params_name': 'franklab_tetrode_hippocampus', 'team_name': 'SequenceTask', 'sorter': 'clusterless_thresholder', 'sorter_params_name': 'default', 'artifact_removed_interval_list_name': 'molly20220419_.nwb_03_Seq2Sleep2_52_franklab_tetrode_hippocampus_ampl_1500_prop_075_1ms_artifact_removed_valid_times_track_time_only'}...\n",
      "28-Mar-25 14:48:37 Running spike sorting on {'nwb_file_name': 'molly20220419_.nwb', 'sort_group_id': 52, 'sort_interval_name': '03_Seq2Sleep2', 'preproc_params_name': 'franklab_tetrode_hippocampus', 'team_name': 'SequenceTask', 'sorter': 'clusterless_thresholder', 'sorter_params_name': 'default', 'artifact_removed_interval_list_name': 'molly20220419_.nwb_03_Seq2Sleep2_52_franklab_tetrode_hippocampus_ampl_1500_prop_075_1ms_artifact_removed_valid_times_track_time_only'}...\n"
     ]
    },
    {
     "data": {
      "application/vnd.jupyter.widget-view+json": {
       "model_id": "c665f6033e034df691017b7c367a8dfd",
       "version_major": 2,
       "version_minor": 0
      },
      "text/plain": [
       "detect peaks using locally_exclusive:   0%|          | 0/1723 [00:00<?, ?it/s]"
      ]
     },
     "metadata": {},
     "output_type": "display_data"
    },
    {
     "name": "stderr",
     "output_type": "stream",
     "text": [
      "[14:48:40][INFO] Spyglass: Saving sorting results...\n",
      "28-Mar-25 14:48:40 Saving sorting results...\n",
      "[14:48:42][INFO] Spyglass: Running spike sorting on {'nwb_file_name': 'molly20220419_.nwb', 'sort_group_id': 53, 'sort_interval_name': '03_Seq2Sleep2', 'preproc_params_name': 'franklab_tetrode_hippocampus', 'team_name': 'SequenceTask', 'sorter': 'clusterless_thresholder', 'sorter_params_name': 'default', 'artifact_removed_interval_list_name': 'molly20220419_.nwb_03_Seq2Sleep2_53_franklab_tetrode_hippocampus_ampl_1500_prop_075_1ms_artifact_removed_valid_times_track_time_only'}...\n",
      "28-Mar-25 14:48:42 Running spike sorting on {'nwb_file_name': 'molly20220419_.nwb', 'sort_group_id': 53, 'sort_interval_name': '03_Seq2Sleep2', 'preproc_params_name': 'franklab_tetrode_hippocampus', 'team_name': 'SequenceTask', 'sorter': 'clusterless_thresholder', 'sorter_params_name': 'default', 'artifact_removed_interval_list_name': 'molly20220419_.nwb_03_Seq2Sleep2_53_franklab_tetrode_hippocampus_ampl_1500_prop_075_1ms_artifact_removed_valid_times_track_time_only'}...\n"
     ]
    },
    {
     "data": {
      "application/vnd.jupyter.widget-view+json": {
       "model_id": "f687651c753e44edb45dd0fd24df9880",
       "version_major": 2,
       "version_minor": 0
      },
      "text/plain": [
       "detect peaks using locally_exclusive:   0%|          | 0/1723 [00:00<?, ?it/s]"
      ]
     },
     "metadata": {},
     "output_type": "display_data"
    },
    {
     "name": "stderr",
     "output_type": "stream",
     "text": [
      "[14:48:45][INFO] Spyglass: Saving sorting results...\n",
      "28-Mar-25 14:48:45 Saving sorting results...\n",
      "[14:48:47][INFO] Spyglass: Running spike sorting on {'nwb_file_name': 'molly20220419_.nwb', 'sort_group_id': 60, 'sort_interval_name': '03_Seq2Sleep2', 'preproc_params_name': 'franklab_tetrode_hippocampus', 'team_name': 'SequenceTask', 'sorter': 'clusterless_thresholder', 'sorter_params_name': 'default', 'artifact_removed_interval_list_name': 'molly20220419_.nwb_03_Seq2Sleep2_60_franklab_tetrode_hippocampus_ampl_1500_prop_075_1ms_artifact_removed_valid_times_track_time_only'}...\n",
      "28-Mar-25 14:48:47 Running spike sorting on {'nwb_file_name': 'molly20220419_.nwb', 'sort_group_id': 60, 'sort_interval_name': '03_Seq2Sleep2', 'preproc_params_name': 'franklab_tetrode_hippocampus', 'team_name': 'SequenceTask', 'sorter': 'clusterless_thresholder', 'sorter_params_name': 'default', 'artifact_removed_interval_list_name': 'molly20220419_.nwb_03_Seq2Sleep2_60_franklab_tetrode_hippocampus_ampl_1500_prop_075_1ms_artifact_removed_valid_times_track_time_only'}...\n"
     ]
    },
    {
     "data": {
      "application/vnd.jupyter.widget-view+json": {
       "model_id": "a03caa8ad24842d1b027bb01f36a9ed3",
       "version_major": 2,
       "version_minor": 0
      },
      "text/plain": [
       "detect peaks using locally_exclusive:   0%|          | 0/1723 [00:00<?, ?it/s]"
      ]
     },
     "metadata": {},
     "output_type": "display_data"
    },
    {
     "name": "stderr",
     "output_type": "stream",
     "text": [
      "[14:48:51][INFO] Spyglass: Saving sorting results...\n",
      "28-Mar-25 14:48:51 Saving sorting results...\n",
      "[14:48:53][INFO] Spyglass: Running spike sorting on {'nwb_file_name': 'molly20220419_.nwb', 'sort_group_id': 61, 'sort_interval_name': '03_Seq2Sleep2', 'preproc_params_name': 'franklab_tetrode_hippocampus', 'team_name': 'SequenceTask', 'sorter': 'clusterless_thresholder', 'sorter_params_name': 'default', 'artifact_removed_interval_list_name': 'molly20220419_.nwb_03_Seq2Sleep2_61_franklab_tetrode_hippocampus_ampl_1500_prop_075_1ms_artifact_removed_valid_times_track_time_only'}...\n",
      "28-Mar-25 14:48:53 Running spike sorting on {'nwb_file_name': 'molly20220419_.nwb', 'sort_group_id': 61, 'sort_interval_name': '03_Seq2Sleep2', 'preproc_params_name': 'franklab_tetrode_hippocampus', 'team_name': 'SequenceTask', 'sorter': 'clusterless_thresholder', 'sorter_params_name': 'default', 'artifact_removed_interval_list_name': 'molly20220419_.nwb_03_Seq2Sleep2_61_franklab_tetrode_hippocampus_ampl_1500_prop_075_1ms_artifact_removed_valid_times_track_time_only'}...\n"
     ]
    },
    {
     "data": {
      "application/vnd.jupyter.widget-view+json": {
       "model_id": "e560fe79219343aeaf371960da6e368b",
       "version_major": 2,
       "version_minor": 0
      },
      "text/plain": [
       "detect peaks using locally_exclusive:   0%|          | 0/1723 [00:00<?, ?it/s]"
      ]
     },
     "metadata": {},
     "output_type": "display_data"
    },
    {
     "name": "stderr",
     "output_type": "stream",
     "text": [
      "[14:48:56][INFO] Spyglass: Saving sorting results...\n",
      "28-Mar-25 14:48:56 Saving sorting results...\n",
      "[14:48:58][INFO] Spyglass: Running spike sorting on {'nwb_file_name': 'molly20220419_.nwb', 'sort_group_id': 6, 'sort_interval_name': '03_Seq2Sleep2', 'preproc_params_name': 'franklab_tetrode_hippocampus', 'team_name': 'SequenceTask', 'sorter': 'clusterless_thresholder', 'sorter_params_name': 'default', 'artifact_removed_interval_list_name': 'molly20220419_.nwb_03_Seq2Sleep2_6_franklab_tetrode_hippocampus_ampl_1500_prop_075_1ms_artifact_removed_valid_times_track_time_only'}...\n",
      "28-Mar-25 14:48:58 Running spike sorting on {'nwb_file_name': 'molly20220419_.nwb', 'sort_group_id': 6, 'sort_interval_name': '03_Seq2Sleep2', 'preproc_params_name': 'franklab_tetrode_hippocampus', 'team_name': 'SequenceTask', 'sorter': 'clusterless_thresholder', 'sorter_params_name': 'default', 'artifact_removed_interval_list_name': 'molly20220419_.nwb_03_Seq2Sleep2_6_franklab_tetrode_hippocampus_ampl_1500_prop_075_1ms_artifact_removed_valid_times_track_time_only'}...\n"
     ]
    },
    {
     "data": {
      "application/vnd.jupyter.widget-view+json": {
       "model_id": "2efb7fa74a6a4fbab3484b1e0decb3e7",
       "version_major": 2,
       "version_minor": 0
      },
      "text/plain": [
       "detect peaks using locally_exclusive:   0%|          | 0/1723 [00:00<?, ?it/s]"
      ]
     },
     "metadata": {},
     "output_type": "display_data"
    },
    {
     "name": "stderr",
     "output_type": "stream",
     "text": [
      "[14:49:01][INFO] Spyglass: Saving sorting results...\n",
      "28-Mar-25 14:49:01 Saving sorting results...\n",
      "[14:49:03][INFO] Spyglass: Running spike sorting on {'nwb_file_name': 'molly20220419_.nwb', 'sort_group_id': 7, 'sort_interval_name': '03_Seq2Sleep2', 'preproc_params_name': 'franklab_tetrode_hippocampus', 'team_name': 'SequenceTask', 'sorter': 'clusterless_thresholder', 'sorter_params_name': 'default', 'artifact_removed_interval_list_name': 'molly20220419_.nwb_03_Seq2Sleep2_7_franklab_tetrode_hippocampus_ampl_1500_prop_075_1ms_artifact_removed_valid_times_track_time_only'}...\n",
      "28-Mar-25 14:49:03 Running spike sorting on {'nwb_file_name': 'molly20220419_.nwb', 'sort_group_id': 7, 'sort_interval_name': '03_Seq2Sleep2', 'preproc_params_name': 'franklab_tetrode_hippocampus', 'team_name': 'SequenceTask', 'sorter': 'clusterless_thresholder', 'sorter_params_name': 'default', 'artifact_removed_interval_list_name': 'molly20220419_.nwb_03_Seq2Sleep2_7_franklab_tetrode_hippocampus_ampl_1500_prop_075_1ms_artifact_removed_valid_times_track_time_only'}...\n"
     ]
    },
    {
     "data": {
      "application/vnd.jupyter.widget-view+json": {
       "model_id": "abb74b32592e4b8b958127818142b83f",
       "version_major": 2,
       "version_minor": 0
      },
      "text/plain": [
       "detect peaks using locally_exclusive:   0%|          | 0/1723 [00:00<?, ?it/s]"
      ]
     },
     "metadata": {},
     "output_type": "display_data"
    },
    {
     "name": "stderr",
     "output_type": "stream",
     "text": [
      "[14:49:07][INFO] Spyglass: Saving sorting results...\n",
      "28-Mar-25 14:49:07 Saving sorting results...\n",
      "[14:49:09][INFO] Spyglass: Running spike sorting on {'nwb_file_name': 'molly20220419_.nwb', 'sort_group_id': 9, 'sort_interval_name': '03_Seq2Sleep2', 'preproc_params_name': 'franklab_tetrode_hippocampus', 'team_name': 'SequenceTask', 'sorter': 'clusterless_thresholder', 'sorter_params_name': 'default', 'artifact_removed_interval_list_name': 'molly20220419_.nwb_03_Seq2Sleep2_9_franklab_tetrode_hippocampus_ampl_1500_prop_075_1ms_artifact_removed_valid_times_track_time_only'}...\n",
      "28-Mar-25 14:49:09 Running spike sorting on {'nwb_file_name': 'molly20220419_.nwb', 'sort_group_id': 9, 'sort_interval_name': '03_Seq2Sleep2', 'preproc_params_name': 'franklab_tetrode_hippocampus', 'team_name': 'SequenceTask', 'sorter': 'clusterless_thresholder', 'sorter_params_name': 'default', 'artifact_removed_interval_list_name': 'molly20220419_.nwb_03_Seq2Sleep2_9_franklab_tetrode_hippocampus_ampl_1500_prop_075_1ms_artifact_removed_valid_times_track_time_only'}...\n"
     ]
    },
    {
     "data": {
      "application/vnd.jupyter.widget-view+json": {
       "model_id": "def74be7d74140eab319dfbe59076782",
       "version_major": 2,
       "version_minor": 0
      },
      "text/plain": [
       "detect peaks using locally_exclusive:   0%|          | 0/1723 [00:00<?, ?it/s]"
      ]
     },
     "metadata": {},
     "output_type": "display_data"
    },
    {
     "name": "stderr",
     "output_type": "stream",
     "text": [
      "[14:49:12][INFO] Spyglass: Saving sorting results...\n",
      "28-Mar-25 14:49:12 Saving sorting results...\n"
     ]
    },
    {
     "name": "stdout",
     "output_type": "stream",
     "text": [
      "0\n",
      "inserting into IntervalList\n",
      "done inserting into IntervalList\n",
      "2\n",
      "inserting into IntervalList\n",
      "done inserting into IntervalList\n",
      "3\n",
      "inserting into IntervalList\n",
      "done inserting into IntervalList\n",
      "6\n",
      "inserting into IntervalList\n",
      "done inserting into IntervalList\n",
      "7\n",
      "inserting into IntervalList\n",
      "done inserting into IntervalList\n",
      "9\n",
      "inserting into IntervalList\n",
      "done inserting into IntervalList\n",
      "10\n",
      "inserting into IntervalList\n",
      "done inserting into IntervalList\n",
      "12\n",
      "inserting into IntervalList\n",
      "done inserting into IntervalList\n",
      "15\n",
      "inserting into IntervalList\n",
      "done inserting into IntervalList\n",
      "17\n",
      "inserting into IntervalList\n",
      "done inserting into IntervalList\n",
      "18\n",
      "inserting into IntervalList\n",
      "done inserting into IntervalList\n",
      "24\n",
      "inserting into IntervalList\n",
      "done inserting into IntervalList\n",
      "25\n",
      "inserting into IntervalList\n",
      "done inserting into IntervalList\n",
      "27\n",
      "inserting into IntervalList\n",
      "done inserting into IntervalList\n",
      "34\n",
      "inserting into IntervalList\n",
      "done inserting into IntervalList\n",
      "37\n",
      "inserting into IntervalList\n",
      "done inserting into IntervalList\n",
      "39\n",
      "inserting into IntervalList\n",
      "done inserting into IntervalList\n",
      "40\n",
      "inserting into IntervalList\n",
      "done inserting into IntervalList\n",
      "41\n",
      "inserting into IntervalList\n",
      "done inserting into IntervalList\n",
      "46\n",
      "inserting into IntervalList\n",
      "done inserting into IntervalList\n",
      "50\n",
      "inserting into IntervalList\n",
      "done inserting into IntervalList\n",
      "52\n",
      "inserting into IntervalList\n",
      "done inserting into IntervalList\n",
      "53\n",
      "inserting into IntervalList\n",
      "done inserting into IntervalList\n",
      "60\n",
      "inserting into IntervalList\n",
      "done inserting into IntervalList\n",
      "61\n",
      "inserting into IntervalList\n",
      "done inserting into IntervalList\n"
     ]
    },
    {
     "name": "stderr",
     "output_type": "stream",
     "text": [
      "[14:49:15][INFO] Spyglass: Running spike sorting on {'nwb_file_name': 'molly20220419_.nwb', 'sort_group_id': 0, 'sort_interval_name': '05_Seq2Sleep3', 'preproc_params_name': 'franklab_tetrode_hippocampus', 'team_name': 'SequenceTask', 'sorter': 'clusterless_thresholder', 'sorter_params_name': 'default', 'artifact_removed_interval_list_name': 'molly20220419_.nwb_05_Seq2Sleep3_0_franklab_tetrode_hippocampus_ampl_1500_prop_075_1ms_artifact_removed_valid_times_track_time_only'}...\n",
      "28-Mar-25 14:49:15 Running spike sorting on {'nwb_file_name': 'molly20220419_.nwb', 'sort_group_id': 0, 'sort_interval_name': '05_Seq2Sleep3', 'preproc_params_name': 'franklab_tetrode_hippocampus', 'team_name': 'SequenceTask', 'sorter': 'clusterless_thresholder', 'sorter_params_name': 'default', 'artifact_removed_interval_list_name': 'molly20220419_.nwb_05_Seq2Sleep3_0_franklab_tetrode_hippocampus_ampl_1500_prop_075_1ms_artifact_removed_valid_times_track_time_only'}...\n"
     ]
    },
    {
     "data": {
      "application/vnd.jupyter.widget-view+json": {
       "model_id": "2a46ca4fffe447469fcb297e124403c4",
       "version_major": 2,
       "version_minor": 0
      },
      "text/plain": [
       "detect peaks using locally_exclusive:   0%|          | 0/1960 [00:00<?, ?it/s]"
      ]
     },
     "metadata": {},
     "output_type": "display_data"
    },
    {
     "name": "stderr",
     "output_type": "stream",
     "text": [
      "[14:49:18][INFO] Spyglass: Saving sorting results...\n",
      "28-Mar-25 14:49:18 Saving sorting results...\n",
      "[14:49:20][INFO] Spyglass: Running spike sorting on {'nwb_file_name': 'molly20220419_.nwb', 'sort_group_id': 10, 'sort_interval_name': '05_Seq2Sleep3', 'preproc_params_name': 'franklab_tetrode_hippocampus', 'team_name': 'SequenceTask', 'sorter': 'clusterless_thresholder', 'sorter_params_name': 'default', 'artifact_removed_interval_list_name': 'molly20220419_.nwb_05_Seq2Sleep3_10_franklab_tetrode_hippocampus_ampl_1500_prop_075_1ms_artifact_removed_valid_times_track_time_only'}...\n",
      "28-Mar-25 14:49:20 Running spike sorting on {'nwb_file_name': 'molly20220419_.nwb', 'sort_group_id': 10, 'sort_interval_name': '05_Seq2Sleep3', 'preproc_params_name': 'franklab_tetrode_hippocampus', 'team_name': 'SequenceTask', 'sorter': 'clusterless_thresholder', 'sorter_params_name': 'default', 'artifact_removed_interval_list_name': 'molly20220419_.nwb_05_Seq2Sleep3_10_franklab_tetrode_hippocampus_ampl_1500_prop_075_1ms_artifact_removed_valid_times_track_time_only'}...\n"
     ]
    },
    {
     "data": {
      "application/vnd.jupyter.widget-view+json": {
       "model_id": "70abe148c48f45a985ee34b38ba343c8",
       "version_major": 2,
       "version_minor": 0
      },
      "text/plain": [
       "detect peaks using locally_exclusive:   0%|          | 0/1960 [00:00<?, ?it/s]"
      ]
     },
     "metadata": {},
     "output_type": "display_data"
    },
    {
     "name": "stderr",
     "output_type": "stream",
     "text": [
      "[14:49:24][INFO] Spyglass: Saving sorting results...\n",
      "28-Mar-25 14:49:24 Saving sorting results...\n",
      "[14:49:30][INFO] Spyglass: Running spike sorting on {'nwb_file_name': 'molly20220419_.nwb', 'sort_group_id': 12, 'sort_interval_name': '05_Seq2Sleep3', 'preproc_params_name': 'franklab_tetrode_hippocampus', 'team_name': 'SequenceTask', 'sorter': 'clusterless_thresholder', 'sorter_params_name': 'default', 'artifact_removed_interval_list_name': 'molly20220419_.nwb_05_Seq2Sleep3_12_franklab_tetrode_hippocampus_ampl_1500_prop_075_1ms_artifact_removed_valid_times_track_time_only'}...\n",
      "28-Mar-25 14:49:30 Running spike sorting on {'nwb_file_name': 'molly20220419_.nwb', 'sort_group_id': 12, 'sort_interval_name': '05_Seq2Sleep3', 'preproc_params_name': 'franklab_tetrode_hippocampus', 'team_name': 'SequenceTask', 'sorter': 'clusterless_thresholder', 'sorter_params_name': 'default', 'artifact_removed_interval_list_name': 'molly20220419_.nwb_05_Seq2Sleep3_12_franklab_tetrode_hippocampus_ampl_1500_prop_075_1ms_artifact_removed_valid_times_track_time_only'}...\n"
     ]
    },
    {
     "data": {
      "application/vnd.jupyter.widget-view+json": {
       "model_id": "19757ec8cc5842b9ae8e49e2565a25bf",
       "version_major": 2,
       "version_minor": 0
      },
      "text/plain": [
       "detect peaks using locally_exclusive:   0%|          | 0/1960 [00:00<?, ?it/s]"
      ]
     },
     "metadata": {},
     "output_type": "display_data"
    },
    {
     "name": "stderr",
     "output_type": "stream",
     "text": [
      "[14:49:34][INFO] Spyglass: Saving sorting results...\n",
      "28-Mar-25 14:49:34 Saving sorting results...\n",
      "[14:49:39][INFO] Spyglass: Running spike sorting on {'nwb_file_name': 'molly20220419_.nwb', 'sort_group_id': 15, 'sort_interval_name': '05_Seq2Sleep3', 'preproc_params_name': 'franklab_tetrode_hippocampus', 'team_name': 'SequenceTask', 'sorter': 'clusterless_thresholder', 'sorter_params_name': 'default', 'artifact_removed_interval_list_name': 'molly20220419_.nwb_05_Seq2Sleep3_15_franklab_tetrode_hippocampus_ampl_1500_prop_075_1ms_artifact_removed_valid_times_track_time_only'}...\n",
      "28-Mar-25 14:49:39 Running spike sorting on {'nwb_file_name': 'molly20220419_.nwb', 'sort_group_id': 15, 'sort_interval_name': '05_Seq2Sleep3', 'preproc_params_name': 'franklab_tetrode_hippocampus', 'team_name': 'SequenceTask', 'sorter': 'clusterless_thresholder', 'sorter_params_name': 'default', 'artifact_removed_interval_list_name': 'molly20220419_.nwb_05_Seq2Sleep3_15_franklab_tetrode_hippocampus_ampl_1500_prop_075_1ms_artifact_removed_valid_times_track_time_only'}...\n"
     ]
    },
    {
     "data": {
      "application/vnd.jupyter.widget-view+json": {
       "model_id": "7dd3649923904c06a755fbce07b3e58c",
       "version_major": 2,
       "version_minor": 0
      },
      "text/plain": [
       "detect peaks using locally_exclusive:   0%|          | 0/1960 [00:00<?, ?it/s]"
      ]
     },
     "metadata": {},
     "output_type": "display_data"
    },
    {
     "name": "stderr",
     "output_type": "stream",
     "text": [
      "[14:49:42][INFO] Spyglass: Saving sorting results...\n",
      "28-Mar-25 14:49:42 Saving sorting results...\n",
      "[14:49:48][INFO] Spyglass: Running spike sorting on {'nwb_file_name': 'molly20220419_.nwb', 'sort_group_id': 17, 'sort_interval_name': '05_Seq2Sleep3', 'preproc_params_name': 'franklab_tetrode_hippocampus', 'team_name': 'SequenceTask', 'sorter': 'clusterless_thresholder', 'sorter_params_name': 'default', 'artifact_removed_interval_list_name': 'molly20220419_.nwb_05_Seq2Sleep3_17_franklab_tetrode_hippocampus_ampl_1500_prop_075_1ms_artifact_removed_valid_times_track_time_only'}...\n",
      "28-Mar-25 14:49:48 Running spike sorting on {'nwb_file_name': 'molly20220419_.nwb', 'sort_group_id': 17, 'sort_interval_name': '05_Seq2Sleep3', 'preproc_params_name': 'franklab_tetrode_hippocampus', 'team_name': 'SequenceTask', 'sorter': 'clusterless_thresholder', 'sorter_params_name': 'default', 'artifact_removed_interval_list_name': 'molly20220419_.nwb_05_Seq2Sleep3_17_franklab_tetrode_hippocampus_ampl_1500_prop_075_1ms_artifact_removed_valid_times_track_time_only'}...\n"
     ]
    },
    {
     "data": {
      "application/vnd.jupyter.widget-view+json": {
       "model_id": "a2e451f6c2ac483a93253ccdfb581089",
       "version_major": 2,
       "version_minor": 0
      },
      "text/plain": [
       "detect peaks using locally_exclusive:   0%|          | 0/1960 [00:00<?, ?it/s]"
      ]
     },
     "metadata": {},
     "output_type": "display_data"
    },
    {
     "name": "stderr",
     "output_type": "stream",
     "text": [
      "[14:49:51][INFO] Spyglass: Saving sorting results...\n",
      "28-Mar-25 14:49:51 Saving sorting results...\n",
      "[14:49:53][INFO] Spyglass: Running spike sorting on {'nwb_file_name': 'molly20220419_.nwb', 'sort_group_id': 18, 'sort_interval_name': '05_Seq2Sleep3', 'preproc_params_name': 'franklab_tetrode_hippocampus', 'team_name': 'SequenceTask', 'sorter': 'clusterless_thresholder', 'sorter_params_name': 'default', 'artifact_removed_interval_list_name': 'molly20220419_.nwb_05_Seq2Sleep3_18_franklab_tetrode_hippocampus_ampl_1500_prop_075_1ms_artifact_removed_valid_times_track_time_only'}...\n",
      "28-Mar-25 14:49:53 Running spike sorting on {'nwb_file_name': 'molly20220419_.nwb', 'sort_group_id': 18, 'sort_interval_name': '05_Seq2Sleep3', 'preproc_params_name': 'franklab_tetrode_hippocampus', 'team_name': 'SequenceTask', 'sorter': 'clusterless_thresholder', 'sorter_params_name': 'default', 'artifact_removed_interval_list_name': 'molly20220419_.nwb_05_Seq2Sleep3_18_franklab_tetrode_hippocampus_ampl_1500_prop_075_1ms_artifact_removed_valid_times_track_time_only'}...\n"
     ]
    },
    {
     "data": {
      "application/vnd.jupyter.widget-view+json": {
       "model_id": "2165d0460b3c49268a69562d870b102d",
       "version_major": 2,
       "version_minor": 0
      },
      "text/plain": [
       "detect peaks using locally_exclusive:   0%|          | 0/1960 [00:00<?, ?it/s]"
      ]
     },
     "metadata": {},
     "output_type": "display_data"
    },
    {
     "name": "stderr",
     "output_type": "stream",
     "text": [
      "[14:49:58][INFO] Spyglass: Saving sorting results...\n",
      "28-Mar-25 14:49:58 Saving sorting results...\n",
      "[14:50:01][INFO] Spyglass: Running spike sorting on {'nwb_file_name': 'molly20220419_.nwb', 'sort_group_id': 24, 'sort_interval_name': '05_Seq2Sleep3', 'preproc_params_name': 'franklab_tetrode_hippocampus', 'team_name': 'SequenceTask', 'sorter': 'clusterless_thresholder', 'sorter_params_name': 'default', 'artifact_removed_interval_list_name': 'molly20220419_.nwb_05_Seq2Sleep3_24_franklab_tetrode_hippocampus_ampl_1500_prop_075_1ms_artifact_removed_valid_times_track_time_only'}...\n",
      "28-Mar-25 14:50:01 Running spike sorting on {'nwb_file_name': 'molly20220419_.nwb', 'sort_group_id': 24, 'sort_interval_name': '05_Seq2Sleep3', 'preproc_params_name': 'franklab_tetrode_hippocampus', 'team_name': 'SequenceTask', 'sorter': 'clusterless_thresholder', 'sorter_params_name': 'default', 'artifact_removed_interval_list_name': 'molly20220419_.nwb_05_Seq2Sleep3_24_franklab_tetrode_hippocampus_ampl_1500_prop_075_1ms_artifact_removed_valid_times_track_time_only'}...\n"
     ]
    },
    {
     "data": {
      "application/vnd.jupyter.widget-view+json": {
       "model_id": "6455d41ffa484343aefaa93fd980f455",
       "version_major": 2,
       "version_minor": 0
      },
      "text/plain": [
       "detect peaks using locally_exclusive:   0%|          | 0/1960 [00:00<?, ?it/s]"
      ]
     },
     "metadata": {},
     "output_type": "display_data"
    },
    {
     "name": "stderr",
     "output_type": "stream",
     "text": [
      "[14:50:05][INFO] Spyglass: Saving sorting results...\n",
      "28-Mar-25 14:50:05 Saving sorting results...\n",
      "[14:50:07][INFO] Spyglass: Running spike sorting on {'nwb_file_name': 'molly20220419_.nwb', 'sort_group_id': 25, 'sort_interval_name': '05_Seq2Sleep3', 'preproc_params_name': 'franklab_tetrode_hippocampus', 'team_name': 'SequenceTask', 'sorter': 'clusterless_thresholder', 'sorter_params_name': 'default', 'artifact_removed_interval_list_name': 'molly20220419_.nwb_05_Seq2Sleep3_25_franklab_tetrode_hippocampus_ampl_1500_prop_075_1ms_artifact_removed_valid_times_track_time_only'}...\n",
      "28-Mar-25 14:50:07 Running spike sorting on {'nwb_file_name': 'molly20220419_.nwb', 'sort_group_id': 25, 'sort_interval_name': '05_Seq2Sleep3', 'preproc_params_name': 'franklab_tetrode_hippocampus', 'team_name': 'SequenceTask', 'sorter': 'clusterless_thresholder', 'sorter_params_name': 'default', 'artifact_removed_interval_list_name': 'molly20220419_.nwb_05_Seq2Sleep3_25_franklab_tetrode_hippocampus_ampl_1500_prop_075_1ms_artifact_removed_valid_times_track_time_only'}...\n"
     ]
    },
    {
     "data": {
      "application/vnd.jupyter.widget-view+json": {
       "model_id": "cb19a9d420d24a91b7785561f8bee691",
       "version_major": 2,
       "version_minor": 0
      },
      "text/plain": [
       "detect peaks using locally_exclusive:   0%|          | 0/1960 [00:00<?, ?it/s]"
      ]
     },
     "metadata": {},
     "output_type": "display_data"
    },
    {
     "name": "stderr",
     "output_type": "stream",
     "text": [
      "[14:50:11][INFO] Spyglass: Saving sorting results...\n",
      "28-Mar-25 14:50:11 Saving sorting results...\n",
      "[14:50:14][INFO] Spyglass: Running spike sorting on {'nwb_file_name': 'molly20220419_.nwb', 'sort_group_id': 27, 'sort_interval_name': '05_Seq2Sleep3', 'preproc_params_name': 'franklab_tetrode_hippocampus', 'team_name': 'SequenceTask', 'sorter': 'clusterless_thresholder', 'sorter_params_name': 'default', 'artifact_removed_interval_list_name': 'molly20220419_.nwb_05_Seq2Sleep3_27_franklab_tetrode_hippocampus_ampl_1500_prop_075_1ms_artifact_removed_valid_times_track_time_only'}...\n",
      "28-Mar-25 14:50:14 Running spike sorting on {'nwb_file_name': 'molly20220419_.nwb', 'sort_group_id': 27, 'sort_interval_name': '05_Seq2Sleep3', 'preproc_params_name': 'franklab_tetrode_hippocampus', 'team_name': 'SequenceTask', 'sorter': 'clusterless_thresholder', 'sorter_params_name': 'default', 'artifact_removed_interval_list_name': 'molly20220419_.nwb_05_Seq2Sleep3_27_franklab_tetrode_hippocampus_ampl_1500_prop_075_1ms_artifact_removed_valid_times_track_time_only'}...\n"
     ]
    },
    {
     "data": {
      "application/vnd.jupyter.widget-view+json": {
       "model_id": "ba70e3e8fac04feaa7528c62cfc751da",
       "version_major": 2,
       "version_minor": 0
      },
      "text/plain": [
       "detect peaks using locally_exclusive:   0%|          | 0/1960 [00:00<?, ?it/s]"
      ]
     },
     "metadata": {},
     "output_type": "display_data"
    },
    {
     "name": "stderr",
     "output_type": "stream",
     "text": [
      "[14:50:17][INFO] Spyglass: Saving sorting results...\n",
      "28-Mar-25 14:50:17 Saving sorting results...\n",
      "[14:50:19][INFO] Spyglass: Running spike sorting on {'nwb_file_name': 'molly20220419_.nwb', 'sort_group_id': 2, 'sort_interval_name': '05_Seq2Sleep3', 'preproc_params_name': 'franklab_tetrode_hippocampus', 'team_name': 'SequenceTask', 'sorter': 'clusterless_thresholder', 'sorter_params_name': 'default', 'artifact_removed_interval_list_name': 'molly20220419_.nwb_05_Seq2Sleep3_2_franklab_tetrode_hippocampus_ampl_1500_prop_075_1ms_artifact_removed_valid_times_track_time_only'}...\n",
      "28-Mar-25 14:50:19 Running spike sorting on {'nwb_file_name': 'molly20220419_.nwb', 'sort_group_id': 2, 'sort_interval_name': '05_Seq2Sleep3', 'preproc_params_name': 'franklab_tetrode_hippocampus', 'team_name': 'SequenceTask', 'sorter': 'clusterless_thresholder', 'sorter_params_name': 'default', 'artifact_removed_interval_list_name': 'molly20220419_.nwb_05_Seq2Sleep3_2_franklab_tetrode_hippocampus_ampl_1500_prop_075_1ms_artifact_removed_valid_times_track_time_only'}...\n"
     ]
    },
    {
     "data": {
      "application/vnd.jupyter.widget-view+json": {
       "model_id": "8f29a4b7aba64339a36318028c1b61fe",
       "version_major": 2,
       "version_minor": 0
      },
      "text/plain": [
       "detect peaks using locally_exclusive:   0%|          | 0/1960 [00:00<?, ?it/s]"
      ]
     },
     "metadata": {},
     "output_type": "display_data"
    },
    {
     "name": "stderr",
     "output_type": "stream",
     "text": [
      "[14:50:23][INFO] Spyglass: Saving sorting results...\n",
      "28-Mar-25 14:50:23 Saving sorting results...\n",
      "[14:50:26][INFO] Spyglass: Running spike sorting on {'nwb_file_name': 'molly20220419_.nwb', 'sort_group_id': 34, 'sort_interval_name': '05_Seq2Sleep3', 'preproc_params_name': 'franklab_tetrode_hippocampus', 'team_name': 'SequenceTask', 'sorter': 'clusterless_thresholder', 'sorter_params_name': 'default', 'artifact_removed_interval_list_name': 'molly20220419_.nwb_05_Seq2Sleep3_34_franklab_tetrode_hippocampus_ampl_1500_prop_075_1ms_artifact_removed_valid_times_track_time_only'}...\n",
      "28-Mar-25 14:50:26 Running spike sorting on {'nwb_file_name': 'molly20220419_.nwb', 'sort_group_id': 34, 'sort_interval_name': '05_Seq2Sleep3', 'preproc_params_name': 'franklab_tetrode_hippocampus', 'team_name': 'SequenceTask', 'sorter': 'clusterless_thresholder', 'sorter_params_name': 'default', 'artifact_removed_interval_list_name': 'molly20220419_.nwb_05_Seq2Sleep3_34_franklab_tetrode_hippocampus_ampl_1500_prop_075_1ms_artifact_removed_valid_times_track_time_only'}...\n"
     ]
    },
    {
     "data": {
      "application/vnd.jupyter.widget-view+json": {
       "model_id": "e38039e7491e43f6b838e15fb80c40af",
       "version_major": 2,
       "version_minor": 0
      },
      "text/plain": [
       "detect peaks using locally_exclusive:   0%|          | 0/1960 [00:00<?, ?it/s]"
      ]
     },
     "metadata": {},
     "output_type": "display_data"
    },
    {
     "name": "stderr",
     "output_type": "stream",
     "text": [
      "[14:50:30][INFO] Spyglass: Saving sorting results...\n",
      "28-Mar-25 14:50:30 Saving sorting results...\n",
      "[14:50:33][INFO] Spyglass: Running spike sorting on {'nwb_file_name': 'molly20220419_.nwb', 'sort_group_id': 37, 'sort_interval_name': '05_Seq2Sleep3', 'preproc_params_name': 'franklab_tetrode_hippocampus', 'team_name': 'SequenceTask', 'sorter': 'clusterless_thresholder', 'sorter_params_name': 'default', 'artifact_removed_interval_list_name': 'molly20220419_.nwb_05_Seq2Sleep3_37_franklab_tetrode_hippocampus_ampl_1500_prop_075_1ms_artifact_removed_valid_times_track_time_only'}...\n",
      "28-Mar-25 14:50:33 Running spike sorting on {'nwb_file_name': 'molly20220419_.nwb', 'sort_group_id': 37, 'sort_interval_name': '05_Seq2Sleep3', 'preproc_params_name': 'franklab_tetrode_hippocampus', 'team_name': 'SequenceTask', 'sorter': 'clusterless_thresholder', 'sorter_params_name': 'default', 'artifact_removed_interval_list_name': 'molly20220419_.nwb_05_Seq2Sleep3_37_franklab_tetrode_hippocampus_ampl_1500_prop_075_1ms_artifact_removed_valid_times_track_time_only'}...\n"
     ]
    },
    {
     "data": {
      "application/vnd.jupyter.widget-view+json": {
       "model_id": "094eb9c6b23c445385b093fe75a9ed38",
       "version_major": 2,
       "version_minor": 0
      },
      "text/plain": [
       "detect peaks using locally_exclusive:   0%|          | 0/1960 [00:00<?, ?it/s]"
      ]
     },
     "metadata": {},
     "output_type": "display_data"
    },
    {
     "name": "stderr",
     "output_type": "stream",
     "text": [
      "[14:50:37][INFO] Spyglass: Saving sorting results...\n",
      "28-Mar-25 14:50:37 Saving sorting results...\n",
      "[14:50:40][INFO] Spyglass: Running spike sorting on {'nwb_file_name': 'molly20220419_.nwb', 'sort_group_id': 39, 'sort_interval_name': '05_Seq2Sleep3', 'preproc_params_name': 'franklab_tetrode_hippocampus', 'team_name': 'SequenceTask', 'sorter': 'clusterless_thresholder', 'sorter_params_name': 'default', 'artifact_removed_interval_list_name': 'molly20220419_.nwb_05_Seq2Sleep3_39_franklab_tetrode_hippocampus_ampl_1500_prop_075_1ms_artifact_removed_valid_times_track_time_only'}...\n",
      "28-Mar-25 14:50:40 Running spike sorting on {'nwb_file_name': 'molly20220419_.nwb', 'sort_group_id': 39, 'sort_interval_name': '05_Seq2Sleep3', 'preproc_params_name': 'franklab_tetrode_hippocampus', 'team_name': 'SequenceTask', 'sorter': 'clusterless_thresholder', 'sorter_params_name': 'default', 'artifact_removed_interval_list_name': 'molly20220419_.nwb_05_Seq2Sleep3_39_franklab_tetrode_hippocampus_ampl_1500_prop_075_1ms_artifact_removed_valid_times_track_time_only'}...\n"
     ]
    },
    {
     "data": {
      "application/vnd.jupyter.widget-view+json": {
       "model_id": "afe6a15607514b72b2acbef07640cee9",
       "version_major": 2,
       "version_minor": 0
      },
      "text/plain": [
       "detect peaks using locally_exclusive:   0%|          | 0/1960 [00:00<?, ?it/s]"
      ]
     },
     "metadata": {},
     "output_type": "display_data"
    },
    {
     "name": "stderr",
     "output_type": "stream",
     "text": [
      "[14:50:44][INFO] Spyglass: Saving sorting results...\n",
      "28-Mar-25 14:50:44 Saving sorting results...\n",
      "[14:50:47][INFO] Spyglass: Running spike sorting on {'nwb_file_name': 'molly20220419_.nwb', 'sort_group_id': 3, 'sort_interval_name': '05_Seq2Sleep3', 'preproc_params_name': 'franklab_tetrode_hippocampus', 'team_name': 'SequenceTask', 'sorter': 'clusterless_thresholder', 'sorter_params_name': 'default', 'artifact_removed_interval_list_name': 'molly20220419_.nwb_05_Seq2Sleep3_3_franklab_tetrode_hippocampus_ampl_1500_prop_075_1ms_artifact_removed_valid_times_track_time_only'}...\n",
      "28-Mar-25 14:50:47 Running spike sorting on {'nwb_file_name': 'molly20220419_.nwb', 'sort_group_id': 3, 'sort_interval_name': '05_Seq2Sleep3', 'preproc_params_name': 'franklab_tetrode_hippocampus', 'team_name': 'SequenceTask', 'sorter': 'clusterless_thresholder', 'sorter_params_name': 'default', 'artifact_removed_interval_list_name': 'molly20220419_.nwb_05_Seq2Sleep3_3_franklab_tetrode_hippocampus_ampl_1500_prop_075_1ms_artifact_removed_valid_times_track_time_only'}...\n"
     ]
    },
    {
     "data": {
      "application/vnd.jupyter.widget-view+json": {
       "model_id": "b521c78cf9784964b0d900d7d31c9c53",
       "version_major": 2,
       "version_minor": 0
      },
      "text/plain": [
       "detect peaks using locally_exclusive:   0%|          | 0/1960 [00:00<?, ?it/s]"
      ]
     },
     "metadata": {},
     "output_type": "display_data"
    },
    {
     "name": "stderr",
     "output_type": "stream",
     "text": [
      "[14:50:51][INFO] Spyglass: Saving sorting results...\n",
      "28-Mar-25 14:50:51 Saving sorting results...\n",
      "[14:50:55][INFO] Spyglass: Running spike sorting on {'nwb_file_name': 'molly20220419_.nwb', 'sort_group_id': 40, 'sort_interval_name': '05_Seq2Sleep3', 'preproc_params_name': 'franklab_tetrode_hippocampus', 'team_name': 'SequenceTask', 'sorter': 'clusterless_thresholder', 'sorter_params_name': 'default', 'artifact_removed_interval_list_name': 'molly20220419_.nwb_05_Seq2Sleep3_40_franklab_tetrode_hippocampus_ampl_1500_prop_075_1ms_artifact_removed_valid_times_track_time_only'}...\n",
      "28-Mar-25 14:50:55 Running spike sorting on {'nwb_file_name': 'molly20220419_.nwb', 'sort_group_id': 40, 'sort_interval_name': '05_Seq2Sleep3', 'preproc_params_name': 'franklab_tetrode_hippocampus', 'team_name': 'SequenceTask', 'sorter': 'clusterless_thresholder', 'sorter_params_name': 'default', 'artifact_removed_interval_list_name': 'molly20220419_.nwb_05_Seq2Sleep3_40_franklab_tetrode_hippocampus_ampl_1500_prop_075_1ms_artifact_removed_valid_times_track_time_only'}...\n"
     ]
    },
    {
     "data": {
      "application/vnd.jupyter.widget-view+json": {
       "model_id": "3755c8fbdd8048f28d1d1958eb4a5067",
       "version_major": 2,
       "version_minor": 0
      },
      "text/plain": [
       "detect peaks using locally_exclusive:   0%|          | 0/1960 [00:00<?, ?it/s]"
      ]
     },
     "metadata": {},
     "output_type": "display_data"
    },
    {
     "name": "stderr",
     "output_type": "stream",
     "text": [
      "[14:51:00][INFO] Spyglass: Saving sorting results...\n",
      "28-Mar-25 14:51:00 Saving sorting results...\n",
      "[14:51:04][INFO] Spyglass: Running spike sorting on {'nwb_file_name': 'molly20220419_.nwb', 'sort_group_id': 41, 'sort_interval_name': '05_Seq2Sleep3', 'preproc_params_name': 'franklab_tetrode_hippocampus', 'team_name': 'SequenceTask', 'sorter': 'clusterless_thresholder', 'sorter_params_name': 'default', 'artifact_removed_interval_list_name': 'molly20220419_.nwb_05_Seq2Sleep3_41_franklab_tetrode_hippocampus_ampl_1500_prop_075_1ms_artifact_removed_valid_times_track_time_only'}...\n",
      "28-Mar-25 14:51:04 Running spike sorting on {'nwb_file_name': 'molly20220419_.nwb', 'sort_group_id': 41, 'sort_interval_name': '05_Seq2Sleep3', 'preproc_params_name': 'franklab_tetrode_hippocampus', 'team_name': 'SequenceTask', 'sorter': 'clusterless_thresholder', 'sorter_params_name': 'default', 'artifact_removed_interval_list_name': 'molly20220419_.nwb_05_Seq2Sleep3_41_franklab_tetrode_hippocampus_ampl_1500_prop_075_1ms_artifact_removed_valid_times_track_time_only'}...\n"
     ]
    },
    {
     "data": {
      "application/vnd.jupyter.widget-view+json": {
       "model_id": "482f03ad7c894859b84cd4a21d6e5b92",
       "version_major": 2,
       "version_minor": 0
      },
      "text/plain": [
       "detect peaks using locally_exclusive:   0%|          | 0/1960 [00:00<?, ?it/s]"
      ]
     },
     "metadata": {},
     "output_type": "display_data"
    },
    {
     "name": "stderr",
     "output_type": "stream",
     "text": [
      "[14:51:08][INFO] Spyglass: Saving sorting results...\n",
      "28-Mar-25 14:51:08 Saving sorting results...\n",
      "[14:51:13][INFO] Spyglass: Running spike sorting on {'nwb_file_name': 'molly20220419_.nwb', 'sort_group_id': 46, 'sort_interval_name': '05_Seq2Sleep3', 'preproc_params_name': 'franklab_tetrode_hippocampus', 'team_name': 'SequenceTask', 'sorter': 'clusterless_thresholder', 'sorter_params_name': 'default', 'artifact_removed_interval_list_name': 'molly20220419_.nwb_05_Seq2Sleep3_46_franklab_tetrode_hippocampus_ampl_1500_prop_075_1ms_artifact_removed_valid_times_track_time_only'}...\n",
      "28-Mar-25 14:51:13 Running spike sorting on {'nwb_file_name': 'molly20220419_.nwb', 'sort_group_id': 46, 'sort_interval_name': '05_Seq2Sleep3', 'preproc_params_name': 'franklab_tetrode_hippocampus', 'team_name': 'SequenceTask', 'sorter': 'clusterless_thresholder', 'sorter_params_name': 'default', 'artifact_removed_interval_list_name': 'molly20220419_.nwb_05_Seq2Sleep3_46_franklab_tetrode_hippocampus_ampl_1500_prop_075_1ms_artifact_removed_valid_times_track_time_only'}...\n"
     ]
    },
    {
     "data": {
      "application/vnd.jupyter.widget-view+json": {
       "model_id": "18c769d575714431bdc8e9da42995f6b",
       "version_major": 2,
       "version_minor": 0
      },
      "text/plain": [
       "detect peaks using locally_exclusive:   0%|          | 0/1960 [00:00<?, ?it/s]"
      ]
     },
     "metadata": {},
     "output_type": "display_data"
    },
    {
     "name": "stderr",
     "output_type": "stream",
     "text": [
      "[14:51:17][INFO] Spyglass: Saving sorting results...\n",
      "28-Mar-25 14:51:17 Saving sorting results...\n",
      "[14:51:23][INFO] Spyglass: Running spike sorting on {'nwb_file_name': 'molly20220419_.nwb', 'sort_group_id': 50, 'sort_interval_name': '05_Seq2Sleep3', 'preproc_params_name': 'franklab_tetrode_hippocampus', 'team_name': 'SequenceTask', 'sorter': 'clusterless_thresholder', 'sorter_params_name': 'default', 'artifact_removed_interval_list_name': 'molly20220419_.nwb_05_Seq2Sleep3_50_franklab_tetrode_hippocampus_ampl_1500_prop_075_1ms_artifact_removed_valid_times_track_time_only'}...\n",
      "28-Mar-25 14:51:23 Running spike sorting on {'nwb_file_name': 'molly20220419_.nwb', 'sort_group_id': 50, 'sort_interval_name': '05_Seq2Sleep3', 'preproc_params_name': 'franklab_tetrode_hippocampus', 'team_name': 'SequenceTask', 'sorter': 'clusterless_thresholder', 'sorter_params_name': 'default', 'artifact_removed_interval_list_name': 'molly20220419_.nwb_05_Seq2Sleep3_50_franklab_tetrode_hippocampus_ampl_1500_prop_075_1ms_artifact_removed_valid_times_track_time_only'}...\n"
     ]
    },
    {
     "data": {
      "application/vnd.jupyter.widget-view+json": {
       "model_id": "771141eaf2a345eab4d9bc27fdbf1dd0",
       "version_major": 2,
       "version_minor": 0
      },
      "text/plain": [
       "detect peaks using locally_exclusive:   0%|          | 0/1960 [00:00<?, ?it/s]"
      ]
     },
     "metadata": {},
     "output_type": "display_data"
    },
    {
     "name": "stderr",
     "output_type": "stream",
     "text": [
      "[14:51:27][INFO] Spyglass: Saving sorting results...\n",
      "28-Mar-25 14:51:27 Saving sorting results...\n",
      "[14:51:30][INFO] Spyglass: Running spike sorting on {'nwb_file_name': 'molly20220419_.nwb', 'sort_group_id': 52, 'sort_interval_name': '05_Seq2Sleep3', 'preproc_params_name': 'franklab_tetrode_hippocampus', 'team_name': 'SequenceTask', 'sorter': 'clusterless_thresholder', 'sorter_params_name': 'default', 'artifact_removed_interval_list_name': 'molly20220419_.nwb_05_Seq2Sleep3_52_franklab_tetrode_hippocampus_ampl_1500_prop_075_1ms_artifact_removed_valid_times_track_time_only'}...\n",
      "28-Mar-25 14:51:30 Running spike sorting on {'nwb_file_name': 'molly20220419_.nwb', 'sort_group_id': 52, 'sort_interval_name': '05_Seq2Sleep3', 'preproc_params_name': 'franklab_tetrode_hippocampus', 'team_name': 'SequenceTask', 'sorter': 'clusterless_thresholder', 'sorter_params_name': 'default', 'artifact_removed_interval_list_name': 'molly20220419_.nwb_05_Seq2Sleep3_52_franklab_tetrode_hippocampus_ampl_1500_prop_075_1ms_artifact_removed_valid_times_track_time_only'}...\n"
     ]
    },
    {
     "data": {
      "application/vnd.jupyter.widget-view+json": {
       "model_id": "843740a0f5144bb88a0ddf7099d504f5",
       "version_major": 2,
       "version_minor": 0
      },
      "text/plain": [
       "detect peaks using locally_exclusive:   0%|          | 0/1960 [00:00<?, ?it/s]"
      ]
     },
     "metadata": {},
     "output_type": "display_data"
    },
    {
     "name": "stderr",
     "output_type": "stream",
     "text": [
      "[14:51:35][INFO] Spyglass: Saving sorting results...\n",
      "28-Mar-25 14:51:35 Saving sorting results...\n",
      "[14:51:37][INFO] Spyglass: Running spike sorting on {'nwb_file_name': 'molly20220419_.nwb', 'sort_group_id': 53, 'sort_interval_name': '05_Seq2Sleep3', 'preproc_params_name': 'franklab_tetrode_hippocampus', 'team_name': 'SequenceTask', 'sorter': 'clusterless_thresholder', 'sorter_params_name': 'default', 'artifact_removed_interval_list_name': 'molly20220419_.nwb_05_Seq2Sleep3_53_franklab_tetrode_hippocampus_ampl_1500_prop_075_1ms_artifact_removed_valid_times_track_time_only'}...\n",
      "28-Mar-25 14:51:37 Running spike sorting on {'nwb_file_name': 'molly20220419_.nwb', 'sort_group_id': 53, 'sort_interval_name': '05_Seq2Sleep3', 'preproc_params_name': 'franklab_tetrode_hippocampus', 'team_name': 'SequenceTask', 'sorter': 'clusterless_thresholder', 'sorter_params_name': 'default', 'artifact_removed_interval_list_name': 'molly20220419_.nwb_05_Seq2Sleep3_53_franklab_tetrode_hippocampus_ampl_1500_prop_075_1ms_artifact_removed_valid_times_track_time_only'}...\n"
     ]
    },
    {
     "data": {
      "application/vnd.jupyter.widget-view+json": {
       "model_id": "648a4f0cd3194ac7af7440d6a3910c2c",
       "version_major": 2,
       "version_minor": 0
      },
      "text/plain": [
       "detect peaks using locally_exclusive:   0%|          | 0/1960 [00:00<?, ?it/s]"
      ]
     },
     "metadata": {},
     "output_type": "display_data"
    },
    {
     "name": "stderr",
     "output_type": "stream",
     "text": [
      "[14:51:41][INFO] Spyglass: Saving sorting results...\n",
      "28-Mar-25 14:51:41 Saving sorting results...\n",
      "[14:51:44][INFO] Spyglass: Running spike sorting on {'nwb_file_name': 'molly20220419_.nwb', 'sort_group_id': 60, 'sort_interval_name': '05_Seq2Sleep3', 'preproc_params_name': 'franklab_tetrode_hippocampus', 'team_name': 'SequenceTask', 'sorter': 'clusterless_thresholder', 'sorter_params_name': 'default', 'artifact_removed_interval_list_name': 'molly20220419_.nwb_05_Seq2Sleep3_60_franklab_tetrode_hippocampus_ampl_1500_prop_075_1ms_artifact_removed_valid_times_track_time_only'}...\n",
      "28-Mar-25 14:51:44 Running spike sorting on {'nwb_file_name': 'molly20220419_.nwb', 'sort_group_id': 60, 'sort_interval_name': '05_Seq2Sleep3', 'preproc_params_name': 'franklab_tetrode_hippocampus', 'team_name': 'SequenceTask', 'sorter': 'clusterless_thresholder', 'sorter_params_name': 'default', 'artifact_removed_interval_list_name': 'molly20220419_.nwb_05_Seq2Sleep3_60_franklab_tetrode_hippocampus_ampl_1500_prop_075_1ms_artifact_removed_valid_times_track_time_only'}...\n"
     ]
    },
    {
     "data": {
      "application/vnd.jupyter.widget-view+json": {
       "model_id": "bbdedc96f8ad41a791adbeffc7674cd1",
       "version_major": 2,
       "version_minor": 0
      },
      "text/plain": [
       "detect peaks using locally_exclusive:   0%|          | 0/1960 [00:00<?, ?it/s]"
      ]
     },
     "metadata": {},
     "output_type": "display_data"
    },
    {
     "name": "stderr",
     "output_type": "stream",
     "text": [
      "[14:51:47][INFO] Spyglass: Saving sorting results...\n",
      "28-Mar-25 14:51:47 Saving sorting results...\n",
      "[14:51:50][INFO] Spyglass: Running spike sorting on {'nwb_file_name': 'molly20220419_.nwb', 'sort_group_id': 61, 'sort_interval_name': '05_Seq2Sleep3', 'preproc_params_name': 'franklab_tetrode_hippocampus', 'team_name': 'SequenceTask', 'sorter': 'clusterless_thresholder', 'sorter_params_name': 'default', 'artifact_removed_interval_list_name': 'molly20220419_.nwb_05_Seq2Sleep3_61_franklab_tetrode_hippocampus_ampl_1500_prop_075_1ms_artifact_removed_valid_times_track_time_only'}...\n",
      "28-Mar-25 14:51:50 Running spike sorting on {'nwb_file_name': 'molly20220419_.nwb', 'sort_group_id': 61, 'sort_interval_name': '05_Seq2Sleep3', 'preproc_params_name': 'franklab_tetrode_hippocampus', 'team_name': 'SequenceTask', 'sorter': 'clusterless_thresholder', 'sorter_params_name': 'default', 'artifact_removed_interval_list_name': 'molly20220419_.nwb_05_Seq2Sleep3_61_franklab_tetrode_hippocampus_ampl_1500_prop_075_1ms_artifact_removed_valid_times_track_time_only'}...\n"
     ]
    },
    {
     "data": {
      "application/vnd.jupyter.widget-view+json": {
       "model_id": "8745d72df0084a5a9dbbc79c9e474ca4",
       "version_major": 2,
       "version_minor": 0
      },
      "text/plain": [
       "detect peaks using locally_exclusive:   0%|          | 0/1960 [00:00<?, ?it/s]"
      ]
     },
     "metadata": {},
     "output_type": "display_data"
    },
    {
     "name": "stderr",
     "output_type": "stream",
     "text": [
      "[14:51:54][INFO] Spyglass: Saving sorting results...\n",
      "28-Mar-25 14:51:54 Saving sorting results...\n",
      "[14:51:58][INFO] Spyglass: Running spike sorting on {'nwb_file_name': 'molly20220419_.nwb', 'sort_group_id': 6, 'sort_interval_name': '05_Seq2Sleep3', 'preproc_params_name': 'franklab_tetrode_hippocampus', 'team_name': 'SequenceTask', 'sorter': 'clusterless_thresholder', 'sorter_params_name': 'default', 'artifact_removed_interval_list_name': 'molly20220419_.nwb_05_Seq2Sleep3_6_franklab_tetrode_hippocampus_ampl_1500_prop_075_1ms_artifact_removed_valid_times_track_time_only'}...\n",
      "28-Mar-25 14:51:58 Running spike sorting on {'nwb_file_name': 'molly20220419_.nwb', 'sort_group_id': 6, 'sort_interval_name': '05_Seq2Sleep3', 'preproc_params_name': 'franklab_tetrode_hippocampus', 'team_name': 'SequenceTask', 'sorter': 'clusterless_thresholder', 'sorter_params_name': 'default', 'artifact_removed_interval_list_name': 'molly20220419_.nwb_05_Seq2Sleep3_6_franklab_tetrode_hippocampus_ampl_1500_prop_075_1ms_artifact_removed_valid_times_track_time_only'}...\n"
     ]
    },
    {
     "data": {
      "application/vnd.jupyter.widget-view+json": {
       "model_id": "9fab08ea7c83495a92a745ef91604a98",
       "version_major": 2,
       "version_minor": 0
      },
      "text/plain": [
       "detect peaks using locally_exclusive:   0%|          | 0/1960 [00:00<?, ?it/s]"
      ]
     },
     "metadata": {},
     "output_type": "display_data"
    },
    {
     "name": "stderr",
     "output_type": "stream",
     "text": [
      "[14:52:02][INFO] Spyglass: Saving sorting results...\n",
      "28-Mar-25 14:52:02 Saving sorting results...\n",
      "[14:52:04][INFO] Spyglass: Running spike sorting on {'nwb_file_name': 'molly20220419_.nwb', 'sort_group_id': 7, 'sort_interval_name': '05_Seq2Sleep3', 'preproc_params_name': 'franklab_tetrode_hippocampus', 'team_name': 'SequenceTask', 'sorter': 'clusterless_thresholder', 'sorter_params_name': 'default', 'artifact_removed_interval_list_name': 'molly20220419_.nwb_05_Seq2Sleep3_7_franklab_tetrode_hippocampus_ampl_1500_prop_075_1ms_artifact_removed_valid_times_track_time_only'}...\n",
      "28-Mar-25 14:52:04 Running spike sorting on {'nwb_file_name': 'molly20220419_.nwb', 'sort_group_id': 7, 'sort_interval_name': '05_Seq2Sleep3', 'preproc_params_name': 'franklab_tetrode_hippocampus', 'team_name': 'SequenceTask', 'sorter': 'clusterless_thresholder', 'sorter_params_name': 'default', 'artifact_removed_interval_list_name': 'molly20220419_.nwb_05_Seq2Sleep3_7_franklab_tetrode_hippocampus_ampl_1500_prop_075_1ms_artifact_removed_valid_times_track_time_only'}...\n"
     ]
    },
    {
     "data": {
      "application/vnd.jupyter.widget-view+json": {
       "model_id": "b160e29b6b754945a65f5eb39636a544",
       "version_major": 2,
       "version_minor": 0
      },
      "text/plain": [
       "detect peaks using locally_exclusive:   0%|          | 0/1960 [00:00<?, ?it/s]"
      ]
     },
     "metadata": {},
     "output_type": "display_data"
    },
    {
     "name": "stderr",
     "output_type": "stream",
     "text": [
      "[14:52:08][INFO] Spyglass: Saving sorting results...\n",
      "28-Mar-25 14:52:08 Saving sorting results...\n",
      "[14:52:10][INFO] Spyglass: Running spike sorting on {'nwb_file_name': 'molly20220419_.nwb', 'sort_group_id': 9, 'sort_interval_name': '05_Seq2Sleep3', 'preproc_params_name': 'franklab_tetrode_hippocampus', 'team_name': 'SequenceTask', 'sorter': 'clusterless_thresholder', 'sorter_params_name': 'default', 'artifact_removed_interval_list_name': 'molly20220419_.nwb_05_Seq2Sleep3_9_franklab_tetrode_hippocampus_ampl_1500_prop_075_1ms_artifact_removed_valid_times_track_time_only'}...\n",
      "28-Mar-25 14:52:10 Running spike sorting on {'nwb_file_name': 'molly20220419_.nwb', 'sort_group_id': 9, 'sort_interval_name': '05_Seq2Sleep3', 'preproc_params_name': 'franklab_tetrode_hippocampus', 'team_name': 'SequenceTask', 'sorter': 'clusterless_thresholder', 'sorter_params_name': 'default', 'artifact_removed_interval_list_name': 'molly20220419_.nwb_05_Seq2Sleep3_9_franklab_tetrode_hippocampus_ampl_1500_prop_075_1ms_artifact_removed_valid_times_track_time_only'}...\n"
     ]
    },
    {
     "data": {
      "application/vnd.jupyter.widget-view+json": {
       "model_id": "1f3c81af6dee4d0da8159ee6dfbe7b14",
       "version_major": 2,
       "version_minor": 0
      },
      "text/plain": [
       "detect peaks using locally_exclusive:   0%|          | 0/1960 [00:00<?, ?it/s]"
      ]
     },
     "metadata": {},
     "output_type": "display_data"
    },
    {
     "name": "stderr",
     "output_type": "stream",
     "text": [
      "[14:52:13][INFO] Spyglass: Saving sorting results...\n",
      "28-Mar-25 14:52:13 Saving sorting results...\n"
     ]
    },
    {
     "name": "stdout",
     "output_type": "stream",
     "text": [
      "0\n",
      "inserting into IntervalList\n",
      "done inserting into IntervalList\n",
      "2\n",
      "inserting into IntervalList\n",
      "done inserting into IntervalList\n",
      "3\n",
      "inserting into IntervalList\n",
      "done inserting into IntervalList\n",
      "6\n",
      "inserting into IntervalList\n",
      "done inserting into IntervalList\n",
      "7\n",
      "inserting into IntervalList\n",
      "done inserting into IntervalList\n",
      "9\n",
      "inserting into IntervalList\n",
      "done inserting into IntervalList\n",
      "10\n",
      "inserting into IntervalList\n",
      "done inserting into IntervalList\n",
      "12\n",
      "inserting into IntervalList\n",
      "done inserting into IntervalList\n",
      "15\n",
      "inserting into IntervalList\n",
      "done inserting into IntervalList\n",
      "17\n",
      "inserting into IntervalList\n",
      "done inserting into IntervalList\n",
      "18\n",
      "inserting into IntervalList\n",
      "done inserting into IntervalList\n",
      "24\n",
      "inserting into IntervalList\n",
      "done inserting into IntervalList\n",
      "25\n",
      "inserting into IntervalList\n",
      "done inserting into IntervalList\n",
      "27\n",
      "inserting into IntervalList\n",
      "done inserting into IntervalList\n",
      "34\n",
      "inserting into IntervalList\n",
      "done inserting into IntervalList\n",
      "37\n",
      "inserting into IntervalList\n",
      "done inserting into IntervalList\n",
      "39\n",
      "inserting into IntervalList\n",
      "done inserting into IntervalList\n",
      "40\n",
      "inserting into IntervalList\n",
      "done inserting into IntervalList\n",
      "41\n",
      "inserting into IntervalList\n",
      "done inserting into IntervalList\n",
      "46\n",
      "inserting into IntervalList\n",
      "done inserting into IntervalList\n",
      "50\n",
      "inserting into IntervalList\n",
      "done inserting into IntervalList\n",
      "52\n",
      "inserting into IntervalList\n",
      "done inserting into IntervalList\n",
      "53\n",
      "inserting into IntervalList\n",
      "done inserting into IntervalList\n",
      "60\n",
      "inserting into IntervalList\n",
      "done inserting into IntervalList\n",
      "61\n",
      "inserting into IntervalList\n",
      "done inserting into IntervalList\n"
     ]
    },
    {
     "name": "stderr",
     "output_type": "stream",
     "text": [
      "[14:52:22][INFO] Spyglass: Running spike sorting on {'nwb_file_name': 'molly20220419_.nwb', 'sort_group_id': 0, 'sort_interval_name': '07_Seq2Sleep4', 'preproc_params_name': 'franklab_tetrode_hippocampus', 'team_name': 'SequenceTask', 'sorter': 'clusterless_thresholder', 'sorter_params_name': 'default', 'artifact_removed_interval_list_name': 'molly20220419_.nwb_07_Seq2Sleep4_0_franklab_tetrode_hippocampus_ampl_1500_prop_075_1ms_artifact_removed_valid_times_track_time_only'}...\n",
      "28-Mar-25 14:52:22 Running spike sorting on {'nwb_file_name': 'molly20220419_.nwb', 'sort_group_id': 0, 'sort_interval_name': '07_Seq2Sleep4', 'preproc_params_name': 'franklab_tetrode_hippocampus', 'team_name': 'SequenceTask', 'sorter': 'clusterless_thresholder', 'sorter_params_name': 'default', 'artifact_removed_interval_list_name': 'molly20220419_.nwb_07_Seq2Sleep4_0_franklab_tetrode_hippocampus_ampl_1500_prop_075_1ms_artifact_removed_valid_times_track_time_only'}...\n"
     ]
    },
    {
     "data": {
      "application/vnd.jupyter.widget-view+json": {
       "model_id": "809c5acb78da47dcadd6300c7ada8971",
       "version_major": 2,
       "version_minor": 0
      },
      "text/plain": [
       "detect peaks using locally_exclusive:   0%|          | 0/1937 [00:00<?, ?it/s]"
      ]
     },
     "metadata": {},
     "output_type": "display_data"
    },
    {
     "name": "stderr",
     "output_type": "stream",
     "text": [
      "[14:52:28][INFO] Spyglass: Saving sorting results...\n",
      "28-Mar-25 14:52:28 Saving sorting results...\n",
      "[14:52:36][INFO] Spyglass: Running spike sorting on {'nwb_file_name': 'molly20220419_.nwb', 'sort_group_id': 10, 'sort_interval_name': '07_Seq2Sleep4', 'preproc_params_name': 'franklab_tetrode_hippocampus', 'team_name': 'SequenceTask', 'sorter': 'clusterless_thresholder', 'sorter_params_name': 'default', 'artifact_removed_interval_list_name': 'molly20220419_.nwb_07_Seq2Sleep4_10_franklab_tetrode_hippocampus_ampl_1500_prop_075_1ms_artifact_removed_valid_times_track_time_only'}...\n",
      "28-Mar-25 14:52:36 Running spike sorting on {'nwb_file_name': 'molly20220419_.nwb', 'sort_group_id': 10, 'sort_interval_name': '07_Seq2Sleep4', 'preproc_params_name': 'franklab_tetrode_hippocampus', 'team_name': 'SequenceTask', 'sorter': 'clusterless_thresholder', 'sorter_params_name': 'default', 'artifact_removed_interval_list_name': 'molly20220419_.nwb_07_Seq2Sleep4_10_franklab_tetrode_hippocampus_ampl_1500_prop_075_1ms_artifact_removed_valid_times_track_time_only'}...\n"
     ]
    },
    {
     "data": {
      "application/vnd.jupyter.widget-view+json": {
       "model_id": "6079ee63da344bc8a22e1b900a0710c5",
       "version_major": 2,
       "version_minor": 0
      },
      "text/plain": [
       "detect peaks using locally_exclusive:   0%|          | 0/1937 [00:00<?, ?it/s]"
      ]
     },
     "metadata": {},
     "output_type": "display_data"
    },
    {
     "name": "stderr",
     "output_type": "stream",
     "text": [
      "[14:52:42][INFO] Spyglass: Saving sorting results...\n",
      "28-Mar-25 14:52:42 Saving sorting results...\n",
      "[14:52:48][INFO] Spyglass: Running spike sorting on {'nwb_file_name': 'molly20220419_.nwb', 'sort_group_id': 12, 'sort_interval_name': '07_Seq2Sleep4', 'preproc_params_name': 'franklab_tetrode_hippocampus', 'team_name': 'SequenceTask', 'sorter': 'clusterless_thresholder', 'sorter_params_name': 'default', 'artifact_removed_interval_list_name': 'molly20220419_.nwb_07_Seq2Sleep4_12_franklab_tetrode_hippocampus_ampl_1500_prop_075_1ms_artifact_removed_valid_times_track_time_only'}...\n",
      "28-Mar-25 14:52:48 Running spike sorting on {'nwb_file_name': 'molly20220419_.nwb', 'sort_group_id': 12, 'sort_interval_name': '07_Seq2Sleep4', 'preproc_params_name': 'franklab_tetrode_hippocampus', 'team_name': 'SequenceTask', 'sorter': 'clusterless_thresholder', 'sorter_params_name': 'default', 'artifact_removed_interval_list_name': 'molly20220419_.nwb_07_Seq2Sleep4_12_franklab_tetrode_hippocampus_ampl_1500_prop_075_1ms_artifact_removed_valid_times_track_time_only'}...\n"
     ]
    },
    {
     "data": {
      "application/vnd.jupyter.widget-view+json": {
       "model_id": "ac0de3f4f67f4746b0bd15d1364081c9",
       "version_major": 2,
       "version_minor": 0
      },
      "text/plain": [
       "detect peaks using locally_exclusive:   0%|          | 0/1937 [00:00<?, ?it/s]"
      ]
     },
     "metadata": {},
     "output_type": "display_data"
    },
    {
     "name": "stderr",
     "output_type": "stream",
     "text": [
      "[14:53:28][INFO] Spyglass: Saving sorting results...\n",
      "28-Mar-25 14:53:28 Saving sorting results...\n",
      "[14:53:34][INFO] Spyglass: Running spike sorting on {'nwb_file_name': 'molly20220419_.nwb', 'sort_group_id': 15, 'sort_interval_name': '07_Seq2Sleep4', 'preproc_params_name': 'franklab_tetrode_hippocampus', 'team_name': 'SequenceTask', 'sorter': 'clusterless_thresholder', 'sorter_params_name': 'default', 'artifact_removed_interval_list_name': 'molly20220419_.nwb_07_Seq2Sleep4_15_franklab_tetrode_hippocampus_ampl_1500_prop_075_1ms_artifact_removed_valid_times_track_time_only'}...\n",
      "28-Mar-25 14:53:34 Running spike sorting on {'nwb_file_name': 'molly20220419_.nwb', 'sort_group_id': 15, 'sort_interval_name': '07_Seq2Sleep4', 'preproc_params_name': 'franklab_tetrode_hippocampus', 'team_name': 'SequenceTask', 'sorter': 'clusterless_thresholder', 'sorter_params_name': 'default', 'artifact_removed_interval_list_name': 'molly20220419_.nwb_07_Seq2Sleep4_15_franklab_tetrode_hippocampus_ampl_1500_prop_075_1ms_artifact_removed_valid_times_track_time_only'}...\n"
     ]
    },
    {
     "data": {
      "application/vnd.jupyter.widget-view+json": {
       "model_id": "415be4eeb196464a8d2b8d1c2582472b",
       "version_major": 2,
       "version_minor": 0
      },
      "text/plain": [
       "detect peaks using locally_exclusive:   0%|          | 0/1937 [00:00<?, ?it/s]"
      ]
     },
     "metadata": {},
     "output_type": "display_data"
    },
    {
     "name": "stderr",
     "output_type": "stream",
     "text": [
      "[14:54:09][INFO] Spyglass: Saving sorting results...\n",
      "28-Mar-25 14:54:09 Saving sorting results...\n",
      "[14:54:16][INFO] Spyglass: Running spike sorting on {'nwb_file_name': 'molly20220419_.nwb', 'sort_group_id': 17, 'sort_interval_name': '07_Seq2Sleep4', 'preproc_params_name': 'franklab_tetrode_hippocampus', 'team_name': 'SequenceTask', 'sorter': 'clusterless_thresholder', 'sorter_params_name': 'default', 'artifact_removed_interval_list_name': 'molly20220419_.nwb_07_Seq2Sleep4_17_franklab_tetrode_hippocampus_ampl_1500_prop_075_1ms_artifact_removed_valid_times_track_time_only'}...\n",
      "28-Mar-25 14:54:16 Running spike sorting on {'nwb_file_name': 'molly20220419_.nwb', 'sort_group_id': 17, 'sort_interval_name': '07_Seq2Sleep4', 'preproc_params_name': 'franklab_tetrode_hippocampus', 'team_name': 'SequenceTask', 'sorter': 'clusterless_thresholder', 'sorter_params_name': 'default', 'artifact_removed_interval_list_name': 'molly20220419_.nwb_07_Seq2Sleep4_17_franklab_tetrode_hippocampus_ampl_1500_prop_075_1ms_artifact_removed_valid_times_track_time_only'}...\n"
     ]
    },
    {
     "data": {
      "application/vnd.jupyter.widget-view+json": {
       "model_id": "47cb50aed980456c96dddc36e311ce14",
       "version_major": 2,
       "version_minor": 0
      },
      "text/plain": [
       "detect peaks using locally_exclusive:   0%|          | 0/1937 [00:00<?, ?it/s]"
      ]
     },
     "metadata": {},
     "output_type": "display_data"
    },
    {
     "name": "stderr",
     "output_type": "stream",
     "text": [
      "[14:54:25][INFO] Spyglass: Saving sorting results...\n",
      "28-Mar-25 14:54:25 Saving sorting results...\n",
      "[14:54:31][INFO] Spyglass: Running spike sorting on {'nwb_file_name': 'molly20220419_.nwb', 'sort_group_id': 18, 'sort_interval_name': '07_Seq2Sleep4', 'preproc_params_name': 'franklab_tetrode_hippocampus', 'team_name': 'SequenceTask', 'sorter': 'clusterless_thresholder', 'sorter_params_name': 'default', 'artifact_removed_interval_list_name': 'molly20220419_.nwb_07_Seq2Sleep4_18_franklab_tetrode_hippocampus_ampl_1500_prop_075_1ms_artifact_removed_valid_times_track_time_only'}...\n",
      "28-Mar-25 14:54:31 Running spike sorting on {'nwb_file_name': 'molly20220419_.nwb', 'sort_group_id': 18, 'sort_interval_name': '07_Seq2Sleep4', 'preproc_params_name': 'franklab_tetrode_hippocampus', 'team_name': 'SequenceTask', 'sorter': 'clusterless_thresholder', 'sorter_params_name': 'default', 'artifact_removed_interval_list_name': 'molly20220419_.nwb_07_Seq2Sleep4_18_franklab_tetrode_hippocampus_ampl_1500_prop_075_1ms_artifact_removed_valid_times_track_time_only'}...\n"
     ]
    },
    {
     "data": {
      "application/vnd.jupyter.widget-view+json": {
       "model_id": "9aa8b2c79ae04ab6bb146a693ee7ea74",
       "version_major": 2,
       "version_minor": 0
      },
      "text/plain": [
       "detect peaks using locally_exclusive:   0%|          | 0/1937 [00:00<?, ?it/s]"
      ]
     },
     "metadata": {},
     "output_type": "display_data"
    },
    {
     "name": "stderr",
     "output_type": "stream",
     "text": [
      "[14:55:00][INFO] Spyglass: Saving sorting results...\n",
      "28-Mar-25 14:55:00 Saving sorting results...\n",
      "[14:55:02][INFO] Spyglass: Running spike sorting on {'nwb_file_name': 'molly20220419_.nwb', 'sort_group_id': 24, 'sort_interval_name': '07_Seq2Sleep4', 'preproc_params_name': 'franklab_tetrode_hippocampus', 'team_name': 'SequenceTask', 'sorter': 'clusterless_thresholder', 'sorter_params_name': 'default', 'artifact_removed_interval_list_name': 'molly20220419_.nwb_07_Seq2Sleep4_24_franklab_tetrode_hippocampus_ampl_1500_prop_075_1ms_artifact_removed_valid_times_track_time_only'}...\n",
      "28-Mar-25 14:55:02 Running spike sorting on {'nwb_file_name': 'molly20220419_.nwb', 'sort_group_id': 24, 'sort_interval_name': '07_Seq2Sleep4', 'preproc_params_name': 'franklab_tetrode_hippocampus', 'team_name': 'SequenceTask', 'sorter': 'clusterless_thresholder', 'sorter_params_name': 'default', 'artifact_removed_interval_list_name': 'molly20220419_.nwb_07_Seq2Sleep4_24_franklab_tetrode_hippocampus_ampl_1500_prop_075_1ms_artifact_removed_valid_times_track_time_only'}...\n"
     ]
    },
    {
     "data": {
      "application/vnd.jupyter.widget-view+json": {
       "model_id": "2a847cc95f634e1db50ac4360b1cd517",
       "version_major": 2,
       "version_minor": 0
      },
      "text/plain": [
       "detect peaks using locally_exclusive:   0%|          | 0/1937 [00:00<?, ?it/s]"
      ]
     },
     "metadata": {},
     "output_type": "display_data"
    },
    {
     "name": "stderr",
     "output_type": "stream",
     "text": [
      "[14:55:06][INFO] Spyglass: Saving sorting results...\n",
      "28-Mar-25 14:55:06 Saving sorting results...\n",
      "[14:55:08][INFO] Spyglass: Running spike sorting on {'nwb_file_name': 'molly20220419_.nwb', 'sort_group_id': 25, 'sort_interval_name': '07_Seq2Sleep4', 'preproc_params_name': 'franklab_tetrode_hippocampus', 'team_name': 'SequenceTask', 'sorter': 'clusterless_thresholder', 'sorter_params_name': 'default', 'artifact_removed_interval_list_name': 'molly20220419_.nwb_07_Seq2Sleep4_25_franklab_tetrode_hippocampus_ampl_1500_prop_075_1ms_artifact_removed_valid_times_track_time_only'}...\n",
      "28-Mar-25 14:55:08 Running spike sorting on {'nwb_file_name': 'molly20220419_.nwb', 'sort_group_id': 25, 'sort_interval_name': '07_Seq2Sleep4', 'preproc_params_name': 'franklab_tetrode_hippocampus', 'team_name': 'SequenceTask', 'sorter': 'clusterless_thresholder', 'sorter_params_name': 'default', 'artifact_removed_interval_list_name': 'molly20220419_.nwb_07_Seq2Sleep4_25_franklab_tetrode_hippocampus_ampl_1500_prop_075_1ms_artifact_removed_valid_times_track_time_only'}...\n"
     ]
    },
    {
     "data": {
      "application/vnd.jupyter.widget-view+json": {
       "model_id": "b5ed9f47ea9a41f4a673c739cd90003f",
       "version_major": 2,
       "version_minor": 0
      },
      "text/plain": [
       "detect peaks using locally_exclusive:   0%|          | 0/1937 [00:00<?, ?it/s]"
      ]
     },
     "metadata": {},
     "output_type": "display_data"
    },
    {
     "name": "stderr",
     "output_type": "stream",
     "text": [
      "[14:55:12][INFO] Spyglass: Saving sorting results...\n",
      "28-Mar-25 14:55:12 Saving sorting results...\n",
      "[14:55:16][INFO] Spyglass: Running spike sorting on {'nwb_file_name': 'molly20220419_.nwb', 'sort_group_id': 27, 'sort_interval_name': '07_Seq2Sleep4', 'preproc_params_name': 'franklab_tetrode_hippocampus', 'team_name': 'SequenceTask', 'sorter': 'clusterless_thresholder', 'sorter_params_name': 'default', 'artifact_removed_interval_list_name': 'molly20220419_.nwb_07_Seq2Sleep4_27_franklab_tetrode_hippocampus_ampl_1500_prop_075_1ms_artifact_removed_valid_times_track_time_only'}...\n",
      "28-Mar-25 14:55:16 Running spike sorting on {'nwb_file_name': 'molly20220419_.nwb', 'sort_group_id': 27, 'sort_interval_name': '07_Seq2Sleep4', 'preproc_params_name': 'franklab_tetrode_hippocampus', 'team_name': 'SequenceTask', 'sorter': 'clusterless_thresholder', 'sorter_params_name': 'default', 'artifact_removed_interval_list_name': 'molly20220419_.nwb_07_Seq2Sleep4_27_franklab_tetrode_hippocampus_ampl_1500_prop_075_1ms_artifact_removed_valid_times_track_time_only'}...\n"
     ]
    },
    {
     "data": {
      "application/vnd.jupyter.widget-view+json": {
       "model_id": "83ce1e4b4ca94380a6f7bcdc7b5166f4",
       "version_major": 2,
       "version_minor": 0
      },
      "text/plain": [
       "detect peaks using locally_exclusive:   0%|          | 0/1937 [00:00<?, ?it/s]"
      ]
     },
     "metadata": {},
     "output_type": "display_data"
    },
    {
     "name": "stderr",
     "output_type": "stream",
     "text": [
      "[14:55:26][INFO] Spyglass: Saving sorting results...\n",
      "28-Mar-25 14:55:26 Saving sorting results...\n",
      "[14:55:30][INFO] Spyglass: Running spike sorting on {'nwb_file_name': 'molly20220419_.nwb', 'sort_group_id': 2, 'sort_interval_name': '07_Seq2Sleep4', 'preproc_params_name': 'franklab_tetrode_hippocampus', 'team_name': 'SequenceTask', 'sorter': 'clusterless_thresholder', 'sorter_params_name': 'default', 'artifact_removed_interval_list_name': 'molly20220419_.nwb_07_Seq2Sleep4_2_franklab_tetrode_hippocampus_ampl_1500_prop_075_1ms_artifact_removed_valid_times_track_time_only'}...\n",
      "28-Mar-25 14:55:30 Running spike sorting on {'nwb_file_name': 'molly20220419_.nwb', 'sort_group_id': 2, 'sort_interval_name': '07_Seq2Sleep4', 'preproc_params_name': 'franklab_tetrode_hippocampus', 'team_name': 'SequenceTask', 'sorter': 'clusterless_thresholder', 'sorter_params_name': 'default', 'artifact_removed_interval_list_name': 'molly20220419_.nwb_07_Seq2Sleep4_2_franklab_tetrode_hippocampus_ampl_1500_prop_075_1ms_artifact_removed_valid_times_track_time_only'}...\n"
     ]
    },
    {
     "data": {
      "application/vnd.jupyter.widget-view+json": {
       "model_id": "c21724c2de28473abf9c1135537f6f78",
       "version_major": 2,
       "version_minor": 0
      },
      "text/plain": [
       "detect peaks using locally_exclusive:   0%|          | 0/1937 [00:00<?, ?it/s]"
      ]
     },
     "metadata": {},
     "output_type": "display_data"
    },
    {
     "name": "stderr",
     "output_type": "stream",
     "text": [
      "[14:55:37][INFO] Spyglass: Saving sorting results...\n",
      "28-Mar-25 14:55:37 Saving sorting results...\n",
      "[14:55:42][INFO] Spyglass: Running spike sorting on {'nwb_file_name': 'molly20220419_.nwb', 'sort_group_id': 34, 'sort_interval_name': '07_Seq2Sleep4', 'preproc_params_name': 'franklab_tetrode_hippocampus', 'team_name': 'SequenceTask', 'sorter': 'clusterless_thresholder', 'sorter_params_name': 'default', 'artifact_removed_interval_list_name': 'molly20220419_.nwb_07_Seq2Sleep4_34_franklab_tetrode_hippocampus_ampl_1500_prop_075_1ms_artifact_removed_valid_times_track_time_only'}...\n",
      "28-Mar-25 14:55:42 Running spike sorting on {'nwb_file_name': 'molly20220419_.nwb', 'sort_group_id': 34, 'sort_interval_name': '07_Seq2Sleep4', 'preproc_params_name': 'franklab_tetrode_hippocampus', 'team_name': 'SequenceTask', 'sorter': 'clusterless_thresholder', 'sorter_params_name': 'default', 'artifact_removed_interval_list_name': 'molly20220419_.nwb_07_Seq2Sleep4_34_franklab_tetrode_hippocampus_ampl_1500_prop_075_1ms_artifact_removed_valid_times_track_time_only'}...\n"
     ]
    },
    {
     "data": {
      "application/vnd.jupyter.widget-view+json": {
       "model_id": "931df05086614b44bd25d937dcfe4fac",
       "version_major": 2,
       "version_minor": 0
      },
      "text/plain": [
       "detect peaks using locally_exclusive:   0%|          | 0/1937 [00:00<?, ?it/s]"
      ]
     },
     "metadata": {},
     "output_type": "display_data"
    },
    {
     "name": "stderr",
     "output_type": "stream",
     "text": [
      "[14:55:49][INFO] Spyglass: Saving sorting results...\n",
      "28-Mar-25 14:55:49 Saving sorting results...\n",
      "[14:55:54][INFO] Spyglass: Running spike sorting on {'nwb_file_name': 'molly20220419_.nwb', 'sort_group_id': 37, 'sort_interval_name': '07_Seq2Sleep4', 'preproc_params_name': 'franklab_tetrode_hippocampus', 'team_name': 'SequenceTask', 'sorter': 'clusterless_thresholder', 'sorter_params_name': 'default', 'artifact_removed_interval_list_name': 'molly20220419_.nwb_07_Seq2Sleep4_37_franklab_tetrode_hippocampus_ampl_1500_prop_075_1ms_artifact_removed_valid_times_track_time_only'}...\n",
      "28-Mar-25 14:55:54 Running spike sorting on {'nwb_file_name': 'molly20220419_.nwb', 'sort_group_id': 37, 'sort_interval_name': '07_Seq2Sleep4', 'preproc_params_name': 'franklab_tetrode_hippocampus', 'team_name': 'SequenceTask', 'sorter': 'clusterless_thresholder', 'sorter_params_name': 'default', 'artifact_removed_interval_list_name': 'molly20220419_.nwb_07_Seq2Sleep4_37_franklab_tetrode_hippocampus_ampl_1500_prop_075_1ms_artifact_removed_valid_times_track_time_only'}...\n"
     ]
    },
    {
     "data": {
      "application/vnd.jupyter.widget-view+json": {
       "model_id": "0fcf90584cc44b159327618c01a46957",
       "version_major": 2,
       "version_minor": 0
      },
      "text/plain": [
       "detect peaks using locally_exclusive:   0%|          | 0/1937 [00:00<?, ?it/s]"
      ]
     },
     "metadata": {},
     "output_type": "display_data"
    },
    {
     "name": "stderr",
     "output_type": "stream",
     "text": [
      "[14:56:01][INFO] Spyglass: Saving sorting results...\n",
      "28-Mar-25 14:56:01 Saving sorting results...\n",
      "[14:56:05][INFO] Spyglass: Running spike sorting on {'nwb_file_name': 'molly20220419_.nwb', 'sort_group_id': 39, 'sort_interval_name': '07_Seq2Sleep4', 'preproc_params_name': 'franklab_tetrode_hippocampus', 'team_name': 'SequenceTask', 'sorter': 'clusterless_thresholder', 'sorter_params_name': 'default', 'artifact_removed_interval_list_name': 'molly20220419_.nwb_07_Seq2Sleep4_39_franklab_tetrode_hippocampus_ampl_1500_prop_075_1ms_artifact_removed_valid_times_track_time_only'}...\n",
      "28-Mar-25 14:56:05 Running spike sorting on {'nwb_file_name': 'molly20220419_.nwb', 'sort_group_id': 39, 'sort_interval_name': '07_Seq2Sleep4', 'preproc_params_name': 'franklab_tetrode_hippocampus', 'team_name': 'SequenceTask', 'sorter': 'clusterless_thresholder', 'sorter_params_name': 'default', 'artifact_removed_interval_list_name': 'molly20220419_.nwb_07_Seq2Sleep4_39_franklab_tetrode_hippocampus_ampl_1500_prop_075_1ms_artifact_removed_valid_times_track_time_only'}...\n"
     ]
    },
    {
     "data": {
      "application/vnd.jupyter.widget-view+json": {
       "model_id": "b4f715b613964697a7e686062ed2f0df",
       "version_major": 2,
       "version_minor": 0
      },
      "text/plain": [
       "detect peaks using locally_exclusive:   0%|          | 0/1937 [00:00<?, ?it/s]"
      ]
     },
     "metadata": {},
     "output_type": "display_data"
    },
    {
     "name": "stderr",
     "output_type": "stream",
     "text": [
      "[14:56:18][INFO] Spyglass: Saving sorting results...\n",
      "28-Mar-25 14:56:18 Saving sorting results...\n",
      "[14:56:22][INFO] Spyglass: Running spike sorting on {'nwb_file_name': 'molly20220419_.nwb', 'sort_group_id': 3, 'sort_interval_name': '07_Seq2Sleep4', 'preproc_params_name': 'franklab_tetrode_hippocampus', 'team_name': 'SequenceTask', 'sorter': 'clusterless_thresholder', 'sorter_params_name': 'default', 'artifact_removed_interval_list_name': 'molly20220419_.nwb_07_Seq2Sleep4_3_franklab_tetrode_hippocampus_ampl_1500_prop_075_1ms_artifact_removed_valid_times_track_time_only'}...\n",
      "28-Mar-25 14:56:22 Running spike sorting on {'nwb_file_name': 'molly20220419_.nwb', 'sort_group_id': 3, 'sort_interval_name': '07_Seq2Sleep4', 'preproc_params_name': 'franklab_tetrode_hippocampus', 'team_name': 'SequenceTask', 'sorter': 'clusterless_thresholder', 'sorter_params_name': 'default', 'artifact_removed_interval_list_name': 'molly20220419_.nwb_07_Seq2Sleep4_3_franklab_tetrode_hippocampus_ampl_1500_prop_075_1ms_artifact_removed_valid_times_track_time_only'}...\n"
     ]
    },
    {
     "data": {
      "application/vnd.jupyter.widget-view+json": {
       "model_id": "3916fbc773e64a43a7be83ba02264923",
       "version_major": 2,
       "version_minor": 0
      },
      "text/plain": [
       "detect peaks using locally_exclusive:   0%|          | 0/1937 [00:00<?, ?it/s]"
      ]
     },
     "metadata": {},
     "output_type": "display_data"
    },
    {
     "name": "stderr",
     "output_type": "stream",
     "text": [
      "[14:56:31][INFO] Spyglass: Saving sorting results...\n",
      "28-Mar-25 14:56:31 Saving sorting results...\n",
      "[14:57:02][INFO] Spyglass: Saving sorting results...\n",
      "28-Mar-25 14:57:02 Saving sorting results...\n",
      "[14:57:04][INFO] Spyglass: Running spike sorting on {'nwb_file_name': 'molly20220419_.nwb', 'sort_group_id': 52, 'sort_interval_name': '07_Seq2Sleep4', 'preproc_params_name': 'franklab_tetrode_hippocampus', 'team_name': 'SequenceTask', 'sorter': 'clusterless_thresholder', 'sorter_params_name': 'default', 'artifact_removed_interval_list_name': 'molly20220419_.nwb_07_Seq2Sleep4_52_franklab_tetrode_hippocampus_ampl_1500_prop_075_1ms_artifact_removed_valid_times_track_time_only'}...\n",
      "28-Mar-25 14:57:04 Running spike sorting on {'nwb_file_name': 'molly20220419_.nwb', 'sort_group_id': 52, 'sort_interval_name': '07_Seq2Sleep4', 'preproc_params_name': 'franklab_tetrode_hippocampus', 'team_name': 'SequenceTask', 'sorter': 'clusterless_thresholder', 'sorter_params_name': 'default', 'artifact_removed_interval_list_name': 'molly20220419_.nwb_07_Seq2Sleep4_52_franklab_tetrode_hippocampus_ampl_1500_prop_075_1ms_artifact_removed_valid_times_track_time_only'}...\n"
     ]
    },
    {
     "data": {
      "application/vnd.jupyter.widget-view+json": {
       "model_id": "78c6986b1c274adabb482cd2f12f57bc",
       "version_major": 2,
       "version_minor": 0
      },
      "text/plain": [
       "detect peaks using locally_exclusive:   0%|          | 0/1937 [00:00<?, ?it/s]"
      ]
     },
     "metadata": {},
     "output_type": "display_data"
    },
    {
     "name": "stderr",
     "output_type": "stream",
     "text": [
      "[14:57:08][INFO] Spyglass: Saving sorting results...\n",
      "28-Mar-25 14:57:08 Saving sorting results...\n",
      "[14:57:11][INFO] Spyglass: Running spike sorting on {'nwb_file_name': 'molly20220419_.nwb', 'sort_group_id': 53, 'sort_interval_name': '07_Seq2Sleep4', 'preproc_params_name': 'franklab_tetrode_hippocampus', 'team_name': 'SequenceTask', 'sorter': 'clusterless_thresholder', 'sorter_params_name': 'default', 'artifact_removed_interval_list_name': 'molly20220419_.nwb_07_Seq2Sleep4_53_franklab_tetrode_hippocampus_ampl_1500_prop_075_1ms_artifact_removed_valid_times_track_time_only'}...\n",
      "28-Mar-25 14:57:11 Running spike sorting on {'nwb_file_name': 'molly20220419_.nwb', 'sort_group_id': 53, 'sort_interval_name': '07_Seq2Sleep4', 'preproc_params_name': 'franklab_tetrode_hippocampus', 'team_name': 'SequenceTask', 'sorter': 'clusterless_thresholder', 'sorter_params_name': 'default', 'artifact_removed_interval_list_name': 'molly20220419_.nwb_07_Seq2Sleep4_53_franklab_tetrode_hippocampus_ampl_1500_prop_075_1ms_artifact_removed_valid_times_track_time_only'}...\n"
     ]
    },
    {
     "data": {
      "application/vnd.jupyter.widget-view+json": {
       "model_id": "f661f89d2c3c4bc2b7da5ee6ce7e618b",
       "version_major": 2,
       "version_minor": 0
      },
      "text/plain": [
       "detect peaks using locally_exclusive:   0%|          | 0/1937 [00:00<?, ?it/s]"
      ]
     },
     "metadata": {},
     "output_type": "display_data"
    },
    {
     "name": "stderr",
     "output_type": "stream",
     "text": [
      "[14:57:15][INFO] Spyglass: Saving sorting results...\n",
      "28-Mar-25 14:57:15 Saving sorting results...\n",
      "[14:57:18][INFO] Spyglass: Running spike sorting on {'nwb_file_name': 'molly20220419_.nwb', 'sort_group_id': 60, 'sort_interval_name': '07_Seq2Sleep4', 'preproc_params_name': 'franklab_tetrode_hippocampus', 'team_name': 'SequenceTask', 'sorter': 'clusterless_thresholder', 'sorter_params_name': 'default', 'artifact_removed_interval_list_name': 'molly20220419_.nwb_07_Seq2Sleep4_60_franklab_tetrode_hippocampus_ampl_1500_prop_075_1ms_artifact_removed_valid_times_track_time_only'}...\n",
      "28-Mar-25 14:57:18 Running spike sorting on {'nwb_file_name': 'molly20220419_.nwb', 'sort_group_id': 60, 'sort_interval_name': '07_Seq2Sleep4', 'preproc_params_name': 'franklab_tetrode_hippocampus', 'team_name': 'SequenceTask', 'sorter': 'clusterless_thresholder', 'sorter_params_name': 'default', 'artifact_removed_interval_list_name': 'molly20220419_.nwb_07_Seq2Sleep4_60_franklab_tetrode_hippocampus_ampl_1500_prop_075_1ms_artifact_removed_valid_times_track_time_only'}...\n"
     ]
    },
    {
     "data": {
      "application/vnd.jupyter.widget-view+json": {
       "model_id": "8a8535441ae34d35be27aff6440cb0f6",
       "version_major": 2,
       "version_minor": 0
      },
      "text/plain": [
       "detect peaks using locally_exclusive:   0%|          | 0/1937 [00:00<?, ?it/s]"
      ]
     },
     "metadata": {},
     "output_type": "display_data"
    },
    {
     "name": "stderr",
     "output_type": "stream",
     "text": [
      "[14:57:22][INFO] Spyglass: Saving sorting results...\n",
      "28-Mar-25 14:57:22 Saving sorting results...\n",
      "[14:57:25][INFO] Spyglass: Running spike sorting on {'nwb_file_name': 'molly20220419_.nwb', 'sort_group_id': 61, 'sort_interval_name': '07_Seq2Sleep4', 'preproc_params_name': 'franklab_tetrode_hippocampus', 'team_name': 'SequenceTask', 'sorter': 'clusterless_thresholder', 'sorter_params_name': 'default', 'artifact_removed_interval_list_name': 'molly20220419_.nwb_07_Seq2Sleep4_61_franklab_tetrode_hippocampus_ampl_1500_prop_075_1ms_artifact_removed_valid_times_track_time_only'}...\n",
      "28-Mar-25 14:57:25 Running spike sorting on {'nwb_file_name': 'molly20220419_.nwb', 'sort_group_id': 61, 'sort_interval_name': '07_Seq2Sleep4', 'preproc_params_name': 'franklab_tetrode_hippocampus', 'team_name': 'SequenceTask', 'sorter': 'clusterless_thresholder', 'sorter_params_name': 'default', 'artifact_removed_interval_list_name': 'molly20220419_.nwb_07_Seq2Sleep4_61_franklab_tetrode_hippocampus_ampl_1500_prop_075_1ms_artifact_removed_valid_times_track_time_only'}...\n"
     ]
    },
    {
     "data": {
      "application/vnd.jupyter.widget-view+json": {
       "model_id": "37975ccaf0a041ba9d910cf7797d2081",
       "version_major": 2,
       "version_minor": 0
      },
      "text/plain": [
       "detect peaks using locally_exclusive:   0%|          | 0/1937 [00:00<?, ?it/s]"
      ]
     },
     "metadata": {},
     "output_type": "display_data"
    },
    {
     "name": "stderr",
     "output_type": "stream",
     "text": [
      "[14:57:29][INFO] Spyglass: Saving sorting results...\n",
      "28-Mar-25 14:57:29 Saving sorting results...\n",
      "[14:57:31][INFO] Spyglass: Running spike sorting on {'nwb_file_name': 'molly20220419_.nwb', 'sort_group_id': 6, 'sort_interval_name': '07_Seq2Sleep4', 'preproc_params_name': 'franklab_tetrode_hippocampus', 'team_name': 'SequenceTask', 'sorter': 'clusterless_thresholder', 'sorter_params_name': 'default', 'artifact_removed_interval_list_name': 'molly20220419_.nwb_07_Seq2Sleep4_6_franklab_tetrode_hippocampus_ampl_1500_prop_075_1ms_artifact_removed_valid_times_track_time_only'}...\n",
      "28-Mar-25 14:57:31 Running spike sorting on {'nwb_file_name': 'molly20220419_.nwb', 'sort_group_id': 6, 'sort_interval_name': '07_Seq2Sleep4', 'preproc_params_name': 'franklab_tetrode_hippocampus', 'team_name': 'SequenceTask', 'sorter': 'clusterless_thresholder', 'sorter_params_name': 'default', 'artifact_removed_interval_list_name': 'molly20220419_.nwb_07_Seq2Sleep4_6_franklab_tetrode_hippocampus_ampl_1500_prop_075_1ms_artifact_removed_valid_times_track_time_only'}...\n"
     ]
    },
    {
     "data": {
      "application/vnd.jupyter.widget-view+json": {
       "model_id": "a6eb6cfb625b40aca9fe6108ca3f7640",
       "version_major": 2,
       "version_minor": 0
      },
      "text/plain": [
       "detect peaks using locally_exclusive:   0%|          | 0/1937 [00:00<?, ?it/s]"
      ]
     },
     "metadata": {},
     "output_type": "display_data"
    },
    {
     "name": "stderr",
     "output_type": "stream",
     "text": [
      "[14:57:35][INFO] Spyglass: Saving sorting results...\n",
      "28-Mar-25 14:57:35 Saving sorting results...\n",
      "[14:57:37][INFO] Spyglass: Running spike sorting on {'nwb_file_name': 'molly20220419_.nwb', 'sort_group_id': 7, 'sort_interval_name': '07_Seq2Sleep4', 'preproc_params_name': 'franklab_tetrode_hippocampus', 'team_name': 'SequenceTask', 'sorter': 'clusterless_thresholder', 'sorter_params_name': 'default', 'artifact_removed_interval_list_name': 'molly20220419_.nwb_07_Seq2Sleep4_7_franklab_tetrode_hippocampus_ampl_1500_prop_075_1ms_artifact_removed_valid_times_track_time_only'}...\n",
      "28-Mar-25 14:57:37 Running spike sorting on {'nwb_file_name': 'molly20220419_.nwb', 'sort_group_id': 7, 'sort_interval_name': '07_Seq2Sleep4', 'preproc_params_name': 'franklab_tetrode_hippocampus', 'team_name': 'SequenceTask', 'sorter': 'clusterless_thresholder', 'sorter_params_name': 'default', 'artifact_removed_interval_list_name': 'molly20220419_.nwb_07_Seq2Sleep4_7_franklab_tetrode_hippocampus_ampl_1500_prop_075_1ms_artifact_removed_valid_times_track_time_only'}...\n"
     ]
    },
    {
     "data": {
      "application/vnd.jupyter.widget-view+json": {
       "model_id": "df47a88ab9be4438ad1331595da273f5",
       "version_major": 2,
       "version_minor": 0
      },
      "text/plain": [
       "detect peaks using locally_exclusive:   0%|          | 0/1937 [00:00<?, ?it/s]"
      ]
     },
     "metadata": {},
     "output_type": "display_data"
    },
    {
     "name": "stderr",
     "output_type": "stream",
     "text": [
      "[14:57:40][INFO] Spyglass: Saving sorting results...\n",
      "28-Mar-25 14:57:40 Saving sorting results...\n",
      "[14:57:43][INFO] Spyglass: Running spike sorting on {'nwb_file_name': 'molly20220419_.nwb', 'sort_group_id': 9, 'sort_interval_name': '07_Seq2Sleep4', 'preproc_params_name': 'franklab_tetrode_hippocampus', 'team_name': 'SequenceTask', 'sorter': 'clusterless_thresholder', 'sorter_params_name': 'default', 'artifact_removed_interval_list_name': 'molly20220419_.nwb_07_Seq2Sleep4_9_franklab_tetrode_hippocampus_ampl_1500_prop_075_1ms_artifact_removed_valid_times_track_time_only'}...\n",
      "28-Mar-25 14:57:43 Running spike sorting on {'nwb_file_name': 'molly20220419_.nwb', 'sort_group_id': 9, 'sort_interval_name': '07_Seq2Sleep4', 'preproc_params_name': 'franklab_tetrode_hippocampus', 'team_name': 'SequenceTask', 'sorter': 'clusterless_thresholder', 'sorter_params_name': 'default', 'artifact_removed_interval_list_name': 'molly20220419_.nwb_07_Seq2Sleep4_9_franklab_tetrode_hippocampus_ampl_1500_prop_075_1ms_artifact_removed_valid_times_track_time_only'}...\n"
     ]
    },
    {
     "data": {
      "application/vnd.jupyter.widget-view+json": {
       "model_id": "b3e8189cb74245cc839f06a52d920ccc",
       "version_major": 2,
       "version_minor": 0
      },
      "text/plain": [
       "detect peaks using locally_exclusive:   0%|          | 0/1937 [00:00<?, ?it/s]"
      ]
     },
     "metadata": {},
     "output_type": "display_data"
    },
    {
     "name": "stderr",
     "output_type": "stream",
     "text": [
      "[14:57:46][INFO] Spyglass: Saving sorting results...\n",
      "28-Mar-25 14:57:46 Saving sorting results...\n"
     ]
    },
    {
     "name": "stdout",
     "output_type": "stream",
     "text": [
      "0\n",
      "inserting into IntervalList\n",
      "done inserting into IntervalList\n",
      "2\n",
      "inserting into IntervalList\n",
      "done inserting into IntervalList\n",
      "3\n",
      "inserting into IntervalList\n",
      "done inserting into IntervalList\n",
      "6\n",
      "inserting into IntervalList\n",
      "done inserting into IntervalList\n",
      "7\n",
      "inserting into IntervalList\n",
      "done inserting into IntervalList\n",
      "9\n",
      "inserting into IntervalList\n",
      "done inserting into IntervalList\n",
      "10\n",
      "inserting into IntervalList\n",
      "done inserting into IntervalList\n",
      "12\n",
      "inserting into IntervalList\n",
      "done inserting into IntervalList\n",
      "15\n",
      "inserting into IntervalList\n",
      "done inserting into IntervalList\n",
      "17\n",
      "inserting into IntervalList\n",
      "done inserting into IntervalList\n",
      "18\n",
      "inserting into IntervalList\n",
      "done inserting into IntervalList\n",
      "24\n",
      "inserting into IntervalList\n",
      "done inserting into IntervalList\n",
      "25\n",
      "inserting into IntervalList\n",
      "done inserting into IntervalList\n",
      "27\n",
      "inserting into IntervalList\n",
      "done inserting into IntervalList\n",
      "34\n",
      "inserting into IntervalList\n",
      "done inserting into IntervalList\n",
      "37\n",
      "inserting into IntervalList\n",
      "done inserting into IntervalList\n",
      "39\n",
      "inserting into IntervalList\n",
      "done inserting into IntervalList\n",
      "40\n",
      "inserting into IntervalList\n",
      "done inserting into IntervalList\n",
      "41\n",
      "inserting into IntervalList\n",
      "done inserting into IntervalList\n",
      "46\n",
      "inserting into IntervalList\n",
      "done inserting into IntervalList\n",
      "50\n",
      "inserting into IntervalList\n",
      "done inserting into IntervalList\n",
      "52\n",
      "inserting into IntervalList\n",
      "done inserting into IntervalList\n",
      "53\n",
      "inserting into IntervalList\n",
      "done inserting into IntervalList\n",
      "60\n",
      "inserting into IntervalList\n",
      "done inserting into IntervalList\n",
      "61\n",
      "inserting into IntervalList\n",
      "done inserting into IntervalList\n"
     ]
    },
    {
     "name": "stderr",
     "output_type": "stream",
     "text": [
      "[14:57:50][INFO] Spyglass: Running spike sorting on {'nwb_file_name': 'molly20220419_.nwb', 'sort_group_id': 0, 'sort_interval_name': '09_Seq2Sleep5', 'preproc_params_name': 'franklab_tetrode_hippocampus', 'team_name': 'SequenceTask', 'sorter': 'clusterless_thresholder', 'sorter_params_name': 'default', 'artifact_removed_interval_list_name': 'molly20220419_.nwb_09_Seq2Sleep5_0_franklab_tetrode_hippocampus_ampl_1500_prop_075_1ms_artifact_removed_valid_times_track_time_only'}...\n",
      "28-Mar-25 14:57:50 Running spike sorting on {'nwb_file_name': 'molly20220419_.nwb', 'sort_group_id': 0, 'sort_interval_name': '09_Seq2Sleep5', 'preproc_params_name': 'franklab_tetrode_hippocampus', 'team_name': 'SequenceTask', 'sorter': 'clusterless_thresholder', 'sorter_params_name': 'default', 'artifact_removed_interval_list_name': 'molly20220419_.nwb_09_Seq2Sleep5_0_franklab_tetrode_hippocampus_ampl_1500_prop_075_1ms_artifact_removed_valid_times_track_time_only'}...\n"
     ]
    },
    {
     "data": {
      "application/vnd.jupyter.widget-view+json": {
       "model_id": "c193ab7ae37841fabd8d8abb9d17114c",
       "version_major": 2,
       "version_minor": 0
      },
      "text/plain": [
       "detect peaks using locally_exclusive:   0%|          | 0/2608 [00:00<?, ?it/s]"
      ]
     },
     "metadata": {},
     "output_type": "display_data"
    },
    {
     "name": "stderr",
     "output_type": "stream",
     "text": [
      "[14:57:54][INFO] Spyglass: Saving sorting results...\n",
      "28-Mar-25 14:57:54 Saving sorting results...\n",
      "[14:57:58][INFO] Spyglass: Running spike sorting on {'nwb_file_name': 'molly20220419_.nwb', 'sort_group_id': 10, 'sort_interval_name': '09_Seq2Sleep5', 'preproc_params_name': 'franklab_tetrode_hippocampus', 'team_name': 'SequenceTask', 'sorter': 'clusterless_thresholder', 'sorter_params_name': 'default', 'artifact_removed_interval_list_name': 'molly20220419_.nwb_09_Seq2Sleep5_10_franklab_tetrode_hippocampus_ampl_1500_prop_075_1ms_artifact_removed_valid_times_track_time_only'}...\n",
      "28-Mar-25 14:57:58 Running spike sorting on {'nwb_file_name': 'molly20220419_.nwb', 'sort_group_id': 10, 'sort_interval_name': '09_Seq2Sleep5', 'preproc_params_name': 'franklab_tetrode_hippocampus', 'team_name': 'SequenceTask', 'sorter': 'clusterless_thresholder', 'sorter_params_name': 'default', 'artifact_removed_interval_list_name': 'molly20220419_.nwb_09_Seq2Sleep5_10_franklab_tetrode_hippocampus_ampl_1500_prop_075_1ms_artifact_removed_valid_times_track_time_only'}...\n"
     ]
    },
    {
     "data": {
      "application/vnd.jupyter.widget-view+json": {
       "model_id": "98d042617b864ce981bda7a6bf0de610",
       "version_major": 2,
       "version_minor": 0
      },
      "text/plain": [
       "detect peaks using locally_exclusive:   0%|          | 0/2608 [00:00<?, ?it/s]"
      ]
     },
     "metadata": {},
     "output_type": "display_data"
    },
    {
     "name": "stderr",
     "output_type": "stream",
     "text": [
      "[14:58:02][INFO] Spyglass: Saving sorting results...\n",
      "28-Mar-25 14:58:02 Saving sorting results...\n",
      "[14:58:06][INFO] Spyglass: Running spike sorting on {'nwb_file_name': 'molly20220419_.nwb', 'sort_group_id': 12, 'sort_interval_name': '09_Seq2Sleep5', 'preproc_params_name': 'franklab_tetrode_hippocampus', 'team_name': 'SequenceTask', 'sorter': 'clusterless_thresholder', 'sorter_params_name': 'default', 'artifact_removed_interval_list_name': 'molly20220419_.nwb_09_Seq2Sleep5_12_franklab_tetrode_hippocampus_ampl_1500_prop_075_1ms_artifact_removed_valid_times_track_time_only'}...\n",
      "28-Mar-25 14:58:06 Running spike sorting on {'nwb_file_name': 'molly20220419_.nwb', 'sort_group_id': 12, 'sort_interval_name': '09_Seq2Sleep5', 'preproc_params_name': 'franklab_tetrode_hippocampus', 'team_name': 'SequenceTask', 'sorter': 'clusterless_thresholder', 'sorter_params_name': 'default', 'artifact_removed_interval_list_name': 'molly20220419_.nwb_09_Seq2Sleep5_12_franklab_tetrode_hippocampus_ampl_1500_prop_075_1ms_artifact_removed_valid_times_track_time_only'}...\n"
     ]
    },
    {
     "data": {
      "application/vnd.jupyter.widget-view+json": {
       "model_id": "6df813897ab64e5c9e0fd48cd0eeef05",
       "version_major": 2,
       "version_minor": 0
      },
      "text/plain": [
       "detect peaks using locally_exclusive:   0%|          | 0/2608 [00:00<?, ?it/s]"
      ]
     },
     "metadata": {},
     "output_type": "display_data"
    },
    {
     "name": "stderr",
     "output_type": "stream",
     "text": [
      "[14:58:10][INFO] Spyglass: Saving sorting results...\n",
      "28-Mar-25 14:58:10 Saving sorting results...\n",
      "[14:58:13][INFO] Spyglass: Running spike sorting on {'nwb_file_name': 'molly20220419_.nwb', 'sort_group_id': 15, 'sort_interval_name': '09_Seq2Sleep5', 'preproc_params_name': 'franklab_tetrode_hippocampus', 'team_name': 'SequenceTask', 'sorter': 'clusterless_thresholder', 'sorter_params_name': 'default', 'artifact_removed_interval_list_name': 'molly20220419_.nwb_09_Seq2Sleep5_15_franklab_tetrode_hippocampus_ampl_1500_prop_075_1ms_artifact_removed_valid_times_track_time_only'}...\n",
      "28-Mar-25 14:58:13 Running spike sorting on {'nwb_file_name': 'molly20220419_.nwb', 'sort_group_id': 15, 'sort_interval_name': '09_Seq2Sleep5', 'preproc_params_name': 'franklab_tetrode_hippocampus', 'team_name': 'SequenceTask', 'sorter': 'clusterless_thresholder', 'sorter_params_name': 'default', 'artifact_removed_interval_list_name': 'molly20220419_.nwb_09_Seq2Sleep5_15_franklab_tetrode_hippocampus_ampl_1500_prop_075_1ms_artifact_removed_valid_times_track_time_only'}...\n"
     ]
    },
    {
     "data": {
      "application/vnd.jupyter.widget-view+json": {
       "model_id": "c2c9b53c11904d8e98c7145e5aa56ff3",
       "version_major": 2,
       "version_minor": 0
      },
      "text/plain": [
       "detect peaks using locally_exclusive:   0%|          | 0/2608 [00:00<?, ?it/s]"
      ]
     },
     "metadata": {},
     "output_type": "display_data"
    },
    {
     "name": "stderr",
     "output_type": "stream",
     "text": [
      "[14:58:18][INFO] Spyglass: Saving sorting results...\n",
      "28-Mar-25 14:58:18 Saving sorting results...\n",
      "[14:58:21][INFO] Spyglass: Running spike sorting on {'nwb_file_name': 'molly20220419_.nwb', 'sort_group_id': 17, 'sort_interval_name': '09_Seq2Sleep5', 'preproc_params_name': 'franklab_tetrode_hippocampus', 'team_name': 'SequenceTask', 'sorter': 'clusterless_thresholder', 'sorter_params_name': 'default', 'artifact_removed_interval_list_name': 'molly20220419_.nwb_09_Seq2Sleep5_17_franklab_tetrode_hippocampus_ampl_1500_prop_075_1ms_artifact_removed_valid_times_track_time_only'}...\n",
      "28-Mar-25 14:58:21 Running spike sorting on {'nwb_file_name': 'molly20220419_.nwb', 'sort_group_id': 17, 'sort_interval_name': '09_Seq2Sleep5', 'preproc_params_name': 'franklab_tetrode_hippocampus', 'team_name': 'SequenceTask', 'sorter': 'clusterless_thresholder', 'sorter_params_name': 'default', 'artifact_removed_interval_list_name': 'molly20220419_.nwb_09_Seq2Sleep5_17_franklab_tetrode_hippocampus_ampl_1500_prop_075_1ms_artifact_removed_valid_times_track_time_only'}...\n"
     ]
    },
    {
     "data": {
      "application/vnd.jupyter.widget-view+json": {
       "model_id": "fe65125ebdae44ad89135125907126af",
       "version_major": 2,
       "version_minor": 0
      },
      "text/plain": [
       "detect peaks using locally_exclusive:   0%|          | 0/2608 [00:00<?, ?it/s]"
      ]
     },
     "metadata": {},
     "output_type": "display_data"
    },
    {
     "name": "stderr",
     "output_type": "stream",
     "text": [
      "[14:58:26][INFO] Spyglass: Saving sorting results...\n",
      "28-Mar-25 14:58:26 Saving sorting results...\n",
      "[14:58:29][INFO] Spyglass: Running spike sorting on {'nwb_file_name': 'molly20220419_.nwb', 'sort_group_id': 18, 'sort_interval_name': '09_Seq2Sleep5', 'preproc_params_name': 'franklab_tetrode_hippocampus', 'team_name': 'SequenceTask', 'sorter': 'clusterless_thresholder', 'sorter_params_name': 'default', 'artifact_removed_interval_list_name': 'molly20220419_.nwb_09_Seq2Sleep5_18_franklab_tetrode_hippocampus_ampl_1500_prop_075_1ms_artifact_removed_valid_times_track_time_only'}...\n",
      "28-Mar-25 14:58:29 Running spike sorting on {'nwb_file_name': 'molly20220419_.nwb', 'sort_group_id': 18, 'sort_interval_name': '09_Seq2Sleep5', 'preproc_params_name': 'franklab_tetrode_hippocampus', 'team_name': 'SequenceTask', 'sorter': 'clusterless_thresholder', 'sorter_params_name': 'default', 'artifact_removed_interval_list_name': 'molly20220419_.nwb_09_Seq2Sleep5_18_franklab_tetrode_hippocampus_ampl_1500_prop_075_1ms_artifact_removed_valid_times_track_time_only'}...\n"
     ]
    },
    {
     "data": {
      "application/vnd.jupyter.widget-view+json": {
       "model_id": "df5e195371514513acf9341d21637bd8",
       "version_major": 2,
       "version_minor": 0
      },
      "text/plain": [
       "detect peaks using locally_exclusive:   0%|          | 0/2608 [00:00<?, ?it/s]"
      ]
     },
     "metadata": {},
     "output_type": "display_data"
    },
    {
     "name": "stderr",
     "output_type": "stream",
     "text": [
      "[14:58:33][INFO] Spyglass: Saving sorting results...\n",
      "28-Mar-25 14:58:33 Saving sorting results...\n",
      "[14:58:37][INFO] Spyglass: Running spike sorting on {'nwb_file_name': 'molly20220419_.nwb', 'sort_group_id': 24, 'sort_interval_name': '09_Seq2Sleep5', 'preproc_params_name': 'franklab_tetrode_hippocampus', 'team_name': 'SequenceTask', 'sorter': 'clusterless_thresholder', 'sorter_params_name': 'default', 'artifact_removed_interval_list_name': 'molly20220419_.nwb_09_Seq2Sleep5_24_franklab_tetrode_hippocampus_ampl_1500_prop_075_1ms_artifact_removed_valid_times_track_time_only'}...\n",
      "28-Mar-25 14:58:37 Running spike sorting on {'nwb_file_name': 'molly20220419_.nwb', 'sort_group_id': 24, 'sort_interval_name': '09_Seq2Sleep5', 'preproc_params_name': 'franklab_tetrode_hippocampus', 'team_name': 'SequenceTask', 'sorter': 'clusterless_thresholder', 'sorter_params_name': 'default', 'artifact_removed_interval_list_name': 'molly20220419_.nwb_09_Seq2Sleep5_24_franklab_tetrode_hippocampus_ampl_1500_prop_075_1ms_artifact_removed_valid_times_track_time_only'}...\n"
     ]
    },
    {
     "data": {
      "application/vnd.jupyter.widget-view+json": {
       "model_id": "b107453035c949a0b25d7aab12d96c30",
       "version_major": 2,
       "version_minor": 0
      },
      "text/plain": [
       "detect peaks using locally_exclusive:   0%|          | 0/2608 [00:00<?, ?it/s]"
      ]
     },
     "metadata": {},
     "output_type": "display_data"
    },
    {
     "name": "stderr",
     "output_type": "stream",
     "text": [
      "[14:58:42][INFO] Spyglass: Saving sorting results...\n",
      "28-Mar-25 14:58:42 Saving sorting results...\n",
      "[14:58:45][INFO] Spyglass: Running spike sorting on {'nwb_file_name': 'molly20220419_.nwb', 'sort_group_id': 25, 'sort_interval_name': '09_Seq2Sleep5', 'preproc_params_name': 'franklab_tetrode_hippocampus', 'team_name': 'SequenceTask', 'sorter': 'clusterless_thresholder', 'sorter_params_name': 'default', 'artifact_removed_interval_list_name': 'molly20220419_.nwb_09_Seq2Sleep5_25_franklab_tetrode_hippocampus_ampl_1500_prop_075_1ms_artifact_removed_valid_times_track_time_only'}...\n",
      "28-Mar-25 14:58:45 Running spike sorting on {'nwb_file_name': 'molly20220419_.nwb', 'sort_group_id': 25, 'sort_interval_name': '09_Seq2Sleep5', 'preproc_params_name': 'franklab_tetrode_hippocampus', 'team_name': 'SequenceTask', 'sorter': 'clusterless_thresholder', 'sorter_params_name': 'default', 'artifact_removed_interval_list_name': 'molly20220419_.nwb_09_Seq2Sleep5_25_franklab_tetrode_hippocampus_ampl_1500_prop_075_1ms_artifact_removed_valid_times_track_time_only'}...\n"
     ]
    },
    {
     "data": {
      "application/vnd.jupyter.widget-view+json": {
       "model_id": "c09de95362b94d4eb6dba49b04c2d142",
       "version_major": 2,
       "version_minor": 0
      },
      "text/plain": [
       "detect peaks using locally_exclusive:   0%|          | 0/2608 [00:00<?, ?it/s]"
      ]
     },
     "metadata": {},
     "output_type": "display_data"
    },
    {
     "name": "stderr",
     "output_type": "stream",
     "text": [
      "[14:58:50][INFO] Spyglass: Saving sorting results...\n",
      "28-Mar-25 14:58:50 Saving sorting results...\n",
      "[14:58:53][INFO] Spyglass: Running spike sorting on {'nwb_file_name': 'molly20220419_.nwb', 'sort_group_id': 27, 'sort_interval_name': '09_Seq2Sleep5', 'preproc_params_name': 'franklab_tetrode_hippocampus', 'team_name': 'SequenceTask', 'sorter': 'clusterless_thresholder', 'sorter_params_name': 'default', 'artifact_removed_interval_list_name': 'molly20220419_.nwb_09_Seq2Sleep5_27_franklab_tetrode_hippocampus_ampl_1500_prop_075_1ms_artifact_removed_valid_times_track_time_only'}...\n",
      "28-Mar-25 14:58:53 Running spike sorting on {'nwb_file_name': 'molly20220419_.nwb', 'sort_group_id': 27, 'sort_interval_name': '09_Seq2Sleep5', 'preproc_params_name': 'franklab_tetrode_hippocampus', 'team_name': 'SequenceTask', 'sorter': 'clusterless_thresholder', 'sorter_params_name': 'default', 'artifact_removed_interval_list_name': 'molly20220419_.nwb_09_Seq2Sleep5_27_franklab_tetrode_hippocampus_ampl_1500_prop_075_1ms_artifact_removed_valid_times_track_time_only'}...\n"
     ]
    },
    {
     "data": {
      "application/vnd.jupyter.widget-view+json": {
       "model_id": "9ed4fd85bc9d4663bb77433720ea565d",
       "version_major": 2,
       "version_minor": 0
      },
      "text/plain": [
       "detect peaks using locally_exclusive:   0%|          | 0/2608 [00:00<?, ?it/s]"
      ]
     },
     "metadata": {},
     "output_type": "display_data"
    },
    {
     "name": "stderr",
     "output_type": "stream",
     "text": [
      "[14:58:58][INFO] Spyglass: Saving sorting results...\n",
      "28-Mar-25 14:58:58 Saving sorting results...\n",
      "[14:59:03][INFO] Spyglass: Running spike sorting on {'nwb_file_name': 'molly20220419_.nwb', 'sort_group_id': 2, 'sort_interval_name': '09_Seq2Sleep5', 'preproc_params_name': 'franklab_tetrode_hippocampus', 'team_name': 'SequenceTask', 'sorter': 'clusterless_thresholder', 'sorter_params_name': 'default', 'artifact_removed_interval_list_name': 'molly20220419_.nwb_09_Seq2Sleep5_2_franklab_tetrode_hippocampus_ampl_1500_prop_075_1ms_artifact_removed_valid_times_track_time_only'}...\n",
      "28-Mar-25 14:59:03 Running spike sorting on {'nwb_file_name': 'molly20220419_.nwb', 'sort_group_id': 2, 'sort_interval_name': '09_Seq2Sleep5', 'preproc_params_name': 'franklab_tetrode_hippocampus', 'team_name': 'SequenceTask', 'sorter': 'clusterless_thresholder', 'sorter_params_name': 'default', 'artifact_removed_interval_list_name': 'molly20220419_.nwb_09_Seq2Sleep5_2_franklab_tetrode_hippocampus_ampl_1500_prop_075_1ms_artifact_removed_valid_times_track_time_only'}...\n"
     ]
    },
    {
     "data": {
      "application/vnd.jupyter.widget-view+json": {
       "model_id": "84348121a3fb447791c5b181276fc192",
       "version_major": 2,
       "version_minor": 0
      },
      "text/plain": [
       "detect peaks using locally_exclusive:   0%|          | 0/2608 [00:00<?, ?it/s]"
      ]
     },
     "metadata": {},
     "output_type": "display_data"
    },
    {
     "name": "stderr",
     "output_type": "stream",
     "text": [
      "[14:59:07][INFO] Spyglass: Saving sorting results...\n",
      "28-Mar-25 14:59:07 Saving sorting results...\n",
      "[14:59:11][INFO] Spyglass: Running spike sorting on {'nwb_file_name': 'molly20220419_.nwb', 'sort_group_id': 34, 'sort_interval_name': '09_Seq2Sleep5', 'preproc_params_name': 'franklab_tetrode_hippocampus', 'team_name': 'SequenceTask', 'sorter': 'clusterless_thresholder', 'sorter_params_name': 'default', 'artifact_removed_interval_list_name': 'molly20220419_.nwb_09_Seq2Sleep5_34_franklab_tetrode_hippocampus_ampl_1500_prop_075_1ms_artifact_removed_valid_times_track_time_only'}...\n",
      "28-Mar-25 14:59:11 Running spike sorting on {'nwb_file_name': 'molly20220419_.nwb', 'sort_group_id': 34, 'sort_interval_name': '09_Seq2Sleep5', 'preproc_params_name': 'franklab_tetrode_hippocampus', 'team_name': 'SequenceTask', 'sorter': 'clusterless_thresholder', 'sorter_params_name': 'default', 'artifact_removed_interval_list_name': 'molly20220419_.nwb_09_Seq2Sleep5_34_franklab_tetrode_hippocampus_ampl_1500_prop_075_1ms_artifact_removed_valid_times_track_time_only'}...\n"
     ]
    },
    {
     "data": {
      "application/vnd.jupyter.widget-view+json": {
       "model_id": "616d78bbf46243739b3a84b77e8d78cb",
       "version_major": 2,
       "version_minor": 0
      },
      "text/plain": [
       "detect peaks using locally_exclusive:   0%|          | 0/2608 [00:00<?, ?it/s]"
      ]
     },
     "metadata": {},
     "output_type": "display_data"
    },
    {
     "name": "stderr",
     "output_type": "stream",
     "text": [
      "[14:59:15][INFO] Spyglass: Saving sorting results...\n",
      "28-Mar-25 14:59:15 Saving sorting results...\n",
      "[14:59:19][INFO] Spyglass: Running spike sorting on {'nwb_file_name': 'molly20220419_.nwb', 'sort_group_id': 37, 'sort_interval_name': '09_Seq2Sleep5', 'preproc_params_name': 'franklab_tetrode_hippocampus', 'team_name': 'SequenceTask', 'sorter': 'clusterless_thresholder', 'sorter_params_name': 'default', 'artifact_removed_interval_list_name': 'molly20220419_.nwb_09_Seq2Sleep5_37_franklab_tetrode_hippocampus_ampl_1500_prop_075_1ms_artifact_removed_valid_times_track_time_only'}...\n",
      "28-Mar-25 14:59:19 Running spike sorting on {'nwb_file_name': 'molly20220419_.nwb', 'sort_group_id': 37, 'sort_interval_name': '09_Seq2Sleep5', 'preproc_params_name': 'franklab_tetrode_hippocampus', 'team_name': 'SequenceTask', 'sorter': 'clusterless_thresholder', 'sorter_params_name': 'default', 'artifact_removed_interval_list_name': 'molly20220419_.nwb_09_Seq2Sleep5_37_franklab_tetrode_hippocampus_ampl_1500_prop_075_1ms_artifact_removed_valid_times_track_time_only'}...\n"
     ]
    },
    {
     "data": {
      "application/vnd.jupyter.widget-view+json": {
       "model_id": "814e9591401c47b3a0d89c6931323ef1",
       "version_major": 2,
       "version_minor": 0
      },
      "text/plain": [
       "detect peaks using locally_exclusive:   0%|          | 0/2608 [00:00<?, ?it/s]"
      ]
     },
     "metadata": {},
     "output_type": "display_data"
    },
    {
     "name": "stderr",
     "output_type": "stream",
     "text": [
      "[14:59:23][INFO] Spyglass: Saving sorting results...\n",
      "28-Mar-25 14:59:23 Saving sorting results...\n",
      "[14:59:27][INFO] Spyglass: Running spike sorting on {'nwb_file_name': 'molly20220419_.nwb', 'sort_group_id': 39, 'sort_interval_name': '09_Seq2Sleep5', 'preproc_params_name': 'franklab_tetrode_hippocampus', 'team_name': 'SequenceTask', 'sorter': 'clusterless_thresholder', 'sorter_params_name': 'default', 'artifact_removed_interval_list_name': 'molly20220419_.nwb_09_Seq2Sleep5_39_franklab_tetrode_hippocampus_ampl_1500_prop_075_1ms_artifact_removed_valid_times_track_time_only'}...\n",
      "28-Mar-25 14:59:27 Running spike sorting on {'nwb_file_name': 'molly20220419_.nwb', 'sort_group_id': 39, 'sort_interval_name': '09_Seq2Sleep5', 'preproc_params_name': 'franklab_tetrode_hippocampus', 'team_name': 'SequenceTask', 'sorter': 'clusterless_thresholder', 'sorter_params_name': 'default', 'artifact_removed_interval_list_name': 'molly20220419_.nwb_09_Seq2Sleep5_39_franklab_tetrode_hippocampus_ampl_1500_prop_075_1ms_artifact_removed_valid_times_track_time_only'}...\n"
     ]
    },
    {
     "data": {
      "application/vnd.jupyter.widget-view+json": {
       "model_id": "16248d9cf162459eb557acd6fe309aa6",
       "version_major": 2,
       "version_minor": 0
      },
      "text/plain": [
       "detect peaks using locally_exclusive:   0%|          | 0/2608 [00:00<?, ?it/s]"
      ]
     },
     "metadata": {},
     "output_type": "display_data"
    },
    {
     "name": "stderr",
     "output_type": "stream",
     "text": [
      "[14:59:32][INFO] Spyglass: Saving sorting results...\n",
      "28-Mar-25 14:59:32 Saving sorting results...\n",
      "[14:59:36][INFO] Spyglass: Running spike sorting on {'nwb_file_name': 'molly20220419_.nwb', 'sort_group_id': 3, 'sort_interval_name': '09_Seq2Sleep5', 'preproc_params_name': 'franklab_tetrode_hippocampus', 'team_name': 'SequenceTask', 'sorter': 'clusterless_thresholder', 'sorter_params_name': 'default', 'artifact_removed_interval_list_name': 'molly20220419_.nwb_09_Seq2Sleep5_3_franklab_tetrode_hippocampus_ampl_1500_prop_075_1ms_artifact_removed_valid_times_track_time_only'}...\n",
      "28-Mar-25 14:59:36 Running spike sorting on {'nwb_file_name': 'molly20220419_.nwb', 'sort_group_id': 3, 'sort_interval_name': '09_Seq2Sleep5', 'preproc_params_name': 'franklab_tetrode_hippocampus', 'team_name': 'SequenceTask', 'sorter': 'clusterless_thresholder', 'sorter_params_name': 'default', 'artifact_removed_interval_list_name': 'molly20220419_.nwb_09_Seq2Sleep5_3_franklab_tetrode_hippocampus_ampl_1500_prop_075_1ms_artifact_removed_valid_times_track_time_only'}...\n"
     ]
    },
    {
     "data": {
      "application/vnd.jupyter.widget-view+json": {
       "model_id": "47134cf59d0949afb1145991acc5e8a2",
       "version_major": 2,
       "version_minor": 0
      },
      "text/plain": [
       "detect peaks using locally_exclusive:   0%|          | 0/2608 [00:00<?, ?it/s]"
      ]
     },
     "metadata": {},
     "output_type": "display_data"
    },
    {
     "name": "stderr",
     "output_type": "stream",
     "text": [
      "[14:59:40][INFO] Spyglass: Saving sorting results...\n",
      "28-Mar-25 14:59:40 Saving sorting results...\n",
      "[14:59:43][INFO] Spyglass: Running spike sorting on {'nwb_file_name': 'molly20220419_.nwb', 'sort_group_id': 40, 'sort_interval_name': '09_Seq2Sleep5', 'preproc_params_name': 'franklab_tetrode_hippocampus', 'team_name': 'SequenceTask', 'sorter': 'clusterless_thresholder', 'sorter_params_name': 'default', 'artifact_removed_interval_list_name': 'molly20220419_.nwb_09_Seq2Sleep5_40_franklab_tetrode_hippocampus_ampl_1500_prop_075_1ms_artifact_removed_valid_times_track_time_only'}...\n",
      "28-Mar-25 14:59:43 Running spike sorting on {'nwb_file_name': 'molly20220419_.nwb', 'sort_group_id': 40, 'sort_interval_name': '09_Seq2Sleep5', 'preproc_params_name': 'franklab_tetrode_hippocampus', 'team_name': 'SequenceTask', 'sorter': 'clusterless_thresholder', 'sorter_params_name': 'default', 'artifact_removed_interval_list_name': 'molly20220419_.nwb_09_Seq2Sleep5_40_franklab_tetrode_hippocampus_ampl_1500_prop_075_1ms_artifact_removed_valid_times_track_time_only'}...\n"
     ]
    },
    {
     "data": {
      "application/vnd.jupyter.widget-view+json": {
       "model_id": "9a20691d46e9465883556e5e625e8eb1",
       "version_major": 2,
       "version_minor": 0
      },
      "text/plain": [
       "detect peaks using locally_exclusive:   0%|          | 0/2608 [00:00<?, ?it/s]"
      ]
     },
     "metadata": {},
     "output_type": "display_data"
    },
    {
     "name": "stderr",
     "output_type": "stream",
     "text": [
      "[14:59:48][INFO] Spyglass: Saving sorting results...\n",
      "28-Mar-25 14:59:48 Saving sorting results...\n",
      "[14:59:52][INFO] Spyglass: Running spike sorting on {'nwb_file_name': 'molly20220419_.nwb', 'sort_group_id': 41, 'sort_interval_name': '09_Seq2Sleep5', 'preproc_params_name': 'franklab_tetrode_hippocampus', 'team_name': 'SequenceTask', 'sorter': 'clusterless_thresholder', 'sorter_params_name': 'default', 'artifact_removed_interval_list_name': 'molly20220419_.nwb_09_Seq2Sleep5_41_franklab_tetrode_hippocampus_ampl_1500_prop_075_1ms_artifact_removed_valid_times_track_time_only'}...\n",
      "28-Mar-25 14:59:52 Running spike sorting on {'nwb_file_name': 'molly20220419_.nwb', 'sort_group_id': 41, 'sort_interval_name': '09_Seq2Sleep5', 'preproc_params_name': 'franklab_tetrode_hippocampus', 'team_name': 'SequenceTask', 'sorter': 'clusterless_thresholder', 'sorter_params_name': 'default', 'artifact_removed_interval_list_name': 'molly20220419_.nwb_09_Seq2Sleep5_41_franklab_tetrode_hippocampus_ampl_1500_prop_075_1ms_artifact_removed_valid_times_track_time_only'}...\n"
     ]
    },
    {
     "data": {
      "application/vnd.jupyter.widget-view+json": {
       "model_id": "f03336c3dfe34f6a84fd2c8ebc5fbc5a",
       "version_major": 2,
       "version_minor": 0
      },
      "text/plain": [
       "detect peaks using locally_exclusive:   0%|          | 0/2608 [00:00<?, ?it/s]"
      ]
     },
     "metadata": {},
     "output_type": "display_data"
    },
    {
     "name": "stderr",
     "output_type": "stream",
     "text": [
      "[14:59:57][INFO] Spyglass: Saving sorting results...\n",
      "28-Mar-25 14:59:57 Saving sorting results...\n",
      "[15:00:01][INFO] Spyglass: Running spike sorting on {'nwb_file_name': 'molly20220419_.nwb', 'sort_group_id': 46, 'sort_interval_name': '09_Seq2Sleep5', 'preproc_params_name': 'franklab_tetrode_hippocampus', 'team_name': 'SequenceTask', 'sorter': 'clusterless_thresholder', 'sorter_params_name': 'default', 'artifact_removed_interval_list_name': 'molly20220419_.nwb_09_Seq2Sleep5_46_franklab_tetrode_hippocampus_ampl_1500_prop_075_1ms_artifact_removed_valid_times_track_time_only'}...\n",
      "28-Mar-25 15:00:01 Running spike sorting on {'nwb_file_name': 'molly20220419_.nwb', 'sort_group_id': 46, 'sort_interval_name': '09_Seq2Sleep5', 'preproc_params_name': 'franklab_tetrode_hippocampus', 'team_name': 'SequenceTask', 'sorter': 'clusterless_thresholder', 'sorter_params_name': 'default', 'artifact_removed_interval_list_name': 'molly20220419_.nwb_09_Seq2Sleep5_46_franklab_tetrode_hippocampus_ampl_1500_prop_075_1ms_artifact_removed_valid_times_track_time_only'}...\n"
     ]
    },
    {
     "data": {
      "application/vnd.jupyter.widget-view+json": {
       "model_id": "b579258bd3e84542a1518f2802886db1",
       "version_major": 2,
       "version_minor": 0
      },
      "text/plain": [
       "detect peaks using locally_exclusive:   0%|          | 0/2608 [00:00<?, ?it/s]"
      ]
     },
     "metadata": {},
     "output_type": "display_data"
    },
    {
     "name": "stderr",
     "output_type": "stream",
     "text": [
      "[15:00:05][INFO] Spyglass: Saving sorting results...\n",
      "28-Mar-25 15:00:05 Saving sorting results...\n",
      "[15:00:08][INFO] Spyglass: Running spike sorting on {'nwb_file_name': 'molly20220419_.nwb', 'sort_group_id': 50, 'sort_interval_name': '09_Seq2Sleep5', 'preproc_params_name': 'franklab_tetrode_hippocampus', 'team_name': 'SequenceTask', 'sorter': 'clusterless_thresholder', 'sorter_params_name': 'default', 'artifact_removed_interval_list_name': 'molly20220419_.nwb_09_Seq2Sleep5_50_franklab_tetrode_hippocampus_ampl_1500_prop_075_1ms_artifact_removed_valid_times_track_time_only'}...\n",
      "28-Mar-25 15:00:08 Running spike sorting on {'nwb_file_name': 'molly20220419_.nwb', 'sort_group_id': 50, 'sort_interval_name': '09_Seq2Sleep5', 'preproc_params_name': 'franklab_tetrode_hippocampus', 'team_name': 'SequenceTask', 'sorter': 'clusterless_thresholder', 'sorter_params_name': 'default', 'artifact_removed_interval_list_name': 'molly20220419_.nwb_09_Seq2Sleep5_50_franklab_tetrode_hippocampus_ampl_1500_prop_075_1ms_artifact_removed_valid_times_track_time_only'}...\n"
     ]
    },
    {
     "data": {
      "application/vnd.jupyter.widget-view+json": {
       "model_id": "7960fd6cce264dd78c6296f4e9b48f85",
       "version_major": 2,
       "version_minor": 0
      },
      "text/plain": [
       "detect peaks using locally_exclusive:   0%|          | 0/2608 [00:00<?, ?it/s]"
      ]
     },
     "metadata": {},
     "output_type": "display_data"
    },
    {
     "name": "stderr",
     "output_type": "stream",
     "text": [
      "[15:00:14][INFO] Spyglass: Saving sorting results...\n",
      "28-Mar-25 15:00:14 Saving sorting results...\n",
      "[15:00:17][INFO] Spyglass: Running spike sorting on {'nwb_file_name': 'molly20220419_.nwb', 'sort_group_id': 52, 'sort_interval_name': '09_Seq2Sleep5', 'preproc_params_name': 'franklab_tetrode_hippocampus', 'team_name': 'SequenceTask', 'sorter': 'clusterless_thresholder', 'sorter_params_name': 'default', 'artifact_removed_interval_list_name': 'molly20220419_.nwb_09_Seq2Sleep5_52_franklab_tetrode_hippocampus_ampl_1500_prop_075_1ms_artifact_removed_valid_times_track_time_only'}...\n",
      "28-Mar-25 15:00:17 Running spike sorting on {'nwb_file_name': 'molly20220419_.nwb', 'sort_group_id': 52, 'sort_interval_name': '09_Seq2Sleep5', 'preproc_params_name': 'franklab_tetrode_hippocampus', 'team_name': 'SequenceTask', 'sorter': 'clusterless_thresholder', 'sorter_params_name': 'default', 'artifact_removed_interval_list_name': 'molly20220419_.nwb_09_Seq2Sleep5_52_franklab_tetrode_hippocampus_ampl_1500_prop_075_1ms_artifact_removed_valid_times_track_time_only'}...\n"
     ]
    },
    {
     "data": {
      "application/vnd.jupyter.widget-view+json": {
       "model_id": "55c48a0803984da49871f783323d3bfe",
       "version_major": 2,
       "version_minor": 0
      },
      "text/plain": [
       "detect peaks using locally_exclusive:   0%|          | 0/2608 [00:00<?, ?it/s]"
      ]
     },
     "metadata": {},
     "output_type": "display_data"
    },
    {
     "name": "stderr",
     "output_type": "stream",
     "text": [
      "[15:00:22][INFO] Spyglass: Saving sorting results...\n",
      "28-Mar-25 15:00:22 Saving sorting results...\n",
      "[15:00:25][INFO] Spyglass: Running spike sorting on {'nwb_file_name': 'molly20220419_.nwb', 'sort_group_id': 53, 'sort_interval_name': '09_Seq2Sleep5', 'preproc_params_name': 'franklab_tetrode_hippocampus', 'team_name': 'SequenceTask', 'sorter': 'clusterless_thresholder', 'sorter_params_name': 'default', 'artifact_removed_interval_list_name': 'molly20220419_.nwb_09_Seq2Sleep5_53_franklab_tetrode_hippocampus_ampl_1500_prop_075_1ms_artifact_removed_valid_times_track_time_only'}...\n",
      "28-Mar-25 15:00:25 Running spike sorting on {'nwb_file_name': 'molly20220419_.nwb', 'sort_group_id': 53, 'sort_interval_name': '09_Seq2Sleep5', 'preproc_params_name': 'franklab_tetrode_hippocampus', 'team_name': 'SequenceTask', 'sorter': 'clusterless_thresholder', 'sorter_params_name': 'default', 'artifact_removed_interval_list_name': 'molly20220419_.nwb_09_Seq2Sleep5_53_franklab_tetrode_hippocampus_ampl_1500_prop_075_1ms_artifact_removed_valid_times_track_time_only'}...\n"
     ]
    },
    {
     "data": {
      "application/vnd.jupyter.widget-view+json": {
       "model_id": "9a0bf146b9be4e5db29ab3f639bfa310",
       "version_major": 2,
       "version_minor": 0
      },
      "text/plain": [
       "detect peaks using locally_exclusive:   0%|          | 0/2608 [00:00<?, ?it/s]"
      ]
     },
     "metadata": {},
     "output_type": "display_data"
    },
    {
     "name": "stderr",
     "output_type": "stream",
     "text": [
      "[15:00:29][INFO] Spyglass: Saving sorting results...\n",
      "28-Mar-25 15:00:29 Saving sorting results...\n",
      "[15:00:33][INFO] Spyglass: Running spike sorting on {'nwb_file_name': 'molly20220419_.nwb', 'sort_group_id': 60, 'sort_interval_name': '09_Seq2Sleep5', 'preproc_params_name': 'franklab_tetrode_hippocampus', 'team_name': 'SequenceTask', 'sorter': 'clusterless_thresholder', 'sorter_params_name': 'default', 'artifact_removed_interval_list_name': 'molly20220419_.nwb_09_Seq2Sleep5_60_franklab_tetrode_hippocampus_ampl_1500_prop_075_1ms_artifact_removed_valid_times_track_time_only'}...\n",
      "28-Mar-25 15:00:33 Running spike sorting on {'nwb_file_name': 'molly20220419_.nwb', 'sort_group_id': 60, 'sort_interval_name': '09_Seq2Sleep5', 'preproc_params_name': 'franklab_tetrode_hippocampus', 'team_name': 'SequenceTask', 'sorter': 'clusterless_thresholder', 'sorter_params_name': 'default', 'artifact_removed_interval_list_name': 'molly20220419_.nwb_09_Seq2Sleep5_60_franklab_tetrode_hippocampus_ampl_1500_prop_075_1ms_artifact_removed_valid_times_track_time_only'}...\n"
     ]
    },
    {
     "data": {
      "application/vnd.jupyter.widget-view+json": {
       "model_id": "7302b73006a8430890dff3ef1c117bc6",
       "version_major": 2,
       "version_minor": 0
      },
      "text/plain": [
       "detect peaks using locally_exclusive:   0%|          | 0/2608 [00:00<?, ?it/s]"
      ]
     },
     "metadata": {},
     "output_type": "display_data"
    },
    {
     "name": "stderr",
     "output_type": "stream",
     "text": [
      "[15:00:38][INFO] Spyglass: Saving sorting results...\n",
      "28-Mar-25 15:00:38 Saving sorting results...\n",
      "[15:00:41][INFO] Spyglass: Running spike sorting on {'nwb_file_name': 'molly20220419_.nwb', 'sort_group_id': 61, 'sort_interval_name': '09_Seq2Sleep5', 'preproc_params_name': 'franklab_tetrode_hippocampus', 'team_name': 'SequenceTask', 'sorter': 'clusterless_thresholder', 'sorter_params_name': 'default', 'artifact_removed_interval_list_name': 'molly20220419_.nwb_09_Seq2Sleep5_61_franklab_tetrode_hippocampus_ampl_1500_prop_075_1ms_artifact_removed_valid_times_track_time_only'}...\n",
      "28-Mar-25 15:00:41 Running spike sorting on {'nwb_file_name': 'molly20220419_.nwb', 'sort_group_id': 61, 'sort_interval_name': '09_Seq2Sleep5', 'preproc_params_name': 'franklab_tetrode_hippocampus', 'team_name': 'SequenceTask', 'sorter': 'clusterless_thresholder', 'sorter_params_name': 'default', 'artifact_removed_interval_list_name': 'molly20220419_.nwb_09_Seq2Sleep5_61_franklab_tetrode_hippocampus_ampl_1500_prop_075_1ms_artifact_removed_valid_times_track_time_only'}...\n"
     ]
    },
    {
     "data": {
      "application/vnd.jupyter.widget-view+json": {
       "model_id": "703e39789f1a4de78a60f6fc8f4bfb03",
       "version_major": 2,
       "version_minor": 0
      },
      "text/plain": [
       "detect peaks using locally_exclusive:   0%|          | 0/2608 [00:00<?, ?it/s]"
      ]
     },
     "metadata": {},
     "output_type": "display_data"
    },
    {
     "name": "stderr",
     "output_type": "stream",
     "text": [
      "[15:00:45][INFO] Spyglass: Saving sorting results...\n",
      "28-Mar-25 15:00:45 Saving sorting results...\n",
      "[15:00:48][INFO] Spyglass: Running spike sorting on {'nwb_file_name': 'molly20220419_.nwb', 'sort_group_id': 6, 'sort_interval_name': '09_Seq2Sleep5', 'preproc_params_name': 'franklab_tetrode_hippocampus', 'team_name': 'SequenceTask', 'sorter': 'clusterless_thresholder', 'sorter_params_name': 'default', 'artifact_removed_interval_list_name': 'molly20220419_.nwb_09_Seq2Sleep5_6_franklab_tetrode_hippocampus_ampl_1500_prop_075_1ms_artifact_removed_valid_times_track_time_only'}...\n",
      "28-Mar-25 15:00:48 Running spike sorting on {'nwb_file_name': 'molly20220419_.nwb', 'sort_group_id': 6, 'sort_interval_name': '09_Seq2Sleep5', 'preproc_params_name': 'franklab_tetrode_hippocampus', 'team_name': 'SequenceTask', 'sorter': 'clusterless_thresholder', 'sorter_params_name': 'default', 'artifact_removed_interval_list_name': 'molly20220419_.nwb_09_Seq2Sleep5_6_franklab_tetrode_hippocampus_ampl_1500_prop_075_1ms_artifact_removed_valid_times_track_time_only'}...\n"
     ]
    },
    {
     "data": {
      "application/vnd.jupyter.widget-view+json": {
       "model_id": "0ffb0a2d2b1a416ca733e3f977295da3",
       "version_major": 2,
       "version_minor": 0
      },
      "text/plain": [
       "detect peaks using locally_exclusive:   0%|          | 0/2608 [00:00<?, ?it/s]"
      ]
     },
     "metadata": {},
     "output_type": "display_data"
    },
    {
     "name": "stderr",
     "output_type": "stream",
     "text": [
      "[15:00:53][INFO] Spyglass: Saving sorting results...\n",
      "28-Mar-25 15:00:53 Saving sorting results...\n",
      "[15:00:57][INFO] Spyglass: Running spike sorting on {'nwb_file_name': 'molly20220419_.nwb', 'sort_group_id': 7, 'sort_interval_name': '09_Seq2Sleep5', 'preproc_params_name': 'franklab_tetrode_hippocampus', 'team_name': 'SequenceTask', 'sorter': 'clusterless_thresholder', 'sorter_params_name': 'default', 'artifact_removed_interval_list_name': 'molly20220419_.nwb_09_Seq2Sleep5_7_franklab_tetrode_hippocampus_ampl_1500_prop_075_1ms_artifact_removed_valid_times_track_time_only'}...\n",
      "28-Mar-25 15:00:57 Running spike sorting on {'nwb_file_name': 'molly20220419_.nwb', 'sort_group_id': 7, 'sort_interval_name': '09_Seq2Sleep5', 'preproc_params_name': 'franklab_tetrode_hippocampus', 'team_name': 'SequenceTask', 'sorter': 'clusterless_thresholder', 'sorter_params_name': 'default', 'artifact_removed_interval_list_name': 'molly20220419_.nwb_09_Seq2Sleep5_7_franklab_tetrode_hippocampus_ampl_1500_prop_075_1ms_artifact_removed_valid_times_track_time_only'}...\n"
     ]
    },
    {
     "data": {
      "application/vnd.jupyter.widget-view+json": {
       "model_id": "721031266ae244d6b32e0f806cba2a28",
       "version_major": 2,
       "version_minor": 0
      },
      "text/plain": [
       "detect peaks using locally_exclusive:   0%|          | 0/2608 [00:00<?, ?it/s]"
      ]
     },
     "metadata": {},
     "output_type": "display_data"
    },
    {
     "name": "stderr",
     "output_type": "stream",
     "text": [
      "[15:01:01][INFO] Spyglass: Saving sorting results...\n",
      "28-Mar-25 15:01:01 Saving sorting results...\n",
      "[15:01:05][INFO] Spyglass: Running spike sorting on {'nwb_file_name': 'molly20220419_.nwb', 'sort_group_id': 9, 'sort_interval_name': '09_Seq2Sleep5', 'preproc_params_name': 'franklab_tetrode_hippocampus', 'team_name': 'SequenceTask', 'sorter': 'clusterless_thresholder', 'sorter_params_name': 'default', 'artifact_removed_interval_list_name': 'molly20220419_.nwb_09_Seq2Sleep5_9_franklab_tetrode_hippocampus_ampl_1500_prop_075_1ms_artifact_removed_valid_times_track_time_only'}...\n",
      "28-Mar-25 15:01:05 Running spike sorting on {'nwb_file_name': 'molly20220419_.nwb', 'sort_group_id': 9, 'sort_interval_name': '09_Seq2Sleep5', 'preproc_params_name': 'franklab_tetrode_hippocampus', 'team_name': 'SequenceTask', 'sorter': 'clusterless_thresholder', 'sorter_params_name': 'default', 'artifact_removed_interval_list_name': 'molly20220419_.nwb_09_Seq2Sleep5_9_franklab_tetrode_hippocampus_ampl_1500_prop_075_1ms_artifact_removed_valid_times_track_time_only'}...\n"
     ]
    },
    {
     "data": {
      "application/vnd.jupyter.widget-view+json": {
       "model_id": "db40c09fdf674e03bf8f76e1343886c2",
       "version_major": 2,
       "version_minor": 0
      },
      "text/plain": [
       "detect peaks using locally_exclusive:   0%|          | 0/2608 [00:00<?, ?it/s]"
      ]
     },
     "metadata": {},
     "output_type": "display_data"
    },
    {
     "name": "stderr",
     "output_type": "stream",
     "text": [
      "[15:01:09][INFO] Spyglass: Saving sorting results...\n",
      "28-Mar-25 15:01:09 Saving sorting results...\n"
     ]
    },
    {
     "name": "stdout",
     "output_type": "stream",
     "text": [
      "0\n",
      "inserting into IntervalList\n",
      "done inserting into IntervalList\n",
      "2\n",
      "inserting into IntervalList\n",
      "done inserting into IntervalList\n",
      "3\n",
      "inserting into IntervalList\n",
      "done inserting into IntervalList\n",
      "6\n",
      "inserting into IntervalList\n",
      "done inserting into IntervalList\n",
      "7\n",
      "inserting into IntervalList\n",
      "done inserting into IntervalList\n",
      "9\n",
      "inserting into IntervalList\n",
      "done inserting into IntervalList\n",
      "10\n",
      "inserting into IntervalList\n",
      "done inserting into IntervalList\n",
      "12\n",
      "inserting into IntervalList\n",
      "done inserting into IntervalList\n",
      "15\n",
      "inserting into IntervalList\n",
      "done inserting into IntervalList\n",
      "17\n",
      "inserting into IntervalList\n",
      "done inserting into IntervalList\n",
      "18\n",
      "inserting into IntervalList\n",
      "done inserting into IntervalList\n",
      "24\n",
      "inserting into IntervalList\n",
      "done inserting into IntervalList\n",
      "25\n",
      "inserting into IntervalList\n",
      "done inserting into IntervalList\n",
      "27\n",
      "inserting into IntervalList\n",
      "done inserting into IntervalList\n",
      "34\n",
      "inserting into IntervalList\n",
      "done inserting into IntervalList\n",
      "37\n",
      "inserting into IntervalList\n",
      "done inserting into IntervalList\n",
      "39\n",
      "inserting into IntervalList\n",
      "done inserting into IntervalList\n",
      "40\n",
      "inserting into IntervalList\n",
      "done inserting into IntervalList\n",
      "41\n",
      "inserting into IntervalList\n",
      "done inserting into IntervalList\n",
      "46\n",
      "inserting into IntervalList\n",
      "done inserting into IntervalList\n",
      "50\n",
      "inserting into IntervalList\n",
      "done inserting into IntervalList\n",
      "52\n",
      "inserting into IntervalList\n",
      "done inserting into IntervalList\n",
      "53\n",
      "inserting into IntervalList\n",
      "done inserting into IntervalList\n",
      "60\n",
      "inserting into IntervalList\n",
      "done inserting into IntervalList\n",
      "61\n",
      "inserting into IntervalList\n",
      "done inserting into IntervalList\n"
     ]
    },
    {
     "name": "stderr",
     "output_type": "stream",
     "text": [
      "[15:01:12][INFO] Spyglass: Running spike sorting on {'nwb_file_name': 'molly20220419_.nwb', 'sort_group_id': 0, 'sort_interval_name': '11_Seq2Sleep6', 'preproc_params_name': 'franklab_tetrode_hippocampus', 'team_name': 'SequenceTask', 'sorter': 'clusterless_thresholder', 'sorter_params_name': 'default', 'artifact_removed_interval_list_name': 'molly20220419_.nwb_11_Seq2Sleep6_0_franklab_tetrode_hippocampus_ampl_1500_prop_075_1ms_artifact_removed_valid_times_track_time_only'}...\n",
      "28-Mar-25 15:01:12 Running spike sorting on {'nwb_file_name': 'molly20220419_.nwb', 'sort_group_id': 0, 'sort_interval_name': '11_Seq2Sleep6', 'preproc_params_name': 'franklab_tetrode_hippocampus', 'team_name': 'SequenceTask', 'sorter': 'clusterless_thresholder', 'sorter_params_name': 'default', 'artifact_removed_interval_list_name': 'molly20220419_.nwb_11_Seq2Sleep6_0_franklab_tetrode_hippocampus_ampl_1500_prop_075_1ms_artifact_removed_valid_times_track_time_only'}...\n"
     ]
    },
    {
     "data": {
      "application/vnd.jupyter.widget-view+json": {
       "model_id": "4b351fed010c4e9785a81069eb0107b8",
       "version_major": 2,
       "version_minor": 0
      },
      "text/plain": [
       "detect peaks using locally_exclusive:   0%|          | 0/1931 [00:00<?, ?it/s]"
      ]
     },
     "metadata": {},
     "output_type": "display_data"
    },
    {
     "name": "stderr",
     "output_type": "stream",
     "text": [
      "[15:01:16][INFO] Spyglass: Saving sorting results...\n",
      "28-Mar-25 15:01:16 Saving sorting results...\n",
      "[15:01:19][INFO] Spyglass: Running spike sorting on {'nwb_file_name': 'molly20220419_.nwb', 'sort_group_id': 10, 'sort_interval_name': '11_Seq2Sleep6', 'preproc_params_name': 'franklab_tetrode_hippocampus', 'team_name': 'SequenceTask', 'sorter': 'clusterless_thresholder', 'sorter_params_name': 'default', 'artifact_removed_interval_list_name': 'molly20220419_.nwb_11_Seq2Sleep6_10_franklab_tetrode_hippocampus_ampl_1500_prop_075_1ms_artifact_removed_valid_times_track_time_only'}...\n",
      "28-Mar-25 15:01:19 Running spike sorting on {'nwb_file_name': 'molly20220419_.nwb', 'sort_group_id': 10, 'sort_interval_name': '11_Seq2Sleep6', 'preproc_params_name': 'franklab_tetrode_hippocampus', 'team_name': 'SequenceTask', 'sorter': 'clusterless_thresholder', 'sorter_params_name': 'default', 'artifact_removed_interval_list_name': 'molly20220419_.nwb_11_Seq2Sleep6_10_franklab_tetrode_hippocampus_ampl_1500_prop_075_1ms_artifact_removed_valid_times_track_time_only'}...\n"
     ]
    },
    {
     "data": {
      "application/vnd.jupyter.widget-view+json": {
       "model_id": "50ddd75db66e4da8a774ae6f5b3913d9",
       "version_major": 2,
       "version_minor": 0
      },
      "text/plain": [
       "detect peaks using locally_exclusive:   0%|          | 0/1931 [00:00<?, ?it/s]"
      ]
     },
     "metadata": {},
     "output_type": "display_data"
    },
    {
     "name": "stderr",
     "output_type": "stream",
     "text": [
      "[15:01:23][INFO] Spyglass: Saving sorting results...\n",
      "28-Mar-25 15:01:23 Saving sorting results...\n",
      "[15:01:25][INFO] Spyglass: Running spike sorting on {'nwb_file_name': 'molly20220419_.nwb', 'sort_group_id': 12, 'sort_interval_name': '11_Seq2Sleep6', 'preproc_params_name': 'franklab_tetrode_hippocampus', 'team_name': 'SequenceTask', 'sorter': 'clusterless_thresholder', 'sorter_params_name': 'default', 'artifact_removed_interval_list_name': 'molly20220419_.nwb_11_Seq2Sleep6_12_franklab_tetrode_hippocampus_ampl_1500_prop_075_1ms_artifact_removed_valid_times_track_time_only'}...\n",
      "28-Mar-25 15:01:25 Running spike sorting on {'nwb_file_name': 'molly20220419_.nwb', 'sort_group_id': 12, 'sort_interval_name': '11_Seq2Sleep6', 'preproc_params_name': 'franklab_tetrode_hippocampus', 'team_name': 'SequenceTask', 'sorter': 'clusterless_thresholder', 'sorter_params_name': 'default', 'artifact_removed_interval_list_name': 'molly20220419_.nwb_11_Seq2Sleep6_12_franklab_tetrode_hippocampus_ampl_1500_prop_075_1ms_artifact_removed_valid_times_track_time_only'}...\n"
     ]
    },
    {
     "data": {
      "application/vnd.jupyter.widget-view+json": {
       "model_id": "ead6c84a5a4547b5838a6550b06b9773",
       "version_major": 2,
       "version_minor": 0
      },
      "text/plain": [
       "detect peaks using locally_exclusive:   0%|          | 0/1931 [00:00<?, ?it/s]"
      ]
     },
     "metadata": {},
     "output_type": "display_data"
    },
    {
     "name": "stderr",
     "output_type": "stream",
     "text": [
      "[15:01:29][INFO] Spyglass: Saving sorting results...\n",
      "28-Mar-25 15:01:29 Saving sorting results...\n",
      "[15:01:32][INFO] Spyglass: Running spike sorting on {'nwb_file_name': 'molly20220419_.nwb', 'sort_group_id': 15, 'sort_interval_name': '11_Seq2Sleep6', 'preproc_params_name': 'franklab_tetrode_hippocampus', 'team_name': 'SequenceTask', 'sorter': 'clusterless_thresholder', 'sorter_params_name': 'default', 'artifact_removed_interval_list_name': 'molly20220419_.nwb_11_Seq2Sleep6_15_franklab_tetrode_hippocampus_ampl_1500_prop_075_1ms_artifact_removed_valid_times_track_time_only'}...\n",
      "28-Mar-25 15:01:32 Running spike sorting on {'nwb_file_name': 'molly20220419_.nwb', 'sort_group_id': 15, 'sort_interval_name': '11_Seq2Sleep6', 'preproc_params_name': 'franklab_tetrode_hippocampus', 'team_name': 'SequenceTask', 'sorter': 'clusterless_thresholder', 'sorter_params_name': 'default', 'artifact_removed_interval_list_name': 'molly20220419_.nwb_11_Seq2Sleep6_15_franklab_tetrode_hippocampus_ampl_1500_prop_075_1ms_artifact_removed_valid_times_track_time_only'}...\n"
     ]
    },
    {
     "data": {
      "application/vnd.jupyter.widget-view+json": {
       "model_id": "2c5784f68b39447fb4988eb40d52261e",
       "version_major": 2,
       "version_minor": 0
      },
      "text/plain": [
       "detect peaks using locally_exclusive:   0%|          | 0/1931 [00:00<?, ?it/s]"
      ]
     },
     "metadata": {},
     "output_type": "display_data"
    },
    {
     "name": "stderr",
     "output_type": "stream",
     "text": [
      "[15:01:36][INFO] Spyglass: Saving sorting results...\n",
      "28-Mar-25 15:01:36 Saving sorting results...\n",
      "[15:01:38][INFO] Spyglass: Running spike sorting on {'nwb_file_name': 'molly20220419_.nwb', 'sort_group_id': 17, 'sort_interval_name': '11_Seq2Sleep6', 'preproc_params_name': 'franklab_tetrode_hippocampus', 'team_name': 'SequenceTask', 'sorter': 'clusterless_thresholder', 'sorter_params_name': 'default', 'artifact_removed_interval_list_name': 'molly20220419_.nwb_11_Seq2Sleep6_17_franklab_tetrode_hippocampus_ampl_1500_prop_075_1ms_artifact_removed_valid_times_track_time_only'}...\n",
      "28-Mar-25 15:01:38 Running spike sorting on {'nwb_file_name': 'molly20220419_.nwb', 'sort_group_id': 17, 'sort_interval_name': '11_Seq2Sleep6', 'preproc_params_name': 'franklab_tetrode_hippocampus', 'team_name': 'SequenceTask', 'sorter': 'clusterless_thresholder', 'sorter_params_name': 'default', 'artifact_removed_interval_list_name': 'molly20220419_.nwb_11_Seq2Sleep6_17_franklab_tetrode_hippocampus_ampl_1500_prop_075_1ms_artifact_removed_valid_times_track_time_only'}...\n"
     ]
    },
    {
     "data": {
      "application/vnd.jupyter.widget-view+json": {
       "model_id": "d4054ca281a245fc9ead4417491af4fe",
       "version_major": 2,
       "version_minor": 0
      },
      "text/plain": [
       "detect peaks using locally_exclusive:   0%|          | 0/1931 [00:00<?, ?it/s]"
      ]
     },
     "metadata": {},
     "output_type": "display_data"
    },
    {
     "name": "stderr",
     "output_type": "stream",
     "text": [
      "[15:01:42][INFO] Spyglass: Saving sorting results...\n",
      "28-Mar-25 15:01:42 Saving sorting results...\n",
      "[15:01:45][INFO] Spyglass: Running spike sorting on {'nwb_file_name': 'molly20220419_.nwb', 'sort_group_id': 18, 'sort_interval_name': '11_Seq2Sleep6', 'preproc_params_name': 'franklab_tetrode_hippocampus', 'team_name': 'SequenceTask', 'sorter': 'clusterless_thresholder', 'sorter_params_name': 'default', 'artifact_removed_interval_list_name': 'molly20220419_.nwb_11_Seq2Sleep6_18_franklab_tetrode_hippocampus_ampl_1500_prop_075_1ms_artifact_removed_valid_times_track_time_only'}...\n",
      "28-Mar-25 15:01:45 Running spike sorting on {'nwb_file_name': 'molly20220419_.nwb', 'sort_group_id': 18, 'sort_interval_name': '11_Seq2Sleep6', 'preproc_params_name': 'franklab_tetrode_hippocampus', 'team_name': 'SequenceTask', 'sorter': 'clusterless_thresholder', 'sorter_params_name': 'default', 'artifact_removed_interval_list_name': 'molly20220419_.nwb_11_Seq2Sleep6_18_franklab_tetrode_hippocampus_ampl_1500_prop_075_1ms_artifact_removed_valid_times_track_time_only'}...\n"
     ]
    },
    {
     "data": {
      "application/vnd.jupyter.widget-view+json": {
       "model_id": "ec61864a14994d3582fb8f0d155c020b",
       "version_major": 2,
       "version_minor": 0
      },
      "text/plain": [
       "detect peaks using locally_exclusive:   0%|          | 0/1931 [00:00<?, ?it/s]"
      ]
     },
     "metadata": {},
     "output_type": "display_data"
    },
    {
     "name": "stderr",
     "output_type": "stream",
     "text": [
      "[15:01:48][INFO] Spyglass: Saving sorting results...\n",
      "28-Mar-25 15:01:48 Saving sorting results...\n",
      "[15:01:51][INFO] Spyglass: Running spike sorting on {'nwb_file_name': 'molly20220419_.nwb', 'sort_group_id': 24, 'sort_interval_name': '11_Seq2Sleep6', 'preproc_params_name': 'franklab_tetrode_hippocampus', 'team_name': 'SequenceTask', 'sorter': 'clusterless_thresholder', 'sorter_params_name': 'default', 'artifact_removed_interval_list_name': 'molly20220419_.nwb_11_Seq2Sleep6_24_franklab_tetrode_hippocampus_ampl_1500_prop_075_1ms_artifact_removed_valid_times_track_time_only'}...\n",
      "28-Mar-25 15:01:51 Running spike sorting on {'nwb_file_name': 'molly20220419_.nwb', 'sort_group_id': 24, 'sort_interval_name': '11_Seq2Sleep6', 'preproc_params_name': 'franklab_tetrode_hippocampus', 'team_name': 'SequenceTask', 'sorter': 'clusterless_thresholder', 'sorter_params_name': 'default', 'artifact_removed_interval_list_name': 'molly20220419_.nwb_11_Seq2Sleep6_24_franklab_tetrode_hippocampus_ampl_1500_prop_075_1ms_artifact_removed_valid_times_track_time_only'}...\n"
     ]
    },
    {
     "data": {
      "application/vnd.jupyter.widget-view+json": {
       "model_id": "753377980e4943b0ae88fc217a61bea2",
       "version_major": 2,
       "version_minor": 0
      },
      "text/plain": [
       "detect peaks using locally_exclusive:   0%|          | 0/1931 [00:00<?, ?it/s]"
      ]
     },
     "metadata": {},
     "output_type": "display_data"
    },
    {
     "name": "stderr",
     "output_type": "stream",
     "text": [
      "[15:01:54][INFO] Spyglass: Saving sorting results...\n",
      "28-Mar-25 15:01:54 Saving sorting results...\n",
      "[15:01:57][INFO] Spyglass: Running spike sorting on {'nwb_file_name': 'molly20220419_.nwb', 'sort_group_id': 25, 'sort_interval_name': '11_Seq2Sleep6', 'preproc_params_name': 'franklab_tetrode_hippocampus', 'team_name': 'SequenceTask', 'sorter': 'clusterless_thresholder', 'sorter_params_name': 'default', 'artifact_removed_interval_list_name': 'molly20220419_.nwb_11_Seq2Sleep6_25_franklab_tetrode_hippocampus_ampl_1500_prop_075_1ms_artifact_removed_valid_times_track_time_only'}...\n",
      "28-Mar-25 15:01:57 Running spike sorting on {'nwb_file_name': 'molly20220419_.nwb', 'sort_group_id': 25, 'sort_interval_name': '11_Seq2Sleep6', 'preproc_params_name': 'franklab_tetrode_hippocampus', 'team_name': 'SequenceTask', 'sorter': 'clusterless_thresholder', 'sorter_params_name': 'default', 'artifact_removed_interval_list_name': 'molly20220419_.nwb_11_Seq2Sleep6_25_franklab_tetrode_hippocampus_ampl_1500_prop_075_1ms_artifact_removed_valid_times_track_time_only'}...\n"
     ]
    },
    {
     "data": {
      "application/vnd.jupyter.widget-view+json": {
       "model_id": "4c79241ae00741ec9e6207ea0aedc6c2",
       "version_major": 2,
       "version_minor": 0
      },
      "text/plain": [
       "detect peaks using locally_exclusive:   0%|          | 0/1931 [00:00<?, ?it/s]"
      ]
     },
     "metadata": {},
     "output_type": "display_data"
    },
    {
     "name": "stderr",
     "output_type": "stream",
     "text": [
      "[15:02:01][INFO] Spyglass: Saving sorting results...\n",
      "28-Mar-25 15:02:01 Saving sorting results...\n",
      "[15:02:03][INFO] Spyglass: Running spike sorting on {'nwb_file_name': 'molly20220419_.nwb', 'sort_group_id': 27, 'sort_interval_name': '11_Seq2Sleep6', 'preproc_params_name': 'franklab_tetrode_hippocampus', 'team_name': 'SequenceTask', 'sorter': 'clusterless_thresholder', 'sorter_params_name': 'default', 'artifact_removed_interval_list_name': 'molly20220419_.nwb_11_Seq2Sleep6_27_franklab_tetrode_hippocampus_ampl_1500_prop_075_1ms_artifact_removed_valid_times_track_time_only'}...\n",
      "28-Mar-25 15:02:03 Running spike sorting on {'nwb_file_name': 'molly20220419_.nwb', 'sort_group_id': 27, 'sort_interval_name': '11_Seq2Sleep6', 'preproc_params_name': 'franklab_tetrode_hippocampus', 'team_name': 'SequenceTask', 'sorter': 'clusterless_thresholder', 'sorter_params_name': 'default', 'artifact_removed_interval_list_name': 'molly20220419_.nwb_11_Seq2Sleep6_27_franklab_tetrode_hippocampus_ampl_1500_prop_075_1ms_artifact_removed_valid_times_track_time_only'}...\n"
     ]
    },
    {
     "data": {
      "application/vnd.jupyter.widget-view+json": {
       "model_id": "040c183e49f945248ad08c1c9009acd4",
       "version_major": 2,
       "version_minor": 0
      },
      "text/plain": [
       "detect peaks using locally_exclusive:   0%|          | 0/1931 [00:00<?, ?it/s]"
      ]
     },
     "metadata": {},
     "output_type": "display_data"
    },
    {
     "name": "stderr",
     "output_type": "stream",
     "text": [
      "[15:02:07][INFO] Spyglass: Saving sorting results...\n",
      "28-Mar-25 15:02:07 Saving sorting results...\n",
      "[15:02:09][INFO] Spyglass: Running spike sorting on {'nwb_file_name': 'molly20220419_.nwb', 'sort_group_id': 2, 'sort_interval_name': '11_Seq2Sleep6', 'preproc_params_name': 'franklab_tetrode_hippocampus', 'team_name': 'SequenceTask', 'sorter': 'clusterless_thresholder', 'sorter_params_name': 'default', 'artifact_removed_interval_list_name': 'molly20220419_.nwb_11_Seq2Sleep6_2_franklab_tetrode_hippocampus_ampl_1500_prop_075_1ms_artifact_removed_valid_times_track_time_only'}...\n",
      "28-Mar-25 15:02:09 Running spike sorting on {'nwb_file_name': 'molly20220419_.nwb', 'sort_group_id': 2, 'sort_interval_name': '11_Seq2Sleep6', 'preproc_params_name': 'franklab_tetrode_hippocampus', 'team_name': 'SequenceTask', 'sorter': 'clusterless_thresholder', 'sorter_params_name': 'default', 'artifact_removed_interval_list_name': 'molly20220419_.nwb_11_Seq2Sleep6_2_franklab_tetrode_hippocampus_ampl_1500_prop_075_1ms_artifact_removed_valid_times_track_time_only'}...\n"
     ]
    },
    {
     "data": {
      "application/vnd.jupyter.widget-view+json": {
       "model_id": "50ca239515f845c2b1584e96dd85ffe4",
       "version_major": 2,
       "version_minor": 0
      },
      "text/plain": [
       "detect peaks using locally_exclusive:   0%|          | 0/1931 [00:00<?, ?it/s]"
      ]
     },
     "metadata": {},
     "output_type": "display_data"
    },
    {
     "name": "stderr",
     "output_type": "stream",
     "text": [
      "[15:02:12][INFO] Spyglass: Saving sorting results...\n",
      "28-Mar-25 15:02:12 Saving sorting results...\n",
      "[15:02:15][INFO] Spyglass: Running spike sorting on {'nwb_file_name': 'molly20220419_.nwb', 'sort_group_id': 34, 'sort_interval_name': '11_Seq2Sleep6', 'preproc_params_name': 'franklab_tetrode_hippocampus', 'team_name': 'SequenceTask', 'sorter': 'clusterless_thresholder', 'sorter_params_name': 'default', 'artifact_removed_interval_list_name': 'molly20220419_.nwb_11_Seq2Sleep6_34_franklab_tetrode_hippocampus_ampl_1500_prop_075_1ms_artifact_removed_valid_times_track_time_only'}...\n",
      "28-Mar-25 15:02:15 Running spike sorting on {'nwb_file_name': 'molly20220419_.nwb', 'sort_group_id': 34, 'sort_interval_name': '11_Seq2Sleep6', 'preproc_params_name': 'franklab_tetrode_hippocampus', 'team_name': 'SequenceTask', 'sorter': 'clusterless_thresholder', 'sorter_params_name': 'default', 'artifact_removed_interval_list_name': 'molly20220419_.nwb_11_Seq2Sleep6_34_franklab_tetrode_hippocampus_ampl_1500_prop_075_1ms_artifact_removed_valid_times_track_time_only'}...\n"
     ]
    },
    {
     "data": {
      "application/vnd.jupyter.widget-view+json": {
       "model_id": "8d2547d95f8d4274b6bde4838f38afc9",
       "version_major": 2,
       "version_minor": 0
      },
      "text/plain": [
       "detect peaks using locally_exclusive:   0%|          | 0/1931 [00:00<?, ?it/s]"
      ]
     },
     "metadata": {},
     "output_type": "display_data"
    },
    {
     "name": "stderr",
     "output_type": "stream",
     "text": [
      "[15:02:18][INFO] Spyglass: Saving sorting results...\n",
      "28-Mar-25 15:02:18 Saving sorting results...\n",
      "[15:02:20][INFO] Spyglass: Running spike sorting on {'nwb_file_name': 'molly20220419_.nwb', 'sort_group_id': 37, 'sort_interval_name': '11_Seq2Sleep6', 'preproc_params_name': 'franklab_tetrode_hippocampus', 'team_name': 'SequenceTask', 'sorter': 'clusterless_thresholder', 'sorter_params_name': 'default', 'artifact_removed_interval_list_name': 'molly20220419_.nwb_11_Seq2Sleep6_37_franklab_tetrode_hippocampus_ampl_1500_prop_075_1ms_artifact_removed_valid_times_track_time_only'}...\n",
      "28-Mar-25 15:02:20 Running spike sorting on {'nwb_file_name': 'molly20220419_.nwb', 'sort_group_id': 37, 'sort_interval_name': '11_Seq2Sleep6', 'preproc_params_name': 'franklab_tetrode_hippocampus', 'team_name': 'SequenceTask', 'sorter': 'clusterless_thresholder', 'sorter_params_name': 'default', 'artifact_removed_interval_list_name': 'molly20220419_.nwb_11_Seq2Sleep6_37_franklab_tetrode_hippocampus_ampl_1500_prop_075_1ms_artifact_removed_valid_times_track_time_only'}...\n"
     ]
    },
    {
     "data": {
      "application/vnd.jupyter.widget-view+json": {
       "model_id": "4bd3f434936a484db51b4d4bf635a87d",
       "version_major": 2,
       "version_minor": 0
      },
      "text/plain": [
       "detect peaks using locally_exclusive:   0%|          | 0/1931 [00:00<?, ?it/s]"
      ]
     },
     "metadata": {},
     "output_type": "display_data"
    },
    {
     "name": "stderr",
     "output_type": "stream",
     "text": [
      "[15:02:29][INFO] Spyglass: Saving sorting results...\n",
      "28-Mar-25 15:02:29 Saving sorting results...\n",
      "[15:02:32][INFO] Spyglass: Running spike sorting on {'nwb_file_name': 'molly20220419_.nwb', 'sort_group_id': 39, 'sort_interval_name': '11_Seq2Sleep6', 'preproc_params_name': 'franklab_tetrode_hippocampus', 'team_name': 'SequenceTask', 'sorter': 'clusterless_thresholder', 'sorter_params_name': 'default', 'artifact_removed_interval_list_name': 'molly20220419_.nwb_11_Seq2Sleep6_39_franklab_tetrode_hippocampus_ampl_1500_prop_075_1ms_artifact_removed_valid_times_track_time_only'}...\n",
      "28-Mar-25 15:02:32 Running spike sorting on {'nwb_file_name': 'molly20220419_.nwb', 'sort_group_id': 39, 'sort_interval_name': '11_Seq2Sleep6', 'preproc_params_name': 'franklab_tetrode_hippocampus', 'team_name': 'SequenceTask', 'sorter': 'clusterless_thresholder', 'sorter_params_name': 'default', 'artifact_removed_interval_list_name': 'molly20220419_.nwb_11_Seq2Sleep6_39_franklab_tetrode_hippocampus_ampl_1500_prop_075_1ms_artifact_removed_valid_times_track_time_only'}...\n"
     ]
    },
    {
     "data": {
      "application/vnd.jupyter.widget-view+json": {
       "model_id": "3b5637d1bc4b4f32a435e4ff414c3c93",
       "version_major": 2,
       "version_minor": 0
      },
      "text/plain": [
       "detect peaks using locally_exclusive:   0%|          | 0/1931 [00:00<?, ?it/s]"
      ]
     },
     "metadata": {},
     "output_type": "display_data"
    },
    {
     "name": "stderr",
     "output_type": "stream",
     "text": [
      "[15:02:35][INFO] Spyglass: Saving sorting results...\n",
      "28-Mar-25 15:02:35 Saving sorting results...\n",
      "[15:02:38][INFO] Spyglass: Running spike sorting on {'nwb_file_name': 'molly20220419_.nwb', 'sort_group_id': 3, 'sort_interval_name': '11_Seq2Sleep6', 'preproc_params_name': 'franklab_tetrode_hippocampus', 'team_name': 'SequenceTask', 'sorter': 'clusterless_thresholder', 'sorter_params_name': 'default', 'artifact_removed_interval_list_name': 'molly20220419_.nwb_11_Seq2Sleep6_3_franklab_tetrode_hippocampus_ampl_1500_prop_075_1ms_artifact_removed_valid_times_track_time_only'}...\n",
      "28-Mar-25 15:02:38 Running spike sorting on {'nwb_file_name': 'molly20220419_.nwb', 'sort_group_id': 3, 'sort_interval_name': '11_Seq2Sleep6', 'preproc_params_name': 'franklab_tetrode_hippocampus', 'team_name': 'SequenceTask', 'sorter': 'clusterless_thresholder', 'sorter_params_name': 'default', 'artifact_removed_interval_list_name': 'molly20220419_.nwb_11_Seq2Sleep6_3_franklab_tetrode_hippocampus_ampl_1500_prop_075_1ms_artifact_removed_valid_times_track_time_only'}...\n"
     ]
    },
    {
     "data": {
      "application/vnd.jupyter.widget-view+json": {
       "model_id": "f25c238fac744a8ea233b4fdca0d90db",
       "version_major": 2,
       "version_minor": 0
      },
      "text/plain": [
       "detect peaks using locally_exclusive:   0%|          | 0/1931 [00:00<?, ?it/s]"
      ]
     },
     "metadata": {},
     "output_type": "display_data"
    },
    {
     "name": "stderr",
     "output_type": "stream",
     "text": [
      "[15:02:42][INFO] Spyglass: Saving sorting results...\n",
      "28-Mar-25 15:02:42 Saving sorting results...\n",
      "[15:02:45][INFO] Spyglass: Running spike sorting on {'nwb_file_name': 'molly20220419_.nwb', 'sort_group_id': 40, 'sort_interval_name': '11_Seq2Sleep6', 'preproc_params_name': 'franklab_tetrode_hippocampus', 'team_name': 'SequenceTask', 'sorter': 'clusterless_thresholder', 'sorter_params_name': 'default', 'artifact_removed_interval_list_name': 'molly20220419_.nwb_11_Seq2Sleep6_40_franklab_tetrode_hippocampus_ampl_1500_prop_075_1ms_artifact_removed_valid_times_track_time_only'}...\n",
      "28-Mar-25 15:02:45 Running spike sorting on {'nwb_file_name': 'molly20220419_.nwb', 'sort_group_id': 40, 'sort_interval_name': '11_Seq2Sleep6', 'preproc_params_name': 'franklab_tetrode_hippocampus', 'team_name': 'SequenceTask', 'sorter': 'clusterless_thresholder', 'sorter_params_name': 'default', 'artifact_removed_interval_list_name': 'molly20220419_.nwb_11_Seq2Sleep6_40_franklab_tetrode_hippocampus_ampl_1500_prop_075_1ms_artifact_removed_valid_times_track_time_only'}...\n"
     ]
    },
    {
     "data": {
      "application/vnd.jupyter.widget-view+json": {
       "model_id": "8dbe7c1a84f24328a5a1ae30daf75de2",
       "version_major": 2,
       "version_minor": 0
      },
      "text/plain": [
       "detect peaks using locally_exclusive:   0%|          | 0/1931 [00:00<?, ?it/s]"
      ]
     },
     "metadata": {},
     "output_type": "display_data"
    },
    {
     "name": "stderr",
     "output_type": "stream",
     "text": [
      "[15:02:50][INFO] Spyglass: Saving sorting results...\n",
      "28-Mar-25 15:02:50 Saving sorting results...\n",
      "[15:02:52][INFO] Spyglass: Running spike sorting on {'nwb_file_name': 'molly20220419_.nwb', 'sort_group_id': 41, 'sort_interval_name': '11_Seq2Sleep6', 'preproc_params_name': 'franklab_tetrode_hippocampus', 'team_name': 'SequenceTask', 'sorter': 'clusterless_thresholder', 'sorter_params_name': 'default', 'artifact_removed_interval_list_name': 'molly20220419_.nwb_11_Seq2Sleep6_41_franklab_tetrode_hippocampus_ampl_1500_prop_075_1ms_artifact_removed_valid_times_track_time_only'}...\n",
      "28-Mar-25 15:02:52 Running spike sorting on {'nwb_file_name': 'molly20220419_.nwb', 'sort_group_id': 41, 'sort_interval_name': '11_Seq2Sleep6', 'preproc_params_name': 'franklab_tetrode_hippocampus', 'team_name': 'SequenceTask', 'sorter': 'clusterless_thresholder', 'sorter_params_name': 'default', 'artifact_removed_interval_list_name': 'molly20220419_.nwb_11_Seq2Sleep6_41_franklab_tetrode_hippocampus_ampl_1500_prop_075_1ms_artifact_removed_valid_times_track_time_only'}...\n"
     ]
    },
    {
     "data": {
      "application/vnd.jupyter.widget-view+json": {
       "model_id": "1f1ff90650a74c83897e07b47e3def58",
       "version_major": 2,
       "version_minor": 0
      },
      "text/plain": [
       "detect peaks using locally_exclusive:   0%|          | 0/1931 [00:00<?, ?it/s]"
      ]
     },
     "metadata": {},
     "output_type": "display_data"
    },
    {
     "name": "stderr",
     "output_type": "stream",
     "text": [
      "[15:02:57][INFO] Spyglass: Saving sorting results...\n",
      "28-Mar-25 15:02:57 Saving sorting results...\n",
      "[15:03:00][INFO] Spyglass: Running spike sorting on {'nwb_file_name': 'molly20220419_.nwb', 'sort_group_id': 46, 'sort_interval_name': '11_Seq2Sleep6', 'preproc_params_name': 'franklab_tetrode_hippocampus', 'team_name': 'SequenceTask', 'sorter': 'clusterless_thresholder', 'sorter_params_name': 'default', 'artifact_removed_interval_list_name': 'molly20220419_.nwb_11_Seq2Sleep6_46_franklab_tetrode_hippocampus_ampl_1500_prop_075_1ms_artifact_removed_valid_times_track_time_only'}...\n",
      "28-Mar-25 15:03:00 Running spike sorting on {'nwb_file_name': 'molly20220419_.nwb', 'sort_group_id': 46, 'sort_interval_name': '11_Seq2Sleep6', 'preproc_params_name': 'franklab_tetrode_hippocampus', 'team_name': 'SequenceTask', 'sorter': 'clusterless_thresholder', 'sorter_params_name': 'default', 'artifact_removed_interval_list_name': 'molly20220419_.nwb_11_Seq2Sleep6_46_franklab_tetrode_hippocampus_ampl_1500_prop_075_1ms_artifact_removed_valid_times_track_time_only'}...\n"
     ]
    },
    {
     "data": {
      "application/vnd.jupyter.widget-view+json": {
       "model_id": "b49c52765ec94cf9ae015387457b8543",
       "version_major": 2,
       "version_minor": 0
      },
      "text/plain": [
       "detect peaks using locally_exclusive:   0%|          | 0/1931 [00:00<?, ?it/s]"
      ]
     },
     "metadata": {},
     "output_type": "display_data"
    },
    {
     "name": "stderr",
     "output_type": "stream",
     "text": [
      "[15:03:04][INFO] Spyglass: Saving sorting results...\n",
      "28-Mar-25 15:03:04 Saving sorting results...\n",
      "[15:03:06][INFO] Spyglass: Running spike sorting on {'nwb_file_name': 'molly20220419_.nwb', 'sort_group_id': 50, 'sort_interval_name': '11_Seq2Sleep6', 'preproc_params_name': 'franklab_tetrode_hippocampus', 'team_name': 'SequenceTask', 'sorter': 'clusterless_thresholder', 'sorter_params_name': 'default', 'artifact_removed_interval_list_name': 'molly20220419_.nwb_11_Seq2Sleep6_50_franklab_tetrode_hippocampus_ampl_1500_prop_075_1ms_artifact_removed_valid_times_track_time_only'}...\n",
      "28-Mar-25 15:03:06 Running spike sorting on {'nwb_file_name': 'molly20220419_.nwb', 'sort_group_id': 50, 'sort_interval_name': '11_Seq2Sleep6', 'preproc_params_name': 'franklab_tetrode_hippocampus', 'team_name': 'SequenceTask', 'sorter': 'clusterless_thresholder', 'sorter_params_name': 'default', 'artifact_removed_interval_list_name': 'molly20220419_.nwb_11_Seq2Sleep6_50_franklab_tetrode_hippocampus_ampl_1500_prop_075_1ms_artifact_removed_valid_times_track_time_only'}...\n"
     ]
    },
    {
     "data": {
      "application/vnd.jupyter.widget-view+json": {
       "model_id": "8620c1271b3345da8f2bab7f0e96f439",
       "version_major": 2,
       "version_minor": 0
      },
      "text/plain": [
       "detect peaks using locally_exclusive:   0%|          | 0/1931 [00:00<?, ?it/s]"
      ]
     },
     "metadata": {},
     "output_type": "display_data"
    },
    {
     "name": "stderr",
     "output_type": "stream",
     "text": [
      "[15:03:11][INFO] Spyglass: Saving sorting results...\n",
      "28-Mar-25 15:03:11 Saving sorting results...\n",
      "[15:03:13][INFO] Spyglass: Running spike sorting on {'nwb_file_name': 'molly20220419_.nwb', 'sort_group_id': 52, 'sort_interval_name': '11_Seq2Sleep6', 'preproc_params_name': 'franklab_tetrode_hippocampus', 'team_name': 'SequenceTask', 'sorter': 'clusterless_thresholder', 'sorter_params_name': 'default', 'artifact_removed_interval_list_name': 'molly20220419_.nwb_11_Seq2Sleep6_52_franklab_tetrode_hippocampus_ampl_1500_prop_075_1ms_artifact_removed_valid_times_track_time_only'}...\n",
      "28-Mar-25 15:03:13 Running spike sorting on {'nwb_file_name': 'molly20220419_.nwb', 'sort_group_id': 52, 'sort_interval_name': '11_Seq2Sleep6', 'preproc_params_name': 'franklab_tetrode_hippocampus', 'team_name': 'SequenceTask', 'sorter': 'clusterless_thresholder', 'sorter_params_name': 'default', 'artifact_removed_interval_list_name': 'molly20220419_.nwb_11_Seq2Sleep6_52_franklab_tetrode_hippocampus_ampl_1500_prop_075_1ms_artifact_removed_valid_times_track_time_only'}...\n"
     ]
    },
    {
     "data": {
      "application/vnd.jupyter.widget-view+json": {
       "model_id": "08a03439d3fc4f39a489b30a787f1a50",
       "version_major": 2,
       "version_minor": 0
      },
      "text/plain": [
       "detect peaks using locally_exclusive:   0%|          | 0/1931 [00:00<?, ?it/s]"
      ]
     },
     "metadata": {},
     "output_type": "display_data"
    },
    {
     "name": "stderr",
     "output_type": "stream",
     "text": [
      "[15:03:18][INFO] Spyglass: Saving sorting results...\n",
      "28-Mar-25 15:03:18 Saving sorting results...\n",
      "[15:03:20][INFO] Spyglass: Running spike sorting on {'nwb_file_name': 'molly20220419_.nwb', 'sort_group_id': 53, 'sort_interval_name': '11_Seq2Sleep6', 'preproc_params_name': 'franklab_tetrode_hippocampus', 'team_name': 'SequenceTask', 'sorter': 'clusterless_thresholder', 'sorter_params_name': 'default', 'artifact_removed_interval_list_name': 'molly20220419_.nwb_11_Seq2Sleep6_53_franklab_tetrode_hippocampus_ampl_1500_prop_075_1ms_artifact_removed_valid_times_track_time_only'}...\n",
      "28-Mar-25 15:03:20 Running spike sorting on {'nwb_file_name': 'molly20220419_.nwb', 'sort_group_id': 53, 'sort_interval_name': '11_Seq2Sleep6', 'preproc_params_name': 'franklab_tetrode_hippocampus', 'team_name': 'SequenceTask', 'sorter': 'clusterless_thresholder', 'sorter_params_name': 'default', 'artifact_removed_interval_list_name': 'molly20220419_.nwb_11_Seq2Sleep6_53_franklab_tetrode_hippocampus_ampl_1500_prop_075_1ms_artifact_removed_valid_times_track_time_only'}...\n"
     ]
    },
    {
     "data": {
      "application/vnd.jupyter.widget-view+json": {
       "model_id": "eeaa972918d94197b8514946b19ff222",
       "version_major": 2,
       "version_minor": 0
      },
      "text/plain": [
       "detect peaks using locally_exclusive:   0%|          | 0/1931 [00:00<?, ?it/s]"
      ]
     },
     "metadata": {},
     "output_type": "display_data"
    },
    {
     "name": "stderr",
     "output_type": "stream",
     "text": [
      "[15:03:25][INFO] Spyglass: Saving sorting results...\n",
      "28-Mar-25 15:03:25 Saving sorting results...\n",
      "[15:03:28][INFO] Spyglass: Running spike sorting on {'nwb_file_name': 'molly20220419_.nwb', 'sort_group_id': 60, 'sort_interval_name': '11_Seq2Sleep6', 'preproc_params_name': 'franklab_tetrode_hippocampus', 'team_name': 'SequenceTask', 'sorter': 'clusterless_thresholder', 'sorter_params_name': 'default', 'artifact_removed_interval_list_name': 'molly20220419_.nwb_11_Seq2Sleep6_60_franklab_tetrode_hippocampus_ampl_1500_prop_075_1ms_artifact_removed_valid_times_track_time_only'}...\n",
      "28-Mar-25 15:03:28 Running spike sorting on {'nwb_file_name': 'molly20220419_.nwb', 'sort_group_id': 60, 'sort_interval_name': '11_Seq2Sleep6', 'preproc_params_name': 'franklab_tetrode_hippocampus', 'team_name': 'SequenceTask', 'sorter': 'clusterless_thresholder', 'sorter_params_name': 'default', 'artifact_removed_interval_list_name': 'molly20220419_.nwb_11_Seq2Sleep6_60_franklab_tetrode_hippocampus_ampl_1500_prop_075_1ms_artifact_removed_valid_times_track_time_only'}...\n"
     ]
    },
    {
     "data": {
      "application/vnd.jupyter.widget-view+json": {
       "model_id": "19e53d18e11d4ee0b0e8297706d36412",
       "version_major": 2,
       "version_minor": 0
      },
      "text/plain": [
       "detect peaks using locally_exclusive:   0%|          | 0/1931 [00:00<?, ?it/s]"
      ]
     },
     "metadata": {},
     "output_type": "display_data"
    },
    {
     "name": "stderr",
     "output_type": "stream",
     "text": [
      "[15:03:33][INFO] Spyglass: Saving sorting results...\n",
      "28-Mar-25 15:03:33 Saving sorting results...\n",
      "[15:03:35][INFO] Spyglass: Running spike sorting on {'nwb_file_name': 'molly20220419_.nwb', 'sort_group_id': 61, 'sort_interval_name': '11_Seq2Sleep6', 'preproc_params_name': 'franklab_tetrode_hippocampus', 'team_name': 'SequenceTask', 'sorter': 'clusterless_thresholder', 'sorter_params_name': 'default', 'artifact_removed_interval_list_name': 'molly20220419_.nwb_11_Seq2Sleep6_61_franklab_tetrode_hippocampus_ampl_1500_prop_075_1ms_artifact_removed_valid_times_track_time_only'}...\n",
      "28-Mar-25 15:03:35 Running spike sorting on {'nwb_file_name': 'molly20220419_.nwb', 'sort_group_id': 61, 'sort_interval_name': '11_Seq2Sleep6', 'preproc_params_name': 'franklab_tetrode_hippocampus', 'team_name': 'SequenceTask', 'sorter': 'clusterless_thresholder', 'sorter_params_name': 'default', 'artifact_removed_interval_list_name': 'molly20220419_.nwb_11_Seq2Sleep6_61_franklab_tetrode_hippocampus_ampl_1500_prop_075_1ms_artifact_removed_valid_times_track_time_only'}...\n"
     ]
    },
    {
     "data": {
      "application/vnd.jupyter.widget-view+json": {
       "model_id": "402e20753748436b8a47f270502bc965",
       "version_major": 2,
       "version_minor": 0
      },
      "text/plain": [
       "detect peaks using locally_exclusive:   0%|          | 0/1931 [00:00<?, ?it/s]"
      ]
     },
     "metadata": {},
     "output_type": "display_data"
    },
    {
     "name": "stderr",
     "output_type": "stream",
     "text": [
      "[15:03:39][INFO] Spyglass: Saving sorting results...\n",
      "28-Mar-25 15:03:39 Saving sorting results...\n",
      "[15:03:41][INFO] Spyglass: Running spike sorting on {'nwb_file_name': 'molly20220419_.nwb', 'sort_group_id': 6, 'sort_interval_name': '11_Seq2Sleep6', 'preproc_params_name': 'franklab_tetrode_hippocampus', 'team_name': 'SequenceTask', 'sorter': 'clusterless_thresholder', 'sorter_params_name': 'default', 'artifact_removed_interval_list_name': 'molly20220419_.nwb_11_Seq2Sleep6_6_franklab_tetrode_hippocampus_ampl_1500_prop_075_1ms_artifact_removed_valid_times_track_time_only'}...\n",
      "28-Mar-25 15:03:41 Running spike sorting on {'nwb_file_name': 'molly20220419_.nwb', 'sort_group_id': 6, 'sort_interval_name': '11_Seq2Sleep6', 'preproc_params_name': 'franklab_tetrode_hippocampus', 'team_name': 'SequenceTask', 'sorter': 'clusterless_thresholder', 'sorter_params_name': 'default', 'artifact_removed_interval_list_name': 'molly20220419_.nwb_11_Seq2Sleep6_6_franklab_tetrode_hippocampus_ampl_1500_prop_075_1ms_artifact_removed_valid_times_track_time_only'}...\n"
     ]
    },
    {
     "data": {
      "application/vnd.jupyter.widget-view+json": {
       "model_id": "6f60aaac17ee4717b34b28af6c526e87",
       "version_major": 2,
       "version_minor": 0
      },
      "text/plain": [
       "detect peaks using locally_exclusive:   0%|          | 0/1931 [00:00<?, ?it/s]"
      ]
     },
     "metadata": {},
     "output_type": "display_data"
    },
    {
     "name": "stderr",
     "output_type": "stream",
     "text": [
      "[15:03:45][INFO] Spyglass: Saving sorting results...\n",
      "28-Mar-25 15:03:45 Saving sorting results...\n",
      "[15:03:47][INFO] Spyglass: Running spike sorting on {'nwb_file_name': 'molly20220419_.nwb', 'sort_group_id': 7, 'sort_interval_name': '11_Seq2Sleep6', 'preproc_params_name': 'franklab_tetrode_hippocampus', 'team_name': 'SequenceTask', 'sorter': 'clusterless_thresholder', 'sorter_params_name': 'default', 'artifact_removed_interval_list_name': 'molly20220419_.nwb_11_Seq2Sleep6_7_franklab_tetrode_hippocampus_ampl_1500_prop_075_1ms_artifact_removed_valid_times_track_time_only'}...\n",
      "28-Mar-25 15:03:47 Running spike sorting on {'nwb_file_name': 'molly20220419_.nwb', 'sort_group_id': 7, 'sort_interval_name': '11_Seq2Sleep6', 'preproc_params_name': 'franklab_tetrode_hippocampus', 'team_name': 'SequenceTask', 'sorter': 'clusterless_thresholder', 'sorter_params_name': 'default', 'artifact_removed_interval_list_name': 'molly20220419_.nwb_11_Seq2Sleep6_7_franklab_tetrode_hippocampus_ampl_1500_prop_075_1ms_artifact_removed_valid_times_track_time_only'}...\n"
     ]
    },
    {
     "data": {
      "application/vnd.jupyter.widget-view+json": {
       "model_id": "d0381765761b48f79d5270e6bfa22c5d",
       "version_major": 2,
       "version_minor": 0
      },
      "text/plain": [
       "detect peaks using locally_exclusive:   0%|          | 0/1931 [00:00<?, ?it/s]"
      ]
     },
     "metadata": {},
     "output_type": "display_data"
    },
    {
     "name": "stderr",
     "output_type": "stream",
     "text": [
      "[15:03:51][INFO] Spyglass: Saving sorting results...\n",
      "28-Mar-25 15:03:51 Saving sorting results...\n",
      "[15:03:53][INFO] Spyglass: Running spike sorting on {'nwb_file_name': 'molly20220419_.nwb', 'sort_group_id': 9, 'sort_interval_name': '11_Seq2Sleep6', 'preproc_params_name': 'franklab_tetrode_hippocampus', 'team_name': 'SequenceTask', 'sorter': 'clusterless_thresholder', 'sorter_params_name': 'default', 'artifact_removed_interval_list_name': 'molly20220419_.nwb_11_Seq2Sleep6_9_franklab_tetrode_hippocampus_ampl_1500_prop_075_1ms_artifact_removed_valid_times_track_time_only'}...\n",
      "28-Mar-25 15:03:53 Running spike sorting on {'nwb_file_name': 'molly20220419_.nwb', 'sort_group_id': 9, 'sort_interval_name': '11_Seq2Sleep6', 'preproc_params_name': 'franklab_tetrode_hippocampus', 'team_name': 'SequenceTask', 'sorter': 'clusterless_thresholder', 'sorter_params_name': 'default', 'artifact_removed_interval_list_name': 'molly20220419_.nwb_11_Seq2Sleep6_9_franklab_tetrode_hippocampus_ampl_1500_prop_075_1ms_artifact_removed_valid_times_track_time_only'}...\n"
     ]
    },
    {
     "data": {
      "application/vnd.jupyter.widget-view+json": {
       "model_id": "5ce2f8817e0e4638b9d6457df965fb25",
       "version_major": 2,
       "version_minor": 0
      },
      "text/plain": [
       "detect peaks using locally_exclusive:   0%|          | 0/1931 [00:00<?, ?it/s]"
      ]
     },
     "metadata": {},
     "output_type": "display_data"
    },
    {
     "name": "stderr",
     "output_type": "stream",
     "text": [
      "[15:03:57][INFO] Spyglass: Saving sorting results...\n",
      "28-Mar-25 15:03:57 Saving sorting results...\n"
     ]
    }
   ],
   "source": [
    "for e in sleep_interval:\n",
    "    thresholder_sort(nwb_copy_file_name,e,True)"
   ]
  },
  {
   "cell_type": "code",
   "execution_count": 23,
   "id": "54099a95-1554-4aea-822c-668b3688f0a5",
   "metadata": {},
   "outputs": [
    {
     "name": "stdout",
     "output_type": "stream",
     "text": [
      "> \u001b[0;32m/home/shijiegu/anaconda3/envs/spyglass/lib/python3.9/site-packages/datajoint/connection.py\u001b[0m(296)\u001b[0;36m_execute_query\u001b[0;34m()\u001b[0m\n",
      "\u001b[0;32m    294 \u001b[0;31m                \u001b[0mcursor\u001b[0m\u001b[0;34m.\u001b[0m\u001b[0mexecute\u001b[0m\u001b[0;34m(\u001b[0m\u001b[0mquery\u001b[0m\u001b[0;34m,\u001b[0m \u001b[0margs\u001b[0m\u001b[0;34m)\u001b[0m\u001b[0;34m\u001b[0m\u001b[0;34m\u001b[0m\u001b[0m\n",
      "\u001b[0m\u001b[0;32m    295 \u001b[0;31m        \u001b[0;32mexcept\u001b[0m \u001b[0mclient\u001b[0m\u001b[0;34m.\u001b[0m\u001b[0merr\u001b[0m\u001b[0;34m.\u001b[0m\u001b[0mError\u001b[0m \u001b[0;32mas\u001b[0m \u001b[0merr\u001b[0m\u001b[0;34m:\u001b[0m\u001b[0;34m\u001b[0m\u001b[0;34m\u001b[0m\u001b[0m\n",
      "\u001b[0m\u001b[0;32m--> 296 \u001b[0;31m            \u001b[0;32mraise\u001b[0m \u001b[0mtranslate_query_error\u001b[0m\u001b[0;34m(\u001b[0m\u001b[0merr\u001b[0m\u001b[0;34m,\u001b[0m \u001b[0mquery\u001b[0m\u001b[0;34m)\u001b[0m\u001b[0;34m\u001b[0m\u001b[0;34m\u001b[0m\u001b[0m\n",
      "\u001b[0m\u001b[0;32m    297 \u001b[0;31m\u001b[0;34m\u001b[0m\u001b[0m\n",
      "\u001b[0m\u001b[0;32m    298 \u001b[0;31m    def query(\n",
      "\u001b[0m\n"
     ]
    },
    {
     "name": "stdin",
     "output_type": "stream",
     "text": [
      "ipdb>  u\n"
     ]
    },
    {
     "name": "stdout",
     "output_type": "stream",
     "text": [
      "> \u001b[0;32m/home/shijiegu/anaconda3/envs/spyglass/lib/python3.9/site-packages/datajoint/connection.py\u001b[0m(340)\u001b[0;36mquery\u001b[0;34m()\u001b[0m\n",
      "\u001b[0;32m    338 \u001b[0;31m        \u001b[0mcursor\u001b[0m \u001b[0;34m=\u001b[0m \u001b[0mself\u001b[0m\u001b[0;34m.\u001b[0m\u001b[0m_conn\u001b[0m\u001b[0;34m.\u001b[0m\u001b[0mcursor\u001b[0m\u001b[0;34m(\u001b[0m\u001b[0mcursor\u001b[0m\u001b[0;34m=\u001b[0m\u001b[0mcursor_class\u001b[0m\u001b[0;34m)\u001b[0m\u001b[0;34m\u001b[0m\u001b[0;34m\u001b[0m\u001b[0m\n",
      "\u001b[0m\u001b[0;32m    339 \u001b[0;31m        \u001b[0;32mtry\u001b[0m\u001b[0;34m:\u001b[0m\u001b[0;34m\u001b[0m\u001b[0;34m\u001b[0m\u001b[0m\n",
      "\u001b[0m\u001b[0;32m--> 340 \u001b[0;31m            \u001b[0mself\u001b[0m\u001b[0;34m.\u001b[0m\u001b[0m_execute_query\u001b[0m\u001b[0;34m(\u001b[0m\u001b[0mcursor\u001b[0m\u001b[0;34m,\u001b[0m \u001b[0mquery\u001b[0m\u001b[0;34m,\u001b[0m \u001b[0margs\u001b[0m\u001b[0;34m,\u001b[0m \u001b[0msuppress_warnings\u001b[0m\u001b[0;34m)\u001b[0m\u001b[0;34m\u001b[0m\u001b[0;34m\u001b[0m\u001b[0m\n",
      "\u001b[0m\u001b[0;32m    341 \u001b[0;31m        \u001b[0;32mexcept\u001b[0m \u001b[0merrors\u001b[0m\u001b[0;34m.\u001b[0m\u001b[0mLostConnectionError\u001b[0m\u001b[0;34m:\u001b[0m\u001b[0;34m\u001b[0m\u001b[0;34m\u001b[0m\u001b[0m\n",
      "\u001b[0m\u001b[0;32m    342 \u001b[0;31m            \u001b[0;32mif\u001b[0m \u001b[0;32mnot\u001b[0m \u001b[0mreconnect\u001b[0m\u001b[0;34m:\u001b[0m\u001b[0;34m\u001b[0m\u001b[0;34m\u001b[0m\u001b[0m\n",
      "\u001b[0m\n"
     ]
    },
    {
     "name": "stdin",
     "output_type": "stream",
     "text": [
      "ipdb>  u\n"
     ]
    },
    {
     "name": "stdout",
     "output_type": "stream",
     "text": [
      "> \u001b[0;32m/home/shijiegu/anaconda3/envs/spyglass/lib/python3.9/site-packages/datajoint/table.py\u001b[0m(440)\u001b[0;36minsert\u001b[0;34m()\u001b[0m\n",
      "\u001b[0;32m    438 \u001b[0;31m                    ),\n",
      "\u001b[0m\u001b[0;32m    439 \u001b[0;31m                )\n",
      "\u001b[0m\u001b[0;32m--> 440 \u001b[0;31m                self.connection.query(\n",
      "\u001b[0m\u001b[0;32m    441 \u001b[0;31m                    \u001b[0mquery\u001b[0m\u001b[0;34m,\u001b[0m\u001b[0;34m\u001b[0m\u001b[0;34m\u001b[0m\u001b[0m\n",
      "\u001b[0m\u001b[0;32m    442 \u001b[0;31m                    args=list(\n",
      "\u001b[0m\n"
     ]
    },
    {
     "name": "stdin",
     "output_type": "stream",
     "text": [
      "ipdb>  u\n"
     ]
    },
    {
     "name": "stdout",
     "output_type": "stream",
     "text": [
      "> \u001b[0;32m/home/shijiegu/anaconda3/envs/spyglass/lib/python3.9/site-packages/datajoint/table.py\u001b[0m(337)\u001b[0;36minsert1\u001b[0;34m()\u001b[0m\n",
      "\u001b[0;32m    335 \u001b[0;31m            \u001b[0;32mas\u001b[0m \u001b[0mone\u001b[0m \u001b[0mrow\u001b[0m\u001b[0;34m.\u001b[0m\u001b[0;34m\u001b[0m\u001b[0;34m\u001b[0m\u001b[0m\n",
      "\u001b[0m\u001b[0;32m    336 \u001b[0;31m        \"\"\"\n",
      "\u001b[0m\u001b[0;32m--> 337 \u001b[0;31m        \u001b[0mself\u001b[0m\u001b[0;34m.\u001b[0m\u001b[0minsert\u001b[0m\u001b[0;34m(\u001b[0m\u001b[0;34m(\u001b[0m\u001b[0mrow\u001b[0m\u001b[0;34m,\u001b[0m\u001b[0;34m)\u001b[0m\u001b[0;34m,\u001b[0m \u001b[0;34m**\u001b[0m\u001b[0mkwargs\u001b[0m\u001b[0;34m)\u001b[0m\u001b[0;34m\u001b[0m\u001b[0;34m\u001b[0m\u001b[0m\n",
      "\u001b[0m\u001b[0;32m    338 \u001b[0;31m\u001b[0;34m\u001b[0m\u001b[0m\n",
      "\u001b[0m\u001b[0;32m    339 \u001b[0;31m    def insert(\n",
      "\u001b[0m\n"
     ]
    },
    {
     "name": "stdin",
     "output_type": "stream",
     "text": [
      "ipdb>  u\n"
     ]
    },
    {
     "name": "stdout",
     "output_type": "stream",
     "text": [
      "> \u001b[0;32m/home/shijiegu/Documents/spyglass/src/spyglass/shijiegu/decodeHelpers.py\u001b[0m(249)\u001b[0;36mthresholder_sort\u001b[0;34m()\u001b[0m\n",
      "\u001b[0;32m    247 \u001b[0;31m\u001b[0;34m\u001b[0m\u001b[0m\n",
      "\u001b[0m\u001b[0;32m    248 \u001b[0;31m        \u001b[0;32mif\u001b[0m \u001b[0mpopulate\u001b[0m\u001b[0;34m:\u001b[0m\u001b[0;34m\u001b[0m\u001b[0;34m\u001b[0m\u001b[0m\n",
      "\u001b[0m\u001b[0;32m--> 249 \u001b[0;31m            \u001b[0mArtifactDetectionSelection\u001b[0m\u001b[0;34m.\u001b[0m\u001b[0minsert1\u001b[0m\u001b[0;34m(\u001b[0m\u001b[0martifact_key\u001b[0m\u001b[0;34m,\u001b[0m \u001b[0mskip_duplicates\u001b[0m\u001b[0;34m=\u001b[0m\u001b[0;32mTrue\u001b[0m\u001b[0;34m)\u001b[0m\u001b[0;34m\u001b[0m\u001b[0;34m\u001b[0m\u001b[0m\n",
      "\u001b[0m\u001b[0;32m    250 \u001b[0;31m\u001b[0;34m\u001b[0m\u001b[0m\n",
      "\u001b[0m\u001b[0;32m    251 \u001b[0;31m        \u001b[0martifact_key\u001b[0m\u001b[0;34m[\u001b[0m\u001b[0;34m'artifact_times'\u001b[0m\u001b[0;34m]\u001b[0m\u001b[0;34m=\u001b[0m\u001b[0martifact_time_list\u001b[0m\u001b[0;34m\u001b[0m\u001b[0;34m\u001b[0m\u001b[0m\n",
      "\u001b[0m\n"
     ]
    },
    {
     "name": "stdin",
     "output_type": "stream",
     "text": [
      "ipdb>  artifact_key\n"
     ]
    },
    {
     "name": "stdout",
     "output_type": "stream",
     "text": [
      "{'nwb_file_name': 'eliot20221021_.nwb', 'sort_interval_name': '01_Seq2Sleep1', 'sort_group_id': 0, 'preproc_params_name': 'franklab_tetrode_hippocampus', 'team_name': 'Shijie Gu', 'artifact_params_name': 'ampl_1500_prop_075_1ms'}\n"
     ]
    },
    {
     "name": "stdin",
     "output_type": "stream",
     "text": [
      "ipdb>  exit\n"
     ]
    }
   ],
   "source": [
    "%debug"
   ]
  },
  {
   "cell_type": "code",
   "execution_count": 15,
   "id": "8efb0958-4071-4b4c-86db-d86a5480c6d0",
   "metadata": {},
   "outputs": [
    {
     "data": {
      "text/html": [
       "\n",
       "    \n",
       "    <style type=\"text/css\">\n",
       "        .Table{\n",
       "            border-collapse:collapse;\n",
       "        }\n",
       "        .Table th{\n",
       "            background: #A0A0A0; color: #ffffff; padding:4px; border:#f0e0e0 1px solid;\n",
       "            font-weight: normal; font-family: monospace; font-size: 100%;\n",
       "        }\n",
       "        .Table td{\n",
       "            padding:4px; border:#f0e0e0 1px solid; font-size:100%;\n",
       "        }\n",
       "        .Table tr:nth-child(odd){\n",
       "            background: #ffffff;\n",
       "            color: #000000;\n",
       "        }\n",
       "        .Table tr:nth-child(even){\n",
       "            background: #f3f1ff;\n",
       "            color: #000000;\n",
       "        }\n",
       "        /* Tooltip container */\n",
       "        .djtooltip {\n",
       "        }\n",
       "        /* Tooltip text */\n",
       "        .djtooltip .djtooltiptext {\n",
       "            visibility: hidden;\n",
       "            width: 120px;\n",
       "            background-color: black;\n",
       "            color: #fff;\n",
       "            text-align: center;\n",
       "            padding: 5px 0;\n",
       "            border-radius: 6px;\n",
       "            /* Position the tooltip text - see examples below! */\n",
       "            position: absolute;\n",
       "            z-index: 1;\n",
       "        }\n",
       "        #primary {\n",
       "            font-weight: bold;\n",
       "            color: black;\n",
       "        }\n",
       "        #nonprimary {\n",
       "            font-weight: normal;\n",
       "            color: white;\n",
       "        }\n",
       "\n",
       "        /* Show the tooltip text when you mouse over the tooltip container */\n",
       "        .djtooltip:hover .djtooltiptext {\n",
       "            visibility: visible;\n",
       "        }\n",
       "    </style>\n",
       "    \n",
       "    <b></b>\n",
       "        <div style=\"max-height:1000px;max-width:1500px;overflow:auto;\">\n",
       "        <table border=\"1\" class=\"Table\">\n",
       "            <thead> <tr style=\"text-align: right;\"> <th> <div class=\"djtooltip\">\n",
       "                            <p id=\"primary\">nwb_file_name</p>\n",
       "                            <span class=\"djtooltiptext\">name of the NWB file</span>\n",
       "                        </div></th><th><div class=\"djtooltip\">\n",
       "                            <p id=\"primary\">sort_group_id</p>\n",
       "                            <span class=\"djtooltiptext\">identifier for a group of electrodes</span>\n",
       "                        </div></th><th><div class=\"djtooltip\">\n",
       "                            <p id=\"primary\">sort_interval_name</p>\n",
       "                            <span class=\"djtooltiptext\">name for this interval</span>\n",
       "                        </div></th><th><div class=\"djtooltip\">\n",
       "                            <p id=\"primary\">preproc_params_name</p>\n",
       "                            <span class=\"djtooltiptext\"></span>\n",
       "                        </div></th><th><div class=\"djtooltip\">\n",
       "                            <p id=\"primary\">team_name</p>\n",
       "                            <span class=\"djtooltiptext\"></span>\n",
       "                        </div></th><th><div class=\"djtooltip\">\n",
       "                            <p id=\"nonprimary\">recording_path</p>\n",
       "                            <span class=\"djtooltiptext\"></span>\n",
       "                        </div></th><th><div class=\"djtooltip\">\n",
       "                            <p id=\"nonprimary\">sort_interval_list_name</p>\n",
       "                            <span class=\"djtooltiptext\">descriptive name of this interval list</span>\n",
       "                        </div> </th> </tr> </thead>\n",
       "            <tbody> <tr>  </tr> </tbody>\n",
       "        </table>\n",
       "        \n",
       "        <p>Total: 0</p></div>\n",
       "        "
      ],
      "text/plain": [
       "*nwb_file_name *sort_group_id *sort_interval *preproc_param *team_name    recording_path sort_interval_\n",
       "+------------+ +------------+ +------------+ +------------+ +-----------+ +------------+ +------------+\n",
       "\n",
       " (Total: 0)"
      ]
     },
     "execution_count": 15,
     "metadata": {},
     "output_type": "execute_result"
    }
   ],
   "source": [
    "SpikeSortingRecording & {'nwb_file_name': 'molly20220418_.nwb', 'sort_interval_name': '01_Seq2Sleep1'}"
   ]
  },
  {
   "cell_type": "code",
   "execution_count": 13,
   "id": "33403979-b322-4f66-8c4a-770c5830449f",
   "metadata": {},
   "outputs": [
    {
     "data": {
      "text/html": [
       "\n",
       "    \n",
       "    <style type=\"text/css\">\n",
       "        .Table{\n",
       "            border-collapse:collapse;\n",
       "        }\n",
       "        .Table th{\n",
       "            background: #A0A0A0; color: #ffffff; padding:4px; border:#f0e0e0 1px solid;\n",
       "            font-weight: normal; font-family: monospace; font-size: 100%;\n",
       "        }\n",
       "        .Table td{\n",
       "            padding:4px; border:#f0e0e0 1px solid; font-size:100%;\n",
       "        }\n",
       "        .Table tr:nth-child(odd){\n",
       "            background: #ffffff;\n",
       "            color: #000000;\n",
       "        }\n",
       "        .Table tr:nth-child(even){\n",
       "            background: #f3f1ff;\n",
       "            color: #000000;\n",
       "        }\n",
       "        /* Tooltip container */\n",
       "        .djtooltip {\n",
       "        }\n",
       "        /* Tooltip text */\n",
       "        .djtooltip .djtooltiptext {\n",
       "            visibility: hidden;\n",
       "            width: 120px;\n",
       "            background-color: black;\n",
       "            color: #fff;\n",
       "            text-align: center;\n",
       "            padding: 5px 0;\n",
       "            border-radius: 6px;\n",
       "            /* Position the tooltip text - see examples below! */\n",
       "            position: absolute;\n",
       "            z-index: 1;\n",
       "        }\n",
       "        #primary {\n",
       "            font-weight: bold;\n",
       "            color: black;\n",
       "        }\n",
       "        #nonprimary {\n",
       "            font-weight: normal;\n",
       "            color: white;\n",
       "        }\n",
       "\n",
       "        /* Show the tooltip text when you mouse over the tooltip container */\n",
       "        .djtooltip:hover .djtooltiptext {\n",
       "            visibility: visible;\n",
       "        }\n",
       "    </style>\n",
       "    \n",
       "    <b>decoded replay content</b>\n",
       "        <div style=\"max-height:1000px;max-width:1500px;overflow:auto;\">\n",
       "        <table border=\"1\" class=\"Table\">\n",
       "            <thead> <tr style=\"text-align: right;\"> <th> <div class=\"djtooltip\">\n",
       "                            <p id=\"primary\">nwb_file_name</p>\n",
       "                            <span class=\"djtooltiptext\">name of the NWB file</span>\n",
       "                        </div></th><th><div class=\"djtooltip\">\n",
       "                            <p id=\"primary\">interval_list_name</p>\n",
       "                            <span class=\"djtooltiptext\">descriptive name of this interval list</span>\n",
       "                        </div></th><th><div class=\"djtooltip\">\n",
       "                            <p id=\"nonprimary\">marks</p>\n",
       "                            <span class=\"djtooltiptext\">valid marks within that interval</span>\n",
       "                        </div></th><th><div class=\"djtooltip\">\n",
       "                            <p id=\"nonprimary\">position_1d</p>\n",
       "                            <span class=\"djtooltiptext\">valid position within that interval (1D), inluding all rat-on-track time</span>\n",
       "                        </div></th><th><div class=\"djtooltip\">\n",
       "                            <p id=\"nonprimary\">position_2d</p>\n",
       "                            <span class=\"djtooltiptext\">valid position within that interval (2D), inluding all rat-on-track time</span>\n",
       "                        </div> </th> </tr> </thead>\n",
       "            <tbody> <tr>  </tr> </tbody>\n",
       "        </table>\n",
       "        \n",
       "        <p>Total: 0</p></div>\n",
       "        "
      ],
      "text/plain": [
       "*nwb_file_name *interval_list marks      position_1 position_2\n",
       "+------------+ +------------+ +--------+ +--------+ +--------+\n",
       "\n",
       " (Total: 0)"
      ]
     },
     "execution_count": 13,
     "metadata": {},
     "output_type": "execute_result"
    }
   ],
   "source": [
    "from spyglass.shijiegu.Analysis_SGU import DecodeIngredients\n",
    "key={'nwb_file_name':nwb_copy_file_name}\n",
    "DecodeIngredients() & key"
   ]
  },
  {
   "cell_type": "code",
   "execution_count": 12,
   "id": "99c13155-292b-41e3-96e0-32f30c348592",
   "metadata": {},
   "outputs": [
    {
     "data": {
      "text/html": [
       "\n",
       "    \n",
       "    <style type=\"text/css\">\n",
       "        .Table{\n",
       "            border-collapse:collapse;\n",
       "        }\n",
       "        .Table th{\n",
       "            background: #A0A0A0; color: #ffffff; padding:4px; border:#f0e0e0 1px solid;\n",
       "            font-weight: normal; font-family: monospace; font-size: 100%;\n",
       "        }\n",
       "        .Table td{\n",
       "            padding:4px; border:#f0e0e0 1px solid; font-size:100%;\n",
       "        }\n",
       "        .Table tr:nth-child(odd){\n",
       "            background: #ffffff;\n",
       "            color: #000000;\n",
       "        }\n",
       "        .Table tr:nth-child(even){\n",
       "            background: #f3f1ff;\n",
       "            color: #000000;\n",
       "        }\n",
       "        /* Tooltip container */\n",
       "        .djtooltip {\n",
       "        }\n",
       "        /* Tooltip text */\n",
       "        .djtooltip .djtooltiptext {\n",
       "            visibility: hidden;\n",
       "            width: 120px;\n",
       "            background-color: black;\n",
       "            color: #fff;\n",
       "            text-align: center;\n",
       "            padding: 5px 0;\n",
       "            border-radius: 6px;\n",
       "            /* Position the tooltip text - see examples below! */\n",
       "            position: absolute;\n",
       "            z-index: 1;\n",
       "        }\n",
       "        #primary {\n",
       "            font-weight: bold;\n",
       "            color: black;\n",
       "        }\n",
       "        #nonprimary {\n",
       "            font-weight: normal;\n",
       "            color: white;\n",
       "        }\n",
       "\n",
       "        /* Show the tooltip text when you mouse over the tooltip container */\n",
       "        .djtooltip:hover .djtooltiptext {\n",
       "            visibility: visible;\n",
       "        }\n",
       "    </style>\n",
       "    \n",
       "    <b>Table for holding selection of recording and parameters for each spike sorting run</b>\n",
       "        <div style=\"max-height:1000px;max-width:1500px;overflow:auto;\">\n",
       "        <table border=\"1\" class=\"Table\">\n",
       "            <thead> <tr style=\"text-align: right;\"> <th> <div class=\"djtooltip\">\n",
       "                            <p id=\"primary\">nwb_file_name</p>\n",
       "                            <span class=\"djtooltiptext\">name of the NWB file</span>\n",
       "                        </div></th><th><div class=\"djtooltip\">\n",
       "                            <p id=\"primary\">sort_group_id</p>\n",
       "                            <span class=\"djtooltiptext\">identifier for a group of electrodes</span>\n",
       "                        </div></th><th><div class=\"djtooltip\">\n",
       "                            <p id=\"primary\">sort_interval_name</p>\n",
       "                            <span class=\"djtooltiptext\">name for this interval</span>\n",
       "                        </div></th><th><div class=\"djtooltip\">\n",
       "                            <p id=\"primary\">preproc_params_name</p>\n",
       "                            <span class=\"djtooltiptext\"></span>\n",
       "                        </div></th><th><div class=\"djtooltip\">\n",
       "                            <p id=\"primary\">team_name</p>\n",
       "                            <span class=\"djtooltiptext\"></span>\n",
       "                        </div></th><th><div class=\"djtooltip\">\n",
       "                            <p id=\"primary\">sorter</p>\n",
       "                            <span class=\"djtooltiptext\"></span>\n",
       "                        </div></th><th><div class=\"djtooltip\">\n",
       "                            <p id=\"primary\">sorter_params_name</p>\n",
       "                            <span class=\"djtooltiptext\"></span>\n",
       "                        </div></th><th><div class=\"djtooltip\">\n",
       "                            <p id=\"primary\">artifact_removed_interval_list_name</p>\n",
       "                            <span class=\"djtooltiptext\"></span>\n",
       "                        </div></th><th><div class=\"djtooltip\">\n",
       "                            <p id=\"nonprimary\">import_path</p>\n",
       "                            <span class=\"djtooltiptext\">optional path to previous curated sorting output</span>\n",
       "                        </div> </th> </tr> </thead>\n",
       "            <tbody> <tr> <td>molly20220419_.nwb</td>\n",
       "<td>0</td>\n",
       "<td>01_Seq2Sleep1</td>\n",
       "<td>franklab_tetrode_hippocampus</td>\n",
       "<td>SequenceTask</td>\n",
       "<td>clusterless_thresholder</td>\n",
       "<td>default</td>\n",
       "<td>molly20220419_.nwb_01_Seq2Sleep1_0_franklab_tetrode_hippocampus_ampl_1500_prop_075_1ms_artifact_removed_valid_times_track_time_only</td>\n",
       "<td></td></tr><tr><td>molly20220419_.nwb</td>\n",
       "<td>0</td>\n",
       "<td>02_Seq2Session1</td>\n",
       "<td>franklab_tetrode_hippocampus</td>\n",
       "<td>SequenceTask</td>\n",
       "<td>clusterless_thresholder</td>\n",
       "<td>default</td>\n",
       "<td>molly20220419_.nwb_02_Seq2Session1_0_franklab_tetrode_hippocampus_ampl_1500_prop_075_1ms_artifact_removed_valid_times_track_time_only</td>\n",
       "<td></td></tr><tr><td>molly20220419_.nwb</td>\n",
       "<td>0</td>\n",
       "<td>03_Seq2Sleep2</td>\n",
       "<td>franklab_tetrode_hippocampus</td>\n",
       "<td>SequenceTask</td>\n",
       "<td>clusterless_thresholder</td>\n",
       "<td>default</td>\n",
       "<td>molly20220419_.nwb_03_Seq2Sleep2_0_franklab_tetrode_hippocampus_ampl_1500_prop_075_1ms_artifact_removed_valid_times_track_time_only</td>\n",
       "<td></td></tr><tr><td>molly20220419_.nwb</td>\n",
       "<td>0</td>\n",
       "<td>04_Seq2Session2</td>\n",
       "<td>franklab_tetrode_hippocampus</td>\n",
       "<td>SequenceTask</td>\n",
       "<td>clusterless_thresholder</td>\n",
       "<td>default</td>\n",
       "<td>molly20220419_.nwb_04_Seq2Session2_0_franklab_tetrode_hippocampus_ampl_1500_prop_075_1ms_artifact_removed_valid_times_track_time_only</td>\n",
       "<td></td></tr><tr><td>molly20220419_.nwb</td>\n",
       "<td>0</td>\n",
       "<td>05_Seq2Sleep3</td>\n",
       "<td>franklab_tetrode_hippocampus</td>\n",
       "<td>SequenceTask</td>\n",
       "<td>clusterless_thresholder</td>\n",
       "<td>default</td>\n",
       "<td>molly20220419_.nwb_05_Seq2Sleep3_0_franklab_tetrode_hippocampus_ampl_1500_prop_075_1ms_artifact_removed_valid_times_track_time_only</td>\n",
       "<td></td></tr><tr><td>molly20220419_.nwb</td>\n",
       "<td>0</td>\n",
       "<td>06_Seq2Session3</td>\n",
       "<td>franklab_tetrode_hippocampus</td>\n",
       "<td>SequenceTask</td>\n",
       "<td>clusterless_thresholder</td>\n",
       "<td>default</td>\n",
       "<td>molly20220419_.nwb_06_Seq2Session3_0_franklab_tetrode_hippocampus_ampl_1500_prop_075_1ms_artifact_removed_valid_times_track_time_only</td>\n",
       "<td></td></tr><tr><td>molly20220419_.nwb</td>\n",
       "<td>0</td>\n",
       "<td>07_Seq2Sleep4</td>\n",
       "<td>franklab_tetrode_hippocampus</td>\n",
       "<td>SequenceTask</td>\n",
       "<td>clusterless_thresholder</td>\n",
       "<td>default</td>\n",
       "<td>molly20220419_.nwb_07_Seq2Sleep4_0_franklab_tetrode_hippocampus_ampl_1500_prop_075_1ms_artifact_removed_valid_times_track_time_only</td>\n",
       "<td></td></tr><tr><td>molly20220419_.nwb</td>\n",
       "<td>0</td>\n",
       "<td>08_Seq2Session4</td>\n",
       "<td>franklab_tetrode_hippocampus</td>\n",
       "<td>SequenceTask</td>\n",
       "<td>clusterless_thresholder</td>\n",
       "<td>default</td>\n",
       "<td>molly20220419_.nwb_08_Seq2Session4_0_franklab_tetrode_hippocampus_ampl_1500_prop_075_1ms_artifact_removed_valid_times_track_time_only</td>\n",
       "<td></td></tr><tr><td>molly20220419_.nwb</td>\n",
       "<td>0</td>\n",
       "<td>09_Seq2Sleep5</td>\n",
       "<td>franklab_tetrode_hippocampus</td>\n",
       "<td>SequenceTask</td>\n",
       "<td>clusterless_thresholder</td>\n",
       "<td>default</td>\n",
       "<td>molly20220419_.nwb_09_Seq2Sleep5_0_franklab_tetrode_hippocampus_ampl_1500_prop_075_1ms_artifact_removed_valid_times_track_time_only</td>\n",
       "<td></td></tr><tr><td>molly20220419_.nwb</td>\n",
       "<td>0</td>\n",
       "<td>10_Seq2Session5</td>\n",
       "<td>franklab_tetrode_hippocampus</td>\n",
       "<td>SequenceTask</td>\n",
       "<td>clusterless_thresholder</td>\n",
       "<td>default</td>\n",
       "<td>molly20220419_.nwb_10_Seq2Session5_0_franklab_tetrode_hippocampus_ampl_1500_prop_075_1ms_artifact_removed_valid_times_track_time_only</td>\n",
       "<td></td></tr><tr><td>molly20220419_.nwb</td>\n",
       "<td>0</td>\n",
       "<td>11_Seq2Sleep6</td>\n",
       "<td>franklab_tetrode_hippocampus</td>\n",
       "<td>SequenceTask</td>\n",
       "<td>clusterless_thresholder</td>\n",
       "<td>default</td>\n",
       "<td>molly20220419_.nwb_11_Seq2Sleep6_0_franklab_tetrode_hippocampus_ampl_1500_prop_075_1ms_artifact_removed_valid_times_track_time_only</td>\n",
       "<td></td></tr><tr><td>molly20220419_.nwb</td>\n",
       "<td>2</td>\n",
       "<td>01_Seq2Sleep1</td>\n",
       "<td>franklab_tetrode_hippocampus</td>\n",
       "<td>SequenceTask</td>\n",
       "<td>clusterless_thresholder</td>\n",
       "<td>default</td>\n",
       "<td>molly20220419_.nwb_01_Seq2Sleep1_2_franklab_tetrode_hippocampus_ampl_1500_prop_075_1ms_artifact_removed_valid_times_track_time_only</td>\n",
       "<td></td> </tr> </tbody>\n",
       "        </table>\n",
       "        <p>...</p>\n",
       "        <p>Total: 275</p></div>\n",
       "        "
      ],
      "text/plain": [
       "*nwb_file_name *sort_group_id *sort_interval *preproc_param *team_name     *sorter        *sorter_params *artifact_remo import_path   \n",
       "+------------+ +------------+ +------------+ +------------+ +------------+ +------------+ +------------+ +------------+ +------------+\n",
       "molly20220419_ 0              01_Seq2Sleep1  franklab_tetro SequenceTask   clusterless_th default        molly20220419_               \n",
       "molly20220419_ 0              02_Seq2Session franklab_tetro SequenceTask   clusterless_th default        molly20220419_               \n",
       "molly20220419_ 0              03_Seq2Sleep2  franklab_tetro SequenceTask   clusterless_th default        molly20220419_               \n",
       "molly20220419_ 0              04_Seq2Session franklab_tetro SequenceTask   clusterless_th default        molly20220419_               \n",
       "molly20220419_ 0              05_Seq2Sleep3  franklab_tetro SequenceTask   clusterless_th default        molly20220419_               \n",
       "molly20220419_ 0              06_Seq2Session franklab_tetro SequenceTask   clusterless_th default        molly20220419_               \n",
       "molly20220419_ 0              07_Seq2Sleep4  franklab_tetro SequenceTask   clusterless_th default        molly20220419_               \n",
       "molly20220419_ 0              08_Seq2Session franklab_tetro SequenceTask   clusterless_th default        molly20220419_               \n",
       "molly20220419_ 0              09_Seq2Sleep5  franklab_tetro SequenceTask   clusterless_th default        molly20220419_               \n",
       "molly20220419_ 0              10_Seq2Session franklab_tetro SequenceTask   clusterless_th default        molly20220419_               \n",
       "molly20220419_ 0              11_Seq2Sleep6  franklab_tetro SequenceTask   clusterless_th default        molly20220419_               \n",
       "molly20220419_ 2              01_Seq2Sleep1  franklab_tetro SequenceTask   clusterless_th default        molly20220419_               \n",
       "   ...\n",
       " (Total: 275)"
      ]
     },
     "execution_count": 12,
     "metadata": {},
     "output_type": "execute_result"
    }
   ],
   "source": [
    "(SpikeSortingSelection & {'nwb_file_name': nwb_copy_file_name})"
   ]
  },
  {
   "cell_type": "code",
   "execution_count": 13,
   "id": "5997a5fb-df13-47f0-8a7a-0a03cebd4d6e",
   "metadata": {},
   "outputs": [
    {
     "data": {
      "text/html": [
       "\n",
       "    \n",
       "    <style type=\"text/css\">\n",
       "        .Table{\n",
       "            border-collapse:collapse;\n",
       "        }\n",
       "        .Table th{\n",
       "            background: #A0A0A0; color: #ffffff; padding:4px; border:#f0e0e0 1px solid;\n",
       "            font-weight: normal; font-family: monospace; font-size: 100%;\n",
       "        }\n",
       "        .Table td{\n",
       "            padding:4px; border:#f0e0e0 1px solid; font-size:100%;\n",
       "        }\n",
       "        .Table tr:nth-child(odd){\n",
       "            background: #ffffff;\n",
       "            color: #000000;\n",
       "        }\n",
       "        .Table tr:nth-child(even){\n",
       "            background: #f3f1ff;\n",
       "            color: #000000;\n",
       "        }\n",
       "        /* Tooltip container */\n",
       "        .djtooltip {\n",
       "        }\n",
       "        /* Tooltip text */\n",
       "        .djtooltip .djtooltiptext {\n",
       "            visibility: hidden;\n",
       "            width: 120px;\n",
       "            background-color: black;\n",
       "            color: #fff;\n",
       "            text-align: center;\n",
       "            padding: 5px 0;\n",
       "            border-radius: 6px;\n",
       "            /* Position the tooltip text - see examples below! */\n",
       "            position: absolute;\n",
       "            z-index: 1;\n",
       "        }\n",
       "        #primary {\n",
       "            font-weight: bold;\n",
       "            color: black;\n",
       "        }\n",
       "        #nonprimary {\n",
       "            font-weight: normal;\n",
       "            color: white;\n",
       "        }\n",
       "\n",
       "        /* Show the tooltip text when you mouse over the tooltip container */\n",
       "        .djtooltip:hover .djtooltiptext {\n",
       "            visibility: visible;\n",
       "        }\n",
       "    </style>\n",
       "    \n",
       "    <b></b>\n",
       "        <div style=\"max-height:1000px;max-width:1500px;overflow:auto;\">\n",
       "        <table border=\"1\" class=\"Table\">\n",
       "            <thead> <tr style=\"text-align: right;\"> <th> <div class=\"djtooltip\">\n",
       "                            <p id=\"primary\">nwb_file_name</p>\n",
       "                            <span class=\"djtooltiptext\">name of the NWB file</span>\n",
       "                        </div></th><th><div class=\"djtooltip\">\n",
       "                            <p id=\"primary\">sort_group_id</p>\n",
       "                            <span class=\"djtooltiptext\">identifier for a group of electrodes</span>\n",
       "                        </div></th><th><div class=\"djtooltip\">\n",
       "                            <p id=\"primary\">sort_interval_name</p>\n",
       "                            <span class=\"djtooltiptext\">name for this interval</span>\n",
       "                        </div></th><th><div class=\"djtooltip\">\n",
       "                            <p id=\"primary\">preproc_params_name</p>\n",
       "                            <span class=\"djtooltiptext\"></span>\n",
       "                        </div></th><th><div class=\"djtooltip\">\n",
       "                            <p id=\"primary\">team_name</p>\n",
       "                            <span class=\"djtooltiptext\"></span>\n",
       "                        </div></th><th><div class=\"djtooltip\">\n",
       "                            <p id=\"primary\">sorter</p>\n",
       "                            <span class=\"djtooltiptext\"></span>\n",
       "                        </div></th><th><div class=\"djtooltip\">\n",
       "                            <p id=\"primary\">sorter_params_name</p>\n",
       "                            <span class=\"djtooltiptext\"></span>\n",
       "                        </div></th><th><div class=\"djtooltip\">\n",
       "                            <p id=\"primary\">artifact_removed_interval_list_name</p>\n",
       "                            <span class=\"djtooltiptext\"></span>\n",
       "                        </div></th><th><div class=\"djtooltip\">\n",
       "                            <p id=\"nonprimary\">sorting_path</p>\n",
       "                            <span class=\"djtooltiptext\"></span>\n",
       "                        </div></th><th><div class=\"djtooltip\">\n",
       "                            <p id=\"nonprimary\">time_of_sort</p>\n",
       "                            <span class=\"djtooltiptext\">in Unix time, to the nearest second</span>\n",
       "                        </div> </th> </tr> </thead>\n",
       "            <tbody> <tr> <td>molly20220419_.nwb</td>\n",
       "<td>0</td>\n",
       "<td>01_Seq2Sleep1</td>\n",
       "<td>franklab_tetrode_hippocampus</td>\n",
       "<td>SequenceTask</td>\n",
       "<td>clusterless_thresholder</td>\n",
       "<td>default</td>\n",
       "<td>molly20220419_.nwb_01_Seq2Sleep1_0_franklab_tetrode_hippocampus_ampl_1500_prop_075_1ms_artifact_removed_valid_times_track_time_only</td>\n",
       "<td>/stelmo/nwb/sorting/molly20220419_.nwb_01_Seq2Sleep1_0_franklab_tetrode_hippocampus_42bc8de3_spikesorting</td>\n",
       "<td>1743198236</td></tr><tr><td>molly20220419_.nwb</td>\n",
       "<td>0</td>\n",
       "<td>02_Seq2Session1</td>\n",
       "<td>franklab_tetrode_hippocampus</td>\n",
       "<td>SequenceTask</td>\n",
       "<td>clusterless_thresholder</td>\n",
       "<td>default</td>\n",
       "<td>molly20220419_.nwb_02_Seq2Session1_0_franklab_tetrode_hippocampus_ampl_1500_prop_075_1ms_artifact_removed_valid_times_track_time_only</td>\n",
       "<td>/stelmo/nwb/sorting/molly20220419_.nwb_02_Seq2Session1_0_franklab_tetrode_hippocampus_7493c9f0_spikesorting</td>\n",
       "<td>1743178710</td></tr><tr><td>molly20220419_.nwb</td>\n",
       "<td>0</td>\n",
       "<td>03_Seq2Sleep2</td>\n",
       "<td>franklab_tetrode_hippocampus</td>\n",
       "<td>SequenceTask</td>\n",
       "<td>clusterless_thresholder</td>\n",
       "<td>default</td>\n",
       "<td>molly20220419_.nwb_03_Seq2Sleep2_0_franklab_tetrode_hippocampus_ampl_1500_prop_075_1ms_artifact_removed_valid_times_track_time_only</td>\n",
       "<td>/stelmo/nwb/sorting/molly20220419_.nwb_03_Seq2Sleep2_0_franklab_tetrode_hippocampus_0dd35597_spikesorting</td>\n",
       "<td>1743198408</td></tr><tr><td>molly20220419_.nwb</td>\n",
       "<td>0</td>\n",
       "<td>04_Seq2Session2</td>\n",
       "<td>franklab_tetrode_hippocampus</td>\n",
       "<td>SequenceTask</td>\n",
       "<td>clusterless_thresholder</td>\n",
       "<td>default</td>\n",
       "<td>molly20220419_.nwb_04_Seq2Session2_0_franklab_tetrode_hippocampus_ampl_1500_prop_075_1ms_artifact_removed_valid_times_track_time_only</td>\n",
       "<td>/stelmo/nwb/sorting/molly20220419_.nwb_04_Seq2Session2_0_franklab_tetrode_hippocampus_c677155e_spikesorting</td>\n",
       "<td>1743179953</td></tr><tr><td>molly20220419_.nwb</td>\n",
       "<td>0</td>\n",
       "<td>05_Seq2Sleep3</td>\n",
       "<td>franklab_tetrode_hippocampus</td>\n",
       "<td>SequenceTask</td>\n",
       "<td>clusterless_thresholder</td>\n",
       "<td>default</td>\n",
       "<td>molly20220419_.nwb_05_Seq2Sleep3_0_franklab_tetrode_hippocampus_ampl_1500_prop_075_1ms_artifact_removed_valid_times_track_time_only</td>\n",
       "<td>/stelmo/nwb/sorting/molly20220419_.nwb_05_Seq2Sleep3_0_franklab_tetrode_hippocampus_66f52952_spikesorting</td>\n",
       "<td>1743198558</td></tr><tr><td>molly20220419_.nwb</td>\n",
       "<td>0</td>\n",
       "<td>06_Seq2Session3</td>\n",
       "<td>franklab_tetrode_hippocampus</td>\n",
       "<td>SequenceTask</td>\n",
       "<td>clusterless_thresholder</td>\n",
       "<td>default</td>\n",
       "<td>molly20220419_.nwb_06_Seq2Session3_0_franklab_tetrode_hippocampus_ampl_1500_prop_075_1ms_artifact_removed_valid_times_track_time_only</td>\n",
       "<td>/stelmo/nwb/sorting/molly20220419_.nwb_06_Seq2Session3_0_franklab_tetrode_hippocampus_c6421bd9_spikesorting</td>\n",
       "<td>1743181192</td></tr><tr><td>molly20220419_.nwb</td>\n",
       "<td>0</td>\n",
       "<td>07_Seq2Sleep4</td>\n",
       "<td>franklab_tetrode_hippocampus</td>\n",
       "<td>SequenceTask</td>\n",
       "<td>clusterless_thresholder</td>\n",
       "<td>default</td>\n",
       "<td>molly20220419_.nwb_07_Seq2Sleep4_0_franklab_tetrode_hippocampus_ampl_1500_prop_075_1ms_artifact_removed_valid_times_track_time_only</td>\n",
       "<td>/stelmo/nwb/sorting/molly20220419_.nwb_07_Seq2Sleep4_0_franklab_tetrode_hippocampus_444edfda_spikesorting</td>\n",
       "<td>1743198748</td></tr><tr><td>molly20220419_.nwb</td>\n",
       "<td>0</td>\n",
       "<td>08_Seq2Session4</td>\n",
       "<td>franklab_tetrode_hippocampus</td>\n",
       "<td>SequenceTask</td>\n",
       "<td>clusterless_thresholder</td>\n",
       "<td>default</td>\n",
       "<td>molly20220419_.nwb_08_Seq2Session4_0_franklab_tetrode_hippocampus_ampl_1500_prop_075_1ms_artifact_removed_valid_times_track_time_only</td>\n",
       "<td>/stelmo/nwb/sorting/molly20220419_.nwb_08_Seq2Session4_0_franklab_tetrode_hippocampus_e7377b69_spikesorting</td>\n",
       "<td>1743182505</td></tr><tr><td>molly20220419_.nwb</td>\n",
       "<td>0</td>\n",
       "<td>09_Seq2Sleep5</td>\n",
       "<td>franklab_tetrode_hippocampus</td>\n",
       "<td>SequenceTask</td>\n",
       "<td>clusterless_thresholder</td>\n",
       "<td>default</td>\n",
       "<td>molly20220419_.nwb_09_Seq2Sleep5_0_franklab_tetrode_hippocampus_ampl_1500_prop_075_1ms_artifact_removed_valid_times_track_time_only</td>\n",
       "<td>/stelmo/nwb/sorting/molly20220419_.nwb_09_Seq2Sleep5_0_franklab_tetrode_hippocampus_5414b4e0_spikesorting</td>\n",
       "<td>1743199074</td></tr><tr><td>molly20220419_.nwb</td>\n",
       "<td>0</td>\n",
       "<td>10_Seq2Session5</td>\n",
       "<td>franklab_tetrode_hippocampus</td>\n",
       "<td>SequenceTask</td>\n",
       "<td>clusterless_thresholder</td>\n",
       "<td>default</td>\n",
       "<td>molly20220419_.nwb_10_Seq2Session5_0_franklab_tetrode_hippocampus_ampl_1500_prop_075_1ms_artifact_removed_valid_times_track_time_only</td>\n",
       "<td>/stelmo/nwb/sorting/molly20220419_.nwb_10_Seq2Session5_0_franklab_tetrode_hippocampus_b26a62f3_spikesorting</td>\n",
       "<td>1743183851</td></tr><tr><td>molly20220419_.nwb</td>\n",
       "<td>0</td>\n",
       "<td>11_Seq2Sleep6</td>\n",
       "<td>franklab_tetrode_hippocampus</td>\n",
       "<td>SequenceTask</td>\n",
       "<td>clusterless_thresholder</td>\n",
       "<td>default</td>\n",
       "<td>molly20220419_.nwb_11_Seq2Sleep6_0_franklab_tetrode_hippocampus_ampl_1500_prop_075_1ms_artifact_removed_valid_times_track_time_only</td>\n",
       "<td>/stelmo/nwb/sorting/molly20220419_.nwb_11_Seq2Sleep6_0_franklab_tetrode_hippocampus_c3d389ac_spikesorting</td>\n",
       "<td>1743199276</td></tr><tr><td>molly20220419_.nwb</td>\n",
       "<td>2</td>\n",
       "<td>01_Seq2Sleep1</td>\n",
       "<td>franklab_tetrode_hippocampus</td>\n",
       "<td>SequenceTask</td>\n",
       "<td>clusterless_thresholder</td>\n",
       "<td>default</td>\n",
       "<td>molly20220419_.nwb_01_Seq2Sleep1_2_franklab_tetrode_hippocampus_ampl_1500_prop_075_1ms_artifact_removed_valid_times_track_time_only</td>\n",
       "<td>/stelmo/nwb/sorting/molly20220419_.nwb_01_Seq2Sleep1_2_franklab_tetrode_hippocampus_3918bc07_spikesorting</td>\n",
       "<td>1743198299</td> </tr> </tbody>\n",
       "        </table>\n",
       "        <p>...</p>\n",
       "        <p>Total: 275</p></div>\n",
       "        "
      ],
      "text/plain": [
       "*nwb_file_name *sort_group_id *sort_interval *preproc_param *team_name     *sorter        *sorter_params *artifact_remo sorting_path   time_of_sort  \n",
       "+------------+ +------------+ +------------+ +------------+ +------------+ +------------+ +------------+ +------------+ +------------+ +------------+\n",
       "molly20220419_ 0              01_Seq2Sleep1  franklab_tetro SequenceTask   clusterless_th default        molly20220419_ /stelmo/nwb/so 1743198236    \n",
       "molly20220419_ 0              02_Seq2Session franklab_tetro SequenceTask   clusterless_th default        molly20220419_ /stelmo/nwb/so 1743178710    \n",
       "molly20220419_ 0              03_Seq2Sleep2  franklab_tetro SequenceTask   clusterless_th default        molly20220419_ /stelmo/nwb/so 1743198408    \n",
       "molly20220419_ 0              04_Seq2Session franklab_tetro SequenceTask   clusterless_th default        molly20220419_ /stelmo/nwb/so 1743179953    \n",
       "molly20220419_ 0              05_Seq2Sleep3  franklab_tetro SequenceTask   clusterless_th default        molly20220419_ /stelmo/nwb/so 1743198558    \n",
       "molly20220419_ 0              06_Seq2Session franklab_tetro SequenceTask   clusterless_th default        molly20220419_ /stelmo/nwb/so 1743181192    \n",
       "molly20220419_ 0              07_Seq2Sleep4  franklab_tetro SequenceTask   clusterless_th default        molly20220419_ /stelmo/nwb/so 1743198748    \n",
       "molly20220419_ 0              08_Seq2Session franklab_tetro SequenceTask   clusterless_th default        molly20220419_ /stelmo/nwb/so 1743182505    \n",
       "molly20220419_ 0              09_Seq2Sleep5  franklab_tetro SequenceTask   clusterless_th default        molly20220419_ /stelmo/nwb/so 1743199074    \n",
       "molly20220419_ 0              10_Seq2Session franklab_tetro SequenceTask   clusterless_th default        molly20220419_ /stelmo/nwb/so 1743183851    \n",
       "molly20220419_ 0              11_Seq2Sleep6  franklab_tetro SequenceTask   clusterless_th default        molly20220419_ /stelmo/nwb/so 1743199276    \n",
       "molly20220419_ 2              01_Seq2Sleep1  franklab_tetro SequenceTask   clusterless_th default        molly20220419_ /stelmo/nwb/so 1743198299    \n",
       "   ...\n",
       " (Total: 275)"
      ]
     },
     "execution_count": 13,
     "metadata": {},
     "output_type": "execute_result"
    }
   ],
   "source": [
    "(SpikeSorting & {'nwb_file_name': nwb_copy_file_name})"
   ]
  },
  {
   "cell_type": "markdown",
   "id": "b54870f8-6e48-4c41-92ee-df82f560d649",
   "metadata": {},
   "source": [
    "# END HERE"
   ]
  },
  {
   "cell_type": "code",
   "execution_count": 2,
   "id": "c0a7782c-cbc8-4a79-8858-341eedce9ec3",
   "metadata": {},
   "outputs": [],
   "source": [
    "## try loading\n",
    "nwb_copy_file_name = 'lewis20240121_.nwb'"
   ]
  },
  {
   "cell_type": "code",
   "execution_count": 44,
   "id": "49a4e8aa-3015-40e6-adef-0afcc909a4c4",
   "metadata": {},
   "outputs": [],
   "source": [
    "e=0"
   ]
  },
  {
   "cell_type": "code",
   "execution_count": 45,
   "id": "49851181-b4fe-4e07-bb97-7d8a2727b62d",
   "metadata": {},
   "outputs": [],
   "source": [
    "entry = DecodeIngredients & {'nwb_file_name':nwb_copy_file_name,\n",
    "     'interval_list_name':session_interval[e]}\n",
    "marks = xr.open_dataset(entry.fetch1('marks'))\n",
    "position_1d = pd.read_csv(entry.fetch1('position_1d'))\n",
    "position_2d = pd.read_csv(entry.fetch1('position_2d'))"
   ]
  },
  {
   "cell_type": "code",
   "execution_count": 46,
   "id": "4e8657a6-dc9f-4e5f-bbcb-e50b5bdb474e",
   "metadata": {},
   "outputs": [
    {
     "data": {
      "text/html": [
       "<div><svg style=\"position: absolute; width: 0; height: 0; overflow: hidden\">\n",
       "<defs>\n",
       "<symbol id=\"icon-database\" viewBox=\"0 0 32 32\">\n",
       "<path d=\"M16 0c-8.837 0-16 2.239-16 5v4c0 2.761 7.163 5 16 5s16-2.239 16-5v-4c0-2.761-7.163-5-16-5z\"></path>\n",
       "<path d=\"M16 17c-8.837 0-16-2.239-16-5v6c0 2.761 7.163 5 16 5s16-2.239 16-5v-6c0 2.761-7.163 5-16 5z\"></path>\n",
       "<path d=\"M16 26c-8.837 0-16-2.239-16-5v6c0 2.761 7.163 5 16 5s16-2.239 16-5v-6c0 2.761-7.163 5-16 5z\"></path>\n",
       "</symbol>\n",
       "<symbol id=\"icon-file-text2\" viewBox=\"0 0 32 32\">\n",
       "<path d=\"M28.681 7.159c-0.694-0.947-1.662-2.053-2.724-3.116s-2.169-2.030-3.116-2.724c-1.612-1.182-2.393-1.319-2.841-1.319h-15.5c-1.378 0-2.5 1.121-2.5 2.5v27c0 1.378 1.122 2.5 2.5 2.5h23c1.378 0 2.5-1.122 2.5-2.5v-19.5c0-0.448-0.137-1.23-1.319-2.841zM24.543 5.457c0.959 0.959 1.712 1.825 2.268 2.543h-4.811v-4.811c0.718 0.556 1.584 1.309 2.543 2.268zM28 29.5c0 0.271-0.229 0.5-0.5 0.5h-23c-0.271 0-0.5-0.229-0.5-0.5v-27c0-0.271 0.229-0.5 0.5-0.5 0 0 15.499-0 15.5 0v7c0 0.552 0.448 1 1 1h7v19.5z\"></path>\n",
       "<path d=\"M23 26h-14c-0.552 0-1-0.448-1-1s0.448-1 1-1h14c0.552 0 1 0.448 1 1s-0.448 1-1 1z\"></path>\n",
       "<path d=\"M23 22h-14c-0.552 0-1-0.448-1-1s0.448-1 1-1h14c0.552 0 1 0.448 1 1s-0.448 1-1 1z\"></path>\n",
       "<path d=\"M23 18h-14c-0.552 0-1-0.448-1-1s0.448-1 1-1h14c0.552 0 1 0.448 1 1s-0.448 1-1 1z\"></path>\n",
       "</symbol>\n",
       "</defs>\n",
       "</svg>\n",
       "<style>/* CSS stylesheet for displaying xarray objects in jupyterlab.\n",
       " *\n",
       " */\n",
       "\n",
       ":root {\n",
       "  --xr-font-color0: var(--jp-content-font-color0, rgba(0, 0, 0, 1));\n",
       "  --xr-font-color2: var(--jp-content-font-color2, rgba(0, 0, 0, 0.54));\n",
       "  --xr-font-color3: var(--jp-content-font-color3, rgba(0, 0, 0, 0.38));\n",
       "  --xr-border-color: var(--jp-border-color2, #e0e0e0);\n",
       "  --xr-disabled-color: var(--jp-layout-color3, #bdbdbd);\n",
       "  --xr-background-color: var(--jp-layout-color0, white);\n",
       "  --xr-background-color-row-even: var(--jp-layout-color1, white);\n",
       "  --xr-background-color-row-odd: var(--jp-layout-color2, #eeeeee);\n",
       "}\n",
       "\n",
       "html[theme=dark],\n",
       "body[data-theme=dark],\n",
       "body.vscode-dark {\n",
       "  --xr-font-color0: rgba(255, 255, 255, 1);\n",
       "  --xr-font-color2: rgba(255, 255, 255, 0.54);\n",
       "  --xr-font-color3: rgba(255, 255, 255, 0.38);\n",
       "  --xr-border-color: #1F1F1F;\n",
       "  --xr-disabled-color: #515151;\n",
       "  --xr-background-color: #111111;\n",
       "  --xr-background-color-row-even: #111111;\n",
       "  --xr-background-color-row-odd: #313131;\n",
       "}\n",
       "\n",
       ".xr-wrap {\n",
       "  display: block !important;\n",
       "  min-width: 300px;\n",
       "  max-width: 700px;\n",
       "}\n",
       "\n",
       ".xr-text-repr-fallback {\n",
       "  /* fallback to plain text repr when CSS is not injected (untrusted notebook) */\n",
       "  display: none;\n",
       "}\n",
       "\n",
       ".xr-header {\n",
       "  padding-top: 6px;\n",
       "  padding-bottom: 6px;\n",
       "  margin-bottom: 4px;\n",
       "  border-bottom: solid 1px var(--xr-border-color);\n",
       "}\n",
       "\n",
       ".xr-header > div,\n",
       ".xr-header > ul {\n",
       "  display: inline;\n",
       "  margin-top: 0;\n",
       "  margin-bottom: 0;\n",
       "}\n",
       "\n",
       ".xr-obj-type,\n",
       ".xr-array-name {\n",
       "  margin-left: 2px;\n",
       "  margin-right: 10px;\n",
       "}\n",
       "\n",
       ".xr-obj-type {\n",
       "  color: var(--xr-font-color2);\n",
       "}\n",
       "\n",
       ".xr-sections {\n",
       "  padding-left: 0 !important;\n",
       "  display: grid;\n",
       "  grid-template-columns: 150px auto auto 1fr 20px 20px;\n",
       "}\n",
       "\n",
       ".xr-section-item {\n",
       "  display: contents;\n",
       "}\n",
       "\n",
       ".xr-section-item input {\n",
       "  display: none;\n",
       "}\n",
       "\n",
       ".xr-section-item input + label {\n",
       "  color: var(--xr-disabled-color);\n",
       "}\n",
       "\n",
       ".xr-section-item input:enabled + label {\n",
       "  cursor: pointer;\n",
       "  color: var(--xr-font-color2);\n",
       "}\n",
       "\n",
       ".xr-section-item input:enabled + label:hover {\n",
       "  color: var(--xr-font-color0);\n",
       "}\n",
       "\n",
       ".xr-section-summary {\n",
       "  grid-column: 1;\n",
       "  color: var(--xr-font-color2);\n",
       "  font-weight: 500;\n",
       "}\n",
       "\n",
       ".xr-section-summary > span {\n",
       "  display: inline-block;\n",
       "  padding-left: 0.5em;\n",
       "}\n",
       "\n",
       ".xr-section-summary-in:disabled + label {\n",
       "  color: var(--xr-font-color2);\n",
       "}\n",
       "\n",
       ".xr-section-summary-in + label:before {\n",
       "  display: inline-block;\n",
       "  content: '►';\n",
       "  font-size: 11px;\n",
       "  width: 15px;\n",
       "  text-align: center;\n",
       "}\n",
       "\n",
       ".xr-section-summary-in:disabled + label:before {\n",
       "  color: var(--xr-disabled-color);\n",
       "}\n",
       "\n",
       ".xr-section-summary-in:checked + label:before {\n",
       "  content: '▼';\n",
       "}\n",
       "\n",
       ".xr-section-summary-in:checked + label > span {\n",
       "  display: none;\n",
       "}\n",
       "\n",
       ".xr-section-summary,\n",
       ".xr-section-inline-details {\n",
       "  padding-top: 4px;\n",
       "  padding-bottom: 4px;\n",
       "}\n",
       "\n",
       ".xr-section-inline-details {\n",
       "  grid-column: 2 / -1;\n",
       "}\n",
       "\n",
       ".xr-section-details {\n",
       "  display: none;\n",
       "  grid-column: 1 / -1;\n",
       "  margin-bottom: 5px;\n",
       "}\n",
       "\n",
       ".xr-section-summary-in:checked ~ .xr-section-details {\n",
       "  display: contents;\n",
       "}\n",
       "\n",
       ".xr-array-wrap {\n",
       "  grid-column: 1 / -1;\n",
       "  display: grid;\n",
       "  grid-template-columns: 20px auto;\n",
       "}\n",
       "\n",
       ".xr-array-wrap > label {\n",
       "  grid-column: 1;\n",
       "  vertical-align: top;\n",
       "}\n",
       "\n",
       ".xr-preview {\n",
       "  color: var(--xr-font-color3);\n",
       "}\n",
       "\n",
       ".xr-array-preview,\n",
       ".xr-array-data {\n",
       "  padding: 0 5px !important;\n",
       "  grid-column: 2;\n",
       "}\n",
       "\n",
       ".xr-array-data,\n",
       ".xr-array-in:checked ~ .xr-array-preview {\n",
       "  display: none;\n",
       "}\n",
       "\n",
       ".xr-array-in:checked ~ .xr-array-data,\n",
       ".xr-array-preview {\n",
       "  display: inline-block;\n",
       "}\n",
       "\n",
       ".xr-dim-list {\n",
       "  display: inline-block !important;\n",
       "  list-style: none;\n",
       "  padding: 0 !important;\n",
       "  margin: 0;\n",
       "}\n",
       "\n",
       ".xr-dim-list li {\n",
       "  display: inline-block;\n",
       "  padding: 0;\n",
       "  margin: 0;\n",
       "}\n",
       "\n",
       ".xr-dim-list:before {\n",
       "  content: '(';\n",
       "}\n",
       "\n",
       ".xr-dim-list:after {\n",
       "  content: ')';\n",
       "}\n",
       "\n",
       ".xr-dim-list li:not(:last-child):after {\n",
       "  content: ',';\n",
       "  padding-right: 5px;\n",
       "}\n",
       "\n",
       ".xr-has-index {\n",
       "  font-weight: bold;\n",
       "}\n",
       "\n",
       ".xr-var-list,\n",
       ".xr-var-item {\n",
       "  display: contents;\n",
       "}\n",
       "\n",
       ".xr-var-item > div,\n",
       ".xr-var-item label,\n",
       ".xr-var-item > .xr-var-name span {\n",
       "  background-color: var(--xr-background-color-row-even);\n",
       "  margin-bottom: 0;\n",
       "}\n",
       "\n",
       ".xr-var-item > .xr-var-name:hover span {\n",
       "  padding-right: 5px;\n",
       "}\n",
       "\n",
       ".xr-var-list > li:nth-child(odd) > div,\n",
       ".xr-var-list > li:nth-child(odd) > label,\n",
       ".xr-var-list > li:nth-child(odd) > .xr-var-name span {\n",
       "  background-color: var(--xr-background-color-row-odd);\n",
       "}\n",
       "\n",
       ".xr-var-name {\n",
       "  grid-column: 1;\n",
       "}\n",
       "\n",
       ".xr-var-dims {\n",
       "  grid-column: 2;\n",
       "}\n",
       "\n",
       ".xr-var-dtype {\n",
       "  grid-column: 3;\n",
       "  text-align: right;\n",
       "  color: var(--xr-font-color2);\n",
       "}\n",
       "\n",
       ".xr-var-preview {\n",
       "  grid-column: 4;\n",
       "}\n",
       "\n",
       ".xr-index-preview {\n",
       "  grid-column: 2 / 5;\n",
       "  color: var(--xr-font-color2);\n",
       "}\n",
       "\n",
       ".xr-var-name,\n",
       ".xr-var-dims,\n",
       ".xr-var-dtype,\n",
       ".xr-preview,\n",
       ".xr-attrs dt {\n",
       "  white-space: nowrap;\n",
       "  overflow: hidden;\n",
       "  text-overflow: ellipsis;\n",
       "  padding-right: 10px;\n",
       "}\n",
       "\n",
       ".xr-var-name:hover,\n",
       ".xr-var-dims:hover,\n",
       ".xr-var-dtype:hover,\n",
       ".xr-attrs dt:hover {\n",
       "  overflow: visible;\n",
       "  width: auto;\n",
       "  z-index: 1;\n",
       "}\n",
       "\n",
       ".xr-var-attrs,\n",
       ".xr-var-data,\n",
       ".xr-index-data {\n",
       "  display: none;\n",
       "  background-color: var(--xr-background-color) !important;\n",
       "  padding-bottom: 5px !important;\n",
       "}\n",
       "\n",
       ".xr-var-attrs-in:checked ~ .xr-var-attrs,\n",
       ".xr-var-data-in:checked ~ .xr-var-data,\n",
       ".xr-index-data-in:checked ~ .xr-index-data {\n",
       "  display: block;\n",
       "}\n",
       "\n",
       ".xr-var-data > table {\n",
       "  float: right;\n",
       "}\n",
       "\n",
       ".xr-var-name span,\n",
       ".xr-var-data,\n",
       ".xr-index-name div,\n",
       ".xr-index-data,\n",
       ".xr-attrs {\n",
       "  padding-left: 25px !important;\n",
       "}\n",
       "\n",
       ".xr-attrs,\n",
       ".xr-var-attrs,\n",
       ".xr-var-data,\n",
       ".xr-index-data {\n",
       "  grid-column: 1 / -1;\n",
       "}\n",
       "\n",
       "dl.xr-attrs {\n",
       "  padding: 0;\n",
       "  margin: 0;\n",
       "  display: grid;\n",
       "  grid-template-columns: 125px auto;\n",
       "}\n",
       "\n",
       ".xr-attrs dt,\n",
       ".xr-attrs dd {\n",
       "  padding: 0;\n",
       "  margin: 0;\n",
       "  float: left;\n",
       "  padding-right: 10px;\n",
       "  width: auto;\n",
       "}\n",
       "\n",
       ".xr-attrs dt {\n",
       "  font-weight: normal;\n",
       "  grid-column: 1;\n",
       "}\n",
       "\n",
       ".xr-attrs dt:hover span {\n",
       "  display: inline-block;\n",
       "  background: var(--xr-background-color);\n",
       "  padding-right: 10px;\n",
       "}\n",
       "\n",
       ".xr-attrs dd {\n",
       "  grid-column: 2;\n",
       "  white-space: pre-wrap;\n",
       "  word-break: break-all;\n",
       "}\n",
       "\n",
       ".xr-icon-database,\n",
       ".xr-icon-file-text2,\n",
       ".xr-no-icon {\n",
       "  display: inline-block;\n",
       "  vertical-align: middle;\n",
       "  width: 1em;\n",
       "  height: 1.5em !important;\n",
       "  stroke-width: 0;\n",
       "  stroke: currentColor;\n",
       "  fill: currentColor;\n",
       "}\n",
       "</style><pre class='xr-text-repr-fallback'>&lt;xarray.Dataset&gt;\n",
       "Dimensions:                        (time: 958279, marks: 4, electrodes: 15)\n",
       "Coordinates:\n",
       "  * time                           (time) float64 1.667e+09 ... 1.667e+09\n",
       "  * electrodes                     (electrodes) int32 0 2 4 5 13 ... 28 29 30 31\n",
       "  * marks                          (marks) object &#x27;amplitude_0000&#x27; ... &#x27;ampli...\n",
       "Data variables:\n",
       "    __xarray_dataarray_variable__  (time, marks, electrodes) float32 ...</pre><div class='xr-wrap' style='display:none'><div class='xr-header'><div class='xr-obj-type'>xarray.Dataset</div></div><ul class='xr-sections'><li class='xr-section-item'><input id='section-e0ab6730-3715-49cc-a449-3e8b6bbbebe8' class='xr-section-summary-in' type='checkbox' disabled ><label for='section-e0ab6730-3715-49cc-a449-3e8b6bbbebe8' class='xr-section-summary'  title='Expand/collapse section'>Dimensions:</label><div class='xr-section-inline-details'><ul class='xr-dim-list'><li><span class='xr-has-index'>time</span>: 958279</li><li><span class='xr-has-index'>marks</span>: 4</li><li><span class='xr-has-index'>electrodes</span>: 15</li></ul></div><div class='xr-section-details'></div></li><li class='xr-section-item'><input id='section-7df2f842-fe32-4a68-b106-d711c3fe7f92' class='xr-section-summary-in' type='checkbox'  checked><label for='section-7df2f842-fe32-4a68-b106-d711c3fe7f92' class='xr-section-summary' >Coordinates: <span>(3)</span></label><div class='xr-section-inline-details'></div><div class='xr-section-details'><ul class='xr-var-list'><li class='xr-var-item'><div class='xr-var-name'><span class='xr-has-index'>time</span></div><div class='xr-var-dims'>(time)</div><div class='xr-var-dtype'>float64</div><div class='xr-var-preview xr-preview'>1.667e+09 1.667e+09 ... 1.667e+09</div><input id='attrs-db3bd08f-e0cc-46b4-b44e-1754517c50b5' class='xr-var-attrs-in' type='checkbox' disabled><label for='attrs-db3bd08f-e0cc-46b4-b44e-1754517c50b5' title='Show/Hide attributes'><svg class='icon xr-icon-file-text2'><use xlink:href='#icon-file-text2'></use></svg></label><input id='data-4c20c46a-b155-4992-adb3-c715ca2e8264' class='xr-var-data-in' type='checkbox'><label for='data-4c20c46a-b155-4992-adb3-c715ca2e8264' title='Show/Hide data repr'><svg class='icon xr-icon-database'><use xlink:href='#icon-database'></use></svg></label><div class='xr-var-attrs'><dl class='xr-attrs'></dl></div><div class='xr-var-data'><pre>array([1.666725e+09, 1.666725e+09, 1.666725e+09, ..., 1.666727e+09,\n",
       "       1.666727e+09, 1.666727e+09])</pre></div></li><li class='xr-var-item'><div class='xr-var-name'><span class='xr-has-index'>electrodes</span></div><div class='xr-var-dims'>(electrodes)</div><div class='xr-var-dtype'>int32</div><div class='xr-var-preview xr-preview'>0 2 4 5 13 14 ... 26 27 28 29 30 31</div><input id='attrs-d651f316-d2de-4307-aa24-b730c01c530d' class='xr-var-attrs-in' type='checkbox' disabled><label for='attrs-d651f316-d2de-4307-aa24-b730c01c530d' title='Show/Hide attributes'><svg class='icon xr-icon-file-text2'><use xlink:href='#icon-file-text2'></use></svg></label><input id='data-4e78d928-f85e-4b91-b04b-17f48dc4afb3' class='xr-var-data-in' type='checkbox'><label for='data-4e78d928-f85e-4b91-b04b-17f48dc4afb3' title='Show/Hide data repr'><svg class='icon xr-icon-database'><use xlink:href='#icon-database'></use></svg></label><div class='xr-var-attrs'><dl class='xr-attrs'></dl></div><div class='xr-var-data'><pre>array([ 0,  2,  4,  5, 13, 14, 16, 17, 20, 26, 27, 28, 29, 30, 31], dtype=int32)</pre></div></li><li class='xr-var-item'><div class='xr-var-name'><span class='xr-has-index'>marks</span></div><div class='xr-var-dims'>(marks)</div><div class='xr-var-dtype'>object</div><div class='xr-var-preview xr-preview'>&#x27;amplitude_0000&#x27; ... &#x27;amplitude_...</div><input id='attrs-947e9689-2930-4680-bea3-23e1d3575b54' class='xr-var-attrs-in' type='checkbox' disabled><label for='attrs-947e9689-2930-4680-bea3-23e1d3575b54' title='Show/Hide attributes'><svg class='icon xr-icon-file-text2'><use xlink:href='#icon-file-text2'></use></svg></label><input id='data-a9a9e6a3-0e91-4da9-9373-42d473e69fcc' class='xr-var-data-in' type='checkbox'><label for='data-a9a9e6a3-0e91-4da9-9373-42d473e69fcc' title='Show/Hide data repr'><svg class='icon xr-icon-database'><use xlink:href='#icon-database'></use></svg></label><div class='xr-var-attrs'><dl class='xr-attrs'></dl></div><div class='xr-var-data'><pre>array([&#x27;amplitude_0000&#x27;, &#x27;amplitude_0001&#x27;, &#x27;amplitude_0002&#x27;, &#x27;amplitude_0003&#x27;],\n",
       "      dtype=object)</pre></div></li></ul></div></li><li class='xr-section-item'><input id='section-b6e2a8a4-8969-494e-858d-0821eeb2e804' class='xr-section-summary-in' type='checkbox'  checked><label for='section-b6e2a8a4-8969-494e-858d-0821eeb2e804' class='xr-section-summary' >Data variables: <span>(1)</span></label><div class='xr-section-inline-details'></div><div class='xr-section-details'><ul class='xr-var-list'><li class='xr-var-item'><div class='xr-var-name'><span>__xarray_dataarray_variable__</span></div><div class='xr-var-dims'>(time, marks, electrodes)</div><div class='xr-var-dtype'>float32</div><div class='xr-var-preview xr-preview'>...</div><input id='attrs-b233e487-73ed-43d1-8cff-8f3d9314418e' class='xr-var-attrs-in' type='checkbox' disabled><label for='attrs-b233e487-73ed-43d1-8cff-8f3d9314418e' title='Show/Hide attributes'><svg class='icon xr-icon-file-text2'><use xlink:href='#icon-file-text2'></use></svg></label><input id='data-d3419790-3c7a-4af0-a58c-f769e6a287ef' class='xr-var-data-in' type='checkbox'><label for='data-d3419790-3c7a-4af0-a58c-f769e6a287ef' title='Show/Hide data repr'><svg class='icon xr-icon-database'><use xlink:href='#icon-database'></use></svg></label><div class='xr-var-attrs'><dl class='xr-attrs'></dl></div><div class='xr-var-data'><pre>[57496740 values with dtype=float32]</pre></div></li></ul></div></li><li class='xr-section-item'><input id='section-4498e944-a195-4782-ad2f-e5eae742e0b3' class='xr-section-summary-in' type='checkbox'  ><label for='section-4498e944-a195-4782-ad2f-e5eae742e0b3' class='xr-section-summary' >Indexes: <span>(3)</span></label><div class='xr-section-inline-details'></div><div class='xr-section-details'><ul class='xr-var-list'><li class='xr-var-item'><div class='xr-index-name'><div>time</div></div><div class='xr-index-preview'>PandasIndex</div><div></div><input id='index-8d52ab3e-c604-46a8-8d15-b2df744f7d3f' class='xr-index-data-in' type='checkbox'/><label for='index-8d52ab3e-c604-46a8-8d15-b2df744f7d3f' title='Show/Hide index repr'><svg class='icon xr-icon-database'><use xlink:href='#icon-database'></use></svg></label><div class='xr-index-data'><pre>PandasIndex(Index([1666724781.1396961, 1666724781.1416962, 1666724781.1436963,\n",
       "       1666724781.1456962, 1666724781.1476963,  1666724781.149696,\n",
       "       1666724781.1516962, 1666724781.1536963, 1666724781.1556962,\n",
       "       1666724781.1576962,\n",
       "       ...\n",
       "        1666726697.805287, 1666726697.8072867, 1666726697.8092868,\n",
       "       1666726697.8112867, 1666726697.8132868, 1666726697.8152869,\n",
       "       1666726697.8172867, 1666726697.8192868, 1666726697.8212867,\n",
       "       1666726697.8232868],\n",
       "      dtype=&#x27;float64&#x27;, name=&#x27;time&#x27;, length=958279))</pre></div></li><li class='xr-var-item'><div class='xr-index-name'><div>electrodes</div></div><div class='xr-index-preview'>PandasIndex</div><div></div><input id='index-e94c274a-9991-4707-b181-04260abbf4f2' class='xr-index-data-in' type='checkbox'/><label for='index-e94c274a-9991-4707-b181-04260abbf4f2' title='Show/Hide index repr'><svg class='icon xr-icon-database'><use xlink:href='#icon-database'></use></svg></label><div class='xr-index-data'><pre>PandasIndex(Index([0, 2, 4, 5, 13, 14, 16, 17, 20, 26, 27, 28, 29, 30, 31], dtype=&#x27;int32&#x27;, name=&#x27;electrodes&#x27;))</pre></div></li><li class='xr-var-item'><div class='xr-index-name'><div>marks</div></div><div class='xr-index-preview'>PandasIndex</div><div></div><input id='index-9f32ecd1-01e9-4f33-baef-31ed93bd0d77' class='xr-index-data-in' type='checkbox'/><label for='index-9f32ecd1-01e9-4f33-baef-31ed93bd0d77' title='Show/Hide index repr'><svg class='icon xr-icon-database'><use xlink:href='#icon-database'></use></svg></label><div class='xr-index-data'><pre>PandasIndex(Index([&#x27;amplitude_0000&#x27;, &#x27;amplitude_0001&#x27;, &#x27;amplitude_0002&#x27;, &#x27;amplitude_0003&#x27;], dtype=&#x27;object&#x27;, name=&#x27;marks&#x27;))</pre></div></li></ul></div></li><li class='xr-section-item'><input id='section-7c9471d3-14ff-47a7-8c8d-51472e60ecf9' class='xr-section-summary-in' type='checkbox' disabled ><label for='section-7c9471d3-14ff-47a7-8c8d-51472e60ecf9' class='xr-section-summary'  title='Expand/collapse section'>Attributes: <span>(0)</span></label><div class='xr-section-inline-details'></div><div class='xr-section-details'><dl class='xr-attrs'></dl></div></li></ul></div></div>"
      ],
      "text/plain": [
       "<xarray.Dataset>\n",
       "Dimensions:                        (time: 958279, marks: 4, electrodes: 15)\n",
       "Coordinates:\n",
       "  * time                           (time) float64 1.667e+09 ... 1.667e+09\n",
       "  * electrodes                     (electrodes) int32 0 2 4 5 13 ... 28 29 30 31\n",
       "  * marks                          (marks) object 'amplitude_0000' ... 'ampli...\n",
       "Data variables:\n",
       "    __xarray_dataarray_variable__  (time, marks, electrodes) float32 ..."
      ]
     },
     "execution_count": 46,
     "metadata": {},
     "output_type": "execute_result"
    }
   ],
   "source": [
    "marks"
   ]
  },
  {
   "cell_type": "code",
   "execution_count": 47,
   "id": "4e5ef817-c0a7-4f37-8cae-e0ee91d8648c",
   "metadata": {},
   "outputs": [
    {
     "name": "stderr",
     "output_type": "stream",
     "text": [
      "[09:47:09][WARNING] Spyglass: Deprecation: this class has been moved out of spyglass.common.common_position\n",
      "\tIntervalLinearizedPosition -> spyglass.linearization.v0.main.IntervalLinearizedPosition\n",
      "Please use the new location.\n",
      "16-Jun-24 09:47:09 Deprecation: this class has been moved out of spyglass.common.common_position\n",
      "\tIntervalLinearizedPosition -> spyglass.linearization.v0.main.IntervalLinearizedPosition\n",
      "Please use the new location.\n"
     ]
    },
    {
     "name": "stdout",
     "output_type": "stream",
     "text": [
      "final shape of marks and linear position df is:\n",
      "(958279, 4)\n"
     ]
    },
    {
     "name": "stderr",
     "output_type": "stream",
     "text": [
      "[09:47:22][WARNING] Spyglass: Deprecation: this class has been moved out of spyglass.common.common_position\n",
      "\tIntervalLinearizedPosition -> spyglass.linearization.v0.main.IntervalLinearizedPosition\n",
      "Please use the new location.\n",
      "16-Jun-24 09:47:22 Deprecation: this class has been moved out of spyglass.common.common_position\n",
      "\tIntervalLinearizedPosition -> spyglass.linearization.v0.main.IntervalLinearizedPosition\n",
      "Please use the new location.\n"
     ]
    },
    {
     "name": "stdout",
     "output_type": "stream",
     "text": [
      "final shape of marks and linear position df is:\n",
      "(885994, 4)\n"
     ]
    },
    {
     "name": "stderr",
     "output_type": "stream",
     "text": [
      "[09:47:34][WARNING] Spyglass: Deprecation: this class has been moved out of spyglass.common.common_position\n",
      "\tIntervalLinearizedPosition -> spyglass.linearization.v0.main.IntervalLinearizedPosition\n",
      "Please use the new location.\n",
      "16-Jun-24 09:47:34 Deprecation: this class has been moved out of spyglass.common.common_position\n",
      "\tIntervalLinearizedPosition -> spyglass.linearization.v0.main.IntervalLinearizedPosition\n",
      "Please use the new location.\n"
     ]
    },
    {
     "name": "stdout",
     "output_type": "stream",
     "text": [
      "final shape of marks and linear position df is:\n",
      "(843218, 4)\n"
     ]
    },
    {
     "name": "stderr",
     "output_type": "stream",
     "text": [
      "[09:47:46][WARNING] Spyglass: Deprecation: this class has been moved out of spyglass.common.common_position\n",
      "\tIntervalLinearizedPosition -> spyglass.linearization.v0.main.IntervalLinearizedPosition\n",
      "Please use the new location.\n",
      "16-Jun-24 09:47:46 Deprecation: this class has been moved out of spyglass.common.common_position\n",
      "\tIntervalLinearizedPosition -> spyglass.linearization.v0.main.IntervalLinearizedPosition\n",
      "Please use the new location.\n"
     ]
    },
    {
     "name": "stdout",
     "output_type": "stream",
     "text": [
      "final shape of marks and linear position df is:\n",
      "(783223, 4)\n"
     ]
    }
   ],
   "source": [
    "for e in range(len(session_interval)):\n",
    "    \"\"\"\n",
    "    Position: UnitMarksIndicator\n",
    "    \"\"\"\n",
    "    linear_position_df = (IntervalLinearizedPosition() &\n",
    "        {'nwb_file_name': nwb_copy_file_name,\n",
    "        'interval_list_name': position_interval[e],\n",
    "        'position_info_param_name': 'default_decoding'}\n",
    "        ).fetch1_dataframe()\n",
    "    position_df = (IntervalPositionInfo &\n",
    "        {'nwb_file_name': nwb_copy_file_name,\n",
    "        'interval_list_name': position_interval[e],\n",
    "        'position_info_param_name': 'default_decoding'}\n",
    "                    ).fetch1_dataframe()\n",
    "\n",
    "    # Remove Data before 1st trial and after last trial\n",
    "    StateScript = pd.DataFrame(\n",
    "        (TrialChoice & {'nwb_file_name':nwb_copy_file_name,\n",
    "                        'epoch_name':session_interval[e]}).fetch1('choice_reward'))\n",
    "\n",
    "    trial_1_t = StateScript.loc[1].timestamp_O\n",
    "    trial_last_t = StateScript.loc[len(StateScript)-1].timestamp_O\n",
    "    linear_position_df = removeDataBeforeTrial1(linear_position_df,trial_1_t,trial_last_t)\n",
    "    position_df = removeDataBeforeTrial1(position_df,trial_1_t,trial_last_t)\n",
    "\n",
    "    \"\"\"\n",
    "    Intervals\n",
    "    \"\"\"\n",
    "    intersect_interval = intersectValidIntervals(nwb_copy_file_name,\n",
    "                                                session_interval[e],position_interval[e])\n",
    "\n",
    "    linear_position_df_=[]\n",
    "    position_df_ =[]\n",
    "    for i in range(len(intersect_interval)):\n",
    "        valid_time_slice = slice(intersect_interval[i][0], intersect_interval[i][1])\n",
    "\n",
    "        linear_position_df_.append(linear_position_df.loc[valid_time_slice])\n",
    "        position_df_.append(position_df.loc[valid_time_slice])\n",
    "\n",
    "\n",
    "    linear_position_df=pd.concat(linear_position_df_)\n",
    "    position_df=pd.concat(position_df_)\n",
    "    print('final shape of marks and linear position df is:')\n",
    "\n",
    "    print(linear_position_df.shape)\n",
    "\n",
    "    \"\"\"save result\"\"\"\n",
    "    animal = nwb_copy_file_name[:5]\n",
    "\n",
    "\n",
    "    position1d_path=os.path.join(f'/cumulus/shijie/recording_pilot/{animal}/decoding',\n",
    "                             nwb_copy_file_name+'_'+session_interval[e]+'_1dposition.csv')\n",
    "    linear_position_df.to_csv(position1d_path)\n",
    "\n",
    "    position2d_path=os.path.join(f'/cumulus/shijie/recording_pilot/{animal}/decoding',\n",
    "                             nwb_copy_file_name+'_'+session_interval[e]+'_2dposition.csv')\n",
    "    position_df.to_csv(position2d_path)"
   ]
  },
  {
   "cell_type": "code",
   "execution_count": null,
   "id": "af22639d-5972-4f52-a8f8-b823b7b63409",
   "metadata": {},
   "outputs": [],
   "source": []
  }
 ],
 "metadata": {
  "kernelspec": {
   "display_name": "Python 3 (ipykernel)",
   "language": "python",
   "name": "python3"
  },
  "language_info": {
   "codemirror_mode": {
    "name": "ipython",
    "version": 3
   },
   "file_extension": ".py",
   "mimetype": "text/x-python",
   "name": "python",
   "nbconvert_exporter": "python",
   "pygments_lexer": "ipython3",
   "version": "3.9.18"
  }
 },
 "nbformat": 4,
 "nbformat_minor": 5
}
