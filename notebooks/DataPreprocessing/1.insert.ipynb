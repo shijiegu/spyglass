{
 "cells": [
  {
   "cell_type": "markdown",
   "id": "61f4a2e8-0058-4c52-82e2-c779bd8efff0",
   "metadata": {},
   "source": [
    "## 1. This is the very beginning.\n",
    "Stick raw data into Spyglass Database."
   ]
  },
  {
   "cell_type": "code",
   "execution_count": 1,
   "id": "890f3713-e1be-4c0b-8bc5-440fd70ecd48",
   "metadata": {},
   "outputs": [
    {
     "name": "stderr",
     "output_type": "stream",
     "text": [
      "Exception ignored in: <module 'collections.abc' from '/home/shijiegu/anaconda3/envs/spyglass/lib/python3.9/collections/abc.py'>\n",
      "Traceback (most recent call last):\n",
      "  File \"<string>\", line 1, in <module>\n",
      "KeyboardInterrupt: \n",
      "<frozen importlib._bootstrap>:228: RuntimeWarning: Cython module failed to patch module with custom type\n",
      "[2025-04-19 16:00:47,976][INFO]: Connecting shijiegu-alt@lmf-db.cin.ucsf.edu:3306\n",
      "[2025-04-19 16:00:48,110][INFO]: Connected shijiegu-alt@lmf-db.cin.ucsf.edu:3306\n"
     ]
    }
   ],
   "source": [
    "import os\n",
    "import numpy as np\n",
    "\n",
    "import spyglass as nd\n",
    "import datajoint as dj\n",
    "import multiprocessing\n",
    "import spyglass.data_import as sdi\n",
    "\n",
    "# ignore datajoint+jupyter async warnings\n",
    "import warnings\n",
    "warnings.simplefilter('ignore', category=DeprecationWarning)\n",
    "warnings.simplefilter('ignore', category=ResourceWarning)\n",
    "warnings.simplefilter('ignore', category=UserWarning)\n",
    "\n",
    "import matplotlib.pyplot as plt"
   ]
  },
  {
   "cell_type": "code",
   "execution_count": 2,
   "id": "b42bd96b-5247-446e-a4c7-c5e0d34ca86e",
   "metadata": {},
   "outputs": [],
   "source": [
    "from spyglass.common import Session"
   ]
  },
  {
   "cell_type": "code",
   "execution_count": 3,
   "id": "8daceab9-acaf-449b-8f39-b2b28ad0aaa2",
   "metadata": {},
   "outputs": [],
   "source": [
    "from pathlib import Path\n",
    "os.environ[\"HDF5_USE_FILE_LOCKING\"] = \"FALSE\"\n",
    "os.environ['SPYGLASS_BASE_DIR'] = \"/stelmo/nwb/\"\n",
    "os.environ['SPYGLASS_RECORDING_DIR'] = \"/stelmo/nwb/recording\"\n",
    "os.environ['SPYGLASS_SORTING_DIR'] = \"/stelmo/nwb/sorting\"\n",
    "os.environ['SPYGLASS_WAVEFORMS_DIR'] = \"/stelmo/nwb/waveforms\"\n",
    "os.environ['SPYGLASS_TEMP_DIR'] = \"/stelmo/nwb/tmp\"\n",
    "os.environ['KACHERY_DAEMON_HOST'] = \"typhoon\"\n",
    "os.environ['KACHERY_DAEMON_PORT'] = \"14747\"\n",
    "os.environ['KACHERY_STORAGE_DIR'] = \"/stelmo/nwb/kachery-storage\"\n",
    "os.environ['KACHERY_TEMP_DIR'] = \"/stelmo/nwb/tmp\"\n",
    "os.environ['FIGURL_CHANNEL'] = \"franklab2\"\n",
    "os.environ['DJ_SUPPORT_FILEPATH_MANAGEMENT'] = \"TRUE\"\n",
    "dj.config[\"enable_python_native_blobs\"] = True"
   ]
  },
  {
   "cell_type": "code",
   "execution_count": 4,
   "id": "60efe5e4-33c9-4238-84f8-f0e87a5b32a2",
   "metadata": {},
   "outputs": [],
   "source": [
    "dj.config[\"stores\"]['raw']['location']='/stelmo/nwb/raw'\n",
    "dj.config[\"stores\"]['raw']['stage']='/stelmo/nwb/raw'\n",
    "dj.config[\"stores\"]['analysis']['location']='/stelmo/nwb/analysis'\n",
    "dj.config[\"stores\"]['analysis']['stage']='/stelmo/nwb/analysis'"
   ]
  },
  {
   "cell_type": "code",
   "execution_count": 5,
   "id": "649aa7e0-5b0c-4bbc-ba8a-b48afcb40862",
   "metadata": {},
   "outputs": [
    {
     "data": {
      "text/plain": [
       "{   'connection.charset': '',\n",
       "    'connection.init_function': None,\n",
       "    'custom': {   'debug_mode': 'false',\n",
       "                  'dlc_dirs': {   'base': '/stelmo/nwb/deeplabcut',\n",
       "                                  'output': '/stelmo/nwb/deeplabcut/output',\n",
       "                                  'project': '/stelmo/nwb/deeplabcut/projects',\n",
       "                                  'video': '/stelmo/nwb/video'},\n",
       "                  'kachery_dirs': {   'cloud': '/stelmo/nwb/kachery_storage',\n",
       "                                      'storage': '/stelmo/nwb/kachery-storage',\n",
       "                                      'temp': '/stelmo/nwb/tmp'},\n",
       "                  'kachery_zone': 'franklab.default',\n",
       "                  'spyglass_dirs': {   'analysis': '/stelmo/nwb/analysis',\n",
       "                                       'base': '/stelmo/nwb/',\n",
       "                                       'raw': '/stelmo/nwb/raw',\n",
       "                                       'recording': '/stelmo/nwb/recording',\n",
       "                                       'sorting': '/stelmo/nwb/sorting',\n",
       "                                       'temp': '/stelmo/nwb/tmp',\n",
       "                                       'video': '/stelmo/nwb/video',\n",
       "                                       'waveforms': '/stelmo/nwb/waveforms'},\n",
       "                  'test_mode': 'false'},\n",
       "    'database.host': 'lmf-db.cin.ucsf.edu',\n",
       "    'database.password': 'temppass',\n",
       "    'database.port': 3306,\n",
       "    'database.reconnect': True,\n",
       "    'database.use_tls': True,\n",
       "    'database.user': 'shijiegu-alt',\n",
       "    'display.limit': 12,\n",
       "    'display.show_tuple_count': True,\n",
       "    'display.width': 14,\n",
       "    'enable_python_native_blobs': True,\n",
       "    'fetch_format': 'array',\n",
       "    'filepath_checksum_size_limit': 1073741824,\n",
       "    'loglevel': 'INFO',\n",
       "    'safemode': True,\n",
       "    'stores': {   'analysis': {   'location': '/stelmo/nwb/analysis',\n",
       "                                  'protocol': 'file',\n",
       "                                  'stage': '/stelmo/nwb/analysis'},\n",
       "                  'raw': {   'location': '/stelmo/nwb/raw',\n",
       "                             'protocol': 'file',\n",
       "                             'stage': '/stelmo/nwb/raw'}}}"
      ]
     },
     "execution_count": 5,
     "metadata": {},
     "output_type": "execute_result"
    }
   ],
   "source": [
    "dj.config"
   ]
  },
  {
   "cell_type": "markdown",
   "id": "927e414c-9c0c-44f6-8c41-26624d2fc469",
   "metadata": {},
   "source": [
    "## Add data to database"
   ]
  },
  {
   "cell_type": "code",
   "execution_count": 7,
   "id": "ed8ce010-d50a-45e3-b8be-6a870d3588bc",
   "metadata": {
    "scrolled": true
   },
   "outputs": [
    {
     "name": "stderr",
     "output_type": "stream",
     "text": [
      "[16:01:36][INFO] Spyglass: Creating a copy of NWB file julio20230811.nwb with link to raw ephys data: julio20230811_.nwb\n",
      "[16:02:29][INFO] Spyglass: Populating Session...\n",
      "[16:02:30][INFO] Spyglass: No config found at file path /stelmo/nwb/raw/julio20230811_spyglass_config.yaml\n",
      "[16:02:30][INFO] Spyglass: Institution...\n",
      "[16:02:30][INFO] Spyglass: Lab...\n",
      "[16:02:30][INFO] Spyglass: LabMember...\n",
      "[16:02:30][INFO] Spyglass: Subject...\n",
      "[16:02:30][INFO] Spyglass: Populate CameraDevice...\n",
      "[16:02:30][INFO] Spyglass: Inserted camera devices ['sleep_camera', 'maze_camera']\n",
      "[16:02:30][INFO] Spyglass: Populate Probe...\n",
      "[16:02:30][INFO] Spyglass: Probe ID 'tetrode_12.5' already exists in the database. Spyglass will use that and not create a new Probe, Shanks, or Electrodes.\n",
      "[16:02:30][INFO] Spyglass: Inserted probes {'tetrode_12.5'}\n",
      "[16:02:30][INFO] Spyglass: Skipping Apparatus for now...\n",
      "[16:02:30][INFO] Spyglass: IntervalList...\n",
      "[16:02:31][INFO] Spyglass: Populating ElectrodeGroup...\n",
      "[16:02:31][INFO] Spyglass: Populating Electrode...\n",
      "[16:02:31][INFO] Spyglass: No config found at file path /stelmo/nwb/raw/julio20230811_spyglass_config.yaml\n",
      "[16:02:33][INFO] Spyglass: Populating Raw...\n",
      "[16:02:33][INFO] Spyglass: Estimating sampling rate...\n",
      "[16:02:34][INFO] Spyglass: Estimated sampling rate for file: 30001.0 Hz\n",
      "[16:03:33][INFO] Spyglass: Importing raw data: Sampling rate:\t30001.0 Hz\n",
      "[16:03:33][INFO] Spyglass: Number of valid intervals:\t2491\n",
      "[16:03:33][INFO] Spyglass: Populating SampleCount...\n",
      "[16:03:33][INFO] Spyglass: Populating DIOEvents...\n",
      "[16:03:33][INFO] Spyglass: Populating RawPosition...\n",
      "[16:03:33][INFO] Spyglass: Populating TaskEpoch...\n",
      "[16:03:34][INFO] Spyglass: Populating StateScriptFile...\n",
      "[16:03:34][INFO] Spyglass: Statescript log\n",
      "[16:03:34][INFO] Spyglass: Statescript log\n",
      "[16:03:34][INFO] Spyglass: Statescript log\n",
      "[16:03:34][INFO] Spyglass: Statescript log\n",
      "[16:03:34][INFO] Spyglass: Statescript log\n",
      "[16:03:34][INFO] Spyglass: Statescript log\n",
      "[16:03:34][INFO] Spyglass: Statescript log\n",
      "[16:03:34][INFO] Spyglass: Statescript log\n",
      "[16:03:34][INFO] Spyglass: Statescript log\n",
      "[16:03:34][INFO] Spyglass: Statescript log\n",
      "[16:03:34][INFO] Spyglass: Statescript log\n",
      "[16:03:34][INFO] Spyglass: Statescript log\n",
      "[16:03:34][INFO] Spyglass: Statescript log\n",
      "[16:03:34][INFO] Spyglass: Statescript log\n",
      "[16:03:34][INFO] Spyglass: Statescript log\n",
      "[16:03:34][INFO] Spyglass: Statescript log\n",
      "[16:03:34][INFO] Spyglass: Statescript log\n",
      "[16:03:34][INFO] Spyglass: Statescript log\n",
      "[16:03:34][INFO] Spyglass: Statescript log\n",
      "[16:03:34][INFO] Spyglass: Statescript log\n",
      "[16:03:34][INFO] Spyglass: Statescript log\n",
      "[16:03:34][INFO] Spyglass: Statescript log\n",
      "[16:03:34][INFO] Spyglass: Statescript log\n",
      "[16:03:34][INFO] Spyglass: Statescript log\n",
      "[16:03:34][INFO] Spyglass: Statescript log\n",
      "[16:03:34][INFO] Spyglass: Statescript log\n",
      "[16:03:34][INFO] Spyglass: Statescript log\n",
      "[16:03:34][INFO] Spyglass: Statescript log\n",
      "[16:03:34][INFO] Spyglass: Statescript log\n",
      "[16:03:34][INFO] Spyglass: Statescript log\n",
      "[16:03:34][INFO] Spyglass: Statescript log\n",
      "[16:03:34][INFO] Spyglass: Statescript log\n",
      "[16:03:34][INFO] Spyglass: Statescript log\n",
      "[16:03:34][INFO] Spyglass: Statescript log\n",
      "[16:03:34][INFO] Spyglass: Statescript log\n",
      "[16:03:34][INFO] Spyglass: Statescript log\n",
      "[16:03:34][INFO] Spyglass: Statescript log\n",
      "[16:03:34][INFO] Spyglass: Statescript log\n",
      "[16:03:34][INFO] Spyglass: Statescript log\n",
      "[16:03:34][INFO] Spyglass: Statescript log\n",
      "[16:03:34][INFO] Spyglass: Statescript log\n",
      "[16:03:34][INFO] Spyglass: Statescript log\n",
      "[16:03:34][INFO] Spyglass: Statescript log\n",
      "[16:03:34][INFO] Spyglass: Statescript log\n",
      "[16:03:34][INFO] Spyglass: Statescript log\n",
      "[16:03:34][INFO] Spyglass: Statescript log\n",
      "[16:03:34][INFO] Spyglass: Statescript log\n",
      "[16:03:34][INFO] Spyglass: Statescript log\n",
      "[16:03:34][INFO] Spyglass: Statescript log\n",
      "[16:03:34][INFO] Spyglass: Statescript log\n",
      "[16:03:34][INFO] Spyglass: Statescript log\n",
      "[16:03:34][INFO] Spyglass: Statescript log\n",
      "[16:03:34][INFO] Spyglass: Statescript log\n",
      "[16:03:34][INFO] Spyglass: Statescript log\n",
      "[16:03:34][INFO] Spyglass: Statescript log\n",
      "[16:03:34][INFO] Spyglass: Statescript log\n",
      "[16:03:34][INFO] Spyglass: Statescript log\n",
      "[16:03:34][INFO] Spyglass: Statescript log\n",
      "[16:03:34][INFO] Spyglass: Statescript log\n",
      "[16:03:34][INFO] Spyglass: Statescript log\n",
      "[16:03:34][INFO] Spyglass: Statescript log\n",
      "[16:03:34][INFO] Spyglass: Statescript log\n",
      "[16:03:34][INFO] Spyglass: Statescript log\n",
      "[16:03:34][INFO] Spyglass: Statescript log\n",
      "[16:03:34][INFO] Spyglass: Statescript log\n",
      "[16:03:34][INFO] Spyglass: Statescript log\n",
      "[16:03:34][INFO] Spyglass: Statescript log\n",
      "[16:03:34][INFO] Spyglass: Statescript log\n",
      "[16:03:34][INFO] Spyglass: Statescript log\n",
      "[16:03:34][INFO] Spyglass: Statescript log\n",
      "[16:03:34][INFO] Spyglass: Statescript log\n",
      "[16:03:34][INFO] Spyglass: Statescript log\n",
      "[16:03:34][INFO] Spyglass: Statescript log\n",
      "[16:03:34][INFO] Spyglass: Statescript log\n",
      "[16:03:34][INFO] Spyglass: Statescript log\n",
      "[16:03:34][INFO] Spyglass: Statescript log\n",
      "[16:03:34][INFO] Spyglass: Statescript log\n",
      "[16:03:34][INFO] Spyglass: Statescript log\n",
      "[16:03:34][INFO] Spyglass: Statescript log\n",
      "[16:03:34][INFO] Spyglass: Statescript log\n",
      "[16:03:34][INFO] Spyglass: Statescript log\n",
      "[16:03:34][INFO] Spyglass: Statescript log\n",
      "[16:03:34][INFO] Spyglass: Statescript log\n",
      "[16:03:34][INFO] Spyglass: Statescript log\n",
      "[16:03:34][INFO] Spyglass: Statescript log\n",
      "[16:03:34][INFO] Spyglass: Statescript log\n",
      "[16:03:34][INFO] Spyglass: Statescript log\n",
      "[16:03:34][INFO] Spyglass: Statescript log\n",
      "[16:03:34][INFO] Spyglass: Statescript log\n",
      "[16:03:34][INFO] Spyglass: Statescript log\n",
      "[16:03:34][INFO] Spyglass: Statescript log\n",
      "[16:03:34][INFO] Spyglass: Statescript log\n",
      "[16:03:34][INFO] Spyglass: Statescript log\n",
      "[16:03:34][INFO] Spyglass: Statescript log\n",
      "[16:03:34][INFO] Spyglass: Statescript log\n",
      "[16:03:34][INFO] Spyglass: Statescript log\n",
      "[16:03:34][INFO] Spyglass: Statescript log\n",
      "[16:03:34][INFO] Spyglass: Statescript log\n",
      "[16:03:34][INFO] Spyglass: Statescript log\n",
      "[16:03:34][INFO] Spyglass: Statescript log\n",
      "[16:03:34][INFO] Spyglass: Populating VideoFile...\n",
      "[16:03:35][INFO] Spyglass: Populating PositionSource...\n",
      "[16:03:35][INFO] Spyglass: Estimated sampling rate for julio_20230811: 66.0 Hz\n",
      "[16:03:35][INFO] Spyglass: Estimated sampling rate for julio_20230811: 23.0 Hz\n",
      "[16:03:35][INFO] Spyglass: Estimated sampling rate for julio_20230811: 66.0 Hz\n",
      "[16:03:35][INFO] Spyglass: Estimated sampling rate for julio_20230811: 23.0 Hz\n",
      "[16:03:35][INFO] Spyglass: Estimated sampling rate for julio_20230811: 66.0 Hz\n",
      "[16:03:35][INFO] Spyglass: Estimated sampling rate for julio_20230811: 23.0 Hz\n",
      "[16:03:35][INFO] Spyglass: Estimated sampling rate for julio_20230811: 23.0 Hz\n",
      "[16:03:35][INFO] Spyglass: Estimated sampling rate for julio_20230811: 66.0 Hz\n",
      "[16:03:35][INFO] Spyglass: Estimated sampling rate for julio_20230811: 23.0 Hz\n",
      "[16:03:35][INFO] Spyglass: Estimated sampling rate for julio_20230811: 66.0 Hz\n",
      "[16:03:35][INFO] Spyglass: Populated PosIntervalMap for julio20230811_.nwb, 01_Seq2Sleep1\n",
      "[16:03:35][INFO] Spyglass: Populated PosIntervalMap for julio20230811_.nwb, 02_Seq2Session1\n",
      "[16:03:35][INFO] Spyglass: Populated PosIntervalMap for julio20230811_.nwb, 03_Seq2Sleep2\n",
      "[16:03:35][INFO] Spyglass: Populated PosIntervalMap for julio20230811_.nwb, 04_Seq2Session2\n",
      "[16:03:35][INFO] Spyglass: Populated PosIntervalMap for julio20230811_.nwb, 05_Seq2Sleep3\n",
      "[16:03:36][INFO] Spyglass: Populated PosIntervalMap for julio20230811_.nwb, 06_Seq2Session3\n",
      "[16:03:36][INFO] Spyglass: Populated PosIntervalMap for julio20230811_.nwb, 07_Seq2Session4\n",
      "[16:03:36][INFO] Spyglass: Populated PosIntervalMap for julio20230811_.nwb, 08_Seq2Sleep4\n",
      "[16:03:36][INFO] Spyglass: Populated PosIntervalMap for julio20230811_.nwb, 09_Seq2Session5\n",
      "[16:03:36][INFO] Spyglass: Populated PosIntervalMap for julio20230811_.nwb, 10_Seq2Sleep5\n",
      "[16:03:36][INFO] Spyglass: Populating RawPosition...\n",
      "[16:03:36][INFO] Spyglass: Populating ImportedSpikeSorting...\n",
      "[16:03:37][WARNING] Spyglass: No units found in NWB file\n"
     ]
    }
   ],
   "source": [
    "sdi.insert_sessions('julio20230811.nwb')"
   ]
  },
  {
   "cell_type": "code",
   "execution_count": 9,
   "id": "f34c9306-bfb5-405e-9258-5100af5019ca",
   "metadata": {},
   "outputs": [
    {
     "data": {
      "text/plain": [
       "array(['julio20230811_.nwb'], dtype=object)"
      ]
     },
     "execution_count": 9,
     "metadata": {},
     "output_type": "execute_result"
    }
   ],
   "source": [
    "(Session & {\"subject_id\":\"julio\"}).fetch(\"nwb_file_name\")"
   ]
  },
  {
   "cell_type": "markdown",
   "id": "bc675f31-88fd-43d4-99ee-60cb3aed2a2c",
   "metadata": {},
   "source": [
    "## Check it is in"
   ]
  },
  {
   "cell_type": "code",
   "execution_count": 11,
   "id": "33c73e58-b788-42e3-aa8f-9781eabff41a",
   "metadata": {},
   "outputs": [
    {
     "data": {
      "text/html": [
       "\n",
       "    \n",
       "    <style type=\"text/css\">\n",
       "        .Table{\n",
       "            border-collapse:collapse;\n",
       "        }\n",
       "        .Table th{\n",
       "            background: #A0A0A0; color: #ffffff; padding:4px; border:#f0e0e0 1px solid;\n",
       "            font-weight: normal; font-family: monospace; font-size: 100%;\n",
       "        }\n",
       "        .Table td{\n",
       "            padding:4px; border:#f0e0e0 1px solid; font-size:100%;\n",
       "        }\n",
       "        .Table tr:nth-child(odd){\n",
       "            background: #ffffff;\n",
       "            color: #000000;\n",
       "        }\n",
       "        .Table tr:nth-child(even){\n",
       "            background: #f3f1ff;\n",
       "            color: #000000;\n",
       "        }\n",
       "        /* Tooltip container */\n",
       "        .djtooltip {\n",
       "        }\n",
       "        /* Tooltip text */\n",
       "        .djtooltip .djtooltiptext {\n",
       "            visibility: hidden;\n",
       "            width: 120px;\n",
       "            background-color: black;\n",
       "            color: #fff;\n",
       "            text-align: center;\n",
       "            padding: 5px 0;\n",
       "            border-radius: 6px;\n",
       "            /* Position the tooltip text - see examples below! */\n",
       "            position: absolute;\n",
       "            z-index: 1;\n",
       "        }\n",
       "        #primary {\n",
       "            font-weight: bold;\n",
       "            color: black;\n",
       "        }\n",
       "        #nonprimary {\n",
       "            font-weight: normal;\n",
       "            color: white;\n",
       "        }\n",
       "\n",
       "        /* Show the tooltip text when you mouse over the tooltip container */\n",
       "        .djtooltip:hover .djtooltiptext {\n",
       "            visibility: visible;\n",
       "        }\n",
       "    </style>\n",
       "    \n",
       "    <b>Table for holding experimental sessions.</b>\n",
       "        <div style=\"max-height:1000px;max-width:1500px;overflow:auto;\">\n",
       "        <table border=\"1\" class=\"Table\">\n",
       "            <thead> <tr style=\"text-align: right;\"> <th> <div class=\"djtooltip\">\n",
       "                            <p id=\"primary\">nwb_file_name</p>\n",
       "                            <span class=\"djtooltiptext\">name of the NWB file</span>\n",
       "                        </div></th><th><div class=\"djtooltip\">\n",
       "                            <p id=\"nonprimary\">subject_id</p>\n",
       "                            <span class=\"djtooltiptext\"></span>\n",
       "                        </div></th><th><div class=\"djtooltip\">\n",
       "                            <p id=\"nonprimary\">institution_name</p>\n",
       "                            <span class=\"djtooltiptext\"></span>\n",
       "                        </div></th><th><div class=\"djtooltip\">\n",
       "                            <p id=\"nonprimary\">lab_name</p>\n",
       "                            <span class=\"djtooltiptext\"></span>\n",
       "                        </div></th><th><div class=\"djtooltip\">\n",
       "                            <p id=\"nonprimary\">session_id</p>\n",
       "                            <span class=\"djtooltiptext\"></span>\n",
       "                        </div></th><th><div class=\"djtooltip\">\n",
       "                            <p id=\"nonprimary\">session_description</p>\n",
       "                            <span class=\"djtooltiptext\"></span>\n",
       "                        </div></th><th><div class=\"djtooltip\">\n",
       "                            <p id=\"nonprimary\">session_start_time</p>\n",
       "                            <span class=\"djtooltiptext\"></span>\n",
       "                        </div></th><th><div class=\"djtooltip\">\n",
       "                            <p id=\"nonprimary\">timestamps_reference_time</p>\n",
       "                            <span class=\"djtooltiptext\"></span>\n",
       "                        </div></th><th><div class=\"djtooltip\">\n",
       "                            <p id=\"nonprimary\">experiment_description</p>\n",
       "                            <span class=\"djtooltiptext\"></span>\n",
       "                        </div> </th> </tr> </thead>\n",
       "            <tbody> <tr> <td>julio20230811_.nwb</td>\n",
       "<td>julio</td>\n",
       "<td>University of California, San Francisco</td>\n",
       "<td>Loren Frank</td>\n",
       "<td>julio_20230811</td>\n",
       "<td>Seq2</td>\n",
       "<td>2023-08-11 11:04:43</td>\n",
       "<td>1970-01-01 00:00:00</td>\n",
       "<td>Four-Arm Sequence</td> </tr> </tbody>\n",
       "        </table>\n",
       "        \n",
       "        <p>Total: 1</p></div>\n",
       "        "
      ],
      "text/plain": [
       "*nwb_file_name subject_id     institution_na lab_name       session_id     session_descri session_start_ timestamps_ref experiment_des\n",
       "+------------+ +------------+ +------------+ +------------+ +------------+ +------------+ +------------+ +------------+ +------------+\n",
       "julio20230811_ julio          University of  Loren Frank    julio_20230811 Seq2           2023-08-11 11: 1970-01-01 00: Four-Arm Seque\n",
       " (Total: 1)"
      ]
     },
     "execution_count": 11,
     "metadata": {},
     "output_type": "execute_result"
    }
   ],
   "source": [
    "Session & {\"experiment_description\":'Four-Arm Sequence',\"subject_id\":\"julio\"}"
   ]
  },
  {
   "cell_type": "markdown",
   "id": "a9010d47-921a-4112-99cd-973e7b81b460",
   "metadata": {},
   "source": [
    "### For a normal operation, that's it. End here"
   ]
  },
  {
   "cell_type": "code",
   "execution_count": null,
   "id": "d0c79a00-1072-47c8-be84-4bd58d7c7f02",
   "metadata": {},
   "outputs": [],
   "source": []
  },
  {
   "cell_type": "code",
   "execution_count": null,
   "id": "a6c37bc6-04a2-4a2a-902e-e6c906f10e03",
   "metadata": {},
   "outputs": [],
   "source": []
  },
  {
   "cell_type": "markdown",
   "id": "bffc8c6b-4d8c-4325-b887-7c6457c8d548",
   "metadata": {},
   "source": [
    "### In case you need to delete"
   ]
  },
  {
   "cell_type": "code",
   "execution_count": 28,
   "id": "78d05bc6-2dd2-4f61-9fd4-deb43dc59b18",
   "metadata": {},
   "outputs": [
    {
     "data": {
      "text/html": [
       "\n",
       "    \n",
       "    <style type=\"text/css\">\n",
       "        .Table{\n",
       "            border-collapse:collapse;\n",
       "        }\n",
       "        .Table th{\n",
       "            background: #A0A0A0; color: #ffffff; padding:4px; border:#f0e0e0 1px solid;\n",
       "            font-weight: normal; font-family: monospace; font-size: 100%;\n",
       "        }\n",
       "        .Table td{\n",
       "            padding:4px; border:#f0e0e0 1px solid; font-size:100%;\n",
       "        }\n",
       "        .Table tr:nth-child(odd){\n",
       "            background: #ffffff;\n",
       "            color: #000000;\n",
       "        }\n",
       "        .Table tr:nth-child(even){\n",
       "            background: #f3f1ff;\n",
       "            color: #000000;\n",
       "        }\n",
       "        /* Tooltip container */\n",
       "        .djtooltip {\n",
       "        }\n",
       "        /* Tooltip text */\n",
       "        .djtooltip .djtooltiptext {\n",
       "            visibility: hidden;\n",
       "            width: 120px;\n",
       "            background-color: black;\n",
       "            color: #fff;\n",
       "            text-align: center;\n",
       "            padding: 5px 0;\n",
       "            border-radius: 6px;\n",
       "            /* Position the tooltip text - see examples below! */\n",
       "            position: absolute;\n",
       "            z-index: 1;\n",
       "        }\n",
       "        #primary {\n",
       "            font-weight: bold;\n",
       "            color: black;\n",
       "        }\n",
       "        #nonprimary {\n",
       "            font-weight: normal;\n",
       "            color: white;\n",
       "        }\n",
       "\n",
       "        /* Show the tooltip text when you mouse over the tooltip container */\n",
       "        .djtooltip:hover .djtooltiptext {\n",
       "            visibility: visible;\n",
       "        }\n",
       "    </style>\n",
       "    \n",
       "    <b>Table for holding the NWB files.</b>\n",
       "        <div style=\"max-height:1000px;max-width:1500px;overflow:auto;\">\n",
       "        <table border=\"1\" class=\"Table\">\n",
       "            <thead> <tr style=\"text-align: right;\"> <th> <div class=\"djtooltip\">\n",
       "                            <p id=\"primary\">nwb_file_name</p>\n",
       "                            <span class=\"djtooltiptext\">name of the NWB file</span>\n",
       "                        </div></th><th><div class=\"djtooltip\">\n",
       "                            <p id=\"nonprimary\">nwb_file_abs_path</p>\n",
       "                            <span class=\"djtooltiptext\"></span>\n",
       "                        </div> </th> </tr> </thead>\n",
       "            <tbody> <tr>  </tr> </tbody>\n",
       "        </table>\n",
       "        \n",
       "        <p>Total: 0</p></div>\n",
       "        "
      ],
      "text/plain": [
       "*nwb_file_name nwb_file_a\n",
       "+------------+ +--------+\n",
       "\n",
       " (Total: 0)"
      ]
     },
     "execution_count": 28,
     "metadata": {},
     "output_type": "execute_result"
    }
   ],
   "source": [
    "(nd.common.Nwbfile() & {\"nwb_file_name\": \"haydn20230603_.nwb\"})"
   ]
  },
  {
   "cell_type": "code",
   "execution_count": 27,
   "id": "588ef3fc-ec0b-4fa0-8e9a-c7d401140012",
   "metadata": {},
   "outputs": [
    {
     "name": "stderr",
     "output_type": "stream",
     "text": [
      "[11:28:16][WARNING] Spyglass: Could not find lab team associated with Nwbfile.\n",
      "Be careful not to delete others' data.\n",
      "[11:28:17][INFO] Spyglass: Building merge cache for nwbfile.\n",
      "\tFound 5 downstream merge tables\n",
      "[2024-11-15 11:28:17,930][INFO]: Deleting 0 rows from `common_nwbfile`.`nwbfile`\n",
      "[2024-11-15 11:28:17,931][WARNING]: Nothing to delete.\n"
     ]
    }
   ],
   "source": [
    "(nd.common.Nwbfile() & {\"nwb_file_name\": \"haydn20230603_.nwb\"}).delete()"
   ]
  },
  {
   "cell_type": "code",
   "execution_count": null,
   "id": "9fbd6d17-c387-4a05-905f-4208179916c1",
   "metadata": {},
   "outputs": [],
   "source": []
  },
  {
   "cell_type": "markdown",
   "id": "e1a99fb3-e976-4dc4-8be2-28e782fc3761",
   "metadata": {},
   "source": [
    "### Below are code for debugging. "
   ]
  },
  {
   "cell_type": "code",
   "execution_count": 16,
   "id": "a1bc7592-e172-4875-9be7-d207a8d6294c",
   "metadata": {},
   "outputs": [
    {
     "name": "stdout",
     "output_type": "stream",
     "text": [
      "/stelmo/nwb//raw/molly20220415.nwb   /stelmo/nwb//raw/molly20220417_.nwb\n",
      "/stelmo/nwb//raw/molly20220415_.nwb  /stelmo/nwb//raw/molly20220418.nwb\n",
      "/stelmo/nwb//raw/molly20220416.nwb   /stelmo/nwb//raw/molly20220419.nwb\n",
      "/stelmo/nwb//raw/molly20220416_.nwb  /stelmo/nwb//raw/molly20220420.nwb\n",
      "/stelmo/nwb//raw/molly20220417.nwb   /stelmo/nwb//raw/molly20220420_.nwb\n"
     ]
    }
   ],
   "source": [
    "!ls $SPYGLASS_BASE_DIR/raw/molly*"
   ]
  },
  {
   "cell_type": "code",
   "execution_count": 6,
   "id": "4a9bbd92-4a02-4423-a8ab-5af16ad11627",
   "metadata": {},
   "outputs": [
    {
     "data": {
      "text/html": [
       "\n",
       "    \n",
       "    <style type=\"text/css\">\n",
       "        .Table{\n",
       "            border-collapse:collapse;\n",
       "        }\n",
       "        .Table th{\n",
       "            background: #A0A0A0; color: #ffffff; padding:4px; border:#f0e0e0 1px solid;\n",
       "            font-weight: normal; font-family: monospace; font-size: 100%;\n",
       "        }\n",
       "        .Table td{\n",
       "            padding:4px; border:#f0e0e0 1px solid; font-size:100%;\n",
       "        }\n",
       "        .Table tr:nth-child(odd){\n",
       "            background: #ffffff;\n",
       "            color: #000000;\n",
       "        }\n",
       "        .Table tr:nth-child(even){\n",
       "            background: #f3f1ff;\n",
       "            color: #000000;\n",
       "        }\n",
       "        /* Tooltip container */\n",
       "        .djtooltip {\n",
       "        }\n",
       "        /* Tooltip text */\n",
       "        .djtooltip .djtooltiptext {\n",
       "            visibility: hidden;\n",
       "            width: 120px;\n",
       "            background-color: black;\n",
       "            color: #fff;\n",
       "            text-align: center;\n",
       "            padding: 5px 0;\n",
       "            border-radius: 6px;\n",
       "            /* Position the tooltip text - see examples below! */\n",
       "            position: absolute;\n",
       "            z-index: 1;\n",
       "        }\n",
       "        #primary {\n",
       "            font-weight: bold;\n",
       "            color: black;\n",
       "        }\n",
       "        #nonprimary {\n",
       "            font-weight: normal;\n",
       "            color: white;\n",
       "        }\n",
       "\n",
       "        /* Show the tooltip text when you mouse over the tooltip container */\n",
       "        .djtooltip:hover .djtooltiptext {\n",
       "            visibility: visible;\n",
       "        }\n",
       "    </style>\n",
       "    \n",
       "    <b>Time intervals used for analysis</b>\n",
       "        <div style=\"max-height:1000px;max-width:1500px;overflow:auto;\">\n",
       "        <table border=\"1\" class=\"Table\">\n",
       "            <thead> <tr style=\"text-align: right;\"> <th> <div class=\"djtooltip\">\n",
       "                            <p id=\"primary\">nwb_file_name</p>\n",
       "                            <span class=\"djtooltiptext\">name of the NWB file</span>\n",
       "                        </div></th><th><div class=\"djtooltip\">\n",
       "                            <p id=\"primary\">interval_list_name</p>\n",
       "                            <span class=\"djtooltiptext\">descriptive name of this interval list</span>\n",
       "                        </div></th><th><div class=\"djtooltip\">\n",
       "                            <p id=\"nonprimary\">valid_times</p>\n",
       "                            <span class=\"djtooltiptext\">numpy array with start/end times for each interval</span>\n",
       "                        </div></th><th><div class=\"djtooltip\">\n",
       "                            <p id=\"nonprimary\">pipeline</p>\n",
       "                            <span class=\"djtooltiptext\">type of interval list (e.g. 'position', 'spikesorting_recording_v1')</span>\n",
       "                        </div> </th> </tr> </thead>\n",
       "            <tbody> <tr> <td>lewis20240106_.nwb</td>\n",
       "<td>01_Rev2Sleep1</td>\n",
       "<td>=BLOB=</td>\n",
       "<td></td></tr><tr><td>lewis20240106_.nwb</td>\n",
       "<td>02_Rev2Session1</td>\n",
       "<td>=BLOB=</td>\n",
       "<td></td></tr><tr><td>lewis20240106_.nwb</td>\n",
       "<td>03_Rev2Sleep2</td>\n",
       "<td>=BLOB=</td>\n",
       "<td></td></tr><tr><td>lewis20240106_.nwb</td>\n",
       "<td>04_Rev2Session2</td>\n",
       "<td>=BLOB=</td>\n",
       "<td></td></tr><tr><td>lewis20240106_.nwb</td>\n",
       "<td>05_Rev2Sleep3</td>\n",
       "<td>=BLOB=</td>\n",
       "<td></td></tr><tr><td>lewis20240106_.nwb</td>\n",
       "<td>06_Rev2Session3</td>\n",
       "<td>=BLOB=</td>\n",
       "<td></td></tr><tr><td>lewis20240106_.nwb</td>\n",
       "<td>07_Rev2Sleep4</td>\n",
       "<td>=BLOB=</td>\n",
       "<td></td></tr><tr><td>lewis20240106_.nwb</td>\n",
       "<td>08_Rev2Session4</td>\n",
       "<td>=BLOB=</td>\n",
       "<td></td></tr><tr><td>lewis20240106_.nwb</td>\n",
       "<td>09_Rev2Sleep5</td>\n",
       "<td>=BLOB=</td>\n",
       "<td></td></tr><tr><td>lewis20240106_.nwb</td>\n",
       "<td>pos 0 valid times</td>\n",
       "<td>=BLOB=</td>\n",
       "<td>position</td></tr><tr><td>lewis20240106_.nwb</td>\n",
       "<td>pos 1 valid times</td>\n",
       "<td>=BLOB=</td>\n",
       "<td>position</td></tr><tr><td>lewis20240106_.nwb</td>\n",
       "<td>pos 2 valid times</td>\n",
       "<td>=BLOB=</td>\n",
       "<td>position</td> </tr> </tbody>\n",
       "        </table>\n",
       "        <p>...</p>\n",
       "        <p>Total: 19</p></div>\n",
       "        "
      ],
      "text/plain": [
       "*nwb_file_name *interval_list valid_time pipeline    \n",
       "+------------+ +------------+ +--------+ +----------+\n",
       "lewis20240106_ 01_Rev2Sleep1  =BLOB=                 \n",
       "lewis20240106_ 02_Rev2Session =BLOB=                 \n",
       "lewis20240106_ 03_Rev2Sleep2  =BLOB=                 \n",
       "lewis20240106_ 04_Rev2Session =BLOB=                 \n",
       "lewis20240106_ 05_Rev2Sleep3  =BLOB=                 \n",
       "lewis20240106_ 06_Rev2Session =BLOB=                 \n",
       "lewis20240106_ 07_Rev2Sleep4  =BLOB=                 \n",
       "lewis20240106_ 08_Rev2Session =BLOB=                 \n",
       "lewis20240106_ 09_Rev2Sleep5  =BLOB=                 \n",
       "lewis20240106_ pos 0 valid ti =BLOB=     position    \n",
       "lewis20240106_ pos 1 valid ti =BLOB=     position    \n",
       "lewis20240106_ pos 2 valid ti =BLOB=     position    \n",
       "   ...\n",
       " (Total: 19)"
      ]
     },
     "execution_count": 6,
     "metadata": {},
     "output_type": "execute_result"
    }
   ],
   "source": [
    "from spyglass.common.common_interval import IntervalList\n",
    "Session & {'nwb_file_name':'lewis20240106_.nwb'}\n",
    "IntervalList & {'nwb_file_name':'lewis20240106_.nwb'}"
   ]
  },
  {
   "cell_type": "code",
   "execution_count": 8,
   "id": "67ef0ee7-04ed-4f4a-ae73-e5327dba58a9",
   "metadata": {},
   "outputs": [],
   "source": [
    "dates=['20220418','20220419']"
   ]
  },
  {
   "cell_type": "code",
   "execution_count": 17,
   "id": "60444dfa-ed9a-4ccc-9426-62a3a22a86a1",
   "metadata": {},
   "outputs": [],
   "source": [
    "%%capture stored_output\n",
    "nd.insert_sessions('molly20220418.nwb')\n",
    "nd.insert_sessions('molly20220419.nwb')"
   ]
  },
  {
   "cell_type": "code",
   "execution_count": 9,
   "id": "9169e491-f8c5-4366-9150-2ffa871e85ba",
   "metadata": {},
   "outputs": [],
   "source": [
    "%%capture stored_output\n",
    "with multiprocessing.Pool(2) as p:\n",
    "    p.map(nd.insert_sessions,['molly'+s+'.nwb' for s in dates])"
   ]
  },
  {
   "cell_type": "code",
   "execution_count": 12,
   "id": "636eaa58-32c4-4af8-9ef6-849a5b70d248",
   "metadata": {},
   "outputs": [
    {
     "name": "stdout",
     "output_type": "stream",
     "text": [
      "Creating a copy of NWB file isaac20230519.nwb with link to raw ephys data: isaac20230519_.nwb\n",
      "Populate Session...\n",
      "No config found at file path /stelmo/nwb/raw/isaac20230519_spyglass_config.yaml\n",
      "Institution...\n",
      "Lab...\n",
      "LabMember...\n",
      "Subject...\n",
      "Populate DataAcquisitionDevice...\n",
      "Inserted or referenced data acquisition device(s): dict_keys(['dataacq_device0'])\n",
      "\n",
      "Populate CameraDevice...\n",
      "Inserted camera devices ['sleep_camera', 'maze_camera']\n",
      "\n",
      "Populate Probe...\n",
      "Probe ID 'tetrode_12.5' already exists in the database. Spyglass will use that and not create a new Probe, Shanks, or Electrodes.\n",
      "Inserted probes {'tetrode_12.5'}\n",
      "\n",
      "Skipping Apparatus for now...\n",
      "IntervalList...\n",
      "Populate ElectrodeGroup...\n",
      "Populate Electrode...\n",
      "No config found at file path /stelmo/nwb/raw/isaac20230519_spyglass_config.yaml\n",
      "Populate Raw...\n",
      "Estimating sampling rate...\n",
      "Estimated sampling rate: 30000.0\n",
      "Importing raw data: Sampling rate:\t30000.0 Hz\n",
      "Number of valid intervals:\t3\n",
      "Populate SampleCount...\n",
      "Populate DIOEvents...\n",
      "Populate TaskEpochs\n",
      "Populate StateScriptFile\n",
      "Statescript log\n",
      "Statescript log\n",
      "Statescript log\n",
      "Statescript log\n",
      "Statescript log\n",
      "Statescript log\n",
      "Statescript log\n",
      "Statescript log\n",
      "Statescript log\n",
      "Populate VideoFile\n",
      "RawPosition...\n",
      "Processing raw position data. Estimated sampling rate: 30.0 Hz\n",
      "Processing raw position data. Estimated sampling rate: 30.0 Hz\n",
      "Processing raw position data. Estimated sampling rate: 30.0 Hz\n"
     ]
    }
   ],
   "source": [
    "stored_output.show()"
   ]
  },
  {
   "cell_type": "code",
   "execution_count": 40,
   "id": "fd5a9248-7635-43db-8fc4-ff5e33379aaa",
   "metadata": {},
   "outputs": [
    {
     "name": "stdout",
     "output_type": "stream",
     "text": [
      "Creating a copy of NWB file molly20220415.nwb with link to raw ephys data: molly20220415_.nwb\n",
      "Populate Session...\n",
      "Institution...\n",
      "Lab...\n",
      "LabMember...\n",
      "Please add the Google user ID for Shijie Gu in the LabMember.LabMemberInfo table if you want to give them permission to manually curate sortings by this team.\n",
      "Subject...\n",
      "DataAcquisitionDevice...\n",
      "Inserted data acquisition devices ['dataacq_device0']\n",
      "CameraDevice...\n",
      "Inserted camera devices ['sleep_camera', 'maze_camera']\n",
      "Probe...\n",
      "No conforming probe device metadata found.\n",
      "Skipping Apparatus for now...\n",
      "IntervalList...\n",
      "Populate ExperimenterList...\n",
      "Populate ElectrodeGroup...\n",
      "Populate Electrode...\n",
      "Populate Raw...\n",
      "Estimating sampling rate...\n",
      "Estimated sampling rate: 30000.0\n",
      "Importing raw data: Estimated sampling rate:\t30000.0 Hz\n",
      "Number of valid intervals:\t10\n",
      "Populate SampleCount...\n",
      "Populate DIOEvents...\n",
      "Populate SensorData\n",
      "Populate TaskEpochs\n",
      "Populate StateScriptFile\n",
      "Populate VideoFile\n",
      "RawPosition...\n",
      "Processing raw position data. Estimated sampling rate: 66.0 Hz\n",
      "Processing raw position data. Estimated sampling rate: 23.0 Hz\n",
      "Processing raw position data. Estimated sampling rate: 66.0 Hz\n",
      "Processing raw position data. Estimated sampling rate: 23.0 Hz\n",
      "Processing raw position data. Estimated sampling rate: 66.0 Hz\n",
      "Processing raw position data. Estimated sampling rate: 23.0 Hz\n",
      "Processing raw position data. Estimated sampling rate: 66.0 Hz\n",
      "Processing raw position data. Estimated sampling rate: 23.0 Hz\n",
      "Processing raw position data. Estimated sampling rate: 66.0 Hz\n"
     ]
    }
   ],
   "source": [
    "# Define the name of the file that you copied and renamed; make sure it's something unique. \n",
    "nwb_file_name = 'molly20220415.nwb'\n",
    "filename, file_extension = os.path.splitext(nwb_file_name)\n",
    "# This is a copy of the original nwb file, except it doesn't contain the raw data (for storage reasons)\n",
    "nwb_file_name2 = filename + '_' + file_extension\n",
    "\n",
    "nd.insert_sessions(nwb_file_name)"
   ]
  },
  {
   "cell_type": "code",
   "execution_count": 101,
   "id": "1e61a15e-9de8-44ce-8e30-c947d5e3dc84",
   "metadata": {},
   "outputs": [],
   "source": [
    "nwb_file_name2='molly20220420_.nwb'"
   ]
  },
  {
   "cell_type": "code",
   "execution_count": 102,
   "id": "4d73e9ef-86cb-470e-a0c0-787097294618",
   "metadata": {},
   "outputs": [],
   "source": [
    "rawdata = Raw().nwb_object({'nwb_file_name':nwb_file_name2})"
   ]
  },
  {
   "cell_type": "code",
   "execution_count": 103,
   "id": "ca2cd783-d0cf-4a17-99ac-63baf20f9157",
   "metadata": {},
   "outputs": [
    {
     "data": {
      "text/plain": [
       "(865608585, 256)"
      ]
     },
     "execution_count": 103,
     "metadata": {},
     "output_type": "execute_result"
    }
   ],
   "source": [
    "rawdata.data.shape"
   ]
  },
  {
   "cell_type": "code",
   "execution_count": 104,
   "id": "43e382cc-794e-4cc0-9c6d-ef91a93cca78",
   "metadata": {},
   "outputs": [
    {
     "data": {
      "text/plain": [
       "[<matplotlib.lines.Line2D at 0x7f0909667e50>]"
      ]
     },
     "execution_count": 104,
     "metadata": {},
     "output_type": "execute_result"
    },
    {
     "data": {
      "image/png": "[encoded data removed]",
      "text/plain": [
       "<Figure size 432x288 with 1 Axes>"
      ]
     },
     "metadata": {
      "needs_background": "light"
     },
     "output_type": "display_data"
    }
   ],
   "source": [
    "plt.plot(rawdata.data[1:30000,15])\n",
    "plt.plot(rawdata.data[1:30000,16*4+1])"
   ]
  },
  {
   "cell_type": "code",
   "execution_count": 58,
   "id": "1c68b049-f714-46b1-8dec-e05a11dfe318",
   "metadata": {},
   "outputs": [
    {
     "data": {
      "text/html": [
       "\n",
       "    \n",
       "    <style type=\"text/css\">\n",
       "        .Relation{\n",
       "            border-collapse:collapse;\n",
       "        }\n",
       "        .Relation th{\n",
       "            background: #A0A0A0; color: #ffffff; padding:4px; border:#f0e0e0 1px solid;\n",
       "            font-weight: normal; font-family: monospace; font-size: 100%;\n",
       "        }\n",
       "        .Relation td{\n",
       "            padding:4px; border:#f0e0e0 1px solid; font-size:100%;\n",
       "        }\n",
       "        .Relation tr:nth-child(odd){\n",
       "            background: #ffffff;\n",
       "        }\n",
       "        .Relation tr:nth-child(even){\n",
       "            background: #f3f1ff;\n",
       "        }\n",
       "        /* Tooltip container */\n",
       "        .djtooltip {\n",
       "        }\n",
       "        /* Tooltip text */\n",
       "        .djtooltip .djtooltiptext {\n",
       "            visibility: hidden;\n",
       "            width: 120px;\n",
       "            background-color: black;\n",
       "            color: #fff;\n",
       "            text-align: center;\n",
       "            padding: 5px 0;\n",
       "            border-radius: 6px;\n",
       "            /* Position the tooltip text - see examples below! */\n",
       "            position: absolute;\n",
       "            z-index: 1;\n",
       "        }\n",
       "        #primary {\n",
       "            font-weight: bold;\n",
       "            color: black;\n",
       "        }\n",
       "        #nonprimary {\n",
       "            font-weight: normal;\n",
       "            color: white;\n",
       "        }\n",
       "\n",
       "        /* Show the tooltip text when you mouse over the tooltip container */\n",
       "        .djtooltip:hover .djtooltiptext {\n",
       "            visibility: visible;\n",
       "        }\n",
       "    </style>\n",
       "    \n",
       "    <b>Raw voltage timeseries data, ElectricalSeries in NWB.</b>\n",
       "        <div style=\"max-height:1000px;max-width:1500px;overflow:auto;\">\n",
       "        <table border=\"1\" class=\"Relation\">\n",
       "            <thead> <tr style=\"text-align: right;\"> <th> <div class=\"djtooltip\">\n",
       "                            <p id=\"primary\">nwb_file_name</p>\n",
       "                            <span class=\"djtooltiptext\">name of the NWB file</span>\n",
       "                        </div></th><th><div class=\"djtooltip\">\n",
       "                            <p id=\"nonprimary\">interval_list_name</p>\n",
       "                            <span class=\"djtooltiptext\">descriptive name of this interval list</span>\n",
       "                        </div></th><th><div class=\"djtooltip\">\n",
       "                            <p id=\"nonprimary\">raw_object_id</p>\n",
       "                            <span class=\"djtooltiptext\">the NWB object ID for loading this object from the file</span>\n",
       "                        </div></th><th><div class=\"djtooltip\">\n",
       "                            <p id=\"nonprimary\">sampling_rate</p>\n",
       "                            <span class=\"djtooltiptext\">Sampling rate calculated from data, in Hz</span>\n",
       "                        </div></th><th><div class=\"djtooltip\">\n",
       "                            <p id=\"nonprimary\">comments</p>\n",
       "                            <span class=\"djtooltiptext\"></span>\n",
       "                        </div></th><th><div class=\"djtooltip\">\n",
       "                            <p id=\"nonprimary\">description</p>\n",
       "                            <span class=\"djtooltiptext\"></span>\n",
       "                        </div> </th> </tr> </thead>\n",
       "            <tbody> <tr> <td>molly20220415_.nwb</td>\n",
       "<td>raw data valid times</td>\n",
       "<td>6d418841-e640-4d7f-8490-b835c6335963</td>\n",
       "<td>30000.0</td>\n",
       "<td>No comment</td>\n",
       "<td>Recording of extracellular voltage</td> </tr> </tbody>\n",
       "        </table>\n",
       "        \n",
       "        <p>Total: 1</p></div>\n",
       "        "
      ],
      "text/plain": [
       "*nwb_file_name interval_list_ raw_object_id  sampling_rate  comments       description   \n",
       "+------------+ +------------+ +------------+ +------------+ +------------+ +------------+\n",
       "molly20220415_ raw data valid 6d418841-e640- 30000.0        No comment     Recording of e\n",
       " (Total: 1)"
      ]
     },
     "execution_count": 58,
     "metadata": {},
     "output_type": "execute_result"
    }
   ],
   "source": [
    "Raw & {'nwb_file_name':nwb_file_name2}"
   ]
  },
  {
   "cell_type": "code",
   "execution_count": 6,
   "id": "815fb400-20d9-4022-96b7-4906e3c5c0ed",
   "metadata": {},
   "outputs": [],
   "source": [
    "import pynwb"
   ]
  },
  {
   "cell_type": "code",
   "execution_count": 32,
   "id": "9e860899-48bf-4d82-980d-40d8af0fc409",
   "metadata": {},
   "outputs": [
    {
     "name": "stderr",
     "output_type": "stream",
     "text": [
      "/home/shijiegu/anaconda3/envs/spyglass/lib/python3.8/site-packages/h5py/_hl/dataset.py:541: DeprecationWarning: Passing None into shape arguments as an alias for () is deprecated.\n",
      "  arr = numpy.ndarray(selection.mshape, dtype=new_dtype)\n",
      "/home/shijiegu/anaconda3/envs/spyglass/lib/python3.8/site-packages/pynwb/base.py:167: UserWarning: Length of data does not match length of timestamps. Your data may be transposed. Time should be on the 0th dimension\n",
      "  warn(\"Length of data does not match length of timestamps. Your data may be transposed. Time should be on \"\n"
     ]
    }
   ],
   "source": [
    "io = pynwb.NWBHDF5IO('/stelmo/nwb/raw/molly20220419.nwb','r')\n",
    "nwbf = io.read()\n",
    "\n",
    "epochs = nwbf.epochs.to_dataframe()\n",
    "\n",
    "rawdata = nwbf.get_acquisition()\n",
    "timestamps=np.asarray(rawdata.timestamps)"
   ]
  },
  {
   "cell_type": "code",
   "execution_count": 55,
   "id": "dd50fa39-8795-463b-9393-7ec4e754a063",
   "metadata": {},
   "outputs": [
    {
     "data": {
      "text/plain": [
       "series_1 pynwb.behavior.SpatialSeries at 0x140641282295408\n",
       "Fields:\n",
       "  comments: no comments\n",
       "  conversion: 0.0025\n",
       "  data: <HDF5 dataset \"data\": shape (49114, 4), type \"<i2\">\n",
       "  description: xloc, yloc, xloc2, yloc2\n",
       "  interval: 1\n",
       "  reference_frame: Upper left corner of video frame\n",
       "  resolution: -1.0\n",
       "  timestamps: <HDF5 dataset \"timestamps\": shape (49114,), type \"<f8\">\n",
       "  timestamps_unit: seconds\n",
       "  unit: meters"
      ]
     },
     "execution_count": 55,
     "metadata": {},
     "output_type": "execute_result"
    }
   ],
   "source": [
    "posdata=nwbf.processing['behavior']['position']['series_1'].data"
   ]
  },
  {
   "cell_type": "code",
   "execution_count": 28,
   "id": "a9369ff9-0f71-4421-93f4-c097119b6e8d",
   "metadata": {},
   "outputs": [],
   "source": [
    "gyrodata=nwbf.processing['analog']['analog'].time_series['analog'].data"
   ]
  },
  {
   "cell_type": "code",
   "execution_count": 35,
   "id": "b9ed19f4-9af1-4f19-8817-72727db714ef",
   "metadata": {},
   "outputs": [
    {
     "data": {
      "text/plain": [
       "analog pynwb.base.TimeSeries at 0x140641282214304\n",
       "Fields:\n",
       "  comments: no comments\n",
       "  conversion: 1.0\n",
       "  data: <HDF5 dataset \"data\": shape (679255959, 6), type \"<i4\">\n",
       "  description: Headstage_GyroY   Headstage_AccelX   Headstage_GyroX   Headstage_AccelY   Headstage_AccelZ   timestamps   Headstage_GyroZ   \n",
       "  interval: 1\n",
       "  resolution: -1.0\n",
       "  timestamps: <HDF5 dataset \"timestamps\": shape (679255959,), type \"<f8\">\n",
       "  timestamps_unit: seconds\n",
       "  unit: unspecified"
      ]
     },
     "execution_count": 35,
     "metadata": {},
     "output_type": "execute_result"
    }
   ],
   "source": [
    "nwbf.processing['analog']['analog'].time_series['analog']"
   ]
  },
  {
   "cell_type": "code",
   "execution_count": 49,
   "id": "28560a32-35cc-46d1-a4c8-a6b9a1d9d7f9",
   "metadata": {},
   "outputs": [
    {
     "data": {
      "text/plain": [
       "[<matplotlib.lines.Line2D at 0x7fe7f135a580>]"
      ]
     },
     "execution_count": 49,
     "metadata": {},
     "output_type": "execute_result"
    },
    {
     "data": {
      "image/png": "[encoded data removed]",
      "text/plain": [
       "<Figure size 432x288 with 1 Axes>"
      ]
     },
     "metadata": {
      "needs_background": "light"
     },
     "output_type": "display_data"
    }
   ],
   "source": [
    "\n",
    "plt.plot(gyrodata[1:1000000,1])\n",
    "\n",
    "plt.plot(gyrodata[1:1000000,3])"
   ]
  },
  {
   "cell_type": "code",
   "execution_count": 113,
   "id": "719d5aaa-a7ff-4acf-8516-5193b67d7bf3",
   "metadata": {},
   "outputs": [
    {
     "data": {
      "text/html": [
       "\n",
       "    \n",
       "    <style type=\"text/css\">\n",
       "        .Relation{\n",
       "            border-collapse:collapse;\n",
       "        }\n",
       "        .Relation th{\n",
       "            background: #A0A0A0; color: #ffffff; padding:4px; border:#f0e0e0 1px solid;\n",
       "            font-weight: normal; font-family: monospace; font-size: 100%;\n",
       "        }\n",
       "        .Relation td{\n",
       "            padding:4px; border:#f0e0e0 1px solid; font-size:100%;\n",
       "        }\n",
       "        .Relation tr:nth-child(odd){\n",
       "            background: #ffffff;\n",
       "        }\n",
       "        .Relation tr:nth-child(even){\n",
       "            background: #f3f1ff;\n",
       "        }\n",
       "        /* Tooltip container */\n",
       "        .djtooltip {\n",
       "        }\n",
       "        /* Tooltip text */\n",
       "        .djtooltip .djtooltiptext {\n",
       "            visibility: hidden;\n",
       "            width: 120px;\n",
       "            background-color: black;\n",
       "            color: #fff;\n",
       "            text-align: center;\n",
       "            padding: 5px 0;\n",
       "            border-radius: 6px;\n",
       "            /* Position the tooltip text - see examples below! */\n",
       "            position: absolute;\n",
       "            z-index: 1;\n",
       "        }\n",
       "        #primary {\n",
       "            font-weight: bold;\n",
       "            color: black;\n",
       "        }\n",
       "        #nonprimary {\n",
       "            font-weight: normal;\n",
       "            color: white;\n",
       "        }\n",
       "\n",
       "        /* Show the tooltip text when you mouse over the tooltip container */\n",
       "        .djtooltip:hover .djtooltiptext {\n",
       "            visibility: visible;\n",
       "        }\n",
       "    </style>\n",
       "    \n",
       "    <b>Time intervals used for analysis</b>\n",
       "        <div style=\"max-height:1000px;max-width:1500px;overflow:auto;\">\n",
       "        <table border=\"1\" class=\"Relation\">\n",
       "            <thead> <tr style=\"text-align: right;\"> <th> <div class=\"djtooltip\">\n",
       "                            <p id=\"primary\">nwb_file_name</p>\n",
       "                            <span class=\"djtooltiptext\">name of the NWB file</span>\n",
       "                        </div></th><th><div class=\"djtooltip\">\n",
       "                            <p id=\"primary\">interval_list_name</p>\n",
       "                            <span class=\"djtooltiptext\">descriptive name of this interval list</span>\n",
       "                        </div></th><th><div class=\"djtooltip\">\n",
       "                            <p id=\"nonprimary\">valid_times</p>\n",
       "                            <span class=\"djtooltiptext\">numpy array with start and end times for each interval</span>\n",
       "                        </div> </th> </tr> </thead>\n",
       "            <tbody> <tr> <td>molly20220420_.nwb</td>\n",
       "<td>01_Seq2Sleep1</td>\n",
       "<td>=BLOB=</td></tr><tr><td>molly20220420_.nwb</td>\n",
       "<td>02_Seq2Session1</td>\n",
       "<td>=BLOB=</td></tr><tr><td>molly20220420_.nwb</td>\n",
       "<td>03_Seq2Sleep2</td>\n",
       "<td>=BLOB=</td></tr><tr><td>molly20220420_.nwb</td>\n",
       "<td>04_Seq2Session2</td>\n",
       "<td>=BLOB=</td></tr><tr><td>molly20220420_.nwb</td>\n",
       "<td>05_Seq2Sleep3</td>\n",
       "<td>=BLOB=</td></tr><tr><td>molly20220420_.nwb</td>\n",
       "<td>06_Seq2Session3</td>\n",
       "<td>=BLOB=</td></tr><tr><td>molly20220420_.nwb</td>\n",
       "<td>07_Seq2Sleep4</td>\n",
       "<td>=BLOB=</td></tr><tr><td>molly20220420_.nwb</td>\n",
       "<td>08_Seq2Session4</td>\n",
       "<td>=BLOB=</td></tr><tr><td>molly20220420_.nwb</td>\n",
       "<td>09_Seq2Sleep5</td>\n",
       "<td>=BLOB=</td></tr><tr><td>molly20220420_.nwb</td>\n",
       "<td>10_Seq2Session5</td>\n",
       "<td>=BLOB=</td></tr><tr><td>molly20220420_.nwb</td>\n",
       "<td>11_Seq2Sleep6</td>\n",
       "<td>=BLOB=</td></tr><tr><td>molly20220420_.nwb</td>\n",
       "<td>12_Seq2Session6</td>\n",
       "<td>=BLOB=</td> </tr> </tbody>\n",
       "        </table>\n",
       "        <p>...</p>\n",
       "        <p>Total: 27</p></div>\n",
       "        "
      ],
      "text/plain": [
       "*nwb_file_name *interval_list valid_time\n",
       "+------------+ +------------+ +--------+\n",
       "molly20220420_ 01_Seq2Sleep1  =BLOB=    \n",
       "molly20220420_ 02_Seq2Session =BLOB=    \n",
       "molly20220420_ 03_Seq2Sleep2  =BLOB=    \n",
       "molly20220420_ 04_Seq2Session =BLOB=    \n",
       "molly20220420_ 05_Seq2Sleep3  =BLOB=    \n",
       "molly20220420_ 06_Seq2Session =BLOB=    \n",
       "molly20220420_ 07_Seq2Sleep4  =BLOB=    \n",
       "molly20220420_ 08_Seq2Session =BLOB=    \n",
       "molly20220420_ 09_Seq2Sleep5  =BLOB=    \n",
       "molly20220420_ 10_Seq2Session =BLOB=    \n",
       "molly20220420_ 11_Seq2Sleep6  =BLOB=    \n",
       "molly20220420_ 12_Seq2Session =BLOB=    \n",
       "   ...\n",
       " (Total: 27)"
      ]
     },
     "execution_count": 113,
     "metadata": {},
     "output_type": "execute_result"
    }
   ],
   "source": [
    "(IntervalList & {'nwb_file_name':nwb_file_name2})"
   ]
  },
  {
   "cell_type": "code",
   "execution_count": 115,
   "id": "bb9f4811-c3a6-497f-bc89-60b37000ed08",
   "metadata": {},
   "outputs": [],
   "source": [
    "interval_list_name=(IntervalList & {'nwb_file_name':nwb_file_name2}).fetch('interval_list_name')"
   ]
  },
  {
   "cell_type": "code",
   "execution_count": 121,
   "id": "0e8c763a-d5c2-481f-b801-2d4b039381cd",
   "metadata": {},
   "outputs": [],
   "source": [
    "session_time=[]\n",
    "for i in range(13):\n",
    "    session_time.append((IntervalList & {'nwb_file_name':nwb_file_name2,'interval_list_name':interval_list_name[i]}).fetch1('valid_times'))"
   ]
  },
  {
   "cell_type": "code",
   "execution_count": 119,
   "id": "11abafc2-0351-4468-a976-5c10ad1fec63",
   "metadata": {},
   "outputs": [
    {
     "data": {
      "text/plain": [
       "[array([[1.65047092e+09, 1.65047273e+09]]),\n",
       " array([[1.65047277e+09, 1.65047496e+09]]),\n",
       " array([[1.65047508e+09, 1.65047739e+09]]),\n",
       " array([[1.65047745e+09, 1.65047969e+09]]),\n",
       " array([[1.65047983e+09, 1.65048165e+09]]),\n",
       " array([[1.6504817e+09, 1.6504840e+09]]),\n",
       " array([[1.65048420e+09, 1.65048607e+09]]),\n",
       " array([[1.65048626e+09, 1.65048863e+09]]),\n",
       " array([[1.65048909e+09, 1.65049150e+09]]),\n",
       " array([[1.65049173e+09, 1.65049430e+09]]),\n",
       " array([[1.65049442e+09, 1.65049718e+09]]),\n",
       " array([[1.65049748e+09, 1.65049983e+09]]),\n",
       " array([[1.65049990e+09, 1.65050174e+09]])]"
      ]
     },
     "execution_count": 119,
     "metadata": {},
     "output_type": "execute_result"
    }
   ],
   "source": [
    "session_time"
   ]
  },
  {
   "cell_type": "code",
   "execution_count": 111,
   "id": "d4798130-a050-4b7a-b188-81e92451b459",
   "metadata": {},
   "outputs": [
    {
     "data": {
      "text/plain": [
       "array([[1.6504817e+09, 1.6504840e+09]])"
      ]
     },
     "execution_count": 111,
     "metadata": {},
     "output_type": "execute_result"
    }
   ],
   "source": [
    "Seq2Session2"
   ]
  },
  {
   "cell_type": "code",
   "execution_count": 86,
   "id": "6847b544-6a2b-41c2-af9d-ee7208524709",
   "metadata": {},
   "outputs": [],
   "source": [
    "Seq2Session2_pos=(IntervalList & {'nwb_file_name':nwb_file_name2,'interval_list_name':'pos 5 valid times'}).fetch1('valid_times')"
   ]
  },
  {
   "cell_type": "code",
   "execution_count": 106,
   "id": "5abd6df6-8d55-4e1f-9508-7ad81058eca6",
   "metadata": {},
   "outputs": [
    {
     "data": {
      "text/plain": [
       "array([[1.65047092e+09, 1.65047158e+09],\n",
       "       [1.65047158e+09, 1.65047158e+09],\n",
       "       [1.65047158e+09, 1.65047158e+09],\n",
       "       [1.65047158e+09, 1.65047162e+09],\n",
       "       [1.65047162e+09, 1.65047162e+09],\n",
       "       [1.65047162e+09, 1.65047162e+09],\n",
       "       [1.65047162e+09, 1.65047162e+09],\n",
       "       [1.65047162e+09, 1.65047162e+09],\n",
       "       [1.65047162e+09, 1.65047162e+09],\n",
       "       [1.65047162e+09, 1.65047162e+09],\n",
       "       [1.65047162e+09, 1.65047162e+09],\n",
       "       [1.65047162e+09, 1.65047162e+09],\n",
       "       [1.65047162e+09, 1.65047176e+09],\n",
       "       [1.65047176e+09, 1.65047176e+09],\n",
       "       [1.65047176e+09, 1.65047176e+09],\n",
       "       [1.65047176e+09, 1.65047176e+09],\n",
       "       [1.65047176e+09, 1.65047176e+09],\n",
       "       [1.65047176e+09, 1.65047273e+09],\n",
       "       [1.65047277e+09, 1.65047496e+09],\n",
       "       [1.65047508e+09, 1.65047739e+09],\n",
       "       [1.65047745e+09, 1.65047969e+09],\n",
       "       [1.65047983e+09, 1.65048165e+09],\n",
       "       [1.65048170e+09, 1.65048400e+09],\n",
       "       [1.65048420e+09, 1.65048607e+09],\n",
       "       [1.65048626e+09, 1.65048863e+09],\n",
       "       [1.65048909e+09, 1.65049150e+09],\n",
       "       [1.65049173e+09, 1.65049430e+09],\n",
       "       [1.65049442e+09, 1.65049718e+09],\n",
       "       [1.65049748e+09, 1.65049983e+09],\n",
       "       [1.65049990e+09, 1.65050174e+09]])"
      ]
     },
     "execution_count": 106,
     "metadata": {},
     "output_type": "execute_result"
    }
   ],
   "source": [
    "valid_times=(IntervalList & {'nwb_file_name':nwb_file_name2,'interval_list_name':'raw data valid times'}).fetch1('valid_times')\n",
    "valid_times"
   ]
  },
  {
   "cell_type": "code",
   "execution_count": 127,
   "id": "4e7b9a4d-de36-4e06-b471-e6cf7c45e466",
   "metadata": {},
   "outputs": [
    {
     "data": {
      "text/plain": [
       "(1650471577.9359105, 1650471577.9383771)"
      ]
     },
     "execution_count": 127,
     "metadata": {},
     "output_type": "execute_result"
    }
   ],
   "source": [
    "i=1\n",
    "valid_times[i,0],valid_times[i,1]"
   ]
  },
  {
   "cell_type": "code",
   "execution_count": 128,
   "id": "649d9ae0-5980-44bb-bf85-66085830f047",
   "metadata": {},
   "outputs": [
    {
     "data": {
      "text/plain": [
       "0.0024666786193847656"
      ]
     },
     "execution_count": 128,
     "metadata": {},
     "output_type": "execute_result"
    }
   ],
   "source": [
    "valid_times[i,1]-valid_times[i,0]"
   ]
  },
  {
   "cell_type": "code",
   "execution_count": null,
   "id": "a148a04a-a761-4d93-a317-b18fcbc889eb",
   "metadata": {},
   "outputs": [],
   "source": []
  },
  {
   "cell_type": "code",
   "execution_count": 124,
   "id": "1934133d-8873-4631-9531-cfae71142e83",
   "metadata": {},
   "outputs": [
    {
     "data": {
      "image/png": "[encoded data removed]",
      "text/plain": [
       "<Figure size 720x2880 with 1 Axes>"
      ]
     },
     "metadata": {
      "needs_background": "light"
     },
     "output_type": "display_data"
    }
   ],
   "source": [
    "\n",
    "plt.figure(figsize=(10,40))\n",
    "#plt.plot(timestamps)\n",
    "filelength=len(timestamps)\n",
    "for i in range(np.shape(valid_times)[0]):\n",
    "    plt.plot([0,filelength/3],[valid_times[i,0],valid_times[i,0]],'r')\n",
    "    plt.plot([0,filelength/3],[valid_times[i,1],valid_times[i,1]],'b')\n",
    "    plt.text(round(filelength/3),valid_times[i,0],str(i))\n",
    "    \n",
    "    \n",
    "for i in range(np.shape(session_time)[0]):\n",
    "    plt.plot([filelength/3,2*filelength/3],[session_time[i][0,0],session_time[i][0,0]],'r')\n",
    "    plt.plot([filelength/3,2*filelength/3],[session_time[i][0,1],session_time[i][0,1]],'b')\n",
    "    plt.text(round(2*filelength/3),session_time[i][0,0],interval_list_name[i])\n"
   ]
  },
  {
   "cell_type": "code",
   "execution_count": 18,
   "id": "6634f5d8-2895-4407-8540-050208a4f245",
   "metadata": {},
   "outputs": [
    {
     "data": {
      "text/plain": [
       "array([[1.65005882e+09, 1.65006057e+09]])"
      ]
     },
     "execution_count": 18,
     "metadata": {},
     "output_type": "execute_result"
    }
   ],
   "source": [
    "(IntervalList & {'nwb_file_name':nwb_file_name2, 'interval_list_name':'07_Seq2Sleep3'}).fetch1('valid_times')"
   ]
  },
  {
   "cell_type": "markdown",
   "id": "1f8ee955-6f25-4560-bdfb-bce802f1f307",
   "metadata": {},
   "source": [
    "## Make LFP"
   ]
  },
  {
   "cell_type": "code",
   "execution_count": 51,
   "id": "aaffa6a2-a469-4d81-b954-0ca5e6e00370",
   "metadata": {},
   "outputs": [],
   "source": [
    "FirFilter().create_standard_filters()"
   ]
  },
  {
   "cell_type": "code",
   "execution_count": 70,
   "id": "02e37e1b-e1fd-44f0-ace3-6937b3a80488",
   "metadata": {},
   "outputs": [
    {
     "name": "stdout",
     "output_type": "stream",
     "text": [
      "Deleting 0 rows from `common_ephys`.`l_f_p_selection`\n",
      "Nothing to delete.\n"
     ]
    }
   ],
   "source": [
    "electrode_ids = (Electrode & {'nwb_file_name' : nwb_file_name2}).fetch('electrode_id')\n",
    "lfp_electrode_ids = electrode_ids\n",
    "LFPSelection().set_lfp_electrodes(nwb_file_name2, lfp_electrode_ids.tolist())"
   ]
  },
  {
   "cell_type": "code",
   "execution_count": null,
   "id": "0169ddfa-694c-429e-89af-0f1db155a59c",
   "metadata": {},
   "outputs": [
    {
     "name": "stdout",
     "output_type": "stream",
     "text": [
      "LFP: found 10 of 10 intervals > 1.0 sec long.\n",
      "Writing new NWB file molly20220416_JR1ZROCK77.nwb\n"
     ]
    },
    {
     "name": "stderr",
     "output_type": "stream",
     "text": [
      "IOStream.flush timed out\n"
     ]
    },
    {
     "name": "stdout",
     "output_type": "stream",
     "text": [
      "Filtering data\n",
      "Interval 0: loading data into memory\n",
      "Interval 1: loading data into memory\n",
      "Interval 2: loading data into memory\n",
      "Interval 3: leaving data on disk\n"
     ]
    }
   ],
   "source": [
    "LFP().populate([LFPSelection & {'nwb_file_name':nwb_file_name2}])"
   ]
  },
  {
   "cell_type": "code",
   "execution_count": null,
   "id": "38eb3b41-bb24-4d0c-a1bc-8b9e9e7da3d7",
   "metadata": {},
   "outputs": [],
   "source": [
    "LFP&{'nwb_file_name':nwb_file_name2}"
   ]
  },
  {
   "cell_type": "code",
   "execution_count": null,
   "id": "9725d275-3947-4813-ada1-bcef9ff695dc",
   "metadata": {},
   "outputs": [],
   "source": []
  }
 ],
 "metadata": {
  "kernelspec": {
   "display_name": "Python [conda env:anaconda3-spyglass]",
   "language": "python",
   "name": "conda-env-anaconda3-spyglass-py"
  },
  "language_info": {
   "codemirror_mode": {
    "name": "ipython",
    "version": 3
   },
   "file_extension": ".py",
   "mimetype": "text/x-python",
   "name": "python",
   "nbconvert_exporter": "python",
   "pygments_lexer": "ipython3",
   "version": "3.9.18"
  }
 },
 "nbformat": 4,
 "nbformat_minor": 5
}
