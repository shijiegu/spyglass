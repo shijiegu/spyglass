{
 "cells": [
  {
   "cell_type": "markdown",
   "id": "6d8e0ad1-2d68-4859-a86b-fc2b559d27ea",
   "metadata": {},
   "source": [
    "## 2. Trial by trial decoding analysis\n",
    "\n",
    "### (Map Ripple's decode, insert into the Database.)\n",
    "[This notebook uses TrialChoice() and RippleTimes() to populate the TrialChoiceReplay() table.]\n",
    "##### All the tables mentioned above are under shijiegu github/spyglass/shijiegu/Analysis_SGU.py. It is not in the Franklab spyglass.\n",
    "\n",
    "Jun 23, 2024\n",
    "Shijie Gu"
   ]
  },
  {
   "cell_type": "code",
   "execution_count": 40,
   "id": "e3f9c4b7-680d-4f4f-907a-62ae4b7b17f3",
   "metadata": {},
   "outputs": [],
   "source": [
    "%reload_ext autoreload\n",
    "%autoreload 2"
   ]
  },
  {
   "cell_type": "code",
   "execution_count": 41,
   "id": "3e2ceae1-916b-4637-85d5-77392aa63c35",
   "metadata": {},
   "outputs": [],
   "source": [
    "import spyglass as nd\n",
    "import pandas as pd\n",
    "import os\n",
    "# ignore datajoint+jupyter async warnings\n",
    "import warnings\n",
    "warnings.simplefilter('ignore', category=DeprecationWarning)\n",
    "warnings.simplefilter('ignore', category=ResourceWarning)\n",
    "\n",
    "import matplotlib.pyplot as plt\n",
    "import numpy as np\n",
    "import xarray as xr\n",
    "import logging\n",
    "import multiprocessing\n",
    "\n",
    "FORMAT = '%(asctime)s %(message)s'\n",
    "\n",
    "logging.basicConfig(level='INFO', format=FORMAT, datefmt='%d-%b-%y %H:%M:%S')\n",
    "\n",
    "from spyglass.common import (Session, IntervalList,IntervalPositionInfo,\n",
    "                             LabMember, LabTeam, Raw, Session, Nwbfile,\n",
    "                            Electrode,LFPBand,interval_list_intersect)\n",
    "from spyglass.common.common_interval import _intersection\n",
    "\n",
    "import spyglass.spikesorting as ss\n",
    "from spyglass.spikesorting.v0 import (SortGroup, \n",
    "                                    SortInterval,\n",
    "                                    SpikeSortingPreprocessingParameters,\n",
    "                                    SpikeSortingRecording, \n",
    "                                    SpikeSorterParameters,\n",
    "                                    SpikeSortingRecordingSelection,\n",
    "                                    ArtifactDetectionParameters, ArtifactDetectionSelection,\n",
    "                                    ArtifactRemovedIntervalList, ArtifactDetection,\n",
    "                                      SpikeSortingSelection, SpikeSorting,\n",
    "                                   CuratedSpikeSortingSelection,CuratedSpikeSorting,Curation)\n",
    "#from spyglass.decoding.clusterless import (UnitMarks,\n",
    "#                                           UnitMarkParameters,UnitMarksIndicatorSelection,\n",
    "#                                          UnitMarksIndicator)\n",
    "from spyglass.utils.nwb_helper_fn import get_nwb_copy_filename\n",
    "from spyglass.common.common_position import IntervalPositionInfo, IntervalPositionInfoSelection\n",
    "from spyglass.common.common_position import IntervalLinearizedPosition\n",
    "\n",
    "from spyglass.shijiegu.load import load_epoch_data\n",
    "# Here are the analysis tables specific to Shijie Gu\n",
    "from spyglass.shijiegu.Analysis_SGU import (TrialChoice,\n",
    "                                   TrialChoiceReplay,\n",
    "                                   RippleTimes,\n",
    "                                   DecodeResultsLinear,get_linearization_map,\n",
    "                                   find_ripple_times,mua_thresholder,sort_replays,\n",
    "                                   classify_ripples,classify_ripple_content,\n",
    "                                   load_everything,MUA,\n",
    "                                   TetrodeNumber\n",
    "                                  )\n",
    "from spyglass.shijiegu.Analysis_SGU import EpochPos,RippleTimesWithDecode,ExtendedRippleTimes,ExtendedTrialChoiceReplay,TrialChoiceReplayTransition\n",
    "from spyglass.shijiegu.ripple_add_replay import (replay_parser_master,plot_ripples_replays)"
   ]
  },
  {
   "cell_type": "code",
   "execution_count": 61,
   "id": "068d0d69-e76e-41b2-b280-b57e336d8a5d",
   "metadata": {},
   "outputs": [],
   "source": [
    "# the only cell to be edited\n",
    "nwb_file_name_all = ['eliot20221016.nwb']"
   ]
  },
  {
   "cell_type": "code",
   "execution_count": 50,
   "id": "97af5ae1-9589-4418-bd74-0cef2ba82882",
   "metadata": {},
   "outputs": [],
   "source": [
    "#DecodeResultsLinear & {'nwb_file_name': nwb_file_name_all[0]}"
   ]
  },
  {
   "cell_type": "code",
   "execution_count": 51,
   "id": "07ec6939-9e62-42ad-98c7-3c9e0f4d6e2d",
   "metadata": {},
   "outputs": [
    {
     "data": {
      "text/html": [
       "\n",
       "    \n",
       "    <style type=\"text/css\">\n",
       "        .Table{\n",
       "            border-collapse:collapse;\n",
       "        }\n",
       "        .Table th{\n",
       "            background: #A0A0A0; color: #ffffff; padding:4px; border:#f0e0e0 1px solid;\n",
       "            font-weight: normal; font-family: monospace; font-size: 100%;\n",
       "        }\n",
       "        .Table td{\n",
       "            padding:4px; border:#f0e0e0 1px solid; font-size:100%;\n",
       "        }\n",
       "        .Table tr:nth-child(odd){\n",
       "            background: #ffffff;\n",
       "            color: #000000;\n",
       "        }\n",
       "        .Table tr:nth-child(even){\n",
       "            background: #f3f1ff;\n",
       "            color: #000000;\n",
       "        }\n",
       "        /* Tooltip container */\n",
       "        .djtooltip {\n",
       "        }\n",
       "        /* Tooltip text */\n",
       "        .djtooltip .djtooltiptext {\n",
       "            visibility: hidden;\n",
       "            width: 120px;\n",
       "            background-color: black;\n",
       "            color: #fff;\n",
       "            text-align: center;\n",
       "            padding: 5px 0;\n",
       "            border-radius: 6px;\n",
       "            /* Position the tooltip text - see examples below! */\n",
       "            position: absolute;\n",
       "            z-index: 1;\n",
       "        }\n",
       "        #primary {\n",
       "            font-weight: bold;\n",
       "            color: black;\n",
       "        }\n",
       "        #nonprimary {\n",
       "            font-weight: normal;\n",
       "            color: white;\n",
       "        }\n",
       "\n",
       "        /* Show the tooltip text when you mouse over the tooltip container */\n",
       "        .djtooltip:hover .djtooltiptext {\n",
       "            visibility: visible;\n",
       "        }\n",
       "    </style>\n",
       "    \n",
       "    <b>trial by trial information of choice</b>\n",
       "        <div style=\"max-height:1000px;max-width:1500px;overflow:auto;\">\n",
       "        <table border=\"1\" class=\"Table\">\n",
       "            <thead> <tr style=\"text-align: right;\"> <th> <div class=\"djtooltip\">\n",
       "                            <p id=\"primary\">nwb_file_name</p>\n",
       "                            <span class=\"djtooltiptext\">name of the NWB file</span>\n",
       "                        </div></th><th><div class=\"djtooltip\">\n",
       "                            <p id=\"primary\">epoch</p>\n",
       "                            <span class=\"djtooltiptext\">the session epoch for this task and apparatus(1 based)</span>\n",
       "                        </div></th><th><div class=\"djtooltip\">\n",
       "                            <p id=\"nonprimary\">epoch_name</p>\n",
       "                            <span class=\"djtooltiptext\">session name, get from IntervalList</span>\n",
       "                        </div></th><th><div class=\"djtooltip\">\n",
       "                            <p id=\"nonprimary\">choice_reward</p>\n",
       "                            <span class=\"djtooltiptext\">pandas dataframe, choice</span>\n",
       "                        </div> </th> </tr> </thead>\n",
       "            <tbody> <tr>  </tr> </tbody>\n",
       "        </table>\n",
       "        \n",
       "        <p>Total: 0</p></div>\n",
       "        "
      ],
      "text/plain": [
       "*nwb_file_name *epoch    epoch_name     choice_rew\n",
       "+------------+ +-------+ +------------+ +--------+\n",
       "\n",
       " (Total: 0)"
      ]
     },
     "execution_count": 51,
     "metadata": {},
     "output_type": "execute_result"
    }
   ],
   "source": [
    "TrialChoice() & {'nwb_file_name':nwb_copy_file_name}"
   ]
  },
  {
   "cell_type": "code",
   "execution_count": 45,
   "id": "3440903b-f7f6-4d1d-9caf-0386022ac8ce",
   "metadata": {},
   "outputs": [],
   "source": [
    "epoch_num = 8"
   ]
  },
  {
   "cell_type": "markdown",
   "id": "03c2b45b-2533-43f9-8d59-6223cf78af85",
   "metadata": {},
   "source": [
    "### Begin testing"
   ]
  },
  {
   "cell_type": "markdown",
   "id": "e2c6bdf0-72fd-4251-b067-49d34a91f066",
   "metadata": {},
   "source": [
    "### End testing"
   ]
  },
  {
   "cell_type": "code",
   "execution_count": 8,
   "id": "2c328dbd-da91-4670-8fc9-a7e7dc55316b",
   "metadata": {
    "scrolled": true
   },
   "outputs": [
    {
     "ename": "NameError",
     "evalue": "name 'nwb_file_name' is not defined",
     "output_type": "error",
     "traceback": [
      "\u001b[0;31m---------------------------------------------------------------------------\u001b[0m",
      "\u001b[0;31mNameError\u001b[0m                                 Traceback (most recent call last)",
      "Cell \u001b[0;32mIn[8], line 3\u001b[0m\n\u001b[1;32m      1\u001b[0m (epoch_name,log_df,ripple_times,decode,\n\u001b[1;32m      2\u001b[0m      head_speed,head_orientation,linear_position_df,\n\u001b[0;32m----> 3\u001b[0m      lfp_df,theta_df,ripple_df,neural_df,mua_df) \u001b[38;5;241m=\u001b[39m replay_parser_master(\u001b[43mnwb_file_name\u001b[49m,epoch_num,\n\u001b[1;32m      4\u001b[0m                                                                        encoding_set \u001b[38;5;241m=\u001b[39m \u001b[38;5;124m'\u001b[39m\u001b[38;5;124m2Dheadspeed_above_4\u001b[39m\u001b[38;5;124m'\u001b[39m)\n",
      "\u001b[0;31mNameError\u001b[0m: name 'nwb_file_name' is not defined"
     ]
    }
   ],
   "source": [
    "(epoch_name,log_df,ripple_times,decode,\n",
    "     head_speed,head_orientation,linear_position_df,\n",
    "     lfp_df,theta_df,ripple_df,neural_df,mua_df) = replay_parser_master(nwb_file_name,epoch_num,\n",
    "                                                                       encoding_set = '2Dheadspeed_above_4')"
   ]
  },
  {
   "cell_type": "code",
   "execution_count": 29,
   "id": "8708a733-11a5-4dc0-b226-17171d655171",
   "metadata": {},
   "outputs": [
    {
     "data": {
      "text/html": [
       "<div>\n",
       "<style scoped>\n",
       "    .dataframe tbody tr th:only-of-type {\n",
       "        vertical-align: middle;\n",
       "    }\n",
       "\n",
       "    .dataframe tbody tr th {\n",
       "        vertical-align: top;\n",
       "    }\n",
       "\n",
       "    .dataframe thead th {\n",
       "        text-align: right;\n",
       "    }\n",
       "</style>\n",
       "<table border=\"1\" class=\"dataframe\">\n",
       "  <thead>\n",
       "    <tr style=\"text-align: right;\">\n",
       "      <th></th>\n",
       "      <th>timestamp_H</th>\n",
       "      <th>Home</th>\n",
       "      <th>timestamp_O</th>\n",
       "      <th>OuterWellIndex</th>\n",
       "      <th>rewardNum</th>\n",
       "      <th>ripple_H</th>\n",
       "      <th>ripple_O</th>\n",
       "      <th>replay_H</th>\n",
       "      <th>replay_O</th>\n",
       "      <th>ripple_ID_H</th>\n",
       "      <th>ripple_ID_O</th>\n",
       "      <th>current</th>\n",
       "      <th>future_H</th>\n",
       "      <th>future_O</th>\n",
       "      <th>past</th>\n",
       "      <th>past_reward</th>\n",
       "    </tr>\n",
       "  </thead>\n",
       "  <tbody>\n",
       "    <tr>\n",
       "      <th>1</th>\n",
       "      <td>1.704665e+09</td>\n",
       "      <td>1.0</td>\n",
       "      <td>1.704665e+09</td>\n",
       "      <td>1.0</td>\n",
       "      <td>2.0</td>\n",
       "      <td>[]</td>\n",
       "      <td>[[[1704665025.3625145, 1704665025.5325146]]]</td>\n",
       "      <td>[]</td>\n",
       "      <td>[[[1]]]</td>\n",
       "      <td>[]</td>\n",
       "      <td>[0]</td>\n",
       "      <td>1.0</td>\n",
       "      <td>1.0</td>\n",
       "      <td>3.0</td>\n",
       "      <td>NaN</td>\n",
       "      <td>NaN</td>\n",
       "    </tr>\n",
       "    <tr>\n",
       "      <th>2</th>\n",
       "      <td>1.704665e+09</td>\n",
       "      <td>1.0</td>\n",
       "      <td>1.704665e+09</td>\n",
       "      <td>3.0</td>\n",
       "      <td>1.0</td>\n",
       "      <td>[]</td>\n",
       "      <td>[]</td>\n",
       "      <td>[]</td>\n",
       "      <td>[]</td>\n",
       "      <td>[]</td>\n",
       "      <td>[]</td>\n",
       "      <td>3.0</td>\n",
       "      <td>3.0</td>\n",
       "      <td>2.0</td>\n",
       "      <td>1.0</td>\n",
       "      <td>1.0</td>\n",
       "    </tr>\n",
       "    <tr>\n",
       "      <th>3</th>\n",
       "      <td>1.704665e+09</td>\n",
       "      <td>1.0</td>\n",
       "      <td>1.704665e+09</td>\n",
       "      <td>2.0</td>\n",
       "      <td>2.0</td>\n",
       "      <td>[]</td>\n",
       "      <td>[]</td>\n",
       "      <td>[]</td>\n",
       "      <td>[]</td>\n",
       "      <td>[]</td>\n",
       "      <td>[]</td>\n",
       "      <td>2.0</td>\n",
       "      <td>2.0</td>\n",
       "      <td>4.0</td>\n",
       "      <td>3.0</td>\n",
       "      <td>1.0</td>\n",
       "    </tr>\n",
       "    <tr>\n",
       "      <th>4</th>\n",
       "      <td>1.704665e+09</td>\n",
       "      <td>1.0</td>\n",
       "      <td>1.704665e+09</td>\n",
       "      <td>4.0</td>\n",
       "      <td>2.0</td>\n",
       "      <td>[]</td>\n",
       "      <td>[]</td>\n",
       "      <td>[]</td>\n",
       "      <td>[]</td>\n",
       "      <td>[]</td>\n",
       "      <td>[]</td>\n",
       "      <td>4.0</td>\n",
       "      <td>4.0</td>\n",
       "      <td>1.0</td>\n",
       "      <td>2.0</td>\n",
       "      <td>2.0</td>\n",
       "    </tr>\n",
       "    <tr>\n",
       "      <th>5</th>\n",
       "      <td>1.704665e+09</td>\n",
       "      <td>1.0</td>\n",
       "      <td>1.704665e+09</td>\n",
       "      <td>1.0</td>\n",
       "      <td>1.0</td>\n",
       "      <td>[[[1704665107.002473, 1704665107.106473], [170...</td>\n",
       "      <td>[]</td>\n",
       "      <td>[[[], []]]</td>\n",
       "      <td>[]</td>\n",
       "      <td>[1]</td>\n",
       "      <td>[]</td>\n",
       "      <td>1.0</td>\n",
       "      <td>1.0</td>\n",
       "      <td>3.0</td>\n",
       "      <td>4.0</td>\n",
       "      <td>4.0</td>\n",
       "    </tr>\n",
       "    <tr>\n",
       "      <th>...</th>\n",
       "      <td>...</td>\n",
       "      <td>...</td>\n",
       "      <td>...</td>\n",
       "      <td>...</td>\n",
       "      <td>...</td>\n",
       "      <td>...</td>\n",
       "      <td>...</td>\n",
       "      <td>...</td>\n",
       "      <td>...</td>\n",
       "      <td>...</td>\n",
       "      <td>...</td>\n",
       "      <td>...</td>\n",
       "      <td>...</td>\n",
       "      <td>...</td>\n",
       "      <td>...</td>\n",
       "      <td>...</td>\n",
       "    </tr>\n",
       "    <tr>\n",
       "      <th>78</th>\n",
       "      <td>1.704667e+09</td>\n",
       "      <td>1.0</td>\n",
       "      <td>1.704667e+09</td>\n",
       "      <td>4.0</td>\n",
       "      <td>2.0</td>\n",
       "      <td>[[[1704666606.3097098, 1704666606.4297097], [1...</td>\n",
       "      <td>[]</td>\n",
       "      <td>[[[], [], []]]</td>\n",
       "      <td>[]</td>\n",
       "      <td>[73]</td>\n",
       "      <td>[]</td>\n",
       "      <td>4.0</td>\n",
       "      <td>4.0</td>\n",
       "      <td>1.0</td>\n",
       "      <td>3.0</td>\n",
       "      <td>2.0</td>\n",
       "    </tr>\n",
       "    <tr>\n",
       "      <th>79</th>\n",
       "      <td>1.704667e+09</td>\n",
       "      <td>1.0</td>\n",
       "      <td>1.704667e+09</td>\n",
       "      <td>1.0</td>\n",
       "      <td>1.0</td>\n",
       "      <td>[]</td>\n",
       "      <td>[]</td>\n",
       "      <td>[]</td>\n",
       "      <td>[]</td>\n",
       "      <td>[]</td>\n",
       "      <td>[]</td>\n",
       "      <td>1.0</td>\n",
       "      <td>1.0</td>\n",
       "      <td>2.0</td>\n",
       "      <td>4.0</td>\n",
       "      <td>4.0</td>\n",
       "    </tr>\n",
       "    <tr>\n",
       "      <th>80</th>\n",
       "      <td>1.704667e+09</td>\n",
       "      <td>1.0</td>\n",
       "      <td>1.704667e+09</td>\n",
       "      <td>2.0</td>\n",
       "      <td>1.0</td>\n",
       "      <td>[[[1704666645.6816895, 1704666645.7816896]]]</td>\n",
       "      <td>[]</td>\n",
       "      <td>[[[]]]</td>\n",
       "      <td>[]</td>\n",
       "      <td>[74]</td>\n",
       "      <td>[]</td>\n",
       "      <td>2.0</td>\n",
       "      <td>2.0</td>\n",
       "      <td>3.0</td>\n",
       "      <td>1.0</td>\n",
       "      <td>4.0</td>\n",
       "    </tr>\n",
       "    <tr>\n",
       "      <th>81</th>\n",
       "      <td>1.704667e+09</td>\n",
       "      <td>1.0</td>\n",
       "      <td>1.704667e+09</td>\n",
       "      <td>3.0</td>\n",
       "      <td>2.0</td>\n",
       "      <td>[]</td>\n",
       "      <td>[]</td>\n",
       "      <td>[]</td>\n",
       "      <td>[]</td>\n",
       "      <td>[]</td>\n",
       "      <td>[]</td>\n",
       "      <td>3.0</td>\n",
       "      <td>3.0</td>\n",
       "      <td>NaN</td>\n",
       "      <td>2.0</td>\n",
       "      <td>4.0</td>\n",
       "    </tr>\n",
       "    <tr>\n",
       "      <th>82</th>\n",
       "      <td>1.704667e+09</td>\n",
       "      <td>NaN</td>\n",
       "      <td>NaN</td>\n",
       "      <td>NaN</td>\n",
       "      <td>0.0</td>\n",
       "      <td>[]</td>\n",
       "      <td>[]</td>\n",
       "      <td>[]</td>\n",
       "      <td>[]</td>\n",
       "      <td>[]</td>\n",
       "      <td>[]</td>\n",
       "      <td>NaN</td>\n",
       "      <td>NaN</td>\n",
       "      <td>NaN</td>\n",
       "      <td>3.0</td>\n",
       "      <td>NaN</td>\n",
       "    </tr>\n",
       "  </tbody>\n",
       "</table>\n",
       "<p>82 rows × 16 columns</p>\n",
       "</div>"
      ],
      "text/plain": [
       "     timestamp_H  Home   timestamp_O  OuterWellIndex  rewardNum  \\\n",
       "1   1.704665e+09   1.0  1.704665e+09             1.0        2.0   \n",
       "2   1.704665e+09   1.0  1.704665e+09             3.0        1.0   \n",
       "3   1.704665e+09   1.0  1.704665e+09             2.0        2.0   \n",
       "4   1.704665e+09   1.0  1.704665e+09             4.0        2.0   \n",
       "5   1.704665e+09   1.0  1.704665e+09             1.0        1.0   \n",
       "..           ...   ...           ...             ...        ...   \n",
       "78  1.704667e+09   1.0  1.704667e+09             4.0        2.0   \n",
       "79  1.704667e+09   1.0  1.704667e+09             1.0        1.0   \n",
       "80  1.704667e+09   1.0  1.704667e+09             2.0        1.0   \n",
       "81  1.704667e+09   1.0  1.704667e+09             3.0        2.0   \n",
       "82  1.704667e+09   NaN           NaN             NaN        0.0   \n",
       "\n",
       "                                             ripple_H  \\\n",
       "1                                                  []   \n",
       "2                                                  []   \n",
       "3                                                  []   \n",
       "4                                                  []   \n",
       "5   [[[1704665107.002473, 1704665107.106473], [170...   \n",
       "..                                                ...   \n",
       "78  [[[1704666606.3097098, 1704666606.4297097], [1...   \n",
       "79                                                 []   \n",
       "80       [[[1704666645.6816895, 1704666645.7816896]]]   \n",
       "81                                                 []   \n",
       "82                                                 []   \n",
       "\n",
       "                                        ripple_O        replay_H replay_O  \\\n",
       "1   [[[1704665025.3625145, 1704665025.5325146]]]              []  [[[1]]]   \n",
       "2                                             []              []       []   \n",
       "3                                             []              []       []   \n",
       "4                                             []              []       []   \n",
       "5                                             []      [[[], []]]       []   \n",
       "..                                           ...             ...      ...   \n",
       "78                                            []  [[[], [], []]]       []   \n",
       "79                                            []              []       []   \n",
       "80                                            []          [[[]]]       []   \n",
       "81                                            []              []       []   \n",
       "82                                            []              []       []   \n",
       "\n",
       "   ripple_ID_H ripple_ID_O  current  future_H  future_O  past  past_reward  \n",
       "1           []         [0]      1.0       1.0       3.0   NaN          NaN  \n",
       "2           []          []      3.0       3.0       2.0   1.0          1.0  \n",
       "3           []          []      2.0       2.0       4.0   3.0          1.0  \n",
       "4           []          []      4.0       4.0       1.0   2.0          2.0  \n",
       "5          [1]          []      1.0       1.0       3.0   4.0          4.0  \n",
       "..         ...         ...      ...       ...       ...   ...          ...  \n",
       "78        [73]          []      4.0       4.0       1.0   3.0          2.0  \n",
       "79          []          []      1.0       1.0       2.0   4.0          4.0  \n",
       "80        [74]          []      2.0       2.0       3.0   1.0          4.0  \n",
       "81          []          []      3.0       3.0       NaN   2.0          4.0  \n",
       "82          []          []      NaN       NaN       NaN   3.0          NaN  \n",
       "\n",
       "[82 rows x 16 columns]"
      ]
     },
     "execution_count": 29,
     "metadata": {},
     "output_type": "execute_result"
    }
   ],
   "source": [
    "log_df"
   ]
  },
  {
   "cell_type": "markdown",
   "id": "81b169b7-0c01-446f-ab2d-e839dd6602e8",
   "metadata": {},
   "source": [
    "### 2. Visual Inspection"
   ]
  },
  {
   "cell_type": "code",
   "execution_count": 26,
   "id": "95e49b6f-6264-46cb-8f85-ec54057635ae",
   "metadata": {
    "scrolled": true
   },
   "outputs": [
    {
     "name": "stdout",
     "output_type": "stream",
     "text": [
      "/cumulus/shijie/recording_pilot/lewis/decoding/lewis20240107.nwb/SWR/04_Rev2Session2\n"
     ]
    }
   ],
   "source": [
    "mua_thresh = (MUA & {'nwb_file_name' : nwb_copy_file_name,'interval_list_name':epoch_name}).fetch1('mean')\n",
    "\n",
    "## find tetrodes with signal\n",
    "groups_with_cell=(SpikeSortingRecordingSelection & {\n",
    "        'nwb_file_name' : nwb_copy_file_name}).fetch('sort_group_id')\n",
    "groups_with_cell=np.setdiff1d(groups_with_cell,[100,101])\n",
    "channel_IDs = list(neural_df.keys())\n",
    "    \n",
    "spikeColInd = {}\n",
    "for g in groups_with_cell:\n",
    "    spikeColInd_ = np.argwhere(np.isin(channel_IDs,(Electrode() &  {'nwb_file_name' : nwb_copy_file_name,\n",
    "                                                     'electrode_group_name':str(g)}).fetch('electrode_id'))).ravel()\n",
    "    spikeColInd[g] = spikeColInd_\n",
    "\n",
    "# Pre-make result directory:\n",
    "decoding_path=(DecodeResultsLinear() & {'nwb_file_name':nwb_copy_file_name}).fetch('posterior')[0]\n",
    "exampledir=os.path.join(os.path.split(decoding_path)[0],nwb_file_name,'SWR',epoch_name)\n",
    "isExist = os.path.exists(exampledir)\n",
    "if not isExist:\n",
    "    os.makedirs(exampledir)\n",
    "savefolder = exampledir\n",
    "print(savefolder)\n",
    "\n",
    "for t in log_df.index[:-2]:\n",
    "    # Home\n",
    "    ripples = log_df.loc[t].ripple_H\n",
    "    ripple_table_inds = log_df.loc[t].ripple_ID_H\n",
    "\n",
    "    if not np.isnan(log_df.loc[t].timestamp_H):\n",
    "        plottimes = [log_df.loc[t].timestamp_H,log_df.loc[t].timestamp_H + 6]\n",
    "        savename = 'trial' + str(t) + '_home_' + nwb_copy_file_name[:-5] + '_' + epoch_name + '_whole_trial'\n",
    "        plot_ripples_replays(ripple_times,ripples,ripple_table_inds,\n",
    "                        linear_position_df,decode,spikeColInd,lfp_df,theta_df,\n",
    "                        neural_df,mua_df,head_speed,head_orientation,\n",
    "                        savename,savefolder,wholeTrial = 1,plottimes=plottimes,mua_thresh = mua_thresh)\n",
    "            \n",
    "    savename = 'trial' + str(t) + '_home_' + nwb_copy_file_name[:-5] + '_' + epoch_name\n",
    "    plot_ripples_replays(ripple_times,ripples,ripple_table_inds,\n",
    "                    linear_position_df,decode,spikeColInd,lfp_df,theta_df,\n",
    "                    neural_df,mua_df,head_speed,head_orientation,\n",
    "                    savename,savefolder,wholeTrial = 0,mua_thresh = mua_thresh)"
   ]
  },
  {
   "cell_type": "code",
   "execution_count": 43,
   "id": "327f6f36-25ae-4bb3-904a-6ffb501cc51a",
   "metadata": {},
   "outputs": [
    {
     "name": "stdout",
     "output_type": "stream",
     "text": [
      "> \u001b[0;32m/home/shijiegu/Documents/spyglass/src/spyglass/shijiegu/ripple_add_replay.py\u001b[0m(202)\u001b[0;36madd_trial\u001b[0;34m()\u001b[0m\n",
      "\u001b[0;32m    200 \u001b[0;31m    \u001b[0;32mfor\u001b[0m \u001b[0mr_ind\u001b[0m \u001b[0;32min\u001b[0m \u001b[0mripple_times\u001b[0m\u001b[0;34m.\u001b[0m\u001b[0mindex\u001b[0m\u001b[0;34m:\u001b[0m\u001b[0;34m\u001b[0m\u001b[0;34m\u001b[0m\u001b[0m\n",
      "\u001b[0m\u001b[0;32m    201 \u001b[0;31m        \u001b[0;34m(\u001b[0m\u001b[0mt0\u001b[0m\u001b[0;34m,\u001b[0m\u001b[0mt1\u001b[0m\u001b[0;34m)\u001b[0m \u001b[0;34m=\u001b[0m \u001b[0;34m(\u001b[0m\u001b[0mripple_times\u001b[0m\u001b[0;34m.\u001b[0m\u001b[0mloc\u001b[0m\u001b[0;34m[\u001b[0m\u001b[0mr_ind\u001b[0m\u001b[0;34m,\u001b[0m\u001b[0;34m'start_time'\u001b[0m\u001b[0;34m]\u001b[0m\u001b[0;34m,\u001b[0m\u001b[0mripple_times\u001b[0m\u001b[0;34m.\u001b[0m\u001b[0mloc\u001b[0m\u001b[0;34m[\u001b[0m\u001b[0mr_ind\u001b[0m\u001b[0;34m,\u001b[0m\u001b[0;34m'end_time'\u001b[0m\u001b[0;34m]\u001b[0m\u001b[0;34m)\u001b[0m\u001b[0;34m\u001b[0m\u001b[0;34m\u001b[0m\u001b[0m\n",
      "\u001b[0m\u001b[0;32m--> 202 \u001b[0;31m        linear_position_subset = linear_position_df.isel(time=np.logical_and(linear_position_df.time >= t0,\n",
      "\u001b[0m\u001b[0;32m    203 \u001b[0;31m                                                                                        linear_position_df.time <= t1))\n",
      "\u001b[0m\u001b[0;32m    204 \u001b[0;31m        \u001b[0mlinear_position\u001b[0m \u001b[0;34m=\u001b[0m \u001b[0mnp\u001b[0m\u001b[0;34m.\u001b[0m\u001b[0marray\u001b[0m\u001b[0;34m(\u001b[0m\u001b[0mnp\u001b[0m\u001b[0;34m.\u001b[0m\u001b[0mmean\u001b[0m\u001b[0;34m(\u001b[0m\u001b[0mlinear_position_subset\u001b[0m\u001b[0;34m.\u001b[0m\u001b[0mlinear_position\u001b[0m\u001b[0;34m)\u001b[0m\u001b[0;34m)\u001b[0m\u001b[0;34m\u001b[0m\u001b[0;34m\u001b[0m\u001b[0m\n",
      "\u001b[0m\n"
     ]
    },
    {
     "name": "stdin",
     "output_type": "stream",
     "text": [
      "ipdb>  exit\n"
     ]
    }
   ],
   "source": [
    "%debug"
   ]
  },
  {
   "cell_type": "markdown",
   "id": "a8a26bb7-7d60-4551-ad71-ffa27d35b504",
   "metadata": {},
   "source": [
    "### 3. for all sessions"
   ]
  },
  {
   "cell_type": "markdown",
   "id": "ca952038-09ce-4a63-ba6d-f67d701c6499",
   "metadata": {},
   "source": [
    "#### without plot"
   ]
  },
  {
   "cell_type": "code",
   "execution_count": 62,
   "id": "6826f6fa-9626-4f5d-9594-7da656623d18",
   "metadata": {
    "scrolled": true
   },
   "outputs": [
    {
     "name": "stderr",
     "output_type": "stream",
     "text": [
      "[15:43:37][WARNING] Spyglass: Deprecation: this class has been moved out of spyglass.common.common_position\n",
      "\tTrackGraph -> spyglass.linearization.v0.main.TrackGraph\n",
      "Please use the new location.\n",
      "12-Apr-25 15:43:37 Deprecation: this class has been moved out of spyglass.common.common_position\n",
      "\tTrackGraph -> spyglass.linearization.v0.main.TrackGraph\n",
      "Please use the new location.\n"
     ]
    },
    {
     "name": "stdout",
     "output_type": "stream",
     "text": [
      "epoch name 02_Seq2Session1\n",
      "epoch name 02_Seq2Session1\n",
      "epoch_pos_name pos 1 valid times\n"
     ]
    },
    {
     "ename": "DataJointError",
     "evalue": "fetch1 should only return one tuple. 0 tuples found",
     "output_type": "error",
     "traceback": [
      "\u001b[0;31m---------------------------------------------------------------------------\u001b[0m",
      "\u001b[0;31mDataJointError\u001b[0m                            Traceback (most recent call last)",
      "Cell \u001b[0;32mIn[62], line 7\u001b[0m\n\u001b[1;32m      3\u001b[0m all_epochs\u001b[38;5;241m=\u001b[39m\u001b[38;5;28mlist\u001b[39m((TrialChoice() \u001b[38;5;241m&\u001b[39m {\u001b[38;5;124m'\u001b[39m\u001b[38;5;124mnwb_file_name\u001b[39m\u001b[38;5;124m'\u001b[39m:nwb_copy_file_name})\u001b[38;5;241m.\u001b[39mfetch(\u001b[38;5;124m'\u001b[39m\u001b[38;5;124mepoch\u001b[39m\u001b[38;5;124m'\u001b[39m))\n\u001b[1;32m      4\u001b[0m \u001b[38;5;28;01mfor\u001b[39;00m epoch_num \u001b[38;5;129;01min\u001b[39;00m all_epochs:\n\u001b[1;32m      5\u001b[0m     (epoch_name,log_df,ripple_times,decode,\n\u001b[1;32m      6\u001b[0m      head_speed,head_orientation,linear_position_df,\n\u001b[0;32m----> 7\u001b[0m      lfp_df,theta_df,ripple_df,neural_df,mua_df) \u001b[38;5;241m=\u001b[39m \u001b[43mreplay_parser_master\u001b[49m\u001b[43m(\u001b[49m\u001b[43mnwb_file_name\u001b[49m\u001b[43m,\u001b[49m\u001b[43mepoch_num\u001b[49m\u001b[43m,\u001b[49m\n\u001b[1;32m      8\u001b[0m \u001b[43m                                                                        \u001b[49m\u001b[43mencoding_set\u001b[49m\u001b[43m \u001b[49m\u001b[38;5;241;43m=\u001b[39;49m\u001b[43m \u001b[49m\u001b[38;5;124;43m'\u001b[39;49m\u001b[38;5;124;43m2Dheadspeed_above_4_andlowmua\u001b[39;49m\u001b[38;5;124;43m'\u001b[39;49m\u001b[43m,\u001b[49m\u001b[38;5;66;43;03m#'2Dheadspeed_above_4',\u001b[39;49;00m\n\u001b[1;32m      9\u001b[0m \u001b[43m                                                                        \u001b[49m\u001b[43mdecode_threshold_method\u001b[49m\u001b[43m \u001b[49m\u001b[38;5;241;43m=\u001b[39;49m\u001b[43m \u001b[49m\u001b[38;5;124;43m'\u001b[39;49m\u001b[38;5;124;43mMUA_0SD\u001b[39;49m\u001b[38;5;124;43m'\u001b[39;49m\u001b[43m,\u001b[49m\n\u001b[1;32m     10\u001b[0m \u001b[43m                                                                        \u001b[49m\u001b[43mextended\u001b[49m\u001b[43m \u001b[49m\u001b[38;5;241;43m=\u001b[39;49m\u001b[43m \u001b[49m\u001b[38;5;28;43;01mFalse\u001b[39;49;00m\u001b[43m)\u001b[49m\n",
      "File \u001b[0;32m~/Documents/spyglass/src/spyglass/shijiegu/ripple_add_replay.py:45\u001b[0m, in \u001b[0;36mreplay_parser_master\u001b[0;34m(nwb_file_name, epoch_num, classifier_param_name, encoding_set, decode_threshold_method, extended, causal, replace)\u001b[0m\n\u001b[1;32m     42\u001b[0m \u001b[38;5;66;03m# 2. load data\u001b[39;00m\n\u001b[1;32m     43\u001b[0m linear_map,node_location\u001b[38;5;241m=\u001b[39mget_linearization_map()\n\u001b[1;32m     44\u001b[0m (epoch_name,log_df,decode,head_speed,head_orientation,linear_position_df,\n\u001b[0;32m---> 45\u001b[0m     lfp_df,theta_df,ripple_df,neural_df,_) \u001b[38;5;241m=\u001b[39m \u001b[43mload_epoch_data\u001b[49m\u001b[43m(\u001b[49m\u001b[43mnwb_copy_file_name\u001b[49m\u001b[43m,\u001b[49m\u001b[43mepoch_num\u001b[49m\u001b[43m,\u001b[49m\n\u001b[1;32m     46\u001b[0m \u001b[43m                                              \u001b[49m\u001b[43mclassifier_param_name\u001b[49m\u001b[43m,\u001b[49m\n\u001b[1;32m     47\u001b[0m \u001b[43m                                              \u001b[49m\u001b[43mencoding_set\u001b[49m\u001b[43m)\u001b[49m\n\u001b[1;32m     50\u001b[0m \u001b[38;5;66;03m# load Position\u001b[39;00m\n\u001b[1;32m     51\u001b[0m \u001b[38;5;28;01mif\u001b[39;00m extended:\n",
      "File \u001b[0;32m~/Documents/spyglass/src/spyglass/shijiegu/load.py:121\u001b[0m, in \u001b[0;36mload_epoch_data\u001b[0;34m(nwb_copy_file_name, epoch_num, classifier_param_name, decode_encoding_set)\u001b[0m\n\u001b[1;32m    118\u001b[0m log_df\u001b[38;5;241m=\u001b[39mpd\u001b[38;5;241m.\u001b[39mDataFrame(log)\n\u001b[1;32m    120\u001b[0m \u001b[38;5;66;03m# load decode\u001b[39;00m\n\u001b[0;32m--> 121\u001b[0m decode\u001b[38;5;241m=\u001b[39m\u001b[43mload_decode\u001b[49m\u001b[43m(\u001b[49m\u001b[43mnwb_copy_file_name\u001b[49m\u001b[43m,\u001b[49m\u001b[43mepoch_name\u001b[49m\u001b[43m,\u001b[49m\u001b[43mclassifier_param_name\u001b[49m\u001b[43m,\u001b[49m\u001b[43mdecode_encoding_set\u001b[49m\u001b[43m)\u001b[49m\n\u001b[1;32m    123\u001b[0m \u001b[38;5;66;03m# load position\u001b[39;00m\n\u001b[1;32m    124\u001b[0m position_info\u001b[38;5;241m=\u001b[39mload_position(nwb_copy_file_name,epoch_pos_name)\n",
      "File \u001b[0;32m~/Documents/spyglass/src/spyglass/shijiegu/load.py:179\u001b[0m, in \u001b[0;36mload_decode\u001b[0;34m(nwb_copy_file_name, interval_list_name, classifier_param_name, encoding_set)\u001b[0m\n\u001b[1;32m    174\u001b[0m \u001b[38;5;28;01mdef\u001b[39;00m \u001b[38;5;21mload_decode\u001b[39m(nwb_copy_file_name,interval_list_name,\n\u001b[1;32m    175\u001b[0m                 classifier_param_name \u001b[38;5;241m=\u001b[39m \u001b[38;5;124m'\u001b[39m\u001b[38;5;124mdefault_decoding_gpu_4armMaze\u001b[39m\u001b[38;5;124m'\u001b[39m,\n\u001b[1;32m    176\u001b[0m                 encoding_set \u001b[38;5;241m=\u001b[39m \u001b[38;5;124m'\u001b[39m\u001b[38;5;124mmobility_2Dheadspeed_above_6\u001b[39m\u001b[38;5;124m'\u001b[39m):\n\u001b[1;32m    177\u001b[0m     \u001b[38;5;66;03m#decoding_path=(Decode & {'nwb_file_name': nwb_copy_file_name,\u001b[39;00m\n\u001b[1;32m    178\u001b[0m     \u001b[38;5;66;03m#      'interval_list_name':interval_list_name}).fetch1('posterior')\u001b[39;00m\n\u001b[0;32m--> 179\u001b[0m     decoding_path\u001b[38;5;241m=\u001b[39m\u001b[43m(\u001b[49m\u001b[43mDecodeResultsLinear\u001b[49m\u001b[43m \u001b[49m\u001b[38;5;241;43m&\u001b[39;49m\u001b[43m \u001b[49m\u001b[43m{\u001b[49m\u001b[38;5;124;43m'\u001b[39;49m\u001b[38;5;124;43mnwb_file_name\u001b[39;49m\u001b[38;5;124;43m'\u001b[39;49m\u001b[43m:\u001b[49m\u001b[43m \u001b[49m\u001b[43mnwb_copy_file_name\u001b[49m\u001b[43m,\u001b[49m\n\u001b[1;32m    180\u001b[0m \u001b[43m          \u001b[49m\u001b[38;5;124;43m'\u001b[39;49m\u001b[38;5;124;43minterval_list_name\u001b[39;49m\u001b[38;5;124;43m'\u001b[39;49m\u001b[43m:\u001b[49m\u001b[43m \u001b[49m\u001b[43minterval_list_name\u001b[49m\u001b[43m,\u001b[49m\n\u001b[1;32m    181\u001b[0m \u001b[43m          \u001b[49m\u001b[38;5;124;43m'\u001b[39;49m\u001b[38;5;124;43mclassifier_param_name\u001b[39;49m\u001b[38;5;124;43m'\u001b[39;49m\u001b[43m:\u001b[49m\u001b[43m \u001b[49m\u001b[43mclassifier_param_name\u001b[49m\u001b[43m,\u001b[49m\n\u001b[1;32m    182\u001b[0m \u001b[43m          \u001b[49m\u001b[38;5;124;43m'\u001b[39;49m\u001b[38;5;124;43mencoding_set\u001b[39;49m\u001b[38;5;124;43m'\u001b[39;49m\u001b[43m:\u001b[49m\u001b[43m \u001b[49m\u001b[43mencoding_set\u001b[49m\u001b[43m}\u001b[49m\u001b[43m)\u001b[49m\u001b[38;5;241;43m.\u001b[39;49m\u001b[43mfetch1\u001b[49m\u001b[43m(\u001b[49m\u001b[38;5;124;43m'\u001b[39;49m\u001b[38;5;124;43mposterior\u001b[39;49m\u001b[38;5;124;43m'\u001b[39;49m\u001b[43m)\u001b[49m\n\u001b[1;32m    183\u001b[0m     decode\u001b[38;5;241m=\u001b[39m xr\u001b[38;5;241m.\u001b[39mopen_dataset(decoding_path)\n\u001b[1;32m    184\u001b[0m     \u001b[38;5;28;01mreturn\u001b[39;00m decode\n",
      "File \u001b[0;32m~/anaconda3/envs/spyglass/lib/python3.9/site-packages/datajoint/fetch.py:352\u001b[0m, in \u001b[0;36mFetch1.__call__\u001b[0;34m(self, squeeze, download_path, *attrs)\u001b[0m\n\u001b[1;32m    348\u001b[0m result \u001b[38;5;241m=\u001b[39m \u001b[38;5;28mself\u001b[39m\u001b[38;5;241m.\u001b[39m_expression\u001b[38;5;241m.\u001b[39mproj(\u001b[38;5;241m*\u001b[39mattributes)\u001b[38;5;241m.\u001b[39mfetch(\n\u001b[1;32m    349\u001b[0m     squeeze\u001b[38;5;241m=\u001b[39msqueeze, download_path\u001b[38;5;241m=\u001b[39mdownload_path, \u001b[38;5;28mformat\u001b[39m\u001b[38;5;241m=\u001b[39m\u001b[38;5;124m\"\u001b[39m\u001b[38;5;124marray\u001b[39m\u001b[38;5;124m\"\u001b[39m\n\u001b[1;32m    350\u001b[0m )\n\u001b[1;32m    351\u001b[0m \u001b[38;5;28;01mif\u001b[39;00m \u001b[38;5;28mlen\u001b[39m(result) \u001b[38;5;241m!=\u001b[39m \u001b[38;5;241m1\u001b[39m:\n\u001b[0;32m--> 352\u001b[0m     \u001b[38;5;28;01mraise\u001b[39;00m DataJointError(\n\u001b[1;32m    353\u001b[0m         \u001b[38;5;124m\"\u001b[39m\u001b[38;5;124mfetch1 should only return one tuple. \u001b[39m\u001b[38;5;132;01m%d\u001b[39;00m\u001b[38;5;124m tuples found\u001b[39m\u001b[38;5;124m\"\u001b[39m \u001b[38;5;241m%\u001b[39m \u001b[38;5;28mlen\u001b[39m(result)\n\u001b[1;32m    354\u001b[0m     )\n\u001b[1;32m    355\u001b[0m return_values \u001b[38;5;241m=\u001b[39m \u001b[38;5;28mtuple\u001b[39m(\n\u001b[1;32m    356\u001b[0m     \u001b[38;5;28mnext\u001b[39m(to_dicts(result[\u001b[38;5;28mself\u001b[39m\u001b[38;5;241m.\u001b[39m_expression\u001b[38;5;241m.\u001b[39mprimary_key]))\n\u001b[1;32m    357\u001b[0m     \u001b[38;5;28;01mif\u001b[39;00m is_key(attribute)\n\u001b[1;32m    358\u001b[0m     \u001b[38;5;28;01melse\u001b[39;00m result[attribute][\u001b[38;5;241m0\u001b[39m]\n\u001b[1;32m    359\u001b[0m     \u001b[38;5;28;01mfor\u001b[39;00m attribute \u001b[38;5;129;01min\u001b[39;00m attrs\n\u001b[1;32m    360\u001b[0m )\n\u001b[1;32m    361\u001b[0m ret \u001b[38;5;241m=\u001b[39m return_values[\u001b[38;5;241m0\u001b[39m] \u001b[38;5;28;01mif\u001b[39;00m \u001b[38;5;28mlen\u001b[39m(attrs) \u001b[38;5;241m==\u001b[39m \u001b[38;5;241m1\u001b[39m \u001b[38;5;28;01melse\u001b[39;00m return_values\n",
      "\u001b[0;31mDataJointError\u001b[0m: fetch1 should only return one tuple. 0 tuples found"
     ]
    }
   ],
   "source": [
    "for nwb_file_name in nwb_file_name_all:\n",
    "    nwb_copy_file_name = get_nwb_copy_filename(nwb_file_name)\n",
    "    all_epochs=list((TrialChoice() & {'nwb_file_name':nwb_copy_file_name}).fetch('epoch'))\n",
    "    for epoch_num in all_epochs:\n",
    "        (epoch_name,log_df,ripple_times,decode,\n",
    "         head_speed,head_orientation,linear_position_df,\n",
    "         lfp_df,theta_df,ripple_df,neural_df,mua_df) = replay_parser_master(nwb_file_name,epoch_num,\n",
    "                                                                            encoding_set = '2Dheadspeed_above_4_andlowmua',#'2Dheadspeed_above_4',\n",
    "                                                                            decode_threshold_method = 'MUA_0SD',\n",
    "                                                                            extended = False)"
   ]
  },
  {
   "cell_type": "code",
   "execution_count": 63,
   "id": "6a25051b-9ae9-4f8f-a5e0-3830bbd96695",
   "metadata": {},
   "outputs": [
    {
     "data": {
      "text/html": [
       "\n",
       "    \n",
       "    <style type=\"text/css\">\n",
       "        .Table{\n",
       "            border-collapse:collapse;\n",
       "        }\n",
       "        .Table th{\n",
       "            background: #A0A0A0; color: #ffffff; padding:4px; border:#f0e0e0 1px solid;\n",
       "            font-weight: normal; font-family: monospace; font-size: 100%;\n",
       "        }\n",
       "        .Table td{\n",
       "            padding:4px; border:#f0e0e0 1px solid; font-size:100%;\n",
       "        }\n",
       "        .Table tr:nth-child(odd){\n",
       "            background: #ffffff;\n",
       "            color: #000000;\n",
       "        }\n",
       "        .Table tr:nth-child(even){\n",
       "            background: #f3f1ff;\n",
       "            color: #000000;\n",
       "        }\n",
       "        /* Tooltip container */\n",
       "        .djtooltip {\n",
       "        }\n",
       "        /* Tooltip text */\n",
       "        .djtooltip .djtooltiptext {\n",
       "            visibility: hidden;\n",
       "            width: 120px;\n",
       "            background-color: black;\n",
       "            color: #fff;\n",
       "            text-align: center;\n",
       "            padding: 5px 0;\n",
       "            border-radius: 6px;\n",
       "            /* Position the tooltip text - see examples below! */\n",
       "            position: absolute;\n",
       "            z-index: 1;\n",
       "        }\n",
       "        #primary {\n",
       "            font-weight: bold;\n",
       "            color: black;\n",
       "        }\n",
       "        #nonprimary {\n",
       "            font-weight: normal;\n",
       "            color: white;\n",
       "        }\n",
       "\n",
       "        /* Show the tooltip text when you mouse over the tooltip container */\n",
       "        .djtooltip:hover .djtooltiptext {\n",
       "            visibility: visible;\n",
       "        }\n",
       "    </style>\n",
       "    \n",
       "    <b>decoded 1D replay content results</b>\n",
       "        <div style=\"max-height:1000px;max-width:1500px;overflow:auto;\">\n",
       "        <table border=\"1\" class=\"Table\">\n",
       "            <thead> <tr style=\"text-align: right;\"> <th> <div class=\"djtooltip\">\n",
       "                            <p id=\"primary\">nwb_file_name</p>\n",
       "                            <span class=\"djtooltiptext\">name of the NWB file</span>\n",
       "                        </div></th><th><div class=\"djtooltip\">\n",
       "                            <p id=\"primary\">interval_list_name</p>\n",
       "                            <span class=\"djtooltiptext\">descriptive name of this interval list</span>\n",
       "                        </div></th><th><div class=\"djtooltip\">\n",
       "                            <p id=\"primary\">classifier_param_name</p>\n",
       "                            <span class=\"djtooltiptext\">a name for this set of parameters</span>\n",
       "                        </div></th><th><div class=\"djtooltip\">\n",
       "                            <p id=\"primary\">encoding_set</p>\n",
       "                            <span class=\"djtooltiptext\">a name for this set of encoding</span>\n",
       "                        </div></th><th><div class=\"djtooltip\">\n",
       "                            <p id=\"nonprimary\">posterior</p>\n",
       "                            <span class=\"djtooltiptext\">posterior within that interval (1D)</span>\n",
       "                        </div> </th> </tr> </thead>\n",
       "            <tbody> <tr>  </tr> </tbody>\n",
       "        </table>\n",
       "        \n",
       "        <p>Total: 0</p></div>\n",
       "        "
      ],
      "text/plain": [
       "*nwb_file_name *interval_list *classifier_pa *encoding_set  posterior \n",
       "+------------+ +------------+ +------------+ +------------+ +--------+\n",
       "\n",
       " (Total: 0)"
      ]
     },
     "execution_count": 63,
     "metadata": {},
     "output_type": "execute_result"
    }
   ],
   "source": [
    "DecodeResultsLinear & {'nwb_file_name': 'eliot20221016_.nwb'}"
   ]
  },
  {
   "cell_type": "code",
   "execution_count": 48,
   "id": "1031f729-a88e-4ef2-82f9-0ab9af28f9b0",
   "metadata": {},
   "outputs": [
    {
     "data": {
      "text/plain": [
       "'eliot0221018_.nwb'"
      ]
     },
     "execution_count": 48,
     "metadata": {},
     "output_type": "execute_result"
    }
   ],
   "source": [
    "nwb_copy_file_name"
   ]
  },
  {
   "cell_type": "code",
   "execution_count": 13,
   "id": "076e949d-078e-4bee-a0a5-24e90921ccda",
   "metadata": {
    "scrolled": true
   },
   "outputs": [
    {
     "name": "stdout",
     "output_type": "stream",
     "text": [
      "> \u001b[0;32m/tmp/ipykernel_2773066/2457717590.py\u001b[0m(3)\u001b[0;36m<module>\u001b[0;34m()\u001b[0m\n",
      "\u001b[0;32m      1 \u001b[0;31m(epoch_name,log_df,ripple_times,decode,\n",
      "\u001b[0m\u001b[0;32m      2 \u001b[0;31m     \u001b[0mhead_speed\u001b[0m\u001b[0;34m,\u001b[0m\u001b[0mhead_orientation\u001b[0m\u001b[0;34m,\u001b[0m\u001b[0mlinear_position_df\u001b[0m\u001b[0;34m,\u001b[0m\u001b[0;34m\u001b[0m\u001b[0;34m\u001b[0m\u001b[0m\n",
      "\u001b[0m\u001b[0;32m----> 3 \u001b[0;31m     \u001b[0mlfp_df\u001b[0m\u001b[0;34m,\u001b[0m\u001b[0mtheta_df\u001b[0m\u001b[0;34m,\u001b[0m\u001b[0mripple_df\u001b[0m\u001b[0;34m,\u001b[0m\u001b[0mneural_df\u001b[0m\u001b[0;34m,\u001b[0m\u001b[0mmua_df\u001b[0m\u001b[0;34m)\u001b[0m \u001b[0;34m=\u001b[0m \u001b[0mreplay_parser_master\u001b[0m\u001b[0;34m(\u001b[0m\u001b[0mnwb_file_name\u001b[0m\u001b[0;34m,\u001b[0m\u001b[0mepoch_num\u001b[0m\u001b[0;34m,\u001b[0m\u001b[0;34m\u001b[0m\u001b[0;34m\u001b[0m\u001b[0m\n",
      "\u001b[0m\u001b[0;32m      4 \u001b[0;31m                                                                       encoding_set = '2Dheadspeed_above_4')\n",
      "\u001b[0m\n"
     ]
    },
    {
     "name": "stdin",
     "output_type": "stream",
     "text": [
      "ipdb>  exit\n"
     ]
    }
   ],
   "source": [
    "%debug"
   ]
  },
  {
   "cell_type": "code",
   "execution_count": 12,
   "id": "cd9b2d29-35ea-402c-bc7a-9350a3ed8de7",
   "metadata": {},
   "outputs": [
    {
     "data": {
      "text/plain": [
       "'molly20220416_.nwb'"
      ]
     },
     "execution_count": 12,
     "metadata": {},
     "output_type": "execute_result"
    }
   ],
   "source": [
    "nwb_copy_file_name"
   ]
  },
  {
   "cell_type": "code",
   "execution_count": null,
   "id": "6c7f3319-9fd2-4825-80b0-da264d4314ce",
   "metadata": {},
   "outputs": [],
   "source": [
    "#### with plot"
   ]
  },
  {
   "cell_type": "code",
   "execution_count": null,
   "id": "2981e586-ad82-40ea-9440-65f6bcef2239",
   "metadata": {
    "scrolled": true
   },
   "outputs": [
    {
     "name": "stderr",
     "output_type": "stream",
     "text": [
      "[11:29:33][WARNING] Spyglass: Deprecation: this class has been moved out of spyglass.common.common_position\n",
      "\tTrackGraph -> spyglass.linearization.v0.main.TrackGraph\n",
      "Please use the new location.\n",
      "25-Oct-24 11:29:33 Deprecation: this class has been moved out of spyglass.common.common_position\n",
      "\tTrackGraph -> spyglass.linearization.v0.main.TrackGraph\n",
      "Please use the new location.\n"
     ]
    },
    {
     "name": "stdout",
     "output_type": "stream",
     "text": [
      "epoch name 02_Rev1Session1\n",
      "epoch name 02_Rev1Session1\n",
      "epoch_pos_name pos 1 valid times\n"
     ]
    },
    {
     "name": "stderr",
     "output_type": "stream",
     "text": [
      "[2024-10-25 11:29:36,555][WARNING]: Skipped checksum for file with hash: e964d914-dde7-1584-9eab-c7f9f7ffbe33, and path: /stelmo/nwb/analysis/lewis20240119/lewis20240119_G29Z655NVX.nwb\n",
      "25-Oct-24 11:29:36 Skipped checksum for file with hash: e964d914-dde7-1584-9eab-c7f9f7ffbe33, and path: /stelmo/nwb/analysis/lewis20240119/lewis20240119_G29Z655NVX.nwb\n"
     ]
    },
    {
     "name": "stdout",
     "output_type": "stream",
     "text": [
      "Done parsing. Insert into Spyglass\n",
      "/cumulus/shijie/recording_pilot/lewis/decoding/lewis20240119.nwb/SWR/02_Rev1Session1\n"
     ]
    }
   ],
   "source": [
    "%matplotlib agg\n",
    "all_epochs=list((TrialChoice() & {'nwb_file_name':nwb_copy_file_name}).fetch('epoch'))\n",
    "for epoch_num in all_epochs:\n",
    "    (epoch_name,log_df,ripple_times,decode,\n",
    "     head_speed,head_orientation,linear_position_df,\n",
    "     lfp_df,theta_df,ripple_df,neural_df,mua_df) = replay_parser_master(nwb_file_name,epoch_num,\n",
    "                                                                        encoding_set = '2Dheadspeed_above_4',\n",
    "                                                                        extended = False)\n",
    "\n",
    "    \"\"\"\n",
    "    REAL WORK ENDS HERE, THE REST IS JUST PLOTTING\n",
    "    \"\"\"\n",
    "\n",
    "    ## find tetrodes with signal\n",
    "    groups_with_cell=(SpikeSortingRecordingSelection & {\n",
    "        'nwb_file_name' : nwb_copy_file_name}).fetch('sort_group_id')\n",
    "    groups_with_cell=np.setdiff1d(groups_with_cell,[100,101])\n",
    "    channel_IDs = list(neural_df.keys())\n",
    "    \n",
    "    spikeColInd = {}\n",
    "    for g in groups_with_cell:\n",
    "        spikeColInd_ = np.argwhere(np.isin(channel_IDs,(Electrode() &  {'nwb_file_name' : nwb_copy_file_name,\n",
    "                                                     'electrode_group_name':str(g)}).fetch('electrode_id'))).ravel()\n",
    "        spikeColInd[g] = spikeColInd_\n",
    "\n",
    "    # Pre-make result directory:\n",
    "    decoding_path=(DecodeResultsLinear() & {'nwb_file_name':nwb_copy_file_name}).fetch('posterior')[0]\n",
    "    exampledir=os.path.join(os.path.split(decoding_path)[0],nwb_file_name,'SWR',epoch_name)\n",
    "    isExist = os.path.exists(exampledir)\n",
    "    if not isExist:\n",
    "        os.makedirs(exampledir)\n",
    "    savefolder = exampledir\n",
    "    print(savefolder)\n",
    "\n",
    "    mua_thresh = (MUA & {'nwb_file_name' : nwb_copy_file_name,'interval_list_name':epoch_name}).fetch1('mean')\n",
    "\n",
    "\n",
    "    for t in log_df.index[:-2]:\n",
    "        # Home\n",
    "        ripples = log_df.loc[t].ripple_H\n",
    "        ripple_table_inds = log_df.loc[t].ripple_ID_H\n",
    "\n",
    "        if not np.isnan(log_df.loc[t].timestamp_H):\n",
    "            plottimes = [log_df.loc[t].timestamp_H,log_df.loc[t].timestamp_H + 6]\n",
    "            savename = 'trial' + str(t) + '_home_' + nwb_copy_file_name[:-5] + '_' + epoch_name + '_whole_trial'\n",
    "            plot_ripples_replays(ripple_times,ripples,ripple_table_inds,\n",
    "                         linear_position_df,decode,spikeColInd,lfp_df,theta_df,\n",
    "                         neural_df,mua_df,head_speed,head_orientation,\n",
    "                         savename,savefolder,wholeTrial = 1,plottimes=plottimes,mua_thresh = mua_thresh)\n",
    "            \n",
    "        savename = 'trial' + str(t) + '_home_' + nwb_copy_file_name[:-5] + '_' + epoch_name\n",
    "        plot_ripples_replays(ripple_times,ripples,ripple_table_inds,\n",
    "                     linear_position_df,decode,spikeColInd,lfp_df,theta_df,\n",
    "                     neural_df,mua_df,head_speed,head_orientation,\n",
    "                     savename,savefolder,wholeTrial = 0,mua_thresh = mua_thresh)\n",
    "    \n",
    "        \n",
    "            \n",
    "        # Outer Well\n",
    "            \n",
    "        ripples = log_df.loc[t].ripple_O\n",
    "        ripple_table_inds = log_df.loc[t].ripple_ID_O\n",
    "\n",
    "        plottimes = [log_df.loc[t].timestamp_O,log_df.loc[t].timestamp_O + 6]\n",
    "        savename = 'trial' + str(t) + '_well_' + nwb_copy_file_name[:-5] + '_' + epoch_name + '_whole_trial'\n",
    "        plot_ripples_replays(ripple_times,ripples,ripple_table_inds,\n",
    "                     linear_position_df,decode,spikeColInd,lfp_df,theta_df,\n",
    "                     neural_df,mua_df,head_speed,head_orientation,\n",
    "                     savename,savefolder,wholeTrial = 1,plottimes=plottimes,mua_thresh = mua_thresh)\n",
    "        \n",
    "        savename = 'trial' + str(t) + '_well_' + nwb_copy_file_name[:-5] + '_' + epoch_name\n",
    "        plot_ripples_replays(ripple_times,ripples,ripple_table_inds,\n",
    "                     linear_position_df,decode,spikeColInd,lfp_df,theta_df,\n",
    "                     neural_df,mua_df,head_speed,head_orientation,\n",
    "                     savename,savefolder,wholeTrial = 0,mua_thresh = mua_thresh)\n",
    "    \n",
    "        "
   ]
  },
  {
   "cell_type": "code",
   "execution_count": null,
   "id": "e09432c1-64e8-4ac9-ab50-4fe9eac6c914",
   "metadata": {},
   "outputs": [],
   "source": []
  },
  {
   "cell_type": "code",
   "execution_count": 63,
   "id": "8cfd4bc9-8b60-4d16-b984-11220f5be410",
   "metadata": {},
   "outputs": [
    {
     "name": "stdout",
     "output_type": "stream",
     "text": [
      "> \u001b[0;32m/home/shijiegu/Documents/spyglass/src/spyglass/shijiegu/ripple_add_replay.py\u001b[0m(191)\u001b[0;36madd_trial\u001b[0;34m()\u001b[0m\n",
      "\u001b[0;32m    189 \u001b[0;31m    \u001b[0;32mfor\u001b[0m \u001b[0mr_ind\u001b[0m \u001b[0;32min\u001b[0m \u001b[0mripple_times\u001b[0m\u001b[0;34m.\u001b[0m\u001b[0mindex\u001b[0m\u001b[0;34m:\u001b[0m\u001b[0;34m\u001b[0m\u001b[0;34m\u001b[0m\u001b[0m\n",
      "\u001b[0m\u001b[0;32m    190 \u001b[0;31m        \u001b[0;34m(\u001b[0m\u001b[0mt0\u001b[0m\u001b[0;34m,\u001b[0m\u001b[0mt1\u001b[0m\u001b[0;34m)\u001b[0m \u001b[0;34m=\u001b[0m \u001b[0;34m(\u001b[0m\u001b[0mripple_times\u001b[0m\u001b[0;34m.\u001b[0m\u001b[0mloc\u001b[0m\u001b[0;34m[\u001b[0m\u001b[0mr_ind\u001b[0m\u001b[0;34m,\u001b[0m\u001b[0;34m'start_time'\u001b[0m\u001b[0;34m]\u001b[0m\u001b[0;34m,\u001b[0m\u001b[0mripple_times\u001b[0m\u001b[0;34m.\u001b[0m\u001b[0mloc\u001b[0m\u001b[0;34m[\u001b[0m\u001b[0mr_ind\u001b[0m\u001b[0;34m,\u001b[0m\u001b[0;34m'end_time'\u001b[0m\u001b[0;34m]\u001b[0m\u001b[0;34m)\u001b[0m\u001b[0;34m\u001b[0m\u001b[0;34m\u001b[0m\u001b[0m\n",
      "\u001b[0m\u001b[0;32m--> 191 \u001b[0;31m        \u001b[0mtrial_number\u001b[0m \u001b[0;34m=\u001b[0m \u001b[0mnp\u001b[0m\u001b[0;34m.\u001b[0m\u001b[0margwhere\u001b[0m\u001b[0;34m(\u001b[0m\u001b[0mlog_df\u001b[0m\u001b[0;34m.\u001b[0m\u001b[0mtimestamp_H\u001b[0m \u001b[0;34m>=\u001b[0m \u001b[0mt0\u001b[0m\u001b[0;34m)\u001b[0m\u001b[0;34m.\u001b[0m\u001b[0mravel\u001b[0m\u001b[0;34m(\u001b[0m\u001b[0;34m)\u001b[0m\u001b[0;34m[\u001b[0m\u001b[0;36m0\u001b[0m\u001b[0;34m]\u001b[0m\u001b[0;34m\u001b[0m\u001b[0;34m\u001b[0m\u001b[0m\n",
      "\u001b[0m\u001b[0;32m    192 \u001b[0;31m        \u001b[0;31m# this way only works if the trial is legal.\u001b[0m\u001b[0;34m\u001b[0m\u001b[0;34m\u001b[0m\u001b[0m\n",
      "\u001b[0m\u001b[0;32m    193 \u001b[0;31m        \u001b[0;32mif\u001b[0m \u001b[0mnp\u001b[0m\u001b[0;34m.\u001b[0m\u001b[0misin\u001b[0m\u001b[0;34m(\u001b[0m\u001b[0mtrial_number\u001b[0m\u001b[0;34m,\u001b[0m\u001b[0mlegal_trials\u001b[0m\u001b[0;34m)\u001b[0m\u001b[0;34m:\u001b[0m\u001b[0;34m\u001b[0m\u001b[0;34m\u001b[0m\u001b[0m\n",
      "\u001b[0m\n"
     ]
    },
    {
     "name": "stdin",
     "output_type": "stream",
     "text": [
      "ipdb>  t0\n"
     ]
    },
    {
     "name": "stdout",
     "output_type": "stream",
     "text": [
      "1704570633.7066205\n"
     ]
    },
    {
     "name": "stdin",
     "output_type": "stream",
     "text": [
      "ipdb>  t1\n"
     ]
    },
    {
     "name": "stdout",
     "output_type": "stream",
     "text": [
      "1704570633.841621\n"
     ]
    },
    {
     "name": "stdin",
     "output_type": "stream",
     "text": [
      "ipdb>  r_ind\n"
     ]
    },
    {
     "name": "stdout",
     "output_type": "stream",
     "text": [
      "191\n"
     ]
    },
    {
     "name": "stdin",
     "output_type": "stream",
     "text": [
      "ipdb>  log_df.timestamp_H[-1]\n"
     ]
    },
    {
     "name": "stdout",
     "output_type": "stream",
     "text": [
      "*** KeyError: -1\n"
     ]
    },
    {
     "name": "stdin",
     "output_type": "stream",
     "text": [
      "ipdb>  log_df.timestamp_H\n"
     ]
    },
    {
     "name": "stdout",
     "output_type": "stream",
     "text": [
      "1     1.704569e+09\n",
      "2     1.704569e+09\n",
      "3     1.704569e+09\n",
      "4     1.704569e+09\n",
      "5     1.704569e+09\n",
      "          ...     \n",
      "88    1.704571e+09\n",
      "89    1.704571e+09\n",
      "90    1.704571e+09\n",
      "91             NaN\n",
      "92             NaN\n",
      "Name: timestamp_H, Length: 92, dtype: float64\n"
     ]
    },
    {
     "name": "stdin",
     "output_type": "stream",
     "text": [
      "ipdb>  np.array(log_df.timestamp_H)[-1]\n"
     ]
    },
    {
     "name": "stdout",
     "output_type": "stream",
     "text": [
      "nan\n"
     ]
    },
    {
     "name": "stdin",
     "output_type": "stream",
     "text": [
      "ipdb>  np.array(log_df.timestamp_H)[-3]\n"
     ]
    },
    {
     "name": "stdout",
     "output_type": "stream",
     "text": [
      "1704570627.8786988\n"
     ]
    },
    {
     "name": "stdin",
     "output_type": "stream",
     "text": [
      "ipdb>  ripple_times.loc[1,'start_time']\n"
     ]
    },
    {
     "name": "stdout",
     "output_type": "stream",
     "text": [
      "1704568523.4696622\n"
     ]
    },
    {
     "name": "stdin",
     "output_type": "stream",
     "text": [
      "ipdb>  np.array(log_df.timestamp_H)[0]\n"
     ]
    },
    {
     "name": "stdout",
     "output_type": "stream",
     "text": [
      "1704568504.693826\n"
     ]
    },
    {
     "name": "stdin",
     "output_type": "stream",
     "text": [
      "ipdb>  r_ind\n"
     ]
    },
    {
     "name": "stdout",
     "output_type": "stream",
     "text": [
      "191\n"
     ]
    },
    {
     "name": "stdin",
     "output_type": "stream",
     "text": [
      "ipdb>  len(ripple_times)\n"
     ]
    },
    {
     "name": "stdout",
     "output_type": "stream",
     "text": [
      "192\n"
     ]
    },
    {
     "name": "stdin",
     "output_type": "stream",
     "text": [
      "ipdb>  up\n"
     ]
    },
    {
     "name": "stdout",
     "output_type": "stream",
     "text": [
      "> \u001b[0;32m/home/shijiegu/Documents/spyglass/src/spyglass/shijiegu/ripple_add_replay.py\u001b[0m(145)\u001b[0;36madd_location_replay\u001b[0;34m()\u001b[0m\n",
      "\u001b[0;32m    143 \u001b[0;31m    '''\n",
      "\u001b[0m\u001b[0;32m    144 \u001b[0;31m    \u001b[0mripple_times\u001b[0m \u001b[0;34m=\u001b[0m \u001b[0madd_location\u001b[0m\u001b[0;34m(\u001b[0m\u001b[0mripple_times\u001b[0m\u001b[0;34m,\u001b[0m\u001b[0mlinear_position_df\u001b[0m\u001b[0;34m,\u001b[0m\u001b[0mnode_location\u001b[0m\u001b[0;34m)\u001b[0m\u001b[0;34m\u001b[0m\u001b[0;34m\u001b[0m\u001b[0m\n",
      "\u001b[0m\u001b[0;32m--> 145 \u001b[0;31m    \u001b[0mripple_times\u001b[0m \u001b[0;34m=\u001b[0m \u001b[0madd_trial\u001b[0m\u001b[0;34m(\u001b[0m\u001b[0mripple_times\u001b[0m\u001b[0;34m,\u001b[0m\u001b[0mlog_df\u001b[0m\u001b[0;34m)\u001b[0m\u001b[0;34m\u001b[0m\u001b[0;34m\u001b[0m\u001b[0m\n",
      "\u001b[0m\u001b[0;32m    146 \u001b[0;31m    \u001b[0mripple_times\u001b[0m \u001b[0;34m=\u001b[0m \u001b[0madd_replay\u001b[0m\u001b[0;34m(\u001b[0m\u001b[0mripple_times\u001b[0m\u001b[0;34m,\u001b[0m\u001b[0mmua_xr\u001b[0m\u001b[0;34m,\u001b[0m\u001b[0mmua_threshold\u001b[0m\u001b[0;34m,\u001b[0m\u001b[0mdecode\u001b[0m\u001b[0;34m,\u001b[0m\u001b[0mlinear_map\u001b[0m\u001b[0;34m,\u001b[0m\u001b[0mcausal\u001b[0m \u001b[0;34m=\u001b[0m \u001b[0mcausal\u001b[0m\u001b[0;34m)\u001b[0m\u001b[0;34m\u001b[0m\u001b[0;34m\u001b[0m\u001b[0m\n",
      "\u001b[0m\u001b[0;32m    147 \u001b[0;31m    \u001b[0;32mreturn\u001b[0m \u001b[0mripple_times\u001b[0m\u001b[0;34m\u001b[0m\u001b[0;34m\u001b[0m\u001b[0m\n",
      "\u001b[0m\n"
     ]
    },
    {
     "name": "stdin",
     "output_type": "stream",
     "text": [
      "ipdb>  up\n"
     ]
    },
    {
     "name": "stdout",
     "output_type": "stream",
     "text": [
      "> \u001b[0;32m/home/shijiegu/Documents/spyglass/src/spyglass/shijiegu/ripple_add_replay.py\u001b[0m(74)\u001b[0;36mreplay_parser_master\u001b[0;34m()\u001b[0m\n",
      "\u001b[0;32m     72 \u001b[0;31m\u001b[0;34m\u001b[0m\u001b[0m\n",
      "\u001b[0m\u001b[0;32m     73 \u001b[0;31m    \u001b[0;31m# 3. add replay and trial time data to ripple data\u001b[0m\u001b[0;34m\u001b[0m\u001b[0;34m\u001b[0m\u001b[0m\n",
      "\u001b[0m\u001b[0;32m---> 74 \u001b[0;31m    ripple_times = add_location_replay(ripple_times,\n",
      "\u001b[0m\u001b[0;32m     75 \u001b[0;31m                                       \u001b[0mlinear_position_df\u001b[0m\u001b[0;34m,\u001b[0m\u001b[0mnode_location\u001b[0m\u001b[0;34m,\u001b[0m\u001b[0mlinear_map\u001b[0m\u001b[0;34m,\u001b[0m\u001b[0;34m\u001b[0m\u001b[0;34m\u001b[0m\u001b[0m\n",
      "\u001b[0m\u001b[0;32m     76 \u001b[0;31m                                       \u001b[0mlog_df\u001b[0m\u001b[0;34m,\u001b[0m\u001b[0;34m\u001b[0m\u001b[0;34m\u001b[0m\u001b[0m\n",
      "\u001b[0m\n"
     ]
    },
    {
     "name": "stdin",
     "output_type": "stream",
     "text": [
      "ipdb>  epoch_name\n"
     ]
    },
    {
     "name": "stdout",
     "output_type": "stream",
     "text": [
      "'04_Rev2Session2'\n"
     ]
    },
    {
     "name": "stdin",
     "output_type": "stream",
     "text": [
      "ipdb>  epoch_name.split('_')[1][4:8]\n"
     ]
    },
    {
     "name": "stdout",
     "output_type": "stream",
     "text": [
      "'Sess'\n"
     ]
    },
    {
     "name": "stdin",
     "output_type": "stream",
     "text": [
      "ipdb>  StateScript = pd.DataFrame(             (TrialChoice & {'nwb_file_name':nwb_copy_file_name,'epoch':int(epoch_name[:2])}).fetch1('choice_reward')         )\n",
      "ipdb>  trial_last_t = StateScript.loc[len(StateScript)-1].timestamp_O\n",
      "ipdb>  trial_last_t\n"
     ]
    },
    {
     "name": "stdout",
     "output_type": "stream",
     "text": [
      "1704570641.6037498\n"
     ]
    },
    {
     "name": "stdin",
     "output_type": "stream",
     "text": [
      "ipdb>  StateScript.loc[len(StateScript)-1]\n"
     ]
    },
    {
     "name": "stdout",
     "output_type": "stream",
     "text": [
      "timestamp_H                NaN\n",
      "Home              1.000000e+00\n",
      "timestamp_O       1.704571e+09\n",
      "OuterWellIndex    2.000000e+00\n",
      "rewardNum         0.000000e+00\n",
      "current           2.000000e+00\n",
      "future_H          2.000000e+00\n",
      "future_O                   NaN\n",
      "past              1.000000e+00\n",
      "past_reward       1.000000e+00\n",
      "Name: 91, dtype: float64\n"
     ]
    },
    {
     "name": "stdin",
     "output_type": "stream",
     "text": [
      "ipdb>  down\n"
     ]
    },
    {
     "name": "stdout",
     "output_type": "stream",
     "text": [
      "> \u001b[0;32m/home/shijiegu/Documents/spyglass/src/spyglass/shijiegu/ripple_add_replay.py\u001b[0m(145)\u001b[0;36madd_location_replay\u001b[0;34m()\u001b[0m\n",
      "\u001b[0;32m    143 \u001b[0;31m    '''\n",
      "\u001b[0m\u001b[0;32m    144 \u001b[0;31m    \u001b[0mripple_times\u001b[0m \u001b[0;34m=\u001b[0m \u001b[0madd_location\u001b[0m\u001b[0;34m(\u001b[0m\u001b[0mripple_times\u001b[0m\u001b[0;34m,\u001b[0m\u001b[0mlinear_position_df\u001b[0m\u001b[0;34m,\u001b[0m\u001b[0mnode_location\u001b[0m\u001b[0;34m)\u001b[0m\u001b[0;34m\u001b[0m\u001b[0;34m\u001b[0m\u001b[0m\n",
      "\u001b[0m\u001b[0;32m--> 145 \u001b[0;31m    \u001b[0mripple_times\u001b[0m \u001b[0;34m=\u001b[0m \u001b[0madd_trial\u001b[0m\u001b[0;34m(\u001b[0m\u001b[0mripple_times\u001b[0m\u001b[0;34m,\u001b[0m\u001b[0mlog_df\u001b[0m\u001b[0;34m)\u001b[0m\u001b[0;34m\u001b[0m\u001b[0;34m\u001b[0m\u001b[0m\n",
      "\u001b[0m\u001b[0;32m    146 \u001b[0;31m    \u001b[0mripple_times\u001b[0m \u001b[0;34m=\u001b[0m \u001b[0madd_replay\u001b[0m\u001b[0;34m(\u001b[0m\u001b[0mripple_times\u001b[0m\u001b[0;34m,\u001b[0m\u001b[0mmua_xr\u001b[0m\u001b[0;34m,\u001b[0m\u001b[0mmua_threshold\u001b[0m\u001b[0;34m,\u001b[0m\u001b[0mdecode\u001b[0m\u001b[0;34m,\u001b[0m\u001b[0mlinear_map\u001b[0m\u001b[0;34m,\u001b[0m\u001b[0mcausal\u001b[0m \u001b[0;34m=\u001b[0m \u001b[0mcausal\u001b[0m\u001b[0;34m)\u001b[0m\u001b[0;34m\u001b[0m\u001b[0;34m\u001b[0m\u001b[0m\n",
      "\u001b[0m\u001b[0;32m    147 \u001b[0;31m    \u001b[0;32mreturn\u001b[0m \u001b[0mripple_times\u001b[0m\u001b[0;34m\u001b[0m\u001b[0;34m\u001b[0m\u001b[0m\n",
      "\u001b[0m\n"
     ]
    },
    {
     "name": "stdin",
     "output_type": "stream",
     "text": [
      "ipdb>  down\n"
     ]
    },
    {
     "name": "stdout",
     "output_type": "stream",
     "text": [
      "> \u001b[0;32m/home/shijiegu/Documents/spyglass/src/spyglass/shijiegu/ripple_add_replay.py\u001b[0m(191)\u001b[0;36madd_trial\u001b[0;34m()\u001b[0m\n",
      "\u001b[0;32m    189 \u001b[0;31m    \u001b[0;32mfor\u001b[0m \u001b[0mr_ind\u001b[0m \u001b[0;32min\u001b[0m \u001b[0mripple_times\u001b[0m\u001b[0;34m.\u001b[0m\u001b[0mindex\u001b[0m\u001b[0;34m:\u001b[0m\u001b[0;34m\u001b[0m\u001b[0;34m\u001b[0m\u001b[0m\n",
      "\u001b[0m\u001b[0;32m    190 \u001b[0;31m        \u001b[0;34m(\u001b[0m\u001b[0mt0\u001b[0m\u001b[0;34m,\u001b[0m\u001b[0mt1\u001b[0m\u001b[0;34m)\u001b[0m \u001b[0;34m=\u001b[0m \u001b[0;34m(\u001b[0m\u001b[0mripple_times\u001b[0m\u001b[0;34m.\u001b[0m\u001b[0mloc\u001b[0m\u001b[0;34m[\u001b[0m\u001b[0mr_ind\u001b[0m\u001b[0;34m,\u001b[0m\u001b[0;34m'start_time'\u001b[0m\u001b[0;34m]\u001b[0m\u001b[0;34m,\u001b[0m\u001b[0mripple_times\u001b[0m\u001b[0;34m.\u001b[0m\u001b[0mloc\u001b[0m\u001b[0;34m[\u001b[0m\u001b[0mr_ind\u001b[0m\u001b[0;34m,\u001b[0m\u001b[0;34m'end_time'\u001b[0m\u001b[0;34m]\u001b[0m\u001b[0;34m)\u001b[0m\u001b[0;34m\u001b[0m\u001b[0;34m\u001b[0m\u001b[0m\n",
      "\u001b[0m\u001b[0;32m--> 191 \u001b[0;31m        \u001b[0mtrial_number\u001b[0m \u001b[0;34m=\u001b[0m \u001b[0mnp\u001b[0m\u001b[0;34m.\u001b[0m\u001b[0margwhere\u001b[0m\u001b[0;34m(\u001b[0m\u001b[0mlog_df\u001b[0m\u001b[0;34m.\u001b[0m\u001b[0mtimestamp_H\u001b[0m \u001b[0;34m>=\u001b[0m \u001b[0mt0\u001b[0m\u001b[0;34m)\u001b[0m\u001b[0;34m.\u001b[0m\u001b[0mravel\u001b[0m\u001b[0;34m(\u001b[0m\u001b[0;34m)\u001b[0m\u001b[0;34m[\u001b[0m\u001b[0;36m0\u001b[0m\u001b[0;34m]\u001b[0m\u001b[0;34m\u001b[0m\u001b[0;34m\u001b[0m\u001b[0m\n",
      "\u001b[0m\u001b[0;32m    192 \u001b[0;31m        \u001b[0;31m# this way only works if the trial is legal.\u001b[0m\u001b[0;34m\u001b[0m\u001b[0;34m\u001b[0m\u001b[0m\n",
      "\u001b[0m\u001b[0;32m    193 \u001b[0;31m        \u001b[0;32mif\u001b[0m \u001b[0mnp\u001b[0m\u001b[0;34m.\u001b[0m\u001b[0misin\u001b[0m\u001b[0;34m(\u001b[0m\u001b[0mtrial_number\u001b[0m\u001b[0;34m,\u001b[0m\u001b[0mlegal_trials\u001b[0m\u001b[0;34m)\u001b[0m\u001b[0;34m:\u001b[0m\u001b[0;34m\u001b[0m\u001b[0;34m\u001b[0m\u001b[0m\n",
      "\u001b[0m\n"
     ]
    },
    {
     "name": "stdin",
     "output_type": "stream",
     "text": [
      "ipdb>  np.argwhere(log_df.timestamp_H >= t0).ravel()\n"
     ]
    },
    {
     "name": "stdout",
     "output_type": "stream",
     "text": [
      "array([], dtype=int64)\n"
     ]
    },
    {
     "name": "stdin",
     "output_type": "stream",
     "text": [
      "ipdb>  tmp = np.argwhere(log_df.timestamp_H >= t0).ravel()\n",
      "ipdb>  trial_number = np.argwhere(log_df.timestamp_O-1 >= t0).ravel()[0]\n",
      "ipdb>  trial_number\n"
     ]
    },
    {
     "name": "stdout",
     "output_type": "stream",
     "text": [
      "90\n"
     ]
    },
    {
     "name": "stdin",
     "output_type": "stream",
     "text": [
      "ipdb>  t0\n"
     ]
    },
    {
     "name": "stdout",
     "output_type": "stream",
     "text": [
      "1704570633.7066205\n"
     ]
    },
    {
     "name": "stdin",
     "output_type": "stream",
     "text": [
      "ipdb>  np.array(log_df.timestamp_O)[-3]\n"
     ]
    },
    {
     "name": "stdout",
     "output_type": "stream",
     "text": [
      "1704570621.1086736\n"
     ]
    },
    {
     "name": "stdin",
     "output_type": "stream",
     "text": [
      "ipdb>  np.array(log_df.timestamp_H)[-2]\n"
     ]
    },
    {
     "name": "stdout",
     "output_type": "stream",
     "text": [
      "nan\n"
     ]
    },
    {
     "name": "stdin",
     "output_type": "stream",
     "text": [
      "ipdb>  np.array(log_df.timestamp_O)[-2]\n"
     ]
    },
    {
     "name": "stdout",
     "output_type": "stream",
     "text": [
      "1704570641.6037498\n"
     ]
    },
    {
     "name": "stdin",
     "output_type": "stream",
     "text": [
      "ipdb>  exit\n"
     ]
    }
   ],
   "source": [
    "%debug"
   ]
  },
  {
   "cell_type": "code",
   "execution_count": null,
   "id": "f7c0d9f6-afb2-4fbe-b6c6-81d7cc42acef",
   "metadata": {},
   "outputs": [],
   "source": []
  },
  {
   "cell_type": "code",
   "execution_count": 7,
   "id": "3d2ef523-2575-4966-a1ed-785d22742557",
   "metadata": {},
   "outputs": [
    {
     "data": {
      "text/plain": [
       "array([  0,  12,  14,  17,  25,  31,  33,  54,  62,  73,  79,  89,  93,\n",
       "        98, 102, 108, 112, 115, 118, 126, 130, 139, 142, 146, 152, 157])"
      ]
     },
     "execution_count": 7,
     "metadata": {},
     "output_type": "execute_result"
    }
   ],
   "source": [
    "((TetrodeNumber() & {'nwb_file_name': nwb_copy_file_name,\"epoch_name\":\"02_Rev2Session1\"})).fetch1(\"ca1_tetrode_ind\")"
   ]
  },
  {
   "cell_type": "markdown",
   "id": "e5668d6c-e80c-4841-a23c-53d6214e90cf",
   "metadata": {},
   "source": [
    "## Ends here"
   ]
  },
  {
   "cell_type": "code",
   "execution_count": null,
   "id": "73f8bbb0-bee6-4f9b-a30b-9fa0909ca04a",
   "metadata": {},
   "outputs": [],
   "source": [
    "\"\"\"\n",
    "IMPORTANT!!!! RUN THIS FUNCTION EVERY TIME AFTER A NEW SESSION\n",
    "USE OF GLOBAL VAR\n",
    "\"\"\"\n",
    "\n",
    "## find tetrodes with signal\n",
    "groups_with_cell=(SpikeSortingRecordingSelection & {\n",
    "    'nwb_file_name' : nwb_copy_file_name}).fetch('sort_group_id')\n",
    "groups_with_cell=np.setdiff1d(groups_with_cell,[100,101])\n",
    "channel_IDs = list(neural_df.keys())\n",
    "\n",
    "spikeColInd = {}\n",
    "for g in groups_with_cell:\n",
    "    spikeColInd_ = np.argwhere(np.isin(channel_IDs,(Electrode() &  {'nwb_file_name' : nwb_copy_file_name,\n",
    "                                                 'electrode_group_name':str(g)}).fetch('electrode_id'))).ravel()\n",
    "    spikeColInd[g] = spikeColInd_"
   ]
  },
  {
   "cell_type": "code",
   "execution_count": null,
   "id": "d94e326f-0554-46f9-940a-2d540c5e66cb",
   "metadata": {},
   "outputs": [],
   "source": [
    "spikeColInd"
   ]
  },
  {
   "cell_type": "code",
   "execution_count": null,
   "id": "222b6384-9174-4f14-81fc-9f7ffd75e592",
   "metadata": {},
   "outputs": [],
   "source": [
    "(epoch_name,log_df,decode,head_speed,head_orientation,linear_position_df,\n",
    "        lfp_df,theta_df,ripple_df,neural_df,mua_df) = load_epoch_data(nwb_copy_file_name,epoch_num)\n",
    "ripple_times = pd.DataFrame((RippleTimes() & {'nwb_file_name': nwb_copy_file_name,\n",
    "                                              'interval_list_name': epoch_name}).fetch1('ripple_times'))"
   ]
  },
  {
   "cell_type": "code",
   "execution_count": null,
   "id": "002fcaa5-7cec-4cde-815f-1d0d028cb791",
   "metadata": {},
   "outputs": [],
   "source": [
    "\"\"\"\n",
    "IMPORTANT!!!! RUN THIS FUNCTION EVERY TIME AFTER A NEW SESSION\n",
    "USE OF GLOBAL VAR\n",
    "\"\"\"\n",
    "\n",
    "def plot_ripples(ripples,ripple_table_inds,save_name,wholeTrial = 1):\n",
    "    \n",
    "    ripples = [r for r in ripples if len(r)>0]\n",
    "    for ripple_ind in range(len(ripples)):\n",
    "        t0t1 = np.vstack(ripples) #all possible shadings, just np.vstack(ripples), remove empty segments\n",
    "        ripple_table_ind = ripple_table_inds[ripple_ind]\n",
    "        \n",
    "        if wholeTrial:\n",
    "            plottimes = [t0t1.ravel()[0]-1,t0t1.ravel()[-1]+1]\n",
    "            title = f\"{save_name} all ripples\"\n",
    "            savename = save_name\n",
    "        else:\n",
    "            savename = save_name + str(ripple_table_ind)\n",
    "            current_t0t1 = ripples[ripple_ind]\n",
    "            plottimes = [current_t0t1.ravel()[0]-1,current_t0t1.ravel()[-1]+1]\n",
    "    \n",
    "            duration = int(ripple_times.loc[ripple_table_ind].duration * 1000)\n",
    "            max_zscore = round(ripple_times.loc[ripple_table_ind].max_zscore,2)\n",
    "            title = f\"{savename} \\n duration: {duration} ms, max_zscore: {max_zscore}\"\n",
    "            title += '\\n Decoded arms:' + str(ripple_times.loc[ripple_table_ind].cont_intvl_replay)\n",
    "    \n",
    "        plot_decode_spiking(plottimes,t0t1,linear_position_df,decode,lfp_df,theta_df,\n",
    "              neural_df,mua_df,ripple_df,head_speed,head_orientation,\n",
    "              ripple_consensus_trace=None,\n",
    "              title=title,savefolder=savefolder,savename=savename,\n",
    "              simple=True,tetrode2ind = spikeColInd)\n",
    "        if wholeTrial:\n",
    "            break\n",
    "    "
   ]
  },
  {
   "cell_type": "code",
   "execution_count": null,
   "id": "f1977539-bb42-4e7a-81cf-9007cdf737e4",
   "metadata": {},
   "outputs": [],
   "source": [
    "# Pre-make result directory:\n",
    "decoding_path=(Decode() & {'nwb_file_name':nwb_copy_file_name}).fetch('posterior')[0]\n",
    "exampledir=os.path.join(os.path.split(decoding_path)[0],nwb_file_name,'SWR',epoch_name)\n",
    "isExist = os.path.exists(exampledir)\n",
    "if not isExist:\n",
    "    os.makedirs(exampledir)\n",
    "savefolder = exampledir\n",
    "print(savefolder)"
   ]
  },
  {
   "cell_type": "code",
   "execution_count": null,
   "id": "0e66973b-3914-4d1c-87f2-b721cbff8a75",
   "metadata": {},
   "outputs": [],
   "source": [
    "for t in log_df.index[:-2]:\n",
    "\n",
    "    # Home\n",
    "    ripples = log_df.loc[t].ripple_H\n",
    "    ripple_table_inds = log_df.loc[t].ripple_ID_H\n",
    "    savename = 'trial' + str(t) + '_home_' + nwb_copy_file_name[:-5] + '_' + epoch_name\n",
    "    plot_ripples(ripples,ripple_table_inds,savename,wholeTrial = 0)\n",
    "    plot_ripples(ripples,ripple_table_inds,savename,wholeTrial = 1)\n",
    "    \n",
    "    # Outer Well\n",
    "    \n",
    "    ripples = log_df.loc[t].ripple_O\n",
    "    ripple_table_inds = log_df.loc[t].ripple_ID_O\n",
    "    savename = 'trial' + str(t) + '_well_' + nwb_copy_file_name[:-5] + '_' + epoch_name\n",
    "    plot_ripples(ripples,ripple_table_inds,savename,wholeTrial = 0)\n",
    "    plot_ripples(ripples,ripple_table_inds,savename,wholeTrial = 1)\n"
   ]
  },
  {
   "cell_type": "code",
   "execution_count": null,
   "id": "f8bc380f-9485-434c-9171-f1475565c083",
   "metadata": {},
   "outputs": [],
   "source": [
    "#plt.plot(theta_t,theta_d)"
   ]
  },
  {
   "cell_type": "markdown",
   "id": "7a591f6e-6b94-4bc1-a8c6-01065da3c3e1",
   "metadata": {},
   "source": [
    "### Plotting"
   ]
  },
  {
   "cell_type": "code",
   "execution_count": null,
   "id": "bc242590-4573-4a65-8fcc-bbcd2c18baf0",
   "metadata": {
    "tags": []
   },
   "outputs": [],
   "source": [
    "%%capture stored_output\n",
    "add_replay(2)\n",
    "add_replay(4)\n",
    "add_replay(6)\n",
    "add_replay(8)"
   ]
  },
  {
   "cell_type": "markdown",
   "id": "cf4fd53f-f116-4073-895a-57c2668c2b45",
   "metadata": {},
   "source": [
    "### for whole day"
   ]
  },
  {
   "cell_type": "code",
   "execution_count": null,
   "id": "25ded6df-d961-4f86-b14c-a2ce81347cf2",
   "metadata": {},
   "outputs": [],
   "source": [
    "all_epochs=list((TrialChoice() & {'nwb_file_name':nwb_copy_file_name}).fetch('epoch'))\n",
    "all_epochs"
   ]
  },
  {
   "cell_type": "code",
   "execution_count": null,
   "id": "fd4e47d3-ecfe-4979-892c-25d6d45726f5",
   "metadata": {
    "tags": []
   },
   "outputs": [],
   "source": [
    "%%capture stored_output\n",
    "with multiprocessing.Pool(3) as p:\n",
    "    p.map(add_replay,all_epochs)"
   ]
  },
  {
   "cell_type": "code",
   "execution_count": null,
   "id": "c11ae82d-8297-4228-a360-ed8be499b367",
   "metadata": {
    "tags": []
   },
   "outputs": [],
   "source": [
    "stored_output.show()"
   ]
  },
  {
   "cell_type": "code",
   "execution_count": null,
   "id": "eb019f0e-e55f-46eb-ba9d-5a4d05a322de",
   "metadata": {},
   "outputs": [],
   "source": [
    "print('here')"
   ]
  },
  {
   "cell_type": "code",
   "execution_count": null,
   "id": "466decb5-093e-4360-a1ba-c11680124fb4",
   "metadata": {
    "tags": []
   },
   "outputs": [],
   "source": [
    "add_replay(8)"
   ]
  },
  {
   "cell_type": "code",
   "execution_count": null,
   "id": "5c79ecad-88f7-47ad-91eb-a27340e71665",
   "metadata": {
    "tags": []
   },
   "outputs": [],
   "source": [
    "%%capture stored_output\n",
    "add_replay(2)\n",
    "add_replay(4)\n",
    "add_replay(6)\n",
    "add_replay(8)\n",
    "add_replay(10)"
   ]
  },
  {
   "cell_type": "code",
   "execution_count": null,
   "id": "92a27112-1337-498e-ae91-8c2b100c14a9",
   "metadata": {
    "tags": []
   },
   "outputs": [],
   "source": [
    "add_replay(10)\n",
    "add_replay(12)"
   ]
  },
  {
   "cell_type": "code",
   "execution_count": null,
   "id": "59c8819a-f69f-49fc-a55d-c5874baa86ae",
   "metadata": {},
   "outputs": [],
   "source": [
    "    epoch_num=8\n",
    "    \n",
    "    # 1. Load state script\n",
    "    key={'nwb_file_name':nwb_copy_file_name,'epoch':epoch_num}\n",
    "    log=(TrialChoice & key).fetch1('choice_reward')\n",
    "    epoch_name=(TrialChoice & key).fetch1('epoch_name')\n",
    "    epoch_pos_name='pos '+str(int(epoch_name[:2])-1)+' valid times'\n",
    "    print('epoch name',epoch_name)\n",
    "    log_df=pd.DataFrame(log)"
   ]
  },
  {
   "cell_type": "code",
   "execution_count": null,
   "id": "92f9efb0-fe55-4654-87ae-d380315b53bc",
   "metadata": {},
   "outputs": [],
   "source": [
    "log_df.loc[66,:]"
   ]
  },
  {
   "cell_type": "code",
   "execution_count": null,
   "id": "9f3a2e10-edff-4b21-9051-b12ddf3b3ab8",
   "metadata": {},
   "outputs": [],
   "source": [
    "log_df.loc[66,:].timestamp_H"
   ]
  },
  {
   "cell_type": "code",
   "execution_count": null,
   "id": "267a5779-4542-44d9-a6e2-db89cf0e098a",
   "metadata": {},
   "outputs": [],
   "source": [
    "linear_position_df = (IntervalLinearizedPosition() &\n",
    "                      {'nwb_file_name': nwb_copy_file_name,\n",
    "                       'interval_list_name': epoch_pos_name,\n",
    "                       'position_info_param_name': 'default_decoding'}\n",
    "                         ).fetch1_dataframe()"
   ]
  },
  {
   "cell_type": "code",
   "execution_count": null,
   "id": "a4694a13-be9d-429e-b7a4-5b744e15142d",
   "metadata": {},
   "outputs": [],
   "source": [
    "    t=68\n",
    "    \n",
    "    # for each trial, find important times\n",
    "    t_home=log_df.loc[t,'timestamp_H']\n",
    "    t_outer=log_df.loc[t,'timestamp_O']\n",
    "    if t+1<len(log_df):\n",
    "        t_end=log_df.loc[t+1,'timestamp_H']\n",
    "    else:\n",
    "        t_end=log_df.loc[t,'timestamp_H']+10\n",
    "    \n",
    "    ''' HOME '''\n",
    "    # find times close to home well\n",
    "    time_slice = slice(t_home,t_outer)\n",
    "    current_location = node_location['home']\n",
    "    position_subset=linear_position_df.loc[time_slice]\n",
    "    close_ind=np.argwhere(np.abs(position_subset.linear_position.values-\n",
    "                                 current_location)<5).ravel()"
   ]
  },
  {
   "cell_type": "code",
   "execution_count": null,
   "id": "4e4c0eb1-9cf6-46fa-b528-f89a41ad0627",
   "metadata": {},
   "outputs": [],
   "source": [
    "position_subset.index[0]"
   ]
  },
  {
   "cell_type": "code",
   "execution_count": null,
   "id": "f0e069c2-0a41-4102-bd07-eb3c8ae6f408",
   "metadata": {},
   "outputs": [],
   "source": [
    "position_subset"
   ]
  },
  {
   "cell_type": "code",
   "execution_count": null,
   "id": "0f4148a0-0975-435f-a75a-226fe09156ab",
   "metadata": {},
   "outputs": [],
   "source": [
    "    epoch_num=6\n",
    "    \n",
    "    # 1. Load state script\n",
    "    key={'nwb_file_name':nwb_copy_file_name,'epoch':epoch_num}\n",
    "    log=(TrialChoice & key).fetch1('choice_reward')\n",
    "    epoch_name=(TrialChoice & key).fetch1('epoch_name')\n",
    "    epoch_pos_name='pos '+str(int(epoch_name[:2])-1)+' valid times'\n",
    "    print('epoch name',epoch_name)\n",
    "    log_df=pd.DataFrame(log)\n",
    "\n",
    "    # 1.5 Pre-make result directory:\n",
    "    decoding_path=(Decode() & {'nwb_file_name':nwb_copy_file_name}).fetch('posterior')[0]\n",
    "    exampledir=os.path.join(os.path.split(decoding_path)[0],nwb_file_name,epoch_name)\n",
    "    isExist = os.path.exists(exampledir)\n",
    "    if not isExist:\n",
    "        os.makedirs(exampledir)\n",
    "\n",
    "    # 2. Pre-expand result: Augment choice_reward table to be choice_reward_replay\n",
    "    log_df_replay=log_df.copy()\n",
    "    log_df_replay.insert(5,'ripple_H',[[] for i in range(len(log_df))]) #hold ripple times\n",
    "    log_df_replay.insert(6,'ripple_O',[[] for i in range(len(log_df))])\n",
    "    log_df_replay.insert(7,'replay_H',[[] for i in range(len(log_df))]) #hold decoded replay\n",
    "    log_df_replay.insert(8,'ripple_peak_H',[[] for i in range(len(log_df))]) #hold decoded replay\n",
    "    log_df_replay.insert(9,'replay_O',[[] for i in range(len(log_df))])\n",
    "    log_df_replay.insert(10,'ripple_peak_O',[[] for i in range(len(log_df))]) #hold decoded replay\n",
    "\n",
    "    # 3. linear map\n",
    "    linear_map,node_location=get_linearization_map()\n",
    "\n",
    "    # 4. load position, decoding, ripple times, mua threshold\n",
    "    (linear_position_df,decode,ripple_nwb,\n",
    "     ripple_timestamps,ripple_times,\n",
    "     recordings,neural_ts,\n",
    "     mua,mua_time)=load_everything(nwb_copy_file_name,\n",
    "                    epoch_name,\n",
    "                    epoch_pos_name)\n",
    "    \n"
   ]
  },
  {
   "cell_type": "code",
   "execution_count": null,
   "id": "99b12484-5b0d-4dd4-a963-1dc93bbaec81",
   "metadata": {},
   "outputs": [],
   "source": []
  },
  {
   "cell_type": "code",
   "execution_count": null,
   "id": "bfa5f05e-e776-46a8-9194-b84992076a67",
   "metadata": {},
   "outputs": [],
   "source": [
    "(IntervalList & {'nwb_file_name': nwb_copy_file_name,'interval_list_name': epoch_pos_name}).fetch1('valid_times')[0]"
   ]
  },
  {
   "cell_type": "code",
   "execution_count": null,
   "id": "cf4a6970-0db5-4d0a-9fd3-424f0349e95f",
   "metadata": {},
   "outputs": [],
   "source": [
    "    position_info = (IntervalPositionInfo() & {'nwb_file_name': nwb_copy_file_name,\n",
    "                     'interval_list_name': epoch_pos_name,\n",
    "                     'position_info_param_name': 'default'}).fetch1_dataframe()"
   ]
  },
  {
   "cell_type": "code",
   "execution_count": null,
   "id": "7d7249d9-1608-46bc-83ba-1f97af24464e",
   "metadata": {},
   "outputs": [],
   "source": [
    "log_df.loc[60].timestamp_H"
   ]
  },
  {
   "cell_type": "code",
   "execution_count": null,
   "id": "caeaa338-6b77-4fa5-94f3-57ab94a88537",
   "metadata": {},
   "outputs": [],
   "source": [
    "log_df.loc[61].timestamp_H"
   ]
  },
  {
   "cell_type": "code",
   "execution_count": null,
   "id": "856d2e9a-0692-483a-81db-0c997e975881",
   "metadata": {},
   "outputs": [],
   "source": [
    "log_df.loc[82].timestamp_H"
   ]
  },
  {
   "cell_type": "code",
   "execution_count": null,
   "id": "4f852917-0877-4fb5-83d6-09d4fdc5643b",
   "metadata": {},
   "outputs": [],
   "source": [
    "ripple_timestamps[0]"
   ]
  },
  {
   "cell_type": "code",
   "execution_count": null,
   "id": "4cc7be38-a0f1-48af-a03a-a6ed2d17451d",
   "metadata": {},
   "outputs": [],
   "source": [
    "position_info.index[0]"
   ]
  },
  {
   "cell_type": "code",
   "execution_count": null,
   "id": "63cbdcd8-718c-4700-854c-65f011b2dfa1",
   "metadata": {},
   "outputs": [],
   "source": [
    "plt.plot(linear_position_df.loc[linear_position_df.index>1650309121,'linear_position'])"
   ]
  },
  {
   "cell_type": "code",
   "execution_count": null,
   "id": "3745b593-fa42-48eb-8f1f-5fbfb82134af",
   "metadata": {
    "tags": []
   },
   "outputs": [],
   "source": [
    "add_replay(10)"
   ]
  },
  {
   "cell_type": "code",
   "execution_count": null,
   "id": "c2d13e38-97fb-41e6-9560-208aa88e9733",
   "metadata": {},
   "outputs": [],
   "source": [
    "TrialChoiceReplay() & {'nwb_file_name':nwb_copy_file_name}"
   ]
  },
  {
   "cell_type": "code",
   "execution_count": null,
   "id": "13e1cde9-13ab-4687-bbee-2185888b8334",
   "metadata": {},
   "outputs": [],
   "source": [
    "choice_reward_replay=(TrialChoiceReplay() & {'nwb_file_name':nwb_copy_file_name,\n",
    "                                            'epoch':2}).fetch1('choice_reward_replay')"
   ]
  },
  {
   "cell_type": "code",
   "execution_count": null,
   "id": "f907b79b-70a5-4878-9f93-f31343640efb",
   "metadata": {
    "tags": []
   },
   "outputs": [],
   "source": [
    "pd.DataFrame(choice_reward_replay)"
   ]
  },
  {
   "cell_type": "markdown",
   "id": "27a393c1-66f5-480e-8585-9ff55b2880d3",
   "metadata": {},
   "source": [
    "### one trial"
   ]
  },
  {
   "cell_type": "code",
   "execution_count": null,
   "id": "7243272d-947a-4120-9ef8-3d222c51e54e",
   "metadata": {},
   "outputs": [],
   "source": [
    "mua_threshold=np.mean(mua)\n",
    "mua_threshold"
   ]
  },
  {
   "cell_type": "markdown",
   "id": "77ef63a2-19c0-4b32-8783-fbd93aef1563",
   "metadata": {},
   "source": [
    "### all trials"
   ]
  },
  {
   "cell_type": "code",
   "execution_count": null,
   "id": "6623fde9-1e51-443d-a803-94ac2b543871",
   "metadata": {
    "tags": []
   },
   "outputs": [],
   "source": [
    "numWorker=30\n",
    "print('num of worker:',numWorker)\n",
    "with multiprocessing.Pool(numWorker) as p:\n",
    "    results=p.map(find_ripple_classify_decode,legal_trials)"
   ]
  },
  {
   "cell_type": "code",
   "execution_count": null,
   "id": "d61561fe-e255-422e-8ecd-a9a4b564f8a3",
   "metadata": {},
   "outputs": [],
   "source": [
    "len(results)"
   ]
  },
  {
   "cell_type": "code",
   "execution_count": null,
   "id": "6811f7de-5907-4f46-a898-a0e2de475af5",
   "metadata": {},
   "outputs": [],
   "source": [
    "for i in range(len(legal_trials)):\n",
    "    t=legal_trials[i]\n",
    "    # add to the choice_reward_replay\n",
    "    log_df_replay.at[t, 'ripple_H']=results[i][0]\n",
    "    log_df_replay.at[t, 'ripple_O']=results[i][3]\n",
    "    \n",
    "    log_df_replay.at[t, 'replay_H']= results[i][1]\n",
    "    log_df_replay.at[t, 'replay_O']= results[i][4]\n",
    "    \n",
    "    log_df_replay.at[t, 'ripple_peak_H']= results[i][2]\n",
    "    log_df_replay.at[t, 'ripple_peak_O']= results[i][5]\n",
    "log_df_replay_subset=log_df_replay.loc[legal_trials,:].copy()"
   ]
  },
  {
   "cell_type": "code",
   "execution_count": null,
   "id": "62900347-9520-44ef-99dd-881f499fc14b",
   "metadata": {},
   "outputs": [],
   "source": []
  },
  {
   "cell_type": "code",
   "execution_count": null,
   "id": "226962c6-4c25-4944-93bd-1160c3518f04",
   "metadata": {},
   "outputs": [],
   "source": [
    "pd.set_option(\"display.max_rows\", None)"
   ]
  },
  {
   "cell_type": "code",
   "execution_count": null,
   "id": "bf9a0b2f-3f60-4b4e-b6ae-04772427a6a9",
   "metadata": {
    "tags": []
   },
   "outputs": [],
   "source": [
    "log_df_replay"
   ]
  },
  {
   "cell_type": "code",
   "execution_count": null,
   "id": "e3edc2e0-864c-4efc-b02b-60f5eff6b7fa",
   "metadata": {},
   "outputs": [],
   "source": [
    "# insert into Spyglass\n",
    "key={'nwb_file_name':nwb_copy_file_name,'epoch':epoch_num,'choice_reward_replay':log_df_replay_subset.to_dict()}\n",
    "TrialChoiceReplay().make(key,replace=True)"
   ]
  },
  {
   "cell_type": "code",
   "execution_count": null,
   "id": "5b58255b-9704-417d-880b-c95c129d249d",
   "metadata": {},
   "outputs": [],
   "source": [
    "TrialChoiceReplay()"
   ]
  },
  {
   "cell_type": "markdown",
   "id": "97037bcf-2c6f-490c-9db1-6ff2c8b6226c",
   "metadata": {},
   "source": [
    "## investigate short ripples"
   ]
  },
  {
   "cell_type": "code",
   "execution_count": null,
   "id": "eac4ae01-fbab-452c-a653-e09c925dee96",
   "metadata": {},
   "outputs": [],
   "source": [
    "short_ripple_H=[]\n",
    "for i in range(len(legal_trials)):\n",
    "    t=trial_ind[i]\n",
    "    ripple_H=log_df_replay.loc[t, 'ripple_H']\n",
    "    for ri in range(len(ripple_H)):\n",
    "        if len(ripple_H[ri])==0: #state time is short\n",
    "            continue\n",
    "        ripple_=np.reshape(ripple_H[ri],(1,-1))\n",
    "        if (ripple_[0,-1]-ripple_[0,0])<=0.05:\n",
    "            short_ripple_H.append((t,ri+1))"
   ]
  },
  {
   "cell_type": "code",
   "execution_count": null,
   "id": "df62d780-6b6c-4eea-8b53-ef3c6dc81e72",
   "metadata": {},
   "outputs": [],
   "source": []
  },
  {
   "cell_type": "code",
   "execution_count": null,
   "id": "6d72c6ba-178f-4a62-b59c-969670889839",
   "metadata": {},
   "outputs": [],
   "source": [
    "replay_ripple_count=np.zeros((10,5))\n",
    "replay_ripple=np.zeros((10,5),dtype=np.object)\n",
    "for i in range(len(trial_ind)):\n",
    "    t=trial_ind[i]\n",
    "    replay_all=log_df_replay.loc[t,'replay_O']\n",
    "    ripple_all=log_df_replay.loc[t,'ripple_peak_O']\n",
    "    \n",
    "    for ri in range(len(replay_all)):\n",
    "        replay=replay_all[ri]\n",
    "        unique_arms=np.unique(np.setdiff1d(replay,[5]))\n",
    "        replay_arm_num=len(unique_arms)\n",
    "    \n",
    "        ripple_num=len(ripple_all[ri])\n",
    "        if ripple_num<=10 and replay_arm_num<=5:\n",
    "            replay_ripple_count[ripple_num-1,replay_arm_num-1]+=1\n",
    "            if type(replay_ripple[ripple_num-1,replay_arm_num-1])=='list':\n",
    "                replay_ripple[ripple_num-1,replay_arm_num-1].append(replay)\n",
    "            else:\n",
    "                replay_ripple[ripple_num-1,replay_arm_num-1]=replay"
   ]
  },
  {
   "cell_type": "code",
   "execution_count": null,
   "id": "b5d920f7-42ad-47bd-99e3-63a25caeddfd",
   "metadata": {},
   "outputs": [],
   "source": [
    "replay_ripple[:,2]"
   ]
  },
  {
   "cell_type": "code",
   "execution_count": null,
   "id": "2f7d00f0-6bcd-48da-b54d-d30df1faccc7",
   "metadata": {},
   "outputs": [],
   "source": [
    "fig, axes = plt.subplots(nrows=1)\n",
    "plt.imshow(np.flipud(replay_ripple_count.T))\n",
    "axes.set_xlabel('ripple peak number')\n",
    "axes.set_ylabel('distinct arms in replay')\n",
    "axes.set_yticks([2,3,4])\n",
    "axes.set_yticklabels(['3','2','1'])"
   ]
  },
  {
   "cell_type": "code",
   "execution_count": null,
   "id": "a3d5a270-ea1f-42a6-8b02-8d7bc8a6d1f1",
   "metadata": {},
   "outputs": [],
   "source": []
  },
  {
   "cell_type": "code",
   "execution_count": null,
   "id": "99c661ab-9ef0-4492-92af-36e60fca9fa8",
   "metadata": {},
   "outputs": [],
   "source": []
  }
 ],
 "metadata": {
  "kernelspec": {
   "display_name": "Python [conda env:anaconda3-spyglass]",
   "language": "python",
   "name": "conda-env-anaconda3-spyglass-py"
  },
  "language_info": {
   "codemirror_mode": {
    "name": "ipython",
    "version": 3
   },
   "file_extension": ".py",
   "mimetype": "text/x-python",
   "name": "python",
   "nbconvert_exporter": "python",
   "pygments_lexer": "ipython3",
   "version": "3.9.18"
  }
 },
 "nbformat": 4,
 "nbformat_minor": 5
}
