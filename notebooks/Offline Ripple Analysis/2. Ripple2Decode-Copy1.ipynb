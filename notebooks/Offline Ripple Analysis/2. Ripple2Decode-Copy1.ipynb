{
 "cells": [
  {
   "cell_type": "markdown",
   "id": "6d8e0ad1-2d68-4859-a86b-fc2b559d27ea",
   "metadata": {},
   "source": [
    "## 2. Trial by trial decoding analysis\n",
    "\n",
    "### (Map Ripple's decode, insert into the Database.)\n",
    "[This notebook uses TrialChoice() and RippleTimes() to populate the TrialChoiceReplay() table.]\n",
    "##### All the tables mentioned above are under shijiegu github/spyglass/shijiegu/Analysis_SGU.py. It is not in the Franklab spyglass.\n",
    "\n",
    "Jun 23, 2024\n",
    "Shijie Gu"
   ]
  },
  {
   "cell_type": "code",
   "execution_count": 2,
   "id": "e3f9c4b7-680d-4f4f-907a-62ae4b7b17f3",
   "metadata": {},
   "outputs": [],
   "source": [
    "%reload_ext autoreload\n",
    "%autoreload 2"
   ]
  },
  {
   "cell_type": "code",
   "execution_count": 3,
   "id": "3e2ceae1-916b-4637-85d5-77392aa63c35",
   "metadata": {},
   "outputs": [
    {
     "name": "stderr",
     "output_type": "stream",
     "text": [
      "[2025-06-14 18:34:22,155][INFO]: DataJoint 0.14.4 connected to shijiegu-alt@lmf-db.cin.ucsf.edu:3306\n",
      "14-Jun-25 18:34:22 DataJoint 0.14.4 connected to shijiegu-alt@lmf-db.cin.ucsf.edu:3306\n"
     ]
    }
   ],
   "source": [
    "import spyglass as nd\n",
    "import pandas as pd\n",
    "import os\n",
    "# ignore datajoint+jupyter async warnings\n",
    "import warnings\n",
    "warnings.simplefilter('ignore', category=DeprecationWarning)\n",
    "warnings.simplefilter('ignore', category=ResourceWarning)\n",
    "\n",
    "import matplotlib.pyplot as plt\n",
    "import numpy as np\n",
    "import xarray as xr\n",
    "import logging\n",
    "import multiprocessing\n",
    "\n",
    "FORMAT = '%(asctime)s %(message)s'\n",
    "\n",
    "logging.basicConfig(level='INFO', format=FORMAT, datefmt='%d-%b-%y %H:%M:%S')\n",
    "\n",
    "from spyglass.common import (Session, IntervalList,IntervalPositionInfo,\n",
    "                             LabMember, LabTeam, Raw, Session, Nwbfile,\n",
    "                            Electrode,LFPBand,interval_list_intersect)\n",
    "from spyglass.common.common_interval import _intersection\n",
    "\n",
    "import spyglass.spikesorting as ss\n",
    "from spyglass.spikesorting.v0 import (SortGroup, \n",
    "                                    SortInterval,\n",
    "                                    SpikeSortingPreprocessingParameters,\n",
    "                                    SpikeSortingRecording, \n",
    "                                    SpikeSorterParameters,\n",
    "                                    SpikeSortingRecordingSelection,\n",
    "                                    ArtifactDetectionParameters, ArtifactDetectionSelection,\n",
    "                                    ArtifactRemovedIntervalList, ArtifactDetection,\n",
    "                                      SpikeSortingSelection, SpikeSorting,\n",
    "                                   CuratedSpikeSortingSelection,CuratedSpikeSorting,Curation)\n",
    "#from spyglass.decoding.clusterless import (UnitMarks,\n",
    "#                                           UnitMarkParameters,UnitMarksIndicatorSelection,\n",
    "#                                          UnitMarksIndicator)\n",
    "from spyglass.utils.nwb_helper_fn import get_nwb_copy_filename\n",
    "from spyglass.common.common_position import IntervalPositionInfo, IntervalPositionInfoSelection\n",
    "from spyglass.common.common_position import IntervalLinearizedPosition\n",
    "\n",
    "from spyglass.shijiegu.load import load_epoch_data\n",
    "# Here are the analysis tables specific to Shijie Gu\n",
    "from spyglass.shijiegu.Analysis_SGU import (TrialChoice,\n",
    "                                   TrialChoiceReplay,\n",
    "                                   RippleTimes,\n",
    "                                   DecodeResultsLinear,get_linearization_map,\n",
    "                                   find_ripple_times,mua_thresholder,sort_replays,\n",
    "                                   classify_ripples,classify_ripple_content,\n",
    "                                   load_everything,MUA,\n",
    "                                   TetrodeNumber\n",
    "                                  )\n",
    "from spyglass.shijiegu.Analysis_SGU import EpochPos,RippleTimesWithDecode,ExtendedRippleTimes,ExtendedTrialChoiceReplay,TrialChoiceReplayTransition\n",
    "from spyglass.shijiegu.ripple_add_replay import (replay_parser_master,plot_ripples_replays)"
   ]
  },
  {
   "cell_type": "code",
   "execution_count": 13,
   "id": "068d0d69-e76e-41b2-b280-b57e336d8a5d",
   "metadata": {},
   "outputs": [],
   "source": [
    "# the only cell to be edited\n",
    "nwb_file_name_all = ['klein20231111.nwb']\n",
    "nwb_file_name = nwb_file_name_all[0]\n",
    "nwb_copy_file_name = get_nwb_copy_filename(nwb_file_name_all[0])"
   ]
  },
  {
   "cell_type": "code",
   "execution_count": 14,
   "id": "97af5ae1-9589-4418-bd74-0cef2ba82882",
   "metadata": {},
   "outputs": [
    {
     "data": {
      "text/html": [
       "\n",
       "    \n",
       "    <style type=\"text/css\">\n",
       "        .Table{\n",
       "            border-collapse:collapse;\n",
       "        }\n",
       "        .Table th{\n",
       "            background: #A0A0A0; color: #ffffff; padding:4px; border:#f0e0e0 1px solid;\n",
       "            font-weight: normal; font-family: monospace; font-size: 100%;\n",
       "        }\n",
       "        .Table td{\n",
       "            padding:4px; border:#f0e0e0 1px solid; font-size:100%;\n",
       "        }\n",
       "        .Table tr:nth-child(odd){\n",
       "            background: #ffffff;\n",
       "            color: #000000;\n",
       "        }\n",
       "        .Table tr:nth-child(even){\n",
       "            background: #f3f1ff;\n",
       "            color: #000000;\n",
       "        }\n",
       "        /* Tooltip container */\n",
       "        .djtooltip {\n",
       "        }\n",
       "        /* Tooltip text */\n",
       "        .djtooltip .djtooltiptext {\n",
       "            visibility: hidden;\n",
       "            width: 120px;\n",
       "            background-color: black;\n",
       "            color: #fff;\n",
       "            text-align: center;\n",
       "            padding: 5px 0;\n",
       "            border-radius: 6px;\n",
       "            /* Position the tooltip text - see examples below! */\n",
       "            position: absolute;\n",
       "            z-index: 1;\n",
       "        }\n",
       "        #primary {\n",
       "            font-weight: bold;\n",
       "            color: black;\n",
       "        }\n",
       "        #nonprimary {\n",
       "            font-weight: normal;\n",
       "            color: white;\n",
       "        }\n",
       "\n",
       "        /* Show the tooltip text when you mouse over the tooltip container */\n",
       "        .djtooltip:hover .djtooltiptext {\n",
       "            visibility: visible;\n",
       "        }\n",
       "    </style>\n",
       "    \n",
       "    <b>decoded 1D replay content results</b>\n",
       "        <div style=\"max-height:1000px;max-width:1500px;overflow:auto;\">\n",
       "        <table border=\"1\" class=\"Table\">\n",
       "            <thead> <tr style=\"text-align: right;\"> <th> <div class=\"djtooltip\">\n",
       "                            <p id=\"primary\">nwb_file_name</p>\n",
       "                            <span class=\"djtooltiptext\">name of the NWB file</span>\n",
       "                        </div></th><th><div class=\"djtooltip\">\n",
       "                            <p id=\"primary\">interval_list_name</p>\n",
       "                            <span class=\"djtooltiptext\">descriptive name of this interval list</span>\n",
       "                        </div></th><th><div class=\"djtooltip\">\n",
       "                            <p id=\"primary\">classifier_param_name</p>\n",
       "                            <span class=\"djtooltiptext\">a name for this set of parameters</span>\n",
       "                        </div></th><th><div class=\"djtooltip\">\n",
       "                            <p id=\"primary\">encoding_set</p>\n",
       "                            <span class=\"djtooltiptext\">a name for this set of encoding</span>\n",
       "                        </div></th><th><div class=\"djtooltip\">\n",
       "                            <p id=\"nonprimary\">posterior</p>\n",
       "                            <span class=\"djtooltiptext\">posterior within that interval (1D)</span>\n",
       "                        </div> </th> </tr> </thead>\n",
       "            <tbody> <tr> <td>klein20231111_.nwb</td>\n",
       "<td>02_Rev2Session1</td>\n",
       "<td>default_decoding_gpu_4armMaze</td>\n",
       "<td>2Dheadspeed_above_4</td>\n",
       "<td>=BLOB=</td></tr><tr><td>klein20231111_.nwb</td>\n",
       "<td>04_Rev2Session2</td>\n",
       "<td>default_decoding_gpu_4armMaze</td>\n",
       "<td>2Dheadspeed_above_4</td>\n",
       "<td>=BLOB=</td></tr><tr><td>klein20231111_.nwb</td>\n",
       "<td>06_Rev2Session3</td>\n",
       "<td>default_decoding_gpu_4armMaze</td>\n",
       "<td>2Dheadspeed_above_4</td>\n",
       "<td>=BLOB=</td></tr><tr><td>klein20231111_.nwb</td>\n",
       "<td>08_Rev2Session4</td>\n",
       "<td>default_decoding_gpu_4armMaze</td>\n",
       "<td>2Dheadspeed_above_4</td>\n",
       "<td>=BLOB=</td> </tr> </tbody>\n",
       "        </table>\n",
       "        \n",
       "        <p>Total: 4</p></div>\n",
       "        "
      ],
      "text/plain": [
       "*nwb_file_name *interval_list *classifier_pa *encoding_set  posterior \n",
       "+------------+ +------------+ +------------+ +------------+ +--------+\n",
       "klein20231111_ 02_Rev2Session default_decodi 2Dheadspeed_ab =BLOB=    \n",
       "klein20231111_ 04_Rev2Session default_decodi 2Dheadspeed_ab =BLOB=    \n",
       "klein20231111_ 06_Rev2Session default_decodi 2Dheadspeed_ab =BLOB=    \n",
       "klein20231111_ 08_Rev2Session default_decodi 2Dheadspeed_ab =BLOB=    \n",
       " (Total: 4)"
      ]
     },
     "execution_count": 14,
     "metadata": {},
     "output_type": "execute_result"
    }
   ],
   "source": [
    "DecodeResultsLinear & {'nwb_file_name': nwb_copy_file_name}"
   ]
  },
  {
   "cell_type": "code",
   "execution_count": 6,
   "id": "cbd6ec55-683e-4657-b7fe-81d1a0335326",
   "metadata": {},
   "outputs": [
    {
     "data": {
      "text/html": [
       "\n",
       "    \n",
       "    <style type=\"text/css\">\n",
       "        .Table{\n",
       "            border-collapse:collapse;\n",
       "        }\n",
       "        .Table th{\n",
       "            background: #A0A0A0; color: #ffffff; padding:4px; border:#f0e0e0 1px solid;\n",
       "            font-weight: normal; font-family: monospace; font-size: 100%;\n",
       "        }\n",
       "        .Table td{\n",
       "            padding:4px; border:#f0e0e0 1px solid; font-size:100%;\n",
       "        }\n",
       "        .Table tr:nth-child(odd){\n",
       "            background: #ffffff;\n",
       "            color: #000000;\n",
       "        }\n",
       "        .Table tr:nth-child(even){\n",
       "            background: #f3f1ff;\n",
       "            color: #000000;\n",
       "        }\n",
       "        /* Tooltip container */\n",
       "        .djtooltip {\n",
       "        }\n",
       "        /* Tooltip text */\n",
       "        .djtooltip .djtooltiptext {\n",
       "            visibility: hidden;\n",
       "            width: 120px;\n",
       "            background-color: black;\n",
       "            color: #fff;\n",
       "            text-align: center;\n",
       "            padding: 5px 0;\n",
       "            border-radius: 6px;\n",
       "            /* Position the tooltip text - see examples below! */\n",
       "            position: absolute;\n",
       "            z-index: 1;\n",
       "        }\n",
       "        #primary {\n",
       "            font-weight: bold;\n",
       "            color: black;\n",
       "        }\n",
       "        #nonprimary {\n",
       "            font-weight: normal;\n",
       "            color: white;\n",
       "        }\n",
       "\n",
       "        /* Show the tooltip text when you mouse over the tooltip container */\n",
       "        .djtooltip:hover .djtooltiptext {\n",
       "            visibility: visible;\n",
       "        }\n",
       "    </style>\n",
       "    \n",
       "    <b>ripple times</b>\n",
       "        <div style=\"max-height:1000px;max-width:1500px;overflow:auto;\">\n",
       "        <table border=\"1\" class=\"Table\">\n",
       "            <thead> <tr style=\"text-align: right;\"> <th> <div class=\"djtooltip\">\n",
       "                            <p id=\"primary\">nwb_file_name</p>\n",
       "                            <span class=\"djtooltiptext\">name of the NWB file</span>\n",
       "                        </div></th><th><div class=\"djtooltip\">\n",
       "                            <p id=\"primary\">interval_list_name</p>\n",
       "                            <span class=\"djtooltiptext\">descriptive name of this interval list</span>\n",
       "                        </div></th><th><div class=\"djtooltip\">\n",
       "                            <p id=\"nonprimary\">ripple_times</p>\n",
       "                            <span class=\"djtooltiptext\">ripple times within that interval</span>\n",
       "                        </div></th><th><div class=\"djtooltip\">\n",
       "                            <p id=\"nonprimary\">ripple_times_04sd</p>\n",
       "                            <span class=\"djtooltiptext\">ripple times within that interval</span>\n",
       "                        </div></th><th><div class=\"djtooltip\">\n",
       "                            <p id=\"nonprimary\">ripple_times_1sd</p>\n",
       "                            <span class=\"djtooltiptext\">ripple times within that interval</span>\n",
       "                        </div></th><th><div class=\"djtooltip\">\n",
       "                            <p id=\"nonprimary\">ripple_times_2sd</p>\n",
       "                            <span class=\"djtooltiptext\">ripple times within that interval</span>\n",
       "                        </div> </th> </tr> </thead>\n",
       "            <tbody> <tr>  </tr> </tbody>\n",
       "        </table>\n",
       "        \n",
       "        <p>Total: 0</p></div>\n",
       "        "
      ],
      "text/plain": [
       "*nwb_file_name *interval_list ripple_tim ripple_tim ripple_tim ripple_tim\n",
       "+------------+ +------------+ +--------+ +--------+ +--------+ +--------+\n",
       "\n",
       " (Total: 0)"
      ]
     },
     "execution_count": 6,
     "metadata": {},
     "output_type": "execute_result"
    }
   ],
   "source": [
    "RippleTimes & {'nwb_file_name': nwb_copy_file_name}"
   ]
  },
  {
   "cell_type": "code",
   "execution_count": 16,
   "id": "07ec6939-9e62-42ad-98c7-3c9e0f4d6e2d",
   "metadata": {},
   "outputs": [
    {
     "data": {
      "text/html": [
       "\n",
       "    \n",
       "    <style type=\"text/css\">\n",
       "        .Table{\n",
       "            border-collapse:collapse;\n",
       "        }\n",
       "        .Table th{\n",
       "            background: #A0A0A0; color: #ffffff; padding:4px; border:#f0e0e0 1px solid;\n",
       "            font-weight: normal; font-family: monospace; font-size: 100%;\n",
       "        }\n",
       "        .Table td{\n",
       "            padding:4px; border:#f0e0e0 1px solid; font-size:100%;\n",
       "        }\n",
       "        .Table tr:nth-child(odd){\n",
       "            background: #ffffff;\n",
       "            color: #000000;\n",
       "        }\n",
       "        .Table tr:nth-child(even){\n",
       "            background: #f3f1ff;\n",
       "            color: #000000;\n",
       "        }\n",
       "        /* Tooltip container */\n",
       "        .djtooltip {\n",
       "        }\n",
       "        /* Tooltip text */\n",
       "        .djtooltip .djtooltiptext {\n",
       "            visibility: hidden;\n",
       "            width: 120px;\n",
       "            background-color: black;\n",
       "            color: #fff;\n",
       "            text-align: center;\n",
       "            padding: 5px 0;\n",
       "            border-radius: 6px;\n",
       "            /* Position the tooltip text - see examples below! */\n",
       "            position: absolute;\n",
       "            z-index: 1;\n",
       "        }\n",
       "        #primary {\n",
       "            font-weight: bold;\n",
       "            color: black;\n",
       "        }\n",
       "        #nonprimary {\n",
       "            font-weight: normal;\n",
       "            color: white;\n",
       "        }\n",
       "\n",
       "        /* Show the tooltip text when you mouse over the tooltip container */\n",
       "        .djtooltip:hover .djtooltiptext {\n",
       "            visibility: visible;\n",
       "        }\n",
       "    </style>\n",
       "    \n",
       "    <b>trial by trial information of choice</b>\n",
       "        <div style=\"max-height:1000px;max-width:1500px;overflow:auto;\">\n",
       "        <table border=\"1\" class=\"Table\">\n",
       "            <thead> <tr style=\"text-align: right;\"> <th> <div class=\"djtooltip\">\n",
       "                            <p id=\"primary\">nwb_file_name</p>\n",
       "                            <span class=\"djtooltiptext\">name of the NWB file</span>\n",
       "                        </div></th><th><div class=\"djtooltip\">\n",
       "                            <p id=\"primary\">epoch</p>\n",
       "                            <span class=\"djtooltiptext\">the session epoch for this task and apparatus(1 based)</span>\n",
       "                        </div></th><th><div class=\"djtooltip\">\n",
       "                            <p id=\"nonprimary\">epoch_name</p>\n",
       "                            <span class=\"djtooltiptext\">session name, get from IntervalList</span>\n",
       "                        </div></th><th><div class=\"djtooltip\">\n",
       "                            <p id=\"nonprimary\">choice_reward</p>\n",
       "                            <span class=\"djtooltiptext\">pandas dataframe, choice</span>\n",
       "                        </div> </th> </tr> </thead>\n",
       "            <tbody> <tr> <td>klein20231111_.nwb</td>\n",
       "<td>2</td>\n",
       "<td>02_Rev2Session1</td>\n",
       "<td>=BLOB=</td></tr><tr><td>klein20231111_.nwb</td>\n",
       "<td>4</td>\n",
       "<td>04_Rev2Session2</td>\n",
       "<td>=BLOB=</td></tr><tr><td>klein20231111_.nwb</td>\n",
       "<td>6</td>\n",
       "<td>06_Rev2Session3</td>\n",
       "<td>=BLOB=</td></tr><tr><td>klein20231111_.nwb</td>\n",
       "<td>8</td>\n",
       "<td>08_Rev2Session4</td>\n",
       "<td>=BLOB=</td></tr><tr><td>klein20231111_.nwb</td>\n",
       "<td>10</td>\n",
       "<td>10_Rev2Session5</td>\n",
       "<td>=BLOB=</td> </tr> </tbody>\n",
       "        </table>\n",
       "        \n",
       "        <p>Total: 5</p></div>\n",
       "        "
      ],
      "text/plain": [
       "*nwb_file_name *epoch    epoch_name     choice_rew\n",
       "+------------+ +-------+ +------------+ +--------+\n",
       "klein20231111_ 2         02_Rev2Session =BLOB=    \n",
       "klein20231111_ 4         04_Rev2Session =BLOB=    \n",
       "klein20231111_ 6         06_Rev2Session =BLOB=    \n",
       "klein20231111_ 8         08_Rev2Session =BLOB=    \n",
       "klein20231111_ 10        10_Rev2Session =BLOB=    \n",
       " (Total: 5)"
      ]
     },
     "execution_count": 16,
     "metadata": {},
     "output_type": "execute_result"
    }
   ],
   "source": [
    "TrialChoice() & {'nwb_file_name':nwb_copy_file_name}"
   ]
  },
  {
   "cell_type": "markdown",
   "id": "bddee72f-d018-4f22-83dc-86eb773b2716",
   "metadata": {},
   "source": [
    "## 1. For one epoch"
   ]
  },
  {
   "cell_type": "code",
   "execution_count": 8,
   "id": "3440903b-f7f6-4d1d-9caf-0386022ac8ce",
   "metadata": {},
   "outputs": [],
   "source": [
    "epoch_num = 2"
   ]
  },
  {
   "cell_type": "code",
   "execution_count": 9,
   "id": "2c328dbd-da91-4670-8fc9-a7e7dc55316b",
   "metadata": {
    "scrolled": true
   },
   "outputs": [
    {
     "name": "stderr",
     "output_type": "stream",
     "text": [
      "[19:55:08][WARNING] Spyglass: Deprecation: this class has been moved out of spyglass.common.common_position\n",
      "\tTrackGraph -> spyglass.linearization.v0.main.TrackGraph\n",
      "Please use the new location.\n",
      "18-May-25 19:55:08 Deprecation: this class has been moved out of spyglass.common.common_position\n",
      "\tTrackGraph -> spyglass.linearization.v0.main.TrackGraph\n",
      "Please use the new location.\n"
     ]
    },
    {
     "name": "stdout",
     "output_type": "stream",
     "text": [
      "epoch name 02_Seq2Session1\n",
      "epoch name 02_Seq2Session1\n",
      "epoch_pos_name pos 1 valid times\n"
     ]
    },
    {
     "name": "stderr",
     "output_type": "stream",
     "text": [
      "\n",
      "KeyboardInterrupt\n",
      "\n"
     ]
    }
   ],
   "source": [
    "(epoch_name,log_df,ripple_times,decode,\n",
    "     head_speed,head_orientation,linear_position_df,\n",
    "     lfp_df,theta_df,ripple_df,neural_df,mua_df) = replay_parser_master(nwb_file_name,epoch_num,\n",
    "                                                                       encoding_set = '2Dheadspeed_above_4')"
   ]
  },
  {
   "cell_type": "code",
   "execution_count": 29,
   "id": "8708a733-11a5-4dc0-b226-17171d655171",
   "metadata": {},
   "outputs": [
    {
     "data": {
      "text/html": [
       "<div>\n",
       "<style scoped>\n",
       "    .dataframe tbody tr th:only-of-type {\n",
       "        vertical-align: middle;\n",
       "    }\n",
       "\n",
       "    .dataframe tbody tr th {\n",
       "        vertical-align: top;\n",
       "    }\n",
       "\n",
       "    .dataframe thead th {\n",
       "        text-align: right;\n",
       "    }\n",
       "</style>\n",
       "<table border=\"1\" class=\"dataframe\">\n",
       "  <thead>\n",
       "    <tr style=\"text-align: right;\">\n",
       "      <th></th>\n",
       "      <th>timestamp_H</th>\n",
       "      <th>Home</th>\n",
       "      <th>timestamp_O</th>\n",
       "      <th>OuterWellIndex</th>\n",
       "      <th>rewardNum</th>\n",
       "      <th>ripple_H</th>\n",
       "      <th>ripple_O</th>\n",
       "      <th>replay_H</th>\n",
       "      <th>replay_O</th>\n",
       "      <th>ripple_ID_H</th>\n",
       "      <th>ripple_ID_O</th>\n",
       "      <th>current</th>\n",
       "      <th>future_H</th>\n",
       "      <th>future_O</th>\n",
       "      <th>past</th>\n",
       "      <th>past_reward</th>\n",
       "    </tr>\n",
       "  </thead>\n",
       "  <tbody>\n",
       "    <tr>\n",
       "      <th>1</th>\n",
       "      <td>1.704665e+09</td>\n",
       "      <td>1.0</td>\n",
       "      <td>1.704665e+09</td>\n",
       "      <td>1.0</td>\n",
       "      <td>2.0</td>\n",
       "      <td>[]</td>\n",
       "      <td>[[[1704665025.3625145, 1704665025.5325146]]]</td>\n",
       "      <td>[]</td>\n",
       "      <td>[[[1]]]</td>\n",
       "      <td>[]</td>\n",
       "      <td>[0]</td>\n",
       "      <td>1.0</td>\n",
       "      <td>1.0</td>\n",
       "      <td>3.0</td>\n",
       "      <td>NaN</td>\n",
       "      <td>NaN</td>\n",
       "    </tr>\n",
       "    <tr>\n",
       "      <th>2</th>\n",
       "      <td>1.704665e+09</td>\n",
       "      <td>1.0</td>\n",
       "      <td>1.704665e+09</td>\n",
       "      <td>3.0</td>\n",
       "      <td>1.0</td>\n",
       "      <td>[]</td>\n",
       "      <td>[]</td>\n",
       "      <td>[]</td>\n",
       "      <td>[]</td>\n",
       "      <td>[]</td>\n",
       "      <td>[]</td>\n",
       "      <td>3.0</td>\n",
       "      <td>3.0</td>\n",
       "      <td>2.0</td>\n",
       "      <td>1.0</td>\n",
       "      <td>1.0</td>\n",
       "    </tr>\n",
       "    <tr>\n",
       "      <th>3</th>\n",
       "      <td>1.704665e+09</td>\n",
       "      <td>1.0</td>\n",
       "      <td>1.704665e+09</td>\n",
       "      <td>2.0</td>\n",
       "      <td>2.0</td>\n",
       "      <td>[]</td>\n",
       "      <td>[]</td>\n",
       "      <td>[]</td>\n",
       "      <td>[]</td>\n",
       "      <td>[]</td>\n",
       "      <td>[]</td>\n",
       "      <td>2.0</td>\n",
       "      <td>2.0</td>\n",
       "      <td>4.0</td>\n",
       "      <td>3.0</td>\n",
       "      <td>1.0</td>\n",
       "    </tr>\n",
       "    <tr>\n",
       "      <th>4</th>\n",
       "      <td>1.704665e+09</td>\n",
       "      <td>1.0</td>\n",
       "      <td>1.704665e+09</td>\n",
       "      <td>4.0</td>\n",
       "      <td>2.0</td>\n",
       "      <td>[]</td>\n",
       "      <td>[]</td>\n",
       "      <td>[]</td>\n",
       "      <td>[]</td>\n",
       "      <td>[]</td>\n",
       "      <td>[]</td>\n",
       "      <td>4.0</td>\n",
       "      <td>4.0</td>\n",
       "      <td>1.0</td>\n",
       "      <td>2.0</td>\n",
       "      <td>2.0</td>\n",
       "    </tr>\n",
       "    <tr>\n",
       "      <th>5</th>\n",
       "      <td>1.704665e+09</td>\n",
       "      <td>1.0</td>\n",
       "      <td>1.704665e+09</td>\n",
       "      <td>1.0</td>\n",
       "      <td>1.0</td>\n",
       "      <td>[[[1704665107.002473, 1704665107.106473], [170...</td>\n",
       "      <td>[]</td>\n",
       "      <td>[[[], []]]</td>\n",
       "      <td>[]</td>\n",
       "      <td>[1]</td>\n",
       "      <td>[]</td>\n",
       "      <td>1.0</td>\n",
       "      <td>1.0</td>\n",
       "      <td>3.0</td>\n",
       "      <td>4.0</td>\n",
       "      <td>4.0</td>\n",
       "    </tr>\n",
       "    <tr>\n",
       "      <th>...</th>\n",
       "      <td>...</td>\n",
       "      <td>...</td>\n",
       "      <td>...</td>\n",
       "      <td>...</td>\n",
       "      <td>...</td>\n",
       "      <td>...</td>\n",
       "      <td>...</td>\n",
       "      <td>...</td>\n",
       "      <td>...</td>\n",
       "      <td>...</td>\n",
       "      <td>...</td>\n",
       "      <td>...</td>\n",
       "      <td>...</td>\n",
       "      <td>...</td>\n",
       "      <td>...</td>\n",
       "      <td>...</td>\n",
       "    </tr>\n",
       "    <tr>\n",
       "      <th>78</th>\n",
       "      <td>1.704667e+09</td>\n",
       "      <td>1.0</td>\n",
       "      <td>1.704667e+09</td>\n",
       "      <td>4.0</td>\n",
       "      <td>2.0</td>\n",
       "      <td>[[[1704666606.3097098, 1704666606.4297097], [1...</td>\n",
       "      <td>[]</td>\n",
       "      <td>[[[], [], []]]</td>\n",
       "      <td>[]</td>\n",
       "      <td>[73]</td>\n",
       "      <td>[]</td>\n",
       "      <td>4.0</td>\n",
       "      <td>4.0</td>\n",
       "      <td>1.0</td>\n",
       "      <td>3.0</td>\n",
       "      <td>2.0</td>\n",
       "    </tr>\n",
       "    <tr>\n",
       "      <th>79</th>\n",
       "      <td>1.704667e+09</td>\n",
       "      <td>1.0</td>\n",
       "      <td>1.704667e+09</td>\n",
       "      <td>1.0</td>\n",
       "      <td>1.0</td>\n",
       "      <td>[]</td>\n",
       "      <td>[]</td>\n",
       "      <td>[]</td>\n",
       "      <td>[]</td>\n",
       "      <td>[]</td>\n",
       "      <td>[]</td>\n",
       "      <td>1.0</td>\n",
       "      <td>1.0</td>\n",
       "      <td>2.0</td>\n",
       "      <td>4.0</td>\n",
       "      <td>4.0</td>\n",
       "    </tr>\n",
       "    <tr>\n",
       "      <th>80</th>\n",
       "      <td>1.704667e+09</td>\n",
       "      <td>1.0</td>\n",
       "      <td>1.704667e+09</td>\n",
       "      <td>2.0</td>\n",
       "      <td>1.0</td>\n",
       "      <td>[[[1704666645.6816895, 1704666645.7816896]]]</td>\n",
       "      <td>[]</td>\n",
       "      <td>[[[]]]</td>\n",
       "      <td>[]</td>\n",
       "      <td>[74]</td>\n",
       "      <td>[]</td>\n",
       "      <td>2.0</td>\n",
       "      <td>2.0</td>\n",
       "      <td>3.0</td>\n",
       "      <td>1.0</td>\n",
       "      <td>4.0</td>\n",
       "    </tr>\n",
       "    <tr>\n",
       "      <th>81</th>\n",
       "      <td>1.704667e+09</td>\n",
       "      <td>1.0</td>\n",
       "      <td>1.704667e+09</td>\n",
       "      <td>3.0</td>\n",
       "      <td>2.0</td>\n",
       "      <td>[]</td>\n",
       "      <td>[]</td>\n",
       "      <td>[]</td>\n",
       "      <td>[]</td>\n",
       "      <td>[]</td>\n",
       "      <td>[]</td>\n",
       "      <td>3.0</td>\n",
       "      <td>3.0</td>\n",
       "      <td>NaN</td>\n",
       "      <td>2.0</td>\n",
       "      <td>4.0</td>\n",
       "    </tr>\n",
       "    <tr>\n",
       "      <th>82</th>\n",
       "      <td>1.704667e+09</td>\n",
       "      <td>NaN</td>\n",
       "      <td>NaN</td>\n",
       "      <td>NaN</td>\n",
       "      <td>0.0</td>\n",
       "      <td>[]</td>\n",
       "      <td>[]</td>\n",
       "      <td>[]</td>\n",
       "      <td>[]</td>\n",
       "      <td>[]</td>\n",
       "      <td>[]</td>\n",
       "      <td>NaN</td>\n",
       "      <td>NaN</td>\n",
       "      <td>NaN</td>\n",
       "      <td>3.0</td>\n",
       "      <td>NaN</td>\n",
       "    </tr>\n",
       "  </tbody>\n",
       "</table>\n",
       "<p>82 rows × 16 columns</p>\n",
       "</div>"
      ],
      "text/plain": [
       "     timestamp_H  Home   timestamp_O  OuterWellIndex  rewardNum  \\\n",
       "1   1.704665e+09   1.0  1.704665e+09             1.0        2.0   \n",
       "2   1.704665e+09   1.0  1.704665e+09             3.0        1.0   \n",
       "3   1.704665e+09   1.0  1.704665e+09             2.0        2.0   \n",
       "4   1.704665e+09   1.0  1.704665e+09             4.0        2.0   \n",
       "5   1.704665e+09   1.0  1.704665e+09             1.0        1.0   \n",
       "..           ...   ...           ...             ...        ...   \n",
       "78  1.704667e+09   1.0  1.704667e+09             4.0        2.0   \n",
       "79  1.704667e+09   1.0  1.704667e+09             1.0        1.0   \n",
       "80  1.704667e+09   1.0  1.704667e+09             2.0        1.0   \n",
       "81  1.704667e+09   1.0  1.704667e+09             3.0        2.0   \n",
       "82  1.704667e+09   NaN           NaN             NaN        0.0   \n",
       "\n",
       "                                             ripple_H  \\\n",
       "1                                                  []   \n",
       "2                                                  []   \n",
       "3                                                  []   \n",
       "4                                                  []   \n",
       "5   [[[1704665107.002473, 1704665107.106473], [170...   \n",
       "..                                                ...   \n",
       "78  [[[1704666606.3097098, 1704666606.4297097], [1...   \n",
       "79                                                 []   \n",
       "80       [[[1704666645.6816895, 1704666645.7816896]]]   \n",
       "81                                                 []   \n",
       "82                                                 []   \n",
       "\n",
       "                                        ripple_O        replay_H replay_O  \\\n",
       "1   [[[1704665025.3625145, 1704665025.5325146]]]              []  [[[1]]]   \n",
       "2                                             []              []       []   \n",
       "3                                             []              []       []   \n",
       "4                                             []              []       []   \n",
       "5                                             []      [[[], []]]       []   \n",
       "..                                           ...             ...      ...   \n",
       "78                                            []  [[[], [], []]]       []   \n",
       "79                                            []              []       []   \n",
       "80                                            []          [[[]]]       []   \n",
       "81                                            []              []       []   \n",
       "82                                            []              []       []   \n",
       "\n",
       "   ripple_ID_H ripple_ID_O  current  future_H  future_O  past  past_reward  \n",
       "1           []         [0]      1.0       1.0       3.0   NaN          NaN  \n",
       "2           []          []      3.0       3.0       2.0   1.0          1.0  \n",
       "3           []          []      2.0       2.0       4.0   3.0          1.0  \n",
       "4           []          []      4.0       4.0       1.0   2.0          2.0  \n",
       "5          [1]          []      1.0       1.0       3.0   4.0          4.0  \n",
       "..         ...         ...      ...       ...       ...   ...          ...  \n",
       "78        [73]          []      4.0       4.0       1.0   3.0          2.0  \n",
       "79          []          []      1.0       1.0       2.0   4.0          4.0  \n",
       "80        [74]          []      2.0       2.0       3.0   1.0          4.0  \n",
       "81          []          []      3.0       3.0       NaN   2.0          4.0  \n",
       "82          []          []      NaN       NaN       NaN   3.0          NaN  \n",
       "\n",
       "[82 rows x 16 columns]"
      ]
     },
     "execution_count": 29,
     "metadata": {},
     "output_type": "execute_result"
    }
   ],
   "source": [
    "log_df"
   ]
  },
  {
   "cell_type": "markdown",
   "id": "81b169b7-0c01-446f-ab2d-e839dd6602e8",
   "metadata": {},
   "source": [
    "### 2. Visual Inspection"
   ]
  },
  {
   "cell_type": "code",
   "execution_count": 26,
   "id": "95e49b6f-6264-46cb-8f85-ec54057635ae",
   "metadata": {
    "scrolled": true
   },
   "outputs": [
    {
     "name": "stdout",
     "output_type": "stream",
     "text": [
      "/cumulus/shijie/recording_pilot/lewis/decoding/lewis20240107.nwb/SWR/04_Rev2Session2\n"
     ]
    }
   ],
   "source": [
    "mua_thresh = (MUA & {'nwb_file_name' : nwb_copy_file_name,'interval_list_name':epoch_name}).fetch1('mean')\n",
    "\n",
    "## find tetrodes with signal\n",
    "groups_with_cell=(SpikeSortingRecordingSelection & {\n",
    "        'nwb_file_name' : nwb_copy_file_name}).fetch('sort_group_id')\n",
    "groups_with_cell=np.setdiff1d(groups_with_cell,[100,101])\n",
    "channel_IDs = list(neural_df.keys())\n",
    "    \n",
    "spikeColInd = {}\n",
    "for g in groups_with_cell:\n",
    "    spikeColInd_ = np.argwhere(np.isin(channel_IDs,(Electrode() &  {'nwb_file_name' : nwb_copy_file_name,\n",
    "                                                     'electrode_group_name':str(g)}).fetch('electrode_id'))).ravel()\n",
    "    spikeColInd[g] = spikeColInd_\n",
    "\n",
    "# Pre-make result directory:\n",
    "decoding_path=(DecodeResultsLinear() & {'nwb_file_name':nwb_copy_file_name}).fetch('posterior')[0]\n",
    "exampledir=os.path.join(os.path.split(decoding_path)[0],nwb_file_name,'SWR',epoch_name)\n",
    "isExist = os.path.exists(exampledir)\n",
    "if not isExist:\n",
    "    os.makedirs(exampledir)\n",
    "savefolder = exampledir\n",
    "print(savefolder)\n",
    "\n",
    "for t in log_df.index[:-2]:\n",
    "    # Home\n",
    "    ripples = log_df.loc[t].ripple_H\n",
    "    ripple_table_inds = log_df.loc[t].ripple_ID_H\n",
    "\n",
    "    if not np.isnan(log_df.loc[t].timestamp_H):\n",
    "        plottimes = [log_df.loc[t].timestamp_H,log_df.loc[t].timestamp_H + 6]\n",
    "        savename = 'trial' + str(t) + '_home_' + nwb_copy_file_name[:-5] + '_' + epoch_name + '_whole_trial'\n",
    "        plot_ripples_replays(ripple_times,ripples,ripple_table_inds,\n",
    "                        linear_position_df,decode,spikeColInd,lfp_df,theta_df,\n",
    "                        neural_df,mua_df,head_speed,head_orientation,\n",
    "                        savename,savefolder,wholeTrial = 1,plottimes=plottimes,mua_thresh = mua_thresh)\n",
    "            \n",
    "    savename = 'trial' + str(t) + '_home_' + nwb_copy_file_name[:-5] + '_' + epoch_name\n",
    "    plot_ripples_replays(ripple_times,ripples,ripple_table_inds,\n",
    "                    linear_position_df,decode,spikeColInd,lfp_df,theta_df,\n",
    "                    neural_df,mua_df,head_speed,head_orientation,\n",
    "                    savename,savefolder,wholeTrial = 0,mua_thresh = mua_thresh)"
   ]
  },
  {
   "cell_type": "code",
   "execution_count": 43,
   "id": "327f6f36-25ae-4bb3-904a-6ffb501cc51a",
   "metadata": {},
   "outputs": [
    {
     "name": "stdout",
     "output_type": "stream",
     "text": [
      "> \u001b[0;32m/home/shijiegu/Documents/spyglass/src/spyglass/shijiegu/ripple_add_replay.py\u001b[0m(202)\u001b[0;36madd_trial\u001b[0;34m()\u001b[0m\n",
      "\u001b[0;32m    200 \u001b[0;31m    \u001b[0;32mfor\u001b[0m \u001b[0mr_ind\u001b[0m \u001b[0;32min\u001b[0m \u001b[0mripple_times\u001b[0m\u001b[0;34m.\u001b[0m\u001b[0mindex\u001b[0m\u001b[0;34m:\u001b[0m\u001b[0;34m\u001b[0m\u001b[0;34m\u001b[0m\u001b[0m\n",
      "\u001b[0m\u001b[0;32m    201 \u001b[0;31m        \u001b[0;34m(\u001b[0m\u001b[0mt0\u001b[0m\u001b[0;34m,\u001b[0m\u001b[0mt1\u001b[0m\u001b[0;34m)\u001b[0m \u001b[0;34m=\u001b[0m \u001b[0;34m(\u001b[0m\u001b[0mripple_times\u001b[0m\u001b[0;34m.\u001b[0m\u001b[0mloc\u001b[0m\u001b[0;34m[\u001b[0m\u001b[0mr_ind\u001b[0m\u001b[0;34m,\u001b[0m\u001b[0;34m'start_time'\u001b[0m\u001b[0;34m]\u001b[0m\u001b[0;34m,\u001b[0m\u001b[0mripple_times\u001b[0m\u001b[0;34m.\u001b[0m\u001b[0mloc\u001b[0m\u001b[0;34m[\u001b[0m\u001b[0mr_ind\u001b[0m\u001b[0;34m,\u001b[0m\u001b[0;34m'end_time'\u001b[0m\u001b[0;34m]\u001b[0m\u001b[0;34m)\u001b[0m\u001b[0;34m\u001b[0m\u001b[0;34m\u001b[0m\u001b[0m\n",
      "\u001b[0m\u001b[0;32m--> 202 \u001b[0;31m        linear_position_subset = linear_position_df.isel(time=np.logical_and(linear_position_df.time >= t0,\n",
      "\u001b[0m\u001b[0;32m    203 \u001b[0;31m                                                                                        linear_position_df.time <= t1))\n",
      "\u001b[0m\u001b[0;32m    204 \u001b[0;31m        \u001b[0mlinear_position\u001b[0m \u001b[0;34m=\u001b[0m \u001b[0mnp\u001b[0m\u001b[0;34m.\u001b[0m\u001b[0marray\u001b[0m\u001b[0;34m(\u001b[0m\u001b[0mnp\u001b[0m\u001b[0;34m.\u001b[0m\u001b[0mmean\u001b[0m\u001b[0;34m(\u001b[0m\u001b[0mlinear_position_subset\u001b[0m\u001b[0;34m.\u001b[0m\u001b[0mlinear_position\u001b[0m\u001b[0;34m)\u001b[0m\u001b[0;34m)\u001b[0m\u001b[0;34m\u001b[0m\u001b[0;34m\u001b[0m\u001b[0m\n",
      "\u001b[0m\n"
     ]
    },
    {
     "name": "stdin",
     "output_type": "stream",
     "text": [
      "ipdb>  exit\n"
     ]
    }
   ],
   "source": [
    "%debug"
   ]
  },
  {
   "cell_type": "markdown",
   "id": "a8a26bb7-7d60-4551-ad71-ffa27d35b504",
   "metadata": {},
   "source": [
    "### 3. for all sessions"
   ]
  },
  {
   "cell_type": "markdown",
   "id": "ca952038-09ce-4a63-ba6d-f67d701c6499",
   "metadata": {},
   "source": [
    "#### without plot"
   ]
  },
  {
   "cell_type": "code",
   "execution_count": 62,
   "id": "6826f6fa-9626-4f5d-9594-7da656623d18",
   "metadata": {
    "scrolled": true
   },
   "outputs": [
    {
     "name": "stderr",
     "output_type": "stream",
     "text": [
      "[15:43:37][WARNING] Spyglass: Deprecation: this class has been moved out of spyglass.common.common_position\n",
      "\tTrackGraph -> spyglass.linearization.v0.main.TrackGraph\n",
      "Please use the new location.\n",
      "12-Apr-25 15:43:37 Deprecation: this class has been moved out of spyglass.common.common_position\n",
      "\tTrackGraph -> spyglass.linearization.v0.main.TrackGraph\n",
      "Please use the new location.\n"
     ]
    },
    {
     "name": "stdout",
     "output_type": "stream",
     "text": [
      "epoch name 02_Seq2Session1\n",
      "epoch name 02_Seq2Session1\n",
      "epoch_pos_name pos 1 valid times\n"
     ]
    },
    {
     "ename": "DataJointError",
     "evalue": "fetch1 should only return one tuple. 0 tuples found",
     "output_type": "error",
     "traceback": [
      "\u001b[0;31m---------------------------------------------------------------------------\u001b[0m",
      "\u001b[0;31mDataJointError\u001b[0m                            Traceback (most recent call last)",
      "Cell \u001b[0;32mIn[62], line 7\u001b[0m\n\u001b[1;32m      3\u001b[0m all_epochs\u001b[38;5;241m=\u001b[39m\u001b[38;5;28mlist\u001b[39m((TrialChoice() \u001b[38;5;241m&\u001b[39m {\u001b[38;5;124m'\u001b[39m\u001b[38;5;124mnwb_file_name\u001b[39m\u001b[38;5;124m'\u001b[39m:nwb_copy_file_name})\u001b[38;5;241m.\u001b[39mfetch(\u001b[38;5;124m'\u001b[39m\u001b[38;5;124mepoch\u001b[39m\u001b[38;5;124m'\u001b[39m))\n\u001b[1;32m      4\u001b[0m \u001b[38;5;28;01mfor\u001b[39;00m epoch_num \u001b[38;5;129;01min\u001b[39;00m all_epochs:\n\u001b[1;32m      5\u001b[0m     (epoch_name,log_df,ripple_times,decode,\n\u001b[1;32m      6\u001b[0m      head_speed,head_orientation,linear_position_df,\n\u001b[0;32m----> 7\u001b[0m      lfp_df,theta_df,ripple_df,neural_df,mua_df) \u001b[38;5;241m=\u001b[39m \u001b[43mreplay_parser_master\u001b[49m\u001b[43m(\u001b[49m\u001b[43mnwb_file_name\u001b[49m\u001b[43m,\u001b[49m\u001b[43mepoch_num\u001b[49m\u001b[43m,\u001b[49m\n\u001b[1;32m      8\u001b[0m \u001b[43m                                                                        \u001b[49m\u001b[43mencoding_set\u001b[49m\u001b[43m \u001b[49m\u001b[38;5;241;43m=\u001b[39;49m\u001b[43m \u001b[49m\u001b[38;5;124;43m'\u001b[39;49m\u001b[38;5;124;43m2Dheadspeed_above_4_andlowmua\u001b[39;49m\u001b[38;5;124;43m'\u001b[39;49m\u001b[43m,\u001b[49m\u001b[38;5;66;43;03m#'2Dheadspeed_above_4',\u001b[39;49;00m\n\u001b[1;32m      9\u001b[0m \u001b[43m                                                                        \u001b[49m\u001b[43mdecode_threshold_method\u001b[49m\u001b[43m \u001b[49m\u001b[38;5;241;43m=\u001b[39;49m\u001b[43m \u001b[49m\u001b[38;5;124;43m'\u001b[39;49m\u001b[38;5;124;43mMUA_0SD\u001b[39;49m\u001b[38;5;124;43m'\u001b[39;49m\u001b[43m,\u001b[49m\n\u001b[1;32m     10\u001b[0m \u001b[43m                                                                        \u001b[49m\u001b[43mextended\u001b[49m\u001b[43m \u001b[49m\u001b[38;5;241;43m=\u001b[39;49m\u001b[43m \u001b[49m\u001b[38;5;28;43;01mFalse\u001b[39;49;00m\u001b[43m)\u001b[49m\n",
      "File \u001b[0;32m~/Documents/spyglass/src/spyglass/shijiegu/ripple_add_replay.py:45\u001b[0m, in \u001b[0;36mreplay_parser_master\u001b[0;34m(nwb_file_name, epoch_num, classifier_param_name, encoding_set, decode_threshold_method, extended, causal, replace)\u001b[0m\n\u001b[1;32m     42\u001b[0m \u001b[38;5;66;03m# 2. load data\u001b[39;00m\n\u001b[1;32m     43\u001b[0m linear_map,node_location\u001b[38;5;241m=\u001b[39mget_linearization_map()\n\u001b[1;32m     44\u001b[0m (epoch_name,log_df,decode,head_speed,head_orientation,linear_position_df,\n\u001b[0;32m---> 45\u001b[0m     lfp_df,theta_df,ripple_df,neural_df,_) \u001b[38;5;241m=\u001b[39m \u001b[43mload_epoch_data\u001b[49m\u001b[43m(\u001b[49m\u001b[43mnwb_copy_file_name\u001b[49m\u001b[43m,\u001b[49m\u001b[43mepoch_num\u001b[49m\u001b[43m,\u001b[49m\n\u001b[1;32m     46\u001b[0m \u001b[43m                                              \u001b[49m\u001b[43mclassifier_param_name\u001b[49m\u001b[43m,\u001b[49m\n\u001b[1;32m     47\u001b[0m \u001b[43m                                              \u001b[49m\u001b[43mencoding_set\u001b[49m\u001b[43m)\u001b[49m\n\u001b[1;32m     50\u001b[0m \u001b[38;5;66;03m# load Position\u001b[39;00m\n\u001b[1;32m     51\u001b[0m \u001b[38;5;28;01mif\u001b[39;00m extended:\n",
      "File \u001b[0;32m~/Documents/spyglass/src/spyglass/shijiegu/load.py:121\u001b[0m, in \u001b[0;36mload_epoch_data\u001b[0;34m(nwb_copy_file_name, epoch_num, classifier_param_name, decode_encoding_set)\u001b[0m\n\u001b[1;32m    118\u001b[0m log_df\u001b[38;5;241m=\u001b[39mpd\u001b[38;5;241m.\u001b[39mDataFrame(log)\n\u001b[1;32m    120\u001b[0m \u001b[38;5;66;03m# load decode\u001b[39;00m\n\u001b[0;32m--> 121\u001b[0m decode\u001b[38;5;241m=\u001b[39m\u001b[43mload_decode\u001b[49m\u001b[43m(\u001b[49m\u001b[43mnwb_copy_file_name\u001b[49m\u001b[43m,\u001b[49m\u001b[43mepoch_name\u001b[49m\u001b[43m,\u001b[49m\u001b[43mclassifier_param_name\u001b[49m\u001b[43m,\u001b[49m\u001b[43mdecode_encoding_set\u001b[49m\u001b[43m)\u001b[49m\n\u001b[1;32m    123\u001b[0m \u001b[38;5;66;03m# load position\u001b[39;00m\n\u001b[1;32m    124\u001b[0m position_info\u001b[38;5;241m=\u001b[39mload_position(nwb_copy_file_name,epoch_pos_name)\n",
      "File \u001b[0;32m~/Documents/spyglass/src/spyglass/shijiegu/load.py:179\u001b[0m, in \u001b[0;36mload_decode\u001b[0;34m(nwb_copy_file_name, interval_list_name, classifier_param_name, encoding_set)\u001b[0m\n\u001b[1;32m    174\u001b[0m \u001b[38;5;28;01mdef\u001b[39;00m \u001b[38;5;21mload_decode\u001b[39m(nwb_copy_file_name,interval_list_name,\n\u001b[1;32m    175\u001b[0m                 classifier_param_name \u001b[38;5;241m=\u001b[39m \u001b[38;5;124m'\u001b[39m\u001b[38;5;124mdefault_decoding_gpu_4armMaze\u001b[39m\u001b[38;5;124m'\u001b[39m,\n\u001b[1;32m    176\u001b[0m                 encoding_set \u001b[38;5;241m=\u001b[39m \u001b[38;5;124m'\u001b[39m\u001b[38;5;124mmobility_2Dheadspeed_above_6\u001b[39m\u001b[38;5;124m'\u001b[39m):\n\u001b[1;32m    177\u001b[0m     \u001b[38;5;66;03m#decoding_path=(Decode & {'nwb_file_name': nwb_copy_file_name,\u001b[39;00m\n\u001b[1;32m    178\u001b[0m     \u001b[38;5;66;03m#      'interval_list_name':interval_list_name}).fetch1('posterior')\u001b[39;00m\n\u001b[0;32m--> 179\u001b[0m     decoding_path\u001b[38;5;241m=\u001b[39m\u001b[43m(\u001b[49m\u001b[43mDecodeResultsLinear\u001b[49m\u001b[43m \u001b[49m\u001b[38;5;241;43m&\u001b[39;49m\u001b[43m \u001b[49m\u001b[43m{\u001b[49m\u001b[38;5;124;43m'\u001b[39;49m\u001b[38;5;124;43mnwb_file_name\u001b[39;49m\u001b[38;5;124;43m'\u001b[39;49m\u001b[43m:\u001b[49m\u001b[43m \u001b[49m\u001b[43mnwb_copy_file_name\u001b[49m\u001b[43m,\u001b[49m\n\u001b[1;32m    180\u001b[0m \u001b[43m          \u001b[49m\u001b[38;5;124;43m'\u001b[39;49m\u001b[38;5;124;43minterval_list_name\u001b[39;49m\u001b[38;5;124;43m'\u001b[39;49m\u001b[43m:\u001b[49m\u001b[43m \u001b[49m\u001b[43minterval_list_name\u001b[49m\u001b[43m,\u001b[49m\n\u001b[1;32m    181\u001b[0m \u001b[43m          \u001b[49m\u001b[38;5;124;43m'\u001b[39;49m\u001b[38;5;124;43mclassifier_param_name\u001b[39;49m\u001b[38;5;124;43m'\u001b[39;49m\u001b[43m:\u001b[49m\u001b[43m \u001b[49m\u001b[43mclassifier_param_name\u001b[49m\u001b[43m,\u001b[49m\n\u001b[1;32m    182\u001b[0m \u001b[43m          \u001b[49m\u001b[38;5;124;43m'\u001b[39;49m\u001b[38;5;124;43mencoding_set\u001b[39;49m\u001b[38;5;124;43m'\u001b[39;49m\u001b[43m:\u001b[49m\u001b[43m \u001b[49m\u001b[43mencoding_set\u001b[49m\u001b[43m}\u001b[49m\u001b[43m)\u001b[49m\u001b[38;5;241;43m.\u001b[39;49m\u001b[43mfetch1\u001b[49m\u001b[43m(\u001b[49m\u001b[38;5;124;43m'\u001b[39;49m\u001b[38;5;124;43mposterior\u001b[39;49m\u001b[38;5;124;43m'\u001b[39;49m\u001b[43m)\u001b[49m\n\u001b[1;32m    183\u001b[0m     decode\u001b[38;5;241m=\u001b[39m xr\u001b[38;5;241m.\u001b[39mopen_dataset(decoding_path)\n\u001b[1;32m    184\u001b[0m     \u001b[38;5;28;01mreturn\u001b[39;00m decode\n",
      "File \u001b[0;32m~/anaconda3/envs/spyglass/lib/python3.9/site-packages/datajoint/fetch.py:352\u001b[0m, in \u001b[0;36mFetch1.__call__\u001b[0;34m(self, squeeze, download_path, *attrs)\u001b[0m\n\u001b[1;32m    348\u001b[0m result \u001b[38;5;241m=\u001b[39m \u001b[38;5;28mself\u001b[39m\u001b[38;5;241m.\u001b[39m_expression\u001b[38;5;241m.\u001b[39mproj(\u001b[38;5;241m*\u001b[39mattributes)\u001b[38;5;241m.\u001b[39mfetch(\n\u001b[1;32m    349\u001b[0m     squeeze\u001b[38;5;241m=\u001b[39msqueeze, download_path\u001b[38;5;241m=\u001b[39mdownload_path, \u001b[38;5;28mformat\u001b[39m\u001b[38;5;241m=\u001b[39m\u001b[38;5;124m\"\u001b[39m\u001b[38;5;124marray\u001b[39m\u001b[38;5;124m\"\u001b[39m\n\u001b[1;32m    350\u001b[0m )\n\u001b[1;32m    351\u001b[0m \u001b[38;5;28;01mif\u001b[39;00m \u001b[38;5;28mlen\u001b[39m(result) \u001b[38;5;241m!=\u001b[39m \u001b[38;5;241m1\u001b[39m:\n\u001b[0;32m--> 352\u001b[0m     \u001b[38;5;28;01mraise\u001b[39;00m DataJointError(\n\u001b[1;32m    353\u001b[0m         \u001b[38;5;124m\"\u001b[39m\u001b[38;5;124mfetch1 should only return one tuple. \u001b[39m\u001b[38;5;132;01m%d\u001b[39;00m\u001b[38;5;124m tuples found\u001b[39m\u001b[38;5;124m\"\u001b[39m \u001b[38;5;241m%\u001b[39m \u001b[38;5;28mlen\u001b[39m(result)\n\u001b[1;32m    354\u001b[0m     )\n\u001b[1;32m    355\u001b[0m return_values \u001b[38;5;241m=\u001b[39m \u001b[38;5;28mtuple\u001b[39m(\n\u001b[1;32m    356\u001b[0m     \u001b[38;5;28mnext\u001b[39m(to_dicts(result[\u001b[38;5;28mself\u001b[39m\u001b[38;5;241m.\u001b[39m_expression\u001b[38;5;241m.\u001b[39mprimary_key]))\n\u001b[1;32m    357\u001b[0m     \u001b[38;5;28;01mif\u001b[39;00m is_key(attribute)\n\u001b[1;32m    358\u001b[0m     \u001b[38;5;28;01melse\u001b[39;00m result[attribute][\u001b[38;5;241m0\u001b[39m]\n\u001b[1;32m    359\u001b[0m     \u001b[38;5;28;01mfor\u001b[39;00m attribute \u001b[38;5;129;01min\u001b[39;00m attrs\n\u001b[1;32m    360\u001b[0m )\n\u001b[1;32m    361\u001b[0m ret \u001b[38;5;241m=\u001b[39m return_values[\u001b[38;5;241m0\u001b[39m] \u001b[38;5;28;01mif\u001b[39;00m \u001b[38;5;28mlen\u001b[39m(attrs) \u001b[38;5;241m==\u001b[39m \u001b[38;5;241m1\u001b[39m \u001b[38;5;28;01melse\u001b[39;00m return_values\n",
      "\u001b[0;31mDataJointError\u001b[0m: fetch1 should only return one tuple. 0 tuples found"
     ]
    }
   ],
   "source": [
    "for nwb_file_name in nwb_file_name_all:\n",
    "    nwb_copy_file_name = get_nwb_copy_filename(nwb_file_name)\n",
    "    all_epochs=list((TrialChoice() & {'nwb_file_name':nwb_copy_file_name}).fetch('epoch'))\n",
    "    for epoch_num in all_epochs:\n",
    "        (epoch_name,log_df,ripple_times,decode,\n",
    "         head_speed,head_orientation,linear_position_df,\n",
    "         lfp_df,theta_df,ripple_df,neural_df,mua_df) = replay_parser_master(nwb_file_name,epoch_num,\n",
    "                                                                            encoding_set = '2Dheadspeed_above_4_andlowmua',#'2Dheadspeed_above_4',\n",
    "                                                                            decode_threshold_method = 'MUA_0SD',\n",
    "                                                                            extended = False)"
   ]
  },
  {
   "cell_type": "code",
   "execution_count": 63,
   "id": "6a25051b-9ae9-4f8f-a5e0-3830bbd96695",
   "metadata": {},
   "outputs": [
    {
     "data": {
      "text/html": [
       "\n",
       "    \n",
       "    <style type=\"text/css\">\n",
       "        .Table{\n",
       "            border-collapse:collapse;\n",
       "        }\n",
       "        .Table th{\n",
       "            background: #A0A0A0; color: #ffffff; padding:4px; border:#f0e0e0 1px solid;\n",
       "            font-weight: normal; font-family: monospace; font-size: 100%;\n",
       "        }\n",
       "        .Table td{\n",
       "            padding:4px; border:#f0e0e0 1px solid; font-size:100%;\n",
       "        }\n",
       "        .Table tr:nth-child(odd){\n",
       "            background: #ffffff;\n",
       "            color: #000000;\n",
       "        }\n",
       "        .Table tr:nth-child(even){\n",
       "            background: #f3f1ff;\n",
       "            color: #000000;\n",
       "        }\n",
       "        /* Tooltip container */\n",
       "        .djtooltip {\n",
       "        }\n",
       "        /* Tooltip text */\n",
       "        .djtooltip .djtooltiptext {\n",
       "            visibility: hidden;\n",
       "            width: 120px;\n",
       "            background-color: black;\n",
       "            color: #fff;\n",
       "            text-align: center;\n",
       "            padding: 5px 0;\n",
       "            border-radius: 6px;\n",
       "            /* Position the tooltip text - see examples below! */\n",
       "            position: absolute;\n",
       "            z-index: 1;\n",
       "        }\n",
       "        #primary {\n",
       "            font-weight: bold;\n",
       "            color: black;\n",
       "        }\n",
       "        #nonprimary {\n",
       "            font-weight: normal;\n",
       "            color: white;\n",
       "        }\n",
       "\n",
       "        /* Show the tooltip text when you mouse over the tooltip container */\n",
       "        .djtooltip:hover .djtooltiptext {\n",
       "            visibility: visible;\n",
       "        }\n",
       "    </style>\n",
       "    \n",
       "    <b>decoded 1D replay content results</b>\n",
       "        <div style=\"max-height:1000px;max-width:1500px;overflow:auto;\">\n",
       "        <table border=\"1\" class=\"Table\">\n",
       "            <thead> <tr style=\"text-align: right;\"> <th> <div class=\"djtooltip\">\n",
       "                            <p id=\"primary\">nwb_file_name</p>\n",
       "                            <span class=\"djtooltiptext\">name of the NWB file</span>\n",
       "                        </div></th><th><div class=\"djtooltip\">\n",
       "                            <p id=\"primary\">interval_list_name</p>\n",
       "                            <span class=\"djtooltiptext\">descriptive name of this interval list</span>\n",
       "                        </div></th><th><div class=\"djtooltip\">\n",
       "                            <p id=\"primary\">classifier_param_name</p>\n",
       "                            <span class=\"djtooltiptext\">a name for this set of parameters</span>\n",
       "                        </div></th><th><div class=\"djtooltip\">\n",
       "                            <p id=\"primary\">encoding_set</p>\n",
       "                            <span class=\"djtooltiptext\">a name for this set of encoding</span>\n",
       "                        </div></th><th><div class=\"djtooltip\">\n",
       "                            <p id=\"nonprimary\">posterior</p>\n",
       "                            <span class=\"djtooltiptext\">posterior within that interval (1D)</span>\n",
       "                        </div> </th> </tr> </thead>\n",
       "            <tbody> <tr>  </tr> </tbody>\n",
       "        </table>\n",
       "        \n",
       "        <p>Total: 0</p></div>\n",
       "        "
      ],
      "text/plain": [
       "*nwb_file_name *interval_list *classifier_pa *encoding_set  posterior \n",
       "+------------+ +------------+ +------------+ +------------+ +--------+\n",
       "\n",
       " (Total: 0)"
      ]
     },
     "execution_count": 63,
     "metadata": {},
     "output_type": "execute_result"
    }
   ],
   "source": [
    "DecodeResultsLinear & {'nwb_file_name': 'eliot20221016_.nwb'}"
   ]
  },
  {
   "cell_type": "markdown",
   "id": "3fec650d-99b4-4da7-8ab3-cc4c0c180d8e",
   "metadata": {},
   "source": [
    "#### with plot"
   ]
  },
  {
   "cell_type": "code",
   "execution_count": null,
   "id": "2981e586-ad82-40ea-9440-65f6bcef2239",
   "metadata": {
    "scrolled": true
   },
   "outputs": [
    {
     "name": "stderr",
     "output_type": "stream",
     "text": [
      "[08:46:51][WARNING] Spyglass: Deprecation: this class has been moved out of spyglass.common.common_position\n",
      "\tTrackGraph -> spyglass.linearization.v0.main.TrackGraph\n",
      "Please use the new location.\n",
      "15-Jun-25 08:46:51 Deprecation: this class has been moved out of spyglass.common.common_position\n",
      "\tTrackGraph -> spyglass.linearization.v0.main.TrackGraph\n",
      "Please use the new location.\n",
      "[2025-06-15 08:46:51,677][WARNING]: Skipped checksum for file with hash: 02e28a13-9803-1b1e-a0c8-0e8260a98aa9, and path: /stelmo/nwb/analysis/klein20231111/klein20231111_18TK4QPZ4X.nwb\n",
      "15-Jun-25 08:46:51 Skipped checksum for file with hash: 02e28a13-9803-1b1e-a0c8-0e8260a98aa9, and path: /stelmo/nwb/analysis/klein20231111/klein20231111_18TK4QPZ4X.nwb\n"
     ]
    },
    {
     "name": "stdout",
     "output_type": "stream",
     "text": [
      "epoch name 02_Rev2Session1\n",
      "epoch name 02_Rev2Session1\n",
      "epoch_pos_name pos 1 valid times\n"
     ]
    },
    {
     "name": "stderr",
     "output_type": "stream",
     "text": [
      "[2025-06-15 08:46:51,696][WARNING]: Skipped checksum for file with hash: 02e28a13-9803-1b1e-a0c8-0e8260a98aa9, and path: /stelmo/nwb/analysis/klein20231111/klein20231111_18TK4QPZ4X.nwb\n",
      "15-Jun-25 08:46:51 Skipped checksum for file with hash: 02e28a13-9803-1b1e-a0c8-0e8260a98aa9, and path: /stelmo/nwb/analysis/klein20231111/klein20231111_18TK4QPZ4X.nwb\n",
      "[2025-06-15 08:46:51,702][WARNING]: Skipped checksum for file with hash: 02e28a13-9803-1b1e-a0c8-0e8260a98aa9, and path: /stelmo/nwb/analysis/klein20231111/klein20231111_18TK4QPZ4X.nwb\n",
      "15-Jun-25 08:46:51 Skipped checksum for file with hash: 02e28a13-9803-1b1e-a0c8-0e8260a98aa9, and path: /stelmo/nwb/analysis/klein20231111/klein20231111_18TK4QPZ4X.nwb\n",
      "[2025-06-15 08:47:08,862][WARNING]: Skipped checksum for file with hash: 3efe4415-f71e-c0cd-9445-3090ec4143dc, and path: /stelmo/nwb/analysis/klein20231111/klein20231111_0TQEWI2JX0.nwb\n",
      "15-Jun-25 08:47:08 Skipped checksum for file with hash: 3efe4415-f71e-c0cd-9445-3090ec4143dc, and path: /stelmo/nwb/analysis/klein20231111/klein20231111_0TQEWI2JX0.nwb\n",
      "[2025-06-15 08:47:08,883][WARNING]: Skipped checksum for file with hash: 3efe4415-f71e-c0cd-9445-3090ec4143dc, and path: /stelmo/nwb/analysis/klein20231111/klein20231111_0TQEWI2JX0.nwb\n",
      "15-Jun-25 08:47:08 Skipped checksum for file with hash: 3efe4415-f71e-c0cd-9445-3090ec4143dc, and path: /stelmo/nwb/analysis/klein20231111/klein20231111_0TQEWI2JX0.nwb\n",
      "[2025-06-15 08:47:08,890][WARNING]: Skipped checksum for file with hash: 3efe4415-f71e-c0cd-9445-3090ec4143dc, and path: /stelmo/nwb/analysis/klein20231111/klein20231111_0TQEWI2JX0.nwb\n",
      "15-Jun-25 08:47:08 Skipped checksum for file with hash: 3efe4415-f71e-c0cd-9445-3090ec4143dc, and path: /stelmo/nwb/analysis/klein20231111/klein20231111_0TQEWI2JX0.nwb\n"
     ]
    }
   ],
   "source": [
    "%matplotlib agg\n",
    "for nwb_file_name in nwb_file_name_all:\n",
    "    nwb_copy_file_name = get_nwb_copy_filename(nwb_file_name)\n",
    "    all_epochs=list((TrialChoice() & {'nwb_file_name':nwb_copy_file_name}).fetch('epoch'))\n",
    "    for epoch_num in all_epochs:\n",
    "        (epoch_name,log_df,ripple_times,decode,\n",
    "         head_speed,head_orientation,linear_position_df,\n",
    "         lfp_df,theta_df,ripple_df,neural_df,mua_df) = replay_parser_master(nwb_file_name,epoch_num,\n",
    "                                                                            encoding_set = '2Dheadspeed_above_4',#'2Dheadspeed_above_4',\n",
    "                                                                            decode_threshold_method = 'MUA_0SD',\n",
    "                                                                            extended = False)\n",
    "\n",
    "    \"\"\"\n",
    "    REAL WORK ENDS HERE, THE REST IS JUST PLOTTING\n",
    "    \"\"\"\n",
    "\n",
    "    ## find tetrodes with signal\n",
    "    groups_with_cell=(SpikeSortingRecordingSelection & {\n",
    "        'nwb_file_name' : nwb_copy_file_name}).fetch('sort_group_id')\n",
    "    groups_with_cell=np.setdiff1d(groups_with_cell,[100,101])\n",
    "    channel_IDs = list(neural_df.keys())\n",
    "    \n",
    "    spikeColInd = {}\n",
    "    for g in groups_with_cell:\n",
    "        spikeColInd_ = np.argwhere(np.isin(channel_IDs,(Electrode() &  {'nwb_file_name' : nwb_copy_file_name,\n",
    "                                                     'electrode_group_name':str(g)}).fetch('electrode_id'))).ravel()\n",
    "        spikeColInd[g] = spikeColInd_\n",
    "\n",
    "    # Pre-make result directory:\n",
    "    decoding_path=(DecodeResultsLinear() & {'nwb_file_name':nwb_copy_file_name}).fetch('posterior')[0]\n",
    "    exampledir = os.path.join(os.path.split(decoding_path)[0],nwb_file_name,'SWR',epoch_name,'statespace')\n",
    "    isExist = os.path.exists(exampledir)\n",
    "    if not isExist:\n",
    "        os.makedirs(exampledir)\n",
    "    savefolder = exampledir\n",
    "    print(savefolder)\n",
    "\n",
    "    mua_thresh = (MUA & {'nwb_file_name' : nwb_copy_file_name,'interval_list_name':epoch_name}).fetch1('mean')\n",
    "\n",
    "\n",
    "    for t in log_df.index[:-2]:\n",
    "        # Home\n",
    "        ripples = log_df.loc[t].ripple_H\n",
    "        ripple_table_inds = log_df.loc[t].ripple_ID_H\n",
    "        \n",
    "        if not np.isnan(log_df.loc[t].timestamp_H):\n",
    "            plottimes = [] #[log_df.loc[t].timestamp_H,log_df.loc[t].timestamp_H + 6]\n",
    "            \n",
    "            savename = 'trial' + str(t) + '_home_' + nwb_copy_file_name[:-5] + '_' + epoch_name + '_whole_trial'+'_statespace'\n",
    "            plot_ripples_replays(ripple_times,ripples,ripple_table_inds,\n",
    "                         linear_position_df,decode,spikeColInd,lfp_df,theta_df,\n",
    "                         neural_df,mua_df,head_speed,head_orientation,\n",
    "                         savename,savefolder,wholeTrial = 1,plottimes=plottimes,mua_thresh = mua_thresh)\n",
    "            \n",
    "        savename = 'trial' + str(t) + '_home_' + nwb_copy_file_name[:-5] + '_' + epoch_name +'_statespace'\n",
    "        plot_ripples_replays(ripple_times,ripples,ripple_table_inds,\n",
    "                     linear_position_df,decode,spikeColInd,lfp_df,theta_df,\n",
    "                     neural_df,mua_df,head_speed,head_orientation,\n",
    "                     savename,savefolder,wholeTrial = 0,mua_thresh = mua_thresh)\n",
    "    \n",
    "        \n",
    "            \n",
    "        # Outer Well\n",
    "        ripples = log_df.loc[t].ripple_O\n",
    "        ripple_table_inds = log_df.loc[t].ripple_ID_O\n",
    "\n",
    "        plottimes = [log_df.loc[t].timestamp_O,log_df.loc[t].timestamp_O + 6]\n",
    "        savename = 'trial' + str(t) + '_well_' + nwb_copy_file_name[:-5] + '_' + epoch_name + '_whole_trial'+'_statespace'\n",
    "        plot_ripples_replays(ripple_times,ripples,ripple_table_inds,\n",
    "                     linear_position_df,decode,spikeColInd,lfp_df,theta_df,\n",
    "                     neural_df,mua_df,head_speed,head_orientation,\n",
    "                     savename,savefolder,wholeTrial = 1,plottimes=plottimes,mua_thresh = mua_thresh)\n",
    "        \n",
    "        savename = 'trial' + str(t) + '_well_' + nwb_copy_file_name[:-5] + '_' + epoch_name +'_statespace'\n",
    "        plot_ripples_replays(ripple_times,ripples,ripple_table_inds,\n",
    "                     linear_position_df,decode,spikeColInd,lfp_df,theta_df,\n",
    "                     neural_df,mua_df,head_speed,head_orientation,\n",
    "                     savename,savefolder,wholeTrial = 0,mua_thresh = mua_thresh)\n",
    "    \n",
    "        "
   ]
  },
  {
   "cell_type": "code",
   "execution_count": 17,
   "id": "da9a47e0-f73a-43ef-9e0f-b604d174ab27",
   "metadata": {},
   "outputs": [
    {
     "data": {
      "text/html": [
       "\n",
       "    \n",
       "    <style type=\"text/css\">\n",
       "        .Table{\n",
       "            border-collapse:collapse;\n",
       "        }\n",
       "        .Table th{\n",
       "            background: #A0A0A0; color: #ffffff; padding:4px; border:#f0e0e0 1px solid;\n",
       "            font-weight: normal; font-family: monospace; font-size: 100%;\n",
       "        }\n",
       "        .Table td{\n",
       "            padding:4px; border:#f0e0e0 1px solid; font-size:100%;\n",
       "        }\n",
       "        .Table tr:nth-child(odd){\n",
       "            background: #ffffff;\n",
       "            color: #000000;\n",
       "        }\n",
       "        .Table tr:nth-child(even){\n",
       "            background: #f3f1ff;\n",
       "            color: #000000;\n",
       "        }\n",
       "        /* Tooltip container */\n",
       "        .djtooltip {\n",
       "        }\n",
       "        /* Tooltip text */\n",
       "        .djtooltip .djtooltiptext {\n",
       "            visibility: hidden;\n",
       "            width: 120px;\n",
       "            background-color: black;\n",
       "            color: #fff;\n",
       "            text-align: center;\n",
       "            padding: 5px 0;\n",
       "            border-radius: 6px;\n",
       "            /* Position the tooltip text - see examples below! */\n",
       "            position: absolute;\n",
       "            z-index: 1;\n",
       "        }\n",
       "        #primary {\n",
       "            font-weight: bold;\n",
       "            color: black;\n",
       "        }\n",
       "        #nonprimary {\n",
       "            font-weight: normal;\n",
       "            color: white;\n",
       "        }\n",
       "\n",
       "        /* Show the tooltip text when you mouse over the tooltip container */\n",
       "        .djtooltip:hover .djtooltiptext {\n",
       "            visibility: visible;\n",
       "        }\n",
       "    </style>\n",
       "    \n",
       "    <b>ripple times with decode</b>\n",
       "        <div style=\"max-height:1000px;max-width:1500px;overflow:auto;\">\n",
       "        <table border=\"1\" class=\"Table\">\n",
       "            <thead> <tr style=\"text-align: right;\"> <th> <div class=\"djtooltip\">\n",
       "                            <p id=\"primary\">nwb_file_name</p>\n",
       "                            <span class=\"djtooltiptext\">name of the NWB file</span>\n",
       "                        </div></th><th><div class=\"djtooltip\">\n",
       "                            <p id=\"primary\">interval_list_name</p>\n",
       "                            <span class=\"djtooltiptext\">descriptive name of this interval list</span>\n",
       "                        </div></th><th><div class=\"djtooltip\">\n",
       "                            <p id=\"primary\">classifier_param_name</p>\n",
       "                            <span class=\"djtooltiptext\">a name for this set of parameters</span>\n",
       "                        </div></th><th><div class=\"djtooltip\">\n",
       "                            <p id=\"primary\">encoding_set</p>\n",
       "                            <span class=\"djtooltiptext\">a name for this set of encoding</span>\n",
       "                        </div></th><th><div class=\"djtooltip\">\n",
       "                            <p id=\"primary\">decode_threshold_method</p>\n",
       "                            <span class=\"djtooltiptext\">a name for this thresholding method</span>\n",
       "                        </div></th><th><div class=\"djtooltip\">\n",
       "                            <p id=\"nonprimary\">ripple_times</p>\n",
       "                            <span class=\"djtooltiptext\">ripple times within that interval</span>\n",
       "                        </div> </th> </tr> </thead>\n",
       "            <tbody> <tr> <td>klein20231111_.nwb</td>\n",
       "<td>02_Rev2Session1</td>\n",
       "<td>default_decoding_gpu_4armMaze</td>\n",
       "<td>2Dheadspeed_above_4</td>\n",
       "<td>MUA_0SD</td>\n",
       "<td>=BLOB=</td></tr><tr><td>klein20231111_.nwb</td>\n",
       "<td>04_Rev2Session2</td>\n",
       "<td>default_decoding_gpu_4armMaze</td>\n",
       "<td>2Dheadspeed_above_4</td>\n",
       "<td>MUA_0SD</td>\n",
       "<td>=BLOB=</td></tr><tr><td>klein20231111_.nwb</td>\n",
       "<td>06_Rev2Session3</td>\n",
       "<td>default_decoding_gpu_4armMaze</td>\n",
       "<td>2Dheadspeed_above_4</td>\n",
       "<td>MUA_0SD</td>\n",
       "<td>=BLOB=</td></tr><tr><td>klein20231111_.nwb</td>\n",
       "<td>08_Rev2Session4</td>\n",
       "<td>default_decoding_gpu_4armMaze</td>\n",
       "<td>2Dheadspeed_above_4</td>\n",
       "<td>MUA_0SD</td>\n",
       "<td>=BLOB=</td></tr><tr><td>klein20231111_.nwb</td>\n",
       "<td>10_Rev2Session5</td>\n",
       "<td>default_decoding_gpu_4armMaze</td>\n",
       "<td>2Dheadspeed_above_4</td>\n",
       "<td>MUA_0SD</td>\n",
       "<td>=BLOB=</td> </tr> </tbody>\n",
       "        </table>\n",
       "        \n",
       "        <p>Total: 5</p></div>\n",
       "        "
      ],
      "text/plain": [
       "*nwb_file_name *interval_list *classifier_pa *encoding_set  *decode_thresh ripple_tim\n",
       "+------------+ +------------+ +------------+ +------------+ +------------+ +--------+\n",
       "klein20231111_ 02_Rev2Session default_decodi 2Dheadspeed_ab MUA_0SD        =BLOB=    \n",
       "klein20231111_ 04_Rev2Session default_decodi 2Dheadspeed_ab MUA_0SD        =BLOB=    \n",
       "klein20231111_ 06_Rev2Session default_decodi 2Dheadspeed_ab MUA_0SD        =BLOB=    \n",
       "klein20231111_ 08_Rev2Session default_decodi 2Dheadspeed_ab MUA_0SD        =BLOB=    \n",
       "klein20231111_ 10_Rev2Session default_decodi 2Dheadspeed_ab MUA_0SD        =BLOB=    \n",
       " (Total: 5)"
      ]
     },
     "execution_count": 17,
     "metadata": {},
     "output_type": "execute_result"
    }
   ],
   "source": [
    "RippleTimesWithDecode & {'nwb_file_name': nwb_copy_file_name}"
   ]
  },
  {
   "cell_type": "code",
   "execution_count": null,
   "id": "bb3e10c3-b4a3-4e0d-b55a-ff04b4ae1787",
   "metadata": {},
   "outputs": [],
   "source": []
  },
  {
   "cell_type": "code",
   "execution_count": null,
   "id": "b865ba5d-e2ae-474b-8605-33b7050a2acf",
   "metadata": {},
   "outputs": [],
   "source": []
  },
  {
   "cell_type": "code",
   "execution_count": 63,
   "id": "8cfd4bc9-8b60-4d16-b984-11220f5be410",
   "metadata": {},
   "outputs": [
    {
     "name": "stdout",
     "output_type": "stream",
     "text": [
      "> \u001b[0;32m/home/shijiegu/Documents/spyglass/src/spyglass/shijiegu/ripple_add_replay.py\u001b[0m(191)\u001b[0;36madd_trial\u001b[0;34m()\u001b[0m\n",
      "\u001b[0;32m    189 \u001b[0;31m    \u001b[0;32mfor\u001b[0m \u001b[0mr_ind\u001b[0m \u001b[0;32min\u001b[0m \u001b[0mripple_times\u001b[0m\u001b[0;34m.\u001b[0m\u001b[0mindex\u001b[0m\u001b[0;34m:\u001b[0m\u001b[0;34m\u001b[0m\u001b[0;34m\u001b[0m\u001b[0m\n",
      "\u001b[0m\u001b[0;32m    190 \u001b[0;31m        \u001b[0;34m(\u001b[0m\u001b[0mt0\u001b[0m\u001b[0;34m,\u001b[0m\u001b[0mt1\u001b[0m\u001b[0;34m)\u001b[0m \u001b[0;34m=\u001b[0m \u001b[0;34m(\u001b[0m\u001b[0mripple_times\u001b[0m\u001b[0;34m.\u001b[0m\u001b[0mloc\u001b[0m\u001b[0;34m[\u001b[0m\u001b[0mr_ind\u001b[0m\u001b[0;34m,\u001b[0m\u001b[0;34m'start_time'\u001b[0m\u001b[0;34m]\u001b[0m\u001b[0;34m,\u001b[0m\u001b[0mripple_times\u001b[0m\u001b[0;34m.\u001b[0m\u001b[0mloc\u001b[0m\u001b[0;34m[\u001b[0m\u001b[0mr_ind\u001b[0m\u001b[0;34m,\u001b[0m\u001b[0;34m'end_time'\u001b[0m\u001b[0;34m]\u001b[0m\u001b[0;34m)\u001b[0m\u001b[0;34m\u001b[0m\u001b[0;34m\u001b[0m\u001b[0m\n",
      "\u001b[0m\u001b[0;32m--> 191 \u001b[0;31m        \u001b[0mtrial_number\u001b[0m \u001b[0;34m=\u001b[0m \u001b[0mnp\u001b[0m\u001b[0;34m.\u001b[0m\u001b[0margwhere\u001b[0m\u001b[0;34m(\u001b[0m\u001b[0mlog_df\u001b[0m\u001b[0;34m.\u001b[0m\u001b[0mtimestamp_H\u001b[0m \u001b[0;34m>=\u001b[0m \u001b[0mt0\u001b[0m\u001b[0;34m)\u001b[0m\u001b[0;34m.\u001b[0m\u001b[0mravel\u001b[0m\u001b[0;34m(\u001b[0m\u001b[0;34m)\u001b[0m\u001b[0;34m[\u001b[0m\u001b[0;36m0\u001b[0m\u001b[0;34m]\u001b[0m\u001b[0;34m\u001b[0m\u001b[0;34m\u001b[0m\u001b[0m\n",
      "\u001b[0m\u001b[0;32m    192 \u001b[0;31m        \u001b[0;31m# this way only works if the trial is legal.\u001b[0m\u001b[0;34m\u001b[0m\u001b[0;34m\u001b[0m\u001b[0m\n",
      "\u001b[0m\u001b[0;32m    193 \u001b[0;31m        \u001b[0;32mif\u001b[0m \u001b[0mnp\u001b[0m\u001b[0;34m.\u001b[0m\u001b[0misin\u001b[0m\u001b[0;34m(\u001b[0m\u001b[0mtrial_number\u001b[0m\u001b[0;34m,\u001b[0m\u001b[0mlegal_trials\u001b[0m\u001b[0;34m)\u001b[0m\u001b[0;34m:\u001b[0m\u001b[0;34m\u001b[0m\u001b[0;34m\u001b[0m\u001b[0m\n",
      "\u001b[0m\n"
     ]
    },
    {
     "name": "stdin",
     "output_type": "stream",
     "text": [
      "ipdb>  t0\n"
     ]
    },
    {
     "name": "stdout",
     "output_type": "stream",
     "text": [
      "1704570633.7066205\n"
     ]
    },
    {
     "name": "stdin",
     "output_type": "stream",
     "text": [
      "ipdb>  t1\n"
     ]
    },
    {
     "name": "stdout",
     "output_type": "stream",
     "text": [
      "1704570633.841621\n"
     ]
    },
    {
     "name": "stdin",
     "output_type": "stream",
     "text": [
      "ipdb>  r_ind\n"
     ]
    },
    {
     "name": "stdout",
     "output_type": "stream",
     "text": [
      "191\n"
     ]
    },
    {
     "name": "stdin",
     "output_type": "stream",
     "text": [
      "ipdb>  log_df.timestamp_H[-1]\n"
     ]
    },
    {
     "name": "stdout",
     "output_type": "stream",
     "text": [
      "*** KeyError: -1\n"
     ]
    },
    {
     "name": "stdin",
     "output_type": "stream",
     "text": [
      "ipdb>  log_df.timestamp_H\n"
     ]
    },
    {
     "name": "stdout",
     "output_type": "stream",
     "text": [
      "1     1.704569e+09\n",
      "2     1.704569e+09\n",
      "3     1.704569e+09\n",
      "4     1.704569e+09\n",
      "5     1.704569e+09\n",
      "          ...     \n",
      "88    1.704571e+09\n",
      "89    1.704571e+09\n",
      "90    1.704571e+09\n",
      "91             NaN\n",
      "92             NaN\n",
      "Name: timestamp_H, Length: 92, dtype: float64\n"
     ]
    },
    {
     "name": "stdin",
     "output_type": "stream",
     "text": [
      "ipdb>  np.array(log_df.timestamp_H)[-1]\n"
     ]
    },
    {
     "name": "stdout",
     "output_type": "stream",
     "text": [
      "nan\n"
     ]
    },
    {
     "name": "stdin",
     "output_type": "stream",
     "text": [
      "ipdb>  np.array(log_df.timestamp_H)[-3]\n"
     ]
    },
    {
     "name": "stdout",
     "output_type": "stream",
     "text": [
      "1704570627.8786988\n"
     ]
    },
    {
     "name": "stdin",
     "output_type": "stream",
     "text": [
      "ipdb>  ripple_times.loc[1,'start_time']\n"
     ]
    },
    {
     "name": "stdout",
     "output_type": "stream",
     "text": [
      "1704568523.4696622\n"
     ]
    },
    {
     "name": "stdin",
     "output_type": "stream",
     "text": [
      "ipdb>  np.array(log_df.timestamp_H)[0]\n"
     ]
    },
    {
     "name": "stdout",
     "output_type": "stream",
     "text": [
      "1704568504.693826\n"
     ]
    },
    {
     "name": "stdin",
     "output_type": "stream",
     "text": [
      "ipdb>  r_ind\n"
     ]
    },
    {
     "name": "stdout",
     "output_type": "stream",
     "text": [
      "191\n"
     ]
    },
    {
     "name": "stdin",
     "output_type": "stream",
     "text": [
      "ipdb>  len(ripple_times)\n"
     ]
    },
    {
     "name": "stdout",
     "output_type": "stream",
     "text": [
      "192\n"
     ]
    },
    {
     "name": "stdin",
     "output_type": "stream",
     "text": [
      "ipdb>  up\n"
     ]
    },
    {
     "name": "stdout",
     "output_type": "stream",
     "text": [
      "> \u001b[0;32m/home/shijiegu/Documents/spyglass/src/spyglass/shijiegu/ripple_add_replay.py\u001b[0m(145)\u001b[0;36madd_location_replay\u001b[0;34m()\u001b[0m\n",
      "\u001b[0;32m    143 \u001b[0;31m    '''\n",
      "\u001b[0m\u001b[0;32m    144 \u001b[0;31m    \u001b[0mripple_times\u001b[0m \u001b[0;34m=\u001b[0m \u001b[0madd_location\u001b[0m\u001b[0;34m(\u001b[0m\u001b[0mripple_times\u001b[0m\u001b[0;34m,\u001b[0m\u001b[0mlinear_position_df\u001b[0m\u001b[0;34m,\u001b[0m\u001b[0mnode_location\u001b[0m\u001b[0;34m)\u001b[0m\u001b[0;34m\u001b[0m\u001b[0;34m\u001b[0m\u001b[0m\n",
      "\u001b[0m\u001b[0;32m--> 145 \u001b[0;31m    \u001b[0mripple_times\u001b[0m \u001b[0;34m=\u001b[0m \u001b[0madd_trial\u001b[0m\u001b[0;34m(\u001b[0m\u001b[0mripple_times\u001b[0m\u001b[0;34m,\u001b[0m\u001b[0mlog_df\u001b[0m\u001b[0;34m)\u001b[0m\u001b[0;34m\u001b[0m\u001b[0;34m\u001b[0m\u001b[0m\n",
      "\u001b[0m\u001b[0;32m    146 \u001b[0;31m    \u001b[0mripple_times\u001b[0m \u001b[0;34m=\u001b[0m \u001b[0madd_replay\u001b[0m\u001b[0;34m(\u001b[0m\u001b[0mripple_times\u001b[0m\u001b[0;34m,\u001b[0m\u001b[0mmua_xr\u001b[0m\u001b[0;34m,\u001b[0m\u001b[0mmua_threshold\u001b[0m\u001b[0;34m,\u001b[0m\u001b[0mdecode\u001b[0m\u001b[0;34m,\u001b[0m\u001b[0mlinear_map\u001b[0m\u001b[0;34m,\u001b[0m\u001b[0mcausal\u001b[0m \u001b[0;34m=\u001b[0m \u001b[0mcausal\u001b[0m\u001b[0;34m)\u001b[0m\u001b[0;34m\u001b[0m\u001b[0;34m\u001b[0m\u001b[0m\n",
      "\u001b[0m\u001b[0;32m    147 \u001b[0;31m    \u001b[0;32mreturn\u001b[0m \u001b[0mripple_times\u001b[0m\u001b[0;34m\u001b[0m\u001b[0;34m\u001b[0m\u001b[0m\n",
      "\u001b[0m\n"
     ]
    },
    {
     "name": "stdin",
     "output_type": "stream",
     "text": [
      "ipdb>  up\n"
     ]
    },
    {
     "name": "stdout",
     "output_type": "stream",
     "text": [
      "> \u001b[0;32m/home/shijiegu/Documents/spyglass/src/spyglass/shijiegu/ripple_add_replay.py\u001b[0m(74)\u001b[0;36mreplay_parser_master\u001b[0;34m()\u001b[0m\n",
      "\u001b[0;32m     72 \u001b[0;31m\u001b[0;34m\u001b[0m\u001b[0m\n",
      "\u001b[0m\u001b[0;32m     73 \u001b[0;31m    \u001b[0;31m# 3. add replay and trial time data to ripple data\u001b[0m\u001b[0;34m\u001b[0m\u001b[0;34m\u001b[0m\u001b[0m\n",
      "\u001b[0m\u001b[0;32m---> 74 \u001b[0;31m    ripple_times = add_location_replay(ripple_times,\n",
      "\u001b[0m\u001b[0;32m     75 \u001b[0;31m                                       \u001b[0mlinear_position_df\u001b[0m\u001b[0;34m,\u001b[0m\u001b[0mnode_location\u001b[0m\u001b[0;34m,\u001b[0m\u001b[0mlinear_map\u001b[0m\u001b[0;34m,\u001b[0m\u001b[0;34m\u001b[0m\u001b[0;34m\u001b[0m\u001b[0m\n",
      "\u001b[0m\u001b[0;32m     76 \u001b[0;31m                                       \u001b[0mlog_df\u001b[0m\u001b[0;34m,\u001b[0m\u001b[0;34m\u001b[0m\u001b[0;34m\u001b[0m\u001b[0m\n",
      "\u001b[0m\n"
     ]
    },
    {
     "name": "stdin",
     "output_type": "stream",
     "text": [
      "ipdb>  epoch_name\n"
     ]
    },
    {
     "name": "stdout",
     "output_type": "stream",
     "text": [
      "'04_Rev2Session2'\n"
     ]
    },
    {
     "name": "stdin",
     "output_type": "stream",
     "text": [
      "ipdb>  epoch_name.split('_')[1][4:8]\n"
     ]
    },
    {
     "name": "stdout",
     "output_type": "stream",
     "text": [
      "'Sess'\n"
     ]
    },
    {
     "name": "stdin",
     "output_type": "stream",
     "text": [
      "ipdb>  StateScript = pd.DataFrame(             (TrialChoice & {'nwb_file_name':nwb_copy_file_name,'epoch':int(epoch_name[:2])}).fetch1('choice_reward')         )\n",
      "ipdb>  trial_last_t = StateScript.loc[len(StateScript)-1].timestamp_O\n",
      "ipdb>  trial_last_t\n"
     ]
    },
    {
     "name": "stdout",
     "output_type": "stream",
     "text": [
      "1704570641.6037498\n"
     ]
    },
    {
     "name": "stdin",
     "output_type": "stream",
     "text": [
      "ipdb>  StateScript.loc[len(StateScript)-1]\n"
     ]
    },
    {
     "name": "stdout",
     "output_type": "stream",
     "text": [
      "timestamp_H                NaN\n",
      "Home              1.000000e+00\n",
      "timestamp_O       1.704571e+09\n",
      "OuterWellIndex    2.000000e+00\n",
      "rewardNum         0.000000e+00\n",
      "current           2.000000e+00\n",
      "future_H          2.000000e+00\n",
      "future_O                   NaN\n",
      "past              1.000000e+00\n",
      "past_reward       1.000000e+00\n",
      "Name: 91, dtype: float64\n"
     ]
    },
    {
     "name": "stdin",
     "output_type": "stream",
     "text": [
      "ipdb>  down\n"
     ]
    },
    {
     "name": "stdout",
     "output_type": "stream",
     "text": [
      "> \u001b[0;32m/home/shijiegu/Documents/spyglass/src/spyglass/shijiegu/ripple_add_replay.py\u001b[0m(145)\u001b[0;36madd_location_replay\u001b[0;34m()\u001b[0m\n",
      "\u001b[0;32m    143 \u001b[0;31m    '''\n",
      "\u001b[0m\u001b[0;32m    144 \u001b[0;31m    \u001b[0mripple_times\u001b[0m \u001b[0;34m=\u001b[0m \u001b[0madd_location\u001b[0m\u001b[0;34m(\u001b[0m\u001b[0mripple_times\u001b[0m\u001b[0;34m,\u001b[0m\u001b[0mlinear_position_df\u001b[0m\u001b[0;34m,\u001b[0m\u001b[0mnode_location\u001b[0m\u001b[0;34m)\u001b[0m\u001b[0;34m\u001b[0m\u001b[0;34m\u001b[0m\u001b[0m\n",
      "\u001b[0m\u001b[0;32m--> 145 \u001b[0;31m    \u001b[0mripple_times\u001b[0m \u001b[0;34m=\u001b[0m \u001b[0madd_trial\u001b[0m\u001b[0;34m(\u001b[0m\u001b[0mripple_times\u001b[0m\u001b[0;34m,\u001b[0m\u001b[0mlog_df\u001b[0m\u001b[0;34m)\u001b[0m\u001b[0;34m\u001b[0m\u001b[0;34m\u001b[0m\u001b[0m\n",
      "\u001b[0m\u001b[0;32m    146 \u001b[0;31m    \u001b[0mripple_times\u001b[0m \u001b[0;34m=\u001b[0m \u001b[0madd_replay\u001b[0m\u001b[0;34m(\u001b[0m\u001b[0mripple_times\u001b[0m\u001b[0;34m,\u001b[0m\u001b[0mmua_xr\u001b[0m\u001b[0;34m,\u001b[0m\u001b[0mmua_threshold\u001b[0m\u001b[0;34m,\u001b[0m\u001b[0mdecode\u001b[0m\u001b[0;34m,\u001b[0m\u001b[0mlinear_map\u001b[0m\u001b[0;34m,\u001b[0m\u001b[0mcausal\u001b[0m \u001b[0;34m=\u001b[0m \u001b[0mcausal\u001b[0m\u001b[0;34m)\u001b[0m\u001b[0;34m\u001b[0m\u001b[0;34m\u001b[0m\u001b[0m\n",
      "\u001b[0m\u001b[0;32m    147 \u001b[0;31m    \u001b[0;32mreturn\u001b[0m \u001b[0mripple_times\u001b[0m\u001b[0;34m\u001b[0m\u001b[0;34m\u001b[0m\u001b[0m\n",
      "\u001b[0m\n"
     ]
    },
    {
     "name": "stdin",
     "output_type": "stream",
     "text": [
      "ipdb>  down\n"
     ]
    },
    {
     "name": "stdout",
     "output_type": "stream",
     "text": [
      "> \u001b[0;32m/home/shijiegu/Documents/spyglass/src/spyglass/shijiegu/ripple_add_replay.py\u001b[0m(191)\u001b[0;36madd_trial\u001b[0;34m()\u001b[0m\n",
      "\u001b[0;32m    189 \u001b[0;31m    \u001b[0;32mfor\u001b[0m \u001b[0mr_ind\u001b[0m \u001b[0;32min\u001b[0m \u001b[0mripple_times\u001b[0m\u001b[0;34m.\u001b[0m\u001b[0mindex\u001b[0m\u001b[0;34m:\u001b[0m\u001b[0;34m\u001b[0m\u001b[0;34m\u001b[0m\u001b[0m\n",
      "\u001b[0m\u001b[0;32m    190 \u001b[0;31m        \u001b[0;34m(\u001b[0m\u001b[0mt0\u001b[0m\u001b[0;34m,\u001b[0m\u001b[0mt1\u001b[0m\u001b[0;34m)\u001b[0m \u001b[0;34m=\u001b[0m \u001b[0;34m(\u001b[0m\u001b[0mripple_times\u001b[0m\u001b[0;34m.\u001b[0m\u001b[0mloc\u001b[0m\u001b[0;34m[\u001b[0m\u001b[0mr_ind\u001b[0m\u001b[0;34m,\u001b[0m\u001b[0;34m'start_time'\u001b[0m\u001b[0;34m]\u001b[0m\u001b[0;34m,\u001b[0m\u001b[0mripple_times\u001b[0m\u001b[0;34m.\u001b[0m\u001b[0mloc\u001b[0m\u001b[0;34m[\u001b[0m\u001b[0mr_ind\u001b[0m\u001b[0;34m,\u001b[0m\u001b[0;34m'end_time'\u001b[0m\u001b[0;34m]\u001b[0m\u001b[0;34m)\u001b[0m\u001b[0;34m\u001b[0m\u001b[0;34m\u001b[0m\u001b[0m\n",
      "\u001b[0m\u001b[0;32m--> 191 \u001b[0;31m        \u001b[0mtrial_number\u001b[0m \u001b[0;34m=\u001b[0m \u001b[0mnp\u001b[0m\u001b[0;34m.\u001b[0m\u001b[0margwhere\u001b[0m\u001b[0;34m(\u001b[0m\u001b[0mlog_df\u001b[0m\u001b[0;34m.\u001b[0m\u001b[0mtimestamp_H\u001b[0m \u001b[0;34m>=\u001b[0m \u001b[0mt0\u001b[0m\u001b[0;34m)\u001b[0m\u001b[0;34m.\u001b[0m\u001b[0mravel\u001b[0m\u001b[0;34m(\u001b[0m\u001b[0;34m)\u001b[0m\u001b[0;34m[\u001b[0m\u001b[0;36m0\u001b[0m\u001b[0;34m]\u001b[0m\u001b[0;34m\u001b[0m\u001b[0;34m\u001b[0m\u001b[0m\n",
      "\u001b[0m\u001b[0;32m    192 \u001b[0;31m        \u001b[0;31m# this way only works if the trial is legal.\u001b[0m\u001b[0;34m\u001b[0m\u001b[0;34m\u001b[0m\u001b[0m\n",
      "\u001b[0m\u001b[0;32m    193 \u001b[0;31m        \u001b[0;32mif\u001b[0m \u001b[0mnp\u001b[0m\u001b[0;34m.\u001b[0m\u001b[0misin\u001b[0m\u001b[0;34m(\u001b[0m\u001b[0mtrial_number\u001b[0m\u001b[0;34m,\u001b[0m\u001b[0mlegal_trials\u001b[0m\u001b[0;34m)\u001b[0m\u001b[0;34m:\u001b[0m\u001b[0;34m\u001b[0m\u001b[0;34m\u001b[0m\u001b[0m\n",
      "\u001b[0m\n"
     ]
    },
    {
     "name": "stdin",
     "output_type": "stream",
     "text": [
      "ipdb>  np.argwhere(log_df.timestamp_H >= t0).ravel()\n"
     ]
    },
    {
     "name": "stdout",
     "output_type": "stream",
     "text": [
      "array([], dtype=int64)\n"
     ]
    },
    {
     "name": "stdin",
     "output_type": "stream",
     "text": [
      "ipdb>  tmp = np.argwhere(log_df.timestamp_H >= t0).ravel()\n",
      "ipdb>  trial_number = np.argwhere(log_df.timestamp_O-1 >= t0).ravel()[0]\n",
      "ipdb>  trial_number\n"
     ]
    },
    {
     "name": "stdout",
     "output_type": "stream",
     "text": [
      "90\n"
     ]
    },
    {
     "name": "stdin",
     "output_type": "stream",
     "text": [
      "ipdb>  t0\n"
     ]
    },
    {
     "name": "stdout",
     "output_type": "stream",
     "text": [
      "1704570633.7066205\n"
     ]
    },
    {
     "name": "stdin",
     "output_type": "stream",
     "text": [
      "ipdb>  np.array(log_df.timestamp_O)[-3]\n"
     ]
    },
    {
     "name": "stdout",
     "output_type": "stream",
     "text": [
      "1704570621.1086736\n"
     ]
    },
    {
     "name": "stdin",
     "output_type": "stream",
     "text": [
      "ipdb>  np.array(log_df.timestamp_H)[-2]\n"
     ]
    },
    {
     "name": "stdout",
     "output_type": "stream",
     "text": [
      "nan\n"
     ]
    },
    {
     "name": "stdin",
     "output_type": "stream",
     "text": [
      "ipdb>  np.array(log_df.timestamp_O)[-2]\n"
     ]
    },
    {
     "name": "stdout",
     "output_type": "stream",
     "text": [
      "1704570641.6037498\n"
     ]
    },
    {
     "name": "stdin",
     "output_type": "stream",
     "text": [
      "ipdb>  exit\n"
     ]
    }
   ],
   "source": [
    "%debug"
   ]
  },
  {
   "cell_type": "code",
   "execution_count": null,
   "id": "f7c0d9f6-afb2-4fbe-b6c6-81d7cc42acef",
   "metadata": {},
   "outputs": [],
   "source": []
  },
  {
   "cell_type": "code",
   "execution_count": 7,
   "id": "3d2ef523-2575-4966-a1ed-785d22742557",
   "metadata": {},
   "outputs": [
    {
     "data": {
      "text/plain": [
       "array([  0,  12,  14,  17,  25,  31,  33,  54,  62,  73,  79,  89,  93,\n",
       "        98, 102, 108, 112, 115, 118, 126, 130, 139, 142, 146, 152, 157])"
      ]
     },
     "execution_count": 7,
     "metadata": {},
     "output_type": "execute_result"
    }
   ],
   "source": [
    "((TetrodeNumber() & {'nwb_file_name': nwb_copy_file_name,\"epoch_name\":\"02_Rev2Session1\"})).fetch1(\"ca1_tetrode_ind\")"
   ]
  },
  {
   "cell_type": "markdown",
   "id": "e5668d6c-e80c-4841-a23c-53d6214e90cf",
   "metadata": {},
   "source": [
    "## Ends here"
   ]
  }
 ],
 "metadata": {
  "kernelspec": {
   "display_name": "Python 3 (ipykernel)",
   "language": "python",
   "name": "python3"
  },
  "language_info": {
   "codemirror_mode": {
    "name": "ipython",
    "version": 3
   },
   "file_extension": ".py",
   "mimetype": "text/x-python",
   "name": "python",
   "nbconvert_exporter": "python",
   "pygments_lexer": "ipython3",
   "version": "3.10.17"
  }
 },
 "nbformat": 4,
 "nbformat_minor": 5
}
