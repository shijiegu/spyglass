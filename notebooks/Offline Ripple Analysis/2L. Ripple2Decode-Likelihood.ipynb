{
 "cells": [
  {
   "cell_type": "markdown",
   "id": "6d8e0ad1-2d68-4859-a86b-fc2b559d27ea",
   "metadata": {},
   "source": [
    "## 2. Trial by trial decoding analysis - Likelihood\n",
    "\n",
    "This notebook uses previously parsed ripple times in the TrialChoiceReplay() table. to make plots for decoded ripple content using either state-space decoder result (2ms time window) vs a likelihood decoder (20 ms time window).\n",
    "\n",
    "May 6, 2025\n",
    "Shijie Gu"
   ]
  },
  {
   "cell_type": "code",
   "execution_count": 1,
   "id": "e3f9c4b7-680d-4f4f-907a-62ae4b7b17f3",
   "metadata": {},
   "outputs": [],
   "source": [
    "%reload_ext autoreload\n",
    "%autoreload 2"
   ]
  },
  {
   "cell_type": "code",
   "execution_count": 44,
   "id": "3e2ceae1-916b-4637-85d5-77392aa63c35",
   "metadata": {},
   "outputs": [],
   "source": [
    "import spyglass as nd\n",
    "import pandas as pd\n",
    "import os\n",
    "# ignore datajoint+jupyter async warnings\n",
    "import warnings\n",
    "warnings.simplefilter('ignore', category=DeprecationWarning)\n",
    "warnings.simplefilter('ignore', category=ResourceWarning)\n",
    "\n",
    "import matplotlib.pyplot as plt\n",
    "import numpy as np\n",
    "import xarray as xr\n",
    "import logging\n",
    "import multiprocessing\n",
    "\n",
    "FORMAT = '%(asctime)s %(message)s'\n",
    "\n",
    "logging.basicConfig(level='INFO', format=FORMAT, datefmt='%d-%b-%y %H:%M:%S')\n",
    "\n",
    "from spyglass.common import (Session, IntervalList,IntervalPositionInfo,\n",
    "                             LabMember, LabTeam, Raw, Session, Nwbfile,\n",
    "                            Electrode,LFPBand,interval_list_intersect)\n",
    "from spyglass.common.common_interval import _intersection\n",
    "\n",
    "#from spyglass.decoding.clusterless import (UnitMarks,\n",
    "#                                           UnitMarkParameters,UnitMarksIndicatorSelection,\n",
    "#                                          UnitMarksIndicator)\n",
    "from spyglass.utils.nwb_helper_fn import get_nwb_copy_filename\n",
    "from spyglass.common.common_position import IntervalPositionInfo, IntervalPositionInfoSelection\n",
    "from spyglass.common.common_position import IntervalLinearizedPosition\n",
    "\n",
    "from spyglass.spikesorting.v0 import (SortGroup, \n",
    "                                    SortInterval,\n",
    "                                    SpikeSortingPreprocessingParameters,\n",
    "                                    SpikeSortingRecording,SpikeSortingRecordingSelection)\n",
    "\n",
    "from spyglass.shijiegu.load import load_epoch_data, load_decode\n",
    "# Here are the analysis tables specific to Shijie Gu\n",
    "from spyglass.shijiegu.Analysis_SGU import (TrialChoice,\n",
    "                                   TrialChoiceReplay,\n",
    "                                   RippleTimes,\n",
    "                                   DecodeResultsLinear,get_linearization_map,\n",
    "                                   find_ripple_times,mua_thresholder,sort_replays,\n",
    "                                   classify_ripples,classify_ripple_content,\n",
    "                                   load_everything,MUA,\n",
    "                                   TetrodeNumber,NotExtendedTrialChoiceReplay\n",
    "                                  )\n",
    "from spyglass.shijiegu.Analysis_SGU import EpochPos,RippleTimesWithDecode,ExtendedRippleTimesWithDecode,ExtendedRippleTimes,ExtendedTrialChoiceReplay,TrialChoiceReplayTransition\n",
    "\n",
    "from spyglass.shijiegu.ripple_add_replay import (replay_parser_master,plot_ripples_replays, select_subset_helper)"
   ]
  },
  {
   "cell_type": "code",
   "execution_count": 91,
   "id": "068d0d69-e76e-41b2-b280-b57e336d8a5d",
   "metadata": {},
   "outputs": [],
   "source": [
    "# input day\n",
    "nwb_file_name = 'lewis20240109.nwb'\n",
    "nwb_copy_file_name = get_nwb_copy_filename(nwb_file_name)"
   ]
  },
  {
   "cell_type": "markdown",
   "id": "20633177-37db-47ad-b95a-a1c8e54d970c",
   "metadata": {},
   "source": [
    "### 1. Check there are likelihood decodes"
   ]
  },
  {
   "cell_type": "code",
   "execution_count": 92,
   "id": "1bbf8c9a-8201-4e6f-ad5d-b0b3a058cd7c",
   "metadata": {},
   "outputs": [
    {
     "data": {
      "text/html": [
       "\n",
       "    \n",
       "    <style type=\"text/css\">\n",
       "        .Table{\n",
       "            border-collapse:collapse;\n",
       "        }\n",
       "        .Table th{\n",
       "            background: #A0A0A0; color: #ffffff; padding:4px; border:#f0e0e0 1px solid;\n",
       "            font-weight: normal; font-family: monospace; font-size: 100%;\n",
       "        }\n",
       "        .Table td{\n",
       "            padding:4px; border:#f0e0e0 1px solid; font-size:100%;\n",
       "        }\n",
       "        .Table tr:nth-child(odd){\n",
       "            background: #ffffff;\n",
       "            color: #000000;\n",
       "        }\n",
       "        .Table tr:nth-child(even){\n",
       "            background: #f3f1ff;\n",
       "            color: #000000;\n",
       "        }\n",
       "        /* Tooltip container */\n",
       "        .djtooltip {\n",
       "        }\n",
       "        /* Tooltip text */\n",
       "        .djtooltip .djtooltiptext {\n",
       "            visibility: hidden;\n",
       "            width: 120px;\n",
       "            background-color: black;\n",
       "            color: #fff;\n",
       "            text-align: center;\n",
       "            padding: 5px 0;\n",
       "            border-radius: 6px;\n",
       "            /* Position the tooltip text - see examples below! */\n",
       "            position: absolute;\n",
       "            z-index: 1;\n",
       "        }\n",
       "        #primary {\n",
       "            font-weight: bold;\n",
       "            color: black;\n",
       "        }\n",
       "        #nonprimary {\n",
       "            font-weight: normal;\n",
       "            color: white;\n",
       "        }\n",
       "\n",
       "        /* Show the tooltip text when you mouse over the tooltip container */\n",
       "        .djtooltip:hover .djtooltiptext {\n",
       "            visibility: visible;\n",
       "        }\n",
       "    </style>\n",
       "    \n",
       "    <b>decoded 1D replay content results</b>\n",
       "        <div style=\"max-height:1000px;max-width:1500px;overflow:auto;\">\n",
       "        <table border=\"1\" class=\"Table\">\n",
       "            <thead> <tr style=\"text-align: right;\"> <th> <div class=\"djtooltip\">\n",
       "                            <p id=\"primary\">nwb_file_name</p>\n",
       "                            <span class=\"djtooltiptext\">name of the NWB file</span>\n",
       "                        </div></th><th><div class=\"djtooltip\">\n",
       "                            <p id=\"primary\">interval_list_name</p>\n",
       "                            <span class=\"djtooltiptext\">descriptive name of this interval list</span>\n",
       "                        </div></th><th><div class=\"djtooltip\">\n",
       "                            <p id=\"primary\">classifier_param_name</p>\n",
       "                            <span class=\"djtooltiptext\">a name for this set of parameters</span>\n",
       "                        </div></th><th><div class=\"djtooltip\">\n",
       "                            <p id=\"primary\">encoding_set</p>\n",
       "                            <span class=\"djtooltiptext\">a name for this set of encoding</span>\n",
       "                        </div></th><th><div class=\"djtooltip\">\n",
       "                            <p id=\"nonprimary\">posterior</p>\n",
       "                            <span class=\"djtooltiptext\">posterior within that interval (1D)</span>\n",
       "                        </div> </th> </tr> </thead>\n",
       "            <tbody> <tr> <td>lewis20240109_.nwb</td>\n",
       "<td>02_Rev2Session1</td>\n",
       "<td>default_decoding_gpu_4armMaze</td>\n",
       "<td>2Dheadspeed_above_4</td>\n",
       "<td>=BLOB=</td></tr><tr><td>lewis20240109_.nwb</td>\n",
       "<td>02_Rev2Session1</td>\n",
       "<td>default_decoding_gpu_4armMaze_W20msO10ms</td>\n",
       "<td>2Dheadspeed_above_4</td>\n",
       "<td>=BLOB=</td></tr><tr><td>lewis20240109_.nwb</td>\n",
       "<td>04_Rev2Session2</td>\n",
       "<td>default_decoding_gpu_4armMaze</td>\n",
       "<td>2Dheadspeed_above_4</td>\n",
       "<td>=BLOB=</td></tr><tr><td>lewis20240109_.nwb</td>\n",
       "<td>04_Rev2Session2</td>\n",
       "<td>default_decoding_gpu_4armMaze_W20msO10ms</td>\n",
       "<td>2Dheadspeed_above_4</td>\n",
       "<td>=BLOB=</td></tr><tr><td>lewis20240109_.nwb</td>\n",
       "<td>04_Rev2Session2</td>\n",
       "<td>default_decoding_gpu_4armMaze_W40msO20ms</td>\n",
       "<td>2Dheadspeed_above_4</td>\n",
       "<td>=BLOB=</td></tr><tr><td>lewis20240109_.nwb</td>\n",
       "<td>06_Rev2Session3</td>\n",
       "<td>default_decoding_gpu_4armMaze</td>\n",
       "<td>2Dheadspeed_above_4</td>\n",
       "<td>=BLOB=</td></tr><tr><td>lewis20240109_.nwb</td>\n",
       "<td>06_Rev2Session3</td>\n",
       "<td>default_decoding_gpu_4armMaze_W20msO10ms</td>\n",
       "<td>2Dheadspeed_above_4</td>\n",
       "<td>=BLOB=</td></tr><tr><td>lewis20240109_.nwb</td>\n",
       "<td>06_Rev2Session3</td>\n",
       "<td>default_decoding_gpu_4armMaze_W40msO20ms</td>\n",
       "<td>2Dheadspeed_above_4</td>\n",
       "<td>=BLOB=</td></tr><tr><td>lewis20240109_.nwb</td>\n",
       "<td>08_Rev2Session4</td>\n",
       "<td>default_decoding_gpu_4armMaze</td>\n",
       "<td>2Dheadspeed_above_4</td>\n",
       "<td>=BLOB=</td></tr><tr><td>lewis20240109_.nwb</td>\n",
       "<td>08_Rev2Session4</td>\n",
       "<td>default_decoding_gpu_4armMaze_W20msO10ms</td>\n",
       "<td>2Dheadspeed_above_4</td>\n",
       "<td>=BLOB=</td></tr><tr><td>lewis20240109_.nwb</td>\n",
       "<td>08_Rev2Session4</td>\n",
       "<td>default_decoding_gpu_4armMaze_W40msO20ms</td>\n",
       "<td>2Dheadspeed_above_4</td>\n",
       "<td>=BLOB=</td> </tr> </tbody>\n",
       "        </table>\n",
       "        \n",
       "        <p>Total: 11</p></div>\n",
       "        "
      ],
      "text/plain": [
       "*nwb_file_name *interval_list *classifier_pa *encoding_set  posterior \n",
       "+------------+ +------------+ +------------+ +------------+ +--------+\n",
       "lewis20240109_ 02_Rev2Session default_decodi 2Dheadspeed_ab =BLOB=    \n",
       "lewis20240109_ 02_Rev2Session default_decodi 2Dheadspeed_ab =BLOB=    \n",
       "lewis20240109_ 04_Rev2Session default_decodi 2Dheadspeed_ab =BLOB=    \n",
       "lewis20240109_ 04_Rev2Session default_decodi 2Dheadspeed_ab =BLOB=    \n",
       "lewis20240109_ 04_Rev2Session default_decodi 2Dheadspeed_ab =BLOB=    \n",
       "lewis20240109_ 06_Rev2Session default_decodi 2Dheadspeed_ab =BLOB=    \n",
       "lewis20240109_ 06_Rev2Session default_decodi 2Dheadspeed_ab =BLOB=    \n",
       "lewis20240109_ 06_Rev2Session default_decodi 2Dheadspeed_ab =BLOB=    \n",
       "lewis20240109_ 08_Rev2Session default_decodi 2Dheadspeed_ab =BLOB=    \n",
       "lewis20240109_ 08_Rev2Session default_decodi 2Dheadspeed_ab =BLOB=    \n",
       "lewis20240109_ 08_Rev2Session default_decodi 2Dheadspeed_ab =BLOB=    \n",
       " (Total: 11)"
      ]
     },
     "execution_count": 92,
     "metadata": {},
     "output_type": "execute_result"
    }
   ],
   "source": [
    "DecodeResultsLinear & {'nwb_file_name': nwb_copy_file_name}"
   ]
  },
  {
   "cell_type": "code",
   "execution_count": 94,
   "id": "5610ca95-2d13-478c-b76a-191e3f4e606a",
   "metadata": {},
   "outputs": [
    {
     "name": "stdout",
     "output_type": "stream",
     "text": [
      "*nwb_file_name *interval_list *classifier_pa *encoding_set  posterior \n",
      "+------------+ +------------+ +------------+ +------------+ +--------+\n",
      "lewis20240109_ 02_Rev2Session default_decodi 2Dheadspeed_ab =BLOB=    \n",
      " (Total: 1)\n",
      "\n",
      "*nwb_file_name *interval_list *classifier_pa *encoding_set  posterior \n",
      "+------------+ +------------+ +------------+ +------------+ +--------+\n",
      "lewis20240109_ 02_Rev2Session default_decodi 2Dheadspeed_ab =BLOB=    \n",
      " (Total: 1)\n",
      "\n"
     ]
    }
   ],
   "source": [
    "# 2. input encoding_set, classifier_param_name\n",
    "session_name = \"02_Rev2Session1\"\n",
    "epoch_num = 2\n",
    "\n",
    "encoding_set = \"2Dheadspeed_above_4\"\n",
    "decoder_lk = \"default_decoding_gpu_4armMaze_W20msO10ms\"\n",
    "decoder_ss = \"default_decoding_gpu_4armMaze\"\n",
    "\n",
    "key_lk = {'nwb_file_name': nwb_copy_file_name,\n",
    "          \"encoding_set\":encoding_set,\"interval_list_name\": session_name,\n",
    "          \"classifier_param_name\": decoder_lk}\n",
    "\n",
    "key_ss = {'nwb_file_name': nwb_copy_file_name,\n",
    "          \"encoding_set\":encoding_set,\"interval_list_name\": session_name,\n",
    "          \"classifier_param_name\": decoder_ss}\n",
    "\n",
    "print(DecodeResultsLinear & key_lk)\n",
    "print(DecodeResultsLinear & key_ss)"
   ]
  },
  {
   "cell_type": "markdown",
   "id": "c3a21d55-e851-4fd3-a4a2-20e7cbd92102",
   "metadata": {},
   "source": [
    "### 2. Check there are parsed decode results from state space decoder.\n",
    "We use parsed results (fragmented vs continuous) from the state space decoder."
   ]
  },
  {
   "cell_type": "code",
   "execution_count": 104,
   "id": "e118c512-1350-4830-813c-90edfc8a793e",
   "metadata": {},
   "outputs": [],
   "source": [
    "decode_threshold_method = \"MUA_M05SD\"\n",
    "key_ss[\"decode_threshold_method\"] = decode_threshold_method"
   ]
  },
  {
   "cell_type": "code",
   "execution_count": 105,
   "id": "51f8d07a-e31a-452f-a65f-95f2abab143a",
   "metadata": {},
   "outputs": [
    {
     "data": {
      "text/html": [
       "\n",
       "    \n",
       "    <style type=\"text/css\">\n",
       "        .Table{\n",
       "            border-collapse:collapse;\n",
       "        }\n",
       "        .Table th{\n",
       "            background: #A0A0A0; color: #ffffff; padding:4px; border:#f0e0e0 1px solid;\n",
       "            font-weight: normal; font-family: monospace; font-size: 100%;\n",
       "        }\n",
       "        .Table td{\n",
       "            padding:4px; border:#f0e0e0 1px solid; font-size:100%;\n",
       "        }\n",
       "        .Table tr:nth-child(odd){\n",
       "            background: #ffffff;\n",
       "            color: #000000;\n",
       "        }\n",
       "        .Table tr:nth-child(even){\n",
       "            background: #f3f1ff;\n",
       "            color: #000000;\n",
       "        }\n",
       "        /* Tooltip container */\n",
       "        .djtooltip {\n",
       "        }\n",
       "        /* Tooltip text */\n",
       "        .djtooltip .djtooltiptext {\n",
       "            visibility: hidden;\n",
       "            width: 120px;\n",
       "            background-color: black;\n",
       "            color: #fff;\n",
       "            text-align: center;\n",
       "            padding: 5px 0;\n",
       "            border-radius: 6px;\n",
       "            /* Position the tooltip text - see examples below! */\n",
       "            position: absolute;\n",
       "            z-index: 1;\n",
       "        }\n",
       "        #primary {\n",
       "            font-weight: bold;\n",
       "            color: black;\n",
       "        }\n",
       "        #nonprimary {\n",
       "            font-weight: normal;\n",
       "            color: white;\n",
       "        }\n",
       "\n",
       "        /* Show the tooltip text when you mouse over the tooltip container */\n",
       "        .djtooltip:hover .djtooltiptext {\n",
       "            visibility: visible;\n",
       "        }\n",
       "    </style>\n",
       "    \n",
       "    <b>ripple times with decode</b>\n",
       "        <div style=\"max-height:1000px;max-width:1500px;overflow:auto;\">\n",
       "        <table border=\"1\" class=\"Table\">\n",
       "            <thead> <tr style=\"text-align: right;\"> <th> <div class=\"djtooltip\">\n",
       "                            <p id=\"primary\">nwb_file_name</p>\n",
       "                            <span class=\"djtooltiptext\">name of the NWB file</span>\n",
       "                        </div></th><th><div class=\"djtooltip\">\n",
       "                            <p id=\"primary\">interval_list_name</p>\n",
       "                            <span class=\"djtooltiptext\">descriptive name of this interval list</span>\n",
       "                        </div></th><th><div class=\"djtooltip\">\n",
       "                            <p id=\"primary\">classifier_param_name</p>\n",
       "                            <span class=\"djtooltiptext\">a name for this set of parameters</span>\n",
       "                        </div></th><th><div class=\"djtooltip\">\n",
       "                            <p id=\"primary\">encoding_set</p>\n",
       "                            <span class=\"djtooltiptext\">a name for this set of encoding</span>\n",
       "                        </div></th><th><div class=\"djtooltip\">\n",
       "                            <p id=\"primary\">decode_threshold_method</p>\n",
       "                            <span class=\"djtooltiptext\">a name for this thresholding method</span>\n",
       "                        </div></th><th><div class=\"djtooltip\">\n",
       "                            <p id=\"nonprimary\">ripple_times</p>\n",
       "                            <span class=\"djtooltiptext\">ripple times within that interval</span>\n",
       "                        </div> </th> </tr> </thead>\n",
       "            <tbody> <tr> <td>lewis20240109_.nwb</td>\n",
       "<td>02_Rev2Session1</td>\n",
       "<td>default_decoding_gpu_4armMaze</td>\n",
       "<td>2Dheadspeed_above_4</td>\n",
       "<td>MUA_M05SD</td>\n",
       "<td>=BLOB=</td> </tr> </tbody>\n",
       "        </table>\n",
       "        \n",
       "        <p>Total: 1</p></div>\n",
       "        "
      ],
      "text/plain": [
       "*nwb_file_name *interval_list *classifier_pa *encoding_set  *decode_thresh ripple_tim\n",
       "+------------+ +------------+ +------------+ +------------+ +------------+ +--------+\n",
       "lewis20240109_ 02_Rev2Session default_decodi 2Dheadspeed_ab MUA_M05SD      =BLOB=    \n",
       " (Total: 1)"
      ]
     },
     "execution_count": 105,
     "metadata": {},
     "output_type": "execute_result"
    }
   ],
   "source": [
    "RippleTimesWithDecode & key_ss"
   ]
  },
  {
   "cell_type": "code",
   "execution_count": 106,
   "id": "b4ad7bf8-0560-48b8-b3e0-f73536f68e14",
   "metadata": {},
   "outputs": [],
   "source": [
    "key_ss[\"decode_threshold_method\"] = decode_threshold_method\n",
    "\n",
    "ripple_times = pd.read_pickle((RippleTimesWithDecode() & key_ss).fetch1(\"ripple_times\"))\n",
    "log_df = pd.DataFrame((NotExtendedTrialChoiceReplay() & key_ss).fetch1(\"choice_reward_replay\"))"
   ]
  },
  {
   "cell_type": "code",
   "execution_count": 108,
   "id": "8beed6fb-319e-4eec-82bf-368a74727cfc",
   "metadata": {},
   "outputs": [],
   "source": [
    "# load lk decoder\n",
    "decode_lk = load_decode(nwb_copy_file_name, session_name, key_lk[\"classifier_param_name\"], encoding_set)"
   ]
  },
  {
   "cell_type": "markdown",
   "id": "dc0e0187-fff0-4a17-bf92-48a1cde35da5",
   "metadata": {},
   "source": [
    "### 3. plot intervals detected by state space decoder with likelihood decoding result."
   ]
  },
  {
   "cell_type": "code",
   "execution_count": 109,
   "id": "a91ef0ac-190f-4669-8997-f722a5e75018",
   "metadata": {
    "scrolled": true
   },
   "outputs": [
    {
     "name": "stdout",
     "output_type": "stream",
     "text": [
      "epoch name 02_Rev2Session1\n",
      "epoch_pos_name pos 1 valid times\n"
     ]
    },
    {
     "name": "stderr",
     "output_type": "stream",
     "text": [
      "[2025-05-07 12:30:37,776][WARNING]: Skipped checksum for file with hash: 6cfcf895-2e2b-bb17-c3d1-9422e1618213, and path: /stelmo/nwb/analysis/lewis20240109/lewis20240109_R4LWKFUE59.nwb\n",
      "07-May-25 12:30:37 Skipped checksum for file with hash: 6cfcf895-2e2b-bb17-c3d1-9422e1618213, and path: /stelmo/nwb/analysis/lewis20240109/lewis20240109_R4LWKFUE59.nwb\n",
      "[2025-05-07 12:30:37,801][WARNING]: Skipped checksum for file with hash: 6cfcf895-2e2b-bb17-c3d1-9422e1618213, and path: /stelmo/nwb/analysis/lewis20240109/lewis20240109_R4LWKFUE59.nwb\n",
      "07-May-25 12:30:37 Skipped checksum for file with hash: 6cfcf895-2e2b-bb17-c3d1-9422e1618213, and path: /stelmo/nwb/analysis/lewis20240109/lewis20240109_R4LWKFUE59.nwb\n",
      "[2025-05-07 12:30:37,809][WARNING]: Skipped checksum for file with hash: 6cfcf895-2e2b-bb17-c3d1-9422e1618213, and path: /stelmo/nwb/analysis/lewis20240109/lewis20240109_R4LWKFUE59.nwb\n",
      "07-May-25 12:30:37 Skipped checksum for file with hash: 6cfcf895-2e2b-bb17-c3d1-9422e1618213, and path: /stelmo/nwb/analysis/lewis20240109/lewis20240109_R4LWKFUE59.nwb\n",
      "/home/shijiegu/anaconda3/envs/spyglass/lib/python3.10/site-packages/hdmf/spec/namespace.py:535: UserWarning: Ignoring cached namespace 'core' version 2.6.0-alpha because version 2.7.0 is already loaded.\n",
      "  warn(\"Ignoring cached namespace '%s' version %s because version %s is already loaded.\"\n",
      "/home/shijiegu/anaconda3/envs/spyglass/lib/python3.10/site-packages/hdmf/spec/namespace.py:535: UserWarning: Ignoring cached namespace 'ndx-franklab-novela' version 0.1.0 because version 0.2.0 is already loaded.\n",
      "  warn(\"Ignoring cached namespace '%s' version %s because version %s is already loaded.\"\n",
      "[2025-05-07 12:30:48,045][WARNING]: Skipped checksum for file with hash: a0b23751-0c50-c10d-db95-1693a06079ea, and path: /stelmo/nwb/analysis/lewis20240109/lewis20240109_PGHH1S1AZS.nwb\n",
      "07-May-25 12:30:48 Skipped checksum for file with hash: a0b23751-0c50-c10d-db95-1693a06079ea, and path: /stelmo/nwb/analysis/lewis20240109/lewis20240109_PGHH1S1AZS.nwb\n",
      "[2025-05-07 12:30:48,071][WARNING]: Skipped checksum for file with hash: a0b23751-0c50-c10d-db95-1693a06079ea, and path: /stelmo/nwb/analysis/lewis20240109/lewis20240109_PGHH1S1AZS.nwb\n",
      "07-May-25 12:30:48 Skipped checksum for file with hash: a0b23751-0c50-c10d-db95-1693a06079ea, and path: /stelmo/nwb/analysis/lewis20240109/lewis20240109_PGHH1S1AZS.nwb\n",
      "[2025-05-07 12:30:48,079][WARNING]: Skipped checksum for file with hash: a0b23751-0c50-c10d-db95-1693a06079ea, and path: /stelmo/nwb/analysis/lewis20240109/lewis20240109_PGHH1S1AZS.nwb\n",
      "07-May-25 12:30:48 Skipped checksum for file with hash: a0b23751-0c50-c10d-db95-1693a06079ea, and path: /stelmo/nwb/analysis/lewis20240109/lewis20240109_PGHH1S1AZS.nwb\n",
      "/home/shijiegu/anaconda3/envs/spyglass/lib/python3.10/site-packages/hdmf/spec/namespace.py:535: UserWarning: Ignoring cached namespace 'core' version 2.6.0-alpha because version 2.7.0 is already loaded.\n",
      "  warn(\"Ignoring cached namespace '%s' version %s because version %s is already loaded.\"\n",
      "/home/shijiegu/anaconda3/envs/spyglass/lib/python3.10/site-packages/hdmf/spec/namespace.py:535: UserWarning: Ignoring cached namespace 'ndx-franklab-novela' version 0.1.0 because version 0.2.0 is already loaded.\n",
      "  warn(\"Ignoring cached namespace '%s' version %s because version %s is already loaded.\"\n",
      "[2025-05-07 12:30:59,479][WARNING]: Skipped checksum for file with hash: 936f2207-25ca-c003-d157-dd5a150390d0, and path: /stelmo/nwb/analysis/lewis20240109/lewis20240109_LVY1KHPBGX.nwb\n",
      "07-May-25 12:30:59 Skipped checksum for file with hash: 936f2207-25ca-c003-d157-dd5a150390d0, and path: /stelmo/nwb/analysis/lewis20240109/lewis20240109_LVY1KHPBGX.nwb\n",
      "[2025-05-07 12:30:59,504][WARNING]: Skipped checksum for file with hash: 936f2207-25ca-c003-d157-dd5a150390d0, and path: /stelmo/nwb/analysis/lewis20240109/lewis20240109_LVY1KHPBGX.nwb\n",
      "07-May-25 12:30:59 Skipped checksum for file with hash: 936f2207-25ca-c003-d157-dd5a150390d0, and path: /stelmo/nwb/analysis/lewis20240109/lewis20240109_LVY1KHPBGX.nwb\n",
      "[2025-05-07 12:30:59,511][WARNING]: Skipped checksum for file with hash: 936f2207-25ca-c003-d157-dd5a150390d0, and path: /stelmo/nwb/analysis/lewis20240109/lewis20240109_LVY1KHPBGX.nwb\n",
      "07-May-25 12:30:59 Skipped checksum for file with hash: 936f2207-25ca-c003-d157-dd5a150390d0, and path: /stelmo/nwb/analysis/lewis20240109/lewis20240109_LVY1KHPBGX.nwb\n",
      "/home/shijiegu/anaconda3/envs/spyglass/lib/python3.10/site-packages/hdmf/spec/namespace.py:535: UserWarning: Ignoring cached namespace 'core' version 2.6.0-alpha because version 2.7.0 is already loaded.\n",
      "  warn(\"Ignoring cached namespace '%s' version %s because version %s is already loaded.\"\n",
      "/home/shijiegu/anaconda3/envs/spyglass/lib/python3.10/site-packages/hdmf/spec/namespace.py:535: UserWarning: Ignoring cached namespace 'ndx-franklab-novela' version 0.1.0 because version 0.2.0 is already loaded.\n",
      "  warn(\"Ignoring cached namespace '%s' version %s because version %s is already loaded.\"\n",
      "[2025-05-07 12:33:07,394][WARNING]: Skipped checksum for file with hash: 12eb83d6-f58a-e63b-896e-da014d94fee5, and path: /stelmo/nwb/analysis/lewis20240109/lewis20240109_NDY5KK1NO7.nwb\n",
      "07-May-25 12:33:07 Skipped checksum for file with hash: 12eb83d6-f58a-e63b-896e-da014d94fee5, and path: /stelmo/nwb/analysis/lewis20240109/lewis20240109_NDY5KK1NO7.nwb\n",
      "[2025-05-07 12:33:07,418][WARNING]: Skipped checksum for file with hash: 12eb83d6-f58a-e63b-896e-da014d94fee5, and path: /stelmo/nwb/analysis/lewis20240109/lewis20240109_NDY5KK1NO7.nwb\n",
      "07-May-25 12:33:07 Skipped checksum for file with hash: 12eb83d6-f58a-e63b-896e-da014d94fee5, and path: /stelmo/nwb/analysis/lewis20240109/lewis20240109_NDY5KK1NO7.nwb\n",
      "[2025-05-07 12:33:07,424][WARNING]: Skipped checksum for file with hash: 12eb83d6-f58a-e63b-896e-da014d94fee5, and path: /stelmo/nwb/analysis/lewis20240109/lewis20240109_NDY5KK1NO7.nwb\n",
      "07-May-25 12:33:07 Skipped checksum for file with hash: 12eb83d6-f58a-e63b-896e-da014d94fee5, and path: /stelmo/nwb/analysis/lewis20240109/lewis20240109_NDY5KK1NO7.nwb\n",
      "/home/shijiegu/anaconda3/envs/spyglass/lib/python3.10/site-packages/hdmf/spec/namespace.py:535: UserWarning: Ignoring cached namespace 'core' version 2.6.0-alpha because version 2.7.0 is already loaded.\n",
      "  warn(\"Ignoring cached namespace '%s' version %s because version %s is already loaded.\"\n",
      "/home/shijiegu/anaconda3/envs/spyglass/lib/python3.10/site-packages/hdmf/spec/namespace.py:535: UserWarning: Ignoring cached namespace 'ndx-franklab-novela' version 0.1.0 because version 0.2.0 is already loaded.\n",
      "  warn(\"Ignoring cached namespace '%s' version %s because version %s is already loaded.\"\n",
      "/home/shijiegu/anaconda3/envs/spyglass/lib/python3.10/site-packages/hdmf/spec/namespace.py:535: UserWarning: Ignoring cached namespace 'core' version 2.6.0-alpha because version 2.7.0 is already loaded.\n",
      "  warn(\"Ignoring cached namespace '%s' version %s because version %s is already loaded.\"\n",
      "/home/shijiegu/anaconda3/envs/spyglass/lib/python3.10/site-packages/hdmf/spec/namespace.py:535: UserWarning: Ignoring cached namespace 'ndx-franklab-novela' version 0.1.0 because version 0.2.0 is already loaded.\n",
      "  warn(\"Ignoring cached namespace '%s' version %s because version %s is already loaded.\"\n",
      "/home/shijiegu/anaconda3/envs/spyglass/lib/python3.10/site-packages/spikeinterface/core/base.py:1038: UserWarning: Versions are not the same. This might lead to compatibility errors. Using spikeinterface==0.98.2 is recommended\n",
      "  warnings.warn(\n",
      "/home/shijiegu/anaconda3/envs/spyglass/lib/python3.10/site-packages/spikeinterface/core/base.py:1038: UserWarning: Versions are not the same. This might lead to compatibility errors. Using spikeinterface==0.98.2 is recommended\n",
      "  warnings.warn(\n"
     ]
    }
   ],
   "source": [
    "# need to get theta_df, ripple_df, neural_df\n",
    "(epoch_name,_,decode_ss,\n",
    " head_speed,head_orientation,linear_position_df,\n",
    " lfp_df,theta_df,ripple_df,neural_df,_) = load_epoch_data(nwb_copy_file_name,epoch_num,\n",
    "                                                          key_ss[\"classifier_param_name\"],\n",
    "                                                          encoding_set)\n",
    "\n"
   ]
  },
  {
   "cell_type": "code",
   "execution_count": 110,
   "id": "a778869a-0a50-4160-8c13-37999c63d27d",
   "metadata": {},
   "outputs": [],
   "source": [
    "# MUA\n",
    "mua_path=(MUA & {'nwb_file_name': nwb_copy_file_name,\n",
    "                 'interval_list_name':session_name}).fetch1('mua_trace')\n",
    "mua_xr = xr.open_dataset(mua_path)\n",
    "if decode_threshold_method == 'MUA_0SD':\n",
    "    mua_threshold=(MUA & {'nwb_file_name': nwb_copy_file_name,\n",
    "                 'interval_list_name':session_name}).fetch1('mean')\n",
    "elif decode_threshold_method == 'MUA_05SD':\n",
    "    mua_threshold = (MUA & {'nwb_file_name': nwb_copy_file_name,\n",
    "                 'interval_list_name':session_name}).fetch1('mean') + 0.5 * (MUA & {'nwb_file_name': nwb_copy_file_name,\n",
    "                 'interval_list_name':session_name}).fetch1('sd')\n",
    "elif decode_threshold_method == 'MUA_M05SD':\n",
    "    mua_threshold = (MUA & {'nwb_file_name': nwb_copy_file_name,\n",
    "                 'interval_list_name':session_name}).fetch1('mean') - 0.5 * (MUA & {'nwb_file_name': nwb_copy_file_name,\n",
    "                 'interval_list_name':session_name}).fetch1('sd')\n",
    "else:\n",
    "    mua_threshold = 0\n",
    "\n",
    "## find tetrodes with signal\n",
    "groups_with_cell=(SpikeSortingRecordingSelection & {\n",
    "        'nwb_file_name' : nwb_copy_file_name}).fetch('sort_group_id')\n",
    "groups_with_cell=np.setdiff1d(groups_with_cell,[100,101])\n",
    "channel_IDs = list(neural_df.keys())\n",
    "    \n",
    "spikeColInd = {}\n",
    "for g in groups_with_cell:\n",
    "    spikeColInd_ = np.argwhere(np.isin(channel_IDs,(Electrode() &  {'nwb_file_name' : nwb_copy_file_name,\n",
    "                                                     'electrode_group_name':str(g)}).fetch('electrode_id'))).ravel()\n",
    "    spikeColInd[g] = spikeColInd_"
   ]
  },
  {
   "cell_type": "code",
   "execution_count": 111,
   "id": "0ffbeabf-9d6f-4856-ac9d-689c7ab88cf7",
   "metadata": {},
   "outputs": [],
   "source": [
    "# Pre-make result directory:\n",
    "decoding_path = (DecodeResultsLinear() & key_lk).fetch('posterior')[0]\n",
    "savefolder_ss = os.path.join(os.path.split(decoding_path)[0],nwb_file_name,'SWR',epoch_name,'statespace')\n",
    "savefolder_lk = os.path.join(os.path.split(decoding_path)[0],nwb_file_name,'SWR',epoch_name,'likelihood')\n",
    "isExist = os.path.exists(savefolder_lk)\n",
    "if not isExist:\n",
    "    os.makedirs(savefolder_lk)\n",
    "\n",
    "isExist = os.path.exists(savefolder_ss)\n",
    "if not isExist:\n",
    "    os.makedirs(savefolder_ss)"
   ]
  },
  {
   "cell_type": "code",
   "execution_count": null,
   "id": "95e49b6f-6264-46cb-8f85-ec54057635ae",
   "metadata": {
    "scrolled": true
   },
   "outputs": [
    {
     "name": "stderr",
     "output_type": "stream",
     "text": [
      "/home/shijiegu/anaconda3/envs/spyglass/lib/python3.10/site-packages/ripple_detection/core.py:47: FutureWarning: Downcasting object dtype arrays on .fillna, .ffill, .bfill is deprecated and will change in a future version. Call result.infer_objects(copy=False) instead. To opt-in to the future behavior, set `pd.set_option('future.no_silent_downcasting', True)`\n",
      "  is_start_time = (~series.shift(1).fillna(False)) & series\n",
      "/home/shijiegu/anaconda3/envs/spyglass/lib/python3.10/site-packages/ripple_detection/core.py:50: FutureWarning: Downcasting object dtype arrays on .fillna, .ffill, .bfill is deprecated and will change in a future version. Call result.infer_objects(copy=False) instead. To opt-in to the future behavior, set `pd.set_option('future.no_silent_downcasting', True)`\n",
      "  is_end_time = series & (~series.shift(-1).fillna(False))\n",
      "/home/shijiegu/anaconda3/envs/spyglass/lib/python3.10/site-packages/ripple_detection/core.py:47: FutureWarning: Downcasting object dtype arrays on .fillna, .ffill, .bfill is deprecated and will change in a future version. Call result.infer_objects(copy=False) instead. To opt-in to the future behavior, set `pd.set_option('future.no_silent_downcasting', True)`\n",
      "  is_start_time = (~series.shift(1).fillna(False)) & series\n",
      "/home/shijiegu/anaconda3/envs/spyglass/lib/python3.10/site-packages/ripple_detection/core.py:50: FutureWarning: Downcasting object dtype arrays on .fillna, .ffill, .bfill is deprecated and will change in a future version. Call result.infer_objects(copy=False) instead. To opt-in to the future behavior, set `pd.set_option('future.no_silent_downcasting', True)`\n",
      "  is_end_time = series & (~series.shift(-1).fillna(False))\n",
      "/home/shijiegu/anaconda3/envs/spyglass/lib/python3.10/site-packages/ripple_detection/core.py:47: FutureWarning: Downcasting object dtype arrays on .fillna, .ffill, .bfill is deprecated and will change in a future version. Call result.infer_objects(copy=False) instead. To opt-in to the future behavior, set `pd.set_option('future.no_silent_downcasting', True)`\n",
      "  is_start_time = (~series.shift(1).fillna(False)) & series\n",
      "/home/shijiegu/anaconda3/envs/spyglass/lib/python3.10/site-packages/ripple_detection/core.py:50: FutureWarning: Downcasting object dtype arrays on .fillna, .ffill, .bfill is deprecated and will change in a future version. Call result.infer_objects(copy=False) instead. To opt-in to the future behavior, set `pd.set_option('future.no_silent_downcasting', True)`\n",
      "  is_end_time = series & (~series.shift(-1).fillna(False))\n",
      "/home/shijiegu/anaconda3/envs/spyglass/lib/python3.10/site-packages/ripple_detection/core.py:47: FutureWarning: Downcasting object dtype arrays on .fillna, .ffill, .bfill is deprecated and will change in a future version. Call result.infer_objects(copy=False) instead. To opt-in to the future behavior, set `pd.set_option('future.no_silent_downcasting', True)`\n",
      "  is_start_time = (~series.shift(1).fillna(False)) & series\n",
      "/home/shijiegu/anaconda3/envs/spyglass/lib/python3.10/site-packages/ripple_detection/core.py:50: FutureWarning: Downcasting object dtype arrays on .fillna, .ffill, .bfill is deprecated and will change in a future version. Call result.infer_objects(copy=False) instead. To opt-in to the future behavior, set `pd.set_option('future.no_silent_downcasting', True)`\n",
      "  is_end_time = series & (~series.shift(-1).fillna(False))\n",
      "/home/shijiegu/anaconda3/envs/spyglass/lib/python3.10/site-packages/ripple_detection/core.py:47: FutureWarning: Downcasting object dtype arrays on .fillna, .ffill, .bfill is deprecated and will change in a future version. Call result.infer_objects(copy=False) instead. To opt-in to the future behavior, set `pd.set_option('future.no_silent_downcasting', True)`\n",
      "  is_start_time = (~series.shift(1).fillna(False)) & series\n",
      "/home/shijiegu/anaconda3/envs/spyglass/lib/python3.10/site-packages/ripple_detection/core.py:50: FutureWarning: Downcasting object dtype arrays on .fillna, .ffill, .bfill is deprecated and will change in a future version. Call result.infer_objects(copy=False) instead. To opt-in to the future behavior, set `pd.set_option('future.no_silent_downcasting', True)`\n",
      "  is_end_time = series & (~series.shift(-1).fillna(False))\n",
      "/home/shijiegu/anaconda3/envs/spyglass/lib/python3.10/site-packages/ripple_detection/core.py:47: FutureWarning: Downcasting object dtype arrays on .fillna, .ffill, .bfill is deprecated and will change in a future version. Call result.infer_objects(copy=False) instead. To opt-in to the future behavior, set `pd.set_option('future.no_silent_downcasting', True)`\n",
      "  is_start_time = (~series.shift(1).fillna(False)) & series\n",
      "/home/shijiegu/anaconda3/envs/spyglass/lib/python3.10/site-packages/ripple_detection/core.py:50: FutureWarning: Downcasting object dtype arrays on .fillna, .ffill, .bfill is deprecated and will change in a future version. Call result.infer_objects(copy=False) instead. To opt-in to the future behavior, set `pd.set_option('future.no_silent_downcasting', True)`\n",
      "  is_end_time = series & (~series.shift(-1).fillna(False))\n",
      "/home/shijiegu/anaconda3/envs/spyglass/lib/python3.10/site-packages/ripple_detection/core.py:47: FutureWarning: Downcasting object dtype arrays on .fillna, .ffill, .bfill is deprecated and will change in a future version. Call result.infer_objects(copy=False) instead. To opt-in to the future behavior, set `pd.set_option('future.no_silent_downcasting', True)`\n",
      "  is_start_time = (~series.shift(1).fillna(False)) & series\n",
      "/home/shijiegu/anaconda3/envs/spyglass/lib/python3.10/site-packages/ripple_detection/core.py:50: FutureWarning: Downcasting object dtype arrays on .fillna, .ffill, .bfill is deprecated and will change in a future version. Call result.infer_objects(copy=False) instead. To opt-in to the future behavior, set `pd.set_option('future.no_silent_downcasting', True)`\n",
      "  is_end_time = series & (~series.shift(-1).fillna(False))\n",
      "/home/shijiegu/anaconda3/envs/spyglass/lib/python3.10/site-packages/ripple_detection/core.py:47: FutureWarning: Downcasting object dtype arrays on .fillna, .ffill, .bfill is deprecated and will change in a future version. Call result.infer_objects(copy=False) instead. To opt-in to the future behavior, set `pd.set_option('future.no_silent_downcasting', True)`\n",
      "  is_start_time = (~series.shift(1).fillna(False)) & series\n",
      "/home/shijiegu/anaconda3/envs/spyglass/lib/python3.10/site-packages/ripple_detection/core.py:50: FutureWarning: Downcasting object dtype arrays on .fillna, .ffill, .bfill is deprecated and will change in a future version. Call result.infer_objects(copy=False) instead. To opt-in to the future behavior, set `pd.set_option('future.no_silent_downcasting', True)`\n",
      "  is_end_time = series & (~series.shift(-1).fillna(False))\n",
      "/home/shijiegu/anaconda3/envs/spyglass/lib/python3.10/site-packages/ripple_detection/core.py:47: FutureWarning: Downcasting object dtype arrays on .fillna, .ffill, .bfill is deprecated and will change in a future version. Call result.infer_objects(copy=False) instead. To opt-in to the future behavior, set `pd.set_option('future.no_silent_downcasting', True)`\n",
      "  is_start_time = (~series.shift(1).fillna(False)) & series\n",
      "/home/shijiegu/anaconda3/envs/spyglass/lib/python3.10/site-packages/ripple_detection/core.py:50: FutureWarning: Downcasting object dtype arrays on .fillna, .ffill, .bfill is deprecated and will change in a future version. Call result.infer_objects(copy=False) instead. To opt-in to the future behavior, set `pd.set_option('future.no_silent_downcasting', True)`\n",
      "  is_end_time = series & (~series.shift(-1).fillna(False))\n",
      "/home/shijiegu/anaconda3/envs/spyglass/lib/python3.10/site-packages/ripple_detection/core.py:47: FutureWarning: Downcasting object dtype arrays on .fillna, .ffill, .bfill is deprecated and will change in a future version. Call result.infer_objects(copy=False) instead. To opt-in to the future behavior, set `pd.set_option('future.no_silent_downcasting', True)`\n",
      "  is_start_time = (~series.shift(1).fillna(False)) & series\n",
      "/home/shijiegu/anaconda3/envs/spyglass/lib/python3.10/site-packages/ripple_detection/core.py:50: FutureWarning: Downcasting object dtype arrays on .fillna, .ffill, .bfill is deprecated and will change in a future version. Call result.infer_objects(copy=False) instead. To opt-in to the future behavior, set `pd.set_option('future.no_silent_downcasting', True)`\n",
      "  is_end_time = series & (~series.shift(-1).fillna(False))\n"
     ]
    },
    {
     "name": "stdout",
     "output_type": "stream",
     "text": [
      "no ripples during this time. trial6_whole_trial_runninglewis20240109_02_Rev2Session1_likelihood\n"
     ]
    },
    {
     "name": "stderr",
     "output_type": "stream",
     "text": [
      "/home/shijiegu/anaconda3/envs/spyglass/lib/python3.10/site-packages/ripple_detection/core.py:47: FutureWarning: Downcasting object dtype arrays on .fillna, .ffill, .bfill is deprecated and will change in a future version. Call result.infer_objects(copy=False) instead. To opt-in to the future behavior, set `pd.set_option('future.no_silent_downcasting', True)`\n",
      "  is_start_time = (~series.shift(1).fillna(False)) & series\n",
      "/home/shijiegu/anaconda3/envs/spyglass/lib/python3.10/site-packages/ripple_detection/core.py:50: FutureWarning: Downcasting object dtype arrays on .fillna, .ffill, .bfill is deprecated and will change in a future version. Call result.infer_objects(copy=False) instead. To opt-in to the future behavior, set `pd.set_option('future.no_silent_downcasting', True)`\n",
      "  is_end_time = series & (~series.shift(-1).fillna(False))\n"
     ]
    },
    {
     "name": "stdout",
     "output_type": "stream",
     "text": [
      "no ripples during this time. trial6_whole_trial_runninglewis20240109_02_Rev2Session1_statespace\n"
     ]
    },
    {
     "name": "stderr",
     "output_type": "stream",
     "text": [
      "/home/shijiegu/anaconda3/envs/spyglass/lib/python3.10/site-packages/ripple_detection/core.py:47: FutureWarning: Downcasting object dtype arrays on .fillna, .ffill, .bfill is deprecated and will change in a future version. Call result.infer_objects(copy=False) instead. To opt-in to the future behavior, set `pd.set_option('future.no_silent_downcasting', True)`\n",
      "  is_start_time = (~series.shift(1).fillna(False)) & series\n",
      "/home/shijiegu/anaconda3/envs/spyglass/lib/python3.10/site-packages/ripple_detection/core.py:50: FutureWarning: Downcasting object dtype arrays on .fillna, .ffill, .bfill is deprecated and will change in a future version. Call result.infer_objects(copy=False) instead. To opt-in to the future behavior, set `pd.set_option('future.no_silent_downcasting', True)`\n",
      "  is_end_time = series & (~series.shift(-1).fillna(False))\n",
      "/home/shijiegu/anaconda3/envs/spyglass/lib/python3.10/site-packages/ripple_detection/core.py:47: FutureWarning: Downcasting object dtype arrays on .fillna, .ffill, .bfill is deprecated and will change in a future version. Call result.infer_objects(copy=False) instead. To opt-in to the future behavior, set `pd.set_option('future.no_silent_downcasting', True)`\n",
      "  is_start_time = (~series.shift(1).fillna(False)) & series\n",
      "/home/shijiegu/anaconda3/envs/spyglass/lib/python3.10/site-packages/ripple_detection/core.py:50: FutureWarning: Downcasting object dtype arrays on .fillna, .ffill, .bfill is deprecated and will change in a future version. Call result.infer_objects(copy=False) instead. To opt-in to the future behavior, set `pd.set_option('future.no_silent_downcasting', True)`\n",
      "  is_end_time = series & (~series.shift(-1).fillna(False))\n",
      "/home/shijiegu/anaconda3/envs/spyglass/lib/python3.10/site-packages/ripple_detection/core.py:47: FutureWarning: Downcasting object dtype arrays on .fillna, .ffill, .bfill is deprecated and will change in a future version. Call result.infer_objects(copy=False) instead. To opt-in to the future behavior, set `pd.set_option('future.no_silent_downcasting', True)`\n",
      "  is_start_time = (~series.shift(1).fillna(False)) & series\n",
      "/home/shijiegu/anaconda3/envs/spyglass/lib/python3.10/site-packages/ripple_detection/core.py:50: FutureWarning: Downcasting object dtype arrays on .fillna, .ffill, .bfill is deprecated and will change in a future version. Call result.infer_objects(copy=False) instead. To opt-in to the future behavior, set `pd.set_option('future.no_silent_downcasting', True)`\n",
      "  is_end_time = series & (~series.shift(-1).fillna(False))\n",
      "/home/shijiegu/anaconda3/envs/spyglass/lib/python3.10/site-packages/ripple_detection/core.py:47: FutureWarning: Downcasting object dtype arrays on .fillna, .ffill, .bfill is deprecated and will change in a future version. Call result.infer_objects(copy=False) instead. To opt-in to the future behavior, set `pd.set_option('future.no_silent_downcasting', True)`\n",
      "  is_start_time = (~series.shift(1).fillna(False)) & series\n",
      "/home/shijiegu/anaconda3/envs/spyglass/lib/python3.10/site-packages/ripple_detection/core.py:50: FutureWarning: Downcasting object dtype arrays on .fillna, .ffill, .bfill is deprecated and will change in a future version. Call result.infer_objects(copy=False) instead. To opt-in to the future behavior, set `pd.set_option('future.no_silent_downcasting', True)`\n",
      "  is_end_time = series & (~series.shift(-1).fillna(False))\n",
      "/home/shijiegu/anaconda3/envs/spyglass/lib/python3.10/site-packages/ripple_detection/core.py:47: FutureWarning: Downcasting object dtype arrays on .fillna, .ffill, .bfill is deprecated and will change in a future version. Call result.infer_objects(copy=False) instead. To opt-in to the future behavior, set `pd.set_option('future.no_silent_downcasting', True)`\n",
      "  is_start_time = (~series.shift(1).fillna(False)) & series\n",
      "/home/shijiegu/anaconda3/envs/spyglass/lib/python3.10/site-packages/ripple_detection/core.py:50: FutureWarning: Downcasting object dtype arrays on .fillna, .ffill, .bfill is deprecated and will change in a future version. Call result.infer_objects(copy=False) instead. To opt-in to the future behavior, set `pd.set_option('future.no_silent_downcasting', True)`\n",
      "  is_end_time = series & (~series.shift(-1).fillna(False))\n",
      "/home/shijiegu/anaconda3/envs/spyglass/lib/python3.10/site-packages/ripple_detection/core.py:47: FutureWarning: Downcasting object dtype arrays on .fillna, .ffill, .bfill is deprecated and will change in a future version. Call result.infer_objects(copy=False) instead. To opt-in to the future behavior, set `pd.set_option('future.no_silent_downcasting', True)`\n",
      "  is_start_time = (~series.shift(1).fillna(False)) & series\n",
      "/home/shijiegu/anaconda3/envs/spyglass/lib/python3.10/site-packages/ripple_detection/core.py:50: FutureWarning: Downcasting object dtype arrays on .fillna, .ffill, .bfill is deprecated and will change in a future version. Call result.infer_objects(copy=False) instead. To opt-in to the future behavior, set `pd.set_option('future.no_silent_downcasting', True)`\n",
      "  is_end_time = series & (~series.shift(-1).fillna(False))\n"
     ]
    },
    {
     "name": "stdout",
     "output_type": "stream",
     "text": [
      "no ripples during this time. trial9_whole_trial_runninglewis20240109_02_Rev2Session1_likelihood\n"
     ]
    },
    {
     "name": "stderr",
     "output_type": "stream",
     "text": [
      "/home/shijiegu/anaconda3/envs/spyglass/lib/python3.10/site-packages/ripple_detection/core.py:47: FutureWarning: Downcasting object dtype arrays on .fillna, .ffill, .bfill is deprecated and will change in a future version. Call result.infer_objects(copy=False) instead. To opt-in to the future behavior, set `pd.set_option('future.no_silent_downcasting', True)`\n",
      "  is_start_time = (~series.shift(1).fillna(False)) & series\n",
      "/home/shijiegu/anaconda3/envs/spyglass/lib/python3.10/site-packages/ripple_detection/core.py:50: FutureWarning: Downcasting object dtype arrays on .fillna, .ffill, .bfill is deprecated and will change in a future version. Call result.infer_objects(copy=False) instead. To opt-in to the future behavior, set `pd.set_option('future.no_silent_downcasting', True)`\n",
      "  is_end_time = series & (~series.shift(-1).fillna(False))\n"
     ]
    },
    {
     "name": "stdout",
     "output_type": "stream",
     "text": [
      "no ripples during this time. trial9_whole_trial_runninglewis20240109_02_Rev2Session1_statespace\n"
     ]
    },
    {
     "name": "stderr",
     "output_type": "stream",
     "text": [
      "/home/shijiegu/anaconda3/envs/spyglass/lib/python3.10/site-packages/ripple_detection/core.py:47: FutureWarning: Downcasting object dtype arrays on .fillna, .ffill, .bfill is deprecated and will change in a future version. Call result.infer_objects(copy=False) instead. To opt-in to the future behavior, set `pd.set_option('future.no_silent_downcasting', True)`\n",
      "  is_start_time = (~series.shift(1).fillna(False)) & series\n",
      "/home/shijiegu/anaconda3/envs/spyglass/lib/python3.10/site-packages/ripple_detection/core.py:50: FutureWarning: Downcasting object dtype arrays on .fillna, .ffill, .bfill is deprecated and will change in a future version. Call result.infer_objects(copy=False) instead. To opt-in to the future behavior, set `pd.set_option('future.no_silent_downcasting', True)`\n",
      "  is_end_time = series & (~series.shift(-1).fillna(False))\n",
      "/home/shijiegu/anaconda3/envs/spyglass/lib/python3.10/site-packages/ripple_detection/core.py:47: FutureWarning: Downcasting object dtype arrays on .fillna, .ffill, .bfill is deprecated and will change in a future version. Call result.infer_objects(copy=False) instead. To opt-in to the future behavior, set `pd.set_option('future.no_silent_downcasting', True)`\n",
      "  is_start_time = (~series.shift(1).fillna(False)) & series\n",
      "/home/shijiegu/anaconda3/envs/spyglass/lib/python3.10/site-packages/ripple_detection/core.py:50: FutureWarning: Downcasting object dtype arrays on .fillna, .ffill, .bfill is deprecated and will change in a future version. Call result.infer_objects(copy=False) instead. To opt-in to the future behavior, set `pd.set_option('future.no_silent_downcasting', True)`\n",
      "  is_end_time = series & (~series.shift(-1).fillna(False))\n",
      "/home/shijiegu/Documents/spyglass/src/spyglass/shijiegu/ripple_add_replay.py:517: RuntimeWarning: More than 20 figures have been opened. Figures created through the pyplot interface (`matplotlib.pyplot.figure`) are retained until explicitly closed and may consume too much memory. (To control this warning, see the rcParam `figure.max_open_warning`). Consider using `matplotlib.pyplot.close()`.\n",
      "  fig, axes = plt.subplots(6, 1, figsize=(18, 12), sharex=True,\n",
      "/home/shijiegu/anaconda3/envs/spyglass/lib/python3.10/site-packages/ripple_detection/core.py:47: FutureWarning: Downcasting object dtype arrays on .fillna, .ffill, .bfill is deprecated and will change in a future version. Call result.infer_objects(copy=False) instead. To opt-in to the future behavior, set `pd.set_option('future.no_silent_downcasting', True)`\n",
      "  is_start_time = (~series.shift(1).fillna(False)) & series\n",
      "/home/shijiegu/anaconda3/envs/spyglass/lib/python3.10/site-packages/ripple_detection/core.py:50: FutureWarning: Downcasting object dtype arrays on .fillna, .ffill, .bfill is deprecated and will change in a future version. Call result.infer_objects(copy=False) instead. To opt-in to the future behavior, set `pd.set_option('future.no_silent_downcasting', True)`\n",
      "  is_end_time = series & (~series.shift(-1).fillna(False))\n",
      "/home/shijiegu/anaconda3/envs/spyglass/lib/python3.10/site-packages/ripple_detection/core.py:47: FutureWarning: Downcasting object dtype arrays on .fillna, .ffill, .bfill is deprecated and will change in a future version. Call result.infer_objects(copy=False) instead. To opt-in to the future behavior, set `pd.set_option('future.no_silent_downcasting', True)`\n",
      "  is_start_time = (~series.shift(1).fillna(False)) & series\n",
      "/home/shijiegu/anaconda3/envs/spyglass/lib/python3.10/site-packages/ripple_detection/core.py:50: FutureWarning: Downcasting object dtype arrays on .fillna, .ffill, .bfill is deprecated and will change in a future version. Call result.infer_objects(copy=False) instead. To opt-in to the future behavior, set `pd.set_option('future.no_silent_downcasting', True)`\n",
      "  is_end_time = series & (~series.shift(-1).fillna(False))\n",
      "/home/shijiegu/anaconda3/envs/spyglass/lib/python3.10/site-packages/ripple_detection/core.py:47: FutureWarning: Downcasting object dtype arrays on .fillna, .ffill, .bfill is deprecated and will change in a future version. Call result.infer_objects(copy=False) instead. To opt-in to the future behavior, set `pd.set_option('future.no_silent_downcasting', True)`\n",
      "  is_start_time = (~series.shift(1).fillna(False)) & series\n",
      "/home/shijiegu/anaconda3/envs/spyglass/lib/python3.10/site-packages/ripple_detection/core.py:50: FutureWarning: Downcasting object dtype arrays on .fillna, .ffill, .bfill is deprecated and will change in a future version. Call result.infer_objects(copy=False) instead. To opt-in to the future behavior, set `pd.set_option('future.no_silent_downcasting', True)`\n",
      "  is_end_time = series & (~series.shift(-1).fillna(False))\n",
      "/home/shijiegu/anaconda3/envs/spyglass/lib/python3.10/site-packages/ripple_detection/core.py:47: FutureWarning: Downcasting object dtype arrays on .fillna, .ffill, .bfill is deprecated and will change in a future version. Call result.infer_objects(copy=False) instead. To opt-in to the future behavior, set `pd.set_option('future.no_silent_downcasting', True)`\n",
      "  is_start_time = (~series.shift(1).fillna(False)) & series\n",
      "/home/shijiegu/anaconda3/envs/spyglass/lib/python3.10/site-packages/ripple_detection/core.py:50: FutureWarning: Downcasting object dtype arrays on .fillna, .ffill, .bfill is deprecated and will change in a future version. Call result.infer_objects(copy=False) instead. To opt-in to the future behavior, set `pd.set_option('future.no_silent_downcasting', True)`\n",
      "  is_end_time = series & (~series.shift(-1).fillna(False))\n",
      "/home/shijiegu/anaconda3/envs/spyglass/lib/python3.10/site-packages/ripple_detection/core.py:47: FutureWarning: Downcasting object dtype arrays on .fillna, .ffill, .bfill is deprecated and will change in a future version. Call result.infer_objects(copy=False) instead. To opt-in to the future behavior, set `pd.set_option('future.no_silent_downcasting', True)`\n",
      "  is_start_time = (~series.shift(1).fillna(False)) & series\n",
      "/home/shijiegu/anaconda3/envs/spyglass/lib/python3.10/site-packages/ripple_detection/core.py:50: FutureWarning: Downcasting object dtype arrays on .fillna, .ffill, .bfill is deprecated and will change in a future version. Call result.infer_objects(copy=False) instead. To opt-in to the future behavior, set `pd.set_option('future.no_silent_downcasting', True)`\n",
      "  is_end_time = series & (~series.shift(-1).fillna(False))\n",
      "/home/shijiegu/anaconda3/envs/spyglass/lib/python3.10/site-packages/ripple_detection/core.py:47: FutureWarning: Downcasting object dtype arrays on .fillna, .ffill, .bfill is deprecated and will change in a future version. Call result.infer_objects(copy=False) instead. To opt-in to the future behavior, set `pd.set_option('future.no_silent_downcasting', True)`\n",
      "  is_start_time = (~series.shift(1).fillna(False)) & series\n",
      "/home/shijiegu/anaconda3/envs/spyglass/lib/python3.10/site-packages/ripple_detection/core.py:50: FutureWarning: Downcasting object dtype arrays on .fillna, .ffill, .bfill is deprecated and will change in a future version. Call result.infer_objects(copy=False) instead. To opt-in to the future behavior, set `pd.set_option('future.no_silent_downcasting', True)`\n",
      "  is_end_time = series & (~series.shift(-1).fillna(False))\n",
      "/home/shijiegu/anaconda3/envs/spyglass/lib/python3.10/site-packages/ripple_detection/core.py:47: FutureWarning: Downcasting object dtype arrays on .fillna, .ffill, .bfill is deprecated and will change in a future version. Call result.infer_objects(copy=False) instead. To opt-in to the future behavior, set `pd.set_option('future.no_silent_downcasting', True)`\n",
      "  is_start_time = (~series.shift(1).fillna(False)) & series\n",
      "/home/shijiegu/anaconda3/envs/spyglass/lib/python3.10/site-packages/ripple_detection/core.py:50: FutureWarning: Downcasting object dtype arrays on .fillna, .ffill, .bfill is deprecated and will change in a future version. Call result.infer_objects(copy=False) instead. To opt-in to the future behavior, set `pd.set_option('future.no_silent_downcasting', True)`\n",
      "  is_end_time = series & (~series.shift(-1).fillna(False))\n"
     ]
    },
    {
     "name": "stdout",
     "output_type": "stream",
     "text": [
      "no ripples during this time. trial10_whole_trial_runninglewis20240109_02_Rev2Session1_likelihood\n"
     ]
    },
    {
     "name": "stderr",
     "output_type": "stream",
     "text": [
      "/home/shijiegu/anaconda3/envs/spyglass/lib/python3.10/site-packages/ripple_detection/core.py:47: FutureWarning: Downcasting object dtype arrays on .fillna, .ffill, .bfill is deprecated and will change in a future version. Call result.infer_objects(copy=False) instead. To opt-in to the future behavior, set `pd.set_option('future.no_silent_downcasting', True)`\n",
      "  is_start_time = (~series.shift(1).fillna(False)) & series\n",
      "/home/shijiegu/anaconda3/envs/spyglass/lib/python3.10/site-packages/ripple_detection/core.py:50: FutureWarning: Downcasting object dtype arrays on .fillna, .ffill, .bfill is deprecated and will change in a future version. Call result.infer_objects(copy=False) instead. To opt-in to the future behavior, set `pd.set_option('future.no_silent_downcasting', True)`\n",
      "  is_end_time = series & (~series.shift(-1).fillna(False))\n"
     ]
    },
    {
     "name": "stdout",
     "output_type": "stream",
     "text": [
      "no ripples during this time. trial10_whole_trial_runninglewis20240109_02_Rev2Session1_statespace\n"
     ]
    },
    {
     "name": "stderr",
     "output_type": "stream",
     "text": [
      "/home/shijiegu/anaconda3/envs/spyglass/lib/python3.10/site-packages/ripple_detection/core.py:47: FutureWarning: Downcasting object dtype arrays on .fillna, .ffill, .bfill is deprecated and will change in a future version. Call result.infer_objects(copy=False) instead. To opt-in to the future behavior, set `pd.set_option('future.no_silent_downcasting', True)`\n",
      "  is_start_time = (~series.shift(1).fillna(False)) & series\n",
      "/home/shijiegu/anaconda3/envs/spyglass/lib/python3.10/site-packages/ripple_detection/core.py:50: FutureWarning: Downcasting object dtype arrays on .fillna, .ffill, .bfill is deprecated and will change in a future version. Call result.infer_objects(copy=False) instead. To opt-in to the future behavior, set `pd.set_option('future.no_silent_downcasting', True)`\n",
      "  is_end_time = series & (~series.shift(-1).fillna(False))\n",
      "/home/shijiegu/anaconda3/envs/spyglass/lib/python3.10/site-packages/ripple_detection/core.py:47: FutureWarning: Downcasting object dtype arrays on .fillna, .ffill, .bfill is deprecated and will change in a future version. Call result.infer_objects(copy=False) instead. To opt-in to the future behavior, set `pd.set_option('future.no_silent_downcasting', True)`\n",
      "  is_start_time = (~series.shift(1).fillna(False)) & series\n",
      "/home/shijiegu/anaconda3/envs/spyglass/lib/python3.10/site-packages/ripple_detection/core.py:50: FutureWarning: Downcasting object dtype arrays on .fillna, .ffill, .bfill is deprecated and will change in a future version. Call result.infer_objects(copy=False) instead. To opt-in to the future behavior, set `pd.set_option('future.no_silent_downcasting', True)`\n",
      "  is_end_time = series & (~series.shift(-1).fillna(False))\n",
      "/home/shijiegu/anaconda3/envs/spyglass/lib/python3.10/site-packages/ripple_detection/core.py:47: FutureWarning: Downcasting object dtype arrays on .fillna, .ffill, .bfill is deprecated and will change in a future version. Call result.infer_objects(copy=False) instead. To opt-in to the future behavior, set `pd.set_option('future.no_silent_downcasting', True)`\n",
      "  is_start_time = (~series.shift(1).fillna(False)) & series\n",
      "/home/shijiegu/anaconda3/envs/spyglass/lib/python3.10/site-packages/ripple_detection/core.py:50: FutureWarning: Downcasting object dtype arrays on .fillna, .ffill, .bfill is deprecated and will change in a future version. Call result.infer_objects(copy=False) instead. To opt-in to the future behavior, set `pd.set_option('future.no_silent_downcasting', True)`\n",
      "  is_end_time = series & (~series.shift(-1).fillna(False))\n",
      "/home/shijiegu/anaconda3/envs/spyglass/lib/python3.10/site-packages/ripple_detection/core.py:47: FutureWarning: Downcasting object dtype arrays on .fillna, .ffill, .bfill is deprecated and will change in a future version. Call result.infer_objects(copy=False) instead. To opt-in to the future behavior, set `pd.set_option('future.no_silent_downcasting', True)`\n",
      "  is_start_time = (~series.shift(1).fillna(False)) & series\n",
      "/home/shijiegu/anaconda3/envs/spyglass/lib/python3.10/site-packages/ripple_detection/core.py:50: FutureWarning: Downcasting object dtype arrays on .fillna, .ffill, .bfill is deprecated and will change in a future version. Call result.infer_objects(copy=False) instead. To opt-in to the future behavior, set `pd.set_option('future.no_silent_downcasting', True)`\n",
      "  is_end_time = series & (~series.shift(-1).fillna(False))\n",
      "/home/shijiegu/anaconda3/envs/spyglass/lib/python3.10/site-packages/ripple_detection/core.py:47: FutureWarning: Downcasting object dtype arrays on .fillna, .ffill, .bfill is deprecated and will change in a future version. Call result.infer_objects(copy=False) instead. To opt-in to the future behavior, set `pd.set_option('future.no_silent_downcasting', True)`\n",
      "  is_start_time = (~series.shift(1).fillna(False)) & series\n",
      "/home/shijiegu/anaconda3/envs/spyglass/lib/python3.10/site-packages/ripple_detection/core.py:50: FutureWarning: Downcasting object dtype arrays on .fillna, .ffill, .bfill is deprecated and will change in a future version. Call result.infer_objects(copy=False) instead. To opt-in to the future behavior, set `pd.set_option('future.no_silent_downcasting', True)`\n",
      "  is_end_time = series & (~series.shift(-1).fillna(False))\n",
      "/home/shijiegu/anaconda3/envs/spyglass/lib/python3.10/site-packages/ripple_detection/core.py:47: FutureWarning: Downcasting object dtype arrays on .fillna, .ffill, .bfill is deprecated and will change in a future version. Call result.infer_objects(copy=False) instead. To opt-in to the future behavior, set `pd.set_option('future.no_silent_downcasting', True)`\n",
      "  is_start_time = (~series.shift(1).fillna(False)) & series\n",
      "/home/shijiegu/anaconda3/envs/spyglass/lib/python3.10/site-packages/ripple_detection/core.py:50: FutureWarning: Downcasting object dtype arrays on .fillna, .ffill, .bfill is deprecated and will change in a future version. Call result.infer_objects(copy=False) instead. To opt-in to the future behavior, set `pd.set_option('future.no_silent_downcasting', True)`\n",
      "  is_end_time = series & (~series.shift(-1).fillna(False))\n"
     ]
    },
    {
     "name": "stdout",
     "output_type": "stream",
     "text": [
      "no ripples during this time. trial11_whole_trial_runninglewis20240109_02_Rev2Session1_likelihood\n"
     ]
    },
    {
     "name": "stderr",
     "output_type": "stream",
     "text": [
      "/home/shijiegu/anaconda3/envs/spyglass/lib/python3.10/site-packages/ripple_detection/core.py:47: FutureWarning: Downcasting object dtype arrays on .fillna, .ffill, .bfill is deprecated and will change in a future version. Call result.infer_objects(copy=False) instead. To opt-in to the future behavior, set `pd.set_option('future.no_silent_downcasting', True)`\n",
      "  is_start_time = (~series.shift(1).fillna(False)) & series\n",
      "/home/shijiegu/anaconda3/envs/spyglass/lib/python3.10/site-packages/ripple_detection/core.py:50: FutureWarning: Downcasting object dtype arrays on .fillna, .ffill, .bfill is deprecated and will change in a future version. Call result.infer_objects(copy=False) instead. To opt-in to the future behavior, set `pd.set_option('future.no_silent_downcasting', True)`\n",
      "  is_end_time = series & (~series.shift(-1).fillna(False))\n"
     ]
    },
    {
     "name": "stdout",
     "output_type": "stream",
     "text": [
      "no ripples during this time. trial11_whole_trial_runninglewis20240109_02_Rev2Session1_statespace\n"
     ]
    },
    {
     "name": "stderr",
     "output_type": "stream",
     "text": [
      "/home/shijiegu/anaconda3/envs/spyglass/lib/python3.10/site-packages/ripple_detection/core.py:47: FutureWarning: Downcasting object dtype arrays on .fillna, .ffill, .bfill is deprecated and will change in a future version. Call result.infer_objects(copy=False) instead. To opt-in to the future behavior, set `pd.set_option('future.no_silent_downcasting', True)`\n",
      "  is_start_time = (~series.shift(1).fillna(False)) & series\n",
      "/home/shijiegu/anaconda3/envs/spyglass/lib/python3.10/site-packages/ripple_detection/core.py:50: FutureWarning: Downcasting object dtype arrays on .fillna, .ffill, .bfill is deprecated and will change in a future version. Call result.infer_objects(copy=False) instead. To opt-in to the future behavior, set `pd.set_option('future.no_silent_downcasting', True)`\n",
      "  is_end_time = series & (~series.shift(-1).fillna(False))\n",
      "/home/shijiegu/anaconda3/envs/spyglass/lib/python3.10/site-packages/ripple_detection/core.py:47: FutureWarning: Downcasting object dtype arrays on .fillna, .ffill, .bfill is deprecated and will change in a future version. Call result.infer_objects(copy=False) instead. To opt-in to the future behavior, set `pd.set_option('future.no_silent_downcasting', True)`\n",
      "  is_start_time = (~series.shift(1).fillna(False)) & series\n",
      "/home/shijiegu/anaconda3/envs/spyglass/lib/python3.10/site-packages/ripple_detection/core.py:50: FutureWarning: Downcasting object dtype arrays on .fillna, .ffill, .bfill is deprecated and will change in a future version. Call result.infer_objects(copy=False) instead. To opt-in to the future behavior, set `pd.set_option('future.no_silent_downcasting', True)`\n",
      "  is_end_time = series & (~series.shift(-1).fillna(False))\n",
      "/home/shijiegu/anaconda3/envs/spyglass/lib/python3.10/site-packages/ripple_detection/core.py:47: FutureWarning: Downcasting object dtype arrays on .fillna, .ffill, .bfill is deprecated and will change in a future version. Call result.infer_objects(copy=False) instead. To opt-in to the future behavior, set `pd.set_option('future.no_silent_downcasting', True)`\n",
      "  is_start_time = (~series.shift(1).fillna(False)) & series\n",
      "/home/shijiegu/anaconda3/envs/spyglass/lib/python3.10/site-packages/ripple_detection/core.py:50: FutureWarning: Downcasting object dtype arrays on .fillna, .ffill, .bfill is deprecated and will change in a future version. Call result.infer_objects(copy=False) instead. To opt-in to the future behavior, set `pd.set_option('future.no_silent_downcasting', True)`\n",
      "  is_end_time = series & (~series.shift(-1).fillna(False))\n",
      "/home/shijiegu/anaconda3/envs/spyglass/lib/python3.10/site-packages/ripple_detection/core.py:47: FutureWarning: Downcasting object dtype arrays on .fillna, .ffill, .bfill is deprecated and will change in a future version. Call result.infer_objects(copy=False) instead. To opt-in to the future behavior, set `pd.set_option('future.no_silent_downcasting', True)`\n",
      "  is_start_time = (~series.shift(1).fillna(False)) & series\n",
      "/home/shijiegu/anaconda3/envs/spyglass/lib/python3.10/site-packages/ripple_detection/core.py:50: FutureWarning: Downcasting object dtype arrays on .fillna, .ffill, .bfill is deprecated and will change in a future version. Call result.infer_objects(copy=False) instead. To opt-in to the future behavior, set `pd.set_option('future.no_silent_downcasting', True)`\n",
      "  is_end_time = series & (~series.shift(-1).fillna(False))\n",
      "/home/shijiegu/anaconda3/envs/spyglass/lib/python3.10/site-packages/ripple_detection/core.py:47: FutureWarning: Downcasting object dtype arrays on .fillna, .ffill, .bfill is deprecated and will change in a future version. Call result.infer_objects(copy=False) instead. To opt-in to the future behavior, set `pd.set_option('future.no_silent_downcasting', True)`\n",
      "  is_start_time = (~series.shift(1).fillna(False)) & series\n",
      "/home/shijiegu/anaconda3/envs/spyglass/lib/python3.10/site-packages/ripple_detection/core.py:50: FutureWarning: Downcasting object dtype arrays on .fillna, .ffill, .bfill is deprecated and will change in a future version. Call result.infer_objects(copy=False) instead. To opt-in to the future behavior, set `pd.set_option('future.no_silent_downcasting', True)`\n",
      "  is_end_time = series & (~series.shift(-1).fillna(False))\n",
      "/home/shijiegu/anaconda3/envs/spyglass/lib/python3.10/site-packages/ripple_detection/core.py:47: FutureWarning: Downcasting object dtype arrays on .fillna, .ffill, .bfill is deprecated and will change in a future version. Call result.infer_objects(copy=False) instead. To opt-in to the future behavior, set `pd.set_option('future.no_silent_downcasting', True)`\n",
      "  is_start_time = (~series.shift(1).fillna(False)) & series\n",
      "/home/shijiegu/anaconda3/envs/spyglass/lib/python3.10/site-packages/ripple_detection/core.py:50: FutureWarning: Downcasting object dtype arrays on .fillna, .ffill, .bfill is deprecated and will change in a future version. Call result.infer_objects(copy=False) instead. To opt-in to the future behavior, set `pd.set_option('future.no_silent_downcasting', True)`\n",
      "  is_end_time = series & (~series.shift(-1).fillna(False))\n",
      "/home/shijiegu/anaconda3/envs/spyglass/lib/python3.10/site-packages/ripple_detection/core.py:47: FutureWarning: Downcasting object dtype arrays on .fillna, .ffill, .bfill is deprecated and will change in a future version. Call result.infer_objects(copy=False) instead. To opt-in to the future behavior, set `pd.set_option('future.no_silent_downcasting', True)`\n",
      "  is_start_time = (~series.shift(1).fillna(False)) & series\n",
      "/home/shijiegu/anaconda3/envs/spyglass/lib/python3.10/site-packages/ripple_detection/core.py:50: FutureWarning: Downcasting object dtype arrays on .fillna, .ffill, .bfill is deprecated and will change in a future version. Call result.infer_objects(copy=False) instead. To opt-in to the future behavior, set `pd.set_option('future.no_silent_downcasting', True)`\n",
      "  is_end_time = series & (~series.shift(-1).fillna(False))\n",
      "/home/shijiegu/anaconda3/envs/spyglass/lib/python3.10/site-packages/ripple_detection/core.py:47: FutureWarning: Downcasting object dtype arrays on .fillna, .ffill, .bfill is deprecated and will change in a future version. Call result.infer_objects(copy=False) instead. To opt-in to the future behavior, set `pd.set_option('future.no_silent_downcasting', True)`\n",
      "  is_start_time = (~series.shift(1).fillna(False)) & series\n",
      "/home/shijiegu/anaconda3/envs/spyglass/lib/python3.10/site-packages/ripple_detection/core.py:50: FutureWarning: Downcasting object dtype arrays on .fillna, .ffill, .bfill is deprecated and will change in a future version. Call result.infer_objects(copy=False) instead. To opt-in to the future behavior, set `pd.set_option('future.no_silent_downcasting', True)`\n",
      "  is_end_time = series & (~series.shift(-1).fillna(False))\n",
      "/home/shijiegu/anaconda3/envs/spyglass/lib/python3.10/site-packages/ripple_detection/core.py:47: FutureWarning: Downcasting object dtype arrays on .fillna, .ffill, .bfill is deprecated and will change in a future version. Call result.infer_objects(copy=False) instead. To opt-in to the future behavior, set `pd.set_option('future.no_silent_downcasting', True)`\n",
      "  is_start_time = (~series.shift(1).fillna(False)) & series\n",
      "/home/shijiegu/anaconda3/envs/spyglass/lib/python3.10/site-packages/ripple_detection/core.py:50: FutureWarning: Downcasting object dtype arrays on .fillna, .ffill, .bfill is deprecated and will change in a future version. Call result.infer_objects(copy=False) instead. To opt-in to the future behavior, set `pd.set_option('future.no_silent_downcasting', True)`\n",
      "  is_end_time = series & (~series.shift(-1).fillna(False))\n",
      "/home/shijiegu/anaconda3/envs/spyglass/lib/python3.10/site-packages/ripple_detection/core.py:47: FutureWarning: Downcasting object dtype arrays on .fillna, .ffill, .bfill is deprecated and will change in a future version. Call result.infer_objects(copy=False) instead. To opt-in to the future behavior, set `pd.set_option('future.no_silent_downcasting', True)`\n",
      "  is_start_time = (~series.shift(1).fillna(False)) & series\n",
      "/home/shijiegu/anaconda3/envs/spyglass/lib/python3.10/site-packages/ripple_detection/core.py:50: FutureWarning: Downcasting object dtype arrays on .fillna, .ffill, .bfill is deprecated and will change in a future version. Call result.infer_objects(copy=False) instead. To opt-in to the future behavior, set `pd.set_option('future.no_silent_downcasting', True)`\n",
      "  is_end_time = series & (~series.shift(-1).fillna(False))\n",
      "/home/shijiegu/anaconda3/envs/spyglass/lib/python3.10/site-packages/ripple_detection/core.py:47: FutureWarning: Downcasting object dtype arrays on .fillna, .ffill, .bfill is deprecated and will change in a future version. Call result.infer_objects(copy=False) instead. To opt-in to the future behavior, set `pd.set_option('future.no_silent_downcasting', True)`\n",
      "  is_start_time = (~series.shift(1).fillna(False)) & series\n",
      "/home/shijiegu/anaconda3/envs/spyglass/lib/python3.10/site-packages/ripple_detection/core.py:50: FutureWarning: Downcasting object dtype arrays on .fillna, .ffill, .bfill is deprecated and will change in a future version. Call result.infer_objects(copy=False) instead. To opt-in to the future behavior, set `pd.set_option('future.no_silent_downcasting', True)`\n",
      "  is_end_time = series & (~series.shift(-1).fillna(False))\n",
      "/home/shijiegu/anaconda3/envs/spyglass/lib/python3.10/site-packages/ripple_detection/core.py:47: FutureWarning: Downcasting object dtype arrays on .fillna, .ffill, .bfill is deprecated and will change in a future version. Call result.infer_objects(copy=False) instead. To opt-in to the future behavior, set `pd.set_option('future.no_silent_downcasting', True)`\n",
      "  is_start_time = (~series.shift(1).fillna(False)) & series\n",
      "/home/shijiegu/anaconda3/envs/spyglass/lib/python3.10/site-packages/ripple_detection/core.py:50: FutureWarning: Downcasting object dtype arrays on .fillna, .ffill, .bfill is deprecated and will change in a future version. Call result.infer_objects(copy=False) instead. To opt-in to the future behavior, set `pd.set_option('future.no_silent_downcasting', True)`\n",
      "  is_end_time = series & (~series.shift(-1).fillna(False))\n",
      "/home/shijiegu/anaconda3/envs/spyglass/lib/python3.10/site-packages/ripple_detection/core.py:47: FutureWarning: Downcasting object dtype arrays on .fillna, .ffill, .bfill is deprecated and will change in a future version. Call result.infer_objects(copy=False) instead. To opt-in to the future behavior, set `pd.set_option('future.no_silent_downcasting', True)`\n",
      "  is_start_time = (~series.shift(1).fillna(False)) & series\n",
      "/home/shijiegu/anaconda3/envs/spyglass/lib/python3.10/site-packages/ripple_detection/core.py:50: FutureWarning: Downcasting object dtype arrays on .fillna, .ffill, .bfill is deprecated and will change in a future version. Call result.infer_objects(copy=False) instead. To opt-in to the future behavior, set `pd.set_option('future.no_silent_downcasting', True)`\n",
      "  is_end_time = series & (~series.shift(-1).fillna(False))\n",
      "/home/shijiegu/anaconda3/envs/spyglass/lib/python3.10/site-packages/ripple_detection/core.py:47: FutureWarning: Downcasting object dtype arrays on .fillna, .ffill, .bfill is deprecated and will change in a future version. Call result.infer_objects(copy=False) instead. To opt-in to the future behavior, set `pd.set_option('future.no_silent_downcasting', True)`\n",
      "  is_start_time = (~series.shift(1).fillna(False)) & series\n",
      "/home/shijiegu/anaconda3/envs/spyglass/lib/python3.10/site-packages/ripple_detection/core.py:50: FutureWarning: Downcasting object dtype arrays on .fillna, .ffill, .bfill is deprecated and will change in a future version. Call result.infer_objects(copy=False) instead. To opt-in to the future behavior, set `pd.set_option('future.no_silent_downcasting', True)`\n",
      "  is_end_time = series & (~series.shift(-1).fillna(False))\n",
      "/home/shijiegu/anaconda3/envs/spyglass/lib/python3.10/site-packages/ripple_detection/core.py:47: FutureWarning: Downcasting object dtype arrays on .fillna, .ffill, .bfill is deprecated and will change in a future version. Call result.infer_objects(copy=False) instead. To opt-in to the future behavior, set `pd.set_option('future.no_silent_downcasting', True)`\n",
      "  is_start_time = (~series.shift(1).fillna(False)) & series\n",
      "/home/shijiegu/anaconda3/envs/spyglass/lib/python3.10/site-packages/ripple_detection/core.py:50: FutureWarning: Downcasting object dtype arrays on .fillna, .ffill, .bfill is deprecated and will change in a future version. Call result.infer_objects(copy=False) instead. To opt-in to the future behavior, set `pd.set_option('future.no_silent_downcasting', True)`\n",
      "  is_end_time = series & (~series.shift(-1).fillna(False))\n",
      "/home/shijiegu/anaconda3/envs/spyglass/lib/python3.10/site-packages/ripple_detection/core.py:47: FutureWarning: Downcasting object dtype arrays on .fillna, .ffill, .bfill is deprecated and will change in a future version. Call result.infer_objects(copy=False) instead. To opt-in to the future behavior, set `pd.set_option('future.no_silent_downcasting', True)`\n",
      "  is_start_time = (~series.shift(1).fillna(False)) & series\n",
      "/home/shijiegu/anaconda3/envs/spyglass/lib/python3.10/site-packages/ripple_detection/core.py:50: FutureWarning: Downcasting object dtype arrays on .fillna, .ffill, .bfill is deprecated and will change in a future version. Call result.infer_objects(copy=False) instead. To opt-in to the future behavior, set `pd.set_option('future.no_silent_downcasting', True)`\n",
      "  is_end_time = series & (~series.shift(-1).fillna(False))\n",
      "/home/shijiegu/anaconda3/envs/spyglass/lib/python3.10/site-packages/ripple_detection/core.py:47: FutureWarning: Downcasting object dtype arrays on .fillna, .ffill, .bfill is deprecated and will change in a future version. Call result.infer_objects(copy=False) instead. To opt-in to the future behavior, set `pd.set_option('future.no_silent_downcasting', True)`\n",
      "  is_start_time = (~series.shift(1).fillna(False)) & series\n",
      "/home/shijiegu/anaconda3/envs/spyglass/lib/python3.10/site-packages/ripple_detection/core.py:50: FutureWarning: Downcasting object dtype arrays on .fillna, .ffill, .bfill is deprecated and will change in a future version. Call result.infer_objects(copy=False) instead. To opt-in to the future behavior, set `pd.set_option('future.no_silent_downcasting', True)`\n",
      "  is_end_time = series & (~series.shift(-1).fillna(False))\n",
      "/home/shijiegu/anaconda3/envs/spyglass/lib/python3.10/site-packages/ripple_detection/core.py:47: FutureWarning: Downcasting object dtype arrays on .fillna, .ffill, .bfill is deprecated and will change in a future version. Call result.infer_objects(copy=False) instead. To opt-in to the future behavior, set `pd.set_option('future.no_silent_downcasting', True)`\n",
      "  is_start_time = (~series.shift(1).fillna(False)) & series\n",
      "/home/shijiegu/anaconda3/envs/spyglass/lib/python3.10/site-packages/ripple_detection/core.py:50: FutureWarning: Downcasting object dtype arrays on .fillna, .ffill, .bfill is deprecated and will change in a future version. Call result.infer_objects(copy=False) instead. To opt-in to the future behavior, set `pd.set_option('future.no_silent_downcasting', True)`\n",
      "  is_end_time = series & (~series.shift(-1).fillna(False))\n"
     ]
    },
    {
     "name": "stdout",
     "output_type": "stream",
     "text": [
      "no ripples during this time. trial14_whole_trial_runninglewis20240109_02_Rev2Session1_likelihood\n"
     ]
    },
    {
     "name": "stderr",
     "output_type": "stream",
     "text": [
      "/home/shijiegu/anaconda3/envs/spyglass/lib/python3.10/site-packages/ripple_detection/core.py:47: FutureWarning: Downcasting object dtype arrays on .fillna, .ffill, .bfill is deprecated and will change in a future version. Call result.infer_objects(copy=False) instead. To opt-in to the future behavior, set `pd.set_option('future.no_silent_downcasting', True)`\n",
      "  is_start_time = (~series.shift(1).fillna(False)) & series\n",
      "/home/shijiegu/anaconda3/envs/spyglass/lib/python3.10/site-packages/ripple_detection/core.py:50: FutureWarning: Downcasting object dtype arrays on .fillna, .ffill, .bfill is deprecated and will change in a future version. Call result.infer_objects(copy=False) instead. To opt-in to the future behavior, set `pd.set_option('future.no_silent_downcasting', True)`\n",
      "  is_end_time = series & (~series.shift(-1).fillna(False))\n"
     ]
    },
    {
     "name": "stdout",
     "output_type": "stream",
     "text": [
      "no ripples during this time. trial14_whole_trial_runninglewis20240109_02_Rev2Session1_statespace\n"
     ]
    },
    {
     "name": "stderr",
     "output_type": "stream",
     "text": [
      "/home/shijiegu/anaconda3/envs/spyglass/lib/python3.10/site-packages/ripple_detection/core.py:47: FutureWarning: Downcasting object dtype arrays on .fillna, .ffill, .bfill is deprecated and will change in a future version. Call result.infer_objects(copy=False) instead. To opt-in to the future behavior, set `pd.set_option('future.no_silent_downcasting', True)`\n",
      "  is_start_time = (~series.shift(1).fillna(False)) & series\n",
      "/home/shijiegu/anaconda3/envs/spyglass/lib/python3.10/site-packages/ripple_detection/core.py:50: FutureWarning: Downcasting object dtype arrays on .fillna, .ffill, .bfill is deprecated and will change in a future version. Call result.infer_objects(copy=False) instead. To opt-in to the future behavior, set `pd.set_option('future.no_silent_downcasting', True)`\n",
      "  is_end_time = series & (~series.shift(-1).fillna(False))\n",
      "/home/shijiegu/anaconda3/envs/spyglass/lib/python3.10/site-packages/ripple_detection/core.py:47: FutureWarning: Downcasting object dtype arrays on .fillna, .ffill, .bfill is deprecated and will change in a future version. Call result.infer_objects(copy=False) instead. To opt-in to the future behavior, set `pd.set_option('future.no_silent_downcasting', True)`\n",
      "  is_start_time = (~series.shift(1).fillna(False)) & series\n",
      "/home/shijiegu/anaconda3/envs/spyglass/lib/python3.10/site-packages/ripple_detection/core.py:50: FutureWarning: Downcasting object dtype arrays on .fillna, .ffill, .bfill is deprecated and will change in a future version. Call result.infer_objects(copy=False) instead. To opt-in to the future behavior, set `pd.set_option('future.no_silent_downcasting', True)`\n",
      "  is_end_time = series & (~series.shift(-1).fillna(False))\n",
      "/home/shijiegu/anaconda3/envs/spyglass/lib/python3.10/site-packages/ripple_detection/core.py:47: FutureWarning: Downcasting object dtype arrays on .fillna, .ffill, .bfill is deprecated and will change in a future version. Call result.infer_objects(copy=False) instead. To opt-in to the future behavior, set `pd.set_option('future.no_silent_downcasting', True)`\n",
      "  is_start_time = (~series.shift(1).fillna(False)) & series\n",
      "/home/shijiegu/anaconda3/envs/spyglass/lib/python3.10/site-packages/ripple_detection/core.py:50: FutureWarning: Downcasting object dtype arrays on .fillna, .ffill, .bfill is deprecated and will change in a future version. Call result.infer_objects(copy=False) instead. To opt-in to the future behavior, set `pd.set_option('future.no_silent_downcasting', True)`\n",
      "  is_end_time = series & (~series.shift(-1).fillna(False))\n",
      "/home/shijiegu/anaconda3/envs/spyglass/lib/python3.10/site-packages/ripple_detection/core.py:47: FutureWarning: Downcasting object dtype arrays on .fillna, .ffill, .bfill is deprecated and will change in a future version. Call result.infer_objects(copy=False) instead. To opt-in to the future behavior, set `pd.set_option('future.no_silent_downcasting', True)`\n",
      "  is_start_time = (~series.shift(1).fillna(False)) & series\n",
      "/home/shijiegu/anaconda3/envs/spyglass/lib/python3.10/site-packages/ripple_detection/core.py:50: FutureWarning: Downcasting object dtype arrays on .fillna, .ffill, .bfill is deprecated and will change in a future version. Call result.infer_objects(copy=False) instead. To opt-in to the future behavior, set `pd.set_option('future.no_silent_downcasting', True)`\n",
      "  is_end_time = series & (~series.shift(-1).fillna(False))\n",
      "/home/shijiegu/anaconda3/envs/spyglass/lib/python3.10/site-packages/ripple_detection/core.py:47: FutureWarning: Downcasting object dtype arrays on .fillna, .ffill, .bfill is deprecated and will change in a future version. Call result.infer_objects(copy=False) instead. To opt-in to the future behavior, set `pd.set_option('future.no_silent_downcasting', True)`\n",
      "  is_start_time = (~series.shift(1).fillna(False)) & series\n",
      "/home/shijiegu/anaconda3/envs/spyglass/lib/python3.10/site-packages/ripple_detection/core.py:50: FutureWarning: Downcasting object dtype arrays on .fillna, .ffill, .bfill is deprecated and will change in a future version. Call result.infer_objects(copy=False) instead. To opt-in to the future behavior, set `pd.set_option('future.no_silent_downcasting', True)`\n",
      "  is_end_time = series & (~series.shift(-1).fillna(False))\n",
      "/home/shijiegu/anaconda3/envs/spyglass/lib/python3.10/site-packages/ripple_detection/core.py:47: FutureWarning: Downcasting object dtype arrays on .fillna, .ffill, .bfill is deprecated and will change in a future version. Call result.infer_objects(copy=False) instead. To opt-in to the future behavior, set `pd.set_option('future.no_silent_downcasting', True)`\n",
      "  is_start_time = (~series.shift(1).fillna(False)) & series\n",
      "/home/shijiegu/anaconda3/envs/spyglass/lib/python3.10/site-packages/ripple_detection/core.py:50: FutureWarning: Downcasting object dtype arrays on .fillna, .ffill, .bfill is deprecated and will change in a future version. Call result.infer_objects(copy=False) instead. To opt-in to the future behavior, set `pd.set_option('future.no_silent_downcasting', True)`\n",
      "  is_end_time = series & (~series.shift(-1).fillna(False))\n",
      "/home/shijiegu/anaconda3/envs/spyglass/lib/python3.10/site-packages/ripple_detection/core.py:47: FutureWarning: Downcasting object dtype arrays on .fillna, .ffill, .bfill is deprecated and will change in a future version. Call result.infer_objects(copy=False) instead. To opt-in to the future behavior, set `pd.set_option('future.no_silent_downcasting', True)`\n",
      "  is_start_time = (~series.shift(1).fillna(False)) & series\n",
      "/home/shijiegu/anaconda3/envs/spyglass/lib/python3.10/site-packages/ripple_detection/core.py:50: FutureWarning: Downcasting object dtype arrays on .fillna, .ffill, .bfill is deprecated and will change in a future version. Call result.infer_objects(copy=False) instead. To opt-in to the future behavior, set `pd.set_option('future.no_silent_downcasting', True)`\n",
      "  is_end_time = series & (~series.shift(-1).fillna(False))\n",
      "/home/shijiegu/anaconda3/envs/spyglass/lib/python3.10/site-packages/ripple_detection/core.py:47: FutureWarning: Downcasting object dtype arrays on .fillna, .ffill, .bfill is deprecated and will change in a future version. Call result.infer_objects(copy=False) instead. To opt-in to the future behavior, set `pd.set_option('future.no_silent_downcasting', True)`\n",
      "  is_start_time = (~series.shift(1).fillna(False)) & series\n",
      "/home/shijiegu/anaconda3/envs/spyglass/lib/python3.10/site-packages/ripple_detection/core.py:50: FutureWarning: Downcasting object dtype arrays on .fillna, .ffill, .bfill is deprecated and will change in a future version. Call result.infer_objects(copy=False) instead. To opt-in to the future behavior, set `pd.set_option('future.no_silent_downcasting', True)`\n",
      "  is_end_time = series & (~series.shift(-1).fillna(False))\n",
      "/home/shijiegu/anaconda3/envs/spyglass/lib/python3.10/site-packages/ripple_detection/core.py:47: FutureWarning: Downcasting object dtype arrays on .fillna, .ffill, .bfill is deprecated and will change in a future version. Call result.infer_objects(copy=False) instead. To opt-in to the future behavior, set `pd.set_option('future.no_silent_downcasting', True)`\n",
      "  is_start_time = (~series.shift(1).fillna(False)) & series\n",
      "/home/shijiegu/anaconda3/envs/spyglass/lib/python3.10/site-packages/ripple_detection/core.py:50: FutureWarning: Downcasting object dtype arrays on .fillna, .ffill, .bfill is deprecated and will change in a future version. Call result.infer_objects(copy=False) instead. To opt-in to the future behavior, set `pd.set_option('future.no_silent_downcasting', True)`\n",
      "  is_end_time = series & (~series.shift(-1).fillna(False))\n",
      "/home/shijiegu/anaconda3/envs/spyglass/lib/python3.10/site-packages/ripple_detection/core.py:47: FutureWarning: Downcasting object dtype arrays on .fillna, .ffill, .bfill is deprecated and will change in a future version. Call result.infer_objects(copy=False) instead. To opt-in to the future behavior, set `pd.set_option('future.no_silent_downcasting', True)`\n",
      "  is_start_time = (~series.shift(1).fillna(False)) & series\n",
      "/home/shijiegu/anaconda3/envs/spyglass/lib/python3.10/site-packages/ripple_detection/core.py:50: FutureWarning: Downcasting object dtype arrays on .fillna, .ffill, .bfill is deprecated and will change in a future version. Call result.infer_objects(copy=False) instead. To opt-in to the future behavior, set `pd.set_option('future.no_silent_downcasting', True)`\n",
      "  is_end_time = series & (~series.shift(-1).fillna(False))\n",
      "/home/shijiegu/anaconda3/envs/spyglass/lib/python3.10/site-packages/ripple_detection/core.py:47: FutureWarning: Downcasting object dtype arrays on .fillna, .ffill, .bfill is deprecated and will change in a future version. Call result.infer_objects(copy=False) instead. To opt-in to the future behavior, set `pd.set_option('future.no_silent_downcasting', True)`\n",
      "  is_start_time = (~series.shift(1).fillna(False)) & series\n",
      "/home/shijiegu/anaconda3/envs/spyglass/lib/python3.10/site-packages/ripple_detection/core.py:50: FutureWarning: Downcasting object dtype arrays on .fillna, .ffill, .bfill is deprecated and will change in a future version. Call result.infer_objects(copy=False) instead. To opt-in to the future behavior, set `pd.set_option('future.no_silent_downcasting', True)`\n",
      "  is_end_time = series & (~series.shift(-1).fillna(False))\n",
      "/home/shijiegu/anaconda3/envs/spyglass/lib/python3.10/site-packages/ripple_detection/core.py:47: FutureWarning: Downcasting object dtype arrays on .fillna, .ffill, .bfill is deprecated and will change in a future version. Call result.infer_objects(copy=False) instead. To opt-in to the future behavior, set `pd.set_option('future.no_silent_downcasting', True)`\n",
      "  is_start_time = (~series.shift(1).fillna(False)) & series\n",
      "/home/shijiegu/anaconda3/envs/spyglass/lib/python3.10/site-packages/ripple_detection/core.py:50: FutureWarning: Downcasting object dtype arrays on .fillna, .ffill, .bfill is deprecated and will change in a future version. Call result.infer_objects(copy=False) instead. To opt-in to the future behavior, set `pd.set_option('future.no_silent_downcasting', True)`\n",
      "  is_end_time = series & (~series.shift(-1).fillna(False))\n"
     ]
    },
    {
     "name": "stdout",
     "output_type": "stream",
     "text": [
      "no ripples during this time. trial15_whole_trial_runninglewis20240109_02_Rev2Session1_likelihood\n"
     ]
    },
    {
     "name": "stderr",
     "output_type": "stream",
     "text": [
      "/home/shijiegu/anaconda3/envs/spyglass/lib/python3.10/site-packages/ripple_detection/core.py:47: FutureWarning: Downcasting object dtype arrays on .fillna, .ffill, .bfill is deprecated and will change in a future version. Call result.infer_objects(copy=False) instead. To opt-in to the future behavior, set `pd.set_option('future.no_silent_downcasting', True)`\n",
      "  is_start_time = (~series.shift(1).fillna(False)) & series\n",
      "/home/shijiegu/anaconda3/envs/spyglass/lib/python3.10/site-packages/ripple_detection/core.py:50: FutureWarning: Downcasting object dtype arrays on .fillna, .ffill, .bfill is deprecated and will change in a future version. Call result.infer_objects(copy=False) instead. To opt-in to the future behavior, set `pd.set_option('future.no_silent_downcasting', True)`\n",
      "  is_end_time = series & (~series.shift(-1).fillna(False))\n"
     ]
    },
    {
     "name": "stdout",
     "output_type": "stream",
     "text": [
      "no ripples during this time. trial15_whole_trial_runninglewis20240109_02_Rev2Session1_statespace\n"
     ]
    },
    {
     "name": "stderr",
     "output_type": "stream",
     "text": [
      "/home/shijiegu/anaconda3/envs/spyglass/lib/python3.10/site-packages/ripple_detection/core.py:47: FutureWarning: Downcasting object dtype arrays on .fillna, .ffill, .bfill is deprecated and will change in a future version. Call result.infer_objects(copy=False) instead. To opt-in to the future behavior, set `pd.set_option('future.no_silent_downcasting', True)`\n",
      "  is_start_time = (~series.shift(1).fillna(False)) & series\n",
      "/home/shijiegu/anaconda3/envs/spyglass/lib/python3.10/site-packages/ripple_detection/core.py:50: FutureWarning: Downcasting object dtype arrays on .fillna, .ffill, .bfill is deprecated and will change in a future version. Call result.infer_objects(copy=False) instead. To opt-in to the future behavior, set `pd.set_option('future.no_silent_downcasting', True)`\n",
      "  is_end_time = series & (~series.shift(-1).fillna(False))\n",
      "/home/shijiegu/anaconda3/envs/spyglass/lib/python3.10/site-packages/ripple_detection/core.py:47: FutureWarning: Downcasting object dtype arrays on .fillna, .ffill, .bfill is deprecated and will change in a future version. Call result.infer_objects(copy=False) instead. To opt-in to the future behavior, set `pd.set_option('future.no_silent_downcasting', True)`\n",
      "  is_start_time = (~series.shift(1).fillna(False)) & series\n",
      "/home/shijiegu/anaconda3/envs/spyglass/lib/python3.10/site-packages/ripple_detection/core.py:50: FutureWarning: Downcasting object dtype arrays on .fillna, .ffill, .bfill is deprecated and will change in a future version. Call result.infer_objects(copy=False) instead. To opt-in to the future behavior, set `pd.set_option('future.no_silent_downcasting', True)`\n",
      "  is_end_time = series & (~series.shift(-1).fillna(False))\n",
      "/home/shijiegu/anaconda3/envs/spyglass/lib/python3.10/site-packages/ripple_detection/core.py:47: FutureWarning: Downcasting object dtype arrays on .fillna, .ffill, .bfill is deprecated and will change in a future version. Call result.infer_objects(copy=False) instead. To opt-in to the future behavior, set `pd.set_option('future.no_silent_downcasting', True)`\n",
      "  is_start_time = (~series.shift(1).fillna(False)) & series\n",
      "/home/shijiegu/anaconda3/envs/spyglass/lib/python3.10/site-packages/ripple_detection/core.py:50: FutureWarning: Downcasting object dtype arrays on .fillna, .ffill, .bfill is deprecated and will change in a future version. Call result.infer_objects(copy=False) instead. To opt-in to the future behavior, set `pd.set_option('future.no_silent_downcasting', True)`\n",
      "  is_end_time = series & (~series.shift(-1).fillna(False))\n",
      "/home/shijiegu/anaconda3/envs/spyglass/lib/python3.10/site-packages/ripple_detection/core.py:47: FutureWarning: Downcasting object dtype arrays on .fillna, .ffill, .bfill is deprecated and will change in a future version. Call result.infer_objects(copy=False) instead. To opt-in to the future behavior, set `pd.set_option('future.no_silent_downcasting', True)`\n",
      "  is_start_time = (~series.shift(1).fillna(False)) & series\n",
      "/home/shijiegu/anaconda3/envs/spyglass/lib/python3.10/site-packages/ripple_detection/core.py:50: FutureWarning: Downcasting object dtype arrays on .fillna, .ffill, .bfill is deprecated and will change in a future version. Call result.infer_objects(copy=False) instead. To opt-in to the future behavior, set `pd.set_option('future.no_silent_downcasting', True)`\n",
      "  is_end_time = series & (~series.shift(-1).fillna(False))\n",
      "/home/shijiegu/anaconda3/envs/spyglass/lib/python3.10/site-packages/ripple_detection/core.py:47: FutureWarning: Downcasting object dtype arrays on .fillna, .ffill, .bfill is deprecated and will change in a future version. Call result.infer_objects(copy=False) instead. To opt-in to the future behavior, set `pd.set_option('future.no_silent_downcasting', True)`\n",
      "  is_start_time = (~series.shift(1).fillna(False)) & series\n",
      "/home/shijiegu/anaconda3/envs/spyglass/lib/python3.10/site-packages/ripple_detection/core.py:50: FutureWarning: Downcasting object dtype arrays on .fillna, .ffill, .bfill is deprecated and will change in a future version. Call result.infer_objects(copy=False) instead. To opt-in to the future behavior, set `pd.set_option('future.no_silent_downcasting', True)`\n",
      "  is_end_time = series & (~series.shift(-1).fillna(False))\n",
      "/home/shijiegu/anaconda3/envs/spyglass/lib/python3.10/site-packages/ripple_detection/core.py:47: FutureWarning: Downcasting object dtype arrays on .fillna, .ffill, .bfill is deprecated and will change in a future version. Call result.infer_objects(copy=False) instead. To opt-in to the future behavior, set `pd.set_option('future.no_silent_downcasting', True)`\n",
      "  is_start_time = (~series.shift(1).fillna(False)) & series\n",
      "/home/shijiegu/anaconda3/envs/spyglass/lib/python3.10/site-packages/ripple_detection/core.py:50: FutureWarning: Downcasting object dtype arrays on .fillna, .ffill, .bfill is deprecated and will change in a future version. Call result.infer_objects(copy=False) instead. To opt-in to the future behavior, set `pd.set_option('future.no_silent_downcasting', True)`\n",
      "  is_end_time = series & (~series.shift(-1).fillna(False))\n"
     ]
    },
    {
     "name": "stdout",
     "output_type": "stream",
     "text": [
      "no ripples during this time. trial16_whole_trial_runninglewis20240109_02_Rev2Session1_likelihood\n"
     ]
    },
    {
     "name": "stderr",
     "output_type": "stream",
     "text": [
      "/home/shijiegu/anaconda3/envs/spyglass/lib/python3.10/site-packages/ripple_detection/core.py:47: FutureWarning: Downcasting object dtype arrays on .fillna, .ffill, .bfill is deprecated and will change in a future version. Call result.infer_objects(copy=False) instead. To opt-in to the future behavior, set `pd.set_option('future.no_silent_downcasting', True)`\n",
      "  is_start_time = (~series.shift(1).fillna(False)) & series\n",
      "/home/shijiegu/anaconda3/envs/spyglass/lib/python3.10/site-packages/ripple_detection/core.py:50: FutureWarning: Downcasting object dtype arrays on .fillna, .ffill, .bfill is deprecated and will change in a future version. Call result.infer_objects(copy=False) instead. To opt-in to the future behavior, set `pd.set_option('future.no_silent_downcasting', True)`\n",
      "  is_end_time = series & (~series.shift(-1).fillna(False))\n"
     ]
    },
    {
     "name": "stdout",
     "output_type": "stream",
     "text": [
      "no ripples during this time. trial16_whole_trial_runninglewis20240109_02_Rev2Session1_statespace\n"
     ]
    },
    {
     "name": "stderr",
     "output_type": "stream",
     "text": [
      "/home/shijiegu/anaconda3/envs/spyglass/lib/python3.10/site-packages/ripple_detection/core.py:47: FutureWarning: Downcasting object dtype arrays on .fillna, .ffill, .bfill is deprecated and will change in a future version. Call result.infer_objects(copy=False) instead. To opt-in to the future behavior, set `pd.set_option('future.no_silent_downcasting', True)`\n",
      "  is_start_time = (~series.shift(1).fillna(False)) & series\n",
      "/home/shijiegu/anaconda3/envs/spyglass/lib/python3.10/site-packages/ripple_detection/core.py:50: FutureWarning: Downcasting object dtype arrays on .fillna, .ffill, .bfill is deprecated and will change in a future version. Call result.infer_objects(copy=False) instead. To opt-in to the future behavior, set `pd.set_option('future.no_silent_downcasting', True)`\n",
      "  is_end_time = series & (~series.shift(-1).fillna(False))\n",
      "/home/shijiegu/anaconda3/envs/spyglass/lib/python3.10/site-packages/ripple_detection/core.py:47: FutureWarning: Downcasting object dtype arrays on .fillna, .ffill, .bfill is deprecated and will change in a future version. Call result.infer_objects(copy=False) instead. To opt-in to the future behavior, set `pd.set_option('future.no_silent_downcasting', True)`\n",
      "  is_start_time = (~series.shift(1).fillna(False)) & series\n",
      "/home/shijiegu/anaconda3/envs/spyglass/lib/python3.10/site-packages/ripple_detection/core.py:50: FutureWarning: Downcasting object dtype arrays on .fillna, .ffill, .bfill is deprecated and will change in a future version. Call result.infer_objects(copy=False) instead. To opt-in to the future behavior, set `pd.set_option('future.no_silent_downcasting', True)`\n",
      "  is_end_time = series & (~series.shift(-1).fillna(False))\n",
      "/home/shijiegu/anaconda3/envs/spyglass/lib/python3.10/site-packages/ripple_detection/core.py:47: FutureWarning: Downcasting object dtype arrays on .fillna, .ffill, .bfill is deprecated and will change in a future version. Call result.infer_objects(copy=False) instead. To opt-in to the future behavior, set `pd.set_option('future.no_silent_downcasting', True)`\n",
      "  is_start_time = (~series.shift(1).fillna(False)) & series\n",
      "/home/shijiegu/anaconda3/envs/spyglass/lib/python3.10/site-packages/ripple_detection/core.py:50: FutureWarning: Downcasting object dtype arrays on .fillna, .ffill, .bfill is deprecated and will change in a future version. Call result.infer_objects(copy=False) instead. To opt-in to the future behavior, set `pd.set_option('future.no_silent_downcasting', True)`\n",
      "  is_end_time = series & (~series.shift(-1).fillna(False))\n",
      "/home/shijiegu/anaconda3/envs/spyglass/lib/python3.10/site-packages/ripple_detection/core.py:47: FutureWarning: Downcasting object dtype arrays on .fillna, .ffill, .bfill is deprecated and will change in a future version. Call result.infer_objects(copy=False) instead. To opt-in to the future behavior, set `pd.set_option('future.no_silent_downcasting', True)`\n",
      "  is_start_time = (~series.shift(1).fillna(False)) & series\n",
      "/home/shijiegu/anaconda3/envs/spyglass/lib/python3.10/site-packages/ripple_detection/core.py:50: FutureWarning: Downcasting object dtype arrays on .fillna, .ffill, .bfill is deprecated and will change in a future version. Call result.infer_objects(copy=False) instead. To opt-in to the future behavior, set `pd.set_option('future.no_silent_downcasting', True)`\n",
      "  is_end_time = series & (~series.shift(-1).fillna(False))\n",
      "/home/shijiegu/anaconda3/envs/spyglass/lib/python3.10/site-packages/ripple_detection/core.py:47: FutureWarning: Downcasting object dtype arrays on .fillna, .ffill, .bfill is deprecated and will change in a future version. Call result.infer_objects(copy=False) instead. To opt-in to the future behavior, set `pd.set_option('future.no_silent_downcasting', True)`\n",
      "  is_start_time = (~series.shift(1).fillna(False)) & series\n",
      "/home/shijiegu/anaconda3/envs/spyglass/lib/python3.10/site-packages/ripple_detection/core.py:50: FutureWarning: Downcasting object dtype arrays on .fillna, .ffill, .bfill is deprecated and will change in a future version. Call result.infer_objects(copy=False) instead. To opt-in to the future behavior, set `pd.set_option('future.no_silent_downcasting', True)`\n",
      "  is_end_time = series & (~series.shift(-1).fillna(False))\n",
      "/home/shijiegu/anaconda3/envs/spyglass/lib/python3.10/site-packages/ripple_detection/core.py:47: FutureWarning: Downcasting object dtype arrays on .fillna, .ffill, .bfill is deprecated and will change in a future version. Call result.infer_objects(copy=False) instead. To opt-in to the future behavior, set `pd.set_option('future.no_silent_downcasting', True)`\n",
      "  is_start_time = (~series.shift(1).fillna(False)) & series\n",
      "/home/shijiegu/anaconda3/envs/spyglass/lib/python3.10/site-packages/ripple_detection/core.py:50: FutureWarning: Downcasting object dtype arrays on .fillna, .ffill, .bfill is deprecated and will change in a future version. Call result.infer_objects(copy=False) instead. To opt-in to the future behavior, set `pd.set_option('future.no_silent_downcasting', True)`\n",
      "  is_end_time = series & (~series.shift(-1).fillna(False))\n"
     ]
    },
    {
     "name": "stdout",
     "output_type": "stream",
     "text": [
      "no ripples during this time. trial18_whole_trial_runninglewis20240109_02_Rev2Session1_likelihood\n"
     ]
    },
    {
     "name": "stderr",
     "output_type": "stream",
     "text": [
      "/home/shijiegu/anaconda3/envs/spyglass/lib/python3.10/site-packages/ripple_detection/core.py:47: FutureWarning: Downcasting object dtype arrays on .fillna, .ffill, .bfill is deprecated and will change in a future version. Call result.infer_objects(copy=False) instead. To opt-in to the future behavior, set `pd.set_option('future.no_silent_downcasting', True)`\n",
      "  is_start_time = (~series.shift(1).fillna(False)) & series\n",
      "/home/shijiegu/anaconda3/envs/spyglass/lib/python3.10/site-packages/ripple_detection/core.py:50: FutureWarning: Downcasting object dtype arrays on .fillna, .ffill, .bfill is deprecated and will change in a future version. Call result.infer_objects(copy=False) instead. To opt-in to the future behavior, set `pd.set_option('future.no_silent_downcasting', True)`\n",
      "  is_end_time = series & (~series.shift(-1).fillna(False))\n"
     ]
    },
    {
     "name": "stdout",
     "output_type": "stream",
     "text": [
      "no ripples during this time. trial18_whole_trial_runninglewis20240109_02_Rev2Session1_statespace\n"
     ]
    },
    {
     "name": "stderr",
     "output_type": "stream",
     "text": [
      "/home/shijiegu/anaconda3/envs/spyglass/lib/python3.10/site-packages/ripple_detection/core.py:47: FutureWarning: Downcasting object dtype arrays on .fillna, .ffill, .bfill is deprecated and will change in a future version. Call result.infer_objects(copy=False) instead. To opt-in to the future behavior, set `pd.set_option('future.no_silent_downcasting', True)`\n",
      "  is_start_time = (~series.shift(1).fillna(False)) & series\n",
      "/home/shijiegu/anaconda3/envs/spyglass/lib/python3.10/site-packages/ripple_detection/core.py:50: FutureWarning: Downcasting object dtype arrays on .fillna, .ffill, .bfill is deprecated and will change in a future version. Call result.infer_objects(copy=False) instead. To opt-in to the future behavior, set `pd.set_option('future.no_silent_downcasting', True)`\n",
      "  is_end_time = series & (~series.shift(-1).fillna(False))\n",
      "/home/shijiegu/anaconda3/envs/spyglass/lib/python3.10/site-packages/ripple_detection/core.py:47: FutureWarning: Downcasting object dtype arrays on .fillna, .ffill, .bfill is deprecated and will change in a future version. Call result.infer_objects(copy=False) instead. To opt-in to the future behavior, set `pd.set_option('future.no_silent_downcasting', True)`\n",
      "  is_start_time = (~series.shift(1).fillna(False)) & series\n",
      "/home/shijiegu/anaconda3/envs/spyglass/lib/python3.10/site-packages/ripple_detection/core.py:50: FutureWarning: Downcasting object dtype arrays on .fillna, .ffill, .bfill is deprecated and will change in a future version. Call result.infer_objects(copy=False) instead. To opt-in to the future behavior, set `pd.set_option('future.no_silent_downcasting', True)`\n",
      "  is_end_time = series & (~series.shift(-1).fillna(False))\n",
      "/home/shijiegu/anaconda3/envs/spyglass/lib/python3.10/site-packages/ripple_detection/core.py:47: FutureWarning: Downcasting object dtype arrays on .fillna, .ffill, .bfill is deprecated and will change in a future version. Call result.infer_objects(copy=False) instead. To opt-in to the future behavior, set `pd.set_option('future.no_silent_downcasting', True)`\n",
      "  is_start_time = (~series.shift(1).fillna(False)) & series\n",
      "/home/shijiegu/anaconda3/envs/spyglass/lib/python3.10/site-packages/ripple_detection/core.py:50: FutureWarning: Downcasting object dtype arrays on .fillna, .ffill, .bfill is deprecated and will change in a future version. Call result.infer_objects(copy=False) instead. To opt-in to the future behavior, set `pd.set_option('future.no_silent_downcasting', True)`\n",
      "  is_end_time = series & (~series.shift(-1).fillna(False))\n",
      "/home/shijiegu/anaconda3/envs/spyglass/lib/python3.10/site-packages/ripple_detection/core.py:47: FutureWarning: Downcasting object dtype arrays on .fillna, .ffill, .bfill is deprecated and will change in a future version. Call result.infer_objects(copy=False) instead. To opt-in to the future behavior, set `pd.set_option('future.no_silent_downcasting', True)`\n",
      "  is_start_time = (~series.shift(1).fillna(False)) & series\n",
      "/home/shijiegu/anaconda3/envs/spyglass/lib/python3.10/site-packages/ripple_detection/core.py:50: FutureWarning: Downcasting object dtype arrays on .fillna, .ffill, .bfill is deprecated and will change in a future version. Call result.infer_objects(copy=False) instead. To opt-in to the future behavior, set `pd.set_option('future.no_silent_downcasting', True)`\n",
      "  is_end_time = series & (~series.shift(-1).fillna(False))\n",
      "/home/shijiegu/anaconda3/envs/spyglass/lib/python3.10/site-packages/ripple_detection/core.py:47: FutureWarning: Downcasting object dtype arrays on .fillna, .ffill, .bfill is deprecated and will change in a future version. Call result.infer_objects(copy=False) instead. To opt-in to the future behavior, set `pd.set_option('future.no_silent_downcasting', True)`\n",
      "  is_start_time = (~series.shift(1).fillna(False)) & series\n",
      "/home/shijiegu/anaconda3/envs/spyglass/lib/python3.10/site-packages/ripple_detection/core.py:50: FutureWarning: Downcasting object dtype arrays on .fillna, .ffill, .bfill is deprecated and will change in a future version. Call result.infer_objects(copy=False) instead. To opt-in to the future behavior, set `pd.set_option('future.no_silent_downcasting', True)`\n",
      "  is_end_time = series & (~series.shift(-1).fillna(False))\n",
      "/home/shijiegu/anaconda3/envs/spyglass/lib/python3.10/site-packages/ripple_detection/core.py:47: FutureWarning: Downcasting object dtype arrays on .fillna, .ffill, .bfill is deprecated and will change in a future version. Call result.infer_objects(copy=False) instead. To opt-in to the future behavior, set `pd.set_option('future.no_silent_downcasting', True)`\n",
      "  is_start_time = (~series.shift(1).fillna(False)) & series\n",
      "/home/shijiegu/anaconda3/envs/spyglass/lib/python3.10/site-packages/ripple_detection/core.py:50: FutureWarning: Downcasting object dtype arrays on .fillna, .ffill, .bfill is deprecated and will change in a future version. Call result.infer_objects(copy=False) instead. To opt-in to the future behavior, set `pd.set_option('future.no_silent_downcasting', True)`\n",
      "  is_end_time = series & (~series.shift(-1).fillna(False))\n",
      "/home/shijiegu/anaconda3/envs/spyglass/lib/python3.10/site-packages/ripple_detection/core.py:47: FutureWarning: Downcasting object dtype arrays on .fillna, .ffill, .bfill is deprecated and will change in a future version. Call result.infer_objects(copy=False) instead. To opt-in to the future behavior, set `pd.set_option('future.no_silent_downcasting', True)`\n",
      "  is_start_time = (~series.shift(1).fillna(False)) & series\n",
      "/home/shijiegu/anaconda3/envs/spyglass/lib/python3.10/site-packages/ripple_detection/core.py:50: FutureWarning: Downcasting object dtype arrays on .fillna, .ffill, .bfill is deprecated and will change in a future version. Call result.infer_objects(copy=False) instead. To opt-in to the future behavior, set `pd.set_option('future.no_silent_downcasting', True)`\n",
      "  is_end_time = series & (~series.shift(-1).fillna(False))\n",
      "/home/shijiegu/anaconda3/envs/spyglass/lib/python3.10/site-packages/ripple_detection/core.py:47: FutureWarning: Downcasting object dtype arrays on .fillna, .ffill, .bfill is deprecated and will change in a future version. Call result.infer_objects(copy=False) instead. To opt-in to the future behavior, set `pd.set_option('future.no_silent_downcasting', True)`\n",
      "  is_start_time = (~series.shift(1).fillna(False)) & series\n",
      "/home/shijiegu/anaconda3/envs/spyglass/lib/python3.10/site-packages/ripple_detection/core.py:50: FutureWarning: Downcasting object dtype arrays on .fillna, .ffill, .bfill is deprecated and will change in a future version. Call result.infer_objects(copy=False) instead. To opt-in to the future behavior, set `pd.set_option('future.no_silent_downcasting', True)`\n",
      "  is_end_time = series & (~series.shift(-1).fillna(False))\n"
     ]
    }
   ],
   "source": [
    "for t in log_df.index[4:]:\n",
    "    # Home\n",
    "    ripples = log_df.loc[t].ripple_H\n",
    "    ripple_table_inds = log_df.loc[t].ripple_ID_H\n",
    "\n",
    "    if not np.isnan(log_df.loc[t].timestamp_H):\n",
    "        # run time\n",
    "        linear_position_subset = select_subset_helper(linear_position_df,[log_df.loc[t].timestamp_H, log_df.loc[t].timestamp_O])\n",
    "        t0 = int(linear_position_subset.time[linear_position_subset.linear_position >= 20][0])\n",
    "        t1 = log_df.loc[t].timestamp_O\n",
    "        \n",
    "        plottimes = [t0, t1]\n",
    "        savename = 'trial' + str(t) + '_whole_trial_running' + nwb_copy_file_name[:-5] + '_' + session_name + '_likelihood'\n",
    "        plot_ripples_replays(ripple_times,ripples,ripple_table_inds,\n",
    "                             linear_position_df,\n",
    "                             decode_lk,\n",
    "                             spikeColInd,lfp_df,theta_df,\n",
    "                             neural_df,mua_xr,head_speed,head_orientation,\n",
    "                             savename,savefolder_lk,likelihood=True,wholeTrial = 1,plottimes=plottimes,mua_thresh = mua_thresh)\n",
    "\n",
    "        savename = 'trial' + str(t) + '_whole_trial_running' + nwb_copy_file_name[:-5] + '_' + session_name + '_statespace'\n",
    "        plot_ripples_replays(ripple_times,ripples,ripple_table_inds,\n",
    "                             linear_position_df,\n",
    "                             decode_ss,\n",
    "                             spikeColInd,lfp_df,theta_df,\n",
    "                             neural_df,mua_xr,head_speed,head_orientation,\n",
    "                             savename,savefolder_lk,likelihood=False,wholeTrial = 1,plottimes=plottimes,mua_thresh = mua_thresh)\n",
    "\n",
    "        savename = 'trial' + str(t) + '_whole_trial_home' + nwb_copy_file_name[:-5] + '_' + session_name + '_likelihood'\n",
    "        plot_ripples_replays(ripple_times,ripples,ripple_table_inds,\n",
    "                             linear_position_df,\n",
    "                             decode_lk,\n",
    "                             spikeColInd,lfp_df,theta_df,\n",
    "                             neural_df,mua_xr,head_speed,head_orientation,\n",
    "                             savename,savefolder_lk,likelihood=True,wholeTrial = 1,plottimes = [],mua_thresh = mua_thresh)\n",
    "\n",
    "        savename = 'trial' + str(t) + '_whole_trial_home' + nwb_copy_file_name[:-5] + '_' + session_name + '_statespace'\n",
    "        plot_ripples_replays(ripple_times,ripples,ripple_table_inds,\n",
    "                             linear_position_df,\n",
    "                             decode_ss,\n",
    "                             spikeColInd,lfp_df,theta_df,\n",
    "                             neural_df,mua_xr,head_speed,head_orientation,\n",
    "                             savename,savefolder_lk,likelihood=False,wholeTrial = 1,plottimes = [],mua_thresh = mua_thresh)\n",
    "    \n",
    "            \n",
    "    savename = 'trial' + str(t) + '_home_' + nwb_copy_file_name[:-5] + '_' + epoch_name + '_likelihood'\n",
    "    plot_ripples_replays(ripple_times,ripples,ripple_table_inds,\n",
    "                         linear_position_df,\n",
    "                         decode_lk,\n",
    "                         spikeColInd,lfp_df,theta_df,\n",
    "                         neural_df,mua_xr,head_speed,head_orientation,\n",
    "                         savename,savefolder_lk,likelihood=True,wholeTrial = 0, mua_thresh = mua_thresh)\n",
    "\n",
    "\n",
    "    savename = 'trial' + str(t) + '_home_' + nwb_copy_file_name[:-5] + '_' + epoch_name + '_statespace_' + key_lk[\"classifier_param_name\"]\n",
    "    plot_ripples_replays(ripple_times,ripples,ripple_table_inds,\n",
    "                         linear_position_df,\n",
    "                         decode_lk,\n",
    "                         spikeColInd,lfp_df,theta_df,\n",
    "                         neural_df,mua_xr,head_speed,head_orientation,\n",
    "                         savename,savefolder_lk,likelihood=False,wholeTrial = 0, mua_thresh = mua_thresh)\n",
    "\n",
    "\n",
    "    savename = 'trial' + str(t) + '_home_' + nwb_copy_file_name[:-5] + '_' + epoch_name + '_statespace'\n",
    "    plot_ripples_replays(ripple_times,ripples,ripple_table_inds,\n",
    "                         linear_position_df,\n",
    "                         decode_ss,\n",
    "                         spikeColInd,lfp_df,theta_df,\n",
    "                         neural_df,mua_xr,head_speed,head_orientation,\n",
    "                         savename,savefolder_lk,likelihood=False,wholeTrial = 0, mua_thresh = mua_thresh)\n"
   ]
  },
  {
   "cell_type": "code",
   "execution_count": null,
   "id": "0ee0c143-66d9-47a3-89da-d4bd5f9cc169",
   "metadata": {},
   "outputs": [],
   "source": [
    "\n",
    "# trial 8 20221021\n",
    "# trial 42 20221021\n",
    "# trial 51 20221021\n",
    "# trial 57 20221021, in this example, you can also see the previous replay has multiple arms.\n",
    "# trial 59 20221021\n",
    "# trial 62 20221021\n",
    "# trial 65 20221021"
   ]
  },
  {
   "cell_type": "code",
   "execution_count": 79,
   "id": "4c1e9a10-d061-4e18-b66f-16a63a86bedc",
   "metadata": {},
   "outputs": [
    {
     "name": "stdout",
     "output_type": "stream",
     "text": [
      "> \u001b[0;32m/home/shijiegu/Documents/spyglass/src/spyglass/shijiegu/ripple_add_replay.py\u001b[0m(552)\u001b[0;36mplot_decode_spiking\u001b[0;34m()\u001b[0m\n",
      "\u001b[0;32m    550 \u001b[0;31m    \u001b[0;32mif\u001b[0m \u001b[0mlen\u001b[0m\u001b[0;34m(\u001b[0m\u001b[0mt0t1\u001b[0m\u001b[0;34m)\u001b[0m \u001b[0;34m>\u001b[0m \u001b[0;36m0\u001b[0m\u001b[0;34m:\u001b[0m\u001b[0;34m\u001b[0m\u001b[0;34m\u001b[0m\u001b[0m\n",
      "\u001b[0m\u001b[0;32m    551 \u001b[0;31m        \u001b[0mt0t1_\u001b[0m \u001b[0;34m=\u001b[0m \u001b[0mt0t1\u001b[0m\u001b[0;34m.\u001b[0m\u001b[0mravel\u001b[0m\u001b[0;34m(\u001b[0m\u001b[0;34m)\u001b[0m\u001b[0;34m\u001b[0m\u001b[0;34m\u001b[0m\u001b[0m\n",
      "\u001b[0m\u001b[0;32m--> 552 \u001b[0;31m        \u001b[0mfirst_shade_time\u001b[0m \u001b[0;34m=\u001b[0m \u001b[0mt0t1_\u001b[0m\u001b[0;34m[\u001b[0m\u001b[0mnp\u001b[0m\u001b[0;34m.\u001b[0m\u001b[0margwhere\u001b[0m\u001b[0;34m(\u001b[0m\u001b[0mt0t1_\u001b[0m \u001b[0;34m>=\u001b[0m \u001b[0mplottimes\u001b[0m\u001b[0;34m[\u001b[0m\u001b[0;36m0\u001b[0m\u001b[0;34m]\u001b[0m\u001b[0;34m)\u001b[0m\u001b[0;34m.\u001b[0m\u001b[0mravel\u001b[0m\u001b[0;34m(\u001b[0m\u001b[0;34m)\u001b[0m\u001b[0;34m[\u001b[0m\u001b[0;36m0\u001b[0m\u001b[0;34m]\u001b[0m\u001b[0;34m]\u001b[0m\u001b[0;34m\u001b[0m\u001b[0;34m\u001b[0m\u001b[0m\n",
      "\u001b[0m\u001b[0;32m    553 \u001b[0;31m        \u001b[0msecond_shade_time\u001b[0m \u001b[0;34m=\u001b[0m \u001b[0mt0t1_\u001b[0m\u001b[0;34m[\u001b[0m\u001b[0mnp\u001b[0m\u001b[0;34m.\u001b[0m\u001b[0margwhere\u001b[0m\u001b[0;34m(\u001b[0m\u001b[0mt0t1_\u001b[0m \u001b[0;34m<=\u001b[0m \u001b[0mplottimes\u001b[0m\u001b[0;34m[\u001b[0m\u001b[0;36m1\u001b[0m\u001b[0;34m]\u001b[0m\u001b[0;34m)\u001b[0m\u001b[0;34m.\u001b[0m\u001b[0mravel\u001b[0m\u001b[0;34m(\u001b[0m\u001b[0;34m)\u001b[0m\u001b[0;34m[\u001b[0m\u001b[0;34m-\u001b[0m\u001b[0;36m1\u001b[0m\u001b[0;34m]\u001b[0m\u001b[0;34m]\u001b[0m\u001b[0;34m\u001b[0m\u001b[0;34m\u001b[0m\u001b[0m\n",
      "\u001b[0m\u001b[0;32m    554 \u001b[0;31m        \u001b[0maxes\u001b[0m\u001b[0;34m[\u001b[0m\u001b[0;36m0\u001b[0m\u001b[0;34m]\u001b[0m\u001b[0;34m.\u001b[0m\u001b[0mset_title\u001b[0m\u001b[0;34m(\u001b[0m\u001b[0mtitle\u001b[0m\u001b[0;34m+\u001b[0m\u001b[0;34m'\\n'\u001b[0m\u001b[0;34m+\u001b[0m\u001b[0;34m'first shade start time (s):'\u001b[0m\u001b[0;34m+\u001b[0m\u001b[0mstr\u001b[0m\u001b[0;34m(\u001b[0m\u001b[0mfirst_shade_time\u001b[0m\u001b[0;34m)\u001b[0m\u001b[0;34m+\u001b[0m\u001b[0;34m'\\n'\u001b[0m\u001b[0;34m+\u001b[0m\u001b[0;34m'last shade end time (s):'\u001b[0m\u001b[0;34m+\u001b[0m\u001b[0mstr\u001b[0m\u001b[0;34m(\u001b[0m\u001b[0msecond_shade_time\u001b[0m\u001b[0;34m)\u001b[0m\u001b[0;34m,\u001b[0m\u001b[0msize\u001b[0m\u001b[0;34m=\u001b[0m\u001b[0;36m15\u001b[0m\u001b[0;34m)\u001b[0m\u001b[0;34m\u001b[0m\u001b[0;34m\u001b[0m\u001b[0m\n",
      "\u001b[0m\n"
     ]
    },
    {
     "name": "stdin",
     "output_type": "stream",
     "text": [
      "ipdb>  t0t1_\n"
     ]
    },
    {
     "name": "stdout",
     "output_type": "stream",
     "text": [
      "array([1.66638300e+09, 1.66638300e+09, 1.66638301e+09, 1.66638301e+09])\n"
     ]
    },
    {
     "name": "stdin",
     "output_type": "stream",
     "text": [
      "ipdb>  exit\n"
     ]
    }
   ],
   "source": [
    "%debug"
   ]
  },
  {
   "cell_type": "markdown",
   "id": "e130cfc5-a0e0-4053-be09-14de68f27c5e",
   "metadata": {},
   "source": [
    "## End here"
   ]
  },
  {
   "cell_type": "code",
   "execution_count": null,
   "id": "c35b9644-d908-483c-9266-877d7943b8f5",
   "metadata": {},
   "outputs": [],
   "source": []
  },
  {
   "cell_type": "code",
   "execution_count": null,
   "id": "77942f02-96c7-4215-ac22-7f4c55045103",
   "metadata": {},
   "outputs": [],
   "source": []
  },
  {
   "cell_type": "code",
   "execution_count": 78,
   "id": "d659aef8-3973-45ab-a23c-4d6b9303abd3",
   "metadata": {
    "scrolled": true
   },
   "outputs": [
    {
     "name": "stderr",
     "output_type": "stream",
     "text": [
      "[09:42:13][WARNING] Spyglass: Deprecation: this class has been moved out of spyglass.common.common_position\n",
      "\tTrackGraph -> spyglass.linearization.v0.main.TrackGraph\n",
      "Please use the new location.\n",
      "03-May-25 09:42:13 Deprecation: this class has been moved out of spyglass.common.common_position\n",
      "\tTrackGraph -> spyglass.linearization.v0.main.TrackGraph\n",
      "Please use the new location.\n"
     ]
    },
    {
     "name": "stdout",
     "output_type": "stream",
     "text": [
      "epoch name 02_Seq2Session1\n",
      "epoch name 02_Seq2Session1\n",
      "epoch_pos_name pos 1 valid times\n"
     ]
    },
    {
     "name": "stderr",
     "output_type": "stream",
     "text": [
      "[2025-05-03 09:42:14,335][WARNING]: Skipped checksum for file with hash: c5f2b059-9845-dd98-1ffc-1428a999ef22, and path: /stelmo/nwb/analysis/molly20220416_XWNZWNKEUT.nwb\n",
      "03-May-25 09:42:14 Skipped checksum for file with hash: c5f2b059-9845-dd98-1ffc-1428a999ef22, and path: /stelmo/nwb/analysis/molly20220416_XWNZWNKEUT.nwb\n",
      "[2025-05-03 09:42:14,361][WARNING]: Skipped checksum for file with hash: c5f2b059-9845-dd98-1ffc-1428a999ef22, and path: /stelmo/nwb/analysis/molly20220416_XWNZWNKEUT.nwb\n",
      "03-May-25 09:42:14 Skipped checksum for file with hash: c5f2b059-9845-dd98-1ffc-1428a999ef22, and path: /stelmo/nwb/analysis/molly20220416_XWNZWNKEUT.nwb\n",
      "[2025-05-03 09:42:14,370][WARNING]: Skipped checksum for file with hash: c5f2b059-9845-dd98-1ffc-1428a999ef22, and path: /stelmo/nwb/analysis/molly20220416_XWNZWNKEUT.nwb\n",
      "03-May-25 09:42:14 Skipped checksum for file with hash: c5f2b059-9845-dd98-1ffc-1428a999ef22, and path: /stelmo/nwb/analysis/molly20220416_XWNZWNKEUT.nwb\n",
      "/home/shijiegu/anaconda3/envs/spyglass/lib/python3.10/site-packages/hdmf/spec/namespace.py:535: UserWarning: Ignoring cached namespace 'hdmf-common' version 1.5.1 because version 1.8.0 is already loaded.\n",
      "  warn(\"Ignoring cached namespace '%s' version %s because version %s is already loaded.\"\n",
      "/home/shijiegu/anaconda3/envs/spyglass/lib/python3.10/site-packages/hdmf/spec/namespace.py:535: UserWarning: Ignoring cached namespace 'core' version 2.4.0 because version 2.7.0 is already loaded.\n",
      "  warn(\"Ignoring cached namespace '%s' version %s because version %s is already loaded.\"\n",
      "/home/shijiegu/anaconda3/envs/spyglass/lib/python3.10/site-packages/hdmf/spec/namespace.py:535: UserWarning: Ignoring cached namespace 'hdmf-experimental' version 0.2.0 because version 0.5.0 is already loaded.\n",
      "  warn(\"Ignoring cached namespace '%s' version %s because version %s is already loaded.\"\n",
      "/home/shijiegu/anaconda3/envs/spyglass/lib/python3.10/site-packages/hdmf/spec/namespace.py:535: UserWarning: Ignoring cached namespace 'ndx-franklab-novela' version 0.1.0 because version 0.2.0 is already loaded.\n",
      "  warn(\"Ignoring cached namespace '%s' version %s because version %s is already loaded.\"\n",
      "[2025-05-03 09:42:23,758][WARNING]: Skipped checksum for file with hash: 6ac6165a-0bea-a331-50ac-4f8f68a1d80e, and path: /stelmo/nwb/analysis/molly20220416_DGED1ZZ6XN.nwb\n",
      "03-May-25 09:42:23 Skipped checksum for file with hash: 6ac6165a-0bea-a331-50ac-4f8f68a1d80e, and path: /stelmo/nwb/analysis/molly20220416_DGED1ZZ6XN.nwb\n",
      "[2025-05-03 09:42:23,774][WARNING]: Skipped checksum for file with hash: eb43f8d9-4c83-3e33-251a-3879cdd40562, and path: /stelmo/nwb/analysis/molly20220416/molly20220416_QF4WSNTPEI.nwb\n",
      "03-May-25 09:42:23 Skipped checksum for file with hash: eb43f8d9-4c83-3e33-251a-3879cdd40562, and path: /stelmo/nwb/analysis/molly20220416/molly20220416_QF4WSNTPEI.nwb\n",
      "[2025-05-03 09:42:23,796][WARNING]: Skipped checksum for file with hash: 6ac6165a-0bea-a331-50ac-4f8f68a1d80e, and path: /stelmo/nwb/analysis/molly20220416_DGED1ZZ6XN.nwb\n",
      "03-May-25 09:42:23 Skipped checksum for file with hash: 6ac6165a-0bea-a331-50ac-4f8f68a1d80e, and path: /stelmo/nwb/analysis/molly20220416_DGED1ZZ6XN.nwb\n",
      "[2025-05-03 09:42:23,802][WARNING]: Skipped checksum for file with hash: 6ac6165a-0bea-a331-50ac-4f8f68a1d80e, and path: /stelmo/nwb/analysis/molly20220416_DGED1ZZ6XN.nwb\n",
      "03-May-25 09:42:23 Skipped checksum for file with hash: 6ac6165a-0bea-a331-50ac-4f8f68a1d80e, and path: /stelmo/nwb/analysis/molly20220416_DGED1ZZ6XN.nwb\n",
      "[2025-05-03 09:42:23,817][WARNING]: Skipped checksum for file with hash: eb43f8d9-4c83-3e33-251a-3879cdd40562, and path: /stelmo/nwb/analysis/molly20220416/molly20220416_QF4WSNTPEI.nwb\n",
      "03-May-25 09:42:23 Skipped checksum for file with hash: eb43f8d9-4c83-3e33-251a-3879cdd40562, and path: /stelmo/nwb/analysis/molly20220416/molly20220416_QF4WSNTPEI.nwb\n",
      "[2025-05-03 09:42:23,823][WARNING]: Skipped checksum for file with hash: eb43f8d9-4c83-3e33-251a-3879cdd40562, and path: /stelmo/nwb/analysis/molly20220416/molly20220416_QF4WSNTPEI.nwb\n",
      "03-May-25 09:42:23 Skipped checksum for file with hash: eb43f8d9-4c83-3e33-251a-3879cdd40562, and path: /stelmo/nwb/analysis/molly20220416/molly20220416_QF4WSNTPEI.nwb\n",
      "/home/shijiegu/anaconda3/envs/spyglass/lib/python3.10/site-packages/hdmf/spec/namespace.py:535: UserWarning: Ignoring cached namespace 'hdmf-common' version 1.5.1 because version 1.8.0 is already loaded.\n",
      "  warn(\"Ignoring cached namespace '%s' version %s because version %s is already loaded.\"\n",
      "/home/shijiegu/anaconda3/envs/spyglass/lib/python3.10/site-packages/hdmf/spec/namespace.py:535: UserWarning: Ignoring cached namespace 'core' version 2.4.0 because version 2.7.0 is already loaded.\n",
      "  warn(\"Ignoring cached namespace '%s' version %s because version %s is already loaded.\"\n",
      "/home/shijiegu/anaconda3/envs/spyglass/lib/python3.10/site-packages/hdmf/spec/namespace.py:535: UserWarning: Ignoring cached namespace 'hdmf-experimental' version 0.2.0 because version 0.5.0 is already loaded.\n",
      "  warn(\"Ignoring cached namespace '%s' version %s because version %s is already loaded.\"\n",
      "/home/shijiegu/anaconda3/envs/spyglass/lib/python3.10/site-packages/hdmf/spec/namespace.py:535: UserWarning: Ignoring cached namespace 'ndx-franklab-novela' version 0.1.0 because version 0.2.0 is already loaded.\n",
      "  warn(\"Ignoring cached namespace '%s' version %s because version %s is already loaded.\"\n",
      "/home/shijiegu/anaconda3/envs/spyglass/lib/python3.10/site-packages/hdmf/spec/namespace.py:535: UserWarning: Ignoring cached namespace 'core' version 2.6.0-alpha because version 2.7.0 is already loaded.\n",
      "  warn(\"Ignoring cached namespace '%s' version %s because version %s is already loaded.\"\n",
      "/home/shijiegu/anaconda3/envs/spyglass/lib/python3.10/site-packages/hdmf/spec/namespace.py:535: UserWarning: Ignoring cached namespace 'ndx-franklab-novela' version 0.1.0 because version 0.2.0 is already loaded.\n",
      "  warn(\"Ignoring cached namespace '%s' version %s because version %s is already loaded.\"\n",
      "[2025-05-03 09:42:43,209][WARNING]: Skipped checksum for file with hash: dbf04dbf-7bf7-f266-9edb-cefef109b86e, and path: /stelmo/nwb/analysis/molly20220416/molly20220416_J3A95K6YQS.nwb\n",
      "03-May-25 09:42:43 Skipped checksum for file with hash: dbf04dbf-7bf7-f266-9edb-cefef109b86e, and path: /stelmo/nwb/analysis/molly20220416/molly20220416_J3A95K6YQS.nwb\n",
      "[2025-05-03 09:42:43,236][WARNING]: Skipped checksum for file with hash: dbf04dbf-7bf7-f266-9edb-cefef109b86e, and path: /stelmo/nwb/analysis/molly20220416/molly20220416_J3A95K6YQS.nwb\n",
      "03-May-25 09:42:43 Skipped checksum for file with hash: dbf04dbf-7bf7-f266-9edb-cefef109b86e, and path: /stelmo/nwb/analysis/molly20220416/molly20220416_J3A95K6YQS.nwb\n",
      "[2025-05-03 09:42:43,245][WARNING]: Skipped checksum for file with hash: dbf04dbf-7bf7-f266-9edb-cefef109b86e, and path: /stelmo/nwb/analysis/molly20220416/molly20220416_J3A95K6YQS.nwb\n",
      "03-May-25 09:42:43 Skipped checksum for file with hash: dbf04dbf-7bf7-f266-9edb-cefef109b86e, and path: /stelmo/nwb/analysis/molly20220416/molly20220416_J3A95K6YQS.nwb\n",
      "/home/shijiegu/anaconda3/envs/spyglass/lib/python3.10/site-packages/hdmf/spec/namespace.py:535: UserWarning: Ignoring cached namespace 'core' version 2.6.0-alpha because version 2.7.0 is already loaded.\n",
      "  warn(\"Ignoring cached namespace '%s' version %s because version %s is already loaded.\"\n",
      "/home/shijiegu/anaconda3/envs/spyglass/lib/python3.10/site-packages/hdmf/spec/namespace.py:535: UserWarning: Ignoring cached namespace 'ndx-franklab-novela' version 0.1.0 because version 0.2.0 is already loaded.\n",
      "  warn(\"Ignoring cached namespace '%s' version %s because version %s is already loaded.\"\n",
      "[2025-05-03 09:44:01,978][WARNING]: Skipped checksum for file with hash: bf1def91-c369-cdfb-447f-f83117d32883, and path: /stelmo/nwb/analysis/molly20220416/molly20220416_YN7E5M84MO.nwb\n",
      "03-May-25 09:44:01 Skipped checksum for file with hash: bf1def91-c369-cdfb-447f-f83117d32883, and path: /stelmo/nwb/analysis/molly20220416/molly20220416_YN7E5M84MO.nwb\n",
      "[2025-05-03 09:44:02,000][WARNING]: Skipped checksum for file with hash: bf1def91-c369-cdfb-447f-f83117d32883, and path: /stelmo/nwb/analysis/molly20220416/molly20220416_YN7E5M84MO.nwb\n",
      "03-May-25 09:44:02 Skipped checksum for file with hash: bf1def91-c369-cdfb-447f-f83117d32883, and path: /stelmo/nwb/analysis/molly20220416/molly20220416_YN7E5M84MO.nwb\n",
      "[2025-05-03 09:44:02,007][WARNING]: Skipped checksum for file with hash: bf1def91-c369-cdfb-447f-f83117d32883, and path: /stelmo/nwb/analysis/molly20220416/molly20220416_YN7E5M84MO.nwb\n",
      "03-May-25 09:44:02 Skipped checksum for file with hash: bf1def91-c369-cdfb-447f-f83117d32883, and path: /stelmo/nwb/analysis/molly20220416/molly20220416_YN7E5M84MO.nwb\n",
      "/home/shijiegu/anaconda3/envs/spyglass/lib/python3.10/site-packages/hdmf/spec/namespace.py:535: UserWarning: Ignoring cached namespace 'core' version 2.6.0-alpha because version 2.7.0 is already loaded.\n",
      "  warn(\"Ignoring cached namespace '%s' version %s because version %s is already loaded.\"\n",
      "/home/shijiegu/anaconda3/envs/spyglass/lib/python3.10/site-packages/hdmf/spec/namespace.py:535: UserWarning: Ignoring cached namespace 'ndx-franklab-novela' version 0.1.0 because version 0.2.0 is already loaded.\n",
      "  warn(\"Ignoring cached namespace '%s' version %s because version %s is already loaded.\"\n",
      "/home/shijiegu/anaconda3/envs/spyglass/lib/python3.10/site-packages/hdmf/spec/namespace.py:535: UserWarning: Ignoring cached namespace 'core' version 2.6.0-alpha because version 2.7.0 is already loaded.\n",
      "  warn(\"Ignoring cached namespace '%s' version %s because version %s is already loaded.\"\n",
      "/home/shijiegu/anaconda3/envs/spyglass/lib/python3.10/site-packages/hdmf/spec/namespace.py:535: UserWarning: Ignoring cached namespace 'ndx-franklab-novela' version 0.1.0 because version 0.2.0 is already loaded.\n",
      "  warn(\"Ignoring cached namespace '%s' version %s because version %s is already loaded.\"\n",
      "/home/shijiegu/anaconda3/envs/spyglass/lib/python3.10/site-packages/spikeinterface/core/base.py:1038: UserWarning: Versions are not the same. This might lead to compatibility errors. Using spikeinterface==0.98.2 is recommended\n",
      "  warnings.warn(\n",
      "/home/shijiegu/anaconda3/envs/spyglass/lib/python3.10/site-packages/spikeinterface/core/base.py:1038: UserWarning: Versions are not the same. This might lead to compatibility errors. Using spikeinterface==0.98.2 is recommended\n",
      "  warnings.warn(\n",
      "[09:48:53][WARNING] Spyglass: Deprecation: this class has been moved out of spyglass.common.common_position\n",
      "\tTrackGraph -> spyglass.linearization.v0.main.TrackGraph\n",
      "Please use the new location.\n",
      "03-May-25 09:48:53 Deprecation: this class has been moved out of spyglass.common.common_position\n",
      "\tTrackGraph -> spyglass.linearization.v0.main.TrackGraph\n",
      "Please use the new location.\n"
     ]
    },
    {
     "name": "stdout",
     "output_type": "stream",
     "text": [
      "Done parsing. Insert into Spyglass\n",
      "epoch name 04_Seq2Session2\n",
      "epoch name 04_Seq2Session2\n",
      "epoch_pos_name pos 3 valid times\n"
     ]
    },
    {
     "name": "stderr",
     "output_type": "stream",
     "text": [
      "[2025-05-03 09:48:53,974][WARNING]: Skipped checksum for file with hash: dca66c58-c248-239a-68d0-76fbb7aa2513, and path: /stelmo/nwb/analysis/molly20220416_0U86ASQYZZ.nwb\n",
      "03-May-25 09:48:53 Skipped checksum for file with hash: dca66c58-c248-239a-68d0-76fbb7aa2513, and path: /stelmo/nwb/analysis/molly20220416_0U86ASQYZZ.nwb\n",
      "[2025-05-03 09:48:53,998][WARNING]: Skipped checksum for file with hash: dca66c58-c248-239a-68d0-76fbb7aa2513, and path: /stelmo/nwb/analysis/molly20220416_0U86ASQYZZ.nwb\n",
      "03-May-25 09:48:53 Skipped checksum for file with hash: dca66c58-c248-239a-68d0-76fbb7aa2513, and path: /stelmo/nwb/analysis/molly20220416_0U86ASQYZZ.nwb\n",
      "[2025-05-03 09:48:54,006][WARNING]: Skipped checksum for file with hash: dca66c58-c248-239a-68d0-76fbb7aa2513, and path: /stelmo/nwb/analysis/molly20220416_0U86ASQYZZ.nwb\n",
      "03-May-25 09:48:54 Skipped checksum for file with hash: dca66c58-c248-239a-68d0-76fbb7aa2513, and path: /stelmo/nwb/analysis/molly20220416_0U86ASQYZZ.nwb\n",
      "/home/shijiegu/anaconda3/envs/spyglass/lib/python3.10/site-packages/hdmf/spec/namespace.py:535: UserWarning: Ignoring cached namespace 'hdmf-common' version 1.5.1 because version 1.8.0 is already loaded.\n",
      "  warn(\"Ignoring cached namespace '%s' version %s because version %s is already loaded.\"\n",
      "/home/shijiegu/anaconda3/envs/spyglass/lib/python3.10/site-packages/hdmf/spec/namespace.py:535: UserWarning: Ignoring cached namespace 'core' version 2.4.0 because version 2.7.0 is already loaded.\n",
      "  warn(\"Ignoring cached namespace '%s' version %s because version %s is already loaded.\"\n",
      "/home/shijiegu/anaconda3/envs/spyglass/lib/python3.10/site-packages/hdmf/spec/namespace.py:535: UserWarning: Ignoring cached namespace 'hdmf-experimental' version 0.2.0 because version 0.5.0 is already loaded.\n",
      "  warn(\"Ignoring cached namespace '%s' version %s because version %s is already loaded.\"\n",
      "/home/shijiegu/anaconda3/envs/spyglass/lib/python3.10/site-packages/hdmf/spec/namespace.py:535: UserWarning: Ignoring cached namespace 'ndx-franklab-novela' version 0.1.0 because version 0.2.0 is already loaded.\n",
      "  warn(\"Ignoring cached namespace '%s' version %s because version %s is already loaded.\"\n",
      "[2025-05-03 09:49:05,661][WARNING]: Skipped checksum for file with hash: ec8b0aa2-3c64-c752-f93c-ff16f4b5ee2b, and path: /stelmo/nwb/analysis/molly20220416_2DU5NTON23.nwb\n",
      "03-May-25 09:49:05 Skipped checksum for file with hash: ec8b0aa2-3c64-c752-f93c-ff16f4b5ee2b, and path: /stelmo/nwb/analysis/molly20220416_2DU5NTON23.nwb\n",
      "[2025-05-03 09:49:05,680][WARNING]: Skipped checksum for file with hash: dc5c4373-c6be-bdf0-147a-c41abdfab48c, and path: /stelmo/nwb/analysis/molly20220416/molly20220416_ZRS5WXGDIB.nwb\n",
      "03-May-25 09:49:05 Skipped checksum for file with hash: dc5c4373-c6be-bdf0-147a-c41abdfab48c, and path: /stelmo/nwb/analysis/molly20220416/molly20220416_ZRS5WXGDIB.nwb\n",
      "[2025-05-03 09:49:05,701][WARNING]: Skipped checksum for file with hash: ec8b0aa2-3c64-c752-f93c-ff16f4b5ee2b, and path: /stelmo/nwb/analysis/molly20220416_2DU5NTON23.nwb\n",
      "03-May-25 09:49:05 Skipped checksum for file with hash: ec8b0aa2-3c64-c752-f93c-ff16f4b5ee2b, and path: /stelmo/nwb/analysis/molly20220416_2DU5NTON23.nwb\n",
      "[2025-05-03 09:49:05,707][WARNING]: Skipped checksum for file with hash: ec8b0aa2-3c64-c752-f93c-ff16f4b5ee2b, and path: /stelmo/nwb/analysis/molly20220416_2DU5NTON23.nwb\n",
      "03-May-25 09:49:05 Skipped checksum for file with hash: ec8b0aa2-3c64-c752-f93c-ff16f4b5ee2b, and path: /stelmo/nwb/analysis/molly20220416_2DU5NTON23.nwb\n",
      "[2025-05-03 09:49:05,722][WARNING]: Skipped checksum for file with hash: dc5c4373-c6be-bdf0-147a-c41abdfab48c, and path: /stelmo/nwb/analysis/molly20220416/molly20220416_ZRS5WXGDIB.nwb\n",
      "03-May-25 09:49:05 Skipped checksum for file with hash: dc5c4373-c6be-bdf0-147a-c41abdfab48c, and path: /stelmo/nwb/analysis/molly20220416/molly20220416_ZRS5WXGDIB.nwb\n",
      "[2025-05-03 09:49:05,731][WARNING]: Skipped checksum for file with hash: dc5c4373-c6be-bdf0-147a-c41abdfab48c, and path: /stelmo/nwb/analysis/molly20220416/molly20220416_ZRS5WXGDIB.nwb\n",
      "03-May-25 09:49:05 Skipped checksum for file with hash: dc5c4373-c6be-bdf0-147a-c41abdfab48c, and path: /stelmo/nwb/analysis/molly20220416/molly20220416_ZRS5WXGDIB.nwb\n",
      "/home/shijiegu/anaconda3/envs/spyglass/lib/python3.10/site-packages/hdmf/spec/namespace.py:535: UserWarning: Ignoring cached namespace 'hdmf-common' version 1.5.1 because version 1.8.0 is already loaded.\n",
      "  warn(\"Ignoring cached namespace '%s' version %s because version %s is already loaded.\"\n",
      "/home/shijiegu/anaconda3/envs/spyglass/lib/python3.10/site-packages/hdmf/spec/namespace.py:535: UserWarning: Ignoring cached namespace 'core' version 2.4.0 because version 2.7.0 is already loaded.\n",
      "  warn(\"Ignoring cached namespace '%s' version %s because version %s is already loaded.\"\n",
      "/home/shijiegu/anaconda3/envs/spyglass/lib/python3.10/site-packages/hdmf/spec/namespace.py:535: UserWarning: Ignoring cached namespace 'hdmf-experimental' version 0.2.0 because version 0.5.0 is already loaded.\n",
      "  warn(\"Ignoring cached namespace '%s' version %s because version %s is already loaded.\"\n",
      "/home/shijiegu/anaconda3/envs/spyglass/lib/python3.10/site-packages/hdmf/spec/namespace.py:535: UserWarning: Ignoring cached namespace 'ndx-franklab-novela' version 0.1.0 because version 0.2.0 is already loaded.\n",
      "  warn(\"Ignoring cached namespace '%s' version %s because version %s is already loaded.\"\n",
      "/home/shijiegu/anaconda3/envs/spyglass/lib/python3.10/site-packages/hdmf/spec/namespace.py:535: UserWarning: Ignoring cached namespace 'core' version 2.6.0-alpha because version 2.7.0 is already loaded.\n",
      "  warn(\"Ignoring cached namespace '%s' version %s because version %s is already loaded.\"\n",
      "/home/shijiegu/anaconda3/envs/spyglass/lib/python3.10/site-packages/hdmf/spec/namespace.py:535: UserWarning: Ignoring cached namespace 'ndx-franklab-novela' version 0.1.0 because version 0.2.0 is already loaded.\n",
      "  warn(\"Ignoring cached namespace '%s' version %s because version %s is already loaded.\"\n",
      "[2025-05-03 09:49:32,583][WARNING]: Skipped checksum for file with hash: dbf04dbf-7bf7-f266-9edb-cefef109b86e, and path: /stelmo/nwb/analysis/molly20220416/molly20220416_J3A95K6YQS.nwb\n",
      "03-May-25 09:49:32 Skipped checksum for file with hash: dbf04dbf-7bf7-f266-9edb-cefef109b86e, and path: /stelmo/nwb/analysis/molly20220416/molly20220416_J3A95K6YQS.nwb\n",
      "[2025-05-03 09:49:32,614][WARNING]: Skipped checksum for file with hash: dbf04dbf-7bf7-f266-9edb-cefef109b86e, and path: /stelmo/nwb/analysis/molly20220416/molly20220416_J3A95K6YQS.nwb\n",
      "03-May-25 09:49:32 Skipped checksum for file with hash: dbf04dbf-7bf7-f266-9edb-cefef109b86e, and path: /stelmo/nwb/analysis/molly20220416/molly20220416_J3A95K6YQS.nwb\n",
      "[2025-05-03 09:49:32,623][WARNING]: Skipped checksum for file with hash: dbf04dbf-7bf7-f266-9edb-cefef109b86e, and path: /stelmo/nwb/analysis/molly20220416/molly20220416_J3A95K6YQS.nwb\n",
      "03-May-25 09:49:32 Skipped checksum for file with hash: dbf04dbf-7bf7-f266-9edb-cefef109b86e, and path: /stelmo/nwb/analysis/molly20220416/molly20220416_J3A95K6YQS.nwb\n",
      "[2025-05-03 09:50:01,477][WARNING]: Skipped checksum for file with hash: 1bc38b47-c52b-56d6-7685-93d8ddd20e95, and path: /stelmo/nwb/analysis/molly20220416/molly20220416_1OTZ1BWI1P.nwb\n",
      "03-May-25 09:50:01 Skipped checksum for file with hash: 1bc38b47-c52b-56d6-7685-93d8ddd20e95, and path: /stelmo/nwb/analysis/molly20220416/molly20220416_1OTZ1BWI1P.nwb\n",
      "[2025-05-03 09:50:01,501][WARNING]: Skipped checksum for file with hash: 1bc38b47-c52b-56d6-7685-93d8ddd20e95, and path: /stelmo/nwb/analysis/molly20220416/molly20220416_1OTZ1BWI1P.nwb\n",
      "03-May-25 09:50:01 Skipped checksum for file with hash: 1bc38b47-c52b-56d6-7685-93d8ddd20e95, and path: /stelmo/nwb/analysis/molly20220416/molly20220416_1OTZ1BWI1P.nwb\n",
      "[2025-05-03 09:50:01,507][WARNING]: Skipped checksum for file with hash: 1bc38b47-c52b-56d6-7685-93d8ddd20e95, and path: /stelmo/nwb/analysis/molly20220416/molly20220416_1OTZ1BWI1P.nwb\n",
      "03-May-25 09:50:01 Skipped checksum for file with hash: 1bc38b47-c52b-56d6-7685-93d8ddd20e95, and path: /stelmo/nwb/analysis/molly20220416/molly20220416_1OTZ1BWI1P.nwb\n",
      "/home/shijiegu/anaconda3/envs/spyglass/lib/python3.10/site-packages/hdmf/spec/namespace.py:535: UserWarning: Ignoring cached namespace 'core' version 2.6.0-alpha because version 2.7.0 is already loaded.\n",
      "  warn(\"Ignoring cached namespace '%s' version %s because version %s is already loaded.\"\n",
      "/home/shijiegu/anaconda3/envs/spyglass/lib/python3.10/site-packages/hdmf/spec/namespace.py:535: UserWarning: Ignoring cached namespace 'ndx-franklab-novela' version 0.1.0 because version 0.2.0 is already loaded.\n",
      "  warn(\"Ignoring cached namespace '%s' version %s because version %s is already loaded.\"\n",
      "/home/shijiegu/anaconda3/envs/spyglass/lib/python3.10/site-packages/hdmf/spec/namespace.py:535: UserWarning: Ignoring cached namespace 'core' version 2.6.0-alpha because version 2.7.0 is already loaded.\n",
      "  warn(\"Ignoring cached namespace '%s' version %s because version %s is already loaded.\"\n",
      "/home/shijiegu/anaconda3/envs/spyglass/lib/python3.10/site-packages/hdmf/spec/namespace.py:535: UserWarning: Ignoring cached namespace 'ndx-franklab-novela' version 0.1.0 because version 0.2.0 is already loaded.\n",
      "  warn(\"Ignoring cached namespace '%s' version %s because version %s is already loaded.\"\n",
      "/home/shijiegu/anaconda3/envs/spyglass/lib/python3.10/site-packages/spikeinterface/core/base.py:1038: UserWarning: Versions are not the same. This might lead to compatibility errors. Using spikeinterface==0.98.2 is recommended\n",
      "  warnings.warn(\n",
      "/home/shijiegu/anaconda3/envs/spyglass/lib/python3.10/site-packages/spikeinterface/core/base.py:1038: UserWarning: Versions are not the same. This might lead to compatibility errors. Using spikeinterface==0.98.2 is recommended\n",
      "  warnings.warn(\n"
     ]
    },
    {
     "name": "stdout",
     "output_type": "stream",
     "text": [
      "Done parsing. Insert into Spyglass\n"
     ]
    },
    {
     "name": "stderr",
     "output_type": "stream",
     "text": [
      "[09:54:38][WARNING] Spyglass: Deprecation: this class has been moved out of spyglass.common.common_position\n",
      "\tTrackGraph -> spyglass.linearization.v0.main.TrackGraph\n",
      "Please use the new location.\n",
      "03-May-25 09:54:38 Deprecation: this class has been moved out of spyglass.common.common_position\n",
      "\tTrackGraph -> spyglass.linearization.v0.main.TrackGraph\n",
      "Please use the new location.\n"
     ]
    },
    {
     "name": "stdout",
     "output_type": "stream",
     "text": [
      "epoch name 06_Seq2Session3\n",
      "epoch name 06_Seq2Session3\n",
      "epoch_pos_name pos 5 valid times\n"
     ]
    },
    {
     "name": "stderr",
     "output_type": "stream",
     "text": [
      "[2025-05-03 09:54:39,633][WARNING]: Skipped checksum for file with hash: 4a558503-a210-14cb-5a58-d02606d8ada5, and path: /stelmo/nwb/analysis/molly20220416_CFCO2DDF9F.nwb\n",
      "03-May-25 09:54:39 Skipped checksum for file with hash: 4a558503-a210-14cb-5a58-d02606d8ada5, and path: /stelmo/nwb/analysis/molly20220416_CFCO2DDF9F.nwb\n",
      "[2025-05-03 09:54:39,698][WARNING]: Skipped checksum for file with hash: 4a558503-a210-14cb-5a58-d02606d8ada5, and path: /stelmo/nwb/analysis/molly20220416_CFCO2DDF9F.nwb\n",
      "03-May-25 09:54:39 Skipped checksum for file with hash: 4a558503-a210-14cb-5a58-d02606d8ada5, and path: /stelmo/nwb/analysis/molly20220416_CFCO2DDF9F.nwb\n",
      "[2025-05-03 09:54:39,704][WARNING]: Skipped checksum for file with hash: 4a558503-a210-14cb-5a58-d02606d8ada5, and path: /stelmo/nwb/analysis/molly20220416_CFCO2DDF9F.nwb\n",
      "03-May-25 09:54:39 Skipped checksum for file with hash: 4a558503-a210-14cb-5a58-d02606d8ada5, and path: /stelmo/nwb/analysis/molly20220416_CFCO2DDF9F.nwb\n",
      "/home/shijiegu/anaconda3/envs/spyglass/lib/python3.10/site-packages/hdmf/spec/namespace.py:535: UserWarning: Ignoring cached namespace 'hdmf-common' version 1.5.1 because version 1.8.0 is already loaded.\n",
      "  warn(\"Ignoring cached namespace '%s' version %s because version %s is already loaded.\"\n",
      "/home/shijiegu/anaconda3/envs/spyglass/lib/python3.10/site-packages/hdmf/spec/namespace.py:535: UserWarning: Ignoring cached namespace 'core' version 2.4.0 because version 2.7.0 is already loaded.\n",
      "  warn(\"Ignoring cached namespace '%s' version %s because version %s is already loaded.\"\n",
      "/home/shijiegu/anaconda3/envs/spyglass/lib/python3.10/site-packages/hdmf/spec/namespace.py:535: UserWarning: Ignoring cached namespace 'hdmf-experimental' version 0.2.0 because version 0.5.0 is already loaded.\n",
      "  warn(\"Ignoring cached namespace '%s' version %s because version %s is already loaded.\"\n",
      "/home/shijiegu/anaconda3/envs/spyglass/lib/python3.10/site-packages/hdmf/spec/namespace.py:535: UserWarning: Ignoring cached namespace 'ndx-franklab-novela' version 0.1.0 because version 0.2.0 is already loaded.\n",
      "  warn(\"Ignoring cached namespace '%s' version %s because version %s is already loaded.\"\n",
      "[2025-05-03 09:54:52,929][WARNING]: Skipped checksum for file with hash: cbabeb7b-cf42-1de9-8252-7a7551a64a83, and path: /stelmo/nwb/analysis/molly20220416_V0XOW828KM.nwb\n",
      "03-May-25 09:54:52 Skipped checksum for file with hash: cbabeb7b-cf42-1de9-8252-7a7551a64a83, and path: /stelmo/nwb/analysis/molly20220416_V0XOW828KM.nwb\n",
      "[2025-05-03 09:54:52,942][WARNING]: Skipped checksum for file with hash: 2ea9da4b-c155-a7d8-ee82-6ae623cfa407, and path: /stelmo/nwb/analysis/molly20220416/molly20220416_7Q82G1WJS2.nwb\n",
      "03-May-25 09:54:52 Skipped checksum for file with hash: 2ea9da4b-c155-a7d8-ee82-6ae623cfa407, and path: /stelmo/nwb/analysis/molly20220416/molly20220416_7Q82G1WJS2.nwb\n",
      "[2025-05-03 09:54:52,960][WARNING]: Skipped checksum for file with hash: cbabeb7b-cf42-1de9-8252-7a7551a64a83, and path: /stelmo/nwb/analysis/molly20220416_V0XOW828KM.nwb\n",
      "03-May-25 09:54:52 Skipped checksum for file with hash: cbabeb7b-cf42-1de9-8252-7a7551a64a83, and path: /stelmo/nwb/analysis/molly20220416_V0XOW828KM.nwb\n",
      "[2025-05-03 09:54:52,966][WARNING]: Skipped checksum for file with hash: cbabeb7b-cf42-1de9-8252-7a7551a64a83, and path: /stelmo/nwb/analysis/molly20220416_V0XOW828KM.nwb\n",
      "03-May-25 09:54:52 Skipped checksum for file with hash: cbabeb7b-cf42-1de9-8252-7a7551a64a83, and path: /stelmo/nwb/analysis/molly20220416_V0XOW828KM.nwb\n",
      "[2025-05-03 09:54:52,979][WARNING]: Skipped checksum for file with hash: 2ea9da4b-c155-a7d8-ee82-6ae623cfa407, and path: /stelmo/nwb/analysis/molly20220416/molly20220416_7Q82G1WJS2.nwb\n",
      "03-May-25 09:54:52 Skipped checksum for file with hash: 2ea9da4b-c155-a7d8-ee82-6ae623cfa407, and path: /stelmo/nwb/analysis/molly20220416/molly20220416_7Q82G1WJS2.nwb\n",
      "[2025-05-03 09:54:52,985][WARNING]: Skipped checksum for file with hash: 2ea9da4b-c155-a7d8-ee82-6ae623cfa407, and path: /stelmo/nwb/analysis/molly20220416/molly20220416_7Q82G1WJS2.nwb\n",
      "03-May-25 09:54:52 Skipped checksum for file with hash: 2ea9da4b-c155-a7d8-ee82-6ae623cfa407, and path: /stelmo/nwb/analysis/molly20220416/molly20220416_7Q82G1WJS2.nwb\n",
      "/home/shijiegu/anaconda3/envs/spyglass/lib/python3.10/site-packages/hdmf/spec/namespace.py:535: UserWarning: Ignoring cached namespace 'hdmf-common' version 1.5.1 because version 1.8.0 is already loaded.\n",
      "  warn(\"Ignoring cached namespace '%s' version %s because version %s is already loaded.\"\n",
      "/home/shijiegu/anaconda3/envs/spyglass/lib/python3.10/site-packages/hdmf/spec/namespace.py:535: UserWarning: Ignoring cached namespace 'core' version 2.4.0 because version 2.7.0 is already loaded.\n",
      "  warn(\"Ignoring cached namespace '%s' version %s because version %s is already loaded.\"\n",
      "/home/shijiegu/anaconda3/envs/spyglass/lib/python3.10/site-packages/hdmf/spec/namespace.py:535: UserWarning: Ignoring cached namespace 'hdmf-experimental' version 0.2.0 because version 0.5.0 is already loaded.\n",
      "  warn(\"Ignoring cached namespace '%s' version %s because version %s is already loaded.\"\n",
      "/home/shijiegu/anaconda3/envs/spyglass/lib/python3.10/site-packages/hdmf/spec/namespace.py:535: UserWarning: Ignoring cached namespace 'ndx-franklab-novela' version 0.1.0 because version 0.2.0 is already loaded.\n",
      "  warn(\"Ignoring cached namespace '%s' version %s because version %s is already loaded.\"\n",
      "/home/shijiegu/anaconda3/envs/spyglass/lib/python3.10/site-packages/hdmf/spec/namespace.py:535: UserWarning: Ignoring cached namespace 'core' version 2.6.0-alpha because version 2.7.0 is already loaded.\n",
      "  warn(\"Ignoring cached namespace '%s' version %s because version %s is already loaded.\"\n",
      "/home/shijiegu/anaconda3/envs/spyglass/lib/python3.10/site-packages/hdmf/spec/namespace.py:535: UserWarning: Ignoring cached namespace 'ndx-franklab-novela' version 0.1.0 because version 0.2.0 is already loaded.\n",
      "  warn(\"Ignoring cached namespace '%s' version %s because version %s is already loaded.\"\n",
      "[2025-05-03 09:55:19,944][WARNING]: Skipped checksum for file with hash: dbf04dbf-7bf7-f266-9edb-cefef109b86e, and path: /stelmo/nwb/analysis/molly20220416/molly20220416_J3A95K6YQS.nwb\n",
      "03-May-25 09:55:19 Skipped checksum for file with hash: dbf04dbf-7bf7-f266-9edb-cefef109b86e, and path: /stelmo/nwb/analysis/molly20220416/molly20220416_J3A95K6YQS.nwb\n",
      "[2025-05-03 09:55:19,968][WARNING]: Skipped checksum for file with hash: dbf04dbf-7bf7-f266-9edb-cefef109b86e, and path: /stelmo/nwb/analysis/molly20220416/molly20220416_J3A95K6YQS.nwb\n",
      "03-May-25 09:55:19 Skipped checksum for file with hash: dbf04dbf-7bf7-f266-9edb-cefef109b86e, and path: /stelmo/nwb/analysis/molly20220416/molly20220416_J3A95K6YQS.nwb\n",
      "[2025-05-03 09:55:19,975][WARNING]: Skipped checksum for file with hash: dbf04dbf-7bf7-f266-9edb-cefef109b86e, and path: /stelmo/nwb/analysis/molly20220416/molly20220416_J3A95K6YQS.nwb\n",
      "03-May-25 09:55:19 Skipped checksum for file with hash: dbf04dbf-7bf7-f266-9edb-cefef109b86e, and path: /stelmo/nwb/analysis/molly20220416/molly20220416_J3A95K6YQS.nwb\n",
      "[2025-05-03 09:55:39,112][WARNING]: Skipped checksum for file with hash: b08c3ca5-a725-4b34-785e-620c459f3ab4, and path: /stelmo/nwb/analysis/molly20220416/molly20220416_MCR74BVM1Q.nwb\n",
      "03-May-25 09:55:39 Skipped checksum for file with hash: b08c3ca5-a725-4b34-785e-620c459f3ab4, and path: /stelmo/nwb/analysis/molly20220416/molly20220416_MCR74BVM1Q.nwb\n",
      "[2025-05-03 09:55:39,135][WARNING]: Skipped checksum for file with hash: b08c3ca5-a725-4b34-785e-620c459f3ab4, and path: /stelmo/nwb/analysis/molly20220416/molly20220416_MCR74BVM1Q.nwb\n",
      "03-May-25 09:55:39 Skipped checksum for file with hash: b08c3ca5-a725-4b34-785e-620c459f3ab4, and path: /stelmo/nwb/analysis/molly20220416/molly20220416_MCR74BVM1Q.nwb\n",
      "[2025-05-03 09:55:39,142][WARNING]: Skipped checksum for file with hash: b08c3ca5-a725-4b34-785e-620c459f3ab4, and path: /stelmo/nwb/analysis/molly20220416/molly20220416_MCR74BVM1Q.nwb\n",
      "03-May-25 09:55:39 Skipped checksum for file with hash: b08c3ca5-a725-4b34-785e-620c459f3ab4, and path: /stelmo/nwb/analysis/molly20220416/molly20220416_MCR74BVM1Q.nwb\n",
      "/home/shijiegu/anaconda3/envs/spyglass/lib/python3.10/site-packages/hdmf/spec/namespace.py:535: UserWarning: Ignoring cached namespace 'core' version 2.6.0-alpha because version 2.7.0 is already loaded.\n",
      "  warn(\"Ignoring cached namespace '%s' version %s because version %s is already loaded.\"\n",
      "/home/shijiegu/anaconda3/envs/spyglass/lib/python3.10/site-packages/hdmf/spec/namespace.py:535: UserWarning: Ignoring cached namespace 'ndx-franklab-novela' version 0.1.0 because version 0.2.0 is already loaded.\n",
      "  warn(\"Ignoring cached namespace '%s' version %s because version %s is already loaded.\"\n",
      "/home/shijiegu/anaconda3/envs/spyglass/lib/python3.10/site-packages/hdmf/spec/namespace.py:535: UserWarning: Ignoring cached namespace 'core' version 2.6.0-alpha because version 2.7.0 is already loaded.\n",
      "  warn(\"Ignoring cached namespace '%s' version %s because version %s is already loaded.\"\n",
      "/home/shijiegu/anaconda3/envs/spyglass/lib/python3.10/site-packages/hdmf/spec/namespace.py:535: UserWarning: Ignoring cached namespace 'ndx-franklab-novela' version 0.1.0 because version 0.2.0 is already loaded.\n",
      "  warn(\"Ignoring cached namespace '%s' version %s because version %s is already loaded.\"\n",
      "/home/shijiegu/anaconda3/envs/spyglass/lib/python3.10/site-packages/spikeinterface/core/base.py:1038: UserWarning: Versions are not the same. This might lead to compatibility errors. Using spikeinterface==0.98.2 is recommended\n",
      "  warnings.warn(\n",
      "/home/shijiegu/anaconda3/envs/spyglass/lib/python3.10/site-packages/spikeinterface/core/base.py:1038: UserWarning: Versions are not the same. This might lead to compatibility errors. Using spikeinterface==0.98.2 is recommended\n",
      "  warnings.warn(\n"
     ]
    },
    {
     "name": "stdout",
     "output_type": "stream",
     "text": [
      "Done parsing. Insert into Spyglass\n"
     ]
    },
    {
     "name": "stderr",
     "output_type": "stream",
     "text": [
      "[10:00:05][WARNING] Spyglass: Deprecation: this class has been moved out of spyglass.common.common_position\n",
      "\tTrackGraph -> spyglass.linearization.v0.main.TrackGraph\n",
      "Please use the new location.\n",
      "03-May-25 10:00:05 Deprecation: this class has been moved out of spyglass.common.common_position\n",
      "\tTrackGraph -> spyglass.linearization.v0.main.TrackGraph\n",
      "Please use the new location.\n"
     ]
    },
    {
     "name": "stdout",
     "output_type": "stream",
     "text": [
      "epoch name 08_Seq2Session4\n",
      "epoch name 08_Seq2Session4\n",
      "epoch_pos_name pos 7 valid times\n"
     ]
    },
    {
     "name": "stderr",
     "output_type": "stream",
     "text": [
      "[2025-05-03 10:00:05,747][WARNING]: Skipped checksum for file with hash: 818ad181-72f8-9372-0509-2177ee97138d, and path: /stelmo/nwb/analysis/molly20220416_5EIVJPSDFS.nwb\n",
      "03-May-25 10:00:05 Skipped checksum for file with hash: 818ad181-72f8-9372-0509-2177ee97138d, and path: /stelmo/nwb/analysis/molly20220416_5EIVJPSDFS.nwb\n",
      "[2025-05-03 10:00:05,772][WARNING]: Skipped checksum for file with hash: 818ad181-72f8-9372-0509-2177ee97138d, and path: /stelmo/nwb/analysis/molly20220416_5EIVJPSDFS.nwb\n",
      "03-May-25 10:00:05 Skipped checksum for file with hash: 818ad181-72f8-9372-0509-2177ee97138d, and path: /stelmo/nwb/analysis/molly20220416_5EIVJPSDFS.nwb\n",
      "[2025-05-03 10:00:05,780][WARNING]: Skipped checksum for file with hash: 818ad181-72f8-9372-0509-2177ee97138d, and path: /stelmo/nwb/analysis/molly20220416_5EIVJPSDFS.nwb\n",
      "03-May-25 10:00:05 Skipped checksum for file with hash: 818ad181-72f8-9372-0509-2177ee97138d, and path: /stelmo/nwb/analysis/molly20220416_5EIVJPSDFS.nwb\n",
      "/home/shijiegu/anaconda3/envs/spyglass/lib/python3.10/site-packages/hdmf/spec/namespace.py:535: UserWarning: Ignoring cached namespace 'hdmf-common' version 1.5.1 because version 1.8.0 is already loaded.\n",
      "  warn(\"Ignoring cached namespace '%s' version %s because version %s is already loaded.\"\n",
      "/home/shijiegu/anaconda3/envs/spyglass/lib/python3.10/site-packages/hdmf/spec/namespace.py:535: UserWarning: Ignoring cached namespace 'core' version 2.4.0 because version 2.7.0 is already loaded.\n",
      "  warn(\"Ignoring cached namespace '%s' version %s because version %s is already loaded.\"\n",
      "/home/shijiegu/anaconda3/envs/spyglass/lib/python3.10/site-packages/hdmf/spec/namespace.py:535: UserWarning: Ignoring cached namespace 'hdmf-experimental' version 0.2.0 because version 0.5.0 is already loaded.\n",
      "  warn(\"Ignoring cached namespace '%s' version %s because version %s is already loaded.\"\n",
      "/home/shijiegu/anaconda3/envs/spyglass/lib/python3.10/site-packages/hdmf/spec/namespace.py:535: UserWarning: Ignoring cached namespace 'ndx-franklab-novela' version 0.1.0 because version 0.2.0 is already loaded.\n",
      "  warn(\"Ignoring cached namespace '%s' version %s because version %s is already loaded.\"\n",
      "[2025-05-03 10:00:18,093][WARNING]: Skipped checksum for file with hash: 46fea1e6-811f-ea2f-38ba-1e687441320e, and path: /stelmo/nwb/analysis/molly20220416_6MCIADL6C8.nwb\n",
      "03-May-25 10:00:18 Skipped checksum for file with hash: 46fea1e6-811f-ea2f-38ba-1e687441320e, and path: /stelmo/nwb/analysis/molly20220416_6MCIADL6C8.nwb\n",
      "[2025-05-03 10:00:18,110][WARNING]: Skipped checksum for file with hash: 08e02c87-e279-a87c-1678-0bbc4de9af9a, and path: /stelmo/nwb/analysis/molly20220416/molly20220416_0MGN45AFFX.nwb\n",
      "03-May-25 10:00:18 Skipped checksum for file with hash: 08e02c87-e279-a87c-1678-0bbc4de9af9a, and path: /stelmo/nwb/analysis/molly20220416/molly20220416_0MGN45AFFX.nwb\n",
      "[2025-05-03 10:00:18,132][WARNING]: Skipped checksum for file with hash: 46fea1e6-811f-ea2f-38ba-1e687441320e, and path: /stelmo/nwb/analysis/molly20220416_6MCIADL6C8.nwb\n",
      "03-May-25 10:00:18 Skipped checksum for file with hash: 46fea1e6-811f-ea2f-38ba-1e687441320e, and path: /stelmo/nwb/analysis/molly20220416_6MCIADL6C8.nwb\n",
      "[2025-05-03 10:00:18,144][WARNING]: Skipped checksum for file with hash: 46fea1e6-811f-ea2f-38ba-1e687441320e, and path: /stelmo/nwb/analysis/molly20220416_6MCIADL6C8.nwb\n",
      "03-May-25 10:00:18 Skipped checksum for file with hash: 46fea1e6-811f-ea2f-38ba-1e687441320e, and path: /stelmo/nwb/analysis/molly20220416_6MCIADL6C8.nwb\n",
      "[2025-05-03 10:00:18,162][WARNING]: Skipped checksum for file with hash: 08e02c87-e279-a87c-1678-0bbc4de9af9a, and path: /stelmo/nwb/analysis/molly20220416/molly20220416_0MGN45AFFX.nwb\n",
      "03-May-25 10:00:18 Skipped checksum for file with hash: 08e02c87-e279-a87c-1678-0bbc4de9af9a, and path: /stelmo/nwb/analysis/molly20220416/molly20220416_0MGN45AFFX.nwb\n",
      "[2025-05-03 10:00:18,210][WARNING]: Skipped checksum for file with hash: 08e02c87-e279-a87c-1678-0bbc4de9af9a, and path: /stelmo/nwb/analysis/molly20220416/molly20220416_0MGN45AFFX.nwb\n",
      "03-May-25 10:00:18 Skipped checksum for file with hash: 08e02c87-e279-a87c-1678-0bbc4de9af9a, and path: /stelmo/nwb/analysis/molly20220416/molly20220416_0MGN45AFFX.nwb\n",
      "/home/shijiegu/anaconda3/envs/spyglass/lib/python3.10/site-packages/hdmf/spec/namespace.py:535: UserWarning: Ignoring cached namespace 'hdmf-common' version 1.5.1 because version 1.8.0 is already loaded.\n",
      "  warn(\"Ignoring cached namespace '%s' version %s because version %s is already loaded.\"\n",
      "/home/shijiegu/anaconda3/envs/spyglass/lib/python3.10/site-packages/hdmf/spec/namespace.py:535: UserWarning: Ignoring cached namespace 'core' version 2.4.0 because version 2.7.0 is already loaded.\n",
      "  warn(\"Ignoring cached namespace '%s' version %s because version %s is already loaded.\"\n",
      "/home/shijiegu/anaconda3/envs/spyglass/lib/python3.10/site-packages/hdmf/spec/namespace.py:535: UserWarning: Ignoring cached namespace 'hdmf-experimental' version 0.2.0 because version 0.5.0 is already loaded.\n",
      "  warn(\"Ignoring cached namespace '%s' version %s because version %s is already loaded.\"\n",
      "/home/shijiegu/anaconda3/envs/spyglass/lib/python3.10/site-packages/hdmf/spec/namespace.py:535: UserWarning: Ignoring cached namespace 'ndx-franklab-novela' version 0.1.0 because version 0.2.0 is already loaded.\n",
      "  warn(\"Ignoring cached namespace '%s' version %s because version %s is already loaded.\"\n",
      "/home/shijiegu/anaconda3/envs/spyglass/lib/python3.10/site-packages/hdmf/spec/namespace.py:535: UserWarning: Ignoring cached namespace 'core' version 2.6.0-alpha because version 2.7.0 is already loaded.\n",
      "  warn(\"Ignoring cached namespace '%s' version %s because version %s is already loaded.\"\n",
      "/home/shijiegu/anaconda3/envs/spyglass/lib/python3.10/site-packages/hdmf/spec/namespace.py:535: UserWarning: Ignoring cached namespace 'ndx-franklab-novela' version 0.1.0 because version 0.2.0 is already loaded.\n",
      "  warn(\"Ignoring cached namespace '%s' version %s because version %s is already loaded.\"\n",
      "[2025-05-03 10:00:44,893][WARNING]: Skipped checksum for file with hash: dbf04dbf-7bf7-f266-9edb-cefef109b86e, and path: /stelmo/nwb/analysis/molly20220416/molly20220416_J3A95K6YQS.nwb\n",
      "03-May-25 10:00:44 Skipped checksum for file with hash: dbf04dbf-7bf7-f266-9edb-cefef109b86e, and path: /stelmo/nwb/analysis/molly20220416/molly20220416_J3A95K6YQS.nwb\n",
      "[2025-05-03 10:00:44,918][WARNING]: Skipped checksum for file with hash: dbf04dbf-7bf7-f266-9edb-cefef109b86e, and path: /stelmo/nwb/analysis/molly20220416/molly20220416_J3A95K6YQS.nwb\n",
      "03-May-25 10:00:44 Skipped checksum for file with hash: dbf04dbf-7bf7-f266-9edb-cefef109b86e, and path: /stelmo/nwb/analysis/molly20220416/molly20220416_J3A95K6YQS.nwb\n",
      "[2025-05-03 10:00:44,926][WARNING]: Skipped checksum for file with hash: dbf04dbf-7bf7-f266-9edb-cefef109b86e, and path: /stelmo/nwb/analysis/molly20220416/molly20220416_J3A95K6YQS.nwb\n",
      "03-May-25 10:00:44 Skipped checksum for file with hash: dbf04dbf-7bf7-f266-9edb-cefef109b86e, and path: /stelmo/nwb/analysis/molly20220416/molly20220416_J3A95K6YQS.nwb\n",
      "[2025-05-03 10:01:03,966][WARNING]: Skipped checksum for file with hash: 3034127c-bf54-8a8f-3be4-17ba5c58d782, and path: /stelmo/nwb/analysis/molly20220416/molly20220416_BA02KWXG2O.nwb\n",
      "03-May-25 10:01:03 Skipped checksum for file with hash: 3034127c-bf54-8a8f-3be4-17ba5c58d782, and path: /stelmo/nwb/analysis/molly20220416/molly20220416_BA02KWXG2O.nwb\n",
      "[2025-05-03 10:01:03,989][WARNING]: Skipped checksum for file with hash: 3034127c-bf54-8a8f-3be4-17ba5c58d782, and path: /stelmo/nwb/analysis/molly20220416/molly20220416_BA02KWXG2O.nwb\n",
      "03-May-25 10:01:03 Skipped checksum for file with hash: 3034127c-bf54-8a8f-3be4-17ba5c58d782, and path: /stelmo/nwb/analysis/molly20220416/molly20220416_BA02KWXG2O.nwb\n",
      "[2025-05-03 10:01:03,995][WARNING]: Skipped checksum for file with hash: 3034127c-bf54-8a8f-3be4-17ba5c58d782, and path: /stelmo/nwb/analysis/molly20220416/molly20220416_BA02KWXG2O.nwb\n",
      "03-May-25 10:01:03 Skipped checksum for file with hash: 3034127c-bf54-8a8f-3be4-17ba5c58d782, and path: /stelmo/nwb/analysis/molly20220416/molly20220416_BA02KWXG2O.nwb\n",
      "/home/shijiegu/anaconda3/envs/spyglass/lib/python3.10/site-packages/hdmf/spec/namespace.py:535: UserWarning: Ignoring cached namespace 'core' version 2.6.0-alpha because version 2.7.0 is already loaded.\n",
      "  warn(\"Ignoring cached namespace '%s' version %s because version %s is already loaded.\"\n",
      "/home/shijiegu/anaconda3/envs/spyglass/lib/python3.10/site-packages/hdmf/spec/namespace.py:535: UserWarning: Ignoring cached namespace 'ndx-franklab-novela' version 0.1.0 because version 0.2.0 is already loaded.\n",
      "  warn(\"Ignoring cached namespace '%s' version %s because version %s is already loaded.\"\n",
      "/home/shijiegu/anaconda3/envs/spyglass/lib/python3.10/site-packages/hdmf/spec/namespace.py:535: UserWarning: Ignoring cached namespace 'core' version 2.6.0-alpha because version 2.7.0 is already loaded.\n",
      "  warn(\"Ignoring cached namespace '%s' version %s because version %s is already loaded.\"\n",
      "/home/shijiegu/anaconda3/envs/spyglass/lib/python3.10/site-packages/hdmf/spec/namespace.py:535: UserWarning: Ignoring cached namespace 'ndx-franklab-novela' version 0.1.0 because version 0.2.0 is already loaded.\n",
      "  warn(\"Ignoring cached namespace '%s' version %s because version %s is already loaded.\"\n",
      "/home/shijiegu/anaconda3/envs/spyglass/lib/python3.10/site-packages/spikeinterface/core/base.py:1038: UserWarning: Versions are not the same. This might lead to compatibility errors. Using spikeinterface==0.98.2 is recommended\n",
      "  warnings.warn(\n",
      "/home/shijiegu/anaconda3/envs/spyglass/lib/python3.10/site-packages/spikeinterface/core/base.py:1038: UserWarning: Versions are not the same. This might lead to compatibility errors. Using spikeinterface==0.98.2 is recommended\n",
      "  warnings.warn(\n"
     ]
    },
    {
     "name": "stdout",
     "output_type": "stream",
     "text": [
      "Done parsing. Insert into Spyglass\n"
     ]
    },
    {
     "name": "stderr",
     "output_type": "stream",
     "text": [
      "[10:05:55][WARNING] Spyglass: Deprecation: this class has been moved out of spyglass.common.common_position\n",
      "\tTrackGraph -> spyglass.linearization.v0.main.TrackGraph\n",
      "Please use the new location.\n",
      "03-May-25 10:05:55 Deprecation: this class has been moved out of spyglass.common.common_position\n",
      "\tTrackGraph -> spyglass.linearization.v0.main.TrackGraph\n",
      "Please use the new location.\n"
     ]
    },
    {
     "name": "stdout",
     "output_type": "stream",
     "text": [
      "epoch name 10_Seq2Session5\n",
      "epoch name 10_Seq2Session5\n",
      "epoch_pos_name pos 9 valid times\n"
     ]
    },
    {
     "name": "stderr",
     "output_type": "stream",
     "text": [
      "[2025-05-03 10:05:55,830][WARNING]: Skipped checksum for file with hash: 691a2f51-adb4-1cfb-b4a2-baebd9804674, and path: /stelmo/nwb/analysis/molly20220416_JSGHDPOYSK.nwb\n",
      "03-May-25 10:05:55 Skipped checksum for file with hash: 691a2f51-adb4-1cfb-b4a2-baebd9804674, and path: /stelmo/nwb/analysis/molly20220416_JSGHDPOYSK.nwb\n",
      "[2025-05-03 10:05:55,855][WARNING]: Skipped checksum for file with hash: 691a2f51-adb4-1cfb-b4a2-baebd9804674, and path: /stelmo/nwb/analysis/molly20220416_JSGHDPOYSK.nwb\n",
      "03-May-25 10:05:55 Skipped checksum for file with hash: 691a2f51-adb4-1cfb-b4a2-baebd9804674, and path: /stelmo/nwb/analysis/molly20220416_JSGHDPOYSK.nwb\n",
      "[2025-05-03 10:05:55,864][WARNING]: Skipped checksum for file with hash: 691a2f51-adb4-1cfb-b4a2-baebd9804674, and path: /stelmo/nwb/analysis/molly20220416_JSGHDPOYSK.nwb\n",
      "03-May-25 10:05:55 Skipped checksum for file with hash: 691a2f51-adb4-1cfb-b4a2-baebd9804674, and path: /stelmo/nwb/analysis/molly20220416_JSGHDPOYSK.nwb\n",
      "/home/shijiegu/anaconda3/envs/spyglass/lib/python3.10/site-packages/hdmf/spec/namespace.py:535: UserWarning: Ignoring cached namespace 'hdmf-common' version 1.5.1 because version 1.8.0 is already loaded.\n",
      "  warn(\"Ignoring cached namespace '%s' version %s because version %s is already loaded.\"\n",
      "/home/shijiegu/anaconda3/envs/spyglass/lib/python3.10/site-packages/hdmf/spec/namespace.py:535: UserWarning: Ignoring cached namespace 'core' version 2.4.0 because version 2.7.0 is already loaded.\n",
      "  warn(\"Ignoring cached namespace '%s' version %s because version %s is already loaded.\"\n",
      "/home/shijiegu/anaconda3/envs/spyglass/lib/python3.10/site-packages/hdmf/spec/namespace.py:535: UserWarning: Ignoring cached namespace 'hdmf-experimental' version 0.2.0 because version 0.5.0 is already loaded.\n",
      "  warn(\"Ignoring cached namespace '%s' version %s because version %s is already loaded.\"\n",
      "/home/shijiegu/anaconda3/envs/spyglass/lib/python3.10/site-packages/hdmf/spec/namespace.py:535: UserWarning: Ignoring cached namespace 'ndx-franklab-novela' version 0.1.0 because version 0.2.0 is already loaded.\n",
      "  warn(\"Ignoring cached namespace '%s' version %s because version %s is already loaded.\"\n",
      "[2025-05-03 10:06:06,694][WARNING]: Skipped checksum for file with hash: 85fa1bad-dceb-d07c-e6b5-b441d1ecacb9, and path: /stelmo/nwb/analysis/molly20220416_G109OIZTVT.nwb\n",
      "03-May-25 10:06:06 Skipped checksum for file with hash: 85fa1bad-dceb-d07c-e6b5-b441d1ecacb9, and path: /stelmo/nwb/analysis/molly20220416_G109OIZTVT.nwb\n",
      "[2025-05-03 10:06:06,712][WARNING]: Skipped checksum for file with hash: 7e25a092-5ba9-96d5-a15b-368f4ab8c6bd, and path: /stelmo/nwb/analysis/molly20220416/molly20220416_6UK74HRD9P.nwb\n",
      "03-May-25 10:06:06 Skipped checksum for file with hash: 7e25a092-5ba9-96d5-a15b-368f4ab8c6bd, and path: /stelmo/nwb/analysis/molly20220416/molly20220416_6UK74HRD9P.nwb\n",
      "[2025-05-03 10:06:06,733][WARNING]: Skipped checksum for file with hash: 85fa1bad-dceb-d07c-e6b5-b441d1ecacb9, and path: /stelmo/nwb/analysis/molly20220416_G109OIZTVT.nwb\n",
      "03-May-25 10:06:06 Skipped checksum for file with hash: 85fa1bad-dceb-d07c-e6b5-b441d1ecacb9, and path: /stelmo/nwb/analysis/molly20220416_G109OIZTVT.nwb\n",
      "[2025-05-03 10:06:06,740][WARNING]: Skipped checksum for file with hash: 85fa1bad-dceb-d07c-e6b5-b441d1ecacb9, and path: /stelmo/nwb/analysis/molly20220416_G109OIZTVT.nwb\n",
      "03-May-25 10:06:06 Skipped checksum for file with hash: 85fa1bad-dceb-d07c-e6b5-b441d1ecacb9, and path: /stelmo/nwb/analysis/molly20220416_G109OIZTVT.nwb\n",
      "[2025-05-03 10:06:06,757][WARNING]: Skipped checksum for file with hash: 7e25a092-5ba9-96d5-a15b-368f4ab8c6bd, and path: /stelmo/nwb/analysis/molly20220416/molly20220416_6UK74HRD9P.nwb\n",
      "03-May-25 10:06:06 Skipped checksum for file with hash: 7e25a092-5ba9-96d5-a15b-368f4ab8c6bd, and path: /stelmo/nwb/analysis/molly20220416/molly20220416_6UK74HRD9P.nwb\n",
      "[2025-05-03 10:06:06,765][WARNING]: Skipped checksum for file with hash: 7e25a092-5ba9-96d5-a15b-368f4ab8c6bd, and path: /stelmo/nwb/analysis/molly20220416/molly20220416_6UK74HRD9P.nwb\n",
      "03-May-25 10:06:06 Skipped checksum for file with hash: 7e25a092-5ba9-96d5-a15b-368f4ab8c6bd, and path: /stelmo/nwb/analysis/molly20220416/molly20220416_6UK74HRD9P.nwb\n",
      "/home/shijiegu/anaconda3/envs/spyglass/lib/python3.10/site-packages/hdmf/spec/namespace.py:535: UserWarning: Ignoring cached namespace 'hdmf-common' version 1.5.1 because version 1.8.0 is already loaded.\n",
      "  warn(\"Ignoring cached namespace '%s' version %s because version %s is already loaded.\"\n",
      "/home/shijiegu/anaconda3/envs/spyglass/lib/python3.10/site-packages/hdmf/spec/namespace.py:535: UserWarning: Ignoring cached namespace 'core' version 2.4.0 because version 2.7.0 is already loaded.\n",
      "  warn(\"Ignoring cached namespace '%s' version %s because version %s is already loaded.\"\n",
      "/home/shijiegu/anaconda3/envs/spyglass/lib/python3.10/site-packages/hdmf/spec/namespace.py:535: UserWarning: Ignoring cached namespace 'hdmf-experimental' version 0.2.0 because version 0.5.0 is already loaded.\n",
      "  warn(\"Ignoring cached namespace '%s' version %s because version %s is already loaded.\"\n",
      "/home/shijiegu/anaconda3/envs/spyglass/lib/python3.10/site-packages/hdmf/spec/namespace.py:535: UserWarning: Ignoring cached namespace 'ndx-franklab-novela' version 0.1.0 because version 0.2.0 is already loaded.\n",
      "  warn(\"Ignoring cached namespace '%s' version %s because version %s is already loaded.\"\n",
      "/home/shijiegu/anaconda3/envs/spyglass/lib/python3.10/site-packages/hdmf/spec/namespace.py:535: UserWarning: Ignoring cached namespace 'core' version 2.6.0-alpha because version 2.7.0 is already loaded.\n",
      "  warn(\"Ignoring cached namespace '%s' version %s because version %s is already loaded.\"\n",
      "/home/shijiegu/anaconda3/envs/spyglass/lib/python3.10/site-packages/hdmf/spec/namespace.py:535: UserWarning: Ignoring cached namespace 'ndx-franklab-novela' version 0.1.0 because version 0.2.0 is already loaded.\n",
      "  warn(\"Ignoring cached namespace '%s' version %s because version %s is already loaded.\"\n",
      "[2025-05-03 10:06:27,553][WARNING]: Skipped checksum for file with hash: dbf04dbf-7bf7-f266-9edb-cefef109b86e, and path: /stelmo/nwb/analysis/molly20220416/molly20220416_J3A95K6YQS.nwb\n",
      "03-May-25 10:06:27 Skipped checksum for file with hash: dbf04dbf-7bf7-f266-9edb-cefef109b86e, and path: /stelmo/nwb/analysis/molly20220416/molly20220416_J3A95K6YQS.nwb\n",
      "[2025-05-03 10:06:27,584][WARNING]: Skipped checksum for file with hash: dbf04dbf-7bf7-f266-9edb-cefef109b86e, and path: /stelmo/nwb/analysis/molly20220416/molly20220416_J3A95K6YQS.nwb\n",
      "03-May-25 10:06:27 Skipped checksum for file with hash: dbf04dbf-7bf7-f266-9edb-cefef109b86e, and path: /stelmo/nwb/analysis/molly20220416/molly20220416_J3A95K6YQS.nwb\n",
      "[2025-05-03 10:06:27,593][WARNING]: Skipped checksum for file with hash: dbf04dbf-7bf7-f266-9edb-cefef109b86e, and path: /stelmo/nwb/analysis/molly20220416/molly20220416_J3A95K6YQS.nwb\n",
      "03-May-25 10:06:27 Skipped checksum for file with hash: dbf04dbf-7bf7-f266-9edb-cefef109b86e, and path: /stelmo/nwb/analysis/molly20220416/molly20220416_J3A95K6YQS.nwb\n",
      "[2025-05-03 10:06:46,503][WARNING]: Skipped checksum for file with hash: ce4f1a8f-4b16-e16f-2b44-992346b80e61, and path: /stelmo/nwb/analysis/molly20220416/molly20220416_YC4AO13CHH.nwb\n",
      "03-May-25 10:06:46 Skipped checksum for file with hash: ce4f1a8f-4b16-e16f-2b44-992346b80e61, and path: /stelmo/nwb/analysis/molly20220416/molly20220416_YC4AO13CHH.nwb\n",
      "[2025-05-03 10:06:46,521][WARNING]: Skipped checksum for file with hash: ce4f1a8f-4b16-e16f-2b44-992346b80e61, and path: /stelmo/nwb/analysis/molly20220416/molly20220416_YC4AO13CHH.nwb\n",
      "03-May-25 10:06:46 Skipped checksum for file with hash: ce4f1a8f-4b16-e16f-2b44-992346b80e61, and path: /stelmo/nwb/analysis/molly20220416/molly20220416_YC4AO13CHH.nwb\n",
      "[2025-05-03 10:06:46,526][WARNING]: Skipped checksum for file with hash: ce4f1a8f-4b16-e16f-2b44-992346b80e61, and path: /stelmo/nwb/analysis/molly20220416/molly20220416_YC4AO13CHH.nwb\n",
      "03-May-25 10:06:46 Skipped checksum for file with hash: ce4f1a8f-4b16-e16f-2b44-992346b80e61, and path: /stelmo/nwb/analysis/molly20220416/molly20220416_YC4AO13CHH.nwb\n",
      "/home/shijiegu/anaconda3/envs/spyglass/lib/python3.10/site-packages/hdmf/spec/namespace.py:535: UserWarning: Ignoring cached namespace 'core' version 2.6.0-alpha because version 2.7.0 is already loaded.\n",
      "  warn(\"Ignoring cached namespace '%s' version %s because version %s is already loaded.\"\n",
      "/home/shijiegu/anaconda3/envs/spyglass/lib/python3.10/site-packages/hdmf/spec/namespace.py:535: UserWarning: Ignoring cached namespace 'ndx-franklab-novela' version 0.1.0 because version 0.2.0 is already loaded.\n",
      "  warn(\"Ignoring cached namespace '%s' version %s because version %s is already loaded.\"\n",
      "/home/shijiegu/anaconda3/envs/spyglass/lib/python3.10/site-packages/hdmf/spec/namespace.py:535: UserWarning: Ignoring cached namespace 'core' version 2.6.0-alpha because version 2.7.0 is already loaded.\n",
      "  warn(\"Ignoring cached namespace '%s' version %s because version %s is already loaded.\"\n",
      "/home/shijiegu/anaconda3/envs/spyglass/lib/python3.10/site-packages/hdmf/spec/namespace.py:535: UserWarning: Ignoring cached namespace 'ndx-franklab-novela' version 0.1.0 because version 0.2.0 is already loaded.\n",
      "  warn(\"Ignoring cached namespace '%s' version %s because version %s is already loaded.\"\n",
      "/home/shijiegu/anaconda3/envs/spyglass/lib/python3.10/site-packages/spikeinterface/core/base.py:1038: UserWarning: Versions are not the same. This might lead to compatibility errors. Using spikeinterface==0.98.2 is recommended\n",
      "  warnings.warn(\n",
      "/home/shijiegu/anaconda3/envs/spyglass/lib/python3.10/site-packages/spikeinterface/core/base.py:1038: UserWarning: Versions are not the same. This might lead to compatibility errors. Using spikeinterface==0.98.2 is recommended\n",
      "  warnings.warn(\n"
     ]
    },
    {
     "name": "stdout",
     "output_type": "stream",
     "text": [
      "Done parsing. Insert into Spyglass\n"
     ]
    },
    {
     "name": "stderr",
     "output_type": "stream",
     "text": [
      "[10:11:18][WARNING] Spyglass: Deprecation: this class has been moved out of spyglass.common.common_position\n",
      "\tTrackGraph -> spyglass.linearization.v0.main.TrackGraph\n",
      "Please use the new location.\n",
      "03-May-25 10:11:18 Deprecation: this class has been moved out of spyglass.common.common_position\n",
      "\tTrackGraph -> spyglass.linearization.v0.main.TrackGraph\n",
      "Please use the new location.\n"
     ]
    },
    {
     "name": "stdout",
     "output_type": "stream",
     "text": [
      "epoch name 02_Seq2Session1\n",
      "epoch name 02_Seq2Session1\n",
      "epoch_pos_name pos 1 valid times\n"
     ]
    },
    {
     "name": "stderr",
     "output_type": "stream",
     "text": [
      "[2025-05-03 10:11:19,078][WARNING]: Skipped checksum for file with hash: 2359321f-d4bf-3daa-fba6-eb1f87dd9546, and path: /stelmo/nwb/analysis/molly20220417_EXN2LL5HT5.nwb\n",
      "03-May-25 10:11:19 Skipped checksum for file with hash: 2359321f-d4bf-3daa-fba6-eb1f87dd9546, and path: /stelmo/nwb/analysis/molly20220417_EXN2LL5HT5.nwb\n",
      "[2025-05-03 10:11:19,102][WARNING]: Skipped checksum for file with hash: 2359321f-d4bf-3daa-fba6-eb1f87dd9546, and path: /stelmo/nwb/analysis/molly20220417_EXN2LL5HT5.nwb\n",
      "03-May-25 10:11:19 Skipped checksum for file with hash: 2359321f-d4bf-3daa-fba6-eb1f87dd9546, and path: /stelmo/nwb/analysis/molly20220417_EXN2LL5HT5.nwb\n",
      "[2025-05-03 10:11:19,110][WARNING]: Skipped checksum for file with hash: 2359321f-d4bf-3daa-fba6-eb1f87dd9546, and path: /stelmo/nwb/analysis/molly20220417_EXN2LL5HT5.nwb\n",
      "03-May-25 10:11:19 Skipped checksum for file with hash: 2359321f-d4bf-3daa-fba6-eb1f87dd9546, and path: /stelmo/nwb/analysis/molly20220417_EXN2LL5HT5.nwb\n",
      "/home/shijiegu/anaconda3/envs/spyglass/lib/python3.10/site-packages/hdmf/spec/namespace.py:535: UserWarning: Ignoring cached namespace 'hdmf-common' version 1.5.1 because version 1.8.0 is already loaded.\n",
      "  warn(\"Ignoring cached namespace '%s' version %s because version %s is already loaded.\"\n",
      "/home/shijiegu/anaconda3/envs/spyglass/lib/python3.10/site-packages/hdmf/spec/namespace.py:535: UserWarning: Ignoring cached namespace 'core' version 2.4.0 because version 2.7.0 is already loaded.\n",
      "  warn(\"Ignoring cached namespace '%s' version %s because version %s is already loaded.\"\n",
      "/home/shijiegu/anaconda3/envs/spyglass/lib/python3.10/site-packages/hdmf/spec/namespace.py:535: UserWarning: Ignoring cached namespace 'hdmf-experimental' version 0.2.0 because version 0.5.0 is already loaded.\n",
      "  warn(\"Ignoring cached namespace '%s' version %s because version %s is already loaded.\"\n",
      "/home/shijiegu/anaconda3/envs/spyglass/lib/python3.10/site-packages/hdmf/spec/namespace.py:535: UserWarning: Ignoring cached namespace 'ndx-franklab-novela' version 0.1.0 because version 0.2.0 is already loaded.\n",
      "  warn(\"Ignoring cached namespace '%s' version %s because version %s is already loaded.\"\n",
      "[2025-05-03 10:11:28,530][WARNING]: Skipped checksum for file with hash: f81730a3-d1fb-e702-49f3-bbde84a01bca, and path: /stelmo/nwb/analysis/molly20220417_CP4YVHRX8L.nwb\n",
      "03-May-25 10:11:28 Skipped checksum for file with hash: f81730a3-d1fb-e702-49f3-bbde84a01bca, and path: /stelmo/nwb/analysis/molly20220417_CP4YVHRX8L.nwb\n",
      "[2025-05-03 10:11:28,549][WARNING]: Skipped checksum for file with hash: 6ba71f41-dd0a-42f8-e577-acfc4dea3bd6, and path: /stelmo/nwb/analysis/molly20220417/molly20220417_2871HOLJ51.nwb\n",
      "03-May-25 10:11:28 Skipped checksum for file with hash: 6ba71f41-dd0a-42f8-e577-acfc4dea3bd6, and path: /stelmo/nwb/analysis/molly20220417/molly20220417_2871HOLJ51.nwb\n",
      "[2025-05-03 10:11:28,570][WARNING]: Skipped checksum for file with hash: f81730a3-d1fb-e702-49f3-bbde84a01bca, and path: /stelmo/nwb/analysis/molly20220417_CP4YVHRX8L.nwb\n",
      "03-May-25 10:11:28 Skipped checksum for file with hash: f81730a3-d1fb-e702-49f3-bbde84a01bca, and path: /stelmo/nwb/analysis/molly20220417_CP4YVHRX8L.nwb\n",
      "[2025-05-03 10:11:28,577][WARNING]: Skipped checksum for file with hash: f81730a3-d1fb-e702-49f3-bbde84a01bca, and path: /stelmo/nwb/analysis/molly20220417_CP4YVHRX8L.nwb\n",
      "03-May-25 10:11:28 Skipped checksum for file with hash: f81730a3-d1fb-e702-49f3-bbde84a01bca, and path: /stelmo/nwb/analysis/molly20220417_CP4YVHRX8L.nwb\n",
      "[2025-05-03 10:11:28,593][WARNING]: Skipped checksum for file with hash: 6ba71f41-dd0a-42f8-e577-acfc4dea3bd6, and path: /stelmo/nwb/analysis/molly20220417/molly20220417_2871HOLJ51.nwb\n",
      "03-May-25 10:11:28 Skipped checksum for file with hash: 6ba71f41-dd0a-42f8-e577-acfc4dea3bd6, and path: /stelmo/nwb/analysis/molly20220417/molly20220417_2871HOLJ51.nwb\n",
      "[2025-05-03 10:11:28,601][WARNING]: Skipped checksum for file with hash: 6ba71f41-dd0a-42f8-e577-acfc4dea3bd6, and path: /stelmo/nwb/analysis/molly20220417/molly20220417_2871HOLJ51.nwb\n",
      "03-May-25 10:11:28 Skipped checksum for file with hash: 6ba71f41-dd0a-42f8-e577-acfc4dea3bd6, and path: /stelmo/nwb/analysis/molly20220417/molly20220417_2871HOLJ51.nwb\n",
      "/home/shijiegu/anaconda3/envs/spyglass/lib/python3.10/site-packages/hdmf/spec/namespace.py:535: UserWarning: Ignoring cached namespace 'hdmf-common' version 1.5.1 because version 1.8.0 is already loaded.\n",
      "  warn(\"Ignoring cached namespace '%s' version %s because version %s is already loaded.\"\n",
      "/home/shijiegu/anaconda3/envs/spyglass/lib/python3.10/site-packages/hdmf/spec/namespace.py:535: UserWarning: Ignoring cached namespace 'core' version 2.4.0 because version 2.7.0 is already loaded.\n",
      "  warn(\"Ignoring cached namespace '%s' version %s because version %s is already loaded.\"\n",
      "/home/shijiegu/anaconda3/envs/spyglass/lib/python3.10/site-packages/hdmf/spec/namespace.py:535: UserWarning: Ignoring cached namespace 'hdmf-experimental' version 0.2.0 because version 0.5.0 is already loaded.\n",
      "  warn(\"Ignoring cached namespace '%s' version %s because version %s is already loaded.\"\n",
      "/home/shijiegu/anaconda3/envs/spyglass/lib/python3.10/site-packages/hdmf/spec/namespace.py:535: UserWarning: Ignoring cached namespace 'ndx-franklab-novela' version 0.1.0 because version 0.2.0 is already loaded.\n",
      "  warn(\"Ignoring cached namespace '%s' version %s because version %s is already loaded.\"\n",
      "/home/shijiegu/anaconda3/envs/spyglass/lib/python3.10/site-packages/hdmf/spec/namespace.py:535: UserWarning: Ignoring cached namespace 'core' version 2.6.0-alpha because version 2.7.0 is already loaded.\n",
      "  warn(\"Ignoring cached namespace '%s' version %s because version %s is already loaded.\"\n",
      "/home/shijiegu/anaconda3/envs/spyglass/lib/python3.10/site-packages/hdmf/spec/namespace.py:535: UserWarning: Ignoring cached namespace 'ndx-franklab-novela' version 0.1.0 because version 0.2.0 is already loaded.\n",
      "  warn(\"Ignoring cached namespace '%s' version %s because version %s is already loaded.\"\n",
      "[2025-05-03 10:11:47,916][WARNING]: Skipped checksum for file with hash: 9bfbd538-fac9-297d-e2cc-7398101ec3c5, and path: /stelmo/nwb/analysis/molly20220417/molly20220417_NJXOI2MHWE.nwb\n",
      "03-May-25 10:11:47 Skipped checksum for file with hash: 9bfbd538-fac9-297d-e2cc-7398101ec3c5, and path: /stelmo/nwb/analysis/molly20220417/molly20220417_NJXOI2MHWE.nwb\n",
      "[2025-05-03 10:11:47,941][WARNING]: Skipped checksum for file with hash: 9bfbd538-fac9-297d-e2cc-7398101ec3c5, and path: /stelmo/nwb/analysis/molly20220417/molly20220417_NJXOI2MHWE.nwb\n",
      "03-May-25 10:11:47 Skipped checksum for file with hash: 9bfbd538-fac9-297d-e2cc-7398101ec3c5, and path: /stelmo/nwb/analysis/molly20220417/molly20220417_NJXOI2MHWE.nwb\n",
      "[2025-05-03 10:11:47,949][WARNING]: Skipped checksum for file with hash: 9bfbd538-fac9-297d-e2cc-7398101ec3c5, and path: /stelmo/nwb/analysis/molly20220417/molly20220417_NJXOI2MHWE.nwb\n",
      "03-May-25 10:11:47 Skipped checksum for file with hash: 9bfbd538-fac9-297d-e2cc-7398101ec3c5, and path: /stelmo/nwb/analysis/molly20220417/molly20220417_NJXOI2MHWE.nwb\n",
      "/home/shijiegu/anaconda3/envs/spyglass/lib/python3.10/site-packages/hdmf/spec/namespace.py:535: UserWarning: Ignoring cached namespace 'core' version 2.6.0-alpha because version 2.7.0 is already loaded.\n",
      "  warn(\"Ignoring cached namespace '%s' version %s because version %s is already loaded.\"\n",
      "/home/shijiegu/anaconda3/envs/spyglass/lib/python3.10/site-packages/hdmf/spec/namespace.py:535: UserWarning: Ignoring cached namespace 'ndx-franklab-novela' version 0.1.0 because version 0.2.0 is already loaded.\n",
      "  warn(\"Ignoring cached namespace '%s' version %s because version %s is already loaded.\"\n",
      "[2025-05-03 10:13:24,596][WARNING]: Skipped checksum for file with hash: a0484876-2217-24cf-faa7-51338ba8a30f, and path: /stelmo/nwb/analysis/molly20220417/molly20220417_D506FEBKAH.nwb\n",
      "03-May-25 10:13:24 Skipped checksum for file with hash: a0484876-2217-24cf-faa7-51338ba8a30f, and path: /stelmo/nwb/analysis/molly20220417/molly20220417_D506FEBKAH.nwb\n",
      "[2025-05-03 10:13:24,619][WARNING]: Skipped checksum for file with hash: a0484876-2217-24cf-faa7-51338ba8a30f, and path: /stelmo/nwb/analysis/molly20220417/molly20220417_D506FEBKAH.nwb\n",
      "03-May-25 10:13:24 Skipped checksum for file with hash: a0484876-2217-24cf-faa7-51338ba8a30f, and path: /stelmo/nwb/analysis/molly20220417/molly20220417_D506FEBKAH.nwb\n",
      "[2025-05-03 10:13:24,625][WARNING]: Skipped checksum for file with hash: a0484876-2217-24cf-faa7-51338ba8a30f, and path: /stelmo/nwb/analysis/molly20220417/molly20220417_D506FEBKAH.nwb\n",
      "03-May-25 10:13:24 Skipped checksum for file with hash: a0484876-2217-24cf-faa7-51338ba8a30f, and path: /stelmo/nwb/analysis/molly20220417/molly20220417_D506FEBKAH.nwb\n",
      "/home/shijiegu/anaconda3/envs/spyglass/lib/python3.10/site-packages/hdmf/spec/namespace.py:535: UserWarning: Ignoring cached namespace 'core' version 2.6.0-alpha because version 2.7.0 is already loaded.\n",
      "  warn(\"Ignoring cached namespace '%s' version %s because version %s is already loaded.\"\n",
      "/home/shijiegu/anaconda3/envs/spyglass/lib/python3.10/site-packages/hdmf/spec/namespace.py:535: UserWarning: Ignoring cached namespace 'ndx-franklab-novela' version 0.1.0 because version 0.2.0 is already loaded.\n",
      "  warn(\"Ignoring cached namespace '%s' version %s because version %s is already loaded.\"\n",
      "/home/shijiegu/anaconda3/envs/spyglass/lib/python3.10/site-packages/hdmf/spec/namespace.py:535: UserWarning: Ignoring cached namespace 'core' version 2.6.0-alpha because version 2.7.0 is already loaded.\n",
      "  warn(\"Ignoring cached namespace '%s' version %s because version %s is already loaded.\"\n",
      "/home/shijiegu/anaconda3/envs/spyglass/lib/python3.10/site-packages/hdmf/spec/namespace.py:535: UserWarning: Ignoring cached namespace 'ndx-franklab-novela' version 0.1.0 because version 0.2.0 is already loaded.\n",
      "  warn(\"Ignoring cached namespace '%s' version %s because version %s is already loaded.\"\n",
      "/home/shijiegu/anaconda3/envs/spyglass/lib/python3.10/site-packages/spikeinterface/core/base.py:1038: UserWarning: Versions are not the same. This might lead to compatibility errors. Using spikeinterface==0.98.2 is recommended\n",
      "  warnings.warn(\n",
      "/home/shijiegu/anaconda3/envs/spyglass/lib/python3.10/site-packages/spikeinterface/core/base.py:1038: UserWarning: Versions are not the same. This might lead to compatibility errors. Using spikeinterface==0.98.2 is recommended\n",
      "  warnings.warn(\n"
     ]
    },
    {
     "name": "stdout",
     "output_type": "stream",
     "text": [
      "Done parsing. Insert into Spyglass\n"
     ]
    },
    {
     "name": "stderr",
     "output_type": "stream",
     "text": [
      "[10:18:59][WARNING] Spyglass: Deprecation: this class has been moved out of spyglass.common.common_position\n",
      "\tTrackGraph -> spyglass.linearization.v0.main.TrackGraph\n",
      "Please use the new location.\n",
      "03-May-25 10:18:59 Deprecation: this class has been moved out of spyglass.common.common_position\n",
      "\tTrackGraph -> spyglass.linearization.v0.main.TrackGraph\n",
      "Please use the new location.\n"
     ]
    },
    {
     "name": "stdout",
     "output_type": "stream",
     "text": [
      "epoch name 04_Seq2Session2\n",
      "epoch name 04_Seq2Session2\n",
      "epoch_pos_name pos 3 valid times\n"
     ]
    },
    {
     "name": "stderr",
     "output_type": "stream",
     "text": [
      "[2025-05-03 10:18:59,859][WARNING]: Skipped checksum for file with hash: 905875dc-2ed0-f6a6-dd4f-fbb855889a85, and path: /stelmo/nwb/analysis/molly20220417_8HM1ZSMUHJ.nwb\n",
      "03-May-25 10:18:59 Skipped checksum for file with hash: 905875dc-2ed0-f6a6-dd4f-fbb855889a85, and path: /stelmo/nwb/analysis/molly20220417_8HM1ZSMUHJ.nwb\n",
      "[2025-05-03 10:18:59,884][WARNING]: Skipped checksum for file with hash: 905875dc-2ed0-f6a6-dd4f-fbb855889a85, and path: /stelmo/nwb/analysis/molly20220417_8HM1ZSMUHJ.nwb\n",
      "03-May-25 10:18:59 Skipped checksum for file with hash: 905875dc-2ed0-f6a6-dd4f-fbb855889a85, and path: /stelmo/nwb/analysis/molly20220417_8HM1ZSMUHJ.nwb\n",
      "[2025-05-03 10:18:59,893][WARNING]: Skipped checksum for file with hash: 905875dc-2ed0-f6a6-dd4f-fbb855889a85, and path: /stelmo/nwb/analysis/molly20220417_8HM1ZSMUHJ.nwb\n",
      "03-May-25 10:18:59 Skipped checksum for file with hash: 905875dc-2ed0-f6a6-dd4f-fbb855889a85, and path: /stelmo/nwb/analysis/molly20220417_8HM1ZSMUHJ.nwb\n",
      "/home/shijiegu/anaconda3/envs/spyglass/lib/python3.10/site-packages/hdmf/spec/namespace.py:535: UserWarning: Ignoring cached namespace 'hdmf-common' version 1.5.1 because version 1.8.0 is already loaded.\n",
      "  warn(\"Ignoring cached namespace '%s' version %s because version %s is already loaded.\"\n",
      "/home/shijiegu/anaconda3/envs/spyglass/lib/python3.10/site-packages/hdmf/spec/namespace.py:535: UserWarning: Ignoring cached namespace 'core' version 2.4.0 because version 2.7.0 is already loaded.\n",
      "  warn(\"Ignoring cached namespace '%s' version %s because version %s is already loaded.\"\n",
      "/home/shijiegu/anaconda3/envs/spyglass/lib/python3.10/site-packages/hdmf/spec/namespace.py:535: UserWarning: Ignoring cached namespace 'hdmf-experimental' version 0.2.0 because version 0.5.0 is already loaded.\n",
      "  warn(\"Ignoring cached namespace '%s' version %s because version %s is already loaded.\"\n",
      "/home/shijiegu/anaconda3/envs/spyglass/lib/python3.10/site-packages/hdmf/spec/namespace.py:535: UserWarning: Ignoring cached namespace 'ndx-franklab-novela' version 0.1.0 because version 0.2.0 is already loaded.\n",
      "  warn(\"Ignoring cached namespace '%s' version %s because version %s is already loaded.\"\n",
      "[2025-05-03 10:19:14,284][WARNING]: Skipped checksum for file with hash: 1ae93bab-797d-936b-3347-61a480cfaea3, and path: /stelmo/nwb/analysis/molly20220417_4K9VV4J7CT.nwb\n",
      "03-May-25 10:19:14 Skipped checksum for file with hash: 1ae93bab-797d-936b-3347-61a480cfaea3, and path: /stelmo/nwb/analysis/molly20220417_4K9VV4J7CT.nwb\n",
      "[2025-05-03 10:19:14,302][WARNING]: Skipped checksum for file with hash: 482a386f-3996-4ad9-b554-4a671accab37, and path: /stelmo/nwb/analysis/molly20220417/molly20220417_G9DDV645VV.nwb\n",
      "03-May-25 10:19:14 Skipped checksum for file with hash: 482a386f-3996-4ad9-b554-4a671accab37, and path: /stelmo/nwb/analysis/molly20220417/molly20220417_G9DDV645VV.nwb\n",
      "[2025-05-03 10:19:14,324][WARNING]: Skipped checksum for file with hash: 1ae93bab-797d-936b-3347-61a480cfaea3, and path: /stelmo/nwb/analysis/molly20220417_4K9VV4J7CT.nwb\n",
      "03-May-25 10:19:14 Skipped checksum for file with hash: 1ae93bab-797d-936b-3347-61a480cfaea3, and path: /stelmo/nwb/analysis/molly20220417_4K9VV4J7CT.nwb\n",
      "[2025-05-03 10:19:14,331][WARNING]: Skipped checksum for file with hash: 1ae93bab-797d-936b-3347-61a480cfaea3, and path: /stelmo/nwb/analysis/molly20220417_4K9VV4J7CT.nwb\n",
      "03-May-25 10:19:14 Skipped checksum for file with hash: 1ae93bab-797d-936b-3347-61a480cfaea3, and path: /stelmo/nwb/analysis/molly20220417_4K9VV4J7CT.nwb\n",
      "[2025-05-03 10:19:14,346][WARNING]: Skipped checksum for file with hash: 482a386f-3996-4ad9-b554-4a671accab37, and path: /stelmo/nwb/analysis/molly20220417/molly20220417_G9DDV645VV.nwb\n",
      "03-May-25 10:19:14 Skipped checksum for file with hash: 482a386f-3996-4ad9-b554-4a671accab37, and path: /stelmo/nwb/analysis/molly20220417/molly20220417_G9DDV645VV.nwb\n",
      "[2025-05-03 10:19:14,355][WARNING]: Skipped checksum for file with hash: 482a386f-3996-4ad9-b554-4a671accab37, and path: /stelmo/nwb/analysis/molly20220417/molly20220417_G9DDV645VV.nwb\n",
      "03-May-25 10:19:14 Skipped checksum for file with hash: 482a386f-3996-4ad9-b554-4a671accab37, and path: /stelmo/nwb/analysis/molly20220417/molly20220417_G9DDV645VV.nwb\n",
      "/home/shijiegu/anaconda3/envs/spyglass/lib/python3.10/site-packages/hdmf/spec/namespace.py:535: UserWarning: Ignoring cached namespace 'hdmf-common' version 1.5.1 because version 1.8.0 is already loaded.\n",
      "  warn(\"Ignoring cached namespace '%s' version %s because version %s is already loaded.\"\n",
      "/home/shijiegu/anaconda3/envs/spyglass/lib/python3.10/site-packages/hdmf/spec/namespace.py:535: UserWarning: Ignoring cached namespace 'core' version 2.4.0 because version 2.7.0 is already loaded.\n",
      "  warn(\"Ignoring cached namespace '%s' version %s because version %s is already loaded.\"\n",
      "/home/shijiegu/anaconda3/envs/spyglass/lib/python3.10/site-packages/hdmf/spec/namespace.py:535: UserWarning: Ignoring cached namespace 'hdmf-experimental' version 0.2.0 because version 0.5.0 is already loaded.\n",
      "  warn(\"Ignoring cached namespace '%s' version %s because version %s is already loaded.\"\n",
      "/home/shijiegu/anaconda3/envs/spyglass/lib/python3.10/site-packages/hdmf/spec/namespace.py:535: UserWarning: Ignoring cached namespace 'ndx-franklab-novela' version 0.1.0 because version 0.2.0 is already loaded.\n",
      "  warn(\"Ignoring cached namespace '%s' version %s because version %s is already loaded.\"\n",
      "/home/shijiegu/anaconda3/envs/spyglass/lib/python3.10/site-packages/hdmf/spec/namespace.py:535: UserWarning: Ignoring cached namespace 'core' version 2.6.0-alpha because version 2.7.0 is already loaded.\n",
      "  warn(\"Ignoring cached namespace '%s' version %s because version %s is already loaded.\"\n",
      "/home/shijiegu/anaconda3/envs/spyglass/lib/python3.10/site-packages/hdmf/spec/namespace.py:535: UserWarning: Ignoring cached namespace 'ndx-franklab-novela' version 0.1.0 because version 0.2.0 is already loaded.\n",
      "  warn(\"Ignoring cached namespace '%s' version %s because version %s is already loaded.\"\n",
      "[2025-05-03 10:19:43,370][WARNING]: Skipped checksum for file with hash: 9bfbd538-fac9-297d-e2cc-7398101ec3c5, and path: /stelmo/nwb/analysis/molly20220417/molly20220417_NJXOI2MHWE.nwb\n",
      "03-May-25 10:19:43 Skipped checksum for file with hash: 9bfbd538-fac9-297d-e2cc-7398101ec3c5, and path: /stelmo/nwb/analysis/molly20220417/molly20220417_NJXOI2MHWE.nwb\n",
      "[2025-05-03 10:19:43,390][WARNING]: Skipped checksum for file with hash: 9bfbd538-fac9-297d-e2cc-7398101ec3c5, and path: /stelmo/nwb/analysis/molly20220417/molly20220417_NJXOI2MHWE.nwb\n",
      "03-May-25 10:19:43 Skipped checksum for file with hash: 9bfbd538-fac9-297d-e2cc-7398101ec3c5, and path: /stelmo/nwb/analysis/molly20220417/molly20220417_NJXOI2MHWE.nwb\n",
      "[2025-05-03 10:19:43,396][WARNING]: Skipped checksum for file with hash: 9bfbd538-fac9-297d-e2cc-7398101ec3c5, and path: /stelmo/nwb/analysis/molly20220417/molly20220417_NJXOI2MHWE.nwb\n",
      "03-May-25 10:19:43 Skipped checksum for file with hash: 9bfbd538-fac9-297d-e2cc-7398101ec3c5, and path: /stelmo/nwb/analysis/molly20220417/molly20220417_NJXOI2MHWE.nwb\n",
      "[2025-05-03 10:20:22,175][WARNING]: Skipped checksum for file with hash: 998710b5-6cf0-8655-1f18-d8a2b1dd8a59, and path: /stelmo/nwb/analysis/molly20220417/molly20220417_K6SPAMVA0C.nwb\n",
      "03-May-25 10:20:22 Skipped checksum for file with hash: 998710b5-6cf0-8655-1f18-d8a2b1dd8a59, and path: /stelmo/nwb/analysis/molly20220417/molly20220417_K6SPAMVA0C.nwb\n",
      "[2025-05-03 10:20:22,197][WARNING]: Skipped checksum for file with hash: 998710b5-6cf0-8655-1f18-d8a2b1dd8a59, and path: /stelmo/nwb/analysis/molly20220417/molly20220417_K6SPAMVA0C.nwb\n",
      "03-May-25 10:20:22 Skipped checksum for file with hash: 998710b5-6cf0-8655-1f18-d8a2b1dd8a59, and path: /stelmo/nwb/analysis/molly20220417/molly20220417_K6SPAMVA0C.nwb\n",
      "[2025-05-03 10:20:22,203][WARNING]: Skipped checksum for file with hash: 998710b5-6cf0-8655-1f18-d8a2b1dd8a59, and path: /stelmo/nwb/analysis/molly20220417/molly20220417_K6SPAMVA0C.nwb\n",
      "03-May-25 10:20:22 Skipped checksum for file with hash: 998710b5-6cf0-8655-1f18-d8a2b1dd8a59, and path: /stelmo/nwb/analysis/molly20220417/molly20220417_K6SPAMVA0C.nwb\n",
      "/home/shijiegu/anaconda3/envs/spyglass/lib/python3.10/site-packages/hdmf/spec/namespace.py:535: UserWarning: Ignoring cached namespace 'core' version 2.6.0-alpha because version 2.7.0 is already loaded.\n",
      "  warn(\"Ignoring cached namespace '%s' version %s because version %s is already loaded.\"\n",
      "/home/shijiegu/anaconda3/envs/spyglass/lib/python3.10/site-packages/hdmf/spec/namespace.py:535: UserWarning: Ignoring cached namespace 'ndx-franklab-novela' version 0.1.0 because version 0.2.0 is already loaded.\n",
      "  warn(\"Ignoring cached namespace '%s' version %s because version %s is already loaded.\"\n",
      "/home/shijiegu/anaconda3/envs/spyglass/lib/python3.10/site-packages/hdmf/spec/namespace.py:535: UserWarning: Ignoring cached namespace 'core' version 2.6.0-alpha because version 2.7.0 is already loaded.\n",
      "  warn(\"Ignoring cached namespace '%s' version %s because version %s is already loaded.\"\n",
      "/home/shijiegu/anaconda3/envs/spyglass/lib/python3.10/site-packages/hdmf/spec/namespace.py:535: UserWarning: Ignoring cached namespace 'ndx-franklab-novela' version 0.1.0 because version 0.2.0 is already loaded.\n",
      "  warn(\"Ignoring cached namespace '%s' version %s because version %s is already loaded.\"\n",
      "/home/shijiegu/anaconda3/envs/spyglass/lib/python3.10/site-packages/spikeinterface/core/base.py:1038: UserWarning: Versions are not the same. This might lead to compatibility errors. Using spikeinterface==0.98.2 is recommended\n",
      "  warnings.warn(\n",
      "/home/shijiegu/anaconda3/envs/spyglass/lib/python3.10/site-packages/spikeinterface/core/base.py:1038: UserWarning: Versions are not the same. This might lead to compatibility errors. Using spikeinterface==0.98.2 is recommended\n",
      "  warnings.warn(\n"
     ]
    },
    {
     "name": "stdout",
     "output_type": "stream",
     "text": [
      "Done parsing. Insert into Spyglass\n"
     ]
    },
    {
     "name": "stderr",
     "output_type": "stream",
     "text": [
      "[10:26:33][WARNING] Spyglass: Deprecation: this class has been moved out of spyglass.common.common_position\n",
      "\tTrackGraph -> spyglass.linearization.v0.main.TrackGraph\n",
      "Please use the new location.\n",
      "03-May-25 10:26:33 Deprecation: this class has been moved out of spyglass.common.common_position\n",
      "\tTrackGraph -> spyglass.linearization.v0.main.TrackGraph\n",
      "Please use the new location.\n"
     ]
    },
    {
     "name": "stdout",
     "output_type": "stream",
     "text": [
      "epoch name 06_Seq2Session3\n",
      "epoch name 06_Seq2Session3\n",
      "epoch_pos_name pos 5 valid times\n"
     ]
    },
    {
     "name": "stderr",
     "output_type": "stream",
     "text": [
      "[2025-05-03 10:26:33,949][WARNING]: Skipped checksum for file with hash: 2af44931-61d0-a47e-cfeb-68b85f48a86e, and path: /stelmo/nwb/analysis/molly20220417_D6MFI4G3O3.nwb\n",
      "03-May-25 10:26:33 Skipped checksum for file with hash: 2af44931-61d0-a47e-cfeb-68b85f48a86e, and path: /stelmo/nwb/analysis/molly20220417_D6MFI4G3O3.nwb\n",
      "[2025-05-03 10:26:33,972][WARNING]: Skipped checksum for file with hash: 2af44931-61d0-a47e-cfeb-68b85f48a86e, and path: /stelmo/nwb/analysis/molly20220417_D6MFI4G3O3.nwb\n",
      "03-May-25 10:26:33 Skipped checksum for file with hash: 2af44931-61d0-a47e-cfeb-68b85f48a86e, and path: /stelmo/nwb/analysis/molly20220417_D6MFI4G3O3.nwb\n",
      "[2025-05-03 10:26:33,979][WARNING]: Skipped checksum for file with hash: 2af44931-61d0-a47e-cfeb-68b85f48a86e, and path: /stelmo/nwb/analysis/molly20220417_D6MFI4G3O3.nwb\n",
      "03-May-25 10:26:33 Skipped checksum for file with hash: 2af44931-61d0-a47e-cfeb-68b85f48a86e, and path: /stelmo/nwb/analysis/molly20220417_D6MFI4G3O3.nwb\n",
      "/home/shijiegu/anaconda3/envs/spyglass/lib/python3.10/site-packages/hdmf/spec/namespace.py:535: UserWarning: Ignoring cached namespace 'hdmf-common' version 1.5.1 because version 1.8.0 is already loaded.\n",
      "  warn(\"Ignoring cached namespace '%s' version %s because version %s is already loaded.\"\n",
      "/home/shijiegu/anaconda3/envs/spyglass/lib/python3.10/site-packages/hdmf/spec/namespace.py:535: UserWarning: Ignoring cached namespace 'core' version 2.4.0 because version 2.7.0 is already loaded.\n",
      "  warn(\"Ignoring cached namespace '%s' version %s because version %s is already loaded.\"\n",
      "/home/shijiegu/anaconda3/envs/spyglass/lib/python3.10/site-packages/hdmf/spec/namespace.py:535: UserWarning: Ignoring cached namespace 'hdmf-experimental' version 0.2.0 because version 0.5.0 is already loaded.\n",
      "  warn(\"Ignoring cached namespace '%s' version %s because version %s is already loaded.\"\n",
      "/home/shijiegu/anaconda3/envs/spyglass/lib/python3.10/site-packages/hdmf/spec/namespace.py:535: UserWarning: Ignoring cached namespace 'ndx-franklab-novela' version 0.1.0 because version 0.2.0 is already loaded.\n",
      "  warn(\"Ignoring cached namespace '%s' version %s because version %s is already loaded.\"\n",
      "[2025-05-03 10:26:47,605][WARNING]: Skipped checksum for file with hash: 7cdac611-fb1b-a41a-6b56-f5246b5dc7ff, and path: /stelmo/nwb/analysis/molly20220417_L7FHCAMFWW.nwb\n",
      "03-May-25 10:26:47 Skipped checksum for file with hash: 7cdac611-fb1b-a41a-6b56-f5246b5dc7ff, and path: /stelmo/nwb/analysis/molly20220417_L7FHCAMFWW.nwb\n",
      "[2025-05-03 10:26:47,622][WARNING]: Skipped checksum for file with hash: fdefdbdb-acc7-51e0-75c7-6c333dd20634, and path: /stelmo/nwb/analysis/molly20220417/molly20220417_YGL9VLLBAV.nwb\n",
      "03-May-25 10:26:47 Skipped checksum for file with hash: fdefdbdb-acc7-51e0-75c7-6c333dd20634, and path: /stelmo/nwb/analysis/molly20220417/molly20220417_YGL9VLLBAV.nwb\n",
      "[2025-05-03 10:26:47,644][WARNING]: Skipped checksum for file with hash: 7cdac611-fb1b-a41a-6b56-f5246b5dc7ff, and path: /stelmo/nwb/analysis/molly20220417_L7FHCAMFWW.nwb\n",
      "03-May-25 10:26:47 Skipped checksum for file with hash: 7cdac611-fb1b-a41a-6b56-f5246b5dc7ff, and path: /stelmo/nwb/analysis/molly20220417_L7FHCAMFWW.nwb\n",
      "[2025-05-03 10:26:47,653][WARNING]: Skipped checksum for file with hash: 7cdac611-fb1b-a41a-6b56-f5246b5dc7ff, and path: /stelmo/nwb/analysis/molly20220417_L7FHCAMFWW.nwb\n",
      "03-May-25 10:26:47 Skipped checksum for file with hash: 7cdac611-fb1b-a41a-6b56-f5246b5dc7ff, and path: /stelmo/nwb/analysis/molly20220417_L7FHCAMFWW.nwb\n",
      "[2025-05-03 10:26:47,705][WARNING]: Skipped checksum for file with hash: fdefdbdb-acc7-51e0-75c7-6c333dd20634, and path: /stelmo/nwb/analysis/molly20220417/molly20220417_YGL9VLLBAV.nwb\n",
      "03-May-25 10:26:47 Skipped checksum for file with hash: fdefdbdb-acc7-51e0-75c7-6c333dd20634, and path: /stelmo/nwb/analysis/molly20220417/molly20220417_YGL9VLLBAV.nwb\n",
      "[2025-05-03 10:26:47,752][WARNING]: Skipped checksum for file with hash: fdefdbdb-acc7-51e0-75c7-6c333dd20634, and path: /stelmo/nwb/analysis/molly20220417/molly20220417_YGL9VLLBAV.nwb\n",
      "03-May-25 10:26:47 Skipped checksum for file with hash: fdefdbdb-acc7-51e0-75c7-6c333dd20634, and path: /stelmo/nwb/analysis/molly20220417/molly20220417_YGL9VLLBAV.nwb\n",
      "/home/shijiegu/anaconda3/envs/spyglass/lib/python3.10/site-packages/hdmf/spec/namespace.py:535: UserWarning: Ignoring cached namespace 'hdmf-common' version 1.5.1 because version 1.8.0 is already loaded.\n",
      "  warn(\"Ignoring cached namespace '%s' version %s because version %s is already loaded.\"\n",
      "/home/shijiegu/anaconda3/envs/spyglass/lib/python3.10/site-packages/hdmf/spec/namespace.py:535: UserWarning: Ignoring cached namespace 'core' version 2.4.0 because version 2.7.0 is already loaded.\n",
      "  warn(\"Ignoring cached namespace '%s' version %s because version %s is already loaded.\"\n",
      "/home/shijiegu/anaconda3/envs/spyglass/lib/python3.10/site-packages/hdmf/spec/namespace.py:535: UserWarning: Ignoring cached namespace 'hdmf-experimental' version 0.2.0 because version 0.5.0 is already loaded.\n",
      "  warn(\"Ignoring cached namespace '%s' version %s because version %s is already loaded.\"\n",
      "/home/shijiegu/anaconda3/envs/spyglass/lib/python3.10/site-packages/hdmf/spec/namespace.py:535: UserWarning: Ignoring cached namespace 'ndx-franklab-novela' version 0.1.0 because version 0.2.0 is already loaded.\n",
      "  warn(\"Ignoring cached namespace '%s' version %s because version %s is already loaded.\"\n",
      "/home/shijiegu/anaconda3/envs/spyglass/lib/python3.10/site-packages/hdmf/spec/namespace.py:535: UserWarning: Ignoring cached namespace 'core' version 2.6.0-alpha because version 2.7.0 is already loaded.\n",
      "  warn(\"Ignoring cached namespace '%s' version %s because version %s is already loaded.\"\n",
      "/home/shijiegu/anaconda3/envs/spyglass/lib/python3.10/site-packages/hdmf/spec/namespace.py:535: UserWarning: Ignoring cached namespace 'ndx-franklab-novela' version 0.1.0 because version 0.2.0 is already loaded.\n",
      "  warn(\"Ignoring cached namespace '%s' version %s because version %s is already loaded.\"\n",
      "[2025-05-03 10:27:15,866][WARNING]: Skipped checksum for file with hash: 9bfbd538-fac9-297d-e2cc-7398101ec3c5, and path: /stelmo/nwb/analysis/molly20220417/molly20220417_NJXOI2MHWE.nwb\n",
      "03-May-25 10:27:15 Skipped checksum for file with hash: 9bfbd538-fac9-297d-e2cc-7398101ec3c5, and path: /stelmo/nwb/analysis/molly20220417/molly20220417_NJXOI2MHWE.nwb\n",
      "[2025-05-03 10:27:15,887][WARNING]: Skipped checksum for file with hash: 9bfbd538-fac9-297d-e2cc-7398101ec3c5, and path: /stelmo/nwb/analysis/molly20220417/molly20220417_NJXOI2MHWE.nwb\n",
      "03-May-25 10:27:15 Skipped checksum for file with hash: 9bfbd538-fac9-297d-e2cc-7398101ec3c5, and path: /stelmo/nwb/analysis/molly20220417/molly20220417_NJXOI2MHWE.nwb\n",
      "[2025-05-03 10:27:15,892][WARNING]: Skipped checksum for file with hash: 9bfbd538-fac9-297d-e2cc-7398101ec3c5, and path: /stelmo/nwb/analysis/molly20220417/molly20220417_NJXOI2MHWE.nwb\n",
      "03-May-25 10:27:15 Skipped checksum for file with hash: 9bfbd538-fac9-297d-e2cc-7398101ec3c5, and path: /stelmo/nwb/analysis/molly20220417/molly20220417_NJXOI2MHWE.nwb\n",
      "[2025-05-03 10:27:39,484][WARNING]: Skipped checksum for file with hash: 1fdc8055-f39e-f4c1-9a95-143b1d3631fc, and path: /stelmo/nwb/analysis/molly20220417/molly20220417_YLICS1891F.nwb\n",
      "03-May-25 10:27:39 Skipped checksum for file with hash: 1fdc8055-f39e-f4c1-9a95-143b1d3631fc, and path: /stelmo/nwb/analysis/molly20220417/molly20220417_YLICS1891F.nwb\n",
      "[2025-05-03 10:27:39,507][WARNING]: Skipped checksum for file with hash: 1fdc8055-f39e-f4c1-9a95-143b1d3631fc, and path: /stelmo/nwb/analysis/molly20220417/molly20220417_YLICS1891F.nwb\n",
      "03-May-25 10:27:39 Skipped checksum for file with hash: 1fdc8055-f39e-f4c1-9a95-143b1d3631fc, and path: /stelmo/nwb/analysis/molly20220417/molly20220417_YLICS1891F.nwb\n",
      "[2025-05-03 10:27:39,513][WARNING]: Skipped checksum for file with hash: 1fdc8055-f39e-f4c1-9a95-143b1d3631fc, and path: /stelmo/nwb/analysis/molly20220417/molly20220417_YLICS1891F.nwb\n",
      "03-May-25 10:27:39 Skipped checksum for file with hash: 1fdc8055-f39e-f4c1-9a95-143b1d3631fc, and path: /stelmo/nwb/analysis/molly20220417/molly20220417_YLICS1891F.nwb\n",
      "/home/shijiegu/anaconda3/envs/spyglass/lib/python3.10/site-packages/hdmf/spec/namespace.py:535: UserWarning: Ignoring cached namespace 'core' version 2.6.0-alpha because version 2.7.0 is already loaded.\n",
      "  warn(\"Ignoring cached namespace '%s' version %s because version %s is already loaded.\"\n",
      "/home/shijiegu/anaconda3/envs/spyglass/lib/python3.10/site-packages/hdmf/spec/namespace.py:535: UserWarning: Ignoring cached namespace 'ndx-franklab-novela' version 0.1.0 because version 0.2.0 is already loaded.\n",
      "  warn(\"Ignoring cached namespace '%s' version %s because version %s is already loaded.\"\n",
      "/home/shijiegu/anaconda3/envs/spyglass/lib/python3.10/site-packages/hdmf/spec/namespace.py:535: UserWarning: Ignoring cached namespace 'core' version 2.6.0-alpha because version 2.7.0 is already loaded.\n",
      "  warn(\"Ignoring cached namespace '%s' version %s because version %s is already loaded.\"\n",
      "/home/shijiegu/anaconda3/envs/spyglass/lib/python3.10/site-packages/hdmf/spec/namespace.py:535: UserWarning: Ignoring cached namespace 'ndx-franklab-novela' version 0.1.0 because version 0.2.0 is already loaded.\n",
      "  warn(\"Ignoring cached namespace '%s' version %s because version %s is already loaded.\"\n",
      "/home/shijiegu/anaconda3/envs/spyglass/lib/python3.10/site-packages/spikeinterface/core/base.py:1038: UserWarning: Versions are not the same. This might lead to compatibility errors. Using spikeinterface==0.98.2 is recommended\n",
      "  warnings.warn(\n",
      "/home/shijiegu/anaconda3/envs/spyglass/lib/python3.10/site-packages/spikeinterface/core/base.py:1038: UserWarning: Versions are not the same. This might lead to compatibility errors. Using spikeinterface==0.98.2 is recommended\n",
      "  warnings.warn(\n"
     ]
    },
    {
     "name": "stdout",
     "output_type": "stream",
     "text": [
      "Done parsing. Insert into Spyglass\n"
     ]
    },
    {
     "name": "stderr",
     "output_type": "stream",
     "text": [
      "[10:31:19][WARNING] Spyglass: Deprecation: this class has been moved out of spyglass.common.common_position\n",
      "\tTrackGraph -> spyglass.linearization.v0.main.TrackGraph\n",
      "Please use the new location.\n",
      "03-May-25 10:31:19 Deprecation: this class has been moved out of spyglass.common.common_position\n",
      "\tTrackGraph -> spyglass.linearization.v0.main.TrackGraph\n",
      "Please use the new location.\n"
     ]
    },
    {
     "name": "stdout",
     "output_type": "stream",
     "text": [
      "epoch name 08_Seq2Session4\n",
      "epoch name 08_Seq2Session4\n",
      "epoch_pos_name pos 7 valid times\n"
     ]
    },
    {
     "name": "stderr",
     "output_type": "stream",
     "text": [
      "[2025-05-03 10:31:20,075][WARNING]: Skipped checksum for file with hash: 84df93fd-8e3d-8db4-3139-092895680a98, and path: /stelmo/nwb/analysis/molly20220417_9G0HYKTWY2.nwb\n",
      "03-May-25 10:31:20 Skipped checksum for file with hash: 84df93fd-8e3d-8db4-3139-092895680a98, and path: /stelmo/nwb/analysis/molly20220417_9G0HYKTWY2.nwb\n",
      "[2025-05-03 10:31:20,092][WARNING]: Skipped checksum for file with hash: 84df93fd-8e3d-8db4-3139-092895680a98, and path: /stelmo/nwb/analysis/molly20220417_9G0HYKTWY2.nwb\n",
      "03-May-25 10:31:20 Skipped checksum for file with hash: 84df93fd-8e3d-8db4-3139-092895680a98, and path: /stelmo/nwb/analysis/molly20220417_9G0HYKTWY2.nwb\n",
      "[2025-05-03 10:31:20,097][WARNING]: Skipped checksum for file with hash: 84df93fd-8e3d-8db4-3139-092895680a98, and path: /stelmo/nwb/analysis/molly20220417_9G0HYKTWY2.nwb\n",
      "03-May-25 10:31:20 Skipped checksum for file with hash: 84df93fd-8e3d-8db4-3139-092895680a98, and path: /stelmo/nwb/analysis/molly20220417_9G0HYKTWY2.nwb\n",
      "/home/shijiegu/anaconda3/envs/spyglass/lib/python3.10/site-packages/hdmf/spec/namespace.py:535: UserWarning: Ignoring cached namespace 'hdmf-common' version 1.5.1 because version 1.8.0 is already loaded.\n",
      "  warn(\"Ignoring cached namespace '%s' version %s because version %s is already loaded.\"\n",
      "/home/shijiegu/anaconda3/envs/spyglass/lib/python3.10/site-packages/hdmf/spec/namespace.py:535: UserWarning: Ignoring cached namespace 'core' version 2.4.0 because version 2.7.0 is already loaded.\n",
      "  warn(\"Ignoring cached namespace '%s' version %s because version %s is already loaded.\"\n",
      "/home/shijiegu/anaconda3/envs/spyglass/lib/python3.10/site-packages/hdmf/spec/namespace.py:535: UserWarning: Ignoring cached namespace 'hdmf-experimental' version 0.2.0 because version 0.5.0 is already loaded.\n",
      "  warn(\"Ignoring cached namespace '%s' version %s because version %s is already loaded.\"\n",
      "/home/shijiegu/anaconda3/envs/spyglass/lib/python3.10/site-packages/hdmf/spec/namespace.py:535: UserWarning: Ignoring cached namespace 'ndx-franklab-novela' version 0.1.0 because version 0.2.0 is already loaded.\n",
      "  warn(\"Ignoring cached namespace '%s' version %s because version %s is already loaded.\"\n",
      "[2025-05-03 10:31:33,430][WARNING]: Skipped checksum for file with hash: e6f98944-81cb-d954-bd51-cb4aec4f4ebb, and path: /stelmo/nwb/analysis/molly20220417_M5EV8S6QFH.nwb\n",
      "03-May-25 10:31:33 Skipped checksum for file with hash: e6f98944-81cb-d954-bd51-cb4aec4f4ebb, and path: /stelmo/nwb/analysis/molly20220417_M5EV8S6QFH.nwb\n",
      "[2025-05-03 10:31:33,449][WARNING]: Skipped checksum for file with hash: ec195969-d519-b12d-05ec-76a4a2378dec, and path: /stelmo/nwb/analysis/molly20220417/molly20220417_Q34L9XI0EU.nwb\n",
      "03-May-25 10:31:33 Skipped checksum for file with hash: ec195969-d519-b12d-05ec-76a4a2378dec, and path: /stelmo/nwb/analysis/molly20220417/molly20220417_Q34L9XI0EU.nwb\n",
      "[2025-05-03 10:31:33,469][WARNING]: Skipped checksum for file with hash: e6f98944-81cb-d954-bd51-cb4aec4f4ebb, and path: /stelmo/nwb/analysis/molly20220417_M5EV8S6QFH.nwb\n",
      "03-May-25 10:31:33 Skipped checksum for file with hash: e6f98944-81cb-d954-bd51-cb4aec4f4ebb, and path: /stelmo/nwb/analysis/molly20220417_M5EV8S6QFH.nwb\n",
      "[2025-05-03 10:31:33,475][WARNING]: Skipped checksum for file with hash: e6f98944-81cb-d954-bd51-cb4aec4f4ebb, and path: /stelmo/nwb/analysis/molly20220417_M5EV8S6QFH.nwb\n",
      "03-May-25 10:31:33 Skipped checksum for file with hash: e6f98944-81cb-d954-bd51-cb4aec4f4ebb, and path: /stelmo/nwb/analysis/molly20220417_M5EV8S6QFH.nwb\n",
      "[2025-05-03 10:31:33,488][WARNING]: Skipped checksum for file with hash: ec195969-d519-b12d-05ec-76a4a2378dec, and path: /stelmo/nwb/analysis/molly20220417/molly20220417_Q34L9XI0EU.nwb\n",
      "03-May-25 10:31:33 Skipped checksum for file with hash: ec195969-d519-b12d-05ec-76a4a2378dec, and path: /stelmo/nwb/analysis/molly20220417/molly20220417_Q34L9XI0EU.nwb\n",
      "[2025-05-03 10:31:33,496][WARNING]: Skipped checksum for file with hash: ec195969-d519-b12d-05ec-76a4a2378dec, and path: /stelmo/nwb/analysis/molly20220417/molly20220417_Q34L9XI0EU.nwb\n",
      "03-May-25 10:31:33 Skipped checksum for file with hash: ec195969-d519-b12d-05ec-76a4a2378dec, and path: /stelmo/nwb/analysis/molly20220417/molly20220417_Q34L9XI0EU.nwb\n",
      "/home/shijiegu/anaconda3/envs/spyglass/lib/python3.10/site-packages/hdmf/spec/namespace.py:535: UserWarning: Ignoring cached namespace 'hdmf-common' version 1.5.1 because version 1.8.0 is already loaded.\n",
      "  warn(\"Ignoring cached namespace '%s' version %s because version %s is already loaded.\"\n",
      "/home/shijiegu/anaconda3/envs/spyglass/lib/python3.10/site-packages/hdmf/spec/namespace.py:535: UserWarning: Ignoring cached namespace 'core' version 2.4.0 because version 2.7.0 is already loaded.\n",
      "  warn(\"Ignoring cached namespace '%s' version %s because version %s is already loaded.\"\n",
      "/home/shijiegu/anaconda3/envs/spyglass/lib/python3.10/site-packages/hdmf/spec/namespace.py:535: UserWarning: Ignoring cached namespace 'hdmf-experimental' version 0.2.0 because version 0.5.0 is already loaded.\n",
      "  warn(\"Ignoring cached namespace '%s' version %s because version %s is already loaded.\"\n",
      "/home/shijiegu/anaconda3/envs/spyglass/lib/python3.10/site-packages/hdmf/spec/namespace.py:535: UserWarning: Ignoring cached namespace 'ndx-franklab-novela' version 0.1.0 because version 0.2.0 is already loaded.\n",
      "  warn(\"Ignoring cached namespace '%s' version %s because version %s is already loaded.\"\n",
      "/home/shijiegu/anaconda3/envs/spyglass/lib/python3.10/site-packages/hdmf/spec/namespace.py:535: UserWarning: Ignoring cached namespace 'core' version 2.6.0-alpha because version 2.7.0 is already loaded.\n",
      "  warn(\"Ignoring cached namespace '%s' version %s because version %s is already loaded.\"\n",
      "/home/shijiegu/anaconda3/envs/spyglass/lib/python3.10/site-packages/hdmf/spec/namespace.py:535: UserWarning: Ignoring cached namespace 'ndx-franklab-novela' version 0.1.0 because version 0.2.0 is already loaded.\n",
      "  warn(\"Ignoring cached namespace '%s' version %s because version %s is already loaded.\"\n",
      "[2025-05-03 10:32:00,498][WARNING]: Skipped checksum for file with hash: 9bfbd538-fac9-297d-e2cc-7398101ec3c5, and path: /stelmo/nwb/analysis/molly20220417/molly20220417_NJXOI2MHWE.nwb\n",
      "03-May-25 10:32:00 Skipped checksum for file with hash: 9bfbd538-fac9-297d-e2cc-7398101ec3c5, and path: /stelmo/nwb/analysis/molly20220417/molly20220417_NJXOI2MHWE.nwb\n",
      "[2025-05-03 10:32:00,524][WARNING]: Skipped checksum for file with hash: 9bfbd538-fac9-297d-e2cc-7398101ec3c5, and path: /stelmo/nwb/analysis/molly20220417/molly20220417_NJXOI2MHWE.nwb\n",
      "03-May-25 10:32:00 Skipped checksum for file with hash: 9bfbd538-fac9-297d-e2cc-7398101ec3c5, and path: /stelmo/nwb/analysis/molly20220417/molly20220417_NJXOI2MHWE.nwb\n",
      "[2025-05-03 10:32:00,531][WARNING]: Skipped checksum for file with hash: 9bfbd538-fac9-297d-e2cc-7398101ec3c5, and path: /stelmo/nwb/analysis/molly20220417/molly20220417_NJXOI2MHWE.nwb\n",
      "03-May-25 10:32:00 Skipped checksum for file with hash: 9bfbd538-fac9-297d-e2cc-7398101ec3c5, and path: /stelmo/nwb/analysis/molly20220417/molly20220417_NJXOI2MHWE.nwb\n",
      "[2025-05-03 10:32:29,203][WARNING]: Skipped checksum for file with hash: dca6c4c8-0e79-837e-490a-0f66f3f01810, and path: /stelmo/nwb/analysis/molly20220417/molly20220417_TWA8U0JP2Y.nwb\n",
      "03-May-25 10:32:29 Skipped checksum for file with hash: dca6c4c8-0e79-837e-490a-0f66f3f01810, and path: /stelmo/nwb/analysis/molly20220417/molly20220417_TWA8U0JP2Y.nwb\n",
      "[2025-05-03 10:32:29,226][WARNING]: Skipped checksum for file with hash: dca6c4c8-0e79-837e-490a-0f66f3f01810, and path: /stelmo/nwb/analysis/molly20220417/molly20220417_TWA8U0JP2Y.nwb\n",
      "03-May-25 10:32:29 Skipped checksum for file with hash: dca6c4c8-0e79-837e-490a-0f66f3f01810, and path: /stelmo/nwb/analysis/molly20220417/molly20220417_TWA8U0JP2Y.nwb\n",
      "[2025-05-03 10:32:29,232][WARNING]: Skipped checksum for file with hash: dca6c4c8-0e79-837e-490a-0f66f3f01810, and path: /stelmo/nwb/analysis/molly20220417/molly20220417_TWA8U0JP2Y.nwb\n",
      "03-May-25 10:32:29 Skipped checksum for file with hash: dca6c4c8-0e79-837e-490a-0f66f3f01810, and path: /stelmo/nwb/analysis/molly20220417/molly20220417_TWA8U0JP2Y.nwb\n",
      "/home/shijiegu/anaconda3/envs/spyglass/lib/python3.10/site-packages/hdmf/spec/namespace.py:535: UserWarning: Ignoring cached namespace 'core' version 2.6.0-alpha because version 2.7.0 is already loaded.\n",
      "  warn(\"Ignoring cached namespace '%s' version %s because version %s is already loaded.\"\n",
      "/home/shijiegu/anaconda3/envs/spyglass/lib/python3.10/site-packages/hdmf/spec/namespace.py:535: UserWarning: Ignoring cached namespace 'ndx-franklab-novela' version 0.1.0 because version 0.2.0 is already loaded.\n",
      "  warn(\"Ignoring cached namespace '%s' version %s because version %s is already loaded.\"\n",
      "/home/shijiegu/anaconda3/envs/spyglass/lib/python3.10/site-packages/hdmf/spec/namespace.py:535: UserWarning: Ignoring cached namespace 'core' version 2.6.0-alpha because version 2.7.0 is already loaded.\n",
      "  warn(\"Ignoring cached namespace '%s' version %s because version %s is already loaded.\"\n",
      "/home/shijiegu/anaconda3/envs/spyglass/lib/python3.10/site-packages/hdmf/spec/namespace.py:535: UserWarning: Ignoring cached namespace 'ndx-franklab-novela' version 0.1.0 because version 0.2.0 is already loaded.\n",
      "  warn(\"Ignoring cached namespace '%s' version %s because version %s is already loaded.\"\n",
      "/home/shijiegu/anaconda3/envs/spyglass/lib/python3.10/site-packages/spikeinterface/core/base.py:1038: UserWarning: Versions are not the same. This might lead to compatibility errors. Using spikeinterface==0.98.2 is recommended\n",
      "  warnings.warn(\n",
      "/home/shijiegu/anaconda3/envs/spyglass/lib/python3.10/site-packages/spikeinterface/core/base.py:1038: UserWarning: Versions are not the same. This might lead to compatibility errors. Using spikeinterface==0.98.2 is recommended\n",
      "  warnings.warn(\n",
      "[10:36:38][WARNING] Spyglass: Deprecation: this class has been moved out of spyglass.common.common_position\n",
      "\tTrackGraph -> spyglass.linearization.v0.main.TrackGraph\n",
      "Please use the new location.\n",
      "03-May-25 10:36:38 Deprecation: this class has been moved out of spyglass.common.common_position\n",
      "\tTrackGraph -> spyglass.linearization.v0.main.TrackGraph\n",
      "Please use the new location.\n"
     ]
    },
    {
     "name": "stdout",
     "output_type": "stream",
     "text": [
      "Done parsing. Insert into Spyglass\n",
      "epoch name 10_Seq2Session5\n",
      "epoch name 10_Seq2Session5\n",
      "epoch_pos_name pos 9 valid times\n"
     ]
    },
    {
     "name": "stderr",
     "output_type": "stream",
     "text": [
      "[2025-05-03 10:36:38,520][WARNING]: Skipped checksum for file with hash: 824f2ad7-47e3-146a-be13-de447e546245, and path: /stelmo/nwb/analysis/molly20220417_TAJ1I1RB0Q.nwb\n",
      "03-May-25 10:36:38 Skipped checksum for file with hash: 824f2ad7-47e3-146a-be13-de447e546245, and path: /stelmo/nwb/analysis/molly20220417_TAJ1I1RB0Q.nwb\n",
      "[2025-05-03 10:36:38,542][WARNING]: Skipped checksum for file with hash: 824f2ad7-47e3-146a-be13-de447e546245, and path: /stelmo/nwb/analysis/molly20220417_TAJ1I1RB0Q.nwb\n",
      "03-May-25 10:36:38 Skipped checksum for file with hash: 824f2ad7-47e3-146a-be13-de447e546245, and path: /stelmo/nwb/analysis/molly20220417_TAJ1I1RB0Q.nwb\n",
      "[2025-05-03 10:36:38,550][WARNING]: Skipped checksum for file with hash: 824f2ad7-47e3-146a-be13-de447e546245, and path: /stelmo/nwb/analysis/molly20220417_TAJ1I1RB0Q.nwb\n",
      "03-May-25 10:36:38 Skipped checksum for file with hash: 824f2ad7-47e3-146a-be13-de447e546245, and path: /stelmo/nwb/analysis/molly20220417_TAJ1I1RB0Q.nwb\n",
      "/home/shijiegu/anaconda3/envs/spyglass/lib/python3.10/site-packages/hdmf/spec/namespace.py:535: UserWarning: Ignoring cached namespace 'hdmf-common' version 1.5.1 because version 1.8.0 is already loaded.\n",
      "  warn(\"Ignoring cached namespace '%s' version %s because version %s is already loaded.\"\n",
      "/home/shijiegu/anaconda3/envs/spyglass/lib/python3.10/site-packages/hdmf/spec/namespace.py:535: UserWarning: Ignoring cached namespace 'core' version 2.4.0 because version 2.7.0 is already loaded.\n",
      "  warn(\"Ignoring cached namespace '%s' version %s because version %s is already loaded.\"\n",
      "/home/shijiegu/anaconda3/envs/spyglass/lib/python3.10/site-packages/hdmf/spec/namespace.py:535: UserWarning: Ignoring cached namespace 'hdmf-experimental' version 0.2.0 because version 0.5.0 is already loaded.\n",
      "  warn(\"Ignoring cached namespace '%s' version %s because version %s is already loaded.\"\n",
      "/home/shijiegu/anaconda3/envs/spyglass/lib/python3.10/site-packages/hdmf/spec/namespace.py:535: UserWarning: Ignoring cached namespace 'ndx-franklab-novela' version 0.1.0 because version 0.2.0 is already loaded.\n",
      "  warn(\"Ignoring cached namespace '%s' version %s because version %s is already loaded.\"\n",
      "[2025-05-03 10:36:52,247][WARNING]: Skipped checksum for file with hash: 646b67b5-fc8d-1d8a-edc8-12ee02ca486c, and path: /stelmo/nwb/analysis/molly20220417_YLQ61DBELB.nwb\n",
      "03-May-25 10:36:52 Skipped checksum for file with hash: 646b67b5-fc8d-1d8a-edc8-12ee02ca486c, and path: /stelmo/nwb/analysis/molly20220417_YLQ61DBELB.nwb\n",
      "[2025-05-03 10:36:52,265][WARNING]: Skipped checksum for file with hash: ff850b27-3a42-14b3-5b37-ec5a9e356cc0, and path: /stelmo/nwb/analysis/molly20220417/molly20220417_2ILN6BMCX7.nwb\n",
      "03-May-25 10:36:52 Skipped checksum for file with hash: ff850b27-3a42-14b3-5b37-ec5a9e356cc0, and path: /stelmo/nwb/analysis/molly20220417/molly20220417_2ILN6BMCX7.nwb\n",
      "[2025-05-03 10:36:52,284][WARNING]: Skipped checksum for file with hash: 646b67b5-fc8d-1d8a-edc8-12ee02ca486c, and path: /stelmo/nwb/analysis/molly20220417_YLQ61DBELB.nwb\n",
      "03-May-25 10:36:52 Skipped checksum for file with hash: 646b67b5-fc8d-1d8a-edc8-12ee02ca486c, and path: /stelmo/nwb/analysis/molly20220417_YLQ61DBELB.nwb\n",
      "[2025-05-03 10:36:52,292][WARNING]: Skipped checksum for file with hash: 646b67b5-fc8d-1d8a-edc8-12ee02ca486c, and path: /stelmo/nwb/analysis/molly20220417_YLQ61DBELB.nwb\n",
      "03-May-25 10:36:52 Skipped checksum for file with hash: 646b67b5-fc8d-1d8a-edc8-12ee02ca486c, and path: /stelmo/nwb/analysis/molly20220417_YLQ61DBELB.nwb\n",
      "[2025-05-03 10:36:52,306][WARNING]: Skipped checksum for file with hash: ff850b27-3a42-14b3-5b37-ec5a9e356cc0, and path: /stelmo/nwb/analysis/molly20220417/molly20220417_2ILN6BMCX7.nwb\n",
      "03-May-25 10:36:52 Skipped checksum for file with hash: ff850b27-3a42-14b3-5b37-ec5a9e356cc0, and path: /stelmo/nwb/analysis/molly20220417/molly20220417_2ILN6BMCX7.nwb\n",
      "[2025-05-03 10:36:52,314][WARNING]: Skipped checksum for file with hash: ff850b27-3a42-14b3-5b37-ec5a9e356cc0, and path: /stelmo/nwb/analysis/molly20220417/molly20220417_2ILN6BMCX7.nwb\n",
      "03-May-25 10:36:52 Skipped checksum for file with hash: ff850b27-3a42-14b3-5b37-ec5a9e356cc0, and path: /stelmo/nwb/analysis/molly20220417/molly20220417_2ILN6BMCX7.nwb\n",
      "/home/shijiegu/anaconda3/envs/spyglass/lib/python3.10/site-packages/hdmf/spec/namespace.py:535: UserWarning: Ignoring cached namespace 'hdmf-common' version 1.5.1 because version 1.8.0 is already loaded.\n",
      "  warn(\"Ignoring cached namespace '%s' version %s because version %s is already loaded.\"\n",
      "/home/shijiegu/anaconda3/envs/spyglass/lib/python3.10/site-packages/hdmf/spec/namespace.py:535: UserWarning: Ignoring cached namespace 'core' version 2.4.0 because version 2.7.0 is already loaded.\n",
      "  warn(\"Ignoring cached namespace '%s' version %s because version %s is already loaded.\"\n",
      "/home/shijiegu/anaconda3/envs/spyglass/lib/python3.10/site-packages/hdmf/spec/namespace.py:535: UserWarning: Ignoring cached namespace 'hdmf-experimental' version 0.2.0 because version 0.5.0 is already loaded.\n",
      "  warn(\"Ignoring cached namespace '%s' version %s because version %s is already loaded.\"\n",
      "/home/shijiegu/anaconda3/envs/spyglass/lib/python3.10/site-packages/hdmf/spec/namespace.py:535: UserWarning: Ignoring cached namespace 'ndx-franklab-novela' version 0.1.0 because version 0.2.0 is already loaded.\n",
      "  warn(\"Ignoring cached namespace '%s' version %s because version %s is already loaded.\"\n",
      "/home/shijiegu/anaconda3/envs/spyglass/lib/python3.10/site-packages/hdmf/spec/namespace.py:535: UserWarning: Ignoring cached namespace 'core' version 2.6.0-alpha because version 2.7.0 is already loaded.\n",
      "  warn(\"Ignoring cached namespace '%s' version %s because version %s is already loaded.\"\n",
      "/home/shijiegu/anaconda3/envs/spyglass/lib/python3.10/site-packages/hdmf/spec/namespace.py:535: UserWarning: Ignoring cached namespace 'ndx-franklab-novela' version 0.1.0 because version 0.2.0 is already loaded.\n",
      "  warn(\"Ignoring cached namespace '%s' version %s because version %s is already loaded.\"\n",
      "[2025-05-03 10:37:19,973][WARNING]: Skipped checksum for file with hash: 9bfbd538-fac9-297d-e2cc-7398101ec3c5, and path: /stelmo/nwb/analysis/molly20220417/molly20220417_NJXOI2MHWE.nwb\n",
      "03-May-25 10:37:19 Skipped checksum for file with hash: 9bfbd538-fac9-297d-e2cc-7398101ec3c5, and path: /stelmo/nwb/analysis/molly20220417/molly20220417_NJXOI2MHWE.nwb\n",
      "[2025-05-03 10:37:20,000][WARNING]: Skipped checksum for file with hash: 9bfbd538-fac9-297d-e2cc-7398101ec3c5, and path: /stelmo/nwb/analysis/molly20220417/molly20220417_NJXOI2MHWE.nwb\n",
      "03-May-25 10:37:20 Skipped checksum for file with hash: 9bfbd538-fac9-297d-e2cc-7398101ec3c5, and path: /stelmo/nwb/analysis/molly20220417/molly20220417_NJXOI2MHWE.nwb\n",
      "[2025-05-03 10:37:20,008][WARNING]: Skipped checksum for file with hash: 9bfbd538-fac9-297d-e2cc-7398101ec3c5, and path: /stelmo/nwb/analysis/molly20220417/molly20220417_NJXOI2MHWE.nwb\n",
      "03-May-25 10:37:20 Skipped checksum for file with hash: 9bfbd538-fac9-297d-e2cc-7398101ec3c5, and path: /stelmo/nwb/analysis/molly20220417/molly20220417_NJXOI2MHWE.nwb\n",
      "[2025-05-03 10:37:48,807][WARNING]: Skipped checksum for file with hash: b1845f45-870f-a715-3704-528f5932e2ca, and path: /stelmo/nwb/analysis/molly20220417/molly20220417_GYQ66UU4ZL.nwb\n",
      "03-May-25 10:37:48 Skipped checksum for file with hash: b1845f45-870f-a715-3704-528f5932e2ca, and path: /stelmo/nwb/analysis/molly20220417/molly20220417_GYQ66UU4ZL.nwb\n",
      "[2025-05-03 10:37:48,826][WARNING]: Skipped checksum for file with hash: b1845f45-870f-a715-3704-528f5932e2ca, and path: /stelmo/nwb/analysis/molly20220417/molly20220417_GYQ66UU4ZL.nwb\n",
      "03-May-25 10:37:48 Skipped checksum for file with hash: b1845f45-870f-a715-3704-528f5932e2ca, and path: /stelmo/nwb/analysis/molly20220417/molly20220417_GYQ66UU4ZL.nwb\n",
      "[2025-05-03 10:37:48,832][WARNING]: Skipped checksum for file with hash: b1845f45-870f-a715-3704-528f5932e2ca, and path: /stelmo/nwb/analysis/molly20220417/molly20220417_GYQ66UU4ZL.nwb\n",
      "03-May-25 10:37:48 Skipped checksum for file with hash: b1845f45-870f-a715-3704-528f5932e2ca, and path: /stelmo/nwb/analysis/molly20220417/molly20220417_GYQ66UU4ZL.nwb\n",
      "/home/shijiegu/anaconda3/envs/spyglass/lib/python3.10/site-packages/hdmf/spec/namespace.py:535: UserWarning: Ignoring cached namespace 'core' version 2.6.0-alpha because version 2.7.0 is already loaded.\n",
      "  warn(\"Ignoring cached namespace '%s' version %s because version %s is already loaded.\"\n",
      "/home/shijiegu/anaconda3/envs/spyglass/lib/python3.10/site-packages/hdmf/spec/namespace.py:535: UserWarning: Ignoring cached namespace 'ndx-franklab-novela' version 0.1.0 because version 0.2.0 is already loaded.\n",
      "  warn(\"Ignoring cached namespace '%s' version %s because version %s is already loaded.\"\n",
      "/home/shijiegu/anaconda3/envs/spyglass/lib/python3.10/site-packages/hdmf/spec/namespace.py:535: UserWarning: Ignoring cached namespace 'core' version 2.6.0-alpha because version 2.7.0 is already loaded.\n",
      "  warn(\"Ignoring cached namespace '%s' version %s because version %s is already loaded.\"\n",
      "/home/shijiegu/anaconda3/envs/spyglass/lib/python3.10/site-packages/hdmf/spec/namespace.py:535: UserWarning: Ignoring cached namespace 'ndx-franklab-novela' version 0.1.0 because version 0.2.0 is already loaded.\n",
      "  warn(\"Ignoring cached namespace '%s' version %s because version %s is already loaded.\"\n",
      "/home/shijiegu/anaconda3/envs/spyglass/lib/python3.10/site-packages/spikeinterface/core/base.py:1038: UserWarning: Versions are not the same. This might lead to compatibility errors. Using spikeinterface==0.98.2 is recommended\n",
      "  warnings.warn(\n",
      "/home/shijiegu/anaconda3/envs/spyglass/lib/python3.10/site-packages/spikeinterface/core/base.py:1038: UserWarning: Versions are not the same. This might lead to compatibility errors. Using spikeinterface==0.98.2 is recommended\n",
      "  warnings.warn(\n"
     ]
    },
    {
     "name": "stdout",
     "output_type": "stream",
     "text": [
      "Done parsing. Insert into Spyglass\n"
     ]
    },
    {
     "name": "stderr",
     "output_type": "stream",
     "text": [
      "[10:41:23][WARNING] Spyglass: Deprecation: this class has been moved out of spyglass.common.common_position\n",
      "\tTrackGraph -> spyglass.linearization.v0.main.TrackGraph\n",
      "Please use the new location.\n",
      "03-May-25 10:41:23 Deprecation: this class has been moved out of spyglass.common.common_position\n",
      "\tTrackGraph -> spyglass.linearization.v0.main.TrackGraph\n",
      "Please use the new location.\n"
     ]
    },
    {
     "name": "stdout",
     "output_type": "stream",
     "text": [
      "epoch name 02_Seq2Session1\n",
      "epoch name 02_Seq2Session1\n",
      "epoch_pos_name pos 1 valid times\n"
     ]
    },
    {
     "name": "stderr",
     "output_type": "stream",
     "text": [
      "[2025-05-03 10:41:24,298][WARNING]: Skipped checksum for file with hash: 377ac04c-a251-5206-84fa-9304d7869ade, and path: /stelmo/nwb/analysis/molly20220418_27AWE71ST3.nwb\n",
      "03-May-25 10:41:24 Skipped checksum for file with hash: 377ac04c-a251-5206-84fa-9304d7869ade, and path: /stelmo/nwb/analysis/molly20220418_27AWE71ST3.nwb\n",
      "[2025-05-03 10:41:24,323][WARNING]: Skipped checksum for file with hash: 377ac04c-a251-5206-84fa-9304d7869ade, and path: /stelmo/nwb/analysis/molly20220418_27AWE71ST3.nwb\n",
      "03-May-25 10:41:24 Skipped checksum for file with hash: 377ac04c-a251-5206-84fa-9304d7869ade, and path: /stelmo/nwb/analysis/molly20220418_27AWE71ST3.nwb\n",
      "[2025-05-03 10:41:24,331][WARNING]: Skipped checksum for file with hash: 377ac04c-a251-5206-84fa-9304d7869ade, and path: /stelmo/nwb/analysis/molly20220418_27AWE71ST3.nwb\n",
      "03-May-25 10:41:24 Skipped checksum for file with hash: 377ac04c-a251-5206-84fa-9304d7869ade, and path: /stelmo/nwb/analysis/molly20220418_27AWE71ST3.nwb\n",
      "/home/shijiegu/anaconda3/envs/spyglass/lib/python3.10/site-packages/hdmf/spec/namespace.py:535: UserWarning: Ignoring cached namespace 'hdmf-common' version 1.5.1 because version 1.8.0 is already loaded.\n",
      "  warn(\"Ignoring cached namespace '%s' version %s because version %s is already loaded.\"\n",
      "/home/shijiegu/anaconda3/envs/spyglass/lib/python3.10/site-packages/hdmf/spec/namespace.py:535: UserWarning: Ignoring cached namespace 'core' version 2.4.0 because version 2.7.0 is already loaded.\n",
      "  warn(\"Ignoring cached namespace '%s' version %s because version %s is already loaded.\"\n",
      "/home/shijiegu/anaconda3/envs/spyglass/lib/python3.10/site-packages/hdmf/spec/namespace.py:535: UserWarning: Ignoring cached namespace 'hdmf-experimental' version 0.2.0 because version 0.5.0 is already loaded.\n",
      "  warn(\"Ignoring cached namespace '%s' version %s because version %s is already loaded.\"\n",
      "/home/shijiegu/anaconda3/envs/spyglass/lib/python3.10/site-packages/hdmf/spec/namespace.py:535: UserWarning: Ignoring cached namespace 'ndx-franklab-novela' version 0.1.0 because version 0.2.0 is already loaded.\n",
      "  warn(\"Ignoring cached namespace '%s' version %s because version %s is already loaded.\"\n",
      "[2025-05-03 10:41:38,186][WARNING]: Skipped checksum for file with hash: 8a103ed9-5ff0-a3ed-ecd9-ccd8313968f3, and path: /stelmo/nwb/analysis/molly20220418_KKKVHRSOC3.nwb\n",
      "03-May-25 10:41:38 Skipped checksum for file with hash: 8a103ed9-5ff0-a3ed-ecd9-ccd8313968f3, and path: /stelmo/nwb/analysis/molly20220418_KKKVHRSOC3.nwb\n",
      "[2025-05-03 10:41:38,204][WARNING]: Skipped checksum for file with hash: 2bc3869e-8c0d-1ac5-8b3a-1056f2e552cc, and path: /stelmo/nwb/analysis/molly20220418/molly20220418_ICI7K1NSNF.nwb\n",
      "03-May-25 10:41:38 Skipped checksum for file with hash: 2bc3869e-8c0d-1ac5-8b3a-1056f2e552cc, and path: /stelmo/nwb/analysis/molly20220418/molly20220418_ICI7K1NSNF.nwb\n",
      "[2025-05-03 10:41:38,224][WARNING]: Skipped checksum for file with hash: 8a103ed9-5ff0-a3ed-ecd9-ccd8313968f3, and path: /stelmo/nwb/analysis/molly20220418_KKKVHRSOC3.nwb\n",
      "03-May-25 10:41:38 Skipped checksum for file with hash: 8a103ed9-5ff0-a3ed-ecd9-ccd8313968f3, and path: /stelmo/nwb/analysis/molly20220418_KKKVHRSOC3.nwb\n",
      "[2025-05-03 10:41:38,230][WARNING]: Skipped checksum for file with hash: 8a103ed9-5ff0-a3ed-ecd9-ccd8313968f3, and path: /stelmo/nwb/analysis/molly20220418_KKKVHRSOC3.nwb\n",
      "03-May-25 10:41:38 Skipped checksum for file with hash: 8a103ed9-5ff0-a3ed-ecd9-ccd8313968f3, and path: /stelmo/nwb/analysis/molly20220418_KKKVHRSOC3.nwb\n",
      "[2025-05-03 10:41:38,244][WARNING]: Skipped checksum for file with hash: 2bc3869e-8c0d-1ac5-8b3a-1056f2e552cc, and path: /stelmo/nwb/analysis/molly20220418/molly20220418_ICI7K1NSNF.nwb\n",
      "03-May-25 10:41:38 Skipped checksum for file with hash: 2bc3869e-8c0d-1ac5-8b3a-1056f2e552cc, and path: /stelmo/nwb/analysis/molly20220418/molly20220418_ICI7K1NSNF.nwb\n",
      "[2025-05-03 10:41:38,250][WARNING]: Skipped checksum for file with hash: 2bc3869e-8c0d-1ac5-8b3a-1056f2e552cc, and path: /stelmo/nwb/analysis/molly20220418/molly20220418_ICI7K1NSNF.nwb\n",
      "03-May-25 10:41:38 Skipped checksum for file with hash: 2bc3869e-8c0d-1ac5-8b3a-1056f2e552cc, and path: /stelmo/nwb/analysis/molly20220418/molly20220418_ICI7K1NSNF.nwb\n",
      "/home/shijiegu/anaconda3/envs/spyglass/lib/python3.10/site-packages/hdmf/spec/namespace.py:535: UserWarning: Ignoring cached namespace 'hdmf-common' version 1.5.1 because version 1.8.0 is already loaded.\n",
      "  warn(\"Ignoring cached namespace '%s' version %s because version %s is already loaded.\"\n",
      "/home/shijiegu/anaconda3/envs/spyglass/lib/python3.10/site-packages/hdmf/spec/namespace.py:535: UserWarning: Ignoring cached namespace 'core' version 2.4.0 because version 2.7.0 is already loaded.\n",
      "  warn(\"Ignoring cached namespace '%s' version %s because version %s is already loaded.\"\n",
      "/home/shijiegu/anaconda3/envs/spyglass/lib/python3.10/site-packages/hdmf/spec/namespace.py:535: UserWarning: Ignoring cached namespace 'hdmf-experimental' version 0.2.0 because version 0.5.0 is already loaded.\n",
      "  warn(\"Ignoring cached namespace '%s' version %s because version %s is already loaded.\"\n",
      "/home/shijiegu/anaconda3/envs/spyglass/lib/python3.10/site-packages/hdmf/spec/namespace.py:535: UserWarning: Ignoring cached namespace 'ndx-franklab-novela' version 0.1.0 because version 0.2.0 is already loaded.\n",
      "  warn(\"Ignoring cached namespace '%s' version %s because version %s is already loaded.\"\n",
      "/home/shijiegu/anaconda3/envs/spyglass/lib/python3.10/site-packages/hdmf/spec/namespace.py:535: UserWarning: Ignoring cached namespace 'core' version 2.6.0-alpha because version 2.7.0 is already loaded.\n",
      "  warn(\"Ignoring cached namespace '%s' version %s because version %s is already loaded.\"\n",
      "/home/shijiegu/anaconda3/envs/spyglass/lib/python3.10/site-packages/hdmf/spec/namespace.py:535: UserWarning: Ignoring cached namespace 'ndx-franklab-novela' version 0.1.0 because version 0.2.0 is already loaded.\n",
      "  warn(\"Ignoring cached namespace '%s' version %s because version %s is already loaded.\"\n",
      "[2025-05-03 10:42:06,038][WARNING]: Skipped checksum for file with hash: 23b3b5aa-fe71-22cb-b1f4-32f228e269f6, and path: /stelmo/nwb/analysis/molly20220418/molly20220418_TUSZ68Z7P1.nwb\n",
      "03-May-25 10:42:06 Skipped checksum for file with hash: 23b3b5aa-fe71-22cb-b1f4-32f228e269f6, and path: /stelmo/nwb/analysis/molly20220418/molly20220418_TUSZ68Z7P1.nwb\n",
      "[2025-05-03 10:42:06,062][WARNING]: Skipped checksum for file with hash: 23b3b5aa-fe71-22cb-b1f4-32f228e269f6, and path: /stelmo/nwb/analysis/molly20220418/molly20220418_TUSZ68Z7P1.nwb\n",
      "03-May-25 10:42:06 Skipped checksum for file with hash: 23b3b5aa-fe71-22cb-b1f4-32f228e269f6, and path: /stelmo/nwb/analysis/molly20220418/molly20220418_TUSZ68Z7P1.nwb\n",
      "[2025-05-03 10:42:06,069][WARNING]: Skipped checksum for file with hash: 23b3b5aa-fe71-22cb-b1f4-32f228e269f6, and path: /stelmo/nwb/analysis/molly20220418/molly20220418_TUSZ68Z7P1.nwb\n",
      "03-May-25 10:42:06 Skipped checksum for file with hash: 23b3b5aa-fe71-22cb-b1f4-32f228e269f6, and path: /stelmo/nwb/analysis/molly20220418/molly20220418_TUSZ68Z7P1.nwb\n",
      "/home/shijiegu/anaconda3/envs/spyglass/lib/python3.10/site-packages/hdmf/spec/namespace.py:535: UserWarning: Ignoring cached namespace 'core' version 2.6.0-alpha because version 2.7.0 is already loaded.\n",
      "  warn(\"Ignoring cached namespace '%s' version %s because version %s is already loaded.\"\n",
      "/home/shijiegu/anaconda3/envs/spyglass/lib/python3.10/site-packages/hdmf/spec/namespace.py:535: UserWarning: Ignoring cached namespace 'ndx-franklab-novela' version 0.1.0 because version 0.2.0 is already loaded.\n",
      "  warn(\"Ignoring cached namespace '%s' version %s because version %s is already loaded.\"\n",
      "[2025-05-03 10:43:29,079][WARNING]: Skipped checksum for file with hash: 2013dcf3-f813-9f80-e579-1d730246fa3d, and path: /stelmo/nwb/analysis/molly20220418/molly20220418_KIB2CDVT39.nwb\n",
      "03-May-25 10:43:29 Skipped checksum for file with hash: 2013dcf3-f813-9f80-e579-1d730246fa3d, and path: /stelmo/nwb/analysis/molly20220418/molly20220418_KIB2CDVT39.nwb\n",
      "[2025-05-03 10:43:29,100][WARNING]: Skipped checksum for file with hash: 2013dcf3-f813-9f80-e579-1d730246fa3d, and path: /stelmo/nwb/analysis/molly20220418/molly20220418_KIB2CDVT39.nwb\n",
      "03-May-25 10:43:29 Skipped checksum for file with hash: 2013dcf3-f813-9f80-e579-1d730246fa3d, and path: /stelmo/nwb/analysis/molly20220418/molly20220418_KIB2CDVT39.nwb\n",
      "[2025-05-03 10:43:29,106][WARNING]: Skipped checksum for file with hash: 2013dcf3-f813-9f80-e579-1d730246fa3d, and path: /stelmo/nwb/analysis/molly20220418/molly20220418_KIB2CDVT39.nwb\n",
      "03-May-25 10:43:29 Skipped checksum for file with hash: 2013dcf3-f813-9f80-e579-1d730246fa3d, and path: /stelmo/nwb/analysis/molly20220418/molly20220418_KIB2CDVT39.nwb\n",
      "/home/shijiegu/anaconda3/envs/spyglass/lib/python3.10/site-packages/hdmf/spec/namespace.py:535: UserWarning: Ignoring cached namespace 'core' version 2.6.0-alpha because version 2.7.0 is already loaded.\n",
      "  warn(\"Ignoring cached namespace '%s' version %s because version %s is already loaded.\"\n",
      "/home/shijiegu/anaconda3/envs/spyglass/lib/python3.10/site-packages/hdmf/spec/namespace.py:535: UserWarning: Ignoring cached namespace 'ndx-franklab-novela' version 0.1.0 because version 0.2.0 is already loaded.\n",
      "  warn(\"Ignoring cached namespace '%s' version %s because version %s is already loaded.\"\n",
      "/home/shijiegu/anaconda3/envs/spyglass/lib/python3.10/site-packages/hdmf/spec/namespace.py:535: UserWarning: Ignoring cached namespace 'core' version 2.6.0-alpha because version 2.7.0 is already loaded.\n",
      "  warn(\"Ignoring cached namespace '%s' version %s because version %s is already loaded.\"\n",
      "/home/shijiegu/anaconda3/envs/spyglass/lib/python3.10/site-packages/hdmf/spec/namespace.py:535: UserWarning: Ignoring cached namespace 'ndx-franklab-novela' version 0.1.0 because version 0.2.0 is already loaded.\n",
      "  warn(\"Ignoring cached namespace '%s' version %s because version %s is already loaded.\"\n",
      "/home/shijiegu/anaconda3/envs/spyglass/lib/python3.10/site-packages/spikeinterface/core/base.py:1038: UserWarning: Versions are not the same. This might lead to compatibility errors. Using spikeinterface==0.98.2 is recommended\n",
      "  warnings.warn(\n",
      "/home/shijiegu/anaconda3/envs/spyglass/lib/python3.10/site-packages/spikeinterface/core/base.py:1038: UserWarning: Versions are not the same. This might lead to compatibility errors. Using spikeinterface==0.98.2 is recommended\n",
      "  warnings.warn(\n",
      "[10:47:53][WARNING] Spyglass: Deprecation: this class has been moved out of spyglass.common.common_position\n",
      "\tTrackGraph -> spyglass.linearization.v0.main.TrackGraph\n",
      "Please use the new location.\n",
      "03-May-25 10:47:53 Deprecation: this class has been moved out of spyglass.common.common_position\n",
      "\tTrackGraph -> spyglass.linearization.v0.main.TrackGraph\n",
      "Please use the new location.\n"
     ]
    },
    {
     "name": "stdout",
     "output_type": "stream",
     "text": [
      "Done parsing. Insert into Spyglass\n",
      "epoch name 04_Seq2Session2\n",
      "epoch name 04_Seq2Session2\n",
      "epoch_pos_name pos 3 valid times\n"
     ]
    },
    {
     "name": "stderr",
     "output_type": "stream",
     "text": [
      "[2025-05-03 10:47:53,750][WARNING]: Skipped checksum for file with hash: ac63d66a-656b-31fe-b3ac-61e77719440b, and path: /stelmo/nwb/analysis/molly20220418_HJ00MG2JQ9.nwb\n",
      "03-May-25 10:47:53 Skipped checksum for file with hash: ac63d66a-656b-31fe-b3ac-61e77719440b, and path: /stelmo/nwb/analysis/molly20220418_HJ00MG2JQ9.nwb\n",
      "[2025-05-03 10:47:53,794][WARNING]: Skipped checksum for file with hash: ac63d66a-656b-31fe-b3ac-61e77719440b, and path: /stelmo/nwb/analysis/molly20220418_HJ00MG2JQ9.nwb\n",
      "03-May-25 10:47:53 Skipped checksum for file with hash: ac63d66a-656b-31fe-b3ac-61e77719440b, and path: /stelmo/nwb/analysis/molly20220418_HJ00MG2JQ9.nwb\n",
      "[2025-05-03 10:47:53,801][WARNING]: Skipped checksum for file with hash: ac63d66a-656b-31fe-b3ac-61e77719440b, and path: /stelmo/nwb/analysis/molly20220418_HJ00MG2JQ9.nwb\n",
      "03-May-25 10:47:53 Skipped checksum for file with hash: ac63d66a-656b-31fe-b3ac-61e77719440b, and path: /stelmo/nwb/analysis/molly20220418_HJ00MG2JQ9.nwb\n",
      "/home/shijiegu/anaconda3/envs/spyglass/lib/python3.10/site-packages/hdmf/spec/namespace.py:535: UserWarning: Ignoring cached namespace 'hdmf-common' version 1.5.1 because version 1.8.0 is already loaded.\n",
      "  warn(\"Ignoring cached namespace '%s' version %s because version %s is already loaded.\"\n",
      "/home/shijiegu/anaconda3/envs/spyglass/lib/python3.10/site-packages/hdmf/spec/namespace.py:535: UserWarning: Ignoring cached namespace 'core' version 2.4.0 because version 2.7.0 is already loaded.\n",
      "  warn(\"Ignoring cached namespace '%s' version %s because version %s is already loaded.\"\n",
      "/home/shijiegu/anaconda3/envs/spyglass/lib/python3.10/site-packages/hdmf/spec/namespace.py:535: UserWarning: Ignoring cached namespace 'hdmf-experimental' version 0.2.0 because version 0.5.0 is already loaded.\n",
      "  warn(\"Ignoring cached namespace '%s' version %s because version %s is already loaded.\"\n",
      "/home/shijiegu/anaconda3/envs/spyglass/lib/python3.10/site-packages/hdmf/spec/namespace.py:535: UserWarning: Ignoring cached namespace 'ndx-franklab-novela' version 0.1.0 because version 0.2.0 is already loaded.\n",
      "  warn(\"Ignoring cached namespace '%s' version %s because version %s is already loaded.\"\n",
      "[2025-05-03 10:48:07,476][WARNING]: Skipped checksum for file with hash: 2e5776f8-1207-f4b9-5d4c-afb472676892, and path: /stelmo/nwb/analysis/molly20220418_L0IDNB574Z.nwb\n",
      "03-May-25 10:48:07 Skipped checksum for file with hash: 2e5776f8-1207-f4b9-5d4c-afb472676892, and path: /stelmo/nwb/analysis/molly20220418_L0IDNB574Z.nwb\n",
      "[2025-05-03 10:48:07,493][WARNING]: Skipped checksum for file with hash: eb86f8d0-e105-badf-4df3-22a09fe666bb, and path: /stelmo/nwb/analysis/molly20220418/molly20220418_5C20VN3FQN.nwb\n",
      "03-May-25 10:48:07 Skipped checksum for file with hash: eb86f8d0-e105-badf-4df3-22a09fe666bb, and path: /stelmo/nwb/analysis/molly20220418/molly20220418_5C20VN3FQN.nwb\n",
      "[2025-05-03 10:48:07,513][WARNING]: Skipped checksum for file with hash: 2e5776f8-1207-f4b9-5d4c-afb472676892, and path: /stelmo/nwb/analysis/molly20220418_L0IDNB574Z.nwb\n",
      "03-May-25 10:48:07 Skipped checksum for file with hash: 2e5776f8-1207-f4b9-5d4c-afb472676892, and path: /stelmo/nwb/analysis/molly20220418_L0IDNB574Z.nwb\n",
      "[2025-05-03 10:48:07,520][WARNING]: Skipped checksum for file with hash: 2e5776f8-1207-f4b9-5d4c-afb472676892, and path: /stelmo/nwb/analysis/molly20220418_L0IDNB574Z.nwb\n",
      "03-May-25 10:48:07 Skipped checksum for file with hash: 2e5776f8-1207-f4b9-5d4c-afb472676892, and path: /stelmo/nwb/analysis/molly20220418_L0IDNB574Z.nwb\n",
      "[2025-05-03 10:48:07,535][WARNING]: Skipped checksum for file with hash: eb86f8d0-e105-badf-4df3-22a09fe666bb, and path: /stelmo/nwb/analysis/molly20220418/molly20220418_5C20VN3FQN.nwb\n",
      "03-May-25 10:48:07 Skipped checksum for file with hash: eb86f8d0-e105-badf-4df3-22a09fe666bb, and path: /stelmo/nwb/analysis/molly20220418/molly20220418_5C20VN3FQN.nwb\n",
      "[2025-05-03 10:48:07,543][WARNING]: Skipped checksum for file with hash: eb86f8d0-e105-badf-4df3-22a09fe666bb, and path: /stelmo/nwb/analysis/molly20220418/molly20220418_5C20VN3FQN.nwb\n",
      "03-May-25 10:48:07 Skipped checksum for file with hash: eb86f8d0-e105-badf-4df3-22a09fe666bb, and path: /stelmo/nwb/analysis/molly20220418/molly20220418_5C20VN3FQN.nwb\n",
      "/home/shijiegu/anaconda3/envs/spyglass/lib/python3.10/site-packages/hdmf/spec/namespace.py:535: UserWarning: Ignoring cached namespace 'hdmf-common' version 1.5.1 because version 1.8.0 is already loaded.\n",
      "  warn(\"Ignoring cached namespace '%s' version %s because version %s is already loaded.\"\n",
      "/home/shijiegu/anaconda3/envs/spyglass/lib/python3.10/site-packages/hdmf/spec/namespace.py:535: UserWarning: Ignoring cached namespace 'core' version 2.4.0 because version 2.7.0 is already loaded.\n",
      "  warn(\"Ignoring cached namespace '%s' version %s because version %s is already loaded.\"\n",
      "/home/shijiegu/anaconda3/envs/spyglass/lib/python3.10/site-packages/hdmf/spec/namespace.py:535: UserWarning: Ignoring cached namespace 'hdmf-experimental' version 0.2.0 because version 0.5.0 is already loaded.\n",
      "  warn(\"Ignoring cached namespace '%s' version %s because version %s is already loaded.\"\n",
      "/home/shijiegu/anaconda3/envs/spyglass/lib/python3.10/site-packages/hdmf/spec/namespace.py:535: UserWarning: Ignoring cached namespace 'ndx-franklab-novela' version 0.1.0 because version 0.2.0 is already loaded.\n",
      "  warn(\"Ignoring cached namespace '%s' version %s because version %s is already loaded.\"\n",
      "/home/shijiegu/anaconda3/envs/spyglass/lib/python3.10/site-packages/hdmf/spec/namespace.py:535: UserWarning: Ignoring cached namespace 'core' version 2.6.0-alpha because version 2.7.0 is already loaded.\n",
      "  warn(\"Ignoring cached namespace '%s' version %s because version %s is already loaded.\"\n",
      "/home/shijiegu/anaconda3/envs/spyglass/lib/python3.10/site-packages/hdmf/spec/namespace.py:535: UserWarning: Ignoring cached namespace 'ndx-franklab-novela' version 0.1.0 because version 0.2.0 is already loaded.\n",
      "  warn(\"Ignoring cached namespace '%s' version %s because version %s is already loaded.\"\n",
      "[2025-05-03 10:48:32,199][WARNING]: Skipped checksum for file with hash: 23b3b5aa-fe71-22cb-b1f4-32f228e269f6, and path: /stelmo/nwb/analysis/molly20220418/molly20220418_TUSZ68Z7P1.nwb\n",
      "03-May-25 10:48:32 Skipped checksum for file with hash: 23b3b5aa-fe71-22cb-b1f4-32f228e269f6, and path: /stelmo/nwb/analysis/molly20220418/molly20220418_TUSZ68Z7P1.nwb\n",
      "[2025-05-03 10:48:32,228][WARNING]: Skipped checksum for file with hash: 23b3b5aa-fe71-22cb-b1f4-32f228e269f6, and path: /stelmo/nwb/analysis/molly20220418/molly20220418_TUSZ68Z7P1.nwb\n",
      "03-May-25 10:48:32 Skipped checksum for file with hash: 23b3b5aa-fe71-22cb-b1f4-32f228e269f6, and path: /stelmo/nwb/analysis/molly20220418/molly20220418_TUSZ68Z7P1.nwb\n",
      "[2025-05-03 10:48:32,238][WARNING]: Skipped checksum for file with hash: 23b3b5aa-fe71-22cb-b1f4-32f228e269f6, and path: /stelmo/nwb/analysis/molly20220418/molly20220418_TUSZ68Z7P1.nwb\n",
      "03-May-25 10:48:32 Skipped checksum for file with hash: 23b3b5aa-fe71-22cb-b1f4-32f228e269f6, and path: /stelmo/nwb/analysis/molly20220418/molly20220418_TUSZ68Z7P1.nwb\n",
      "[2025-05-03 10:48:53,137][WARNING]: Skipped checksum for file with hash: 508a74c5-d07e-0fa6-8cb1-bdd5a2c2cbe9, and path: /stelmo/nwb/analysis/molly20220418/molly20220418_X7N9QWBSA9.nwb\n",
      "03-May-25 10:48:53 Skipped checksum for file with hash: 508a74c5-d07e-0fa6-8cb1-bdd5a2c2cbe9, and path: /stelmo/nwb/analysis/molly20220418/molly20220418_X7N9QWBSA9.nwb\n",
      "[2025-05-03 10:48:53,155][WARNING]: Skipped checksum for file with hash: 508a74c5-d07e-0fa6-8cb1-bdd5a2c2cbe9, and path: /stelmo/nwb/analysis/molly20220418/molly20220418_X7N9QWBSA9.nwb\n",
      "03-May-25 10:48:53 Skipped checksum for file with hash: 508a74c5-d07e-0fa6-8cb1-bdd5a2c2cbe9, and path: /stelmo/nwb/analysis/molly20220418/molly20220418_X7N9QWBSA9.nwb\n",
      "[2025-05-03 10:48:53,160][WARNING]: Skipped checksum for file with hash: 508a74c5-d07e-0fa6-8cb1-bdd5a2c2cbe9, and path: /stelmo/nwb/analysis/molly20220418/molly20220418_X7N9QWBSA9.nwb\n",
      "03-May-25 10:48:53 Skipped checksum for file with hash: 508a74c5-d07e-0fa6-8cb1-bdd5a2c2cbe9, and path: /stelmo/nwb/analysis/molly20220418/molly20220418_X7N9QWBSA9.nwb\n",
      "/home/shijiegu/anaconda3/envs/spyglass/lib/python3.10/site-packages/hdmf/spec/namespace.py:535: UserWarning: Ignoring cached namespace 'core' version 2.6.0-alpha because version 2.7.0 is already loaded.\n",
      "  warn(\"Ignoring cached namespace '%s' version %s because version %s is already loaded.\"\n",
      "/home/shijiegu/anaconda3/envs/spyglass/lib/python3.10/site-packages/hdmf/spec/namespace.py:535: UserWarning: Ignoring cached namespace 'ndx-franklab-novela' version 0.1.0 because version 0.2.0 is already loaded.\n",
      "  warn(\"Ignoring cached namespace '%s' version %s because version %s is already loaded.\"\n",
      "/home/shijiegu/anaconda3/envs/spyglass/lib/python3.10/site-packages/hdmf/spec/namespace.py:535: UserWarning: Ignoring cached namespace 'core' version 2.6.0-alpha because version 2.7.0 is already loaded.\n",
      "  warn(\"Ignoring cached namespace '%s' version %s because version %s is already loaded.\"\n",
      "/home/shijiegu/anaconda3/envs/spyglass/lib/python3.10/site-packages/hdmf/spec/namespace.py:535: UserWarning: Ignoring cached namespace 'ndx-franklab-novela' version 0.1.0 because version 0.2.0 is already loaded.\n",
      "  warn(\"Ignoring cached namespace '%s' version %s because version %s is already loaded.\"\n",
      "/home/shijiegu/anaconda3/envs/spyglass/lib/python3.10/site-packages/spikeinterface/core/base.py:1038: UserWarning: Versions are not the same. This might lead to compatibility errors. Using spikeinterface==0.98.2 is recommended\n",
      "  warnings.warn(\n",
      "/home/shijiegu/anaconda3/envs/spyglass/lib/python3.10/site-packages/spikeinterface/core/base.py:1038: UserWarning: Versions are not the same. This might lead to compatibility errors. Using spikeinterface==0.98.2 is recommended\n",
      "  warnings.warn(\n",
      "[10:52:09][WARNING] Spyglass: Deprecation: this class has been moved out of spyglass.common.common_position\n",
      "\tTrackGraph -> spyglass.linearization.v0.main.TrackGraph\n",
      "Please use the new location.\n",
      "03-May-25 10:52:09 Deprecation: this class has been moved out of spyglass.common.common_position\n",
      "\tTrackGraph -> spyglass.linearization.v0.main.TrackGraph\n",
      "Please use the new location.\n"
     ]
    },
    {
     "name": "stdout",
     "output_type": "stream",
     "text": [
      "Done parsing. Insert into Spyglass\n",
      "epoch name 06_Seq2Session3\n",
      "epoch name 06_Seq2Session3\n",
      "epoch_pos_name pos 5 valid times\n"
     ]
    },
    {
     "name": "stderr",
     "output_type": "stream",
     "text": [
      "[2025-05-03 10:52:09,888][WARNING]: Skipped checksum for file with hash: 93ca6800-aa7d-3b30-f16e-c5057490245b, and path: /stelmo/nwb/analysis/molly20220418_4U5CQG52L3.nwb\n",
      "03-May-25 10:52:09 Skipped checksum for file with hash: 93ca6800-aa7d-3b30-f16e-c5057490245b, and path: /stelmo/nwb/analysis/molly20220418_4U5CQG52L3.nwb\n",
      "[2025-05-03 10:52:09,911][WARNING]: Skipped checksum for file with hash: 93ca6800-aa7d-3b30-f16e-c5057490245b, and path: /stelmo/nwb/analysis/molly20220418_4U5CQG52L3.nwb\n",
      "03-May-25 10:52:09 Skipped checksum for file with hash: 93ca6800-aa7d-3b30-f16e-c5057490245b, and path: /stelmo/nwb/analysis/molly20220418_4U5CQG52L3.nwb\n",
      "[2025-05-03 10:52:09,919][WARNING]: Skipped checksum for file with hash: 93ca6800-aa7d-3b30-f16e-c5057490245b, and path: /stelmo/nwb/analysis/molly20220418_4U5CQG52L3.nwb\n",
      "03-May-25 10:52:09 Skipped checksum for file with hash: 93ca6800-aa7d-3b30-f16e-c5057490245b, and path: /stelmo/nwb/analysis/molly20220418_4U5CQG52L3.nwb\n",
      "/home/shijiegu/anaconda3/envs/spyglass/lib/python3.10/site-packages/hdmf/spec/namespace.py:535: UserWarning: Ignoring cached namespace 'hdmf-common' version 1.5.1 because version 1.8.0 is already loaded.\n",
      "  warn(\"Ignoring cached namespace '%s' version %s because version %s is already loaded.\"\n",
      "/home/shijiegu/anaconda3/envs/spyglass/lib/python3.10/site-packages/hdmf/spec/namespace.py:535: UserWarning: Ignoring cached namespace 'core' version 2.4.0 because version 2.7.0 is already loaded.\n",
      "  warn(\"Ignoring cached namespace '%s' version %s because version %s is already loaded.\"\n",
      "/home/shijiegu/anaconda3/envs/spyglass/lib/python3.10/site-packages/hdmf/spec/namespace.py:535: UserWarning: Ignoring cached namespace 'hdmf-experimental' version 0.2.0 because version 0.5.0 is already loaded.\n",
      "  warn(\"Ignoring cached namespace '%s' version %s because version %s is already loaded.\"\n",
      "/home/shijiegu/anaconda3/envs/spyglass/lib/python3.10/site-packages/hdmf/spec/namespace.py:535: UserWarning: Ignoring cached namespace 'ndx-franklab-novela' version 0.1.0 because version 0.2.0 is already loaded.\n",
      "  warn(\"Ignoring cached namespace '%s' version %s because version %s is already loaded.\"\n",
      "[2025-05-03 10:52:23,999][WARNING]: Skipped checksum for file with hash: 6662320b-7a61-3639-cf90-503546a29cfa, and path: /stelmo/nwb/analysis/molly20220418_WXAGS2DXPM.nwb\n",
      "03-May-25 10:52:23 Skipped checksum for file with hash: 6662320b-7a61-3639-cf90-503546a29cfa, and path: /stelmo/nwb/analysis/molly20220418_WXAGS2DXPM.nwb\n",
      "[2025-05-03 10:52:24,016][WARNING]: Skipped checksum for file with hash: f692bf5f-cf2b-45d6-d4df-e423befe63e2, and path: /stelmo/nwb/analysis/molly20220418/molly20220418_R7EIZ4YEHP.nwb\n",
      "03-May-25 10:52:24 Skipped checksum for file with hash: f692bf5f-cf2b-45d6-d4df-e423befe63e2, and path: /stelmo/nwb/analysis/molly20220418/molly20220418_R7EIZ4YEHP.nwb\n",
      "[2025-05-03 10:52:24,036][WARNING]: Skipped checksum for file with hash: 6662320b-7a61-3639-cf90-503546a29cfa, and path: /stelmo/nwb/analysis/molly20220418_WXAGS2DXPM.nwb\n",
      "03-May-25 10:52:24 Skipped checksum for file with hash: 6662320b-7a61-3639-cf90-503546a29cfa, and path: /stelmo/nwb/analysis/molly20220418_WXAGS2DXPM.nwb\n",
      "[2025-05-03 10:52:24,041][WARNING]: Skipped checksum for file with hash: 6662320b-7a61-3639-cf90-503546a29cfa, and path: /stelmo/nwb/analysis/molly20220418_WXAGS2DXPM.nwb\n",
      "03-May-25 10:52:24 Skipped checksum for file with hash: 6662320b-7a61-3639-cf90-503546a29cfa, and path: /stelmo/nwb/analysis/molly20220418_WXAGS2DXPM.nwb\n",
      "[2025-05-03 10:52:24,053][WARNING]: Skipped checksum for file with hash: f692bf5f-cf2b-45d6-d4df-e423befe63e2, and path: /stelmo/nwb/analysis/molly20220418/molly20220418_R7EIZ4YEHP.nwb\n",
      "03-May-25 10:52:24 Skipped checksum for file with hash: f692bf5f-cf2b-45d6-d4df-e423befe63e2, and path: /stelmo/nwb/analysis/molly20220418/molly20220418_R7EIZ4YEHP.nwb\n",
      "[2025-05-03 10:52:24,059][WARNING]: Skipped checksum for file with hash: f692bf5f-cf2b-45d6-d4df-e423befe63e2, and path: /stelmo/nwb/analysis/molly20220418/molly20220418_R7EIZ4YEHP.nwb\n",
      "03-May-25 10:52:24 Skipped checksum for file with hash: f692bf5f-cf2b-45d6-d4df-e423befe63e2, and path: /stelmo/nwb/analysis/molly20220418/molly20220418_R7EIZ4YEHP.nwb\n",
      "/home/shijiegu/anaconda3/envs/spyglass/lib/python3.10/site-packages/hdmf/spec/namespace.py:535: UserWarning: Ignoring cached namespace 'hdmf-common' version 1.5.1 because version 1.8.0 is already loaded.\n",
      "  warn(\"Ignoring cached namespace '%s' version %s because version %s is already loaded.\"\n",
      "/home/shijiegu/anaconda3/envs/spyglass/lib/python3.10/site-packages/hdmf/spec/namespace.py:535: UserWarning: Ignoring cached namespace 'core' version 2.4.0 because version 2.7.0 is already loaded.\n",
      "  warn(\"Ignoring cached namespace '%s' version %s because version %s is already loaded.\"\n",
      "/home/shijiegu/anaconda3/envs/spyglass/lib/python3.10/site-packages/hdmf/spec/namespace.py:535: UserWarning: Ignoring cached namespace 'hdmf-experimental' version 0.2.0 because version 0.5.0 is already loaded.\n",
      "  warn(\"Ignoring cached namespace '%s' version %s because version %s is already loaded.\"\n",
      "/home/shijiegu/anaconda3/envs/spyglass/lib/python3.10/site-packages/hdmf/spec/namespace.py:535: UserWarning: Ignoring cached namespace 'ndx-franklab-novela' version 0.1.0 because version 0.2.0 is already loaded.\n",
      "  warn(\"Ignoring cached namespace '%s' version %s because version %s is already loaded.\"\n",
      "/home/shijiegu/anaconda3/envs/spyglass/lib/python3.10/site-packages/hdmf/spec/namespace.py:535: UserWarning: Ignoring cached namespace 'core' version 2.6.0-alpha because version 2.7.0 is already loaded.\n",
      "  warn(\"Ignoring cached namespace '%s' version %s because version %s is already loaded.\"\n",
      "/home/shijiegu/anaconda3/envs/spyglass/lib/python3.10/site-packages/hdmf/spec/namespace.py:535: UserWarning: Ignoring cached namespace 'ndx-franklab-novela' version 0.1.0 because version 0.2.0 is already loaded.\n",
      "  warn(\"Ignoring cached namespace '%s' version %s because version %s is already loaded.\"\n",
      "[2025-05-03 10:52:52,308][WARNING]: Skipped checksum for file with hash: 23b3b5aa-fe71-22cb-b1f4-32f228e269f6, and path: /stelmo/nwb/analysis/molly20220418/molly20220418_TUSZ68Z7P1.nwb\n",
      "03-May-25 10:52:52 Skipped checksum for file with hash: 23b3b5aa-fe71-22cb-b1f4-32f228e269f6, and path: /stelmo/nwb/analysis/molly20220418/molly20220418_TUSZ68Z7P1.nwb\n",
      "[2025-05-03 10:52:52,328][WARNING]: Skipped checksum for file with hash: 23b3b5aa-fe71-22cb-b1f4-32f228e269f6, and path: /stelmo/nwb/analysis/molly20220418/molly20220418_TUSZ68Z7P1.nwb\n",
      "03-May-25 10:52:52 Skipped checksum for file with hash: 23b3b5aa-fe71-22cb-b1f4-32f228e269f6, and path: /stelmo/nwb/analysis/molly20220418/molly20220418_TUSZ68Z7P1.nwb\n",
      "[2025-05-03 10:52:52,334][WARNING]: Skipped checksum for file with hash: 23b3b5aa-fe71-22cb-b1f4-32f228e269f6, and path: /stelmo/nwb/analysis/molly20220418/molly20220418_TUSZ68Z7P1.nwb\n",
      "03-May-25 10:52:52 Skipped checksum for file with hash: 23b3b5aa-fe71-22cb-b1f4-32f228e269f6, and path: /stelmo/nwb/analysis/molly20220418/molly20220418_TUSZ68Z7P1.nwb\n",
      "[2025-05-03 10:53:19,647][WARNING]: Skipped checksum for file with hash: c3ab2952-8cfc-651a-e6f1-fde146cb85b1, and path: /stelmo/nwb/analysis/molly20220418/molly20220418_9Q2V7A7XKD.nwb\n",
      "03-May-25 10:53:19 Skipped checksum for file with hash: c3ab2952-8cfc-651a-e6f1-fde146cb85b1, and path: /stelmo/nwb/analysis/molly20220418/molly20220418_9Q2V7A7XKD.nwb\n",
      "[2025-05-03 10:53:19,668][WARNING]: Skipped checksum for file with hash: c3ab2952-8cfc-651a-e6f1-fde146cb85b1, and path: /stelmo/nwb/analysis/molly20220418/molly20220418_9Q2V7A7XKD.nwb\n",
      "03-May-25 10:53:19 Skipped checksum for file with hash: c3ab2952-8cfc-651a-e6f1-fde146cb85b1, and path: /stelmo/nwb/analysis/molly20220418/molly20220418_9Q2V7A7XKD.nwb\n",
      "[2025-05-03 10:53:19,674][WARNING]: Skipped checksum for file with hash: c3ab2952-8cfc-651a-e6f1-fde146cb85b1, and path: /stelmo/nwb/analysis/molly20220418/molly20220418_9Q2V7A7XKD.nwb\n",
      "03-May-25 10:53:19 Skipped checksum for file with hash: c3ab2952-8cfc-651a-e6f1-fde146cb85b1, and path: /stelmo/nwb/analysis/molly20220418/molly20220418_9Q2V7A7XKD.nwb\n",
      "/home/shijiegu/anaconda3/envs/spyglass/lib/python3.10/site-packages/hdmf/spec/namespace.py:535: UserWarning: Ignoring cached namespace 'core' version 2.6.0-alpha because version 2.7.0 is already loaded.\n",
      "  warn(\"Ignoring cached namespace '%s' version %s because version %s is already loaded.\"\n",
      "/home/shijiegu/anaconda3/envs/spyglass/lib/python3.10/site-packages/hdmf/spec/namespace.py:535: UserWarning: Ignoring cached namespace 'ndx-franklab-novela' version 0.1.0 because version 0.2.0 is already loaded.\n",
      "  warn(\"Ignoring cached namespace '%s' version %s because version %s is already loaded.\"\n",
      "/home/shijiegu/anaconda3/envs/spyglass/lib/python3.10/site-packages/hdmf/spec/namespace.py:535: UserWarning: Ignoring cached namespace 'core' version 2.6.0-alpha because version 2.7.0 is already loaded.\n",
      "  warn(\"Ignoring cached namespace '%s' version %s because version %s is already loaded.\"\n",
      "/home/shijiegu/anaconda3/envs/spyglass/lib/python3.10/site-packages/hdmf/spec/namespace.py:535: UserWarning: Ignoring cached namespace 'ndx-franklab-novela' version 0.1.0 because version 0.2.0 is already loaded.\n",
      "  warn(\"Ignoring cached namespace '%s' version %s because version %s is already loaded.\"\n",
      "/home/shijiegu/anaconda3/envs/spyglass/lib/python3.10/site-packages/spikeinterface/core/base.py:1038: UserWarning: Versions are not the same. This might lead to compatibility errors. Using spikeinterface==0.98.2 is recommended\n",
      "  warnings.warn(\n",
      "/home/shijiegu/anaconda3/envs/spyglass/lib/python3.10/site-packages/spikeinterface/core/base.py:1038: UserWarning: Versions are not the same. This might lead to compatibility errors. Using spikeinterface==0.98.2 is recommended\n",
      "  warnings.warn(\n",
      "[10:57:47][WARNING] Spyglass: Deprecation: this class has been moved out of spyglass.common.common_position\n",
      "\tTrackGraph -> spyglass.linearization.v0.main.TrackGraph\n",
      "Please use the new location.\n",
      "03-May-25 10:57:47 Deprecation: this class has been moved out of spyglass.common.common_position\n",
      "\tTrackGraph -> spyglass.linearization.v0.main.TrackGraph\n",
      "Please use the new location.\n"
     ]
    },
    {
     "name": "stdout",
     "output_type": "stream",
     "text": [
      "Done parsing. Insert into Spyglass\n",
      "epoch name 08_Seq2Session4\n",
      "epoch name 08_Seq2Session4\n",
      "epoch_pos_name pos 7 valid times\n"
     ]
    },
    {
     "name": "stderr",
     "output_type": "stream",
     "text": [
      "[2025-05-03 10:57:47,978][WARNING]: Skipped checksum for file with hash: 8380d5b1-0f0c-f74c-fc3e-725faef44f6e, and path: /stelmo/nwb/analysis/molly20220418_9KHCO83GYC.nwb\n",
      "03-May-25 10:57:47 Skipped checksum for file with hash: 8380d5b1-0f0c-f74c-fc3e-725faef44f6e, and path: /stelmo/nwb/analysis/molly20220418_9KHCO83GYC.nwb\n",
      "[2025-05-03 10:57:48,002][WARNING]: Skipped checksum for file with hash: 8380d5b1-0f0c-f74c-fc3e-725faef44f6e, and path: /stelmo/nwb/analysis/molly20220418_9KHCO83GYC.nwb\n",
      "03-May-25 10:57:48 Skipped checksum for file with hash: 8380d5b1-0f0c-f74c-fc3e-725faef44f6e, and path: /stelmo/nwb/analysis/molly20220418_9KHCO83GYC.nwb\n",
      "[2025-05-03 10:57:48,011][WARNING]: Skipped checksum for file with hash: 8380d5b1-0f0c-f74c-fc3e-725faef44f6e, and path: /stelmo/nwb/analysis/molly20220418_9KHCO83GYC.nwb\n",
      "03-May-25 10:57:48 Skipped checksum for file with hash: 8380d5b1-0f0c-f74c-fc3e-725faef44f6e, and path: /stelmo/nwb/analysis/molly20220418_9KHCO83GYC.nwb\n",
      "/home/shijiegu/anaconda3/envs/spyglass/lib/python3.10/site-packages/hdmf/spec/namespace.py:535: UserWarning: Ignoring cached namespace 'hdmf-common' version 1.5.1 because version 1.8.0 is already loaded.\n",
      "  warn(\"Ignoring cached namespace '%s' version %s because version %s is already loaded.\"\n",
      "/home/shijiegu/anaconda3/envs/spyglass/lib/python3.10/site-packages/hdmf/spec/namespace.py:535: UserWarning: Ignoring cached namespace 'core' version 2.4.0 because version 2.7.0 is already loaded.\n",
      "  warn(\"Ignoring cached namespace '%s' version %s because version %s is already loaded.\"\n",
      "/home/shijiegu/anaconda3/envs/spyglass/lib/python3.10/site-packages/hdmf/spec/namespace.py:535: UserWarning: Ignoring cached namespace 'hdmf-experimental' version 0.2.0 because version 0.5.0 is already loaded.\n",
      "  warn(\"Ignoring cached namespace '%s' version %s because version %s is already loaded.\"\n",
      "/home/shijiegu/anaconda3/envs/spyglass/lib/python3.10/site-packages/hdmf/spec/namespace.py:535: UserWarning: Ignoring cached namespace 'ndx-franklab-novela' version 0.1.0 because version 0.2.0 is already loaded.\n",
      "  warn(\"Ignoring cached namespace '%s' version %s because version %s is already loaded.\"\n",
      "[2025-05-03 10:57:57,460][WARNING]: Skipped checksum for file with hash: 45475e70-be1f-92fe-406a-0cfa0a270df2, and path: /stelmo/nwb/analysis/molly20220418_4DM007N0MC.nwb\n",
      "03-May-25 10:57:57 Skipped checksum for file with hash: 45475e70-be1f-92fe-406a-0cfa0a270df2, and path: /stelmo/nwb/analysis/molly20220418_4DM007N0MC.nwb\n",
      "[2025-05-03 10:57:57,480][WARNING]: Skipped checksum for file with hash: bf29aba4-561d-1111-f297-7519c762acfb, and path: /stelmo/nwb/analysis/molly20220418/molly20220418_O751NXBE65.nwb\n",
      "03-May-25 10:57:57 Skipped checksum for file with hash: bf29aba4-561d-1111-f297-7519c762acfb, and path: /stelmo/nwb/analysis/molly20220418/molly20220418_O751NXBE65.nwb\n",
      "[2025-05-03 10:57:57,501][WARNING]: Skipped checksum for file with hash: 45475e70-be1f-92fe-406a-0cfa0a270df2, and path: /stelmo/nwb/analysis/molly20220418_4DM007N0MC.nwb\n",
      "03-May-25 10:57:57 Skipped checksum for file with hash: 45475e70-be1f-92fe-406a-0cfa0a270df2, and path: /stelmo/nwb/analysis/molly20220418_4DM007N0MC.nwb\n",
      "[2025-05-03 10:57:57,509][WARNING]: Skipped checksum for file with hash: 45475e70-be1f-92fe-406a-0cfa0a270df2, and path: /stelmo/nwb/analysis/molly20220418_4DM007N0MC.nwb\n",
      "03-May-25 10:57:57 Skipped checksum for file with hash: 45475e70-be1f-92fe-406a-0cfa0a270df2, and path: /stelmo/nwb/analysis/molly20220418_4DM007N0MC.nwb\n",
      "[2025-05-03 10:57:57,526][WARNING]: Skipped checksum for file with hash: bf29aba4-561d-1111-f297-7519c762acfb, and path: /stelmo/nwb/analysis/molly20220418/molly20220418_O751NXBE65.nwb\n",
      "03-May-25 10:57:57 Skipped checksum for file with hash: bf29aba4-561d-1111-f297-7519c762acfb, and path: /stelmo/nwb/analysis/molly20220418/molly20220418_O751NXBE65.nwb\n",
      "[2025-05-03 10:57:57,534][WARNING]: Skipped checksum for file with hash: bf29aba4-561d-1111-f297-7519c762acfb, and path: /stelmo/nwb/analysis/molly20220418/molly20220418_O751NXBE65.nwb\n",
      "03-May-25 10:57:57 Skipped checksum for file with hash: bf29aba4-561d-1111-f297-7519c762acfb, and path: /stelmo/nwb/analysis/molly20220418/molly20220418_O751NXBE65.nwb\n",
      "/home/shijiegu/anaconda3/envs/spyglass/lib/python3.10/site-packages/hdmf/spec/namespace.py:535: UserWarning: Ignoring cached namespace 'hdmf-common' version 1.5.1 because version 1.8.0 is already loaded.\n",
      "  warn(\"Ignoring cached namespace '%s' version %s because version %s is already loaded.\"\n",
      "/home/shijiegu/anaconda3/envs/spyglass/lib/python3.10/site-packages/hdmf/spec/namespace.py:535: UserWarning: Ignoring cached namespace 'core' version 2.4.0 because version 2.7.0 is already loaded.\n",
      "  warn(\"Ignoring cached namespace '%s' version %s because version %s is already loaded.\"\n",
      "/home/shijiegu/anaconda3/envs/spyglass/lib/python3.10/site-packages/hdmf/spec/namespace.py:535: UserWarning: Ignoring cached namespace 'hdmf-experimental' version 0.2.0 because version 0.5.0 is already loaded.\n",
      "  warn(\"Ignoring cached namespace '%s' version %s because version %s is already loaded.\"\n",
      "/home/shijiegu/anaconda3/envs/spyglass/lib/python3.10/site-packages/hdmf/spec/namespace.py:535: UserWarning: Ignoring cached namespace 'ndx-franklab-novela' version 0.1.0 because version 0.2.0 is already loaded.\n",
      "  warn(\"Ignoring cached namespace '%s' version %s because version %s is already loaded.\"\n",
      "/home/shijiegu/anaconda3/envs/spyglass/lib/python3.10/site-packages/hdmf/spec/namespace.py:535: UserWarning: Ignoring cached namespace 'core' version 2.6.0-alpha because version 2.7.0 is already loaded.\n",
      "  warn(\"Ignoring cached namespace '%s' version %s because version %s is already loaded.\"\n",
      "/home/shijiegu/anaconda3/envs/spyglass/lib/python3.10/site-packages/hdmf/spec/namespace.py:535: UserWarning: Ignoring cached namespace 'ndx-franklab-novela' version 0.1.0 because version 0.2.0 is already loaded.\n",
      "  warn(\"Ignoring cached namespace '%s' version %s because version %s is already loaded.\"\n",
      "[2025-05-03 10:58:16,792][WARNING]: Skipped checksum for file with hash: 23b3b5aa-fe71-22cb-b1f4-32f228e269f6, and path: /stelmo/nwb/analysis/molly20220418/molly20220418_TUSZ68Z7P1.nwb\n",
      "03-May-25 10:58:16 Skipped checksum for file with hash: 23b3b5aa-fe71-22cb-b1f4-32f228e269f6, and path: /stelmo/nwb/analysis/molly20220418/molly20220418_TUSZ68Z7P1.nwb\n",
      "[2025-05-03 10:58:16,817][WARNING]: Skipped checksum for file with hash: 23b3b5aa-fe71-22cb-b1f4-32f228e269f6, and path: /stelmo/nwb/analysis/molly20220418/molly20220418_TUSZ68Z7P1.nwb\n",
      "03-May-25 10:58:16 Skipped checksum for file with hash: 23b3b5aa-fe71-22cb-b1f4-32f228e269f6, and path: /stelmo/nwb/analysis/molly20220418/molly20220418_TUSZ68Z7P1.nwb\n",
      "[2025-05-03 10:58:16,825][WARNING]: Skipped checksum for file with hash: 23b3b5aa-fe71-22cb-b1f4-32f228e269f6, and path: /stelmo/nwb/analysis/molly20220418/molly20220418_TUSZ68Z7P1.nwb\n",
      "03-May-25 10:58:16 Skipped checksum for file with hash: 23b3b5aa-fe71-22cb-b1f4-32f228e269f6, and path: /stelmo/nwb/analysis/molly20220418/molly20220418_TUSZ68Z7P1.nwb\n",
      "[2025-05-03 10:58:34,221][WARNING]: Skipped checksum for file with hash: 776a2a9b-e7b8-6696-d510-cd7563f9f133, and path: /stelmo/nwb/analysis/molly20220418/molly20220418_4U1H5O2SCU.nwb\n",
      "03-May-25 10:58:34 Skipped checksum for file with hash: 776a2a9b-e7b8-6696-d510-cd7563f9f133, and path: /stelmo/nwb/analysis/molly20220418/molly20220418_4U1H5O2SCU.nwb\n",
      "[2025-05-03 10:58:34,243][WARNING]: Skipped checksum for file with hash: 776a2a9b-e7b8-6696-d510-cd7563f9f133, and path: /stelmo/nwb/analysis/molly20220418/molly20220418_4U1H5O2SCU.nwb\n",
      "03-May-25 10:58:34 Skipped checksum for file with hash: 776a2a9b-e7b8-6696-d510-cd7563f9f133, and path: /stelmo/nwb/analysis/molly20220418/molly20220418_4U1H5O2SCU.nwb\n",
      "[2025-05-03 10:58:34,249][WARNING]: Skipped checksum for file with hash: 776a2a9b-e7b8-6696-d510-cd7563f9f133, and path: /stelmo/nwb/analysis/molly20220418/molly20220418_4U1H5O2SCU.nwb\n",
      "03-May-25 10:58:34 Skipped checksum for file with hash: 776a2a9b-e7b8-6696-d510-cd7563f9f133, and path: /stelmo/nwb/analysis/molly20220418/molly20220418_4U1H5O2SCU.nwb\n",
      "/home/shijiegu/anaconda3/envs/spyglass/lib/python3.10/site-packages/hdmf/spec/namespace.py:535: UserWarning: Ignoring cached namespace 'core' version 2.6.0-alpha because version 2.7.0 is already loaded.\n",
      "  warn(\"Ignoring cached namespace '%s' version %s because version %s is already loaded.\"\n",
      "/home/shijiegu/anaconda3/envs/spyglass/lib/python3.10/site-packages/hdmf/spec/namespace.py:535: UserWarning: Ignoring cached namespace 'ndx-franklab-novela' version 0.1.0 because version 0.2.0 is already loaded.\n",
      "  warn(\"Ignoring cached namespace '%s' version %s because version %s is already loaded.\"\n",
      "/home/shijiegu/anaconda3/envs/spyglass/lib/python3.10/site-packages/hdmf/spec/namespace.py:535: UserWarning: Ignoring cached namespace 'core' version 2.6.0-alpha because version 2.7.0 is already loaded.\n",
      "  warn(\"Ignoring cached namespace '%s' version %s because version %s is already loaded.\"\n",
      "/home/shijiegu/anaconda3/envs/spyglass/lib/python3.10/site-packages/hdmf/spec/namespace.py:535: UserWarning: Ignoring cached namespace 'ndx-franklab-novela' version 0.1.0 because version 0.2.0 is already loaded.\n",
      "  warn(\"Ignoring cached namespace '%s' version %s because version %s is already loaded.\"\n",
      "/home/shijiegu/anaconda3/envs/spyglass/lib/python3.10/site-packages/spikeinterface/core/base.py:1038: UserWarning: Versions are not the same. This might lead to compatibility errors. Using spikeinterface==0.98.2 is recommended\n",
      "  warnings.warn(\n",
      "/home/shijiegu/anaconda3/envs/spyglass/lib/python3.10/site-packages/spikeinterface/core/base.py:1038: UserWarning: Versions are not the same. This might lead to compatibility errors. Using spikeinterface==0.98.2 is recommended\n",
      "  warnings.warn(\n"
     ]
    },
    {
     "name": "stdout",
     "output_type": "stream",
     "text": [
      "Done parsing. Insert into Spyglass\n"
     ]
    },
    {
     "name": "stderr",
     "output_type": "stream",
     "text": [
      "[11:02:12][WARNING] Spyglass: Deprecation: this class has been moved out of spyglass.common.common_position\n",
      "\tTrackGraph -> spyglass.linearization.v0.main.TrackGraph\n",
      "Please use the new location.\n",
      "03-May-25 11:02:12 Deprecation: this class has been moved out of spyglass.common.common_position\n",
      "\tTrackGraph -> spyglass.linearization.v0.main.TrackGraph\n",
      "Please use the new location.\n"
     ]
    },
    {
     "name": "stdout",
     "output_type": "stream",
     "text": [
      "epoch name 10_Seq2Session5\n",
      "epoch name 10_Seq2Session5\n",
      "epoch_pos_name pos 9 valid times\n"
     ]
    },
    {
     "name": "stderr",
     "output_type": "stream",
     "text": [
      "[2025-05-03 11:02:13,444][WARNING]: Skipped checksum for file with hash: 212360d7-6f27-e1e0-ada6-6d319074c7a2, and path: /stelmo/nwb/analysis/molly20220418_1XEB8DQJ3N.nwb\n",
      "03-May-25 11:02:13 Skipped checksum for file with hash: 212360d7-6f27-e1e0-ada6-6d319074c7a2, and path: /stelmo/nwb/analysis/molly20220418_1XEB8DQJ3N.nwb\n",
      "[2025-05-03 11:02:13,467][WARNING]: Skipped checksum for file with hash: 212360d7-6f27-e1e0-ada6-6d319074c7a2, and path: /stelmo/nwb/analysis/molly20220418_1XEB8DQJ3N.nwb\n",
      "03-May-25 11:02:13 Skipped checksum for file with hash: 212360d7-6f27-e1e0-ada6-6d319074c7a2, and path: /stelmo/nwb/analysis/molly20220418_1XEB8DQJ3N.nwb\n",
      "[2025-05-03 11:02:13,475][WARNING]: Skipped checksum for file with hash: 212360d7-6f27-e1e0-ada6-6d319074c7a2, and path: /stelmo/nwb/analysis/molly20220418_1XEB8DQJ3N.nwb\n",
      "03-May-25 11:02:13 Skipped checksum for file with hash: 212360d7-6f27-e1e0-ada6-6d319074c7a2, and path: /stelmo/nwb/analysis/molly20220418_1XEB8DQJ3N.nwb\n",
      "/home/shijiegu/anaconda3/envs/spyglass/lib/python3.10/site-packages/hdmf/spec/namespace.py:535: UserWarning: Ignoring cached namespace 'hdmf-common' version 1.5.1 because version 1.8.0 is already loaded.\n",
      "  warn(\"Ignoring cached namespace '%s' version %s because version %s is already loaded.\"\n",
      "/home/shijiegu/anaconda3/envs/spyglass/lib/python3.10/site-packages/hdmf/spec/namespace.py:535: UserWarning: Ignoring cached namespace 'core' version 2.4.0 because version 2.7.0 is already loaded.\n",
      "  warn(\"Ignoring cached namespace '%s' version %s because version %s is already loaded.\"\n",
      "/home/shijiegu/anaconda3/envs/spyglass/lib/python3.10/site-packages/hdmf/spec/namespace.py:535: UserWarning: Ignoring cached namespace 'hdmf-experimental' version 0.2.0 because version 0.5.0 is already loaded.\n",
      "  warn(\"Ignoring cached namespace '%s' version %s because version %s is already loaded.\"\n",
      "/home/shijiegu/anaconda3/envs/spyglass/lib/python3.10/site-packages/hdmf/spec/namespace.py:535: UserWarning: Ignoring cached namespace 'ndx-franklab-novela' version 0.1.0 because version 0.2.0 is already loaded.\n",
      "  warn(\"Ignoring cached namespace '%s' version %s because version %s is already loaded.\"\n",
      "[2025-05-03 11:02:27,099][WARNING]: Skipped checksum for file with hash: 6139f388-e6c5-bf42-221e-672ceb8a1dd3, and path: /stelmo/nwb/analysis/molly20220418_DGFB07I19D.nwb\n",
      "03-May-25 11:02:27 Skipped checksum for file with hash: 6139f388-e6c5-bf42-221e-672ceb8a1dd3, and path: /stelmo/nwb/analysis/molly20220418_DGFB07I19D.nwb\n",
      "[2025-05-03 11:02:27,115][WARNING]: Skipped checksum for file with hash: 6ce0f9f0-cf63-9175-8f8e-b59d0e060c3d, and path: /stelmo/nwb/analysis/molly20220418/molly20220418_B76N8DUOIF.nwb\n",
      "03-May-25 11:02:27 Skipped checksum for file with hash: 6ce0f9f0-cf63-9175-8f8e-b59d0e060c3d, and path: /stelmo/nwb/analysis/molly20220418/molly20220418_B76N8DUOIF.nwb\n",
      "[2025-05-03 11:02:27,135][WARNING]: Skipped checksum for file with hash: 6139f388-e6c5-bf42-221e-672ceb8a1dd3, and path: /stelmo/nwb/analysis/molly20220418_DGFB07I19D.nwb\n",
      "03-May-25 11:02:27 Skipped checksum for file with hash: 6139f388-e6c5-bf42-221e-672ceb8a1dd3, and path: /stelmo/nwb/analysis/molly20220418_DGFB07I19D.nwb\n",
      "[2025-05-03 11:02:27,143][WARNING]: Skipped checksum for file with hash: 6139f388-e6c5-bf42-221e-672ceb8a1dd3, and path: /stelmo/nwb/analysis/molly20220418_DGFB07I19D.nwb\n",
      "03-May-25 11:02:27 Skipped checksum for file with hash: 6139f388-e6c5-bf42-221e-672ceb8a1dd3, and path: /stelmo/nwb/analysis/molly20220418_DGFB07I19D.nwb\n",
      "[2025-05-03 11:02:27,157][WARNING]: Skipped checksum for file with hash: 6ce0f9f0-cf63-9175-8f8e-b59d0e060c3d, and path: /stelmo/nwb/analysis/molly20220418/molly20220418_B76N8DUOIF.nwb\n",
      "03-May-25 11:02:27 Skipped checksum for file with hash: 6ce0f9f0-cf63-9175-8f8e-b59d0e060c3d, and path: /stelmo/nwb/analysis/molly20220418/molly20220418_B76N8DUOIF.nwb\n",
      "[2025-05-03 11:02:27,166][WARNING]: Skipped checksum for file with hash: 6ce0f9f0-cf63-9175-8f8e-b59d0e060c3d, and path: /stelmo/nwb/analysis/molly20220418/molly20220418_B76N8DUOIF.nwb\n",
      "03-May-25 11:02:27 Skipped checksum for file with hash: 6ce0f9f0-cf63-9175-8f8e-b59d0e060c3d, and path: /stelmo/nwb/analysis/molly20220418/molly20220418_B76N8DUOIF.nwb\n",
      "/home/shijiegu/anaconda3/envs/spyglass/lib/python3.10/site-packages/hdmf/spec/namespace.py:535: UserWarning: Ignoring cached namespace 'hdmf-common' version 1.5.1 because version 1.8.0 is already loaded.\n",
      "  warn(\"Ignoring cached namespace '%s' version %s because version %s is already loaded.\"\n",
      "/home/shijiegu/anaconda3/envs/spyglass/lib/python3.10/site-packages/hdmf/spec/namespace.py:535: UserWarning: Ignoring cached namespace 'core' version 2.4.0 because version 2.7.0 is already loaded.\n",
      "  warn(\"Ignoring cached namespace '%s' version %s because version %s is already loaded.\"\n",
      "/home/shijiegu/anaconda3/envs/spyglass/lib/python3.10/site-packages/hdmf/spec/namespace.py:535: UserWarning: Ignoring cached namespace 'hdmf-experimental' version 0.2.0 because version 0.5.0 is already loaded.\n",
      "  warn(\"Ignoring cached namespace '%s' version %s because version %s is already loaded.\"\n",
      "/home/shijiegu/anaconda3/envs/spyglass/lib/python3.10/site-packages/hdmf/spec/namespace.py:535: UserWarning: Ignoring cached namespace 'ndx-franklab-novela' version 0.1.0 because version 0.2.0 is already loaded.\n",
      "  warn(\"Ignoring cached namespace '%s' version %s because version %s is already loaded.\"\n",
      "/home/shijiegu/anaconda3/envs/spyglass/lib/python3.10/site-packages/hdmf/spec/namespace.py:535: UserWarning: Ignoring cached namespace 'core' version 2.6.0-alpha because version 2.7.0 is already loaded.\n",
      "  warn(\"Ignoring cached namespace '%s' version %s because version %s is already loaded.\"\n",
      "/home/shijiegu/anaconda3/envs/spyglass/lib/python3.10/site-packages/hdmf/spec/namespace.py:535: UserWarning: Ignoring cached namespace 'ndx-franklab-novela' version 0.1.0 because version 0.2.0 is already loaded.\n",
      "  warn(\"Ignoring cached namespace '%s' version %s because version %s is already loaded.\"\n",
      "[2025-05-03 11:02:54,965][WARNING]: Skipped checksum for file with hash: 23b3b5aa-fe71-22cb-b1f4-32f228e269f6, and path: /stelmo/nwb/analysis/molly20220418/molly20220418_TUSZ68Z7P1.nwb\n",
      "03-May-25 11:02:54 Skipped checksum for file with hash: 23b3b5aa-fe71-22cb-b1f4-32f228e269f6, and path: /stelmo/nwb/analysis/molly20220418/molly20220418_TUSZ68Z7P1.nwb\n",
      "[2025-05-03 11:02:54,985][WARNING]: Skipped checksum for file with hash: 23b3b5aa-fe71-22cb-b1f4-32f228e269f6, and path: /stelmo/nwb/analysis/molly20220418/molly20220418_TUSZ68Z7P1.nwb\n",
      "03-May-25 11:02:54 Skipped checksum for file with hash: 23b3b5aa-fe71-22cb-b1f4-32f228e269f6, and path: /stelmo/nwb/analysis/molly20220418/molly20220418_TUSZ68Z7P1.nwb\n",
      "[2025-05-03 11:02:54,990][WARNING]: Skipped checksum for file with hash: 23b3b5aa-fe71-22cb-b1f4-32f228e269f6, and path: /stelmo/nwb/analysis/molly20220418/molly20220418_TUSZ68Z7P1.nwb\n",
      "03-May-25 11:02:54 Skipped checksum for file with hash: 23b3b5aa-fe71-22cb-b1f4-32f228e269f6, and path: /stelmo/nwb/analysis/molly20220418/molly20220418_TUSZ68Z7P1.nwb\n",
      "[2025-05-03 11:03:20,319][WARNING]: Skipped checksum for file with hash: 0365f2c3-80e2-adf9-024a-51842bc81525, and path: /stelmo/nwb/analysis/molly20220418/molly20220418_1PNWBTLQBJ.nwb\n",
      "03-May-25 11:03:20 Skipped checksum for file with hash: 0365f2c3-80e2-adf9-024a-51842bc81525, and path: /stelmo/nwb/analysis/molly20220418/molly20220418_1PNWBTLQBJ.nwb\n",
      "[2025-05-03 11:03:20,340][WARNING]: Skipped checksum for file with hash: 0365f2c3-80e2-adf9-024a-51842bc81525, and path: /stelmo/nwb/analysis/molly20220418/molly20220418_1PNWBTLQBJ.nwb\n",
      "03-May-25 11:03:20 Skipped checksum for file with hash: 0365f2c3-80e2-adf9-024a-51842bc81525, and path: /stelmo/nwb/analysis/molly20220418/molly20220418_1PNWBTLQBJ.nwb\n",
      "[2025-05-03 11:03:20,347][WARNING]: Skipped checksum for file with hash: 0365f2c3-80e2-adf9-024a-51842bc81525, and path: /stelmo/nwb/analysis/molly20220418/molly20220418_1PNWBTLQBJ.nwb\n",
      "03-May-25 11:03:20 Skipped checksum for file with hash: 0365f2c3-80e2-adf9-024a-51842bc81525, and path: /stelmo/nwb/analysis/molly20220418/molly20220418_1PNWBTLQBJ.nwb\n",
      "/home/shijiegu/anaconda3/envs/spyglass/lib/python3.10/site-packages/hdmf/spec/namespace.py:535: UserWarning: Ignoring cached namespace 'core' version 2.6.0-alpha because version 2.7.0 is already loaded.\n",
      "  warn(\"Ignoring cached namespace '%s' version %s because version %s is already loaded.\"\n",
      "/home/shijiegu/anaconda3/envs/spyglass/lib/python3.10/site-packages/hdmf/spec/namespace.py:535: UserWarning: Ignoring cached namespace 'ndx-franklab-novela' version 0.1.0 because version 0.2.0 is already loaded.\n",
      "  warn(\"Ignoring cached namespace '%s' version %s because version %s is already loaded.\"\n",
      "/home/shijiegu/anaconda3/envs/spyglass/lib/python3.10/site-packages/hdmf/spec/namespace.py:535: UserWarning: Ignoring cached namespace 'core' version 2.6.0-alpha because version 2.7.0 is already loaded.\n",
      "  warn(\"Ignoring cached namespace '%s' version %s because version %s is already loaded.\"\n",
      "/home/shijiegu/anaconda3/envs/spyglass/lib/python3.10/site-packages/hdmf/spec/namespace.py:535: UserWarning: Ignoring cached namespace 'ndx-franklab-novela' version 0.1.0 because version 0.2.0 is already loaded.\n",
      "  warn(\"Ignoring cached namespace '%s' version %s because version %s is already loaded.\"\n",
      "/home/shijiegu/anaconda3/envs/spyglass/lib/python3.10/site-packages/spikeinterface/core/base.py:1038: UserWarning: Versions are not the same. This might lead to compatibility errors. Using spikeinterface==0.98.2 is recommended\n",
      "  warnings.warn(\n",
      "/home/shijiegu/anaconda3/envs/spyglass/lib/python3.10/site-packages/spikeinterface/core/base.py:1038: UserWarning: Versions are not the same. This might lead to compatibility errors. Using spikeinterface==0.98.2 is recommended\n",
      "  warnings.warn(\n",
      "[11:06:32][WARNING] Spyglass: Deprecation: this class has been moved out of spyglass.common.common_position\n",
      "\tTrackGraph -> spyglass.linearization.v0.main.TrackGraph\n",
      "Please use the new location.\n",
      "03-May-25 11:06:32 Deprecation: this class has been moved out of spyglass.common.common_position\n",
      "\tTrackGraph -> spyglass.linearization.v0.main.TrackGraph\n",
      "Please use the new location.\n"
     ]
    },
    {
     "name": "stdout",
     "output_type": "stream",
     "text": [
      "Done parsing. Insert into Spyglass\n",
      "epoch name 02_Seq2Session1\n",
      "epoch name 02_Seq2Session1\n",
      "epoch_pos_name pos 1 valid times\n"
     ]
    },
    {
     "name": "stderr",
     "output_type": "stream",
     "text": [
      "[2025-05-03 11:06:32,813][WARNING]: Skipped checksum for file with hash: 14d2d0ec-b06a-81d4-da85-3d68884f4b72, and path: /stelmo/nwb/analysis/molly20220419_1J6X7KFSVD.nwb\n",
      "03-May-25 11:06:32 Skipped checksum for file with hash: 14d2d0ec-b06a-81d4-da85-3d68884f4b72, and path: /stelmo/nwb/analysis/molly20220419_1J6X7KFSVD.nwb\n",
      "[2025-05-03 11:06:32,840][WARNING]: Skipped checksum for file with hash: 14d2d0ec-b06a-81d4-da85-3d68884f4b72, and path: /stelmo/nwb/analysis/molly20220419_1J6X7KFSVD.nwb\n",
      "03-May-25 11:06:32 Skipped checksum for file with hash: 14d2d0ec-b06a-81d4-da85-3d68884f4b72, and path: /stelmo/nwb/analysis/molly20220419_1J6X7KFSVD.nwb\n",
      "[2025-05-03 11:06:32,849][WARNING]: Skipped checksum for file with hash: 14d2d0ec-b06a-81d4-da85-3d68884f4b72, and path: /stelmo/nwb/analysis/molly20220419_1J6X7KFSVD.nwb\n",
      "03-May-25 11:06:32 Skipped checksum for file with hash: 14d2d0ec-b06a-81d4-da85-3d68884f4b72, and path: /stelmo/nwb/analysis/molly20220419_1J6X7KFSVD.nwb\n",
      "/home/shijiegu/anaconda3/envs/spyglass/lib/python3.10/site-packages/hdmf/spec/namespace.py:535: UserWarning: Ignoring cached namespace 'hdmf-common' version 1.5.1 because version 1.8.0 is already loaded.\n",
      "  warn(\"Ignoring cached namespace '%s' version %s because version %s is already loaded.\"\n",
      "/home/shijiegu/anaconda3/envs/spyglass/lib/python3.10/site-packages/hdmf/spec/namespace.py:535: UserWarning: Ignoring cached namespace 'core' version 2.4.0 because version 2.7.0 is already loaded.\n",
      "  warn(\"Ignoring cached namespace '%s' version %s because version %s is already loaded.\"\n",
      "/home/shijiegu/anaconda3/envs/spyglass/lib/python3.10/site-packages/hdmf/spec/namespace.py:535: UserWarning: Ignoring cached namespace 'hdmf-experimental' version 0.2.0 because version 0.5.0 is already loaded.\n",
      "  warn(\"Ignoring cached namespace '%s' version %s because version %s is already loaded.\"\n",
      "/home/shijiegu/anaconda3/envs/spyglass/lib/python3.10/site-packages/hdmf/spec/namespace.py:535: UserWarning: Ignoring cached namespace 'ndx-franklab-novela' version 0.1.0 because version 0.2.0 is already loaded.\n",
      "  warn(\"Ignoring cached namespace '%s' version %s because version %s is already loaded.\"\n",
      "[2025-05-03 11:06:46,449][WARNING]: Skipped checksum for file with hash: 0b488a03-64e6-fca8-695d-f7d1d4575273, and path: /stelmo/nwb/analysis/molly20220419_ZTITQPKJ5X.nwb\n",
      "03-May-25 11:06:46 Skipped checksum for file with hash: 0b488a03-64e6-fca8-695d-f7d1d4575273, and path: /stelmo/nwb/analysis/molly20220419_ZTITQPKJ5X.nwb\n",
      "[2025-05-03 11:06:46,467][WARNING]: Skipped checksum for file with hash: b3e6d9cf-569e-3726-6bbc-9986ee208a60, and path: /stelmo/nwb/analysis/molly20220419/molly20220419_I8NJO669C4.nwb\n",
      "03-May-25 11:06:46 Skipped checksum for file with hash: b3e6d9cf-569e-3726-6bbc-9986ee208a60, and path: /stelmo/nwb/analysis/molly20220419/molly20220419_I8NJO669C4.nwb\n",
      "[2025-05-03 11:06:46,577][WARNING]: Skipped checksum for file with hash: 0b488a03-64e6-fca8-695d-f7d1d4575273, and path: /stelmo/nwb/analysis/molly20220419_ZTITQPKJ5X.nwb\n",
      "03-May-25 11:06:46 Skipped checksum for file with hash: 0b488a03-64e6-fca8-695d-f7d1d4575273, and path: /stelmo/nwb/analysis/molly20220419_ZTITQPKJ5X.nwb\n",
      "[2025-05-03 11:06:46,630][WARNING]: Skipped checksum for file with hash: 0b488a03-64e6-fca8-695d-f7d1d4575273, and path: /stelmo/nwb/analysis/molly20220419_ZTITQPKJ5X.nwb\n",
      "03-May-25 11:06:46 Skipped checksum for file with hash: 0b488a03-64e6-fca8-695d-f7d1d4575273, and path: /stelmo/nwb/analysis/molly20220419_ZTITQPKJ5X.nwb\n",
      "[2025-05-03 11:06:46,680][WARNING]: Skipped checksum for file with hash: b3e6d9cf-569e-3726-6bbc-9986ee208a60, and path: /stelmo/nwb/analysis/molly20220419/molly20220419_I8NJO669C4.nwb\n",
      "03-May-25 11:06:46 Skipped checksum for file with hash: b3e6d9cf-569e-3726-6bbc-9986ee208a60, and path: /stelmo/nwb/analysis/molly20220419/molly20220419_I8NJO669C4.nwb\n",
      "[2025-05-03 11:06:46,741][WARNING]: Skipped checksum for file with hash: b3e6d9cf-569e-3726-6bbc-9986ee208a60, and path: /stelmo/nwb/analysis/molly20220419/molly20220419_I8NJO669C4.nwb\n",
      "03-May-25 11:06:46 Skipped checksum for file with hash: b3e6d9cf-569e-3726-6bbc-9986ee208a60, and path: /stelmo/nwb/analysis/molly20220419/molly20220419_I8NJO669C4.nwb\n",
      "/home/shijiegu/anaconda3/envs/spyglass/lib/python3.10/site-packages/hdmf/spec/namespace.py:535: UserWarning: Ignoring cached namespace 'hdmf-common' version 1.5.1 because version 1.8.0 is already loaded.\n",
      "  warn(\"Ignoring cached namespace '%s' version %s because version %s is already loaded.\"\n",
      "/home/shijiegu/anaconda3/envs/spyglass/lib/python3.10/site-packages/hdmf/spec/namespace.py:535: UserWarning: Ignoring cached namespace 'core' version 2.4.0 because version 2.7.0 is already loaded.\n",
      "  warn(\"Ignoring cached namespace '%s' version %s because version %s is already loaded.\"\n",
      "/home/shijiegu/anaconda3/envs/spyglass/lib/python3.10/site-packages/hdmf/spec/namespace.py:535: UserWarning: Ignoring cached namespace 'hdmf-experimental' version 0.2.0 because version 0.5.0 is already loaded.\n",
      "  warn(\"Ignoring cached namespace '%s' version %s because version %s is already loaded.\"\n",
      "/home/shijiegu/anaconda3/envs/spyglass/lib/python3.10/site-packages/hdmf/spec/namespace.py:535: UserWarning: Ignoring cached namespace 'ndx-franklab-novela' version 0.1.0 because version 0.2.0 is already loaded.\n",
      "  warn(\"Ignoring cached namespace '%s' version %s because version %s is already loaded.\"\n",
      "/home/shijiegu/anaconda3/envs/spyglass/lib/python3.10/site-packages/hdmf/spec/namespace.py:535: UserWarning: Ignoring cached namespace 'core' version 2.6.0-alpha because version 2.7.0 is already loaded.\n",
      "  warn(\"Ignoring cached namespace '%s' version %s because version %s is already loaded.\"\n",
      "/home/shijiegu/anaconda3/envs/spyglass/lib/python3.10/site-packages/hdmf/spec/namespace.py:535: UserWarning: Ignoring cached namespace 'ndx-franklab-novela' version 0.1.0 because version 0.2.0 is already loaded.\n",
      "  warn(\"Ignoring cached namespace '%s' version %s because version %s is already loaded.\"\n",
      "[2025-05-03 11:07:15,331][WARNING]: Skipped checksum for file with hash: db487cf4-2333-efe8-29ac-1076ba3bbf42, and path: /stelmo/nwb/analysis/molly20220419/molly20220419_DYIFV8Y8E8.nwb\n",
      "03-May-25 11:07:15 Skipped checksum for file with hash: db487cf4-2333-efe8-29ac-1076ba3bbf42, and path: /stelmo/nwb/analysis/molly20220419/molly20220419_DYIFV8Y8E8.nwb\n",
      "[2025-05-03 11:07:15,356][WARNING]: Skipped checksum for file with hash: db487cf4-2333-efe8-29ac-1076ba3bbf42, and path: /stelmo/nwb/analysis/molly20220419/molly20220419_DYIFV8Y8E8.nwb\n",
      "03-May-25 11:07:15 Skipped checksum for file with hash: db487cf4-2333-efe8-29ac-1076ba3bbf42, and path: /stelmo/nwb/analysis/molly20220419/molly20220419_DYIFV8Y8E8.nwb\n",
      "[2025-05-03 11:07:15,363][WARNING]: Skipped checksum for file with hash: db487cf4-2333-efe8-29ac-1076ba3bbf42, and path: /stelmo/nwb/analysis/molly20220419/molly20220419_DYIFV8Y8E8.nwb\n",
      "03-May-25 11:07:15 Skipped checksum for file with hash: db487cf4-2333-efe8-29ac-1076ba3bbf42, and path: /stelmo/nwb/analysis/molly20220419/molly20220419_DYIFV8Y8E8.nwb\n",
      "/home/shijiegu/anaconda3/envs/spyglass/lib/python3.10/site-packages/hdmf/spec/namespace.py:535: UserWarning: Ignoring cached namespace 'core' version 2.6.0-alpha because version 2.7.0 is already loaded.\n",
      "  warn(\"Ignoring cached namespace '%s' version %s because version %s is already loaded.\"\n",
      "/home/shijiegu/anaconda3/envs/spyglass/lib/python3.10/site-packages/hdmf/spec/namespace.py:535: UserWarning: Ignoring cached namespace 'ndx-franklab-novela' version 0.1.0 because version 0.2.0 is already loaded.\n",
      "  warn(\"Ignoring cached namespace '%s' version %s because version %s is already loaded.\"\n",
      "[2025-05-03 11:08:51,624][WARNING]: Skipped checksum for file with hash: 1e82e4a5-7978-4d29-501f-af6d717ff968, and path: /stelmo/nwb/analysis/molly20220419/molly20220419_Y9LQRHTHDI.nwb\n",
      "03-May-25 11:08:51 Skipped checksum for file with hash: 1e82e4a5-7978-4d29-501f-af6d717ff968, and path: /stelmo/nwb/analysis/molly20220419/molly20220419_Y9LQRHTHDI.nwb\n",
      "[2025-05-03 11:08:51,646][WARNING]: Skipped checksum for file with hash: 1e82e4a5-7978-4d29-501f-af6d717ff968, and path: /stelmo/nwb/analysis/molly20220419/molly20220419_Y9LQRHTHDI.nwb\n",
      "03-May-25 11:08:51 Skipped checksum for file with hash: 1e82e4a5-7978-4d29-501f-af6d717ff968, and path: /stelmo/nwb/analysis/molly20220419/molly20220419_Y9LQRHTHDI.nwb\n",
      "[2025-05-03 11:08:51,652][WARNING]: Skipped checksum for file with hash: 1e82e4a5-7978-4d29-501f-af6d717ff968, and path: /stelmo/nwb/analysis/molly20220419/molly20220419_Y9LQRHTHDI.nwb\n",
      "03-May-25 11:08:51 Skipped checksum for file with hash: 1e82e4a5-7978-4d29-501f-af6d717ff968, and path: /stelmo/nwb/analysis/molly20220419/molly20220419_Y9LQRHTHDI.nwb\n",
      "/home/shijiegu/anaconda3/envs/spyglass/lib/python3.10/site-packages/hdmf/spec/namespace.py:535: UserWarning: Ignoring cached namespace 'core' version 2.6.0-alpha because version 2.7.0 is already loaded.\n",
      "  warn(\"Ignoring cached namespace '%s' version %s because version %s is already loaded.\"\n",
      "/home/shijiegu/anaconda3/envs/spyglass/lib/python3.10/site-packages/hdmf/spec/namespace.py:535: UserWarning: Ignoring cached namespace 'ndx-franklab-novela' version 0.1.0 because version 0.2.0 is already loaded.\n",
      "  warn(\"Ignoring cached namespace '%s' version %s because version %s is already loaded.\"\n",
      "/home/shijiegu/anaconda3/envs/spyglass/lib/python3.10/site-packages/hdmf/spec/namespace.py:535: UserWarning: Ignoring cached namespace 'core' version 2.6.0-alpha because version 2.7.0 is already loaded.\n",
      "  warn(\"Ignoring cached namespace '%s' version %s because version %s is already loaded.\"\n",
      "/home/shijiegu/anaconda3/envs/spyglass/lib/python3.10/site-packages/hdmf/spec/namespace.py:535: UserWarning: Ignoring cached namespace 'ndx-franklab-novela' version 0.1.0 because version 0.2.0 is already loaded.\n",
      "  warn(\"Ignoring cached namespace '%s' version %s because version %s is already loaded.\"\n",
      "/home/shijiegu/anaconda3/envs/spyglass/lib/python3.10/site-packages/spikeinterface/core/base.py:1038: UserWarning: Versions are not the same. This might lead to compatibility errors. Using spikeinterface==0.98.2 is recommended\n",
      "  warnings.warn(\n",
      "/home/shijiegu/anaconda3/envs/spyglass/lib/python3.10/site-packages/spikeinterface/core/base.py:1038: UserWarning: Versions are not the same. This might lead to compatibility errors. Using spikeinterface==0.98.2 is recommended\n",
      "  warnings.warn(\n",
      "[11:12:24][WARNING] Spyglass: Deprecation: this class has been moved out of spyglass.common.common_position\n",
      "\tTrackGraph -> spyglass.linearization.v0.main.TrackGraph\n",
      "Please use the new location.\n",
      "03-May-25 11:12:24 Deprecation: this class has been moved out of spyglass.common.common_position\n",
      "\tTrackGraph -> spyglass.linearization.v0.main.TrackGraph\n",
      "Please use the new location.\n"
     ]
    },
    {
     "name": "stdout",
     "output_type": "stream",
     "text": [
      "Done parsing. Insert into Spyglass\n",
      "epoch name 04_Seq2Session2\n",
      "epoch name 04_Seq2Session2\n",
      "epoch_pos_name pos 3 valid times\n"
     ]
    },
    {
     "name": "stderr",
     "output_type": "stream",
     "text": [
      "[2025-05-03 11:12:25,277][WARNING]: Skipped checksum for file with hash: 402b0425-0e80-c5b4-8ff4-e8db82b35604, and path: /stelmo/nwb/analysis/molly20220419_W1I7794YYM.nwb\n",
      "03-May-25 11:12:25 Skipped checksum for file with hash: 402b0425-0e80-c5b4-8ff4-e8db82b35604, and path: /stelmo/nwb/analysis/molly20220419_W1I7794YYM.nwb\n",
      "[2025-05-03 11:12:25,303][WARNING]: Skipped checksum for file with hash: 402b0425-0e80-c5b4-8ff4-e8db82b35604, and path: /stelmo/nwb/analysis/molly20220419_W1I7794YYM.nwb\n",
      "03-May-25 11:12:25 Skipped checksum for file with hash: 402b0425-0e80-c5b4-8ff4-e8db82b35604, and path: /stelmo/nwb/analysis/molly20220419_W1I7794YYM.nwb\n",
      "[2025-05-03 11:12:25,311][WARNING]: Skipped checksum for file with hash: 402b0425-0e80-c5b4-8ff4-e8db82b35604, and path: /stelmo/nwb/analysis/molly20220419_W1I7794YYM.nwb\n",
      "03-May-25 11:12:25 Skipped checksum for file with hash: 402b0425-0e80-c5b4-8ff4-e8db82b35604, and path: /stelmo/nwb/analysis/molly20220419_W1I7794YYM.nwb\n",
      "/home/shijiegu/anaconda3/envs/spyglass/lib/python3.10/site-packages/hdmf/spec/namespace.py:535: UserWarning: Ignoring cached namespace 'hdmf-common' version 1.5.1 because version 1.8.0 is already loaded.\n",
      "  warn(\"Ignoring cached namespace '%s' version %s because version %s is already loaded.\"\n",
      "/home/shijiegu/anaconda3/envs/spyglass/lib/python3.10/site-packages/hdmf/spec/namespace.py:535: UserWarning: Ignoring cached namespace 'core' version 2.4.0 because version 2.7.0 is already loaded.\n",
      "  warn(\"Ignoring cached namespace '%s' version %s because version %s is already loaded.\"\n",
      "/home/shijiegu/anaconda3/envs/spyglass/lib/python3.10/site-packages/hdmf/spec/namespace.py:535: UserWarning: Ignoring cached namespace 'hdmf-experimental' version 0.2.0 because version 0.5.0 is already loaded.\n",
      "  warn(\"Ignoring cached namespace '%s' version %s because version %s is already loaded.\"\n",
      "/home/shijiegu/anaconda3/envs/spyglass/lib/python3.10/site-packages/hdmf/spec/namespace.py:535: UserWarning: Ignoring cached namespace 'ndx-franklab-novela' version 0.1.0 because version 0.2.0 is already loaded.\n",
      "  warn(\"Ignoring cached namespace '%s' version %s because version %s is already loaded.\"\n",
      "[2025-05-03 11:12:34,631][WARNING]: Skipped checksum for file with hash: 32ba9018-3ee6-2944-8372-93bc09ac23ab, and path: /stelmo/nwb/analysis/molly20220419_NG6V8G4X1T.nwb\n",
      "03-May-25 11:12:34 Skipped checksum for file with hash: 32ba9018-3ee6-2944-8372-93bc09ac23ab, and path: /stelmo/nwb/analysis/molly20220419_NG6V8G4X1T.nwb\n",
      "[2025-05-03 11:12:34,650][WARNING]: Skipped checksum for file with hash: 2034f9b8-1296-4900-cfd4-3ce246233a04, and path: /stelmo/nwb/analysis/molly20220419/molly20220419_PL8LU6ZFNQ.nwb\n",
      "03-May-25 11:12:34 Skipped checksum for file with hash: 2034f9b8-1296-4900-cfd4-3ce246233a04, and path: /stelmo/nwb/analysis/molly20220419/molly20220419_PL8LU6ZFNQ.nwb\n",
      "[2025-05-03 11:12:34,672][WARNING]: Skipped checksum for file with hash: 32ba9018-3ee6-2944-8372-93bc09ac23ab, and path: /stelmo/nwb/analysis/molly20220419_NG6V8G4X1T.nwb\n",
      "03-May-25 11:12:34 Skipped checksum for file with hash: 32ba9018-3ee6-2944-8372-93bc09ac23ab, and path: /stelmo/nwb/analysis/molly20220419_NG6V8G4X1T.nwb\n",
      "[2025-05-03 11:12:34,679][WARNING]: Skipped checksum for file with hash: 32ba9018-3ee6-2944-8372-93bc09ac23ab, and path: /stelmo/nwb/analysis/molly20220419_NG6V8G4X1T.nwb\n",
      "03-May-25 11:12:34 Skipped checksum for file with hash: 32ba9018-3ee6-2944-8372-93bc09ac23ab, and path: /stelmo/nwb/analysis/molly20220419_NG6V8G4X1T.nwb\n",
      "[2025-05-03 11:12:34,696][WARNING]: Skipped checksum for file with hash: 2034f9b8-1296-4900-cfd4-3ce246233a04, and path: /stelmo/nwb/analysis/molly20220419/molly20220419_PL8LU6ZFNQ.nwb\n",
      "03-May-25 11:12:34 Skipped checksum for file with hash: 2034f9b8-1296-4900-cfd4-3ce246233a04, and path: /stelmo/nwb/analysis/molly20220419/molly20220419_PL8LU6ZFNQ.nwb\n",
      "[2025-05-03 11:12:34,704][WARNING]: Skipped checksum for file with hash: 2034f9b8-1296-4900-cfd4-3ce246233a04, and path: /stelmo/nwb/analysis/molly20220419/molly20220419_PL8LU6ZFNQ.nwb\n",
      "03-May-25 11:12:34 Skipped checksum for file with hash: 2034f9b8-1296-4900-cfd4-3ce246233a04, and path: /stelmo/nwb/analysis/molly20220419/molly20220419_PL8LU6ZFNQ.nwb\n",
      "/home/shijiegu/anaconda3/envs/spyglass/lib/python3.10/site-packages/hdmf/spec/namespace.py:535: UserWarning: Ignoring cached namespace 'hdmf-common' version 1.5.1 because version 1.8.0 is already loaded.\n",
      "  warn(\"Ignoring cached namespace '%s' version %s because version %s is already loaded.\"\n",
      "/home/shijiegu/anaconda3/envs/spyglass/lib/python3.10/site-packages/hdmf/spec/namespace.py:535: UserWarning: Ignoring cached namespace 'core' version 2.4.0 because version 2.7.0 is already loaded.\n",
      "  warn(\"Ignoring cached namespace '%s' version %s because version %s is already loaded.\"\n",
      "/home/shijiegu/anaconda3/envs/spyglass/lib/python3.10/site-packages/hdmf/spec/namespace.py:535: UserWarning: Ignoring cached namespace 'hdmf-experimental' version 0.2.0 because version 0.5.0 is already loaded.\n",
      "  warn(\"Ignoring cached namespace '%s' version %s because version %s is already loaded.\"\n",
      "/home/shijiegu/anaconda3/envs/spyglass/lib/python3.10/site-packages/hdmf/spec/namespace.py:535: UserWarning: Ignoring cached namespace 'ndx-franklab-novela' version 0.1.0 because version 0.2.0 is already loaded.\n",
      "  warn(\"Ignoring cached namespace '%s' version %s because version %s is already loaded.\"\n",
      "/home/shijiegu/anaconda3/envs/spyglass/lib/python3.10/site-packages/hdmf/spec/namespace.py:535: UserWarning: Ignoring cached namespace 'core' version 2.6.0-alpha because version 2.7.0 is already loaded.\n",
      "  warn(\"Ignoring cached namespace '%s' version %s because version %s is already loaded.\"\n",
      "/home/shijiegu/anaconda3/envs/spyglass/lib/python3.10/site-packages/hdmf/spec/namespace.py:535: UserWarning: Ignoring cached namespace 'ndx-franklab-novela' version 0.1.0 because version 0.2.0 is already loaded.\n",
      "  warn(\"Ignoring cached namespace '%s' version %s because version %s is already loaded.\"\n",
      "[2025-05-03 11:12:54,209][WARNING]: Skipped checksum for file with hash: db487cf4-2333-efe8-29ac-1076ba3bbf42, and path: /stelmo/nwb/analysis/molly20220419/molly20220419_DYIFV8Y8E8.nwb\n",
      "03-May-25 11:12:54 Skipped checksum for file with hash: db487cf4-2333-efe8-29ac-1076ba3bbf42, and path: /stelmo/nwb/analysis/molly20220419/molly20220419_DYIFV8Y8E8.nwb\n",
      "[2025-05-03 11:12:54,233][WARNING]: Skipped checksum for file with hash: db487cf4-2333-efe8-29ac-1076ba3bbf42, and path: /stelmo/nwb/analysis/molly20220419/molly20220419_DYIFV8Y8E8.nwb\n",
      "03-May-25 11:12:54 Skipped checksum for file with hash: db487cf4-2333-efe8-29ac-1076ba3bbf42, and path: /stelmo/nwb/analysis/molly20220419/molly20220419_DYIFV8Y8E8.nwb\n",
      "[2025-05-03 11:12:54,242][WARNING]: Skipped checksum for file with hash: db487cf4-2333-efe8-29ac-1076ba3bbf42, and path: /stelmo/nwb/analysis/molly20220419/molly20220419_DYIFV8Y8E8.nwb\n",
      "03-May-25 11:12:54 Skipped checksum for file with hash: db487cf4-2333-efe8-29ac-1076ba3bbf42, and path: /stelmo/nwb/analysis/molly20220419/molly20220419_DYIFV8Y8E8.nwb\n",
      "[2025-05-03 11:13:17,033][WARNING]: Skipped checksum for file with hash: 70237b94-31ad-51e9-6b39-5398071df565, and path: /stelmo/nwb/analysis/molly20220419/molly20220419_3E7XVFOMHS.nwb\n",
      "03-May-25 11:13:17 Skipped checksum for file with hash: 70237b94-31ad-51e9-6b39-5398071df565, and path: /stelmo/nwb/analysis/molly20220419/molly20220419_3E7XVFOMHS.nwb\n",
      "[2025-05-03 11:13:17,055][WARNING]: Skipped checksum for file with hash: 70237b94-31ad-51e9-6b39-5398071df565, and path: /stelmo/nwb/analysis/molly20220419/molly20220419_3E7XVFOMHS.nwb\n",
      "03-May-25 11:13:17 Skipped checksum for file with hash: 70237b94-31ad-51e9-6b39-5398071df565, and path: /stelmo/nwb/analysis/molly20220419/molly20220419_3E7XVFOMHS.nwb\n",
      "[2025-05-03 11:13:17,061][WARNING]: Skipped checksum for file with hash: 70237b94-31ad-51e9-6b39-5398071df565, and path: /stelmo/nwb/analysis/molly20220419/molly20220419_3E7XVFOMHS.nwb\n",
      "03-May-25 11:13:17 Skipped checksum for file with hash: 70237b94-31ad-51e9-6b39-5398071df565, and path: /stelmo/nwb/analysis/molly20220419/molly20220419_3E7XVFOMHS.nwb\n",
      "/home/shijiegu/anaconda3/envs/spyglass/lib/python3.10/site-packages/hdmf/spec/namespace.py:535: UserWarning: Ignoring cached namespace 'core' version 2.6.0-alpha because version 2.7.0 is already loaded.\n",
      "  warn(\"Ignoring cached namespace '%s' version %s because version %s is already loaded.\"\n",
      "/home/shijiegu/anaconda3/envs/spyglass/lib/python3.10/site-packages/hdmf/spec/namespace.py:535: UserWarning: Ignoring cached namespace 'ndx-franklab-novela' version 0.1.0 because version 0.2.0 is already loaded.\n",
      "  warn(\"Ignoring cached namespace '%s' version %s because version %s is already loaded.\"\n",
      "/home/shijiegu/anaconda3/envs/spyglass/lib/python3.10/site-packages/hdmf/spec/namespace.py:535: UserWarning: Ignoring cached namespace 'core' version 2.6.0-alpha because version 2.7.0 is already loaded.\n",
      "  warn(\"Ignoring cached namespace '%s' version %s because version %s is already loaded.\"\n",
      "/home/shijiegu/anaconda3/envs/spyglass/lib/python3.10/site-packages/hdmf/spec/namespace.py:535: UserWarning: Ignoring cached namespace 'ndx-franklab-novela' version 0.1.0 because version 0.2.0 is already loaded.\n",
      "  warn(\"Ignoring cached namespace '%s' version %s because version %s is already loaded.\"\n",
      "/home/shijiegu/anaconda3/envs/spyglass/lib/python3.10/site-packages/spikeinterface/core/base.py:1038: UserWarning: Versions are not the same. This might lead to compatibility errors. Using spikeinterface==0.98.2 is recommended\n",
      "  warnings.warn(\n",
      "/home/shijiegu/anaconda3/envs/spyglass/lib/python3.10/site-packages/spikeinterface/core/base.py:1038: UserWarning: Versions are not the same. This might lead to compatibility errors. Using spikeinterface==0.98.2 is recommended\n",
      "  warnings.warn(\n"
     ]
    },
    {
     "name": "stdout",
     "output_type": "stream",
     "text": [
      "Done parsing. Insert into Spyglass\n"
     ]
    },
    {
     "name": "stderr",
     "output_type": "stream",
     "text": [
      "[11:16:17][WARNING] Spyglass: Deprecation: this class has been moved out of spyglass.common.common_position\n",
      "\tTrackGraph -> spyglass.linearization.v0.main.TrackGraph\n",
      "Please use the new location.\n",
      "03-May-25 11:16:17 Deprecation: this class has been moved out of spyglass.common.common_position\n",
      "\tTrackGraph -> spyglass.linearization.v0.main.TrackGraph\n",
      "Please use the new location.\n"
     ]
    },
    {
     "name": "stdout",
     "output_type": "stream",
     "text": [
      "epoch name 06_Seq2Session3\n",
      "epoch name 06_Seq2Session3\n",
      "epoch_pos_name pos 5 valid times\n"
     ]
    },
    {
     "name": "stderr",
     "output_type": "stream",
     "text": [
      "[2025-05-03 11:16:18,207][WARNING]: Skipped checksum for file with hash: e8703a04-8754-18a0-e41c-6d63b3f62567, and path: /stelmo/nwb/analysis/molly20220419_JAAO0YQCEB.nwb\n",
      "03-May-25 11:16:18 Skipped checksum for file with hash: e8703a04-8754-18a0-e41c-6d63b3f62567, and path: /stelmo/nwb/analysis/molly20220419_JAAO0YQCEB.nwb\n",
      "[2025-05-03 11:16:18,231][WARNING]: Skipped checksum for file with hash: e8703a04-8754-18a0-e41c-6d63b3f62567, and path: /stelmo/nwb/analysis/molly20220419_JAAO0YQCEB.nwb\n",
      "03-May-25 11:16:18 Skipped checksum for file with hash: e8703a04-8754-18a0-e41c-6d63b3f62567, and path: /stelmo/nwb/analysis/molly20220419_JAAO0YQCEB.nwb\n",
      "[2025-05-03 11:16:18,239][WARNING]: Skipped checksum for file with hash: e8703a04-8754-18a0-e41c-6d63b3f62567, and path: /stelmo/nwb/analysis/molly20220419_JAAO0YQCEB.nwb\n",
      "03-May-25 11:16:18 Skipped checksum for file with hash: e8703a04-8754-18a0-e41c-6d63b3f62567, and path: /stelmo/nwb/analysis/molly20220419_JAAO0YQCEB.nwb\n",
      "/home/shijiegu/anaconda3/envs/spyglass/lib/python3.10/site-packages/hdmf/spec/namespace.py:535: UserWarning: Ignoring cached namespace 'hdmf-common' version 1.5.1 because version 1.8.0 is already loaded.\n",
      "  warn(\"Ignoring cached namespace '%s' version %s because version %s is already loaded.\"\n",
      "/home/shijiegu/anaconda3/envs/spyglass/lib/python3.10/site-packages/hdmf/spec/namespace.py:535: UserWarning: Ignoring cached namespace 'core' version 2.4.0 because version 2.7.0 is already loaded.\n",
      "  warn(\"Ignoring cached namespace '%s' version %s because version %s is already loaded.\"\n",
      "/home/shijiegu/anaconda3/envs/spyglass/lib/python3.10/site-packages/hdmf/spec/namespace.py:535: UserWarning: Ignoring cached namespace 'hdmf-experimental' version 0.2.0 because version 0.5.0 is already loaded.\n",
      "  warn(\"Ignoring cached namespace '%s' version %s because version %s is already loaded.\"\n",
      "/home/shijiegu/anaconda3/envs/spyglass/lib/python3.10/site-packages/hdmf/spec/namespace.py:535: UserWarning: Ignoring cached namespace 'ndx-franklab-novela' version 0.1.0 because version 0.2.0 is already loaded.\n",
      "  warn(\"Ignoring cached namespace '%s' version %s because version %s is already loaded.\"\n",
      "[2025-05-03 11:16:27,632][WARNING]: Skipped checksum for file with hash: 2180c03a-a8fe-a0cc-0fe3-831166145b42, and path: /stelmo/nwb/analysis/molly20220419_A3IKV5JCFG.nwb\n",
      "03-May-25 11:16:27 Skipped checksum for file with hash: 2180c03a-a8fe-a0cc-0fe3-831166145b42, and path: /stelmo/nwb/analysis/molly20220419_A3IKV5JCFG.nwb\n",
      "[2025-05-03 11:16:27,649][WARNING]: Skipped checksum for file with hash: 157e7920-776e-5730-102e-1548ec07cb65, and path: /stelmo/nwb/analysis/molly20220419/molly20220419_857VVN9Z7V.nwb\n",
      "03-May-25 11:16:27 Skipped checksum for file with hash: 157e7920-776e-5730-102e-1548ec07cb65, and path: /stelmo/nwb/analysis/molly20220419/molly20220419_857VVN9Z7V.nwb\n",
      "[2025-05-03 11:16:27,668][WARNING]: Skipped checksum for file with hash: 2180c03a-a8fe-a0cc-0fe3-831166145b42, and path: /stelmo/nwb/analysis/molly20220419_A3IKV5JCFG.nwb\n",
      "03-May-25 11:16:27 Skipped checksum for file with hash: 2180c03a-a8fe-a0cc-0fe3-831166145b42, and path: /stelmo/nwb/analysis/molly20220419_A3IKV5JCFG.nwb\n",
      "[2025-05-03 11:16:27,676][WARNING]: Skipped checksum for file with hash: 2180c03a-a8fe-a0cc-0fe3-831166145b42, and path: /stelmo/nwb/analysis/molly20220419_A3IKV5JCFG.nwb\n",
      "03-May-25 11:16:27 Skipped checksum for file with hash: 2180c03a-a8fe-a0cc-0fe3-831166145b42, and path: /stelmo/nwb/analysis/molly20220419_A3IKV5JCFG.nwb\n",
      "[2025-05-03 11:16:27,691][WARNING]: Skipped checksum for file with hash: 157e7920-776e-5730-102e-1548ec07cb65, and path: /stelmo/nwb/analysis/molly20220419/molly20220419_857VVN9Z7V.nwb\n",
      "03-May-25 11:16:27 Skipped checksum for file with hash: 157e7920-776e-5730-102e-1548ec07cb65, and path: /stelmo/nwb/analysis/molly20220419/molly20220419_857VVN9Z7V.nwb\n",
      "[2025-05-03 11:16:27,699][WARNING]: Skipped checksum for file with hash: 157e7920-776e-5730-102e-1548ec07cb65, and path: /stelmo/nwb/analysis/molly20220419/molly20220419_857VVN9Z7V.nwb\n",
      "03-May-25 11:16:27 Skipped checksum for file with hash: 157e7920-776e-5730-102e-1548ec07cb65, and path: /stelmo/nwb/analysis/molly20220419/molly20220419_857VVN9Z7V.nwb\n",
      "/home/shijiegu/anaconda3/envs/spyglass/lib/python3.10/site-packages/hdmf/spec/namespace.py:535: UserWarning: Ignoring cached namespace 'hdmf-common' version 1.5.1 because version 1.8.0 is already loaded.\n",
      "  warn(\"Ignoring cached namespace '%s' version %s because version %s is already loaded.\"\n",
      "/home/shijiegu/anaconda3/envs/spyglass/lib/python3.10/site-packages/hdmf/spec/namespace.py:535: UserWarning: Ignoring cached namespace 'core' version 2.4.0 because version 2.7.0 is already loaded.\n",
      "  warn(\"Ignoring cached namespace '%s' version %s because version %s is already loaded.\"\n",
      "/home/shijiegu/anaconda3/envs/spyglass/lib/python3.10/site-packages/hdmf/spec/namespace.py:535: UserWarning: Ignoring cached namespace 'hdmf-experimental' version 0.2.0 because version 0.5.0 is already loaded.\n",
      "  warn(\"Ignoring cached namespace '%s' version %s because version %s is already loaded.\"\n",
      "/home/shijiegu/anaconda3/envs/spyglass/lib/python3.10/site-packages/hdmf/spec/namespace.py:535: UserWarning: Ignoring cached namespace 'ndx-franklab-novela' version 0.1.0 because version 0.2.0 is already loaded.\n",
      "  warn(\"Ignoring cached namespace '%s' version %s because version %s is already loaded.\"\n",
      "/home/shijiegu/anaconda3/envs/spyglass/lib/python3.10/site-packages/hdmf/spec/namespace.py:535: UserWarning: Ignoring cached namespace 'core' version 2.6.0-alpha because version 2.7.0 is already loaded.\n",
      "  warn(\"Ignoring cached namespace '%s' version %s because version %s is already loaded.\"\n",
      "/home/shijiegu/anaconda3/envs/spyglass/lib/python3.10/site-packages/hdmf/spec/namespace.py:535: UserWarning: Ignoring cached namespace 'ndx-franklab-novela' version 0.1.0 because version 0.2.0 is already loaded.\n",
      "  warn(\"Ignoring cached namespace '%s' version %s because version %s is already loaded.\"\n",
      "[2025-05-03 11:16:47,494][WARNING]: Skipped checksum for file with hash: db487cf4-2333-efe8-29ac-1076ba3bbf42, and path: /stelmo/nwb/analysis/molly20220419/molly20220419_DYIFV8Y8E8.nwb\n",
      "03-May-25 11:16:47 Skipped checksum for file with hash: db487cf4-2333-efe8-29ac-1076ba3bbf42, and path: /stelmo/nwb/analysis/molly20220419/molly20220419_DYIFV8Y8E8.nwb\n",
      "[2025-05-03 11:16:47,515][WARNING]: Skipped checksum for file with hash: db487cf4-2333-efe8-29ac-1076ba3bbf42, and path: /stelmo/nwb/analysis/molly20220419/molly20220419_DYIFV8Y8E8.nwb\n",
      "03-May-25 11:16:47 Skipped checksum for file with hash: db487cf4-2333-efe8-29ac-1076ba3bbf42, and path: /stelmo/nwb/analysis/molly20220419/molly20220419_DYIFV8Y8E8.nwb\n",
      "[2025-05-03 11:16:47,521][WARNING]: Skipped checksum for file with hash: db487cf4-2333-efe8-29ac-1076ba3bbf42, and path: /stelmo/nwb/analysis/molly20220419/molly20220419_DYIFV8Y8E8.nwb\n",
      "03-May-25 11:16:47 Skipped checksum for file with hash: db487cf4-2333-efe8-29ac-1076ba3bbf42, and path: /stelmo/nwb/analysis/molly20220419/molly20220419_DYIFV8Y8E8.nwb\n",
      "[2025-05-03 11:17:07,233][WARNING]: Skipped checksum for file with hash: 051ecf40-2192-0f76-d8a2-cb37604cfbfd, and path: /stelmo/nwb/analysis/molly20220419/molly20220419_6EM42NZKZU.nwb\n",
      "03-May-25 11:17:07 Skipped checksum for file with hash: 051ecf40-2192-0f76-d8a2-cb37604cfbfd, and path: /stelmo/nwb/analysis/molly20220419/molly20220419_6EM42NZKZU.nwb\n",
      "[2025-05-03 11:17:07,255][WARNING]: Skipped checksum for file with hash: 051ecf40-2192-0f76-d8a2-cb37604cfbfd, and path: /stelmo/nwb/analysis/molly20220419/molly20220419_6EM42NZKZU.nwb\n",
      "03-May-25 11:17:07 Skipped checksum for file with hash: 051ecf40-2192-0f76-d8a2-cb37604cfbfd, and path: /stelmo/nwb/analysis/molly20220419/molly20220419_6EM42NZKZU.nwb\n",
      "[2025-05-03 11:17:07,261][WARNING]: Skipped checksum for file with hash: 051ecf40-2192-0f76-d8a2-cb37604cfbfd, and path: /stelmo/nwb/analysis/molly20220419/molly20220419_6EM42NZKZU.nwb\n",
      "03-May-25 11:17:07 Skipped checksum for file with hash: 051ecf40-2192-0f76-d8a2-cb37604cfbfd, and path: /stelmo/nwb/analysis/molly20220419/molly20220419_6EM42NZKZU.nwb\n",
      "/home/shijiegu/anaconda3/envs/spyglass/lib/python3.10/site-packages/hdmf/spec/namespace.py:535: UserWarning: Ignoring cached namespace 'core' version 2.6.0-alpha because version 2.7.0 is already loaded.\n",
      "  warn(\"Ignoring cached namespace '%s' version %s because version %s is already loaded.\"\n",
      "/home/shijiegu/anaconda3/envs/spyglass/lib/python3.10/site-packages/hdmf/spec/namespace.py:535: UserWarning: Ignoring cached namespace 'ndx-franklab-novela' version 0.1.0 because version 0.2.0 is already loaded.\n",
      "  warn(\"Ignoring cached namespace '%s' version %s because version %s is already loaded.\"\n",
      "/home/shijiegu/anaconda3/envs/spyglass/lib/python3.10/site-packages/hdmf/spec/namespace.py:535: UserWarning: Ignoring cached namespace 'core' version 2.6.0-alpha because version 2.7.0 is already loaded.\n",
      "  warn(\"Ignoring cached namespace '%s' version %s because version %s is already loaded.\"\n",
      "/home/shijiegu/anaconda3/envs/spyglass/lib/python3.10/site-packages/hdmf/spec/namespace.py:535: UserWarning: Ignoring cached namespace 'ndx-franklab-novela' version 0.1.0 because version 0.2.0 is already loaded.\n",
      "  warn(\"Ignoring cached namespace '%s' version %s because version %s is already loaded.\"\n",
      "/home/shijiegu/anaconda3/envs/spyglass/lib/python3.10/site-packages/spikeinterface/core/base.py:1038: UserWarning: Versions are not the same. This might lead to compatibility errors. Using spikeinterface==0.98.2 is recommended\n",
      "  warnings.warn(\n",
      "/home/shijiegu/anaconda3/envs/spyglass/lib/python3.10/site-packages/spikeinterface/core/base.py:1038: UserWarning: Versions are not the same. This might lead to compatibility errors. Using spikeinterface==0.98.2 is recommended\n",
      "  warnings.warn(\n",
      "[11:20:10][WARNING] Spyglass: Deprecation: this class has been moved out of spyglass.common.common_position\n",
      "\tTrackGraph -> spyglass.linearization.v0.main.TrackGraph\n",
      "Please use the new location.\n",
      "03-May-25 11:20:10 Deprecation: this class has been moved out of spyglass.common.common_position\n",
      "\tTrackGraph -> spyglass.linearization.v0.main.TrackGraph\n",
      "Please use the new location.\n"
     ]
    },
    {
     "name": "stdout",
     "output_type": "stream",
     "text": [
      "Done parsing. Insert into Spyglass\n",
      "epoch name 08_Seq2Session4\n",
      "epoch name 08_Seq2Session4\n",
      "epoch_pos_name pos 7 valid times\n"
     ]
    },
    {
     "name": "stderr",
     "output_type": "stream",
     "text": [
      "[2025-05-03 11:20:11,249][WARNING]: Skipped checksum for file with hash: e6c163b2-0238-9921-b4b5-5ad35a0b20eb, and path: /stelmo/nwb/analysis/molly20220419_12BQZSDIB3.nwb\n",
      "03-May-25 11:20:11 Skipped checksum for file with hash: e6c163b2-0238-9921-b4b5-5ad35a0b20eb, and path: /stelmo/nwb/analysis/molly20220419_12BQZSDIB3.nwb\n",
      "[2025-05-03 11:20:11,275][WARNING]: Skipped checksum for file with hash: e6c163b2-0238-9921-b4b5-5ad35a0b20eb, and path: /stelmo/nwb/analysis/molly20220419_12BQZSDIB3.nwb\n",
      "03-May-25 11:20:11 Skipped checksum for file with hash: e6c163b2-0238-9921-b4b5-5ad35a0b20eb, and path: /stelmo/nwb/analysis/molly20220419_12BQZSDIB3.nwb\n",
      "[2025-05-03 11:20:11,283][WARNING]: Skipped checksum for file with hash: e6c163b2-0238-9921-b4b5-5ad35a0b20eb, and path: /stelmo/nwb/analysis/molly20220419_12BQZSDIB3.nwb\n",
      "03-May-25 11:20:11 Skipped checksum for file with hash: e6c163b2-0238-9921-b4b5-5ad35a0b20eb, and path: /stelmo/nwb/analysis/molly20220419_12BQZSDIB3.nwb\n",
      "/home/shijiegu/anaconda3/envs/spyglass/lib/python3.10/site-packages/hdmf/spec/namespace.py:535: UserWarning: Ignoring cached namespace 'hdmf-common' version 1.5.1 because version 1.8.0 is already loaded.\n",
      "  warn(\"Ignoring cached namespace '%s' version %s because version %s is already loaded.\"\n",
      "/home/shijiegu/anaconda3/envs/spyglass/lib/python3.10/site-packages/hdmf/spec/namespace.py:535: UserWarning: Ignoring cached namespace 'core' version 2.4.0 because version 2.7.0 is already loaded.\n",
      "  warn(\"Ignoring cached namespace '%s' version %s because version %s is already loaded.\"\n",
      "/home/shijiegu/anaconda3/envs/spyglass/lib/python3.10/site-packages/hdmf/spec/namespace.py:535: UserWarning: Ignoring cached namespace 'hdmf-experimental' version 0.2.0 because version 0.5.0 is already loaded.\n",
      "  warn(\"Ignoring cached namespace '%s' version %s because version %s is already loaded.\"\n",
      "/home/shijiegu/anaconda3/envs/spyglass/lib/python3.10/site-packages/hdmf/spec/namespace.py:535: UserWarning: Ignoring cached namespace 'ndx-franklab-novela' version 0.1.0 because version 0.2.0 is already loaded.\n",
      "  warn(\"Ignoring cached namespace '%s' version %s because version %s is already loaded.\"\n",
      "[2025-05-03 11:20:20,978][WARNING]: Skipped checksum for file with hash: d18a58b2-5f9a-41d6-356e-60c7e85f8865, and path: /stelmo/nwb/analysis/molly20220419_M0XWSHVQ5H.nwb\n",
      "03-May-25 11:20:20 Skipped checksum for file with hash: d18a58b2-5f9a-41d6-356e-60c7e85f8865, and path: /stelmo/nwb/analysis/molly20220419_M0XWSHVQ5H.nwb\n",
      "[2025-05-03 11:20:20,997][WARNING]: Skipped checksum for file with hash: 4a159538-a2e6-d59f-694f-d745a1285337, and path: /stelmo/nwb/analysis/molly20220419/molly20220419_3JEPJIUWY2.nwb\n",
      "03-May-25 11:20:20 Skipped checksum for file with hash: 4a159538-a2e6-d59f-694f-d745a1285337, and path: /stelmo/nwb/analysis/molly20220419/molly20220419_3JEPJIUWY2.nwb\n",
      "[2025-05-03 11:20:21,019][WARNING]: Skipped checksum for file with hash: d18a58b2-5f9a-41d6-356e-60c7e85f8865, and path: /stelmo/nwb/analysis/molly20220419_M0XWSHVQ5H.nwb\n",
      "03-May-25 11:20:21 Skipped checksum for file with hash: d18a58b2-5f9a-41d6-356e-60c7e85f8865, and path: /stelmo/nwb/analysis/molly20220419_M0XWSHVQ5H.nwb\n",
      "[2025-05-03 11:20:21,025][WARNING]: Skipped checksum for file with hash: d18a58b2-5f9a-41d6-356e-60c7e85f8865, and path: /stelmo/nwb/analysis/molly20220419_M0XWSHVQ5H.nwb\n",
      "03-May-25 11:20:21 Skipped checksum for file with hash: d18a58b2-5f9a-41d6-356e-60c7e85f8865, and path: /stelmo/nwb/analysis/molly20220419_M0XWSHVQ5H.nwb\n",
      "[2025-05-03 11:20:21,040][WARNING]: Skipped checksum for file with hash: 4a159538-a2e6-d59f-694f-d745a1285337, and path: /stelmo/nwb/analysis/molly20220419/molly20220419_3JEPJIUWY2.nwb\n",
      "03-May-25 11:20:21 Skipped checksum for file with hash: 4a159538-a2e6-d59f-694f-d745a1285337, and path: /stelmo/nwb/analysis/molly20220419/molly20220419_3JEPJIUWY2.nwb\n",
      "[2025-05-03 11:20:21,048][WARNING]: Skipped checksum for file with hash: 4a159538-a2e6-d59f-694f-d745a1285337, and path: /stelmo/nwb/analysis/molly20220419/molly20220419_3JEPJIUWY2.nwb\n",
      "03-May-25 11:20:21 Skipped checksum for file with hash: 4a159538-a2e6-d59f-694f-d745a1285337, and path: /stelmo/nwb/analysis/molly20220419/molly20220419_3JEPJIUWY2.nwb\n",
      "/home/shijiegu/anaconda3/envs/spyglass/lib/python3.10/site-packages/hdmf/spec/namespace.py:535: UserWarning: Ignoring cached namespace 'hdmf-common' version 1.5.1 because version 1.8.0 is already loaded.\n",
      "  warn(\"Ignoring cached namespace '%s' version %s because version %s is already loaded.\"\n",
      "/home/shijiegu/anaconda3/envs/spyglass/lib/python3.10/site-packages/hdmf/spec/namespace.py:535: UserWarning: Ignoring cached namespace 'core' version 2.4.0 because version 2.7.0 is already loaded.\n",
      "  warn(\"Ignoring cached namespace '%s' version %s because version %s is already loaded.\"\n",
      "/home/shijiegu/anaconda3/envs/spyglass/lib/python3.10/site-packages/hdmf/spec/namespace.py:535: UserWarning: Ignoring cached namespace 'hdmf-experimental' version 0.2.0 because version 0.5.0 is already loaded.\n",
      "  warn(\"Ignoring cached namespace '%s' version %s because version %s is already loaded.\"\n",
      "/home/shijiegu/anaconda3/envs/spyglass/lib/python3.10/site-packages/hdmf/spec/namespace.py:535: UserWarning: Ignoring cached namespace 'ndx-franklab-novela' version 0.1.0 because version 0.2.0 is already loaded.\n",
      "  warn(\"Ignoring cached namespace '%s' version %s because version %s is already loaded.\"\n",
      "/home/shijiegu/anaconda3/envs/spyglass/lib/python3.10/site-packages/hdmf/spec/namespace.py:535: UserWarning: Ignoring cached namespace 'core' version 2.6.0-alpha because version 2.7.0 is already loaded.\n",
      "  warn(\"Ignoring cached namespace '%s' version %s because version %s is already loaded.\"\n",
      "/home/shijiegu/anaconda3/envs/spyglass/lib/python3.10/site-packages/hdmf/spec/namespace.py:535: UserWarning: Ignoring cached namespace 'ndx-franklab-novela' version 0.1.0 because version 0.2.0 is already loaded.\n",
      "  warn(\"Ignoring cached namespace '%s' version %s because version %s is already loaded.\"\n",
      "[2025-05-03 11:20:40,482][WARNING]: Skipped checksum for file with hash: db487cf4-2333-efe8-29ac-1076ba3bbf42, and path: /stelmo/nwb/analysis/molly20220419/molly20220419_DYIFV8Y8E8.nwb\n",
      "03-May-25 11:20:40 Skipped checksum for file with hash: db487cf4-2333-efe8-29ac-1076ba3bbf42, and path: /stelmo/nwb/analysis/molly20220419/molly20220419_DYIFV8Y8E8.nwb\n",
      "[2025-05-03 11:20:40,504][WARNING]: Skipped checksum for file with hash: db487cf4-2333-efe8-29ac-1076ba3bbf42, and path: /stelmo/nwb/analysis/molly20220419/molly20220419_DYIFV8Y8E8.nwb\n",
      "03-May-25 11:20:40 Skipped checksum for file with hash: db487cf4-2333-efe8-29ac-1076ba3bbf42, and path: /stelmo/nwb/analysis/molly20220419/molly20220419_DYIFV8Y8E8.nwb\n",
      "[2025-05-03 11:20:40,511][WARNING]: Skipped checksum for file with hash: db487cf4-2333-efe8-29ac-1076ba3bbf42, and path: /stelmo/nwb/analysis/molly20220419/molly20220419_DYIFV8Y8E8.nwb\n",
      "03-May-25 11:20:40 Skipped checksum for file with hash: db487cf4-2333-efe8-29ac-1076ba3bbf42, and path: /stelmo/nwb/analysis/molly20220419/molly20220419_DYIFV8Y8E8.nwb\n",
      "[2025-05-03 11:20:59,828][WARNING]: Skipped checksum for file with hash: 8eafc0a3-9eac-4680-edb6-a1a573fa79d2, and path: /stelmo/nwb/analysis/molly20220419/molly20220419_ZELVGO3XVJ.nwb\n",
      "03-May-25 11:20:59 Skipped checksum for file with hash: 8eafc0a3-9eac-4680-edb6-a1a573fa79d2, and path: /stelmo/nwb/analysis/molly20220419/molly20220419_ZELVGO3XVJ.nwb\n",
      "[2025-05-03 11:20:59,852][WARNING]: Skipped checksum for file with hash: 8eafc0a3-9eac-4680-edb6-a1a573fa79d2, and path: /stelmo/nwb/analysis/molly20220419/molly20220419_ZELVGO3XVJ.nwb\n",
      "03-May-25 11:20:59 Skipped checksum for file with hash: 8eafc0a3-9eac-4680-edb6-a1a573fa79d2, and path: /stelmo/nwb/analysis/molly20220419/molly20220419_ZELVGO3XVJ.nwb\n",
      "[2025-05-03 11:20:59,859][WARNING]: Skipped checksum for file with hash: 8eafc0a3-9eac-4680-edb6-a1a573fa79d2, and path: /stelmo/nwb/analysis/molly20220419/molly20220419_ZELVGO3XVJ.nwb\n",
      "03-May-25 11:20:59 Skipped checksum for file with hash: 8eafc0a3-9eac-4680-edb6-a1a573fa79d2, and path: /stelmo/nwb/analysis/molly20220419/molly20220419_ZELVGO3XVJ.nwb\n",
      "/home/shijiegu/anaconda3/envs/spyglass/lib/python3.10/site-packages/hdmf/spec/namespace.py:535: UserWarning: Ignoring cached namespace 'core' version 2.6.0-alpha because version 2.7.0 is already loaded.\n",
      "  warn(\"Ignoring cached namespace '%s' version %s because version %s is already loaded.\"\n",
      "/home/shijiegu/anaconda3/envs/spyglass/lib/python3.10/site-packages/hdmf/spec/namespace.py:535: UserWarning: Ignoring cached namespace 'ndx-franklab-novela' version 0.1.0 because version 0.2.0 is already loaded.\n",
      "  warn(\"Ignoring cached namespace '%s' version %s because version %s is already loaded.\"\n",
      "/home/shijiegu/anaconda3/envs/spyglass/lib/python3.10/site-packages/hdmf/spec/namespace.py:535: UserWarning: Ignoring cached namespace 'core' version 2.6.0-alpha because version 2.7.0 is already loaded.\n",
      "  warn(\"Ignoring cached namespace '%s' version %s because version %s is already loaded.\"\n",
      "/home/shijiegu/anaconda3/envs/spyglass/lib/python3.10/site-packages/hdmf/spec/namespace.py:535: UserWarning: Ignoring cached namespace 'ndx-franklab-novela' version 0.1.0 because version 0.2.0 is already loaded.\n",
      "  warn(\"Ignoring cached namespace '%s' version %s because version %s is already loaded.\"\n",
      "/home/shijiegu/anaconda3/envs/spyglass/lib/python3.10/site-packages/spikeinterface/core/base.py:1038: UserWarning: Versions are not the same. This might lead to compatibility errors. Using spikeinterface==0.98.2 is recommended\n",
      "  warnings.warn(\n",
      "/home/shijiegu/anaconda3/envs/spyglass/lib/python3.10/site-packages/spikeinterface/core/base.py:1038: UserWarning: Versions are not the same. This might lead to compatibility errors. Using spikeinterface==0.98.2 is recommended\n",
      "  warnings.warn(\n"
     ]
    },
    {
     "name": "stdout",
     "output_type": "stream",
     "text": [
      "Done parsing. Insert into Spyglass\n"
     ]
    },
    {
     "name": "stderr",
     "output_type": "stream",
     "text": [
      "[11:24:15][WARNING] Spyglass: Deprecation: this class has been moved out of spyglass.common.common_position\n",
      "\tTrackGraph -> spyglass.linearization.v0.main.TrackGraph\n",
      "Please use the new location.\n",
      "03-May-25 11:24:15 Deprecation: this class has been moved out of spyglass.common.common_position\n",
      "\tTrackGraph -> spyglass.linearization.v0.main.TrackGraph\n",
      "Please use the new location.\n"
     ]
    },
    {
     "name": "stdout",
     "output_type": "stream",
     "text": [
      "epoch name 10_Seq2Session5\n",
      "epoch name 10_Seq2Session5\n",
      "epoch_pos_name pos 9 valid times\n"
     ]
    },
    {
     "name": "stderr",
     "output_type": "stream",
     "text": [
      "[2025-05-03 11:24:16,434][WARNING]: Skipped checksum for file with hash: f257f7af-d2a8-2956-1e50-9163e9f2bcde, and path: /stelmo/nwb/analysis/molly20220419_PSK4HHLWT5.nwb\n",
      "03-May-25 11:24:16 Skipped checksum for file with hash: f257f7af-d2a8-2956-1e50-9163e9f2bcde, and path: /stelmo/nwb/analysis/molly20220419_PSK4HHLWT5.nwb\n",
      "[2025-05-03 11:24:16,462][WARNING]: Skipped checksum for file with hash: f257f7af-d2a8-2956-1e50-9163e9f2bcde, and path: /stelmo/nwb/analysis/molly20220419_PSK4HHLWT5.nwb\n",
      "03-May-25 11:24:16 Skipped checksum for file with hash: f257f7af-d2a8-2956-1e50-9163e9f2bcde, and path: /stelmo/nwb/analysis/molly20220419_PSK4HHLWT5.nwb\n",
      "[2025-05-03 11:24:16,470][WARNING]: Skipped checksum for file with hash: f257f7af-d2a8-2956-1e50-9163e9f2bcde, and path: /stelmo/nwb/analysis/molly20220419_PSK4HHLWT5.nwb\n",
      "03-May-25 11:24:16 Skipped checksum for file with hash: f257f7af-d2a8-2956-1e50-9163e9f2bcde, and path: /stelmo/nwb/analysis/molly20220419_PSK4HHLWT5.nwb\n",
      "/home/shijiegu/anaconda3/envs/spyglass/lib/python3.10/site-packages/hdmf/spec/namespace.py:535: UserWarning: Ignoring cached namespace 'hdmf-common' version 1.5.1 because version 1.8.0 is already loaded.\n",
      "  warn(\"Ignoring cached namespace '%s' version %s because version %s is already loaded.\"\n",
      "/home/shijiegu/anaconda3/envs/spyglass/lib/python3.10/site-packages/hdmf/spec/namespace.py:535: UserWarning: Ignoring cached namespace 'core' version 2.4.0 because version 2.7.0 is already loaded.\n",
      "  warn(\"Ignoring cached namespace '%s' version %s because version %s is already loaded.\"\n",
      "/home/shijiegu/anaconda3/envs/spyglass/lib/python3.10/site-packages/hdmf/spec/namespace.py:535: UserWarning: Ignoring cached namespace 'hdmf-experimental' version 0.2.0 because version 0.5.0 is already loaded.\n",
      "  warn(\"Ignoring cached namespace '%s' version %s because version %s is already loaded.\"\n",
      "/home/shijiegu/anaconda3/envs/spyglass/lib/python3.10/site-packages/hdmf/spec/namespace.py:535: UserWarning: Ignoring cached namespace 'ndx-franklab-novela' version 0.1.0 because version 0.2.0 is already loaded.\n",
      "  warn(\"Ignoring cached namespace '%s' version %s because version %s is already loaded.\"\n",
      "[2025-05-03 11:24:26,104][WARNING]: Skipped checksum for file with hash: 726a4f85-74d4-fd1c-cc1f-57a47c6a2cda, and path: /stelmo/nwb/analysis/molly20220419_G4F9F30K9Q.nwb\n",
      "03-May-25 11:24:26 Skipped checksum for file with hash: 726a4f85-74d4-fd1c-cc1f-57a47c6a2cda, and path: /stelmo/nwb/analysis/molly20220419_G4F9F30K9Q.nwb\n",
      "[2025-05-03 11:24:26,119][WARNING]: Skipped checksum for file with hash: c175450c-c06b-d6ad-f419-f1eac2c6979a, and path: /stelmo/nwb/analysis/molly20220419/molly20220419_05M3FFNV9W.nwb\n",
      "03-May-25 11:24:26 Skipped checksum for file with hash: c175450c-c06b-d6ad-f419-f1eac2c6979a, and path: /stelmo/nwb/analysis/molly20220419/molly20220419_05M3FFNV9W.nwb\n",
      "[2025-05-03 11:24:26,139][WARNING]: Skipped checksum for file with hash: 726a4f85-74d4-fd1c-cc1f-57a47c6a2cda, and path: /stelmo/nwb/analysis/molly20220419_G4F9F30K9Q.nwb\n",
      "03-May-25 11:24:26 Skipped checksum for file with hash: 726a4f85-74d4-fd1c-cc1f-57a47c6a2cda, and path: /stelmo/nwb/analysis/molly20220419_G4F9F30K9Q.nwb\n",
      "[2025-05-03 11:24:26,146][WARNING]: Skipped checksum for file with hash: 726a4f85-74d4-fd1c-cc1f-57a47c6a2cda, and path: /stelmo/nwb/analysis/molly20220419_G4F9F30K9Q.nwb\n",
      "03-May-25 11:24:26 Skipped checksum for file with hash: 726a4f85-74d4-fd1c-cc1f-57a47c6a2cda, and path: /stelmo/nwb/analysis/molly20220419_G4F9F30K9Q.nwb\n",
      "[2025-05-03 11:24:26,161][WARNING]: Skipped checksum for file with hash: c175450c-c06b-d6ad-f419-f1eac2c6979a, and path: /stelmo/nwb/analysis/molly20220419/molly20220419_05M3FFNV9W.nwb\n",
      "03-May-25 11:24:26 Skipped checksum for file with hash: c175450c-c06b-d6ad-f419-f1eac2c6979a, and path: /stelmo/nwb/analysis/molly20220419/molly20220419_05M3FFNV9W.nwb\n",
      "[2025-05-03 11:24:26,170][WARNING]: Skipped checksum for file with hash: c175450c-c06b-d6ad-f419-f1eac2c6979a, and path: /stelmo/nwb/analysis/molly20220419/molly20220419_05M3FFNV9W.nwb\n",
      "03-May-25 11:24:26 Skipped checksum for file with hash: c175450c-c06b-d6ad-f419-f1eac2c6979a, and path: /stelmo/nwb/analysis/molly20220419/molly20220419_05M3FFNV9W.nwb\n",
      "/home/shijiegu/anaconda3/envs/spyglass/lib/python3.10/site-packages/hdmf/spec/namespace.py:535: UserWarning: Ignoring cached namespace 'hdmf-common' version 1.5.1 because version 1.8.0 is already loaded.\n",
      "  warn(\"Ignoring cached namespace '%s' version %s because version %s is already loaded.\"\n",
      "/home/shijiegu/anaconda3/envs/spyglass/lib/python3.10/site-packages/hdmf/spec/namespace.py:535: UserWarning: Ignoring cached namespace 'core' version 2.4.0 because version 2.7.0 is already loaded.\n",
      "  warn(\"Ignoring cached namespace '%s' version %s because version %s is already loaded.\"\n",
      "/home/shijiegu/anaconda3/envs/spyglass/lib/python3.10/site-packages/hdmf/spec/namespace.py:535: UserWarning: Ignoring cached namespace 'hdmf-experimental' version 0.2.0 because version 0.5.0 is already loaded.\n",
      "  warn(\"Ignoring cached namespace '%s' version %s because version %s is already loaded.\"\n",
      "/home/shijiegu/anaconda3/envs/spyglass/lib/python3.10/site-packages/hdmf/spec/namespace.py:535: UserWarning: Ignoring cached namespace 'ndx-franklab-novela' version 0.1.0 because version 0.2.0 is already loaded.\n",
      "  warn(\"Ignoring cached namespace '%s' version %s because version %s is already loaded.\"\n",
      "/home/shijiegu/anaconda3/envs/spyglass/lib/python3.10/site-packages/hdmf/spec/namespace.py:535: UserWarning: Ignoring cached namespace 'core' version 2.6.0-alpha because version 2.7.0 is already loaded.\n",
      "  warn(\"Ignoring cached namespace '%s' version %s because version %s is already loaded.\"\n",
      "/home/shijiegu/anaconda3/envs/spyglass/lib/python3.10/site-packages/hdmf/spec/namespace.py:535: UserWarning: Ignoring cached namespace 'ndx-franklab-novela' version 0.1.0 because version 0.2.0 is already loaded.\n",
      "  warn(\"Ignoring cached namespace '%s' version %s because version %s is already loaded.\"\n",
      "[2025-05-03 11:24:45,379][WARNING]: Skipped checksum for file with hash: db487cf4-2333-efe8-29ac-1076ba3bbf42, and path: /stelmo/nwb/analysis/molly20220419/molly20220419_DYIFV8Y8E8.nwb\n",
      "03-May-25 11:24:45 Skipped checksum for file with hash: db487cf4-2333-efe8-29ac-1076ba3bbf42, and path: /stelmo/nwb/analysis/molly20220419/molly20220419_DYIFV8Y8E8.nwb\n",
      "[2025-05-03 11:24:45,406][WARNING]: Skipped checksum for file with hash: db487cf4-2333-efe8-29ac-1076ba3bbf42, and path: /stelmo/nwb/analysis/molly20220419/molly20220419_DYIFV8Y8E8.nwb\n",
      "03-May-25 11:24:45 Skipped checksum for file with hash: db487cf4-2333-efe8-29ac-1076ba3bbf42, and path: /stelmo/nwb/analysis/molly20220419/molly20220419_DYIFV8Y8E8.nwb\n",
      "[2025-05-03 11:24:45,414][WARNING]: Skipped checksum for file with hash: db487cf4-2333-efe8-29ac-1076ba3bbf42, and path: /stelmo/nwb/analysis/molly20220419/molly20220419_DYIFV8Y8E8.nwb\n",
      "03-May-25 11:24:45 Skipped checksum for file with hash: db487cf4-2333-efe8-29ac-1076ba3bbf42, and path: /stelmo/nwb/analysis/molly20220419/molly20220419_DYIFV8Y8E8.nwb\n",
      "[2025-05-03 11:25:04,096][WARNING]: Skipped checksum for file with hash: fafb5a6b-6d8d-e5be-a97c-5791e2753866, and path: /stelmo/nwb/analysis/molly20220419/molly20220419_Q72VIOQ141.nwb\n",
      "03-May-25 11:25:04 Skipped checksum for file with hash: fafb5a6b-6d8d-e5be-a97c-5791e2753866, and path: /stelmo/nwb/analysis/molly20220419/molly20220419_Q72VIOQ141.nwb\n",
      "[2025-05-03 11:25:04,116][WARNING]: Skipped checksum for file with hash: fafb5a6b-6d8d-e5be-a97c-5791e2753866, and path: /stelmo/nwb/analysis/molly20220419/molly20220419_Q72VIOQ141.nwb\n",
      "03-May-25 11:25:04 Skipped checksum for file with hash: fafb5a6b-6d8d-e5be-a97c-5791e2753866, and path: /stelmo/nwb/analysis/molly20220419/molly20220419_Q72VIOQ141.nwb\n",
      "[2025-05-03 11:25:04,122][WARNING]: Skipped checksum for file with hash: fafb5a6b-6d8d-e5be-a97c-5791e2753866, and path: /stelmo/nwb/analysis/molly20220419/molly20220419_Q72VIOQ141.nwb\n",
      "03-May-25 11:25:04 Skipped checksum for file with hash: fafb5a6b-6d8d-e5be-a97c-5791e2753866, and path: /stelmo/nwb/analysis/molly20220419/molly20220419_Q72VIOQ141.nwb\n",
      "/home/shijiegu/anaconda3/envs/spyglass/lib/python3.10/site-packages/hdmf/spec/namespace.py:535: UserWarning: Ignoring cached namespace 'core' version 2.6.0-alpha because version 2.7.0 is already loaded.\n",
      "  warn(\"Ignoring cached namespace '%s' version %s because version %s is already loaded.\"\n",
      "/home/shijiegu/anaconda3/envs/spyglass/lib/python3.10/site-packages/hdmf/spec/namespace.py:535: UserWarning: Ignoring cached namespace 'ndx-franklab-novela' version 0.1.0 because version 0.2.0 is already loaded.\n",
      "  warn(\"Ignoring cached namespace '%s' version %s because version %s is already loaded.\"\n",
      "/home/shijiegu/anaconda3/envs/spyglass/lib/python3.10/site-packages/hdmf/spec/namespace.py:535: UserWarning: Ignoring cached namespace 'core' version 2.6.0-alpha because version 2.7.0 is already loaded.\n",
      "  warn(\"Ignoring cached namespace '%s' version %s because version %s is already loaded.\"\n",
      "/home/shijiegu/anaconda3/envs/spyglass/lib/python3.10/site-packages/hdmf/spec/namespace.py:535: UserWarning: Ignoring cached namespace 'ndx-franklab-novela' version 0.1.0 because version 0.2.0 is already loaded.\n",
      "  warn(\"Ignoring cached namespace '%s' version %s because version %s is already loaded.\"\n",
      "/home/shijiegu/anaconda3/envs/spyglass/lib/python3.10/site-packages/spikeinterface/core/base.py:1038: UserWarning: Versions are not the same. This might lead to compatibility errors. Using spikeinterface==0.98.2 is recommended\n",
      "  warnings.warn(\n",
      "/home/shijiegu/anaconda3/envs/spyglass/lib/python3.10/site-packages/spikeinterface/core/base.py:1038: UserWarning: Versions are not the same. This might lead to compatibility errors. Using spikeinterface==0.98.2 is recommended\n",
      "  warnings.warn(\n",
      "[11:28:42][WARNING] Spyglass: Deprecation: this class has been moved out of spyglass.common.common_position\n",
      "\tTrackGraph -> spyglass.linearization.v0.main.TrackGraph\n",
      "Please use the new location.\n",
      "03-May-25 11:28:42 Deprecation: this class has been moved out of spyglass.common.common_position\n",
      "\tTrackGraph -> spyglass.linearization.v0.main.TrackGraph\n",
      "Please use the new location.\n"
     ]
    },
    {
     "name": "stdout",
     "output_type": "stream",
     "text": [
      "Done parsing. Insert into Spyglass\n",
      "epoch name 02_Seq2Session1\n",
      "epoch name 02_Seq2Session1\n",
      "epoch_pos_name pos 1 valid times\n"
     ]
    },
    {
     "name": "stderr",
     "output_type": "stream",
     "text": [
      "[2025-05-03 11:28:42,817][WARNING]: Skipped checksum for file with hash: 6fe48122-36c3-b427-2bae-e41e307d8c8c, and path: /stelmo/nwb/analysis/molly20220420_S9TYCXVS11.nwb\n",
      "03-May-25 11:28:42 Skipped checksum for file with hash: 6fe48122-36c3-b427-2bae-e41e307d8c8c, and path: /stelmo/nwb/analysis/molly20220420_S9TYCXVS11.nwb\n",
      "[2025-05-03 11:28:42,842][WARNING]: Skipped checksum for file with hash: 6fe48122-36c3-b427-2bae-e41e307d8c8c, and path: /stelmo/nwb/analysis/molly20220420_S9TYCXVS11.nwb\n",
      "03-May-25 11:28:42 Skipped checksum for file with hash: 6fe48122-36c3-b427-2bae-e41e307d8c8c, and path: /stelmo/nwb/analysis/molly20220420_S9TYCXVS11.nwb\n",
      "[2025-05-03 11:28:42,850][WARNING]: Skipped checksum for file with hash: 6fe48122-36c3-b427-2bae-e41e307d8c8c, and path: /stelmo/nwb/analysis/molly20220420_S9TYCXVS11.nwb\n",
      "03-May-25 11:28:42 Skipped checksum for file with hash: 6fe48122-36c3-b427-2bae-e41e307d8c8c, and path: /stelmo/nwb/analysis/molly20220420_S9TYCXVS11.nwb\n",
      "/home/shijiegu/anaconda3/envs/spyglass/lib/python3.10/site-packages/hdmf/spec/namespace.py:535: UserWarning: Ignoring cached namespace 'hdmf-common' version 1.5.1 because version 1.8.0 is already loaded.\n",
      "  warn(\"Ignoring cached namespace '%s' version %s because version %s is already loaded.\"\n",
      "/home/shijiegu/anaconda3/envs/spyglass/lib/python3.10/site-packages/hdmf/spec/namespace.py:535: UserWarning: Ignoring cached namespace 'core' version 2.4.0 because version 2.7.0 is already loaded.\n",
      "  warn(\"Ignoring cached namespace '%s' version %s because version %s is already loaded.\"\n",
      "/home/shijiegu/anaconda3/envs/spyglass/lib/python3.10/site-packages/hdmf/spec/namespace.py:535: UserWarning: Ignoring cached namespace 'hdmf-experimental' version 0.2.0 because version 0.5.0 is already loaded.\n",
      "  warn(\"Ignoring cached namespace '%s' version %s because version %s is already loaded.\"\n",
      "/home/shijiegu/anaconda3/envs/spyglass/lib/python3.10/site-packages/hdmf/spec/namespace.py:535: UserWarning: Ignoring cached namespace 'ndx-franklab-novela' version 0.1.0 because version 0.2.0 is already loaded.\n",
      "  warn(\"Ignoring cached namespace '%s' version %s because version %s is already loaded.\"\n",
      "[2025-05-03 11:28:52,057][WARNING]: Skipped checksum for file with hash: 1cc6a492-1f48-7cb9-b0ad-2668d2637447, and path: /stelmo/nwb/analysis/molly20220420_GYJAD366RB.nwb\n",
      "03-May-25 11:28:52 Skipped checksum for file with hash: 1cc6a492-1f48-7cb9-b0ad-2668d2637447, and path: /stelmo/nwb/analysis/molly20220420_GYJAD366RB.nwb\n",
      "[2025-05-03 11:28:52,075][WARNING]: Skipped checksum for file with hash: f4864d29-918e-7b40-d7fd-7fbb9a918bf9, and path: /stelmo/nwb/analysis/molly20220420/molly20220420_MSFZS8J2EY.nwb\n",
      "03-May-25 11:28:52 Skipped checksum for file with hash: f4864d29-918e-7b40-d7fd-7fbb9a918bf9, and path: /stelmo/nwb/analysis/molly20220420/molly20220420_MSFZS8J2EY.nwb\n",
      "[2025-05-03 11:28:52,095][WARNING]: Skipped checksum for file with hash: 1cc6a492-1f48-7cb9-b0ad-2668d2637447, and path: /stelmo/nwb/analysis/molly20220420_GYJAD366RB.nwb\n",
      "03-May-25 11:28:52 Skipped checksum for file with hash: 1cc6a492-1f48-7cb9-b0ad-2668d2637447, and path: /stelmo/nwb/analysis/molly20220420_GYJAD366RB.nwb\n",
      "[2025-05-03 11:28:52,101][WARNING]: Skipped checksum for file with hash: 1cc6a492-1f48-7cb9-b0ad-2668d2637447, and path: /stelmo/nwb/analysis/molly20220420_GYJAD366RB.nwb\n",
      "03-May-25 11:28:52 Skipped checksum for file with hash: 1cc6a492-1f48-7cb9-b0ad-2668d2637447, and path: /stelmo/nwb/analysis/molly20220420_GYJAD366RB.nwb\n",
      "[2025-05-03 11:28:52,116][WARNING]: Skipped checksum for file with hash: f4864d29-918e-7b40-d7fd-7fbb9a918bf9, and path: /stelmo/nwb/analysis/molly20220420/molly20220420_MSFZS8J2EY.nwb\n",
      "03-May-25 11:28:52 Skipped checksum for file with hash: f4864d29-918e-7b40-d7fd-7fbb9a918bf9, and path: /stelmo/nwb/analysis/molly20220420/molly20220420_MSFZS8J2EY.nwb\n",
      "[2025-05-03 11:28:52,124][WARNING]: Skipped checksum for file with hash: f4864d29-918e-7b40-d7fd-7fbb9a918bf9, and path: /stelmo/nwb/analysis/molly20220420/molly20220420_MSFZS8J2EY.nwb\n",
      "03-May-25 11:28:52 Skipped checksum for file with hash: f4864d29-918e-7b40-d7fd-7fbb9a918bf9, and path: /stelmo/nwb/analysis/molly20220420/molly20220420_MSFZS8J2EY.nwb\n",
      "/home/shijiegu/anaconda3/envs/spyglass/lib/python3.10/site-packages/hdmf/spec/namespace.py:535: UserWarning: Ignoring cached namespace 'hdmf-common' version 1.5.1 because version 1.8.0 is already loaded.\n",
      "  warn(\"Ignoring cached namespace '%s' version %s because version %s is already loaded.\"\n",
      "/home/shijiegu/anaconda3/envs/spyglass/lib/python3.10/site-packages/hdmf/spec/namespace.py:535: UserWarning: Ignoring cached namespace 'core' version 2.4.0 because version 2.7.0 is already loaded.\n",
      "  warn(\"Ignoring cached namespace '%s' version %s because version %s is already loaded.\"\n",
      "/home/shijiegu/anaconda3/envs/spyglass/lib/python3.10/site-packages/hdmf/spec/namespace.py:535: UserWarning: Ignoring cached namespace 'hdmf-experimental' version 0.2.0 because version 0.5.0 is already loaded.\n",
      "  warn(\"Ignoring cached namespace '%s' version %s because version %s is already loaded.\"\n",
      "/home/shijiegu/anaconda3/envs/spyglass/lib/python3.10/site-packages/hdmf/spec/namespace.py:535: UserWarning: Ignoring cached namespace 'ndx-franklab-novela' version 0.1.0 because version 0.2.0 is already loaded.\n",
      "  warn(\"Ignoring cached namespace '%s' version %s because version %s is already loaded.\"\n",
      "/home/shijiegu/anaconda3/envs/spyglass/lib/python3.10/site-packages/hdmf/spec/namespace.py:535: UserWarning: Ignoring cached namespace 'core' version 2.6.0-alpha because version 2.7.0 is already loaded.\n",
      "  warn(\"Ignoring cached namespace '%s' version %s because version %s is already loaded.\"\n",
      "/home/shijiegu/anaconda3/envs/spyglass/lib/python3.10/site-packages/hdmf/spec/namespace.py:535: UserWarning: Ignoring cached namespace 'ndx-franklab-novela' version 0.1.0 because version 0.2.0 is already loaded.\n",
      "  warn(\"Ignoring cached namespace '%s' version %s because version %s is already loaded.\"\n",
      "[2025-05-03 11:29:10,488][WARNING]: Skipped checksum for file with hash: ab92c888-f02d-5515-71ae-d4ea05175dc8, and path: /stelmo/nwb/analysis/molly20220420/molly20220420_1B5FKAGGB9.nwb\n",
      "03-May-25 11:29:10 Skipped checksum for file with hash: ab92c888-f02d-5515-71ae-d4ea05175dc8, and path: /stelmo/nwb/analysis/molly20220420/molly20220420_1B5FKAGGB9.nwb\n",
      "[2025-05-03 11:29:10,515][WARNING]: Skipped checksum for file with hash: ab92c888-f02d-5515-71ae-d4ea05175dc8, and path: /stelmo/nwb/analysis/molly20220420/molly20220420_1B5FKAGGB9.nwb\n",
      "03-May-25 11:29:10 Skipped checksum for file with hash: ab92c888-f02d-5515-71ae-d4ea05175dc8, and path: /stelmo/nwb/analysis/molly20220420/molly20220420_1B5FKAGGB9.nwb\n",
      "[2025-05-03 11:29:10,523][WARNING]: Skipped checksum for file with hash: ab92c888-f02d-5515-71ae-d4ea05175dc8, and path: /stelmo/nwb/analysis/molly20220420/molly20220420_1B5FKAGGB9.nwb\n",
      "03-May-25 11:29:10 Skipped checksum for file with hash: ab92c888-f02d-5515-71ae-d4ea05175dc8, and path: /stelmo/nwb/analysis/molly20220420/molly20220420_1B5FKAGGB9.nwb\n",
      "/home/shijiegu/anaconda3/envs/spyglass/lib/python3.10/site-packages/hdmf/spec/namespace.py:535: UserWarning: Ignoring cached namespace 'core' version 2.6.0-alpha because version 2.7.0 is already loaded.\n",
      "  warn(\"Ignoring cached namespace '%s' version %s because version %s is already loaded.\"\n",
      "/home/shijiegu/anaconda3/envs/spyglass/lib/python3.10/site-packages/hdmf/spec/namespace.py:535: UserWarning: Ignoring cached namespace 'ndx-franklab-novela' version 0.1.0 because version 0.2.0 is already loaded.\n",
      "  warn(\"Ignoring cached namespace '%s' version %s because version %s is already loaded.\"\n",
      "[2025-05-03 11:30:56,263][WARNING]: Skipped checksum for file with hash: 619f0fb4-a831-a75f-7428-92bc0f3bb53c, and path: /stelmo/nwb/analysis/molly20220420/molly20220420_Y3JR4MXVXB.nwb\n",
      "03-May-25 11:30:56 Skipped checksum for file with hash: 619f0fb4-a831-a75f-7428-92bc0f3bb53c, and path: /stelmo/nwb/analysis/molly20220420/molly20220420_Y3JR4MXVXB.nwb\n",
      "[2025-05-03 11:30:56,285][WARNING]: Skipped checksum for file with hash: 619f0fb4-a831-a75f-7428-92bc0f3bb53c, and path: /stelmo/nwb/analysis/molly20220420/molly20220420_Y3JR4MXVXB.nwb\n",
      "03-May-25 11:30:56 Skipped checksum for file with hash: 619f0fb4-a831-a75f-7428-92bc0f3bb53c, and path: /stelmo/nwb/analysis/molly20220420/molly20220420_Y3JR4MXVXB.nwb\n",
      "[2025-05-03 11:30:56,292][WARNING]: Skipped checksum for file with hash: 619f0fb4-a831-a75f-7428-92bc0f3bb53c, and path: /stelmo/nwb/analysis/molly20220420/molly20220420_Y3JR4MXVXB.nwb\n",
      "03-May-25 11:30:56 Skipped checksum for file with hash: 619f0fb4-a831-a75f-7428-92bc0f3bb53c, and path: /stelmo/nwb/analysis/molly20220420/molly20220420_Y3JR4MXVXB.nwb\n",
      "/home/shijiegu/anaconda3/envs/spyglass/lib/python3.10/site-packages/hdmf/spec/namespace.py:535: UserWarning: Ignoring cached namespace 'core' version 2.6.0-alpha because version 2.7.0 is already loaded.\n",
      "  warn(\"Ignoring cached namespace '%s' version %s because version %s is already loaded.\"\n",
      "/home/shijiegu/anaconda3/envs/spyglass/lib/python3.10/site-packages/hdmf/spec/namespace.py:535: UserWarning: Ignoring cached namespace 'ndx-franklab-novela' version 0.1.0 because version 0.2.0 is already loaded.\n",
      "  warn(\"Ignoring cached namespace '%s' version %s because version %s is already loaded.\"\n",
      "/home/shijiegu/anaconda3/envs/spyglass/lib/python3.10/site-packages/hdmf/spec/namespace.py:535: UserWarning: Ignoring cached namespace 'core' version 2.6.0-alpha because version 2.7.0 is already loaded.\n",
      "  warn(\"Ignoring cached namespace '%s' version %s because version %s is already loaded.\"\n",
      "/home/shijiegu/anaconda3/envs/spyglass/lib/python3.10/site-packages/hdmf/spec/namespace.py:535: UserWarning: Ignoring cached namespace 'ndx-franklab-novela' version 0.1.0 because version 0.2.0 is already loaded.\n",
      "  warn(\"Ignoring cached namespace '%s' version %s because version %s is already loaded.\"\n",
      "/home/shijiegu/anaconda3/envs/spyglass/lib/python3.10/site-packages/spikeinterface/core/base.py:1038: UserWarning: Versions are not the same. This might lead to compatibility errors. Using spikeinterface==0.98.2 is recommended\n",
      "  warnings.warn(\n",
      "/home/shijiegu/anaconda3/envs/spyglass/lib/python3.10/site-packages/spikeinterface/core/base.py:1038: UserWarning: Versions are not the same. This might lead to compatibility errors. Using spikeinterface==0.98.2 is recommended\n",
      "  warnings.warn(\n",
      "[11:34:15][WARNING] Spyglass: Deprecation: this class has been moved out of spyglass.common.common_position\n",
      "\tTrackGraph -> spyglass.linearization.v0.main.TrackGraph\n",
      "Please use the new location.\n",
      "03-May-25 11:34:15 Deprecation: this class has been moved out of spyglass.common.common_position\n",
      "\tTrackGraph -> spyglass.linearization.v0.main.TrackGraph\n",
      "Please use the new location.\n"
     ]
    },
    {
     "name": "stdout",
     "output_type": "stream",
     "text": [
      "Done parsing. Insert into Spyglass\n",
      "epoch name 04_Seq2Session2\n",
      "epoch name 04_Seq2Session2\n",
      "epoch_pos_name pos 3 valid times\n"
     ]
    },
    {
     "name": "stderr",
     "output_type": "stream",
     "text": [
      "[2025-05-03 11:34:16,572][WARNING]: Skipped checksum for file with hash: 85ff5b15-0e56-cd87-c946-cab3bbfa87a0, and path: /stelmo/nwb/analysis/molly20220420_N7FBL0LBRJ.nwb\n",
      "03-May-25 11:34:16 Skipped checksum for file with hash: 85ff5b15-0e56-cd87-c946-cab3bbfa87a0, and path: /stelmo/nwb/analysis/molly20220420_N7FBL0LBRJ.nwb\n",
      "[2025-05-03 11:34:16,596][WARNING]: Skipped checksum for file with hash: 85ff5b15-0e56-cd87-c946-cab3bbfa87a0, and path: /stelmo/nwb/analysis/molly20220420_N7FBL0LBRJ.nwb\n",
      "03-May-25 11:34:16 Skipped checksum for file with hash: 85ff5b15-0e56-cd87-c946-cab3bbfa87a0, and path: /stelmo/nwb/analysis/molly20220420_N7FBL0LBRJ.nwb\n",
      "[2025-05-03 11:34:16,604][WARNING]: Skipped checksum for file with hash: 85ff5b15-0e56-cd87-c946-cab3bbfa87a0, and path: /stelmo/nwb/analysis/molly20220420_N7FBL0LBRJ.nwb\n",
      "03-May-25 11:34:16 Skipped checksum for file with hash: 85ff5b15-0e56-cd87-c946-cab3bbfa87a0, and path: /stelmo/nwb/analysis/molly20220420_N7FBL0LBRJ.nwb\n",
      "/home/shijiegu/anaconda3/envs/spyglass/lib/python3.10/site-packages/hdmf/spec/namespace.py:535: UserWarning: Ignoring cached namespace 'hdmf-common' version 1.5.1 because version 1.8.0 is already loaded.\n",
      "  warn(\"Ignoring cached namespace '%s' version %s because version %s is already loaded.\"\n",
      "/home/shijiegu/anaconda3/envs/spyglass/lib/python3.10/site-packages/hdmf/spec/namespace.py:535: UserWarning: Ignoring cached namespace 'core' version 2.4.0 because version 2.7.0 is already loaded.\n",
      "  warn(\"Ignoring cached namespace '%s' version %s because version %s is already loaded.\"\n",
      "/home/shijiegu/anaconda3/envs/spyglass/lib/python3.10/site-packages/hdmf/spec/namespace.py:535: UserWarning: Ignoring cached namespace 'hdmf-experimental' version 0.2.0 because version 0.5.0 is already loaded.\n",
      "  warn(\"Ignoring cached namespace '%s' version %s because version %s is already loaded.\"\n",
      "/home/shijiegu/anaconda3/envs/spyglass/lib/python3.10/site-packages/hdmf/spec/namespace.py:535: UserWarning: Ignoring cached namespace 'ndx-franklab-novela' version 0.1.0 because version 0.2.0 is already loaded.\n",
      "  warn(\"Ignoring cached namespace '%s' version %s because version %s is already loaded.\"\n",
      "[2025-05-03 11:34:25,919][WARNING]: Skipped checksum for file with hash: 8137dcc7-12df-53fb-37ca-1d1da1d4e673, and path: /stelmo/nwb/analysis/molly20220420_680I7IT916.nwb\n",
      "03-May-25 11:34:25 Skipped checksum for file with hash: 8137dcc7-12df-53fb-37ca-1d1da1d4e673, and path: /stelmo/nwb/analysis/molly20220420_680I7IT916.nwb\n",
      "[2025-05-03 11:34:25,936][WARNING]: Skipped checksum for file with hash: eaf94a2e-fed4-0511-2009-8000a503e4b8, and path: /stelmo/nwb/analysis/molly20220420/molly20220420_8AYHP60RN8.nwb\n",
      "03-May-25 11:34:25 Skipped checksum for file with hash: eaf94a2e-fed4-0511-2009-8000a503e4b8, and path: /stelmo/nwb/analysis/molly20220420/molly20220420_8AYHP60RN8.nwb\n",
      "[2025-05-03 11:34:25,956][WARNING]: Skipped checksum for file with hash: 8137dcc7-12df-53fb-37ca-1d1da1d4e673, and path: /stelmo/nwb/analysis/molly20220420_680I7IT916.nwb\n",
      "03-May-25 11:34:25 Skipped checksum for file with hash: 8137dcc7-12df-53fb-37ca-1d1da1d4e673, and path: /stelmo/nwb/analysis/molly20220420_680I7IT916.nwb\n",
      "[2025-05-03 11:34:25,962][WARNING]: Skipped checksum for file with hash: 8137dcc7-12df-53fb-37ca-1d1da1d4e673, and path: /stelmo/nwb/analysis/molly20220420_680I7IT916.nwb\n",
      "03-May-25 11:34:25 Skipped checksum for file with hash: 8137dcc7-12df-53fb-37ca-1d1da1d4e673, and path: /stelmo/nwb/analysis/molly20220420_680I7IT916.nwb\n",
      "[2025-05-03 11:34:25,975][WARNING]: Skipped checksum for file with hash: eaf94a2e-fed4-0511-2009-8000a503e4b8, and path: /stelmo/nwb/analysis/molly20220420/molly20220420_8AYHP60RN8.nwb\n",
      "03-May-25 11:34:25 Skipped checksum for file with hash: eaf94a2e-fed4-0511-2009-8000a503e4b8, and path: /stelmo/nwb/analysis/molly20220420/molly20220420_8AYHP60RN8.nwb\n",
      "[2025-05-03 11:34:25,983][WARNING]: Skipped checksum for file with hash: eaf94a2e-fed4-0511-2009-8000a503e4b8, and path: /stelmo/nwb/analysis/molly20220420/molly20220420_8AYHP60RN8.nwb\n",
      "03-May-25 11:34:25 Skipped checksum for file with hash: eaf94a2e-fed4-0511-2009-8000a503e4b8, and path: /stelmo/nwb/analysis/molly20220420/molly20220420_8AYHP60RN8.nwb\n",
      "/home/shijiegu/anaconda3/envs/spyglass/lib/python3.10/site-packages/hdmf/spec/namespace.py:535: UserWarning: Ignoring cached namespace 'hdmf-common' version 1.5.1 because version 1.8.0 is already loaded.\n",
      "  warn(\"Ignoring cached namespace '%s' version %s because version %s is already loaded.\"\n",
      "/home/shijiegu/anaconda3/envs/spyglass/lib/python3.10/site-packages/hdmf/spec/namespace.py:535: UserWarning: Ignoring cached namespace 'core' version 2.4.0 because version 2.7.0 is already loaded.\n",
      "  warn(\"Ignoring cached namespace '%s' version %s because version %s is already loaded.\"\n",
      "/home/shijiegu/anaconda3/envs/spyglass/lib/python3.10/site-packages/hdmf/spec/namespace.py:535: UserWarning: Ignoring cached namespace 'hdmf-experimental' version 0.2.0 because version 0.5.0 is already loaded.\n",
      "  warn(\"Ignoring cached namespace '%s' version %s because version %s is already loaded.\"\n",
      "/home/shijiegu/anaconda3/envs/spyglass/lib/python3.10/site-packages/hdmf/spec/namespace.py:535: UserWarning: Ignoring cached namespace 'ndx-franklab-novela' version 0.1.0 because version 0.2.0 is already loaded.\n",
      "  warn(\"Ignoring cached namespace '%s' version %s because version %s is already loaded.\"\n",
      "/home/shijiegu/anaconda3/envs/spyglass/lib/python3.10/site-packages/hdmf/spec/namespace.py:535: UserWarning: Ignoring cached namespace 'core' version 2.6.0-alpha because version 2.7.0 is already loaded.\n",
      "  warn(\"Ignoring cached namespace '%s' version %s because version %s is already loaded.\"\n",
      "/home/shijiegu/anaconda3/envs/spyglass/lib/python3.10/site-packages/hdmf/spec/namespace.py:535: UserWarning: Ignoring cached namespace 'ndx-franklab-novela' version 0.1.0 because version 0.2.0 is already loaded.\n",
      "  warn(\"Ignoring cached namespace '%s' version %s because version %s is already loaded.\"\n",
      "[2025-05-03 11:34:45,308][WARNING]: Skipped checksum for file with hash: ab92c888-f02d-5515-71ae-d4ea05175dc8, and path: /stelmo/nwb/analysis/molly20220420/molly20220420_1B5FKAGGB9.nwb\n",
      "03-May-25 11:34:45 Skipped checksum for file with hash: ab92c888-f02d-5515-71ae-d4ea05175dc8, and path: /stelmo/nwb/analysis/molly20220420/molly20220420_1B5FKAGGB9.nwb\n",
      "[2025-05-03 11:34:45,331][WARNING]: Skipped checksum for file with hash: ab92c888-f02d-5515-71ae-d4ea05175dc8, and path: /stelmo/nwb/analysis/molly20220420/molly20220420_1B5FKAGGB9.nwb\n",
      "03-May-25 11:34:45 Skipped checksum for file with hash: ab92c888-f02d-5515-71ae-d4ea05175dc8, and path: /stelmo/nwb/analysis/molly20220420/molly20220420_1B5FKAGGB9.nwb\n",
      "[2025-05-03 11:34:45,339][WARNING]: Skipped checksum for file with hash: ab92c888-f02d-5515-71ae-d4ea05175dc8, and path: /stelmo/nwb/analysis/molly20220420/molly20220420_1B5FKAGGB9.nwb\n",
      "03-May-25 11:34:45 Skipped checksum for file with hash: ab92c888-f02d-5515-71ae-d4ea05175dc8, and path: /stelmo/nwb/analysis/molly20220420/molly20220420_1B5FKAGGB9.nwb\n",
      "[2025-05-03 11:35:14,977][WARNING]: Skipped checksum for file with hash: d127caf5-5826-88fa-a1c9-40107fb6439f, and path: /stelmo/nwb/analysis/molly20220420/molly20220420_INDMHTE66Y.nwb\n",
      "03-May-25 11:35:14 Skipped checksum for file with hash: d127caf5-5826-88fa-a1c9-40107fb6439f, and path: /stelmo/nwb/analysis/molly20220420/molly20220420_INDMHTE66Y.nwb\n",
      "[2025-05-03 11:35:14,999][WARNING]: Skipped checksum for file with hash: d127caf5-5826-88fa-a1c9-40107fb6439f, and path: /stelmo/nwb/analysis/molly20220420/molly20220420_INDMHTE66Y.nwb\n",
      "03-May-25 11:35:14 Skipped checksum for file with hash: d127caf5-5826-88fa-a1c9-40107fb6439f, and path: /stelmo/nwb/analysis/molly20220420/molly20220420_INDMHTE66Y.nwb\n",
      "[2025-05-03 11:35:15,005][WARNING]: Skipped checksum for file with hash: d127caf5-5826-88fa-a1c9-40107fb6439f, and path: /stelmo/nwb/analysis/molly20220420/molly20220420_INDMHTE66Y.nwb\n",
      "03-May-25 11:35:15 Skipped checksum for file with hash: d127caf5-5826-88fa-a1c9-40107fb6439f, and path: /stelmo/nwb/analysis/molly20220420/molly20220420_INDMHTE66Y.nwb\n",
      "/home/shijiegu/anaconda3/envs/spyglass/lib/python3.10/site-packages/hdmf/spec/namespace.py:535: UserWarning: Ignoring cached namespace 'core' version 2.6.0-alpha because version 2.7.0 is already loaded.\n",
      "  warn(\"Ignoring cached namespace '%s' version %s because version %s is already loaded.\"\n",
      "/home/shijiegu/anaconda3/envs/spyglass/lib/python3.10/site-packages/hdmf/spec/namespace.py:535: UserWarning: Ignoring cached namespace 'ndx-franklab-novela' version 0.1.0 because version 0.2.0 is already loaded.\n",
      "  warn(\"Ignoring cached namespace '%s' version %s because version %s is already loaded.\"\n",
      "/home/shijiegu/anaconda3/envs/spyglass/lib/python3.10/site-packages/hdmf/spec/namespace.py:535: UserWarning: Ignoring cached namespace 'core' version 2.6.0-alpha because version 2.7.0 is already loaded.\n",
      "  warn(\"Ignoring cached namespace '%s' version %s because version %s is already loaded.\"\n",
      "/home/shijiegu/anaconda3/envs/spyglass/lib/python3.10/site-packages/hdmf/spec/namespace.py:535: UserWarning: Ignoring cached namespace 'ndx-franklab-novela' version 0.1.0 because version 0.2.0 is already loaded.\n",
      "  warn(\"Ignoring cached namespace '%s' version %s because version %s is already loaded.\"\n",
      "/home/shijiegu/anaconda3/envs/spyglass/lib/python3.10/site-packages/spikeinterface/core/base.py:1038: UserWarning: Versions are not the same. This might lead to compatibility errors. Using spikeinterface==0.98.2 is recommended\n",
      "  warnings.warn(\n",
      "/home/shijiegu/anaconda3/envs/spyglass/lib/python3.10/site-packages/spikeinterface/core/base.py:1038: UserWarning: Versions are not the same. This might lead to compatibility errors. Using spikeinterface==0.98.2 is recommended\n",
      "  warnings.warn(\n"
     ]
    },
    {
     "name": "stdout",
     "output_type": "stream",
     "text": [
      "Done parsing. Insert into Spyglass\n"
     ]
    },
    {
     "name": "stderr",
     "output_type": "stream",
     "text": [
      "[11:38:54][WARNING] Spyglass: Deprecation: this class has been moved out of spyglass.common.common_position\n",
      "\tTrackGraph -> spyglass.linearization.v0.main.TrackGraph\n",
      "Please use the new location.\n",
      "03-May-25 11:38:54 Deprecation: this class has been moved out of spyglass.common.common_position\n",
      "\tTrackGraph -> spyglass.linearization.v0.main.TrackGraph\n",
      "Please use the new location.\n"
     ]
    },
    {
     "name": "stdout",
     "output_type": "stream",
     "text": [
      "epoch name 06_Seq2Session3\n",
      "epoch name 06_Seq2Session3\n",
      "epoch_pos_name pos 5 valid times\n"
     ]
    },
    {
     "name": "stderr",
     "output_type": "stream",
     "text": [
      "[2025-05-03 11:38:55,411][WARNING]: Skipped checksum for file with hash: 70bb8097-1bfa-d025-970f-96f14c9c878e, and path: /stelmo/nwb/analysis/molly20220420_LUUWQWG4TQ.nwb\n",
      "03-May-25 11:38:55 Skipped checksum for file with hash: 70bb8097-1bfa-d025-970f-96f14c9c878e, and path: /stelmo/nwb/analysis/molly20220420_LUUWQWG4TQ.nwb\n",
      "[2025-05-03 11:38:55,434][WARNING]: Skipped checksum for file with hash: 70bb8097-1bfa-d025-970f-96f14c9c878e, and path: /stelmo/nwb/analysis/molly20220420_LUUWQWG4TQ.nwb\n",
      "03-May-25 11:38:55 Skipped checksum for file with hash: 70bb8097-1bfa-d025-970f-96f14c9c878e, and path: /stelmo/nwb/analysis/molly20220420_LUUWQWG4TQ.nwb\n",
      "[2025-05-03 11:38:55,442][WARNING]: Skipped checksum for file with hash: 70bb8097-1bfa-d025-970f-96f14c9c878e, and path: /stelmo/nwb/analysis/molly20220420_LUUWQWG4TQ.nwb\n",
      "03-May-25 11:38:55 Skipped checksum for file with hash: 70bb8097-1bfa-d025-970f-96f14c9c878e, and path: /stelmo/nwb/analysis/molly20220420_LUUWQWG4TQ.nwb\n",
      "/home/shijiegu/anaconda3/envs/spyglass/lib/python3.10/site-packages/hdmf/spec/namespace.py:535: UserWarning: Ignoring cached namespace 'hdmf-common' version 1.5.1 because version 1.8.0 is already loaded.\n",
      "  warn(\"Ignoring cached namespace '%s' version %s because version %s is already loaded.\"\n",
      "/home/shijiegu/anaconda3/envs/spyglass/lib/python3.10/site-packages/hdmf/spec/namespace.py:535: UserWarning: Ignoring cached namespace 'core' version 2.4.0 because version 2.7.0 is already loaded.\n",
      "  warn(\"Ignoring cached namespace '%s' version %s because version %s is already loaded.\"\n",
      "/home/shijiegu/anaconda3/envs/spyglass/lib/python3.10/site-packages/hdmf/spec/namespace.py:535: UserWarning: Ignoring cached namespace 'hdmf-experimental' version 0.2.0 because version 0.5.0 is already loaded.\n",
      "  warn(\"Ignoring cached namespace '%s' version %s because version %s is already loaded.\"\n",
      "/home/shijiegu/anaconda3/envs/spyglass/lib/python3.10/site-packages/hdmf/spec/namespace.py:535: UserWarning: Ignoring cached namespace 'ndx-franklab-novela' version 0.1.0 because version 0.2.0 is already loaded.\n",
      "  warn(\"Ignoring cached namespace '%s' version %s because version %s is already loaded.\"\n",
      "[2025-05-03 11:39:04,987][WARNING]: Skipped checksum for file with hash: 0dedeb1e-3b3f-45cb-58b3-cb6d2ea1f511, and path: /stelmo/nwb/analysis/molly20220420_OQVZOHO81D.nwb\n",
      "03-May-25 11:39:04 Skipped checksum for file with hash: 0dedeb1e-3b3f-45cb-58b3-cb6d2ea1f511, and path: /stelmo/nwb/analysis/molly20220420_OQVZOHO81D.nwb\n",
      "[2025-05-03 11:39:05,004][WARNING]: Skipped checksum for file with hash: b3e5dddb-5b05-fa38-a855-87415653c5ff, and path: /stelmo/nwb/analysis/molly20220420/molly20220420_3UPM2FDQAU.nwb\n",
      "03-May-25 11:39:05 Skipped checksum for file with hash: b3e5dddb-5b05-fa38-a855-87415653c5ff, and path: /stelmo/nwb/analysis/molly20220420/molly20220420_3UPM2FDQAU.nwb\n",
      "[2025-05-03 11:39:05,024][WARNING]: Skipped checksum for file with hash: 0dedeb1e-3b3f-45cb-58b3-cb6d2ea1f511, and path: /stelmo/nwb/analysis/molly20220420_OQVZOHO81D.nwb\n",
      "03-May-25 11:39:05 Skipped checksum for file with hash: 0dedeb1e-3b3f-45cb-58b3-cb6d2ea1f511, and path: /stelmo/nwb/analysis/molly20220420_OQVZOHO81D.nwb\n",
      "[2025-05-03 11:39:05,030][WARNING]: Skipped checksum for file with hash: 0dedeb1e-3b3f-45cb-58b3-cb6d2ea1f511, and path: /stelmo/nwb/analysis/molly20220420_OQVZOHO81D.nwb\n",
      "03-May-25 11:39:05 Skipped checksum for file with hash: 0dedeb1e-3b3f-45cb-58b3-cb6d2ea1f511, and path: /stelmo/nwb/analysis/molly20220420_OQVZOHO81D.nwb\n",
      "[2025-05-03 11:39:05,045][WARNING]: Skipped checksum for file with hash: b3e5dddb-5b05-fa38-a855-87415653c5ff, and path: /stelmo/nwb/analysis/molly20220420/molly20220420_3UPM2FDQAU.nwb\n",
      "03-May-25 11:39:05 Skipped checksum for file with hash: b3e5dddb-5b05-fa38-a855-87415653c5ff, and path: /stelmo/nwb/analysis/molly20220420/molly20220420_3UPM2FDQAU.nwb\n",
      "[2025-05-03 11:39:05,053][WARNING]: Skipped checksum for file with hash: b3e5dddb-5b05-fa38-a855-87415653c5ff, and path: /stelmo/nwb/analysis/molly20220420/molly20220420_3UPM2FDQAU.nwb\n",
      "03-May-25 11:39:05 Skipped checksum for file with hash: b3e5dddb-5b05-fa38-a855-87415653c5ff, and path: /stelmo/nwb/analysis/molly20220420/molly20220420_3UPM2FDQAU.nwb\n",
      "/home/shijiegu/anaconda3/envs/spyglass/lib/python3.10/site-packages/hdmf/spec/namespace.py:535: UserWarning: Ignoring cached namespace 'hdmf-common' version 1.5.1 because version 1.8.0 is already loaded.\n",
      "  warn(\"Ignoring cached namespace '%s' version %s because version %s is already loaded.\"\n",
      "/home/shijiegu/anaconda3/envs/spyglass/lib/python3.10/site-packages/hdmf/spec/namespace.py:535: UserWarning: Ignoring cached namespace 'core' version 2.4.0 because version 2.7.0 is already loaded.\n",
      "  warn(\"Ignoring cached namespace '%s' version %s because version %s is already loaded.\"\n",
      "/home/shijiegu/anaconda3/envs/spyglass/lib/python3.10/site-packages/hdmf/spec/namespace.py:535: UserWarning: Ignoring cached namespace 'hdmf-experimental' version 0.2.0 because version 0.5.0 is already loaded.\n",
      "  warn(\"Ignoring cached namespace '%s' version %s because version %s is already loaded.\"\n",
      "/home/shijiegu/anaconda3/envs/spyglass/lib/python3.10/site-packages/hdmf/spec/namespace.py:535: UserWarning: Ignoring cached namespace 'ndx-franklab-novela' version 0.1.0 because version 0.2.0 is already loaded.\n",
      "  warn(\"Ignoring cached namespace '%s' version %s because version %s is already loaded.\"\n",
      "/home/shijiegu/anaconda3/envs/spyglass/lib/python3.10/site-packages/hdmf/spec/namespace.py:535: UserWarning: Ignoring cached namespace 'core' version 2.6.0-alpha because version 2.7.0 is already loaded.\n",
      "  warn(\"Ignoring cached namespace '%s' version %s because version %s is already loaded.\"\n",
      "/home/shijiegu/anaconda3/envs/spyglass/lib/python3.10/site-packages/hdmf/spec/namespace.py:535: UserWarning: Ignoring cached namespace 'ndx-franklab-novela' version 0.1.0 because version 0.2.0 is already loaded.\n",
      "  warn(\"Ignoring cached namespace '%s' version %s because version %s is already loaded.\"\n",
      "[2025-05-03 11:39:24,028][WARNING]: Skipped checksum for file with hash: ab92c888-f02d-5515-71ae-d4ea05175dc8, and path: /stelmo/nwb/analysis/molly20220420/molly20220420_1B5FKAGGB9.nwb\n",
      "03-May-25 11:39:24 Skipped checksum for file with hash: ab92c888-f02d-5515-71ae-d4ea05175dc8, and path: /stelmo/nwb/analysis/molly20220420/molly20220420_1B5FKAGGB9.nwb\n",
      "[2025-05-03 11:39:24,052][WARNING]: Skipped checksum for file with hash: ab92c888-f02d-5515-71ae-d4ea05175dc8, and path: /stelmo/nwb/analysis/molly20220420/molly20220420_1B5FKAGGB9.nwb\n",
      "03-May-25 11:39:24 Skipped checksum for file with hash: ab92c888-f02d-5515-71ae-d4ea05175dc8, and path: /stelmo/nwb/analysis/molly20220420/molly20220420_1B5FKAGGB9.nwb\n",
      "[2025-05-03 11:39:24,060][WARNING]: Skipped checksum for file with hash: ab92c888-f02d-5515-71ae-d4ea05175dc8, and path: /stelmo/nwb/analysis/molly20220420/molly20220420_1B5FKAGGB9.nwb\n",
      "03-May-25 11:39:24 Skipped checksum for file with hash: ab92c888-f02d-5515-71ae-d4ea05175dc8, and path: /stelmo/nwb/analysis/molly20220420/molly20220420_1B5FKAGGB9.nwb\n",
      "[2025-05-03 11:39:50,086][WARNING]: Skipped checksum for file with hash: a0ea3fea-ace2-f58d-960f-a21f57d43be1, and path: /stelmo/nwb/analysis/molly20220420/molly20220420_BEHKDU3A5P.nwb\n",
      "03-May-25 11:39:50 Skipped checksum for file with hash: a0ea3fea-ace2-f58d-960f-a21f57d43be1, and path: /stelmo/nwb/analysis/molly20220420/molly20220420_BEHKDU3A5P.nwb\n",
      "[2025-05-03 11:39:50,108][WARNING]: Skipped checksum for file with hash: a0ea3fea-ace2-f58d-960f-a21f57d43be1, and path: /stelmo/nwb/analysis/molly20220420/molly20220420_BEHKDU3A5P.nwb\n",
      "03-May-25 11:39:50 Skipped checksum for file with hash: a0ea3fea-ace2-f58d-960f-a21f57d43be1, and path: /stelmo/nwb/analysis/molly20220420/molly20220420_BEHKDU3A5P.nwb\n",
      "[2025-05-03 11:39:50,115][WARNING]: Skipped checksum for file with hash: a0ea3fea-ace2-f58d-960f-a21f57d43be1, and path: /stelmo/nwb/analysis/molly20220420/molly20220420_BEHKDU3A5P.nwb\n",
      "03-May-25 11:39:50 Skipped checksum for file with hash: a0ea3fea-ace2-f58d-960f-a21f57d43be1, and path: /stelmo/nwb/analysis/molly20220420/molly20220420_BEHKDU3A5P.nwb\n",
      "/home/shijiegu/anaconda3/envs/spyglass/lib/python3.10/site-packages/hdmf/spec/namespace.py:535: UserWarning: Ignoring cached namespace 'core' version 2.6.0-alpha because version 2.7.0 is already loaded.\n",
      "  warn(\"Ignoring cached namespace '%s' version %s because version %s is already loaded.\"\n",
      "/home/shijiegu/anaconda3/envs/spyglass/lib/python3.10/site-packages/hdmf/spec/namespace.py:535: UserWarning: Ignoring cached namespace 'ndx-franklab-novela' version 0.1.0 because version 0.2.0 is already loaded.\n",
      "  warn(\"Ignoring cached namespace '%s' version %s because version %s is already loaded.\"\n",
      "/home/shijiegu/anaconda3/envs/spyglass/lib/python3.10/site-packages/hdmf/spec/namespace.py:535: UserWarning: Ignoring cached namespace 'core' version 2.6.0-alpha because version 2.7.0 is already loaded.\n",
      "  warn(\"Ignoring cached namespace '%s' version %s because version %s is already loaded.\"\n",
      "/home/shijiegu/anaconda3/envs/spyglass/lib/python3.10/site-packages/hdmf/spec/namespace.py:535: UserWarning: Ignoring cached namespace 'ndx-franklab-novela' version 0.1.0 because version 0.2.0 is already loaded.\n",
      "  warn(\"Ignoring cached namespace '%s' version %s because version %s is already loaded.\"\n",
      "/home/shijiegu/anaconda3/envs/spyglass/lib/python3.10/site-packages/spikeinterface/core/base.py:1038: UserWarning: Versions are not the same. This might lead to compatibility errors. Using spikeinterface==0.98.2 is recommended\n",
      "  warnings.warn(\n",
      "/home/shijiegu/anaconda3/envs/spyglass/lib/python3.10/site-packages/spikeinterface/core/base.py:1038: UserWarning: Versions are not the same. This might lead to compatibility errors. Using spikeinterface==0.98.2 is recommended\n",
      "  warnings.warn(\n"
     ]
    },
    {
     "name": "stdout",
     "output_type": "stream",
     "text": [
      "Done parsing. Insert into Spyglass\n"
     ]
    },
    {
     "name": "stderr",
     "output_type": "stream",
     "text": [
      "[11:43:43][WARNING] Spyglass: Deprecation: this class has been moved out of spyglass.common.common_position\n",
      "\tTrackGraph -> spyglass.linearization.v0.main.TrackGraph\n",
      "Please use the new location.\n",
      "03-May-25 11:43:43 Deprecation: this class has been moved out of spyglass.common.common_position\n",
      "\tTrackGraph -> spyglass.linearization.v0.main.TrackGraph\n",
      "Please use the new location.\n"
     ]
    },
    {
     "name": "stdout",
     "output_type": "stream",
     "text": [
      "epoch name 08_Seq2Session4\n",
      "epoch name 08_Seq2Session4\n",
      "epoch_pos_name pos 7 valid times\n"
     ]
    },
    {
     "name": "stderr",
     "output_type": "stream",
     "text": [
      "[2025-05-03 11:43:44,363][WARNING]: Skipped checksum for file with hash: 01332bc5-251c-774a-a0bb-63598ce4d6a4, and path: /stelmo/nwb/analysis/molly20220420_Z87494CA88.nwb\n",
      "03-May-25 11:43:44 Skipped checksum for file with hash: 01332bc5-251c-774a-a0bb-63598ce4d6a4, and path: /stelmo/nwb/analysis/molly20220420_Z87494CA88.nwb\n",
      "[2025-05-03 11:43:44,388][WARNING]: Skipped checksum for file with hash: 01332bc5-251c-774a-a0bb-63598ce4d6a4, and path: /stelmo/nwb/analysis/molly20220420_Z87494CA88.nwb\n",
      "03-May-25 11:43:44 Skipped checksum for file with hash: 01332bc5-251c-774a-a0bb-63598ce4d6a4, and path: /stelmo/nwb/analysis/molly20220420_Z87494CA88.nwb\n",
      "[2025-05-03 11:43:44,397][WARNING]: Skipped checksum for file with hash: 01332bc5-251c-774a-a0bb-63598ce4d6a4, and path: /stelmo/nwb/analysis/molly20220420_Z87494CA88.nwb\n",
      "03-May-25 11:43:44 Skipped checksum for file with hash: 01332bc5-251c-774a-a0bb-63598ce4d6a4, and path: /stelmo/nwb/analysis/molly20220420_Z87494CA88.nwb\n",
      "/home/shijiegu/anaconda3/envs/spyglass/lib/python3.10/site-packages/hdmf/spec/namespace.py:535: UserWarning: Ignoring cached namespace 'hdmf-common' version 1.5.1 because version 1.8.0 is already loaded.\n",
      "  warn(\"Ignoring cached namespace '%s' version %s because version %s is already loaded.\"\n",
      "/home/shijiegu/anaconda3/envs/spyglass/lib/python3.10/site-packages/hdmf/spec/namespace.py:535: UserWarning: Ignoring cached namespace 'core' version 2.4.0 because version 2.7.0 is already loaded.\n",
      "  warn(\"Ignoring cached namespace '%s' version %s because version %s is already loaded.\"\n",
      "/home/shijiegu/anaconda3/envs/spyglass/lib/python3.10/site-packages/hdmf/spec/namespace.py:535: UserWarning: Ignoring cached namespace 'hdmf-experimental' version 0.2.0 because version 0.5.0 is already loaded.\n",
      "  warn(\"Ignoring cached namespace '%s' version %s because version %s is already loaded.\"\n",
      "/home/shijiegu/anaconda3/envs/spyglass/lib/python3.10/site-packages/hdmf/spec/namespace.py:535: UserWarning: Ignoring cached namespace 'ndx-franklab-novela' version 0.1.0 because version 0.2.0 is already loaded.\n",
      "  warn(\"Ignoring cached namespace '%s' version %s because version %s is already loaded.\"\n",
      "[2025-05-03 11:43:53,917][WARNING]: Skipped checksum for file with hash: b6b6f7a1-caa8-6d55-c4f1-eb4b44943fbb, and path: /stelmo/nwb/analysis/molly20220420_0CW9A7NOGQ.nwb\n",
      "03-May-25 11:43:53 Skipped checksum for file with hash: b6b6f7a1-caa8-6d55-c4f1-eb4b44943fbb, and path: /stelmo/nwb/analysis/molly20220420_0CW9A7NOGQ.nwb\n",
      "[2025-05-03 11:43:53,933][WARNING]: Skipped checksum for file with hash: ba46538a-9156-b3d3-fce0-5a4b032af186, and path: /stelmo/nwb/analysis/molly20220420/molly20220420_I38F283KG3.nwb\n",
      "03-May-25 11:43:53 Skipped checksum for file with hash: ba46538a-9156-b3d3-fce0-5a4b032af186, and path: /stelmo/nwb/analysis/molly20220420/molly20220420_I38F283KG3.nwb\n",
      "[2025-05-03 11:43:53,954][WARNING]: Skipped checksum for file with hash: b6b6f7a1-caa8-6d55-c4f1-eb4b44943fbb, and path: /stelmo/nwb/analysis/molly20220420_0CW9A7NOGQ.nwb\n",
      "03-May-25 11:43:53 Skipped checksum for file with hash: b6b6f7a1-caa8-6d55-c4f1-eb4b44943fbb, and path: /stelmo/nwb/analysis/molly20220420_0CW9A7NOGQ.nwb\n",
      "[2025-05-03 11:43:53,962][WARNING]: Skipped checksum for file with hash: b6b6f7a1-caa8-6d55-c4f1-eb4b44943fbb, and path: /stelmo/nwb/analysis/molly20220420_0CW9A7NOGQ.nwb\n",
      "03-May-25 11:43:53 Skipped checksum for file with hash: b6b6f7a1-caa8-6d55-c4f1-eb4b44943fbb, and path: /stelmo/nwb/analysis/molly20220420_0CW9A7NOGQ.nwb\n",
      "[2025-05-03 11:43:53,978][WARNING]: Skipped checksum for file with hash: ba46538a-9156-b3d3-fce0-5a4b032af186, and path: /stelmo/nwb/analysis/molly20220420/molly20220420_I38F283KG3.nwb\n",
      "03-May-25 11:43:53 Skipped checksum for file with hash: ba46538a-9156-b3d3-fce0-5a4b032af186, and path: /stelmo/nwb/analysis/molly20220420/molly20220420_I38F283KG3.nwb\n",
      "[2025-05-03 11:43:53,986][WARNING]: Skipped checksum for file with hash: ba46538a-9156-b3d3-fce0-5a4b032af186, and path: /stelmo/nwb/analysis/molly20220420/molly20220420_I38F283KG3.nwb\n",
      "03-May-25 11:43:53 Skipped checksum for file with hash: ba46538a-9156-b3d3-fce0-5a4b032af186, and path: /stelmo/nwb/analysis/molly20220420/molly20220420_I38F283KG3.nwb\n",
      "/home/shijiegu/anaconda3/envs/spyglass/lib/python3.10/site-packages/hdmf/spec/namespace.py:535: UserWarning: Ignoring cached namespace 'hdmf-common' version 1.5.1 because version 1.8.0 is already loaded.\n",
      "  warn(\"Ignoring cached namespace '%s' version %s because version %s is already loaded.\"\n",
      "/home/shijiegu/anaconda3/envs/spyglass/lib/python3.10/site-packages/hdmf/spec/namespace.py:535: UserWarning: Ignoring cached namespace 'core' version 2.4.0 because version 2.7.0 is already loaded.\n",
      "  warn(\"Ignoring cached namespace '%s' version %s because version %s is already loaded.\"\n",
      "/home/shijiegu/anaconda3/envs/spyglass/lib/python3.10/site-packages/hdmf/spec/namespace.py:535: UserWarning: Ignoring cached namespace 'hdmf-experimental' version 0.2.0 because version 0.5.0 is already loaded.\n",
      "  warn(\"Ignoring cached namespace '%s' version %s because version %s is already loaded.\"\n",
      "/home/shijiegu/anaconda3/envs/spyglass/lib/python3.10/site-packages/hdmf/spec/namespace.py:535: UserWarning: Ignoring cached namespace 'ndx-franklab-novela' version 0.1.0 because version 0.2.0 is already loaded.\n",
      "  warn(\"Ignoring cached namespace '%s' version %s because version %s is already loaded.\"\n",
      "/home/shijiegu/anaconda3/envs/spyglass/lib/python3.10/site-packages/hdmf/spec/namespace.py:535: UserWarning: Ignoring cached namespace 'core' version 2.6.0-alpha because version 2.7.0 is already loaded.\n",
      "  warn(\"Ignoring cached namespace '%s' version %s because version %s is already loaded.\"\n",
      "/home/shijiegu/anaconda3/envs/spyglass/lib/python3.10/site-packages/hdmf/spec/namespace.py:535: UserWarning: Ignoring cached namespace 'ndx-franklab-novela' version 0.1.0 because version 0.2.0 is already loaded.\n",
      "  warn(\"Ignoring cached namespace '%s' version %s because version %s is already loaded.\"\n",
      "[2025-05-03 11:44:13,411][WARNING]: Skipped checksum for file with hash: ab92c888-f02d-5515-71ae-d4ea05175dc8, and path: /stelmo/nwb/analysis/molly20220420/molly20220420_1B5FKAGGB9.nwb\n",
      "03-May-25 11:44:13 Skipped checksum for file with hash: ab92c888-f02d-5515-71ae-d4ea05175dc8, and path: /stelmo/nwb/analysis/molly20220420/molly20220420_1B5FKAGGB9.nwb\n",
      "[2025-05-03 11:44:13,438][WARNING]: Skipped checksum for file with hash: ab92c888-f02d-5515-71ae-d4ea05175dc8, and path: /stelmo/nwb/analysis/molly20220420/molly20220420_1B5FKAGGB9.nwb\n",
      "03-May-25 11:44:13 Skipped checksum for file with hash: ab92c888-f02d-5515-71ae-d4ea05175dc8, and path: /stelmo/nwb/analysis/molly20220420/molly20220420_1B5FKAGGB9.nwb\n",
      "[2025-05-03 11:44:13,445][WARNING]: Skipped checksum for file with hash: ab92c888-f02d-5515-71ae-d4ea05175dc8, and path: /stelmo/nwb/analysis/molly20220420/molly20220420_1B5FKAGGB9.nwb\n",
      "03-May-25 11:44:13 Skipped checksum for file with hash: ab92c888-f02d-5515-71ae-d4ea05175dc8, and path: /stelmo/nwb/analysis/molly20220420/molly20220420_1B5FKAGGB9.nwb\n",
      "[2025-05-03 11:44:37,892][WARNING]: Skipped checksum for file with hash: 1cb39b1e-bd74-94b1-08e6-ea384aa8d7ca, and path: /stelmo/nwb/analysis/molly20220420/molly20220420_TDSQZ0BJPS.nwb\n",
      "03-May-25 11:44:37 Skipped checksum for file with hash: 1cb39b1e-bd74-94b1-08e6-ea384aa8d7ca, and path: /stelmo/nwb/analysis/molly20220420/molly20220420_TDSQZ0BJPS.nwb\n",
      "[2025-05-03 11:44:37,914][WARNING]: Skipped checksum for file with hash: 1cb39b1e-bd74-94b1-08e6-ea384aa8d7ca, and path: /stelmo/nwb/analysis/molly20220420/molly20220420_TDSQZ0BJPS.nwb\n",
      "03-May-25 11:44:37 Skipped checksum for file with hash: 1cb39b1e-bd74-94b1-08e6-ea384aa8d7ca, and path: /stelmo/nwb/analysis/molly20220420/molly20220420_TDSQZ0BJPS.nwb\n",
      "[2025-05-03 11:44:37,920][WARNING]: Skipped checksum for file with hash: 1cb39b1e-bd74-94b1-08e6-ea384aa8d7ca, and path: /stelmo/nwb/analysis/molly20220420/molly20220420_TDSQZ0BJPS.nwb\n",
      "03-May-25 11:44:37 Skipped checksum for file with hash: 1cb39b1e-bd74-94b1-08e6-ea384aa8d7ca, and path: /stelmo/nwb/analysis/molly20220420/molly20220420_TDSQZ0BJPS.nwb\n",
      "/home/shijiegu/anaconda3/envs/spyglass/lib/python3.10/site-packages/hdmf/spec/namespace.py:535: UserWarning: Ignoring cached namespace 'core' version 2.6.0-alpha because version 2.7.0 is already loaded.\n",
      "  warn(\"Ignoring cached namespace '%s' version %s because version %s is already loaded.\"\n",
      "/home/shijiegu/anaconda3/envs/spyglass/lib/python3.10/site-packages/hdmf/spec/namespace.py:535: UserWarning: Ignoring cached namespace 'ndx-franklab-novela' version 0.1.0 because version 0.2.0 is already loaded.\n",
      "  warn(\"Ignoring cached namespace '%s' version %s because version %s is already loaded.\"\n",
      "/home/shijiegu/anaconda3/envs/spyglass/lib/python3.10/site-packages/hdmf/spec/namespace.py:535: UserWarning: Ignoring cached namespace 'core' version 2.6.0-alpha because version 2.7.0 is already loaded.\n",
      "  warn(\"Ignoring cached namespace '%s' version %s because version %s is already loaded.\"\n",
      "/home/shijiegu/anaconda3/envs/spyglass/lib/python3.10/site-packages/hdmf/spec/namespace.py:535: UserWarning: Ignoring cached namespace 'ndx-franklab-novela' version 0.1.0 because version 0.2.0 is already loaded.\n",
      "  warn(\"Ignoring cached namespace '%s' version %s because version %s is already loaded.\"\n",
      "/home/shijiegu/anaconda3/envs/spyglass/lib/python3.10/site-packages/spikeinterface/core/base.py:1038: UserWarning: Versions are not the same. This might lead to compatibility errors. Using spikeinterface==0.98.2 is recommended\n",
      "  warnings.warn(\n",
      "/home/shijiegu/anaconda3/envs/spyglass/lib/python3.10/site-packages/spikeinterface/core/base.py:1038: UserWarning: Versions are not the same. This might lead to compatibility errors. Using spikeinterface==0.98.2 is recommended\n",
      "  warnings.warn(\n"
     ]
    },
    {
     "name": "stdout",
     "output_type": "stream",
     "text": [
      "Done parsing. Insert into Spyglass\n"
     ]
    },
    {
     "name": "stderr",
     "output_type": "stream",
     "text": [
      "[11:48:39][WARNING] Spyglass: Deprecation: this class has been moved out of spyglass.common.common_position\n",
      "\tTrackGraph -> spyglass.linearization.v0.main.TrackGraph\n",
      "Please use the new location.\n",
      "03-May-25 11:48:39 Deprecation: this class has been moved out of spyglass.common.common_position\n",
      "\tTrackGraph -> spyglass.linearization.v0.main.TrackGraph\n",
      "Please use the new location.\n"
     ]
    },
    {
     "name": "stdout",
     "output_type": "stream",
     "text": [
      "epoch name 10_Seq2Session5\n",
      "epoch name 10_Seq2Session5\n",
      "epoch_pos_name pos 9 valid times\n"
     ]
    },
    {
     "name": "stderr",
     "output_type": "stream",
     "text": [
      "[2025-05-03 11:48:39,736][WARNING]: Skipped checksum for file with hash: afcb3ae7-361a-7e0d-24c7-dbabfc1f35a8, and path: /stelmo/nwb/analysis/molly20220420_KF112RX6C0.nwb\n",
      "03-May-25 11:48:39 Skipped checksum for file with hash: afcb3ae7-361a-7e0d-24c7-dbabfc1f35a8, and path: /stelmo/nwb/analysis/molly20220420_KF112RX6C0.nwb\n",
      "[2025-05-03 11:48:39,760][WARNING]: Skipped checksum for file with hash: afcb3ae7-361a-7e0d-24c7-dbabfc1f35a8, and path: /stelmo/nwb/analysis/molly20220420_KF112RX6C0.nwb\n",
      "03-May-25 11:48:39 Skipped checksum for file with hash: afcb3ae7-361a-7e0d-24c7-dbabfc1f35a8, and path: /stelmo/nwb/analysis/molly20220420_KF112RX6C0.nwb\n",
      "[2025-05-03 11:48:39,768][WARNING]: Skipped checksum for file with hash: afcb3ae7-361a-7e0d-24c7-dbabfc1f35a8, and path: /stelmo/nwb/analysis/molly20220420_KF112RX6C0.nwb\n",
      "03-May-25 11:48:39 Skipped checksum for file with hash: afcb3ae7-361a-7e0d-24c7-dbabfc1f35a8, and path: /stelmo/nwb/analysis/molly20220420_KF112RX6C0.nwb\n",
      "/home/shijiegu/anaconda3/envs/spyglass/lib/python3.10/site-packages/hdmf/spec/namespace.py:535: UserWarning: Ignoring cached namespace 'hdmf-common' version 1.5.1 because version 1.8.0 is already loaded.\n",
      "  warn(\"Ignoring cached namespace '%s' version %s because version %s is already loaded.\"\n",
      "/home/shijiegu/anaconda3/envs/spyglass/lib/python3.10/site-packages/hdmf/spec/namespace.py:535: UserWarning: Ignoring cached namespace 'core' version 2.4.0 because version 2.7.0 is already loaded.\n",
      "  warn(\"Ignoring cached namespace '%s' version %s because version %s is already loaded.\"\n",
      "/home/shijiegu/anaconda3/envs/spyglass/lib/python3.10/site-packages/hdmf/spec/namespace.py:535: UserWarning: Ignoring cached namespace 'hdmf-experimental' version 0.2.0 because version 0.5.0 is already loaded.\n",
      "  warn(\"Ignoring cached namespace '%s' version %s because version %s is already loaded.\"\n",
      "/home/shijiegu/anaconda3/envs/spyglass/lib/python3.10/site-packages/hdmf/spec/namespace.py:535: UserWarning: Ignoring cached namespace 'ndx-franklab-novela' version 0.1.0 because version 0.2.0 is already loaded.\n",
      "  warn(\"Ignoring cached namespace '%s' version %s because version %s is already loaded.\"\n",
      "[2025-05-03 11:48:49,382][WARNING]: Skipped checksum for file with hash: 5c3205aa-4321-3ffe-0e5c-f2e42997daea, and path: /stelmo/nwb/analysis/molly20220420_D4JOQIRQ1D.nwb\n",
      "03-May-25 11:48:49 Skipped checksum for file with hash: 5c3205aa-4321-3ffe-0e5c-f2e42997daea, and path: /stelmo/nwb/analysis/molly20220420_D4JOQIRQ1D.nwb\n",
      "[2025-05-03 11:48:49,399][WARNING]: Skipped checksum for file with hash: 74b6578a-25a7-cc7c-70f4-ce23cc025240, and path: /stelmo/nwb/analysis/molly20220420/molly20220420_Z3IWT36R8S.nwb\n",
      "03-May-25 11:48:49 Skipped checksum for file with hash: 74b6578a-25a7-cc7c-70f4-ce23cc025240, and path: /stelmo/nwb/analysis/molly20220420/molly20220420_Z3IWT36R8S.nwb\n",
      "[2025-05-03 11:48:49,419][WARNING]: Skipped checksum for file with hash: 5c3205aa-4321-3ffe-0e5c-f2e42997daea, and path: /stelmo/nwb/analysis/molly20220420_D4JOQIRQ1D.nwb\n",
      "03-May-25 11:48:49 Skipped checksum for file with hash: 5c3205aa-4321-3ffe-0e5c-f2e42997daea, and path: /stelmo/nwb/analysis/molly20220420_D4JOQIRQ1D.nwb\n",
      "[2025-05-03 11:48:49,425][WARNING]: Skipped checksum for file with hash: 5c3205aa-4321-3ffe-0e5c-f2e42997daea, and path: /stelmo/nwb/analysis/molly20220420_D4JOQIRQ1D.nwb\n",
      "03-May-25 11:48:49 Skipped checksum for file with hash: 5c3205aa-4321-3ffe-0e5c-f2e42997daea, and path: /stelmo/nwb/analysis/molly20220420_D4JOQIRQ1D.nwb\n",
      "[2025-05-03 11:48:49,438][WARNING]: Skipped checksum for file with hash: 74b6578a-25a7-cc7c-70f4-ce23cc025240, and path: /stelmo/nwb/analysis/molly20220420/molly20220420_Z3IWT36R8S.nwb\n",
      "03-May-25 11:48:49 Skipped checksum for file with hash: 74b6578a-25a7-cc7c-70f4-ce23cc025240, and path: /stelmo/nwb/analysis/molly20220420/molly20220420_Z3IWT36R8S.nwb\n",
      "[2025-05-03 11:48:49,444][WARNING]: Skipped checksum for file with hash: 74b6578a-25a7-cc7c-70f4-ce23cc025240, and path: /stelmo/nwb/analysis/molly20220420/molly20220420_Z3IWT36R8S.nwb\n",
      "03-May-25 11:48:49 Skipped checksum for file with hash: 74b6578a-25a7-cc7c-70f4-ce23cc025240, and path: /stelmo/nwb/analysis/molly20220420/molly20220420_Z3IWT36R8S.nwb\n",
      "/home/shijiegu/anaconda3/envs/spyglass/lib/python3.10/site-packages/hdmf/spec/namespace.py:535: UserWarning: Ignoring cached namespace 'hdmf-common' version 1.5.1 because version 1.8.0 is already loaded.\n",
      "  warn(\"Ignoring cached namespace '%s' version %s because version %s is already loaded.\"\n",
      "/home/shijiegu/anaconda3/envs/spyglass/lib/python3.10/site-packages/hdmf/spec/namespace.py:535: UserWarning: Ignoring cached namespace 'core' version 2.4.0 because version 2.7.0 is already loaded.\n",
      "  warn(\"Ignoring cached namespace '%s' version %s because version %s is already loaded.\"\n",
      "/home/shijiegu/anaconda3/envs/spyglass/lib/python3.10/site-packages/hdmf/spec/namespace.py:535: UserWarning: Ignoring cached namespace 'hdmf-experimental' version 0.2.0 because version 0.5.0 is already loaded.\n",
      "  warn(\"Ignoring cached namespace '%s' version %s because version %s is already loaded.\"\n",
      "/home/shijiegu/anaconda3/envs/spyglass/lib/python3.10/site-packages/hdmf/spec/namespace.py:535: UserWarning: Ignoring cached namespace 'ndx-franklab-novela' version 0.1.0 because version 0.2.0 is already loaded.\n",
      "  warn(\"Ignoring cached namespace '%s' version %s because version %s is already loaded.\"\n",
      "/home/shijiegu/anaconda3/envs/spyglass/lib/python3.10/site-packages/hdmf/spec/namespace.py:535: UserWarning: Ignoring cached namespace 'core' version 2.6.0-alpha because version 2.7.0 is already loaded.\n",
      "  warn(\"Ignoring cached namespace '%s' version %s because version %s is already loaded.\"\n",
      "/home/shijiegu/anaconda3/envs/spyglass/lib/python3.10/site-packages/hdmf/spec/namespace.py:535: UserWarning: Ignoring cached namespace 'ndx-franklab-novela' version 0.1.0 because version 0.2.0 is already loaded.\n",
      "  warn(\"Ignoring cached namespace '%s' version %s because version %s is already loaded.\"\n",
      "[2025-05-03 11:49:09,019][WARNING]: Skipped checksum for file with hash: ab92c888-f02d-5515-71ae-d4ea05175dc8, and path: /stelmo/nwb/analysis/molly20220420/molly20220420_1B5FKAGGB9.nwb\n",
      "03-May-25 11:49:09 Skipped checksum for file with hash: ab92c888-f02d-5515-71ae-d4ea05175dc8, and path: /stelmo/nwb/analysis/molly20220420/molly20220420_1B5FKAGGB9.nwb\n",
      "[2025-05-03 11:49:09,043][WARNING]: Skipped checksum for file with hash: ab92c888-f02d-5515-71ae-d4ea05175dc8, and path: /stelmo/nwb/analysis/molly20220420/molly20220420_1B5FKAGGB9.nwb\n",
      "03-May-25 11:49:09 Skipped checksum for file with hash: ab92c888-f02d-5515-71ae-d4ea05175dc8, and path: /stelmo/nwb/analysis/molly20220420/molly20220420_1B5FKAGGB9.nwb\n",
      "[2025-05-03 11:49:09,051][WARNING]: Skipped checksum for file with hash: ab92c888-f02d-5515-71ae-d4ea05175dc8, and path: /stelmo/nwb/analysis/molly20220420/molly20220420_1B5FKAGGB9.nwb\n",
      "03-May-25 11:49:09 Skipped checksum for file with hash: ab92c888-f02d-5515-71ae-d4ea05175dc8, and path: /stelmo/nwb/analysis/molly20220420/molly20220420_1B5FKAGGB9.nwb\n",
      "[2025-05-03 11:49:33,898][WARNING]: Skipped checksum for file with hash: f0bf5b44-49a7-dbf4-0b76-c9bde35f8bbd, and path: /stelmo/nwb/analysis/molly20220420/molly20220420_N7YYB8RRRU.nwb\n",
      "03-May-25 11:49:33 Skipped checksum for file with hash: f0bf5b44-49a7-dbf4-0b76-c9bde35f8bbd, and path: /stelmo/nwb/analysis/molly20220420/molly20220420_N7YYB8RRRU.nwb\n",
      "[2025-05-03 11:49:33,920][WARNING]: Skipped checksum for file with hash: f0bf5b44-49a7-dbf4-0b76-c9bde35f8bbd, and path: /stelmo/nwb/analysis/molly20220420/molly20220420_N7YYB8RRRU.nwb\n",
      "03-May-25 11:49:33 Skipped checksum for file with hash: f0bf5b44-49a7-dbf4-0b76-c9bde35f8bbd, and path: /stelmo/nwb/analysis/molly20220420/molly20220420_N7YYB8RRRU.nwb\n",
      "[2025-05-03 11:49:33,926][WARNING]: Skipped checksum for file with hash: f0bf5b44-49a7-dbf4-0b76-c9bde35f8bbd, and path: /stelmo/nwb/analysis/molly20220420/molly20220420_N7YYB8RRRU.nwb\n",
      "03-May-25 11:49:33 Skipped checksum for file with hash: f0bf5b44-49a7-dbf4-0b76-c9bde35f8bbd, and path: /stelmo/nwb/analysis/molly20220420/molly20220420_N7YYB8RRRU.nwb\n",
      "/home/shijiegu/anaconda3/envs/spyglass/lib/python3.10/site-packages/hdmf/spec/namespace.py:535: UserWarning: Ignoring cached namespace 'core' version 2.6.0-alpha because version 2.7.0 is already loaded.\n",
      "  warn(\"Ignoring cached namespace '%s' version %s because version %s is already loaded.\"\n",
      "/home/shijiegu/anaconda3/envs/spyglass/lib/python3.10/site-packages/hdmf/spec/namespace.py:535: UserWarning: Ignoring cached namespace 'ndx-franklab-novela' version 0.1.0 because version 0.2.0 is already loaded.\n",
      "  warn(\"Ignoring cached namespace '%s' version %s because version %s is already loaded.\"\n",
      "/home/shijiegu/anaconda3/envs/spyglass/lib/python3.10/site-packages/hdmf/spec/namespace.py:535: UserWarning: Ignoring cached namespace 'core' version 2.6.0-alpha because version 2.7.0 is already loaded.\n",
      "  warn(\"Ignoring cached namespace '%s' version %s because version %s is already loaded.\"\n",
      "/home/shijiegu/anaconda3/envs/spyglass/lib/python3.10/site-packages/hdmf/spec/namespace.py:535: UserWarning: Ignoring cached namespace 'ndx-franklab-novela' version 0.1.0 because version 0.2.0 is already loaded.\n",
      "  warn(\"Ignoring cached namespace '%s' version %s because version %s is already loaded.\"\n",
      "/home/shijiegu/anaconda3/envs/spyglass/lib/python3.10/site-packages/spikeinterface/core/base.py:1038: UserWarning: Versions are not the same. This might lead to compatibility errors. Using spikeinterface==0.98.2 is recommended\n",
      "  warnings.warn(\n",
      "/home/shijiegu/anaconda3/envs/spyglass/lib/python3.10/site-packages/spikeinterface/core/base.py:1038: UserWarning: Versions are not the same. This might lead to compatibility errors. Using spikeinterface==0.98.2 is recommended\n",
      "  warnings.warn(\n"
     ]
    },
    {
     "name": "stdout",
     "output_type": "stream",
     "text": [
      "Done parsing. Insert into Spyglass\n"
     ]
    },
    {
     "name": "stderr",
     "output_type": "stream",
     "text": [
      "[11:54:14][WARNING] Spyglass: Deprecation: this class has been moved out of spyglass.common.common_position\n",
      "\tTrackGraph -> spyglass.linearization.v0.main.TrackGraph\n",
      "Please use the new location.\n",
      "03-May-25 11:54:14 Deprecation: this class has been moved out of spyglass.common.common_position\n",
      "\tTrackGraph -> spyglass.linearization.v0.main.TrackGraph\n",
      "Please use the new location.\n"
     ]
    },
    {
     "name": "stdout",
     "output_type": "stream",
     "text": [
      "epoch name 12_Seq2Session6\n",
      "epoch name 12_Seq2Session6\n",
      "epoch_pos_name pos 11 valid times\n"
     ]
    },
    {
     "name": "stderr",
     "output_type": "stream",
     "text": [
      "[2025-05-03 11:54:14,831][WARNING]: Skipped checksum for file with hash: 5483fbb3-1135-4c90-93da-5afa00407b02, and path: /stelmo/nwb/analysis/molly20220420_MALO38IAP2.nwb\n",
      "03-May-25 11:54:14 Skipped checksum for file with hash: 5483fbb3-1135-4c90-93da-5afa00407b02, and path: /stelmo/nwb/analysis/molly20220420_MALO38IAP2.nwb\n",
      "[2025-05-03 11:54:14,856][WARNING]: Skipped checksum for file with hash: 5483fbb3-1135-4c90-93da-5afa00407b02, and path: /stelmo/nwb/analysis/molly20220420_MALO38IAP2.nwb\n",
      "03-May-25 11:54:14 Skipped checksum for file with hash: 5483fbb3-1135-4c90-93da-5afa00407b02, and path: /stelmo/nwb/analysis/molly20220420_MALO38IAP2.nwb\n",
      "[2025-05-03 11:54:14,864][WARNING]: Skipped checksum for file with hash: 5483fbb3-1135-4c90-93da-5afa00407b02, and path: /stelmo/nwb/analysis/molly20220420_MALO38IAP2.nwb\n",
      "03-May-25 11:54:14 Skipped checksum for file with hash: 5483fbb3-1135-4c90-93da-5afa00407b02, and path: /stelmo/nwb/analysis/molly20220420_MALO38IAP2.nwb\n",
      "/home/shijiegu/anaconda3/envs/spyglass/lib/python3.10/site-packages/hdmf/spec/namespace.py:535: UserWarning: Ignoring cached namespace 'hdmf-common' version 1.5.1 because version 1.8.0 is already loaded.\n",
      "  warn(\"Ignoring cached namespace '%s' version %s because version %s is already loaded.\"\n",
      "/home/shijiegu/anaconda3/envs/spyglass/lib/python3.10/site-packages/hdmf/spec/namespace.py:535: UserWarning: Ignoring cached namespace 'core' version 2.4.0 because version 2.7.0 is already loaded.\n",
      "  warn(\"Ignoring cached namespace '%s' version %s because version %s is already loaded.\"\n",
      "/home/shijiegu/anaconda3/envs/spyglass/lib/python3.10/site-packages/hdmf/spec/namespace.py:535: UserWarning: Ignoring cached namespace 'hdmf-experimental' version 0.2.0 because version 0.5.0 is already loaded.\n",
      "  warn(\"Ignoring cached namespace '%s' version %s because version %s is already loaded.\"\n",
      "/home/shijiegu/anaconda3/envs/spyglass/lib/python3.10/site-packages/hdmf/spec/namespace.py:535: UserWarning: Ignoring cached namespace 'ndx-franklab-novela' version 0.1.0 because version 0.2.0 is already loaded.\n",
      "  warn(\"Ignoring cached namespace '%s' version %s because version %s is already loaded.\"\n",
      "[2025-05-03 11:54:24,359][WARNING]: Skipped checksum for file with hash: bb0bf25a-0ee9-3e11-5497-7e9e864f9b81, and path: /stelmo/nwb/analysis/molly20220420_BHXQSOPEUG.nwb\n",
      "03-May-25 11:54:24 Skipped checksum for file with hash: bb0bf25a-0ee9-3e11-5497-7e9e864f9b81, and path: /stelmo/nwb/analysis/molly20220420_BHXQSOPEUG.nwb\n",
      "[2025-05-03 11:54:24,378][WARNING]: Skipped checksum for file with hash: d2584c01-f25c-2bfa-6ec7-147e57ec5866, and path: /stelmo/nwb/analysis/molly20220420/molly20220420_9D5JMBNKM6.nwb\n",
      "03-May-25 11:54:24 Skipped checksum for file with hash: d2584c01-f25c-2bfa-6ec7-147e57ec5866, and path: /stelmo/nwb/analysis/molly20220420/molly20220420_9D5JMBNKM6.nwb\n",
      "[2025-05-03 11:54:24,399][WARNING]: Skipped checksum for file with hash: bb0bf25a-0ee9-3e11-5497-7e9e864f9b81, and path: /stelmo/nwb/analysis/molly20220420_BHXQSOPEUG.nwb\n",
      "03-May-25 11:54:24 Skipped checksum for file with hash: bb0bf25a-0ee9-3e11-5497-7e9e864f9b81, and path: /stelmo/nwb/analysis/molly20220420_BHXQSOPEUG.nwb\n",
      "[2025-05-03 11:54:24,406][WARNING]: Skipped checksum for file with hash: bb0bf25a-0ee9-3e11-5497-7e9e864f9b81, and path: /stelmo/nwb/analysis/molly20220420_BHXQSOPEUG.nwb\n",
      "03-May-25 11:54:24 Skipped checksum for file with hash: bb0bf25a-0ee9-3e11-5497-7e9e864f9b81, and path: /stelmo/nwb/analysis/molly20220420_BHXQSOPEUG.nwb\n",
      "[2025-05-03 11:54:24,422][WARNING]: Skipped checksum for file with hash: d2584c01-f25c-2bfa-6ec7-147e57ec5866, and path: /stelmo/nwb/analysis/molly20220420/molly20220420_9D5JMBNKM6.nwb\n",
      "03-May-25 11:54:24 Skipped checksum for file with hash: d2584c01-f25c-2bfa-6ec7-147e57ec5866, and path: /stelmo/nwb/analysis/molly20220420/molly20220420_9D5JMBNKM6.nwb\n",
      "[2025-05-03 11:54:24,430][WARNING]: Skipped checksum for file with hash: d2584c01-f25c-2bfa-6ec7-147e57ec5866, and path: /stelmo/nwb/analysis/molly20220420/molly20220420_9D5JMBNKM6.nwb\n",
      "03-May-25 11:54:24 Skipped checksum for file with hash: d2584c01-f25c-2bfa-6ec7-147e57ec5866, and path: /stelmo/nwb/analysis/molly20220420/molly20220420_9D5JMBNKM6.nwb\n",
      "/home/shijiegu/anaconda3/envs/spyglass/lib/python3.10/site-packages/hdmf/spec/namespace.py:535: UserWarning: Ignoring cached namespace 'hdmf-common' version 1.5.1 because version 1.8.0 is already loaded.\n",
      "  warn(\"Ignoring cached namespace '%s' version %s because version %s is already loaded.\"\n",
      "/home/shijiegu/anaconda3/envs/spyglass/lib/python3.10/site-packages/hdmf/spec/namespace.py:535: UserWarning: Ignoring cached namespace 'core' version 2.4.0 because version 2.7.0 is already loaded.\n",
      "  warn(\"Ignoring cached namespace '%s' version %s because version %s is already loaded.\"\n",
      "/home/shijiegu/anaconda3/envs/spyglass/lib/python3.10/site-packages/hdmf/spec/namespace.py:535: UserWarning: Ignoring cached namespace 'hdmf-experimental' version 0.2.0 because version 0.5.0 is already loaded.\n",
      "  warn(\"Ignoring cached namespace '%s' version %s because version %s is already loaded.\"\n",
      "/home/shijiegu/anaconda3/envs/spyglass/lib/python3.10/site-packages/hdmf/spec/namespace.py:535: UserWarning: Ignoring cached namespace 'ndx-franklab-novela' version 0.1.0 because version 0.2.0 is already loaded.\n",
      "  warn(\"Ignoring cached namespace '%s' version %s because version %s is already loaded.\"\n",
      "/home/shijiegu/anaconda3/envs/spyglass/lib/python3.10/site-packages/hdmf/spec/namespace.py:535: UserWarning: Ignoring cached namespace 'core' version 2.6.0-alpha because version 2.7.0 is already loaded.\n",
      "  warn(\"Ignoring cached namespace '%s' version %s because version %s is already loaded.\"\n",
      "/home/shijiegu/anaconda3/envs/spyglass/lib/python3.10/site-packages/hdmf/spec/namespace.py:535: UserWarning: Ignoring cached namespace 'ndx-franklab-novela' version 0.1.0 because version 0.2.0 is already loaded.\n",
      "  warn(\"Ignoring cached namespace '%s' version %s because version %s is already loaded.\"\n",
      "[2025-05-03 11:54:44,412][WARNING]: Skipped checksum for file with hash: ab92c888-f02d-5515-71ae-d4ea05175dc8, and path: /stelmo/nwb/analysis/molly20220420/molly20220420_1B5FKAGGB9.nwb\n",
      "03-May-25 11:54:44 Skipped checksum for file with hash: ab92c888-f02d-5515-71ae-d4ea05175dc8, and path: /stelmo/nwb/analysis/molly20220420/molly20220420_1B5FKAGGB9.nwb\n",
      "[2025-05-03 11:54:44,438][WARNING]: Skipped checksum for file with hash: ab92c888-f02d-5515-71ae-d4ea05175dc8, and path: /stelmo/nwb/analysis/molly20220420/molly20220420_1B5FKAGGB9.nwb\n",
      "03-May-25 11:54:44 Skipped checksum for file with hash: ab92c888-f02d-5515-71ae-d4ea05175dc8, and path: /stelmo/nwb/analysis/molly20220420/molly20220420_1B5FKAGGB9.nwb\n",
      "[2025-05-03 11:54:44,445][WARNING]: Skipped checksum for file with hash: ab92c888-f02d-5515-71ae-d4ea05175dc8, and path: /stelmo/nwb/analysis/molly20220420/molly20220420_1B5FKAGGB9.nwb\n",
      "03-May-25 11:54:44 Skipped checksum for file with hash: ab92c888-f02d-5515-71ae-d4ea05175dc8, and path: /stelmo/nwb/analysis/molly20220420/molly20220420_1B5FKAGGB9.nwb\n",
      "[2025-05-03 11:55:09,404][WARNING]: Skipped checksum for file with hash: 640b7b96-ff1c-45bb-6722-5ef78f59a531, and path: /stelmo/nwb/analysis/molly20220420/molly20220420_Y53PKXYQSV.nwb\n",
      "03-May-25 11:55:09 Skipped checksum for file with hash: 640b7b96-ff1c-45bb-6722-5ef78f59a531, and path: /stelmo/nwb/analysis/molly20220420/molly20220420_Y53PKXYQSV.nwb\n",
      "[2025-05-03 11:55:09,424][WARNING]: Skipped checksum for file with hash: 640b7b96-ff1c-45bb-6722-5ef78f59a531, and path: /stelmo/nwb/analysis/molly20220420/molly20220420_Y53PKXYQSV.nwb\n",
      "03-May-25 11:55:09 Skipped checksum for file with hash: 640b7b96-ff1c-45bb-6722-5ef78f59a531, and path: /stelmo/nwb/analysis/molly20220420/molly20220420_Y53PKXYQSV.nwb\n",
      "[2025-05-03 11:55:09,431][WARNING]: Skipped checksum for file with hash: 640b7b96-ff1c-45bb-6722-5ef78f59a531, and path: /stelmo/nwb/analysis/molly20220420/molly20220420_Y53PKXYQSV.nwb\n",
      "03-May-25 11:55:09 Skipped checksum for file with hash: 640b7b96-ff1c-45bb-6722-5ef78f59a531, and path: /stelmo/nwb/analysis/molly20220420/molly20220420_Y53PKXYQSV.nwb\n",
      "/home/shijiegu/anaconda3/envs/spyglass/lib/python3.10/site-packages/hdmf/spec/namespace.py:535: UserWarning: Ignoring cached namespace 'core' version 2.6.0-alpha because version 2.7.0 is already loaded.\n",
      "  warn(\"Ignoring cached namespace '%s' version %s because version %s is already loaded.\"\n",
      "/home/shijiegu/anaconda3/envs/spyglass/lib/python3.10/site-packages/hdmf/spec/namespace.py:535: UserWarning: Ignoring cached namespace 'ndx-franklab-novela' version 0.1.0 because version 0.2.0 is already loaded.\n",
      "  warn(\"Ignoring cached namespace '%s' version %s because version %s is already loaded.\"\n",
      "/home/shijiegu/anaconda3/envs/spyglass/lib/python3.10/site-packages/hdmf/spec/namespace.py:535: UserWarning: Ignoring cached namespace 'core' version 2.6.0-alpha because version 2.7.0 is already loaded.\n",
      "  warn(\"Ignoring cached namespace '%s' version %s because version %s is already loaded.\"\n",
      "/home/shijiegu/anaconda3/envs/spyglass/lib/python3.10/site-packages/hdmf/spec/namespace.py:535: UserWarning: Ignoring cached namespace 'ndx-franklab-novela' version 0.1.0 because version 0.2.0 is already loaded.\n",
      "  warn(\"Ignoring cached namespace '%s' version %s because version %s is already loaded.\"\n",
      "/home/shijiegu/anaconda3/envs/spyglass/lib/python3.10/site-packages/spikeinterface/core/base.py:1038: UserWarning: Versions are not the same. This might lead to compatibility errors. Using spikeinterface==0.98.2 is recommended\n",
      "  warnings.warn(\n",
      "/home/shijiegu/anaconda3/envs/spyglass/lib/python3.10/site-packages/spikeinterface/core/base.py:1038: UserWarning: Versions are not the same. This might lead to compatibility errors. Using spikeinterface==0.98.2 is recommended\n",
      "  warnings.warn(\n"
     ]
    },
    {
     "name": "stdout",
     "output_type": "stream",
     "text": [
      "Done parsing. Insert into Spyglass\n"
     ]
    }
   ],
   "source": [
    "animal = 'Molly'\n",
    "dates_to_plot = ['20220416','20220417','20220418','20220419','20220420']\n",
    "\n",
    "encoding_set = '2Dheadspeed_above_4'\n",
    "decode_threshold_method = 'MUA_05SD'\n",
    "\n",
    "for d in dates_to_plot:\n",
    "    nwb_file_name = animal.lower() + d + '.nwb'\n",
    "    nwb_copy_file_name = animal.lower() + d + '_.nwb'\n",
    "    #run_session_ids, run_session_names, pos_session_names = load_run_sessions(nwb_copy_file_name)\n",
    "\n",
    "    all_epochs = list((TrialChoice() & {'nwb_file_name':nwb_copy_file_name}).fetch('epoch'))\n",
    "    for epoch_num in all_epochs:\n",
    "        (epoch_name,log_df,ripple_times,decode,\n",
    "         head_speed,head_orientation,linear_position_df,\n",
    "         lfp_df,theta_df,ripple_df,neural_df,mua_df) = replay_parser_master(nwb_file_name,epoch_num,\n",
    "                                                                            encoding_set = encoding_set,\n",
    "                                                                            decode_threshold_method = decode_threshold_method,\n",
    "                                                                            extended = False)\n",
    "    "
   ]
  },
  {
   "cell_type": "code",
   "execution_count": 70,
   "id": "0dc51c78-d6a8-42af-b4c8-02bc9c212873",
   "metadata": {},
   "outputs": [
    {
     "name": "stdout",
     "output_type": "stream",
     "text": [
      "> \u001b[0;32m/home/shijiegu/anaconda3/envs/spyglass/lib/python3.10/site-packages/datajoint/fetch.py\u001b[0m(310)\u001b[0;36m__call__\u001b[0;34m()\u001b[0m\n",
      "\u001b[0;32m    308 \u001b[0;31m            \u001b[0mret\u001b[0m \u001b[0;34m=\u001b[0m \u001b[0mcur\u001b[0m\u001b[0;34m.\u001b[0m\u001b[0mfetchone\u001b[0m\u001b[0;34m(\u001b[0m\u001b[0;34m)\u001b[0m\u001b[0;34m\u001b[0m\u001b[0;34m\u001b[0m\u001b[0m\n",
      "\u001b[0m\u001b[0;32m    309 \u001b[0;31m            \u001b[0;32mif\u001b[0m \u001b[0;32mnot\u001b[0m \u001b[0mret\u001b[0m \u001b[0;32mor\u001b[0m \u001b[0mcur\u001b[0m\u001b[0;34m.\u001b[0m\u001b[0mfetchone\u001b[0m\u001b[0;34m(\u001b[0m\u001b[0;34m)\u001b[0m\u001b[0;34m:\u001b[0m\u001b[0;34m\u001b[0m\u001b[0;34m\u001b[0m\u001b[0m\n",
      "\u001b[0m\u001b[0;32m--> 310 \u001b[0;31m                raise DataJointError(\n",
      "\u001b[0m\u001b[0;32m    311 \u001b[0;31m                    \u001b[0;34m\"fetch1 requires exactly one tuple in the input set.\"\u001b[0m\u001b[0;34m\u001b[0m\u001b[0;34m\u001b[0m\u001b[0m\n",
      "\u001b[0m\u001b[0;32m    312 \u001b[0;31m                )\n",
      "\u001b[0m\n"
     ]
    },
    {
     "name": "stdin",
     "output_type": "stream",
     "text": [
      "ipdb>  u\n"
     ]
    },
    {
     "name": "stdout",
     "output_type": "stream",
     "text": [
      "> \u001b[0;32m/home/shijiegu/Documents/spyglass/src/spyglass/shijiegu/ripple_add_replay.py\u001b[0m(37)\u001b[0;36mreplay_parser_master\u001b[0;34m()\u001b[0m\n",
      "\u001b[0;32m     35 \u001b[0;31m    \u001b[0mnwb_copy_file_name\u001b[0m \u001b[0;34m=\u001b[0m \u001b[0mget_nwb_copy_filename\u001b[0m\u001b[0;34m(\u001b[0m\u001b[0mnwb_file_name\u001b[0m\u001b[0;34m)\u001b[0m\u001b[0;34m\u001b[0m\u001b[0;34m\u001b[0m\u001b[0m\n",
      "\u001b[0m\u001b[0;32m     36 \u001b[0;31m    \u001b[0;31m# 1. Load state script\u001b[0m\u001b[0;34m\u001b[0m\u001b[0;34m\u001b[0m\u001b[0m\n",
      "\u001b[0m\u001b[0;32m---> 37 \u001b[0;31m    \u001b[0mkey\u001b[0m \u001b[0;34m=\u001b[0m \u001b[0;34m(\u001b[0m\u001b[0mEpochPos\u001b[0m \u001b[0;34m&\u001b[0m \u001b[0;34m{\u001b[0m\u001b[0;34m'nwb_file_name'\u001b[0m\u001b[0;34m:\u001b[0m\u001b[0mnwb_copy_file_name\u001b[0m\u001b[0;34m,\u001b[0m\u001b[0;34m'epoch'\u001b[0m\u001b[0;34m:\u001b[0m\u001b[0mepoch_num\u001b[0m\u001b[0;34m}\u001b[0m\u001b[0;34m)\u001b[0m\u001b[0;34m.\u001b[0m\u001b[0mfetch1\u001b[0m\u001b[0;34m(\u001b[0m\u001b[0;34m)\u001b[0m\u001b[0;34m\u001b[0m\u001b[0;34m\u001b[0m\u001b[0m\n",
      "\u001b[0m\u001b[0;32m     38 \u001b[0;31m    \u001b[0mepoch_name\u001b[0m \u001b[0;34m=\u001b[0m \u001b[0mkey\u001b[0m\u001b[0;34m[\u001b[0m\u001b[0;34m'epoch_name'\u001b[0m\u001b[0;34m]\u001b[0m\u001b[0;34m\u001b[0m\u001b[0;34m\u001b[0m\u001b[0m\n",
      "\u001b[0m\u001b[0;32m     39 \u001b[0;31m    \u001b[0mposition_interval\u001b[0m \u001b[0;34m=\u001b[0m \u001b[0mkey\u001b[0m\u001b[0;34m[\u001b[0m\u001b[0;34m'position_interval'\u001b[0m\u001b[0;34m]\u001b[0m\u001b[0;34m\u001b[0m\u001b[0;34m\u001b[0m\u001b[0m\n",
      "\u001b[0m\n"
     ]
    },
    {
     "name": "stdin",
     "output_type": "stream",
     "text": [
      "ipdb>  key\n"
     ]
    },
    {
     "name": "stdout",
     "output_type": "stream",
     "text": [
      "*** NameError: name 'key' is not defined\n"
     ]
    },
    {
     "name": "stdin",
     "output_type": "stream",
     "text": [
      "ipdb>  epoch_num\n"
     ]
    },
    {
     "name": "stdout",
     "output_type": "stream",
     "text": [
      "2\n"
     ]
    },
    {
     "name": "stdin",
     "output_type": "stream",
     "text": [
      "ipdb>  EpochPos & {'nwb_file_name':nwb_copy_file_name,'epoch':epoch_num}\n"
     ]
    },
    {
     "name": "stdout",
     "output_type": "stream",
     "text": [
      "*nwb_file_name *epoch    epoch_name     position_inter\n",
      "+------------+ +-------+ +------------+ +------------+\n",
      "\n",
      " (Total: 0)\n",
      "\n"
     ]
    },
    {
     "name": "stdin",
     "output_type": "stream",
     "text": [
      "ipdb>  EpochPos & {'nwb_file_name':nwb_copy_file_name}\n"
     ]
    },
    {
     "name": "stdout",
     "output_type": "stream",
     "text": [
      "*nwb_file_name *epoch    epoch_name     position_inter\n",
      "+------------+ +-------+ +------------+ +------------+\n",
      "\n",
      " (Total: 0)\n",
      "\n"
     ]
    },
    {
     "name": "stdin",
     "output_type": "stream",
     "text": [
      "ipdb>  exit\n"
     ]
    }
   ],
   "source": [
    "%debug"
   ]
  },
  {
   "cell_type": "code",
   "execution_count": null,
   "id": "a86408f0-ec76-441e-adc0-ee3cd1ad4f75",
   "metadata": {},
   "outputs": [],
   "source": []
  },
  {
   "cell_type": "code",
   "execution_count": null,
   "id": "cf83fc9c-0972-4beb-bbe1-d5e61378c2bf",
   "metadata": {},
   "outputs": [],
   "source": []
  },
  {
   "cell_type": "markdown",
   "id": "b1068f19-16e5-487f-b37f-5837fa0a43cb",
   "metadata": {},
   "source": [
    "#### with plots"
   ]
  },
  {
   "cell_type": "code",
   "execution_count": null,
   "id": "2981e586-ad82-40ea-9440-65f6bcef2239",
   "metadata": {
    "scrolled": true
   },
   "outputs": [
    {
     "name": "stderr",
     "output_type": "stream",
     "text": [
      "[15:56:46][WARNING] Spyglass: Deprecation: this class has been moved out of spyglass.common.common_position\n",
      "\tTrackGraph -> spyglass.linearization.v0.main.TrackGraph\n",
      "Please use the new location.\n",
      "28-Oct-24 15:56:46 Deprecation: this class has been moved out of spyglass.common.common_position\n",
      "\tTrackGraph -> spyglass.linearization.v0.main.TrackGraph\n",
      "Please use the new location.\n"
     ]
    },
    {
     "name": "stdout",
     "output_type": "stream",
     "text": [
      "epoch name 02_Rev1Session1\n",
      "epoch name 02_Rev1Session1\n",
      "epoch_pos_name pos 1 valid times\n"
     ]
    },
    {
     "name": "stderr",
     "output_type": "stream",
     "text": [
      "[2024-10-28 15:56:48,245][WARNING]: Skipped checksum for file with hash: 942f52b0-a55f-b4dd-81cd-a9d9e0712783, and path: /stelmo/nwb/analysis/lewis20240118/lewis20240118_AK43PFM89I.nwb\n",
      "28-Oct-24 15:56:48 Skipped checksum for file with hash: 942f52b0-a55f-b4dd-81cd-a9d9e0712783, and path: /stelmo/nwb/analysis/lewis20240118/lewis20240118_AK43PFM89I.nwb\n"
     ]
    }
   ],
   "source": [
    "%matplotlib agg\n",
    "all_epochs=list((TrialChoice() & {'nwb_file_name':nwb_copy_file_name}).fetch('epoch'))\n",
    "for epoch_num in all_epochs:\n",
    "    # load data\n",
    "\n",
    "    \"\"\"\n",
    "    REAL WORK ENDS HERE, THE REST IS JUST PLOTTING\n",
    "    \"\"\"\n",
    "\n",
    "    ## find tetrodes with signal\n",
    "    groups_with_cell=(SpikeSortingRecordingSelection & {\n",
    "        'nwb_file_name' : nwb_copy_file_name}).fetch('sort_group_id')\n",
    "    groups_with_cell=np.setdiff1d(groups_with_cell,[100,101])\n",
    "    channel_IDs = list(neural_df.keys())\n",
    "    \n",
    "    spikeColInd = {}\n",
    "    for g in groups_with_cell:\n",
    "        spikeColInd_ = np.argwhere(np.isin(channel_IDs,(Electrode() &  {'nwb_file_name' : nwb_copy_file_name,\n",
    "                                                     'electrode_group_name':str(g)}).fetch('electrode_id'))).ravel()\n",
    "        spikeColInd[g] = spikeColInd_\n",
    "\n",
    "    # Pre-make result directory:\n",
    "    decoding_path=(DecodeResultsLinear() & {'nwb_file_name':nwb_copy_file_name}).fetch('posterior')[0]\n",
    "    exampledir=os.path.join(os.path.split(decoding_path)[0],nwb_file_name,'SWR',epoch_name)\n",
    "    isExist = os.path.exists(exampledir)\n",
    "    if not isExist:\n",
    "        os.makedirs(exampledir)\n",
    "    savefolder = exampledir\n",
    "    print(savefolder)\n",
    "\n",
    "    mua_thresh = (MUA & {'nwb_file_name' : nwb_copy_file_name,'interval_list_name':epoch_name}).fetch1('mean')\n",
    "\n",
    "\n",
    "    for t in log_df.index[:-2]:\n",
    "        # Home\n",
    "        ripples = log_df.loc[t].ripple_H\n",
    "        ripple_table_inds = log_df.loc[t].ripple_ID_H\n",
    "\n",
    "        if not np.isnan(log_df.loc[t].timestamp_H):\n",
    "            plottimes = [log_df.loc[t].timestamp_H,log_df.loc[t].timestamp_H + 6]\n",
    "            savename = 'trial' + str(t) + '_home_' + nwb_copy_file_name[:-5] + '_' + epoch_name + '_whole_trial'\n",
    "            plot_ripples_replays(ripple_times,ripples,ripple_table_inds,\n",
    "                         linear_position_df,decode,spikeColInd,lfp_df,theta_df,\n",
    "                         neural_df,mua_df,head_speed,head_orientation,\n",
    "                         savename,savefolder,wholeTrial = 1,plottimes=plottimes,mua_thresh = mua_thresh)\n",
    "            \n",
    "        savename = 'trial' + str(t) + '_home_' + nwb_copy_file_name[:-5] + '_' + epoch_name\n",
    "        plot_ripples_replays(ripple_times,ripples,ripple_table_inds,\n",
    "                     linear_position_df,decode,spikeColInd,lfp_df,theta_df,\n",
    "                     neural_df,mua_df,head_speed,head_orientation,\n",
    "                     savename,savefolder,wholeTrial = 0,mua_thresh = mua_thresh)\n",
    "    \n",
    "        \n",
    "            \n",
    "        # Outer Well\n",
    "            \n",
    "        ripples = log_df.loc[t].ripple_O\n",
    "        ripple_table_inds = log_df.loc[t].ripple_ID_O\n",
    "\n",
    "        plottimes = [log_df.loc[t].timestamp_O,log_df.loc[t].timestamp_O + 6]\n",
    "        savename = 'trial' + str(t) + '_well_' + nwb_copy_file_name[:-5] + '_' + epoch_name + '_whole_trial'\n",
    "        plot_ripples_replays(ripple_times,ripples,ripple_table_inds,\n",
    "                     linear_position_df,decode,spikeColInd,lfp_df,theta_df,\n",
    "                     neural_df,mua_df,head_speed,head_orientation,\n",
    "                     savename,savefolder,wholeTrial = 1,plottimes=plottimes,mua_thresh = mua_thresh)\n",
    "        \n",
    "        savename = 'trial' + str(t) + '_well_' + nwb_copy_file_name[:-5] + '_' + epoch_name\n",
    "        plot_ripples_replays(ripple_times,ripples,ripple_table_inds,\n",
    "                     linear_position_df,decode,spikeColInd,lfp_df,theta_df,\n",
    "                     neural_df,mua_df,head_speed,head_orientation,\n",
    "                     savename,savefolder,wholeTrial = 0,mua_thresh = mua_thresh)\n",
    "    \n",
    "        "
   ]
  },
  {
   "cell_type": "code",
   "execution_count": null,
   "id": "e09432c1-64e8-4ac9-ab50-4fe9eac6c914",
   "metadata": {},
   "outputs": [],
   "source": []
  },
  {
   "cell_type": "code",
   "execution_count": null,
   "id": "f7c0d9f6-afb2-4fbe-b6c6-81d7cc42acef",
   "metadata": {},
   "outputs": [],
   "source": []
  },
  {
   "cell_type": "code",
   "execution_count": 135,
   "id": "3d2ef523-2575-4966-a1ed-785d22742557",
   "metadata": {},
   "outputs": [
    {
     "data": {
      "text/plain": [
       "array([  0,  14,  26,  46,  54,  66,  70,  95, 103, 107, 119, 124])"
      ]
     },
     "execution_count": 135,
     "metadata": {},
     "output_type": "execute_result"
    }
   ],
   "source": [
    "((TetrodeNumber() & {'nwb_file_name': nwb_copy_file_name,\"epoch_name\":\"02_Rev2Session1\"})).fetch1(\"ca1_tetrode_ind\")"
   ]
  },
  {
   "cell_type": "markdown",
   "id": "e5668d6c-e80c-4841-a23c-53d6214e90cf",
   "metadata": {},
   "source": [
    "## Ends here"
   ]
  },
  {
   "cell_type": "code",
   "execution_count": null,
   "id": "73f8bbb0-bee6-4f9b-a30b-9fa0909ca04a",
   "metadata": {},
   "outputs": [],
   "source": [
    "\"\"\"\n",
    "IMPORTANT!!!! RUN THIS FUNCTION EVERY TIME AFTER A NEW SESSION\n",
    "USE OF GLOBAL VAR\n",
    "\"\"\"\n",
    "\n",
    "## find tetrodes with signal\n",
    "groups_with_cell=(SpikeSortingRecordingSelection & {\n",
    "    'nwb_file_name' : nwb_copy_file_name}).fetch('sort_group_id')\n",
    "groups_with_cell=np.setdiff1d(groups_with_cell,[100,101])\n",
    "channel_IDs = list(neural_df.keys())\n",
    "\n",
    "spikeColInd = {}\n",
    "for g in groups_with_cell:\n",
    "    spikeColInd_ = np.argwhere(np.isin(channel_IDs,(Electrode() &  {'nwb_file_name' : nwb_copy_file_name,\n",
    "                                                 'electrode_group_name':str(g)}).fetch('electrode_id'))).ravel()\n",
    "    spikeColInd[g] = spikeColInd_"
   ]
  },
  {
   "cell_type": "code",
   "execution_count": null,
   "id": "d94e326f-0554-46f9-940a-2d540c5e66cb",
   "metadata": {},
   "outputs": [],
   "source": [
    "spikeColInd"
   ]
  },
  {
   "cell_type": "code",
   "execution_count": null,
   "id": "222b6384-9174-4f14-81fc-9f7ffd75e592",
   "metadata": {},
   "outputs": [],
   "source": [
    "(epoch_name,log_df,decode,head_speed,head_orientation,linear_position_df,\n",
    "        lfp_df,theta_df,ripple_df,neural_df,mua_df) = load_epoch_data(nwb_copy_file_name,epoch_num)\n",
    "ripple_times = pd.DataFrame((RippleTimes() & {'nwb_file_name': nwb_copy_file_name,\n",
    "                                              'interval_list_name': epoch_name}).fetch1('ripple_times'))"
   ]
  },
  {
   "cell_type": "code",
   "execution_count": null,
   "id": "002fcaa5-7cec-4cde-815f-1d0d028cb791",
   "metadata": {},
   "outputs": [],
   "source": [
    "\"\"\"\n",
    "IMPORTANT!!!! RUN THIS FUNCTION EVERY TIME AFTER A NEW SESSION\n",
    "USE OF GLOBAL VAR\n",
    "\"\"\"\n",
    "\n",
    "def plot_ripples(ripples,ripple_table_inds,save_name,wholeTrial = 1):\n",
    "    \n",
    "    ripples = [r for r in ripples if len(r)>0]\n",
    "    for ripple_ind in range(len(ripples)):\n",
    "        t0t1 = np.vstack(ripples) #all possible shadings, just np.vstack(ripples), remove empty segments\n",
    "        ripple_table_ind = ripple_table_inds[ripple_ind]\n",
    "        \n",
    "        if wholeTrial:\n",
    "            plottimes = [t0t1.ravel()[0]-1,t0t1.ravel()[-1]+1]\n",
    "            title = f\"{save_name} all ripples\"\n",
    "            savename = save_name\n",
    "        else:\n",
    "            savename = save_name + str(ripple_table_ind)\n",
    "            current_t0t1 = ripples[ripple_ind]\n",
    "            plottimes = [current_t0t1.ravel()[0]-1,current_t0t1.ravel()[-1]+1]\n",
    "    \n",
    "            duration = int(ripple_times.loc[ripple_table_ind].duration * 1000)\n",
    "            max_zscore = round(ripple_times.loc[ripple_table_ind].max_zscore,2)\n",
    "            title = f\"{savename} \\n duration: {duration} ms, max_zscore: {max_zscore}\"\n",
    "            title += '\\n Decoded arms:' + str(ripple_times.loc[ripple_table_ind].cont_intvl_replay)\n",
    "    \n",
    "        plot_decode_spiking(plottimes,t0t1,linear_position_df,decode,lfp_df,theta_df,\n",
    "              neural_df,mua_df,ripple_df,head_speed,head_orientation,\n",
    "              ripple_consensus_trace=None,\n",
    "              title=title,savefolder=savefolder,savename=savename,\n",
    "              simple=True,tetrode2ind = spikeColInd)\n",
    "        if wholeTrial:\n",
    "            break\n",
    "    "
   ]
  },
  {
   "cell_type": "code",
   "execution_count": null,
   "id": "f1977539-bb42-4e7a-81cf-9007cdf737e4",
   "metadata": {},
   "outputs": [],
   "source": [
    "# Pre-make result directory:\n",
    "decoding_path=(Decode() & {'nwb_file_name':nwb_copy_file_name}).fetch('posterior')[0]\n",
    "exampledir=os.path.join(os.path.split(decoding_path)[0],nwb_file_name,'SWR',epoch_name)\n",
    "isExist = os.path.exists(exampledir)\n",
    "if not isExist:\n",
    "    os.makedirs(exampledir)\n",
    "savefolder = exampledir\n",
    "print(savefolder)"
   ]
  },
  {
   "cell_type": "code",
   "execution_count": null,
   "id": "0e66973b-3914-4d1c-87f2-b721cbff8a75",
   "metadata": {},
   "outputs": [],
   "source": [
    "for t in log_df.index[:-2]:\n",
    "\n",
    "    # Home\n",
    "    ripples = log_df.loc[t].ripple_H\n",
    "    ripple_table_inds = log_df.loc[t].ripple_ID_H\n",
    "    savename = 'trial' + str(t) + '_home_' + nwb_copy_file_name[:-5] + '_' + epoch_name\n",
    "    plot_ripples(ripples,ripple_table_inds,savename,wholeTrial = 0)\n",
    "    plot_ripples(ripples,ripple_table_inds,savename,wholeTrial = 1)\n",
    "    \n",
    "    # Outer Well\n",
    "    \n",
    "    ripples = log_df.loc[t].ripple_O\n",
    "    ripple_table_inds = log_df.loc[t].ripple_ID_O\n",
    "    savename = 'trial' + str(t) + '_well_' + nwb_copy_file_name[:-5] + '_' + epoch_name\n",
    "    plot_ripples(ripples,ripple_table_inds,savename,wholeTrial = 0)\n",
    "    plot_ripples(ripples,ripple_table_inds,savename,wholeTrial = 1)\n"
   ]
  },
  {
   "cell_type": "code",
   "execution_count": null,
   "id": "f8bc380f-9485-434c-9171-f1475565c083",
   "metadata": {},
   "outputs": [],
   "source": [
    "#plt.plot(theta_t,theta_d)"
   ]
  },
  {
   "cell_type": "markdown",
   "id": "7a591f6e-6b94-4bc1-a8c6-01065da3c3e1",
   "metadata": {},
   "source": [
    "### Plotting"
   ]
  },
  {
   "cell_type": "code",
   "execution_count": null,
   "id": "bc242590-4573-4a65-8fcc-bbcd2c18baf0",
   "metadata": {
    "tags": []
   },
   "outputs": [],
   "source": [
    "%%capture stored_output\n",
    "add_replay(2)\n",
    "add_replay(4)\n",
    "add_replay(6)\n",
    "add_replay(8)"
   ]
  },
  {
   "cell_type": "markdown",
   "id": "cf4fd53f-f116-4073-895a-57c2668c2b45",
   "metadata": {},
   "source": [
    "### for whole day"
   ]
  },
  {
   "cell_type": "code",
   "execution_count": null,
   "id": "25ded6df-d961-4f86-b14c-a2ce81347cf2",
   "metadata": {},
   "outputs": [],
   "source": [
    "all_epochs=list((TrialChoice() & {'nwb_file_name':nwb_copy_file_name}).fetch('epoch'))\n",
    "all_epochs"
   ]
  },
  {
   "cell_type": "code",
   "execution_count": null,
   "id": "fd4e47d3-ecfe-4979-892c-25d6d45726f5",
   "metadata": {
    "tags": []
   },
   "outputs": [],
   "source": [
    "%%capture stored_output\n",
    "with multiprocessing.Pool(3) as p:\n",
    "    p.map(add_replay,all_epochs)"
   ]
  },
  {
   "cell_type": "code",
   "execution_count": null,
   "id": "c11ae82d-8297-4228-a360-ed8be499b367",
   "metadata": {
    "tags": []
   },
   "outputs": [],
   "source": [
    "stored_output.show()"
   ]
  },
  {
   "cell_type": "code",
   "execution_count": null,
   "id": "eb019f0e-e55f-46eb-ba9d-5a4d05a322de",
   "metadata": {},
   "outputs": [],
   "source": [
    "print('here')"
   ]
  },
  {
   "cell_type": "code",
   "execution_count": null,
   "id": "466decb5-093e-4360-a1ba-c11680124fb4",
   "metadata": {
    "tags": []
   },
   "outputs": [],
   "source": [
    "add_replay(8)"
   ]
  },
  {
   "cell_type": "code",
   "execution_count": null,
   "id": "5c79ecad-88f7-47ad-91eb-a27340e71665",
   "metadata": {
    "tags": []
   },
   "outputs": [],
   "source": [
    "%%capture stored_output\n",
    "add_replay(2)\n",
    "add_replay(4)\n",
    "add_replay(6)\n",
    "add_replay(8)\n",
    "add_replay(10)"
   ]
  },
  {
   "cell_type": "code",
   "execution_count": null,
   "id": "92a27112-1337-498e-ae91-8c2b100c14a9",
   "metadata": {
    "tags": []
   },
   "outputs": [],
   "source": [
    "add_replay(10)\n",
    "add_replay(12)"
   ]
  },
  {
   "cell_type": "code",
   "execution_count": null,
   "id": "59c8819a-f69f-49fc-a55d-c5874baa86ae",
   "metadata": {},
   "outputs": [],
   "source": [
    "    epoch_num=8\n",
    "    \n",
    "    # 1. Load state script\n",
    "    key={'nwb_file_name':nwb_copy_file_name,'epoch':epoch_num}\n",
    "    log=(TrialChoice & key).fetch1('choice_reward')\n",
    "    epoch_name=(TrialChoice & key).fetch1('epoch_name')\n",
    "    epoch_pos_name='pos '+str(int(epoch_name[:2])-1)+' valid times'\n",
    "    print('epoch name',epoch_name)\n",
    "    log_df=pd.DataFrame(log)"
   ]
  },
  {
   "cell_type": "code",
   "execution_count": null,
   "id": "92f9efb0-fe55-4654-87ae-d380315b53bc",
   "metadata": {},
   "outputs": [],
   "source": [
    "log_df.loc[66,:]"
   ]
  },
  {
   "cell_type": "code",
   "execution_count": null,
   "id": "9f3a2e10-edff-4b21-9051-b12ddf3b3ab8",
   "metadata": {},
   "outputs": [],
   "source": [
    "log_df.loc[66,:].timestamp_H"
   ]
  },
  {
   "cell_type": "code",
   "execution_count": null,
   "id": "267a5779-4542-44d9-a6e2-db89cf0e098a",
   "metadata": {},
   "outputs": [],
   "source": [
    "linear_position_df = (IntervalLinearizedPosition() &\n",
    "                      {'nwb_file_name': nwb_copy_file_name,\n",
    "                       'interval_list_name': epoch_pos_name,\n",
    "                       'position_info_param_name': 'default_decoding'}\n",
    "                         ).fetch1_dataframe()"
   ]
  },
  {
   "cell_type": "code",
   "execution_count": null,
   "id": "a4694a13-be9d-429e-b7a4-5b744e15142d",
   "metadata": {},
   "outputs": [],
   "source": [
    "    t=68\n",
    "    \n",
    "    # for each trial, find important times\n",
    "    t_home=log_df.loc[t,'timestamp_H']\n",
    "    t_outer=log_df.loc[t,'timestamp_O']\n",
    "    if t+1<len(log_df):\n",
    "        t_end=log_df.loc[t+1,'timestamp_H']\n",
    "    else:\n",
    "        t_end=log_df.loc[t,'timestamp_H']+10\n",
    "    \n",
    "    ''' HOME '''\n",
    "    # find times close to home well\n",
    "    time_slice = slice(t_home,t_outer)\n",
    "    current_location = node_location['home']\n",
    "    position_subset=linear_position_df.loc[time_slice]\n",
    "    close_ind=np.argwhere(np.abs(position_subset.linear_position.values-\n",
    "                                 current_location)<5).ravel()"
   ]
  },
  {
   "cell_type": "code",
   "execution_count": null,
   "id": "4e4c0eb1-9cf6-46fa-b528-f89a41ad0627",
   "metadata": {},
   "outputs": [],
   "source": [
    "position_subset.index[0]"
   ]
  },
  {
   "cell_type": "code",
   "execution_count": null,
   "id": "f0e069c2-0a41-4102-bd07-eb3c8ae6f408",
   "metadata": {},
   "outputs": [],
   "source": [
    "position_subset"
   ]
  },
  {
   "cell_type": "code",
   "execution_count": null,
   "id": "0f4148a0-0975-435f-a75a-226fe09156ab",
   "metadata": {},
   "outputs": [],
   "source": [
    "    epoch_num=6\n",
    "    \n",
    "    # 1. Load state script\n",
    "    key={'nwb_file_name':nwb_copy_file_name,'epoch':epoch_num}\n",
    "    log=(TrialChoice & key).fetch1('choice_reward')\n",
    "    epoch_name=(TrialChoice & key).fetch1('epoch_name')\n",
    "    epoch_pos_name='pos '+str(int(epoch_name[:2])-1)+' valid times'\n",
    "    print('epoch name',epoch_name)\n",
    "    log_df=pd.DataFrame(log)\n",
    "\n",
    "    # 1.5 Pre-make result directory:\n",
    "    decoding_path=(Decode() & {'nwb_file_name':nwb_copy_file_name}).fetch('posterior')[0]\n",
    "    exampledir=os.path.join(os.path.split(decoding_path)[0],nwb_file_name,epoch_name)\n",
    "    isExist = os.path.exists(exampledir)\n",
    "    if not isExist:\n",
    "        os.makedirs(exampledir)\n",
    "\n",
    "    # 2. Pre-expand result: Augment choice_reward table to be choice_reward_replay\n",
    "    log_df_replay=log_df.copy()\n",
    "    log_df_replay.insert(5,'ripple_H',[[] for i in range(len(log_df))]) #hold ripple times\n",
    "    log_df_replay.insert(6,'ripple_O',[[] for i in range(len(log_df))])\n",
    "    log_df_replay.insert(7,'replay_H',[[] for i in range(len(log_df))]) #hold decoded replay\n",
    "    log_df_replay.insert(8,'ripple_peak_H',[[] for i in range(len(log_df))]) #hold decoded replay\n",
    "    log_df_replay.insert(9,'replay_O',[[] for i in range(len(log_df))])\n",
    "    log_df_replay.insert(10,'ripple_peak_O',[[] for i in range(len(log_df))]) #hold decoded replay\n",
    "\n",
    "    # 3. linear map\n",
    "    linear_map,node_location=get_linearization_map()\n",
    "\n",
    "    # 4. load position, decoding, ripple times, mua threshold\n",
    "    (linear_position_df,decode,ripple_nwb,\n",
    "     ripple_timestamps,ripple_times,\n",
    "     recordings,neural_ts,\n",
    "     mua,mua_time)=load_everything(nwb_copy_file_name,\n",
    "                    epoch_name,\n",
    "                    epoch_pos_name)\n",
    "    \n"
   ]
  },
  {
   "cell_type": "code",
   "execution_count": null,
   "id": "99b12484-5b0d-4dd4-a963-1dc93bbaec81",
   "metadata": {},
   "outputs": [],
   "source": []
  },
  {
   "cell_type": "code",
   "execution_count": null,
   "id": "bfa5f05e-e776-46a8-9194-b84992076a67",
   "metadata": {},
   "outputs": [],
   "source": [
    "(IntervalList & {'nwb_file_name': nwb_copy_file_name,'interval_list_name': epoch_pos_name}).fetch1('valid_times')[0]"
   ]
  },
  {
   "cell_type": "code",
   "execution_count": null,
   "id": "cf4a6970-0db5-4d0a-9fd3-424f0349e95f",
   "metadata": {},
   "outputs": [],
   "source": [
    "    position_info = (IntervalPositionInfo() & {'nwb_file_name': nwb_copy_file_name,\n",
    "                     'interval_list_name': epoch_pos_name,\n",
    "                     'position_info_param_name': 'default'}).fetch1_dataframe()"
   ]
  },
  {
   "cell_type": "code",
   "execution_count": null,
   "id": "7d7249d9-1608-46bc-83ba-1f97af24464e",
   "metadata": {},
   "outputs": [],
   "source": [
    "log_df.loc[60].timestamp_H"
   ]
  },
  {
   "cell_type": "code",
   "execution_count": null,
   "id": "caeaa338-6b77-4fa5-94f3-57ab94a88537",
   "metadata": {},
   "outputs": [],
   "source": [
    "log_df.loc[61].timestamp_H"
   ]
  },
  {
   "cell_type": "code",
   "execution_count": null,
   "id": "856d2e9a-0692-483a-81db-0c997e975881",
   "metadata": {},
   "outputs": [],
   "source": [
    "log_df.loc[82].timestamp_H"
   ]
  },
  {
   "cell_type": "code",
   "execution_count": null,
   "id": "4f852917-0877-4fb5-83d6-09d4fdc5643b",
   "metadata": {},
   "outputs": [],
   "source": [
    "ripple_timestamps[0]"
   ]
  },
  {
   "cell_type": "code",
   "execution_count": null,
   "id": "4cc7be38-a0f1-48af-a03a-a6ed2d17451d",
   "metadata": {},
   "outputs": [],
   "source": [
    "position_info.index[0]"
   ]
  },
  {
   "cell_type": "code",
   "execution_count": null,
   "id": "63cbdcd8-718c-4700-854c-65f011b2dfa1",
   "metadata": {},
   "outputs": [],
   "source": [
    "plt.plot(linear_position_df.loc[linear_position_df.index>1650309121,'linear_position'])"
   ]
  },
  {
   "cell_type": "code",
   "execution_count": null,
   "id": "3745b593-fa42-48eb-8f1f-5fbfb82134af",
   "metadata": {
    "tags": []
   },
   "outputs": [],
   "source": [
    "add_replay(10)"
   ]
  },
  {
   "cell_type": "code",
   "execution_count": null,
   "id": "c2d13e38-97fb-41e6-9560-208aa88e9733",
   "metadata": {},
   "outputs": [],
   "source": [
    "TrialChoiceReplay() & {'nwb_file_name':nwb_copy_file_name}"
   ]
  },
  {
   "cell_type": "code",
   "execution_count": null,
   "id": "13e1cde9-13ab-4687-bbee-2185888b8334",
   "metadata": {},
   "outputs": [],
   "source": [
    "choice_reward_replay=(TrialChoiceReplay() & {'nwb_file_name':nwb_copy_file_name,\n",
    "                                            'epoch':2}).fetch1('choice_reward_replay')"
   ]
  },
  {
   "cell_type": "code",
   "execution_count": null,
   "id": "f907b79b-70a5-4878-9f93-f31343640efb",
   "metadata": {
    "tags": []
   },
   "outputs": [],
   "source": [
    "pd.DataFrame(choice_reward_replay)"
   ]
  },
  {
   "cell_type": "markdown",
   "id": "27a393c1-66f5-480e-8585-9ff55b2880d3",
   "metadata": {},
   "source": [
    "### one trial"
   ]
  },
  {
   "cell_type": "code",
   "execution_count": null,
   "id": "7243272d-947a-4120-9ef8-3d222c51e54e",
   "metadata": {},
   "outputs": [],
   "source": [
    "mua_threshold=np.mean(mua)\n",
    "mua_threshold"
   ]
  },
  {
   "cell_type": "markdown",
   "id": "77ef63a2-19c0-4b32-8783-fbd93aef1563",
   "metadata": {},
   "source": [
    "### all trials"
   ]
  },
  {
   "cell_type": "code",
   "execution_count": null,
   "id": "6623fde9-1e51-443d-a803-94ac2b543871",
   "metadata": {
    "tags": []
   },
   "outputs": [],
   "source": [
    "numWorker=30\n",
    "print('num of worker:',numWorker)\n",
    "with multiprocessing.Pool(numWorker) as p:\n",
    "    results=p.map(find_ripple_classify_decode,legal_trials)"
   ]
  },
  {
   "cell_type": "code",
   "execution_count": null,
   "id": "d61561fe-e255-422e-8ecd-a9a4b564f8a3",
   "metadata": {},
   "outputs": [],
   "source": [
    "len(results)"
   ]
  },
  {
   "cell_type": "code",
   "execution_count": null,
   "id": "6811f7de-5907-4f46-a898-a0e2de475af5",
   "metadata": {},
   "outputs": [],
   "source": [
    "for i in range(len(legal_trials)):\n",
    "    t=legal_trials[i]\n",
    "    # add to the choice_reward_replay\n",
    "    log_df_replay.at[t, 'ripple_H']=results[i][0]\n",
    "    log_df_replay.at[t, 'ripple_O']=results[i][3]\n",
    "    \n",
    "    log_df_replay.at[t, 'replay_H']= results[i][1]\n",
    "    log_df_replay.at[t, 'replay_O']= results[i][4]\n",
    "    \n",
    "    log_df_replay.at[t, 'ripple_peak_H']= results[i][2]\n",
    "    log_df_replay.at[t, 'ripple_peak_O']= results[i][5]\n",
    "log_df_replay_subset=log_df_replay.loc[legal_trials,:].copy()"
   ]
  },
  {
   "cell_type": "code",
   "execution_count": null,
   "id": "62900347-9520-44ef-99dd-881f499fc14b",
   "metadata": {},
   "outputs": [],
   "source": []
  },
  {
   "cell_type": "code",
   "execution_count": null,
   "id": "226962c6-4c25-4944-93bd-1160c3518f04",
   "metadata": {},
   "outputs": [],
   "source": [
    "pd.set_option(\"display.max_rows\", None)"
   ]
  },
  {
   "cell_type": "code",
   "execution_count": null,
   "id": "bf9a0b2f-3f60-4b4e-b6ae-04772427a6a9",
   "metadata": {
    "tags": []
   },
   "outputs": [],
   "source": [
    "log_df_replay"
   ]
  },
  {
   "cell_type": "code",
   "execution_count": null,
   "id": "e3edc2e0-864c-4efc-b02b-60f5eff6b7fa",
   "metadata": {},
   "outputs": [],
   "source": [
    "# insert into Spyglass\n",
    "key={'nwb_file_name':nwb_copy_file_name,'epoch':epoch_num,'choice_reward_replay':log_df_replay_subset.to_dict()}\n",
    "TrialChoiceReplay().make(key,replace=True)"
   ]
  },
  {
   "cell_type": "code",
   "execution_count": null,
   "id": "5b58255b-9704-417d-880b-c95c129d249d",
   "metadata": {},
   "outputs": [],
   "source": [
    "TrialChoiceReplay()"
   ]
  },
  {
   "cell_type": "markdown",
   "id": "97037bcf-2c6f-490c-9db1-6ff2c8b6226c",
   "metadata": {},
   "source": [
    "## investigate short ripples"
   ]
  },
  {
   "cell_type": "code",
   "execution_count": null,
   "id": "eac4ae01-fbab-452c-a653-e09c925dee96",
   "metadata": {},
   "outputs": [],
   "source": [
    "short_ripple_H=[]\n",
    "for i in range(len(legal_trials)):\n",
    "    t=trial_ind[i]\n",
    "    ripple_H=log_df_replay.loc[t, 'ripple_H']\n",
    "    for ri in range(len(ripple_H)):\n",
    "        if len(ripple_H[ri])==0: #state time is short\n",
    "            continue\n",
    "        ripple_=np.reshape(ripple_H[ri],(1,-1))\n",
    "        if (ripple_[0,-1]-ripple_[0,0])<=0.05:\n",
    "            short_ripple_H.append((t,ri+1))"
   ]
  },
  {
   "cell_type": "code",
   "execution_count": null,
   "id": "df62d780-6b6c-4eea-8b53-ef3c6dc81e72",
   "metadata": {},
   "outputs": [],
   "source": []
  },
  {
   "cell_type": "code",
   "execution_count": null,
   "id": "6d72c6ba-178f-4a62-b59c-969670889839",
   "metadata": {},
   "outputs": [],
   "source": [
    "replay_ripple_count=np.zeros((10,5))\n",
    "replay_ripple=np.zeros((10,5),dtype=np.object)\n",
    "for i in range(len(trial_ind)):\n",
    "    t=trial_ind[i]\n",
    "    replay_all=log_df_replay.loc[t,'replay_O']\n",
    "    ripple_all=log_df_replay.loc[t,'ripple_peak_O']\n",
    "    \n",
    "    for ri in range(len(replay_all)):\n",
    "        replay=replay_all[ri]\n",
    "        unique_arms=np.unique(np.setdiff1d(replay,[5]))\n",
    "        replay_arm_num=len(unique_arms)\n",
    "    \n",
    "        ripple_num=len(ripple_all[ri])\n",
    "        if ripple_num<=10 and replay_arm_num<=5:\n",
    "            replay_ripple_count[ripple_num-1,replay_arm_num-1]+=1\n",
    "            if type(replay_ripple[ripple_num-1,replay_arm_num-1])=='list':\n",
    "                replay_ripple[ripple_num-1,replay_arm_num-1].append(replay)\n",
    "            else:\n",
    "                replay_ripple[ripple_num-1,replay_arm_num-1]=replay"
   ]
  },
  {
   "cell_type": "code",
   "execution_count": null,
   "id": "b5d920f7-42ad-47bd-99e3-63a25caeddfd",
   "metadata": {},
   "outputs": [],
   "source": [
    "replay_ripple[:,2]"
   ]
  },
  {
   "cell_type": "code",
   "execution_count": null,
   "id": "2f7d00f0-6bcd-48da-b54d-d30df1faccc7",
   "metadata": {},
   "outputs": [],
   "source": [
    "fig, axes = plt.subplots(nrows=1)\n",
    "plt.imshow(np.flipud(replay_ripple_count.T))\n",
    "axes.set_xlabel('ripple peak number')\n",
    "axes.set_ylabel('distinct arms in replay')\n",
    "axes.set_yticks([2,3,4])\n",
    "axes.set_yticklabels(['3','2','1'])"
   ]
  },
  {
   "cell_type": "code",
   "execution_count": null,
   "id": "a3d5a270-ea1f-42a6-8b02-8d7bc8a6d1f1",
   "metadata": {},
   "outputs": [],
   "source": []
  },
  {
   "cell_type": "code",
   "execution_count": null,
   "id": "99c661ab-9ef0-4492-92af-36e60fca9fa8",
   "metadata": {},
   "outputs": [],
   "source": []
  }
 ],
 "metadata": {
  "kernelspec": {
   "display_name": "Python 3 (ipykernel)",
   "language": "python",
   "name": "python3"
  },
  "language_info": {
   "codemirror_mode": {
    "name": "ipython",
    "version": 3
   },
   "file_extension": ".py",
   "mimetype": "text/x-python",
   "name": "python",
   "nbconvert_exporter": "python",
   "pygments_lexer": "ipython3",
   "version": "3.10.17"
  }
 },
 "nbformat": 4,
 "nbformat_minor": 5
}
