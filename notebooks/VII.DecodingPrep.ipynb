{
 "cells": [
  {
   "cell_type": "markdown",
   "id": "2787310a-7117-4eec-95b0-2f973bf49f54",
   "metadata": {},
   "source": [
    "## This notebook prepares for decoding (both 1D and 2D)\n",
    "### Use this notebook to run session/day of each dataset from new animal"
   ]
  },
  {
   "cell_type": "code",
   "execution_count": 1,
   "id": "05e6ef1a-25d8-4c66-9abe-5fbe109aa05e",
   "metadata": {},
   "outputs": [],
   "source": [
    "%reload_ext autoreload\n",
    "%autoreload 2"
   ]
  },
  {
   "cell_type": "code",
   "execution_count": 2,
   "id": "8a882cf8-b4c6-40c6-b800-79ac9af9fddb",
   "metadata": {},
   "outputs": [],
   "source": [
    "import spyglass as nd\n",
    "import pandas as pd\n",
    "# ignore datajoint+jupyter async warnings\n",
    "import warnings\n",
    "warnings.simplefilter('ignore', category=DeprecationWarning)\n",
    "warnings.simplefilter('ignore', category=ResourceWarning)"
   ]
  },
  {
   "cell_type": "code",
   "execution_count": 3,
   "id": "d46d7e2c-e475-459a-ae47-5aac32e806e6",
   "metadata": {},
   "outputs": [],
   "source": [
    "import matplotlib.pyplot as plt\n",
    "import numpy as np\n",
    "import xarray as xr\n",
    "import logging\n",
    "import os\n",
    "import cupy as cp\n",
    "\n",
    "FORMAT = '%(asctime)s %(message)s'\n",
    "\n",
    "logging.basicConfig(level='INFO', format=FORMAT, datefmt='%d-%b-%y %H:%M:%S')"
   ]
  },
  {
   "cell_type": "code",
   "execution_count": 4,
   "id": "dd2cda59-5fa8-4777-9754-6bd93cdbef5f",
   "metadata": {},
   "outputs": [
    {
     "name": "stderr",
     "output_type": "stream",
     "text": [
      "[2024-07-02 21:01:35,061][INFO]: Connecting shijiegu-alt@lmf-db.cin.ucsf.edu:3306\n",
      "02-Jul-24 21:01:35 Connecting shijiegu-alt@lmf-db.cin.ucsf.edu:3306\n",
      "[2024-07-02 21:01:35,146][INFO]: Connected shijiegu-alt@lmf-db.cin.ucsf.edu:3306\n",
      "02-Jul-24 21:01:35 Connected shijiegu-alt@lmf-db.cin.ucsf.edu:3306\n"
     ]
    },
    {
     "data": {
      "application/javascript": [
       "(function(root) {\n",
       "  function now() {\n",
       "    return new Date();\n",
       "  }\n",
       "\n",
       "  var force = true;\n",
       "  var py_version = '3.3.4'.replace('rc', '-rc.').replace('.dev', '-dev.');\n",
       "  var reloading = false;\n",
       "  var Bokeh = root.Bokeh;\n",
       "\n",
       "  if (typeof (root._bokeh_timeout) === \"undefined\" || force) {\n",
       "    root._bokeh_timeout = Date.now() + 5000;\n",
       "    root._bokeh_failed_load = false;\n",
       "  }\n",
       "\n",
       "  function run_callbacks() {\n",
       "    try {\n",
       "      root._bokeh_onload_callbacks.forEach(function(callback) {\n",
       "        if (callback != null)\n",
       "          callback();\n",
       "      });\n",
       "    } finally {\n",
       "      delete root._bokeh_onload_callbacks;\n",
       "    }\n",
       "    console.debug(\"Bokeh: all callbacks have finished\");\n",
       "  }\n",
       "\n",
       "  function load_libs(css_urls, js_urls, js_modules, js_exports, callback) {\n",
       "    if (css_urls == null) css_urls = [];\n",
       "    if (js_urls == null) js_urls = [];\n",
       "    if (js_modules == null) js_modules = [];\n",
       "    if (js_exports == null) js_exports = {};\n",
       "\n",
       "    root._bokeh_onload_callbacks.push(callback);\n",
       "\n",
       "    if (root._bokeh_is_loading > 0) {\n",
       "      console.debug(\"Bokeh: BokehJS is being loaded, scheduling callback at\", now());\n",
       "      return null;\n",
       "    }\n",
       "    if (js_urls.length === 0 && js_modules.length === 0 && Object.keys(js_exports).length === 0) {\n",
       "      run_callbacks();\n",
       "      return null;\n",
       "    }\n",
       "    if (!reloading) {\n",
       "      console.debug(\"Bokeh: BokehJS not loaded, scheduling load and callback at\", now());\n",
       "    }\n",
       "\n",
       "    function on_load() {\n",
       "      root._bokeh_is_loading--;\n",
       "      if (root._bokeh_is_loading === 0) {\n",
       "        console.debug(\"Bokeh: all BokehJS libraries/stylesheets loaded\");\n",
       "        run_callbacks()\n",
       "      }\n",
       "    }\n",
       "    window._bokeh_on_load = on_load\n",
       "\n",
       "    function on_error() {\n",
       "      console.error(\"failed to load \" + url);\n",
       "    }\n",
       "\n",
       "    var skip = [];\n",
       "    if (window.requirejs) {\n",
       "      window.requirejs.config({'packages': {}, 'paths': {'jspanel': 'https://cdn.jsdelivr.net/npm/jspanel4@4.12.0/dist/jspanel', 'jspanel-modal': 'https://cdn.jsdelivr.net/npm/jspanel4@4.12.0/dist/extensions/modal/jspanel.modal', 'jspanel-tooltip': 'https://cdn.jsdelivr.net/npm/jspanel4@4.12.0/dist/extensions/tooltip/jspanel.tooltip', 'jspanel-hint': 'https://cdn.jsdelivr.net/npm/jspanel4@4.12.0/dist/extensions/hint/jspanel.hint', 'jspanel-layout': 'https://cdn.jsdelivr.net/npm/jspanel4@4.12.0/dist/extensions/layout/jspanel.layout', 'jspanel-contextmenu': 'https://cdn.jsdelivr.net/npm/jspanel4@4.12.0/dist/extensions/contextmenu/jspanel.contextmenu', 'jspanel-dock': 'https://cdn.jsdelivr.net/npm/jspanel4@4.12.0/dist/extensions/dock/jspanel.dock', 'gridstack': 'https://cdn.jsdelivr.net/npm/gridstack@7.2.3/dist/gridstack-all', 'notyf': 'https://cdn.jsdelivr.net/npm/notyf@3/notyf.min'}, 'shim': {'jspanel': {'exports': 'jsPanel'}, 'gridstack': {'exports': 'GridStack'}}});\n",
       "      require([\"jspanel\"], function(jsPanel) {\n",
       "\twindow.jsPanel = jsPanel\n",
       "\ton_load()\n",
       "      })\n",
       "      require([\"jspanel-modal\"], function() {\n",
       "\ton_load()\n",
       "      })\n",
       "      require([\"jspanel-tooltip\"], function() {\n",
       "\ton_load()\n",
       "      })\n",
       "      require([\"jspanel-hint\"], function() {\n",
       "\ton_load()\n",
       "      })\n",
       "      require([\"jspanel-layout\"], function() {\n",
       "\ton_load()\n",
       "      })\n",
       "      require([\"jspanel-contextmenu\"], function() {\n",
       "\ton_load()\n",
       "      })\n",
       "      require([\"jspanel-dock\"], function() {\n",
       "\ton_load()\n",
       "      })\n",
       "      require([\"gridstack\"], function(GridStack) {\n",
       "\twindow.GridStack = GridStack\n",
       "\ton_load()\n",
       "      })\n",
       "      require([\"notyf\"], function() {\n",
       "\ton_load()\n",
       "      })\n",
       "      root._bokeh_is_loading = css_urls.length + 9;\n",
       "    } else {\n",
       "      root._bokeh_is_loading = css_urls.length + js_urls.length + js_modules.length + Object.keys(js_exports).length;\n",
       "    }\n",
       "\n",
       "    var existing_stylesheets = []\n",
       "    var links = document.getElementsByTagName('link')\n",
       "    for (var i = 0; i < links.length; i++) {\n",
       "      var link = links[i]\n",
       "      if (link.href != null) {\n",
       "\texisting_stylesheets.push(link.href)\n",
       "      }\n",
       "    }\n",
       "    for (var i = 0; i < css_urls.length; i++) {\n",
       "      var url = css_urls[i];\n",
       "      if (existing_stylesheets.indexOf(url) !== -1) {\n",
       "\ton_load()\n",
       "\tcontinue;\n",
       "      }\n",
       "      const element = document.createElement(\"link\");\n",
       "      element.onload = on_load;\n",
       "      element.onerror = on_error;\n",
       "      element.rel = \"stylesheet\";\n",
       "      element.type = \"text/css\";\n",
       "      element.href = url;\n",
       "      console.debug(\"Bokeh: injecting link tag for BokehJS stylesheet: \", url);\n",
       "      document.body.appendChild(element);\n",
       "    }    if (((window['jsPanel'] !== undefined) && (!(window['jsPanel'] instanceof HTMLElement))) || window.requirejs) {\n",
       "      var urls = ['https://cdn.holoviz.org/panel/1.3.4/dist/bundled/floatpanel/jspanel4@4.12.0/dist/jspanel.js', 'https://cdn.holoviz.org/panel/1.3.4/dist/bundled/floatpanel/jspanel4@4.12.0/dist/extensions/modal/jspanel.modal.js', 'https://cdn.holoviz.org/panel/1.3.4/dist/bundled/floatpanel/jspanel4@4.12.0/dist/extensions/tooltip/jspanel.tooltip.js', 'https://cdn.holoviz.org/panel/1.3.4/dist/bundled/floatpanel/jspanel4@4.12.0/dist/extensions/hint/jspanel.hint.js', 'https://cdn.holoviz.org/panel/1.3.4/dist/bundled/floatpanel/jspanel4@4.12.0/dist/extensions/layout/jspanel.layout.js', 'https://cdn.holoviz.org/panel/1.3.4/dist/bundled/floatpanel/jspanel4@4.12.0/dist/extensions/contextmenu/jspanel.contextmenu.js', 'https://cdn.holoviz.org/panel/1.3.4/dist/bundled/floatpanel/jspanel4@4.12.0/dist/extensions/dock/jspanel.dock.js'];\n",
       "      for (var i = 0; i < urls.length; i++) {\n",
       "        skip.push(urls[i])\n",
       "      }\n",
       "    }    if (((window['GridStack'] !== undefined) && (!(window['GridStack'] instanceof HTMLElement))) || window.requirejs) {\n",
       "      var urls = ['https://cdn.holoviz.org/panel/1.3.4/dist/bundled/gridstack/gridstack@7.2.3/dist/gridstack-all.js'];\n",
       "      for (var i = 0; i < urls.length; i++) {\n",
       "        skip.push(urls[i])\n",
       "      }\n",
       "    }    if (((window['Notyf'] !== undefined) && (!(window['Notyf'] instanceof HTMLElement))) || window.requirejs) {\n",
       "      var urls = ['https://cdn.holoviz.org/panel/1.3.4/dist/bundled/notificationarea/notyf@3/notyf.min.js'];\n",
       "      for (var i = 0; i < urls.length; i++) {\n",
       "        skip.push(urls[i])\n",
       "      }\n",
       "    }    var existing_scripts = []\n",
       "    var scripts = document.getElementsByTagName('script')\n",
       "    for (var i = 0; i < scripts.length; i++) {\n",
       "      var script = scripts[i]\n",
       "      if (script.src != null) {\n",
       "\texisting_scripts.push(script.src)\n",
       "      }\n",
       "    }\n",
       "    for (var i = 0; i < js_urls.length; i++) {\n",
       "      var url = js_urls[i];\n",
       "      if (skip.indexOf(url) !== -1 || existing_scripts.indexOf(url) !== -1) {\n",
       "\tif (!window.requirejs) {\n",
       "\t  on_load();\n",
       "\t}\n",
       "\tcontinue;\n",
       "      }\n",
       "      var element = document.createElement('script');\n",
       "      element.onload = on_load;\n",
       "      element.onerror = on_error;\n",
       "      element.async = false;\n",
       "      element.src = url;\n",
       "      console.debug(\"Bokeh: injecting script tag for BokehJS library: \", url);\n",
       "      document.head.appendChild(element);\n",
       "    }\n",
       "    for (var i = 0; i < js_modules.length; i++) {\n",
       "      var url = js_modules[i];\n",
       "      if (skip.indexOf(url) !== -1 || existing_scripts.indexOf(url) !== -1) {\n",
       "\tif (!window.requirejs) {\n",
       "\t  on_load();\n",
       "\t}\n",
       "\tcontinue;\n",
       "      }\n",
       "      var element = document.createElement('script');\n",
       "      element.onload = on_load;\n",
       "      element.onerror = on_error;\n",
       "      element.async = false;\n",
       "      element.src = url;\n",
       "      element.type = \"module\";\n",
       "      console.debug(\"Bokeh: injecting script tag for BokehJS library: \", url);\n",
       "      document.head.appendChild(element);\n",
       "    }\n",
       "    for (const name in js_exports) {\n",
       "      var url = js_exports[name];\n",
       "      if (skip.indexOf(url) >= 0 || root[name] != null) {\n",
       "\tif (!window.requirejs) {\n",
       "\t  on_load();\n",
       "\t}\n",
       "\tcontinue;\n",
       "      }\n",
       "      var element = document.createElement('script');\n",
       "      element.onerror = on_error;\n",
       "      element.async = false;\n",
       "      element.type = \"module\";\n",
       "      console.debug(\"Bokeh: injecting script tag for BokehJS library: \", url);\n",
       "      element.textContent = `\n",
       "      import ${name} from \"${url}\"\n",
       "      window.${name} = ${name}\n",
       "      window._bokeh_on_load()\n",
       "      `\n",
       "      document.head.appendChild(element);\n",
       "    }\n",
       "    if (!js_urls.length && !js_modules.length) {\n",
       "      on_load()\n",
       "    }\n",
       "  };\n",
       "\n",
       "  function inject_raw_css(css) {\n",
       "    const element = document.createElement(\"style\");\n",
       "    element.appendChild(document.createTextNode(css));\n",
       "    document.body.appendChild(element);\n",
       "  }\n",
       "\n",
       "  var js_urls = [\"https://cdn.bokeh.org/bokeh/release/bokeh-3.3.4.min.js\", \"https://cdn.bokeh.org/bokeh/release/bokeh-gl-3.3.4.min.js\", \"https://cdn.bokeh.org/bokeh/release/bokeh-widgets-3.3.4.min.js\", \"https://cdn.bokeh.org/bokeh/release/bokeh-tables-3.3.4.min.js\", \"https://cdn.holoviz.org/panel/1.3.4/dist/panel.min.js\"];\n",
       "  var js_modules = [];\n",
       "  var js_exports = {};\n",
       "  var css_urls = [];\n",
       "  var inline_js = [    function(Bokeh) {\n",
       "      Bokeh.set_log_level(\"info\");\n",
       "    },\n",
       "function(Bokeh) {} // ensure no trailing comma for IE\n",
       "  ];\n",
       "\n",
       "  function run_inline_js() {\n",
       "    if ((root.Bokeh !== undefined) || (force === true)) {\n",
       "      for (var i = 0; i < inline_js.length; i++) {\n",
       "\ttry {\n",
       "          inline_js[i].call(root, root.Bokeh);\n",
       "\t} catch(e) {\n",
       "\t  if (!reloading) {\n",
       "\t    throw e;\n",
       "\t  }\n",
       "\t}\n",
       "      }\n",
       "      // Cache old bokeh versions\n",
       "      if (Bokeh != undefined && !reloading) {\n",
       "\tvar NewBokeh = root.Bokeh;\n",
       "\tif (Bokeh.versions === undefined) {\n",
       "\t  Bokeh.versions = new Map();\n",
       "\t}\n",
       "\tif (NewBokeh.version !== Bokeh.version) {\n",
       "\t  Bokeh.versions.set(NewBokeh.version, NewBokeh)\n",
       "\t}\n",
       "\troot.Bokeh = Bokeh;\n",
       "      }} else if (Date.now() < root._bokeh_timeout) {\n",
       "      setTimeout(run_inline_js, 100);\n",
       "    } else if (!root._bokeh_failed_load) {\n",
       "      console.log(\"Bokeh: BokehJS failed to load within specified timeout.\");\n",
       "      root._bokeh_failed_load = true;\n",
       "    }\n",
       "    root._bokeh_is_initializing = false\n",
       "  }\n",
       "\n",
       "  function load_or_wait() {\n",
       "    // Implement a backoff loop that tries to ensure we do not load multiple\n",
       "    // versions of Bokeh and its dependencies at the same time.\n",
       "    // In recent versions we use the root._bokeh_is_initializing flag\n",
       "    // to determine whether there is an ongoing attempt to initialize\n",
       "    // bokeh, however for backward compatibility we also try to ensure\n",
       "    // that we do not start loading a newer (Panel>=1.0 and Bokeh>3) version\n",
       "    // before older versions are fully initialized.\n",
       "    if (root._bokeh_is_initializing && Date.now() > root._bokeh_timeout) {\n",
       "      root._bokeh_is_initializing = false;\n",
       "      root._bokeh_onload_callbacks = undefined;\n",
       "      console.log(\"Bokeh: BokehJS was loaded multiple times but one version failed to initialize.\");\n",
       "      load_or_wait();\n",
       "    } else if (root._bokeh_is_initializing || (typeof root._bokeh_is_initializing === \"undefined\" && root._bokeh_onload_callbacks !== undefined)) {\n",
       "      setTimeout(load_or_wait, 100);\n",
       "    } else {\n",
       "      root._bokeh_is_initializing = true\n",
       "      root._bokeh_onload_callbacks = []\n",
       "      var bokeh_loaded = Bokeh != null && (Bokeh.version === py_version || (Bokeh.versions !== undefined && Bokeh.versions.has(py_version)));\n",
       "      if (!reloading && !bokeh_loaded) {\n",
       "\troot.Bokeh = undefined;\n",
       "      }\n",
       "      load_libs(css_urls, js_urls, js_modules, js_exports, function() {\n",
       "\tconsole.debug(\"Bokeh: BokehJS plotting callback run at\", now());\n",
       "\trun_inline_js();\n",
       "      });\n",
       "    }\n",
       "  }\n",
       "  // Give older versions of the autoload script a head-start to ensure\n",
       "  // they initialize before we start loading newer version.\n",
       "  setTimeout(load_or_wait, 100)\n",
       "}(window));"
      ],
      "application/vnd.holoviews_load.v0+json": "(function(root) {\n  function now() {\n    return new Date();\n  }\n\n  var force = true;\n  var py_version = '3.3.4'.replace('rc', '-rc.').replace('.dev', '-dev.');\n  var reloading = false;\n  var Bokeh = root.Bokeh;\n\n  if (typeof (root._bokeh_timeout) === \"undefined\" || force) {\n    root._bokeh_timeout = Date.now() + 5000;\n    root._bokeh_failed_load = false;\n  }\n\n  function run_callbacks() {\n    try {\n      root._bokeh_onload_callbacks.forEach(function(callback) {\n        if (callback != null)\n          callback();\n      });\n    } finally {\n      delete root._bokeh_onload_callbacks;\n    }\n    console.debug(\"Bokeh: all callbacks have finished\");\n  }\n\n  function load_libs(css_urls, js_urls, js_modules, js_exports, callback) {\n    if (css_urls == null) css_urls = [];\n    if (js_urls == null) js_urls = [];\n    if (js_modules == null) js_modules = [];\n    if (js_exports == null) js_exports = {};\n\n    root._bokeh_onload_callbacks.push(callback);\n\n    if (root._bokeh_is_loading > 0) {\n      console.debug(\"Bokeh: BokehJS is being loaded, scheduling callback at\", now());\n      return null;\n    }\n    if (js_urls.length === 0 && js_modules.length === 0 && Object.keys(js_exports).length === 0) {\n      run_callbacks();\n      return null;\n    }\n    if (!reloading) {\n      console.debug(\"Bokeh: BokehJS not loaded, scheduling load and callback at\", now());\n    }\n\n    function on_load() {\n      root._bokeh_is_loading--;\n      if (root._bokeh_is_loading === 0) {\n        console.debug(\"Bokeh: all BokehJS libraries/stylesheets loaded\");\n        run_callbacks()\n      }\n    }\n    window._bokeh_on_load = on_load\n\n    function on_error() {\n      console.error(\"failed to load \" + url);\n    }\n\n    var skip = [];\n    if (window.requirejs) {\n      window.requirejs.config({'packages': {}, 'paths': {'jspanel': 'https://cdn.jsdelivr.net/npm/jspanel4@4.12.0/dist/jspanel', 'jspanel-modal': 'https://cdn.jsdelivr.net/npm/jspanel4@4.12.0/dist/extensions/modal/jspanel.modal', 'jspanel-tooltip': 'https://cdn.jsdelivr.net/npm/jspanel4@4.12.0/dist/extensions/tooltip/jspanel.tooltip', 'jspanel-hint': 'https://cdn.jsdelivr.net/npm/jspanel4@4.12.0/dist/extensions/hint/jspanel.hint', 'jspanel-layout': 'https://cdn.jsdelivr.net/npm/jspanel4@4.12.0/dist/extensions/layout/jspanel.layout', 'jspanel-contextmenu': 'https://cdn.jsdelivr.net/npm/jspanel4@4.12.0/dist/extensions/contextmenu/jspanel.contextmenu', 'jspanel-dock': 'https://cdn.jsdelivr.net/npm/jspanel4@4.12.0/dist/extensions/dock/jspanel.dock', 'gridstack': 'https://cdn.jsdelivr.net/npm/gridstack@7.2.3/dist/gridstack-all', 'notyf': 'https://cdn.jsdelivr.net/npm/notyf@3/notyf.min'}, 'shim': {'jspanel': {'exports': 'jsPanel'}, 'gridstack': {'exports': 'GridStack'}}});\n      require([\"jspanel\"], function(jsPanel) {\n\twindow.jsPanel = jsPanel\n\ton_load()\n      })\n      require([\"jspanel-modal\"], function() {\n\ton_load()\n      })\n      require([\"jspanel-tooltip\"], function() {\n\ton_load()\n      })\n      require([\"jspanel-hint\"], function() {\n\ton_load()\n      })\n      require([\"jspanel-layout\"], function() {\n\ton_load()\n      })\n      require([\"jspanel-contextmenu\"], function() {\n\ton_load()\n      })\n      require([\"jspanel-dock\"], function() {\n\ton_load()\n      })\n      require([\"gridstack\"], function(GridStack) {\n\twindow.GridStack = GridStack\n\ton_load()\n      })\n      require([\"notyf\"], function() {\n\ton_load()\n      })\n      root._bokeh_is_loading = css_urls.length + 9;\n    } else {\n      root._bokeh_is_loading = css_urls.length + js_urls.length + js_modules.length + Object.keys(js_exports).length;\n    }\n\n    var existing_stylesheets = []\n    var links = document.getElementsByTagName('link')\n    for (var i = 0; i < links.length; i++) {\n      var link = links[i]\n      if (link.href != null) {\n\texisting_stylesheets.push(link.href)\n      }\n    }\n    for (var i = 0; i < css_urls.length; i++) {\n      var url = css_urls[i];\n      if (existing_stylesheets.indexOf(url) !== -1) {\n\ton_load()\n\tcontinue;\n      }\n      const element = document.createElement(\"link\");\n      element.onload = on_load;\n      element.onerror = on_error;\n      element.rel = \"stylesheet\";\n      element.type = \"text/css\";\n      element.href = url;\n      console.debug(\"Bokeh: injecting link tag for BokehJS stylesheet: \", url);\n      document.body.appendChild(element);\n    }    if (((window['jsPanel'] !== undefined) && (!(window['jsPanel'] instanceof HTMLElement))) || window.requirejs) {\n      var urls = ['https://cdn.holoviz.org/panel/1.3.4/dist/bundled/floatpanel/jspanel4@4.12.0/dist/jspanel.js', 'https://cdn.holoviz.org/panel/1.3.4/dist/bundled/floatpanel/jspanel4@4.12.0/dist/extensions/modal/jspanel.modal.js', 'https://cdn.holoviz.org/panel/1.3.4/dist/bundled/floatpanel/jspanel4@4.12.0/dist/extensions/tooltip/jspanel.tooltip.js', 'https://cdn.holoviz.org/panel/1.3.4/dist/bundled/floatpanel/jspanel4@4.12.0/dist/extensions/hint/jspanel.hint.js', 'https://cdn.holoviz.org/panel/1.3.4/dist/bundled/floatpanel/jspanel4@4.12.0/dist/extensions/layout/jspanel.layout.js', 'https://cdn.holoviz.org/panel/1.3.4/dist/bundled/floatpanel/jspanel4@4.12.0/dist/extensions/contextmenu/jspanel.contextmenu.js', 'https://cdn.holoviz.org/panel/1.3.4/dist/bundled/floatpanel/jspanel4@4.12.0/dist/extensions/dock/jspanel.dock.js'];\n      for (var i = 0; i < urls.length; i++) {\n        skip.push(urls[i])\n      }\n    }    if (((window['GridStack'] !== undefined) && (!(window['GridStack'] instanceof HTMLElement))) || window.requirejs) {\n      var urls = ['https://cdn.holoviz.org/panel/1.3.4/dist/bundled/gridstack/gridstack@7.2.3/dist/gridstack-all.js'];\n      for (var i = 0; i < urls.length; i++) {\n        skip.push(urls[i])\n      }\n    }    if (((window['Notyf'] !== undefined) && (!(window['Notyf'] instanceof HTMLElement))) || window.requirejs) {\n      var urls = ['https://cdn.holoviz.org/panel/1.3.4/dist/bundled/notificationarea/notyf@3/notyf.min.js'];\n      for (var i = 0; i < urls.length; i++) {\n        skip.push(urls[i])\n      }\n    }    var existing_scripts = []\n    var scripts = document.getElementsByTagName('script')\n    for (var i = 0; i < scripts.length; i++) {\n      var script = scripts[i]\n      if (script.src != null) {\n\texisting_scripts.push(script.src)\n      }\n    }\n    for (var i = 0; i < js_urls.length; i++) {\n      var url = js_urls[i];\n      if (skip.indexOf(url) !== -1 || existing_scripts.indexOf(url) !== -1) {\n\tif (!window.requirejs) {\n\t  on_load();\n\t}\n\tcontinue;\n      }\n      var element = document.createElement('script');\n      element.onload = on_load;\n      element.onerror = on_error;\n      element.async = false;\n      element.src = url;\n      console.debug(\"Bokeh: injecting script tag for BokehJS library: \", url);\n      document.head.appendChild(element);\n    }\n    for (var i = 0; i < js_modules.length; i++) {\n      var url = js_modules[i];\n      if (skip.indexOf(url) !== -1 || existing_scripts.indexOf(url) !== -1) {\n\tif (!window.requirejs) {\n\t  on_load();\n\t}\n\tcontinue;\n      }\n      var element = document.createElement('script');\n      element.onload = on_load;\n      element.onerror = on_error;\n      element.async = false;\n      element.src = url;\n      element.type = \"module\";\n      console.debug(\"Bokeh: injecting script tag for BokehJS library: \", url);\n      document.head.appendChild(element);\n    }\n    for (const name in js_exports) {\n      var url = js_exports[name];\n      if (skip.indexOf(url) >= 0 || root[name] != null) {\n\tif (!window.requirejs) {\n\t  on_load();\n\t}\n\tcontinue;\n      }\n      var element = document.createElement('script');\n      element.onerror = on_error;\n      element.async = false;\n      element.type = \"module\";\n      console.debug(\"Bokeh: injecting script tag for BokehJS library: \", url);\n      element.textContent = `\n      import ${name} from \"${url}\"\n      window.${name} = ${name}\n      window._bokeh_on_load()\n      `\n      document.head.appendChild(element);\n    }\n    if (!js_urls.length && !js_modules.length) {\n      on_load()\n    }\n  };\n\n  function inject_raw_css(css) {\n    const element = document.createElement(\"style\");\n    element.appendChild(document.createTextNode(css));\n    document.body.appendChild(element);\n  }\n\n  var js_urls = [\"https://cdn.bokeh.org/bokeh/release/bokeh-3.3.4.min.js\", \"https://cdn.bokeh.org/bokeh/release/bokeh-gl-3.3.4.min.js\", \"https://cdn.bokeh.org/bokeh/release/bokeh-widgets-3.3.4.min.js\", \"https://cdn.bokeh.org/bokeh/release/bokeh-tables-3.3.4.min.js\", \"https://cdn.holoviz.org/panel/1.3.4/dist/panel.min.js\"];\n  var js_modules = [];\n  var js_exports = {};\n  var css_urls = [];\n  var inline_js = [    function(Bokeh) {\n      Bokeh.set_log_level(\"info\");\n    },\nfunction(Bokeh) {} // ensure no trailing comma for IE\n  ];\n\n  function run_inline_js() {\n    if ((root.Bokeh !== undefined) || (force === true)) {\n      for (var i = 0; i < inline_js.length; i++) {\n\ttry {\n          inline_js[i].call(root, root.Bokeh);\n\t} catch(e) {\n\t  if (!reloading) {\n\t    throw e;\n\t  }\n\t}\n      }\n      // Cache old bokeh versions\n      if (Bokeh != undefined && !reloading) {\n\tvar NewBokeh = root.Bokeh;\n\tif (Bokeh.versions === undefined) {\n\t  Bokeh.versions = new Map();\n\t}\n\tif (NewBokeh.version !== Bokeh.version) {\n\t  Bokeh.versions.set(NewBokeh.version, NewBokeh)\n\t}\n\troot.Bokeh = Bokeh;\n      }} else if (Date.now() < root._bokeh_timeout) {\n      setTimeout(run_inline_js, 100);\n    } else if (!root._bokeh_failed_load) {\n      console.log(\"Bokeh: BokehJS failed to load within specified timeout.\");\n      root._bokeh_failed_load = true;\n    }\n    root._bokeh_is_initializing = false\n  }\n\n  function load_or_wait() {\n    // Implement a backoff loop that tries to ensure we do not load multiple\n    // versions of Bokeh and its dependencies at the same time.\n    // In recent versions we use the root._bokeh_is_initializing flag\n    // to determine whether there is an ongoing attempt to initialize\n    // bokeh, however for backward compatibility we also try to ensure\n    // that we do not start loading a newer (Panel>=1.0 and Bokeh>3) version\n    // before older versions are fully initialized.\n    if (root._bokeh_is_initializing && Date.now() > root._bokeh_timeout) {\n      root._bokeh_is_initializing = false;\n      root._bokeh_onload_callbacks = undefined;\n      console.log(\"Bokeh: BokehJS was loaded multiple times but one version failed to initialize.\");\n      load_or_wait();\n    } else if (root._bokeh_is_initializing || (typeof root._bokeh_is_initializing === \"undefined\" && root._bokeh_onload_callbacks !== undefined)) {\n      setTimeout(load_or_wait, 100);\n    } else {\n      root._bokeh_is_initializing = true\n      root._bokeh_onload_callbacks = []\n      var bokeh_loaded = Bokeh != null && (Bokeh.version === py_version || (Bokeh.versions !== undefined && Bokeh.versions.has(py_version)));\n      if (!reloading && !bokeh_loaded) {\n\troot.Bokeh = undefined;\n      }\n      load_libs(css_urls, js_urls, js_modules, js_exports, function() {\n\tconsole.debug(\"Bokeh: BokehJS plotting callback run at\", now());\n\trun_inline_js();\n      });\n    }\n  }\n  // Give older versions of the autoload script a head-start to ensure\n  // they initialize before we start loading newer version.\n  setTimeout(load_or_wait, 100)\n}(window));"
     },
     "metadata": {},
     "output_type": "display_data"
    },
    {
     "data": {
      "application/javascript": [
       "\n",
       "if ((window.PyViz === undefined) || (window.PyViz instanceof HTMLElement)) {\n",
       "  window.PyViz = {comms: {}, comm_status:{}, kernels:{}, receivers: {}, plot_index: []}\n",
       "}\n",
       "\n",
       "\n",
       "    function JupyterCommManager() {\n",
       "    }\n",
       "\n",
       "    JupyterCommManager.prototype.register_target = function(plot_id, comm_id, msg_handler) {\n",
       "      if (window.comm_manager || ((window.Jupyter !== undefined) && (Jupyter.notebook.kernel != null))) {\n",
       "        var comm_manager = window.comm_manager || Jupyter.notebook.kernel.comm_manager;\n",
       "        comm_manager.register_target(comm_id, function(comm) {\n",
       "          comm.on_msg(msg_handler);\n",
       "        });\n",
       "      } else if ((plot_id in window.PyViz.kernels) && (window.PyViz.kernels[plot_id])) {\n",
       "        window.PyViz.kernels[plot_id].registerCommTarget(comm_id, function(comm) {\n",
       "          comm.onMsg = msg_handler;\n",
       "        });\n",
       "      } else if (typeof google != 'undefined' && google.colab.kernel != null) {\n",
       "        google.colab.kernel.comms.registerTarget(comm_id, (comm) => {\n",
       "          var messages = comm.messages[Symbol.asyncIterator]();\n",
       "          function processIteratorResult(result) {\n",
       "            var message = result.value;\n",
       "            console.log(message)\n",
       "            var content = {data: message.data, comm_id};\n",
       "            var buffers = []\n",
       "            for (var buffer of message.buffers || []) {\n",
       "              buffers.push(new DataView(buffer))\n",
       "            }\n",
       "            var metadata = message.metadata || {};\n",
       "            var msg = {content, buffers, metadata}\n",
       "            msg_handler(msg);\n",
       "            return messages.next().then(processIteratorResult);\n",
       "          }\n",
       "          return messages.next().then(processIteratorResult);\n",
       "        })\n",
       "      }\n",
       "    }\n",
       "\n",
       "    JupyterCommManager.prototype.get_client_comm = function(plot_id, comm_id, msg_handler) {\n",
       "      if (comm_id in window.PyViz.comms) {\n",
       "        return window.PyViz.comms[comm_id];\n",
       "      } else if (window.comm_manager || ((window.Jupyter !== undefined) && (Jupyter.notebook.kernel != null))) {\n",
       "        var comm_manager = window.comm_manager || Jupyter.notebook.kernel.comm_manager;\n",
       "        var comm = comm_manager.new_comm(comm_id, {}, {}, {}, comm_id);\n",
       "        if (msg_handler) {\n",
       "          comm.on_msg(msg_handler);\n",
       "        }\n",
       "      } else if ((plot_id in window.PyViz.kernels) && (window.PyViz.kernels[plot_id])) {\n",
       "        var comm = window.PyViz.kernels[plot_id].connectToComm(comm_id);\n",
       "        comm.open();\n",
       "        if (msg_handler) {\n",
       "          comm.onMsg = msg_handler;\n",
       "        }\n",
       "      } else if (typeof google != 'undefined' && google.colab.kernel != null) {\n",
       "        var comm_promise = google.colab.kernel.comms.open(comm_id)\n",
       "        comm_promise.then((comm) => {\n",
       "          window.PyViz.comms[comm_id] = comm;\n",
       "          if (msg_handler) {\n",
       "            var messages = comm.messages[Symbol.asyncIterator]();\n",
       "            function processIteratorResult(result) {\n",
       "              var message = result.value;\n",
       "              var content = {data: message.data};\n",
       "              var metadata = message.metadata || {comm_id};\n",
       "              var msg = {content, metadata}\n",
       "              msg_handler(msg);\n",
       "              return messages.next().then(processIteratorResult);\n",
       "            }\n",
       "            return messages.next().then(processIteratorResult);\n",
       "          }\n",
       "        }) \n",
       "        var sendClosure = (data, metadata, buffers, disposeOnDone) => {\n",
       "          return comm_promise.then((comm) => {\n",
       "            comm.send(data, metadata, buffers, disposeOnDone);\n",
       "          });\n",
       "        };\n",
       "        var comm = {\n",
       "          send: sendClosure\n",
       "        };\n",
       "      }\n",
       "      window.PyViz.comms[comm_id] = comm;\n",
       "      return comm;\n",
       "    }\n",
       "    window.PyViz.comm_manager = new JupyterCommManager();\n",
       "    \n",
       "\n",
       "\n",
       "var JS_MIME_TYPE = 'application/javascript';\n",
       "var HTML_MIME_TYPE = 'text/html';\n",
       "var EXEC_MIME_TYPE = 'application/vnd.holoviews_exec.v0+json';\n",
       "var CLASS_NAME = 'output';\n",
       "\n",
       "/**\n",
       " * Render data to the DOM node\n",
       " */\n",
       "function render(props, node) {\n",
       "  var div = document.createElement(\"div\");\n",
       "  var script = document.createElement(\"script\");\n",
       "  node.appendChild(div);\n",
       "  node.appendChild(script);\n",
       "}\n",
       "\n",
       "/**\n",
       " * Handle when a new output is added\n",
       " */\n",
       "function handle_add_output(event, handle) {\n",
       "  var output_area = handle.output_area;\n",
       "  var output = handle.output;\n",
       "  if ((output.data == undefined) || (!output.data.hasOwnProperty(EXEC_MIME_TYPE))) {\n",
       "    return\n",
       "  }\n",
       "  var id = output.metadata[EXEC_MIME_TYPE][\"id\"];\n",
       "  var toinsert = output_area.element.find(\".\" + CLASS_NAME.split(' ')[0]);\n",
       "  if (id !== undefined) {\n",
       "    var nchildren = toinsert.length;\n",
       "    var html_node = toinsert[nchildren-1].children[0];\n",
       "    html_node.innerHTML = output.data[HTML_MIME_TYPE];\n",
       "    var scripts = [];\n",
       "    var nodelist = html_node.querySelectorAll(\"script\");\n",
       "    for (var i in nodelist) {\n",
       "      if (nodelist.hasOwnProperty(i)) {\n",
       "        scripts.push(nodelist[i])\n",
       "      }\n",
       "    }\n",
       "\n",
       "    scripts.forEach( function (oldScript) {\n",
       "      var newScript = document.createElement(\"script\");\n",
       "      var attrs = [];\n",
       "      var nodemap = oldScript.attributes;\n",
       "      for (var j in nodemap) {\n",
       "        if (nodemap.hasOwnProperty(j)) {\n",
       "          attrs.push(nodemap[j])\n",
       "        }\n",
       "      }\n",
       "      attrs.forEach(function(attr) { newScript.setAttribute(attr.name, attr.value) });\n",
       "      newScript.appendChild(document.createTextNode(oldScript.innerHTML));\n",
       "      oldScript.parentNode.replaceChild(newScript, oldScript);\n",
       "    });\n",
       "    if (JS_MIME_TYPE in output.data) {\n",
       "      toinsert[nchildren-1].children[1].textContent = output.data[JS_MIME_TYPE];\n",
       "    }\n",
       "    output_area._hv_plot_id = id;\n",
       "    if ((window.Bokeh !== undefined) && (id in Bokeh.index)) {\n",
       "      window.PyViz.plot_index[id] = Bokeh.index[id];\n",
       "    } else {\n",
       "      window.PyViz.plot_index[id] = null;\n",
       "    }\n",
       "  } else if (output.metadata[EXEC_MIME_TYPE][\"server_id\"] !== undefined) {\n",
       "    var bk_div = document.createElement(\"div\");\n",
       "    bk_div.innerHTML = output.data[HTML_MIME_TYPE];\n",
       "    var script_attrs = bk_div.children[0].attributes;\n",
       "    for (var i = 0; i < script_attrs.length; i++) {\n",
       "      toinsert[toinsert.length - 1].childNodes[1].setAttribute(script_attrs[i].name, script_attrs[i].value);\n",
       "    }\n",
       "    // store reference to server id on output_area\n",
       "    output_area._bokeh_server_id = output.metadata[EXEC_MIME_TYPE][\"server_id\"];\n",
       "  }\n",
       "}\n",
       "\n",
       "/**\n",
       " * Handle when an output is cleared or removed\n",
       " */\n",
       "function handle_clear_output(event, handle) {\n",
       "  var id = handle.cell.output_area._hv_plot_id;\n",
       "  var server_id = handle.cell.output_area._bokeh_server_id;\n",
       "  if (((id === undefined) || !(id in PyViz.plot_index)) && (server_id !== undefined)) { return; }\n",
       "  var comm = window.PyViz.comm_manager.get_client_comm(\"hv-extension-comm\", \"hv-extension-comm\", function () {});\n",
       "  if (server_id !== null) {\n",
       "    comm.send({event_type: 'server_delete', 'id': server_id});\n",
       "    return;\n",
       "  } else if (comm !== null) {\n",
       "    comm.send({event_type: 'delete', 'id': id});\n",
       "  }\n",
       "  delete PyViz.plot_index[id];\n",
       "  if ((window.Bokeh !== undefined) & (id in window.Bokeh.index)) {\n",
       "    var doc = window.Bokeh.index[id].model.document\n",
       "    doc.clear();\n",
       "    const i = window.Bokeh.documents.indexOf(doc);\n",
       "    if (i > -1) {\n",
       "      window.Bokeh.documents.splice(i, 1);\n",
       "    }\n",
       "  }\n",
       "}\n",
       "\n",
       "/**\n",
       " * Handle kernel restart event\n",
       " */\n",
       "function handle_kernel_cleanup(event, handle) {\n",
       "  delete PyViz.comms[\"hv-extension-comm\"];\n",
       "  window.PyViz.plot_index = {}\n",
       "}\n",
       "\n",
       "/**\n",
       " * Handle update_display_data messages\n",
       " */\n",
       "function handle_update_output(event, handle) {\n",
       "  handle_clear_output(event, {cell: {output_area: handle.output_area}})\n",
       "  handle_add_output(event, handle)\n",
       "}\n",
       "\n",
       "function register_renderer(events, OutputArea) {\n",
       "  function append_mime(data, metadata, element) {\n",
       "    // create a DOM node to render to\n",
       "    var toinsert = this.create_output_subarea(\n",
       "    metadata,\n",
       "    CLASS_NAME,\n",
       "    EXEC_MIME_TYPE\n",
       "    );\n",
       "    this.keyboard_manager.register_events(toinsert);\n",
       "    // Render to node\n",
       "    var props = {data: data, metadata: metadata[EXEC_MIME_TYPE]};\n",
       "    render(props, toinsert[0]);\n",
       "    element.append(toinsert);\n",
       "    return toinsert\n",
       "  }\n",
       "\n",
       "  events.on('output_added.OutputArea', handle_add_output);\n",
       "  events.on('output_updated.OutputArea', handle_update_output);\n",
       "  events.on('clear_output.CodeCell', handle_clear_output);\n",
       "  events.on('delete.Cell', handle_clear_output);\n",
       "  events.on('kernel_ready.Kernel', handle_kernel_cleanup);\n",
       "\n",
       "  OutputArea.prototype.register_mime_type(EXEC_MIME_TYPE, append_mime, {\n",
       "    safe: true,\n",
       "    index: 0\n",
       "  });\n",
       "}\n",
       "\n",
       "if (window.Jupyter !== undefined) {\n",
       "  try {\n",
       "    var events = require('base/js/events');\n",
       "    var OutputArea = require('notebook/js/outputarea').OutputArea;\n",
       "    if (OutputArea.prototype.mime_types().indexOf(EXEC_MIME_TYPE) == -1) {\n",
       "      register_renderer(events, OutputArea);\n",
       "    }\n",
       "  } catch(err) {\n",
       "  }\n",
       "}\n"
      ],
      "application/vnd.holoviews_load.v0+json": "\nif ((window.PyViz === undefined) || (window.PyViz instanceof HTMLElement)) {\n  window.PyViz = {comms: {}, comm_status:{}, kernels:{}, receivers: {}, plot_index: []}\n}\n\n\n    function JupyterCommManager() {\n    }\n\n    JupyterCommManager.prototype.register_target = function(plot_id, comm_id, msg_handler) {\n      if (window.comm_manager || ((window.Jupyter !== undefined) && (Jupyter.notebook.kernel != null))) {\n        var comm_manager = window.comm_manager || Jupyter.notebook.kernel.comm_manager;\n        comm_manager.register_target(comm_id, function(comm) {\n          comm.on_msg(msg_handler);\n        });\n      } else if ((plot_id in window.PyViz.kernels) && (window.PyViz.kernels[plot_id])) {\n        window.PyViz.kernels[plot_id].registerCommTarget(comm_id, function(comm) {\n          comm.onMsg = msg_handler;\n        });\n      } else if (typeof google != 'undefined' && google.colab.kernel != null) {\n        google.colab.kernel.comms.registerTarget(comm_id, (comm) => {\n          var messages = comm.messages[Symbol.asyncIterator]();\n          function processIteratorResult(result) {\n            var message = result.value;\n            console.log(message)\n            var content = {data: message.data, comm_id};\n            var buffers = []\n            for (var buffer of message.buffers || []) {\n              buffers.push(new DataView(buffer))\n            }\n            var metadata = message.metadata || {};\n            var msg = {content, buffers, metadata}\n            msg_handler(msg);\n            return messages.next().then(processIteratorResult);\n          }\n          return messages.next().then(processIteratorResult);\n        })\n      }\n    }\n\n    JupyterCommManager.prototype.get_client_comm = function(plot_id, comm_id, msg_handler) {\n      if (comm_id in window.PyViz.comms) {\n        return window.PyViz.comms[comm_id];\n      } else if (window.comm_manager || ((window.Jupyter !== undefined) && (Jupyter.notebook.kernel != null))) {\n        var comm_manager = window.comm_manager || Jupyter.notebook.kernel.comm_manager;\n        var comm = comm_manager.new_comm(comm_id, {}, {}, {}, comm_id);\n        if (msg_handler) {\n          comm.on_msg(msg_handler);\n        }\n      } else if ((plot_id in window.PyViz.kernels) && (window.PyViz.kernels[plot_id])) {\n        var comm = window.PyViz.kernels[plot_id].connectToComm(comm_id);\n        comm.open();\n        if (msg_handler) {\n          comm.onMsg = msg_handler;\n        }\n      } else if (typeof google != 'undefined' && google.colab.kernel != null) {\n        var comm_promise = google.colab.kernel.comms.open(comm_id)\n        comm_promise.then((comm) => {\n          window.PyViz.comms[comm_id] = comm;\n          if (msg_handler) {\n            var messages = comm.messages[Symbol.asyncIterator]();\n            function processIteratorResult(result) {\n              var message = result.value;\n              var content = {data: message.data};\n              var metadata = message.metadata || {comm_id};\n              var msg = {content, metadata}\n              msg_handler(msg);\n              return messages.next().then(processIteratorResult);\n            }\n            return messages.next().then(processIteratorResult);\n          }\n        }) \n        var sendClosure = (data, metadata, buffers, disposeOnDone) => {\n          return comm_promise.then((comm) => {\n            comm.send(data, metadata, buffers, disposeOnDone);\n          });\n        };\n        var comm = {\n          send: sendClosure\n        };\n      }\n      window.PyViz.comms[comm_id] = comm;\n      return comm;\n    }\n    window.PyViz.comm_manager = new JupyterCommManager();\n    \n\n\nvar JS_MIME_TYPE = 'application/javascript';\nvar HTML_MIME_TYPE = 'text/html';\nvar EXEC_MIME_TYPE = 'application/vnd.holoviews_exec.v0+json';\nvar CLASS_NAME = 'output';\n\n/**\n * Render data to the DOM node\n */\nfunction render(props, node) {\n  var div = document.createElement(\"div\");\n  var script = document.createElement(\"script\");\n  node.appendChild(div);\n  node.appendChild(script);\n}\n\n/**\n * Handle when a new output is added\n */\nfunction handle_add_output(event, handle) {\n  var output_area = handle.output_area;\n  var output = handle.output;\n  if ((output.data == undefined) || (!output.data.hasOwnProperty(EXEC_MIME_TYPE))) {\n    return\n  }\n  var id = output.metadata[EXEC_MIME_TYPE][\"id\"];\n  var toinsert = output_area.element.find(\".\" + CLASS_NAME.split(' ')[0]);\n  if (id !== undefined) {\n    var nchildren = toinsert.length;\n    var html_node = toinsert[nchildren-1].children[0];\n    html_node.innerHTML = output.data[HTML_MIME_TYPE];\n    var scripts = [];\n    var nodelist = html_node.querySelectorAll(\"script\");\n    for (var i in nodelist) {\n      if (nodelist.hasOwnProperty(i)) {\n        scripts.push(nodelist[i])\n      }\n    }\n\n    scripts.forEach( function (oldScript) {\n      var newScript = document.createElement(\"script\");\n      var attrs = [];\n      var nodemap = oldScript.attributes;\n      for (var j in nodemap) {\n        if (nodemap.hasOwnProperty(j)) {\n          attrs.push(nodemap[j])\n        }\n      }\n      attrs.forEach(function(attr) { newScript.setAttribute(attr.name, attr.value) });\n      newScript.appendChild(document.createTextNode(oldScript.innerHTML));\n      oldScript.parentNode.replaceChild(newScript, oldScript);\n    });\n    if (JS_MIME_TYPE in output.data) {\n      toinsert[nchildren-1].children[1].textContent = output.data[JS_MIME_TYPE];\n    }\n    output_area._hv_plot_id = id;\n    if ((window.Bokeh !== undefined) && (id in Bokeh.index)) {\n      window.PyViz.plot_index[id] = Bokeh.index[id];\n    } else {\n      window.PyViz.plot_index[id] = null;\n    }\n  } else if (output.metadata[EXEC_MIME_TYPE][\"server_id\"] !== undefined) {\n    var bk_div = document.createElement(\"div\");\n    bk_div.innerHTML = output.data[HTML_MIME_TYPE];\n    var script_attrs = bk_div.children[0].attributes;\n    for (var i = 0; i < script_attrs.length; i++) {\n      toinsert[toinsert.length - 1].childNodes[1].setAttribute(script_attrs[i].name, script_attrs[i].value);\n    }\n    // store reference to server id on output_area\n    output_area._bokeh_server_id = output.metadata[EXEC_MIME_TYPE][\"server_id\"];\n  }\n}\n\n/**\n * Handle when an output is cleared or removed\n */\nfunction handle_clear_output(event, handle) {\n  var id = handle.cell.output_area._hv_plot_id;\n  var server_id = handle.cell.output_area._bokeh_server_id;\n  if (((id === undefined) || !(id in PyViz.plot_index)) && (server_id !== undefined)) { return; }\n  var comm = window.PyViz.comm_manager.get_client_comm(\"hv-extension-comm\", \"hv-extension-comm\", function () {});\n  if (server_id !== null) {\n    comm.send({event_type: 'server_delete', 'id': server_id});\n    return;\n  } else if (comm !== null) {\n    comm.send({event_type: 'delete', 'id': id});\n  }\n  delete PyViz.plot_index[id];\n  if ((window.Bokeh !== undefined) & (id in window.Bokeh.index)) {\n    var doc = window.Bokeh.index[id].model.document\n    doc.clear();\n    const i = window.Bokeh.documents.indexOf(doc);\n    if (i > -1) {\n      window.Bokeh.documents.splice(i, 1);\n    }\n  }\n}\n\n/**\n * Handle kernel restart event\n */\nfunction handle_kernel_cleanup(event, handle) {\n  delete PyViz.comms[\"hv-extension-comm\"];\n  window.PyViz.plot_index = {}\n}\n\n/**\n * Handle update_display_data messages\n */\nfunction handle_update_output(event, handle) {\n  handle_clear_output(event, {cell: {output_area: handle.output_area}})\n  handle_add_output(event, handle)\n}\n\nfunction register_renderer(events, OutputArea) {\n  function append_mime(data, metadata, element) {\n    // create a DOM node to render to\n    var toinsert = this.create_output_subarea(\n    metadata,\n    CLASS_NAME,\n    EXEC_MIME_TYPE\n    );\n    this.keyboard_manager.register_events(toinsert);\n    // Render to node\n    var props = {data: data, metadata: metadata[EXEC_MIME_TYPE]};\n    render(props, toinsert[0]);\n    element.append(toinsert);\n    return toinsert\n  }\n\n  events.on('output_added.OutputArea', handle_add_output);\n  events.on('output_updated.OutputArea', handle_update_output);\n  events.on('clear_output.CodeCell', handle_clear_output);\n  events.on('delete.Cell', handle_clear_output);\n  events.on('kernel_ready.Kernel', handle_kernel_cleanup);\n\n  OutputArea.prototype.register_mime_type(EXEC_MIME_TYPE, append_mime, {\n    safe: true,\n    index: 0\n  });\n}\n\nif (window.Jupyter !== undefined) {\n  try {\n    var events = require('base/js/events');\n    var OutputArea = require('notebook/js/outputarea').OutputArea;\n    if (OutputArea.prototype.mime_types().indexOf(EXEC_MIME_TYPE) == -1) {\n      register_renderer(events, OutputArea);\n    }\n  } catch(err) {\n  }\n}\n"
     },
     "metadata": {},
     "output_type": "display_data"
    },
    {
     "data": {
      "text/html": [
       "<style>*[data-root-id],\n",
       "*[data-root-id] > * {\n",
       "  box-sizing: border-box;\n",
       "  font-family: var(--jp-ui-font-family);\n",
       "  font-size: var(--jp-ui-font-size1);\n",
       "  color: var(--vscode-editor-foreground, var(--jp-ui-font-color1));\n",
       "}\n",
       "\n",
       "/* Override VSCode background color */\n",
       ".cell-output-ipywidget-background:has(\n",
       "    > .cell-output-ipywidget-background > .lm-Widget > *[data-root-id]\n",
       "  ),\n",
       ".cell-output-ipywidget-background:has(> .lm-Widget > *[data-root-id]) {\n",
       "  background-color: transparent !important;\n",
       "}\n",
       "</style>"
      ]
     },
     "metadata": {},
     "output_type": "display_data"
    },
    {
     "data": {
      "application/vnd.holoviews_exec.v0+json": "",
      "text/html": [
       "<div id='p1002'>\n",
       "  <div id=\"bc2293cd-38c4-4429-bda0-8e5a9d1f5f70\" data-root-id=\"p1002\" style=\"display: contents;\"></div>\n",
       "</div>\n",
       "<script type=\"application/javascript\">(function(root) {\n",
       "  var docs_json = {\"b13a0436-f1cc-481f-987f-a295c9958fa0\":{\"version\":\"3.3.4\",\"title\":\"Bokeh Application\",\"roots\":[{\"type\":\"object\",\"name\":\"panel.models.browser.BrowserInfo\",\"id\":\"p1002\"},{\"type\":\"object\",\"name\":\"panel.models.comm_manager.CommManager\",\"id\":\"p1003\",\"attributes\":{\"plot_id\":\"p1002\",\"comm_id\":\"bcb44b10bf4b4b65b6c8bd7bfc7cae6b\",\"client_comm_id\":\"51453079b76a4dd89e970ee5d5902a5b\"}}],\"defs\":[{\"type\":\"model\",\"name\":\"ReactiveHTML1\"},{\"type\":\"model\",\"name\":\"FlexBox1\",\"properties\":[{\"name\":\"align_content\",\"kind\":\"Any\",\"default\":\"flex-start\"},{\"name\":\"align_items\",\"kind\":\"Any\",\"default\":\"flex-start\"},{\"name\":\"flex_direction\",\"kind\":\"Any\",\"default\":\"row\"},{\"name\":\"flex_wrap\",\"kind\":\"Any\",\"default\":\"wrap\"},{\"name\":\"justify_content\",\"kind\":\"Any\",\"default\":\"flex-start\"}]},{\"type\":\"model\",\"name\":\"FloatPanel1\",\"properties\":[{\"name\":\"config\",\"kind\":\"Any\",\"default\":{\"type\":\"map\"}},{\"name\":\"contained\",\"kind\":\"Any\",\"default\":true},{\"name\":\"position\",\"kind\":\"Any\",\"default\":\"right-top\"},{\"name\":\"offsetx\",\"kind\":\"Any\",\"default\":null},{\"name\":\"offsety\",\"kind\":\"Any\",\"default\":null},{\"name\":\"theme\",\"kind\":\"Any\",\"default\":\"primary\"},{\"name\":\"status\",\"kind\":\"Any\",\"default\":\"normalized\"}]},{\"type\":\"model\",\"name\":\"GridStack1\",\"properties\":[{\"name\":\"mode\",\"kind\":\"Any\",\"default\":\"warn\"},{\"name\":\"ncols\",\"kind\":\"Any\",\"default\":null},{\"name\":\"nrows\",\"kind\":\"Any\",\"default\":null},{\"name\":\"allow_resize\",\"kind\":\"Any\",\"default\":true},{\"name\":\"allow_drag\",\"kind\":\"Any\",\"default\":true},{\"name\":\"state\",\"kind\":\"Any\",\"default\":[]}]},{\"type\":\"model\",\"name\":\"drag1\",\"properties\":[{\"name\":\"slider_width\",\"kind\":\"Any\",\"default\":5},{\"name\":\"slider_color\",\"kind\":\"Any\",\"default\":\"black\"},{\"name\":\"value\",\"kind\":\"Any\",\"default\":50}]},{\"type\":\"model\",\"name\":\"click1\",\"properties\":[{\"name\":\"terminal_output\",\"kind\":\"Any\",\"default\":\"\"},{\"name\":\"debug_name\",\"kind\":\"Any\",\"default\":\"\"},{\"name\":\"clears\",\"kind\":\"Any\",\"default\":0}]},{\"type\":\"model\",\"name\":\"toggle_value1\",\"properties\":[{\"name\":\"active_icons\",\"kind\":\"Any\",\"default\":{\"type\":\"map\"}},{\"name\":\"options\",\"kind\":\"Any\",\"default\":{\"type\":\"map\",\"entries\":[[\"favorite\",\"heart\"]]}},{\"name\":\"value\",\"kind\":\"Any\",\"default\":[]},{\"name\":\"_reactions\",\"kind\":\"Any\",\"default\":[]},{\"name\":\"_base_url\",\"kind\":\"Any\",\"default\":\"https://tabler-icons.io/static/tabler-icons/icons/\"}]},{\"type\":\"model\",\"name\":\"copy_to_clipboard1\",\"properties\":[{\"name\":\"value\",\"kind\":\"Any\",\"default\":null},{\"name\":\"fill\",\"kind\":\"Any\",\"default\":\"none\"}]},{\"type\":\"model\",\"name\":\"FastWrapper1\",\"properties\":[{\"name\":\"object\",\"kind\":\"Any\",\"default\":null},{\"name\":\"style\",\"kind\":\"Any\",\"default\":null}]},{\"type\":\"model\",\"name\":\"NotificationAreaBase1\",\"properties\":[{\"name\":\"js_events\",\"kind\":\"Any\",\"default\":{\"type\":\"map\"}},{\"name\":\"position\",\"kind\":\"Any\",\"default\":\"bottom-right\"},{\"name\":\"_clear\",\"kind\":\"Any\",\"default\":0}]},{\"type\":\"model\",\"name\":\"NotificationArea1\",\"properties\":[{\"name\":\"js_events\",\"kind\":\"Any\",\"default\":{\"type\":\"map\"}},{\"name\":\"notifications\",\"kind\":\"Any\",\"default\":[]},{\"name\":\"position\",\"kind\":\"Any\",\"default\":\"bottom-right\"},{\"name\":\"_clear\",\"kind\":\"Any\",\"default\":0},{\"name\":\"types\",\"kind\":\"Any\",\"default\":[{\"type\":\"map\",\"entries\":[[\"type\",\"warning\"],[\"background\",\"#ffc107\"],[\"icon\",{\"type\":\"map\",\"entries\":[[\"className\",\"fas fa-exclamation-triangle\"],[\"tagName\",\"i\"],[\"color\",\"white\"]]}]]},{\"type\":\"map\",\"entries\":[[\"type\",\"info\"],[\"background\",\"#007bff\"],[\"icon\",{\"type\":\"map\",\"entries\":[[\"className\",\"fas fa-info-circle\"],[\"tagName\",\"i\"],[\"color\",\"white\"]]}]]}]}]},{\"type\":\"model\",\"name\":\"Notification\",\"properties\":[{\"name\":\"background\",\"kind\":\"Any\",\"default\":null},{\"name\":\"duration\",\"kind\":\"Any\",\"default\":3000},{\"name\":\"icon\",\"kind\":\"Any\",\"default\":null},{\"name\":\"message\",\"kind\":\"Any\",\"default\":\"\"},{\"name\":\"notification_type\",\"kind\":\"Any\",\"default\":null},{\"name\":\"_destroyed\",\"kind\":\"Any\",\"default\":false}]},{\"type\":\"model\",\"name\":\"TemplateActions1\",\"properties\":[{\"name\":\"open_modal\",\"kind\":\"Any\",\"default\":0},{\"name\":\"close_modal\",\"kind\":\"Any\",\"default\":0}]},{\"type\":\"model\",\"name\":\"BootstrapTemplateActions1\",\"properties\":[{\"name\":\"open_modal\",\"kind\":\"Any\",\"default\":0},{\"name\":\"close_modal\",\"kind\":\"Any\",\"default\":0}]},{\"type\":\"model\",\"name\":\"MaterialTemplateActions1\",\"properties\":[{\"name\":\"open_modal\",\"kind\":\"Any\",\"default\":0},{\"name\":\"close_modal\",\"kind\":\"Any\",\"default\":0}]}]}};\n",
       "  var render_items = [{\"docid\":\"b13a0436-f1cc-481f-987f-a295c9958fa0\",\"roots\":{\"p1002\":\"bc2293cd-38c4-4429-bda0-8e5a9d1f5f70\"},\"root_ids\":[\"p1002\"]}];\n",
       "  var docs = Object.values(docs_json)\n",
       "  if (!docs) {\n",
       "    return\n",
       "  }\n",
       "  const py_version = docs[0].version.replace('rc', '-rc.').replace('.dev', '-dev.')\n",
       "  function embed_document(root) {\n",
       "    var Bokeh = get_bokeh(root)\n",
       "    Bokeh.embed.embed_items_notebook(docs_json, render_items);\n",
       "    for (const render_item of render_items) {\n",
       "      for (const root_id of render_item.root_ids) {\n",
       "\tconst id_el = document.getElementById(root_id)\n",
       "\tif (id_el.children.length && (id_el.children[0].className === 'bk-root')) {\n",
       "\t  const root_el = id_el.children[0]\n",
       "\t  root_el.id = root_el.id + '-rendered'\n",
       "\t}\n",
       "      }\n",
       "    }\n",
       "  }\n",
       "  function get_bokeh(root) {\n",
       "    if (root.Bokeh === undefined) {\n",
       "      return null\n",
       "    } else if (root.Bokeh.version !== py_version) {\n",
       "      if (root.Bokeh.versions === undefined || !root.Bokeh.versions.has(py_version)) {\n",
       "\treturn null\n",
       "      }\n",
       "      return root.Bokeh.versions.get(py_version);\n",
       "    } else if (root.Bokeh.version === py_version) {\n",
       "      return root.Bokeh\n",
       "    }\n",
       "    return null\n",
       "  }\n",
       "  function is_loaded(root) {\n",
       "    var Bokeh = get_bokeh(root)\n",
       "    return (Bokeh != null && Bokeh.Panel !== undefined)\n",
       "  }\n",
       "  if (is_loaded(root)) {\n",
       "    embed_document(root);\n",
       "  } else {\n",
       "    var attempts = 0;\n",
       "    var timer = setInterval(function(root) {\n",
       "      if (is_loaded(root)) {\n",
       "        clearInterval(timer);\n",
       "        embed_document(root);\n",
       "      } else if (document.readyState == \"complete\") {\n",
       "        attempts++;\n",
       "        if (attempts > 200) {\n",
       "          clearInterval(timer);\n",
       "\t  var Bokeh = get_bokeh(root)\n",
       "\t  if (Bokeh == null || Bokeh.Panel == null) {\n",
       "            console.warn(\"Panel: ERROR: Unable to run Panel code because Bokeh or Panel library is missing\");\n",
       "\t  } else {\n",
       "\t    console.warn(\"Panel: WARNING: Attempting to render but not all required libraries could be resolved.\")\n",
       "\t    embed_document(root)\n",
       "\t  }\n",
       "        }\n",
       "      }\n",
       "    }, 25, root)\n",
       "  }\n",
       "})(window);</script>"
      ]
     },
     "metadata": {
      "application/vnd.holoviews_exec.v0+json": {
       "id": "p1002"
      }
     },
     "output_type": "display_data"
    }
   ],
   "source": [
    "from spyglass.common import (Session, IntervalList,IntervalPositionInfo,\n",
    "                             LabMember, LabTeam, Raw, Session, Nwbfile,\n",
    "                            Electrode,LFPBand,interval_list_intersect)\n",
    "from spyglass.common.common_interval import _intersection\n",
    "from spyglass.common.common_position import IntervalLinearizedPosition\n",
    "\n",
    "import spyglass.spikesorting.v0 as ss\n",
    "from spyglass.spikesorting.v0 import (SortGroup, \n",
    "                                    SortInterval,\n",
    "                                    SpikeSortingPreprocessingParameters,\n",
    "                                    SpikeSortingRecording, \n",
    "                                    SpikeSorterParameters,\n",
    "                                    SpikeSortingRecordingSelection,\n",
    "                                    ArtifactDetectionParameters, ArtifactDetectionSelection,\n",
    "                                    ArtifactRemovedIntervalList, ArtifactDetection,\n",
    "                                      SpikeSortingSelection, SpikeSorting,\n",
    "                                   CuratedSpikeSortingSelection,CuratedSpikeSorting,Curation)\n",
    "from spyglass.decoding.v0.clusterless import (UnitMarks,\n",
    "                                           UnitMarkParameters,UnitMarksIndicatorSelection,\n",
    "                                          UnitMarksIndicator)\n",
    "from spyglass.utils.nwb_helper_fn import get_nwb_copy_filename\n",
    "from spyglass.common.common_position import IntervalPositionInfo, IntervalPositionInfoSelection\n",
    "\n",
    "from replay_trajectory_classification.environments import Environment\n",
    "from spyglass.common.common_position import TrackGraph\n",
    "from spyglass.decoding.v0.clusterless import ClusterlessClassifierParameters\n",
    "from replay_trajectory_classification import ClusterlessClassifier\n",
    "\n",
    "\n",
    "\n",
    "import pprint\n",
    "# Here are the analysis tables specific to Shijie Gu\n",
    "from spyglass.shijiegu.Analysis_SGU import EpochPos,TrialChoice,Decode,DecodeResultsLinear\n",
    "from spyglass.shijiegu.decodeHelpers import (thresholder_sort,runSessionNames,populateUnitMarks,intersectValidIntervals)"
   ]
  },
  {
   "cell_type": "code",
   "execution_count": 5,
   "id": "9cfd91a4-ed92-40b2-aa1e-0bbc7561d885",
   "metadata": {},
   "outputs": [],
   "source": [
    "from spyglass.shijiegu.decodeHelpers import decodePrepMasterSession"
   ]
  },
  {
   "cell_type": "markdown",
   "id": "210af784-53b5-4631-b767-33ec7a3cf1a4",
   "metadata": {},
   "source": [
    "## Table stream:\n",
    "#### The thresholder sorter will fill `SpikeSorting`, then we fill `Curation`, `UnitMarks`\n",
    "### 1. The final product is `UnitMarksIndicator`, which include spike and location"
   ]
  },
  {
   "cell_type": "code",
   "execution_count": 95,
   "id": "90352bb7-f85b-476d-8d07-5978f28a47af",
   "metadata": {},
   "outputs": [],
   "source": [
    "nwb_copy_file_name = 'eliot20221017_.nwb'"
   ]
  },
  {
   "cell_type": "code",
   "execution_count": 96,
   "id": "75854fc6-29fb-4ec4-850d-7d4ff0cc608e",
   "metadata": {},
   "outputs": [
    {
     "name": "stdout",
     "output_type": "stream",
     "text": [
      "['02_Seq2Session1', '04_Seq2Session2', '06_Seq2Session3', '08_Seq2Session4']\n"
     ]
    }
   ],
   "source": [
    "session_interval, position_interval = runSessionNames(nwb_copy_file_name)\n",
    "print(session_interval)"
   ]
  },
  {
   "cell_type": "code",
   "execution_count": 76,
   "id": "b0291d7e-04f2-4617-8dc5-6f9a3f3181fc",
   "metadata": {
    "scrolled": true
   },
   "outputs": [
    {
     "name": "stdout",
     "output_type": "stream",
     "text": [
      "0\n",
      "inserting into IntervalList\n",
      "done inserting into IntervalList\n",
      "2\n",
      "inserting into IntervalList\n",
      "done inserting into IntervalList\n",
      "4\n",
      "inserting into IntervalList\n",
      "done inserting into IntervalList\n",
      "5\n",
      "inserting into IntervalList\n",
      "done inserting into IntervalList\n",
      "13\n",
      "inserting into IntervalList\n",
      "done inserting into IntervalList\n",
      "14\n",
      "inserting into IntervalList\n",
      "done inserting into IntervalList\n",
      "16\n",
      "inserting into IntervalList\n",
      "done inserting into IntervalList\n",
      "17\n",
      "inserting into IntervalList\n",
      "done inserting into IntervalList\n",
      "20\n",
      "inserting into IntervalList\n",
      "done inserting into IntervalList\n",
      "23\n",
      "inserting into IntervalList\n",
      "done inserting into IntervalList\n",
      "26\n",
      "inserting into IntervalList\n",
      "done inserting into IntervalList\n",
      "27\n",
      "inserting into IntervalList\n",
      "done inserting into IntervalList\n",
      "28\n",
      "inserting into IntervalList\n",
      "done inserting into IntervalList\n",
      "29\n",
      "inserting into IntervalList\n",
      "done inserting into IntervalList\n",
      "30\n",
      "inserting into IntervalList\n",
      "done inserting into IntervalList\n",
      "31\n",
      "inserting into IntervalList\n",
      "done inserting into IntervalList\n"
     ]
    },
    {
     "name": "stderr",
     "output_type": "stream",
     "text": [
      "[11:23:35][INFO] Spyglass: Running spike sorting on {'nwb_file_name': 'eliot20221020_.nwb', 'sort_group_id': 0, 'sort_interval_name': '02_Seq2Session1', 'preproc_params_name': 'franklab_tetrode_hippocampus', 'team_name': 'Shijie Gu', 'sorter': 'clusterless_thresholder', 'sorter_params_name': 'default', 'artifact_removed_interval_list_name': 'eliot20221020_.nwb_02_Seq2Session1_0_franklab_tetrode_hippocampus_ampl_1500_prop_075_1ms_artifact_removed_valid_times_track_time_only'}...\n",
      "03-Jul-24 11:23:35 Running spike sorting on {'nwb_file_name': 'eliot20221020_.nwb', 'sort_group_id': 0, 'sort_interval_name': '02_Seq2Session1', 'preproc_params_name': 'franklab_tetrode_hippocampus', 'team_name': 'Shijie Gu', 'sorter': 'clusterless_thresholder', 'sorter_params_name': 'default', 'artifact_removed_interval_list_name': 'eliot20221020_.nwb_02_Seq2Session1_0_franklab_tetrode_hippocampus_ampl_1500_prop_075_1ms_artifact_removed_valid_times_track_time_only'}...\n"
     ]
    },
    {
     "data": {
      "application/vnd.jupyter.widget-view+json": {
       "model_id": "550c684e66fb4501a11a30ae2c1be6e9",
       "version_major": 2,
       "version_minor": 0
      },
      "text/plain": [
       "detect peaks using locally_exclusive:   0%|          | 0/2277 [00:00<?, ?it/s]"
      ]
     },
     "metadata": {},
     "output_type": "display_data"
    },
    {
     "name": "stderr",
     "output_type": "stream",
     "text": [
      "[11:23:40][INFO] Spyglass: Saving sorting results...\n",
      "03-Jul-24 11:23:40 Saving sorting results...\n",
      "[11:23:43][INFO] Spyglass: Running spike sorting on {'nwb_file_name': 'eliot20221020_.nwb', 'sort_group_id': 13, 'sort_interval_name': '02_Seq2Session1', 'preproc_params_name': 'franklab_tetrode_hippocampus', 'team_name': 'Shijie Gu', 'sorter': 'clusterless_thresholder', 'sorter_params_name': 'default', 'artifact_removed_interval_list_name': 'eliot20221020_.nwb_02_Seq2Session1_13_franklab_tetrode_hippocampus_ampl_1500_prop_075_1ms_artifact_removed_valid_times_track_time_only'}...\n",
      "03-Jul-24 11:23:43 Running spike sorting on {'nwb_file_name': 'eliot20221020_.nwb', 'sort_group_id': 13, 'sort_interval_name': '02_Seq2Session1', 'preproc_params_name': 'franklab_tetrode_hippocampus', 'team_name': 'Shijie Gu', 'sorter': 'clusterless_thresholder', 'sorter_params_name': 'default', 'artifact_removed_interval_list_name': 'eliot20221020_.nwb_02_Seq2Session1_13_franklab_tetrode_hippocampus_ampl_1500_prop_075_1ms_artifact_removed_valid_times_track_time_only'}...\n"
     ]
    },
    {
     "data": {
      "application/vnd.jupyter.widget-view+json": {
       "model_id": "81d0ad816a0044cc816f0ec853d15c5d",
       "version_major": 2,
       "version_minor": 0
      },
      "text/plain": [
       "detect peaks using locally_exclusive:   0%|          | 0/2277 [00:00<?, ?it/s]"
      ]
     },
     "metadata": {},
     "output_type": "display_data"
    },
    {
     "name": "stderr",
     "output_type": "stream",
     "text": [
      "[11:23:47][INFO] Spyglass: Saving sorting results...\n",
      "03-Jul-24 11:23:47 Saving sorting results...\n",
      "[11:23:50][INFO] Spyglass: Running spike sorting on {'nwb_file_name': 'eliot20221020_.nwb', 'sort_group_id': 14, 'sort_interval_name': '02_Seq2Session1', 'preproc_params_name': 'franklab_tetrode_hippocampus', 'team_name': 'Shijie Gu', 'sorter': 'clusterless_thresholder', 'sorter_params_name': 'default', 'artifact_removed_interval_list_name': 'eliot20221020_.nwb_02_Seq2Session1_14_franklab_tetrode_hippocampus_ampl_1500_prop_075_1ms_artifact_removed_valid_times_track_time_only'}...\n",
      "03-Jul-24 11:23:50 Running spike sorting on {'nwb_file_name': 'eliot20221020_.nwb', 'sort_group_id': 14, 'sort_interval_name': '02_Seq2Session1', 'preproc_params_name': 'franklab_tetrode_hippocampus', 'team_name': 'Shijie Gu', 'sorter': 'clusterless_thresholder', 'sorter_params_name': 'default', 'artifact_removed_interval_list_name': 'eliot20221020_.nwb_02_Seq2Session1_14_franklab_tetrode_hippocampus_ampl_1500_prop_075_1ms_artifact_removed_valid_times_track_time_only'}...\n"
     ]
    },
    {
     "data": {
      "application/vnd.jupyter.widget-view+json": {
       "model_id": "b9aa2a56a40b4744b63a5a37a183a77a",
       "version_major": 2,
       "version_minor": 0
      },
      "text/plain": [
       "detect peaks using locally_exclusive:   0%|          | 0/2277 [00:00<?, ?it/s]"
      ]
     },
     "metadata": {},
     "output_type": "display_data"
    },
    {
     "name": "stderr",
     "output_type": "stream",
     "text": [
      "[11:23:56][INFO] Spyglass: Saving sorting results...\n",
      "03-Jul-24 11:23:56 Saving sorting results...\n",
      "[11:23:59][INFO] Spyglass: Running spike sorting on {'nwb_file_name': 'eliot20221020_.nwb', 'sort_group_id': 16, 'sort_interval_name': '02_Seq2Session1', 'preproc_params_name': 'franklab_tetrode_hippocampus', 'team_name': 'Shijie Gu', 'sorter': 'clusterless_thresholder', 'sorter_params_name': 'default', 'artifact_removed_interval_list_name': 'eliot20221020_.nwb_02_Seq2Session1_16_franklab_tetrode_hippocampus_ampl_1500_prop_075_1ms_artifact_removed_valid_times_track_time_only'}...\n",
      "03-Jul-24 11:23:59 Running spike sorting on {'nwb_file_name': 'eliot20221020_.nwb', 'sort_group_id': 16, 'sort_interval_name': '02_Seq2Session1', 'preproc_params_name': 'franklab_tetrode_hippocampus', 'team_name': 'Shijie Gu', 'sorter': 'clusterless_thresholder', 'sorter_params_name': 'default', 'artifact_removed_interval_list_name': 'eliot20221020_.nwb_02_Seq2Session1_16_franklab_tetrode_hippocampus_ampl_1500_prop_075_1ms_artifact_removed_valid_times_track_time_only'}...\n"
     ]
    },
    {
     "data": {
      "application/vnd.jupyter.widget-view+json": {
       "model_id": "e3deace14c8e44c1a73ea6b2919b0857",
       "version_major": 2,
       "version_minor": 0
      },
      "text/plain": [
       "detect peaks using locally_exclusive:   0%|          | 0/2277 [00:00<?, ?it/s]"
      ]
     },
     "metadata": {},
     "output_type": "display_data"
    },
    {
     "name": "stderr",
     "output_type": "stream",
     "text": [
      "[11:24:04][INFO] Spyglass: Saving sorting results...\n",
      "03-Jul-24 11:24:04 Saving sorting results...\n",
      "[11:24:08][INFO] Spyglass: Running spike sorting on {'nwb_file_name': 'eliot20221020_.nwb', 'sort_group_id': 17, 'sort_interval_name': '02_Seq2Session1', 'preproc_params_name': 'franklab_tetrode_hippocampus', 'team_name': 'Shijie Gu', 'sorter': 'clusterless_thresholder', 'sorter_params_name': 'default', 'artifact_removed_interval_list_name': 'eliot20221020_.nwb_02_Seq2Session1_17_franklab_tetrode_hippocampus_ampl_1500_prop_075_1ms_artifact_removed_valid_times_track_time_only'}...\n",
      "03-Jul-24 11:24:08 Running spike sorting on {'nwb_file_name': 'eliot20221020_.nwb', 'sort_group_id': 17, 'sort_interval_name': '02_Seq2Session1', 'preproc_params_name': 'franklab_tetrode_hippocampus', 'team_name': 'Shijie Gu', 'sorter': 'clusterless_thresholder', 'sorter_params_name': 'default', 'artifact_removed_interval_list_name': 'eliot20221020_.nwb_02_Seq2Session1_17_franklab_tetrode_hippocampus_ampl_1500_prop_075_1ms_artifact_removed_valid_times_track_time_only'}...\n"
     ]
    },
    {
     "data": {
      "application/vnd.jupyter.widget-view+json": {
       "model_id": "2a7387edb0f64311916889ee70c2d7c9",
       "version_major": 2,
       "version_minor": 0
      },
      "text/plain": [
       "detect peaks using locally_exclusive:   0%|          | 0/2277 [00:00<?, ?it/s]"
      ]
     },
     "metadata": {},
     "output_type": "display_data"
    },
    {
     "name": "stderr",
     "output_type": "stream",
     "text": [
      "[11:24:13][INFO] Spyglass: Saving sorting results...\n",
      "03-Jul-24 11:24:13 Saving sorting results...\n",
      "[11:24:16][INFO] Spyglass: Running spike sorting on {'nwb_file_name': 'eliot20221020_.nwb', 'sort_group_id': 20, 'sort_interval_name': '02_Seq2Session1', 'preproc_params_name': 'franklab_tetrode_hippocampus', 'team_name': 'Shijie Gu', 'sorter': 'clusterless_thresholder', 'sorter_params_name': 'default', 'artifact_removed_interval_list_name': 'eliot20221020_.nwb_02_Seq2Session1_20_franklab_tetrode_hippocampus_ampl_1500_prop_075_1ms_artifact_removed_valid_times_track_time_only'}...\n",
      "03-Jul-24 11:24:16 Running spike sorting on {'nwb_file_name': 'eliot20221020_.nwb', 'sort_group_id': 20, 'sort_interval_name': '02_Seq2Session1', 'preproc_params_name': 'franklab_tetrode_hippocampus', 'team_name': 'Shijie Gu', 'sorter': 'clusterless_thresholder', 'sorter_params_name': 'default', 'artifact_removed_interval_list_name': 'eliot20221020_.nwb_02_Seq2Session1_20_franklab_tetrode_hippocampus_ampl_1500_prop_075_1ms_artifact_removed_valid_times_track_time_only'}...\n"
     ]
    },
    {
     "data": {
      "application/vnd.jupyter.widget-view+json": {
       "model_id": "8bca402488834e5c89e8f4f7bc30a718",
       "version_major": 2,
       "version_minor": 0
      },
      "text/plain": [
       "detect peaks using locally_exclusive:   0%|          | 0/2277 [00:00<?, ?it/s]"
      ]
     },
     "metadata": {},
     "output_type": "display_data"
    },
    {
     "name": "stderr",
     "output_type": "stream",
     "text": [
      "[11:24:21][INFO] Spyglass: Saving sorting results...\n",
      "03-Jul-24 11:24:21 Saving sorting results...\n",
      "[11:24:26][INFO] Spyglass: Running spike sorting on {'nwb_file_name': 'eliot20221020_.nwb', 'sort_group_id': 23, 'sort_interval_name': '02_Seq2Session1', 'preproc_params_name': 'franklab_tetrode_hippocampus', 'team_name': 'Shijie Gu', 'sorter': 'clusterless_thresholder', 'sorter_params_name': 'default', 'artifact_removed_interval_list_name': 'eliot20221020_.nwb_02_Seq2Session1_23_franklab_tetrode_hippocampus_ampl_1500_prop_075_1ms_artifact_removed_valid_times_track_time_only'}...\n",
      "03-Jul-24 11:24:26 Running spike sorting on {'nwb_file_name': 'eliot20221020_.nwb', 'sort_group_id': 23, 'sort_interval_name': '02_Seq2Session1', 'preproc_params_name': 'franklab_tetrode_hippocampus', 'team_name': 'Shijie Gu', 'sorter': 'clusterless_thresholder', 'sorter_params_name': 'default', 'artifact_removed_interval_list_name': 'eliot20221020_.nwb_02_Seq2Session1_23_franklab_tetrode_hippocampus_ampl_1500_prop_075_1ms_artifact_removed_valid_times_track_time_only'}...\n"
     ]
    },
    {
     "data": {
      "application/vnd.jupyter.widget-view+json": {
       "model_id": "8e89b5f91c6d452da2d42dece983a807",
       "version_major": 2,
       "version_minor": 0
      },
      "text/plain": [
       "detect peaks using locally_exclusive:   0%|          | 0/2277 [00:00<?, ?it/s]"
      ]
     },
     "metadata": {},
     "output_type": "display_data"
    },
    {
     "name": "stderr",
     "output_type": "stream",
     "text": [
      "[11:24:30][INFO] Spyglass: Saving sorting results...\n",
      "03-Jul-24 11:24:30 Saving sorting results...\n",
      "[11:24:35][INFO] Spyglass: Running spike sorting on {'nwb_file_name': 'eliot20221020_.nwb', 'sort_group_id': 26, 'sort_interval_name': '02_Seq2Session1', 'preproc_params_name': 'franklab_tetrode_hippocampus', 'team_name': 'Shijie Gu', 'sorter': 'clusterless_thresholder', 'sorter_params_name': 'default', 'artifact_removed_interval_list_name': 'eliot20221020_.nwb_02_Seq2Session1_26_franklab_tetrode_hippocampus_ampl_1500_prop_075_1ms_artifact_removed_valid_times_track_time_only'}...\n",
      "03-Jul-24 11:24:35 Running spike sorting on {'nwb_file_name': 'eliot20221020_.nwb', 'sort_group_id': 26, 'sort_interval_name': '02_Seq2Session1', 'preproc_params_name': 'franklab_tetrode_hippocampus', 'team_name': 'Shijie Gu', 'sorter': 'clusterless_thresholder', 'sorter_params_name': 'default', 'artifact_removed_interval_list_name': 'eliot20221020_.nwb_02_Seq2Session1_26_franklab_tetrode_hippocampus_ampl_1500_prop_075_1ms_artifact_removed_valid_times_track_time_only'}...\n"
     ]
    },
    {
     "data": {
      "application/vnd.jupyter.widget-view+json": {
       "model_id": "3d25b775f14c4c89a11b88e63ac36fcb",
       "version_major": 2,
       "version_minor": 0
      },
      "text/plain": [
       "detect peaks using locally_exclusive:   0%|          | 0/2277 [00:00<?, ?it/s]"
      ]
     },
     "metadata": {},
     "output_type": "display_data"
    },
    {
     "name": "stderr",
     "output_type": "stream",
     "text": [
      "[11:24:39][INFO] Spyglass: Saving sorting results...\n",
      "03-Jul-24 11:24:39 Saving sorting results...\n",
      "[11:24:44][INFO] Spyglass: Running spike sorting on {'nwb_file_name': 'eliot20221020_.nwb', 'sort_group_id': 27, 'sort_interval_name': '02_Seq2Session1', 'preproc_params_name': 'franklab_tetrode_hippocampus', 'team_name': 'Shijie Gu', 'sorter': 'clusterless_thresholder', 'sorter_params_name': 'default', 'artifact_removed_interval_list_name': 'eliot20221020_.nwb_02_Seq2Session1_27_franklab_tetrode_hippocampus_ampl_1500_prop_075_1ms_artifact_removed_valid_times_track_time_only'}...\n",
      "03-Jul-24 11:24:44 Running spike sorting on {'nwb_file_name': 'eliot20221020_.nwb', 'sort_group_id': 27, 'sort_interval_name': '02_Seq2Session1', 'preproc_params_name': 'franklab_tetrode_hippocampus', 'team_name': 'Shijie Gu', 'sorter': 'clusterless_thresholder', 'sorter_params_name': 'default', 'artifact_removed_interval_list_name': 'eliot20221020_.nwb_02_Seq2Session1_27_franklab_tetrode_hippocampus_ampl_1500_prop_075_1ms_artifact_removed_valid_times_track_time_only'}...\n"
     ]
    },
    {
     "data": {
      "application/vnd.jupyter.widget-view+json": {
       "model_id": "ca8ee2b40dfa429eb7d4420dd03c8636",
       "version_major": 2,
       "version_minor": 0
      },
      "text/plain": [
       "detect peaks using locally_exclusive:   0%|          | 0/2277 [00:00<?, ?it/s]"
      ]
     },
     "metadata": {},
     "output_type": "display_data"
    },
    {
     "name": "stderr",
     "output_type": "stream",
     "text": [
      "[11:24:49][INFO] Spyglass: Saving sorting results...\n",
      "03-Jul-24 11:24:49 Saving sorting results...\n",
      "[11:24:52][INFO] Spyglass: Running spike sorting on {'nwb_file_name': 'eliot20221020_.nwb', 'sort_group_id': 28, 'sort_interval_name': '02_Seq2Session1', 'preproc_params_name': 'franklab_tetrode_hippocampus', 'team_name': 'Shijie Gu', 'sorter': 'clusterless_thresholder', 'sorter_params_name': 'default', 'artifact_removed_interval_list_name': 'eliot20221020_.nwb_02_Seq2Session1_28_franklab_tetrode_hippocampus_ampl_1500_prop_075_1ms_artifact_removed_valid_times_track_time_only'}...\n",
      "03-Jul-24 11:24:52 Running spike sorting on {'nwb_file_name': 'eliot20221020_.nwb', 'sort_group_id': 28, 'sort_interval_name': '02_Seq2Session1', 'preproc_params_name': 'franklab_tetrode_hippocampus', 'team_name': 'Shijie Gu', 'sorter': 'clusterless_thresholder', 'sorter_params_name': 'default', 'artifact_removed_interval_list_name': 'eliot20221020_.nwb_02_Seq2Session1_28_franklab_tetrode_hippocampus_ampl_1500_prop_075_1ms_artifact_removed_valid_times_track_time_only'}...\n"
     ]
    },
    {
     "data": {
      "application/vnd.jupyter.widget-view+json": {
       "model_id": "6e3b312bbb2d42c9a8da4c480cbd33f9",
       "version_major": 2,
       "version_minor": 0
      },
      "text/plain": [
       "detect peaks using locally_exclusive:   0%|          | 0/2277 [00:00<?, ?it/s]"
      ]
     },
     "metadata": {},
     "output_type": "display_data"
    },
    {
     "name": "stderr",
     "output_type": "stream",
     "text": [
      "[11:24:57][INFO] Spyglass: Saving sorting results...\n",
      "03-Jul-24 11:24:57 Saving sorting results...\n",
      "[11:25:02][INFO] Spyglass: Running spike sorting on {'nwb_file_name': 'eliot20221020_.nwb', 'sort_group_id': 29, 'sort_interval_name': '02_Seq2Session1', 'preproc_params_name': 'franklab_tetrode_hippocampus', 'team_name': 'Shijie Gu', 'sorter': 'clusterless_thresholder', 'sorter_params_name': 'default', 'artifact_removed_interval_list_name': 'eliot20221020_.nwb_02_Seq2Session1_29_franklab_tetrode_hippocampus_ampl_1500_prop_075_1ms_artifact_removed_valid_times_track_time_only'}...\n",
      "03-Jul-24 11:25:02 Running spike sorting on {'nwb_file_name': 'eliot20221020_.nwb', 'sort_group_id': 29, 'sort_interval_name': '02_Seq2Session1', 'preproc_params_name': 'franklab_tetrode_hippocampus', 'team_name': 'Shijie Gu', 'sorter': 'clusterless_thresholder', 'sorter_params_name': 'default', 'artifact_removed_interval_list_name': 'eliot20221020_.nwb_02_Seq2Session1_29_franklab_tetrode_hippocampus_ampl_1500_prop_075_1ms_artifact_removed_valid_times_track_time_only'}...\n"
     ]
    },
    {
     "data": {
      "application/vnd.jupyter.widget-view+json": {
       "model_id": "009702915a6443fea22cddcebfd802f7",
       "version_major": 2,
       "version_minor": 0
      },
      "text/plain": [
       "detect peaks using locally_exclusive:   0%|          | 0/2277 [00:00<?, ?it/s]"
      ]
     },
     "metadata": {},
     "output_type": "display_data"
    },
    {
     "name": "stderr",
     "output_type": "stream",
     "text": [
      "[11:25:06][INFO] Spyglass: Saving sorting results...\n",
      "03-Jul-24 11:25:06 Saving sorting results...\n",
      "[11:25:12][INFO] Spyglass: Running spike sorting on {'nwb_file_name': 'eliot20221020_.nwb', 'sort_group_id': 2, 'sort_interval_name': '02_Seq2Session1', 'preproc_params_name': 'franklab_tetrode_hippocampus', 'team_name': 'Shijie Gu', 'sorter': 'clusterless_thresholder', 'sorter_params_name': 'default', 'artifact_removed_interval_list_name': 'eliot20221020_.nwb_02_Seq2Session1_2_franklab_tetrode_hippocampus_ampl_1500_prop_075_1ms_artifact_removed_valid_times_track_time_only'}...\n",
      "03-Jul-24 11:25:12 Running spike sorting on {'nwb_file_name': 'eliot20221020_.nwb', 'sort_group_id': 2, 'sort_interval_name': '02_Seq2Session1', 'preproc_params_name': 'franklab_tetrode_hippocampus', 'team_name': 'Shijie Gu', 'sorter': 'clusterless_thresholder', 'sorter_params_name': 'default', 'artifact_removed_interval_list_name': 'eliot20221020_.nwb_02_Seq2Session1_2_franklab_tetrode_hippocampus_ampl_1500_prop_075_1ms_artifact_removed_valid_times_track_time_only'}...\n"
     ]
    },
    {
     "data": {
      "application/vnd.jupyter.widget-view+json": {
       "model_id": "7e98d1314ae34160b2493dd7b5f9be1b",
       "version_major": 2,
       "version_minor": 0
      },
      "text/plain": [
       "detect peaks using locally_exclusive:   0%|          | 0/2277 [00:00<?, ?it/s]"
      ]
     },
     "metadata": {},
     "output_type": "display_data"
    },
    {
     "name": "stderr",
     "output_type": "stream",
     "text": [
      "[11:25:17][INFO] Spyglass: Saving sorting results...\n",
      "03-Jul-24 11:25:17 Saving sorting results...\n",
      "[11:25:22][INFO] Spyglass: Running spike sorting on {'nwb_file_name': 'eliot20221020_.nwb', 'sort_group_id': 30, 'sort_interval_name': '02_Seq2Session1', 'preproc_params_name': 'franklab_tetrode_hippocampus', 'team_name': 'Shijie Gu', 'sorter': 'clusterless_thresholder', 'sorter_params_name': 'default', 'artifact_removed_interval_list_name': 'eliot20221020_.nwb_02_Seq2Session1_30_franklab_tetrode_hippocampus_ampl_1500_prop_075_1ms_artifact_removed_valid_times_track_time_only'}...\n",
      "03-Jul-24 11:25:22 Running spike sorting on {'nwb_file_name': 'eliot20221020_.nwb', 'sort_group_id': 30, 'sort_interval_name': '02_Seq2Session1', 'preproc_params_name': 'franklab_tetrode_hippocampus', 'team_name': 'Shijie Gu', 'sorter': 'clusterless_thresholder', 'sorter_params_name': 'default', 'artifact_removed_interval_list_name': 'eliot20221020_.nwb_02_Seq2Session1_30_franklab_tetrode_hippocampus_ampl_1500_prop_075_1ms_artifact_removed_valid_times_track_time_only'}...\n"
     ]
    },
    {
     "data": {
      "application/vnd.jupyter.widget-view+json": {
       "model_id": "8f37ceb72c9d4d2bb9ca8a34e53b73d5",
       "version_major": 2,
       "version_minor": 0
      },
      "text/plain": [
       "detect peaks using locally_exclusive:   0%|          | 0/2277 [00:00<?, ?it/s]"
      ]
     },
     "metadata": {},
     "output_type": "display_data"
    },
    {
     "name": "stderr",
     "output_type": "stream",
     "text": [
      "[11:25:27][INFO] Spyglass: Saving sorting results...\n",
      "03-Jul-24 11:25:27 Saving sorting results...\n",
      "[11:25:31][INFO] Spyglass: Running spike sorting on {'nwb_file_name': 'eliot20221020_.nwb', 'sort_group_id': 31, 'sort_interval_name': '02_Seq2Session1', 'preproc_params_name': 'franklab_tetrode_hippocampus', 'team_name': 'Shijie Gu', 'sorter': 'clusterless_thresholder', 'sorter_params_name': 'default', 'artifact_removed_interval_list_name': 'eliot20221020_.nwb_02_Seq2Session1_31_franklab_tetrode_hippocampus_ampl_1500_prop_075_1ms_artifact_removed_valid_times_track_time_only'}...\n",
      "03-Jul-24 11:25:31 Running spike sorting on {'nwb_file_name': 'eliot20221020_.nwb', 'sort_group_id': 31, 'sort_interval_name': '02_Seq2Session1', 'preproc_params_name': 'franklab_tetrode_hippocampus', 'team_name': 'Shijie Gu', 'sorter': 'clusterless_thresholder', 'sorter_params_name': 'default', 'artifact_removed_interval_list_name': 'eliot20221020_.nwb_02_Seq2Session1_31_franklab_tetrode_hippocampus_ampl_1500_prop_075_1ms_artifact_removed_valid_times_track_time_only'}...\n"
     ]
    },
    {
     "data": {
      "application/vnd.jupyter.widget-view+json": {
       "model_id": "71a9ca1d49b64e4492f7a6c1d18323bd",
       "version_major": 2,
       "version_minor": 0
      },
      "text/plain": [
       "detect peaks using locally_exclusive:   0%|          | 0/2277 [00:00<?, ?it/s]"
      ]
     },
     "metadata": {},
     "output_type": "display_data"
    },
    {
     "name": "stderr",
     "output_type": "stream",
     "text": [
      "[11:25:36][INFO] Spyglass: Saving sorting results...\n",
      "03-Jul-24 11:25:36 Saving sorting results...\n",
      "[11:25:40][INFO] Spyglass: Running spike sorting on {'nwb_file_name': 'eliot20221020_.nwb', 'sort_group_id': 4, 'sort_interval_name': '02_Seq2Session1', 'preproc_params_name': 'franklab_tetrode_hippocampus', 'team_name': 'Shijie Gu', 'sorter': 'clusterless_thresholder', 'sorter_params_name': 'default', 'artifact_removed_interval_list_name': 'eliot20221020_.nwb_02_Seq2Session1_4_franklab_tetrode_hippocampus_ampl_1500_prop_075_1ms_artifact_removed_valid_times_track_time_only'}...\n",
      "03-Jul-24 11:25:40 Running spike sorting on {'nwb_file_name': 'eliot20221020_.nwb', 'sort_group_id': 4, 'sort_interval_name': '02_Seq2Session1', 'preproc_params_name': 'franklab_tetrode_hippocampus', 'team_name': 'Shijie Gu', 'sorter': 'clusterless_thresholder', 'sorter_params_name': 'default', 'artifact_removed_interval_list_name': 'eliot20221020_.nwb_02_Seq2Session1_4_franklab_tetrode_hippocampus_ampl_1500_prop_075_1ms_artifact_removed_valid_times_track_time_only'}...\n"
     ]
    },
    {
     "data": {
      "application/vnd.jupyter.widget-view+json": {
       "model_id": "d4bb81a61cea4f6cbdcb0dad9c63cf65",
       "version_major": 2,
       "version_minor": 0
      },
      "text/plain": [
       "detect peaks using locally_exclusive:   0%|          | 0/2277 [00:00<?, ?it/s]"
      ]
     },
     "metadata": {},
     "output_type": "display_data"
    },
    {
     "name": "stderr",
     "output_type": "stream",
     "text": [
      "[11:25:45][INFO] Spyglass: Saving sorting results...\n",
      "03-Jul-24 11:25:45 Saving sorting results...\n",
      "[11:25:49][INFO] Spyglass: Running spike sorting on {'nwb_file_name': 'eliot20221020_.nwb', 'sort_group_id': 5, 'sort_interval_name': '02_Seq2Session1', 'preproc_params_name': 'franklab_tetrode_hippocampus', 'team_name': 'Shijie Gu', 'sorter': 'clusterless_thresholder', 'sorter_params_name': 'default', 'artifact_removed_interval_list_name': 'eliot20221020_.nwb_02_Seq2Session1_5_franklab_tetrode_hippocampus_ampl_1500_prop_075_1ms_artifact_removed_valid_times_track_time_only'}...\n",
      "03-Jul-24 11:25:49 Running spike sorting on {'nwb_file_name': 'eliot20221020_.nwb', 'sort_group_id': 5, 'sort_interval_name': '02_Seq2Session1', 'preproc_params_name': 'franklab_tetrode_hippocampus', 'team_name': 'Shijie Gu', 'sorter': 'clusterless_thresholder', 'sorter_params_name': 'default', 'artifact_removed_interval_list_name': 'eliot20221020_.nwb_02_Seq2Session1_5_franklab_tetrode_hippocampus_ampl_1500_prop_075_1ms_artifact_removed_valid_times_track_time_only'}...\n"
     ]
    },
    {
     "data": {
      "application/vnd.jupyter.widget-view+json": {
       "model_id": "4ef1e0f90d464b99a25f9ec4d8e0c2e8",
       "version_major": 2,
       "version_minor": 0
      },
      "text/plain": [
       "detect peaks using locally_exclusive:   0%|          | 0/2277 [00:00<?, ?it/s]"
      ]
     },
     "metadata": {},
     "output_type": "display_data"
    },
    {
     "name": "stderr",
     "output_type": "stream",
     "text": [
      "[11:25:54][INFO] Spyglass: Saving sorting results...\n",
      "03-Jul-24 11:25:54 Saving sorting results...\n"
     ]
    }
   ],
   "source": [
    "e = 0\n",
    "sorting_keys = thresholder_sort(nwb_copy_file_name,session_interval[e],True)"
   ]
  },
  {
   "cell_type": "code",
   "execution_count": 15,
   "id": "fd90fc15-f53a-4e03-8754-83a32fd655bb",
   "metadata": {
    "scrolled": true
   },
   "outputs": [
    {
     "ename": "IntegrityError",
     "evalue": "Cannot add or update a child row: a foreign key constraint fails (`spikesorting_curation`.`curation`, CONSTRAINT `curation_ibfk_1` FOREIGN KEY (`nwb_file_name`, `sort_group_id`, `sort_interval_name`, `preproc_params_name`, `team_name`, `sorter`, `sorter_para)",
     "output_type": "error",
     "traceback": [
      "\u001b[0;31m---------------------------------------------------------------------------\u001b[0m",
      "\u001b[0;31mIntegrityError\u001b[0m                            Traceback (most recent call last)",
      "Cell \u001b[0;32mIn[15], line 1\u001b[0m\n\u001b[0;32m----> 1\u001b[0m mark_parameters_keys \u001b[38;5;241m=\u001b[39m \u001b[43mpopulateUnitMarks\u001b[49m\u001b[43m(\u001b[49m\u001b[43msorting_keys\u001b[49m\u001b[43m)\u001b[49m\n",
      "File \u001b[0;32m~/Documents/spyglass/src/spyglass/shijiegu/decodeHelpers.py:249\u001b[0m, in \u001b[0;36mpopulateUnitMarks\u001b[0;34m(sorting_keys)\u001b[0m\n\u001b[1;32m    243\u001b[0m \u001b[38;5;28;01mdef\u001b[39;00m \u001b[38;5;21mpopulateUnitMarks\u001b[39m(sorting_keys):\n\u001b[1;32m    244\u001b[0m \u001b[38;5;250m    \u001b[39m\u001b[38;5;124;03m\"\"\"\u001b[39;00m\n\u001b[1;32m    245\u001b[0m \u001b[38;5;124;03m    sorting_keys: is the SpikeSortingSelection entries for thresholder sort:\u001b[39;00m\n\u001b[1;32m    246\u001b[0m \u001b[38;5;124;03m        Get it from thresholder_sort().\u001b[39;00m\n\u001b[1;32m    247\u001b[0m \n\u001b[1;32m    248\u001b[0m \u001b[38;5;124;03m    \"\"\"\u001b[39;00m\n\u001b[0;32m--> 249\u001b[0m     curation_keys \u001b[38;5;241m=\u001b[39m [Curation\u001b[38;5;241m.\u001b[39minsert_curation(key) \u001b[38;5;28;01mfor\u001b[39;00m key \u001b[38;5;129;01min\u001b[39;00m sorting_keys]\n\u001b[1;32m    251\u001b[0m \u001b[38;5;250m    \u001b[39m\u001b[38;5;124;03m'''\u001b[39;00m\n\u001b[1;32m    252\u001b[0m \u001b[38;5;124;03m    keys = {}\u001b[39;00m\n\u001b[1;32m    253\u001b[0m \u001b[38;5;124;03m    keys['nwb_file_name'] = key['nwb_file_name']\u001b[39;00m\n\u001b[0;32m   (...)\u001b[0m\n\u001b[1;32m    263\u001b[0m \u001b[38;5;124;03m        key.pop('time_of_creation')\u001b[39;00m\n\u001b[1;32m    264\u001b[0m \u001b[38;5;124;03m    '''\u001b[39;00m\n\u001b[1;32m    266\u001b[0m     CuratedSpikeSortingSelection()\u001b[38;5;241m.\u001b[39minsert(\n\u001b[1;32m    267\u001b[0m         curation_keys,\n\u001b[1;32m    268\u001b[0m         skip_duplicates\u001b[38;5;241m=\u001b[39m\u001b[38;5;28;01mTrue\u001b[39;00m)\n",
      "File \u001b[0;32m~/Documents/spyglass/src/spyglass/shijiegu/decodeHelpers.py:249\u001b[0m, in \u001b[0;36m<listcomp>\u001b[0;34m(.0)\u001b[0m\n\u001b[1;32m    243\u001b[0m \u001b[38;5;28;01mdef\u001b[39;00m \u001b[38;5;21mpopulateUnitMarks\u001b[39m(sorting_keys):\n\u001b[1;32m    244\u001b[0m \u001b[38;5;250m    \u001b[39m\u001b[38;5;124;03m\"\"\"\u001b[39;00m\n\u001b[1;32m    245\u001b[0m \u001b[38;5;124;03m    sorting_keys: is the SpikeSortingSelection entries for thresholder sort:\u001b[39;00m\n\u001b[1;32m    246\u001b[0m \u001b[38;5;124;03m        Get it from thresholder_sort().\u001b[39;00m\n\u001b[1;32m    247\u001b[0m \n\u001b[1;32m    248\u001b[0m \u001b[38;5;124;03m    \"\"\"\u001b[39;00m\n\u001b[0;32m--> 249\u001b[0m     curation_keys \u001b[38;5;241m=\u001b[39m [\u001b[43mCuration\u001b[49m\u001b[38;5;241;43m.\u001b[39;49m\u001b[43minsert_curation\u001b[49m\u001b[43m(\u001b[49m\u001b[43mkey\u001b[49m\u001b[43m)\u001b[49m \u001b[38;5;28;01mfor\u001b[39;00m key \u001b[38;5;129;01min\u001b[39;00m sorting_keys]\n\u001b[1;32m    251\u001b[0m \u001b[38;5;250m    \u001b[39m\u001b[38;5;124;03m'''\u001b[39;00m\n\u001b[1;32m    252\u001b[0m \u001b[38;5;124;03m    keys = {}\u001b[39;00m\n\u001b[1;32m    253\u001b[0m \u001b[38;5;124;03m    keys['nwb_file_name'] = key['nwb_file_name']\u001b[39;00m\n\u001b[0;32m   (...)\u001b[0m\n\u001b[1;32m    263\u001b[0m \u001b[38;5;124;03m        key.pop('time_of_creation')\u001b[39;00m\n\u001b[1;32m    264\u001b[0m \u001b[38;5;124;03m    '''\u001b[39;00m\n\u001b[1;32m    266\u001b[0m     CuratedSpikeSortingSelection()\u001b[38;5;241m.\u001b[39minsert(\n\u001b[1;32m    267\u001b[0m         curation_keys,\n\u001b[1;32m    268\u001b[0m         skip_duplicates\u001b[38;5;241m=\u001b[39m\u001b[38;5;28;01mTrue\u001b[39;00m)\n",
      "File \u001b[0;32m~/Documents/spyglass/src/spyglass/spikesorting/v0/spikesorting_curation.py:132\u001b[0m, in \u001b[0;36mCuration.insert_curation\u001b[0;34m(sorting_key, parent_curation_id, labels, merge_groups, metrics, description)\u001b[0m\n\u001b[1;32m    129\u001b[0m sorting_key[\u001b[38;5;124m\"\u001b[39m\u001b[38;5;124mtime_of_creation\u001b[39m\u001b[38;5;124m\"\u001b[39m] \u001b[38;5;241m=\u001b[39m \u001b[38;5;28mint\u001b[39m(time\u001b[38;5;241m.\u001b[39mtime())\n\u001b[1;32m    131\u001b[0m \u001b[38;5;66;03m# mike: added skip duplicates\u001b[39;00m\n\u001b[0;32m--> 132\u001b[0m \u001b[43mCuration\u001b[49m\u001b[38;5;241;43m.\u001b[39;49m\u001b[43minsert1\u001b[49m\u001b[43m(\u001b[49m\u001b[43msorting_key\u001b[49m\u001b[43m,\u001b[49m\u001b[43m \u001b[49m\u001b[43mskip_duplicates\u001b[49m\u001b[38;5;241;43m=\u001b[39;49m\u001b[38;5;28;43;01mTrue\u001b[39;49;00m\u001b[43m)\u001b[49m\n\u001b[1;32m    134\u001b[0m \u001b[38;5;66;03m# get the primary key for this curation\u001b[39;00m\n\u001b[1;32m    135\u001b[0m c_key \u001b[38;5;241m=\u001b[39m Curation\u001b[38;5;241m.\u001b[39mfetch(\u001b[38;5;124m\"\u001b[39m\u001b[38;5;124mKEY\u001b[39m\u001b[38;5;124m\"\u001b[39m)[\u001b[38;5;241m0\u001b[39m]\n",
      "File \u001b[0;32m~/anaconda3/envs/spyglass/lib/python3.9/site-packages/datajoint/table.py:337\u001b[0m, in \u001b[0;36mTable.insert1\u001b[0;34m(self, row, **kwargs)\u001b[0m\n\u001b[1;32m    330\u001b[0m \u001b[38;5;28;01mdef\u001b[39;00m \u001b[38;5;21minsert1\u001b[39m(\u001b[38;5;28mself\u001b[39m, row, \u001b[38;5;241m*\u001b[39m\u001b[38;5;241m*\u001b[39mkwargs):\n\u001b[1;32m    331\u001b[0m \u001b[38;5;250m    \u001b[39m\u001b[38;5;124;03m\"\"\"\u001b[39;00m\n\u001b[1;32m    332\u001b[0m \u001b[38;5;124;03m    Insert one data record into the table. For ``kwargs``, see ``insert()``.\u001b[39;00m\n\u001b[1;32m    333\u001b[0m \n\u001b[1;32m    334\u001b[0m \u001b[38;5;124;03m    :param row: a numpy record, a dict-like object, or an ordered sequence to be inserted\u001b[39;00m\n\u001b[1;32m    335\u001b[0m \u001b[38;5;124;03m        as one row.\u001b[39;00m\n\u001b[1;32m    336\u001b[0m \u001b[38;5;124;03m    \"\"\"\u001b[39;00m\n\u001b[0;32m--> 337\u001b[0m     \u001b[38;5;28;43mself\u001b[39;49m\u001b[38;5;241;43m.\u001b[39;49m\u001b[43minsert\u001b[49m\u001b[43m(\u001b[49m\u001b[43m(\u001b[49m\u001b[43mrow\u001b[49m\u001b[43m,\u001b[49m\u001b[43m)\u001b[49m\u001b[43m,\u001b[49m\u001b[43m \u001b[49m\u001b[38;5;241;43m*\u001b[39;49m\u001b[38;5;241;43m*\u001b[39;49m\u001b[43mkwargs\u001b[49m\u001b[43m)\u001b[49m\n",
      "File \u001b[0;32m~/anaconda3/envs/spyglass/lib/python3.9/site-packages/datajoint/table.py:440\u001b[0m, in \u001b[0;36mTable.insert\u001b[0;34m(self, rows, replace, skip_duplicates, ignore_extra_fields, allow_direct_insert)\u001b[0m\n\u001b[1;32m    424\u001b[0m \u001b[38;5;28;01mtry\u001b[39;00m:\n\u001b[1;32m    425\u001b[0m     query \u001b[38;5;241m=\u001b[39m \u001b[38;5;124m\"\u001b[39m\u001b[38;5;132;01m{command}\u001b[39;00m\u001b[38;5;124m INTO \u001b[39m\u001b[38;5;132;01m{destination}\u001b[39;00m\u001b[38;5;124m(`\u001b[39m\u001b[38;5;132;01m{fields}\u001b[39;00m\u001b[38;5;124m`) VALUES \u001b[39m\u001b[38;5;132;01m{placeholders}\u001b[39;00m\u001b[38;5;132;01m{duplicate}\u001b[39;00m\u001b[38;5;124m\"\u001b[39m\u001b[38;5;241m.\u001b[39mformat(\n\u001b[1;32m    426\u001b[0m         command\u001b[38;5;241m=\u001b[39m\u001b[38;5;124m\"\u001b[39m\u001b[38;5;124mREPLACE\u001b[39m\u001b[38;5;124m\"\u001b[39m \u001b[38;5;28;01mif\u001b[39;00m replace \u001b[38;5;28;01melse\u001b[39;00m \u001b[38;5;124m\"\u001b[39m\u001b[38;5;124mINSERT\u001b[39m\u001b[38;5;124m\"\u001b[39m,\n\u001b[1;32m    427\u001b[0m         destination\u001b[38;5;241m=\u001b[39m\u001b[38;5;28mself\u001b[39m\u001b[38;5;241m.\u001b[39mfrom_clause(),\n\u001b[0;32m   (...)\u001b[0m\n\u001b[1;32m    438\u001b[0m         ),\n\u001b[1;32m    439\u001b[0m     )\n\u001b[0;32m--> 440\u001b[0m     \u001b[38;5;28;43mself\u001b[39;49m\u001b[38;5;241;43m.\u001b[39;49m\u001b[43mconnection\u001b[49m\u001b[38;5;241;43m.\u001b[39;49m\u001b[43mquery\u001b[49m\u001b[43m(\u001b[49m\n\u001b[1;32m    441\u001b[0m \u001b[43m        \u001b[49m\u001b[43mquery\u001b[49m\u001b[43m,\u001b[49m\n\u001b[1;32m    442\u001b[0m \u001b[43m        \u001b[49m\u001b[43margs\u001b[49m\u001b[38;5;241;43m=\u001b[39;49m\u001b[38;5;28;43mlist\u001b[39;49m\u001b[43m(\u001b[49m\n\u001b[1;32m    443\u001b[0m \u001b[43m            \u001b[49m\u001b[43mitertools\u001b[49m\u001b[38;5;241;43m.\u001b[39;49m\u001b[43mchain\u001b[49m\u001b[38;5;241;43m.\u001b[39;49m\u001b[43mfrom_iterable\u001b[49m\u001b[43m(\u001b[49m\n\u001b[1;32m    444\u001b[0m \u001b[43m                \u001b[49m\u001b[43m(\u001b[49m\u001b[43mv\u001b[49m\u001b[43m \u001b[49m\u001b[38;5;28;43;01mfor\u001b[39;49;00m\u001b[43m \u001b[49m\u001b[43mv\u001b[49m\u001b[43m \u001b[49m\u001b[38;5;129;43;01min\u001b[39;49;00m\u001b[43m \u001b[49m\u001b[43mr\u001b[49m\u001b[43m[\u001b[49m\u001b[38;5;124;43m\"\u001b[39;49m\u001b[38;5;124;43mvalues\u001b[39;49m\u001b[38;5;124;43m\"\u001b[39;49m\u001b[43m]\u001b[49m\u001b[43m \u001b[49m\u001b[38;5;28;43;01mif\u001b[39;49;00m\u001b[43m \u001b[49m\u001b[43mv\u001b[49m\u001b[43m \u001b[49m\u001b[38;5;129;43;01mis\u001b[39;49;00m\u001b[43m \u001b[49m\u001b[38;5;129;43;01mnot\u001b[39;49;00m\u001b[43m \u001b[49m\u001b[38;5;28;43;01mNone\u001b[39;49;00m\u001b[43m)\u001b[49m\u001b[43m \u001b[49m\u001b[38;5;28;43;01mfor\u001b[39;49;00m\u001b[43m \u001b[49m\u001b[43mr\u001b[49m\u001b[43m \u001b[49m\u001b[38;5;129;43;01min\u001b[39;49;00m\u001b[43m \u001b[49m\u001b[43mrows\u001b[49m\n\u001b[1;32m    445\u001b[0m \u001b[43m            \u001b[49m\u001b[43m)\u001b[49m\n\u001b[1;32m    446\u001b[0m \u001b[43m        \u001b[49m\u001b[43m)\u001b[49m\u001b[43m,\u001b[49m\n\u001b[1;32m    447\u001b[0m \u001b[43m    \u001b[49m\u001b[43m)\u001b[49m\n\u001b[1;32m    448\u001b[0m \u001b[38;5;28;01mexcept\u001b[39;00m UnknownAttributeError \u001b[38;5;28;01mas\u001b[39;00m err:\n\u001b[1;32m    449\u001b[0m     \u001b[38;5;28;01mraise\u001b[39;00m err\u001b[38;5;241m.\u001b[39msuggest(\n\u001b[1;32m    450\u001b[0m         \u001b[38;5;124m\"\u001b[39m\u001b[38;5;124mTo ignore extra fields in insert, set ignore_extra_fields=True\u001b[39m\u001b[38;5;124m\"\u001b[39m\n\u001b[1;32m    451\u001b[0m     )\n",
      "File \u001b[0;32m~/anaconda3/envs/spyglass/lib/python3.9/site-packages/datajoint/connection.py:340\u001b[0m, in \u001b[0;36mConnection.query\u001b[0;34m(self, query, args, as_dict, suppress_warnings, reconnect)\u001b[0m\n\u001b[1;32m    338\u001b[0m cursor \u001b[38;5;241m=\u001b[39m \u001b[38;5;28mself\u001b[39m\u001b[38;5;241m.\u001b[39m_conn\u001b[38;5;241m.\u001b[39mcursor(cursor\u001b[38;5;241m=\u001b[39mcursor_class)\n\u001b[1;32m    339\u001b[0m \u001b[38;5;28;01mtry\u001b[39;00m:\n\u001b[0;32m--> 340\u001b[0m     \u001b[38;5;28;43mself\u001b[39;49m\u001b[38;5;241;43m.\u001b[39;49m\u001b[43m_execute_query\u001b[49m\u001b[43m(\u001b[49m\u001b[43mcursor\u001b[49m\u001b[43m,\u001b[49m\u001b[43m \u001b[49m\u001b[43mquery\u001b[49m\u001b[43m,\u001b[49m\u001b[43m \u001b[49m\u001b[43margs\u001b[49m\u001b[43m,\u001b[49m\u001b[43m \u001b[49m\u001b[43msuppress_warnings\u001b[49m\u001b[43m)\u001b[49m\n\u001b[1;32m    341\u001b[0m \u001b[38;5;28;01mexcept\u001b[39;00m errors\u001b[38;5;241m.\u001b[39mLostConnectionError:\n\u001b[1;32m    342\u001b[0m     \u001b[38;5;28;01mif\u001b[39;00m \u001b[38;5;129;01mnot\u001b[39;00m reconnect:\n",
      "File \u001b[0;32m~/anaconda3/envs/spyglass/lib/python3.9/site-packages/datajoint/connection.py:296\u001b[0m, in \u001b[0;36mConnection._execute_query\u001b[0;34m(cursor, query, args, suppress_warnings)\u001b[0m\n\u001b[1;32m    294\u001b[0m         cursor\u001b[38;5;241m.\u001b[39mexecute(query, args)\n\u001b[1;32m    295\u001b[0m \u001b[38;5;28;01mexcept\u001b[39;00m client\u001b[38;5;241m.\u001b[39merr\u001b[38;5;241m.\u001b[39mError \u001b[38;5;28;01mas\u001b[39;00m err:\n\u001b[0;32m--> 296\u001b[0m     \u001b[38;5;28;01mraise\u001b[39;00m translate_query_error(err, query)\n",
      "\u001b[0;31mIntegrityError\u001b[0m: Cannot add or update a child row: a foreign key constraint fails (`spikesorting_curation`.`curation`, CONSTRAINT `curation_ibfk_1` FOREIGN KEY (`nwb_file_name`, `sort_group_id`, `sort_interval_name`, `preproc_params_name`, `team_name`, `sorter`, `sorter_para)"
     ]
    }
   ],
   "source": [
    "mark_parameters_keys = populateUnitMarks(sorting_keys)"
   ]
  },
  {
   "cell_type": "code",
   "execution_count": 57,
   "id": "0ef0c68c-b472-47fa-8ff2-ac82bec78489",
   "metadata": {},
   "outputs": [
    {
     "data": {
      "text/html": [
       "\n",
       "    \n",
       "    <style type=\"text/css\">\n",
       "        .Table{\n",
       "            border-collapse:collapse;\n",
       "        }\n",
       "        .Table th{\n",
       "            background: #A0A0A0; color: #ffffff; padding:4px; border:#f0e0e0 1px solid;\n",
       "            font-weight: normal; font-family: monospace; font-size: 100%;\n",
       "        }\n",
       "        .Table td{\n",
       "            padding:4px; border:#f0e0e0 1px solid; font-size:100%;\n",
       "        }\n",
       "        .Table tr:nth-child(odd){\n",
       "            background: #ffffff;\n",
       "            color: #000000;\n",
       "        }\n",
       "        .Table tr:nth-child(even){\n",
       "            background: #f3f1ff;\n",
       "            color: #000000;\n",
       "        }\n",
       "        /* Tooltip container */\n",
       "        .djtooltip {\n",
       "        }\n",
       "        /* Tooltip text */\n",
       "        .djtooltip .djtooltiptext {\n",
       "            visibility: hidden;\n",
       "            width: 120px;\n",
       "            background-color: black;\n",
       "            color: #fff;\n",
       "            text-align: center;\n",
       "            padding: 5px 0;\n",
       "            border-radius: 6px;\n",
       "            /* Position the tooltip text - see examples below! */\n",
       "            position: absolute;\n",
       "            z-index: 1;\n",
       "        }\n",
       "        #primary {\n",
       "            font-weight: bold;\n",
       "            color: black;\n",
       "        }\n",
       "        #nonprimary {\n",
       "            font-weight: normal;\n",
       "            color: white;\n",
       "        }\n",
       "\n",
       "        /* Show the tooltip text when you mouse over the tooltip container */\n",
       "        .djtooltip:hover .djtooltiptext {\n",
       "            visibility: visible;\n",
       "        }\n",
       "    </style>\n",
       "    \n",
       "    <b></b>\n",
       "        <div style=\"max-height:1000px;max-width:1500px;overflow:auto;\">\n",
       "        <table border=\"1\" class=\"Table\">\n",
       "            <thead> <tr style=\"text-align: right;\"> <th> <div class=\"djtooltip\">\n",
       "                            <p id=\"primary\">nwb_file_name</p>\n",
       "                            <span class=\"djtooltiptext\">name of the NWB file</span>\n",
       "                        </div></th><th><div class=\"djtooltip\">\n",
       "                            <p id=\"primary\">sort_group_id</p>\n",
       "                            <span class=\"djtooltiptext\">identifier for a group of electrodes</span>\n",
       "                        </div></th><th><div class=\"djtooltip\">\n",
       "                            <p id=\"primary\">sort_interval_name</p>\n",
       "                            <span class=\"djtooltiptext\">name for this interval</span>\n",
       "                        </div></th><th><div class=\"djtooltip\">\n",
       "                            <p id=\"primary\">preproc_params_name</p>\n",
       "                            <span class=\"djtooltiptext\"></span>\n",
       "                        </div></th><th><div class=\"djtooltip\">\n",
       "                            <p id=\"primary\">team_name</p>\n",
       "                            <span class=\"djtooltiptext\"></span>\n",
       "                        </div></th><th><div class=\"djtooltip\">\n",
       "                            <p id=\"primary\">sorter</p>\n",
       "                            <span class=\"djtooltiptext\"></span>\n",
       "                        </div></th><th><div class=\"djtooltip\">\n",
       "                            <p id=\"primary\">sorter_params_name</p>\n",
       "                            <span class=\"djtooltiptext\"></span>\n",
       "                        </div></th><th><div class=\"djtooltip\">\n",
       "                            <p id=\"primary\">artifact_removed_interval_list_name</p>\n",
       "                            <span class=\"djtooltiptext\"></span>\n",
       "                        </div></th><th><div class=\"djtooltip\">\n",
       "                            <p id=\"nonprimary\">sorting_path</p>\n",
       "                            <span class=\"djtooltiptext\"></span>\n",
       "                        </div></th><th><div class=\"djtooltip\">\n",
       "                            <p id=\"nonprimary\">time_of_sort</p>\n",
       "                            <span class=\"djtooltiptext\">in Unix time, to the nearest second</span>\n",
       "                        </div> </th> </tr> </thead>\n",
       "            <tbody> <tr> <td>eliot20221018_.nwb</td>\n",
       "<td>0</td>\n",
       "<td>02_Seq2Session1</td>\n",
       "<td>franklab_tetrode_hippocampus</td>\n",
       "<td>Shijie Gu</td>\n",
       "<td>clusterless_thresholder</td>\n",
       "<td>default</td>\n",
       "<td>eliot20221018_.nwb_02_Seq2Session1_0_franklab_tetrode_hippocampus_ampl_1500_prop_075_1ms_artifact_removed_valid_times</td>\n",
       "<td>/stelmo/nwb/sorting/eliot20221018_.nwb_02_Seq2Session1_0_franklab_tetrode_hippocampus_7227afd4_spikesorting</td>\n",
       "<td>1685393578</td></tr><tr><td>eliot20221018_.nwb</td>\n",
       "<td>0</td>\n",
       "<td>04_Seq2Session2</td>\n",
       "<td>franklab_tetrode_hippocampus</td>\n",
       "<td>Shijie Gu</td>\n",
       "<td>clusterless_thresholder</td>\n",
       "<td>default</td>\n",
       "<td>eliot20221018_.nwb_04_Seq2Session2_0_franklab_tetrode_hippocampus_ampl_1500_prop_075_1ms_artifact_removed_valid_times</td>\n",
       "<td>/stelmo/nwb/sorting/eliot20221018_.nwb_04_Seq2Session2_0_franklab_tetrode_hippocampus_ac697906_spikesorting</td>\n",
       "<td>1685393716</td></tr><tr><td>eliot20221018_.nwb</td>\n",
       "<td>0</td>\n",
       "<td>05_Seq2Session3</td>\n",
       "<td>franklab_tetrode_hippocampus</td>\n",
       "<td>Shijie Gu</td>\n",
       "<td>clusterless_thresholder</td>\n",
       "<td>default</td>\n",
       "<td>eliot20221018_.nwb_05_Seq2Session3_0_franklab_tetrode_hippocampus_ampl_1500_prop_075_1ms_artifact_removed_valid_times</td>\n",
       "<td>/stelmo/nwb/sorting/eliot20221018_.nwb_05_Seq2Session3_0_franklab_tetrode_hippocampus_525186ae_spikesorting</td>\n",
       "<td>1685393752</td></tr><tr><td>eliot20221018_.nwb</td>\n",
       "<td>0</td>\n",
       "<td>05_Seq2Session3</td>\n",
       "<td>franklab_tetrode_hippocampus</td>\n",
       "<td>Shijie Gu</td>\n",
       "<td>clusterless_thresholder</td>\n",
       "<td>default</td>\n",
       "<td>eliot20221018_.nwb_05_Seq2Session3_0_franklab_tetrode_hippocampus_ampl_1500_prop_075_1ms_artifact_removed_valid_times_track_time_only</td>\n",
       "<td>/stelmo/nwb/sorting/eliot20221018_.nwb_05_Seq2Session3_0_franklab_tetrode_hippocampus_a0238c55_spikesorting</td>\n",
       "<td>1720022846</td></tr><tr><td>eliot20221018_.nwb</td>\n",
       "<td>0</td>\n",
       "<td>07_Seq2Session4</td>\n",
       "<td>franklab_tetrode_hippocampus</td>\n",
       "<td>Shijie Gu</td>\n",
       "<td>clusterless_thresholder</td>\n",
       "<td>default</td>\n",
       "<td>eliot20221018_.nwb_07_Seq2Session4_0_franklab_tetrode_hippocampus_ampl_1500_prop_075_1ms_artifact_removed_valid_times</td>\n",
       "<td>/stelmo/nwb/sorting/eliot20221018_.nwb_07_Seq2Session4_0_franklab_tetrode_hippocampus_990215ea_spikesorting</td>\n",
       "<td>1685393944</td></tr><tr><td>eliot20221018_.nwb</td>\n",
       "<td>0</td>\n",
       "<td>09_Seq2Session5</td>\n",
       "<td>franklab_tetrode_hippocampus</td>\n",
       "<td>Shijie Gu</td>\n",
       "<td>clusterless_thresholder</td>\n",
       "<td>default</td>\n",
       "<td>eliot20221018_.nwb_09_Seq2Session5_0_franklab_tetrode_hippocampus_ampl_1500_prop_075_1ms_artifact_removed_valid_times</td>\n",
       "<td>/stelmo/nwb/sorting/eliot20221018_.nwb_09_Seq2Session5_0_franklab_tetrode_hippocampus_f88489d6_spikesorting</td>\n",
       "<td>1685394335</td></tr><tr><td>eliot20221018_.nwb</td>\n",
       "<td>0</td>\n",
       "<td>11_Seq2Session6</td>\n",
       "<td>franklab_tetrode_hippocampus</td>\n",
       "<td>Shijie Gu</td>\n",
       "<td>clusterless_thresholder</td>\n",
       "<td>default</td>\n",
       "<td>eliot20221018_.nwb_11_Seq2Session6_0_franklab_tetrode_hippocampus_ampl_1500_prop_075_1ms_artifact_removed_valid_times</td>\n",
       "<td>/stelmo/nwb/sorting/eliot20221018_.nwb_11_Seq2Session6_0_franklab_tetrode_hippocampus_a7daa7f8_spikesorting</td>\n",
       "<td>1685394903</td></tr><tr><td>eliot20221018_.nwb</td>\n",
       "<td>2</td>\n",
       "<td>02_Seq2Session1</td>\n",
       "<td>franklab_tetrode_hippocampus</td>\n",
       "<td>Shijie Gu</td>\n",
       "<td>clusterless_thresholder</td>\n",
       "<td>default</td>\n",
       "<td>eliot20221018_.nwb_02_Seq2Session1_2_franklab_tetrode_hippocampus_ampl_1500_prop_075_1ms_artifact_removed_valid_times</td>\n",
       "<td>/stelmo/nwb/sorting/eliot20221018_.nwb_02_Seq2Session1_2_franklab_tetrode_hippocampus_abb0318c_spikesorting</td>\n",
       "<td>1685393591</td></tr><tr><td>eliot20221018_.nwb</td>\n",
       "<td>2</td>\n",
       "<td>04_Seq2Session2</td>\n",
       "<td>franklab_tetrode_hippocampus</td>\n",
       "<td>Shijie Gu</td>\n",
       "<td>clusterless_thresholder</td>\n",
       "<td>default</td>\n",
       "<td>eliot20221018_.nwb_04_Seq2Session2_2_franklab_tetrode_hippocampus_ampl_1500_prop_075_1ms_artifact_removed_valid_times</td>\n",
       "<td>/stelmo/nwb/sorting/eliot20221018_.nwb_04_Seq2Session2_2_franklab_tetrode_hippocampus_eee7a753_spikesorting</td>\n",
       "<td>1685393718</td></tr><tr><td>eliot20221018_.nwb</td>\n",
       "<td>2</td>\n",
       "<td>05_Seq2Session3</td>\n",
       "<td>franklab_tetrode_hippocampus</td>\n",
       "<td>Shijie Gu</td>\n",
       "<td>clusterless_thresholder</td>\n",
       "<td>default</td>\n",
       "<td>eliot20221018_.nwb_05_Seq2Session3_2_franklab_tetrode_hippocampus_ampl_1500_prop_075_1ms_artifact_removed_valid_times</td>\n",
       "<td>/stelmo/nwb/sorting/eliot20221018_.nwb_05_Seq2Session3_2_franklab_tetrode_hippocampus_65b94efc_spikesorting</td>\n",
       "<td>1685393765</td></tr><tr><td>eliot20221018_.nwb</td>\n",
       "<td>2</td>\n",
       "<td>05_Seq2Session3</td>\n",
       "<td>franklab_tetrode_hippocampus</td>\n",
       "<td>Shijie Gu</td>\n",
       "<td>clusterless_thresholder</td>\n",
       "<td>default</td>\n",
       "<td>eliot20221018_.nwb_05_Seq2Session3_2_franklab_tetrode_hippocampus_ampl_1500_prop_075_1ms_artifact_removed_valid_times_track_time_only</td>\n",
       "<td>/stelmo/nwb/sorting/eliot20221018_.nwb_05_Seq2Session3_2_franklab_tetrode_hippocampus_ed7d0010_spikesorting</td>\n",
       "<td>1720022951</td></tr><tr><td>eliot20221018_.nwb</td>\n",
       "<td>2</td>\n",
       "<td>07_Seq2Session4</td>\n",
       "<td>franklab_tetrode_hippocampus</td>\n",
       "<td>Shijie Gu</td>\n",
       "<td>clusterless_thresholder</td>\n",
       "<td>default</td>\n",
       "<td>eliot20221018_.nwb_07_Seq2Session4_2_franklab_tetrode_hippocampus_ampl_1500_prop_075_1ms_artifact_removed_valid_times</td>\n",
       "<td>/stelmo/nwb/sorting/eliot20221018_.nwb_07_Seq2Session4_2_franklab_tetrode_hippocampus_ca1ec490_spikesorting</td>\n",
       "<td>1685393966</td> </tr> </tbody>\n",
       "        </table>\n",
       "        <p>...</p>\n",
       "        <p>Total: 112</p></div>\n",
       "        "
      ],
      "text/plain": [
       "*nwb_file_name *sort_group_id *sort_interval *preproc_param *team_name    *sorter        *sorter_params *artifact_remo sorting_path   time_of_sort  \n",
       "+------------+ +------------+ +------------+ +------------+ +-----------+ +------------+ +------------+ +------------+ +------------+ +------------+\n",
       "eliot20221018_ 0              02_Seq2Session franklab_tetro Shijie Gu     clusterless_th default        eliot20221018_ /stelmo/nwb/so 1685393578    \n",
       "eliot20221018_ 0              04_Seq2Session franklab_tetro Shijie Gu     clusterless_th default        eliot20221018_ /stelmo/nwb/so 1685393716    \n",
       "eliot20221018_ 0              05_Seq2Session franklab_tetro Shijie Gu     clusterless_th default        eliot20221018_ /stelmo/nwb/so 1685393752    \n",
       "eliot20221018_ 0              05_Seq2Session franklab_tetro Shijie Gu     clusterless_th default        eliot20221018_ /stelmo/nwb/so 1720022846    \n",
       "eliot20221018_ 0              07_Seq2Session franklab_tetro Shijie Gu     clusterless_th default        eliot20221018_ /stelmo/nwb/so 1685393944    \n",
       "eliot20221018_ 0              09_Seq2Session franklab_tetro Shijie Gu     clusterless_th default        eliot20221018_ /stelmo/nwb/so 1685394335    \n",
       "eliot20221018_ 0              11_Seq2Session franklab_tetro Shijie Gu     clusterless_th default        eliot20221018_ /stelmo/nwb/so 1685394903    \n",
       "eliot20221018_ 2              02_Seq2Session franklab_tetro Shijie Gu     clusterless_th default        eliot20221018_ /stelmo/nwb/so 1685393591    \n",
       "eliot20221018_ 2              04_Seq2Session franklab_tetro Shijie Gu     clusterless_th default        eliot20221018_ /stelmo/nwb/so 1685393718    \n",
       "eliot20221018_ 2              05_Seq2Session franklab_tetro Shijie Gu     clusterless_th default        eliot20221018_ /stelmo/nwb/so 1685393765    \n",
       "eliot20221018_ 2              05_Seq2Session franklab_tetro Shijie Gu     clusterless_th default        eliot20221018_ /stelmo/nwb/so 1720022951    \n",
       "eliot20221018_ 2              07_Seq2Session franklab_tetro Shijie Gu     clusterless_th default        eliot20221018_ /stelmo/nwb/so 1685393966    \n",
       "   ...\n",
       " (Total: 112)"
      ]
     },
     "execution_count": 57,
     "metadata": {},
     "output_type": "execute_result"
    }
   ],
   "source": [
    "(SpikeSorting & {'nwb_file_name': nwb_copy_file_name})"
   ]
  },
  {
   "cell_type": "code",
   "execution_count": 60,
   "id": "bad6aeb1-2726-425d-b9b9-e6c83c9b3312",
   "metadata": {},
   "outputs": [
    {
     "data": {
      "text/plain": [
       "{'nwb_file_name': 'eliot20221018_.nwb',\n",
       " 'sort_interval_name': '05_Seq2Session3',\n",
       " 'sort_group_id': 0,\n",
       " 'preproc_params_name': 'franklab_tetrode_hippocampus',\n",
       " 'team_name': 'Shijie Gu',\n",
       " 'artifact_removed_interval_list_name': 'eliot20221018_.nwb_05_Seq2Session3_0_franklab_tetrode_hippocampus_ampl_1500_prop_075_1ms_artifact_removed_valid_times_track_time_only',\n",
       " 'sorter': 'clusterless_thresholder',\n",
       " 'sorter_params_name': 'default',\n",
       " 'curation_id': 0,\n",
       " 'parent_curation_id': -1,\n",
       " 'description': '',\n",
       " 'curation_labels': {},\n",
       " 'merge_groups': [],\n",
       " 'quality_metrics': {},\n",
       " 'time_of_creation': 1719979418}"
      ]
     },
     "execution_count": 60,
     "metadata": {},
     "output_type": "execute_result"
    }
   ],
   "source": [
    "sorting_keys[0]"
   ]
  },
  {
   "cell_type": "code",
   "execution_count": 59,
   "id": "060851e5-589e-4511-ad4f-fc9fe3ab3fed",
   "metadata": {
    "scrolled": true
   },
   "outputs": [
    {
     "ename": "QuerySyntaxError",
     "evalue": "('You have an error in your SQL syntax; check the manual that corresponds to your MySQL server version for the right syntax to use near \\'})AND(`merge_groups`=\"[]\")AND(`quality_metrics`={})AND(`time_of_creation`=171997\\' at line 1', 'SELECT `curation_id`,`nwb_file_name`,`sort_group_id`,`sort_interval_name`,`preproc_params_name`,`team_name`,`sorter`,`sorter_params_name`,`artifact_removed_interval_list_name` FROM `spikesorting_curation`.`curation` WHERE ( (`nwb_file_name`=\"eliot20221018_.nwb\")AND(`sort_interval_name`=\"05_Seq2Session3\")AND(`sort_group_id`=0)AND(`preproc_params_name`=\"franklab_tetrode_hippocampus\")AND(`team_name`=\"Shijie Gu\")AND(`artifact_removed_interval_list_name`=\"eliot20221018_.nwb_05_Seq2Session3_0_franklab_tetrode_hippocampus_ampl_1500_prop_075_1ms_artifact_removed_valid_times_track_time_only\")AND(`sorter`=\"clusterless_thresholder\")AND(`sorter_params_name`=\"default\")AND(`curation_id`=0)AND(`parent_curation_id`=-1)AND(`description`=\"\")AND(`curation_labels`={})AND(`merge_groups`=\"[]\")AND(`quality_metrics`={})AND(`time_of_creation`=1719979418))')",
     "output_type": "error",
     "traceback": [
      "\u001b[0;31m---------------------------------------------------------------------------\u001b[0m",
      "\u001b[0;31mQuerySyntaxError\u001b[0m                          Traceback (most recent call last)",
      "Cell \u001b[0;32mIn[59], line 1\u001b[0m\n\u001b[0;32m----> 1\u001b[0m \u001b[43mCuration\u001b[49m\u001b[38;5;241;43m.\u001b[39;49m\u001b[43minsert_curation\u001b[49m\u001b[43m(\u001b[49m\u001b[43msorting_keys\u001b[49m\u001b[43m[\u001b[49m\u001b[38;5;241;43m0\u001b[39;49m\u001b[43m]\u001b[49m\u001b[43m)\u001b[49m\n",
      "File \u001b[0;32m~/Documents/spyglass/src/spyglass/spikesorting/v0/spikesorting_curation.py:98\u001b[0m, in \u001b[0;36mCuration.insert_curation\u001b[0;34m(sorting_key, parent_curation_id, labels, merge_groups, metrics, description)\u001b[0m\n\u001b[1;32m     73\u001b[0m \u001b[38;5;250m\u001b[39m\u001b[38;5;124;03m\"\"\"Given a SpikeSorting key and the parent_sorting_id (and optional\u001b[39;00m\n\u001b[1;32m     74\u001b[0m \u001b[38;5;124;03marguments) insert an entry into Curation.\u001b[39;00m\n\u001b[1;32m     75\u001b[0m \n\u001b[0;32m   (...)\u001b[0m\n\u001b[1;32m     93\u001b[0m \n\u001b[1;32m     94\u001b[0m \u001b[38;5;124;03m\"\"\"\u001b[39;00m\n\u001b[1;32m     95\u001b[0m \u001b[38;5;28;01mif\u001b[39;00m parent_curation_id \u001b[38;5;241m==\u001b[39m \u001b[38;5;241m-\u001b[39m\u001b[38;5;241m1\u001b[39m:\n\u001b[1;32m     96\u001b[0m     \u001b[38;5;66;03m# check to see if this sorting with a parent of -1 has already been\u001b[39;00m\n\u001b[1;32m     97\u001b[0m     \u001b[38;5;66;03m# inserted and if so, warn the user\u001b[39;00m\n\u001b[0;32m---> 98\u001b[0m     inserted_curation \u001b[38;5;241m=\u001b[39m \u001b[43m(\u001b[49m\u001b[43mCuration\u001b[49m\u001b[43m \u001b[49m\u001b[38;5;241;43m&\u001b[39;49m\u001b[43m \u001b[49m\u001b[43msorting_key\u001b[49m\u001b[43m)\u001b[49m\u001b[38;5;241;43m.\u001b[39;49m\u001b[43mfetch\u001b[49m\u001b[43m(\u001b[49m\u001b[38;5;124;43m\"\u001b[39;49m\u001b[38;5;124;43mKEY\u001b[39;49m\u001b[38;5;124;43m\"\u001b[39;49m\u001b[43m)\u001b[49m\n\u001b[1;32m     99\u001b[0m     \u001b[38;5;28;01mif\u001b[39;00m \u001b[38;5;28mlen\u001b[39m(inserted_curation) \u001b[38;5;241m>\u001b[39m \u001b[38;5;241m0\u001b[39m:\n\u001b[1;32m    100\u001b[0m         \u001b[38;5;167;01mWarning\u001b[39;00m(\n\u001b[1;32m    101\u001b[0m             \u001b[38;5;124m\"\u001b[39m\u001b[38;5;124mSorting has already been inserted, returning key to previously\u001b[39m\u001b[38;5;124m\"\u001b[39m\n\u001b[1;32m    102\u001b[0m             \u001b[38;5;124m\"\u001b[39m\u001b[38;5;124minserted curation\u001b[39m\u001b[38;5;124m\"\u001b[39m\n\u001b[1;32m    103\u001b[0m         )\n",
      "File \u001b[0;32m~/anaconda3/envs/spyglass/lib/python3.9/site-packages/datajoint/fetch.py:231\u001b[0m, in \u001b[0;36mFetch.__call__\u001b[0;34m(self, offset, limit, order_by, format, as_dict, squeeze, download_path, *attrs)\u001b[0m\n\u001b[1;32m    229\u001b[0m attributes \u001b[38;5;241m=\u001b[39m [a \u001b[38;5;28;01mfor\u001b[39;00m a \u001b[38;5;129;01min\u001b[39;00m attrs \u001b[38;5;28;01mif\u001b[39;00m \u001b[38;5;129;01mnot\u001b[39;00m is_key(a)]\n\u001b[1;32m    230\u001b[0m ret \u001b[38;5;241m=\u001b[39m \u001b[38;5;28mself\u001b[39m\u001b[38;5;241m.\u001b[39m_expression\u001b[38;5;241m.\u001b[39mproj(\u001b[38;5;241m*\u001b[39mattributes)\n\u001b[0;32m--> 231\u001b[0m ret \u001b[38;5;241m=\u001b[39m \u001b[43mret\u001b[49m\u001b[38;5;241;43m.\u001b[39;49m\u001b[43mfetch\u001b[49m\u001b[43m(\u001b[49m\n\u001b[1;32m    232\u001b[0m \u001b[43m    \u001b[49m\u001b[43moffset\u001b[49m\u001b[38;5;241;43m=\u001b[39;49m\u001b[43moffset\u001b[49m\u001b[43m,\u001b[49m\n\u001b[1;32m    233\u001b[0m \u001b[43m    \u001b[49m\u001b[43mlimit\u001b[49m\u001b[38;5;241;43m=\u001b[39;49m\u001b[43mlimit\u001b[49m\u001b[43m,\u001b[49m\n\u001b[1;32m    234\u001b[0m \u001b[43m    \u001b[49m\u001b[43morder_by\u001b[49m\u001b[38;5;241;43m=\u001b[39;49m\u001b[43morder_by\u001b[49m\u001b[43m,\u001b[49m\n\u001b[1;32m    235\u001b[0m \u001b[43m    \u001b[49m\u001b[43mas_dict\u001b[49m\u001b[38;5;241;43m=\u001b[39;49m\u001b[38;5;28;43;01mFalse\u001b[39;49;00m\u001b[43m,\u001b[49m\n\u001b[1;32m    236\u001b[0m \u001b[43m    \u001b[49m\u001b[43msqueeze\u001b[49m\u001b[38;5;241;43m=\u001b[39;49m\u001b[43msqueeze\u001b[49m\u001b[43m,\u001b[49m\n\u001b[1;32m    237\u001b[0m \u001b[43m    \u001b[49m\u001b[43mdownload_path\u001b[49m\u001b[38;5;241;43m=\u001b[39;49m\u001b[43mdownload_path\u001b[49m\u001b[43m,\u001b[49m\n\u001b[1;32m    238\u001b[0m \u001b[43m    \u001b[49m\u001b[38;5;28;43mformat\u001b[39;49m\u001b[38;5;241;43m=\u001b[39;49m\u001b[38;5;124;43m\"\u001b[39;49m\u001b[38;5;124;43marray\u001b[39;49m\u001b[38;5;124;43m\"\u001b[39;49m\u001b[43m,\u001b[49m\n\u001b[1;32m    239\u001b[0m \u001b[43m\u001b[49m\u001b[43m)\u001b[49m\n\u001b[1;32m    240\u001b[0m \u001b[38;5;28;01mif\u001b[39;00m attrs_as_dict:\n\u001b[1;32m    241\u001b[0m     ret \u001b[38;5;241m=\u001b[39m [\n\u001b[1;32m    242\u001b[0m         {k: v \u001b[38;5;28;01mfor\u001b[39;00m k, v \u001b[38;5;129;01min\u001b[39;00m \u001b[38;5;28mzip\u001b[39m(ret\u001b[38;5;241m.\u001b[39mdtype\u001b[38;5;241m.\u001b[39mnames, x) \u001b[38;5;28;01mif\u001b[39;00m k \u001b[38;5;129;01min\u001b[39;00m attrs}\n\u001b[1;32m    243\u001b[0m         \u001b[38;5;28;01mfor\u001b[39;00m x \u001b[38;5;129;01min\u001b[39;00m ret\n\u001b[1;32m    244\u001b[0m     ]\n",
      "File \u001b[0;32m~/anaconda3/envs/spyglass/lib/python3.9/site-packages/datajoint/fetch.py:258\u001b[0m, in \u001b[0;36mFetch.__call__\u001b[0;34m(self, offset, limit, order_by, format, as_dict, squeeze, download_path, *attrs)\u001b[0m\n\u001b[1;32m    256\u001b[0m         ret \u001b[38;5;241m=\u001b[39m return_values[\u001b[38;5;241m0\u001b[39m] \u001b[38;5;28;01mif\u001b[39;00m \u001b[38;5;28mlen\u001b[39m(attrs) \u001b[38;5;241m==\u001b[39m \u001b[38;5;241m1\u001b[39m \u001b[38;5;28;01melse\u001b[39;00m return_values\n\u001b[1;32m    257\u001b[0m \u001b[38;5;28;01melse\u001b[39;00m:  \u001b[38;5;66;03m# fetch all attributes as a numpy.record_array or pandas.DataFrame\u001b[39;00m\n\u001b[0;32m--> 258\u001b[0m     cur \u001b[38;5;241m=\u001b[39m \u001b[38;5;28;43mself\u001b[39;49m\u001b[38;5;241;43m.\u001b[39;49m\u001b[43m_expression\u001b[49m\u001b[38;5;241;43m.\u001b[39;49m\u001b[43mcursor\u001b[49m\u001b[43m(\u001b[49m\n\u001b[1;32m    259\u001b[0m \u001b[43m        \u001b[49m\u001b[43mas_dict\u001b[49m\u001b[38;5;241;43m=\u001b[39;49m\u001b[43mas_dict\u001b[49m\u001b[43m,\u001b[49m\u001b[43m \u001b[49m\u001b[43mlimit\u001b[49m\u001b[38;5;241;43m=\u001b[39;49m\u001b[43mlimit\u001b[49m\u001b[43m,\u001b[49m\u001b[43m \u001b[49m\u001b[43moffset\u001b[49m\u001b[38;5;241;43m=\u001b[39;49m\u001b[43moffset\u001b[49m\u001b[43m,\u001b[49m\u001b[43m \u001b[49m\u001b[43morder_by\u001b[49m\u001b[38;5;241;43m=\u001b[39;49m\u001b[43morder_by\u001b[49m\n\u001b[1;32m    260\u001b[0m \u001b[43m    \u001b[49m\u001b[43m)\u001b[49m\n\u001b[1;32m    261\u001b[0m     heading \u001b[38;5;241m=\u001b[39m \u001b[38;5;28mself\u001b[39m\u001b[38;5;241m.\u001b[39m_expression\u001b[38;5;241m.\u001b[39mheading\n\u001b[1;32m    262\u001b[0m     \u001b[38;5;28;01mif\u001b[39;00m as_dict:\n",
      "File \u001b[0;32m~/anaconda3/envs/spyglass/lib/python3.9/site-packages/datajoint/expression.py:633\u001b[0m, in \u001b[0;36mQueryExpression.cursor\u001b[0;34m(self, offset, limit, order_by, as_dict)\u001b[0m\n\u001b[1;32m    631\u001b[0m     sql \u001b[38;5;241m+\u001b[39m\u001b[38;5;241m=\u001b[39m \u001b[38;5;124m\"\u001b[39m\u001b[38;5;124m LIMIT \u001b[39m\u001b[38;5;132;01m%d\u001b[39;00m\u001b[38;5;124m\"\u001b[39m \u001b[38;5;241m%\u001b[39m limit \u001b[38;5;241m+\u001b[39m (\u001b[38;5;124m\"\u001b[39m\u001b[38;5;124m OFFSET \u001b[39m\u001b[38;5;132;01m%d\u001b[39;00m\u001b[38;5;124m\"\u001b[39m \u001b[38;5;241m%\u001b[39m offset \u001b[38;5;28;01mif\u001b[39;00m offset \u001b[38;5;28;01melse\u001b[39;00m \u001b[38;5;124m\"\u001b[39m\u001b[38;5;124m\"\u001b[39m)\n\u001b[1;32m    632\u001b[0m logger\u001b[38;5;241m.\u001b[39mdebug(sql)\n\u001b[0;32m--> 633\u001b[0m \u001b[38;5;28;01mreturn\u001b[39;00m \u001b[38;5;28;43mself\u001b[39;49m\u001b[38;5;241;43m.\u001b[39;49m\u001b[43mconnection\u001b[49m\u001b[38;5;241;43m.\u001b[39;49m\u001b[43mquery\u001b[49m\u001b[43m(\u001b[49m\u001b[43msql\u001b[49m\u001b[43m,\u001b[49m\u001b[43m \u001b[49m\u001b[43mas_dict\u001b[49m\u001b[38;5;241;43m=\u001b[39;49m\u001b[43mas_dict\u001b[49m\u001b[43m)\u001b[49m\n",
      "File \u001b[0;32m~/anaconda3/envs/spyglass/lib/python3.9/site-packages/datajoint/connection.py:340\u001b[0m, in \u001b[0;36mConnection.query\u001b[0;34m(self, query, args, as_dict, suppress_warnings, reconnect)\u001b[0m\n\u001b[1;32m    338\u001b[0m cursor \u001b[38;5;241m=\u001b[39m \u001b[38;5;28mself\u001b[39m\u001b[38;5;241m.\u001b[39m_conn\u001b[38;5;241m.\u001b[39mcursor(cursor\u001b[38;5;241m=\u001b[39mcursor_class)\n\u001b[1;32m    339\u001b[0m \u001b[38;5;28;01mtry\u001b[39;00m:\n\u001b[0;32m--> 340\u001b[0m     \u001b[38;5;28;43mself\u001b[39;49m\u001b[38;5;241;43m.\u001b[39;49m\u001b[43m_execute_query\u001b[49m\u001b[43m(\u001b[49m\u001b[43mcursor\u001b[49m\u001b[43m,\u001b[49m\u001b[43m \u001b[49m\u001b[43mquery\u001b[49m\u001b[43m,\u001b[49m\u001b[43m \u001b[49m\u001b[43margs\u001b[49m\u001b[43m,\u001b[49m\u001b[43m \u001b[49m\u001b[43msuppress_warnings\u001b[49m\u001b[43m)\u001b[49m\n\u001b[1;32m    341\u001b[0m \u001b[38;5;28;01mexcept\u001b[39;00m errors\u001b[38;5;241m.\u001b[39mLostConnectionError:\n\u001b[1;32m    342\u001b[0m     \u001b[38;5;28;01mif\u001b[39;00m \u001b[38;5;129;01mnot\u001b[39;00m reconnect:\n",
      "File \u001b[0;32m~/anaconda3/envs/spyglass/lib/python3.9/site-packages/datajoint/connection.py:296\u001b[0m, in \u001b[0;36mConnection._execute_query\u001b[0;34m(cursor, query, args, suppress_warnings)\u001b[0m\n\u001b[1;32m    294\u001b[0m         cursor\u001b[38;5;241m.\u001b[39mexecute(query, args)\n\u001b[1;32m    295\u001b[0m \u001b[38;5;28;01mexcept\u001b[39;00m client\u001b[38;5;241m.\u001b[39merr\u001b[38;5;241m.\u001b[39mError \u001b[38;5;28;01mas\u001b[39;00m err:\n\u001b[0;32m--> 296\u001b[0m     \u001b[38;5;28;01mraise\u001b[39;00m translate_query_error(err, query)\n",
      "\u001b[0;31mQuerySyntaxError\u001b[0m: ('You have an error in your SQL syntax; check the manual that corresponds to your MySQL server version for the right syntax to use near \\'})AND(`merge_groups`=\"[]\")AND(`quality_metrics`={})AND(`time_of_creation`=171997\\' at line 1', 'SELECT `curation_id`,`nwb_file_name`,`sort_group_id`,`sort_interval_name`,`preproc_params_name`,`team_name`,`sorter`,`sorter_params_name`,`artifact_removed_interval_list_name` FROM `spikesorting_curation`.`curation` WHERE ( (`nwb_file_name`=\"eliot20221018_.nwb\")AND(`sort_interval_name`=\"05_Seq2Session3\")AND(`sort_group_id`=0)AND(`preproc_params_name`=\"franklab_tetrode_hippocampus\")AND(`team_name`=\"Shijie Gu\")AND(`artifact_removed_interval_list_name`=\"eliot20221018_.nwb_05_Seq2Session3_0_franklab_tetrode_hippocampus_ampl_1500_prop_075_1ms_artifact_removed_valid_times_track_time_only\")AND(`sorter`=\"clusterless_thresholder\")AND(`sorter_params_name`=\"default\")AND(`curation_id`=0)AND(`parent_curation_id`=-1)AND(`description`=\"\")AND(`curation_labels`={})AND(`merge_groups`=\"[]\")AND(`quality_metrics`={})AND(`time_of_creation`=1719979418))')"
     ]
    }
   ],
   "source": [
    "Curation.insert_curation(sorting_keys[0])"
   ]
  },
  {
   "cell_type": "code",
   "execution_count": 11,
   "id": "49299d45-1662-4044-bd15-92d423a8c55e",
   "metadata": {},
   "outputs": [
    {
     "ename": "NameError",
     "evalue": "name 'mark_parameters_keys' is not defined",
     "output_type": "error",
     "traceback": [
      "\u001b[0;31m---------------------------------------------------------------------------\u001b[0m",
      "\u001b[0;31mNameError\u001b[0m                                 Traceback (most recent call last)",
      "Cell \u001b[0;32mIn[11], line 6\u001b[0m\n\u001b[1;32m      1\u001b[0m positionIntervalList \u001b[38;5;241m=\u001b[39m (\n\u001b[1;32m      2\u001b[0m         IntervalList \u001b[38;5;241m&\u001b[39m\n\u001b[1;32m      3\u001b[0m         {\u001b[38;5;124m'\u001b[39m\u001b[38;5;124mnwb_file_name\u001b[39m\u001b[38;5;124m'\u001b[39m: nwb_copy_file_name,\n\u001b[1;32m      4\u001b[0m          \u001b[38;5;124m'\u001b[39m\u001b[38;5;124minterval_list_name\u001b[39m\u001b[38;5;124m'\u001b[39m: position_interval[e]})\n\u001b[0;32m----> 6\u001b[0m marks_selection \u001b[38;5;241m=\u001b[39m ((UnitMarks \u001b[38;5;241m&\u001b[39m \u001b[43mmark_parameters_keys\u001b[49m) \u001b[38;5;241m*\u001b[39m positionIntervalList)\n\u001b[1;32m      7\u001b[0m marks_selection \u001b[38;5;241m=\u001b[39m (pd\u001b[38;5;241m.\u001b[39mDataFrame(marks_selection)\n\u001b[1;32m      8\u001b[0m                    \u001b[38;5;241m.\u001b[39mloc[:, marks_selection\u001b[38;5;241m.\u001b[39mprimary_key]\n\u001b[1;32m      9\u001b[0m                    \u001b[38;5;241m.\u001b[39mto_dict(\u001b[38;5;124m'\u001b[39m\u001b[38;5;124mrecords\u001b[39m\u001b[38;5;124m'\u001b[39m))\n\u001b[1;32m     10\u001b[0m UnitMarksIndicatorSelection\u001b[38;5;241m.\u001b[39minsert(marks_selection, skip_duplicates\u001b[38;5;241m=\u001b[39m\u001b[38;5;28;01mTrue\u001b[39;00m)\n",
      "\u001b[0;31mNameError\u001b[0m: name 'mark_parameters_keys' is not defined"
     ]
    }
   ],
   "source": [
    "positionIntervalList = (\n",
    "        IntervalList &\n",
    "        {'nwb_file_name': nwb_copy_file_name,\n",
    "         'interval_list_name': position_interval[e]})\n",
    "\n",
    "marks_selection = ((UnitMarks & mark_parameters_keys) * positionIntervalList)\n",
    "marks_selection = (pd.DataFrame(marks_selection)\n",
    "                   .loc[:, marks_selection.primary_key]\n",
    "                   .to_dict('records'))\n",
    "UnitMarksIndicatorSelection.insert(marks_selection, skip_duplicates=True)"
   ]
  },
  {
   "cell_type": "code",
   "execution_count": 34,
   "id": "1b78dab5-fcdc-486a-90b8-497a446c6ba9",
   "metadata": {
    "scrolled": true
   },
   "outputs": [
    {
     "data": {
      "text/html": [
       "\n",
       "    \n",
       "    <style type=\"text/css\">\n",
       "        .Table{\n",
       "            border-collapse:collapse;\n",
       "        }\n",
       "        .Table th{\n",
       "            background: #A0A0A0; color: #ffffff; padding:4px; border:#f0e0e0 1px solid;\n",
       "            font-weight: normal; font-family: monospace; font-size: 100%;\n",
       "        }\n",
       "        .Table td{\n",
       "            padding:4px; border:#f0e0e0 1px solid; font-size:100%;\n",
       "        }\n",
       "        .Table tr:nth-child(odd){\n",
       "            background: #ffffff;\n",
       "            color: #000000;\n",
       "        }\n",
       "        .Table tr:nth-child(even){\n",
       "            background: #f3f1ff;\n",
       "            color: #000000;\n",
       "        }\n",
       "        /* Tooltip container */\n",
       "        .djtooltip {\n",
       "        }\n",
       "        /* Tooltip text */\n",
       "        .djtooltip .djtooltiptext {\n",
       "            visibility: hidden;\n",
       "            width: 120px;\n",
       "            background-color: black;\n",
       "            color: #fff;\n",
       "            text-align: center;\n",
       "            padding: 5px 0;\n",
       "            border-radius: 6px;\n",
       "            /* Position the tooltip text - see examples below! */\n",
       "            position: absolute;\n",
       "            z-index: 1;\n",
       "        }\n",
       "        #primary {\n",
       "            font-weight: bold;\n",
       "            color: black;\n",
       "        }\n",
       "        #nonprimary {\n",
       "            font-weight: normal;\n",
       "            color: white;\n",
       "        }\n",
       "\n",
       "        /* Show the tooltip text when you mouse over the tooltip container */\n",
       "        .djtooltip:hover .djtooltiptext {\n",
       "            visibility: visible;\n",
       "        }\n",
       "    </style>\n",
       "    \n",
       "    <b></b>\n",
       "        <div style=\"max-height:1000px;max-width:1500px;overflow:auto;\">\n",
       "        <table border=\"1\" class=\"Table\">\n",
       "            <thead> <tr style=\"text-align: right;\"> <th> <div class=\"djtooltip\">\n",
       "                            <p id=\"primary\">curation_id</p>\n",
       "                            <span class=\"djtooltiptext\">a number correponding to the index of this curation</span>\n",
       "                        </div></th><th><div class=\"djtooltip\">\n",
       "                            <p id=\"primary\">nwb_file_name</p>\n",
       "                            <span class=\"djtooltiptext\">name of the NWB file</span>\n",
       "                        </div></th><th><div class=\"djtooltip\">\n",
       "                            <p id=\"primary\">sort_group_id</p>\n",
       "                            <span class=\"djtooltiptext\">identifier for a group of electrodes</span>\n",
       "                        </div></th><th><div class=\"djtooltip\">\n",
       "                            <p id=\"primary\">sort_interval_name</p>\n",
       "                            <span class=\"djtooltiptext\">name for this interval</span>\n",
       "                        </div></th><th><div class=\"djtooltip\">\n",
       "                            <p id=\"primary\">preproc_params_name</p>\n",
       "                            <span class=\"djtooltiptext\"></span>\n",
       "                        </div></th><th><div class=\"djtooltip\">\n",
       "                            <p id=\"primary\">team_name</p>\n",
       "                            <span class=\"djtooltiptext\"></span>\n",
       "                        </div></th><th><div class=\"djtooltip\">\n",
       "                            <p id=\"primary\">sorter</p>\n",
       "                            <span class=\"djtooltiptext\"></span>\n",
       "                        </div></th><th><div class=\"djtooltip\">\n",
       "                            <p id=\"primary\">sorter_params_name</p>\n",
       "                            <span class=\"djtooltiptext\"></span>\n",
       "                        </div></th><th><div class=\"djtooltip\">\n",
       "                            <p id=\"primary\">artifact_removed_interval_list_name</p>\n",
       "                            <span class=\"djtooltiptext\"></span>\n",
       "                        </div></th><th><div class=\"djtooltip\">\n",
       "                            <p id=\"primary\">mark_param_name</p>\n",
       "                            <span class=\"djtooltiptext\">a name for this set of parameters</span>\n",
       "                        </div></th><th><div class=\"djtooltip\">\n",
       "                            <p id=\"primary\">interval_list_name</p>\n",
       "                            <span class=\"djtooltiptext\">descriptive name of this interval list</span>\n",
       "                        </div></th><th><div class=\"djtooltip\">\n",
       "                            <p id=\"primary\">sampling_rate</p>\n",
       "                            <span class=\"djtooltiptext\"></span>\n",
       "                        </div> </th> </tr> </thead>\n",
       "            <tbody> <tr> <td>0</td>\n",
       "<td>eliot20221026_.nwb</td>\n",
       "<td>0</td>\n",
       "<td>06_Seq2Session3</td>\n",
       "<td>franklab_tetrode_hippocampus</td>\n",
       "<td>Shijie Gu</td>\n",
       "<td>clusterless_thresholder</td>\n",
       "<td>default</td>\n",
       "<td>eliot20221026_.nwb_06_Seq2Session3_0_franklab_tetrode_hippocampus_ampl_1500_prop_075_1ms_artifact_removed_valid_times_track_time_only</td>\n",
       "<td>default</td>\n",
       "<td>pos 5 valid times</td>\n",
       "<td>500.0</td></tr><tr><td>0</td>\n",
       "<td>eliot20221026_.nwb</td>\n",
       "<td>2</td>\n",
       "<td>06_Seq2Session3</td>\n",
       "<td>franklab_tetrode_hippocampus</td>\n",
       "<td>Shijie Gu</td>\n",
       "<td>clusterless_thresholder</td>\n",
       "<td>default</td>\n",
       "<td>eliot20221026_.nwb_06_Seq2Session3_2_franklab_tetrode_hippocampus_ampl_1500_prop_075_1ms_artifact_removed_valid_times_track_time_only</td>\n",
       "<td>default</td>\n",
       "<td>pos 5 valid times</td>\n",
       "<td>500.0</td></tr><tr><td>0</td>\n",
       "<td>eliot20221026_.nwb</td>\n",
       "<td>4</td>\n",
       "<td>06_Seq2Session3</td>\n",
       "<td>franklab_tetrode_hippocampus</td>\n",
       "<td>Shijie Gu</td>\n",
       "<td>clusterless_thresholder</td>\n",
       "<td>default</td>\n",
       "<td>eliot20221026_.nwb_06_Seq2Session3_4_franklab_tetrode_hippocampus_ampl_1500_prop_075_1ms_artifact_removed_valid_times_track_time_only</td>\n",
       "<td>default</td>\n",
       "<td>pos 5 valid times</td>\n",
       "<td>500.0</td></tr><tr><td>0</td>\n",
       "<td>eliot20221026_.nwb</td>\n",
       "<td>5</td>\n",
       "<td>06_Seq2Session3</td>\n",
       "<td>franklab_tetrode_hippocampus</td>\n",
       "<td>Shijie Gu</td>\n",
       "<td>clusterless_thresholder</td>\n",
       "<td>default</td>\n",
       "<td>eliot20221026_.nwb_06_Seq2Session3_5_franklab_tetrode_hippocampus_ampl_1500_prop_075_1ms_artifact_removed_valid_times_track_time_only</td>\n",
       "<td>default</td>\n",
       "<td>pos 5 valid times</td>\n",
       "<td>500.0</td></tr><tr><td>0</td>\n",
       "<td>eliot20221026_.nwb</td>\n",
       "<td>13</td>\n",
       "<td>06_Seq2Session3</td>\n",
       "<td>franklab_tetrode_hippocampus</td>\n",
       "<td>Shijie Gu</td>\n",
       "<td>clusterless_thresholder</td>\n",
       "<td>default</td>\n",
       "<td>eliot20221026_.nwb_06_Seq2Session3_13_franklab_tetrode_hippocampus_ampl_1500_prop_075_1ms_artifact_removed_valid_times_track_time_only</td>\n",
       "<td>default</td>\n",
       "<td>pos 5 valid times</td>\n",
       "<td>500.0</td></tr><tr><td>0</td>\n",
       "<td>eliot20221026_.nwb</td>\n",
       "<td>14</td>\n",
       "<td>06_Seq2Session3</td>\n",
       "<td>franklab_tetrode_hippocampus</td>\n",
       "<td>Shijie Gu</td>\n",
       "<td>clusterless_thresholder</td>\n",
       "<td>default</td>\n",
       "<td>eliot20221026_.nwb_06_Seq2Session3_14_franklab_tetrode_hippocampus_ampl_1500_prop_075_1ms_artifact_removed_valid_times_track_time_only</td>\n",
       "<td>default</td>\n",
       "<td>pos 5 valid times</td>\n",
       "<td>500.0</td></tr><tr><td>0</td>\n",
       "<td>eliot20221026_.nwb</td>\n",
       "<td>16</td>\n",
       "<td>06_Seq2Session3</td>\n",
       "<td>franklab_tetrode_hippocampus</td>\n",
       "<td>Shijie Gu</td>\n",
       "<td>clusterless_thresholder</td>\n",
       "<td>default</td>\n",
       "<td>eliot20221026_.nwb_06_Seq2Session3_16_franklab_tetrode_hippocampus_ampl_1500_prop_075_1ms_artifact_removed_valid_times_track_time_only</td>\n",
       "<td>default</td>\n",
       "<td>pos 5 valid times</td>\n",
       "<td>500.0</td></tr><tr><td>0</td>\n",
       "<td>eliot20221026_.nwb</td>\n",
       "<td>17</td>\n",
       "<td>06_Seq2Session3</td>\n",
       "<td>franklab_tetrode_hippocampus</td>\n",
       "<td>Shijie Gu</td>\n",
       "<td>clusterless_thresholder</td>\n",
       "<td>default</td>\n",
       "<td>eliot20221026_.nwb_06_Seq2Session3_17_franklab_tetrode_hippocampus_ampl_1500_prop_075_1ms_artifact_removed_valid_times_track_time_only</td>\n",
       "<td>default</td>\n",
       "<td>pos 5 valid times</td>\n",
       "<td>500.0</td></tr><tr><td>0</td>\n",
       "<td>eliot20221026_.nwb</td>\n",
       "<td>20</td>\n",
       "<td>06_Seq2Session3</td>\n",
       "<td>franklab_tetrode_hippocampus</td>\n",
       "<td>Shijie Gu</td>\n",
       "<td>clusterless_thresholder</td>\n",
       "<td>default</td>\n",
       "<td>eliot20221026_.nwb_06_Seq2Session3_20_franklab_tetrode_hippocampus_ampl_1500_prop_075_1ms_artifact_removed_valid_times_track_time_only</td>\n",
       "<td>default</td>\n",
       "<td>pos 5 valid times</td>\n",
       "<td>500.0</td></tr><tr><td>0</td>\n",
       "<td>eliot20221026_.nwb</td>\n",
       "<td>26</td>\n",
       "<td>06_Seq2Session3</td>\n",
       "<td>franklab_tetrode_hippocampus</td>\n",
       "<td>Shijie Gu</td>\n",
       "<td>clusterless_thresholder</td>\n",
       "<td>default</td>\n",
       "<td>eliot20221026_.nwb_06_Seq2Session3_26_franklab_tetrode_hippocampus_ampl_1500_prop_075_1ms_artifact_removed_valid_times_track_time_only</td>\n",
       "<td>default</td>\n",
       "<td>pos 5 valid times</td>\n",
       "<td>500.0</td></tr><tr><td>0</td>\n",
       "<td>eliot20221026_.nwb</td>\n",
       "<td>27</td>\n",
       "<td>06_Seq2Session3</td>\n",
       "<td>franklab_tetrode_hippocampus</td>\n",
       "<td>Shijie Gu</td>\n",
       "<td>clusterless_thresholder</td>\n",
       "<td>default</td>\n",
       "<td>eliot20221026_.nwb_06_Seq2Session3_27_franklab_tetrode_hippocampus_ampl_1500_prop_075_1ms_artifact_removed_valid_times_track_time_only</td>\n",
       "<td>default</td>\n",
       "<td>pos 5 valid times</td>\n",
       "<td>500.0</td></tr><tr><td>0</td>\n",
       "<td>eliot20221026_.nwb</td>\n",
       "<td>28</td>\n",
       "<td>06_Seq2Session3</td>\n",
       "<td>franklab_tetrode_hippocampus</td>\n",
       "<td>Shijie Gu</td>\n",
       "<td>clusterless_thresholder</td>\n",
       "<td>default</td>\n",
       "<td>eliot20221026_.nwb_06_Seq2Session3_28_franklab_tetrode_hippocampus_ampl_1500_prop_075_1ms_artifact_removed_valid_times_track_time_only</td>\n",
       "<td>default</td>\n",
       "<td>pos 5 valid times</td>\n",
       "<td>500.0</td> </tr> </tbody>\n",
       "        </table>\n",
       "        <p>...</p>\n",
       "        <p>Total: 15</p></div>\n",
       "        "
      ],
      "text/plain": [
       "*curation_id   *nwb_file_name *sort_group_id *sort_interval *preproc_param *team_name    *sorter        *sorter_params *artifact_remo *mark_param_na *interval_list *sampling_rate\n",
       "+------------+ +------------+ +------------+ +------------+ +------------+ +-----------+ +------------+ +------------+ +------------+ +------------+ +------------+ +------------+\n",
       "0              eliot20221026_ 0              06_Seq2Session franklab_tetro Shijie Gu     clusterless_th default        eliot20221026_ default        pos 5 valid ti 500.0         \n",
       "0              eliot20221026_ 2              06_Seq2Session franklab_tetro Shijie Gu     clusterless_th default        eliot20221026_ default        pos 5 valid ti 500.0         \n",
       "0              eliot20221026_ 4              06_Seq2Session franklab_tetro Shijie Gu     clusterless_th default        eliot20221026_ default        pos 5 valid ti 500.0         \n",
       "0              eliot20221026_ 5              06_Seq2Session franklab_tetro Shijie Gu     clusterless_th default        eliot20221026_ default        pos 5 valid ti 500.0         \n",
       "0              eliot20221026_ 13             06_Seq2Session franklab_tetro Shijie Gu     clusterless_th default        eliot20221026_ default        pos 5 valid ti 500.0         \n",
       "0              eliot20221026_ 14             06_Seq2Session franklab_tetro Shijie Gu     clusterless_th default        eliot20221026_ default        pos 5 valid ti 500.0         \n",
       "0              eliot20221026_ 16             06_Seq2Session franklab_tetro Shijie Gu     clusterless_th default        eliot20221026_ default        pos 5 valid ti 500.0         \n",
       "0              eliot20221026_ 17             06_Seq2Session franklab_tetro Shijie Gu     clusterless_th default        eliot20221026_ default        pos 5 valid ti 500.0         \n",
       "0              eliot20221026_ 20             06_Seq2Session franklab_tetro Shijie Gu     clusterless_th default        eliot20221026_ default        pos 5 valid ti 500.0         \n",
       "0              eliot20221026_ 26             06_Seq2Session franklab_tetro Shijie Gu     clusterless_th default        eliot20221026_ default        pos 5 valid ti 500.0         \n",
       "0              eliot20221026_ 27             06_Seq2Session franklab_tetro Shijie Gu     clusterless_th default        eliot20221026_ default        pos 5 valid ti 500.0         \n",
       "0              eliot20221026_ 28             06_Seq2Session franklab_tetro Shijie Gu     clusterless_th default        eliot20221026_ default        pos 5 valid ti 500.0         \n",
       "   ...\n",
       " (Total: 15)"
      ]
     },
     "execution_count": 34,
     "metadata": {},
     "output_type": "execute_result"
    }
   ],
   "source": [
    "UnitMarksIndicatorSelection() & {'nwb_file_name': nwb_copy_file_name,\n",
    "         'interval_list_name': position_interval[e]}"
   ]
  },
  {
   "cell_type": "code",
   "execution_count": 35,
   "id": "d179e13f-84b7-4682-928b-de9ebda1658e",
   "metadata": {
    "scrolled": true
   },
   "outputs": [
    {
     "name": "stderr",
     "output_type": "stream",
     "text": [
      "[11:06:29][INFO] Spyglass: Writing new NWB file eliot20221026_7TPPIRYHHH.nwb\n",
      "13-Jun-24 11:06:29 Writing new NWB file eliot20221026_7TPPIRYHHH.nwb\n",
      "[11:06:39][INFO] Spyglass: Writing new NWB file eliot20221026_SFUUZ8RY6O.nwb\n",
      "13-Jun-24 11:06:39 Writing new NWB file eliot20221026_SFUUZ8RY6O.nwb\n",
      "[11:06:50][INFO] Spyglass: Writing new NWB file eliot20221026_0V6U6VYUVH.nwb\n",
      "13-Jun-24 11:06:50 Writing new NWB file eliot20221026_0V6U6VYUVH.nwb\n",
      "[11:06:59][INFO] Spyglass: Writing new NWB file eliot20221026_UAMIWDZTKI.nwb\n",
      "13-Jun-24 11:06:59 Writing new NWB file eliot20221026_UAMIWDZTKI.nwb\n",
      "[11:07:09][INFO] Spyglass: Writing new NWB file eliot20221026_1C3YXY3ARC.nwb\n",
      "13-Jun-24 11:07:09 Writing new NWB file eliot20221026_1C3YXY3ARC.nwb\n",
      "[11:07:20][INFO] Spyglass: Writing new NWB file eliot20221026_R8CXFFFB1O.nwb\n",
      "13-Jun-24 11:07:20 Writing new NWB file eliot20221026_R8CXFFFB1O.nwb\n",
      "[11:07:29][INFO] Spyglass: Writing new NWB file eliot20221026_ETFUVPVM1G.nwb\n",
      "13-Jun-24 11:07:29 Writing new NWB file eliot20221026_ETFUVPVM1G.nwb\n",
      "[11:07:39][INFO] Spyglass: Writing new NWB file eliot20221026_0QMSIRVQT1.nwb\n",
      "13-Jun-24 11:07:39 Writing new NWB file eliot20221026_0QMSIRVQT1.nwb\n",
      "[11:07:50][INFO] Spyglass: Writing new NWB file eliot20221026_QPDXVRGB5S.nwb\n",
      "13-Jun-24 11:07:50 Writing new NWB file eliot20221026_QPDXVRGB5S.nwb\n",
      "[11:08:01][INFO] Spyglass: Writing new NWB file eliot20221026_454PA5FGTD.nwb\n",
      "13-Jun-24 11:08:01 Writing new NWB file eliot20221026_454PA5FGTD.nwb\n",
      "[11:08:10][INFO] Spyglass: Writing new NWB file eliot20221026_PG1A8K7ETT.nwb\n",
      "13-Jun-24 11:08:10 Writing new NWB file eliot20221026_PG1A8K7ETT.nwb\n",
      "[11:08:20][INFO] Spyglass: Writing new NWB file eliot20221026_FAR7UTZIF0.nwb\n",
      "13-Jun-24 11:08:20 Writing new NWB file eliot20221026_FAR7UTZIF0.nwb\n",
      "[11:08:30][INFO] Spyglass: Writing new NWB file eliot20221026_A9LWJR57V4.nwb\n",
      "13-Jun-24 11:08:30 Writing new NWB file eliot20221026_A9LWJR57V4.nwb\n",
      "[11:08:40][INFO] Spyglass: Writing new NWB file eliot20221026_7ZQA1WXLQE.nwb\n",
      "13-Jun-24 11:08:40 Writing new NWB file eliot20221026_7ZQA1WXLQE.nwb\n",
      "[11:08:50][INFO] Spyglass: Writing new NWB file eliot20221026_IA0SY5J30M.nwb\n",
      "13-Jun-24 11:08:50 Writing new NWB file eliot20221026_IA0SY5J30M.nwb\n"
     ]
    }
   ],
   "source": [
    "UnitMarksIndicator.populate(marks_selection)"
   ]
  },
  {
   "cell_type": "code",
   "execution_count": 40,
   "id": "ed3e32a4-6640-434c-a4d7-0620216dbe9d",
   "metadata": {
    "scrolled": true,
    "tags": []
   },
   "outputs": [
    {
     "data": {
      "text/plain": [
       "(850920, 4, 15)"
      ]
     },
     "execution_count": 40,
     "metadata": {},
     "output_type": "execute_result"
    }
   ],
   "source": [
    "marks = (UnitMarksIndicator & {\n",
    "    'nwb_file_name': nwb_copy_file_name,\n",
    "    'interval_list_name': position_interval[e],   \n",
    "}).fetch_xarray()\n",
    "marks.shape"
   ]
  },
  {
   "cell_type": "markdown",
   "id": "331eb32c-a745-4998-97e3-e853efc5b75b",
   "metadata": {},
   "source": [
    "After you get the marks, it is important to visualize them to make sure they look right. We can use the `plot_all_marks` method of UnitMarksIndicator to quickly plot each mark feature against the other for each electrode.\n",
    "\n",
    "Here it is important to look for things that look overly correlated (strong diagonal on the off-diagonal plots) and for extreme amplitudes."
   ]
  },
  {
   "cell_type": "code",
   "execution_count": 60,
   "id": "be6ff0f7-299c-4a9a-b886-90b36b59c739",
   "metadata": {
    "scrolled": true
   },
   "outputs": [
    {
     "data": {
      "text/html": [
       "\n",
       "    \n",
       "    <style type=\"text/css\">\n",
       "        .Table{\n",
       "            border-collapse:collapse;\n",
       "        }\n",
       "        .Table th{\n",
       "            background: #A0A0A0; color: #ffffff; padding:4px; border:#f0e0e0 1px solid;\n",
       "            font-weight: normal; font-family: monospace; font-size: 100%;\n",
       "        }\n",
       "        .Table td{\n",
       "            padding:4px; border:#f0e0e0 1px solid; font-size:100%;\n",
       "        }\n",
       "        .Table tr:nth-child(odd){\n",
       "            background: #ffffff;\n",
       "            color: #000000;\n",
       "        }\n",
       "        .Table tr:nth-child(even){\n",
       "            background: #f3f1ff;\n",
       "            color: #000000;\n",
       "        }\n",
       "        /* Tooltip container */\n",
       "        .djtooltip {\n",
       "        }\n",
       "        /* Tooltip text */\n",
       "        .djtooltip .djtooltiptext {\n",
       "            visibility: hidden;\n",
       "            width: 120px;\n",
       "            background-color: black;\n",
       "            color: #fff;\n",
       "            text-align: center;\n",
       "            padding: 5px 0;\n",
       "            border-radius: 6px;\n",
       "            /* Position the tooltip text - see examples below! */\n",
       "            position: absolute;\n",
       "            z-index: 1;\n",
       "        }\n",
       "        #primary {\n",
       "            font-weight: bold;\n",
       "            color: black;\n",
       "        }\n",
       "        #nonprimary {\n",
       "            font-weight: normal;\n",
       "            color: white;\n",
       "        }\n",
       "\n",
       "        /* Show the tooltip text when you mouse over the tooltip container */\n",
       "        .djtooltip:hover .djtooltiptext {\n",
       "            visibility: visible;\n",
       "        }\n",
       "    </style>\n",
       "    \n",
       "    <b></b>\n",
       "        <div style=\"max-height:1000px;max-width:1500px;overflow:auto;\">\n",
       "        <table border=\"1\" class=\"Table\">\n",
       "            <thead> <tr style=\"text-align: right;\"> <th> <div class=\"djtooltip\">\n",
       "                            <p id=\"primary\">curation_id</p>\n",
       "                            <span class=\"djtooltiptext\">a number correponding to the index of this curation</span>\n",
       "                        </div></th><th><div class=\"djtooltip\">\n",
       "                            <p id=\"primary\">nwb_file_name</p>\n",
       "                            <span class=\"djtooltiptext\">name of the NWB file</span>\n",
       "                        </div></th><th><div class=\"djtooltip\">\n",
       "                            <p id=\"primary\">sort_group_id</p>\n",
       "                            <span class=\"djtooltiptext\">identifier for a group of electrodes</span>\n",
       "                        </div></th><th><div class=\"djtooltip\">\n",
       "                            <p id=\"primary\">sort_interval_name</p>\n",
       "                            <span class=\"djtooltiptext\">name for this interval</span>\n",
       "                        </div></th><th><div class=\"djtooltip\">\n",
       "                            <p id=\"primary\">preproc_params_name</p>\n",
       "                            <span class=\"djtooltiptext\"></span>\n",
       "                        </div></th><th><div class=\"djtooltip\">\n",
       "                            <p id=\"primary\">team_name</p>\n",
       "                            <span class=\"djtooltiptext\"></span>\n",
       "                        </div></th><th><div class=\"djtooltip\">\n",
       "                            <p id=\"primary\">sorter</p>\n",
       "                            <span class=\"djtooltiptext\"></span>\n",
       "                        </div></th><th><div class=\"djtooltip\">\n",
       "                            <p id=\"primary\">sorter_params_name</p>\n",
       "                            <span class=\"djtooltiptext\"></span>\n",
       "                        </div></th><th><div class=\"djtooltip\">\n",
       "                            <p id=\"primary\">artifact_removed_interval_list_name</p>\n",
       "                            <span class=\"djtooltiptext\"></span>\n",
       "                        </div></th><th><div class=\"djtooltip\">\n",
       "                            <p id=\"primary\">mark_param_name</p>\n",
       "                            <span class=\"djtooltiptext\">a name for this set of parameters</span>\n",
       "                        </div></th><th><div class=\"djtooltip\">\n",
       "                            <p id=\"primary\">interval_list_name</p>\n",
       "                            <span class=\"djtooltiptext\">descriptive name of this interval list</span>\n",
       "                        </div></th><th><div class=\"djtooltip\">\n",
       "                            <p id=\"primary\">sampling_rate</p>\n",
       "                            <span class=\"djtooltiptext\"></span>\n",
       "                        </div></th><th><div class=\"djtooltip\">\n",
       "                            <p id=\"nonprimary\">analysis_file_name</p>\n",
       "                            <span class=\"djtooltiptext\">name of the file</span>\n",
       "                        </div></th><th><div class=\"djtooltip\">\n",
       "                            <p id=\"nonprimary\">marks_indicator_object_id</p>\n",
       "                            <span class=\"djtooltiptext\"></span>\n",
       "                        </div> </th> </tr> </thead>\n",
       "            <tbody> <tr> <td>0</td>\n",
       "<td>eliot20221021_.nwb</td>\n",
       "<td>0</td>\n",
       "<td>02_Seq2Session1</td>\n",
       "<td>franklab_tetrode_hippocampus</td>\n",
       "<td>Shijie Gu</td>\n",
       "<td>clusterless_thresholder</td>\n",
       "<td>default</td>\n",
       "<td>eliot20221021_.nwb_02_Seq2Session1_0_franklab_tetrode_hippocampus_ampl_1500_prop_075_1ms_artifact_removed_valid_times</td>\n",
       "<td>default</td>\n",
       "<td>pos 1 valid times</td>\n",
       "<td>500.0</td>\n",
       "<td>eliot20221021_WGF6BP68X4.nwb</td>\n",
       "<td>2cc12b9c-36c3-4ff7-9926-6f1f7f4b253b</td></tr><tr><td>0</td>\n",
       "<td>eliot20221021_.nwb</td>\n",
       "<td>0</td>\n",
       "<td>02_Seq2Session1</td>\n",
       "<td>franklab_tetrode_hippocampus</td>\n",
       "<td>Shijie Gu</td>\n",
       "<td>clusterless_thresholder</td>\n",
       "<td>default</td>\n",
       "<td>eliot20221021_.nwb_02_Seq2Session1_0_franklab_tetrode_hippocampus_ampl_1500_prop_075_1ms_artifact_removed_valid_times_track_time_only</td>\n",
       "<td>default</td>\n",
       "<td>pos 1 valid times</td>\n",
       "<td>500.0</td>\n",
       "<td>eliot20221021_KSZXMG8HXC.nwb</td>\n",
       "<td>e0756d8a-ec68-4a94-8a97-dd73aff21fd3</td></tr><tr><td>0</td>\n",
       "<td>eliot20221021_.nwb</td>\n",
       "<td>0</td>\n",
       "<td>04_Seq2Session2</td>\n",
       "<td>franklab_tetrode_hippocampus</td>\n",
       "<td>Shijie Gu</td>\n",
       "<td>clusterless_thresholder</td>\n",
       "<td>default</td>\n",
       "<td>eliot20221021_.nwb_04_Seq2Session2_0_franklab_tetrode_hippocampus_ampl_1500_prop_075_1ms_artifact_removed_valid_times</td>\n",
       "<td>default</td>\n",
       "<td>pos 3 valid times</td>\n",
       "<td>500.0</td>\n",
       "<td>eliot20221021_KUCG14I286.nwb</td>\n",
       "<td>2830f6ce-3e0d-458a-9489-7d4a48ef97f2</td></tr><tr><td>0</td>\n",
       "<td>eliot20221021_.nwb</td>\n",
       "<td>0</td>\n",
       "<td>04_Seq2Session2</td>\n",
       "<td>franklab_tetrode_hippocampus</td>\n",
       "<td>Shijie Gu</td>\n",
       "<td>clusterless_thresholder</td>\n",
       "<td>default</td>\n",
       "<td>eliot20221021_.nwb_04_Seq2Session2_0_franklab_tetrode_hippocampus_ampl_1500_prop_075_1ms_artifact_removed_valid_times_track_time_only</td>\n",
       "<td>default</td>\n",
       "<td>pos 3 valid times</td>\n",
       "<td>500.0</td>\n",
       "<td>eliot20221021_JLRITVHF47.nwb</td>\n",
       "<td>f9468067-942f-41a7-a7fc-709ebfeb8887</td></tr><tr><td>0</td>\n",
       "<td>eliot20221021_.nwb</td>\n",
       "<td>0</td>\n",
       "<td>06_Seq2Session3</td>\n",
       "<td>franklab_tetrode_hippocampus</td>\n",
       "<td>Shijie Gu</td>\n",
       "<td>clusterless_thresholder</td>\n",
       "<td>default</td>\n",
       "<td>eliot20221021_.nwb_06_Seq2Session3_0_franklab_tetrode_hippocampus_ampl_1500_prop_075_1ms_artifact_removed_valid_times</td>\n",
       "<td>default</td>\n",
       "<td>pos 5 valid times</td>\n",
       "<td>500.0</td>\n",
       "<td>eliot20221021_91C8IH2C5R.nwb</td>\n",
       "<td>8cdabffd-dafd-4824-a44c-50bb2f24d928</td></tr><tr><td>0</td>\n",
       "<td>eliot20221021_.nwb</td>\n",
       "<td>0</td>\n",
       "<td>06_Seq2Session3</td>\n",
       "<td>franklab_tetrode_hippocampus</td>\n",
       "<td>Shijie Gu</td>\n",
       "<td>clusterless_thresholder</td>\n",
       "<td>default</td>\n",
       "<td>eliot20221021_.nwb_06_Seq2Session3_0_franklab_tetrode_hippocampus_ampl_1500_prop_075_1ms_artifact_removed_valid_times_track_time_only</td>\n",
       "<td>default</td>\n",
       "<td>pos 5 valid times</td>\n",
       "<td>500.0</td>\n",
       "<td>eliot20221021_RIETOT7U5K.nwb</td>\n",
       "<td>aca05b4e-4f53-42fe-a0b2-d6fddd39a31c</td></tr><tr><td>0</td>\n",
       "<td>eliot20221021_.nwb</td>\n",
       "<td>0</td>\n",
       "<td>08_Seq2Session4</td>\n",
       "<td>franklab_tetrode_hippocampus</td>\n",
       "<td>Shijie Gu</td>\n",
       "<td>clusterless_thresholder</td>\n",
       "<td>default</td>\n",
       "<td>eliot20221021_.nwb_08_Seq2Session4_0_franklab_tetrode_hippocampus_ampl_1500_prop_075_1ms_artifact_removed_valid_times</td>\n",
       "<td>default</td>\n",
       "<td>pos 7 valid times</td>\n",
       "<td>500.0</td>\n",
       "<td>eliot20221021_K0CZOW21D5.nwb</td>\n",
       "<td>19d1e9dd-ad97-45ad-a7aa-1a402888442a</td></tr><tr><td>0</td>\n",
       "<td>eliot20221021_.nwb</td>\n",
       "<td>0</td>\n",
       "<td>08_Seq2Session4</td>\n",
       "<td>franklab_tetrode_hippocampus</td>\n",
       "<td>Shijie Gu</td>\n",
       "<td>clusterless_thresholder</td>\n",
       "<td>default</td>\n",
       "<td>eliot20221021_.nwb_08_Seq2Session4_0_franklab_tetrode_hippocampus_ampl_1500_prop_075_1ms_artifact_removed_valid_times_track_time_only</td>\n",
       "<td>default</td>\n",
       "<td>pos 7 valid times</td>\n",
       "<td>500.0</td>\n",
       "<td>eliot20221021_4FQP1OLVSM.nwb</td>\n",
       "<td>e1b06fa3-a2be-43ef-b448-dd663c7b3b52</td></tr><tr><td>0</td>\n",
       "<td>eliot20221021_.nwb</td>\n",
       "<td>2</td>\n",
       "<td>02_Seq2Session1</td>\n",
       "<td>franklab_tetrode_hippocampus</td>\n",
       "<td>Shijie Gu</td>\n",
       "<td>clusterless_thresholder</td>\n",
       "<td>default</td>\n",
       "<td>eliot20221021_.nwb_02_Seq2Session1_2_franklab_tetrode_hippocampus_ampl_1500_prop_075_1ms_artifact_removed_valid_times</td>\n",
       "<td>default</td>\n",
       "<td>pos 1 valid times</td>\n",
       "<td>500.0</td>\n",
       "<td>eliot20221021_CM1WNMZXQB.nwb</td>\n",
       "<td>0b4462e7-2f78-4e6a-9992-417c1ef684fb</td></tr><tr><td>0</td>\n",
       "<td>eliot20221021_.nwb</td>\n",
       "<td>2</td>\n",
       "<td>02_Seq2Session1</td>\n",
       "<td>franklab_tetrode_hippocampus</td>\n",
       "<td>Shijie Gu</td>\n",
       "<td>clusterless_thresholder</td>\n",
       "<td>default</td>\n",
       "<td>eliot20221021_.nwb_02_Seq2Session1_2_franklab_tetrode_hippocampus_ampl_1500_prop_075_1ms_artifact_removed_valid_times_track_time_only</td>\n",
       "<td>default</td>\n",
       "<td>pos 1 valid times</td>\n",
       "<td>500.0</td>\n",
       "<td>eliot20221021_TXO8YJKQOG.nwb</td>\n",
       "<td>87278124-ae40-4afd-8b54-2af602e2bf32</td></tr><tr><td>0</td>\n",
       "<td>eliot20221021_.nwb</td>\n",
       "<td>2</td>\n",
       "<td>04_Seq2Session2</td>\n",
       "<td>franklab_tetrode_hippocampus</td>\n",
       "<td>Shijie Gu</td>\n",
       "<td>clusterless_thresholder</td>\n",
       "<td>default</td>\n",
       "<td>eliot20221021_.nwb_04_Seq2Session2_2_franklab_tetrode_hippocampus_ampl_1500_prop_075_1ms_artifact_removed_valid_times</td>\n",
       "<td>default</td>\n",
       "<td>pos 3 valid times</td>\n",
       "<td>500.0</td>\n",
       "<td>eliot20221021_O5LLNZ68MK.nwb</td>\n",
       "<td>60f43ad9-362c-441b-a5a5-de952b60dd48</td></tr><tr><td>0</td>\n",
       "<td>eliot20221021_.nwb</td>\n",
       "<td>2</td>\n",
       "<td>04_Seq2Session2</td>\n",
       "<td>franklab_tetrode_hippocampus</td>\n",
       "<td>Shijie Gu</td>\n",
       "<td>clusterless_thresholder</td>\n",
       "<td>default</td>\n",
       "<td>eliot20221021_.nwb_04_Seq2Session2_2_franklab_tetrode_hippocampus_ampl_1500_prop_075_1ms_artifact_removed_valid_times_track_time_only</td>\n",
       "<td>default</td>\n",
       "<td>pos 3 valid times</td>\n",
       "<td>500.0</td>\n",
       "<td>eliot20221021_L1HZ69KDHY.nwb</td>\n",
       "<td>20ebbc56-4b4c-4735-8a2d-ab873ae12051</td> </tr> </tbody>\n",
       "        </table>\n",
       "        <p>...</p>\n",
       "        <p>Total: 128</p></div>\n",
       "        "
      ],
      "text/plain": [
       "*curation_id   *nwb_file_name *sort_group_id *sort_interval *preproc_param *team_name    *sorter        *sorter_params *artifact_remo *mark_param_na *interval_list *sampling_rate analysis_file_ marks_indicato\n",
       "+------------+ +------------+ +------------+ +------------+ +------------+ +-----------+ +------------+ +------------+ +------------+ +------------+ +------------+ +------------+ +------------+ +------------+\n",
       "0              eliot20221021_ 0              02_Seq2Session franklab_tetro Shijie Gu     clusterless_th default        eliot20221021_ default        pos 1 valid ti 500.0          eliot20221021_ 2cc12b9c-36c3-\n",
       "0              eliot20221021_ 0              02_Seq2Session franklab_tetro Shijie Gu     clusterless_th default        eliot20221021_ default        pos 1 valid ti 500.0          eliot20221021_ e0756d8a-ec68-\n",
       "0              eliot20221021_ 0              04_Seq2Session franklab_tetro Shijie Gu     clusterless_th default        eliot20221021_ default        pos 3 valid ti 500.0          eliot20221021_ 2830f6ce-3e0d-\n",
       "0              eliot20221021_ 0              04_Seq2Session franklab_tetro Shijie Gu     clusterless_th default        eliot20221021_ default        pos 3 valid ti 500.0          eliot20221021_ f9468067-942f-\n",
       "0              eliot20221021_ 0              06_Seq2Session franklab_tetro Shijie Gu     clusterless_th default        eliot20221021_ default        pos 5 valid ti 500.0          eliot20221021_ 8cdabffd-dafd-\n",
       "0              eliot20221021_ 0              06_Seq2Session franklab_tetro Shijie Gu     clusterless_th default        eliot20221021_ default        pos 5 valid ti 500.0          eliot20221021_ aca05b4e-4f53-\n",
       "0              eliot20221021_ 0              08_Seq2Session franklab_tetro Shijie Gu     clusterless_th default        eliot20221021_ default        pos 7 valid ti 500.0          eliot20221021_ 19d1e9dd-ad97-\n",
       "0              eliot20221021_ 0              08_Seq2Session franklab_tetro Shijie Gu     clusterless_th default        eliot20221021_ default        pos 7 valid ti 500.0          eliot20221021_ e1b06fa3-a2be-\n",
       "0              eliot20221021_ 2              02_Seq2Session franklab_tetro Shijie Gu     clusterless_th default        eliot20221021_ default        pos 1 valid ti 500.0          eliot20221021_ 0b4462e7-2f78-\n",
       "0              eliot20221021_ 2              02_Seq2Session franklab_tetro Shijie Gu     clusterless_th default        eliot20221021_ default        pos 1 valid ti 500.0          eliot20221021_ 87278124-ae40-\n",
       "0              eliot20221021_ 2              04_Seq2Session franklab_tetro Shijie Gu     clusterless_th default        eliot20221021_ default        pos 3 valid ti 500.0          eliot20221021_ 60f43ad9-362c-\n",
       "0              eliot20221021_ 2              04_Seq2Session franklab_tetro Shijie Gu     clusterless_th default        eliot20221021_ default        pos 3 valid ti 500.0          eliot20221021_ 20ebbc56-4b4c-\n",
       "   ...\n",
       " (Total: 128)"
      ]
     },
     "execution_count": 60,
     "metadata": {},
     "output_type": "execute_result"
    }
   ],
   "source": [
    "UnitMarksIndicator & {\n",
    "    'nwb_file_name': nwb_copy_file_name  \n",
    "}"
   ]
  },
  {
   "cell_type": "markdown",
   "id": "57eb5a4e-4213-4da6-adc4-1b235c5f4695",
   "metadata": {},
   "source": [
    "## 2. Position\n",
    "\n",
    "After the marks look good, you'll need to load/populate the 2D position data. This comes from the `IntervalPositionInfo` table. See the position tutorial for more information. Note that we will need to upsample the position data (which is done here via the `default_decoding` parameters) to match the sampling frequency that we intend to decode in (2 ms time bins or 500 Hz sampling rate)"
   ]
  },
  {
   "cell_type": "markdown",
   "id": "4f3d6f91-2ca5-404e-afc9-f45d802d33ef",
   "metadata": {},
   "source": [
    "Next we populate/load the linearized position tables. Again refer to the linear position tutorials for more information."
   ]
  },
  {
   "cell_type": "code",
   "execution_count": 47,
   "id": "94b0297d-f5e9-474f-8e21-5f6e09bd599d",
   "metadata": {},
   "outputs": [],
   "source": [
    "position_df = (IntervalPositionInfo &\n",
    " {'nwb_file_name': nwb_copy_file_name,\n",
    "  'interval_list_name': position_interval[e],\n",
    "  'position_info_param_name': 'default_decoding'}\n",
    "              ).fetch1_dataframe()"
   ]
  },
  {
   "cell_type": "code",
   "execution_count": 48,
   "id": "d44671a7-2f0f-4d27-a052-73798189061f",
   "metadata": {},
   "outputs": [
    {
     "data": {
      "text/html": [
       "<div>\n",
       "<style scoped>\n",
       "    .dataframe tbody tr th:only-of-type {\n",
       "        vertical-align: middle;\n",
       "    }\n",
       "\n",
       "    .dataframe tbody tr th {\n",
       "        vertical-align: top;\n",
       "    }\n",
       "\n",
       "    .dataframe thead th {\n",
       "        text-align: right;\n",
       "    }\n",
       "</style>\n",
       "<table border=\"1\" class=\"dataframe\">\n",
       "  <thead>\n",
       "    <tr style=\"text-align: right;\">\n",
       "      <th></th>\n",
       "      <th>head_position_x</th>\n",
       "      <th>head_position_y</th>\n",
       "      <th>head_orientation</th>\n",
       "      <th>head_velocity_x</th>\n",
       "      <th>head_velocity_y</th>\n",
       "      <th>head_speed</th>\n",
       "    </tr>\n",
       "    <tr>\n",
       "      <th>time</th>\n",
       "      <th></th>\n",
       "      <th></th>\n",
       "      <th></th>\n",
       "      <th></th>\n",
       "      <th></th>\n",
       "      <th></th>\n",
       "    </tr>\n",
       "  </thead>\n",
       "  <tbody>\n",
       "    <tr>\n",
       "      <th>1.666816e+09</th>\n",
       "      <td>210.00</td>\n",
       "      <td>231.000000</td>\n",
       "      <td>1.403169</td>\n",
       "      <td>-4.183106e-10</td>\n",
       "      <td>-0.051216</td>\n",
       "      <td>0.051216</td>\n",
       "    </tr>\n",
       "    <tr>\n",
       "      <th>1.666816e+09</th>\n",
       "      <td>210.00</td>\n",
       "      <td>231.000000</td>\n",
       "      <td>1.570382</td>\n",
       "      <td>-4.765132e-10</td>\n",
       "      <td>-0.055574</td>\n",
       "      <td>0.055574</td>\n",
       "    </tr>\n",
       "    <tr>\n",
       "      <th>1.666816e+09</th>\n",
       "      <td>210.00</td>\n",
       "      <td>231.000000</td>\n",
       "      <td>1.570796</td>\n",
       "      <td>-5.425989e-10</td>\n",
       "      <td>-0.059933</td>\n",
       "      <td>0.059933</td>\n",
       "    </tr>\n",
       "    <tr>\n",
       "      <th>1.666816e+09</th>\n",
       "      <td>210.00</td>\n",
       "      <td>231.000000</td>\n",
       "      <td>1.570796</td>\n",
       "      <td>-6.176049e-10</td>\n",
       "      <td>-0.064283</td>\n",
       "      <td>0.064283</td>\n",
       "    </tr>\n",
       "    <tr>\n",
       "      <th>1.666816e+09</th>\n",
       "      <td>210.00</td>\n",
       "      <td>231.000000</td>\n",
       "      <td>1.570796</td>\n",
       "      <td>-7.027008e-10</td>\n",
       "      <td>-0.068615</td>\n",
       "      <td>0.068615</td>\n",
       "    </tr>\n",
       "    <tr>\n",
       "      <th>...</th>\n",
       "      <td>...</td>\n",
       "      <td>...</td>\n",
       "      <td>...</td>\n",
       "      <td>...</td>\n",
       "      <td>...</td>\n",
       "      <td>...</td>\n",
       "    </tr>\n",
       "    <tr>\n",
       "      <th>1.666818e+09</th>\n",
       "      <td>315.25</td>\n",
       "      <td>108.960227</td>\n",
       "      <td>-0.086802</td>\n",
       "      <td>-1.014436e+00</td>\n",
       "      <td>-1.375576</td>\n",
       "      <td>1.709178</td>\n",
       "    </tr>\n",
       "    <tr>\n",
       "      <th>1.666818e+09</th>\n",
       "      <td>315.25</td>\n",
       "      <td>108.954545</td>\n",
       "      <td>-0.085213</td>\n",
       "      <td>-9.914567e-01</td>\n",
       "      <td>-1.354222</td>\n",
       "      <td>1.678364</td>\n",
       "    </tr>\n",
       "    <tr>\n",
       "      <th>1.666818e+09</th>\n",
       "      <td>315.25</td>\n",
       "      <td>108.948864</td>\n",
       "      <td>-0.083627</td>\n",
       "      <td>-9.686190e-01</td>\n",
       "      <td>-1.332783</td>\n",
       "      <td>1.647584</td>\n",
       "    </tr>\n",
       "    <tr>\n",
       "      <th>1.666818e+09</th>\n",
       "      <td>315.25</td>\n",
       "      <td>108.943182</td>\n",
       "      <td>-0.043893</td>\n",
       "      <td>-9.459378e-01</td>\n",
       "      <td>-1.311275</td>\n",
       "      <td>1.616861</td>\n",
       "    </tr>\n",
       "    <tr>\n",
       "      <th>1.666818e+09</th>\n",
       "      <td>315.25</td>\n",
       "      <td>108.937500</td>\n",
       "      <td>2.783259</td>\n",
       "      <td>-9.234274e-01</td>\n",
       "      <td>-1.289715</td>\n",
       "      <td>1.586217</td>\n",
       "    </tr>\n",
       "  </tbody>\n",
       "</table>\n",
       "<p>850920 rows × 6 columns</p>\n",
       "</div>"
      ],
      "text/plain": [
       "              head_position_x  head_position_y  head_orientation  \\\n",
       "time                                                               \n",
       "1.666816e+09           210.00       231.000000          1.403169   \n",
       "1.666816e+09           210.00       231.000000          1.570382   \n",
       "1.666816e+09           210.00       231.000000          1.570796   \n",
       "1.666816e+09           210.00       231.000000          1.570796   \n",
       "1.666816e+09           210.00       231.000000          1.570796   \n",
       "...                       ...              ...               ...   \n",
       "1.666818e+09           315.25       108.960227         -0.086802   \n",
       "1.666818e+09           315.25       108.954545         -0.085213   \n",
       "1.666818e+09           315.25       108.948864         -0.083627   \n",
       "1.666818e+09           315.25       108.943182         -0.043893   \n",
       "1.666818e+09           315.25       108.937500          2.783259   \n",
       "\n",
       "              head_velocity_x  head_velocity_y  head_speed  \n",
       "time                                                        \n",
       "1.666816e+09    -4.183106e-10        -0.051216    0.051216  \n",
       "1.666816e+09    -4.765132e-10        -0.055574    0.055574  \n",
       "1.666816e+09    -5.425989e-10        -0.059933    0.059933  \n",
       "1.666816e+09    -6.176049e-10        -0.064283    0.064283  \n",
       "1.666816e+09    -7.027008e-10        -0.068615    0.068615  \n",
       "...                       ...              ...         ...  \n",
       "1.666818e+09    -1.014436e+00        -1.375576    1.709178  \n",
       "1.666818e+09    -9.914567e-01        -1.354222    1.678364  \n",
       "1.666818e+09    -9.686190e-01        -1.332783    1.647584  \n",
       "1.666818e+09    -9.459378e-01        -1.311275    1.616861  \n",
       "1.666818e+09    -9.234274e-01        -1.289715    1.586217  \n",
       "\n",
       "[850920 rows x 6 columns]"
      ]
     },
     "execution_count": 48,
     "metadata": {},
     "output_type": "execute_result"
    }
   ],
   "source": [
    "position_df"
   ]
  },
  {
   "cell_type": "code",
   "execution_count": 38,
   "id": "308bac74-947d-4929-b97e-fd1d251bcda1",
   "metadata": {
    "scrolled": true
   },
   "outputs": [
    {
     "name": "stderr",
     "output_type": "stream",
     "text": [
      "[11:38:54][WARNING] Spyglass: Deprecation: this class has been moved out of spyglass.common.common_position\n",
      "\tIntervalLinearizedPosition -> spyglass.linearization.v0.main.IntervalLinearizedPosition\n",
      "Please use the new location.\n",
      "13-Jun-24 11:38:54 Deprecation: this class has been moved out of spyglass.common.common_position\n",
      "\tIntervalLinearizedPosition -> spyglass.linearization.v0.main.IntervalLinearizedPosition\n",
      "Please use the new location.\n"
     ]
    },
    {
     "data": {
      "text/html": [
       "<div>\n",
       "<style scoped>\n",
       "    .dataframe tbody tr th:only-of-type {\n",
       "        vertical-align: middle;\n",
       "    }\n",
       "\n",
       "    .dataframe tbody tr th {\n",
       "        vertical-align: top;\n",
       "    }\n",
       "\n",
       "    .dataframe thead th {\n",
       "        text-align: right;\n",
       "    }\n",
       "</style>\n",
       "<table border=\"1\" class=\"dataframe\">\n",
       "  <thead>\n",
       "    <tr style=\"text-align: right;\">\n",
       "      <th></th>\n",
       "      <th>linear_position</th>\n",
       "      <th>track_segment_id</th>\n",
       "      <th>projected_x_position</th>\n",
       "      <th>projected_y_position</th>\n",
       "    </tr>\n",
       "    <tr>\n",
       "      <th>time</th>\n",
       "      <th></th>\n",
       "      <th></th>\n",
       "      <th></th>\n",
       "      <th></th>\n",
       "    </tr>\n",
       "  </thead>\n",
       "  <tbody>\n",
       "    <tr>\n",
       "      <th>1.666816e+09</th>\n",
       "      <td>2.975418</td>\n",
       "      <td>0</td>\n",
       "      <td>210.456487</td>\n",
       "      <td>231.031756</td>\n",
       "    </tr>\n",
       "    <tr>\n",
       "      <th>1.666816e+09</th>\n",
       "      <td>2.975418</td>\n",
       "      <td>0</td>\n",
       "      <td>210.456487</td>\n",
       "      <td>231.031756</td>\n",
       "    </tr>\n",
       "    <tr>\n",
       "      <th>1.666816e+09</th>\n",
       "      <td>2.975418</td>\n",
       "      <td>0</td>\n",
       "      <td>210.456487</td>\n",
       "      <td>231.031756</td>\n",
       "    </tr>\n",
       "    <tr>\n",
       "      <th>1.666816e+09</th>\n",
       "      <td>2.975418</td>\n",
       "      <td>0</td>\n",
       "      <td>210.456487</td>\n",
       "      <td>231.031756</td>\n",
       "    </tr>\n",
       "    <tr>\n",
       "      <th>1.666816e+09</th>\n",
       "      <td>2.975418</td>\n",
       "      <td>0</td>\n",
       "      <td>210.456487</td>\n",
       "      <td>231.031756</td>\n",
       "    </tr>\n",
       "    <tr>\n",
       "      <th>...</th>\n",
       "      <td>...</td>\n",
       "      <td>...</td>\n",
       "      <td>...</td>\n",
       "      <td>...</td>\n",
       "    </tr>\n",
       "    <tr>\n",
       "      <th>1.666818e+09</th>\n",
       "      <td>743.032159</td>\n",
       "      <td>9</td>\n",
       "      <td>310.500000</td>\n",
       "      <td>110.750000</td>\n",
       "    </tr>\n",
       "    <tr>\n",
       "      <th>1.666818e+09</th>\n",
       "      <td>743.032159</td>\n",
       "      <td>9</td>\n",
       "      <td>310.500000</td>\n",
       "      <td>110.750000</td>\n",
       "    </tr>\n",
       "    <tr>\n",
       "      <th>1.666818e+09</th>\n",
       "      <td>743.032159</td>\n",
       "      <td>9</td>\n",
       "      <td>310.500000</td>\n",
       "      <td>110.750000</td>\n",
       "    </tr>\n",
       "    <tr>\n",
       "      <th>1.666818e+09</th>\n",
       "      <td>743.032159</td>\n",
       "      <td>9</td>\n",
       "      <td>310.500000</td>\n",
       "      <td>110.750000</td>\n",
       "    </tr>\n",
       "    <tr>\n",
       "      <th>1.666818e+09</th>\n",
       "      <td>743.032159</td>\n",
       "      <td>9</td>\n",
       "      <td>310.500000</td>\n",
       "      <td>110.750000</td>\n",
       "    </tr>\n",
       "  </tbody>\n",
       "</table>\n",
       "<p>850920 rows × 4 columns</p>\n",
       "</div>"
      ],
      "text/plain": [
       "              linear_position  track_segment_id  projected_x_position  \\\n",
       "time                                                                    \n",
       "1.666816e+09         2.975418                 0            210.456487   \n",
       "1.666816e+09         2.975418                 0            210.456487   \n",
       "1.666816e+09         2.975418                 0            210.456487   \n",
       "1.666816e+09         2.975418                 0            210.456487   \n",
       "1.666816e+09         2.975418                 0            210.456487   \n",
       "...                       ...               ...                   ...   \n",
       "1.666818e+09       743.032159                 9            310.500000   \n",
       "1.666818e+09       743.032159                 9            310.500000   \n",
       "1.666818e+09       743.032159                 9            310.500000   \n",
       "1.666818e+09       743.032159                 9            310.500000   \n",
       "1.666818e+09       743.032159                 9            310.500000   \n",
       "\n",
       "              projected_y_position  \n",
       "time                                \n",
       "1.666816e+09            231.031756  \n",
       "1.666816e+09            231.031756  \n",
       "1.666816e+09            231.031756  \n",
       "1.666816e+09            231.031756  \n",
       "1.666816e+09            231.031756  \n",
       "...                            ...  \n",
       "1.666818e+09            110.750000  \n",
       "1.666818e+09            110.750000  \n",
       "1.666818e+09            110.750000  \n",
       "1.666818e+09            110.750000  \n",
       "1.666818e+09            110.750000  \n",
       "\n",
       "[850920 rows x 4 columns]"
      ]
     },
     "execution_count": 38,
     "metadata": {},
     "output_type": "execute_result"
    }
   ],
   "source": [
    "from spyglass.common.common_position import IntervalLinearizedPosition\n",
    "\n",
    "linear_position_df = (IntervalLinearizedPosition() &\n",
    " {'nwb_file_name': nwb_copy_file_name,\n",
    "  'interval_list_name': position_interval[e],\n",
    "  'position_info_param_name': 'default_decoding'}\n",
    ").fetch1_dataframe()\n",
    "\n",
    "linear_position_df"
   ]
  },
  {
   "cell_type": "markdown",
   "id": "b3e25786-4d35-49f8-9768-81dba7c7098b",
   "metadata": {},
   "source": [
    "We should also quickly visualize the linear position in order to sanity check the values. Here we plot the 2D position projected to its corresponding 1D segment."
   ]
  },
  {
   "cell_type": "code",
   "execution_count": 110,
   "id": "b4e47250-ff99-4e1e-bf3b-f8a6f3ea9862",
   "metadata": {},
   "outputs": [
    {
     "data": {
      "text/plain": [
       "<matplotlib.collections.PathCollection at 0x7f34e7d951f0>"
      ]
     },
     "execution_count": 110,
     "metadata": {},
     "output_type": "execute_result"
    },
    {
     "data": {
      "image/png": "[encoded data removed]",
      "text/plain": [
       "<Figure size 700x600 with 1 Axes>"
      ]
     },
     "metadata": {},
     "output_type": "display_data"
    }
   ],
   "source": [
    "plt.figure(figsize=(7, 6))\n",
    "plt.scatter(linear_position_df.projected_x_position, linear_position_df.projected_y_position,\n",
    "            c=linear_position_df.track_segment_id, cmap='tab20', s=1)"
   ]
  },
  {
   "cell_type": "markdown",
   "id": "b091236d-f46d-4e71-9ee8-1aa7ada1cd56",
   "metadata": {},
   "source": [
    "We should also plot the linearized position itself to make sure it is okay."
   ]
  },
  {
   "cell_type": "code",
   "execution_count": 111,
   "id": "4e25f9a7-b2c4-4a93-a548-67cf2d6b90a2",
   "metadata": {},
   "outputs": [
    {
     "data": {
      "text/plain": [
       "<matplotlib.collections.PathCollection at 0x7f34f1286250>"
      ]
     },
     "execution_count": 111,
     "metadata": {},
     "output_type": "execute_result"
    },
    {
     "data": {
      "image/png": "[encoded data removed]",
      "text/plain": [
       "<Figure size 2000x1000 with 1 Axes>"
      ]
     },
     "metadata": {},
     "output_type": "display_data"
    }
   ],
   "source": [
    "plt.figure(figsize=(20, 10))\n",
    "plt.scatter(linear_position_df.index, linear_position_df.linear_position, s=1,\n",
    "            c=linear_position_df.track_segment_id, cmap='tab20')"
   ]
  },
  {
   "cell_type": "markdown",
   "id": "a7542fc3-7b32-4bdc-bc5e-255fb89a0f50",
   "metadata": {},
   "source": [
    "Okay now that we've looked at the data, we should quickly verify that all our data is the same size."
   ]
  },
  {
   "cell_type": "markdown",
   "id": "36c55e7e-15fb-4c15-aa67-3ce61f7950f7",
   "metadata": {},
   "source": [
    "We also want to make sure we have valid ephys data and valid position data for decoding. Here we only have one valid time interval, but if we had more than one, we should decode on each interval separately."
   ]
  },
  {
   "cell_type": "code",
   "execution_count": 50,
   "id": "3a02f91d-fd36-407c-a87c-2cd209dd7183",
   "metadata": {},
   "outputs": [
    {
     "data": {
      "text/plain": [
       "((818187, 4, 15), (818187, 6), (818187, 4))"
      ]
     },
     "execution_count": 50,
     "metadata": {},
     "output_type": "execute_result"
    }
   ],
   "source": [
    "intersect_interval = intersectValidIntervals(nwb_copy_file_name,\n",
    "                                                session_interval[e],position_interval[e])\n",
    "marks_=[]\n",
    "linear_position_df_=[]\n",
    "position_df_ =[]\n",
    "for i in range(len(intersect_interval)):\n",
    "    valid_time_slice = slice(intersect_interval[i][0], intersect_interval[i][1])\n",
    "    \n",
    "    linear_position_df_.append(linear_position_df.loc[valid_time_slice])\n",
    "    position_df_.append(position_df.loc[valid_time_slice])\n",
    "    marks_.append(marks.sel(time=valid_time_slice))\n",
    "\n",
    "marks=xr.concat(marks_,dim='time')\n",
    "position_df = pd.concat(position_df_)\n",
    "linear_position_df=pd.concat(linear_position_df_)\n",
    "marks.shape, position_df.shape, linear_position_df.shape"
   ]
  },
  {
   "cell_type": "code",
   "execution_count": 52,
   "id": "58692822-2343-48f1-81ba-673230b9a8b1",
   "metadata": {},
   "outputs": [],
   "source": [
    "animal = nwb_copy_file_name[:5]\n",
    "marks_path=os.path.join(f'/cumulus/shijie/recording_pilot/{animal}/decoding',\n",
    "                             nwb_copy_file_name+'_'+session_interval[e]+'_marks.nc')\n",
    "marks.to_netcdf(marks_path)\n",
    "\n",
    "position1d_path=os.path.join(f'/cumulus/shijie/recording_pilot/{animal}/decoding',\n",
    "                             nwb_copy_file_name+'_'+session_interval[e]+'_1dposition.csv')\n",
    "linear_position_df.to_csv(position1d_path)\n",
    "\n",
    "position2d_path=os.path.join(f'/cumulus/shijie/recording_pilot/{animal}/decoding',\n",
    "                             nwb_copy_file_name+'_'+session_interval[e]+'_2dposition.csv')\n",
    "position_df.to_csv(position2d_path)"
   ]
  },
  {
   "cell_type": "code",
   "execution_count": 55,
   "id": "fc7939a0-1270-45c0-8aff-89603276b840",
   "metadata": {},
   "outputs": [],
   "source": [
    "from spyglass.shijiegu.Analysis_SGU import DecodeIngredients\n",
    "key={'nwb_file_name':nwb_copy_file_name,\n",
    "     'interval_list_name':session_interval[e],\n",
    "     'marks':marks_path,\n",
    "     'position_1d':position1d_path,\n",
    "     'position_2d':position2d_path}\n",
    "DecodeIngredients().insert1(key,replace=True)"
   ]
  },
  {
   "cell_type": "code",
   "execution_count": 93,
   "id": "1caf244a-7be5-47ce-aa63-960358291f71",
   "metadata": {},
   "outputs": [
    {
     "data": {
      "text/html": [
       "\n",
       "    \n",
       "    <style type=\"text/css\">\n",
       "        .Table{\n",
       "            border-collapse:collapse;\n",
       "        }\n",
       "        .Table th{\n",
       "            background: #A0A0A0; color: #ffffff; padding:4px; border:#f0e0e0 1px solid;\n",
       "            font-weight: normal; font-family: monospace; font-size: 100%;\n",
       "        }\n",
       "        .Table td{\n",
       "            padding:4px; border:#f0e0e0 1px solid; font-size:100%;\n",
       "        }\n",
       "        .Table tr:nth-child(odd){\n",
       "            background: #ffffff;\n",
       "            color: #000000;\n",
       "        }\n",
       "        .Table tr:nth-child(even){\n",
       "            background: #f3f1ff;\n",
       "            color: #000000;\n",
       "        }\n",
       "        /* Tooltip container */\n",
       "        .djtooltip {\n",
       "        }\n",
       "        /* Tooltip text */\n",
       "        .djtooltip .djtooltiptext {\n",
       "            visibility: hidden;\n",
       "            width: 120px;\n",
       "            background-color: black;\n",
       "            color: #fff;\n",
       "            text-align: center;\n",
       "            padding: 5px 0;\n",
       "            border-radius: 6px;\n",
       "            /* Position the tooltip text - see examples below! */\n",
       "            position: absolute;\n",
       "            z-index: 1;\n",
       "        }\n",
       "        #primary {\n",
       "            font-weight: bold;\n",
       "            color: black;\n",
       "        }\n",
       "        #nonprimary {\n",
       "            font-weight: normal;\n",
       "            color: white;\n",
       "        }\n",
       "\n",
       "        /* Show the tooltip text when you mouse over the tooltip container */\n",
       "        .djtooltip:hover .djtooltiptext {\n",
       "            visibility: visible;\n",
       "        }\n",
       "    </style>\n",
       "    \n",
       "    <b>decoded replay content</b>\n",
       "        <div style=\"max-height:1000px;max-width:1500px;overflow:auto;\">\n",
       "        <table border=\"1\" class=\"Table\">\n",
       "            <thead> <tr style=\"text-align: right;\"> <th> <div class=\"djtooltip\">\n",
       "                            <p id=\"primary\">nwb_file_name</p>\n",
       "                            <span class=\"djtooltiptext\">name of the NWB file</span>\n",
       "                        </div></th><th><div class=\"djtooltip\">\n",
       "                            <p id=\"primary\">interval_list_name</p>\n",
       "                            <span class=\"djtooltiptext\">descriptive name of this interval list</span>\n",
       "                        </div></th><th><div class=\"djtooltip\">\n",
       "                            <p id=\"nonprimary\">marks</p>\n",
       "                            <span class=\"djtooltiptext\">valid marks within that interval</span>\n",
       "                        </div></th><th><div class=\"djtooltip\">\n",
       "                            <p id=\"nonprimary\">position_1d</p>\n",
       "                            <span class=\"djtooltiptext\">valid position within that interval (1D), inluding all rat-on-track time</span>\n",
       "                        </div></th><th><div class=\"djtooltip\">\n",
       "                            <p id=\"nonprimary\">position_2d</p>\n",
       "                            <span class=\"djtooltiptext\">valid position within that interval (2D), inluding all rat-on-track time</span>\n",
       "                        </div> </th> </tr> </thead>\n",
       "            <tbody> <tr> <td>eliot20221016_.nwb</td>\n",
       "<td>02_Seq2Session1</td>\n",
       "<td>=BLOB=</td>\n",
       "<td>=BLOB=</td>\n",
       "<td>=BLOB=</td></tr><tr><td>eliot20221016_.nwb</td>\n",
       "<td>04_Seq2Session2</td>\n",
       "<td>=BLOB=</td>\n",
       "<td>=BLOB=</td>\n",
       "<td>=BLOB=</td></tr><tr><td>eliot20221016_.nwb</td>\n",
       "<td>06_Seq2Session3</td>\n",
       "<td>=BLOB=</td>\n",
       "<td>=BLOB=</td>\n",
       "<td>=BLOB=</td></tr><tr><td>eliot20221016_.nwb</td>\n",
       "<td>08_Seq2Session4</td>\n",
       "<td>=BLOB=</td>\n",
       "<td>=BLOB=</td>\n",
       "<td>=BLOB=</td> </tr> </tbody>\n",
       "        </table>\n",
       "        \n",
       "        <p>Total: 4</p></div>\n",
       "        "
      ],
      "text/plain": [
       "*nwb_file_name *interval_list marks      position_1 position_2\n",
       "+------------+ +------------+ +--------+ +--------+ +--------+\n",
       "eliot20221016_ 02_Seq2Session =BLOB=     =BLOB=     =BLOB=    \n",
       "eliot20221016_ 04_Seq2Session =BLOB=     =BLOB=     =BLOB=    \n",
       "eliot20221016_ 06_Seq2Session =BLOB=     =BLOB=     =BLOB=    \n",
       "eliot20221016_ 08_Seq2Session =BLOB=     =BLOB=     =BLOB=    \n",
       " (Total: 4)"
      ]
     },
     "execution_count": 93,
     "metadata": {},
     "output_type": "execute_result"
    }
   ],
   "source": [
    "from spyglass.shijiegu.Analysis_SGU import DecodeIngredients\n",
    "DecodeIngredients() & {'nwb_file_name':nwb_copy_file_name}"
   ]
  },
  {
   "cell_type": "markdown",
   "id": "b7971f39-91ca-4e42-a2b4-f4ec3012d4d7",
   "metadata": {},
   "source": [
    "# Run All sessions"
   ]
  },
  {
   "cell_type": "code",
   "execution_count": 97,
   "id": "538dc3a5-ba08-4182-89aa-72c3a0da7f7e",
   "metadata": {},
   "outputs": [
    {
     "name": "stdout",
     "output_type": "stream",
     "text": [
      "eliot20221017_.nwb\n"
     ]
    }
   ],
   "source": [
    "session_interval, position_interval = runSessionNames(nwb_copy_file_name)\n",
    "print(nwb_copy_file_name)"
   ]
  },
  {
   "cell_type": "code",
   "execution_count": 98,
   "id": "c5127ee4-95d6-48a5-a1d6-b56682b2a670",
   "metadata": {},
   "outputs": [
    {
     "data": {
      "text/plain": [
       "array([0, 1, 2, 3])"
      ]
     },
     "execution_count": 98,
     "metadata": {},
     "output_type": "execute_result"
    }
   ],
   "source": [
    "np.arange(len(session_interval))"
   ]
  },
  {
   "cell_type": "code",
   "execution_count": 99,
   "id": "c670534d-c7ca-497d-880b-ca50f552a3a0",
   "metadata": {
    "scrolled": true
   },
   "outputs": [
    {
     "name": "stdout",
     "output_type": "stream",
     "text": [
      "0\n",
      "inserting into IntervalList\n",
      "done inserting into IntervalList\n",
      "2\n",
      "inserting into IntervalList\n",
      "done inserting into IntervalList\n",
      "4\n",
      "inserting into IntervalList\n",
      "done inserting into IntervalList\n",
      "5\n",
      "inserting into IntervalList\n",
      "done inserting into IntervalList\n",
      "13\n",
      "inserting into IntervalList\n",
      "done inserting into IntervalList\n",
      "14\n",
      "inserting into IntervalList\n",
      "done inserting into IntervalList\n",
      "16\n",
      "inserting into IntervalList\n",
      "done inserting into IntervalList\n",
      "17\n",
      "inserting into IntervalList\n",
      "done inserting into IntervalList\n",
      "20\n",
      "inserting into IntervalList\n",
      "done inserting into IntervalList\n",
      "23\n",
      "inserting into IntervalList\n",
      "done inserting into IntervalList\n",
      "26\n",
      "inserting into IntervalList\n",
      "done inserting into IntervalList\n",
      "27\n",
      "inserting into IntervalList\n",
      "done inserting into IntervalList\n",
      "28\n",
      "inserting into IntervalList\n",
      "done inserting into IntervalList\n",
      "29\n",
      "inserting into IntervalList\n",
      "done inserting into IntervalList\n",
      "30\n",
      "inserting into IntervalList\n",
      "done inserting into IntervalList\n",
      "31\n",
      "inserting into IntervalList\n",
      "done inserting into IntervalList\n"
     ]
    },
    {
     "name": "stderr",
     "output_type": "stream",
     "text": [
      "[18:39:28][INFO] Spyglass: Running spike sorting on {'nwb_file_name': 'eliot20221017_.nwb', 'sort_group_id': 0, 'sort_interval_name': '02_Seq2Session1', 'preproc_params_name': 'franklab_tetrode_hippocampus', 'team_name': 'Shijie Gu', 'sorter': 'clusterless_thresholder', 'sorter_params_name': 'default', 'artifact_removed_interval_list_name': 'eliot20221017_.nwb_02_Seq2Session1_0_franklab_tetrode_hippocampus_ampl_1500_prop_075_1ms_artifact_removed_valid_times_track_time_only'}...\n",
      "03-Jul-24 18:39:28 Running spike sorting on {'nwb_file_name': 'eliot20221017_.nwb', 'sort_group_id': 0, 'sort_interval_name': '02_Seq2Session1', 'preproc_params_name': 'franklab_tetrode_hippocampus', 'team_name': 'Shijie Gu', 'sorter': 'clusterless_thresholder', 'sorter_params_name': 'default', 'artifact_removed_interval_list_name': 'eliot20221017_.nwb_02_Seq2Session1_0_franklab_tetrode_hippocampus_ampl_1500_prop_075_1ms_artifact_removed_valid_times_track_time_only'}...\n"
     ]
    },
    {
     "data": {
      "application/vnd.jupyter.widget-view+json": {
       "model_id": "6857dc1a4c3142df886c4737d91baedd",
       "version_major": 2,
       "version_minor": 0
      },
      "text/plain": [
       "detect peaks using locally_exclusive:   0%|          | 0/1904 [00:00<?, ?it/s]"
      ]
     },
     "metadata": {},
     "output_type": "display_data"
    },
    {
     "name": "stderr",
     "output_type": "stream",
     "text": [
      "[18:39:36][INFO] Spyglass: Saving sorting results...\n",
      "03-Jul-24 18:39:36 Saving sorting results...\n",
      "[18:39:42][INFO] Spyglass: Running spike sorting on {'nwb_file_name': 'eliot20221017_.nwb', 'sort_group_id': 13, 'sort_interval_name': '02_Seq2Session1', 'preproc_params_name': 'franklab_tetrode_hippocampus', 'team_name': 'Shijie Gu', 'sorter': 'clusterless_thresholder', 'sorter_params_name': 'default', 'artifact_removed_interval_list_name': 'eliot20221017_.nwb_02_Seq2Session1_13_franklab_tetrode_hippocampus_ampl_1500_prop_075_1ms_artifact_removed_valid_times_track_time_only'}...\n",
      "03-Jul-24 18:39:42 Running spike sorting on {'nwb_file_name': 'eliot20221017_.nwb', 'sort_group_id': 13, 'sort_interval_name': '02_Seq2Session1', 'preproc_params_name': 'franklab_tetrode_hippocampus', 'team_name': 'Shijie Gu', 'sorter': 'clusterless_thresholder', 'sorter_params_name': 'default', 'artifact_removed_interval_list_name': 'eliot20221017_.nwb_02_Seq2Session1_13_franklab_tetrode_hippocampus_ampl_1500_prop_075_1ms_artifact_removed_valid_times_track_time_only'}...\n"
     ]
    },
    {
     "data": {
      "application/vnd.jupyter.widget-view+json": {
       "model_id": "eceb4ed0fa2142848c65050c386ffa51",
       "version_major": 2,
       "version_minor": 0
      },
      "text/plain": [
       "detect peaks using locally_exclusive:   0%|          | 0/1904 [00:00<?, ?it/s]"
      ]
     },
     "metadata": {},
     "output_type": "display_data"
    },
    {
     "name": "stderr",
     "output_type": "stream",
     "text": [
      "[18:39:47][INFO] Spyglass: Saving sorting results...\n",
      "03-Jul-24 18:39:47 Saving sorting results...\n",
      "[18:39:51][INFO] Spyglass: Running spike sorting on {'nwb_file_name': 'eliot20221017_.nwb', 'sort_group_id': 14, 'sort_interval_name': '02_Seq2Session1', 'preproc_params_name': 'franklab_tetrode_hippocampus', 'team_name': 'Shijie Gu', 'sorter': 'clusterless_thresholder', 'sorter_params_name': 'default', 'artifact_removed_interval_list_name': 'eliot20221017_.nwb_02_Seq2Session1_14_franklab_tetrode_hippocampus_ampl_1500_prop_075_1ms_artifact_removed_valid_times_track_time_only'}...\n",
      "03-Jul-24 18:39:51 Running spike sorting on {'nwb_file_name': 'eliot20221017_.nwb', 'sort_group_id': 14, 'sort_interval_name': '02_Seq2Session1', 'preproc_params_name': 'franklab_tetrode_hippocampus', 'team_name': 'Shijie Gu', 'sorter': 'clusterless_thresholder', 'sorter_params_name': 'default', 'artifact_removed_interval_list_name': 'eliot20221017_.nwb_02_Seq2Session1_14_franklab_tetrode_hippocampus_ampl_1500_prop_075_1ms_artifact_removed_valid_times_track_time_only'}...\n"
     ]
    },
    {
     "data": {
      "application/vnd.jupyter.widget-view+json": {
       "model_id": "29aac733be54443a83abfc35891aaae0",
       "version_major": 2,
       "version_minor": 0
      },
      "text/plain": [
       "detect peaks using locally_exclusive:   0%|          | 0/1904 [00:00<?, ?it/s]"
      ]
     },
     "metadata": {},
     "output_type": "display_data"
    },
    {
     "name": "stderr",
     "output_type": "stream",
     "text": [
      "[18:39:57][INFO] Spyglass: Saving sorting results...\n",
      "03-Jul-24 18:39:57 Saving sorting results...\n",
      "[18:40:00][INFO] Spyglass: Running spike sorting on {'nwb_file_name': 'eliot20221017_.nwb', 'sort_group_id': 16, 'sort_interval_name': '02_Seq2Session1', 'preproc_params_name': 'franklab_tetrode_hippocampus', 'team_name': 'Shijie Gu', 'sorter': 'clusterless_thresholder', 'sorter_params_name': 'default', 'artifact_removed_interval_list_name': 'eliot20221017_.nwb_02_Seq2Session1_16_franklab_tetrode_hippocampus_ampl_1500_prop_075_1ms_artifact_removed_valid_times_track_time_only'}...\n",
      "03-Jul-24 18:40:00 Running spike sorting on {'nwb_file_name': 'eliot20221017_.nwb', 'sort_group_id': 16, 'sort_interval_name': '02_Seq2Session1', 'preproc_params_name': 'franklab_tetrode_hippocampus', 'team_name': 'Shijie Gu', 'sorter': 'clusterless_thresholder', 'sorter_params_name': 'default', 'artifact_removed_interval_list_name': 'eliot20221017_.nwb_02_Seq2Session1_16_franklab_tetrode_hippocampus_ampl_1500_prop_075_1ms_artifact_removed_valid_times_track_time_only'}...\n"
     ]
    },
    {
     "data": {
      "application/vnd.jupyter.widget-view+json": {
       "model_id": "da778e20e5a24aed984a2d8c7558265f",
       "version_major": 2,
       "version_minor": 0
      },
      "text/plain": [
       "detect peaks using locally_exclusive:   0%|          | 0/1904 [00:00<?, ?it/s]"
      ]
     },
     "metadata": {},
     "output_type": "display_data"
    },
    {
     "name": "stderr",
     "output_type": "stream",
     "text": [
      "[18:40:05][INFO] Spyglass: Saving sorting results...\n",
      "03-Jul-24 18:40:05 Saving sorting results...\n",
      "[18:40:10][INFO] Spyglass: Running spike sorting on {'nwb_file_name': 'eliot20221017_.nwb', 'sort_group_id': 17, 'sort_interval_name': '02_Seq2Session1', 'preproc_params_name': 'franklab_tetrode_hippocampus', 'team_name': 'Shijie Gu', 'sorter': 'clusterless_thresholder', 'sorter_params_name': 'default', 'artifact_removed_interval_list_name': 'eliot20221017_.nwb_02_Seq2Session1_17_franklab_tetrode_hippocampus_ampl_1500_prop_075_1ms_artifact_removed_valid_times_track_time_only'}...\n",
      "03-Jul-24 18:40:10 Running spike sorting on {'nwb_file_name': 'eliot20221017_.nwb', 'sort_group_id': 17, 'sort_interval_name': '02_Seq2Session1', 'preproc_params_name': 'franklab_tetrode_hippocampus', 'team_name': 'Shijie Gu', 'sorter': 'clusterless_thresholder', 'sorter_params_name': 'default', 'artifact_removed_interval_list_name': 'eliot20221017_.nwb_02_Seq2Session1_17_franklab_tetrode_hippocampus_ampl_1500_prop_075_1ms_artifact_removed_valid_times_track_time_only'}...\n"
     ]
    },
    {
     "data": {
      "application/vnd.jupyter.widget-view+json": {
       "model_id": "1bc5d8af995649d38cecad9faef27435",
       "version_major": 2,
       "version_minor": 0
      },
      "text/plain": [
       "detect peaks using locally_exclusive:   0%|          | 0/1904 [00:00<?, ?it/s]"
      ]
     },
     "metadata": {},
     "output_type": "display_data"
    },
    {
     "name": "stderr",
     "output_type": "stream",
     "text": [
      "[18:40:15][INFO] Spyglass: Saving sorting results...\n",
      "03-Jul-24 18:40:15 Saving sorting results...\n",
      "[18:40:22][INFO] Spyglass: Running spike sorting on {'nwb_file_name': 'eliot20221017_.nwb', 'sort_group_id': 20, 'sort_interval_name': '02_Seq2Session1', 'preproc_params_name': 'franklab_tetrode_hippocampus', 'team_name': 'Shijie Gu', 'sorter': 'clusterless_thresholder', 'sorter_params_name': 'default', 'artifact_removed_interval_list_name': 'eliot20221017_.nwb_02_Seq2Session1_20_franklab_tetrode_hippocampus_ampl_1500_prop_075_1ms_artifact_removed_valid_times_track_time_only'}...\n",
      "03-Jul-24 18:40:22 Running spike sorting on {'nwb_file_name': 'eliot20221017_.nwb', 'sort_group_id': 20, 'sort_interval_name': '02_Seq2Session1', 'preproc_params_name': 'franklab_tetrode_hippocampus', 'team_name': 'Shijie Gu', 'sorter': 'clusterless_thresholder', 'sorter_params_name': 'default', 'artifact_removed_interval_list_name': 'eliot20221017_.nwb_02_Seq2Session1_20_franklab_tetrode_hippocampus_ampl_1500_prop_075_1ms_artifact_removed_valid_times_track_time_only'}...\n"
     ]
    },
    {
     "data": {
      "application/vnd.jupyter.widget-view+json": {
       "model_id": "565651d16ce8449f866112e1aeb8e379",
       "version_major": 2,
       "version_minor": 0
      },
      "text/plain": [
       "detect peaks using locally_exclusive:   0%|          | 0/1904 [00:00<?, ?it/s]"
      ]
     },
     "metadata": {},
     "output_type": "display_data"
    },
    {
     "name": "stderr",
     "output_type": "stream",
     "text": [
      "[18:40:27][INFO] Spyglass: Saving sorting results...\n",
      "03-Jul-24 18:40:27 Saving sorting results...\n",
      "[18:40:32][INFO] Spyglass: Running spike sorting on {'nwb_file_name': 'eliot20221017_.nwb', 'sort_group_id': 23, 'sort_interval_name': '02_Seq2Session1', 'preproc_params_name': 'franklab_tetrode_hippocampus', 'team_name': 'Shijie Gu', 'sorter': 'clusterless_thresholder', 'sorter_params_name': 'default', 'artifact_removed_interval_list_name': 'eliot20221017_.nwb_02_Seq2Session1_23_franklab_tetrode_hippocampus_ampl_1500_prop_075_1ms_artifact_removed_valid_times_track_time_only'}...\n",
      "03-Jul-24 18:40:32 Running spike sorting on {'nwb_file_name': 'eliot20221017_.nwb', 'sort_group_id': 23, 'sort_interval_name': '02_Seq2Session1', 'preproc_params_name': 'franklab_tetrode_hippocampus', 'team_name': 'Shijie Gu', 'sorter': 'clusterless_thresholder', 'sorter_params_name': 'default', 'artifact_removed_interval_list_name': 'eliot20221017_.nwb_02_Seq2Session1_23_franklab_tetrode_hippocampus_ampl_1500_prop_075_1ms_artifact_removed_valid_times_track_time_only'}...\n"
     ]
    },
    {
     "data": {
      "application/vnd.jupyter.widget-view+json": {
       "model_id": "6ad9db69b8bc492b80996510def3c6b7",
       "version_major": 2,
       "version_minor": 0
      },
      "text/plain": [
       "detect peaks using locally_exclusive:   0%|          | 0/1904 [00:00<?, ?it/s]"
      ]
     },
     "metadata": {},
     "output_type": "display_data"
    },
    {
     "name": "stderr",
     "output_type": "stream",
     "text": [
      "[18:40:38][INFO] Spyglass: Saving sorting results...\n",
      "03-Jul-24 18:40:38 Saving sorting results...\n",
      "[18:40:44][INFO] Spyglass: Running spike sorting on {'nwb_file_name': 'eliot20221017_.nwb', 'sort_group_id': 26, 'sort_interval_name': '02_Seq2Session1', 'preproc_params_name': 'franklab_tetrode_hippocampus', 'team_name': 'Shijie Gu', 'sorter': 'clusterless_thresholder', 'sorter_params_name': 'default', 'artifact_removed_interval_list_name': 'eliot20221017_.nwb_02_Seq2Session1_26_franklab_tetrode_hippocampus_ampl_1500_prop_075_1ms_artifact_removed_valid_times_track_time_only'}...\n",
      "03-Jul-24 18:40:44 Running spike sorting on {'nwb_file_name': 'eliot20221017_.nwb', 'sort_group_id': 26, 'sort_interval_name': '02_Seq2Session1', 'preproc_params_name': 'franklab_tetrode_hippocampus', 'team_name': 'Shijie Gu', 'sorter': 'clusterless_thresholder', 'sorter_params_name': 'default', 'artifact_removed_interval_list_name': 'eliot20221017_.nwb_02_Seq2Session1_26_franklab_tetrode_hippocampus_ampl_1500_prop_075_1ms_artifact_removed_valid_times_track_time_only'}...\n"
     ]
    },
    {
     "data": {
      "application/vnd.jupyter.widget-view+json": {
       "model_id": "a447c4e9475547cdbcdd695a777b82a7",
       "version_major": 2,
       "version_minor": 0
      },
      "text/plain": [
       "detect peaks using locally_exclusive:   0%|          | 0/1904 [00:00<?, ?it/s]"
      ]
     },
     "metadata": {},
     "output_type": "display_data"
    },
    {
     "name": "stderr",
     "output_type": "stream",
     "text": [
      "[18:40:51][INFO] Spyglass: Saving sorting results...\n",
      "03-Jul-24 18:40:51 Saving sorting results...\n",
      "[18:40:56][INFO] Spyglass: Running spike sorting on {'nwb_file_name': 'eliot20221017_.nwb', 'sort_group_id': 27, 'sort_interval_name': '02_Seq2Session1', 'preproc_params_name': 'franklab_tetrode_hippocampus', 'team_name': 'Shijie Gu', 'sorter': 'clusterless_thresholder', 'sorter_params_name': 'default', 'artifact_removed_interval_list_name': 'eliot20221017_.nwb_02_Seq2Session1_27_franklab_tetrode_hippocampus_ampl_1500_prop_075_1ms_artifact_removed_valid_times_track_time_only'}...\n",
      "03-Jul-24 18:40:56 Running spike sorting on {'nwb_file_name': 'eliot20221017_.nwb', 'sort_group_id': 27, 'sort_interval_name': '02_Seq2Session1', 'preproc_params_name': 'franklab_tetrode_hippocampus', 'team_name': 'Shijie Gu', 'sorter': 'clusterless_thresholder', 'sorter_params_name': 'default', 'artifact_removed_interval_list_name': 'eliot20221017_.nwb_02_Seq2Session1_27_franklab_tetrode_hippocampus_ampl_1500_prop_075_1ms_artifact_removed_valid_times_track_time_only'}...\n"
     ]
    },
    {
     "data": {
      "application/vnd.jupyter.widget-view+json": {
       "model_id": "92a4ed54669d48ceb45f817ea8cbb0e4",
       "version_major": 2,
       "version_minor": 0
      },
      "text/plain": [
       "detect peaks using locally_exclusive:   0%|          | 0/1904 [00:00<?, ?it/s]"
      ]
     },
     "metadata": {},
     "output_type": "display_data"
    },
    {
     "name": "stderr",
     "output_type": "stream",
     "text": [
      "[18:41:02][INFO] Spyglass: Saving sorting results...\n",
      "03-Jul-24 18:41:02 Saving sorting results...\n",
      "[18:41:06][INFO] Spyglass: Running spike sorting on {'nwb_file_name': 'eliot20221017_.nwb', 'sort_group_id': 28, 'sort_interval_name': '02_Seq2Session1', 'preproc_params_name': 'franklab_tetrode_hippocampus', 'team_name': 'Shijie Gu', 'sorter': 'clusterless_thresholder', 'sorter_params_name': 'default', 'artifact_removed_interval_list_name': 'eliot20221017_.nwb_02_Seq2Session1_28_franklab_tetrode_hippocampus_ampl_1500_prop_075_1ms_artifact_removed_valid_times_track_time_only'}...\n",
      "03-Jul-24 18:41:06 Running spike sorting on {'nwb_file_name': 'eliot20221017_.nwb', 'sort_group_id': 28, 'sort_interval_name': '02_Seq2Session1', 'preproc_params_name': 'franklab_tetrode_hippocampus', 'team_name': 'Shijie Gu', 'sorter': 'clusterless_thresholder', 'sorter_params_name': 'default', 'artifact_removed_interval_list_name': 'eliot20221017_.nwb_02_Seq2Session1_28_franklab_tetrode_hippocampus_ampl_1500_prop_075_1ms_artifact_removed_valid_times_track_time_only'}...\n"
     ]
    },
    {
     "data": {
      "application/vnd.jupyter.widget-view+json": {
       "model_id": "2e82792661764417a51d557d2f7d59c3",
       "version_major": 2,
       "version_minor": 0
      },
      "text/plain": [
       "detect peaks using locally_exclusive:   0%|          | 0/1904 [00:00<?, ?it/s]"
      ]
     },
     "metadata": {},
     "output_type": "display_data"
    },
    {
     "name": "stderr",
     "output_type": "stream",
     "text": [
      "[18:41:09][INFO] Spyglass: Saving sorting results...\n",
      "03-Jul-24 18:41:09 Saving sorting results...\n",
      "[18:41:14][INFO] Spyglass: Running spike sorting on {'nwb_file_name': 'eliot20221017_.nwb', 'sort_group_id': 29, 'sort_interval_name': '02_Seq2Session1', 'preproc_params_name': 'franklab_tetrode_hippocampus', 'team_name': 'Shijie Gu', 'sorter': 'clusterless_thresholder', 'sorter_params_name': 'default', 'artifact_removed_interval_list_name': 'eliot20221017_.nwb_02_Seq2Session1_29_franklab_tetrode_hippocampus_ampl_1500_prop_075_1ms_artifact_removed_valid_times_track_time_only'}...\n",
      "03-Jul-24 18:41:14 Running spike sorting on {'nwb_file_name': 'eliot20221017_.nwb', 'sort_group_id': 29, 'sort_interval_name': '02_Seq2Session1', 'preproc_params_name': 'franklab_tetrode_hippocampus', 'team_name': 'Shijie Gu', 'sorter': 'clusterless_thresholder', 'sorter_params_name': 'default', 'artifact_removed_interval_list_name': 'eliot20221017_.nwb_02_Seq2Session1_29_franklab_tetrode_hippocampus_ampl_1500_prop_075_1ms_artifact_removed_valid_times_track_time_only'}...\n"
     ]
    },
    {
     "data": {
      "application/vnd.jupyter.widget-view+json": {
       "model_id": "4441829b942748cd8a0431f36d0fd940",
       "version_major": 2,
       "version_minor": 0
      },
      "text/plain": [
       "detect peaks using locally_exclusive:   0%|          | 0/1904 [00:00<?, ?it/s]"
      ]
     },
     "metadata": {},
     "output_type": "display_data"
    },
    {
     "name": "stderr",
     "output_type": "stream",
     "text": [
      "[18:41:21][INFO] Spyglass: Saving sorting results...\n",
      "03-Jul-24 18:41:21 Saving sorting results...\n",
      "[18:41:27][INFO] Spyglass: Running spike sorting on {'nwb_file_name': 'eliot20221017_.nwb', 'sort_group_id': 2, 'sort_interval_name': '02_Seq2Session1', 'preproc_params_name': 'franklab_tetrode_hippocampus', 'team_name': 'Shijie Gu', 'sorter': 'clusterless_thresholder', 'sorter_params_name': 'default', 'artifact_removed_interval_list_name': 'eliot20221017_.nwb_02_Seq2Session1_2_franklab_tetrode_hippocampus_ampl_1500_prop_075_1ms_artifact_removed_valid_times_track_time_only'}...\n",
      "03-Jul-24 18:41:27 Running spike sorting on {'nwb_file_name': 'eliot20221017_.nwb', 'sort_group_id': 2, 'sort_interval_name': '02_Seq2Session1', 'preproc_params_name': 'franklab_tetrode_hippocampus', 'team_name': 'Shijie Gu', 'sorter': 'clusterless_thresholder', 'sorter_params_name': 'default', 'artifact_removed_interval_list_name': 'eliot20221017_.nwb_02_Seq2Session1_2_franklab_tetrode_hippocampus_ampl_1500_prop_075_1ms_artifact_removed_valid_times_track_time_only'}...\n"
     ]
    },
    {
     "data": {
      "application/vnd.jupyter.widget-view+json": {
       "model_id": "007d99aacf8e414887a09cbca3fcf194",
       "version_major": 2,
       "version_minor": 0
      },
      "text/plain": [
       "detect peaks using locally_exclusive:   0%|          | 0/1904 [00:00<?, ?it/s]"
      ]
     },
     "metadata": {},
     "output_type": "display_data"
    },
    {
     "name": "stderr",
     "output_type": "stream",
     "text": [
      "[18:41:33][INFO] Spyglass: Saving sorting results...\n",
      "03-Jul-24 18:41:33 Saving sorting results...\n",
      "[18:41:37][INFO] Spyglass: Running spike sorting on {'nwb_file_name': 'eliot20221017_.nwb', 'sort_group_id': 30, 'sort_interval_name': '02_Seq2Session1', 'preproc_params_name': 'franklab_tetrode_hippocampus', 'team_name': 'Shijie Gu', 'sorter': 'clusterless_thresholder', 'sorter_params_name': 'default', 'artifact_removed_interval_list_name': 'eliot20221017_.nwb_02_Seq2Session1_30_franklab_tetrode_hippocampus_ampl_1500_prop_075_1ms_artifact_removed_valid_times_track_time_only'}...\n",
      "03-Jul-24 18:41:37 Running spike sorting on {'nwb_file_name': 'eliot20221017_.nwb', 'sort_group_id': 30, 'sort_interval_name': '02_Seq2Session1', 'preproc_params_name': 'franklab_tetrode_hippocampus', 'team_name': 'Shijie Gu', 'sorter': 'clusterless_thresholder', 'sorter_params_name': 'default', 'artifact_removed_interval_list_name': 'eliot20221017_.nwb_02_Seq2Session1_30_franklab_tetrode_hippocampus_ampl_1500_prop_075_1ms_artifact_removed_valid_times_track_time_only'}...\n"
     ]
    },
    {
     "data": {
      "application/vnd.jupyter.widget-view+json": {
       "model_id": "36c8efafafa1417885161220a3d41125",
       "version_major": 2,
       "version_minor": 0
      },
      "text/plain": [
       "detect peaks using locally_exclusive:   0%|          | 0/1904 [00:00<?, ?it/s]"
      ]
     },
     "metadata": {},
     "output_type": "display_data"
    },
    {
     "name": "stderr",
     "output_type": "stream",
     "text": [
      "[18:41:46][INFO] Spyglass: Saving sorting results...\n",
      "03-Jul-24 18:41:46 Saving sorting results...\n",
      "[18:41:51][INFO] Spyglass: Running spike sorting on {'nwb_file_name': 'eliot20221017_.nwb', 'sort_group_id': 31, 'sort_interval_name': '02_Seq2Session1', 'preproc_params_name': 'franklab_tetrode_hippocampus', 'team_name': 'Shijie Gu', 'sorter': 'clusterless_thresholder', 'sorter_params_name': 'default', 'artifact_removed_interval_list_name': 'eliot20221017_.nwb_02_Seq2Session1_31_franklab_tetrode_hippocampus_ampl_1500_prop_075_1ms_artifact_removed_valid_times_track_time_only'}...\n",
      "03-Jul-24 18:41:51 Running spike sorting on {'nwb_file_name': 'eliot20221017_.nwb', 'sort_group_id': 31, 'sort_interval_name': '02_Seq2Session1', 'preproc_params_name': 'franklab_tetrode_hippocampus', 'team_name': 'Shijie Gu', 'sorter': 'clusterless_thresholder', 'sorter_params_name': 'default', 'artifact_removed_interval_list_name': 'eliot20221017_.nwb_02_Seq2Session1_31_franklab_tetrode_hippocampus_ampl_1500_prop_075_1ms_artifact_removed_valid_times_track_time_only'}...\n"
     ]
    },
    {
     "data": {
      "application/vnd.jupyter.widget-view+json": {
       "model_id": "7dcbe0d020ca43d5b81282ceb7d62da6",
       "version_major": 2,
       "version_minor": 0
      },
      "text/plain": [
       "detect peaks using locally_exclusive:   0%|          | 0/1904 [00:00<?, ?it/s]"
      ]
     },
     "metadata": {},
     "output_type": "display_data"
    },
    {
     "name": "stderr",
     "output_type": "stream",
     "text": [
      "[18:41:57][INFO] Spyglass: Saving sorting results...\n",
      "03-Jul-24 18:41:57 Saving sorting results...\n",
      "[18:42:00][INFO] Spyglass: Running spike sorting on {'nwb_file_name': 'eliot20221017_.nwb', 'sort_group_id': 4, 'sort_interval_name': '02_Seq2Session1', 'preproc_params_name': 'franklab_tetrode_hippocampus', 'team_name': 'Shijie Gu', 'sorter': 'clusterless_thresholder', 'sorter_params_name': 'default', 'artifact_removed_interval_list_name': 'eliot20221017_.nwb_02_Seq2Session1_4_franklab_tetrode_hippocampus_ampl_1500_prop_075_1ms_artifact_removed_valid_times_track_time_only'}...\n",
      "03-Jul-24 18:42:00 Running spike sorting on {'nwb_file_name': 'eliot20221017_.nwb', 'sort_group_id': 4, 'sort_interval_name': '02_Seq2Session1', 'preproc_params_name': 'franklab_tetrode_hippocampus', 'team_name': 'Shijie Gu', 'sorter': 'clusterless_thresholder', 'sorter_params_name': 'default', 'artifact_removed_interval_list_name': 'eliot20221017_.nwb_02_Seq2Session1_4_franklab_tetrode_hippocampus_ampl_1500_prop_075_1ms_artifact_removed_valid_times_track_time_only'}...\n"
     ]
    },
    {
     "data": {
      "application/vnd.jupyter.widget-view+json": {
       "model_id": "889279ae2420423f82031751828ec87e",
       "version_major": 2,
       "version_minor": 0
      },
      "text/plain": [
       "detect peaks using locally_exclusive:   0%|          | 0/1904 [00:00<?, ?it/s]"
      ]
     },
     "metadata": {},
     "output_type": "display_data"
    },
    {
     "name": "stderr",
     "output_type": "stream",
     "text": [
      "[18:42:05][INFO] Spyglass: Saving sorting results...\n",
      "03-Jul-24 18:42:05 Saving sorting results...\n",
      "[18:42:10][INFO] Spyglass: Running spike sorting on {'nwb_file_name': 'eliot20221017_.nwb', 'sort_group_id': 5, 'sort_interval_name': '02_Seq2Session1', 'preproc_params_name': 'franklab_tetrode_hippocampus', 'team_name': 'Shijie Gu', 'sorter': 'clusterless_thresholder', 'sorter_params_name': 'default', 'artifact_removed_interval_list_name': 'eliot20221017_.nwb_02_Seq2Session1_5_franklab_tetrode_hippocampus_ampl_1500_prop_075_1ms_artifact_removed_valid_times_track_time_only'}...\n",
      "03-Jul-24 18:42:10 Running spike sorting on {'nwb_file_name': 'eliot20221017_.nwb', 'sort_group_id': 5, 'sort_interval_name': '02_Seq2Session1', 'preproc_params_name': 'franklab_tetrode_hippocampus', 'team_name': 'Shijie Gu', 'sorter': 'clusterless_thresholder', 'sorter_params_name': 'default', 'artifact_removed_interval_list_name': 'eliot20221017_.nwb_02_Seq2Session1_5_franklab_tetrode_hippocampus_ampl_1500_prop_075_1ms_artifact_removed_valid_times_track_time_only'}...\n"
     ]
    },
    {
     "data": {
      "application/vnd.jupyter.widget-view+json": {
       "model_id": "da3be0b78fdc4b10b0469e104d4a533b",
       "version_major": 2,
       "version_minor": 0
      },
      "text/plain": [
       "detect peaks using locally_exclusive:   0%|          | 0/1904 [00:00<?, ?it/s]"
      ]
     },
     "metadata": {},
     "output_type": "display_data"
    },
    {
     "name": "stderr",
     "output_type": "stream",
     "text": [
      "[18:42:16][INFO] Spyglass: Saving sorting results...\n",
      "03-Jul-24 18:42:16 Saving sorting results...\n",
      "[18:43:33][INFO] Spyglass: Found 1 accepted units\n",
      "03-Jul-24 18:43:33 Found 1 accepted units\n",
      "[18:43:36][INFO] Spyglass: Writing new NWB file eliot20221017_LAAQHOB7S9.nwb\n",
      "03-Jul-24 18:43:36 Writing new NWB file eliot20221017_LAAQHOB7S9.nwb\n",
      "[18:43:40][INFO] Spyglass: Found 1 accepted units\n",
      "03-Jul-24 18:43:40 Found 1 accepted units\n",
      "[18:43:42][INFO] Spyglass: Writing new NWB file eliot20221017_M6XKBHIO7J.nwb\n",
      "03-Jul-24 18:43:42 Writing new NWB file eliot20221017_M6XKBHIO7J.nwb\n",
      "[18:43:49][INFO] Spyglass: Found 1 accepted units\n",
      "03-Jul-24 18:43:49 Found 1 accepted units\n",
      "[18:43:50][INFO] Spyglass: Writing new NWB file eliot20221017_1CBHGU5MNB.nwb\n",
      "03-Jul-24 18:43:50 Writing new NWB file eliot20221017_1CBHGU5MNB.nwb\n",
      "[18:43:54][INFO] Spyglass: Found 1 accepted units\n",
      "03-Jul-24 18:43:54 Found 1 accepted units\n",
      "[18:43:55][INFO] Spyglass: Writing new NWB file eliot20221017_SEAO716XB4.nwb\n",
      "03-Jul-24 18:43:55 Writing new NWB file eliot20221017_SEAO716XB4.nwb\n",
      "[18:43:59][INFO] Spyglass: Found 1 accepted units\n",
      "03-Jul-24 18:43:59 Found 1 accepted units\n",
      "[18:44:00][INFO] Spyglass: Writing new NWB file eliot20221017_ERICXOYVZE.nwb\n",
      "03-Jul-24 18:44:00 Writing new NWB file eliot20221017_ERICXOYVZE.nwb\n",
      "[18:44:04][INFO] Spyglass: Found 1 accepted units\n",
      "03-Jul-24 18:44:04 Found 1 accepted units\n",
      "[18:44:05][INFO] Spyglass: Writing new NWB file eliot20221017_1KHI0G0P0Z.nwb\n",
      "03-Jul-24 18:44:05 Writing new NWB file eliot20221017_1KHI0G0P0Z.nwb\n",
      "[18:44:09][INFO] Spyglass: Found 1 accepted units\n",
      "03-Jul-24 18:44:09 Found 1 accepted units\n",
      "[18:44:10][INFO] Spyglass: Writing new NWB file eliot20221017_GRTCPQBVFX.nwb\n",
      "03-Jul-24 18:44:10 Writing new NWB file eliot20221017_GRTCPQBVFX.nwb\n",
      "[18:44:14][INFO] Spyglass: Found 1 accepted units\n",
      "03-Jul-24 18:44:14 Found 1 accepted units\n",
      "[18:44:15][INFO] Spyglass: Writing new NWB file eliot20221017_0OOPCQEDVD.nwb\n",
      "03-Jul-24 18:44:15 Writing new NWB file eliot20221017_0OOPCQEDVD.nwb\n",
      "[18:44:19][INFO] Spyglass: Found 1 accepted units\n",
      "03-Jul-24 18:44:19 Found 1 accepted units\n",
      "[18:44:21][INFO] Spyglass: Writing new NWB file eliot20221017_TTZURMKG7T.nwb\n",
      "03-Jul-24 18:44:21 Writing new NWB file eliot20221017_TTZURMKG7T.nwb\n",
      "[18:44:25][INFO] Spyglass: Found 1 accepted units\n",
      "03-Jul-24 18:44:25 Found 1 accepted units\n",
      "[18:44:26][INFO] Spyglass: Writing new NWB file eliot20221017_5SBLOB4CBY.nwb\n",
      "03-Jul-24 18:44:26 Writing new NWB file eliot20221017_5SBLOB4CBY.nwb\n",
      "[18:44:30][INFO] Spyglass: Found 1 accepted units\n",
      "03-Jul-24 18:44:30 Found 1 accepted units\n",
      "[18:44:33][INFO] Spyglass: Writing new NWB file eliot20221017_MKXMGCSJXU.nwb\n",
      "03-Jul-24 18:44:33 Writing new NWB file eliot20221017_MKXMGCSJXU.nwb\n",
      "[18:44:37][INFO] Spyglass: Found 1 accepted units\n",
      "03-Jul-24 18:44:37 Found 1 accepted units\n",
      "[18:44:38][INFO] Spyglass: Writing new NWB file eliot20221017_G2YROFSCFH.nwb\n",
      "03-Jul-24 18:44:38 Writing new NWB file eliot20221017_G2YROFSCFH.nwb\n",
      "[18:44:42][INFO] Spyglass: Found 1 accepted units\n",
      "03-Jul-24 18:44:42 Found 1 accepted units\n",
      "[18:44:43][INFO] Spyglass: Writing new NWB file eliot20221017_63QZKQBOZO.nwb\n",
      "03-Jul-24 18:44:43 Writing new NWB file eliot20221017_63QZKQBOZO.nwb\n",
      "[18:44:47][INFO] Spyglass: Found 1 accepted units\n",
      "03-Jul-24 18:44:47 Found 1 accepted units\n",
      "[18:44:48][INFO] Spyglass: Writing new NWB file eliot20221017_4J2ERQC270.nwb\n",
      "03-Jul-24 18:44:48 Writing new NWB file eliot20221017_4J2ERQC270.nwb\n",
      "[18:44:52][INFO] Spyglass: Found 1 accepted units\n",
      "03-Jul-24 18:44:52 Found 1 accepted units\n",
      "[18:44:53][INFO] Spyglass: Writing new NWB file eliot20221017_GJLM2N4QCC.nwb\n",
      "03-Jul-24 18:44:53 Writing new NWB file eliot20221017_GJLM2N4QCC.nwb\n",
      "[18:44:57][INFO] Spyglass: Found 1 accepted units\n",
      "03-Jul-24 18:44:57 Found 1 accepted units\n",
      "[18:44:58][INFO] Spyglass: Writing new NWB file eliot20221017_ULH8C1QI4M.nwb\n",
      "03-Jul-24 18:44:58 Writing new NWB file eliot20221017_ULH8C1QI4M.nwb\n"
     ]
    },
    {
     "data": {
      "application/vnd.jupyter.widget-view+json": {
       "model_id": "0f4725dec78845369b8bac7f776c99cb",
       "version_major": 2,
       "version_minor": 0
      },
      "text/plain": [
       "extract waveforms memmap:   0%|          | 0/1 [00:00<?, ?it/s]"
      ]
     },
     "metadata": {},
     "output_type": "display_data"
    },
    {
     "name": "stderr",
     "output_type": "stream",
     "text": [
      "[18:45:11][INFO] Spyglass: Writing new NWB file eliot20221017_RPNJHWL6TW.nwb\n",
      "03-Jul-24 18:45:11 Writing new NWB file eliot20221017_RPNJHWL6TW.nwb\n"
     ]
    },
    {
     "data": {
      "application/vnd.jupyter.widget-view+json": {
       "model_id": "cab9ac4a394641bf965ba8e5bb07dcbc",
       "version_major": 2,
       "version_minor": 0
      },
      "text/plain": [
       "extract waveforms memmap:   0%|          | 0/1 [00:00<?, ?it/s]"
      ]
     },
     "metadata": {},
     "output_type": "display_data"
    },
    {
     "name": "stderr",
     "output_type": "stream",
     "text": [
      "[18:45:20][INFO] Spyglass: Writing new NWB file eliot20221017_S3GP9ID4BX.nwb\n",
      "03-Jul-24 18:45:20 Writing new NWB file eliot20221017_S3GP9ID4BX.nwb\n"
     ]
    },
    {
     "data": {
      "application/vnd.jupyter.widget-view+json": {
       "model_id": "23d089ded9dc45cdbfb5625a926799d9",
       "version_major": 2,
       "version_minor": 0
      },
      "text/plain": [
       "extract waveforms memmap:   0%|          | 0/1 [00:00<?, ?it/s]"
      ]
     },
     "metadata": {},
     "output_type": "display_data"
    },
    {
     "name": "stderr",
     "output_type": "stream",
     "text": [
      "[18:45:27][INFO] Spyglass: Writing new NWB file eliot20221017_X02XYMKZQX.nwb\n",
      "03-Jul-24 18:45:27 Writing new NWB file eliot20221017_X02XYMKZQX.nwb\n"
     ]
    },
    {
     "data": {
      "application/vnd.jupyter.widget-view+json": {
       "model_id": "fdeb4bcfd3db4f6b8bf42ab0faa8b152",
       "version_major": 2,
       "version_minor": 0
      },
      "text/plain": [
       "extract waveforms memmap:   0%|          | 0/1 [00:00<?, ?it/s]"
      ]
     },
     "metadata": {},
     "output_type": "display_data"
    },
    {
     "name": "stderr",
     "output_type": "stream",
     "text": [
      "[18:45:37][INFO] Spyglass: Writing new NWB file eliot20221017_331JAX07UD.nwb\n",
      "03-Jul-24 18:45:37 Writing new NWB file eliot20221017_331JAX07UD.nwb\n"
     ]
    },
    {
     "data": {
      "application/vnd.jupyter.widget-view+json": {
       "model_id": "3ce3027100244b668725b72606320c44",
       "version_major": 2,
       "version_minor": 0
      },
      "text/plain": [
       "extract waveforms memmap:   0%|          | 0/1 [00:00<?, ?it/s]"
      ]
     },
     "metadata": {},
     "output_type": "display_data"
    },
    {
     "name": "stderr",
     "output_type": "stream",
     "text": [
      "[18:45:46][INFO] Spyglass: Writing new NWB file eliot20221017_JLRUTJYS9S.nwb\n",
      "03-Jul-24 18:45:46 Writing new NWB file eliot20221017_JLRUTJYS9S.nwb\n"
     ]
    },
    {
     "data": {
      "application/vnd.jupyter.widget-view+json": {
       "model_id": "12b22faba32748ef9bee30519b23f778",
       "version_major": 2,
       "version_minor": 0
      },
      "text/plain": [
       "extract waveforms memmap:   0%|          | 0/1 [00:00<?, ?it/s]"
      ]
     },
     "metadata": {},
     "output_type": "display_data"
    },
    {
     "name": "stderr",
     "output_type": "stream",
     "text": [
      "[18:45:55][INFO] Spyglass: Writing new NWB file eliot20221017_64LH1KDP5A.nwb\n",
      "03-Jul-24 18:45:55 Writing new NWB file eliot20221017_64LH1KDP5A.nwb\n"
     ]
    },
    {
     "data": {
      "application/vnd.jupyter.widget-view+json": {
       "model_id": "97c1249b2d4e4f499147234d686a0290",
       "version_major": 2,
       "version_minor": 0
      },
      "text/plain": [
       "extract waveforms memmap:   0%|          | 0/1 [00:00<?, ?it/s]"
      ]
     },
     "metadata": {},
     "output_type": "display_data"
    },
    {
     "name": "stderr",
     "output_type": "stream",
     "text": [
      "[18:46:02][INFO] Spyglass: Writing new NWB file eliot20221017_DRK8OK6KSE.nwb\n",
      "03-Jul-24 18:46:02 Writing new NWB file eliot20221017_DRK8OK6KSE.nwb\n"
     ]
    },
    {
     "data": {
      "application/vnd.jupyter.widget-view+json": {
       "model_id": "01386344afc442149ae1e2f8bd8fb6d1",
       "version_major": 2,
       "version_minor": 0
      },
      "text/plain": [
       "extract waveforms memmap:   0%|          | 0/1 [00:00<?, ?it/s]"
      ]
     },
     "metadata": {},
     "output_type": "display_data"
    },
    {
     "name": "stderr",
     "output_type": "stream",
     "text": [
      "[18:46:10][INFO] Spyglass: Writing new NWB file eliot20221017_T5E0NUDBFE.nwb\n",
      "03-Jul-24 18:46:10 Writing new NWB file eliot20221017_T5E0NUDBFE.nwb\n"
     ]
    },
    {
     "data": {
      "application/vnd.jupyter.widget-view+json": {
       "model_id": "a23b44557b9f41d5b96b23f33b05e773",
       "version_major": 2,
       "version_minor": 0
      },
      "text/plain": [
       "extract waveforms memmap:   0%|          | 0/1 [00:00<?, ?it/s]"
      ]
     },
     "metadata": {},
     "output_type": "display_data"
    },
    {
     "name": "stderr",
     "output_type": "stream",
     "text": [
      "[18:46:19][INFO] Spyglass: Writing new NWB file eliot20221017_8M37U3YQDV.nwb\n",
      "03-Jul-24 18:46:19 Writing new NWB file eliot20221017_8M37U3YQDV.nwb\n"
     ]
    },
    {
     "data": {
      "application/vnd.jupyter.widget-view+json": {
       "model_id": "d48daf6799644a198b27b2a22b5cf964",
       "version_major": 2,
       "version_minor": 0
      },
      "text/plain": [
       "extract waveforms memmap:   0%|          | 0/1 [00:00<?, ?it/s]"
      ]
     },
     "metadata": {},
     "output_type": "display_data"
    },
    {
     "name": "stderr",
     "output_type": "stream",
     "text": [
      "[18:46:27][INFO] Spyglass: Writing new NWB file eliot20221017_00WXMZ8CLE.nwb\n",
      "03-Jul-24 18:46:27 Writing new NWB file eliot20221017_00WXMZ8CLE.nwb\n"
     ]
    },
    {
     "data": {
      "application/vnd.jupyter.widget-view+json": {
       "model_id": "da8d80991c524ee3b20a3e20e111fc0a",
       "version_major": 2,
       "version_minor": 0
      },
      "text/plain": [
       "extract waveforms memmap:   0%|          | 0/1 [00:00<?, ?it/s]"
      ]
     },
     "metadata": {},
     "output_type": "display_data"
    },
    {
     "name": "stderr",
     "output_type": "stream",
     "text": [
      "[18:46:34][INFO] Spyglass: Writing new NWB file eliot20221017_GGO1XZ0JCK.nwb\n",
      "03-Jul-24 18:46:34 Writing new NWB file eliot20221017_GGO1XZ0JCK.nwb\n"
     ]
    },
    {
     "data": {
      "application/vnd.jupyter.widget-view+json": {
       "model_id": "e9b6f3f431cd4704b72967ad44ae66ce",
       "version_major": 2,
       "version_minor": 0
      },
      "text/plain": [
       "extract waveforms memmap:   0%|          | 0/1 [00:00<?, ?it/s]"
      ]
     },
     "metadata": {},
     "output_type": "display_data"
    },
    {
     "name": "stderr",
     "output_type": "stream",
     "text": [
      "[18:46:42][INFO] Spyglass: Writing new NWB file eliot20221017_IRNV5I4FGA.nwb\n",
      "03-Jul-24 18:46:42 Writing new NWB file eliot20221017_IRNV5I4FGA.nwb\n"
     ]
    },
    {
     "data": {
      "application/vnd.jupyter.widget-view+json": {
       "model_id": "a8c39e14121b4be9b5740696cd847048",
       "version_major": 2,
       "version_minor": 0
      },
      "text/plain": [
       "extract waveforms memmap:   0%|          | 0/1 [00:00<?, ?it/s]"
      ]
     },
     "metadata": {},
     "output_type": "display_data"
    },
    {
     "name": "stderr",
     "output_type": "stream",
     "text": [
      "[18:46:51][INFO] Spyglass: Writing new NWB file eliot20221017_PFYI4UCIE5.nwb\n",
      "03-Jul-24 18:46:51 Writing new NWB file eliot20221017_PFYI4UCIE5.nwb\n"
     ]
    },
    {
     "data": {
      "application/vnd.jupyter.widget-view+json": {
       "model_id": "1478da7acd814ba2817c7da42ea1eccd",
       "version_major": 2,
       "version_minor": 0
      },
      "text/plain": [
       "extract waveforms memmap:   0%|          | 0/1 [00:00<?, ?it/s]"
      ]
     },
     "metadata": {},
     "output_type": "display_data"
    },
    {
     "name": "stderr",
     "output_type": "stream",
     "text": [
      "[18:46:58][INFO] Spyglass: Writing new NWB file eliot20221017_M00PDSVHUY.nwb\n",
      "03-Jul-24 18:46:58 Writing new NWB file eliot20221017_M00PDSVHUY.nwb\n"
     ]
    },
    {
     "data": {
      "application/vnd.jupyter.widget-view+json": {
       "model_id": "b69cb281c80e492fa30db4d05545c70d",
       "version_major": 2,
       "version_minor": 0
      },
      "text/plain": [
       "extract waveforms memmap:   0%|          | 0/1 [00:00<?, ?it/s]"
      ]
     },
     "metadata": {},
     "output_type": "display_data"
    },
    {
     "name": "stderr",
     "output_type": "stream",
     "text": [
      "[18:47:06][INFO] Spyglass: Writing new NWB file eliot20221017_OLO25VU392.nwb\n",
      "03-Jul-24 18:47:06 Writing new NWB file eliot20221017_OLO25VU392.nwb\n"
     ]
    },
    {
     "data": {
      "application/vnd.jupyter.widget-view+json": {
       "model_id": "fe983e862a5a47c5a6e1e0c24ef6d5cc",
       "version_major": 2,
       "version_minor": 0
      },
      "text/plain": [
       "extract waveforms memmap:   0%|          | 0/1 [00:00<?, ?it/s]"
      ]
     },
     "metadata": {},
     "output_type": "display_data"
    },
    {
     "name": "stderr",
     "output_type": "stream",
     "text": [
      "[18:47:13][INFO] Spyglass: Writing new NWB file eliot20221017_LKSD1GPPZS.nwb\n",
      "03-Jul-24 18:47:13 Writing new NWB file eliot20221017_LKSD1GPPZS.nwb\n",
      "[18:47:18][INFO] Spyglass: Writing new NWB file eliot20221017_C3IQY6AI0S.nwb\n",
      "03-Jul-24 18:47:18 Writing new NWB file eliot20221017_C3IQY6AI0S.nwb\n",
      "[18:47:32][INFO] Spyglass: Writing new NWB file eliot20221017_F2SQKD1UAR.nwb\n",
      "03-Jul-24 18:47:32 Writing new NWB file eliot20221017_F2SQKD1UAR.nwb\n",
      "[18:47:46][INFO] Spyglass: Writing new NWB file eliot20221017_ZRRY85YONM.nwb\n",
      "03-Jul-24 18:47:46 Writing new NWB file eliot20221017_ZRRY85YONM.nwb\n",
      "[18:48:02][INFO] Spyglass: Writing new NWB file eliot20221017_K0992N2A3Z.nwb\n",
      "03-Jul-24 18:48:02 Writing new NWB file eliot20221017_K0992N2A3Z.nwb\n",
      "[18:48:15][INFO] Spyglass: Writing new NWB file eliot20221017_WNEL78Y62N.nwb\n",
      "03-Jul-24 18:48:15 Writing new NWB file eliot20221017_WNEL78Y62N.nwb\n",
      "[18:48:29][INFO] Spyglass: Writing new NWB file eliot20221017_ZHBBNVIRSJ.nwb\n",
      "03-Jul-24 18:48:29 Writing new NWB file eliot20221017_ZHBBNVIRSJ.nwb\n",
      "[18:48:42][INFO] Spyglass: Writing new NWB file eliot20221017_0DB18RCSU2.nwb\n",
      "03-Jul-24 18:48:42 Writing new NWB file eliot20221017_0DB18RCSU2.nwb\n",
      "[18:48:56][INFO] Spyglass: Writing new NWB file eliot20221017_IFA35CI1DR.nwb\n",
      "03-Jul-24 18:48:56 Writing new NWB file eliot20221017_IFA35CI1DR.nwb\n",
      "[18:49:10][INFO] Spyglass: Writing new NWB file eliot20221017_ZHXPHBMEDX.nwb\n",
      "03-Jul-24 18:49:10 Writing new NWB file eliot20221017_ZHXPHBMEDX.nwb\n",
      "[18:49:23][INFO] Spyglass: Writing new NWB file eliot20221017_R7JX8KOPKD.nwb\n",
      "03-Jul-24 18:49:23 Writing new NWB file eliot20221017_R7JX8KOPKD.nwb\n",
      "[18:49:36][INFO] Spyglass: Writing new NWB file eliot20221017_W3BYETEUAR.nwb\n",
      "03-Jul-24 18:49:36 Writing new NWB file eliot20221017_W3BYETEUAR.nwb\n",
      "[18:49:53][INFO] Spyglass: Writing new NWB file eliot20221017_UZAH5EXBP3.nwb\n",
      "03-Jul-24 18:49:53 Writing new NWB file eliot20221017_UZAH5EXBP3.nwb\n",
      "[18:50:06][INFO] Spyglass: Writing new NWB file eliot20221017_IA09S6ER50.nwb\n",
      "03-Jul-24 18:50:06 Writing new NWB file eliot20221017_IA09S6ER50.nwb\n",
      "[18:50:19][INFO] Spyglass: Writing new NWB file eliot20221017_WU4FM8P0ZT.nwb\n",
      "03-Jul-24 18:50:19 Writing new NWB file eliot20221017_WU4FM8P0ZT.nwb\n",
      "[18:50:33][INFO] Spyglass: Writing new NWB file eliot20221017_SQ3716VKIN.nwb\n",
      "03-Jul-24 18:50:33 Writing new NWB file eliot20221017_SQ3716VKIN.nwb\n",
      "[18:50:46][INFO] Spyglass: Writing new NWB file eliot20221017_TSMDWE3AEB.nwb\n",
      "03-Jul-24 18:50:46 Writing new NWB file eliot20221017_TSMDWE3AEB.nwb\n",
      "[18:51:09][WARNING] Spyglass: Deprecation: this class has been moved out of spyglass.common.common_position\n",
      "\tIntervalLinearizedPosition -> spyglass.linearization.v0.main.IntervalLinearizedPosition\n",
      "Please use the new location.\n",
      "03-Jul-24 18:51:09 Deprecation: this class has been moved out of spyglass.common.common_position\n",
      "\tIntervalLinearizedPosition -> spyglass.linearization.v0.main.IntervalLinearizedPosition\n",
      "Please use the new location.\n"
     ]
    },
    {
     "name": "stdout",
     "output_type": "stream",
     "text": [
      "final shape of marks and linear position df is:\n",
      "(921658, 4, 16)\n",
      "(921658, 4)\n",
      "0\n",
      "inserting into IntervalList\n",
      "done inserting into IntervalList\n",
      "2\n",
      "inserting into IntervalList\n",
      "done inserting into IntervalList\n",
      "4\n",
      "inserting into IntervalList\n",
      "done inserting into IntervalList\n",
      "5\n",
      "inserting into IntervalList\n",
      "done inserting into IntervalList\n",
      "13\n",
      "inserting into IntervalList\n",
      "done inserting into IntervalList\n",
      "14\n",
      "inserting into IntervalList\n",
      "done inserting into IntervalList\n",
      "16\n",
      "inserting into IntervalList\n",
      "done inserting into IntervalList\n",
      "17\n",
      "inserting into IntervalList\n",
      "done inserting into IntervalList\n",
      "20\n",
      "inserting into IntervalList\n",
      "done inserting into IntervalList\n",
      "23\n",
      "inserting into IntervalList\n",
      "done inserting into IntervalList\n",
      "26\n",
      "inserting into IntervalList\n",
      "done inserting into IntervalList\n",
      "27\n",
      "inserting into IntervalList\n",
      "done inserting into IntervalList\n",
      "28\n",
      "inserting into IntervalList\n",
      "done inserting into IntervalList\n",
      "29\n",
      "inserting into IntervalList\n",
      "done inserting into IntervalList\n",
      "30\n",
      "inserting into IntervalList\n",
      "done inserting into IntervalList\n",
      "31\n",
      "inserting into IntervalList\n",
      "done inserting into IntervalList\n"
     ]
    },
    {
     "name": "stderr",
     "output_type": "stream",
     "text": [
      "[18:51:35][INFO] Spyglass: Running spike sorting on {'nwb_file_name': 'eliot20221017_.nwb', 'sort_group_id': 0, 'sort_interval_name': '04_Seq2Session2', 'preproc_params_name': 'franklab_tetrode_hippocampus', 'team_name': 'Shijie Gu', 'sorter': 'clusterless_thresholder', 'sorter_params_name': 'default', 'artifact_removed_interval_list_name': 'eliot20221017_.nwb_04_Seq2Session2_0_franklab_tetrode_hippocampus_ampl_1500_prop_075_1ms_artifact_removed_valid_times_track_time_only'}...\n",
      "03-Jul-24 18:51:35 Running spike sorting on {'nwb_file_name': 'eliot20221017_.nwb', 'sort_group_id': 0, 'sort_interval_name': '04_Seq2Session2', 'preproc_params_name': 'franklab_tetrode_hippocampus', 'team_name': 'Shijie Gu', 'sorter': 'clusterless_thresholder', 'sorter_params_name': 'default', 'artifact_removed_interval_list_name': 'eliot20221017_.nwb_04_Seq2Session2_0_franklab_tetrode_hippocampus_ampl_1500_prop_075_1ms_artifact_removed_valid_times_track_time_only'}...\n"
     ]
    },
    {
     "data": {
      "application/vnd.jupyter.widget-view+json": {
       "model_id": "8610ce9ee1d14fc780ced76f69e84da3",
       "version_major": 2,
       "version_minor": 0
      },
      "text/plain": [
       "detect peaks using locally_exclusive:   0%|          | 0/1956 [00:00<?, ?it/s]"
      ]
     },
     "metadata": {},
     "output_type": "display_data"
    },
    {
     "name": "stderr",
     "output_type": "stream",
     "text": [
      "[18:51:40][INFO] Spyglass: Saving sorting results...\n",
      "03-Jul-24 18:51:40 Saving sorting results...\n",
      "[18:51:43][INFO] Spyglass: Running spike sorting on {'nwb_file_name': 'eliot20221017_.nwb', 'sort_group_id': 13, 'sort_interval_name': '04_Seq2Session2', 'preproc_params_name': 'franklab_tetrode_hippocampus', 'team_name': 'Shijie Gu', 'sorter': 'clusterless_thresholder', 'sorter_params_name': 'default', 'artifact_removed_interval_list_name': 'eliot20221017_.nwb_04_Seq2Session2_13_franklab_tetrode_hippocampus_ampl_1500_prop_075_1ms_artifact_removed_valid_times_track_time_only'}...\n",
      "03-Jul-24 18:51:43 Running spike sorting on {'nwb_file_name': 'eliot20221017_.nwb', 'sort_group_id': 13, 'sort_interval_name': '04_Seq2Session2', 'preproc_params_name': 'franklab_tetrode_hippocampus', 'team_name': 'Shijie Gu', 'sorter': 'clusterless_thresholder', 'sorter_params_name': 'default', 'artifact_removed_interval_list_name': 'eliot20221017_.nwb_04_Seq2Session2_13_franklab_tetrode_hippocampus_ampl_1500_prop_075_1ms_artifact_removed_valid_times_track_time_only'}...\n"
     ]
    },
    {
     "data": {
      "application/vnd.jupyter.widget-view+json": {
       "model_id": "9ee8dad7b4724f0f8f9040f3547ffbee",
       "version_major": 2,
       "version_minor": 0
      },
      "text/plain": [
       "detect peaks using locally_exclusive:   0%|          | 0/1956 [00:00<?, ?it/s]"
      ]
     },
     "metadata": {},
     "output_type": "display_data"
    },
    {
     "name": "stderr",
     "output_type": "stream",
     "text": [
      "[18:51:49][INFO] Spyglass: Saving sorting results...\n",
      "03-Jul-24 18:51:49 Saving sorting results...\n",
      "[18:51:53][INFO] Spyglass: Running spike sorting on {'nwb_file_name': 'eliot20221017_.nwb', 'sort_group_id': 14, 'sort_interval_name': '04_Seq2Session2', 'preproc_params_name': 'franklab_tetrode_hippocampus', 'team_name': 'Shijie Gu', 'sorter': 'clusterless_thresholder', 'sorter_params_name': 'default', 'artifact_removed_interval_list_name': 'eliot20221017_.nwb_04_Seq2Session2_14_franklab_tetrode_hippocampus_ampl_1500_prop_075_1ms_artifact_removed_valid_times_track_time_only'}...\n",
      "03-Jul-24 18:51:53 Running spike sorting on {'nwb_file_name': 'eliot20221017_.nwb', 'sort_group_id': 14, 'sort_interval_name': '04_Seq2Session2', 'preproc_params_name': 'franklab_tetrode_hippocampus', 'team_name': 'Shijie Gu', 'sorter': 'clusterless_thresholder', 'sorter_params_name': 'default', 'artifact_removed_interval_list_name': 'eliot20221017_.nwb_04_Seq2Session2_14_franklab_tetrode_hippocampus_ampl_1500_prop_075_1ms_artifact_removed_valid_times_track_time_only'}...\n"
     ]
    },
    {
     "data": {
      "application/vnd.jupyter.widget-view+json": {
       "model_id": "477dadf2789c402ca68b7603d8787392",
       "version_major": 2,
       "version_minor": 0
      },
      "text/plain": [
       "detect peaks using locally_exclusive:   0%|          | 0/1956 [00:00<?, ?it/s]"
      ]
     },
     "metadata": {},
     "output_type": "display_data"
    },
    {
     "name": "stderr",
     "output_type": "stream",
     "text": [
      "[18:52:00][INFO] Spyglass: Saving sorting results...\n",
      "03-Jul-24 18:52:00 Saving sorting results...\n",
      "[18:52:05][INFO] Spyglass: Running spike sorting on {'nwb_file_name': 'eliot20221017_.nwb', 'sort_group_id': 16, 'sort_interval_name': '04_Seq2Session2', 'preproc_params_name': 'franklab_tetrode_hippocampus', 'team_name': 'Shijie Gu', 'sorter': 'clusterless_thresholder', 'sorter_params_name': 'default', 'artifact_removed_interval_list_name': 'eliot20221017_.nwb_04_Seq2Session2_16_franklab_tetrode_hippocampus_ampl_1500_prop_075_1ms_artifact_removed_valid_times_track_time_only'}...\n",
      "03-Jul-24 18:52:05 Running spike sorting on {'nwb_file_name': 'eliot20221017_.nwb', 'sort_group_id': 16, 'sort_interval_name': '04_Seq2Session2', 'preproc_params_name': 'franklab_tetrode_hippocampus', 'team_name': 'Shijie Gu', 'sorter': 'clusterless_thresholder', 'sorter_params_name': 'default', 'artifact_removed_interval_list_name': 'eliot20221017_.nwb_04_Seq2Session2_16_franklab_tetrode_hippocampus_ampl_1500_prop_075_1ms_artifact_removed_valid_times_track_time_only'}...\n"
     ]
    },
    {
     "data": {
      "application/vnd.jupyter.widget-view+json": {
       "model_id": "f986f50c233f4307bc0ab9f0fd089379",
       "version_major": 2,
       "version_minor": 0
      },
      "text/plain": [
       "detect peaks using locally_exclusive:   0%|          | 0/1956 [00:00<?, ?it/s]"
      ]
     },
     "metadata": {},
     "output_type": "display_data"
    },
    {
     "name": "stderr",
     "output_type": "stream",
     "text": [
      "[18:52:09][INFO] Spyglass: Saving sorting results...\n",
      "03-Jul-24 18:52:09 Saving sorting results...\n",
      "[18:52:15][INFO] Spyglass: Running spike sorting on {'nwb_file_name': 'eliot20221017_.nwb', 'sort_group_id': 17, 'sort_interval_name': '04_Seq2Session2', 'preproc_params_name': 'franklab_tetrode_hippocampus', 'team_name': 'Shijie Gu', 'sorter': 'clusterless_thresholder', 'sorter_params_name': 'default', 'artifact_removed_interval_list_name': 'eliot20221017_.nwb_04_Seq2Session2_17_franklab_tetrode_hippocampus_ampl_1500_prop_075_1ms_artifact_removed_valid_times_track_time_only'}...\n",
      "03-Jul-24 18:52:15 Running spike sorting on {'nwb_file_name': 'eliot20221017_.nwb', 'sort_group_id': 17, 'sort_interval_name': '04_Seq2Session2', 'preproc_params_name': 'franklab_tetrode_hippocampus', 'team_name': 'Shijie Gu', 'sorter': 'clusterless_thresholder', 'sorter_params_name': 'default', 'artifact_removed_interval_list_name': 'eliot20221017_.nwb_04_Seq2Session2_17_franklab_tetrode_hippocampus_ampl_1500_prop_075_1ms_artifact_removed_valid_times_track_time_only'}...\n"
     ]
    },
    {
     "data": {
      "application/vnd.jupyter.widget-view+json": {
       "model_id": "987443e666924901b22befc82a81ee90",
       "version_major": 2,
       "version_minor": 0
      },
      "text/plain": [
       "detect peaks using locally_exclusive:   0%|          | 0/1956 [00:00<?, ?it/s]"
      ]
     },
     "metadata": {},
     "output_type": "display_data"
    },
    {
     "name": "stderr",
     "output_type": "stream",
     "text": [
      "[18:52:23][INFO] Spyglass: Saving sorting results...\n",
      "03-Jul-24 18:52:23 Saving sorting results...\n",
      "[18:52:27][INFO] Spyglass: Running spike sorting on {'nwb_file_name': 'eliot20221017_.nwb', 'sort_group_id': 20, 'sort_interval_name': '04_Seq2Session2', 'preproc_params_name': 'franklab_tetrode_hippocampus', 'team_name': 'Shijie Gu', 'sorter': 'clusterless_thresholder', 'sorter_params_name': 'default', 'artifact_removed_interval_list_name': 'eliot20221017_.nwb_04_Seq2Session2_20_franklab_tetrode_hippocampus_ampl_1500_prop_075_1ms_artifact_removed_valid_times_track_time_only'}...\n",
      "03-Jul-24 18:52:27 Running spike sorting on {'nwb_file_name': 'eliot20221017_.nwb', 'sort_group_id': 20, 'sort_interval_name': '04_Seq2Session2', 'preproc_params_name': 'franklab_tetrode_hippocampus', 'team_name': 'Shijie Gu', 'sorter': 'clusterless_thresholder', 'sorter_params_name': 'default', 'artifact_removed_interval_list_name': 'eliot20221017_.nwb_04_Seq2Session2_20_franklab_tetrode_hippocampus_ampl_1500_prop_075_1ms_artifact_removed_valid_times_track_time_only'}...\n"
     ]
    },
    {
     "data": {
      "application/vnd.jupyter.widget-view+json": {
       "model_id": "f77674add7044b3a93c1e8d3c4ecd183",
       "version_major": 2,
       "version_minor": 0
      },
      "text/plain": [
       "detect peaks using locally_exclusive:   0%|          | 0/1956 [00:00<?, ?it/s]"
      ]
     },
     "metadata": {},
     "output_type": "display_data"
    },
    {
     "name": "stderr",
     "output_type": "stream",
     "text": [
      "[18:52:33][INFO] Spyglass: Saving sorting results...\n",
      "03-Jul-24 18:52:33 Saving sorting results...\n",
      "[18:52:38][INFO] Spyglass: Running spike sorting on {'nwb_file_name': 'eliot20221017_.nwb', 'sort_group_id': 23, 'sort_interval_name': '04_Seq2Session2', 'preproc_params_name': 'franklab_tetrode_hippocampus', 'team_name': 'Shijie Gu', 'sorter': 'clusterless_thresholder', 'sorter_params_name': 'default', 'artifact_removed_interval_list_name': 'eliot20221017_.nwb_04_Seq2Session2_23_franklab_tetrode_hippocampus_ampl_1500_prop_075_1ms_artifact_removed_valid_times_track_time_only'}...\n",
      "03-Jul-24 18:52:38 Running spike sorting on {'nwb_file_name': 'eliot20221017_.nwb', 'sort_group_id': 23, 'sort_interval_name': '04_Seq2Session2', 'preproc_params_name': 'franklab_tetrode_hippocampus', 'team_name': 'Shijie Gu', 'sorter': 'clusterless_thresholder', 'sorter_params_name': 'default', 'artifact_removed_interval_list_name': 'eliot20221017_.nwb_04_Seq2Session2_23_franklab_tetrode_hippocampus_ampl_1500_prop_075_1ms_artifact_removed_valid_times_track_time_only'}...\n"
     ]
    },
    {
     "data": {
      "application/vnd.jupyter.widget-view+json": {
       "model_id": "a8a007383bf74b2d900144ea35b1ea05",
       "version_major": 2,
       "version_minor": 0
      },
      "text/plain": [
       "detect peaks using locally_exclusive:   0%|          | 0/1956 [00:00<?, ?it/s]"
      ]
     },
     "metadata": {},
     "output_type": "display_data"
    },
    {
     "name": "stderr",
     "output_type": "stream",
     "text": [
      "[18:52:43][INFO] Spyglass: Saving sorting results...\n",
      "03-Jul-24 18:52:43 Saving sorting results...\n",
      "[18:52:47][INFO] Spyglass: Running spike sorting on {'nwb_file_name': 'eliot20221017_.nwb', 'sort_group_id': 26, 'sort_interval_name': '04_Seq2Session2', 'preproc_params_name': 'franklab_tetrode_hippocampus', 'team_name': 'Shijie Gu', 'sorter': 'clusterless_thresholder', 'sorter_params_name': 'default', 'artifact_removed_interval_list_name': 'eliot20221017_.nwb_04_Seq2Session2_26_franklab_tetrode_hippocampus_ampl_1500_prop_075_1ms_artifact_removed_valid_times_track_time_only'}...\n",
      "03-Jul-24 18:52:47 Running spike sorting on {'nwb_file_name': 'eliot20221017_.nwb', 'sort_group_id': 26, 'sort_interval_name': '04_Seq2Session2', 'preproc_params_name': 'franklab_tetrode_hippocampus', 'team_name': 'Shijie Gu', 'sorter': 'clusterless_thresholder', 'sorter_params_name': 'default', 'artifact_removed_interval_list_name': 'eliot20221017_.nwb_04_Seq2Session2_26_franklab_tetrode_hippocampus_ampl_1500_prop_075_1ms_artifact_removed_valid_times_track_time_only'}...\n"
     ]
    },
    {
     "data": {
      "application/vnd.jupyter.widget-view+json": {
       "model_id": "704b624105034ce885c8b3f02e929f17",
       "version_major": 2,
       "version_minor": 0
      },
      "text/plain": [
       "detect peaks using locally_exclusive:   0%|          | 0/1956 [00:00<?, ?it/s]"
      ]
     },
     "metadata": {},
     "output_type": "display_data"
    },
    {
     "name": "stderr",
     "output_type": "stream",
     "text": [
      "[18:52:52][INFO] Spyglass: Saving sorting results...\n",
      "03-Jul-24 18:52:52 Saving sorting results...\n",
      "[18:52:58][INFO] Spyglass: Running spike sorting on {'nwb_file_name': 'eliot20221017_.nwb', 'sort_group_id': 27, 'sort_interval_name': '04_Seq2Session2', 'preproc_params_name': 'franklab_tetrode_hippocampus', 'team_name': 'Shijie Gu', 'sorter': 'clusterless_thresholder', 'sorter_params_name': 'default', 'artifact_removed_interval_list_name': 'eliot20221017_.nwb_04_Seq2Session2_27_franklab_tetrode_hippocampus_ampl_1500_prop_075_1ms_artifact_removed_valid_times_track_time_only'}...\n",
      "03-Jul-24 18:52:58 Running spike sorting on {'nwb_file_name': 'eliot20221017_.nwb', 'sort_group_id': 27, 'sort_interval_name': '04_Seq2Session2', 'preproc_params_name': 'franklab_tetrode_hippocampus', 'team_name': 'Shijie Gu', 'sorter': 'clusterless_thresholder', 'sorter_params_name': 'default', 'artifact_removed_interval_list_name': 'eliot20221017_.nwb_04_Seq2Session2_27_franklab_tetrode_hippocampus_ampl_1500_prop_075_1ms_artifact_removed_valid_times_track_time_only'}...\n"
     ]
    },
    {
     "data": {
      "application/vnd.jupyter.widget-view+json": {
       "model_id": "9f2ee42313ce49a1a4408ff649b0978b",
       "version_major": 2,
       "version_minor": 0
      },
      "text/plain": [
       "detect peaks using locally_exclusive:   0%|          | 0/1956 [00:00<?, ?it/s]"
      ]
     },
     "metadata": {},
     "output_type": "display_data"
    },
    {
     "name": "stderr",
     "output_type": "stream",
     "text": [
      "[18:53:03][INFO] Spyglass: Saving sorting results...\n",
      "03-Jul-24 18:53:03 Saving sorting results...\n",
      "[18:53:07][INFO] Spyglass: Running spike sorting on {'nwb_file_name': 'eliot20221017_.nwb', 'sort_group_id': 28, 'sort_interval_name': '04_Seq2Session2', 'preproc_params_name': 'franklab_tetrode_hippocampus', 'team_name': 'Shijie Gu', 'sorter': 'clusterless_thresholder', 'sorter_params_name': 'default', 'artifact_removed_interval_list_name': 'eliot20221017_.nwb_04_Seq2Session2_28_franklab_tetrode_hippocampus_ampl_1500_prop_075_1ms_artifact_removed_valid_times_track_time_only'}...\n",
      "03-Jul-24 18:53:07 Running spike sorting on {'nwb_file_name': 'eliot20221017_.nwb', 'sort_group_id': 28, 'sort_interval_name': '04_Seq2Session2', 'preproc_params_name': 'franklab_tetrode_hippocampus', 'team_name': 'Shijie Gu', 'sorter': 'clusterless_thresholder', 'sorter_params_name': 'default', 'artifact_removed_interval_list_name': 'eliot20221017_.nwb_04_Seq2Session2_28_franklab_tetrode_hippocampus_ampl_1500_prop_075_1ms_artifact_removed_valid_times_track_time_only'}...\n"
     ]
    },
    {
     "data": {
      "application/vnd.jupyter.widget-view+json": {
       "model_id": "0a40c3817114444f989ef090e0442fd5",
       "version_major": 2,
       "version_minor": 0
      },
      "text/plain": [
       "detect peaks using locally_exclusive:   0%|          | 0/1956 [00:00<?, ?it/s]"
      ]
     },
     "metadata": {},
     "output_type": "display_data"
    },
    {
     "name": "stderr",
     "output_type": "stream",
     "text": [
      "[18:53:13][INFO] Spyglass: Saving sorting results...\n",
      "03-Jul-24 18:53:13 Saving sorting results...\n",
      "[18:53:19][INFO] Spyglass: Running spike sorting on {'nwb_file_name': 'eliot20221017_.nwb', 'sort_group_id': 29, 'sort_interval_name': '04_Seq2Session2', 'preproc_params_name': 'franklab_tetrode_hippocampus', 'team_name': 'Shijie Gu', 'sorter': 'clusterless_thresholder', 'sorter_params_name': 'default', 'artifact_removed_interval_list_name': 'eliot20221017_.nwb_04_Seq2Session2_29_franklab_tetrode_hippocampus_ampl_1500_prop_075_1ms_artifact_removed_valid_times_track_time_only'}...\n",
      "03-Jul-24 18:53:19 Running spike sorting on {'nwb_file_name': 'eliot20221017_.nwb', 'sort_group_id': 29, 'sort_interval_name': '04_Seq2Session2', 'preproc_params_name': 'franklab_tetrode_hippocampus', 'team_name': 'Shijie Gu', 'sorter': 'clusterless_thresholder', 'sorter_params_name': 'default', 'artifact_removed_interval_list_name': 'eliot20221017_.nwb_04_Seq2Session2_29_franklab_tetrode_hippocampus_ampl_1500_prop_075_1ms_artifact_removed_valid_times_track_time_only'}...\n"
     ]
    },
    {
     "data": {
      "application/vnd.jupyter.widget-view+json": {
       "model_id": "7dedf4cf276b4288b3048b2257b042ad",
       "version_major": 2,
       "version_minor": 0
      },
      "text/plain": [
       "detect peaks using locally_exclusive:   0%|          | 0/1956 [00:00<?, ?it/s]"
      ]
     },
     "metadata": {},
     "output_type": "display_data"
    },
    {
     "name": "stderr",
     "output_type": "stream",
     "text": [
      "[18:53:30][INFO] Spyglass: Saving sorting results...\n",
      "03-Jul-24 18:53:30 Saving sorting results...\n",
      "[18:53:34][INFO] Spyglass: Running spike sorting on {'nwb_file_name': 'eliot20221017_.nwb', 'sort_group_id': 2, 'sort_interval_name': '04_Seq2Session2', 'preproc_params_name': 'franklab_tetrode_hippocampus', 'team_name': 'Shijie Gu', 'sorter': 'clusterless_thresholder', 'sorter_params_name': 'default', 'artifact_removed_interval_list_name': 'eliot20221017_.nwb_04_Seq2Session2_2_franklab_tetrode_hippocampus_ampl_1500_prop_075_1ms_artifact_removed_valid_times_track_time_only'}...\n",
      "03-Jul-24 18:53:34 Running spike sorting on {'nwb_file_name': 'eliot20221017_.nwb', 'sort_group_id': 2, 'sort_interval_name': '04_Seq2Session2', 'preproc_params_name': 'franklab_tetrode_hippocampus', 'team_name': 'Shijie Gu', 'sorter': 'clusterless_thresholder', 'sorter_params_name': 'default', 'artifact_removed_interval_list_name': 'eliot20221017_.nwb_04_Seq2Session2_2_franklab_tetrode_hippocampus_ampl_1500_prop_075_1ms_artifact_removed_valid_times_track_time_only'}...\n"
     ]
    },
    {
     "data": {
      "application/vnd.jupyter.widget-view+json": {
       "model_id": "482c0c829d3445d987fa824d9025d77a",
       "version_major": 2,
       "version_minor": 0
      },
      "text/plain": [
       "detect peaks using locally_exclusive:   0%|          | 0/1956 [00:00<?, ?it/s]"
      ]
     },
     "metadata": {},
     "output_type": "display_data"
    },
    {
     "name": "stderr",
     "output_type": "stream",
     "text": [
      "[18:53:41][INFO] Spyglass: Saving sorting results...\n",
      "03-Jul-24 18:53:41 Saving sorting results...\n",
      "[18:53:46][INFO] Spyglass: Running spike sorting on {'nwb_file_name': 'eliot20221017_.nwb', 'sort_group_id': 30, 'sort_interval_name': '04_Seq2Session2', 'preproc_params_name': 'franklab_tetrode_hippocampus', 'team_name': 'Shijie Gu', 'sorter': 'clusterless_thresholder', 'sorter_params_name': 'default', 'artifact_removed_interval_list_name': 'eliot20221017_.nwb_04_Seq2Session2_30_franklab_tetrode_hippocampus_ampl_1500_prop_075_1ms_artifact_removed_valid_times_track_time_only'}...\n",
      "03-Jul-24 18:53:46 Running spike sorting on {'nwb_file_name': 'eliot20221017_.nwb', 'sort_group_id': 30, 'sort_interval_name': '04_Seq2Session2', 'preproc_params_name': 'franklab_tetrode_hippocampus', 'team_name': 'Shijie Gu', 'sorter': 'clusterless_thresholder', 'sorter_params_name': 'default', 'artifact_removed_interval_list_name': 'eliot20221017_.nwb_04_Seq2Session2_30_franklab_tetrode_hippocampus_ampl_1500_prop_075_1ms_artifact_removed_valid_times_track_time_only'}...\n"
     ]
    },
    {
     "data": {
      "application/vnd.jupyter.widget-view+json": {
       "model_id": "a5f244291a6b411fbc3723f93660ad9d",
       "version_major": 2,
       "version_minor": 0
      },
      "text/plain": [
       "detect peaks using locally_exclusive:   0%|          | 0/1956 [00:00<?, ?it/s]"
      ]
     },
     "metadata": {},
     "output_type": "display_data"
    },
    {
     "name": "stderr",
     "output_type": "stream",
     "text": [
      "[18:53:54][INFO] Spyglass: Saving sorting results...\n",
      "03-Jul-24 18:53:54 Saving sorting results...\n",
      "[18:53:59][INFO] Spyglass: Running spike sorting on {'nwb_file_name': 'eliot20221017_.nwb', 'sort_group_id': 31, 'sort_interval_name': '04_Seq2Session2', 'preproc_params_name': 'franklab_tetrode_hippocampus', 'team_name': 'Shijie Gu', 'sorter': 'clusterless_thresholder', 'sorter_params_name': 'default', 'artifact_removed_interval_list_name': 'eliot20221017_.nwb_04_Seq2Session2_31_franklab_tetrode_hippocampus_ampl_1500_prop_075_1ms_artifact_removed_valid_times_track_time_only'}...\n",
      "03-Jul-24 18:53:59 Running spike sorting on {'nwb_file_name': 'eliot20221017_.nwb', 'sort_group_id': 31, 'sort_interval_name': '04_Seq2Session2', 'preproc_params_name': 'franklab_tetrode_hippocampus', 'team_name': 'Shijie Gu', 'sorter': 'clusterless_thresholder', 'sorter_params_name': 'default', 'artifact_removed_interval_list_name': 'eliot20221017_.nwb_04_Seq2Session2_31_franklab_tetrode_hippocampus_ampl_1500_prop_075_1ms_artifact_removed_valid_times_track_time_only'}...\n"
     ]
    },
    {
     "data": {
      "application/vnd.jupyter.widget-view+json": {
       "model_id": "6a45e2b4248f451a98d79fe0222b94e5",
       "version_major": 2,
       "version_minor": 0
      },
      "text/plain": [
       "detect peaks using locally_exclusive:   0%|          | 0/1956 [00:00<?, ?it/s]"
      ]
     },
     "metadata": {},
     "output_type": "display_data"
    },
    {
     "name": "stderr",
     "output_type": "stream",
     "text": [
      "[18:54:05][INFO] Spyglass: Saving sorting results...\n",
      "03-Jul-24 18:54:05 Saving sorting results...\n",
      "[18:54:09][INFO] Spyglass: Running spike sorting on {'nwb_file_name': 'eliot20221017_.nwb', 'sort_group_id': 4, 'sort_interval_name': '04_Seq2Session2', 'preproc_params_name': 'franklab_tetrode_hippocampus', 'team_name': 'Shijie Gu', 'sorter': 'clusterless_thresholder', 'sorter_params_name': 'default', 'artifact_removed_interval_list_name': 'eliot20221017_.nwb_04_Seq2Session2_4_franklab_tetrode_hippocampus_ampl_1500_prop_075_1ms_artifact_removed_valid_times_track_time_only'}...\n",
      "03-Jul-24 18:54:09 Running spike sorting on {'nwb_file_name': 'eliot20221017_.nwb', 'sort_group_id': 4, 'sort_interval_name': '04_Seq2Session2', 'preproc_params_name': 'franklab_tetrode_hippocampus', 'team_name': 'Shijie Gu', 'sorter': 'clusterless_thresholder', 'sorter_params_name': 'default', 'artifact_removed_interval_list_name': 'eliot20221017_.nwb_04_Seq2Session2_4_franklab_tetrode_hippocampus_ampl_1500_prop_075_1ms_artifact_removed_valid_times_track_time_only'}...\n"
     ]
    },
    {
     "data": {
      "application/vnd.jupyter.widget-view+json": {
       "model_id": "526b0d600254447481cdceca9ffb6813",
       "version_major": 2,
       "version_minor": 0
      },
      "text/plain": [
       "detect peaks using locally_exclusive:   0%|          | 0/1956 [00:00<?, ?it/s]"
      ]
     },
     "metadata": {},
     "output_type": "display_data"
    },
    {
     "name": "stderr",
     "output_type": "stream",
     "text": [
      "[18:54:13][INFO] Spyglass: Saving sorting results...\n",
      "03-Jul-24 18:54:13 Saving sorting results...\n",
      "[18:54:18][INFO] Spyglass: Running spike sorting on {'nwb_file_name': 'eliot20221017_.nwb', 'sort_group_id': 5, 'sort_interval_name': '04_Seq2Session2', 'preproc_params_name': 'franklab_tetrode_hippocampus', 'team_name': 'Shijie Gu', 'sorter': 'clusterless_thresholder', 'sorter_params_name': 'default', 'artifact_removed_interval_list_name': 'eliot20221017_.nwb_04_Seq2Session2_5_franklab_tetrode_hippocampus_ampl_1500_prop_075_1ms_artifact_removed_valid_times_track_time_only'}...\n",
      "03-Jul-24 18:54:18 Running spike sorting on {'nwb_file_name': 'eliot20221017_.nwb', 'sort_group_id': 5, 'sort_interval_name': '04_Seq2Session2', 'preproc_params_name': 'franklab_tetrode_hippocampus', 'team_name': 'Shijie Gu', 'sorter': 'clusterless_thresholder', 'sorter_params_name': 'default', 'artifact_removed_interval_list_name': 'eliot20221017_.nwb_04_Seq2Session2_5_franklab_tetrode_hippocampus_ampl_1500_prop_075_1ms_artifact_removed_valid_times_track_time_only'}...\n"
     ]
    },
    {
     "data": {
      "application/vnd.jupyter.widget-view+json": {
       "model_id": "ee828fd5102e43cd937ed2ef60808c3d",
       "version_major": 2,
       "version_minor": 0
      },
      "text/plain": [
       "detect peaks using locally_exclusive:   0%|          | 0/1956 [00:00<?, ?it/s]"
      ]
     },
     "metadata": {},
     "output_type": "display_data"
    },
    {
     "name": "stderr",
     "output_type": "stream",
     "text": [
      "[18:54:23][INFO] Spyglass: Saving sorting results...\n",
      "03-Jul-24 18:54:23 Saving sorting results...\n",
      "[18:55:40][INFO] Spyglass: Found 1 accepted units\n",
      "03-Jul-24 18:55:40 Found 1 accepted units\n",
      "[18:55:43][INFO] Spyglass: Writing new NWB file eliot20221017_WUEP9VUKLV.nwb\n",
      "03-Jul-24 18:55:43 Writing new NWB file eliot20221017_WUEP9VUKLV.nwb\n",
      "[18:55:46][INFO] Spyglass: Found 1 accepted units\n",
      "03-Jul-24 18:55:46 Found 1 accepted units\n",
      "[18:55:48][INFO] Spyglass: Writing new NWB file eliot20221017_W0SD4UHAUS.nwb\n",
      "03-Jul-24 18:55:48 Writing new NWB file eliot20221017_W0SD4UHAUS.nwb\n",
      "[18:55:51][INFO] Spyglass: Found 1 accepted units\n",
      "03-Jul-24 18:55:51 Found 1 accepted units\n",
      "[18:55:53][INFO] Spyglass: Writing new NWB file eliot20221017_TTC51VPGS5.nwb\n",
      "03-Jul-24 18:55:53 Writing new NWB file eliot20221017_TTC51VPGS5.nwb\n",
      "[18:55:59][INFO] Spyglass: Found 1 accepted units\n",
      "03-Jul-24 18:55:59 Found 1 accepted units\n",
      "[18:56:00][INFO] Spyglass: Writing new NWB file eliot20221017_PG0OGRGK6B.nwb\n",
      "03-Jul-24 18:56:00 Writing new NWB file eliot20221017_PG0OGRGK6B.nwb\n",
      "[18:56:05][INFO] Spyglass: Found 1 accepted units\n",
      "03-Jul-24 18:56:05 Found 1 accepted units\n",
      "[18:56:07][INFO] Spyglass: Writing new NWB file eliot20221017_ZKU3VWALNI.nwb\n",
      "03-Jul-24 18:56:07 Writing new NWB file eliot20221017_ZKU3VWALNI.nwb\n",
      "[18:56:11][INFO] Spyglass: Found 1 accepted units\n",
      "03-Jul-24 18:56:11 Found 1 accepted units\n",
      "[18:56:12][INFO] Spyglass: Writing new NWB file eliot20221017_U4X3PNQRO2.nwb\n",
      "03-Jul-24 18:56:12 Writing new NWB file eliot20221017_U4X3PNQRO2.nwb\n",
      "[18:56:16][INFO] Spyglass: Found 1 accepted units\n",
      "03-Jul-24 18:56:16 Found 1 accepted units\n",
      "[18:56:17][INFO] Spyglass: Writing new NWB file eliot20221017_BKRR7GWPK4.nwb\n",
      "03-Jul-24 18:56:17 Writing new NWB file eliot20221017_BKRR7GWPK4.nwb\n",
      "[18:56:21][INFO] Spyglass: Found 1 accepted units\n",
      "03-Jul-24 18:56:21 Found 1 accepted units\n",
      "[18:56:22][INFO] Spyglass: Writing new NWB file eliot20221017_A4ST86S4F6.nwb\n",
      "03-Jul-24 18:56:22 Writing new NWB file eliot20221017_A4ST86S4F6.nwb\n",
      "[18:56:25][INFO] Spyglass: Found 1 accepted units\n",
      "03-Jul-24 18:56:25 Found 1 accepted units\n",
      "[18:56:27][INFO] Spyglass: Writing new NWB file eliot20221017_ZPYBJKCG7X.nwb\n",
      "03-Jul-24 18:56:27 Writing new NWB file eliot20221017_ZPYBJKCG7X.nwb\n",
      "[18:56:31][INFO] Spyglass: Found 1 accepted units\n",
      "03-Jul-24 18:56:31 Found 1 accepted units\n",
      "[18:56:32][INFO] Spyglass: Writing new NWB file eliot20221017_49AT3ZBFAT.nwb\n",
      "03-Jul-24 18:56:32 Writing new NWB file eliot20221017_49AT3ZBFAT.nwb\n",
      "[18:56:36][INFO] Spyglass: Found 1 accepted units\n",
      "03-Jul-24 18:56:36 Found 1 accepted units\n",
      "[18:56:38][INFO] Spyglass: Writing new NWB file eliot20221017_RGIPDYY2J3.nwb\n",
      "03-Jul-24 18:56:38 Writing new NWB file eliot20221017_RGIPDYY2J3.nwb\n",
      "[18:56:43][INFO] Spyglass: Found 1 accepted units\n",
      "03-Jul-24 18:56:43 Found 1 accepted units\n",
      "[18:56:45][INFO] Spyglass: Writing new NWB file eliot20221017_QBGBFWJDC8.nwb\n",
      "03-Jul-24 18:56:45 Writing new NWB file eliot20221017_QBGBFWJDC8.nwb\n",
      "[18:56:48][INFO] Spyglass: Found 1 accepted units\n",
      "03-Jul-24 18:56:48 Found 1 accepted units\n",
      "[18:56:49][INFO] Spyglass: Writing new NWB file eliot20221017_RSFX6UFOSQ.nwb\n",
      "03-Jul-24 18:56:49 Writing new NWB file eliot20221017_RSFX6UFOSQ.nwb\n",
      "[18:56:53][INFO] Spyglass: Found 1 accepted units\n",
      "03-Jul-24 18:56:53 Found 1 accepted units\n",
      "[18:56:54][INFO] Spyglass: Writing new NWB file eliot20221017_4M4PSBIPIB.nwb\n",
      "03-Jul-24 18:56:54 Writing new NWB file eliot20221017_4M4PSBIPIB.nwb\n",
      "[18:56:58][INFO] Spyglass: Found 1 accepted units\n",
      "03-Jul-24 18:56:58 Found 1 accepted units\n",
      "[18:56:59][INFO] Spyglass: Writing new NWB file eliot20221017_ZOXBW3QSZU.nwb\n",
      "03-Jul-24 18:56:59 Writing new NWB file eliot20221017_ZOXBW3QSZU.nwb\n",
      "[18:57:03][INFO] Spyglass: Found 1 accepted units\n",
      "03-Jul-24 18:57:03 Found 1 accepted units\n",
      "[18:57:05][INFO] Spyglass: Writing new NWB file eliot20221017_OG3NJCQB2L.nwb\n",
      "03-Jul-24 18:57:05 Writing new NWB file eliot20221017_OG3NJCQB2L.nwb\n"
     ]
    },
    {
     "data": {
      "application/vnd.jupyter.widget-view+json": {
       "model_id": "562bb31026a944d28f050f4ea9fc1045",
       "version_major": 2,
       "version_minor": 0
      },
      "text/plain": [
       "extract waveforms memmap:   0%|          | 0/1 [00:00<?, ?it/s]"
      ]
     },
     "metadata": {},
     "output_type": "display_data"
    },
    {
     "name": "stderr",
     "output_type": "stream",
     "text": [
      "[18:57:14][INFO] Spyglass: Writing new NWB file eliot20221017_JJ6FU0OO88.nwb\n",
      "03-Jul-24 18:57:14 Writing new NWB file eliot20221017_JJ6FU0OO88.nwb\n"
     ]
    },
    {
     "data": {
      "application/vnd.jupyter.widget-view+json": {
       "model_id": "693e218a692046c0b6ea12653a7b8be3",
       "version_major": 2,
       "version_minor": 0
      },
      "text/plain": [
       "extract waveforms memmap:   0%|          | 0/1 [00:00<?, ?it/s]"
      ]
     },
     "metadata": {},
     "output_type": "display_data"
    },
    {
     "name": "stderr",
     "output_type": "stream",
     "text": [
      "[18:57:23][INFO] Spyglass: Writing new NWB file eliot20221017_W38AVQFKHI.nwb\n",
      "03-Jul-24 18:57:23 Writing new NWB file eliot20221017_W38AVQFKHI.nwb\n"
     ]
    },
    {
     "data": {
      "application/vnd.jupyter.widget-view+json": {
       "model_id": "515259dd914d4cf8a894b3c573922dd2",
       "version_major": 2,
       "version_minor": 0
      },
      "text/plain": [
       "extract waveforms memmap:   0%|          | 0/1 [00:00<?, ?it/s]"
      ]
     },
     "metadata": {},
     "output_type": "display_data"
    },
    {
     "name": "stderr",
     "output_type": "stream",
     "text": [
      "[18:57:32][INFO] Spyglass: Writing new NWB file eliot20221017_ULHLLTQP9S.nwb\n",
      "03-Jul-24 18:57:32 Writing new NWB file eliot20221017_ULHLLTQP9S.nwb\n"
     ]
    },
    {
     "data": {
      "application/vnd.jupyter.widget-view+json": {
       "model_id": "5082e3aa0ea849d3ab69f3a612e5308f",
       "version_major": 2,
       "version_minor": 0
      },
      "text/plain": [
       "extract waveforms memmap:   0%|          | 0/1 [00:00<?, ?it/s]"
      ]
     },
     "metadata": {},
     "output_type": "display_data"
    },
    {
     "name": "stderr",
     "output_type": "stream",
     "text": [
      "[18:57:42][INFO] Spyglass: Writing new NWB file eliot20221017_8P9W9Y493W.nwb\n",
      "03-Jul-24 18:57:42 Writing new NWB file eliot20221017_8P9W9Y493W.nwb\n"
     ]
    },
    {
     "data": {
      "application/vnd.jupyter.widget-view+json": {
       "model_id": "77700da5b27c4f3d946ed528f047da2d",
       "version_major": 2,
       "version_minor": 0
      },
      "text/plain": [
       "extract waveforms memmap:   0%|          | 0/1 [00:00<?, ?it/s]"
      ]
     },
     "metadata": {},
     "output_type": "display_data"
    },
    {
     "name": "stderr",
     "output_type": "stream",
     "text": [
      "[18:57:53][INFO] Spyglass: Writing new NWB file eliot20221017_MNPBM9VPJ8.nwb\n",
      "03-Jul-24 18:57:53 Writing new NWB file eliot20221017_MNPBM9VPJ8.nwb\n"
     ]
    },
    {
     "data": {
      "application/vnd.jupyter.widget-view+json": {
       "model_id": "43b15a8f70454d338e8acfedc97e29e1",
       "version_major": 2,
       "version_minor": 0
      },
      "text/plain": [
       "extract waveforms memmap:   0%|          | 0/1 [00:00<?, ?it/s]"
      ]
     },
     "metadata": {},
     "output_type": "display_data"
    },
    {
     "name": "stderr",
     "output_type": "stream",
     "text": [
      "[18:58:02][INFO] Spyglass: Writing new NWB file eliot20221017_P7DP9LP936.nwb\n",
      "03-Jul-24 18:58:02 Writing new NWB file eliot20221017_P7DP9LP936.nwb\n"
     ]
    },
    {
     "data": {
      "application/vnd.jupyter.widget-view+json": {
       "model_id": "d31f2087f14d4070b2c78794068ab9e2",
       "version_major": 2,
       "version_minor": 0
      },
      "text/plain": [
       "extract waveforms memmap:   0%|          | 0/1 [00:00<?, ?it/s]"
      ]
     },
     "metadata": {},
     "output_type": "display_data"
    },
    {
     "name": "stderr",
     "output_type": "stream",
     "text": [
      "[18:58:11][INFO] Spyglass: Writing new NWB file eliot20221017_PPMGTOCMKL.nwb\n",
      "03-Jul-24 18:58:11 Writing new NWB file eliot20221017_PPMGTOCMKL.nwb\n"
     ]
    },
    {
     "data": {
      "application/vnd.jupyter.widget-view+json": {
       "model_id": "5371c54d5fe843a081440dfe6e13b853",
       "version_major": 2,
       "version_minor": 0
      },
      "text/plain": [
       "extract waveforms memmap:   0%|          | 0/1 [00:00<?, ?it/s]"
      ]
     },
     "metadata": {},
     "output_type": "display_data"
    },
    {
     "name": "stderr",
     "output_type": "stream",
     "text": [
      "[18:58:20][INFO] Spyglass: Writing new NWB file eliot20221017_I4MW2STFMU.nwb\n",
      "03-Jul-24 18:58:20 Writing new NWB file eliot20221017_I4MW2STFMU.nwb\n"
     ]
    },
    {
     "data": {
      "application/vnd.jupyter.widget-view+json": {
       "model_id": "655fb666cd374a5f872e72401663c712",
       "version_major": 2,
       "version_minor": 0
      },
      "text/plain": [
       "extract waveforms memmap:   0%|          | 0/1 [00:00<?, ?it/s]"
      ]
     },
     "metadata": {},
     "output_type": "display_data"
    },
    {
     "name": "stderr",
     "output_type": "stream",
     "text": [
      "[18:58:29][INFO] Spyglass: Writing new NWB file eliot20221017_P5MY6OVXCP.nwb\n",
      "03-Jul-24 18:58:29 Writing new NWB file eliot20221017_P5MY6OVXCP.nwb\n"
     ]
    },
    {
     "data": {
      "application/vnd.jupyter.widget-view+json": {
       "model_id": "78788810152140e8b648a353620f72ed",
       "version_major": 2,
       "version_minor": 0
      },
      "text/plain": [
       "extract waveforms memmap:   0%|          | 0/1 [00:00<?, ?it/s]"
      ]
     },
     "metadata": {},
     "output_type": "display_data"
    },
    {
     "name": "stderr",
     "output_type": "stream",
     "text": [
      "[18:58:39][INFO] Spyglass: Writing new NWB file eliot20221017_WK8LKQAIFJ.nwb\n",
      "03-Jul-24 18:58:39 Writing new NWB file eliot20221017_WK8LKQAIFJ.nwb\n"
     ]
    },
    {
     "data": {
      "application/vnd.jupyter.widget-view+json": {
       "model_id": "d596462dbd7140499f017c30f2416309",
       "version_major": 2,
       "version_minor": 0
      },
      "text/plain": [
       "extract waveforms memmap:   0%|          | 0/1 [00:00<?, ?it/s]"
      ]
     },
     "metadata": {},
     "output_type": "display_data"
    },
    {
     "name": "stderr",
     "output_type": "stream",
     "text": [
      "[18:58:49][INFO] Spyglass: Writing new NWB file eliot20221017_D1IHL9GKF3.nwb\n",
      "03-Jul-24 18:58:49 Writing new NWB file eliot20221017_D1IHL9GKF3.nwb\n"
     ]
    },
    {
     "data": {
      "application/vnd.jupyter.widget-view+json": {
       "model_id": "9a483643b74f4349b1af13bb8c87b106",
       "version_major": 2,
       "version_minor": 0
      },
      "text/plain": [
       "extract waveforms memmap:   0%|          | 0/1 [00:00<?, ?it/s]"
      ]
     },
     "metadata": {},
     "output_type": "display_data"
    },
    {
     "name": "stderr",
     "output_type": "stream",
     "text": [
      "[18:58:58][INFO] Spyglass: Writing new NWB file eliot20221017_P9QZZ9UYJ2.nwb\n",
      "03-Jul-24 18:58:58 Writing new NWB file eliot20221017_P9QZZ9UYJ2.nwb\n"
     ]
    },
    {
     "data": {
      "application/vnd.jupyter.widget-view+json": {
       "model_id": "dc8606b519824c669cdd3171ea3ebc5c",
       "version_major": 2,
       "version_minor": 0
      },
      "text/plain": [
       "extract waveforms memmap:   0%|          | 0/1 [00:00<?, ?it/s]"
      ]
     },
     "metadata": {},
     "output_type": "display_data"
    },
    {
     "name": "stderr",
     "output_type": "stream",
     "text": [
      "[18:59:07][INFO] Spyglass: Writing new NWB file eliot20221017_LACQ6DBB73.nwb\n",
      "03-Jul-24 18:59:07 Writing new NWB file eliot20221017_LACQ6DBB73.nwb\n"
     ]
    },
    {
     "data": {
      "application/vnd.jupyter.widget-view+json": {
       "model_id": "2d2a027129484afc8e5f7c9a862bd364",
       "version_major": 2,
       "version_minor": 0
      },
      "text/plain": [
       "extract waveforms memmap:   0%|          | 0/1 [00:00<?, ?it/s]"
      ]
     },
     "metadata": {},
     "output_type": "display_data"
    },
    {
     "name": "stderr",
     "output_type": "stream",
     "text": [
      "[18:59:18][INFO] Spyglass: Writing new NWB file eliot20221017_G6MHCDG1EE.nwb\n",
      "03-Jul-24 18:59:18 Writing new NWB file eliot20221017_G6MHCDG1EE.nwb\n"
     ]
    },
    {
     "data": {
      "application/vnd.jupyter.widget-view+json": {
       "model_id": "f0997690e7834d1db01d83ce31d7fc92",
       "version_major": 2,
       "version_minor": 0
      },
      "text/plain": [
       "extract waveforms memmap:   0%|          | 0/1 [00:00<?, ?it/s]"
      ]
     },
     "metadata": {},
     "output_type": "display_data"
    },
    {
     "name": "stderr",
     "output_type": "stream",
     "text": [
      "[18:59:27][INFO] Spyglass: Writing new NWB file eliot20221017_Y5CCCB4ZK8.nwb\n",
      "03-Jul-24 18:59:27 Writing new NWB file eliot20221017_Y5CCCB4ZK8.nwb\n"
     ]
    },
    {
     "data": {
      "application/vnd.jupyter.widget-view+json": {
       "model_id": "c3fa844a51e04618bfee9180508f052c",
       "version_major": 2,
       "version_minor": 0
      },
      "text/plain": [
       "extract waveforms memmap:   0%|          | 0/1 [00:00<?, ?it/s]"
      ]
     },
     "metadata": {},
     "output_type": "display_data"
    },
    {
     "name": "stderr",
     "output_type": "stream",
     "text": [
      "[18:59:35][INFO] Spyglass: Writing new NWB file eliot20221017_H8D6DQBPW9.nwb\n",
      "03-Jul-24 18:59:35 Writing new NWB file eliot20221017_H8D6DQBPW9.nwb\n",
      "[18:59:40][INFO] Spyglass: Writing new NWB file eliot20221017_7I4L832SII.nwb\n",
      "03-Jul-24 18:59:40 Writing new NWB file eliot20221017_7I4L832SII.nwb\n",
      "[18:59:54][INFO] Spyglass: Writing new NWB file eliot20221017_TVBZLP068Q.nwb\n",
      "03-Jul-24 18:59:54 Writing new NWB file eliot20221017_TVBZLP068Q.nwb\n",
      "[19:00:08][INFO] Spyglass: Writing new NWB file eliot20221017_0DHU8LQ8EM.nwb\n",
      "03-Jul-24 19:00:08 Writing new NWB file eliot20221017_0DHU8LQ8EM.nwb\n",
      "[19:00:22][INFO] Spyglass: Writing new NWB file eliot20221017_G61FM8SSN7.nwb\n",
      "03-Jul-24 19:00:22 Writing new NWB file eliot20221017_G61FM8SSN7.nwb\n",
      "[19:00:38][INFO] Spyglass: Writing new NWB file eliot20221017_XU98111VOM.nwb\n",
      "03-Jul-24 19:00:38 Writing new NWB file eliot20221017_XU98111VOM.nwb\n",
      "[19:00:55][INFO] Spyglass: Writing new NWB file eliot20221017_G94F8BU8FS.nwb\n",
      "03-Jul-24 19:00:55 Writing new NWB file eliot20221017_G94F8BU8FS.nwb\n",
      "[19:01:09][INFO] Spyglass: Writing new NWB file eliot20221017_M7RFDMYWT5.nwb\n",
      "03-Jul-24 19:01:09 Writing new NWB file eliot20221017_M7RFDMYWT5.nwb\n",
      "[19:01:22][INFO] Spyglass: Writing new NWB file eliot20221017_NO68RXKISB.nwb\n",
      "03-Jul-24 19:01:22 Writing new NWB file eliot20221017_NO68RXKISB.nwb\n",
      "[19:01:37][INFO] Spyglass: Writing new NWB file eliot20221017_Y6E0L4VOVT.nwb\n",
      "03-Jul-24 19:01:37 Writing new NWB file eliot20221017_Y6E0L4VOVT.nwb\n",
      "[19:01:51][INFO] Spyglass: Writing new NWB file eliot20221017_9PHJFXGLR6.nwb\n",
      "03-Jul-24 19:01:51 Writing new NWB file eliot20221017_9PHJFXGLR6.nwb\n",
      "[19:02:05][INFO] Spyglass: Writing new NWB file eliot20221017_V3UADNWSQW.nwb\n",
      "03-Jul-24 19:02:05 Writing new NWB file eliot20221017_V3UADNWSQW.nwb\n",
      "[19:02:19][INFO] Spyglass: Writing new NWB file eliot20221017_HFZKLH50LK.nwb\n",
      "03-Jul-24 19:02:19 Writing new NWB file eliot20221017_HFZKLH50LK.nwb\n",
      "[19:02:33][INFO] Spyglass: Writing new NWB file eliot20221017_DDFWU48VWS.nwb\n",
      "03-Jul-24 19:02:33 Writing new NWB file eliot20221017_DDFWU48VWS.nwb\n",
      "[19:02:47][INFO] Spyglass: Writing new NWB file eliot20221017_YWMPOBFNZF.nwb\n",
      "03-Jul-24 19:02:47 Writing new NWB file eliot20221017_YWMPOBFNZF.nwb\n",
      "[19:03:04][INFO] Spyglass: Writing new NWB file eliot20221017_KSS3CCM774.nwb\n",
      "03-Jul-24 19:03:04 Writing new NWB file eliot20221017_KSS3CCM774.nwb\n",
      "[19:03:18][INFO] Spyglass: Writing new NWB file eliot20221017_0T0VCDGHWY.nwb\n",
      "03-Jul-24 19:03:18 Writing new NWB file eliot20221017_0T0VCDGHWY.nwb\n",
      "[19:03:43][WARNING] Spyglass: Deprecation: this class has been moved out of spyglass.common.common_position\n",
      "\tIntervalLinearizedPosition -> spyglass.linearization.v0.main.IntervalLinearizedPosition\n",
      "Please use the new location.\n",
      "03-Jul-24 19:03:43 Deprecation: this class has been moved out of spyglass.common.common_position\n",
      "\tIntervalLinearizedPosition -> spyglass.linearization.v0.main.IntervalLinearizedPosition\n",
      "Please use the new location.\n"
     ]
    },
    {
     "name": "stdout",
     "output_type": "stream",
     "text": [
      "final shape of marks and linear position df is:\n",
      "(949765, 4, 16)\n",
      "(949765, 4)\n",
      "0\n",
      "inserting into IntervalList\n",
      "done inserting into IntervalList\n",
      "2\n",
      "inserting into IntervalList\n",
      "done inserting into IntervalList\n",
      "4\n",
      "inserting into IntervalList\n",
      "done inserting into IntervalList\n",
      "5\n",
      "inserting into IntervalList\n",
      "done inserting into IntervalList\n",
      "13\n",
      "inserting into IntervalList\n",
      "done inserting into IntervalList\n",
      "14\n",
      "inserting into IntervalList\n",
      "done inserting into IntervalList\n",
      "16\n",
      "inserting into IntervalList\n",
      "done inserting into IntervalList\n",
      "17\n",
      "inserting into IntervalList\n",
      "done inserting into IntervalList\n",
      "20\n",
      "inserting into IntervalList\n",
      "done inserting into IntervalList\n",
      "23\n",
      "inserting into IntervalList\n",
      "done inserting into IntervalList\n",
      "26\n",
      "inserting into IntervalList\n",
      "done inserting into IntervalList\n",
      "27\n",
      "inserting into IntervalList\n",
      "done inserting into IntervalList\n",
      "28\n",
      "inserting into IntervalList\n",
      "done inserting into IntervalList\n",
      "29\n",
      "inserting into IntervalList\n",
      "done inserting into IntervalList\n",
      "30\n",
      "inserting into IntervalList\n",
      "done inserting into IntervalList\n",
      "31\n",
      "inserting into IntervalList\n",
      "done inserting into IntervalList\n"
     ]
    },
    {
     "name": "stderr",
     "output_type": "stream",
     "text": [
      "[19:04:09][INFO] Spyglass: Running spike sorting on {'nwb_file_name': 'eliot20221017_.nwb', 'sort_group_id': 0, 'sort_interval_name': '06_Seq2Session3', 'preproc_params_name': 'franklab_tetrode_hippocampus', 'team_name': 'Shijie Gu', 'sorter': 'clusterless_thresholder', 'sorter_params_name': 'default', 'artifact_removed_interval_list_name': 'eliot20221017_.nwb_06_Seq2Session3_0_franklab_tetrode_hippocampus_ampl_1500_prop_075_1ms_artifact_removed_valid_times_track_time_only'}...\n",
      "03-Jul-24 19:04:09 Running spike sorting on {'nwb_file_name': 'eliot20221017_.nwb', 'sort_group_id': 0, 'sort_interval_name': '06_Seq2Session3', 'preproc_params_name': 'franklab_tetrode_hippocampus', 'team_name': 'Shijie Gu', 'sorter': 'clusterless_thresholder', 'sorter_params_name': 'default', 'artifact_removed_interval_list_name': 'eliot20221017_.nwb_06_Seq2Session3_0_franklab_tetrode_hippocampus_ampl_1500_prop_075_1ms_artifact_removed_valid_times_track_time_only'}...\n"
     ]
    },
    {
     "data": {
      "application/vnd.jupyter.widget-view+json": {
       "model_id": "e67b95a2b0b64132b0a11e70e848e3d5",
       "version_major": 2,
       "version_minor": 0
      },
      "text/plain": [
       "detect peaks using locally_exclusive:   0%|          | 0/2027 [00:00<?, ?it/s]"
      ]
     },
     "metadata": {},
     "output_type": "display_data"
    },
    {
     "name": "stderr",
     "output_type": "stream",
     "text": [
      "[19:04:19][INFO] Spyglass: Saving sorting results...\n",
      "03-Jul-24 19:04:19 Saving sorting results...\n",
      "[19:04:26][INFO] Spyglass: Running spike sorting on {'nwb_file_name': 'eliot20221017_.nwb', 'sort_group_id': 13, 'sort_interval_name': '06_Seq2Session3', 'preproc_params_name': 'franklab_tetrode_hippocampus', 'team_name': 'Shijie Gu', 'sorter': 'clusterless_thresholder', 'sorter_params_name': 'default', 'artifact_removed_interval_list_name': 'eliot20221017_.nwb_06_Seq2Session3_13_franklab_tetrode_hippocampus_ampl_1500_prop_075_1ms_artifact_removed_valid_times_track_time_only'}...\n",
      "03-Jul-24 19:04:26 Running spike sorting on {'nwb_file_name': 'eliot20221017_.nwb', 'sort_group_id': 13, 'sort_interval_name': '06_Seq2Session3', 'preproc_params_name': 'franklab_tetrode_hippocampus', 'team_name': 'Shijie Gu', 'sorter': 'clusterless_thresholder', 'sorter_params_name': 'default', 'artifact_removed_interval_list_name': 'eliot20221017_.nwb_06_Seq2Session3_13_franklab_tetrode_hippocampus_ampl_1500_prop_075_1ms_artifact_removed_valid_times_track_time_only'}...\n"
     ]
    },
    {
     "data": {
      "application/vnd.jupyter.widget-view+json": {
       "model_id": "f7a0a4f39bfb4c7db0f04a2c3eb2a5ca",
       "version_major": 2,
       "version_minor": 0
      },
      "text/plain": [
       "detect peaks using locally_exclusive:   0%|          | 0/2027 [00:00<?, ?it/s]"
      ]
     },
     "metadata": {},
     "output_type": "display_data"
    },
    {
     "name": "stderr",
     "output_type": "stream",
     "text": [
      "[19:04:32][INFO] Spyglass: Saving sorting results...\n",
      "03-Jul-24 19:04:32 Saving sorting results...\n",
      "[19:04:35][INFO] Spyglass: Running spike sorting on {'nwb_file_name': 'eliot20221017_.nwb', 'sort_group_id': 14, 'sort_interval_name': '06_Seq2Session3', 'preproc_params_name': 'franklab_tetrode_hippocampus', 'team_name': 'Shijie Gu', 'sorter': 'clusterless_thresholder', 'sorter_params_name': 'default', 'artifact_removed_interval_list_name': 'eliot20221017_.nwb_06_Seq2Session3_14_franklab_tetrode_hippocampus_ampl_1500_prop_075_1ms_artifact_removed_valid_times_track_time_only'}...\n",
      "03-Jul-24 19:04:35 Running spike sorting on {'nwb_file_name': 'eliot20221017_.nwb', 'sort_group_id': 14, 'sort_interval_name': '06_Seq2Session3', 'preproc_params_name': 'franklab_tetrode_hippocampus', 'team_name': 'Shijie Gu', 'sorter': 'clusterless_thresholder', 'sorter_params_name': 'default', 'artifact_removed_interval_list_name': 'eliot20221017_.nwb_06_Seq2Session3_14_franklab_tetrode_hippocampus_ampl_1500_prop_075_1ms_artifact_removed_valid_times_track_time_only'}...\n"
     ]
    },
    {
     "data": {
      "application/vnd.jupyter.widget-view+json": {
       "model_id": "34662a66d4ce4abeaf1138f1135797b2",
       "version_major": 2,
       "version_minor": 0
      },
      "text/plain": [
       "detect peaks using locally_exclusive:   0%|          | 0/2027 [00:00<?, ?it/s]"
      ]
     },
     "metadata": {},
     "output_type": "display_data"
    },
    {
     "name": "stderr",
     "output_type": "stream",
     "text": [
      "[19:04:40][INFO] Spyglass: Saving sorting results...\n",
      "03-Jul-24 19:04:40 Saving sorting results...\n",
      "[19:04:45][INFO] Spyglass: Running spike sorting on {'nwb_file_name': 'eliot20221017_.nwb', 'sort_group_id': 16, 'sort_interval_name': '06_Seq2Session3', 'preproc_params_name': 'franklab_tetrode_hippocampus', 'team_name': 'Shijie Gu', 'sorter': 'clusterless_thresholder', 'sorter_params_name': 'default', 'artifact_removed_interval_list_name': 'eliot20221017_.nwb_06_Seq2Session3_16_franklab_tetrode_hippocampus_ampl_1500_prop_075_1ms_artifact_removed_valid_times_track_time_only'}...\n",
      "03-Jul-24 19:04:45 Running spike sorting on {'nwb_file_name': 'eliot20221017_.nwb', 'sort_group_id': 16, 'sort_interval_name': '06_Seq2Session3', 'preproc_params_name': 'franklab_tetrode_hippocampus', 'team_name': 'Shijie Gu', 'sorter': 'clusterless_thresholder', 'sorter_params_name': 'default', 'artifact_removed_interval_list_name': 'eliot20221017_.nwb_06_Seq2Session3_16_franklab_tetrode_hippocampus_ampl_1500_prop_075_1ms_artifact_removed_valid_times_track_time_only'}...\n"
     ]
    },
    {
     "data": {
      "application/vnd.jupyter.widget-view+json": {
       "model_id": "98f27e1dcd8c4a2d965fe3c8df0bf99e",
       "version_major": 2,
       "version_minor": 0
      },
      "text/plain": [
       "detect peaks using locally_exclusive:   0%|          | 0/2027 [00:00<?, ?it/s]"
      ]
     },
     "metadata": {},
     "output_type": "display_data"
    },
    {
     "name": "stderr",
     "output_type": "stream",
     "text": [
      "[19:04:52][INFO] Spyglass: Saving sorting results...\n",
      "03-Jul-24 19:04:52 Saving sorting results...\n",
      "[19:04:58][INFO] Spyglass: Running spike sorting on {'nwb_file_name': 'eliot20221017_.nwb', 'sort_group_id': 17, 'sort_interval_name': '06_Seq2Session3', 'preproc_params_name': 'franklab_tetrode_hippocampus', 'team_name': 'Shijie Gu', 'sorter': 'clusterless_thresholder', 'sorter_params_name': 'default', 'artifact_removed_interval_list_name': 'eliot20221017_.nwb_06_Seq2Session3_17_franklab_tetrode_hippocampus_ampl_1500_prop_075_1ms_artifact_removed_valid_times_track_time_only'}...\n",
      "03-Jul-24 19:04:58 Running spike sorting on {'nwb_file_name': 'eliot20221017_.nwb', 'sort_group_id': 17, 'sort_interval_name': '06_Seq2Session3', 'preproc_params_name': 'franklab_tetrode_hippocampus', 'team_name': 'Shijie Gu', 'sorter': 'clusterless_thresholder', 'sorter_params_name': 'default', 'artifact_removed_interval_list_name': 'eliot20221017_.nwb_06_Seq2Session3_17_franklab_tetrode_hippocampus_ampl_1500_prop_075_1ms_artifact_removed_valid_times_track_time_only'}...\n"
     ]
    },
    {
     "data": {
      "application/vnd.jupyter.widget-view+json": {
       "model_id": "cac80b7b5c5b4289a6f3cdfa19b7adca",
       "version_major": 2,
       "version_minor": 0
      },
      "text/plain": [
       "detect peaks using locally_exclusive:   0%|          | 0/2027 [00:00<?, ?it/s]"
      ]
     },
     "metadata": {},
     "output_type": "display_data"
    },
    {
     "name": "stderr",
     "output_type": "stream",
     "text": [
      "[19:05:04][INFO] Spyglass: Saving sorting results...\n",
      "03-Jul-24 19:05:04 Saving sorting results...\n",
      "[19:05:11][INFO] Spyglass: Running spike sorting on {'nwb_file_name': 'eliot20221017_.nwb', 'sort_group_id': 20, 'sort_interval_name': '06_Seq2Session3', 'preproc_params_name': 'franklab_tetrode_hippocampus', 'team_name': 'Shijie Gu', 'sorter': 'clusterless_thresholder', 'sorter_params_name': 'default', 'artifact_removed_interval_list_name': 'eliot20221017_.nwb_06_Seq2Session3_20_franklab_tetrode_hippocampus_ampl_1500_prop_075_1ms_artifact_removed_valid_times_track_time_only'}...\n",
      "03-Jul-24 19:05:11 Running spike sorting on {'nwb_file_name': 'eliot20221017_.nwb', 'sort_group_id': 20, 'sort_interval_name': '06_Seq2Session3', 'preproc_params_name': 'franklab_tetrode_hippocampus', 'team_name': 'Shijie Gu', 'sorter': 'clusterless_thresholder', 'sorter_params_name': 'default', 'artifact_removed_interval_list_name': 'eliot20221017_.nwb_06_Seq2Session3_20_franklab_tetrode_hippocampus_ampl_1500_prop_075_1ms_artifact_removed_valid_times_track_time_only'}...\n"
     ]
    },
    {
     "data": {
      "application/vnd.jupyter.widget-view+json": {
       "model_id": "ab025e55d8914df898522a7f5bba4f64",
       "version_major": 2,
       "version_minor": 0
      },
      "text/plain": [
       "detect peaks using locally_exclusive:   0%|          | 0/2027 [00:00<?, ?it/s]"
      ]
     },
     "metadata": {},
     "output_type": "display_data"
    },
    {
     "name": "stderr",
     "output_type": "stream",
     "text": [
      "[19:05:17][INFO] Spyglass: Saving sorting results...\n",
      "03-Jul-24 19:05:17 Saving sorting results...\n",
      "[19:05:22][INFO] Spyglass: Running spike sorting on {'nwb_file_name': 'eliot20221017_.nwb', 'sort_group_id': 23, 'sort_interval_name': '06_Seq2Session3', 'preproc_params_name': 'franklab_tetrode_hippocampus', 'team_name': 'Shijie Gu', 'sorter': 'clusterless_thresholder', 'sorter_params_name': 'default', 'artifact_removed_interval_list_name': 'eliot20221017_.nwb_06_Seq2Session3_23_franklab_tetrode_hippocampus_ampl_1500_prop_075_1ms_artifact_removed_valid_times_track_time_only'}...\n",
      "03-Jul-24 19:05:22 Running spike sorting on {'nwb_file_name': 'eliot20221017_.nwb', 'sort_group_id': 23, 'sort_interval_name': '06_Seq2Session3', 'preproc_params_name': 'franklab_tetrode_hippocampus', 'team_name': 'Shijie Gu', 'sorter': 'clusterless_thresholder', 'sorter_params_name': 'default', 'artifact_removed_interval_list_name': 'eliot20221017_.nwb_06_Seq2Session3_23_franklab_tetrode_hippocampus_ampl_1500_prop_075_1ms_artifact_removed_valid_times_track_time_only'}...\n"
     ]
    },
    {
     "data": {
      "application/vnd.jupyter.widget-view+json": {
       "model_id": "54dc01bbdba348e8badb954d82bf56f9",
       "version_major": 2,
       "version_minor": 0
      },
      "text/plain": [
       "detect peaks using locally_exclusive:   0%|          | 0/2027 [00:00<?, ?it/s]"
      ]
     },
     "metadata": {},
     "output_type": "display_data"
    },
    {
     "name": "stderr",
     "output_type": "stream",
     "text": [
      "[19:05:28][INFO] Spyglass: Saving sorting results...\n",
      "03-Jul-24 19:05:28 Saving sorting results...\n",
      "[19:05:32][INFO] Spyglass: Running spike sorting on {'nwb_file_name': 'eliot20221017_.nwb', 'sort_group_id': 26, 'sort_interval_name': '06_Seq2Session3', 'preproc_params_name': 'franklab_tetrode_hippocampus', 'team_name': 'Shijie Gu', 'sorter': 'clusterless_thresholder', 'sorter_params_name': 'default', 'artifact_removed_interval_list_name': 'eliot20221017_.nwb_06_Seq2Session3_26_franklab_tetrode_hippocampus_ampl_1500_prop_075_1ms_artifact_removed_valid_times_track_time_only'}...\n",
      "03-Jul-24 19:05:32 Running spike sorting on {'nwb_file_name': 'eliot20221017_.nwb', 'sort_group_id': 26, 'sort_interval_name': '06_Seq2Session3', 'preproc_params_name': 'franklab_tetrode_hippocampus', 'team_name': 'Shijie Gu', 'sorter': 'clusterless_thresholder', 'sorter_params_name': 'default', 'artifact_removed_interval_list_name': 'eliot20221017_.nwb_06_Seq2Session3_26_franklab_tetrode_hippocampus_ampl_1500_prop_075_1ms_artifact_removed_valid_times_track_time_only'}...\n"
     ]
    },
    {
     "data": {
      "application/vnd.jupyter.widget-view+json": {
       "model_id": "4f7532e489354d7691c37fafe3a0aa6b",
       "version_major": 2,
       "version_minor": 0
      },
      "text/plain": [
       "detect peaks using locally_exclusive:   0%|          | 0/2027 [00:00<?, ?it/s]"
      ]
     },
     "metadata": {},
     "output_type": "display_data"
    },
    {
     "name": "stderr",
     "output_type": "stream",
     "text": [
      "[19:05:38][INFO] Spyglass: Saving sorting results...\n",
      "03-Jul-24 19:05:38 Saving sorting results...\n",
      "[19:05:46][INFO] Spyglass: Running spike sorting on {'nwb_file_name': 'eliot20221017_.nwb', 'sort_group_id': 27, 'sort_interval_name': '06_Seq2Session3', 'preproc_params_name': 'franklab_tetrode_hippocampus', 'team_name': 'Shijie Gu', 'sorter': 'clusterless_thresholder', 'sorter_params_name': 'default', 'artifact_removed_interval_list_name': 'eliot20221017_.nwb_06_Seq2Session3_27_franklab_tetrode_hippocampus_ampl_1500_prop_075_1ms_artifact_removed_valid_times_track_time_only'}...\n",
      "03-Jul-24 19:05:46 Running spike sorting on {'nwb_file_name': 'eliot20221017_.nwb', 'sort_group_id': 27, 'sort_interval_name': '06_Seq2Session3', 'preproc_params_name': 'franklab_tetrode_hippocampus', 'team_name': 'Shijie Gu', 'sorter': 'clusterless_thresholder', 'sorter_params_name': 'default', 'artifact_removed_interval_list_name': 'eliot20221017_.nwb_06_Seq2Session3_27_franklab_tetrode_hippocampus_ampl_1500_prop_075_1ms_artifact_removed_valid_times_track_time_only'}...\n"
     ]
    },
    {
     "data": {
      "application/vnd.jupyter.widget-view+json": {
       "model_id": "4061f8e9b4504ec28805dbbb3b572973",
       "version_major": 2,
       "version_minor": 0
      },
      "text/plain": [
       "detect peaks using locally_exclusive:   0%|          | 0/2027 [00:00<?, ?it/s]"
      ]
     },
     "metadata": {},
     "output_type": "display_data"
    },
    {
     "name": "stderr",
     "output_type": "stream",
     "text": [
      "[19:05:57][INFO] Spyglass: Saving sorting results...\n",
      "03-Jul-24 19:05:57 Saving sorting results...\n",
      "[19:06:01][INFO] Spyglass: Running spike sorting on {'nwb_file_name': 'eliot20221017_.nwb', 'sort_group_id': 28, 'sort_interval_name': '06_Seq2Session3', 'preproc_params_name': 'franklab_tetrode_hippocampus', 'team_name': 'Shijie Gu', 'sorter': 'clusterless_thresholder', 'sorter_params_name': 'default', 'artifact_removed_interval_list_name': 'eliot20221017_.nwb_06_Seq2Session3_28_franklab_tetrode_hippocampus_ampl_1500_prop_075_1ms_artifact_removed_valid_times_track_time_only'}...\n",
      "03-Jul-24 19:06:01 Running spike sorting on {'nwb_file_name': 'eliot20221017_.nwb', 'sort_group_id': 28, 'sort_interval_name': '06_Seq2Session3', 'preproc_params_name': 'franklab_tetrode_hippocampus', 'team_name': 'Shijie Gu', 'sorter': 'clusterless_thresholder', 'sorter_params_name': 'default', 'artifact_removed_interval_list_name': 'eliot20221017_.nwb_06_Seq2Session3_28_franklab_tetrode_hippocampus_ampl_1500_prop_075_1ms_artifact_removed_valid_times_track_time_only'}...\n"
     ]
    },
    {
     "data": {
      "application/vnd.jupyter.widget-view+json": {
       "model_id": "a28d828e03c045539ef4fe8e9406e10b",
       "version_major": 2,
       "version_minor": 0
      },
      "text/plain": [
       "detect peaks using locally_exclusive:   0%|          | 0/2027 [00:00<?, ?it/s]"
      ]
     },
     "metadata": {},
     "output_type": "display_data"
    },
    {
     "name": "stderr",
     "output_type": "stream",
     "text": [
      "[19:06:07][INFO] Spyglass: Saving sorting results...\n",
      "03-Jul-24 19:06:07 Saving sorting results...\n",
      "[19:06:11][INFO] Spyglass: Running spike sorting on {'nwb_file_name': 'eliot20221017_.nwb', 'sort_group_id': 29, 'sort_interval_name': '06_Seq2Session3', 'preproc_params_name': 'franklab_tetrode_hippocampus', 'team_name': 'Shijie Gu', 'sorter': 'clusterless_thresholder', 'sorter_params_name': 'default', 'artifact_removed_interval_list_name': 'eliot20221017_.nwb_06_Seq2Session3_29_franklab_tetrode_hippocampus_ampl_1500_prop_075_1ms_artifact_removed_valid_times_track_time_only'}...\n",
      "03-Jul-24 19:06:11 Running spike sorting on {'nwb_file_name': 'eliot20221017_.nwb', 'sort_group_id': 29, 'sort_interval_name': '06_Seq2Session3', 'preproc_params_name': 'franklab_tetrode_hippocampus', 'team_name': 'Shijie Gu', 'sorter': 'clusterless_thresholder', 'sorter_params_name': 'default', 'artifact_removed_interval_list_name': 'eliot20221017_.nwb_06_Seq2Session3_29_franklab_tetrode_hippocampus_ampl_1500_prop_075_1ms_artifact_removed_valid_times_track_time_only'}...\n"
     ]
    },
    {
     "data": {
      "application/vnd.jupyter.widget-view+json": {
       "model_id": "c2894f11691a4442aa492da95db7c9d0",
       "version_major": 2,
       "version_minor": 0
      },
      "text/plain": [
       "detect peaks using locally_exclusive:   0%|          | 0/2027 [00:00<?, ?it/s]"
      ]
     },
     "metadata": {},
     "output_type": "display_data"
    },
    {
     "name": "stderr",
     "output_type": "stream",
     "text": [
      "[19:06:15][INFO] Spyglass: Saving sorting results...\n",
      "03-Jul-24 19:06:15 Saving sorting results...\n",
      "[19:06:19][INFO] Spyglass: Running spike sorting on {'nwb_file_name': 'eliot20221017_.nwb', 'sort_group_id': 2, 'sort_interval_name': '06_Seq2Session3', 'preproc_params_name': 'franklab_tetrode_hippocampus', 'team_name': 'Shijie Gu', 'sorter': 'clusterless_thresholder', 'sorter_params_name': 'default', 'artifact_removed_interval_list_name': 'eliot20221017_.nwb_06_Seq2Session3_2_franklab_tetrode_hippocampus_ampl_1500_prop_075_1ms_artifact_removed_valid_times_track_time_only'}...\n",
      "03-Jul-24 19:06:19 Running spike sorting on {'nwb_file_name': 'eliot20221017_.nwb', 'sort_group_id': 2, 'sort_interval_name': '06_Seq2Session3', 'preproc_params_name': 'franklab_tetrode_hippocampus', 'team_name': 'Shijie Gu', 'sorter': 'clusterless_thresholder', 'sorter_params_name': 'default', 'artifact_removed_interval_list_name': 'eliot20221017_.nwb_06_Seq2Session3_2_franklab_tetrode_hippocampus_ampl_1500_prop_075_1ms_artifact_removed_valid_times_track_time_only'}...\n"
     ]
    },
    {
     "data": {
      "application/vnd.jupyter.widget-view+json": {
       "model_id": "02eb381c7ec74fc396c6855470ebb2ed",
       "version_major": 2,
       "version_minor": 0
      },
      "text/plain": [
       "detect peaks using locally_exclusive:   0%|          | 0/2027 [00:00<?, ?it/s]"
      ]
     },
     "metadata": {},
     "output_type": "display_data"
    },
    {
     "name": "stderr",
     "output_type": "stream",
     "text": [
      "[19:06:26][INFO] Spyglass: Saving sorting results...\n",
      "03-Jul-24 19:06:26 Saving sorting results...\n",
      "[19:06:31][INFO] Spyglass: Running spike sorting on {'nwb_file_name': 'eliot20221017_.nwb', 'sort_group_id': 30, 'sort_interval_name': '06_Seq2Session3', 'preproc_params_name': 'franklab_tetrode_hippocampus', 'team_name': 'Shijie Gu', 'sorter': 'clusterless_thresholder', 'sorter_params_name': 'default', 'artifact_removed_interval_list_name': 'eliot20221017_.nwb_06_Seq2Session3_30_franklab_tetrode_hippocampus_ampl_1500_prop_075_1ms_artifact_removed_valid_times_track_time_only'}...\n",
      "03-Jul-24 19:06:31 Running spike sorting on {'nwb_file_name': 'eliot20221017_.nwb', 'sort_group_id': 30, 'sort_interval_name': '06_Seq2Session3', 'preproc_params_name': 'franklab_tetrode_hippocampus', 'team_name': 'Shijie Gu', 'sorter': 'clusterless_thresholder', 'sorter_params_name': 'default', 'artifact_removed_interval_list_name': 'eliot20221017_.nwb_06_Seq2Session3_30_franklab_tetrode_hippocampus_ampl_1500_prop_075_1ms_artifact_removed_valid_times_track_time_only'}...\n"
     ]
    },
    {
     "data": {
      "application/vnd.jupyter.widget-view+json": {
       "model_id": "8af89bf37f5a4f76a26a06e6f4ecf357",
       "version_major": 2,
       "version_minor": 0
      },
      "text/plain": [
       "detect peaks using locally_exclusive:   0%|          | 0/2027 [00:00<?, ?it/s]"
      ]
     },
     "metadata": {},
     "output_type": "display_data"
    },
    {
     "name": "stderr",
     "output_type": "stream",
     "text": [
      "[19:06:37][INFO] Spyglass: Saving sorting results...\n",
      "03-Jul-24 19:06:37 Saving sorting results...\n",
      "[19:06:44][INFO] Spyglass: Running spike sorting on {'nwb_file_name': 'eliot20221017_.nwb', 'sort_group_id': 31, 'sort_interval_name': '06_Seq2Session3', 'preproc_params_name': 'franklab_tetrode_hippocampus', 'team_name': 'Shijie Gu', 'sorter': 'clusterless_thresholder', 'sorter_params_name': 'default', 'artifact_removed_interval_list_name': 'eliot20221017_.nwb_06_Seq2Session3_31_franklab_tetrode_hippocampus_ampl_1500_prop_075_1ms_artifact_removed_valid_times_track_time_only'}...\n",
      "03-Jul-24 19:06:44 Running spike sorting on {'nwb_file_name': 'eliot20221017_.nwb', 'sort_group_id': 31, 'sort_interval_name': '06_Seq2Session3', 'preproc_params_name': 'franklab_tetrode_hippocampus', 'team_name': 'Shijie Gu', 'sorter': 'clusterless_thresholder', 'sorter_params_name': 'default', 'artifact_removed_interval_list_name': 'eliot20221017_.nwb_06_Seq2Session3_31_franklab_tetrode_hippocampus_ampl_1500_prop_075_1ms_artifact_removed_valid_times_track_time_only'}...\n"
     ]
    },
    {
     "data": {
      "application/vnd.jupyter.widget-view+json": {
       "model_id": "3e223c0cd4ee489b97c1cc63449988f0",
       "version_major": 2,
       "version_minor": 0
      },
      "text/plain": [
       "detect peaks using locally_exclusive:   0%|          | 0/2027 [00:00<?, ?it/s]"
      ]
     },
     "metadata": {},
     "output_type": "display_data"
    },
    {
     "name": "stderr",
     "output_type": "stream",
     "text": [
      "[19:06:52][INFO] Spyglass: Saving sorting results...\n",
      "03-Jul-24 19:06:52 Saving sorting results...\n",
      "[19:06:57][INFO] Spyglass: Running spike sorting on {'nwb_file_name': 'eliot20221017_.nwb', 'sort_group_id': 4, 'sort_interval_name': '06_Seq2Session3', 'preproc_params_name': 'franklab_tetrode_hippocampus', 'team_name': 'Shijie Gu', 'sorter': 'clusterless_thresholder', 'sorter_params_name': 'default', 'artifact_removed_interval_list_name': 'eliot20221017_.nwb_06_Seq2Session3_4_franklab_tetrode_hippocampus_ampl_1500_prop_075_1ms_artifact_removed_valid_times_track_time_only'}...\n",
      "03-Jul-24 19:06:57 Running spike sorting on {'nwb_file_name': 'eliot20221017_.nwb', 'sort_group_id': 4, 'sort_interval_name': '06_Seq2Session3', 'preproc_params_name': 'franklab_tetrode_hippocampus', 'team_name': 'Shijie Gu', 'sorter': 'clusterless_thresholder', 'sorter_params_name': 'default', 'artifact_removed_interval_list_name': 'eliot20221017_.nwb_06_Seq2Session3_4_franklab_tetrode_hippocampus_ampl_1500_prop_075_1ms_artifact_removed_valid_times_track_time_only'}...\n"
     ]
    },
    {
     "data": {
      "application/vnd.jupyter.widget-view+json": {
       "model_id": "526578d2da304d4c8eee15f797f907df",
       "version_major": 2,
       "version_minor": 0
      },
      "text/plain": [
       "detect peaks using locally_exclusive:   0%|          | 0/2027 [00:00<?, ?it/s]"
      ]
     },
     "metadata": {},
     "output_type": "display_data"
    },
    {
     "name": "stderr",
     "output_type": "stream",
     "text": [
      "[19:07:02][INFO] Spyglass: Saving sorting results...\n",
      "03-Jul-24 19:07:02 Saving sorting results...\n",
      "[19:07:06][INFO] Spyglass: Running spike sorting on {'nwb_file_name': 'eliot20221017_.nwb', 'sort_group_id': 5, 'sort_interval_name': '06_Seq2Session3', 'preproc_params_name': 'franklab_tetrode_hippocampus', 'team_name': 'Shijie Gu', 'sorter': 'clusterless_thresholder', 'sorter_params_name': 'default', 'artifact_removed_interval_list_name': 'eliot20221017_.nwb_06_Seq2Session3_5_franklab_tetrode_hippocampus_ampl_1500_prop_075_1ms_artifact_removed_valid_times_track_time_only'}...\n",
      "03-Jul-24 19:07:06 Running spike sorting on {'nwb_file_name': 'eliot20221017_.nwb', 'sort_group_id': 5, 'sort_interval_name': '06_Seq2Session3', 'preproc_params_name': 'franklab_tetrode_hippocampus', 'team_name': 'Shijie Gu', 'sorter': 'clusterless_thresholder', 'sorter_params_name': 'default', 'artifact_removed_interval_list_name': 'eliot20221017_.nwb_06_Seq2Session3_5_franklab_tetrode_hippocampus_ampl_1500_prop_075_1ms_artifact_removed_valid_times_track_time_only'}...\n"
     ]
    },
    {
     "data": {
      "application/vnd.jupyter.widget-view+json": {
       "model_id": "4a9ede6fc4af494fb3229cb0951d6f93",
       "version_major": 2,
       "version_minor": 0
      },
      "text/plain": [
       "detect peaks using locally_exclusive:   0%|          | 0/2027 [00:00<?, ?it/s]"
      ]
     },
     "metadata": {},
     "output_type": "display_data"
    },
    {
     "name": "stderr",
     "output_type": "stream",
     "text": [
      "[19:07:12][INFO] Spyglass: Saving sorting results...\n",
      "03-Jul-24 19:07:12 Saving sorting results...\n",
      "[19:08:27][INFO] Spyglass: Found 1 accepted units\n",
      "03-Jul-24 19:08:27 Found 1 accepted units\n",
      "[19:08:30][INFO] Spyglass: Writing new NWB file eliot20221017_TPKK0B6ODZ.nwb\n",
      "03-Jul-24 19:08:30 Writing new NWB file eliot20221017_TPKK0B6ODZ.nwb\n",
      "[19:08:34][INFO] Spyglass: Found 1 accepted units\n",
      "03-Jul-24 19:08:34 Found 1 accepted units\n",
      "[19:08:36][INFO] Spyglass: Writing new NWB file eliot20221017_8TH5511EO0.nwb\n",
      "03-Jul-24 19:08:36 Writing new NWB file eliot20221017_8TH5511EO0.nwb\n",
      "[19:08:40][INFO] Spyglass: Found 1 accepted units\n",
      "03-Jul-24 19:08:40 Found 1 accepted units\n",
      "[19:08:42][INFO] Spyglass: Writing new NWB file eliot20221017_DR89K0RW0A.nwb\n",
      "03-Jul-24 19:08:42 Writing new NWB file eliot20221017_DR89K0RW0A.nwb\n",
      "[19:08:46][INFO] Spyglass: Found 1 accepted units\n",
      "03-Jul-24 19:08:46 Found 1 accepted units\n",
      "[19:08:48][INFO] Spyglass: Writing new NWB file eliot20221017_AHGDXE6CUU.nwb\n",
      "03-Jul-24 19:08:48 Writing new NWB file eliot20221017_AHGDXE6CUU.nwb\n",
      "[19:08:52][INFO] Spyglass: Found 1 accepted units\n",
      "03-Jul-24 19:08:52 Found 1 accepted units\n",
      "[19:08:54][INFO] Spyglass: Writing new NWB file eliot20221017_RZ32OB9QPF.nwb\n",
      "03-Jul-24 19:08:54 Writing new NWB file eliot20221017_RZ32OB9QPF.nwb\n",
      "[19:09:01][INFO] Spyglass: Found 1 accepted units\n",
      "03-Jul-24 19:09:01 Found 1 accepted units\n",
      "[19:09:03][INFO] Spyglass: Writing new NWB file eliot20221017_WJPZZACAC1.nwb\n",
      "03-Jul-24 19:09:03 Writing new NWB file eliot20221017_WJPZZACAC1.nwb\n",
      "[19:09:07][INFO] Spyglass: Found 1 accepted units\n",
      "03-Jul-24 19:09:07 Found 1 accepted units\n",
      "[19:09:09][INFO] Spyglass: Writing new NWB file eliot20221017_HRORMUMPCD.nwb\n",
      "03-Jul-24 19:09:09 Writing new NWB file eliot20221017_HRORMUMPCD.nwb\n",
      "[19:09:13][INFO] Spyglass: Found 1 accepted units\n",
      "03-Jul-24 19:09:13 Found 1 accepted units\n",
      "[19:09:15][INFO] Spyglass: Writing new NWB file eliot20221017_T3WV2E8FZ7.nwb\n",
      "03-Jul-24 19:09:15 Writing new NWB file eliot20221017_T3WV2E8FZ7.nwb\n",
      "[19:09:19][INFO] Spyglass: Found 1 accepted units\n",
      "03-Jul-24 19:09:19 Found 1 accepted units\n",
      "[19:09:20][INFO] Spyglass: Writing new NWB file eliot20221017_8EKS5FF9HE.nwb\n",
      "03-Jul-24 19:09:20 Writing new NWB file eliot20221017_8EKS5FF9HE.nwb\n",
      "[19:09:25][INFO] Spyglass: Found 1 accepted units\n",
      "03-Jul-24 19:09:25 Found 1 accepted units\n",
      "[19:09:26][INFO] Spyglass: Writing new NWB file eliot20221017_31RM8XBN98.nwb\n",
      "03-Jul-24 19:09:26 Writing new NWB file eliot20221017_31RM8XBN98.nwb\n",
      "[19:09:31][INFO] Spyglass: Found 1 accepted units\n",
      "03-Jul-24 19:09:31 Found 1 accepted units\n",
      "[19:09:32][INFO] Spyglass: Writing new NWB file eliot20221017_DS02AZXZ3U.nwb\n",
      "03-Jul-24 19:09:32 Writing new NWB file eliot20221017_DS02AZXZ3U.nwb\n",
      "[19:09:37][INFO] Spyglass: Found 1 accepted units\n",
      "03-Jul-24 19:09:37 Found 1 accepted units\n",
      "[19:09:38][INFO] Spyglass: Writing new NWB file eliot20221017_5N3WY5686O.nwb\n",
      "03-Jul-24 19:09:38 Writing new NWB file eliot20221017_5N3WY5686O.nwb\n",
      "[19:09:42][INFO] Spyglass: Found 1 accepted units\n",
      "03-Jul-24 19:09:42 Found 1 accepted units\n",
      "[19:09:44][INFO] Spyglass: Writing new NWB file eliot20221017_2UHRYGG8U6.nwb\n",
      "03-Jul-24 19:09:44 Writing new NWB file eliot20221017_2UHRYGG8U6.nwb\n",
      "[19:09:49][INFO] Spyglass: Found 1 accepted units\n",
      "03-Jul-24 19:09:49 Found 1 accepted units\n",
      "[19:09:50][INFO] Spyglass: Writing new NWB file eliot20221017_DU9JL3IJGA.nwb\n",
      "03-Jul-24 19:09:50 Writing new NWB file eliot20221017_DU9JL3IJGA.nwb\n",
      "[19:09:57][INFO] Spyglass: Found 1 accepted units\n",
      "03-Jul-24 19:09:57 Found 1 accepted units\n",
      "[19:09:58][INFO] Spyglass: Writing new NWB file eliot20221017_TPHLER7ZYH.nwb\n",
      "03-Jul-24 19:09:58 Writing new NWB file eliot20221017_TPHLER7ZYH.nwb\n",
      "[19:10:02][INFO] Spyglass: Found 1 accepted units\n",
      "03-Jul-24 19:10:02 Found 1 accepted units\n",
      "[19:10:04][INFO] Spyglass: Writing new NWB file eliot20221017_OGMS30NFH3.nwb\n",
      "03-Jul-24 19:10:04 Writing new NWB file eliot20221017_OGMS30NFH3.nwb\n"
     ]
    },
    {
     "data": {
      "application/vnd.jupyter.widget-view+json": {
       "model_id": "9e340e21cc24438499f8951fb50017fb",
       "version_major": 2,
       "version_minor": 0
      },
      "text/plain": [
       "extract waveforms memmap:   0%|          | 0/1 [00:00<?, ?it/s]"
      ]
     },
     "metadata": {},
     "output_type": "display_data"
    },
    {
     "name": "stderr",
     "output_type": "stream",
     "text": [
      "[19:10:17][INFO] Spyglass: Writing new NWB file eliot20221017_9589QS5BMW.nwb\n",
      "03-Jul-24 19:10:17 Writing new NWB file eliot20221017_9589QS5BMW.nwb\n"
     ]
    },
    {
     "data": {
      "application/vnd.jupyter.widget-view+json": {
       "model_id": "01ec36881aeb4a2ea4960abf76667fa8",
       "version_major": 2,
       "version_minor": 0
      },
      "text/plain": [
       "extract waveforms memmap:   0%|          | 0/1 [00:00<?, ?it/s]"
      ]
     },
     "metadata": {},
     "output_type": "display_data"
    },
    {
     "name": "stderr",
     "output_type": "stream",
     "text": [
      "[19:10:27][INFO] Spyglass: Writing new NWB file eliot20221017_LCAH51Z764.nwb\n",
      "03-Jul-24 19:10:27 Writing new NWB file eliot20221017_LCAH51Z764.nwb\n"
     ]
    },
    {
     "data": {
      "application/vnd.jupyter.widget-view+json": {
       "model_id": "42375cc042d94859a274c8b87f9ba92c",
       "version_major": 2,
       "version_minor": 0
      },
      "text/plain": [
       "extract waveforms memmap:   0%|          | 0/1 [00:00<?, ?it/s]"
      ]
     },
     "metadata": {},
     "output_type": "display_data"
    },
    {
     "name": "stderr",
     "output_type": "stream",
     "text": [
      "[19:10:37][INFO] Spyglass: Writing new NWB file eliot20221017_194E4CF5ZK.nwb\n",
      "03-Jul-24 19:10:37 Writing new NWB file eliot20221017_194E4CF5ZK.nwb\n"
     ]
    },
    {
     "data": {
      "application/vnd.jupyter.widget-view+json": {
       "model_id": "3025215d63af4fd08f5494bb52cc61e5",
       "version_major": 2,
       "version_minor": 0
      },
      "text/plain": [
       "extract waveforms memmap:   0%|          | 0/1 [00:00<?, ?it/s]"
      ]
     },
     "metadata": {},
     "output_type": "display_data"
    },
    {
     "name": "stderr",
     "output_type": "stream",
     "text": [
      "[19:10:46][INFO] Spyglass: Writing new NWB file eliot20221017_59PZJP74ZP.nwb\n",
      "03-Jul-24 19:10:46 Writing new NWB file eliot20221017_59PZJP74ZP.nwb\n"
     ]
    },
    {
     "data": {
      "application/vnd.jupyter.widget-view+json": {
       "model_id": "f99637fc5fdd43919e9fb25dba6b8d84",
       "version_major": 2,
       "version_minor": 0
      },
      "text/plain": [
       "extract waveforms memmap:   0%|          | 0/1 [00:00<?, ?it/s]"
      ]
     },
     "metadata": {},
     "output_type": "display_data"
    },
    {
     "name": "stderr",
     "output_type": "stream",
     "text": [
      "[19:10:59][INFO] Spyglass: Writing new NWB file eliot20221017_QB3IIR3NTU.nwb\n",
      "03-Jul-24 19:10:59 Writing new NWB file eliot20221017_QB3IIR3NTU.nwb\n"
     ]
    },
    {
     "data": {
      "application/vnd.jupyter.widget-view+json": {
       "model_id": "f36ab564e38c460fb680b3bebe08deeb",
       "version_major": 2,
       "version_minor": 0
      },
      "text/plain": [
       "extract waveforms memmap:   0%|          | 0/1 [00:00<?, ?it/s]"
      ]
     },
     "metadata": {},
     "output_type": "display_data"
    },
    {
     "name": "stderr",
     "output_type": "stream",
     "text": [
      "[19:11:09][INFO] Spyglass: Writing new NWB file eliot20221017_4TR6Q02VCZ.nwb\n",
      "03-Jul-24 19:11:09 Writing new NWB file eliot20221017_4TR6Q02VCZ.nwb\n"
     ]
    },
    {
     "data": {
      "application/vnd.jupyter.widget-view+json": {
       "model_id": "8e6ea0e9781642cca48b1e6e98a53136",
       "version_major": 2,
       "version_minor": 0
      },
      "text/plain": [
       "extract waveforms memmap:   0%|          | 0/1 [00:00<?, ?it/s]"
      ]
     },
     "metadata": {},
     "output_type": "display_data"
    },
    {
     "name": "stderr",
     "output_type": "stream",
     "text": [
      "[19:11:19][INFO] Spyglass: Writing new NWB file eliot20221017_0PGIXQ991K.nwb\n",
      "03-Jul-24 19:11:19 Writing new NWB file eliot20221017_0PGIXQ991K.nwb\n"
     ]
    },
    {
     "data": {
      "application/vnd.jupyter.widget-view+json": {
       "model_id": "16b3933fcf7d419f82ff481271d61bfe",
       "version_major": 2,
       "version_minor": 0
      },
      "text/plain": [
       "extract waveforms memmap:   0%|          | 0/1 [00:00<?, ?it/s]"
      ]
     },
     "metadata": {},
     "output_type": "display_data"
    },
    {
     "name": "stderr",
     "output_type": "stream",
     "text": [
      "[19:11:31][INFO] Spyglass: Writing new NWB file eliot20221017_T640MHGU9Z.nwb\n",
      "03-Jul-24 19:11:31 Writing new NWB file eliot20221017_T640MHGU9Z.nwb\n"
     ]
    },
    {
     "data": {
      "application/vnd.jupyter.widget-view+json": {
       "model_id": "7f29851e80a44347b63c256b8c5e74f9",
       "version_major": 2,
       "version_minor": 0
      },
      "text/plain": [
       "extract waveforms memmap:   0%|          | 0/1 [00:00<?, ?it/s]"
      ]
     },
     "metadata": {},
     "output_type": "display_data"
    },
    {
     "name": "stderr",
     "output_type": "stream",
     "text": [
      "[19:11:42][INFO] Spyglass: Writing new NWB file eliot20221017_XRJ2H9CICV.nwb\n",
      "03-Jul-24 19:11:42 Writing new NWB file eliot20221017_XRJ2H9CICV.nwb\n"
     ]
    },
    {
     "data": {
      "application/vnd.jupyter.widget-view+json": {
       "model_id": "1d23c21d79be4fa88bee40365b1c30b0",
       "version_major": 2,
       "version_minor": 0
      },
      "text/plain": [
       "extract waveforms memmap:   0%|          | 0/1 [00:00<?, ?it/s]"
      ]
     },
     "metadata": {},
     "output_type": "display_data"
    },
    {
     "name": "stderr",
     "output_type": "stream",
     "text": [
      "[19:11:52][INFO] Spyglass: Writing new NWB file eliot20221017_27E3ATY6X2.nwb\n",
      "03-Jul-24 19:11:52 Writing new NWB file eliot20221017_27E3ATY6X2.nwb\n"
     ]
    },
    {
     "data": {
      "application/vnd.jupyter.widget-view+json": {
       "model_id": "beee9f32f03944afb0b0a0f659ba599c",
       "version_major": 2,
       "version_minor": 0
      },
      "text/plain": [
       "extract waveforms memmap:   0%|          | 0/1 [00:00<?, ?it/s]"
      ]
     },
     "metadata": {},
     "output_type": "display_data"
    },
    {
     "name": "stderr",
     "output_type": "stream",
     "text": [
      "[19:12:02][INFO] Spyglass: Writing new NWB file eliot20221017_X9XVZLV2QE.nwb\n",
      "03-Jul-24 19:12:02 Writing new NWB file eliot20221017_X9XVZLV2QE.nwb\n"
     ]
    },
    {
     "data": {
      "application/vnd.jupyter.widget-view+json": {
       "model_id": "805f21093c6a49d4ad5f1915e54c4b2d",
       "version_major": 2,
       "version_minor": 0
      },
      "text/plain": [
       "extract waveforms memmap:   0%|          | 0/1 [00:00<?, ?it/s]"
      ]
     },
     "metadata": {},
     "output_type": "display_data"
    },
    {
     "name": "stderr",
     "output_type": "stream",
     "text": [
      "[19:12:12][INFO] Spyglass: Writing new NWB file eliot20221017_6PIKG8M97X.nwb\n",
      "03-Jul-24 19:12:12 Writing new NWB file eliot20221017_6PIKG8M97X.nwb\n"
     ]
    },
    {
     "data": {
      "application/vnd.jupyter.widget-view+json": {
       "model_id": "a04a470b7c764a3abf7cd64665a3c2e5",
       "version_major": 2,
       "version_minor": 0
      },
      "text/plain": [
       "extract waveforms memmap:   0%|          | 0/1 [00:00<?, ?it/s]"
      ]
     },
     "metadata": {},
     "output_type": "display_data"
    },
    {
     "name": "stderr",
     "output_type": "stream",
     "text": [
      "[19:12:21][INFO] Spyglass: Writing new NWB file eliot20221017_GCROUPY2U1.nwb\n",
      "03-Jul-24 19:12:21 Writing new NWB file eliot20221017_GCROUPY2U1.nwb\n"
     ]
    },
    {
     "data": {
      "application/vnd.jupyter.widget-view+json": {
       "model_id": "5ad5c3150eea4b8c83e021e9d232ba2e",
       "version_major": 2,
       "version_minor": 0
      },
      "text/plain": [
       "extract waveforms memmap:   0%|          | 0/1 [00:00<?, ?it/s]"
      ]
     },
     "metadata": {},
     "output_type": "display_data"
    },
    {
     "name": "stderr",
     "output_type": "stream",
     "text": [
      "[19:12:31][INFO] Spyglass: Writing new NWB file eliot20221017_VUWKVISK87.nwb\n",
      "03-Jul-24 19:12:31 Writing new NWB file eliot20221017_VUWKVISK87.nwb\n"
     ]
    },
    {
     "data": {
      "application/vnd.jupyter.widget-view+json": {
       "model_id": "1a55a188073a4cc681e190b8162174be",
       "version_major": 2,
       "version_minor": 0
      },
      "text/plain": [
       "extract waveforms memmap:   0%|          | 0/1 [00:00<?, ?it/s]"
      ]
     },
     "metadata": {},
     "output_type": "display_data"
    },
    {
     "name": "stderr",
     "output_type": "stream",
     "text": [
      "[19:12:40][INFO] Spyglass: Writing new NWB file eliot20221017_XI2CHT12YD.nwb\n",
      "03-Jul-24 19:12:40 Writing new NWB file eliot20221017_XI2CHT12YD.nwb\n"
     ]
    },
    {
     "data": {
      "application/vnd.jupyter.widget-view+json": {
       "model_id": "40220b52f3624fd6a2e768eddb3d25f8",
       "version_major": 2,
       "version_minor": 0
      },
      "text/plain": [
       "extract waveforms memmap:   0%|          | 0/1 [00:00<?, ?it/s]"
      ]
     },
     "metadata": {},
     "output_type": "display_data"
    },
    {
     "name": "stderr",
     "output_type": "stream",
     "text": [
      "[19:12:51][INFO] Spyglass: Writing new NWB file eliot20221017_KK84PHZBUV.nwb\n",
      "03-Jul-24 19:12:51 Writing new NWB file eliot20221017_KK84PHZBUV.nwb\n",
      "[19:12:56][INFO] Spyglass: Writing new NWB file eliot20221017_WEA7MK2M8T.nwb\n",
      "03-Jul-24 19:12:56 Writing new NWB file eliot20221017_WEA7MK2M8T.nwb\n",
      "[19:13:11][INFO] Spyglass: Writing new NWB file eliot20221017_3PPZGVB8TU.nwb\n",
      "03-Jul-24 19:13:11 Writing new NWB file eliot20221017_3PPZGVB8TU.nwb\n",
      "[19:13:25][INFO] Spyglass: Writing new NWB file eliot20221017_VDZOVFYKQK.nwb\n",
      "03-Jul-24 19:13:25 Writing new NWB file eliot20221017_VDZOVFYKQK.nwb\n",
      "[19:13:39][INFO] Spyglass: Writing new NWB file eliot20221017_VK0MMXD8T7.nwb\n",
      "03-Jul-24 19:13:39 Writing new NWB file eliot20221017_VK0MMXD8T7.nwb\n",
      "[19:13:53][INFO] Spyglass: Writing new NWB file eliot20221017_6CH9JEDEEW.nwb\n",
      "03-Jul-24 19:13:53 Writing new NWB file eliot20221017_6CH9JEDEEW.nwb\n",
      "[19:14:07][INFO] Spyglass: Writing new NWB file eliot20221017_KIWNBEKFC6.nwb\n",
      "03-Jul-24 19:14:07 Writing new NWB file eliot20221017_KIWNBEKFC6.nwb\n",
      "[19:14:21][INFO] Spyglass: Writing new NWB file eliot20221017_FQ7U2G4SYJ.nwb\n",
      "03-Jul-24 19:14:21 Writing new NWB file eliot20221017_FQ7U2G4SYJ.nwb\n",
      "[19:14:35][INFO] Spyglass: Writing new NWB file eliot20221017_LISF40620S.nwb\n",
      "03-Jul-24 19:14:35 Writing new NWB file eliot20221017_LISF40620S.nwb\n",
      "[19:14:53][INFO] Spyglass: Writing new NWB file eliot20221017_BDXKW5B4RI.nwb\n",
      "03-Jul-24 19:14:53 Writing new NWB file eliot20221017_BDXKW5B4RI.nwb\n",
      "[19:15:07][INFO] Spyglass: Writing new NWB file eliot20221017_OWHJ6I1GCF.nwb\n",
      "03-Jul-24 19:15:07 Writing new NWB file eliot20221017_OWHJ6I1GCF.nwb\n",
      "[19:15:22][INFO] Spyglass: Writing new NWB file eliot20221017_JK28YFYNOQ.nwb\n",
      "03-Jul-24 19:15:22 Writing new NWB file eliot20221017_JK28YFYNOQ.nwb\n",
      "[19:15:36][INFO] Spyglass: Writing new NWB file eliot20221017_JCXWPETHLQ.nwb\n",
      "03-Jul-24 19:15:36 Writing new NWB file eliot20221017_JCXWPETHLQ.nwb\n",
      "[19:15:51][INFO] Spyglass: Writing new NWB file eliot20221017_O8K7THNQ79.nwb\n",
      "03-Jul-24 19:15:51 Writing new NWB file eliot20221017_O8K7THNQ79.nwb\n",
      "[19:16:05][INFO] Spyglass: Writing new NWB file eliot20221017_8V5H9PJCL3.nwb\n",
      "03-Jul-24 19:16:05 Writing new NWB file eliot20221017_8V5H9PJCL3.nwb\n",
      "[19:16:20][INFO] Spyglass: Writing new NWB file eliot20221017_NYV614JBCJ.nwb\n",
      "03-Jul-24 19:16:20 Writing new NWB file eliot20221017_NYV614JBCJ.nwb\n",
      "[19:16:34][INFO] Spyglass: Writing new NWB file eliot20221017_XTVK7LGNP8.nwb\n",
      "03-Jul-24 19:16:34 Writing new NWB file eliot20221017_XTVK7LGNP8.nwb\n",
      "[19:17:03][WARNING] Spyglass: Deprecation: this class has been moved out of spyglass.common.common_position\n",
      "\tIntervalLinearizedPosition -> spyglass.linearization.v0.main.IntervalLinearizedPosition\n",
      "Please use the new location.\n",
      "03-Jul-24 19:17:03 Deprecation: this class has been moved out of spyglass.common.common_position\n",
      "\tIntervalLinearizedPosition -> spyglass.linearization.v0.main.IntervalLinearizedPosition\n",
      "Please use the new location.\n"
     ]
    },
    {
     "name": "stdout",
     "output_type": "stream",
     "text": [
      "final shape of marks and linear position df is:\n",
      "(983109, 4, 16)\n",
      "(983109, 4)\n",
      "0\n",
      "inserting into IntervalList\n",
      "done inserting into IntervalList\n",
      "2\n",
      "inserting into IntervalList\n",
      "done inserting into IntervalList\n",
      "4\n",
      "inserting into IntervalList\n",
      "done inserting into IntervalList\n",
      "5\n",
      "inserting into IntervalList\n",
      "done inserting into IntervalList\n",
      "13\n",
      "inserting into IntervalList\n",
      "done inserting into IntervalList\n",
      "14\n",
      "inserting into IntervalList\n",
      "done inserting into IntervalList\n",
      "16\n",
      "inserting into IntervalList\n",
      "done inserting into IntervalList\n",
      "17\n",
      "inserting into IntervalList\n",
      "done inserting into IntervalList\n",
      "20\n",
      "inserting into IntervalList\n",
      "done inserting into IntervalList\n",
      "23\n",
      "inserting into IntervalList\n",
      "done inserting into IntervalList\n",
      "26\n",
      "inserting into IntervalList\n",
      "done inserting into IntervalList\n",
      "27\n",
      "inserting into IntervalList\n",
      "done inserting into IntervalList\n",
      "28\n",
      "inserting into IntervalList\n",
      "done inserting into IntervalList\n",
      "29\n",
      "inserting into IntervalList\n",
      "done inserting into IntervalList\n",
      "30\n",
      "inserting into IntervalList\n",
      "done inserting into IntervalList\n",
      "31\n",
      "inserting into IntervalList\n",
      "done inserting into IntervalList\n"
     ]
    },
    {
     "name": "stderr",
     "output_type": "stream",
     "text": [
      "[19:17:30][INFO] Spyglass: Running spike sorting on {'nwb_file_name': 'eliot20221017_.nwb', 'sort_group_id': 0, 'sort_interval_name': '08_Seq2Session4', 'preproc_params_name': 'franklab_tetrode_hippocampus', 'team_name': 'Shijie Gu', 'sorter': 'clusterless_thresholder', 'sorter_params_name': 'default', 'artifact_removed_interval_list_name': 'eliot20221017_.nwb_08_Seq2Session4_0_franklab_tetrode_hippocampus_ampl_1500_prop_075_1ms_artifact_removed_valid_times_track_time_only'}...\n",
      "03-Jul-24 19:17:30 Running spike sorting on {'nwb_file_name': 'eliot20221017_.nwb', 'sort_group_id': 0, 'sort_interval_name': '08_Seq2Session4', 'preproc_params_name': 'franklab_tetrode_hippocampus', 'team_name': 'Shijie Gu', 'sorter': 'clusterless_thresholder', 'sorter_params_name': 'default', 'artifact_removed_interval_list_name': 'eliot20221017_.nwb_08_Seq2Session4_0_franklab_tetrode_hippocampus_ampl_1500_prop_075_1ms_artifact_removed_valid_times_track_time_only'}...\n"
     ]
    },
    {
     "data": {
      "application/vnd.jupyter.widget-view+json": {
       "model_id": "a0c886b3145a4972b6ca4ea026df1343",
       "version_major": 2,
       "version_minor": 0
      },
      "text/plain": [
       "detect peaks using locally_exclusive:   0%|          | 0/2067 [00:00<?, ?it/s]"
      ]
     },
     "metadata": {},
     "output_type": "display_data"
    },
    {
     "name": "stderr",
     "output_type": "stream",
     "text": [
      "[19:17:36][INFO] Spyglass: Saving sorting results...\n",
      "03-Jul-24 19:17:36 Saving sorting results...\n",
      "[19:17:40][INFO] Spyglass: Running spike sorting on {'nwb_file_name': 'eliot20221017_.nwb', 'sort_group_id': 13, 'sort_interval_name': '08_Seq2Session4', 'preproc_params_name': 'franklab_tetrode_hippocampus', 'team_name': 'Shijie Gu', 'sorter': 'clusterless_thresholder', 'sorter_params_name': 'default', 'artifact_removed_interval_list_name': 'eliot20221017_.nwb_08_Seq2Session4_13_franklab_tetrode_hippocampus_ampl_1500_prop_075_1ms_artifact_removed_valid_times_track_time_only'}...\n",
      "03-Jul-24 19:17:40 Running spike sorting on {'nwb_file_name': 'eliot20221017_.nwb', 'sort_group_id': 13, 'sort_interval_name': '08_Seq2Session4', 'preproc_params_name': 'franklab_tetrode_hippocampus', 'team_name': 'Shijie Gu', 'sorter': 'clusterless_thresholder', 'sorter_params_name': 'default', 'artifact_removed_interval_list_name': 'eliot20221017_.nwb_08_Seq2Session4_13_franklab_tetrode_hippocampus_ampl_1500_prop_075_1ms_artifact_removed_valid_times_track_time_only'}...\n"
     ]
    },
    {
     "data": {
      "application/vnd.jupyter.widget-view+json": {
       "model_id": "fdaebd9d450b43dfb05d1a7084226f63",
       "version_major": 2,
       "version_minor": 0
      },
      "text/plain": [
       "detect peaks using locally_exclusive:   0%|          | 0/2067 [00:00<?, ?it/s]"
      ]
     },
     "metadata": {},
     "output_type": "display_data"
    },
    {
     "name": "stderr",
     "output_type": "stream",
     "text": [
      "[19:17:45][INFO] Spyglass: Saving sorting results...\n",
      "03-Jul-24 19:17:45 Saving sorting results...\n",
      "[19:17:51][INFO] Spyglass: Running spike sorting on {'nwb_file_name': 'eliot20221017_.nwb', 'sort_group_id': 14, 'sort_interval_name': '08_Seq2Session4', 'preproc_params_name': 'franklab_tetrode_hippocampus', 'team_name': 'Shijie Gu', 'sorter': 'clusterless_thresholder', 'sorter_params_name': 'default', 'artifact_removed_interval_list_name': 'eliot20221017_.nwb_08_Seq2Session4_14_franklab_tetrode_hippocampus_ampl_1500_prop_075_1ms_artifact_removed_valid_times_track_time_only'}...\n",
      "03-Jul-24 19:17:51 Running spike sorting on {'nwb_file_name': 'eliot20221017_.nwb', 'sort_group_id': 14, 'sort_interval_name': '08_Seq2Session4', 'preproc_params_name': 'franklab_tetrode_hippocampus', 'team_name': 'Shijie Gu', 'sorter': 'clusterless_thresholder', 'sorter_params_name': 'default', 'artifact_removed_interval_list_name': 'eliot20221017_.nwb_08_Seq2Session4_14_franklab_tetrode_hippocampus_ampl_1500_prop_075_1ms_artifact_removed_valid_times_track_time_only'}...\n"
     ]
    },
    {
     "data": {
      "application/vnd.jupyter.widget-view+json": {
       "model_id": "d48c4146242344b78979f2cb7228aff5",
       "version_major": 2,
       "version_minor": 0
      },
      "text/plain": [
       "detect peaks using locally_exclusive:   0%|          | 0/2067 [00:00<?, ?it/s]"
      ]
     },
     "metadata": {},
     "output_type": "display_data"
    },
    {
     "name": "stderr",
     "output_type": "stream",
     "text": [
      "[19:17:58][INFO] Spyglass: Saving sorting results...\n",
      "03-Jul-24 19:17:58 Saving sorting results...\n",
      "[19:18:04][INFO] Spyglass: Running spike sorting on {'nwb_file_name': 'eliot20221017_.nwb', 'sort_group_id': 16, 'sort_interval_name': '08_Seq2Session4', 'preproc_params_name': 'franklab_tetrode_hippocampus', 'team_name': 'Shijie Gu', 'sorter': 'clusterless_thresholder', 'sorter_params_name': 'default', 'artifact_removed_interval_list_name': 'eliot20221017_.nwb_08_Seq2Session4_16_franklab_tetrode_hippocampus_ampl_1500_prop_075_1ms_artifact_removed_valid_times_track_time_only'}...\n",
      "03-Jul-24 19:18:04 Running spike sorting on {'nwb_file_name': 'eliot20221017_.nwb', 'sort_group_id': 16, 'sort_interval_name': '08_Seq2Session4', 'preproc_params_name': 'franklab_tetrode_hippocampus', 'team_name': 'Shijie Gu', 'sorter': 'clusterless_thresholder', 'sorter_params_name': 'default', 'artifact_removed_interval_list_name': 'eliot20221017_.nwb_08_Seq2Session4_16_franklab_tetrode_hippocampus_ampl_1500_prop_075_1ms_artifact_removed_valid_times_track_time_only'}...\n"
     ]
    },
    {
     "data": {
      "application/vnd.jupyter.widget-view+json": {
       "model_id": "f8cf68649ae047a28dc1bbc29addd893",
       "version_major": 2,
       "version_minor": 0
      },
      "text/plain": [
       "detect peaks using locally_exclusive:   0%|          | 0/2067 [00:00<?, ?it/s]"
      ]
     },
     "metadata": {},
     "output_type": "display_data"
    },
    {
     "name": "stderr",
     "output_type": "stream",
     "text": [
      "[19:18:10][INFO] Spyglass: Saving sorting results...\n",
      "03-Jul-24 19:18:10 Saving sorting results...\n",
      "[19:18:15][INFO] Spyglass: Running spike sorting on {'nwb_file_name': 'eliot20221017_.nwb', 'sort_group_id': 17, 'sort_interval_name': '08_Seq2Session4', 'preproc_params_name': 'franklab_tetrode_hippocampus', 'team_name': 'Shijie Gu', 'sorter': 'clusterless_thresholder', 'sorter_params_name': 'default', 'artifact_removed_interval_list_name': 'eliot20221017_.nwb_08_Seq2Session4_17_franklab_tetrode_hippocampus_ampl_1500_prop_075_1ms_artifact_removed_valid_times_track_time_only'}...\n",
      "03-Jul-24 19:18:15 Running spike sorting on {'nwb_file_name': 'eliot20221017_.nwb', 'sort_group_id': 17, 'sort_interval_name': '08_Seq2Session4', 'preproc_params_name': 'franklab_tetrode_hippocampus', 'team_name': 'Shijie Gu', 'sorter': 'clusterless_thresholder', 'sorter_params_name': 'default', 'artifact_removed_interval_list_name': 'eliot20221017_.nwb_08_Seq2Session4_17_franklab_tetrode_hippocampus_ampl_1500_prop_075_1ms_artifact_removed_valid_times_track_time_only'}...\n"
     ]
    },
    {
     "data": {
      "application/vnd.jupyter.widget-view+json": {
       "model_id": "9e2c1d7dc3bf4858bbcadc7351d17cb4",
       "version_major": 2,
       "version_minor": 0
      },
      "text/plain": [
       "detect peaks using locally_exclusive:   0%|          | 0/2067 [00:00<?, ?it/s]"
      ]
     },
     "metadata": {},
     "output_type": "display_data"
    },
    {
     "name": "stderr",
     "output_type": "stream",
     "text": [
      "[19:18:27][INFO] Spyglass: Saving sorting results...\n",
      "03-Jul-24 19:18:27 Saving sorting results...\n",
      "[19:18:30][INFO] Spyglass: Running spike sorting on {'nwb_file_name': 'eliot20221017_.nwb', 'sort_group_id': 20, 'sort_interval_name': '08_Seq2Session4', 'preproc_params_name': 'franklab_tetrode_hippocampus', 'team_name': 'Shijie Gu', 'sorter': 'clusterless_thresholder', 'sorter_params_name': 'default', 'artifact_removed_interval_list_name': 'eliot20221017_.nwb_08_Seq2Session4_20_franklab_tetrode_hippocampus_ampl_1500_prop_075_1ms_artifact_removed_valid_times_track_time_only'}...\n",
      "03-Jul-24 19:18:30 Running spike sorting on {'nwb_file_name': 'eliot20221017_.nwb', 'sort_group_id': 20, 'sort_interval_name': '08_Seq2Session4', 'preproc_params_name': 'franklab_tetrode_hippocampus', 'team_name': 'Shijie Gu', 'sorter': 'clusterless_thresholder', 'sorter_params_name': 'default', 'artifact_removed_interval_list_name': 'eliot20221017_.nwb_08_Seq2Session4_20_franklab_tetrode_hippocampus_ampl_1500_prop_075_1ms_artifact_removed_valid_times_track_time_only'}...\n"
     ]
    },
    {
     "data": {
      "application/vnd.jupyter.widget-view+json": {
       "model_id": "44d5f5c6764348da81bd2fd1ecb62111",
       "version_major": 2,
       "version_minor": 0
      },
      "text/plain": [
       "detect peaks using locally_exclusive:   0%|          | 0/2067 [00:00<?, ?it/s]"
      ]
     },
     "metadata": {},
     "output_type": "display_data"
    },
    {
     "name": "stderr",
     "output_type": "stream",
     "text": [
      "[19:18:39][INFO] Spyglass: Saving sorting results...\n",
      "03-Jul-24 19:18:39 Saving sorting results...\n",
      "[19:18:43][INFO] Spyglass: Running spike sorting on {'nwb_file_name': 'eliot20221017_.nwb', 'sort_group_id': 23, 'sort_interval_name': '08_Seq2Session4', 'preproc_params_name': 'franklab_tetrode_hippocampus', 'team_name': 'Shijie Gu', 'sorter': 'clusterless_thresholder', 'sorter_params_name': 'default', 'artifact_removed_interval_list_name': 'eliot20221017_.nwb_08_Seq2Session4_23_franklab_tetrode_hippocampus_ampl_1500_prop_075_1ms_artifact_removed_valid_times_track_time_only'}...\n",
      "03-Jul-24 19:18:43 Running spike sorting on {'nwb_file_name': 'eliot20221017_.nwb', 'sort_group_id': 23, 'sort_interval_name': '08_Seq2Session4', 'preproc_params_name': 'franklab_tetrode_hippocampus', 'team_name': 'Shijie Gu', 'sorter': 'clusterless_thresholder', 'sorter_params_name': 'default', 'artifact_removed_interval_list_name': 'eliot20221017_.nwb_08_Seq2Session4_23_franklab_tetrode_hippocampus_ampl_1500_prop_075_1ms_artifact_removed_valid_times_track_time_only'}...\n"
     ]
    },
    {
     "data": {
      "application/vnd.jupyter.widget-view+json": {
       "model_id": "3d4e9b9d731246afa7e9a52021c69532",
       "version_major": 2,
       "version_minor": 0
      },
      "text/plain": [
       "detect peaks using locally_exclusive:   0%|          | 0/2067 [00:00<?, ?it/s]"
      ]
     },
     "metadata": {},
     "output_type": "display_data"
    },
    {
     "name": "stderr",
     "output_type": "stream",
     "text": [
      "[19:18:50][INFO] Spyglass: Saving sorting results...\n",
      "03-Jul-24 19:18:50 Saving sorting results...\n",
      "[19:18:55][INFO] Spyglass: Running spike sorting on {'nwb_file_name': 'eliot20221017_.nwb', 'sort_group_id': 26, 'sort_interval_name': '08_Seq2Session4', 'preproc_params_name': 'franklab_tetrode_hippocampus', 'team_name': 'Shijie Gu', 'sorter': 'clusterless_thresholder', 'sorter_params_name': 'default', 'artifact_removed_interval_list_name': 'eliot20221017_.nwb_08_Seq2Session4_26_franklab_tetrode_hippocampus_ampl_1500_prop_075_1ms_artifact_removed_valid_times_track_time_only'}...\n",
      "03-Jul-24 19:18:55 Running spike sorting on {'nwb_file_name': 'eliot20221017_.nwb', 'sort_group_id': 26, 'sort_interval_name': '08_Seq2Session4', 'preproc_params_name': 'franklab_tetrode_hippocampus', 'team_name': 'Shijie Gu', 'sorter': 'clusterless_thresholder', 'sorter_params_name': 'default', 'artifact_removed_interval_list_name': 'eliot20221017_.nwb_08_Seq2Session4_26_franklab_tetrode_hippocampus_ampl_1500_prop_075_1ms_artifact_removed_valid_times_track_time_only'}...\n"
     ]
    },
    {
     "data": {
      "application/vnd.jupyter.widget-view+json": {
       "model_id": "71324eef35734cdb82af167b2fea178c",
       "version_major": 2,
       "version_minor": 0
      },
      "text/plain": [
       "detect peaks using locally_exclusive:   0%|          | 0/2067 [00:00<?, ?it/s]"
      ]
     },
     "metadata": {},
     "output_type": "display_data"
    },
    {
     "name": "stderr",
     "output_type": "stream",
     "text": [
      "[19:19:02][INFO] Spyglass: Saving sorting results...\n",
      "03-Jul-24 19:19:02 Saving sorting results...\n",
      "[19:19:08][INFO] Spyglass: Running spike sorting on {'nwb_file_name': 'eliot20221017_.nwb', 'sort_group_id': 27, 'sort_interval_name': '08_Seq2Session4', 'preproc_params_name': 'franklab_tetrode_hippocampus', 'team_name': 'Shijie Gu', 'sorter': 'clusterless_thresholder', 'sorter_params_name': 'default', 'artifact_removed_interval_list_name': 'eliot20221017_.nwb_08_Seq2Session4_27_franklab_tetrode_hippocampus_ampl_1500_prop_075_1ms_artifact_removed_valid_times_track_time_only'}...\n",
      "03-Jul-24 19:19:08 Running spike sorting on {'nwb_file_name': 'eliot20221017_.nwb', 'sort_group_id': 27, 'sort_interval_name': '08_Seq2Session4', 'preproc_params_name': 'franklab_tetrode_hippocampus', 'team_name': 'Shijie Gu', 'sorter': 'clusterless_thresholder', 'sorter_params_name': 'default', 'artifact_removed_interval_list_name': 'eliot20221017_.nwb_08_Seq2Session4_27_franklab_tetrode_hippocampus_ampl_1500_prop_075_1ms_artifact_removed_valid_times_track_time_only'}...\n"
     ]
    },
    {
     "data": {
      "application/vnd.jupyter.widget-view+json": {
       "model_id": "f388e39465ec4f4a94b06677243bf09f",
       "version_major": 2,
       "version_minor": 0
      },
      "text/plain": [
       "detect peaks using locally_exclusive:   0%|          | 0/2067 [00:00<?, ?it/s]"
      ]
     },
     "metadata": {},
     "output_type": "display_data"
    },
    {
     "name": "stderr",
     "output_type": "stream",
     "text": [
      "[19:19:27][INFO] Spyglass: Saving sorting results...\n",
      "03-Jul-24 19:19:27 Saving sorting results...\n",
      "[19:19:32][INFO] Spyglass: Running spike sorting on {'nwb_file_name': 'eliot20221017_.nwb', 'sort_group_id': 28, 'sort_interval_name': '08_Seq2Session4', 'preproc_params_name': 'franklab_tetrode_hippocampus', 'team_name': 'Shijie Gu', 'sorter': 'clusterless_thresholder', 'sorter_params_name': 'default', 'artifact_removed_interval_list_name': 'eliot20221017_.nwb_08_Seq2Session4_28_franklab_tetrode_hippocampus_ampl_1500_prop_075_1ms_artifact_removed_valid_times_track_time_only'}...\n",
      "03-Jul-24 19:19:32 Running spike sorting on {'nwb_file_name': 'eliot20221017_.nwb', 'sort_group_id': 28, 'sort_interval_name': '08_Seq2Session4', 'preproc_params_name': 'franklab_tetrode_hippocampus', 'team_name': 'Shijie Gu', 'sorter': 'clusterless_thresholder', 'sorter_params_name': 'default', 'artifact_removed_interval_list_name': 'eliot20221017_.nwb_08_Seq2Session4_28_franklab_tetrode_hippocampus_ampl_1500_prop_075_1ms_artifact_removed_valid_times_track_time_only'}...\n"
     ]
    },
    {
     "data": {
      "application/vnd.jupyter.widget-view+json": {
       "model_id": "08572c0922364d619877e44cbedec36c",
       "version_major": 2,
       "version_minor": 0
      },
      "text/plain": [
       "detect peaks using locally_exclusive:   0%|          | 0/2067 [00:00<?, ?it/s]"
      ]
     },
     "metadata": {},
     "output_type": "display_data"
    },
    {
     "name": "stderr",
     "output_type": "stream",
     "text": [
      "[19:19:37][INFO] Spyglass: Saving sorting results...\n",
      "03-Jul-24 19:19:37 Saving sorting results...\n",
      "[19:19:41][INFO] Spyglass: Running spike sorting on {'nwb_file_name': 'eliot20221017_.nwb', 'sort_group_id': 29, 'sort_interval_name': '08_Seq2Session4', 'preproc_params_name': 'franklab_tetrode_hippocampus', 'team_name': 'Shijie Gu', 'sorter': 'clusterless_thresholder', 'sorter_params_name': 'default', 'artifact_removed_interval_list_name': 'eliot20221017_.nwb_08_Seq2Session4_29_franklab_tetrode_hippocampus_ampl_1500_prop_075_1ms_artifact_removed_valid_times_track_time_only'}...\n",
      "03-Jul-24 19:19:41 Running spike sorting on {'nwb_file_name': 'eliot20221017_.nwb', 'sort_group_id': 29, 'sort_interval_name': '08_Seq2Session4', 'preproc_params_name': 'franklab_tetrode_hippocampus', 'team_name': 'Shijie Gu', 'sorter': 'clusterless_thresholder', 'sorter_params_name': 'default', 'artifact_removed_interval_list_name': 'eliot20221017_.nwb_08_Seq2Session4_29_franklab_tetrode_hippocampus_ampl_1500_prop_075_1ms_artifact_removed_valid_times_track_time_only'}...\n"
     ]
    },
    {
     "data": {
      "application/vnd.jupyter.widget-view+json": {
       "model_id": "38f5e8f4e6914a149c75e0161fd4c596",
       "version_major": 2,
       "version_minor": 0
      },
      "text/plain": [
       "detect peaks using locally_exclusive:   0%|          | 0/2067 [00:00<?, ?it/s]"
      ]
     },
     "metadata": {},
     "output_type": "display_data"
    },
    {
     "name": "stderr",
     "output_type": "stream",
     "text": [
      "[19:19:47][INFO] Spyglass: Saving sorting results...\n",
      "03-Jul-24 19:19:47 Saving sorting results...\n",
      "[19:19:51][INFO] Spyglass: Running spike sorting on {'nwb_file_name': 'eliot20221017_.nwb', 'sort_group_id': 2, 'sort_interval_name': '08_Seq2Session4', 'preproc_params_name': 'franklab_tetrode_hippocampus', 'team_name': 'Shijie Gu', 'sorter': 'clusterless_thresholder', 'sorter_params_name': 'default', 'artifact_removed_interval_list_name': 'eliot20221017_.nwb_08_Seq2Session4_2_franklab_tetrode_hippocampus_ampl_1500_prop_075_1ms_artifact_removed_valid_times_track_time_only'}...\n",
      "03-Jul-24 19:19:51 Running spike sorting on {'nwb_file_name': 'eliot20221017_.nwb', 'sort_group_id': 2, 'sort_interval_name': '08_Seq2Session4', 'preproc_params_name': 'franklab_tetrode_hippocampus', 'team_name': 'Shijie Gu', 'sorter': 'clusterless_thresholder', 'sorter_params_name': 'default', 'artifact_removed_interval_list_name': 'eliot20221017_.nwb_08_Seq2Session4_2_franklab_tetrode_hippocampus_ampl_1500_prop_075_1ms_artifact_removed_valid_times_track_time_only'}...\n"
     ]
    },
    {
     "data": {
      "application/vnd.jupyter.widget-view+json": {
       "model_id": "e3b25b75493246d4bd98febc313266cf",
       "version_major": 2,
       "version_minor": 0
      },
      "text/plain": [
       "detect peaks using locally_exclusive:   0%|          | 0/2067 [00:00<?, ?it/s]"
      ]
     },
     "metadata": {},
     "output_type": "display_data"
    },
    {
     "name": "stderr",
     "output_type": "stream",
     "text": [
      "[19:19:58][INFO] Spyglass: Saving sorting results...\n",
      "03-Jul-24 19:19:58 Saving sorting results...\n",
      "[19:20:02][INFO] Spyglass: Running spike sorting on {'nwb_file_name': 'eliot20221017_.nwb', 'sort_group_id': 30, 'sort_interval_name': '08_Seq2Session4', 'preproc_params_name': 'franklab_tetrode_hippocampus', 'team_name': 'Shijie Gu', 'sorter': 'clusterless_thresholder', 'sorter_params_name': 'default', 'artifact_removed_interval_list_name': 'eliot20221017_.nwb_08_Seq2Session4_30_franklab_tetrode_hippocampus_ampl_1500_prop_075_1ms_artifact_removed_valid_times_track_time_only'}...\n",
      "03-Jul-24 19:20:02 Running spike sorting on {'nwb_file_name': 'eliot20221017_.nwb', 'sort_group_id': 30, 'sort_interval_name': '08_Seq2Session4', 'preproc_params_name': 'franklab_tetrode_hippocampus', 'team_name': 'Shijie Gu', 'sorter': 'clusterless_thresholder', 'sorter_params_name': 'default', 'artifact_removed_interval_list_name': 'eliot20221017_.nwb_08_Seq2Session4_30_franklab_tetrode_hippocampus_ampl_1500_prop_075_1ms_artifact_removed_valid_times_track_time_only'}...\n"
     ]
    },
    {
     "data": {
      "application/vnd.jupyter.widget-view+json": {
       "model_id": "c6acfbad109743778a0e8589744ecddb",
       "version_major": 2,
       "version_minor": 0
      },
      "text/plain": [
       "detect peaks using locally_exclusive:   0%|          | 0/2067 [00:00<?, ?it/s]"
      ]
     },
     "metadata": {},
     "output_type": "display_data"
    },
    {
     "name": "stderr",
     "output_type": "stream",
     "text": [
      "[19:20:10][INFO] Spyglass: Saving sorting results...\n",
      "03-Jul-24 19:20:10 Saving sorting results...\n",
      "[19:20:14][INFO] Spyglass: Running spike sorting on {'nwb_file_name': 'eliot20221017_.nwb', 'sort_group_id': 31, 'sort_interval_name': '08_Seq2Session4', 'preproc_params_name': 'franklab_tetrode_hippocampus', 'team_name': 'Shijie Gu', 'sorter': 'clusterless_thresholder', 'sorter_params_name': 'default', 'artifact_removed_interval_list_name': 'eliot20221017_.nwb_08_Seq2Session4_31_franklab_tetrode_hippocampus_ampl_1500_prop_075_1ms_artifact_removed_valid_times_track_time_only'}...\n",
      "03-Jul-24 19:20:14 Running spike sorting on {'nwb_file_name': 'eliot20221017_.nwb', 'sort_group_id': 31, 'sort_interval_name': '08_Seq2Session4', 'preproc_params_name': 'franklab_tetrode_hippocampus', 'team_name': 'Shijie Gu', 'sorter': 'clusterless_thresholder', 'sorter_params_name': 'default', 'artifact_removed_interval_list_name': 'eliot20221017_.nwb_08_Seq2Session4_31_franklab_tetrode_hippocampus_ampl_1500_prop_075_1ms_artifact_removed_valid_times_track_time_only'}...\n"
     ]
    },
    {
     "data": {
      "application/vnd.jupyter.widget-view+json": {
       "model_id": "8cf5523563174a5086d616097c122e7d",
       "version_major": 2,
       "version_minor": 0
      },
      "text/plain": [
       "detect peaks using locally_exclusive:   0%|          | 0/2067 [00:00<?, ?it/s]"
      ]
     },
     "metadata": {},
     "output_type": "display_data"
    },
    {
     "name": "stderr",
     "output_type": "stream",
     "text": [
      "[19:20:19][INFO] Spyglass: Saving sorting results...\n",
      "03-Jul-24 19:20:19 Saving sorting results...\n",
      "[19:20:23][INFO] Spyglass: Running spike sorting on {'nwb_file_name': 'eliot20221017_.nwb', 'sort_group_id': 4, 'sort_interval_name': '08_Seq2Session4', 'preproc_params_name': 'franklab_tetrode_hippocampus', 'team_name': 'Shijie Gu', 'sorter': 'clusterless_thresholder', 'sorter_params_name': 'default', 'artifact_removed_interval_list_name': 'eliot20221017_.nwb_08_Seq2Session4_4_franklab_tetrode_hippocampus_ampl_1500_prop_075_1ms_artifact_removed_valid_times_track_time_only'}...\n",
      "03-Jul-24 19:20:23 Running spike sorting on {'nwb_file_name': 'eliot20221017_.nwb', 'sort_group_id': 4, 'sort_interval_name': '08_Seq2Session4', 'preproc_params_name': 'franklab_tetrode_hippocampus', 'team_name': 'Shijie Gu', 'sorter': 'clusterless_thresholder', 'sorter_params_name': 'default', 'artifact_removed_interval_list_name': 'eliot20221017_.nwb_08_Seq2Session4_4_franklab_tetrode_hippocampus_ampl_1500_prop_075_1ms_artifact_removed_valid_times_track_time_only'}...\n"
     ]
    },
    {
     "data": {
      "application/vnd.jupyter.widget-view+json": {
       "model_id": "f39a9124d207412d908be2e14616ba5a",
       "version_major": 2,
       "version_minor": 0
      },
      "text/plain": [
       "detect peaks using locally_exclusive:   0%|          | 0/2067 [00:00<?, ?it/s]"
      ]
     },
     "metadata": {},
     "output_type": "display_data"
    },
    {
     "name": "stderr",
     "output_type": "stream",
     "text": [
      "[19:20:29][INFO] Spyglass: Saving sorting results...\n",
      "03-Jul-24 19:20:29 Saving sorting results...\n",
      "[19:20:33][INFO] Spyglass: Running spike sorting on {'nwb_file_name': 'eliot20221017_.nwb', 'sort_group_id': 5, 'sort_interval_name': '08_Seq2Session4', 'preproc_params_name': 'franklab_tetrode_hippocampus', 'team_name': 'Shijie Gu', 'sorter': 'clusterless_thresholder', 'sorter_params_name': 'default', 'artifact_removed_interval_list_name': 'eliot20221017_.nwb_08_Seq2Session4_5_franklab_tetrode_hippocampus_ampl_1500_prop_075_1ms_artifact_removed_valid_times_track_time_only'}...\n",
      "03-Jul-24 19:20:33 Running spike sorting on {'nwb_file_name': 'eliot20221017_.nwb', 'sort_group_id': 5, 'sort_interval_name': '08_Seq2Session4', 'preproc_params_name': 'franklab_tetrode_hippocampus', 'team_name': 'Shijie Gu', 'sorter': 'clusterless_thresholder', 'sorter_params_name': 'default', 'artifact_removed_interval_list_name': 'eliot20221017_.nwb_08_Seq2Session4_5_franklab_tetrode_hippocampus_ampl_1500_prop_075_1ms_artifact_removed_valid_times_track_time_only'}...\n"
     ]
    },
    {
     "data": {
      "application/vnd.jupyter.widget-view+json": {
       "model_id": "be4cfcb0c80242fb8f54f3f74d7a396d",
       "version_major": 2,
       "version_minor": 0
      },
      "text/plain": [
       "detect peaks using locally_exclusive:   0%|          | 0/2067 [00:00<?, ?it/s]"
      ]
     },
     "metadata": {},
     "output_type": "display_data"
    },
    {
     "name": "stderr",
     "output_type": "stream",
     "text": [
      "[19:20:38][INFO] Spyglass: Saving sorting results...\n",
      "03-Jul-24 19:20:38 Saving sorting results...\n",
      "[19:21:54][INFO] Spyglass: Found 1 accepted units\n",
      "03-Jul-24 19:21:54 Found 1 accepted units\n",
      "[19:21:56][INFO] Spyglass: Writing new NWB file eliot20221017_NQSODRN4GS.nwb\n",
      "03-Jul-24 19:21:56 Writing new NWB file eliot20221017_NQSODRN4GS.nwb\n",
      "[19:22:00][INFO] Spyglass: Found 1 accepted units\n",
      "03-Jul-24 19:22:00 Found 1 accepted units\n",
      "[19:22:02][INFO] Spyglass: Writing new NWB file eliot20221017_LYR79YZ3LN.nwb\n",
      "03-Jul-24 19:22:02 Writing new NWB file eliot20221017_LYR79YZ3LN.nwb\n",
      "[19:22:06][INFO] Spyglass: Found 1 accepted units\n",
      "03-Jul-24 19:22:06 Found 1 accepted units\n",
      "[19:22:07][INFO] Spyglass: Writing new NWB file eliot20221017_Z346JUNVNG.nwb\n",
      "03-Jul-24 19:22:07 Writing new NWB file eliot20221017_Z346JUNVNG.nwb\n",
      "[19:22:11][INFO] Spyglass: Found 1 accepted units\n",
      "03-Jul-24 19:22:11 Found 1 accepted units\n",
      "[19:22:13][INFO] Spyglass: Writing new NWB file eliot20221017_L2BPN5ESM1.nwb\n",
      "03-Jul-24 19:22:13 Writing new NWB file eliot20221017_L2BPN5ESM1.nwb\n",
      "[19:22:17][INFO] Spyglass: Found 1 accepted units\n",
      "03-Jul-24 19:22:17 Found 1 accepted units\n",
      "[19:22:19][INFO] Spyglass: Writing new NWB file eliot20221017_F0DQQY3THL.nwb\n",
      "03-Jul-24 19:22:19 Writing new NWB file eliot20221017_F0DQQY3THL.nwb\n",
      "[19:22:24][INFO] Spyglass: Found 1 accepted units\n",
      "03-Jul-24 19:22:24 Found 1 accepted units\n",
      "[19:22:26][INFO] Spyglass: Writing new NWB file eliot20221017_9K8Q5DEMOT.nwb\n",
      "03-Jul-24 19:22:26 Writing new NWB file eliot20221017_9K8Q5DEMOT.nwb\n",
      "[19:22:31][INFO] Spyglass: Found 1 accepted units\n",
      "03-Jul-24 19:22:31 Found 1 accepted units\n",
      "[19:22:32][INFO] Spyglass: Writing new NWB file eliot20221017_C815IAHEGJ.nwb\n",
      "03-Jul-24 19:22:32 Writing new NWB file eliot20221017_C815IAHEGJ.nwb\n",
      "[19:22:36][INFO] Spyglass: Found 1 accepted units\n",
      "03-Jul-24 19:22:36 Found 1 accepted units\n",
      "[19:22:38][INFO] Spyglass: Writing new NWB file eliot20221017_J92P0I93M0.nwb\n",
      "03-Jul-24 19:22:38 Writing new NWB file eliot20221017_J92P0I93M0.nwb\n",
      "[19:22:42][INFO] Spyglass: Found 1 accepted units\n",
      "03-Jul-24 19:22:42 Found 1 accepted units\n",
      "[19:22:43][INFO] Spyglass: Writing new NWB file eliot20221017_20T771V6WF.nwb\n",
      "03-Jul-24 19:22:43 Writing new NWB file eliot20221017_20T771V6WF.nwb\n",
      "[19:22:49][INFO] Spyglass: Found 1 accepted units\n",
      "03-Jul-24 19:22:49 Found 1 accepted units\n",
      "[19:22:51][INFO] Spyglass: Writing new NWB file eliot20221017_3N33UJXU9X.nwb\n",
      "03-Jul-24 19:22:51 Writing new NWB file eliot20221017_3N33UJXU9X.nwb\n",
      "[19:22:55][INFO] Spyglass: Found 1 accepted units\n",
      "03-Jul-24 19:22:55 Found 1 accepted units\n",
      "[19:22:56][INFO] Spyglass: Writing new NWB file eliot20221017_IH88SPSBQQ.nwb\n",
      "03-Jul-24 19:22:56 Writing new NWB file eliot20221017_IH88SPSBQQ.nwb\n",
      "[19:23:00][INFO] Spyglass: Found 1 accepted units\n",
      "03-Jul-24 19:23:00 Found 1 accepted units\n",
      "[19:23:02][INFO] Spyglass: Writing new NWB file eliot20221017_25M5GEUBJU.nwb\n",
      "03-Jul-24 19:23:02 Writing new NWB file eliot20221017_25M5GEUBJU.nwb\n",
      "[19:23:06][INFO] Spyglass: Found 1 accepted units\n",
      "03-Jul-24 19:23:06 Found 1 accepted units\n",
      "[19:23:07][INFO] Spyglass: Writing new NWB file eliot20221017_JS7LIJAWX3.nwb\n",
      "03-Jul-24 19:23:07 Writing new NWB file eliot20221017_JS7LIJAWX3.nwb\n",
      "[19:23:11][INFO] Spyglass: Found 1 accepted units\n",
      "03-Jul-24 19:23:11 Found 1 accepted units\n",
      "[19:23:12][INFO] Spyglass: Writing new NWB file eliot20221017_ASDE0OFFKD.nwb\n",
      "03-Jul-24 19:23:12 Writing new NWB file eliot20221017_ASDE0OFFKD.nwb\n",
      "[19:23:16][INFO] Spyglass: Found 1 accepted units\n",
      "03-Jul-24 19:23:16 Found 1 accepted units\n",
      "[19:23:18][INFO] Spyglass: Writing new NWB file eliot20221017_4J02ASC0QP.nwb\n",
      "03-Jul-24 19:23:18 Writing new NWB file eliot20221017_4J02ASC0QP.nwb\n",
      "[19:23:22][INFO] Spyglass: Found 1 accepted units\n",
      "03-Jul-24 19:23:22 Found 1 accepted units\n",
      "[19:23:23][INFO] Spyglass: Writing new NWB file eliot20221017_L3U8RO6JP0.nwb\n",
      "03-Jul-24 19:23:23 Writing new NWB file eliot20221017_L3U8RO6JP0.nwb\n"
     ]
    },
    {
     "data": {
      "application/vnd.jupyter.widget-view+json": {
       "model_id": "9c0e458b13e6435895e9f6b03d55b2cd",
       "version_major": 2,
       "version_minor": 0
      },
      "text/plain": [
       "extract waveforms memmap:   0%|          | 0/1 [00:00<?, ?it/s]"
      ]
     },
     "metadata": {},
     "output_type": "display_data"
    },
    {
     "name": "stderr",
     "output_type": "stream",
     "text": [
      "[19:23:37][INFO] Spyglass: Writing new NWB file eliot20221017_31C35Z7C7F.nwb\n",
      "03-Jul-24 19:23:37 Writing new NWB file eliot20221017_31C35Z7C7F.nwb\n"
     ]
    },
    {
     "data": {
      "application/vnd.jupyter.widget-view+json": {
       "model_id": "84d32db4764c474c9fb601bb68826670",
       "version_major": 2,
       "version_minor": 0
      },
      "text/plain": [
       "extract waveforms memmap:   0%|          | 0/1 [00:00<?, ?it/s]"
      ]
     },
     "metadata": {},
     "output_type": "display_data"
    },
    {
     "name": "stderr",
     "output_type": "stream",
     "text": [
      "[19:23:49][INFO] Spyglass: Writing new NWB file eliot20221017_TM28QODU64.nwb\n",
      "03-Jul-24 19:23:49 Writing new NWB file eliot20221017_TM28QODU64.nwb\n"
     ]
    },
    {
     "data": {
      "application/vnd.jupyter.widget-view+json": {
       "model_id": "8d78bc9335df44fba4002326308f4ce2",
       "version_major": 2,
       "version_minor": 0
      },
      "text/plain": [
       "extract waveforms memmap:   0%|          | 0/1 [00:00<?, ?it/s]"
      ]
     },
     "metadata": {},
     "output_type": "display_data"
    },
    {
     "name": "stderr",
     "output_type": "stream",
     "text": [
      "[19:23:57][INFO] Spyglass: Writing new NWB file eliot20221017_YIOBT6A5XZ.nwb\n",
      "03-Jul-24 19:23:57 Writing new NWB file eliot20221017_YIOBT6A5XZ.nwb\n"
     ]
    },
    {
     "data": {
      "application/vnd.jupyter.widget-view+json": {
       "model_id": "95e29a40f16c4ee7980aad7987131a7d",
       "version_major": 2,
       "version_minor": 0
      },
      "text/plain": [
       "extract waveforms memmap:   0%|          | 0/1 [00:00<?, ?it/s]"
      ]
     },
     "metadata": {},
     "output_type": "display_data"
    },
    {
     "name": "stderr",
     "output_type": "stream",
     "text": [
      "[19:24:06][INFO] Spyglass: Writing new NWB file eliot20221017_PQDRYW5FZY.nwb\n",
      "03-Jul-24 19:24:06 Writing new NWB file eliot20221017_PQDRYW5FZY.nwb\n"
     ]
    },
    {
     "data": {
      "application/vnd.jupyter.widget-view+json": {
       "model_id": "dec302a456134f56b4b5f46c306e1fae",
       "version_major": 2,
       "version_minor": 0
      },
      "text/plain": [
       "extract waveforms memmap:   0%|          | 0/1 [00:00<?, ?it/s]"
      ]
     },
     "metadata": {},
     "output_type": "display_data"
    },
    {
     "name": "stderr",
     "output_type": "stream",
     "text": [
      "[19:24:16][INFO] Spyglass: Writing new NWB file eliot20221017_SOB58XIWXK.nwb\n",
      "03-Jul-24 19:24:16 Writing new NWB file eliot20221017_SOB58XIWXK.nwb\n"
     ]
    },
    {
     "data": {
      "application/vnd.jupyter.widget-view+json": {
       "model_id": "b24eeaf0c8474c23942b46b8fde73b7f",
       "version_major": 2,
       "version_minor": 0
      },
      "text/plain": [
       "extract waveforms memmap:   0%|          | 0/1 [00:00<?, ?it/s]"
      ]
     },
     "metadata": {},
     "output_type": "display_data"
    },
    {
     "name": "stderr",
     "output_type": "stream",
     "text": [
      "[19:24:25][INFO] Spyglass: Writing new NWB file eliot20221017_6B8KDTUJ2W.nwb\n",
      "03-Jul-24 19:24:25 Writing new NWB file eliot20221017_6B8KDTUJ2W.nwb\n"
     ]
    },
    {
     "data": {
      "application/vnd.jupyter.widget-view+json": {
       "model_id": "3b0b15b4cbc44a6483bdfa88b7491c06",
       "version_major": 2,
       "version_minor": 0
      },
      "text/plain": [
       "extract waveforms memmap:   0%|          | 0/1 [00:00<?, ?it/s]"
      ]
     },
     "metadata": {},
     "output_type": "display_data"
    },
    {
     "name": "stderr",
     "output_type": "stream",
     "text": [
      "[19:24:34][INFO] Spyglass: Writing new NWB file eliot20221017_ZTZ525WQ8G.nwb\n",
      "03-Jul-24 19:24:34 Writing new NWB file eliot20221017_ZTZ525WQ8G.nwb\n"
     ]
    },
    {
     "data": {
      "application/vnd.jupyter.widget-view+json": {
       "model_id": "f57bbeca67424fdfbed50602471aadf0",
       "version_major": 2,
       "version_minor": 0
      },
      "text/plain": [
       "extract waveforms memmap:   0%|          | 0/1 [00:00<?, ?it/s]"
      ]
     },
     "metadata": {},
     "output_type": "display_data"
    },
    {
     "name": "stderr",
     "output_type": "stream",
     "text": [
      "[19:24:42][INFO] Spyglass: Writing new NWB file eliot20221017_IYXDAGSRDC.nwb\n",
      "03-Jul-24 19:24:42 Writing new NWB file eliot20221017_IYXDAGSRDC.nwb\n"
     ]
    },
    {
     "data": {
      "application/vnd.jupyter.widget-view+json": {
       "model_id": "2a0eaf5b1389462aae91201cee1bd0ee",
       "version_major": 2,
       "version_minor": 0
      },
      "text/plain": [
       "extract waveforms memmap:   0%|          | 0/1 [00:00<?, ?it/s]"
      ]
     },
     "metadata": {},
     "output_type": "display_data"
    },
    {
     "name": "stderr",
     "output_type": "stream",
     "text": [
      "[19:24:51][INFO] Spyglass: Writing new NWB file eliot20221017_OWTTCV9Q2E.nwb\n",
      "03-Jul-24 19:24:51 Writing new NWB file eliot20221017_OWTTCV9Q2E.nwb\n"
     ]
    },
    {
     "data": {
      "application/vnd.jupyter.widget-view+json": {
       "model_id": "01c03ca4445747d9a9b9808e80910cdd",
       "version_major": 2,
       "version_minor": 0
      },
      "text/plain": [
       "extract waveforms memmap:   0%|          | 0/1 [00:00<?, ?it/s]"
      ]
     },
     "metadata": {},
     "output_type": "display_data"
    },
    {
     "name": "stderr",
     "output_type": "stream",
     "text": [
      "[19:25:01][INFO] Spyglass: Writing new NWB file eliot20221017_RHRKPATVSI.nwb\n",
      "03-Jul-24 19:25:01 Writing new NWB file eliot20221017_RHRKPATVSI.nwb\n"
     ]
    },
    {
     "data": {
      "application/vnd.jupyter.widget-view+json": {
       "model_id": "6e5deeb652844518a3f86020d4193a8e",
       "version_major": 2,
       "version_minor": 0
      },
      "text/plain": [
       "extract waveforms memmap:   0%|          | 0/1 [00:00<?, ?it/s]"
      ]
     },
     "metadata": {},
     "output_type": "display_data"
    },
    {
     "name": "stderr",
     "output_type": "stream",
     "text": [
      "[19:25:11][INFO] Spyglass: Writing new NWB file eliot20221017_HQVR1Z28OQ.nwb\n",
      "03-Jul-24 19:25:11 Writing new NWB file eliot20221017_HQVR1Z28OQ.nwb\n"
     ]
    },
    {
     "data": {
      "application/vnd.jupyter.widget-view+json": {
       "model_id": "f46d5d626f474392a4e0d5ecabe33ea5",
       "version_major": 2,
       "version_minor": 0
      },
      "text/plain": [
       "extract waveforms memmap:   0%|          | 0/1 [00:00<?, ?it/s]"
      ]
     },
     "metadata": {},
     "output_type": "display_data"
    },
    {
     "name": "stderr",
     "output_type": "stream",
     "text": [
      "[19:25:21][INFO] Spyglass: Writing new NWB file eliot20221017_N0LIELBH6G.nwb\n",
      "03-Jul-24 19:25:21 Writing new NWB file eliot20221017_N0LIELBH6G.nwb\n"
     ]
    },
    {
     "data": {
      "application/vnd.jupyter.widget-view+json": {
       "model_id": "b307ec4ff12e4d8e866822574b9315f9",
       "version_major": 2,
       "version_minor": 0
      },
      "text/plain": [
       "extract waveforms memmap:   0%|          | 0/1 [00:00<?, ?it/s]"
      ]
     },
     "metadata": {},
     "output_type": "display_data"
    },
    {
     "name": "stderr",
     "output_type": "stream",
     "text": [
      "[19:25:30][INFO] Spyglass: Writing new NWB file eliot20221017_A555LCPHIB.nwb\n",
      "03-Jul-24 19:25:30 Writing new NWB file eliot20221017_A555LCPHIB.nwb\n"
     ]
    },
    {
     "data": {
      "application/vnd.jupyter.widget-view+json": {
       "model_id": "a4344b70e2034036a6463ca8bc206b29",
       "version_major": 2,
       "version_minor": 0
      },
      "text/plain": [
       "extract waveforms memmap:   0%|          | 0/1 [00:00<?, ?it/s]"
      ]
     },
     "metadata": {},
     "output_type": "display_data"
    },
    {
     "name": "stderr",
     "output_type": "stream",
     "text": [
      "[19:25:39][INFO] Spyglass: Writing new NWB file eliot20221017_ZUL6Q61VQO.nwb\n",
      "03-Jul-24 19:25:39 Writing new NWB file eliot20221017_ZUL6Q61VQO.nwb\n"
     ]
    },
    {
     "data": {
      "application/vnd.jupyter.widget-view+json": {
       "model_id": "d89ae0b36de449ef8742aabebd01fa21",
       "version_major": 2,
       "version_minor": 0
      },
      "text/plain": [
       "extract waveforms memmap:   0%|          | 0/1 [00:00<?, ?it/s]"
      ]
     },
     "metadata": {},
     "output_type": "display_data"
    },
    {
     "name": "stderr",
     "output_type": "stream",
     "text": [
      "[19:25:47][INFO] Spyglass: Writing new NWB file eliot20221017_V7WNVQF29J.nwb\n",
      "03-Jul-24 19:25:47 Writing new NWB file eliot20221017_V7WNVQF29J.nwb\n"
     ]
    },
    {
     "data": {
      "application/vnd.jupyter.widget-view+json": {
       "model_id": "f4223ec75dd5483fb9dc7f2ebb229681",
       "version_major": 2,
       "version_minor": 0
      },
      "text/plain": [
       "extract waveforms memmap:   0%|          | 0/1 [00:00<?, ?it/s]"
      ]
     },
     "metadata": {},
     "output_type": "display_data"
    },
    {
     "name": "stderr",
     "output_type": "stream",
     "text": [
      "[19:25:56][INFO] Spyglass: Writing new NWB file eliot20221017_M0CWOZGPRO.nwb\n",
      "03-Jul-24 19:25:56 Writing new NWB file eliot20221017_M0CWOZGPRO.nwb\n",
      "[19:26:01][INFO] Spyglass: Writing new NWB file eliot20221017_SIG75N3Z0N.nwb\n",
      "03-Jul-24 19:26:01 Writing new NWB file eliot20221017_SIG75N3Z0N.nwb\n",
      "[19:26:16][INFO] Spyglass: Writing new NWB file eliot20221017_N9X03W1S7P.nwb\n",
      "03-Jul-24 19:26:16 Writing new NWB file eliot20221017_N9X03W1S7P.nwb\n",
      "[19:26:30][INFO] Spyglass: Writing new NWB file eliot20221017_XHWY9T425Z.nwb\n",
      "03-Jul-24 19:26:30 Writing new NWB file eliot20221017_XHWY9T425Z.nwb\n",
      "[19:26:44][INFO] Spyglass: Writing new NWB file eliot20221017_0OYXS9LQYP.nwb\n",
      "03-Jul-24 19:26:44 Writing new NWB file eliot20221017_0OYXS9LQYP.nwb\n",
      "[19:27:01][INFO] Spyglass: Writing new NWB file eliot20221017_DLR119IYB0.nwb\n",
      "03-Jul-24 19:27:01 Writing new NWB file eliot20221017_DLR119IYB0.nwb\n",
      "[19:27:15][INFO] Spyglass: Writing new NWB file eliot20221017_M3HRP7EPKD.nwb\n",
      "03-Jul-24 19:27:15 Writing new NWB file eliot20221017_M3HRP7EPKD.nwb\n",
      "[19:27:30][INFO] Spyglass: Writing new NWB file eliot20221017_FTREY8O0LR.nwb\n",
      "03-Jul-24 19:27:30 Writing new NWB file eliot20221017_FTREY8O0LR.nwb\n",
      "[19:27:44][INFO] Spyglass: Writing new NWB file eliot20221017_2DLB82Q3O2.nwb\n",
      "03-Jul-24 19:27:44 Writing new NWB file eliot20221017_2DLB82Q3O2.nwb\n",
      "[19:27:58][INFO] Spyglass: Writing new NWB file eliot20221017_F92LHERC5F.nwb\n",
      "03-Jul-24 19:27:58 Writing new NWB file eliot20221017_F92LHERC5F.nwb\n",
      "[19:28:12][INFO] Spyglass: Writing new NWB file eliot20221017_B72G3MWK5B.nwb\n",
      "03-Jul-24 19:28:12 Writing new NWB file eliot20221017_B72G3MWK5B.nwb\n",
      "[19:28:27][INFO] Spyglass: Writing new NWB file eliot20221017_YFODOIUBUJ.nwb\n",
      "03-Jul-24 19:28:27 Writing new NWB file eliot20221017_YFODOIUBUJ.nwb\n",
      "[19:28:41][INFO] Spyglass: Writing new NWB file eliot20221017_NO0K2PLT3Q.nwb\n",
      "03-Jul-24 19:28:41 Writing new NWB file eliot20221017_NO0K2PLT3Q.nwb\n",
      "[19:28:55][INFO] Spyglass: Writing new NWB file eliot20221017_N5UW5I4UK5.nwb\n",
      "03-Jul-24 19:28:55 Writing new NWB file eliot20221017_N5UW5I4UK5.nwb\n",
      "[19:29:13][INFO] Spyglass: Writing new NWB file eliot20221017_ISADUHM8OC.nwb\n",
      "03-Jul-24 19:29:13 Writing new NWB file eliot20221017_ISADUHM8OC.nwb\n",
      "[19:29:27][INFO] Spyglass: Writing new NWB file eliot20221017_IFMP41EH2U.nwb\n",
      "03-Jul-24 19:29:27 Writing new NWB file eliot20221017_IFMP41EH2U.nwb\n",
      "[19:29:41][INFO] Spyglass: Writing new NWB file eliot20221017_PMFIKIEPQ0.nwb\n",
      "03-Jul-24 19:29:41 Writing new NWB file eliot20221017_PMFIKIEPQ0.nwb\n",
      "[19:30:05][WARNING] Spyglass: Deprecation: this class has been moved out of spyglass.common.common_position\n",
      "\tIntervalLinearizedPosition -> spyglass.linearization.v0.main.IntervalLinearizedPosition\n",
      "Please use the new location.\n",
      "03-Jul-24 19:30:05 Deprecation: this class has been moved out of spyglass.common.common_position\n",
      "\tIntervalLinearizedPosition -> spyglass.linearization.v0.main.IntervalLinearizedPosition\n",
      "Please use the new location.\n"
     ]
    },
    {
     "name": "stdout",
     "output_type": "stream",
     "text": [
      "final shape of marks and linear position df is:\n",
      "(943754, 4, 16)\n",
      "(943754, 4)\n"
     ]
    }
   ],
   "source": [
    "for e in range(len(session_interval)):\n",
    "    decodePrepMasterSession(nwb_copy_file_name,e,True)"
   ]
  },
  {
   "cell_type": "code",
   "execution_count": null,
   "id": "9d1fdfd7-2508-4854-ba84-d809a3c2f95a",
   "metadata": {
    "scrolled": true
   },
   "outputs": [
    {
     "name": "stdout",
     "output_type": "stream",
     "text": [
      "> \u001b[0;32m/home/shijiegu/anaconda3/envs/spyglass/lib/python3.9/site-packages/IPython/core/compilerop.py\u001b[0m(86)\u001b[0;36mast_parse\u001b[0;34m()\u001b[0m\n",
      "\u001b[0;32m     84 \u001b[0;31m        \u001b[0mArguments\u001b[0m \u001b[0mare\u001b[0m \u001b[0mexactly\u001b[0m \u001b[0mthe\u001b[0m \u001b[0msame\u001b[0m \u001b[0;32mas\u001b[0m \u001b[0mast\u001b[0m\u001b[0;34m.\u001b[0m\u001b[0mparse\u001b[0m \u001b[0;34m(\u001b[0m\u001b[0;32min\u001b[0m \u001b[0mthe\u001b[0m \u001b[0mstandard\u001b[0m \u001b[0mlibrary\u001b[0m\u001b[0;34m)\u001b[0m\u001b[0;34m,\u001b[0m\u001b[0;34m\u001b[0m\u001b[0;34m\u001b[0m\u001b[0m\n",
      "\u001b[0m\u001b[0;32m     85 \u001b[0;31m        and are passed to the built-in compile function.\"\"\"\n",
      "\u001b[0m\u001b[0;32m---> 86 \u001b[0;31m        \u001b[0;32mreturn\u001b[0m \u001b[0mcompile\u001b[0m\u001b[0;34m(\u001b[0m\u001b[0msource\u001b[0m\u001b[0;34m,\u001b[0m \u001b[0mfilename\u001b[0m\u001b[0;34m,\u001b[0m \u001b[0msymbol\u001b[0m\u001b[0;34m,\u001b[0m \u001b[0mself\u001b[0m\u001b[0;34m.\u001b[0m\u001b[0mflags\u001b[0m \u001b[0;34m|\u001b[0m \u001b[0mPyCF_ONLY_AST\u001b[0m\u001b[0;34m,\u001b[0m \u001b[0;36m1\u001b[0m\u001b[0;34m)\u001b[0m\u001b[0;34m\u001b[0m\u001b[0;34m\u001b[0m\u001b[0m\n",
      "\u001b[0m\u001b[0;32m     87 \u001b[0;31m\u001b[0;34m\u001b[0m\u001b[0m\n",
      "\u001b[0m\u001b[0;32m     88 \u001b[0;31m    \u001b[0;32mdef\u001b[0m \u001b[0mreset_compiler_flags\u001b[0m\u001b[0;34m(\u001b[0m\u001b[0mself\u001b[0m\u001b[0;34m)\u001b[0m\u001b[0;34m:\u001b[0m\u001b[0;34m\u001b[0m\u001b[0;34m\u001b[0m\u001b[0m\n",
      "\u001b[0m\n"
     ]
    },
    {
     "name": "stdin",
     "output_type": "stream",
     "text": [
      "ipdb>  up\n"
     ]
    },
    {
     "name": "stdout",
     "output_type": "stream",
     "text": [
      "> \u001b[0;32m/home/shijiegu/anaconda3/envs/spyglass/lib/python3.9/site-packages/IPython/core/interactiveshell.py\u001b[0m(3280)\u001b[0;36mrun_cell_async\u001b[0;34m()\u001b[0m\n",
      "\u001b[0;32m   3278 \u001b[0;31m                \u001b[0;31m# Compile to bytecode\u001b[0m\u001b[0;34m\u001b[0m\u001b[0;34m\u001b[0m\u001b[0m\n",
      "\u001b[0m\u001b[0;32m   3279 \u001b[0;31m                \u001b[0;32mtry\u001b[0m\u001b[0;34m:\u001b[0m\u001b[0;34m\u001b[0m\u001b[0;34m\u001b[0m\u001b[0m\n",
      "\u001b[0m\u001b[0;32m-> 3280 \u001b[0;31m                    \u001b[0mcode_ast\u001b[0m \u001b[0;34m=\u001b[0m \u001b[0mcompiler\u001b[0m\u001b[0;34m.\u001b[0m\u001b[0mast_parse\u001b[0m\u001b[0;34m(\u001b[0m\u001b[0mcell\u001b[0m\u001b[0;34m,\u001b[0m \u001b[0mfilename\u001b[0m\u001b[0;34m=\u001b[0m\u001b[0mcell_name\u001b[0m\u001b[0;34m)\u001b[0m\u001b[0;34m\u001b[0m\u001b[0;34m\u001b[0m\u001b[0m\n",
      "\u001b[0m\u001b[0;32m   3281 \u001b[0;31m                \u001b[0;32mexcept\u001b[0m \u001b[0mself\u001b[0m\u001b[0;34m.\u001b[0m\u001b[0mcustom_exceptions\u001b[0m \u001b[0;32mas\u001b[0m \u001b[0me\u001b[0m\u001b[0;34m:\u001b[0m\u001b[0;34m\u001b[0m\u001b[0;34m\u001b[0m\u001b[0m\n",
      "\u001b[0m\u001b[0;32m   3282 \u001b[0;31m                    \u001b[0metype\u001b[0m\u001b[0;34m,\u001b[0m \u001b[0mvalue\u001b[0m\u001b[0;34m,\u001b[0m \u001b[0mtb\u001b[0m \u001b[0;34m=\u001b[0m \u001b[0msys\u001b[0m\u001b[0;34m.\u001b[0m\u001b[0mexc_info\u001b[0m\u001b[0;34m(\u001b[0m\u001b[0;34m)\u001b[0m\u001b[0;34m\u001b[0m\u001b[0;34m\u001b[0m\u001b[0m\n",
      "\u001b[0m\n"
     ]
    },
    {
     "name": "stdin",
     "output_type": "stream",
     "text": [
      "ipdb>  up\n"
     ]
    },
    {
     "name": "stdout",
     "output_type": "stream",
     "text": [
      "*** Oldest frame\n"
     ]
    },
    {
     "name": "stdin",
     "output_type": "stream",
     "text": [
      "ipdb>  up\n"
     ]
    },
    {
     "name": "stdout",
     "output_type": "stream",
     "text": [
      "*** Oldest frame\n"
     ]
    }
   ],
   "source": [
    "%debug"
   ]
  },
  {
   "cell_type": "code",
   "execution_count": 83,
   "id": "2e132140-024f-465b-a356-740df34b412c",
   "metadata": {},
   "outputs": [],
   "source": [
    "#(Curation & key).delete()"
   ]
  },
  {
   "cell_type": "code",
   "execution_count": 100,
   "id": "33403979-b322-4f66-8c4a-770c5830449f",
   "metadata": {},
   "outputs": [
    {
     "data": {
      "text/html": [
       "\n",
       "    \n",
       "    <style type=\"text/css\">\n",
       "        .Table{\n",
       "            border-collapse:collapse;\n",
       "        }\n",
       "        .Table th{\n",
       "            background: #A0A0A0; color: #ffffff; padding:4px; border:#f0e0e0 1px solid;\n",
       "            font-weight: normal; font-family: monospace; font-size: 100%;\n",
       "        }\n",
       "        .Table td{\n",
       "            padding:4px; border:#f0e0e0 1px solid; font-size:100%;\n",
       "        }\n",
       "        .Table tr:nth-child(odd){\n",
       "            background: #ffffff;\n",
       "            color: #000000;\n",
       "        }\n",
       "        .Table tr:nth-child(even){\n",
       "            background: #f3f1ff;\n",
       "            color: #000000;\n",
       "        }\n",
       "        /* Tooltip container */\n",
       "        .djtooltip {\n",
       "        }\n",
       "        /* Tooltip text */\n",
       "        .djtooltip .djtooltiptext {\n",
       "            visibility: hidden;\n",
       "            width: 120px;\n",
       "            background-color: black;\n",
       "            color: #fff;\n",
       "            text-align: center;\n",
       "            padding: 5px 0;\n",
       "            border-radius: 6px;\n",
       "            /* Position the tooltip text - see examples below! */\n",
       "            position: absolute;\n",
       "            z-index: 1;\n",
       "        }\n",
       "        #primary {\n",
       "            font-weight: bold;\n",
       "            color: black;\n",
       "        }\n",
       "        #nonprimary {\n",
       "            font-weight: normal;\n",
       "            color: white;\n",
       "        }\n",
       "\n",
       "        /* Show the tooltip text when you mouse over the tooltip container */\n",
       "        .djtooltip:hover .djtooltiptext {\n",
       "            visibility: visible;\n",
       "        }\n",
       "    </style>\n",
       "    \n",
       "    <b>decoded replay content</b>\n",
       "        <div style=\"max-height:1000px;max-width:1500px;overflow:auto;\">\n",
       "        <table border=\"1\" class=\"Table\">\n",
       "            <thead> <tr style=\"text-align: right;\"> <th> <div class=\"djtooltip\">\n",
       "                            <p id=\"primary\">nwb_file_name</p>\n",
       "                            <span class=\"djtooltiptext\">name of the NWB file</span>\n",
       "                        </div></th><th><div class=\"djtooltip\">\n",
       "                            <p id=\"primary\">interval_list_name</p>\n",
       "                            <span class=\"djtooltiptext\">descriptive name of this interval list</span>\n",
       "                        </div></th><th><div class=\"djtooltip\">\n",
       "                            <p id=\"nonprimary\">marks</p>\n",
       "                            <span class=\"djtooltiptext\">valid marks within that interval</span>\n",
       "                        </div></th><th><div class=\"djtooltip\">\n",
       "                            <p id=\"nonprimary\">position_1d</p>\n",
       "                            <span class=\"djtooltiptext\">valid position within that interval (1D), inluding all rat-on-track time</span>\n",
       "                        </div></th><th><div class=\"djtooltip\">\n",
       "                            <p id=\"nonprimary\">position_2d</p>\n",
       "                            <span class=\"djtooltiptext\">valid position within that interval (2D), inluding all rat-on-track time</span>\n",
       "                        </div> </th> </tr> </thead>\n",
       "            <tbody> <tr> <td>eliot20221017_.nwb</td>\n",
       "<td>02_Seq2Session1</td>\n",
       "<td>=BLOB=</td>\n",
       "<td>=BLOB=</td>\n",
       "<td>=BLOB=</td></tr><tr><td>eliot20221017_.nwb</td>\n",
       "<td>04_Seq2Session2</td>\n",
       "<td>=BLOB=</td>\n",
       "<td>=BLOB=</td>\n",
       "<td>=BLOB=</td></tr><tr><td>eliot20221017_.nwb</td>\n",
       "<td>06_Seq2Session3</td>\n",
       "<td>=BLOB=</td>\n",
       "<td>=BLOB=</td>\n",
       "<td>=BLOB=</td></tr><tr><td>eliot20221017_.nwb</td>\n",
       "<td>08_Seq2Session4</td>\n",
       "<td>=BLOB=</td>\n",
       "<td>=BLOB=</td>\n",
       "<td>=BLOB=</td> </tr> </tbody>\n",
       "        </table>\n",
       "        \n",
       "        <p>Total: 4</p></div>\n",
       "        "
      ],
      "text/plain": [
       "*nwb_file_name *interval_list marks      position_1 position_2\n",
       "+------------+ +------------+ +--------+ +--------+ +--------+\n",
       "eliot20221017_ 02_Seq2Session =BLOB=     =BLOB=     =BLOB=    \n",
       "eliot20221017_ 04_Seq2Session =BLOB=     =BLOB=     =BLOB=    \n",
       "eliot20221017_ 06_Seq2Session =BLOB=     =BLOB=     =BLOB=    \n",
       "eliot20221017_ 08_Seq2Session =BLOB=     =BLOB=     =BLOB=    \n",
       " (Total: 4)"
      ]
     },
     "execution_count": 100,
     "metadata": {},
     "output_type": "execute_result"
    }
   ],
   "source": [
    "from spyglass.shijiegu.Analysis_SGU import DecodeIngredients\n",
    "key={'nwb_file_name':nwb_copy_file_name}\n",
    "DecodeIngredients() & key"
   ]
  },
  {
   "cell_type": "markdown",
   "id": "b54870f8-6e48-4c41-92ee-df82f560d649",
   "metadata": {},
   "source": [
    "# END HERE"
   ]
  },
  {
   "cell_type": "code",
   "execution_count": 59,
   "id": "c0a7782c-cbc8-4a79-8858-341eedce9ec3",
   "metadata": {},
   "outputs": [],
   "source": [
    "## try loading\n",
    "nwb_copy_file_name = 'eliot20221021_.nwb'"
   ]
  },
  {
   "cell_type": "code",
   "execution_count": 44,
   "id": "49a4e8aa-3015-40e6-adef-0afcc909a4c4",
   "metadata": {},
   "outputs": [],
   "source": [
    "e=0"
   ]
  },
  {
   "cell_type": "code",
   "execution_count": 45,
   "id": "49851181-b4fe-4e07-bb97-7d8a2727b62d",
   "metadata": {},
   "outputs": [],
   "source": [
    "entry = DecodeIngredients & {'nwb_file_name':nwb_copy_file_name,\n",
    "     'interval_list_name':session_interval[e]}\n",
    "marks = xr.open_dataset(entry.fetch1('marks'))\n",
    "position_1d = pd.read_csv(entry.fetch1('position_1d'))\n",
    "position_2d = pd.read_csv(entry.fetch1('position_2d'))"
   ]
  },
  {
   "cell_type": "code",
   "execution_count": 46,
   "id": "4e8657a6-dc9f-4e5f-bbcb-e50b5bdb474e",
   "metadata": {},
   "outputs": [
    {
     "data": {
      "text/html": [
       "<div><svg style=\"position: absolute; width: 0; height: 0; overflow: hidden\">\n",
       "<defs>\n",
       "<symbol id=\"icon-database\" viewBox=\"0 0 32 32\">\n",
       "<path d=\"M16 0c-8.837 0-16 2.239-16 5v4c0 2.761 7.163 5 16 5s16-2.239 16-5v-4c0-2.761-7.163-5-16-5z\"></path>\n",
       "<path d=\"M16 17c-8.837 0-16-2.239-16-5v6c0 2.761 7.163 5 16 5s16-2.239 16-5v-6c0 2.761-7.163 5-16 5z\"></path>\n",
       "<path d=\"M16 26c-8.837 0-16-2.239-16-5v6c0 2.761 7.163 5 16 5s16-2.239 16-5v-6c0 2.761-7.163 5-16 5z\"></path>\n",
       "</symbol>\n",
       "<symbol id=\"icon-file-text2\" viewBox=\"0 0 32 32\">\n",
       "<path d=\"M28.681 7.159c-0.694-0.947-1.662-2.053-2.724-3.116s-2.169-2.030-3.116-2.724c-1.612-1.182-2.393-1.319-2.841-1.319h-15.5c-1.378 0-2.5 1.121-2.5 2.5v27c0 1.378 1.122 2.5 2.5 2.5h23c1.378 0 2.5-1.122 2.5-2.5v-19.5c0-0.448-0.137-1.23-1.319-2.841zM24.543 5.457c0.959 0.959 1.712 1.825 2.268 2.543h-4.811v-4.811c0.718 0.556 1.584 1.309 2.543 2.268zM28 29.5c0 0.271-0.229 0.5-0.5 0.5h-23c-0.271 0-0.5-0.229-0.5-0.5v-27c0-0.271 0.229-0.5 0.5-0.5 0 0 15.499-0 15.5 0v7c0 0.552 0.448 1 1 1h7v19.5z\"></path>\n",
       "<path d=\"M23 26h-14c-0.552 0-1-0.448-1-1s0.448-1 1-1h14c0.552 0 1 0.448 1 1s-0.448 1-1 1z\"></path>\n",
       "<path d=\"M23 22h-14c-0.552 0-1-0.448-1-1s0.448-1 1-1h14c0.552 0 1 0.448 1 1s-0.448 1-1 1z\"></path>\n",
       "<path d=\"M23 18h-14c-0.552 0-1-0.448-1-1s0.448-1 1-1h14c0.552 0 1 0.448 1 1s-0.448 1-1 1z\"></path>\n",
       "</symbol>\n",
       "</defs>\n",
       "</svg>\n",
       "<style>/* CSS stylesheet for displaying xarray objects in jupyterlab.\n",
       " *\n",
       " */\n",
       "\n",
       ":root {\n",
       "  --xr-font-color0: var(--jp-content-font-color0, rgba(0, 0, 0, 1));\n",
       "  --xr-font-color2: var(--jp-content-font-color2, rgba(0, 0, 0, 0.54));\n",
       "  --xr-font-color3: var(--jp-content-font-color3, rgba(0, 0, 0, 0.38));\n",
       "  --xr-border-color: var(--jp-border-color2, #e0e0e0);\n",
       "  --xr-disabled-color: var(--jp-layout-color3, #bdbdbd);\n",
       "  --xr-background-color: var(--jp-layout-color0, white);\n",
       "  --xr-background-color-row-even: var(--jp-layout-color1, white);\n",
       "  --xr-background-color-row-odd: var(--jp-layout-color2, #eeeeee);\n",
       "}\n",
       "\n",
       "html[theme=dark],\n",
       "body[data-theme=dark],\n",
       "body.vscode-dark {\n",
       "  --xr-font-color0: rgba(255, 255, 255, 1);\n",
       "  --xr-font-color2: rgba(255, 255, 255, 0.54);\n",
       "  --xr-font-color3: rgba(255, 255, 255, 0.38);\n",
       "  --xr-border-color: #1F1F1F;\n",
       "  --xr-disabled-color: #515151;\n",
       "  --xr-background-color: #111111;\n",
       "  --xr-background-color-row-even: #111111;\n",
       "  --xr-background-color-row-odd: #313131;\n",
       "}\n",
       "\n",
       ".xr-wrap {\n",
       "  display: block !important;\n",
       "  min-width: 300px;\n",
       "  max-width: 700px;\n",
       "}\n",
       "\n",
       ".xr-text-repr-fallback {\n",
       "  /* fallback to plain text repr when CSS is not injected (untrusted notebook) */\n",
       "  display: none;\n",
       "}\n",
       "\n",
       ".xr-header {\n",
       "  padding-top: 6px;\n",
       "  padding-bottom: 6px;\n",
       "  margin-bottom: 4px;\n",
       "  border-bottom: solid 1px var(--xr-border-color);\n",
       "}\n",
       "\n",
       ".xr-header > div,\n",
       ".xr-header > ul {\n",
       "  display: inline;\n",
       "  margin-top: 0;\n",
       "  margin-bottom: 0;\n",
       "}\n",
       "\n",
       ".xr-obj-type,\n",
       ".xr-array-name {\n",
       "  margin-left: 2px;\n",
       "  margin-right: 10px;\n",
       "}\n",
       "\n",
       ".xr-obj-type {\n",
       "  color: var(--xr-font-color2);\n",
       "}\n",
       "\n",
       ".xr-sections {\n",
       "  padding-left: 0 !important;\n",
       "  display: grid;\n",
       "  grid-template-columns: 150px auto auto 1fr 20px 20px;\n",
       "}\n",
       "\n",
       ".xr-section-item {\n",
       "  display: contents;\n",
       "}\n",
       "\n",
       ".xr-section-item input {\n",
       "  display: none;\n",
       "}\n",
       "\n",
       ".xr-section-item input + label {\n",
       "  color: var(--xr-disabled-color);\n",
       "}\n",
       "\n",
       ".xr-section-item input:enabled + label {\n",
       "  cursor: pointer;\n",
       "  color: var(--xr-font-color2);\n",
       "}\n",
       "\n",
       ".xr-section-item input:enabled + label:hover {\n",
       "  color: var(--xr-font-color0);\n",
       "}\n",
       "\n",
       ".xr-section-summary {\n",
       "  grid-column: 1;\n",
       "  color: var(--xr-font-color2);\n",
       "  font-weight: 500;\n",
       "}\n",
       "\n",
       ".xr-section-summary > span {\n",
       "  display: inline-block;\n",
       "  padding-left: 0.5em;\n",
       "}\n",
       "\n",
       ".xr-section-summary-in:disabled + label {\n",
       "  color: var(--xr-font-color2);\n",
       "}\n",
       "\n",
       ".xr-section-summary-in + label:before {\n",
       "  display: inline-block;\n",
       "  content: '►';\n",
       "  font-size: 11px;\n",
       "  width: 15px;\n",
       "  text-align: center;\n",
       "}\n",
       "\n",
       ".xr-section-summary-in:disabled + label:before {\n",
       "  color: var(--xr-disabled-color);\n",
       "}\n",
       "\n",
       ".xr-section-summary-in:checked + label:before {\n",
       "  content: '▼';\n",
       "}\n",
       "\n",
       ".xr-section-summary-in:checked + label > span {\n",
       "  display: none;\n",
       "}\n",
       "\n",
       ".xr-section-summary,\n",
       ".xr-section-inline-details {\n",
       "  padding-top: 4px;\n",
       "  padding-bottom: 4px;\n",
       "}\n",
       "\n",
       ".xr-section-inline-details {\n",
       "  grid-column: 2 / -1;\n",
       "}\n",
       "\n",
       ".xr-section-details {\n",
       "  display: none;\n",
       "  grid-column: 1 / -1;\n",
       "  margin-bottom: 5px;\n",
       "}\n",
       "\n",
       ".xr-section-summary-in:checked ~ .xr-section-details {\n",
       "  display: contents;\n",
       "}\n",
       "\n",
       ".xr-array-wrap {\n",
       "  grid-column: 1 / -1;\n",
       "  display: grid;\n",
       "  grid-template-columns: 20px auto;\n",
       "}\n",
       "\n",
       ".xr-array-wrap > label {\n",
       "  grid-column: 1;\n",
       "  vertical-align: top;\n",
       "}\n",
       "\n",
       ".xr-preview {\n",
       "  color: var(--xr-font-color3);\n",
       "}\n",
       "\n",
       ".xr-array-preview,\n",
       ".xr-array-data {\n",
       "  padding: 0 5px !important;\n",
       "  grid-column: 2;\n",
       "}\n",
       "\n",
       ".xr-array-data,\n",
       ".xr-array-in:checked ~ .xr-array-preview {\n",
       "  display: none;\n",
       "}\n",
       "\n",
       ".xr-array-in:checked ~ .xr-array-data,\n",
       ".xr-array-preview {\n",
       "  display: inline-block;\n",
       "}\n",
       "\n",
       ".xr-dim-list {\n",
       "  display: inline-block !important;\n",
       "  list-style: none;\n",
       "  padding: 0 !important;\n",
       "  margin: 0;\n",
       "}\n",
       "\n",
       ".xr-dim-list li {\n",
       "  display: inline-block;\n",
       "  padding: 0;\n",
       "  margin: 0;\n",
       "}\n",
       "\n",
       ".xr-dim-list:before {\n",
       "  content: '(';\n",
       "}\n",
       "\n",
       ".xr-dim-list:after {\n",
       "  content: ')';\n",
       "}\n",
       "\n",
       ".xr-dim-list li:not(:last-child):after {\n",
       "  content: ',';\n",
       "  padding-right: 5px;\n",
       "}\n",
       "\n",
       ".xr-has-index {\n",
       "  font-weight: bold;\n",
       "}\n",
       "\n",
       ".xr-var-list,\n",
       ".xr-var-item {\n",
       "  display: contents;\n",
       "}\n",
       "\n",
       ".xr-var-item > div,\n",
       ".xr-var-item label,\n",
       ".xr-var-item > .xr-var-name span {\n",
       "  background-color: var(--xr-background-color-row-even);\n",
       "  margin-bottom: 0;\n",
       "}\n",
       "\n",
       ".xr-var-item > .xr-var-name:hover span {\n",
       "  padding-right: 5px;\n",
       "}\n",
       "\n",
       ".xr-var-list > li:nth-child(odd) > div,\n",
       ".xr-var-list > li:nth-child(odd) > label,\n",
       ".xr-var-list > li:nth-child(odd) > .xr-var-name span {\n",
       "  background-color: var(--xr-background-color-row-odd);\n",
       "}\n",
       "\n",
       ".xr-var-name {\n",
       "  grid-column: 1;\n",
       "}\n",
       "\n",
       ".xr-var-dims {\n",
       "  grid-column: 2;\n",
       "}\n",
       "\n",
       ".xr-var-dtype {\n",
       "  grid-column: 3;\n",
       "  text-align: right;\n",
       "  color: var(--xr-font-color2);\n",
       "}\n",
       "\n",
       ".xr-var-preview {\n",
       "  grid-column: 4;\n",
       "}\n",
       "\n",
       ".xr-index-preview {\n",
       "  grid-column: 2 / 5;\n",
       "  color: var(--xr-font-color2);\n",
       "}\n",
       "\n",
       ".xr-var-name,\n",
       ".xr-var-dims,\n",
       ".xr-var-dtype,\n",
       ".xr-preview,\n",
       ".xr-attrs dt {\n",
       "  white-space: nowrap;\n",
       "  overflow: hidden;\n",
       "  text-overflow: ellipsis;\n",
       "  padding-right: 10px;\n",
       "}\n",
       "\n",
       ".xr-var-name:hover,\n",
       ".xr-var-dims:hover,\n",
       ".xr-var-dtype:hover,\n",
       ".xr-attrs dt:hover {\n",
       "  overflow: visible;\n",
       "  width: auto;\n",
       "  z-index: 1;\n",
       "}\n",
       "\n",
       ".xr-var-attrs,\n",
       ".xr-var-data,\n",
       ".xr-index-data {\n",
       "  display: none;\n",
       "  background-color: var(--xr-background-color) !important;\n",
       "  padding-bottom: 5px !important;\n",
       "}\n",
       "\n",
       ".xr-var-attrs-in:checked ~ .xr-var-attrs,\n",
       ".xr-var-data-in:checked ~ .xr-var-data,\n",
       ".xr-index-data-in:checked ~ .xr-index-data {\n",
       "  display: block;\n",
       "}\n",
       "\n",
       ".xr-var-data > table {\n",
       "  float: right;\n",
       "}\n",
       "\n",
       ".xr-var-name span,\n",
       ".xr-var-data,\n",
       ".xr-index-name div,\n",
       ".xr-index-data,\n",
       ".xr-attrs {\n",
       "  padding-left: 25px !important;\n",
       "}\n",
       "\n",
       ".xr-attrs,\n",
       ".xr-var-attrs,\n",
       ".xr-var-data,\n",
       ".xr-index-data {\n",
       "  grid-column: 1 / -1;\n",
       "}\n",
       "\n",
       "dl.xr-attrs {\n",
       "  padding: 0;\n",
       "  margin: 0;\n",
       "  display: grid;\n",
       "  grid-template-columns: 125px auto;\n",
       "}\n",
       "\n",
       ".xr-attrs dt,\n",
       ".xr-attrs dd {\n",
       "  padding: 0;\n",
       "  margin: 0;\n",
       "  float: left;\n",
       "  padding-right: 10px;\n",
       "  width: auto;\n",
       "}\n",
       "\n",
       ".xr-attrs dt {\n",
       "  font-weight: normal;\n",
       "  grid-column: 1;\n",
       "}\n",
       "\n",
       ".xr-attrs dt:hover span {\n",
       "  display: inline-block;\n",
       "  background: var(--xr-background-color);\n",
       "  padding-right: 10px;\n",
       "}\n",
       "\n",
       ".xr-attrs dd {\n",
       "  grid-column: 2;\n",
       "  white-space: pre-wrap;\n",
       "  word-break: break-all;\n",
       "}\n",
       "\n",
       ".xr-icon-database,\n",
       ".xr-icon-file-text2,\n",
       ".xr-no-icon {\n",
       "  display: inline-block;\n",
       "  vertical-align: middle;\n",
       "  width: 1em;\n",
       "  height: 1.5em !important;\n",
       "  stroke-width: 0;\n",
       "  stroke: currentColor;\n",
       "  fill: currentColor;\n",
       "}\n",
       "</style><pre class='xr-text-repr-fallback'>&lt;xarray.Dataset&gt;\n",
       "Dimensions:                        (time: 958279, marks: 4, electrodes: 15)\n",
       "Coordinates:\n",
       "  * time                           (time) float64 1.667e+09 ... 1.667e+09\n",
       "  * electrodes                     (electrodes) int32 0 2 4 5 13 ... 28 29 30 31\n",
       "  * marks                          (marks) object &#x27;amplitude_0000&#x27; ... &#x27;ampli...\n",
       "Data variables:\n",
       "    __xarray_dataarray_variable__  (time, marks, electrodes) float32 ...</pre><div class='xr-wrap' style='display:none'><div class='xr-header'><div class='xr-obj-type'>xarray.Dataset</div></div><ul class='xr-sections'><li class='xr-section-item'><input id='section-e0ab6730-3715-49cc-a449-3e8b6bbbebe8' class='xr-section-summary-in' type='checkbox' disabled ><label for='section-e0ab6730-3715-49cc-a449-3e8b6bbbebe8' class='xr-section-summary'  title='Expand/collapse section'>Dimensions:</label><div class='xr-section-inline-details'><ul class='xr-dim-list'><li><span class='xr-has-index'>time</span>: 958279</li><li><span class='xr-has-index'>marks</span>: 4</li><li><span class='xr-has-index'>electrodes</span>: 15</li></ul></div><div class='xr-section-details'></div></li><li class='xr-section-item'><input id='section-7df2f842-fe32-4a68-b106-d711c3fe7f92' class='xr-section-summary-in' type='checkbox'  checked><label for='section-7df2f842-fe32-4a68-b106-d711c3fe7f92' class='xr-section-summary' >Coordinates: <span>(3)</span></label><div class='xr-section-inline-details'></div><div class='xr-section-details'><ul class='xr-var-list'><li class='xr-var-item'><div class='xr-var-name'><span class='xr-has-index'>time</span></div><div class='xr-var-dims'>(time)</div><div class='xr-var-dtype'>float64</div><div class='xr-var-preview xr-preview'>1.667e+09 1.667e+09 ... 1.667e+09</div><input id='attrs-db3bd08f-e0cc-46b4-b44e-1754517c50b5' class='xr-var-attrs-in' type='checkbox' disabled><label for='attrs-db3bd08f-e0cc-46b4-b44e-1754517c50b5' title='Show/Hide attributes'><svg class='icon xr-icon-file-text2'><use xlink:href='#icon-file-text2'></use></svg></label><input id='data-4c20c46a-b155-4992-adb3-c715ca2e8264' class='xr-var-data-in' type='checkbox'><label for='data-4c20c46a-b155-4992-adb3-c715ca2e8264' title='Show/Hide data repr'><svg class='icon xr-icon-database'><use xlink:href='#icon-database'></use></svg></label><div class='xr-var-attrs'><dl class='xr-attrs'></dl></div><div class='xr-var-data'><pre>array([1.666725e+09, 1.666725e+09, 1.666725e+09, ..., 1.666727e+09,\n",
       "       1.666727e+09, 1.666727e+09])</pre></div></li><li class='xr-var-item'><div class='xr-var-name'><span class='xr-has-index'>electrodes</span></div><div class='xr-var-dims'>(electrodes)</div><div class='xr-var-dtype'>int32</div><div class='xr-var-preview xr-preview'>0 2 4 5 13 14 ... 26 27 28 29 30 31</div><input id='attrs-d651f316-d2de-4307-aa24-b730c01c530d' class='xr-var-attrs-in' type='checkbox' disabled><label for='attrs-d651f316-d2de-4307-aa24-b730c01c530d' title='Show/Hide attributes'><svg class='icon xr-icon-file-text2'><use xlink:href='#icon-file-text2'></use></svg></label><input id='data-4e78d928-f85e-4b91-b04b-17f48dc4afb3' class='xr-var-data-in' type='checkbox'><label for='data-4e78d928-f85e-4b91-b04b-17f48dc4afb3' title='Show/Hide data repr'><svg class='icon xr-icon-database'><use xlink:href='#icon-database'></use></svg></label><div class='xr-var-attrs'><dl class='xr-attrs'></dl></div><div class='xr-var-data'><pre>array([ 0,  2,  4,  5, 13, 14, 16, 17, 20, 26, 27, 28, 29, 30, 31], dtype=int32)</pre></div></li><li class='xr-var-item'><div class='xr-var-name'><span class='xr-has-index'>marks</span></div><div class='xr-var-dims'>(marks)</div><div class='xr-var-dtype'>object</div><div class='xr-var-preview xr-preview'>&#x27;amplitude_0000&#x27; ... &#x27;amplitude_...</div><input id='attrs-947e9689-2930-4680-bea3-23e1d3575b54' class='xr-var-attrs-in' type='checkbox' disabled><label for='attrs-947e9689-2930-4680-bea3-23e1d3575b54' title='Show/Hide attributes'><svg class='icon xr-icon-file-text2'><use xlink:href='#icon-file-text2'></use></svg></label><input id='data-a9a9e6a3-0e91-4da9-9373-42d473e69fcc' class='xr-var-data-in' type='checkbox'><label for='data-a9a9e6a3-0e91-4da9-9373-42d473e69fcc' title='Show/Hide data repr'><svg class='icon xr-icon-database'><use xlink:href='#icon-database'></use></svg></label><div class='xr-var-attrs'><dl class='xr-attrs'></dl></div><div class='xr-var-data'><pre>array([&#x27;amplitude_0000&#x27;, &#x27;amplitude_0001&#x27;, &#x27;amplitude_0002&#x27;, &#x27;amplitude_0003&#x27;],\n",
       "      dtype=object)</pre></div></li></ul></div></li><li class='xr-section-item'><input id='section-b6e2a8a4-8969-494e-858d-0821eeb2e804' class='xr-section-summary-in' type='checkbox'  checked><label for='section-b6e2a8a4-8969-494e-858d-0821eeb2e804' class='xr-section-summary' >Data variables: <span>(1)</span></label><div class='xr-section-inline-details'></div><div class='xr-section-details'><ul class='xr-var-list'><li class='xr-var-item'><div class='xr-var-name'><span>__xarray_dataarray_variable__</span></div><div class='xr-var-dims'>(time, marks, electrodes)</div><div class='xr-var-dtype'>float32</div><div class='xr-var-preview xr-preview'>...</div><input id='attrs-b233e487-73ed-43d1-8cff-8f3d9314418e' class='xr-var-attrs-in' type='checkbox' disabled><label for='attrs-b233e487-73ed-43d1-8cff-8f3d9314418e' title='Show/Hide attributes'><svg class='icon xr-icon-file-text2'><use xlink:href='#icon-file-text2'></use></svg></label><input id='data-d3419790-3c7a-4af0-a58c-f769e6a287ef' class='xr-var-data-in' type='checkbox'><label for='data-d3419790-3c7a-4af0-a58c-f769e6a287ef' title='Show/Hide data repr'><svg class='icon xr-icon-database'><use xlink:href='#icon-database'></use></svg></label><div class='xr-var-attrs'><dl class='xr-attrs'></dl></div><div class='xr-var-data'><pre>[57496740 values with dtype=float32]</pre></div></li></ul></div></li><li class='xr-section-item'><input id='section-4498e944-a195-4782-ad2f-e5eae742e0b3' class='xr-section-summary-in' type='checkbox'  ><label for='section-4498e944-a195-4782-ad2f-e5eae742e0b3' class='xr-section-summary' >Indexes: <span>(3)</span></label><div class='xr-section-inline-details'></div><div class='xr-section-details'><ul class='xr-var-list'><li class='xr-var-item'><div class='xr-index-name'><div>time</div></div><div class='xr-index-preview'>PandasIndex</div><div></div><input id='index-8d52ab3e-c604-46a8-8d15-b2df744f7d3f' class='xr-index-data-in' type='checkbox'/><label for='index-8d52ab3e-c604-46a8-8d15-b2df744f7d3f' title='Show/Hide index repr'><svg class='icon xr-icon-database'><use xlink:href='#icon-database'></use></svg></label><div class='xr-index-data'><pre>PandasIndex(Index([1666724781.1396961, 1666724781.1416962, 1666724781.1436963,\n",
       "       1666724781.1456962, 1666724781.1476963,  1666724781.149696,\n",
       "       1666724781.1516962, 1666724781.1536963, 1666724781.1556962,\n",
       "       1666724781.1576962,\n",
       "       ...\n",
       "        1666726697.805287, 1666726697.8072867, 1666726697.8092868,\n",
       "       1666726697.8112867, 1666726697.8132868, 1666726697.8152869,\n",
       "       1666726697.8172867, 1666726697.8192868, 1666726697.8212867,\n",
       "       1666726697.8232868],\n",
       "      dtype=&#x27;float64&#x27;, name=&#x27;time&#x27;, length=958279))</pre></div></li><li class='xr-var-item'><div class='xr-index-name'><div>electrodes</div></div><div class='xr-index-preview'>PandasIndex</div><div></div><input id='index-e94c274a-9991-4707-b181-04260abbf4f2' class='xr-index-data-in' type='checkbox'/><label for='index-e94c274a-9991-4707-b181-04260abbf4f2' title='Show/Hide index repr'><svg class='icon xr-icon-database'><use xlink:href='#icon-database'></use></svg></label><div class='xr-index-data'><pre>PandasIndex(Index([0, 2, 4, 5, 13, 14, 16, 17, 20, 26, 27, 28, 29, 30, 31], dtype=&#x27;int32&#x27;, name=&#x27;electrodes&#x27;))</pre></div></li><li class='xr-var-item'><div class='xr-index-name'><div>marks</div></div><div class='xr-index-preview'>PandasIndex</div><div></div><input id='index-9f32ecd1-01e9-4f33-baef-31ed93bd0d77' class='xr-index-data-in' type='checkbox'/><label for='index-9f32ecd1-01e9-4f33-baef-31ed93bd0d77' title='Show/Hide index repr'><svg class='icon xr-icon-database'><use xlink:href='#icon-database'></use></svg></label><div class='xr-index-data'><pre>PandasIndex(Index([&#x27;amplitude_0000&#x27;, &#x27;amplitude_0001&#x27;, &#x27;amplitude_0002&#x27;, &#x27;amplitude_0003&#x27;], dtype=&#x27;object&#x27;, name=&#x27;marks&#x27;))</pre></div></li></ul></div></li><li class='xr-section-item'><input id='section-7c9471d3-14ff-47a7-8c8d-51472e60ecf9' class='xr-section-summary-in' type='checkbox' disabled ><label for='section-7c9471d3-14ff-47a7-8c8d-51472e60ecf9' class='xr-section-summary'  title='Expand/collapse section'>Attributes: <span>(0)</span></label><div class='xr-section-inline-details'></div><div class='xr-section-details'><dl class='xr-attrs'></dl></div></li></ul></div></div>"
      ],
      "text/plain": [
       "<xarray.Dataset>\n",
       "Dimensions:                        (time: 958279, marks: 4, electrodes: 15)\n",
       "Coordinates:\n",
       "  * time                           (time) float64 1.667e+09 ... 1.667e+09\n",
       "  * electrodes                     (electrodes) int32 0 2 4 5 13 ... 28 29 30 31\n",
       "  * marks                          (marks) object 'amplitude_0000' ... 'ampli...\n",
       "Data variables:\n",
       "    __xarray_dataarray_variable__  (time, marks, electrodes) float32 ..."
      ]
     },
     "execution_count": 46,
     "metadata": {},
     "output_type": "execute_result"
    }
   ],
   "source": [
    "marks"
   ]
  },
  {
   "cell_type": "code",
   "execution_count": 47,
   "id": "4e5ef817-c0a7-4f37-8cae-e0ee91d8648c",
   "metadata": {},
   "outputs": [
    {
     "name": "stderr",
     "output_type": "stream",
     "text": [
      "[09:47:09][WARNING] Spyglass: Deprecation: this class has been moved out of spyglass.common.common_position\n",
      "\tIntervalLinearizedPosition -> spyglass.linearization.v0.main.IntervalLinearizedPosition\n",
      "Please use the new location.\n",
      "16-Jun-24 09:47:09 Deprecation: this class has been moved out of spyglass.common.common_position\n",
      "\tIntervalLinearizedPosition -> spyglass.linearization.v0.main.IntervalLinearizedPosition\n",
      "Please use the new location.\n"
     ]
    },
    {
     "name": "stdout",
     "output_type": "stream",
     "text": [
      "final shape of marks and linear position df is:\n",
      "(958279, 4)\n"
     ]
    },
    {
     "name": "stderr",
     "output_type": "stream",
     "text": [
      "[09:47:22][WARNING] Spyglass: Deprecation: this class has been moved out of spyglass.common.common_position\n",
      "\tIntervalLinearizedPosition -> spyglass.linearization.v0.main.IntervalLinearizedPosition\n",
      "Please use the new location.\n",
      "16-Jun-24 09:47:22 Deprecation: this class has been moved out of spyglass.common.common_position\n",
      "\tIntervalLinearizedPosition -> spyglass.linearization.v0.main.IntervalLinearizedPosition\n",
      "Please use the new location.\n"
     ]
    },
    {
     "name": "stdout",
     "output_type": "stream",
     "text": [
      "final shape of marks and linear position df is:\n",
      "(885994, 4)\n"
     ]
    },
    {
     "name": "stderr",
     "output_type": "stream",
     "text": [
      "[09:47:34][WARNING] Spyglass: Deprecation: this class has been moved out of spyglass.common.common_position\n",
      "\tIntervalLinearizedPosition -> spyglass.linearization.v0.main.IntervalLinearizedPosition\n",
      "Please use the new location.\n",
      "16-Jun-24 09:47:34 Deprecation: this class has been moved out of spyglass.common.common_position\n",
      "\tIntervalLinearizedPosition -> spyglass.linearization.v0.main.IntervalLinearizedPosition\n",
      "Please use the new location.\n"
     ]
    },
    {
     "name": "stdout",
     "output_type": "stream",
     "text": [
      "final shape of marks and linear position df is:\n",
      "(843218, 4)\n"
     ]
    },
    {
     "name": "stderr",
     "output_type": "stream",
     "text": [
      "[09:47:46][WARNING] Spyglass: Deprecation: this class has been moved out of spyglass.common.common_position\n",
      "\tIntervalLinearizedPosition -> spyglass.linearization.v0.main.IntervalLinearizedPosition\n",
      "Please use the new location.\n",
      "16-Jun-24 09:47:46 Deprecation: this class has been moved out of spyglass.common.common_position\n",
      "\tIntervalLinearizedPosition -> spyglass.linearization.v0.main.IntervalLinearizedPosition\n",
      "Please use the new location.\n"
     ]
    },
    {
     "name": "stdout",
     "output_type": "stream",
     "text": [
      "final shape of marks and linear position df is:\n",
      "(783223, 4)\n"
     ]
    }
   ],
   "source": [
    "for e in range(len(session_interval)):\n",
    "    \"\"\"\n",
    "    Position: UnitMarksIndicator\n",
    "    \"\"\"\n",
    "    linear_position_df = (IntervalLinearizedPosition() &\n",
    "        {'nwb_file_name': nwb_copy_file_name,\n",
    "        'interval_list_name': position_interval[e],\n",
    "        'position_info_param_name': 'default_decoding'}\n",
    "        ).fetch1_dataframe()\n",
    "    position_df = (IntervalPositionInfo &\n",
    "        {'nwb_file_name': nwb_copy_file_name,\n",
    "        'interval_list_name': position_interval[e],\n",
    "        'position_info_param_name': 'default_decoding'}\n",
    "                    ).fetch1_dataframe()\n",
    "\n",
    "    # Remove Data before 1st trial and after last trial\n",
    "    StateScript = pd.DataFrame(\n",
    "        (TrialChoice & {'nwb_file_name':nwb_copy_file_name,\n",
    "                        'epoch_name':session_interval[e]}).fetch1('choice_reward'))\n",
    "\n",
    "    trial_1_t = StateScript.loc[1].timestamp_O\n",
    "    trial_last_t = StateScript.loc[len(StateScript)-1].timestamp_O\n",
    "    linear_position_df = removeDataBeforeTrial1(linear_position_df,trial_1_t,trial_last_t)\n",
    "    position_df = removeDataBeforeTrial1(position_df,trial_1_t,trial_last_t)\n",
    "\n",
    "    \"\"\"\n",
    "    Intervals\n",
    "    \"\"\"\n",
    "    intersect_interval = intersectValidIntervals(nwb_copy_file_name,\n",
    "                                                session_interval[e],position_interval[e])\n",
    "\n",
    "    linear_position_df_=[]\n",
    "    position_df_ =[]\n",
    "    for i in range(len(intersect_interval)):\n",
    "        valid_time_slice = slice(intersect_interval[i][0], intersect_interval[i][1])\n",
    "\n",
    "        linear_position_df_.append(linear_position_df.loc[valid_time_slice])\n",
    "        position_df_.append(position_df.loc[valid_time_slice])\n",
    "\n",
    "\n",
    "    linear_position_df=pd.concat(linear_position_df_)\n",
    "    position_df=pd.concat(position_df_)\n",
    "    print('final shape of marks and linear position df is:')\n",
    "\n",
    "    print(linear_position_df.shape)\n",
    "\n",
    "    \"\"\"save result\"\"\"\n",
    "    animal = nwb_copy_file_name[:5]\n",
    "\n",
    "\n",
    "    position1d_path=os.path.join(f'/cumulus/shijie/recording_pilot/{animal}/decoding',\n",
    "                             nwb_copy_file_name+'_'+session_interval[e]+'_1dposition.csv')\n",
    "    linear_position_df.to_csv(position1d_path)\n",
    "\n",
    "    position2d_path=os.path.join(f'/cumulus/shijie/recording_pilot/{animal}/decoding',\n",
    "                             nwb_copy_file_name+'_'+session_interval[e]+'_2dposition.csv')\n",
    "    position_df.to_csv(position2d_path)"
   ]
  },
  {
   "cell_type": "code",
   "execution_count": null,
   "id": "af22639d-5972-4f52-a8f8-b823b7b63409",
   "metadata": {},
   "outputs": [],
   "source": []
  }
 ],
 "metadata": {
  "kernelspec": {
   "display_name": "Python 3 (ipykernel)",
   "language": "python",
   "name": "python3"
  },
  "language_info": {
   "codemirror_mode": {
    "name": "ipython",
    "version": 3
   },
   "file_extension": ".py",
   "mimetype": "text/x-python",
   "name": "python",
   "nbconvert_exporter": "python",
   "pygments_lexer": "ipython3",
   "version": "3.9.18"
  }
 },
 "nbformat": 4,
 "nbformat_minor": 5
}
