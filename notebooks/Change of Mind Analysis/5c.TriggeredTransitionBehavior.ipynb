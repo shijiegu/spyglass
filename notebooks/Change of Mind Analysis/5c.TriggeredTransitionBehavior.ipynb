{
 "cells": [
  {
   "cell_type": "markdown",
   "id": "5c2d0976-b5aa-4b18-a3cc-f0b4e2e21f5e",
   "metadata": {},
   "source": [
    "## 5c. Do transitions that are upregulated have longer theta - physical distance deviations?\n",
    "Not really..."
   ]
  },
  {
   "cell_type": "code",
   "execution_count": 98,
   "id": "a13280af-985d-429f-b199-bfdae466d2a1",
   "metadata": {},
   "outputs": [],
   "source": [
    "%reload_ext autoreload\n",
    "%autoreload 2"
   ]
  },
  {
   "cell_type": "code",
   "execution_count": 2,
   "id": "665f406b-b57a-4b19-960e-887af5870e3f",
   "metadata": {},
   "outputs": [
    {
     "name": "stderr",
     "output_type": "stream",
     "text": [
      "[2025-03-12 22:03:33,267][INFO]: Connecting shijiegu-alt@lmf-db.cin.ucsf.edu:3306\n",
      "[2025-03-12 22:03:33,307][INFO]: Connected shijiegu-alt@lmf-db.cin.ucsf.edu:3306\n"
     ]
    }
   ],
   "source": [
    "import spyglass as nd\n",
    "import pandas as pd\n",
    "import numpy as np\n",
    "import xarray as xr\n",
    "from scipy import stats\n",
    "from scipy import linalg\n",
    "import os\n",
    "import pickle\n",
    "import matplotlib.pyplot as plt\n",
    "from ripple_detection.core import segment_boolean_series\n",
    "\n",
    "from spyglass.common import (Session, IntervalList,LabMember, LabTeam, Raw, Session, Nwbfile,\n",
    "                            Electrode,LFPBand,interval_list_intersect)\n",
    "from spyglass.common import TaskEpoch\n",
    "from spyglass.spikesorting.v0 import (SortGroup, \n",
    "                                    SpikeSortingRecording,SpikeSortingRecordingSelection)\n",
    "from spyglass.utils.nwb_helper_fn import get_nwb_copy_filename\n",
    "from spyglass.common.common_position import IntervalPositionInfo, RawPosition, IntervalLinearizedPosition, TrackGraph"
   ]
  },
  {
   "cell_type": "code",
   "execution_count": 3,
   "id": "cd242c8e-aaa3-4a2b-a3f0-1beef267cac9",
   "metadata": {},
   "outputs": [],
   "source": [
    "from spyglass.shijiegu.pairwiseDecode import merge_overlapping_ranges,removeEmptyDecode\n",
    "from spyglass.shijiegu.ripple_add_replay import remove_adjacent\n",
    "from spyglass.shijiegu.pairwiseDecode import replay_transitions,categorized_replay_transitions,behavior_transitions,behavior_transitions_count,findXCorrAllDays\n",
    "from spyglass.shijiegu.decodeHelpers import runSessionNames"
   ]
  },
  {
   "cell_type": "code",
   "execution_count": 4,
   "id": "1f0f9d80-e3c8-488c-afde-0e868fb7ede3",
   "metadata": {},
   "outputs": [
    {
     "name": "stderr",
     "output_type": "stream",
     "text": [
      "[22:03:40][WARNING] Spyglass: Deprecation: this class has been moved out of spyglass.common.common_position\n",
      "\tTrackGraph -> spyglass.linearization.v0.main.TrackGraph\n",
      "Please use the new location.\n",
      "[22:03:40][WARNING] Spyglass: Deprecation: this class has been moved out of spyglass.common.common_position\n",
      "\tTrackGraph -> spyglass.linearization.v0.main.TrackGraph\n",
      "Please use the new location.\n",
      "[22:03:40][WARNING] Spyglass: Deprecation: this class has been moved out of spyglass.common.common_position\n",
      "\tTrackGraph -> spyglass.linearization.v0.main.TrackGraph\n",
      "Please use the new location.\n",
      "[22:03:40][WARNING] Spyglass: Deprecation: this class has been moved out of spyglass.common.common_position\n",
      "\tTrackGraph -> spyglass.linearization.v0.main.TrackGraph\n",
      "Please use the new location.\n"
     ]
    }
   ],
   "source": [
    "from spyglass.shijiegu.Analysis_SGU import TrialChoice,EpochPos,MUA,get_linearization_map\n",
    "from spyglass.shijiegu.decodeHelpers import runSessionNames\n",
    "from spyglass.shijiegu.ripple_add_replay import plot_decode_spiking\n",
    "from spyglass.shijiegu.changeOfMind import (find_turnaround_time, findProportion,\n",
    "            find_trials, load_epoch_data_wrapper, find_direction, find_trials_animal,\n",
    "            find_statescrripts)\n",
    "from spyglass.shijiegu.changeOfMind_triggered import (find_triggered_animal,find_triggered_transition_animal,\n",
    "    find_triggered_log_session, find_triggered_log_animal,fitLM,labels,seq1,seq2,rev1,rev2,rev3)\n",
    "\n",
    "import statsmodels.api as sm\n",
    "from spyglass.shijiegu.changeOfMind_triggered import (find_triggered_animal,\n",
    "    plot_physical_vs_mental_position, parse_to_transitions, \n",
    "    find_large_position_minus_decode_trials, normalize_to_1, matrix_correlation,\n",
    "    find_behavior_sum, find_transitions_sum, find_transitions, correlate_transition_deltabehavior,trials_date_session_to_dict\n",
    ")\n",
    "from spyglass.shijiegu.pairwiseDecode import behavior_transitions_count"
   ]
  },
  {
   "cell_type": "code",
   "execution_count": 62,
   "id": "f1d2e3f2-9f29-4c19-b81b-58c5bbb4a398",
   "metadata": {},
   "outputs": [],
   "source": [
    "def isin_tuple(target_tuple,all_tuples):\n",
    "    for item in all_tuples:\n",
    "        if item == target_tuple:\n",
    "            #print(\"Tuple found!\")\n",
    "            return True\n",
    "    return False\n",
    "    \n",
    "def theta_length_by_transition_up_down(replay_trials, devs, transitions_up, transitions_down):\n",
    "    # find max theta-physical distance by transitions that are behaviorally up or down modulated:\n",
    "    # for each trial\n",
    "    #    load state script\n",
    "    #    get would have been 1\n",
    "    #    if would have been 1 is in up, add to pile 1\n",
    "    #    if would have been 1 is in down, add to pile 2\n",
    "    \n",
    "    dev_transitions_up = []\n",
    "    dev_transitions_down = []\n",
    "    for d in replay_trials[animal].keys():\n",
    "        replay_trials_day = replay_trials[animal][d]\n",
    "        dev_day = devs[animal][d]\n",
    "        \n",
    "        for info_ind in range(len(replay_trials_day)):\n",
    "            info = replay_trials_day[info_ind]\n",
    "            dev = dev_day[info_ind]\n",
    "            \n",
    "            d = info[0]\n",
    "        \n",
    "            # parse\n",
    "            key={'nwb_file_name':info[0],'epoch_name':info[1]}\n",
    "            log=(TrialChoice & key).fetch1('choice_reward')\n",
    "            log_df=pd.DataFrame(log)\n",
    "            (i,j), (i,j_wouldhave) = parse_to_transitions((info[2], info[3], log_df))\n",
    "    \n",
    "            if isin_tuple((i-1,j_wouldhave-1),transitions_up):\n",
    "                dev_transitions_up.append(dev)\n",
    "            elif isin_tuple((i-1,j_wouldhave-1),transitions_down):\n",
    "                dev_transitions_down.append(dev)\n",
    "    return dev_transitions_up, dev_transitions_down\n",
    "        "
   ]
  },
  {
   "cell_type": "code",
   "execution_count": 87,
   "id": "193f17e6-157c-42f6-bedf-d965f9b6a3ce",
   "metadata": {},
   "outputs": [],
   "source": [
    "from scipy.stats import permutation_test\n",
    "\n",
    "def statistic(x, y, axis):\n",
    "    #return np.mean(x) - np.mean(y)\n",
    "    return np.mean(x, axis=axis) - np.mean(y, axis=axis)\n",
    "\n"
   ]
  },
  {
   "cell_type": "code",
   "execution_count": 6,
   "id": "a3c3e3e5-ea88-48c4-b730-557b25bacd83",
   "metadata": {},
   "outputs": [],
   "source": [
    "animal = 'Eliot'\n",
    "dates_to_plot = ['20221018','20221019','20221020','20221021','20221022','20221023','20221024','20221025','20221026']\n",
    "\n",
    "encoding_set = '2Dheadspeed_above_4_andlowmua'\n",
    "classifier_param_name = 'default_decoding_gpu_4armMaze'\n",
    "datafolder = f'/cumulus/shijie/behavior_pilot/Batch1/{animal}'"
   ]
  },
  {
   "cell_type": "code",
   "execution_count": 63,
   "id": "f5a9dc6e-cc55-4269-a118-b6307d7a7fe8",
   "metadata": {},
   "outputs": [],
   "source": [
    "animal = 'Lewis'\n",
    "\n",
    "dates_to_plot = ['20240105','20240106','20240107','20240108','20240109',\n",
    "                 '20240110']#'20240114']#'20240115','20240116','20240117','20240118','20240119','20240120']\n",
    "\n",
    "#dates_to_plot = ['20240115','20240116','20240117','20240118','20240119','20240120']"
   ]
  },
  {
   "cell_type": "code",
   "execution_count": 64,
   "id": "22aed42e-39b5-42b0-ae0f-f795153a7428",
   "metadata": {
    "scrolled": true
   },
   "outputs": [
    {
     "name": "stderr",
     "output_type": "stream",
     "text": [
      "[21:03:03][WARNING] Spyglass: Deprecation: this class has been moved out of spyglass.common.common_position\n",
      "\tIntervalLinearizedPosition -> spyglass.linearization.v0.main.IntervalLinearizedPosition\n",
      "Please use the new location.\n"
     ]
    },
    {
     "name": "stdout",
     "output_type": "stream",
     "text": [
      "currently investigating:\n",
      "02_Rev2Session1\n",
      "pos 1 valid times\n",
      "some missing position data\n"
     ]
    },
    {
     "name": "stderr",
     "output_type": "stream",
     "text": [
      "[21:03:06][WARNING] Spyglass: Deprecation: this class has been moved out of spyglass.common.common_position\n",
      "\tIntervalLinearizedPosition -> spyglass.linearization.v0.main.IntervalLinearizedPosition\n",
      "Please use the new location.\n"
     ]
    },
    {
     "name": "stdout",
     "output_type": "stream",
     "text": [
      "currently investigating:\n",
      "04_Rev2Session2\n",
      "pos 3 valid times\n"
     ]
    },
    {
     "name": "stderr",
     "output_type": "stream",
     "text": [
      "[21:03:07][WARNING] Spyglass: Deprecation: this class has been moved out of spyglass.common.common_position\n",
      "\tIntervalLinearizedPosition -> spyglass.linearization.v0.main.IntervalLinearizedPosition\n",
      "Please use the new location.\n"
     ]
    },
    {
     "name": "stdout",
     "output_type": "stream",
     "text": [
      "currently investigating:\n",
      "06_Rev2Session3\n",
      "pos 5 valid times\n"
     ]
    },
    {
     "name": "stderr",
     "output_type": "stream",
     "text": [
      "[21:03:09][WARNING] Spyglass: Deprecation: this class has been moved out of spyglass.common.common_position\n",
      "\tIntervalLinearizedPosition -> spyglass.linearization.v0.main.IntervalLinearizedPosition\n",
      "Please use the new location.\n"
     ]
    },
    {
     "name": "stdout",
     "output_type": "stream",
     "text": [
      "currently investigating:\n",
      "08_Rev2Session4\n",
      "pos 7 valid times\n"
     ]
    },
    {
     "name": "stderr",
     "output_type": "stream",
     "text": [
      "[21:03:10][WARNING] Spyglass: Deprecation: this class has been moved out of spyglass.common.common_position\n",
      "\tIntervalLinearizedPosition -> spyglass.linearization.v0.main.IntervalLinearizedPosition\n",
      "Please use the new location.\n"
     ]
    },
    {
     "name": "stdout",
     "output_type": "stream",
     "text": [
      "currently investigating:\n",
      "10_Rev2Session5\n",
      "pos 9 valid times\n"
     ]
    },
    {
     "name": "stderr",
     "output_type": "stream",
     "text": [
      "[21:03:10][WARNING] Spyglass: Deprecation: this class has been moved out of spyglass.common.common_position\n",
      "\tIntervalLinearizedPosition -> spyglass.linearization.v0.main.IntervalLinearizedPosition\n",
      "Please use the new location.\n"
     ]
    },
    {
     "name": "stdout",
     "output_type": "stream",
     "text": [
      "currently investigating:\n",
      "02_Rev2Session1\n",
      "pos 1 valid times\n"
     ]
    },
    {
     "name": "stderr",
     "output_type": "stream",
     "text": [
      "[21:03:12][WARNING] Spyglass: Deprecation: this class has been moved out of spyglass.common.common_position\n",
      "\tIntervalLinearizedPosition -> spyglass.linearization.v0.main.IntervalLinearizedPosition\n",
      "Please use the new location.\n"
     ]
    },
    {
     "name": "stdout",
     "output_type": "stream",
     "text": [
      "currently investigating:\n",
      "04_Rev2Session2\n",
      "pos 3 valid times\n"
     ]
    },
    {
     "name": "stderr",
     "output_type": "stream",
     "text": [
      "[21:03:13][WARNING] Spyglass: Deprecation: this class has been moved out of spyglass.common.common_position\n",
      "\tIntervalLinearizedPosition -> spyglass.linearization.v0.main.IntervalLinearizedPosition\n",
      "Please use the new location.\n"
     ]
    },
    {
     "name": "stdout",
     "output_type": "stream",
     "text": [
      "currently investigating:\n",
      "06_Rev2Session3\n",
      "pos 5 valid times\n"
     ]
    },
    {
     "name": "stderr",
     "output_type": "stream",
     "text": [
      "[21:03:14][WARNING] Spyglass: Deprecation: this class has been moved out of spyglass.common.common_position\n",
      "\tIntervalLinearizedPosition -> spyglass.linearization.v0.main.IntervalLinearizedPosition\n",
      "Please use the new location.\n"
     ]
    },
    {
     "name": "stdout",
     "output_type": "stream",
     "text": [
      "currently investigating:\n",
      "08_Rev2Session4\n",
      "pos 7 valid times\n"
     ]
    },
    {
     "name": "stderr",
     "output_type": "stream",
     "text": [
      "[21:03:15][WARNING] Spyglass: Deprecation: this class has been moved out of spyglass.common.common_position\n",
      "\tIntervalLinearizedPosition -> spyglass.linearization.v0.main.IntervalLinearizedPosition\n",
      "Please use the new location.\n"
     ]
    },
    {
     "name": "stdout",
     "output_type": "stream",
     "text": [
      "currently investigating:\n",
      "10_Rev2Session5\n",
      "pos 9 valid times\n"
     ]
    },
    {
     "name": "stderr",
     "output_type": "stream",
     "text": [
      "[21:03:37][WARNING] Spyglass: Deprecation: this class has been moved out of spyglass.common.common_position\n",
      "\tIntervalLinearizedPosition -> spyglass.linearization.v0.main.IntervalLinearizedPosition\n",
      "Please use the new location.\n"
     ]
    },
    {
     "name": "stdout",
     "output_type": "stream",
     "text": [
      "currently investigating:\n",
      "02_Rev2Session1\n",
      "pos 1 valid times\n"
     ]
    },
    {
     "name": "stderr",
     "output_type": "stream",
     "text": [
      "[21:03:38][WARNING] Spyglass: Deprecation: this class has been moved out of spyglass.common.common_position\n",
      "\tIntervalLinearizedPosition -> spyglass.linearization.v0.main.IntervalLinearizedPosition\n",
      "Please use the new location.\n"
     ]
    },
    {
     "name": "stdout",
     "output_type": "stream",
     "text": [
      "currently investigating:\n",
      "04_Rev2Session2\n",
      "pos 3 valid times\n",
      "some missing position data\n",
      "some missing position data\n"
     ]
    },
    {
     "name": "stderr",
     "output_type": "stream",
     "text": [
      "[21:03:39][WARNING] Spyglass: Deprecation: this class has been moved out of spyglass.common.common_position\n",
      "\tIntervalLinearizedPosition -> spyglass.linearization.v0.main.IntervalLinearizedPosition\n",
      "Please use the new location.\n"
     ]
    },
    {
     "name": "stdout",
     "output_type": "stream",
     "text": [
      "currently investigating:\n",
      "06_Rev2Session3\n",
      "pos 5 valid times\n"
     ]
    },
    {
     "name": "stderr",
     "output_type": "stream",
     "text": [
      "[21:03:40][WARNING] Spyglass: Deprecation: this class has been moved out of spyglass.common.common_position\n",
      "\tIntervalLinearizedPosition -> spyglass.linearization.v0.main.IntervalLinearizedPosition\n",
      "Please use the new location.\n"
     ]
    },
    {
     "name": "stdout",
     "output_type": "stream",
     "text": [
      "currently investigating:\n",
      "08_Rev2Session4\n",
      "pos 7 valid times\n"
     ]
    },
    {
     "name": "stderr",
     "output_type": "stream",
     "text": [
      "[21:03:41][WARNING] Spyglass: Deprecation: this class has been moved out of spyglass.common.common_position\n",
      "\tIntervalLinearizedPosition -> spyglass.linearization.v0.main.IntervalLinearizedPosition\n",
      "Please use the new location.\n"
     ]
    },
    {
     "name": "stdout",
     "output_type": "stream",
     "text": [
      "currently investigating:\n",
      "02_Rev2Session1\n",
      "pos 1 valid times\n"
     ]
    },
    {
     "name": "stderr",
     "output_type": "stream",
     "text": [
      "[21:03:41][WARNING] Spyglass: Deprecation: this class has been moved out of spyglass.common.common_position\n",
      "\tIntervalLinearizedPosition -> spyglass.linearization.v0.main.IntervalLinearizedPosition\n",
      "Please use the new location.\n"
     ]
    },
    {
     "name": "stdout",
     "output_type": "stream",
     "text": [
      "currently investigating:\n",
      "04_Rev2Session2\n",
      "pos 3 valid times\n"
     ]
    },
    {
     "name": "stderr",
     "output_type": "stream",
     "text": [
      "[21:03:42][WARNING] Spyglass: Deprecation: this class has been moved out of spyglass.common.common_position\n",
      "\tIntervalLinearizedPosition -> spyglass.linearization.v0.main.IntervalLinearizedPosition\n",
      "Please use the new location.\n"
     ]
    },
    {
     "name": "stdout",
     "output_type": "stream",
     "text": [
      "currently investigating:\n",
      "06_Rev2Session3\n",
      "pos 5 valid times\n"
     ]
    },
    {
     "name": "stderr",
     "output_type": "stream",
     "text": [
      "[21:03:43][WARNING] Spyglass: Deprecation: this class has been moved out of spyglass.common.common_position\n",
      "\tIntervalLinearizedPosition -> spyglass.linearization.v0.main.IntervalLinearizedPosition\n",
      "Please use the new location.\n"
     ]
    },
    {
     "name": "stdout",
     "output_type": "stream",
     "text": [
      "currently investigating:\n",
      "08_Rev2Session4\n",
      "pos 7 valid times\n"
     ]
    },
    {
     "name": "stderr",
     "output_type": "stream",
     "text": [
      "[21:04:16][WARNING] Spyglass: Deprecation: this class has been moved out of spyglass.common.common_position\n",
      "\tIntervalLinearizedPosition -> spyglass.linearization.v0.main.IntervalLinearizedPosition\n",
      "Please use the new location.\n"
     ]
    },
    {
     "name": "stdout",
     "output_type": "stream",
     "text": [
      "currently investigating:\n",
      "02_Rev2Session1\n",
      "pos 1 valid times\n"
     ]
    },
    {
     "name": "stderr",
     "output_type": "stream",
     "text": [
      "[21:04:17][WARNING] Spyglass: Deprecation: this class has been moved out of spyglass.common.common_position\n",
      "\tIntervalLinearizedPosition -> spyglass.linearization.v0.main.IntervalLinearizedPosition\n",
      "Please use the new location.\n"
     ]
    },
    {
     "name": "stdout",
     "output_type": "stream",
     "text": [
      "currently investigating:\n",
      "04_Rev2Session2\n",
      "pos 3 valid times\n"
     ]
    },
    {
     "name": "stderr",
     "output_type": "stream",
     "text": [
      "[21:04:18][WARNING] Spyglass: Deprecation: this class has been moved out of spyglass.common.common_position\n",
      "\tIntervalLinearizedPosition -> spyglass.linearization.v0.main.IntervalLinearizedPosition\n",
      "Please use the new location.\n"
     ]
    },
    {
     "name": "stdout",
     "output_type": "stream",
     "text": [
      "currently investigating:\n",
      "06_Rev2Session3\n",
      "pos 5 valid times\n"
     ]
    },
    {
     "name": "stderr",
     "output_type": "stream",
     "text": [
      "[21:04:19][WARNING] Spyglass: Deprecation: this class has been moved out of spyglass.common.common_position\n",
      "\tIntervalLinearizedPosition -> spyglass.linearization.v0.main.IntervalLinearizedPosition\n",
      "Please use the new location.\n"
     ]
    },
    {
     "name": "stdout",
     "output_type": "stream",
     "text": [
      "currently investigating:\n",
      "08_Rev2Session4\n",
      "pos 7 valid times\n"
     ]
    },
    {
     "name": "stderr",
     "output_type": "stream",
     "text": [
      "[21:04:20][WARNING] Spyglass: Deprecation: this class has been moved out of spyglass.common.common_position\n",
      "\tIntervalLinearizedPosition -> spyglass.linearization.v0.main.IntervalLinearizedPosition\n",
      "Please use the new location.\n"
     ]
    },
    {
     "name": "stdout",
     "output_type": "stream",
     "text": [
      "currently investigating:\n",
      "10_Rev2Session5\n",
      "pos 9 valid times\n"
     ]
    },
    {
     "name": "stderr",
     "output_type": "stream",
     "text": [
      "[21:04:21][WARNING] Spyglass: Deprecation: this class has been moved out of spyglass.common.common_position\n",
      "\tIntervalLinearizedPosition -> spyglass.linearization.v0.main.IntervalLinearizedPosition\n",
      "Please use the new location.\n"
     ]
    },
    {
     "name": "stdout",
     "output_type": "stream",
     "text": [
      "currently investigating:\n",
      "02_Rev2Session1\n",
      "pos 1 valid times\n"
     ]
    },
    {
     "name": "stderr",
     "output_type": "stream",
     "text": [
      "[21:04:21][WARNING] Spyglass: Deprecation: this class has been moved out of spyglass.common.common_position\n",
      "\tIntervalLinearizedPosition -> spyglass.linearization.v0.main.IntervalLinearizedPosition\n",
      "Please use the new location.\n"
     ]
    },
    {
     "name": "stdout",
     "output_type": "stream",
     "text": [
      "currently investigating:\n",
      "04_Rev2Session2\n",
      "pos 3 valid times\n"
     ]
    },
    {
     "name": "stderr",
     "output_type": "stream",
     "text": [
      "[21:04:22][WARNING] Spyglass: Deprecation: this class has been moved out of spyglass.common.common_position\n",
      "\tIntervalLinearizedPosition -> spyglass.linearization.v0.main.IntervalLinearizedPosition\n",
      "Please use the new location.\n"
     ]
    },
    {
     "name": "stdout",
     "output_type": "stream",
     "text": [
      "currently investigating:\n",
      "06_Rev2Session3\n",
      "pos 5 valid times\n"
     ]
    },
    {
     "name": "stderr",
     "output_type": "stream",
     "text": [
      "[21:04:23][WARNING] Spyglass: Deprecation: this class has been moved out of spyglass.common.common_position\n",
      "\tIntervalLinearizedPosition -> spyglass.linearization.v0.main.IntervalLinearizedPosition\n",
      "Please use the new location.\n"
     ]
    },
    {
     "name": "stdout",
     "output_type": "stream",
     "text": [
      "currently investigating:\n",
      "08_Rev2Session4\n",
      "pos 7 valid times\n"
     ]
    },
    {
     "name": "stderr",
     "output_type": "stream",
     "text": [
      "[21:04:23][WARNING] Spyglass: Deprecation: this class has been moved out of spyglass.common.common_position\n",
      "\tIntervalLinearizedPosition -> spyglass.linearization.v0.main.IntervalLinearizedPosition\n",
      "Please use the new location.\n"
     ]
    },
    {
     "name": "stdout",
     "output_type": "stream",
     "text": [
      "currently investigating:\n",
      "10_Rev2Session5\n",
      "pos 9 valid times\n"
     ]
    },
    {
     "name": "stderr",
     "output_type": "stream",
     "text": [
      "[21:04:55][WARNING] Spyglass: Deprecation: this class has been moved out of spyglass.common.common_position\n",
      "\tIntervalLinearizedPosition -> spyglass.linearization.v0.main.IntervalLinearizedPosition\n",
      "Please use the new location.\n"
     ]
    },
    {
     "name": "stdout",
     "output_type": "stream",
     "text": [
      "currently investigating:\n",
      "02_Rev2Session1\n",
      "pos 1 valid times\n"
     ]
    },
    {
     "name": "stderr",
     "output_type": "stream",
     "text": [
      "[21:04:56][WARNING] Spyglass: Deprecation: this class has been moved out of spyglass.common.common_position\n",
      "\tIntervalLinearizedPosition -> spyglass.linearization.v0.main.IntervalLinearizedPosition\n",
      "Please use the new location.\n"
     ]
    },
    {
     "name": "stdout",
     "output_type": "stream",
     "text": [
      "currently investigating:\n",
      "04_Rev2Session2\n",
      "pos 3 valid times\n"
     ]
    },
    {
     "name": "stderr",
     "output_type": "stream",
     "text": [
      "[21:04:58][WARNING] Spyglass: Deprecation: this class has been moved out of spyglass.common.common_position\n",
      "\tIntervalLinearizedPosition -> spyglass.linearization.v0.main.IntervalLinearizedPosition\n",
      "Please use the new location.\n"
     ]
    },
    {
     "name": "stdout",
     "output_type": "stream",
     "text": [
      "currently investigating:\n",
      "06_Rev2Session3\n",
      "pos 5 valid times\n"
     ]
    },
    {
     "name": "stderr",
     "output_type": "stream",
     "text": [
      "[21:04:59][WARNING] Spyglass: Deprecation: this class has been moved out of spyglass.common.common_position\n",
      "\tIntervalLinearizedPosition -> spyglass.linearization.v0.main.IntervalLinearizedPosition\n",
      "Please use the new location.\n"
     ]
    },
    {
     "name": "stdout",
     "output_type": "stream",
     "text": [
      "currently investigating:\n",
      "08_Rev2Session4\n",
      "pos 7 valid times\n"
     ]
    },
    {
     "name": "stderr",
     "output_type": "stream",
     "text": [
      "[21:05:00][WARNING] Spyglass: Deprecation: this class has been moved out of spyglass.common.common_position\n",
      "\tIntervalLinearizedPosition -> spyglass.linearization.v0.main.IntervalLinearizedPosition\n",
      "Please use the new location.\n"
     ]
    },
    {
     "name": "stdout",
     "output_type": "stream",
     "text": [
      "currently investigating:\n",
      "02_Rev2Session1\n",
      "pos 1 valid times\n"
     ]
    },
    {
     "name": "stderr",
     "output_type": "stream",
     "text": [
      "[21:05:01][WARNING] Spyglass: Deprecation: this class has been moved out of spyglass.common.common_position\n",
      "\tIntervalLinearizedPosition -> spyglass.linearization.v0.main.IntervalLinearizedPosition\n",
      "Please use the new location.\n"
     ]
    },
    {
     "name": "stdout",
     "output_type": "stream",
     "text": [
      "currently investigating:\n",
      "04_Rev2Session2\n",
      "pos 3 valid times\n"
     ]
    },
    {
     "name": "stderr",
     "output_type": "stream",
     "text": [
      "[21:05:02][WARNING] Spyglass: Deprecation: this class has been moved out of spyglass.common.common_position\n",
      "\tIntervalLinearizedPosition -> spyglass.linearization.v0.main.IntervalLinearizedPosition\n",
      "Please use the new location.\n"
     ]
    },
    {
     "name": "stdout",
     "output_type": "stream",
     "text": [
      "currently investigating:\n",
      "06_Rev2Session3\n",
      "pos 5 valid times\n"
     ]
    },
    {
     "name": "stderr",
     "output_type": "stream",
     "text": [
      "[21:05:03][WARNING] Spyglass: Deprecation: this class has been moved out of spyglass.common.common_position\n",
      "\tIntervalLinearizedPosition -> spyglass.linearization.v0.main.IntervalLinearizedPosition\n",
      "Please use the new location.\n"
     ]
    },
    {
     "name": "stdout",
     "output_type": "stream",
     "text": [
      "currently investigating:\n",
      "08_Rev2Session4\n",
      "pos 7 valid times\n"
     ]
    },
    {
     "name": "stderr",
     "output_type": "stream",
     "text": [
      "[21:05:32][WARNING] Spyglass: Deprecation: this class has been moved out of spyglass.common.common_position\n",
      "\tIntervalLinearizedPosition -> spyglass.linearization.v0.main.IntervalLinearizedPosition\n",
      "Please use the new location.\n"
     ]
    },
    {
     "name": "stdout",
     "output_type": "stream",
     "text": [
      "currently investigating:\n",
      "02_Rev2Session1\n",
      "pos 1 valid times\n"
     ]
    },
    {
     "name": "stderr",
     "output_type": "stream",
     "text": [
      "[21:05:33][WARNING] Spyglass: Deprecation: this class has been moved out of spyglass.common.common_position\n",
      "\tIntervalLinearizedPosition -> spyglass.linearization.v0.main.IntervalLinearizedPosition\n",
      "Please use the new location.\n"
     ]
    },
    {
     "name": "stdout",
     "output_type": "stream",
     "text": [
      "currently investigating:\n",
      "04_Rev2Session2\n",
      "pos 3 valid times\n"
     ]
    },
    {
     "name": "stderr",
     "output_type": "stream",
     "text": [
      "[21:05:35][WARNING] Spyglass: Deprecation: this class has been moved out of spyglass.common.common_position\n",
      "\tIntervalLinearizedPosition -> spyglass.linearization.v0.main.IntervalLinearizedPosition\n",
      "Please use the new location.\n"
     ]
    },
    {
     "name": "stdout",
     "output_type": "stream",
     "text": [
      "currently investigating:\n",
      "06_Rev2Session3\n",
      "pos 5 valid times\n",
      "some missing position data\n"
     ]
    },
    {
     "name": "stderr",
     "output_type": "stream",
     "text": [
      "[21:05:36][WARNING] Spyglass: Deprecation: this class has been moved out of spyglass.common.common_position\n",
      "\tIntervalLinearizedPosition -> spyglass.linearization.v0.main.IntervalLinearizedPosition\n",
      "Please use the new location.\n"
     ]
    },
    {
     "name": "stdout",
     "output_type": "stream",
     "text": [
      "currently investigating:\n",
      "08_Rev2Session4\n",
      "pos 7 valid times\n"
     ]
    },
    {
     "name": "stderr",
     "output_type": "stream",
     "text": [
      "[21:05:37][WARNING] Spyglass: Deprecation: this class has been moved out of spyglass.common.common_position\n",
      "\tIntervalLinearizedPosition -> spyglass.linearization.v0.main.IntervalLinearizedPosition\n",
      "Please use the new location.\n"
     ]
    },
    {
     "name": "stdout",
     "output_type": "stream",
     "text": [
      "currently investigating:\n",
      "02_Rev2Session1\n",
      "pos 1 valid times\n"
     ]
    },
    {
     "name": "stderr",
     "output_type": "stream",
     "text": [
      "[21:05:38][WARNING] Spyglass: Deprecation: this class has been moved out of spyglass.common.common_position\n",
      "\tIntervalLinearizedPosition -> spyglass.linearization.v0.main.IntervalLinearizedPosition\n",
      "Please use the new location.\n"
     ]
    },
    {
     "name": "stdout",
     "output_type": "stream",
     "text": [
      "currently investigating:\n",
      "04_Rev2Session2\n",
      "pos 3 valid times\n"
     ]
    },
    {
     "name": "stderr",
     "output_type": "stream",
     "text": [
      "[21:05:39][WARNING] Spyglass: Deprecation: this class has been moved out of spyglass.common.common_position\n",
      "\tIntervalLinearizedPosition -> spyglass.linearization.v0.main.IntervalLinearizedPosition\n",
      "Please use the new location.\n"
     ]
    },
    {
     "name": "stdout",
     "output_type": "stream",
     "text": [
      "currently investigating:\n",
      "06_Rev2Session3\n",
      "pos 5 valid times\n"
     ]
    },
    {
     "name": "stderr",
     "output_type": "stream",
     "text": [
      "[21:05:40][WARNING] Spyglass: Deprecation: this class has been moved out of spyglass.common.common_position\n",
      "\tIntervalLinearizedPosition -> spyglass.linearization.v0.main.IntervalLinearizedPosition\n",
      "Please use the new location.\n"
     ]
    },
    {
     "name": "stdout",
     "output_type": "stream",
     "text": [
      "currently investigating:\n",
      "08_Rev2Session4\n",
      "pos 7 valid times\n"
     ]
    },
    {
     "name": "stderr",
     "output_type": "stream",
     "text": [
      "[21:06:07][WARNING] Spyglass: Deprecation: this class has been moved out of spyglass.common.common_position\n",
      "\tIntervalLinearizedPosition -> spyglass.linearization.v0.main.IntervalLinearizedPosition\n",
      "Please use the new location.\n"
     ]
    },
    {
     "name": "stdout",
     "output_type": "stream",
     "text": [
      "currently investigating:\n",
      "02_Rev2Session1\n",
      "pos 1 valid times\n",
      "some missing position data\n"
     ]
    },
    {
     "name": "stderr",
     "output_type": "stream",
     "text": [
      "[21:06:09][WARNING] Spyglass: Deprecation: this class has been moved out of spyglass.common.common_position\n",
      "\tIntervalLinearizedPosition -> spyglass.linearization.v0.main.IntervalLinearizedPosition\n",
      "Please use the new location.\n"
     ]
    },
    {
     "name": "stdout",
     "output_type": "stream",
     "text": [
      "some missing position data\n",
      "currently investigating:\n",
      "04_Rev2Session2\n",
      "pos 3 valid times\n"
     ]
    },
    {
     "name": "stderr",
     "output_type": "stream",
     "text": [
      "[21:06:11][WARNING] Spyglass: Deprecation: this class has been moved out of spyglass.common.common_position\n",
      "\tIntervalLinearizedPosition -> spyglass.linearization.v0.main.IntervalLinearizedPosition\n",
      "Please use the new location.\n"
     ]
    },
    {
     "name": "stdout",
     "output_type": "stream",
     "text": [
      "currently investigating:\n",
      "06_Rev2Session3\n",
      "pos 5 valid times\n"
     ]
    },
    {
     "name": "stderr",
     "output_type": "stream",
     "text": [
      "[21:06:12][WARNING] Spyglass: Deprecation: this class has been moved out of spyglass.common.common_position\n",
      "\tIntervalLinearizedPosition -> spyglass.linearization.v0.main.IntervalLinearizedPosition\n",
      "Please use the new location.\n"
     ]
    },
    {
     "name": "stdout",
     "output_type": "stream",
     "text": [
      "currently investigating:\n",
      "08_Rev2Session4\n",
      "pos 7 valid times\n"
     ]
    },
    {
     "name": "stderr",
     "output_type": "stream",
     "text": [
      "[21:06:12][WARNING] Spyglass: Deprecation: this class has been moved out of spyglass.common.common_position\n",
      "\tIntervalLinearizedPosition -> spyglass.linearization.v0.main.IntervalLinearizedPosition\n",
      "Please use the new location.\n"
     ]
    },
    {
     "name": "stdout",
     "output_type": "stream",
     "text": [
      "currently investigating:\n",
      "10_Rev2Session5\n",
      "pos 9 valid times\n"
     ]
    },
    {
     "name": "stderr",
     "output_type": "stream",
     "text": [
      "[21:06:13][WARNING] Spyglass: Deprecation: this class has been moved out of spyglass.common.common_position\n",
      "\tIntervalLinearizedPosition -> spyglass.linearization.v0.main.IntervalLinearizedPosition\n",
      "Please use the new location.\n"
     ]
    },
    {
     "name": "stdout",
     "output_type": "stream",
     "text": [
      "currently investigating:\n",
      "02_Rev2Session1\n",
      "pos 1 valid times\n"
     ]
    },
    {
     "name": "stderr",
     "output_type": "stream",
     "text": [
      "[21:06:13][WARNING] Spyglass: Deprecation: this class has been moved out of spyglass.common.common_position\n",
      "\tIntervalLinearizedPosition -> spyglass.linearization.v0.main.IntervalLinearizedPosition\n",
      "Please use the new location.\n"
     ]
    },
    {
     "name": "stdout",
     "output_type": "stream",
     "text": [
      "currently investigating:\n",
      "04_Rev2Session2\n",
      "pos 3 valid times\n"
     ]
    },
    {
     "name": "stderr",
     "output_type": "stream",
     "text": [
      "[21:06:15][WARNING] Spyglass: Deprecation: this class has been moved out of spyglass.common.common_position\n",
      "\tIntervalLinearizedPosition -> spyglass.linearization.v0.main.IntervalLinearizedPosition\n",
      "Please use the new location.\n"
     ]
    },
    {
     "name": "stdout",
     "output_type": "stream",
     "text": [
      "currently investigating:\n",
      "06_Rev2Session3\n",
      "pos 5 valid times\n"
     ]
    },
    {
     "name": "stderr",
     "output_type": "stream",
     "text": [
      "[21:06:15][WARNING] Spyglass: Deprecation: this class has been moved out of spyglass.common.common_position\n",
      "\tIntervalLinearizedPosition -> spyglass.linearization.v0.main.IntervalLinearizedPosition\n",
      "Please use the new location.\n"
     ]
    },
    {
     "name": "stdout",
     "output_type": "stream",
     "text": [
      "currently investigating:\n",
      "08_Rev2Session4\n",
      "pos 7 valid times\n"
     ]
    },
    {
     "name": "stderr",
     "output_type": "stream",
     "text": [
      "[21:06:16][WARNING] Spyglass: Deprecation: this class has been moved out of spyglass.common.common_position\n",
      "\tIntervalLinearizedPosition -> spyglass.linearization.v0.main.IntervalLinearizedPosition\n",
      "Please use the new location.\n"
     ]
    },
    {
     "name": "stdout",
     "output_type": "stream",
     "text": [
      "currently investigating:\n",
      "10_Rev2Session5\n",
      "pos 9 valid times\n"
     ]
    }
   ],
   "source": [
    "replay_trials = {}\n",
    "replay_trials_non = {}\n",
    "devs = {}\n",
    "devs_non = {}\n",
    "\n",
    "replay_trials[animal] = {}\n",
    "replay_trials_non[animal] = {}\n",
    "devs[animal] = {}\n",
    "devs_non[animal] = {}\n",
    "\n",
    "for d in dates_to_plot:\n",
    "    (triggered_positions, triggered_positions_abs) = ({}, {})\n",
    "    (triggered_decodes, triggered_decodes_baseoff, triggered_decodes_abs) = ({}, {}, {})\n",
    "    triggered_trial_info = {}\n",
    "\n",
    "    (triggered_positions[animal], triggered_positions_abs[animal],\n",
    "     triggered_decodes[animal], triggered_decodes_baseoff[animal], triggered_decodes_abs[animal],\n",
    "     triggered_trial_info[animal]) = find_triggered_animal(animal,[d],\n",
    "                                                           delta_t_minus = 0,delta_t_plus = 2,\n",
    "                                                           max_flag = 0, segment_only = True)\n",
    "\n",
    "    (triggered_positions_nb, triggered_positions_abs_nb) = ({}, {})\n",
    "    (triggered_decodes_nb, triggered_decodes_baseoff_nb, triggered_decodes_abs_nb) = ({}, {}, {})\n",
    "    \n",
    "    (triggered_positions_nb[animal], triggered_positions_abs_nb[animal],\n",
    "     triggered_decodes_nb[animal], triggered_decodes_baseoff_nb[animal], triggered_decodes_abs_nb[animal],\n",
    "     _) = find_triggered_animal(animal,[d], nearby = 1,\n",
    "                                delta_t_minus = 2,delta_t_plus = 0.5,\n",
    "                                max_flag = 0, segment_only = True)\n",
    "\n",
    "\n",
    "    \n",
    "    (replay_trials[animal][d], inds, devs[animal][d],\n",
    "         replay_trials_non[animal][d], inds_non, devs_non[animal][d] ) = find_large_position_minus_decode_trials(\n",
    "        # with theta                # without theta\n",
    "                animal, triggered_trial_info, \n",
    "                triggered_positions_abs, triggered_decodes_baseoff, triggered_positions_abs_nb, triggered_decodes_baseoff_nb)\n",
    "    \n",
    "\n",
    "    \n"
   ]
  },
  {
   "cell_type": "markdown",
   "id": "b4b3806e-12c4-4364-b8cb-56710478a91e",
   "metadata": {},
   "source": [
    "### find behavior"
   ]
  },
  {
   "cell_type": "code",
   "execution_count": 10,
   "id": "8dc39b86-a81d-4ef2-8dab-6997fca4bc8b",
   "metadata": {},
   "outputs": [],
   "source": [
    "P_behavior_all,xcorr_plot,xcorr25_plot,xcorr975_plot = behavior_transitions(animal,dates_to_plot)\n",
    "C_behavior_all, C_behavior_reward_all = behavior_transitions_count(animal,dates_to_plot)"
   ]
  },
  {
   "cell_type": "code",
   "execution_count": 90,
   "id": "7259ddd0-8c15-4730-9eaa-939959c261ac",
   "metadata": {},
   "outputs": [],
   "source": [
    "# \n",
    "if animal == \"Eliot\":\n",
    "    transitions_up = [(1,0),(2,3),(3,1)]\n",
    "    transitions_down = [(1,3),(2,0),(2,1),(3,0)]\n",
    "elif animal == \"Lewis\":\n",
    "    transitions_up = [(0,1),(1,3),(3,0)]\n",
    "    transitions_down = [(0,2),(1,0),(2,1)]"
   ]
  },
  {
   "cell_type": "code",
   "execution_count": 91,
   "id": "11f5c7a6-7539-42e6-975b-1d6471d00218",
   "metadata": {},
   "outputs": [],
   "source": [
    "dev_transitions_up, dev_transitions_down = theta_length_by_transition_up_down(\n",
    "    replay_trials, devs, transitions_up, transitions_down)"
   ]
  },
  {
   "cell_type": "code",
   "execution_count": 92,
   "id": "4f89b20b-ec78-47ad-aae1-9271679210e0",
   "metadata": {},
   "outputs": [],
   "source": [
    "#dev_transitions_up"
   ]
  },
  {
   "cell_type": "code",
   "execution_count": 93,
   "id": "b7e103f0-3c32-401c-ab47-8159572acdc2",
   "metadata": {},
   "outputs": [],
   "source": [
    "len(dev_transitions_down)"
   ]
  },
  {
   "cell_type": "code",
   "execution_count": 97,
   "id": "27baf5ba-75e4-4feb-833c-1a17638ba260",
   "metadata": {},
   "outputs": [
    {
     "data": {
      "text/plain": [
       "Text(0.5, 1.0, 'Lewis\\n would have been transition 1 \\n p value: 0.228')"
      ]
     },
     "execution_count": 97,
     "metadata": {},
     "output_type": "execute_result"
    },
    {
     "data": {
      "image/png": "[encoded data removed]",
      "text/plain": [
       "<Figure size 300x300 with 1 Axes>"
      ]
     },
     "metadata": {},
     "output_type": "display_data"
    }
   ],
   "source": [
    "fig,axes = plt.subplots(1,1,figsize = (3,3),sharex = True, sharey = True)\n",
    "axes.scatter(np.ones_like(dev_transitions_up),dev_transitions_up, alpha = 0.5)\n",
    "axes.scatter(np.ones_like(dev_transitions_down) + 1,dev_transitions_down, alpha = 0.5)\n",
    "\n",
    "axes.set_title(animal)\n",
    "axes.set_xticks([1,2])\n",
    "axes.set_ylabel(\"max theta - actual deviation\")\n",
    "axes.set_xticklabels([\"up transition\",\"down transition\"])\n",
    "\n",
    "res = permutation_test((dev_transitions_down, dev_transitions_up), statistic, vectorized=True,\n",
    "                       n_resamples=10000, alternative='greater')\n",
    "axes.text(1.1,len(dev_transitions_down),str(len(dev_transitions_down)))\n",
    "axes.text(2.1,len(dev_transitions_up),str(len(dev_transitions_up)))\n",
    "\n",
    "axes.set_title(animal + '\\n would have been transition 1 \\n p value: '+str(np.round(res.pvalue,3)))  "
   ]
  },
  {
   "cell_type": "markdown",
   "id": "6b7685c1-c04f-4dc4-999e-aec7ba800bfb",
   "metadata": {},
   "source": [
    "### End here for the section above."
   ]
  },
  {
   "cell_type": "markdown",
   "id": "e816de78-245f-4cf5-92a1-757e0e858813",
   "metadata": {},
   "source": [
    "## 5b. Transitions at which long-theta sequences occur."
   ]
  },
  {
   "cell_type": "code",
   "execution_count": null,
   "id": "d3025d38-5c2e-4070-85a5-3b4ec553d4f8",
   "metadata": {},
   "outputs": [],
   "source": []
  },
  {
   "cell_type": "code",
   "execution_count": 244,
   "id": "342d4acc-fd91-407f-bfc2-5a319a4cdd9d",
   "metadata": {},
   "outputs": [
    {
     "data": {
      "image/png": "[encoded data removed]",
      "text/plain": [
       "<Figure size 800x800 with 16 Axes>"
      ]
     },
     "metadata": {},
     "output_type": "display_data"
    }
   ],
   "source": [
    "dates_to_plot = list(replay_trials[animal].keys())\n",
    "transitions = [(0,1),(0,2),(0,3),\n",
    "               (1,0),(1,2),(1,3),\n",
    "               (2,0),(2,1),(2,3),\n",
    "               (3,0),(3,1),(3,2)]\n",
    "\n",
    "# for aggregate plot\n",
    "T_wouldhave_count1 = []\n",
    "T_wouldhave_count2 = []\n",
    "behavior_count = []\n",
    "\n",
    "# plotting stuff\n",
    "cmap = plt.cm.jet\n",
    "norm = plt.Normalize(vmin=0, vmax=len(dates_to_plot))\n",
    "\n",
    "fig,axes = plt.subplots(4,4,figsize = (8,8),sharex = True, sharey = True)\n",
    "\n",
    "for d_ind in range(len(dates_to_plot)-1):\n",
    "    d = dates_to_plot[d_ind]\n",
    "    d2 = dates_to_plot[d_ind + 1]\n",
    "    if len(replay_trials[animal][d]) == 0:\n",
    "        continue\n",
    "    T, T_wouldhave, T_wouldhave2 = find_transitions(replay_trials[animal][d])\n",
    "    delta_behavior = find_behavior_sum(animal,None,[d,d2])\n",
    "\n",
    "    # for lumping across transitions\n",
    "    behavior_count.append(delta_behavior.ravel())\n",
    "    T_wouldhave_count1.append(T_wouldhave[list(T_wouldhave.keys())[0]].ravel())\n",
    "    T_wouldhave_count2.append(T_wouldhave2[list(T_wouldhave2.keys())[0]].ravel())\n",
    "\n",
    "    # for individual transitions\n",
    "    for t_ind in range(len(transitions)):\n",
    "        (i,j) = transitions[t_ind]\n",
    "        axe_i, axe_j = (i,j)#int(np.floor(t_ind/3)), int(t_ind % 3)\n",
    "        axes[axe_i, axe_j].scatter(T_wouldhave[list(T_wouldhave.keys())[0]][i,j], delta_behavior[i,j],\n",
    "                                   color = 'k', alpha = 0.5)\n",
    "                                  #color = cmap(norm(d_ind)))\n",
    "plt.suptitle(animal + '\\n would have been transition 1')    \n",
    "\n",
    "for axe_i in range(4):\n",
    "    for axe_j in range(4):\n",
    "        if axe_j == 0:\n",
    "            axes[axe_i, axe_j].set_ylabel(\"# of CoM w. long theta\")\n",
    "        if axe_i == 3:\n",
    "            axes[axe_i, axe_j].set_xlabel(\"changes(behavior)\")\n",
    "        axes[axe_i, axe_j].set_title(f\"arm{axe_i+1} to {axe_j+1}\")"
   ]
  },
  {
   "cell_type": "code",
   "execution_count": 240,
   "id": "8238ef9c-1a63-4e17-87d1-e639b0e4c562",
   "metadata": {},
   "outputs": [
    {
     "data": {
      "text/plain": [
       "Text(0.5, 1.0, 'Lewis\\n would have been transition 1')"
      ]
     },
     "execution_count": 240,
     "metadata": {},
     "output_type": "execute_result"
    },
    {
     "data": {
      "image/png": "[encoded data removed]",
      "text/plain": [
       "<Figure size 400x400 with 1 Axes>"
      ]
     },
     "metadata": {},
     "output_type": "display_data"
    }
   ],
   "source": [
    "fig,axes = plt.subplots(1,1,figsize = (4,4),sharex = True, sharey = True)\n",
    "x = np.concatenate(T_wouldhave_count1)\n",
    "y = np.concatenate(behavior_count)\n",
    "results, pvalue = fitLM(x,y)\n",
    "    \n",
    "axes.scatter(x, y, alpha = 0.4)\n",
    "x_plot=np.linspace(np.min(x),np.max(x),10).reshape(-1,1)\n",
    "y_plot=results.predict(sm.add_constant(x_plot))\n",
    "pvalue_beta = results.pvalues[1]\n",
    "    \n",
    "axes.plot(x_plot,y_plot,color='blue',linewidth=3,label = str(pvalue))\n",
    "axes.text(np.min(x),np.min(y),\n",
    "          f'p value = {np.round(pvalue_beta,4)}, slope is {np.round(results.params[1],4)}, R2 is {np.around(results.rsquared,3)}')\n",
    "axes.set_xlabel(\"# of (change of mind with long theta)\")\n",
    "axes.set_ylabel(\"changes in behavior\")\n",
    "\n",
    "#jitter = np.random.uniform(high = 0.2, size = len(np.concatenate(T_wouldhave_count1)))\n",
    "#axes.scatter(np.concatenate(T_wouldhave_count1),np.concatenate(behavior_count) > 0 + jitter, alpha = 0.4)\n",
    "\n",
    "plt.title(animal + '\\n would have been transition 1')"
   ]
  },
  {
   "cell_type": "code",
   "execution_count": 238,
   "id": "5aeba9d5-2723-41ee-bbc5-2663e8567ad7",
   "metadata": {},
   "outputs": [
    {
     "data": {
      "text/plain": [
       "Text(0.5, 1.0, 'Lewis\\n would have been transition 1')"
      ]
     },
     "execution_count": 238,
     "metadata": {},
     "output_type": "execute_result"
    },
    {
     "data": {
      "image/png": "[encoded data removed]",
      "text/plain": [
       "<Figure size 1000x400 with 1 Axes>"
      ]
     },
     "metadata": {},
     "output_type": "display_data"
    }
   ],
   "source": [
    "fig,axes = plt.subplots(1,1,figsize = (10,4),sharex = True, sharey = True)\n",
    "x = np.concatenate(T_wouldhave_count1)\n",
    "y = np.concatenate(behavior_count)\n",
    "#results, pvalue = fitLM(x,y)\n",
    "    \n",
    "axes.scatter(y, x > 0, alpha = 0.4)\n",
    "#x_plot=np.linspace(np.min(x),np.max(x),10).reshape(-1,1)\n",
    "#y_plot=results.predict(sm.add_constant(x_plot))\n",
    "#pvalue_beta = results.pvalues[1]\n",
    "    \n",
    "#axes.plot(x_plot,y_plot,color='blue',linewidth=3,label = str(pvalue))\n",
    "#axes.text(np.min(x),np.min(y),\n",
    "#          f'p value = {np.round(pvalue_beta,4)}, slope is {np.round(results.params[1],4)}, R2 is {np.around(results.rsquared,3)}')\n",
    "\n",
    "#jitter = np.random.uniform(high = 0.2, size = len(np.concatenate(T_wouldhave_count1)))\n",
    "#axes.scatter(np.concatenate(T_wouldhave_count1),np.concatenate(behavior_count) > 0 + jitter, alpha = 0.4)\n",
    "\n",
    "plt.title(animal + '\\n would have been transition 1')"
   ]
  },
  {
   "cell_type": "code",
   "execution_count": 245,
   "id": "7f54d691-f703-4ce0-a5ff-e93ca7163e7e",
   "metadata": {},
   "outputs": [
    {
     "data": {
      "image/png": "[encoded data removed]",
      "text/plain": [
       "<Figure size 800x800 with 16 Axes>"
      ]
     },
     "metadata": {},
     "output_type": "display_data"
    }
   ],
   "source": [
    "dates_to_plot = list(replay_trials[animal].keys())\n",
    "transitions = [(0,1),(0,2),(0,3),\n",
    "               (1,0),(1,2),(1,3),\n",
    "               (2,0),(2,1),(2,3),\n",
    "               (3,0),(3,1),(3,2)]\n",
    "\n",
    "# plotting stuff\n",
    "cmap = plt.cm.jet\n",
    "norm = plt.Normalize(vmin=0, vmax=len(dates_to_plot))\n",
    "\n",
    "fig,axes = plt.subplots(4,4,figsize = (8,8),sharex = True, sharey = True)\n",
    "\n",
    "for d_ind in range(len(dates_to_plot)-1):\n",
    "    d = dates_to_plot[d_ind]\n",
    "    d2 = dates_to_plot[d_ind + 1]\n",
    "    if len(replay_trials[animal][d]) == 0:\n",
    "        continue\n",
    "    T, T_wouldhave, T_wouldhave2 = find_transitions(replay_trials[animal][d])\n",
    "    delta_behavior = find_behavior_sum(animal,None,[d,d2])\n",
    "    for t_ind in range(len(transitions)):\n",
    "        (i,j) = transitions[t_ind]\n",
    "        axe_i, axe_j = (i,j)#int(np.floor(t_ind/3)), int(t_ind % 3)\n",
    "        axes[axe_i, axe_j].scatter(T_wouldhave2[list(T_wouldhave2.keys())[0]][i,j], delta_behavior[i,j],\n",
    "                                   color = 'k', alpha = 0.5)\n",
    "        \n",
    "                                  #color = cmap(norm(d_ind)))\n",
    "plt.suptitle(animal + '\\n would have been transition 2')\n",
    "for axe_i in range(4):\n",
    "    for axe_j in range(4):\n",
    "        if axe_j == 0:\n",
    "            axes[axe_i, axe_j].set_ylabel(\"# of CoM w. long theta\")\n",
    "        if axe_i == 3:\n",
    "            axes[axe_i, axe_j].set_xlabel(\"changes(behavior)\")\n",
    "        axes[axe_i, axe_j].set_title(f\"arm{axe_i+1} to {axe_j+1}\")"
   ]
  },
  {
   "cell_type": "code",
   "execution_count": 233,
   "id": "937b6b11-582c-4b23-81e7-48a03c09953d",
   "metadata": {},
   "outputs": [
    {
     "data": {
      "text/plain": [
       "Text(0.0, -0.26344086021505375, 'p value = 0.2286, slope is -0.01, R2 is 0.011')"
      ]
     },
     "execution_count": 233,
     "metadata": {},
     "output_type": "execute_result"
    },
    {
     "data": {
      "image/png": "[encoded data removed]",
      "text/plain": [
       "<Figure size 400x400 with 1 Axes>"
      ]
     },
     "metadata": {},
     "output_type": "display_data"
    }
   ],
   "source": [
    "fig,axes = plt.subplots(1,1,figsize = (4,4),sharex = True, sharey = True)\n",
    "x = np.concatenate(T_wouldhave_count2)\n",
    "y = np.concatenate(behavior_count)\n",
    "results, pvalue = fitLM(x,y)\n",
    "    \n",
    "axes.scatter(x, y, alpha = 0.4)\n",
    "x_plot=np.linspace(np.min(x),np.max(x),10).reshape(-1,1)\n",
    "y_plot=results.predict(sm.add_constant(x_plot))\n",
    "pvalue_beta = results.pvalues[1]\n",
    "    \n",
    "axes.plot(x_plot,y_plot,color='blue',linewidth=3,label = str(pvalue))\n",
    "axes.text(np.min(x),np.min(y),\n",
    "          f'p value = {np.round(pvalue_beta,4)}, slope is {np.round(results.params[1],4)}, R2 is {np.around(results.rsquared,3)}')\n",
    "\n",
    "#jitter = np.random.uniform(high = 0.2, size = len(np.concatenate(T_wouldhave_count1)))\n",
    "#axes.scatter(np.concatenate(T_wouldhave_count1),np.concatenate(behavior_count) > 0 + jitter, alpha = 0.4)"
   ]
  },
  {
   "cell_type": "code",
   "execution_count": null,
   "id": "a8ab420b-b630-4b98-b5b9-f47f13642216",
   "metadata": {},
   "outputs": [],
   "source": []
  }
 ],
 "metadata": {
  "kernelspec": {
   "display_name": "Python 3 (ipykernel)",
   "language": "python",
   "name": "python3"
  },
  "language_info": {
   "codemirror_mode": {
    "name": "ipython",
    "version": 3
   },
   "file_extension": ".py",
   "mimetype": "text/x-python",
   "name": "python",
   "nbconvert_exporter": "python",
   "pygments_lexer": "ipython3",
   "version": "3.9.18"
  }
 },
 "nbformat": 4,
 "nbformat_minor": 5
}
