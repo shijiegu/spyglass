{
 "cells": [
  {
   "cell_type": "markdown",
   "id": "5c2d0976-b5aa-4b18-a3cc-f0b4e2e21f5e",
   "metadata": {},
   "source": [
    "## 5d2. Examples of theta sequences extending towards the end decreases the possibility the animal will do the transition again soon.\n"
   ]
  },
  {
   "cell_type": "code",
   "execution_count": 1,
   "id": "a13280af-985d-429f-b199-bfdae466d2a1",
   "metadata": {},
   "outputs": [],
   "source": [
    "%reload_ext autoreload\n",
    "%autoreload 2"
   ]
  },
  {
   "cell_type": "code",
   "execution_count": 2,
   "id": "665f406b-b57a-4b19-960e-887af5870e3f",
   "metadata": {},
   "outputs": [
    {
     "name": "stderr",
     "output_type": "stream",
     "text": [
      "[2025-04-17 14:54:11,324][INFO]: Connecting shijiegu-alt@lmf-db.cin.ucsf.edu:3306\n",
      "[2025-04-17 14:54:11,437][INFO]: Connected shijiegu-alt@lmf-db.cin.ucsf.edu:3306\n"
     ]
    }
   ],
   "source": [
    "import spyglass as nd\n",
    "import pandas as pd\n",
    "import numpy as np\n",
    "import xarray as xr\n",
    "from scipy import stats\n",
    "from scipy import linalg\n",
    "import os\n",
    "import pickle\n",
    "import matplotlib.pyplot as plt\n",
    "from ripple_detection.core import segment_boolean_series\n",
    "\n",
    "from spyglass.common import (Session, IntervalList,LabMember, LabTeam, Raw, Session, Nwbfile,\n",
    "                            Electrode,LFPBand,interval_list_intersect)\n",
    "from spyglass.common import TaskEpoch\n",
    "from spyglass.spikesorting.v0 import (SortGroup, \n",
    "                                    SpikeSortingRecording,SpikeSortingRecordingSelection)\n",
    "from spyglass.utils.nwb_helper_fn import get_nwb_copy_filename\n",
    "from spyglass.common.common_position import IntervalPositionInfo, RawPosition, IntervalLinearizedPosition, TrackGraph"
   ]
  },
  {
   "cell_type": "code",
   "execution_count": 3,
   "id": "cd242c8e-aaa3-4a2b-a3f0-1beef267cac9",
   "metadata": {},
   "outputs": [],
   "source": [
    "from spyglass.shijiegu.pairwiseDecode import merge_overlapping_ranges,removeEmptyDecode\n",
    "from spyglass.shijiegu.ripple_add_replay import remove_adjacent\n",
    "from spyglass.shijiegu.pairwiseDecode import replay_transitions,categorized_replay_transitions,behavior_transitions,behavior_transitions_count,findXCorrAllDays\n",
    "from spyglass.shijiegu.decodeHelpers import runSessionNames"
   ]
  },
  {
   "cell_type": "code",
   "execution_count": 4,
   "id": "1f0f9d80-e3c8-488c-afde-0e868fb7ede3",
   "metadata": {},
   "outputs": [
    {
     "name": "stderr",
     "output_type": "stream",
     "text": [
      "[14:54:46][WARNING] Spyglass: Deprecation: this class has been moved out of spyglass.common.common_position\n",
      "\tTrackGraph -> spyglass.linearization.v0.main.TrackGraph\n",
      "Please use the new location.\n",
      "[14:54:46][WARNING] Spyglass: Deprecation: this class has been moved out of spyglass.common.common_position\n",
      "\tTrackGraph -> spyglass.linearization.v0.main.TrackGraph\n",
      "Please use the new location.\n",
      "[14:54:46][WARNING] Spyglass: Deprecation: this class has been moved out of spyglass.common.common_position\n",
      "\tTrackGraph -> spyglass.linearization.v0.main.TrackGraph\n",
      "Please use the new location.\n",
      "[14:54:46][WARNING] Spyglass: Deprecation: this class has been moved out of spyglass.common.common_position\n",
      "\tTrackGraph -> spyglass.linearization.v0.main.TrackGraph\n",
      "Please use the new location.\n"
     ]
    }
   ],
   "source": [
    "from spyglass.shijiegu.Analysis_SGU import TrialChoice,EpochPos,MUA,get_linearization_map,TrialChoiceChangeofMind\n",
    "from spyglass.shijiegu.decodeHelpers import runSessionNames\n",
    "from spyglass.shijiegu.ripple_add_replay import plot_decode_spiking\n",
    "from spyglass.shijiegu.changeOfMind import (find_turnaround_time, findProportion,\n",
    "            find_trials, load_epoch_data_wrapper, find_direction, find_trials_animal,\n",
    "            find_statescrripts)\n",
    "from spyglass.shijiegu.changeOfMind_triggered import (find_triggered_animal,find_triggered_transition_animal,\n",
    "    find_triggered_log_session, find_triggered_log_animal,fitLM,labels,seq1,seq2,rev1,rev2,rev3)\n",
    "\n",
    "from spyglass.shijiegu.changeOfMind_deltat import find_delta_t"
   ]
  },
  {
   "cell_type": "code",
   "execution_count": 5,
   "id": "87cdcb52-0f9a-47ae-9728-5f214b0c006c",
   "metadata": {},
   "outputs": [],
   "source": [
    "import statsmodels.api as sm\n",
    "from spyglass.shijiegu.changeOfMind_triggered import (find_triggered_animal,\n",
    "    plot_physical_vs_mental_position, parse_to_transitions, \n",
    "    find_large_position_minus_decode_trials, normalize_to_1, matrix_correlation,\n",
    "    find_behavior_sum, find_transitions_sum, find_transitions, correlate_transition_deltabehavior,trials_date_session_to_dict\n",
    ")\n",
    "from spyglass.shijiegu.pairwiseDecode import behavior_transitions_count"
   ]
  },
  {
   "cell_type": "code",
   "execution_count": 6,
   "id": "e40464bd-38e5-4b6f-89a8-61c63424520a",
   "metadata": {},
   "outputs": [],
   "source": [
    "animal = 'eliot'\n",
    "dates_to_plot = ['20221018','20221019','20221020','20221021','20221022','20221023','20221024','20221025','20221026']\n",
    "\n",
    "encoding_set = '2Dheadspeed_above_4_andlowmua'\n",
    "classifier_param_name = 'default_decoding_gpu_4armMaze'\n",
    "datafolder = f'/cumulus/shijie/behavior_pilot/Batch1/{animal}'"
   ]
  },
  {
   "cell_type": "code",
   "execution_count": 228,
   "id": "3a41555e-6ae0-489d-a5b2-012d16941ffc",
   "metadata": {},
   "outputs": [],
   "source": [
    "animal = 'lewis'\n",
    "\n",
    "dates_to_plot = ['20240107','20240108','20240109','20240110']#'20240114']#'20240115','20240116','20240117','20240118','20240119','20240120']\n",
    "\n",
    "#dates_to_plot = ['20240115','20240116','20240117','20240118','20240119','20240120']"
   ]
  },
  {
   "cell_type": "code",
   "execution_count": 7,
   "id": "22aed42e-39b5-42b0-ae0f-f795153a7428",
   "metadata": {
    "scrolled": true
   },
   "outputs": [
    {
     "name": "stderr",
     "output_type": "stream",
     "text": [
      "[14:56:15][WARNING] Spyglass: Deprecation: this class has been moved out of spyglass.common.common_position\n",
      "\tIntervalLinearizedPosition -> spyglass.linearization.v0.main.IntervalLinearizedPosition\n",
      "Please use the new location.\n"
     ]
    },
    {
     "name": "stdout",
     "output_type": "stream",
     "text": [
      "currently investigating:\n",
      "02_Seq2Session1\n",
      "pos 1 valid times\n",
      "\n",
      " turnaround_times 1 [[1666123418.8877153]]\n",
      "\n",
      " turnaround_times 2 [[1666123418.8877153]]\n"
     ]
    },
    {
     "name": "stderr",
     "output_type": "stream",
     "text": [
      "[14:56:17][WARNING] Spyglass: Deprecation: this class has been moved out of spyglass.common.common_position\n",
      "\tIntervalLinearizedPosition -> spyglass.linearization.v0.main.IntervalLinearizedPosition\n",
      "Please use the new location.\n"
     ]
    },
    {
     "name": "stdout",
     "output_type": "stream",
     "text": [
      "currently investigating:\n",
      "04_Seq2Session2\n",
      "pos 3 valid times\n"
     ]
    },
    {
     "name": "stderr",
     "output_type": "stream",
     "text": [
      "[14:56:18][WARNING] Spyglass: Deprecation: this class has been moved out of spyglass.common.common_position\n",
      "\tIntervalLinearizedPosition -> spyglass.linearization.v0.main.IntervalLinearizedPosition\n",
      "Please use the new location.\n"
     ]
    },
    {
     "name": "stdout",
     "output_type": "stream",
     "text": [
      "\n",
      " turnaround_times 1 []\n",
      "\n",
      " turnaround_times 2 []\n",
      "currently investigating:\n",
      "05_Seq2Session3\n",
      "pos 4 valid times\n",
      "\n",
      " turnaround_times 1 [[1666127441.1503155]]\n",
      "\n",
      " turnaround_times 2 [[1666127441.1503155]]\n"
     ]
    },
    {
     "name": "stderr",
     "output_type": "stream",
     "text": [
      "[14:56:21][WARNING] Spyglass: Deprecation: this class has been moved out of spyglass.common.common_position\n",
      "\tIntervalLinearizedPosition -> spyglass.linearization.v0.main.IntervalLinearizedPosition\n",
      "Please use the new location.\n"
     ]
    },
    {
     "name": "stdout",
     "output_type": "stream",
     "text": [
      "currently investigating:\n",
      "07_Seq2Session4\n",
      "pos 6 valid times\n",
      "\n",
      " turnaround_times 1 [[1666132290.288806]]\n",
      "\n",
      " turnaround_times 2 [[1666132290.288806]]\n"
     ]
    },
    {
     "name": "stderr",
     "output_type": "stream",
     "text": [
      "[14:56:23][WARNING] Spyglass: Deprecation: this class has been moved out of spyglass.common.common_position\n",
      "\tIntervalLinearizedPosition -> spyglass.linearization.v0.main.IntervalLinearizedPosition\n",
      "Please use the new location.\n"
     ]
    },
    {
     "name": "stdout",
     "output_type": "stream",
     "text": [
      "currently investigating:\n",
      "09_Seq2Session5\n",
      "pos 8 valid times\n",
      "\n",
      " turnaround_times 1 [[1666136860.9499655]]\n",
      "\n",
      " turnaround_times 2 [[1666136860.9499655]]\n"
     ]
    },
    {
     "name": "stderr",
     "output_type": "stream",
     "text": [
      "[14:56:26][WARNING] Spyglass: Deprecation: this class has been moved out of spyglass.common.common_position\n",
      "\tIntervalLinearizedPosition -> spyglass.linearization.v0.main.IntervalLinearizedPosition\n",
      "Please use the new location.\n"
     ]
    },
    {
     "name": "stdout",
     "output_type": "stream",
     "text": [
      "currently investigating:\n",
      "11_Seq2Session6\n",
      "pos 10 valid times\n",
      "\n",
      " turnaround_times 1 []\n",
      "\n",
      " turnaround_times 2 []\n"
     ]
    },
    {
     "name": "stderr",
     "output_type": "stream",
     "text": [
      "[14:56:28][WARNING] Spyglass: Deprecation: this class has been moved out of spyglass.common.common_position\n",
      "\tIntervalLinearizedPosition -> spyglass.linearization.v0.main.IntervalLinearizedPosition\n",
      "Please use the new location.\n"
     ]
    },
    {
     "name": "stdout",
     "output_type": "stream",
     "text": [
      "currently investigating:\n",
      "02_Seq2Session1\n",
      "pos 1 valid times\n",
      "\n",
      " turnaround_times 1 [[1666123418.8877153]]\n",
      "\n",
      " turnaround_times 2 [[1666123418.8877153]]\n"
     ]
    },
    {
     "name": "stderr",
     "output_type": "stream",
     "text": [
      "[14:56:28][WARNING] Spyglass: Deprecation: this class has been moved out of spyglass.common.common_position\n",
      "\tIntervalLinearizedPosition -> spyglass.linearization.v0.main.IntervalLinearizedPosition\n",
      "Please use the new location.\n",
      "[14:56:28][WARNING] Spyglass: Deprecation: this class has been moved out of spyglass.common.common_position\n",
      "\tIntervalLinearizedPosition -> spyglass.linearization.v0.main.IntervalLinearizedPosition\n",
      "Please use the new location.\n"
     ]
    },
    {
     "name": "stdout",
     "output_type": "stream",
     "text": [
      "currently investigating:\n",
      "04_Seq2Session2\n",
      "pos 3 valid times\n",
      "\n",
      " turnaround_times 1 []\n",
      "\n",
      " turnaround_times 2 []\n",
      "currently investigating:\n",
      "05_Seq2Session3\n",
      "pos 4 valid times\n",
      "\n",
      " turnaround_times 1 [[1666127441.1503155]]\n",
      "\n",
      " turnaround_times 2 [[1666127441.1503155]]\n"
     ]
    },
    {
     "name": "stderr",
     "output_type": "stream",
     "text": [
      "[14:56:29][WARNING] Spyglass: Deprecation: this class has been moved out of spyglass.common.common_position\n",
      "\tIntervalLinearizedPosition -> spyglass.linearization.v0.main.IntervalLinearizedPosition\n",
      "Please use the new location.\n"
     ]
    },
    {
     "name": "stdout",
     "output_type": "stream",
     "text": [
      "currently investigating:\n",
      "07_Seq2Session4\n",
      "pos 6 valid times\n",
      "\n",
      " turnaround_times 1 [[1666132290.288806]]\n",
      "\n",
      " turnaround_times 2 [[1666132290.288806]]\n",
      "currently investigating:\n",
      "09_Seq2Session5\n",
      "pos 8 valid times\n"
     ]
    },
    {
     "name": "stderr",
     "output_type": "stream",
     "text": [
      "[14:56:29][WARNING] Spyglass: Deprecation: this class has been moved out of spyglass.common.common_position\n",
      "\tIntervalLinearizedPosition -> spyglass.linearization.v0.main.IntervalLinearizedPosition\n",
      "Please use the new location.\n",
      "[14:56:29][WARNING] Spyglass: Deprecation: this class has been moved out of spyglass.common.common_position\n",
      "\tIntervalLinearizedPosition -> spyglass.linearization.v0.main.IntervalLinearizedPosition\n",
      "Please use the new location.\n"
     ]
    },
    {
     "name": "stdout",
     "output_type": "stream",
     "text": [
      "\n",
      " turnaround_times 1 [[1666136860.9499655]]\n",
      "\n",
      " turnaround_times 2 [[1666136860.9499655]]\n",
      "currently investigating:\n",
      "11_Seq2Session6\n",
      "pos 10 valid times\n",
      "\n",
      " turnaround_times 1 []\n",
      "\n",
      " turnaround_times 2 []\n"
     ]
    },
    {
     "name": "stderr",
     "output_type": "stream",
     "text": [
      "[14:56:55][WARNING] Spyglass: Deprecation: this class has been moved out of spyglass.common.common_position\n",
      "\tIntervalLinearizedPosition -> spyglass.linearization.v0.main.IntervalLinearizedPosition\n",
      "Please use the new location.\n"
     ]
    },
    {
     "name": "stdout",
     "output_type": "stream",
     "text": [
      "currently investigating:\n",
      "02_Seq2Session1\n",
      "pos 1 valid times\n",
      "\n",
      " turnaround_times 1 [[1666198134.6120543], [1666199027.1437473], [1666199133.9917107, 1666199137.2397096]]\n",
      "\n",
      " turnaround_times 2 [[1666198134.6120543], [1666199027.1437473], [1666199133.9917107, 1666199137.2397096]]\n"
     ]
    },
    {
     "name": "stderr",
     "output_type": "stream",
     "text": [
      "[14:56:57][WARNING] Spyglass: Deprecation: this class has been moved out of spyglass.common.common_position\n",
      "\tIntervalLinearizedPosition -> spyglass.linearization.v0.main.IntervalLinearizedPosition\n",
      "Please use the new location.\n"
     ]
    },
    {
     "name": "stdout",
     "output_type": "stream",
     "text": [
      "currently investigating:\n",
      "04_Seq2Session2\n",
      "pos 3 valid times\n",
      "\n",
      " turnaround_times 1 [[1666201771.9713035], [1666201814.5052972], [1666201899.8312848], [1666202400.547212], [1666202629.3611784, 1666202631.923178], [1666203039.5411186, 1666203044.583118], [1666203068.1111145], [1666203154.633102, 1666203158.0051014, 1666203159.929101]]\n",
      "\n",
      " turnaround_times 2 [[1666201771.9713035], [1666201814.5052972], [1666201899.8312848], [1666202400.547212], [1666202629.3611784, 1666202631.923178], [1666203039.5411186, 1666203044.583118], [1666203068.1111145], [1666203154.633102, 1666203158.0051014, 1666203159.929101]]\n"
     ]
    },
    {
     "name": "stderr",
     "output_type": "stream",
     "text": [
      "[14:57:00][WARNING] Spyglass: Deprecation: this class has been moved out of spyglass.common.common_position\n",
      "\tIntervalLinearizedPosition -> spyglass.linearization.v0.main.IntervalLinearizedPosition\n",
      "Please use the new location.\n"
     ]
    },
    {
     "name": "stdout",
     "output_type": "stream",
     "text": [
      "currently investigating:\n",
      "06_Seq2Session3\n",
      "pos 5 valid times\n",
      "\n",
      " turnaround_times 1 [[1666206884.8770804], [1666207033.872945, 1666207035.7949433, 1666207037.290942], [1666207518.278505, 1666207520.626503], [1666207658.6063776, 1666207661.3403752], [1666207722.2363198], [1666207860.684194], [1666208204.1178823], [1666208286.0278077]]\n",
      "\n",
      " turnaround_times 2 [[1666206884.8770804], [1666207033.872945, 1666207035.7949433, 1666207037.290942], [1666207518.278505, 1666207520.626503], [1666207658.6063776, 1666207661.3403752], [1666207722.2363198], [1666207860.684194], [1666208204.1178823], [1666208286.0278077]]\n"
     ]
    },
    {
     "name": "stderr",
     "output_type": "stream",
     "text": [
      "[14:57:03][WARNING] Spyglass: Deprecation: this class has been moved out of spyglass.common.common_position\n",
      "\tIntervalLinearizedPosition -> spyglass.linearization.v0.main.IntervalLinearizedPosition\n",
      "Please use the new location.\n"
     ]
    },
    {
     "name": "stdout",
     "output_type": "stream",
     "text": [
      "currently investigating:\n",
      "08_Seq2Session4\n",
      "pos 7 valid times\n",
      "\n",
      " turnaround_times 1 [[1666210781.996379], [1666210839.7343462], [1666211021.3582428, 1666211030.6802375, 1666211025.2882407], [1666211199.7361414], [1666211219.98013], [1666211281.2620952], [1666211546.6279442], [1666211921.1097314], [1666212038.7616646, 1666212040.4696636]]\n",
      "\n",
      " turnaround_times 2 [[1666210781.996379], [1666210839.7343462], [1666211021.3582428, 1666211030.6802375, 1666211025.2882407], [1666211199.7361414], [1666211219.98013], [1666211281.2620952], [1666211546.6279442], [1666211921.1097314], [1666212038.7616646, 1666212040.4696636]]\n",
      "some missing position data\n"
     ]
    },
    {
     "name": "stderr",
     "output_type": "stream",
     "text": [
      "[14:57:06][WARNING] Spyglass: Deprecation: this class has been moved out of spyglass.common.common_position\n",
      "\tIntervalLinearizedPosition -> spyglass.linearization.v0.main.IntervalLinearizedPosition\n",
      "Please use the new location.\n"
     ]
    },
    {
     "name": "stdout",
     "output_type": "stream",
     "text": [
      "currently investigating:\n",
      "10_Seq2Session5\n",
      "pos 9 valid times\n",
      "\n",
      " turnaround_times 1 [[1666214992.0597215], [1666215036.0876915]]\n",
      "\n",
      " turnaround_times 2 [[1666214992.0597215], [1666215036.0876915]]\n"
     ]
    },
    {
     "name": "stderr",
     "output_type": "stream",
     "text": [
      "[14:57:08][WARNING] Spyglass: Deprecation: this class has been moved out of spyglass.common.common_position\n",
      "\tIntervalLinearizedPosition -> spyglass.linearization.v0.main.IntervalLinearizedPosition\n",
      "Please use the new location.\n"
     ]
    },
    {
     "name": "stdout",
     "output_type": "stream",
     "text": [
      "currently investigating:\n",
      "02_Seq2Session1\n",
      "pos 1 valid times\n",
      "\n",
      " turnaround_times 1 [[1666198134.6120543], [1666199027.1437473], [1666199133.9917107, 1666199137.2397096]]\n",
      "\n",
      " turnaround_times 2 [[1666198134.6120543], [1666199027.1437473], [1666199133.9917107, 1666199137.2397096]]\n"
     ]
    },
    {
     "name": "stderr",
     "output_type": "stream",
     "text": [
      "[14:57:09][WARNING] Spyglass: Deprecation: this class has been moved out of spyglass.common.common_position\n",
      "\tIntervalLinearizedPosition -> spyglass.linearization.v0.main.IntervalLinearizedPosition\n",
      "Please use the new location.\n"
     ]
    },
    {
     "name": "stdout",
     "output_type": "stream",
     "text": [
      "currently investigating:\n",
      "04_Seq2Session2\n",
      "pos 3 valid times\n",
      "\n",
      " turnaround_times 1 [[1666201771.9713035], [1666201814.5052972], [1666201899.8312848], [1666202400.547212], [1666202629.3611784, 1666202631.923178], [1666203039.5411186, 1666203044.583118], [1666203068.1111145], [1666203154.633102, 1666203158.0051014, 1666203159.929101]]\n",
      "\n",
      " turnaround_times 2 [[1666201771.9713035], [1666201814.5052972], [1666201899.8312848], [1666202400.547212], [1666202629.3611784, 1666202631.923178], [1666203039.5411186, 1666203044.583118], [1666203068.1111145], [1666203154.633102, 1666203158.0051014, 1666203159.929101]]\n"
     ]
    },
    {
     "name": "stderr",
     "output_type": "stream",
     "text": [
      "[14:57:10][WARNING] Spyglass: Deprecation: this class has been moved out of spyglass.common.common_position\n",
      "\tIntervalLinearizedPosition -> spyglass.linearization.v0.main.IntervalLinearizedPosition\n",
      "Please use the new location.\n"
     ]
    },
    {
     "name": "stdout",
     "output_type": "stream",
     "text": [
      "currently investigating:\n",
      "06_Seq2Session3\n",
      "pos 5 valid times\n",
      "\n",
      " turnaround_times 1 [[1666206884.8770804], [1666207033.872945, 1666207035.7949433, 1666207037.290942], [1666207518.278505, 1666207520.626503], [1666207658.6063776, 1666207661.3403752], [1666207722.2363198], [1666207860.684194], [1666208204.1178823], [1666208286.0278077]]\n",
      "\n",
      " turnaround_times 2 [[1666206884.8770804], [1666207033.872945, 1666207035.7949433, 1666207037.290942], [1666207518.278505, 1666207520.626503], [1666207658.6063776, 1666207661.3403752], [1666207722.2363198], [1666207860.684194], [1666208204.1178823], [1666208286.0278077]]\n"
     ]
    },
    {
     "name": "stderr",
     "output_type": "stream",
     "text": [
      "[14:57:11][WARNING] Spyglass: Deprecation: this class has been moved out of spyglass.common.common_position\n",
      "\tIntervalLinearizedPosition -> spyglass.linearization.v0.main.IntervalLinearizedPosition\n",
      "Please use the new location.\n"
     ]
    },
    {
     "name": "stdout",
     "output_type": "stream",
     "text": [
      "currently investigating:\n",
      "08_Seq2Session4\n",
      "pos 7 valid times\n",
      "\n",
      " turnaround_times 1 [[1666210781.996379], [1666210839.7343462], [1666211021.3582428, 1666211030.6802375, 1666211025.2882407], [1666211199.7361414], [1666211219.98013], [1666211281.2620952], [1666211546.6279442], [1666211921.1097314], [1666212038.7616646, 1666212040.4696636]]\n",
      "\n",
      " turnaround_times 2 [[1666210781.996379], [1666210839.7343462], [1666211021.3582428, 1666211030.6802375, 1666211025.2882407], [1666211199.7361414], [1666211219.98013], [1666211281.2620952], [1666211546.6279442], [1666211921.1097314], [1666212038.7616646, 1666212040.4696636]]\n"
     ]
    },
    {
     "name": "stderr",
     "output_type": "stream",
     "text": [
      "[14:57:13][WARNING] Spyglass: Deprecation: this class has been moved out of spyglass.common.common_position\n",
      "\tIntervalLinearizedPosition -> spyglass.linearization.v0.main.IntervalLinearizedPosition\n",
      "Please use the new location.\n"
     ]
    },
    {
     "name": "stdout",
     "output_type": "stream",
     "text": [
      "currently investigating:\n",
      "10_Seq2Session5\n",
      "pos 9 valid times\n",
      "\n",
      " turnaround_times 1 [[1666214992.0597215], [1666215036.0876915]]\n",
      "\n",
      " turnaround_times 2 [[1666214992.0597215], [1666215036.0876915]]\n"
     ]
    },
    {
     "name": "stderr",
     "output_type": "stream",
     "text": [
      "[14:57:44][WARNING] Spyglass: Deprecation: this class has been moved out of spyglass.common.common_position\n",
      "\tIntervalLinearizedPosition -> spyglass.linearization.v0.main.IntervalLinearizedPosition\n",
      "Please use the new location.\n"
     ]
    },
    {
     "name": "stdout",
     "output_type": "stream",
     "text": [
      "currently investigating:\n",
      "02_Seq2Session1\n",
      "pos 1 valid times\n",
      "\n",
      " turnaround_times 1 [[1666282910.2811], [1666283139.3530874], [1666283832.3670492], [1666284017.2830389, 1666284020.1850388]]\n",
      "\n",
      " turnaround_times 2 [[1666282910.2811], [1666283139.3530874], [1666283832.3670492], [1666284017.2830389, 1666284020.1850388]]\n"
     ]
    },
    {
     "name": "stderr",
     "output_type": "stream",
     "text": [
      "[14:57:46][WARNING] Spyglass: Deprecation: this class has been moved out of spyglass.common.common_position\n",
      "\tIntervalLinearizedPosition -> spyglass.linearization.v0.main.IntervalLinearizedPosition\n",
      "Please use the new location.\n"
     ]
    },
    {
     "name": "stdout",
     "output_type": "stream",
     "text": [
      "currently investigating:\n",
      "04_Seq2Session2\n",
      "pos 3 valid times\n",
      "\n",
      " turnaround_times 1 [[1666286926.882496], [1666287228.3363347], [1666288060.7858891]]\n",
      "\n",
      " turnaround_times 2 [[1666286926.882496], [1666287228.3363347], [1666288060.7858891]]\n"
     ]
    },
    {
     "name": "stderr",
     "output_type": "stream",
     "text": [
      "[14:57:48][WARNING] Spyglass: Deprecation: this class has been moved out of spyglass.common.common_position\n",
      "\tIntervalLinearizedPosition -> spyglass.linearization.v0.main.IntervalLinearizedPosition\n",
      "Please use the new location.\n"
     ]
    },
    {
     "name": "stdout",
     "output_type": "stream",
     "text": [
      "currently investigating:\n",
      "06_Seq2Session3\n",
      "pos 5 valid times\n",
      "\n",
      " turnaround_times 1 [[1666292589.5989883], [1666293030.8666377, 1666293032.0206368], [1666293327.456402], [1666293646.7601483]]\n",
      "\n",
      " turnaround_times 2 [[1666292589.5989883], [1666293030.8666377, 1666293032.0206368], [1666293327.456402], [1666293646.7601483]]\n"
     ]
    },
    {
     "name": "stderr",
     "output_type": "stream",
     "text": [
      "[14:57:50][WARNING] Spyglass: Deprecation: this class has been moved out of spyglass.common.common_position\n",
      "\tIntervalLinearizedPosition -> spyglass.linearization.v0.main.IntervalLinearizedPosition\n",
      "Please use the new location.\n"
     ]
    },
    {
     "name": "stdout",
     "output_type": "stream",
     "text": [
      "currently investigating:\n",
      "08_Seq2Session4\n",
      "pos 7 valid times\n",
      "\n",
      " turnaround_times 1 [[1666297196.9128351, 1666297198.6188345, 1666297200.070834], [1666297295.560796]]\n",
      "\n",
      " turnaround_times 2 [[1666297196.9128351, 1666297198.6188345, 1666297200.070834], [1666297295.560796]]\n"
     ]
    },
    {
     "name": "stderr",
     "output_type": "stream",
     "text": [
      "[14:57:52][WARNING] Spyglass: Deprecation: this class has been moved out of spyglass.common.common_position\n",
      "\tIntervalLinearizedPosition -> spyglass.linearization.v0.main.IntervalLinearizedPosition\n",
      "Please use the new location.\n"
     ]
    },
    {
     "name": "stdout",
     "output_type": "stream",
     "text": [
      "currently investigating:\n",
      "10_Seq2Session5\n",
      "pos 9 valid times\n",
      "\n",
      " turnaround_times 1 [[1666301654.2740588], [1666302142.0938442, 1666302144.3998432]]\n",
      "\n",
      " turnaround_times 2 [[1666301654.2740588], [1666302142.0938442, 1666302144.3998432]]\n"
     ]
    },
    {
     "name": "stderr",
     "output_type": "stream",
     "text": [
      "[14:57:54][WARNING] Spyglass: Deprecation: this class has been moved out of spyglass.common.common_position\n",
      "\tIntervalLinearizedPosition -> spyglass.linearization.v0.main.IntervalLinearizedPosition\n",
      "Please use the new location.\n"
     ]
    },
    {
     "name": "stdout",
     "output_type": "stream",
     "text": [
      "some missing position data\n",
      "currently investigating:\n",
      "12_Seq2Session6\n",
      "pos 11 valid times\n",
      "\n",
      " turnaround_times 1 [[1666305416.8996675], [1666305620.1335518], [1666305795.821452, 1666305798.2974503], [1666306166.073241, 1666306169.0632393], [1666306390.4031134], [1666306577.6650069]]\n",
      "\n",
      " turnaround_times 2 [[1666305416.8996675], [1666305620.1335518], [1666305795.821452, 1666305798.2974503], [1666306166.073241, 1666306169.0632393], [1666306390.4031134], [1666306577.6650069]]\n"
     ]
    },
    {
     "name": "stderr",
     "output_type": "stream",
     "text": [
      "[14:57:56][WARNING] Spyglass: Deprecation: this class has been moved out of spyglass.common.common_position\n",
      "\tIntervalLinearizedPosition -> spyglass.linearization.v0.main.IntervalLinearizedPosition\n",
      "Please use the new location.\n"
     ]
    },
    {
     "name": "stdout",
     "output_type": "stream",
     "text": [
      "currently investigating:\n",
      "02_Seq2Session1\n",
      "pos 1 valid times\n",
      "\n",
      " turnaround_times 1 [[1666282910.2811], [1666283139.3530874], [1666283832.3670492], [1666284017.2830389, 1666284020.1850388]]\n",
      "\n",
      " turnaround_times 2 [[1666282910.2811], [1666283139.3530874], [1666283832.3670492], [1666284017.2830389, 1666284020.1850388]]\n"
     ]
    },
    {
     "name": "stderr",
     "output_type": "stream",
     "text": [
      "[14:57:57][WARNING] Spyglass: Deprecation: this class has been moved out of spyglass.common.common_position\n",
      "\tIntervalLinearizedPosition -> spyglass.linearization.v0.main.IntervalLinearizedPosition\n",
      "Please use the new location.\n"
     ]
    },
    {
     "name": "stdout",
     "output_type": "stream",
     "text": [
      "currently investigating:\n",
      "04_Seq2Session2\n",
      "pos 3 valid times\n",
      "\n",
      " turnaround_times 1 [[1666286926.882496], [1666287228.3363347], [1666288060.7858891]]\n",
      "\n",
      " turnaround_times 2 [[1666286926.882496], [1666287228.3363347], [1666288060.7858891]]\n"
     ]
    },
    {
     "name": "stderr",
     "output_type": "stream",
     "text": [
      "[14:57:58][WARNING] Spyglass: Deprecation: this class has been moved out of spyglass.common.common_position\n",
      "\tIntervalLinearizedPosition -> spyglass.linearization.v0.main.IntervalLinearizedPosition\n",
      "Please use the new location.\n"
     ]
    },
    {
     "name": "stdout",
     "output_type": "stream",
     "text": [
      "currently investigating:\n",
      "06_Seq2Session3\n",
      "pos 5 valid times\n",
      "\n",
      " turnaround_times 1 [[1666292589.5989883], [1666293030.8666377, 1666293032.0206368], [1666293327.456402], [1666293646.7601483]]\n",
      "\n",
      " turnaround_times 2 [[1666292589.5989883], [1666293030.8666377, 1666293032.0206368], [1666293327.456402], [1666293646.7601483]]\n"
     ]
    },
    {
     "name": "stderr",
     "output_type": "stream",
     "text": [
      "[14:57:59][WARNING] Spyglass: Deprecation: this class has been moved out of spyglass.common.common_position\n",
      "\tIntervalLinearizedPosition -> spyglass.linearization.v0.main.IntervalLinearizedPosition\n",
      "Please use the new location.\n"
     ]
    },
    {
     "name": "stdout",
     "output_type": "stream",
     "text": [
      "currently investigating:\n",
      "08_Seq2Session4\n",
      "pos 7 valid times\n",
      "\n",
      " turnaround_times 1 [[1666297196.9128351, 1666297198.6188345, 1666297200.070834], [1666297295.560796]]\n",
      "\n",
      " turnaround_times 2 [[1666297196.9128351, 1666297198.6188345, 1666297200.070834], [1666297295.560796]]\n"
     ]
    },
    {
     "name": "stderr",
     "output_type": "stream",
     "text": [
      "[14:57:59][WARNING] Spyglass: Deprecation: this class has been moved out of spyglass.common.common_position\n",
      "\tIntervalLinearizedPosition -> spyglass.linearization.v0.main.IntervalLinearizedPosition\n",
      "Please use the new location.\n"
     ]
    },
    {
     "name": "stdout",
     "output_type": "stream",
     "text": [
      "currently investigating:\n",
      "10_Seq2Session5\n",
      "pos 9 valid times\n",
      "\n",
      " turnaround_times 1 [[1666301654.2740588], [1666302142.0938442, 1666302144.3998432]]\n",
      "\n",
      " turnaround_times 2 [[1666301654.2740588], [1666302142.0938442, 1666302144.3998432]]\n"
     ]
    },
    {
     "name": "stderr",
     "output_type": "stream",
     "text": [
      "[14:58:00][WARNING] Spyglass: Deprecation: this class has been moved out of spyglass.common.common_position\n",
      "\tIntervalLinearizedPosition -> spyglass.linearization.v0.main.IntervalLinearizedPosition\n",
      "Please use the new location.\n"
     ]
    },
    {
     "name": "stdout",
     "output_type": "stream",
     "text": [
      "currently investigating:\n",
      "12_Seq2Session6\n",
      "pos 11 valid times\n",
      "\n",
      " turnaround_times 1 [[1666305416.8996675], [1666305620.1335518], [1666305795.821452, 1666305798.2974503], [1666306166.073241, 1666306169.0632393], [1666306390.4031134], [1666306577.6650069]]\n",
      "\n",
      " turnaround_times 2 [[1666305416.8996675], [1666305620.1335518], [1666305795.821452, 1666305798.2974503], [1666306166.073241, 1666306169.0632393], [1666306390.4031134], [1666306577.6650069]]\n"
     ]
    },
    {
     "name": "stderr",
     "output_type": "stream",
     "text": [
      "[14:58:29][WARNING] Spyglass: Deprecation: this class has been moved out of spyglass.common.common_position\n",
      "\tIntervalLinearizedPosition -> spyglass.linearization.v0.main.IntervalLinearizedPosition\n",
      "Please use the new location.\n"
     ]
    },
    {
     "name": "stdout",
     "output_type": "stream",
     "text": [
      "currently investigating:\n",
      "02_Seq2Session1\n",
      "pos 1 valid times\n",
      "\n",
      " turnaround_times 1 [[1666384429.5453436, 1666384431.9353426], [1666384645.3312504], [1666384890.203145, 1666384907.7971373, 1666384891.6971443, 1666384894.985143]]\n",
      "\n",
      " turnaround_times 2 [[1666384429.5453436, 1666384431.9353426], [1666384645.3312504], [1666384890.203145, 1666384907.7971373, 1666384891.6971443, 1666384894.985143]]\n"
     ]
    },
    {
     "name": "stderr",
     "output_type": "stream",
     "text": [
      "[14:58:31][WARNING] Spyglass: Deprecation: this class has been moved out of spyglass.common.common_position\n",
      "\tIntervalLinearizedPosition -> spyglass.linearization.v0.main.IntervalLinearizedPosition\n",
      "Please use the new location.\n"
     ]
    },
    {
     "name": "stdout",
     "output_type": "stream",
     "text": [
      "currently investigating:\n",
      "04_Seq2Session2\n",
      "pos 3 valid times\n",
      "\n",
      " turnaround_times 1 [[1666389670.7343502, 1666389672.5703492], [1666389783.3882902], [1666389896.5142298, 1666389912.4022212], [1666389934.4782095], [1666390610.2878492], [1666390700.609801], [1666390818.1377382, 1666390823.8537352, 1666390820.393737]]\n",
      "\n",
      " turnaround_times 2 [[1666389670.7343502, 1666389672.5703492], [1666389783.3882902], [1666389896.5142298, 1666389912.4022212], [1666389934.4782095], [1666390610.2878492], [1666390700.609801], [1666390818.1377382, 1666390823.8537352, 1666390820.393737]]\n"
     ]
    },
    {
     "name": "stderr",
     "output_type": "stream",
     "text": [
      "[14:58:34][WARNING] Spyglass: Deprecation: this class has been moved out of spyglass.common.common_position\n",
      "\tIntervalLinearizedPosition -> spyglass.linearization.v0.main.IntervalLinearizedPosition\n",
      "Please use the new location.\n"
     ]
    },
    {
     "name": "stdout",
     "output_type": "stream",
     "text": [
      "currently investigating:\n",
      "06_Seq2Session3\n",
      "pos 5 valid times\n",
      "\n",
      " turnaround_times 1 [[1666393866.5318604], [1666393903.5138586]]\n",
      "\n",
      " turnaround_times 2 [[1666393866.5318604], [1666393903.5138586]]\n"
     ]
    },
    {
     "name": "stderr",
     "output_type": "stream",
     "text": [
      "[14:58:36][WARNING] Spyglass: Deprecation: this class has been moved out of spyglass.common.common_position\n",
      "\tIntervalLinearizedPosition -> spyglass.linearization.v0.main.IntervalLinearizedPosition\n",
      "Please use the new location.\n"
     ]
    },
    {
     "name": "stdout",
     "output_type": "stream",
     "text": [
      "currently investigating:\n",
      "08_Seq2Session4\n",
      "pos 7 valid times\n",
      "\n",
      " turnaround_times 1 [[1666397860.4295747], [1666398752.625388, 1666398755.2713873], [1666398999.3733363, 1666399002.2773356], [1666399347.8472633], [1666399389.1852548]]\n",
      "\n",
      " turnaround_times 2 [[1666397860.4295747], [1666398752.625388, 1666398755.2713873], [1666398999.3733363, 1666399002.2773356], [1666399347.8472633], [1666399389.1852548]]\n"
     ]
    },
    {
     "name": "stderr",
     "output_type": "stream",
     "text": [
      "[14:58:39][WARNING] Spyglass: Deprecation: this class has been moved out of spyglass.common.common_position\n",
      "\tIntervalLinearizedPosition -> spyglass.linearization.v0.main.IntervalLinearizedPosition\n",
      "Please use the new location.\n"
     ]
    },
    {
     "name": "stdout",
     "output_type": "stream",
     "text": [
      "currently investigating:\n",
      "02_Seq2Session1\n",
      "pos 1 valid times\n",
      "\n",
      " turnaround_times 1 [[1666384429.5453436, 1666384431.9353426], [1666384645.3312504], [1666384890.203145, 1666384907.7971373, 1666384891.6971443, 1666384894.985143]]\n",
      "\n",
      " turnaround_times 2 [[1666384429.5453436, 1666384431.9353426], [1666384645.3312504], [1666384890.203145, 1666384907.7971373, 1666384891.6971443, 1666384894.985143]]\n"
     ]
    },
    {
     "name": "stderr",
     "output_type": "stream",
     "text": [
      "[14:58:40][WARNING] Spyglass: Deprecation: this class has been moved out of spyglass.common.common_position\n",
      "\tIntervalLinearizedPosition -> spyglass.linearization.v0.main.IntervalLinearizedPosition\n",
      "Please use the new location.\n"
     ]
    },
    {
     "name": "stdout",
     "output_type": "stream",
     "text": [
      "currently investigating:\n",
      "04_Seq2Session2\n",
      "pos 3 valid times\n",
      "\n",
      " turnaround_times 1 [[1666389670.7343502, 1666389672.5703492], [1666389783.3882902], [1666389896.5142298, 1666389912.4022212], [1666389934.4782095], [1666390610.2878492], [1666390700.609801], [1666390818.1377382, 1666390823.8537352, 1666390820.393737]]\n",
      "\n",
      " turnaround_times 2 [[1666389670.7343502, 1666389672.5703492], [1666389783.3882902], [1666389896.5142298, 1666389912.4022212], [1666389934.4782095], [1666390610.2878492], [1666390700.609801], [1666390818.1377382, 1666390823.8537352, 1666390820.393737]]\n"
     ]
    },
    {
     "name": "stderr",
     "output_type": "stream",
     "text": [
      "[14:58:41][WARNING] Spyglass: Deprecation: this class has been moved out of spyglass.common.common_position\n",
      "\tIntervalLinearizedPosition -> spyglass.linearization.v0.main.IntervalLinearizedPosition\n",
      "Please use the new location.\n"
     ]
    },
    {
     "name": "stdout",
     "output_type": "stream",
     "text": [
      "currently investigating:\n",
      "06_Seq2Session3\n",
      "pos 5 valid times\n",
      "\n",
      " turnaround_times 1 [[1666393866.5318604], [1666393903.5138586]]\n",
      "\n",
      " turnaround_times 2 [[1666393866.5318604], [1666393903.5138586]]\n"
     ]
    },
    {
     "name": "stderr",
     "output_type": "stream",
     "text": [
      "[14:58:41][WARNING] Spyglass: Deprecation: this class has been moved out of spyglass.common.common_position\n",
      "\tIntervalLinearizedPosition -> spyglass.linearization.v0.main.IntervalLinearizedPosition\n",
      "Please use the new location.\n"
     ]
    },
    {
     "name": "stdout",
     "output_type": "stream",
     "text": [
      "currently investigating:\n",
      "08_Seq2Session4\n",
      "pos 7 valid times\n",
      "\n",
      " turnaround_times 1 [[1666397860.4295747], [1666398752.625388, 1666398755.2713873], [1666398999.3733363, 1666399002.2773356], [1666399347.8472633], [1666399389.1852548]]\n",
      "\n",
      " turnaround_times 2 [[1666397860.4295747], [1666398752.625388, 1666398755.2713873], [1666398999.3733363, 1666399002.2773356], [1666399347.8472633], [1666399389.1852548]]\n"
     ]
    },
    {
     "name": "stderr",
     "output_type": "stream",
     "text": [
      "[14:59:05][WARNING] Spyglass: Deprecation: this class has been moved out of spyglass.common.common_position\n",
      "\tIntervalLinearizedPosition -> spyglass.linearization.v0.main.IntervalLinearizedPosition\n",
      "Please use the new location.\n"
     ]
    },
    {
     "name": "stdout",
     "output_type": "stream",
     "text": [
      "currently investigating:\n",
      "02_Seq2Session1\n",
      "pos 1 valid times\n",
      "\n",
      " turnaround_times 1 [[1666461768.4056118], [1666461982.101525, 1666461983.2515247], [1666462651.4132535, 1666462666.5312474, 1666462653.1212528]]\n",
      "\n",
      " turnaround_times 2 [[1666461768.4056118], [1666461982.101525, 1666461983.2515247], [1666462651.4132535, 1666462666.5312474, 1666462653.1212528]]\n"
     ]
    },
    {
     "name": "stderr",
     "output_type": "stream",
     "text": [
      "[14:59:07][WARNING] Spyglass: Deprecation: this class has been moved out of spyglass.common.common_position\n",
      "\tIntervalLinearizedPosition -> spyglass.linearization.v0.main.IntervalLinearizedPosition\n",
      "Please use the new location.\n"
     ]
    },
    {
     "name": "stdout",
     "output_type": "stream",
     "text": [
      "currently investigating:\n",
      "04_Seq2Session2\n",
      "pos 3 valid times\n",
      "\n",
      " turnaround_times 1 [[1666469777.5066266]]\n",
      "\n",
      " turnaround_times 2 [[1666469777.5066266]]\n"
     ]
    },
    {
     "name": "stderr",
     "output_type": "stream",
     "text": [
      "[14:59:09][WARNING] Spyglass: Deprecation: this class has been moved out of spyglass.common.common_position\n",
      "\tIntervalLinearizedPosition -> spyglass.linearization.v0.main.IntervalLinearizedPosition\n",
      "Please use the new location.\n"
     ]
    },
    {
     "name": "stdout",
     "output_type": "stream",
     "text": [
      "currently investigating:\n",
      "06_Seq2Session3\n",
      "pos 5 valid times\n",
      "\n",
      " turnaround_times 1 []\n",
      "\n",
      " turnaround_times 2 []\n"
     ]
    },
    {
     "name": "stderr",
     "output_type": "stream",
     "text": [
      "[14:59:10][WARNING] Spyglass: Deprecation: this class has been moved out of spyglass.common.common_position\n",
      "\tIntervalLinearizedPosition -> spyglass.linearization.v0.main.IntervalLinearizedPosition\n",
      "Please use the new location.\n"
     ]
    },
    {
     "name": "stdout",
     "output_type": "stream",
     "text": [
      "currently investigating:\n",
      "08_Seq2Session4\n",
      "pos 7 valid times\n",
      "\n",
      " turnaround_times 1 [[1666478718.7010367]]\n",
      "\n",
      " turnaround_times 2 [[1666478718.7010367]]\n"
     ]
    },
    {
     "name": "stderr",
     "output_type": "stream",
     "text": [
      "[14:59:12][WARNING] Spyglass: Deprecation: this class has been moved out of spyglass.common.common_position\n",
      "\tIntervalLinearizedPosition -> spyglass.linearization.v0.main.IntervalLinearizedPosition\n",
      "Please use the new location.\n"
     ]
    },
    {
     "name": "stdout",
     "output_type": "stream",
     "text": [
      "currently investigating:\n",
      "10_Seq2Session5\n",
      "pos 9 valid times\n",
      "\n",
      " turnaround_times 1 [[1666481670.4002368], [1666482389.5917401, 1666482392.1137385]]\n",
      "\n",
      " turnaround_times 2 [[1666481670.4002368], [1666482389.5917401, 1666482392.1137385]]\n"
     ]
    },
    {
     "name": "stderr",
     "output_type": "stream",
     "text": [
      "[14:59:14][WARNING] Spyglass: Deprecation: this class has been moved out of spyglass.common.common_position\n",
      "\tIntervalLinearizedPosition -> spyglass.linearization.v0.main.IntervalLinearizedPosition\n",
      "Please use the new location.\n"
     ]
    },
    {
     "name": "stdout",
     "output_type": "stream",
     "text": [
      "currently investigating:\n",
      "02_Seq2Session1\n",
      "pos 1 valid times\n",
      "\n",
      " turnaround_times 1 [[1666461768.4056118], [1666461982.101525, 1666461983.2515247], [1666462651.4132535, 1666462666.5312474, 1666462653.1212528]]\n",
      "\n",
      " turnaround_times 2 [[1666461768.4056118], [1666461982.101525, 1666461983.2515247], [1666462651.4132535, 1666462666.5312474, 1666462653.1212528]]\n"
     ]
    },
    {
     "name": "stderr",
     "output_type": "stream",
     "text": [
      "[14:59:15][WARNING] Spyglass: Deprecation: this class has been moved out of spyglass.common.common_position\n",
      "\tIntervalLinearizedPosition -> spyglass.linearization.v0.main.IntervalLinearizedPosition\n",
      "Please use the new location.\n"
     ]
    },
    {
     "name": "stdout",
     "output_type": "stream",
     "text": [
      "currently investigating:\n",
      "04_Seq2Session2\n",
      "pos 3 valid times\n"
     ]
    },
    {
     "name": "stderr",
     "output_type": "stream",
     "text": [
      "[14:59:15][WARNING] Spyglass: Deprecation: this class has been moved out of spyglass.common.common_position\n",
      "\tIntervalLinearizedPosition -> spyglass.linearization.v0.main.IntervalLinearizedPosition\n",
      "Please use the new location.\n"
     ]
    },
    {
     "name": "stdout",
     "output_type": "stream",
     "text": [
      "\n",
      " turnaround_times 1 [[1666469777.5066266]]\n",
      "\n",
      " turnaround_times 2 [[1666469777.5066266]]\n",
      "currently investigating:\n",
      "06_Seq2Session3\n",
      "pos 5 valid times\n"
     ]
    },
    {
     "name": "stderr",
     "output_type": "stream",
     "text": [
      "[14:59:15][WARNING] Spyglass: Deprecation: this class has been moved out of spyglass.common.common_position\n",
      "\tIntervalLinearizedPosition -> spyglass.linearization.v0.main.IntervalLinearizedPosition\n",
      "Please use the new location.\n"
     ]
    },
    {
     "name": "stdout",
     "output_type": "stream",
     "text": [
      "\n",
      " turnaround_times 1 []\n",
      "\n",
      " turnaround_times 2 []\n",
      "currently investigating:\n",
      "08_Seq2Session4\n",
      "pos 7 valid times\n",
      "\n",
      " turnaround_times 1 [[1666478718.7010367]]\n",
      "\n",
      " turnaround_times 2 [[1666478718.7010367]]\n"
     ]
    },
    {
     "name": "stderr",
     "output_type": "stream",
     "text": [
      "[14:59:16][WARNING] Spyglass: Deprecation: this class has been moved out of spyglass.common.common_position\n",
      "\tIntervalLinearizedPosition -> spyglass.linearization.v0.main.IntervalLinearizedPosition\n",
      "Please use the new location.\n"
     ]
    },
    {
     "name": "stdout",
     "output_type": "stream",
     "text": [
      "currently investigating:\n",
      "10_Seq2Session5\n",
      "pos 9 valid times\n",
      "\n",
      " turnaround_times 1 [[1666481670.4002368], [1666482389.5917401, 1666482392.1137385]]\n",
      "\n",
      " turnaround_times 2 [[1666481670.4002368], [1666482389.5917401, 1666482392.1137385]]\n"
     ]
    },
    {
     "name": "stderr",
     "output_type": "stream",
     "text": [
      "[14:59:46][WARNING] Spyglass: Deprecation: this class has been moved out of spyglass.common.common_position\n",
      "\tIntervalLinearizedPosition -> spyglass.linearization.v0.main.IntervalLinearizedPosition\n",
      "Please use the new location.\n"
     ]
    },
    {
     "name": "stdout",
     "output_type": "stream",
     "text": [
      "currently investigating:\n",
      "02_Seq2Session1\n",
      "pos 1 valid times\n",
      "\n",
      " turnaround_times 1 [[1666552598.6616194]]\n",
      "\n",
      " turnaround_times 2 [[1666552598.6616194]]\n"
     ]
    },
    {
     "name": "stderr",
     "output_type": "stream",
     "text": [
      "[14:59:48][WARNING] Spyglass: Deprecation: this class has been moved out of spyglass.common.common_position\n",
      "\tIntervalLinearizedPosition -> spyglass.linearization.v0.main.IntervalLinearizedPosition\n",
      "Please use the new location.\n"
     ]
    },
    {
     "name": "stdout",
     "output_type": "stream",
     "text": [
      "currently investigating:\n",
      "04_Seq2Session2\n",
      "pos 3 valid times\n",
      "\n",
      " turnaround_times 1 [[1666556693.850665], [1666557608.0777695]]\n",
      "\n",
      " turnaround_times 2 [[1666556693.850665], [1666557608.0777695]]\n"
     ]
    },
    {
     "name": "stderr",
     "output_type": "stream",
     "text": [
      "[14:59:50][WARNING] Spyglass: Deprecation: this class has been moved out of spyglass.common.common_position\n",
      "\tIntervalLinearizedPosition -> spyglass.linearization.v0.main.IntervalLinearizedPosition\n",
      "Please use the new location.\n"
     ]
    },
    {
     "name": "stdout",
     "output_type": "stream",
     "text": [
      "currently investigating:\n",
      "06_Seq2Session3\n",
      "pos 5 valid times\n",
      "\n",
      " turnaround_times 1 [[1666560806.558701], [1666561904.9721582]]\n",
      "\n",
      " turnaround_times 2 [[1666560806.558701], [1666561904.9721582]]\n"
     ]
    },
    {
     "name": "stderr",
     "output_type": "stream",
     "text": [
      "[14:59:52][WARNING] Spyglass: Deprecation: this class has been moved out of spyglass.common.common_position\n",
      "\tIntervalLinearizedPosition -> spyglass.linearization.v0.main.IntervalLinearizedPosition\n",
      "Please use the new location.\n"
     ]
    },
    {
     "name": "stdout",
     "output_type": "stream",
     "text": [
      "currently investigating:\n",
      "08_Seq2Session4\n",
      "pos 7 valid times\n",
      "\n",
      " turnaround_times 1 [[1666565399.5404818]]\n",
      "\n",
      " turnaround_times 2 [[1666565399.5404818]]\n"
     ]
    },
    {
     "name": "stderr",
     "output_type": "stream",
     "text": [
      "[14:59:53][WARNING] Spyglass: Deprecation: this class has been moved out of spyglass.common.common_position\n",
      "\tIntervalLinearizedPosition -> spyglass.linearization.v0.main.IntervalLinearizedPosition\n",
      "Please use the new location.\n"
     ]
    },
    {
     "name": "stdout",
     "output_type": "stream",
     "text": [
      "currently investigating:\n",
      "02_Seq2Session1\n",
      "pos 1 valid times\n"
     ]
    },
    {
     "name": "stderr",
     "output_type": "stream",
     "text": [
      "[14:59:54][WARNING] Spyglass: Deprecation: this class has been moved out of spyglass.common.common_position\n",
      "\tIntervalLinearizedPosition -> spyglass.linearization.v0.main.IntervalLinearizedPosition\n",
      "Please use the new location.\n"
     ]
    },
    {
     "name": "stdout",
     "output_type": "stream",
     "text": [
      "\n",
      " turnaround_times 1 [[1666552598.6616194]]\n",
      "\n",
      " turnaround_times 2 [[1666552598.6616194]]\n",
      "currently investigating:\n",
      "04_Seq2Session2\n",
      "pos 3 valid times\n",
      "\n",
      " turnaround_times 1 [[1666556693.850665], [1666557608.0777695]]\n",
      "\n",
      " turnaround_times 2 [[1666556693.850665], [1666557608.0777695]]\n"
     ]
    },
    {
     "name": "stderr",
     "output_type": "stream",
     "text": [
      "[14:59:55][WARNING] Spyglass: Deprecation: this class has been moved out of spyglass.common.common_position\n",
      "\tIntervalLinearizedPosition -> spyglass.linearization.v0.main.IntervalLinearizedPosition\n",
      "Please use the new location.\n"
     ]
    },
    {
     "name": "stdout",
     "output_type": "stream",
     "text": [
      "currently investigating:\n",
      "06_Seq2Session3\n",
      "pos 5 valid times\n",
      "\n",
      " turnaround_times 1 [[1666560806.558701], [1666561904.9721582]]\n",
      "\n",
      " turnaround_times 2 [[1666560806.558701], [1666561904.9721582]]\n"
     ]
    },
    {
     "name": "stderr",
     "output_type": "stream",
     "text": [
      "[14:59:55][WARNING] Spyglass: Deprecation: this class has been moved out of spyglass.common.common_position\n",
      "\tIntervalLinearizedPosition -> spyglass.linearization.v0.main.IntervalLinearizedPosition\n",
      "Please use the new location.\n"
     ]
    },
    {
     "name": "stdout",
     "output_type": "stream",
     "text": [
      "currently investigating:\n",
      "08_Seq2Session4\n",
      "pos 7 valid times\n",
      "\n",
      " turnaround_times 1 [[1666565399.5404818]]\n",
      "\n",
      " turnaround_times 2 [[1666565399.5404818]]\n"
     ]
    },
    {
     "name": "stderr",
     "output_type": "stream",
     "text": [
      "[15:00:27][WARNING] Spyglass: Deprecation: this class has been moved out of spyglass.common.common_position\n",
      "\tIntervalLinearizedPosition -> spyglass.linearization.v0.main.IntervalLinearizedPosition\n",
      "Please use the new location.\n"
     ]
    },
    {
     "name": "stdout",
     "output_type": "stream",
     "text": [
      "currently investigating:\n",
      "02_Seq2Session2\n",
      "pos 1 valid times\n",
      "\n",
      " turnaround_times 1 [[1666635843.700078]]\n",
      "\n",
      " turnaround_times 2 [[1666635843.700078]]\n"
     ]
    },
    {
     "name": "stderr",
     "output_type": "stream",
     "text": [
      "[15:00:28][WARNING] Spyglass: Deprecation: this class has been moved out of spyglass.common.common_position\n",
      "\tIntervalLinearizedPosition -> spyglass.linearization.v0.main.IntervalLinearizedPosition\n",
      "Please use the new location.\n"
     ]
    },
    {
     "name": "stdout",
     "output_type": "stream",
     "text": [
      "currently investigating:\n",
      "04_Seq2Session3\n",
      "pos 3 valid times\n",
      "\n",
      " turnaround_times 1 []\n",
      "\n",
      " turnaround_times 2 []\n"
     ]
    },
    {
     "name": "stderr",
     "output_type": "stream",
     "text": [
      "[15:00:30][WARNING] Spyglass: Deprecation: this class has been moved out of spyglass.common.common_position\n",
      "\tIntervalLinearizedPosition -> spyglass.linearization.v0.main.IntervalLinearizedPosition\n",
      "Please use the new location.\n"
     ]
    },
    {
     "name": "stdout",
     "output_type": "stream",
     "text": [
      "currently investigating:\n",
      "06_Seq2Session4\n",
      "pos 5 valid times\n",
      "\n",
      " turnaround_times 1 [[1666644334.537052], [1666644477.981026, 1666644482.2110252], [1666645712.0708022]]\n",
      "\n",
      " turnaround_times 2 [[1666644334.537052], [1666644477.981026, 1666644482.2110252], [1666645712.0708022]]\n"
     ]
    },
    {
     "name": "stderr",
     "output_type": "stream",
     "text": [
      "[15:00:33][WARNING] Spyglass: Deprecation: this class has been moved out of spyglass.common.common_position\n",
      "\tIntervalLinearizedPosition -> spyglass.linearization.v0.main.IntervalLinearizedPosition\n",
      "Please use the new location.\n"
     ]
    },
    {
     "name": "stdout",
     "output_type": "stream",
     "text": [
      "currently investigating:\n",
      "08_Seq2Session5\n",
      "pos 7 valid times\n",
      "\n",
      " turnaround_times 1 [[1666649202.1280286, 1666649206.0580282]]\n",
      "\n",
      " turnaround_times 2 [[1666649202.1280286, 1666649206.0580282]]\n"
     ]
    },
    {
     "name": "stderr",
     "output_type": "stream",
     "text": [
      "[15:00:34][WARNING] Spyglass: Deprecation: this class has been moved out of spyglass.common.common_position\n",
      "\tIntervalLinearizedPosition -> spyglass.linearization.v0.main.IntervalLinearizedPosition\n",
      "Please use the new location.\n"
     ]
    },
    {
     "name": "stdout",
     "output_type": "stream",
     "text": [
      "currently investigating:\n",
      "10_Seq2Session6\n",
      "pos 9 valid times\n",
      "\n",
      " turnaround_times 1 [[1666651747.9433632], [1666652314.5550191], [1666652447.4109383, 1666652452.5789351], [1666652539.0548828], [1666652582.3568563]]\n",
      "\n",
      " turnaround_times 2 [[1666651747.9433632], [1666652314.5550191], [1666652447.4109383, 1666652452.5789351], [1666652539.0548828], [1666652582.3568563]]\n"
     ]
    },
    {
     "name": "stderr",
     "output_type": "stream",
     "text": [
      "[15:00:37][WARNING] Spyglass: Deprecation: this class has been moved out of spyglass.common.common_position\n",
      "\tIntervalLinearizedPosition -> spyglass.linearization.v0.main.IntervalLinearizedPosition\n",
      "Please use the new location.\n"
     ]
    },
    {
     "name": "stdout",
     "output_type": "stream",
     "text": [
      "currently investigating:\n",
      "02_Seq2Session2\n",
      "pos 1 valid times\n"
     ]
    },
    {
     "name": "stderr",
     "output_type": "stream",
     "text": [
      "[15:00:38][WARNING] Spyglass: Deprecation: this class has been moved out of spyglass.common.common_position\n",
      "\tIntervalLinearizedPosition -> spyglass.linearization.v0.main.IntervalLinearizedPosition\n",
      "Please use the new location.\n"
     ]
    },
    {
     "name": "stdout",
     "output_type": "stream",
     "text": [
      "\n",
      " turnaround_times 1 [[1666635843.700078]]\n",
      "\n",
      " turnaround_times 2 [[1666635843.700078]]\n",
      "currently investigating:\n",
      "04_Seq2Session3\n",
      "pos 3 valid times\n"
     ]
    },
    {
     "name": "stderr",
     "output_type": "stream",
     "text": [
      "[15:00:38][WARNING] Spyglass: Deprecation: this class has been moved out of spyglass.common.common_position\n",
      "\tIntervalLinearizedPosition -> spyglass.linearization.v0.main.IntervalLinearizedPosition\n",
      "Please use the new location.\n"
     ]
    },
    {
     "name": "stdout",
     "output_type": "stream",
     "text": [
      "\n",
      " turnaround_times 1 []\n",
      "\n",
      " turnaround_times 2 []\n",
      "currently investigating:\n",
      "06_Seq2Session4\n",
      "pos 5 valid times\n",
      "\n",
      " turnaround_times 1 [[1666644334.537052], [1666644477.981026, 1666644482.2110252], [1666645712.0708022]]\n",
      "\n",
      " turnaround_times 2 [[1666644334.537052], [1666644477.981026, 1666644482.2110252], [1666645712.0708022]]\n"
     ]
    },
    {
     "name": "stderr",
     "output_type": "stream",
     "text": [
      "[15:00:39][WARNING] Spyglass: Deprecation: this class has been moved out of spyglass.common.common_position\n",
      "\tIntervalLinearizedPosition -> spyglass.linearization.v0.main.IntervalLinearizedPosition\n",
      "Please use the new location.\n"
     ]
    },
    {
     "name": "stdout",
     "output_type": "stream",
     "text": [
      "currently investigating:\n",
      "08_Seq2Session5\n",
      "pos 7 valid times\n",
      "\n",
      " turnaround_times 1 [[1666649202.1280286, 1666649206.0580282]]\n",
      "\n",
      " turnaround_times 2 [[1666649202.1280286, 1666649206.0580282]]\n"
     ]
    },
    {
     "name": "stderr",
     "output_type": "stream",
     "text": [
      "[15:00:39][WARNING] Spyglass: Deprecation: this class has been moved out of spyglass.common.common_position\n",
      "\tIntervalLinearizedPosition -> spyglass.linearization.v0.main.IntervalLinearizedPosition\n",
      "Please use the new location.\n"
     ]
    },
    {
     "name": "stdout",
     "output_type": "stream",
     "text": [
      "currently investigating:\n",
      "10_Seq2Session6\n",
      "pos 9 valid times\n",
      "\n",
      " turnaround_times 1 [[1666651747.9433632], [1666652314.5550191], [1666652447.4109383, 1666652452.5789351], [1666652539.0548828], [1666652582.3568563]]\n",
      "\n",
      " turnaround_times 2 [[1666651747.9433632], [1666652314.5550191], [1666652447.4109383, 1666652452.5789351], [1666652539.0548828], [1666652582.3568563]]\n"
     ]
    },
    {
     "name": "stderr",
     "output_type": "stream",
     "text": [
      "[15:01:02][WARNING] Spyglass: Deprecation: this class has been moved out of spyglass.common.common_position\n",
      "\tIntervalLinearizedPosition -> spyglass.linearization.v0.main.IntervalLinearizedPosition\n",
      "Please use the new location.\n"
     ]
    },
    {
     "name": "stdout",
     "output_type": "stream",
     "text": [
      "currently investigating:\n",
      "02_Seq2Session1\n",
      "pos 1 valid times\n",
      "\n",
      " turnaround_times 1 [[1666725192.3556085], [1666725501.1955423], [1666726131.1834078], [1666726298.0713723, 1666726301.0193715], [1666726408.4233487], [1666726477.261334]]\n",
      "\n",
      " turnaround_times 2 [[1666725192.3556085], [1666725501.1955423], [1666726131.1834078], [1666726298.0713723, 1666726301.0193715], [1666726408.4233487], [1666726477.261334]]\n"
     ]
    },
    {
     "name": "stderr",
     "output_type": "stream",
     "text": [
      "[15:01:06][WARNING] Spyglass: Deprecation: this class has been moved out of spyglass.common.common_position\n",
      "\tIntervalLinearizedPosition -> spyglass.linearization.v0.main.IntervalLinearizedPosition\n",
      "Please use the new location.\n"
     ]
    },
    {
     "name": "stdout",
     "output_type": "stream",
     "text": [
      "currently investigating:\n",
      "04_Seq2Session2\n",
      "pos 3 valid times\n"
     ]
    },
    {
     "name": "stderr",
     "output_type": "stream",
     "text": [
      "[15:01:08][WARNING] Spyglass: Deprecation: this class has been moved out of spyglass.common.common_position\n",
      "\tIntervalLinearizedPosition -> spyglass.linearization.v0.main.IntervalLinearizedPosition\n",
      "Please use the new location.\n"
     ]
    },
    {
     "name": "stdout",
     "output_type": "stream",
     "text": [
      "\n",
      " turnaround_times 1 []\n",
      "\n",
      " turnaround_times 2 []\n",
      "currently investigating:\n",
      "06_Seq2Session3\n",
      "pos 5 valid times\n",
      "\n",
      " turnaround_times 1 []\n",
      "\n",
      " turnaround_times 2 []\n"
     ]
    },
    {
     "name": "stderr",
     "output_type": "stream",
     "text": [
      "[15:01:10][WARNING] Spyglass: Deprecation: this class has been moved out of spyglass.common.common_position\n",
      "\tIntervalLinearizedPosition -> spyglass.linearization.v0.main.IntervalLinearizedPosition\n",
      "Please use the new location.\n"
     ]
    },
    {
     "name": "stdout",
     "output_type": "stream",
     "text": [
      "currently investigating:\n",
      "08_Seq2Session4\n",
      "pos 7 valid times\n",
      "\n",
      " turnaround_times 1 []\n",
      "\n",
      " turnaround_times 2 []\n"
     ]
    },
    {
     "name": "stderr",
     "output_type": "stream",
     "text": [
      "[15:01:12][WARNING] Spyglass: Deprecation: this class has been moved out of spyglass.common.common_position\n",
      "\tIntervalLinearizedPosition -> spyglass.linearization.v0.main.IntervalLinearizedPosition\n",
      "Please use the new location.\n"
     ]
    },
    {
     "name": "stdout",
     "output_type": "stream",
     "text": [
      "currently investigating:\n",
      "02_Seq2Session1\n",
      "pos 1 valid times\n",
      "\n",
      " turnaround_times 1 [[1666725192.3556085], [1666725501.1955423], [1666726131.1834078], [1666726298.0713723, 1666726301.0193715], [1666726408.4233487], [1666726477.261334]]\n",
      "\n",
      " turnaround_times 2 [[1666725192.3556085], [1666725501.1955423], [1666726131.1834078], [1666726298.0713723, 1666726301.0193715], [1666726408.4233487], [1666726477.261334]]\n"
     ]
    },
    {
     "name": "stderr",
     "output_type": "stream",
     "text": [
      "[15:01:13][WARNING] Spyglass: Deprecation: this class has been moved out of spyglass.common.common_position\n",
      "\tIntervalLinearizedPosition -> spyglass.linearization.v0.main.IntervalLinearizedPosition\n",
      "Please use the new location.\n"
     ]
    },
    {
     "name": "stdout",
     "output_type": "stream",
     "text": [
      "currently investigating:\n",
      "04_Seq2Session2\n",
      "pos 3 valid times\n"
     ]
    },
    {
     "name": "stderr",
     "output_type": "stream",
     "text": [
      "[15:01:13][WARNING] Spyglass: Deprecation: this class has been moved out of spyglass.common.common_position\n",
      "\tIntervalLinearizedPosition -> spyglass.linearization.v0.main.IntervalLinearizedPosition\n",
      "Please use the new location.\n",
      "[15:01:13][WARNING] Spyglass: Deprecation: this class has been moved out of spyglass.common.common_position\n",
      "\tIntervalLinearizedPosition -> spyglass.linearization.v0.main.IntervalLinearizedPosition\n",
      "Please use the new location.\n"
     ]
    },
    {
     "name": "stdout",
     "output_type": "stream",
     "text": [
      "\n",
      " turnaround_times 1 []\n",
      "\n",
      " turnaround_times 2 []\n",
      "currently investigating:\n",
      "06_Seq2Session3\n",
      "pos 5 valid times\n",
      "\n",
      " turnaround_times 1 []\n",
      "\n",
      " turnaround_times 2 []\n",
      "currently investigating:\n",
      "08_Seq2Session4\n",
      "pos 7 valid times\n",
      "\n",
      " turnaround_times 1 []\n",
      "\n",
      " turnaround_times 2 []\n"
     ]
    },
    {
     "name": "stderr",
     "output_type": "stream",
     "text": [
      "[15:01:32][WARNING] Spyglass: Deprecation: this class has been moved out of spyglass.common.common_position\n",
      "\tIntervalLinearizedPosition -> spyglass.linearization.v0.main.IntervalLinearizedPosition\n",
      "Please use the new location.\n"
     ]
    },
    {
     "name": "stdout",
     "output_type": "stream",
     "text": [
      "currently investigating:\n",
      "02_Seq2Session1\n",
      "pos 1 valid times\n",
      "\n",
      " turnaround_times 1 []\n",
      "\n",
      " turnaround_times 2 []\n"
     ]
    },
    {
     "name": "stderr",
     "output_type": "stream",
     "text": [
      "[15:01:34][WARNING] Spyglass: Deprecation: this class has been moved out of spyglass.common.common_position\n",
      "\tIntervalLinearizedPosition -> spyglass.linearization.v0.main.IntervalLinearizedPosition\n",
      "Please use the new location.\n"
     ]
    },
    {
     "name": "stdout",
     "output_type": "stream",
     "text": [
      "currently investigating:\n",
      "04_Seq2Session2\n",
      "pos 3 valid times\n",
      "\n",
      " turnaround_times 1 [[1666811843.3281355, 1666811845.4201334]]\n",
      "\n",
      " turnaround_times 2 [[1666811843.3281355, 1666811845.4201334]]\n"
     ]
    },
    {
     "name": "stderr",
     "output_type": "stream",
     "text": [
      "[15:01:36][WARNING] Spyglass: Deprecation: this class has been moved out of spyglass.common.common_position\n",
      "\tIntervalLinearizedPosition -> spyglass.linearization.v0.main.IntervalLinearizedPosition\n",
      "Please use the new location.\n"
     ]
    },
    {
     "name": "stdout",
     "output_type": "stream",
     "text": [
      "currently investigating:\n",
      "06_Seq2Session3\n",
      "pos 5 valid times\n",
      "\n",
      " turnaround_times 1 []\n",
      "\n",
      " turnaround_times 2 []\n"
     ]
    },
    {
     "name": "stderr",
     "output_type": "stream",
     "text": [
      "[15:01:39][WARNING] Spyglass: Deprecation: this class has been moved out of spyglass.common.common_position\n",
      "\tIntervalLinearizedPosition -> spyglass.linearization.v0.main.IntervalLinearizedPosition\n",
      "Please use the new location.\n"
     ]
    },
    {
     "name": "stdout",
     "output_type": "stream",
     "text": [
      "currently investigating:\n",
      "08_Seq2Session4\n",
      "pos 7 valid times\n",
      "\n",
      " turnaround_times 1 [[1666820766.7281475]]\n",
      "\n",
      " turnaround_times 2 [[1666820766.7281475]]\n"
     ]
    },
    {
     "name": "stderr",
     "output_type": "stream",
     "text": [
      "[15:01:41][WARNING] Spyglass: Deprecation: this class has been moved out of spyglass.common.common_position\n",
      "\tIntervalLinearizedPosition -> spyglass.linearization.v0.main.IntervalLinearizedPosition\n",
      "Please use the new location.\n"
     ]
    },
    {
     "name": "stdout",
     "output_type": "stream",
     "text": [
      "currently investigating:\n",
      "10_Seq2Session5\n",
      "pos 9 valid times\n",
      "\n",
      " turnaround_times 1 [[1666824347.8123329]]\n",
      "\n",
      " turnaround_times 2 [[1666824347.8123329]]\n"
     ]
    },
    {
     "name": "stderr",
     "output_type": "stream",
     "text": [
      "[15:01:43][WARNING] Spyglass: Deprecation: this class has been moved out of spyglass.common.common_position\n",
      "\tIntervalLinearizedPosition -> spyglass.linearization.v0.main.IntervalLinearizedPosition\n",
      "Please use the new location.\n"
     ]
    },
    {
     "name": "stdout",
     "output_type": "stream",
     "text": [
      "currently investigating:\n",
      "12_Seq2Session6\n",
      "pos 11 valid times\n",
      "\n",
      " turnaround_times 1 []\n",
      "\n",
      " turnaround_times 2 []\n"
     ]
    },
    {
     "name": "stderr",
     "output_type": "stream",
     "text": [
      "[15:01:45][WARNING] Spyglass: Deprecation: this class has been moved out of spyglass.common.common_position\n",
      "\tIntervalLinearizedPosition -> spyglass.linearization.v0.main.IntervalLinearizedPosition\n",
      "Please use the new location.\n"
     ]
    },
    {
     "name": "stdout",
     "output_type": "stream",
     "text": [
      "currently investigating:\n",
      "02_Seq2Session1\n",
      "pos 1 valid times\n"
     ]
    },
    {
     "name": "stderr",
     "output_type": "stream",
     "text": [
      "[15:01:46][WARNING] Spyglass: Deprecation: this class has been moved out of spyglass.common.common_position\n",
      "\tIntervalLinearizedPosition -> spyglass.linearization.v0.main.IntervalLinearizedPosition\n",
      "Please use the new location.\n"
     ]
    },
    {
     "name": "stdout",
     "output_type": "stream",
     "text": [
      "\n",
      " turnaround_times 1 []\n",
      "\n",
      " turnaround_times 2 []\n",
      "currently investigating:\n",
      "04_Seq2Session2\n",
      "pos 3 valid times\n"
     ]
    },
    {
     "name": "stderr",
     "output_type": "stream",
     "text": [
      "[15:01:47][WARNING] Spyglass: Deprecation: this class has been moved out of spyglass.common.common_position\n",
      "\tIntervalLinearizedPosition -> spyglass.linearization.v0.main.IntervalLinearizedPosition\n",
      "Please use the new location.\n"
     ]
    },
    {
     "name": "stdout",
     "output_type": "stream",
     "text": [
      "\n",
      " turnaround_times 1 [[1666811843.3281355, 1666811845.4201334]]\n",
      "\n",
      " turnaround_times 2 [[1666811843.3281355, 1666811845.4201334]]\n",
      "currently investigating:\n",
      "06_Seq2Session3\n",
      "pos 5 valid times\n"
     ]
    },
    {
     "name": "stderr",
     "output_type": "stream",
     "text": [
      "[15:01:47][WARNING] Spyglass: Deprecation: this class has been moved out of spyglass.common.common_position\n",
      "\tIntervalLinearizedPosition -> spyglass.linearization.v0.main.IntervalLinearizedPosition\n",
      "Please use the new location.\n"
     ]
    },
    {
     "name": "stdout",
     "output_type": "stream",
     "text": [
      "\n",
      " turnaround_times 1 []\n",
      "\n",
      " turnaround_times 2 []\n",
      "currently investigating:\n",
      "08_Seq2Session4\n",
      "pos 7 valid times\n"
     ]
    },
    {
     "name": "stderr",
     "output_type": "stream",
     "text": [
      "[15:01:48][WARNING] Spyglass: Deprecation: this class has been moved out of spyglass.common.common_position\n",
      "\tIntervalLinearizedPosition -> spyglass.linearization.v0.main.IntervalLinearizedPosition\n",
      "Please use the new location.\n"
     ]
    },
    {
     "name": "stdout",
     "output_type": "stream",
     "text": [
      "\n",
      " turnaround_times 1 [[1666820766.7281475]]\n",
      "\n",
      " turnaround_times 2 [[1666820766.7281475]]\n",
      "currently investigating:\n",
      "10_Seq2Session5\n",
      "pos 9 valid times\n"
     ]
    },
    {
     "name": "stderr",
     "output_type": "stream",
     "text": [
      "[15:01:48][WARNING] Spyglass: Deprecation: this class has been moved out of spyglass.common.common_position\n",
      "\tIntervalLinearizedPosition -> spyglass.linearization.v0.main.IntervalLinearizedPosition\n",
      "Please use the new location.\n"
     ]
    },
    {
     "name": "stdout",
     "output_type": "stream",
     "text": [
      "\n",
      " turnaround_times 1 [[1666824347.8123329]]\n",
      "\n",
      " turnaround_times 2 [[1666824347.8123329]]\n",
      "currently investigating:\n",
      "12_Seq2Session6\n",
      "pos 11 valid times\n",
      "\n",
      " turnaround_times 1 []\n",
      "\n",
      " turnaround_times 2 []\n"
     ]
    }
   ],
   "source": [
    "replay_trials = {}\n",
    "replay_trials_non = {}\n",
    "\n",
    "replay_trials[animal] = {}\n",
    "replay_trials_non[animal] = {}\n",
    "\n",
    "proportion = 0.2\n",
    "\n",
    "for d in dates_to_plot:\n",
    "    (triggered_positions, triggered_positions_abs) = ({}, {})\n",
    "    (triggered_decodes, triggered_decodes_baseoff, triggered_decodes_abs) = ({}, {}, {})\n",
    "    triggered_trial_info = {}\n",
    "\n",
    "    (triggered_positions[animal], triggered_positions_abs[animal],\n",
    "     triggered_decodes[animal], triggered_decodes_baseoff[animal], triggered_decodes_abs[animal],\n",
    "     triggered_trial_info[animal]) = find_triggered_animal(animal,[d], proportion = proportion,\n",
    "                                                           delta_t_minus = 0,delta_t_plus = 2,\n",
    "                                                           max_flag = 0, segment_only = True)\n",
    "\n",
    "    (triggered_positions_nb, triggered_positions_abs_nb) = ({}, {})\n",
    "    (triggered_decodes_nb, triggered_decodes_baseoff_nb, triggered_decodes_abs_nb) = ({}, {}, {})\n",
    "    \n",
    "    (triggered_positions_nb[animal], triggered_positions_abs_nb[animal],\n",
    "     triggered_decodes_nb[animal], triggered_decodes_baseoff_nb[animal], triggered_decodes_abs_nb[animal],\n",
    "     _) = find_triggered_animal(animal,[d], proportion = proportion,\n",
    "                                nearby = 1, \n",
    "                                delta_t_minus = 2,delta_t_plus = 0.5,\n",
    "                                max_flag = 0, segment_only = True)\n",
    "\n",
    "\n",
    "    \n",
    "    replay_trials[animal][d], inds, _, replay_trials_non[animal][d], inds_non, _  = find_large_position_minus_decode_trials(\n",
    "        # with theta                # without theta\n",
    "            animal, triggered_trial_info, \n",
    "            triggered_positions_abs, triggered_decodes_baseoff, triggered_positions_abs_nb, triggered_decodes_baseoff_nb)\n",
    "    \n"
   ]
  },
  {
   "cell_type": "markdown",
   "id": "cb5b9f3f-451a-4d30-85ff-e84dab7eb6fe",
   "metadata": {},
   "source": [
    "### 1. GLM"
   ]
  },
  {
   "cell_type": "code",
   "execution_count": 254,
   "id": "604f701a-bb93-4594-b790-1aedcbdf4681",
   "metadata": {
    "scrolled": true
   },
   "outputs": [
    {
     "name": "stdout",
     "output_type": "stream",
     "text": [
      "lewis20240107_.nwb 02_Rev2Session1\n",
      "trials_long_theta [[36, (3, 1)], [46, (4, 1)], [47, (2, 4)], [47, (2, 4)], [50, (2, 1)]]\n",
      "trials_short_theta [[30, (2, 3)], [47, (2, 3)], [47, (2, 2)], [50, (2, 3)], [65, (2, 3)], [67, (4, 1)]]\n",
      "transitions [[4 1]]\n",
      "lewis20240107_.nwb 04_Rev2Session2\n",
      "trials_long_theta [[27, (4, 2)]]\n",
      "trials_short_theta [[13, (3, 2)], [16, (3, 1)], [20, (1, 4)], [20, (1, 3)], [24, (3, 1)], [42, (4, 1)], [42, (4, 1)]]\n",
      "transitions []\n",
      "lewis20240107_.nwb 06_Rev2Session3\n",
      "trials_long_theta [[23, (1, 2)], [57, (4, 1)]]\n",
      "trials_short_theta [[11, (2, 1)], [11, (2, 1)], [37, (4, 3)], [38, (2, 1)], [38, (2, 1)], [42, (2, 3)], [42, (2, 1)], [47, (4, 1)], [61, (1, 3)], [61, (1, 2)]]\n",
      "transitions [[1 2]\n",
      " [4 1]]\n",
      "lewis20240107_.nwb 08_Rev2Session4\n",
      "trials_long_theta [[10, (2, 3)], [27, (4, 1)], [27, (4, 1)], [33, (3, 1)], [41, (3, 4)], [49, (4, 1)], [50, (3, 4)]]\n",
      "trials_short_theta [[10, (2, 3)], [10, (2, 3)], [10, (2, 3)], [17, (2, 1)], [27, (4, 1)], [41, (3, 4)], [41, (3, 4)]]\n",
      "transitions [[2 3]\n",
      " [3 4]\n",
      " [4 1]]\n",
      "lewis20240107_.nwb 10_Rev2Session5\n",
      "trials_long_theta [[10, (4, 1)], [38, (4, 1)]]\n",
      "trials_short_theta [[7, (3, 2)], [7, (3, 2)], [22, (3, 2)]]\n",
      "transitions []\n",
      "lewis20240108_.nwb 02_Rev2Session1\n",
      "trials_long_theta [[44, (3, 4)], [48, (4, 1)], [52, (1, 4)], [60, (4, 2)], [60, (4, 1)], [65, (3, 2)], [67, (4, 3)], [67, (4, 1)]]\n",
      "trials_short_theta [[5, (4, 1)], [48, (4, 2)], [73, (4, 1)]]\n",
      "transitions [[4 1]\n",
      " [4 2]]\n",
      "lewis20240108_.nwb 04_Rev2Session2\n",
      "trials_long_theta [[10, (1, 3)], [15, (3, 2)], [18, (3, 1)], [21, (3, 4)], [21, (3, 4)], [32, (1, 3)], [51, (1, 3)], [53, (4, 1)], [54, (3, 4)], [58, (3, 1)], [61, (3, 4)], [61, (3, 2)], [69, (1, 4)]]\n",
      "trials_short_theta [[16, (1, 4)], [16, (1, 4)], [16, (1, 3)], [18, (3, 2)], [40, (1, 3)], [42, (2, 4)], [42, (2, 2)], [62, (1, 3)]]\n",
      "transitions [[1 3]\n",
      " [1 4]\n",
      " [3 2]]\n",
      "lewis20240108_.nwb 06_Rev2Session3\n",
      "trials_long_theta [[23, (2, 4)], [24, (1, 3)], [39, (2, 4)], [43, (2, 1)], [46, (1, 2)]]\n",
      "trials_short_theta [[14, (3, 1)], [14, (3, 2)], [26, (2, 1)], [39, (2, 2)], [39, (2, 2)]]\n",
      "transitions [[2 1]]\n",
      "lewis20240108_.nwb 08_Rev2Session4\n",
      "trials_long_theta [[31, (4, 3)], [31, (4, 3)], [31, (4, 3)], [32, (2, 1)], [32, (2, 1)], [32, (2, 2)], [35, (3, 4)], [44, (4, 1)], [44, (4, 1)], [51, (3, 4)]]\n",
      "trials_short_theta [[8, (4, 1)], [19, (4, 1)], [23, (4, 1)], [28, (3, 4)], [31, (4, 4)], [32, (2, 4)], [53, (1, 1)], [53, (1, 1)]]\n",
      "transitions [[3 4]\n",
      " [4 1]]\n",
      "lewis20240109_.nwb 02_Rev2Session1\n",
      "trials_long_theta [[18, (4, 1)], [55, (3, 2)], [63, (3, 2)], [64, (1, 4)], [81, (4, 1)]]\n",
      "trials_short_theta [[18, (4, 1)], [18, (4, 1)], [46, (4, 1)], [55, (3, 1)], [55, (3, 4)], [65, (2, 3)], [68, (3, 2)], [68, (3, 1)], [75, (1, 3)]]\n",
      "transitions [[3 2]\n",
      " [4 1]]\n",
      "lewis20240109_.nwb 04_Rev2Session2\n",
      "trials_long_theta [[11, (1, 3)], [13, (4, 1)], [39, (1, 2)], [44, (3, 1)], [45, (4, 2)], [53, (2, 4)], [53, (2, 2)], [63, (3, 2)]]\n",
      "trials_short_theta [[13, (4, 2)], [39, (1, 3)], [41, (1, 3)], [41, (1, 3)], [43, (2, 3)], [43, (2, 1)], [63, (3, 1)], [63, (3, 2)], [66, (2, 4)], [76, (2, 4)], [76, (2, 4)]]\n",
      "transitions [[1 3]\n",
      " [2 4]\n",
      " [3 1]\n",
      " [3 2]\n",
      " [4 2]]\n",
      "lewis20240109_.nwb 06_Rev2Session3\n",
      "trials_long_theta [[9, (3, 4)], [14, (3, 2)], [23, (2, 1)], [24, (4, 2)], [28, (4, 1)]]\n",
      "trials_short_theta [[14, (3, 1)], [24, (4, 2)], [24, (4, 4)]]\n",
      "transitions [[4 2]]\n",
      "lewis20240109_.nwb 08_Rev2Session4\n",
      "trials_long_theta [[3, (3, 4)], [20, (4, 1)]]\n",
      "trials_short_theta [[3, (3, 4)], [3, (3, 4)], [16, (4, 1)], [16, (4, 1)]]\n",
      "transitions [[3 4]\n",
      " [4 1]]\n",
      "lewis20240110_.nwb 02_Rev2Session1\n",
      "trials_long_theta [[11, (3, 1)], [15, (3, 4)], [16, (2, 3)], [19, (4, 1)], [25, (2, 1)], [25, (2, 2)], [48, (1, 3)], [64, (1, 4)], [64, (1, 4)], [65, (2, 3)], [81, (4, 2)]]\n",
      "trials_short_theta [[25, (2, 3)], [29, (2, 4)], [29, (2, 3)], [65, (2, 1)], [66, (4, 2)], [81, (4, 1)]]\n",
      "transitions [[2 1]\n",
      " [2 3]\n",
      " [4 1]\n",
      " [4 2]]\n",
      "lewis20240110_.nwb 04_Rev2Session2\n",
      "trials_long_theta [[12, (3, 2)], [15, (4, 1)], [17, (4, 1)], [22, (3, 2)], [24, (4, 3)], [29, (1, 4)], [45, (2, 3)], [60, (4, 3)], [65, (1, 4)], [65, (1, 4)], [73, (1, 4)]]\n",
      "trials_short_theta [[12, (3, 4)], [12, (3, 1)], [12, (3, 3)], [24, (4, 2)], [26, (4, 1)], [26, (4, 2)], [45, (2, 3)], [45, (2, 3)], [45, (2, 3)]]\n",
      "transitions [[2 3]\n",
      " [4 1]]\n",
      "lewis20240110_.nwb 06_Rev2Session3\n",
      "trials_long_theta [[10, (1, 4)], [12, (4, 2)], [16, (4, 2)], [16, (4, 2)], [16, (4, 1)], [35, (1, 4)], [45, (2, 3)]]\n",
      "trials_short_theta [[11, (2, 3)], [16, (4, 3)], [20, (4, 3)], [24, (3, 4)], [51, (4, 3)]]\n",
      "transitions [[2 3]]\n",
      "lewis20240110_.nwb 08_Rev2Session4\n",
      "trials_long_theta []\n",
      "trials_short_theta [[15, (2, 3)]]\n",
      "transitions []\n",
      "lewis20240110_.nwb 10_Rev2Session5\n",
      "trials_long_theta [[18, (1, 4)]]\n",
      "trials_short_theta [[10, (4, 4)], [35, (4, 1)]]\n",
      "transitions []\n"
     ]
    }
   ],
   "source": [
    "paired = True\n",
    "type = 1\n",
    "\n",
    "diff_theta_transition_day = {}\n",
    "diff_nontheta_transition_day = {}\n",
    "\n",
    "for day in dates_to_plot:\n",
    "    nwb_file_name = animal.lower() + day + '.nwb'\n",
    "    nwb_copy_file_name = get_nwb_copy_filename(nwb_file_name)\n",
    "    session_interval, position_interval = runSessionNames(nwb_copy_file_name)\n",
    "\n",
    "    diff_theta_transition_session = []\n",
    "    diff_nontheta_transition_session = []\n",
    "    for ind in range(len(session_interval)):\n",
    "        session_name = session_interval[ind]\n",
    "        position_name = position_interval[ind]\n",
    "        diff_theta_transition_session_, diff_nontheta_transition_session_ = find_delta_t(\n",
    "            nwb_copy_file_name, session_name, proportion, replay_trials, replay_trials_non, paired, type = type, glm = True) #replay_trials)\n",
    "        \n",
    "        diff_theta_transition_session.append(diff_theta_transition_session_)\n",
    "        diff_nontheta_transition_session.append(diff_nontheta_transition_session_)\n",
    "\n",
    "    diff_theta_transition_day[day] = diff_theta_transition_session\n",
    "    diff_nontheta_transition_day[day] = diff_nontheta_transition_session"
   ]
  },
  {
   "cell_type": "code",
   "execution_count": null,
   "id": "ccc01444-9501-4df8-ab15-b512b4b627ff",
   "metadata": {},
   "outputs": [],
   "source": []
  },
  {
   "cell_type": "markdown",
   "id": "abf4a836-7ebf-4548-84b1-53d80316ed62",
   "metadata": {},
   "source": [
    "### Examples"
   ]
  },
  {
   "cell_type": "code",
   "execution_count": 8,
   "id": "77412808-6bbb-4578-9336-7d8a5283c60f",
   "metadata": {},
   "outputs": [
    {
     "name": "stderr",
     "output_type": "stream",
     "text": [
      "[15:04:27][WARNING] Spyglass: Deprecation: this class has been moved out of spyglass.common.common_position\n",
      "\tTrackGraph -> spyglass.linearization.v0.main.TrackGraph\n",
      "Please use the new location.\n",
      "[15:04:27][WARNING] Spyglass: Deprecation: this class has been moved out of spyglass.common.common_position\n",
      "\tTrackGraph -> spyglass.linearization.v0.main.TrackGraph\n",
      "Please use the new location.\n"
     ]
    }
   ],
   "source": [
    "from spyglass.shijiegu.changeOfMind_deltat import find_transition_interval, session_long_theta_trials, find_theta_transition"
   ]
  },
  {
   "cell_type": "code",
   "execution_count": 11,
   "id": "f5a6c4ff-8ae0-4712-b661-12c6f4c0a0f9",
   "metadata": {},
   "outputs": [],
   "source": [
    "nwb_copy_file_name = \"eliot20221021_.nwb\""
   ]
  },
  {
   "cell_type": "code",
   "execution_count": 13,
   "id": "442d9597-fe8d-4864-ae29-2214bd4df60d",
   "metadata": {},
   "outputs": [
    {
     "name": "stdout",
     "output_type": "stream",
     "text": [
      "eliot20221021_.nwb 04_Seq2Session2\n"
     ]
    }
   ],
   "source": [
    "animal = nwb_copy_file_name[:5]\n",
    "d = nwb_copy_file_name[5:13]\n",
    "session_name = \"04_Seq2Session2\"\n",
    "proportion = 0.05\n",
    "\n",
    "print(nwb_copy_file_name,session_name)\n",
    "\n",
    "# find all transitions in which long theta sequence happens\n",
    "    \n",
    "log_df = pd.read_pickle( (TrialChoiceChangeofMind() & {\"nwb_file_name\": nwb_copy_file_name,\n",
    "                                                        \"epoch\":int(session_name[:2]),\n",
    "                                                        \"proportion\":str(proportion)}).fetch1(\"change_of_mind_info\") )"
   ]
  },
  {
   "cell_type": "code",
   "execution_count": 14,
   "id": "f1af4616-e84e-4b3e-b384-c77d81e4d8f2",
   "metadata": {},
   "outputs": [],
   "source": [
    "trials_long_theta = session_long_theta_trials(replay_trials[animal][d],\n",
    "                                       nwb_copy_file_name,\n",
    "                                       session_name,log_df, type = 1)\n",
    "\n",
    "trials_short_theta = session_long_theta_trials(replay_trials_non[animal][d],\n",
    "                                       nwb_copy_file_name,\n",
    "                                       session_name,log_df, type = 1)"
   ]
  },
  {
   "cell_type": "code",
   "execution_count": 18,
   "id": "2963b88f-2dcf-4397-8bd6-b4d5fd252dfb",
   "metadata": {},
   "outputs": [
    {
     "data": {
      "text/plain": [
       "[('eliot20221021_.nwb', '02_Seq2Session1', 55, 1),\n",
       " ('eliot20221021_.nwb', '04_Seq2Session2', 29, 1),\n",
       " ('eliot20221021_.nwb', '04_Seq2Session2', 29, 1),\n",
       " ('eliot20221021_.nwb', '04_Seq2Session2', 38, 4),\n",
       " ('eliot20221021_.nwb', '04_Seq2Session2', 78, 2),\n",
       " ('eliot20221021_.nwb', '04_Seq2Session2', 78, 3),\n",
       " ('eliot20221021_.nwb', '06_Seq2Session3', 10, 3),\n",
       " ('eliot20221021_.nwb', '06_Seq2Session3', 11, 4),\n",
       " ('eliot20221021_.nwb', '08_Seq2Session4', 60, 1)]"
      ]
     },
     "execution_count": 18,
     "metadata": {},
     "output_type": "execute_result"
    }
   ],
   "source": [
    "replay_trials[animal][d]"
   ]
  },
  {
   "cell_type": "code",
   "execution_count": 15,
   "id": "a2be2a23-38f8-4beb-88f5-d7a99d219498",
   "metadata": {},
   "outputs": [
    {
     "data": {
      "text/plain": [
       "[[29, (3, 1)], [29, (3, 1)], [38, (1, 4)], [78, (4, 2)], [78, (4, 3)]]"
      ]
     },
     "execution_count": 15,
     "metadata": {},
     "output_type": "execute_result"
    }
   ],
   "source": [
    "trials_long_theta"
   ]
  },
  {
   "cell_type": "code",
   "execution_count": 52,
   "id": "adb3e1a2-fc94-49a9-a992-aab134533374",
   "metadata": {},
   "outputs": [],
   "source": [
    "target_transition = (4,2) # the transition to investigate"
   ]
  },
  {
   "cell_type": "code",
   "execution_count": 53,
   "id": "ee401cd9-9249-4136-aacb-93c439a7eb9d",
   "metadata": {},
   "outputs": [],
   "source": [
    "trials_to_plot = find_transition_interval(log_df,target_transition)\n",
    "trials_theta_transition = find_theta_transition(trials_long_theta,target_transition)\n",
    "trials_nontheta_transition = find_theta_transition(trials_short_theta,target_transition)"
   ]
  },
  {
   "cell_type": "code",
   "execution_count": 54,
   "id": "4d91b147-7d0c-4c7d-9bfd-dc27dc782880",
   "metadata": {
    "scrolled": true
   },
   "outputs": [
    {
     "data": {
      "image/png": "[encoded data removed]",
      "text/plain": [
       "<Figure size 640x480 with 1 Axes>"
      ]
     },
     "metadata": {},
     "output_type": "display_data"
    }
   ],
   "source": [
    "plt.scatter(trials_to_plot,np.ones_like(trials_to_plot))\n",
    "for trial_transition in trials_long_theta:\n",
    "    if trial_transition[1] == target_transition:\n",
    "        plt.scatter(trial_transition[0],1,marker = \"+\")\n",
    "\n",
    "for trial_transition in trials_short_theta:\n",
    "    if trial_transition[1] == target_transition:\n",
    "        plt.scatter(trial_transition[0],1,marker = \"|\")\n"
   ]
  },
  {
   "cell_type": "markdown",
   "id": "f6b48e48-f968-4ed1-af38-07ed8307d0f0",
   "metadata": {},
   "source": [
    "#### End of examples."
   ]
  },
  {
   "cell_type": "code",
   "execution_count": 232,
   "id": "260819ea-deb1-47fb-818b-66a8d161f09c",
   "metadata": {},
   "outputs": [],
   "source": [
    "def do_GLM_subprocess(GLM_entries1, constant = True):\n",
    "    model1 = {}\n",
    "    x = GLM_entries1[:,:-1]\n",
    "    if constant:\n",
    "        x_ = sm.add_constant(x)\n",
    "    else:\n",
    "        x_ = x\n",
    "    y = GLM_entries1[:,-1]\n",
    "    model1['x'] = x_\n",
    "    model1['y'] = y\n",
    "\n",
    "    #glm_poisson1 = sm.GLM(y,x_,family=sm.families.Poisson())\n",
    "    glm_poisson1 = sm.GLM(y, x_, family = sm.families.Gamma())\n",
    "\n",
    "    res1 = glm_poisson1.fit()\n",
    "    model1['fit'] = res1\n",
    "    model1['CI'] = res1.conf_int(alpha=0.05)\n",
    "    model1['model'] = glm_poisson1\n",
    "    \n",
    "    return model1"
   ]
  },
  {
   "cell_type": "code",
   "execution_count": 260,
   "id": "615cd48e-3f34-4d52-8636-598e5182943f",
   "metadata": {},
   "outputs": [],
   "source": [
    "# build multiple linear regression\n",
    "# each repeat: x = [has theta, has no theta, trial number] y = [# repeat interval]\n",
    "\n",
    "GLM_entries = []\n",
    "\n",
    "for d in diff_theta_transition_day.keys():\n",
    "    for session in diff_theta_transition_day[d]:\n",
    "        for transition in session.keys():\n",
    "            if len(session[transition]) == 0:\n",
    "                continue\n",
    "            for entry in session[transition]:\n",
    "                GLM_entries.append([1,entry[1],entry[0]])\n",
    "\n",
    "for d in diff_nontheta_transition_day.keys():\n",
    "    for session in diff_nontheta_transition_day[d]:\n",
    "        for transition in session.keys():\n",
    "            if len(session[transition]) == 0:\n",
    "                continue\n",
    "            for entry in session[transition]:\n",
    "                GLM_entries.append([0,entry[1],entry[0]])\n"
   ]
  },
  {
   "cell_type": "code",
   "execution_count": 261,
   "id": "7d66b157-ebdf-47c8-af6a-a82d6c877bba",
   "metadata": {
    "scrolled": true
   },
   "outputs": [],
   "source": [
    "GLM_entries = np.vstack(GLM_entries)"
   ]
  },
  {
   "cell_type": "code",
   "execution_count": 262,
   "id": "1437bed9-87a6-47a9-9b9a-64ff758903e4",
   "metadata": {},
   "outputs": [
    {
     "data": {
      "text/plain": [
       "55"
      ]
     },
     "execution_count": 262,
     "metadata": {},
     "output_type": "execute_result"
    }
   ],
   "source": [
    "len(GLM_entries)"
   ]
  },
  {
   "cell_type": "code",
   "execution_count": 263,
   "id": "2f65228d-737b-4d3a-b5a3-88cf445d18dc",
   "metadata": {
    "scrolled": true
   },
   "outputs": [],
   "source": [
    "model1 = do_GLM_subprocess(GLM_entries[:],constant= True)"
   ]
  },
  {
   "cell_type": "code",
   "execution_count": 264,
   "id": "8b3ddb2f-0bae-4b6c-88c6-07af2049d413",
   "metadata": {},
   "outputs": [
    {
     "data": {
      "text/html": [
       "<table class=\"simpletable\">\n",
       "<caption>Generalized Linear Model Regression Results</caption>\n",
       "<tr>\n",
       "  <th>Dep. Variable:</th>           <td>y</td>        <th>  No. Observations:  </th>  <td>    55</td> \n",
       "</tr>\n",
       "<tr>\n",
       "  <th>Model:</th>                  <td>GLM</td>       <th>  Df Residuals:      </th>  <td>    52</td> \n",
       "</tr>\n",
       "<tr>\n",
       "  <th>Model Family:</th>          <td>Gamma</td>      <th>  Df Model:          </th>  <td>     2</td> \n",
       "</tr>\n",
       "<tr>\n",
       "  <th>Link Function:</th>     <td>InversePower</td>   <th>  Scale:             </th> <td> 0.71999</td>\n",
       "</tr>\n",
       "<tr>\n",
       "  <th>Method:</th>                <td>IRLS</td>       <th>  Log-Likelihood:    </th> <td> -177.47</td>\n",
       "</tr>\n",
       "<tr>\n",
       "  <th>Date:</th>            <td>Wed, 26 Mar 2025</td> <th>  Deviance:          </th> <td>  41.240</td>\n",
       "</tr>\n",
       "<tr>\n",
       "  <th>Time:</th>                <td>14:09:47</td>     <th>  Pearson chi2:      </th>  <td>  37.4</td> \n",
       "</tr>\n",
       "<tr>\n",
       "  <th>No. Iterations:</th>          <td>7</td>        <th>  Pseudo R-squ. (CS):</th>  <td>0.01104</td>\n",
       "</tr>\n",
       "<tr>\n",
       "  <th>Covariance Type:</th>     <td>nonrobust</td>    <th>                     </th>     <td> </td>   \n",
       "</tr>\n",
       "</table>\n",
       "<table class=\"simpletable\">\n",
       "<tr>\n",
       "    <td></td>       <th>coef</th>     <th>std err</th>      <th>z</th>      <th>P>|z|</th>  <th>[0.025</th>    <th>0.975]</th>  \n",
       "</tr>\n",
       "<tr>\n",
       "  <th>const</th> <td>    0.0872</td> <td>    0.026</td> <td>    3.311</td> <td> 0.001</td> <td>    0.036</td> <td>    0.139</td>\n",
       "</tr>\n",
       "<tr>\n",
       "  <th>x1</th>    <td>   -0.0005</td> <td>    0.024</td> <td>   -0.020</td> <td> 0.984</td> <td>   -0.047</td> <td>    0.046</td>\n",
       "</tr>\n",
       "<tr>\n",
       "  <th>x2</th>    <td>    0.0005</td> <td>    0.001</td> <td>    0.778</td> <td> 0.437</td> <td>   -0.001</td> <td>    0.002</td>\n",
       "</tr>\n",
       "</table>"
      ],
      "text/latex": [
       "\\begin{center}\n",
       "\\begin{tabular}{lclc}\n",
       "\\toprule\n",
       "\\textbf{Dep. Variable:}   &        y         & \\textbf{  No. Observations:  } &       55    \\\\\n",
       "\\textbf{Model:}           &       GLM        & \\textbf{  Df Residuals:      } &       52    \\\\\n",
       "\\textbf{Model Family:}    &      Gamma       & \\textbf{  Df Model:          } &        2    \\\\\n",
       "\\textbf{Link Function:}   &   InversePower   & \\textbf{  Scale:             } &   0.71999   \\\\\n",
       "\\textbf{Method:}          &       IRLS       & \\textbf{  Log-Likelihood:    } &   -177.47   \\\\\n",
       "\\textbf{Date:}            & Wed, 26 Mar 2025 & \\textbf{  Deviance:          } &    41.240   \\\\\n",
       "\\textbf{Time:}            &     14:09:47     & \\textbf{  Pearson chi2:      } &     37.4    \\\\\n",
       "\\textbf{No. Iterations:}  &        7         & \\textbf{  Pseudo R-squ. (CS):} &  0.01104    \\\\\n",
       "\\textbf{Covariance Type:} &    nonrobust     & \\textbf{                     } &             \\\\\n",
       "\\bottomrule\n",
       "\\end{tabular}\n",
       "\\begin{tabular}{lcccccc}\n",
       "               & \\textbf{coef} & \\textbf{std err} & \\textbf{z} & \\textbf{P$> |$z$|$} & \\textbf{[0.025} & \\textbf{0.975]}  \\\\\n",
       "\\midrule\n",
       "\\textbf{const} &       0.0872  &        0.026     &     3.311  &         0.001        &        0.036    &        0.139     \\\\\n",
       "\\textbf{x1}    &      -0.0005  &        0.024     &    -0.020  &         0.984        &       -0.047    &        0.046     \\\\\n",
       "\\textbf{x2}    &       0.0005  &        0.001     &     0.778  &         0.437        &       -0.001    &        0.002     \\\\\n",
       "\\bottomrule\n",
       "\\end{tabular}\n",
       "%\\caption{Generalized Linear Model Regression Results}\n",
       "\\end{center}"
      ],
      "text/plain": [
       "<class 'statsmodels.iolib.summary.Summary'>\n",
       "\"\"\"\n",
       "                 Generalized Linear Model Regression Results                  \n",
       "==============================================================================\n",
       "Dep. Variable:                      y   No. Observations:                   55\n",
       "Model:                            GLM   Df Residuals:                       52\n",
       "Model Family:                   Gamma   Df Model:                            2\n",
       "Link Function:           InversePower   Scale:                         0.71999\n",
       "Method:                          IRLS   Log-Likelihood:                -177.47\n",
       "Date:                Wed, 26 Mar 2025   Deviance:                       41.240\n",
       "Time:                        14:09:47   Pearson chi2:                     37.4\n",
       "No. Iterations:                     7   Pseudo R-squ. (CS):            0.01104\n",
       "Covariance Type:            nonrobust                                         \n",
       "==============================================================================\n",
       "                 coef    std err          z      P>|z|      [0.025      0.975]\n",
       "------------------------------------------------------------------------------\n",
       "const          0.0872      0.026      3.311      0.001       0.036       0.139\n",
       "x1            -0.0005      0.024     -0.020      0.984      -0.047       0.046\n",
       "x2             0.0005      0.001      0.778      0.437      -0.001       0.002\n",
       "==============================================================================\n",
       "\"\"\""
      ]
     },
     "execution_count": 264,
     "metadata": {},
     "output_type": "execute_result"
    }
   ],
   "source": [
    "model1['fit'].summary()"
   ]
  },
  {
   "cell_type": "code",
   "execution_count": null,
   "id": "1c3695c8-b14b-47c5-92e7-6d2d39da0637",
   "metadata": {},
   "outputs": [],
   "source": []
  },
  {
   "cell_type": "code",
   "execution_count": 425,
   "id": "a3c3e3e5-ea88-48c4-b730-557b25bacd83",
   "metadata": {
    "scrolled": true
   },
   "outputs": [],
   "source": [
    "animal = 'eliot'\n",
    "dates_to_plot = ['20221018','20221019','20221020','20221021','20221022','20221023','20221024','20221025','20221026']\n",
    "\n",
    "encoding_set = '2Dheadspeed_above_4_andlowmua'\n",
    "classifier_param_name = 'default_decoding_gpu_4armMaze'\n",
    "datafolder = f'/cumulus/shijie/behavior_pilot/Batch1/{animal}'"
   ]
  },
  {
   "cell_type": "code",
   "execution_count": 456,
   "id": "a688dba1-1a9a-4bda-bde5-48b2966a879f",
   "metadata": {},
   "outputs": [],
   "source": [
    "animal = 'lewis'\n",
    "dates_to_plot = ['20240115','20240116','20240117','20240118','20240119','20240120']"
   ]
  },
  {
   "cell_type": "markdown",
   "id": "97f21f5f-c8a5-4f54-98a3-d7a135932424",
   "metadata": {},
   "source": [
    "## 2. plot all pairs."
   ]
  },
  {
   "cell_type": "code",
   "execution_count": 230,
   "id": "6a4e2b15-604d-42bf-ad4d-05bf96c74b84",
   "metadata": {},
   "outputs": [],
   "source": [
    "from spyglass.shijiegu.changeOfMind_deltat import find_delta_t\n",
    "from scipy.stats import ranksums\n",
    "\n",
    "from scipy.stats import permutation_test\n",
    "from scipy.stats import mode\n",
    "# because our statistic is vectorized, we pass `vectorized=True`\n",
    "# `n_resamples=np.inf` indicates that an exact test is to be performed\n",
    "\n",
    "def statistic(x, y, axis):\n",
    "    return np.mean(x, axis=axis) - np.mean(y, axis=axis)"
   ]
  },
  {
   "cell_type": "code",
   "execution_count": 126,
   "id": "19f8f8b0-efc7-440e-8d7b-b34c6fefd964",
   "metadata": {
    "scrolled": true
   },
   "outputs": [
    {
     "data": {
      "text/html": [
       "<div>\n",
       "<style scoped>\n",
       "    .dataframe tbody tr th:only-of-type {\n",
       "        vertical-align: middle;\n",
       "    }\n",
       "\n",
       "    .dataframe tbody tr th {\n",
       "        vertical-align: top;\n",
       "    }\n",
       "\n",
       "    .dataframe thead th {\n",
       "        text-align: right;\n",
       "    }\n",
       "</style>\n",
       "<table border=\"1\" class=\"dataframe\">\n",
       "  <thead>\n",
       "    <tr style=\"text-align: right;\">\n",
       "      <th></th>\n",
       "      <th>timestamp_H</th>\n",
       "      <th>Home</th>\n",
       "      <th>timestamp_O</th>\n",
       "      <th>OuterWellIndex</th>\n",
       "      <th>rewardNum</th>\n",
       "      <th>change_of_mind</th>\n",
       "      <th>CoMMaxProportion</th>\n",
       "      <th>CoM_t</th>\n",
       "      <th>CoM_arm</th>\n",
       "      <th>current</th>\n",
       "      <th>future_H</th>\n",
       "      <th>future_O</th>\n",
       "      <th>past</th>\n",
       "      <th>past_reward</th>\n",
       "    </tr>\n",
       "  </thead>\n",
       "  <tbody>\n",
       "    <tr>\n",
       "      <th>1</th>\n",
       "      <td>1.704833e+09</td>\n",
       "      <td>1.0</td>\n",
       "      <td>1.704833e+09</td>\n",
       "      <td>1.0</td>\n",
       "      <td>2.0</td>\n",
       "      <td>False</td>\n",
       "      <td>[]</td>\n",
       "      <td>[]</td>\n",
       "      <td>[]</td>\n",
       "      <td>1.0</td>\n",
       "      <td>1.0</td>\n",
       "      <td>4.0</td>\n",
       "      <td>NaN</td>\n",
       "      <td>NaN</td>\n",
       "    </tr>\n",
       "    <tr>\n",
       "      <th>2</th>\n",
       "      <td>1.704833e+09</td>\n",
       "      <td>1.0</td>\n",
       "      <td>1.704833e+09</td>\n",
       "      <td>4.0</td>\n",
       "      <td>1.0</td>\n",
       "      <td>False</td>\n",
       "      <td>[]</td>\n",
       "      <td>[]</td>\n",
       "      <td>[]</td>\n",
       "      <td>4.0</td>\n",
       "      <td>4.0</td>\n",
       "      <td>2.0</td>\n",
       "      <td>1.0</td>\n",
       "      <td>1.0</td>\n",
       "    </tr>\n",
       "    <tr>\n",
       "      <th>3</th>\n",
       "      <td>1.704833e+09</td>\n",
       "      <td>1.0</td>\n",
       "      <td>1.704833e+09</td>\n",
       "      <td>2.0</td>\n",
       "      <td>2.0</td>\n",
       "      <td>False</td>\n",
       "      <td>[]</td>\n",
       "      <td>[]</td>\n",
       "      <td>[]</td>\n",
       "      <td>2.0</td>\n",
       "      <td>2.0</td>\n",
       "      <td>3.0</td>\n",
       "      <td>4.0</td>\n",
       "      <td>1.0</td>\n",
       "    </tr>\n",
       "    <tr>\n",
       "      <th>4</th>\n",
       "      <td>1.704833e+09</td>\n",
       "      <td>1.0</td>\n",
       "      <td>1.704833e+09</td>\n",
       "      <td>3.0</td>\n",
       "      <td>1.0</td>\n",
       "      <td>False</td>\n",
       "      <td>[]</td>\n",
       "      <td>[]</td>\n",
       "      <td>[]</td>\n",
       "      <td>3.0</td>\n",
       "      <td>3.0</td>\n",
       "      <td>1.0</td>\n",
       "      <td>2.0</td>\n",
       "      <td>2.0</td>\n",
       "    </tr>\n",
       "    <tr>\n",
       "      <th>5</th>\n",
       "      <td>1.704833e+09</td>\n",
       "      <td>1.0</td>\n",
       "      <td>1.704833e+09</td>\n",
       "      <td>1.0</td>\n",
       "      <td>1.0</td>\n",
       "      <td>False</td>\n",
       "      <td>[]</td>\n",
       "      <td>[]</td>\n",
       "      <td>[]</td>\n",
       "      <td>1.0</td>\n",
       "      <td>1.0</td>\n",
       "      <td>2.0</td>\n",
       "      <td>3.0</td>\n",
       "      <td>2.0</td>\n",
       "    </tr>\n",
       "    <tr>\n",
       "      <th>6</th>\n",
       "      <td>1.704833e+09</td>\n",
       "      <td>1.0</td>\n",
       "      <td>1.704833e+09</td>\n",
       "      <td>2.0</td>\n",
       "      <td>1.0</td>\n",
       "      <td>True</td>\n",
       "      <td>0.05802</td>\n",
       "      <td>[[1704832757.604297, 1704832758.9922957]]</td>\n",
       "      <td>[[2, 3, -9223372036854775808]]</td>\n",
       "      <td>2.0</td>\n",
       "      <td>2.0</td>\n",
       "      <td>4.0</td>\n",
       "      <td>1.0</td>\n",
       "      <td>2.0</td>\n",
       "    </tr>\n",
       "    <tr>\n",
       "      <th>7</th>\n",
       "      <td>1.704833e+09</td>\n",
       "      <td>1.0</td>\n",
       "      <td>1.704833e+09</td>\n",
       "      <td>4.0</td>\n",
       "      <td>2.0</td>\n",
       "      <td>False</td>\n",
       "      <td>[]</td>\n",
       "      <td>[]</td>\n",
       "      <td>[]</td>\n",
       "      <td>4.0</td>\n",
       "      <td>4.0</td>\n",
       "      <td>1.0</td>\n",
       "      <td>2.0</td>\n",
       "      <td>2.0</td>\n",
       "    </tr>\n",
       "    <tr>\n",
       "      <th>8</th>\n",
       "      <td>1.704833e+09</td>\n",
       "      <td>1.0</td>\n",
       "      <td>1.704833e+09</td>\n",
       "      <td>1.0</td>\n",
       "      <td>1.0</td>\n",
       "      <td>False</td>\n",
       "      <td>[]</td>\n",
       "      <td>[]</td>\n",
       "      <td>[]</td>\n",
       "      <td>1.0</td>\n",
       "      <td>1.0</td>\n",
       "      <td>3.0</td>\n",
       "      <td>4.0</td>\n",
       "      <td>4.0</td>\n",
       "    </tr>\n",
       "    <tr>\n",
       "      <th>9</th>\n",
       "      <td>1.704833e+09</td>\n",
       "      <td>1.0</td>\n",
       "      <td>1.704833e+09</td>\n",
       "      <td>3.0</td>\n",
       "      <td>2.0</td>\n",
       "      <td>False</td>\n",
       "      <td>[]</td>\n",
       "      <td>[]</td>\n",
       "      <td>[]</td>\n",
       "      <td>3.0</td>\n",
       "      <td>3.0</td>\n",
       "      <td>1.0</td>\n",
       "      <td>1.0</td>\n",
       "      <td>4.0</td>\n",
       "    </tr>\n",
       "    <tr>\n",
       "      <th>10</th>\n",
       "      <td>1.704833e+09</td>\n",
       "      <td>1.0</td>\n",
       "      <td>1.704833e+09</td>\n",
       "      <td>1.0</td>\n",
       "      <td>2.0</td>\n",
       "      <td>False</td>\n",
       "      <td>[]</td>\n",
       "      <td>[]</td>\n",
       "      <td>[]</td>\n",
       "      <td>1.0</td>\n",
       "      <td>1.0</td>\n",
       "      <td>2.0</td>\n",
       "      <td>3.0</td>\n",
       "      <td>3.0</td>\n",
       "    </tr>\n",
       "    <tr>\n",
       "      <th>11</th>\n",
       "      <td>1.704833e+09</td>\n",
       "      <td>1.0</td>\n",
       "      <td>1.704833e+09</td>\n",
       "      <td>2.0</td>\n",
       "      <td>2.0</td>\n",
       "      <td>True</td>\n",
       "      <td>0.552658</td>\n",
       "      <td>[[1704832875.3462067]]</td>\n",
       "      <td>[[3, 2, -9223372036854775808]]</td>\n",
       "      <td>2.0</td>\n",
       "      <td>2.0</td>\n",
       "      <td>4.0</td>\n",
       "      <td>1.0</td>\n",
       "      <td>1.0</td>\n",
       "    </tr>\n",
       "    <tr>\n",
       "      <th>12</th>\n",
       "      <td>1.704833e+09</td>\n",
       "      <td>1.0</td>\n",
       "      <td>1.704833e+09</td>\n",
       "      <td>4.0</td>\n",
       "      <td>2.0</td>\n",
       "      <td>False</td>\n",
       "      <td>[]</td>\n",
       "      <td>[]</td>\n",
       "      <td>[]</td>\n",
       "      <td>4.0</td>\n",
       "      <td>4.0</td>\n",
       "      <td>3.0</td>\n",
       "      <td>2.0</td>\n",
       "      <td>2.0</td>\n",
       "    </tr>\n",
       "    <tr>\n",
       "      <th>13</th>\n",
       "      <td>1.704833e+09</td>\n",
       "      <td>1.0</td>\n",
       "      <td>1.704833e+09</td>\n",
       "      <td>3.0</td>\n",
       "      <td>2.0</td>\n",
       "      <td>True</td>\n",
       "      <td>0.578062</td>\n",
       "      <td>[[1704832927.6281667, 1704832930.934164]]</td>\n",
       "      <td>[[1, 2, 3, -9223372036854775808]]</td>\n",
       "      <td>3.0</td>\n",
       "      <td>3.0</td>\n",
       "      <td>1.0</td>\n",
       "      <td>4.0</td>\n",
       "      <td>4.0</td>\n",
       "    </tr>\n",
       "    <tr>\n",
       "      <th>14</th>\n",
       "      <td>1.704833e+09</td>\n",
       "      <td>1.0</td>\n",
       "      <td>1.704833e+09</td>\n",
       "      <td>1.0</td>\n",
       "      <td>2.0</td>\n",
       "      <td>True</td>\n",
       "      <td>0.134795</td>\n",
       "      <td>[[1704832960.3581414]]</td>\n",
       "      <td>[[2, 1, -9223372036854775808]]</td>\n",
       "      <td>1.0</td>\n",
       "      <td>1.0</td>\n",
       "      <td>2.0</td>\n",
       "      <td>3.0</td>\n",
       "      <td>3.0</td>\n",
       "    </tr>\n",
       "    <tr>\n",
       "      <th>15</th>\n",
       "      <td>1.704833e+09</td>\n",
       "      <td>1.0</td>\n",
       "      <td>1.704833e+09</td>\n",
       "      <td>2.0</td>\n",
       "      <td>2.0</td>\n",
       "      <td>False</td>\n",
       "      <td>[]</td>\n",
       "      <td>[]</td>\n",
       "      <td>[]</td>\n",
       "      <td>2.0</td>\n",
       "      <td>2.0</td>\n",
       "      <td>4.0</td>\n",
       "      <td>1.0</td>\n",
       "      <td>1.0</td>\n",
       "    </tr>\n",
       "    <tr>\n",
       "      <th>16</th>\n",
       "      <td>1.704833e+09</td>\n",
       "      <td>1.0</td>\n",
       "      <td>1.704833e+09</td>\n",
       "      <td>4.0</td>\n",
       "      <td>2.0</td>\n",
       "      <td>False</td>\n",
       "      <td>[]</td>\n",
       "      <td>[]</td>\n",
       "      <td>[]</td>\n",
       "      <td>4.0</td>\n",
       "      <td>4.0</td>\n",
       "      <td>1.0</td>\n",
       "      <td>2.0</td>\n",
       "      <td>2.0</td>\n",
       "    </tr>\n",
       "    <tr>\n",
       "      <th>17</th>\n",
       "      <td>1.704833e+09</td>\n",
       "      <td>1.0</td>\n",
       "      <td>1.704833e+09</td>\n",
       "      <td>1.0</td>\n",
       "      <td>1.0</td>\n",
       "      <td>False</td>\n",
       "      <td>[]</td>\n",
       "      <td>[]</td>\n",
       "      <td>[]</td>\n",
       "      <td>1.0</td>\n",
       "      <td>1.0</td>\n",
       "      <td>3.0</td>\n",
       "      <td>4.0</td>\n",
       "      <td>4.0</td>\n",
       "    </tr>\n",
       "    <tr>\n",
       "      <th>18</th>\n",
       "      <td>1.704833e+09</td>\n",
       "      <td>1.0</td>\n",
       "      <td>1.704833e+09</td>\n",
       "      <td>3.0</td>\n",
       "      <td>2.0</td>\n",
       "      <td>False</td>\n",
       "      <td>[]</td>\n",
       "      <td>[]</td>\n",
       "      <td>[]</td>\n",
       "      <td>3.0</td>\n",
       "      <td>3.0</td>\n",
       "      <td>2.0</td>\n",
       "      <td>1.0</td>\n",
       "      <td>4.0</td>\n",
       "    </tr>\n",
       "    <tr>\n",
       "      <th>19</th>\n",
       "      <td>1.704833e+09</td>\n",
       "      <td>1.0</td>\n",
       "      <td>1.704833e+09</td>\n",
       "      <td>2.0</td>\n",
       "      <td>1.0</td>\n",
       "      <td>False</td>\n",
       "      <td>[]</td>\n",
       "      <td>[]</td>\n",
       "      <td>[]</td>\n",
       "      <td>2.0</td>\n",
       "      <td>2.0</td>\n",
       "      <td>4.0</td>\n",
       "      <td>3.0</td>\n",
       "      <td>3.0</td>\n",
       "    </tr>\n",
       "    <tr>\n",
       "      <th>20</th>\n",
       "      <td>1.704833e+09</td>\n",
       "      <td>1.0</td>\n",
       "      <td>1.704833e+09</td>\n",
       "      <td>4.0</td>\n",
       "      <td>1.0</td>\n",
       "      <td>False</td>\n",
       "      <td>[]</td>\n",
       "      <td>[]</td>\n",
       "      <td>[]</td>\n",
       "      <td>4.0</td>\n",
       "      <td>4.0</td>\n",
       "      <td>1.0</td>\n",
       "      <td>2.0</td>\n",
       "      <td>3.0</td>\n",
       "    </tr>\n",
       "    <tr>\n",
       "      <th>21</th>\n",
       "      <td>1.704833e+09</td>\n",
       "      <td>1.0</td>\n",
       "      <td>1.704833e+09</td>\n",
       "      <td>1.0</td>\n",
       "      <td>2.0</td>\n",
       "      <td>False</td>\n",
       "      <td>[]</td>\n",
       "      <td>[]</td>\n",
       "      <td>[]</td>\n",
       "      <td>1.0</td>\n",
       "      <td>1.0</td>\n",
       "      <td>3.0</td>\n",
       "      <td>4.0</td>\n",
       "      <td>3.0</td>\n",
       "    </tr>\n",
       "    <tr>\n",
       "      <th>22</th>\n",
       "      <td>1.704833e+09</td>\n",
       "      <td>1.0</td>\n",
       "      <td>1.704833e+09</td>\n",
       "      <td>3.0</td>\n",
       "      <td>1.0</td>\n",
       "      <td>False</td>\n",
       "      <td>[]</td>\n",
       "      <td>[]</td>\n",
       "      <td>[]</td>\n",
       "      <td>3.0</td>\n",
       "      <td>3.0</td>\n",
       "      <td>2.0</td>\n",
       "      <td>1.0</td>\n",
       "      <td>1.0</td>\n",
       "    </tr>\n",
       "    <tr>\n",
       "      <th>23</th>\n",
       "      <td>1.704833e+09</td>\n",
       "      <td>1.0</td>\n",
       "      <td>1.704833e+09</td>\n",
       "      <td>2.0</td>\n",
       "      <td>2.0</td>\n",
       "      <td>False</td>\n",
       "      <td>[]</td>\n",
       "      <td>[]</td>\n",
       "      <td>[]</td>\n",
       "      <td>2.0</td>\n",
       "      <td>2.0</td>\n",
       "      <td>4.0</td>\n",
       "      <td>3.0</td>\n",
       "      <td>1.0</td>\n",
       "    </tr>\n",
       "    <tr>\n",
       "      <th>24</th>\n",
       "      <td>1.704833e+09</td>\n",
       "      <td>1.0</td>\n",
       "      <td>1.704833e+09</td>\n",
       "      <td>4.0</td>\n",
       "      <td>2.0</td>\n",
       "      <td>False</td>\n",
       "      <td>[]</td>\n",
       "      <td>[]</td>\n",
       "      <td>[]</td>\n",
       "      <td>4.0</td>\n",
       "      <td>4.0</td>\n",
       "      <td>3.0</td>\n",
       "      <td>2.0</td>\n",
       "      <td>2.0</td>\n",
       "    </tr>\n",
       "    <tr>\n",
       "      <th>25</th>\n",
       "      <td>1.704833e+09</td>\n",
       "      <td>1.0</td>\n",
       "      <td>1.704833e+09</td>\n",
       "      <td>3.0</td>\n",
       "      <td>2.0</td>\n",
       "      <td>False</td>\n",
       "      <td>[]</td>\n",
       "      <td>[]</td>\n",
       "      <td>[]</td>\n",
       "      <td>3.0</td>\n",
       "      <td>3.0</td>\n",
       "      <td>1.0</td>\n",
       "      <td>4.0</td>\n",
       "      <td>4.0</td>\n",
       "    </tr>\n",
       "    <tr>\n",
       "      <th>26</th>\n",
       "      <td>1.704833e+09</td>\n",
       "      <td>1.0</td>\n",
       "      <td>1.704833e+09</td>\n",
       "      <td>1.0</td>\n",
       "      <td>2.0</td>\n",
       "      <td>False</td>\n",
       "      <td>[]</td>\n",
       "      <td>[]</td>\n",
       "      <td>[]</td>\n",
       "      <td>1.0</td>\n",
       "      <td>1.0</td>\n",
       "      <td>2.0</td>\n",
       "      <td>3.0</td>\n",
       "      <td>3.0</td>\n",
       "    </tr>\n",
       "    <tr>\n",
       "      <th>27</th>\n",
       "      <td>1.704833e+09</td>\n",
       "      <td>1.0</td>\n",
       "      <td>1.704833e+09</td>\n",
       "      <td>2.0</td>\n",
       "      <td>2.0</td>\n",
       "      <td>False</td>\n",
       "      <td>[]</td>\n",
       "      <td>[]</td>\n",
       "      <td>[]</td>\n",
       "      <td>2.0</td>\n",
       "      <td>2.0</td>\n",
       "      <td>3.0</td>\n",
       "      <td>1.0</td>\n",
       "      <td>1.0</td>\n",
       "    </tr>\n",
       "    <tr>\n",
       "      <th>28</th>\n",
       "      <td>1.704833e+09</td>\n",
       "      <td>1.0</td>\n",
       "      <td>1.704833e+09</td>\n",
       "      <td>3.0</td>\n",
       "      <td>1.0</td>\n",
       "      <td>True</td>\n",
       "      <td>0.106553</td>\n",
       "      <td>[[1704833382.313818]]</td>\n",
       "      <td>[[4, 3, -9223372036854775808]]</td>\n",
       "      <td>3.0</td>\n",
       "      <td>3.0</td>\n",
       "      <td>4.0</td>\n",
       "      <td>2.0</td>\n",
       "      <td>2.0</td>\n",
       "    </tr>\n",
       "    <tr>\n",
       "      <th>29</th>\n",
       "      <td>1.704833e+09</td>\n",
       "      <td>1.0</td>\n",
       "      <td>1.704833e+09</td>\n",
       "      <td>4.0</td>\n",
       "      <td>2.0</td>\n",
       "      <td>False</td>\n",
       "      <td>[]</td>\n",
       "      <td>[]</td>\n",
       "      <td>[]</td>\n",
       "      <td>4.0</td>\n",
       "      <td>4.0</td>\n",
       "      <td>1.0</td>\n",
       "      <td>3.0</td>\n",
       "      <td>2.0</td>\n",
       "    </tr>\n",
       "    <tr>\n",
       "      <th>30</th>\n",
       "      <td>NaN</td>\n",
       "      <td>NaN</td>\n",
       "      <td>1.704833e+09</td>\n",
       "      <td>1.0</td>\n",
       "      <td>0.0</td>\n",
       "      <td>False</td>\n",
       "      <td>[]</td>\n",
       "      <td>[]</td>\n",
       "      <td>[]</td>\n",
       "      <td>1.0</td>\n",
       "      <td>1.0</td>\n",
       "      <td>3.0</td>\n",
       "      <td>4.0</td>\n",
       "      <td>4.0</td>\n",
       "    </tr>\n",
       "    <tr>\n",
       "      <th>31</th>\n",
       "      <td>1.704833e+09</td>\n",
       "      <td>1.0</td>\n",
       "      <td>1.704833e+09</td>\n",
       "      <td>3.0</td>\n",
       "      <td>2.0</td>\n",
       "      <td>False</td>\n",
       "      <td>[]</td>\n",
       "      <td>[]</td>\n",
       "      <td>[]</td>\n",
       "      <td>3.0</td>\n",
       "      <td>3.0</td>\n",
       "      <td>2.0</td>\n",
       "      <td>1.0</td>\n",
       "      <td>4.0</td>\n",
       "    </tr>\n",
       "    <tr>\n",
       "      <th>32</th>\n",
       "      <td>1.704833e+09</td>\n",
       "      <td>1.0</td>\n",
       "      <td>1.704833e+09</td>\n",
       "      <td>2.0</td>\n",
       "      <td>1.0</td>\n",
       "      <td>False</td>\n",
       "      <td>[]</td>\n",
       "      <td>[]</td>\n",
       "      <td>[]</td>\n",
       "      <td>2.0</td>\n",
       "      <td>2.0</td>\n",
       "      <td>1.0</td>\n",
       "      <td>3.0</td>\n",
       "      <td>3.0</td>\n",
       "    </tr>\n",
       "    <tr>\n",
       "      <th>33</th>\n",
       "      <td>1.704833e+09</td>\n",
       "      <td>1.0</td>\n",
       "      <td>1.704834e+09</td>\n",
       "      <td>1.0</td>\n",
       "      <td>2.0</td>\n",
       "      <td>True</td>\n",
       "      <td>0.062766</td>\n",
       "      <td>[[1704833502.339726]]</td>\n",
       "      <td>[[4, 1, -9223372036854775808]]</td>\n",
       "      <td>1.0</td>\n",
       "      <td>1.0</td>\n",
       "      <td>4.0</td>\n",
       "      <td>2.0</td>\n",
       "      <td>3.0</td>\n",
       "    </tr>\n",
       "    <tr>\n",
       "      <th>34</th>\n",
       "      <td>1.704834e+09</td>\n",
       "      <td>1.0</td>\n",
       "      <td>1.704834e+09</td>\n",
       "      <td>4.0</td>\n",
       "      <td>1.0</td>\n",
       "      <td>False</td>\n",
       "      <td>[]</td>\n",
       "      <td>[]</td>\n",
       "      <td>[]</td>\n",
       "      <td>4.0</td>\n",
       "      <td>4.0</td>\n",
       "      <td>2.0</td>\n",
       "      <td>1.0</td>\n",
       "      <td>1.0</td>\n",
       "    </tr>\n",
       "    <tr>\n",
       "      <th>35</th>\n",
       "      <td>1.704834e+09</td>\n",
       "      <td>1.0</td>\n",
       "      <td>1.704834e+09</td>\n",
       "      <td>2.0</td>\n",
       "      <td>2.0</td>\n",
       "      <td>False</td>\n",
       "      <td>[]</td>\n",
       "      <td>[]</td>\n",
       "      <td>[]</td>\n",
       "      <td>2.0</td>\n",
       "      <td>2.0</td>\n",
       "      <td>4.0</td>\n",
       "      <td>4.0</td>\n",
       "      <td>1.0</td>\n",
       "    </tr>\n",
       "    <tr>\n",
       "      <th>36</th>\n",
       "      <td>1.704834e+09</td>\n",
       "      <td>1.0</td>\n",
       "      <td>1.704834e+09</td>\n",
       "      <td>4.0</td>\n",
       "      <td>2.0</td>\n",
       "      <td>False</td>\n",
       "      <td>[]</td>\n",
       "      <td>[]</td>\n",
       "      <td>[]</td>\n",
       "      <td>4.0</td>\n",
       "      <td>4.0</td>\n",
       "      <td>3.0</td>\n",
       "      <td>2.0</td>\n",
       "      <td>2.0</td>\n",
       "    </tr>\n",
       "    <tr>\n",
       "      <th>37</th>\n",
       "      <td>NaN</td>\n",
       "      <td>NaN</td>\n",
       "      <td>1.704834e+09</td>\n",
       "      <td>3.0</td>\n",
       "      <td>0.0</td>\n",
       "      <td>False</td>\n",
       "      <td>[]</td>\n",
       "      <td>[]</td>\n",
       "      <td>[]</td>\n",
       "      <td>3.0</td>\n",
       "      <td>3.0</td>\n",
       "      <td>1.0</td>\n",
       "      <td>4.0</td>\n",
       "      <td>4.0</td>\n",
       "    </tr>\n",
       "    <tr>\n",
       "      <th>38</th>\n",
       "      <td>1.704834e+09</td>\n",
       "      <td>1.0</td>\n",
       "      <td>1.704834e+09</td>\n",
       "      <td>1.0</td>\n",
       "      <td>1.0</td>\n",
       "      <td>False</td>\n",
       "      <td>[]</td>\n",
       "      <td>[]</td>\n",
       "      <td>[]</td>\n",
       "      <td>1.0</td>\n",
       "      <td>1.0</td>\n",
       "      <td>3.0</td>\n",
       "      <td>3.0</td>\n",
       "      <td>4.0</td>\n",
       "    </tr>\n",
       "    <tr>\n",
       "      <th>39</th>\n",
       "      <td>1.704834e+09</td>\n",
       "      <td>1.0</td>\n",
       "      <td>1.704834e+09</td>\n",
       "      <td>3.0</td>\n",
       "      <td>2.0</td>\n",
       "      <td>True</td>\n",
       "      <td>0.607114</td>\n",
       "      <td>[[1704833652.1636112, 1704833654.8136091]]</td>\n",
       "      <td>[[3, 2, -9223372036854775808]]</td>\n",
       "      <td>3.0</td>\n",
       "      <td>3.0</td>\n",
       "      <td>1.0</td>\n",
       "      <td>1.0</td>\n",
       "      <td>4.0</td>\n",
       "    </tr>\n",
       "    <tr>\n",
       "      <th>40</th>\n",
       "      <td>1.704834e+09</td>\n",
       "      <td>1.0</td>\n",
       "      <td>1.704834e+09</td>\n",
       "      <td>1.0</td>\n",
       "      <td>2.0</td>\n",
       "      <td>False</td>\n",
       "      <td>[]</td>\n",
       "      <td>[]</td>\n",
       "      <td>[]</td>\n",
       "      <td>1.0</td>\n",
       "      <td>1.0</td>\n",
       "      <td>4.0</td>\n",
       "      <td>3.0</td>\n",
       "      <td>3.0</td>\n",
       "    </tr>\n",
       "  </tbody>\n",
       "</table>\n",
       "</div>"
      ],
      "text/plain": [
       "     timestamp_H  Home   timestamp_O  OuterWellIndex  rewardNum  \\\n",
       "1   1.704833e+09   1.0  1.704833e+09             1.0        2.0   \n",
       "2   1.704833e+09   1.0  1.704833e+09             4.0        1.0   \n",
       "3   1.704833e+09   1.0  1.704833e+09             2.0        2.0   \n",
       "4   1.704833e+09   1.0  1.704833e+09             3.0        1.0   \n",
       "5   1.704833e+09   1.0  1.704833e+09             1.0        1.0   \n",
       "6   1.704833e+09   1.0  1.704833e+09             2.0        1.0   \n",
       "7   1.704833e+09   1.0  1.704833e+09             4.0        2.0   \n",
       "8   1.704833e+09   1.0  1.704833e+09             1.0        1.0   \n",
       "9   1.704833e+09   1.0  1.704833e+09             3.0        2.0   \n",
       "10  1.704833e+09   1.0  1.704833e+09             1.0        2.0   \n",
       "11  1.704833e+09   1.0  1.704833e+09             2.0        2.0   \n",
       "12  1.704833e+09   1.0  1.704833e+09             4.0        2.0   \n",
       "13  1.704833e+09   1.0  1.704833e+09             3.0        2.0   \n",
       "14  1.704833e+09   1.0  1.704833e+09             1.0        2.0   \n",
       "15  1.704833e+09   1.0  1.704833e+09             2.0        2.0   \n",
       "16  1.704833e+09   1.0  1.704833e+09             4.0        2.0   \n",
       "17  1.704833e+09   1.0  1.704833e+09             1.0        1.0   \n",
       "18  1.704833e+09   1.0  1.704833e+09             3.0        2.0   \n",
       "19  1.704833e+09   1.0  1.704833e+09             2.0        1.0   \n",
       "20  1.704833e+09   1.0  1.704833e+09             4.0        1.0   \n",
       "21  1.704833e+09   1.0  1.704833e+09             1.0        2.0   \n",
       "22  1.704833e+09   1.0  1.704833e+09             3.0        1.0   \n",
       "23  1.704833e+09   1.0  1.704833e+09             2.0        2.0   \n",
       "24  1.704833e+09   1.0  1.704833e+09             4.0        2.0   \n",
       "25  1.704833e+09   1.0  1.704833e+09             3.0        2.0   \n",
       "26  1.704833e+09   1.0  1.704833e+09             1.0        2.0   \n",
       "27  1.704833e+09   1.0  1.704833e+09             2.0        2.0   \n",
       "28  1.704833e+09   1.0  1.704833e+09             3.0        1.0   \n",
       "29  1.704833e+09   1.0  1.704833e+09             4.0        2.0   \n",
       "30           NaN   NaN  1.704833e+09             1.0        0.0   \n",
       "31  1.704833e+09   1.0  1.704833e+09             3.0        2.0   \n",
       "32  1.704833e+09   1.0  1.704833e+09             2.0        1.0   \n",
       "33  1.704833e+09   1.0  1.704834e+09             1.0        2.0   \n",
       "34  1.704834e+09   1.0  1.704834e+09             4.0        1.0   \n",
       "35  1.704834e+09   1.0  1.704834e+09             2.0        2.0   \n",
       "36  1.704834e+09   1.0  1.704834e+09             4.0        2.0   \n",
       "37           NaN   NaN  1.704834e+09             3.0        0.0   \n",
       "38  1.704834e+09   1.0  1.704834e+09             1.0        1.0   \n",
       "39  1.704834e+09   1.0  1.704834e+09             3.0        2.0   \n",
       "40  1.704834e+09   1.0  1.704834e+09             1.0        2.0   \n",
       "\n",
       "    change_of_mind CoMMaxProportion  \\\n",
       "1            False               []   \n",
       "2            False               []   \n",
       "3            False               []   \n",
       "4            False               []   \n",
       "5            False               []   \n",
       "6             True          0.05802   \n",
       "7            False               []   \n",
       "8            False               []   \n",
       "9            False               []   \n",
       "10           False               []   \n",
       "11            True         0.552658   \n",
       "12           False               []   \n",
       "13            True         0.578062   \n",
       "14            True         0.134795   \n",
       "15           False               []   \n",
       "16           False               []   \n",
       "17           False               []   \n",
       "18           False               []   \n",
       "19           False               []   \n",
       "20           False               []   \n",
       "21           False               []   \n",
       "22           False               []   \n",
       "23           False               []   \n",
       "24           False               []   \n",
       "25           False               []   \n",
       "26           False               []   \n",
       "27           False               []   \n",
       "28            True         0.106553   \n",
       "29           False               []   \n",
       "30           False               []   \n",
       "31           False               []   \n",
       "32           False               []   \n",
       "33            True         0.062766   \n",
       "34           False               []   \n",
       "35           False               []   \n",
       "36           False               []   \n",
       "37           False               []   \n",
       "38           False               []   \n",
       "39            True         0.607114   \n",
       "40           False               []   \n",
       "\n",
       "                                         CoM_t  \\\n",
       "1                                           []   \n",
       "2                                           []   \n",
       "3                                           []   \n",
       "4                                           []   \n",
       "5                                           []   \n",
       "6    [[1704832757.604297, 1704832758.9922957]]   \n",
       "7                                           []   \n",
       "8                                           []   \n",
       "9                                           []   \n",
       "10                                          []   \n",
       "11                      [[1704832875.3462067]]   \n",
       "12                                          []   \n",
       "13   [[1704832927.6281667, 1704832930.934164]]   \n",
       "14                      [[1704832960.3581414]]   \n",
       "15                                          []   \n",
       "16                                          []   \n",
       "17                                          []   \n",
       "18                                          []   \n",
       "19                                          []   \n",
       "20                                          []   \n",
       "21                                          []   \n",
       "22                                          []   \n",
       "23                                          []   \n",
       "24                                          []   \n",
       "25                                          []   \n",
       "26                                          []   \n",
       "27                                          []   \n",
       "28                       [[1704833382.313818]]   \n",
       "29                                          []   \n",
       "30                                          []   \n",
       "31                                          []   \n",
       "32                                          []   \n",
       "33                       [[1704833502.339726]]   \n",
       "34                                          []   \n",
       "35                                          []   \n",
       "36                                          []   \n",
       "37                                          []   \n",
       "38                                          []   \n",
       "39  [[1704833652.1636112, 1704833654.8136091]]   \n",
       "40                                          []   \n",
       "\n",
       "                              CoM_arm  current  future_H  future_O  past  \\\n",
       "1                                  []      1.0       1.0       4.0   NaN   \n",
       "2                                  []      4.0       4.0       2.0   1.0   \n",
       "3                                  []      2.0       2.0       3.0   4.0   \n",
       "4                                  []      3.0       3.0       1.0   2.0   \n",
       "5                                  []      1.0       1.0       2.0   3.0   \n",
       "6      [[2, 3, -9223372036854775808]]      2.0       2.0       4.0   1.0   \n",
       "7                                  []      4.0       4.0       1.0   2.0   \n",
       "8                                  []      1.0       1.0       3.0   4.0   \n",
       "9                                  []      3.0       3.0       1.0   1.0   \n",
       "10                                 []      1.0       1.0       2.0   3.0   \n",
       "11     [[3, 2, -9223372036854775808]]      2.0       2.0       4.0   1.0   \n",
       "12                                 []      4.0       4.0       3.0   2.0   \n",
       "13  [[1, 2, 3, -9223372036854775808]]      3.0       3.0       1.0   4.0   \n",
       "14     [[2, 1, -9223372036854775808]]      1.0       1.0       2.0   3.0   \n",
       "15                                 []      2.0       2.0       4.0   1.0   \n",
       "16                                 []      4.0       4.0       1.0   2.0   \n",
       "17                                 []      1.0       1.0       3.0   4.0   \n",
       "18                                 []      3.0       3.0       2.0   1.0   \n",
       "19                                 []      2.0       2.0       4.0   3.0   \n",
       "20                                 []      4.0       4.0       1.0   2.0   \n",
       "21                                 []      1.0       1.0       3.0   4.0   \n",
       "22                                 []      3.0       3.0       2.0   1.0   \n",
       "23                                 []      2.0       2.0       4.0   3.0   \n",
       "24                                 []      4.0       4.0       3.0   2.0   \n",
       "25                                 []      3.0       3.0       1.0   4.0   \n",
       "26                                 []      1.0       1.0       2.0   3.0   \n",
       "27                                 []      2.0       2.0       3.0   1.0   \n",
       "28     [[4, 3, -9223372036854775808]]      3.0       3.0       4.0   2.0   \n",
       "29                                 []      4.0       4.0       1.0   3.0   \n",
       "30                                 []      1.0       1.0       3.0   4.0   \n",
       "31                                 []      3.0       3.0       2.0   1.0   \n",
       "32                                 []      2.0       2.0       1.0   3.0   \n",
       "33     [[4, 1, -9223372036854775808]]      1.0       1.0       4.0   2.0   \n",
       "34                                 []      4.0       4.0       2.0   1.0   \n",
       "35                                 []      2.0       2.0       4.0   4.0   \n",
       "36                                 []      4.0       4.0       3.0   2.0   \n",
       "37                                 []      3.0       3.0       1.0   4.0   \n",
       "38                                 []      1.0       1.0       3.0   3.0   \n",
       "39     [[3, 2, -9223372036854775808]]      3.0       3.0       1.0   1.0   \n",
       "40                                 []      1.0       1.0       4.0   3.0   \n",
       "\n",
       "    past_reward  \n",
       "1           NaN  \n",
       "2           1.0  \n",
       "3           1.0  \n",
       "4           2.0  \n",
       "5           2.0  \n",
       "6           2.0  \n",
       "7           2.0  \n",
       "8           4.0  \n",
       "9           4.0  \n",
       "10          3.0  \n",
       "11          1.0  \n",
       "12          2.0  \n",
       "13          4.0  \n",
       "14          3.0  \n",
       "15          1.0  \n",
       "16          2.0  \n",
       "17          4.0  \n",
       "18          4.0  \n",
       "19          3.0  \n",
       "20          3.0  \n",
       "21          3.0  \n",
       "22          1.0  \n",
       "23          1.0  \n",
       "24          2.0  \n",
       "25          4.0  \n",
       "26          3.0  \n",
       "27          1.0  \n",
       "28          2.0  \n",
       "29          2.0  \n",
       "30          4.0  \n",
       "31          4.0  \n",
       "32          3.0  \n",
       "33          3.0  \n",
       "34          1.0  \n",
       "35          1.0  \n",
       "36          2.0  \n",
       "37          4.0  \n",
       "38          4.0  \n",
       "39          4.0  \n",
       "40          3.0  "
      ]
     },
     "execution_count": 126,
     "metadata": {},
     "output_type": "execute_result"
    }
   ],
   "source": [
    "log_df[:40]"
   ]
  },
  {
   "cell_type": "markdown",
   "id": "502ac0a0-5c42-4712-bbae-c2d5424ca895",
   "metadata": {},
   "source": [
    "### First, paired comparisons.\n",
    "Limited data points"
   ]
  },
  {
   "cell_type": "code",
   "execution_count": 243,
   "id": "166b9a5b-328a-43ad-abc9-73764e6007ec",
   "metadata": {
    "scrolled": true
   },
   "outputs": [
    {
     "name": "stdout",
     "output_type": "stream",
     "text": [
      "lewis20240107_.nwb 02_Rev2Session1\n",
      "trials_long_theta [[36, (3, 1)], [46, (4, 1)], [47, (2, 4)], [47, (2, 4)], [50, (2, 1)]]\n",
      "trials_short_theta [[30, (2, 3)], [47, (2, 3)], [47, (2, 2)], [50, (2, 3)], [65, (2, 3)], [67, (4, 1)]]\n",
      "transitions [[4 1]]\n",
      "lewis20240107_.nwb 04_Rev2Session2\n",
      "trials_long_theta [[27, (4, 2)]]\n",
      "trials_short_theta [[13, (3, 2)], [16, (3, 1)], [20, (1, 4)], [20, (1, 3)], [24, (3, 1)], [42, (4, 1)], [42, (4, 1)]]\n",
      "transitions []\n",
      "lewis20240107_.nwb 06_Rev2Session3\n",
      "trials_long_theta [[23, (1, 2)], [57, (4, 1)]]\n",
      "trials_short_theta [[11, (2, 1)], [11, (2, 1)], [37, (4, 3)], [38, (2, 1)], [38, (2, 1)], [42, (2, 3)], [42, (2, 1)], [47, (4, 1)], [61, (1, 3)], [61, (1, 2)]]\n",
      "transitions [[1 2]\n",
      " [4 1]]\n",
      "lewis20240107_.nwb 08_Rev2Session4\n",
      "trials_long_theta [[10, (2, 3)], [27, (4, 1)], [27, (4, 1)], [33, (3, 1)], [41, (3, 4)], [49, (4, 1)], [50, (3, 4)]]\n",
      "trials_short_theta [[10, (2, 3)], [10, (2, 3)], [10, (2, 3)], [17, (2, 1)], [27, (4, 1)], [41, (3, 4)], [41, (3, 4)]]\n",
      "transitions [[2 3]\n",
      " [3 4]\n",
      " [4 1]]\n",
      "lewis20240107_.nwb 10_Rev2Session5\n",
      "trials_long_theta [[10, (4, 1)], [38, (4, 1)]]\n",
      "trials_short_theta [[7, (3, 2)], [7, (3, 2)], [22, (3, 2)]]\n",
      "transitions []\n",
      "lewis20240108_.nwb 02_Rev2Session1\n",
      "trials_long_theta [[44, (3, 4)], [48, (4, 1)], [52, (1, 4)], [60, (4, 2)], [60, (4, 1)], [65, (3, 2)], [67, (4, 3)], [67, (4, 1)]]\n",
      "trials_short_theta [[5, (4, 1)], [48, (4, 2)], [73, (4, 1)]]\n",
      "transitions [[4 1]\n",
      " [4 2]]\n",
      "lewis20240108_.nwb 04_Rev2Session2\n",
      "trials_long_theta [[10, (1, 3)], [15, (3, 2)], [18, (3, 1)], [21, (3, 4)], [21, (3, 4)], [32, (1, 3)], [51, (1, 3)], [53, (4, 1)], [54, (3, 4)], [58, (3, 1)], [61, (3, 4)], [61, (3, 2)], [69, (1, 4)]]\n",
      "trials_short_theta [[16, (1, 4)], [16, (1, 4)], [16, (1, 3)], [18, (3, 2)], [40, (1, 3)], [42, (2, 4)], [42, (2, 2)], [62, (1, 3)]]\n",
      "transitions [[1 3]\n",
      " [1 4]\n",
      " [3 2]]\n",
      "lewis20240108_.nwb 06_Rev2Session3\n",
      "trials_long_theta [[23, (2, 4)], [24, (1, 3)], [39, (2, 4)], [43, (2, 1)], [46, (1, 2)]]\n",
      "trials_short_theta [[14, (3, 1)], [14, (3, 2)], [26, (2, 1)], [39, (2, 2)], [39, (2, 2)]]\n",
      "transitions [[2 1]]\n",
      "lewis20240108_.nwb 08_Rev2Session4\n",
      "trials_long_theta [[31, (4, 3)], [31, (4, 3)], [31, (4, 3)], [32, (2, 1)], [32, (2, 1)], [32, (2, 2)], [35, (3, 4)], [44, (4, 1)], [44, (4, 1)], [51, (3, 4)]]\n",
      "trials_short_theta [[8, (4, 1)], [19, (4, 1)], [23, (4, 1)], [28, (3, 4)], [31, (4, 4)], [32, (2, 4)], [53, (1, 1)], [53, (1, 1)]]\n",
      "transitions [[3 4]\n",
      " [4 1]]\n",
      "lewis20240109_.nwb 02_Rev2Session1\n",
      "trials_long_theta [[18, (4, 1)], [55, (3, 2)], [63, (3, 2)], [64, (1, 4)], [81, (4, 1)]]\n",
      "trials_short_theta [[18, (4, 1)], [18, (4, 1)], [46, (4, 1)], [55, (3, 1)], [55, (3, 4)], [65, (2, 3)], [68, (3, 2)], [68, (3, 1)], [75, (1, 3)]]\n",
      "transitions [[3 2]\n",
      " [4 1]]\n",
      "lewis20240109_.nwb 04_Rev2Session2\n",
      "trials_long_theta [[11, (1, 3)], [13, (4, 1)], [39, (1, 2)], [44, (3, 1)], [45, (4, 2)], [53, (2, 4)], [53, (2, 2)], [63, (3, 2)]]\n",
      "trials_short_theta [[13, (4, 2)], [39, (1, 3)], [41, (1, 3)], [41, (1, 3)], [43, (2, 3)], [43, (2, 1)], [63, (3, 1)], [63, (3, 2)], [66, (2, 4)], [76, (2, 4)], [76, (2, 4)]]\n",
      "transitions [[1 3]\n",
      " [2 4]\n",
      " [3 1]\n",
      " [3 2]\n",
      " [4 2]]\n",
      "lewis20240109_.nwb 06_Rev2Session3\n",
      "trials_long_theta [[9, (3, 4)], [14, (3, 2)], [23, (2, 1)], [24, (4, 2)], [28, (4, 1)]]\n",
      "trials_short_theta [[14, (3, 1)], [24, (4, 2)], [24, (4, 4)]]\n",
      "transitions [[4 2]]\n",
      "lewis20240109_.nwb 08_Rev2Session4\n",
      "trials_long_theta [[3, (3, 4)], [20, (4, 1)]]\n",
      "trials_short_theta [[3, (3, 4)], [3, (3, 4)], [16, (4, 1)], [16, (4, 1)]]\n",
      "transitions [[3 4]\n",
      " [4 1]]\n",
      "lewis20240110_.nwb 02_Rev2Session1\n",
      "trials_long_theta [[11, (3, 1)], [15, (3, 4)], [16, (2, 3)], [19, (4, 1)], [25, (2, 1)], [25, (2, 2)], [48, (1, 3)], [64, (1, 4)], [64, (1, 4)], [65, (2, 3)], [81, (4, 2)]]\n",
      "trials_short_theta [[25, (2, 3)], [29, (2, 4)], [29, (2, 3)], [65, (2, 1)], [66, (4, 2)], [81, (4, 1)]]\n",
      "transitions [[2 1]\n",
      " [2 3]\n",
      " [4 1]\n",
      " [4 2]]\n",
      "lewis20240110_.nwb 04_Rev2Session2\n",
      "trials_long_theta [[12, (3, 2)], [15, (4, 1)], [17, (4, 1)], [22, (3, 2)], [24, (4, 3)], [29, (1, 4)], [45, (2, 3)], [60, (4, 3)], [65, (1, 4)], [65, (1, 4)], [73, (1, 4)]]\n",
      "trials_short_theta [[12, (3, 4)], [12, (3, 1)], [12, (3, 3)], [24, (4, 2)], [26, (4, 1)], [26, (4, 2)], [45, (2, 3)], [45, (2, 3)], [45, (2, 3)]]\n",
      "transitions [[2 3]\n",
      " [4 1]]\n",
      "lewis20240110_.nwb 06_Rev2Session3\n",
      "trials_long_theta [[10, (1, 4)], [12, (4, 2)], [16, (4, 2)], [16, (4, 2)], [16, (4, 1)], [35, (1, 4)], [45, (2, 3)]]\n",
      "trials_short_theta [[11, (2, 3)], [16, (4, 3)], [20, (4, 3)], [24, (3, 4)], [51, (4, 3)]]\n",
      "transitions [[2 3]]\n",
      "lewis20240110_.nwb 08_Rev2Session4\n",
      "trials_long_theta []\n",
      "trials_short_theta [[15, (2, 3)]]\n",
      "transitions []\n",
      "lewis20240110_.nwb 10_Rev2Session5\n",
      "trials_long_theta [[18, (1, 4)]]\n",
      "trials_short_theta [[10, (4, 4)], [35, (4, 1)]]\n",
      "transitions []\n"
     ]
    }
   ],
   "source": [
    "paired = True\n",
    "type = 1\n",
    "\n",
    "diff_theta_transition_day = {}\n",
    "diff_nontheta_transition_day = {}\n",
    "\n",
    "for day in dates_to_plot:\n",
    "    nwb_file_name = animal.lower() + day + '.nwb'\n",
    "    nwb_copy_file_name = get_nwb_copy_filename(nwb_file_name)\n",
    "    session_interval, position_interval = runSessionNames(nwb_copy_file_name)\n",
    "\n",
    "    diff_theta_transition_session = []\n",
    "    diff_nontheta_transition_session = []\n",
    "    for ind in range(len(session_interval)):\n",
    "        session_name = session_interval[ind]\n",
    "        position_name = position_interval[ind]\n",
    "        diff_theta_transition_session_, diff_nontheta_transition_session_ = find_delta_t(\n",
    "            nwb_copy_file_name, session_name, proportion, replay_trials, replay_trials_non, paired, type = type) #replay_trials)\n",
    "        \n",
    "        diff_theta_transition_session.append(diff_theta_transition_session_)\n",
    "        diff_nontheta_transition_session.append(diff_nontheta_transition_session_)\n",
    "\n",
    "    diff_theta_transition_day[day] = diff_theta_transition_session\n",
    "    diff_nontheta_transition_day[day] = diff_nontheta_transition_session"
   ]
  },
  {
   "cell_type": "code",
   "execution_count": 244,
   "id": "96893514-b8ba-4f07-8617-4113f6dec58a",
   "metadata": {},
   "outputs": [
    {
     "data": {
      "text/plain": [
       "[Text(1, 0, 'theta'), Text(2, 0, 'nontheta')]"
      ]
     },
     "execution_count": 244,
     "metadata": {},
     "output_type": "execute_result"
    },
    {
     "data": {
      "image/png": "[encoded data removed]",
      "text/plain": [
       "<Figure size 300x300 with 1 Axes>"
      ]
     },
     "metadata": {},
     "output_type": "display_data"
    }
   ],
   "source": [
    "dates_to_plot = list(replay_trials[animal].keys())\n",
    "transitions = [(0,1),(0,2),(0,3),\n",
    "               (1,0),(1,2),(1,3),\n",
    "               (2,0),(2,1),(2,3),\n",
    "               (3,0),(3,1),(3,2)]\n",
    "\n",
    "# plotting stuff\n",
    "cmap = plt.cm.jet\n",
    "norm = plt.Normalize(vmin=0, vmax=len(dates_to_plot))\n",
    "\n",
    "fig,axes = plt.subplots(1,1,figsize = (3,3),sharex = True, sharey = True)\n",
    "\n",
    "d_ind = 0\n",
    "sample_theta = []\n",
    "sample_nontheta = []\n",
    "for d in diff_theta_transition_day.keys():\n",
    "    diff_theta_day = diff_theta_transition_day[d]\n",
    "    diff_nontheta_day = diff_nontheta_transition_day[d]\n",
    "\n",
    "    for diff_theta_ind in range(len(diff_theta_day)):\n",
    "        diff_theta = diff_theta_day[diff_theta_ind]\n",
    "        diff_nontheta = diff_nontheta_day[diff_theta_ind]\n",
    "        \n",
    "        for transition in diff_theta.keys():\n",
    "            #axe_i, axe_j = transition #int(np.floor(t_ind/3)), int(t_ind % 3)\n",
    "            axes.plot([1,2], [diff_theta[transition], diff_nontheta[transition]],\n",
    "                                   color = cmap(norm(d_ind)), alpha = 0.5)\n",
    "            for delta_t in diff_theta[transition]:\n",
    "                sample_theta.append(delta_t)\n",
    "            for delta_t in diff_nontheta[transition]:\n",
    "                sample_nontheta.append(delta_t)\n",
    "    d_ind += 1\n",
    "\n",
    "res = permutation_test((sample_theta, sample_nontheta), statistic, permutation_type=\"samples\",vectorized=True,\n",
    "                       n_resamples=10000, alternative='greater')\n",
    "\n",
    "axes.set_ylabel(\"# of trials in between\")\n",
    "plt.suptitle(animal + '\\n proportion:' +str(proportion) +'\\n would have been transition ' + str(type) +' \\n p value: '+str(np.round(res.pvalue,3)))  \n",
    "\n",
    "axes.set_xticks([1,2])\n",
    "axes.set_ylabel(\"# of trials in between\")\n",
    "axes.set_xticklabels([\"theta\",\"nontheta\"])"
   ]
  },
  {
   "cell_type": "code",
   "execution_count": 245,
   "id": "2adbd7d3-f4ed-4633-b881-3de09987b313",
   "metadata": {},
   "outputs": [
    {
     "data": {
      "image/png": "[encoded data removed]",
      "text/plain": [
       "<Figure size 800x800 with 16 Axes>"
      ]
     },
     "metadata": {},
     "output_type": "display_data"
    }
   ],
   "source": [
    "dates_to_plot = list(replay_trials[animal].keys())\n",
    "transitions = [(0,1),(0,2),(0,3),\n",
    "               (1,0),(1,2),(1,3),\n",
    "               (2,0),(2,1),(2,3),\n",
    "               (3,0),(3,1),(3,2)]\n",
    "\n",
    "# plotting stuff\n",
    "cmap = plt.cm.jet\n",
    "norm = plt.Normalize(vmin=0, vmax=len(dates_to_plot))\n",
    "\n",
    "fig,axes = plt.subplots(4,4,figsize = (8,8),sharex = True, sharey = True)\n",
    "\n",
    "d_ind = 0\n",
    "for d in diff_theta_transition_day.keys():\n",
    "    diff_theta_day = diff_theta_transition_day[d]\n",
    "    diff_nontheta_day = diff_nontheta_transition_day[d]\n",
    "\n",
    "    for diff_theta_ind in range(len(diff_theta_day)):\n",
    "        diff_theta = diff_theta_day[diff_theta_ind]\n",
    "        diff_nontheta = diff_nontheta_day[diff_theta_ind]\n",
    "        \n",
    "        for transition in diff_theta.keys():\n",
    "            axe_i, axe_j = transition #int(np.floor(t_ind/3)), int(t_ind % 3)\n",
    "            axes[axe_i - 1, axe_j - 1].plot([1,2], [diff_theta[transition], diff_nontheta[transition]],\n",
    "                                   color = cmap(norm(d_ind)), alpha = 0.5)\n",
    "    d_ind += 1\n",
    "\n",
    "plt.suptitle(animal + '\\n would have been transition 1')    \n",
    "\n",
    "for axe_i in range(4):\n",
    "    for axe_j in range(4):\n",
    "        axes[axe_i, axe_j].set_xticks([1,2])\n",
    "        if axe_j == 0:\n",
    "            axes[axe_i, axe_j].set_ylabel(\"# of trials in between\")\n",
    "        if axe_i == 3:\n",
    "            axes[axe_i, axe_j].set_xticklabels([\"theta\",\"nontheta\"])\n",
    "        axes[axe_i, axe_j].set_title(f\"arm{axe_i+1} to {axe_j+1}\")"
   ]
  },
  {
   "cell_type": "markdown",
   "id": "9b6cbbca-7395-44a9-bac4-85b9266d5bae",
   "metadata": {},
   "source": [
    "### Second, all nontheta"
   ]
  },
  {
   "cell_type": "code",
   "execution_count": 246,
   "id": "de9f1b3a-dc88-4528-b437-ff54ba7baac7",
   "metadata": {
    "scrolled": true
   },
   "outputs": [
    {
     "name": "stdout",
     "output_type": "stream",
     "text": [
      "lewis20240107_.nwb 02_Rev2Session1\n",
      "trials_long_theta [[36, (3, 1)], [46, (4, 1)], [47, (2, 4)], [47, (2, 4)], [50, (2, 1)]]\n",
      "trials_short_theta [[30, (2, 3)], [47, (2, 3)], [47, (2, 2)], [50, (2, 3)], [65, (2, 3)], [67, (4, 1)]]\n",
      "transitions [[4 1]]\n",
      "lewis20240107_.nwb 04_Rev2Session2\n",
      "trials_long_theta [[27, (4, 2)]]\n",
      "trials_short_theta [[13, (3, 2)], [16, (3, 1)], [20, (1, 4)], [20, (1, 3)], [24, (3, 1)], [42, (4, 1)], [42, (4, 1)]]\n",
      "transitions []\n",
      "lewis20240107_.nwb 06_Rev2Session3\n",
      "trials_long_theta [[23, (1, 2)], [57, (4, 1)]]\n",
      "trials_short_theta [[11, (2, 1)], [11, (2, 1)], [37, (4, 3)], [38, (2, 1)], [38, (2, 1)], [42, (2, 3)], [42, (2, 1)], [47, (4, 1)], [61, (1, 3)], [61, (1, 2)]]\n",
      "transitions [[1 2]\n",
      " [4 1]]\n",
      "lewis20240107_.nwb 08_Rev2Session4\n",
      "trials_long_theta [[10, (2, 3)], [27, (4, 1)], [27, (4, 1)], [33, (3, 1)], [41, (3, 4)], [49, (4, 1)], [50, (3, 4)]]\n",
      "trials_short_theta [[10, (2, 3)], [10, (2, 3)], [10, (2, 3)], [17, (2, 1)], [27, (4, 1)], [41, (3, 4)], [41, (3, 4)]]\n",
      "transitions [[2 3]\n",
      " [3 4]\n",
      " [4 1]]\n",
      "lewis20240107_.nwb 10_Rev2Session5\n",
      "trials_long_theta [[10, (4, 1)], [38, (4, 1)]]\n",
      "trials_short_theta [[7, (3, 2)], [7, (3, 2)], [22, (3, 2)]]\n",
      "transitions []\n",
      "lewis20240108_.nwb 02_Rev2Session1\n",
      "trials_long_theta [[44, (3, 4)], [48, (4, 1)], [52, (1, 4)], [60, (4, 2)], [60, (4, 1)], [65, (3, 2)], [67, (4, 3)], [67, (4, 1)]]\n",
      "trials_short_theta [[5, (4, 1)], [48, (4, 2)], [73, (4, 1)]]\n",
      "transitions [[4 1]\n",
      " [4 2]]\n",
      "lewis20240108_.nwb 04_Rev2Session2\n",
      "trials_long_theta [[10, (1, 3)], [15, (3, 2)], [18, (3, 1)], [21, (3, 4)], [21, (3, 4)], [32, (1, 3)], [51, (1, 3)], [53, (4, 1)], [54, (3, 4)], [58, (3, 1)], [61, (3, 4)], [61, (3, 2)], [69, (1, 4)]]\n",
      "trials_short_theta [[16, (1, 4)], [16, (1, 4)], [16, (1, 3)], [18, (3, 2)], [40, (1, 3)], [42, (2, 4)], [42, (2, 2)], [62, (1, 3)]]\n",
      "transitions [[1 3]\n",
      " [1 4]\n",
      " [3 2]]\n",
      "lewis20240108_.nwb 06_Rev2Session3\n",
      "trials_long_theta [[23, (2, 4)], [24, (1, 3)], [39, (2, 4)], [43, (2, 1)], [46, (1, 2)]]\n",
      "trials_short_theta [[14, (3, 1)], [14, (3, 2)], [26, (2, 1)], [39, (2, 2)], [39, (2, 2)]]\n",
      "transitions [[2 1]]\n",
      "lewis20240108_.nwb 08_Rev2Session4\n",
      "trials_long_theta [[31, (4, 3)], [31, (4, 3)], [31, (4, 3)], [32, (2, 1)], [32, (2, 1)], [32, (2, 2)], [35, (3, 4)], [44, (4, 1)], [44, (4, 1)], [51, (3, 4)]]\n",
      "trials_short_theta [[8, (4, 1)], [19, (4, 1)], [23, (4, 1)], [28, (3, 4)], [31, (4, 4)], [32, (2, 4)], [53, (1, 1)], [53, (1, 1)]]\n",
      "transitions [[3 4]\n",
      " [4 1]]\n",
      "lewis20240109_.nwb 02_Rev2Session1\n",
      "trials_long_theta [[18, (4, 1)], [55, (3, 2)], [63, (3, 2)], [64, (1, 4)], [81, (4, 1)]]\n",
      "trials_short_theta [[18, (4, 1)], [18, (4, 1)], [46, (4, 1)], [55, (3, 1)], [55, (3, 4)], [65, (2, 3)], [68, (3, 2)], [68, (3, 1)], [75, (1, 3)]]\n",
      "transitions [[3 2]\n",
      " [4 1]]\n",
      "lewis20240109_.nwb 04_Rev2Session2\n",
      "trials_long_theta [[11, (1, 3)], [13, (4, 1)], [39, (1, 2)], [44, (3, 1)], [45, (4, 2)], [53, (2, 4)], [53, (2, 2)], [63, (3, 2)]]\n",
      "trials_short_theta [[13, (4, 2)], [39, (1, 3)], [41, (1, 3)], [41, (1, 3)], [43, (2, 3)], [43, (2, 1)], [63, (3, 1)], [63, (3, 2)], [66, (2, 4)], [76, (2, 4)], [76, (2, 4)]]\n",
      "transitions [[1 3]\n",
      " [2 4]\n",
      " [3 1]\n",
      " [3 2]\n",
      " [4 2]]\n",
      "lewis20240109_.nwb 06_Rev2Session3\n",
      "trials_long_theta [[9, (3, 4)], [14, (3, 2)], [23, (2, 1)], [24, (4, 2)], [28, (4, 1)]]\n",
      "trials_short_theta [[14, (3, 1)], [24, (4, 2)], [24, (4, 4)]]\n",
      "transitions [[4 2]]\n",
      "lewis20240109_.nwb 08_Rev2Session4\n",
      "trials_long_theta [[3, (3, 4)], [20, (4, 1)]]\n",
      "trials_short_theta [[3, (3, 4)], [3, (3, 4)], [16, (4, 1)], [16, (4, 1)]]\n",
      "transitions [[3 4]\n",
      " [4 1]]\n",
      "lewis20240110_.nwb 02_Rev2Session1\n",
      "trials_long_theta [[11, (3, 1)], [15, (3, 4)], [16, (2, 3)], [19, (4, 1)], [25, (2, 1)], [25, (2, 2)], [48, (1, 3)], [64, (1, 4)], [64, (1, 4)], [65, (2, 3)], [81, (4, 2)]]\n",
      "trials_short_theta [[25, (2, 3)], [29, (2, 4)], [29, (2, 3)], [65, (2, 1)], [66, (4, 2)], [81, (4, 1)]]\n",
      "transitions [[2 1]\n",
      " [2 3]\n",
      " [4 1]\n",
      " [4 2]]\n",
      "lewis20240110_.nwb 04_Rev2Session2\n",
      "trials_long_theta [[12, (3, 2)], [15, (4, 1)], [17, (4, 1)], [22, (3, 2)], [24, (4, 3)], [29, (1, 4)], [45, (2, 3)], [60, (4, 3)], [65, (1, 4)], [65, (1, 4)], [73, (1, 4)]]\n",
      "trials_short_theta [[12, (3, 4)], [12, (3, 1)], [12, (3, 3)], [24, (4, 2)], [26, (4, 1)], [26, (4, 2)], [45, (2, 3)], [45, (2, 3)], [45, (2, 3)]]\n",
      "transitions [[2 3]\n",
      " [4 1]]\n",
      "lewis20240110_.nwb 06_Rev2Session3\n",
      "trials_long_theta [[10, (1, 4)], [12, (4, 2)], [16, (4, 2)], [16, (4, 2)], [16, (4, 1)], [35, (1, 4)], [45, (2, 3)]]\n",
      "trials_short_theta [[11, (2, 3)], [16, (4, 3)], [20, (4, 3)], [24, (3, 4)], [51, (4, 3)]]\n",
      "transitions [[2 3]]\n",
      "lewis20240110_.nwb 08_Rev2Session4\n",
      "trials_long_theta []\n",
      "trials_short_theta [[15, (2, 3)]]\n",
      "transitions []\n",
      "lewis20240110_.nwb 10_Rev2Session5\n",
      "trials_long_theta [[18, (1, 4)]]\n",
      "trials_short_theta [[10, (4, 4)], [35, (4, 1)]]\n",
      "transitions []\n"
     ]
    }
   ],
   "source": [
    "paired = False\n",
    "type = 1\n",
    "\n",
    "diff_theta_transition_day = {}\n",
    "diff_nontheta_transition_day = {}\n",
    "\n",
    "for day in dates_to_plot:\n",
    "    nwb_file_name = animal.lower() + day + '.nwb'\n",
    "    nwb_copy_file_name = get_nwb_copy_filename(nwb_file_name)\n",
    "    session_interval, position_interval = runSessionNames(nwb_copy_file_name)\n",
    "\n",
    "    diff_theta_transition_session = []\n",
    "    diff_nontheta_transition_session = []\n",
    "    for ind in range(len(session_interval)):\n",
    "        session_name = session_interval[ind]\n",
    "        position_name = position_interval[ind]\n",
    "        diff_theta_transition_session_, diff_nontheta_transition_session_ = find_delta_t(\n",
    "            nwb_copy_file_name, session_name, proportion, replay_trials, replay_trials_non, paired, type = type) #replay_trials)\n",
    "        \n",
    "        diff_theta_transition_session.append(diff_theta_transition_session_)\n",
    "        diff_nontheta_transition_session.append(diff_nontheta_transition_session_)\n",
    "\n",
    "    diff_theta_transition_day[day] = diff_theta_transition_session\n",
    "    diff_nontheta_transition_day[day] = diff_nontheta_transition_session"
   ]
  },
  {
   "cell_type": "code",
   "execution_count": 247,
   "id": "7f169834-6b43-4428-b120-10b60580eca7",
   "metadata": {},
   "outputs": [
    {
     "data": {
      "text/plain": [
       "[Text(0, 0, 'theta'), Text(1, 0, 'nontheta')]"
      ]
     },
     "execution_count": 247,
     "metadata": {},
     "output_type": "execute_result"
    },
    {
     "data": {
      "image/png": "[encoded data removed]",
      "text/plain": [
       "<Figure size 300x300 with 1 Axes>"
      ]
     },
     "metadata": {},
     "output_type": "display_data"
    }
   ],
   "source": [
    "dates_to_plot = list(replay_trials[animal].keys())\n",
    "transitions = [(0,1),(0,2),(0,3),\n",
    "               (1,0),(1,2),(1,3),\n",
    "               (2,0),(2,1),(2,3),\n",
    "               (3,0),(3,1),(3,2)]\n",
    "\n",
    "# plotting stuff\n",
    "cmap = plt.cm.jet\n",
    "norm = plt.Normalize(vmin=0, vmax=len(transitions))\n",
    "\n",
    "fig,axes = plt.subplots(1,1,figsize = (3,3),sharex = True, sharey = True)\n",
    "\n",
    "sample_theta = []\n",
    "sample_nontheta = []\n",
    "\n",
    "d_ind = 0\n",
    "for d in diff_theta_transition_day.keys():\n",
    "    diff_theta_day = diff_theta_transition_day[d]\n",
    "    diff_nontheta_day = diff_nontheta_transition_day[d]\n",
    "\n",
    "    for diff_theta_ind in range(len(diff_theta_day)):\n",
    "        diff_theta = diff_theta_day[diff_theta_ind]\n",
    "        \n",
    "        for transition in diff_theta.keys():\n",
    "            transition_ind = (transition[0] - 1) * 3 + (transition[1] - 1)\n",
    "            #axe_i, axe_j = transition #int(np.floor(t_ind/3)), int(t_ind % 3)\n",
    "            axes.scatter(np.zeros_like(diff_theta[transition]) + np.random.uniform(0,0.1,len(diff_theta[transition])), diff_theta[transition],\n",
    "                                   color = cmap(norm(transition_ind)), alpha = 0.5)\n",
    "            for delta_t in diff_theta[transition]:\n",
    "                sample_theta.append(delta_t)\n",
    "\n",
    "    for diff_nontheta_ind in range(len(diff_nontheta_day)):\n",
    "        diff_nontheta = diff_nontheta_day[diff_nontheta_ind]\n",
    "        \n",
    "        for transition in diff_nontheta.keys():\n",
    "            transition_ind = (transition[0] - 1) * 3 + (transition[1] - 1)\n",
    "            #axe_i, axe_j = transition #int(np.floor(t_ind/3)), int(t_ind % 3)\n",
    "            axes.scatter(np.zeros_like(diff_nontheta[transition]) + 1 + np.random.uniform(0,0.1,len(diff_nontheta[transition])), diff_nontheta[transition],\n",
    "                                   color = cmap(norm(transition_ind)), alpha = 0.5)\n",
    "            for delta_t in diff_nontheta[transition]:\n",
    "                sample_nontheta.append(delta_t)\n",
    "            \n",
    "    d_ind += 1\n",
    "\n",
    "#statistic, pvalue = ranksums(sample_theta, sample_nontheta, \"greater\")\n",
    "res = permutation_test((sample_theta, sample_nontheta), statistic, vectorized=True,\n",
    "                       n_resamples=10000, alternative='greater')\n",
    "\n",
    "axes.set_ylabel(\"# of trials in between\")\n",
    "plt.suptitle(animal + '\\n would have been transition ' + str(type) + '\\n p value: '+str(np.round(res.pvalue,3)))    \n",
    "\n",
    "axes.set_xticks([0,1])\n",
    "axes.text(0.2,10,str(len(sample_theta)))\n",
    "axes.text(0.8,10,str(len(sample_nontheta)))\n",
    "\n",
    "axes.set_xticklabels([\"theta\",\"nontheta\"])"
   ]
  },
  {
   "cell_type": "code",
   "execution_count": 248,
   "id": "67301d4b-f8d2-444b-a1e9-75634a0956a3",
   "metadata": {},
   "outputs": [
    {
     "name": "stdout",
     "output_type": "stream",
     "text": [
      "len(sample_theta): 30,  len(sample_nontheta):25\n"
     ]
    }
   ],
   "source": [
    "print(f\"len(sample_theta): {len(sample_theta)},  len(sample_nontheta):{len(sample_nontheta)}\")"
   ]
  },
  {
   "cell_type": "code",
   "execution_count": 249,
   "id": "335c679f-d34f-4fb4-8708-8dacf46d6712",
   "metadata": {},
   "outputs": [
    {
     "data": {
      "image/png": "[encoded data removed]",
      "text/plain": [
       "<Figure size 800x800 with 16 Axes>"
      ]
     },
     "metadata": {},
     "output_type": "display_data"
    }
   ],
   "source": [
    "dates_to_plot = list(replay_trials[animal].keys())\n",
    "transitions = [(0,1),(0,2),(0,3),\n",
    "               (1,0),(1,2),(1,3),\n",
    "               (2,0),(2,1),(2,3),\n",
    "               (3,0),(3,1),(3,2)]\n",
    "\n",
    "# plotting stuff\n",
    "cmap = plt.cm.jet\n",
    "norm = plt.Normalize(vmin=0, vmax=len(transitions))\n",
    "\n",
    "fig,axes = plt.subplots(4,4,figsize = (8,8),sharex = True, sharey = True)\n",
    "\n",
    "d_ind = 0\n",
    "for d in diff_theta_transition_day.keys():\n",
    "    diff_theta_day = diff_theta_transition_day[d]\n",
    "    diff_nontheta_day = diff_nontheta_transition_day[d]\n",
    "    \n",
    "    for diff_theta_ind in range(len(diff_theta_day)):\n",
    "        diff_theta = diff_theta_day[diff_theta_ind]\n",
    "        \n",
    "        for transition in diff_theta.keys():\n",
    "            transition_ind = (transition[0] - 1) * 3 + (transition[1] - 1)\n",
    "            axe_i, axe_j = transition #int(np.floor(t_ind/3)), int(t_ind % 3)\n",
    "            axes[axe_i - 1, axe_j - 1].scatter(np.zeros_like(diff_theta[transition]), diff_theta[transition],\n",
    "                                   color = cmap(norm(transition_ind)), alpha = 0.5)\n",
    "\n",
    "    for diff_nontheta_ind in range(len(diff_nontheta_day)):\n",
    "        diff_nontheta = diff_nontheta_day[diff_nontheta_ind]\n",
    "        \n",
    "        for transition in diff_nontheta.keys():\n",
    "            transition_ind = (transition[0] - 1) * 3 + (transition[1] - 1)\n",
    "            axe_i, axe_j = transition #int(np.floor(t_ind/3)), int(t_ind % 3)\n",
    "            axes[axe_i - 1, axe_j - 1].scatter(np.zeros_like(diff_nontheta[transition]) + 1, diff_nontheta[transition],\n",
    "                                   color = cmap(norm(transition_ind)), alpha = 0.5)\n",
    "    d_ind += 1\n",
    "\n",
    "plt.suptitle(animal + '\\n would have been transition 1')    \n",
    "\n",
    "for axe_i in range(4):\n",
    "    for axe_j in range(4):\n",
    "        axes[axe_i, axe_j].set_xticks([0,1])\n",
    "        if axe_j == 0:\n",
    "            axes[axe_i, axe_j].set_ylabel(\"# of trials in between\")\n",
    "        if axe_i == 3:\n",
    "            axes[axe_i, axe_j].set_xticklabels([\"theta\",\"nontheta\"])\n",
    "        axes[axe_i, axe_j].set_title(f\"arm{axe_i+1} to {axe_j+1}\")"
   ]
  },
  {
   "cell_type": "code",
   "execution_count": 128,
   "id": "ad718827-ff3b-4a91-bf3c-1487bb239d68",
   "metadata": {},
   "outputs": [
    {
     "data": {
      "text/plain": [
       "[('eliot20221019_.nwb', '02_Seq2Session1', 10, 1),\n",
       " ('eliot20221019_.nwb', '02_Seq2Session1', 52, 3),\n",
       " ('eliot20221019_.nwb', '02_Seq2Session1', 57, 1),\n",
       " ('eliot20221019_.nwb', '02_Seq2Session1', 57, 1),\n",
       " ('eliot20221019_.nwb', '04_Seq2Session2', 16, 1),\n",
       " ('eliot20221019_.nwb', '04_Seq2Session2', 45, 1),\n",
       " ('eliot20221019_.nwb', '04_Seq2Session2', 76, 4),\n",
       " ('eliot20221019_.nwb', '04_Seq2Session2', 76, 2),\n",
       " ('eliot20221019_.nwb', '04_Seq2Session2', 81, 1),\n",
       " ('eliot20221019_.nwb', '04_Seq2Session2', 81, 3),\n",
       " ('eliot20221019_.nwb', '06_Seq2Session3', 8, 3),\n",
       " ('eliot20221019_.nwb', '06_Seq2Session3', 15, 3),\n",
       " ('eliot20221019_.nwb', '08_Seq2Session4', 25, 1),\n",
       " ('eliot20221019_.nwb', '08_Seq2Session4', 33, 3),\n",
       " ('eliot20221019_.nwb', '08_Seq2Session4', 34, 1),\n",
       " ('eliot20221019_.nwb', '08_Seq2Session4', 37, 1),\n",
       " ('eliot20221019_.nwb', '10_Seq2Session5', 26, 2)]"
      ]
     },
     "execution_count": 128,
     "metadata": {},
     "output_type": "execute_result"
    }
   ],
   "source": [
    "replay_trials[animal]['20221019']"
   ]
  },
  {
   "cell_type": "code",
   "execution_count": 60,
   "id": "94f78a72-2f1c-4455-8b24-4a6279e3df8a",
   "metadata": {},
   "outputs": [],
   "source": [
    "(nwb_copy_file_name, session_name, trial, _ ) = replay_trials[animal]['20221021'][1]"
   ]
  },
  {
   "cell_type": "code",
   "execution_count": 75,
   "id": "efa244c7-ea22-43eb-8062-1883d44f2397",
   "metadata": {},
   "outputs": [],
   "source": []
  },
  {
   "cell_type": "code",
   "execution_count": 30,
   "id": "c08d8bf9-4ed0-49b7-ae98-3cb27ac0fa22",
   "metadata": {},
   "outputs": [],
   "source": []
  },
  {
   "cell_type": "code",
   "execution_count": 160,
   "id": "1bbba20a-38a0-436e-b2fc-b516dfb13d77",
   "metadata": {
    "scrolled": true
   },
   "outputs": [],
   "source": []
  },
  {
   "cell_type": "code",
   "execution_count": 159,
   "id": "c025dfec-1a34-4730-be34-deea4ec64ea5",
   "metadata": {},
   "outputs": [
    {
     "name": "stdout",
     "output_type": "stream",
     "text": [
      "eliot20221019_.nwb\n",
      "trials_all_transition [8, 24, 28, 32, 47, 55, 59, 65, 75, 79]\n",
      "trials_theta_transition [52]\n",
      "trials_all_transition [3, 7, 12, 16, 33, 38, 44, 72, 80]\n",
      "trials_theta_transition [10 57]\n"
     ]
    }
   ],
   "source": [
    "d = '20221019'\n",
    "\n",
    "nwb_copy_file_name = 'eliot'+ d + '_.nwb'\n",
    "print(nwb_copy_file_name)\n",
    "session_name = '02_Seq2Session1'\n",
    "\n"
   ]
  },
  {
   "cell_type": "code",
   "execution_count": 161,
   "id": "d3291e1c-0832-4ab3-aa86-074320237288",
   "metadata": {},
   "outputs": [
    {
     "data": {
      "text/plain": [
       "[8, 5, 28]"
      ]
     },
     "execution_count": 161,
     "metadata": {},
     "output_type": "execute_result"
    }
   ],
   "source": [
    "diff_theta_all"
   ]
  },
  {
   "cell_type": "code",
   "execution_count": 162,
   "id": "8a1486a2-4808-4dbc-98d6-f4c5ea4f9026",
   "metadata": {},
   "outputs": [
    {
     "data": {
      "text/plain": [
       "[15, 4, 6]"
      ]
     },
     "execution_count": 162,
     "metadata": {},
     "output_type": "execute_result"
    }
   ],
   "source": [
    "diff_nontheta_all"
   ]
  },
  {
   "cell_type": "code",
   "execution_count": 141,
   "id": "9931d105-a266-44a2-b646-87b22e1b40ec",
   "metadata": {},
   "outputs": [
    {
     "data": {
      "text/plain": [
       "array([3, 1])"
      ]
     },
     "execution_count": 141,
     "metadata": {},
     "output_type": "execute_result"
    }
   ],
   "source": [
    "transition"
   ]
  },
  {
   "cell_type": "code",
   "execution_count": null,
   "id": "1e085746-790a-43c5-83d6-30c9c08de1fd",
   "metadata": {},
   "outputs": [],
   "source": [
    "# for a CoM trial, find would have been transition\n",
    "\n",
    "# find the time before it repeats\n",
    "\n"
   ]
  },
  {
   "cell_type": "code",
   "execution_count": 234,
   "id": "f5a9dc6e-cc55-4269-a118-b6307d7a7fe8",
   "metadata": {},
   "outputs": [],
   "source": [
    "animal = 'Lewis'\n",
    "\n",
    "dates_to_plot = ['20240105','20240106','20240107','20240108','20240109',\n",
    "                 '20240110']#'20240114']#'20240115','20240116','20240117','20240118','20240119','20240120']\n",
    "\n",
    "dates_to_plot = ['20240115','20240116','20240117','20240118','20240119','20240120']"
   ]
  },
  {
   "cell_type": "code",
   "execution_count": null,
   "id": "b93da294-a946-4fc3-8be4-21f7761a654a",
   "metadata": {},
   "outputs": [],
   "source": []
  },
  {
   "cell_type": "code",
   "execution_count": 244,
   "id": "342d4acc-fd91-407f-bfc2-5a319a4cdd9d",
   "metadata": {},
   "outputs": [
    {
     "data": {
      "image/png": "[encoded data removed]",
      "text/plain": [
       "<Figure size 800x800 with 16 Axes>"
      ]
     },
     "metadata": {},
     "output_type": "display_data"
    }
   ],
   "source": [
    "dates_to_plot = list(replay_trials[animal].keys())\n",
    "transitions = [(0,1),(0,2),(0,3),\n",
    "               (1,0),(1,2),(1,3),\n",
    "               (2,0),(2,1),(2,3),\n",
    "               (3,0),(3,1),(3,2)]\n",
    "\n",
    "# for aggregate plot\n",
    "T_wouldhave_count1 = []\n",
    "T_wouldhave_count2 = []\n",
    "behavior_count = []\n",
    "\n",
    "# plotting stuff\n",
    "cmap = plt.cm.jet\n",
    "norm = plt.Normalize(vmin=0, vmax=len(dates_to_plot))\n",
    "\n",
    "fig,axes = plt.subplots(4,4,figsize = (8,8),sharex = True, sharey = True)\n",
    "\n",
    "for d_ind in range(len(dates_to_plot)-1):\n",
    "    d = dates_to_plot[d_ind]\n",
    "    d2 = dates_to_plot[d_ind + 1]\n",
    "    if len(replay_trials[animal][d]) == 0:\n",
    "        continue\n",
    "    T, T_wouldhave, T_wouldhave2 = find_transitions(replay_trials[animal][d])\n",
    "    delta_behavior = find_behavior_sum(animal,None,[d,d2])\n",
    "\n",
    "    # for lumping across transitions\n",
    "    behavior_count.append(delta_behavior.ravel())\n",
    "    T_wouldhave_count1.append(T_wouldhave[list(T_wouldhave.keys())[0]].ravel())\n",
    "    T_wouldhave_count2.append(T_wouldhave2[list(T_wouldhave2.keys())[0]].ravel())\n",
    "\n",
    "    # for individual transitions\n",
    "    for t_ind in range(len(transitions)):\n",
    "        (i,j) = transitions[t_ind]\n",
    "        axe_i, axe_j = (i,j)#int(np.floor(t_ind/3)), int(t_ind % 3)\n",
    "        axes[axe_i, axe_j].scatter(T_wouldhave[list(T_wouldhave.keys())[0]][i,j], delta_behavior[i,j],\n",
    "                                   color = 'k', alpha = 0.5)\n",
    "                                  #color = cmap(norm(d_ind)))\n",
    "plt.suptitle(animal + '\\n would have been transition 1')    \n",
    "\n",
    "for axe_i in range(4):\n",
    "    for axe_j in range(4):\n",
    "        if axe_j == 0:\n",
    "            axes[axe_i, axe_j].set_ylabel(\"# of CoM w. long theta\")\n",
    "        if axe_i == 3:\n",
    "            axes[axe_i, axe_j].set_xlabel(\"changes(behavior)\")\n",
    "        axes[axe_i, axe_j].set_title(f\"arm{axe_i+1} to {axe_j+1}\")"
   ]
  },
  {
   "cell_type": "code",
   "execution_count": 240,
   "id": "8238ef9c-1a63-4e17-87d1-e639b0e4c562",
   "metadata": {},
   "outputs": [
    {
     "data": {
      "text/plain": [
       "Text(0.5, 1.0, 'Lewis\\n would have been transition 1')"
      ]
     },
     "execution_count": 240,
     "metadata": {},
     "output_type": "execute_result"
    },
    {
     "data": {
      "image/png": "[encoded data removed]",
      "text/plain": [
       "<Figure size 400x400 with 1 Axes>"
      ]
     },
     "metadata": {},
     "output_type": "display_data"
    }
   ],
   "source": [
    "fig,axes = plt.subplots(1,1,figsize = (4,4),sharex = True, sharey = True)\n",
    "x = np.concatenate(T_wouldhave_count1)\n",
    "y = np.concatenate(behavior_count)\n",
    "results, pvalue = fitLM(x,y)\n",
    "    \n",
    "axes.scatter(x, y, alpha = 0.4)\n",
    "x_plot=np.linspace(np.min(x),np.max(x),10).reshape(-1,1)\n",
    "y_plot=results.predict(sm.add_constant(x_plot))\n",
    "pvalue_beta = results.pvalues[1]\n",
    "    \n",
    "axes.plot(x_plot,y_plot,color='blue',linewidth=3,label = str(pvalue))\n",
    "axes.text(np.min(x),np.min(y),\n",
    "          f'p value = {np.round(pvalue_beta,4)}, slope is {np.round(results.params[1],4)}, R2 is {np.around(results.rsquared,3)}')\n",
    "axes.set_xlabel(\"# of (change of mind with long theta)\")\n",
    "axes.set_ylabel(\"changes in behavior\")\n",
    "\n",
    "#jitter = np.random.uniform(high = 0.2, size = len(np.concatenate(T_wouldhave_count1)))\n",
    "#axes.scatter(np.concatenate(T_wouldhave_count1),np.concatenate(behavior_count) > 0 + jitter, alpha = 0.4)\n",
    "\n",
    "plt.title(animal + '\\n would have been transition 1')"
   ]
  },
  {
   "cell_type": "code",
   "execution_count": 238,
   "id": "5aeba9d5-2723-41ee-bbc5-2663e8567ad7",
   "metadata": {},
   "outputs": [
    {
     "data": {
      "text/plain": [
       "Text(0.5, 1.0, 'Lewis\\n would have been transition 1')"
      ]
     },
     "execution_count": 238,
     "metadata": {},
     "output_type": "execute_result"
    },
    {
     "data": {
      "image/png": "[encoded data removed]",
      "text/plain": [
       "<Figure size 1000x400 with 1 Axes>"
      ]
     },
     "metadata": {},
     "output_type": "display_data"
    }
   ],
   "source": [
    "fig,axes = plt.subplots(1,1,figsize = (10,4),sharex = True, sharey = True)\n",
    "x = np.concatenate(T_wouldhave_count1)\n",
    "y = np.concatenate(behavior_count)\n",
    "#results, pvalue = fitLM(x,y)\n",
    "    \n",
    "axes.scatter(y, x > 0, alpha = 0.4)\n",
    "#x_plot=np.linspace(np.min(x),np.max(x),10).reshape(-1,1)\n",
    "#y_plot=results.predict(sm.add_constant(x_plot))\n",
    "#pvalue_beta = results.pvalues[1]\n",
    "    \n",
    "#axes.plot(x_plot,y_plot,color='blue',linewidth=3,label = str(pvalue))\n",
    "#axes.text(np.min(x),np.min(y),\n",
    "#          f'p value = {np.round(pvalue_beta,4)}, slope is {np.round(results.params[1],4)}, R2 is {np.around(results.rsquared,3)}')\n",
    "\n",
    "#jitter = np.random.uniform(high = 0.2, size = len(np.concatenate(T_wouldhave_count1)))\n",
    "#axes.scatter(np.concatenate(T_wouldhave_count1),np.concatenate(behavior_count) > 0 + jitter, alpha = 0.4)\n",
    "\n",
    "plt.title(animal + '\\n would have been transition 1')"
   ]
  },
  {
   "cell_type": "code",
   "execution_count": 245,
   "id": "7f54d691-f703-4ce0-a5ff-e93ca7163e7e",
   "metadata": {},
   "outputs": [
    {
     "data": {
      "image/png": "[encoded data removed]",
      "text/plain": [
       "<Figure size 800x800 with 16 Axes>"
      ]
     },
     "metadata": {},
     "output_type": "display_data"
    }
   ],
   "source": [
    "dates_to_plot = list(replay_trials[animal].keys())\n",
    "transitions = [(0,1),(0,2),(0,3),\n",
    "               (1,0),(1,2),(1,3),\n",
    "               (2,0),(2,1),(2,3),\n",
    "               (3,0),(3,1),(3,2)]\n",
    "\n",
    "# plotting stuff\n",
    "cmap = plt.cm.jet\n",
    "norm = plt.Normalize(vmin=0, vmax=len(dates_to_plot))\n",
    "\n",
    "fig,axes = plt.subplots(4,4,figsize = (8,8),sharex = True, sharey = True)\n",
    "\n",
    "for d_ind in range(len(dates_to_plot)-1):\n",
    "    d = dates_to_plot[d_ind]\n",
    "    d2 = dates_to_plot[d_ind + 1]\n",
    "    if len(replay_trials[animal][d]) == 0:\n",
    "        continue\n",
    "    T, T_wouldhave, T_wouldhave2 = find_transitions(replay_trials[animal][d])\n",
    "    delta_behavior = find_behavior_sum(animal,None,[d,d2])\n",
    "    for t_ind in range(len(transitions)):\n",
    "        (i,j) = transitions[t_ind]\n",
    "        axe_i, axe_j = (i,j)#int(np.floor(t_ind/3)), int(t_ind % 3)\n",
    "        axes[axe_i, axe_j].scatter(T_wouldhave2[list(T_wouldhave2.keys())[0]][i,j], delta_behavior[i,j],\n",
    "                                   color = 'k', alpha = 0.5)\n",
    "        \n",
    "                                  #color = cmap(norm(d_ind)))\n",
    "plt.suptitle(animal + '\\n would have been transition 2')\n",
    "for axe_i in range(4):\n",
    "    for axe_j in range(4):\n",
    "        if axe_j == 0:\n",
    "            axes[axe_i, axe_j].set_ylabel(\"# of CoM w. long theta\")\n",
    "        if axe_i == 3:\n",
    "            axes[axe_i, axe_j].set_xlabel(\"changes(behavior)\")\n",
    "        axes[axe_i, axe_j].set_title(f\"arm{axe_i+1} to {axe_j+1}\")"
   ]
  },
  {
   "cell_type": "code",
   "execution_count": 233,
   "id": "937b6b11-582c-4b23-81e7-48a03c09953d",
   "metadata": {},
   "outputs": [
    {
     "data": {
      "text/plain": [
       "Text(0.0, -0.26344086021505375, 'p value = 0.2286, slope is -0.01, R2 is 0.011')"
      ]
     },
     "execution_count": 233,
     "metadata": {},
     "output_type": "execute_result"
    },
    {
     "data": {
      "image/png": "[encoded data removed]",
      "text/plain": [
       "<Figure size 400x400 with 1 Axes>"
      ]
     },
     "metadata": {},
     "output_type": "display_data"
    }
   ],
   "source": [
    "fig,axes = plt.subplots(1,1,figsize = (4,4),sharex = True, sharey = True)\n",
    "x = np.concatenate(T_wouldhave_count2)\n",
    "y = np.concatenate(behavior_count)\n",
    "results, pvalue = fitLM(x,y)\n",
    "    \n",
    "axes.scatter(x, y, alpha = 0.4)\n",
    "x_plot=np.linspace(np.min(x),np.max(x),10).reshape(-1,1)\n",
    "y_plot=results.predict(sm.add_constant(x_plot))\n",
    "pvalue_beta = results.pvalues[1]\n",
    "    \n",
    "axes.plot(x_plot,y_plot,color='blue',linewidth=3,label = str(pvalue))\n",
    "axes.text(np.min(x),np.min(y),\n",
    "          f'p value = {np.round(pvalue_beta,4)}, slope is {np.round(results.params[1],4)}, R2 is {np.around(results.rsquared,3)}')\n",
    "\n",
    "#jitter = np.random.uniform(high = 0.2, size = len(np.concatenate(T_wouldhave_count1)))\n",
    "#axes.scatter(np.concatenate(T_wouldhave_count1),np.concatenate(behavior_count) > 0 + jitter, alpha = 0.4)"
   ]
  },
  {
   "cell_type": "code",
   "execution_count": null,
   "id": "a8ab420b-b630-4b98-b5b9-f47f13642216",
   "metadata": {},
   "outputs": [],
   "source": []
  }
 ],
 "metadata": {
  "kernelspec": {
   "display_name": "Python 3 (ipykernel)",
   "language": "python",
   "name": "python3"
  },
  "language_info": {
   "codemirror_mode": {
    "name": "ipython",
    "version": 3
   },
   "file_extension": ".py",
   "mimetype": "text/x-python",
   "name": "python",
   "nbconvert_exporter": "python",
   "pygments_lexer": "ipython3",
   "version": "3.10.17"
  }
 },
 "nbformat": 4,
 "nbformat_minor": 5
}
