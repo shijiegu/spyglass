{
 "cells": [
  {
   "cell_type": "markdown",
   "id": "ae210217-7dfa-42a9-9e67-c561471a95d8",
   "metadata": {},
   "source": [
    "### Change of Mind\n",
    "#### Are the remote content among the future arms the animal will go?\n",
    "##### The 3 GLMS are \n",
    "    - predictors are \"arm is imminent choice, or past_reward, or past\"; response is \"arm is represented in theta\".\n",
    "    - predictors are arm is \"represented in theta\"; response is \"arm is the final choice\".\n",
    "    - predictors are arm is \"represented in theta\"; response is \"arm is in future visits on this trial after.\"\n",
    "Method:\n",
    "For each trial with remote theta content, we obtain 4 entries of predictor and response combination, one for each arm. Each predictor and response combination consistents of booleans (1 and 0s) of whether an arm is in a category. For example in model 2, suppose on trial 22 the animal has remote representation of arm 1 and arm 4 before he finally picks arm 1, we obtain entries (1,1) - because arm 1 is in the set of replayed arm and because it is the final choice by the animal, and (0,0), (0,0) - because arm 2 and 3 are neither replayed nor chosen, and (1,0) - because arm 4 is replayed but is not chosen."
   ]
  },
  {
   "cell_type": "code",
   "execution_count": 1,
   "id": "f0910b91-b3cc-4982-99e3-e79623cf22ce",
   "metadata": {},
   "outputs": [],
   "source": [
    "%reload_ext autoreload\n",
    "%autoreload 2"
   ]
  },
  {
   "cell_type": "code",
   "execution_count": 2,
   "id": "3fb8ed3b-55b7-496a-ad05-916690d45893",
   "metadata": {},
   "outputs": [
    {
     "name": "stderr",
     "output_type": "stream",
     "text": [
      "[2025-01-03 10:06:27,843][INFO]: Connecting shijiegu-alt@lmf-db.cin.ucsf.edu:3306\n",
      "[2025-01-03 10:06:27,879][INFO]: Connected shijiegu-alt@lmf-db.cin.ucsf.edu:3306\n"
     ]
    }
   ],
   "source": [
    "import spyglass as nd\n",
    "import pandas as pd\n",
    "import numpy as np\n",
    "import xarray as xr\n",
    "from scipy import stats\n",
    "from scipy import linalg\n",
    "import os\n",
    "import pickle\n",
    "import matplotlib.pyplot as plt\n",
    "from ripple_detection.core import segment_boolean_series\n",
    "\n",
    "from spyglass.common import (Session, IntervalList,LabMember, LabTeam, Raw, Session, Nwbfile,\n",
    "                            Electrode,LFPBand,interval_list_intersect)\n",
    "from spyglass.common import TaskEpoch\n",
    "from spyglass.spikesorting.v0 import (SortGroup, \n",
    "                                    SpikeSortingRecording,SpikeSortingRecordingSelection)\n",
    "from spyglass.utils.nwb_helper_fn import get_nwb_copy_filename\n",
    "from spyglass.common.common_position import IntervalPositionInfo, RawPosition, IntervalLinearizedPosition, TrackGraph"
   ]
  },
  {
   "cell_type": "code",
   "execution_count": 186,
   "id": "b33eddc2-76b1-4310-ae7e-8bda2913229e",
   "metadata": {},
   "outputs": [],
   "source": [
    "from spyglass.shijiegu.Analysis_SGU import TrialChoice,EpochPos,MUA,get_linearization_map\n",
    "from spyglass.shijiegu.decodeHelpers import runSessionNames\n",
    "from spyglass.shijiegu.ripple_add_replay import plot_decode_spiking,select_subset_helper\n",
    "from spyglass.shijiegu.changeOfMind import (find_turnaround_time, findProportion,\n",
    "            find_trials, load_epoch_data_wrapper, find_direction, find_trials_animal)\n",
    "from spyglass.shijiegu.changeOfMind_triggered import turnaround_triggered_position, turnaround_triggered_decode\n",
    "from spyglass.shijiegu.changeOfMind_remote import find_remote_theta_animal, find_triggered_session, do_GLM\n",
    "from spyglass.shijiegu.load import load_decode"
   ]
  },
  {
   "cell_type": "code",
   "execution_count": 47,
   "id": "ffa33c6a-0cd6-473e-a886-0395012c4808",
   "metadata": {},
   "outputs": [],
   "source": [
    "import statsmodels.api as sm"
   ]
  },
  {
   "cell_type": "code",
   "execution_count": 424,
   "id": "4ab1e985-6e27-455b-8d03-72a051882ebd",
   "metadata": {
    "scrolled": true
   },
   "outputs": [
    {
     "name": "stderr",
     "output_type": "stream",
     "text": [
      "[13:46:25][WARNING] Spyglass: Deprecation: this class has been moved out of spyglass.common.common_position\n",
      "\tIntervalLinearizedPosition -> spyglass.linearization.v0.main.IntervalLinearizedPosition\n",
      "Please use the new location.\n"
     ]
    },
    {
     "name": "stdout",
     "output_type": "stream",
     "text": [
      "currently investigating:\n",
      "02_Rev2Session1\n",
      "pos 1 valid times\n"
     ]
    },
    {
     "name": "stderr",
     "output_type": "stream",
     "text": [
      "[13:46:26][WARNING] Spyglass: Deprecation: this class has been moved out of spyglass.common.common_position\n",
      "\tIntervalLinearizedPosition -> spyglass.linearization.v0.main.IntervalLinearizedPosition\n",
      "Please use the new location.\n"
     ]
    },
    {
     "name": "stdout",
     "output_type": "stream",
     "text": [
      "currently investigating:\n",
      "02_Rev2Session1\n",
      "pos 1 valid times\n"
     ]
    },
    {
     "name": "stderr",
     "output_type": "stream",
     "text": [
      "[13:46:37][WARNING] Spyglass: Deprecation: this class has been moved out of spyglass.common.common_position\n",
      "\tIntervalLinearizedPosition -> spyglass.linearization.v0.main.IntervalLinearizedPosition\n",
      "Please use the new location.\n"
     ]
    },
    {
     "name": "stdout",
     "output_type": "stream",
     "text": [
      "currently investigating:\n",
      "04_Rev2Session2\n",
      "pos 3 valid times\n"
     ]
    },
    {
     "name": "stderr",
     "output_type": "stream",
     "text": [
      "[13:46:38][WARNING] Spyglass: Deprecation: this class has been moved out of spyglass.common.common_position\n",
      "\tIntervalLinearizedPosition -> spyglass.linearization.v0.main.IntervalLinearizedPosition\n",
      "Please use the new location.\n"
     ]
    },
    {
     "name": "stdout",
     "output_type": "stream",
     "text": [
      "currently investigating:\n",
      "04_Rev2Session2\n",
      "pos 3 valid times\n"
     ]
    },
    {
     "name": "stderr",
     "output_type": "stream",
     "text": [
      "[13:46:43][WARNING] Spyglass: Deprecation: this class has been moved out of spyglass.common.common_position\n",
      "\tIntervalLinearizedPosition -> spyglass.linearization.v0.main.IntervalLinearizedPosition\n",
      "Please use the new location.\n"
     ]
    },
    {
     "name": "stdout",
     "output_type": "stream",
     "text": [
      "currently investigating:\n",
      "06_Rev2Session3\n",
      "pos 5 valid times\n"
     ]
    },
    {
     "name": "stderr",
     "output_type": "stream",
     "text": [
      "[13:46:45][WARNING] Spyglass: Deprecation: this class has been moved out of spyglass.common.common_position\n",
      "\tIntervalLinearizedPosition -> spyglass.linearization.v0.main.IntervalLinearizedPosition\n",
      "Please use the new location.\n"
     ]
    },
    {
     "name": "stdout",
     "output_type": "stream",
     "text": [
      "currently investigating:\n",
      "06_Rev2Session3\n",
      "pos 5 valid times\n"
     ]
    },
    {
     "name": "stderr",
     "output_type": "stream",
     "text": [
      "[13:46:54][WARNING] Spyglass: Deprecation: this class has been moved out of spyglass.common.common_position\n",
      "\tIntervalLinearizedPosition -> spyglass.linearization.v0.main.IntervalLinearizedPosition\n",
      "Please use the new location.\n"
     ]
    },
    {
     "name": "stdout",
     "output_type": "stream",
     "text": [
      "currently investigating:\n",
      "08_Rev2Session4\n",
      "pos 7 valid times\n"
     ]
    },
    {
     "name": "stderr",
     "output_type": "stream",
     "text": [
      "[13:46:55][WARNING] Spyglass: Deprecation: this class has been moved out of spyglass.common.common_position\n",
      "\tIntervalLinearizedPosition -> spyglass.linearization.v0.main.IntervalLinearizedPosition\n",
      "Please use the new location.\n"
     ]
    },
    {
     "name": "stdout",
     "output_type": "stream",
     "text": [
      "currently investigating:\n",
      "08_Rev2Session4\n",
      "pos 7 valid times\n"
     ]
    },
    {
     "name": "stderr",
     "output_type": "stream",
     "text": [
      "[13:46:59][WARNING] Spyglass: Deprecation: this class has been moved out of spyglass.common.common_position\n",
      "\tIntervalLinearizedPosition -> spyglass.linearization.v0.main.IntervalLinearizedPosition\n",
      "Please use the new location.\n"
     ]
    },
    {
     "name": "stdout",
     "output_type": "stream",
     "text": [
      "currently investigating:\n",
      "10_Rev2Session5\n",
      "pos 9 valid times\n"
     ]
    },
    {
     "name": "stderr",
     "output_type": "stream",
     "text": [
      "[13:46:59][WARNING] Spyglass: Deprecation: this class has been moved out of spyglass.common.common_position\n",
      "\tIntervalLinearizedPosition -> spyglass.linearization.v0.main.IntervalLinearizedPosition\n",
      "Please use the new location.\n"
     ]
    },
    {
     "name": "stdout",
     "output_type": "stream",
     "text": [
      "currently investigating:\n",
      "10_Rev2Session5\n",
      "pos 9 valid times\n"
     ]
    },
    {
     "name": "stderr",
     "output_type": "stream",
     "text": [
      "[13:47:00][WARNING] Spyglass: Deprecation: this class has been moved out of spyglass.common.common_position\n",
      "\tIntervalLinearizedPosition -> spyglass.linearization.v0.main.IntervalLinearizedPosition\n",
      "Please use the new location.\n"
     ]
    },
    {
     "name": "stdout",
     "output_type": "stream",
     "text": [
      "currently investigating:\n",
      "02_Rev2Session1\n",
      "pos 1 valid times\n"
     ]
    },
    {
     "name": "stderr",
     "output_type": "stream",
     "text": [
      "[13:47:01][WARNING] Spyglass: Deprecation: this class has been moved out of spyglass.common.common_position\n",
      "\tIntervalLinearizedPosition -> spyglass.linearization.v0.main.IntervalLinearizedPosition\n",
      "Please use the new location.\n"
     ]
    },
    {
     "name": "stdout",
     "output_type": "stream",
     "text": [
      "currently investigating:\n",
      "02_Rev2Session1\n",
      "pos 1 valid times\n"
     ]
    },
    {
     "name": "stderr",
     "output_type": "stream",
     "text": [
      "[13:47:05][WARNING] Spyglass: Deprecation: this class has been moved out of spyglass.common.common_position\n",
      "\tIntervalLinearizedPosition -> spyglass.linearization.v0.main.IntervalLinearizedPosition\n",
      "Please use the new location.\n"
     ]
    },
    {
     "name": "stdout",
     "output_type": "stream",
     "text": [
      "currently investigating:\n",
      "04_Rev2Session2\n",
      "pos 3 valid times\n"
     ]
    },
    {
     "name": "stderr",
     "output_type": "stream",
     "text": [
      "[13:47:06][WARNING] Spyglass: Deprecation: this class has been moved out of spyglass.common.common_position\n",
      "\tIntervalLinearizedPosition -> spyglass.linearization.v0.main.IntervalLinearizedPosition\n",
      "Please use the new location.\n"
     ]
    },
    {
     "name": "stdout",
     "output_type": "stream",
     "text": [
      "currently investigating:\n",
      "04_Rev2Session2\n",
      "pos 3 valid times\n"
     ]
    },
    {
     "name": "stderr",
     "output_type": "stream",
     "text": [
      "[13:47:10][WARNING] Spyglass: Deprecation: this class has been moved out of spyglass.common.common_position\n",
      "\tIntervalLinearizedPosition -> spyglass.linearization.v0.main.IntervalLinearizedPosition\n",
      "Please use the new location.\n"
     ]
    },
    {
     "name": "stdout",
     "output_type": "stream",
     "text": [
      "currently investigating:\n",
      "06_Rev2Session3\n",
      "pos 5 valid times\n"
     ]
    },
    {
     "name": "stderr",
     "output_type": "stream",
     "text": [
      "[13:47:11][WARNING] Spyglass: Deprecation: this class has been moved out of spyglass.common.common_position\n",
      "\tIntervalLinearizedPosition -> spyglass.linearization.v0.main.IntervalLinearizedPosition\n",
      "Please use the new location.\n"
     ]
    },
    {
     "name": "stdout",
     "output_type": "stream",
     "text": [
      "currently investigating:\n",
      "06_Rev2Session3\n",
      "pos 5 valid times\n"
     ]
    },
    {
     "name": "stderr",
     "output_type": "stream",
     "text": [
      "[13:47:15][WARNING] Spyglass: Deprecation: this class has been moved out of spyglass.common.common_position\n",
      "\tIntervalLinearizedPosition -> spyglass.linearization.v0.main.IntervalLinearizedPosition\n",
      "Please use the new location.\n"
     ]
    },
    {
     "name": "stdout",
     "output_type": "stream",
     "text": [
      "currently investigating:\n",
      "08_Rev2Session4\n",
      "pos 7 valid times\n"
     ]
    },
    {
     "name": "stderr",
     "output_type": "stream",
     "text": [
      "[13:47:16][WARNING] Spyglass: Deprecation: this class has been moved out of spyglass.common.common_position\n",
      "\tIntervalLinearizedPosition -> spyglass.linearization.v0.main.IntervalLinearizedPosition\n",
      "Please use the new location.\n"
     ]
    },
    {
     "name": "stdout",
     "output_type": "stream",
     "text": [
      "currently investigating:\n",
      "08_Rev2Session4\n",
      "pos 7 valid times\n"
     ]
    },
    {
     "name": "stderr",
     "output_type": "stream",
     "text": [
      "[13:47:17][WARNING] Spyglass: Deprecation: this class has been moved out of spyglass.common.common_position\n",
      "\tIntervalLinearizedPosition -> spyglass.linearization.v0.main.IntervalLinearizedPosition\n",
      "Please use the new location.\n"
     ]
    },
    {
     "name": "stdout",
     "output_type": "stream",
     "text": [
      "currently investigating:\n",
      "02_Rev2Session1\n",
      "pos 1 valid times\n"
     ]
    },
    {
     "name": "stderr",
     "output_type": "stream",
     "text": [
      "[13:47:18][WARNING] Spyglass: Deprecation: this class has been moved out of spyglass.common.common_position\n",
      "\tIntervalLinearizedPosition -> spyglass.linearization.v0.main.IntervalLinearizedPosition\n",
      "Please use the new location.\n"
     ]
    },
    {
     "name": "stdout",
     "output_type": "stream",
     "text": [
      "currently investigating:\n",
      "02_Rev2Session1\n",
      "pos 1 valid times\n"
     ]
    },
    {
     "name": "stderr",
     "output_type": "stream",
     "text": [
      "[13:47:22][WARNING] Spyglass: Deprecation: this class has been moved out of spyglass.common.common_position\n",
      "\tIntervalLinearizedPosition -> spyglass.linearization.v0.main.IntervalLinearizedPosition\n",
      "Please use the new location.\n"
     ]
    },
    {
     "name": "stdout",
     "output_type": "stream",
     "text": [
      "currently investigating:\n",
      "04_Rev2Session2\n",
      "pos 3 valid times\n"
     ]
    },
    {
     "name": "stderr",
     "output_type": "stream",
     "text": [
      "[13:47:22][WARNING] Spyglass: Deprecation: this class has been moved out of spyglass.common.common_position\n",
      "\tIntervalLinearizedPosition -> spyglass.linearization.v0.main.IntervalLinearizedPosition\n",
      "Please use the new location.\n"
     ]
    },
    {
     "name": "stdout",
     "output_type": "stream",
     "text": [
      "currently investigating:\n",
      "04_Rev2Session2\n",
      "pos 3 valid times\n"
     ]
    },
    {
     "name": "stderr",
     "output_type": "stream",
     "text": [
      "[13:47:25][WARNING] Spyglass: Deprecation: this class has been moved out of spyglass.common.common_position\n",
      "\tIntervalLinearizedPosition -> spyglass.linearization.v0.main.IntervalLinearizedPosition\n",
      "Please use the new location.\n"
     ]
    },
    {
     "name": "stdout",
     "output_type": "stream",
     "text": [
      "currently investigating:\n",
      "06_Rev2Session3\n",
      "pos 5 valid times\n"
     ]
    },
    {
     "name": "stderr",
     "output_type": "stream",
     "text": [
      "[13:47:26][WARNING] Spyglass: Deprecation: this class has been moved out of spyglass.common.common_position\n",
      "\tIntervalLinearizedPosition -> spyglass.linearization.v0.main.IntervalLinearizedPosition\n",
      "Please use the new location.\n"
     ]
    },
    {
     "name": "stdout",
     "output_type": "stream",
     "text": [
      "currently investigating:\n",
      "06_Rev2Session3\n",
      "pos 5 valid times\n"
     ]
    },
    {
     "name": "stderr",
     "output_type": "stream",
     "text": [
      "[13:47:29][WARNING] Spyglass: Deprecation: this class has been moved out of spyglass.common.common_position\n",
      "\tIntervalLinearizedPosition -> spyglass.linearization.v0.main.IntervalLinearizedPosition\n",
      "Please use the new location.\n"
     ]
    },
    {
     "name": "stdout",
     "output_type": "stream",
     "text": [
      "currently investigating:\n",
      "08_Rev2Session4\n",
      "pos 7 valid times\n"
     ]
    },
    {
     "name": "stderr",
     "output_type": "stream",
     "text": [
      "[13:47:30][WARNING] Spyglass: Deprecation: this class has been moved out of spyglass.common.common_position\n",
      "\tIntervalLinearizedPosition -> spyglass.linearization.v0.main.IntervalLinearizedPosition\n",
      "Please use the new location.\n"
     ]
    },
    {
     "name": "stdout",
     "output_type": "stream",
     "text": [
      "currently investigating:\n",
      "08_Rev2Session4\n",
      "pos 7 valid times\n"
     ]
    },
    {
     "name": "stderr",
     "output_type": "stream",
     "text": [
      "[13:47:33][WARNING] Spyglass: Deprecation: this class has been moved out of spyglass.common.common_position\n",
      "\tIntervalLinearizedPosition -> spyglass.linearization.v0.main.IntervalLinearizedPosition\n",
      "Please use the new location.\n"
     ]
    },
    {
     "name": "stdout",
     "output_type": "stream",
     "text": [
      "currently investigating:\n",
      "10_Rev2Session5\n",
      "pos 9 valid times\n"
     ]
    },
    {
     "name": "stderr",
     "output_type": "stream",
     "text": [
      "[13:47:34][WARNING] Spyglass: Deprecation: this class has been moved out of spyglass.common.common_position\n",
      "\tIntervalLinearizedPosition -> spyglass.linearization.v0.main.IntervalLinearizedPosition\n",
      "Please use the new location.\n"
     ]
    },
    {
     "name": "stdout",
     "output_type": "stream",
     "text": [
      "currently investigating:\n",
      "10_Rev2Session5\n",
      "pos 9 valid times\n"
     ]
    },
    {
     "name": "stderr",
     "output_type": "stream",
     "text": [
      "[13:47:35][WARNING] Spyglass: Deprecation: this class has been moved out of spyglass.common.common_position\n",
      "\tIntervalLinearizedPosition -> spyglass.linearization.v0.main.IntervalLinearizedPosition\n",
      "Please use the new location.\n"
     ]
    },
    {
     "name": "stdout",
     "output_type": "stream",
     "text": [
      "currently investigating:\n",
      "02_Rev2Session1\n",
      "pos 1 valid times\n"
     ]
    },
    {
     "name": "stderr",
     "output_type": "stream",
     "text": [
      "[13:47:36][WARNING] Spyglass: Deprecation: this class has been moved out of spyglass.common.common_position\n",
      "\tIntervalLinearizedPosition -> spyglass.linearization.v0.main.IntervalLinearizedPosition\n",
      "Please use the new location.\n"
     ]
    },
    {
     "name": "stdout",
     "output_type": "stream",
     "text": [
      "currently investigating:\n",
      "02_Rev2Session1\n",
      "pos 1 valid times\n"
     ]
    },
    {
     "name": "stderr",
     "output_type": "stream",
     "text": [
      "[13:47:41][WARNING] Spyglass: Deprecation: this class has been moved out of spyglass.common.common_position\n",
      "\tIntervalLinearizedPosition -> spyglass.linearization.v0.main.IntervalLinearizedPosition\n",
      "Please use the new location.\n"
     ]
    },
    {
     "name": "stdout",
     "output_type": "stream",
     "text": [
      "currently investigating:\n",
      "04_Rev2Session2\n",
      "pos 3 valid times\n"
     ]
    },
    {
     "name": "stderr",
     "output_type": "stream",
     "text": [
      "[13:47:41][WARNING] Spyglass: Deprecation: this class has been moved out of spyglass.common.common_position\n",
      "\tIntervalLinearizedPosition -> spyglass.linearization.v0.main.IntervalLinearizedPosition\n",
      "Please use the new location.\n"
     ]
    },
    {
     "name": "stdout",
     "output_type": "stream",
     "text": [
      "currently investigating:\n",
      "04_Rev2Session2\n",
      "pos 3 valid times\n"
     ]
    },
    {
     "name": "stderr",
     "output_type": "stream",
     "text": [
      "[13:47:49][WARNING] Spyglass: Deprecation: this class has been moved out of spyglass.common.common_position\n",
      "\tIntervalLinearizedPosition -> spyglass.linearization.v0.main.IntervalLinearizedPosition\n",
      "Please use the new location.\n"
     ]
    },
    {
     "name": "stdout",
     "output_type": "stream",
     "text": [
      "currently investigating:\n",
      "06_Rev2Session3\n",
      "pos 5 valid times\n"
     ]
    },
    {
     "name": "stderr",
     "output_type": "stream",
     "text": [
      "[13:47:50][WARNING] Spyglass: Deprecation: this class has been moved out of spyglass.common.common_position\n",
      "\tIntervalLinearizedPosition -> spyglass.linearization.v0.main.IntervalLinearizedPosition\n",
      "Please use the new location.\n"
     ]
    },
    {
     "name": "stdout",
     "output_type": "stream",
     "text": [
      "currently investigating:\n",
      "06_Rev2Session3\n",
      "pos 5 valid times\n"
     ]
    },
    {
     "name": "stderr",
     "output_type": "stream",
     "text": [
      "[13:47:53][WARNING] Spyglass: Deprecation: this class has been moved out of spyglass.common.common_position\n",
      "\tIntervalLinearizedPosition -> spyglass.linearization.v0.main.IntervalLinearizedPosition\n",
      "Please use the new location.\n"
     ]
    },
    {
     "name": "stdout",
     "output_type": "stream",
     "text": [
      "currently investigating:\n",
      "08_Rev2Session4\n",
      "pos 7 valid times\n"
     ]
    },
    {
     "name": "stderr",
     "output_type": "stream",
     "text": [
      "[13:47:54][WARNING] Spyglass: Deprecation: this class has been moved out of spyglass.common.common_position\n",
      "\tIntervalLinearizedPosition -> spyglass.linearization.v0.main.IntervalLinearizedPosition\n",
      "Please use the new location.\n"
     ]
    },
    {
     "name": "stdout",
     "output_type": "stream",
     "text": [
      "currently investigating:\n",
      "08_Rev2Session4\n",
      "pos 7 valid times\n"
     ]
    },
    {
     "name": "stderr",
     "output_type": "stream",
     "text": [
      "[13:47:58][WARNING] Spyglass: Deprecation: this class has been moved out of spyglass.common.common_position\n",
      "\tIntervalLinearizedPosition -> spyglass.linearization.v0.main.IntervalLinearizedPosition\n",
      "Please use the new location.\n"
     ]
    },
    {
     "name": "stdout",
     "output_type": "stream",
     "text": [
      "currently investigating:\n",
      "02_Rev2Session1\n",
      "pos 1 valid times\n"
     ]
    },
    {
     "name": "stderr",
     "output_type": "stream",
     "text": [
      "[13:47:59][WARNING] Spyglass: Deprecation: this class has been moved out of spyglass.common.common_position\n",
      "\tIntervalLinearizedPosition -> spyglass.linearization.v0.main.IntervalLinearizedPosition\n",
      "Please use the new location.\n"
     ]
    },
    {
     "name": "stdout",
     "output_type": "stream",
     "text": [
      "currently investigating:\n",
      "02_Rev2Session1\n",
      "pos 1 valid times\n"
     ]
    },
    {
     "name": "stderr",
     "output_type": "stream",
     "text": [
      "[13:48:03][WARNING] Spyglass: Deprecation: this class has been moved out of spyglass.common.common_position\n",
      "\tIntervalLinearizedPosition -> spyglass.linearization.v0.main.IntervalLinearizedPosition\n",
      "Please use the new location.\n"
     ]
    },
    {
     "name": "stdout",
     "output_type": "stream",
     "text": [
      "currently investigating:\n",
      "04_Rev2Session2\n",
      "pos 3 valid times\n"
     ]
    },
    {
     "name": "stderr",
     "output_type": "stream",
     "text": [
      "[13:48:04][WARNING] Spyglass: Deprecation: this class has been moved out of spyglass.common.common_position\n",
      "\tIntervalLinearizedPosition -> spyglass.linearization.v0.main.IntervalLinearizedPosition\n",
      "Please use the new location.\n"
     ]
    },
    {
     "name": "stdout",
     "output_type": "stream",
     "text": [
      "currently investigating:\n",
      "04_Rev2Session2\n",
      "pos 3 valid times\n"
     ]
    },
    {
     "name": "stderr",
     "output_type": "stream",
     "text": [
      "[13:48:10][WARNING] Spyglass: Deprecation: this class has been moved out of spyglass.common.common_position\n",
      "\tIntervalLinearizedPosition -> spyglass.linearization.v0.main.IntervalLinearizedPosition\n",
      "Please use the new location.\n"
     ]
    },
    {
     "name": "stdout",
     "output_type": "stream",
     "text": [
      "currently investigating:\n",
      "06_Rev2Session3\n",
      "pos 5 valid times\n"
     ]
    },
    {
     "name": "stderr",
     "output_type": "stream",
     "text": [
      "[13:48:11][WARNING] Spyglass: Deprecation: this class has been moved out of spyglass.common.common_position\n",
      "\tIntervalLinearizedPosition -> spyglass.linearization.v0.main.IntervalLinearizedPosition\n",
      "Please use the new location.\n"
     ]
    },
    {
     "name": "stdout",
     "output_type": "stream",
     "text": [
      "currently investigating:\n",
      "06_Rev2Session3\n",
      "pos 5 valid times\n"
     ]
    },
    {
     "name": "stderr",
     "output_type": "stream",
     "text": [
      "[13:48:14][WARNING] Spyglass: Deprecation: this class has been moved out of spyglass.common.common_position\n",
      "\tIntervalLinearizedPosition -> spyglass.linearization.v0.main.IntervalLinearizedPosition\n",
      "Please use the new location.\n"
     ]
    },
    {
     "name": "stdout",
     "output_type": "stream",
     "text": [
      "currently investigating:\n",
      "08_Rev2Session4\n",
      "pos 7 valid times\n"
     ]
    },
    {
     "name": "stderr",
     "output_type": "stream",
     "text": [
      "[13:48:15][WARNING] Spyglass: Deprecation: this class has been moved out of spyglass.common.common_position\n",
      "\tIntervalLinearizedPosition -> spyglass.linearization.v0.main.IntervalLinearizedPosition\n",
      "Please use the new location.\n"
     ]
    },
    {
     "name": "stdout",
     "output_type": "stream",
     "text": [
      "currently investigating:\n",
      "08_Rev2Session4\n",
      "pos 7 valid times\n"
     ]
    },
    {
     "name": "stderr",
     "output_type": "stream",
     "text": [
      "[13:48:16][WARNING] Spyglass: Deprecation: this class has been moved out of spyglass.common.common_position\n",
      "\tIntervalLinearizedPosition -> spyglass.linearization.v0.main.IntervalLinearizedPosition\n",
      "Please use the new location.\n"
     ]
    },
    {
     "name": "stdout",
     "output_type": "stream",
     "text": [
      "currently investigating:\n",
      "02_Rev2Session1\n",
      "pos 1 valid times\n"
     ]
    },
    {
     "name": "stderr",
     "output_type": "stream",
     "text": [
      "[13:48:17][WARNING] Spyglass: Deprecation: this class has been moved out of spyglass.common.common_position\n",
      "\tIntervalLinearizedPosition -> spyglass.linearization.v0.main.IntervalLinearizedPosition\n",
      "Please use the new location.\n"
     ]
    },
    {
     "name": "stdout",
     "output_type": "stream",
     "text": [
      "currently investigating:\n",
      "02_Rev2Session1\n",
      "pos 1 valid times\n"
     ]
    },
    {
     "name": "stderr",
     "output_type": "stream",
     "text": [
      "[13:48:23][WARNING] Spyglass: Deprecation: this class has been moved out of spyglass.common.common_position\n",
      "\tIntervalLinearizedPosition -> spyglass.linearization.v0.main.IntervalLinearizedPosition\n",
      "Please use the new location.\n"
     ]
    },
    {
     "name": "stdout",
     "output_type": "stream",
     "text": [
      "currently investigating:\n",
      "04_Rev2Session2\n",
      "pos 3 valid times\n"
     ]
    },
    {
     "name": "stderr",
     "output_type": "stream",
     "text": [
      "[13:48:24][WARNING] Spyglass: Deprecation: this class has been moved out of spyglass.common.common_position\n",
      "\tIntervalLinearizedPosition -> spyglass.linearization.v0.main.IntervalLinearizedPosition\n",
      "Please use the new location.\n"
     ]
    },
    {
     "name": "stdout",
     "output_type": "stream",
     "text": [
      "currently investigating:\n",
      "04_Rev2Session2\n",
      "pos 3 valid times\n"
     ]
    },
    {
     "name": "stderr",
     "output_type": "stream",
     "text": [
      "[13:48:31][WARNING] Spyglass: Deprecation: this class has been moved out of spyglass.common.common_position\n",
      "\tIntervalLinearizedPosition -> spyglass.linearization.v0.main.IntervalLinearizedPosition\n",
      "Please use the new location.\n"
     ]
    },
    {
     "name": "stdout",
     "output_type": "stream",
     "text": [
      "currently investigating:\n",
      "06_Rev2Session3\n",
      "pos 5 valid times\n"
     ]
    },
    {
     "name": "stderr",
     "output_type": "stream",
     "text": [
      "[13:48:31][WARNING] Spyglass: Deprecation: this class has been moved out of spyglass.common.common_position\n",
      "\tIntervalLinearizedPosition -> spyglass.linearization.v0.main.IntervalLinearizedPosition\n",
      "Please use the new location.\n"
     ]
    },
    {
     "name": "stdout",
     "output_type": "stream",
     "text": [
      "currently investigating:\n",
      "06_Rev2Session3\n",
      "pos 5 valid times\n"
     ]
    },
    {
     "name": "stderr",
     "output_type": "stream",
     "text": [
      "[13:48:35][WARNING] Spyglass: Deprecation: this class has been moved out of spyglass.common.common_position\n",
      "\tIntervalLinearizedPosition -> spyglass.linearization.v0.main.IntervalLinearizedPosition\n",
      "Please use the new location.\n"
     ]
    },
    {
     "name": "stdout",
     "output_type": "stream",
     "text": [
      "currently investigating:\n",
      "08_Rev2Session4\n",
      "pos 7 valid times\n"
     ]
    },
    {
     "name": "stderr",
     "output_type": "stream",
     "text": [
      "[13:48:35][WARNING] Spyglass: Deprecation: this class has been moved out of spyglass.common.common_position\n",
      "\tIntervalLinearizedPosition -> spyglass.linearization.v0.main.IntervalLinearizedPosition\n",
      "Please use the new location.\n"
     ]
    },
    {
     "name": "stdout",
     "output_type": "stream",
     "text": [
      "currently investigating:\n",
      "08_Rev2Session4\n",
      "pos 7 valid times\n"
     ]
    },
    {
     "name": "stderr",
     "output_type": "stream",
     "text": [
      "[13:48:36][WARNING] Spyglass: Deprecation: this class has been moved out of spyglass.common.common_position\n",
      "\tIntervalLinearizedPosition -> spyglass.linearization.v0.main.IntervalLinearizedPosition\n",
      "Please use the new location.\n",
      "[13:48:36][WARNING] Spyglass: Deprecation: this class has been moved out of spyglass.common.common_position\n",
      "\tIntervalLinearizedPosition -> spyglass.linearization.v0.main.IntervalLinearizedPosition\n",
      "Please use the new location.\n"
     ]
    },
    {
     "name": "stdout",
     "output_type": "stream",
     "text": [
      "currently investigating:\n",
      "10_Rev2Session5\n",
      "pos 9 valid times\n",
      "currently investigating:\n",
      "10_Rev2Session5\n",
      "pos 9 valid times\n"
     ]
    },
    {
     "name": "stderr",
     "output_type": "stream",
     "text": [
      "[13:48:37][WARNING] Spyglass: Deprecation: this class has been moved out of spyglass.common.common_position\n",
      "\tIntervalLinearizedPosition -> spyglass.linearization.v0.main.IntervalLinearizedPosition\n",
      "Please use the new location.\n"
     ]
    },
    {
     "name": "stdout",
     "output_type": "stream",
     "text": [
      "currently investigating:\n",
      "02_Rev2Session1\n",
      "pos 1 valid times\n"
     ]
    },
    {
     "name": "stderr",
     "output_type": "stream",
     "text": [
      "[13:48:38][WARNING] Spyglass: Deprecation: this class has been moved out of spyglass.common.common_position\n",
      "\tIntervalLinearizedPosition -> spyglass.linearization.v0.main.IntervalLinearizedPosition\n",
      "Please use the new location.\n"
     ]
    },
    {
     "name": "stdout",
     "output_type": "stream",
     "text": [
      "currently investigating:\n",
      "02_Rev2Session1\n",
      "pos 1 valid times\n"
     ]
    },
    {
     "name": "stderr",
     "output_type": "stream",
     "text": [
      "[13:48:48][WARNING] Spyglass: Deprecation: this class has been moved out of spyglass.common.common_position\n",
      "\tIntervalLinearizedPosition -> spyglass.linearization.v0.main.IntervalLinearizedPosition\n",
      "Please use the new location.\n"
     ]
    },
    {
     "name": "stdout",
     "output_type": "stream",
     "text": [
      "currently investigating:\n",
      "04_Rev2Session2\n",
      "pos 3 valid times\n"
     ]
    },
    {
     "name": "stderr",
     "output_type": "stream",
     "text": [
      "[13:48:49][WARNING] Spyglass: Deprecation: this class has been moved out of spyglass.common.common_position\n",
      "\tIntervalLinearizedPosition -> spyglass.linearization.v0.main.IntervalLinearizedPosition\n",
      "Please use the new location.\n"
     ]
    },
    {
     "name": "stdout",
     "output_type": "stream",
     "text": [
      "currently investigating:\n",
      "04_Rev2Session2\n",
      "pos 3 valid times\n"
     ]
    },
    {
     "name": "stderr",
     "output_type": "stream",
     "text": [
      "[13:48:58][WARNING] Spyglass: Deprecation: this class has been moved out of spyglass.common.common_position\n",
      "\tIntervalLinearizedPosition -> spyglass.linearization.v0.main.IntervalLinearizedPosition\n",
      "Please use the new location.\n"
     ]
    },
    {
     "name": "stdout",
     "output_type": "stream",
     "text": [
      "currently investigating:\n",
      "06_Rev2Session3\n",
      "pos 5 valid times\n"
     ]
    },
    {
     "name": "stderr",
     "output_type": "stream",
     "text": [
      "[13:48:59][WARNING] Spyglass: Deprecation: this class has been moved out of spyglass.common.common_position\n",
      "\tIntervalLinearizedPosition -> spyglass.linearization.v0.main.IntervalLinearizedPosition\n",
      "Please use the new location.\n"
     ]
    },
    {
     "name": "stdout",
     "output_type": "stream",
     "text": [
      "currently investigating:\n",
      "06_Rev2Session3\n",
      "pos 5 valid times\n"
     ]
    },
    {
     "name": "stderr",
     "output_type": "stream",
     "text": [
      "[13:49:04][WARNING] Spyglass: Deprecation: this class has been moved out of spyglass.common.common_position\n",
      "\tIntervalLinearizedPosition -> spyglass.linearization.v0.main.IntervalLinearizedPosition\n",
      "Please use the new location.\n"
     ]
    },
    {
     "name": "stdout",
     "output_type": "stream",
     "text": [
      "currently investigating:\n",
      "08_Rev2Session4\n",
      "pos 7 valid times\n"
     ]
    },
    {
     "name": "stderr",
     "output_type": "stream",
     "text": [
      "[13:49:05][WARNING] Spyglass: Deprecation: this class has been moved out of spyglass.common.common_position\n",
      "\tIntervalLinearizedPosition -> spyglass.linearization.v0.main.IntervalLinearizedPosition\n",
      "Please use the new location.\n"
     ]
    },
    {
     "name": "stdout",
     "output_type": "stream",
     "text": [
      "currently investigating:\n",
      "08_Rev2Session4\n",
      "pos 7 valid times\n"
     ]
    },
    {
     "name": "stderr",
     "output_type": "stream",
     "text": [
      "[13:49:10][WARNING] Spyglass: Deprecation: this class has been moved out of spyglass.common.common_position\n",
      "\tIntervalLinearizedPosition -> spyglass.linearization.v0.main.IntervalLinearizedPosition\n",
      "Please use the new location.\n"
     ]
    },
    {
     "name": "stdout",
     "output_type": "stream",
     "text": [
      "currently investigating:\n",
      "02_Rev2Session1\n",
      "pos 1 valid times\n"
     ]
    },
    {
     "name": "stderr",
     "output_type": "stream",
     "text": [
      "[13:49:12][WARNING] Spyglass: Deprecation: this class has been moved out of spyglass.common.common_position\n",
      "\tIntervalLinearizedPosition -> spyglass.linearization.v0.main.IntervalLinearizedPosition\n",
      "Please use the new location.\n"
     ]
    },
    {
     "name": "stdout",
     "output_type": "stream",
     "text": [
      "currently investigating:\n",
      "02_Rev2Session1\n",
      "pos 1 valid times\n"
     ]
    },
    {
     "name": "stderr",
     "output_type": "stream",
     "text": [
      "[13:49:21][WARNING] Spyglass: Deprecation: this class has been moved out of spyglass.common.common_position\n",
      "\tIntervalLinearizedPosition -> spyglass.linearization.v0.main.IntervalLinearizedPosition\n",
      "Please use the new location.\n"
     ]
    },
    {
     "name": "stdout",
     "output_type": "stream",
     "text": [
      "currently investigating:\n",
      "04_Rev2Session2\n",
      "pos 3 valid times\n"
     ]
    },
    {
     "name": "stderr",
     "output_type": "stream",
     "text": [
      "[13:49:22][WARNING] Spyglass: Deprecation: this class has been moved out of spyglass.common.common_position\n",
      "\tIntervalLinearizedPosition -> spyglass.linearization.v0.main.IntervalLinearizedPosition\n",
      "Please use the new location.\n"
     ]
    },
    {
     "name": "stdout",
     "output_type": "stream",
     "text": [
      "currently investigating:\n",
      "04_Rev2Session2\n",
      "pos 3 valid times\n"
     ]
    },
    {
     "name": "stderr",
     "output_type": "stream",
     "text": [
      "[13:49:31][WARNING] Spyglass: Deprecation: this class has been moved out of spyglass.common.common_position\n",
      "\tIntervalLinearizedPosition -> spyglass.linearization.v0.main.IntervalLinearizedPosition\n",
      "Please use the new location.\n"
     ]
    },
    {
     "name": "stdout",
     "output_type": "stream",
     "text": [
      "currently investigating:\n",
      "06_Rev2Session3\n",
      "pos 5 valid times\n"
     ]
    },
    {
     "name": "stderr",
     "output_type": "stream",
     "text": [
      "[13:49:32][WARNING] Spyglass: Deprecation: this class has been moved out of spyglass.common.common_position\n",
      "\tIntervalLinearizedPosition -> spyglass.linearization.v0.main.IntervalLinearizedPosition\n",
      "Please use the new location.\n"
     ]
    },
    {
     "name": "stdout",
     "output_type": "stream",
     "text": [
      "currently investigating:\n",
      "06_Rev2Session3\n",
      "pos 5 valid times\n"
     ]
    },
    {
     "name": "stderr",
     "output_type": "stream",
     "text": [
      "[13:49:41][WARNING] Spyglass: Deprecation: this class has been moved out of spyglass.common.common_position\n",
      "\tIntervalLinearizedPosition -> spyglass.linearization.v0.main.IntervalLinearizedPosition\n",
      "Please use the new location.\n"
     ]
    },
    {
     "name": "stdout",
     "output_type": "stream",
     "text": [
      "currently investigating:\n",
      "08_Rev2Session4\n",
      "pos 7 valid times\n"
     ]
    },
    {
     "name": "stderr",
     "output_type": "stream",
     "text": [
      "[13:49:42][WARNING] Spyglass: Deprecation: this class has been moved out of spyglass.common.common_position\n",
      "\tIntervalLinearizedPosition -> spyglass.linearization.v0.main.IntervalLinearizedPosition\n",
      "Please use the new location.\n"
     ]
    },
    {
     "name": "stdout",
     "output_type": "stream",
     "text": [
      "currently investigating:\n",
      "08_Rev2Session4\n",
      "pos 7 valid times\n"
     ]
    }
   ],
   "source": [
    "day_sessions = {}\n",
    "trials = {}\n",
    "time_intervals = {}\n",
    "arm_identities = {}\n",
    "\n",
    "animal = 'Lewis'\n",
    "dates_to_plot = ['20240102','20240103','20240104','20240105','20240106','20240107','20240108','20240109',\n",
    "                 '20240110','20240113','20240114']\n",
    "\n",
    "(day_sessions[animal],trials[animal],\n",
    " time_intervals[animal],arm_identities[animal]) = find_remote_theta_animal(\n",
    "    animal, dates_to_plot, delta_t_minus = 1,delta_t_plus = 3, max_flag = False,\n",
    "    nearby = False # use nearby trial's outbound or inbound\n",
    "    )"
   ]
  },
  {
   "cell_type": "code",
   "execution_count": 425,
   "id": "b563c4aa-6b82-482f-a59e-bb5d70a93398",
   "metadata": {
    "scrolled": true
   },
   "outputs": [
    {
     "name": "stderr",
     "output_type": "stream",
     "text": [
      "[13:49:45][WARNING] Spyglass: Deprecation: this class has been moved out of spyglass.common.common_position\n",
      "\tIntervalLinearizedPosition -> spyglass.linearization.v0.main.IntervalLinearizedPosition\n",
      "Please use the new location.\n"
     ]
    },
    {
     "name": "stdout",
     "output_type": "stream",
     "text": [
      "currently investigating:\n",
      "02_Seq2Session1\n",
      "pos 1 valid times\n"
     ]
    },
    {
     "name": "stderr",
     "output_type": "stream",
     "text": [
      "[13:49:45][WARNING] Spyglass: Deprecation: this class has been moved out of spyglass.common.common_position\n",
      "\tIntervalLinearizedPosition -> spyglass.linearization.v0.main.IntervalLinearizedPosition\n",
      "Please use the new location.\n"
     ]
    },
    {
     "name": "stdout",
     "output_type": "stream",
     "text": [
      "currently investigating:\n",
      "02_Seq2Session1\n",
      "pos 1 valid times\n"
     ]
    },
    {
     "name": "stderr",
     "output_type": "stream",
     "text": [
      "[13:49:46][WARNING] Spyglass: Deprecation: this class has been moved out of spyglass.common.common_position\n",
      "\tIntervalLinearizedPosition -> spyglass.linearization.v0.main.IntervalLinearizedPosition\n",
      "Please use the new location.\n"
     ]
    },
    {
     "name": "stdout",
     "output_type": "stream",
     "text": [
      "currently investigating:\n",
      "04_Seq2Session2\n",
      "pos 3 valid times\n"
     ]
    },
    {
     "name": "stderr",
     "output_type": "stream",
     "text": [
      "[13:49:46][WARNING] Spyglass: Deprecation: this class has been moved out of spyglass.common.common_position\n",
      "\tIntervalLinearizedPosition -> spyglass.linearization.v0.main.IntervalLinearizedPosition\n",
      "Please use the new location.\n"
     ]
    },
    {
     "name": "stdout",
     "output_type": "stream",
     "text": [
      "currently investigating:\n",
      "04_Seq2Session2\n",
      "pos 3 valid times\n"
     ]
    },
    {
     "name": "stderr",
     "output_type": "stream",
     "text": [
      "[13:49:47][WARNING] Spyglass: Deprecation: this class has been moved out of spyglass.common.common_position\n",
      "\tIntervalLinearizedPosition -> spyglass.linearization.v0.main.IntervalLinearizedPosition\n",
      "Please use the new location.\n"
     ]
    },
    {
     "name": "stdout",
     "output_type": "stream",
     "text": [
      "currently investigating:\n",
      "06_Seq2Session3\n",
      "pos 5 valid times\n"
     ]
    },
    {
     "name": "stderr",
     "output_type": "stream",
     "text": [
      "[13:49:47][WARNING] Spyglass: Deprecation: this class has been moved out of spyglass.common.common_position\n",
      "\tIntervalLinearizedPosition -> spyglass.linearization.v0.main.IntervalLinearizedPosition\n",
      "Please use the new location.\n"
     ]
    },
    {
     "name": "stdout",
     "output_type": "stream",
     "text": [
      "currently investigating:\n",
      "06_Seq2Session3\n",
      "pos 5 valid times\n"
     ]
    },
    {
     "name": "stderr",
     "output_type": "stream",
     "text": [
      "[13:49:50][WARNING] Spyglass: Deprecation: this class has been moved out of spyglass.common.common_position\n",
      "\tIntervalLinearizedPosition -> spyglass.linearization.v0.main.IntervalLinearizedPosition\n",
      "Please use the new location.\n"
     ]
    },
    {
     "name": "stdout",
     "output_type": "stream",
     "text": [
      "currently investigating:\n",
      "08_Seq2Session4\n",
      "pos 7 valid times\n"
     ]
    },
    {
     "name": "stderr",
     "output_type": "stream",
     "text": [
      "[13:49:50][WARNING] Spyglass: Deprecation: this class has been moved out of spyglass.common.common_position\n",
      "\tIntervalLinearizedPosition -> spyglass.linearization.v0.main.IntervalLinearizedPosition\n",
      "Please use the new location.\n"
     ]
    },
    {
     "name": "stdout",
     "output_type": "stream",
     "text": [
      "currently investigating:\n",
      "08_Seq2Session4\n",
      "pos 7 valid times\n"
     ]
    },
    {
     "name": "stderr",
     "output_type": "stream",
     "text": [
      "[13:49:51][WARNING] Spyglass: Deprecation: this class has been moved out of spyglass.common.common_position\n",
      "\tIntervalLinearizedPosition -> spyglass.linearization.v0.main.IntervalLinearizedPosition\n",
      "Please use the new location.\n"
     ]
    },
    {
     "name": "stdout",
     "output_type": "stream",
     "text": [
      "currently investigating:\n",
      "02_Seq2Session1\n",
      "pos 1 valid times\n"
     ]
    },
    {
     "name": "stderr",
     "output_type": "stream",
     "text": [
      "[13:49:52][WARNING] Spyglass: Deprecation: this class has been moved out of spyglass.common.common_position\n",
      "\tIntervalLinearizedPosition -> spyglass.linearization.v0.main.IntervalLinearizedPosition\n",
      "Please use the new location.\n"
     ]
    },
    {
     "name": "stdout",
     "output_type": "stream",
     "text": [
      "currently investigating:\n",
      "02_Seq2Session1\n",
      "pos 1 valid times\n"
     ]
    },
    {
     "name": "stderr",
     "output_type": "stream",
     "text": [
      "[13:49:53][WARNING] Spyglass: Deprecation: this class has been moved out of spyglass.common.common_position\n",
      "\tIntervalLinearizedPosition -> spyglass.linearization.v0.main.IntervalLinearizedPosition\n",
      "Please use the new location.\n",
      "[13:49:53][WARNING] Spyglass: Deprecation: this class has been moved out of spyglass.common.common_position\n",
      "\tIntervalLinearizedPosition -> spyglass.linearization.v0.main.IntervalLinearizedPosition\n",
      "Please use the new location.\n",
      "[13:49:53][WARNING] Spyglass: Deprecation: this class has been moved out of spyglass.common.common_position\n",
      "\tIntervalLinearizedPosition -> spyglass.linearization.v0.main.IntervalLinearizedPosition\n",
      "Please use the new location.\n"
     ]
    },
    {
     "name": "stdout",
     "output_type": "stream",
     "text": [
      "currently investigating:\n",
      "04_Seq2Session2\n",
      "pos 3 valid times\n",
      "currently investigating:\n",
      "04_Seq2Session2\n",
      "pos 3 valid times\n",
      "currently investigating:\n",
      "05_Seq2Session3\n",
      "pos 4 valid times\n"
     ]
    },
    {
     "name": "stderr",
     "output_type": "stream",
     "text": [
      "[13:49:54][WARNING] Spyglass: Deprecation: this class has been moved out of spyglass.common.common_position\n",
      "\tIntervalLinearizedPosition -> spyglass.linearization.v0.main.IntervalLinearizedPosition\n",
      "Please use the new location.\n"
     ]
    },
    {
     "name": "stdout",
     "output_type": "stream",
     "text": [
      "currently investigating:\n",
      "05_Seq2Session3\n",
      "pos 4 valid times\n"
     ]
    },
    {
     "name": "stderr",
     "output_type": "stream",
     "text": [
      "[13:49:54][WARNING] Spyglass: Deprecation: this class has been moved out of spyglass.common.common_position\n",
      "\tIntervalLinearizedPosition -> spyglass.linearization.v0.main.IntervalLinearizedPosition\n",
      "Please use the new location.\n"
     ]
    },
    {
     "name": "stdout",
     "output_type": "stream",
     "text": [
      "currently investigating:\n",
      "07_Seq2Session4\n",
      "pos 6 valid times\n"
     ]
    },
    {
     "name": "stderr",
     "output_type": "stream",
     "text": [
      "[13:49:55][WARNING] Spyglass: Deprecation: this class has been moved out of spyglass.common.common_position\n",
      "\tIntervalLinearizedPosition -> spyglass.linearization.v0.main.IntervalLinearizedPosition\n",
      "Please use the new location.\n"
     ]
    },
    {
     "name": "stdout",
     "output_type": "stream",
     "text": [
      "currently investigating:\n",
      "07_Seq2Session4\n",
      "pos 6 valid times\n"
     ]
    },
    {
     "name": "stderr",
     "output_type": "stream",
     "text": [
      "[13:49:56][WARNING] Spyglass: Deprecation: this class has been moved out of spyglass.common.common_position\n",
      "\tIntervalLinearizedPosition -> spyglass.linearization.v0.main.IntervalLinearizedPosition\n",
      "Please use the new location.\n"
     ]
    },
    {
     "name": "stdout",
     "output_type": "stream",
     "text": [
      "currently investigating:\n",
      "09_Seq2Session5\n",
      "pos 8 valid times\n"
     ]
    },
    {
     "name": "stderr",
     "output_type": "stream",
     "text": [
      "[13:49:56][WARNING] Spyglass: Deprecation: this class has been moved out of spyglass.common.common_position\n",
      "\tIntervalLinearizedPosition -> spyglass.linearization.v0.main.IntervalLinearizedPosition\n",
      "Please use the new location.\n"
     ]
    },
    {
     "name": "stdout",
     "output_type": "stream",
     "text": [
      "currently investigating:\n",
      "09_Seq2Session5\n",
      "pos 8 valid times\n"
     ]
    },
    {
     "name": "stderr",
     "output_type": "stream",
     "text": [
      "[13:49:57][WARNING] Spyglass: Deprecation: this class has been moved out of spyglass.common.common_position\n",
      "\tIntervalLinearizedPosition -> spyglass.linearization.v0.main.IntervalLinearizedPosition\n",
      "Please use the new location.\n"
     ]
    },
    {
     "name": "stdout",
     "output_type": "stream",
     "text": [
      "currently investigating:\n",
      "11_Seq2Session6\n",
      "pos 10 valid times\n"
     ]
    },
    {
     "name": "stderr",
     "output_type": "stream",
     "text": [
      "[13:49:57][WARNING] Spyglass: Deprecation: this class has been moved out of spyglass.common.common_position\n",
      "\tIntervalLinearizedPosition -> spyglass.linearization.v0.main.IntervalLinearizedPosition\n",
      "Please use the new location.\n"
     ]
    },
    {
     "name": "stdout",
     "output_type": "stream",
     "text": [
      "currently investigating:\n",
      "11_Seq2Session6\n",
      "pos 10 valid times\n"
     ]
    },
    {
     "name": "stderr",
     "output_type": "stream",
     "text": [
      "[13:49:58][WARNING] Spyglass: Deprecation: this class has been moved out of spyglass.common.common_position\n",
      "\tIntervalLinearizedPosition -> spyglass.linearization.v0.main.IntervalLinearizedPosition\n",
      "Please use the new location.\n"
     ]
    },
    {
     "name": "stdout",
     "output_type": "stream",
     "text": [
      "currently investigating:\n",
      "02_Seq2Session1\n",
      "pos 1 valid times\n"
     ]
    },
    {
     "name": "stderr",
     "output_type": "stream",
     "text": [
      "[13:49:59][WARNING] Spyglass: Deprecation: this class has been moved out of spyglass.common.common_position\n",
      "\tIntervalLinearizedPosition -> spyglass.linearization.v0.main.IntervalLinearizedPosition\n",
      "Please use the new location.\n"
     ]
    },
    {
     "name": "stdout",
     "output_type": "stream",
     "text": [
      "currently investigating:\n",
      "02_Seq2Session1\n",
      "pos 1 valid times\n"
     ]
    },
    {
     "name": "stderr",
     "output_type": "stream",
     "text": [
      "[13:50:00][WARNING] Spyglass: Deprecation: this class has been moved out of spyglass.common.common_position\n",
      "\tIntervalLinearizedPosition -> spyglass.linearization.v0.main.IntervalLinearizedPosition\n",
      "Please use the new location.\n"
     ]
    },
    {
     "name": "stdout",
     "output_type": "stream",
     "text": [
      "currently investigating:\n",
      "04_Seq2Session2\n",
      "pos 3 valid times\n"
     ]
    },
    {
     "name": "stderr",
     "output_type": "stream",
     "text": [
      "[13:50:01][WARNING] Spyglass: Deprecation: this class has been moved out of spyglass.common.common_position\n",
      "\tIntervalLinearizedPosition -> spyglass.linearization.v0.main.IntervalLinearizedPosition\n",
      "Please use the new location.\n"
     ]
    },
    {
     "name": "stdout",
     "output_type": "stream",
     "text": [
      "currently investigating:\n",
      "04_Seq2Session2\n",
      "pos 3 valid times\n"
     ]
    },
    {
     "name": "stderr",
     "output_type": "stream",
     "text": [
      "[13:50:05][WARNING] Spyglass: Deprecation: this class has been moved out of spyglass.common.common_position\n",
      "\tIntervalLinearizedPosition -> spyglass.linearization.v0.main.IntervalLinearizedPosition\n",
      "Please use the new location.\n"
     ]
    },
    {
     "name": "stdout",
     "output_type": "stream",
     "text": [
      "currently investigating:\n",
      "06_Seq2Session3\n",
      "pos 5 valid times\n"
     ]
    },
    {
     "name": "stderr",
     "output_type": "stream",
     "text": [
      "[13:50:05][WARNING] Spyglass: Deprecation: this class has been moved out of spyglass.common.common_position\n",
      "\tIntervalLinearizedPosition -> spyglass.linearization.v0.main.IntervalLinearizedPosition\n",
      "Please use the new location.\n"
     ]
    },
    {
     "name": "stdout",
     "output_type": "stream",
     "text": [
      "currently investigating:\n",
      "06_Seq2Session3\n",
      "pos 5 valid times\n"
     ]
    },
    {
     "name": "stderr",
     "output_type": "stream",
     "text": [
      "[13:50:08][WARNING] Spyglass: Deprecation: this class has been moved out of spyglass.common.common_position\n",
      "\tIntervalLinearizedPosition -> spyglass.linearization.v0.main.IntervalLinearizedPosition\n",
      "Please use the new location.\n"
     ]
    },
    {
     "name": "stdout",
     "output_type": "stream",
     "text": [
      "currently investigating:\n",
      "08_Seq2Session4\n",
      "pos 7 valid times\n"
     ]
    },
    {
     "name": "stderr",
     "output_type": "stream",
     "text": [
      "[13:50:09][WARNING] Spyglass: Deprecation: this class has been moved out of spyglass.common.common_position\n",
      "\tIntervalLinearizedPosition -> spyglass.linearization.v0.main.IntervalLinearizedPosition\n",
      "Please use the new location.\n"
     ]
    },
    {
     "name": "stdout",
     "output_type": "stream",
     "text": [
      "currently investigating:\n",
      "08_Seq2Session4\n",
      "pos 7 valid times\n"
     ]
    },
    {
     "name": "stderr",
     "output_type": "stream",
     "text": [
      "[13:50:12][WARNING] Spyglass: Deprecation: this class has been moved out of spyglass.common.common_position\n",
      "\tIntervalLinearizedPosition -> spyglass.linearization.v0.main.IntervalLinearizedPosition\n",
      "Please use the new location.\n"
     ]
    },
    {
     "name": "stdout",
     "output_type": "stream",
     "text": [
      "currently investigating:\n",
      "10_Seq2Session5\n",
      "pos 9 valid times\n"
     ]
    },
    {
     "name": "stderr",
     "output_type": "stream",
     "text": [
      "[13:50:12][WARNING] Spyglass: Deprecation: this class has been moved out of spyglass.common.common_position\n",
      "\tIntervalLinearizedPosition -> spyglass.linearization.v0.main.IntervalLinearizedPosition\n",
      "Please use the new location.\n"
     ]
    },
    {
     "name": "stdout",
     "output_type": "stream",
     "text": [
      "currently investigating:\n",
      "10_Seq2Session5\n",
      "pos 9 valid times\n"
     ]
    },
    {
     "name": "stderr",
     "output_type": "stream",
     "text": [
      "[13:50:14][WARNING] Spyglass: Deprecation: this class has been moved out of spyglass.common.common_position\n",
      "\tIntervalLinearizedPosition -> spyglass.linearization.v0.main.IntervalLinearizedPosition\n",
      "Please use the new location.\n"
     ]
    },
    {
     "name": "stdout",
     "output_type": "stream",
     "text": [
      "currently investigating:\n",
      "02_Seq2Session1\n",
      "pos 1 valid times\n"
     ]
    },
    {
     "name": "stderr",
     "output_type": "stream",
     "text": [
      "[13:50:14][WARNING] Spyglass: Deprecation: this class has been moved out of spyglass.common.common_position\n",
      "\tIntervalLinearizedPosition -> spyglass.linearization.v0.main.IntervalLinearizedPosition\n",
      "Please use the new location.\n"
     ]
    },
    {
     "name": "stdout",
     "output_type": "stream",
     "text": [
      "currently investigating:\n",
      "02_Seq2Session1\n",
      "pos 1 valid times\n"
     ]
    },
    {
     "name": "stderr",
     "output_type": "stream",
     "text": [
      "[13:50:16][WARNING] Spyglass: Deprecation: this class has been moved out of spyglass.common.common_position\n",
      "\tIntervalLinearizedPosition -> spyglass.linearization.v0.main.IntervalLinearizedPosition\n",
      "Please use the new location.\n"
     ]
    },
    {
     "name": "stdout",
     "output_type": "stream",
     "text": [
      "currently investigating:\n",
      "04_Seq2Session2\n",
      "pos 3 valid times\n"
     ]
    },
    {
     "name": "stderr",
     "output_type": "stream",
     "text": [
      "[13:50:16][WARNING] Spyglass: Deprecation: this class has been moved out of spyglass.common.common_position\n",
      "\tIntervalLinearizedPosition -> spyglass.linearization.v0.main.IntervalLinearizedPosition\n",
      "Please use the new location.\n"
     ]
    },
    {
     "name": "stdout",
     "output_type": "stream",
     "text": [
      "currently investigating:\n",
      "04_Seq2Session2\n",
      "pos 3 valid times\n"
     ]
    },
    {
     "name": "stderr",
     "output_type": "stream",
     "text": [
      "[13:50:19][WARNING] Spyglass: Deprecation: this class has been moved out of spyglass.common.common_position\n",
      "\tIntervalLinearizedPosition -> spyglass.linearization.v0.main.IntervalLinearizedPosition\n",
      "Please use the new location.\n"
     ]
    },
    {
     "name": "stdout",
     "output_type": "stream",
     "text": [
      "currently investigating:\n",
      "06_Seq2Session3\n",
      "pos 5 valid times\n"
     ]
    },
    {
     "name": "stderr",
     "output_type": "stream",
     "text": [
      "[13:50:19][WARNING] Spyglass: Deprecation: this class has been moved out of spyglass.common.common_position\n",
      "\tIntervalLinearizedPosition -> spyglass.linearization.v0.main.IntervalLinearizedPosition\n",
      "Please use the new location.\n"
     ]
    },
    {
     "name": "stdout",
     "output_type": "stream",
     "text": [
      "currently investigating:\n",
      "06_Seq2Session3\n",
      "pos 5 valid times\n"
     ]
    },
    {
     "name": "stderr",
     "output_type": "stream",
     "text": [
      "[13:50:22][WARNING] Spyglass: Deprecation: this class has been moved out of spyglass.common.common_position\n",
      "\tIntervalLinearizedPosition -> spyglass.linearization.v0.main.IntervalLinearizedPosition\n",
      "Please use the new location.\n"
     ]
    },
    {
     "name": "stdout",
     "output_type": "stream",
     "text": [
      "currently investigating:\n",
      "08_Seq2Session4\n",
      "pos 7 valid times\n"
     ]
    },
    {
     "name": "stderr",
     "output_type": "stream",
     "text": [
      "[13:50:23][WARNING] Spyglass: Deprecation: this class has been moved out of spyglass.common.common_position\n",
      "\tIntervalLinearizedPosition -> spyglass.linearization.v0.main.IntervalLinearizedPosition\n",
      "Please use the new location.\n"
     ]
    },
    {
     "name": "stdout",
     "output_type": "stream",
     "text": [
      "currently investigating:\n",
      "08_Seq2Session4\n",
      "pos 7 valid times\n"
     ]
    },
    {
     "name": "stderr",
     "output_type": "stream",
     "text": [
      "[13:50:25][WARNING] Spyglass: Deprecation: this class has been moved out of spyglass.common.common_position\n",
      "\tIntervalLinearizedPosition -> spyglass.linearization.v0.main.IntervalLinearizedPosition\n",
      "Please use the new location.\n"
     ]
    },
    {
     "name": "stdout",
     "output_type": "stream",
     "text": [
      "currently investigating:\n",
      "10_Seq2Session5\n",
      "pos 9 valid times\n"
     ]
    },
    {
     "name": "stderr",
     "output_type": "stream",
     "text": [
      "[13:50:25][WARNING] Spyglass: Deprecation: this class has been moved out of spyglass.common.common_position\n",
      "\tIntervalLinearizedPosition -> spyglass.linearization.v0.main.IntervalLinearizedPosition\n",
      "Please use the new location.\n"
     ]
    },
    {
     "name": "stdout",
     "output_type": "stream",
     "text": [
      "currently investigating:\n",
      "10_Seq2Session5\n",
      "pos 9 valid times\n"
     ]
    },
    {
     "name": "stderr",
     "output_type": "stream",
     "text": [
      "[13:50:27][WARNING] Spyglass: Deprecation: this class has been moved out of spyglass.common.common_position\n",
      "\tIntervalLinearizedPosition -> spyglass.linearization.v0.main.IntervalLinearizedPosition\n",
      "Please use the new location.\n"
     ]
    },
    {
     "name": "stdout",
     "output_type": "stream",
     "text": [
      "currently investigating:\n",
      "12_Seq2Session6\n",
      "pos 11 valid times\n"
     ]
    },
    {
     "name": "stderr",
     "output_type": "stream",
     "text": [
      "[13:50:27][WARNING] Spyglass: Deprecation: this class has been moved out of spyglass.common.common_position\n",
      "\tIntervalLinearizedPosition -> spyglass.linearization.v0.main.IntervalLinearizedPosition\n",
      "Please use the new location.\n"
     ]
    },
    {
     "name": "stdout",
     "output_type": "stream",
     "text": [
      "currently investigating:\n",
      "12_Seq2Session6\n",
      "pos 11 valid times\n"
     ]
    },
    {
     "name": "stderr",
     "output_type": "stream",
     "text": [
      "[13:50:31][WARNING] Spyglass: Deprecation: this class has been moved out of spyglass.common.common_position\n",
      "\tIntervalLinearizedPosition -> spyglass.linearization.v0.main.IntervalLinearizedPosition\n",
      "Please use the new location.\n"
     ]
    },
    {
     "name": "stdout",
     "output_type": "stream",
     "text": [
      "currently investigating:\n",
      "02_Seq2Session1\n",
      "pos 1 valid times\n"
     ]
    },
    {
     "name": "stderr",
     "output_type": "stream",
     "text": [
      "[13:50:31][WARNING] Spyglass: Deprecation: this class has been moved out of spyglass.common.common_position\n",
      "\tIntervalLinearizedPosition -> spyglass.linearization.v0.main.IntervalLinearizedPosition\n",
      "Please use the new location.\n"
     ]
    },
    {
     "name": "stdout",
     "output_type": "stream",
     "text": [
      "currently investigating:\n",
      "02_Seq2Session1\n",
      "pos 1 valid times\n"
     ]
    },
    {
     "name": "stderr",
     "output_type": "stream",
     "text": [
      "[13:50:35][WARNING] Spyglass: Deprecation: this class has been moved out of spyglass.common.common_position\n",
      "\tIntervalLinearizedPosition -> spyglass.linearization.v0.main.IntervalLinearizedPosition\n",
      "Please use the new location.\n"
     ]
    },
    {
     "name": "stdout",
     "output_type": "stream",
     "text": [
      "currently investigating:\n",
      "04_Seq2Session2\n",
      "pos 3 valid times\n"
     ]
    },
    {
     "name": "stderr",
     "output_type": "stream",
     "text": [
      "[13:50:35][WARNING] Spyglass: Deprecation: this class has been moved out of spyglass.common.common_position\n",
      "\tIntervalLinearizedPosition -> spyglass.linearization.v0.main.IntervalLinearizedPosition\n",
      "Please use the new location.\n"
     ]
    },
    {
     "name": "stdout",
     "output_type": "stream",
     "text": [
      "currently investigating:\n",
      "04_Seq2Session2\n",
      "pos 3 valid times\n"
     ]
    },
    {
     "name": "stderr",
     "output_type": "stream",
     "text": [
      "[13:50:39][WARNING] Spyglass: Deprecation: this class has been moved out of spyglass.common.common_position\n",
      "\tIntervalLinearizedPosition -> spyglass.linearization.v0.main.IntervalLinearizedPosition\n",
      "Please use the new location.\n"
     ]
    },
    {
     "name": "stdout",
     "output_type": "stream",
     "text": [
      "currently investigating:\n",
      "06_Seq2Session3\n",
      "pos 5 valid times\n"
     ]
    },
    {
     "name": "stderr",
     "output_type": "stream",
     "text": [
      "[13:50:40][WARNING] Spyglass: Deprecation: this class has been moved out of spyglass.common.common_position\n",
      "\tIntervalLinearizedPosition -> spyglass.linearization.v0.main.IntervalLinearizedPosition\n",
      "Please use the new location.\n"
     ]
    },
    {
     "name": "stdout",
     "output_type": "stream",
     "text": [
      "currently investigating:\n",
      "06_Seq2Session3\n",
      "pos 5 valid times\n"
     ]
    },
    {
     "name": "stderr",
     "output_type": "stream",
     "text": [
      "[13:50:42][WARNING] Spyglass: Deprecation: this class has been moved out of spyglass.common.common_position\n",
      "\tIntervalLinearizedPosition -> spyglass.linearization.v0.main.IntervalLinearizedPosition\n",
      "Please use the new location.\n"
     ]
    },
    {
     "name": "stdout",
     "output_type": "stream",
     "text": [
      "currently investigating:\n",
      "08_Seq2Session4\n",
      "pos 7 valid times\n"
     ]
    },
    {
     "name": "stderr",
     "output_type": "stream",
     "text": [
      "[13:50:43][WARNING] Spyglass: Deprecation: this class has been moved out of spyglass.common.common_position\n",
      "\tIntervalLinearizedPosition -> spyglass.linearization.v0.main.IntervalLinearizedPosition\n",
      "Please use the new location.\n"
     ]
    },
    {
     "name": "stdout",
     "output_type": "stream",
     "text": [
      "currently investigating:\n",
      "08_Seq2Session4\n",
      "pos 7 valid times\n"
     ]
    },
    {
     "name": "stderr",
     "output_type": "stream",
     "text": [
      "[13:50:45][WARNING] Spyglass: Deprecation: this class has been moved out of spyglass.common.common_position\n",
      "\tIntervalLinearizedPosition -> spyglass.linearization.v0.main.IntervalLinearizedPosition\n",
      "Please use the new location.\n"
     ]
    },
    {
     "name": "stdout",
     "output_type": "stream",
     "text": [
      "currently investigating:\n",
      "02_Seq2Session1\n",
      "pos 1 valid times\n"
     ]
    },
    {
     "name": "stderr",
     "output_type": "stream",
     "text": [
      "[13:50:45][WARNING] Spyglass: Deprecation: this class has been moved out of spyglass.common.common_position\n",
      "\tIntervalLinearizedPosition -> spyglass.linearization.v0.main.IntervalLinearizedPosition\n",
      "Please use the new location.\n"
     ]
    },
    {
     "name": "stdout",
     "output_type": "stream",
     "text": [
      "currently investigating:\n",
      "02_Seq2Session1\n",
      "pos 1 valid times\n"
     ]
    },
    {
     "name": "stderr",
     "output_type": "stream",
     "text": [
      "[13:50:49][WARNING] Spyglass: Deprecation: this class has been moved out of spyglass.common.common_position\n",
      "\tIntervalLinearizedPosition -> spyglass.linearization.v0.main.IntervalLinearizedPosition\n",
      "Please use the new location.\n"
     ]
    },
    {
     "name": "stdout",
     "output_type": "stream",
     "text": [
      "currently investigating:\n",
      "04_Seq2Session2\n",
      "pos 3 valid times\n"
     ]
    },
    {
     "name": "stderr",
     "output_type": "stream",
     "text": [
      "[13:50:49][WARNING] Spyglass: Deprecation: this class has been moved out of spyglass.common.common_position\n",
      "\tIntervalLinearizedPosition -> spyglass.linearization.v0.main.IntervalLinearizedPosition\n",
      "Please use the new location.\n"
     ]
    },
    {
     "name": "stdout",
     "output_type": "stream",
     "text": [
      "currently investigating:\n",
      "04_Seq2Session2\n",
      "pos 3 valid times\n"
     ]
    },
    {
     "name": "stderr",
     "output_type": "stream",
     "text": [
      "[13:50:51][WARNING] Spyglass: Deprecation: this class has been moved out of spyglass.common.common_position\n",
      "\tIntervalLinearizedPosition -> spyglass.linearization.v0.main.IntervalLinearizedPosition\n",
      "Please use the new location.\n"
     ]
    },
    {
     "name": "stdout",
     "output_type": "stream",
     "text": [
      "currently investigating:\n",
      "06_Seq2Session3\n",
      "pos 5 valid times\n"
     ]
    },
    {
     "name": "stderr",
     "output_type": "stream",
     "text": [
      "[13:50:51][WARNING] Spyglass: Deprecation: this class has been moved out of spyglass.common.common_position\n",
      "\tIntervalLinearizedPosition -> spyglass.linearization.v0.main.IntervalLinearizedPosition\n",
      "Please use the new location.\n"
     ]
    },
    {
     "name": "stdout",
     "output_type": "stream",
     "text": [
      "currently investigating:\n",
      "06_Seq2Session3\n",
      "pos 5 valid times\n"
     ]
    },
    {
     "name": "stderr",
     "output_type": "stream",
     "text": [
      "[13:50:53][WARNING] Spyglass: Deprecation: this class has been moved out of spyglass.common.common_position\n",
      "\tIntervalLinearizedPosition -> spyglass.linearization.v0.main.IntervalLinearizedPosition\n",
      "Please use the new location.\n"
     ]
    },
    {
     "name": "stdout",
     "output_type": "stream",
     "text": [
      "currently investigating:\n",
      "08_Seq2Session4\n",
      "pos 7 valid times\n"
     ]
    },
    {
     "name": "stderr",
     "output_type": "stream",
     "text": [
      "[13:50:53][WARNING] Spyglass: Deprecation: this class has been moved out of spyglass.common.common_position\n",
      "\tIntervalLinearizedPosition -> spyglass.linearization.v0.main.IntervalLinearizedPosition\n",
      "Please use the new location.\n"
     ]
    },
    {
     "name": "stdout",
     "output_type": "stream",
     "text": [
      "currently investigating:\n",
      "08_Seq2Session4\n",
      "pos 7 valid times\n"
     ]
    },
    {
     "name": "stderr",
     "output_type": "stream",
     "text": [
      "[13:50:54][WARNING] Spyglass: Deprecation: this class has been moved out of spyglass.common.common_position\n",
      "\tIntervalLinearizedPosition -> spyglass.linearization.v0.main.IntervalLinearizedPosition\n",
      "Please use the new location.\n"
     ]
    },
    {
     "name": "stdout",
     "output_type": "stream",
     "text": [
      "currently investigating:\n",
      "10_Seq2Session5\n",
      "pos 9 valid times\n"
     ]
    },
    {
     "name": "stderr",
     "output_type": "stream",
     "text": [
      "[13:50:54][WARNING] Spyglass: Deprecation: this class has been moved out of spyglass.common.common_position\n",
      "\tIntervalLinearizedPosition -> spyglass.linearization.v0.main.IntervalLinearizedPosition\n",
      "Please use the new location.\n"
     ]
    },
    {
     "name": "stdout",
     "output_type": "stream",
     "text": [
      "currently investigating:\n",
      "10_Seq2Session5\n",
      "pos 9 valid times\n"
     ]
    },
    {
     "name": "stderr",
     "output_type": "stream",
     "text": [
      "[13:50:56][WARNING] Spyglass: Deprecation: this class has been moved out of spyglass.common.common_position\n",
      "\tIntervalLinearizedPosition -> spyglass.linearization.v0.main.IntervalLinearizedPosition\n",
      "Please use the new location.\n"
     ]
    },
    {
     "name": "stdout",
     "output_type": "stream",
     "text": [
      "currently investigating:\n",
      "02_Seq2Session1\n",
      "pos 1 valid times\n"
     ]
    },
    {
     "name": "stderr",
     "output_type": "stream",
     "text": [
      "[13:50:56][WARNING] Spyglass: Deprecation: this class has been moved out of spyglass.common.common_position\n",
      "\tIntervalLinearizedPosition -> spyglass.linearization.v0.main.IntervalLinearizedPosition\n",
      "Please use the new location.\n"
     ]
    },
    {
     "name": "stdout",
     "output_type": "stream",
     "text": [
      "currently investigating:\n",
      "02_Seq2Session1\n",
      "pos 1 valid times\n"
     ]
    },
    {
     "name": "stderr",
     "output_type": "stream",
     "text": [
      "[13:50:57][WARNING] Spyglass: Deprecation: this class has been moved out of spyglass.common.common_position\n",
      "\tIntervalLinearizedPosition -> spyglass.linearization.v0.main.IntervalLinearizedPosition\n",
      "Please use the new location.\n"
     ]
    },
    {
     "name": "stdout",
     "output_type": "stream",
     "text": [
      "currently investigating:\n",
      "04_Seq2Session2\n",
      "pos 3 valid times\n"
     ]
    },
    {
     "name": "stderr",
     "output_type": "stream",
     "text": [
      "[13:50:58][WARNING] Spyglass: Deprecation: this class has been moved out of spyglass.common.common_position\n",
      "\tIntervalLinearizedPosition -> spyglass.linearization.v0.main.IntervalLinearizedPosition\n",
      "Please use the new location.\n"
     ]
    },
    {
     "name": "stdout",
     "output_type": "stream",
     "text": [
      "currently investigating:\n",
      "04_Seq2Session2\n",
      "pos 3 valid times\n"
     ]
    },
    {
     "name": "stderr",
     "output_type": "stream",
     "text": [
      "[13:50:59][WARNING] Spyglass: Deprecation: this class has been moved out of spyglass.common.common_position\n",
      "\tIntervalLinearizedPosition -> spyglass.linearization.v0.main.IntervalLinearizedPosition\n",
      "Please use the new location.\n"
     ]
    },
    {
     "name": "stdout",
     "output_type": "stream",
     "text": [
      "currently investigating:\n",
      "06_Seq2Session3\n",
      "pos 5 valid times\n"
     ]
    },
    {
     "name": "stderr",
     "output_type": "stream",
     "text": [
      "[13:50:59][WARNING] Spyglass: Deprecation: this class has been moved out of spyglass.common.common_position\n",
      "\tIntervalLinearizedPosition -> spyglass.linearization.v0.main.IntervalLinearizedPosition\n",
      "Please use the new location.\n"
     ]
    },
    {
     "name": "stdout",
     "output_type": "stream",
     "text": [
      "currently investigating:\n",
      "06_Seq2Session3\n",
      "pos 5 valid times\n"
     ]
    },
    {
     "name": "stderr",
     "output_type": "stream",
     "text": [
      "[13:51:01][WARNING] Spyglass: Deprecation: this class has been moved out of spyglass.common.common_position\n",
      "\tIntervalLinearizedPosition -> spyglass.linearization.v0.main.IntervalLinearizedPosition\n",
      "Please use the new location.\n"
     ]
    },
    {
     "name": "stdout",
     "output_type": "stream",
     "text": [
      "currently investigating:\n",
      "08_Seq2Session4\n",
      "pos 7 valid times\n"
     ]
    },
    {
     "name": "stderr",
     "output_type": "stream",
     "text": [
      "[13:51:01][WARNING] Spyglass: Deprecation: this class has been moved out of spyglass.common.common_position\n",
      "\tIntervalLinearizedPosition -> spyglass.linearization.v0.main.IntervalLinearizedPosition\n",
      "Please use the new location.\n"
     ]
    },
    {
     "name": "stdout",
     "output_type": "stream",
     "text": [
      "currently investigating:\n",
      "08_Seq2Session4\n",
      "pos 7 valid times\n"
     ]
    },
    {
     "name": "stderr",
     "output_type": "stream",
     "text": [
      "[13:51:03][WARNING] Spyglass: Deprecation: this class has been moved out of spyglass.common.common_position\n",
      "\tIntervalLinearizedPosition -> spyglass.linearization.v0.main.IntervalLinearizedPosition\n",
      "Please use the new location.\n"
     ]
    },
    {
     "name": "stdout",
     "output_type": "stream",
     "text": [
      "currently investigating:\n",
      "02_Seq2Session2\n",
      "pos 1 valid times\n"
     ]
    },
    {
     "name": "stderr",
     "output_type": "stream",
     "text": [
      "[13:51:03][WARNING] Spyglass: Deprecation: this class has been moved out of spyglass.common.common_position\n",
      "\tIntervalLinearizedPosition -> spyglass.linearization.v0.main.IntervalLinearizedPosition\n",
      "Please use the new location.\n"
     ]
    },
    {
     "name": "stdout",
     "output_type": "stream",
     "text": [
      "currently investigating:\n",
      "02_Seq2Session2\n",
      "pos 1 valid times\n"
     ]
    },
    {
     "name": "stderr",
     "output_type": "stream",
     "text": [
      "[13:51:04][WARNING] Spyglass: Deprecation: this class has been moved out of spyglass.common.common_position\n",
      "\tIntervalLinearizedPosition -> spyglass.linearization.v0.main.IntervalLinearizedPosition\n",
      "Please use the new location.\n"
     ]
    },
    {
     "name": "stdout",
     "output_type": "stream",
     "text": [
      "currently investigating:\n",
      "04_Seq2Session3\n",
      "pos 3 valid times\n"
     ]
    },
    {
     "name": "stderr",
     "output_type": "stream",
     "text": [
      "[13:51:05][WARNING] Spyglass: Deprecation: this class has been moved out of spyglass.common.common_position\n",
      "\tIntervalLinearizedPosition -> spyglass.linearization.v0.main.IntervalLinearizedPosition\n",
      "Please use the new location.\n"
     ]
    },
    {
     "name": "stdout",
     "output_type": "stream",
     "text": [
      "currently investigating:\n",
      "04_Seq2Session3\n",
      "pos 3 valid times\n"
     ]
    },
    {
     "name": "stderr",
     "output_type": "stream",
     "text": [
      "[13:51:05][WARNING] Spyglass: Deprecation: this class has been moved out of spyglass.common.common_position\n",
      "\tIntervalLinearizedPosition -> spyglass.linearization.v0.main.IntervalLinearizedPosition\n",
      "Please use the new location.\n"
     ]
    },
    {
     "name": "stdout",
     "output_type": "stream",
     "text": [
      "currently investigating:\n",
      "06_Seq2Session4\n",
      "pos 5 valid times\n"
     ]
    },
    {
     "name": "stderr",
     "output_type": "stream",
     "text": [
      "[13:51:06][WARNING] Spyglass: Deprecation: this class has been moved out of spyglass.common.common_position\n",
      "\tIntervalLinearizedPosition -> spyglass.linearization.v0.main.IntervalLinearizedPosition\n",
      "Please use the new location.\n"
     ]
    },
    {
     "name": "stdout",
     "output_type": "stream",
     "text": [
      "currently investigating:\n",
      "06_Seq2Session4\n",
      "pos 5 valid times\n"
     ]
    },
    {
     "name": "stderr",
     "output_type": "stream",
     "text": [
      "[13:51:08][WARNING] Spyglass: Deprecation: this class has been moved out of spyglass.common.common_position\n",
      "\tIntervalLinearizedPosition -> spyglass.linearization.v0.main.IntervalLinearizedPosition\n",
      "Please use the new location.\n"
     ]
    },
    {
     "name": "stdout",
     "output_type": "stream",
     "text": [
      "currently investigating:\n",
      "08_Seq2Session5\n",
      "pos 7 valid times\n"
     ]
    },
    {
     "name": "stderr",
     "output_type": "stream",
     "text": [
      "[13:51:08][WARNING] Spyglass: Deprecation: this class has been moved out of spyglass.common.common_position\n",
      "\tIntervalLinearizedPosition -> spyglass.linearization.v0.main.IntervalLinearizedPosition\n",
      "Please use the new location.\n"
     ]
    },
    {
     "name": "stdout",
     "output_type": "stream",
     "text": [
      "currently investigating:\n",
      "08_Seq2Session5\n",
      "pos 7 valid times\n"
     ]
    },
    {
     "name": "stderr",
     "output_type": "stream",
     "text": [
      "[13:51:10][WARNING] Spyglass: Deprecation: this class has been moved out of spyglass.common.common_position\n",
      "\tIntervalLinearizedPosition -> spyglass.linearization.v0.main.IntervalLinearizedPosition\n",
      "Please use the new location.\n"
     ]
    },
    {
     "name": "stdout",
     "output_type": "stream",
     "text": [
      "currently investigating:\n",
      "10_Seq2Session6\n",
      "pos 9 valid times\n"
     ]
    },
    {
     "name": "stderr",
     "output_type": "stream",
     "text": [
      "[13:51:10][WARNING] Spyglass: Deprecation: this class has been moved out of spyglass.common.common_position\n",
      "\tIntervalLinearizedPosition -> spyglass.linearization.v0.main.IntervalLinearizedPosition\n",
      "Please use the new location.\n"
     ]
    },
    {
     "name": "stdout",
     "output_type": "stream",
     "text": [
      "currently investigating:\n",
      "10_Seq2Session6\n",
      "pos 9 valid times\n"
     ]
    },
    {
     "name": "stderr",
     "output_type": "stream",
     "text": [
      "[13:51:12][WARNING] Spyglass: Deprecation: this class has been moved out of spyglass.common.common_position\n",
      "\tIntervalLinearizedPosition -> spyglass.linearization.v0.main.IntervalLinearizedPosition\n",
      "Please use the new location.\n"
     ]
    },
    {
     "name": "stdout",
     "output_type": "stream",
     "text": [
      "currently investigating:\n",
      "02_Seq2Session1\n",
      "pos 1 valid times\n"
     ]
    },
    {
     "name": "stderr",
     "output_type": "stream",
     "text": [
      "[13:51:12][WARNING] Spyglass: Deprecation: this class has been moved out of spyglass.common.common_position\n",
      "\tIntervalLinearizedPosition -> spyglass.linearization.v0.main.IntervalLinearizedPosition\n",
      "Please use the new location.\n"
     ]
    },
    {
     "name": "stdout",
     "output_type": "stream",
     "text": [
      "currently investigating:\n",
      "02_Seq2Session1\n",
      "pos 1 valid times\n"
     ]
    },
    {
     "name": "stderr",
     "output_type": "stream",
     "text": [
      "[13:51:15][WARNING] Spyglass: Deprecation: this class has been moved out of spyglass.common.common_position\n",
      "\tIntervalLinearizedPosition -> spyglass.linearization.v0.main.IntervalLinearizedPosition\n",
      "Please use the new location.\n"
     ]
    },
    {
     "name": "stdout",
     "output_type": "stream",
     "text": [
      "currently investigating:\n",
      "04_Seq2Session2\n",
      "pos 3 valid times\n"
     ]
    },
    {
     "name": "stderr",
     "output_type": "stream",
     "text": [
      "[13:51:15][WARNING] Spyglass: Deprecation: this class has been moved out of spyglass.common.common_position\n",
      "\tIntervalLinearizedPosition -> spyglass.linearization.v0.main.IntervalLinearizedPosition\n",
      "Please use the new location.\n"
     ]
    },
    {
     "name": "stdout",
     "output_type": "stream",
     "text": [
      "currently investigating:\n",
      "04_Seq2Session2\n",
      "pos 3 valid times\n"
     ]
    },
    {
     "name": "stderr",
     "output_type": "stream",
     "text": [
      "[13:51:16][WARNING] Spyglass: Deprecation: this class has been moved out of spyglass.common.common_position\n",
      "\tIntervalLinearizedPosition -> spyglass.linearization.v0.main.IntervalLinearizedPosition\n",
      "Please use the new location.\n"
     ]
    },
    {
     "name": "stdout",
     "output_type": "stream",
     "text": [
      "currently investigating:\n",
      "06_Seq2Session3\n",
      "pos 5 valid times\n"
     ]
    },
    {
     "name": "stderr",
     "output_type": "stream",
     "text": [
      "[13:51:16][WARNING] Spyglass: Deprecation: this class has been moved out of spyglass.common.common_position\n",
      "\tIntervalLinearizedPosition -> spyglass.linearization.v0.main.IntervalLinearizedPosition\n",
      "Please use the new location.\n"
     ]
    },
    {
     "name": "stdout",
     "output_type": "stream",
     "text": [
      "currently investigating:\n",
      "06_Seq2Session3\n",
      "pos 5 valid times\n"
     ]
    },
    {
     "name": "stderr",
     "output_type": "stream",
     "text": [
      "[13:51:17][WARNING] Spyglass: Deprecation: this class has been moved out of spyglass.common.common_position\n",
      "\tIntervalLinearizedPosition -> spyglass.linearization.v0.main.IntervalLinearizedPosition\n",
      "Please use the new location.\n"
     ]
    },
    {
     "name": "stdout",
     "output_type": "stream",
     "text": [
      "currently investigating:\n",
      "08_Seq2Session4\n",
      "pos 7 valid times\n"
     ]
    },
    {
     "name": "stderr",
     "output_type": "stream",
     "text": [
      "[13:51:17][WARNING] Spyglass: Deprecation: this class has been moved out of spyglass.common.common_position\n",
      "\tIntervalLinearizedPosition -> spyglass.linearization.v0.main.IntervalLinearizedPosition\n",
      "Please use the new location.\n"
     ]
    },
    {
     "name": "stdout",
     "output_type": "stream",
     "text": [
      "currently investigating:\n",
      "08_Seq2Session4\n",
      "pos 7 valid times\n"
     ]
    },
    {
     "name": "stderr",
     "output_type": "stream",
     "text": [
      "[13:51:18][WARNING] Spyglass: Deprecation: this class has been moved out of spyglass.common.common_position\n",
      "\tIntervalLinearizedPosition -> spyglass.linearization.v0.main.IntervalLinearizedPosition\n",
      "Please use the new location.\n"
     ]
    },
    {
     "name": "stdout",
     "output_type": "stream",
     "text": [
      "currently investigating:\n",
      "02_Seq2Session1\n",
      "pos 1 valid times\n"
     ]
    },
    {
     "name": "stderr",
     "output_type": "stream",
     "text": [
      "[13:51:18][WARNING] Spyglass: Deprecation: this class has been moved out of spyglass.common.common_position\n",
      "\tIntervalLinearizedPosition -> spyglass.linearization.v0.main.IntervalLinearizedPosition\n",
      "Please use the new location.\n"
     ]
    },
    {
     "name": "stdout",
     "output_type": "stream",
     "text": [
      "currently investigating:\n",
      "02_Seq2Session1\n",
      "pos 1 valid times\n"
     ]
    },
    {
     "name": "stderr",
     "output_type": "stream",
     "text": [
      "[13:51:19][WARNING] Spyglass: Deprecation: this class has been moved out of spyglass.common.common_position\n",
      "\tIntervalLinearizedPosition -> spyglass.linearization.v0.main.IntervalLinearizedPosition\n",
      "Please use the new location.\n"
     ]
    },
    {
     "name": "stdout",
     "output_type": "stream",
     "text": [
      "currently investigating:\n",
      "04_Seq2Session2\n",
      "pos 3 valid times\n"
     ]
    },
    {
     "name": "stderr",
     "output_type": "stream",
     "text": [
      "[13:51:20][WARNING] Spyglass: Deprecation: this class has been moved out of spyglass.common.common_position\n",
      "\tIntervalLinearizedPosition -> spyglass.linearization.v0.main.IntervalLinearizedPosition\n",
      "Please use the new location.\n"
     ]
    },
    {
     "name": "stdout",
     "output_type": "stream",
     "text": [
      "currently investigating:\n",
      "04_Seq2Session2\n",
      "pos 3 valid times\n"
     ]
    },
    {
     "name": "stderr",
     "output_type": "stream",
     "text": [
      "[13:51:21][WARNING] Spyglass: Deprecation: this class has been moved out of spyglass.common.common_position\n",
      "\tIntervalLinearizedPosition -> spyglass.linearization.v0.main.IntervalLinearizedPosition\n",
      "Please use the new location.\n"
     ]
    },
    {
     "name": "stdout",
     "output_type": "stream",
     "text": [
      "currently investigating:\n",
      "06_Seq2Session3\n",
      "pos 5 valid times\n"
     ]
    },
    {
     "name": "stderr",
     "output_type": "stream",
     "text": [
      "[13:51:21][WARNING] Spyglass: Deprecation: this class has been moved out of spyglass.common.common_position\n",
      "\tIntervalLinearizedPosition -> spyglass.linearization.v0.main.IntervalLinearizedPosition\n",
      "Please use the new location.\n"
     ]
    },
    {
     "name": "stdout",
     "output_type": "stream",
     "text": [
      "currently investigating:\n",
      "06_Seq2Session3\n",
      "pos 5 valid times\n"
     ]
    },
    {
     "name": "stderr",
     "output_type": "stream",
     "text": [
      "[13:51:22][WARNING] Spyglass: Deprecation: this class has been moved out of spyglass.common.common_position\n",
      "\tIntervalLinearizedPosition -> spyglass.linearization.v0.main.IntervalLinearizedPosition\n",
      "Please use the new location.\n"
     ]
    },
    {
     "name": "stdout",
     "output_type": "stream",
     "text": [
      "currently investigating:\n",
      "08_Seq2Session4\n",
      "pos 7 valid times\n"
     ]
    },
    {
     "name": "stderr",
     "output_type": "stream",
     "text": [
      "[13:51:22][WARNING] Spyglass: Deprecation: this class has been moved out of spyglass.common.common_position\n",
      "\tIntervalLinearizedPosition -> spyglass.linearization.v0.main.IntervalLinearizedPosition\n",
      "Please use the new location.\n"
     ]
    },
    {
     "name": "stdout",
     "output_type": "stream",
     "text": [
      "currently investigating:\n",
      "08_Seq2Session4\n",
      "pos 7 valid times\n"
     ]
    },
    {
     "name": "stderr",
     "output_type": "stream",
     "text": [
      "[13:51:23][WARNING] Spyglass: Deprecation: this class has been moved out of spyglass.common.common_position\n",
      "\tIntervalLinearizedPosition -> spyglass.linearization.v0.main.IntervalLinearizedPosition\n",
      "Please use the new location.\n"
     ]
    },
    {
     "name": "stdout",
     "output_type": "stream",
     "text": [
      "currently investigating:\n",
      "10_Seq2Session5\n",
      "pos 9 valid times\n"
     ]
    },
    {
     "name": "stderr",
     "output_type": "stream",
     "text": [
      "[13:51:24][WARNING] Spyglass: Deprecation: this class has been moved out of spyglass.common.common_position\n",
      "\tIntervalLinearizedPosition -> spyglass.linearization.v0.main.IntervalLinearizedPosition\n",
      "Please use the new location.\n"
     ]
    },
    {
     "name": "stdout",
     "output_type": "stream",
     "text": [
      "currently investigating:\n",
      "10_Seq2Session5\n",
      "pos 9 valid times\n"
     ]
    },
    {
     "name": "stderr",
     "output_type": "stream",
     "text": [
      "[13:51:25][WARNING] Spyglass: Deprecation: this class has been moved out of spyglass.common.common_position\n",
      "\tIntervalLinearizedPosition -> spyglass.linearization.v0.main.IntervalLinearizedPosition\n",
      "Please use the new location.\n"
     ]
    },
    {
     "name": "stdout",
     "output_type": "stream",
     "text": [
      "currently investigating:\n",
      "12_Seq2Session6\n",
      "pos 11 valid times\n"
     ]
    },
    {
     "name": "stderr",
     "output_type": "stream",
     "text": [
      "[13:51:25][WARNING] Spyglass: Deprecation: this class has been moved out of spyglass.common.common_position\n",
      "\tIntervalLinearizedPosition -> spyglass.linearization.v0.main.IntervalLinearizedPosition\n",
      "Please use the new location.\n"
     ]
    },
    {
     "name": "stdout",
     "output_type": "stream",
     "text": [
      "currently investigating:\n",
      "12_Seq2Session6\n",
      "pos 11 valid times\n"
     ]
    }
   ],
   "source": [
    "animal = 'Eliot'\n",
    "dates_to_plot = ['20221017','20221018','20221019','20221020','20221021','20221022','20221023','20221024','20221025','20221026']\n",
    "\n",
    "(day_sessions[animal],trials[animal],\n",
    " time_intervals[animal],arm_identities[animal]) = find_remote_theta_animal(\n",
    "    animal, dates_to_plot, delta_t_minus = 1,delta_t_plus = 3, max_flag = False,\n",
    "    nearby = False # use nearby trial's outbound or inbound\n",
    "    )"
   ]
  },
  {
   "cell_type": "code",
   "execution_count": 457,
   "id": "064b4590-5a5d-4fc9-a841-1f9dfe75df76",
   "metadata": {},
   "outputs": [],
   "source": [
    "def plot_coef(result,coef_name,response_name,title):\n",
    "    summary = pd.read_html(result.summary().tables[1].as_html(),header=0,index_col=0)[0]\n",
    "    \n",
    "    coef = np.array(summary['coef'])\n",
    "    assert len(coef) == len(coef_name)\n",
    "    \n",
    "    error = np.array(summary['std err'])\n",
    "    #coef_name = ['constant','imminent choice', 'past reward', 'past']\n",
    "    p = np.array(summary['P>|z|'])\n",
    "    coef_CI_25 = np.array(summary['[0.025'])\n",
    "    coef_CI_975 = np.array(summary['0.975]'])\n",
    "    \n",
    "    x = range(len(coef))\n",
    "    y = coef #contains mean values in list\n",
    "    z = error #contains std values in list\n",
    "\n",
    "    fig,ax = plt.subplots(1,1,figsize = (5,2))\n",
    "    for i in x:\n",
    "        ax.plot([x[i],x[i]],[coef_CI_25[i],coef_CI_975[i]],color = 'k')\n",
    "        if p[i] <= 0.05:\n",
    "            ax.text(x[i], coef_CI_975[i], \"*\")\n",
    "\n",
    "    ax.set_ylabel(response_name)\n",
    "    ax.set_xticks(np.arange(len(x)));\n",
    "    ax.set_xticklabels(coef_name);\n",
    "    ax.set_title(title)\n",
    "    return fig, ax"
   ]
  },
  {
   "cell_type": "code",
   "execution_count": 530,
   "id": "dfb1fa51-96ff-4d4c-9fc1-019af59301a9",
   "metadata": {
    "scrolled": true
   },
   "outputs": [
    {
     "name": "stderr",
     "output_type": "stream",
     "text": [
      "[19:52:01][WARNING] Spyglass: Deprecation: this class has been moved out of spyglass.common.common_position\n",
      "\tIntervalLinearizedPosition -> spyglass.linearization.v0.main.IntervalLinearizedPosition\n",
      "Please use the new location.\n",
      "[19:52:01][WARNING] Spyglass: Deprecation: this class has been moved out of spyglass.common.common_position\n",
      "\tIntervalLinearizedPosition -> spyglass.linearization.v0.main.IntervalLinearizedPosition\n",
      "Please use the new location.\n"
     ]
    },
    {
     "name": "stdout",
     "output_type": "stream",
     "text": [
      "currently investigating:\n",
      "02_Rev2Session1\n",
      "pos 1 valid times\n"
     ]
    },
    {
     "name": "stderr",
     "output_type": "stream",
     "text": [
      "[19:52:02][WARNING] Spyglass: Deprecation: this class has been moved out of spyglass.common.common_position\n",
      "\tIntervalLinearizedPosition -> spyglass.linearization.v0.main.IntervalLinearizedPosition\n",
      "Please use the new location.\n"
     ]
    },
    {
     "name": "stdout",
     "output_type": "stream",
     "text": [
      "a [2]\n",
      "a [2]\n",
      "a [2]\n",
      "a [2]\n",
      "a [2]\n"
     ]
    },
    {
     "name": "stderr",
     "output_type": "stream",
     "text": [
      "[19:52:03][WARNING] Spyglass: Deprecation: this class has been moved out of spyglass.common.common_position\n",
      "\tIntervalLinearizedPosition -> spyglass.linearization.v0.main.IntervalLinearizedPosition\n",
      "Please use the new location.\n"
     ]
    },
    {
     "name": "stdout",
     "output_type": "stream",
     "text": [
      "currently investigating:\n",
      "04_Rev2Session2\n",
      "pos 3 valid times\n"
     ]
    },
    {
     "name": "stderr",
     "output_type": "stream",
     "text": [
      "[19:52:03][WARNING] Spyglass: Deprecation: this class has been moved out of spyglass.common.common_position\n",
      "\tIntervalLinearizedPosition -> spyglass.linearization.v0.main.IntervalLinearizedPosition\n",
      "Please use the new location.\n"
     ]
    },
    {
     "name": "stdout",
     "output_type": "stream",
     "text": [
      "a [2]\n",
      "a [2]\n",
      "a [2]\n",
      "a [4]\n",
      "a [2]\n",
      "a [2]\n"
     ]
    },
    {
     "name": "stderr",
     "output_type": "stream",
     "text": [
      "[19:52:04][WARNING] Spyglass: Deprecation: this class has been moved out of spyglass.common.common_position\n",
      "\tIntervalLinearizedPosition -> spyglass.linearization.v0.main.IntervalLinearizedPosition\n",
      "Please use the new location.\n"
     ]
    },
    {
     "name": "stdout",
     "output_type": "stream",
     "text": [
      "currently investigating:\n",
      "06_Rev2Session3\n",
      "pos 5 valid times\n"
     ]
    },
    {
     "name": "stderr",
     "output_type": "stream",
     "text": [
      "[19:52:04][WARNING] Spyglass: Deprecation: this class has been moved out of spyglass.common.common_position\n",
      "\tIntervalLinearizedPosition -> spyglass.linearization.v0.main.IntervalLinearizedPosition\n",
      "Please use the new location.\n",
      "[19:52:04][WARNING] Spyglass: Deprecation: this class has been moved out of spyglass.common.common_position\n",
      "\tIntervalLinearizedPosition -> spyglass.linearization.v0.main.IntervalLinearizedPosition\n",
      "Please use the new location.\n"
     ]
    },
    {
     "name": "stdout",
     "output_type": "stream",
     "text": [
      "a [2]\n",
      "a [2]\n",
      "currently investigating:\n",
      "08_Rev2Session4\n",
      "pos 7 valid times\n"
     ]
    },
    {
     "name": "stderr",
     "output_type": "stream",
     "text": [
      "[19:52:05][WARNING] Spyglass: Deprecation: this class has been moved out of spyglass.common.common_position\n",
      "\tIntervalLinearizedPosition -> spyglass.linearization.v0.main.IntervalLinearizedPosition\n",
      "Please use the new location.\n",
      "[19:52:05][WARNING] Spyglass: Deprecation: this class has been moved out of spyglass.common.common_position\n",
      "\tIntervalLinearizedPosition -> spyglass.linearization.v0.main.IntervalLinearizedPosition\n",
      "Please use the new location.\n"
     ]
    },
    {
     "name": "stdout",
     "output_type": "stream",
     "text": [
      "a [2]\n",
      "a [2]\n",
      "a [1]\n",
      "currently investigating:\n",
      "10_Rev2Session5\n",
      "pos 9 valid times\n"
     ]
    },
    {
     "name": "stderr",
     "output_type": "stream",
     "text": [
      "[19:52:05][WARNING] Spyglass: Deprecation: this class has been moved out of spyglass.common.common_position\n",
      "\tIntervalLinearizedPosition -> spyglass.linearization.v0.main.IntervalLinearizedPosition\n",
      "Please use the new location.\n",
      "[19:52:05][WARNING] Spyglass: Deprecation: this class has been moved out of spyglass.common.common_position\n",
      "\tIntervalLinearizedPosition -> spyglass.linearization.v0.main.IntervalLinearizedPosition\n",
      "Please use the new location.\n"
     ]
    },
    {
     "name": "stdout",
     "output_type": "stream",
     "text": [
      "currently investigating:\n",
      "02_Rev2Session1\n",
      "pos 1 valid times\n"
     ]
    },
    {
     "name": "stderr",
     "output_type": "stream",
     "text": [
      "[19:52:06][WARNING] Spyglass: Deprecation: this class has been moved out of spyglass.common.common_position\n",
      "\tIntervalLinearizedPosition -> spyglass.linearization.v0.main.IntervalLinearizedPosition\n",
      "Please use the new location.\n",
      "[19:52:06][WARNING] Spyglass: Deprecation: this class has been moved out of spyglass.common.common_position\n",
      "\tIntervalLinearizedPosition -> spyglass.linearization.v0.main.IntervalLinearizedPosition\n",
      "Please use the new location.\n"
     ]
    },
    {
     "name": "stdout",
     "output_type": "stream",
     "text": [
      "a [3]\n",
      "a [2]\n",
      "currently investigating:\n",
      "04_Rev2Session2\n",
      "pos 3 valid times\n"
     ]
    },
    {
     "name": "stderr",
     "output_type": "stream",
     "text": [
      "[19:52:07][WARNING] Spyglass: Deprecation: this class has been moved out of spyglass.common.common_position\n",
      "\tIntervalLinearizedPosition -> spyglass.linearization.v0.main.IntervalLinearizedPosition\n",
      "Please use the new location.\n",
      "[19:52:07][WARNING] Spyglass: Deprecation: this class has been moved out of spyglass.common.common_position\n",
      "\tIntervalLinearizedPosition -> spyglass.linearization.v0.main.IntervalLinearizedPosition\n",
      "Please use the new location.\n"
     ]
    },
    {
     "name": "stdout",
     "output_type": "stream",
     "text": [
      "a [2]\n",
      "a [3]\n",
      "currently investigating:\n",
      "06_Rev2Session3\n",
      "pos 5 valid times\n"
     ]
    },
    {
     "name": "stderr",
     "output_type": "stream",
     "text": [
      "[19:52:08][WARNING] Spyglass: Deprecation: this class has been moved out of spyglass.common.common_position\n",
      "\tIntervalLinearizedPosition -> spyglass.linearization.v0.main.IntervalLinearizedPosition\n",
      "Please use the new location.\n",
      "[19:52:08][WARNING] Spyglass: Deprecation: this class has been moved out of spyglass.common.common_position\n",
      "\tIntervalLinearizedPosition -> spyglass.linearization.v0.main.IntervalLinearizedPosition\n",
      "Please use the new location.\n"
     ]
    },
    {
     "name": "stdout",
     "output_type": "stream",
     "text": [
      "a [2]\n",
      "currently investigating:\n",
      "08_Rev2Session4\n",
      "pos 7 valid times\n"
     ]
    },
    {
     "name": "stderr",
     "output_type": "stream",
     "text": [
      "[19:52:08][WARNING] Spyglass: Deprecation: this class has been moved out of spyglass.common.common_position\n",
      "\tIntervalLinearizedPosition -> spyglass.linearization.v0.main.IntervalLinearizedPosition\n",
      "Please use the new location.\n",
      "[19:52:08][WARNING] Spyglass: Deprecation: this class has been moved out of spyglass.common.common_position\n",
      "\tIntervalLinearizedPosition -> spyglass.linearization.v0.main.IntervalLinearizedPosition\n",
      "Please use the new location.\n"
     ]
    },
    {
     "name": "stdout",
     "output_type": "stream",
     "text": [
      "currently investigating:\n",
      "02_Rev2Session1\n",
      "pos 1 valid times\n"
     ]
    },
    {
     "name": "stderr",
     "output_type": "stream",
     "text": [
      "[19:52:09][WARNING] Spyglass: Deprecation: this class has been moved out of spyglass.common.common_position\n",
      "\tIntervalLinearizedPosition -> spyglass.linearization.v0.main.IntervalLinearizedPosition\n",
      "Please use the new location.\n",
      "[19:52:09][WARNING] Spyglass: Deprecation: this class has been moved out of spyglass.common.common_position\n",
      "\tIntervalLinearizedPosition -> spyglass.linearization.v0.main.IntervalLinearizedPosition\n",
      "Please use the new location.\n"
     ]
    },
    {
     "name": "stdout",
     "output_type": "stream",
     "text": [
      "a [1 2 3]\n",
      "currently investigating:\n",
      "04_Rev2Session2\n",
      "pos 3 valid times\n"
     ]
    },
    {
     "name": "stderr",
     "output_type": "stream",
     "text": [
      "[19:52:10][WARNING] Spyglass: Deprecation: this class has been moved out of spyglass.common.common_position\n",
      "\tIntervalLinearizedPosition -> spyglass.linearization.v0.main.IntervalLinearizedPosition\n",
      "Please use the new location.\n",
      "[19:52:10][WARNING] Spyglass: Deprecation: this class has been moved out of spyglass.common.common_position\n",
      "\tIntervalLinearizedPosition -> spyglass.linearization.v0.main.IntervalLinearizedPosition\n",
      "Please use the new location.\n"
     ]
    },
    {
     "name": "stdout",
     "output_type": "stream",
     "text": [
      "currently investigating:\n",
      "06_Rev2Session3\n",
      "pos 5 valid times\n"
     ]
    },
    {
     "name": "stderr",
     "output_type": "stream",
     "text": [
      "[19:52:11][WARNING] Spyglass: Deprecation: this class has been moved out of spyglass.common.common_position\n",
      "\tIntervalLinearizedPosition -> spyglass.linearization.v0.main.IntervalLinearizedPosition\n",
      "Please use the new location.\n",
      "[19:52:11][WARNING] Spyglass: Deprecation: this class has been moved out of spyglass.common.common_position\n",
      "\tIntervalLinearizedPosition -> spyglass.linearization.v0.main.IntervalLinearizedPosition\n",
      "Please use the new location.\n"
     ]
    },
    {
     "name": "stdout",
     "output_type": "stream",
     "text": [
      "currently investigating:\n",
      "08_Rev2Session4\n",
      "pos 7 valid times\n"
     ]
    },
    {
     "name": "stderr",
     "output_type": "stream",
     "text": [
      "[19:52:11][WARNING] Spyglass: Deprecation: this class has been moved out of spyglass.common.common_position\n",
      "\tIntervalLinearizedPosition -> spyglass.linearization.v0.main.IntervalLinearizedPosition\n",
      "Please use the new location.\n",
      "[19:52:11][WARNING] Spyglass: Deprecation: this class has been moved out of spyglass.common.common_position\n",
      "\tIntervalLinearizedPosition -> spyglass.linearization.v0.main.IntervalLinearizedPosition\n",
      "Please use the new location.\n"
     ]
    },
    {
     "name": "stdout",
     "output_type": "stream",
     "text": [
      "a [2]\n",
      "a [2]\n",
      "a [2]\n",
      "currently investigating:\n",
      "10_Rev2Session5\n",
      "pos 9 valid times\n"
     ]
    },
    {
     "name": "stderr",
     "output_type": "stream",
     "text": [
      "[19:52:12][WARNING] Spyglass: Deprecation: this class has been moved out of spyglass.common.common_position\n",
      "\tIntervalLinearizedPosition -> spyglass.linearization.v0.main.IntervalLinearizedPosition\n",
      "Please use the new location.\n",
      "[19:52:12][WARNING] Spyglass: Deprecation: this class has been moved out of spyglass.common.common_position\n",
      "\tIntervalLinearizedPosition -> spyglass.linearization.v0.main.IntervalLinearizedPosition\n",
      "Please use the new location.\n"
     ]
    },
    {
     "name": "stdout",
     "output_type": "stream",
     "text": [
      "a [2]\n",
      "currently investigating:\n",
      "02_Rev2Session1\n",
      "pos 1 valid times\n"
     ]
    },
    {
     "name": "stderr",
     "output_type": "stream",
     "text": [
      "[19:52:12][WARNING] Spyglass: Deprecation: this class has been moved out of spyglass.common.common_position\n",
      "\tIntervalLinearizedPosition -> spyglass.linearization.v0.main.IntervalLinearizedPosition\n",
      "Please use the new location.\n"
     ]
    },
    {
     "name": "stdout",
     "output_type": "stream",
     "text": [
      "a [2]\n",
      "a [2]\n",
      "a [2]\n",
      "a [4]\n",
      "a [2]\n",
      "a [2]\n"
     ]
    },
    {
     "name": "stderr",
     "output_type": "stream",
     "text": [
      "[19:52:13][WARNING] Spyglass: Deprecation: this class has been moved out of spyglass.common.common_position\n",
      "\tIntervalLinearizedPosition -> spyglass.linearization.v0.main.IntervalLinearizedPosition\n",
      "Please use the new location.\n"
     ]
    },
    {
     "name": "stdout",
     "output_type": "stream",
     "text": [
      "currently investigating:\n",
      "04_Rev2Session2\n",
      "pos 3 valid times\n"
     ]
    },
    {
     "name": "stderr",
     "output_type": "stream",
     "text": [
      "[19:52:13][WARNING] Spyglass: Deprecation: this class has been moved out of spyglass.common.common_position\n",
      "\tIntervalLinearizedPosition -> spyglass.linearization.v0.main.IntervalLinearizedPosition\n",
      "Please use the new location.\n",
      "[19:52:13][WARNING] Spyglass: Deprecation: this class has been moved out of spyglass.common.common_position\n",
      "\tIntervalLinearizedPosition -> spyglass.linearization.v0.main.IntervalLinearizedPosition\n",
      "Please use the new location.\n"
     ]
    },
    {
     "name": "stdout",
     "output_type": "stream",
     "text": [
      "a [2]\n",
      "a [3]\n",
      "a [3]\n",
      "a [2]\n",
      "a [2 4]\n",
      "a [2]\n",
      "a [2]\n",
      "a [2]\n",
      "currently investigating:\n",
      "06_Rev2Session3\n",
      "pos 5 valid times\n"
     ]
    },
    {
     "name": "stderr",
     "output_type": "stream",
     "text": [
      "[19:52:14][WARNING] Spyglass: Deprecation: this class has been moved out of spyglass.common.common_position\n",
      "\tIntervalLinearizedPosition -> spyglass.linearization.v0.main.IntervalLinearizedPosition\n",
      "Please use the new location.\n",
      "[19:52:14][WARNING] Spyglass: Deprecation: this class has been moved out of spyglass.common.common_position\n",
      "\tIntervalLinearizedPosition -> spyglass.linearization.v0.main.IntervalLinearizedPosition\n",
      "Please use the new location.\n"
     ]
    },
    {
     "name": "stdout",
     "output_type": "stream",
     "text": [
      "a [2]\n",
      "a [2]\n",
      "currently investigating:\n",
      "08_Rev2Session4\n",
      "pos 7 valid times\n"
     ]
    },
    {
     "name": "stderr",
     "output_type": "stream",
     "text": [
      "[19:52:14][WARNING] Spyglass: Deprecation: this class has been moved out of spyglass.common.common_position\n",
      "\tIntervalLinearizedPosition -> spyglass.linearization.v0.main.IntervalLinearizedPosition\n",
      "Please use the new location.\n"
     ]
    },
    {
     "name": "stdout",
     "output_type": "stream",
     "text": [
      "a [2]\n",
      "a [2]\n"
     ]
    },
    {
     "name": "stderr",
     "output_type": "stream",
     "text": [
      "[19:52:15][WARNING] Spyglass: Deprecation: this class has been moved out of spyglass.common.common_position\n",
      "\tIntervalLinearizedPosition -> spyglass.linearization.v0.main.IntervalLinearizedPosition\n",
      "Please use the new location.\n"
     ]
    },
    {
     "name": "stdout",
     "output_type": "stream",
     "text": [
      "currently investigating:\n",
      "02_Rev2Session1\n",
      "pos 1 valid times\n"
     ]
    },
    {
     "name": "stderr",
     "output_type": "stream",
     "text": [
      "[19:52:15][WARNING] Spyglass: Deprecation: this class has been moved out of spyglass.common.common_position\n",
      "\tIntervalLinearizedPosition -> spyglass.linearization.v0.main.IntervalLinearizedPosition\n",
      "Please use the new location.\n"
     ]
    },
    {
     "name": "stdout",
     "output_type": "stream",
     "text": [
      "a [2 3]\n",
      "a [2]\n"
     ]
    },
    {
     "name": "stderr",
     "output_type": "stream",
     "text": [
      "[19:52:16][WARNING] Spyglass: Deprecation: this class has been moved out of spyglass.common.common_position\n",
      "\tIntervalLinearizedPosition -> spyglass.linearization.v0.main.IntervalLinearizedPosition\n",
      "Please use the new location.\n"
     ]
    },
    {
     "name": "stdout",
     "output_type": "stream",
     "text": [
      "currently investigating:\n",
      "04_Rev2Session2\n",
      "pos 3 valid times\n"
     ]
    },
    {
     "name": "stderr",
     "output_type": "stream",
     "text": [
      "[19:52:16][WARNING] Spyglass: Deprecation: this class has been moved out of spyglass.common.common_position\n",
      "\tIntervalLinearizedPosition -> spyglass.linearization.v0.main.IntervalLinearizedPosition\n",
      "Please use the new location.\n"
     ]
    },
    {
     "name": "stdout",
     "output_type": "stream",
     "text": [
      "a [2]\n",
      "a [2]\n",
      "a [2]\n",
      "a [2]\n",
      "a [3]\n",
      "a [2]\n"
     ]
    },
    {
     "name": "stderr",
     "output_type": "stream",
     "text": [
      "[19:52:17][WARNING] Spyglass: Deprecation: this class has been moved out of spyglass.common.common_position\n",
      "\tIntervalLinearizedPosition -> spyglass.linearization.v0.main.IntervalLinearizedPosition\n",
      "Please use the new location.\n"
     ]
    },
    {
     "name": "stdout",
     "output_type": "stream",
     "text": [
      "currently investigating:\n",
      "06_Rev2Session3\n",
      "pos 5 valid times\n"
     ]
    },
    {
     "name": "stderr",
     "output_type": "stream",
     "text": [
      "[19:52:17][WARNING] Spyglass: Deprecation: this class has been moved out of spyglass.common.common_position\n",
      "\tIntervalLinearizedPosition -> spyglass.linearization.v0.main.IntervalLinearizedPosition\n",
      "Please use the new location.\n",
      "[19:52:17][WARNING] Spyglass: Deprecation: this class has been moved out of spyglass.common.common_position\n",
      "\tIntervalLinearizedPosition -> spyglass.linearization.v0.main.IntervalLinearizedPosition\n",
      "Please use the new location.\n"
     ]
    },
    {
     "name": "stdout",
     "output_type": "stream",
     "text": [
      "a [3]\n",
      "a [2]\n",
      "a [3]\n",
      "a [2]\n",
      "currently investigating:\n",
      "08_Rev2Session4\n",
      "pos 7 valid times\n"
     ]
    },
    {
     "name": "stderr",
     "output_type": "stream",
     "text": [
      "[19:52:18][WARNING] Spyglass: Deprecation: this class has been moved out of spyglass.common.common_position\n",
      "\tIntervalLinearizedPosition -> spyglass.linearization.v0.main.IntervalLinearizedPosition\n",
      "Please use the new location.\n",
      "[19:52:18][WARNING] Spyglass: Deprecation: this class has been moved out of spyglass.common.common_position\n",
      "\tIntervalLinearizedPosition -> spyglass.linearization.v0.main.IntervalLinearizedPosition\n",
      "Please use the new location.\n"
     ]
    },
    {
     "name": "stdout",
     "output_type": "stream",
     "text": [
      "a [2]\n",
      "a [2]\n",
      "currently investigating:\n",
      "02_Rev2Session1\n",
      "pos 1 valid times\n"
     ]
    },
    {
     "name": "stderr",
     "output_type": "stream",
     "text": [
      "[19:52:19][WARNING] Spyglass: Deprecation: this class has been moved out of spyglass.common.common_position\n",
      "\tIntervalLinearizedPosition -> spyglass.linearization.v0.main.IntervalLinearizedPosition\n",
      "Please use the new location.\n",
      "[19:52:19][WARNING] Spyglass: Deprecation: this class has been moved out of spyglass.common.common_position\n",
      "\tIntervalLinearizedPosition -> spyglass.linearization.v0.main.IntervalLinearizedPosition\n",
      "Please use the new location.\n"
     ]
    },
    {
     "name": "stdout",
     "output_type": "stream",
     "text": [
      "a [2]\n",
      "a [2]\n",
      "a [2]\n",
      "a [1 2]\n",
      "currently investigating:\n",
      "04_Rev2Session2\n",
      "pos 3 valid times\n"
     ]
    },
    {
     "name": "stderr",
     "output_type": "stream",
     "text": [
      "[19:52:20][WARNING] Spyglass: Deprecation: this class has been moved out of spyglass.common.common_position\n",
      "\tIntervalLinearizedPosition -> spyglass.linearization.v0.main.IntervalLinearizedPosition\n",
      "Please use the new location.\n"
     ]
    },
    {
     "name": "stdout",
     "output_type": "stream",
     "text": [
      "a [2]\n",
      "a [2]\n",
      "a [2]\n",
      "a [1]\n",
      "a [2 4]\n",
      "a [2]\n",
      "a [2]\n",
      "a [2]\n",
      "a [2]\n"
     ]
    },
    {
     "name": "stderr",
     "output_type": "stream",
     "text": [
      "[19:52:20][WARNING] Spyglass: Deprecation: this class has been moved out of spyglass.common.common_position\n",
      "\tIntervalLinearizedPosition -> spyglass.linearization.v0.main.IntervalLinearizedPosition\n",
      "Please use the new location.\n"
     ]
    },
    {
     "name": "stdout",
     "output_type": "stream",
     "text": [
      "currently investigating:\n",
      "06_Rev2Session3\n",
      "pos 5 valid times\n"
     ]
    },
    {
     "name": "stderr",
     "output_type": "stream",
     "text": [
      "[19:52:20][WARNING] Spyglass: Deprecation: this class has been moved out of spyglass.common.common_position\n",
      "\tIntervalLinearizedPosition -> spyglass.linearization.v0.main.IntervalLinearizedPosition\n",
      "Please use the new location.\n",
      "[19:52:21][WARNING] Spyglass: Deprecation: this class has been moved out of spyglass.common.common_position\n",
      "\tIntervalLinearizedPosition -> spyglass.linearization.v0.main.IntervalLinearizedPosition\n",
      "Please use the new location.\n"
     ]
    },
    {
     "name": "stdout",
     "output_type": "stream",
     "text": [
      "a [2]\n",
      "a [2]\n",
      "currently investigating:\n",
      "08_Rev2Session4\n",
      "pos 7 valid times\n"
     ]
    },
    {
     "name": "stderr",
     "output_type": "stream",
     "text": [
      "[19:52:21][WARNING] Spyglass: Deprecation: this class has been moved out of spyglass.common.common_position\n",
      "\tIntervalLinearizedPosition -> spyglass.linearization.v0.main.IntervalLinearizedPosition\n",
      "Please use the new location.\n",
      "[19:52:21][WARNING] Spyglass: Deprecation: this class has been moved out of spyglass.common.common_position\n",
      "\tIntervalLinearizedPosition -> spyglass.linearization.v0.main.IntervalLinearizedPosition\n",
      "Please use the new location.\n"
     ]
    },
    {
     "name": "stdout",
     "output_type": "stream",
     "text": [
      "currently investigating:\n",
      "10_Rev2Session5\n",
      "pos 9 valid times\n"
     ]
    },
    {
     "name": "stderr",
     "output_type": "stream",
     "text": [
      "[19:52:21][WARNING] Spyglass: Deprecation: this class has been moved out of spyglass.common.common_position\n",
      "\tIntervalLinearizedPosition -> spyglass.linearization.v0.main.IntervalLinearizedPosition\n",
      "Please use the new location.\n",
      "[19:52:21][WARNING] Spyglass: Deprecation: this class has been moved out of spyglass.common.common_position\n",
      "\tIntervalLinearizedPosition -> spyglass.linearization.v0.main.IntervalLinearizedPosition\n",
      "Please use the new location.\n"
     ]
    },
    {
     "name": "stdout",
     "output_type": "stream",
     "text": [
      "a [2]\n",
      "currently investigating:\n",
      "02_Rev2Session1\n",
      "pos 1 valid times\n"
     ]
    },
    {
     "name": "stderr",
     "output_type": "stream",
     "text": [
      "[19:52:22][WARNING] Spyglass: Deprecation: this class has been moved out of spyglass.common.common_position\n",
      "\tIntervalLinearizedPosition -> spyglass.linearization.v0.main.IntervalLinearizedPosition\n",
      "Please use the new location.\n",
      "[19:52:22][WARNING] Spyglass: Deprecation: this class has been moved out of spyglass.common.common_position\n",
      "\tIntervalLinearizedPosition -> spyglass.linearization.v0.main.IntervalLinearizedPosition\n",
      "Please use the new location.\n"
     ]
    },
    {
     "name": "stdout",
     "output_type": "stream",
     "text": [
      "a [2]\n",
      "a [2]\n",
      "currently investigating:\n",
      "04_Rev2Session2\n",
      "pos 3 valid times\n"
     ]
    },
    {
     "name": "stderr",
     "output_type": "stream",
     "text": [
      "[19:52:23][WARNING] Spyglass: Deprecation: this class has been moved out of spyglass.common.common_position\n",
      "\tIntervalLinearizedPosition -> spyglass.linearization.v0.main.IntervalLinearizedPosition\n",
      "Please use the new location.\n",
      "[19:52:23][WARNING] Spyglass: Deprecation: this class has been moved out of spyglass.common.common_position\n",
      "\tIntervalLinearizedPosition -> spyglass.linearization.v0.main.IntervalLinearizedPosition\n",
      "Please use the new location.\n"
     ]
    },
    {
     "name": "stdout",
     "output_type": "stream",
     "text": [
      "a [2]\n",
      "a [2]\n",
      "a [2]\n",
      "currently investigating:\n",
      "06_Rev2Session3\n",
      "pos 5 valid times\n"
     ]
    },
    {
     "name": "stderr",
     "output_type": "stream",
     "text": [
      "[19:52:24][WARNING] Spyglass: Deprecation: this class has been moved out of spyglass.common.common_position\n",
      "\tIntervalLinearizedPosition -> spyglass.linearization.v0.main.IntervalLinearizedPosition\n",
      "Please use the new location.\n",
      "[19:52:24][WARNING] Spyglass: Deprecation: this class has been moved out of spyglass.common.common_position\n",
      "\tIntervalLinearizedPosition -> spyglass.linearization.v0.main.IntervalLinearizedPosition\n",
      "Please use the new location.\n"
     ]
    },
    {
     "name": "stdout",
     "output_type": "stream",
     "text": [
      "a [2]\n",
      "a [4]\n",
      "a [2]\n",
      "a [2]\n",
      "currently investigating:\n",
      "08_Rev2Session4\n",
      "pos 7 valid times\n"
     ]
    },
    {
     "name": "stderr",
     "output_type": "stream",
     "text": [
      "[19:52:24][WARNING] Spyglass: Deprecation: this class has been moved out of spyglass.common.common_position\n",
      "\tIntervalLinearizedPosition -> spyglass.linearization.v0.main.IntervalLinearizedPosition\n",
      "Please use the new location.\n",
      "[19:52:24][WARNING] Spyglass: Deprecation: this class has been moved out of spyglass.common.common_position\n",
      "\tIntervalLinearizedPosition -> spyglass.linearization.v0.main.IntervalLinearizedPosition\n",
      "Please use the new location.\n"
     ]
    },
    {
     "name": "stdout",
     "output_type": "stream",
     "text": [
      "a [2]\n",
      "a [2]\n",
      "currently investigating:\n",
      "02_Rev2Session1\n",
      "pos 1 valid times\n"
     ]
    },
    {
     "name": "stderr",
     "output_type": "stream",
     "text": [
      "[19:52:25][WARNING] Spyglass: Deprecation: this class has been moved out of spyglass.common.common_position\n",
      "\tIntervalLinearizedPosition -> spyglass.linearization.v0.main.IntervalLinearizedPosition\n",
      "Please use the new location.\n",
      "[19:52:25][WARNING] Spyglass: Deprecation: this class has been moved out of spyglass.common.common_position\n",
      "\tIntervalLinearizedPosition -> spyglass.linearization.v0.main.IntervalLinearizedPosition\n",
      "Please use the new location.\n"
     ]
    },
    {
     "name": "stdout",
     "output_type": "stream",
     "text": [
      "a [2]\n",
      "a [2]\n",
      "a [2]\n",
      "currently investigating:\n",
      "04_Rev2Session2\n",
      "pos 3 valid times\n"
     ]
    },
    {
     "name": "stderr",
     "output_type": "stream",
     "text": [
      "[19:52:26][WARNING] Spyglass: Deprecation: this class has been moved out of spyglass.common.common_position\n",
      "\tIntervalLinearizedPosition -> spyglass.linearization.v0.main.IntervalLinearizedPosition\n",
      "Please use the new location.\n",
      "[19:52:26][WARNING] Spyglass: Deprecation: this class has been moved out of spyglass.common.common_position\n",
      "\tIntervalLinearizedPosition -> spyglass.linearization.v0.main.IntervalLinearizedPosition\n",
      "Please use the new location.\n"
     ]
    },
    {
     "name": "stdout",
     "output_type": "stream",
     "text": [
      "a [2]\n",
      "a [2]\n",
      "a [2]\n",
      "currently investigating:\n",
      "06_Rev2Session3\n",
      "pos 5 valid times\n"
     ]
    },
    {
     "name": "stderr",
     "output_type": "stream",
     "text": [
      "[19:52:27][WARNING] Spyglass: Deprecation: this class has been moved out of spyglass.common.common_position\n",
      "\tIntervalLinearizedPosition -> spyglass.linearization.v0.main.IntervalLinearizedPosition\n",
      "Please use the new location.\n",
      "[19:52:27][WARNING] Spyglass: Deprecation: this class has been moved out of spyglass.common.common_position\n",
      "\tIntervalLinearizedPosition -> spyglass.linearization.v0.main.IntervalLinearizedPosition\n",
      "Please use the new location.\n"
     ]
    },
    {
     "name": "stdout",
     "output_type": "stream",
     "text": [
      "currently investigating:\n",
      "08_Rev2Session4\n",
      "pos 7 valid times\n",
      "a [2]\n",
      "a [2]\n",
      "                 Generalized Linear Model Regression Results                  \n",
      "==============================================================================\n",
      "Dep. Variable:                      y   No. Observations:                  372\n",
      "Model:                            GLM   Df Residuals:                      368\n",
      "Model Family:                Binomial   Df Model:                            3\n",
      "Link Function:                  Logit   Scale:                          1.0000\n",
      "Method:                          IRLS   Log-Likelihood:                -215.24\n",
      "Date:                Mon, 06 Jan 2025   Deviance:                       430.48\n",
      "Time:                        19:52:27   Pearson chi2:                     372.\n",
      "No. Iterations:                     4   Pseudo R-squ. (CS):           0.001531\n",
      "Covariance Type:            nonrobust                                         \n",
      "==============================================================================\n",
      "                 coef    std err          z      P>|z|      [0.025      0.975]\n",
      "------------------------------------------------------------------------------\n",
      "const         -1.1014      0.176     -6.253      0.000      -1.447      -0.756\n",
      "x1             0.0994      0.292      0.340      0.734      -0.473       0.672\n",
      "x2             0.1188      0.344      0.346      0.730      -0.555       0.793\n",
      "x3             0.1226      0.346      0.355      0.723      -0.555       0.800\n",
      "==============================================================================\n",
      "                 Generalized Linear Model Regression Results                  \n",
      "==============================================================================\n",
      "Dep. Variable:                      y   No. Observations:                  372\n",
      "Model:                            GLM   Df Residuals:                      370\n",
      "Model Family:                Binomial   Df Model:                            1\n",
      "Link Function:                  Logit   Scale:                          1.0000\n",
      "Method:                          IRLS   Log-Likelihood:                -209.19\n",
      "Date:                Mon, 06 Jan 2025   Deviance:                       418.37\n",
      "Time:                        19:52:27   Pearson chi2:                     372.\n",
      "No. Iterations:                     4   Pseudo R-squ. (CS):          1.232e-05\n",
      "Covariance Type:            nonrobust                                         \n",
      "==============================================================================\n",
      "                 coef    std err          z      P>|z|      [0.025      0.975]\n",
      "------------------------------------------------------------------------------\n",
      "const         -1.1035      0.140     -7.885      0.000      -1.378      -0.829\n",
      "x1             0.0183      0.270      0.068      0.946      -0.512       0.548\n",
      "==============================================================================\n",
      "                 Generalized Linear Model Regression Results                  \n",
      "==============================================================================\n",
      "Dep. Variable:                      y   No. Observations:                  404\n",
      "Model:                            GLM   Df Residuals:                      403\n",
      "Model Family:                Binomial   Df Model:                            0\n",
      "Link Function:                  Logit   Scale:                          1.0000\n",
      "Method:                          IRLS   Log-Likelihood:                -278.80\n",
      "Date:                Mon, 06 Jan 2025   Deviance:                       557.59\n",
      "Time:                        19:52:27   Pearson chi2:                     404.\n",
      "No. Iterations:                     4   Pseudo R-squ. (CS):           -0.04034\n",
      "Covariance Type:            nonrobust                                         \n",
      "==============================================================================\n",
      "                 coef    std err          z      P>|z|      [0.025      0.975]\n",
      "------------------------------------------------------------------------------\n",
      "x1            -0.3102      0.198     -1.563      0.118      -0.699       0.079\n",
      "==============================================================================\n"
     ]
    }
   ],
   "source": [
    "model1, model2, model3 = do_GLM(\"Lewis\", day_sessions, trials, arm_identities, time_intervals)\n",
    "print(model1['fit'].summary())\n",
    "print(model2['fit'].summary())\n",
    "print(model3['fit'].summary())"
   ]
  },
  {
   "cell_type": "code",
   "execution_count": 532,
   "id": "a8d2b8e8-a4f9-4a4d-9b4b-257fa0a2d4a2",
   "metadata": {},
   "outputs": [
    {
     "data": {
      "text/plain": [
       "(<Figure size 500x200 with 1 Axes>,\n",
       " <Axes: title={'center': 'Lewis'}, ylabel='in future visits on this trial after'>)"
      ]
     },
     "execution_count": 532,
     "metadata": {},
     "output_type": "execute_result"
    },
    {
     "data": {
      "image/png": "[encoded data removed]",
      "text/plain": [
       "<Figure size 500x200 with 1 Axes>"
      ]
     },
     "metadata": {},
     "output_type": "display_data"
    },
    {
     "data": {
      "image/png": "[encoded data removed]",
      "text/plain": [
       "<Figure size 500x200 with 1 Axes>"
      ]
     },
     "metadata": {},
     "output_type": "display_data"
    },
    {
     "data": {
      "image/png": "[encoded data removed]",
      "text/plain": [
       "<Figure size 500x200 with 1 Axes>"
      ]
     },
     "metadata": {},
     "output_type": "display_data"
    }
   ],
   "source": [
    "fig, ax = plot_coef(model1['fit'],['constant','imminent choice', 'past reward', 'past'],\"in theta\",\"Lewis\")\n",
    "plot_coef(model2['fit'],['constant','in theta'],\"choice\",\"Lewis\")\n",
    "plot_coef(model3['fit'],['in theta'],\"in future visits on this trial after\",\"Lewis\")"
   ]
  },
  {
   "cell_type": "code",
   "execution_count": 527,
   "id": "1ad0571c-8086-446f-8b36-187c087f28a5",
   "metadata": {
    "scrolled": true
   },
   "outputs": [
    {
     "name": "stderr",
     "output_type": "stream",
     "text": [
      "[19:50:56][WARNING] Spyglass: Deprecation: this class has been moved out of spyglass.common.common_position\n",
      "\tIntervalLinearizedPosition -> spyglass.linearization.v0.main.IntervalLinearizedPosition\n",
      "Please use the new location.\n",
      "[19:50:56][WARNING] Spyglass: Deprecation: this class has been moved out of spyglass.common.common_position\n",
      "\tIntervalLinearizedPosition -> spyglass.linearization.v0.main.IntervalLinearizedPosition\n",
      "Please use the new location.\n"
     ]
    },
    {
     "name": "stdout",
     "output_type": "stream",
     "text": [
      "currently investigating:\n",
      "02_Seq2Session1\n",
      "pos 1 valid times\n"
     ]
    },
    {
     "name": "stderr",
     "output_type": "stream",
     "text": [
      "[19:50:57][WARNING] Spyglass: Deprecation: this class has been moved out of spyglass.common.common_position\n",
      "\tIntervalLinearizedPosition -> spyglass.linearization.v0.main.IntervalLinearizedPosition\n",
      "Please use the new location.\n",
      "[19:50:57][WARNING] Spyglass: Deprecation: this class has been moved out of spyglass.common.common_position\n",
      "\tIntervalLinearizedPosition -> spyglass.linearization.v0.main.IntervalLinearizedPosition\n",
      "Please use the new location.\n"
     ]
    },
    {
     "name": "stdout",
     "output_type": "stream",
     "text": [
      "currently investigating:\n",
      "04_Seq2Session2\n",
      "pos 3 valid times\n"
     ]
    },
    {
     "name": "stderr",
     "output_type": "stream",
     "text": [
      "[19:50:58][WARNING] Spyglass: Deprecation: this class has been moved out of spyglass.common.common_position\n",
      "\tIntervalLinearizedPosition -> spyglass.linearization.v0.main.IntervalLinearizedPosition\n",
      "Please use the new location.\n",
      "[19:50:58][WARNING] Spyglass: Deprecation: this class has been moved out of spyglass.common.common_position\n",
      "\tIntervalLinearizedPosition -> spyglass.linearization.v0.main.IntervalLinearizedPosition\n",
      "Please use the new location.\n"
     ]
    },
    {
     "name": "stdout",
     "output_type": "stream",
     "text": [
      "currently investigating:\n",
      "06_Seq2Session3\n",
      "pos 5 valid times\n"
     ]
    },
    {
     "name": "stderr",
     "output_type": "stream",
     "text": [
      "[19:50:59][WARNING] Spyglass: Deprecation: this class has been moved out of spyglass.common.common_position\n",
      "\tIntervalLinearizedPosition -> spyglass.linearization.v0.main.IntervalLinearizedPosition\n",
      "Please use the new location.\n",
      "[19:50:59][WARNING] Spyglass: Deprecation: this class has been moved out of spyglass.common.common_position\n",
      "\tIntervalLinearizedPosition -> spyglass.linearization.v0.main.IntervalLinearizedPosition\n",
      "Please use the new location.\n"
     ]
    },
    {
     "name": "stdout",
     "output_type": "stream",
     "text": [
      "a [4]\n",
      "currently investigating:\n",
      "08_Seq2Session4\n",
      "pos 7 valid times\n"
     ]
    },
    {
     "name": "stderr",
     "output_type": "stream",
     "text": [
      "[19:50:59][WARNING] Spyglass: Deprecation: this class has been moved out of spyglass.common.common_position\n",
      "\tIntervalLinearizedPosition -> spyglass.linearization.v0.main.IntervalLinearizedPosition\n",
      "Please use the new location.\n",
      "[19:50:59][WARNING] Spyglass: Deprecation: this class has been moved out of spyglass.common.common_position\n",
      "\tIntervalLinearizedPosition -> spyglass.linearization.v0.main.IntervalLinearizedPosition\n",
      "Please use the new location.\n"
     ]
    },
    {
     "name": "stdout",
     "output_type": "stream",
     "text": [
      "currently investigating:\n",
      "02_Seq2Session1\n",
      "pos 1 valid times\n"
     ]
    },
    {
     "name": "stderr",
     "output_type": "stream",
     "text": [
      "[19:51:00][WARNING] Spyglass: Deprecation: this class has been moved out of spyglass.common.common_position\n",
      "\tIntervalLinearizedPosition -> spyglass.linearization.v0.main.IntervalLinearizedPosition\n",
      "Please use the new location.\n",
      "[19:51:00][WARNING] Spyglass: Deprecation: this class has been moved out of spyglass.common.common_position\n",
      "\tIntervalLinearizedPosition -> spyglass.linearization.v0.main.IntervalLinearizedPosition\n",
      "Please use the new location.\n",
      "[19:51:00][WARNING] Spyglass: Deprecation: this class has been moved out of spyglass.common.common_position\n",
      "\tIntervalLinearizedPosition -> spyglass.linearization.v0.main.IntervalLinearizedPosition\n",
      "Please use the new location.\n"
     ]
    },
    {
     "name": "stdout",
     "output_type": "stream",
     "text": [
      "currently investigating:\n",
      "04_Seq2Session2\n",
      "pos 3 valid times\n"
     ]
    },
    {
     "name": "stderr",
     "output_type": "stream",
     "text": [
      "[19:51:00][WARNING] Spyglass: Deprecation: this class has been moved out of spyglass.common.common_position\n",
      "\tIntervalLinearizedPosition -> spyglass.linearization.v0.main.IntervalLinearizedPosition\n",
      "Please use the new location.\n"
     ]
    },
    {
     "name": "stdout",
     "output_type": "stream",
     "text": [
      "currently investigating:\n",
      "05_Seq2Session3\n",
      "pos 4 valid times\n"
     ]
    },
    {
     "name": "stderr",
     "output_type": "stream",
     "text": [
      "[19:51:01][WARNING] Spyglass: Deprecation: this class has been moved out of spyglass.common.common_position\n",
      "\tIntervalLinearizedPosition -> spyglass.linearization.v0.main.IntervalLinearizedPosition\n",
      "Please use the new location.\n",
      "[19:51:01][WARNING] Spyglass: Deprecation: this class has been moved out of spyglass.common.common_position\n",
      "\tIntervalLinearizedPosition -> spyglass.linearization.v0.main.IntervalLinearizedPosition\n",
      "Please use the new location.\n"
     ]
    },
    {
     "name": "stdout",
     "output_type": "stream",
     "text": [
      "currently investigating:\n",
      "07_Seq2Session4\n",
      "pos 6 valid times\n"
     ]
    },
    {
     "name": "stderr",
     "output_type": "stream",
     "text": [
      "[19:51:01][WARNING] Spyglass: Deprecation: this class has been moved out of spyglass.common.common_position\n",
      "\tIntervalLinearizedPosition -> spyglass.linearization.v0.main.IntervalLinearizedPosition\n",
      "Please use the new location.\n",
      "[19:51:02][WARNING] Spyglass: Deprecation: this class has been moved out of spyglass.common.common_position\n",
      "\tIntervalLinearizedPosition -> spyglass.linearization.v0.main.IntervalLinearizedPosition\n",
      "Please use the new location.\n"
     ]
    },
    {
     "name": "stdout",
     "output_type": "stream",
     "text": [
      "a [3]\n",
      "currently investigating:\n",
      "09_Seq2Session5\n",
      "pos 8 valid times\n"
     ]
    },
    {
     "name": "stderr",
     "output_type": "stream",
     "text": [
      "[19:51:02][WARNING] Spyglass: Deprecation: this class has been moved out of spyglass.common.common_position\n",
      "\tIntervalLinearizedPosition -> spyglass.linearization.v0.main.IntervalLinearizedPosition\n",
      "Please use the new location.\n",
      "[19:51:02][WARNING] Spyglass: Deprecation: this class has been moved out of spyglass.common.common_position\n",
      "\tIntervalLinearizedPosition -> spyglass.linearization.v0.main.IntervalLinearizedPosition\n",
      "Please use the new location.\n"
     ]
    },
    {
     "name": "stdout",
     "output_type": "stream",
     "text": [
      "currently investigating:\n",
      "11_Seq2Session6\n",
      "pos 10 valid times\n"
     ]
    },
    {
     "name": "stderr",
     "output_type": "stream",
     "text": [
      "[19:51:03][WARNING] Spyglass: Deprecation: this class has been moved out of spyglass.common.common_position\n",
      "\tIntervalLinearizedPosition -> spyglass.linearization.v0.main.IntervalLinearizedPosition\n",
      "Please use the new location.\n",
      "[19:51:03][WARNING] Spyglass: Deprecation: this class has been moved out of spyglass.common.common_position\n",
      "\tIntervalLinearizedPosition -> spyglass.linearization.v0.main.IntervalLinearizedPosition\n",
      "Please use the new location.\n"
     ]
    },
    {
     "name": "stdout",
     "output_type": "stream",
     "text": [
      "currently investigating:\n",
      "02_Seq2Session1\n",
      "pos 1 valid times\n"
     ]
    },
    {
     "name": "stderr",
     "output_type": "stream",
     "text": [
      "[19:51:03][WARNING] Spyglass: Deprecation: this class has been moved out of spyglass.common.common_position\n",
      "\tIntervalLinearizedPosition -> spyglass.linearization.v0.main.IntervalLinearizedPosition\n",
      "Please use the new location.\n",
      "[19:51:04][WARNING] Spyglass: Deprecation: this class has been moved out of spyglass.common.common_position\n",
      "\tIntervalLinearizedPosition -> spyglass.linearization.v0.main.IntervalLinearizedPosition\n",
      "Please use the new location.\n"
     ]
    },
    {
     "name": "stdout",
     "output_type": "stream",
     "text": [
      "currently investigating:\n",
      "04_Seq2Session2\n",
      "pos 3 valid times\n"
     ]
    },
    {
     "name": "stderr",
     "output_type": "stream",
     "text": [
      "[19:51:04][WARNING] Spyglass: Deprecation: this class has been moved out of spyglass.common.common_position\n",
      "\tIntervalLinearizedPosition -> spyglass.linearization.v0.main.IntervalLinearizedPosition\n",
      "Please use the new location.\n",
      "[19:51:04][WARNING] Spyglass: Deprecation: this class has been moved out of spyglass.common.common_position\n",
      "\tIntervalLinearizedPosition -> spyglass.linearization.v0.main.IntervalLinearizedPosition\n",
      "Please use the new location.\n"
     ]
    },
    {
     "name": "stdout",
     "output_type": "stream",
     "text": [
      "a [2]\n",
      "a [1 2]\n",
      "a [2]\n",
      "currently investigating:\n",
      "06_Seq2Session3\n",
      "pos 5 valid times\n"
     ]
    },
    {
     "name": "stderr",
     "output_type": "stream",
     "text": [
      "[19:51:05][WARNING] Spyglass: Deprecation: this class has been moved out of spyglass.common.common_position\n",
      "\tIntervalLinearizedPosition -> spyglass.linearization.v0.main.IntervalLinearizedPosition\n",
      "Please use the new location.\n",
      "[19:51:05][WARNING] Spyglass: Deprecation: this class has been moved out of spyglass.common.common_position\n",
      "\tIntervalLinearizedPosition -> spyglass.linearization.v0.main.IntervalLinearizedPosition\n",
      "Please use the new location.\n"
     ]
    },
    {
     "name": "stdout",
     "output_type": "stream",
     "text": [
      "currently investigating:\n",
      "08_Seq2Session4\n",
      "pos 7 valid times\n"
     ]
    },
    {
     "name": "stderr",
     "output_type": "stream",
     "text": [
      "[19:51:06][WARNING] Spyglass: Deprecation: this class has been moved out of spyglass.common.common_position\n",
      "\tIntervalLinearizedPosition -> spyglass.linearization.v0.main.IntervalLinearizedPosition\n",
      "Please use the new location.\n",
      "[19:51:06][WARNING] Spyglass: Deprecation: this class has been moved out of spyglass.common.common_position\n",
      "\tIntervalLinearizedPosition -> spyglass.linearization.v0.main.IntervalLinearizedPosition\n",
      "Please use the new location.\n"
     ]
    },
    {
     "name": "stdout",
     "output_type": "stream",
     "text": [
      "a [2]\n",
      "a [2]\n",
      "a [2]\n",
      "a [1]\n",
      "a [1 2]\n",
      "currently investigating:\n",
      "10_Seq2Session5\n",
      "pos 9 valid times\n"
     ]
    },
    {
     "name": "stderr",
     "output_type": "stream",
     "text": [
      "[19:51:06][WARNING] Spyglass: Deprecation: this class has been moved out of spyglass.common.common_position\n",
      "\tIntervalLinearizedPosition -> spyglass.linearization.v0.main.IntervalLinearizedPosition\n",
      "Please use the new location.\n",
      "[19:51:07][WARNING] Spyglass: Deprecation: this class has been moved out of spyglass.common.common_position\n",
      "\tIntervalLinearizedPosition -> spyglass.linearization.v0.main.IntervalLinearizedPosition\n",
      "Please use the new location.\n"
     ]
    },
    {
     "name": "stdout",
     "output_type": "stream",
     "text": [
      "currently investigating:\n",
      "02_Seq2Session1\n",
      "pos 1 valid times\n"
     ]
    },
    {
     "name": "stderr",
     "output_type": "stream",
     "text": [
      "[19:51:07][WARNING] Spyglass: Deprecation: this class has been moved out of spyglass.common.common_position\n",
      "\tIntervalLinearizedPosition -> spyglass.linearization.v0.main.IntervalLinearizedPosition\n",
      "Please use the new location.\n",
      "[19:51:07][WARNING] Spyglass: Deprecation: this class has been moved out of spyglass.common.common_position\n",
      "\tIntervalLinearizedPosition -> spyglass.linearization.v0.main.IntervalLinearizedPosition\n",
      "Please use the new location.\n"
     ]
    },
    {
     "name": "stdout",
     "output_type": "stream",
     "text": [
      "currently investigating:\n",
      "04_Seq2Session2\n",
      "pos 3 valid times\n"
     ]
    },
    {
     "name": "stderr",
     "output_type": "stream",
     "text": [
      "[19:51:08][WARNING] Spyglass: Deprecation: this class has been moved out of spyglass.common.common_position\n",
      "\tIntervalLinearizedPosition -> spyglass.linearization.v0.main.IntervalLinearizedPosition\n",
      "Please use the new location.\n",
      "[19:51:08][WARNING] Spyglass: Deprecation: this class has been moved out of spyglass.common.common_position\n",
      "\tIntervalLinearizedPosition -> spyglass.linearization.v0.main.IntervalLinearizedPosition\n",
      "Please use the new location.\n"
     ]
    },
    {
     "name": "stdout",
     "output_type": "stream",
     "text": [
      "a [2]\n",
      "currently investigating:\n",
      "06_Seq2Session3\n",
      "pos 5 valid times\n"
     ]
    },
    {
     "name": "stderr",
     "output_type": "stream",
     "text": [
      "[19:51:09][WARNING] Spyglass: Deprecation: this class has been moved out of spyglass.common.common_position\n",
      "\tIntervalLinearizedPosition -> spyglass.linearization.v0.main.IntervalLinearizedPosition\n",
      "Please use the new location.\n",
      "[19:51:09][WARNING] Spyglass: Deprecation: this class has been moved out of spyglass.common.common_position\n",
      "\tIntervalLinearizedPosition -> spyglass.linearization.v0.main.IntervalLinearizedPosition\n",
      "Please use the new location.\n"
     ]
    },
    {
     "name": "stdout",
     "output_type": "stream",
     "text": [
      "a [2]\n",
      "currently investigating:\n",
      "08_Seq2Session4\n",
      "pos 7 valid times\n"
     ]
    },
    {
     "name": "stderr",
     "output_type": "stream",
     "text": [
      "[19:51:09][WARNING] Spyglass: Deprecation: this class has been moved out of spyglass.common.common_position\n",
      "\tIntervalLinearizedPosition -> spyglass.linearization.v0.main.IntervalLinearizedPosition\n",
      "Please use the new location.\n",
      "[19:51:10][WARNING] Spyglass: Deprecation: this class has been moved out of spyglass.common.common_position\n",
      "\tIntervalLinearizedPosition -> spyglass.linearization.v0.main.IntervalLinearizedPosition\n",
      "Please use the new location.\n"
     ]
    },
    {
     "name": "stdout",
     "output_type": "stream",
     "text": [
      "currently investigating:\n",
      "10_Seq2Session5\n",
      "pos 9 valid times\n"
     ]
    },
    {
     "name": "stderr",
     "output_type": "stream",
     "text": [
      "[19:51:10][WARNING] Spyglass: Deprecation: this class has been moved out of spyglass.common.common_position\n",
      "\tIntervalLinearizedPosition -> spyglass.linearization.v0.main.IntervalLinearizedPosition\n",
      "Please use the new location.\n",
      "[19:51:10][WARNING] Spyglass: Deprecation: this class has been moved out of spyglass.common.common_position\n",
      "\tIntervalLinearizedPosition -> spyglass.linearization.v0.main.IntervalLinearizedPosition\n",
      "Please use the new location.\n"
     ]
    },
    {
     "name": "stdout",
     "output_type": "stream",
     "text": [
      "a [1]\n",
      "currently investigating:\n",
      "12_Seq2Session6\n",
      "pos 11 valid times\n"
     ]
    },
    {
     "name": "stderr",
     "output_type": "stream",
     "text": [
      "[19:51:11][WARNING] Spyglass: Deprecation: this class has been moved out of spyglass.common.common_position\n",
      "\tIntervalLinearizedPosition -> spyglass.linearization.v0.main.IntervalLinearizedPosition\n",
      "Please use the new location.\n",
      "[19:51:11][WARNING] Spyglass: Deprecation: this class has been moved out of spyglass.common.common_position\n",
      "\tIntervalLinearizedPosition -> spyglass.linearization.v0.main.IntervalLinearizedPosition\n",
      "Please use the new location.\n"
     ]
    },
    {
     "name": "stdout",
     "output_type": "stream",
     "text": [
      "a [2]\n",
      "a [2]\n",
      "a [2]\n",
      "currently investigating:\n",
      "02_Seq2Session1\n",
      "pos 1 valid times\n"
     ]
    },
    {
     "name": "stderr",
     "output_type": "stream",
     "text": [
      "[19:51:12][WARNING] Spyglass: Deprecation: this class has been moved out of spyglass.common.common_position\n",
      "\tIntervalLinearizedPosition -> spyglass.linearization.v0.main.IntervalLinearizedPosition\n",
      "Please use the new location.\n",
      "[19:51:12][WARNING] Spyglass: Deprecation: this class has been moved out of spyglass.common.common_position\n",
      "\tIntervalLinearizedPosition -> spyglass.linearization.v0.main.IntervalLinearizedPosition\n",
      "Please use the new location.\n"
     ]
    },
    {
     "name": "stdout",
     "output_type": "stream",
     "text": [
      "a [2]\n",
      "a [2 3]\n",
      "a [3]\n",
      "currently investigating:\n",
      "04_Seq2Session2\n",
      "pos 3 valid times\n"
     ]
    },
    {
     "name": "stderr",
     "output_type": "stream",
     "text": [
      "[19:51:13][WARNING] Spyglass: Deprecation: this class has been moved out of spyglass.common.common_position\n",
      "\tIntervalLinearizedPosition -> spyglass.linearization.v0.main.IntervalLinearizedPosition\n",
      "Please use the new location.\n",
      "[19:51:13][WARNING] Spyglass: Deprecation: this class has been moved out of spyglass.common.common_position\n",
      "\tIntervalLinearizedPosition -> spyglass.linearization.v0.main.IntervalLinearizedPosition\n",
      "Please use the new location.\n"
     ]
    },
    {
     "name": "stdout",
     "output_type": "stream",
     "text": [
      "a [2]\n",
      "a [2]\n",
      "currently investigating:\n",
      "06_Seq2Session3\n",
      "pos 5 valid times\n"
     ]
    },
    {
     "name": "stderr",
     "output_type": "stream",
     "text": [
      "[19:51:13][WARNING] Spyglass: Deprecation: this class has been moved out of spyglass.common.common_position\n",
      "\tIntervalLinearizedPosition -> spyglass.linearization.v0.main.IntervalLinearizedPosition\n",
      "Please use the new location.\n",
      "[19:51:13][WARNING] Spyglass: Deprecation: this class has been moved out of spyglass.common.common_position\n",
      "\tIntervalLinearizedPosition -> spyglass.linearization.v0.main.IntervalLinearizedPosition\n",
      "Please use the new location.\n"
     ]
    },
    {
     "name": "stdout",
     "output_type": "stream",
     "text": [
      "a [2]\n",
      "currently investigating:\n",
      "08_Seq2Session4\n",
      "pos 7 valid times\n"
     ]
    },
    {
     "name": "stderr",
     "output_type": "stream",
     "text": [
      "[19:51:14][WARNING] Spyglass: Deprecation: this class has been moved out of spyglass.common.common_position\n",
      "\tIntervalLinearizedPosition -> spyglass.linearization.v0.main.IntervalLinearizedPosition\n",
      "Please use the new location.\n",
      "[19:51:14][WARNING] Spyglass: Deprecation: this class has been moved out of spyglass.common.common_position\n",
      "\tIntervalLinearizedPosition -> spyglass.linearization.v0.main.IntervalLinearizedPosition\n",
      "Please use the new location.\n"
     ]
    },
    {
     "name": "stdout",
     "output_type": "stream",
     "text": [
      "a [2]\n",
      "a [2]\n",
      "currently investigating:\n",
      "02_Seq2Session1\n",
      "pos 1 valid times\n"
     ]
    },
    {
     "name": "stderr",
     "output_type": "stream",
     "text": [
      "[19:51:15][WARNING] Spyglass: Deprecation: this class has been moved out of spyglass.common.common_position\n",
      "\tIntervalLinearizedPosition -> spyglass.linearization.v0.main.IntervalLinearizedPosition\n",
      "Please use the new location.\n",
      "[19:51:15][WARNING] Spyglass: Deprecation: this class has been moved out of spyglass.common.common_position\n",
      "\tIntervalLinearizedPosition -> spyglass.linearization.v0.main.IntervalLinearizedPosition\n",
      "Please use the new location.\n"
     ]
    },
    {
     "name": "stdout",
     "output_type": "stream",
     "text": [
      "currently investigating:\n",
      "04_Seq2Session2\n",
      "pos 3 valid times\n"
     ]
    },
    {
     "name": "stderr",
     "output_type": "stream",
     "text": [
      "[19:51:16][WARNING] Spyglass: Deprecation: this class has been moved out of spyglass.common.common_position\n",
      "\tIntervalLinearizedPosition -> spyglass.linearization.v0.main.IntervalLinearizedPosition\n",
      "Please use the new location.\n",
      "[19:51:16][WARNING] Spyglass: Deprecation: this class has been moved out of spyglass.common.common_position\n",
      "\tIntervalLinearizedPosition -> spyglass.linearization.v0.main.IntervalLinearizedPosition\n",
      "Please use the new location.\n"
     ]
    },
    {
     "name": "stdout",
     "output_type": "stream",
     "text": [
      "currently investigating:\n",
      "06_Seq2Session3\n",
      "pos 5 valid times\n"
     ]
    },
    {
     "name": "stderr",
     "output_type": "stream",
     "text": [
      "[19:51:16][WARNING] Spyglass: Deprecation: this class has been moved out of spyglass.common.common_position\n",
      "\tIntervalLinearizedPosition -> spyglass.linearization.v0.main.IntervalLinearizedPosition\n",
      "Please use the new location.\n",
      "[19:51:16][WARNING] Spyglass: Deprecation: this class has been moved out of spyglass.common.common_position\n",
      "\tIntervalLinearizedPosition -> spyglass.linearization.v0.main.IntervalLinearizedPosition\n",
      "Please use the new location.\n"
     ]
    },
    {
     "name": "stdout",
     "output_type": "stream",
     "text": [
      "a [3]\n",
      "currently investigating:\n",
      "08_Seq2Session4\n",
      "pos 7 valid times\n"
     ]
    },
    {
     "name": "stderr",
     "output_type": "stream",
     "text": [
      "[19:51:17][WARNING] Spyglass: Deprecation: this class has been moved out of spyglass.common.common_position\n",
      "\tIntervalLinearizedPosition -> spyglass.linearization.v0.main.IntervalLinearizedPosition\n",
      "Please use the new location.\n",
      "[19:51:17][WARNING] Spyglass: Deprecation: this class has been moved out of spyglass.common.common_position\n",
      "\tIntervalLinearizedPosition -> spyglass.linearization.v0.main.IntervalLinearizedPosition\n",
      "Please use the new location.\n"
     ]
    },
    {
     "name": "stdout",
     "output_type": "stream",
     "text": [
      "currently investigating:\n",
      "10_Seq2Session5\n",
      "pos 9 valid times\n"
     ]
    },
    {
     "name": "stderr",
     "output_type": "stream",
     "text": [
      "[19:51:18][WARNING] Spyglass: Deprecation: this class has been moved out of spyglass.common.common_position\n",
      "\tIntervalLinearizedPosition -> spyglass.linearization.v0.main.IntervalLinearizedPosition\n",
      "Please use the new location.\n",
      "[19:51:18][WARNING] Spyglass: Deprecation: this class has been moved out of spyglass.common.common_position\n",
      "\tIntervalLinearizedPosition -> spyglass.linearization.v0.main.IntervalLinearizedPosition\n",
      "Please use the new location.\n"
     ]
    },
    {
     "name": "stdout",
     "output_type": "stream",
     "text": [
      "currently investigating:\n",
      "02_Seq2Session1\n",
      "pos 1 valid times\n"
     ]
    },
    {
     "name": "stderr",
     "output_type": "stream",
     "text": [
      "[19:51:18][WARNING] Spyglass: Deprecation: this class has been moved out of spyglass.common.common_position\n",
      "\tIntervalLinearizedPosition -> spyglass.linearization.v0.main.IntervalLinearizedPosition\n",
      "Please use the new location.\n",
      "[19:51:18][WARNING] Spyglass: Deprecation: this class has been moved out of spyglass.common.common_position\n",
      "\tIntervalLinearizedPosition -> spyglass.linearization.v0.main.IntervalLinearizedPosition\n",
      "Please use the new location.\n"
     ]
    },
    {
     "name": "stdout",
     "output_type": "stream",
     "text": [
      "currently investigating:\n",
      "04_Seq2Session2\n",
      "pos 3 valid times\n"
     ]
    },
    {
     "name": "stderr",
     "output_type": "stream",
     "text": [
      "[19:51:19][WARNING] Spyglass: Deprecation: this class has been moved out of spyglass.common.common_position\n",
      "\tIntervalLinearizedPosition -> spyglass.linearization.v0.main.IntervalLinearizedPosition\n",
      "Please use the new location.\n",
      "[19:51:19][WARNING] Spyglass: Deprecation: this class has been moved out of spyglass.common.common_position\n",
      "\tIntervalLinearizedPosition -> spyglass.linearization.v0.main.IntervalLinearizedPosition\n",
      "Please use the new location.\n"
     ]
    },
    {
     "name": "stdout",
     "output_type": "stream",
     "text": [
      "currently investigating:\n",
      "06_Seq2Session3\n",
      "pos 5 valid times\n"
     ]
    },
    {
     "name": "stderr",
     "output_type": "stream",
     "text": [
      "[19:51:20][WARNING] Spyglass: Deprecation: this class has been moved out of spyglass.common.common_position\n",
      "\tIntervalLinearizedPosition -> spyglass.linearization.v0.main.IntervalLinearizedPosition\n",
      "Please use the new location.\n",
      "[19:51:20][WARNING] Spyglass: Deprecation: this class has been moved out of spyglass.common.common_position\n",
      "\tIntervalLinearizedPosition -> spyglass.linearization.v0.main.IntervalLinearizedPosition\n",
      "Please use the new location.\n"
     ]
    },
    {
     "name": "stdout",
     "output_type": "stream",
     "text": [
      "currently investigating:\n",
      "08_Seq2Session4\n",
      "pos 7 valid times\n"
     ]
    },
    {
     "name": "stderr",
     "output_type": "stream",
     "text": [
      "[19:51:20][WARNING] Spyglass: Deprecation: this class has been moved out of spyglass.common.common_position\n",
      "\tIntervalLinearizedPosition -> spyglass.linearization.v0.main.IntervalLinearizedPosition\n",
      "Please use the new location.\n",
      "[19:51:20][WARNING] Spyglass: Deprecation: this class has been moved out of spyglass.common.common_position\n",
      "\tIntervalLinearizedPosition -> spyglass.linearization.v0.main.IntervalLinearizedPosition\n",
      "Please use the new location.\n"
     ]
    },
    {
     "name": "stdout",
     "output_type": "stream",
     "text": [
      "currently investigating:\n",
      "02_Seq2Session2\n",
      "pos 1 valid times\n"
     ]
    },
    {
     "name": "stderr",
     "output_type": "stream",
     "text": [
      "[19:51:21][WARNING] Spyglass: Deprecation: this class has been moved out of spyglass.common.common_position\n",
      "\tIntervalLinearizedPosition -> spyglass.linearization.v0.main.IntervalLinearizedPosition\n",
      "Please use the new location.\n",
      "[19:51:21][WARNING] Spyglass: Deprecation: this class has been moved out of spyglass.common.common_position\n",
      "\tIntervalLinearizedPosition -> spyglass.linearization.v0.main.IntervalLinearizedPosition\n",
      "Please use the new location.\n"
     ]
    },
    {
     "name": "stdout",
     "output_type": "stream",
     "text": [
      "currently investigating:\n",
      "04_Seq2Session3\n",
      "pos 3 valid times\n"
     ]
    },
    {
     "name": "stderr",
     "output_type": "stream",
     "text": [
      "[19:51:22][WARNING] Spyglass: Deprecation: this class has been moved out of spyglass.common.common_position\n",
      "\tIntervalLinearizedPosition -> spyglass.linearization.v0.main.IntervalLinearizedPosition\n",
      "Please use the new location.\n",
      "[19:51:22][WARNING] Spyglass: Deprecation: this class has been moved out of spyglass.common.common_position\n",
      "\tIntervalLinearizedPosition -> spyglass.linearization.v0.main.IntervalLinearizedPosition\n",
      "Please use the new location.\n"
     ]
    },
    {
     "name": "stdout",
     "output_type": "stream",
     "text": [
      "currently investigating:\n",
      "06_Seq2Session4\n",
      "pos 5 valid times\n"
     ]
    },
    {
     "name": "stderr",
     "output_type": "stream",
     "text": [
      "[19:51:22][WARNING] Spyglass: Deprecation: this class has been moved out of spyglass.common.common_position\n",
      "\tIntervalLinearizedPosition -> spyglass.linearization.v0.main.IntervalLinearizedPosition\n",
      "Please use the new location.\n",
      "[19:51:22][WARNING] Spyglass: Deprecation: this class has been moved out of spyglass.common.common_position\n",
      "\tIntervalLinearizedPosition -> spyglass.linearization.v0.main.IntervalLinearizedPosition\n",
      "Please use the new location.\n"
     ]
    },
    {
     "name": "stdout",
     "output_type": "stream",
     "text": [
      "a [4]\n",
      "a [1 2]\n",
      "a [1 3]\n",
      "currently investigating:\n",
      "08_Seq2Session5\n",
      "pos 7 valid times\n"
     ]
    },
    {
     "name": "stderr",
     "output_type": "stream",
     "text": [
      "[19:51:23][WARNING] Spyglass: Deprecation: this class has been moved out of spyglass.common.common_position\n",
      "\tIntervalLinearizedPosition -> spyglass.linearization.v0.main.IntervalLinearizedPosition\n",
      "Please use the new location.\n",
      "[19:51:23][WARNING] Spyglass: Deprecation: this class has been moved out of spyglass.common.common_position\n",
      "\tIntervalLinearizedPosition -> spyglass.linearization.v0.main.IntervalLinearizedPosition\n",
      "Please use the new location.\n"
     ]
    },
    {
     "name": "stdout",
     "output_type": "stream",
     "text": [
      "currently investigating:\n",
      "10_Seq2Session6\n",
      "pos 9 valid times\n"
     ]
    },
    {
     "name": "stderr",
     "output_type": "stream",
     "text": [
      "[19:51:24][WARNING] Spyglass: Deprecation: this class has been moved out of spyglass.common.common_position\n",
      "\tIntervalLinearizedPosition -> spyglass.linearization.v0.main.IntervalLinearizedPosition\n",
      "Please use the new location.\n",
      "[19:51:24][WARNING] Spyglass: Deprecation: this class has been moved out of spyglass.common.common_position\n",
      "\tIntervalLinearizedPosition -> spyglass.linearization.v0.main.IntervalLinearizedPosition\n",
      "Please use the new location.\n"
     ]
    },
    {
     "name": "stdout",
     "output_type": "stream",
     "text": [
      "a [1 3]\n",
      "a [1]\n",
      "a [1 3]\n",
      "currently investigating:\n",
      "02_Seq2Session1\n",
      "pos 1 valid times\n"
     ]
    },
    {
     "name": "stderr",
     "output_type": "stream",
     "text": [
      "[19:51:24][WARNING] Spyglass: Deprecation: this class has been moved out of spyglass.common.common_position\n",
      "\tIntervalLinearizedPosition -> spyglass.linearization.v0.main.IntervalLinearizedPosition\n",
      "Please use the new location.\n",
      "[19:51:25][WARNING] Spyglass: Deprecation: this class has been moved out of spyglass.common.common_position\n",
      "\tIntervalLinearizedPosition -> spyglass.linearization.v0.main.IntervalLinearizedPosition\n",
      "Please use the new location.\n"
     ]
    },
    {
     "name": "stdout",
     "output_type": "stream",
     "text": [
      "currently investigating:\n",
      "04_Seq2Session2\n",
      "pos 3 valid times\n"
     ]
    },
    {
     "name": "stderr",
     "output_type": "stream",
     "text": [
      "[19:51:25][WARNING] Spyglass: Deprecation: this class has been moved out of spyglass.common.common_position\n",
      "\tIntervalLinearizedPosition -> spyglass.linearization.v0.main.IntervalLinearizedPosition\n",
      "Please use the new location.\n",
      "[19:51:25][WARNING] Spyglass: Deprecation: this class has been moved out of spyglass.common.common_position\n",
      "\tIntervalLinearizedPosition -> spyglass.linearization.v0.main.IntervalLinearizedPosition\n",
      "Please use the new location.\n"
     ]
    },
    {
     "name": "stdout",
     "output_type": "stream",
     "text": [
      "currently investigating:\n",
      "06_Seq2Session3\n",
      "pos 5 valid times\n"
     ]
    },
    {
     "name": "stderr",
     "output_type": "stream",
     "text": [
      "[19:51:26][WARNING] Spyglass: Deprecation: this class has been moved out of spyglass.common.common_position\n",
      "\tIntervalLinearizedPosition -> spyglass.linearization.v0.main.IntervalLinearizedPosition\n",
      "Please use the new location.\n",
      "[19:51:26][WARNING] Spyglass: Deprecation: this class has been moved out of spyglass.common.common_position\n",
      "\tIntervalLinearizedPosition -> spyglass.linearization.v0.main.IntervalLinearizedPosition\n",
      "Please use the new location.\n"
     ]
    },
    {
     "name": "stdout",
     "output_type": "stream",
     "text": [
      "currently investigating:\n",
      "08_Seq2Session4\n",
      "pos 7 valid times\n"
     ]
    },
    {
     "name": "stderr",
     "output_type": "stream",
     "text": [
      "[19:51:26][WARNING] Spyglass: Deprecation: this class has been moved out of spyglass.common.common_position\n",
      "\tIntervalLinearizedPosition -> spyglass.linearization.v0.main.IntervalLinearizedPosition\n",
      "Please use the new location.\n",
      "[19:51:26][WARNING] Spyglass: Deprecation: this class has been moved out of spyglass.common.common_position\n",
      "\tIntervalLinearizedPosition -> spyglass.linearization.v0.main.IntervalLinearizedPosition\n",
      "Please use the new location.\n"
     ]
    },
    {
     "name": "stdout",
     "output_type": "stream",
     "text": [
      "currently investigating:\n",
      "02_Seq2Session1\n",
      "pos 1 valid times\n"
     ]
    },
    {
     "name": "stderr",
     "output_type": "stream",
     "text": [
      "[19:51:27][WARNING] Spyglass: Deprecation: this class has been moved out of spyglass.common.common_position\n",
      "\tIntervalLinearizedPosition -> spyglass.linearization.v0.main.IntervalLinearizedPosition\n",
      "Please use the new location.\n",
      "[19:51:27][WARNING] Spyglass: Deprecation: this class has been moved out of spyglass.common.common_position\n",
      "\tIntervalLinearizedPosition -> spyglass.linearization.v0.main.IntervalLinearizedPosition\n",
      "Please use the new location.\n"
     ]
    },
    {
     "name": "stdout",
     "output_type": "stream",
     "text": [
      "a [2]\n",
      "a [2]\n",
      "currently investigating:\n",
      "04_Seq2Session2\n",
      "pos 3 valid times\n"
     ]
    },
    {
     "name": "stderr",
     "output_type": "stream",
     "text": [
      "[19:51:28][WARNING] Spyglass: Deprecation: this class has been moved out of spyglass.common.common_position\n",
      "\tIntervalLinearizedPosition -> spyglass.linearization.v0.main.IntervalLinearizedPosition\n",
      "Please use the new location.\n",
      "[19:51:28][WARNING] Spyglass: Deprecation: this class has been moved out of spyglass.common.common_position\n",
      "\tIntervalLinearizedPosition -> spyglass.linearization.v0.main.IntervalLinearizedPosition\n",
      "Please use the new location.\n"
     ]
    },
    {
     "name": "stdout",
     "output_type": "stream",
     "text": [
      "currently investigating:\n",
      "06_Seq2Session3\n",
      "pos 5 valid times\n"
     ]
    },
    {
     "name": "stderr",
     "output_type": "stream",
     "text": [
      "[19:51:28][WARNING] Spyglass: Deprecation: this class has been moved out of spyglass.common.common_position\n",
      "\tIntervalLinearizedPosition -> spyglass.linearization.v0.main.IntervalLinearizedPosition\n",
      "Please use the new location.\n",
      "[19:51:28][WARNING] Spyglass: Deprecation: this class has been moved out of spyglass.common.common_position\n",
      "\tIntervalLinearizedPosition -> spyglass.linearization.v0.main.IntervalLinearizedPosition\n",
      "Please use the new location.\n"
     ]
    },
    {
     "name": "stdout",
     "output_type": "stream",
     "text": [
      "currently investigating:\n",
      "08_Seq2Session4\n",
      "pos 7 valid times\n"
     ]
    },
    {
     "name": "stderr",
     "output_type": "stream",
     "text": [
      "[19:51:29][WARNING] Spyglass: Deprecation: this class has been moved out of spyglass.common.common_position\n",
      "\tIntervalLinearizedPosition -> spyglass.linearization.v0.main.IntervalLinearizedPosition\n",
      "Please use the new location.\n",
      "[19:51:29][WARNING] Spyglass: Deprecation: this class has been moved out of spyglass.common.common_position\n",
      "\tIntervalLinearizedPosition -> spyglass.linearization.v0.main.IntervalLinearizedPosition\n",
      "Please use the new location.\n"
     ]
    },
    {
     "name": "stdout",
     "output_type": "stream",
     "text": [
      "currently investigating:\n",
      "10_Seq2Session5\n",
      "pos 9 valid times\n"
     ]
    },
    {
     "name": "stderr",
     "output_type": "stream",
     "text": [
      "[19:51:29][WARNING] Spyglass: Deprecation: this class has been moved out of spyglass.common.common_position\n",
      "\tIntervalLinearizedPosition -> spyglass.linearization.v0.main.IntervalLinearizedPosition\n",
      "Please use the new location.\n",
      "[19:51:29][WARNING] Spyglass: Deprecation: this class has been moved out of spyglass.common.common_position\n",
      "\tIntervalLinearizedPosition -> spyglass.linearization.v0.main.IntervalLinearizedPosition\n",
      "Please use the new location.\n"
     ]
    },
    {
     "name": "stdout",
     "output_type": "stream",
     "text": [
      "currently investigating:\n",
      "12_Seq2Session6\n",
      "pos 11 valid times\n",
      "                 Generalized Linear Model Regression Results                  \n",
      "==============================================================================\n",
      "Dep. Variable:                      y   No. Observations:                  132\n",
      "Model:                            GLM   Df Residuals:                      128\n",
      "Model Family:                Binomial   Df Model:                            3\n",
      "Link Function:                  Logit   Scale:                          1.0000\n",
      "Method:                          IRLS   Log-Likelihood:                -79.055\n",
      "Date:                Mon, 06 Jan 2025   Deviance:                       158.11\n",
      "Time:                        19:51:30   Pearson chi2:                     132.\n",
      "No. Iterations:                     4   Pseudo R-squ. (CS):            0.02860\n",
      "Covariance Type:            nonrobust                                         \n",
      "==============================================================================\n",
      "                 coef    std err          z      P>|z|      [0.025      0.975]\n",
      "------------------------------------------------------------------------------\n",
      "const         -0.9518      0.291     -3.271      0.001      -1.522      -0.382\n",
      "x1             0.6389      0.454      1.409      0.159      -0.250       1.528\n",
      "x2             0.2435      0.524      0.465      0.642      -0.783       1.270\n",
      "x3            -0.5121      0.556     -0.920      0.357      -1.603       0.579\n",
      "==============================================================================\n",
      "                 Generalized Linear Model Regression Results                  \n",
      "==============================================================================\n",
      "Dep. Variable:                      y   No. Observations:                  132\n",
      "Model:                            GLM   Df Residuals:                      130\n",
      "Model Family:                Binomial   Df Model:                            1\n",
      "Link Function:                  Logit   Scale:                          1.0000\n",
      "Method:                          IRLS   Log-Likelihood:                -72.755\n",
      "Date:                Mon, 06 Jan 2025   Deviance:                       145.51\n",
      "Time:                        19:51:30   Pearson chi2:                     132.\n",
      "No. Iterations:                     4   Pseudo R-squ. (CS):            0.02208\n",
      "Covariance Type:            nonrobust                                         \n",
      "==============================================================================\n",
      "                 coef    std err          z      P>|z|      [0.025      0.975]\n",
      "------------------------------------------------------------------------------\n",
      "const         -1.3460      0.258     -5.226      0.000      -1.851      -0.841\n",
      "x1             0.7270      0.420      1.732      0.083      -0.096       1.550\n",
      "==============================================================================\n",
      "                 Generalized Linear Model Regression Results                  \n",
      "==============================================================================\n",
      "Dep. Variable:                      y   No. Observations:                  124\n",
      "Model:                            GLM   Df Residuals:                      123\n",
      "Model Family:                Binomial   Df Model:                            0\n",
      "Link Function:                  Logit   Scale:                          1.0000\n",
      "Method:                          IRLS   Log-Likelihood:                -85.284\n",
      "Date:                Mon, 06 Jan 2025   Deviance:                       170.57\n",
      "Time:                        19:51:30   Pearson chi2:                     124.\n",
      "No. Iterations:                     4   Pseudo R-squ. (CS):           -0.03412\n",
      "Covariance Type:            nonrobust                                         \n",
      "==============================================================================\n",
      "                 coef    std err          z      P>|z|      [0.025      0.975]\n",
      "------------------------------------------------------------------------------\n",
      "x1             0.3830      0.335      1.144      0.253      -0.273       1.039\n",
      "==============================================================================\n"
     ]
    }
   ],
   "source": [
    "model1, model2, model3 = do_GLM(\"Eliot\", day_sessions, trials, arm_identities, time_intervals)\n",
    "print(model1['fit'].summary())\n",
    "print(model2['fit'].summary())\n",
    "print(model3['fit'].summary())"
   ]
  },
  {
   "cell_type": "code",
   "execution_count": 528,
   "id": "01e96c90-f2f3-44c7-b7c4-8bbbbe8560b5",
   "metadata": {},
   "outputs": [
    {
     "data": {
      "text/plain": [
       "(<Figure size 500x200 with 1 Axes>,\n",
       " <Axes: title={'center': 'Eliot'}, ylabel='in future visits on this trial after'>)"
      ]
     },
     "execution_count": 528,
     "metadata": {},
     "output_type": "execute_result"
    },
    {
     "data": {
      "image/png": "[encoded data removed]",
      "text/plain": [
       "<Figure size 500x200 with 1 Axes>"
      ]
     },
     "metadata": {},
     "output_type": "display_data"
    },
    {
     "data": {
      "image/png": "[encoded data removed]",
      "text/plain": [
       "<Figure size 500x200 with 1 Axes>"
      ]
     },
     "metadata": {},
     "output_type": "display_data"
    },
    {
     "data": {
      "image/png": "[encoded data removed]",
      "text/plain": [
       "<Figure size 500x200 with 1 Axes>"
      ]
     },
     "metadata": {},
     "output_type": "display_data"
    }
   ],
   "source": [
    "fig, ax = plot_coef(model1['fit'],['constant','imminent choice', 'past reward', 'past'],\"in theta\",\"Eliot\")\n",
    "plot_coef(model2['fit'],['constant','in theta'],\"choice\",\"Eliot\")\n",
    "plot_coef(model3['fit'],['in theta'],\"in future visits on this trial after\",\"Eliot\")"
   ]
  },
  {
   "cell_type": "markdown",
   "id": "cb5d4571-8134-4d84-96b8-dafc7e2dedb4",
   "metadata": {},
   "source": [
    "### The result is that there is a trend that the final choice is among theta represented arms but not significant across all rats."
   ]
  },
  {
   "cell_type": "markdown",
   "id": "35436890-801c-4d08-a302-c9b024b2c6b8",
   "metadata": {},
   "source": [
    "## End here"
   ]
  },
  {
   "cell_type": "code",
   "execution_count": 542,
   "id": "757ff734-d16d-4f55-9f8a-4e70574dfab4",
   "metadata": {},
   "outputs": [
    {
     "data": {
      "text/plain": [
       "True"
      ]
     },
     "execution_count": 542,
     "metadata": {},
     "output_type": "execute_result"
    }
   ],
   "source": [
    "np.isnan(log_df.loc[3,\"timestamp_H\"])"
   ]
  },
  {
   "cell_type": "code",
   "execution_count": 546,
   "id": "be1ef8f2-69f7-4725-b9c6-90ff4dcd6640",
   "metadata": {},
   "outputs": [
    {
     "data": {
      "text/html": [
       "<div>\n",
       "<style scoped>\n",
       "    .dataframe tbody tr th:only-of-type {\n",
       "        vertical-align: middle;\n",
       "    }\n",
       "\n",
       "    .dataframe tbody tr th {\n",
       "        vertical-align: top;\n",
       "    }\n",
       "\n",
       "    .dataframe thead th {\n",
       "        text-align: right;\n",
       "    }\n",
       "</style>\n",
       "<table border=\"1\" class=\"dataframe\">\n",
       "  <thead>\n",
       "    <tr style=\"text-align: right;\">\n",
       "      <th></th>\n",
       "      <th>head_position_x</th>\n",
       "      <th>head_position_y</th>\n",
       "      <th>head_orientation</th>\n",
       "      <th>head_velocity_x</th>\n",
       "      <th>head_velocity_y</th>\n",
       "      <th>head_speed</th>\n",
       "    </tr>\n",
       "    <tr>\n",
       "      <th>time</th>\n",
       "      <th></th>\n",
       "      <th></th>\n",
       "      <th></th>\n",
       "      <th></th>\n",
       "      <th></th>\n",
       "      <th></th>\n",
       "    </tr>\n",
       "  </thead>\n",
       "  <tbody>\n",
       "    <tr>\n",
       "      <th>1.704916e+09</th>\n",
       "      <td>NaN</td>\n",
       "      <td>NaN</td>\n",
       "      <td>NaN</td>\n",
       "      <td>NaN</td>\n",
       "      <td>NaN</td>\n",
       "      <td>NaN</td>\n",
       "    </tr>\n",
       "    <tr>\n",
       "      <th>1.704916e+09</th>\n",
       "      <td>NaN</td>\n",
       "      <td>NaN</td>\n",
       "      <td>NaN</td>\n",
       "      <td>NaN</td>\n",
       "      <td>NaN</td>\n",
       "      <td>NaN</td>\n",
       "    </tr>\n",
       "    <tr>\n",
       "      <th>1.704916e+09</th>\n",
       "      <td>NaN</td>\n",
       "      <td>NaN</td>\n",
       "      <td>NaN</td>\n",
       "      <td>NaN</td>\n",
       "      <td>NaN</td>\n",
       "      <td>NaN</td>\n",
       "    </tr>\n",
       "    <tr>\n",
       "      <th>1.704916e+09</th>\n",
       "      <td>NaN</td>\n",
       "      <td>NaN</td>\n",
       "      <td>NaN</td>\n",
       "      <td>NaN</td>\n",
       "      <td>NaN</td>\n",
       "      <td>NaN</td>\n",
       "    </tr>\n",
       "    <tr>\n",
       "      <th>1.704916e+09</th>\n",
       "      <td>NaN</td>\n",
       "      <td>NaN</td>\n",
       "      <td>NaN</td>\n",
       "      <td>NaN</td>\n",
       "      <td>NaN</td>\n",
       "      <td>NaN</td>\n",
       "    </tr>\n",
       "    <tr>\n",
       "      <th>...</th>\n",
       "      <td>...</td>\n",
       "      <td>...</td>\n",
       "      <td>...</td>\n",
       "      <td>...</td>\n",
       "      <td>...</td>\n",
       "      <td>...</td>\n",
       "    </tr>\n",
       "    <tr>\n",
       "      <th>1.704918e+09</th>\n",
       "      <td>204.876984</td>\n",
       "      <td>144.946429</td>\n",
       "      <td>2.554396</td>\n",
       "      <td>3.154171</td>\n",
       "      <td>4.701168</td>\n",
       "      <td>5.661252</td>\n",
       "    </tr>\n",
       "    <tr>\n",
       "      <th>1.704918e+09</th>\n",
       "      <td>204.886905</td>\n",
       "      <td>144.970238</td>\n",
       "      <td>2.555043</td>\n",
       "      <td>3.093862</td>\n",
       "      <td>4.641722</td>\n",
       "      <td>5.578312</td>\n",
       "    </tr>\n",
       "    <tr>\n",
       "      <th>1.704918e+09</th>\n",
       "      <td>204.896825</td>\n",
       "      <td>144.994048</td>\n",
       "      <td>2.555697</td>\n",
       "      <td>3.034175</td>\n",
       "      <td>4.581927</td>\n",
       "      <td>5.495477</td>\n",
       "    </tr>\n",
       "    <tr>\n",
       "      <th>1.704918e+09</th>\n",
       "      <td>204.906746</td>\n",
       "      <td>145.017857</td>\n",
       "      <td>2.684989</td>\n",
       "      <td>2.975113</td>\n",
       "      <td>4.521802</td>\n",
       "      <td>5.412762</td>\n",
       "    </tr>\n",
       "    <tr>\n",
       "      <th>1.704918e+09</th>\n",
       "      <td>204.916667</td>\n",
       "      <td>145.041667</td>\n",
       "      <td>-1.964998</td>\n",
       "      <td>2.916679</td>\n",
       "      <td>4.461369</td>\n",
       "      <td>5.330181</td>\n",
       "    </tr>\n",
       "  </tbody>\n",
       "</table>\n",
       "<p>1075928 rows × 6 columns</p>\n",
       "</div>"
      ],
      "text/plain": [
       "              head_position_x  head_position_y  head_orientation  \\\n",
       "time                                                               \n",
       "1.704916e+09              NaN              NaN               NaN   \n",
       "1.704916e+09              NaN              NaN               NaN   \n",
       "1.704916e+09              NaN              NaN               NaN   \n",
       "1.704916e+09              NaN              NaN               NaN   \n",
       "1.704916e+09              NaN              NaN               NaN   \n",
       "...                       ...              ...               ...   \n",
       "1.704918e+09       204.876984       144.946429          2.554396   \n",
       "1.704918e+09       204.886905       144.970238          2.555043   \n",
       "1.704918e+09       204.896825       144.994048          2.555697   \n",
       "1.704918e+09       204.906746       145.017857          2.684989   \n",
       "1.704918e+09       204.916667       145.041667         -1.964998   \n",
       "\n",
       "              head_velocity_x  head_velocity_y  head_speed  \n",
       "time                                                        \n",
       "1.704916e+09              NaN              NaN         NaN  \n",
       "1.704916e+09              NaN              NaN         NaN  \n",
       "1.704916e+09              NaN              NaN         NaN  \n",
       "1.704916e+09              NaN              NaN         NaN  \n",
       "1.704916e+09              NaN              NaN         NaN  \n",
       "...                       ...              ...         ...  \n",
       "1.704918e+09         3.154171         4.701168    5.661252  \n",
       "1.704918e+09         3.093862         4.641722    5.578312  \n",
       "1.704918e+09         3.034175         4.581927    5.495477  \n",
       "1.704918e+09         2.975113         4.521802    5.412762  \n",
       "1.704918e+09         2.916679         4.461369    5.330181  \n",
       "\n",
       "[1075928 rows x 6 columns]"
      ]
     },
     "execution_count": 546,
     "metadata": {},
     "output_type": "execute_result"
    }
   ],
   "source": [
    "position_info"
   ]
  },
  {
   "cell_type": "markdown",
   "id": "7a2a06de-d848-4d7a-9425-41e7cfa031ef",
   "metadata": {},
   "source": [
    "### For testing that GLM works right."
   ]
  },
  {
   "cell_type": "code",
   "execution_count": 511,
   "id": "6a2db6a0-6f6e-4acb-a084-e8d35769cf09",
   "metadata": {},
   "outputs": [],
   "source": [
    "from spyglass.shijiegu.changeOfMind_remote import do_GLM_subprocess\n",
    "import statsmodels"
   ]
  },
  {
   "cell_type": "code",
   "execution_count": 533,
   "id": "6a667096-1f2c-4bbb-8a94-4cfee07ebdf4",
   "metadata": {},
   "outputs": [
    {
     "name": "stdout",
     "output_type": "stream",
     "text": [
      "                 Generalized Linear Model Regression Results                  \n",
      "==============================================================================\n",
      "Dep. Variable:                      y   No. Observations:                  100\n",
      "Model:                            GLM   Df Residuals:                       98\n",
      "Model Family:                Binomial   Df Model:                            1\n",
      "Link Function:                  Logit   Scale:                          1.0000\n",
      "Method:                          IRLS   Log-Likelihood:                -28.753\n",
      "Date:                Mon, 06 Jan 2025   Deviance:                       57.507\n",
      "Time:                        19:52:44   Pearson chi2:                     100.\n",
      "No. Iterations:                     6   Pseudo R-squ. (CS):             0.5528\n",
      "Covariance Type:            nonrobust                                         \n",
      "==============================================================================\n",
      "                 coef    std err          z      P>|z|      [0.025      0.975]\n",
      "------------------------------------------------------------------------------\n",
      "const         -3.1570      0.722     -4.373      0.000      -4.572      -1.742\n",
      "x1             4.9953      0.829      6.027      0.000       3.371       6.620\n",
      "==============================================================================\n"
     ]
    }
   ],
   "source": [
    "# 1. stupid example, 100% x = y\n",
    "x = np.random.binomial(1, 0.5, size=100)\n",
    "y = x.copy()\n",
    "ind = np.random.choice(100,10)\n",
    "y[ind] = 1 - y[ind]\n",
    "\n",
    "GLM_entries = np.hstack((x.reshape(-1,1),y.reshape(-1,1)))\n",
    "\n",
    "m = do_GLM_subprocess(GLM_entries, constant = True);\n",
    "\n",
    "print(m['fit'].summary())"
   ]
  },
  {
   "cell_type": "code",
   "execution_count": 534,
   "id": "9d3540d0-f6cb-44ac-ac77-8ff91317fa21",
   "metadata": {
    "scrolled": true
   },
   "outputs": [
    {
     "name": "stdout",
     "output_type": "stream",
     "text": [
      "                 Generalized Linear Model Regression Results                  \n",
      "==============================================================================\n",
      "Dep. Variable:                      y   No. Observations:                  100\n",
      "Model:                            GLM   Df Residuals:                       97\n",
      "Model Family:                Binomial   Df Model:                            2\n",
      "Link Function:                  Logit   Scale:                          1.0000\n",
      "Method:                          IRLS   Log-Likelihood:                -32.076\n",
      "Date:                Mon, 06 Jan 2025   Deviance:                       64.152\n",
      "Time:                        19:52:58   Pearson chi2:                     102.\n",
      "No. Iterations:                     5   Pseudo R-squ. (CS):             0.5234\n",
      "Covariance Type:            nonrobust                                         \n",
      "==============================================================================\n",
      "                 coef    std err          z      P>|z|      [0.025      0.975]\n",
      "------------------------------------------------------------------------------\n",
      "const         -1.8258      0.517     -3.528      0.000      -2.840      -0.812\n",
      "x1             4.4599      0.692      6.448      0.000       3.104       5.816\n",
      "x2            -0.5830      0.680     -0.858      0.391      -1.915       0.749\n",
      "==============================================================================\n"
     ]
    }
   ],
   "source": [
    "# 1. stupid example, almost 100% x = y\n",
    "x = np.random.binomial(1, 0.5, size=100)\n",
    "x2 = np.random.binomial(1, 0.5, size=100)\n",
    "y = x.copy()\n",
    "ind = np.random.choice(100,10)\n",
    "y[ind] = 1 - y[ind]\n",
    "\n",
    "GLM_entries = np.hstack((x.reshape(-1,1),x2.reshape(-1,1),y.reshape(-1,1)))\n",
    "\n",
    "m = do_GLM_subprocess(GLM_entries, constant = True);\n",
    "\n",
    "print(m['fit'].summary())"
   ]
  },
  {
   "cell_type": "code",
   "execution_count": 538,
   "id": "c2ed2699-b217-4670-b2bf-338c44a2c611",
   "metadata": {},
   "outputs": [
    {
     "name": "stdout",
     "output_type": "stream",
     "text": [
      "                 Generalized Linear Model Regression Results                  \n",
      "==============================================================================\n",
      "Dep. Variable:                      y   No. Observations:                  100\n",
      "Model:                            GLM   Df Residuals:                       97\n",
      "Model Family:                Binomial   Df Model:                            2\n",
      "Link Function:                  Logit   Scale:                          1.0000\n",
      "Method:                          IRLS   Log-Likelihood:                -63.393\n",
      "Date:                Mon, 06 Jan 2025   Deviance:                       126.79\n",
      "Time:                        19:54:43   Pearson chi2:                     100.\n",
      "No. Iterations:                     4   Pseudo R-squ. (CS):            0.07519\n",
      "Covariance Type:            nonrobust                                         \n",
      "==============================================================================\n",
      "                 coef    std err          z      P>|z|      [0.025      0.975]\n",
      "------------------------------------------------------------------------------\n",
      "const         -0.5193      0.396     -1.313      0.189      -1.295       0.256\n",
      "x1             0.7900      0.426      1.855      0.064      -0.045       1.625\n",
      "x2             0.8408      0.429      1.961      0.050       0.000       1.681\n",
      "==============================================================================\n"
     ]
    }
   ],
   "source": [
    "# 2. less stupid example, 50% x = y\n",
    "x = np.random.binomial(1, 0.5, size=100)\n",
    "x2 = np.random.binomial(1, 0.5, size=100)\n",
    "y = x.copy()\n",
    "ind = np.random.choice(100,50)\n",
    "y[ind] = 1 - y[ind]\n",
    "\n",
    "GLM_entries = np.hstack((x.reshape(-1,1),x2.reshape(-1,1),y.reshape(-1,1)))\n",
    "\n",
    "m = do_GLM_subprocess(GLM_entries, constant = True);\n",
    "\n",
    "print(m['fit'].summary())"
   ]
  },
  {
   "cell_type": "markdown",
   "id": "df82ba1f-71ab-4776-bdd1-4ea9ea962aad",
   "metadata": {},
   "source": [
    "### For testing that find_remote_theta_session() is working right."
   ]
  },
  {
   "cell_type": "code",
   "execution_count": 316,
   "id": "c970d1ce-1f5b-4138-94f8-a94db1a68c98",
   "metadata": {},
   "outputs": [],
   "source": [
    "from spyglass.shijiegu.changeOfMind_remote import find_remote_theta_session"
   ]
  },
  {
   "cell_type": "code",
   "execution_count": 324,
   "id": "92fe02dc-310b-47aa-bd6e-320b89588f93",
   "metadata": {},
   "outputs": [],
   "source": [
    "nwb_copy_file_name = 'eliot20221021_.nwb'\n",
    "session_name = '04_Seq2Session2'\n",
    "position_name = 'pos 3 valid times'"
   ]
  },
  {
   "cell_type": "code",
   "execution_count": 325,
   "id": "5fb42fcf-6ad6-4a5a-b2d8-4007997053fc",
   "metadata": {},
   "outputs": [
    {
     "name": "stderr",
     "output_type": "stream",
     "text": [
      "[12:44:51][WARNING] Spyglass: Deprecation: this class has been moved out of spyglass.common.common_position\n",
      "\tIntervalLinearizedPosition -> spyglass.linearization.v0.main.IntervalLinearizedPosition\n",
      "Please use the new location.\n"
     ]
    },
    {
     "name": "stdout",
     "output_type": "stream",
     "text": [
      "currently investigating:\n",
      "04_Seq2Session2\n",
      "pos 3 valid times\n",
      "[11, 29, 32, 33, 35, 38, 39, 40, 46, 47, 53, 68, 72, 78]\n"
     ]
    }
   ],
   "source": [
    "rowID, trials, proportions, turnaround_times = find_trials_session(\n",
    "    nwb_copy_file_name,session_name,position_name,return_all = True)\n",
    "print(rowID)"
   ]
  },
  {
   "cell_type": "code",
   "execution_count": 329,
   "id": "a06cec69-37c4-43c5-a412-66c6f47b1d0a",
   "metadata": {
    "scrolled": true
   },
   "outputs": [
    {
     "name": "stderr",
     "output_type": "stream",
     "text": [
      "[12:47:22][WARNING] Spyglass: Deprecation: this class has been moved out of spyglass.common.common_position\n",
      "\tIntervalLinearizedPosition -> spyglass.linearization.v0.main.IntervalLinearizedPosition\n",
      "Please use the new location.\n"
     ]
    },
    {
     "name": "stdout",
     "output_type": "stream",
     "text": [
      "currently investigating:\n",
      "04_Seq2Session2\n",
      "pos 3 valid times\n"
     ]
    },
    {
     "name": "stderr",
     "output_type": "stream",
     "text": [
      "[12:47:22][WARNING] Spyglass: Deprecation: this class has been moved out of spyglass.common.common_position\n",
      "\tIntervalLinearizedPosition -> spyglass.linearization.v0.main.IntervalLinearizedPosition\n",
      "Please use the new location.\n"
     ]
    },
    {
     "name": "stdout",
     "output_type": "stream",
     "text": [
      "currently investigating:\n",
      "04_Seq2Session2\n",
      "pos 3 valid times\n"
     ]
    }
   ],
   "source": [
    "trials_session,time_intervals_session,arm_identity_session = find_remote_theta_session(\n",
    "    nwb_copy_file_name,session_name,position_name,\n",
    "    1,3,False,False)"
   ]
  },
  {
   "cell_type": "code",
   "execution_count": 331,
   "id": "6785646d-1190-4c3f-adb5-1e1dea00ea8b",
   "metadata": {},
   "outputs": [
    {
     "data": {
      "text/plain": [
       "[[29, 29, 29, 29], [29, 29, 29], [53], [53, 53, 53, 53], [53]]"
      ]
     },
     "execution_count": 331,
     "metadata": {},
     "output_type": "execute_result"
    }
   ],
   "source": [
    "trials_session"
   ]
  },
  {
   "cell_type": "markdown",
   "id": "ba44ea9a-0fd6-4ca5-8168-eab3013881b6",
   "metadata": {},
   "source": [
    "### For debug/testing that find_future_arms() is working right."
   ]
  },
  {
   "cell_type": "code",
   "execution_count": 253,
   "id": "d5458ab9-23eb-458a-a345-45d531946db0",
   "metadata": {},
   "outputs": [],
   "source": [
    "from spyglass.shijiegu.changeOfMind import find_trials_session\n",
    "from spyglass.shijiegu.changeOfMind_remote import find_future_arms"
   ]
  },
  {
   "cell_type": "code",
   "execution_count": 239,
   "id": "08a6199e-1915-41ac-94fa-9e6dbb10e203",
   "metadata": {},
   "outputs": [],
   "source": [
    "nwb_copy_file_name = 'lewis20240110_.nwb'\n",
    "session_name = '04_Rev2Session2'\n",
    "position_name = 'pos 3 valid times'"
   ]
  },
  {
   "cell_type": "code",
   "execution_count": 251,
   "id": "a930a8ce-f8bf-464f-8803-05523502ee0f",
   "metadata": {},
   "outputs": [
    {
     "name": "stderr",
     "output_type": "stream",
     "text": [
      "[10:41:56][WARNING] Spyglass: Deprecation: this class has been moved out of spyglass.common.common_position\n",
      "\tIntervalLinearizedPosition -> spyglass.linearization.v0.main.IntervalLinearizedPosition\n",
      "Please use the new location.\n"
     ]
    }
   ],
   "source": [
    "# load statescript and animal pos\n",
    "key={'nwb_file_name':nwb_copy_file_name,'epoch':int(session_name[:2])}\n",
    "log=(TrialChoice & key).fetch1('choice_reward')\n",
    "log_df=pd.DataFrame(log)\n",
    "\n",
    "linear_position_info=(IntervalLinearizedPosition() & {\n",
    "        'nwb_file_name':nwb_copy_file_name,\n",
    "        'interval_list_name':position_name,\n",
    "        'position_info_param_name':'default_decoding'}).fetch1_dataframe()"
   ]
  },
  {
   "cell_type": "code",
   "execution_count": 545,
   "id": "92859879-9ca5-45a5-aaa9-74d525e28240",
   "metadata": {},
   "outputs": [],
   "source": [
    "position_info=(IntervalPositionInfo() & {\n",
    "        'nwb_file_name':nwb_copy_file_name,\n",
    "        'interval_list_name':position_name,\n",
    "        'position_info_param_name':'default_decoding'}).fetch1_dataframe()"
   ]
  },
  {
   "cell_type": "code",
   "execution_count": 240,
   "id": "c347f64a-60ae-46a5-bd3f-aa0d2676573e",
   "metadata": {},
   "outputs": [
    {
     "name": "stderr",
     "output_type": "stream",
     "text": [
      "[10:13:58][WARNING] Spyglass: Deprecation: this class has been moved out of spyglass.common.common_position\n",
      "\tIntervalLinearizedPosition -> spyglass.linearization.v0.main.IntervalLinearizedPosition\n",
      "Please use the new location.\n"
     ]
    },
    {
     "name": "stdout",
     "output_type": "stream",
     "text": [
      "currently investigating:\n",
      "04_Rev2Session2\n",
      "pos 3 valid times\n"
     ]
    }
   ],
   "source": [
    "rowID, trials, proportions, turnaround_times = find_trials_session(\n",
    "    nwb_copy_file_name,session_name,position_name,return_all = True)"
   ]
  },
  {
   "cell_type": "code",
   "execution_count": 246,
   "id": "d102347f-a3dc-4ade-8b35-833be0090cf9",
   "metadata": {},
   "outputs": [
    {
     "data": {
      "text/plain": [
       "[12, 15, 17, 18, 22, 24, 26, 29, 30, 35, 45, 47, 53, 58, 60, 65, 66, 73]"
      ]
     },
     "execution_count": 246,
     "metadata": {},
     "output_type": "execute_result"
    }
   ],
   "source": [
    "rowID"
   ]
  },
  {
   "cell_type": "code",
   "execution_count": 299,
   "id": "d84ae52f-596e-44bb-9962-e207b65b90c5",
   "metadata": {},
   "outputs": [],
   "source": [
    "trialID = 47\n",
    "ind = np.argwhere(np.array(rowID) == trialID).ravel()[0]"
   ]
  },
  {
   "cell_type": "code",
   "execution_count": 310,
   "id": "fc199270-cec7-4f72-aaba-66b596631519",
   "metadata": {},
   "outputs": [],
   "source": [
    "turnaround_times[ind].append(1)"
   ]
  },
  {
   "cell_type": "code",
   "execution_count": 311,
   "id": "64f6fe34-3ccf-4067-9319-541c60874961",
   "metadata": {},
   "outputs": [
    {
     "data": {
      "text/plain": [
       "[1704916717.4908915, 1]"
      ]
     },
     "execution_count": 311,
     "metadata": {},
     "output_type": "execute_result"
    }
   ],
   "source": [
    "turnaround_times[ind]"
   ]
  },
  {
   "cell_type": "code",
   "execution_count": 300,
   "id": "02ceaff4-787b-43d1-bc7d-754cb3240d85",
   "metadata": {},
   "outputs": [],
   "source": [
    "t0 = turnaround_times[ind][0]\n",
    "future = find_future_arms(trialID, t0, log_df,\n",
    "                     linear_position_info)"
   ]
  },
  {
   "cell_type": "code",
   "execution_count": 301,
   "id": "1618819a-7db5-4f56-8e9b-992021c11a30",
   "metadata": {},
   "outputs": [
    {
     "data": {
      "text/plain": [
       "array([3])"
      ]
     },
     "execution_count": 301,
     "metadata": {},
     "output_type": "execute_result"
    }
   ],
   "source": [
    "future"
   ]
  },
  {
   "cell_type": "code",
   "execution_count": 206,
   "id": "f58d0c52-7c37-4596-b196-e9dd16bbb1e4",
   "metadata": {},
   "outputs": [
    {
     "data": {
      "text/plain": [
       "[<matplotlib.lines.Line2D at 0x7fda6bae8d00>]"
      ]
     },
     "execution_count": 206,
     "metadata": {},
     "output_type": "execute_result"
    },
    {
     "data": {
      "image/png": "[encoded data removed]",
      "text/plain": [
       "<Figure size 640x480 with 1 Axes>"
      ]
     },
     "metadata": {},
     "output_type": "display_data"
    }
   ],
   "source": [
    "plt.plot(trials[0])"
   ]
  },
  {
   "cell_type": "code",
   "execution_count": null,
   "id": "c111db48-9c4a-4279-b7ff-0cb3ad25a156",
   "metadata": {},
   "outputs": [],
   "source": []
  },
  {
   "cell_type": "code",
   "execution_count": null,
   "id": "15a1524e-8326-4387-8dba-6bf76f03f20f",
   "metadata": {},
   "outputs": [],
   "source": []
  },
  {
   "cell_type": "code",
   "execution_count": 180,
   "id": "6847e867-18f0-49f7-9fc4-9e840d96c6ec",
   "metadata": {},
   "outputs": [],
   "source": [
    "animal = 'Lewis'"
   ]
  },
  {
   "cell_type": "code",
   "execution_count": 156,
   "id": "5ecea33d-1e94-4c55-a9e6-a89d1901a2bf",
   "metadata": {},
   "outputs": [
    {
     "data": {
      "text/plain": [
       "'Eliot'"
      ]
     },
     "execution_count": 156,
     "metadata": {},
     "output_type": "execute_result"
    }
   ],
   "source": [
    "animal"
   ]
  },
  {
   "cell_type": "code",
   "execution_count": 181,
   "id": "0dd878f6-210e-4b7b-a280-a965125e781e",
   "metadata": {},
   "outputs": [],
   "source": [
    "# make GLM entry\n",
    "day_session_animal = day_sessions[animal]\n",
    "trials_animal = trials[animal]\n",
    "arm_identities_animal = arm_identities[animal]\n",
    "\n",
    "GLM_entries1 = [] # the last column is response; predictors are imminent choice, past_reward, past; response is in theta.\n",
    "GLM_entries2 = [] # the last column is response; predictors are in theta; response is in choice.\n",
    "\n",
    "for day_session_ind in range(len(day_session_animal)):\n",
    "\n",
    "    # just get data\n",
    "    (nwb_copy_file_name,session_name) = day_session_animal[day_session_ind]\n",
    "    trials_session = trials_animal[day_session_ind]\n",
    "    arms_session = arm_identities_animal[day_session_ind]\n",
    "    if len(trials_session) == 0:\n",
    "        continue\n",
    "    \n",
    "    # uniqu-ify entries\n",
    "    trial_arm = np.unique(np.hstack((\n",
    "            np.concatenate(trials_session).reshape((-1,1)),\n",
    "            np.concatenate(arms_session).reshape((-1,1)))), axis = 0)\n",
    "    \n",
    "\n",
    "    # load stateScript: for final choice\n",
    "    key={'nwb_file_name':nwb_copy_file_name,'epoch':int(session_name[:2])}\n",
    "    log=(TrialChoice & key).fetch1('choice_reward')\n",
    "    log_df=pd.DataFrame(log)\n",
    "\n",
    "    # for each remote entry, put together x and y for GLM\n",
    "    for row_ind in range(trial_arm.shape[0]):\n",
    "        (t, a) = trial_arm[row_ind]\n",
    "        \n",
    "        imminent = int(log_df.loc[t,\"OuterWellIndex\"])\n",
    "        past_reward = int(log_df.loc[t,\"past_reward\"])\n",
    "        past = int(log_df.loc[t,\"past\"])\n",
    "\n",
    "        for a_ in [1,2,3,4]:\n",
    "\n",
    "            GLM_entries1.append((int(imminent == a_), int(past_reward == a_), int(past == a_), int(a == a_)))\n",
    "\n",
    "    trials_involved = np.unique(trial_arm[:,0])\n",
    "    for t in trials_involved:\n",
    "        a = trial_arm[trial_arm[:,0] == t,1]\n",
    "        if len(a) == 0:\n",
    "            continue\n",
    "        for a_ in [1,2,3,4]:\n",
    "            GLM_entries2.append((int(np.isin(a_,a)), int(imminent == a_)))\n",
    "\n",
    "GLM_entries1 = np.vstack(GLM_entries1)\n",
    "GLM_entries2 = np.vstack(GLM_entries2)"
   ]
  },
  {
   "cell_type": "code",
   "execution_count": 182,
   "id": "c7287d00-e021-4778-82bb-30c97ce220c7",
   "metadata": {},
   "outputs": [
    {
     "name": "stdout",
     "output_type": "stream",
     "text": [
      "                 Generalized Linear Model Regression Results                  \n",
      "==============================================================================\n",
      "Dep. Variable:                      y   No. Observations:                  132\n",
      "Model:                            GLM   Df Residuals:                      128\n",
      "Model Family:                Binomial   Df Model:                            3\n",
      "Link Function:                  Logit   Scale:                          1.0000\n",
      "Method:                          IRLS   Log-Likelihood:                -74.157\n",
      "Date:                Sat, 04 Jan 2025   Deviance:                       148.31\n",
      "Time:                        10:48:52   Pearson chi2:                     132.\n",
      "No. Iterations:                     4   Pseudo R-squ. (CS):           0.001081\n",
      "Covariance Type:            nonrobust                                         \n",
      "==============================================================================\n",
      "                 coef    std err          z      P>|z|      [0.025      0.975]\n",
      "------------------------------------------------------------------------------\n",
      "const         -1.1498      0.295     -3.891      0.000      -1.729      -0.571\n",
      "x1             0.0074      0.500      0.015      0.988      -0.973       0.987\n",
      "x2             0.0954      0.626      0.152      0.879      -1.131       1.322\n",
      "x3             0.0963      0.635      0.152      0.879      -1.148       1.341\n",
      "==============================================================================\n"
     ]
    }
   ],
   "source": [
    "# do GLM\n",
    "x = GLM_entries1[:,:-1]\n",
    "x_ = sm.add_constant(x)\n",
    "y = GLM_entries1[:,-1]\n",
    "\n",
    "#glm_poisson = sm.GLM(y,x,family=sm.families.Poisson())\n",
    "glm_poisson = sm.GLM(y,x_,family=sm.families.Binomial())\n",
    "res = glm_poisson.fit()\n",
    "CI=res.conf_int(alpha=0.05)\n",
    "print(res.summary())"
   ]
  },
  {
   "cell_type": "code",
   "execution_count": 183,
   "id": "3718d47a-b3bf-4320-8fcb-00199565f988",
   "metadata": {},
   "outputs": [
    {
     "name": "stdout",
     "output_type": "stream",
     "text": [
      "                 Generalized Linear Model Regression Results                  \n",
      "==============================================================================\n",
      "Dep. Variable:                      y   No. Observations:                  120\n",
      "Model:                            GLM   Df Residuals:                      118\n",
      "Model Family:                Binomial   Df Model:                            1\n",
      "Link Function:                  Logit   Scale:                          1.0000\n",
      "Method:                          IRLS   Log-Likelihood:                -66.668\n",
      "Date:                Sat, 04 Jan 2025   Deviance:                       133.34\n",
      "Time:                        10:48:56   Pearson chi2:                     120.\n",
      "No. Iterations:                     4   Pseudo R-squ. (CS):            0.01344\n",
      "Covariance Type:            nonrobust                                         \n",
      "==============================================================================\n",
      "                 coef    std err          z      P>|z|      [0.025      0.975]\n",
      "------------------------------------------------------------------------------\n",
      "const         -1.2751      0.259     -4.914      0.000      -1.784      -0.766\n",
      "x1             0.5819      0.451      1.289      0.197      -0.303       1.467\n",
      "==============================================================================\n"
     ]
    }
   ],
   "source": [
    "# do GLM\n",
    "x = GLM_entries2[:,:-1]\n",
    "x_ = sm.add_constant(x)\n",
    "y = GLM_entries2[:,-1]\n",
    "\n",
    "#glm_poisson = sm.GLM(y,x,family=sm.families.Poisson())\n",
    "glm_poisson = sm.GLM(y,x_,family=sm.families.Binomial())\n",
    "res = glm_poisson.fit()\n",
    "CI=res.conf_int(alpha=0.05)\n",
    "print(res.summary())"
   ]
  },
  {
   "cell_type": "code",
   "execution_count": null,
   "id": "cc098c09-be81-4311-8a50-ff5e78cac528",
   "metadata": {},
   "outputs": [],
   "source": []
  }
 ],
 "metadata": {
  "kernelspec": {
   "display_name": "Python 3 (ipykernel)",
   "language": "python",
   "name": "python3"
  },
  "language_info": {
   "codemirror_mode": {
    "name": "ipython",
    "version": 3
   },
   "file_extension": ".py",
   "mimetype": "text/x-python",
   "name": "python",
   "nbconvert_exporter": "python",
   "pygments_lexer": "ipython3",
   "version": "3.7.12"
  }
 },
 "nbformat": 4,
 "nbformat_minor": 5
}
