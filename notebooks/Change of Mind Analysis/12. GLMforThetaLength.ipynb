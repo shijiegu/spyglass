{
 "cells": [
  {
   "cell_type": "markdown",
   "id": "11ffe121-a4ce-468a-984d-5687e38c9821",
   "metadata": {},
   "source": [
    "## 12. Linear predictors of theta length and theta decode concentration within the arm"
   ]
  },
  {
   "cell_type": "code",
   "execution_count": 1,
   "id": "dbddb6b1-cde7-411e-82ca-327666f8892a",
   "metadata": {},
   "outputs": [],
   "source": [
    "%reload_ext autoreload\n",
    "%autoreload 2"
   ]
  },
  {
   "cell_type": "code",
   "execution_count": 2,
   "id": "9b0c869b-9507-4149-a41d-63ff24f7beb1",
   "metadata": {},
   "outputs": [
    {
     "name": "stderr",
     "output_type": "stream",
     "text": [
      "[2025-02-26 20:47:56,164][INFO]: Connecting shijiegu-alt@lmf-db.cin.ucsf.edu:3306\n",
      "[2025-02-26 20:47:56,242][INFO]: Connected shijiegu-alt@lmf-db.cin.ucsf.edu:3306\n"
     ]
    }
   ],
   "source": [
    "import spyglass as nd\n",
    "import pandas as pd\n",
    "import numpy as np\n",
    "import xarray as xr\n",
    "from scipy import stats\n",
    "from scipy import linalg\n",
    "import os\n",
    "import pickle\n",
    "import matplotlib.pyplot as plt\n",
    "from ripple_detection.core import segment_boolean_series\n",
    "\n",
    "from spyglass.common import (Session, IntervalList,LabMember, LabTeam, Raw, Session, Nwbfile,\n",
    "                            Electrode,LFPBand,interval_list_intersect)\n",
    "from spyglass.common import TaskEpoch\n",
    "from spyglass.spikesorting.v0 import (SortGroup, \n",
    "                                    SpikeSortingRecording,SpikeSortingRecordingSelection)\n",
    "from spyglass.utils.nwb_helper_fn import get_nwb_copy_filename\n",
    "from spyglass.common.common_position import IntervalPositionInfo, RawPosition, IntervalLinearizedPosition, TrackGraph"
   ]
  },
  {
   "cell_type": "code",
   "execution_count": 5,
   "id": "2a4b39e9-0a44-437d-82cd-69f268e3462f",
   "metadata": {},
   "outputs": [
    {
     "name": "stderr",
     "output_type": "stream",
     "text": [
      "[20:50:01][WARNING] Spyglass: Deprecation: this class has been moved out of spyglass.common.common_position\n",
      "\tTrackGraph -> spyglass.linearization.v0.main.TrackGraph\n",
      "Please use the new location.\n",
      "[20:50:01][WARNING] Spyglass: Deprecation: this class has been moved out of spyglass.common.common_position\n",
      "\tTrackGraph -> spyglass.linearization.v0.main.TrackGraph\n",
      "Please use the new location.\n"
     ]
    }
   ],
   "source": [
    "from spyglass.shijiegu.Analysis_SGU import TrialChoice,EpochPos,MUA,get_linearization_map, TrialChoiceChangeOfMind\n",
    "from spyglass.shijiegu.decodeHelpers import runSessionNames\n",
    "from spyglass.shijiegu.ripple_add_replay import plot_decode_spiking\n",
    "from spyglass.shijiegu.changeOfMind import (insertTrialChoiceChangeOfMind, find_turnaround_time, findProportion,\n",
    "            find_trials, load_epoch_data_wrapper, find_direction, find_trials_animal, unique_stable)\n",
    "from spyglass.shijiegu.changeOfMind_triggered import (find_triggered_animal,\n",
    "    plot_physical_vs_mental_position, parse_to_transitions, find_large_position_minus_decode_trials)"
   ]
  },
  {
   "cell_type": "code",
   "execution_count": 16,
   "id": "132f3296-fcd3-49b6-acf3-4d28835d0284",
   "metadata": {
    "scrolled": true
   },
   "outputs": [
    {
     "name": "stderr",
     "output_type": "stream",
     "text": [
      "[21:19:49][WARNING] Spyglass: Deprecation: this class has been moved out of spyglass.common.common_position\n",
      "\tIntervalLinearizedPosition -> spyglass.linearization.v0.main.IntervalLinearizedPosition\n",
      "Please use the new location.\n"
     ]
    },
    {
     "name": "stdout",
     "output_type": "stream",
     "text": [
      "currently investigating:\n",
      "02_Rev2Session1\n",
      "pos 1 valid times\n"
     ]
    },
    {
     "name": "stderr",
     "output_type": "stream",
     "text": [
      "[21:19:50][WARNING] Spyglass: Deprecation: this class has been moved out of spyglass.common.common_position\n",
      "\tIntervalLinearizedPosition -> spyglass.linearization.v0.main.IntervalLinearizedPosition\n",
      "Please use the new location.\n"
     ]
    },
    {
     "name": "stdout",
     "output_type": "stream",
     "text": [
      "currently investigating:\n",
      "04_Rev2Session2\n",
      "pos 3 valid times\n"
     ]
    },
    {
     "name": "stderr",
     "output_type": "stream",
     "text": [
      "[21:19:52][WARNING] Spyglass: Deprecation: this class has been moved out of spyglass.common.common_position\n",
      "\tIntervalLinearizedPosition -> spyglass.linearization.v0.main.IntervalLinearizedPosition\n",
      "Please use the new location.\n"
     ]
    },
    {
     "name": "stdout",
     "output_type": "stream",
     "text": [
      "currently investigating:\n",
      "06_Rev2Session3\n",
      "pos 5 valid times\n"
     ]
    },
    {
     "name": "stderr",
     "output_type": "stream",
     "text": [
      "[21:19:53][WARNING] Spyglass: Deprecation: this class has been moved out of spyglass.common.common_position\n",
      "\tIntervalLinearizedPosition -> spyglass.linearization.v0.main.IntervalLinearizedPosition\n",
      "Please use the new location.\n"
     ]
    },
    {
     "name": "stdout",
     "output_type": "stream",
     "text": [
      "currently investigating:\n",
      "08_Rev2Session4\n",
      "pos 7 valid times\n"
     ]
    },
    {
     "name": "stderr",
     "output_type": "stream",
     "text": [
      "[21:19:53][WARNING] Spyglass: Deprecation: this class has been moved out of spyglass.common.common_position\n",
      "\tIntervalLinearizedPosition -> spyglass.linearization.v0.main.IntervalLinearizedPosition\n",
      "Please use the new location.\n"
     ]
    },
    {
     "name": "stdout",
     "output_type": "stream",
     "text": [
      "currently investigating:\n",
      "02_Rev2Session1\n",
      "pos 1 valid times\n",
      "some missing position data\n",
      "some missing position data\n"
     ]
    },
    {
     "name": "stderr",
     "output_type": "stream",
     "text": [
      "[21:19:55][WARNING] Spyglass: Deprecation: this class has been moved out of spyglass.common.common_position\n",
      "\tIntervalLinearizedPosition -> spyglass.linearization.v0.main.IntervalLinearizedPosition\n",
      "Please use the new location.\n"
     ]
    },
    {
     "name": "stdout",
     "output_type": "stream",
     "text": [
      "currently investigating:\n",
      "04_Rev2Session2\n",
      "pos 3 valid times\n"
     ]
    },
    {
     "name": "stderr",
     "output_type": "stream",
     "text": [
      "[21:19:56][WARNING] Spyglass: Deprecation: this class has been moved out of spyglass.common.common_position\n",
      "\tIntervalLinearizedPosition -> spyglass.linearization.v0.main.IntervalLinearizedPosition\n",
      "Please use the new location.\n"
     ]
    },
    {
     "name": "stdout",
     "output_type": "stream",
     "text": [
      "currently investigating:\n",
      "06_Rev2Session3\n",
      "pos 5 valid times\n"
     ]
    },
    {
     "name": "stderr",
     "output_type": "stream",
     "text": [
      "[21:19:57][WARNING] Spyglass: Deprecation: this class has been moved out of spyglass.common.common_position\n",
      "\tIntervalLinearizedPosition -> spyglass.linearization.v0.main.IntervalLinearizedPosition\n",
      "Please use the new location.\n"
     ]
    },
    {
     "name": "stdout",
     "output_type": "stream",
     "text": [
      "currently investigating:\n",
      "08_Rev2Session4\n",
      "pos 7 valid times\n"
     ]
    },
    {
     "name": "stderr",
     "output_type": "stream",
     "text": [
      "[21:19:57][WARNING] Spyglass: Deprecation: this class has been moved out of spyglass.common.common_position\n",
      "\tIntervalLinearizedPosition -> spyglass.linearization.v0.main.IntervalLinearizedPosition\n",
      "Please use the new location.\n"
     ]
    },
    {
     "name": "stdout",
     "output_type": "stream",
     "text": [
      "currently investigating:\n",
      "10_Rev2Session5\n",
      "pos 9 valid times\n"
     ]
    }
   ],
   "source": [
    "animal = 'Lewis'\n",
    "dates_to_plot = ['20240109','20240110']\n",
    "#dates_to_plot = ['20240106','20240107','20240108','20240109']\n",
    "                 #'20240110','20240113']\n",
    "\n",
    "encoding_set = '2Dheadspeed_above_4'\n",
    "classifier_param_name = 'default_decoding_gpu_4armMaze'\n",
    "datafolder = f'/cumulus/shijie/behavior_pilot/Batch1/{animal}'\n",
    "\n",
    "(triggered_positions, triggered_positions_abs,\n",
    " triggered_decodes, triggered_decodes_abs, triggered_decode_t,\n",
    " triggered_trial_info) = find_triggered_animal(animal,dates_to_plot,\n",
    "                                                                   delta_t_minus = 1,delta_t_plus = 1,\n",
    "                                                                   max_flag = 0, segment_only = True,\n",
    "                                                                   multiple_CoM = False, first_CoM = False, last_CoM = False)"
   ]
  },
  {
   "cell_type": "code",
   "execution_count": 98,
   "id": "6fd2c828-d78a-4fd3-abe6-59c65b630a1c",
   "metadata": {
    "scrolled": true
   },
   "outputs": [
    {
     "name": "stderr",
     "output_type": "stream",
     "text": [
      "[21:56:14][WARNING] Spyglass: Deprecation: this class has been moved out of spyglass.common.common_position\n",
      "\tIntervalLinearizedPosition -> spyglass.linearization.v0.main.IntervalLinearizedPosition\n",
      "Please use the new location.\n"
     ]
    },
    {
     "name": "stdout",
     "output_type": "stream",
     "text": [
      "currently investigating:\n",
      "02_Seq2Session1\n",
      "pos 1 valid times\n"
     ]
    },
    {
     "name": "stderr",
     "output_type": "stream",
     "text": [
      "[21:56:17][WARNING] Spyglass: Deprecation: this class has been moved out of spyglass.common.common_position\n",
      "\tIntervalLinearizedPosition -> spyglass.linearization.v0.main.IntervalLinearizedPosition\n",
      "Please use the new location.\n"
     ]
    },
    {
     "name": "stdout",
     "output_type": "stream",
     "text": [
      "currently investigating:\n",
      "04_Seq2Session2\n",
      "pos 3 valid times\n",
      "some missing position data\n"
     ]
    },
    {
     "name": "stderr",
     "output_type": "stream",
     "text": [
      "[21:56:18][WARNING] Spyglass: Deprecation: this class has been moved out of spyglass.common.common_position\n",
      "\tIntervalLinearizedPosition -> spyglass.linearization.v0.main.IntervalLinearizedPosition\n",
      "Please use the new location.\n"
     ]
    },
    {
     "name": "stdout",
     "output_type": "stream",
     "text": [
      "currently investigating:\n",
      "06_Seq2Session3\n",
      "pos 5 valid times\n"
     ]
    },
    {
     "name": "stderr",
     "output_type": "stream",
     "text": [
      "[21:56:20][WARNING] Spyglass: Deprecation: this class has been moved out of spyglass.common.common_position\n",
      "\tIntervalLinearizedPosition -> spyglass.linearization.v0.main.IntervalLinearizedPosition\n",
      "Please use the new location.\n"
     ]
    },
    {
     "name": "stdout",
     "output_type": "stream",
     "text": [
      "currently investigating:\n",
      "08_Seq2Session4\n",
      "pos 7 valid times\n"
     ]
    },
    {
     "name": "stderr",
     "output_type": "stream",
     "text": [
      "[21:56:21][WARNING] Spyglass: Deprecation: this class has been moved out of spyglass.common.common_position\n",
      "\tIntervalLinearizedPosition -> spyglass.linearization.v0.main.IntervalLinearizedPosition\n",
      "Please use the new location.\n"
     ]
    },
    {
     "name": "stdout",
     "output_type": "stream",
     "text": [
      "currently investigating:\n",
      "10_Seq2Session5\n",
      "pos 9 valid times\n"
     ]
    },
    {
     "name": "stderr",
     "output_type": "stream",
     "text": [
      "[21:56:22][WARNING] Spyglass: Deprecation: this class has been moved out of spyglass.common.common_position\n",
      "\tIntervalLinearizedPosition -> spyglass.linearization.v0.main.IntervalLinearizedPosition\n",
      "Please use the new location.\n"
     ]
    },
    {
     "name": "stdout",
     "output_type": "stream",
     "text": [
      "currently investigating:\n",
      "12_Seq2Session6\n",
      "pos 11 valid times\n"
     ]
    },
    {
     "name": "stderr",
     "output_type": "stream",
     "text": [
      "[21:56:24][WARNING] Spyglass: Deprecation: this class has been moved out of spyglass.common.common_position\n",
      "\tIntervalLinearizedPosition -> spyglass.linearization.v0.main.IntervalLinearizedPosition\n",
      "Please use the new location.\n"
     ]
    },
    {
     "name": "stdout",
     "output_type": "stream",
     "text": [
      "currently investigating:\n",
      "02_Seq2Session1\n",
      "pos 1 valid times\n"
     ]
    },
    {
     "name": "stderr",
     "output_type": "stream",
     "text": [
      "[21:56:25][WARNING] Spyglass: Deprecation: this class has been moved out of spyglass.common.common_position\n",
      "\tIntervalLinearizedPosition -> spyglass.linearization.v0.main.IntervalLinearizedPosition\n",
      "Please use the new location.\n"
     ]
    },
    {
     "name": "stdout",
     "output_type": "stream",
     "text": [
      "currently investigating:\n",
      "04_Seq2Session2\n",
      "pos 3 valid times\n"
     ]
    },
    {
     "name": "stderr",
     "output_type": "stream",
     "text": [
      "[21:56:27][WARNING] Spyglass: Deprecation: this class has been moved out of spyglass.common.common_position\n",
      "\tIntervalLinearizedPosition -> spyglass.linearization.v0.main.IntervalLinearizedPosition\n",
      "Please use the new location.\n"
     ]
    },
    {
     "name": "stdout",
     "output_type": "stream",
     "text": [
      "currently investigating:\n",
      "06_Seq2Session3\n",
      "pos 5 valid times\n"
     ]
    },
    {
     "name": "stderr",
     "output_type": "stream",
     "text": [
      "[21:56:28][WARNING] Spyglass: Deprecation: this class has been moved out of spyglass.common.common_position\n",
      "\tIntervalLinearizedPosition -> spyglass.linearization.v0.main.IntervalLinearizedPosition\n",
      "Please use the new location.\n"
     ]
    },
    {
     "name": "stdout",
     "output_type": "stream",
     "text": [
      "currently investigating:\n",
      "08_Seq2Session4\n",
      "pos 7 valid times\n"
     ]
    },
    {
     "name": "stderr",
     "output_type": "stream",
     "text": [
      "[21:56:29][WARNING] Spyglass: Deprecation: this class has been moved out of spyglass.common.common_position\n",
      "\tIntervalLinearizedPosition -> spyglass.linearization.v0.main.IntervalLinearizedPosition\n",
      "Please use the new location.\n"
     ]
    },
    {
     "name": "stdout",
     "output_type": "stream",
     "text": [
      "currently investigating:\n",
      "02_Seq2Session1\n",
      "pos 1 valid times\n"
     ]
    },
    {
     "name": "stderr",
     "output_type": "stream",
     "text": [
      "[21:56:31][WARNING] Spyglass: Deprecation: this class has been moved out of spyglass.common.common_position\n",
      "\tIntervalLinearizedPosition -> spyglass.linearization.v0.main.IntervalLinearizedPosition\n",
      "Please use the new location.\n"
     ]
    },
    {
     "name": "stdout",
     "output_type": "stream",
     "text": [
      "currently investigating:\n",
      "04_Seq2Session2\n",
      "pos 3 valid times\n"
     ]
    },
    {
     "name": "stderr",
     "output_type": "stream",
     "text": [
      "[21:56:32][WARNING] Spyglass: Deprecation: this class has been moved out of spyglass.common.common_position\n",
      "\tIntervalLinearizedPosition -> spyglass.linearization.v0.main.IntervalLinearizedPosition\n",
      "Please use the new location.\n"
     ]
    },
    {
     "name": "stdout",
     "output_type": "stream",
     "text": [
      "currently investigating:\n",
      "06_Seq2Session3\n",
      "pos 5 valid times\n"
     ]
    },
    {
     "name": "stderr",
     "output_type": "stream",
     "text": [
      "[21:56:34][WARNING] Spyglass: Deprecation: this class has been moved out of spyglass.common.common_position\n",
      "\tIntervalLinearizedPosition -> spyglass.linearization.v0.main.IntervalLinearizedPosition\n",
      "Please use the new location.\n"
     ]
    },
    {
     "name": "stdout",
     "output_type": "stream",
     "text": [
      "currently investigating:\n",
      "08_Seq2Session4\n",
      "pos 7 valid times\n"
     ]
    },
    {
     "name": "stderr",
     "output_type": "stream",
     "text": [
      "[21:56:35][WARNING] Spyglass: Deprecation: this class has been moved out of spyglass.common.common_position\n",
      "\tIntervalLinearizedPosition -> spyglass.linearization.v0.main.IntervalLinearizedPosition\n",
      "Please use the new location.\n"
     ]
    },
    {
     "name": "stdout",
     "output_type": "stream",
     "text": [
      "currently investigating:\n",
      "10_Seq2Session5\n",
      "pos 9 valid times\n"
     ]
    }
   ],
   "source": [
    "animal = 'Eliot'\n",
    "dates_to_plot = ['20221020','20221021','20221022']\n",
    "#dates_to_plot = ['20240106','20240107','20240108','20240109']\n",
    "                 #'20240110','20240113']\n",
    "\n",
    "encoding_set = '2Dheadspeed_above_4_andlowmua'\n",
    "classifier_param_name = 'default_decoding_gpu_4armMaze'\n",
    "datafolder = f'/cumulus/shijie/behavior_pilot/Batch1/{animal}'\n",
    "\n",
    "(triggered_positions, triggered_positions_abs,\n",
    " triggered_decodes, triggered_decodes_abs, triggered_decode_t,\n",
    " triggered_trial_info) = find_triggered_animal(animal,dates_to_plot,\n",
    "                                                                   delta_t_minus = 1,delta_t_plus = 1,\n",
    "                                                                   max_flag = 0, segment_only = True,\n",
    "                                                                   multiple_CoM = False, first_CoM = False, last_CoM = False)"
   ]
  },
  {
   "cell_type": "code",
   "execution_count": null,
   "id": "12c1bbde-0404-4e53-9b6f-a0f2e2531a7f",
   "metadata": {},
   "outputs": [],
   "source": [
    "# responses are - max decode to animal distance within +- 1 second of change of mind i\n",
    "# predictors are - (1) animal proportion in at change of mind time i,\n",
    "#                  (2) change of mind count on this trial: CoM_num\n",
    "#                  (3) time to from initial home poke: t1\n",
    "#                  (4) time to completion\n",
    "#                  (5) total time of this trial\n",
    "#                  (6) reward rate within last 10 trials\n",
    "#                  (7) reward rate within last 4 trials\n",
    "#                  (8) reward rate within last 1 trials"
   ]
  },
  {
   "cell_type": "code",
   "execution_count": 155,
   "id": "b23a997c-2b17-4ea8-baf1-6cb91a7ac9d9",
   "metadata": {},
   "outputs": [],
   "source": [
    "def find_recent_reward_num(log_df, back_num):\n",
    "    # count back back_num trials\n",
    "    recent_reward = np.array(log_df.loc[np.max([1,trialID - back_num]):trialID,\"rewardNum\"])\n",
    "    if len(recent_reward) > 0:\n",
    "        return np.sum(recent_reward == 2)/ len(recent_reward)\n",
    "    return 0"
   ]
  },
  {
   "cell_type": "code",
   "execution_count": 339,
   "id": "070e12b3-4ab5-48fe-9392-fb6b543590d0",
   "metadata": {},
   "outputs": [],
   "source": [
    "def form_theta_predictors(triggered_positions, triggered_positions_abs,\n",
    "                          triggered_decodes, triggered_decodes_abs,\n",
    "                          triggered_decode_t, triggered_trial_info, nearby = False):\n",
    "    # nearby: if true, it will assume input data are for nearby data\n",
    "\n",
    "    Y,prop,CoM_num,t0,t1,t_total,reward10, reward12, reward4, reward3, reward1 = ([], [], [], [], [], [], [], [],[],[],[])\n",
    "    \n",
    "    for rendition_ind in range(len(triggered_trial_info)):\n",
    "        trial_info = triggered_trial_info[rendition_ind]\n",
    "        (nwb_copy_file_name, session_name, trialID, arm) = (trial_info)#'lewis20240110_.nwb', '06_Rev2Session3', 45, 3)\n",
    "        \n",
    "        position_abs = triggered_positions_abs[rendition_ind]\n",
    "        position_abs_centered = triggered_positions[rendition_ind]\n",
    "        decode_abs = triggered_decodes_abs[rendition_ind]\n",
    "        decode_time = triggered_decode_t[rendition_ind]\n",
    "        if len(position_abs) == len(decode_abs):\n",
    "            max_theta = np.nanmax(np.abs(np.array(decode_abs) - np.array(position_abs)))\n",
    "            if np.isnan(max_theta):\n",
    "                continue\n",
    "        else:\n",
    "            continue\n",
    "    \n",
    "        # load log\n",
    "        log_df = pd.read_pickle( (TrialChoiceChangeOfMind() & {\"nwb_file_name\": nwb_copy_file_name,\n",
    "                                                               \"epoch\":int(session_name[:2])}).fetch1(\"change_of_mind_info\") )\n",
    "        if np.isnan(log_df.loc[trialID,\"timestamp_H\"]):\n",
    "            continue\n",
    "            \n",
    "        Y.append(max_theta)\n",
    "        # (1) animal proportion in at change of mind time i,\n",
    "        if not nearby:\n",
    "            prop.append(log_df.loc[trialID,\"CoMMaxProportion\"])\n",
    "        else:\n",
    "            max_theta_ind = np.nanargmax(np.abs(np.array(decode_abs) - np.array(position_abs)))\n",
    "            prop.append( 0.01 * np.array(position_abs)[max_theta_ind] )\n",
    "            \n",
    "    \n",
    "        # (2) change of mind count on this trial: CoM_num\n",
    "        if len(log_df.loc[trialID,\"CoM_t\"]) > 0:\n",
    "            CoM_t = np.array(log_df.loc[trialID,\"CoM_t\"][0])\n",
    "            CoM_num.append(len(CoM_t))\n",
    "        else:\n",
    "            CoM_num.append(0)\n",
    "    \n",
    "        # (3) time from initial home poke: t0\n",
    "        # infer change of mind time\n",
    "        #np.argwhere(triggered_decodes[1].index == 0)\n",
    "\n",
    "        t_ind = np.argsort(np.abs(position_abs_centered.index - 0))[0]\n",
    "        \n",
    "        t = np.array(decode_time.index)[t_ind]\n",
    "        #t = t[0][0]\n",
    "        t0.append( t - log_df.loc[trialID,\"timestamp_H\"])\n",
    "    \n",
    "        # (4) time to completion\n",
    "        t1.append( log_df.loc[trialID,\"timestamp_O\"] - t )\n",
    "    \n",
    "        # (5) total time of the trial\n",
    "        t_total.append( log_df.loc[trialID,\"timestamp_O\"] - log_df.loc[trialID,\"timestamp_H\"] )\n",
    "    \n",
    "        # (6) reward rate within last 10 trials\n",
    "        reward10.append(find_recent_reward_num(log_df, 10))\n",
    "        reward12.append(find_recent_reward_num(log_df, 12))\n",
    "        reward4.append(find_recent_reward_num(log_df, 4))\n",
    "        reward3.append(find_recent_reward_num(log_df, 3))\n",
    "        reward1.append(find_recent_reward_num(log_df, 1))\n",
    "\n",
    "    x = np.hstack((np.array(prop).reshape((-1,1)),np.array(CoM_num).reshape((-1,1)),\n",
    "               np.array(t0).reshape((-1,1)),\n",
    "               np.array(t1).reshape((-1,1)),np.array(t_total).reshape((-1,1)),\n",
    "               np.array(reward10).reshape((-1,1)), np.array(reward4).reshape((-1,1)), np.array(reward1).reshape((-1,1))))\n",
    "    y = np.array(Y).reshape((-1,1))\n",
    "    predictor_names = [\"proportion\", \"CoM num\", \"t from home\", \"t to completion\",\"trial total t\",\n",
    "                      \"rcnt 10 reward\", \"rcnt 4 reward\", \"rcnt 1 reward\"]\n",
    "    \n",
    "    return y, x, predictor_names\n",
    "        "
   ]
  },
  {
   "cell_type": "markdown",
   "id": "816f455e-a204-4140-87f0-91595d698cc9",
   "metadata": {},
   "source": [
    "### Do regression"
   ]
  },
  {
   "cell_type": "code",
   "execution_count": 221,
   "id": "bb829308-ae9d-4e7d-9746-c9b3c09546b4",
   "metadata": {
    "scrolled": true
   },
   "outputs": [],
   "source": [
    "import statsmodels.api as sm"
   ]
  },
  {
   "cell_type": "code",
   "execution_count": 377,
   "id": "4e39a56d-b6d7-456a-906d-98702e50d898",
   "metadata": {},
   "outputs": [],
   "source": [
    "x_animals = {}\n",
    "y_animals = {}\n",
    "x_animals_control = {}\n",
    "y_animals_control = {}\n",
    "results_animals = {}\n",
    "results_animals_control = {}"
   ]
  },
  {
   "cell_type": "code",
   "execution_count": 379,
   "id": "2a65461f-0675-46a0-a7a4-dc1a3cb22355",
   "metadata": {
    "scrolled": true
   },
   "outputs": [
    {
     "name": "stderr",
     "output_type": "stream",
     "text": [
      "[22:31:30][WARNING] Spyglass: Deprecation: this class has been moved out of spyglass.common.common_position\n",
      "\tIntervalLinearizedPosition -> spyglass.linearization.v0.main.IntervalLinearizedPosition\n",
      "Please use the new location.\n"
     ]
    },
    {
     "name": "stdout",
     "output_type": "stream",
     "text": [
      "currently investigating:\n",
      "02_Seq2Session1\n",
      "pos 1 valid times\n"
     ]
    },
    {
     "name": "stderr",
     "output_type": "stream",
     "text": [
      "[22:31:31][WARNING] Spyglass: Deprecation: this class has been moved out of spyglass.common.common_position\n",
      "\tIntervalLinearizedPosition -> spyglass.linearization.v0.main.IntervalLinearizedPosition\n",
      "Please use the new location.\n"
     ]
    },
    {
     "name": "stdout",
     "output_type": "stream",
     "text": [
      "currently investigating:\n",
      "04_Seq2Session2\n",
      "pos 3 valid times\n",
      "some missing position data\n"
     ]
    },
    {
     "name": "stderr",
     "output_type": "stream",
     "text": [
      "[22:31:32][WARNING] Spyglass: Deprecation: this class has been moved out of spyglass.common.common_position\n",
      "\tIntervalLinearizedPosition -> spyglass.linearization.v0.main.IntervalLinearizedPosition\n",
      "Please use the new location.\n"
     ]
    },
    {
     "name": "stdout",
     "output_type": "stream",
     "text": [
      "currently investigating:\n",
      "06_Seq2Session3\n",
      "pos 5 valid times\n"
     ]
    },
    {
     "name": "stderr",
     "output_type": "stream",
     "text": [
      "[22:31:32][WARNING] Spyglass: Deprecation: this class has been moved out of spyglass.common.common_position\n",
      "\tIntervalLinearizedPosition -> spyglass.linearization.v0.main.IntervalLinearizedPosition\n",
      "Please use the new location.\n"
     ]
    },
    {
     "name": "stdout",
     "output_type": "stream",
     "text": [
      "currently investigating:\n",
      "08_Seq2Session4\n",
      "pos 7 valid times\n"
     ]
    },
    {
     "name": "stderr",
     "output_type": "stream",
     "text": [
      "[22:31:33][WARNING] Spyglass: Deprecation: this class has been moved out of spyglass.common.common_position\n",
      "\tIntervalLinearizedPosition -> spyglass.linearization.v0.main.IntervalLinearizedPosition\n",
      "Please use the new location.\n"
     ]
    },
    {
     "name": "stdout",
     "output_type": "stream",
     "text": [
      "currently investigating:\n",
      "10_Seq2Session5\n",
      "pos 9 valid times\n"
     ]
    },
    {
     "name": "stderr",
     "output_type": "stream",
     "text": [
      "[22:31:33][WARNING] Spyglass: Deprecation: this class has been moved out of spyglass.common.common_position\n",
      "\tIntervalLinearizedPosition -> spyglass.linearization.v0.main.IntervalLinearizedPosition\n",
      "Please use the new location.\n"
     ]
    },
    {
     "name": "stdout",
     "output_type": "stream",
     "text": [
      "currently investigating:\n",
      "12_Seq2Session6\n",
      "pos 11 valid times\n"
     ]
    },
    {
     "name": "stderr",
     "output_type": "stream",
     "text": [
      "[22:31:34][WARNING] Spyglass: Deprecation: this class has been moved out of spyglass.common.common_position\n",
      "\tIntervalLinearizedPosition -> spyglass.linearization.v0.main.IntervalLinearizedPosition\n",
      "Please use the new location.\n"
     ]
    },
    {
     "name": "stdout",
     "output_type": "stream",
     "text": [
      "currently investigating:\n",
      "02_Seq2Session1\n",
      "pos 1 valid times\n"
     ]
    },
    {
     "name": "stderr",
     "output_type": "stream",
     "text": [
      "[22:31:35][WARNING] Spyglass: Deprecation: this class has been moved out of spyglass.common.common_position\n",
      "\tIntervalLinearizedPosition -> spyglass.linearization.v0.main.IntervalLinearizedPosition\n",
      "Please use the new location.\n"
     ]
    },
    {
     "name": "stdout",
     "output_type": "stream",
     "text": [
      "currently investigating:\n",
      "04_Seq2Session2\n",
      "pos 3 valid times\n"
     ]
    },
    {
     "name": "stderr",
     "output_type": "stream",
     "text": [
      "[22:31:36][WARNING] Spyglass: Deprecation: this class has been moved out of spyglass.common.common_position\n",
      "\tIntervalLinearizedPosition -> spyglass.linearization.v0.main.IntervalLinearizedPosition\n",
      "Please use the new location.\n"
     ]
    },
    {
     "name": "stdout",
     "output_type": "stream",
     "text": [
      "currently investigating:\n",
      "06_Seq2Session3\n",
      "pos 5 valid times\n"
     ]
    },
    {
     "name": "stderr",
     "output_type": "stream",
     "text": [
      "[22:31:37][WARNING] Spyglass: Deprecation: this class has been moved out of spyglass.common.common_position\n",
      "\tIntervalLinearizedPosition -> spyglass.linearization.v0.main.IntervalLinearizedPosition\n",
      "Please use the new location.\n"
     ]
    },
    {
     "name": "stdout",
     "output_type": "stream",
     "text": [
      "currently investigating:\n",
      "08_Seq2Session4\n",
      "pos 7 valid times\n"
     ]
    },
    {
     "name": "stderr",
     "output_type": "stream",
     "text": [
      "[22:31:37][WARNING] Spyglass: Deprecation: this class has been moved out of spyglass.common.common_position\n",
      "\tIntervalLinearizedPosition -> spyglass.linearization.v0.main.IntervalLinearizedPosition\n",
      "Please use the new location.\n"
     ]
    },
    {
     "name": "stdout",
     "output_type": "stream",
     "text": [
      "currently investigating:\n",
      "02_Seq2Session1\n",
      "pos 1 valid times\n"
     ]
    },
    {
     "name": "stderr",
     "output_type": "stream",
     "text": [
      "[22:31:38][WARNING] Spyglass: Deprecation: this class has been moved out of spyglass.common.common_position\n",
      "\tIntervalLinearizedPosition -> spyglass.linearization.v0.main.IntervalLinearizedPosition\n",
      "Please use the new location.\n"
     ]
    },
    {
     "name": "stdout",
     "output_type": "stream",
     "text": [
      "currently investigating:\n",
      "04_Seq2Session2\n",
      "pos 3 valid times\n"
     ]
    },
    {
     "name": "stderr",
     "output_type": "stream",
     "text": [
      "[22:31:39][WARNING] Spyglass: Deprecation: this class has been moved out of spyglass.common.common_position\n",
      "\tIntervalLinearizedPosition -> spyglass.linearization.v0.main.IntervalLinearizedPosition\n",
      "Please use the new location.\n"
     ]
    },
    {
     "name": "stdout",
     "output_type": "stream",
     "text": [
      "currently investigating:\n",
      "06_Seq2Session3\n",
      "pos 5 valid times\n"
     ]
    },
    {
     "name": "stderr",
     "output_type": "stream",
     "text": [
      "[22:31:39][WARNING] Spyglass: Deprecation: this class has been moved out of spyglass.common.common_position\n",
      "\tIntervalLinearizedPosition -> spyglass.linearization.v0.main.IntervalLinearizedPosition\n",
      "Please use the new location.\n"
     ]
    },
    {
     "name": "stdout",
     "output_type": "stream",
     "text": [
      "currently investigating:\n",
      "08_Seq2Session4\n",
      "pos 7 valid times\n"
     ]
    },
    {
     "name": "stderr",
     "output_type": "stream",
     "text": [
      "[22:31:40][WARNING] Spyglass: Deprecation: this class has been moved out of spyglass.common.common_position\n",
      "\tIntervalLinearizedPosition -> spyglass.linearization.v0.main.IntervalLinearizedPosition\n",
      "Please use the new location.\n"
     ]
    },
    {
     "name": "stdout",
     "output_type": "stream",
     "text": [
      "currently investigating:\n",
      "10_Seq2Session5\n",
      "pos 9 valid times\n",
      "                            OLS Regression Results                            \n",
      "==============================================================================\n",
      "Dep. Variable:                      y   R-squared:                       0.154\n",
      "Model:                            OLS   Adj. R-squared:                  0.114\n",
      "Method:                 Least Squares   F-statistic:                     3.853\n",
      "Date:                Thu, 27 Feb 2025   Prob (F-statistic):           0.000704\n",
      "Time:                        22:31:40   Log-Likelihood:                -599.90\n",
      "No. Observations:                 156   AIC:                             1216.\n",
      "Df Residuals:                     148   BIC:                             1240.\n",
      "Df Model:                           7                                         \n",
      "Covariance Type:            nonrobust                                         \n",
      "==============================================================================\n",
      "                 coef    std err          t      P>|t|      [0.025      0.975]\n",
      "------------------------------------------------------------------------------\n",
      "const          6.1679      4.755      1.297      0.197      -3.230      15.565\n",
      "x1            29.3157      9.835      2.981      0.003       9.881      48.750\n",
      "x2            -1.7672      1.561     -1.132      0.260      -4.853       1.318\n",
      "x3             0.4608      0.214      2.152      0.033       0.038       0.884\n",
      "x4            -0.1001      0.152     -0.658      0.511      -0.401       0.200\n",
      "x5             0.3607      0.117      3.089      0.002       0.130       0.591\n",
      "x6             1.9019      8.908      0.214      0.831     -15.701      19.505\n",
      "x7            -1.6642      7.203     -0.231      0.818     -15.898      12.570\n",
      "x8            -4.2763      5.359     -0.798      0.426     -14.867       6.314\n",
      "==============================================================================\n",
      "Omnibus:                       79.739   Durbin-Watson:                   1.488\n",
      "Prob(Omnibus):                  0.000   Jarque-Bera (JB):              288.589\n",
      "Skew:                           2.020   Prob(JB):                     2.16e-63\n",
      "Kurtosis:                       8.299   Cond. No.                     2.46e+16\n",
      "==============================================================================\n",
      "\n",
      "Notes:\n",
      "[1] Standard Errors assume that the covariance matrix of the errors is correctly specified.\n",
      "[2] The smallest eigenvalue is 1.59e-28. This might indicate that there are\n",
      "strong multicollinearity problems or that the design matrix is singular.\n"
     ]
    },
    {
     "ename": "NameError",
     "evalue": "name 'results_animals' is not defined",
     "output_type": "error",
     "traceback": [
      "\u001b[0;31m---------------------------------------------------------------------------\u001b[0m",
      "\u001b[0;31mNameError\u001b[0m                                 Traceback (most recent call last)",
      "Cell \u001b[0;32mIn[379], line 29\u001b[0m\n\u001b[1;32m     26\u001b[0m \u001b[38;5;28mprint\u001b[39m(results\u001b[38;5;241m.\u001b[39msummary())\n\u001b[1;32m     27\u001b[0m df \u001b[38;5;241m=\u001b[39m pd\u001b[38;5;241m.\u001b[39mread_html(results\u001b[38;5;241m.\u001b[39msummary()\u001b[38;5;241m.\u001b[39mtables[\u001b[38;5;241m1\u001b[39m]\u001b[38;5;241m.\u001b[39mas_html(),header\u001b[38;5;241m=\u001b[39m\u001b[38;5;241m0\u001b[39m,index_col\u001b[38;5;241m=\u001b[39m\u001b[38;5;241m0\u001b[39m)[\u001b[38;5;241m0\u001b[39m]\n\u001b[0;32m---> 29\u001b[0m \u001b[43mresults_animals\u001b[49m[animal] \u001b[38;5;241m=\u001b[39m results\n",
      "\u001b[0;31mNameError\u001b[0m: name 'results_animals' is not defined"
     ]
    }
   ],
   "source": [
    "animal = 'Eliot'\n",
    "dates_to_plot = ['20221020','20221021','20221022']\n",
    "\n",
    "\n",
    "encoding_set = '2Dheadspeed_above_4_andlowmua'\n",
    "classifier_param_name = 'default_decoding_gpu_4armMaze'\n",
    "datafolder = f'/cumulus/shijie/behavior_pilot/Batch1/{animal}'\n",
    "\n",
    "(triggered_positions, triggered_positions_abs,\n",
    " triggered_decodes, triggered_decodes_abs, triggered_decode_t,\n",
    " triggered_trial_info) = find_triggered_animal(animal,dates_to_plot,\n",
    "                                                                   delta_t_minus = 1,delta_t_plus = 1,\n",
    "                                                                   max_flag = 0, segment_only = True, nearby = False,\n",
    "                                                                   multiple_CoM = False, first_CoM = False, last_CoM = False)\n",
    "\n",
    "y, x, predictor_names = form_theta_predictors(triggered_positions, triggered_positions_abs,\n",
    "                          triggered_decodes, triggered_decodes_abs,\n",
    "                          triggered_decode_t, triggered_trial_info)\n",
    "\n",
    "assert x.shape[1] == len(predictor_names)\n",
    "\n",
    "x_ = sm.add_constant(x)\n",
    "results = sm.OLS(y, x_).fit()\n",
    "print(results.summary())\n",
    "df = pd.read_html(results.summary().tables[1].as_html(),header=0,index_col=0)[0]\n",
    "\n",
    "x_animals[animal] = x\n",
    "y_animals[animal] = y\n",
    "results_animals[animal] = results"
   ]
  },
  {
   "cell_type": "code",
   "execution_count": 356,
   "id": "e54e2e3f-4e6a-4d25-87ba-dfdafd7849ad",
   "metadata": {},
   "outputs": [
    {
     "data": {
      "text/plain": [
       "Text(0.5, 1.0, \"Eliot ['20221020', '20221021', '20221022']\")"
      ]
     },
     "execution_count": 356,
     "metadata": {},
     "output_type": "execute_result"
    },
    {
     "data": {
      "image/png": "[encoded data removed]",
      "text/plain": [
       "<Figure size 500x300 with 1 Axes>"
      ]
     },
     "metadata": {},
     "output_type": "display_data"
    }
   ],
   "source": [
    "fig, (ax1) = plt.subplots(1, 1, figsize=(5, 3),sharex=True)\n",
    "\n",
    "ax1.bar(predictor_names,np.array(df.coef)[1:])\n",
    "for pred_ind in range(len(predictor_names)):\n",
    "    \n",
    "    ax1.plot([pred_ind,pred_ind],[df.loc['x'+str(pred_ind+1),'[0.025'],\n",
    "                       df.loc['x'+str(pred_ind+1),'0.975]']],'k')\n",
    "plt.xticks(rotation=45, ha='right');\n",
    "ax1.set_title(animal + ' ' + str(dates_to_plot))"
   ]
  },
  {
   "cell_type": "code",
   "execution_count": 380,
   "id": "8bee3577-b3ea-4351-a0bc-64261155d725",
   "metadata": {
    "scrolled": true
   },
   "outputs": [
    {
     "name": "stderr",
     "output_type": "stream",
     "text": [
      "[22:31:44][WARNING] Spyglass: Deprecation: this class has been moved out of spyglass.common.common_position\n",
      "\tIntervalLinearizedPosition -> spyglass.linearization.v0.main.IntervalLinearizedPosition\n",
      "Please use the new location.\n"
     ]
    },
    {
     "name": "stdout",
     "output_type": "stream",
     "text": [
      "currently investigating:\n",
      "02_Rev2Session1\n",
      "pos 1 valid times\n"
     ]
    },
    {
     "name": "stderr",
     "output_type": "stream",
     "text": [
      "[22:31:45][WARNING] Spyglass: Deprecation: this class has been moved out of spyglass.common.common_position\n",
      "\tIntervalLinearizedPosition -> spyglass.linearization.v0.main.IntervalLinearizedPosition\n",
      "Please use the new location.\n"
     ]
    },
    {
     "name": "stdout",
     "output_type": "stream",
     "text": [
      "currently investigating:\n",
      "04_Rev2Session2\n",
      "pos 3 valid times\n"
     ]
    },
    {
     "name": "stderr",
     "output_type": "stream",
     "text": [
      "[22:31:46][WARNING] Spyglass: Deprecation: this class has been moved out of spyglass.common.common_position\n",
      "\tIntervalLinearizedPosition -> spyglass.linearization.v0.main.IntervalLinearizedPosition\n",
      "Please use the new location.\n"
     ]
    },
    {
     "name": "stdout",
     "output_type": "stream",
     "text": [
      "currently investigating:\n",
      "06_Rev2Session3\n",
      "pos 5 valid times\n"
     ]
    },
    {
     "name": "stderr",
     "output_type": "stream",
     "text": [
      "[22:31:47][WARNING] Spyglass: Deprecation: this class has been moved out of spyglass.common.common_position\n",
      "\tIntervalLinearizedPosition -> spyglass.linearization.v0.main.IntervalLinearizedPosition\n",
      "Please use the new location.\n"
     ]
    },
    {
     "name": "stdout",
     "output_type": "stream",
     "text": [
      "currently investigating:\n",
      "08_Rev2Session4\n",
      "pos 7 valid times\n"
     ]
    },
    {
     "name": "stderr",
     "output_type": "stream",
     "text": [
      "[22:31:47][WARNING] Spyglass: Deprecation: this class has been moved out of spyglass.common.common_position\n",
      "\tIntervalLinearizedPosition -> spyglass.linearization.v0.main.IntervalLinearizedPosition\n",
      "Please use the new location.\n"
     ]
    },
    {
     "name": "stdout",
     "output_type": "stream",
     "text": [
      "currently investigating:\n",
      "02_Rev2Session1\n",
      "pos 1 valid times\n"
     ]
    },
    {
     "name": "stderr",
     "output_type": "stream",
     "text": [
      "[22:31:48][WARNING] Spyglass: Deprecation: this class has been moved out of spyglass.common.common_position\n",
      "\tIntervalLinearizedPosition -> spyglass.linearization.v0.main.IntervalLinearizedPosition\n",
      "Please use the new location.\n"
     ]
    },
    {
     "name": "stdout",
     "output_type": "stream",
     "text": [
      "currently investigating:\n",
      "04_Rev2Session2\n",
      "pos 3 valid times\n"
     ]
    },
    {
     "name": "stderr",
     "output_type": "stream",
     "text": [
      "[22:31:49][WARNING] Spyglass: Deprecation: this class has been moved out of spyglass.common.common_position\n",
      "\tIntervalLinearizedPosition -> spyglass.linearization.v0.main.IntervalLinearizedPosition\n",
      "Please use the new location.\n"
     ]
    },
    {
     "name": "stdout",
     "output_type": "stream",
     "text": [
      "currently investigating:\n",
      "06_Rev2Session3\n",
      "pos 5 valid times\n"
     ]
    },
    {
     "name": "stderr",
     "output_type": "stream",
     "text": [
      "[22:31:49][WARNING] Spyglass: Deprecation: this class has been moved out of spyglass.common.common_position\n",
      "\tIntervalLinearizedPosition -> spyglass.linearization.v0.main.IntervalLinearizedPosition\n",
      "Please use the new location.\n"
     ]
    },
    {
     "name": "stdout",
     "output_type": "stream",
     "text": [
      "currently investigating:\n",
      "08_Rev2Session4\n",
      "pos 7 valid times\n"
     ]
    },
    {
     "name": "stderr",
     "output_type": "stream",
     "text": [
      "[22:31:50][WARNING] Spyglass: Deprecation: this class has been moved out of spyglass.common.common_position\n",
      "\tIntervalLinearizedPosition -> spyglass.linearization.v0.main.IntervalLinearizedPosition\n",
      "Please use the new location.\n"
     ]
    },
    {
     "name": "stdout",
     "output_type": "stream",
     "text": [
      "currently investigating:\n",
      "10_Rev2Session5\n",
      "pos 9 valid times\n"
     ]
    },
    {
     "name": "stderr",
     "output_type": "stream",
     "text": [
      "[22:31:50][WARNING] Spyglass: Deprecation: this class has been moved out of spyglass.common.common_position\n",
      "\tIntervalLinearizedPosition -> spyglass.linearization.v0.main.IntervalLinearizedPosition\n",
      "Please use the new location.\n"
     ]
    },
    {
     "name": "stdout",
     "output_type": "stream",
     "text": [
      "currently investigating:\n",
      "02_Rev2Session1\n",
      "pos 1 valid times\n"
     ]
    },
    {
     "name": "stderr",
     "output_type": "stream",
     "text": [
      "[22:31:51][WARNING] Spyglass: Deprecation: this class has been moved out of spyglass.common.common_position\n",
      "\tIntervalLinearizedPosition -> spyglass.linearization.v0.main.IntervalLinearizedPosition\n",
      "Please use the new location.\n"
     ]
    },
    {
     "name": "stdout",
     "output_type": "stream",
     "text": [
      "currently investigating:\n",
      "04_Rev2Session2\n",
      "pos 3 valid times\n"
     ]
    },
    {
     "name": "stderr",
     "output_type": "stream",
     "text": [
      "[22:31:53][WARNING] Spyglass: Deprecation: this class has been moved out of spyglass.common.common_position\n",
      "\tIntervalLinearizedPosition -> spyglass.linearization.v0.main.IntervalLinearizedPosition\n",
      "Please use the new location.\n"
     ]
    },
    {
     "name": "stdout",
     "output_type": "stream",
     "text": [
      "some missing position data\n",
      "currently investigating:\n",
      "06_Rev2Session3\n",
      "pos 5 valid times\n"
     ]
    },
    {
     "name": "stderr",
     "output_type": "stream",
     "text": [
      "[22:31:53][WARNING] Spyglass: Deprecation: this class has been moved out of spyglass.common.common_position\n",
      "\tIntervalLinearizedPosition -> spyglass.linearization.v0.main.IntervalLinearizedPosition\n",
      "Please use the new location.\n"
     ]
    },
    {
     "name": "stdout",
     "output_type": "stream",
     "text": [
      "currently investigating:\n",
      "08_Rev2Session4\n",
      "pos 7 valid times\n"
     ]
    },
    {
     "name": "stderr",
     "output_type": "stream",
     "text": [
      "[22:31:54][WARNING] Spyglass: Deprecation: this class has been moved out of spyglass.common.common_position\n",
      "\tIntervalLinearizedPosition -> spyglass.linearization.v0.main.IntervalLinearizedPosition\n",
      "Please use the new location.\n"
     ]
    },
    {
     "name": "stdout",
     "output_type": "stream",
     "text": [
      "currently investigating:\n",
      "02_Rev2Session1\n",
      "pos 1 valid times\n"
     ]
    },
    {
     "name": "stderr",
     "output_type": "stream",
     "text": [
      "[22:31:55][WARNING] Spyglass: Deprecation: this class has been moved out of spyglass.common.common_position\n",
      "\tIntervalLinearizedPosition -> spyglass.linearization.v0.main.IntervalLinearizedPosition\n",
      "Please use the new location.\n"
     ]
    },
    {
     "name": "stdout",
     "output_type": "stream",
     "text": [
      "currently investigating:\n",
      "04_Rev2Session2\n",
      "pos 3 valid times\n"
     ]
    },
    {
     "name": "stderr",
     "output_type": "stream",
     "text": [
      "[22:31:57][WARNING] Spyglass: Deprecation: this class has been moved out of spyglass.common.common_position\n",
      "\tIntervalLinearizedPosition -> spyglass.linearization.v0.main.IntervalLinearizedPosition\n",
      "Please use the new location.\n"
     ]
    },
    {
     "name": "stdout",
     "output_type": "stream",
     "text": [
      "currently investigating:\n",
      "06_Rev2Session3\n",
      "pos 5 valid times\n"
     ]
    },
    {
     "name": "stderr",
     "output_type": "stream",
     "text": [
      "[22:31:57][WARNING] Spyglass: Deprecation: this class has been moved out of spyglass.common.common_position\n",
      "\tIntervalLinearizedPosition -> spyglass.linearization.v0.main.IntervalLinearizedPosition\n",
      "Please use the new location.\n"
     ]
    },
    {
     "name": "stdout",
     "output_type": "stream",
     "text": [
      "currently investigating:\n",
      "08_Rev2Session4\n",
      "pos 7 valid times\n"
     ]
    },
    {
     "name": "stderr",
     "output_type": "stream",
     "text": [
      "[22:31:58][WARNING] Spyglass: Deprecation: this class has been moved out of spyglass.common.common_position\n",
      "\tIntervalLinearizedPosition -> spyglass.linearization.v0.main.IntervalLinearizedPosition\n",
      "Please use the new location.\n"
     ]
    },
    {
     "name": "stdout",
     "output_type": "stream",
     "text": [
      "currently investigating:\n",
      "02_Rev2Session1\n",
      "pos 1 valid times\n",
      "some missing position data\n",
      "some missing position data\n"
     ]
    },
    {
     "name": "stderr",
     "output_type": "stream",
     "text": [
      "[22:31:59][WARNING] Spyglass: Deprecation: this class has been moved out of spyglass.common.common_position\n",
      "\tIntervalLinearizedPosition -> spyglass.linearization.v0.main.IntervalLinearizedPosition\n",
      "Please use the new location.\n"
     ]
    },
    {
     "name": "stdout",
     "output_type": "stream",
     "text": [
      "currently investigating:\n",
      "04_Rev2Session2\n",
      "pos 3 valid times\n"
     ]
    },
    {
     "name": "stderr",
     "output_type": "stream",
     "text": [
      "[22:32:01][WARNING] Spyglass: Deprecation: this class has been moved out of spyglass.common.common_position\n",
      "\tIntervalLinearizedPosition -> spyglass.linearization.v0.main.IntervalLinearizedPosition\n",
      "Please use the new location.\n"
     ]
    },
    {
     "name": "stdout",
     "output_type": "stream",
     "text": [
      "currently investigating:\n",
      "06_Rev2Session3\n",
      "pos 5 valid times\n"
     ]
    },
    {
     "name": "stderr",
     "output_type": "stream",
     "text": [
      "[22:32:01][WARNING] Spyglass: Deprecation: this class has been moved out of spyglass.common.common_position\n",
      "\tIntervalLinearizedPosition -> spyglass.linearization.v0.main.IntervalLinearizedPosition\n",
      "Please use the new location.\n",
      "[22:32:01][WARNING] Spyglass: Deprecation: this class has been moved out of spyglass.common.common_position\n",
      "\tIntervalLinearizedPosition -> spyglass.linearization.v0.main.IntervalLinearizedPosition\n",
      "Please use the new location.\n"
     ]
    },
    {
     "name": "stdout",
     "output_type": "stream",
     "text": [
      "currently investigating:\n",
      "08_Rev2Session4\n",
      "pos 7 valid times\n",
      "currently investigating:\n",
      "10_Rev2Session5\n",
      "pos 9 valid times\n"
     ]
    },
    {
     "name": "stderr",
     "output_type": "stream",
     "text": [
      "[22:32:02][WARNING] Spyglass: Deprecation: this class has been moved out of spyglass.common.common_position\n",
      "\tIntervalLinearizedPosition -> spyglass.linearization.v0.main.IntervalLinearizedPosition\n",
      "Please use the new location.\n"
     ]
    },
    {
     "name": "stdout",
     "output_type": "stream",
     "text": [
      "currently investigating:\n",
      "02_Rev2Session1\n",
      "pos 1 valid times\n"
     ]
    },
    {
     "name": "stderr",
     "output_type": "stream",
     "text": [
      "[22:32:03][WARNING] Spyglass: Deprecation: this class has been moved out of spyglass.common.common_position\n",
      "\tIntervalLinearizedPosition -> spyglass.linearization.v0.main.IntervalLinearizedPosition\n",
      "Please use the new location.\n"
     ]
    },
    {
     "name": "stdout",
     "output_type": "stream",
     "text": [
      "currently investigating:\n",
      "04_Rev2Session2\n",
      "pos 3 valid times\n"
     ]
    },
    {
     "name": "stderr",
     "output_type": "stream",
     "text": [
      "[22:32:05][WARNING] Spyglass: Deprecation: this class has been moved out of spyglass.common.common_position\n",
      "\tIntervalLinearizedPosition -> spyglass.linearization.v0.main.IntervalLinearizedPosition\n",
      "Please use the new location.\n"
     ]
    },
    {
     "name": "stdout",
     "output_type": "stream",
     "text": [
      "currently investigating:\n",
      "06_Rev2Session3\n",
      "pos 5 valid times\n"
     ]
    },
    {
     "name": "stderr",
     "output_type": "stream",
     "text": [
      "[22:32:06][WARNING] Spyglass: Deprecation: this class has been moved out of spyglass.common.common_position\n",
      "\tIntervalLinearizedPosition -> spyglass.linearization.v0.main.IntervalLinearizedPosition\n",
      "Please use the new location.\n"
     ]
    },
    {
     "name": "stdout",
     "output_type": "stream",
     "text": [
      "currently investigating:\n",
      "08_Rev2Session4\n",
      "pos 7 valid times\n",
      "                            OLS Regression Results                            \n",
      "==============================================================================\n",
      "Dep. Variable:                      y   R-squared:                       0.107\n",
      "Model:                            OLS   Adj. R-squared:                  0.092\n",
      "Method:                 Least Squares   F-statistic:                     7.021\n",
      "Date:                Thu, 27 Feb 2025   Prob (F-statistic):           6.39e-08\n",
      "Time:                        22:32:08   Log-Likelihood:                -1639.5\n",
      "No. Observations:                 418   AIC:                             3295.\n",
      "Df Residuals:                     410   BIC:                             3327.\n",
      "Df Model:                           7                                         \n",
      "Covariance Type:            nonrobust                                         \n",
      "==============================================================================\n",
      "                 coef    std err          t      P>|t|      [0.025      0.975]\n",
      "------------------------------------------------------------------------------\n",
      "const         22.9050      2.263     10.122      0.000      18.456      27.353\n",
      "x1            15.8671      2.473      6.415      0.000      11.005      20.729\n",
      "x2            -2.1718      0.729     -2.979      0.003      -3.605      -0.738\n",
      "x3             0.0673      0.094      0.718      0.473      -0.117       0.252\n",
      "x4            -0.2049      0.119     -1.720      0.086      -0.439       0.029\n",
      "x5            -0.1375      0.075     -1.827      0.068      -0.286       0.010\n",
      "x6             2.8004      4.869      0.575      0.566      -6.771      12.372\n",
      "x7            -1.1185      5.395     -0.207      0.836     -11.725       9.488\n",
      "x8            -1.2329      3.180     -0.388      0.698      -7.484       5.018\n",
      "==============================================================================\n",
      "Omnibus:                      148.569   Durbin-Watson:                   1.936\n",
      "Prob(Omnibus):                  0.000   Jarque-Bera (JB):              445.097\n",
      "Skew:                           1.681   Prob(JB):                     2.23e-97\n",
      "Kurtosis:                       6.776   Cond. No.                     8.80e+15\n",
      "==============================================================================\n",
      "\n",
      "Notes:\n",
      "[1] Standard Errors assume that the covariance matrix of the errors is correctly specified.\n",
      "[2] The smallest eigenvalue is 3.89e-27. This might indicate that there are\n",
      "strong multicollinearity problems or that the design matrix is singular.\n"
     ]
    },
    {
     "ename": "NameError",
     "evalue": "name 'results_animals' is not defined",
     "output_type": "error",
     "traceback": [
      "\u001b[0;31m---------------------------------------------------------------------------\u001b[0m",
      "\u001b[0;31mNameError\u001b[0m                                 Traceback (most recent call last)",
      "Cell \u001b[0;32mIn[380], line 29\u001b[0m\n\u001b[1;32m     27\u001b[0m x_animals[animal] \u001b[38;5;241m=\u001b[39m x\n\u001b[1;32m     28\u001b[0m y_animals[animal] \u001b[38;5;241m=\u001b[39m y\n\u001b[0;32m---> 29\u001b[0m \u001b[43mresults_animals\u001b[49m[animal] \u001b[38;5;241m=\u001b[39m results\n",
      "\u001b[0;31mNameError\u001b[0m: name 'results_animals' is not defined"
     ]
    }
   ],
   "source": [
    "animal = 'Lewis'\n",
    "dates_to_plot = ['20240106','20240107','20240108','20240109',\n",
    "                 '20240110','20240113']\n",
    "\n",
    "encoding_set = '2Dheadspeed_above_4_andlowmua'\n",
    "classifier_param_name = 'default_decoding_gpu_4armMaze'\n",
    "datafolder = f'/cumulus/shijie/behavior_pilot/Batch1/{animal}'\n",
    "\n",
    "(triggered_positions, triggered_positions_abs,\n",
    " triggered_decodes, triggered_decodes_abs, triggered_decode_t,\n",
    " triggered_trial_info) = find_triggered_animal(animal,dates_to_plot,\n",
    "                                                                   delta_t_minus = 1,delta_t_plus = 1,\n",
    "                                                                   max_flag = 0, segment_only = True, nearby = False,\n",
    "                                                                   multiple_CoM = False, first_CoM = False, last_CoM = False)\n",
    "\n",
    "y, x, predictor_names = form_theta_predictors(triggered_positions, triggered_positions_abs,\n",
    "                          triggered_decodes, triggered_decodes_abs,\n",
    "                          triggered_decode_t, triggered_trial_info)\n",
    "\n",
    "assert x.shape[1] == len(predictor_names)\n",
    "\n",
    "x_ = sm.add_constant(x)\n",
    "results = sm.OLS(y, x_).fit()\n",
    "print(results.summary())\n",
    "df = pd.read_html(results.summary().tables[1].as_html(),header=0,index_col=0)[0]\n",
    "\n",
    "x_animals[animal] = x\n",
    "y_animals[animal] = y\n",
    "results_animals[animal] = results"
   ]
  },
  {
   "cell_type": "code",
   "execution_count": 359,
   "id": "afa49f8b-4eff-4b64-9347-7f35c4a8f55d",
   "metadata": {},
   "outputs": [
    {
     "data": {
      "text/plain": [
       "Text(0.5, 1.0, \"Lewis ['20240106', '20240107', '20240108', '20240109', '20240110', '20240113']\")"
      ]
     },
     "execution_count": 359,
     "metadata": {},
     "output_type": "execute_result"
    },
    {
     "data": {
      "image/png": "[encoded data removed]",
      "text/plain": [
       "<Figure size 500x300 with 1 Axes>"
      ]
     },
     "metadata": {},
     "output_type": "display_data"
    }
   ],
   "source": [
    "fig, (ax1) = plt.subplots(1, 1, figsize=(5, 3),sharex=True)\n",
    "\n",
    "ax1.bar(predictor_names,np.array(df.coef)[1:])\n",
    "for pred_ind in range(len(predictor_names)):\n",
    "    \n",
    "    ax1.plot([pred_ind,pred_ind],[df.loc['x'+str(pred_ind+1),'[0.025'],\n",
    "                       df.loc['x'+str(pred_ind+1),'0.975]']],'k')\n",
    "plt.xticks(rotation=45, ha='right');\n",
    "ax1.set_title(animal + ' ' + str(dates_to_plot))"
   ]
  },
  {
   "cell_type": "markdown",
   "id": "615dd29f-a24b-4d73-93ec-9e5362cbda63",
   "metadata": {},
   "source": [
    "### Control: nearby non-Change-of-mind trials"
   ]
  },
  {
   "cell_type": "code",
   "execution_count": 382,
   "id": "8f6efbff-e24d-4774-958c-cb4b527f98d3",
   "metadata": {
    "scrolled": true
   },
   "outputs": [
    {
     "name": "stderr",
     "output_type": "stream",
     "text": [
      "[22:32:50][WARNING] Spyglass: Deprecation: this class has been moved out of spyglass.common.common_position\n",
      "\tIntervalLinearizedPosition -> spyglass.linearization.v0.main.IntervalLinearizedPosition\n",
      "Please use the new location.\n"
     ]
    },
    {
     "name": "stdout",
     "output_type": "stream",
     "text": [
      "currently investigating:\n",
      "02_Seq2Session1\n",
      "pos 1 valid times\n"
     ]
    },
    {
     "name": "stderr",
     "output_type": "stream",
     "text": [
      "[22:32:50][WARNING] Spyglass: Deprecation: this class has been moved out of spyglass.common.common_position\n",
      "\tIntervalLinearizedPosition -> spyglass.linearization.v0.main.IntervalLinearizedPosition\n",
      "Please use the new location.\n"
     ]
    },
    {
     "name": "stdout",
     "output_type": "stream",
     "text": [
      "currently investigating:\n",
      "04_Seq2Session2\n",
      "pos 3 valid times\n"
     ]
    },
    {
     "name": "stderr",
     "output_type": "stream",
     "text": [
      "[22:32:51][WARNING] Spyglass: Deprecation: this class has been moved out of spyglass.common.common_position\n",
      "\tIntervalLinearizedPosition -> spyglass.linearization.v0.main.IntervalLinearizedPosition\n",
      "Please use the new location.\n"
     ]
    },
    {
     "name": "stdout",
     "output_type": "stream",
     "text": [
      "currently investigating:\n",
      "06_Seq2Session3\n",
      "pos 5 valid times\n"
     ]
    },
    {
     "name": "stderr",
     "output_type": "stream",
     "text": [
      "[22:32:52][WARNING] Spyglass: Deprecation: this class has been moved out of spyglass.common.common_position\n",
      "\tIntervalLinearizedPosition -> spyglass.linearization.v0.main.IntervalLinearizedPosition\n",
      "Please use the new location.\n"
     ]
    },
    {
     "name": "stdout",
     "output_type": "stream",
     "text": [
      "currently investigating:\n",
      "08_Seq2Session4\n",
      "pos 7 valid times\n"
     ]
    },
    {
     "name": "stderr",
     "output_type": "stream",
     "text": [
      "[22:32:52][WARNING] Spyglass: Deprecation: this class has been moved out of spyglass.common.common_position\n",
      "\tIntervalLinearizedPosition -> spyglass.linearization.v0.main.IntervalLinearizedPosition\n",
      "Please use the new location.\n"
     ]
    },
    {
     "name": "stdout",
     "output_type": "stream",
     "text": [
      "currently investigating:\n",
      "10_Seq2Session5\n",
      "pos 9 valid times\n"
     ]
    },
    {
     "name": "stderr",
     "output_type": "stream",
     "text": [
      "[22:32:53][WARNING] Spyglass: Deprecation: this class has been moved out of spyglass.common.common_position\n",
      "\tIntervalLinearizedPosition -> spyglass.linearization.v0.main.IntervalLinearizedPosition\n",
      "Please use the new location.\n"
     ]
    },
    {
     "name": "stdout",
     "output_type": "stream",
     "text": [
      "currently investigating:\n",
      "12_Seq2Session6\n",
      "pos 11 valid times\n"
     ]
    },
    {
     "name": "stderr",
     "output_type": "stream",
     "text": [
      "[22:32:53][WARNING] Spyglass: Deprecation: this class has been moved out of spyglass.common.common_position\n",
      "\tIntervalLinearizedPosition -> spyglass.linearization.v0.main.IntervalLinearizedPosition\n",
      "Please use the new location.\n"
     ]
    },
    {
     "name": "stdout",
     "output_type": "stream",
     "text": [
      "currently investigating:\n",
      "02_Seq2Session1\n",
      "pos 1 valid times\n"
     ]
    },
    {
     "name": "stderr",
     "output_type": "stream",
     "text": [
      "[22:32:54][WARNING] Spyglass: Deprecation: this class has been moved out of spyglass.common.common_position\n",
      "\tIntervalLinearizedPosition -> spyglass.linearization.v0.main.IntervalLinearizedPosition\n",
      "Please use the new location.\n"
     ]
    },
    {
     "name": "stdout",
     "output_type": "stream",
     "text": [
      "currently investigating:\n",
      "04_Seq2Session2\n",
      "pos 3 valid times\n"
     ]
    },
    {
     "name": "stderr",
     "output_type": "stream",
     "text": [
      "[22:32:55][WARNING] Spyglass: Deprecation: this class has been moved out of spyglass.common.common_position\n",
      "\tIntervalLinearizedPosition -> spyglass.linearization.v0.main.IntervalLinearizedPosition\n",
      "Please use the new location.\n"
     ]
    },
    {
     "name": "stdout",
     "output_type": "stream",
     "text": [
      "currently investigating:\n",
      "06_Seq2Session3\n",
      "pos 5 valid times\n"
     ]
    },
    {
     "name": "stderr",
     "output_type": "stream",
     "text": [
      "[22:32:55][WARNING] Spyglass: Deprecation: this class has been moved out of spyglass.common.common_position\n",
      "\tIntervalLinearizedPosition -> spyglass.linearization.v0.main.IntervalLinearizedPosition\n",
      "Please use the new location.\n"
     ]
    },
    {
     "name": "stdout",
     "output_type": "stream",
     "text": [
      "currently investigating:\n",
      "08_Seq2Session4\n",
      "pos 7 valid times\n"
     ]
    },
    {
     "name": "stderr",
     "output_type": "stream",
     "text": [
      "[22:32:56][WARNING] Spyglass: Deprecation: this class has been moved out of spyglass.common.common_position\n",
      "\tIntervalLinearizedPosition -> spyglass.linearization.v0.main.IntervalLinearizedPosition\n",
      "Please use the new location.\n"
     ]
    },
    {
     "name": "stdout",
     "output_type": "stream",
     "text": [
      "currently investigating:\n",
      "02_Seq2Session1\n",
      "pos 1 valid times\n"
     ]
    },
    {
     "name": "stderr",
     "output_type": "stream",
     "text": [
      "[22:32:57][WARNING] Spyglass: Deprecation: this class has been moved out of spyglass.common.common_position\n",
      "\tIntervalLinearizedPosition -> spyglass.linearization.v0.main.IntervalLinearizedPosition\n",
      "Please use the new location.\n"
     ]
    },
    {
     "name": "stdout",
     "output_type": "stream",
     "text": [
      "currently investigating:\n",
      "04_Seq2Session2\n",
      "pos 3 valid times\n"
     ]
    },
    {
     "name": "stderr",
     "output_type": "stream",
     "text": [
      "[22:32:57][WARNING] Spyglass: Deprecation: this class has been moved out of spyglass.common.common_position\n",
      "\tIntervalLinearizedPosition -> spyglass.linearization.v0.main.IntervalLinearizedPosition\n",
      "Please use the new location.\n"
     ]
    },
    {
     "name": "stdout",
     "output_type": "stream",
     "text": [
      "currently investigating:\n",
      "06_Seq2Session3\n",
      "pos 5 valid times\n"
     ]
    },
    {
     "name": "stderr",
     "output_type": "stream",
     "text": [
      "[22:32:58][WARNING] Spyglass: Deprecation: this class has been moved out of spyglass.common.common_position\n",
      "\tIntervalLinearizedPosition -> spyglass.linearization.v0.main.IntervalLinearizedPosition\n",
      "Please use the new location.\n"
     ]
    },
    {
     "name": "stdout",
     "output_type": "stream",
     "text": [
      "currently investigating:\n",
      "08_Seq2Session4\n",
      "pos 7 valid times\n"
     ]
    },
    {
     "name": "stderr",
     "output_type": "stream",
     "text": [
      "[22:32:58][WARNING] Spyglass: Deprecation: this class has been moved out of spyglass.common.common_position\n",
      "\tIntervalLinearizedPosition -> spyglass.linearization.v0.main.IntervalLinearizedPosition\n",
      "Please use the new location.\n"
     ]
    },
    {
     "name": "stdout",
     "output_type": "stream",
     "text": [
      "currently investigating:\n",
      "10_Seq2Session5\n",
      "pos 9 valid times\n",
      "                            OLS Regression Results                            \n",
      "==============================================================================\n",
      "Dep. Variable:                      y   R-squared:                       0.084\n",
      "Model:                            OLS   Adj. R-squared:                  0.036\n",
      "Method:                 Least Squares   F-statistic:                     1.749\n",
      "Date:                Thu, 27 Feb 2025   Prob (F-statistic):              0.116\n",
      "Time:                        22:32:59   Log-Likelihood:                -400.42\n",
      "No. Observations:                 122   AIC:                             814.8\n",
      "Df Residuals:                     115   BIC:                             834.5\n",
      "Df Model:                           6                                         \n",
      "Covariance Type:            nonrobust                                         \n",
      "==============================================================================\n",
      "                 coef    std err          t      P>|t|      [0.025      0.975]\n",
      "------------------------------------------------------------------------------\n",
      "const          9.7648      4.911      1.988      0.049       0.038      19.492\n",
      "x1             2.4320      4.122      0.590      0.556      -5.734      10.598\n",
      "x2          1.556e-12   1.16e-12      1.346      0.181   -7.33e-13    3.85e-12\n",
      "x3          -491.6407    365.206     -1.346      0.181   -1215.043     231.761\n",
      "x4           983.8993    730.406      1.347      0.181    -462.893    2430.692\n",
      "x5           492.2586    365.200      1.348      0.180    -231.132    1215.649\n",
      "x6             0.1757      5.651      0.031      0.975     -11.018      11.369\n",
      "x7            -3.9647      4.637     -0.855      0.394     -13.150       5.220\n",
      "x8             5.2244      3.248      1.608      0.111      -1.210      11.659\n",
      "==============================================================================\n",
      "Omnibus:                      111.601   Durbin-Watson:                   1.880\n",
      "Prob(Omnibus):                  0.000   Jarque-Bera (JB):             1725.778\n",
      "Skew:                           2.998   Prob(JB):                         0.00\n",
      "Kurtosis:                      20.423   Cond. No.                     1.79e+19\n",
      "==============================================================================\n",
      "\n",
      "Notes:\n",
      "[1] Standard Errors assume that the covariance matrix of the errors is correctly specified.\n",
      "[2] The smallest eigenvalue is 1.26e-34. This might indicate that there are\n",
      "strong multicollinearity problems or that the design matrix is singular.\n"
     ]
    },
    {
     "ename": "NameError",
     "evalue": "name 'results_animals_control' is not defined",
     "output_type": "error",
     "traceback": [
      "\u001b[0;31m---------------------------------------------------------------------------\u001b[0m",
      "\u001b[0;31mNameError\u001b[0m                                 Traceback (most recent call last)",
      "Cell \u001b[0;32mIn[382], line 27\u001b[0m\n\u001b[1;32m     25\u001b[0m x_animals_control[animal] \u001b[38;5;241m=\u001b[39m x_control\n\u001b[1;32m     26\u001b[0m y_animals_control[animal] \u001b[38;5;241m=\u001b[39m y_control\n\u001b[0;32m---> 27\u001b[0m \u001b[43mresults_animals_control\u001b[49m[animal] \u001b[38;5;241m=\u001b[39m results\n",
      "\u001b[0;31mNameError\u001b[0m: name 'results_animals_control' is not defined"
     ]
    }
   ],
   "source": [
    "animal = 'Eliot'\n",
    "dates_to_plot = ['20221020','20221021','20221022']\n",
    "\n",
    "encoding_set = '2Dheadspeed_above_4_andlowmua'\n",
    "classifier_param_name = 'default_decoding_gpu_4armMaze'\n",
    "datafolder = f'/cumulus/shijie/behavior_pilot/Batch1/{animal}'\n",
    "\n",
    "(triggered_positions, triggered_positions_abs,\n",
    " triggered_decodes, triggered_decodes_abs, triggered_decode_t,\n",
    " triggered_trial_info) = find_triggered_animal(animal,dates_to_plot,\n",
    "                                                                   delta_t_minus = 1,delta_t_plus = 1,\n",
    "                                                                   max_flag = 0, segment_only = True, nearby = True,\n",
    "                                                                   multiple_CoM = False, first_CoM = False, last_CoM = False)\n",
    "y_control, x_control, predictor_names = form_theta_predictors(triggered_positions, triggered_positions_abs,\n",
    "                          triggered_decodes, triggered_decodes_abs,\n",
    "                          triggered_decode_t, triggered_trial_info,nearby = True)\n",
    "\n",
    "assert x.shape[1] == len(predictor_names)\n",
    "\n",
    "x_ = sm.add_constant(x_control)\n",
    "results = sm.OLS(y_control, x_).fit()\n",
    "print(results.summary())\n",
    "df = pd.read_html(results.summary().tables[1].as_html(),header=0,index_col=0)[0]\n",
    "\n",
    "x_animals_control[animal] = x_control\n",
    "y_animals_control[animal] = y_control\n",
    "results_animals_control[animal] = results"
   ]
  },
  {
   "cell_type": "code",
   "execution_count": 371,
   "id": "4bed049c-7df2-4db6-8536-2d165f366707",
   "metadata": {},
   "outputs": [
    {
     "data": {
      "text/plain": [
       "Text(0.5, 1.0, \"Eliot ['20221020', '20221021', '20221022'] nearby trials\")"
      ]
     },
     "execution_count": 371,
     "metadata": {},
     "output_type": "execute_result"
    },
    {
     "data": {
      "image/png": "[encoded data removed]",
      "text/plain": [
       "<Figure size 500x300 with 1 Axes>"
      ]
     },
     "metadata": {},
     "output_type": "display_data"
    }
   ],
   "source": [
    "fig, (ax1) = plt.subplots(1, 1, figsize=(5, 3),sharex=True)\n",
    "\n",
    "ax1.bar(predictor_names,np.array(df.coef)[1:])\n",
    "for pred_ind in range(len(predictor_names)):\n",
    "\n",
    "    interval = np.array([df.loc['x'+str(pred_ind+1),'[0.025'],\n",
    "                df.loc['x'+str(pred_ind+1),'0.975]']])\n",
    "    \n",
    "    ax1.plot([pred_ind,pred_ind],interval,'k')\n",
    "plt.xticks(rotation=45, ha='right');\n",
    "ax1.set_title(animal + ' ' + str(dates_to_plot) + ' nearby trials')"
   ]
  },
  {
   "cell_type": "code",
   "execution_count": null,
   "id": "cd2fe53a-927a-41e9-99a8-c37d3d4cf800",
   "metadata": {
    "scrolled": true
   },
   "outputs": [],
   "source": [
    "animal = 'Lewis'\n",
    "dates_to_plot = ['20240106','20240107','20240108','20240109',\n",
    "                 '20240110']\n",
    "\n",
    "encoding_set = '2Dheadspeed_above_4'\n",
    "classifier_param_name = 'default_decoding_gpu_4armMaze'\n",
    "datafolder = f'/cumulus/shijie/behavior_pilot/Batch1/{animal}'\n",
    "\n",
    "(triggered_positions, triggered_positions_abs,\n",
    " triggered_decodes, triggered_decodes_abs, triggered_decode_t,\n",
    " triggered_trial_info) = find_triggered_animal(animal,dates_to_plot,\n",
    "                                                                   delta_t_minus = 1,delta_t_plus = 1,\n",
    "                                                                   max_flag = 0, segment_only = True, nearby = True,\n",
    "                                                                   multiple_CoM = False, first_CoM = False, last_CoM = False)\n",
    "y_control, x_control, predictor_names = form_theta_predictors(triggered_positions, triggered_positions_abs,\n",
    "                          triggered_decodes, triggered_decodes_abs,\n",
    "                          triggered_decode_t, triggered_trial_info,nearby = True)\n",
    "\n",
    "assert x.shape[1] == len(predictor_names)\n",
    "\n",
    "x_ = sm.add_constant(x_control)\n",
    "results = sm.OLS(y_control, x_).fit()\n",
    "print(results.summary())\n",
    "df = pd.read_html(results.summary().tables[1].as_html(),header=0,index_col=0)[0]\n",
    "\n",
    "x_animals_control[animal] = x_control\n",
    "y_animals_control[animal] = y_control\n",
    "results_animals_control[animal] = results"
   ]
  },
  {
   "cell_type": "code",
   "execution_count": 376,
   "id": "9d1ed9d4-98a2-44a0-a24c-eee84fa9ca26",
   "metadata": {},
   "outputs": [
    {
     "data": {
      "text/plain": [
       "Text(0.5, 1.0, \"Lewis ['20240106', '20240107', '20240108', '20240109', '20240110'] nearby trials\")"
      ]
     },
     "execution_count": 376,
     "metadata": {},
     "output_type": "execute_result"
    },
    {
     "data": {
      "image/png": "[encoded data removed]",
      "text/plain": [
       "<Figure size 500x300 with 1 Axes>"
      ]
     },
     "metadata": {},
     "output_type": "display_data"
    }
   ],
   "source": [
    "fig, (ax1) = plt.subplots(1, 1, figsize=(5, 3),sharex=True)\n",
    "\n",
    "ax1.bar(predictor_names,np.array(df.coef)[1:])\n",
    "for pred_ind in range(len(predictor_names)):\n",
    "\n",
    "    interval = np.array([df.loc['x'+str(pred_ind+1),'[0.025'],\n",
    "                df.loc['x'+str(pred_ind+1),'0.975]']])\n",
    "    \n",
    "    ax1.plot([pred_ind,pred_ind],interval,'k')\n",
    "plt.xticks(rotation=45, ha='right');\n",
    "ax1.set_title(animal + ' ' + str(dates_to_plot) + ' nearby trials')"
   ]
  },
  {
   "cell_type": "markdown",
   "id": "4a839525-aa46-488d-a650-680fd973439a",
   "metadata": {},
   "source": [
    "### merge control and noncontrol"
   ]
  },
  {
   "cell_type": "code",
   "execution_count": null,
   "id": "5780bf2a-d7d9-43ae-a718-a50a5d3ee8c8",
   "metadata": {},
   "outputs": [],
   "source": [
    "x_animals_control[animal] = x_control\n",
    "y_animals_control[animal] = y_control\n",
    "results_animals_control[animal] = results"
   ]
  },
  {
   "cell_type": "code",
   "execution_count": 303,
   "id": "78d0bb6c-9954-46e0-bfcb-7d833d6d89a9",
   "metadata": {},
   "outputs": [],
   "source": [
    "animal = \"Eliot\"\n",
    "\n",
    "x = x_animals[animal]\n",
    "x_control = x_animals_control[animal]\n",
    "y = y_animals[animal]\n",
    "y_control = y_animals_control[animal]\n",
    "\n",
    "condition = np.zeros((x.shape[0],1)) + 1\n",
    "x_condition = np.hstack((x,condition)) # ,condition * x[:,0].reshape((-1,1))))\n",
    "\n",
    "condition = np.zeros((x_control.shape[0],1)) - 1\n",
    "x_condition_control = np.hstack((x_control, condition)) #, condition * x_control[:,0].reshape((-1,1))))\n",
    "X = np.vstack((x_condition, x_condition_control))\n",
    "X_ = sm.add_constant(X)\n",
    "Y = np.vstack((y, y_control))"
   ]
  },
  {
   "cell_type": "code",
   "execution_count": 318,
   "id": "8b7792b9-9015-4b90-8da0-fc6032900a0a",
   "metadata": {},
   "outputs": [],
   "source": [
    "results = sm.OLS(Y, X_[:,[0,1,-1]]).fit()"
   ]
  },
  {
   "cell_type": "code",
   "execution_count": 319,
   "id": "f06f9764-5742-496d-bcb7-ddc1b7480ad8",
   "metadata": {},
   "outputs": [
    {
     "name": "stdout",
     "output_type": "stream",
     "text": [
      "                            OLS Regression Results                            \n",
      "==============================================================================\n",
      "Dep. Variable:                      y   R-squared:                       0.043\n",
      "Model:                            OLS   Adj. R-squared:                  0.036\n",
      "Method:                 Least Squares   F-statistic:                     6.214\n",
      "Date:                Thu, 27 Feb 2025   Prob (F-statistic):            0.00229\n",
      "Time:                        21:48:11   Log-Likelihood:                -1035.5\n",
      "No. Observations:                 278   AIC:                             2077.\n",
      "Df Residuals:                     275   BIC:                             2088.\n",
      "Df Model:                           2                                         \n",
      "Covariance Type:            nonrobust                                         \n",
      "==============================================================================\n",
      "                 coef    std err          t      P>|t|      [0.025      0.975]\n",
      "------------------------------------------------------------------------------\n",
      "const         11.4840      2.396      4.792      0.000       6.766      16.202\n",
      "x1            16.3618      4.815      3.398      0.001       6.882      25.842\n",
      "x2             3.9560      1.466      2.699      0.007       1.070       6.842\n",
      "==============================================================================\n",
      "Omnibus:                      162.282   Durbin-Watson:                   1.536\n",
      "Prob(Omnibus):                  0.000   Jarque-Bera (JB):             1003.256\n",
      "Skew:                           2.400   Prob(JB):                    1.40e-218\n",
      "Kurtosis:                      10.974   Cond. No.                         10.1\n",
      "==============================================================================\n",
      "\n",
      "Notes:\n",
      "[1] Standard Errors assume that the covariance matrix of the errors is correctly specified.\n"
     ]
    }
   ],
   "source": [
    "print(results.summary())"
   ]
  },
  {
   "cell_type": "code",
   "execution_count": null,
   "id": "bbf2ff23-98e3-4dbc-80b0-b5c8e541f6b0",
   "metadata": {},
   "outputs": [],
   "source": []
  }
 ],
 "metadata": {
  "kernelspec": {
   "display_name": "Python 3 (ipykernel)",
   "language": "python",
   "name": "python3"
  },
  "language_info": {
   "codemirror_mode": {
    "name": "ipython",
    "version": 3
   },
   "file_extension": ".py",
   "mimetype": "text/x-python",
   "name": "python",
   "nbconvert_exporter": "python",
   "pygments_lexer": "ipython3",
   "version": "3.10.17"
  }
 },
 "nbformat": 4,
 "nbformat_minor": 5
}
