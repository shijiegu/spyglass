{
 "cells": [
  {
   "cell_type": "markdown",
   "id": "5c2d0976-b5aa-4b18-a3cc-f0b4e2e21f5e",
   "metadata": {},
   "source": [
    "## 5d. Test the hypothesis that theta sequences extending towards the end decreases the possibility the animal will do the transition again soon.\n"
   ]
  },
  {
   "cell_type": "code",
   "execution_count": 230,
   "id": "a13280af-985d-429f-b199-bfdae466d2a1",
   "metadata": {},
   "outputs": [],
   "source": [
    "%reload_ext autoreload\n",
    "%autoreload 2"
   ]
  },
  {
   "cell_type": "code",
   "execution_count": 223,
   "id": "665f406b-b57a-4b19-960e-887af5870e3f",
   "metadata": {},
   "outputs": [],
   "source": [
    "import spyglass as nd\n",
    "import pandas as pd\n",
    "import numpy as np\n",
    "import xarray as xr\n",
    "from scipy import stats\n",
    "from scipy import linalg\n",
    "import os\n",
    "import pickle\n",
    "import matplotlib.pyplot as plt\n",
    "from ripple_detection.core import segment_boolean_series\n",
    "\n",
    "from spyglass.common import (Session, IntervalList,LabMember, LabTeam, Raw, Session, Nwbfile,\n",
    "                            Electrode,LFPBand,interval_list_intersect)\n",
    "from spyglass.common import TaskEpoch\n",
    "from spyglass.spikesorting.v0 import (SortGroup, \n",
    "                                    SpikeSortingRecording,SpikeSortingRecordingSelection)\n",
    "from spyglass.utils.nwb_helper_fn import get_nwb_copy_filename\n",
    "from spyglass.common.common_position import IntervalPositionInfo, RawPosition, IntervalLinearizedPosition, TrackGraph"
   ]
  },
  {
   "cell_type": "code",
   "execution_count": 224,
   "id": "cd242c8e-aaa3-4a2b-a3f0-1beef267cac9",
   "metadata": {},
   "outputs": [],
   "source": [
    "from spyglass.shijiegu.pairwiseDecode import merge_overlapping_ranges,removeEmptyDecode\n",
    "from spyglass.shijiegu.ripple_add_replay import remove_adjacent\n",
    "from spyglass.shijiegu.pairwiseDecode import replay_transitions,categorized_replay_transitions,behavior_transitions,behavior_transitions_count,findXCorrAllDays\n",
    "from spyglass.shijiegu.decodeHelpers import runSessionNames"
   ]
  },
  {
   "cell_type": "code",
   "execution_count": 225,
   "id": "1f0f9d80-e3c8-488c-afde-0e868fb7ede3",
   "metadata": {},
   "outputs": [],
   "source": [
    "from spyglass.shijiegu.Analysis_SGU import TrialChoice,EpochPos,MUA,get_linearization_map,TrialChoiceChangeOfMind\n",
    "from spyglass.shijiegu.decodeHelpers import runSessionNames\n",
    "from spyglass.shijiegu.ripple_add_replay import plot_decode_spiking\n",
    "from spyglass.shijiegu.changeOfMind import (find_turnaround_time, findProportion,\n",
    "            find_trials, load_epoch_data_wrapper, find_direction, find_trials_animal,\n",
    "            find_statescrripts)\n",
    "from spyglass.shijiegu.changeOfMind_triggered import (find_triggered_animal,find_triggered_transition_animal,\n",
    "    find_triggered_log_session, find_triggered_log_animal,fitLM,labels,seq1,seq2,rev1,rev2,rev3)"
   ]
  },
  {
   "cell_type": "code",
   "execution_count": 226,
   "id": "87cdcb52-0f9a-47ae-9728-5f214b0c006c",
   "metadata": {},
   "outputs": [],
   "source": [
    "import statsmodels.api as sm\n",
    "from spyglass.shijiegu.changeOfMind_triggered import (find_triggered_animal,\n",
    "    plot_physical_vs_mental_position, parse_to_transitions, \n",
    "    find_large_position_minus_decode_trials, normalize_to_1, matrix_correlation,\n",
    "    find_behavior_sum, find_transitions_sum, find_transitions, correlate_transition_deltabehavior,trials_date_session_to_dict\n",
    ")\n",
    "from spyglass.shijiegu.pairwiseDecode import behavior_transitions_count"
   ]
  },
  {
   "cell_type": "code",
   "execution_count": 425,
   "id": "a3c3e3e5-ea88-48c4-b730-557b25bacd83",
   "metadata": {
    "scrolled": true
   },
   "outputs": [],
   "source": [
    "animal = 'eliot'\n",
    "dates_to_plot = ['20221018','20221019','20221020','20221021','20221022','20221023','20221024','20221025','20221026']\n",
    "\n",
    "encoding_set = '2Dheadspeed_above_4_andlowmua'\n",
    "classifier_param_name = 'default_decoding_gpu_4armMaze'\n",
    "datafolder = f'/cumulus/shijie/behavior_pilot/Batch1/{animal}'"
   ]
  },
  {
   "cell_type": "code",
   "execution_count": 472,
   "id": "3a41555e-6ae0-489d-a5b2-012d16941ffc",
   "metadata": {},
   "outputs": [],
   "source": [
    "animal = 'lewis'\n",
    "\n",
    "dates_to_plot = ['20240105','20240106','20240107','20240108','20240109',\n",
    "                 '20240110']#'20240114']#'20240115','20240116','20240117','20240118','20240119','20240120']\n",
    "\n",
    "#dates_to_plot = ['20240115','20240116','20240117','20240118','20240119','20240120']"
   ]
  },
  {
   "cell_type": "code",
   "execution_count": 456,
   "id": "a688dba1-1a9a-4bda-bde5-48b2966a879f",
   "metadata": {},
   "outputs": [],
   "source": [
    "animal = 'lewis'\n",
    "dates_to_plot = ['20240115','20240116','20240117','20240118','20240119','20240120']"
   ]
  },
  {
   "cell_type": "code",
   "execution_count": 489,
   "id": "22aed42e-39b5-42b0-ae0f-f795153a7428",
   "metadata": {
    "scrolled": true
   },
   "outputs": [
    {
     "name": "stderr",
     "output_type": "stream",
     "text": [
      "[11:49:21][WARNING] Spyglass: Deprecation: this class has been moved out of spyglass.common.common_position\n",
      "\tIntervalLinearizedPosition -> spyglass.linearization.v0.main.IntervalLinearizedPosition\n",
      "Please use the new location.\n"
     ]
    },
    {
     "name": "stdout",
     "output_type": "stream",
     "text": [
      "currently investigating:\n",
      "02_Rev2Session1\n",
      "pos 1 valid times\n",
      "\n",
      " turnaround_times 1 [[1704480077.9866586], [1704480410.9305322], [1704480438.7225218], [1704480548.30448], [1704480699.020423], [1704480769.3003962], [1704480949.240328], [1704481043.5962923, 1704481045.5162916], [1704481138.1982565, 1704481142.322255], [1704481412.1721525, 1704481413.924152], [1704481446.2081397], [1704481545.218102, 1704481547.6661012, 1704481549.0541005], [1704481570.1540926, 1704481573.2140915], [1704481679.368051, 1704481685.046049, 1704481691.3660467], [1704481736.5840294], [1704482025.24792, 1704482026.8799193], [1704482239.7578387], [1704482412.3897731, 1704482415.369772, 1704482419.2877705], [1704482507.891737, 1704482509.7697363], [1704482585.7997074]]\n",
      "\n",
      " turnaround_times 2 [[1704480077.9866586], [1704480410.9305322], [1704480438.7225218], [1704480548.30448], [1704480699.020423], [1704480769.3003962], [1704480949.240328], [1704481043.5962923, 1704481045.5162916], [1704481138.1982565, 1704481142.322255], [1704481412.1721525, 1704481413.924152], [1704481446.2081397], [1704481545.218102, 1704481547.6661012, 1704481549.0541005], [1704481570.1540926, 1704481573.2140915], [1704481679.368051, 1704481685.046049, 1704481691.3660467], [1704481736.5840294], [1704482025.24792, 1704482026.8799193], [1704482239.7578387], [1704482412.3897731, 1704482415.369772, 1704482419.2877705], [1704482507.891737, 1704482509.7697363], [1704482585.7997074]]\n",
      "some missing position data\n"
     ]
    },
    {
     "name": "stderr",
     "output_type": "stream",
     "text": [
      "[11:49:23][WARNING] Spyglass: Deprecation: this class has been moved out of spyglass.common.common_position\n",
      "\tIntervalLinearizedPosition -> spyglass.linearization.v0.main.IntervalLinearizedPosition\n",
      "Please use the new location.\n"
     ]
    },
    {
     "name": "stdout",
     "output_type": "stream",
     "text": [
      "currently investigating:\n",
      "04_Rev2Session2\n",
      "pos 3 valid times\n",
      "\n",
      " turnaround_times 1 [[1704485149.818118], [1704485177.5301104], [1704485230.6240952], [1704485250.9100895], [1704485336.8200653], [1704485408.8920448], [1704485481.4980245], [1704485545.4100063], [1704485644.5819783], [1704485735.3879526, 1704485738.6539516], [1704485871.455914], [1704485980.0578833], [1704486049.6418636, 1704486052.009863], [1704486364.4637747], [1704486628.9276998], [1704486866.8196325], [1704486897.265624], [1704487004.9255936, 1704487007.129593, 1704487007.7835927, 1704487008.3155925, 1704487011.8655915]]\n",
      "\n",
      " turnaround_times 2 [[1704485149.818118], [1704485177.5301104], [1704485230.6240952], [1704485250.9100895], [1704485336.8200653], [1704485408.8920448], [1704485481.4980245], [1704485545.4100063], [1704485644.5819783], [1704485735.3879526, 1704485738.6539516], [1704485871.455914], [1704485980.0578833], [1704486049.6418636, 1704486052.009863], [1704486364.4637747], [1704486628.9276998], [1704486866.8196325], [1704486897.265624], [1704487004.9255936, 1704487007.129593, 1704487007.7835927, 1704487008.3155925, 1704487011.8655915]]\n"
     ]
    },
    {
     "name": "stderr",
     "output_type": "stream",
     "text": [
      "[11:49:24][WARNING] Spyglass: Deprecation: this class has been moved out of spyglass.common.common_position\n",
      "\tIntervalLinearizedPosition -> spyglass.linearization.v0.main.IntervalLinearizedPosition\n",
      "Please use the new location.\n"
     ]
    },
    {
     "name": "stdout",
     "output_type": "stream",
     "text": [
      "currently investigating:\n",
      "06_Rev2Session3\n",
      "pos 5 valid times\n",
      "\n",
      " turnaround_times 1 [[1704489117.6313365], [1704489164.5673256], [1704489231.29531], [1704489304.551293], [1704489336.0992854, 1704489339.2412846], [1704489367.767278], [1704489457.7992568], [1704489486.0812502], [1704489549.3832355], [1704489597.7852242], [1704489649.659212, 1704489655.9832106], [1704489723.4471948], [1704489773.9311829], [1704489858.6631632, 1704489859.3091629, 1704489860.6971626, 1704489862.7791622, 1704489865.0631616], [1704489895.7951543], [1704489925.0551476, 1704489925.7931473, 1704489926.6471472], [1704490090.5511088], [1704490206.9030817], [1704490257.2670698, 1704490258.0010695], [1704490365.0910447], [1704490392.0670383, 1704490393.703038], [1704490573.8849957, 1704490577.1929948], [1704490926.7069132, 1704490928.5829127]]\n",
      "\n",
      " turnaround_times 2 [[1704489117.6313365], [1704489164.5673256], [1704489231.29531], [1704489304.551293], [1704489336.0992854, 1704489339.2412846], [1704489367.767278], [1704489457.7992568], [1704489486.0812502], [1704489549.3832355], [1704489597.7852242], [1704489649.659212, 1704489655.9832106], [1704489723.4471948], [1704489773.9311829], [1704489858.6631632, 1704489859.3091629, 1704489860.6971626, 1704489862.7791622, 1704489865.0631616], [1704489895.7951543], [1704489925.0551476, 1704489925.7931473, 1704489926.6471472], [1704490090.5511088], [1704490206.9030817], [1704490257.2670698, 1704490258.0010695], [1704490365.0910447], [1704490392.0670383, 1704490393.703038], [1704490573.8849957, 1704490577.1929948], [1704490926.7069132, 1704490928.5829127]]\n"
     ]
    },
    {
     "name": "stderr",
     "output_type": "stream",
     "text": [
      "[11:49:26][WARNING] Spyglass: Deprecation: this class has been moved out of spyglass.common.common_position\n",
      "\tIntervalLinearizedPosition -> spyglass.linearization.v0.main.IntervalLinearizedPosition\n",
      "Please use the new location.\n"
     ]
    },
    {
     "name": "stdout",
     "output_type": "stream",
     "text": [
      "currently investigating:\n",
      "08_Rev2Session4\n",
      "pos 7 valid times\n",
      "\n",
      " turnaround_times 1 [[1704493913.1118639], [1704493937.1098576, 1704493957.1898522, 1704493941.8438563, 1704493945.0678554], [1704494061.989824, 1704494071.0118217, 1704494066.6478229, 1704494091.2978163], [1704494145.7818017], [1704494289.8057632], [1704494675.8476598]]\n",
      "\n",
      " turnaround_times 2 [[1704493913.1118639], [1704493937.1098576, 1704493957.1898522, 1704493941.8438563, 1704493945.0678554], [1704494061.989824, 1704494071.0118217, 1704494066.6478229, 1704494091.2978163], [1704494145.7818017], [1704494289.8057632], [1704494675.8476598]]\n"
     ]
    },
    {
     "name": "stderr",
     "output_type": "stream",
     "text": [
      "[11:49:27][WARNING] Spyglass: Deprecation: this class has been moved out of spyglass.common.common_position\n",
      "\tIntervalLinearizedPosition -> spyglass.linearization.v0.main.IntervalLinearizedPosition\n",
      "Please use the new location.\n",
      "[11:49:27][WARNING] Spyglass: Deprecation: this class has been moved out of spyglass.common.common_position\n",
      "\tIntervalLinearizedPosition -> spyglass.linearization.v0.main.IntervalLinearizedPosition\n",
      "Please use the new location.\n"
     ]
    },
    {
     "name": "stdout",
     "output_type": "stream",
     "text": [
      "currently investigating:\n",
      "10_Rev2Session5\n",
      "pos 9 valid times\n",
      "\n",
      " turnaround_times 1 [[1704497005.5527592]]\n",
      "\n",
      " turnaround_times 2 [[1704497005.5527592]]\n",
      "currently investigating:\n",
      "02_Rev2Session1\n",
      "pos 1 valid times\n",
      "\n",
      " turnaround_times 1 [[1704480077.9866586], [1704480410.9305322], [1704480438.7225218], [1704480548.30448], [1704480699.020423], [1704480769.3003962], [1704480949.240328], [1704481043.5962923, 1704481045.5162916], [1704481138.1982565, 1704481142.322255], [1704481412.1721525, 1704481413.924152], [1704481446.2081397], [1704481545.218102, 1704481547.6661012, 1704481549.0541005], [1704481570.1540926, 1704481573.2140915], [1704481679.368051, 1704481685.046049, 1704481691.3660467], [1704481736.5840294], [1704482025.24792, 1704482026.8799193], [1704482239.7578387], [1704482412.3897731, 1704482415.369772, 1704482419.2877705], [1704482507.891737, 1704482509.7697363], [1704482585.7997074]]\n",
      "\n",
      " turnaround_times 2 [[1704480077.9866586], [1704480410.9305322], [1704480438.7225218], [1704480548.30448], [1704480699.020423], [1704480769.3003962], [1704480949.240328], [1704481043.5962923, 1704481045.5162916], [1704481138.1982565, 1704481142.322255], [1704481412.1721525, 1704481413.924152], [1704481446.2081397], [1704481545.218102, 1704481547.6661012, 1704481549.0541005], [1704481570.1540926, 1704481573.2140915], [1704481679.368051, 1704481685.046049, 1704481691.3660467], [1704481736.5840294], [1704482025.24792, 1704482026.8799193], [1704482239.7578387], [1704482412.3897731, 1704482415.369772, 1704482419.2877705], [1704482507.891737, 1704482509.7697363], [1704482585.7997074]]\n"
     ]
    },
    {
     "name": "stderr",
     "output_type": "stream",
     "text": [
      "[11:49:28][WARNING] Spyglass: Deprecation: this class has been moved out of spyglass.common.common_position\n",
      "\tIntervalLinearizedPosition -> spyglass.linearization.v0.main.IntervalLinearizedPosition\n",
      "Please use the new location.\n"
     ]
    },
    {
     "name": "stdout",
     "output_type": "stream",
     "text": [
      "currently investigating:\n",
      "04_Rev2Session2\n",
      "pos 3 valid times\n",
      "\n",
      " turnaround_times 1 [[1704485149.818118], [1704485177.5301104], [1704485230.6240952], [1704485250.9100895], [1704485336.8200653], [1704485408.8920448], [1704485481.4980245], [1704485545.4100063], [1704485644.5819783], [1704485735.3879526, 1704485738.6539516], [1704485871.455914], [1704485980.0578833], [1704486049.6418636, 1704486052.009863], [1704486364.4637747], [1704486628.9276998], [1704486866.8196325], [1704486897.265624], [1704487004.9255936, 1704487007.129593, 1704487007.7835927, 1704487008.3155925, 1704487011.8655915]]\n",
      "\n",
      " turnaround_times 2 [[1704485149.818118], [1704485177.5301104], [1704485230.6240952], [1704485250.9100895], [1704485336.8200653], [1704485408.8920448], [1704485481.4980245], [1704485545.4100063], [1704485644.5819783], [1704485735.3879526, 1704485738.6539516], [1704485871.455914], [1704485980.0578833], [1704486049.6418636, 1704486052.009863], [1704486364.4637747], [1704486628.9276998], [1704486866.8196325], [1704486897.265624], [1704487004.9255936, 1704487007.129593, 1704487007.7835927, 1704487008.3155925, 1704487011.8655915]]\n"
     ]
    },
    {
     "name": "stderr",
     "output_type": "stream",
     "text": [
      "[11:49:30][WARNING] Spyglass: Deprecation: this class has been moved out of spyglass.common.common_position\n",
      "\tIntervalLinearizedPosition -> spyglass.linearization.v0.main.IntervalLinearizedPosition\n",
      "Please use the new location.\n"
     ]
    },
    {
     "name": "stdout",
     "output_type": "stream",
     "text": [
      "currently investigating:\n",
      "06_Rev2Session3\n",
      "pos 5 valid times\n",
      "\n",
      " turnaround_times 1 [[1704489117.6313365], [1704489164.5673256], [1704489231.29531], [1704489304.551293], [1704489336.0992854, 1704489339.2412846], [1704489367.767278], [1704489457.7992568], [1704489486.0812502], [1704489549.3832355], [1704489597.7852242], [1704489649.659212, 1704489655.9832106], [1704489723.4471948], [1704489773.9311829], [1704489858.6631632, 1704489859.3091629, 1704489860.6971626, 1704489862.7791622, 1704489865.0631616], [1704489895.7951543], [1704489925.0551476, 1704489925.7931473, 1704489926.6471472], [1704490090.5511088], [1704490206.9030817], [1704490257.2670698, 1704490258.0010695], [1704490365.0910447], [1704490392.0670383, 1704490393.703038], [1704490573.8849957, 1704490577.1929948], [1704490926.7069132, 1704490928.5829127]]\n",
      "\n",
      " turnaround_times 2 [[1704489117.6313365], [1704489164.5673256], [1704489231.29531], [1704489304.551293], [1704489336.0992854, 1704489339.2412846], [1704489367.767278], [1704489457.7992568], [1704489486.0812502], [1704489549.3832355], [1704489597.7852242], [1704489649.659212, 1704489655.9832106], [1704489723.4471948], [1704489773.9311829], [1704489858.6631632, 1704489859.3091629, 1704489860.6971626, 1704489862.7791622, 1704489865.0631616], [1704489895.7951543], [1704489925.0551476, 1704489925.7931473, 1704489926.6471472], [1704490090.5511088], [1704490206.9030817], [1704490257.2670698, 1704490258.0010695], [1704490365.0910447], [1704490392.0670383, 1704490393.703038], [1704490573.8849957, 1704490577.1929948], [1704490926.7069132, 1704490928.5829127]]\n"
     ]
    },
    {
     "name": "stderr",
     "output_type": "stream",
     "text": [
      "[11:49:32][WARNING] Spyglass: Deprecation: this class has been moved out of spyglass.common.common_position\n",
      "\tIntervalLinearizedPosition -> spyglass.linearization.v0.main.IntervalLinearizedPosition\n",
      "Please use the new location.\n"
     ]
    },
    {
     "name": "stdout",
     "output_type": "stream",
     "text": [
      "currently investigating:\n",
      "08_Rev2Session4\n",
      "pos 7 valid times\n",
      "\n",
      " turnaround_times 1 [[1704493913.1118639], [1704493937.1098576, 1704493957.1898522, 1704493941.8438563, 1704493945.0678554], [1704494061.989824, 1704494071.0118217, 1704494066.6478229, 1704494091.2978163], [1704494145.7818017], [1704494289.8057632], [1704494675.8476598]]\n",
      "\n",
      " turnaround_times 2 [[1704493913.1118639], [1704493937.1098576, 1704493957.1898522, 1704493941.8438563, 1704493945.0678554], [1704494061.989824, 1704494071.0118217, 1704494066.6478229, 1704494091.2978163], [1704494145.7818017], [1704494289.8057632], [1704494675.8476598]]\n"
     ]
    },
    {
     "name": "stderr",
     "output_type": "stream",
     "text": [
      "[11:49:32][WARNING] Spyglass: Deprecation: this class has been moved out of spyglass.common.common_position\n",
      "\tIntervalLinearizedPosition -> spyglass.linearization.v0.main.IntervalLinearizedPosition\n",
      "Please use the new location.\n"
     ]
    },
    {
     "name": "stdout",
     "output_type": "stream",
     "text": [
      "currently investigating:\n",
      "10_Rev2Session5\n",
      "pos 9 valid times\n",
      "\n",
      " turnaround_times 1 [[1704497005.5527592]]\n",
      "\n",
      " turnaround_times 2 [[1704497005.5527592]]\n"
     ]
    },
    {
     "name": "stderr",
     "output_type": "stream",
     "text": [
      "[11:49:54][WARNING] Spyglass: Deprecation: this class has been moved out of spyglass.common.common_position\n",
      "\tIntervalLinearizedPosition -> spyglass.linearization.v0.main.IntervalLinearizedPosition\n",
      "Please use the new location.\n"
     ]
    },
    {
     "name": "stdout",
     "output_type": "stream",
     "text": [
      "currently investigating:\n",
      "02_Rev2Session1\n",
      "pos 1 valid times\n",
      "\n",
      " turnaround_times 1 [[1704564749.4928849, 1704564751.2888842], [1704564837.8528442], [1704564934.6967995], [1704564958.2467887, 1704564960.2347877, 1704564961.4707873], [1704565344.5726106], [1704565371.0205984], [1704565557.8145125, 1704565560.8765109], [1704565624.2164817], [1704565646.2164717, 1704565647.600471], [1704566071.8442755], [1704566283.7401779, 1704566284.5141776, 1704566290.9621744]]\n",
      "\n",
      " turnaround_times 2 [[1704564749.4928849, 1704564751.2888842], [1704564837.8528442], [1704564934.6967995], [1704564958.2467887, 1704564960.2347877, 1704564961.4707873], [1704565344.5726106], [1704565371.0205984], [1704565557.8145125, 1704565560.8765109], [1704565624.2164817], [1704565646.2164717, 1704565647.600471], [1704566071.8442755], [1704566283.7401779, 1704566284.5141776, 1704566290.9621744]]\n"
     ]
    },
    {
     "name": "stderr",
     "output_type": "stream",
     "text": [
      "[11:49:55][WARNING] Spyglass: Deprecation: this class has been moved out of spyglass.common.common_position\n",
      "\tIntervalLinearizedPosition -> spyglass.linearization.v0.main.IntervalLinearizedPosition\n",
      "Please use the new location.\n"
     ]
    },
    {
     "name": "stdout",
     "output_type": "stream",
     "text": [
      "currently investigating:\n",
      "04_Rev2Session2\n",
      "pos 3 valid times\n",
      "\n",
      " turnaround_times 1 [[1704568837.7237573], [1704568928.0816958, 1704568933.0596924, 1704568929.1336951, 1704568935.263691], [1704569124.0175629], [1704569234.9054875], [1704569521.4472928], [1704569549.9332736], [1704569832.2290819], [1704570018.3309555], [1704570063.5529246, 1704570066.2449229], [1704570172.7228506], [1704570245.0008016, 1704570248.4287992], [1704570268.1407857], [1704570458.1646569]]\n",
      "\n",
      " turnaround_times 2 [[1704568837.7237573], [1704568928.0816958, 1704568933.0596924, 1704568929.1336951, 1704568935.263691], [1704569124.0175629], [1704569234.9054875], [1704569521.4472928], [1704569549.9332736], [1704569832.2290819], [1704570018.3309555], [1704570063.5529246, 1704570066.2449229], [1704570172.7228506], [1704570245.0008016, 1704570248.4287992], [1704570268.1407857], [1704570458.1646569]]\n",
      "some missing position data\n",
      "some missing position data\n"
     ]
    },
    {
     "name": "stderr",
     "output_type": "stream",
     "text": [
      "[11:49:56][WARNING] Spyglass: Deprecation: this class has been moved out of spyglass.common.common_position\n",
      "\tIntervalLinearizedPosition -> spyglass.linearization.v0.main.IntervalLinearizedPosition\n",
      "Please use the new location.\n"
     ]
    },
    {
     "name": "stdout",
     "output_type": "stream",
     "text": [
      "currently investigating:\n",
      "06_Rev2Session3\n",
      "pos 5 valid times\n",
      "\n",
      " turnaround_times 1 [[1704573705.5670273], [1704573731.1150227], [1704573820.371006], [1704573915.6269882, 1704573919.3829875, 1704573920.4429874, 1704573921.3809872], [1704573952.6049814], [1704574214.0869327], [1704574396.8408988]]\n",
      "\n",
      " turnaround_times 2 [[1704573705.5670273], [1704573731.1150227], [1704573820.371006], [1704573915.6269882, 1704573919.3829875, 1704573920.4429874, 1704573921.3809872], [1704573952.6049814], [1704574214.0869327], [1704574396.8408988]]\n"
     ]
    },
    {
     "name": "stderr",
     "output_type": "stream",
     "text": [
      "[11:49:57][WARNING] Spyglass: Deprecation: this class has been moved out of spyglass.common.common_position\n",
      "\tIntervalLinearizedPosition -> spyglass.linearization.v0.main.IntervalLinearizedPosition\n",
      "Please use the new location.\n"
     ]
    },
    {
     "name": "stdout",
     "output_type": "stream",
     "text": [
      "currently investigating:\n",
      "08_Rev2Session4\n",
      "pos 7 valid times\n",
      "\n",
      " turnaround_times 1 [[1704577553.5733922], [1704577585.2433758], [1704577683.763325], [1704577768.4912813, 1704577769.3472807]]\n",
      "\n",
      " turnaround_times 2 [[1704577553.5733922], [1704577585.2433758], [1704577683.763325], [1704577768.4912813, 1704577769.3472807]]\n"
     ]
    },
    {
     "name": "stderr",
     "output_type": "stream",
     "text": [
      "[11:49:57][WARNING] Spyglass: Deprecation: this class has been moved out of spyglass.common.common_position\n",
      "\tIntervalLinearizedPosition -> spyglass.linearization.v0.main.IntervalLinearizedPosition\n",
      "Please use the new location.\n"
     ]
    },
    {
     "name": "stdout",
     "output_type": "stream",
     "text": [
      "currently investigating:\n",
      "02_Rev2Session1\n",
      "pos 1 valid times\n",
      "\n",
      " turnaround_times 1 [[1704564749.4928849, 1704564751.2888842], [1704564837.8528442], [1704564934.6967995], [1704564958.2467887, 1704564960.2347877, 1704564961.4707873], [1704565344.5726106], [1704565371.0205984], [1704565557.8145125, 1704565560.8765109], [1704565624.2164817], [1704565646.2164717, 1704565647.600471], [1704566071.8442755], [1704566283.7401779, 1704566284.5141776, 1704566290.9621744]]\n",
      "\n",
      " turnaround_times 2 [[1704564749.4928849, 1704564751.2888842], [1704564837.8528442], [1704564934.6967995], [1704564958.2467887, 1704564960.2347877, 1704564961.4707873], [1704565344.5726106], [1704565371.0205984], [1704565557.8145125, 1704565560.8765109], [1704565624.2164817], [1704565646.2164717, 1704565647.600471], [1704566071.8442755], [1704566283.7401779, 1704566284.5141776, 1704566290.9621744]]\n"
     ]
    },
    {
     "name": "stderr",
     "output_type": "stream",
     "text": [
      "[11:49:58][WARNING] Spyglass: Deprecation: this class has been moved out of spyglass.common.common_position\n",
      "\tIntervalLinearizedPosition -> spyglass.linearization.v0.main.IntervalLinearizedPosition\n",
      "Please use the new location.\n"
     ]
    },
    {
     "name": "stdout",
     "output_type": "stream",
     "text": [
      "currently investigating:\n",
      "04_Rev2Session2\n",
      "pos 3 valid times\n",
      "\n",
      " turnaround_times 1 [[1704568837.7237573], [1704568928.0816958, 1704568933.0596924, 1704568929.1336951, 1704568935.263691], [1704569124.0175629], [1704569234.9054875], [1704569521.4472928], [1704569549.9332736], [1704569832.2290819], [1704570018.3309555], [1704570063.5529246, 1704570066.2449229], [1704570172.7228506], [1704570245.0008016, 1704570248.4287992], [1704570268.1407857], [1704570458.1646569]]\n",
      "\n",
      " turnaround_times 2 [[1704568837.7237573], [1704568928.0816958, 1704568933.0596924, 1704568929.1336951, 1704568935.263691], [1704569124.0175629], [1704569234.9054875], [1704569521.4472928], [1704569549.9332736], [1704569832.2290819], [1704570018.3309555], [1704570063.5529246, 1704570066.2449229], [1704570172.7228506], [1704570245.0008016, 1704570248.4287992], [1704570268.1407857], [1704570458.1646569]]\n"
     ]
    },
    {
     "name": "stderr",
     "output_type": "stream",
     "text": [
      "[11:49:59][WARNING] Spyglass: Deprecation: this class has been moved out of spyglass.common.common_position\n",
      "\tIntervalLinearizedPosition -> spyglass.linearization.v0.main.IntervalLinearizedPosition\n",
      "Please use the new location.\n"
     ]
    },
    {
     "name": "stdout",
     "output_type": "stream",
     "text": [
      "currently investigating:\n",
      "06_Rev2Session3\n",
      "pos 5 valid times\n",
      "\n",
      " turnaround_times 1 [[1704573705.5670273], [1704573731.1150227], [1704573820.371006], [1704573915.6269882, 1704573919.3829875, 1704573920.4429874, 1704573921.3809872], [1704573952.6049814], [1704574214.0869327], [1704574396.8408988]]\n",
      "\n",
      " turnaround_times 2 [[1704573705.5670273], [1704573731.1150227], [1704573820.371006], [1704573915.6269882, 1704573919.3829875, 1704573920.4429874, 1704573921.3809872], [1704573952.6049814], [1704574214.0869327], [1704574396.8408988]]\n"
     ]
    },
    {
     "name": "stderr",
     "output_type": "stream",
     "text": [
      "[11:50:00][WARNING] Spyglass: Deprecation: this class has been moved out of spyglass.common.common_position\n",
      "\tIntervalLinearizedPosition -> spyglass.linearization.v0.main.IntervalLinearizedPosition\n",
      "Please use the new location.\n"
     ]
    },
    {
     "name": "stdout",
     "output_type": "stream",
     "text": [
      "currently investigating:\n",
      "08_Rev2Session4\n",
      "pos 7 valid times\n",
      "\n",
      " turnaround_times 1 [[1704577553.5733922], [1704577585.2433758], [1704577683.763325], [1704577768.4912813, 1704577769.3472807]]\n",
      "\n",
      " turnaround_times 2 [[1704577553.5733922], [1704577585.2433758], [1704577683.763325], [1704577768.4912813, 1704577769.3472807]]\n"
     ]
    },
    {
     "name": "stderr",
     "output_type": "stream",
     "text": [
      "[11:50:17][WARNING] Spyglass: Deprecation: this class has been moved out of spyglass.common.common_position\n",
      "\tIntervalLinearizedPosition -> spyglass.linearization.v0.main.IntervalLinearizedPosition\n",
      "Please use the new location.\n"
     ]
    },
    {
     "name": "stdout",
     "output_type": "stream",
     "text": [
      "currently investigating:\n",
      "02_Rev2Session1\n",
      "pos 1 valid times\n",
      "\n",
      " turnaround_times 1 [[1704660527.5790963], [1704660545.7870908], [1704660585.0070794], [1704660623.8990679], [1704660710.2590423], [1704660907.300984], [1704660927.6649778, 1704660929.1149774, 1704660936.2009754, 1704660938.7649746], [1704661025.8589487, 1704661028.304948], [1704661372.7988462], [1704661416.674833], [1704661443.8948252], [1704661570.4127877]]\n",
      "\n",
      " turnaround_times 2 [[1704660527.5790963], [1704660545.7870908], [1704660585.0070794], [1704660623.8990679], [1704660710.2590423], [1704660907.300984], [1704660927.6649778, 1704660929.1149774, 1704660936.2009754, 1704660938.7649746], [1704661025.8589487, 1704661028.304948], [1704661372.7988462], [1704661416.674833], [1704661443.8948252], [1704661570.4127877]]\n"
     ]
    },
    {
     "name": "stderr",
     "output_type": "stream",
     "text": [
      "[11:50:18][WARNING] Spyglass: Deprecation: this class has been moved out of spyglass.common.common_position\n",
      "\tIntervalLinearizedPosition -> spyglass.linearization.v0.main.IntervalLinearizedPosition\n",
      "Please use the new location.\n"
     ]
    },
    {
     "name": "stdout",
     "output_type": "stream",
     "text": [
      "currently investigating:\n",
      "04_Rev2Session2\n",
      "pos 3 valid times\n",
      "\n",
      " turnaround_times 1 [[1704665150.9884505], [1704665276.6083868], [1704665338.972355], [1704665440.7523031, 1704665444.6303012], [1704665536.3762543], [1704665576.4142342], [1704665595.2702243], [1704665891.6440735, 1704665892.8800728]]\n",
      "\n",
      " turnaround_times 2 [[1704665150.9884505], [1704665276.6083868], [1704665338.972355], [1704665440.7523031, 1704665444.6303012], [1704665536.3762543], [1704665576.4142342], [1704665595.2702243], [1704665891.6440735, 1704665892.8800728]]\n"
     ]
    },
    {
     "name": "stderr",
     "output_type": "stream",
     "text": [
      "[11:50:18][WARNING] Spyglass: Deprecation: this class has been moved out of spyglass.common.common_position\n",
      "\tIntervalLinearizedPosition -> spyglass.linearization.v0.main.IntervalLinearizedPosition\n",
      "Please use the new location.\n"
     ]
    },
    {
     "name": "stdout",
     "output_type": "stream",
     "text": [
      "currently investigating:\n",
      "06_Rev2Session3\n",
      "pos 5 valid times\n",
      "\n",
      " turnaround_times 1 [[1704668932.717312, 1704668933.6133118], [1704668960.985304], [1704669200.1472363], [1704669497.2151523], [1704669524.4371445, 1704669525.3731444], [1704669601.3691227], [1704669625.8131158, 1704669628.1831152], [1704669747.5150814], [1704669959.5770214], [1704670044.0169976, 1704670045.6049972], [1704670189.9189563]]\n",
      "\n",
      " turnaround_times 2 [[1704668932.717312, 1704668933.6133118], [1704668960.985304], [1704669200.1472363], [1704669497.2151523], [1704669524.4371445, 1704669525.3731444], [1704669601.3691227], [1704669625.8131158, 1704669628.1831152], [1704669747.5150814], [1704669959.5770214], [1704670044.0169976, 1704670045.6049972], [1704670189.9189563]]\n"
     ]
    },
    {
     "name": "stderr",
     "output_type": "stream",
     "text": [
      "[11:50:19][WARNING] Spyglass: Deprecation: this class has been moved out of spyglass.common.common_position\n",
      "\tIntervalLinearizedPosition -> spyglass.linearization.v0.main.IntervalLinearizedPosition\n",
      "Please use the new location.\n"
     ]
    },
    {
     "name": "stdout",
     "output_type": "stream",
     "text": [
      "currently investigating:\n",
      "08_Rev2Session4\n",
      "pos 7 valid times\n",
      "\n",
      " turnaround_times 1 [[1704672560.5925782, 1704672564.1025748, 1704672565.4905736, 1704672567.6905715], [1704672727.432422], [1704672942.7082202, 1704672944.2742186, 1704672944.998218], [1704673081.3120904], [1704673278.8019054, 1704673282.0539021, 1704673282.7999015], [1704673389.971801], [1704673516.081683], [1704673581.4636216]]\n",
      "\n",
      " turnaround_times 2 [[1704672560.5925782, 1704672564.1025748, 1704672565.4905736, 1704672567.6905715], [1704672727.432422], [1704672942.7082202, 1704672944.2742186, 1704672944.998218], [1704673081.3120904], [1704673278.8019054, 1704673282.0539021, 1704673282.7999015], [1704673389.971801], [1704673516.081683], [1704673581.4636216]]\n"
     ]
    },
    {
     "name": "stderr",
     "output_type": "stream",
     "text": [
      "[11:50:20][WARNING] Spyglass: Deprecation: this class has been moved out of spyglass.common.common_position\n",
      "\tIntervalLinearizedPosition -> spyglass.linearization.v0.main.IntervalLinearizedPosition\n",
      "Please use the new location.\n"
     ]
    },
    {
     "name": "stdout",
     "output_type": "stream",
     "text": [
      "currently investigating:\n",
      "10_Rev2Session5\n",
      "pos 9 valid times\n",
      "\n",
      " turnaround_times 1 [[1704675293.425103, 1704675295.3011012], [1704675365.4570384], [1704675671.1807647], [1704676123.7883592]]\n",
      "\n",
      " turnaround_times 2 [[1704675293.425103, 1704675295.3011012], [1704675365.4570384], [1704675671.1807647], [1704676123.7883592]]\n"
     ]
    },
    {
     "name": "stderr",
     "output_type": "stream",
     "text": [
      "[11:50:20][WARNING] Spyglass: Deprecation: this class has been moved out of spyglass.common.common_position\n",
      "\tIntervalLinearizedPosition -> spyglass.linearization.v0.main.IntervalLinearizedPosition\n",
      "Please use the new location.\n"
     ]
    },
    {
     "name": "stdout",
     "output_type": "stream",
     "text": [
      "currently investigating:\n",
      "02_Rev2Session1\n",
      "pos 1 valid times\n",
      "\n",
      " turnaround_times 1 [[1704660527.5790963], [1704660545.7870908], [1704660585.0070794], [1704660623.8990679], [1704660710.2590423], [1704660907.300984], [1704660927.6649778, 1704660929.1149774, 1704660936.2009754, 1704660938.7649746], [1704661025.8589487, 1704661028.304948], [1704661372.7988462], [1704661416.674833], [1704661443.8948252], [1704661570.4127877]]\n",
      "\n",
      " turnaround_times 2 [[1704660527.5790963], [1704660545.7870908], [1704660585.0070794], [1704660623.8990679], [1704660710.2590423], [1704660907.300984], [1704660927.6649778, 1704660929.1149774, 1704660936.2009754, 1704660938.7649746], [1704661025.8589487, 1704661028.304948], [1704661372.7988462], [1704661416.674833], [1704661443.8948252], [1704661570.4127877]]\n"
     ]
    },
    {
     "name": "stderr",
     "output_type": "stream",
     "text": [
      "[11:50:21][WARNING] Spyglass: Deprecation: this class has been moved out of spyglass.common.common_position\n",
      "\tIntervalLinearizedPosition -> spyglass.linearization.v0.main.IntervalLinearizedPosition\n",
      "Please use the new location.\n"
     ]
    },
    {
     "name": "stdout",
     "output_type": "stream",
     "text": [
      "currently investigating:\n",
      "04_Rev2Session2\n",
      "pos 3 valid times\n",
      "\n",
      " turnaround_times 1 [[1704665150.9884505], [1704665276.6083868], [1704665338.972355], [1704665440.7523031, 1704665444.6303012], [1704665536.3762543], [1704665576.4142342], [1704665595.2702243], [1704665891.6440735, 1704665892.8800728]]\n",
      "\n",
      " turnaround_times 2 [[1704665150.9884505], [1704665276.6083868], [1704665338.972355], [1704665440.7523031, 1704665444.6303012], [1704665536.3762543], [1704665576.4142342], [1704665595.2702243], [1704665891.6440735, 1704665892.8800728]]\n"
     ]
    },
    {
     "name": "stderr",
     "output_type": "stream",
     "text": [
      "[11:50:22][WARNING] Spyglass: Deprecation: this class has been moved out of spyglass.common.common_position\n",
      "\tIntervalLinearizedPosition -> spyglass.linearization.v0.main.IntervalLinearizedPosition\n",
      "Please use the new location.\n"
     ]
    },
    {
     "name": "stdout",
     "output_type": "stream",
     "text": [
      "currently investigating:\n",
      "06_Rev2Session3\n",
      "pos 5 valid times\n",
      "\n",
      " turnaround_times 1 [[1704668932.717312, 1704668933.6133118], [1704668960.985304], [1704669200.1472363], [1704669497.2151523], [1704669524.4371445, 1704669525.3731444], [1704669601.3691227], [1704669625.8131158, 1704669628.1831152], [1704669747.5150814], [1704669959.5770214], [1704670044.0169976, 1704670045.6049972], [1704670189.9189563]]\n",
      "\n",
      " turnaround_times 2 [[1704668932.717312, 1704668933.6133118], [1704668960.985304], [1704669200.1472363], [1704669497.2151523], [1704669524.4371445, 1704669525.3731444], [1704669601.3691227], [1704669625.8131158, 1704669628.1831152], [1704669747.5150814], [1704669959.5770214], [1704670044.0169976, 1704670045.6049972], [1704670189.9189563]]\n"
     ]
    },
    {
     "name": "stderr",
     "output_type": "stream",
     "text": [
      "[11:50:23][WARNING] Spyglass: Deprecation: this class has been moved out of spyglass.common.common_position\n",
      "\tIntervalLinearizedPosition -> spyglass.linearization.v0.main.IntervalLinearizedPosition\n",
      "Please use the new location.\n"
     ]
    },
    {
     "name": "stdout",
     "output_type": "stream",
     "text": [
      "currently investigating:\n",
      "08_Rev2Session4\n",
      "pos 7 valid times\n",
      "\n",
      " turnaround_times 1 [[1704672560.5925782, 1704672564.1025748, 1704672565.4905736, 1704672567.6905715], [1704672727.432422], [1704672942.7082202, 1704672944.2742186, 1704672944.998218], [1704673081.3120904], [1704673278.8019054, 1704673282.0539021, 1704673282.7999015], [1704673389.971801], [1704673516.081683], [1704673581.4636216]]\n",
      "\n",
      " turnaround_times 2 [[1704672560.5925782, 1704672564.1025748, 1704672565.4905736, 1704672567.6905715], [1704672727.432422], [1704672942.7082202, 1704672944.2742186, 1704672944.998218], [1704673081.3120904], [1704673278.8019054, 1704673282.0539021, 1704673282.7999015], [1704673389.971801], [1704673516.081683], [1704673581.4636216]]\n"
     ]
    },
    {
     "name": "stderr",
     "output_type": "stream",
     "text": [
      "[11:50:23][WARNING] Spyglass: Deprecation: this class has been moved out of spyglass.common.common_position\n",
      "\tIntervalLinearizedPosition -> spyglass.linearization.v0.main.IntervalLinearizedPosition\n",
      "Please use the new location.\n"
     ]
    },
    {
     "name": "stdout",
     "output_type": "stream",
     "text": [
      "currently investigating:\n",
      "10_Rev2Session5\n",
      "pos 9 valid times\n",
      "\n",
      " turnaround_times 1 [[1704675293.425103, 1704675295.3011012], [1704675365.4570384], [1704675671.1807647], [1704676123.7883592]]\n",
      "\n",
      " turnaround_times 2 [[1704675293.425103, 1704675295.3011012], [1704675365.4570384], [1704675671.1807647], [1704676123.7883592]]\n"
     ]
    },
    {
     "name": "stderr",
     "output_type": "stream",
     "text": [
      "[11:50:43][WARNING] Spyglass: Deprecation: this class has been moved out of spyglass.common.common_position\n",
      "\tIntervalLinearizedPosition -> spyglass.linearization.v0.main.IntervalLinearizedPosition\n",
      "Please use the new location.\n"
     ]
    },
    {
     "name": "stdout",
     "output_type": "stream",
     "text": [
      "currently investigating:\n",
      "02_Rev2Session1\n",
      "pos 1 valid times\n",
      "\n",
      " turnaround_times 1 [[1704749571.595262], [1704749886.049168], [1704750426.8930063], [1704750457.868997], [1704750547.4889703, 1704750551.488969], [1704750675.108932], [1704750889.8228679, 1704750896.1868658], [1704751020.0108287], [1704751068.0088146, 1704751073.148813], [1704751180.3207808], [1704751231.1747656]]\n",
      "\n",
      " turnaround_times 2 [[1704749571.595262], [1704749886.049168], [1704750426.8930063], [1704750457.868997], [1704750547.4889703, 1704750551.488969], [1704750675.108932], [1704750889.8228679, 1704750896.1868658], [1704751020.0108287], [1704751068.0088146, 1704751073.148813], [1704751180.3207808], [1704751231.1747656]]\n"
     ]
    },
    {
     "name": "stderr",
     "output_type": "stream",
     "text": [
      "[11:50:44][WARNING] Spyglass: Deprecation: this class has been moved out of spyglass.common.common_position\n",
      "\tIntervalLinearizedPosition -> spyglass.linearization.v0.main.IntervalLinearizedPosition\n",
      "Please use the new location.\n"
     ]
    },
    {
     "name": "stdout",
     "output_type": "stream",
     "text": [
      "currently investigating:\n",
      "04_Rev2Session2\n",
      "pos 3 valid times\n",
      "\n",
      " turnaround_times 1 [[1704753803.4757729], [1704753893.2197027], [1704754012.3496096], [1704754041.5295868, 1704754042.347586, 1704754056.0615754], [1704754103.1155386, 1704754108.0935347], [1704754180.4134781, 1704754181.843477], [1704754204.777459], [1704754473.5652487], [1704754680.8490868], [1704754737.5370424, 1704754739.7410407], [1704754963.026866], [1704755026.0368168], [1704755058.5267913], [1704755149.3707204], [1704755230.6706567, 1704755236.8726518], [1704755275.3606217], [1704755468.5624707], [1704755594.714372], [1704755636.6283393], [1704755664.5843174]]\n",
      "\n",
      " turnaround_times 2 [[1704753803.4757729], [1704753893.2197027], [1704754012.3496096], [1704754041.5295868, 1704754042.347586, 1704754056.0615754], [1704754103.1155386, 1704754108.0935347], [1704754180.4134781, 1704754181.843477], [1704754204.777459], [1704754473.5652487], [1704754680.8490868], [1704754737.5370424, 1704754739.7410407], [1704754963.026866], [1704755026.0368168], [1704755058.5267913], [1704755149.3707204], [1704755230.6706567, 1704755236.8726518], [1704755275.3606217], [1704755468.5624707], [1704755594.714372], [1704755636.6283393], [1704755664.5843174]]\n"
     ]
    },
    {
     "name": "stderr",
     "output_type": "stream",
     "text": [
      "[11:50:45][WARNING] Spyglass: Deprecation: this class has been moved out of spyglass.common.common_position\n",
      "\tIntervalLinearizedPosition -> spyglass.linearization.v0.main.IntervalLinearizedPosition\n",
      "Please use the new location.\n"
     ]
    },
    {
     "name": "stdout",
     "output_type": "stream",
     "text": [
      "currently investigating:\n",
      "06_Rev2Session3\n",
      "pos 5 valid times\n",
      "\n",
      " turnaround_times 1 [[1704758045.0936704], [1704758065.1756582], [1704758085.7856455, 1704758088.315644], [1704758314.5375056], [1704758345.2514868], [1704758405.6274498], [1704758685.3112786, 1704758689.2712762, 1704758694.4552732], [1704758804.6492057], [1704758868.8431664], [1704758896.5971494]]\n",
      "\n",
      " turnaround_times 2 [[1704758045.0936704], [1704758065.1756582], [1704758085.7856455, 1704758088.315644], [1704758314.5375056], [1704758345.2514868], [1704758405.6274498], [1704758685.3112786, 1704758689.2712762, 1704758694.4552732], [1704758804.6492057], [1704758868.8431664], [1704758896.5971494]]\n"
     ]
    },
    {
     "name": "stderr",
     "output_type": "stream",
     "text": [
      "[11:50:46][WARNING] Spyglass: Deprecation: this class has been moved out of spyglass.common.common_position\n",
      "\tIntervalLinearizedPosition -> spyglass.linearization.v0.main.IntervalLinearizedPosition\n",
      "Please use the new location.\n"
     ]
    },
    {
     "name": "stdout",
     "output_type": "stream",
     "text": [
      "currently investigating:\n",
      "08_Rev2Session4\n",
      "pos 7 valid times\n",
      "\n",
      " turnaround_times 1 [[1704761084.1331112], [1704761339.1268368], [1704761441.8507264], [1704761567.1005914], [1704761633.3005202, 1704761633.7905197, 1704761634.564519, 1704761642.0745108], [1704761673.0084774, 1704761673.538477, 1704761677.9464722, 1704761680.7644691], [1704761756.7563872], [1704761872.0902631], [1704761989.382137, 1704761989.9141364], [1704762190.1379209], [1704762298.1258047, 1704762299.0258038]]\n",
      "\n",
      " turnaround_times 2 [[1704761084.1331112], [1704761339.1268368], [1704761441.8507264], [1704761567.1005914], [1704761633.3005202, 1704761633.7905197, 1704761634.564519, 1704761642.0745108], [1704761673.0084774, 1704761673.538477, 1704761677.9464722, 1704761680.7644691], [1704761756.7563872], [1704761872.0902631], [1704761989.382137, 1704761989.9141364], [1704762190.1379209], [1704762298.1258047, 1704762299.0258038]]\n"
     ]
    },
    {
     "name": "stderr",
     "output_type": "stream",
     "text": [
      "[11:50:47][WARNING] Spyglass: Deprecation: this class has been moved out of spyglass.common.common_position\n",
      "\tIntervalLinearizedPosition -> spyglass.linearization.v0.main.IntervalLinearizedPosition\n",
      "Please use the new location.\n"
     ]
    },
    {
     "name": "stdout",
     "output_type": "stream",
     "text": [
      "currently investigating:\n",
      "02_Rev2Session1\n",
      "pos 1 valid times\n",
      "\n",
      " turnaround_times 1 [[1704749571.595262], [1704749886.049168], [1704750426.8930063], [1704750457.868997], [1704750547.4889703, 1704750551.488969], [1704750675.108932], [1704750889.8228679, 1704750896.1868658], [1704751020.0108287], [1704751068.0088146, 1704751073.148813], [1704751180.3207808], [1704751231.1747656]]\n",
      "\n",
      " turnaround_times 2 [[1704749571.595262], [1704749886.049168], [1704750426.8930063], [1704750457.868997], [1704750547.4889703, 1704750551.488969], [1704750675.108932], [1704750889.8228679, 1704750896.1868658], [1704751020.0108287], [1704751068.0088146, 1704751073.148813], [1704751180.3207808], [1704751231.1747656]]\n"
     ]
    },
    {
     "name": "stderr",
     "output_type": "stream",
     "text": [
      "[11:50:48][WARNING] Spyglass: Deprecation: this class has been moved out of spyglass.common.common_position\n",
      "\tIntervalLinearizedPosition -> spyglass.linearization.v0.main.IntervalLinearizedPosition\n",
      "Please use the new location.\n"
     ]
    },
    {
     "name": "stdout",
     "output_type": "stream",
     "text": [
      "currently investigating:\n",
      "04_Rev2Session2\n",
      "pos 3 valid times\n",
      "\n",
      " turnaround_times 1 [[1704753803.4757729], [1704753893.2197027], [1704754012.3496096], [1704754041.5295868, 1704754042.347586, 1704754056.0615754], [1704754103.1155386, 1704754108.0935347], [1704754180.4134781, 1704754181.843477], [1704754204.777459], [1704754473.5652487], [1704754680.8490868], [1704754737.5370424, 1704754739.7410407], [1704754963.026866], [1704755026.0368168], [1704755058.5267913], [1704755149.3707204], [1704755230.6706567, 1704755236.8726518], [1704755275.3606217], [1704755468.5624707], [1704755594.714372], [1704755636.6283393], [1704755664.5843174]]\n",
      "\n",
      " turnaround_times 2 [[1704753803.4757729], [1704753893.2197027], [1704754012.3496096], [1704754041.5295868, 1704754042.347586, 1704754056.0615754], [1704754103.1155386, 1704754108.0935347], [1704754180.4134781, 1704754181.843477], [1704754204.777459], [1704754473.5652487], [1704754680.8490868], [1704754737.5370424, 1704754739.7410407], [1704754963.026866], [1704755026.0368168], [1704755058.5267913], [1704755149.3707204], [1704755230.6706567, 1704755236.8726518], [1704755275.3606217], [1704755468.5624707], [1704755594.714372], [1704755636.6283393], [1704755664.5843174]]\n"
     ]
    },
    {
     "name": "stderr",
     "output_type": "stream",
     "text": [
      "[11:50:49][WARNING] Spyglass: Deprecation: this class has been moved out of spyglass.common.common_position\n",
      "\tIntervalLinearizedPosition -> spyglass.linearization.v0.main.IntervalLinearizedPosition\n",
      "Please use the new location.\n"
     ]
    },
    {
     "name": "stdout",
     "output_type": "stream",
     "text": [
      "currently investigating:\n",
      "06_Rev2Session3\n",
      "pos 5 valid times\n",
      "\n",
      " turnaround_times 1 [[1704758045.0936704], [1704758065.1756582], [1704758085.7856455, 1704758088.315644], [1704758314.5375056], [1704758345.2514868], [1704758405.6274498], [1704758685.3112786, 1704758689.2712762, 1704758694.4552732], [1704758804.6492057], [1704758868.8431664], [1704758896.5971494]]\n",
      "\n",
      " turnaround_times 2 [[1704758045.0936704], [1704758065.1756582], [1704758085.7856455, 1704758088.315644], [1704758314.5375056], [1704758345.2514868], [1704758405.6274498], [1704758685.3112786, 1704758689.2712762, 1704758694.4552732], [1704758804.6492057], [1704758868.8431664], [1704758896.5971494]]\n"
     ]
    },
    {
     "name": "stderr",
     "output_type": "stream",
     "text": [
      "[11:50:50][WARNING] Spyglass: Deprecation: this class has been moved out of spyglass.common.common_position\n",
      "\tIntervalLinearizedPosition -> spyglass.linearization.v0.main.IntervalLinearizedPosition\n",
      "Please use the new location.\n"
     ]
    },
    {
     "name": "stdout",
     "output_type": "stream",
     "text": [
      "currently investigating:\n",
      "08_Rev2Session4\n",
      "pos 7 valid times\n",
      "\n",
      " turnaround_times 1 [[1704761084.1331112], [1704761339.1268368], [1704761441.8507264], [1704761567.1005914], [1704761633.3005202, 1704761633.7905197, 1704761634.564519, 1704761642.0745108], [1704761673.0084774, 1704761673.538477, 1704761677.9464722, 1704761680.7644691], [1704761756.7563872], [1704761872.0902631], [1704761989.382137, 1704761989.9141364], [1704762190.1379209], [1704762298.1258047, 1704762299.0258038]]\n",
      "\n",
      " turnaround_times 2 [[1704761084.1331112], [1704761339.1268368], [1704761441.8507264], [1704761567.1005914], [1704761633.3005202, 1704761633.7905197, 1704761634.564519, 1704761642.0745108], [1704761673.0084774, 1704761673.538477, 1704761677.9464722, 1704761680.7644691], [1704761756.7563872], [1704761872.0902631], [1704761989.382137, 1704761989.9141364], [1704762190.1379209], [1704762298.1258047, 1704762299.0258038]]\n"
     ]
    },
    {
     "name": "stderr",
     "output_type": "stream",
     "text": [
      "[11:51:13][WARNING] Spyglass: Deprecation: this class has been moved out of spyglass.common.common_position\n",
      "\tIntervalLinearizedPosition -> spyglass.linearization.v0.main.IntervalLinearizedPosition\n",
      "Please use the new location.\n"
     ]
    },
    {
     "name": "stdout",
     "output_type": "stream",
     "text": [
      "currently investigating:\n",
      "02_Rev2Session1\n",
      "pos 1 valid times\n",
      "\n",
      " turnaround_times 1 [[1704828052.1085632, 1704828052.886563, 1704828054.0845628], [1704828106.9705527], [1704828257.4445243, 1704828258.4205241], [1704828877.3364074], [1704829112.9023628, 1704829116.3723624, 1704829119.7183616], [1704829384.4243116], [1704829415.8103058], [1704829448.3762996], [1704829536.6962829, 1704829538.3682826], [1704829749.162243], [1704829943.5902061]]\n",
      "\n",
      " turnaround_times 2 [[1704828052.1085632, 1704828052.886563, 1704828054.0845628], [1704828106.9705527], [1704828257.4445243, 1704828258.4205241], [1704828877.3364074], [1704829112.9023628, 1704829116.3723624, 1704829119.7183616], [1704829384.4243116], [1704829415.8103058], [1704829448.3762996], [1704829536.6962829, 1704829538.3682826], [1704829749.162243], [1704829943.5902061]]\n"
     ]
    },
    {
     "name": "stderr",
     "output_type": "stream",
     "text": [
      "[11:51:14][WARNING] Spyglass: Deprecation: this class has been moved out of spyglass.common.common_position\n",
      "\tIntervalLinearizedPosition -> spyglass.linearization.v0.main.IntervalLinearizedPosition\n",
      "Please use the new location.\n"
     ]
    },
    {
     "name": "stdout",
     "output_type": "stream",
     "text": [
      "currently investigating:\n",
      "04_Rev2Session2\n",
      "pos 3 valid times\n",
      "\n",
      " turnaround_times 1 [[1704832757.604297, 1704832758.9922957], [1704832875.3462067], [1704832927.6281667, 1704832930.934164], [1704832960.3581414], [1704833382.313818], [1704833502.339726], [1704833652.1636112, 1704833654.8136091], [1704833717.2495613, 1704833719.2995598], [1704833777.783515, 1704833779.9435134], [1704833806.307493], [1704833839.6934674], [1704834065.1812947, 1704834070.6092906], [1704834306.4191098], [1704834343.3950815, 1704834347.597078, 1704834352.5370743], [1704834434.7750113], [1704834758.656763, 1704834759.7987623]]\n",
      "\n",
      " turnaround_times 2 [[1704832757.604297, 1704832758.9922957], [1704832875.3462067], [1704832927.6281667, 1704832930.934164], [1704832960.3581414], [1704833382.313818], [1704833502.339726], [1704833652.1636112, 1704833654.8136091], [1704833717.2495613, 1704833719.2995598], [1704833777.783515, 1704833779.9435134], [1704833806.307493], [1704833839.6934674], [1704834065.1812947, 1704834070.6092906], [1704834306.4191098], [1704834343.3950815, 1704834347.597078, 1704834352.5370743], [1704834434.7750113], [1704834758.656763, 1704834759.7987623]]\n"
     ]
    },
    {
     "name": "stderr",
     "output_type": "stream",
     "text": [
      "[11:51:16][WARNING] Spyglass: Deprecation: this class has been moved out of spyglass.common.common_position\n",
      "\tIntervalLinearizedPosition -> spyglass.linearization.v0.main.IntervalLinearizedPosition\n",
      "Please use the new location.\n"
     ]
    },
    {
     "name": "stdout",
     "output_type": "stream",
     "text": [
      "currently investigating:\n",
      "06_Rev2Session3\n",
      "pos 5 valid times\n",
      "\n",
      " turnaround_times 1 [[1704837038.7182755], [1704837192.2122364, 1704837194.742236, 1704837198.252235], [1704837596.9441335], [1704837632.9981244, 1704837640.1621227, 1704837636.0421238], [1704837762.1920917], [1704837887.7700598], [1704838413.877926], [1704838762.3718376], [1704838942.8837917]]\n",
      "\n",
      " turnaround_times 2 [[1704837038.7182755], [1704837192.2122364, 1704837194.742236, 1704837198.252235], [1704837596.9441335], [1704837632.9981244, 1704837640.1621227, 1704837636.0421238], [1704837762.1920917], [1704837887.7700598], [1704838413.877926], [1704838762.3718376], [1704838942.8837917]]\n",
      "some missing position data\n"
     ]
    },
    {
     "name": "stderr",
     "output_type": "stream",
     "text": [
      "[11:51:17][WARNING] Spyglass: Deprecation: this class has been moved out of spyglass.common.common_position\n",
      "\tIntervalLinearizedPosition -> spyglass.linearization.v0.main.IntervalLinearizedPosition\n",
      "Please use the new location.\n"
     ]
    },
    {
     "name": "stdout",
     "output_type": "stream",
     "text": [
      "currently investigating:\n",
      "08_Rev2Session4\n",
      "pos 7 valid times\n",
      "\n",
      " turnaround_times 1 [[1704841702.7633002, 1704841705.9452982, 1704841707.905297], [1704842015.4251127], [1704842082.1930728, 1704842087.2550697], [1704842146.0230346], [1704842208.1789973], [1704842240.666978], [1704842384.7308917]]\n",
      "\n",
      " turnaround_times 2 [[1704841702.7633002, 1704841705.9452982, 1704841707.905297], [1704842015.4251127], [1704842082.1930728, 1704842087.2550697], [1704842146.0230346], [1704842208.1789973], [1704842240.666978], [1704842384.7308917]]\n"
     ]
    },
    {
     "name": "stderr",
     "output_type": "stream",
     "text": [
      "[11:51:17][WARNING] Spyglass: Deprecation: this class has been moved out of spyglass.common.common_position\n",
      "\tIntervalLinearizedPosition -> spyglass.linearization.v0.main.IntervalLinearizedPosition\n",
      "Please use the new location.\n"
     ]
    },
    {
     "name": "stdout",
     "output_type": "stream",
     "text": [
      "currently investigating:\n",
      "02_Rev2Session1\n",
      "pos 1 valid times\n",
      "\n",
      " turnaround_times 1 [[1704828052.1085632, 1704828052.886563, 1704828054.0845628], [1704828106.9705527], [1704828257.4445243, 1704828258.4205241], [1704828877.3364074], [1704829112.9023628, 1704829116.3723624, 1704829119.7183616], [1704829384.4243116], [1704829415.8103058], [1704829448.3762996], [1704829536.6962829, 1704829538.3682826], [1704829749.162243], [1704829943.5902061]]\n",
      "\n",
      " turnaround_times 2 [[1704828052.1085632, 1704828052.886563, 1704828054.0845628], [1704828106.9705527], [1704828257.4445243, 1704828258.4205241], [1704828877.3364074], [1704829112.9023628, 1704829116.3723624, 1704829119.7183616], [1704829384.4243116], [1704829415.8103058], [1704829448.3762996], [1704829536.6962829, 1704829538.3682826], [1704829749.162243], [1704829943.5902061]]\n"
     ]
    },
    {
     "name": "stderr",
     "output_type": "stream",
     "text": [
      "[11:51:18][WARNING] Spyglass: Deprecation: this class has been moved out of spyglass.common.common_position\n",
      "\tIntervalLinearizedPosition -> spyglass.linearization.v0.main.IntervalLinearizedPosition\n",
      "Please use the new location.\n"
     ]
    },
    {
     "name": "stdout",
     "output_type": "stream",
     "text": [
      "currently investigating:\n",
      "04_Rev2Session2\n",
      "pos 3 valid times\n",
      "\n",
      " turnaround_times 1 [[1704832757.604297, 1704832758.9922957], [1704832875.3462067], [1704832927.6281667, 1704832930.934164], [1704832960.3581414], [1704833382.313818], [1704833502.339726], [1704833652.1636112, 1704833654.8136091], [1704833717.2495613, 1704833719.2995598], [1704833777.783515, 1704833779.9435134], [1704833806.307493], [1704833839.6934674], [1704834065.1812947, 1704834070.6092906], [1704834306.4191098], [1704834343.3950815, 1704834347.597078, 1704834352.5370743], [1704834434.7750113], [1704834758.656763, 1704834759.7987623]]\n",
      "\n",
      " turnaround_times 2 [[1704832757.604297, 1704832758.9922957], [1704832875.3462067], [1704832927.6281667, 1704832930.934164], [1704832960.3581414], [1704833382.313818], [1704833502.339726], [1704833652.1636112, 1704833654.8136091], [1704833717.2495613, 1704833719.2995598], [1704833777.783515, 1704833779.9435134], [1704833806.307493], [1704833839.6934674], [1704834065.1812947, 1704834070.6092906], [1704834306.4191098], [1704834343.3950815, 1704834347.597078, 1704834352.5370743], [1704834434.7750113], [1704834758.656763, 1704834759.7987623]]\n"
     ]
    },
    {
     "name": "stderr",
     "output_type": "stream",
     "text": [
      "[11:51:19][WARNING] Spyglass: Deprecation: this class has been moved out of spyglass.common.common_position\n",
      "\tIntervalLinearizedPosition -> spyglass.linearization.v0.main.IntervalLinearizedPosition\n",
      "Please use the new location.\n"
     ]
    },
    {
     "name": "stdout",
     "output_type": "stream",
     "text": [
      "currently investigating:\n",
      "06_Rev2Session3\n",
      "pos 5 valid times\n",
      "\n",
      " turnaround_times 1 [[1704837038.7182755], [1704837192.2122364, 1704837194.742236, 1704837198.252235], [1704837596.9441335], [1704837632.9981244, 1704837640.1621227, 1704837636.0421238], [1704837762.1920917], [1704837887.7700598], [1704838413.877926], [1704838762.3718376], [1704838942.8837917]]\n",
      "\n",
      " turnaround_times 2 [[1704837038.7182755], [1704837192.2122364, 1704837194.742236, 1704837198.252235], [1704837596.9441335], [1704837632.9981244, 1704837640.1621227, 1704837636.0421238], [1704837762.1920917], [1704837887.7700598], [1704838413.877926], [1704838762.3718376], [1704838942.8837917]]\n"
     ]
    },
    {
     "name": "stderr",
     "output_type": "stream",
     "text": [
      "[11:51:20][WARNING] Spyglass: Deprecation: this class has been moved out of spyglass.common.common_position\n",
      "\tIntervalLinearizedPosition -> spyglass.linearization.v0.main.IntervalLinearizedPosition\n",
      "Please use the new location.\n"
     ]
    },
    {
     "name": "stdout",
     "output_type": "stream",
     "text": [
      "currently investigating:\n",
      "08_Rev2Session4\n",
      "pos 7 valid times\n",
      "\n",
      " turnaround_times 1 [[1704841702.7633002, 1704841705.9452982, 1704841707.905297], [1704842015.4251127], [1704842082.1930728, 1704842087.2550697], [1704842146.0230346], [1704842208.1789973], [1704842240.666978], [1704842384.7308917]]\n",
      "\n",
      " turnaround_times 2 [[1704841702.7633002, 1704841705.9452982, 1704841707.905297], [1704842015.4251127], [1704842082.1930728, 1704842087.2550697], [1704842146.0230346], [1704842208.1789973], [1704842240.666978], [1704842384.7308917]]\n"
     ]
    },
    {
     "name": "stderr",
     "output_type": "stream",
     "text": [
      "[11:51:34][WARNING] Spyglass: Deprecation: this class has been moved out of spyglass.common.common_position\n",
      "\tIntervalLinearizedPosition -> spyglass.linearization.v0.main.IntervalLinearizedPosition\n",
      "Please use the new location.\n"
     ]
    },
    {
     "name": "stdout",
     "output_type": "stream",
     "text": [
      "currently investigating:\n",
      "02_Rev2Session1\n",
      "pos 1 valid times\n",
      "\n",
      " turnaround_times 1 [[1704911404.3537314], [1704911507.9756577], [1704911533.3996396], [1704911612.4935834], [1704911747.133488, 1704911749.5914862, 1704911750.3574858, 1704911754.5994828], [1704911855.6934109, 1704911860.6294074], [1704911987.9633172], [1704912136.5992115], [1704912325.3170776], [1704912705.7668076, 1704912706.620807], [1704912738.5767844, 1704912743.6787808], [1704912774.9007585, 1704912780.1227548], [1704912829.4247198, 1704912831.5467184], [1704913146.9024944, 1704913152.0024908]]\n",
      "\n",
      " turnaround_times 2 [[1704911404.3537314], [1704911507.9756577], [1704911533.3996396], [1704911612.4935834], [1704911747.133488, 1704911749.5914862, 1704911750.3574858, 1704911754.5994828], [1704911855.6934109, 1704911860.6294074], [1704911987.9633172], [1704912136.5992115], [1704912325.3170776], [1704912705.7668076, 1704912706.620807], [1704912738.5767844, 1704912743.6787808], [1704912774.9007585, 1704912780.1227548], [1704912829.4247198, 1704912831.5467184], [1704913146.9024944, 1704913152.0024908]]\n",
      "some missing position data\n"
     ]
    },
    {
     "name": "stderr",
     "output_type": "stream",
     "text": [
      "[11:51:36][WARNING] Spyglass: Deprecation: this class has been moved out of spyglass.common.common_position\n",
      "\tIntervalLinearizedPosition -> spyglass.linearization.v0.main.IntervalLinearizedPosition\n",
      "Please use the new location.\n"
     ]
    },
    {
     "name": "stdout",
     "output_type": "stream",
     "text": [
      "some missing position data\n",
      "currently investigating:\n",
      "04_Rev2Session2\n",
      "pos 3 valid times\n",
      "\n",
      " turnaround_times 1 [[1704915825.3430932, 1704915829.5450923, 1704915834.0350912, 1704915837.8290904], [1704915904.2310753], [1704915959.125063], [1704915992.7110553], [1704916093.4370327], [1704916138.2490225, 1704916143.1850214], [1704916198.3650088, 1704916201.793008], [1704916270.4389925], [1704916298.3109863], [1704916412.9529603], [1704916653.906906, 1704916656.0009053, 1704916657.0489051, 1704916661.906904], [1704916717.4908915], [1704916855.1908603], [1704916992.686829], [1704917043.0908177], [1704917175.646788, 1704917176.5067875], [1704917207.5207806], [1704917411.0907345]]\n",
      "\n",
      " turnaround_times 2 [[1704915825.3430932, 1704915829.5450923, 1704915834.0350912, 1704915837.8290904], [1704915904.2310753], [1704915959.125063], [1704915992.7110553], [1704916093.4370327], [1704916138.2490225, 1704916143.1850214], [1704916198.3650088, 1704916201.793008], [1704916270.4389925], [1704916298.3109863], [1704916412.9529603], [1704916653.906906, 1704916656.0009053, 1704916657.0489051, 1704916661.906904], [1704916717.4908915], [1704916855.1908603], [1704916992.686829], [1704917043.0908177], [1704917175.646788, 1704917176.5067875], [1704917207.5207806], [1704917411.0907345]]\n"
     ]
    },
    {
     "name": "stderr",
     "output_type": "stream",
     "text": [
      "[11:51:37][WARNING] Spyglass: Deprecation: this class has been moved out of spyglass.common.common_position\n",
      "\tIntervalLinearizedPosition -> spyglass.linearization.v0.main.IntervalLinearizedPosition\n",
      "Please use the new location.\n"
     ]
    },
    {
     "name": "stdout",
     "output_type": "stream",
     "text": [
      "currently investigating:\n",
      "06_Rev2Session3\n",
      "pos 5 valid times\n",
      "\n",
      " turnaround_times 1 [[1704920379.321134], [1704920410.1731331], [1704920443.315132], [1704920545.8331282, 1704920549.3831282, 1704920563.0551276, 1704920557.139128], [1704920670.3911238], [1704920776.2991202], [1704921042.1891108], [1704921291.061102], [1704921325.8731008], [1704921444.8790965]]\n",
      "\n",
      " turnaround_times 2 [[1704920379.321134], [1704920410.1731331], [1704920443.315132], [1704920545.8331282, 1704920549.3831282, 1704920563.0551276, 1704920557.139128], [1704920670.3911238], [1704920776.2991202], [1704921042.1891108], [1704921291.061102], [1704921325.8731008], [1704921444.8790965]]\n"
     ]
    },
    {
     "name": "stderr",
     "output_type": "stream",
     "text": [
      "[11:51:38][WARNING] Spyglass: Deprecation: this class has been moved out of spyglass.common.common_position\n",
      "\tIntervalLinearizedPosition -> spyglass.linearization.v0.main.IntervalLinearizedPosition\n",
      "Please use the new location.\n"
     ]
    },
    {
     "name": "stdout",
     "output_type": "stream",
     "text": [
      "currently investigating:\n",
      "08_Rev2Session4\n",
      "pos 7 valid times\n",
      "\n",
      " turnaround_times 1 [[1704924774.255382], [1704924807.2333493]]\n",
      "\n",
      " turnaround_times 2 [[1704924774.255382], [1704924807.2333493]]\n"
     ]
    },
    {
     "name": "stderr",
     "output_type": "stream",
     "text": [
      "[11:51:38][WARNING] Spyglass: Deprecation: this class has been moved out of spyglass.common.common_position\n",
      "\tIntervalLinearizedPosition -> spyglass.linearization.v0.main.IntervalLinearizedPosition\n",
      "Please use the new location.\n"
     ]
    },
    {
     "name": "stdout",
     "output_type": "stream",
     "text": [
      "currently investigating:\n",
      "10_Rev2Session5\n",
      "pos 9 valid times\n",
      "\n",
      " turnaround_times 1 [[1704927508.967792], [1704927578.023756], [1704927703.4396906], [1704928134.0874665]]\n",
      "\n",
      " turnaround_times 2 [[1704927508.967792], [1704927578.023756], [1704927703.4396906], [1704928134.0874665]]\n"
     ]
    },
    {
     "name": "stderr",
     "output_type": "stream",
     "text": [
      "[11:51:38][WARNING] Spyglass: Deprecation: this class has been moved out of spyglass.common.common_position\n",
      "\tIntervalLinearizedPosition -> spyglass.linearization.v0.main.IntervalLinearizedPosition\n",
      "Please use the new location.\n"
     ]
    },
    {
     "name": "stdout",
     "output_type": "stream",
     "text": [
      "currently investigating:\n",
      "02_Rev2Session1\n",
      "pos 1 valid times\n",
      "\n",
      " turnaround_times 1 [[1704911404.3537314], [1704911507.9756577], [1704911533.3996396], [1704911612.4935834], [1704911747.133488, 1704911749.5914862, 1704911750.3574858, 1704911754.5994828], [1704911855.6934109, 1704911860.6294074], [1704911987.9633172], [1704912136.5992115], [1704912325.3170776], [1704912705.7668076, 1704912706.620807], [1704912738.5767844, 1704912743.6787808], [1704912774.9007585, 1704912780.1227548], [1704912829.4247198, 1704912831.5467184], [1704913146.9024944, 1704913152.0024908]]\n",
      "\n",
      " turnaround_times 2 [[1704911404.3537314], [1704911507.9756577], [1704911533.3996396], [1704911612.4935834], [1704911747.133488, 1704911749.5914862, 1704911750.3574858, 1704911754.5994828], [1704911855.6934109, 1704911860.6294074], [1704911987.9633172], [1704912136.5992115], [1704912325.3170776], [1704912705.7668076, 1704912706.620807], [1704912738.5767844, 1704912743.6787808], [1704912774.9007585, 1704912780.1227548], [1704912829.4247198, 1704912831.5467184], [1704913146.9024944, 1704913152.0024908]]\n"
     ]
    },
    {
     "name": "stderr",
     "output_type": "stream",
     "text": [
      "[11:51:39][WARNING] Spyglass: Deprecation: this class has been moved out of spyglass.common.common_position\n",
      "\tIntervalLinearizedPosition -> spyglass.linearization.v0.main.IntervalLinearizedPosition\n",
      "Please use the new location.\n"
     ]
    },
    {
     "name": "stdout",
     "output_type": "stream",
     "text": [
      "currently investigating:\n",
      "04_Rev2Session2\n",
      "pos 3 valid times\n",
      "\n",
      " turnaround_times 1 [[1704915825.3430932, 1704915829.5450923, 1704915834.0350912, 1704915837.8290904], [1704915904.2310753], [1704915959.125063], [1704915992.7110553], [1704916093.4370327], [1704916138.2490225, 1704916143.1850214], [1704916198.3650088, 1704916201.793008], [1704916270.4389925], [1704916298.3109863], [1704916412.9529603], [1704916653.906906, 1704916656.0009053, 1704916657.0489051, 1704916661.906904], [1704916717.4908915], [1704916855.1908603], [1704916992.686829], [1704917043.0908177], [1704917175.646788, 1704917176.5067875], [1704917207.5207806], [1704917411.0907345]]\n",
      "\n",
      " turnaround_times 2 [[1704915825.3430932, 1704915829.5450923, 1704915834.0350912, 1704915837.8290904], [1704915904.2310753], [1704915959.125063], [1704915992.7110553], [1704916093.4370327], [1704916138.2490225, 1704916143.1850214], [1704916198.3650088, 1704916201.793008], [1704916270.4389925], [1704916298.3109863], [1704916412.9529603], [1704916653.906906, 1704916656.0009053, 1704916657.0489051, 1704916661.906904], [1704916717.4908915], [1704916855.1908603], [1704916992.686829], [1704917043.0908177], [1704917175.646788, 1704917176.5067875], [1704917207.5207806], [1704917411.0907345]]\n"
     ]
    },
    {
     "name": "stderr",
     "output_type": "stream",
     "text": [
      "[11:51:41][WARNING] Spyglass: Deprecation: this class has been moved out of spyglass.common.common_position\n",
      "\tIntervalLinearizedPosition -> spyglass.linearization.v0.main.IntervalLinearizedPosition\n",
      "Please use the new location.\n"
     ]
    },
    {
     "name": "stdout",
     "output_type": "stream",
     "text": [
      "currently investigating:\n",
      "06_Rev2Session3\n",
      "pos 5 valid times\n",
      "\n",
      " turnaround_times 1 [[1704920379.321134], [1704920410.1731331], [1704920443.315132], [1704920545.8331282, 1704920549.3831282, 1704920563.0551276, 1704920557.139128], [1704920670.3911238], [1704920776.2991202], [1704921042.1891108], [1704921291.061102], [1704921325.8731008], [1704921444.8790965]]\n",
      "\n",
      " turnaround_times 2 [[1704920379.321134], [1704920410.1731331], [1704920443.315132], [1704920545.8331282, 1704920549.3831282, 1704920563.0551276, 1704920557.139128], [1704920670.3911238], [1704920776.2991202], [1704921042.1891108], [1704921291.061102], [1704921325.8731008], [1704921444.8790965]]\n"
     ]
    },
    {
     "name": "stderr",
     "output_type": "stream",
     "text": [
      "[11:51:41][WARNING] Spyglass: Deprecation: this class has been moved out of spyglass.common.common_position\n",
      "\tIntervalLinearizedPosition -> spyglass.linearization.v0.main.IntervalLinearizedPosition\n",
      "Please use the new location.\n"
     ]
    },
    {
     "name": "stdout",
     "output_type": "stream",
     "text": [
      "currently investigating:\n",
      "08_Rev2Session4\n",
      "pos 7 valid times\n",
      "\n",
      " turnaround_times 1 [[1704924774.255382], [1704924807.2333493]]\n",
      "\n",
      " turnaround_times 2 [[1704924774.255382], [1704924807.2333493]]\n"
     ]
    },
    {
     "name": "stderr",
     "output_type": "stream",
     "text": [
      "[11:51:42][WARNING] Spyglass: Deprecation: this class has been moved out of spyglass.common.common_position\n",
      "\tIntervalLinearizedPosition -> spyglass.linearization.v0.main.IntervalLinearizedPosition\n",
      "Please use the new location.\n"
     ]
    },
    {
     "name": "stdout",
     "output_type": "stream",
     "text": [
      "currently investigating:\n",
      "10_Rev2Session5\n",
      "pos 9 valid times\n",
      "\n",
      " turnaround_times 1 [[1704927508.967792], [1704927578.023756], [1704927703.4396906], [1704928134.0874665]]\n",
      "\n",
      " turnaround_times 2 [[1704927508.967792], [1704927578.023756], [1704927703.4396906], [1704928134.0874665]]\n"
     ]
    }
   ],
   "source": [
    "replay_trials = {}\n",
    "replay_trials_non = {}\n",
    "\n",
    "replay_trials[animal] = {}\n",
    "replay_trials_non[animal] = {}\n",
    "\n",
    "proportion = 0.05\n",
    "\n",
    "for d in dates_to_plot:\n",
    "    (triggered_positions, triggered_positions_abs) = ({}, {})\n",
    "    (triggered_decodes, triggered_decodes_baseoff, triggered_decodes_abs) = ({}, {}, {})\n",
    "    triggered_trial_info = {}\n",
    "\n",
    "    (triggered_positions[animal], triggered_positions_abs[animal],\n",
    "     triggered_decodes[animal], triggered_decodes_baseoff[animal], triggered_decodes_abs[animal],\n",
    "     triggered_trial_info[animal]) = find_triggered_animal(animal,[d], proportion = proportion,\n",
    "                                                           delta_t_minus = 0,delta_t_plus = 2,\n",
    "                                                           max_flag = 0, segment_only = True)\n",
    "\n",
    "    (triggered_positions_nb, triggered_positions_abs_nb) = ({}, {})\n",
    "    (triggered_decodes_nb, triggered_decodes_baseoff_nb, triggered_decodes_abs_nb) = ({}, {}, {})\n",
    "    \n",
    "    (triggered_positions_nb[animal], triggered_positions_abs_nb[animal],\n",
    "     triggered_decodes_nb[animal], triggered_decodes_baseoff_nb[animal], triggered_decodes_abs_nb[animal],\n",
    "     _) = find_triggered_animal(animal,[d], proportion = proportion,\n",
    "                                nearby = 1, \n",
    "                                delta_t_minus = 2,delta_t_plus = 0.5,\n",
    "                                max_flag = 0, segment_only = True)\n",
    "\n",
    "\n",
    "    \n",
    "    replay_trials[animal][d], inds, _, replay_trials_non[animal][d], inds_non, _  = find_large_position_minus_decode_trials(\n",
    "        # with theta                # without theta\n",
    "            animal, triggered_trial_info, \n",
    "            triggered_positions_abs, triggered_decodes_baseoff, triggered_positions_abs_nb, triggered_decodes_baseoff_nb)\n",
    "    \n"
   ]
  },
  {
   "cell_type": "code",
   "execution_count": 490,
   "id": "6a4e2b15-604d-42bf-ad4d-05bf96c74b84",
   "metadata": {},
   "outputs": [],
   "source": [
    "from spyglass.shijiegu.changeOfMind_deltat import find_delta_t\n",
    "from scipy.stats import ranksums\n",
    "\n",
    "from scipy.stats import permutation_test\n",
    "from scipy.stats import mode\n",
    "# because our statistic is vectorized, we pass `vectorized=True`\n",
    "# `n_resamples=np.inf` indicates that an exact test is to be performed\n",
    "\n",
    "def statistic(x, y, axis):\n",
    "    return np.mean(x, axis=axis) - np.mean(y, axis=axis)"
   ]
  },
  {
   "cell_type": "code",
   "execution_count": 491,
   "id": "19f8f8b0-efc7-440e-8d7b-b34c6fefd964",
   "metadata": {
    "scrolled": true
   },
   "outputs": [
    {
     "data": {
      "text/html": [
       "<div>\n",
       "<style scoped>\n",
       "    .dataframe tbody tr th:only-of-type {\n",
       "        vertical-align: middle;\n",
       "    }\n",
       "\n",
       "    .dataframe tbody tr th {\n",
       "        vertical-align: top;\n",
       "    }\n",
       "\n",
       "    .dataframe thead th {\n",
       "        text-align: right;\n",
       "    }\n",
       "</style>\n",
       "<table border=\"1\" class=\"dataframe\">\n",
       "  <thead>\n",
       "    <tr style=\"text-align: right;\">\n",
       "      <th></th>\n",
       "      <th>timestamp_H</th>\n",
       "      <th>Home</th>\n",
       "      <th>timestamp_O</th>\n",
       "      <th>OuterWellIndex</th>\n",
       "      <th>rewardNum</th>\n",
       "      <th>change_of_mind</th>\n",
       "      <th>CoMMaxProportion</th>\n",
       "      <th>CoM_t</th>\n",
       "      <th>CoM_arm</th>\n",
       "      <th>current</th>\n",
       "      <th>future_H</th>\n",
       "      <th>future_O</th>\n",
       "      <th>past</th>\n",
       "      <th>past_reward</th>\n",
       "    </tr>\n",
       "  </thead>\n",
       "  <tbody>\n",
       "    <tr>\n",
       "      <th>1</th>\n",
       "      <td>1.666828e+09</td>\n",
       "      <td>1.0</td>\n",
       "      <td>1.666828e+09</td>\n",
       "      <td>3.0</td>\n",
       "      <td>2.0</td>\n",
       "      <td>False</td>\n",
       "      <td>[]</td>\n",
       "      <td>[]</td>\n",
       "      <td>[]</td>\n",
       "      <td>3.0</td>\n",
       "      <td>3.0</td>\n",
       "      <td>4.0</td>\n",
       "      <td>NaN</td>\n",
       "      <td>NaN</td>\n",
       "    </tr>\n",
       "    <tr>\n",
       "      <th>2</th>\n",
       "      <td>1.666828e+09</td>\n",
       "      <td>1.0</td>\n",
       "      <td>1.666828e+09</td>\n",
       "      <td>4.0</td>\n",
       "      <td>2.0</td>\n",
       "      <td>False</td>\n",
       "      <td>[]</td>\n",
       "      <td>[]</td>\n",
       "      <td>[]</td>\n",
       "      <td>4.0</td>\n",
       "      <td>4.0</td>\n",
       "      <td>2.0</td>\n",
       "      <td>3.0</td>\n",
       "      <td>3.0</td>\n",
       "    </tr>\n",
       "    <tr>\n",
       "      <th>3</th>\n",
       "      <td>1.666828e+09</td>\n",
       "      <td>1.0</td>\n",
       "      <td>1.666828e+09</td>\n",
       "      <td>2.0</td>\n",
       "      <td>2.0</td>\n",
       "      <td>False</td>\n",
       "      <td>[]</td>\n",
       "      <td>[]</td>\n",
       "      <td>[]</td>\n",
       "      <td>2.0</td>\n",
       "      <td>2.0</td>\n",
       "      <td>1.0</td>\n",
       "      <td>4.0</td>\n",
       "      <td>4.0</td>\n",
       "    </tr>\n",
       "    <tr>\n",
       "      <th>4</th>\n",
       "      <td>1.666828e+09</td>\n",
       "      <td>1.0</td>\n",
       "      <td>1.666828e+09</td>\n",
       "      <td>1.0</td>\n",
       "      <td>2.0</td>\n",
       "      <td>False</td>\n",
       "      <td>[]</td>\n",
       "      <td>[]</td>\n",
       "      <td>[]</td>\n",
       "      <td>1.0</td>\n",
       "      <td>1.0</td>\n",
       "      <td>3.0</td>\n",
       "      <td>2.0</td>\n",
       "      <td>2.0</td>\n",
       "    </tr>\n",
       "    <tr>\n",
       "      <th>5</th>\n",
       "      <td>1.666828e+09</td>\n",
       "      <td>1.0</td>\n",
       "      <td>1.666828e+09</td>\n",
       "      <td>3.0</td>\n",
       "      <td>2.0</td>\n",
       "      <td>False</td>\n",
       "      <td>[]</td>\n",
       "      <td>[]</td>\n",
       "      <td>[]</td>\n",
       "      <td>3.0</td>\n",
       "      <td>3.0</td>\n",
       "      <td>4.0</td>\n",
       "      <td>1.0</td>\n",
       "      <td>1.0</td>\n",
       "    </tr>\n",
       "    <tr>\n",
       "      <th>6</th>\n",
       "      <td>1.666828e+09</td>\n",
       "      <td>1.0</td>\n",
       "      <td>1.666828e+09</td>\n",
       "      <td>4.0</td>\n",
       "      <td>2.0</td>\n",
       "      <td>False</td>\n",
       "      <td>[]</td>\n",
       "      <td>[]</td>\n",
       "      <td>[]</td>\n",
       "      <td>4.0</td>\n",
       "      <td>4.0</td>\n",
       "      <td>2.0</td>\n",
       "      <td>3.0</td>\n",
       "      <td>3.0</td>\n",
       "    </tr>\n",
       "    <tr>\n",
       "      <th>7</th>\n",
       "      <td>1.666828e+09</td>\n",
       "      <td>1.0</td>\n",
       "      <td>1.666828e+09</td>\n",
       "      <td>2.0</td>\n",
       "      <td>2.0</td>\n",
       "      <td>False</td>\n",
       "      <td>[]</td>\n",
       "      <td>[]</td>\n",
       "      <td>[]</td>\n",
       "      <td>2.0</td>\n",
       "      <td>2.0</td>\n",
       "      <td>1.0</td>\n",
       "      <td>4.0</td>\n",
       "      <td>4.0</td>\n",
       "    </tr>\n",
       "    <tr>\n",
       "      <th>8</th>\n",
       "      <td>1.666828e+09</td>\n",
       "      <td>1.0</td>\n",
       "      <td>1.666828e+09</td>\n",
       "      <td>1.0</td>\n",
       "      <td>2.0</td>\n",
       "      <td>False</td>\n",
       "      <td>[]</td>\n",
       "      <td>[]</td>\n",
       "      <td>[]</td>\n",
       "      <td>1.0</td>\n",
       "      <td>1.0</td>\n",
       "      <td>3.0</td>\n",
       "      <td>2.0</td>\n",
       "      <td>2.0</td>\n",
       "    </tr>\n",
       "    <tr>\n",
       "      <th>9</th>\n",
       "      <td>1.666828e+09</td>\n",
       "      <td>1.0</td>\n",
       "      <td>1.666828e+09</td>\n",
       "      <td>3.0</td>\n",
       "      <td>2.0</td>\n",
       "      <td>False</td>\n",
       "      <td>[]</td>\n",
       "      <td>[]</td>\n",
       "      <td>[]</td>\n",
       "      <td>3.0</td>\n",
       "      <td>3.0</td>\n",
       "      <td>4.0</td>\n",
       "      <td>1.0</td>\n",
       "      <td>1.0</td>\n",
       "    </tr>\n",
       "    <tr>\n",
       "      <th>10</th>\n",
       "      <td>1.666828e+09</td>\n",
       "      <td>1.0</td>\n",
       "      <td>1.666828e+09</td>\n",
       "      <td>4.0</td>\n",
       "      <td>2.0</td>\n",
       "      <td>False</td>\n",
       "      <td>[]</td>\n",
       "      <td>[]</td>\n",
       "      <td>[]</td>\n",
       "      <td>4.0</td>\n",
       "      <td>4.0</td>\n",
       "      <td>1.0</td>\n",
       "      <td>3.0</td>\n",
       "      <td>3.0</td>\n",
       "    </tr>\n",
       "    <tr>\n",
       "      <th>11</th>\n",
       "      <td>1.666828e+09</td>\n",
       "      <td>1.0</td>\n",
       "      <td>1.666828e+09</td>\n",
       "      <td>1.0</td>\n",
       "      <td>1.0</td>\n",
       "      <td>False</td>\n",
       "      <td>[]</td>\n",
       "      <td>[]</td>\n",
       "      <td>[]</td>\n",
       "      <td>1.0</td>\n",
       "      <td>1.0</td>\n",
       "      <td>3.0</td>\n",
       "      <td>4.0</td>\n",
       "      <td>4.0</td>\n",
       "    </tr>\n",
       "    <tr>\n",
       "      <th>12</th>\n",
       "      <td>1.666828e+09</td>\n",
       "      <td>1.0</td>\n",
       "      <td>1.666828e+09</td>\n",
       "      <td>3.0</td>\n",
       "      <td>1.0</td>\n",
       "      <td>False</td>\n",
       "      <td>[]</td>\n",
       "      <td>[]</td>\n",
       "      <td>[]</td>\n",
       "      <td>3.0</td>\n",
       "      <td>3.0</td>\n",
       "      <td>2.0</td>\n",
       "      <td>1.0</td>\n",
       "      <td>4.0</td>\n",
       "    </tr>\n",
       "    <tr>\n",
       "      <th>13</th>\n",
       "      <td>1.666828e+09</td>\n",
       "      <td>1.0</td>\n",
       "      <td>1.666828e+09</td>\n",
       "      <td>2.0</td>\n",
       "      <td>2.0</td>\n",
       "      <td>False</td>\n",
       "      <td>[]</td>\n",
       "      <td>[]</td>\n",
       "      <td>[]</td>\n",
       "      <td>2.0</td>\n",
       "      <td>2.0</td>\n",
       "      <td>4.0</td>\n",
       "      <td>3.0</td>\n",
       "      <td>4.0</td>\n",
       "    </tr>\n",
       "    <tr>\n",
       "      <th>14</th>\n",
       "      <td>1.666828e+09</td>\n",
       "      <td>1.0</td>\n",
       "      <td>1.666828e+09</td>\n",
       "      <td>4.0</td>\n",
       "      <td>1.0</td>\n",
       "      <td>False</td>\n",
       "      <td>[]</td>\n",
       "      <td>[]</td>\n",
       "      <td>[]</td>\n",
       "      <td>4.0</td>\n",
       "      <td>4.0</td>\n",
       "      <td>1.0</td>\n",
       "      <td>2.0</td>\n",
       "      <td>2.0</td>\n",
       "    </tr>\n",
       "    <tr>\n",
       "      <th>15</th>\n",
       "      <td>1.666828e+09</td>\n",
       "      <td>1.0</td>\n",
       "      <td>1.666828e+09</td>\n",
       "      <td>1.0</td>\n",
       "      <td>2.0</td>\n",
       "      <td>True</td>\n",
       "      <td>0.078188</td>\n",
       "      <td>[[]]</td>\n",
       "      <td>[[3, 1]]</td>\n",
       "      <td>1.0</td>\n",
       "      <td>1.0</td>\n",
       "      <td>3.0</td>\n",
       "      <td>4.0</td>\n",
       "      <td>2.0</td>\n",
       "    </tr>\n",
       "    <tr>\n",
       "      <th>16</th>\n",
       "      <td>1.666828e+09</td>\n",
       "      <td>1.0</td>\n",
       "      <td>1.666828e+09</td>\n",
       "      <td>3.0</td>\n",
       "      <td>2.0</td>\n",
       "      <td>False</td>\n",
       "      <td>[]</td>\n",
       "      <td>[]</td>\n",
       "      <td>[]</td>\n",
       "      <td>3.0</td>\n",
       "      <td>3.0</td>\n",
       "      <td>4.0</td>\n",
       "      <td>1.0</td>\n",
       "      <td>1.0</td>\n",
       "    </tr>\n",
       "    <tr>\n",
       "      <th>17</th>\n",
       "      <td>1.666828e+09</td>\n",
       "      <td>1.0</td>\n",
       "      <td>1.666828e+09</td>\n",
       "      <td>4.0</td>\n",
       "      <td>2.0</td>\n",
       "      <td>False</td>\n",
       "      <td>[]</td>\n",
       "      <td>[]</td>\n",
       "      <td>[]</td>\n",
       "      <td>4.0</td>\n",
       "      <td>4.0</td>\n",
       "      <td>2.0</td>\n",
       "      <td>3.0</td>\n",
       "      <td>3.0</td>\n",
       "    </tr>\n",
       "    <tr>\n",
       "      <th>18</th>\n",
       "      <td>1.666828e+09</td>\n",
       "      <td>1.0</td>\n",
       "      <td>1.666828e+09</td>\n",
       "      <td>2.0</td>\n",
       "      <td>2.0</td>\n",
       "      <td>False</td>\n",
       "      <td>[]</td>\n",
       "      <td>[]</td>\n",
       "      <td>[]</td>\n",
       "      <td>2.0</td>\n",
       "      <td>2.0</td>\n",
       "      <td>1.0</td>\n",
       "      <td>4.0</td>\n",
       "      <td>4.0</td>\n",
       "    </tr>\n",
       "    <tr>\n",
       "      <th>19</th>\n",
       "      <td>1.666828e+09</td>\n",
       "      <td>1.0</td>\n",
       "      <td>1.666828e+09</td>\n",
       "      <td>1.0</td>\n",
       "      <td>2.0</td>\n",
       "      <td>False</td>\n",
       "      <td>[]</td>\n",
       "      <td>[]</td>\n",
       "      <td>[]</td>\n",
       "      <td>1.0</td>\n",
       "      <td>1.0</td>\n",
       "      <td>3.0</td>\n",
       "      <td>2.0</td>\n",
       "      <td>2.0</td>\n",
       "    </tr>\n",
       "    <tr>\n",
       "      <th>20</th>\n",
       "      <td>1.666828e+09</td>\n",
       "      <td>1.0</td>\n",
       "      <td>1.666828e+09</td>\n",
       "      <td>3.0</td>\n",
       "      <td>2.0</td>\n",
       "      <td>False</td>\n",
       "      <td>[]</td>\n",
       "      <td>[]</td>\n",
       "      <td>[]</td>\n",
       "      <td>3.0</td>\n",
       "      <td>3.0</td>\n",
       "      <td>4.0</td>\n",
       "      <td>1.0</td>\n",
       "      <td>1.0</td>\n",
       "    </tr>\n",
       "    <tr>\n",
       "      <th>21</th>\n",
       "      <td>1.666828e+09</td>\n",
       "      <td>1.0</td>\n",
       "      <td>1.666828e+09</td>\n",
       "      <td>4.0</td>\n",
       "      <td>2.0</td>\n",
       "      <td>False</td>\n",
       "      <td>[]</td>\n",
       "      <td>[]</td>\n",
       "      <td>[]</td>\n",
       "      <td>4.0</td>\n",
       "      <td>4.0</td>\n",
       "      <td>1.0</td>\n",
       "      <td>3.0</td>\n",
       "      <td>3.0</td>\n",
       "    </tr>\n",
       "    <tr>\n",
       "      <th>22</th>\n",
       "      <td>1.666828e+09</td>\n",
       "      <td>1.0</td>\n",
       "      <td>1.666828e+09</td>\n",
       "      <td>1.0</td>\n",
       "      <td>1.0</td>\n",
       "      <td>False</td>\n",
       "      <td>[]</td>\n",
       "      <td>[]</td>\n",
       "      <td>[]</td>\n",
       "      <td>1.0</td>\n",
       "      <td>1.0</td>\n",
       "      <td>3.0</td>\n",
       "      <td>4.0</td>\n",
       "      <td>4.0</td>\n",
       "    </tr>\n",
       "    <tr>\n",
       "      <th>23</th>\n",
       "      <td>1.666828e+09</td>\n",
       "      <td>1.0</td>\n",
       "      <td>1.666828e+09</td>\n",
       "      <td>3.0</td>\n",
       "      <td>1.0</td>\n",
       "      <td>False</td>\n",
       "      <td>[]</td>\n",
       "      <td>[]</td>\n",
       "      <td>[]</td>\n",
       "      <td>3.0</td>\n",
       "      <td>3.0</td>\n",
       "      <td>2.0</td>\n",
       "      <td>1.0</td>\n",
       "      <td>4.0</td>\n",
       "    </tr>\n",
       "    <tr>\n",
       "      <th>24</th>\n",
       "      <td>1.666828e+09</td>\n",
       "      <td>1.0</td>\n",
       "      <td>1.666828e+09</td>\n",
       "      <td>2.0</td>\n",
       "      <td>2.0</td>\n",
       "      <td>False</td>\n",
       "      <td>[]</td>\n",
       "      <td>[]</td>\n",
       "      <td>[]</td>\n",
       "      <td>2.0</td>\n",
       "      <td>2.0</td>\n",
       "      <td>3.0</td>\n",
       "      <td>3.0</td>\n",
       "      <td>4.0</td>\n",
       "    </tr>\n",
       "    <tr>\n",
       "      <th>25</th>\n",
       "      <td>1.666828e+09</td>\n",
       "      <td>1.0</td>\n",
       "      <td>1.666828e+09</td>\n",
       "      <td>3.0</td>\n",
       "      <td>1.0</td>\n",
       "      <td>False</td>\n",
       "      <td>[]</td>\n",
       "      <td>[]</td>\n",
       "      <td>[]</td>\n",
       "      <td>3.0</td>\n",
       "      <td>3.0</td>\n",
       "      <td>4.0</td>\n",
       "      <td>2.0</td>\n",
       "      <td>2.0</td>\n",
       "    </tr>\n",
       "    <tr>\n",
       "      <th>26</th>\n",
       "      <td>1.666828e+09</td>\n",
       "      <td>1.0</td>\n",
       "      <td>1.666828e+09</td>\n",
       "      <td>4.0</td>\n",
       "      <td>1.0</td>\n",
       "      <td>False</td>\n",
       "      <td>[]</td>\n",
       "      <td>[]</td>\n",
       "      <td>[]</td>\n",
       "      <td>4.0</td>\n",
       "      <td>4.0</td>\n",
       "      <td>1.0</td>\n",
       "      <td>3.0</td>\n",
       "      <td>2.0</td>\n",
       "    </tr>\n",
       "    <tr>\n",
       "      <th>27</th>\n",
       "      <td>1.666828e+09</td>\n",
       "      <td>1.0</td>\n",
       "      <td>1.666828e+09</td>\n",
       "      <td>1.0</td>\n",
       "      <td>2.0</td>\n",
       "      <td>False</td>\n",
       "      <td>[]</td>\n",
       "      <td>[]</td>\n",
       "      <td>[]</td>\n",
       "      <td>1.0</td>\n",
       "      <td>1.0</td>\n",
       "      <td>3.0</td>\n",
       "      <td>4.0</td>\n",
       "      <td>2.0</td>\n",
       "    </tr>\n",
       "    <tr>\n",
       "      <th>28</th>\n",
       "      <td>1.666828e+09</td>\n",
       "      <td>1.0</td>\n",
       "      <td>1.666828e+09</td>\n",
       "      <td>3.0</td>\n",
       "      <td>2.0</td>\n",
       "      <td>False</td>\n",
       "      <td>[]</td>\n",
       "      <td>[]</td>\n",
       "      <td>[]</td>\n",
       "      <td>3.0</td>\n",
       "      <td>3.0</td>\n",
       "      <td>2.0</td>\n",
       "      <td>1.0</td>\n",
       "      <td>1.0</td>\n",
       "    </tr>\n",
       "    <tr>\n",
       "      <th>29</th>\n",
       "      <td>1.666828e+09</td>\n",
       "      <td>1.0</td>\n",
       "      <td>1.666828e+09</td>\n",
       "      <td>2.0</td>\n",
       "      <td>1.0</td>\n",
       "      <td>False</td>\n",
       "      <td>[]</td>\n",
       "      <td>[]</td>\n",
       "      <td>[]</td>\n",
       "      <td>2.0</td>\n",
       "      <td>2.0</td>\n",
       "      <td>4.0</td>\n",
       "      <td>3.0</td>\n",
       "      <td>3.0</td>\n",
       "    </tr>\n",
       "    <tr>\n",
       "      <th>30</th>\n",
       "      <td>1.666828e+09</td>\n",
       "      <td>1.0</td>\n",
       "      <td>1.666828e+09</td>\n",
       "      <td>4.0</td>\n",
       "      <td>2.0</td>\n",
       "      <td>False</td>\n",
       "      <td>[]</td>\n",
       "      <td>[]</td>\n",
       "      <td>[]</td>\n",
       "      <td>4.0</td>\n",
       "      <td>4.0</td>\n",
       "      <td>2.0</td>\n",
       "      <td>2.0</td>\n",
       "      <td>3.0</td>\n",
       "    </tr>\n",
       "    <tr>\n",
       "      <th>31</th>\n",
       "      <td>1.666828e+09</td>\n",
       "      <td>1.0</td>\n",
       "      <td>1.666828e+09</td>\n",
       "      <td>2.0</td>\n",
       "      <td>2.0</td>\n",
       "      <td>False</td>\n",
       "      <td>[]</td>\n",
       "      <td>[]</td>\n",
       "      <td>[]</td>\n",
       "      <td>2.0</td>\n",
       "      <td>2.0</td>\n",
       "      <td>1.0</td>\n",
       "      <td>4.0</td>\n",
       "      <td>4.0</td>\n",
       "    </tr>\n",
       "    <tr>\n",
       "      <th>32</th>\n",
       "      <td>1.666828e+09</td>\n",
       "      <td>1.0</td>\n",
       "      <td>1.666828e+09</td>\n",
       "      <td>1.0</td>\n",
       "      <td>2.0</td>\n",
       "      <td>False</td>\n",
       "      <td>[]</td>\n",
       "      <td>[]</td>\n",
       "      <td>[]</td>\n",
       "      <td>1.0</td>\n",
       "      <td>1.0</td>\n",
       "      <td>3.0</td>\n",
       "      <td>2.0</td>\n",
       "      <td>2.0</td>\n",
       "    </tr>\n",
       "    <tr>\n",
       "      <th>33</th>\n",
       "      <td>1.666828e+09</td>\n",
       "      <td>1.0</td>\n",
       "      <td>1.666828e+09</td>\n",
       "      <td>3.0</td>\n",
       "      <td>2.0</td>\n",
       "      <td>False</td>\n",
       "      <td>[]</td>\n",
       "      <td>[]</td>\n",
       "      <td>[]</td>\n",
       "      <td>3.0</td>\n",
       "      <td>3.0</td>\n",
       "      <td>4.0</td>\n",
       "      <td>1.0</td>\n",
       "      <td>1.0</td>\n",
       "    </tr>\n",
       "    <tr>\n",
       "      <th>34</th>\n",
       "      <td>1.666828e+09</td>\n",
       "      <td>1.0</td>\n",
       "      <td>1.666828e+09</td>\n",
       "      <td>4.0</td>\n",
       "      <td>2.0</td>\n",
       "      <td>False</td>\n",
       "      <td>[]</td>\n",
       "      <td>[]</td>\n",
       "      <td>[]</td>\n",
       "      <td>4.0</td>\n",
       "      <td>4.0</td>\n",
       "      <td>2.0</td>\n",
       "      <td>3.0</td>\n",
       "      <td>3.0</td>\n",
       "    </tr>\n",
       "    <tr>\n",
       "      <th>35</th>\n",
       "      <td>1.666828e+09</td>\n",
       "      <td>1.0</td>\n",
       "      <td>1.666828e+09</td>\n",
       "      <td>2.0</td>\n",
       "      <td>2.0</td>\n",
       "      <td>False</td>\n",
       "      <td>[]</td>\n",
       "      <td>[]</td>\n",
       "      <td>[]</td>\n",
       "      <td>2.0</td>\n",
       "      <td>2.0</td>\n",
       "      <td>3.0</td>\n",
       "      <td>4.0</td>\n",
       "      <td>4.0</td>\n",
       "    </tr>\n",
       "    <tr>\n",
       "      <th>36</th>\n",
       "      <td>1.666828e+09</td>\n",
       "      <td>1.0</td>\n",
       "      <td>1.666828e+09</td>\n",
       "      <td>3.0</td>\n",
       "      <td>1.0</td>\n",
       "      <td>False</td>\n",
       "      <td>[]</td>\n",
       "      <td>[]</td>\n",
       "      <td>[]</td>\n",
       "      <td>3.0</td>\n",
       "      <td>3.0</td>\n",
       "      <td>1.0</td>\n",
       "      <td>2.0</td>\n",
       "      <td>2.0</td>\n",
       "    </tr>\n",
       "    <tr>\n",
       "      <th>37</th>\n",
       "      <td>1.666828e+09</td>\n",
       "      <td>1.0</td>\n",
       "      <td>1.666828e+09</td>\n",
       "      <td>1.0</td>\n",
       "      <td>2.0</td>\n",
       "      <td>False</td>\n",
       "      <td>[]</td>\n",
       "      <td>[]</td>\n",
       "      <td>[]</td>\n",
       "      <td>1.0</td>\n",
       "      <td>1.0</td>\n",
       "      <td>3.0</td>\n",
       "      <td>3.0</td>\n",
       "      <td>2.0</td>\n",
       "    </tr>\n",
       "    <tr>\n",
       "      <th>38</th>\n",
       "      <td>1.666828e+09</td>\n",
       "      <td>1.0</td>\n",
       "      <td>1.666828e+09</td>\n",
       "      <td>3.0</td>\n",
       "      <td>2.0</td>\n",
       "      <td>False</td>\n",
       "      <td>[]</td>\n",
       "      <td>[]</td>\n",
       "      <td>[]</td>\n",
       "      <td>3.0</td>\n",
       "      <td>3.0</td>\n",
       "      <td>4.0</td>\n",
       "      <td>1.0</td>\n",
       "      <td>1.0</td>\n",
       "    </tr>\n",
       "    <tr>\n",
       "      <th>39</th>\n",
       "      <td>1.666828e+09</td>\n",
       "      <td>1.0</td>\n",
       "      <td>1.666828e+09</td>\n",
       "      <td>4.0</td>\n",
       "      <td>2.0</td>\n",
       "      <td>False</td>\n",
       "      <td>[]</td>\n",
       "      <td>[]</td>\n",
       "      <td>[]</td>\n",
       "      <td>4.0</td>\n",
       "      <td>4.0</td>\n",
       "      <td>2.0</td>\n",
       "      <td>3.0</td>\n",
       "      <td>3.0</td>\n",
       "    </tr>\n",
       "    <tr>\n",
       "      <th>40</th>\n",
       "      <td>1.666828e+09</td>\n",
       "      <td>1.0</td>\n",
       "      <td>1.666829e+09</td>\n",
       "      <td>2.0</td>\n",
       "      <td>2.0</td>\n",
       "      <td>False</td>\n",
       "      <td>[]</td>\n",
       "      <td>[]</td>\n",
       "      <td>[]</td>\n",
       "      <td>2.0</td>\n",
       "      <td>2.0</td>\n",
       "      <td>3.0</td>\n",
       "      <td>4.0</td>\n",
       "      <td>4.0</td>\n",
       "    </tr>\n",
       "  </tbody>\n",
       "</table>\n",
       "</div>"
      ],
      "text/plain": [
       "     timestamp_H  Home   timestamp_O  OuterWellIndex  rewardNum  \\\n",
       "1   1.666828e+09   1.0  1.666828e+09             3.0        2.0   \n",
       "2   1.666828e+09   1.0  1.666828e+09             4.0        2.0   \n",
       "3   1.666828e+09   1.0  1.666828e+09             2.0        2.0   \n",
       "4   1.666828e+09   1.0  1.666828e+09             1.0        2.0   \n",
       "5   1.666828e+09   1.0  1.666828e+09             3.0        2.0   \n",
       "6   1.666828e+09   1.0  1.666828e+09             4.0        2.0   \n",
       "7   1.666828e+09   1.0  1.666828e+09             2.0        2.0   \n",
       "8   1.666828e+09   1.0  1.666828e+09             1.0        2.0   \n",
       "9   1.666828e+09   1.0  1.666828e+09             3.0        2.0   \n",
       "10  1.666828e+09   1.0  1.666828e+09             4.0        2.0   \n",
       "11  1.666828e+09   1.0  1.666828e+09             1.0        1.0   \n",
       "12  1.666828e+09   1.0  1.666828e+09             3.0        1.0   \n",
       "13  1.666828e+09   1.0  1.666828e+09             2.0        2.0   \n",
       "14  1.666828e+09   1.0  1.666828e+09             4.0        1.0   \n",
       "15  1.666828e+09   1.0  1.666828e+09             1.0        2.0   \n",
       "16  1.666828e+09   1.0  1.666828e+09             3.0        2.0   \n",
       "17  1.666828e+09   1.0  1.666828e+09             4.0        2.0   \n",
       "18  1.666828e+09   1.0  1.666828e+09             2.0        2.0   \n",
       "19  1.666828e+09   1.0  1.666828e+09             1.0        2.0   \n",
       "20  1.666828e+09   1.0  1.666828e+09             3.0        2.0   \n",
       "21  1.666828e+09   1.0  1.666828e+09             4.0        2.0   \n",
       "22  1.666828e+09   1.0  1.666828e+09             1.0        1.0   \n",
       "23  1.666828e+09   1.0  1.666828e+09             3.0        1.0   \n",
       "24  1.666828e+09   1.0  1.666828e+09             2.0        2.0   \n",
       "25  1.666828e+09   1.0  1.666828e+09             3.0        1.0   \n",
       "26  1.666828e+09   1.0  1.666828e+09             4.0        1.0   \n",
       "27  1.666828e+09   1.0  1.666828e+09             1.0        2.0   \n",
       "28  1.666828e+09   1.0  1.666828e+09             3.0        2.0   \n",
       "29  1.666828e+09   1.0  1.666828e+09             2.0        1.0   \n",
       "30  1.666828e+09   1.0  1.666828e+09             4.0        2.0   \n",
       "31  1.666828e+09   1.0  1.666828e+09             2.0        2.0   \n",
       "32  1.666828e+09   1.0  1.666828e+09             1.0        2.0   \n",
       "33  1.666828e+09   1.0  1.666828e+09             3.0        2.0   \n",
       "34  1.666828e+09   1.0  1.666828e+09             4.0        2.0   \n",
       "35  1.666828e+09   1.0  1.666828e+09             2.0        2.0   \n",
       "36  1.666828e+09   1.0  1.666828e+09             3.0        1.0   \n",
       "37  1.666828e+09   1.0  1.666828e+09             1.0        2.0   \n",
       "38  1.666828e+09   1.0  1.666828e+09             3.0        2.0   \n",
       "39  1.666828e+09   1.0  1.666828e+09             4.0        2.0   \n",
       "40  1.666828e+09   1.0  1.666829e+09             2.0        2.0   \n",
       "\n",
       "    change_of_mind CoMMaxProportion CoM_t   CoM_arm  current  future_H  \\\n",
       "1            False               []    []        []      3.0       3.0   \n",
       "2            False               []    []        []      4.0       4.0   \n",
       "3            False               []    []        []      2.0       2.0   \n",
       "4            False               []    []        []      1.0       1.0   \n",
       "5            False               []    []        []      3.0       3.0   \n",
       "6            False               []    []        []      4.0       4.0   \n",
       "7            False               []    []        []      2.0       2.0   \n",
       "8            False               []    []        []      1.0       1.0   \n",
       "9            False               []    []        []      3.0       3.0   \n",
       "10           False               []    []        []      4.0       4.0   \n",
       "11           False               []    []        []      1.0       1.0   \n",
       "12           False               []    []        []      3.0       3.0   \n",
       "13           False               []    []        []      2.0       2.0   \n",
       "14           False               []    []        []      4.0       4.0   \n",
       "15            True         0.078188  [[]]  [[3, 1]]      1.0       1.0   \n",
       "16           False               []    []        []      3.0       3.0   \n",
       "17           False               []    []        []      4.0       4.0   \n",
       "18           False               []    []        []      2.0       2.0   \n",
       "19           False               []    []        []      1.0       1.0   \n",
       "20           False               []    []        []      3.0       3.0   \n",
       "21           False               []    []        []      4.0       4.0   \n",
       "22           False               []    []        []      1.0       1.0   \n",
       "23           False               []    []        []      3.0       3.0   \n",
       "24           False               []    []        []      2.0       2.0   \n",
       "25           False               []    []        []      3.0       3.0   \n",
       "26           False               []    []        []      4.0       4.0   \n",
       "27           False               []    []        []      1.0       1.0   \n",
       "28           False               []    []        []      3.0       3.0   \n",
       "29           False               []    []        []      2.0       2.0   \n",
       "30           False               []    []        []      4.0       4.0   \n",
       "31           False               []    []        []      2.0       2.0   \n",
       "32           False               []    []        []      1.0       1.0   \n",
       "33           False               []    []        []      3.0       3.0   \n",
       "34           False               []    []        []      4.0       4.0   \n",
       "35           False               []    []        []      2.0       2.0   \n",
       "36           False               []    []        []      3.0       3.0   \n",
       "37           False               []    []        []      1.0       1.0   \n",
       "38           False               []    []        []      3.0       3.0   \n",
       "39           False               []    []        []      4.0       4.0   \n",
       "40           False               []    []        []      2.0       2.0   \n",
       "\n",
       "    future_O  past  past_reward  \n",
       "1        4.0   NaN          NaN  \n",
       "2        2.0   3.0          3.0  \n",
       "3        1.0   4.0          4.0  \n",
       "4        3.0   2.0          2.0  \n",
       "5        4.0   1.0          1.0  \n",
       "6        2.0   3.0          3.0  \n",
       "7        1.0   4.0          4.0  \n",
       "8        3.0   2.0          2.0  \n",
       "9        4.0   1.0          1.0  \n",
       "10       1.0   3.0          3.0  \n",
       "11       3.0   4.0          4.0  \n",
       "12       2.0   1.0          4.0  \n",
       "13       4.0   3.0          4.0  \n",
       "14       1.0   2.0          2.0  \n",
       "15       3.0   4.0          2.0  \n",
       "16       4.0   1.0          1.0  \n",
       "17       2.0   3.0          3.0  \n",
       "18       1.0   4.0          4.0  \n",
       "19       3.0   2.0          2.0  \n",
       "20       4.0   1.0          1.0  \n",
       "21       1.0   3.0          3.0  \n",
       "22       3.0   4.0          4.0  \n",
       "23       2.0   1.0          4.0  \n",
       "24       3.0   3.0          4.0  \n",
       "25       4.0   2.0          2.0  \n",
       "26       1.0   3.0          2.0  \n",
       "27       3.0   4.0          2.0  \n",
       "28       2.0   1.0          1.0  \n",
       "29       4.0   3.0          3.0  \n",
       "30       2.0   2.0          3.0  \n",
       "31       1.0   4.0          4.0  \n",
       "32       3.0   2.0          2.0  \n",
       "33       4.0   1.0          1.0  \n",
       "34       2.0   3.0          3.0  \n",
       "35       3.0   4.0          4.0  \n",
       "36       1.0   2.0          2.0  \n",
       "37       3.0   3.0          2.0  \n",
       "38       4.0   1.0          1.0  \n",
       "39       2.0   3.0          3.0  \n",
       "40       3.0   4.0          4.0  "
      ]
     },
     "execution_count": 491,
     "metadata": {},
     "output_type": "execute_result"
    }
   ],
   "source": [
    "log_df[:40]"
   ]
  },
  {
   "cell_type": "markdown",
   "id": "502ac0a0-5c42-4712-bbae-c2d5424ca895",
   "metadata": {},
   "source": [
    "### First, paired comparisons.\n",
    "Limited data points"
   ]
  },
  {
   "cell_type": "code",
   "execution_count": 494,
   "id": "166b9a5b-328a-43ad-abc9-73764e6007ec",
   "metadata": {
    "scrolled": true
   },
   "outputs": [
    {
     "name": "stdout",
     "output_type": "stream",
     "text": [
      "lewis20240105_.nwb 02_Rev2Session1\n",
      "trials_long_theta [[20, (2, 3)], [50, (4, 1)], [62, (3, 2)], [66, (1, 2)], [70, (4, 2)], [70, (4, 1)], [71, (3, 1)], [88, (4, 2)], [95, (1, 2)], [98, (3, 1)], [98, (3, 1)]]\n",
      "trials_short_theta [[5, (3, 4)], [19, (1, 3)], [25, (2, 4)], [31, (2, 3)], [34, (3, 2)], [42, (4, 1)], [46, (4, 2)], [46, (4, 1)], [50, (4, 3)], [61, (1, 3)], [61, (1, 2)], [65, (4, 1)], [65, (4, 3)], [65, (4, 2)], [70, (4, 1)], [80, (3, 1)], [80, (3, 2)], [95, (1, 4)], [95, (1, 1)], [101, (4, 3)]]\n",
      "transitions [[1 2]\n",
      " [2 3]\n",
      " [3 1]\n",
      " [3 2]\n",
      " [4 1]\n",
      " [4 2]]\n",
      "lewis20240105_.nwb 04_Rev2Session2\n",
      "trials_long_theta [[9, (3, 1)], [16, (4, 1)], [22, (4, 2)], [30, (2, 1)], [81, (4, 1)], [81, (4, 1)], [81, (4, 1)]]\n",
      "trials_short_theta [[5, (4, 1)], [6, (3, 2)], [8, (2, 4)], [13, (3, 2)], [19, (2, 4)], [26, (4, 1)], [30, (2, 3)], [35, (1, 2)], [40, (4, 2)], [43, (1, 4)], [43, (1, 3)], [57, (1, 3)], [68, (1, 4)], [76, (2, 3)], [77, (4, 1)], [81, (4, 3)], [81, (4, 2)]]\n",
      "transitions [[2 1]\n",
      " [3 1]\n",
      " [4 1]\n",
      " [4 2]]\n",
      "lewis20240105_.nwb 06_Rev2Session3\n",
      "trials_long_theta [[12, (3, 1)], [15, (1, 4)], [21, (1, 2)], [22, (4, 3)], [29, (3, 4)], [29, (3, 2)], [36, (2, 1)], [36, (2, 1)], [36, (2, 1)], [36, (2, 1)], [38, (4, 2)], [38, (4, 2)], [38, (4, 2)], [51, (2, 2)], [51, (2, 2)], [61, (3, 2)]]\n",
      "trials_short_theta [[7, (3, 1)], [9, (1, 3)], [16, (2, 3)], [16, (2, 1)], [17, (4, 2)], [25, (3, 2)], [27, (1, 3)], [31, (2, 3)], [33, (1, 2)], [36, (2, 1)], [37, (3, 2)], [44, (3, 2)], [49, (4, 2)], [55, (2, 3)], [56, (4, 3)], [56, (4, 2)], [61, (3, 4)], [70, (2, 4)], [70, (2, 3)]]\n",
      "transitions [[1 2]\n",
      " [1 4]\n",
      " [2 1]\n",
      " [2 2]\n",
      " [3 1]\n",
      " [3 2]\n",
      " [3 4]\n",
      " [4 2]\n",
      " [4 3]]\n",
      "lewis20240105_.nwb 08_Rev2Session4\n",
      "trials_long_theta [[16, (2, 4)], [20, (4, 3)], [27, (3, 2)], [41, (3, 2)]]\n",
      "trials_short_theta [[15, (1, 3)], [16, (2, 3)], [16, (2, 3)], [16, (2, 2)], [20, (4, 2)], [20, (4, 2)], [20, (4, 4)], [22, (4, 2)]]\n",
      "transitions [[2 4]\n",
      " [3 2]\n",
      " [4 3]]\n",
      "lewis20240105_.nwb 10_Rev2Session5\n",
      "trials_long_theta []\n",
      "trials_short_theta [[9, (1, 3)]]\n",
      "transitions []\n",
      "lewis20240106_.nwb 02_Rev2Session1\n",
      "trials_long_theta [[14, (1, 4)], [15, (3, 1)], [30, (3, 2)], [39, (3, 4)]]\n",
      "trials_short_theta [[6, (3, 2)], [6, (3, 1)], [10, (1, 2)], [15, (3, 1)], [15, (3, 1)], [31, (1, 3)], [39, (3, 1)], [42, (4, 2)], [43, (3, 1)], [43, (3, 1)], [60, (1, 3)], [69, (3, 1)], [69, (3, 1)], [69, (3, 2)]]\n",
      "transitions [[1 4]\n",
      " [3 1]\n",
      " [3 2]\n",
      " [3 4]]\n",
      "lewis20240106_.nwb 04_Rev2Session2\n",
      "trials_long_theta [[16, (3, 1)], [34, (1, 3)], [47, (1, 3)], [71, (1, 4)], [83, (4, 2)]]\n",
      "trials_short_theta [[20, (3, 1)], [20, (3, 1)], [20, (3, 2)], [20, (3, 3)], [29, (4, 2)], [48, (2, 3)], [58, (1, 1)], [67, (1, 3)], [74, (4, 1)], [74, (4, 2)], [75, (1, 3)]]\n",
      "transitions [[1 3]\n",
      " [1 4]\n",
      " [3 1]\n",
      " [4 2]]\n",
      "lewis20240106_.nwb 06_Rev2Session3\n",
      "trials_long_theta [[25, (3, 2)], [25, (3, 4)], [25, (3, 4)], [36, (2, 3)], [44, (1, 3)]]\n",
      "trials_short_theta [[16, (2, 4)], [17, (3, 4)], [21, (3, 1)], [25, (3, 4)], [26, (1, 3)]]\n",
      "transitions [[1 3]\n",
      " [2 3]\n",
      " [3 2]\n",
      " [3 4]]\n",
      "lewis20240106_.nwb 08_Rev2Session4\n",
      "trials_long_theta [[13, (4, 1)], [14, (3, 2)]]\n",
      "trials_short_theta [[18, (2, 4)], [21, (1, 2)], [21, (1, 2)]]\n",
      "transitions [[3 2]\n",
      " [4 1]]\n",
      "lewis20240107_.nwb 02_Rev2Session1\n",
      "trials_long_theta [[36, (3, 1)], [46, (4, 1)], [47, (2, 4)], [47, (2, 4)], [50, (2, 1)]]\n",
      "trials_short_theta [[27, (4, 2)], [28, (3, 2)], [30, (2, 3)], [32, (4, 1)], [47, (2, 3)], [47, (2, 2)], [50, (2, 3)], [65, (2, 3)], [67, (4, 1)], [68, (3, 2)], [74, (4, 1)]]\n",
      "transitions [[2 1]\n",
      " [2 4]\n",
      " [3 1]\n",
      " [4 1]]\n",
      "lewis20240107_.nwb 04_Rev2Session2\n",
      "trials_long_theta [[27, (4, 2)]]\n",
      "trials_short_theta [[7, (3, 2)], [13, (3, 2)], [16, (3, 1)], [20, (1, 4)], [20, (1, 3)], [24, (3, 1)], [26, (1, 2)], [42, (4, 1)], [42, (4, 1)]]\n",
      "transitions [[4 2]]\n",
      "lewis20240107_.nwb 06_Rev2Session3\n",
      "trials_long_theta [[23, (1, 2)], [57, (4, 1)]]\n",
      "trials_short_theta [[11, (2, 1)], [11, (2, 1)], [12, (3, 2)], [37, (4, 3)], [38, (2, 1)], [38, (2, 1)], [41, (1, 3)], [42, (2, 3)], [42, (2, 1)], [47, (4, 1)], [61, (1, 3)], [61, (1, 2)], [66, (4, 3)]]\n",
      "transitions [[1 2]\n",
      " [4 1]]\n",
      "lewis20240107_.nwb 08_Rev2Session4\n",
      "trials_long_theta [[10, (2, 3)], [27, (4, 1)], [27, (4, 1)], [33, (3, 1)], [41, (3, 4)], [49, (4, 1)], [50, (3, 4)]]\n",
      "trials_short_theta [[10, (2, 3)], [10, (2, 3)], [10, (2, 3)], [17, (2, 1)], [27, (4, 1)], [41, (3, 4)], [41, (3, 4)], [45, (4, 1)]]\n",
      "transitions [[2 3]\n",
      " [3 1]\n",
      " [3 4]\n",
      " [4 1]]\n",
      "lewis20240107_.nwb 10_Rev2Session5\n",
      "trials_long_theta [[10, (4, 1)], [38, (4, 1)]]\n",
      "trials_short_theta [[7, (3, 2)], [7, (3, 2)], [22, (3, 2)]]\n",
      "transitions [[4 1]]\n",
      "lewis20240108_.nwb 02_Rev2Session1\n",
      "trials_long_theta [[44, (3, 4)], [48, (4, 1)], [52, (1, 4)], [60, (4, 2)], [60, (4, 1)], [65, (3, 2)], [67, (4, 3)], [67, (4, 1)]]\n",
      "trials_short_theta [[5, (4, 1)], [20, (3, 2)], [43, (4, 1)], [48, (4, 2)], [71, (1, 4)], [73, (4, 1)]]\n",
      "transitions [[1 4]\n",
      " [3 2]\n",
      " [3 4]\n",
      " [4 1]\n",
      " [4 2]\n",
      " [4 3]]\n",
      "lewis20240108_.nwb 04_Rev2Session2\n",
      "trials_long_theta [[10, (1, 3)], [15, (3, 2)], [18, (3, 1)], [21, (3, 4)], [21, (3, 4)], [32, (1, 3)], [51, (1, 3)], [53, (4, 1)], [54, (3, 4)], [58, (3, 1)], [61, (3, 4)], [61, (3, 2)], [69, (1, 4)]]\n",
      "trials_short_theta [[6, (1, 2)], [16, (1, 4)], [16, (1, 4)], [16, (1, 3)], [18, (3, 2)], [22, (2, 3)], [40, (1, 3)], [42, (2, 4)], [42, (2, 2)], [62, (1, 3)], [73, (3, 1)], [75, (4, 3)], [76, (1, 3)]]\n",
      "transitions [[1 3]\n",
      " [1 4]\n",
      " [3 1]\n",
      " [3 2]\n",
      " [3 4]\n",
      " [4 1]]\n",
      "lewis20240108_.nwb 06_Rev2Session3\n",
      "trials_long_theta [[23, (2, 4)], [24, (1, 3)], [39, (2, 4)], [43, (2, 1)], [46, (1, 2)]]\n",
      "trials_short_theta [[12, (2, 3)], [13, (1, 4)], [14, (3, 1)], [14, (3, 2)], [26, (2, 1)], [39, (2, 2)], [39, (2, 2)], [47, (4, 1)]]\n",
      "transitions [[1 2]\n",
      " [1 3]\n",
      " [2 1]\n",
      " [2 4]]\n",
      "lewis20240108_.nwb 08_Rev2Session4\n",
      "trials_long_theta [[31, (4, 3)], [31, (4, 3)], [31, (4, 3)], [32, (2, 1)], [32, (2, 1)], [32, (2, 2)], [35, (3, 4)], [44, (4, 1)], [44, (4, 1)], [51, (3, 4)]]\n",
      "trials_short_theta [[8, (4, 1)], [19, (4, 1)], [23, (4, 1)], [28, (3, 4)], [31, (4, 4)], [32, (2, 4)], [40, (4, 1)], [53, (1, 1)], [53, (1, 1)]]\n",
      "transitions [[2 1]\n",
      " [2 2]\n",
      " [3 4]\n",
      " [4 1]\n",
      " [4 3]]\n",
      "lewis20240109_.nwb 02_Rev2Session1\n",
      "trials_long_theta [[18, (4, 1)], [24, (2, 1)], [24, (2, 1)], [55, (3, 2)], [63, (3, 2)], [64, (1, 4)], [81, (4, 1)]]\n",
      "trials_short_theta [[18, (4, 1)], [18, (4, 1)], [19, (2, 4)], [46, (4, 1)], [55, (3, 1)], [55, (3, 4)], [65, (2, 3)], [68, (3, 2)], [68, (3, 1)], [75, (1, 3)]]\n",
      "transitions [[1 4]\n",
      " [2 1]\n",
      " [3 2]\n",
      " [4 1]]\n",
      "lewis20240109_.nwb 04_Rev2Session2\n",
      "trials_long_theta [[11, (1, 3)], [13, (4, 1)], [39, (1, 2)], [44, (3, 1)], [45, (4, 2)], [53, (2, 4)], [53, (2, 2)], [63, (3, 2)]]\n",
      "trials_short_theta [[6, (1, 2)], [6, (1, 3)], [13, (4, 2)], [14, (3, 2)], [28, (2, 4)], [33, (2, 4)], [39, (1, 3)], [41, (1, 3)], [41, (1, 3)], [43, (2, 3)], [43, (2, 1)], [62, (2, 1)], [63, (3, 1)], [63, (3, 2)], [66, (2, 4)], [76, (2, 4)], [76, (2, 4)]]\n",
      "transitions [[1 2]\n",
      " [1 3]\n",
      " [2 2]\n",
      " [2 4]\n",
      " [3 1]\n",
      " [3 2]\n",
      " [4 1]\n",
      " [4 2]]\n",
      "lewis20240109_.nwb 06_Rev2Session3\n",
      "trials_long_theta [[9, (3, 4)], [14, (3, 2)], [23, (2, 1)], [24, (4, 2)], [28, (4, 1)]]\n",
      "trials_short_theta [[14, (3, 1)], [24, (4, 2)], [24, (4, 4)], [33, (3, 1)], [52, (2, 1)], [64, (3, 1)], [69, (1, 3)]]\n",
      "transitions [[2 1]\n",
      " [3 2]\n",
      " [3 4]\n",
      " [4 1]\n",
      " [4 2]]\n",
      "lewis20240109_.nwb 08_Rev2Session4\n",
      "trials_long_theta [[3, (3, 4)], [20, (4, 1)]]\n",
      "trials_short_theta [[3, (3, 4)], [3, (3, 4)], [14, (1, 3)], [16, (4, 1)], [16, (4, 1)], [18, (1, 3)], [21, (3, 2)], [26, (1, 3)]]\n",
      "transitions [[3 4]\n",
      " [4 1]]\n",
      "lewis20240110_.nwb 02_Rev2Session1\n",
      "trials_long_theta [[11, (3, 1)], [15, (3, 4)], [16, (2, 3)], [19, (4, 1)], [25, (2, 1)], [25, (2, 2)], [48, (1, 3)], [64, (1, 4)], [64, (1, 4)], [65, (2, 3)], [81, (4, 2)]]\n",
      "trials_short_theta [[25, (2, 3)], [29, (2, 4)], [29, (2, 3)], [34, (4, 1)], [40, (1, 3)], [65, (2, 1)], [66, (4, 2)], [68, (3, 2)], [68, (3, 4)], [81, (4, 1)]]\n",
      "transitions [[1 3]\n",
      " [1 4]\n",
      " [2 1]\n",
      " [2 2]\n",
      " [2 3]\n",
      " [3 1]\n",
      " [3 4]\n",
      " [4 1]\n",
      " [4 2]]\n",
      "lewis20240110_.nwb 04_Rev2Session2\n",
      "trials_long_theta [[12, (3, 2)], [15, (4, 1)], [17, (4, 1)], [22, (3, 2)], [24, (4, 3)], [29, (1, 4)], [45, (2, 3)], [60, (4, 3)], [65, (1, 4)], [65, (1, 4)], [73, (1, 4)]]\n",
      "trials_short_theta [[12, (3, 4)], [12, (3, 1)], [12, (3, 3)], [18, (3, 2)], [24, (4, 2)], [26, (4, 1)], [26, (4, 2)], [30, (2, 3)], [35, (2, 3)], [45, (2, 3)], [45, (2, 3)], [45, (2, 3)], [47, (1, 2)], [53, (3, 4)], [58, (2, 3)], [66, (2, 3)]]\n",
      "transitions [[1 4]\n",
      " [2 3]\n",
      " [3 2]\n",
      " [4 1]\n",
      " [4 3]]\n",
      "lewis20240110_.nwb 06_Rev2Session3\n",
      "trials_long_theta [[10, (1, 4)], [12, (4, 2)], [16, (4, 2)], [16, (4, 2)], [16, (4, 1)], [35, (1, 4)], [45, (2, 3)], [46, (4, 2)]]\n",
      "trials_short_theta [[11, (2, 3)], [16, (4, 3)], [20, (4, 3)], [24, (3, 4)], [51, (4, 3)]]\n",
      "transitions [[1 4]\n",
      " [2 3]\n",
      " [4 1]\n",
      " [4 2]]\n",
      "lewis20240110_.nwb 08_Rev2Session4\n",
      "trials_long_theta []\n",
      "trials_short_theta [[15, (2, 3)], [16, (4, 4)]]\n",
      "transitions []\n",
      "lewis20240110_.nwb 10_Rev2Session5\n",
      "trials_long_theta [[18, (1, 4)]]\n",
      "trials_short_theta [[10, (4, 4)], [13, (1, 2)], [35, (4, 1)]]\n",
      "transitions [[1 4]]\n"
     ]
    }
   ],
   "source": [
    "paired = True\n",
    "type = 1\n",
    "\n",
    "diff_theta_transition_day = {}\n",
    "diff_nontheta_transition_day = {}\n",
    "\n",
    "for day in dates_to_plot:\n",
    "    nwb_file_name = animal.lower() + day + '.nwb'\n",
    "    nwb_copy_file_name = get_nwb_copy_filename(nwb_file_name)\n",
    "    session_interval, position_interval = runSessionNames(nwb_copy_file_name)\n",
    "\n",
    "    diff_theta_transition_session = []\n",
    "    diff_nontheta_transition_session = []\n",
    "    for ind in range(len(session_interval)):\n",
    "        session_name = session_interval[ind]\n",
    "        position_name = position_interval[ind]\n",
    "        diff_theta_transition_session_, diff_nontheta_transition_session_ = find_delta_t(\n",
    "            nwb_copy_file_name, session_name, proportion, replay_trials, replay_trials_non, paired, type = type) #replay_trials)\n",
    "        \n",
    "        diff_theta_transition_session.append(diff_theta_transition_session_)\n",
    "        diff_nontheta_transition_session.append(diff_nontheta_transition_session_)\n",
    "\n",
    "    diff_theta_transition_day[day] = diff_theta_transition_session\n",
    "    diff_nontheta_transition_day[day] = diff_nontheta_transition_session"
   ]
  },
  {
   "cell_type": "code",
   "execution_count": 495,
   "id": "96893514-b8ba-4f07-8617-4113f6dec58a",
   "metadata": {},
   "outputs": [
    {
     "data": {
      "text/plain": [
       "[Text(1, 0, 'theta'), Text(2, 0, 'nontheta')]"
      ]
     },
     "execution_count": 495,
     "metadata": {},
     "output_type": "execute_result"
    },
    {
     "data": {
      "image/png": "[encoded data removed]",
      "text/plain": [
       "<Figure size 300x300 with 1 Axes>"
      ]
     },
     "metadata": {},
     "output_type": "display_data"
    }
   ],
   "source": [
    "dates_to_plot = list(replay_trials[animal].keys())\n",
    "transitions = [(0,1),(0,2),(0,3),\n",
    "               (1,0),(1,2),(1,3),\n",
    "               (2,0),(2,1),(2,3),\n",
    "               (3,0),(3,1),(3,2)]\n",
    "\n",
    "# plotting stuff\n",
    "cmap = plt.cm.jet\n",
    "norm = plt.Normalize(vmin=0, vmax=len(dates_to_plot))\n",
    "\n",
    "fig,axes = plt.subplots(1,1,figsize = (3,3),sharex = True, sharey = True)\n",
    "\n",
    "d_ind = 0\n",
    "sample_theta = []\n",
    "sample_nontheta = []\n",
    "for d in diff_theta_transition_day.keys():\n",
    "    diff_theta_day = diff_theta_transition_day[d]\n",
    "    diff_nontheta_day = diff_nontheta_transition_day[d]\n",
    "\n",
    "    for diff_theta_ind in range(len(diff_theta_day)):\n",
    "        diff_theta = diff_theta_day[diff_theta_ind]\n",
    "        diff_nontheta = diff_nontheta_day[diff_theta_ind]\n",
    "        \n",
    "        for transition in diff_theta.keys():\n",
    "            #axe_i, axe_j = transition #int(np.floor(t_ind/3)), int(t_ind % 3)\n",
    "            axes.plot([1,2], [diff_theta[transition], diff_nontheta[transition]],\n",
    "                                   color = cmap(norm(d_ind)), alpha = 0.5)\n",
    "            for delta_t in diff_theta[transition]:\n",
    "                sample_theta.append(delta_t)\n",
    "            for delta_t in diff_nontheta[transition]:\n",
    "                sample_nontheta.append(delta_t)\n",
    "    d_ind += 1\n",
    "\n",
    "res = permutation_test((sample_theta, sample_nontheta), statistic, permutation_type=\"samples\",vectorized=True,\n",
    "                       n_resamples=10000, alternative='greater')\n",
    "\n",
    "axes.set_ylabel(\"# of trials in between\")\n",
    "plt.suptitle(animal + '\\n proportion:' +str(proportion) +'\\n would have been transition ' + str(type) +' \\n p value: '+str(np.round(res.pvalue,3)))  \n",
    "\n",
    "axes.set_xticks([1,2])\n",
    "axes.set_ylabel(\"# of trials in between\")\n",
    "axes.set_xticklabels([\"theta\",\"nontheta\"])"
   ]
  },
  {
   "cell_type": "code",
   "execution_count": 496,
   "id": "2adbd7d3-f4ed-4633-b881-3de09987b313",
   "metadata": {},
   "outputs": [
    {
     "data": {
      "image/png": "[encoded data removed]",
      "text/plain": [
       "<Figure size 800x800 with 16 Axes>"
      ]
     },
     "metadata": {},
     "output_type": "display_data"
    }
   ],
   "source": [
    "dates_to_plot = list(replay_trials[animal].keys())\n",
    "transitions = [(0,1),(0,2),(0,3),\n",
    "               (1,0),(1,2),(1,3),\n",
    "               (2,0),(2,1),(2,3),\n",
    "               (3,0),(3,1),(3,2)]\n",
    "\n",
    "# plotting stuff\n",
    "cmap = plt.cm.jet\n",
    "norm = plt.Normalize(vmin=0, vmax=len(dates_to_plot))\n",
    "\n",
    "fig,axes = plt.subplots(4,4,figsize = (8,8),sharex = True, sharey = True)\n",
    "\n",
    "d_ind = 0\n",
    "for d in diff_theta_transition_day.keys():\n",
    "    diff_theta_day = diff_theta_transition_day[d]\n",
    "    diff_nontheta_day = diff_nontheta_transition_day[d]\n",
    "\n",
    "    for diff_theta_ind in range(len(diff_theta_day)):\n",
    "        diff_theta = diff_theta_day[diff_theta_ind]\n",
    "        diff_nontheta = diff_nontheta_day[diff_theta_ind]\n",
    "        \n",
    "        for transition in diff_theta.keys():\n",
    "            axe_i, axe_j = transition #int(np.floor(t_ind/3)), int(t_ind % 3)\n",
    "            axes[axe_i - 1, axe_j - 1].plot([1,2], [diff_theta[transition], diff_nontheta[transition]],\n",
    "                                   color = cmap(norm(d_ind)), alpha = 0.5)\n",
    "    d_ind += 1\n",
    "\n",
    "plt.suptitle(animal + '\\n would have been transition 1')    \n",
    "\n",
    "for axe_i in range(4):\n",
    "    for axe_j in range(4):\n",
    "        axes[axe_i, axe_j].set_xticks([1,2])\n",
    "        if axe_j == 0:\n",
    "            axes[axe_i, axe_j].set_ylabel(\"# of trials in between\")\n",
    "        if axe_i == 3:\n",
    "            axes[axe_i, axe_j].set_xticklabels([\"theta\",\"nontheta\"])\n",
    "        axes[axe_i, axe_j].set_title(f\"arm{axe_i+1} to {axe_j+1}\")"
   ]
  },
  {
   "cell_type": "markdown",
   "id": "9b6cbbca-7395-44a9-bac4-85b9266d5bae",
   "metadata": {},
   "source": [
    "### Second, all nontheta"
   ]
  },
  {
   "cell_type": "code",
   "execution_count": 497,
   "id": "de9f1b3a-dc88-4528-b437-ff54ba7baac7",
   "metadata": {
    "scrolled": true
   },
   "outputs": [
    {
     "name": "stdout",
     "output_type": "stream",
     "text": [
      "lewis20240105_.nwb 02_Rev2Session1\n",
      "trials_long_theta [[20, (2, 3)], [50, (4, 1)], [62, (3, 2)], [66, (1, 2)], [70, (4, 2)], [70, (4, 1)], [71, (3, 1)], [88, (4, 2)], [95, (1, 2)], [98, (3, 1)], [98, (3, 1)]]\n",
      "trials_short_theta [[5, (3, 4)], [19, (1, 3)], [25, (2, 4)], [31, (2, 3)], [34, (3, 2)], [42, (4, 1)], [46, (4, 2)], [46, (4, 1)], [50, (4, 3)], [61, (1, 3)], [61, (1, 2)], [65, (4, 1)], [65, (4, 3)], [65, (4, 2)], [70, (4, 1)], [80, (3, 1)], [80, (3, 2)], [95, (1, 4)], [95, (1, 1)], [101, (4, 3)]]\n",
      "transitions [[1 2]\n",
      " [2 3]\n",
      " [3 1]\n",
      " [3 2]\n",
      " [4 1]\n",
      " [4 2]]\n",
      "lewis20240105_.nwb 04_Rev2Session2\n",
      "trials_long_theta [[9, (3, 1)], [16, (4, 1)], [22, (4, 2)], [30, (2, 1)], [81, (4, 1)], [81, (4, 1)], [81, (4, 1)]]\n",
      "trials_short_theta [[5, (4, 1)], [6, (3, 2)], [8, (2, 4)], [13, (3, 2)], [19, (2, 4)], [26, (4, 1)], [30, (2, 3)], [35, (1, 2)], [40, (4, 2)], [43, (1, 4)], [43, (1, 3)], [57, (1, 3)], [68, (1, 4)], [76, (2, 3)], [77, (4, 1)], [81, (4, 3)], [81, (4, 2)]]\n",
      "transitions [[2 1]\n",
      " [3 1]\n",
      " [4 1]\n",
      " [4 2]]\n",
      "lewis20240105_.nwb 06_Rev2Session3\n",
      "trials_long_theta [[12, (3, 1)], [15, (1, 4)], [21, (1, 2)], [22, (4, 3)], [29, (3, 4)], [29, (3, 2)], [36, (2, 1)], [36, (2, 1)], [36, (2, 1)], [36, (2, 1)], [38, (4, 2)], [38, (4, 2)], [38, (4, 2)], [51, (2, 2)], [51, (2, 2)], [61, (3, 2)]]\n",
      "trials_short_theta [[7, (3, 1)], [9, (1, 3)], [16, (2, 3)], [16, (2, 1)], [17, (4, 2)], [25, (3, 2)], [27, (1, 3)], [31, (2, 3)], [33, (1, 2)], [36, (2, 1)], [37, (3, 2)], [44, (3, 2)], [49, (4, 2)], [55, (2, 3)], [56, (4, 3)], [56, (4, 2)], [61, (3, 4)], [70, (2, 4)], [70, (2, 3)]]\n",
      "transitions [[1 2]\n",
      " [1 4]\n",
      " [2 1]\n",
      " [2 2]\n",
      " [3 1]\n",
      " [3 2]\n",
      " [3 4]\n",
      " [4 2]\n",
      " [4 3]]\n",
      "lewis20240105_.nwb 08_Rev2Session4\n",
      "trials_long_theta [[16, (2, 4)], [20, (4, 3)], [27, (3, 2)], [41, (3, 2)]]\n",
      "trials_short_theta [[15, (1, 3)], [16, (2, 3)], [16, (2, 3)], [16, (2, 2)], [20, (4, 2)], [20, (4, 2)], [20, (4, 4)], [22, (4, 2)]]\n",
      "transitions [[2 4]\n",
      " [3 2]\n",
      " [4 3]]\n",
      "lewis20240105_.nwb 10_Rev2Session5\n",
      "trials_long_theta []\n",
      "trials_short_theta [[9, (1, 3)]]\n",
      "transitions []\n",
      "lewis20240106_.nwb 02_Rev2Session1\n",
      "trials_long_theta [[14, (1, 4)], [15, (3, 1)], [30, (3, 2)], [39, (3, 4)]]\n",
      "trials_short_theta [[6, (3, 2)], [6, (3, 1)], [10, (1, 2)], [15, (3, 1)], [15, (3, 1)], [31, (1, 3)], [39, (3, 1)], [42, (4, 2)], [43, (3, 1)], [43, (3, 1)], [60, (1, 3)], [69, (3, 1)], [69, (3, 1)], [69, (3, 2)]]\n",
      "transitions [[1 4]\n",
      " [3 1]\n",
      " [3 2]\n",
      " [3 4]]\n",
      "lewis20240106_.nwb 04_Rev2Session2\n",
      "trials_long_theta [[16, (3, 1)], [34, (1, 3)], [47, (1, 3)], [71, (1, 4)], [83, (4, 2)]]\n",
      "trials_short_theta [[20, (3, 1)], [20, (3, 1)], [20, (3, 2)], [20, (3, 3)], [29, (4, 2)], [48, (2, 3)], [58, (1, 1)], [67, (1, 3)], [74, (4, 1)], [74, (4, 2)], [75, (1, 3)]]\n",
      "transitions [[1 3]\n",
      " [1 4]\n",
      " [3 1]\n",
      " [4 2]]\n",
      "lewis20240106_.nwb 06_Rev2Session3\n",
      "trials_long_theta [[25, (3, 2)], [25, (3, 4)], [25, (3, 4)], [36, (2, 3)], [44, (1, 3)]]\n",
      "trials_short_theta [[16, (2, 4)], [17, (3, 4)], [21, (3, 1)], [25, (3, 4)], [26, (1, 3)]]\n",
      "transitions [[1 3]\n",
      " [2 3]\n",
      " [3 2]\n",
      " [3 4]]\n",
      "lewis20240106_.nwb 08_Rev2Session4\n",
      "trials_long_theta [[13, (4, 1)], [14, (3, 2)]]\n",
      "trials_short_theta [[18, (2, 4)], [21, (1, 2)], [21, (1, 2)]]\n",
      "transitions [[3 2]\n",
      " [4 1]]\n",
      "lewis20240107_.nwb 02_Rev2Session1\n",
      "trials_long_theta [[36, (3, 1)], [46, (4, 1)], [47, (2, 4)], [47, (2, 4)], [50, (2, 1)]]\n",
      "trials_short_theta [[27, (4, 2)], [28, (3, 2)], [30, (2, 3)], [32, (4, 1)], [47, (2, 3)], [47, (2, 2)], [50, (2, 3)], [65, (2, 3)], [67, (4, 1)], [68, (3, 2)], [74, (4, 1)]]\n",
      "transitions [[2 1]\n",
      " [2 4]\n",
      " [3 1]\n",
      " [4 1]]\n",
      "lewis20240107_.nwb 04_Rev2Session2\n",
      "trials_long_theta [[27, (4, 2)]]\n",
      "trials_short_theta [[7, (3, 2)], [13, (3, 2)], [16, (3, 1)], [20, (1, 4)], [20, (1, 3)], [24, (3, 1)], [26, (1, 2)], [42, (4, 1)], [42, (4, 1)]]\n",
      "transitions [[4 2]]\n",
      "lewis20240107_.nwb 06_Rev2Session3\n",
      "trials_long_theta [[23, (1, 2)], [57, (4, 1)]]\n",
      "trials_short_theta [[11, (2, 1)], [11, (2, 1)], [12, (3, 2)], [37, (4, 3)], [38, (2, 1)], [38, (2, 1)], [41, (1, 3)], [42, (2, 3)], [42, (2, 1)], [47, (4, 1)], [61, (1, 3)], [61, (1, 2)], [66, (4, 3)]]\n",
      "transitions [[1 2]\n",
      " [4 1]]\n",
      "lewis20240107_.nwb 08_Rev2Session4\n",
      "trials_long_theta [[10, (2, 3)], [27, (4, 1)], [27, (4, 1)], [33, (3, 1)], [41, (3, 4)], [49, (4, 1)], [50, (3, 4)]]\n",
      "trials_short_theta [[10, (2, 3)], [10, (2, 3)], [10, (2, 3)], [17, (2, 1)], [27, (4, 1)], [41, (3, 4)], [41, (3, 4)], [45, (4, 1)]]\n",
      "transitions [[2 3]\n",
      " [3 1]\n",
      " [3 4]\n",
      " [4 1]]\n",
      "lewis20240107_.nwb 10_Rev2Session5\n",
      "trials_long_theta [[10, (4, 1)], [38, (4, 1)]]\n",
      "trials_short_theta [[7, (3, 2)], [7, (3, 2)], [22, (3, 2)]]\n",
      "transitions [[4 1]]\n",
      "lewis20240108_.nwb 02_Rev2Session1\n",
      "trials_long_theta [[44, (3, 4)], [48, (4, 1)], [52, (1, 4)], [60, (4, 2)], [60, (4, 1)], [65, (3, 2)], [67, (4, 3)], [67, (4, 1)]]\n",
      "trials_short_theta [[5, (4, 1)], [20, (3, 2)], [43, (4, 1)], [48, (4, 2)], [71, (1, 4)], [73, (4, 1)]]\n",
      "transitions [[1 4]\n",
      " [3 2]\n",
      " [3 4]\n",
      " [4 1]\n",
      " [4 2]\n",
      " [4 3]]\n",
      "lewis20240108_.nwb 04_Rev2Session2\n",
      "trials_long_theta [[10, (1, 3)], [15, (3, 2)], [18, (3, 1)], [21, (3, 4)], [21, (3, 4)], [32, (1, 3)], [51, (1, 3)], [53, (4, 1)], [54, (3, 4)], [58, (3, 1)], [61, (3, 4)], [61, (3, 2)], [69, (1, 4)]]\n",
      "trials_short_theta [[6, (1, 2)], [16, (1, 4)], [16, (1, 4)], [16, (1, 3)], [18, (3, 2)], [22, (2, 3)], [40, (1, 3)], [42, (2, 4)], [42, (2, 2)], [62, (1, 3)], [73, (3, 1)], [75, (4, 3)], [76, (1, 3)]]\n",
      "transitions [[1 3]\n",
      " [1 4]\n",
      " [3 1]\n",
      " [3 2]\n",
      " [3 4]\n",
      " [4 1]]\n",
      "lewis20240108_.nwb 06_Rev2Session3\n",
      "trials_long_theta [[23, (2, 4)], [24, (1, 3)], [39, (2, 4)], [43, (2, 1)], [46, (1, 2)]]\n",
      "trials_short_theta [[12, (2, 3)], [13, (1, 4)], [14, (3, 1)], [14, (3, 2)], [26, (2, 1)], [39, (2, 2)], [39, (2, 2)], [47, (4, 1)]]\n",
      "transitions [[1 2]\n",
      " [1 3]\n",
      " [2 1]\n",
      " [2 4]]\n",
      "lewis20240108_.nwb 08_Rev2Session4\n",
      "trials_long_theta [[31, (4, 3)], [31, (4, 3)], [31, (4, 3)], [32, (2, 1)], [32, (2, 1)], [32, (2, 2)], [35, (3, 4)], [44, (4, 1)], [44, (4, 1)], [51, (3, 4)]]\n",
      "trials_short_theta [[8, (4, 1)], [19, (4, 1)], [23, (4, 1)], [28, (3, 4)], [31, (4, 4)], [32, (2, 4)], [40, (4, 1)], [53, (1, 1)], [53, (1, 1)]]\n",
      "transitions [[2 1]\n",
      " [2 2]\n",
      " [3 4]\n",
      " [4 1]\n",
      " [4 3]]\n",
      "lewis20240109_.nwb 02_Rev2Session1\n",
      "trials_long_theta [[18, (4, 1)], [24, (2, 1)], [24, (2, 1)], [55, (3, 2)], [63, (3, 2)], [64, (1, 4)], [81, (4, 1)]]\n",
      "trials_short_theta [[18, (4, 1)], [18, (4, 1)], [19, (2, 4)], [46, (4, 1)], [55, (3, 1)], [55, (3, 4)], [65, (2, 3)], [68, (3, 2)], [68, (3, 1)], [75, (1, 3)]]\n",
      "transitions [[1 4]\n",
      " [2 1]\n",
      " [3 2]\n",
      " [4 1]]\n",
      "lewis20240109_.nwb 04_Rev2Session2\n",
      "trials_long_theta [[11, (1, 3)], [13, (4, 1)], [39, (1, 2)], [44, (3, 1)], [45, (4, 2)], [53, (2, 4)], [53, (2, 2)], [63, (3, 2)]]\n",
      "trials_short_theta [[6, (1, 2)], [6, (1, 3)], [13, (4, 2)], [14, (3, 2)], [28, (2, 4)], [33, (2, 4)], [39, (1, 3)], [41, (1, 3)], [41, (1, 3)], [43, (2, 3)], [43, (2, 1)], [62, (2, 1)], [63, (3, 1)], [63, (3, 2)], [66, (2, 4)], [76, (2, 4)], [76, (2, 4)]]\n",
      "transitions [[1 2]\n",
      " [1 3]\n",
      " [2 2]\n",
      " [2 4]\n",
      " [3 1]\n",
      " [3 2]\n",
      " [4 1]\n",
      " [4 2]]\n",
      "lewis20240109_.nwb 06_Rev2Session3\n",
      "trials_long_theta [[9, (3, 4)], [14, (3, 2)], [23, (2, 1)], [24, (4, 2)], [28, (4, 1)]]\n",
      "trials_short_theta [[14, (3, 1)], [24, (4, 2)], [24, (4, 4)], [33, (3, 1)], [52, (2, 1)], [64, (3, 1)], [69, (1, 3)]]\n",
      "transitions [[2 1]\n",
      " [3 2]\n",
      " [3 4]\n",
      " [4 1]\n",
      " [4 2]]\n",
      "lewis20240109_.nwb 08_Rev2Session4\n",
      "trials_long_theta [[3, (3, 4)], [20, (4, 1)]]\n",
      "trials_short_theta [[3, (3, 4)], [3, (3, 4)], [14, (1, 3)], [16, (4, 1)], [16, (4, 1)], [18, (1, 3)], [21, (3, 2)], [26, (1, 3)]]\n",
      "transitions [[3 4]\n",
      " [4 1]]\n",
      "lewis20240110_.nwb 02_Rev2Session1\n",
      "trials_long_theta [[11, (3, 1)], [15, (3, 4)], [16, (2, 3)], [19, (4, 1)], [25, (2, 1)], [25, (2, 2)], [48, (1, 3)], [64, (1, 4)], [64, (1, 4)], [65, (2, 3)], [81, (4, 2)]]\n",
      "trials_short_theta [[25, (2, 3)], [29, (2, 4)], [29, (2, 3)], [34, (4, 1)], [40, (1, 3)], [65, (2, 1)], [66, (4, 2)], [68, (3, 2)], [68, (3, 4)], [81, (4, 1)]]\n",
      "transitions [[1 3]\n",
      " [1 4]\n",
      " [2 1]\n",
      " [2 2]\n",
      " [2 3]\n",
      " [3 1]\n",
      " [3 4]\n",
      " [4 1]\n",
      " [4 2]]\n",
      "lewis20240110_.nwb 04_Rev2Session2\n",
      "trials_long_theta [[12, (3, 2)], [15, (4, 1)], [17, (4, 1)], [22, (3, 2)], [24, (4, 3)], [29, (1, 4)], [45, (2, 3)], [60, (4, 3)], [65, (1, 4)], [65, (1, 4)], [73, (1, 4)]]\n",
      "trials_short_theta [[12, (3, 4)], [12, (3, 1)], [12, (3, 3)], [18, (3, 2)], [24, (4, 2)], [26, (4, 1)], [26, (4, 2)], [30, (2, 3)], [35, (2, 3)], [45, (2, 3)], [45, (2, 3)], [45, (2, 3)], [47, (1, 2)], [53, (3, 4)], [58, (2, 3)], [66, (2, 3)]]\n",
      "transitions [[1 4]\n",
      " [2 3]\n",
      " [3 2]\n",
      " [4 1]\n",
      " [4 3]]\n",
      "lewis20240110_.nwb 06_Rev2Session3\n",
      "trials_long_theta [[10, (1, 4)], [12, (4, 2)], [16, (4, 2)], [16, (4, 2)], [16, (4, 1)], [35, (1, 4)], [45, (2, 3)], [46, (4, 2)]]\n",
      "trials_short_theta [[11, (2, 3)], [16, (4, 3)], [20, (4, 3)], [24, (3, 4)], [51, (4, 3)]]\n",
      "transitions [[1 4]\n",
      " [2 3]\n",
      " [4 1]\n",
      " [4 2]]\n",
      "lewis20240110_.nwb 08_Rev2Session4\n",
      "trials_long_theta []\n",
      "trials_short_theta [[15, (2, 3)], [16, (4, 4)]]\n",
      "transitions []\n",
      "lewis20240110_.nwb 10_Rev2Session5\n",
      "trials_long_theta [[18, (1, 4)]]\n",
      "trials_short_theta [[10, (4, 4)], [13, (1, 2)], [35, (4, 1)]]\n",
      "transitions [[1 4]]\n"
     ]
    }
   ],
   "source": [
    "paired = False\n",
    "type = 1\n",
    "\n",
    "diff_theta_transition_day = {}\n",
    "diff_nontheta_transition_day = {}\n",
    "\n",
    "for day in dates_to_plot:\n",
    "    nwb_file_name = animal.lower() + day + '.nwb'\n",
    "    nwb_copy_file_name = get_nwb_copy_filename(nwb_file_name)\n",
    "    session_interval, position_interval = runSessionNames(nwb_copy_file_name)\n",
    "\n",
    "    diff_theta_transition_session = []\n",
    "    diff_nontheta_transition_session = []\n",
    "    for ind in range(len(session_interval)):\n",
    "        session_name = session_interval[ind]\n",
    "        position_name = position_interval[ind]\n",
    "        diff_theta_transition_session_, diff_nontheta_transition_session_ = find_delta_t(\n",
    "            nwb_copy_file_name, session_name, proportion, replay_trials, replay_trials_non, paired, type = type) #replay_trials)\n",
    "        \n",
    "        diff_theta_transition_session.append(diff_theta_transition_session_)\n",
    "        diff_nontheta_transition_session.append(diff_nontheta_transition_session_)\n",
    "\n",
    "    diff_theta_transition_day[day] = diff_theta_transition_session\n",
    "    diff_nontheta_transition_day[day] = diff_nontheta_transition_session"
   ]
  },
  {
   "cell_type": "code",
   "execution_count": 498,
   "id": "7f169834-6b43-4428-b120-10b60580eca7",
   "metadata": {},
   "outputs": [
    {
     "data": {
      "text/plain": [
       "[Text(0, 0, 'theta'), Text(1, 0, 'nontheta')]"
      ]
     },
     "execution_count": 498,
     "metadata": {},
     "output_type": "execute_result"
    },
    {
     "data": {
      "image/png": "[encoded data removed]",
      "text/plain": [
       "<Figure size 300x300 with 1 Axes>"
      ]
     },
     "metadata": {},
     "output_type": "display_data"
    }
   ],
   "source": [
    "dates_to_plot = list(replay_trials[animal].keys())\n",
    "transitions = [(0,1),(0,2),(0,3),\n",
    "               (1,0),(1,2),(1,3),\n",
    "               (2,0),(2,1),(2,3),\n",
    "               (3,0),(3,1),(3,2)]\n",
    "\n",
    "# plotting stuff\n",
    "cmap = plt.cm.jet\n",
    "norm = plt.Normalize(vmin=0, vmax=len(transitions))\n",
    "\n",
    "fig,axes = plt.subplots(1,1,figsize = (3,3),sharex = True, sharey = True)\n",
    "\n",
    "sample_theta = []\n",
    "sample_nontheta = []\n",
    "\n",
    "d_ind = 0\n",
    "for d in diff_theta_transition_day.keys():\n",
    "    diff_theta_day = diff_theta_transition_day[d]\n",
    "    diff_nontheta_day = diff_nontheta_transition_day[d]\n",
    "\n",
    "    for diff_theta_ind in range(len(diff_theta_day)):\n",
    "        diff_theta = diff_theta_day[diff_theta_ind]\n",
    "        \n",
    "        for transition in diff_theta.keys():\n",
    "            transition_ind = (transition[0] - 1) * 3 + (transition[1] - 1)\n",
    "            #axe_i, axe_j = transition #int(np.floor(t_ind/3)), int(t_ind % 3)\n",
    "            axes.scatter(np.zeros_like(diff_theta[transition]) + np.random.uniform(0,0.1,len(diff_theta[transition])), diff_theta[transition],\n",
    "                                   color = cmap(norm(transition_ind)), alpha = 0.5)\n",
    "            for delta_t in diff_theta[transition]:\n",
    "                sample_theta.append(delta_t)\n",
    "\n",
    "    for diff_nontheta_ind in range(len(diff_nontheta_day)):\n",
    "        diff_nontheta = diff_nontheta_day[diff_nontheta_ind]\n",
    "        \n",
    "        for transition in diff_nontheta.keys():\n",
    "            transition_ind = (transition[0] - 1) * 3 + (transition[1] - 1)\n",
    "            #axe_i, axe_j = transition #int(np.floor(t_ind/3)), int(t_ind % 3)\n",
    "            axes.scatter(np.zeros_like(diff_nontheta[transition]) + 1 + np.random.uniform(0,0.1,len(diff_nontheta[transition])), diff_nontheta[transition],\n",
    "                                   color = cmap(norm(transition_ind)), alpha = 0.5)\n",
    "            for delta_t in diff_nontheta[transition]:\n",
    "                sample_nontheta.append(delta_t)\n",
    "            \n",
    "    d_ind += 1\n",
    "\n",
    "#statistic, pvalue = ranksums(sample_theta, sample_nontheta, \"greater\")\n",
    "res = permutation_test((sample_theta, sample_nontheta), statistic, vectorized=True,\n",
    "                       n_resamples=10000, alternative='greater')\n",
    "\n",
    "axes.set_ylabel(\"# of trials in between\")\n",
    "plt.suptitle(animal + '\\n would have been transition ' + str(type) + '\\n p value: '+str(np.round(res.pvalue,3)))    \n",
    "\n",
    "axes.set_xticks([0,1])\n",
    "axes.text(0.2,10,str(len(sample_theta)))\n",
    "axes.text(0.8,10,str(len(sample_nontheta)))\n",
    "\n",
    "axes.set_xticklabels([\"theta\",\"nontheta\"])"
   ]
  },
  {
   "cell_type": "code",
   "execution_count": 499,
   "id": "67301d4b-f8d2-444b-a1e9-75634a0956a3",
   "metadata": {},
   "outputs": [
    {
     "name": "stdout",
     "output_type": "stream",
     "text": [
      "len(sample_theta): 91,  len(sample_nontheta):39\n"
     ]
    }
   ],
   "source": [
    "print(f\"len(sample_theta): {len(sample_theta)},  len(sample_nontheta):{len(sample_nontheta)}\")"
   ]
  },
  {
   "cell_type": "code",
   "execution_count": 500,
   "id": "335c679f-d34f-4fb4-8708-8dacf46d6712",
   "metadata": {},
   "outputs": [
    {
     "data": {
      "image/png": "[encoded data removed]",
      "text/plain": [
       "<Figure size 800x800 with 16 Axes>"
      ]
     },
     "metadata": {},
     "output_type": "display_data"
    }
   ],
   "source": [
    "dates_to_plot = list(replay_trials[animal].keys())\n",
    "transitions = [(0,1),(0,2),(0,3),\n",
    "               (1,0),(1,2),(1,3),\n",
    "               (2,0),(2,1),(2,3),\n",
    "               (3,0),(3,1),(3,2)]\n",
    "\n",
    "# plotting stuff\n",
    "cmap = plt.cm.jet\n",
    "norm = plt.Normalize(vmin=0, vmax=len(transitions))\n",
    "\n",
    "fig,axes = plt.subplots(4,4,figsize = (8,8),sharex = True, sharey = True)\n",
    "\n",
    "d_ind = 0\n",
    "for d in diff_theta_transition_day.keys():\n",
    "    diff_theta_day = diff_theta_transition_day[d]\n",
    "    diff_nontheta_day = diff_nontheta_transition_day[d]\n",
    "    \n",
    "    for diff_theta_ind in range(len(diff_theta_day)):\n",
    "        diff_theta = diff_theta_day[diff_theta_ind]\n",
    "        \n",
    "        for transition in diff_theta.keys():\n",
    "            transition_ind = (transition[0] - 1) * 3 + (transition[1] - 1)\n",
    "            axe_i, axe_j = transition #int(np.floor(t_ind/3)), int(t_ind % 3)\n",
    "            axes[axe_i - 1, axe_j - 1].scatter(np.zeros_like(diff_theta[transition]), diff_theta[transition],\n",
    "                                   color = cmap(norm(transition_ind)), alpha = 0.5)\n",
    "\n",
    "    for diff_nontheta_ind in range(len(diff_nontheta_day)):\n",
    "        diff_nontheta = diff_nontheta_day[diff_nontheta_ind]\n",
    "        \n",
    "        for transition in diff_nontheta.keys():\n",
    "            transition_ind = (transition[0] - 1) * 3 + (transition[1] - 1)\n",
    "            axe_i, axe_j = transition #int(np.floor(t_ind/3)), int(t_ind % 3)\n",
    "            axes[axe_i - 1, axe_j - 1].scatter(np.zeros_like(diff_nontheta[transition]) + 1, diff_nontheta[transition],\n",
    "                                   color = cmap(norm(transition_ind)), alpha = 0.5)\n",
    "    d_ind += 1\n",
    "\n",
    "plt.suptitle(animal + '\\n would have been transition 1')    \n",
    "\n",
    "for axe_i in range(4):\n",
    "    for axe_j in range(4):\n",
    "        axes[axe_i, axe_j].set_xticks([0,1])\n",
    "        if axe_j == 0:\n",
    "            axes[axe_i, axe_j].set_ylabel(\"# of trials in between\")\n",
    "        if axe_i == 3:\n",
    "            axes[axe_i, axe_j].set_xticklabels([\"theta\",\"nontheta\"])\n",
    "        axes[axe_i, axe_j].set_title(f\"arm{axe_i+1} to {axe_j+1}\")"
   ]
  },
  {
   "cell_type": "code",
   "execution_count": 128,
   "id": "ad718827-ff3b-4a91-bf3c-1487bb239d68",
   "metadata": {},
   "outputs": [
    {
     "data": {
      "text/plain": [
       "[('eliot20221019_.nwb', '02_Seq2Session1', 10, 1),\n",
       " ('eliot20221019_.nwb', '02_Seq2Session1', 52, 3),\n",
       " ('eliot20221019_.nwb', '02_Seq2Session1', 57, 1),\n",
       " ('eliot20221019_.nwb', '02_Seq2Session1', 57, 1),\n",
       " ('eliot20221019_.nwb', '04_Seq2Session2', 16, 1),\n",
       " ('eliot20221019_.nwb', '04_Seq2Session2', 45, 1),\n",
       " ('eliot20221019_.nwb', '04_Seq2Session2', 76, 4),\n",
       " ('eliot20221019_.nwb', '04_Seq2Session2', 76, 2),\n",
       " ('eliot20221019_.nwb', '04_Seq2Session2', 81, 1),\n",
       " ('eliot20221019_.nwb', '04_Seq2Session2', 81, 3),\n",
       " ('eliot20221019_.nwb', '06_Seq2Session3', 8, 3),\n",
       " ('eliot20221019_.nwb', '06_Seq2Session3', 15, 3),\n",
       " ('eliot20221019_.nwb', '08_Seq2Session4', 25, 1),\n",
       " ('eliot20221019_.nwb', '08_Seq2Session4', 33, 3),\n",
       " ('eliot20221019_.nwb', '08_Seq2Session4', 34, 1),\n",
       " ('eliot20221019_.nwb', '08_Seq2Session4', 37, 1),\n",
       " ('eliot20221019_.nwb', '10_Seq2Session5', 26, 2)]"
      ]
     },
     "execution_count": 128,
     "metadata": {},
     "output_type": "execute_result"
    }
   ],
   "source": [
    "replay_trials[animal]['20221019']"
   ]
  },
  {
   "cell_type": "code",
   "execution_count": 60,
   "id": "94f78a72-2f1c-4455-8b24-4a6279e3df8a",
   "metadata": {},
   "outputs": [],
   "source": [
    "(nwb_copy_file_name, session_name, trial, _ ) = replay_trials[animal]['20221021'][1]"
   ]
  },
  {
   "cell_type": "code",
   "execution_count": 75,
   "id": "efa244c7-ea22-43eb-8062-1883d44f2397",
   "metadata": {},
   "outputs": [],
   "source": []
  },
  {
   "cell_type": "code",
   "execution_count": 30,
   "id": "c08d8bf9-4ed0-49b7-ae98-3cb27ac0fa22",
   "metadata": {},
   "outputs": [],
   "source": []
  },
  {
   "cell_type": "code",
   "execution_count": 160,
   "id": "1bbba20a-38a0-436e-b2fc-b516dfb13d77",
   "metadata": {
    "scrolled": true
   },
   "outputs": [],
   "source": []
  },
  {
   "cell_type": "code",
   "execution_count": 159,
   "id": "c025dfec-1a34-4730-be34-deea4ec64ea5",
   "metadata": {},
   "outputs": [
    {
     "name": "stdout",
     "output_type": "stream",
     "text": [
      "eliot20221019_.nwb\n",
      "trials_all_transition [8, 24, 28, 32, 47, 55, 59, 65, 75, 79]\n",
      "trials_theta_transition [52]\n",
      "trials_all_transition [3, 7, 12, 16, 33, 38, 44, 72, 80]\n",
      "trials_theta_transition [10 57]\n"
     ]
    }
   ],
   "source": [
    "d = '20221019'\n",
    "\n",
    "nwb_copy_file_name = 'eliot'+ d + '_.nwb'\n",
    "print(nwb_copy_file_name)\n",
    "session_name = '02_Seq2Session1'\n",
    "\n"
   ]
  },
  {
   "cell_type": "code",
   "execution_count": 161,
   "id": "d3291e1c-0832-4ab3-aa86-074320237288",
   "metadata": {},
   "outputs": [
    {
     "data": {
      "text/plain": [
       "[8, 5, 28]"
      ]
     },
     "execution_count": 161,
     "metadata": {},
     "output_type": "execute_result"
    }
   ],
   "source": [
    "diff_theta_all"
   ]
  },
  {
   "cell_type": "code",
   "execution_count": 162,
   "id": "8a1486a2-4808-4dbc-98d6-f4c5ea4f9026",
   "metadata": {},
   "outputs": [
    {
     "data": {
      "text/plain": [
       "[15, 4, 6]"
      ]
     },
     "execution_count": 162,
     "metadata": {},
     "output_type": "execute_result"
    }
   ],
   "source": [
    "diff_nontheta_all"
   ]
  },
  {
   "cell_type": "code",
   "execution_count": 141,
   "id": "9931d105-a266-44a2-b646-87b22e1b40ec",
   "metadata": {},
   "outputs": [
    {
     "data": {
      "text/plain": [
       "array([3, 1])"
      ]
     },
     "execution_count": 141,
     "metadata": {},
     "output_type": "execute_result"
    }
   ],
   "source": [
    "transition"
   ]
  },
  {
   "cell_type": "code",
   "execution_count": null,
   "id": "1e085746-790a-43c5-83d6-30c9c08de1fd",
   "metadata": {},
   "outputs": [],
   "source": [
    "# for a CoM trial, find would have been transition\n",
    "\n",
    "# find the time before it repeats\n",
    "\n"
   ]
  },
  {
   "cell_type": "code",
   "execution_count": 234,
   "id": "f5a9dc6e-cc55-4269-a118-b6307d7a7fe8",
   "metadata": {},
   "outputs": [],
   "source": [
    "animal = 'Lewis'\n",
    "\n",
    "dates_to_plot = ['20240105','20240106','20240107','20240108','20240109',\n",
    "                 '20240110']#'20240114']#'20240115','20240116','20240117','20240118','20240119','20240120']\n",
    "\n",
    "dates_to_plot = ['20240115','20240116','20240117','20240118','20240119','20240120']"
   ]
  },
  {
   "cell_type": "code",
   "execution_count": null,
   "id": "b93da294-a946-4fc3-8be4-21f7761a654a",
   "metadata": {},
   "outputs": [],
   "source": []
  },
  {
   "cell_type": "code",
   "execution_count": 244,
   "id": "342d4acc-fd91-407f-bfc2-5a319a4cdd9d",
   "metadata": {},
   "outputs": [
    {
     "data": {
      "image/png": "[encoded data removed]",
      "text/plain": [
       "<Figure size 800x800 with 16 Axes>"
      ]
     },
     "metadata": {},
     "output_type": "display_data"
    }
   ],
   "source": [
    "dates_to_plot = list(replay_trials[animal].keys())\n",
    "transitions = [(0,1),(0,2),(0,3),\n",
    "               (1,0),(1,2),(1,3),\n",
    "               (2,0),(2,1),(2,3),\n",
    "               (3,0),(3,1),(3,2)]\n",
    "\n",
    "# for aggregate plot\n",
    "T_wouldhave_count1 = []\n",
    "T_wouldhave_count2 = []\n",
    "behavior_count = []\n",
    "\n",
    "# plotting stuff\n",
    "cmap = plt.cm.jet\n",
    "norm = plt.Normalize(vmin=0, vmax=len(dates_to_plot))\n",
    "\n",
    "fig,axes = plt.subplots(4,4,figsize = (8,8),sharex = True, sharey = True)\n",
    "\n",
    "for d_ind in range(len(dates_to_plot)-1):\n",
    "    d = dates_to_plot[d_ind]\n",
    "    d2 = dates_to_plot[d_ind + 1]\n",
    "    if len(replay_trials[animal][d]) == 0:\n",
    "        continue\n",
    "    T, T_wouldhave, T_wouldhave2 = find_transitions(replay_trials[animal][d])\n",
    "    delta_behavior = find_behavior_sum(animal,None,[d,d2])\n",
    "\n",
    "    # for lumping across transitions\n",
    "    behavior_count.append(delta_behavior.ravel())\n",
    "    T_wouldhave_count1.append(T_wouldhave[list(T_wouldhave.keys())[0]].ravel())\n",
    "    T_wouldhave_count2.append(T_wouldhave2[list(T_wouldhave2.keys())[0]].ravel())\n",
    "\n",
    "    # for individual transitions\n",
    "    for t_ind in range(len(transitions)):\n",
    "        (i,j) = transitions[t_ind]\n",
    "        axe_i, axe_j = (i,j)#int(np.floor(t_ind/3)), int(t_ind % 3)\n",
    "        axes[axe_i, axe_j].scatter(T_wouldhave[list(T_wouldhave.keys())[0]][i,j], delta_behavior[i,j],\n",
    "                                   color = 'k', alpha = 0.5)\n",
    "                                  #color = cmap(norm(d_ind)))\n",
    "plt.suptitle(animal + '\\n would have been transition 1')    \n",
    "\n",
    "for axe_i in range(4):\n",
    "    for axe_j in range(4):\n",
    "        if axe_j == 0:\n",
    "            axes[axe_i, axe_j].set_ylabel(\"# of CoM w. long theta\")\n",
    "        if axe_i == 3:\n",
    "            axes[axe_i, axe_j].set_xlabel(\"changes(behavior)\")\n",
    "        axes[axe_i, axe_j].set_title(f\"arm{axe_i+1} to {axe_j+1}\")"
   ]
  },
  {
   "cell_type": "code",
   "execution_count": 240,
   "id": "8238ef9c-1a63-4e17-87d1-e639b0e4c562",
   "metadata": {},
   "outputs": [
    {
     "data": {
      "text/plain": [
       "Text(0.5, 1.0, 'Lewis\\n would have been transition 1')"
      ]
     },
     "execution_count": 240,
     "metadata": {},
     "output_type": "execute_result"
    },
    {
     "data": {
      "image/png": "[encoded data removed]",
      "text/plain": [
       "<Figure size 400x400 with 1 Axes>"
      ]
     },
     "metadata": {},
     "output_type": "display_data"
    }
   ],
   "source": [
    "fig,axes = plt.subplots(1,1,figsize = (4,4),sharex = True, sharey = True)\n",
    "x = np.concatenate(T_wouldhave_count1)\n",
    "y = np.concatenate(behavior_count)\n",
    "results, pvalue = fitLM(x,y)\n",
    "    \n",
    "axes.scatter(x, y, alpha = 0.4)\n",
    "x_plot=np.linspace(np.min(x),np.max(x),10).reshape(-1,1)\n",
    "y_plot=results.predict(sm.add_constant(x_plot))\n",
    "pvalue_beta = results.pvalues[1]\n",
    "    \n",
    "axes.plot(x_plot,y_plot,color='blue',linewidth=3,label = str(pvalue))\n",
    "axes.text(np.min(x),np.min(y),\n",
    "          f'p value = {np.round(pvalue_beta,4)}, slope is {np.round(results.params[1],4)}, R2 is {np.around(results.rsquared,3)}')\n",
    "axes.set_xlabel(\"# of (change of mind with long theta)\")\n",
    "axes.set_ylabel(\"changes in behavior\")\n",
    "\n",
    "#jitter = np.random.uniform(high = 0.2, size = len(np.concatenate(T_wouldhave_count1)))\n",
    "#axes.scatter(np.concatenate(T_wouldhave_count1),np.concatenate(behavior_count) > 0 + jitter, alpha = 0.4)\n",
    "\n",
    "plt.title(animal + '\\n would have been transition 1')"
   ]
  },
  {
   "cell_type": "code",
   "execution_count": 238,
   "id": "5aeba9d5-2723-41ee-bbc5-2663e8567ad7",
   "metadata": {},
   "outputs": [
    {
     "data": {
      "text/plain": [
       "Text(0.5, 1.0, 'Lewis\\n would have been transition 1')"
      ]
     },
     "execution_count": 238,
     "metadata": {},
     "output_type": "execute_result"
    },
    {
     "data": {
      "image/png": "[encoded data removed]",
      "text/plain": [
       "<Figure size 1000x400 with 1 Axes>"
      ]
     },
     "metadata": {},
     "output_type": "display_data"
    }
   ],
   "source": [
    "fig,axes = plt.subplots(1,1,figsize = (10,4),sharex = True, sharey = True)\n",
    "x = np.concatenate(T_wouldhave_count1)\n",
    "y = np.concatenate(behavior_count)\n",
    "#results, pvalue = fitLM(x,y)\n",
    "    \n",
    "axes.scatter(y, x > 0, alpha = 0.4)\n",
    "#x_plot=np.linspace(np.min(x),np.max(x),10).reshape(-1,1)\n",
    "#y_plot=results.predict(sm.add_constant(x_plot))\n",
    "#pvalue_beta = results.pvalues[1]\n",
    "    \n",
    "#axes.plot(x_plot,y_plot,color='blue',linewidth=3,label = str(pvalue))\n",
    "#axes.text(np.min(x),np.min(y),\n",
    "#          f'p value = {np.round(pvalue_beta,4)}, slope is {np.round(results.params[1],4)}, R2 is {np.around(results.rsquared,3)}')\n",
    "\n",
    "#jitter = np.random.uniform(high = 0.2, size = len(np.concatenate(T_wouldhave_count1)))\n",
    "#axes.scatter(np.concatenate(T_wouldhave_count1),np.concatenate(behavior_count) > 0 + jitter, alpha = 0.4)\n",
    "\n",
    "plt.title(animal + '\\n would have been transition 1')"
   ]
  },
  {
   "cell_type": "code",
   "execution_count": 245,
   "id": "7f54d691-f703-4ce0-a5ff-e93ca7163e7e",
   "metadata": {},
   "outputs": [
    {
     "data": {
      "image/png": "[encoded data removed]",
      "text/plain": [
       "<Figure size 800x800 with 16 Axes>"
      ]
     },
     "metadata": {},
     "output_type": "display_data"
    }
   ],
   "source": [
    "dates_to_plot = list(replay_trials[animal].keys())\n",
    "transitions = [(0,1),(0,2),(0,3),\n",
    "               (1,0),(1,2),(1,3),\n",
    "               (2,0),(2,1),(2,3),\n",
    "               (3,0),(3,1),(3,2)]\n",
    "\n",
    "# plotting stuff\n",
    "cmap = plt.cm.jet\n",
    "norm = plt.Normalize(vmin=0, vmax=len(dates_to_plot))\n",
    "\n",
    "fig,axes = plt.subplots(4,4,figsize = (8,8),sharex = True, sharey = True)\n",
    "\n",
    "for d_ind in range(len(dates_to_plot)-1):\n",
    "    d = dates_to_plot[d_ind]\n",
    "    d2 = dates_to_plot[d_ind + 1]\n",
    "    if len(replay_trials[animal][d]) == 0:\n",
    "        continue\n",
    "    T, T_wouldhave, T_wouldhave2 = find_transitions(replay_trials[animal][d])\n",
    "    delta_behavior = find_behavior_sum(animal,None,[d,d2])\n",
    "    for t_ind in range(len(transitions)):\n",
    "        (i,j) = transitions[t_ind]\n",
    "        axe_i, axe_j = (i,j)#int(np.floor(t_ind/3)), int(t_ind % 3)\n",
    "        axes[axe_i, axe_j].scatter(T_wouldhave2[list(T_wouldhave2.keys())[0]][i,j], delta_behavior[i,j],\n",
    "                                   color = 'k', alpha = 0.5)\n",
    "        \n",
    "                                  #color = cmap(norm(d_ind)))\n",
    "plt.suptitle(animal + '\\n would have been transition 2')\n",
    "for axe_i in range(4):\n",
    "    for axe_j in range(4):\n",
    "        if axe_j == 0:\n",
    "            axes[axe_i, axe_j].set_ylabel(\"# of CoM w. long theta\")\n",
    "        if axe_i == 3:\n",
    "            axes[axe_i, axe_j].set_xlabel(\"changes(behavior)\")\n",
    "        axes[axe_i, axe_j].set_title(f\"arm{axe_i+1} to {axe_j+1}\")"
   ]
  },
  {
   "cell_type": "code",
   "execution_count": 233,
   "id": "937b6b11-582c-4b23-81e7-48a03c09953d",
   "metadata": {},
   "outputs": [
    {
     "data": {
      "text/plain": [
       "Text(0.0, -0.26344086021505375, 'p value = 0.2286, slope is -0.01, R2 is 0.011')"
      ]
     },
     "execution_count": 233,
     "metadata": {},
     "output_type": "execute_result"
    },
    {
     "data": {
      "image/png": "[encoded data removed]",
      "text/plain": [
       "<Figure size 400x400 with 1 Axes>"
      ]
     },
     "metadata": {},
     "output_type": "display_data"
    }
   ],
   "source": [
    "fig,axes = plt.subplots(1,1,figsize = (4,4),sharex = True, sharey = True)\n",
    "x = np.concatenate(T_wouldhave_count2)\n",
    "y = np.concatenate(behavior_count)\n",
    "results, pvalue = fitLM(x,y)\n",
    "    \n",
    "axes.scatter(x, y, alpha = 0.4)\n",
    "x_plot=np.linspace(np.min(x),np.max(x),10).reshape(-1,1)\n",
    "y_plot=results.predict(sm.add_constant(x_plot))\n",
    "pvalue_beta = results.pvalues[1]\n",
    "    \n",
    "axes.plot(x_plot,y_plot,color='blue',linewidth=3,label = str(pvalue))\n",
    "axes.text(np.min(x),np.min(y),\n",
    "          f'p value = {np.round(pvalue_beta,4)}, slope is {np.round(results.params[1],4)}, R2 is {np.around(results.rsquared,3)}')\n",
    "\n",
    "#jitter = np.random.uniform(high = 0.2, size = len(np.concatenate(T_wouldhave_count1)))\n",
    "#axes.scatter(np.concatenate(T_wouldhave_count1),np.concatenate(behavior_count) > 0 + jitter, alpha = 0.4)"
   ]
  },
  {
   "cell_type": "code",
   "execution_count": null,
   "id": "a8ab420b-b630-4b98-b5b9-f47f13642216",
   "metadata": {},
   "outputs": [],
   "source": []
  }
 ],
 "metadata": {
  "kernelspec": {
   "display_name": "Python 3 (ipykernel)",
   "language": "python",
   "name": "python3"
  },
  "language_info": {
   "codemirror_mode": {
    "name": "ipython",
    "version": 3
   },
   "file_extension": ".py",
   "mimetype": "text/x-python",
   "name": "python",
   "nbconvert_exporter": "python",
   "pygments_lexer": "ipython3",
   "version": "3.10.17"
  }
 },
 "nbformat": 4,
 "nbformat_minor": 5
}
