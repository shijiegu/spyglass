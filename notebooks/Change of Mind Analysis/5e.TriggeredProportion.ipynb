{
 "cells": [
  {
   "cell_type": "markdown",
   "id": "5c2d0976-b5aa-4b18-a3cc-f0b4e2e21f5e",
   "metadata": {},
   "source": [
    "## 5e. Test the hypothesis that animals are closer to the well for the theta sequences extending farther away from the animal."
   ]
  },
  {
   "cell_type": "code",
   "execution_count": 2,
   "id": "a13280af-985d-429f-b199-bfdae466d2a1",
   "metadata": {},
   "outputs": [],
   "source": [
    "%reload_ext autoreload\n",
    "%autoreload 2"
   ]
  },
  {
   "cell_type": "code",
   "execution_count": 3,
   "id": "665f406b-b57a-4b19-960e-887af5870e3f",
   "metadata": {},
   "outputs": [
    {
     "name": "stderr",
     "output_type": "stream",
     "text": [
      "[2025-03-13 21:51:31,284][INFO]: Connecting shijiegu-alt@lmf-db.cin.ucsf.edu:3306\n",
      "[2025-03-13 21:51:31,322][INFO]: Connected shijiegu-alt@lmf-db.cin.ucsf.edu:3306\n"
     ]
    }
   ],
   "source": [
    "import spyglass as nd\n",
    "import pandas as pd\n",
    "import numpy as np\n",
    "import xarray as xr\n",
    "from scipy import stats\n",
    "from scipy import linalg\n",
    "import os\n",
    "import pickle\n",
    "import matplotlib.pyplot as plt\n",
    "from ripple_detection.core import segment_boolean_series\n",
    "\n",
    "from spyglass.common import (Session, IntervalList,LabMember, LabTeam, Raw, Session, Nwbfile,\n",
    "                            Electrode,LFPBand,interval_list_intersect)\n",
    "from spyglass.common import TaskEpoch\n",
    "from spyglass.spikesorting.v0 import (SortGroup, \n",
    "                                    SpikeSortingRecording,SpikeSortingRecordingSelection)\n",
    "from spyglass.utils.nwb_helper_fn import get_nwb_copy_filename\n",
    "from spyglass.common.common_position import IntervalPositionInfo, RawPosition, IntervalLinearizedPosition, TrackGraph"
   ]
  },
  {
   "cell_type": "code",
   "execution_count": 4,
   "id": "cd242c8e-aaa3-4a2b-a3f0-1beef267cac9",
   "metadata": {},
   "outputs": [],
   "source": [
    "from spyglass.shijiegu.pairwiseDecode import merge_overlapping_ranges,removeEmptyDecode\n",
    "from spyglass.shijiegu.ripple_add_replay import remove_adjacent\n",
    "from spyglass.shijiegu.pairwiseDecode import replay_transitions,categorized_replay_transitions,behavior_transitions,behavior_transitions_count,findXCorrAllDays\n",
    "from spyglass.shijiegu.decodeHelpers import runSessionNames"
   ]
  },
  {
   "cell_type": "code",
   "execution_count": 5,
   "id": "1f0f9d80-e3c8-488c-afde-0e868fb7ede3",
   "metadata": {},
   "outputs": [
    {
     "name": "stderr",
     "output_type": "stream",
     "text": [
      "[21:51:36][WARNING] Spyglass: Deprecation: this class has been moved out of spyglass.common.common_position\n",
      "\tTrackGraph -> spyglass.linearization.v0.main.TrackGraph\n",
      "Please use the new location.\n",
      "[21:51:36][WARNING] Spyglass: Deprecation: this class has been moved out of spyglass.common.common_position\n",
      "\tTrackGraph -> spyglass.linearization.v0.main.TrackGraph\n",
      "Please use the new location.\n",
      "[21:51:36][WARNING] Spyglass: Deprecation: this class has been moved out of spyglass.common.common_position\n",
      "\tTrackGraph -> spyglass.linearization.v0.main.TrackGraph\n",
      "Please use the new location.\n",
      "[21:51:36][WARNING] Spyglass: Deprecation: this class has been moved out of spyglass.common.common_position\n",
      "\tTrackGraph -> spyglass.linearization.v0.main.TrackGraph\n",
      "Please use the new location.\n"
     ]
    }
   ],
   "source": [
    "from spyglass.shijiegu.Analysis_SGU import TrialChoice,EpochPos,MUA,get_linearization_map,TrialChoiceChangeOfMind\n",
    "from spyglass.shijiegu.decodeHelpers import runSessionNames\n",
    "from spyglass.shijiegu.ripple_add_replay import plot_decode_spiking\n",
    "from spyglass.shijiegu.changeOfMind import (find_turnaround_time, findProportion,\n",
    "            find_trials, load_epoch_data_wrapper, find_direction, find_trials_animal,\n",
    "            find_statescrripts)\n",
    "from spyglass.shijiegu.changeOfMind_triggered import (find_triggered_animal,find_triggered_transition_animal,\n",
    "    find_triggered_log_session, find_triggered_log_animal,fitLM,labels,seq1,seq2,rev1,rev2,rev3)"
   ]
  },
  {
   "cell_type": "code",
   "execution_count": 6,
   "id": "87cdcb52-0f9a-47ae-9728-5f214b0c006c",
   "metadata": {},
   "outputs": [],
   "source": [
    "import statsmodels.api as sm\n",
    "from spyglass.shijiegu.changeOfMind_triggered import (find_triggered_animal,\n",
    "    plot_physical_vs_mental_position, parse_to_transitions, \n",
    "    find_large_position_minus_decode_trials, normalize_to_1, matrix_correlation,\n",
    "    find_behavior_sum, find_transitions_sum, find_transitions, correlate_transition_deltabehavior,trials_date_session_to_dict\n",
    ")\n",
    "from spyglass.shijiegu.pairwiseDecode import behavior_transitions_count"
   ]
  },
  {
   "cell_type": "code",
   "execution_count": 12,
   "id": "747c650a-2f04-4073-8187-bb4a7ccb8001",
   "metadata": {},
   "outputs": [],
   "source": [
    "from spyglass.shijiegu.changeOfMind_proportion import find_proportion_by_theta"
   ]
  },
  {
   "cell_type": "code",
   "execution_count": 7,
   "id": "a3c3e3e5-ea88-48c4-b730-557b25bacd83",
   "metadata": {},
   "outputs": [],
   "source": [
    "animal = 'eliot'\n",
    "dates_to_plot = ['20221018','20221019','20221020','20221021','20221022','20221023','20221024','20221025','20221026']\n",
    "\n",
    "encoding_set = '2Dheadspeed_above_4_andlowmua'\n",
    "classifier_param_name = 'default_decoding_gpu_4armMaze'\n",
    "datafolder = f'/cumulus/shijie/behavior_pilot/Batch1/{animal}'"
   ]
  },
  {
   "cell_type": "code",
   "execution_count": 156,
   "id": "3a41555e-6ae0-489d-a5b2-012d16941ffc",
   "metadata": {},
   "outputs": [],
   "source": [
    "animal = 'lewis'\n",
    "\n",
    "dates_to_plot = ['20240105','20240106','20240107','20240108','20240109',\n",
    "                 '20240110']#'20240114']#'20240115','20240116','20240117','20240118','20240119','20240120']\n",
    "\n",
    "#dates_to_plot = ['20240115','20240116','20240117','20240118','20240119','20240120']"
   ]
  },
  {
   "cell_type": "code",
   "execution_count": 186,
   "id": "a688dba1-1a9a-4bda-bde5-48b2966a879f",
   "metadata": {},
   "outputs": [],
   "source": [
    "animal = 'lewis'\n",
    "dates_to_plot = ['20240115','20240116','20240117','20240118','20240119','20240120']"
   ]
  },
  {
   "cell_type": "code",
   "execution_count": 200,
   "id": "5b407b16-c354-4236-a69a-549cf0298b21",
   "metadata": {},
   "outputs": [
    {
     "data": {
      "text/plain": [
       "['20221018',\n",
       " '20221019',\n",
       " '20221020',\n",
       " '20221021',\n",
       " '20221022',\n",
       " '20221023',\n",
       " '20221024',\n",
       " '20221025',\n",
       " '20221026']"
      ]
     },
     "execution_count": 200,
     "metadata": {},
     "output_type": "execute_result"
    }
   ],
   "source": [
    "dates_to_plot"
   ]
  },
  {
   "cell_type": "code",
   "execution_count": 15,
   "id": "22aed42e-39b5-42b0-ae0f-f795153a7428",
   "metadata": {
    "scrolled": true
   },
   "outputs": [
    {
     "name": "stderr",
     "output_type": "stream",
     "text": [
      "[22:20:27][WARNING] Spyglass: Deprecation: this class has been moved out of spyglass.common.common_position\n",
      "\tIntervalLinearizedPosition -> spyglass.linearization.v0.main.IntervalLinearizedPosition\n",
      "Please use the new location.\n"
     ]
    },
    {
     "name": "stdout",
     "output_type": "stream",
     "text": [
      "currently investigating:\n",
      "02_Seq2Session1\n",
      "pos 1 valid times\n"
     ]
    },
    {
     "name": "stderr",
     "output_type": "stream",
     "text": [
      "[22:20:28][WARNING] Spyglass: Deprecation: this class has been moved out of spyglass.common.common_position\n",
      "\tIntervalLinearizedPosition -> spyglass.linearization.v0.main.IntervalLinearizedPosition\n",
      "Please use the new location.\n",
      "[22:20:28][WARNING] Spyglass: Deprecation: this class has been moved out of spyglass.common.common_position\n",
      "\tIntervalLinearizedPosition -> spyglass.linearization.v0.main.IntervalLinearizedPosition\n",
      "Please use the new location.\n"
     ]
    },
    {
     "name": "stdout",
     "output_type": "stream",
     "text": [
      "currently investigating:\n",
      "04_Seq2Session2\n",
      "pos 3 valid times\n",
      "currently investigating:\n",
      "05_Seq2Session3\n",
      "pos 4 valid times\n"
     ]
    },
    {
     "name": "stderr",
     "output_type": "stream",
     "text": [
      "[22:20:29][WARNING] Spyglass: Deprecation: this class has been moved out of spyglass.common.common_position\n",
      "\tIntervalLinearizedPosition -> spyglass.linearization.v0.main.IntervalLinearizedPosition\n",
      "Please use the new location.\n"
     ]
    },
    {
     "name": "stdout",
     "output_type": "stream",
     "text": [
      "currently investigating:\n",
      "07_Seq2Session4\n",
      "pos 6 valid times\n"
     ]
    },
    {
     "name": "stderr",
     "output_type": "stream",
     "text": [
      "[22:20:30][WARNING] Spyglass: Deprecation: this class has been moved out of spyglass.common.common_position\n",
      "\tIntervalLinearizedPosition -> spyglass.linearization.v0.main.IntervalLinearizedPosition\n",
      "Please use the new location.\n"
     ]
    },
    {
     "name": "stdout",
     "output_type": "stream",
     "text": [
      "currently investigating:\n",
      "09_Seq2Session5\n",
      "pos 8 valid times\n"
     ]
    },
    {
     "name": "stderr",
     "output_type": "stream",
     "text": [
      "[22:20:31][WARNING] Spyglass: Deprecation: this class has been moved out of spyglass.common.common_position\n",
      "\tIntervalLinearizedPosition -> spyglass.linearization.v0.main.IntervalLinearizedPosition\n",
      "Please use the new location.\n"
     ]
    },
    {
     "name": "stdout",
     "output_type": "stream",
     "text": [
      "currently investigating:\n",
      "11_Seq2Session6\n",
      "pos 10 valid times\n"
     ]
    },
    {
     "name": "stderr",
     "output_type": "stream",
     "text": [
      "[22:20:31][WARNING] Spyglass: Deprecation: this class has been moved out of spyglass.common.common_position\n",
      "\tIntervalLinearizedPosition -> spyglass.linearization.v0.main.IntervalLinearizedPosition\n",
      "Please use the new location.\n"
     ]
    },
    {
     "name": "stdout",
     "output_type": "stream",
     "text": [
      "currently investigating:\n",
      "02_Seq2Session1\n",
      "pos 1 valid times\n"
     ]
    },
    {
     "name": "stderr",
     "output_type": "stream",
     "text": [
      "[22:20:32][WARNING] Spyglass: Deprecation: this class has been moved out of spyglass.common.common_position\n",
      "\tIntervalLinearizedPosition -> spyglass.linearization.v0.main.IntervalLinearizedPosition\n",
      "Please use the new location.\n",
      "[22:20:32][WARNING] Spyglass: Deprecation: this class has been moved out of spyglass.common.common_position\n",
      "\tIntervalLinearizedPosition -> spyglass.linearization.v0.main.IntervalLinearizedPosition\n",
      "Please use the new location.\n"
     ]
    },
    {
     "name": "stdout",
     "output_type": "stream",
     "text": [
      "currently investigating:\n",
      "04_Seq2Session2\n",
      "pos 3 valid times\n",
      "currently investigating:\n",
      "05_Seq2Session3\n",
      "pos 4 valid times\n"
     ]
    },
    {
     "name": "stderr",
     "output_type": "stream",
     "text": [
      "[22:20:33][WARNING] Spyglass: Deprecation: this class has been moved out of spyglass.common.common_position\n",
      "\tIntervalLinearizedPosition -> spyglass.linearization.v0.main.IntervalLinearizedPosition\n",
      "Please use the new location.\n"
     ]
    },
    {
     "name": "stdout",
     "output_type": "stream",
     "text": [
      "currently investigating:\n",
      "07_Seq2Session4\n",
      "pos 6 valid times\n"
     ]
    },
    {
     "name": "stderr",
     "output_type": "stream",
     "text": [
      "[22:20:34][WARNING] Spyglass: Deprecation: this class has been moved out of spyglass.common.common_position\n",
      "\tIntervalLinearizedPosition -> spyglass.linearization.v0.main.IntervalLinearizedPosition\n",
      "Please use the new location.\n"
     ]
    },
    {
     "name": "stdout",
     "output_type": "stream",
     "text": [
      "currently investigating:\n",
      "09_Seq2Session5\n",
      "pos 8 valid times\n"
     ]
    },
    {
     "name": "stderr",
     "output_type": "stream",
     "text": [
      "[22:20:34][WARNING] Spyglass: Deprecation: this class has been moved out of spyglass.common.common_position\n",
      "\tIntervalLinearizedPosition -> spyglass.linearization.v0.main.IntervalLinearizedPosition\n",
      "Please use the new location.\n"
     ]
    },
    {
     "name": "stdout",
     "output_type": "stream",
     "text": [
      "currently investigating:\n",
      "11_Seq2Session6\n",
      "pos 10 valid times\n"
     ]
    },
    {
     "name": "stderr",
     "output_type": "stream",
     "text": [
      "[22:21:18][WARNING] Spyglass: Deprecation: this class has been moved out of spyglass.common.common_position\n",
      "\tIntervalLinearizedPosition -> spyglass.linearization.v0.main.IntervalLinearizedPosition\n",
      "Please use the new location.\n"
     ]
    },
    {
     "name": "stdout",
     "output_type": "stream",
     "text": [
      "currently investigating:\n",
      "02_Seq2Session1\n",
      "pos 1 valid times\n"
     ]
    },
    {
     "name": "stderr",
     "output_type": "stream",
     "text": [
      "[22:21:19][WARNING] Spyglass: Deprecation: this class has been moved out of spyglass.common.common_position\n",
      "\tIntervalLinearizedPosition -> spyglass.linearization.v0.main.IntervalLinearizedPosition\n",
      "Please use the new location.\n"
     ]
    },
    {
     "name": "stdout",
     "output_type": "stream",
     "text": [
      "currently investigating:\n",
      "04_Seq2Session2\n",
      "pos 3 valid times\n"
     ]
    },
    {
     "name": "stderr",
     "output_type": "stream",
     "text": [
      "[22:21:21][WARNING] Spyglass: Deprecation: this class has been moved out of spyglass.common.common_position\n",
      "\tIntervalLinearizedPosition -> spyglass.linearization.v0.main.IntervalLinearizedPosition\n",
      "Please use the new location.\n"
     ]
    },
    {
     "name": "stdout",
     "output_type": "stream",
     "text": [
      "currently investigating:\n",
      "06_Seq2Session3\n",
      "pos 5 valid times\n"
     ]
    },
    {
     "name": "stderr",
     "output_type": "stream",
     "text": [
      "[22:21:23][WARNING] Spyglass: Deprecation: this class has been moved out of spyglass.common.common_position\n",
      "\tIntervalLinearizedPosition -> spyglass.linearization.v0.main.IntervalLinearizedPosition\n",
      "Please use the new location.\n"
     ]
    },
    {
     "name": "stdout",
     "output_type": "stream",
     "text": [
      "currently investigating:\n",
      "08_Seq2Session4\n",
      "pos 7 valid times\n",
      "some missing position data\n",
      "some missing position data\n"
     ]
    },
    {
     "name": "stderr",
     "output_type": "stream",
     "text": [
      "[22:21:25][WARNING] Spyglass: Deprecation: this class has been moved out of spyglass.common.common_position\n",
      "\tIntervalLinearizedPosition -> spyglass.linearization.v0.main.IntervalLinearizedPosition\n",
      "Please use the new location.\n"
     ]
    },
    {
     "name": "stdout",
     "output_type": "stream",
     "text": [
      "currently investigating:\n",
      "10_Seq2Session5\n",
      "pos 9 valid times\n"
     ]
    },
    {
     "name": "stderr",
     "output_type": "stream",
     "text": [
      "[22:21:27][WARNING] Spyglass: Deprecation: this class has been moved out of spyglass.common.common_position\n",
      "\tIntervalLinearizedPosition -> spyglass.linearization.v0.main.IntervalLinearizedPosition\n",
      "Please use the new location.\n"
     ]
    },
    {
     "name": "stdout",
     "output_type": "stream",
     "text": [
      "currently investigating:\n",
      "02_Seq2Session1\n",
      "pos 1 valid times\n"
     ]
    },
    {
     "name": "stderr",
     "output_type": "stream",
     "text": [
      "[22:21:28][WARNING] Spyglass: Deprecation: this class has been moved out of spyglass.common.common_position\n",
      "\tIntervalLinearizedPosition -> spyglass.linearization.v0.main.IntervalLinearizedPosition\n",
      "Please use the new location.\n"
     ]
    },
    {
     "name": "stdout",
     "output_type": "stream",
     "text": [
      "currently investigating:\n",
      "04_Seq2Session2\n",
      "pos 3 valid times\n"
     ]
    },
    {
     "name": "stderr",
     "output_type": "stream",
     "text": [
      "[22:21:30][WARNING] Spyglass: Deprecation: this class has been moved out of spyglass.common.common_position\n",
      "\tIntervalLinearizedPosition -> spyglass.linearization.v0.main.IntervalLinearizedPosition\n",
      "Please use the new location.\n"
     ]
    },
    {
     "name": "stdout",
     "output_type": "stream",
     "text": [
      "currently investigating:\n",
      "06_Seq2Session3\n",
      "pos 5 valid times\n"
     ]
    },
    {
     "name": "stderr",
     "output_type": "stream",
     "text": [
      "[22:21:32][WARNING] Spyglass: Deprecation: this class has been moved out of spyglass.common.common_position\n",
      "\tIntervalLinearizedPosition -> spyglass.linearization.v0.main.IntervalLinearizedPosition\n",
      "Please use the new location.\n"
     ]
    },
    {
     "name": "stdout",
     "output_type": "stream",
     "text": [
      "currently investigating:\n",
      "08_Seq2Session4\n",
      "pos 7 valid times\n"
     ]
    },
    {
     "name": "stderr",
     "output_type": "stream",
     "text": [
      "[22:21:33][WARNING] Spyglass: Deprecation: this class has been moved out of spyglass.common.common_position\n",
      "\tIntervalLinearizedPosition -> spyglass.linearization.v0.main.IntervalLinearizedPosition\n",
      "Please use the new location.\n"
     ]
    },
    {
     "name": "stdout",
     "output_type": "stream",
     "text": [
      "currently investigating:\n",
      "10_Seq2Session5\n",
      "pos 9 valid times\n"
     ]
    },
    {
     "name": "stderr",
     "output_type": "stream",
     "text": [
      "[22:22:11][WARNING] Spyglass: Deprecation: this class has been moved out of spyglass.common.common_position\n",
      "\tIntervalLinearizedPosition -> spyglass.linearization.v0.main.IntervalLinearizedPosition\n",
      "Please use the new location.\n"
     ]
    },
    {
     "name": "stdout",
     "output_type": "stream",
     "text": [
      "currently investigating:\n",
      "02_Seq2Session1\n",
      "pos 1 valid times\n"
     ]
    },
    {
     "name": "stderr",
     "output_type": "stream",
     "text": [
      "[22:22:12][WARNING] Spyglass: Deprecation: this class has been moved out of spyglass.common.common_position\n",
      "\tIntervalLinearizedPosition -> spyglass.linearization.v0.main.IntervalLinearizedPosition\n",
      "Please use the new location.\n"
     ]
    },
    {
     "name": "stdout",
     "output_type": "stream",
     "text": [
      "currently investigating:\n",
      "04_Seq2Session2\n",
      "pos 3 valid times\n"
     ]
    },
    {
     "name": "stderr",
     "output_type": "stream",
     "text": [
      "[22:22:13][WARNING] Spyglass: Deprecation: this class has been moved out of spyglass.common.common_position\n",
      "\tIntervalLinearizedPosition -> spyglass.linearization.v0.main.IntervalLinearizedPosition\n",
      "Please use the new location.\n"
     ]
    },
    {
     "name": "stdout",
     "output_type": "stream",
     "text": [
      "currently investigating:\n",
      "06_Seq2Session3\n",
      "pos 5 valid times\n"
     ]
    },
    {
     "name": "stderr",
     "output_type": "stream",
     "text": [
      "[22:22:14][WARNING] Spyglass: Deprecation: this class has been moved out of spyglass.common.common_position\n",
      "\tIntervalLinearizedPosition -> spyglass.linearization.v0.main.IntervalLinearizedPosition\n",
      "Please use the new location.\n"
     ]
    },
    {
     "name": "stdout",
     "output_type": "stream",
     "text": [
      "currently investigating:\n",
      "08_Seq2Session4\n",
      "pos 7 valid times\n"
     ]
    },
    {
     "name": "stderr",
     "output_type": "stream",
     "text": [
      "[22:22:15][WARNING] Spyglass: Deprecation: this class has been moved out of spyglass.common.common_position\n",
      "\tIntervalLinearizedPosition -> spyglass.linearization.v0.main.IntervalLinearizedPosition\n",
      "Please use the new location.\n"
     ]
    },
    {
     "name": "stdout",
     "output_type": "stream",
     "text": [
      "currently investigating:\n",
      "10_Seq2Session5\n",
      "pos 9 valid times\n",
      "some missing position data\n",
      "some missing position data\n"
     ]
    },
    {
     "name": "stderr",
     "output_type": "stream",
     "text": [
      "[22:22:17][WARNING] Spyglass: Deprecation: this class has been moved out of spyglass.common.common_position\n",
      "\tIntervalLinearizedPosition -> spyglass.linearization.v0.main.IntervalLinearizedPosition\n",
      "Please use the new location.\n"
     ]
    },
    {
     "name": "stdout",
     "output_type": "stream",
     "text": [
      "currently investigating:\n",
      "12_Seq2Session6\n",
      "pos 11 valid times\n"
     ]
    },
    {
     "name": "stderr",
     "output_type": "stream",
     "text": [
      "[22:22:19][WARNING] Spyglass: Deprecation: this class has been moved out of spyglass.common.common_position\n",
      "\tIntervalLinearizedPosition -> spyglass.linearization.v0.main.IntervalLinearizedPosition\n",
      "Please use the new location.\n"
     ]
    },
    {
     "name": "stdout",
     "output_type": "stream",
     "text": [
      "currently investigating:\n",
      "02_Seq2Session1\n",
      "pos 1 valid times\n"
     ]
    },
    {
     "name": "stderr",
     "output_type": "stream",
     "text": [
      "[22:22:20][WARNING] Spyglass: Deprecation: this class has been moved out of spyglass.common.common_position\n",
      "\tIntervalLinearizedPosition -> spyglass.linearization.v0.main.IntervalLinearizedPosition\n",
      "Please use the new location.\n"
     ]
    },
    {
     "name": "stdout",
     "output_type": "stream",
     "text": [
      "currently investigating:\n",
      "04_Seq2Session2\n",
      "pos 3 valid times\n"
     ]
    },
    {
     "name": "stderr",
     "output_type": "stream",
     "text": [
      "[22:22:22][WARNING] Spyglass: Deprecation: this class has been moved out of spyglass.common.common_position\n",
      "\tIntervalLinearizedPosition -> spyglass.linearization.v0.main.IntervalLinearizedPosition\n",
      "Please use the new location.\n"
     ]
    },
    {
     "name": "stdout",
     "output_type": "stream",
     "text": [
      "currently investigating:\n",
      "06_Seq2Session3\n",
      "pos 5 valid times\n"
     ]
    },
    {
     "name": "stderr",
     "output_type": "stream",
     "text": [
      "[22:22:23][WARNING] Spyglass: Deprecation: this class has been moved out of spyglass.common.common_position\n",
      "\tIntervalLinearizedPosition -> spyglass.linearization.v0.main.IntervalLinearizedPosition\n",
      "Please use the new location.\n"
     ]
    },
    {
     "name": "stdout",
     "output_type": "stream",
     "text": [
      "currently investigating:\n",
      "08_Seq2Session4\n",
      "pos 7 valid times\n"
     ]
    },
    {
     "name": "stderr",
     "output_type": "stream",
     "text": [
      "[22:22:24][WARNING] Spyglass: Deprecation: this class has been moved out of spyglass.common.common_position\n",
      "\tIntervalLinearizedPosition -> spyglass.linearization.v0.main.IntervalLinearizedPosition\n",
      "Please use the new location.\n"
     ]
    },
    {
     "name": "stdout",
     "output_type": "stream",
     "text": [
      "currently investigating:\n",
      "10_Seq2Session5\n",
      "pos 9 valid times\n"
     ]
    },
    {
     "name": "stderr",
     "output_type": "stream",
     "text": [
      "[22:22:26][WARNING] Spyglass: Deprecation: this class has been moved out of spyglass.common.common_position\n",
      "\tIntervalLinearizedPosition -> spyglass.linearization.v0.main.IntervalLinearizedPosition\n",
      "Please use the new location.\n"
     ]
    },
    {
     "name": "stdout",
     "output_type": "stream",
     "text": [
      "currently investigating:\n",
      "12_Seq2Session6\n",
      "pos 11 valid times\n"
     ]
    },
    {
     "name": "stderr",
     "output_type": "stream",
     "text": [
      "[22:23:04][WARNING] Spyglass: Deprecation: this class has been moved out of spyglass.common.common_position\n",
      "\tIntervalLinearizedPosition -> spyglass.linearization.v0.main.IntervalLinearizedPosition\n",
      "Please use the new location.\n"
     ]
    },
    {
     "name": "stdout",
     "output_type": "stream",
     "text": [
      "currently investigating:\n",
      "02_Seq2Session1\n",
      "pos 1 valid times\n"
     ]
    },
    {
     "name": "stderr",
     "output_type": "stream",
     "text": [
      "[22:23:06][WARNING] Spyglass: Deprecation: this class has been moved out of spyglass.common.common_position\n",
      "\tIntervalLinearizedPosition -> spyglass.linearization.v0.main.IntervalLinearizedPosition\n",
      "Please use the new location.\n"
     ]
    },
    {
     "name": "stdout",
     "output_type": "stream",
     "text": [
      "currently investigating:\n",
      "04_Seq2Session2\n",
      "pos 3 valid times\n"
     ]
    },
    {
     "name": "stderr",
     "output_type": "stream",
     "text": [
      "[22:23:09][WARNING] Spyglass: Deprecation: this class has been moved out of spyglass.common.common_position\n",
      "\tIntervalLinearizedPosition -> spyglass.linearization.v0.main.IntervalLinearizedPosition\n",
      "Please use the new location.\n"
     ]
    },
    {
     "name": "stdout",
     "output_type": "stream",
     "text": [
      "currently investigating:\n",
      "06_Seq2Session3\n",
      "pos 5 valid times\n",
      "some missing position data\n"
     ]
    },
    {
     "name": "stderr",
     "output_type": "stream",
     "text": [
      "[22:23:10][WARNING] Spyglass: Deprecation: this class has been moved out of spyglass.common.common_position\n",
      "\tIntervalLinearizedPosition -> spyglass.linearization.v0.main.IntervalLinearizedPosition\n",
      "Please use the new location.\n"
     ]
    },
    {
     "name": "stdout",
     "output_type": "stream",
     "text": [
      "currently investigating:\n",
      "08_Seq2Session4\n",
      "pos 7 valid times\n"
     ]
    },
    {
     "name": "stderr",
     "output_type": "stream",
     "text": [
      "[22:23:11][WARNING] Spyglass: Deprecation: this class has been moved out of spyglass.common.common_position\n",
      "\tIntervalLinearizedPosition -> spyglass.linearization.v0.main.IntervalLinearizedPosition\n",
      "Please use the new location.\n"
     ]
    },
    {
     "name": "stdout",
     "output_type": "stream",
     "text": [
      "currently investigating:\n",
      "02_Seq2Session1\n",
      "pos 1 valid times\n"
     ]
    },
    {
     "name": "stderr",
     "output_type": "stream",
     "text": [
      "[22:23:12][WARNING] Spyglass: Deprecation: this class has been moved out of spyglass.common.common_position\n",
      "\tIntervalLinearizedPosition -> spyglass.linearization.v0.main.IntervalLinearizedPosition\n",
      "Please use the new location.\n"
     ]
    },
    {
     "name": "stdout",
     "output_type": "stream",
     "text": [
      "currently investigating:\n",
      "04_Seq2Session2\n",
      "pos 3 valid times\n"
     ]
    },
    {
     "name": "stderr",
     "output_type": "stream",
     "text": [
      "[22:23:13][WARNING] Spyglass: Deprecation: this class has been moved out of spyglass.common.common_position\n",
      "\tIntervalLinearizedPosition -> spyglass.linearization.v0.main.IntervalLinearizedPosition\n",
      "Please use the new location.\n"
     ]
    },
    {
     "name": "stdout",
     "output_type": "stream",
     "text": [
      "currently investigating:\n",
      "06_Seq2Session3\n",
      "pos 5 valid times\n"
     ]
    },
    {
     "name": "stderr",
     "output_type": "stream",
     "text": [
      "[22:23:14][WARNING] Spyglass: Deprecation: this class has been moved out of spyglass.common.common_position\n",
      "\tIntervalLinearizedPosition -> spyglass.linearization.v0.main.IntervalLinearizedPosition\n",
      "Please use the new location.\n"
     ]
    },
    {
     "name": "stdout",
     "output_type": "stream",
     "text": [
      "currently investigating:\n",
      "08_Seq2Session4\n",
      "pos 7 valid times\n"
     ]
    },
    {
     "name": "stderr",
     "output_type": "stream",
     "text": [
      "[22:23:36][WARNING] Spyglass: Deprecation: this class has been moved out of spyglass.common.common_position\n",
      "\tIntervalLinearizedPosition -> spyglass.linearization.v0.main.IntervalLinearizedPosition\n",
      "Please use the new location.\n"
     ]
    },
    {
     "name": "stdout",
     "output_type": "stream",
     "text": [
      "currently investigating:\n",
      "02_Seq2Session1\n",
      "pos 1 valid times\n"
     ]
    },
    {
     "name": "stderr",
     "output_type": "stream",
     "text": [
      "[22:23:37][WARNING] Spyglass: Deprecation: this class has been moved out of spyglass.common.common_position\n",
      "\tIntervalLinearizedPosition -> spyglass.linearization.v0.main.IntervalLinearizedPosition\n",
      "Please use the new location.\n"
     ]
    },
    {
     "name": "stdout",
     "output_type": "stream",
     "text": [
      "currently investigating:\n",
      "04_Seq2Session2\n",
      "pos 3 valid times\n"
     ]
    },
    {
     "name": "stderr",
     "output_type": "stream",
     "text": [
      "[22:23:37][WARNING] Spyglass: Deprecation: this class has been moved out of spyglass.common.common_position\n",
      "\tIntervalLinearizedPosition -> spyglass.linearization.v0.main.IntervalLinearizedPosition\n",
      "Please use the new location.\n"
     ]
    },
    {
     "name": "stdout",
     "output_type": "stream",
     "text": [
      "currently investigating:\n",
      "06_Seq2Session3\n",
      "pos 5 valid times\n"
     ]
    },
    {
     "name": "stderr",
     "output_type": "stream",
     "text": [
      "[22:23:38][WARNING] Spyglass: Deprecation: this class has been moved out of spyglass.common.common_position\n",
      "\tIntervalLinearizedPosition -> spyglass.linearization.v0.main.IntervalLinearizedPosition\n",
      "Please use the new location.\n"
     ]
    },
    {
     "name": "stdout",
     "output_type": "stream",
     "text": [
      "currently investigating:\n",
      "08_Seq2Session4\n",
      "pos 7 valid times\n"
     ]
    },
    {
     "name": "stderr",
     "output_type": "stream",
     "text": [
      "[22:23:38][WARNING] Spyglass: Deprecation: this class has been moved out of spyglass.common.common_position\n",
      "\tIntervalLinearizedPosition -> spyglass.linearization.v0.main.IntervalLinearizedPosition\n",
      "Please use the new location.\n"
     ]
    },
    {
     "name": "stdout",
     "output_type": "stream",
     "text": [
      "currently investigating:\n",
      "10_Seq2Session5\n",
      "pos 9 valid times\n"
     ]
    },
    {
     "name": "stderr",
     "output_type": "stream",
     "text": [
      "[22:23:39][WARNING] Spyglass: Deprecation: this class has been moved out of spyglass.common.common_position\n",
      "\tIntervalLinearizedPosition -> spyglass.linearization.v0.main.IntervalLinearizedPosition\n",
      "Please use the new location.\n"
     ]
    },
    {
     "name": "stdout",
     "output_type": "stream",
     "text": [
      "currently investigating:\n",
      "02_Seq2Session1\n",
      "pos 1 valid times\n"
     ]
    },
    {
     "name": "stderr",
     "output_type": "stream",
     "text": [
      "[22:23:40][WARNING] Spyglass: Deprecation: this class has been moved out of spyglass.common.common_position\n",
      "\tIntervalLinearizedPosition -> spyglass.linearization.v0.main.IntervalLinearizedPosition\n",
      "Please use the new location.\n"
     ]
    },
    {
     "name": "stdout",
     "output_type": "stream",
     "text": [
      "currently investigating:\n",
      "04_Seq2Session2\n",
      "pos 3 valid times\n"
     ]
    },
    {
     "name": "stderr",
     "output_type": "stream",
     "text": [
      "[22:23:40][WARNING] Spyglass: Deprecation: this class has been moved out of spyglass.common.common_position\n",
      "\tIntervalLinearizedPosition -> spyglass.linearization.v0.main.IntervalLinearizedPosition\n",
      "Please use the new location.\n"
     ]
    },
    {
     "name": "stdout",
     "output_type": "stream",
     "text": [
      "currently investigating:\n",
      "06_Seq2Session3\n",
      "pos 5 valid times\n"
     ]
    },
    {
     "name": "stderr",
     "output_type": "stream",
     "text": [
      "[22:23:41][WARNING] Spyglass: Deprecation: this class has been moved out of spyglass.common.common_position\n",
      "\tIntervalLinearizedPosition -> spyglass.linearization.v0.main.IntervalLinearizedPosition\n",
      "Please use the new location.\n"
     ]
    },
    {
     "name": "stdout",
     "output_type": "stream",
     "text": [
      "currently investigating:\n",
      "08_Seq2Session4\n",
      "pos 7 valid times\n"
     ]
    },
    {
     "name": "stderr",
     "output_type": "stream",
     "text": [
      "[22:23:42][WARNING] Spyglass: Deprecation: this class has been moved out of spyglass.common.common_position\n",
      "\tIntervalLinearizedPosition -> spyglass.linearization.v0.main.IntervalLinearizedPosition\n",
      "Please use the new location.\n"
     ]
    },
    {
     "name": "stdout",
     "output_type": "stream",
     "text": [
      "currently investigating:\n",
      "10_Seq2Session5\n",
      "pos 9 valid times\n"
     ]
    },
    {
     "name": "stderr",
     "output_type": "stream",
     "text": [
      "[22:24:19][WARNING] Spyglass: Deprecation: this class has been moved out of spyglass.common.common_position\n",
      "\tIntervalLinearizedPosition -> spyglass.linearization.v0.main.IntervalLinearizedPosition\n",
      "Please use the new location.\n"
     ]
    },
    {
     "name": "stdout",
     "output_type": "stream",
     "text": [
      "currently investigating:\n",
      "02_Seq2Session1\n",
      "pos 1 valid times\n"
     ]
    },
    {
     "name": "stderr",
     "output_type": "stream",
     "text": [
      "[22:24:20][WARNING] Spyglass: Deprecation: this class has been moved out of spyglass.common.common_position\n",
      "\tIntervalLinearizedPosition -> spyglass.linearization.v0.main.IntervalLinearizedPosition\n",
      "Please use the new location.\n"
     ]
    },
    {
     "name": "stdout",
     "output_type": "stream",
     "text": [
      "currently investigating:\n",
      "04_Seq2Session2\n",
      "pos 3 valid times\n"
     ]
    },
    {
     "name": "stderr",
     "output_type": "stream",
     "text": [
      "[22:24:20][WARNING] Spyglass: Deprecation: this class has been moved out of spyglass.common.common_position\n",
      "\tIntervalLinearizedPosition -> spyglass.linearization.v0.main.IntervalLinearizedPosition\n",
      "Please use the new location.\n"
     ]
    },
    {
     "name": "stdout",
     "output_type": "stream",
     "text": [
      "currently investigating:\n",
      "06_Seq2Session3\n",
      "pos 5 valid times\n"
     ]
    },
    {
     "name": "stderr",
     "output_type": "stream",
     "text": [
      "[22:24:21][WARNING] Spyglass: Deprecation: this class has been moved out of spyglass.common.common_position\n",
      "\tIntervalLinearizedPosition -> spyglass.linearization.v0.main.IntervalLinearizedPosition\n",
      "Please use the new location.\n"
     ]
    },
    {
     "name": "stdout",
     "output_type": "stream",
     "text": [
      "currently investigating:\n",
      "08_Seq2Session4\n",
      "pos 7 valid times\n"
     ]
    },
    {
     "name": "stderr",
     "output_type": "stream",
     "text": [
      "[22:24:21][WARNING] Spyglass: Deprecation: this class has been moved out of spyglass.common.common_position\n",
      "\tIntervalLinearizedPosition -> spyglass.linearization.v0.main.IntervalLinearizedPosition\n",
      "Please use the new location.\n"
     ]
    },
    {
     "name": "stdout",
     "output_type": "stream",
     "text": [
      "some missing position data\n",
      "currently investigating:\n",
      "02_Seq2Session1\n",
      "pos 1 valid times\n"
     ]
    },
    {
     "name": "stderr",
     "output_type": "stream",
     "text": [
      "[22:24:22][WARNING] Spyglass: Deprecation: this class has been moved out of spyglass.common.common_position\n",
      "\tIntervalLinearizedPosition -> spyglass.linearization.v0.main.IntervalLinearizedPosition\n",
      "Please use the new location.\n"
     ]
    },
    {
     "name": "stdout",
     "output_type": "stream",
     "text": [
      "currently investigating:\n",
      "04_Seq2Session2\n",
      "pos 3 valid times\n"
     ]
    },
    {
     "name": "stderr",
     "output_type": "stream",
     "text": [
      "[22:24:22][WARNING] Spyglass: Deprecation: this class has been moved out of spyglass.common.common_position\n",
      "\tIntervalLinearizedPosition -> spyglass.linearization.v0.main.IntervalLinearizedPosition\n",
      "Please use the new location.\n"
     ]
    },
    {
     "name": "stdout",
     "output_type": "stream",
     "text": [
      "currently investigating:\n",
      "06_Seq2Session3\n",
      "pos 5 valid times\n"
     ]
    },
    {
     "name": "stderr",
     "output_type": "stream",
     "text": [
      "[22:24:23][WARNING] Spyglass: Deprecation: this class has been moved out of spyglass.common.common_position\n",
      "\tIntervalLinearizedPosition -> spyglass.linearization.v0.main.IntervalLinearizedPosition\n",
      "Please use the new location.\n"
     ]
    },
    {
     "name": "stdout",
     "output_type": "stream",
     "text": [
      "currently investigating:\n",
      "08_Seq2Session4\n",
      "pos 7 valid times\n"
     ]
    },
    {
     "name": "stderr",
     "output_type": "stream",
     "text": [
      "[22:24:49][WARNING] Spyglass: Deprecation: this class has been moved out of spyglass.common.common_position\n",
      "\tIntervalLinearizedPosition -> spyglass.linearization.v0.main.IntervalLinearizedPosition\n",
      "Please use the new location.\n"
     ]
    },
    {
     "name": "stdout",
     "output_type": "stream",
     "text": [
      "currently investigating:\n",
      "02_Seq2Session2\n",
      "pos 1 valid times\n"
     ]
    },
    {
     "name": "stderr",
     "output_type": "stream",
     "text": [
      "[22:24:50][WARNING] Spyglass: Deprecation: this class has been moved out of spyglass.common.common_position\n",
      "\tIntervalLinearizedPosition -> spyglass.linearization.v0.main.IntervalLinearizedPosition\n",
      "Please use the new location.\n"
     ]
    },
    {
     "name": "stdout",
     "output_type": "stream",
     "text": [
      "currently investigating:\n",
      "04_Seq2Session3\n",
      "pos 3 valid times\n"
     ]
    },
    {
     "name": "stderr",
     "output_type": "stream",
     "text": [
      "[22:24:50][WARNING] Spyglass: Deprecation: this class has been moved out of spyglass.common.common_position\n",
      "\tIntervalLinearizedPosition -> spyglass.linearization.v0.main.IntervalLinearizedPosition\n",
      "Please use the new location.\n"
     ]
    },
    {
     "name": "stdout",
     "output_type": "stream",
     "text": [
      "currently investigating:\n",
      "06_Seq2Session4\n",
      "pos 5 valid times\n"
     ]
    },
    {
     "name": "stderr",
     "output_type": "stream",
     "text": [
      "[22:24:51][WARNING] Spyglass: Deprecation: this class has been moved out of spyglass.common.common_position\n",
      "\tIntervalLinearizedPosition -> spyglass.linearization.v0.main.IntervalLinearizedPosition\n",
      "Please use the new location.\n"
     ]
    },
    {
     "name": "stdout",
     "output_type": "stream",
     "text": [
      "currently investigating:\n",
      "08_Seq2Session5\n",
      "pos 7 valid times\n"
     ]
    },
    {
     "name": "stderr",
     "output_type": "stream",
     "text": [
      "[22:24:52][WARNING] Spyglass: Deprecation: this class has been moved out of spyglass.common.common_position\n",
      "\tIntervalLinearizedPosition -> spyglass.linearization.v0.main.IntervalLinearizedPosition\n",
      "Please use the new location.\n"
     ]
    },
    {
     "name": "stdout",
     "output_type": "stream",
     "text": [
      "currently investigating:\n",
      "10_Seq2Session6\n",
      "pos 9 valid times\n"
     ]
    },
    {
     "name": "stderr",
     "output_type": "stream",
     "text": [
      "[22:24:52][WARNING] Spyglass: Deprecation: this class has been moved out of spyglass.common.common_position\n",
      "\tIntervalLinearizedPosition -> spyglass.linearization.v0.main.IntervalLinearizedPosition\n",
      "Please use the new location.\n"
     ]
    },
    {
     "name": "stdout",
     "output_type": "stream",
     "text": [
      "currently investigating:\n",
      "02_Seq2Session2\n",
      "pos 1 valid times\n"
     ]
    },
    {
     "name": "stderr",
     "output_type": "stream",
     "text": [
      "[22:24:53][WARNING] Spyglass: Deprecation: this class has been moved out of spyglass.common.common_position\n",
      "\tIntervalLinearizedPosition -> spyglass.linearization.v0.main.IntervalLinearizedPosition\n",
      "Please use the new location.\n"
     ]
    },
    {
     "name": "stdout",
     "output_type": "stream",
     "text": [
      "currently investigating:\n",
      "04_Seq2Session3\n",
      "pos 3 valid times\n"
     ]
    },
    {
     "name": "stderr",
     "output_type": "stream",
     "text": [
      "[22:24:53][WARNING] Spyglass: Deprecation: this class has been moved out of spyglass.common.common_position\n",
      "\tIntervalLinearizedPosition -> spyglass.linearization.v0.main.IntervalLinearizedPosition\n",
      "Please use the new location.\n"
     ]
    },
    {
     "name": "stdout",
     "output_type": "stream",
     "text": [
      "currently investigating:\n",
      "06_Seq2Session4\n",
      "pos 5 valid times\n"
     ]
    },
    {
     "name": "stderr",
     "output_type": "stream",
     "text": [
      "[22:24:54][WARNING] Spyglass: Deprecation: this class has been moved out of spyglass.common.common_position\n",
      "\tIntervalLinearizedPosition -> spyglass.linearization.v0.main.IntervalLinearizedPosition\n",
      "Please use the new location.\n"
     ]
    },
    {
     "name": "stdout",
     "output_type": "stream",
     "text": [
      "currently investigating:\n",
      "08_Seq2Session5\n",
      "pos 7 valid times\n"
     ]
    },
    {
     "name": "stderr",
     "output_type": "stream",
     "text": [
      "[22:24:54][WARNING] Spyglass: Deprecation: this class has been moved out of spyglass.common.common_position\n",
      "\tIntervalLinearizedPosition -> spyglass.linearization.v0.main.IntervalLinearizedPosition\n",
      "Please use the new location.\n"
     ]
    },
    {
     "name": "stdout",
     "output_type": "stream",
     "text": [
      "currently investigating:\n",
      "10_Seq2Session6\n",
      "pos 9 valid times\n"
     ]
    },
    {
     "name": "stderr",
     "output_type": "stream",
     "text": [
      "[22:25:29][WARNING] Spyglass: Deprecation: this class has been moved out of spyglass.common.common_position\n",
      "\tIntervalLinearizedPosition -> spyglass.linearization.v0.main.IntervalLinearizedPosition\n",
      "Please use the new location.\n"
     ]
    },
    {
     "name": "stdout",
     "output_type": "stream",
     "text": [
      "currently investigating:\n",
      "02_Seq2Session1\n",
      "pos 1 valid times\n"
     ]
    },
    {
     "name": "stderr",
     "output_type": "stream",
     "text": [
      "[22:25:29][WARNING] Spyglass: Deprecation: this class has been moved out of spyglass.common.common_position\n",
      "\tIntervalLinearizedPosition -> spyglass.linearization.v0.main.IntervalLinearizedPosition\n",
      "Please use the new location.\n"
     ]
    },
    {
     "name": "stdout",
     "output_type": "stream",
     "text": [
      "currently investigating:\n",
      "04_Seq2Session2\n",
      "pos 3 valid times\n"
     ]
    },
    {
     "name": "stderr",
     "output_type": "stream",
     "text": [
      "[22:25:30][WARNING] Spyglass: Deprecation: this class has been moved out of spyglass.common.common_position\n",
      "\tIntervalLinearizedPosition -> spyglass.linearization.v0.main.IntervalLinearizedPosition\n",
      "Please use the new location.\n"
     ]
    },
    {
     "name": "stdout",
     "output_type": "stream",
     "text": [
      "currently investigating:\n",
      "06_Seq2Session3\n",
      "pos 5 valid times\n"
     ]
    },
    {
     "name": "stderr",
     "output_type": "stream",
     "text": [
      "[22:25:30][WARNING] Spyglass: Deprecation: this class has been moved out of spyglass.common.common_position\n",
      "\tIntervalLinearizedPosition -> spyglass.linearization.v0.main.IntervalLinearizedPosition\n",
      "Please use the new location.\n"
     ]
    },
    {
     "name": "stdout",
     "output_type": "stream",
     "text": [
      "currently investigating:\n",
      "08_Seq2Session4\n",
      "pos 7 valid times\n"
     ]
    },
    {
     "name": "stderr",
     "output_type": "stream",
     "text": [
      "[22:25:31][WARNING] Spyglass: Deprecation: this class has been moved out of spyglass.common.common_position\n",
      "\tIntervalLinearizedPosition -> spyglass.linearization.v0.main.IntervalLinearizedPosition\n",
      "Please use the new location.\n"
     ]
    },
    {
     "name": "stdout",
     "output_type": "stream",
     "text": [
      "currently investigating:\n",
      "02_Seq2Session1\n",
      "pos 1 valid times\n"
     ]
    },
    {
     "name": "stderr",
     "output_type": "stream",
     "text": [
      "[22:25:31][WARNING] Spyglass: Deprecation: this class has been moved out of spyglass.common.common_position\n",
      "\tIntervalLinearizedPosition -> spyglass.linearization.v0.main.IntervalLinearizedPosition\n",
      "Please use the new location.\n"
     ]
    },
    {
     "name": "stdout",
     "output_type": "stream",
     "text": [
      "currently investigating:\n",
      "04_Seq2Session2\n",
      "pos 3 valid times\n"
     ]
    },
    {
     "name": "stderr",
     "output_type": "stream",
     "text": [
      "[22:25:32][WARNING] Spyglass: Deprecation: this class has been moved out of spyglass.common.common_position\n",
      "\tIntervalLinearizedPosition -> spyglass.linearization.v0.main.IntervalLinearizedPosition\n",
      "Please use the new location.\n"
     ]
    },
    {
     "name": "stdout",
     "output_type": "stream",
     "text": [
      "currently investigating:\n",
      "06_Seq2Session3\n",
      "pos 5 valid times\n"
     ]
    },
    {
     "name": "stderr",
     "output_type": "stream",
     "text": [
      "[22:25:32][WARNING] Spyglass: Deprecation: this class has been moved out of spyglass.common.common_position\n",
      "\tIntervalLinearizedPosition -> spyglass.linearization.v0.main.IntervalLinearizedPosition\n",
      "Please use the new location.\n"
     ]
    },
    {
     "name": "stdout",
     "output_type": "stream",
     "text": [
      "currently investigating:\n",
      "08_Seq2Session4\n",
      "pos 7 valid times\n"
     ]
    },
    {
     "name": "stderr",
     "output_type": "stream",
     "text": [
      "[22:25:59][WARNING] Spyglass: Deprecation: this class has been moved out of spyglass.common.common_position\n",
      "\tIntervalLinearizedPosition -> spyglass.linearization.v0.main.IntervalLinearizedPosition\n",
      "Please use the new location.\n"
     ]
    },
    {
     "name": "stdout",
     "output_type": "stream",
     "text": [
      "currently investigating:\n",
      "02_Seq2Session1\n",
      "pos 1 valid times\n"
     ]
    },
    {
     "name": "stderr",
     "output_type": "stream",
     "text": [
      "[22:26:00][WARNING] Spyglass: Deprecation: this class has been moved out of spyglass.common.common_position\n",
      "\tIntervalLinearizedPosition -> spyglass.linearization.v0.main.IntervalLinearizedPosition\n",
      "Please use the new location.\n"
     ]
    },
    {
     "name": "stdout",
     "output_type": "stream",
     "text": [
      "currently investigating:\n",
      "04_Seq2Session2\n",
      "pos 3 valid times\n"
     ]
    },
    {
     "name": "stderr",
     "output_type": "stream",
     "text": [
      "[22:26:00][WARNING] Spyglass: Deprecation: this class has been moved out of spyglass.common.common_position\n",
      "\tIntervalLinearizedPosition -> spyglass.linearization.v0.main.IntervalLinearizedPosition\n",
      "Please use the new location.\n"
     ]
    },
    {
     "name": "stdout",
     "output_type": "stream",
     "text": [
      "currently investigating:\n",
      "06_Seq2Session3\n",
      "pos 5 valid times\n"
     ]
    },
    {
     "name": "stderr",
     "output_type": "stream",
     "text": [
      "[22:26:01][WARNING] Spyglass: Deprecation: this class has been moved out of spyglass.common.common_position\n",
      "\tIntervalLinearizedPosition -> spyglass.linearization.v0.main.IntervalLinearizedPosition\n",
      "Please use the new location.\n"
     ]
    },
    {
     "name": "stdout",
     "output_type": "stream",
     "text": [
      "currently investigating:\n",
      "08_Seq2Session4\n",
      "pos 7 valid times\n"
     ]
    },
    {
     "name": "stderr",
     "output_type": "stream",
     "text": [
      "[22:26:01][WARNING] Spyglass: Deprecation: this class has been moved out of spyglass.common.common_position\n",
      "\tIntervalLinearizedPosition -> spyglass.linearization.v0.main.IntervalLinearizedPosition\n",
      "Please use the new location.\n"
     ]
    },
    {
     "name": "stdout",
     "output_type": "stream",
     "text": [
      "currently investigating:\n",
      "10_Seq2Session5\n",
      "pos 9 valid times\n"
     ]
    },
    {
     "name": "stderr",
     "output_type": "stream",
     "text": [
      "[22:26:01][WARNING] Spyglass: Deprecation: this class has been moved out of spyglass.common.common_position\n",
      "\tIntervalLinearizedPosition -> spyglass.linearization.v0.main.IntervalLinearizedPosition\n",
      "Please use the new location.\n"
     ]
    },
    {
     "name": "stdout",
     "output_type": "stream",
     "text": [
      "currently investigating:\n",
      "12_Seq2Session6\n",
      "pos 11 valid times\n"
     ]
    },
    {
     "name": "stderr",
     "output_type": "stream",
     "text": [
      "[22:26:02][WARNING] Spyglass: Deprecation: this class has been moved out of spyglass.common.common_position\n",
      "\tIntervalLinearizedPosition -> spyglass.linearization.v0.main.IntervalLinearizedPosition\n",
      "Please use the new location.\n"
     ]
    },
    {
     "name": "stdout",
     "output_type": "stream",
     "text": [
      "currently investigating:\n",
      "02_Seq2Session1\n",
      "pos 1 valid times\n"
     ]
    },
    {
     "name": "stderr",
     "output_type": "stream",
     "text": [
      "[22:26:02][WARNING] Spyglass: Deprecation: this class has been moved out of spyglass.common.common_position\n",
      "\tIntervalLinearizedPosition -> spyglass.linearization.v0.main.IntervalLinearizedPosition\n",
      "Please use the new location.\n"
     ]
    },
    {
     "name": "stdout",
     "output_type": "stream",
     "text": [
      "currently investigating:\n",
      "04_Seq2Session2\n",
      "pos 3 valid times\n"
     ]
    },
    {
     "name": "stderr",
     "output_type": "stream",
     "text": [
      "[22:26:02][WARNING] Spyglass: Deprecation: this class has been moved out of spyglass.common.common_position\n",
      "\tIntervalLinearizedPosition -> spyglass.linearization.v0.main.IntervalLinearizedPosition\n",
      "Please use the new location.\n"
     ]
    },
    {
     "name": "stdout",
     "output_type": "stream",
     "text": [
      "currently investigating:\n",
      "06_Seq2Session3\n",
      "pos 5 valid times\n"
     ]
    },
    {
     "name": "stderr",
     "output_type": "stream",
     "text": [
      "[22:26:03][WARNING] Spyglass: Deprecation: this class has been moved out of spyglass.common.common_position\n",
      "\tIntervalLinearizedPosition -> spyglass.linearization.v0.main.IntervalLinearizedPosition\n",
      "Please use the new location.\n"
     ]
    },
    {
     "name": "stdout",
     "output_type": "stream",
     "text": [
      "some missing position data\n",
      "currently investigating:\n",
      "08_Seq2Session4\n",
      "pos 7 valid times\n"
     ]
    },
    {
     "name": "stderr",
     "output_type": "stream",
     "text": [
      "[22:26:03][WARNING] Spyglass: Deprecation: this class has been moved out of spyglass.common.common_position\n",
      "\tIntervalLinearizedPosition -> spyglass.linearization.v0.main.IntervalLinearizedPosition\n",
      "Please use the new location.\n"
     ]
    },
    {
     "name": "stdout",
     "output_type": "stream",
     "text": [
      "currently investigating:\n",
      "10_Seq2Session5\n",
      "pos 9 valid times\n"
     ]
    },
    {
     "name": "stderr",
     "output_type": "stream",
     "text": [
      "[22:26:04][WARNING] Spyglass: Deprecation: this class has been moved out of spyglass.common.common_position\n",
      "\tIntervalLinearizedPosition -> spyglass.linearization.v0.main.IntervalLinearizedPosition\n",
      "Please use the new location.\n"
     ]
    },
    {
     "name": "stdout",
     "output_type": "stream",
     "text": [
      "currently investigating:\n",
      "12_Seq2Session6\n",
      "pos 11 valid times\n"
     ]
    }
   ],
   "source": [
    "replay_trials = {}\n",
    "replay_trials_non = {}\n",
    "\n",
    "replay_trials[animal] = {}\n",
    "replay_trials_non[animal] = {}\n",
    "\n",
    "for d in dates_to_plot:\n",
    "    (triggered_positions, triggered_positions_abs) = ({}, {})\n",
    "    (triggered_decodes, triggered_decodes_baseoff, triggered_decodes_abs) = ({}, {}, {})\n",
    "    triggered_trial_info = {}\n",
    "\n",
    "    (triggered_positions[animal], triggered_positions_abs[animal],\n",
    "     triggered_decodes[animal], triggered_decodes_baseoff[animal], triggered_decodes_abs[animal],\n",
    "     triggered_trial_info[animal]) = find_triggered_animal(animal,[d],\n",
    "                                                           delta_t_minus = 0,delta_t_plus = 2,\n",
    "                                                           max_flag = 0, segment_only = True)\n",
    "\n",
    "    (triggered_positions_nb, triggered_positions_abs_nb) = ({}, {})\n",
    "    (triggered_decodes_nb, triggered_decodes_baseoff_nb, triggered_decodes_abs_nb) = ({}, {}, {})\n",
    "    \n",
    "    (triggered_positions_nb[animal], triggered_positions_abs_nb[animal],\n",
    "     triggered_decodes_nb[animal], triggered_decodes_baseoff_nb[animal], triggered_decodes_abs_nb[animal],\n",
    "     _) = find_triggered_animal(animal,[d], nearby = 1,\n",
    "                                delta_t_minus = 2,delta_t_plus = 0.5,\n",
    "                                max_flag = 0, segment_only = True)\n",
    "\n",
    "\n",
    "    \n",
    "    replay_trials[animal][d], inds, _, replay_trials_non[animal][d], inds_non, _ = find_large_position_minus_decode_trials(\n",
    "        # with theta                # without theta\n",
    "                animal, triggered_trial_info, \n",
    "                triggered_positions_abs, triggered_decodes_baseoff, triggered_positions_abs_nb, triggered_decodes_baseoff_nb)\n",
    "    \n"
   ]
  },
  {
   "cell_type": "code",
   "execution_count": 16,
   "id": "6a4e2b15-604d-42bf-ad4d-05bf96c74b84",
   "metadata": {},
   "outputs": [],
   "source": [
    "from scipy.stats import permutation_test\n",
    "from scipy.stats import mode\n",
    "# because our statistic is vectorized, we pass `vectorized=True`\n",
    "# `n_resamples=np.inf` indicates that an exact test is to be performed\n",
    "\n",
    "def statistic(x, y, axis):\n",
    "    return np.mean(x, axis=axis) - np.mean(y, axis=axis)"
   ]
  },
  {
   "cell_type": "markdown",
   "id": "502ac0a0-5c42-4712-bbae-c2d5424ca895",
   "metadata": {},
   "source": [
    "### First, paired comparisons.\n",
    "Limited data points"
   ]
  },
  {
   "cell_type": "code",
   "execution_count": 33,
   "id": "166b9a5b-328a-43ad-abc9-73764e6007ec",
   "metadata": {
    "scrolled": true
   },
   "outputs": [
    {
     "name": "stdout",
     "output_type": "stream",
     "text": [
      "eliot20221018_.nwb 02_Seq2Session1\n",
      "eliot20221018_.nwb 04_Seq2Session2\n",
      "eliot20221018_.nwb 05_Seq2Session3\n",
      "eliot20221018_.nwb 07_Seq2Session4\n",
      "eliot20221018_.nwb 09_Seq2Session5\n",
      "eliot20221018_.nwb 11_Seq2Session6\n",
      "eliot20221019_.nwb 02_Seq2Session1\n",
      "eliot20221019_.nwb 04_Seq2Session2\n",
      "eliot20221019_.nwb 06_Seq2Session3\n",
      "eliot20221019_.nwb 08_Seq2Session4\n",
      "eliot20221019_.nwb 10_Seq2Session5\n",
      "eliot20221020_.nwb 02_Seq2Session1\n",
      "eliot20221020_.nwb 04_Seq2Session2\n",
      "eliot20221020_.nwb 06_Seq2Session3\n",
      "eliot20221020_.nwb 08_Seq2Session4\n",
      "eliot20221020_.nwb 10_Seq2Session5\n",
      "eliot20221020_.nwb 12_Seq2Session6\n",
      "eliot20221021_.nwb 02_Seq2Session1\n",
      "eliot20221021_.nwb 04_Seq2Session2\n",
      "eliot20221021_.nwb 06_Seq2Session3\n",
      "eliot20221021_.nwb 08_Seq2Session4\n",
      "eliot20221022_.nwb 02_Seq2Session1\n",
      "eliot20221022_.nwb 04_Seq2Session2\n",
      "eliot20221022_.nwb 06_Seq2Session3\n",
      "eliot20221022_.nwb 08_Seq2Session4\n",
      "eliot20221022_.nwb 10_Seq2Session5\n",
      "eliot20221023_.nwb 02_Seq2Session1\n",
      "eliot20221023_.nwb 04_Seq2Session2\n",
      "eliot20221023_.nwb 06_Seq2Session3\n",
      "eliot20221023_.nwb 08_Seq2Session4\n",
      "eliot20221024_.nwb 02_Seq2Session2\n",
      "eliot20221024_.nwb 04_Seq2Session3\n",
      "eliot20221024_.nwb 06_Seq2Session4\n",
      "eliot20221024_.nwb 08_Seq2Session5\n",
      "eliot20221024_.nwb 10_Seq2Session6\n",
      "eliot20221025_.nwb 02_Seq2Session1\n",
      "eliot20221025_.nwb 04_Seq2Session2\n",
      "eliot20221025_.nwb 06_Seq2Session3\n",
      "eliot20221025_.nwb 08_Seq2Session4\n",
      "eliot20221026_.nwb 02_Seq2Session1\n",
      "eliot20221026_.nwb 04_Seq2Session2\n",
      "eliot20221026_.nwb 06_Seq2Session3\n",
      "eliot20221026_.nwb 08_Seq2Session4\n",
      "eliot20221026_.nwb 10_Seq2Session5\n",
      "eliot20221026_.nwb 12_Seq2Session6\n"
     ]
    }
   ],
   "source": [
    "prop_theta_transition_day = {}\n",
    "prop_nontheta_transition_day = {}\n",
    "\n",
    "for day in dates_to_plot:\n",
    "    nwb_file_name = animal.lower() + day + '.nwb'\n",
    "    nwb_copy_file_name = get_nwb_copy_filename(nwb_file_name)\n",
    "    session_interval, position_interval = runSessionNames(nwb_copy_file_name)\n",
    "\n",
    "    prop_theta_transition_session = []\n",
    "    prop_nontheta_transition_session = []\n",
    "    for ind in range(len(session_interval)):\n",
    "        session_name = session_interval[ind]\n",
    "        position_name = position_interval[ind]\n",
    "        prop_theta_transition_session_, prop_nontheta_transition_session_ = find_proportion_by_theta(\n",
    "            nwb_copy_file_name, session_name, replay_trials, replay_trials_non) #replay_trials)\n",
    "        \n",
    "        prop_theta_transition_session.append(prop_theta_transition_session_)\n",
    "        prop_nontheta_transition_session.append(prop_nontheta_transition_session_)\n",
    "\n",
    "    prop_theta_transition_day[day] = prop_theta_transition_session\n",
    "    prop_nontheta_transition_day[day] = prop_nontheta_transition_session"
   ]
  },
  {
   "cell_type": "code",
   "execution_count": 32,
   "id": "f0b09b97-a87e-49c2-a4f9-771cd7ecd74f",
   "metadata": {},
   "outputs": [
    {
     "name": "stdout",
     "output_type": "stream",
     "text": [
      "> \u001b[0;32m/home/shijiegu/Documents/spyglass/src/spyglass/shijiegu/changeOfMind_proportion.py\u001b[0m(33)\u001b[0;36msession_long_theta_trials\u001b[0;34m()\u001b[0m\n",
      "\u001b[0;32m     31 \u001b[0;31m        \u001b[0;32mif\u001b[0m \u001b[0mtup\u001b[0m\u001b[0;34m[\u001b[0m\u001b[0;36m0\u001b[0m\u001b[0;34m]\u001b[0m \u001b[0;34m==\u001b[0m \u001b[0mnwb_copy_file_name\u001b[0m \u001b[0;32mand\u001b[0m \u001b[0mtup\u001b[0m\u001b[0;34m[\u001b[0m\u001b[0;36m1\u001b[0m\u001b[0;34m]\u001b[0m \u001b[0;34m==\u001b[0m \u001b[0msession_name\u001b[0m\u001b[0;34m:\u001b[0m\u001b[0;34m\u001b[0m\u001b[0;34m\u001b[0m\u001b[0m\n",
      "\u001b[0m\u001b[0;32m     32 \u001b[0;31m            \u001b[0mmax_prop\u001b[0m \u001b[0;34m=\u001b[0m \u001b[0mlog_df\u001b[0m\u001b[0;34m.\u001b[0m\u001b[0mloc\u001b[0m\u001b[0;34m[\u001b[0m\u001b[0mtup\u001b[0m\u001b[0;34m[\u001b[0m\u001b[0;36m2\u001b[0m\u001b[0;34m]\u001b[0m\u001b[0;34m]\u001b[0m\u001b[0;34m.\u001b[0m\u001b[0mCoMMaxProportion\u001b[0m\u001b[0;34m\u001b[0m\u001b[0;34m\u001b[0m\u001b[0m\n",
      "\u001b[0m\u001b[0;32m---> 33 \u001b[0;31m            \u001b[0;32mif\u001b[0m \u001b[0mlen\u001b[0m\u001b[0;34m(\u001b[0m\u001b[0mmax_prop\u001b[0m\u001b[0;34m)\u001b[0m \u001b[0;34m>\u001b[0m \u001b[0;36m0\u001b[0m\u001b[0;34m:\u001b[0m\u001b[0;34m\u001b[0m\u001b[0;34m\u001b[0m\u001b[0m\n",
      "\u001b[0m\u001b[0;32m     34 \u001b[0;31m                \u001b[0mCoMMaxProportion\u001b[0m\u001b[0;34m.\u001b[0m\u001b[0mappend\u001b[0m\u001b[0;34m(\u001b[0m\u001b[0mmax_prop\u001b[0m\u001b[0;34m[\u001b[0m\u001b[0;36m0\u001b[0m\u001b[0;34m]\u001b[0m\u001b[0;34m)\u001b[0m\u001b[0;34m\u001b[0m\u001b[0;34m\u001b[0m\u001b[0m\n",
      "\u001b[0m\u001b[0;32m     35 \u001b[0;31m    \u001b[0;32mreturn\u001b[0m \u001b[0mCoMMaxProportion\u001b[0m\u001b[0;34m\u001b[0m\u001b[0;34m\u001b[0m\u001b[0m\n",
      "\u001b[0m\n"
     ]
    },
    {
     "name": "stdin",
     "output_type": "stream",
     "text": [
      "ipdb>  log_df.loc[tup[2]].CoMMaxProportion\n"
     ]
    },
    {
     "name": "stdout",
     "output_type": "stream",
     "text": [
      "0.3013265340061907\n"
     ]
    },
    {
     "name": "stdin",
     "output_type": "stream",
     "text": [
      "ipdb>  exit\n"
     ]
    }
   ],
   "source": [
    "%debug"
   ]
  },
  {
   "cell_type": "code",
   "execution_count": 34,
   "id": "3fc893df-49d6-46e2-b9cd-71d62bd8b272",
   "metadata": {
    "scrolled": true
   },
   "outputs": [
    {
     "data": {
      "text/plain": [
       "{'20221018': [[0.18792827162886597],\n",
       "  [0.08643146458302366],\n",
       "  [0.4395622651546554, 0.12710137007626063],\n",
       "  [0.09575178578399762,\n",
       "   1.0,\n",
       "   0.15999234395214032,\n",
       "   0.1945488714699208,\n",
       "   0.1144333373678273,\n",
       "   0.05612963266129955],\n",
       "  [0.07930073511583964,\n",
       "   0.09637547370568363,\n",
       "   0.10350989499963975,\n",
       "   0.27681184370711676],\n",
       "  [0.15360879961135182]],\n",
       " '20221019': [[0.11103994848277329,\n",
       "   0.16243489461790084,\n",
       "   0.18551429779227951,\n",
       "   0.0669532378312163],\n",
       "  [0.1669762693015138,\n",
       "   0.12074336811841808,\n",
       "   0.23217930617485202,\n",
       "   0.1932416413090012,\n",
       "   0.3709745594588305,\n",
       "   0.15944770945616307,\n",
       "   0.18671737772745625,\n",
       "   0.3127481160516132,\n",
       "   0.3127481160516132,\n",
       "   0.17443339644688707,\n",
       "   0.07633855732066133,\n",
       "   0.39752808031077697,\n",
       "   0.5558828557585804],\n",
       "  [0.05523028458147777,\n",
       "   0.5194195510990419,\n",
       "   0.15833262617834737,\n",
       "   0.2673893477677696,\n",
       "   0.2673893477677696,\n",
       "   0.2569235723486545,\n",
       "   0.2569235723486545,\n",
       "   0.2669968411854042,\n",
       "   0.3516191095554238,\n",
       "   0.2693725614651267],\n",
       "  [0.09538602290524271,\n",
       "   0.29715107256333395,\n",
       "   0.3207843448391663,\n",
       "   0.4644309179672476,\n",
       "   0.13428675982665808,\n",
       "   0.13428675982665808,\n",
       "   0.11600649653700634,\n",
       "   0.21346274144334015,\n",
       "   0.2454999639048774,\n",
       "   0.24638029009083934,\n",
       "   0.24638029009083934],\n",
       "  [0.06588248123146657,\n",
       "   0.08738680200986264,\n",
       "   0.1896541460069671,\n",
       "   0.23820202654347464,\n",
       "   0.19656127764050338,\n",
       "   0.13790907337583164]],\n",
       " '20221020': [[0.25490770000018215,\n",
       "   0.1976505057347356,\n",
       "   0.27436211491661794,\n",
       "   0.1137708019737174,\n",
       "   0.37576290415699015,\n",
       "   0.37576290415699015],\n",
       "  [0.21236212951183464,\n",
       "   0.10640032788172729,\n",
       "   0.1017670488807932,\n",
       "   0.38134000410711766,\n",
       "   0.13052286544141223,\n",
       "   0.17027974758862918,\n",
       "   0.08664242992645839,\n",
       "   0.31801323576092677,\n",
       "   0.1391734947365711,\n",
       "   0.07852343793763636,\n",
       "   0.13823519628802955],\n",
       "  [0.08639639111073608,\n",
       "   0.12371156621385994,\n",
       "   0.19907402857674178,\n",
       "   0.2660693726390985,\n",
       "   0.41999936919274866,\n",
       "   0.11753451487104355,\n",
       "   0.11402893479250058,\n",
       "   0.11402893479250058,\n",
       "   0.11181025561173948,\n",
       "   0.20076650121432352],\n",
       "  [0.14146143070865946,\n",
       "   0.158542248828749,\n",
       "   0.158542248828749,\n",
       "   0.2262044142860798,\n",
       "   0.2262044142860798,\n",
       "   0.2262044142860798],\n",
       "  [0.12712996437634108,\n",
       "   0.26377466592378873,\n",
       "   0.10791408328035366,\n",
       "   0.10791408328035366,\n",
       "   0.11161413002805948,\n",
       "   0.11223538678905991,\n",
       "   0.25157519958308083,\n",
       "   0.10573869409376593,\n",
       "   0.08092612499110226,\n",
       "   0.13962045416501942,\n",
       "   0.1737059165574584],\n",
       "  [0.30896287911315257,\n",
       "   0.3413119080447106,\n",
       "   0.3003293151910658,\n",
       "   0.4260299154764835,\n",
       "   0.1369923689449739,\n",
       "   0.06863132896444239,\n",
       "   0.16594500175658738]],\n",
       " '20221021': [[0.12998583850724582,\n",
       "   0.10390171957479964,\n",
       "   0.11355261436478195,\n",
       "   0.11355261436478195,\n",
       "   0.1830559696815548,\n",
       "   0.15475584527103875,\n",
       "   0.320446512620185,\n",
       "   0.4744983833766138,\n",
       "   0.1191570537396079,\n",
       "   0.28077379730042074,\n",
       "   0.28077379730042074,\n",
       "   0.28077379730042074,\n",
       "   0.28077379730042074,\n",
       "   0.12789122643486917,\n",
       "   0.15738328974572316],\n",
       "  [0.06394212924290113,\n",
       "   0.20654642765855713,\n",
       "   0.2647070309288513,\n",
       "   0.2789590966921406,\n",
       "   0.18222885532268512,\n",
       "   0.18222885532268512,\n",
       "   0.16208023323955556,\n",
       "   0.20634499785305088,\n",
       "   0.210520253215179,\n",
       "   0.4012083754990561,\n",
       "   0.4012083754990561],\n",
       "  [0.16879023212559566,\n",
       "   0.1890091031497178,\n",
       "   0.10897139364098232,\n",
       "   0.12083132138350407,\n",
       "   0.12083132138350407,\n",
       "   0.11901726042509247,\n",
       "   0.1539302182313764],\n",
       "  [0.07978181953353669,\n",
       "   0.22128503618157674,\n",
       "   0.09370789257973389,\n",
       "   0.31711238409713094,\n",
       "   0.31711238409713094,\n",
       "   0.104454328224475,\n",
       "   0.388988604362107,\n",
       "   0.1804372094759057,\n",
       "   0.20183752297158988,\n",
       "   0.29735766847628764]],\n",
       " '20221022': [[0.11024651371180126,\n",
       "   0.11024651371180126,\n",
       "   0.2336851276631678,\n",
       "   0.1728722114735695,\n",
       "   0.13747613929716468,\n",
       "   0.11184482220215267,\n",
       "   0.33907114413282063,\n",
       "   0.33907114413282063,\n",
       "   0.33907114413282063,\n",
       "   0.101398644517724,\n",
       "   0.17618813821928725],\n",
       "  [0.11778760563546253,\n",
       "   0.161866560934651,\n",
       "   0.16673530277867812,\n",
       "   0.08485869166066322,\n",
       "   0.08975623560636607,\n",
       "   0.1979132569867166,\n",
       "   0.13808172063379492,\n",
       "   0.18374993522966176,\n",
       "   0.3294776115355646],\n",
       "  [0.05930424008584021,\n",
       "   0.1352304361507224,\n",
       "   0.11393524613130698,\n",
       "   0.11393524613130698,\n",
       "   0.1304832350989303,\n",
       "   0.11420186189935802,\n",
       "   0.10698433737187424],\n",
       "  [0.13040500681390046,\n",
       "   0.06335001026747968,\n",
       "   0.1100146570153368,\n",
       "   0.11698450711866157,\n",
       "   0.1845474015190051,\n",
       "   0.1032220359004549,\n",
       "   0.2604068786016087],\n",
       "  [0.28355904093263395,\n",
       "   0.13276831563828398,\n",
       "   0.3082757914047847,\n",
       "   0.3082757914047847]],\n",
       " '20221023': [[0.08951406649615509],\n",
       "  [0.3336844550043829,\n",
       "   0.08564318066477748,\n",
       "   0.2134716336551256,\n",
       "   0.12004666504566104,\n",
       "   0.12004666504566104],\n",
       "  [0.13972092198036545,\n",
       "   0.1371547484288847,\n",
       "   0.15585459157232484,\n",
       "   0.29543683611169747],\n",
       "  [0.1629881619473296, 0.33836423086355033]],\n",
       " '20221024': [[0.1092967475126082, 0.1296539790274784],\n",
       "  [0.13650809841284178, 0.14780293205232534, 0.14780293205232534],\n",
       "  [0.1298302801500238,\n",
       "   0.2398709355040587,\n",
       "   0.09372790502656649,\n",
       "   0.07642876955885473,\n",
       "   0.17581986872950278],\n",
       "  [0.06084916519742945,\n",
       "   0.1357108770424093,\n",
       "   0.3806839263334638,\n",
       "   0.3806839263334638,\n",
       "   0.17649791774720888,\n",
       "   0.09029180093223019],\n",
       "  [0.3484569767424374,\n",
       "   0.27788184582254905,\n",
       "   0.050302802607374346,\n",
       "   0.61792528988973,\n",
       "   0.42559720891434694,\n",
       "   0.13587248335407026]],\n",
       " '20221025': [[0.3477474360312832,\n",
       "   0.19322914633664792,\n",
       "   0.3362698004594673,\n",
       "   0.11779265493348126,\n",
       "   0.29476721894442126,\n",
       "   0.29476721894442126,\n",
       "   0.2576375931924093,\n",
       "   0.1190262407706001,\n",
       "   0.1387050390237644],\n",
       "  [0.09869639209860913],\n",
       "  [0.15912798779236587, 0.14639672076861374],\n",
       "  [0.09653148054179919,\n",
       "   0.09812000657841041,\n",
       "   0.06265464247337739,\n",
       "   0.1379194152777586,\n",
       "   0.1614123745515278]],\n",
       " '20221026': [[0.19060532390238333,\n",
       "   0.19060532390238333,\n",
       "   0.19405077397797715,\n",
       "   0.10067336799267847,\n",
       "   0.10067336799267847,\n",
       "   0.10067336799267847],\n",
       "  [0.14840565583368448,\n",
       "   0.3038737574410622,\n",
       "   0.3038737574410622,\n",
       "   0.13355417285355195],\n",
       "  [0.15155395455590298,\n",
       "   0.10335998206860351,\n",
       "   0.12773483278268444,\n",
       "   0.07624794787647798],\n",
       "  [0.19151836411227324, 0.20733717546087366],\n",
       "  [0.21069272776832743, 0.17500310024434634, 0.09820472641165293],\n",
       "  []]}"
      ]
     },
     "execution_count": 34,
     "metadata": {},
     "output_type": "execute_result"
    }
   ],
   "source": [
    "prop_nontheta_transition_day"
   ]
  },
  {
   "cell_type": "code",
   "execution_count": 30,
   "id": "ac235fbc-2348-4003-aba6-7c4a12971dcc",
   "metadata": {},
   "outputs": [
    {
     "data": {
      "text/plain": [
       "{'20221018': [[0.3013265340061907], [], [], [], [], []],\n",
       " '20221019': [[0.37314944425129853,\n",
       "   0.24760890879908845,\n",
       "   0.4253004970612373,\n",
       "   0.4253004970612373],\n",
       "  [0.3618721684075164,\n",
       "   0.3732600273460671,\n",
       "   0.5939484810615916,\n",
       "   0.5939484810615916,\n",
       "   0.5558828557585804,\n",
       "   0.5558828557585804],\n",
       "  [0.37588182354908256,\n",
       "   0.5194195510990419,\n",
       "   0.5194195510990419,\n",
       "   0.5271916718859821],\n",
       "  [0.4644309179672476,\n",
       "   0.49681855601671177,\n",
       "   0.28585228821580977,\n",
       "   0.42208488187755167],\n",
       "  [0.5866126696034264]],\n",
       " '20221020': [[0.45525745948380253],\n",
       "  [],\n",
       "  [0.41999936919274866, 0.32594492703888395],\n",
       "  [0.20747714931732, 0.09202890114677106],\n",
       "  [],\n",
       "  [0.3003293151910658,\n",
       "   0.4260299154764835,\n",
       "   0.30445137572789444,\n",
       "   0.2181309340756276]],\n",
       " '20221021': [[0.06349207832134728, 0.320446512620185],\n",
       "  [0.5083020539013275,\n",
       "   0.5083020539013275,\n",
       "   0.2647070309288513,\n",
       "   0.16208023323955556,\n",
       "   0.16208023323955556,\n",
       "   0.4012083754990561],\n",
       "  [0.29925501941315, 0.2016507364609207, 0.1845359449382328],\n",
       "  [0.388988604362107]],\n",
       " '20221022': [[0.3736832038721123, 0.3736832038721123], [], [], [], []],\n",
       " '20221023': [[0.23589383389027443], [], [0.6368167474826173], []],\n",
       " '20221024': [[0.2103491888662147],\n",
       "  [],\n",
       "  [0.7962976869649324, 0.7962976869649324, 0.5375839105094874],\n",
       "  [0.12887153800156192],\n",
       "  [0.61792528988973, 0.2882084781469435]],\n",
       " '20221025': [[0.4534214603572207, 0.5033915278077712], [], [], []],\n",
       " '20221026': [[], [], [], [], [], []]}"
      ]
     },
     "execution_count": 30,
     "metadata": {},
     "output_type": "execute_result"
    }
   ],
   "source": [
    "prop_theta_transition_day"
   ]
  },
  {
   "cell_type": "code",
   "execution_count": 27,
   "id": "a501209e-d093-498f-a90c-adb800f9ad34",
   "metadata": {
    "scrolled": true
   },
   "outputs": [
    {
     "data": {
      "text/html": [
       "<div>\n",
       "<style scoped>\n",
       "    .dataframe tbody tr th:only-of-type {\n",
       "        vertical-align: middle;\n",
       "    }\n",
       "\n",
       "    .dataframe tbody tr th {\n",
       "        vertical-align: top;\n",
       "    }\n",
       "\n",
       "    .dataframe thead th {\n",
       "        text-align: right;\n",
       "    }\n",
       "</style>\n",
       "<table border=\"1\" class=\"dataframe\">\n",
       "  <thead>\n",
       "    <tr style=\"text-align: right;\">\n",
       "      <th></th>\n",
       "      <th>timestamp_H</th>\n",
       "      <th>Home</th>\n",
       "      <th>timestamp_O</th>\n",
       "      <th>OuterWellIndex</th>\n",
       "      <th>rewardNum</th>\n",
       "      <th>change_of_mind</th>\n",
       "      <th>CoMMaxProportion</th>\n",
       "      <th>CoM_t</th>\n",
       "      <th>CoM_arm</th>\n",
       "      <th>current</th>\n",
       "      <th>future_H</th>\n",
       "      <th>future_O</th>\n",
       "      <th>past</th>\n",
       "      <th>past_reward</th>\n",
       "    </tr>\n",
       "  </thead>\n",
       "  <tbody>\n",
       "    <tr>\n",
       "      <th>1</th>\n",
       "      <td>1.666198e+09</td>\n",
       "      <td>1.0</td>\n",
       "      <td>1.666198e+09</td>\n",
       "      <td>4.0</td>\n",
       "      <td>1.0</td>\n",
       "      <td>False</td>\n",
       "      <td>[]</td>\n",
       "      <td>[]</td>\n",
       "      <td>[]</td>\n",
       "      <td>4.0</td>\n",
       "      <td>4.0</td>\n",
       "      <td>2.0</td>\n",
       "      <td>NaN</td>\n",
       "      <td>NaN</td>\n",
       "    </tr>\n",
       "    <tr>\n",
       "      <th>2</th>\n",
       "      <td>1.666198e+09</td>\n",
       "      <td>1.0</td>\n",
       "      <td>1.666198e+09</td>\n",
       "      <td>2.0</td>\n",
       "      <td>1.0</td>\n",
       "      <td>False</td>\n",
       "      <td>[]</td>\n",
       "      <td>[]</td>\n",
       "      <td>[]</td>\n",
       "      <td>2.0</td>\n",
       "      <td>2.0</td>\n",
       "      <td>3.0</td>\n",
       "      <td>4.0</td>\n",
       "      <td>NaN</td>\n",
       "    </tr>\n",
       "    <tr>\n",
       "      <th>3</th>\n",
       "      <td>1.666198e+09</td>\n",
       "      <td>1.0</td>\n",
       "      <td>1.666198e+09</td>\n",
       "      <td>3.0</td>\n",
       "      <td>2.0</td>\n",
       "      <td>False</td>\n",
       "      <td>[]</td>\n",
       "      <td>[]</td>\n",
       "      <td>[]</td>\n",
       "      <td>3.0</td>\n",
       "      <td>3.0</td>\n",
       "      <td>1.0</td>\n",
       "      <td>2.0</td>\n",
       "      <td>NaN</td>\n",
       "    </tr>\n",
       "    <tr>\n",
       "      <th>4</th>\n",
       "      <td>1.666198e+09</td>\n",
       "      <td>1.0</td>\n",
       "      <td>1.666198e+09</td>\n",
       "      <td>1.0</td>\n",
       "      <td>1.0</td>\n",
       "      <td>False</td>\n",
       "      <td>[]</td>\n",
       "      <td>[]</td>\n",
       "      <td>[]</td>\n",
       "      <td>1.0</td>\n",
       "      <td>1.0</td>\n",
       "      <td>4.0</td>\n",
       "      <td>3.0</td>\n",
       "      <td>3.0</td>\n",
       "    </tr>\n",
       "    <tr>\n",
       "      <th>5</th>\n",
       "      <td>NaN</td>\n",
       "      <td>NaN</td>\n",
       "      <td>1.666198e+09</td>\n",
       "      <td>4.0</td>\n",
       "      <td>0.0</td>\n",
       "      <td>False</td>\n",
       "      <td>[]</td>\n",
       "      <td>[]</td>\n",
       "      <td>[]</td>\n",
       "      <td>4.0</td>\n",
       "      <td>4.0</td>\n",
       "      <td>2.0</td>\n",
       "      <td>1.0</td>\n",
       "      <td>3.0</td>\n",
       "    </tr>\n",
       "    <tr>\n",
       "      <th>6</th>\n",
       "      <td>1.666198e+09</td>\n",
       "      <td>1.0</td>\n",
       "      <td>1.666198e+09</td>\n",
       "      <td>2.0</td>\n",
       "      <td>1.0</td>\n",
       "      <td>False</td>\n",
       "      <td>[]</td>\n",
       "      <td>[]</td>\n",
       "      <td>[]</td>\n",
       "      <td>2.0</td>\n",
       "      <td>2.0</td>\n",
       "      <td>3.0</td>\n",
       "      <td>4.0</td>\n",
       "      <td>3.0</td>\n",
       "    </tr>\n",
       "    <tr>\n",
       "      <th>7</th>\n",
       "      <td>1.666198e+09</td>\n",
       "      <td>1.0</td>\n",
       "      <td>1.666198e+09</td>\n",
       "      <td>3.0</td>\n",
       "      <td>1.0</td>\n",
       "      <td>True</td>\n",
       "      <td>0.11104</td>\n",
       "      <td>[[1666198066.3680778]]</td>\n",
       "      <td>[[1, 3, -9223372036854775808]]</td>\n",
       "      <td>3.0</td>\n",
       "      <td>3.0</td>\n",
       "      <td>1.0</td>\n",
       "      <td>2.0</td>\n",
       "      <td>3.0</td>\n",
       "    </tr>\n",
       "    <tr>\n",
       "      <th>8</th>\n",
       "      <td>1.666198e+09</td>\n",
       "      <td>1.0</td>\n",
       "      <td>1.666198e+09</td>\n",
       "      <td>1.0</td>\n",
       "      <td>1.0</td>\n",
       "      <td>False</td>\n",
       "      <td>[]</td>\n",
       "      <td>[]</td>\n",
       "      <td>[]</td>\n",
       "      <td>1.0</td>\n",
       "      <td>1.0</td>\n",
       "      <td>3.0</td>\n",
       "      <td>3.0</td>\n",
       "      <td>3.0</td>\n",
       "    </tr>\n",
       "    <tr>\n",
       "      <th>9</th>\n",
       "      <td>1.666198e+09</td>\n",
       "      <td>1.0</td>\n",
       "      <td>1.666198e+09</td>\n",
       "      <td>3.0</td>\n",
       "      <td>1.0</td>\n",
       "      <td>False</td>\n",
       "      <td>[]</td>\n",
       "      <td>[]</td>\n",
       "      <td>[]</td>\n",
       "      <td>3.0</td>\n",
       "      <td>3.0</td>\n",
       "      <td>2.0</td>\n",
       "      <td>1.0</td>\n",
       "      <td>3.0</td>\n",
       "    </tr>\n",
       "    <tr>\n",
       "      <th>10</th>\n",
       "      <td>1.666198e+09</td>\n",
       "      <td>1.0</td>\n",
       "      <td>1.666198e+09</td>\n",
       "      <td>2.0</td>\n",
       "      <td>1.0</td>\n",
       "      <td>True</td>\n",
       "      <td>0.373149</td>\n",
       "      <td>[[1666198134.6120543]]</td>\n",
       "      <td>[[1, 2, -9223372036854775808]]</td>\n",
       "      <td>2.0</td>\n",
       "      <td>2.0</td>\n",
       "      <td>4.0</td>\n",
       "      <td>3.0</td>\n",
       "      <td>3.0</td>\n",
       "    </tr>\n",
       "    <tr>\n",
       "      <th>11</th>\n",
       "      <td>1.666198e+09</td>\n",
       "      <td>1.0</td>\n",
       "      <td>1.666198e+09</td>\n",
       "      <td>4.0</td>\n",
       "      <td>2.0</td>\n",
       "      <td>False</td>\n",
       "      <td>[]</td>\n",
       "      <td>[]</td>\n",
       "      <td>[]</td>\n",
       "      <td>4.0</td>\n",
       "      <td>4.0</td>\n",
       "      <td>3.0</td>\n",
       "      <td>2.0</td>\n",
       "      <td>3.0</td>\n",
       "    </tr>\n",
       "    <tr>\n",
       "      <th>12</th>\n",
       "      <td>1.666198e+09</td>\n",
       "      <td>1.0</td>\n",
       "      <td>1.666198e+09</td>\n",
       "      <td>3.0</td>\n",
       "      <td>1.0</td>\n",
       "      <td>False</td>\n",
       "      <td>[]</td>\n",
       "      <td>[]</td>\n",
       "      <td>[]</td>\n",
       "      <td>3.0</td>\n",
       "      <td>3.0</td>\n",
       "      <td>1.0</td>\n",
       "      <td>4.0</td>\n",
       "      <td>4.0</td>\n",
       "    </tr>\n",
       "    <tr>\n",
       "      <th>13</th>\n",
       "      <td>1.666198e+09</td>\n",
       "      <td>1.0</td>\n",
       "      <td>1.666198e+09</td>\n",
       "      <td>1.0</td>\n",
       "      <td>1.0</td>\n",
       "      <td>False</td>\n",
       "      <td>[]</td>\n",
       "      <td>[]</td>\n",
       "      <td>[]</td>\n",
       "      <td>1.0</td>\n",
       "      <td>1.0</td>\n",
       "      <td>2.0</td>\n",
       "      <td>3.0</td>\n",
       "      <td>4.0</td>\n",
       "    </tr>\n",
       "    <tr>\n",
       "      <th>14</th>\n",
       "      <td>1.666198e+09</td>\n",
       "      <td>1.0</td>\n",
       "      <td>1.666198e+09</td>\n",
       "      <td>2.0</td>\n",
       "      <td>2.0</td>\n",
       "      <td>False</td>\n",
       "      <td>[]</td>\n",
       "      <td>[]</td>\n",
       "      <td>[]</td>\n",
       "      <td>2.0</td>\n",
       "      <td>2.0</td>\n",
       "      <td>4.0</td>\n",
       "      <td>1.0</td>\n",
       "      <td>4.0</td>\n",
       "    </tr>\n",
       "    <tr>\n",
       "      <th>15</th>\n",
       "      <td>1.666198e+09</td>\n",
       "      <td>1.0</td>\n",
       "      <td>1.666198e+09</td>\n",
       "      <td>4.0</td>\n",
       "      <td>1.0</td>\n",
       "      <td>False</td>\n",
       "      <td>[]</td>\n",
       "      <td>[]</td>\n",
       "      <td>[]</td>\n",
       "      <td>4.0</td>\n",
       "      <td>4.0</td>\n",
       "      <td>3.0</td>\n",
       "      <td>2.0</td>\n",
       "      <td>2.0</td>\n",
       "    </tr>\n",
       "    <tr>\n",
       "      <th>16</th>\n",
       "      <td>1.666198e+09</td>\n",
       "      <td>1.0</td>\n",
       "      <td>1.666198e+09</td>\n",
       "      <td>3.0</td>\n",
       "      <td>1.0</td>\n",
       "      <td>False</td>\n",
       "      <td>[]</td>\n",
       "      <td>[]</td>\n",
       "      <td>[]</td>\n",
       "      <td>3.0</td>\n",
       "      <td>3.0</td>\n",
       "      <td>1.0</td>\n",
       "      <td>4.0</td>\n",
       "      <td>2.0</td>\n",
       "    </tr>\n",
       "    <tr>\n",
       "      <th>17</th>\n",
       "      <td>1.666198e+09</td>\n",
       "      <td>1.0</td>\n",
       "      <td>1.666198e+09</td>\n",
       "      <td>1.0</td>\n",
       "      <td>2.0</td>\n",
       "      <td>False</td>\n",
       "      <td>[]</td>\n",
       "      <td>[]</td>\n",
       "      <td>[]</td>\n",
       "      <td>1.0</td>\n",
       "      <td>1.0</td>\n",
       "      <td>2.0</td>\n",
       "      <td>3.0</td>\n",
       "      <td>2.0</td>\n",
       "    </tr>\n",
       "    <tr>\n",
       "      <th>18</th>\n",
       "      <td>1.666198e+09</td>\n",
       "      <td>1.0</td>\n",
       "      <td>1.666198e+09</td>\n",
       "      <td>2.0</td>\n",
       "      <td>1.0</td>\n",
       "      <td>True</td>\n",
       "      <td>0.162435</td>\n",
       "      <td>[[1666198322.5119896]]</td>\n",
       "      <td>[[4, 2, -9223372036854775808]]</td>\n",
       "      <td>2.0</td>\n",
       "      <td>2.0</td>\n",
       "      <td>1.0</td>\n",
       "      <td>1.0</td>\n",
       "      <td>1.0</td>\n",
       "    </tr>\n",
       "    <tr>\n",
       "      <th>19</th>\n",
       "      <td>1.666198e+09</td>\n",
       "      <td>1.0</td>\n",
       "      <td>1.666198e+09</td>\n",
       "      <td>1.0</td>\n",
       "      <td>1.0</td>\n",
       "      <td>False</td>\n",
       "      <td>[]</td>\n",
       "      <td>[]</td>\n",
       "      <td>[]</td>\n",
       "      <td>1.0</td>\n",
       "      <td>1.0</td>\n",
       "      <td>4.0</td>\n",
       "      <td>2.0</td>\n",
       "      <td>1.0</td>\n",
       "    </tr>\n",
       "    <tr>\n",
       "      <th>20</th>\n",
       "      <td>1.666198e+09</td>\n",
       "      <td>1.0</td>\n",
       "      <td>1.666198e+09</td>\n",
       "      <td>4.0</td>\n",
       "      <td>1.0</td>\n",
       "      <td>False</td>\n",
       "      <td>[]</td>\n",
       "      <td>[]</td>\n",
       "      <td>[]</td>\n",
       "      <td>4.0</td>\n",
       "      <td>4.0</td>\n",
       "      <td>3.0</td>\n",
       "      <td>1.0</td>\n",
       "      <td>1.0</td>\n",
       "    </tr>\n",
       "    <tr>\n",
       "      <th>21</th>\n",
       "      <td>1.666198e+09</td>\n",
       "      <td>1.0</td>\n",
       "      <td>1.666198e+09</td>\n",
       "      <td>3.0</td>\n",
       "      <td>2.0</td>\n",
       "      <td>False</td>\n",
       "      <td>[]</td>\n",
       "      <td>[]</td>\n",
       "      <td>[]</td>\n",
       "      <td>3.0</td>\n",
       "      <td>3.0</td>\n",
       "      <td>2.0</td>\n",
       "      <td>4.0</td>\n",
       "      <td>1.0</td>\n",
       "    </tr>\n",
       "    <tr>\n",
       "      <th>22</th>\n",
       "      <td>1.666198e+09</td>\n",
       "      <td>1.0</td>\n",
       "      <td>1.666198e+09</td>\n",
       "      <td>2.0</td>\n",
       "      <td>1.0</td>\n",
       "      <td>False</td>\n",
       "      <td>[]</td>\n",
       "      <td>[]</td>\n",
       "      <td>[]</td>\n",
       "      <td>2.0</td>\n",
       "      <td>2.0</td>\n",
       "      <td>4.0</td>\n",
       "      <td>3.0</td>\n",
       "      <td>3.0</td>\n",
       "    </tr>\n",
       "    <tr>\n",
       "      <th>23</th>\n",
       "      <td>1.666198e+09</td>\n",
       "      <td>1.0</td>\n",
       "      <td>1.666198e+09</td>\n",
       "      <td>4.0</td>\n",
       "      <td>2.0</td>\n",
       "      <td>False</td>\n",
       "      <td>[]</td>\n",
       "      <td>[]</td>\n",
       "      <td>[]</td>\n",
       "      <td>4.0</td>\n",
       "      <td>4.0</td>\n",
       "      <td>1.0</td>\n",
       "      <td>2.0</td>\n",
       "      <td>3.0</td>\n",
       "    </tr>\n",
       "    <tr>\n",
       "      <th>24</th>\n",
       "      <td>1.666198e+09</td>\n",
       "      <td>1.0</td>\n",
       "      <td>1.666198e+09</td>\n",
       "      <td>1.0</td>\n",
       "      <td>1.0</td>\n",
       "      <td>False</td>\n",
       "      <td>[]</td>\n",
       "      <td>[]</td>\n",
       "      <td>[]</td>\n",
       "      <td>1.0</td>\n",
       "      <td>1.0</td>\n",
       "      <td>3.0</td>\n",
       "      <td>4.0</td>\n",
       "      <td>4.0</td>\n",
       "    </tr>\n",
       "    <tr>\n",
       "      <th>25</th>\n",
       "      <td>1.666198e+09</td>\n",
       "      <td>1.0</td>\n",
       "      <td>1.666198e+09</td>\n",
       "      <td>3.0</td>\n",
       "      <td>1.0</td>\n",
       "      <td>False</td>\n",
       "      <td>[]</td>\n",
       "      <td>[]</td>\n",
       "      <td>[]</td>\n",
       "      <td>3.0</td>\n",
       "      <td>3.0</td>\n",
       "      <td>2.0</td>\n",
       "      <td>1.0</td>\n",
       "      <td>4.0</td>\n",
       "    </tr>\n",
       "    <tr>\n",
       "      <th>26</th>\n",
       "      <td>1.666198e+09</td>\n",
       "      <td>1.0</td>\n",
       "      <td>1.666198e+09</td>\n",
       "      <td>2.0</td>\n",
       "      <td>2.0</td>\n",
       "      <td>False</td>\n",
       "      <td>[]</td>\n",
       "      <td>[]</td>\n",
       "      <td>[]</td>\n",
       "      <td>2.0</td>\n",
       "      <td>2.0</td>\n",
       "      <td>4.0</td>\n",
       "      <td>3.0</td>\n",
       "      <td>4.0</td>\n",
       "    </tr>\n",
       "    <tr>\n",
       "      <th>27</th>\n",
       "      <td>1.666199e+09</td>\n",
       "      <td>1.0</td>\n",
       "      <td>1.666199e+09</td>\n",
       "      <td>4.0</td>\n",
       "      <td>1.0</td>\n",
       "      <td>False</td>\n",
       "      <td>[]</td>\n",
       "      <td>[]</td>\n",
       "      <td>[]</td>\n",
       "      <td>4.0</td>\n",
       "      <td>4.0</td>\n",
       "      <td>1.0</td>\n",
       "      <td>2.0</td>\n",
       "      <td>2.0</td>\n",
       "    </tr>\n",
       "    <tr>\n",
       "      <th>28</th>\n",
       "      <td>1.666199e+09</td>\n",
       "      <td>1.0</td>\n",
       "      <td>1.666199e+09</td>\n",
       "      <td>1.0</td>\n",
       "      <td>2.0</td>\n",
       "      <td>False</td>\n",
       "      <td>[]</td>\n",
       "      <td>[]</td>\n",
       "      <td>[]</td>\n",
       "      <td>1.0</td>\n",
       "      <td>1.0</td>\n",
       "      <td>3.0</td>\n",
       "      <td>4.0</td>\n",
       "      <td>2.0</td>\n",
       "    </tr>\n",
       "    <tr>\n",
       "      <th>29</th>\n",
       "      <td>1.666199e+09</td>\n",
       "      <td>1.0</td>\n",
       "      <td>1.666199e+09</td>\n",
       "      <td>3.0</td>\n",
       "      <td>2.0</td>\n",
       "      <td>False</td>\n",
       "      <td>[]</td>\n",
       "      <td>[]</td>\n",
       "      <td>[]</td>\n",
       "      <td>3.0</td>\n",
       "      <td>3.0</td>\n",
       "      <td>2.0</td>\n",
       "      <td>1.0</td>\n",
       "      <td>1.0</td>\n",
       "    </tr>\n",
       "    <tr>\n",
       "      <th>30</th>\n",
       "      <td>1.666199e+09</td>\n",
       "      <td>1.0</td>\n",
       "      <td>1.666199e+09</td>\n",
       "      <td>2.0</td>\n",
       "      <td>1.0</td>\n",
       "      <td>False</td>\n",
       "      <td>[]</td>\n",
       "      <td>[]</td>\n",
       "      <td>[]</td>\n",
       "      <td>2.0</td>\n",
       "      <td>2.0</td>\n",
       "      <td>4.0</td>\n",
       "      <td>3.0</td>\n",
       "      <td>3.0</td>\n",
       "    </tr>\n",
       "    <tr>\n",
       "      <th>31</th>\n",
       "      <td>1.666199e+09</td>\n",
       "      <td>1.0</td>\n",
       "      <td>1.666199e+09</td>\n",
       "      <td>4.0</td>\n",
       "      <td>2.0</td>\n",
       "      <td>False</td>\n",
       "      <td>[]</td>\n",
       "      <td>[]</td>\n",
       "      <td>[]</td>\n",
       "      <td>4.0</td>\n",
       "      <td>4.0</td>\n",
       "      <td>1.0</td>\n",
       "      <td>2.0</td>\n",
       "      <td>3.0</td>\n",
       "    </tr>\n",
       "    <tr>\n",
       "      <th>32</th>\n",
       "      <td>1.666199e+09</td>\n",
       "      <td>1.0</td>\n",
       "      <td>1.666199e+09</td>\n",
       "      <td>1.0</td>\n",
       "      <td>1.0</td>\n",
       "      <td>False</td>\n",
       "      <td>[]</td>\n",
       "      <td>[]</td>\n",
       "      <td>[]</td>\n",
       "      <td>1.0</td>\n",
       "      <td>1.0</td>\n",
       "      <td>3.0</td>\n",
       "      <td>4.0</td>\n",
       "      <td>4.0</td>\n",
       "    </tr>\n",
       "    <tr>\n",
       "      <th>33</th>\n",
       "      <td>1.666199e+09</td>\n",
       "      <td>1.0</td>\n",
       "      <td>1.666199e+09</td>\n",
       "      <td>3.0</td>\n",
       "      <td>1.0</td>\n",
       "      <td>False</td>\n",
       "      <td>[]</td>\n",
       "      <td>[]</td>\n",
       "      <td>[]</td>\n",
       "      <td>3.0</td>\n",
       "      <td>3.0</td>\n",
       "      <td>1.0</td>\n",
       "      <td>1.0</td>\n",
       "      <td>4.0</td>\n",
       "    </tr>\n",
       "    <tr>\n",
       "      <th>34</th>\n",
       "      <td>1.666199e+09</td>\n",
       "      <td>1.0</td>\n",
       "      <td>1.666199e+09</td>\n",
       "      <td>1.0</td>\n",
       "      <td>1.0</td>\n",
       "      <td>False</td>\n",
       "      <td>[]</td>\n",
       "      <td>[]</td>\n",
       "      <td>[]</td>\n",
       "      <td>1.0</td>\n",
       "      <td>1.0</td>\n",
       "      <td>2.0</td>\n",
       "      <td>3.0</td>\n",
       "      <td>4.0</td>\n",
       "    </tr>\n",
       "    <tr>\n",
       "      <th>35</th>\n",
       "      <td>1.666199e+09</td>\n",
       "      <td>1.0</td>\n",
       "      <td>1.666199e+09</td>\n",
       "      <td>2.0</td>\n",
       "      <td>2.0</td>\n",
       "      <td>False</td>\n",
       "      <td>[]</td>\n",
       "      <td>[]</td>\n",
       "      <td>[]</td>\n",
       "      <td>2.0</td>\n",
       "      <td>2.0</td>\n",
       "      <td>1.0</td>\n",
       "      <td>1.0</td>\n",
       "      <td>4.0</td>\n",
       "    </tr>\n",
       "    <tr>\n",
       "      <th>36</th>\n",
       "      <td>1.666199e+09</td>\n",
       "      <td>1.0</td>\n",
       "      <td>1.666199e+09</td>\n",
       "      <td>1.0</td>\n",
       "      <td>2.0</td>\n",
       "      <td>False</td>\n",
       "      <td>[]</td>\n",
       "      <td>[]</td>\n",
       "      <td>[]</td>\n",
       "      <td>1.0</td>\n",
       "      <td>1.0</td>\n",
       "      <td>4.0</td>\n",
       "      <td>2.0</td>\n",
       "      <td>2.0</td>\n",
       "    </tr>\n",
       "    <tr>\n",
       "      <th>37</th>\n",
       "      <td>1.666199e+09</td>\n",
       "      <td>1.0</td>\n",
       "      <td>1.666199e+09</td>\n",
       "      <td>4.0</td>\n",
       "      <td>1.0</td>\n",
       "      <td>False</td>\n",
       "      <td>[]</td>\n",
       "      <td>[]</td>\n",
       "      <td>[]</td>\n",
       "      <td>4.0</td>\n",
       "      <td>4.0</td>\n",
       "      <td>3.0</td>\n",
       "      <td>1.0</td>\n",
       "      <td>1.0</td>\n",
       "    </tr>\n",
       "    <tr>\n",
       "      <th>38</th>\n",
       "      <td>1.666199e+09</td>\n",
       "      <td>1.0</td>\n",
       "      <td>1.666199e+09</td>\n",
       "      <td>3.0</td>\n",
       "      <td>2.0</td>\n",
       "      <td>False</td>\n",
       "      <td>[]</td>\n",
       "      <td>[]</td>\n",
       "      <td>[]</td>\n",
       "      <td>3.0</td>\n",
       "      <td>3.0</td>\n",
       "      <td>1.0</td>\n",
       "      <td>4.0</td>\n",
       "      <td>1.0</td>\n",
       "    </tr>\n",
       "    <tr>\n",
       "      <th>39</th>\n",
       "      <td>1.666199e+09</td>\n",
       "      <td>1.0</td>\n",
       "      <td>1.666199e+09</td>\n",
       "      <td>1.0</td>\n",
       "      <td>1.0</td>\n",
       "      <td>False</td>\n",
       "      <td>[]</td>\n",
       "      <td>[]</td>\n",
       "      <td>[]</td>\n",
       "      <td>1.0</td>\n",
       "      <td>1.0</td>\n",
       "      <td>2.0</td>\n",
       "      <td>3.0</td>\n",
       "      <td>3.0</td>\n",
       "    </tr>\n",
       "    <tr>\n",
       "      <th>40</th>\n",
       "      <td>1.666199e+09</td>\n",
       "      <td>1.0</td>\n",
       "      <td>1.666199e+09</td>\n",
       "      <td>2.0</td>\n",
       "      <td>1.0</td>\n",
       "      <td>False</td>\n",
       "      <td>[]</td>\n",
       "      <td>[]</td>\n",
       "      <td>[]</td>\n",
       "      <td>2.0</td>\n",
       "      <td>2.0</td>\n",
       "      <td>1.0</td>\n",
       "      <td>1.0</td>\n",
       "      <td>3.0</td>\n",
       "    </tr>\n",
       "    <tr>\n",
       "      <th>41</th>\n",
       "      <td>1.666199e+09</td>\n",
       "      <td>1.0</td>\n",
       "      <td>1.666199e+09</td>\n",
       "      <td>1.0</td>\n",
       "      <td>1.0</td>\n",
       "      <td>False</td>\n",
       "      <td>[]</td>\n",
       "      <td>[]</td>\n",
       "      <td>[]</td>\n",
       "      <td>1.0</td>\n",
       "      <td>1.0</td>\n",
       "      <td>4.0</td>\n",
       "      <td>2.0</td>\n",
       "      <td>3.0</td>\n",
       "    </tr>\n",
       "    <tr>\n",
       "      <th>42</th>\n",
       "      <td>1.666199e+09</td>\n",
       "      <td>1.0</td>\n",
       "      <td>1.666199e+09</td>\n",
       "      <td>4.0</td>\n",
       "      <td>2.0</td>\n",
       "      <td>False</td>\n",
       "      <td>[]</td>\n",
       "      <td>[]</td>\n",
       "      <td>[]</td>\n",
       "      <td>4.0</td>\n",
       "      <td>4.0</td>\n",
       "      <td>2.0</td>\n",
       "      <td>1.0</td>\n",
       "      <td>3.0</td>\n",
       "    </tr>\n",
       "    <tr>\n",
       "      <th>43</th>\n",
       "      <td>1.666199e+09</td>\n",
       "      <td>1.0</td>\n",
       "      <td>1.666199e+09</td>\n",
       "      <td>2.0</td>\n",
       "      <td>2.0</td>\n",
       "      <td>True</td>\n",
       "      <td>0.185514</td>\n",
       "      <td>[[1666198844.62381]]</td>\n",
       "      <td>[[1, 2, -9223372036854775808]]</td>\n",
       "      <td>2.0</td>\n",
       "      <td>2.0</td>\n",
       "      <td>3.0</td>\n",
       "      <td>4.0</td>\n",
       "      <td>4.0</td>\n",
       "    </tr>\n",
       "    <tr>\n",
       "      <th>44</th>\n",
       "      <td>1.666199e+09</td>\n",
       "      <td>1.0</td>\n",
       "      <td>1.666199e+09</td>\n",
       "      <td>3.0</td>\n",
       "      <td>1.0</td>\n",
       "      <td>False</td>\n",
       "      <td>[]</td>\n",
       "      <td>[]</td>\n",
       "      <td>[]</td>\n",
       "      <td>3.0</td>\n",
       "      <td>3.0</td>\n",
       "      <td>1.0</td>\n",
       "      <td>2.0</td>\n",
       "      <td>2.0</td>\n",
       "    </tr>\n",
       "    <tr>\n",
       "      <th>45</th>\n",
       "      <td>1.666199e+09</td>\n",
       "      <td>1.0</td>\n",
       "      <td>1.666199e+09</td>\n",
       "      <td>1.0</td>\n",
       "      <td>2.0</td>\n",
       "      <td>False</td>\n",
       "      <td>[]</td>\n",
       "      <td>[]</td>\n",
       "      <td>[]</td>\n",
       "      <td>1.0</td>\n",
       "      <td>1.0</td>\n",
       "      <td>4.0</td>\n",
       "      <td>3.0</td>\n",
       "      <td>2.0</td>\n",
       "    </tr>\n",
       "    <tr>\n",
       "      <th>46</th>\n",
       "      <td>1.666199e+09</td>\n",
       "      <td>1.0</td>\n",
       "      <td>1.666199e+09</td>\n",
       "      <td>4.0</td>\n",
       "      <td>1.0</td>\n",
       "      <td>False</td>\n",
       "      <td>[]</td>\n",
       "      <td>[]</td>\n",
       "      <td>[]</td>\n",
       "      <td>4.0</td>\n",
       "      <td>4.0</td>\n",
       "      <td>1.0</td>\n",
       "      <td>1.0</td>\n",
       "      <td>1.0</td>\n",
       "    </tr>\n",
       "    <tr>\n",
       "      <th>47</th>\n",
       "      <td>1.666199e+09</td>\n",
       "      <td>1.0</td>\n",
       "      <td>1.666199e+09</td>\n",
       "      <td>1.0</td>\n",
       "      <td>1.0</td>\n",
       "      <td>False</td>\n",
       "      <td>[]</td>\n",
       "      <td>[]</td>\n",
       "      <td>[]</td>\n",
       "      <td>1.0</td>\n",
       "      <td>1.0</td>\n",
       "      <td>3.0</td>\n",
       "      <td>4.0</td>\n",
       "      <td>1.0</td>\n",
       "    </tr>\n",
       "    <tr>\n",
       "      <th>48</th>\n",
       "      <td>1.666199e+09</td>\n",
       "      <td>1.0</td>\n",
       "      <td>1.666199e+09</td>\n",
       "      <td>3.0</td>\n",
       "      <td>2.0</td>\n",
       "      <td>False</td>\n",
       "      <td>[]</td>\n",
       "      <td>[]</td>\n",
       "      <td>[]</td>\n",
       "      <td>3.0</td>\n",
       "      <td>3.0</td>\n",
       "      <td>2.0</td>\n",
       "      <td>1.0</td>\n",
       "      <td>1.0</td>\n",
       "    </tr>\n",
       "    <tr>\n",
       "      <th>49</th>\n",
       "      <td>1.666199e+09</td>\n",
       "      <td>1.0</td>\n",
       "      <td>1.666199e+09</td>\n",
       "      <td>2.0</td>\n",
       "      <td>1.0</td>\n",
       "      <td>False</td>\n",
       "      <td>[]</td>\n",
       "      <td>[]</td>\n",
       "      <td>[]</td>\n",
       "      <td>2.0</td>\n",
       "      <td>2.0</td>\n",
       "      <td>4.0</td>\n",
       "      <td>3.0</td>\n",
       "      <td>3.0</td>\n",
       "    </tr>\n",
       "    <tr>\n",
       "      <th>50</th>\n",
       "      <td>1.666199e+09</td>\n",
       "      <td>1.0</td>\n",
       "      <td>1.666199e+09</td>\n",
       "      <td>4.0</td>\n",
       "      <td>2.0</td>\n",
       "      <td>False</td>\n",
       "      <td>[]</td>\n",
       "      <td>[]</td>\n",
       "      <td>[]</td>\n",
       "      <td>4.0</td>\n",
       "      <td>4.0</td>\n",
       "      <td>1.0</td>\n",
       "      <td>2.0</td>\n",
       "      <td>3.0</td>\n",
       "    </tr>\n",
       "  </tbody>\n",
       "</table>\n",
       "</div>"
      ],
      "text/plain": [
       "     timestamp_H  Home   timestamp_O  OuterWellIndex  rewardNum  \\\n",
       "1   1.666198e+09   1.0  1.666198e+09             4.0        1.0   \n",
       "2   1.666198e+09   1.0  1.666198e+09             2.0        1.0   \n",
       "3   1.666198e+09   1.0  1.666198e+09             3.0        2.0   \n",
       "4   1.666198e+09   1.0  1.666198e+09             1.0        1.0   \n",
       "5            NaN   NaN  1.666198e+09             4.0        0.0   \n",
       "6   1.666198e+09   1.0  1.666198e+09             2.0        1.0   \n",
       "7   1.666198e+09   1.0  1.666198e+09             3.0        1.0   \n",
       "8   1.666198e+09   1.0  1.666198e+09             1.0        1.0   \n",
       "9   1.666198e+09   1.0  1.666198e+09             3.0        1.0   \n",
       "10  1.666198e+09   1.0  1.666198e+09             2.0        1.0   \n",
       "11  1.666198e+09   1.0  1.666198e+09             4.0        2.0   \n",
       "12  1.666198e+09   1.0  1.666198e+09             3.0        1.0   \n",
       "13  1.666198e+09   1.0  1.666198e+09             1.0        1.0   \n",
       "14  1.666198e+09   1.0  1.666198e+09             2.0        2.0   \n",
       "15  1.666198e+09   1.0  1.666198e+09             4.0        1.0   \n",
       "16  1.666198e+09   1.0  1.666198e+09             3.0        1.0   \n",
       "17  1.666198e+09   1.0  1.666198e+09             1.0        2.0   \n",
       "18  1.666198e+09   1.0  1.666198e+09             2.0        1.0   \n",
       "19  1.666198e+09   1.0  1.666198e+09             1.0        1.0   \n",
       "20  1.666198e+09   1.0  1.666198e+09             4.0        1.0   \n",
       "21  1.666198e+09   1.0  1.666198e+09             3.0        2.0   \n",
       "22  1.666198e+09   1.0  1.666198e+09             2.0        1.0   \n",
       "23  1.666198e+09   1.0  1.666198e+09             4.0        2.0   \n",
       "24  1.666198e+09   1.0  1.666198e+09             1.0        1.0   \n",
       "25  1.666198e+09   1.0  1.666198e+09             3.0        1.0   \n",
       "26  1.666198e+09   1.0  1.666198e+09             2.0        2.0   \n",
       "27  1.666199e+09   1.0  1.666199e+09             4.0        1.0   \n",
       "28  1.666199e+09   1.0  1.666199e+09             1.0        2.0   \n",
       "29  1.666199e+09   1.0  1.666199e+09             3.0        2.0   \n",
       "30  1.666199e+09   1.0  1.666199e+09             2.0        1.0   \n",
       "31  1.666199e+09   1.0  1.666199e+09             4.0        2.0   \n",
       "32  1.666199e+09   1.0  1.666199e+09             1.0        1.0   \n",
       "33  1.666199e+09   1.0  1.666199e+09             3.0        1.0   \n",
       "34  1.666199e+09   1.0  1.666199e+09             1.0        1.0   \n",
       "35  1.666199e+09   1.0  1.666199e+09             2.0        2.0   \n",
       "36  1.666199e+09   1.0  1.666199e+09             1.0        2.0   \n",
       "37  1.666199e+09   1.0  1.666199e+09             4.0        1.0   \n",
       "38  1.666199e+09   1.0  1.666199e+09             3.0        2.0   \n",
       "39  1.666199e+09   1.0  1.666199e+09             1.0        1.0   \n",
       "40  1.666199e+09   1.0  1.666199e+09             2.0        1.0   \n",
       "41  1.666199e+09   1.0  1.666199e+09             1.0        1.0   \n",
       "42  1.666199e+09   1.0  1.666199e+09             4.0        2.0   \n",
       "43  1.666199e+09   1.0  1.666199e+09             2.0        2.0   \n",
       "44  1.666199e+09   1.0  1.666199e+09             3.0        1.0   \n",
       "45  1.666199e+09   1.0  1.666199e+09             1.0        2.0   \n",
       "46  1.666199e+09   1.0  1.666199e+09             4.0        1.0   \n",
       "47  1.666199e+09   1.0  1.666199e+09             1.0        1.0   \n",
       "48  1.666199e+09   1.0  1.666199e+09             3.0        2.0   \n",
       "49  1.666199e+09   1.0  1.666199e+09             2.0        1.0   \n",
       "50  1.666199e+09   1.0  1.666199e+09             4.0        2.0   \n",
       "\n",
       "    change_of_mind CoMMaxProportion                   CoM_t  \\\n",
       "1            False               []                      []   \n",
       "2            False               []                      []   \n",
       "3            False               []                      []   \n",
       "4            False               []                      []   \n",
       "5            False               []                      []   \n",
       "6            False               []                      []   \n",
       "7             True          0.11104  [[1666198066.3680778]]   \n",
       "8            False               []                      []   \n",
       "9            False               []                      []   \n",
       "10            True         0.373149  [[1666198134.6120543]]   \n",
       "11           False               []                      []   \n",
       "12           False               []                      []   \n",
       "13           False               []                      []   \n",
       "14           False               []                      []   \n",
       "15           False               []                      []   \n",
       "16           False               []                      []   \n",
       "17           False               []                      []   \n",
       "18            True         0.162435  [[1666198322.5119896]]   \n",
       "19           False               []                      []   \n",
       "20           False               []                      []   \n",
       "21           False               []                      []   \n",
       "22           False               []                      []   \n",
       "23           False               []                      []   \n",
       "24           False               []                      []   \n",
       "25           False               []                      []   \n",
       "26           False               []                      []   \n",
       "27           False               []                      []   \n",
       "28           False               []                      []   \n",
       "29           False               []                      []   \n",
       "30           False               []                      []   \n",
       "31           False               []                      []   \n",
       "32           False               []                      []   \n",
       "33           False               []                      []   \n",
       "34           False               []                      []   \n",
       "35           False               []                      []   \n",
       "36           False               []                      []   \n",
       "37           False               []                      []   \n",
       "38           False               []                      []   \n",
       "39           False               []                      []   \n",
       "40           False               []                      []   \n",
       "41           False               []                      []   \n",
       "42           False               []                      []   \n",
       "43            True         0.185514    [[1666198844.62381]]   \n",
       "44           False               []                      []   \n",
       "45           False               []                      []   \n",
       "46           False               []                      []   \n",
       "47           False               []                      []   \n",
       "48           False               []                      []   \n",
       "49           False               []                      []   \n",
       "50           False               []                      []   \n",
       "\n",
       "                           CoM_arm  current  future_H  future_O  past  \\\n",
       "1                               []      4.0       4.0       2.0   NaN   \n",
       "2                               []      2.0       2.0       3.0   4.0   \n",
       "3                               []      3.0       3.0       1.0   2.0   \n",
       "4                               []      1.0       1.0       4.0   3.0   \n",
       "5                               []      4.0       4.0       2.0   1.0   \n",
       "6                               []      2.0       2.0       3.0   4.0   \n",
       "7   [[1, 3, -9223372036854775808]]      3.0       3.0       1.0   2.0   \n",
       "8                               []      1.0       1.0       3.0   3.0   \n",
       "9                               []      3.0       3.0       2.0   1.0   \n",
       "10  [[1, 2, -9223372036854775808]]      2.0       2.0       4.0   3.0   \n",
       "11                              []      4.0       4.0       3.0   2.0   \n",
       "12                              []      3.0       3.0       1.0   4.0   \n",
       "13                              []      1.0       1.0       2.0   3.0   \n",
       "14                              []      2.0       2.0       4.0   1.0   \n",
       "15                              []      4.0       4.0       3.0   2.0   \n",
       "16                              []      3.0       3.0       1.0   4.0   \n",
       "17                              []      1.0       1.0       2.0   3.0   \n",
       "18  [[4, 2, -9223372036854775808]]      2.0       2.0       1.0   1.0   \n",
       "19                              []      1.0       1.0       4.0   2.0   \n",
       "20                              []      4.0       4.0       3.0   1.0   \n",
       "21                              []      3.0       3.0       2.0   4.0   \n",
       "22                              []      2.0       2.0       4.0   3.0   \n",
       "23                              []      4.0       4.0       1.0   2.0   \n",
       "24                              []      1.0       1.0       3.0   4.0   \n",
       "25                              []      3.0       3.0       2.0   1.0   \n",
       "26                              []      2.0       2.0       4.0   3.0   \n",
       "27                              []      4.0       4.0       1.0   2.0   \n",
       "28                              []      1.0       1.0       3.0   4.0   \n",
       "29                              []      3.0       3.0       2.0   1.0   \n",
       "30                              []      2.0       2.0       4.0   3.0   \n",
       "31                              []      4.0       4.0       1.0   2.0   \n",
       "32                              []      1.0       1.0       3.0   4.0   \n",
       "33                              []      3.0       3.0       1.0   1.0   \n",
       "34                              []      1.0       1.0       2.0   3.0   \n",
       "35                              []      2.0       2.0       1.0   1.0   \n",
       "36                              []      1.0       1.0       4.0   2.0   \n",
       "37                              []      4.0       4.0       3.0   1.0   \n",
       "38                              []      3.0       3.0       1.0   4.0   \n",
       "39                              []      1.0       1.0       2.0   3.0   \n",
       "40                              []      2.0       2.0       1.0   1.0   \n",
       "41                              []      1.0       1.0       4.0   2.0   \n",
       "42                              []      4.0       4.0       2.0   1.0   \n",
       "43  [[1, 2, -9223372036854775808]]      2.0       2.0       3.0   4.0   \n",
       "44                              []      3.0       3.0       1.0   2.0   \n",
       "45                              []      1.0       1.0       4.0   3.0   \n",
       "46                              []      4.0       4.0       1.0   1.0   \n",
       "47                              []      1.0       1.0       3.0   4.0   \n",
       "48                              []      3.0       3.0       2.0   1.0   \n",
       "49                              []      2.0       2.0       4.0   3.0   \n",
       "50                              []      4.0       4.0       1.0   2.0   \n",
       "\n",
       "    past_reward  \n",
       "1           NaN  \n",
       "2           NaN  \n",
       "3           NaN  \n",
       "4           3.0  \n",
       "5           3.0  \n",
       "6           3.0  \n",
       "7           3.0  \n",
       "8           3.0  \n",
       "9           3.0  \n",
       "10          3.0  \n",
       "11          3.0  \n",
       "12          4.0  \n",
       "13          4.0  \n",
       "14          4.0  \n",
       "15          2.0  \n",
       "16          2.0  \n",
       "17          2.0  \n",
       "18          1.0  \n",
       "19          1.0  \n",
       "20          1.0  \n",
       "21          1.0  \n",
       "22          3.0  \n",
       "23          3.0  \n",
       "24          4.0  \n",
       "25          4.0  \n",
       "26          4.0  \n",
       "27          2.0  \n",
       "28          2.0  \n",
       "29          1.0  \n",
       "30          3.0  \n",
       "31          3.0  \n",
       "32          4.0  \n",
       "33          4.0  \n",
       "34          4.0  \n",
       "35          4.0  \n",
       "36          2.0  \n",
       "37          1.0  \n",
       "38          1.0  \n",
       "39          3.0  \n",
       "40          3.0  \n",
       "41          3.0  \n",
       "42          3.0  \n",
       "43          4.0  \n",
       "44          2.0  \n",
       "45          2.0  \n",
       "46          1.0  \n",
       "47          1.0  \n",
       "48          1.0  \n",
       "49          3.0  \n",
       "50          3.0  "
      ]
     },
     "execution_count": 27,
     "metadata": {},
     "output_type": "execute_result"
    }
   ],
   "source": [
    "log_df.loc[:50]"
   ]
  },
  {
   "cell_type": "code",
   "execution_count": 36,
   "id": "4ac18bb7-bee2-492a-b3ce-7a6e99a16c4c",
   "metadata": {},
   "outputs": [
    {
     "data": {
      "text/plain": [
       "[[0.3013265340061907], [], [], [], [], []]"
      ]
     },
     "execution_count": 36,
     "metadata": {},
     "output_type": "execute_result"
    }
   ],
   "source": [
    "prop_theta_transition_day['20221018']"
   ]
  },
  {
   "cell_type": "code",
   "execution_count": 43,
   "id": "7f169834-6b43-4428-b120-10b60580eca7",
   "metadata": {},
   "outputs": [
    {
     "data": {
      "text/plain": [
       "[Text(0, 0, 'theta'), Text(1, 0, 'nontheta')]"
      ]
     },
     "execution_count": 43,
     "metadata": {},
     "output_type": "execute_result"
    },
    {
     "data": {
      "image/png": "[encoded data removed]",
      "text/plain": [
       "<Figure size 300x300 with 1 Axes>"
      ]
     },
     "metadata": {},
     "output_type": "display_data"
    }
   ],
   "source": [
    "dates_to_plot = list(replay_trials[animal].keys())\n",
    "transitions = [(0,1),(0,2),(0,3),\n",
    "               (1,0),(1,2),(1,3),\n",
    "               (2,0),(2,1),(2,3),\n",
    "               (3,0),(3,1),(3,2)]\n",
    "\n",
    "# plotting stuff\n",
    "cmap = plt.cm.jet\n",
    "norm = plt.Normalize(vmin=0, vmax=len(dates_to_plot))\n",
    "\n",
    "fig,axes = plt.subplots(1,1,figsize = (3,3),sharex = True, sharey = True)\n",
    "\n",
    "sample_theta = []\n",
    "sample_nontheta = []\n",
    "\n",
    "d_ind = 0\n",
    "for d in prop_theta_transition_day.keys():\n",
    "    prop_theta_day = prop_theta_transition_day[d]\n",
    "    prop_nontheta_day = prop_nontheta_transition_day[d]\n",
    "    for prop_theta_session in prop_theta_day:\n",
    "\n",
    "        axes.scatter(np.zeros_like(np.array(prop_theta_session)) + np.random.uniform(0,0.1,len(prop_theta_session)),\n",
    "                     np.array(prop_theta_session),\n",
    "                     color = cmap(norm(d_ind)), alpha = 0.5)\n",
    "        for prop in prop_theta_session:\n",
    "            sample_theta.append(prop)\n",
    "\n",
    "    for prop_nontheta_session in prop_nontheta_day:\n",
    "\n",
    "        axes.scatter(np.zeros_like(np.array(prop_nontheta_session)) + 1 + np.random.uniform(0,0.1,len(prop_nontheta_session)),\n",
    "                     np.array(prop_nontheta_session),\n",
    "                     color = cmap(norm(d_ind)), alpha = 0.5)\n",
    "        for prop in prop_nontheta_session:\n",
    "            sample_nontheta.append(prop)\n",
    "\n",
    "            \n",
    "    d_ind += 1\n",
    "\n",
    "#statistic, pvalue = ranksums(sample_theta, sample_nontheta, \"greater\")\n",
    "res = permutation_test((sample_theta, sample_nontheta), statistic, vectorized=True,\n",
    "                       n_resamples=10000, alternative='greater')\n",
    "\n",
    "axes.text(0.2, 0.5, len(sample_theta))\n",
    "axes.text(0.8, 0.5, len(sample_nontheta))\n",
    "\n",
    "axes.set_ylabel(\"max proportion in arm traveled \")\n",
    "plt.suptitle(animal + '\\n p value: '+str(np.round(res.pvalue,4)))    \n",
    "\n",
    "axes.set_xticks([0,1])\n",
    "\n",
    "axes.set_xticklabels([\"theta\",\"nontheta\"])"
   ]
  },
  {
   "cell_type": "code",
   "execution_count": 44,
   "id": "e9b4c3f5-c7f0-4d7e-8dc6-d1762f39b6f4",
   "metadata": {},
   "outputs": [
    {
     "data": {
      "text/plain": [
       "0.20689655172413793"
      ]
     },
     "execution_count": 44,
     "metadata": {},
     "output_type": "execute_result"
    }
   ],
   "source": [
    "54/261"
   ]
  },
  {
   "cell_type": "code",
   "execution_count": 220,
   "id": "67301d4b-f8d2-444b-a1e9-75634a0956a3",
   "metadata": {},
   "outputs": [
    {
     "name": "stdout",
     "output_type": "stream",
     "text": [
      "len(sample_theta): 35,  len(sample_nontheta):13\n"
     ]
    }
   ],
   "source": [
    "print(f\"len(sample_theta): {len(sample_theta)},  len(sample_nontheta):{len(sample_nontheta)}\")"
   ]
  },
  {
   "cell_type": "code",
   "execution_count": 221,
   "id": "335c679f-d34f-4fb4-8708-8dacf46d6712",
   "metadata": {},
   "outputs": [
    {
     "data": {
      "image/png": "[encoded data removed]",
      "text/plain": [
       "<Figure size 800x800 with 16 Axes>"
      ]
     },
     "metadata": {},
     "output_type": "display_data"
    }
   ],
   "source": [
    "dates_to_plot = list(replay_trials[animal].keys())\n",
    "transitions = [(0,1),(0,2),(0,3),\n",
    "               (1,0),(1,2),(1,3),\n",
    "               (2,0),(2,1),(2,3),\n",
    "               (3,0),(3,1),(3,2)]\n",
    "\n",
    "# plotting stuff\n",
    "cmap = plt.cm.jet\n",
    "norm = plt.Normalize(vmin=0, vmax=len(transitions))\n",
    "\n",
    "fig,axes = plt.subplots(4,4,figsize = (8,8),sharex = True, sharey = True)\n",
    "\n",
    "d_ind = 0\n",
    "for d in diff_theta_transition_day.keys():\n",
    "    diff_theta_day = diff_theta_transition_day[d]\n",
    "    diff_nontheta_day = diff_nontheta_transition_day[d]\n",
    "    \n",
    "    for diff_theta_ind in range(len(diff_theta_day)):\n",
    "        diff_theta = diff_theta_day[diff_theta_ind]\n",
    "        \n",
    "        for transition in diff_theta.keys():\n",
    "            transition_ind = (transition[0] - 1) * 3 + (transition[1] - 1)\n",
    "            axe_i, axe_j = transition #int(np.floor(t_ind/3)), int(t_ind % 3)\n",
    "            axes[axe_i - 1, axe_j - 1].scatter(np.zeros_like(diff_theta[transition]), diff_theta[transition],\n",
    "                                   color = cmap(norm(transition_ind)), alpha = 0.5)\n",
    "\n",
    "    for diff_nontheta_ind in range(len(diff_nontheta_day)):\n",
    "        diff_nontheta = diff_nontheta_day[diff_nontheta_ind]\n",
    "        \n",
    "        for transition in diff_nontheta.keys():\n",
    "            transition_ind = (transition[0] - 1) * 3 + (transition[1] - 1)\n",
    "            axe_i, axe_j = transition #int(np.floor(t_ind/3)), int(t_ind % 3)\n",
    "            axes[axe_i - 1, axe_j - 1].scatter(np.zeros_like(diff_nontheta[transition]) + 1, diff_nontheta[transition],\n",
    "                                   color = cmap(norm(transition_ind)), alpha = 0.5)\n",
    "    d_ind += 1\n",
    "\n",
    "plt.suptitle(animal + '\\n would have been transition 1')    \n",
    "\n",
    "for axe_i in range(4):\n",
    "    for axe_j in range(4):\n",
    "        axes[axe_i, axe_j].set_xticks([0,1])\n",
    "        if axe_j == 0:\n",
    "            axes[axe_i, axe_j].set_ylabel(\"# of trials in between\")\n",
    "        if axe_i == 3:\n",
    "            axes[axe_i, axe_j].set_xticklabels([\"theta\",\"nontheta\"])\n",
    "        axes[axe_i, axe_j].set_title(f\"arm{axe_i+1} to {axe_j+1}\")"
   ]
  },
  {
   "cell_type": "code",
   "execution_count": 128,
   "id": "ad718827-ff3b-4a91-bf3c-1487bb239d68",
   "metadata": {},
   "outputs": [
    {
     "data": {
      "text/plain": [
       "[('eliot20221019_.nwb', '02_Seq2Session1', 10, 1),\n",
       " ('eliot20221019_.nwb', '02_Seq2Session1', 52, 3),\n",
       " ('eliot20221019_.nwb', '02_Seq2Session1', 57, 1),\n",
       " ('eliot20221019_.nwb', '02_Seq2Session1', 57, 1),\n",
       " ('eliot20221019_.nwb', '04_Seq2Session2', 16, 1),\n",
       " ('eliot20221019_.nwb', '04_Seq2Session2', 45, 1),\n",
       " ('eliot20221019_.nwb', '04_Seq2Session2', 76, 4),\n",
       " ('eliot20221019_.nwb', '04_Seq2Session2', 76, 2),\n",
       " ('eliot20221019_.nwb', '04_Seq2Session2', 81, 1),\n",
       " ('eliot20221019_.nwb', '04_Seq2Session2', 81, 3),\n",
       " ('eliot20221019_.nwb', '06_Seq2Session3', 8, 3),\n",
       " ('eliot20221019_.nwb', '06_Seq2Session3', 15, 3),\n",
       " ('eliot20221019_.nwb', '08_Seq2Session4', 25, 1),\n",
       " ('eliot20221019_.nwb', '08_Seq2Session4', 33, 3),\n",
       " ('eliot20221019_.nwb', '08_Seq2Session4', 34, 1),\n",
       " ('eliot20221019_.nwb', '08_Seq2Session4', 37, 1),\n",
       " ('eliot20221019_.nwb', '10_Seq2Session5', 26, 2)]"
      ]
     },
     "execution_count": 128,
     "metadata": {},
     "output_type": "execute_result"
    }
   ],
   "source": [
    "replay_trials[animal]['20221019']"
   ]
  },
  {
   "cell_type": "code",
   "execution_count": 60,
   "id": "94f78a72-2f1c-4455-8b24-4a6279e3df8a",
   "metadata": {},
   "outputs": [],
   "source": [
    "(nwb_copy_file_name, session_name, trial, _ ) = replay_trials[animal]['20221021'][1]"
   ]
  },
  {
   "cell_type": "code",
   "execution_count": 75,
   "id": "efa244c7-ea22-43eb-8062-1883d44f2397",
   "metadata": {},
   "outputs": [],
   "source": []
  },
  {
   "cell_type": "code",
   "execution_count": 30,
   "id": "c08d8bf9-4ed0-49b7-ae98-3cb27ac0fa22",
   "metadata": {},
   "outputs": [],
   "source": []
  },
  {
   "cell_type": "code",
   "execution_count": 160,
   "id": "1bbba20a-38a0-436e-b2fc-b516dfb13d77",
   "metadata": {
    "scrolled": true
   },
   "outputs": [],
   "source": []
  },
  {
   "cell_type": "code",
   "execution_count": 159,
   "id": "c025dfec-1a34-4730-be34-deea4ec64ea5",
   "metadata": {},
   "outputs": [
    {
     "name": "stdout",
     "output_type": "stream",
     "text": [
      "eliot20221019_.nwb\n",
      "trials_all_transition [8, 24, 28, 32, 47, 55, 59, 65, 75, 79]\n",
      "trials_theta_transition [52]\n",
      "trials_all_transition [3, 7, 12, 16, 33, 38, 44, 72, 80]\n",
      "trials_theta_transition [10 57]\n"
     ]
    }
   ],
   "source": [
    "d = '20221019'\n",
    "\n",
    "nwb_copy_file_name = 'eliot'+ d + '_.nwb'\n",
    "print(nwb_copy_file_name)\n",
    "session_name = '02_Seq2Session1'\n",
    "\n"
   ]
  },
  {
   "cell_type": "code",
   "execution_count": 161,
   "id": "d3291e1c-0832-4ab3-aa86-074320237288",
   "metadata": {},
   "outputs": [
    {
     "data": {
      "text/plain": [
       "[8, 5, 28]"
      ]
     },
     "execution_count": 161,
     "metadata": {},
     "output_type": "execute_result"
    }
   ],
   "source": [
    "diff_theta_all"
   ]
  },
  {
   "cell_type": "code",
   "execution_count": 162,
   "id": "8a1486a2-4808-4dbc-98d6-f4c5ea4f9026",
   "metadata": {},
   "outputs": [
    {
     "data": {
      "text/plain": [
       "[15, 4, 6]"
      ]
     },
     "execution_count": 162,
     "metadata": {},
     "output_type": "execute_result"
    }
   ],
   "source": [
    "diff_nontheta_all"
   ]
  },
  {
   "cell_type": "code",
   "execution_count": 141,
   "id": "9931d105-a266-44a2-b646-87b22e1b40ec",
   "metadata": {},
   "outputs": [
    {
     "data": {
      "text/plain": [
       "array([3, 1])"
      ]
     },
     "execution_count": 141,
     "metadata": {},
     "output_type": "execute_result"
    }
   ],
   "source": [
    "transition"
   ]
  },
  {
   "cell_type": "code",
   "execution_count": null,
   "id": "1e085746-790a-43c5-83d6-30c9c08de1fd",
   "metadata": {},
   "outputs": [],
   "source": [
    "# for a CoM trial, find would have been transition\n",
    "\n",
    "# find the time before it repeats\n",
    "\n"
   ]
  },
  {
   "cell_type": "code",
   "execution_count": 234,
   "id": "f5a9dc6e-cc55-4269-a118-b6307d7a7fe8",
   "metadata": {},
   "outputs": [],
   "source": [
    "animal = 'Lewis'\n",
    "\n",
    "dates_to_plot = ['20240105','20240106','20240107','20240108','20240109',\n",
    "                 '20240110']#'20240114']#'20240115','20240116','20240117','20240118','20240119','20240120']\n",
    "\n",
    "dates_to_plot = ['20240115','20240116','20240117','20240118','20240119','20240120']"
   ]
  },
  {
   "cell_type": "code",
   "execution_count": null,
   "id": "b93da294-a946-4fc3-8be4-21f7761a654a",
   "metadata": {},
   "outputs": [],
   "source": []
  },
  {
   "cell_type": "code",
   "execution_count": 244,
   "id": "342d4acc-fd91-407f-bfc2-5a319a4cdd9d",
   "metadata": {},
   "outputs": [
    {
     "data": {
      "image/png": "[encoded data removed]",
      "text/plain": [
       "<Figure size 800x800 with 16 Axes>"
      ]
     },
     "metadata": {},
     "output_type": "display_data"
    }
   ],
   "source": [
    "dates_to_plot = list(replay_trials[animal].keys())\n",
    "transitions = [(0,1),(0,2),(0,3),\n",
    "               (1,0),(1,2),(1,3),\n",
    "               (2,0),(2,1),(2,3),\n",
    "               (3,0),(3,1),(3,2)]\n",
    "\n",
    "# for aggregate plot\n",
    "T_wouldhave_count1 = []\n",
    "T_wouldhave_count2 = []\n",
    "behavior_count = []\n",
    "\n",
    "# plotting stuff\n",
    "cmap = plt.cm.jet\n",
    "norm = plt.Normalize(vmin=0, vmax=len(dates_to_plot))\n",
    "\n",
    "fig,axes = plt.subplots(4,4,figsize = (8,8),sharex = True, sharey = True)\n",
    "\n",
    "for d_ind in range(len(dates_to_plot)-1):\n",
    "    d = dates_to_plot[d_ind]\n",
    "    d2 = dates_to_plot[d_ind + 1]\n",
    "    if len(replay_trials[animal][d]) == 0:\n",
    "        continue\n",
    "    T, T_wouldhave, T_wouldhave2 = find_transitions(replay_trials[animal][d])\n",
    "    delta_behavior = find_behavior_sum(animal,None,[d,d2])\n",
    "\n",
    "    # for lumping across transitions\n",
    "    behavior_count.append(delta_behavior.ravel())\n",
    "    T_wouldhave_count1.append(T_wouldhave[list(T_wouldhave.keys())[0]].ravel())\n",
    "    T_wouldhave_count2.append(T_wouldhave2[list(T_wouldhave2.keys())[0]].ravel())\n",
    "\n",
    "    # for individual transitions\n",
    "    for t_ind in range(len(transitions)):\n",
    "        (i,j) = transitions[t_ind]\n",
    "        axe_i, axe_j = (i,j)#int(np.floor(t_ind/3)), int(t_ind % 3)\n",
    "        axes[axe_i, axe_j].scatter(T_wouldhave[list(T_wouldhave.keys())[0]][i,j], delta_behavior[i,j],\n",
    "                                   color = 'k', alpha = 0.5)\n",
    "                                  #color = cmap(norm(d_ind)))\n",
    "plt.suptitle(animal + '\\n would have been transition 1')    \n",
    "\n",
    "for axe_i in range(4):\n",
    "    for axe_j in range(4):\n",
    "        if axe_j == 0:\n",
    "            axes[axe_i, axe_j].set_ylabel(\"# of CoM w. long theta\")\n",
    "        if axe_i == 3:\n",
    "            axes[axe_i, axe_j].set_xlabel(\"changes(behavior)\")\n",
    "        axes[axe_i, axe_j].set_title(f\"arm{axe_i+1} to {axe_j+1}\")"
   ]
  },
  {
   "cell_type": "code",
   "execution_count": 240,
   "id": "8238ef9c-1a63-4e17-87d1-e639b0e4c562",
   "metadata": {},
   "outputs": [
    {
     "data": {
      "text/plain": [
       "Text(0.5, 1.0, 'Lewis\\n would have been transition 1')"
      ]
     },
     "execution_count": 240,
     "metadata": {},
     "output_type": "execute_result"
    },
    {
     "data": {
      "image/png": "[encoded data removed]",
      "text/plain": [
       "<Figure size 400x400 with 1 Axes>"
      ]
     },
     "metadata": {},
     "output_type": "display_data"
    }
   ],
   "source": [
    "fig,axes = plt.subplots(1,1,figsize = (4,4),sharex = True, sharey = True)\n",
    "x = np.concatenate(T_wouldhave_count1)\n",
    "y = np.concatenate(behavior_count)\n",
    "results, pvalue = fitLM(x,y)\n",
    "    \n",
    "axes.scatter(x, y, alpha = 0.4)\n",
    "x_plot=np.linspace(np.min(x),np.max(x),10).reshape(-1,1)\n",
    "y_plot=results.predict(sm.add_constant(x_plot))\n",
    "pvalue_beta = results.pvalues[1]\n",
    "    \n",
    "axes.plot(x_plot,y_plot,color='blue',linewidth=3,label = str(pvalue))\n",
    "axes.text(np.min(x),np.min(y),\n",
    "          f'p value = {np.round(pvalue_beta,4)}, slope is {np.round(results.params[1],4)}, R2 is {np.around(results.rsquared,3)}')\n",
    "axes.set_xlabel(\"# of (change of mind with long theta)\")\n",
    "axes.set_ylabel(\"changes in behavior\")\n",
    "\n",
    "#jitter = np.random.uniform(high = 0.2, size = len(np.concatenate(T_wouldhave_count1)))\n",
    "#axes.scatter(np.concatenate(T_wouldhave_count1),np.concatenate(behavior_count) > 0 + jitter, alpha = 0.4)\n",
    "\n",
    "plt.title(animal + '\\n would have been transition 1')"
   ]
  },
  {
   "cell_type": "code",
   "execution_count": 238,
   "id": "5aeba9d5-2723-41ee-bbc5-2663e8567ad7",
   "metadata": {},
   "outputs": [
    {
     "data": {
      "text/plain": [
       "Text(0.5, 1.0, 'Lewis\\n would have been transition 1')"
      ]
     },
     "execution_count": 238,
     "metadata": {},
     "output_type": "execute_result"
    },
    {
     "data": {
      "image/png": "[encoded data removed]",
      "text/plain": [
       "<Figure size 1000x400 with 1 Axes>"
      ]
     },
     "metadata": {},
     "output_type": "display_data"
    }
   ],
   "source": [
    "fig,axes = plt.subplots(1,1,figsize = (10,4),sharex = True, sharey = True)\n",
    "x = np.concatenate(T_wouldhave_count1)\n",
    "y = np.concatenate(behavior_count)\n",
    "#results, pvalue = fitLM(x,y)\n",
    "    \n",
    "axes.scatter(y, x > 0, alpha = 0.4)\n",
    "#x_plot=np.linspace(np.min(x),np.max(x),10).reshape(-1,1)\n",
    "#y_plot=results.predict(sm.add_constant(x_plot))\n",
    "#pvalue_beta = results.pvalues[1]\n",
    "    \n",
    "#axes.plot(x_plot,y_plot,color='blue',linewidth=3,label = str(pvalue))\n",
    "#axes.text(np.min(x),np.min(y),\n",
    "#          f'p value = {np.round(pvalue_beta,4)}, slope is {np.round(results.params[1],4)}, R2 is {np.around(results.rsquared,3)}')\n",
    "\n",
    "#jitter = np.random.uniform(high = 0.2, size = len(np.concatenate(T_wouldhave_count1)))\n",
    "#axes.scatter(np.concatenate(T_wouldhave_count1),np.concatenate(behavior_count) > 0 + jitter, alpha = 0.4)\n",
    "\n",
    "plt.title(animal + '\\n would have been transition 1')"
   ]
  },
  {
   "cell_type": "code",
   "execution_count": 245,
   "id": "7f54d691-f703-4ce0-a5ff-e93ca7163e7e",
   "metadata": {},
   "outputs": [
    {
     "data": {
      "image/png": "[encoded data removed]",
      "text/plain": [
       "<Figure size 800x800 with 16 Axes>"
      ]
     },
     "metadata": {},
     "output_type": "display_data"
    }
   ],
   "source": [
    "dates_to_plot = list(replay_trials[animal].keys())\n",
    "transitions = [(0,1),(0,2),(0,3),\n",
    "               (1,0),(1,2),(1,3),\n",
    "               (2,0),(2,1),(2,3),\n",
    "               (3,0),(3,1),(3,2)]\n",
    "\n",
    "# plotting stuff\n",
    "cmap = plt.cm.jet\n",
    "norm = plt.Normalize(vmin=0, vmax=len(dates_to_plot))\n",
    "\n",
    "fig,axes = plt.subplots(4,4,figsize = (8,8),sharex = True, sharey = True)\n",
    "\n",
    "for d_ind in range(len(dates_to_plot)-1):\n",
    "    d = dates_to_plot[d_ind]\n",
    "    d2 = dates_to_plot[d_ind + 1]\n",
    "    if len(replay_trials[animal][d]) == 0:\n",
    "        continue\n",
    "    T, T_wouldhave, T_wouldhave2 = find_transitions(replay_trials[animal][d])\n",
    "    delta_behavior = find_behavior_sum(animal,None,[d,d2])\n",
    "    for t_ind in range(len(transitions)):\n",
    "        (i,j) = transitions[t_ind]\n",
    "        axe_i, axe_j = (i,j)#int(np.floor(t_ind/3)), int(t_ind % 3)\n",
    "        axes[axe_i, axe_j].scatter(T_wouldhave2[list(T_wouldhave2.keys())[0]][i,j], delta_behavior[i,j],\n",
    "                                   color = 'k', alpha = 0.5)\n",
    "        \n",
    "                                  #color = cmap(norm(d_ind)))\n",
    "plt.suptitle(animal + '\\n would have been transition 2')\n",
    "for axe_i in range(4):\n",
    "    for axe_j in range(4):\n",
    "        if axe_j == 0:\n",
    "            axes[axe_i, axe_j].set_ylabel(\"# of CoM w. long theta\")\n",
    "        if axe_i == 3:\n",
    "            axes[axe_i, axe_j].set_xlabel(\"changes(behavior)\")\n",
    "        axes[axe_i, axe_j].set_title(f\"arm{axe_i+1} to {axe_j+1}\")"
   ]
  },
  {
   "cell_type": "code",
   "execution_count": 233,
   "id": "937b6b11-582c-4b23-81e7-48a03c09953d",
   "metadata": {},
   "outputs": [
    {
     "data": {
      "text/plain": [
       "Text(0.0, -0.26344086021505375, 'p value = 0.2286, slope is -0.01, R2 is 0.011')"
      ]
     },
     "execution_count": 233,
     "metadata": {},
     "output_type": "execute_result"
    },
    {
     "data": {
      "image/png": "[encoded data removed]",
      "text/plain": [
       "<Figure size 400x400 with 1 Axes>"
      ]
     },
     "metadata": {},
     "output_type": "display_data"
    }
   ],
   "source": [
    "fig,axes = plt.subplots(1,1,figsize = (4,4),sharex = True, sharey = True)\n",
    "x = np.concatenate(T_wouldhave_count2)\n",
    "y = np.concatenate(behavior_count)\n",
    "results, pvalue = fitLM(x,y)\n",
    "    \n",
    "axes.scatter(x, y, alpha = 0.4)\n",
    "x_plot=np.linspace(np.min(x),np.max(x),10).reshape(-1,1)\n",
    "y_plot=results.predict(sm.add_constant(x_plot))\n",
    "pvalue_beta = results.pvalues[1]\n",
    "    \n",
    "axes.plot(x_plot,y_plot,color='blue',linewidth=3,label = str(pvalue))\n",
    "axes.text(np.min(x),np.min(y),\n",
    "          f'p value = {np.round(pvalue_beta,4)}, slope is {np.round(results.params[1],4)}, R2 is {np.around(results.rsquared,3)}')\n",
    "\n",
    "#jitter = np.random.uniform(high = 0.2, size = len(np.concatenate(T_wouldhave_count1)))\n",
    "#axes.scatter(np.concatenate(T_wouldhave_count1),np.concatenate(behavior_count) > 0 + jitter, alpha = 0.4)"
   ]
  },
  {
   "cell_type": "code",
   "execution_count": null,
   "id": "a8ab420b-b630-4b98-b5b9-f47f13642216",
   "metadata": {},
   "outputs": [],
   "source": []
  }
 ],
 "metadata": {
  "kernelspec": {
   "display_name": "Python 3 (ipykernel)",
   "language": "python",
   "name": "python3"
  },
  "language_info": {
   "codemirror_mode": {
    "name": "ipython",
    "version": 3
   },
   "file_extension": ".py",
   "mimetype": "text/x-python",
   "name": "python",
   "nbconvert_exporter": "python",
   "pygments_lexer": "ipython3",
   "version": "3.7.12"
  }
 },
 "nbformat": 4,
 "nbformat_minor": 5
}
