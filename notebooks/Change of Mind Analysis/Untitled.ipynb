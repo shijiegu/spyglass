{
 "cells": [
  {
   "cell_type": "code",
   "execution_count": 1,
   "id": "d3f86951-aba3-40ac-97bd-f8c969e82eae",
   "metadata": {},
   "outputs": [],
   "source": [
    "import numpy as np"
   ]
  },
  {
   "cell_type": "markdown",
   "id": "3d9f12dc-26cb-4855-ae82-d6311ce4c630",
   "metadata": {},
   "source": [
    "1(i)\n",
    "Given a sequence of\n",
    "$$ var_{i} = f_i arg_i_1 arg_i_2 ...$$\n",
    "we can have a list of maps\n",
    "map_i (named as var_i): arg_i_1 arg_i_2 ... -> f(arg_i_1 arg_i_2 ...)"
   ]
  },
  {
   "cell_type": "code",
   "execution_count": 5,
   "id": "ce8738b1-7606-4c77-a77a-e04990a5de62",
   "metadata": {},
   "outputs": [],
   "source": [
    "def map_i(map,arg):\n",
    "    return map(arg)"
   ]
  },
  {
   "cell_type": "markdown",
   "id": "651a556c-dc4e-406f-bf69-e3e32450da29",
   "metadata": {},
   "source": [
    "1(ii) p1"
   ]
  },
  {
   "cell_type": "code",
   "execution_count": null,
   "id": "7f319456-ccdd-4242-9d90-e4e546ea1db9",
   "metadata": {},
   "outputs": [],
   "source": []
  }
 ],
 "metadata": {
  "kernelspec": {
   "display_name": "Python 3 (ipykernel)",
   "language": "python",
   "name": "python3"
  },
  "language_info": {
   "codemirror_mode": {
    "name": "ipython",
    "version": 3
   },
   "file_extension": ".py",
   "mimetype": "text/x-python",
   "name": "python",
   "nbconvert_exporter": "python",
   "pygments_lexer": "ipython3",
   "version": "3.9.18"
  }
 },
 "nbformat": 4,
 "nbformat_minor": 5
}
