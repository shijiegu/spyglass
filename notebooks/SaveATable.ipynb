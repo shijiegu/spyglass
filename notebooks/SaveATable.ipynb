{
 "cells": [
  {
   "cell_type": "code",
   "execution_count": 1,
   "id": "52267b15-6ec1-4dd7-b49d-3974e6e93e43",
   "metadata": {},
   "outputs": [
    {
     "name": "stderr",
     "output_type": "stream",
     "text": [
      "[2024-05-20 14:59:06,495][INFO]: Connecting shijiegu-alt@lmf-db.cin.ucsf.edu:3306\n",
      "[2024-05-20 14:59:06,537][INFO]: Connected shijiegu-alt@lmf-db.cin.ucsf.edu:3306\n"
     ]
    }
   ],
   "source": [
    "from spyglass.shijiegu.Analysis_SGU import TrialChoice"
   ]
  },
  {
   "cell_type": "code",
   "execution_count": 5,
   "id": "18f84e6d-4ff4-42a7-8b45-d88cc590c0a6",
   "metadata": {},
   "outputs": [],
   "source": [
    "import numpy as np\n",
    "import pandas as pd\n",
    "from spyglass.utils.nwb_helper_fn import get_nwb_copy_filename"
   ]
  },
  {
   "cell_type": "code",
   "execution_count": 7,
   "id": "deadcfa9-6639-43d7-9d6a-ed91e2efba40",
   "metadata": {},
   "outputs": [],
   "source": [
    "nwb_file_name = 'eliot20221025.nwb'\n",
    "nwb_copy_file_name = get_nwb_copy_filename(nwb_file_name)"
   ]
  },
  {
   "cell_type": "code",
   "execution_count": 27,
   "id": "139d841b-0eae-4f66-b4c1-dbbe0b270448",
   "metadata": {},
   "outputs": [],
   "source": [
    "epochs = (TrialChoice & {'nwb_file_name':nwb_copy_file_name}).fetch('epoch')\n",
    "\n",
    "for epoch_num in epochs:\n",
    "    StateScript = pd.DataFrame(\n",
    "            (TrialChoice & {'nwb_file_name':nwb_copy_file_name,'epoch':epoch_num}).fetch1('choice_reward')\n",
    "        )\n",
    "    epoch_name = (TrialChoice & {'nwb_file_name':nwb_copy_file_name,'epoch':epoch_num}).fetch1('epoch_name')\n",
    "\n",
    "    filepath = '/cumulus/shijie/behavior_pilot/Batch1/Eliot/processedStateScript'\n",
    "    filename = filepath+'/'+nwb_copy_file_name[:-5]+'_'+epoch_name\n",
    "    StateScript.to_csv(filename)"
   ]
  },
  {
   "cell_type": "code",
   "execution_count": 25,
   "id": "1dc980f3-2be9-40a1-acdb-35d83237c015",
   "metadata": {},
   "outputs": [],
   "source": []
  },
  {
   "cell_type": "code",
   "execution_count": null,
   "id": "b3e34f70-f2c5-495b-a669-559e1eb1f3a1",
   "metadata": {},
   "outputs": [],
   "source": []
  }
 ],
 "metadata": {
  "kernelspec": {
   "display_name": "Python 3 (ipykernel)",
   "language": "python",
   "name": "python3"
  },
  "language_info": {
   "codemirror_mode": {
    "name": "ipython",
    "version": 3
   },
   "file_extension": ".py",
   "mimetype": "text/x-python",
   "name": "python",
   "nbconvert_exporter": "python",
   "pygments_lexer": "ipython3",
   "version": "3.9.18"
  }
 },
 "nbformat": 4,
 "nbformat_minor": 5
}
