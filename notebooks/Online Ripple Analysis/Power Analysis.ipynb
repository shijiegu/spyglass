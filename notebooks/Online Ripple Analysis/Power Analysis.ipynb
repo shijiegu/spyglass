{
 "cells": [
  {
   "cell_type": "markdown",
   "id": "cf838731-8ad0-45a8-bcd6-bc24dcda4741",
   "metadata": {},
   "source": [
    "# Power Analysis\n",
    "This notebook calculates how many experimental and more control rats we need to do to get a power (hit rate) of 80%. **Summary at the end!**\n",
    "\n",
    "Shijie Gu, May 15, 2024"
   ]
  },
  {
   "cell_type": "code",
   "execution_count": 3,
   "id": "220f3e3e-4aa2-419f-a11e-ee23748d2a38",
   "metadata": {},
   "outputs": [],
   "source": [
    "import numpy as np\n",
    "import matplotlib.pyplot as plt\n",
    "import random\n",
    "import scipy.stats"
   ]
  },
  {
   "cell_type": "markdown",
   "id": "f5382e0c-572d-4c2d-bca5-26c7f187d1c1",
   "metadata": {},
   "source": [
    "### 1. Here we first input data points from experiments"
   ]
  },
  {
   "cell_type": "code",
   "execution_count": 4,
   "id": "cd576e20-636d-4ef8-955a-21a8da692087",
   "metadata": {},
   "outputs": [],
   "source": [
    "data = {} #learning days\n",
    "data['control'] = [4,5,6,4] #Eliot, Klein, Haydn, Lewis\n",
    "data['opto'] = [0] #Bravelu"
   ]
  },
  {
   "cell_type": "markdown",
   "id": "fcb47168-6e8b-428a-99c2-2d42140d59c1",
   "metadata": {},
   "source": [
    "### 2. Next we make up future possible opto data and control rats.\n",
    "We assume that learning days are distributed as follows:\n",
    "- non opto animals: uniformly distributed from 4-6.\n",
    "- opto animals: uniformly distributed from 0-5."
   ]
  },
  {
   "cell_type": "code",
   "execution_count": 5,
   "id": "2342cdc5-217f-40a5-ad13-c82a13feee7b",
   "metadata": {},
   "outputs": [],
   "source": [
    "# Set seed for reproducible research\n",
    "np.random.seed(2024)\n",
    "for d in np.random.randint(4,6, size=2):\n",
    "    data['control'].append(d)\n",
    "for d in np.random.randint(2,5, size=3):\n",
    "    data['opto'].append(d)"
   ]
  },
  {
   "cell_type": "code",
   "execution_count": 6,
   "id": "f3c90bb5-3063-46e3-b739-3cbd51931052",
   "metadata": {},
   "outputs": [
    {
     "data": {
      "image/png": "[encoded data removed]",
      "text/plain": [
       "<Figure size 360x216 with 1 Axes>"
      ]
     },
     "metadata": {
      "needs_background": "light"
     },
     "output_type": "display_data"
    }
   ],
   "source": [
    "fig,axe=plt.subplots(1,1,figsize=(5,3));\n",
    "axe.hist(data['control'],np.arange(10),alpha=0.5,label = 'no opto');\n",
    "axe.hist(data['opto'],np.arange(10),alpha=0.5,label = 'opto');\n",
    "axe.set_xlabel(\"learning days\");\n",
    "axe.set_ylabel(\"animal count\");\n",
    "axe.legend();"
   ]
  },
  {
   "cell_type": "code",
   "execution_count": 7,
   "id": "d4a00a60-ea85-4701-8cfb-d45ab8b1de1b",
   "metadata": {},
   "outputs": [],
   "source": [
    "_,p_value=scipy.stats.mannwhitneyu(data['opto'],data['control'], use_continuity=True,\n",
    "                             alternative='less')\n",
    "#use_continuity as there could be tied rank"
   ]
  },
  {
   "cell_type": "code",
   "execution_count": 8,
   "id": "1345744a-96b6-47b1-a1c1-257191322797",
   "metadata": {},
   "outputs": [
    {
     "data": {
      "text/plain": [
       "0.005189361625218088"
      ]
     },
     "execution_count": 8,
     "metadata": {},
     "output_type": "execute_result"
    }
   ],
   "source": [
    "p_value"
   ]
  },
  {
   "cell_type": "markdown",
   "id": "b6880474-0b9e-401f-8e03-60f8d34f6f84",
   "metadata": {},
   "source": [
    "### 3. Now ramp up the one example above to simulate power"
   ]
  },
  {
   "cell_type": "code",
   "execution_count": 9,
   "id": "242529e4-d6a8-42ee-b14e-10b5391ec6c8",
   "metadata": {},
   "outputs": [],
   "source": [
    "B = 1000 #simulate 1000 time\n",
    "\n",
    "result = np.zeros(B) + np.nan\n",
    "for b in range(B):\n",
    "    # experimental data\n",
    "    data = {}\n",
    "    data['control'] = [4,5,6,4] #Eliot, Klein, Haydn, Lewis\n",
    "    data['opto'] = [0] #Bravelu\n",
    "\n",
    "    # Next we make up future possible opto data and control rats\n",
    "    # Set seed for reproducible research\n",
    "    np.random.seed(2024+b)\n",
    "    for d in np.random.randint(4,6, size=2):\n",
    "        data['control'].append(d)\n",
    "    for d in np.random.randint(1,5, size=3):\n",
    "        data['opto'].append(d)\n",
    "    _,p_value=scipy.stats.mannwhitneyu(data['opto'],data['control'], use_continuity=True,\n",
    "                             alternative='less')\n",
    "    result[b] = p_value"
   ]
  },
  {
   "cell_type": "code",
   "execution_count": 10,
   "id": "4e056270-9806-437a-82a1-eaf80b506f35",
   "metadata": {},
   "outputs": [
    {
     "name": "stdout",
     "output_type": "stream",
     "text": [
      "0.86\n"
     ]
    }
   ],
   "source": [
    "power = np.sum(result <= 0.02)/B\n",
    "print(power)"
   ]
  },
  {
   "cell_type": "code",
   "execution_count": 11,
   "id": "5aca4277-2488-452e-93c2-47adb0d0fb36",
   "metadata": {},
   "outputs": [
    {
     "name": "stdout",
     "output_type": "stream",
     "text": [
      "0.996\n"
     ]
    }
   ],
   "source": [
    "power = np.sum(result <= 0.05)/B\n",
    "print(power)"
   ]
  },
  {
   "cell_type": "markdown",
   "id": "91c0cd45-c96d-4dc3-b64b-5856c0bc3a5b",
   "metadata": {},
   "source": [
    "# Summary (using learning days as a metric)\n",
    "Learning days is defined to be the number of days it takes for the animals to adjust their arm transitions to match the target sequence the most."
   ]
  },
  {
   "cell_type": "markdown",
   "id": "09225047-2798-4e3c-949b-343dfa256e31",
   "metadata": {},
   "source": [
    "The number of days for animals to learn the new sequence for the animals we currently have run is listed below. \n",
    "- Non opto: 4 days (2 animals), 5 days (1 animal), 6 days (1 animal).\n",
    "- Opto: 0 days (1 animal), which means on the day of switching to the new sequence, within 3 sessions, the animal was able to adapt to the new sequence.\n",
    "\n",
    "Given these preliminary data, we suppose that learning days are distributed as follows:\n",
    "- non opto animals: uniformly distributed from 4-6.\n",
    "- opto animals: uniformly distributed from 1-5.\n",
    "\n",
    "Suppose we collect data from 3 opto animals and 2 additional animals with delayed opto light triggering as control, assuming the distrubutions above, the power is 86% with rank-sum test (alpha = 0.02) and 99.6% (alpha = 0.05)."
   ]
  },
  {
   "cell_type": "markdown",
   "id": "279dea56-0ff1-45a9-ab17-735fdd2b4708",
   "metadata": {},
   "source": [
    "### 4. Do the same, but the metric is the number of sessions\n",
    "The number of sessions is defined to be the number of sessions it takes for the animals to adjust their arm transitions to match the target sequence the most in **two consecutive sessions**."
   ]
  },
  {
   "cell_type": "code",
   "execution_count": 12,
   "id": "9b90762c-bc4b-4c5d-a4a9-2176f162bd89",
   "metadata": {},
   "outputs": [],
   "source": [
    "B = 1000 #simulate 1000 time\n",
    "\n",
    "result = np.zeros(B) + np.nan\n",
    "for b in range(B):\n",
    "    # experimental data\n",
    "    data = {}\n",
    "    data['control'] = [24,20,35,20] #Eliot, Klein, Haydn, Lewis\n",
    "    data['opto'] = [0] #Bravelu\n",
    "\n",
    "    # Next we make up future possible opto data and control rats\n",
    "    # Set seed for reproducible research\n",
    "    np.random.seed(2024+b)\n",
    "    for d in np.random.randint(15,30, size=2):\n",
    "        data['control'].append(d)\n",
    "    for d in np.random.randint(5,20, size=3):\n",
    "        data['opto'].append(d)\n",
    "    _,p_value=scipy.stats.mannwhitneyu(data['opto'],data['control'], use_continuity=True,\n",
    "                             alternative='less')\n",
    "    result[b] = p_value"
   ]
  },
  {
   "cell_type": "code",
   "execution_count": 13,
   "id": "66870959-7495-4692-b5af-8059d7626647",
   "metadata": {},
   "outputs": [
    {
     "name": "stdout",
     "output_type": "stream",
     "text": [
      "0.932\n"
     ]
    }
   ],
   "source": [
    "power = np.sum(result <= 0.02)/B\n",
    "print(power)"
   ]
  },
  {
   "cell_type": "code",
   "execution_count": 14,
   "id": "b44c90ee-a370-4088-b365-66a9872a681c",
   "metadata": {},
   "outputs": [
    {
     "name": "stdout",
     "output_type": "stream",
     "text": [
      "0.998\n"
     ]
    }
   ],
   "source": [
    "power = np.sum(result <= 0.05)/B\n",
    "print(power)"
   ]
  },
  {
   "cell_type": "markdown",
   "id": "14734d50-efba-42e4-b2d3-7e043a91627d",
   "metadata": {},
   "source": [
    "# Summary 2 (using the number of sessions as a metric)"
   ]
  },
  {
   "cell_type": "markdown",
   "id": "923d5010-fbdc-43b4-9650-6d61a98f8e13",
   "metadata": {},
   "source": [
    "The number of sessions is defined to be the number of sessions it takes for the animals to adjust their arm transitions to match the target sequence the most in **two consecutive sessions**.\n",
    "\n",
    "The number of sessions for animals to learn the new sequence for the animals we currently have run is listed below. \n",
    "- Non opto: 20 sessions (2 animals), 24 days (1 animal), 35 days (1 animal).\n",
    "- Opto: 0 sessions (1 animal), which means within the 80 trials on the very first new sequence session, the animal was able to adapt to the new sequence. [All animals do not do perfect sequence at all time, but there are differences in how animals capitalize on the mistakes/exploration. In the non-stim group, it takes a couple days for the \"mistakes\" to be seen as the correct sequence, while the behavior of Bravelu (opto SWR stim rat) upon disruption is such that he was able to quickly adapt when lucky mistakes turned out to be all correct.]\n",
    "\n",
    "Given these preliminary data, we suppose that learning days are distributed as follows:\n",
    "- non opto animals: uniformly distributed from 15-30.\n",
    "- opto animals: uniformly distributed from 5-20.\n",
    "Note that we assume that the the pilot animal's data point is an outlier, and assume a more mild seperation between groups.\n",
    "\n",
    "Suppose we collect data from 3 opto animals and 2 additional animals with delayed opto light triggering as control, assuming the distrubutions above, the power is 93.2% with rank-sum test (alpha = 0.02) and 99.8% (alpha = 0.05)."
   ]
  },
  {
   "cell_type": "code",
   "execution_count": 16,
   "id": "81dba58b-6707-4fd3-b739-e1ee5245ae0f",
   "metadata": {},
   "outputs": [],
   "source": [
    "def simulate(low):\n",
    "    \"\"\"\n",
    "    Suppose the stim group learning session number distribution ~ Uniform (low,low + 15)\n",
    "    while that of non stim/control ~ ~ Uniform (15,30)\n",
    "    \"\"\"\n",
    "    B = 1000 #simulate 1000 time\n",
    "\n",
    "    result = np.zeros(B) + np.nan\n",
    "    for b in range(B):\n",
    "        # experimental data\n",
    "        data = {}\n",
    "        data['control'] = [24,20,35,20] #Eliot, Klein, Haydn, Lewis\n",
    "        data['opto'] = [0] #Bravelu\n",
    "\n",
    "        # Next we make up future possible opto data and control rats\n",
    "        # Set seed for reproducible research\n",
    "        np.random.seed(2024+b)\n",
    "        for d in np.random.randint(15,30, size=2):\n",
    "            data['control'].append(d)\n",
    "        for d in np.random.randint(low,low + 15, size=3):\n",
    "            data['opto'].append(d)\n",
    "        _,p_value=scipy.stats.mannwhitneyu(data['opto'],data['control'], use_continuity=True,\n",
    "                                 alternative='less')\n",
    "        result[b] = p_value\n",
    "    \n",
    "    power_2 = np.sum(result <= 0.02)/B\n",
    "    power_5 = np.sum(result <= 0.05)/B\n",
    "    \n",
    "    return power_2,power_5"
   ]
  },
  {
   "cell_type": "code",
   "execution_count": 20,
   "id": "9e74796d-5848-4746-9953-85fd43005b4c",
   "metadata": {},
   "outputs": [],
   "source": [
    "\n",
    "lows = np.arange(5,25,2)\n",
    "results = np.zeros((len(lows),2))\n",
    "for r in range(len(lows)):\n",
    "    power_2,power_5 = simulate(lows[r])\n",
    "    results[r,0] = power_2\n",
    "    results[r,1] = power_5"
   ]
  },
  {
   "cell_type": "code",
   "execution_count": 33,
   "id": "7bf8b060-49bd-4787-bd64-7fa0f40b79c2",
   "metadata": {},
   "outputs": [
    {
     "data": {
      "image/png": "[encoded data removed]",
      "text/plain": [
       "<Figure size 360x216 with 1 Axes>"
      ]
     },
     "metadata": {
      "needs_background": "light"
     },
     "output_type": "display_data"
    }
   ],
   "source": [
    "fig,axe=plt.subplots(1,1,figsize=(5,3));\n",
    "\n",
    "means = lows+7.5\n",
    "axe.plot(means,results[:,0],label = 'at alpha = 0.02')\n",
    "axe.plot(means,results[:,1],label = 'at alpha = 0.05')\n",
    "axe.axvline(45/2,linestyle=':',label = 'mean (non-stim)');\n",
    "axe.set_xlabel(\"mean # of sessions (stim group)\");\n",
    "axe.set_ylabel(\"power\");\n",
    "axe.set_title(\"If we were to collect data from 3 optogenetic animals\");\n",
    "axe.legend();"
   ]
  },
  {
   "cell_type": "code",
   "execution_count": null,
   "id": "f63800f3-39c0-481c-91a2-50076534ca67",
   "metadata": {},
   "outputs": [],
   "source": []
  }
 ],
 "metadata": {
  "kernelspec": {
   "display_name": "Python 3 (ipykernel)",
   "language": "python",
   "name": "python3"
  },
  "language_info": {
   "codemirror_mode": {
    "name": "ipython",
    "version": 3
   },
   "file_extension": ".py",
   "mimetype": "text/x-python",
   "name": "python",
   "nbconvert_exporter": "python",
   "pygments_lexer": "ipython3",
   "version": "3.9.18"
  }
 },
 "nbformat": 4,
 "nbformat_minor": 5
}
