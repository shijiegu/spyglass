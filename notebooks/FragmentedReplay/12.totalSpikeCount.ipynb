{
 "cells": [
  {
   "cell_type": "markdown",
   "id": "b163163b-3f39-451a-b3f6-c1c38e51da61",
   "metadata": {},
   "source": [
    "## 12. Total number of spikes during ripple over days\n",
    "\n",
    "Apr 25, 2025"
   ]
  },
  {
   "cell_type": "code",
   "execution_count": 1,
   "id": "69241fff-3f70-47f3-aacb-5d2b8ebd2745",
   "metadata": {},
   "outputs": [],
   "source": [
    "%load_ext autoreload\n",
    "%autoreload 2"
   ]
  },
  {
   "cell_type": "code",
   "execution_count": 2,
   "id": "8cad6be4-fe28-4d12-82be-11ab999b06f5",
   "metadata": {},
   "outputs": [],
   "source": [
    "import os\n",
    "import numpy as np\n",
    "import datajoint as dj\n",
    "import spyglass as nd\n",
    "import pandas as pd\n",
    "import matplotlib.pyplot as plt"
   ]
  },
  {
   "cell_type": "code",
   "execution_count": 3,
   "id": "e81f1a82-2cc4-4c9a-b2b1-630e58bcdf48",
   "metadata": {},
   "outputs": [
    {
     "name": "stderr",
     "output_type": "stream",
     "text": [
      "[2025-04-25 09:37:59,811][INFO]: DataJoint 0.14.4 connected to shijiegu-alt@lmf-db.cin.ucsf.edu:3306\n"
     ]
    }
   ],
   "source": [
    "from spyglass.shijiegu.helpers import interval_union\n",
    "from spyglass.shijiegu.Analysis_SGU import TrialChoice,RippleTimes,EpochPos,ExtendedRippleTimes,RippleTimesWithDecode\n",
    "from spyglass.shijiegu.load import load_run_sessions\n",
    "from spyglass.shijiegu.singleUnit import (electrode_unit,RippleTime2FiringRate,findWaveForms,RippleTime2Index,\n",
    "                            )\n",
    "from spyglass.shijiegu.fragmented import permute_frag_cont,find_spike_count_ratio,get_nwb_units\n",
    "from spyglass.spikesorting.v0.spikesorting_curation import QualityMetrics\n",
    "from spyglass.shijiegu.placefield import place_field\n",
    "from spyglass.shijiegu.curation_manual import load_peak_amp, plot_spray_window, show_plot"
   ]
  },
  {
   "cell_type": "code",
   "execution_count": 4,
   "id": "9d0c688a-019e-44ce-9ce4-bd0db4695972",
   "metadata": {},
   "outputs": [],
   "source": [
    "nwb_copy_file_name = \"lewis20240109_.nwb\"\n",
    "#nwb_copy_file_name = \"eliot20221021_.nwb\""
   ]
  },
  {
   "cell_type": "code",
   "execution_count": 5,
   "id": "f7d4fb7d-0b83-47a7-ad4f-7168fa1543e7",
   "metadata": {},
   "outputs": [
    {
     "name": "stdout",
     "output_type": "stream",
     "text": [
      "*nwb_file_name *epoch    epoch_name     position_inter\n",
      "+------------+ +-------+ +------------+ +------------+\n",
      "lewis20240109_ 1         01_Rev2Sleep1  pos 0 valid ti\n",
      "lewis20240109_ 2         02_Rev2Session pos 1 valid ti\n",
      "lewis20240109_ 3         03_Rev2Sleep2  pos 2 valid ti\n",
      "lewis20240109_ 4         04_Rev2Session pos 3 valid ti\n",
      "lewis20240109_ 5         05_Rev2Sleep3  pos 4 valid ti\n",
      "lewis20240109_ 6         06_Rev2Session pos 5 valid ti\n",
      "lewis20240109_ 7         07_Rev2Sleep4  pos 6 valid ti\n",
      "lewis20240109_ 8         08_Rev2Session pos 7 valid ti\n",
      "lewis20240109_ 9         09_Rev2Sleep5  pos 8 valid ti\n",
      " (Total: 9)\n",
      "\n"
     ]
    }
   ],
   "source": [
    "run_session_ids, run_session_names, pos_session_names = load_run_sessions(nwb_copy_file_name)"
   ]
  },
  {
   "cell_type": "code",
   "execution_count": 31,
   "id": "4ab74f37-a0e6-44de-b02c-42cb14eec445",
   "metadata": {},
   "outputs": [],
   "source": [
    "def total_spike(nwb_copy_file_name,session_name1,curation_id = 1):\n",
    "\n",
    "    ### 1. get ripples\n",
    "    try:\n",
    "        ripple_times = pd.DataFrame((RippleTimesWithDecode & \n",
    "                                 {'nwb_file_name': nwb_copy_file_name, 'interval_list_name': session_name1}).fetch1('ripple_times'))\n",
    "    except:\n",
    "        ripple_times = pd.read_pickle((RippleTimesWithDecode & \n",
    "                                 {'nwb_file_name': nwb_copy_file_name, 'interval_list_name': session_name1}).fetch1('ripple_times'))\n",
    "\n",
    "    ### 2. get nwb_units_all\n",
    "    key = {\"nwb_file_name\": nwb_copy_file_name,\n",
    "               \"sorter\":\"mountainsort4\",\n",
    "               \"sort_interval_name\":session_name1}\n",
    "        \n",
    "    sort_group_ids_with_good_cell = []\n",
    "    sort_group_ids = np.unique((QualityMetrics & key).fetch(\"sort_group_id\"))\n",
    "    for sort_group_id in sort_group_ids:\n",
    "        nwb_units = electrode_unit(nwb_copy_file_name,session_name1,sort_group_id,curation_id = curation_id)\n",
    "            \n",
    "        #print(\"\\n here\")\n",
    "        if nwb_units is None or len(nwb_units)==0:\n",
    "            #print(\"\\nhere\", sort_group_id)\n",
    "            continue\n",
    "        print(len(nwb_units))\n",
    "        sort_group_ids_with_good_cell.append(sort_group_id)\n",
    "    print(sort_group_ids_with_good_cell)\n",
    "    \n",
    "    nwb_units_all = get_nwb_units(nwb_copy_file_name,session_name1,sort_group_ids_with_good_cell,curation_id = curation_id)\n",
    "    \n",
    "    (spike_count_ratio_frag, spike_count_ratio_ripple,\n",
    "     spike_count_frags, spike_count_ripple, spike_count_total) = _total_spike(nwb_units_all,ripple_times)\n",
    "    return spike_count_ratio_frag, spike_count_ratio_ripple, spike_count_frags, spike_count_ripple, spike_count_total\n",
    "    \n",
    "    \n",
    "def _total_spike(nwb_units_all,ripple_times):\n",
    "    ratio, ratio_dict, firing_rate_F, firing_rate_C, unit_name = find_spike_count_ratio(nwb_units_all,ripple_times)\n",
    "    \n",
    "    count_totals = []\n",
    "    count_ripples = []\n",
    "    count_frags = []\n",
    "    \n",
    "    sort_group_ids_with_good_cell = list(nwb_units_all.keys())\n",
    "    for e in sort_group_ids_with_good_cell:\n",
    "        for u in nwb_units_all[e].index:\n",
    "            count_total_e_u = len(nwb_units_all[e].loc[u].spike_times)\n",
    "            if count_total_e_u > 10000: #exclude interneurons\n",
    "                continue\n",
    "            (_1, count_F, _) = firing_rate_F[e][u]\n",
    "            (_1, count_C, _) = firing_rate_C[e][u]\n",
    "            count_ripple_e_u = count_F + count_C\n",
    "    \n",
    "            count_totals.append(count_total_e_u)\n",
    "            count_ripples.append(count_ripple_e_u)   \n",
    "            count_frags.append(count_F)\n",
    "\n",
    "    spike_count_ripple = np.sum(np.array(count_ripples))\n",
    "    spike_count_total = np.sum(np.array(count_totals))\n",
    "    spike_count_frags = np.sum(np.array(count_frags))\n",
    "    \n",
    "    \n",
    "\n",
    "    spike_count_ratio_ripple = spike_count_ripple / spike_count_total\n",
    "    spike_count_ratio_frag = spike_count_frags / spike_count_total\n",
    "    \n",
    "    return spike_count_ratio_frag, spike_count_ratio_ripple, spike_count_frags, spike_count_ripple, spike_count_total\n",
    "\n"
   ]
  },
  {
   "cell_type": "code",
   "execution_count": 32,
   "id": "605ef44a-2377-413f-8de6-cc757399076e",
   "metadata": {},
   "outputs": [],
   "source": [
    "animal = 'Lewis'\n",
    "dates_to_plot = ['20240109','20240110']"
   ]
  },
  {
   "cell_type": "code",
   "execution_count": 40,
   "id": "80b2189b-9d12-40c8-a8eb-80b7ac76dbcf",
   "metadata": {
    "scrolled": true
   },
   "outputs": [
    {
     "name": "stdout",
     "output_type": "stream",
     "text": [
      "*nwb_file_name *epoch    epoch_name     position_inter\n",
      "+------------+ +-------+ +------------+ +------------+\n",
      "lewis20240109_ 1         01_Rev2Sleep1  pos 0 valid ti\n",
      "lewis20240109_ 2         02_Rev2Session pos 1 valid ti\n",
      "lewis20240109_ 3         03_Rev2Sleep2  pos 2 valid ti\n",
      "lewis20240109_ 4         04_Rev2Session pos 3 valid ti\n",
      "lewis20240109_ 5         05_Rev2Sleep3  pos 4 valid ti\n",
      "lewis20240109_ 6         06_Rev2Session pos 5 valid ti\n",
      "lewis20240109_ 7         07_Rev2Sleep4  pos 6 valid ti\n",
      "lewis20240109_ 8         08_Rev2Session pos 7 valid ti\n",
      "lewis20240109_ 9         09_Rev2Sleep5  pos 8 valid ti\n",
      " (Total: 9)\n",
      "\n",
      "*nwb_file_name *epoch    epoch_name     position_inter\n",
      "+------------+ +-------+ +------------+ +------------+\n",
      "lewis20240110_ 1         01_Rev2Sleep1  pos 0 valid ti\n",
      "lewis20240110_ 2         02_Rev2Session pos 1 valid ti\n",
      "lewis20240110_ 3         03_Rev2Sleep2  pos 2 valid ti\n",
      "lewis20240110_ 4         04_Rev2Session pos 3 valid ti\n",
      "lewis20240110_ 5         05_Rev2Sleep3  pos 4 valid ti\n",
      "lewis20240110_ 6         06_Rev2Session pos 5 valid ti\n",
      "lewis20240110_ 7         07_Rev2Sleep4  pos 6 valid ti\n",
      "lewis20240110_ 8         08_Rev2Session pos 7 valid ti\n",
      "lewis20240110_ 9         09_Rev2Sleep5  pos 8 valid ti\n",
      "lewis20240110_ 10        10_Rev2Session pos 9 valid ti\n",
      "lewis20240110_ 11        11_Rev2Sleep6  pos 10 valid t\n",
      " (Total: 11)\n",
      "\n"
     ]
    }
   ],
   "source": [
    "label_sessions = [] # for plotting\n",
    "\n",
    "\n",
    "for d in dates_to_plot:\n",
    "    nwb_copy_file_name = animal.lower() + d + '_.nwb'\n",
    "    run_session_ids, run_session_names, pos_session_names = load_run_sessions(nwb_copy_file_name)\n",
    "\n",
    "\n",
    "    for ind in range(len(run_session_names)):\n",
    "        session_name = run_session_names[ind]\n",
    "\n",
    "        label_sessions.append(d[6:9]+'\\n'+str(session_name)[:2])"
   ]
  },
  {
   "cell_type": "code",
   "execution_count": null,
   "id": "5ed9aed7-f15d-4647-a7af-1b4afffbb055",
   "metadata": {
    "scrolled": true
   },
   "outputs": [
    {
     "name": "stdout",
     "output_type": "stream",
     "text": [
      "*nwb_file_name *epoch    epoch_name     position_inter\n",
      "+------------+ +-------+ +------------+ +------------+\n",
      "lewis20240105_ 1         01_Rev2Sleep1  pos 0 valid ti\n",
      "lewis20240105_ 2         02_Rev2Session pos 1 valid ti\n",
      "lewis20240105_ 3         03_Rev2Sleep2  pos 2 valid ti\n",
      "lewis20240105_ 4         04_Rev2Session pos 3 valid ti\n",
      "lewis20240105_ 5         05_Rev2Sleep3  pos 4 valid ti\n",
      "lewis20240105_ 6         06_Rev2Session pos 5 valid ti\n",
      "lewis20240105_ 7         07_Rev2Sleep4  pos 6 valid ti\n",
      "lewis20240105_ 8         08_Rev2Session pos 7 valid ti\n",
      "lewis20240105_ 9         09_Rev2Sleep5  pos 8 valid ti\n",
      "lewis20240105_ 10        10_Rev2Session pos 9 valid ti\n",
      " (Total: 10)\n",
      "\n",
      "[]\n",
      "[]\n",
      "[]\n",
      "[]\n",
      "[]\n",
      "*nwb_file_name *epoch    epoch_name     position_inter\n",
      "+------------+ +-------+ +------------+ +------------+\n",
      "lewis20240106_ 1         01_Rev2Sleep1  pos 0 valid ti\n",
      "lewis20240106_ 2         02_Rev2Session pos 1 valid ti\n",
      "lewis20240106_ 3         03_Rev2Sleep2  pos 2 valid ti\n",
      "lewis20240106_ 4         04_Rev2Session pos 3 valid ti\n",
      "lewis20240106_ 5         05_Rev2Sleep3  pos 4 valid ti\n",
      "lewis20240106_ 6         06_Rev2Session pos 5 valid ti\n",
      "lewis20240106_ 7         07_Rev2Sleep4  pos 6 valid ti\n",
      "lewis20240106_ 8         08_Rev2Session pos 7 valid ti\n",
      "lewis20240106_ 9         09_Rev2Sleep5  pos 8 valid ti\n",
      " (Total: 9)\n",
      "\n",
      "[]\n",
      "[]\n",
      "[]\n",
      "[]\n",
      "*nwb_file_name *epoch    epoch_name     position_inter\n",
      "+------------+ +-------+ +------------+ +------------+\n",
      "lewis20240107_ 1         01_Rev2Sleep1  pos 0 valid ti\n",
      "lewis20240107_ 2         02_Rev2Session pos 1 valid ti\n",
      "lewis20240107_ 3         03_Rev2Sleep2  pos 2 valid ti\n",
      "lewis20240107_ 4         04_Rev2Session pos 3 valid ti\n",
      "lewis20240107_ 5         05_Rev2Sleep3  pos 4 valid ti\n",
      "lewis20240107_ 6         06_Rev2Session pos 5 valid ti\n",
      "lewis20240107_ 7         07_Rev2Sleep4  pos 6 valid ti\n",
      "lewis20240107_ 8         08_Rev2Session pos 7 valid ti\n",
      "lewis20240107_ 9         09_Rev2Sleep5  pos 8 valid ti\n",
      "lewis20240107_ 10        10_Rev2Session pos 9 valid ti\n",
      "lewis20240107_ 11        11_Rev2Sleep6  pos 10 valid t\n",
      " (Total: 11)\n",
      "\n",
      "[]\n",
      "[]\n",
      "[]\n",
      "[]\n",
      "[]\n",
      "*nwb_file_name *epoch    epoch_name     position_inter\n",
      "+------------+ +-------+ +------------+ +------------+\n",
      "lewis20240108_ 1         01_Rev2Sleep1  pos 0 valid ti\n",
      "lewis20240108_ 2         02_Rev2Session pos 1 valid ti\n",
      "lewis20240108_ 3         03_Rev2Sleep2  pos 2 valid ti\n",
      "lewis20240108_ 4         04_Rev2Session pos 3 valid ti\n",
      "lewis20240108_ 5         05_Rev2Sleep3  pos 4 valid ti\n",
      "lewis20240108_ 6         06_Rev2Session pos 5 valid ti\n",
      "lewis20240108_ 7         07_Rev2Sleep4  pos 6 valid ti\n",
      "lewis20240108_ 8         08_Rev2Session pos 7 valid ti\n",
      "lewis20240108_ 9         09_Rev2Sleep5  pos 8 valid ti\n",
      " (Total: 9)\n",
      "\n",
      "[]\n",
      "[]\n",
      "[]\n",
      "[]\n",
      "*nwb_file_name *epoch    epoch_name     position_inter\n",
      "+------------+ +-------+ +------------+ +------------+\n",
      "lewis20240109_ 1         01_Rev2Sleep1  pos 0 valid ti\n",
      "lewis20240109_ 2         02_Rev2Session pos 1 valid ti\n",
      "lewis20240109_ 3         03_Rev2Sleep2  pos 2 valid ti\n",
      "lewis20240109_ 4         04_Rev2Session pos 3 valid ti\n",
      "lewis20240109_ 5         05_Rev2Sleep3  pos 4 valid ti\n",
      "lewis20240109_ 6         06_Rev2Session pos 5 valid ti\n",
      "lewis20240109_ 7         07_Rev2Sleep4  pos 6 valid ti\n",
      "lewis20240109_ 8         08_Rev2Session pos 7 valid ti\n",
      "lewis20240109_ 9         09_Rev2Sleep5  pos 8 valid ti\n",
      " (Total: 9)\n",
      "\n",
      "8\n",
      "3\n",
      "4\n",
      "7\n",
      "5\n",
      "7\n",
      "2\n",
      "10\n",
      "8\n",
      "9\n",
      "3\n",
      "3\n",
      "5\n",
      "8\n",
      "9\n",
      "7\n",
      "6\n",
      "7\n",
      "6\n",
      "10\n",
      "6\n",
      "1\n",
      "1\n",
      "5\n",
      "12\n",
      "16\n",
      "11\n",
      "15\n",
      "5\n",
      "9\n",
      "13\n",
      "1\n",
      "3\n",
      "8\n",
      "5\n",
      "8\n",
      "1\n",
      "5\n",
      "9\n",
      "6\n",
      "[0, 1, 3, 7, 8, 9, 10, 12, 13, 15, 17, 18, 19, 20, 21, 23, 24, 25, 26, 27, 29, 30, 31, 32, 35, 37, 39, 40, 42, 43, 44, 46, 47, 48, 50, 53, 58, 61, 62, 63]\n"
     ]
    },
    {
     "name": "stderr",
     "output_type": "stream",
     "text": [
      "/home/shijiegu/anaconda3/envs/spyglass/lib/python3.10/site-packages/hdmf/spec/namespace.py:535: UserWarning: Ignoring cached namespace 'ndx-franklab-novela' version 0.1.0 because version 0.2.0 is already loaded.\n",
      "  warn(\"Ignoring cached namespace '%s' version %s because version %s is already loaded.\"\n"
     ]
    },
    {
     "name": "stdout",
     "output_type": "stream",
     "text": [
      "10\n"
     ]
    },
    {
     "name": "stderr",
     "output_type": "stream",
     "text": [
      "/home/shijiegu/anaconda3/envs/spyglass/lib/python3.10/site-packages/hdmf/spec/namespace.py:535: UserWarning: Ignoring cached namespace 'ndx-franklab-novela' version 0.1.0 because version 0.2.0 is already loaded.\n",
      "  warn(\"Ignoring cached namespace '%s' version %s because version %s is already loaded.\"\n",
      "/home/shijiegu/anaconda3/envs/spyglass/lib/python3.10/site-packages/hdmf/spec/namespace.py:535: UserWarning: Ignoring cached namespace 'ndx-franklab-novela' version 0.1.0 because version 0.2.0 is already loaded.\n",
      "  warn(\"Ignoring cached namespace '%s' version %s because version %s is already loaded.\"\n"
     ]
    },
    {
     "name": "stdout",
     "output_type": "stream",
     "text": [
      "1\n"
     ]
    },
    {
     "name": "stderr",
     "output_type": "stream",
     "text": [
      "/home/shijiegu/anaconda3/envs/spyglass/lib/python3.10/site-packages/hdmf/spec/namespace.py:535: UserWarning: Ignoring cached namespace 'ndx-franklab-novela' version 0.1.0 because version 0.2.0 is already loaded.\n",
      "  warn(\"Ignoring cached namespace '%s' version %s because version %s is already loaded.\"\n"
     ]
    }
   ],
   "source": [
    "ratio_ripple_sessions = []\n",
    "ratio_frag_sessions = []\n",
    "label_sessions = [] # for plotting\n",
    "ratio_ripple_days = []\n",
    "ratio_frag_days = []\n",
    "\n",
    "for d in dates_to_plot:\n",
    "    nwb_copy_file_name = animal.lower() + d + '_.nwb'\n",
    "    run_session_ids, run_session_names, pos_session_names = load_run_sessions(nwb_copy_file_name)\n",
    "\n",
    "    (spike_count_frags_day, spike_count_ripple_day, spike_count_total_day) = (0, 0 ,0 )\n",
    "\n",
    "    for ind in range(len(run_session_names)):\n",
    "        session_name = run_session_names[ind]\n",
    "        \n",
    "        (spike_count_ratio_frag, spike_count_ratio_ripple,\n",
    "         spike_count_frag, spike_count_ripple, spike_count_total) = total_spike(nwb_copy_file_name,\n",
    "                                                                   session_name)\n",
    "        ratio_ripple_sessions.append(spike_count_ratio_ripple)\n",
    "        ratio_frag_sessions.append(spike_count_ratio_frag)\n",
    "        label_sessions.append(d[6:9]+'\\n'+str(session_name)[:2])\n",
    "\n",
    "        spike_count_frags_day += spike_count_frag\n",
    "        spike_count_ripple_day += spike_count_ripple\n",
    "        spike_count_total_day += spike_count_total\n",
    "\n",
    "    ratio_ripple_days.append(spike_count_ripple_day / spike_count_total_day)\n",
    "    ratio_frag_days.append(spike_count_frags_day / spike_count_total_day)\n"
   ]
  },
  {
   "cell_type": "code",
   "execution_count": 38,
   "id": "952dfb3b-ee39-452f-b689-f6a635052893",
   "metadata": {},
   "outputs": [
    {
     "data": {
      "text/plain": [
       "[0.04713508398391294,\n",
       " 0.0402849256312287,\n",
       " 0.04101066927332474,\n",
       " 0.041261066819363076,\n",
       " 0.035749624310999206,\n",
       " 0.04301331972273902,\n",
       " 0.04227659847891865,\n",
       " 0.02612453261088597,\n",
       " 0.035960766572657885]"
      ]
     },
     "execution_count": 38,
     "metadata": {},
     "output_type": "execute_result"
    }
   ],
   "source": [
    "ratio_ripple_sessions"
   ]
  },
  {
   "cell_type": "code",
   "execution_count": 42,
   "id": "4a6b48c7-1e34-4b6e-aad0-9b7eac28c10e",
   "metadata": {},
   "outputs": [
    {
     "data": {
      "text/plain": [
       "<matplotlib.lines.Line2D at 0x7fcb2717e200>"
      ]
     },
     "execution_count": 42,
     "metadata": {},
     "output_type": "execute_result"
    },
    {
     "data": {
      "image/png": "[encoded data removed]",
      "text/plain": [
       "<Figure size 1000x300 with 1 Axes>"
      ]
     },
     "metadata": {},
     "output_type": "display_data"
    }
   ],
   "source": [
    "fig,ax = plt.subplots(1,1,figsize = (10,3))\n",
    "\n",
    "ax.plot(label_sessions,ratio_ripple_sessions,label = \"ratio ripples\")\n",
    "ax.plot(label_sessions,ratio_frag_sessions,label = \"ratio ripples\")\n",
    "ax.axvline(1,linestyle = ':')\n",
    "#ax.set_xticks(np.log([0.01,]))\n"
   ]
  },
  {
   "cell_type": "code",
   "execution_count": null,
   "id": "0d16df0d-aa68-4db4-83e6-b80b4d418b8e",
   "metadata": {},
   "outputs": [],
   "source": []
  }
 ],
 "metadata": {
  "kernelspec": {
   "display_name": "Python 3 (ipykernel)",
   "language": "python",
   "name": "python3"
  },
  "language_info": {
   "codemirror_mode": {
    "name": "ipython",
    "version": 3
   },
   "file_extension": ".py",
   "mimetype": "text/x-python",
   "name": "python",
   "nbconvert_exporter": "python",
   "pygments_lexer": "ipython3",
   "version": "3.10.17"
  }
 },
 "nbformat": 4,
 "nbformat_minor": 5
}
