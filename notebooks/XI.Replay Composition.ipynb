{
 "cells": [
  {
   "cell_type": "markdown",
   "id": "45eef64b-4a5f-48c8-a551-6f492fb25dcb",
   "metadata": {},
   "source": [
    "### Replay composition \n",
    "Analysis 1: (past no reward,previous reward,future)"
   ]
  },
  {
   "cell_type": "code",
   "execution_count": 448,
   "id": "7862866d-9c9a-4635-9356-17e4ae33b053",
   "metadata": {},
   "outputs": [],
   "source": [
    "%reload_ext autoreload\n",
    "%autoreload 2"
   ]
  },
  {
   "cell_type": "code",
   "execution_count": 449,
   "id": "db280366-5d3e-4e91-bbe3-9b1c49a9a3a3",
   "metadata": {},
   "outputs": [],
   "source": [
    "import spyglass as nd\n",
    "import pandas as pd\n",
    "import statsmodels.api as sm\n",
    "# ignore datajoint+jupyter async warnings\n",
    "import warnings\n",
    "warnings.simplefilter('ignore', category=DeprecationWarning)\n",
    "warnings.simplefilter('ignore', category=ResourceWarning)\n",
    "\n",
    "import matplotlib.pyplot as plt\n",
    "import numpy as np\n",
    "import xarray as xr\n",
    "import logging\n",
    "import multiprocessing\n",
    "\n",
    "FORMAT = '%(asctime)s %(message)s'\n",
    "\n",
    "logging.basicConfig(level='INFO', format=FORMAT, datefmt='%d-%b-%y %H:%M:%S')\n",
    "\n",
    "from spyglass.common import (Session, IntervalList,IntervalPositionInfo,\n",
    "                             LabMember, LabTeam, Raw, Session, Nwbfile,\n",
    "                            Electrode,LFPBand,interval_list_intersect)\n",
    "from spyglass.common.common_interval import _intersection\n",
    "\n",
    "import spyglass.spikesorting as ss\n",
    "from spyglass.spikesorting import (SortGroup, \n",
    "                                    SortInterval,\n",
    "                                    SpikeSortingPreprocessingParameters,\n",
    "                                    SpikeSortingRecording, \n",
    "                                    SpikeSorterParameters,\n",
    "                                    SpikeSortingRecordingSelection,\n",
    "                                    ArtifactDetectionParameters, ArtifactDetectionSelection,\n",
    "                                    ArtifactRemovedIntervalList, ArtifactDetection,\n",
    "                                      SpikeSortingSelection, SpikeSorting,\n",
    "                                   CuratedSpikeSortingSelection,CuratedSpikeSorting,Curation)\n",
    "from spyglass.decoding.clusterless import (UnitMarks,\n",
    "                                           UnitMarkParameters,UnitMarksIndicatorSelection,\n",
    "                                          UnitMarksIndicator)\n",
    "from spyglass.common.nwb_helper_fn import get_nwb_copy_filename\n",
    "from spyglass.common.common_position import IntervalPositionInfo, IntervalPositionInfoSelection\n",
    "\n",
    "\n",
    "# Here are the analysis tables specific to Shijie Gu\n",
    "from spyglass.Analysis_SGU import (TrialChoice,\n",
    "                                   TrialChoiceReplay,\n",
    "                                   RippleTimes,\n",
    "                                   Decode,get_linearization_map,\n",
    "                                   find_ripple_times,classify_ripples,classify_ripple_content,\n",
    "                                   get_df_tally,find_tally_df)"
   ]
  },
  {
   "cell_type": "code",
   "execution_count": 450,
   "id": "ceb94a0f-e369-4838-8c72-519a0c3b4d59",
   "metadata": {},
   "outputs": [],
   "source": [
    "def count_replay_by_category(replay_df,tally_df,category_names):\n",
    "    '''\n",
    "    replay_df is a list (of length trials) of list (arm replays on each trial)\n",
    "    tally_df is a dataframe that has corresponence between arm and category\n",
    "    '''\n",
    "    # initialize \n",
    "    category={}\n",
    "    for n in category_names:\n",
    "        category[n]=0\n",
    "    # add in nan\n",
    "    nan_count=0\n",
    "    \n",
    "    # do counting\n",
    "    for t in range(len(replay_df)):\n",
    "        replay=replay_df[t]\n",
    "        nan_count+=np.sum(np.isnan(replay))\n",
    "        if len(replay)==0:\n",
    "            continue\n",
    "        for c in list(category.keys()):\n",
    "            category[c]+=np.sum(replay==tally_df.loc[tally_df.index[t],c])\n",
    "    category['nan']=nan_count\n",
    "    return category"
   ]
  },
  {
   "cell_type": "code",
   "execution_count": 451,
   "id": "3021727c-e6ab-4fea-a72b-82ccc5e76c23",
   "metadata": {},
   "outputs": [],
   "source": [
    "def unravel_replay(replay_list):\n",
    "    replay_df=[]\n",
    "    for t in range(len(replay_list)):\n",
    "        replay_t=replay_list[t]\n",
    "        replay_t_unraveled=[]\n",
    "        for ri in range(len(replay_t)):\n",
    "            for seg in replay_t[ri]:\n",
    "                replay_t_unraveled.append(seg)\n",
    "        replay_df.append(replay_t_unraveled)\n",
    "    return replay_df"
   ]
  },
  {
   "cell_type": "code",
   "execution_count": 460,
   "id": "5716c5a9-3dc0-4f13-ace7-cb8210facd24",
   "metadata": {},
   "outputs": [],
   "source": [
    "def replay_in_categories(nwb_copy_file_name,epoch_num):\n",
    "    # get all replay\n",
    "    key={'nwb_file_name':nwb_copy_file_name,'epoch':epoch_num}\n",
    "    replay_df_all=pd.DataFrame((TrialChoiceReplay & key).fetch1('choice_reward_replay'))\n",
    "\n",
    "    '''HOME replay'''\n",
    "    categories=['current','past','past_reward']\n",
    "        # find trials where categories are distinct arms\n",
    "    behav_df_H=find_tally_df(nwb_file_name,epoch_num,categories)\n",
    "        # get replays on these trials\n",
    "    subset_ind=np.intersect1d(behav_df_H.index,replay_df_all.index)\n",
    "    replay_H=list(replay_df_all.loc[subset_ind,'replay_H'])\n",
    "    replay_df_H=unravel_replay(replay_H)\n",
    "    category_H=count_replay_by_category(replay_df_H,behav_df_H,categories)\n",
    "\n",
    "    '''OUTER replay'''\n",
    "    categories=['future','past','past_reward']\n",
    "        # find trials where categories are distinct arms\n",
    "    behav_df_O=find_tally_df(nwb_file_name,epoch_num,categories)\n",
    "        # get replays on these trials\n",
    "    subset_ind=np.intersect1d(behav_df_O.index,replay_df_all.index)\n",
    "    replay_O=list(replay_df_all.loc[subset_ind,'replay_O'])\n",
    "    replay_df_O=unravel_replay(replay_O)\n",
    "    category_O=count_replay_by_category(replay_df_O,behav_df_O,categories)\n",
    "    \n",
    "    return category_H,category_O"
   ]
  },
  {
   "cell_type": "markdown",
   "id": "60befd6a-e373-43d3-bf47-9fcd903a86df",
   "metadata": {},
   "source": [
    "### Simulate random replay:\n",
    "call ```bootstrap_random()```"
   ]
  },
  {
   "cell_type": "code",
   "execution_count": 453,
   "id": "369c1cf2-7dbc-43fc-bb8c-805111a5104a",
   "metadata": {},
   "outputs": [],
   "source": [
    "def simulate_random_replay(n_category,tally_df,replay_df):\n",
    "    '''\n",
    "    simulate random replay\n",
    "    \n",
    "    INPUT: \n",
    "    n_category: number of categories\n",
    "    tally_df: a dataframe that has corresponence between arm and category\n",
    "    \n",
    "    OUTPUT:\n",
    "    A dictionary of {category: number of replays}\n",
    "    \n",
    "    '''\n",
    "    replay_df_random=[np.random.choice(np.array([1,2,3,4]), # 4 arms\n",
    "                                       len(replay_df[t])) \n",
    "                      for t in range(len(replay_df))]\n",
    "\n",
    "    replay_category=count_replay_by_category(replay_df_random,\n",
    "                                             tally_df,category_names)\n",
    "    return replay_category"
   ]
  },
  {
   "cell_type": "code",
   "execution_count": 454,
   "id": "d4c0d58a-6531-4079-9e83-2d88a1d03703",
   "metadata": {},
   "outputs": [],
   "source": [
    "def bootstrap_random(tally_df,replay_df,category_names,p_value):\n",
    "    '''\n",
    "    RETURNS:\n",
    "    prop_mean: # of category\n",
    "    prop_CI: # of category x 2\n",
    "    '''\n",
    "    n_category=len(category_names)\n",
    "\n",
    "    B=10000\n",
    "    count_boot=np.zeros((B,n_category))\n",
    "    for b in range(B):\n",
    "        replay_category=simulate_random_replay(n_category,tally_df)\n",
    "        for i in range(n_category):\n",
    "            count_boot[b,i]=replay_category[category_names[i]]\n",
    "\n",
    "    # make into proportion\n",
    "    prop_boot=count_boot/np.sum(count_boot,axis=1).reshape((-1,1))\n",
    "    prop_mean=np.mean(prop_boot,axis=0)\n",
    "\n",
    "    prop_CI=np.zeros((n_category,2))\n",
    "    for i in range(n_category):\n",
    "        prop_CI[i,:]=np.quantile(prop_boot[:,i],[p_value,1-p_value])\n",
    "    return prop_mean,prop_CI"
   ]
  },
  {
   "cell_type": "code",
   "execution_count": 455,
   "id": "c44e7181-7f09-4dda-b805-ec810b6734f9",
   "metadata": {},
   "outputs": [],
   "source": [
    "# the only cell to be edited\n",
    "nwb_file_name = 'molly20220418.nwb'"
   ]
  },
  {
   "cell_type": "code",
   "execution_count": 456,
   "id": "33234087-7793-4978-920b-ccd846282754",
   "metadata": {},
   "outputs": [
    {
     "data": {
      "text/html": [
       "\n",
       "    \n",
       "    <style type=\"text/css\">\n",
       "        .Relation{\n",
       "            border-collapse:collapse;\n",
       "        }\n",
       "        .Relation th{\n",
       "            background: #A0A0A0; color: #ffffff; padding:4px; border:#f0e0e0 1px solid;\n",
       "            font-weight: normal; font-family: monospace; font-size: 100%;\n",
       "        }\n",
       "        .Relation td{\n",
       "            padding:4px; border:#f0e0e0 1px solid; font-size:100%;\n",
       "        }\n",
       "        .Relation tr:nth-child(odd){\n",
       "            background: #ffffff;\n",
       "        }\n",
       "        .Relation tr:nth-child(even){\n",
       "            background: #f3f1ff;\n",
       "        }\n",
       "        /* Tooltip container */\n",
       "        .djtooltip {\n",
       "        }\n",
       "        /* Tooltip text */\n",
       "        .djtooltip .djtooltiptext {\n",
       "            visibility: hidden;\n",
       "            width: 120px;\n",
       "            background-color: black;\n",
       "            color: #fff;\n",
       "            text-align: center;\n",
       "            padding: 5px 0;\n",
       "            border-radius: 6px;\n",
       "            /* Position the tooltip text - see examples below! */\n",
       "            position: absolute;\n",
       "            z-index: 1;\n",
       "        }\n",
       "        #primary {\n",
       "            font-weight: bold;\n",
       "            color: black;\n",
       "        }\n",
       "        #nonprimary {\n",
       "            font-weight: normal;\n",
       "            color: white;\n",
       "        }\n",
       "\n",
       "        /* Show the tooltip text when you mouse over the tooltip container */\n",
       "        .djtooltip:hover .djtooltiptext {\n",
       "            visibility: visible;\n",
       "        }\n",
       "    </style>\n",
       "    \n",
       "    <b>trial by trial information of choice</b>\n",
       "        <div style=\"max-height:1000px;max-width:1500px;overflow:auto;\">\n",
       "        <table border=\"1\" class=\"Relation\">\n",
       "            <thead> <tr style=\"text-align: right;\"> <th> <div class=\"djtooltip\">\n",
       "                            <p id=\"primary\">nwb_file_name</p>\n",
       "                            <span class=\"djtooltiptext\">name of the NWB file</span>\n",
       "                        </div></th><th><div class=\"djtooltip\">\n",
       "                            <p id=\"primary\">epoch</p>\n",
       "                            <span class=\"djtooltiptext\">the session epoch for this task and apparatus(1 based)</span>\n",
       "                        </div></th><th><div class=\"djtooltip\">\n",
       "                            <p id=\"nonprimary\">epoch_name</p>\n",
       "                            <span class=\"djtooltiptext\">session name, get from IntervalList</span>\n",
       "                        </div></th><th><div class=\"djtooltip\">\n",
       "                            <p id=\"nonprimary\">choice_reward</p>\n",
       "                            <span class=\"djtooltiptext\">pandas dataframe, choice</span>\n",
       "                        </div> </th> </tr> </thead>\n",
       "            <tbody> <tr> <td>molly20220418_.nwb</td>\n",
       "<td>2</td>\n",
       "<td>02_Seq2Session1</td>\n",
       "<td>=BLOB=</td></tr><tr><td>molly20220418_.nwb</td>\n",
       "<td>4</td>\n",
       "<td>04_Seq2Session2</td>\n",
       "<td>=BLOB=</td></tr><tr><td>molly20220418_.nwb</td>\n",
       "<td>6</td>\n",
       "<td>06_Seq2Session3</td>\n",
       "<td>=BLOB=</td></tr><tr><td>molly20220418_.nwb</td>\n",
       "<td>8</td>\n",
       "<td>08_Seq2Session4</td>\n",
       "<td>=BLOB=</td></tr><tr><td>molly20220418_.nwb</td>\n",
       "<td>10</td>\n",
       "<td>10_Seq2Session5</td>\n",
       "<td>=BLOB=</td> </tr> </tbody>\n",
       "        </table>\n",
       "        \n",
       "        <p>Total: 5</p></div>\n",
       "        "
      ],
      "text/plain": [
       "*nwb_file_name *epoch    epoch_name     choice_rew\n",
       "+------------+ +-------+ +------------+ +--------+\n",
       "molly20220418_ 2         02_Seq2Session =BLOB=    \n",
       "molly20220418_ 4         04_Seq2Session =BLOB=    \n",
       "molly20220418_ 6         06_Seq2Session =BLOB=    \n",
       "molly20220418_ 8         08_Seq2Session =BLOB=    \n",
       "molly20220418_ 10        10_Seq2Session =BLOB=    \n",
       " (Total: 5)"
      ]
     },
     "execution_count": 456,
     "metadata": {},
     "output_type": "execute_result"
    }
   ],
   "source": [
    "nwb_copy_file_name = get_nwb_copy_filename(nwb_file_name)\n",
    "TrialChoice & {'nwb_file_name':nwb_copy_file_name}"
   ]
  },
  {
   "cell_type": "code",
   "execution_count": 196,
   "id": "8d5bcb4a-ce38-4b4b-8adf-d1fa7f17fb07",
   "metadata": {},
   "outputs": [],
   "source": [
    "epochs=(TrialChoice & {'nwb_file_name':nwb_copy_file_name}).fetch('epoch')"
   ]
  },
  {
   "cell_type": "markdown",
   "id": "608554b8-d9c3-45b2-8a46-35592940133a",
   "metadata": {},
   "source": [
    "### test on one session"
   ]
  },
  {
   "cell_type": "markdown",
   "id": "52694570-6fa9-4f19-94f6-5748597e2756",
   "metadata": {},
   "source": [
    "#### 1. subset trials analysis"
   ]
  },
  {
   "cell_type": "code",
   "execution_count": 537,
   "id": "da7beb09-fb1a-46ea-9fd2-e26e01f03cec",
   "metadata": {},
   "outputs": [
    {
     "name": "stdout",
     "output_type": "stream",
     "text": [
      "epoch name 10_Seq2Session5\n",
      "number of valid trials: 33\n",
      "epoch name 10_Seq2Session5\n",
      "number of valid trials: 23\n"
     ]
    }
   ],
   "source": [
    "epoch_num=10\n",
    "category_H,category_O=replay_in_categories(nwb_copy_file_name,epoch_num)"
   ]
  },
  {
   "cell_type": "code",
   "execution_count": 538,
   "id": "b30cdb8e-6b34-41ae-962e-aab74148103a",
   "metadata": {},
   "outputs": [
    {
     "data": {
      "text/plain": [
       "{'current': 5, 'past': 6, 'past_reward': 10, 'nan': 32}"
      ]
     },
     "execution_count": 538,
     "metadata": {},
     "output_type": "execute_result"
    }
   ],
   "source": [
    "category_H"
   ]
  },
  {
   "cell_type": "code",
   "execution_count": 539,
   "id": "0e187793-0f18-448b-8729-f1db8c3af011",
   "metadata": {},
   "outputs": [
    {
     "data": {
      "text/plain": [
       "{'future': 17, 'past': 30, 'past_reward': 14, 'nan': 7}"
      ]
     },
     "execution_count": 539,
     "metadata": {},
     "output_type": "execute_result"
    }
   ],
   "source": [
    "category_O"
   ]
  },
  {
   "cell_type": "markdown",
   "id": "0d8b1b65-6b33-45b6-8b6a-7702c6509173",
   "metadata": {},
   "source": [
    "#### 2. all trials with GLM"
   ]
  },
  {
   "cell_type": "code",
   "execution_count": 585,
   "id": "3812d92c-e29e-4d6f-803e-90d595605137",
   "metadata": {},
   "outputs": [],
   "source": [
    "def GLM_replay(nwb_file_name,epoch_num,replay_location,categories,plot_categories):\n",
    "    '''\n",
    "    replay_location: 'replay_H' or 'replay_O'\n",
    "    '''\n",
    "\n",
    "    nwb_copy_file_name = get_nwb_copy_filename(nwb_file_name)\n",
    "\n",
    "    betas={}\n",
    "\n",
    "    # get all replay\n",
    "    key={'nwb_file_name':nwb_copy_file_name,'epoch':epoch_num}\n",
    "    replay_df_subset=pd.DataFrame((TrialChoiceReplay & key).fetch1('choice_reward_replay'))\n",
    "\n",
    "    # get behavior\n",
    "    behavior_df=get_df_tally(nwb_file_name,epoch_num)\n",
    "\n",
    "    # create regresser matrix\n",
    "    if categories[0]=='home':\n",
    "        y=np.zeros((5*len(replay_df_subset.index),1))\n",
    "        x=np.zeros((5*len(replay_df_subset.index),len(categories)))\n",
    "    else:\n",
    "        y=np.zeros((4*len(replay_df_subset.index),1))\n",
    "        x=np.zeros((4*len(replay_df_subset.index),len(categories)))\n",
    "\n",
    "    for i in range(len(replay_df_subset.index)):\n",
    "        t=replay_df_subset.index[i]\n",
    "        print(t)\n",
    "\n",
    "        replay=np.array(unravel_replay([list(replay_df_subset.loc[t,replay_location])])[0])\n",
    "        print(replay)\n",
    "        if categories[0]=='home':\n",
    "            for a in range(4):\n",
    "                arm=a+1\n",
    "                y[i*5+a+1,0]=np.sum(replay==arm)\n",
    "            for c in range(1,len(categories)):\n",
    "                correponding_arm=behavior_df.loc[t,categories[c]]\n",
    "                if not np.isnan(correponding_arm):\n",
    "                    x[i*5+int(correponding_arm),c]=1\n",
    "            # home\n",
    "            x[i*5,0]=1\n",
    "            y[i*5,0]=np.sum(replay==0)\n",
    "        else:\n",
    "            for a in range(4):\n",
    "                arm=a+1\n",
    "                y[i*4+a,0]=np.sum(replay==arm)\n",
    "            for c in range(len(categories)):\n",
    "                correponding_arm=behavior_df.loc[t,categories[c]]\n",
    "                if not np.isnan(correponding_arm):\n",
    "                    x[i*4+int(correponding_arm)-1,c]=1\n",
    "    \n",
    "            \n",
    "    \n",
    "    # do GLM\n",
    "    x_ = sm.add_constant(x)\n",
    "    glm_poisson = sm.GLM(y,x_,family=sm.families.Poisson())\n",
    "    res = glm_poisson.fit()\n",
    "    CI=res.conf_int(alpha=0.05)\n",
    "    print(res.summary())\n",
    "    \n",
    "    for c in range(len(plot_categories)):\n",
    "        betas[plot_categories[c]]=(np.exp(res.params[c+1]),np.exp(CI[c+1])) #plus one because of the constant term\n",
    "    \n",
    "    return betas,behavior_df,replay_df_subset,x,y"
   ]
  },
  {
   "cell_type": "code",
   "execution_count": 586,
   "id": "186c1123-f811-406b-b015-9bb6860190ca",
   "metadata": {
    "scrolled": true,
    "tags": []
   },
   "outputs": [
    {
     "name": "stdout",
     "output_type": "stream",
     "text": [
      "epoch name 10_Seq2Session5\n",
      "1\n",
      "[ 4.  0.  0.  5. nan  1. nan  5.  2.  0.  5.]\n",
      "4\n",
      "[0 0 0]\n",
      "5\n",
      "[0 0 1 0 0 0]\n",
      "6\n",
      "[0 2 0]\n",
      "7\n",
      "[0 0 0]\n",
      "8\n",
      "[0 0 0 4]\n",
      "9\n",
      "[0 2 0 0]\n",
      "10\n",
      "[ 0.  0.  4. nan  1.]\n",
      "11\n",
      "[0 0 0 0]\n",
      "12\n",
      "[ 0.  0.  0.  2. nan  5.  0.]\n",
      "13\n",
      "[0 1]\n",
      "14\n",
      "[0 0 0 0]\n",
      "15\n",
      "[]\n",
      "16\n",
      "[nan  0.  1.  1.  0.]\n",
      "17\n",
      "[0]\n",
      "18\n",
      "[0 0 0]\n",
      "19\n",
      "[]\n",
      "20\n",
      "[ 0. nan  1.  0.]\n",
      "21\n",
      "[ 0.  0.  2.  0. nan  5.  0.]\n",
      "22\n",
      "[5]\n",
      "23\n",
      "[ 0.  0.  0.  0. nan  5.  0.]\n",
      "24\n",
      "[ 0.  3.  1. nan  4.  0.  0.]\n",
      "25\n",
      "[]\n",
      "26\n",
      "[0]\n",
      "27\n",
      "[nan]\n",
      "28\n",
      "[0 0 1]\n",
      "29\n",
      "[]\n",
      "30\n",
      "[ 3. nan  0.]\n",
      "31\n",
      "[ 0.  0.  0.  0. nan  0.  0.]\n",
      "32\n",
      "[0 2 1 0 0]\n",
      "33\n",
      "[ 0.  0.  0.  4. nan  5.  0.  0.  0.  1.  0.  0.  0.  0.  0.]\n",
      "34\n",
      "[0 1]\n",
      "35\n",
      "[0 0 0]\n",
      "36\n",
      "[ 0.  0.  0. nan  0.  5.  0.  0.]\n",
      "37\n",
      "[0 0 0 0]\n",
      "38\n",
      "[ 2.  0.  0.  3.  1. nan  0.]\n",
      "39\n",
      "[ 0.  0. nan  2.  0. nan  5. nan  0.  0.  0.]\n",
      "40\n",
      "[nan  0.  0.  4. nan  1.]\n",
      "41\n",
      "[ 0.  0.  0.  0.  0. nan  0.  5. nan  0.]\n",
      "42\n",
      "[3 0 0 0 0 3]\n",
      "43\n",
      "[1 5]\n",
      "44\n",
      "[ 0.  5. nan  5.  0. nan  5.  0.]\n",
      "45\n",
      "[0 2]\n",
      "46\n",
      "[0 0 0 0 0]\n",
      "47\n",
      "[ 0.  1. nan  5. nan  0.  0.]\n",
      "48\n",
      "[0 2 0]\n",
      "49\n",
      "[0 0 4 0]\n",
      "50\n",
      "[ 0. nan  1. nan  2.  2.  2.]\n",
      "51\n",
      "[ 0.  4. nan  1.  1.  5.  0.  0.]\n",
      "52\n",
      "[0 0 2 1 0]\n",
      "53\n",
      "[ 0.  0.  3.  0.  2. nan  0.]\n",
      "54\n",
      "[ 0.  0. nan  0.  1.  0.  0.  0.]\n",
      "55\n",
      "[ 2.  5.  0.  0.  5.  0.  0. nan  0.  0. nan nan]\n",
      "56\n",
      "[ 0. nan  0.]\n",
      "57\n",
      "[ 0. nan  5.  2. nan  0. nan  5. nan  0.  0.  0.  0. nan nan]\n",
      "58\n",
      "[ 0.  3.  5.  0.  0.  5.  0. nan]\n",
      "59\n",
      "[ 2.  0.  1. nan  0.  0.  0.]\n",
      "60\n",
      "[ 0.  1.  0. nan  0. nan nan  0.]\n",
      "61\n",
      "[ 0.  0.  1.  0.  0. nan  0.  0.  3.  5. nan  5.  0.  5.  5.  0.]\n",
      "62\n",
      "[0 0 0 0]\n",
      "63\n",
      "[2 2 0 0]\n",
      "64\n",
      "[1]\n",
      "65\n",
      "[ 0.  1.  1. nan  5. nan  3. nan  0.]\n",
      "66\n",
      "[0 1 5 0 0]\n",
      "67\n",
      "[0 0]\n",
      "70\n",
      "[ 0. nan  0.  2.  5.  0.]\n",
      "71\n",
      "[ 0.  1.  5.  5.  0. nan  4.  5.  5. nan  0.  0. nan  1.  0.]\n",
      "72\n",
      "[0 1 3 0 0]\n",
      "73\n",
      "[0 3 2 0 0 0 0]\n",
      "74\n",
      "[ 0.  0. nan  0.  0.  0.]\n",
      "75\n",
      "[ 0.  0.  0. nan  5.  0.  0.  5.  0.  5.  0.  1.]\n",
      "76\n",
      "[ 0.  0. nan  0.]\n",
      "77\n",
      "[ 0.  0.  0. nan  0.  0. nan  0.  2. nan  1.  5.  0.  0. nan  0.]\n",
      "78\n",
      "[0 0 0 0 0 0]\n",
      "79\n",
      "[0 0 0 2]\n",
      "80\n",
      "[0 1 5 4 0 0 0 0]\n",
      "81\n",
      "[ 0.  0.  0.  1. nan  5. nan  5. nan nan  0.  0.]\n",
      "                 Generalized Linear Model Regression Results                  \n",
      "==============================================================================\n",
      "Dep. Variable:                      y   No. Observations:                  308\n",
      "Model:                            GLM   Df Residuals:                      304\n",
      "Model Family:                 Poisson   Df Model:                            3\n",
      "Link Function:                    Log   Scale:                          1.0000\n",
      "Method:                          IRLS   Log-Likelihood:                -181.80\n",
      "Date:                Sat, 09 Jul 2022   Deviance:                       214.92\n",
      "Time:                        10:10:33   Pearson chi2:                     284.\n",
      "No. Iterations:                     5   Pseudo R-squ. (CS):            0.07495\n",
      "Covariance Type:            nonrobust                                         \n",
      "==============================================================================\n",
      "                 coef    std err          z      P>|z|      [0.025      0.975]\n",
      "------------------------------------------------------------------------------\n",
      "const         -1.1427      0.156     -7.302      0.000      -1.449      -0.836\n",
      "x1             0.1726      0.241      0.715      0.474      -0.300       0.645\n",
      "x2            -1.6514      0.535     -3.089      0.002      -2.699      -0.604\n",
      "x3            -0.2834      0.357     -0.793      0.428      -0.984       0.417\n",
      "==============================================================================\n"
     ]
    }
   ],
   "source": [
    "categories=['current','past','past_reward']\n",
    "plot_categories=['future','past','past_reward']\n",
    "replay_location='replay_H'\n",
    "betas,behavior_df,replay_df_subset,x,y=GLM_replay(nwb_file_name,epoch_num,replay_location,categories,plot_categories)"
   ]
  },
  {
   "cell_type": "code",
   "execution_count": null,
   "id": "974787d0-2e4f-4029-babd-7293cca07aa8",
   "metadata": {},
   "outputs": [],
   "source": []
  },
  {
   "cell_type": "code",
   "execution_count": null,
   "id": "f8afcd8f-38ed-4ce3-9bc3-8dc65ce4b922",
   "metadata": {},
   "outputs": [],
   "source": []
  },
  {
   "cell_type": "code",
   "execution_count": null,
   "id": "c814e4b5-16d4-4e3f-985f-ccc7498801a2",
   "metadata": {},
   "outputs": [],
   "source": []
  },
  {
   "cell_type": "code",
   "execution_count": 578,
   "id": "96c67338-ac7b-4d1e-ba2a-7bec19020f23",
   "metadata": {},
   "outputs": [
    {
     "data": {
      "text/plain": [
       "75"
      ]
     },
     "execution_count": 578,
     "metadata": {},
     "output_type": "execute_result"
    }
   ],
   "source": [
    "replay_df_subset.index[70]"
   ]
  },
  {
   "cell_type": "code",
   "execution_count": 587,
   "id": "23435905-4907-4b95-8126-9766a9a59e8a",
   "metadata": {},
   "outputs": [
    {
     "data": {
      "text/plain": [
       "[[0], [0], array([ 0., nan,  5.,  0.]), [0, 5], [0, 5], [0], [1]]"
      ]
     },
     "execution_count": 587,
     "metadata": {},
     "output_type": "execute_result"
    }
   ],
   "source": [
    "replay_df_subset.loc[75,'replay_H']"
   ]
  },
  {
   "cell_type": "code",
   "execution_count": 548,
   "id": "99a3bb19-eb09-4023-bd39-2ad7907be94b",
   "metadata": {},
   "outputs": [
    {
     "name": "stdout",
     "output_type": "stream",
     "text": [
      "epoch name 10_Seq2Session5\n",
      "                 Generalized Linear Model Regression Results                  \n",
      "==============================================================================\n",
      "Dep. Variable:                      y   No. Observations:                  308\n",
      "Model:                            GLM   Df Residuals:                      304\n",
      "Model Family:                 Poisson   Df Model:                            3\n",
      "Link Function:                    Log   Scale:                          1.0000\n",
      "Method:                          IRLS   Log-Likelihood:                -181.80\n",
      "Date:                Sat, 09 Jul 2022   Deviance:                       214.92\n",
      "Time:                        09:40:58   Pearson chi2:                     284.\n",
      "No. Iterations:                     5   Pseudo R-squ. (CS):            0.07495\n",
      "Covariance Type:            nonrobust                                         \n",
      "==============================================================================\n",
      "                 coef    std err          z      P>|z|      [0.025      0.975]\n",
      "------------------------------------------------------------------------------\n",
      "const         -1.1427      0.156     -7.302      0.000      -1.449      -0.836\n",
      "x1             0.1726      0.241      0.715      0.474      -0.300       0.645\n",
      "x2            -1.6514      0.535     -3.089      0.002      -2.699      -0.604\n",
      "x3            -0.2834      0.357     -0.793      0.428      -0.984       0.417\n",
      "==============================================================================\n",
      "epoch name 10_Seq2Session5\n",
      "                 Generalized Linear Model Regression Results                  \n",
      "==============================================================================\n",
      "Dep. Variable:                      y   No. Observations:                  385\n",
      "Model:                            GLM   Df Residuals:                      380\n",
      "Model Family:                 Poisson   Df Model:                            4\n",
      "Link Function:                    Log   Scale:                          1.0000\n",
      "Method:                          IRLS   Log-Likelihood:                -617.18\n",
      "Date:                Sat, 09 Jul 2022   Deviance:                       962.90\n",
      "Time:                        09:40:58   Pearson chi2:                 1.77e+03\n",
      "No. Iterations:                     7   Pseudo R-squ. (CS):             0.7878\n",
      "Covariance Type:            nonrobust                                         \n",
      "==============================================================================\n",
      "                 coef    std err          z      P>|z|      [0.025      0.975]\n",
      "------------------------------------------------------------------------------\n",
      "const          1.0120      0.052     19.511      0.000       0.910       1.114\n",
      "x1            -2.5104      0.248    -10.122      0.000      -2.997      -2.024\n",
      "x2            -3.1038      0.357     -8.687      0.000      -3.804      -2.404\n",
      "x3            -3.4445      0.581     -5.932      0.000      -4.583      -2.306\n",
      "x4            -2.6163      0.451     -5.802      0.000      -3.500      -1.732\n",
      "==============================================================================\n"
     ]
    }
   ],
   "source": [
    "categories=['current','past','past_reward']\n",
    "plot_categories=['future','past','past_reward']\n",
    "replay_location='replay_H'\n",
    "betas_H=GLM_replay(nwb_file_name,epoch_num,replay_location,categories,plot_categories)\n",
    "\n",
    "categories=['home','future','past','past_reward']\n",
    "plot_categories=['home','future arm','past','past_reward']\n",
    "replay_location='replay_O'\n",
    "betas_O=GLM_replay(nwb_file_name,epoch_num,replay_location,categories,plot_categories)\n"
   ]
  },
  {
   "cell_type": "code",
   "execution_count": 549,
   "id": "fa3b1eda-85de-4b39-a17f-25c074235d89",
   "metadata": {},
   "outputs": [
    {
     "data": {
      "text/plain": [
       "{'future': (1.1883664016914461, array([0.74057  , 1.9069294])),\n",
       " 'past': (0.1917847236961159, array([0.06726501, 0.54681294])),\n",
       " 'past_reward': (0.7532026138897236, array([0.3738215 , 1.51760713]))}"
      ]
     },
     "execution_count": 549,
     "metadata": {},
     "output_type": "execute_result"
    }
   ],
   "source": [
    "betas_H"
   ]
  },
  {
   "cell_type": "code",
   "execution_count": 550,
   "id": "af4316e5-cfd5-4b32-a145-902345b7d18c",
   "metadata": {},
   "outputs": [
    {
     "data": {
      "text/plain": [
       "{'home': (0.08123214354739493, array([0.04995985, 0.13207928])),\n",
       " 'future arm': (0.04487924818613003, array([0.02228033, 0.09040023])),\n",
       " 'past': (0.031921681624947226, array([0.01022826, 0.09962529])),\n",
       " 'past_reward': (0.0730745795572615, array([0.03019477, 0.17684833]))}"
      ]
     },
     "execution_count": 550,
     "metadata": {},
     "output_type": "execute_result"
    }
   ],
   "source": [
    "betas_O"
   ]
  },
  {
   "cell_type": "code",
   "execution_count": null,
   "id": "9ca7334b-94c9-4899-8a15-72e5eb746149",
   "metadata": {},
   "outputs": [],
   "source": [
    "'''simulate random'''"
   ]
  },
  {
   "cell_type": "code",
   "execution_count": 134,
   "id": "64d352f0-4cfc-4449-9e69-60c3890fda04",
   "metadata": {},
   "outputs": [],
   "source": [
    "def bootstrap_random_session(epoch_num):\n",
    "    tally_df=find_tally_df(nwb_file_name,epoch_num,category_names)\n",
    "    p_value=0.025\n",
    "    prop_mean,prop_CI=bootstrap_random(tally_df,category_names,p_value)\n",
    "    return prop_mean,prop_CI"
   ]
  },
  {
   "cell_type": "code",
   "execution_count": 154,
   "id": "b9c66c45-5cae-47e3-8d13-4a09a7e7f0be",
   "metadata": {},
   "outputs": [
    {
     "name": "stderr",
     "output_type": "stream",
     "text": [
      "/home/shijiegu/anaconda3/envs/spyglass/lib/python3.8/site-packages/datajoint/connection.py:341: UserWarning: MySQL server has gone away. Reconnecting to the server.\n",
      "  warnings.warn(\"MySQL server has gone away. Reconnecting to the server.\")\n",
      "/home/shijiegu/anaconda3/envs/spyglass/lib/python3.8/site-packages/datajoint/connection.py:341: UserWarning: MySQL server has gone away. Reconnecting to the server.\n",
      "  warnings.warn(\"MySQL server has gone away. Reconnecting to the server.\")\n",
      "/home/shijiegu/anaconda3/envs/spyglass/lib/python3.8/site-packages/datajoint/connection.py:341: UserWarning: MySQL server has gone away. Reconnecting to the server.\n",
      "  warnings.warn(\"MySQL server has gone away. Reconnecting to the server.\")\n",
      "/home/shijiegu/anaconda3/envs/spyglass/lib/python3.8/site-packages/datajoint/connection.py:341: UserWarning: MySQL server has gone away. Reconnecting to the server.\n",
      "  warnings.warn(\"MySQL server has gone away. Reconnecting to the server.\")\n",
      "/home/shijiegu/anaconda3/envs/spyglass/lib/python3.8/site-packages/datajoint/connection.py:341: UserWarning: MySQL server has gone away. Reconnecting to the server.\n",
      "  warnings.warn(\"MySQL server has gone away. Reconnecting to the server.\")\n"
     ]
    },
    {
     "name": "stdout",
     "output_type": "stream",
     "text": [
      "epoch name epoch nameepoch name08_Seq2Session4 \n",
      "06_Seq2Session3epoch name 04_Seq2Session2 \n",
      "\n",
      "epoch name 10_Seq2Session502_Seq2Session1number of valid trials: 19\n",
      "number of valid trials: 21\n",
      "\n",
      "\n",
      "number of valid trials: 11number of valid trials: 16\n",
      "\n",
      "number of valid trials: 15\n"
     ]
    }
   ],
   "source": [
    "category_names=['current','future','past','past_reward']\n",
    "\n",
    "with multiprocessing.Pool(5) as p:\n",
    "    results=p.map(bootstrap_random_session,[s for s in epochs])"
   ]
  },
  {
   "cell_type": "code",
   "execution_count": 180,
   "id": "e1dc0a29-b6fc-4415-95bb-ea90af7afe8e",
   "metadata": {},
   "outputs": [],
   "source": [
    "mean_random=np.concatenate([results[i][0].reshape((1,-1)) \n",
    "                            for i in range(len(results))],axis=0) # session by n_category\n",
    "std_down_random=np.concatenate([results[i][1][:,0].reshape((1,-1)) \n",
    "                            for i in range(len(results))],axis=0) # session by n_category\n",
    "std_up_random=np.concatenate([results[i][1][:,1].reshape((1,-1)) \n",
    "                            for i in range(len(results))],axis=0) # session by n_category"
   ]
  },
  {
   "cell_type": "code",
   "execution_count": 185,
   "id": "821dca62-8a2d-4671-b026-1a383af4b600",
   "metadata": {},
   "outputs": [
    {
     "data": {
      "image/png": "[encoded data removed]",
      "text/plain": [
       "<Figure size 864x864 with 4 Axes>"
      ]
     },
     "metadata": {
      "needs_background": "light"
     },
     "output_type": "display_data"
    }
   ],
   "source": [
    "fig,axes=plt.subplots(len(category_names),1,figsize=(12, 12))\n",
    "for c in range(len(category_names)):\n",
    "    # plot random mean\n",
    "    axes[c].plot(mean_random[:,c],'-k',linewidth=0.5,label='random')\n",
    "    #axes[c].plot(,'*',color='C0')\n",
    "    \n",
    "    axes[c].fill_between(np.arange(len(std_up_random)),\n",
    "                         std_up_random[:,c],std_down_random[:,c],facecolor='C9', alpha=0.3,label='bootstrapped 95 CI interval')\n",
    "    significant_ind=np.argwhere(np.logical_or(\n",
    "        mean_random[:,c]>(std_up_random[:,c]),\n",
    "        mean_random[:,c]<(std_down_random[:,c])))\n",
    "    #significant_ind=np.argwhere(np.logical_or(\n",
    "    #    mean_data[:,c]>(std_up_random[:,c]),\n",
    "    #    mean_data[:,c]<(std_down_random[:,c]))\n",
    "    axes[c].plot(significant_ind,np.ones_like(significant_ind),'+',color='k')\n",
    "        \n",
    "    axes[c].set_position([0.06,1-(c+1)*0.12-0.05,0.5,0.08])\n",
    "    axes[c].legend(fontsize=12,bbox_to_anchor=(1.05, 1.2))\n",
    "    \n",
    "    axes[c].set_xticks(np.arange(len(mean_random[:,c])));\n",
    "    axes[c].set_xticklabels('',fontsize=16);\n",
    "    axes[c].set_title(category_names[c],fontsize=20)\n",
    "    \n",
    "#plt.savefig(os.path.join(figurefolder,'C_Markovianess_'+animal+'.png'),bbox_inches='tight',dpi=500)\n",
    "    "
   ]
  },
  {
   "cell_type": "code",
   "execution_count": 117,
   "id": "52f92e7e-6b2e-4e06-a12a-46b9cecf17f7",
   "metadata": {},
   "outputs": [],
   "source": []
  },
  {
   "cell_type": "code",
   "execution_count": null,
   "id": "7b9a9918-3505-4db4-a52f-fa283c7390c9",
   "metadata": {},
   "outputs": [],
   "source": []
  },
  {
   "cell_type": "code",
   "execution_count": null,
   "id": "47004a47-d104-4d1f-8468-55cda963e2c7",
   "metadata": {},
   "outputs": [],
   "source": []
  }
 ],
 "metadata": {
  "kernelspec": {
   "display_name": "Python 3 (ipykernel)",
   "language": "python",
   "name": "python3"
  },
  "language_info": {
   "codemirror_mode": {
    "name": "ipython",
    "version": 3
   },
   "file_extension": ".py",
   "mimetype": "text/x-python",
   "name": "python",
   "nbconvert_exporter": "python",
   "pygments_lexer": "ipython3",
   "version": "3.9.18"
  }
 },
 "nbformat": 4,
 "nbformat_minor": 5
}
