{
 "cells": [
  {
   "cell_type": "code",
   "execution_count": 11,
   "id": "50deae24-e2bf-462a-a7ea-6c81216d148b",
   "metadata": {},
   "outputs": [],
   "source": [
    "from spyglass import tmp"
   ]
  },
  {
   "cell_type": "code",
   "execution_count": 17,
   "id": "5e24c543-4076-4a26-83f2-a0c01d2bcdda",
   "metadata": {},
   "outputs": [
    {
     "name": "stdout",
     "output_type": "stream",
     "text": [
      "[2025-06-12 07:10:44,691][INFO]: DataJoint 0.14.4 connected to shijiegu-alt@lmf-db.cin.ucsf.edu:3306\n"
     ]
    }
   ],
   "source": [
    "!python tmp.py"
   ]
  },
  {
   "cell_type": "code",
   "execution_count": null,
   "id": "f275bef3-29cc-434f-b282-92e2fd252f6b",
   "metadata": {},
   "outputs": [],
   "source": []
  }
 ],
 "metadata": {
  "kernelspec": {
   "display_name": "Python 3 (ipykernel)",
   "language": "python",
   "name": "python3"
  },
  "language_info": {
   "codemirror_mode": {
    "name": "ipython",
    "version": 3
   },
   "file_extension": ".py",
   "mimetype": "text/x-python",
   "name": "python",
   "nbconvert_exporter": "python",
   "pygments_lexer": "ipython3",
   "version": "3.7.12"
  }
 },
 "nbformat": 4,
 "nbformat_minor": 5
}
